{
 "cells": [
  {
   "cell_type": "markdown",
   "id": "91129cb1",
   "metadata": {},
   "source": [
    "# LimberJack Target Practice"
   ]
  },
  {
   "cell_type": "markdown",
   "id": "97121235",
   "metadata": {},
   "source": [
    "## Model"
   ]
  },
  {
   "cell_type": "code",
   "execution_count": 1,
   "id": "25466c59",
   "metadata": {},
   "outputs": [
    {
     "name": "stderr",
     "output_type": "stream",
     "text": [
      "\u001b[32m\u001b[1m  Activating\u001b[22m\u001b[39m project at `~/Glamdring/MicroCanonicalHMC.jl`\n"
     ]
    }
   ],
   "source": [
    "] activate \".\""
   ]
  },
  {
   "cell_type": "code",
   "execution_count": 2,
   "id": "baed58e3",
   "metadata": {
    "scrolled": false
   },
   "outputs": [
    {
     "ename": "LoadError",
     "evalue": "InitError: InterruptException:\nduring initialization of module PkgREPL",
     "output_type": "error",
     "traceback": [
      "InitError: InterruptException:\nduring initialization of module PkgREPL",
      "",
      "Stacktrace:",
      "  [1] parse(stream::IOBuffer, block::Markdown.MD, config::Markdown.Config; breaking::Bool)",
      "    @ Markdown ~/.julia/juliaup/julia-1.9.0-rc1+0.x64.linux.gnu/share/julia/stdlib/v1.9/Markdown/src/parse/parse.jl:83",
      "  [2] parse",
      "    @ ~/.julia/juliaup/julia-1.9.0-rc1+0.x64.linux.gnu/share/julia/stdlib/v1.9/Markdown/src/parse/parse.jl:79 [inlined]",
      "  [3] parse(stream::IOBuffer; flavor::Markdown.Config)",
      "    @ Markdown ~/.julia/juliaup/julia-1.9.0-rc1+0.x64.linux.gnu/share/julia/stdlib/v1.9/Markdown/src/parse/parse.jl:94",
      "  [4] parse",
      "    @ ~/.julia/juliaup/julia-1.9.0-rc1+0.x64.linux.gnu/share/julia/stdlib/v1.9/Markdown/src/parse/parse.jl:91 [inlined]",
      "  [5] #parse#175",
      "    @ ~/.julia/juliaup/julia-1.9.0-rc1+0.x64.linux.gnu/share/julia/stdlib/v1.9/Markdown/src/Markdown.jl:31 [inlined]",
      "  [6] parse",
      "    @ ~/.julia/juliaup/julia-1.9.0-rc1+0.x64.linux.gnu/share/julia/stdlib/v1.9/Markdown/src/Markdown.jl:31 [inlined]",
      "  [7] gen_help()",
      "    @ Pkg.REPLMode ~/.julia/juliaup/julia-1.9.0-rc1+0.x64.linux.gnu/share/julia/stdlib/v1.9/Pkg/src/REPLMode/REPLMode.jl:658",
      "  [8] __init__()",
      "    @ CondaPkg.PkgREPL ~/.julia/packages/CondaPkg/j2Cct/src/PkgREPL.jl:377",
      "  [9] register_restored_modules(sv::Core.SimpleVector, pkg::Base.PkgId, path::String)",
      "    @ Base ./loading.jl:1074",
      " [10] _include_from_serialized(pkg::Base.PkgId, path::String, ocachepath::String, depmods::Vector{Any})",
      "    @ Base ./loading.jl:1020",
      " [11] _tryrequire_from_serialized(modkey::Base.PkgId, path::String, ocachepath::String, sourcepath::String, depmods::Vector{Any})",
      "    @ Base ./loading.jl:1350",
      " [12] _require_search_from_serialized(pkg::Base.PkgId, sourcepath::String, build_id::UInt128)",
      "    @ Base ./loading.jl:1453",
      " [13] _require(pkg::Base.PkgId, env::String)",
      "    @ Base ./loading.jl:1742",
      " [14] _require_prelocked(uuidkey::Base.PkgId, env::String)",
      "    @ Base ./loading.jl:1619",
      " [15] macro expansion",
      "    @ ./loading.jl:1607 [inlined]",
      " [16] macro expansion",
      "    @ ./lock.jl:267 [inlined]",
      " [17] require(into::Module, mod::Symbol)",
      "    @ Base ./loading.jl:1570"
     ]
    }
   ],
   "source": [
    "using LinearAlgebra\n",
    "using Turing\n",
    "using LimberJack\n",
    "using DataFrames\n",
    "using CSV\n",
    "using YAML\n",
    "using NPZ\n",
    "using PythonCall\n",
    "sacc = pyimport(\"sacc\");\n",
    "\n",
    "using Plots\n",
    "\n",
    "using Revise\n",
    "using MicroCanonicalHMC"
   ]
  },
  {
   "cell_type": "code",
   "execution_count": 3,
   "id": "03da8107",
   "metadata": {},
   "outputs": [
    {
     "ename": "LoadError",
     "evalue": "UndefVarError: `sacc` not defined",
     "output_type": "error",
     "traceback": [
      "UndefVarError: `sacc` not defined",
      "",
      "Stacktrace:",
      " [1] top-level scope",
      "   @ In[3]:3"
     ]
    }
   ],
   "source": [
    "sacc_path = \"/home/jaimerz/PhD/LimberJack.jl/data/FD/cls_FD_covG.fits\"\n",
    "yaml_path = \"/home/jaimerz/PhD/LimberJack.jl/data/DECALS/DECALS.yml\"\n",
    "sacc_file = sacc.Sacc().load_fits(sacc_path)\n",
    "yaml_file = YAML.load_file(yaml_path)\n",
    "DECALS_meta, DECALS_files = make_data(sacc_file, yaml_file)\n",
    "\n",
    "DECALS_data = DECALS_meta.data\n",
    "DECALS_cov = DECALS_meta.cov;"
   ]
  },
  {
   "cell_type": "code",
   "execution_count": 4,
   "id": "a7d6f81c",
   "metadata": {},
   "outputs": [
    {
     "data": {
      "text/plain": [
       "DECALS_model (generic function with 2 methods)"
      ]
     },
     "execution_count": 4,
     "metadata": {},
     "output_type": "execute_result"
    }
   ],
   "source": [
    "@model function DECALS_model(data)\n",
    "    #KiDS priors\n",
    "    Ωm ~ Uniform(0.2, 0.6)\n",
    "    Ωb ~ Uniform(0.028, 0.065)\n",
    "    h ~ TruncatedNormal(72, 5, 0.64, 0.82)\n",
    "    s8 ~ Uniform(0.4, 1.2)\n",
    "    ns ~ Uniform(0.84, 1.1)\n",
    "\n",
    "    DECALS__0_b ~ Uniform(0.8, 3.0)\n",
    "    DECALS__1_b ~ Uniform(0.8, 3.0)\n",
    "    DECALS__2_b ~ Uniform(0.8, 3.0)\n",
    "    DECALS__3_b ~ Uniform(0.8, 3.0)\n",
    "    DECALS__0_dz ~ TruncatedNormal(0.0, 0.007, -0.2, 0.2)\n",
    "    DECALS__1_dz ~ TruncatedNormal(0.0, 0.007, -0.2, 0.2)\n",
    "    DECALS__2_dz ~ TruncatedNormal(0.0, 0.006, -0.2, 0.2)\n",
    "    DECALS__3_dz ~ TruncatedNormal(0.0, 0.01, -0.2, 0.2)\n",
    "\n",
    "    nuisances = Dict(\"DECALS__0_b\" => DECALS__0_b,\n",
    "                     \"DECALS__1_b\" => DECALS__1_b,\n",
    "                     \"DECALS__2_b\" => DECALS__2_b,\n",
    "                     \"DECALS__3_b\" => DECALS__3_b,\n",
    "                     \"DECALS__0_dz\" => DECALS__0_dz,\n",
    "                     \"DECALS__1_dz\" => DECALS__1_dz,\n",
    "                     \"DECALS__2_dz\" => DECALS__2_dz,\n",
    "                     \"DECALS__3_dz\" => DECALS__3_dz)\n",
    "\n",
    "    cosmology = Cosmology(Ωm, Ωb, h, ns, s8,\n",
    "                          tk_mode=\"EisHu\",\n",
    "                          Pk_mode=\"Halofit\")\n",
    "\n",
    "    theory = Theory(cosmology, DECALS_meta, DECALS_files; Nuisances=nuisances)\n",
    "    data ~ MvNormal(theory, DECALS_cov)\n",
    "end"
   ]
  },
  {
   "cell_type": "code",
   "execution_count": 5,
   "id": "b4a45852",
   "metadata": {},
   "outputs": [
    {
     "ename": "LoadError",
     "evalue": "UndefVarError: `DECALS_data` not defined",
     "output_type": "error",
     "traceback": [
      "UndefVarError: `DECALS_data` not defined",
      "",
      "Stacktrace:",
      " [1] top-level scope",
      "   @ In[5]:1"
     ]
    }
   ],
   "source": [
    "DECALS_model_cond = DECALS_model(DECALS_data)\n",
    "DECALS_target = TuringTarget(DECALS_model_cond);"
   ]
  },
  {
   "cell_type": "code",
   "execution_count": 6,
   "id": "0409667f",
   "metadata": {},
   "outputs": [
    {
     "ename": "LoadError",
     "evalue": "UndefVarError: `sacc` not defined",
     "output_type": "error",
     "traceback": [
      "UndefVarError: `sacc` not defined",
      "",
      "Stacktrace:",
      " [1] top-level scope",
      "   @ In[6]:3"
     ]
    }
   ],
   "source": [
    "sacc_path = \"/home/jaimerz/PhD/LimberJack.jl/data/FD/cls_FD_covG.fits\"\n",
    "yaml_path = \"/home/jaimerz/PhD/LimberJack.jl/data/DESY1/DESY1.yml\"\n",
    "sacc_file = sacc.Sacc().load_fits(sacc_path)\n",
    "yaml_file = YAML.load_file(yaml_path)\n",
    "DES_meta, DES_files = make_data(sacc_file, yaml_file)\n",
    "\n",
    "DES_data = DES_meta.data\n",
    "DES_cov = DES_meta.cov;"
   ]
  },
  {
   "cell_type": "code",
   "execution_count": 7,
   "id": "69281675",
   "metadata": {},
   "outputs": [
    {
     "ename": "LoadError",
     "evalue": "UndefVarError: `Cosmology` not defined",
     "output_type": "error",
     "traceback": [
      "UndefVarError: `Cosmology` not defined",
      "",
      "Stacktrace:",
      " [1] top-level scope",
      "   @ In[7]:1"
     ]
    }
   ],
   "source": [
    "fid_cosmology = Cosmology(0.3, 0.05, 0.7, 0.96, 0.8)\n",
    "fid_nuisances = Dict(\"DESgc__0_b\" => 1.2,\n",
    "                 \"DESgc__1_b\" => 1.4,\n",
    "                 \"DESgc__2_b\" => 1.6,\n",
    "                 \"DESgc__3_b\" => 1.8,\n",
    "                 \"DESgc__4_b\" => 2.0)\n",
    "fake_DES_data = Theory(fid_cosmology, DES_meta, DES_files; Nuisances=fid_nuisances)"
   ]
  },
  {
   "cell_type": "code",
   "execution_count": 8,
   "id": "350e6fda",
   "metadata": {},
   "outputs": [
    {
     "data": {
      "text/plain": [
       "DES_model (generic function with 2 methods)"
      ]
     },
     "execution_count": 8,
     "metadata": {},
     "output_type": "execute_result"
    }
   ],
   "source": [
    "@model function DES_model(data)\n",
    "    #KiDS priors\n",
    "    Ωm ~ Uniform(0.2, 0.6)\n",
    "    Ωb ~ Uniform(0.028, 0.065)\n",
    "    h ~ TruncatedNormal(72, 5, 0.64, 0.82)\n",
    "    s8 ~ Uniform(0.4, 1.2)\n",
    "    ns ~ Uniform(0.84, 1.1)\n",
    "\n",
    "    DESgc__0_b ~ Uniform(0.8, 3.0)\n",
    "    DESgc__1_b ~ Uniform(0.8, 3.0)\n",
    "    DESgc__2_b ~ Uniform(0.8, 3.0)\n",
    "    DESgc__3_b ~ Uniform(0.8, 3.0)\n",
    "    DESgc__4_b ~ Uniform(0.8, 3.0)\n",
    "    #DESgc__0_dz ~ TruncatedNormal(0.0, 0.007, -0.2, 0.2)\n",
    "    #DESgc__1_dz ~ TruncatedNormal(0.0, 0.007, -0.2, 0.2)\n",
    "    #DESgc__2_dz ~ TruncatedNormal(0.0, 0.006, -0.2, 0.2)\n",
    "    #DESgc__3_dz ~ TruncatedNormal(0.0, 0.01, -0.2, 0.2)\n",
    "    #DESgc__4_dz ~ TruncatedNormal(0.0, 0.01, -0.2, 0.2)\n",
    "    #DESwl__0_dz ~ TruncatedNormal(-0.001, 0.016, -0.2, 0.2)\n",
    "    #DESwl__1_dz ~ TruncatedNormal(-0.019, 0.013, -0.2, 0.2)\n",
    "    #DESwl__2_dz ~ TruncatedNormal(0.009, 0.011, -0.2, 0.2)\n",
    "    #DESwl__3_dz ~ TruncatedNormal(-0.018, 0.022, -0.2, 0.2)\n",
    "    #DESwl__0_m ~ Normal(0.012, 0.023)\n",
    "    #DESwl__1_m ~ Normal(0.012, 0.023)\n",
    "    #DESwl__2_m ~ Normal(0.012, 0.023)\n",
    "    #DESwl__3_m ~ Normal(0.012, 0.023)\n",
    "    #A_IA ~ Uniform(-5, 5) \n",
    "    #alpha_IA ~ Uniform(-5, 5)\n",
    "\n",
    "    nuisances = Dict(\"DESgc__0_b\" => DESgc__0_b,\n",
    "                     \"DESgc__1_b\" => DESgc__1_b,\n",
    "                     \"DESgc__2_b\" => DESgc__2_b,\n",
    "                     \"DESgc__3_b\" => DESgc__3_b,\n",
    "                     \"DESgc__4_b\" => DESgc__4_b,\n",
    "                     #\"DESgc__0_dz\" => DESgc__0_dz,\n",
    "                     #\"DESgc__1_dz\" => DESgc__1_dz,\n",
    "                     #\"DESgc__2_dz\" => DESgc__2_dz,\n",
    "                     #\"DESgc__3_dz\" => DESgc__3_dz,\n",
    "                     #\"DESgc__4_dz\" => DESgc__4_dz,\n",
    "                     #\"DESwl__0_dz\" => DESwl__0_dz,\n",
    "                     #\"DESwl__1_dz\" => DESwl__1_dz,\n",
    "                     #\"DESwl__2_dz\" => DESwl__2_dz,\n",
    "                     #\"DESwl__3_dz\" => DESwl__3_dz,\n",
    "                     #\"DESwl__0_m\" => DESwl__0_m,\n",
    "                     #\"DESwl__1_m\" => DESwl__1_m,\n",
    "                     #\"DESwl__2_m\" => DESwl__2_m,\n",
    "                     #\"DESwl__3_m\" => DESwl__3_m,\n",
    "                     #\"A_IA\" => A_IA,\n",
    "                     #\"alpha_IA\" => alpha_IA,\n",
    "                     )\n",
    "\n",
    "    cosmology = Cosmology(Ωm, Ωb, h, ns, s8,\n",
    "                          tk_mode=\"EisHu\",\n",
    "                          Pk_mode=\"Halofit\")\n",
    "\n",
    "    theory = Theory(cosmology, DES_meta, DES_files; Nuisances=nuisances)\n",
    "    data ~ MvNormal(theory, DES_cov)\n",
    "end"
   ]
  },
  {
   "cell_type": "code",
   "execution_count": 9,
   "id": "1eebe796",
   "metadata": {},
   "outputs": [
    {
     "ename": "LoadError",
     "evalue": "UndefVarError: `fake_DES_data` not defined",
     "output_type": "error",
     "traceback": [
      "UndefVarError: `fake_DES_data` not defined",
      "",
      "Stacktrace:",
      " [1] top-level scope",
      "   @ In[9]:1"
     ]
    }
   ],
   "source": [
    "DES_model_cond = DES_model(fake_DES_data)\n",
    "DES_target = TuringTarget(DES_model_cond);"
   ]
  },
  {
   "cell_type": "markdown",
   "id": "10dfa4cc",
   "metadata": {},
   "source": [
    "## Sampling"
   ]
  },
  {
   "cell_type": "code",
   "execution_count": 10,
   "id": "2925d973",
   "metadata": {},
   "outputs": [
    {
     "ename": "LoadError",
     "evalue": "UndefVarError: `MCHMC` not defined",
     "output_type": "error",
     "traceback": [
      "UndefVarError: `MCHMC` not defined",
      "",
      "Stacktrace:",
      " [1] top-level scope",
      "   @ In[10]:1"
     ]
    }
   ],
   "source": [
    "DECALS_spl = MCHMC(0.0, sqrt(13); init_eps=0.6, VarE_wanted=0.001, sigma=ones(13))\n",
    "DES_spl = MCHMC(0.0, sqrt(10); init_eps=0.07, VarE_wanted=0.001, sigma=ones(10));"
   ]
  },
  {
   "cell_type": "code",
   "execution_count": 11,
   "id": "a79c2b35",
   "metadata": {
    "code_folding": [],
    "scrolled": false
   },
   "outputs": [
    {
     "ename": "LoadError",
     "evalue": "UndefVarError: `Sample` not defined",
     "output_type": "error",
     "traceback": [
      "UndefVarError: `Sample` not defined",
      "",
      "Stacktrace:",
      " [1] top-level scope",
      "   @ In[11]:1"
     ]
    }
   ],
   "source": [
    "samples= Sample(DES_spl, DES_target, 1_000;\n",
    "                initial_x = [0.3, 0.05, 0.7, 0.8, 0.96, 1.2, 1.4, 1.6, 1.8, 2.0],\n",
    "                burn_in=0, dialog=true)"
   ]
  },
  {
   "cell_type": "code",
   "execution_count": 28,
   "id": "d87e9f03",
   "metadata": {},
   "outputs": [
    {
     "data": {
      "text/plain": [
       "([1.4602855007480169, 1.3113267799521342, 1.1569589986343032, 2.1986975919677536, 1.4640803539222513, 2.3709491935079616, 2.3856712084710154, 2.5892954380020083, 2.766255725974481, 3.9190096991682353, NaN, 11.646243569689936], [1.8821884547939451, 2.1834312517080785, 3.0008832367757905, 1.3836182241553563, 1.864021915451343, 1.3611616268887754, 1.3470237827787515, 1.3047878483365063, 1.2826345217261845, 1.1888924752488632, NaN, 1.0425853123562658])"
      ]
     },
     "execution_count": 28,
     "metadata": {},
     "output_type": "execute_result"
    }
   ],
   "source": [
    "ess, rhat = Summarize(samples)"
   ]
  },
  {
   "cell_type": "code",
   "execution_count": 29,
   "id": "55cc4f95",
   "metadata": {},
   "outputs": [
    {
     "data": {
      "image/svg+xml": [
       "<?xml version=\"1.0\" encoding=\"utf-8\"?>\n",
       "<svg xmlns=\"http://www.w3.org/2000/svg\" xmlns:xlink=\"http://www.w3.org/1999/xlink\" width=\"600\" height=\"400\" viewBox=\"0 0 2400 1600\">\n",
       "<defs>\n",
       "  <clipPath id=\"clip320\">\n",
       "    <rect x=\"0\" y=\"0\" width=\"2400\" height=\"1600\"/>\n",
       "  </clipPath>\n",
       "</defs>\n",
       "<path clip-path=\"url(#clip320)\" d=\"M0 1600 L2400 1600 L2400 0 L0 0  Z\" fill=\"#ffffff\" fill-rule=\"evenodd\" fill-opacity=\"1\"/>\n",
       "<defs>\n",
       "  <clipPath id=\"clip321\">\n",
       "    <rect x=\"480\" y=\"0\" width=\"1681\" height=\"1600\"/>\n",
       "  </clipPath>\n",
       "</defs>\n",
       "<path clip-path=\"url(#clip320)\" d=\"M156.598 1486.45 L2352.76 1486.45 L2352.76 47.2441 L156.598 47.2441  Z\" fill=\"#ffffff\" fill-rule=\"evenodd\" fill-opacity=\"1\"/>\n",
       "<defs>\n",
       "  <clipPath id=\"clip322\">\n",
       "    <rect x=\"156\" y=\"47\" width=\"2197\" height=\"1440\"/>\n",
       "  </clipPath>\n",
       "</defs>\n",
       "<polyline clip-path=\"url(#clip322)\" style=\"stroke:#000000; stroke-linecap:round; stroke-linejoin:round; stroke-width:2; stroke-opacity:0.1; fill:none\" points=\"212.513,1486.45 212.513,47.2441 \"/>\n",
       "<polyline clip-path=\"url(#clip322)\" style=\"stroke:#000000; stroke-linecap:round; stroke-linejoin:round; stroke-width:2; stroke-opacity:0.1; fill:none\" points=\"836.563,1486.45 836.563,47.2441 \"/>\n",
       "<polyline clip-path=\"url(#clip322)\" style=\"stroke:#000000; stroke-linecap:round; stroke-linejoin:round; stroke-width:2; stroke-opacity:0.1; fill:none\" points=\"1460.61,1486.45 1460.61,47.2441 \"/>\n",
       "<polyline clip-path=\"url(#clip322)\" style=\"stroke:#000000; stroke-linecap:round; stroke-linejoin:round; stroke-width:2; stroke-opacity:0.1; fill:none\" points=\"2084.66,1486.45 2084.66,47.2441 \"/>\n",
       "<polyline clip-path=\"url(#clip320)\" style=\"stroke:#000000; stroke-linecap:round; stroke-linejoin:round; stroke-width:4; stroke-opacity:1; fill:none\" points=\"156.598,1486.45 2352.76,1486.45 \"/>\n",
       "<polyline clip-path=\"url(#clip320)\" style=\"stroke:#000000; stroke-linecap:round; stroke-linejoin:round; stroke-width:4; stroke-opacity:1; fill:none\" points=\"212.513,1486.45 212.513,1467.55 \"/>\n",
       "<polyline clip-path=\"url(#clip320)\" style=\"stroke:#000000; stroke-linecap:round; stroke-linejoin:round; stroke-width:4; stroke-opacity:1; fill:none\" points=\"836.563,1486.45 836.563,1467.55 \"/>\n",
       "<polyline clip-path=\"url(#clip320)\" style=\"stroke:#000000; stroke-linecap:round; stroke-linejoin:round; stroke-width:4; stroke-opacity:1; fill:none\" points=\"1460.61,1486.45 1460.61,1467.55 \"/>\n",
       "<polyline clip-path=\"url(#clip320)\" style=\"stroke:#000000; stroke-linecap:round; stroke-linejoin:round; stroke-width:4; stroke-opacity:1; fill:none\" points=\"2084.66,1486.45 2084.66,1467.55 \"/>\n",
       "<path clip-path=\"url(#clip320)\" d=\"M212.513 1517.37 Q208.902 1517.37 207.073 1520.93 Q205.268 1524.47 205.268 1531.6 Q205.268 1538.71 207.073 1542.27 Q208.902 1545.82 212.513 1545.82 Q216.147 1545.82 217.953 1542.27 Q219.782 1538.71 219.782 1531.6 Q219.782 1524.47 217.953 1520.93 Q216.147 1517.37 212.513 1517.37 M212.513 1513.66 Q218.323 1513.66 221.379 1518.27 Q224.458 1522.85 224.458 1531.6 Q224.458 1540.33 221.379 1544.94 Q218.323 1549.52 212.513 1549.52 Q206.703 1549.52 203.624 1544.94 Q200.569 1540.33 200.569 1531.6 Q200.569 1522.85 203.624 1518.27 Q206.703 1513.66 212.513 1513.66 Z\" fill=\"#000000\" fill-rule=\"evenodd\" fill-opacity=\"1\" /><path clip-path=\"url(#clip320)\" d=\"M796.17 1544.91 L803.809 1544.91 L803.809 1518.55 L795.499 1520.21 L795.499 1515.95 L803.763 1514.29 L808.439 1514.29 L808.439 1544.91 L816.077 1544.91 L816.077 1548.85 L796.17 1548.85 L796.17 1544.91 Z\" fill=\"#000000\" fill-rule=\"evenodd\" fill-opacity=\"1\" /><path clip-path=\"url(#clip320)\" d=\"M835.522 1517.37 Q831.911 1517.37 830.082 1520.93 Q828.276 1524.47 828.276 1531.6 Q828.276 1538.71 830.082 1542.27 Q831.911 1545.82 835.522 1545.82 Q839.156 1545.82 840.962 1542.27 Q842.79 1538.71 842.79 1531.6 Q842.79 1524.47 840.962 1520.93 Q839.156 1517.37 835.522 1517.37 M835.522 1513.66 Q841.332 1513.66 844.387 1518.27 Q847.466 1522.85 847.466 1531.6 Q847.466 1540.33 844.387 1544.94 Q841.332 1549.52 835.522 1549.52 Q829.712 1549.52 826.633 1544.94 Q823.577 1540.33 823.577 1531.6 Q823.577 1522.85 826.633 1518.27 Q829.712 1513.66 835.522 1513.66 Z\" fill=\"#000000\" fill-rule=\"evenodd\" fill-opacity=\"1\" /><path clip-path=\"url(#clip320)\" d=\"M865.684 1517.37 Q862.073 1517.37 860.244 1520.93 Q858.438 1524.47 858.438 1531.6 Q858.438 1538.71 860.244 1542.27 Q862.073 1545.82 865.684 1545.82 Q869.318 1545.82 871.123 1542.27 Q872.952 1538.71 872.952 1531.6 Q872.952 1524.47 871.123 1520.93 Q869.318 1517.37 865.684 1517.37 M865.684 1513.66 Q871.494 1513.66 874.549 1518.27 Q877.628 1522.85 877.628 1531.6 Q877.628 1540.33 874.549 1544.94 Q871.494 1549.52 865.684 1549.52 Q859.873 1549.52 856.795 1544.94 Q853.739 1540.33 853.739 1531.6 Q853.739 1522.85 856.795 1518.27 Q859.873 1513.66 865.684 1513.66 Z\" fill=\"#000000\" fill-rule=\"evenodd\" fill-opacity=\"1\" /><path clip-path=\"url(#clip320)\" d=\"M1424.31 1544.91 L1440.63 1544.91 L1440.63 1548.85 L1418.68 1548.85 L1418.68 1544.91 Q1421.34 1542.16 1425.93 1537.53 Q1430.53 1532.88 1431.71 1531.53 Q1433.96 1529.01 1434.84 1527.27 Q1435.74 1525.51 1435.74 1523.82 Q1435.74 1521.07 1433.8 1519.33 Q1431.88 1517.6 1428.77 1517.6 Q1426.57 1517.6 1424.12 1518.36 Q1421.69 1519.13 1418.91 1520.68 L1418.91 1515.95 Q1421.74 1514.82 1424.19 1514.24 Q1426.64 1513.66 1428.68 1513.66 Q1434.05 1513.66 1437.25 1516.35 Q1440.44 1519.03 1440.44 1523.52 Q1440.44 1525.65 1439.63 1527.57 Q1438.84 1529.47 1436.74 1532.07 Q1436.16 1532.74 1433.06 1535.95 Q1429.95 1539.15 1424.31 1544.91 Z\" fill=\"#000000\" fill-rule=\"evenodd\" fill-opacity=\"1\" /><path clip-path=\"url(#clip320)\" d=\"M1460.44 1517.37 Q1456.83 1517.37 1455 1520.93 Q1453.19 1524.47 1453.19 1531.6 Q1453.19 1538.71 1455 1542.27 Q1456.83 1545.82 1460.44 1545.82 Q1464.07 1545.82 1465.88 1542.27 Q1467.71 1538.71 1467.71 1531.6 Q1467.71 1524.47 1465.88 1520.93 Q1464.07 1517.37 1460.44 1517.37 M1460.44 1513.66 Q1466.25 1513.66 1469.31 1518.27 Q1472.38 1522.85 1472.38 1531.6 Q1472.38 1540.33 1469.31 1544.94 Q1466.25 1549.52 1460.44 1549.52 Q1454.63 1549.52 1451.55 1544.94 Q1448.5 1540.33 1448.5 1531.6 Q1448.5 1522.85 1451.55 1518.27 Q1454.63 1513.66 1460.44 1513.66 Z\" fill=\"#000000\" fill-rule=\"evenodd\" fill-opacity=\"1\" /><path clip-path=\"url(#clip320)\" d=\"M1490.6 1517.37 Q1486.99 1517.37 1485.16 1520.93 Q1483.36 1524.47 1483.36 1531.6 Q1483.36 1538.71 1485.16 1542.27 Q1486.99 1545.82 1490.6 1545.82 Q1494.24 1545.82 1496.04 1542.27 Q1497.87 1538.71 1497.87 1531.6 Q1497.87 1524.47 1496.04 1520.93 Q1494.24 1517.37 1490.6 1517.37 M1490.6 1513.66 Q1496.41 1513.66 1499.47 1518.27 Q1502.55 1522.85 1502.55 1531.6 Q1502.55 1540.33 1499.47 1544.94 Q1496.41 1549.52 1490.6 1549.52 Q1484.79 1549.52 1481.71 1544.94 Q1478.66 1540.33 1478.66 1531.6 Q1478.66 1522.85 1481.71 1518.27 Q1484.79 1513.66 1490.6 1513.66 Z\" fill=\"#000000\" fill-rule=\"evenodd\" fill-opacity=\"1\" /><path clip-path=\"url(#clip320)\" d=\"M2058.43 1530.21 Q2061.78 1530.93 2063.66 1533.2 Q2065.56 1535.47 2065.56 1538.8 Q2065.56 1543.92 2062.04 1546.72 Q2058.52 1549.52 2052.04 1549.52 Q2049.86 1549.52 2047.55 1549.08 Q2045.25 1548.66 2042.8 1547.81 L2042.8 1543.29 Q2044.75 1544.43 2047.06 1545.01 Q2049.37 1545.58 2051.9 1545.58 Q2056.3 1545.58 2058.59 1543.85 Q2060.9 1542.11 2060.9 1538.8 Q2060.9 1535.75 2058.75 1534.03 Q2056.62 1532.3 2052.8 1532.3 L2048.77 1532.3 L2048.77 1528.45 L2052.99 1528.45 Q2056.43 1528.45 2058.26 1527.09 Q2060.09 1525.7 2060.09 1523.11 Q2060.09 1520.45 2058.19 1519.03 Q2056.32 1517.6 2052.8 1517.6 Q2050.88 1517.6 2048.68 1518.01 Q2046.48 1518.43 2043.84 1519.31 L2043.84 1515.14 Q2046.5 1514.4 2048.82 1514.03 Q2051.16 1513.66 2053.22 1513.66 Q2058.54 1513.66 2061.64 1516.09 Q2064.75 1518.5 2064.75 1522.62 Q2064.75 1525.49 2063.1 1527.48 Q2061.46 1529.45 2058.43 1530.21 Z\" fill=\"#000000\" fill-rule=\"evenodd\" fill-opacity=\"1\" /><path clip-path=\"url(#clip320)\" d=\"M2084.42 1517.37 Q2080.81 1517.37 2078.98 1520.93 Q2077.18 1524.47 2077.18 1531.6 Q2077.18 1538.71 2078.98 1542.27 Q2080.81 1545.82 2084.42 1545.82 Q2088.06 1545.82 2089.86 1542.27 Q2091.69 1538.71 2091.69 1531.6 Q2091.69 1524.47 2089.86 1520.93 Q2088.06 1517.37 2084.42 1517.37 M2084.42 1513.66 Q2090.23 1513.66 2093.29 1518.27 Q2096.37 1522.85 2096.37 1531.6 Q2096.37 1540.33 2093.29 1544.94 Q2090.23 1549.52 2084.42 1549.52 Q2078.61 1549.52 2075.53 1544.94 Q2072.48 1540.33 2072.48 1531.6 Q2072.48 1522.85 2075.53 1518.27 Q2078.61 1513.66 2084.42 1513.66 Z\" fill=\"#000000\" fill-rule=\"evenodd\" fill-opacity=\"1\" /><path clip-path=\"url(#clip320)\" d=\"M2114.58 1517.37 Q2110.97 1517.37 2109.14 1520.93 Q2107.34 1524.47 2107.34 1531.6 Q2107.34 1538.71 2109.14 1542.27 Q2110.97 1545.82 2114.58 1545.82 Q2118.22 1545.82 2120.02 1542.27 Q2121.85 1538.71 2121.85 1531.6 Q2121.85 1524.47 2120.02 1520.93 Q2118.22 1517.37 2114.58 1517.37 M2114.58 1513.66 Q2120.39 1513.66 2123.45 1518.27 Q2126.53 1522.85 2126.53 1531.6 Q2126.53 1540.33 2123.45 1544.94 Q2120.39 1549.52 2114.58 1549.52 Q2108.77 1549.52 2105.69 1544.94 Q2102.64 1540.33 2102.64 1531.6 Q2102.64 1522.85 2105.69 1518.27 Q2108.77 1513.66 2114.58 1513.66 Z\" fill=\"#000000\" fill-rule=\"evenodd\" fill-opacity=\"1\" /><polyline clip-path=\"url(#clip322)\" style=\"stroke:#000000; stroke-linecap:round; stroke-linejoin:round; stroke-width:2; stroke-opacity:0.1; fill:none\" points=\"156.598,1313.62 2352.76,1313.62 \"/>\n",
       "<polyline clip-path=\"url(#clip322)\" style=\"stroke:#000000; stroke-linecap:round; stroke-linejoin:round; stroke-width:2; stroke-opacity:0.1; fill:none\" points=\"156.598,1068.49 2352.76,1068.49 \"/>\n",
       "<polyline clip-path=\"url(#clip322)\" style=\"stroke:#000000; stroke-linecap:round; stroke-linejoin:round; stroke-width:2; stroke-opacity:0.1; fill:none\" points=\"156.598,823.36 2352.76,823.36 \"/>\n",
       "<polyline clip-path=\"url(#clip322)\" style=\"stroke:#000000; stroke-linecap:round; stroke-linejoin:round; stroke-width:2; stroke-opacity:0.1; fill:none\" points=\"156.598,578.232 2352.76,578.232 \"/>\n",
       "<polyline clip-path=\"url(#clip322)\" style=\"stroke:#000000; stroke-linecap:round; stroke-linejoin:round; stroke-width:2; stroke-opacity:0.1; fill:none\" points=\"156.598,333.104 2352.76,333.104 \"/>\n",
       "<polyline clip-path=\"url(#clip322)\" style=\"stroke:#000000; stroke-linecap:round; stroke-linejoin:round; stroke-width:2; stroke-opacity:0.1; fill:none\" points=\"156.598,87.9763 2352.76,87.9763 \"/>\n",
       "<polyline clip-path=\"url(#clip320)\" style=\"stroke:#000000; stroke-linecap:round; stroke-linejoin:round; stroke-width:4; stroke-opacity:1; fill:none\" points=\"156.598,1486.45 156.598,47.2441 \"/>\n",
       "<polyline clip-path=\"url(#clip320)\" style=\"stroke:#000000; stroke-linecap:round; stroke-linejoin:round; stroke-width:4; stroke-opacity:1; fill:none\" points=\"156.598,1313.62 175.496,1313.62 \"/>\n",
       "<polyline clip-path=\"url(#clip320)\" style=\"stroke:#000000; stroke-linecap:round; stroke-linejoin:round; stroke-width:4; stroke-opacity:1; fill:none\" points=\"156.598,1068.49 175.496,1068.49 \"/>\n",
       "<polyline clip-path=\"url(#clip320)\" style=\"stroke:#000000; stroke-linecap:round; stroke-linejoin:round; stroke-width:4; stroke-opacity:1; fill:none\" points=\"156.598,823.36 175.496,823.36 \"/>\n",
       "<polyline clip-path=\"url(#clip320)\" style=\"stroke:#000000; stroke-linecap:round; stroke-linejoin:round; stroke-width:4; stroke-opacity:1; fill:none\" points=\"156.598,578.232 175.496,578.232 \"/>\n",
       "<polyline clip-path=\"url(#clip320)\" style=\"stroke:#000000; stroke-linecap:round; stroke-linejoin:round; stroke-width:4; stroke-opacity:1; fill:none\" points=\"156.598,333.104 175.496,333.104 \"/>\n",
       "<polyline clip-path=\"url(#clip320)\" style=\"stroke:#000000; stroke-linecap:round; stroke-linejoin:round; stroke-width:4; stroke-opacity:1; fill:none\" points=\"156.598,87.9763 175.496,87.9763 \"/>\n",
       "<path clip-path=\"url(#clip320)\" d=\"M64.0708 1299.42 Q60.4597 1299.42 58.631 1302.98 Q56.8254 1306.52 56.8254 1313.65 Q56.8254 1320.76 58.631 1324.32 Q60.4597 1327.86 64.0708 1327.86 Q67.705 1327.86 69.5105 1324.32 Q71.3392 1320.76 71.3392 1313.65 Q71.3392 1306.52 69.5105 1302.98 Q67.705 1299.42 64.0708 1299.42 M64.0708 1295.71 Q69.8809 1295.71 72.9365 1300.32 Q76.0151 1304.9 76.0151 1313.65 Q76.0151 1322.38 72.9365 1326.98 Q69.8809 1331.57 64.0708 1331.57 Q58.2606 1331.57 55.1819 1326.98 Q52.1264 1322.38 52.1264 1313.65 Q52.1264 1304.9 55.1819 1300.32 Q58.2606 1295.71 64.0708 1295.71 Z\" fill=\"#000000\" fill-rule=\"evenodd\" fill-opacity=\"1\" /><path clip-path=\"url(#clip320)\" d=\"M84.2327 1325.02 L89.1169 1325.02 L89.1169 1330.9 L84.2327 1330.9 L84.2327 1325.02 Z\" fill=\"#000000\" fill-rule=\"evenodd\" fill-opacity=\"1\" /><path clip-path=\"url(#clip320)\" d=\"M113.469 1312.26 Q116.825 1312.98 118.7 1315.25 Q120.598 1317.52 120.598 1320.85 Q120.598 1325.97 117.08 1328.77 Q113.561 1331.57 107.08 1331.57 Q104.904 1331.57 102.589 1331.13 Q100.297 1330.71 97.8437 1329.85 L97.8437 1325.34 Q99.7882 1326.48 102.103 1327.05 Q104.418 1327.63 106.941 1327.63 Q111.339 1327.63 113.631 1325.9 Q115.945 1324.16 115.945 1320.85 Q115.945 1317.79 113.793 1316.08 Q111.663 1314.35 107.844 1314.35 L103.816 1314.35 L103.816 1310.5 L108.029 1310.5 Q111.478 1310.5 113.307 1309.14 Q115.135 1307.75 115.135 1305.16 Q115.135 1302.49 113.237 1301.08 Q111.362 1299.65 107.844 1299.65 Q105.922 1299.65 103.723 1300.06 Q101.524 1300.48 98.8854 1301.36 L98.8854 1297.19 Q101.547 1296.45 103.862 1296.08 Q106.2 1295.71 108.26 1295.71 Q113.584 1295.71 116.686 1298.14 Q119.788 1300.55 119.788 1304.67 Q119.788 1307.54 118.145 1309.53 Q116.501 1311.5 113.469 1312.26 Z\" fill=\"#000000\" fill-rule=\"evenodd\" fill-opacity=\"1\" /><path clip-path=\"url(#clip320)\" d=\"M62.9365 1054.29 Q59.3254 1054.29 57.4967 1057.85 Q55.6912 1061.39 55.6912 1068.52 Q55.6912 1075.63 57.4967 1079.19 Q59.3254 1082.74 62.9365 1082.74 Q66.5707 1082.74 68.3763 1079.19 Q70.205 1075.63 70.205 1068.52 Q70.205 1061.39 68.3763 1057.85 Q66.5707 1054.29 62.9365 1054.29 M62.9365 1050.58 Q68.7467 1050.58 71.8022 1055.19 Q74.8809 1059.77 74.8809 1068.52 Q74.8809 1077.25 71.8022 1081.86 Q68.7467 1086.44 62.9365 1086.44 Q57.1264 1086.44 54.0477 1081.86 Q50.9921 1077.25 50.9921 1068.52 Q50.9921 1059.77 54.0477 1055.19 Q57.1264 1050.58 62.9365 1050.58 Z\" fill=\"#000000\" fill-rule=\"evenodd\" fill-opacity=\"1\" /><path clip-path=\"url(#clip320)\" d=\"M83.0984 1079.89 L87.9827 1079.89 L87.9827 1085.77 L83.0984 1085.77 L83.0984 1079.89 Z\" fill=\"#000000\" fill-rule=\"evenodd\" fill-opacity=\"1\" /><path clip-path=\"url(#clip320)\" d=\"M111.015 1055.28 L99.2095 1073.73 L111.015 1073.73 L111.015 1055.28 M109.788 1051.21 L115.668 1051.21 L115.668 1073.73 L120.598 1073.73 L120.598 1077.62 L115.668 1077.62 L115.668 1085.77 L111.015 1085.77 L111.015 1077.62 L95.4132 1077.62 L95.4132 1073.11 L109.788 1051.21 Z\" fill=\"#000000\" fill-rule=\"evenodd\" fill-opacity=\"1\" /><path clip-path=\"url(#clip320)\" d=\"M64.418 809.159 Q60.8069 809.159 58.9782 812.724 Q57.1726 816.265 57.1726 823.395 Q57.1726 830.502 58.9782 834.066 Q60.8069 837.608 64.418 837.608 Q68.0522 837.608 69.8578 834.066 Q71.6865 830.502 71.6865 823.395 Q71.6865 816.265 69.8578 812.724 Q68.0522 809.159 64.418 809.159 M64.418 805.455 Q70.2281 805.455 73.2837 810.062 Q76.3624 814.645 76.3624 823.395 Q76.3624 832.122 73.2837 836.728 Q70.2281 841.312 64.418 841.312 Q58.6078 841.312 55.5291 836.728 Q52.4736 832.122 52.4736 823.395 Q52.4736 814.645 55.5291 810.062 Q58.6078 805.455 64.418 805.455 Z\" fill=\"#000000\" fill-rule=\"evenodd\" fill-opacity=\"1\" /><path clip-path=\"url(#clip320)\" d=\"M84.5799 834.761 L89.4641 834.761 L89.4641 840.64 L84.5799 840.64 L84.5799 834.761 Z\" fill=\"#000000\" fill-rule=\"evenodd\" fill-opacity=\"1\" /><path clip-path=\"url(#clip320)\" d=\"M99.6956 806.08 L118.052 806.08 L118.052 810.016 L103.978 810.016 L103.978 818.488 Q104.996 818.14 106.015 817.978 Q107.033 817.793 108.052 817.793 Q113.839 817.793 117.219 820.965 Q120.598 824.136 120.598 829.552 Q120.598 835.131 117.126 838.233 Q113.654 841.312 107.334 841.312 Q105.159 841.312 102.89 840.941 Q100.645 840.571 98.2372 839.83 L98.2372 835.131 Q100.321 836.265 102.543 836.821 Q104.765 837.376 107.242 837.376 Q111.246 837.376 113.584 835.27 Q115.922 833.164 115.922 829.552 Q115.922 825.941 113.584 823.835 Q111.246 821.728 107.242 821.728 Q105.367 821.728 103.492 822.145 Q101.64 822.562 99.6956 823.441 L99.6956 806.08 Z\" fill=\"#000000\" fill-rule=\"evenodd\" fill-opacity=\"1\" /><path clip-path=\"url(#clip320)\" d=\"M63.2606 564.031 Q59.6495 564.031 57.8208 567.596 Q56.0152 571.137 56.0152 578.267 Q56.0152 585.373 57.8208 588.938 Q59.6495 592.48 63.2606 592.48 Q66.8948 592.48 68.7004 588.938 Q70.5291 585.373 70.5291 578.267 Q70.5291 571.137 68.7004 567.596 Q66.8948 564.031 63.2606 564.031 M63.2606 560.327 Q69.0707 560.327 72.1263 564.934 Q75.205 569.517 75.205 578.267 Q75.205 586.994 72.1263 591.6 Q69.0707 596.184 63.2606 596.184 Q57.4504 596.184 54.3717 591.6 Q51.3162 586.994 51.3162 578.267 Q51.3162 569.517 54.3717 564.934 Q57.4504 560.327 63.2606 560.327 Z\" fill=\"#000000\" fill-rule=\"evenodd\" fill-opacity=\"1\" /><path clip-path=\"url(#clip320)\" d=\"M83.4225 589.633 L88.3067 589.633 L88.3067 595.512 L83.4225 595.512 L83.4225 589.633 Z\" fill=\"#000000\" fill-rule=\"evenodd\" fill-opacity=\"1\" /><path clip-path=\"url(#clip320)\" d=\"M109.071 576.369 Q105.922 576.369 104.071 578.522 Q102.242 580.674 102.242 584.424 Q102.242 588.151 104.071 590.327 Q105.922 592.48 109.071 592.48 Q112.219 592.48 114.047 590.327 Q115.899 588.151 115.899 584.424 Q115.899 580.674 114.047 578.522 Q112.219 576.369 109.071 576.369 M118.353 561.716 L118.353 565.975 Q116.594 565.142 114.788 564.702 Q113.006 564.262 111.246 564.262 Q106.617 564.262 104.163 567.387 Q101.733 570.512 101.385 576.832 Q102.751 574.818 104.811 573.753 Q106.871 572.665 109.348 572.665 Q114.557 572.665 117.566 575.837 Q120.598 578.985 120.598 584.424 Q120.598 589.748 117.45 592.966 Q114.302 596.184 109.071 596.184 Q103.075 596.184 99.9039 591.6 Q96.7326 586.994 96.7326 578.267 Q96.7326 570.073 100.621 565.212 Q104.51 560.327 111.061 560.327 Q112.82 560.327 114.603 560.675 Q116.408 561.022 118.353 561.716 Z\" fill=\"#000000\" fill-rule=\"evenodd\" fill-opacity=\"1\" /><path clip-path=\"url(#clip320)\" d=\"M64.3254 318.903 Q60.7143 318.903 58.8856 322.468 Q57.0801 326.009 57.0801 333.139 Q57.0801 340.245 58.8856 343.81 Q60.7143 347.352 64.3254 347.352 Q67.9596 347.352 69.7652 343.81 Q71.5939 340.245 71.5939 333.139 Q71.5939 326.009 69.7652 322.468 Q67.9596 318.903 64.3254 318.903 M64.3254 315.199 Q70.1355 315.199 73.1911 319.806 Q76.2698 324.389 76.2698 333.139 Q76.2698 341.866 73.1911 346.472 Q70.1355 351.056 64.3254 351.056 Q58.5152 351.056 55.4365 346.472 Q52.381 341.866 52.381 333.139 Q52.381 324.389 55.4365 319.806 Q58.5152 315.199 64.3254 315.199 Z\" fill=\"#000000\" fill-rule=\"evenodd\" fill-opacity=\"1\" /><path clip-path=\"url(#clip320)\" d=\"M84.4873 344.505 L89.3715 344.505 L89.3715 350.384 L84.4873 350.384 L84.4873 344.505 Z\" fill=\"#000000\" fill-rule=\"evenodd\" fill-opacity=\"1\" /><path clip-path=\"url(#clip320)\" d=\"M98.3761 315.824 L120.598 315.824 L120.598 317.815 L108.052 350.384 L103.168 350.384 L114.973 319.759 L98.3761 319.759 L98.3761 315.824 Z\" fill=\"#000000\" fill-rule=\"evenodd\" fill-opacity=\"1\" /><path clip-path=\"url(#clip320)\" d=\"M63.5152 73.775 Q59.9041 73.775 58.0754 77.3398 Q56.2699 80.8814 56.2699 88.011 Q56.2699 95.1174 58.0754 98.6822 Q59.9041 102.224 63.5152 102.224 Q67.1494 102.224 68.955 98.6822 Q70.7837 95.1174 70.7837 88.011 Q70.7837 80.8814 68.955 77.3398 Q67.1494 73.775 63.5152 73.775 M63.5152 70.0713 Q69.3254 70.0713 72.3809 74.6777 Q75.4596 79.261 75.4596 88.011 Q75.4596 96.7378 72.3809 101.344 Q69.3254 105.928 63.5152 105.928 Q57.7051 105.928 54.6264 101.344 Q51.5708 96.7378 51.5708 88.011 Q51.5708 79.261 54.6264 74.6777 Q57.7051 70.0713 63.5152 70.0713 Z\" fill=\"#000000\" fill-rule=\"evenodd\" fill-opacity=\"1\" /><path clip-path=\"url(#clip320)\" d=\"M83.6771 99.3767 L88.5614 99.3767 L88.5614 105.256 L83.6771 105.256 L83.6771 99.3767 Z\" fill=\"#000000\" fill-rule=\"evenodd\" fill-opacity=\"1\" /><path clip-path=\"url(#clip320)\" d=\"M108.746 88.8443 Q105.413 88.8443 103.492 90.6267 Q101.594 92.4091 101.594 95.5341 Q101.594 98.6591 103.492 100.441 Q105.413 102.224 108.746 102.224 Q112.08 102.224 114.001 100.441 Q115.922 98.6359 115.922 95.5341 Q115.922 92.4091 114.001 90.6267 Q112.103 88.8443 108.746 88.8443 M104.071 86.8536 Q101.061 86.1129 99.3715 84.0527 Q97.7048 81.9925 97.7048 79.0296 Q97.7048 74.8861 100.645 72.4787 Q103.608 70.0713 108.746 70.0713 Q113.908 70.0713 116.848 72.4787 Q119.788 74.8861 119.788 79.0296 Q119.788 81.9925 118.098 84.0527 Q116.432 86.1129 113.445 86.8536 Q116.825 87.6406 118.7 89.9323 Q120.598 92.2239 120.598 95.5341 Q120.598 100.557 117.52 103.242 Q114.464 105.928 108.746 105.928 Q103.029 105.928 99.9502 103.242 Q96.8947 100.557 96.8947 95.5341 Q96.8947 92.2239 98.7928 89.9323 Q100.691 87.6406 104.071 86.8536 M102.358 79.4694 Q102.358 82.1545 104.024 83.6592 Q105.714 85.1638 108.746 85.1638 Q111.756 85.1638 113.445 83.6592 Q115.158 82.1545 115.158 79.4694 Q115.158 76.7842 113.445 75.2796 Q111.756 73.775 108.746 73.775 Q105.714 73.775 104.024 75.2796 Q102.358 76.7842 102.358 79.4694 Z\" fill=\"#000000\" fill-rule=\"evenodd\" fill-opacity=\"1\" /><polyline clip-path=\"url(#clip322)\" style=\"stroke:#009af9; stroke-linecap:round; stroke-linejoin:round; stroke-width:4; stroke-opacity:1; fill:none\" points=\"218.754,87.9763 224.994,101.518 231.235,120.394 237.475,139.414 243.716,158.183 249.956,176.597 256.197,194.557 262.437,211.811 268.678,228.419 274.918,243.852 281.159,257.961 287.399,270.677 293.64,282.059 299.88,291.731 306.121,299.957 312.361,306.454 318.602,311.156 324.842,314.654 331.083,317.459 337.323,319.63 343.564,322.388 349.804,324.749 356.045,327.297 362.285,330.516 368.526,334.664 374.766,339.652 381.007,346.322 387.247,354.182 393.488,362.561 399.728,370.495 405.969,377.963 412.209,385.036 418.45,391.575 424.69,397.915 430.931,404.085 437.171,409.336 443.412,414.285 449.652,419.216 455.893,424.558 462.133,430.097 468.374,436.155 474.614,442.101 480.855,447.789 487.095,453.613 493.336,458.761 499.576,463.237 505.817,467.157 512.057,470.302 518.298,472.448 524.538,473.51 530.779,473.649 537.019,473.345 543.26,472.38 549.5,471.539 555.741,471.259 561.981,471.557 568.222,473.014 574.462,475.599 580.703,478.87 586.943,482.332 593.184,486.001 599.424,489.792 605.665,493.489 611.905,496.881 618.146,499.708 624.386,502.292 630.627,505.353 636.867,508.404 643.108,512.125 649.348,516.272 655.589,521.704 661.829,527.967 668.07,534.215 674.31,540.481 680.551,546.465 686.791,552.8 693.032,559.287 699.272,565.143 705.513,570.533 711.753,575.59 717.994,580.165 724.234,583.802 730.475,586.882 736.715,590.147 742.956,593.63 749.196,596.996 755.437,599.96 761.677,602.55 767.918,605.738 774.158,609.486 780.399,613.018 786.639,616.243 792.88,619.326 799.12,622.402 805.361,625.403 811.601,628.313 817.842,630.693 824.082,632.222 830.323,633.3 836.563,633.586 842.804,633.077 849.044,632.373 855.285,631.735 861.525,631.11 867.766,631.076 874.006,631.568 880.247,632.428 886.487,633.729 892.728,635.803 898.968,637.957 905.209,640.382 911.449,643.128 917.69,645.318 923.93,647.177 930.171,648.459 936.411,649.051 942.652,649.248 948.892,649.641 955.133,649.774 961.373,649.99 967.614,650.487 973.854,651.516 980.095,652.922 986.335,654.399 992.576,656.313 998.816,658.691 1005.06,661.374 1011.3,664.209 1017.54,666.961 1023.78,669.77 1030.02,671.97 1036.26,673.989 1042.5,675.321 1048.74,676.057 1054.98,676.403 1061.22,676.311 1067.46,676.073 1073.7,675.704 1079.94,675.19 1086.18,674.775 1092.42,674.798 1098.66,675.652 1104.91,677.303 1111.15,679.271 1117.39,681.144 1123.63,683.094 1129.87,685.15 1136.11,686.803 1142.35,688.265 1148.59,688.95 1154.83,689.357 1161.07,689.497 1167.31,689.185 1173.55,688.237 1179.79,686.873 1186.03,685.806 1192.27,684.967 1198.51,684.255 1204.75,683.994 1210.99,684.016 1217.23,684.866 1223.47,686.479 1229.72,688.38 1235.96,690.237 1242.2,691.974 1248.44,693.319 1254.68,694.415 1260.92,695.291 1267.16,695.735 1273.4,695.509 1279.64,694.421 1285.88,693.185 1292.12,691.623 1298.36,690.081 1304.6,688.562 1310.84,687.608 1317.08,687.198 1323.32,686.989 1329.56,687.705 1335.8,689.046 1342.04,691.442 1348.28,694.191 1354.53,696.434 1360.77,698.224 1367.01,699.002 1373.25,698.691 1379.49,697.283 1385.73,694.897 1391.97,691.987 1398.21,688.782 1404.45,685.831 1410.69,682.897 1416.93,680.432 1423.17,678.224 1429.41,676.331 1435.65,675.286 1441.89,674.88 1448.13,674.948 1454.37,675.356 1460.61,676.11 1466.85,676.968 1473.09,677.679 1479.34,677.989 1485.58,678.209 1491.82,678.257 1498.06,677.86 1504.3,676.976 1510.54,675.612 1516.78,673.746 1523.02,672.203 1529.26,670.816 1535.5,669.594 1541.74,669.091 1547.98,669.366 1554.22,670.328 1560.46,671.741 1566.7,673.395 1572.94,675.266 1579.18,677.405 1585.42,679.863 1591.66,682.004 1597.9,683.686 1604.15,684.812 1610.39,685.51 1616.63,685.462 1622.87,684.853 1629.11,683.216 1635.35,680.417 1641.59,677.089 1647.83,673.409 1654.07,669.369 1660.31,665.456 1666.55,661.885 1672.79,659.035 1679.03,656.929 1685.27,655.932 1691.51,655.373 1697.75,656.015 1703.99,657.61 1710.23,659.56 1716.47,661.612 1722.71,663.141 1728.96,663.794 1735.2,663.923 1741.44,662.992 1747.68,661.56 1753.92,659.578 1760.16,657.147 1766.4,655.014 1772.64,653.181 1778.88,651.731 1785.12,650.888 1791.36,651.007 1797.6,652.006 1803.84,653.55 1810.08,655.02 1816.32,656.787 1822.56,658.468 1828.8,659.85 1835.04,660.728 1841.28,661.323 1847.52,661.394 1853.77,660.429 1860.01,658.457 1866.25,655.748 1872.49,652.627 1878.73,649.067 1884.97,645.695 1891.21,643.009 1897.45,640.652 1903.69,639.544 1909.93,639.806 1916.17,641.21 1922.41,643.003 1928.65,644.829 1934.89,646.835 1941.13,649.204 1947.37,651.186 1953.61,652.907 1959.85,654.398 1966.09,655.999 1972.33,657.136 1978.58,657.875 1984.82,658.933 1991.06,660.581 1997.3,662.815 2003.54,665.363 2009.78,668.526 2016.02,672.105 2022.26,676.032 2028.5,680.293 2034.74,684.361 2040.98,688.278 2047.22,691.488 2053.46,694.268 2059.7,696.571 2065.94,697.803 2072.18,698.417 2078.42,698.117 2084.66,697.126 2090.9,695.819 2097.14,694.35 2103.39,692.974 2109.63,691.874 2115.87,691.179 2122.11,690.851 2128.35,691.38 2134.59,692.733 2140.83,694.959 2147.07,697.895 2153.31,700.633 2159.55,703.572 2165.79,706.043 2172.03,708.014 2178.27,709.629 2184.51,710.655 2190.75,711.214 2196.99,711.878 2203.23,712.717 2209.47,713.825 2215.71,714.771 2221.95,716.079 2228.2,717.516 2234.44,719.588 2240.68,722.181 2246.92,725.573 2253.16,729.647 2259.4,733.665 2265.64,737.79 2271.88,741.824 2278.12,745.528 2284.36,748.74 2290.6,751.283 \"/>\n",
       "<polyline clip-path=\"url(#clip322)\" style=\"stroke:#e26f46; stroke-linecap:round; stroke-linejoin:round; stroke-width:4; stroke-opacity:1; fill:none\" points=\"218.754,1313.62 224.994,1319 231.235,1323.02 237.475,1326.92 243.716,1330.91 249.956,1335.01 256.197,1339.25 262.437,1343.64 268.678,1348.11 274.918,1352.79 281.159,1357.63 287.399,1362.63 293.64,1367.67 299.88,1372.62 306.121,1377.46 312.361,1382.23 318.602,1386.82 324.842,1391.19 331.083,1395.43 337.323,1399.48 343.564,1403.4 349.804,1407.23 356.045,1410.89 362.285,1414.39 368.526,1417.85 374.766,1421.26 381.007,1424.37 387.247,1427.26 393.488,1430.02 399.728,1432.68 405.969,1435.19 412.209,1437.61 418.45,1439.77 424.69,1441.55 430.931,1443.1 437.171,1444.37 443.412,1445.26 449.652,1445.63 455.893,1445.72 462.133,1445.33 468.374,1444.5 474.614,1443.24 480.855,1441.61 487.095,1439.65 493.336,1437.28 499.576,1434.47 505.817,1431.42 512.057,1428.06 518.298,1424.41 524.538,1420.52 530.779,1416.41 537.019,1412.13 543.26,1407.74 549.5,1403.17 555.741,1398.42 561.981,1393.51 568.222,1388.57 574.462,1383.55 580.703,1378.45 586.943,1373.34 593.184,1368.31 599.424,1363.47 605.665,1358.98 611.905,1354.78 618.146,1350.88 624.386,1347.48 630.627,1344.66 636.867,1342.36 643.108,1340.48 649.348,1339.26 655.589,1338.7 661.829,1338.68 668.07,1339.09 674.31,1339.65 680.551,1340.59 686.791,1341.58 693.032,1342.57 699.272,1343.54 705.513,1344.68 711.753,1345.69 717.994,1346.75 724.234,1347.62 730.475,1348.27 736.715,1348.9 742.956,1349.17 749.196,1348.97 755.437,1348.31 761.677,1347.36 767.918,1345.98 774.158,1344.41 780.399,1342.54 786.639,1340.21 792.88,1337.5 799.12,1334.49 805.361,1331.24 811.601,1327.84 817.842,1324.03 824.082,1320.09 830.323,1316.12 836.563,1312.07 842.804,1307.87 849.044,1303.48 855.285,1299.14 861.525,1294.82 867.766,1290.46 874.006,1286.1 880.247,1281.72 886.487,1277.72 892.728,1273.98 898.968,1270.49 905.209,1267.35 911.449,1264.63 917.69,1262.41 923.93,1260.52 930.171,1259.17 936.411,1258.48 942.652,1258.34 948.892,1258.89 955.133,1259.9 961.373,1261.49 967.614,1263.58 973.854,1265.97 980.095,1268.6 986.335,1271.04 992.576,1273.47 998.816,1275.82 1005.06,1277.8 1011.3,1279.62 1017.54,1281.21 1023.78,1282.58 1030.02,1283.81 1036.26,1284.48 1042.5,1285.07 1048.74,1285.2 1054.98,1285.07 1061.22,1284.68 1067.46,1283.83 1073.7,1282.26 1079.94,1280.2 1086.18,1277.76 1092.42,1274.88 1098.66,1271.57 1104.91,1267.73 1111.15,1263.63 1117.39,1259.31 1123.63,1255.04 1129.87,1250.63 1136.11,1245.91 1142.35,1240.98 1148.59,1235.88 1154.83,1230.75 1161.07,1225.7 1167.31,1220.93 1173.55,1216.65 1179.79,1212.89 1186.03,1209.74 1192.27,1207.13 1198.51,1205.12 1204.75,1203.62 1210.99,1203.05 1217.23,1203.23 1223.47,1204.43 1229.72,1206.3 1235.96,1208.94 1242.2,1212.07 1248.44,1215.63 1254.68,1219.55 1260.92,1223.8 1267.16,1228.14 1273.4,1232.67 1279.64,1237 1285.88,1241.34 1292.12,1245.61 1298.36,1249.34 1304.6,1252.47 1310.84,1255.32 1317.08,1257.74 1323.32,1259.48 1329.56,1260.28 1335.8,1260.76 1342.04,1260.67 1348.28,1259.84 1354.53,1258.51 1360.77,1256.84 1367.01,1254.6 1373.25,1251.94 1379.49,1248.84 1385.73,1245.39 1391.97,1241.47 1398.21,1237.34 1404.45,1232.97 1410.69,1228.39 1416.93,1223.67 1423.17,1218.75 1429.41,1213.59 1435.65,1208.73 1441.89,1204.16 1448.13,1199.59 1454.37,1195.46 1460.61,1191.76 1466.85,1188.81 1473.09,1186.62 1479.34,1184.98 1485.58,1184.32 1491.82,1184.56 1498.06,1186.08 1504.3,1188.32 1510.54,1191.44 1516.78,1195 1523.02,1198.87 1529.26,1203.32 1535.5,1207.78 1541.74,1212.75 1547.98,1217.56 1554.22,1222.25 1560.46,1227.08 1566.7,1231.72 1572.94,1236.04 1579.18,1239.9 1585.42,1243.19 1591.66,1245.75 1597.9,1247.71 1604.15,1249.22 1610.39,1249.83 1616.63,1249.47 1622.87,1248.36 1629.11,1246.53 1635.35,1243.83 1641.59,1240.36 1647.83,1236.43 1654.07,1232.01 1660.31,1227.01 1666.55,1221.87 1672.79,1216.92 1679.03,1211.75 1685.27,1206.77 1691.51,1201.87 1697.75,1197.1 1703.99,1192.78 1710.23,1188.89 1716.47,1185.77 1722.71,1183.33 1728.96,1181.59 1735.2,1181.01 1741.44,1181.35 1747.68,1182.59 1753.92,1184.78 1760.16,1187.69 1766.4,1191.06 1772.64,1195.29 1778.88,1199.81 1785.12,1204.43 1791.36,1209.04 1797.6,1213.72 1803.84,1218.55 1810.08,1223.29 1816.32,1227.64 1822.56,1231.85 1828.8,1235.84 1835.04,1239.61 1841.28,1242.91 1847.52,1245.54 1853.77,1247.56 1860.01,1248.88 1866.25,1249.39 1872.49,1249.33 1878.73,1248.16 1884.97,1246.37 1891.21,1243.73 1897.45,1240.25 1903.69,1236.03 1909.93,1231.37 1916.17,1226.58 1922.41,1221.5 1928.65,1216.22 1934.89,1210.85 1941.13,1205.69 1947.37,1200.68 1953.61,1196.02 1959.85,1191.84 1966.09,1188.27 1972.33,1185.51 1978.58,1183.29 1984.82,1181.95 1991.06,1181.18 1997.3,1180.97 2003.54,1181.19 2009.78,1181.62 2016.02,1182.56 2022.26,1183.78 2028.5,1185.45 2034.74,1187.36 2040.98,1189.37 2047.22,1191.51 2053.46,1193.28 2059.7,1195.06 2065.94,1196.32 2072.18,1197.19 2078.42,1197.9 2084.66,1198.48 2090.9,1198.4 2097.14,1197.79 2103.39,1197.24 2109.63,1196.37 2115.87,1195.09 2122.11,1193.23 2128.35,1190.67 2134.59,1187.83 2140.83,1184.41 2147.07,1180.84 2153.31,1177.2 2159.55,1173.6 2165.79,1170.06 2172.03,1166.52 2178.27,1163.37 2184.51,1160.33 2190.75,1157.79 2196.99,1155.47 2203.23,1153.77 2209.47,1152.3 2215.71,1151.31 2221.95,1150.61 2228.2,1150.44 2234.44,1150.72 2240.68,1150.94 2246.92,1151.21 2253.16,1151.55 2259.4,1151.94 2265.64,1152.62 2271.88,1153.47 2278.12,1154.32 2284.36,1155.45 2290.6,1156.59 \"/>\n",
       "<path clip-path=\"url(#clip320)\" d=\"M1972.48 250.738 L2279.55 250.738 L2279.55 95.2176 L1972.48 95.2176  Z\" fill=\"#ffffff\" fill-rule=\"evenodd\" fill-opacity=\"1\"/>\n",
       "<polyline clip-path=\"url(#clip320)\" style=\"stroke:#000000; stroke-linecap:round; stroke-linejoin:round; stroke-width:4; stroke-opacity:1; fill:none\" points=\"1972.48,250.738 2279.55,250.738 2279.55,95.2176 1972.48,95.2176 1972.48,250.738 \"/>\n",
       "<polyline clip-path=\"url(#clip320)\" style=\"stroke:#009af9; stroke-linecap:round; stroke-linejoin:round; stroke-width:4; stroke-opacity:1; fill:none\" points=\"1996.88,147.058 2143.29,147.058 \"/>\n",
       "<path clip-path=\"url(#clip320)\" d=\"M2186.12 139.176 L2186.12 143.203 Q2184.32 142.277 2182.37 141.815 Q2180.43 141.352 2178.34 141.352 Q2175.17 141.352 2173.58 142.324 Q2172 143.296 2172 145.24 Q2172 146.722 2173.14 147.578 Q2174.27 148.412 2177.7 149.176 L2179.15 149.5 Q2183.69 150.472 2185.59 152.254 Q2187.51 154.014 2187.51 157.185 Q2187.51 160.796 2184.64 162.902 Q2181.79 165.009 2176.79 165.009 Q2174.71 165.009 2172.44 164.592 Q2170.2 164.199 2167.7 163.388 L2167.7 158.99 Q2170.06 160.217 2172.35 160.842 Q2174.64 161.444 2176.89 161.444 Q2179.89 161.444 2181.52 160.426 Q2183.14 159.384 2183.14 157.509 Q2183.14 155.773 2181.95 154.847 Q2180.8 153.921 2176.84 153.064 L2175.36 152.717 Q2171.4 151.884 2169.64 150.171 Q2167.88 148.435 2167.88 145.426 Q2167.88 141.768 2170.47 139.778 Q2173.07 137.787 2177.83 137.787 Q2180.2 137.787 2182.28 138.134 Q2184.36 138.481 2186.12 139.176 Z\" fill=\"#000000\" fill-rule=\"evenodd\" fill-opacity=\"1\" /><path clip-path=\"url(#clip320)\" d=\"M2204.89 147.926 Q2201.56 147.926 2199.64 149.708 Q2197.74 151.49 2197.74 154.615 Q2197.74 157.74 2199.64 159.523 Q2201.56 161.305 2204.89 161.305 Q2208.23 161.305 2210.15 159.523 Q2212.07 157.717 2212.07 154.615 Q2212.07 151.49 2210.15 149.708 Q2208.25 147.926 2204.89 147.926 M2200.22 145.935 Q2197.21 145.194 2195.52 143.134 Q2193.85 141.074 2193.85 138.111 Q2193.85 133.967 2196.79 131.56 Q2199.76 129.153 2204.89 129.153 Q2210.06 129.153 2213 131.56 Q2215.94 133.967 2215.94 138.111 Q2215.94 141.074 2214.25 143.134 Q2212.58 145.194 2209.59 145.935 Q2212.97 146.722 2214.85 149.014 Q2216.75 151.305 2216.75 154.615 Q2216.75 159.639 2213.67 162.324 Q2210.61 165.009 2204.89 165.009 Q2199.18 165.009 2196.1 162.324 Q2193.04 159.639 2193.04 154.615 Q2193.04 151.305 2194.94 149.014 Q2196.84 146.722 2200.22 145.935 M2198.51 138.551 Q2198.51 141.236 2200.17 142.74 Q2201.86 144.245 2204.89 144.245 Q2207.9 144.245 2209.59 142.74 Q2211.31 141.236 2211.31 138.551 Q2211.31 135.865 2209.59 134.361 Q2207.9 132.856 2204.89 132.856 Q2201.86 132.856 2200.17 134.361 Q2198.51 135.865 2198.51 138.551 Z\" fill=\"#000000\" fill-rule=\"evenodd\" fill-opacity=\"1\" /><polyline clip-path=\"url(#clip320)\" style=\"stroke:#e26f46; stroke-linecap:round; stroke-linejoin:round; stroke-width:4; stroke-opacity:1; fill:none\" points=\"1996.88,198.898 2143.29,198.898 \"/>\n",
       "<path clip-path=\"url(#clip320)\" d=\"M2167.7 181.618 L2172.42 181.618 L2179.69 210.83 L2186.93 181.618 L2192.19 181.618 L2199.45 210.83 L2206.7 181.618 L2211.45 181.618 L2202.76 216.178 L2196.89 216.178 L2189.59 186.178 L2182.23 216.178 L2176.35 216.178 L2167.7 181.618 Z\" fill=\"#000000\" fill-rule=\"evenodd\" fill-opacity=\"1\" /><path clip-path=\"url(#clip320)\" d=\"M2237.65 195.229 Q2239.25 192.358 2241.47 190.993 Q2243.69 189.627 2246.7 189.627 Q2250.75 189.627 2252.95 192.474 Q2255.15 195.298 2255.15 200.529 L2255.15 216.178 L2250.87 216.178 L2250.87 200.668 Q2250.87 196.942 2249.55 195.136 Q2248.23 193.33 2245.52 193.33 Q2242.21 193.33 2240.29 195.53 Q2238.37 197.729 2238.37 201.525 L2238.37 216.178 L2234.08 216.178 L2234.08 200.668 Q2234.08 196.918 2232.76 195.136 Q2231.45 193.33 2228.69 193.33 Q2225.43 193.33 2223.51 195.553 Q2221.58 197.752 2221.58 201.525 L2221.58 216.178 L2217.3 216.178 L2217.3 190.252 L2221.58 190.252 L2221.58 194.28 Q2223.04 191.895 2225.08 190.761 Q2227.12 189.627 2229.92 189.627 Q2232.74 189.627 2234.71 191.062 Q2236.7 192.497 2237.65 195.229 Z\" fill=\"#000000\" fill-rule=\"evenodd\" fill-opacity=\"1\" /></svg>\n"
      ]
     },
     "execution_count": 29,
     "metadata": {},
     "output_type": "execute_result"
    }
   ],
   "source": [
    "s8s = [sample[4] for sample in samples]\n",
    "Wms = [sample[1] for sample in samples]\n",
    "plot(s8s, label=\"s8\")\n",
    "plot!(Wms, label=\"Wm\")"
   ]
  },
  {
   "cell_type": "code",
   "execution_count": 30,
   "id": "2abe8938",
   "metadata": {},
   "outputs": [
    {
     "data": {
      "image/svg+xml": [
       "<?xml version=\"1.0\" encoding=\"utf-8\"?>\n",
       "<svg xmlns=\"http://www.w3.org/2000/svg\" xmlns:xlink=\"http://www.w3.org/1999/xlink\" width=\"600\" height=\"400\" viewBox=\"0 0 2400 1600\">\n",
       "<defs>\n",
       "  <clipPath id=\"clip360\">\n",
       "    <rect x=\"0\" y=\"0\" width=\"2400\" height=\"1600\"/>\n",
       "  </clipPath>\n",
       "</defs>\n",
       "<path clip-path=\"url(#clip360)\" d=\"M0 1600 L2400 1600 L2400 0 L0 0  Z\" fill=\"#ffffff\" fill-rule=\"evenodd\" fill-opacity=\"1\"/>\n",
       "<defs>\n",
       "  <clipPath id=\"clip361\">\n",
       "    <rect x=\"480\" y=\"0\" width=\"1681\" height=\"1600\"/>\n",
       "  </clipPath>\n",
       "</defs>\n",
       "<path clip-path=\"url(#clip360)\" d=\"M186.274 1486.45 L2112.76 1486.45 L2112.76 47.2441 L186.274 47.2441  Z\" fill=\"#ffffff\" fill-rule=\"evenodd\" fill-opacity=\"1\"/>\n",
       "<defs>\n",
       "  <clipPath id=\"clip362\">\n",
       "    <rect x=\"186\" y=\"47\" width=\"1927\" height=\"1440\"/>\n",
       "  </clipPath>\n",
       "</defs>\n",
       "<polyline clip-path=\"url(#clip362)\" style=\"stroke:#000000; stroke-linecap:round; stroke-linejoin:round; stroke-width:2; stroke-opacity:0.1; fill:none\" points=\"263.333,1486.45 263.333,47.2441 \"/>\n",
       "<polyline clip-path=\"url(#clip362)\" style=\"stroke:#000000; stroke-linecap:round; stroke-linejoin:round; stroke-width:2; stroke-opacity:0.1; fill:none\" points=\"648.63,1486.45 648.63,47.2441 \"/>\n",
       "<polyline clip-path=\"url(#clip362)\" style=\"stroke:#000000; stroke-linecap:round; stroke-linejoin:round; stroke-width:2; stroke-opacity:0.1; fill:none\" points=\"1033.93,1486.45 1033.93,47.2441 \"/>\n",
       "<polyline clip-path=\"url(#clip362)\" style=\"stroke:#000000; stroke-linecap:round; stroke-linejoin:round; stroke-width:2; stroke-opacity:0.1; fill:none\" points=\"1419.22,1486.45 1419.22,47.2441 \"/>\n",
       "<polyline clip-path=\"url(#clip362)\" style=\"stroke:#000000; stroke-linecap:round; stroke-linejoin:round; stroke-width:2; stroke-opacity:0.1; fill:none\" points=\"1804.52,1486.45 1804.52,47.2441 \"/>\n",
       "<polyline clip-path=\"url(#clip360)\" style=\"stroke:#000000; stroke-linecap:round; stroke-linejoin:round; stroke-width:4; stroke-opacity:1; fill:none\" points=\"186.274,1486.45 2112.76,1486.45 \"/>\n",
       "<polyline clip-path=\"url(#clip360)\" style=\"stroke:#000000; stroke-linecap:round; stroke-linejoin:round; stroke-width:4; stroke-opacity:1; fill:none\" points=\"263.333,1486.45 263.333,1467.55 \"/>\n",
       "<polyline clip-path=\"url(#clip360)\" style=\"stroke:#000000; stroke-linecap:round; stroke-linejoin:round; stroke-width:4; stroke-opacity:1; fill:none\" points=\"648.63,1486.45 648.63,1467.55 \"/>\n",
       "<polyline clip-path=\"url(#clip360)\" style=\"stroke:#000000; stroke-linecap:round; stroke-linejoin:round; stroke-width:4; stroke-opacity:1; fill:none\" points=\"1033.93,1486.45 1033.93,1467.55 \"/>\n",
       "<polyline clip-path=\"url(#clip360)\" style=\"stroke:#000000; stroke-linecap:round; stroke-linejoin:round; stroke-width:4; stroke-opacity:1; fill:none\" points=\"1419.22,1486.45 1419.22,1467.55 \"/>\n",
       "<polyline clip-path=\"url(#clip360)\" style=\"stroke:#000000; stroke-linecap:round; stroke-linejoin:round; stroke-width:4; stroke-opacity:1; fill:none\" points=\"1804.52,1486.45 1804.52,1467.55 \"/>\n",
       "<path clip-path=\"url(#clip360)\" d=\"M210.556 1517.37 Q206.945 1517.37 205.116 1520.93 Q203.31 1524.47 203.31 1531.6 Q203.31 1538.71 205.116 1542.27 Q206.945 1545.82 210.556 1545.82 Q214.19 1545.82 215.996 1542.27 Q217.824 1538.71 217.824 1531.6 Q217.824 1524.47 215.996 1520.93 Q214.19 1517.37 210.556 1517.37 M210.556 1513.66 Q216.366 1513.66 219.421 1518.27 Q222.5 1522.85 222.5 1531.6 Q222.5 1540.33 219.421 1544.94 Q216.366 1549.52 210.556 1549.52 Q204.746 1549.52 201.667 1544.94 Q198.611 1540.33 198.611 1531.6 Q198.611 1522.85 201.667 1518.27 Q204.746 1513.66 210.556 1513.66 Z\" fill=\"#000000\" fill-rule=\"evenodd\" fill-opacity=\"1\" /><path clip-path=\"url(#clip360)\" d=\"M230.718 1542.97 L235.602 1542.97 L235.602 1548.85 L230.718 1548.85 L230.718 1542.97 Z\" fill=\"#000000\" fill-rule=\"evenodd\" fill-opacity=\"1\" /><path clip-path=\"url(#clip360)\" d=\"M249.815 1544.91 L266.134 1544.91 L266.134 1548.85 L244.19 1548.85 L244.19 1544.91 Q246.852 1542.16 251.435 1537.53 Q256.042 1532.88 257.222 1531.53 Q259.468 1529.01 260.347 1527.27 Q261.25 1525.51 261.25 1523.82 Q261.25 1521.07 259.306 1519.33 Q257.384 1517.6 254.282 1517.6 Q252.083 1517.6 249.63 1518.36 Q247.199 1519.13 244.421 1520.68 L244.421 1515.95 Q247.245 1514.82 249.699 1514.24 Q252.153 1513.66 254.19 1513.66 Q259.56 1513.66 262.755 1516.35 Q265.949 1519.03 265.949 1523.52 Q265.949 1525.65 265.139 1527.57 Q264.352 1529.47 262.245 1532.07 Q261.667 1532.74 258.565 1535.95 Q255.463 1539.15 249.815 1544.91 Z\" fill=\"#000000\" fill-rule=\"evenodd\" fill-opacity=\"1\" /><path clip-path=\"url(#clip360)\" d=\"M275.995 1514.29 L294.352 1514.29 L294.352 1518.22 L280.278 1518.22 L280.278 1526.7 Q281.296 1526.35 282.315 1526.19 Q283.333 1526 284.352 1526 Q290.139 1526 293.518 1529.17 Q296.898 1532.34 296.898 1537.76 Q296.898 1543.34 293.426 1546.44 Q289.954 1549.52 283.634 1549.52 Q281.458 1549.52 279.19 1549.15 Q276.944 1548.78 274.537 1548.04 L274.537 1543.34 Q276.62 1544.47 278.842 1545.03 Q281.065 1545.58 283.542 1545.58 Q287.546 1545.58 289.884 1543.48 Q292.222 1541.37 292.222 1537.76 Q292.222 1534.15 289.884 1532.04 Q287.546 1529.94 283.542 1529.94 Q281.667 1529.94 279.792 1530.35 Q277.94 1530.77 275.995 1531.65 L275.995 1514.29 Z\" fill=\"#000000\" fill-rule=\"evenodd\" fill-opacity=\"1\" /><path clip-path=\"url(#clip360)\" d=\"M316.111 1517.37 Q312.5 1517.37 310.671 1520.93 Q308.865 1524.47 308.865 1531.6 Q308.865 1538.71 310.671 1542.27 Q312.5 1545.82 316.111 1545.82 Q319.745 1545.82 321.551 1542.27 Q323.379 1538.71 323.379 1531.6 Q323.379 1524.47 321.551 1520.93 Q319.745 1517.37 316.111 1517.37 M316.111 1513.66 Q321.921 1513.66 324.976 1518.27 Q328.055 1522.85 328.055 1531.6 Q328.055 1540.33 324.976 1544.94 Q321.921 1549.52 316.111 1549.52 Q310.301 1549.52 307.222 1544.94 Q304.166 1540.33 304.166 1531.6 Q304.166 1522.85 307.222 1518.27 Q310.301 1513.66 316.111 1513.66 Z\" fill=\"#000000\" fill-rule=\"evenodd\" fill-opacity=\"1\" /><path clip-path=\"url(#clip360)\" d=\"M596.35 1517.37 Q592.739 1517.37 590.91 1520.93 Q589.105 1524.47 589.105 1531.6 Q589.105 1538.71 590.91 1542.27 Q592.739 1545.82 596.35 1545.82 Q599.984 1545.82 601.79 1542.27 Q603.618 1538.71 603.618 1531.6 Q603.618 1524.47 601.79 1520.93 Q599.984 1517.37 596.35 1517.37 M596.35 1513.66 Q602.16 1513.66 605.216 1518.27 Q608.294 1522.85 608.294 1531.6 Q608.294 1540.33 605.216 1544.94 Q602.16 1549.52 596.35 1549.52 Q590.54 1549.52 587.461 1544.94 Q584.405 1540.33 584.405 1531.6 Q584.405 1522.85 587.461 1518.27 Q590.54 1513.66 596.35 1513.66 Z\" fill=\"#000000\" fill-rule=\"evenodd\" fill-opacity=\"1\" /><path clip-path=\"url(#clip360)\" d=\"M616.512 1542.97 L621.396 1542.97 L621.396 1548.85 L616.512 1548.85 L616.512 1542.97 Z\" fill=\"#000000\" fill-rule=\"evenodd\" fill-opacity=\"1\" /><path clip-path=\"url(#clip360)\" d=\"M635.609 1544.91 L651.928 1544.91 L651.928 1548.85 L629.984 1548.85 L629.984 1544.91 Q632.646 1542.16 637.229 1537.53 Q641.836 1532.88 643.016 1531.53 Q645.262 1529.01 646.141 1527.27 Q647.044 1525.51 647.044 1523.82 Q647.044 1521.07 645.1 1519.33 Q643.178 1517.6 640.076 1517.6 Q637.877 1517.6 635.424 1518.36 Q632.993 1519.13 630.215 1520.68 L630.215 1515.95 Q633.039 1514.82 635.493 1514.24 Q637.947 1513.66 639.984 1513.66 Q645.354 1513.66 648.549 1516.35 Q651.743 1519.03 651.743 1523.52 Q651.743 1525.65 650.933 1527.57 Q650.146 1529.47 648.039 1532.07 Q647.461 1532.74 644.359 1535.95 Q641.257 1539.15 635.609 1544.91 Z\" fill=\"#000000\" fill-rule=\"evenodd\" fill-opacity=\"1\" /><path clip-path=\"url(#clip360)\" d=\"M660.562 1514.29 L682.785 1514.29 L682.785 1516.28 L670.238 1548.85 L665.354 1548.85 L677.16 1518.22 L660.562 1518.22 L660.562 1514.29 Z\" fill=\"#000000\" fill-rule=\"evenodd\" fill-opacity=\"1\" /><path clip-path=\"url(#clip360)\" d=\"M691.951 1514.29 L710.308 1514.29 L710.308 1518.22 L696.234 1518.22 L696.234 1526.7 Q697.252 1526.35 698.271 1526.19 Q699.289 1526 700.308 1526 Q706.095 1526 709.474 1529.17 Q712.854 1532.34 712.854 1537.76 Q712.854 1543.34 709.382 1546.44 Q705.909 1549.52 699.59 1549.52 Q697.414 1549.52 695.146 1549.15 Q692.9 1548.78 690.493 1548.04 L690.493 1543.34 Q692.576 1544.47 694.798 1545.03 Q697.021 1545.58 699.497 1545.58 Q703.502 1545.58 705.84 1543.48 Q708.178 1541.37 708.178 1537.76 Q708.178 1534.15 705.84 1532.04 Q703.502 1529.94 699.497 1529.94 Q697.622 1529.94 695.747 1530.35 Q693.896 1530.77 691.951 1531.65 L691.951 1514.29 Z\" fill=\"#000000\" fill-rule=\"evenodd\" fill-opacity=\"1\" /><path clip-path=\"url(#clip360)\" d=\"M981.149 1517.37 Q977.537 1517.37 975.709 1520.93 Q973.903 1524.47 973.903 1531.6 Q973.903 1538.71 975.709 1542.27 Q977.537 1545.82 981.149 1545.82 Q984.783 1545.82 986.588 1542.27 Q988.417 1538.71 988.417 1531.6 Q988.417 1524.47 986.588 1520.93 Q984.783 1517.37 981.149 1517.37 M981.149 1513.66 Q986.959 1513.66 990.014 1518.27 Q993.093 1522.85 993.093 1531.6 Q993.093 1540.33 990.014 1544.94 Q986.959 1549.52 981.149 1549.52 Q975.338 1549.52 972.26 1544.94 Q969.204 1540.33 969.204 1531.6 Q969.204 1522.85 972.26 1518.27 Q975.338 1513.66 981.149 1513.66 Z\" fill=\"#000000\" fill-rule=\"evenodd\" fill-opacity=\"1\" /><path clip-path=\"url(#clip360)\" d=\"M1001.31 1542.97 L1006.19 1542.97 L1006.19 1548.85 L1001.31 1548.85 L1001.31 1542.97 Z\" fill=\"#000000\" fill-rule=\"evenodd\" fill-opacity=\"1\" /><path clip-path=\"url(#clip360)\" d=\"M1030.55 1530.21 Q1033.9 1530.93 1035.78 1533.2 Q1037.68 1535.47 1037.68 1538.8 Q1037.68 1543.92 1034.16 1546.72 Q1030.64 1549.52 1024.16 1549.52 Q1021.98 1549.52 1019.67 1549.08 Q1017.38 1548.66 1014.92 1547.81 L1014.92 1543.29 Q1016.87 1544.43 1019.18 1545.01 Q1021.5 1545.58 1024.02 1545.58 Q1028.42 1545.58 1030.71 1543.85 Q1033.02 1542.11 1033.02 1538.8 Q1033.02 1535.75 1030.87 1534.03 Q1028.74 1532.3 1024.92 1532.3 L1020.89 1532.3 L1020.89 1528.45 L1025.11 1528.45 Q1028.56 1528.45 1030.38 1527.09 Q1032.21 1525.7 1032.21 1523.11 Q1032.21 1520.45 1030.31 1519.03 Q1028.44 1517.6 1024.92 1517.6 Q1023 1517.6 1020.8 1518.01 Q1018.6 1518.43 1015.96 1519.31 L1015.96 1515.14 Q1018.63 1514.4 1020.94 1514.03 Q1023.28 1513.66 1025.34 1513.66 Q1030.66 1513.66 1033.76 1516.09 Q1036.87 1518.5 1036.87 1522.62 Q1036.87 1525.49 1035.22 1527.48 Q1033.58 1529.45 1030.55 1530.21 Z\" fill=\"#000000\" fill-rule=\"evenodd\" fill-opacity=\"1\" /><path clip-path=\"url(#clip360)\" d=\"M1056.54 1517.37 Q1052.93 1517.37 1051.1 1520.93 Q1049.3 1524.47 1049.3 1531.6 Q1049.3 1538.71 1051.1 1542.27 Q1052.93 1545.82 1056.54 1545.82 Q1060.18 1545.82 1061.98 1542.27 Q1063.81 1538.71 1063.81 1531.6 Q1063.81 1524.47 1061.98 1520.93 Q1060.18 1517.37 1056.54 1517.37 M1056.54 1513.66 Q1062.35 1513.66 1065.41 1518.27 Q1068.49 1522.85 1068.49 1531.6 Q1068.49 1540.33 1065.41 1544.94 Q1062.35 1549.52 1056.54 1549.52 Q1050.73 1549.52 1047.65 1544.94 Q1044.6 1540.33 1044.6 1531.6 Q1044.6 1522.85 1047.65 1518.27 Q1050.73 1513.66 1056.54 1513.66 Z\" fill=\"#000000\" fill-rule=\"evenodd\" fill-opacity=\"1\" /><path clip-path=\"url(#clip360)\" d=\"M1086.7 1517.37 Q1083.09 1517.37 1081.26 1520.93 Q1079.46 1524.47 1079.46 1531.6 Q1079.46 1538.71 1081.26 1542.27 Q1083.09 1545.82 1086.7 1545.82 Q1090.34 1545.82 1092.14 1542.27 Q1093.97 1538.71 1093.97 1531.6 Q1093.97 1524.47 1092.14 1520.93 Q1090.34 1517.37 1086.7 1517.37 M1086.7 1513.66 Q1092.51 1513.66 1095.57 1518.27 Q1098.65 1522.85 1098.65 1531.6 Q1098.65 1540.33 1095.57 1544.94 Q1092.51 1549.52 1086.7 1549.52 Q1080.89 1549.52 1077.81 1544.94 Q1074.76 1540.33 1074.76 1531.6 Q1074.76 1522.85 1077.81 1518.27 Q1080.89 1513.66 1086.7 1513.66 Z\" fill=\"#000000\" fill-rule=\"evenodd\" fill-opacity=\"1\" /><path clip-path=\"url(#clip360)\" d=\"M1366.94 1517.37 Q1363.33 1517.37 1361.5 1520.93 Q1359.7 1524.47 1359.7 1531.6 Q1359.7 1538.71 1361.5 1542.27 Q1363.33 1545.82 1366.94 1545.82 Q1370.58 1545.82 1372.38 1542.27 Q1374.21 1538.71 1374.21 1531.6 Q1374.21 1524.47 1372.38 1520.93 Q1370.58 1517.37 1366.94 1517.37 M1366.94 1513.66 Q1372.75 1513.66 1375.81 1518.27 Q1378.89 1522.85 1378.89 1531.6 Q1378.89 1540.33 1375.81 1544.94 Q1372.75 1549.52 1366.94 1549.52 Q1361.13 1549.52 1358.05 1544.94 Q1355 1540.33 1355 1531.6 Q1355 1522.85 1358.05 1518.27 Q1361.13 1513.66 1366.94 1513.66 Z\" fill=\"#000000\" fill-rule=\"evenodd\" fill-opacity=\"1\" /><path clip-path=\"url(#clip360)\" d=\"M1387.1 1542.97 L1391.99 1542.97 L1391.99 1548.85 L1387.1 1548.85 L1387.1 1542.97 Z\" fill=\"#000000\" fill-rule=\"evenodd\" fill-opacity=\"1\" /><path clip-path=\"url(#clip360)\" d=\"M1416.34 1530.21 Q1419.7 1530.93 1421.57 1533.2 Q1423.47 1535.47 1423.47 1538.8 Q1423.47 1543.92 1419.95 1546.72 Q1416.43 1549.52 1409.95 1549.52 Q1407.78 1549.52 1405.46 1549.08 Q1403.17 1548.66 1400.72 1547.81 L1400.72 1543.29 Q1402.66 1544.43 1404.97 1545.01 Q1407.29 1545.58 1409.81 1545.58 Q1414.21 1545.58 1416.5 1543.85 Q1418.82 1542.11 1418.82 1538.8 Q1418.82 1535.75 1416.66 1534.03 Q1414.53 1532.3 1410.72 1532.3 L1406.69 1532.3 L1406.69 1528.45 L1410.9 1528.45 Q1414.35 1528.45 1416.18 1527.09 Q1418.01 1525.7 1418.01 1523.11 Q1418.01 1520.45 1416.11 1519.03 Q1414.23 1517.6 1410.72 1517.6 Q1408.79 1517.6 1406.6 1518.01 Q1404.4 1518.43 1401.76 1519.31 L1401.76 1515.14 Q1404.42 1514.4 1406.73 1514.03 Q1409.07 1513.66 1411.13 1513.66 Q1416.46 1513.66 1419.56 1516.09 Q1422.66 1518.5 1422.66 1522.62 Q1422.66 1525.49 1421.02 1527.48 Q1419.37 1529.45 1416.34 1530.21 Z\" fill=\"#000000\" fill-rule=\"evenodd\" fill-opacity=\"1\" /><path clip-path=\"url(#clip360)\" d=\"M1436.36 1544.91 L1452.68 1544.91 L1452.68 1548.85 L1430.74 1548.85 L1430.74 1544.91 Q1433.4 1542.16 1437.98 1537.53 Q1442.59 1532.88 1443.77 1531.53 Q1446.02 1529.01 1446.9 1527.27 Q1447.8 1525.51 1447.8 1523.82 Q1447.8 1521.07 1445.85 1519.33 Q1443.93 1517.6 1440.83 1517.6 Q1438.63 1517.6 1436.18 1518.36 Q1433.75 1519.13 1430.97 1520.68 L1430.97 1515.95 Q1433.79 1514.82 1436.25 1514.24 Q1438.7 1513.66 1440.74 1513.66 Q1446.11 1513.66 1449.3 1516.35 Q1452.5 1519.03 1452.5 1523.52 Q1452.5 1525.65 1451.69 1527.57 Q1450.9 1529.47 1448.79 1532.07 Q1448.22 1532.74 1445.11 1535.95 Q1442.01 1539.15 1436.36 1544.91 Z\" fill=\"#000000\" fill-rule=\"evenodd\" fill-opacity=\"1\" /><path clip-path=\"url(#clip360)\" d=\"M1462.54 1514.29 L1480.9 1514.29 L1480.9 1518.22 L1466.83 1518.22 L1466.83 1526.7 Q1467.84 1526.35 1468.86 1526.19 Q1469.88 1526 1470.9 1526 Q1476.69 1526 1480.07 1529.17 Q1483.45 1532.34 1483.45 1537.76 Q1483.45 1543.34 1479.97 1546.44 Q1476.5 1549.52 1470.18 1549.52 Q1468.01 1549.52 1465.74 1549.15 Q1463.49 1548.78 1461.09 1548.04 L1461.09 1543.34 Q1463.17 1544.47 1465.39 1545.03 Q1467.61 1545.58 1470.09 1545.58 Q1474.09 1545.58 1476.43 1543.48 Q1478.77 1541.37 1478.77 1537.76 Q1478.77 1534.15 1476.43 1532.04 Q1474.09 1529.94 1470.09 1529.94 Q1468.22 1529.94 1466.34 1530.35 Q1464.49 1530.77 1462.54 1531.65 L1462.54 1514.29 Z\" fill=\"#000000\" fill-rule=\"evenodd\" fill-opacity=\"1\" /><path clip-path=\"url(#clip360)\" d=\"M1751.74 1517.37 Q1748.13 1517.37 1746.3 1520.93 Q1744.5 1524.47 1744.5 1531.6 Q1744.5 1538.71 1746.3 1542.27 Q1748.13 1545.82 1751.74 1545.82 Q1755.38 1545.82 1757.18 1542.27 Q1759.01 1538.71 1759.01 1531.6 Q1759.01 1524.47 1757.18 1520.93 Q1755.38 1517.37 1751.74 1517.37 M1751.74 1513.66 Q1757.55 1513.66 1760.61 1518.27 Q1763.69 1522.85 1763.69 1531.6 Q1763.69 1540.33 1760.61 1544.94 Q1757.55 1549.52 1751.74 1549.52 Q1745.93 1549.52 1742.85 1544.94 Q1739.8 1540.33 1739.8 1531.6 Q1739.8 1522.85 1742.85 1518.27 Q1745.93 1513.66 1751.74 1513.66 Z\" fill=\"#000000\" fill-rule=\"evenodd\" fill-opacity=\"1\" /><path clip-path=\"url(#clip360)\" d=\"M1771.9 1542.97 L1776.79 1542.97 L1776.79 1548.85 L1771.9 1548.85 L1771.9 1542.97 Z\" fill=\"#000000\" fill-rule=\"evenodd\" fill-opacity=\"1\" /><path clip-path=\"url(#clip360)\" d=\"M1801.14 1530.21 Q1804.5 1530.93 1806.37 1533.2 Q1808.27 1535.47 1808.27 1538.8 Q1808.27 1543.92 1804.75 1546.72 Q1801.23 1549.52 1794.75 1549.52 Q1792.57 1549.52 1790.26 1549.08 Q1787.97 1548.66 1785.51 1547.81 L1785.51 1543.29 Q1787.46 1544.43 1789.77 1545.01 Q1792.09 1545.58 1794.61 1545.58 Q1799.01 1545.58 1801.3 1543.85 Q1803.62 1542.11 1803.62 1538.8 Q1803.62 1535.75 1801.46 1534.03 Q1799.33 1532.3 1795.51 1532.3 L1791.49 1532.3 L1791.49 1528.45 L1795.7 1528.45 Q1799.15 1528.45 1800.98 1527.09 Q1802.81 1525.7 1802.81 1523.11 Q1802.81 1520.45 1800.91 1519.03 Q1799.03 1517.6 1795.51 1517.6 Q1793.59 1517.6 1791.39 1518.01 Q1789.19 1518.43 1786.56 1519.31 L1786.56 1515.14 Q1789.22 1514.4 1791.53 1514.03 Q1793.87 1513.66 1795.93 1513.66 Q1801.25 1513.66 1804.36 1516.09 Q1807.46 1518.5 1807.46 1522.62 Q1807.46 1525.49 1805.82 1527.48 Q1804.17 1529.45 1801.14 1530.21 Z\" fill=\"#000000\" fill-rule=\"evenodd\" fill-opacity=\"1\" /><path clip-path=\"url(#clip360)\" d=\"M1817.18 1514.29 L1835.54 1514.29 L1835.54 1518.22 L1821.46 1518.22 L1821.46 1526.7 Q1822.48 1526.35 1823.5 1526.19 Q1824.52 1526 1825.54 1526 Q1831.32 1526 1834.7 1529.17 Q1838.08 1532.34 1838.08 1537.76 Q1838.08 1543.34 1834.61 1546.44 Q1831.14 1549.52 1824.82 1549.52 Q1822.64 1549.52 1820.38 1549.15 Q1818.13 1548.78 1815.72 1548.04 L1815.72 1543.34 Q1817.81 1544.47 1820.03 1545.03 Q1822.25 1545.58 1824.73 1545.58 Q1828.73 1545.58 1831.07 1543.48 Q1833.41 1541.37 1833.41 1537.76 Q1833.41 1534.15 1831.07 1532.04 Q1828.73 1529.94 1824.73 1529.94 Q1822.85 1529.94 1820.98 1530.35 Q1819.13 1530.77 1817.18 1531.65 L1817.18 1514.29 Z\" fill=\"#000000\" fill-rule=\"evenodd\" fill-opacity=\"1\" /><path clip-path=\"url(#clip360)\" d=\"M1857.3 1517.37 Q1853.69 1517.37 1851.86 1520.93 Q1850.05 1524.47 1850.05 1531.6 Q1850.05 1538.71 1851.86 1542.27 Q1853.69 1545.82 1857.3 1545.82 Q1860.93 1545.82 1862.74 1542.27 Q1864.56 1538.71 1864.56 1531.6 Q1864.56 1524.47 1862.74 1520.93 Q1860.93 1517.37 1857.3 1517.37 M1857.3 1513.66 Q1863.11 1513.66 1866.16 1518.27 Q1869.24 1522.85 1869.24 1531.6 Q1869.24 1540.33 1866.16 1544.94 Q1863.11 1549.52 1857.3 1549.52 Q1851.49 1549.52 1848.41 1544.94 Q1845.35 1540.33 1845.35 1531.6 Q1845.35 1522.85 1848.41 1518.27 Q1851.49 1513.66 1857.3 1513.66 Z\" fill=\"#000000\" fill-rule=\"evenodd\" fill-opacity=\"1\" /><polyline clip-path=\"url(#clip362)\" style=\"stroke:#000000; stroke-linecap:round; stroke-linejoin:round; stroke-width:2; stroke-opacity:0.1; fill:none\" points=\"186.274,1337.56 2112.76,1337.56 \"/>\n",
       "<polyline clip-path=\"url(#clip362)\" style=\"stroke:#000000; stroke-linecap:round; stroke-linejoin:round; stroke-width:2; stroke-opacity:0.1; fill:none\" points=\"186.274,1089.43 2112.76,1089.43 \"/>\n",
       "<polyline clip-path=\"url(#clip362)\" style=\"stroke:#000000; stroke-linecap:round; stroke-linejoin:round; stroke-width:2; stroke-opacity:0.1; fill:none\" points=\"186.274,841.288 2112.76,841.288 \"/>\n",
       "<polyline clip-path=\"url(#clip362)\" style=\"stroke:#000000; stroke-linecap:round; stroke-linejoin:round; stroke-width:2; stroke-opacity:0.1; fill:none\" points=\"186.274,593.149 2112.76,593.149 \"/>\n",
       "<polyline clip-path=\"url(#clip362)\" style=\"stroke:#000000; stroke-linecap:round; stroke-linejoin:round; stroke-width:2; stroke-opacity:0.1; fill:none\" points=\"186.274,345.01 2112.76,345.01 \"/>\n",
       "<polyline clip-path=\"url(#clip362)\" style=\"stroke:#000000; stroke-linecap:round; stroke-linejoin:round; stroke-width:2; stroke-opacity:0.1; fill:none\" points=\"186.274,96.8718 2112.76,96.8718 \"/>\n",
       "<polyline clip-path=\"url(#clip360)\" style=\"stroke:#000000; stroke-linecap:round; stroke-linejoin:round; stroke-width:4; stroke-opacity:1; fill:none\" points=\"186.274,1486.45 186.274,47.2441 \"/>\n",
       "<polyline clip-path=\"url(#clip360)\" style=\"stroke:#000000; stroke-linecap:round; stroke-linejoin:round; stroke-width:4; stroke-opacity:1; fill:none\" points=\"186.274,1337.56 203.078,1337.56 \"/>\n",
       "<polyline clip-path=\"url(#clip360)\" style=\"stroke:#000000; stroke-linecap:round; stroke-linejoin:round; stroke-width:4; stroke-opacity:1; fill:none\" points=\"186.274,1089.43 203.078,1089.43 \"/>\n",
       "<polyline clip-path=\"url(#clip360)\" style=\"stroke:#000000; stroke-linecap:round; stroke-linejoin:round; stroke-width:4; stroke-opacity:1; fill:none\" points=\"186.274,841.288 203.078,841.288 \"/>\n",
       "<polyline clip-path=\"url(#clip360)\" style=\"stroke:#000000; stroke-linecap:round; stroke-linejoin:round; stroke-width:4; stroke-opacity:1; fill:none\" points=\"186.274,593.149 203.078,593.149 \"/>\n",
       "<polyline clip-path=\"url(#clip360)\" style=\"stroke:#000000; stroke-linecap:round; stroke-linejoin:round; stroke-width:4; stroke-opacity:1; fill:none\" points=\"186.274,345.01 203.078,345.01 \"/>\n",
       "<polyline clip-path=\"url(#clip360)\" style=\"stroke:#000000; stroke-linecap:round; stroke-linejoin:round; stroke-width:4; stroke-opacity:1; fill:none\" points=\"186.274,96.8718 203.078,96.8718 \"/>\n",
       "<path clip-path=\"url(#clip360)\" d=\"M63.9319 1323.36 Q60.3208 1323.36 58.4921 1326.93 Q56.6865 1330.47 56.6865 1337.6 Q56.6865 1344.71 58.4921 1348.27 Q60.3208 1351.81 63.9319 1351.81 Q67.5661 1351.81 69.3717 1348.27 Q71.2004 1344.71 71.2004 1337.6 Q71.2004 1330.47 69.3717 1326.93 Q67.5661 1323.36 63.9319 1323.36 M63.9319 1319.66 Q69.742 1319.66 72.7976 1324.27 Q75.8763 1328.85 75.8763 1337.6 Q75.8763 1346.33 72.7976 1350.93 Q69.742 1355.52 63.9319 1355.52 Q58.1217 1355.52 55.043 1350.93 Q51.9875 1346.33 51.9875 1337.6 Q51.9875 1328.85 55.043 1324.27 Q58.1217 1319.66 63.9319 1319.66 Z\" fill=\"#000000\" fill-rule=\"evenodd\" fill-opacity=\"1\" /><path clip-path=\"url(#clip360)\" d=\"M84.0938 1348.97 L88.978 1348.97 L88.978 1354.84 L84.0938 1354.84 L84.0938 1348.97 Z\" fill=\"#000000\" fill-rule=\"evenodd\" fill-opacity=\"1\" /><path clip-path=\"url(#clip360)\" d=\"M99.2095 1320.28 L117.566 1320.28 L117.566 1324.22 L103.492 1324.22 L103.492 1332.69 Q104.51 1332.34 105.529 1332.18 Q106.547 1332 107.566 1332 Q113.353 1332 116.733 1335.17 Q120.112 1338.34 120.112 1343.76 Q120.112 1349.34 116.64 1352.44 Q113.168 1355.52 106.848 1355.52 Q104.672 1355.52 102.404 1355.15 Q100.159 1354.78 97.7511 1354.03 L97.7511 1349.34 Q99.8345 1350.47 102.057 1351.03 Q104.279 1351.58 106.756 1351.58 Q110.76 1351.58 113.098 1349.47 Q115.436 1347.37 115.436 1343.76 Q115.436 1340.15 113.098 1338.04 Q110.76 1335.93 106.756 1335.93 Q104.881 1335.93 103.006 1336.35 Q101.154 1336.77 99.2095 1337.65 L99.2095 1320.28 Z\" fill=\"#000000\" fill-rule=\"evenodd\" fill-opacity=\"1\" /><path clip-path=\"url(#clip360)\" d=\"M129.371 1320.28 L147.728 1320.28 L147.728 1324.22 L133.654 1324.22 L133.654 1332.69 Q134.672 1332.34 135.691 1332.18 Q136.709 1332 137.728 1332 Q143.515 1332 146.894 1335.17 Q150.274 1338.34 150.274 1343.76 Q150.274 1349.34 146.802 1352.44 Q143.33 1355.52 137.01 1355.52 Q134.834 1355.52 132.566 1355.15 Q130.32 1354.78 127.913 1354.03 L127.913 1349.34 Q129.996 1350.47 132.219 1351.03 Q134.441 1351.58 136.918 1351.58 Q140.922 1351.58 143.26 1349.47 Q145.598 1347.37 145.598 1343.76 Q145.598 1340.15 143.26 1338.04 Q140.922 1335.93 136.918 1335.93 Q135.043 1335.93 133.168 1336.35 Q131.316 1336.77 129.371 1337.65 L129.371 1320.28 Z\" fill=\"#000000\" fill-rule=\"evenodd\" fill-opacity=\"1\" /><path clip-path=\"url(#clip360)\" d=\"M62.9365 1075.22 Q59.3254 1075.22 57.4967 1078.79 Q55.6912 1082.33 55.6912 1089.46 Q55.6912 1096.57 57.4967 1100.13 Q59.3254 1103.67 62.9365 1103.67 Q66.5707 1103.67 68.3763 1100.13 Q70.205 1096.57 70.205 1089.46 Q70.205 1082.33 68.3763 1078.79 Q66.5707 1075.22 62.9365 1075.22 M62.9365 1071.52 Q68.7467 1071.52 71.8022 1076.13 Q74.8809 1080.71 74.8809 1089.46 Q74.8809 1098.19 71.8022 1102.79 Q68.7467 1107.38 62.9365 1107.38 Q57.1264 1107.38 54.0477 1102.79 Q50.9921 1098.19 50.9921 1089.46 Q50.9921 1080.71 54.0477 1076.13 Q57.1264 1071.52 62.9365 1071.52 Z\" fill=\"#000000\" fill-rule=\"evenodd\" fill-opacity=\"1\" /><path clip-path=\"url(#clip360)\" d=\"M83.0984 1100.83 L87.9827 1100.83 L87.9827 1106.71 L83.0984 1106.71 L83.0984 1100.83 Z\" fill=\"#000000\" fill-rule=\"evenodd\" fill-opacity=\"1\" /><path clip-path=\"url(#clip360)\" d=\"M108.746 1087.56 Q105.598 1087.56 103.746 1089.72 Q101.918 1091.87 101.918 1095.62 Q101.918 1099.35 103.746 1101.52 Q105.598 1103.67 108.746 1103.67 Q111.895 1103.67 113.723 1101.52 Q115.575 1099.35 115.575 1095.62 Q115.575 1091.87 113.723 1089.72 Q111.895 1087.56 108.746 1087.56 M118.029 1072.91 L118.029 1077.17 Q116.27 1076.34 114.464 1075.9 Q112.682 1075.46 110.922 1075.46 Q106.293 1075.46 103.839 1078.58 Q101.409 1081.71 101.061 1088.03 Q102.427 1086.01 104.487 1084.95 Q106.547 1083.86 109.024 1083.86 Q114.233 1083.86 117.242 1087.03 Q120.274 1090.18 120.274 1095.62 Q120.274 1100.94 117.126 1104.16 Q113.978 1107.38 108.746 1107.38 Q102.751 1107.38 99.5798 1102.79 Q96.4085 1098.19 96.4085 1089.46 Q96.4085 1081.27 100.297 1076.41 Q104.186 1071.52 110.737 1071.52 Q112.496 1071.52 114.279 1071.87 Q116.084 1072.22 118.029 1072.91 Z\" fill=\"#000000\" fill-rule=\"evenodd\" fill-opacity=\"1\" /><path clip-path=\"url(#clip360)\" d=\"M138.33 1075.22 Q134.719 1075.22 132.89 1078.79 Q131.084 1082.33 131.084 1089.46 Q131.084 1096.57 132.89 1100.13 Q134.719 1103.67 138.33 1103.67 Q141.964 1103.67 143.769 1100.13 Q145.598 1096.57 145.598 1089.46 Q145.598 1082.33 143.769 1078.79 Q141.964 1075.22 138.33 1075.22 M138.33 1071.52 Q144.14 1071.52 147.195 1076.13 Q150.274 1080.71 150.274 1089.46 Q150.274 1098.19 147.195 1102.79 Q144.14 1107.38 138.33 1107.38 Q132.519 1107.38 129.441 1102.79 Q126.385 1098.19 126.385 1089.46 Q126.385 1080.71 129.441 1076.13 Q132.519 1071.52 138.33 1071.52 Z\" fill=\"#000000\" fill-rule=\"evenodd\" fill-opacity=\"1\" /><path clip-path=\"url(#clip360)\" d=\"M63.9319 827.086 Q60.3208 827.086 58.4921 830.651 Q56.6865 834.193 56.6865 841.322 Q56.6865 848.429 58.4921 851.994 Q60.3208 855.535 63.9319 855.535 Q67.5661 855.535 69.3717 851.994 Q71.2004 848.429 71.2004 841.322 Q71.2004 834.193 69.3717 830.651 Q67.5661 827.086 63.9319 827.086 M63.9319 823.383 Q69.742 823.383 72.7976 827.989 Q75.8763 832.572 75.8763 841.322 Q75.8763 850.049 72.7976 854.656 Q69.742 859.239 63.9319 859.239 Q58.1217 859.239 55.043 854.656 Q51.9875 850.049 51.9875 841.322 Q51.9875 832.572 55.043 827.989 Q58.1217 823.383 63.9319 823.383 Z\" fill=\"#000000\" fill-rule=\"evenodd\" fill-opacity=\"1\" /><path clip-path=\"url(#clip360)\" d=\"M84.0938 852.688 L88.978 852.688 L88.978 858.568 L84.0938 858.568 L84.0938 852.688 Z\" fill=\"#000000\" fill-rule=\"evenodd\" fill-opacity=\"1\" /><path clip-path=\"url(#clip360)\" d=\"M109.742 839.424 Q106.594 839.424 104.742 841.577 Q102.913 843.73 102.913 847.48 Q102.913 851.206 104.742 853.382 Q106.594 855.535 109.742 855.535 Q112.89 855.535 114.719 853.382 Q116.57 851.206 116.57 847.48 Q116.57 843.73 114.719 841.577 Q112.89 839.424 109.742 839.424 M119.024 824.771 L119.024 829.031 Q117.265 828.197 115.459 827.758 Q113.677 827.318 111.918 827.318 Q107.288 827.318 104.834 830.443 Q102.404 833.568 102.057 839.887 Q103.422 837.873 105.483 836.808 Q107.543 835.72 110.02 835.72 Q115.228 835.72 118.237 838.892 Q121.27 842.04 121.27 847.48 Q121.27 852.804 118.121 856.021 Q114.973 859.239 109.742 859.239 Q103.746 859.239 100.575 854.656 Q97.4039 850.049 97.4039 841.322 Q97.4039 833.128 101.293 828.267 Q105.182 823.383 111.733 823.383 Q113.492 823.383 115.274 823.73 Q117.08 824.077 119.024 824.771 Z\" fill=\"#000000\" fill-rule=\"evenodd\" fill-opacity=\"1\" /><path clip-path=\"url(#clip360)\" d=\"M129.371 824.008 L147.728 824.008 L147.728 827.943 L133.654 827.943 L133.654 836.415 Q134.672 836.068 135.691 835.906 Q136.709 835.72 137.728 835.72 Q143.515 835.72 146.894 838.892 Q150.274 842.063 150.274 847.48 Q150.274 853.058 146.802 856.16 Q143.33 859.239 137.01 859.239 Q134.834 859.239 132.566 858.868 Q130.32 858.498 127.913 857.757 L127.913 853.058 Q129.996 854.193 132.219 854.748 Q134.441 855.304 136.918 855.304 Q140.922 855.304 143.26 853.197 Q145.598 851.091 145.598 847.48 Q145.598 843.869 143.26 841.762 Q140.922 839.656 136.918 839.656 Q135.043 839.656 133.168 840.072 Q131.316 840.489 129.371 841.369 L129.371 824.008 Z\" fill=\"#000000\" fill-rule=\"evenodd\" fill-opacity=\"1\" /><path clip-path=\"url(#clip360)\" d=\"M62.9365 578.948 Q59.3254 578.948 57.4967 582.512 Q55.6912 586.054 55.6912 593.184 Q55.6912 600.29 57.4967 603.855 Q59.3254 607.397 62.9365 607.397 Q66.5707 607.397 68.3763 603.855 Q70.205 600.29 70.205 593.184 Q70.205 586.054 68.3763 582.512 Q66.5707 578.948 62.9365 578.948 M62.9365 575.244 Q68.7467 575.244 71.8022 579.85 Q74.8809 584.434 74.8809 593.184 Q74.8809 601.911 71.8022 606.517 Q68.7467 611.1 62.9365 611.1 Q57.1264 611.1 54.0477 606.517 Q50.9921 601.911 50.9921 593.184 Q50.9921 584.434 54.0477 579.85 Q57.1264 575.244 62.9365 575.244 Z\" fill=\"#000000\" fill-rule=\"evenodd\" fill-opacity=\"1\" /><path clip-path=\"url(#clip360)\" d=\"M83.0984 604.549 L87.9827 604.549 L87.9827 610.429 L83.0984 610.429 L83.0984 604.549 Z\" fill=\"#000000\" fill-rule=\"evenodd\" fill-opacity=\"1\" /><path clip-path=\"url(#clip360)\" d=\"M96.9872 575.869 L119.209 575.869 L119.209 577.86 L106.663 610.429 L101.779 610.429 L113.584 579.804 L96.9872 579.804 L96.9872 575.869 Z\" fill=\"#000000\" fill-rule=\"evenodd\" fill-opacity=\"1\" /><path clip-path=\"url(#clip360)\" d=\"M138.33 578.948 Q134.719 578.948 132.89 582.512 Q131.084 586.054 131.084 593.184 Q131.084 600.29 132.89 603.855 Q134.719 607.397 138.33 607.397 Q141.964 607.397 143.769 603.855 Q145.598 600.29 145.598 593.184 Q145.598 586.054 143.769 582.512 Q141.964 578.948 138.33 578.948 M138.33 575.244 Q144.14 575.244 147.195 579.85 Q150.274 584.434 150.274 593.184 Q150.274 601.911 147.195 606.517 Q144.14 611.1 138.33 611.1 Q132.519 611.1 129.441 606.517 Q126.385 601.911 126.385 593.184 Q126.385 584.434 129.441 579.85 Q132.519 575.244 138.33 575.244 Z\" fill=\"#000000\" fill-rule=\"evenodd\" fill-opacity=\"1\" /><path clip-path=\"url(#clip360)\" d=\"M63.9319 330.809 Q60.3208 330.809 58.4921 334.374 Q56.6865 337.916 56.6865 345.045 Q56.6865 352.152 58.4921 355.716 Q60.3208 359.258 63.9319 359.258 Q67.5661 359.258 69.3717 355.716 Q71.2004 352.152 71.2004 345.045 Q71.2004 337.916 69.3717 334.374 Q67.5661 330.809 63.9319 330.809 M63.9319 327.105 Q69.742 327.105 72.7976 331.712 Q75.8763 336.295 75.8763 345.045 Q75.8763 353.772 72.7976 358.378 Q69.742 362.962 63.9319 362.962 Q58.1217 362.962 55.043 358.378 Q51.9875 353.772 51.9875 345.045 Q51.9875 336.295 55.043 331.712 Q58.1217 327.105 63.9319 327.105 Z\" fill=\"#000000\" fill-rule=\"evenodd\" fill-opacity=\"1\" /><path clip-path=\"url(#clip360)\" d=\"M84.0938 356.411 L88.978 356.411 L88.978 362.29 L84.0938 362.29 L84.0938 356.411 Z\" fill=\"#000000\" fill-rule=\"evenodd\" fill-opacity=\"1\" /><path clip-path=\"url(#clip360)\" d=\"M97.9826 327.73 L120.205 327.73 L120.205 329.721 L107.658 362.29 L102.774 362.29 L114.58 331.666 L97.9826 331.666 L97.9826 327.73 Z\" fill=\"#000000\" fill-rule=\"evenodd\" fill-opacity=\"1\" /><path clip-path=\"url(#clip360)\" d=\"M129.371 327.73 L147.728 327.73 L147.728 331.666 L133.654 331.666 L133.654 340.138 Q134.672 339.791 135.691 339.628 Q136.709 339.443 137.728 339.443 Q143.515 339.443 146.894 342.615 Q150.274 345.786 150.274 351.202 Q150.274 356.781 146.802 359.883 Q143.33 362.962 137.01 362.962 Q134.834 362.962 132.566 362.591 Q130.32 362.221 127.913 361.48 L127.913 356.781 Q129.996 357.915 132.219 358.471 Q134.441 359.027 136.918 359.027 Q140.922 359.027 143.26 356.92 Q145.598 354.814 145.598 351.202 Q145.598 347.591 143.26 345.485 Q140.922 343.378 136.918 343.378 Q135.043 343.378 133.168 343.795 Q131.316 344.212 129.371 345.091 L129.371 327.73 Z\" fill=\"#000000\" fill-rule=\"evenodd\" fill-opacity=\"1\" /><path clip-path=\"url(#clip360)\" d=\"M62.9365 82.6705 Q59.3254 82.6705 57.4967 86.2353 Q55.6912 89.7769 55.6912 96.9065 Q55.6912 104.013 57.4967 107.578 Q59.3254 111.119 62.9365 111.119 Q66.5707 111.119 68.3763 107.578 Q70.205 104.013 70.205 96.9065 Q70.205 89.7769 68.3763 86.2353 Q66.5707 82.6705 62.9365 82.6705 M62.9365 78.9668 Q68.7467 78.9668 71.8022 83.5733 Q74.8809 88.1566 74.8809 96.9065 Q74.8809 105.633 71.8022 110.24 Q68.7467 114.823 62.9365 114.823 Q57.1264 114.823 54.0477 110.24 Q50.9921 105.633 50.9921 96.9065 Q50.9921 88.1566 54.0477 83.5733 Q57.1264 78.9668 62.9365 78.9668 Z\" fill=\"#000000\" fill-rule=\"evenodd\" fill-opacity=\"1\" /><path clip-path=\"url(#clip360)\" d=\"M83.0984 108.272 L87.9827 108.272 L87.9827 114.152 L83.0984 114.152 L83.0984 108.272 Z\" fill=\"#000000\" fill-rule=\"evenodd\" fill-opacity=\"1\" /><path clip-path=\"url(#clip360)\" d=\"M108.168 97.7399 Q104.834 97.7399 102.913 99.5223 Q101.015 101.305 101.015 104.43 Q101.015 107.555 102.913 109.337 Q104.834 111.119 108.168 111.119 Q111.501 111.119 113.422 109.337 Q115.344 107.531 115.344 104.43 Q115.344 101.305 113.422 99.5223 Q111.524 97.7399 108.168 97.7399 M103.492 95.7491 Q100.483 95.0084 98.7928 92.9482 Q97.1261 90.888 97.1261 87.9251 Q97.1261 83.7816 100.066 81.3742 Q103.029 78.9668 108.168 78.9668 Q113.33 78.9668 116.27 81.3742 Q119.209 83.7816 119.209 87.9251 Q119.209 90.888 117.52 92.9482 Q115.853 95.0084 112.867 95.7491 Q116.246 96.5362 118.121 98.8278 Q120.02 101.119 120.02 104.43 Q120.02 109.453 116.941 112.138 Q113.885 114.823 108.168 114.823 Q102.45 114.823 99.3715 112.138 Q96.316 109.453 96.316 104.43 Q96.316 101.119 98.2141 98.8278 Q100.112 96.5362 103.492 95.7491 M101.779 88.3649 Q101.779 91.0501 103.446 92.5547 Q105.135 94.0593 108.168 94.0593 Q111.177 94.0593 112.867 92.5547 Q114.58 91.0501 114.58 88.3649 Q114.58 85.6797 112.867 84.1751 Q111.177 82.6705 108.168 82.6705 Q105.135 82.6705 103.446 84.1751 Q101.779 85.6797 101.779 88.3649 Z\" fill=\"#000000\" fill-rule=\"evenodd\" fill-opacity=\"1\" /><path clip-path=\"url(#clip360)\" d=\"M138.33 82.6705 Q134.719 82.6705 132.89 86.2353 Q131.084 89.7769 131.084 96.9065 Q131.084 104.013 132.89 107.578 Q134.719 111.119 138.33 111.119 Q141.964 111.119 143.769 107.578 Q145.598 104.013 145.598 96.9065 Q145.598 89.7769 143.769 86.2353 Q141.964 82.6705 138.33 82.6705 M138.33 78.9668 Q144.14 78.9668 147.195 83.5733 Q150.274 88.1566 150.274 96.9065 Q150.274 105.633 147.195 110.24 Q144.14 114.823 138.33 114.823 Q132.519 114.823 129.441 110.24 Q126.385 105.633 126.385 96.9065 Q126.385 88.1566 129.441 83.5733 Q132.519 78.9668 138.33 78.9668 Z\" fill=\"#000000\" fill-rule=\"evenodd\" fill-opacity=\"1\" /><g clip-path=\"url(#clip362)\">\n",
       "<image width=\"1926\" height=\"1439\" xlink:href=\"data:image/png;base64,\n",
       "iVBORw0KGgoAAAANSUhEUgAAB4YAAAWfCAYAAABHo5vmAAAgAElEQVR4nOzbMVIUARRF0cbqcQIS\n",
       "M2oSt0HgElw5seUGSKbISAiGDnABBJYW+unLOSt4+a13tSzrywIAAMBvHQ+n6Qm7c9nO0xMAAACA\n",
       "ZVk+TQ8AAAAAAAAA4N8ShgEAAAAAAADihGEAAAAAAACAOGEYAAAAAAAAIE4YBgAAAAAAAIgThgEA\n",
       "AAAAAADihGEAAAAAAACAOGEYAAAAAAAAIE4YBgAAAAAAAIgThgEAAAAAAADihGEAAAAAAACAOGEY\n",
       "AAAAAAAAIE4YBgAAAAAAAIgThgEAAAAAAADihGEAAAAAAACAOGEYAAAAAAAAIE4YBgAAAAAAAIgT\n",
       "hgEAAAAAAADihGEAAAAAAACAOGEYAAAAAAAAIE4YBgAAAAAAAIgThgEAAAAAAADihGEAAAAAAACA\n",
       "OGEYAAAAAAAAIE4YBgAAAAAAAIgThgEAAAAAAADihGEAAAAAAACAOGEYAAAAAAAAIE4YBgAAAAAA\n",
       "AIgThgEAAAAAAADihGEAAAAAAACAOGEYAAAAAAAAIE4YBgAAAAAAAIgThgEAAAAAAADihGEAAAAA\n",
       "AACAOGEYAAAAAAAAIE4YBgAAAAAAAIgThgEAAAAAAADihGEAAAAAAACAOGEYAAAAAAAAIE4YBgAA\n",
       "AAAAAIgThgEAAAAAAADihGEAAAAAAACAOGEYAAAAAAAAIE4YBgAAAAAAAIgThgEAAAAAAADihGEA\n",
       "AAAAAACAOGEYAAAAAAAAIE4YBgAAAAAAAIhbpwcAAAAzjofT9ITduWzn6QkAAAAAf8VjGAAAAAAA\n",
       "ACBOGAYAAAAAAACIE4YBAAAAAAAA4oRhAAAAAAAAgDhhGAAAAAAAACBOGAYAAAAAAACIE4YBAAAA\n",
       "AAAA4oRhAAAAAAAAgDhhGAAAAAAAACBOGAYAAAAAAACIE4YBAAAAAAAA4oRhAAAAAAAAgDhhGAAA\n",
       "AAAAACBOGAYAAAAAAACIE4YBAAAAAAAA4oRhAAAAAAAAgDhhGAAAAAAAACBOGAYAAAAAAACIE4YB\n",
       "AAAAAAAA4oRhAAAAAAAAgDhhGAAAAAAAACBOGAYAAAAAAACIE4YBAAAAAAAA4oRhAAAAAAAAgDhh\n",
       "GAAAAAAAACBOGAYAAAAAAACIE4YBAAAAAAAA4oRhAAAAAAAAgDhhGAAAAAAAACBOGAYAAAAAAACI\n",
       "E4YBAAAAAAAA4oRhAAAAAAAAgDhhGAAAAAAAACBOGAYAAAAAAACIE4YBAAAAAAAA4oRhAAAAAAAA\n",
       "gDhhGAAAAAAAACBOGAYAAAAAAACIE4YBAAAAAAAA4oRhAAAAAAAAgDhhGAAAAAAAACBOGAYAAAAA\n",
       "AACIE4YBAAAAAAAA4oRhAAAAAAAAgDhhGAAAAAAAACBOGAYAAAAAAACIE4YBAAAAAAAA4oRhAAAA\n",
       "AAAAgDhhGAAAAAAAACBOGAYAAAAAAACIE4YBAAAAAAAA4oRhAAAAAAAAgDhhGAAAAAAAACBOGAYA\n",
       "AAAAAACIE4YBAAAAAAAA4oRhAAAAAAAAgDhhGAAAAAAAACBOGAYAAAAAAACIE4YBAAAAAAAA4oRh\n",
       "AAAAAAAAgDhhGAAAAAAAACBOGAYAAAAAAACIE4YBAAAAAAAA4oRhAAAAAAAAgDhhGAAAAAAAACBO\n",
       "GAYAAAAAAACIE4YBAAAAAAAA4oRhAAAAAAAAgDhhGAAAAAAAACBOGAYAAAAAAACIE4YBAAAAAAAA\n",
       "4oRhAAAAAAAAgDhhGAAAAAAAACBOGAYAAAAAAACIE4YBAAAAAAAA4oRhAAAAAAAAgDhhGAAAAAAA\n",
       "ACBOGAYAAAAAAACIE4YBAAAAAAAA4oRhAAAAAAAAgDhhGAAAAAAAACBOGAYAAAAAAACIE4YBAAAA\n",
       "AAAA4oRhAAAAAAAAgDhhGAAAAAAAACBOGAYAAAAAAACIE4YBAAAAAAAA4oRhAAAAAAAAgDhhGAAA\n",
       "AAAAACBOGAYAAAAAAACIE4YBAAAAAAAA4oRhAAAAAAAAgDhhGAAAAAAAACBOGAYAAAAAAACIE4YB\n",
       "AAAAAAAA4oRhAAAAAAAAgDhhGAAAAAAAACBOGAYAAAAAAACIW6cHAADAW7i5vp2esDsPT3fTEwAA\n",
       "AAD4TzyGAQAAAAAAAOKEYQAAAAAAAIA4YRgAAAAAAAAgThgGAAAAAAAAiBOGAQAAAAAAAOKEYQAA\n",
       "AAAAAIA4YRgAAAAAAAAgThgGAAAAAAAAiBOGAQAAAAAAAOKEYQAAAAAAAIA4YRgAAAAAAAAgThgG\n",
       "AAAAAAAAiBOGAQAAAAAAAOKEYQAAAAAAAIA4YRgAAAAAAAAgThgGAAAAAAAAiBOGAQAAAAAAAOKE\n",
       "YQAAAAAAAIA4YRgAAAAAAAAgThgGAAAAAAAAiBOGAQAAAAAAAOKEYQAAAAAAAIA4YRgAAAAAAAAg\n",
       "ThgGAAAAAAAAiBOGAQAAAAAAAOKEYQAAAAAAAIA4YRgAAAAAAAAgThgGAAAAAAAAiBOGAQAAAAAA\n",
       "AOKEYQAAAAAAAIA4YRgAAAAAAAAgThgGAAAAAAAAiBOGAQAAAAAAAOKEYQAAAAAAAIA4YRgAAAAA\n",
       "AAAgThgGAAAAAAAAiBOGAQAAAAAAAOKEYQAAAAAAAIA4YRgAAAAAAAAgThgGAAAAAAAAiBOGAQAA\n",
       "AAAAAOKEYQAAAAAAAIA4YRgAAAAAAAAgThgGAAAAAAAAiBOGAQAAAAAAAOKEYQAAAAAAAIA4YRgA\n",
       "AAAAAAAgThgGAAAAAAAAiBOGAQAAAAAAAOLW6QEAAPAWHp/vpycAAAAAwLvlMQwAAAAAAAAQJwwD\n",
       "AAAAAAAAxAnDAAAAAAAAAHHCMAAAAAAAAECcMAwAAAAAAAAQJwwDAAAAAAAAxAnDAAAAAAAAAHHC\n",
       "MAAAAAAAAECcMAwAAAAAAAAQJwwDAAAAAAAAxAnDAAAAAAAAAHHCMAAAAAAAAECcMAwAAAAAAAAQ\n",
       "JwwDAAAAAAAAxAnDAAAAAAAAAHHCMAAAAAAAAECcMAwAAAAAAAAQJwwDAAAAAAAAxAnDAAAAAAAA\n",
       "AHHCMAAAAAAAAECcMAwAAAAAAAAQJwwDAAAAAAAAxAnDAAAAAAAAAHHCMAAAAAAAAECcMAwAAAAA\n",
       "AAAQJwwDAAAAAAAAxAnDAAAAAAAAAHHCMAAAAAAAAECcMAwAAAAAAAAQJwwDAAAAAAAAxAnDAAAA\n",
       "AAAAAHHCMAAAAAAAAECcMAwAAAAAAAAQJwwDAAAAAAAAxAnDAAAAAAAAAHHCMAAAAAAAAECcMAwA\n",
       "AAAAAAAQJwwDAAAAAAAAxAnDAAAAAAAAAHHCMAAAAAAAAECcMAwAAAAAAAAQJwwDAAAAAAAAxAnD\n",
       "AAAAAAAAAHHCMAAAAAAAAECcMAwAAAAAAAAQJwwDAAAAAAAAxAnDAAAAAAAAAHHCMAAAAAAAAECc\n",
       "MAwAAAAAAAAQt04PAADgtePhND1hdy7beXoCAAAAALxbHsMAAAAAAAAAccIwAAAAAAAAQJwwDAAA\n",
       "AAAAABAnDAMAAAAAAADECcMAAAAAAAAAccIwAAAAAAAAQJwwDAAAAAAAABAnDAMAAAAAAADECcMA\n",
       "AAAAAAAAccIwAAAAAAAAQJwwDAAAAAAAABAnDAMAAAAAAADECcMAAAAAAAAAccIwAAAAAAAAQJww\n",
       "DAAAAAAAABAnDAMAAAAAAADECcMAAAAAAAAAccIwAAAAAAAAQJwwDAAAAAAAABAnDAMAAAAAAADE\n",
       "CcMAAAAAAAAAccIwAAAAAAAAQJwwDAAAAAAAABAnDAMAAAAAAADECcMAAAAAAAAAccIwAAAAAAAA\n",
       "QJwwDAAAAAAAABAnDAMAAAAAAADECcMAAAAAAAAAccIwAAAAAAAAQJwwDAAAAAAAABAnDAMAAAAA\n",
       "AADECcMAAAAAAAAAccIwAAAAAAAAQJwwDAAAAAAAABAnDAMAAAAAAADECcMAAAAAAAAAccIwAAAA\n",
       "AAAAQJwwDAAAAAAAABAnDAMAAAAAAADECcMAAAAAAAAAccIwAAAAAAAAQJwwDAAAAAAAABAnDAMA\n",
       "AAAAAADECcMAAAAAAAAAccIwAAAAAAAAQJwwDAAAAAAAABAnDAMAAAAAAADErdMDAAB47cvnr9MT\n",
       "dudhO09PAAAAAIB3y2MYAAAAAAAAIE4YBgAAAAAAAIgThgEAAAAAAADihGEAAAAAAACAOGEYAAAA\n",
       "AAAAIE4YBgAAAAAAAIgThgEAAAAAAADihGEAAAAAAACAOGEYAAAAAAAAIE4YBgAAAAAAAIgThgEA\n",
       "AAAAAADihGEAAAAAAACAOGEYAAAAAAAAIE4YBgAAAAAAAIgThgEAAAAAAADihGEAAAAAAACAOGEY\n",
       "AAAAAAAAIE4YBgAAAAAAAIgThgEAAAAAAADihGEAAAAAAACAOGEYAAAAAAAAIE4YBgAAAAAAAIgT\n",
       "hgEAAAAAAADihGEAAAAAAACAOGEYAAAAAAAAIE4YBgAAAAAAAIgThgEAAAAAAADihGEAAAAAAACA\n",
       "OGEYAAAAAAAAIE4YBgAAAAAAAIgThgEAAAAAAADihGEAAAAAAACAOGEYAAAAAAAAIE4YBgAAAAAA\n",
       "AIgThgEAAAAAAADihGEAAAAAAACAOGEYAAAAAAAAIE4YBgAAAAAAAIgThgEAAAAAAADihGEAAAAA\n",
       "AACAOGEYAAAAAAAAIE4YBgAAAAAAAIgThgEAAAAAAADihGEAAAAAAACAOGEYAAAAAAAAIE4YBgAA\n",
       "AAAAAIgThgEAAAAAAADihGEAAAAAAACAOGEYAAAAAAAAIG6dHgAA9N1c305P2J2Hp7vpCQAAAABA\n",
       "iMcwAAAAAAAAQJwwDAAAAAAAABAnDAMAAAAAAADECcMAAAAAAAAAccIwAAAAAAAAQJwwDAAAAAAA\n",
       "ABAnDAMAAAAAAADECcMAAAAAAAAAccIwAAAAAAAAQJwwDAAAAAAAABAnDAMAAAAAAADECcMAAAAA\n",
       "AAAAccIwAAAAAAAAQJwwDAAAAAAAABAnDAMAAAAAAADECcMAAAAAAAAAccIwAAAAAAAAQJwwDAAA\n",
       "AAAAABAnDAMAAAAAAADECcMAAAAAAAAAccIwAAAAAAAAQJwwDAAAAAAAABAnDAMAAAAAAADECcMA\n",
       "AAAAAAAAccIwAAAAAAAAQJwwDAAAAAAAABAnDAMAAAAAAADECcMAAAAAAAAAccIwAAAAAAAAQJww\n",
       "DAAAAAAAABAnDAMAAAAAAADECcMAAAAAAAAAccIwAAAAAAAAQJwwDAAAAAAAABAnDAMAAAAAAADE\n",
       "CcMAAAAAAAAAccIwAAAAAAAAQJwwDAAAAAAAABAnDAMAAAAAAADECcMAAAAAAAAAccIwAAAAAAAA\n",
       "QJwwDAAAAAAAABAnDAMAAAAAAADECcMAAAAAAAAAccIwAAAAAAAAQJwwDAAAAAAAABAnDAMAAAAA\n",
       "AADECcMAAAAAAAAAcVfLsr5MjwCAPTkeTtMT+AAu23l6AgAAAAAQ4jEMAAAAAAAAECcMAwAAAAAA\n",
       "AMQJwwAAAAAAAABxwjAAAAAAAABAnDAMAAAAAAAAECcMAwAAAAAAAMQJwwAAAAAAAABxwjAAAAAA\n",
       "AABAnDAMAAAAAAAAECcMAwAAAAAAAMQJwwAAAAAAAABxwjAAAAAAAABAnDAMAAAAAAAAECcMAwAA\n",
       "AAAAAMQJwwAAAAAAAABxwjAAAAAAAABAnDAMAAAAAAAAECcMAwAAAAAAAMQJwwAAAAAAAABxwjAA\n",
       "AAAAAABAnDAMAAAAAAAAECcMAwAAAAAAAMQJwwAAAAAAAABxwjAAAAAAAABAnDAMAAAAAAAAECcM\n",
       "AwAAAAAAAMQJwwAAAAAAAABxwjAAAAAAAABAnDAMAAAAAAAAECcMAwAAAAAAAMQJwwAAAAAAAABx\n",
       "wjAAAAAAAABAnDAMAAAAAAAAECcMAwAAAAAAAMQJwwAAAAAAAABxwjAAAAAAAABAnDAMAAAAAAAA\n",
       "ECcMAwAAAAAAAMQJwwAAAAAAAABxwjAAAAAAAABAnDAMAAAAAAAAECcMAwAAAAAAAMQJwwAAAAAA\n",
       "AABxwjAAAAAAAABAnDAMAAAAAAAAECcMAwAAAAAAAMQJwwAAAAAAAABxwjAAAAAAAABAnDAMAAAA\n",
       "AAAAELdODwBg1s317fSE3Xl8vp+esDuX7Tw9AQAAAADgQ/MYBgAAAAAAAIgThgEAAAAAAADihGEA\n",
       "AAAAAACAOGEYAAAAAAAAIE4YBgAAAAAAAIgThgEAAAAAAADihGEAAAAAAACAOGEYAAAAAAAAIE4Y\n",
       "BgAAAAAAAIgThgEAAAAAAADihGEAAAAAAACAOGEYAAAAAAAAIE4YBgAAAAAAAIgThgEAAAAAAADi\n",
       "hGEAAAAAAACAOGEYAAAAAAAAIE4YBgAAAAAAAIgThgEAAAAAAADihGEAAAAAAACAOGEYAAAAAAAA\n",
       "IE4YBgAAAAAAAIgThgEAAAAAAADihGEAAAAAAACAOGEYAAAAAAAAIE4YBgAAAAAAAIgThgEAAAAA\n",
       "AADihGEAAAAAAACAOGEYAAAAAAAAIE4YBgAAAAAAAIgThgEAAAAAAADihGEAAAAAAACAOGEYAAAA\n",
       "AAAAIE4YBgAAAAAAAIgThgEAAAAAAADihGEAAAAAAACAOGEYAAAAAAAAIE4YBgAAAAAAAIgThgEA\n",
       "AAAAAADihGEAAAAAAACAOGEYAAAAAAAAIE4YBgAAAAAAAIgThgEAAAAAAADihGEAAAAAAACAOGEY\n",
       "AAAAAAAAIE4YBgAAAAAAAIgThgEAAAAAAADihGEAAAAAAACAOGEYAAAAAAAAIE4YBgAAAAAAAIhb\n",
       "pwfwcRwPp+kJu/Pt8H16wu78vPoxPWF3Hp/vpyfszmU7T08AAAAAAIA/4jEMAAAAAAAAECcMAwAA\n",
       "AAAAAMQJwwAAAAAAAABxwjAAAAAAAABAnDAMAAAAAAAAECcMAwAAAAAAAMQJwwAAAAAAAABxwjAA\n",
       "AAAAAABAnDAMAAAAAAAAECcMAwAAAAAAAMQJwwAAAAAAAABxwjAAAAAAAABAnDAMAAAAAAAAECcM\n",
       "AwAAAAAAAMQJwwAAAAAAAABxwjAAAAAAAABAnDAMAAAAAAAAECcMAwAAAAAAAMQJwwAAAAAAAABx\n",
       "wjAAAAAAAABAnDAMAAAAAAAAECcMAwAAAAAAAMQJwwAAAAAAAABxwjAAAAAAAABAnDAMAAAAAAAA\n",
       "ECcMAwAAAAAAAMQJwwAAAAAAAABxwjAAAAAAAABAnDAMAAAAAAAAECcMAwAAAAAAAMQJwwAAAAAA\n",
       "AABxwjAAAAAAAABAnDAMAAAAAAAAECcMAwAAAAAAAMQJwwAAAAAAAABxwjAAAAAAAABAnDAMAAAA\n",
       "AAAAECcMAwAAAAAAAMQJwwAAAAAAAABxwjAAAAAAAABAnDAMAAAAAAAAECcMAwAAAAAAAMQJwwAA\n",
       "AAAAAABxwjAAAAAAAABAnDDML/btUDXLAAzD8PfDNwXNY2Wegd1gs5rEUzDp8WjyFDyFRcEuCFoF\n",
       "mQaDTHALv1lWtiDvvnvXdQRPeNvNCwAAAAAAAMQJwwAAAAAAAABxwjAAAAAAAABAnDAMAAAAAAAA\n",
       "ELdblnU/PWKLju4/mp7ALXB69mF6AgAAAAAAAAE+hgEAAAAAAADihGEAAAAAAACAOGEYAAAAAAAA\n",
       "IE4YBgAAAAAAAIgThgEAAAAAAADihGEAAAAAAACAOGEYAAAAAAAAIE4YBgAAAAAAAIgThgEAAAAA\n",
       "AADihGEAAAAAAACAOGEYAAAAAAAAIE4YBgAAAAAAAIgThgEAAAAAAADihGEAAAAAAACAOGEYAAAA\n",
       "AAAAIE4YBgAAAAAAAIgThgEAAAAAAADihGEAAAAAAACAOGEYAAAAAAAAIE4YBgAAAAAAAIgThgEA\n",
       "AAAAAADihGEAAAAAAACAOGEYAAAAAAAAIE4YBgAAAAAAAIgThgEAAAAAAADihGEAAAAAAACAOGEY\n",
       "AAAAAAAAIE4YBgAAAAAAAIgThgEAAAAAAADihGEAAAAAAACAOGEYAAAAAAAAIE4YBgAAAAAAAIgT\n",
       "hgEAAAAAAADihGEAAAAAAACAOGEYAAAAAAAAIE4YBgAAAAAAAIgThgEAAAAAAADihGEAAAAAAACA\n",
       "OGEYAAAAAAAAIE4YBgAAAAAAAIgThgEAAAAAAADihGEAAAAAAACAOGEYAAAAAAAAIE4YBgAAAAAA\n",
       "AIgThgEAAAAAAADihGEAAAAAAACAOGEYAAAAAAAAIE4YBgAAAAAAAIgThgEAAAAAAADi1ukBW3W4\n",
       "HE9P2JyPZ++mJwAAAAAAAMCt5GMYAAAAAAAAIE4YBgAAAAAAAIgThgEAAAAAAADihGEAAAAAAACA\n",
       "OGEYAAAAAAAAIE4YBgAAAAAAAIgThgEAAAAAAADihGEAAAAAAACAOGEYAAAAAAAAIE4YBgAAAAAA\n",
       "AIgThgEAAAAAAADihGEAAAAAAACAOGEYAAAAAAAAIE4YBgAAAAAAAIgThgEAAAAAAADihGEAAAAA\n",
       "AACAOGEYAAAAAAAAIE4YBgAAAAAAAIgThgEAAAAAAADihGEAAAAAAACAOGEYAAAAAAAAIE4YBgAA\n",
       "AAAAAIgThgEAAAAAAADihGEAAAAAAACAOGEYAAAAAAAAIE4YBgAAAAAAAIgThgEAAAAAAADihGEA\n",
       "AAAAAACAOGEYAAAAAAAAIE4YBgAAAAAAAIgThgEAAAAAAADihGEAAAAAAACAOGEYAAAAAAAAIE4Y\n",
       "BgAAAAAAAIgThgEAAAAAAADihGEAAAAAAACAOGEYAAAAAAAAIE4YBgAAAAAAAIgThgEAAAAAAADi\n",
       "hGEAAAAAAACAOGEYAAAAAAAAIE4YBgAAAAAAAIgThgEAAAAAAADihGEAAAAAAACAOGEYAAAAAAAA\n",
       "IE4YBgAAAAAAAIgThgEAAAAAAADihGEAAAAAAACAOGEYAAAAAAAAIG59cu/F9IZNOjl7Oz0BAAAA\n",
       "AAAA4Ep8DAMAAAAAAADECcMAAAAAAAAAccIwAAAAAAAAQJwwDAAAAAAAABAnDAMAAAAAAADECcMA\n",
       "AAAAAAAAccIwAAAAAAAAQJwwDAAAAAAAABAnDAMAAAAAAADECcMAAAAAAAAAccIwAAAAAAAAQJww\n",
       "DAAAAAAAABAnDAMAAAAAAADECcMAAAAAAAAAccIwAAAAAAAAQJwwDAAAAAAAABAnDAMAAAAAAADE\n",
       "CcMAAAAAAAAAccIwAAAAAAAAQJwwDAAAAAAAABAnDAMAAAAAAADECcMAAAAAAAAAccIwAAAAAAAA\n",
       "QJwwDAAAAAAAABAnDAMAAAAAAADECcMAAAAAAAAAccIwAAAAAAAAQJwwDAAAAAAAABAnDAMAAAAA\n",
       "AADECcMAAAAAAAAAccIwAAAAAAAAQJwwDAAAAAAAABAnDAMAAAAAAADECcMAAAAAAAAAccIwAAAA\n",
       "AAAAQJwwDAAAAAAAABAnDAMAAAAAAADECcMAAAAAAAAAccIwAAAAAAAAQJwwDAAAAAAAABAnDAMA\n",
       "AAAAAADECcMAAAAAAAAAccIwAAAAAAAAQJwwDAAAAAAAABAnDAMAAAAAAADECcMAAAAAAAAAccIw\n",
       "AAAAAAAAQJwwDAAAAAAAABC3Ht45mN6wTb+nBwAAAAAAAABcjY9hAAAAAAAAgDhhGAAAAAAAACBO\n",
       "GAYAAAAAAACIE4YBAAAAAAAA4oRhAAAAAAAAgDhhGAAAAAAAACBOGAYAAAAAAACIE4YBAAAAAAAA\n",
       "4oRhAAAAAAAAgDhhGAAAAAAAACBOGAYAAAAAAACIE4YBAAAAAAAA4oRhAAAAAAAAgDhhGAAAAAAA\n",
       "ACBOGAYAAAAAAACIE4YBAAAAAAAA4oRhAAAAAAAAgDhhGAAAAAAAACBOGAYAAAAAAACIE4YBAAAA\n",
       "AAAA4oRhAAAAAAAAgDhhGAAAAAAAACBOGAYAAAAAAACIE4YBAAAAAAAA4oRhAAAAAAAAgDhhGAAA\n",
       "AAAAACBOGAYAAAAAAACIE4YBAAAAAAAA4oRhAAAAAAAAgDhhGAAAAAAAACBOGAYAAAAAAACIE4YB\n",
       "AAAAAAAA4oRhAAAAAAAAgDhhGAAAAAAAACBOGAYAAAAAAACIE4YBAAAAAAAA4oRhAAAAAAAAgDhh\n",
       "GAAAAAAAACBOGAYAAAAAAACIE4YBAAAAAAAA4oRhAAAAAAAAgDhhGAAAAAAAACBOGAYAAAAAAACI\n",
       "E4YBAAAAAAAA4oRhAAAAAAAAgDhhGAAAAAAAACBOGAYAAAAAAACIE4YBAAAAAAAA4oRhAAAAAAAA\n",
       "gLj1x/nF9AYAAAAAAAAA/iMfwwAAAAAAAABxwjAAAAAAAABAnDAMAAAAAAAAECcMAwAAAAAAAMQJ\n",
       "wwAAAAAAAABxwjAAAAAAAABAnDAMAAAAAAAAECcMAwAAAAAAAMQJwwAAAAAAAABxwjAAAAAAAABA\n",
       "nDAMAAAAAAAAECcMAwAAAAAAAMQJwwAAAAAAAABxwjAAAAAAAABAnDAMAAAAAAAAECcMAwAAAAAA\n",
       "AMQJwwAAAAAAAABxwjAAAAAAAABAnDAMAAAAAAAAECcMAwAAAAAAAMQJwwAAAAAAAABxwjAAAAAA\n",
       "AABAnDAMAAAAAAAAECcMAwAAAAAAAMQJwwAAAAAAAABxwjAAAAAAAABAnDAMAAAAAAAAECcMAwAA\n",
       "AAAAAMQJwwAAAAAAAABxwjAAAAAAAABAnDAMAAAAAAAAECcMAwAAAAAAAMQJwwAAAAAAAABxwjAA\n",
       "AAAAAABAnDAMAAAAAAAAECcMAwAAAAAAAMQJwwAAAAAAAABxwjAAAAAAAABAnDAMAAAAAAAAECcM\n",
       "AwAAAAAAAMQJwwAAAAAAAABxwjAAAAAAAABAnDAMAAAAAAAAECcMAwAAAAAAAMQJwwAAAAAAAABx\n",
       "wjAAAAAAAABAnDAMAAAAAAAAECcMAwAAAAAAAMTt7h482E+P2KLHB0+nJ2zO993P6Qmb82P5Oj1h\n",
       "cw6X4+kJm+POru/07MP0BAAAAAAAuBYfwwAAAAAAAABxwjAAAAAAAABAnDAMAAAAAAAAECcMAwAA\n",
       "AAAAAMQJwwAAAAAAAABxwjAAAAAAAABAnLT5+IEAABoVSURBVDAMAAAAAAAAECcMAwAAAAAAAMQJ\n",
       "wwAAAAAAAABxwjAAAAAAAABAnDAMAAAAAAAAECcMAwAAAAAAAMQJwwAAAAAAAABxwjAAAAAAAABA\n",
       "nDAMAAAAAAAAECcMAwAAAAAAAMQJwwAAAAAAAABxwjAAAAAAAABAnDAMAAAAAAAAECcMAwAAAAAA\n",
       "AMQJwwAAAAAAAABxwjAAAAAAAABAnDAMAAAAAAAAECcMAwAAAAAAAMQJwwAAAAAAAABxwjAAAAAA\n",
       "AABAnDAMAAAAAAAAECcMAwAAAAAAAMQJwwAAAAAAAABxwjAAAAAAAABAnDAMAAAAAAAAECcMAwAA\n",
       "AAAAAMQJwwAAAAAAAABxwjAAAAAAAABAnDAMAAAAAAAAECcMAwAAAAAAAMQJwwAAAAAAAABxwjAA\n",
       "AAAAAABAnDAMAAAAAAAAECcMAwAAAAAAAMQJwwAAAAAAAABxwjAAAAAAAABAnDAMAAAAAAAAECcM\n",
       "AwAAAAAAAMQJwwAAAAAAAABxwjAAAAAAAABAnDAMAAAAAAAAECcMAwAAAAAAAMQJwwAAAAAAAABx\n",
       "u2VZ99MjAGBLHt5/Pj2BW+DL+fvpCZvz5+Lb9AQAAAAAuLF8DAMAAAAAAADECcMAAAAAAAAAccIw\n",
       "AAAAAAAAQJwwDAAAAAAAABAnDAMAAAAAAADECcMAAAAAAAAAccIwAAAAAAAAQJwwDAAAAAAAABAn\n",
       "DAMAAAAAAADECcMAAAAAAAAAccIwAAAAAAAAQJwwDAAAAAAAABAnDAMAAAAAAADECcMAAAAAAAAA\n",
       "ccIwAAAAAAAAQJwwDAAAAAAAABAnDAMAAAAAAADECcMAAAAAAAAAccIwAAAAAAAAQJwwDAAAAAAA\n",
       "ABAnDAMAAAAAAADECcMAAAAAAAAAccIwAAAAAAAAQJwwDAAAAAAAABAnDAMAAAAAAADECcMAAAAA\n",
       "AAAAccIwAAAAAAAAQJwwDAAAAAAAABAnDAMAAAAAAADECcMAAAAAAAAAccIwAAAAAAAAQJwwDAAA\n",
       "AAAAABAnDAMAAAAAAADECcMAAAAAAAAAccIwAAAAAAAAQJwwDAAAAAAAABAnDAMAAAAAAADECcMA\n",
       "AAAAAAAAccIwAAAAAAAAQJwwDAAAAAAAABAnDAMAAAAAAADECcMAAAAAAAAAccIwAAAAAAAAQJww\n",
       "DAAAAAAAABAnDAMAAAAAAADECcMAAAAAAAAAccIwAAAAAAAAQJwwDAAAAAAAABAnDAMAAAAAAADE\n",
       "7ZZl3U+PAADgX6+OXk5P2JzXp2+mJwAAAADAjeVjGAAAAAAAACBOGAYAAAAAAACIE4YBAAAAAAAA\n",
       "4oRhAAAAAAAAgDhhGAAAAAAAACBOGAYAAAAAAACIE4YBAAAAAAAA4oRhAAAAAAAAgDhhGAAAAAAA\n",
       "ACBOGAYAAAAAAACIE4YBAAAAAAAA4oRhAAAAAAAAgDhhGAAAAAAAACBOGAYAAAAAAACIE4YBAAAA\n",
       "AAAA4oRhAAAAAAAAgDhhGAAAAAAAACBOGAYAAAAAAACIE4YBAAAAAAAA4oRhAAAAAAAAgDhhGAAA\n",
       "AAAAACBOGAYAAAAAAACIE4YBAAAAAAAA4oRhAAAAAAAAgDhhGAAAAAAAACBOGAYAAAAAAACIE4YB\n",
       "AAAAAAAA4oRhAAAAAAAAgDhhGAAAAAAAACBOGAYAAAAAAACIE4YBAAAAAAAA4oRhAAAAAAAAgDhh\n",
       "GAAAAAAAACBOGAYAAAAAAACIE4YBAAAAAAAA4oRhAAAAAAAAgDhhGAAAAAAAACBOGAYAAAAAAACI\n",
       "E4YBAAAAAAAA4oRhAAAAAAAAgDhhGAAAAAAAACBOGAYAAAAAAACIE4YBAAAAAAAA4oRhAAAAAAAA\n",
       "gDhhGAAAAAAAACBOGAYAAAAAAACIE4YBAAAAAAAA4oRhAAAAAAAAgLh1egAAAJd9+nU+PQEAAAAA\n",
       "CPExDAAAAAAAABAnDAMAAAAAAADECcMAAAAAAAAAccIwAAAAAAAAQJwwDAAAAAAAABAnDAMAAAAA\n",
       "AADECcMAAAAAAAAAccIwAAAAAAAAQJwwDAAAAAAAABAnDAMAAAAAAADECcMAAAAAAAAAccIwAAAA\n",
       "AAAAQJwwDAAAAAAAABAnDAMAAAAAAADECcMAAAAAAAAAccIwAAAAAAAAQJwwDAAAAAAAABAnDAMA\n",
       "AAAAAADECcMAAAAAAAAAccIwAAAAAAAAQJwwDAAAAAAAABAnDAMAAAAAAADECcMAAAAAAAAAccIw\n",
       "AAAAAAAAQJwwDAAAAAAAABAnDAMAAAAAAADECcMAAAAAAAAAccIwAAAAAAAAQJwwDAAAAAAAABAn\n",
       "DAMAAAAAAADECcMAAAAAAAAAccIwAAAAAAAAQJwwDAAAAAAAABAnDAMAAAAAAADECcMAAAAAAAAA\n",
       "ccIwAAAAAAAAQJwwDAAAAAAAABAnDAMAAAAAAADECcMAAAAAAAAAccIwAAAAAAAAQJwwDAAAAAAA\n",
       "ABAnDAMAAAAAAADECcMAAAAAAAAAccIwAAAAAAAAQJwwDAAAAAAAABAnDAMAAAAAAADECcMAAAAA\n",
       "AAAAccIwAAAAAAAAQJwwDAAAAAAAABAnDAMAAAAAAADECcMAAAAAAAAAccIwAAAAAAAAQJwwDAAA\n",
       "AAAAABAnDAMAAAAAAADECcMAAAAAAAAAccIwAAAAAAAAQJwwDAAAAAAAABAnDAMAAAAAAADECcMA\n",
       "AAAAAAAAccIwAAAAAAAAQJwwDAAAAAAAABAnDAMAAAAAAADECcMAAAAAAAAAccIwAAAAAAAAQJww\n",
       "DAAAAAAAABAnDAMAAAAAAADECcMAAAAAAAAAccIwAAAAAAAAQJwwDAAAAAAAABAnDAMAAAAAAADE\n",
       "CcMAAAAAAAAAccIwAAAAAAAAQJwwDAAAAAAAABAnDAMAAAAAAADECcMAAAAAAAAAccIwAAAAAAAA\n",
       "QJwwDAAAAAAAABAnDAMAAAAAAADECcMAAAAAAAAAccIwAAAAAAAAQJwwDAAAAAAAABAnDAMAAAAA\n",
       "AADECcMAAAAAAAAAccIwAAAAAAAAQJwwDAAAAAAAABAnDAMAAAAAAADECcMAAAAAAAAAccIwAAAA\n",
       "AAAAQJwwDAAAAAAAABAnDAMAAAAAAADECcMAAAAAAAAAccIwAAAAAAAAQJwwDAAAAAAAABAnDAMA\n",
       "AAAAAADECcMAAAAAAAAAccIwAAAAAAAAQJwwDAAAAAAAABAnDAMAAAAAAADECcMAAAAAAAAAcev0\n",
       "AAAALnt2vJ+esDknn6cXAAAAAMDN5WMYAAAAAAAAIE4YBgAAAAAAAIgThgEAAAAAAADihGEAAAAA\n",
       "AACAOGEYAAAAAAAAIE4YBgAAAAAAAIgThgEAAAAAAADihGEAAAAAAACAOGEYAAAAAAAAIE4YBgAA\n",
       "AAAAAIgThgEAAAAAAADihGEAAAAAAACAOGEYAAAAAAAAIE4YBgAAAAAAAIgThgEAAAAAAADihGEA\n",
       "AAAAAACAOGEYAAAAAAAAIE4YBgAAAAAAAIgThgEAAAAAAADihGEAAAAAAACAOGEYAAAAAAAAIE4Y\n",
       "BgAAAAAAAIgThgEAAAAAAADihGEAAAAAAACAOGEYAAAAAAAAIE4YBgAAAAAAAIgThgEAAAAAAADi\n",
       "hGEAAAAAAACAOGEYAAAAAAAAIE4YBgAAAAAAAIgThgEAAAAAAADihGEAAAAAAACAOGEYAAAAAAAA\n",
       "IE4YBgAAAAAAAIgThgEAAAAAAADihGEAAAAAAACAOGEYAAAAAAAAIE4YBgAAAAAAAIgThgEAAAAA\n",
       "AADihGEAAAAAAACAOGEYAIC/7duxytZ1GMfh/wPPm68JmVGKUGNgCA0SCtIgTa0uHUFTHUCnUBAN\n",
       "QQ0dQUPRXmMQNFdj0CYmVCQOr0JPQ0MELZJ08/t4XUfwXe7pww0AAAAAxAnDAAAAAAAAAHHCMAAA\n",
       "AAAAAECcMAwAAAAAAAAQJwwDAAAAAAAAxAnDAAAAAAAAAHHCMAAAAAAAAECcMAwAAAAAAAAQt9u2\n",
       "/WF6BAAA//Tak29OT1jOz7tfpycs5/t7n09PAAAAAOB/4mMYAAAAAAAAIE4YBgAAAAAAAIgThgEA\n",
       "AAAAAADihGEAAAAAAACAOGEYAAAAAAAAIE4YBgAAAAAAAIgThgEAAAAAAADihGEAAAAAAACAOGEY\n",
       "AAAAAAAAIE4YBgAAAAAAAIgThgEAAAAAAADihGEAAAAAAACAOGEYAAAAAAAAIE4YBgAAAAAAAIgT\n",
       "hgEAAAAAAADihGEAAAAAAACAOGEYAAAAAAAAIE4YBgAAAAAAAIgThgEAAAAAAADihGEAAAAAAACA\n",
       "OGEYAAAAAAAAIE4YBgAAAAAAAIgThgEAAAAAAADihGEAAAAAAACAOGEYAAAAAAAAIE4YBgAAAAAA\n",
       "AIgThgEAAAAAAADihGEAAAAAAACAOGEYAAAAAAAAIE4YBgAAAAAAAIgThgEAAAAAAADihGEAAAAA\n",
       "AACAOGEYAAAAAAAAIE4YBgAAAAAAAIgThgEAAAAAAADihGEAAAAAAACAOGEYAAAAAAAAIE4YBgAA\n",
       "AAAAAIgThgEAAAAAAADihGEAAAAAAACAOGEYAAAAAAAAIE4YBgAAAAAAAIgThgEAAAAAAADihGEA\n",
       "AAAAAACAOGEYAAAAAAAAIE4YBgAAAAAAAIgThgEAAAAAAADihGEAAAAAAACAOGEYAAAAAAAAIG63\n",
       "bfvD9AgAAPivTh1dnJ6wnBefuD49AeCRuHx0fnrCcm6+8Pv0hOV88uPp6QnL+WH33fSE5Ty3PT89\n",
       "YTnnD+emJyzHbT682/e+nZ4A8Ej4GAYAAAAAAACIE4YBAAAAAAAA4oRhAAAAAAAAgDhhGAAAAAAA\n",
       "ACBOGAYAAAAAAACIE4YBAAAAAAAA4oRhAAAAAAAAgDhhGAAAAAAAACBOGAYAAAAAAACIE4YBAAAA\n",
       "AAAA4oRhAAAAAAAAgDhhGAAAAAAAACBOGAYAAAAAAACIE4YBAAAAAAAA4oRhAAAAAAAAgDhhGAAA\n",
       "AAAAACBOGAYAAAAAAACIE4YBAAAAAAAA4oRhAAAAAAAAgDhhGAAAAAAAACBOGAYAAAAAAACIE4YB\n",
       "AAAAAAAA4oRhAAAAAAAAgDhhGAAAAAAAACBOGAYAAAAAAACIE4YBAAAAAAAA4oRhAAAAAAAAgDhh\n",
       "GAAAAAAAACBOGAYAAAAAAACIE4YBAAAAAAAA4oRhAAAAAAAAgDhhGAAAAAAAACBOGAYAAAAAAACI\n",
       "E4YBAAAAAAAA4oRhAAAAAAAAgDhhGAAAAAAAACBOGAYAAAAAAACIE4YBAAAAAAAA4oRhAAAAAAAA\n",
       "gDhhGAAAAAAAACBOGAYAAAAAAACIE4YBAAAAAAAA4oRhAAAAAAAAgDhhGAAAAAAAACBOGAYAAAAA\n",
       "AACIE4YBAAAAAAAA4oRhAAAAAAAAgDhhGAAAAAAAACBut237w/QIAAAA4C8/3rw6PWE5H3zzyvSE\n",
       "5Xx0++PpCct5+8Jb0xOW8+zxH9MTlvPSU3enJyznzsnx9ITlvPHq19MTlnP8/uvTE5Zz9pkPpycA\n",
       "/8LHMAAAAAAAAECcMAwAAAAAAAAQJwwDAAAAAAAAxAnDAAAAAAAAAHHCMAAAAAAAAECcMAwAAAAA\n",
       "AAAQJwwDAAAAAAAAxAnDAAAAAAAAAHHCMAAAAAAAAECcMAwAAAAAAAAQJwwDAAAAAAAAxAnDAAAA\n",
       "AAAAAHHCMAAAAAAAAECcMAwAAAAAAAAQJwwDAAAAAAAAxAnDAAAAAAAAAHHCMAAAAAAAAECcMAwA\n",
       "AAAAAAAQJwwDAAAAAAAAxAnDAAAAAAAAAHHCMAAAAAAAAECcMAwAAAAAAAAQJwwDAAAAAAAAxAnD\n",
       "AAAAAAAAAHHCMAAAAAAAAECcMAwAAAAAAAAQJwwDAAAAAAAAxAnDAAAAAAAAAHHCMAAAAAAAAECc\n",
       "MAwAAAAAAAAQJwwDAAAAAAAAxAnDAAAAAAAAAHHCMAAAAAAAAECcMAwAAAAAAAAQJwwDAAAAAAAA\n",
       "xAnDAAAAAAAAAHHCMAAAAAAAAECcMAwAAAAAAAAQJwwDAAAAAAAAxAnDAAAAAAAAAHHCMAAAAAAA\n",
       "AECcMAwAAAAAAAAQJwwDAAAAAAAAxAnDAAAAAAAAAHHCMAAAAAAAAECcMAwAAAAAAAAQJwwDAAAA\n",
       "AAAAxAnDAAAAAAAAAHHCMAAAAAAAAEDcfnoAAAAA8LfrX+6mJyznt/tfTE9Yzt13zk9PWM7pd69O\n",
       "T1jOZy9/NT1hOXdOjqcnLOfSuV+mJyzn6cs/TU9Yzv33Pp2esJxTRxenJyzn5MGt6Qk8BnwMAwAA\n",
       "AAAAAMQJwwAAAAAAAABxwjAAAAAAAABAnDAMAAAAAAAAECcMAwAAAAAAAMQJwwAAAAAAAABxwjAA\n",
       "AAAAAABAnDAMAAAAAAAAECcMAwAAAAAAAMQJwwAAAAAAAABxwjAAAAAAAABAnDAMAAAAAAAAECcM\n",
       "AwAAAAAAAMQJwwAAAAAAAABxwjAAAAAAAABAnDAMAAAAAAAAECcMAwAAAAAAAMQJwwAAAAAAAABx\n",
       "wjAAAAAAAABAnDAMAAAAAAAAECcMAwAAAAAAAMQJwwAAAAAAAABxwjAAAAAAAABAnDAMAAAAAAAA\n",
       "ECcMAwAAAAAAAMQJwwAAAAAAAABxwjAAAAAAAABAnDAMAAAAAAAAECcMAwAAAAAAAMQJwwAAAAAA\n",
       "AABxwjAAAAAAAABAnDAMAAAAAAAAECcMAwAAAAAAAMQJwwAAAAAAAABxwjAAAAAAAABAnDAMAAAA\n",
       "AAAAECcMAwAAAAAAAMQJwwAAAAAAAABxwjAAAAAAAABAnDAMAAAAAAAAECcMAwAAAAAAAMQJwwAA\n",
       "AAAAAABxwjAAAAAAAABAnDAMAAAAAAAAECcMAwAAAAAAAMQJwwAAAAAAAABxwjAAAAAAAABAnDAM\n",
       "AAAAAAAAECcMAwAAAAAAAMTttm1/mB4BAAAAAABAw4Uz16YnLOfG0ZXpCcu5dFbifFg+hgEAAAAA\n",
       "AADihGEAAAAAAACAOGEYAAAAAAAAIE4YBgAAAAAAAIgThgEAAAAAAADihGEAAAAAAACAOGEYAAAA\n",
       "AAAAIE4YBgAAAAAAAIgThgEAAAAAAADihGEAAAAAAACAOGEYAAAAAAAAIE4YBgAAAAAAAIgThgEA\n",
       "AAAAAADihGEAAAAAAACAOGEYAAAAAAAAIE4YBgAAAAAAAIgThgEAAAAAAADihGEAAAAAAACAOGEY\n",
       "AAAAAAAAIE4YBgAAAAAAAIgThgEAAAAAAADihGEAAAAAAACAOGEYAAAAAAAAIE4YBgAAAAAAAIgT\n",
       "hgEAAAAAAADihGEAAAAAAACAOGEYAAAAAAAAIE4YBgAAAAAAAIgThgEAAAAAAADihGEAAAAAAACA\n",
       "OGEYAAAAAAAAIE4YBgAAAAAAAIgThgEAAAAAAADihGEAAAAAAACAOGEYAAAAAAAAIE4YBgAAAAAA\n",
       "AIgThgEAAAAAAADihGEAAAAAAACAOGEYAAAAAAAAIE4YBgAAAAAAAIgThgEAAAAAAADihGEAAAAA\n",
       "AACAOGEYAAAAAAAAIE4YBgAAAAAAAIgThgEAAAAAAADihGEAAAAAAACAOGEYAAAAAAAAIE4YBgAA\n",
       "AAAAAIjbbdv+MD0CAAAAAAAAHlcXzlybnrCcG0dXpicsx8cwAAAAAAAAQJwwDAAAAAAAABAnDAMA\n",
       "AAAAAADECcMAAAAAAAAAccIwAAAAAAAAQJwwDAAAAAAAABAnDAMAAAAAAADECcMAAAAAAAAAccIw\n",
       "AAAAAAAAQJwwDAAAAAAAABAnDAMAAAAAAADECcMAAAAAAAAAccIwAAAAAAAAQJwwDAAAAAAAABAn\n",
       "DAMAAAAAAADECcMAAAAAAAAAccIwAAAAAAAAQJwwDAAAAAAAABAnDAMAAAAAAADECcMAAAAAAAAA\n",
       "ccIwAAAAAAAAQJwwDAAAAAAAABAnDAMAAAAAAADECcMAAAAAAAAAccIwAAAAAAAAQJwwDAAAAAAA\n",
       "ABAnDAMAAAAAAADECcMAAAAAAAAAccIwAAAAAAAAQJwwDAAAAAAAABAnDAMAAAAAAADECcMAAAAA\n",
       "AAAAccIwAAAAAAAAQJwwDAAAAAAAABAnDAMAAAAAAADECcMAAAAAAAAAccIwAAAAAAAAQJwwDAAA\n",
       "AAAAABAnDAMAAAAAAADECcMAAAAAAAAAccIwAAAAAAAAQJwwDAAAAAAAABAnDAMAAAAAAADECcMA\n",
       "AAAAAAAAccIwAAAAAAAAQJwwDAAAAAAAABAnDAMAAAAAAADECcMAAAAAAAAAccIwAAAAAAAAQNxu\n",
       "2/aH6REAAAAAAADwuDp1dHF6wnJOHtyanrAcH8MAAAAAAAAAccIwAAAAAAAAQJwwDAAAAAAAABAn\n",
       "DAMAAAAAAADECcMAAAAAAAAAccIwAAAAAAAAQJwwDAAAAAAAABAnDAMAAAAAAADECcMAAAAAAAAA\n",
       "ccIwAAAAAAAAQJwwDAAAAAAAABAnDAMAAAAAAADECcMAAAAAAAAAccIwAAAAAAAAQJwwDAAAAAAA\n",
       "ABAnDAMAAAAAAADECcMAAAAAAAAAccIwAAAAAAAAQJwwDAAAAAAAABAnDAMAAAAAAADECcMAAAAA\n",
       "AAAAccIwAAAAAAAAQJwwDAAAAAAAABAnDAMAAAAAAADECcMAAAAAAAAAccIwAAAAAAAAQJwwDAAA\n",
       "AAAAABAnDAMAAAAAAADECcMAAAAAAAAAccIwAAAAAAAAQJwwDAAAAAAAABAnDAMAAAAAAADECcMA\n",
       "AAAAAAAAccIwAAAAAAAAQJwwDAAAAAAAABAnDAMAAAAAAADECcMAAAAAAAAAccIwAAAAAAAAQJww\n",
       "DAAAAAAAABAnDAMAAAAAAADECcMAAAAAAAAAccIwAAAAAAAAQJwwDAAAAAAAABAnDAMAAAAAAADE\n",
       "CcMAAAAAAAAAccIwAAAAAAAAQJwwDAAAAAAAABAnDAMAAAAAAADE/QnimpU9Ve2SSgAAAABJRU5E\n",
       "rkJggg==\n",
       "\" transform=\"translate(186, 47)\"/>\n",
       "</g>\n",
       "<defs>\n",
       "  <clipPath id=\"clip363\">\n",
       "    <rect x=\"2160\" y=\"47\" width=\"73\" height=\"1440\"/>\n",
       "  </clipPath>\n",
       "</defs>\n",
       "<g clip-path=\"url(#clip363)\">\n",
       "<image width=\"72\" height=\"1439\" xlink:href=\"data:image/png;base64,\n",
       "iVBORw0KGgoAAAANSUhEUgAAAEgAAAWfCAYAAAAI7rB3AAAMWUlEQVR4nO3dwY0rRxAFwaZQ/lsh\n",
       "L6XfLQtUeSQPERYsEg8c9MyQ+/n3/v0O/+uvb/8Bv06gIFAQKAgU5r5/v/03/DQLCgIFgYJAQaAw\n",
       "7/359t/w0ywoCBQECgIFR41gQUGgIFAQKAgU5rmKrSwoCBQECgIFgcK86yq2saAgUBAoCBQcNYIF\n",
       "BYGCQEGgIFBwFQsWFAQKAgWBgvtBwYKCQEGgIFAQKMxx1FhZUBAoCBQECgIFN8yCBQWBgkBBoDDH\n",
       "DbOVBQWBgkBBoCBQmHP/+fbf8NMsKAgUBAoCBYGCxz7BgoJAQaAgUHDDLFhQECgIFAQKAgVXsWBB\n",
       "QaAgUBAouB8ULCgIFAQKAgWBwnwcNVYWFAQKAgWBgkBhzvWfWTYWFAQKAgWBgqNGsKAgUBAoCBQE\n",
       "Co4awYKCQEGgIFAQKHjDLFhQECgIFAQK83HUWFlQECgIFAQKAgXvSQcLCgIFgYJAwVEjWFAQKAgU\n",
       "BAoCBc/mgwUFgYJAQaAgUHAWCxYUBAoCBYGCo0awoCBQECgIFAQKjhrBgoJAQaAgUBAozLn323/D\n",
       "T7OgIFAQKAgUHDWCBQWBgkBBoCBQ8NgnWFAQKAgUBAo+pIMFBYGCQEGgIFCYj6caKwsKAgWBgkBB\n",
       "oOAsFiwoCBQECgIFL1AFCwoCBYGCQEGg4IZZsKAgUBAoCBTcDwoWFAQKAgWBgkDBDbNgQUGgIFAQ\n",
       "KAgUXMWCBQWBgkBBoOB788GCgkBBoCBQECg4agQLCgIFgYJAQaDgKhYsKAgUBAoCBR/SwYKCQEGg\n",
       "IFAQKLiKBQsKAgWBgkBhzvMhvbGgIFAQKAgUBAqOGsGCgkBBoCBQECi4igULCgIFgYJAwYd0sKAg\n",
       "UBAoCBQECnPu+/bf8NMsKAgUBAoCBYGCs1iwoCBQECgIFBw1ggUFgYJAQaAgUHDUCBYUBAoCBYGC\n",
       "o0awoCBQECgIFAQKc5w0VhYUBAoCBYGCQGHOcxbbWFAQKAgUBAqOGsGCgkBBoCBQECi4igULCgIF\n",
       "gYJAQaAwfohzZ0FBoCBQECg4agQLCgIFgYJAQaDgKhYsKAgUBAoChTn38+2/4adZUBAoCBQECgKF\n",
       "ec9VbGNBQaAgUBAoCBTcMAsWFAQKAgWBghtmwYKCQEGgIFAQKMy7Gm3UCQIFgYJAwVEjWFAQKAgU\n",
       "BAoChTmeza8sKAgUBAoCBYHCPGexlQUFgYJAQaAwx1ONlTpBoCBQECgIFBw1ggUFgYJAQaAgUPDY\n",
       "J1hQECgIFAQKXgMO6gSBgkBBoCBQ8J50sKAgUBAoCBQ81QgWFAQKAgWBgkBh3tNoo04QKAgUBAoC\n",
       "BTfMggUFgYJAQaDghlmwoCBQECgIFAQKc9wwW6kTBAoCBYGCQMFZLFhQECgIFAQKPqSDBQWBgkBB\n",
       "oCBQ8L35YEFBoCBQECj43nxQJwgUBAoCBYHCPEeNlQUFgYJAQaAgUPDYJ1hQECgIFAQK/jNLUCcI\n",
       "FAQKAgWBghtmwYKCQEGgIFAQKLhhFiwoCBQECgIFR41gQUGgIFAQKAgUvCcd1AkCBYGCQMFRI1hQ\n",
       "ECgIFAQKAgVPNYIFBYGCQEGgIFBwFgsWFAQKAgWBgn+fFSwoCBQECgIFgYJ/ZRzUCQIFgYJAQaDg\n",
       "hlmwoCBQECgIFDybDxYUBAoCBYGCQMFRI1hQECgIFAQKc31IrywoCBQECgIFgYLvzQd1gkBBoCBQ\n",
       "ECi4YRYsKAgUBAoCBR/SwYKCQEGgIFAQKHjDLFhQECgIFAQKjhrBgoJAQaAgUBAouIoFCwoCBYGC\n",
       "QEGg4NdfgjpBoCBQECjM9VRjZUFBoCBQECgIFNwwCxYUBAoCBYGCQMFVLFhQECgIFAQKPqSDBQWB\n",
       "gkBBoCBQ8BtmwYKCQEGgIFBw1AgWFAQKAgWBgkDBVSxYUBAoCBQECgIFX2YJ6gSBgkBBoODLLMGC\n",
       "gkBBoCBQECi4YRYsKAgUBAoCBYGCq1iwoCBQECgIFLwGHCwoCBQECgIFgYKjRrCgIFAQKAgU5h0f\n",
       "0hsLCgIFgYJAQaDghlmwoCBQECgIFAQKbpgFCwoCBYGCQMFRI1hQECgIFAQKAgVHjWBBQaAgUBAo\n",
       "CBScxYIFBYGCQEGg4KgRLCgIFAQKAgWBgqtYsKAgUBAoCBTm+jLLyoKCQEGgIFAQKDhqBAsKAgWB\n",
       "gkBBoODZfLCgIFAQKAgU5r1v/wm/zYKCQEGgIFAQKDhqBAsKAgWBgkDBD00GCwoCBYGCQEGg4KgR\n",
       "LCgIFAQKAgWBgjfMggUFgYJAQaDgyyzBgoJAQaAgUBAoeMMsWFAQKAgUBAoCBY99ggUFgYJAQaDg\n",
       "qUawoCBQECgIFAQKHvsECwoCBYGCQMH9oGBBQaAgUBAoCBQ8mw8WFAQKAgWBgkDBDbNgQUGgIFAQ\n",
       "KHg2HywoCBQECgIFgcLcb/8FP86CgkBBoCBQECg4iwULCgIFgYJAwRtmwYKCQEGgIFAQKLhhFiwo\n",
       "CBQECgIF94OCBQWBgkBBoCBQcNQIFhQECgIFgYJAwVksWFAQKAgUBAqezQcLCgIFgYJAQaAwfvxl\n",
       "Z0FBoCBQECgIFJzFggUFgYJAQaDg2XywoCBQECgIFAQKns0HCwoCBYGCQMFRI1hQECgIFAQKAgVH\n",
       "jWBBQaAgUBAoCBTmesVsZUFBoCBQECi4YRYsKAgUBAoCBYGCG2bBgoJAQaAgUHDUCBYUBAoCBYGC\n",
       "QGGepxorCwoCBYGCQEGgMPe4YbaxoCBQECgIFLxAFSwoCBQECgIFgYIfmgwWFAQKAgWBgkDBD00G\n",
       "CwoCBYGCQMGz+WBBQaAgUBAoCBS8Jx0sKAgUBAoCBd84DBYUBAoCBYGCQMFRI1hQECgIFAQKAgXv\n",
       "SQcLCgIFgYJAwWvAwYKCQEGgIFAQKDhqBAsKAgWBgkBBoOA96WBBQaAgUBAo+ImuYEFBoCBQECgI\n",
       "FNwwCxYUBAoCBYGCZ/PBgoJAQaAgUBAoOGoECwoCBYGCQEGg4CwWLCgIFAQKAgVHjWBBQaAgUBAo\n",
       "CBRcxYIFBYGCQEGgIFBwwyxYUBAoCBQECo4awYKCQEGgIFAQKDhqBAsKAgWBgkDBUSNYUBAoCBQE\n",
       "CgIFP9EVLCgIFAQKAgWBgv8vFiwoCBQECgIFN8yCBQWBgkBBoCBQmHdcxjYWFAQKAgWBgkDBWSxY\n",
       "UBAoCBQECp7NBwsKAgWBgkBBoODZfLCgIFAQKAgU3A8KFhQECgIFgYJAwbP5YEFBoCBQECgIFJzF\n",
       "ggUFgYJAQaDgJ7qCBQWBgkBBoCBQmOsVs5UFBYGCQEGg4AWqYEFBoCBQECgIFOY5aqwsKAgUBAoC\n",
       "BYGCs1iwoCBQECgIFDzVCBYUBAoCBYGCQMEbZsGCgkBBoCBQECjM9ZXMlQUFgYJAQaDghlmwoCBQ\n",
       "ECgIFAQKfv0lWFAQKAgUBApeoAoWFAQKAgWBgkDBU41gQUGgIFAQKAgU3DALFhQECgIFgcLc45bZ\n",
       "xoKCQEGgIFAQKLhhFiwoCBQECgIFgYKrWLCgIFAQKAgUPNUIFhQECgIFgYJAwWOfYEFBoCBQECjM\n",
       "/ThqbCwoCBQECgIFgYKjRrCgIFAQKAgUBArzXMVWFhQECgIFgYKjRrCgIFAQKAgUBApzP65iGwsK\n",
       "AgWBgkBBoOAsFiwoCBQECgIFTzWCBQWBgkBBoCBQcNQIFhQECgIFgYIP6WBBQaAgUBAoCBQ8mw8W\n",
       "FAQKAgWBgkBh3vnz7b/hp1lQECgIFAQKbpgFCwoCBYGCQEGg4A2zYEFBoCBQECjMfe4HbSwoCBQE\n",
       "CgIFgYKjRrCgIFAQKAgUBApzPZtfWVAQKAgUBAqOGsGCgkBBoCBQECg4agQLCgIFgYJAQaAw7zmL\n",
       "bSwoCBQECgIFN8yCBQWBgkBBoCBQ8J50sKAgUBAoCBQcNYIFBYGCQEGgIFCY56ixsqAgUBAoCBQE\n",
       "Cs5iwYKCQEGgIFCY6wWqlQUFgYJAQaAgUPCb9sGCgkBBoCBQECj4MkuwoCBQECgIFDzVCBYUBAoC\n",
       "BYGCQMFRI1hQECgIFAQKPqSDBQWBgkBBoCBQ8Gw+WFAQKAgUBAoCBWexYEFBoCBQECjM8Wx+ZUFB\n",
       "oCBQECgIFBw1ggUFgYJAQaAgUPCedLCgIFAQKAgU5jhqrCwoCBQECgIFgYI3zIIFBYGCQEGg4Nl8\n",
       "sKAgUBAoCBQECm6YBQsKAgWBgkBBoDDvvG//DT/NgoJAQaAgUHDDLFhQECgIFAQKAoU5jhorCwoC\n",
       "BYGCQOE/LrLuTX/wFc8AAAAASUVORK5CYII=\n",
       "\" transform=\"translate(2161, 47)\"/>\n",
       "</g>\n",
       "<path clip-path=\"url(#clip360)\" d=\"M2280.7 1468.62 Q2277.09 1468.62 2275.26 1472.18 Q2273.45 1475.72 2273.45 1482.85 Q2273.45 1489.96 2275.26 1493.53 Q2277.09 1497.07 2280.7 1497.07 Q2284.33 1497.07 2286.14 1493.53 Q2287.97 1489.96 2287.97 1482.85 Q2287.97 1475.72 2286.14 1472.18 Q2284.33 1468.62 2280.7 1468.62 M2280.7 1464.91 Q2286.51 1464.91 2289.57 1469.52 Q2292.64 1474.1 2292.64 1482.85 Q2292.64 1491.58 2289.57 1496.19 Q2286.51 1500.77 2280.7 1500.77 Q2274.89 1500.77 2271.81 1496.19 Q2268.76 1491.58 2268.76 1482.85 Q2268.76 1474.1 2271.81 1469.52 Q2274.89 1464.91 2280.7 1464.91 Z\" fill=\"#000000\" fill-rule=\"evenodd\" fill-opacity=\"1\" /><path clip-path=\"url(#clip360)\" d=\"M2274.38 1196.63 L2290.7 1196.63 L2290.7 1200.56 L2268.76 1200.56 L2268.76 1196.63 Q2271.42 1193.88 2276 1189.25 Q2280.61 1184.59 2281.79 1183.25 Q2284.03 1180.73 2284.91 1178.99 Q2285.82 1177.23 2285.82 1175.54 Q2285.82 1172.79 2283.87 1171.05 Q2281.95 1169.31 2278.85 1169.31 Q2276.65 1169.31 2274.2 1170.08 Q2271.77 1170.84 2268.99 1172.39 L2268.99 1167.67 Q2271.81 1166.54 2274.27 1165.96 Q2276.72 1165.38 2278.76 1165.38 Q2284.13 1165.38 2287.32 1168.06 Q2290.52 1170.75 2290.52 1175.24 Q2290.52 1177.37 2289.7 1179.29 Q2288.92 1181.19 2286.81 1183.78 Q2286.23 1184.45 2283.13 1187.67 Q2280.03 1190.87 2274.38 1196.63 Z\" fill=\"#000000\" fill-rule=\"evenodd\" fill-opacity=\"1\" /><path clip-path=\"url(#clip360)\" d=\"M2300.56 1166 L2318.92 1166 L2318.92 1169.94 L2304.84 1169.94 L2304.84 1178.41 Q2305.86 1178.06 2306.88 1177.9 Q2307.9 1177.72 2308.92 1177.72 Q2314.7 1177.72 2318.08 1180.89 Q2321.46 1184.06 2321.46 1189.48 Q2321.46 1195.06 2317.99 1198.16 Q2314.52 1201.24 2308.2 1201.24 Q2306.02 1201.24 2303.76 1200.87 Q2301.51 1200.5 2299.1 1199.75 L2299.1 1195.06 Q2301.19 1196.19 2303.41 1196.75 Q2305.63 1197.3 2308.11 1197.3 Q2312.11 1197.3 2314.45 1195.19 Q2316.79 1193.09 2316.79 1189.48 Q2316.79 1185.87 2314.45 1183.76 Q2312.11 1181.65 2308.11 1181.65 Q2306.23 1181.65 2304.36 1182.07 Q2302.51 1182.49 2300.56 1183.37 L2300.56 1166 Z\" fill=\"#000000\" fill-rule=\"evenodd\" fill-opacity=\"1\" /><path clip-path=\"url(#clip360)\" d=\"M2340.68 1169.08 Q2337.07 1169.08 2335.24 1172.65 Q2333.43 1176.19 2333.43 1183.32 Q2333.43 1190.43 2335.24 1193.99 Q2337.07 1197.53 2340.68 1197.53 Q2344.31 1197.53 2346.12 1193.99 Q2347.95 1190.43 2347.95 1183.32 Q2347.95 1176.19 2346.12 1172.65 Q2344.31 1169.08 2340.68 1169.08 M2340.68 1165.38 Q2346.49 1165.38 2349.54 1169.99 Q2352.62 1174.57 2352.62 1183.32 Q2352.62 1192.05 2349.54 1196.65 Q2346.49 1201.24 2340.68 1201.24 Q2334.87 1201.24 2331.79 1196.65 Q2328.73 1192.05 2328.73 1183.32 Q2328.73 1174.57 2331.79 1169.99 Q2334.87 1165.38 2340.68 1165.38 Z\" fill=\"#000000\" fill-rule=\"evenodd\" fill-opacity=\"1\" /><path clip-path=\"url(#clip360)\" d=\"M2270.21 866.471 L2288.57 866.471 L2288.57 870.406 L2274.5 870.406 L2274.5 878.878 Q2275.52 878.531 2276.53 878.369 Q2277.55 878.183 2278.57 878.183 Q2284.36 878.183 2287.74 881.355 Q2291.12 884.526 2291.12 889.943 Q2291.12 895.521 2287.64 898.623 Q2284.17 901.702 2277.85 901.702 Q2275.68 901.702 2273.41 901.331 Q2271.16 900.961 2268.76 900.22 L2268.76 895.521 Q2270.84 896.656 2273.06 897.211 Q2275.28 897.767 2277.76 897.767 Q2281.77 897.767 2284.1 895.66 Q2286.44 893.554 2286.44 889.943 Q2286.44 886.332 2284.1 884.225 Q2281.77 882.119 2277.76 882.119 Q2275.89 882.119 2274.01 882.535 Q2272.16 882.952 2270.21 883.832 L2270.21 866.471 Z\" fill=\"#000000\" fill-rule=\"evenodd\" fill-opacity=\"1\" /><path clip-path=\"url(#clip360)\" d=\"M2310.33 869.549 Q2306.72 869.549 2304.89 873.114 Q2303.08 876.656 2303.08 883.785 Q2303.08 890.892 2304.89 894.456 Q2306.72 897.998 2310.33 897.998 Q2313.96 897.998 2315.77 894.456 Q2317.6 890.892 2317.6 883.785 Q2317.6 876.656 2315.77 873.114 Q2313.96 869.549 2310.33 869.549 M2310.33 865.846 Q2316.14 865.846 2319.2 870.452 Q2322.27 875.035 2322.27 883.785 Q2322.27 892.512 2319.2 897.118 Q2316.14 901.702 2310.33 901.702 Q2304.52 901.702 2301.44 897.118 Q2298.39 892.512 2298.39 883.785 Q2298.39 875.035 2301.44 870.452 Q2304.52 865.846 2310.33 865.846 Z\" fill=\"#000000\" fill-rule=\"evenodd\" fill-opacity=\"1\" /><path clip-path=\"url(#clip360)\" d=\"M2340.49 869.549 Q2336.88 869.549 2335.05 873.114 Q2333.25 876.656 2333.25 883.785 Q2333.25 890.892 2335.05 894.456 Q2336.88 897.998 2340.49 897.998 Q2344.13 897.998 2345.93 894.456 Q2347.76 890.892 2347.76 883.785 Q2347.76 876.656 2345.93 873.114 Q2344.13 869.549 2340.49 869.549 M2340.49 865.846 Q2346.3 865.846 2349.36 870.452 Q2352.44 875.035 2352.44 883.785 Q2352.44 892.512 2349.36 897.118 Q2346.3 901.702 2340.49 901.702 Q2334.68 901.702 2331.6 897.118 Q2328.55 892.512 2328.55 883.785 Q2328.55 875.035 2331.6 870.452 Q2334.68 865.846 2340.49 865.846 Z\" fill=\"#000000\" fill-rule=\"evenodd\" fill-opacity=\"1\" /><path clip-path=\"url(#clip360)\" d=\"M2268.76 566.936 L2290.98 566.936 L2290.98 568.927 L2278.43 601.496 L2273.55 601.496 L2285.35 570.871 L2268.76 570.871 L2268.76 566.936 Z\" fill=\"#000000\" fill-rule=\"evenodd\" fill-opacity=\"1\" /><path clip-path=\"url(#clip360)\" d=\"M2300.14 566.936 L2318.5 566.936 L2318.5 570.871 L2304.43 570.871 L2304.43 579.344 Q2305.45 578.996 2306.46 578.834 Q2307.48 578.649 2308.5 578.649 Q2314.29 578.649 2317.67 581.82 Q2321.05 584.992 2321.05 590.408 Q2321.05 595.987 2317.58 599.089 Q2314.1 602.168 2307.78 602.168 Q2305.61 602.168 2303.34 601.797 Q2301.09 601.427 2298.69 600.686 L2298.69 595.987 Q2300.77 597.121 2302.99 597.677 Q2305.21 598.232 2307.69 598.232 Q2311.7 598.232 2314.03 596.126 Q2316.37 594.019 2316.37 590.408 Q2316.37 586.797 2314.03 584.691 Q2311.7 582.584 2307.69 582.584 Q2305.82 582.584 2303.94 583.001 Q2302.09 583.418 2300.14 584.297 L2300.14 566.936 Z\" fill=\"#000000\" fill-rule=\"evenodd\" fill-opacity=\"1\" /><path clip-path=\"url(#clip360)\" d=\"M2340.26 570.015 Q2336.65 570.015 2334.82 573.58 Q2333.01 577.121 2333.01 584.251 Q2333.01 591.357 2334.82 594.922 Q2336.65 598.464 2340.26 598.464 Q2343.89 598.464 2345.7 594.922 Q2347.53 591.357 2347.53 584.251 Q2347.53 577.121 2345.7 573.58 Q2343.89 570.015 2340.26 570.015 M2340.26 566.311 Q2346.07 566.311 2349.13 570.918 Q2352.2 575.501 2352.2 584.251 Q2352.2 592.978 2349.13 597.584 Q2346.07 602.168 2340.26 602.168 Q2334.45 602.168 2331.37 597.584 Q2328.32 592.978 2328.32 584.251 Q2328.32 575.501 2331.37 570.918 Q2334.45 566.311 2340.26 566.311 Z\" fill=\"#000000\" fill-rule=\"evenodd\" fill-opacity=\"1\" /><path clip-path=\"url(#clip360)\" d=\"M2269.43 298.027 L2277.07 298.027 L2277.07 271.661 L2268.76 273.328 L2268.76 269.069 L2277.02 267.402 L2281.7 267.402 L2281.7 298.027 L2289.33 298.027 L2289.33 301.962 L2269.43 301.962 L2269.43 298.027 Z\" fill=\"#000000\" fill-rule=\"evenodd\" fill-opacity=\"1\" /><path clip-path=\"url(#clip360)\" d=\"M2308.78 270.481 Q2305.17 270.481 2303.34 274.045 Q2301.53 277.587 2301.53 284.717 Q2301.53 291.823 2303.34 295.388 Q2305.17 298.93 2308.78 298.93 Q2312.41 298.93 2314.22 295.388 Q2316.05 291.823 2316.05 284.717 Q2316.05 277.587 2314.22 274.045 Q2312.41 270.481 2308.78 270.481 M2308.78 266.777 Q2314.59 266.777 2317.64 271.383 Q2320.72 275.967 2320.72 284.717 Q2320.72 293.443 2317.64 298.05 Q2314.59 302.633 2308.78 302.633 Q2302.97 302.633 2299.89 298.05 Q2296.83 293.443 2296.83 284.717 Q2296.83 275.967 2299.89 271.383 Q2302.97 266.777 2308.78 266.777 Z\" fill=\"#000000\" fill-rule=\"evenodd\" fill-opacity=\"1\" /><path clip-path=\"url(#clip360)\" d=\"M2338.94 270.481 Q2335.33 270.481 2333.5 274.045 Q2331.7 277.587 2331.7 284.717 Q2331.7 291.823 2333.5 295.388 Q2335.33 298.93 2338.94 298.93 Q2342.57 298.93 2344.38 295.388 Q2346.21 291.823 2346.21 284.717 Q2346.21 277.587 2344.38 274.045 Q2342.57 270.481 2338.94 270.481 M2338.94 266.777 Q2344.75 266.777 2347.81 271.383 Q2350.89 275.967 2350.89 284.717 Q2350.89 293.443 2347.81 298.05 Q2344.75 302.633 2338.94 302.633 Q2333.13 302.633 2330.05 298.05 Q2327 293.443 2327 284.717 Q2327 275.967 2330.05 271.383 Q2333.13 266.777 2338.94 266.777 Z\" fill=\"#000000\" fill-rule=\"evenodd\" fill-opacity=\"1\" /><path clip-path=\"url(#clip360)\" d=\"M2369.1 270.481 Q2365.49 270.481 2363.66 274.045 Q2361.86 277.587 2361.86 284.717 Q2361.86 291.823 2363.66 295.388 Q2365.49 298.93 2369.1 298.93 Q2372.74 298.93 2374.54 295.388 Q2376.37 291.823 2376.37 284.717 Q2376.37 277.587 2374.54 274.045 Q2372.74 270.481 2369.1 270.481 M2369.1 266.777 Q2374.91 266.777 2377.97 271.383 Q2381.05 275.967 2381.05 284.717 Q2381.05 293.443 2377.97 298.05 Q2374.91 302.633 2369.1 302.633 Q2363.29 302.633 2360.21 298.05 Q2357.16 293.443 2357.16 284.717 Q2357.16 275.967 2360.21 271.383 Q2363.29 266.777 2369.1 266.777 Z\" fill=\"#000000\" fill-rule=\"evenodd\" fill-opacity=\"1\" /><polyline clip-path=\"url(#clip360)\" style=\"stroke:#000000; stroke-linecap:round; stroke-linejoin:round; stroke-width:4; stroke-opacity:1; fill:none\" points=\"2232.76,1486.45 2232.76,1486.45 2256.76,1486.45 2232.76,1486.45 2232.76,1186.91 2256.76,1186.91 2232.76,1186.91 2232.76,887.379 2256.76,887.379 2232.76,887.379 2232.76,587.845 2256.76,587.845 2232.76,587.845 2232.76,288.311 2256.76,288.311 2232.76,288.311 2232.76,47.2441 \"/>\n",
       "</svg>\n"
      ]
     },
     "execution_count": 30,
     "metadata": {},
     "output_type": "execute_result"
    }
   ],
   "source": [
    "histogram2d(Wms, s8s, bins=(40,40), show_empty_bins=true,\n",
    "            ranges = [[0.2, 0.4],[0.6, 1.2]], normalize=:pdf)"
   ]
  },
  {
   "cell_type": "code",
   "execution_count": 31,
   "id": "1124a7e2",
   "metadata": {},
   "outputs": [
    {
     "name": "stdout",
     "output_type": "stream",
     "text": [
      "0.023000136875240114\n"
     ]
    },
    {
     "data": {
      "image/svg+xml": [
       "<?xml version=\"1.0\" encoding=\"utf-8\"?>\n",
       "<svg xmlns=\"http://www.w3.org/2000/svg\" xmlns:xlink=\"http://www.w3.org/1999/xlink\" width=\"600\" height=\"400\" viewBox=\"0 0 2400 1600\">\n",
       "<defs>\n",
       "  <clipPath id=\"clip400\">\n",
       "    <rect x=\"0\" y=\"0\" width=\"2400\" height=\"1600\"/>\n",
       "  </clipPath>\n",
       "</defs>\n",
       "<path clip-path=\"url(#clip400)\" d=\"M0 1600 L2400 1600 L2400 0 L0 0  Z\" fill=\"#ffffff\" fill-rule=\"evenodd\" fill-opacity=\"1\"/>\n",
       "<defs>\n",
       "  <clipPath id=\"clip401\">\n",
       "    <rect x=\"480\" y=\"0\" width=\"1681\" height=\"1600\"/>\n",
       "  </clipPath>\n",
       "</defs>\n",
       "<path clip-path=\"url(#clip400)\" d=\"M156.598 1486.45 L2352.76 1486.45 L2352.76 47.2441 L156.598 47.2441  Z\" fill=\"#ffffff\" fill-rule=\"evenodd\" fill-opacity=\"1\"/>\n",
       "<defs>\n",
       "  <clipPath id=\"clip402\">\n",
       "    <rect x=\"156\" y=\"47\" width=\"2197\" height=\"1440\"/>\n",
       "  </clipPath>\n",
       "</defs>\n",
       "<polyline clip-path=\"url(#clip402)\" style=\"stroke:#000000; stroke-linecap:round; stroke-linejoin:round; stroke-width:2; stroke-opacity:0.1; fill:none\" points=\"212.494,1486.45 212.494,47.2441 \"/>\n",
       "<polyline clip-path=\"url(#clip402)\" style=\"stroke:#000000; stroke-linecap:round; stroke-linejoin:round; stroke-width:2; stroke-opacity:0.1; fill:none\" points=\"838.43,1486.45 838.43,47.2441 \"/>\n",
       "<polyline clip-path=\"url(#clip402)\" style=\"stroke:#000000; stroke-linecap:round; stroke-linejoin:round; stroke-width:2; stroke-opacity:0.1; fill:none\" points=\"1464.37,1486.45 1464.37,47.2441 \"/>\n",
       "<polyline clip-path=\"url(#clip402)\" style=\"stroke:#000000; stroke-linecap:round; stroke-linejoin:round; stroke-width:2; stroke-opacity:0.1; fill:none\" points=\"2090.3,1486.45 2090.3,47.2441 \"/>\n",
       "<polyline clip-path=\"url(#clip400)\" style=\"stroke:#000000; stroke-linecap:round; stroke-linejoin:round; stroke-width:4; stroke-opacity:1; fill:none\" points=\"156.598,1486.45 2352.76,1486.45 \"/>\n",
       "<polyline clip-path=\"url(#clip400)\" style=\"stroke:#000000; stroke-linecap:round; stroke-linejoin:round; stroke-width:4; stroke-opacity:1; fill:none\" points=\"212.494,1486.45 212.494,1467.55 \"/>\n",
       "<polyline clip-path=\"url(#clip400)\" style=\"stroke:#000000; stroke-linecap:round; stroke-linejoin:round; stroke-width:4; stroke-opacity:1; fill:none\" points=\"838.43,1486.45 838.43,1467.55 \"/>\n",
       "<polyline clip-path=\"url(#clip400)\" style=\"stroke:#000000; stroke-linecap:round; stroke-linejoin:round; stroke-width:4; stroke-opacity:1; fill:none\" points=\"1464.37,1486.45 1464.37,1467.55 \"/>\n",
       "<polyline clip-path=\"url(#clip400)\" style=\"stroke:#000000; stroke-linecap:round; stroke-linejoin:round; stroke-width:4; stroke-opacity:1; fill:none\" points=\"2090.3,1486.45 2090.3,1467.55 \"/>\n",
       "<path clip-path=\"url(#clip400)\" d=\"M212.494 1517.37 Q208.883 1517.37 207.054 1520.93 Q205.249 1524.47 205.249 1531.6 Q205.249 1538.71 207.054 1542.27 Q208.883 1545.82 212.494 1545.82 Q216.129 1545.82 217.934 1542.27 Q219.763 1538.71 219.763 1531.6 Q219.763 1524.47 217.934 1520.93 Q216.129 1517.37 212.494 1517.37 M212.494 1513.66 Q218.304 1513.66 221.36 1518.27 Q224.439 1522.85 224.439 1531.6 Q224.439 1540.33 221.36 1544.94 Q218.304 1549.52 212.494 1549.52 Q206.684 1549.52 203.605 1544.94 Q200.55 1540.33 200.55 1531.6 Q200.55 1522.85 203.605 1518.27 Q206.684 1513.66 212.494 1513.66 Z\" fill=\"#000000\" fill-rule=\"evenodd\" fill-opacity=\"1\" /><path clip-path=\"url(#clip400)\" d=\"M798.037 1544.91 L805.675 1544.91 L805.675 1518.55 L797.365 1520.21 L797.365 1515.95 L805.629 1514.29 L810.305 1514.29 L810.305 1544.91 L817.944 1544.91 L817.944 1548.85 L798.037 1548.85 L798.037 1544.91 Z\" fill=\"#000000\" fill-rule=\"evenodd\" fill-opacity=\"1\" /><path clip-path=\"url(#clip400)\" d=\"M837.388 1517.37 Q833.777 1517.37 831.948 1520.93 Q830.143 1524.47 830.143 1531.6 Q830.143 1538.71 831.948 1542.27 Q833.777 1545.82 837.388 1545.82 Q841.022 1545.82 842.828 1542.27 Q844.657 1538.71 844.657 1531.6 Q844.657 1524.47 842.828 1520.93 Q841.022 1517.37 837.388 1517.37 M837.388 1513.66 Q843.198 1513.66 846.254 1518.27 Q849.333 1522.85 849.333 1531.6 Q849.333 1540.33 846.254 1544.94 Q843.198 1549.52 837.388 1549.52 Q831.578 1549.52 828.499 1544.94 Q825.444 1540.33 825.444 1531.6 Q825.444 1522.85 828.499 1518.27 Q831.578 1513.66 837.388 1513.66 Z\" fill=\"#000000\" fill-rule=\"evenodd\" fill-opacity=\"1\" /><path clip-path=\"url(#clip400)\" d=\"M867.55 1517.37 Q863.939 1517.37 862.11 1520.93 Q860.305 1524.47 860.305 1531.6 Q860.305 1538.71 862.11 1542.27 Q863.939 1545.82 867.55 1545.82 Q871.184 1545.82 872.99 1542.27 Q874.819 1538.71 874.819 1531.6 Q874.819 1524.47 872.99 1520.93 Q871.184 1517.37 867.55 1517.37 M867.55 1513.66 Q873.36 1513.66 876.416 1518.27 Q879.494 1522.85 879.494 1531.6 Q879.494 1540.33 876.416 1544.94 Q873.36 1549.52 867.55 1549.52 Q861.74 1549.52 858.661 1544.94 Q855.606 1540.33 855.606 1531.6 Q855.606 1522.85 858.661 1518.27 Q861.74 1513.66 867.55 1513.66 Z\" fill=\"#000000\" fill-rule=\"evenodd\" fill-opacity=\"1\" /><path clip-path=\"url(#clip400)\" d=\"M1428.06 1544.91 L1444.38 1544.91 L1444.38 1548.85 L1422.43 1548.85 L1422.43 1544.91 Q1425.09 1542.16 1429.68 1537.53 Q1434.28 1532.88 1435.47 1531.53 Q1437.71 1529.01 1438.59 1527.27 Q1439.49 1525.51 1439.49 1523.82 Q1439.49 1521.07 1437.55 1519.33 Q1435.63 1517.6 1432.53 1517.6 Q1430.33 1517.6 1427.87 1518.36 Q1425.44 1519.13 1422.66 1520.68 L1422.66 1515.95 Q1425.49 1514.82 1427.94 1514.24 Q1430.4 1513.66 1432.43 1513.66 Q1437.8 1513.66 1441 1516.35 Q1444.19 1519.03 1444.19 1523.52 Q1444.19 1525.65 1443.38 1527.57 Q1442.59 1529.47 1440.49 1532.07 Q1439.91 1532.74 1436.81 1535.95 Q1433.71 1539.15 1428.06 1544.91 Z\" fill=\"#000000\" fill-rule=\"evenodd\" fill-opacity=\"1\" /><path clip-path=\"url(#clip400)\" d=\"M1464.19 1517.37 Q1460.58 1517.37 1458.75 1520.93 Q1456.95 1524.47 1456.95 1531.6 Q1456.95 1538.71 1458.75 1542.27 Q1460.58 1545.82 1464.19 1545.82 Q1467.83 1545.82 1469.63 1542.27 Q1471.46 1538.71 1471.46 1531.6 Q1471.46 1524.47 1469.63 1520.93 Q1467.83 1517.37 1464.19 1517.37 M1464.19 1513.66 Q1470 1513.66 1473.06 1518.27 Q1476.14 1522.85 1476.14 1531.6 Q1476.14 1540.33 1473.06 1544.94 Q1470 1549.52 1464.19 1549.52 Q1458.38 1549.52 1455.3 1544.94 Q1452.25 1540.33 1452.25 1531.6 Q1452.25 1522.85 1455.3 1518.27 Q1458.38 1513.66 1464.19 1513.66 Z\" fill=\"#000000\" fill-rule=\"evenodd\" fill-opacity=\"1\" /><path clip-path=\"url(#clip400)\" d=\"M1494.35 1517.37 Q1490.74 1517.37 1488.91 1520.93 Q1487.11 1524.47 1487.11 1531.6 Q1487.11 1538.71 1488.91 1542.27 Q1490.74 1545.82 1494.35 1545.82 Q1497.99 1545.82 1499.79 1542.27 Q1501.62 1538.71 1501.62 1531.6 Q1501.62 1524.47 1499.79 1520.93 Q1497.99 1517.37 1494.35 1517.37 M1494.35 1513.66 Q1500.16 1513.66 1503.22 1518.27 Q1506.3 1522.85 1506.3 1531.6 Q1506.3 1540.33 1503.22 1544.94 Q1500.16 1549.52 1494.35 1549.52 Q1488.54 1549.52 1485.46 1544.94 Q1482.41 1540.33 1482.41 1531.6 Q1482.41 1522.85 1485.46 1518.27 Q1488.54 1513.66 1494.35 1513.66 Z\" fill=\"#000000\" fill-rule=\"evenodd\" fill-opacity=\"1\" /><path clip-path=\"url(#clip400)\" d=\"M2064.06 1530.21 Q2067.42 1530.93 2069.29 1533.2 Q2071.19 1535.47 2071.19 1538.8 Q2071.19 1543.92 2067.67 1546.72 Q2064.16 1549.52 2057.67 1549.52 Q2055.5 1549.52 2053.18 1549.08 Q2050.89 1548.66 2048.44 1547.81 L2048.44 1543.29 Q2050.38 1544.43 2052.7 1545.01 Q2055.01 1545.58 2057.54 1545.58 Q2061.93 1545.58 2064.22 1543.85 Q2066.54 1542.11 2066.54 1538.8 Q2066.54 1535.75 2064.39 1534.03 Q2062.26 1532.3 2058.44 1532.3 L2054.41 1532.3 L2054.41 1528.45 L2058.62 1528.45 Q2062.07 1528.45 2063.9 1527.09 Q2065.73 1525.7 2065.73 1523.11 Q2065.73 1520.45 2063.83 1519.03 Q2061.96 1517.6 2058.44 1517.6 Q2056.52 1517.6 2054.32 1518.01 Q2052.12 1518.43 2049.48 1519.31 L2049.48 1515.14 Q2052.14 1514.4 2054.46 1514.03 Q2056.79 1513.66 2058.85 1513.66 Q2064.18 1513.66 2067.28 1516.09 Q2070.38 1518.5 2070.38 1522.62 Q2070.38 1525.49 2068.74 1527.48 Q2067.1 1529.45 2064.06 1530.21 Z\" fill=\"#000000\" fill-rule=\"evenodd\" fill-opacity=\"1\" /><path clip-path=\"url(#clip400)\" d=\"M2090.06 1517.37 Q2086.45 1517.37 2084.62 1520.93 Q2082.81 1524.47 2082.81 1531.6 Q2082.81 1538.71 2084.62 1542.27 Q2086.45 1545.82 2090.06 1545.82 Q2093.69 1545.82 2095.5 1542.27 Q2097.33 1538.71 2097.33 1531.6 Q2097.33 1524.47 2095.5 1520.93 Q2093.69 1517.37 2090.06 1517.37 M2090.06 1513.66 Q2095.87 1513.66 2098.92 1518.27 Q2102 1522.85 2102 1531.6 Q2102 1540.33 2098.92 1544.94 Q2095.87 1549.52 2090.06 1549.52 Q2084.25 1549.52 2081.17 1544.94 Q2078.11 1540.33 2078.11 1531.6 Q2078.11 1522.85 2081.17 1518.27 Q2084.25 1513.66 2090.06 1513.66 Z\" fill=\"#000000\" fill-rule=\"evenodd\" fill-opacity=\"1\" /><path clip-path=\"url(#clip400)\" d=\"M2120.22 1517.37 Q2116.61 1517.37 2114.78 1520.93 Q2112.97 1524.47 2112.97 1531.6 Q2112.97 1538.71 2114.78 1542.27 Q2116.61 1545.82 2120.22 1545.82 Q2123.85 1545.82 2125.66 1542.27 Q2127.49 1538.71 2127.49 1531.6 Q2127.49 1524.47 2125.66 1520.93 Q2123.85 1517.37 2120.22 1517.37 M2120.22 1513.66 Q2126.03 1513.66 2129.09 1518.27 Q2132.16 1522.85 2132.16 1531.6 Q2132.16 1540.33 2129.09 1544.94 Q2126.03 1549.52 2120.22 1549.52 Q2114.41 1549.52 2111.33 1544.94 Q2108.28 1540.33 2108.28 1531.6 Q2108.28 1522.85 2111.33 1518.27 Q2114.41 1513.66 2120.22 1513.66 Z\" fill=\"#000000\" fill-rule=\"evenodd\" fill-opacity=\"1\" /><polyline clip-path=\"url(#clip402)\" style=\"stroke:#000000; stroke-linecap:round; stroke-linejoin:round; stroke-width:2; stroke-opacity:0.1; fill:none\" points=\"156.598,1418.18 2352.76,1418.18 \"/>\n",
       "<polyline clip-path=\"url(#clip402)\" style=\"stroke:#000000; stroke-linecap:round; stroke-linejoin:round; stroke-width:2; stroke-opacity:0.1; fill:none\" points=\"156.598,1105.04 2352.76,1105.04 \"/>\n",
       "<polyline clip-path=\"url(#clip402)\" style=\"stroke:#000000; stroke-linecap:round; stroke-linejoin:round; stroke-width:2; stroke-opacity:0.1; fill:none\" points=\"156.598,791.89 2352.76,791.89 \"/>\n",
       "<polyline clip-path=\"url(#clip402)\" style=\"stroke:#000000; stroke-linecap:round; stroke-linejoin:round; stroke-width:2; stroke-opacity:0.1; fill:none\" points=\"156.598,478.744 2352.76,478.744 \"/>\n",
       "<polyline clip-path=\"url(#clip402)\" style=\"stroke:#000000; stroke-linecap:round; stroke-linejoin:round; stroke-width:2; stroke-opacity:0.1; fill:none\" points=\"156.598,165.599 2352.76,165.599 \"/>\n",
       "<polyline clip-path=\"url(#clip400)\" style=\"stroke:#000000; stroke-linecap:round; stroke-linejoin:round; stroke-width:4; stroke-opacity:1; fill:none\" points=\"156.598,1486.45 156.598,47.2441 \"/>\n",
       "<polyline clip-path=\"url(#clip400)\" style=\"stroke:#000000; stroke-linecap:round; stroke-linejoin:round; stroke-width:4; stroke-opacity:1; fill:none\" points=\"156.598,1418.18 175.496,1418.18 \"/>\n",
       "<polyline clip-path=\"url(#clip400)\" style=\"stroke:#000000; stroke-linecap:round; stroke-linejoin:round; stroke-width:4; stroke-opacity:1; fill:none\" points=\"156.598,1105.04 175.496,1105.04 \"/>\n",
       "<polyline clip-path=\"url(#clip400)\" style=\"stroke:#000000; stroke-linecap:round; stroke-linejoin:round; stroke-width:4; stroke-opacity:1; fill:none\" points=\"156.598,791.89 175.496,791.89 \"/>\n",
       "<polyline clip-path=\"url(#clip400)\" style=\"stroke:#000000; stroke-linecap:round; stroke-linejoin:round; stroke-width:4; stroke-opacity:1; fill:none\" points=\"156.598,478.744 175.496,478.744 \"/>\n",
       "<polyline clip-path=\"url(#clip400)\" style=\"stroke:#000000; stroke-linecap:round; stroke-linejoin:round; stroke-width:4; stroke-opacity:1; fill:none\" points=\"156.598,165.599 175.496,165.599 \"/>\n",
       "<path clip-path=\"url(#clip400)\" d=\"M63.4226 1403.98 Q59.8115 1403.98 57.9828 1407.55 Q56.1773 1411.09 56.1773 1418.22 Q56.1773 1425.32 57.9828 1428.89 Q59.8115 1432.43 63.4226 1432.43 Q67.0569 1432.43 68.8624 1428.89 Q70.6911 1425.32 70.6911 1418.22 Q70.6911 1411.09 68.8624 1407.55 Q67.0569 1403.98 63.4226 1403.98 M63.4226 1400.28 Q69.2328 1400.28 72.2883 1404.88 Q75.367 1409.47 75.367 1418.22 Q75.367 1426.94 72.2883 1431.55 Q69.2328 1436.13 63.4226 1436.13 Q57.6125 1436.13 54.5338 1431.55 Q51.4782 1426.94 51.4782 1418.22 Q51.4782 1409.47 54.5338 1404.88 Q57.6125 1400.28 63.4226 1400.28 Z\" fill=\"#000000\" fill-rule=\"evenodd\" fill-opacity=\"1\" /><path clip-path=\"url(#clip400)\" d=\"M83.5845 1429.58 L88.4688 1429.58 L88.4688 1435.46 L83.5845 1435.46 L83.5845 1429.58 Z\" fill=\"#000000\" fill-rule=\"evenodd\" fill-opacity=\"1\" /><path clip-path=\"url(#clip400)\" d=\"M108.654 1403.98 Q105.043 1403.98 103.214 1407.55 Q101.409 1411.09 101.409 1418.22 Q101.409 1425.32 103.214 1428.89 Q105.043 1432.43 108.654 1432.43 Q112.288 1432.43 114.094 1428.89 Q115.922 1425.32 115.922 1418.22 Q115.922 1411.09 114.094 1407.55 Q112.288 1403.98 108.654 1403.98 M108.654 1400.28 Q114.464 1400.28 117.52 1404.88 Q120.598 1409.47 120.598 1418.22 Q120.598 1426.94 117.52 1431.55 Q114.464 1436.13 108.654 1436.13 Q102.844 1436.13 99.765 1431.55 Q96.7095 1426.94 96.7095 1418.22 Q96.7095 1409.47 99.765 1404.88 Q102.844 1400.28 108.654 1400.28 Z\" fill=\"#000000\" fill-rule=\"evenodd\" fill-opacity=\"1\" /><path clip-path=\"url(#clip400)\" d=\"M64.6495 1090.83 Q61.0384 1090.83 59.2097 1094.4 Q57.4041 1097.94 57.4041 1105.07 Q57.4041 1112.18 59.2097 1115.74 Q61.0384 1119.28 64.6495 1119.28 Q68.2837 1119.28 70.0892 1115.74 Q71.9179 1112.18 71.9179 1105.07 Q71.9179 1097.94 70.0892 1094.4 Q68.2837 1090.83 64.6495 1090.83 M64.6495 1087.13 Q70.4596 1087.13 73.5152 1091.74 Q76.5938 1096.32 76.5938 1105.07 Q76.5938 1113.8 73.5152 1118.4 Q70.4596 1122.99 64.6495 1122.99 Q58.8393 1122.99 55.7606 1118.4 Q52.7051 1113.8 52.7051 1105.07 Q52.7051 1096.32 55.7606 1091.74 Q58.8393 1087.13 64.6495 1087.13 Z\" fill=\"#000000\" fill-rule=\"evenodd\" fill-opacity=\"1\" /><path clip-path=\"url(#clip400)\" d=\"M84.8114 1116.44 L89.6956 1116.44 L89.6956 1122.32 L84.8114 1122.32 L84.8114 1116.44 Z\" fill=\"#000000\" fill-rule=\"evenodd\" fill-opacity=\"1\" /><path clip-path=\"url(#clip400)\" d=\"M100.691 1118.38 L108.33 1118.38 L108.33 1092.02 L100.02 1093.68 L100.02 1089.42 L108.283 1087.76 L112.959 1087.76 L112.959 1118.38 L120.598 1118.38 L120.598 1122.32 L100.691 1122.32 L100.691 1118.38 Z\" fill=\"#000000\" fill-rule=\"evenodd\" fill-opacity=\"1\" /><path clip-path=\"url(#clip400)\" d=\"M65.0198 777.689 Q61.4087 777.689 59.58 781.254 Q57.7745 784.795 57.7745 791.925 Q57.7745 799.031 59.58 802.596 Q61.4087 806.138 65.0198 806.138 Q68.6541 806.138 70.4596 802.596 Q72.2883 799.031 72.2883 791.925 Q72.2883 784.795 70.4596 781.254 Q68.6541 777.689 65.0198 777.689 M65.0198 773.985 Q70.83 773.985 73.8855 778.592 Q76.9642 783.175 76.9642 791.925 Q76.9642 800.652 73.8855 805.258 Q70.83 809.842 65.0198 809.842 Q59.2097 809.842 56.131 805.258 Q53.0754 800.652 53.0754 791.925 Q53.0754 783.175 56.131 778.592 Q59.2097 773.985 65.0198 773.985 Z\" fill=\"#000000\" fill-rule=\"evenodd\" fill-opacity=\"1\" /><path clip-path=\"url(#clip400)\" d=\"M85.1818 803.291 L90.066 803.291 L90.066 809.17 L85.1818 809.17 L85.1818 803.291 Z\" fill=\"#000000\" fill-rule=\"evenodd\" fill-opacity=\"1\" /><path clip-path=\"url(#clip400)\" d=\"M104.279 805.235 L120.598 805.235 L120.598 809.17 L98.6539 809.17 L98.6539 805.235 Q101.316 802.481 105.899 797.851 Q110.506 793.198 111.686 791.856 Q113.932 789.332 114.811 787.596 Q115.714 785.837 115.714 784.147 Q115.714 781.393 113.77 779.657 Q111.848 777.92 108.746 777.92 Q106.547 777.92 104.094 778.684 Q101.663 779.448 98.8854 780.999 L98.8854 776.277 Q101.709 775.143 104.163 774.564 Q106.617 773.985 108.654 773.985 Q114.024 773.985 117.219 776.67 Q120.413 779.356 120.413 783.846 Q120.413 785.976 119.603 787.897 Q118.816 789.795 116.709 792.388 Q116.131 793.059 113.029 796.277 Q109.927 799.471 104.279 805.235 Z\" fill=\"#000000\" fill-rule=\"evenodd\" fill-opacity=\"1\" /><path clip-path=\"url(#clip400)\" d=\"M64.0708 464.543 Q60.4597 464.543 58.631 468.108 Q56.8254 471.65 56.8254 478.779 Q56.8254 485.886 58.631 489.45 Q60.4597 492.992 64.0708 492.992 Q67.705 492.992 69.5105 489.45 Q71.3392 485.886 71.3392 478.779 Q71.3392 471.65 69.5105 468.108 Q67.705 464.543 64.0708 464.543 M64.0708 460.839 Q69.8809 460.839 72.9365 465.446 Q76.0151 470.029 76.0151 478.779 Q76.0151 487.506 72.9365 492.112 Q69.8809 496.696 64.0708 496.696 Q58.2606 496.696 55.1819 492.112 Q52.1264 487.506 52.1264 478.779 Q52.1264 470.029 55.1819 465.446 Q58.2606 460.839 64.0708 460.839 Z\" fill=\"#000000\" fill-rule=\"evenodd\" fill-opacity=\"1\" /><path clip-path=\"url(#clip400)\" d=\"M84.2327 490.145 L89.1169 490.145 L89.1169 496.024 L84.2327 496.024 L84.2327 490.145 Z\" fill=\"#000000\" fill-rule=\"evenodd\" fill-opacity=\"1\" /><path clip-path=\"url(#clip400)\" d=\"M113.469 477.39 Q116.825 478.108 118.7 480.376 Q120.598 482.645 120.598 485.978 Q120.598 491.094 117.08 493.895 Q113.561 496.696 107.08 496.696 Q104.904 496.696 102.589 496.256 Q100.297 495.839 97.8437 494.983 L97.8437 490.469 Q99.7882 491.603 102.103 492.182 Q104.418 492.761 106.941 492.761 Q111.339 492.761 113.631 491.024 Q115.945 489.288 115.945 485.978 Q115.945 482.923 113.793 481.21 Q111.663 479.474 107.844 479.474 L103.816 479.474 L103.816 475.631 L108.029 475.631 Q111.478 475.631 113.307 474.265 Q115.135 472.876 115.135 470.284 Q115.135 467.622 113.237 466.21 Q111.362 464.775 107.844 464.775 Q105.922 464.775 103.723 465.191 Q101.524 465.608 98.8854 466.488 L98.8854 462.321 Q101.547 461.58 103.862 461.21 Q106.2 460.839 108.26 460.839 Q113.584 460.839 116.686 463.27 Q119.788 465.677 119.788 469.798 Q119.788 472.668 118.145 474.659 Q116.501 476.626 113.469 477.39 Z\" fill=\"#000000\" fill-rule=\"evenodd\" fill-opacity=\"1\" /><path clip-path=\"url(#clip400)\" d=\"M62.9365 151.397 Q59.3254 151.397 57.4967 154.962 Q55.6912 158.504 55.6912 165.633 Q55.6912 172.74 57.4967 176.305 Q59.3254 179.846 62.9365 179.846 Q66.5707 179.846 68.3763 176.305 Q70.205 172.74 70.205 165.633 Q70.205 158.504 68.3763 154.962 Q66.5707 151.397 62.9365 151.397 M62.9365 147.694 Q68.7467 147.694 71.8022 152.3 Q74.8809 156.883 74.8809 165.633 Q74.8809 174.36 71.8022 178.967 Q68.7467 183.55 62.9365 183.55 Q57.1264 183.55 54.0477 178.967 Q50.9921 174.36 50.9921 165.633 Q50.9921 156.883 54.0477 152.3 Q57.1264 147.694 62.9365 147.694 Z\" fill=\"#000000\" fill-rule=\"evenodd\" fill-opacity=\"1\" /><path clip-path=\"url(#clip400)\" d=\"M83.0984 176.999 L87.9827 176.999 L87.9827 182.879 L83.0984 182.879 L83.0984 176.999 Z\" fill=\"#000000\" fill-rule=\"evenodd\" fill-opacity=\"1\" /><path clip-path=\"url(#clip400)\" d=\"M111.015 152.393 L99.2095 170.842 L111.015 170.842 L111.015 152.393 M109.788 148.319 L115.668 148.319 L115.668 170.842 L120.598 170.842 L120.598 174.73 L115.668 174.73 L115.668 182.879 L111.015 182.879 L111.015 174.73 L95.4132 174.73 L95.4132 170.217 L109.788 148.319 Z\" fill=\"#000000\" fill-rule=\"evenodd\" fill-opacity=\"1\" /><polyline clip-path=\"url(#clip402)\" style=\"stroke:#009af9; stroke-linecap:round; stroke-linejoin:round; stroke-width:4; stroke-opacity:1; fill:none\" points=\"218.754,1418.18 225.013,1212.77 231.272,87.9763 237.532,226.595 243.791,370.961 250.05,501.096 256.31,623.284 262.569,733.916 268.828,828.993 275.088,912.338 281.347,979.374 287.607,1035.53 293.866,1081.4 300.125,1124.31 306.385,1150.36 312.644,1170.91 318.903,1187.47 325.163,1208.56 331.422,1229.56 337.681,1247.71 343.941,1266.38 350.2,1285.32 356.459,1303.04 362.719,1319.38 368.978,1332.48 375.238,1342.03 381.497,1350.3 387.756,1360.27 394.016,1371.19 400.275,1381.64 406.534,1390.64 412.794,1400.74 419.053,1406.26 425.312,1411.61 431.572,1416.51 437.831,1418.97 444.09,1419.17 450.35,1417.12 456.609,1414.57 462.869,1410.82 469.128,1404.03 475.387,1399.43 481.647,1396.66 487.906,1391.49 494.165,1387.31 500.425,1380.28 506.684,1380 512.943,1375.03 519.203,1375.64 525.462,1375.44 531.721,1376.14 537.981,1382.86 544.24,1390.23 550.5,1393.7 556.759,1396.04 563.018,1404.89 569.278,1405.71 575.537,1407.76 581.796,1410.65 588.056,1414.6 594.315,1417.45 600.574,1422.18 606.834,1419.4 613.093,1418 619.352,1413.99 625.612,1412.21 631.871,1408.74 638.13,1406.82 644.39,1404.84 650.649,1401.56 656.909,1397.41 663.168,1395.37 669.427,1396.14 675.687,1398.87 681.946,1401.42 688.205,1404.31 694.465,1407.72 700.724,1410.86 706.983,1413.8 713.243,1416.79 719.502,1419.12 725.761,1420.96 732.021,1422.72 738.28,1424.86 744.54,1424.81 750.799,1423.52 757.058,1421.75 763.318,1420.41 769.577,1418.01 775.836,1415.52 782.096,1412.63 788.355,1410.72 794.614,1409.49 800.874,1408.67 807.133,1407.78 813.392,1408.36 819.652,1406.8 825.911,1406.15 832.171,1406.87 838.43,1407.98 844.689,1409.43 850.949,1411.61 857.208,1414.85 863.467,1417.51 869.727,1419.65 875.986,1421.46 882.245,1422.92 888.505,1423.45 894.764,1423.44 901.023,1423.06 907.283,1421.82 913.542,1420.14 919.802,1418.81 926.061,1417.82 932.32,1415.83 938.58,1412.33 944.839,1410.59 951.098,1409.54 957.358,1409.8 963.617,1410.1 969.876,1410.43 976.136,1411.67 982.395,1412.84 988.654,1416.61 994.914,1417.75 1001.17,1418.19 1007.43,1419.66 1013.69,1422.33 1019.95,1423.85 1026.21,1425.45 1032.47,1425.55 1038.73,1425.81 1044.99,1423.44 1051.25,1421.3 1057.51,1419.21 1063.77,1418.66 1070.03,1417.14 1076.29,1414.61 1082.54,1413.74 1088.8,1412.62 1095.06,1411.11 1101.32,1410.04 1107.58,1409.23 1113.84,1411 1120.1,1413.8 1126.36,1416.68 1132.62,1420.34 1138.88,1422.64 1145.14,1425.72 1151.4,1426.83 1157.66,1428 1163.92,1430.04 1170.18,1430.07 1176.44,1429.77 1182.69,1429.24 1188.95,1428.19 1195.21,1426.45 1201.47,1422.41 1207.73,1418.11 1213.99,1412.46 1220.25,1408.66 1226.51,1404.47 1232.77,1403.42 1239.03,1403.48 1245.29,1404.16 1251.55,1406.45 1257.81,1407.7 1264.07,1411.39 1270.33,1415.65 1276.58,1421 1282.84,1422.04 1289.1,1426.17 1295.36,1430.59 1301.62,1432.1 1307.88,1435.89 1314.14,1432.91 1320.4,1430.58 1326.66,1425.85 1332.92,1419.96 1339.18,1416.45 1345.44,1413.68 1351.7,1411.43 1357.96,1412.08 1364.22,1412.58 1370.48,1410.51 1376.73,1407.73 1382.99,1405.35 1389.25,1404.21 1395.51,1405.9 1401.77,1409.16 1408.03,1413.07 1414.29,1416.95 1420.55,1420.56 1426.81,1423.42 1433.07,1426.43 1439.33,1427.84 1445.59,1429.31 1451.85,1431.35 1458.11,1432.57 1464.37,1433.74 1470.62,1433.81 1476.88,1432.08 1483.14,1429.32 1489.4,1423.25 1495.66,1417.24 1501.92,1409.7 1508.18,1404.55 1514.44,1400.37 1520.7,1404.44 1526.96,1405.26 1533.22,1409.72 1539.48,1415.32 1545.74,1418.64 1552,1421.53 1558.26,1422.79 1564.52,1424.75 1570.77,1427.62 1577.03,1433.37 1583.29,1433.2 1589.55,1435.04 1595.81,1436.05 1602.07,1434.39 1608.33,1433.48 1614.59,1430.94 1620.85,1424.56 1627.11,1419.52 1633.37,1413.55 1639.63,1406.54 1645.89,1403.55 1652.15,1405.5 1658.41,1406.92 1664.66,1412.32 1670.92,1417.82 1677.18,1422.76 1683.44,1425.61 1689.7,1429.18 1695.96,1432.43 1702.22,1435.5 1708.48,1440.25 1714.74,1443.9 1721,1445.56 1727.26,1445.45 1733.52,1440.08 1739.78,1431.93 1746.04,1423.16 1752.3,1413.97 1758.56,1412.43 1764.81,1408.6 1771.07,1412.51 1777.33,1410.75 1783.59,1414.18 1789.85,1412.26 1796.11,1413.95 1802.37,1412.05 1808.63,1413.63 1814.89,1422.27 1821.15,1415.19 1827.41,1422.26 1833.67,1424.6 1839.93,1429.63 1846.19,1434.25 1852.45,1437.19 1858.7,1437.25 1864.96,1435.74 1871.22,1434.3 1877.48,1432.98 1883.74,1428.31 1890,1425.87 1896.26,1421.71 1902.52,1417.93 1908.78,1411.3 1915.04,1407.79 1921.3,1406.01 1927.56,1408.48 1933.82,1410.93 1940.08,1413.69 1946.34,1417.86 1952.6,1421.79 1958.85,1422.77 1965.11,1424.96 1971.37,1426.38 1977.63,1427.32 1983.89,1429.94 1990.15,1432.09 1996.41,1433.93 2002.67,1433.14 2008.93,1430.16 2015.19,1426.29 2021.45,1422.63 2027.71,1417.4 2033.97,1412.95 2040.23,1410.43 2046.49,1408.71 2052.74,1409.57 2059,1409.5 2065.26,1411.37 2071.52,1410.73 2077.78,1413.59 2084.04,1415.71 2090.3,1420.08 2096.56,1424.65 2102.82,1430.14 2109.08,1436.58 2115.34,1441.43 2121.6,1444.54 2127.86,1445.72 2134.12,1442.68 2140.38,1440.17 2146.64,1434.15 2152.89,1426.88 2159.15,1420.32 2165.41,1413.61 2171.67,1405.77 2177.93,1398.4 2184.19,1393.46 2190.45,1393.49 2196.71,1395.38 2202.97,1398.73 2209.23,1402.95 2215.49,1408.64 2221.75,1414.73 2228.01,1420.03 2234.27,1425.4 2240.53,1429.28 2246.79,1431.97 2253.04,1433.46 2259.3,1434.62 2265.56,1434.87 2271.82,1435.97 2278.08,1434.95 2284.34,1434.1 2290.6,1432.39 \"/>\n",
       "<path clip-path=\"url(#clip400)\" d=\"M1856.86 198.898 L2279.55 198.898 L2279.55 95.2176 L1856.86 95.2176  Z\" fill=\"#ffffff\" fill-rule=\"evenodd\" fill-opacity=\"1\"/>\n",
       "<polyline clip-path=\"url(#clip400)\" style=\"stroke:#000000; stroke-linecap:round; stroke-linejoin:round; stroke-width:4; stroke-opacity:1; fill:none\" points=\"1856.86,198.898 2279.55,198.898 2279.55,95.2176 1856.86,95.2176 1856.86,198.898 \"/>\n",
       "<polyline clip-path=\"url(#clip400)\" style=\"stroke:#009af9; stroke-linecap:round; stroke-linejoin:round; stroke-width:4; stroke-opacity:1; fill:none\" points=\"1881.26,147.058 2027.67,147.058 \"/>\n",
       "<path clip-path=\"url(#clip400)\" d=\"M2052.07 129.778 L2073.92 129.778 L2073.92 133.713 L2056.75 133.713 L2056.75 143.944 L2073.21 143.944 L2073.21 147.879 L2056.75 147.879 L2056.75 160.402 L2074.34 160.402 L2074.34 164.338 L2052.07 164.338 L2052.07 129.778 Z\" fill=\"#000000\" fill-rule=\"evenodd\" fill-opacity=\"1\" /><path clip-path=\"url(#clip400)\" d=\"M2103.39 148.689 L2103.39 164.338 L2099.13 164.338 L2099.13 148.828 Q2099.13 145.148 2097.7 143.319 Q2096.26 141.49 2093.39 141.49 Q2089.94 141.49 2087.95 143.69 Q2085.96 145.889 2085.96 149.685 L2085.96 164.338 L2081.68 164.338 L2081.68 138.412 L2085.96 138.412 L2085.96 142.44 Q2087.49 140.102 2089.55 138.944 Q2091.63 137.787 2094.34 137.787 Q2098.81 137.787 2101.1 140.565 Q2103.39 143.319 2103.39 148.689 Z\" fill=\"#000000\" fill-rule=\"evenodd\" fill-opacity=\"1\" /><path clip-path=\"url(#clip400)\" d=\"M2134.06 150.31 L2134.06 152.393 L2114.48 152.393 Q2114.76 156.791 2117.12 159.106 Q2119.5 161.398 2123.74 161.398 Q2126.19 161.398 2128.48 160.796 Q2130.8 160.194 2133.07 158.99 L2133.07 163.018 Q2130.77 163.99 2128.37 164.5 Q2125.96 165.009 2123.48 165.009 Q2117.28 165.009 2113.65 161.398 Q2110.03 157.787 2110.03 151.629 Q2110.03 145.264 2113.46 141.537 Q2116.91 137.787 2122.74 137.787 Q2127.97 137.787 2131.01 141.166 Q2134.06 144.523 2134.06 150.31 M2129.8 149.06 Q2129.76 145.565 2127.83 143.481 Q2125.94 141.398 2122.79 141.398 Q2119.22 141.398 2117.07 143.412 Q2114.94 145.426 2114.62 149.083 L2129.8 149.06 Z\" fill=\"#000000\" fill-rule=\"evenodd\" fill-opacity=\"1\" /><path clip-path=\"url(#clip400)\" d=\"M2156.08 142.393 Q2155.36 141.977 2154.5 141.791 Q2153.67 141.583 2152.65 141.583 Q2149.04 141.583 2147.09 143.944 Q2145.17 146.282 2145.17 150.68 L2145.17 164.338 L2140.89 164.338 L2140.89 138.412 L2145.17 138.412 L2145.17 142.44 Q2146.52 140.078 2148.67 138.944 Q2150.82 137.787 2153.9 137.787 Q2154.34 137.787 2154.87 137.856 Q2155.4 137.903 2156.05 138.018 L2156.08 142.393 Z\" fill=\"#000000\" fill-rule=\"evenodd\" fill-opacity=\"1\" /><path clip-path=\"url(#clip400)\" d=\"M2176.77 151.074 Q2176.77 146.444 2174.85 143.898 Q2172.95 141.352 2169.5 141.352 Q2166.08 141.352 2164.15 143.898 Q2162.26 146.444 2162.26 151.074 Q2162.26 155.68 2164.15 158.226 Q2166.08 160.773 2169.5 160.773 Q2172.95 160.773 2174.85 158.226 Q2176.77 155.68 2176.77 151.074 M2181.03 161.12 Q2181.03 167.74 2178.09 170.958 Q2175.15 174.199 2169.08 174.199 Q2166.84 174.199 2164.85 173.851 Q2162.86 173.527 2160.98 172.833 L2160.98 168.689 Q2162.86 169.708 2164.69 170.194 Q2166.52 170.68 2168.41 170.68 Q2172.6 170.68 2174.69 168.481 Q2176.77 166.305 2176.77 161.884 L2176.77 159.777 Q2175.45 162.069 2173.39 163.203 Q2171.33 164.338 2168.46 164.338 Q2163.69 164.338 2160.77 160.703 Q2157.86 157.069 2157.86 151.074 Q2157.86 145.055 2160.77 141.421 Q2163.69 137.787 2168.46 137.787 Q2171.33 137.787 2173.39 138.921 Q2175.45 140.055 2176.77 142.347 L2176.77 138.412 L2181.03 138.412 L2181.03 161.12 Z\" fill=\"#000000\" fill-rule=\"evenodd\" fill-opacity=\"1\" /><path clip-path=\"url(#clip400)\" d=\"M2200.59 166.745 Q2198.78 171.375 2197.07 172.787 Q2195.36 174.199 2192.49 174.199 L2189.08 174.199 L2189.08 170.634 L2191.58 170.634 Q2193.34 170.634 2194.32 169.8 Q2195.29 168.967 2196.47 165.865 L2197.23 163.921 L2186.75 138.412 L2191.26 138.412 L2199.36 158.689 L2207.46 138.412 L2211.98 138.412 L2200.59 166.745 Z\" fill=\"#000000\" fill-rule=\"evenodd\" fill-opacity=\"1\" /><path clip-path=\"url(#clip400)\" d=\"M2225.43 129.778 L2229.36 129.778 L2217.33 168.736 L2213.39 168.736 L2225.43 129.778 Z\" fill=\"#000000\" fill-rule=\"evenodd\" fill-opacity=\"1\" /><path clip-path=\"url(#clip400)\" d=\"M2250.89 142.347 L2250.89 128.319 L2255.15 128.319 L2255.15 164.338 L2250.89 164.338 L2250.89 160.449 Q2249.55 162.763 2247.49 163.898 Q2245.45 165.009 2242.58 165.009 Q2237.88 165.009 2234.92 161.259 Q2231.98 157.509 2231.98 151.398 Q2231.98 145.287 2234.92 141.537 Q2237.88 137.787 2242.58 137.787 Q2245.45 137.787 2247.49 138.921 Q2249.55 140.032 2250.89 142.347 M2236.38 151.398 Q2236.38 156.097 2238.3 158.782 Q2240.24 161.444 2243.62 161.444 Q2247 161.444 2248.95 158.782 Q2250.89 156.097 2250.89 151.398 Q2250.89 146.699 2248.95 144.037 Q2247 141.352 2243.62 141.352 Q2240.24 141.352 2238.3 144.037 Q2236.38 146.699 2236.38 151.398 Z\" fill=\"#000000\" fill-rule=\"evenodd\" fill-opacity=\"1\" /></svg>\n"
      ]
     },
     "execution_count": 31,
     "metadata": {},
     "output_type": "execute_result"
    }
   ],
   "source": [
    "E = [sample[end-1] for sample in samples[1:end-1]]\n",
    "println(std(E)^2/10)\n",
    "plot(E./10, label=\"Energy/d\")"
   ]
  },
  {
   "cell_type": "code",
   "execution_count": 32,
   "id": "c60a7287",
   "metadata": {},
   "outputs": [
    {
     "data": {
      "image/svg+xml": [
       "<?xml version=\"1.0\" encoding=\"utf-8\"?>\n",
       "<svg xmlns=\"http://www.w3.org/2000/svg\" xmlns:xlink=\"http://www.w3.org/1999/xlink\" width=\"600\" height=\"400\" viewBox=\"0 0 2400 1600\">\n",
       "<defs>\n",
       "  <clipPath id=\"clip440\">\n",
       "    <rect x=\"0\" y=\"0\" width=\"2400\" height=\"1600\"/>\n",
       "  </clipPath>\n",
       "</defs>\n",
       "<path clip-path=\"url(#clip440)\" d=\"M0 1600 L2400 1600 L2400 0 L0 0  Z\" fill=\"#ffffff\" fill-rule=\"evenodd\" fill-opacity=\"1\"/>\n",
       "<defs>\n",
       "  <clipPath id=\"clip441\">\n",
       "    <rect x=\"480\" y=\"0\" width=\"1681\" height=\"1600\"/>\n",
       "  </clipPath>\n",
       "</defs>\n",
       "<path clip-path=\"url(#clip440)\" d=\"M239.19 1486.45 L2352.76 1486.45 L2352.76 47.2441 L239.19 47.2441  Z\" fill=\"#ffffff\" fill-rule=\"evenodd\" fill-opacity=\"1\"/>\n",
       "<defs>\n",
       "  <clipPath id=\"clip442\">\n",
       "    <rect x=\"239\" y=\"47\" width=\"2115\" height=\"1440\"/>\n",
       "  </clipPath>\n",
       "</defs>\n",
       "<polyline clip-path=\"url(#clip442)\" style=\"stroke:#000000; stroke-linecap:round; stroke-linejoin:round; stroke-width:2; stroke-opacity:0.1; fill:none\" points=\"293.002,1486.45 293.002,47.2441 \"/>\n",
       "<polyline clip-path=\"url(#clip442)\" style=\"stroke:#000000; stroke-linecap:round; stroke-linejoin:round; stroke-width:2; stroke-opacity:0.1; fill:none\" points=\"893.584,1486.45 893.584,47.2441 \"/>\n",
       "<polyline clip-path=\"url(#clip442)\" style=\"stroke:#000000; stroke-linecap:round; stroke-linejoin:round; stroke-width:2; stroke-opacity:0.1; fill:none\" points=\"1494.16,1486.45 1494.16,47.2441 \"/>\n",
       "<polyline clip-path=\"url(#clip442)\" style=\"stroke:#000000; stroke-linecap:round; stroke-linejoin:round; stroke-width:2; stroke-opacity:0.1; fill:none\" points=\"2094.75,1486.45 2094.75,47.2441 \"/>\n",
       "<polyline clip-path=\"url(#clip440)\" style=\"stroke:#000000; stroke-linecap:round; stroke-linejoin:round; stroke-width:4; stroke-opacity:1; fill:none\" points=\"239.19,1486.45 2352.76,1486.45 \"/>\n",
       "<polyline clip-path=\"url(#clip440)\" style=\"stroke:#000000; stroke-linecap:round; stroke-linejoin:round; stroke-width:4; stroke-opacity:1; fill:none\" points=\"293.002,1486.45 293.002,1467.55 \"/>\n",
       "<polyline clip-path=\"url(#clip440)\" style=\"stroke:#000000; stroke-linecap:round; stroke-linejoin:round; stroke-width:4; stroke-opacity:1; fill:none\" points=\"893.584,1486.45 893.584,1467.55 \"/>\n",
       "<polyline clip-path=\"url(#clip440)\" style=\"stroke:#000000; stroke-linecap:round; stroke-linejoin:round; stroke-width:4; stroke-opacity:1; fill:none\" points=\"1494.16,1486.45 1494.16,1467.55 \"/>\n",
       "<polyline clip-path=\"url(#clip440)\" style=\"stroke:#000000; stroke-linecap:round; stroke-linejoin:round; stroke-width:4; stroke-opacity:1; fill:none\" points=\"2094.75,1486.45 2094.75,1467.55 \"/>\n",
       "<path clip-path=\"url(#clip440)\" d=\"M293.002 1517.37 Q289.391 1517.37 287.563 1520.93 Q285.757 1524.47 285.757 1531.6 Q285.757 1538.71 287.563 1542.27 Q289.391 1545.82 293.002 1545.82 Q296.637 1545.82 298.442 1542.27 Q300.271 1538.71 300.271 1531.6 Q300.271 1524.47 298.442 1520.93 Q296.637 1517.37 293.002 1517.37 M293.002 1513.66 Q298.813 1513.66 301.868 1518.27 Q304.947 1522.85 304.947 1531.6 Q304.947 1540.33 301.868 1544.94 Q298.813 1549.52 293.002 1549.52 Q287.192 1549.52 284.114 1544.94 Q281.058 1540.33 281.058 1531.6 Q281.058 1522.85 284.114 1518.27 Q287.192 1513.66 293.002 1513.66 Z\" fill=\"#000000\" fill-rule=\"evenodd\" fill-opacity=\"1\" /><path clip-path=\"url(#clip440)\" d=\"M853.19 1544.91 L860.829 1544.91 L860.829 1518.55 L852.519 1520.21 L852.519 1515.95 L860.783 1514.29 L865.459 1514.29 L865.459 1544.91 L873.098 1544.91 L873.098 1548.85 L853.19 1548.85 L853.19 1544.91 Z\" fill=\"#000000\" fill-rule=\"evenodd\" fill-opacity=\"1\" /><path clip-path=\"url(#clip440)\" d=\"M892.542 1517.37 Q888.931 1517.37 887.102 1520.93 Q885.297 1524.47 885.297 1531.6 Q885.297 1538.71 887.102 1542.27 Q888.931 1545.82 892.542 1545.82 Q896.176 1545.82 897.982 1542.27 Q899.811 1538.71 899.811 1531.6 Q899.811 1524.47 897.982 1520.93 Q896.176 1517.37 892.542 1517.37 M892.542 1513.66 Q898.352 1513.66 901.408 1518.27 Q904.486 1522.85 904.486 1531.6 Q904.486 1540.33 901.408 1544.94 Q898.352 1549.52 892.542 1549.52 Q886.732 1549.52 883.653 1544.94 Q880.598 1540.33 880.598 1531.6 Q880.598 1522.85 883.653 1518.27 Q886.732 1513.66 892.542 1513.66 Z\" fill=\"#000000\" fill-rule=\"evenodd\" fill-opacity=\"1\" /><path clip-path=\"url(#clip440)\" d=\"M922.704 1517.37 Q919.093 1517.37 917.264 1520.93 Q915.459 1524.47 915.459 1531.6 Q915.459 1538.71 917.264 1542.27 Q919.093 1545.82 922.704 1545.82 Q926.338 1545.82 928.144 1542.27 Q929.972 1538.71 929.972 1531.6 Q929.972 1524.47 928.144 1520.93 Q926.338 1517.37 922.704 1517.37 M922.704 1513.66 Q928.514 1513.66 931.57 1518.27 Q934.648 1522.85 934.648 1531.6 Q934.648 1540.33 931.57 1544.94 Q928.514 1549.52 922.704 1549.52 Q916.894 1549.52 913.815 1544.94 Q910.76 1540.33 910.76 1531.6 Q910.76 1522.85 913.815 1518.27 Q916.894 1513.66 922.704 1513.66 Z\" fill=\"#000000\" fill-rule=\"evenodd\" fill-opacity=\"1\" /><path clip-path=\"url(#clip440)\" d=\"M1457.86 1544.91 L1474.18 1544.91 L1474.18 1548.85 L1452.23 1548.85 L1452.23 1544.91 Q1454.89 1542.16 1459.48 1537.53 Q1464.08 1532.88 1465.26 1531.53 Q1467.51 1529.01 1468.39 1527.27 Q1469.29 1525.51 1469.29 1523.82 Q1469.29 1521.07 1467.35 1519.33 Q1465.43 1517.6 1462.32 1517.6 Q1460.13 1517.6 1457.67 1518.36 Q1455.24 1519.13 1452.46 1520.68 L1452.46 1515.95 Q1455.29 1514.82 1457.74 1514.24 Q1460.2 1513.66 1462.23 1513.66 Q1467.6 1513.66 1470.8 1516.35 Q1473.99 1519.03 1473.99 1523.52 Q1473.99 1525.65 1473.18 1527.57 Q1472.39 1529.47 1470.29 1532.07 Q1469.71 1532.74 1466.61 1535.95 Q1463.51 1539.15 1457.86 1544.91 Z\" fill=\"#000000\" fill-rule=\"evenodd\" fill-opacity=\"1\" /><path clip-path=\"url(#clip440)\" d=\"M1493.99 1517.37 Q1490.38 1517.37 1488.55 1520.93 Q1486.75 1524.47 1486.75 1531.6 Q1486.75 1538.71 1488.55 1542.27 Q1490.38 1545.82 1493.99 1545.82 Q1497.63 1545.82 1499.43 1542.27 Q1501.26 1538.71 1501.26 1531.6 Q1501.26 1524.47 1499.43 1520.93 Q1497.63 1517.37 1493.99 1517.37 M1493.99 1513.66 Q1499.8 1513.66 1502.86 1518.27 Q1505.94 1522.85 1505.94 1531.6 Q1505.94 1540.33 1502.86 1544.94 Q1499.8 1549.52 1493.99 1549.52 Q1488.18 1549.52 1485.1 1544.94 Q1482.05 1540.33 1482.05 1531.6 Q1482.05 1522.85 1485.1 1518.27 Q1488.18 1513.66 1493.99 1513.66 Z\" fill=\"#000000\" fill-rule=\"evenodd\" fill-opacity=\"1\" /><path clip-path=\"url(#clip440)\" d=\"M1524.15 1517.37 Q1520.54 1517.37 1518.71 1520.93 Q1516.91 1524.47 1516.91 1531.6 Q1516.91 1538.71 1518.71 1542.27 Q1520.54 1545.82 1524.15 1545.82 Q1527.79 1545.82 1529.59 1542.27 Q1531.42 1538.71 1531.42 1531.6 Q1531.42 1524.47 1529.59 1520.93 Q1527.79 1517.37 1524.15 1517.37 M1524.15 1513.66 Q1529.96 1513.66 1533.02 1518.27 Q1536.1 1522.85 1536.1 1531.6 Q1536.1 1540.33 1533.02 1544.94 Q1529.96 1549.52 1524.15 1549.52 Q1518.34 1549.52 1515.26 1544.94 Q1512.21 1540.33 1512.21 1531.6 Q1512.21 1522.85 1515.26 1518.27 Q1518.34 1513.66 1524.15 1513.66 Z\" fill=\"#000000\" fill-rule=\"evenodd\" fill-opacity=\"1\" /><path clip-path=\"url(#clip440)\" d=\"M2068.51 1530.21 Q2071.86 1530.93 2073.74 1533.2 Q2075.64 1535.47 2075.64 1538.8 Q2075.64 1543.92 2072.12 1546.72 Q2068.6 1549.52 2062.12 1549.52 Q2059.94 1549.52 2057.63 1549.08 Q2055.34 1548.66 2052.88 1547.81 L2052.88 1543.29 Q2054.83 1544.43 2057.14 1545.01 Q2059.46 1545.58 2061.98 1545.58 Q2066.38 1545.58 2068.67 1543.85 Q2070.98 1542.11 2070.98 1538.8 Q2070.98 1535.75 2068.83 1534.03 Q2066.7 1532.3 2062.88 1532.3 L2058.86 1532.3 L2058.86 1528.45 L2063.07 1528.45 Q2066.52 1528.45 2068.35 1527.09 Q2070.17 1525.7 2070.17 1523.11 Q2070.17 1520.45 2068.28 1519.03 Q2066.4 1517.6 2062.88 1517.6 Q2060.96 1517.6 2058.76 1518.01 Q2056.56 1518.43 2053.92 1519.31 L2053.92 1515.14 Q2056.59 1514.4 2058.9 1514.03 Q2061.24 1513.66 2063.3 1513.66 Q2068.62 1513.66 2071.73 1516.09 Q2074.83 1518.5 2074.83 1522.62 Q2074.83 1525.49 2073.18 1527.48 Q2071.54 1529.45 2068.51 1530.21 Z\" fill=\"#000000\" fill-rule=\"evenodd\" fill-opacity=\"1\" /><path clip-path=\"url(#clip440)\" d=\"M2094.5 1517.37 Q2090.89 1517.37 2089.06 1520.93 Q2087.26 1524.47 2087.26 1531.6 Q2087.26 1538.71 2089.06 1542.27 Q2090.89 1545.82 2094.5 1545.82 Q2098.14 1545.82 2099.94 1542.27 Q2101.77 1538.71 2101.77 1531.6 Q2101.77 1524.47 2099.94 1520.93 Q2098.14 1517.37 2094.5 1517.37 M2094.5 1513.66 Q2100.31 1513.66 2103.37 1518.27 Q2106.45 1522.85 2106.45 1531.6 Q2106.45 1540.33 2103.37 1544.94 Q2100.31 1549.52 2094.5 1549.52 Q2088.69 1549.52 2085.61 1544.94 Q2082.56 1540.33 2082.56 1531.6 Q2082.56 1522.85 2085.61 1518.27 Q2088.69 1513.66 2094.5 1513.66 Z\" fill=\"#000000\" fill-rule=\"evenodd\" fill-opacity=\"1\" /><path clip-path=\"url(#clip440)\" d=\"M2124.67 1517.37 Q2121.05 1517.37 2119.23 1520.93 Q2117.42 1524.47 2117.42 1531.6 Q2117.42 1538.71 2119.23 1542.27 Q2121.05 1545.82 2124.67 1545.82 Q2128.3 1545.82 2130.1 1542.27 Q2131.93 1538.71 2131.93 1531.6 Q2131.93 1524.47 2130.1 1520.93 Q2128.3 1517.37 2124.67 1517.37 M2124.67 1513.66 Q2130.48 1513.66 2133.53 1518.27 Q2136.61 1522.85 2136.61 1531.6 Q2136.61 1540.33 2133.53 1544.94 Q2130.48 1549.52 2124.67 1549.52 Q2118.85 1549.52 2115.78 1544.94 Q2112.72 1540.33 2112.72 1531.6 Q2112.72 1522.85 2115.78 1518.27 Q2118.85 1513.66 2124.67 1513.66 Z\" fill=\"#000000\" fill-rule=\"evenodd\" fill-opacity=\"1\" /><polyline clip-path=\"url(#clip442)\" style=\"stroke:#000000; stroke-linecap:round; stroke-linejoin:round; stroke-width:2; stroke-opacity:0.1; fill:none\" points=\"239.19,1320.42 2352.76,1320.42 \"/>\n",
       "<polyline clip-path=\"url(#clip442)\" style=\"stroke:#000000; stroke-linecap:round; stroke-linejoin:round; stroke-width:2; stroke-opacity:0.1; fill:none\" points=\"239.19,1126.09 2352.76,1126.09 \"/>\n",
       "<polyline clip-path=\"url(#clip442)\" style=\"stroke:#000000; stroke-linecap:round; stroke-linejoin:round; stroke-width:2; stroke-opacity:0.1; fill:none\" points=\"239.19,931.751 2352.76,931.751 \"/>\n",
       "<polyline clip-path=\"url(#clip442)\" style=\"stroke:#000000; stroke-linecap:round; stroke-linejoin:round; stroke-width:2; stroke-opacity:0.1; fill:none\" points=\"239.19,737.416 2352.76,737.416 \"/>\n",
       "<polyline clip-path=\"url(#clip442)\" style=\"stroke:#000000; stroke-linecap:round; stroke-linejoin:round; stroke-width:2; stroke-opacity:0.1; fill:none\" points=\"239.19,543.081 2352.76,543.081 \"/>\n",
       "<polyline clip-path=\"url(#clip442)\" style=\"stroke:#000000; stroke-linecap:round; stroke-linejoin:round; stroke-width:2; stroke-opacity:0.1; fill:none\" points=\"239.19,348.746 2352.76,348.746 \"/>\n",
       "<polyline clip-path=\"url(#clip442)\" style=\"stroke:#000000; stroke-linecap:round; stroke-linejoin:round; stroke-width:2; stroke-opacity:0.1; fill:none\" points=\"239.19,154.411 2352.76,154.411 \"/>\n",
       "<polyline clip-path=\"url(#clip440)\" style=\"stroke:#000000; stroke-linecap:round; stroke-linejoin:round; stroke-width:4; stroke-opacity:1; fill:none\" points=\"239.19,1486.45 239.19,47.2441 \"/>\n",
       "<polyline clip-path=\"url(#clip440)\" style=\"stroke:#000000; stroke-linecap:round; stroke-linejoin:round; stroke-width:4; stroke-opacity:1; fill:none\" points=\"239.19,1320.42 258.088,1320.42 \"/>\n",
       "<polyline clip-path=\"url(#clip440)\" style=\"stroke:#000000; stroke-linecap:round; stroke-linejoin:round; stroke-width:4; stroke-opacity:1; fill:none\" points=\"239.19,1126.09 258.088,1126.09 \"/>\n",
       "<polyline clip-path=\"url(#clip440)\" style=\"stroke:#000000; stroke-linecap:round; stroke-linejoin:round; stroke-width:4; stroke-opacity:1; fill:none\" points=\"239.19,931.751 258.088,931.751 \"/>\n",
       "<polyline clip-path=\"url(#clip440)\" style=\"stroke:#000000; stroke-linecap:round; stroke-linejoin:round; stroke-width:4; stroke-opacity:1; fill:none\" points=\"239.19,737.416 258.088,737.416 \"/>\n",
       "<polyline clip-path=\"url(#clip440)\" style=\"stroke:#000000; stroke-linecap:round; stroke-linejoin:round; stroke-width:4; stroke-opacity:1; fill:none\" points=\"239.19,543.081 258.088,543.081 \"/>\n",
       "<polyline clip-path=\"url(#clip440)\" style=\"stroke:#000000; stroke-linecap:round; stroke-linejoin:round; stroke-width:4; stroke-opacity:1; fill:none\" points=\"239.19,348.746 258.088,348.746 \"/>\n",
       "<polyline clip-path=\"url(#clip440)\" style=\"stroke:#000000; stroke-linecap:round; stroke-linejoin:round; stroke-width:4; stroke-opacity:1; fill:none\" points=\"239.19,154.411 258.088,154.411 \"/>\n",
       "<path clip-path=\"url(#clip440)\" d=\"M51.9875 1320.87 L81.6633 1320.87 L81.6633 1324.81 L51.9875 1324.81 L51.9875 1320.87 Z\" fill=\"#000000\" fill-rule=\"evenodd\" fill-opacity=\"1\" /><path clip-path=\"url(#clip440)\" d=\"M101.756 1321.29 Q98.4224 1321.29 96.5011 1323.07 Q94.603 1324.85 94.603 1327.98 Q94.603 1331.1 96.5011 1332.89 Q98.4224 1334.67 101.756 1334.67 Q105.089 1334.67 107.01 1332.89 Q108.932 1331.08 108.932 1327.98 Q108.932 1324.85 107.01 1323.07 Q105.112 1321.29 101.756 1321.29 M97.0798 1319.3 Q94.0706 1318.56 92.3808 1316.5 Q90.7141 1314.44 90.7141 1311.47 Q90.7141 1307.33 93.6539 1304.92 Q96.6169 1302.52 101.756 1302.52 Q106.918 1302.52 109.858 1304.92 Q112.797 1307.33 112.797 1311.47 Q112.797 1314.44 111.108 1316.5 Q109.441 1318.56 106.455 1319.3 Q109.834 1320.09 111.709 1322.38 Q113.608 1324.67 113.608 1327.98 Q113.608 1333 110.529 1335.69 Q107.473 1338.37 101.756 1338.37 Q96.0382 1338.37 92.9595 1335.69 Q89.904 1333 89.904 1327.98 Q89.904 1324.67 91.8021 1322.38 Q93.7002 1320.09 97.0798 1319.3 M95.3669 1311.91 Q95.3669 1314.6 97.0335 1316.1 Q98.7234 1317.61 101.756 1317.61 Q104.765 1317.61 106.455 1316.1 Q108.168 1314.6 108.168 1311.91 Q108.168 1309.23 106.455 1307.72 Q104.765 1306.22 101.756 1306.22 Q98.7234 1306.22 97.0335 1307.72 Q95.3669 1309.23 95.3669 1311.91 Z\" fill=\"#000000\" fill-rule=\"evenodd\" fill-opacity=\"1\" /><path clip-path=\"url(#clip440)\" d=\"M120.737 1303.14 L142.959 1303.14 L142.959 1305.13 L130.413 1337.7 L125.529 1337.7 L137.334 1307.08 L120.737 1307.08 L120.737 1303.14 Z\" fill=\"#000000\" fill-rule=\"evenodd\" fill-opacity=\"1\" /><path clip-path=\"url(#clip440)\" d=\"M150.899 1303.14 L173.121 1303.14 L173.121 1305.13 L160.575 1337.7 L155.691 1337.7 L167.496 1307.08 L150.899 1307.08 L150.899 1303.14 Z\" fill=\"#000000\" fill-rule=\"evenodd\" fill-opacity=\"1\" /><path clip-path=\"url(#clip440)\" d=\"M182.288 1303.14 L200.644 1303.14 L200.644 1307.08 L186.57 1307.08 L186.57 1315.55 Q187.589 1315.2 188.607 1315.04 Q189.626 1314.85 190.644 1314.85 Q196.431 1314.85 199.811 1318.03 Q203.19 1321.2 203.19 1326.61 Q203.19 1332.19 199.718 1335.29 Q196.246 1338.37 189.927 1338.37 Q187.751 1338.37 185.482 1338 Q183.237 1337.63 180.829 1336.89 L180.829 1332.19 Q182.913 1333.33 185.135 1333.88 Q187.357 1334.44 189.834 1334.44 Q193.839 1334.44 196.177 1332.33 Q198.514 1330.22 198.514 1326.61 Q198.514 1323 196.177 1320.9 Q193.839 1318.79 189.834 1318.79 Q187.959 1318.79 186.084 1319.21 Q184.232 1319.62 182.288 1320.5 L182.288 1303.14 Z\" fill=\"#000000\" fill-rule=\"evenodd\" fill-opacity=\"1\" /><path clip-path=\"url(#clip440)\" d=\"M50.9921 1126.54 L80.6679 1126.54 L80.6679 1130.47 L50.9921 1130.47 L50.9921 1126.54 Z\" fill=\"#000000\" fill-rule=\"evenodd\" fill-opacity=\"1\" /><path clip-path=\"url(#clip440)\" d=\"M100.76 1126.95 Q97.4271 1126.95 95.5058 1128.74 Q93.6076 1130.52 93.6076 1133.64 Q93.6076 1136.77 95.5058 1138.55 Q97.4271 1140.33 100.76 1140.33 Q104.094 1140.33 106.015 1138.55 Q107.936 1136.75 107.936 1133.64 Q107.936 1130.52 106.015 1128.74 Q104.117 1126.95 100.76 1126.95 M96.0845 1124.96 Q93.0752 1124.22 91.3854 1122.16 Q89.7188 1120.1 89.7188 1117.14 Q89.7188 1113 92.6586 1110.59 Q95.6215 1108.18 100.76 1108.18 Q105.922 1108.18 108.862 1110.59 Q111.802 1113 111.802 1117.14 Q111.802 1120.1 110.112 1122.16 Q108.446 1124.22 105.459 1124.96 Q108.839 1125.75 110.714 1128.04 Q112.612 1130.33 112.612 1133.64 Q112.612 1138.67 109.533 1141.35 Q106.478 1144.04 100.76 1144.04 Q95.0428 1144.04 91.9641 1141.35 Q88.9086 1138.67 88.9086 1133.64 Q88.9086 1130.33 90.8067 1128.04 Q92.7049 1125.75 96.0845 1124.96 M94.3715 1117.58 Q94.3715 1120.26 96.0382 1121.77 Q97.728 1123.27 100.76 1123.27 Q103.77 1123.27 105.459 1121.77 Q107.172 1120.26 107.172 1117.58 Q107.172 1114.89 105.459 1113.39 Q103.77 1111.88 100.76 1111.88 Q97.728 1111.88 96.0382 1113.39 Q94.3715 1114.89 94.3715 1117.58 Z\" fill=\"#000000\" fill-rule=\"evenodd\" fill-opacity=\"1\" /><path clip-path=\"url(#clip440)\" d=\"M119.742 1108.81 L141.964 1108.81 L141.964 1110.8 L129.418 1143.37 L124.533 1143.37 L136.339 1112.74 L119.742 1112.74 L119.742 1108.81 Z\" fill=\"#000000\" fill-rule=\"evenodd\" fill-opacity=\"1\" /><path clip-path=\"url(#clip440)\" d=\"M151.13 1108.81 L169.487 1108.81 L169.487 1112.74 L155.413 1112.74 L155.413 1121.21 Q156.431 1120.87 157.45 1120.7 Q158.468 1120.52 159.487 1120.52 Q165.274 1120.52 168.654 1123.69 Q172.033 1126.86 172.033 1132.28 Q172.033 1137.86 168.561 1140.96 Q165.089 1144.04 158.769 1144.04 Q156.593 1144.04 154.325 1143.67 Q152.08 1143.3 149.672 1142.56 L149.672 1137.86 Q151.755 1138.99 153.978 1139.55 Q156.2 1140.1 158.677 1140.1 Q162.681 1140.1 165.019 1138 Q167.357 1135.89 167.357 1132.28 Q167.357 1128.67 165.019 1126.56 Q162.681 1124.45 158.677 1124.45 Q156.802 1124.45 154.927 1124.87 Q153.075 1125.29 151.13 1126.17 L151.13 1108.81 Z\" fill=\"#000000\" fill-rule=\"evenodd\" fill-opacity=\"1\" /><path clip-path=\"url(#clip440)\" d=\"M191.246 1111.88 Q187.635 1111.88 185.806 1115.45 Q184.001 1118.99 184.001 1126.12 Q184.001 1133.23 185.806 1136.79 Q187.635 1140.33 191.246 1140.33 Q194.88 1140.33 196.686 1136.79 Q198.514 1133.23 198.514 1126.12 Q198.514 1118.99 196.686 1115.45 Q194.88 1111.88 191.246 1111.88 M191.246 1108.18 Q197.056 1108.18 200.112 1112.79 Q203.19 1117.37 203.19 1126.12 Q203.19 1134.85 200.112 1139.45 Q197.056 1144.04 191.246 1144.04 Q185.436 1144.04 182.357 1139.45 Q179.302 1134.85 179.302 1126.12 Q179.302 1117.37 182.357 1112.79 Q185.436 1108.18 191.246 1108.18 Z\" fill=\"#000000\" fill-rule=\"evenodd\" fill-opacity=\"1\" /><path clip-path=\"url(#clip440)\" d=\"M51.9875 932.202 L81.6633 932.202 L81.6633 936.138 L51.9875 936.138 L51.9875 932.202 Z\" fill=\"#000000\" fill-rule=\"evenodd\" fill-opacity=\"1\" /><path clip-path=\"url(#clip440)\" d=\"M101.756 932.619 Q98.4224 932.619 96.5011 934.401 Q94.603 936.184 94.603 939.309 Q94.603 942.434 96.5011 944.216 Q98.4224 945.999 101.756 945.999 Q105.089 945.999 107.01 944.216 Q108.932 942.411 108.932 939.309 Q108.932 936.184 107.01 934.401 Q105.112 932.619 101.756 932.619 M97.0798 930.628 Q94.0706 929.888 92.3808 927.827 Q90.7141 925.767 90.7141 922.804 Q90.7141 918.661 93.6539 916.253 Q96.6169 913.846 101.756 913.846 Q106.918 913.846 109.858 916.253 Q112.797 918.661 112.797 922.804 Q112.797 925.767 111.108 927.827 Q109.441 929.888 106.455 930.628 Q109.834 931.415 111.709 933.707 Q113.608 935.999 113.608 939.309 Q113.608 944.332 110.529 947.017 Q107.473 949.702 101.756 949.702 Q96.0382 949.702 92.9595 947.017 Q89.904 944.332 89.904 939.309 Q89.904 935.999 91.8021 933.707 Q93.7002 931.415 97.0798 930.628 M95.3669 923.244 Q95.3669 925.929 97.0335 927.434 Q98.7234 928.938 101.756 928.938 Q104.765 928.938 106.455 927.434 Q108.168 925.929 108.168 923.244 Q108.168 920.559 106.455 919.054 Q104.765 917.55 101.756 917.55 Q98.7234 917.55 97.0335 919.054 Q95.3669 920.559 95.3669 923.244 Z\" fill=\"#000000\" fill-rule=\"evenodd\" fill-opacity=\"1\" /><path clip-path=\"url(#clip440)\" d=\"M120.737 914.471 L142.959 914.471 L142.959 916.462 L130.413 949.031 L125.529 949.031 L137.334 918.406 L120.737 918.406 L120.737 914.471 Z\" fill=\"#000000\" fill-rule=\"evenodd\" fill-opacity=\"1\" /><path clip-path=\"url(#clip440)\" d=\"M156.107 945.096 L172.427 945.096 L172.427 949.031 L150.482 949.031 L150.482 945.096 Q153.144 942.341 157.728 937.712 Q162.334 933.059 163.515 931.716 Q165.76 929.193 166.64 927.457 Q167.542 925.698 167.542 924.008 Q167.542 921.253 165.598 919.517 Q163.677 917.781 160.575 917.781 Q158.376 917.781 155.922 918.545 Q153.492 919.309 150.714 920.86 L150.714 916.138 Q153.538 915.003 155.992 914.425 Q158.445 913.846 160.482 913.846 Q165.853 913.846 169.047 916.531 Q172.241 919.216 172.241 923.707 Q172.241 925.837 171.431 927.758 Q170.644 929.656 168.538 932.249 Q167.959 932.92 164.857 936.138 Q161.755 939.332 156.107 945.096 Z\" fill=\"#000000\" fill-rule=\"evenodd\" fill-opacity=\"1\" /><path clip-path=\"url(#clip440)\" d=\"M182.288 914.471 L200.644 914.471 L200.644 918.406 L186.57 918.406 L186.57 926.878 Q187.589 926.531 188.607 926.369 Q189.626 926.184 190.644 926.184 Q196.431 926.184 199.811 929.355 Q203.19 932.526 203.19 937.943 Q203.19 943.522 199.718 946.624 Q196.246 949.702 189.927 949.702 Q187.751 949.702 185.482 949.332 Q183.237 948.962 180.829 948.221 L180.829 943.522 Q182.913 944.656 185.135 945.212 Q187.357 945.767 189.834 945.767 Q193.839 945.767 196.177 943.661 Q198.514 941.554 198.514 937.943 Q198.514 934.332 196.177 932.225 Q193.839 930.119 189.834 930.119 Q187.959 930.119 186.084 930.536 Q184.232 930.952 182.288 931.832 L182.288 914.471 Z\" fill=\"#000000\" fill-rule=\"evenodd\" fill-opacity=\"1\" /><path clip-path=\"url(#clip440)\" d=\"M50.9921 737.867 L80.6679 737.867 L80.6679 741.803 L50.9921 741.803 L50.9921 737.867 Z\" fill=\"#000000\" fill-rule=\"evenodd\" fill-opacity=\"1\" /><path clip-path=\"url(#clip440)\" d=\"M100.76 738.284 Q97.4271 738.284 95.5058 740.066 Q93.6076 741.849 93.6076 744.974 Q93.6076 748.099 95.5058 749.881 Q97.4271 751.664 100.76 751.664 Q104.094 751.664 106.015 749.881 Q107.936 748.076 107.936 744.974 Q107.936 741.849 106.015 740.066 Q104.117 738.284 100.76 738.284 M96.0845 736.293 Q93.0752 735.553 91.3854 733.492 Q89.7188 731.432 89.7188 728.469 Q89.7188 724.326 92.6586 721.918 Q95.6215 719.511 100.76 719.511 Q105.922 719.511 108.862 721.918 Q111.802 724.326 111.802 728.469 Q111.802 731.432 110.112 733.492 Q108.446 735.553 105.459 736.293 Q108.839 737.08 110.714 739.372 Q112.612 741.664 112.612 744.974 Q112.612 749.997 109.533 752.682 Q106.478 755.367 100.76 755.367 Q95.0428 755.367 91.9641 752.682 Q88.9086 749.997 88.9086 744.974 Q88.9086 741.664 90.8067 739.372 Q92.7049 737.08 96.0845 736.293 M94.3715 728.909 Q94.3715 731.594 96.0382 733.099 Q97.728 734.603 100.76 734.603 Q103.77 734.603 105.459 733.099 Q107.172 731.594 107.172 728.909 Q107.172 726.224 105.459 724.719 Q103.77 723.215 100.76 723.215 Q97.728 723.215 96.0382 724.719 Q94.3715 726.224 94.3715 728.909 Z\" fill=\"#000000\" fill-rule=\"evenodd\" fill-opacity=\"1\" /><path clip-path=\"url(#clip440)\" d=\"M119.742 720.136 L141.964 720.136 L141.964 722.127 L129.418 754.696 L124.533 754.696 L136.339 724.071 L119.742 724.071 L119.742 720.136 Z\" fill=\"#000000\" fill-rule=\"evenodd\" fill-opacity=\"1\" /><path clip-path=\"url(#clip440)\" d=\"M161.084 723.215 Q157.473 723.215 155.644 726.779 Q153.839 730.321 153.839 737.451 Q153.839 744.557 155.644 748.122 Q157.473 751.664 161.084 751.664 Q164.718 751.664 166.524 748.122 Q168.353 744.557 168.353 737.451 Q168.353 730.321 166.524 726.779 Q164.718 723.215 161.084 723.215 M161.084 719.511 Q166.894 719.511 169.95 724.117 Q173.029 728.701 173.029 737.451 Q173.029 746.178 169.95 750.784 Q166.894 755.367 161.084 755.367 Q155.274 755.367 152.195 750.784 Q149.14 746.178 149.14 737.451 Q149.14 728.701 152.195 724.117 Q155.274 719.511 161.084 719.511 Z\" fill=\"#000000\" fill-rule=\"evenodd\" fill-opacity=\"1\" /><path clip-path=\"url(#clip440)\" d=\"M191.246 723.215 Q187.635 723.215 185.806 726.779 Q184.001 730.321 184.001 737.451 Q184.001 744.557 185.806 748.122 Q187.635 751.664 191.246 751.664 Q194.88 751.664 196.686 748.122 Q198.514 744.557 198.514 737.451 Q198.514 730.321 196.686 726.779 Q194.88 723.215 191.246 723.215 M191.246 719.511 Q197.056 719.511 200.112 724.117 Q203.19 728.701 203.19 737.451 Q203.19 746.178 200.112 750.784 Q197.056 755.367 191.246 755.367 Q185.436 755.367 182.357 750.784 Q179.302 746.178 179.302 737.451 Q179.302 728.701 182.357 724.117 Q185.436 719.511 191.246 719.511 Z\" fill=\"#000000\" fill-rule=\"evenodd\" fill-opacity=\"1\" /><path clip-path=\"url(#clip440)\" d=\"M51.9875 543.532 L81.6633 543.532 L81.6633 547.468 L51.9875 547.468 L51.9875 543.532 Z\" fill=\"#000000\" fill-rule=\"evenodd\" fill-opacity=\"1\" /><path clip-path=\"url(#clip440)\" d=\"M101.756 543.949 Q98.4224 543.949 96.5011 545.731 Q94.603 547.514 94.603 550.639 Q94.603 553.764 96.5011 555.546 Q98.4224 557.329 101.756 557.329 Q105.089 557.329 107.01 555.546 Q108.932 553.741 108.932 550.639 Q108.932 547.514 107.01 545.731 Q105.112 543.949 101.756 543.949 M97.0798 541.958 Q94.0706 541.218 92.3808 539.157 Q90.7141 537.097 90.7141 534.134 Q90.7141 529.991 93.6539 527.583 Q96.6169 525.176 101.756 525.176 Q106.918 525.176 109.858 527.583 Q112.797 529.991 112.797 534.134 Q112.797 537.097 111.108 539.157 Q109.441 541.218 106.455 541.958 Q109.834 542.745 111.709 545.037 Q113.608 547.329 113.608 550.639 Q113.608 555.662 110.529 558.347 Q107.473 561.032 101.756 561.032 Q96.0382 561.032 92.9595 558.347 Q89.904 555.662 89.904 550.639 Q89.904 547.329 91.8021 545.037 Q93.7002 542.745 97.0798 541.958 M95.3669 534.574 Q95.3669 537.259 97.0335 538.764 Q98.7234 540.269 101.756 540.269 Q104.765 540.269 106.455 538.764 Q108.168 537.259 108.168 534.574 Q108.168 531.889 106.455 530.384 Q104.765 528.88 101.756 528.88 Q98.7234 528.88 97.0335 530.384 Q95.3669 531.889 95.3669 534.574 Z\" fill=\"#000000\" fill-rule=\"evenodd\" fill-opacity=\"1\" /><path clip-path=\"url(#clip440)\" d=\"M132.496 541.218 Q129.348 541.218 127.496 543.37 Q125.668 545.523 125.668 549.273 Q125.668 553 127.496 555.176 Q129.348 557.329 132.496 557.329 Q135.644 557.329 137.473 555.176 Q139.325 553 139.325 549.273 Q139.325 545.523 137.473 543.37 Q135.644 541.218 132.496 541.218 M141.779 526.565 L141.779 530.824 Q140.019 529.991 138.214 529.551 Q136.431 529.111 134.672 529.111 Q130.043 529.111 127.589 532.236 Q125.158 535.361 124.811 541.681 Q126.177 539.667 128.237 538.602 Q130.297 537.514 132.774 537.514 Q137.982 537.514 140.992 540.685 Q144.024 543.833 144.024 549.273 Q144.024 554.597 140.876 557.815 Q137.728 561.032 132.496 561.032 Q126.501 561.032 123.33 556.449 Q120.158 551.843 120.158 543.116 Q120.158 534.921 124.047 530.06 Q127.936 525.176 134.487 525.176 Q136.246 525.176 138.029 525.523 Q139.834 525.87 141.779 526.565 Z\" fill=\"#000000\" fill-rule=\"evenodd\" fill-opacity=\"1\" /><path clip-path=\"url(#clip440)\" d=\"M150.899 525.801 L173.121 525.801 L173.121 527.792 L160.575 560.361 L155.691 560.361 L167.496 529.736 L150.899 529.736 L150.899 525.801 Z\" fill=\"#000000\" fill-rule=\"evenodd\" fill-opacity=\"1\" /><path clip-path=\"url(#clip440)\" d=\"M182.288 525.801 L200.644 525.801 L200.644 529.736 L186.57 529.736 L186.57 538.208 Q187.589 537.861 188.607 537.699 Q189.626 537.514 190.644 537.514 Q196.431 537.514 199.811 540.685 Q203.19 543.856 203.19 549.273 Q203.19 554.852 199.718 557.954 Q196.246 561.032 189.927 561.032 Q187.751 561.032 185.482 560.662 Q183.237 560.292 180.829 559.551 L180.829 554.852 Q182.913 555.986 185.135 556.542 Q187.357 557.097 189.834 557.097 Q193.839 557.097 196.177 554.991 Q198.514 552.884 198.514 549.273 Q198.514 545.662 196.177 543.556 Q193.839 541.449 189.834 541.449 Q187.959 541.449 186.084 541.866 Q184.232 542.282 182.288 543.162 L182.288 525.801 Z\" fill=\"#000000\" fill-rule=\"evenodd\" fill-opacity=\"1\" /><path clip-path=\"url(#clip440)\" d=\"M50.9921 349.197 L80.6679 349.197 L80.6679 353.133 L50.9921 353.133 L50.9921 349.197 Z\" fill=\"#000000\" fill-rule=\"evenodd\" fill-opacity=\"1\" /><path clip-path=\"url(#clip440)\" d=\"M100.76 349.614 Q97.4271 349.614 95.5058 351.396 Q93.6076 353.179 93.6076 356.304 Q93.6076 359.429 95.5058 361.211 Q97.4271 362.994 100.76 362.994 Q104.094 362.994 106.015 361.211 Q107.936 359.406 107.936 356.304 Q107.936 353.179 106.015 351.396 Q104.117 349.614 100.76 349.614 M96.0845 347.623 Q93.0752 346.883 91.3854 344.822 Q89.7188 342.762 89.7188 339.799 Q89.7188 335.656 92.6586 333.248 Q95.6215 330.841 100.76 330.841 Q105.922 330.841 108.862 333.248 Q111.802 335.656 111.802 339.799 Q111.802 342.762 110.112 344.822 Q108.446 346.883 105.459 347.623 Q108.839 348.41 110.714 350.702 Q112.612 352.994 112.612 356.304 Q112.612 361.327 109.533 364.012 Q106.478 366.697 100.76 366.697 Q95.0428 366.697 91.9641 364.012 Q88.9086 361.327 88.9086 356.304 Q88.9086 352.994 90.8067 350.702 Q92.7049 348.41 96.0845 347.623 M94.3715 340.239 Q94.3715 342.924 96.0382 344.429 Q97.728 345.934 100.76 345.934 Q103.77 345.934 105.459 344.429 Q107.172 342.924 107.172 340.239 Q107.172 337.554 105.459 336.049 Q103.77 334.545 100.76 334.545 Q97.728 334.545 96.0382 336.049 Q94.3715 337.554 94.3715 340.239 Z\" fill=\"#000000\" fill-rule=\"evenodd\" fill-opacity=\"1\" /><path clip-path=\"url(#clip440)\" d=\"M131.501 346.883 Q128.353 346.883 126.501 349.035 Q124.672 351.188 124.672 354.938 Q124.672 358.665 126.501 360.841 Q128.353 362.994 131.501 362.994 Q134.649 362.994 136.478 360.841 Q138.33 358.665 138.33 354.938 Q138.33 351.188 136.478 349.035 Q134.649 346.883 131.501 346.883 M140.783 332.23 L140.783 336.489 Q139.024 335.656 137.219 335.216 Q135.436 334.776 133.677 334.776 Q129.047 334.776 126.594 337.901 Q124.163 341.026 123.816 347.346 Q125.182 345.332 127.242 344.267 Q129.302 343.179 131.779 343.179 Q136.987 343.179 139.996 346.35 Q143.029 349.498 143.029 354.938 Q143.029 360.262 139.881 363.48 Q136.732 366.697 131.501 366.697 Q125.506 366.697 122.334 362.114 Q119.163 357.508 119.163 348.781 Q119.163 340.586 123.052 335.725 Q126.941 330.841 133.492 330.841 Q135.251 330.841 137.033 331.188 Q138.839 331.535 140.783 332.23 Z\" fill=\"#000000\" fill-rule=\"evenodd\" fill-opacity=\"1\" /><path clip-path=\"url(#clip440)\" d=\"M151.13 331.466 L169.487 331.466 L169.487 335.401 L155.413 335.401 L155.413 343.873 Q156.431 343.526 157.45 343.364 Q158.468 343.179 159.487 343.179 Q165.274 343.179 168.654 346.35 Q172.033 349.521 172.033 354.938 Q172.033 360.517 168.561 363.619 Q165.089 366.697 158.769 366.697 Q156.593 366.697 154.325 366.327 Q152.08 365.957 149.672 365.216 L149.672 360.517 Q151.755 361.651 153.978 362.207 Q156.2 362.762 158.677 362.762 Q162.681 362.762 165.019 360.656 Q167.357 358.549 167.357 354.938 Q167.357 351.327 165.019 349.221 Q162.681 347.114 158.677 347.114 Q156.802 347.114 154.927 347.531 Q153.075 347.947 151.13 348.827 L151.13 331.466 Z\" fill=\"#000000\" fill-rule=\"evenodd\" fill-opacity=\"1\" /><path clip-path=\"url(#clip440)\" d=\"M191.246 334.545 Q187.635 334.545 185.806 338.109 Q184.001 341.651 184.001 348.781 Q184.001 355.887 185.806 359.452 Q187.635 362.994 191.246 362.994 Q194.88 362.994 196.686 359.452 Q198.514 355.887 198.514 348.781 Q198.514 341.651 196.686 338.109 Q194.88 334.545 191.246 334.545 M191.246 330.841 Q197.056 330.841 200.112 335.447 Q203.19 340.031 203.19 348.781 Q203.19 357.508 200.112 362.114 Q197.056 366.697 191.246 366.697 Q185.436 366.697 182.357 362.114 Q179.302 357.508 179.302 348.781 Q179.302 340.031 182.357 335.447 Q185.436 330.841 191.246 330.841 Z\" fill=\"#000000\" fill-rule=\"evenodd\" fill-opacity=\"1\" /><path clip-path=\"url(#clip440)\" d=\"M51.9875 154.862 L81.6633 154.862 L81.6633 158.798 L51.9875 158.798 L51.9875 154.862 Z\" fill=\"#000000\" fill-rule=\"evenodd\" fill-opacity=\"1\" /><path clip-path=\"url(#clip440)\" d=\"M101.756 155.279 Q98.4224 155.279 96.5011 157.061 Q94.603 158.844 94.603 161.969 Q94.603 165.094 96.5011 166.876 Q98.4224 168.659 101.756 168.659 Q105.089 168.659 107.01 166.876 Q108.932 165.071 108.932 161.969 Q108.932 158.844 107.01 157.061 Q105.112 155.279 101.756 155.279 M97.0798 153.288 Q94.0706 152.548 92.3808 150.487 Q90.7141 148.427 90.7141 145.464 Q90.7141 141.321 93.6539 138.913 Q96.6169 136.506 101.756 136.506 Q106.918 136.506 109.858 138.913 Q112.797 141.321 112.797 145.464 Q112.797 148.427 111.108 150.487 Q109.441 152.548 106.455 153.288 Q109.834 154.075 111.709 156.367 Q113.608 158.659 113.608 161.969 Q113.608 166.992 110.529 169.677 Q107.473 172.362 101.756 172.362 Q96.0382 172.362 92.9595 169.677 Q89.904 166.992 89.904 161.969 Q89.904 158.659 91.8021 156.367 Q93.7002 154.075 97.0798 153.288 M95.3669 145.904 Q95.3669 148.589 97.0335 150.094 Q98.7234 151.599 101.756 151.599 Q104.765 151.599 106.455 150.094 Q108.168 148.589 108.168 145.904 Q108.168 143.219 106.455 141.714 Q104.765 140.21 101.756 140.21 Q98.7234 140.21 97.0335 141.714 Q95.3669 143.219 95.3669 145.904 Z\" fill=\"#000000\" fill-rule=\"evenodd\" fill-opacity=\"1\" /><path clip-path=\"url(#clip440)\" d=\"M132.496 152.548 Q129.348 152.548 127.496 154.7 Q125.668 156.853 125.668 160.603 Q125.668 164.33 127.496 166.506 Q129.348 168.659 132.496 168.659 Q135.644 168.659 137.473 166.506 Q139.325 164.33 139.325 160.603 Q139.325 156.853 137.473 154.7 Q135.644 152.548 132.496 152.548 M141.779 137.895 L141.779 142.154 Q140.019 141.321 138.214 140.881 Q136.431 140.441 134.672 140.441 Q130.043 140.441 127.589 143.566 Q125.158 146.691 124.811 153.011 Q126.177 150.997 128.237 149.932 Q130.297 148.844 132.774 148.844 Q137.982 148.844 140.992 152.015 Q144.024 155.163 144.024 160.603 Q144.024 165.927 140.876 169.145 Q137.728 172.362 132.496 172.362 Q126.501 172.362 123.33 167.779 Q120.158 163.173 120.158 154.446 Q120.158 146.251 124.047 141.39 Q127.936 136.506 134.487 136.506 Q136.246 136.506 138.029 136.853 Q139.834 137.2 141.779 137.895 Z\" fill=\"#000000\" fill-rule=\"evenodd\" fill-opacity=\"1\" /><path clip-path=\"url(#clip440)\" d=\"M156.107 167.756 L172.427 167.756 L172.427 171.691 L150.482 171.691 L150.482 167.756 Q153.144 165.001 157.728 160.372 Q162.334 155.719 163.515 154.376 Q165.76 151.853 166.64 150.117 Q167.542 148.358 167.542 146.668 Q167.542 143.913 165.598 142.177 Q163.677 140.441 160.575 140.441 Q158.376 140.441 155.922 141.205 Q153.492 141.969 150.714 143.52 L150.714 138.798 Q153.538 137.663 155.992 137.085 Q158.445 136.506 160.482 136.506 Q165.853 136.506 169.047 139.191 Q172.241 141.876 172.241 146.367 Q172.241 148.497 171.431 150.418 Q170.644 152.316 168.538 154.909 Q167.959 155.58 164.857 158.798 Q161.755 161.992 156.107 167.756 Z\" fill=\"#000000\" fill-rule=\"evenodd\" fill-opacity=\"1\" /><path clip-path=\"url(#clip440)\" d=\"M182.288 137.131 L200.644 137.131 L200.644 141.066 L186.57 141.066 L186.57 149.538 Q187.589 149.191 188.607 149.029 Q189.626 148.844 190.644 148.844 Q196.431 148.844 199.811 152.015 Q203.19 155.186 203.19 160.603 Q203.19 166.182 199.718 169.284 Q196.246 172.362 189.927 172.362 Q187.751 172.362 185.482 171.992 Q183.237 171.622 180.829 170.881 L180.829 166.182 Q182.913 167.316 185.135 167.872 Q187.357 168.427 189.834 168.427 Q193.839 168.427 196.177 166.321 Q198.514 164.214 198.514 160.603 Q198.514 156.992 196.177 154.886 Q193.839 152.779 189.834 152.779 Q187.959 152.779 186.084 153.196 Q184.232 153.612 182.288 154.492 L182.288 137.131 Z\" fill=\"#000000\" fill-rule=\"evenodd\" fill-opacity=\"1\" /><polyline clip-path=\"url(#clip442)\" style=\"stroke:#009af9; stroke-linecap:round; stroke-linejoin:round; stroke-width:4; stroke-opacity:1; fill:none\" points=\"299.008,87.9763 305.014,224.086 311.02,365.805 317.026,491.448 323.032,601.961 329.037,698.388 335.043,781.903 341.049,853.838 347.055,915.484 353.061,968.467 359.066,1014.26 365.072,1054.07 371.078,1089.08 377.084,1120.41 383.09,1148.57 389.095,1174.6 395.101,1198.7 401.107,1220.63 407.113,1240.55 413.119,1258.57 419.125,1274.57 425.13,1288.54 431.136,1300.64 437.142,1311.06 443.148,1320.15 449.154,1328.17 455.159,1335.27 461.165,1341.38 467.171,1346.33 473.177,1350.18 479.183,1352.99 485.188,1354.88 491.194,1355.96 497.2,1356.6 503.206,1356.77 509.212,1356.65 515.218,1356.52 521.223,1356.56 527.229,1356.86 533.235,1357.61 539.241,1359.04 545.247,1361.11 551.252,1363.51 557.258,1366.28 563.264,1369.61 569.27,1373.33 575.276,1377.25 581.281,1381.44 587.287,1385.94 593.293,1390.43 599.299,1394.79 605.305,1398.82 611.311,1402.19 617.316,1404.82 623.322,1406.88 629.328,1408.53 635.334,1409.8 641.34,1410.7 647.345,1411.28 653.351,1411.68 659.357,1411.67 665.363,1411.39 671.369,1411.09 677.374,1411.08 683.38,1411.36 689.386,1412.01 695.392,1413.01 701.398,1414.17 707.404,1415.53 713.409,1417.32 719.415,1419.57 725.421,1422.04 731.427,1424.42 737.433,1426.5 743.438,1428.3 749.444,1429.77 755.45,1430.88 761.456,1431.64 767.462,1432.07 773.467,1432.2 779.473,1432.09 785.479,1431.79 791.485,1431.3 797.491,1430.57 803.497,1429.84 809.502,1429.24 815.508,1428.84 821.514,1428.57 827.52,1428.58 833.526,1428.87 839.531,1429.44 845.537,1430.25 851.543,1431.18 857.549,1432.21 863.555,1433.32 869.56,1434.43 875.566,1435.65 881.572,1436.87 887.578,1438.05 893.584,1439.15 899.59,1440.12 905.595,1440.81 911.601,1441.16 917.607,1441.23 923.613,1441.08 929.619,1440.7 935.624,1440.16 941.63,1439.61 947.636,1439.06 953.642,1438.53 959.648,1438.15 965.653,1437.93 971.659,1437.84 977.665,1437.87 983.671,1438.12 989.677,1438.76 995.683,1439.55 1001.69,1440.51 1007.69,1441.42 1013.7,1442.31 1019.71,1443.14 1025.71,1443.87 1031.72,1444.39 1037.72,1444.64 1043.73,1444.7 1049.73,1444.58 1055.74,1444.32 1061.75,1443.89 1067.75,1443.23 1073.76,1442.46 1079.76,1441.63 1085.77,1440.92 1091.78,1440.35 1097.78,1440.03 1103.79,1439.92 1109.79,1439.88 1115.8,1439.99 1121.8,1440.37 1127.81,1440.83 1133.82,1441.41 1139.82,1442.16 1145.83,1443.06 1151.83,1444.08 1157.84,1444.87 1163.85,1445.35 1169.85,1445.47 1175.86,1445.24 1181.86,1444.71 1187.87,1443.89 1193.87,1442.92 1199.88,1441.83 1205.89,1440.56 1211.89,1439.28 1217.9,1438.05 1223.9,1436.85 1229.91,1435.75 1235.92,1434.82 1241.92,1434.33 1247.93,1434.32 1253.93,1434.91 1259.94,1436.06 1265.94,1437.61 1271.95,1439.2 1277.96,1440.78 1283.96,1442.24 1289.97,1443.56 1295.97,1444.55 1301.98,1445.14 1307.98,1445.32 1313.99,1445.25 1320,1444.8 1326,1443.92 1332.01,1442.61 1338.01,1440.94 1344.02,1439.19 1350.03,1437.63 1356.03,1436.31 1362.04,1435.4 1368.04,1435.19 1374.05,1435.35 1380.05,1435.92 1386.06,1436.66 1392.07,1437.3 1398.07,1437.84 1404.08,1438.63 1410.08,1439.74 1416.09,1441.15 1422.1,1442.66 1428.1,1444.03 1434.11,1445.03 1440.11,1445.59 1446.12,1445.72 1452.12,1445.43 1458.13,1444.86 1464.14,1443.95 1470.14,1442.92 1476.15,1441.74 1482.15,1440.34 1488.16,1438.8 1494.16,1437.12 1500.17,1435.41 1506.18,1433.87 1512.18,1432.63 1518.19,1432.08 1524.19,1432.19 1530.2,1433.22 1536.21,1434.77 1542.21,1436.49 1548.22,1438.13 1554.22,1439.39 1560.23,1440.33 1566.23,1440.67 1572.24,1440.7 1578.25,1440.31 1584.25,1439.7 1590.26,1438.98 1596.26,1437.95 1602.27,1436.68 1608.28,1435.07 1614.28,1433.31 1620.29,1431.46 1626.29,1429.57 1632.3,1427.84 1638.3,1426.46 1644.31,1425.76 1650.32,1425.61 1656.32,1426.14 1662.33,1427.46 1668.33,1429.11 1674.34,1430.6 1680.35,1431.84 1686.35,1432.52 1692.36,1432.56 1698.36,1432.14 1704.37,1431.41 1710.37,1430.38 1716.38,1428.87 1722.39,1427.05 1728.39,1424.82 1734.4,1422.02 1740.4,1419.01 1746.41,1415.99 1752.41,1413.56 1758.42,1412.05 1764.43,1411.58 1770.43,1411.91 1776.44,1412.84 1782.44,1413.73 1788.45,1414.47 1794.46,1415.1 1800.46,1415.55 1806.47,1415.89 1812.47,1416.36 1818.48,1416.84 1824.48,1417.21 1830.49,1417.68 1836.5,1417.9 1842.5,1417.69 1848.51,1417.02 1854.51,1415.74 1860.52,1413.96 1866.53,1411.96 1872.53,1409.9 1878.54,1408 1884.54,1406.3 1890.55,1404.74 1896.55,1403.66 1902.56,1402.82 1908.57,1402.41 1914.57,1402.41 1920.58,1403.17 1926.58,1404.34 1932.59,1405.71 1938.6,1406.8 1944.6,1407.61 1950.61,1407.9 1956.61,1407.96 1962.62,1407.57 1968.62,1407.02 1974.63,1406.32 1980.64,1405.46 1986.64,1404.52 1992.65,1403.28 1998.65,1401.78 2004.66,1400.08 2010.66,1398.45 2016.67,1397.12 2022.68,1396.23 2028.68,1395.82 2034.69,1395.91 2040.69,1396.39 2046.7,1397.26 2052.71,1398.17 2058.71,1399.08 2064.72,1399.98 2070.72,1400.73 2076.73,1401.52 2082.73,1402.08 2088.74,1402.39 2094.75,1402.25 2100.75,1401.57 2106.76,1400.29 2112.76,1398.3 2118.77,1395.77 2124.78,1392.91 2130.78,1389.92 2136.79,1387.26 2142.79,1384.84 2148.8,1383.15 2154.8,1382.23 2160.81,1381.94 2166.82,1382.43 2172.82,1383.77 2178.83,1385.94 2184.83,1388.61 2190.84,1391.34 2196.85,1393.87 2202.85,1395.98 2208.86,1397.63 2214.86,1398.65 2220.87,1399.01 2226.87,1398.78 2232.88,1397.97 2238.89,1396.74 2244.89,1395.25 2250.9,1393.62 2256.9,1391.89 2262.91,1390.1 2268.91,1388.19 2274.92,1386.35 2280.93,1384.6 2286.93,1383.08 2292.94,1382.15 \"/>\n",
       "<path clip-path=\"url(#clip440)\" d=\"M1898.93 198.898 L2282.3 198.898 L2282.3 95.2176 L1898.93 95.2176  Z\" fill=\"#ffffff\" fill-rule=\"evenodd\" fill-opacity=\"1\"/>\n",
       "<polyline clip-path=\"url(#clip440)\" style=\"stroke:#000000; stroke-linecap:round; stroke-linejoin:round; stroke-width:4; stroke-opacity:1; fill:none\" points=\"1898.93,198.898 2282.3,198.898 2282.3,95.2176 1898.93,95.2176 1898.93,198.898 \"/>\n",
       "<polyline clip-path=\"url(#clip440)\" style=\"stroke:#009af9; stroke-linecap:round; stroke-linejoin:round; stroke-width:4; stroke-opacity:1; fill:none\" points=\"1922.42,147.058 2063.32,147.058 \"/>\n",
       "<path clip-path=\"url(#clip440)\" d=\"M2086.81 129.778 L2091.48 129.778 L2091.48 160.402 L2108.31 160.402 L2108.31 164.338 L2086.81 164.338 L2086.81 129.778 Z\" fill=\"#000000\" fill-rule=\"evenodd\" fill-opacity=\"1\" /><path clip-path=\"url(#clip440)\" d=\"M2122.25 141.398 Q2118.82 141.398 2116.83 144.083 Q2114.84 146.745 2114.84 151.398 Q2114.84 156.051 2116.81 158.736 Q2118.8 161.398 2122.25 161.398 Q2125.65 161.398 2127.64 158.713 Q2129.63 156.027 2129.63 151.398 Q2129.63 146.791 2127.64 144.106 Q2125.65 141.398 2122.25 141.398 M2122.25 137.787 Q2127.8 137.787 2130.97 141.398 Q2134.14 145.009 2134.14 151.398 Q2134.14 157.764 2130.97 161.398 Q2127.8 165.009 2122.25 165.009 Q2116.67 165.009 2113.5 161.398 Q2110.35 157.764 2110.35 151.398 Q2110.35 145.009 2113.5 141.398 Q2116.67 137.787 2122.25 137.787 Z\" fill=\"#000000\" fill-rule=\"evenodd\" fill-opacity=\"1\" /><path clip-path=\"url(#clip440)\" d=\"M2158.26 151.074 Q2158.26 146.444 2156.34 143.898 Q2154.45 141.352 2151 141.352 Q2147.57 141.352 2145.65 143.898 Q2143.75 146.444 2143.75 151.074 Q2143.75 155.68 2145.65 158.226 Q2147.57 160.773 2151 160.773 Q2154.45 160.773 2156.34 158.226 Q2158.26 155.68 2158.26 151.074 M2162.52 161.12 Q2162.52 167.74 2159.58 170.958 Q2156.64 174.199 2150.58 174.199 Q2148.33 174.199 2146.34 173.851 Q2144.35 173.527 2142.48 172.833 L2142.48 168.689 Q2144.35 169.708 2146.18 170.194 Q2148.01 170.68 2149.91 170.68 Q2154.1 170.68 2156.18 168.481 Q2158.26 166.305 2158.26 161.884 L2158.26 159.777 Q2156.95 162.069 2154.89 163.203 Q2152.82 164.338 2149.95 164.338 Q2145.19 164.338 2142.27 160.703 Q2139.35 157.069 2139.35 151.074 Q2139.35 145.055 2142.27 141.421 Q2145.19 137.787 2149.95 137.787 Q2152.82 137.787 2154.89 138.921 Q2156.95 140.055 2158.26 142.347 L2158.26 138.412 L2162.52 138.412 L2162.52 161.12 Z\" fill=\"#000000\" fill-rule=\"evenodd\" fill-opacity=\"1\" /><path clip-path=\"url(#clip440)\" d=\"M2171.48 129.778 L2176.16 129.778 L2176.16 160.402 L2192.99 160.402 L2192.99 164.338 L2171.48 164.338 L2171.48 129.778 Z\" fill=\"#000000\" fill-rule=\"evenodd\" fill-opacity=\"1\" /><path clip-path=\"url(#clip440)\" d=\"M2197.71 138.412 L2201.97 138.412 L2201.97 164.338 L2197.71 164.338 L2197.71 138.412 M2197.71 128.319 L2201.97 128.319 L2201.97 133.713 L2197.71 133.713 L2197.71 128.319 Z\" fill=\"#000000\" fill-rule=\"evenodd\" fill-opacity=\"1\" /><path clip-path=\"url(#clip440)\" d=\"M2210.72 128.319 L2215 128.319 L2215 149.592 L2227.71 138.412 L2233.15 138.412 L2219.4 150.541 L2233.73 164.338 L2228.17 164.338 L2215 151.676 L2215 164.338 L2210.72 164.338 L2210.72 128.319 Z\" fill=\"#000000\" fill-rule=\"evenodd\" fill-opacity=\"1\" /><path clip-path=\"url(#clip440)\" d=\"M2258.82 150.31 L2258.82 152.393 L2239.24 152.393 Q2239.51 156.791 2241.88 159.106 Q2244.26 161.398 2248.5 161.398 Q2250.95 161.398 2253.24 160.796 Q2255.56 160.194 2257.82 158.99 L2257.82 163.018 Q2255.53 163.99 2253.13 164.5 Q2250.72 165.009 2248.24 165.009 Q2242.04 165.009 2238.4 161.398 Q2234.79 157.787 2234.79 151.629 Q2234.79 145.264 2238.22 141.537 Q2241.67 137.787 2247.5 137.787 Q2252.73 137.787 2255.76 141.166 Q2258.82 144.523 2258.82 150.31 M2254.56 149.06 Q2254.51 145.565 2252.59 143.481 Q2250.69 141.398 2247.55 141.398 Q2243.98 141.398 2241.83 143.412 Q2239.7 145.426 2239.38 149.083 L2254.56 149.06 Z\" fill=\"#000000\" fill-rule=\"evenodd\" fill-opacity=\"1\" /></svg>\n"
      ]
     },
     "execution_count": 32,
     "metadata": {},
     "output_type": "execute_result"
    }
   ],
   "source": [
    "l = [-sample[end] for sample in samples]\n",
    "plot(l, label=\"LogLike\")"
   ]
  },
  {
   "cell_type": "markdown",
   "id": "4aadd3b5",
   "metadata": {},
   "source": [
    "## NUTS"
   ]
  },
  {
   "cell_type": "code",
   "execution_count": 39,
   "id": "c0e3f4f8",
   "metadata": {},
   "outputs": [
    {
     "name": "stderr",
     "output_type": "stream",
     "text": [
      "\u001b[33m\u001b[1m┌ \u001b[22m\u001b[39m\u001b[33m\u001b[1mWarning: \u001b[22m\u001b[39mThe current proposal will be rejected due to numerical error(s).\n",
      "\u001b[33m\u001b[1m│ \u001b[22m\u001b[39m  isfinite.((θ, r, ℓπ, ℓκ)) = (true, false, false, false)\n",
      "\u001b[33m\u001b[1m└ \u001b[22m\u001b[39m\u001b[90m@ AdvancedHMC ~/.julia/packages/AdvancedHMC/4fByY/src/hamiltonian.jl:49\u001b[39m\n",
      "\u001b[36m\u001b[1m┌ \u001b[22m\u001b[39m\u001b[36m\u001b[1mInfo: \u001b[22m\u001b[39mFound initial step size\n",
      "\u001b[36m\u001b[1m└ \u001b[22m\u001b[39m  ϵ = 0.0125\n",
      "\u001b[32mSampling:   4%|█▍                                       |  ETA: 0:02:26\u001b[39m\u001b[33m\u001b[1m┌ \u001b[22m\u001b[39m\u001b[33m\u001b[1mWarning: \u001b[22m\u001b[39mThe current proposal will be rejected due to numerical error(s).\n",
      "\u001b[33m\u001b[1m│ \u001b[22m\u001b[39m  isfinite.((θ, r, ℓπ, ℓκ)) = (true, false, false, false)\n",
      "\u001b[33m\u001b[1m└ \u001b[22m\u001b[39m\u001b[90m@ AdvancedHMC ~/.julia/packages/AdvancedHMC/4fByY/src/hamiltonian.jl:49\u001b[39m\n",
      "\u001b[32mSampling: 100%|█████████████████████████████████████████| Time: 1:14:57\u001b[39m\n"
     ]
    },
    {
     "data": {
      "text/plain": [
       "Chains MCMC chain (300×25×1 Array{Float64, 3}):\n",
       "\n",
       "Iterations        = 101:1:400\n",
       "Number of chains  = 1\n",
       "Samples per chain = 300\n",
       "Wall duration     = 4502.67 seconds\n",
       "Compute duration  = 4502.67 seconds\n",
       "parameters        = Ωm, Ωb, h, s8, ns, DECALS__0_b, DECALS__1_b, DECALS__2_b, DECALS__3_b, DECALS__0_dz, DECALS__1_dz, DECALS__2_dz, DECALS__3_dz\n",
       "internals         = lp, n_steps, is_accept, acceptance_rate, log_density, hamiltonian_energy, hamiltonian_energy_error, max_hamiltonian_energy_error, tree_depth, numerical_error, step_size, nom_step_size\n",
       "\n",
       "Summary Statistics\n",
       " \u001b[1m   parameters \u001b[0m \u001b[1m    mean \u001b[0m \u001b[1m     std \u001b[0m \u001b[1m naive_se \u001b[0m \u001b[1m    mcse \u001b[0m \u001b[1m      ess \u001b[0m \u001b[1m    rhat \u001b[0m \u001b[1m\u001b[0m ⋯\n",
       " \u001b[90m       Symbol \u001b[0m \u001b[90m Float64 \u001b[0m \u001b[90m Float64 \u001b[0m \u001b[90m  Float64 \u001b[0m \u001b[90m Float64 \u001b[0m \u001b[90m  Float64 \u001b[0m \u001b[90m Float64 \u001b[0m \u001b[90m\u001b[0m ⋯\n",
       "\n",
       "            Ωm    0.2811    0.0226     0.0013    0.0024    98.0312    1.0213   ⋯\n",
       "            Ωb    0.0402    0.0069     0.0004    0.0005   144.1265    1.0020   ⋯\n",
       "             h    0.7376    0.0470     0.0027    0.0050   105.2713    1.0019   ⋯\n",
       "            s8    0.9177    0.0566     0.0033    0.0052   161.4809    1.0047   ⋯\n",
       "            ns    0.9813    0.0675     0.0039    0.0086    74.6362    1.0002   ⋯\n",
       "   DECALS__0_b    0.9955    0.0822     0.0047    0.0081   145.6579    1.0046   ⋯\n",
       "   DECALS__1_b    1.2216    0.0974     0.0056    0.0095   150.8289    1.0024   ⋯\n",
       "   DECALS__2_b    1.1832    0.0913     0.0053    0.0088   150.1800    1.0009   ⋯\n",
       "   DECALS__3_b    1.5860    0.1219     0.0070    0.0118   149.1111    1.0004   ⋯\n",
       "  DECALS__0_dz    0.0007    0.0060     0.0003    0.0003   408.0163    1.0029   ⋯\n",
       "  DECALS__1_dz    0.0010    0.0063     0.0004    0.0004   268.3386    0.9999   ⋯\n",
       "  DECALS__2_dz    0.0020    0.0057     0.0003    0.0003   207.4485    0.9967   ⋯\n",
       "  DECALS__3_dz   -0.0058    0.0101     0.0006    0.0006   211.0313    0.9996   ⋯\n",
       "\u001b[36m                                                                1 column omitted\u001b[0m\n",
       "\n",
       "Quantiles\n",
       " \u001b[1m   parameters \u001b[0m \u001b[1m    2.5% \u001b[0m \u001b[1m   25.0% \u001b[0m \u001b[1m   50.0% \u001b[0m \u001b[1m   75.0% \u001b[0m \u001b[1m   97.5% \u001b[0m\n",
       " \u001b[90m       Symbol \u001b[0m \u001b[90m Float64 \u001b[0m \u001b[90m Float64 \u001b[0m \u001b[90m Float64 \u001b[0m \u001b[90m Float64 \u001b[0m \u001b[90m Float64 \u001b[0m\n",
       "\n",
       "            Ωm    0.2428    0.2626    0.2803    0.2967    0.3282\n",
       "            Ωb    0.0296    0.0348    0.0398    0.0446    0.0567\n",
       "             h    0.6519    0.7011    0.7428    0.7751    0.8136\n",
       "            s8    0.8036    0.8766    0.9213    0.9567    1.0197\n",
       "            ns    0.8462    0.9315    0.9861    1.0379    1.0820\n",
       "   DECALS__0_b    0.8515    0.9422    0.9853    1.0478    1.1688\n",
       "   DECALS__1_b    1.0480    1.1587    1.2095    1.2888    1.4413\n",
       "   DECALS__2_b    1.0182    1.1260    1.1736    1.2524    1.3911\n",
       "   DECALS__3_b    1.3742    1.5051    1.5731    1.6748    1.8620\n",
       "  DECALS__0_dz   -0.0109   -0.0032    0.0008    0.0049    0.0114\n",
       "  DECALS__1_dz   -0.0122   -0.0029    0.0011    0.0052    0.0131\n",
       "  DECALS__2_dz   -0.0089   -0.0019    0.0018    0.0065    0.0125\n",
       "  DECALS__3_dz   -0.0261   -0.0123   -0.0057    0.0013    0.0128\n"
      ]
     },
     "execution_count": 39,
     "metadata": {},
     "output_type": "execute_result"
    }
   ],
   "source": [
    "samples_hmc = sample(stat_model, NUTS(100, 0.65),\n",
    "                     300, progress=true; save_state=true)"
   ]
  },
  {
   "cell_type": "code",
   "execution_count": 15,
   "id": "504032e4",
   "metadata": {},
   "outputs": [
    {
     "data": {
      "text/plain": [
       "25-element Vector{Float64}:\n",
       "  107.13649180104869\n",
       "  331.4835789816811\n",
       "  207.484061400768\n",
       "  111.64048654758332\n",
       "  600.4013034569028\n",
       "  114.39496059843647\n",
       "  117.33719647252566\n",
       "  114.56966849849671\n",
       "  111.15547545924896\n",
       "  105.06968640469209\n",
       "  961.3377488207435\n",
       "  700.0507524844818\n",
       "  837.2166448905194\n",
       "  682.3676139298411\n",
       "  566.0490257440192\n",
       "  837.5008331222044\n",
       "  733.9973963424983\n",
       "  549.1048795030388\n",
       "  792.5424251430129\n",
       " 1009.6818545217956\n",
       "  763.2299996132994\n",
       "  872.0250289709837\n",
       "  763.7811879280131\n",
       "  552.5319549420313\n",
       "  731.942598764305"
      ]
     },
     "execution_count": 15,
     "metadata": {},
     "output_type": "execute_result"
    }
   ],
   "source": [
    "summary_hmc.ess"
   ]
  },
  {
   "cell_type": "code",
   "execution_count": 16,
   "id": "fa9db828",
   "metadata": {},
   "outputs": [],
   "source": [
    "Wms_hmc = vec(samples_hmc[!, \"Ωm\"])\n",
    "s8s_hmc = vec(samples_hmc[!, \"s8\"]);"
   ]
  },
  {
   "cell_type": "code",
   "execution_count": 17,
   "id": "36f24ece",
   "metadata": {},
   "outputs": [
    {
     "ename": "LoadError",
     "evalue": "UndefVarError: `Wms_mchmc` not defined",
     "output_type": "error",
     "traceback": [
      "UndefVarError: `Wms_mchmc` not defined",
      "",
      "Stacktrace:",
      " [1] top-level scope",
      "   @ In[17]:3"
     ]
    }
   ],
   "source": [
    "Wm_hmc_ker = ash(Wms_hmc; m=30)\n",
    "s8_hmc_ker = ash(s8s_hmc; m=30)\n",
    "Wm_mchmc_ker = ash(Wms_mchmc; m=30)\n",
    "s8_mchmc_ker = ash(s8s_mchmc; m=30);"
   ]
  },
  {
   "cell_type": "code",
   "execution_count": 18,
   "id": "d9be1fbf",
   "metadata": {},
   "outputs": [
    {
     "ename": "LoadError",
     "evalue": "UndefVarError: `Wm_mchmc_ker` not defined",
     "output_type": "error",
     "traceback": [
      "UndefVarError: `Wm_mchmc_ker` not defined",
      "",
      "Stacktrace:",
      " [1] top-level scope",
      "   @ In[18]:1"
     ]
    }
   ],
   "source": [
    "Plots.plot(Wm_mchmc_ker; hist=false, label=\"MCHMC\")\n",
    "Plots.plot!(Wm_hmc_ker; hist=false, label=\"HMC\", xlabel=\"Wm\")"
   ]
  },
  {
   "cell_type": "code",
   "execution_count": 19,
   "id": "0059664f",
   "metadata": {},
   "outputs": [
    {
     "ename": "LoadError",
     "evalue": "UndefVarError: `s8_mchmc_ker` not defined",
     "output_type": "error",
     "traceback": [
      "UndefVarError: `s8_mchmc_ker` not defined",
      "",
      "Stacktrace:",
      " [1] top-level scope",
      "   @ In[19]:1"
     ]
    }
   ],
   "source": [
    "Plots.plot(s8_mchmc_ker; hist=false, label=\"MCHMC\")\n",
    "Plots.plot!(s8_hmc_ker; hist=false, label=\"HMC\",  xlabel=\"s8\")"
   ]
  },
  {
   "cell_type": "markdown",
   "id": "4e1d16c5",
   "metadata": {},
   "source": [
    "## Self-tuning"
   ]
  },
  {
   "cell_type": "code",
   "execution_count": 20,
   "id": "6a20faef",
   "metadata": {},
   "outputs": [
    {
     "ename": "LoadError",
     "evalue": "UndefVarError: `Sampler` not defined",
     "output_type": "error",
     "traceback": [
      "UndefVarError: `Sampler` not defined",
      "",
      "Stacktrace:",
      " [1] top-level scope",
      "   @ In[20]:1"
     ]
    }
   ],
   "source": [
    "mchmc = Sampler()\n",
    "println(string(\"L = \", mchmc.settings.L, \", eps = \", mchmc.settings.eps))\n",
    "# This should start self-tuning    "
   ]
  },
  {
   "cell_type": "code",
   "execution_count": 21,
   "id": "17d896dd",
   "metadata": {},
   "outputs": [
    {
     "ename": "LoadError",
     "evalue": "UndefVarError: `mchmc` not defined",
     "output_type": "error",
     "traceback": [
      "UndefVarError: `mchmc` not defined",
      "",
      "Stacktrace:",
      " [1] top-level scope",
      "   @ In[21]:1"
     ]
    }
   ],
   "source": [
    "mchmc.settings.tune_samples"
   ]
  },
  {
   "cell_type": "code",
   "execution_count": 22,
   "id": "c1d2ef02",
   "metadata": {},
   "outputs": [
    {
     "ename": "LoadError",
     "evalue": "UndefVarError: `Sample` not defined",
     "output_type": "error",
     "traceback": [
      "UndefVarError: `Sample` not defined",
      "",
      "Stacktrace:",
      " [1] top-level scope",
      "   @ In[22]:1"
     ]
    }
   ],
   "source": [
    "samples = Sample(mchmc, target; num_steps=10000, dialog=true);"
   ]
  },
  {
   "cell_type": "code",
   "execution_count": null,
   "id": "f2e7d5c1",
   "metadata": {},
   "outputs": [],
   "source": []
  }
 ],
 "metadata": {
  "kernelspec": {
   "display_name": "Julia 1.9.0-rc1",
   "language": "julia",
   "name": "julia-1.9"
  },
  "language_info": {
   "file_extension": ".jl",
   "mimetype": "application/julia",
   "name": "julia",
   "version": "1.9.0"
  }
 },
 "nbformat": 4,
 "nbformat_minor": 5
}
