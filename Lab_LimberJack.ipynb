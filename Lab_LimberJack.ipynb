{
 "cells": [
  {
   "cell_type": "markdown",
   "id": "91129cb1",
   "metadata": {},
   "source": [
    "# LimberJack Target Practice"
   ]
  },
  {
   "cell_type": "markdown",
   "id": "97121235",
   "metadata": {},
   "source": [
    "## Model"
   ]
  },
  {
   "cell_type": "code",
   "execution_count": 1,
   "id": "baed58e3",
   "metadata": {},
   "outputs": [
    {
     "ename": "LoadError",
     "evalue": "expected a single entry for \"LaTeXStrings\" in \"/home/jaimerz/PhD/MCHMC.jl/Project.toml\"",
     "output_type": "error",
     "traceback": [
      "expected a single entry for \"LaTeXStrings\" in \"/home/jaimerz/PhD/MCHMC.jl/Project.toml\"",
      "",
      "Stacktrace:",
      "  [1] error(s::String)",
      "    @ Base ./error.jl:35",
      "  [2] explicit_manifest_deps_get(project_file::String, where::Base.PkgId, name::String)",
      "    @ Base ./loading.jl:836",
      "  [3] manifest_deps_get(env::String, where::Base.PkgId, name::String)",
      "    @ Base ./loading.jl:617",
      "  [4] identify_package_env(where::Base.PkgId, name::String)",
      "    @ Base ./loading.jl:329",
      "  [5] identify_package",
      "    @ ./loading.jl:390 [inlined]",
      "  [6] stale_cachefile(modkey::Base.PkgId, build_id::UInt128, modpath::String, cachefile::String; ignore_loaded::Bool)",
      "    @ Base ./loading.jl:2719",
      "  [7] stale_cachefile",
      "    @ ./loading.jl:2612 [inlined]",
      "  [8] _require_search_from_serialized(pkg::Base.PkgId, sourcepath::String, build_id::UInt128)",
      "    @ Base ./loading.jl:1372",
      "  [9] _require(pkg::Base.PkgId, env::String)",
      "    @ Base ./loading.jl:1690",
      " [10] _require_prelocked(uuidkey::Base.PkgId, env::String)",
      "    @ Base ./loading.jl:1567",
      " [11] macro expansion",
      "    @ ./loading.jl:1555 [inlined]",
      " [12] macro expansion",
      "    @ ./lock.jl:267 [inlined]",
      " [13] require(into::Module, mod::Symbol)",
      "    @ Base ./loading.jl:1518"
     ]
    }
   ],
   "source": [
    "using LinearAlgebra\n",
    "using Turing\n",
    "using AdvancedHMC\n",
    "using LimberJack\n",
    "using DataFrames\n",
    "using CSV\n",
    "using YAML\n",
    "using NPZ\n",
    "using PythonCall\n",
    "sacc = pyimport(\"sacc\");\n",
    "\n",
    "using Revise\n",
    "using MCHMC"
   ]
  },
  {
   "cell_type": "code",
   "execution_count": 2,
   "id": "03da8107",
   "metadata": {},
   "outputs": [
    {
     "name": "stdout",
     "output_type": "stream",
     "text": [
      "DESgc__0 DESgc__0 5\n",
      "DESgc__1 DESgc__1 8\n",
      "DESgc__2 DESgc__2 10\n",
      "DESgc__3 DESgc__3 11\n",
      "DESgc__4 DESgc__4 13\n",
      "DESgc__0 DESwl__0 5\n",
      "DESgc__0 DESwl__1 5\n",
      "DESgc__0 DESwl__2 5\n",
      "DESgc__0 DESwl__3 5\n",
      "DESgc__1 DESwl__0 8\n",
      "DESgc__1 DESwl__1 8\n",
      "DESgc__1 DESwl__2 8\n",
      "DESgc__1 DESwl__3 8\n",
      "DESgc__2 DESwl__0 10\n",
      "DESgc__2 DESwl__1 10\n",
      "DESgc__2 DESwl__2 10\n",
      "DESgc__2 DESwl__3 10\n",
      "DESgc__3 DESwl__0 11\n",
      "DESgc__3 DESwl__1 11\n",
      "DESgc__3 DESwl__2 11\n",
      "DESgc__3 DESwl__3 11\n",
      "DESgc__4 DESwl__0 13\n",
      "DESgc__4 DESwl__1 13\n",
      "DESgc__4 DESwl__2 13\n",
      "DESgc__4 DESwl__3 13\n",
      "DESwl__0 DESwl__0 24\n",
      "DESwl__0 DESwl__1 24\n",
      "DESwl__0 DESwl__2 24\n",
      "DESwl__0 DESwl__3 24\n",
      "DESwl__1 DESwl__1 24\n",
      "DESwl__1 DESwl__2 24\n",
      "DESwl__1 DESwl__3 24\n",
      "DESwl__2 DESwl__2 24\n",
      "DESwl__2 DESwl__3 24\n",
      "DESwl__3 DESwl__3 24\n"
     ]
    }
   ],
   "source": [
    "sacc_path = \"/home/jaimerz/PhD/LimberJack.jl/data/FD/cls_FD_covG.fits\"\n",
    "yaml_path = \"/home/jaimerz/PhD/LimberJack.jl/data/DESY1/DESY1.yml\"\n",
    "sacc_file = sacc.Sacc().load_fits(sacc_path)\n",
    "yaml_file = YAML.load_file(yaml_path)\n",
    "meta, files = make_data(sacc_file, yaml_file)\n",
    "\n",
    "data_vector = meta.data\n",
    "cov_tot = meta.cov\n",
    "errs = sqrt.(diag(cov_tot))\n",
    "fake_data = data_vector ./ errs\n",
    "fake_cov = Hermitian(cov_tot ./ (errs * errs'));"
   ]
  },
  {
   "cell_type": "code",
   "execution_count": 3,
   "id": "a7d6f81c",
   "metadata": {},
   "outputs": [
    {
     "data": {
      "text/plain": [
       "model (generic function with 2 methods)"
      ]
     },
     "execution_count": 3,
     "metadata": {},
     "output_type": "execute_result"
    }
   ],
   "source": [
    "@model function model(data;\n",
    "                      cov=fake_cov,\n",
    "                      meta=meta, \n",
    "                      files=files)\n",
    "    #KiDS priors\n",
    "    Ωm ~ Uniform(0.2, 0.6)\n",
    "    Ωb ~ Uniform(0.028, 0.065)\n",
    "    h ~ TruncatedNormal(72, 5, 0.64, 0.82)\n",
    "    s8 ~ Uniform(0.4, 1.2)\n",
    "    ns ~ Uniform(0.84, 1.1)\n",
    "\n",
    "    DESgc__0_b ~ Uniform(0.8, 3.0)\n",
    "    DESgc__1_b ~ Uniform(0.8, 3.0)\n",
    "    DESgc__2_b ~ Uniform(0.8, 3.0)\n",
    "    DESgc__3_b ~ Uniform(0.8, 3.0)\n",
    "    DESgc__4_b ~ Uniform(0.8, 3.0)\n",
    "    DESgc__0_dz ~ TruncatedNormal(0.0, 0.007, -0.2, 0.2)\n",
    "    DESgc__1_dz ~ TruncatedNormal(0.0, 0.007, -0.2, 0.2)\n",
    "    DESgc__2_dz ~ TruncatedNormal(0.0, 0.006, -0.2, 0.2)\n",
    "    DESgc__3_dz ~ TruncatedNormal(0.0, 0.01, -0.2, 0.2)\n",
    "    DESgc__4_dz ~ TruncatedNormal(0.0, 0.01, -0.2, 0.2)\n",
    "    DESwl__0_dz ~ TruncatedNormal(-0.001, 0.016, -0.2, 0.2)\n",
    "    DESwl__1_dz ~ TruncatedNormal(-0.019, 0.013, -0.2, 0.2)\n",
    "    DESwl__2_dz ~ TruncatedNormal(0.009, 0.011, -0.2, 0.2)\n",
    "    DESwl__3_dz ~ TruncatedNormal(-0.018, 0.022, -0.2, 0.2)\n",
    "    DESwl__0_m ~ Normal(0.012, 0.023)\n",
    "    DESwl__1_m ~ Normal(0.012, 0.023)\n",
    "    DESwl__2_m ~ Normal(0.012, 0.023)\n",
    "    DESwl__3_m ~ Normal(0.012, 0.023)\n",
    "    A_IA ~ Uniform(-5, 5) \n",
    "    alpha_IA ~ Uniform(-5, 5)\n",
    "\n",
    "    nuisances = Dict(\"DESgc__0_b\" => DESgc__0_b,\n",
    "                     \"DESgc__1_b\" => DESgc__1_b,\n",
    "                     \"DESgc__2_b\" => DESgc__2_b,\n",
    "                     \"DESgc__3_b\" => DESgc__3_b,\n",
    "                     \"DESgc__4_b\" => DESgc__4_b,\n",
    "                     \"DESgc__0_dz\" => DESgc__0_dz,\n",
    "                     \"DESgc__1_dz\" => DESgc__1_dz,\n",
    "                     \"DESgc__2_dz\" => DESgc__2_dz,\n",
    "                     \"DESgc__3_dz\" => DESgc__3_dz,\n",
    "                     \"DESgc__4_dz\" => DESgc__4_dz,\n",
    "                     \"DESwl__0_dz\" => DESwl__0_dz,\n",
    "                     \"DESwl__1_dz\" => DESwl__1_dz,\n",
    "                     \"DESwl__2_dz\" => DESwl__2_dz,\n",
    "                     \"DESwl__3_dz\" => DESwl__3_dz,\n",
    "                     \"DESwl__0_m\" => DESwl__0_m,\n",
    "                     \"DESwl__1_m\" => DESwl__1_m,\n",
    "                     \"DESwl__2_m\" => DESwl__2_m,\n",
    "                     \"DESwl__3_m\" => DESwl__3_m,\n",
    "                     \"A_IA\" => A_IA,\n",
    "                     \"alpha_IA\" => alpha_IA,)\n",
    "\n",
    "    cosmology = Cosmology(Ωm, Ωb, h, ns, s8,\n",
    "                          tk_mode=\"EisHu\",\n",
    "                          Pk_mode=\"Halofit\")\n",
    "\n",
    "    theory = Theory(cosmology, meta, files; Nuisances=nuisances)\n",
    "    data ~ MvNormal(theory ./ errs, cov)\n",
    "end"
   ]
  },
  {
   "cell_type": "code",
   "execution_count": 4,
   "id": "1eebe796",
   "metadata": {},
   "outputs": [
    {
     "data": {
      "text/plain": [
       "DynamicPPL.Model{typeof(model), (:data, :cov, :meta, :files), (:cov, :meta, :files), (), Tuple{Vector{Float64}, Hermitian{Float64, Matrix{Float64}}, LimberJack.Meta, Dict{String, Vector}}, Tuple{Hermitian{Float64, Matrix{Float64}}, LimberJack.Meta, Dict{String, Vector}}, DynamicPPL.DefaultContext}(model, (data = [3.214096950162085, 4.70756721223778, 6.415689628953242, 5.828388701788672, 8.493679322382144, 2.9304058751712, 7.998464834088993, 5.1210836387672565, 8.932453735970117, 8.407292870179436  …  1.8338144344899103, 3.6747343455612156, 2.7292480563019765, 2.265947203686935, 3.1513497907284673, 2.887098863974196, 0.7659895057386662, 2.8855449419318098, 2.3446896354956963, 1.6352516474328562], cov = [1.0 -0.289532718133784 … -4.320136350638793e-5 -4.4205040697944595e-5; -0.289532718133784 0.9999999999999998 … -9.461726942265441e-5 -9.845166181745778e-5; … ; -4.320136350638793e-5 -9.461726942265441e-5 … 0.9999999999999998 0.0033632257724296594; -4.4205040697944595e-5 -9.845166181745778e-5 … 0.0033632257724296594 1.0000000000000002], meta = LimberJack.Meta([\"DESgc__0\", \"DESgc__1\", \"DESgc__2\", \"DESgc__3\", \"DESgc__4\", \"DESwl__0\", \"DESwl__1\", \"DESwl__2\", \"DESwl__3\"], Any[[\"DESgc__0\", \"DESgc__0\"], [\"DESgc__1\", \"DESgc__1\"], [\"DESgc__2\", \"DESgc__2\"], [\"DESgc__3\", \"DESgc__3\"], [\"DESgc__4\", \"DESgc__4\"], [\"DESgc__0\", \"DESwl__0\"], [\"DESgc__0\", \"DESwl__1\"], [\"DESgc__0\", \"DESwl__2\"], [\"DESgc__0\", \"DESwl__3\"], [\"DESgc__1\", \"DESwl__0\"]  …  [\"DESwl__0\", \"DESwl__0\"], [\"DESwl__0\", \"DESwl__1\"], [\"DESwl__0\", \"DESwl__2\"], [\"DESwl__0\", \"DESwl__3\"], [\"DESwl__1\", \"DESwl__1\"], [\"DESwl__1\", \"DESwl__2\"], [\"DESwl__1\", \"DESwl__3\"], [\"DESwl__2\", \"DESwl__2\"], [\"DESwl__2\", \"DESwl__3\"], [\"DESwl__3\", \"DESwl__3\"]], [\"galaxy_density\", \"galaxy_density\", \"galaxy_density\", \"galaxy_density\", \"galaxy_density\", \"galaxy_shear\", \"galaxy_shear\", \"galaxy_shear\", \"galaxy_shear\"], [0, 5, 13, 23, 34, 47, 52, 57, 62, 67  …  259, 283, 307, 331, 355, 379, 403, 427, 451, 475], [0.00019024248750512107, 7.391276663994371e-5, 4.261252890607883e-5, 2.22965965139283e-5, 2.176880112868429e-5, 8.240734039668606e-5, 8.421314587773898e-5, 2.6585137640401017e-5, 2.6033426315289483e-5, 1.6202481595102046e-5  …  4.737458899576856e-10, 8.27594560926968e-10, 5.318332277673948e-10, 3.860067333751191e-10, 4.674884118894536e-10, 3.737344096265107e-10, 8.676072775051082e-11, 2.8609099937088954e-10, 2.0381853638647756e-10, 1.2493271614464064e-10], [3.5034593789257314e-9 -2.690723799401261e-10 … -2.2228200843976036e-19 -1.9989959978497149e-19; -2.690723799401261e-10 2.465164237414273e-10 … -1.2913728598180671e-19 -1.180966469888284e-19; … ; -2.2228200843976036e-19 -1.2913728598180671e-19 … 7.556429413846178e-21 2.2336026899981313e-23; -1.9989959978497149e-19 -1.180966469888284e-19 … 2.2336026899981313e-23 5.8369123712821094e-21], [5.149519027142347e8 8.474936495291066e8 … 1.6283127622023125e10 2.0760851810037117e10; 8.474936495291066e8 1.0856331556151625e10 … 4.603481181751333e11 5.637447229505698e11; … ; 1.6283127622023125e10 4.603481181751333e11 … 1.327495858657925e20 -2.807171657130278e17; 2.0760851810037117e10 5.637447229505698e11 … -2.807171657130278e17 1.7190514305235314e20]), files = Dict{String, Vector}(\"ls_DESgc__1_DESgc__1\" => [14.500000000000005, 44.500000000000014, 74.50000000000001, 104.50000000000003, 134.50000000000003, 164.50000000000009, 194.50000000000006, 224.50000000000006], \"ls_DESwl__2_DESwl__3\" => [44.500000000000014, 74.50000000000001, 104.50000000000003, 134.50000000000003, 164.50000000000009, 194.50000000000006, 224.50000000000006, 255.5, 290.00000000000017, 329.4999999999998  …  621.000000000001, 704.9999999999993, 800.5000000000011, 909.0000000000018, 1031.9999999999986, 1172.0000000000016, 1330.9999999999977, 1511.4999999999961, 1716.5000000000077, 1948.999999999992], \"ls_DESgc__2_DESwl__1\" => [14.500000000000005, 44.500000000000014, 74.50000000000001, 104.50000000000003, 134.50000000000003, 164.50000000000009, 194.50000000000006, 224.50000000000006, 255.5, 290.00000000000017], \"ls_DESgc__3_DESwl__3\" => [14.500000000000005, 44.500000000000014, 74.50000000000001, 104.50000000000003, 134.50000000000003, 164.50000000000009, 194.50000000000006, 224.50000000000006, 255.5, 290.00000000000017, 329.4999999999998], \"ls_DESgc__3_DESwl__2\" => [14.500000000000005, 44.500000000000014, 74.50000000000001, 104.50000000000003, 134.50000000000003, 164.50000000000009, 194.50000000000006, 224.50000000000006, 255.5, 290.00000000000017, 329.4999999999998], \"nz_DESgc__0\" => [[0.0051, 0.015099999999999999, 0.0251, 0.035100000000000006, 0.0451, 0.0551, 0.0651, 0.07510000000000001, 0.0851, 0.0951  …  3.9051000000000005, 3.9151000000000002, 3.9251, 3.9351000000000003, 3.9451000000000005, 3.9551000000000003, 3.9651, 3.9751000000000003, 3.9851000000000005, 3.9951000000000003], [0.0, 0.0, 0.0, 0.0, 0.0, 0.0, 0.0, 0.0, 0.0, 0.0  …  0.0, 0.0, 0.0, 0.0, 0.0, 0.0, 0.0, 0.0, 0.0, 0.0]], \"ls_DESwl__3_DESwl__3\" => [44.500000000000014, 74.50000000000001, 104.50000000000003, 134.50000000000003, 164.50000000000009, 194.50000000000006, 224.50000000000006, 255.5, 290.00000000000017, 329.4999999999998  …  621.000000000001, 704.9999999999993, 800.5000000000011, 909.0000000000018, 1031.9999999999986, 1172.0000000000016, 1330.9999999999977, 1511.4999999999961, 1716.5000000000077, 1948.999999999992], \"ls_DESgc__2_DESwl__3\" => [14.500000000000005, 44.500000000000014, 74.50000000000001, 104.50000000000003, 134.50000000000003, 164.50000000000009, 194.50000000000006, 224.50000000000006, 255.5, 290.00000000000017], \"ls_DESgc__4_DESwl__2\" => [14.500000000000005, 44.500000000000014, 74.50000000000001, 104.50000000000003, 134.50000000000003, 164.50000000000009, 194.50000000000006, 224.50000000000006, 255.5, 290.00000000000017, 329.4999999999998, 373.9999999999998, 424.50000000000045], \"ls_DESwl__0_DESwl__2\" => [44.500000000000014, 74.50000000000001, 104.50000000000003, 134.50000000000003, 164.50000000000009, 194.50000000000006, 224.50000000000006, 255.5, 290.00000000000017, 329.4999999999998  …  621.000000000001, 704.9999999999993, 800.5000000000011, 909.0000000000018, 1031.9999999999986, 1172.0000000000016, 1330.9999999999977, 1511.4999999999961, 1716.5000000000077, 1948.999999999992]…)), (cov = [1.0 -0.289532718133784 … -4.320136350638793e-5 -4.4205040697944595e-5; -0.289532718133784 0.9999999999999998 … -9.461726942265441e-5 -9.845166181745778e-5; … ; -4.320136350638793e-5 -9.461726942265441e-5 … 0.9999999999999998 0.0033632257724296594; -4.4205040697944595e-5 -9.845166181745778e-5 … 0.0033632257724296594 1.0000000000000002], meta = LimberJack.Meta([\"DESgc__0\", \"DESgc__1\", \"DESgc__2\", \"DESgc__3\", \"DESgc__4\", \"DESwl__0\", \"DESwl__1\", \"DESwl__2\", \"DESwl__3\"], Any[[\"DESgc__0\", \"DESgc__0\"], [\"DESgc__1\", \"DESgc__1\"], [\"DESgc__2\", \"DESgc__2\"], [\"DESgc__3\", \"DESgc__3\"], [\"DESgc__4\", \"DESgc__4\"], [\"DESgc__0\", \"DESwl__0\"], [\"DESgc__0\", \"DESwl__1\"], [\"DESgc__0\", \"DESwl__2\"], [\"DESgc__0\", \"DESwl__3\"], [\"DESgc__1\", \"DESwl__0\"]  …  [\"DESwl__0\", \"DESwl__0\"], [\"DESwl__0\", \"DESwl__1\"], [\"DESwl__0\", \"DESwl__2\"], [\"DESwl__0\", \"DESwl__3\"], [\"DESwl__1\", \"DESwl__1\"], [\"DESwl__1\", \"DESwl__2\"], [\"DESwl__1\", \"DESwl__3\"], [\"DESwl__2\", \"DESwl__2\"], [\"DESwl__2\", \"DESwl__3\"], [\"DESwl__3\", \"DESwl__3\"]], [\"galaxy_density\", \"galaxy_density\", \"galaxy_density\", \"galaxy_density\", \"galaxy_density\", \"galaxy_shear\", \"galaxy_shear\", \"galaxy_shear\", \"galaxy_shear\"], [0, 5, 13, 23, 34, 47, 52, 57, 62, 67  …  259, 283, 307, 331, 355, 379, 403, 427, 451, 475], [0.00019024248750512107, 7.391276663994371e-5, 4.261252890607883e-5, 2.22965965139283e-5, 2.176880112868429e-5, 8.240734039668606e-5, 8.421314587773898e-5, 2.6585137640401017e-5, 2.6033426315289483e-5, 1.6202481595102046e-5  …  4.737458899576856e-10, 8.27594560926968e-10, 5.318332277673948e-10, 3.860067333751191e-10, 4.674884118894536e-10, 3.737344096265107e-10, 8.676072775051082e-11, 2.8609099937088954e-10, 2.0381853638647756e-10, 1.2493271614464064e-10], [3.5034593789257314e-9 -2.690723799401261e-10 … -2.2228200843976036e-19 -1.9989959978497149e-19; -2.690723799401261e-10 2.465164237414273e-10 … -1.2913728598180671e-19 -1.180966469888284e-19; … ; -2.2228200843976036e-19 -1.2913728598180671e-19 … 7.556429413846178e-21 2.2336026899981313e-23; -1.9989959978497149e-19 -1.180966469888284e-19 … 2.2336026899981313e-23 5.8369123712821094e-21], [5.149519027142347e8 8.474936495291066e8 … 1.6283127622023125e10 2.0760851810037117e10; 8.474936495291066e8 1.0856331556151625e10 … 4.603481181751333e11 5.637447229505698e11; … ; 1.6283127622023125e10 4.603481181751333e11 … 1.327495858657925e20 -2.807171657130278e17; 2.0760851810037117e10 5.637447229505698e11 … -2.807171657130278e17 1.7190514305235314e20]), files = Dict{String, Vector}(\"ls_DESgc__1_DESgc__1\" => [14.500000000000005, 44.500000000000014, 74.50000000000001, 104.50000000000003, 134.50000000000003, 164.50000000000009, 194.50000000000006, 224.50000000000006], \"ls_DESwl__2_DESwl__3\" => [44.500000000000014, 74.50000000000001, 104.50000000000003, 134.50000000000003, 164.50000000000009, 194.50000000000006, 224.50000000000006, 255.5, 290.00000000000017, 329.4999999999998  …  621.000000000001, 704.9999999999993, 800.5000000000011, 909.0000000000018, 1031.9999999999986, 1172.0000000000016, 1330.9999999999977, 1511.4999999999961, 1716.5000000000077, 1948.999999999992], \"ls_DESgc__2_DESwl__1\" => [14.500000000000005, 44.500000000000014, 74.50000000000001, 104.50000000000003, 134.50000000000003, 164.50000000000009, 194.50000000000006, 224.50000000000006, 255.5, 290.00000000000017], \"ls_DESgc__3_DESwl__3\" => [14.500000000000005, 44.500000000000014, 74.50000000000001, 104.50000000000003, 134.50000000000003, 164.50000000000009, 194.50000000000006, 224.50000000000006, 255.5, 290.00000000000017, 329.4999999999998], \"ls_DESgc__3_DESwl__2\" => [14.500000000000005, 44.500000000000014, 74.50000000000001, 104.50000000000003, 134.50000000000003, 164.50000000000009, 194.50000000000006, 224.50000000000006, 255.5, 290.00000000000017, 329.4999999999998], \"nz_DESgc__0\" => [[0.0051, 0.015099999999999999, 0.0251, 0.035100000000000006, 0.0451, 0.0551, 0.0651, 0.07510000000000001, 0.0851, 0.0951  …  3.9051000000000005, 3.9151000000000002, 3.9251, 3.9351000000000003, 3.9451000000000005, 3.9551000000000003, 3.9651, 3.9751000000000003, 3.9851000000000005, 3.9951000000000003], [0.0, 0.0, 0.0, 0.0, 0.0, 0.0, 0.0, 0.0, 0.0, 0.0  …  0.0, 0.0, 0.0, 0.0, 0.0, 0.0, 0.0, 0.0, 0.0, 0.0]], \"ls_DESwl__3_DESwl__3\" => [44.500000000000014, 74.50000000000001, 104.50000000000003, 134.50000000000003, 164.50000000000009, 194.50000000000006, 224.50000000000006, 255.5, 290.00000000000017, 329.4999999999998  …  621.000000000001, 704.9999999999993, 800.5000000000011, 909.0000000000018, 1031.9999999999986, 1172.0000000000016, 1330.9999999999977, 1511.4999999999961, 1716.5000000000077, 1948.999999999992], \"ls_DESgc__2_DESwl__3\" => [14.500000000000005, 44.500000000000014, 74.50000000000001, 104.50000000000003, 134.50000000000003, 164.50000000000009, 194.50000000000006, 224.50000000000006, 255.5, 290.00000000000017], \"ls_DESgc__4_DESwl__2\" => [14.500000000000005, 44.500000000000014, 74.50000000000001, 104.50000000000003, 134.50000000000003, 164.50000000000009, 194.50000000000006, 224.50000000000006, 255.5, 290.00000000000017, 329.4999999999998, 373.9999999999998, 424.50000000000045], \"ls_DESwl__0_DESwl__2\" => [44.500000000000014, 74.50000000000001, 104.50000000000003, 134.50000000000003, 164.50000000000009, 194.50000000000006, 224.50000000000006, 255.5, 290.00000000000017, 329.4999999999998  …  621.000000000001, 704.9999999999993, 800.5000000000011, 909.0000000000018, 1031.9999999999986, 1172.0000000000016, 1330.9999999999977, 1511.4999999999961, 1716.5000000000077, 1948.999999999992]…)), DynamicPPL.DefaultContext())"
      ]
     },
     "execution_count": 4,
     "metadata": {},
     "output_type": "execute_result"
    }
   ],
   "source": [
    "stat_model = model(fake_data)"
   ]
  },
  {
   "cell_type": "markdown",
   "id": "10dfa4cc",
   "metadata": {},
   "source": [
    "## Sampling"
   ]
  },
  {
   "cell_type": "code",
   "execution_count": 5,
   "id": "c8ed14a3",
   "metadata": {},
   "outputs": [
    {
     "ename": "LoadError",
     "evalue": "UndefVarError: `TuringTarget` not defined",
     "output_type": "error",
     "traceback": [
      "UndefVarError: `TuringTarget` not defined",
      "",
      "Stacktrace:",
      " [1] top-level scope",
      "   @ In[5]:1"
     ]
    }
   ],
   "source": [
    "target = TuringTarget(stat_model);"
   ]
  },
  {
   "cell_type": "code",
   "execution_count": 6,
   "id": "a79c2b35",
   "metadata": {},
   "outputs": [
    {
     "ename": "LoadError",
     "evalue": "UndefVarError: `Sampler` not defined",
     "output_type": "error",
     "traceback": [
      "UndefVarError: `Sampler` not defined",
      "",
      "Stacktrace:",
      " [1] top-level scope",
      "   @ In[6]:3"
     ]
    }
   ],
   "source": [
    "eps=0.5\n",
    "L=sqrt(20)\n",
    "mchmc = Sampler(eps, L, integrator=\"MN\")"
   ]
  },
  {
   "cell_type": "code",
   "execution_count": 7,
   "id": "82938e27",
   "metadata": {},
   "outputs": [
    {
     "ename": "LoadError",
     "evalue": "UndefVarError: `Sample` not defined",
     "output_type": "error",
     "traceback": [
      "UndefVarError: `Sample` not defined",
      "",
      "Stacktrace:",
      " [1] top-level scope",
      "   @ In[7]:1"
     ]
    }
   ],
   "source": [
    "samples_mchmc = Sample(mchmc, target, 1; monitor_energy=true, dialog=true)"
   ]
  },
  {
   "cell_type": "code",
   "execution_count": 8,
   "id": "45b168d6",
   "metadata": {},
   "outputs": [],
   "source": [
    "using AverageShiftedHistograms, Plots"
   ]
  },
  {
   "cell_type": "code",
   "execution_count": 9,
   "id": "385a8b1a",
   "metadata": {},
   "outputs": [
    {
     "ename": "LoadError",
     "evalue": "UndefVarError: `samples_mchmc` not defined",
     "output_type": "error",
     "traceback": [
      "UndefVarError: `samples_mchmc` not defined",
      "",
      "Stacktrace:",
      " [1] top-level scope",
      "   @ In[9]:1"
     ]
    }
   ],
   "source": [
    "Wms_mchmc = [sample[1] for sample in samples_mchmc]\n",
    "s8s_mchmc = [sample[4] for sample in samples_mchmc];"
   ]
  },
  {
   "cell_type": "code",
   "execution_count": 10,
   "id": "2a803eb8",
   "metadata": {},
   "outputs": [
    {
     "ename": "LoadError",
     "evalue": "UndefVarError: `Wms_mchmc` not defined",
     "output_type": "error",
     "traceback": [
      "UndefVarError: `Wms_mchmc` not defined",
      "",
      "Stacktrace:",
      " [1] top-level scope",
      "   @ In[10]:1"
     ]
    }
   ],
   "source": [
    "Wm_mchmc_ker = ash(Wms_mchmc; m=30)\n",
    "s8_mchmc_ker = ash(s8s_mchmc; m=30)"
   ]
  },
  {
   "cell_type": "code",
   "execution_count": 11,
   "id": "7018ce71",
   "metadata": {},
   "outputs": [
    {
     "ename": "LoadError",
     "evalue": "UndefVarError: `Wm_mchmc_ker` not defined",
     "output_type": "error",
     "traceback": [
      "UndefVarError: `Wm_mchmc_ker` not defined",
      "",
      "Stacktrace:",
      " [1] top-level scope",
      "   @ In[11]:1"
     ]
    }
   ],
   "source": [
    "Plots.plot(Wm_mchmc_ker; hist=false)"
   ]
  },
  {
   "cell_type": "code",
   "execution_count": 12,
   "id": "9a8edae1",
   "metadata": {},
   "outputs": [
    {
     "ename": "LoadError",
     "evalue": "UndefVarError: `s8_mchmc_ker` not defined",
     "output_type": "error",
     "traceback": [
      "UndefVarError: `s8_mchmc_ker` not defined",
      "",
      "Stacktrace:",
      " [1] top-level scope",
      "   @ In[12]:1"
     ]
    }
   ],
   "source": [
    "Plots.plot(s8_mchmc_ker; hist=false)"
   ]
  },
  {
   "cell_type": "markdown",
   "id": "4aadd3b5",
   "metadata": {},
   "source": [
    "## NUTS"
   ]
  },
  {
   "cell_type": "code",
   "execution_count": 13,
   "id": "c0e3f4f8",
   "metadata": {},
   "outputs": [
    {
     "name": "stderr",
     "output_type": "stream",
     "text": [
      "\u001b[32m\u001b[1m    Updating\u001b[22m\u001b[39m registry at `~/.julia/registries/General.toml`\n",
      "\u001b[32m\u001b[1m   Resolving\u001b[22m\u001b[39m package versions...\n",
      "\u001b[32m\u001b[1m  No Changes\u001b[22m\u001b[39m to `~/PhD/MCHMC.jl/Project.toml`\n",
      "\u001b[32m\u001b[1m  No Changes\u001b[22m\u001b[39m to `~/PhD/MCHMC.jl/Manifest.toml`\n"
     ]
    }
   ],
   "source": [
    "using Pkg\n",
    "Pkg.add(\"DataFrames\")"
   ]
  },
  {
   "cell_type": "code",
   "execution_count": 14,
   "id": "dcbe40a3",
   "metadata": {},
   "outputs": [],
   "source": [
    "#samples_hmc = sample(stat_model, NUTS(500, 0.65),\n",
    "#                  500, progress=true; save_state=true)\n",
    "\n",
    "summary_hmc = CSV.read(\"/home/jaimerz/PhD/LimberJack.jl/chains/DESY1_k1k_priors_EisHu_TAP_0.65/summary_1.csv\", DataFrame)\n",
    "samples_hmc = CSV.read(\"/home/jaimerz/PhD/LimberJack.jl/chains/DESY1_k1k_priors_EisHu_TAP_0.65/chain_1.csv\", DataFrame);"
   ]
  },
  {
   "cell_type": "code",
   "execution_count": 15,
   "id": "504032e4",
   "metadata": {},
   "outputs": [
    {
     "data": {
      "text/plain": [
       "25-element Vector{Float64}:\n",
       "  107.13649180104869\n",
       "  331.4835789816811\n",
       "  207.484061400768\n",
       "  111.64048654758332\n",
       "  600.4013034569028\n",
       "  114.39496059843647\n",
       "  117.33719647252566\n",
       "  114.56966849849671\n",
       "  111.15547545924896\n",
       "  105.06968640469209\n",
       "  961.3377488207435\n",
       "  700.0507524844818\n",
       "  837.2166448905194\n",
       "  682.3676139298411\n",
       "  566.0490257440192\n",
       "  837.5008331222044\n",
       "  733.9973963424983\n",
       "  549.1048795030388\n",
       "  792.5424251430129\n",
       " 1009.6818545217956\n",
       "  763.2299996132994\n",
       "  872.0250289709837\n",
       "  763.7811879280131\n",
       "  552.5319549420313\n",
       "  731.942598764305"
      ]
     },
     "execution_count": 15,
     "metadata": {},
     "output_type": "execute_result"
    }
   ],
   "source": [
    "summary_hmc.ess"
   ]
  },
  {
   "cell_type": "code",
   "execution_count": 16,
   "id": "fa9db828",
   "metadata": {},
   "outputs": [],
   "source": [
    "Wms_hmc = vec(samples_hmc[!, \"Ωm\"])\n",
    "s8s_hmc = vec(samples_hmc[!, \"s8\"]);"
   ]
  },
  {
   "cell_type": "code",
   "execution_count": 17,
   "id": "36f24ece",
   "metadata": {},
   "outputs": [
    {
     "ename": "LoadError",
     "evalue": "UndefVarError: `Wms_mchmc` not defined",
     "output_type": "error",
     "traceback": [
      "UndefVarError: `Wms_mchmc` not defined",
      "",
      "Stacktrace:",
      " [1] top-level scope",
      "   @ In[17]:3"
     ]
    }
   ],
   "source": [
    "Wm_hmc_ker = ash(Wms_hmc; m=30)\n",
    "s8_hmc_ker = ash(s8s_hmc; m=30)\n",
    "Wm_mchmc_ker = ash(Wms_mchmc; m=30)\n",
    "s8_mchmc_ker = ash(s8s_mchmc; m=30);"
   ]
  },
  {
   "cell_type": "code",
   "execution_count": 18,
   "id": "d9be1fbf",
   "metadata": {},
   "outputs": [
    {
     "ename": "LoadError",
     "evalue": "UndefVarError: `Wm_mchmc_ker` not defined",
     "output_type": "error",
     "traceback": [
      "UndefVarError: `Wm_mchmc_ker` not defined",
      "",
      "Stacktrace:",
      " [1] top-level scope",
      "   @ In[18]:1"
     ]
    }
   ],
   "source": [
    "Plots.plot(Wm_mchmc_ker; hist=false, label=\"MCHMC\")\n",
    "Plots.plot!(Wm_hmc_ker; hist=false, label=\"HMC\", xlabel=\"Wm\")"
   ]
  },
  {
   "cell_type": "code",
   "execution_count": 19,
   "id": "0059664f",
   "metadata": {},
   "outputs": [
    {
     "ename": "LoadError",
     "evalue": "UndefVarError: `s8_mchmc_ker` not defined",
     "output_type": "error",
     "traceback": [
      "UndefVarError: `s8_mchmc_ker` not defined",
      "",
      "Stacktrace:",
      " [1] top-level scope",
      "   @ In[19]:1"
     ]
    }
   ],
   "source": [
    "Plots.plot(s8_mchmc_ker; hist=false, label=\"MCHMC\")\n",
    "Plots.plot!(s8_hmc_ker; hist=false, label=\"HMC\",  xlabel=\"s8\")"
   ]
  },
  {
   "cell_type": "markdown",
   "id": "4e1d16c5",
   "metadata": {},
   "source": [
    "## Self-tuning"
   ]
  },
  {
   "cell_type": "code",
   "execution_count": 20,
   "id": "6a20faef",
   "metadata": {},
   "outputs": [
    {
     "ename": "LoadError",
     "evalue": "UndefVarError: `Sampler` not defined",
     "output_type": "error",
     "traceback": [
      "UndefVarError: `Sampler` not defined",
      "",
      "Stacktrace:",
      " [1] top-level scope",
      "   @ In[20]:1"
     ]
    }
   ],
   "source": [
    "mchmc = Sampler()\n",
    "println(string(\"L = \", mchmc.settings.L, \", eps = \", mchmc.settings.eps))\n",
    "# This should start self-tuning    "
   ]
  },
  {
   "cell_type": "code",
   "execution_count": 21,
   "id": "17d896dd",
   "metadata": {},
   "outputs": [
    {
     "ename": "LoadError",
     "evalue": "UndefVarError: `mchmc` not defined",
     "output_type": "error",
     "traceback": [
      "UndefVarError: `mchmc` not defined",
      "",
      "Stacktrace:",
      " [1] top-level scope",
      "   @ In[21]:1"
     ]
    }
   ],
   "source": [
    "mchmc.settings.tune_samples"
   ]
  },
  {
   "cell_type": "code",
   "execution_count": 22,
   "id": "c1d2ef02",
   "metadata": {},
   "outputs": [
    {
     "ename": "LoadError",
     "evalue": "UndefVarError: `Sample` not defined",
     "output_type": "error",
     "traceback": [
      "UndefVarError: `Sample` not defined",
      "",
      "Stacktrace:",
      " [1] top-level scope",
      "   @ In[22]:1"
     ]
    }
   ],
   "source": [
    "samples = Sample(mchmc, target; num_steps=10000, dialog=true);"
   ]
  },
  {
   "cell_type": "code",
   "execution_count": null,
   "id": "f2e7d5c1",
   "metadata": {},
   "outputs": [],
   "source": []
  }
 ],
 "metadata": {
  "kernelspec": {
   "display_name": "Julia 1.9.0-beta3",
   "language": "julia",
   "name": "julia-1.9"
  },
  "language_info": {
   "file_extension": ".jl",
   "mimetype": "application/julia",
   "name": "julia",
   "version": "1.9.0"
  }
 },
 "nbformat": 4,
 "nbformat_minor": 5
}
