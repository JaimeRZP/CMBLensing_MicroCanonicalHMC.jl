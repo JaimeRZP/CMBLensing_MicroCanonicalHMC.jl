{
 "cells": [
  {
   "cell_type": "markdown",
   "id": "91129cb1",
   "metadata": {},
   "source": [
    "# LimberJack Target Practice"
   ]
  },
  {
   "cell_type": "markdown",
   "id": "97121235",
   "metadata": {},
   "source": [
    "## Model"
   ]
  },
  {
   "cell_type": "code",
   "execution_count": 9,
   "id": "baed58e3",
   "metadata": {},
   "outputs": [
    {
     "name": "stderr",
     "output_type": "stream",
     "text": [
      "\u001b[36m\u001b[1m[ \u001b[22m\u001b[39m\u001b[36m\u001b[1mInfo: \u001b[22m\u001b[39mPrecompiling MCHMC [92da4d09-9da0-4f8a-8b31-da41ef0ab6ee]\n"
     ]
    }
   ],
   "source": [
    "using LinearAlgebra\n",
    "using Turing\n",
    "using AdvancedHMC\n",
    "using LimberJack\n",
    "using CSV\n",
    "using YAML\n",
    "using PythonCall\n",
    "sacc = pyimport(\"sacc\");\n",
    "\n",
    "using Revise\n",
    "using MCHMC"
   ]
  },
  {
   "cell_type": "code",
   "execution_count": 10,
   "id": "78085608",
   "metadata": {},
   "outputs": [
    {
     "name": "stdout",
     "output_type": "stream",
     "text": [
      "DESgc__0 DESgc__0 5\n",
      "DESgc__1 DESgc__1 8\n",
      "DESgc__2 DESgc__2 10\n",
      "DESgc__3 DESgc__3 11\n",
      "DESgc__4 DESgc__4 13\n",
      "DESgc__0 DESwl__0 5\n",
      "DESgc__0 DESwl__1 5\n",
      "DESgc__0 DESwl__2 5\n",
      "DESgc__0 DESwl__3 5\n",
      "DESgc__1 DESwl__0 8\n",
      "DESgc__1 DESwl__1 8\n",
      "DESgc__1 DESwl__2 8\n",
      "DESgc__1 DESwl__3 8\n",
      "DESgc__2 DESwl__0 10\n",
      "DESgc__2 DESwl__1 10\n",
      "DESgc__2 DESwl__2 10\n",
      "DESgc__2 DESwl__3 10\n",
      "DESgc__3 DESwl__0 11\n",
      "DESgc__3 DESwl__1 11\n",
      "DESgc__3 DESwl__2 11\n",
      "DESgc__3 DESwl__3 11\n",
      "DESgc__4 DESwl__0 13\n",
      "DESgc__4 DESwl__1 13\n",
      "DESgc__4 DESwl__2 13\n",
      "DESgc__4 DESwl__3 13\n",
      "DESwl__0 DESwl__0 24\n",
      "DESwl__0 DESwl__1 24\n",
      "DESwl__0 DESwl__2 24\n",
      "DESwl__0 DESwl__3 24\n",
      "DESwl__1 DESwl__1 24\n",
      "DESwl__1 DESwl__2 24\n",
      "DESwl__1 DESwl__3 24\n",
      "DESwl__2 DESwl__2 24\n",
      "DESwl__2 DESwl__3 24\n",
      "DESwl__3 DESwl__3 24\n"
     ]
    }
   ],
   "source": [
    "sacc_path = \"/home/jaimerz/PhD/LimberJack.jl/data/FD/cls_FD_covG.fits\"\n",
    "yaml_path = \"/home/jaimerz/PhD/LimberJack.jl/data/DESY1/gcgc_gcwl_wlwl.yml\"\n",
    "sacc_file = sacc.Sacc().load_fits(sacc_path)\n",
    "yaml_file = YAML.load_file(yaml_path)\n",
    "meta, files = make_data(sacc_file, yaml_file)\n",
    "\n",
    "data_vector = meta.data\n",
    "cov_tot = meta.cov\n",
    "errs = sqrt.(diag(cov_tot))\n",
    "fake_data = data_vector ./ errs\n",
    "fake_cov = Hermitian(cov_tot ./ (errs * errs'));"
   ]
  },
  {
   "cell_type": "code",
   "execution_count": 11,
   "id": "a7d6f81c",
   "metadata": {},
   "outputs": [
    {
     "data": {
      "text/plain": [
       "model (generic function with 2 methods)"
      ]
     },
     "execution_count": 11,
     "metadata": {},
     "output_type": "execute_result"
    }
   ],
   "source": [
    "@model function model(data;\n",
    "                      cov=fake_cov,\n",
    "                      meta=meta, \n",
    "                      files=files)\n",
    "    #KiDS priors\n",
    "    Ωm ~ Uniform(0.2, 0.6)\n",
    "    Ωb ~ Uniform(0.028, 0.065)\n",
    "    h ~ TruncatedNormal(72, 5, 0.64, 0.82)\n",
    "    s8 ~ Uniform(0.4, 1.2)\n",
    "    ns ~ Uniform(0.84, 1.1)\n",
    "\n",
    "    DESgc__0_b ~ Uniform(0.8, 3.0)\n",
    "    DESgc__1_b ~ Uniform(0.8, 3.0)\n",
    "    DESgc__2_b ~ Uniform(0.8, 3.0)\n",
    "    DESgc__3_b ~ Uniform(0.8, 3.0)\n",
    "    DESgc__4_b ~ Uniform(0.8, 3.0)\n",
    "    DESgc__0_dz ~ TruncatedNormal(0.0, 0.007, -0.2, 0.2)\n",
    "    DESgc__1_dz ~ TruncatedNormal(0.0, 0.007, -0.2, 0.2)\n",
    "    DESgc__2_dz ~ TruncatedNormal(0.0, 0.006, -0.2, 0.2)\n",
    "    DESgc__3_dz ~ TruncatedNormal(0.0, 0.01, -0.2, 0.2)\n",
    "    DESgc__4_dz ~ TruncatedNormal(0.0, 0.01, -0.2, 0.2)\n",
    "    DESwl__0_dz ~ TruncatedNormal(-0.001, 0.016, -0.2, 0.2)\n",
    "    DESwl__1_dz ~ TruncatedNormal(-0.019, 0.013, -0.2, 0.2)\n",
    "    DESwl__2_dz ~ TruncatedNormal(0.009, 0.011, -0.2, 0.2)\n",
    "    DESwl__3_dz ~ TruncatedNormal(-0.018, 0.022, -0.2, 0.2)\n",
    "    DESwl__0_m ~ Normal(0.012, 0.023)\n",
    "    DESwl__1_m ~ Normal(0.012, 0.023)\n",
    "    DESwl__2_m ~ Normal(0.012, 0.023)\n",
    "    DESwl__3_m ~ Normal(0.012, 0.023)\n",
    "    A_IA ~ Uniform(-5, 5) \n",
    "    alpha_IA ~ Uniform(-5, 5)\n",
    "\n",
    "    nuisances = Dict(\"DESgc__0_b\" => DESgc__0_b,\n",
    "                     \"DESgc__1_b\" => DESgc__1_b,\n",
    "                     \"DESgc__2_b\" => DESgc__2_b,\n",
    "                     \"DESgc__3_b\" => DESgc__3_b,\n",
    "                     \"DESgc__4_b\" => DESgc__4_b,\n",
    "                     \"DESgc__0_dz\" => DESgc__0_dz,\n",
    "                     \"DESgc__1_dz\" => DESgc__1_dz,\n",
    "                     \"DESgc__2_dz\" => DESgc__2_dz,\n",
    "                     \"DESgc__3_dz\" => DESgc__3_dz,\n",
    "                     \"DESgc__4_dz\" => DESgc__4_dz,\n",
    "                     \"DESwl__0_dz\" => DESwl__0_dz,\n",
    "                     \"DESwl__1_dz\" => DESwl__1_dz,\n",
    "                     \"DESwl__2_dz\" => DESwl__2_dz,\n",
    "                     \"DESwl__3_dz\" => DESwl__3_dz,\n",
    "                     \"DESwl__0_m\" => DESwl__0_m,\n",
    "                     \"DESwl__1_m\" => DESwl__1_m,\n",
    "                     \"DESwl__2_m\" => DESwl__2_m,\n",
    "                     \"DESwl__3_m\" => DESwl__3_m,\n",
    "                     \"A_IA\" => A_IA,\n",
    "                     \"alpha_IA\" => alpha_IA,)\n",
    "\n",
    "    cosmology = Cosmology(Ωm, Ωb, h, ns, s8,\n",
    "                          tk_mode=\"EisHu\",\n",
    "                          Pk_mode=\"Halofit\")\n",
    "\n",
    "    theory = Theory(cosmology, meta, files; Nuisances=nuisances)\n",
    "    data ~ MvNormal(theory ./ errs, cov)\n",
    "end"
   ]
  },
  {
   "cell_type": "code",
   "execution_count": 12,
   "id": "1eebe796",
   "metadata": {},
   "outputs": [
    {
     "data": {
      "text/plain": [
       "DynamicPPL.Model{typeof(model), (:data, :cov, :meta, :files), (:cov, :meta, :files), (), Tuple{Vector{Float64}, Hermitian{Float64, Matrix{Float64}}, LimberJack.Meta, Dict{String, Vector}}, Tuple{Hermitian{Float64, Matrix{Float64}}, LimberJack.Meta, Dict{String, Vector}}, DynamicPPL.DefaultContext}(model, (data = [3.214096950162085, 4.70756721223778, 6.415689628953242, 5.828388701788672, 8.493679322382144, 2.9304058751712, 7.998464834088993, 5.1210836387672565, 8.932453735970117, 8.407292870179436  …  1.8338144344899103, 3.6747343455612156, 2.7292480563019765, 2.265947203686935, 3.1513497907284673, 2.887098863974196, 0.7659895057386662, 2.8855449419318098, 2.3446896354956963, 1.6352516474328562], cov = [1.0 -0.289532718133784 … -4.320136350638793e-5 -4.4205040697944595e-5; -0.289532718133784 0.9999999999999998 … -9.461726942265441e-5 -9.845166181745778e-5; … ; -4.320136350638793e-5 -9.461726942265441e-5 … 0.9999999999999998 0.0033632257724296594; -4.4205040697944595e-5 -9.845166181745778e-5 … 0.0033632257724296594 1.0000000000000002], meta = LimberJack.Meta([\"DESgc__0\", \"DESgc__1\", \"DESgc__2\", \"DESgc__3\", \"DESgc__4\", \"DESwl__0\", \"DESwl__1\", \"DESwl__2\", \"DESwl__3\"], Any[[\"DESgc__0\", \"DESgc__0\"], [\"DESgc__1\", \"DESgc__1\"], [\"DESgc__2\", \"DESgc__2\"], [\"DESgc__3\", \"DESgc__3\"], [\"DESgc__4\", \"DESgc__4\"], [\"DESgc__0\", \"DESwl__0\"], [\"DESgc__0\", \"DESwl__1\"], [\"DESgc__0\", \"DESwl__2\"], [\"DESgc__0\", \"DESwl__3\"], [\"DESgc__1\", \"DESwl__0\"]  …  [\"DESwl__0\", \"DESwl__0\"], [\"DESwl__0\", \"DESwl__1\"], [\"DESwl__0\", \"DESwl__2\"], [\"DESwl__0\", \"DESwl__3\"], [\"DESwl__1\", \"DESwl__1\"], [\"DESwl__1\", \"DESwl__2\"], [\"DESwl__1\", \"DESwl__3\"], [\"DESwl__2\", \"DESwl__2\"], [\"DESwl__2\", \"DESwl__3\"], [\"DESwl__3\", \"DESwl__3\"]], [\"galaxy_density\", \"galaxy_density\", \"galaxy_density\", \"galaxy_density\", \"galaxy_density\", \"galaxy_shear\", \"galaxy_shear\", \"galaxy_shear\", \"galaxy_shear\"], [0, 5, 13, 23, 34, 47, 52, 57, 62, 67  …  259, 283, 307, 331, 355, 379, 403, 427, 451, 475], [0.00019024248750512107, 7.391276663994371e-5, 4.261252890607883e-5, 2.22965965139283e-5, 2.176880112868429e-5, 8.240734039668606e-5, 8.421314587773898e-5, 2.6585137640401017e-5, 2.6033426315289483e-5, 1.6202481595102046e-5  …  4.737458899576856e-10, 8.27594560926968e-10, 5.318332277673948e-10, 3.860067333751191e-10, 4.674884118894536e-10, 3.737344096265107e-10, 8.676072775051082e-11, 2.8609099937088954e-10, 2.0381853638647756e-10, 1.2493271614464064e-10], [3.5034593789257314e-9 -2.690723799401261e-10 … -2.2228200843976036e-19 -1.9989959978497149e-19; -2.690723799401261e-10 2.465164237414273e-10 … -1.2913728598180671e-19 -1.180966469888284e-19; … ; -2.2228200843976036e-19 -1.2913728598180671e-19 … 7.556429413846178e-21 2.2336026899981313e-23; -1.9989959978497149e-19 -1.180966469888284e-19 … 2.2336026899981313e-23 5.8369123712821094e-21], [5.149519027142347e8 8.474936495291066e8 … 1.6283127622023125e10 2.0760851810037117e10; 8.474936495291066e8 1.0856331556151625e10 … 4.603481181751333e11 5.637447229505698e11; … ; 1.6283127622023125e10 4.603481181751333e11 … 1.327495858657925e20 -2.807171657130278e17; 2.0760851810037117e10 5.637447229505698e11 … -2.807171657130278e17 1.7190514305235314e20]), files = Dict{String, Vector}(\"ls_DESgc__1_DESgc__1\" => [14.500000000000005, 44.500000000000014, 74.50000000000001, 104.50000000000003, 134.50000000000003, 164.50000000000009, 194.50000000000006, 224.50000000000006], \"ls_DESwl__2_DESwl__3\" => [44.500000000000014, 74.50000000000001, 104.50000000000003, 134.50000000000003, 164.50000000000009, 194.50000000000006, 224.50000000000006, 255.5, 290.00000000000017, 329.4999999999998  …  621.000000000001, 704.9999999999993, 800.5000000000011, 909.0000000000018, 1031.9999999999986, 1172.0000000000016, 1330.9999999999977, 1511.4999999999961, 1716.5000000000077, 1948.999999999992], \"ls_DESgc__2_DESwl__1\" => [14.500000000000005, 44.500000000000014, 74.50000000000001, 104.50000000000003, 134.50000000000003, 164.50000000000009, 194.50000000000006, 224.50000000000006, 255.5, 290.00000000000017], \"ls_DESgc__3_DESwl__3\" => [14.500000000000005, 44.500000000000014, 74.50000000000001, 104.50000000000003, 134.50000000000003, 164.50000000000009, 194.50000000000006, 224.50000000000006, 255.5, 290.00000000000017, 329.4999999999998], \"ls_DESgc__3_DESwl__2\" => [14.500000000000005, 44.500000000000014, 74.50000000000001, 104.50000000000003, 134.50000000000003, 164.50000000000009, 194.50000000000006, 224.50000000000006, 255.5, 290.00000000000017, 329.4999999999998], \"nz_DESgc__0\" => [[0.0051, 0.015099999999999999, 0.0251, 0.035100000000000006, 0.0451, 0.0551, 0.0651, 0.07510000000000001, 0.0851, 0.0951  …  3.9051000000000005, 3.9151000000000002, 3.9251, 3.9351000000000003, 3.9451000000000005, 3.9551000000000003, 3.9651, 3.9751000000000003, 3.9851000000000005, 3.9951000000000003], [0.0, 0.0, 0.0, 0.0, 0.0, 0.0, 0.0, 0.0, 0.0, 0.0  …  0.0, 0.0, 0.0, 0.0, 0.0, 0.0, 0.0, 0.0, 0.0, 0.0]], \"ls_DESwl__3_DESwl__3\" => [44.500000000000014, 74.50000000000001, 104.50000000000003, 134.50000000000003, 164.50000000000009, 194.50000000000006, 224.50000000000006, 255.5, 290.00000000000017, 329.4999999999998  …  621.000000000001, 704.9999999999993, 800.5000000000011, 909.0000000000018, 1031.9999999999986, 1172.0000000000016, 1330.9999999999977, 1511.4999999999961, 1716.5000000000077, 1948.999999999992], \"ls_DESgc__2_DESwl__3\" => [14.500000000000005, 44.500000000000014, 74.50000000000001, 104.50000000000003, 134.50000000000003, 164.50000000000009, 194.50000000000006, 224.50000000000006, 255.5, 290.00000000000017], \"ls_DESgc__4_DESwl__2\" => [14.500000000000005, 44.500000000000014, 74.50000000000001, 104.50000000000003, 134.50000000000003, 164.50000000000009, 194.50000000000006, 224.50000000000006, 255.5, 290.00000000000017, 329.4999999999998, 373.9999999999998, 424.50000000000045], \"ls_DESwl__0_DESwl__2\" => [44.500000000000014, 74.50000000000001, 104.50000000000003, 134.50000000000003, 164.50000000000009, 194.50000000000006, 224.50000000000006, 255.5, 290.00000000000017, 329.4999999999998  …  621.000000000001, 704.9999999999993, 800.5000000000011, 909.0000000000018, 1031.9999999999986, 1172.0000000000016, 1330.9999999999977, 1511.4999999999961, 1716.5000000000077, 1948.999999999992]…)), (cov = [1.0 -0.289532718133784 … -4.320136350638793e-5 -4.4205040697944595e-5; -0.289532718133784 0.9999999999999998 … -9.461726942265441e-5 -9.845166181745778e-5; … ; -4.320136350638793e-5 -9.461726942265441e-5 … 0.9999999999999998 0.0033632257724296594; -4.4205040697944595e-5 -9.845166181745778e-5 … 0.0033632257724296594 1.0000000000000002], meta = LimberJack.Meta([\"DESgc__0\", \"DESgc__1\", \"DESgc__2\", \"DESgc__3\", \"DESgc__4\", \"DESwl__0\", \"DESwl__1\", \"DESwl__2\", \"DESwl__3\"], Any[[\"DESgc__0\", \"DESgc__0\"], [\"DESgc__1\", \"DESgc__1\"], [\"DESgc__2\", \"DESgc__2\"], [\"DESgc__3\", \"DESgc__3\"], [\"DESgc__4\", \"DESgc__4\"], [\"DESgc__0\", \"DESwl__0\"], [\"DESgc__0\", \"DESwl__1\"], [\"DESgc__0\", \"DESwl__2\"], [\"DESgc__0\", \"DESwl__3\"], [\"DESgc__1\", \"DESwl__0\"]  …  [\"DESwl__0\", \"DESwl__0\"], [\"DESwl__0\", \"DESwl__1\"], [\"DESwl__0\", \"DESwl__2\"], [\"DESwl__0\", \"DESwl__3\"], [\"DESwl__1\", \"DESwl__1\"], [\"DESwl__1\", \"DESwl__2\"], [\"DESwl__1\", \"DESwl__3\"], [\"DESwl__2\", \"DESwl__2\"], [\"DESwl__2\", \"DESwl__3\"], [\"DESwl__3\", \"DESwl__3\"]], [\"galaxy_density\", \"galaxy_density\", \"galaxy_density\", \"galaxy_density\", \"galaxy_density\", \"galaxy_shear\", \"galaxy_shear\", \"galaxy_shear\", \"galaxy_shear\"], [0, 5, 13, 23, 34, 47, 52, 57, 62, 67  …  259, 283, 307, 331, 355, 379, 403, 427, 451, 475], [0.00019024248750512107, 7.391276663994371e-5, 4.261252890607883e-5, 2.22965965139283e-5, 2.176880112868429e-5, 8.240734039668606e-5, 8.421314587773898e-5, 2.6585137640401017e-5, 2.6033426315289483e-5, 1.6202481595102046e-5  …  4.737458899576856e-10, 8.27594560926968e-10, 5.318332277673948e-10, 3.860067333751191e-10, 4.674884118894536e-10, 3.737344096265107e-10, 8.676072775051082e-11, 2.8609099937088954e-10, 2.0381853638647756e-10, 1.2493271614464064e-10], [3.5034593789257314e-9 -2.690723799401261e-10 … -2.2228200843976036e-19 -1.9989959978497149e-19; -2.690723799401261e-10 2.465164237414273e-10 … -1.2913728598180671e-19 -1.180966469888284e-19; … ; -2.2228200843976036e-19 -1.2913728598180671e-19 … 7.556429413846178e-21 2.2336026899981313e-23; -1.9989959978497149e-19 -1.180966469888284e-19 … 2.2336026899981313e-23 5.8369123712821094e-21], [5.149519027142347e8 8.474936495291066e8 … 1.6283127622023125e10 2.0760851810037117e10; 8.474936495291066e8 1.0856331556151625e10 … 4.603481181751333e11 5.637447229505698e11; … ; 1.6283127622023125e10 4.603481181751333e11 … 1.327495858657925e20 -2.807171657130278e17; 2.0760851810037117e10 5.637447229505698e11 … -2.807171657130278e17 1.7190514305235314e20]), files = Dict{String, Vector}(\"ls_DESgc__1_DESgc__1\" => [14.500000000000005, 44.500000000000014, 74.50000000000001, 104.50000000000003, 134.50000000000003, 164.50000000000009, 194.50000000000006, 224.50000000000006], \"ls_DESwl__2_DESwl__3\" => [44.500000000000014, 74.50000000000001, 104.50000000000003, 134.50000000000003, 164.50000000000009, 194.50000000000006, 224.50000000000006, 255.5, 290.00000000000017, 329.4999999999998  …  621.000000000001, 704.9999999999993, 800.5000000000011, 909.0000000000018, 1031.9999999999986, 1172.0000000000016, 1330.9999999999977, 1511.4999999999961, 1716.5000000000077, 1948.999999999992], \"ls_DESgc__2_DESwl__1\" => [14.500000000000005, 44.500000000000014, 74.50000000000001, 104.50000000000003, 134.50000000000003, 164.50000000000009, 194.50000000000006, 224.50000000000006, 255.5, 290.00000000000017], \"ls_DESgc__3_DESwl__3\" => [14.500000000000005, 44.500000000000014, 74.50000000000001, 104.50000000000003, 134.50000000000003, 164.50000000000009, 194.50000000000006, 224.50000000000006, 255.5, 290.00000000000017, 329.4999999999998], \"ls_DESgc__3_DESwl__2\" => [14.500000000000005, 44.500000000000014, 74.50000000000001, 104.50000000000003, 134.50000000000003, 164.50000000000009, 194.50000000000006, 224.50000000000006, 255.5, 290.00000000000017, 329.4999999999998], \"nz_DESgc__0\" => [[0.0051, 0.015099999999999999, 0.0251, 0.035100000000000006, 0.0451, 0.0551, 0.0651, 0.07510000000000001, 0.0851, 0.0951  …  3.9051000000000005, 3.9151000000000002, 3.9251, 3.9351000000000003, 3.9451000000000005, 3.9551000000000003, 3.9651, 3.9751000000000003, 3.9851000000000005, 3.9951000000000003], [0.0, 0.0, 0.0, 0.0, 0.0, 0.0, 0.0, 0.0, 0.0, 0.0  …  0.0, 0.0, 0.0, 0.0, 0.0, 0.0, 0.0, 0.0, 0.0, 0.0]], \"ls_DESwl__3_DESwl__3\" => [44.500000000000014, 74.50000000000001, 104.50000000000003, 134.50000000000003, 164.50000000000009, 194.50000000000006, 224.50000000000006, 255.5, 290.00000000000017, 329.4999999999998  …  621.000000000001, 704.9999999999993, 800.5000000000011, 909.0000000000018, 1031.9999999999986, 1172.0000000000016, 1330.9999999999977, 1511.4999999999961, 1716.5000000000077, 1948.999999999992], \"ls_DESgc__2_DESwl__3\" => [14.500000000000005, 44.500000000000014, 74.50000000000001, 104.50000000000003, 134.50000000000003, 164.50000000000009, 194.50000000000006, 224.50000000000006, 255.5, 290.00000000000017], \"ls_DESgc__4_DESwl__2\" => [14.500000000000005, 44.500000000000014, 74.50000000000001, 104.50000000000003, 134.50000000000003, 164.50000000000009, 194.50000000000006, 224.50000000000006, 255.5, 290.00000000000017, 329.4999999999998, 373.9999999999998, 424.50000000000045], \"ls_DESwl__0_DESwl__2\" => [44.500000000000014, 74.50000000000001, 104.50000000000003, 134.50000000000003, 164.50000000000009, 194.50000000000006, 224.50000000000006, 255.5, 290.00000000000017, 329.4999999999998  …  621.000000000001, 704.9999999999993, 800.5000000000011, 909.0000000000018, 1031.9999999999986, 1172.0000000000016, 1330.9999999999977, 1511.4999999999961, 1716.5000000000077, 1948.999999999992]…)), DynamicPPL.DefaultContext())"
      ]
     },
     "execution_count": 12,
     "metadata": {},
     "output_type": "execute_result"
    }
   ],
   "source": [
    "stat_model = model(fake_data)"
   ]
  },
  {
   "cell_type": "markdown",
   "id": "10dfa4cc",
   "metadata": {},
   "source": [
    "## Sampling"
   ]
  },
  {
   "cell_type": "code",
   "execution_count": 14,
   "id": "c8ed14a3",
   "metadata": {},
   "outputs": [
    {
     "ename": "LoadError",
     "evalue": "UndefVarError: `cubic_spline_interpolation` not defined",
     "output_type": "error",
     "traceback": [
      "UndefVarError: `cubic_spline_interpolation` not defined",
      "",
      "Stacktrace:",
      "  [1] Cosmology(cpar::CosmoPar{Real}, settings::LimberJack.Settings)",
      "    @ LimberJack ~/PhD/LimberJack.jl/src/core.jl:229",
      "  [2] Cosmology(Ωm::Float64, Ωb::Float64, h::Float64, n_s::Float64, σ8::Float64; θCMB::Float64, nk::Int64, nz::Int64, nz_pk::Int64, nz_t::Int64, tk_mode::String, Pk_mode::String, emul_path::String, custom_Dz::Nothing)",
      "    @ LimberJack ~/PhD/LimberJack.jl/src/core.jl:358",
      "  [3] kwcall(::NamedTuple{(:tk_mode, :Pk_mode), Tuple{String, String}}, ::Type{Cosmology}, Ωm::Float64, Ωb::Float64, h::Float64, n_s::Float64, σ8::Float64)",
      "    @ LimberJack ~/PhD/LimberJack.jl/src/core.jl:344",
      "  [4] model(__model__::DynamicPPL.Model{typeof(model), (:data, :cov, :meta, :files), (:cov, :meta, :files), (), Tuple{Vector{Float64}, Hermitian{Float64, Matrix{Float64}}, LimberJack.Meta, Dict{String, Vector}}, Tuple{Hermitian{Float64, Matrix{Float64}}, LimberJack.Meta, Dict{String, Vector}}, DynamicPPL.DefaultContext}, __varinfo__::DynamicPPL.UntypedVarInfo{DynamicPPL.Metadata{Dict{AbstractPPL.VarName, Int64}, Vector{Distribution}, Vector{AbstractPPL.VarName}, Vector{Real}, Vector{Set{DynamicPPL.Selector}}}, Float64}, __context__::DynamicPPL.SamplingContext{DynamicPPL.SampleFromPrior, DynamicPPL.DefaultContext, Random._GLOBAL_RNG}, data::Vector{Float64}, cov::Hermitian{Float64, Matrix{Float64}}, meta::LimberJack.Meta, files::Dict{String, Vector})",
      "    @ Main ./In[11]:54",
      "  [5] macro expansion",
      "    @ ~/.julia/packages/DynamicPPL/UFajj/src/model.jl:593 [inlined]",
      "  [6] _evaluate!!",
      "    @ ~/.julia/packages/DynamicPPL/UFajj/src/model.jl:576 [inlined]",
      "  [7] evaluate_threadunsafe!!",
      "    @ ~/.julia/packages/DynamicPPL/UFajj/src/model.jl:551 [inlined]",
      "  [8] evaluate!!",
      "    @ ~/.julia/packages/DynamicPPL/UFajj/src/model.jl:504 [inlined]",
      "  [9] evaluate!!(model::DynamicPPL.Model{typeof(model), (:data, :cov, :meta, :files), (:cov, :meta, :files), (), Tuple{Vector{Float64}, Hermitian{Float64, Matrix{Float64}}, LimberJack.Meta, Dict{String, Vector}}, Tuple{Hermitian{Float64, Matrix{Float64}}, LimberJack.Meta, Dict{String, Vector}}, DynamicPPL.DefaultContext}, rng::Random._GLOBAL_RNG, varinfo::DynamicPPL.UntypedVarInfo{DynamicPPL.Metadata{Dict{AbstractPPL.VarName, Int64}, Vector{Distribution}, Vector{AbstractPPL.VarName}, Vector{Real}, Vector{Set{DynamicPPL.Selector}}}, Float64}, sampler::DynamicPPL.SampleFromPrior, context::DynamicPPL.DefaultContext)",
      "    @ DynamicPPL ~/.julia/packages/DynamicPPL/UFajj/src/model.jl:515",
      " [10] (::DynamicPPL.Model{typeof(model), (:data, :cov, :meta, :files), (:cov, :meta, :files), (), Tuple{Vector{Float64}, Hermitian{Float64, Matrix{Float64}}, LimberJack.Meta, Dict{String, Vector}}, Tuple{Hermitian{Float64, Matrix{Float64}}, LimberJack.Meta, Dict{String, Vector}}, DynamicPPL.DefaultContext})(::Random._GLOBAL_RNG, ::Vararg{Any})",
      "    @ DynamicPPL ~/.julia/packages/DynamicPPL/UFajj/src/model.jl:475",
      " [11] VarInfo",
      "    @ ~/.julia/packages/DynamicPPL/UFajj/src/varinfo.jl:135 [inlined]",
      " [12] VarInfo",
      "    @ ~/.julia/packages/DynamicPPL/UFajj/src/varinfo.jl:147 [inlined]",
      " [13] VarInfo",
      "    @ ~/.julia/packages/DynamicPPL/UFajj/src/varinfo.jl:138 [inlined]",
      " [14] TuringTarget(model::DynamicPPL.Model{typeof(model), (:data, :cov, :meta, :files), (:cov, :meta, :files), (), Tuple{Vector{Float64}, Hermitian{Float64, Matrix{Float64}}, LimberJack.Meta, Dict{String, Vector}}, Tuple{Hermitian{Float64, Matrix{Float64}}, LimberJack.Meta, Dict{String, Vector}}, DynamicPPL.DefaultContext}; kwargs::Base.Pairs{Symbol, Union{}, Tuple{}, NamedTuple{(), Tuple{}}})",
      "    @ MCHMC ~/PhD/MCHMC.jl/src/targets.jl:17",
      " [15] TuringTarget(model::DynamicPPL.Model{typeof(model), (:data, :cov, :meta, :files), (:cov, :meta, :files), (), Tuple{Vector{Float64}, Hermitian{Float64, Matrix{Float64}}, LimberJack.Meta, Dict{String, Vector}}, Tuple{Hermitian{Float64, Matrix{Float64}}, LimberJack.Meta, Dict{String, Vector}}, DynamicPPL.DefaultContext})",
      "    @ MCHMC ~/PhD/MCHMC.jl/src/targets.jl:15",
      " [16] top-level scope",
      "    @ In[14]:1"
     ]
    }
   ],
   "source": [
    "target = TuringTarget(stat_model);"
   ]
  },
  {
   "cell_type": "code",
   "execution_count": 6,
   "id": "a79c2b35",
   "metadata": {},
   "outputs": [
    {
     "ename": "LoadError",
     "evalue": "UndefVarError: `Sampler` not defined",
     "output_type": "error",
     "traceback": [
      "UndefVarError: `Sampler` not defined",
      "",
      "Stacktrace:",
      " [1] top-level scope",
      "   @ In[6]:3"
     ]
    }
   ],
   "source": [
    "eps=0.005\n",
    "L=sqrt(20)\n",
    "mchmc = Sampler(eps=eps, L=L, integrator=\"MN\")"
   ]
  },
  {
   "cell_type": "code",
   "execution_count": 11,
   "id": "82938e27",
   "metadata": {},
   "outputs": [
    {
     "ename": "LoadError",
     "evalue": "UndefVarError: `target` not defined",
     "output_type": "error",
     "traceback": [
      "UndefVarError: `target` not defined",
      "",
      "Stacktrace:",
      " [1] top-level scope",
      "   @ ./timing.jl:273 [inlined]",
      " [2] top-level scope",
      "   @ ./In[11]:0"
     ]
    }
   ],
   "source": [
    "samples_mchmc = Sample(mchmc, target; num_steps=10000);"
   ]
  },
  {
   "cell_type": "code",
   "execution_count": 98,
   "id": "4494e2dd",
   "metadata": {},
   "outputs": [
    {
     "data": {
      "text/plain": [
       "8002-element Vector{Vector{Float64}}:\n",
       " [0.12554358712728442, 0.9919170610886492]\n",
       " [0.12319779248930104, 0.9963238189200965]\n",
       " [0.12171251106765242, 1.0010875623585804]\n",
       " [0.12082395154855315, 1.0059975333398101]\n",
       " [0.12057504441289461, 1.010982067639457]\n",
       " [0.12131286344773692, 1.0159199601641133]\n",
       " [0.12280831188959712, 1.0206861207864422]\n",
       " [0.12514331979144658, 1.0251042716074255]\n",
       " [0.12816240782525776, 1.0290878542496964]\n",
       " [0.13136983280113235, 1.0329225284363854]\n",
       " [0.13480102904212635, 1.0365588473497507]\n",
       " [0.13861375997847533, 1.039792640122339]\n",
       " [0.14275529414670668, 1.042591879143739]\n",
       " ⋮\n",
       " [0.17741380143532282, 0.968877658963651]\n",
       " [0.17852960867857195, 0.973747920635926]\n",
       " [0.1790809532521344, 0.9787105134188931]\n",
       " [0.1792127566314048, 0.983698185262652]\n",
       " [0.17827029361112698, 0.9885896876827096]\n",
       " [0.17555905888317427, 0.9927565852122875]\n",
       " [0.17184744747791225, 0.9960618429906218]\n",
       " [0.16702337995874972, 0.9972953306420679]\n",
       " [0.16203874458101308, 0.9970917289684483]\n",
       " [0.15721327337569452, 0.9958032228427768]\n",
       " [0.1526294879014681, 0.9938133638474523]\n",
       " [0.1483399128052722, 0.9912479330834109]"
      ]
     },
     "execution_count": 98,
     "metadata": {},
     "output_type": "execute_result"
    }
   ],
   "source": [
    "samples_mchmc = samples_mchmc[2000:end]"
   ]
  },
  {
   "cell_type": "markdown",
   "id": "ee35a9d5",
   "metadata": {},
   "source": [
    "## Plotting"
   ]
  },
  {
   "cell_type": "code",
   "execution_count": 85,
   "id": "385a8b1a",
   "metadata": {},
   "outputs": [],
   "source": [
    "Wms_mchmc = [sample[1] for sample in samples_mchmc]\n",
    "s8s_mchmc = [sample[2] for sample in samples_mchmc];"
   ]
  },
  {
   "cell_type": "code",
   "execution_count": 86,
   "id": "2a803eb8",
   "metadata": {},
   "outputs": [
    {
     "data": {
      "image/png": "[encoded data removed]",
      "text/plain": [
       "Figure(PyObject <Figure size 640x480 with 1 Axes>)"
      ]
     },
     "metadata": {},
     "output_type": "display_data"
    }
   ],
   "source": [
    "plt.hist2d(Wms_mchmc, s8s_mchmc, bins=100, range=[[0.1, 0.4],[0.6, 1.2]]);\n",
    "plt.xlabel(\"Wm\")\n",
    "plt.ylabel(\"s8\")\n",
    "plt.title(\"Turing Target\");"
   ]
  },
  {
   "cell_type": "markdown",
   "id": "4aadd3b5",
   "metadata": {},
   "source": [
    "## NUTS"
   ]
  },
  {
   "cell_type": "code",
   "execution_count": 99,
   "id": "dcbe40a3",
   "metadata": {},
   "outputs": [
    {
     "name": "stderr",
     "output_type": "stream",
     "text": [
      "\u001b[36m\u001b[1m┌ \u001b[22m\u001b[39m\u001b[36m\u001b[1mInfo: \u001b[22m\u001b[39mFound initial step size\n",
      "\u001b[36m\u001b[1m└ \u001b[22m\u001b[39m  ϵ = 0.05\n",
      "\u001b[33m\u001b[1m┌ \u001b[22m\u001b[39m\u001b[33m\u001b[1mWarning: \u001b[22m\u001b[39mThe current proposal will be rejected due to numerical error(s).\n",
      "\u001b[33m\u001b[1m│ \u001b[22m\u001b[39m  isfinite.((θ, r, ℓπ, ℓκ)) = (true, false, false, false)\n",
      "\u001b[33m\u001b[1m└ \u001b[22m\u001b[39m\u001b[90m@ AdvancedHMC ~/.julia/packages/AdvancedHMC/4fByY/src/hamiltonian.jl:49\u001b[39m\n",
      "\u001b[33m\u001b[1m┌ \u001b[22m\u001b[39m\u001b[33m\u001b[1mWarning: \u001b[22m\u001b[39mThe current proposal will be rejected due to numerical error(s).\n",
      "\u001b[33m\u001b[1m│ \u001b[22m\u001b[39m  isfinite.((θ, r, ℓπ, ℓκ)) = (true, false, false, false)\n",
      "\u001b[33m\u001b[1m└ \u001b[22m\u001b[39m\u001b[90m@ AdvancedHMC ~/.julia/packages/AdvancedHMC/4fByY/src/hamiltonian.jl:49\u001b[39m\n",
      "\u001b[33m\u001b[1m┌ \u001b[22m\u001b[39m\u001b[33m\u001b[1mWarning: \u001b[22m\u001b[39mThe current proposal will be rejected due to numerical error(s).\n",
      "\u001b[33m\u001b[1m│ \u001b[22m\u001b[39m  isfinite.((θ, r, ℓπ, ℓκ)) = (true, false, false, false)\n",
      "\u001b[33m\u001b[1m└ \u001b[22m\u001b[39m\u001b[90m@ AdvancedHMC ~/.julia/packages/AdvancedHMC/4fByY/src/hamiltonian.jl:49\u001b[39m\n",
      "\u001b[32mSampling: 100%|█████████████████████████████████████████| Time: 0:00:02\u001b[39m\n"
     ]
    },
    {
     "name": "stdout",
     "output_type": "stream",
     "text": [
      "  2.321411 seconds (8.05 M allocations: 6.237 GiB, 19.40% gc time)\n"
     ]
    },
    {
     "data": {
      "text/plain": [
       "Chains MCMC chain (10000×14×1 Array{Float64, 3}):\n",
       "\n",
       "Iterations        = 501:1:10500\n",
       "Number of chains  = 1\n",
       "Samples per chain = 10000\n",
       "Wall duration     = 2.26 seconds\n",
       "Compute duration  = 2.26 seconds\n",
       "parameters        = Ωm, σ8\n",
       "internals         = lp, n_steps, is_accept, acceptance_rate, log_density, hamiltonian_energy, hamiltonian_energy_error, max_hamiltonian_energy_error, tree_depth, numerical_error, step_size, nom_step_size\n",
       "\n",
       "Summary Statistics\n",
       " \u001b[1m parameters \u001b[0m \u001b[1m    mean \u001b[0m \u001b[1m     std \u001b[0m \u001b[1m naive_se \u001b[0m \u001b[1m    mcse \u001b[0m \u001b[1m       ess \u001b[0m \u001b[1m    rhat \u001b[0m \u001b[1m \u001b[0m ⋯\n",
       " \u001b[90m     Symbol \u001b[0m \u001b[90m Float64 \u001b[0m \u001b[90m Float64 \u001b[0m \u001b[90m  Float64 \u001b[0m \u001b[90m Float64 \u001b[0m \u001b[90m   Float64 \u001b[0m \u001b[90m Float64 \u001b[0m \u001b[90m \u001b[0m ⋯\n",
       "\n",
       "          Ωm    0.2333    0.0604     0.0006    0.0012   2702.3852    1.0007    ⋯\n",
       "          σ8    0.8668    0.0596     0.0006    0.0010   2961.9687    1.0012    ⋯\n",
       "\u001b[36m                                                                1 column omitted\u001b[0m\n",
       "\n",
       "Quantiles\n",
       " \u001b[1m parameters \u001b[0m \u001b[1m    2.5% \u001b[0m \u001b[1m   25.0% \u001b[0m \u001b[1m   50.0% \u001b[0m \u001b[1m   75.0% \u001b[0m \u001b[1m   97.5% \u001b[0m\n",
       " \u001b[90m     Symbol \u001b[0m \u001b[90m Float64 \u001b[0m \u001b[90m Float64 \u001b[0m \u001b[90m Float64 \u001b[0m \u001b[90m Float64 \u001b[0m \u001b[90m Float64 \u001b[0m\n",
       "\n",
       "          Ωm    0.1333    0.1881    0.2265    0.2732    0.3678\n",
       "          σ8    0.7600    0.8250    0.8634    0.9053    0.9918\n"
      ]
     },
     "execution_count": 99,
     "metadata": {},
     "output_type": "execute_result"
    }
   ],
   "source": [
    "@time samples_hmc = sample(stat_model, NUTS(500, 0.65),\n",
    "                  10000, progress=true; save_state=true)"
   ]
  },
  {
   "cell_type": "code",
   "execution_count": 88,
   "id": "fa9db828",
   "metadata": {},
   "outputs": [],
   "source": [
    "Wms_hmc = vec(samples_hmc[\"Ωm\"])\n",
    "s8s_hmc = vec(samples_hmc[\"σ8\"]);"
   ]
  },
  {
   "cell_type": "code",
   "execution_count": 89,
   "id": "3d063a52",
   "metadata": {},
   "outputs": [
    {
     "data": {
      "image/png": "[encoded data removed]",
      "text/plain": [
       "Figure(PyObject <Figure size 640x480 with 1 Axes>)"
      ]
     },
     "metadata": {},
     "output_type": "display_data"
    }
   ],
   "source": [
    "plt.hist2d(Wms_hmc, s8s_hmc, bins=100, range=[[0.1, 0.4],[0.6, 1.2]]);\n",
    "plt.xlabel(\"Wm\")\n",
    "plt.ylabel(\"s8\")\n",
    "plt.title(\"Turing Target\");"
   ]
  },
  {
   "cell_type": "code",
   "execution_count": 90,
   "id": "936eb78c",
   "metadata": {},
   "outputs": [
    {
     "data": {
      "image/png": "[encoded data removed]",
      "text/plain": [
       "Figure(PyObject <Figure size 640x480 with 1 Axes>)"
      ]
     },
     "metadata": {},
     "output_type": "display_data"
    },
    {
     "data": {
      "text/plain": [
       "([196.0, 827.0, 1504.0, 1983.0, 1820.0, 1424.0, 995.0, 606.0, 422.0, 223.0], [0.10011538396676943, 0.12997272691551753, 0.15983006986426565, 0.18968741281301377, 0.21954475576176186, 0.24940209871051, 0.2792594416592581, 0.3091167846080062, 0.3389741275567543, 0.3688314705055024, 0.39868881345425056], (PyObject <matplotlib.patches.Rectangle object at 0x7f3b46eec490>, PyObject <matplotlib.patches.Rectangle object at 0x7f3b46edc220>, PyObject <matplotlib.patches.Rectangle object at 0x7f3b46eec8b0>, PyObject <matplotlib.patches.Rectangle object at 0x7f3b46eecaf0>, PyObject <matplotlib.patches.Rectangle object at 0x7f3b46eeccd0>, PyObject <matplotlib.patches.Rectangle object at 0x7f3b46eeceb0>, PyObject <matplotlib.patches.Rectangle object at 0x7f3b46eecfa0>, PyObject <matplotlib.patches.Rectangle object at 0x7f3b46e4b2b0>, PyObject <matplotlib.patches.Rectangle object at 0x7f3b46e4b490>, PyObject <matplotlib.patches.Rectangle object at 0x7f3b46e4b670>))"
      ]
     },
     "execution_count": 90,
     "metadata": {},
     "output_type": "execute_result"
    }
   ],
   "source": [
    "plt.hist(Wms_mchmc)\n",
    "plt.hist(Wms_hmc)"
   ]
  },
  {
   "cell_type": "code",
   "execution_count": 91,
   "id": "0b8ce1ad",
   "metadata": {},
   "outputs": [
    {
     "data": {
      "image/png": "[encoded data removed]",
      "text/plain": [
       "Figure(PyObject <Figure size 640x480 with 1 Axes>)"
      ]
     },
     "metadata": {},
     "output_type": "display_data"
    },
    {
     "data": {
      "text/plain": [
       "([29.0, 402.0, 1452.0, 2671.0, 2638.0, 1729.0, 750.0, 264.0, 53.0, 12.0], [0.6851745091383957, 0.7281292743987308, 0.7710840396590658, 0.814038804919401, 0.856993570179736, 0.899948335440071, 0.9429031007004061, 0.9858578659607411, 1.0288126312210761, 1.0717673964814112, 1.1147221617417462], (PyObject <matplotlib.patches.Rectangle object at 0x7f3b4d9bc0a0>, PyObject <matplotlib.patches.Rectangle object at 0x7f3b4da4dc10>, PyObject <matplotlib.patches.Rectangle object at 0x7f3b4da2c160>, PyObject <matplotlib.patches.Rectangle object at 0x7f3b4da2cfa0>, PyObject <matplotlib.patches.Rectangle object at 0x7f3b4d9cdb50>, PyObject <matplotlib.patches.Rectangle object at 0x7f3b4d9cdd90>, PyObject <matplotlib.patches.Rectangle object at 0x7f3b4d9b1340>, PyObject <matplotlib.patches.Rectangle object at 0x7f3b4d9b1c10>, PyObject <matplotlib.patches.Rectangle object at 0x7f3b4d9b15e0>, PyObject <matplotlib.patches.Rectangle object at 0x7f3b4d9d9a30>))"
      ]
     },
     "execution_count": 91,
     "metadata": {},
     "output_type": "execute_result"
    }
   ],
   "source": [
    "plt.hist(s8s_mchmc)\n",
    "plt.hist(s8s_hmc)"
   ]
  },
  {
   "cell_type": "code",
   "execution_count": 92,
   "id": "d0aae2ec",
   "metadata": {},
   "outputs": [],
   "source": [
    "using AverageShiftedHistograms, Plots"
   ]
  },
  {
   "cell_type": "code",
   "execution_count": 93,
   "id": "36f24ece",
   "metadata": {},
   "outputs": [],
   "source": [
    "Wm_hmc_ker = ash(Wms_hmc; m=30)\n",
    "s8_hmc_ker = ash(s8s_hmc; m=30)\n",
    "Wm_mchmc_ker = ash(Wms_mchmc; m=30)\n",
    "s8_mchmc_ker = ash(s8s_mchmc; m=30);"
   ]
  },
  {
   "cell_type": "code",
   "execution_count": 94,
   "id": "d9be1fbf",
   "metadata": {},
   "outputs": [
    {
     "data": {
      "image/svg+xml": [
       "<?xml version=\"1.0\" encoding=\"utf-8\"?>\n",
       "<svg xmlns=\"http://www.w3.org/2000/svg\" xmlns:xlink=\"http://www.w3.org/1999/xlink\" width=\"600\" height=\"400\" viewBox=\"0 0 2400 1600\">\n",
       "<defs>\n",
       "  <clipPath id=\"clip600\">\n",
       "    <rect x=\"0\" y=\"0\" width=\"2400\" height=\"1600\"/>\n",
       "  </clipPath>\n",
       "</defs>\n",
       "<path clip-path=\"url(#clip600)\" d=\"\n",
       "M0 1600 L2400 1600 L2400 0 L0 0  Z\n",
       "  \" fill=\"#ffffff\" fill-rule=\"evenodd\" fill-opacity=\"1\"/>\n",
       "<defs>\n",
       "  <clipPath id=\"clip601\">\n",
       "    <rect x=\"480\" y=\"0\" width=\"1681\" height=\"1600\"/>\n",
       "  </clipPath>\n",
       "</defs>\n",
       "<path clip-path=\"url(#clip600)\" d=\"\n",
       "M112.177 1423.18 L2352.76 1423.18 L2352.76 47.2441 L112.177 47.2441  Z\n",
       "  \" fill=\"#ffffff\" fill-rule=\"evenodd\" fill-opacity=\"1\"/>\n",
       "<defs>\n",
       "  <clipPath id=\"clip602\">\n",
       "    <rect x=\"112\" y=\"47\" width=\"2242\" height=\"1377\"/>\n",
       "  </clipPath>\n",
       "</defs>\n",
       "<polyline clip-path=\"url(#clip602)\" style=\"stroke:#000000; stroke-linecap:round; stroke-linejoin:round; stroke-width:2; stroke-opacity:0.1; fill:none\" points=\"\n",
       "  230.846,1423.18 230.846,47.2441 \n",
       "  \"/>\n",
       "<polyline clip-path=\"url(#clip602)\" style=\"stroke:#000000; stroke-linecap:round; stroke-linejoin:round; stroke-width:2; stroke-opacity:0.1; fill:none\" points=\"\n",
       "  767.313,1423.18 767.313,47.2441 \n",
       "  \"/>\n",
       "<polyline clip-path=\"url(#clip602)\" style=\"stroke:#000000; stroke-linecap:round; stroke-linejoin:round; stroke-width:2; stroke-opacity:0.1; fill:none\" points=\"\n",
       "  1303.78,1423.18 1303.78,47.2441 \n",
       "  \"/>\n",
       "<polyline clip-path=\"url(#clip602)\" style=\"stroke:#000000; stroke-linecap:round; stroke-linejoin:round; stroke-width:2; stroke-opacity:0.1; fill:none\" points=\"\n",
       "  1840.25,1423.18 1840.25,47.2441 \n",
       "  \"/>\n",
       "<polyline clip-path=\"url(#clip600)\" style=\"stroke:#000000; stroke-linecap:round; stroke-linejoin:round; stroke-width:4; stroke-opacity:1; fill:none\" points=\"\n",
       "  112.177,1423.18 2352.76,1423.18 \n",
       "  \"/>\n",
       "<polyline clip-path=\"url(#clip600)\" style=\"stroke:#000000; stroke-linecap:round; stroke-linejoin:round; stroke-width:4; stroke-opacity:1; fill:none\" points=\"\n",
       "  230.846,1423.18 230.846,1404.28 \n",
       "  \"/>\n",
       "<polyline clip-path=\"url(#clip600)\" style=\"stroke:#000000; stroke-linecap:round; stroke-linejoin:round; stroke-width:4; stroke-opacity:1; fill:none\" points=\"\n",
       "  767.313,1423.18 767.313,1404.28 \n",
       "  \"/>\n",
       "<polyline clip-path=\"url(#clip600)\" style=\"stroke:#000000; stroke-linecap:round; stroke-linejoin:round; stroke-width:4; stroke-opacity:1; fill:none\" points=\"\n",
       "  1303.78,1423.18 1303.78,1404.28 \n",
       "  \"/>\n",
       "<polyline clip-path=\"url(#clip600)\" style=\"stroke:#000000; stroke-linecap:round; stroke-linejoin:round; stroke-width:4; stroke-opacity:1; fill:none\" points=\"\n",
       "  1840.25,1423.18 1840.25,1404.28 \n",
       "  \"/>\n",
       "<path clip-path=\"url(#clip600)\" d=\"M208.843 1454.1 Q205.232 1454.1 203.404 1457.66 Q201.598 1461.2 201.598 1468.33 Q201.598 1475.44 203.404 1479.01 Q205.232 1482.55 208.843 1482.55 Q212.478 1482.55 214.283 1479.01 Q216.112 1475.44 216.112 1468.33 Q216.112 1461.2 214.283 1457.66 Q212.478 1454.1 208.843 1454.1 M208.843 1450.39 Q214.654 1450.39 217.709 1455 Q220.788 1459.58 220.788 1468.33 Q220.788 1477.06 217.709 1481.67 Q214.654 1486.25 208.843 1486.25 Q203.033 1486.25 199.955 1481.67 Q196.899 1477.06 196.899 1468.33 Q196.899 1459.58 199.955 1455 Q203.033 1450.39 208.843 1450.39 Z\" fill=\"#000000\" fill-rule=\"evenodd\" fill-opacity=\"1\" /><path clip-path=\"url(#clip600)\" d=\"M229.005 1479.7 L233.89 1479.7 L233.89 1485.58 L229.005 1485.58 L229.005 1479.7 Z\" fill=\"#000000\" fill-rule=\"evenodd\" fill-opacity=\"1\" /><path clip-path=\"url(#clip600)\" d=\"M244.885 1481.64 L252.524 1481.64 L252.524 1455.28 L244.214 1456.95 L244.214 1452.69 L252.478 1451.02 L257.153 1451.02 L257.153 1481.64 L264.792 1481.64 L264.792 1485.58 L244.885 1485.58 L244.885 1481.64 Z\" fill=\"#000000\" fill-rule=\"evenodd\" fill-opacity=\"1\" /><path clip-path=\"url(#clip600)\" d=\"M745.496 1454.1 Q741.885 1454.1 740.057 1457.66 Q738.251 1461.2 738.251 1468.33 Q738.251 1475.44 740.057 1479.01 Q741.885 1482.55 745.496 1482.55 Q749.131 1482.55 750.936 1479.01 Q752.765 1475.44 752.765 1468.33 Q752.765 1461.2 750.936 1457.66 Q749.131 1454.1 745.496 1454.1 M745.496 1450.39 Q751.307 1450.39 754.362 1455 Q757.441 1459.58 757.441 1468.33 Q757.441 1477.06 754.362 1481.67 Q751.307 1486.25 745.496 1486.25 Q739.686 1486.25 736.608 1481.67 Q733.552 1477.06 733.552 1468.33 Q733.552 1459.58 736.608 1455 Q739.686 1450.39 745.496 1450.39 Z\" fill=\"#000000\" fill-rule=\"evenodd\" fill-opacity=\"1\" /><path clip-path=\"url(#clip600)\" d=\"M765.658 1479.7 L770.543 1479.7 L770.543 1485.58 L765.658 1485.58 L765.658 1479.7 Z\" fill=\"#000000\" fill-rule=\"evenodd\" fill-opacity=\"1\" /><path clip-path=\"url(#clip600)\" d=\"M784.755 1481.64 L801.075 1481.64 L801.075 1485.58 L779.131 1485.58 L779.131 1481.64 Q781.793 1478.89 786.376 1474.26 Q790.982 1469.61 792.163 1468.27 Q794.408 1465.74 795.288 1464.01 Q796.191 1462.25 796.191 1460.56 Q796.191 1457.8 794.246 1456.07 Q792.325 1454.33 789.223 1454.33 Q787.024 1454.33 784.57 1455.09 Q782.14 1455.86 779.362 1457.41 L779.362 1452.69 Q782.186 1451.55 784.64 1450.97 Q787.093 1450.39 789.13 1450.39 Q794.501 1450.39 797.695 1453.08 Q800.89 1455.77 800.89 1460.26 Q800.89 1462.39 800.079 1464.31 Q799.292 1466.2 797.186 1468.8 Q796.607 1469.47 793.505 1472.69 Q790.404 1475.88 784.755 1481.64 Z\" fill=\"#000000\" fill-rule=\"evenodd\" fill-opacity=\"1\" /><path clip-path=\"url(#clip600)\" d=\"M1281.49 1454.1 Q1277.88 1454.1 1276.05 1457.66 Q1274.24 1461.2 1274.24 1468.33 Q1274.24 1475.44 1276.05 1479.01 Q1277.88 1482.55 1281.49 1482.55 Q1285.12 1482.55 1286.93 1479.01 Q1288.76 1475.44 1288.76 1468.33 Q1288.76 1461.2 1286.93 1457.66 Q1285.12 1454.1 1281.49 1454.1 M1281.49 1450.39 Q1287.3 1450.39 1290.36 1455 Q1293.43 1459.58 1293.43 1468.33 Q1293.43 1477.06 1290.36 1481.67 Q1287.3 1486.25 1281.49 1486.25 Q1275.68 1486.25 1272.6 1481.67 Q1269.55 1477.06 1269.55 1468.33 Q1269.55 1459.58 1272.6 1455 Q1275.68 1450.39 1281.49 1450.39 Z\" fill=\"#000000\" fill-rule=\"evenodd\" fill-opacity=\"1\" /><path clip-path=\"url(#clip600)\" d=\"M1301.65 1479.7 L1306.54 1479.7 L1306.54 1485.58 L1301.65 1485.58 L1301.65 1479.7 Z\" fill=\"#000000\" fill-rule=\"evenodd\" fill-opacity=\"1\" /><path clip-path=\"url(#clip600)\" d=\"M1330.89 1466.95 Q1334.24 1467.66 1336.12 1469.93 Q1338.02 1472.2 1338.02 1475.53 Q1338.02 1480.65 1334.5 1483.45 Q1330.98 1486.25 1324.5 1486.25 Q1322.32 1486.25 1320.01 1485.81 Q1317.72 1485.39 1315.26 1484.54 L1315.26 1480.02 Q1317.21 1481.16 1319.52 1481.74 Q1321.84 1482.32 1324.36 1482.32 Q1328.76 1482.32 1331.05 1480.58 Q1333.36 1478.84 1333.36 1475.53 Q1333.36 1472.48 1331.21 1470.77 Q1329.08 1469.03 1325.26 1469.03 L1321.23 1469.03 L1321.23 1465.19 L1325.45 1465.19 Q1328.9 1465.19 1330.73 1463.82 Q1332.55 1462.43 1332.55 1459.84 Q1332.55 1457.18 1330.66 1455.77 Q1328.78 1454.33 1325.26 1454.33 Q1323.34 1454.33 1321.14 1454.75 Q1318.94 1455.16 1316.3 1456.04 L1316.3 1451.88 Q1318.97 1451.14 1321.28 1450.77 Q1323.62 1450.39 1325.68 1450.39 Q1331 1450.39 1334.11 1452.83 Q1337.21 1455.23 1337.21 1459.35 Q1337.21 1462.22 1335.56 1464.21 Q1333.92 1466.18 1330.89 1466.95 Z\" fill=\"#000000\" fill-rule=\"evenodd\" fill-opacity=\"1\" /><path clip-path=\"url(#clip600)\" d=\"M1817.39 1454.1 Q1813.78 1454.1 1811.95 1457.66 Q1810.14 1461.2 1810.14 1468.33 Q1810.14 1475.44 1811.95 1479.01 Q1813.78 1482.55 1817.39 1482.55 Q1821.02 1482.55 1822.83 1479.01 Q1824.66 1475.44 1824.66 1468.33 Q1824.66 1461.2 1822.83 1457.66 Q1821.02 1454.1 1817.39 1454.1 M1817.39 1450.39 Q1823.2 1450.39 1826.26 1455 Q1829.33 1459.58 1829.33 1468.33 Q1829.33 1477.06 1826.26 1481.67 Q1823.2 1486.25 1817.39 1486.25 Q1811.58 1486.25 1808.5 1481.67 Q1805.45 1477.06 1805.45 1468.33 Q1805.45 1459.58 1808.5 1455 Q1811.58 1450.39 1817.39 1450.39 Z\" fill=\"#000000\" fill-rule=\"evenodd\" fill-opacity=\"1\" /><path clip-path=\"url(#clip600)\" d=\"M1837.55 1479.7 L1842.44 1479.7 L1842.44 1485.58 L1837.55 1485.58 L1837.55 1479.7 Z\" fill=\"#000000\" fill-rule=\"evenodd\" fill-opacity=\"1\" /><path clip-path=\"url(#clip600)\" d=\"M1865.47 1455.09 L1853.66 1473.54 L1865.47 1473.54 L1865.47 1455.09 M1864.24 1451.02 L1870.12 1451.02 L1870.12 1473.54 L1875.05 1473.54 L1875.05 1477.43 L1870.12 1477.43 L1870.12 1485.58 L1865.47 1485.58 L1865.47 1477.43 L1849.87 1477.43 L1849.87 1472.92 L1864.24 1451.02 Z\" fill=\"#000000\" fill-rule=\"evenodd\" fill-opacity=\"1\" /><path clip-path=\"url(#clip600)\" d=\"M1172.34 1520.52 L1178.84 1520.52 L1188.83 1560.69 L1198.79 1520.52 L1206.02 1520.52 L1216.01 1560.69 L1225.97 1520.52 L1232.5 1520.52 L1220.56 1568.04 L1212.48 1568.04 L1202.45 1526.79 L1192.33 1568.04 L1184.25 1568.04 L1172.34 1520.52 Z\" fill=\"#000000\" fill-rule=\"evenodd\" fill-opacity=\"1\" /><path clip-path=\"url(#clip600)\" d=\"M1268.53 1539.24 Q1270.72 1535.29 1273.78 1533.41 Q1276.84 1531.54 1280.97 1531.54 Q1286.54 1531.54 1289.57 1535.45 Q1292.59 1539.33 1292.59 1546.53 L1292.59 1568.04 L1286.7 1568.04 L1286.7 1546.72 Q1286.7 1541.59 1284.89 1539.11 Q1283.07 1536.63 1279.35 1536.63 Q1274.8 1536.63 1272.16 1539.65 Q1269.51 1542.68 1269.51 1547.9 L1269.51 1568.04 L1263.63 1568.04 L1263.63 1546.72 Q1263.63 1541.56 1261.81 1539.11 Q1260 1536.63 1256.21 1536.63 Q1251.72 1536.63 1249.08 1539.68 Q1246.44 1542.71 1246.44 1547.9 L1246.44 1568.04 L1240.55 1568.04 L1240.55 1532.4 L1246.44 1532.4 L1246.44 1537.93 Q1248.44 1534.66 1251.25 1533.1 Q1254.05 1531.54 1257.9 1531.54 Q1261.78 1531.54 1264.49 1533.51 Q1267.22 1535.48 1268.53 1539.24 Z\" fill=\"#000000\" fill-rule=\"evenodd\" fill-opacity=\"1\" /><polyline clip-path=\"url(#clip602)\" style=\"stroke:#000000; stroke-linecap:round; stroke-linejoin:round; stroke-width:2; stroke-opacity:0.1; fill:none\" points=\"\n",
       "  112.177,1391.33 2352.76,1391.33 \n",
       "  \"/>\n",
       "<polyline clip-path=\"url(#clip602)\" style=\"stroke:#000000; stroke-linecap:round; stroke-linejoin:round; stroke-width:2; stroke-opacity:0.1; fill:none\" points=\"\n",
       "  112.177,1198 2352.76,1198 \n",
       "  \"/>\n",
       "<polyline clip-path=\"url(#clip602)\" style=\"stroke:#000000; stroke-linecap:round; stroke-linejoin:round; stroke-width:2; stroke-opacity:0.1; fill:none\" points=\"\n",
       "  112.177,1004.67 2352.76,1004.67 \n",
       "  \"/>\n",
       "<polyline clip-path=\"url(#clip602)\" style=\"stroke:#000000; stroke-linecap:round; stroke-linejoin:round; stroke-width:2; stroke-opacity:0.1; fill:none\" points=\"\n",
       "  112.177,811.331 2352.76,811.331 \n",
       "  \"/>\n",
       "<polyline clip-path=\"url(#clip602)\" style=\"stroke:#000000; stroke-linecap:round; stroke-linejoin:round; stroke-width:2; stroke-opacity:0.1; fill:none\" points=\"\n",
       "  112.177,617.996 2352.76,617.996 \n",
       "  \"/>\n",
       "<polyline clip-path=\"url(#clip602)\" style=\"stroke:#000000; stroke-linecap:round; stroke-linejoin:round; stroke-width:2; stroke-opacity:0.1; fill:none\" points=\"\n",
       "  112.177,424.661 2352.76,424.661 \n",
       "  \"/>\n",
       "<polyline clip-path=\"url(#clip602)\" style=\"stroke:#000000; stroke-linecap:round; stroke-linejoin:round; stroke-width:2; stroke-opacity:0.1; fill:none\" points=\"\n",
       "  112.177,231.327 2352.76,231.327 \n",
       "  \"/>\n",
       "<polyline clip-path=\"url(#clip600)\" style=\"stroke:#000000; stroke-linecap:round; stroke-linejoin:round; stroke-width:4; stroke-opacity:1; fill:none\" points=\"\n",
       "  112.177,1423.18 112.177,47.2441 \n",
       "  \"/>\n",
       "<polyline clip-path=\"url(#clip600)\" style=\"stroke:#000000; stroke-linecap:round; stroke-linejoin:round; stroke-width:4; stroke-opacity:1; fill:none\" points=\"\n",
       "  112.177,1391.33 131.075,1391.33 \n",
       "  \"/>\n",
       "<polyline clip-path=\"url(#clip600)\" style=\"stroke:#000000; stroke-linecap:round; stroke-linejoin:round; stroke-width:4; stroke-opacity:1; fill:none\" points=\"\n",
       "  112.177,1198 131.075,1198 \n",
       "  \"/>\n",
       "<polyline clip-path=\"url(#clip600)\" style=\"stroke:#000000; stroke-linecap:round; stroke-linejoin:round; stroke-width:4; stroke-opacity:1; fill:none\" points=\"\n",
       "  112.177,1004.67 131.075,1004.67 \n",
       "  \"/>\n",
       "<polyline clip-path=\"url(#clip600)\" style=\"stroke:#000000; stroke-linecap:round; stroke-linejoin:round; stroke-width:4; stroke-opacity:1; fill:none\" points=\"\n",
       "  112.177,811.331 131.075,811.331 \n",
       "  \"/>\n",
       "<polyline clip-path=\"url(#clip600)\" style=\"stroke:#000000; stroke-linecap:round; stroke-linejoin:round; stroke-width:4; stroke-opacity:1; fill:none\" points=\"\n",
       "  112.177,617.996 131.075,617.996 \n",
       "  \"/>\n",
       "<polyline clip-path=\"url(#clip600)\" style=\"stroke:#000000; stroke-linecap:round; stroke-linejoin:round; stroke-width:4; stroke-opacity:1; fill:none\" points=\"\n",
       "  112.177,424.661 131.075,424.661 \n",
       "  \"/>\n",
       "<polyline clip-path=\"url(#clip600)\" style=\"stroke:#000000; stroke-linecap:round; stroke-linejoin:round; stroke-width:4; stroke-opacity:1; fill:none\" points=\"\n",
       "  112.177,231.327 131.075,231.327 \n",
       "  \"/>\n",
       "<path clip-path=\"url(#clip600)\" d=\"M64.2328 1377.13 Q60.6217 1377.13 58.793 1380.7 Q56.9875 1384.24 56.9875 1391.37 Q56.9875 1398.48 58.793 1402.04 Q60.6217 1405.58 64.2328 1405.58 Q67.867 1405.58 69.6726 1402.04 Q71.5013 1398.48 71.5013 1391.37 Q71.5013 1384.24 69.6726 1380.7 Q67.867 1377.13 64.2328 1377.13 M64.2328 1373.43 Q70.0429 1373.43 73.0985 1378.04 Q76.1772 1382.62 76.1772 1391.37 Q76.1772 1400.1 73.0985 1404.7 Q70.0429 1409.29 64.2328 1409.29 Q58.4226 1409.29 55.344 1404.7 Q52.2884 1400.1 52.2884 1391.37 Q52.2884 1382.62 55.344 1378.04 Q58.4226 1373.43 64.2328 1373.43 Z\" fill=\"#000000\" fill-rule=\"evenodd\" fill-opacity=\"1\" /><path clip-path=\"url(#clip600)\" d=\"M56.2699 1211.34 L63.9087 1211.34 L63.9087 1184.98 L55.5986 1186.65 L55.5986 1182.39 L63.8624 1180.72 L68.5383 1180.72 L68.5383 1211.34 L76.1772 1211.34 L76.1772 1215.28 L56.2699 1215.28 L56.2699 1211.34 Z\" fill=\"#000000\" fill-rule=\"evenodd\" fill-opacity=\"1\" /><path clip-path=\"url(#clip600)\" d=\"M59.8578 1018.01 L76.1772 1018.01 L76.1772 1021.95 L54.2328 1021.95 L54.2328 1018.01 Q56.8949 1015.26 61.4782 1010.63 Q66.0846 1005.97 67.2652 1004.63 Q69.5105 1002.11 70.3902 1000.37 Q71.2929 998.612 71.2929 996.922 Q71.2929 994.168 69.3485 992.431 Q67.4272 990.695 64.3254 990.695 Q62.1263 990.695 59.6726 991.459 Q57.2421 992.223 54.4643 993.774 L54.4643 989.052 Q57.2884 987.918 59.7421 987.339 Q62.1958 986.76 64.2328 986.76 Q69.6031 986.76 72.7976 989.445 Q75.992 992.131 75.992 996.621 Q75.992 998.751 75.1818 1000.67 Q74.3948 1002.57 72.2883 1005.16 Q71.7096 1005.83 68.6078 1009.05 Q65.5059 1012.25 59.8578 1018.01 Z\" fill=\"#000000\" fill-rule=\"evenodd\" fill-opacity=\"1\" /><path clip-path=\"url(#clip600)\" d=\"M69.0476 809.976 Q72.404 810.694 74.279 812.963 Q76.1772 815.231 76.1772 818.564 Q76.1772 823.68 72.6587 826.481 Q69.1402 829.282 62.6587 829.282 Q60.4828 829.282 58.168 828.842 Q55.8764 828.425 53.4227 827.569 L53.4227 823.055 Q55.3671 824.189 57.6819 824.768 Q59.9967 825.347 62.5198 825.347 Q66.918 825.347 69.2096 823.611 Q71.5244 821.875 71.5244 818.564 Q71.5244 815.509 69.3717 813.796 Q67.242 812.06 63.4226 812.06 L59.3949 812.06 L59.3949 808.217 L63.6078 808.217 Q67.0569 808.217 68.8855 806.851 Q70.7142 805.463 70.7142 802.87 Q70.7142 800.208 68.8161 798.796 Q66.9411 797.361 63.4226 797.361 Q61.5013 797.361 59.3023 797.777 Q57.1032 798.194 54.4643 799.074 L54.4643 794.907 Q57.1264 794.166 59.4412 793.796 Q61.7791 793.426 63.8393 793.426 Q69.1633 793.426 72.2652 795.856 Q75.367 798.264 75.367 802.384 Q75.367 805.254 73.7235 807.245 Q72.08 809.213 69.0476 809.976 Z\" fill=\"#000000\" fill-rule=\"evenodd\" fill-opacity=\"1\" /><path clip-path=\"url(#clip600)\" d=\"M66.5939 604.79 L54.7884 623.239 L66.5939 623.239 L66.5939 604.79 M65.367 600.716 L71.2466 600.716 L71.2466 623.239 L76.1772 623.239 L76.1772 627.128 L71.2466 627.128 L71.2466 635.276 L66.5939 635.276 L66.5939 627.128 L50.9921 627.128 L50.9921 622.614 L65.367 600.716 Z\" fill=\"#000000\" fill-rule=\"evenodd\" fill-opacity=\"1\" /><path clip-path=\"url(#clip600)\" d=\"M55.2745 407.381 L73.6309 407.381 L73.6309 411.317 L59.5569 411.317 L59.5569 419.789 Q60.5754 419.441 61.5939 419.279 Q62.6124 419.094 63.6309 419.094 Q69.418 419.094 72.7976 422.266 Q76.1772 425.437 76.1772 430.853 Q76.1772 436.432 72.705 439.534 Q69.2328 442.613 62.9134 442.613 Q60.7374 442.613 58.4689 442.242 Q56.2236 441.872 53.8162 441.131 L53.8162 436.432 Q55.8995 437.566 58.1217 438.122 Q60.3439 438.677 62.8208 438.677 Q66.8254 438.677 69.1633 436.571 Q71.5013 434.465 71.5013 430.853 Q71.5013 427.242 69.1633 425.136 Q66.8254 423.029 62.8208 423.029 Q60.9458 423.029 59.0708 423.446 Q57.2189 423.863 55.2745 424.742 L55.2745 407.381 Z\" fill=\"#000000\" fill-rule=\"evenodd\" fill-opacity=\"1\" /><path clip-path=\"url(#clip600)\" d=\"M64.6495 229.463 Q61.5013 229.463 59.6495 231.616 Q57.8208 233.769 57.8208 237.519 Q57.8208 241.246 59.6495 243.422 Q61.5013 245.574 64.6495 245.574 Q67.7976 245.574 69.6263 243.422 Q71.4781 241.246 71.4781 237.519 Q71.4781 233.769 69.6263 231.616 Q67.7976 229.463 64.6495 229.463 M73.9318 214.811 L73.9318 219.07 Q72.1726 218.237 70.367 217.797 Q68.5846 217.357 66.8254 217.357 Q62.1958 217.357 59.7421 220.482 Q57.3115 223.607 56.9643 229.926 Q58.33 227.912 60.3902 226.848 Q62.4504 225.76 64.9272 225.76 Q70.1355 225.76 73.1448 228.931 Q76.1772 232.079 76.1772 237.519 Q76.1772 242.843 73.029 246.06 Q69.8809 249.278 64.6495 249.278 Q58.6541 249.278 55.4828 244.695 Q52.3116 240.088 52.3116 231.361 Q52.3116 223.167 56.2004 218.306 Q60.0893 213.422 66.6402 213.422 Q68.3994 213.422 70.1818 213.769 Q71.9874 214.116 73.9318 214.811 Z\" fill=\"#000000\" fill-rule=\"evenodd\" fill-opacity=\"1\" /><polyline clip-path=\"url(#clip602)\" style=\"stroke:#009af9; stroke-linecap:round; stroke-linejoin:round; stroke-width:8; stroke-opacity:1; fill:none\" points=\"\n",
       "  175.59,1379.83 179.826,1378.32 184.062,1376.64 188.298,1374.8 192.534,1372.8 196.77,1370.65 201.006,1368.36 205.242,1365.93 209.478,1363.37 213.714,1360.65 \n",
       "  217.95,1357.8 222.186,1354.83 226.422,1351.77 230.658,1348.57 234.893,1345.21 239.129,1341.69 243.365,1337.99 247.601,1334.14 251.837,1330.12 256.073,1325.89 \n",
       "  260.309,1321.47 264.545,1316.86 268.781,1312.06 273.017,1307.03 277.253,1301.82 281.489,1296.43 285.725,1290.88 289.961,1285.18 294.197,1279.29 298.433,1273.2 \n",
       "  302.669,1266.9 306.905,1260.36 311.141,1253.53 315.377,1246.36 319.613,1238.8 323.849,1230.86 328.085,1222.55 332.321,1213.89 336.557,1204.89 340.793,1195.52 \n",
       "  345.029,1185.77 349.265,1175.66 353.501,1165.22 357.737,1154.49 361.973,1143.53 366.209,1132.37 370.445,1121 374.681,1109.44 378.917,1097.73 383.153,1085.93 \n",
       "  387.389,1074.09 391.625,1062.22 395.861,1050.34 400.097,1038.4 404.333,1026.35 408.569,1014.2 412.805,1001.92 417.041,989.512 421.277,977.001 425.513,964.369 \n",
       "  429.749,951.64 433.985,938.896 438.22,926.163 442.456,913.47 446.692,900.825 450.928,888.197 455.164,875.555 459.4,862.878 463.636,850.173 467.872,837.478 \n",
       "  472.108,824.78 476.344,812.053 480.58,799.264 484.816,786.427 489.052,773.557 493.288,760.634 497.524,747.656 501.76,734.572 505.996,721.355 510.232,708.038 \n",
       "  514.468,694.63 518.704,681.1 522.94,667.454 527.176,653.756 531.412,640.041 535.648,626.318 539.884,612.595 544.12,598.89 548.356,585.24 552.592,571.684 \n",
       "  556.828,558.246 561.064,544.868 565.3,531.552 569.536,518.406 573.772,505.487 578.008,492.836 582.244,480.479 586.48,468.387 590.716,456.58 594.952,445.124 \n",
       "  599.188,434.13 603.424,423.675 607.66,413.762 611.896,404.366 616.132,395.436 620.368,386.963 624.604,379 628.84,371.54 633.076,364.529 637.311,357.888 \n",
       "  641.547,351.513 645.783,345.345 650.019,339.292 654.255,333.33 658.491,327.522 662.727,321.868 666.963,316.341 671.199,310.941 675.435,305.693 679.671,300.622 \n",
       "  683.907,295.733 688.143,290.957 692.379,286.213 696.615,281.393 700.851,276.439 705.087,271.404 709.323,266.376 713.559,261.412 717.795,256.486 722.031,251.589 \n",
       "  726.267,246.746 730.503,241.965 734.739,237.278 738.975,232.724 743.211,228.328 747.447,224.132 751.683,220.172 755.919,216.538 760.155,213.329 764.391,210.582 \n",
       "  768.627,208.333 772.863,206.634 777.099,205.543 781.335,205.085 785.571,205.231 789.807,205.952 794.043,207.203 798.279,208.936 802.515,211.173 806.751,213.885 \n",
       "  810.987,216.973 815.223,220.476 819.459,224.419 823.695,228.735 827.931,233.385 832.167,238.28 836.403,243.314 840.638,248.447 844.874,253.613 849.11,258.783 \n",
       "  853.346,263.882 857.582,268.803 861.818,273.518 866.054,278.02 870.29,282.289 874.526,286.281 878.762,289.985 882.998,293.426 887.234,296.568 891.47,299.346 \n",
       "  895.706,301.76 899.942,303.863 904.178,305.756 908.414,307.512 912.65,309.082 916.886,310.434 921.122,311.643 925.358,312.779 929.594,313.851 933.83,314.834 \n",
       "  938.066,315.706 942.302,316.497 946.538,317.305 950.774,318.307 955.01,319.638 959.246,321.292 963.482,323.208 967.718,325.367 971.954,327.85 976.19,330.734 \n",
       "  980.426,334.034 984.662,337.749 988.898,341.879 993.134,346.431 997.37,351.401 1001.61,356.815 1005.84,362.7 1010.08,369.028 1014.31,375.748 1018.55,382.827 \n",
       "  1022.79,390.241 1027.02,398 1031.26,406.067 1035.49,414.372 1039.73,422.866 1043.97,431.49 1048.2,440.225 1052.44,449.07 1056.67,457.93 1060.91,466.746 \n",
       "  1065.15,475.525 1069.38,484.211 1073.62,492.753 1077.85,501.096 1082.09,509.212 1086.33,517.17 1090.56,525.018 1094.8,532.699 1099.03,540.183 1103.27,547.454 \n",
       "  1107.51,554.501 1111.74,561.332 1115.98,567.958 1120.21,574.356 1124.45,580.48 1128.69,586.365 1132.92,592.005 1137.16,597.337 1141.39,602.383 1145.63,607.191 \n",
       "  1149.86,611.799 1154.1,616.278 1158.34,620.662 1162.57,624.915 1166.81,629.059 1171.04,633.162 1175.28,637.246 1179.52,641.315 1183.75,645.365 1187.99,649.436 \n",
       "  1192.22,653.576 1196.46,657.81 1200.7,662.135 1204.93,666.51 1209.17,670.937 1213.4,675.462 1217.64,680.101 1221.88,684.841 1226.11,689.652 1230.35,694.535 \n",
       "  1234.58,699.533 1238.82,704.677 1243.06,709.952 1247.29,715.331 1251.53,720.837 1255.76,726.467 1260,732.213 1264.24,738.091 1268.47,744.104 1272.71,750.287 \n",
       "  1276.94,756.661 1281.18,763.193 1285.42,769.906 1289.65,776.838 1293.89,783.99 1298.12,791.368 1302.36,798.947 1306.6,806.702 1310.83,814.646 1315.07,822.742 \n",
       "  1319.3,830.925 1323.54,839.152 1327.78,847.382 1332.01,855.622 1336.25,863.872 1340.48,872.016 1344.72,879.987 1348.96,887.825 1353.19,895.574 1357.43,903.237 \n",
       "  1361.66,910.809 1365.9,918.268 1370.14,925.532 1374.37,932.593 1378.61,939.503 1382.84,946.25 1387.08,952.811 1391.32,959.208 1395.55,965.43 1399.79,971.491 \n",
       "  1404.02,977.426 1408.26,983.166 1412.5,988.633 1416.73,993.836 1420.97,998.802 1425.2,1003.54 1429.44,1008.04 1433.68,1012.29 1437.91,1016.28 1442.15,1019.98 \n",
       "  1446.38,1023.4 1450.62,1026.52 1454.86,1029.34 1459.09,1031.86 1463.33,1034.05 1467.56,1035.86 1471.8,1037.34 1476.04,1038.6 1480.27,1039.71 1484.51,1040.67 \n",
       "  1488.74,1041.49 1492.98,1042.21 1497.22,1042.86 1501.45,1043.53 1505.69,1044.22 1509.92,1045.01 1514.16,1045.92 1518.4,1046.98 1522.63,1048.21 1526.87,1049.62 \n",
       "  1531.1,1051.26 1535.34,1053.14 1539.58,1055.27 1543.81,1057.6 1548.05,1060.1 1552.28,1062.78 1556.52,1065.64 1560.75,1068.69 1564.99,1071.9 1569.23,1075.25 \n",
       "  1573.46,1078.71 1577.7,1082.27 1581.93,1085.94 1586.17,1089.68 1590.41,1093.43 1594.64,1097.19 1598.88,1100.95 1603.11,1104.69 1607.35,1108.41 1611.59,1112.11 \n",
       "  1615.82,1115.76 1620.06,1119.33 1624.29,1122.82 1628.53,1126.23 1632.77,1129.58 1637,1132.83 1641.24,1135.99 1645.47,1139.03 1649.71,1141.94 1653.95,1144.7 \n",
       "  1658.18,1147.28 1662.42,1149.69 1666.65,1151.93 1670.89,1154.04 1675.13,1156.04 1679.36,1157.89 1683.6,1159.6 1687.83,1161.18 1692.07,1162.62 1696.31,1163.94 \n",
       "  1700.54,1165.19 1704.78,1166.37 1709.01,1167.52 1713.25,1168.65 1717.49,1169.81 1721.72,1171.04 1725.96,1172.37 1730.19,1173.79 1734.43,1175.31 1738.67,1176.91 \n",
       "  1742.9,1178.59 1747.14,1180.35 1751.37,1182.21 1755.61,1184.19 1759.85,1186.31 1764.08,1188.53 1768.32,1190.87 1772.55,1193.32 1776.79,1195.92 1781.03,1198.63 \n",
       "  1785.26,1201.44 1789.5,1204.31 1793.73,1207.2 1797.97,1210.11 1802.21,1213.05 1806.44,1216.02 1810.68,1219.02 1814.91,1222.03 1819.15,1225 1823.39,1227.91 \n",
       "  1827.62,1230.77 1831.86,1233.6 1836.09,1236.4 1840.33,1239.15 1844.57,1241.86 1848.8,1244.53 1853.04,1247.18 1857.27,1249.79 1861.51,1252.33 1865.75,1254.78 \n",
       "  1869.98,1257.12 1874.22,1259.36 1878.45,1261.56 1882.69,1263.7 1886.93,1265.79 1891.16,1267.84 1895.4,1269.85 1899.63,1271.81 1903.87,1273.75 1908.11,1275.69 \n",
       "  1912.34,1277.65 1916.58,1279.64 1920.81,1281.66 1925.05,1283.71 1929.29,1285.79 1933.52,1287.92 1937.76,1290.11 1941.99,1292.38 1946.23,1294.7 1950.46,1297.08 \n",
       "  1954.7,1299.51 1958.94,1301.99 1963.17,1304.53 1967.41,1307.14 1971.64,1309.81 1975.88,1312.52 1980.12,1315.26 1984.35,1318.04 1988.59,1320.85 1992.82,1323.69 \n",
       "  1997.06,1326.56 2001.3,1329.46 2005.53,1332.35 2009.77,1335.23 2014,1338.09 2018.24,1340.92 2022.48,1343.72 2026.71,1346.44 2030.95,1349.08 2035.18,1351.62 \n",
       "  2039.42,1354.05 2043.66,1356.39 2047.89,1358.64 2052.13,1360.8 2056.36,1362.84 2060.6,1364.77 2064.84,1366.57 2069.07,1368.25 2073.31,1369.81 2077.54,1371.23 \n",
       "  2081.78,1372.53 2086.02,1373.71 2090.25,1374.76 2094.49,1375.7 2098.72,1376.51 2102.96,1377.21 2107.2,1377.79 2111.43,1378.27 2115.67,1378.66 2119.9,1378.98 \n",
       "  2124.14,1379.24 2128.38,1379.42 2132.61,1379.53 2136.85,1379.57 2141.08,1379.55 2145.32,1379.46 2149.56,1379.32 2153.79,1379.14 2158.03,1378.94 2162.26,1378.71 \n",
       "  2166.5,1378.47 2170.74,1378.24 2174.97,1378.03 2179.21,1377.85 2183.44,1377.69 2187.68,1377.57 2191.92,1377.48 2196.15,1377.42 2200.39,1377.38 2204.62,1377.38 \n",
       "  2208.86,1377.42 2213.1,1377.5 2217.33,1377.62 2221.57,1377.77 2225.8,1377.95 2230.04,1378.17 2234.28,1378.43 2238.51,1378.73 2242.75,1379.07 2246.98,1379.43 \n",
       "  2251.22,1379.82 2255.46,1380.23 2259.69,1380.67 2263.93,1381.13 2268.16,1381.62 2272.4,1382.13 2276.64,1382.64 2280.87,1383.16 2285.11,1383.7 2289.34,1384.24 \n",
       "  \n",
       "  \"/>\n",
       "<polyline clip-path=\"url(#clip602)\" style=\"stroke:#e26f46; stroke-linecap:round; stroke-linejoin:round; stroke-width:8; stroke-opacity:1; fill:none\" points=\"\n",
       "  199.035,1381.94 202.375,1380.65 205.715,1379.23 209.054,1377.7 212.394,1376.04 215.734,1374.27 219.074,1372.37 222.414,1370.36 225.754,1368.25 229.094,1366.06 \n",
       "  232.434,1363.77 235.774,1361.39 239.114,1358.88 242.453,1356.25 245.793,1353.5 249.133,1350.63 252.473,1347.62 255.813,1344.51 259.153,1341.27 262.493,1337.92 \n",
       "  265.833,1334.47 269.173,1330.89 272.513,1327.19 275.852,1323.32 279.192,1319.32 282.532,1315.18 285.872,1310.9 289.212,1306.5 292.552,1301.94 295.892,1297.21 \n",
       "  299.232,1292.32 302.572,1287.32 305.912,1282.2 309.251,1276.98 312.591,1271.67 315.931,1266.28 319.271,1260.8 322.611,1255.21 325.951,1249.52 329.291,1243.71 \n",
       "  332.631,1237.74 335.971,1231.61 339.311,1225.34 342.65,1218.89 345.99,1212.26 349.33,1205.4 352.67,1198.29 356.01,1190.91 359.35,1183.31 362.69,1175.51 \n",
       "  366.03,1167.5 369.37,1159.27 372.71,1150.85 376.049,1142.25 379.389,1133.52 382.729,1124.68 386.069,1115.75 389.409,1106.65 392.749,1097.38 396.089,1087.98 \n",
       "  399.429,1078.45 402.769,1068.78 406.109,1058.95 409.448,1048.96 412.788,1038.79 416.128,1028.48 419.468,1018.03 422.808,1007.49 426.148,996.879 429.488,986.201 \n",
       "  432.828,975.433 436.168,964.599 439.508,953.744 442.847,942.895 446.187,932.036 449.527,921.164 452.867,910.288 456.207,899.383 459.547,888.449 462.887,877.523 \n",
       "  466.227,866.634 469.567,855.812 472.907,845.096 476.246,834.49 479.586,823.954 482.926,813.524 486.266,803.282 489.606,793.275 492.946,783.526 496.286,774.04 \n",
       "  499.626,764.775 502.966,755.697 506.306,746.818 509.645,738.153 512.985,729.683 516.325,721.322 519.665,712.967 523.005,704.515 526.345,695.923 529.685,687.22 \n",
       "  533.025,678.403 536.365,669.449 539.705,660.348 543.044,651.139 546.384,641.852 549.724,632.516 553.064,623.218 556.404,614.028 559.744,604.916 563.084,595.819 \n",
       "  566.424,586.776 569.764,577.846 573.104,568.994 576.443,560.136 579.783,551.201 583.123,542.168 586.463,533.147 589.803,524.205 593.143,515.337 596.483,506.541 \n",
       "  599.823,497.808 603.163,489.124 606.503,480.456 609.842,471.804 613.182,463.185 616.522,454.593 619.862,446.007 623.202,437.416 626.542,428.783 629.882,420.086 \n",
       "  633.222,411.371 636.562,402.629 639.902,393.841 643.241,385.04 646.581,376.221 649.921,367.391 653.261,358.567 656.601,349.826 659.941,341.239 663.281,332.818 \n",
       "  666.621,324.602 669.961,316.566 673.301,308.645 676.64,300.869 679.98,293.293 683.32,285.856 686.66,278.457 690,271.074 693.34,263.662 696.68,256.183 \n",
       "  700.02,248.68 703.36,241.146 706.7,233.507 710.039,225.704 713.379,217.713 716.719,209.589 720.059,201.418 723.399,193.289 726.739,185.253 730.079,177.358 \n",
       "  733.419,169.679 736.759,162.253 740.099,155.164 743.438,148.481 746.778,142.215 750.118,136.341 753.458,130.801 756.798,125.598 760.138,120.81 763.478,116.471 \n",
       "  766.818,112.512 770.158,108.853 773.498,105.485 776.837,102.467 780.177,99.8749 783.517,97.6797 786.857,95.74 790.197,94.0116 793.537,92.5208 796.877,91.2374 \n",
       "  800.217,90.0634 803.557,88.9605 806.897,87.9978 810.236,87.2108 813.576,86.6324 816.916,86.297 820.256,86.1857 823.596,86.2692 826.936,86.5402 830.276,87.0192 \n",
       "  833.616,87.724 836.956,88.715 840.296,90.0545 843.635,91.7379 846.975,93.7875 850.315,96.2246 853.655,98.9983 856.995,102.003 860.335,105.13 863.675,108.303 \n",
       "  867.015,111.403 870.355,114.432 873.695,117.459 877.034,120.449 880.374,123.375 883.714,126.275 887.054,129.22 890.394,132.204 893.734,135.29 897.074,138.579 \n",
       "  900.414,142.082 903.754,145.813 907.094,149.727 910.433,153.755 913.773,157.918 917.113,162.236 920.453,166.716 923.793,171.368 927.133,176.194 930.473,181.148 \n",
       "  933.813,186.19 937.153,191.287 940.493,196.317 943.832,201.182 947.172,205.896 950.512,210.506 953.852,215.061 957.192,219.548 960.532,223.887 963.872,228.028 \n",
       "  967.212,231.976 970.552,235.78 973.892,239.454 977.231,242.985 980.571,246.33 983.911,249.523 987.251,252.667 990.591,255.768 993.931,258.79 997.271,261.723 \n",
       "  1000.61,264.643 1003.95,267.633 1007.29,270.743 1010.63,274.034 1013.97,277.495 1017.31,281.073 1020.65,284.789 1023.99,288.69 1027.33,292.802 1030.67,297.154 \n",
       "  1034.01,301.774 1037.35,306.656 1040.69,311.737 1044.03,316.952 1047.37,322.266 1050.71,327.679 1054.05,333.256 1057.39,339.025 1060.73,344.984 1064.07,351.179 \n",
       "  1067.41,357.705 1070.75,364.597 1074.09,371.788 1077.43,379.265 1080.77,387.036 1084.11,395.105 1087.45,403.456 1090.79,412.072 1094.13,420.947 1097.47,430.034 \n",
       "  1100.81,439.3 1104.15,448.729 1107.49,458.317 1110.83,468.045 1114.17,477.855 1117.51,487.716 1120.85,497.565 1124.19,507.325 1127.53,516.873 1130.87,526.109 \n",
       "  1134.21,534.991 1137.55,543.485 1140.89,551.654 1144.23,559.566 1147.57,567.237 1150.91,574.723 1154.25,582.066 1157.59,589.188 1160.93,596.032 1164.27,602.619 \n",
       "  1167.61,608.937 1170.95,614.989 1174.29,620.824 1177.63,626.469 1180.97,631.949 1184.31,637.28 1187.65,642.432 1190.99,647.408 1194.32,652.213 1197.66,656.844 \n",
       "  1201,661.31 1204.34,665.633 1207.68,669.785 1211.02,673.67 1214.36,677.274 1217.7,680.676 1221.04,683.952 1224.38,687.147 1227.72,690.298 1231.06,693.447 \n",
       "  1234.4,696.6 1237.74,699.728 1241.08,702.863 1244.42,706.042 1247.76,709.287 1251.1,712.602 1254.44,715.972 1257.78,719.474 1261.12,723.187 1264.46,727.129 \n",
       "  1267.8,731.286 1271.14,735.599 1274.48,740.09 1277.82,744.787 1281.16,749.714 1284.5,754.904 1287.84,760.339 1291.18,765.963 1294.52,771.713 1297.86,777.573 \n",
       "  1301.2,783.497 1304.54,789.44 1307.88,795.455 1311.22,801.61 1314.56,807.888 1317.9,814.236 1321.24,820.629 1324.58,827.047 1327.92,833.539 1331.26,840.171 \n",
       "  1334.6,846.937 1337.94,853.859 1341.28,860.925 1344.62,868.06 1347.96,875.194 1351.3,882.23 1354.64,889.035 1357.98,895.606 1361.32,901.961 1364.66,908.078 \n",
       "  1368,914.005 1371.34,919.768 1374.68,925.325 1378.02,930.644 1381.36,935.691 1384.7,940.438 1388.04,944.891 1391.38,949.087 1394.72,953.094 1398.06,956.96 \n",
       "  1401.4,960.712 1404.74,964.364 1408.08,967.935 1411.42,971.494 1414.76,975.087 1418.1,978.697 1421.44,982.304 1424.78,985.895 1428.12,989.449 1431.46,992.962 \n",
       "  1434.8,996.417 1438.14,999.807 1441.48,1003.13 1444.82,1006.4 1448.16,1009.63 1451.5,1012.84 1454.84,1016.04 1458.18,1019.16 1461.52,1022.19 1464.86,1025.13 \n",
       "  1468.2,1027.98 1471.54,1030.75 1474.88,1033.45 1478.22,1036.15 1481.56,1038.88 1484.9,1041.63 1488.24,1044.42 1491.58,1047.26 1494.92,1050.22 1498.26,1053.31 \n",
       "  1501.6,1056.49 1504.94,1059.72 1508.28,1062.94 1511.62,1066.12 1514.96,1069.25 1518.3,1072.28 1521.64,1075.19 1524.98,1078 1528.31,1080.7 1531.65,1083.27 \n",
       "  1534.99,1085.71 1538.33,1088.04 1541.67,1090.24 1545.01,1092.34 1548.35,1094.35 1551.69,1096.28 1555.03,1098.16 1558.37,1100.04 1561.71,1101.94 1565.05,1103.89 \n",
       "  1568.39,1105.9 1571.73,1107.96 1575.07,1110.04 1578.41,1112.15 1581.75,1114.32 1585.09,1116.6 1588.43,1118.99 1591.77,1121.47 1595.11,1124 1598.45,1126.6 \n",
       "  1601.79,1129.26 1605.13,1131.94 1608.47,1134.61 1611.81,1137.26 1615.15,1139.85 1618.49,1142.38 1621.83,1144.89 1625.17,1147.38 1628.51,1149.86 1631.85,1152.31 \n",
       "  1635.19,1154.72 1638.53,1157.12 1641.87,1159.5 1645.21,1161.88 1648.55,1164.25 1651.89,1166.63 1655.23,1169.03 1658.57,1171.5 1661.91,1174.05 1665.25,1176.68 \n",
       "  1668.59,1179.4 1671.93,1182.23 1675.27,1185.21 1678.61,1188.3 1681.95,1191.49 1685.29,1194.74 1688.63,1198.05 1691.97,1201.41 1695.31,1204.85 1698.65,1208.31 \n",
       "  1701.99,1211.76 1705.33,1215.18 1708.67,1218.56 1712.01,1221.84 1715.35,1225.01 1718.69,1228.04 1722.03,1230.95 1725.37,1233.73 1728.71,1236.4 1732.05,1238.99 \n",
       "  1735.39,1241.49 1738.73,1243.91 1742.07,1246.28 1745.41,1248.6 1748.75,1250.9 1752.09,1253.22 1755.43,1255.56 1758.77,1257.93 1762.11,1260.33 1765.45,1262.77 \n",
       "  1768.79,1265.26 1772.13,1267.8 1775.47,1270.41 1778.81,1273.13 1782.15,1275.93 1785.49,1278.83 1788.83,1281.8 1792.17,1284.86 1795.51,1288.01 1798.85,1291.22 \n",
       "  1802.19,1294.47 1805.53,1297.77 1808.87,1301.13 1812.21,1304.55 1815.55,1308.06 1818.89,1311.63 1822.23,1315.24 1825.57,1318.89 1828.91,1322.56 1832.25,1326.28 \n",
       "  1835.59,1330.03 1838.93,1333.82 1842.27,1337.66 1845.61,1341.54 1848.95,1345.42 1852.29,1349.3 1855.63,1353.13 1858.97,1356.88 1862.3,1360.52 1865.64,1364.05 \n",
       "  \n",
       "  \"/>\n",
       "<path clip-path=\"url(#clip600)\" d=\"\n",
       "M1877.58 248.629 L2278.07 248.629 L2278.07 93.1086 L1877.58 93.1086  Z\n",
       "  \" fill=\"#ffffff\" fill-rule=\"evenodd\" fill-opacity=\"1\"/>\n",
       "<polyline clip-path=\"url(#clip600)\" style=\"stroke:#000000; stroke-linecap:round; stroke-linejoin:round; stroke-width:4; stroke-opacity:1; fill:none\" points=\"\n",
       "  1877.58,248.629 2278.07,248.629 2278.07,93.1086 1877.58,93.1086 1877.58,248.629 \n",
       "  \"/>\n",
       "<polyline clip-path=\"url(#clip600)\" style=\"stroke:#009af9; stroke-linecap:round; stroke-linejoin:round; stroke-width:8; stroke-opacity:1; fill:none\" points=\"\n",
       "  1902.47,144.949 2051.85,144.949 \n",
       "  \"/>\n",
       "<path clip-path=\"url(#clip600)\" d=\"M2076.74 127.669 L2083.71 127.669 L2092.53 151.187 L2101.39 127.669 L2108.36 127.669 L2108.36 162.229 L2103.8 162.229 L2103.8 131.882 L2094.89 155.585 L2090.19 155.585 L2081.28 131.882 L2081.28 162.229 L2076.74 162.229 L2076.74 127.669 Z\" fill=\"#000000\" fill-rule=\"evenodd\" fill-opacity=\"1\" /><path clip-path=\"url(#clip600)\" d=\"M2143.52 130.331 L2143.52 135.261 Q2141.16 133.062 2138.48 131.974 Q2135.81 130.886 2132.8 130.886 Q2126.88 130.886 2123.73 134.52 Q2120.58 138.132 2120.58 144.983 Q2120.58 151.812 2123.73 155.446 Q2126.88 159.057 2132.8 159.057 Q2135.81 159.057 2138.48 157.969 Q2141.16 156.881 2143.52 154.682 L2143.52 159.567 Q2141.07 161.233 2138.31 162.067 Q2135.58 162.9 2132.53 162.9 Q2124.68 162.9 2120.17 158.108 Q2115.65 153.293 2115.65 144.983 Q2115.65 136.65 2120.17 131.858 Q2124.68 127.044 2132.53 127.044 Q2135.63 127.044 2138.36 127.877 Q2141.12 128.687 2143.52 130.331 Z\" fill=\"#000000\" fill-rule=\"evenodd\" fill-opacity=\"1\" /><path clip-path=\"url(#clip600)\" d=\"M2150.74 127.669 L2155.42 127.669 L2155.42 141.835 L2172.41 141.835 L2172.41 127.669 L2177.09 127.669 L2177.09 162.229 L2172.41 162.229 L2172.41 145.77 L2155.42 145.77 L2155.42 162.229 L2150.74 162.229 L2150.74 127.669 Z\" fill=\"#000000\" fill-rule=\"evenodd\" fill-opacity=\"1\" /><path clip-path=\"url(#clip600)\" d=\"M2186.39 127.669 L2193.36 127.669 L2202.18 151.187 L2211.05 127.669 L2218.01 127.669 L2218.01 162.229 L2213.45 162.229 L2213.45 131.882 L2204.54 155.585 L2199.84 155.585 L2190.93 131.882 L2190.93 162.229 L2186.39 162.229 L2186.39 127.669 Z\" fill=\"#000000\" fill-rule=\"evenodd\" fill-opacity=\"1\" /><path clip-path=\"url(#clip600)\" d=\"M2253.17 130.331 L2253.17 135.261 Q2250.81 133.062 2248.13 131.974 Q2245.47 130.886 2242.46 130.886 Q2236.53 130.886 2233.38 134.52 Q2230.23 138.132 2230.23 144.983 Q2230.23 151.812 2233.38 155.446 Q2236.53 159.057 2242.46 159.057 Q2245.47 159.057 2248.13 157.969 Q2250.81 156.881 2253.17 154.682 L2253.17 159.567 Q2250.72 161.233 2247.97 162.067 Q2245.23 162.9 2242.18 162.9 Q2234.33 162.9 2229.82 158.108 Q2225.3 153.293 2225.3 144.983 Q2225.3 136.65 2229.82 131.858 Q2234.33 127.044 2242.18 127.044 Q2245.28 127.044 2248.01 127.877 Q2250.77 128.687 2253.17 130.331 Z\" fill=\"#000000\" fill-rule=\"evenodd\" fill-opacity=\"1\" /><polyline clip-path=\"url(#clip600)\" style=\"stroke:#e26f46; stroke-linecap:round; stroke-linejoin:round; stroke-width:8; stroke-opacity:1; fill:none\" points=\"\n",
       "  1902.47,196.789 2051.85,196.789 \n",
       "  \"/>\n",
       "<path clip-path=\"url(#clip600)\" d=\"M2076.74 179.509 L2081.42 179.509 L2081.42 193.675 L2098.41 193.675 L2098.41 179.509 L2103.08 179.509 L2103.08 214.069 L2098.41 214.069 L2098.41 197.61 L2081.42 197.61 L2081.42 214.069 L2076.74 214.069 L2076.74 179.509 Z\" fill=\"#000000\" fill-rule=\"evenodd\" fill-opacity=\"1\" /><path clip-path=\"url(#clip600)\" d=\"M2112.39 179.509 L2119.36 179.509 L2128.18 203.027 L2137.04 179.509 L2144.01 179.509 L2144.01 214.069 L2139.45 214.069 L2139.45 183.722 L2130.54 207.425 L2125.84 207.425 L2116.93 183.722 L2116.93 214.069 L2112.39 214.069 L2112.39 179.509 Z\" fill=\"#000000\" fill-rule=\"evenodd\" fill-opacity=\"1\" /><path clip-path=\"url(#clip600)\" d=\"M2179.17 182.171 L2179.17 187.101 Q2176.81 184.902 2174.12 183.814 Q2171.46 182.726 2168.45 182.726 Q2162.53 182.726 2159.38 186.36 Q2156.23 189.972 2156.23 196.823 Q2156.23 203.652 2159.38 207.286 Q2162.53 210.897 2168.45 210.897 Q2171.46 210.897 2174.12 209.809 Q2176.81 208.721 2179.17 206.522 L2179.17 211.407 Q2176.72 213.073 2173.96 213.907 Q2171.23 214.74 2168.18 214.74 Q2160.33 214.74 2155.81 209.948 Q2151.3 205.133 2151.3 196.823 Q2151.3 188.49 2155.81 183.698 Q2160.33 178.884 2168.18 178.884 Q2171.28 178.884 2174.01 179.717 Q2176.76 180.527 2179.17 182.171 Z\" fill=\"#000000\" fill-rule=\"evenodd\" fill-opacity=\"1\" /></svg>\n"
      ]
     },
     "execution_count": 94,
     "metadata": {},
     "output_type": "execute_result"
    }
   ],
   "source": [
    "Plots.plot(Wm_mchmc_ker; hist=false, label=\"MCHMC\")\n",
    "Plots.plot!(Wm_hmc_ker; hist=false, label=\"HMC\", xlabel=\"Wm\")"
   ]
  },
  {
   "cell_type": "code",
   "execution_count": 95,
   "id": "0059664f",
   "metadata": {},
   "outputs": [
    {
     "data": {
      "image/svg+xml": [
       "<?xml version=\"1.0\" encoding=\"utf-8\"?>\n",
       "<svg xmlns=\"http://www.w3.org/2000/svg\" xmlns:xlink=\"http://www.w3.org/1999/xlink\" width=\"600\" height=\"400\" viewBox=\"0 0 2400 1600\">\n",
       "<defs>\n",
       "  <clipPath id=\"clip640\">\n",
       "    <rect x=\"0\" y=\"0\" width=\"2400\" height=\"1600\"/>\n",
       "  </clipPath>\n",
       "</defs>\n",
       "<path clip-path=\"url(#clip640)\" d=\"\n",
       "M0 1600 L2400 1600 L2400 0 L0 0  Z\n",
       "  \" fill=\"#ffffff\" fill-rule=\"evenodd\" fill-opacity=\"1\"/>\n",
       "<defs>\n",
       "  <clipPath id=\"clip641\">\n",
       "    <rect x=\"480\" y=\"0\" width=\"1681\" height=\"1600\"/>\n",
       "  </clipPath>\n",
       "</defs>\n",
       "<path clip-path=\"url(#clip640)\" d=\"\n",
       "M112.177 1423.18 L2352.76 1423.18 L2352.76 47.2441 L112.177 47.2441  Z\n",
       "  \" fill=\"#ffffff\" fill-rule=\"evenodd\" fill-opacity=\"1\"/>\n",
       "<defs>\n",
       "  <clipPath id=\"clip642\">\n",
       "    <rect x=\"112\" y=\"47\" width=\"2242\" height=\"1377\"/>\n",
       "  </clipPath>\n",
       "</defs>\n",
       "<polyline clip-path=\"url(#clip642)\" style=\"stroke:#000000; stroke-linecap:round; stroke-linejoin:round; stroke-width:2; stroke-opacity:0.1; fill:none\" points=\"\n",
       "  275.154,1423.18 275.154,47.2441 \n",
       "  \"/>\n",
       "<polyline clip-path=\"url(#clip642)\" style=\"stroke:#000000; stroke-linecap:round; stroke-linejoin:round; stroke-width:2; stroke-opacity:0.1; fill:none\" points=\"\n",
       "  753.934,1423.18 753.934,47.2441 \n",
       "  \"/>\n",
       "<polyline clip-path=\"url(#clip642)\" style=\"stroke:#000000; stroke-linecap:round; stroke-linejoin:round; stroke-width:2; stroke-opacity:0.1; fill:none\" points=\"\n",
       "  1232.71,1423.18 1232.71,47.2441 \n",
       "  \"/>\n",
       "<polyline clip-path=\"url(#clip642)\" style=\"stroke:#000000; stroke-linecap:round; stroke-linejoin:round; stroke-width:2; stroke-opacity:0.1; fill:none\" points=\"\n",
       "  1711.49,1423.18 1711.49,47.2441 \n",
       "  \"/>\n",
       "<polyline clip-path=\"url(#clip642)\" style=\"stroke:#000000; stroke-linecap:round; stroke-linejoin:round; stroke-width:2; stroke-opacity:0.1; fill:none\" points=\"\n",
       "  2190.27,1423.18 2190.27,47.2441 \n",
       "  \"/>\n",
       "<polyline clip-path=\"url(#clip640)\" style=\"stroke:#000000; stroke-linecap:round; stroke-linejoin:round; stroke-width:4; stroke-opacity:1; fill:none\" points=\"\n",
       "  112.177,1423.18 2352.76,1423.18 \n",
       "  \"/>\n",
       "<polyline clip-path=\"url(#clip640)\" style=\"stroke:#000000; stroke-linecap:round; stroke-linejoin:round; stroke-width:4; stroke-opacity:1; fill:none\" points=\"\n",
       "  275.154,1423.18 275.154,1404.28 \n",
       "  \"/>\n",
       "<polyline clip-path=\"url(#clip640)\" style=\"stroke:#000000; stroke-linecap:round; stroke-linejoin:round; stroke-width:4; stroke-opacity:1; fill:none\" points=\"\n",
       "  753.934,1423.18 753.934,1404.28 \n",
       "  \"/>\n",
       "<polyline clip-path=\"url(#clip640)\" style=\"stroke:#000000; stroke-linecap:round; stroke-linejoin:round; stroke-width:4; stroke-opacity:1; fill:none\" points=\"\n",
       "  1232.71,1423.18 1232.71,1404.28 \n",
       "  \"/>\n",
       "<polyline clip-path=\"url(#clip640)\" style=\"stroke:#000000; stroke-linecap:round; stroke-linejoin:round; stroke-width:4; stroke-opacity:1; fill:none\" points=\"\n",
       "  1711.49,1423.18 1711.49,1404.28 \n",
       "  \"/>\n",
       "<polyline clip-path=\"url(#clip640)\" style=\"stroke:#000000; stroke-linecap:round; stroke-linejoin:round; stroke-width:4; stroke-opacity:1; fill:none\" points=\"\n",
       "  2190.27,1423.18 2190.27,1404.28 \n",
       "  \"/>\n",
       "<path clip-path=\"url(#clip640)\" d=\"M252.99 1454.1 Q249.379 1454.1 247.55 1457.66 Q245.744 1461.2 245.744 1468.33 Q245.744 1475.44 247.55 1479.01 Q249.379 1482.55 252.99 1482.55 Q256.624 1482.55 258.429 1479.01 Q260.258 1475.44 260.258 1468.33 Q260.258 1461.2 258.429 1457.66 Q256.624 1454.1 252.99 1454.1 M252.99 1450.39 Q258.8 1450.39 261.855 1455 Q264.934 1459.58 264.934 1468.33 Q264.934 1477.06 261.855 1481.67 Q258.8 1486.25 252.99 1486.25 Q247.18 1486.25 244.101 1481.67 Q241.045 1477.06 241.045 1468.33 Q241.045 1459.58 244.101 1455 Q247.18 1450.39 252.99 1450.39 Z\" fill=\"#000000\" fill-rule=\"evenodd\" fill-opacity=\"1\" /><path clip-path=\"url(#clip640)\" d=\"M273.152 1479.7 L278.036 1479.7 L278.036 1485.58 L273.152 1485.58 L273.152 1479.7 Z\" fill=\"#000000\" fill-rule=\"evenodd\" fill-opacity=\"1\" /><path clip-path=\"url(#clip640)\" d=\"M287.04 1451.02 L309.263 1451.02 L309.263 1453.01 L296.716 1485.58 L291.832 1485.58 L303.638 1454.96 L287.04 1454.96 L287.04 1451.02 Z\" fill=\"#000000\" fill-rule=\"evenodd\" fill-opacity=\"1\" /><path clip-path=\"url(#clip640)\" d=\"M731.365 1454.1 Q727.753 1454.1 725.925 1457.66 Q724.119 1461.2 724.119 1468.33 Q724.119 1475.44 725.925 1479.01 Q727.753 1482.55 731.365 1482.55 Q734.999 1482.55 736.804 1479.01 Q738.633 1475.44 738.633 1468.33 Q738.633 1461.2 736.804 1457.66 Q734.999 1454.1 731.365 1454.1 M731.365 1450.39 Q737.175 1450.39 740.23 1455 Q743.309 1459.58 743.309 1468.33 Q743.309 1477.06 740.23 1481.67 Q737.175 1486.25 731.365 1486.25 Q725.554 1486.25 722.476 1481.67 Q719.42 1477.06 719.42 1468.33 Q719.42 1459.58 722.476 1455 Q725.554 1450.39 731.365 1450.39 Z\" fill=\"#000000\" fill-rule=\"evenodd\" fill-opacity=\"1\" /><path clip-path=\"url(#clip640)\" d=\"M751.527 1479.7 L756.411 1479.7 L756.411 1485.58 L751.527 1485.58 L751.527 1479.7 Z\" fill=\"#000000\" fill-rule=\"evenodd\" fill-opacity=\"1\" /><path clip-path=\"url(#clip640)\" d=\"M776.596 1469.17 Q773.263 1469.17 771.341 1470.95 Q769.443 1472.73 769.443 1475.86 Q769.443 1478.98 771.341 1480.77 Q773.263 1482.55 776.596 1482.55 Q779.929 1482.55 781.85 1480.77 Q783.772 1478.96 783.772 1475.86 Q783.772 1472.73 781.85 1470.95 Q779.952 1469.17 776.596 1469.17 M771.92 1467.18 Q768.911 1466.44 767.221 1464.38 Q765.554 1462.32 765.554 1459.35 Q765.554 1455.21 768.494 1452.8 Q771.457 1450.39 776.596 1450.39 Q781.758 1450.39 784.698 1452.8 Q787.637 1455.21 787.637 1459.35 Q787.637 1462.32 785.948 1464.38 Q784.281 1466.44 781.295 1467.18 Q784.674 1467.96 786.549 1470.26 Q788.448 1472.55 788.448 1475.86 Q788.448 1480.88 785.369 1483.57 Q782.313 1486.25 776.596 1486.25 Q770.878 1486.25 767.8 1483.57 Q764.744 1480.88 764.744 1475.86 Q764.744 1472.55 766.642 1470.26 Q768.54 1467.96 771.92 1467.18 M770.207 1459.79 Q770.207 1462.48 771.874 1463.98 Q773.563 1465.49 776.596 1465.49 Q779.605 1465.49 781.295 1463.98 Q783.008 1462.48 783.008 1459.79 Q783.008 1457.11 781.295 1455.6 Q779.605 1454.1 776.596 1454.1 Q773.563 1454.1 771.874 1455.6 Q770.207 1457.11 770.207 1459.79 Z\" fill=\"#000000\" fill-rule=\"evenodd\" fill-opacity=\"1\" /><path clip-path=\"url(#clip640)\" d=\"M1210.19 1454.1 Q1206.58 1454.1 1204.75 1457.66 Q1202.95 1461.2 1202.95 1468.33 Q1202.95 1475.44 1204.75 1479.01 Q1206.58 1482.55 1210.19 1482.55 Q1213.83 1482.55 1215.63 1479.01 Q1217.46 1475.44 1217.46 1468.33 Q1217.46 1461.2 1215.63 1457.66 Q1213.83 1454.1 1210.19 1454.1 M1210.19 1450.39 Q1216 1450.39 1219.06 1455 Q1222.14 1459.58 1222.14 1468.33 Q1222.14 1477.06 1219.06 1481.67 Q1216 1486.25 1210.19 1486.25 Q1204.38 1486.25 1201.3 1481.67 Q1198.25 1477.06 1198.25 1468.33 Q1198.25 1459.58 1201.3 1455 Q1204.38 1450.39 1210.19 1450.39 Z\" fill=\"#000000\" fill-rule=\"evenodd\" fill-opacity=\"1\" /><path clip-path=\"url(#clip640)\" d=\"M1230.35 1479.7 L1235.24 1479.7 L1235.24 1485.58 L1230.35 1485.58 L1230.35 1479.7 Z\" fill=\"#000000\" fill-rule=\"evenodd\" fill-opacity=\"1\" /><path clip-path=\"url(#clip640)\" d=\"M1245.56 1484.86 L1245.56 1480.6 Q1247.32 1481.44 1249.13 1481.88 Q1250.93 1482.32 1252.67 1482.32 Q1257.3 1482.32 1259.73 1479.21 Q1262.18 1476.09 1262.53 1469.75 Q1261.19 1471.74 1259.13 1472.8 Q1257.07 1473.87 1254.57 1473.87 Q1249.38 1473.87 1246.35 1470.74 Q1243.34 1467.59 1243.34 1462.15 Q1243.34 1456.83 1246.49 1453.61 Q1249.64 1450.39 1254.87 1450.39 Q1260.86 1450.39 1264.01 1455 Q1267.18 1459.58 1267.18 1468.33 Q1267.18 1476.51 1263.29 1481.39 Q1259.43 1486.25 1252.88 1486.25 Q1251.12 1486.25 1249.31 1485.9 Q1247.51 1485.56 1245.56 1484.86 M1254.87 1470.21 Q1258.01 1470.21 1259.84 1468.06 Q1261.7 1465.9 1261.7 1462.15 Q1261.7 1458.43 1259.84 1456.27 Q1258.01 1454.1 1254.87 1454.1 Q1251.72 1454.1 1249.87 1456.27 Q1248.04 1458.43 1248.04 1462.15 Q1248.04 1465.9 1249.87 1468.06 Q1251.72 1470.21 1254.87 1470.21 Z\" fill=\"#000000\" fill-rule=\"evenodd\" fill-opacity=\"1\" /><path clip-path=\"url(#clip640)\" d=\"M1678.65 1481.64 L1686.29 1481.64 L1686.29 1455.28 L1677.98 1456.95 L1677.98 1452.69 L1686.24 1451.02 L1690.92 1451.02 L1690.92 1481.64 L1698.55 1481.64 L1698.55 1485.58 L1678.65 1485.58 L1678.65 1481.64 Z\" fill=\"#000000\" fill-rule=\"evenodd\" fill-opacity=\"1\" /><path clip-path=\"url(#clip640)\" d=\"M1708 1479.7 L1712.88 1479.7 L1712.88 1485.58 L1708 1485.58 L1708 1479.7 Z\" fill=\"#000000\" fill-rule=\"evenodd\" fill-opacity=\"1\" /><path clip-path=\"url(#clip640)\" d=\"M1733.07 1454.1 Q1729.46 1454.1 1727.63 1457.66 Q1725.82 1461.2 1725.82 1468.33 Q1725.82 1475.44 1727.63 1479.01 Q1729.46 1482.55 1733.07 1482.55 Q1736.7 1482.55 1738.51 1479.01 Q1740.34 1475.44 1740.34 1468.33 Q1740.34 1461.2 1738.51 1457.66 Q1736.7 1454.1 1733.07 1454.1 M1733.07 1450.39 Q1738.88 1450.39 1741.93 1455 Q1745.01 1459.58 1745.01 1468.33 Q1745.01 1477.06 1741.93 1481.67 Q1738.88 1486.25 1733.07 1486.25 Q1727.26 1486.25 1724.18 1481.67 Q1721.12 1477.06 1721.12 1468.33 Q1721.12 1459.58 1724.18 1455 Q1727.26 1450.39 1733.07 1450.39 Z\" fill=\"#000000\" fill-rule=\"evenodd\" fill-opacity=\"1\" /><path clip-path=\"url(#clip640)\" d=\"M2158.04 1481.64 L2165.68 1481.64 L2165.68 1455.28 L2157.37 1456.95 L2157.37 1452.69 L2165.63 1451.02 L2170.31 1451.02 L2170.31 1481.64 L2177.95 1481.64 L2177.95 1485.58 L2158.04 1485.58 L2158.04 1481.64 Z\" fill=\"#000000\" fill-rule=\"evenodd\" fill-opacity=\"1\" /><path clip-path=\"url(#clip640)\" d=\"M2187.39 1479.7 L2192.28 1479.7 L2192.28 1485.58 L2187.39 1485.58 L2187.39 1479.7 Z\" fill=\"#000000\" fill-rule=\"evenodd\" fill-opacity=\"1\" /><path clip-path=\"url(#clip640)\" d=\"M2203.27 1481.64 L2210.91 1481.64 L2210.91 1455.28 L2202.6 1456.95 L2202.6 1452.69 L2210.86 1451.02 L2215.54 1451.02 L2215.54 1481.64 L2223.18 1481.64 L2223.18 1485.58 L2203.27 1485.58 L2203.27 1481.64 Z\" fill=\"#000000\" fill-rule=\"evenodd\" fill-opacity=\"1\" /><path clip-path=\"url(#clip640)\" d=\"M1224.08 1533.45 L1224.08 1538.98 Q1221.6 1537.71 1218.92 1537.07 Q1216.25 1536.44 1213.39 1536.44 Q1209.02 1536.44 1206.83 1537.77 Q1204.66 1539.11 1204.66 1541.79 Q1204.66 1543.82 1206.22 1545 Q1207.78 1546.15 1212.49 1547.2 L1214.5 1547.64 Q1220.74 1548.98 1223.35 1551.43 Q1225.99 1553.85 1225.99 1558.21 Q1225.99 1563.17 1222.04 1566.07 Q1218.13 1568.97 1211.25 1568.97 Q1208.39 1568.97 1205.27 1568.39 Q1202.18 1567.85 1198.74 1566.74 L1198.74 1560.69 Q1201.99 1562.38 1205.14 1563.24 Q1208.29 1564.07 1211.38 1564.07 Q1215.52 1564.07 1217.75 1562.66 Q1219.97 1561.23 1219.97 1558.65 Q1219.97 1556.27 1218.35 1554.99 Q1216.76 1553.72 1211.32 1552.54 L1209.28 1552.07 Q1203.84 1550.92 1201.42 1548.56 Q1199 1546.18 1199 1542.04 Q1199 1537.01 1202.56 1534.27 Q1206.13 1531.54 1212.69 1531.54 Q1215.93 1531.54 1218.8 1532.01 Q1221.66 1532.49 1224.08 1533.45 Z\" fill=\"#000000\" fill-rule=\"evenodd\" fill-opacity=\"1\" /><path clip-path=\"url(#clip640)\" d=\"M1249.89 1545.48 Q1245.31 1545.48 1242.67 1547.93 Q1240.06 1550.38 1240.06 1554.68 Q1240.06 1558.97 1242.67 1561.42 Q1245.31 1563.87 1249.89 1563.87 Q1254.48 1563.87 1257.12 1561.42 Q1259.76 1558.94 1259.76 1554.68 Q1259.76 1550.38 1257.12 1547.93 Q1254.51 1545.48 1249.89 1545.48 M1243.46 1542.74 Q1239.33 1541.72 1237 1538.89 Q1234.71 1536.06 1234.71 1531.98 Q1234.71 1526.28 1238.75 1522.97 Q1242.83 1519.66 1249.89 1519.66 Q1256.99 1519.66 1261.03 1522.97 Q1265.07 1526.28 1265.07 1531.98 Q1265.07 1536.06 1262.75 1538.89 Q1260.46 1541.72 1256.35 1542.74 Q1261 1543.82 1263.58 1546.97 Q1266.19 1550.12 1266.19 1554.68 Q1266.19 1561.58 1261.96 1565.27 Q1257.75 1568.97 1249.89 1568.97 Q1242.03 1568.97 1237.8 1565.27 Q1233.6 1561.58 1233.6 1554.68 Q1233.6 1550.12 1236.21 1546.97 Q1238.82 1543.82 1243.46 1542.74 M1241.11 1532.59 Q1241.11 1536.28 1243.4 1538.35 Q1245.72 1540.42 1249.89 1540.42 Q1254.03 1540.42 1256.35 1538.35 Q1258.71 1536.28 1258.71 1532.59 Q1258.71 1528.89 1256.35 1526.83 Q1254.03 1524.76 1249.89 1524.76 Q1245.72 1524.76 1243.4 1526.83 Q1241.11 1528.89 1241.11 1532.59 Z\" fill=\"#000000\" fill-rule=\"evenodd\" fill-opacity=\"1\" /><polyline clip-path=\"url(#clip642)\" style=\"stroke:#000000; stroke-linecap:round; stroke-linejoin:round; stroke-width:2; stroke-opacity:0.1; fill:none\" points=\"\n",
       "  112.177,1385.48 2352.76,1385.48 \n",
       "  \"/>\n",
       "<polyline clip-path=\"url(#clip642)\" style=\"stroke:#000000; stroke-linecap:round; stroke-linejoin:round; stroke-width:2; stroke-opacity:0.1; fill:none\" points=\"\n",
       "  112.177,1189.58 2352.76,1189.58 \n",
       "  \"/>\n",
       "<polyline clip-path=\"url(#clip642)\" style=\"stroke:#000000; stroke-linecap:round; stroke-linejoin:round; stroke-width:2; stroke-opacity:0.1; fill:none\" points=\"\n",
       "  112.177,993.688 2352.76,993.688 \n",
       "  \"/>\n",
       "<polyline clip-path=\"url(#clip642)\" style=\"stroke:#000000; stroke-linecap:round; stroke-linejoin:round; stroke-width:2; stroke-opacity:0.1; fill:none\" points=\"\n",
       "  112.177,797.792 2352.76,797.792 \n",
       "  \"/>\n",
       "<polyline clip-path=\"url(#clip642)\" style=\"stroke:#000000; stroke-linecap:round; stroke-linejoin:round; stroke-width:2; stroke-opacity:0.1; fill:none\" points=\"\n",
       "  112.177,601.896 2352.76,601.896 \n",
       "  \"/>\n",
       "<polyline clip-path=\"url(#clip642)\" style=\"stroke:#000000; stroke-linecap:round; stroke-linejoin:round; stroke-width:2; stroke-opacity:0.1; fill:none\" points=\"\n",
       "  112.177,406 2352.76,406 \n",
       "  \"/>\n",
       "<polyline clip-path=\"url(#clip642)\" style=\"stroke:#000000; stroke-linecap:round; stroke-linejoin:round; stroke-width:2; stroke-opacity:0.1; fill:none\" points=\"\n",
       "  112.177,210.104 2352.76,210.104 \n",
       "  \"/>\n",
       "<polyline clip-path=\"url(#clip640)\" style=\"stroke:#000000; stroke-linecap:round; stroke-linejoin:round; stroke-width:4; stroke-opacity:1; fill:none\" points=\"\n",
       "  112.177,1423.18 112.177,47.2441 \n",
       "  \"/>\n",
       "<polyline clip-path=\"url(#clip640)\" style=\"stroke:#000000; stroke-linecap:round; stroke-linejoin:round; stroke-width:4; stroke-opacity:1; fill:none\" points=\"\n",
       "  112.177,1385.48 131.075,1385.48 \n",
       "  \"/>\n",
       "<polyline clip-path=\"url(#clip640)\" style=\"stroke:#000000; stroke-linecap:round; stroke-linejoin:round; stroke-width:4; stroke-opacity:1; fill:none\" points=\"\n",
       "  112.177,1189.58 131.075,1189.58 \n",
       "  \"/>\n",
       "<polyline clip-path=\"url(#clip640)\" style=\"stroke:#000000; stroke-linecap:round; stroke-linejoin:round; stroke-width:4; stroke-opacity:1; fill:none\" points=\"\n",
       "  112.177,993.688 131.075,993.688 \n",
       "  \"/>\n",
       "<polyline clip-path=\"url(#clip640)\" style=\"stroke:#000000; stroke-linecap:round; stroke-linejoin:round; stroke-width:4; stroke-opacity:1; fill:none\" points=\"\n",
       "  112.177,797.792 131.075,797.792 \n",
       "  \"/>\n",
       "<polyline clip-path=\"url(#clip640)\" style=\"stroke:#000000; stroke-linecap:round; stroke-linejoin:round; stroke-width:4; stroke-opacity:1; fill:none\" points=\"\n",
       "  112.177,601.896 131.075,601.896 \n",
       "  \"/>\n",
       "<polyline clip-path=\"url(#clip640)\" style=\"stroke:#000000; stroke-linecap:round; stroke-linejoin:round; stroke-width:4; stroke-opacity:1; fill:none\" points=\"\n",
       "  112.177,406 131.075,406 \n",
       "  \"/>\n",
       "<polyline clip-path=\"url(#clip640)\" style=\"stroke:#000000; stroke-linecap:round; stroke-linejoin:round; stroke-width:4; stroke-opacity:1; fill:none\" points=\"\n",
       "  112.177,210.104 131.075,210.104 \n",
       "  \"/>\n",
       "<path clip-path=\"url(#clip640)\" d=\"M64.2328 1371.28 Q60.6217 1371.28 58.793 1374.84 Q56.9875 1378.38 56.9875 1385.51 Q56.9875 1392.62 58.793 1396.19 Q60.6217 1399.73 64.2328 1399.73 Q67.867 1399.73 69.6726 1396.19 Q71.5013 1392.62 71.5013 1385.51 Q71.5013 1378.38 69.6726 1374.84 Q67.867 1371.28 64.2328 1371.28 M64.2328 1367.57 Q70.0429 1367.57 73.0985 1372.18 Q76.1772 1376.76 76.1772 1385.51 Q76.1772 1394.24 73.0985 1398.85 Q70.0429 1403.43 64.2328 1403.43 Q58.4226 1403.43 55.344 1398.85 Q52.2884 1394.24 52.2884 1385.51 Q52.2884 1376.76 55.344 1372.18 Q58.4226 1367.57 64.2328 1367.57 Z\" fill=\"#000000\" fill-rule=\"evenodd\" fill-opacity=\"1\" /><path clip-path=\"url(#clip640)\" d=\"M56.2699 1202.93 L63.9087 1202.93 L63.9087 1176.56 L55.5986 1178.23 L55.5986 1173.97 L63.8624 1172.3 L68.5383 1172.3 L68.5383 1202.93 L76.1772 1202.93 L76.1772 1206.86 L56.2699 1206.86 L56.2699 1202.93 Z\" fill=\"#000000\" fill-rule=\"evenodd\" fill-opacity=\"1\" /><path clip-path=\"url(#clip640)\" d=\"M59.8578 1007.03 L76.1772 1007.03 L76.1772 1010.97 L54.2328 1010.97 L54.2328 1007.03 Q56.8949 1004.28 61.4782 999.648 Q66.0846 994.995 67.2652 993.653 Q69.5105 991.13 70.3902 989.394 Q71.2929 987.634 71.2929 985.945 Q71.2929 983.19 69.3485 981.454 Q67.4272 979.718 64.3254 979.718 Q62.1263 979.718 59.6726 980.482 Q57.2421 981.245 54.4643 982.796 L54.4643 978.074 Q57.2884 976.94 59.7421 976.361 Q62.1958 975.783 64.2328 975.783 Q69.6031 975.783 72.7976 978.468 Q75.992 981.153 75.992 985.644 Q75.992 987.773 75.1818 989.695 Q74.3948 991.593 72.2883 994.185 Q71.7096 994.857 68.6078 998.074 Q65.5059 1001.27 59.8578 1007.03 Z\" fill=\"#000000\" fill-rule=\"evenodd\" fill-opacity=\"1\" /><path clip-path=\"url(#clip640)\" d=\"M69.0476 796.438 Q72.404 797.155 74.279 799.424 Q76.1772 801.692 76.1772 805.026 Q76.1772 810.141 72.6587 812.942 Q69.1402 815.743 62.6587 815.743 Q60.4828 815.743 58.168 815.303 Q55.8764 814.887 53.4227 814.03 L53.4227 809.516 Q55.3671 810.65 57.6819 811.229 Q59.9967 811.808 62.5198 811.808 Q66.918 811.808 69.2096 810.072 Q71.5244 808.336 71.5244 805.026 Q71.5244 801.97 69.3717 800.257 Q67.242 798.521 63.4226 798.521 L59.3949 798.521 L59.3949 794.678 L63.6078 794.678 Q67.0569 794.678 68.8855 793.313 Q70.7142 791.924 70.7142 789.331 Q70.7142 786.669 68.8161 785.257 Q66.9411 783.822 63.4226 783.822 Q61.5013 783.822 59.3023 784.239 Q57.1032 784.655 54.4643 785.535 L54.4643 781.368 Q57.1264 780.628 59.4412 780.257 Q61.7791 779.887 63.8393 779.887 Q69.1633 779.887 72.2652 782.317 Q75.367 784.725 75.367 788.845 Q75.367 791.715 73.7235 793.706 Q72.08 795.674 69.0476 796.438 Z\" fill=\"#000000\" fill-rule=\"evenodd\" fill-opacity=\"1\" /><path clip-path=\"url(#clip640)\" d=\"M66.5939 588.69 L54.7884 607.139 L66.5939 607.139 L66.5939 588.69 M65.367 584.616 L71.2466 584.616 L71.2466 607.139 L76.1772 607.139 L76.1772 611.028 L71.2466 611.028 L71.2466 619.176 L66.5939 619.176 L66.5939 611.028 L50.9921 611.028 L50.9921 606.514 L65.367 584.616 Z\" fill=\"#000000\" fill-rule=\"evenodd\" fill-opacity=\"1\" /><path clip-path=\"url(#clip640)\" d=\"M55.2745 388.72 L73.6309 388.72 L73.6309 392.655 L59.5569 392.655 L59.5569 401.128 Q60.5754 400.78 61.5939 400.618 Q62.6124 400.433 63.6309 400.433 Q69.418 400.433 72.7976 403.604 Q76.1772 406.776 76.1772 412.192 Q76.1772 417.771 72.705 420.873 Q69.2328 423.951 62.9134 423.951 Q60.7374 423.951 58.4689 423.581 Q56.2236 423.211 53.8162 422.47 L53.8162 417.771 Q55.8995 418.905 58.1217 419.461 Q60.3439 420.016 62.8208 420.016 Q66.8254 420.016 69.1633 417.91 Q71.5013 415.803 71.5013 412.192 Q71.5013 408.581 69.1633 406.475 Q66.8254 404.368 62.8208 404.368 Q60.9458 404.368 59.0708 404.785 Q57.2189 405.202 55.2745 406.081 L55.2745 388.72 Z\" fill=\"#000000\" fill-rule=\"evenodd\" fill-opacity=\"1\" /><path clip-path=\"url(#clip640)\" d=\"M64.6495 208.241 Q61.5013 208.241 59.6495 210.394 Q57.8208 212.546 57.8208 216.296 Q57.8208 220.023 59.6495 222.199 Q61.5013 224.352 64.6495 224.352 Q67.7976 224.352 69.6263 222.199 Q71.4781 220.023 71.4781 216.296 Q71.4781 212.546 69.6263 210.394 Q67.7976 208.241 64.6495 208.241 M73.9318 193.588 L73.9318 197.847 Q72.1726 197.014 70.367 196.574 Q68.5846 196.135 66.8254 196.135 Q62.1958 196.135 59.7421 199.26 Q57.3115 202.385 56.9643 208.704 Q58.33 206.69 60.3902 205.625 Q62.4504 204.537 64.9272 204.537 Q70.1355 204.537 73.1448 207.709 Q76.1772 210.857 76.1772 216.296 Q76.1772 221.621 73.029 224.838 Q69.8809 228.056 64.6495 228.056 Q58.6541 228.056 55.4828 223.472 Q52.3116 218.866 52.3116 210.139 Q52.3116 201.945 56.2004 197.084 Q60.0893 192.199 66.6402 192.199 Q68.3994 192.199 70.1818 192.547 Q71.9874 192.894 73.9318 193.588 Z\" fill=\"#000000\" fill-rule=\"evenodd\" fill-opacity=\"1\" /><polyline clip-path=\"url(#clip642)\" style=\"stroke:#009af9; stroke-linecap:round; stroke-linejoin:round; stroke-width:8; stroke-opacity:1; fill:none\" points=\"\n",
       "  215.833,1378.88 219.815,1378.2 223.797,1377.51 227.778,1376.81 231.76,1376.11 235.742,1375.39 239.723,1374.65 243.705,1373.87 247.687,1373.07 251.668,1372.26 \n",
       "  255.65,1371.44 259.632,1370.61 263.614,1369.76 267.595,1368.9 271.577,1368.04 275.559,1367.18 279.54,1366.31 283.522,1365.43 287.504,1364.52 291.485,1363.58 \n",
       "  295.467,1362.6 299.449,1361.59 303.43,1360.56 307.412,1359.51 311.394,1358.4 315.375,1357.23 319.357,1356.02 323.339,1354.76 327.321,1353.43 331.302,1352.02 \n",
       "  335.284,1350.51 339.266,1348.9 343.247,1347.18 347.229,1345.35 351.211,1343.41 355.192,1341.34 359.174,1339.15 363.156,1336.81 367.137,1334.33 371.119,1331.74 \n",
       "  375.101,1329.03 379.082,1326.2 383.064,1323.25 387.046,1320.21 391.028,1317.07 395.009,1313.87 398.991,1310.61 402.973,1307.28 406.954,1303.91 410.936,1300.52 \n",
       "  414.918,1297.11 418.899,1293.68 422.881,1290.19 426.863,1286.67 430.844,1283.13 434.826,1279.56 438.808,1275.93 442.789,1272.26 446.771,1268.52 450.753,1264.7 \n",
       "  454.735,1260.82 458.716,1256.91 462.698,1252.98 466.68,1248.99 470.661,1244.88 474.643,1240.64 478.625,1236.32 482.606,1231.9 486.588,1227.33 490.57,1222.59 \n",
       "  494.551,1217.61 498.533,1212.41 502.515,1206.96 506.496,1201.28 510.478,1195.36 514.46,1189.19 518.442,1182.74 522.423,1176.05 526.405,1169.19 530.387,1162.13 \n",
       "  534.368,1154.83 538.35,1147.29 542.332,1139.47 546.313,1131.38 550.295,1123.04 554.277,1114.44 558.258,1105.57 562.24,1096.47 566.222,1087.16 570.203,1077.69 \n",
       "  574.185,1068.04 578.167,1058.17 582.149,1048.07 586.13,1037.74 590.112,1027.2 594.094,1016.47 598.075,1005.55 602.057,994.452 606.039,983.168 610.02,971.717 \n",
       "  614.002,960.129 617.984,948.448 621.965,936.702 625.947,924.884 629.929,913.027 633.91,901.169 637.892,889.307 641.874,877.434 645.856,865.557 649.837,853.685 \n",
       "  653.819,841.795 657.801,829.895 661.782,818.037 665.764,806.178 669.746,794.257 673.727,782.276 677.709,770.212 681.691,758.015 685.672,745.702 689.654,733.233 \n",
       "  693.636,720.546 697.617,707.621 701.599,694.432 705.581,681.019 709.563,667.476 713.544,653.838 717.526,640.082 721.508,626.234 725.489,612.367 729.471,598.536 \n",
       "  733.453,584.815 737.434,571.254 741.416,557.869 745.398,544.689 749.379,531.679 753.361,518.794 757.343,506.065 761.324,493.514 765.306,481.104 769.288,468.829 \n",
       "  773.27,456.728 777.251,444.838 781.233,433.183 785.215,421.773 789.196,410.591 793.178,399.623 797.16,388.881 801.141,378.406 805.123,368.199 809.105,358.18 \n",
       "  813.086,348.381 817.068,338.875 821.05,329.714 825.031,320.989 829.013,312.725 832.995,304.943 836.977,297.662 840.958,290.855 844.94,284.533 848.922,278.737 \n",
       "  852.903,273.477 856.885,268.69 860.867,264.304 864.848,260.314 868.83,256.696 872.812,253.388 876.793,250.32 880.775,247.44 884.757,244.762 888.738,242.264 \n",
       "  892.72,239.88 896.702,237.581 900.684,235.303 904.665,233.043 908.647,230.797 912.629,228.559 916.61,226.382 920.592,224.305 924.574,222.323 928.555,220.455 \n",
       "  932.537,218.782 936.519,217.389 940.5,216.274 944.482,215.369 948.464,214.608 952.445,213.938 956.427,213.368 960.409,212.894 964.391,212.496 968.372,212.158 \n",
       "  972.354,211.881 976.336,211.692 980.317,211.594 984.299,211.545 988.281,211.567 992.262,211.764 996.244,212.182 1000.23,212.77 1004.21,213.521 1008.19,214.506 \n",
       "  1012.17,215.798 1016.15,217.415 1020.13,219.313 1024.12,221.468 1028.1,223.951 1032.08,226.828 1036.06,230.051 1040.04,233.544 1044.02,237.279 1048.01,241.274 \n",
       "  1051.99,245.513 1055.97,249.937 1059.95,254.497 1063.93,259.115 1067.91,263.719 1071.9,268.241 1075.88,272.647 1079.86,276.988 1083.84,281.271 1087.82,285.443 \n",
       "  1091.8,289.492 1095.79,293.442 1099.77,297.341 1103.75,301.185 1107.73,304.936 1111.71,308.59 1115.69,312.187 1119.68,315.766 1123.66,319.293 1127.64,322.773 \n",
       "  1131.62,326.242 1135.6,329.714 1139.58,333.213 1143.57,336.729 1147.55,340.238 1151.53,343.715 1155.51,347.161 1159.49,350.622 1163.47,354.098 1167.46,357.634 \n",
       "  1171.44,361.286 1175.42,364.998 1179.4,368.765 1183.38,372.613 1187.37,376.545 1191.35,380.646 1195.33,384.986 1199.31,389.534 1203.29,394.307 1207.27,399.358 \n",
       "  1211.26,404.657 1215.24,410.195 1219.22,415.992 1223.2,422.055 1227.18,428.401 1231.16,435.027 1235.15,441.861 1239.13,448.881 1243.11,456.101 1247.09,463.469 \n",
       "  1251.07,470.889 1255.05,478.267 1259.04,485.63 1263.02,493.03 1267,500.433 1270.98,507.773 1274.96,515.046 1278.94,522.273 1282.93,529.444 1286.91,536.524 \n",
       "  1290.89,543.483 1294.87,550.377 1298.85,557.249 1302.83,564.103 1306.82,570.96 1310.8,577.816 1314.78,584.698 1318.76,591.659 1322.74,598.675 1326.72,605.688 \n",
       "  1330.71,612.648 1334.69,619.544 1338.67,626.39 1342.65,633.185 1346.63,639.909 1350.61,646.526 1354.6,653.028 1358.58,659.451 1362.56,665.801 1366.54,672.033 \n",
       "  1370.52,678.147 1374.5,684.149 1378.49,690.027 1382.47,695.818 1386.45,701.611 1390.43,707.483 1394.41,713.443 1398.39,719.474 1402.38,725.603 1406.36,731.85 \n",
       "  1410.34,738.157 1414.32,744.495 1418.3,750.865 1422.28,757.302 1426.27,763.887 1430.25,770.602 1434.23,777.383 1438.21,784.286 1442.19,791.334 1446.17,798.506 \n",
       "  1450.16,805.81 1454.14,813.22 1458.12,820.714 1462.1,828.315 1466.08,836.021 1470.06,843.777 1474.05,851.603 1478.03,859.542 1482.01,867.592 1485.99,875.752 \n",
       "  1489.97,884.033 1493.95,892.453 1497.94,900.971 1501.92,909.494 1505.9,917.964 1509.88,926.357 1513.86,934.65 1517.85,942.785 1521.83,950.742 1525.81,958.55 \n",
       "  1529.79,966.222 1533.77,973.738 1537.75,981.106 1541.74,988.308 1545.72,995.315 1549.7,1002.16 1553.68,1008.81 1557.66,1015.22 1561.64,1021.39 1565.63,1027.35 \n",
       "  1569.61,1033.13 1573.59,1038.76 1577.57,1044.24 1581.55,1049.56 1585.53,1054.76 1589.52,1059.88 1593.5,1064.95 1597.48,1069.94 1601.46,1074.87 1605.44,1079.75 \n",
       "  1609.42,1084.63 1613.41,1089.54 1617.39,1094.5 1621.37,1099.51 1625.35,1104.55 1629.33,1109.6 1633.31,1114.68 1637.3,1119.79 1641.28,1124.93 1645.26,1130.09 \n",
       "  1649.24,1135.29 1653.22,1140.55 1657.2,1145.87 1661.19,1151.27 1665.17,1156.71 1669.15,1162.2 1673.13,1167.76 1677.11,1173.39 1681.09,1179.07 1685.08,1184.79 \n",
       "  1689.06,1190.56 1693.04,1196.36 1697.02,1202.18 1701,1207.99 1704.98,1213.79 1708.97,1219.54 1712.95,1225.25 1716.93,1230.88 1720.91,1236.4 1724.89,1241.78 \n",
       "  1728.87,1246.99 1732.86,1252.02 1736.84,1256.87 1740.82,1261.57 1744.8,1266.1 1748.78,1270.48 1752.76,1274.72 1756.75,1278.83 1760.73,1282.83 1764.71,1286.7 \n",
       "  1768.69,1290.47 1772.67,1294.12 1776.65,1297.6 1780.64,1300.91 1784.62,1304.06 1788.6,1307.03 1792.58,1309.85 1796.56,1312.52 1800.54,1315.03 1804.53,1317.4 \n",
       "  1808.51,1319.61 1812.49,1321.66 1816.47,1323.51 1820.45,1325.16 1824.43,1326.63 1828.42,1327.95 1832.4,1329.13 1836.38,1330.17 1840.36,1331.1 1844.34,1331.93 \n",
       "  1848.33,1332.68 1852.31,1333.32 1856.29,1333.87 1860.27,1334.34 1864.25,1334.76 1868.23,1335.17 1872.22,1335.58 1876.2,1335.97 1880.18,1336.38 1884.16,1336.82 \n",
       "  1888.14,1337.28 1892.12,1337.78 1896.11,1338.32 1900.09,1338.91 1904.07,1339.55 1908.05,1340.24 1912.03,1340.99 1916.01,1341.8 1920,1342.66 1923.98,1343.58 \n",
       "  1927.96,1344.56 1931.94,1345.57 1935.92,1346.64 1939.9,1347.75 1943.89,1348.88 1947.87,1350.06 1951.85,1351.25 1955.83,1352.47 1959.81,1353.7 1963.79,1354.95 \n",
       "  1967.78,1356.18 1971.76,1357.41 1975.74,1358.61 1979.72,1359.8 1983.7,1360.94 1987.68,1362.04 1991.67,1363.1 1995.65,1364.12 1999.63,1365.08 2003.61,1365.98 \n",
       "  2007.59,1366.8 2011.57,1367.56 2015.56,1368.25 2019.54,1368.87 2023.52,1369.43 2027.5,1369.93 2031.48,1370.38 2035.46,1370.77 2039.45,1371.1 2043.43,1371.37 \n",
       "  2047.41,1371.58 2051.39,1371.74 2055.37,1371.86 2059.35,1371.94 2063.34,1372 2067.32,1372.01 2071.3,1371.99 2075.28,1371.96 2079.26,1371.9 2083.24,1371.84 \n",
       "  2087.23,1371.78 2091.21,1371.71 2095.19,1371.66 2099.17,1371.63 2103.15,1371.63 2107.13,1371.65 2111.12,1371.7 2115.1,1371.77 2119.08,1371.88 2123.06,1372.02 \n",
       "  2127.04,1372.18 2131.02,1372.38 2135.01,1372.6 2138.99,1372.85 2142.97,1373.13 2146.95,1373.43 2150.93,1373.77 2154.92,1374.12 2158.9,1374.5 2162.88,1374.9 \n",
       "  2166.86,1375.32 2170.84,1375.76 2174.82,1376.21 2178.81,1376.67 2182.79,1377.15 2186.77,1377.63 2190.75,1378.12 2194.73,1378.61 2198.71,1379.1 2202.7,1379.58 \n",
       "  \n",
       "  \"/>\n",
       "<polyline clip-path=\"url(#clip642)\" style=\"stroke:#e26f46; stroke-linecap:round; stroke-linejoin:round; stroke-width:8; stroke-opacity:1; fill:none\" points=\"\n",
       "  175.59,1384.24 179.826,1384.12 184.062,1384 188.298,1383.88 192.534,1383.75 196.77,1383.62 201.006,1383.5 205.242,1383.37 209.478,1383.24 213.714,1383.1 \n",
       "  217.95,1382.94 222.186,1382.77 226.422,1382.58 230.658,1382.37 234.893,1382.14 239.129,1381.88 243.365,1381.61 247.601,1381.32 251.837,1381.01 256.073,1380.68 \n",
       "  260.309,1380.35 264.545,1379.99 268.781,1379.62 273.017,1379.21 277.253,1378.77 281.489,1378.28 285.725,1377.75 289.961,1377.17 294.197,1376.55 298.433,1375.87 \n",
       "  302.669,1375.14 306.905,1374.33 311.141,1373.44 315.377,1372.47 319.613,1371.42 323.849,1370.28 328.085,1369.03 332.321,1367.69 336.557,1366.26 340.793,1364.75 \n",
       "  345.029,1363.14 349.265,1361.45 353.501,1359.66 357.737,1357.81 361.973,1355.9 366.209,1353.92 370.445,1351.86 374.681,1349.7 378.917,1347.46 383.153,1345.13 \n",
       "  387.389,1342.68 391.625,1340.09 395.861,1337.34 400.097,1334.45 404.333,1331.42 408.569,1328.23 412.805,1324.9 417.041,1321.44 421.277,1317.87 425.513,1314.21 \n",
       "  429.749,1310.46 433.985,1306.61 438.22,1302.65 442.456,1298.56 446.692,1294.31 450.928,1289.89 455.164,1285.3 459.4,1280.56 463.636,1275.68 467.872,1270.63 \n",
       "  472.108,1265.41 476.344,1260.04 480.58,1254.52 484.816,1248.88 489.052,1243.11 493.288,1237.2 497.524,1231.19 501.76,1225.09 505.996,1218.89 510.232,1212.52 \n",
       "  514.468,1205.96 518.704,1199.23 522.94,1192.35 527.176,1185.35 531.412,1178.26 535.648,1171.1 539.884,1163.87 544.12,1156.55 548.356,1149.13 552.592,1141.59 \n",
       "  556.828,1133.9 561.064,1125.98 565.3,1117.86 569.536,1109.51 573.772,1100.86 578.008,1091.94 582.244,1082.8 586.48,1073.44 590.716,1063.92 594.952,1054.27 \n",
       "  599.188,1044.54 603.424,1034.75 607.66,1024.87 611.896,1014.91 616.132,1004.83 620.368,994.58 624.604,984.168 628.84,973.608 633.076,962.895 637.311,952.048 \n",
       "  641.547,941.098 645.783,930.046 650.019,918.868 654.255,907.572 658.491,896.21 662.727,884.794 666.963,873.298 671.199,861.703 675.435,849.987 679.671,838.14 \n",
       "  683.907,826.172 688.143,814.093 692.379,801.907 696.615,789.603 700.851,777.214 705.087,764.78 709.323,752.291 713.559,739.753 717.795,727.177 722.031,714.575 \n",
       "  726.267,701.984 730.503,689.387 734.739,676.765 738.975,664.176 743.211,651.637 747.447,639.157 751.683,626.723 755.919,614.28 760.155,601.84 764.391,589.468 \n",
       "  768.627,577.168 772.863,564.894 777.099,552.677 781.335,540.499 785.571,528.263 789.807,515.925 794.043,503.49 798.279,490.956 802.515,478.308 806.751,465.516 \n",
       "  810.987,452.544 815.223,439.436 819.459,426.205 823.695,412.893 827.931,399.606 832.167,386.403 836.403,373.304 840.638,360.294 844.874,347.353 849.11,334.448 \n",
       "  853.346,321.566 857.582,308.759 861.818,296.098 866.054,283.607 870.29,271.302 874.526,259.264 878.762,247.542 882.998,236.168 887.234,225.162 891.47,214.472 \n",
       "  895.706,204.059 899.942,193.947 904.178,184.183 908.414,174.812 912.65,165.84 916.886,157.321 921.122,149.314 925.358,141.817 929.594,134.835 933.83,128.364 \n",
       "  938.066,122.386 942.302,116.864 946.538,111.77 950.774,107.137 955.01,102.953 959.246,99.1503 963.482,95.7482 967.718,92.8037 971.954,90.3584 976.19,88.4538 \n",
       "  980.426,87.1133 984.662,86.3558 988.898,86.1857 993.134,86.5174 997.37,87.2716 1001.61,88.3608 1005.84,89.7355 1010.08,91.3764 1014.31,93.1928 1018.55,95.1178 \n",
       "  1022.79,97.1262 1027.02,99.2127 1031.26,101.34 1035.49,103.469 1039.73,105.581 1043.97,107.639 1048.2,109.595 1052.44,111.385 1056.67,112.997 1060.91,114.485 \n",
       "  1065.15,115.899 1069.38,117.302 1073.62,118.796 1077.85,120.429 1082.09,122.202 1086.33,124.164 1090.56,126.364 1094.8,128.852 1099.03,131.67 1103.27,134.846 \n",
       "  1107.51,138.388 1111.74,142.271 1115.98,146.423 1120.21,150.808 1124.45,155.43 1128.69,160.26 1132.92,165.279 1137.16,170.478 1141.39,175.84 1145.63,181.364 \n",
       "  1149.86,187.071 1154.1,192.991 1158.34,199.175 1162.57,205.629 1166.81,212.312 1171.04,219.172 1175.28,226.158 1179.52,233.277 1183.75,240.557 1187.99,247.991 \n",
       "  1192.22,255.59 1196.46,263.389 1200.7,271.414 1204.93,279.669 1209.17,288.151 1213.4,296.862 1217.64,305.787 1221.88,314.893 1226.11,324.174 1230.35,333.623 \n",
       "  1234.58,343.181 1238.82,352.805 1243.06,362.468 1247.29,372.142 1251.53,381.829 1255.76,391.578 1260,401.403 1264.24,411.303 1268.47,421.304 1272.71,431.434 \n",
       "  1276.94,441.757 1281.18,452.29 1285.42,462.961 1289.65,473.738 1293.89,484.643 1298.12,495.647 1302.36,506.723 1306.6,517.926 1310.83,529.312 1315.07,540.891 \n",
       "  1319.3,552.726 1323.54,564.834 1327.78,577.152 1332.01,589.655 1336.25,602.32 1340.48,615.089 1344.72,627.901 1348.96,640.674 1353.19,653.335 1357.43,665.88 \n",
       "  1361.66,678.308 1365.9,690.598 1370.14,702.767 1374.37,714.806 1378.61,726.669 1382.84,738.338 1387.08,749.804 1391.32,761.036 1395.55,772.011 1399.79,782.76 \n",
       "  1404.02,793.308 1408.26,803.623 1412.5,813.663 1416.73,823.408 1420.97,832.861 1425.2,842.055 1429.44,851.021 1433.68,859.767 1437.91,868.307 1442.15,876.655 \n",
       "  1446.38,884.812 1450.62,892.778 1454.86,900.55 1459.09,908.137 1463.33,915.587 1467.56,922.998 1471.8,930.43 1476.04,937.879 1480.27,945.325 1484.51,952.768 \n",
       "  1488.74,960.205 1492.98,967.624 1497.22,974.994 1501.45,982.295 1505.69,989.556 1509.92,996.783 1514.16,1003.93 1518.4,1010.98 1522.63,1017.94 1526.87,1024.8 \n",
       "  1531.1,1031.49 1535.34,1038 1539.58,1044.34 1543.81,1050.53 1548.05,1056.6 1552.28,1062.62 1556.52,1068.63 1560.75,1074.64 1564.99,1080.63 1569.23,1086.56 \n",
       "  1573.46,1092.42 1577.7,1098.21 1581.93,1103.93 1586.17,1109.57 1590.41,1115.15 1594.64,1120.65 1598.88,1126.07 1603.11,1131.45 1607.35,1136.82 1611.59,1142.19 \n",
       "  1615.82,1147.52 1620.06,1152.79 1624.29,1157.95 1628.53,1162.98 1632.77,1167.89 1637,1172.69 1641.24,1177.38 1645.47,1181.96 1649.71,1186.45 1653.95,1190.84 \n",
       "  1658.18,1195.15 1662.42,1199.41 1666.65,1203.64 1670.89,1207.83 1675.13,1212 1679.36,1216.15 1683.6,1220.26 1687.83,1224.33 1692.07,1228.35 1696.31,1232.32 \n",
       "  1700.54,1236.22 1704.78,1240.03 1709.01,1243.75 1713.25,1247.37 1717.49,1250.89 1721.72,1254.27 1725.96,1257.51 1730.19,1260.62 1734.43,1263.57 1738.67,1266.35 \n",
       "  1742.9,1268.94 1747.14,1271.37 1751.37,1273.65 1755.61,1275.84 1759.85,1277.92 1764.08,1279.9 1768.32,1281.8 1772.55,1283.64 1776.79,1285.45 1781.03,1287.25 \n",
       "  1785.26,1289.02 1789.5,1290.81 1793.73,1292.61 1797.97,1294.44 1802.21,1296.27 1806.44,1298.11 1810.68,1299.96 1814.91,1301.84 1819.15,1303.77 1823.39,1305.77 \n",
       "  1827.62,1307.84 1831.86,1309.97 1836.09,1312.14 1840.33,1314.33 1844.57,1316.54 1848.8,1318.76 1853.04,1320.98 1857.27,1323.19 1861.51,1325.38 1865.75,1327.53 \n",
       "  1869.98,1329.63 1874.22,1331.69 1878.45,1333.71 1882.69,1335.7 1886.93,1337.68 1891.16,1339.66 1895.4,1341.62 1899.63,1343.57 1903.87,1345.49 1908.11,1347.36 \n",
       "  1912.34,1349.19 1916.58,1350.96 1920.81,1352.68 1925.05,1354.33 1929.29,1355.92 1933.52,1357.44 1937.76,1358.88 1941.99,1360.25 1946.23,1361.53 1950.46,1362.71 \n",
       "  1954.7,1363.81 1958.94,1364.83 1963.17,1365.79 1967.41,1366.69 1971.64,1367.55 1975.88,1368.36 1980.12,1369.13 1984.35,1369.85 1988.59,1370.54 1992.82,1371.2 \n",
       "  1997.06,1371.84 2001.3,1372.44 2005.53,1373.02 2009.77,1373.57 2014,1374.11 2018.24,1374.62 2022.48,1375.1 2026.71,1375.56 2030.95,1375.99 2035.18,1376.39 \n",
       "  2039.42,1376.78 2043.66,1377.13 2047.89,1377.46 2052.13,1377.75 2056.36,1378.02 2060.6,1378.27 2064.84,1378.49 2069.07,1378.7 2073.31,1378.88 2077.54,1379.02 \n",
       "  2081.78,1379.14 2086.02,1379.24 2090.25,1379.32 2094.49,1379.39 2098.72,1379.46 2102.96,1379.54 2107.2,1379.62 2111.43,1379.7 2115.67,1379.78 2119.9,1379.85 \n",
       "  2124.14,1379.92 2128.38,1379.98 2132.61,1380.03 2136.85,1380.07 2141.08,1380.1 2145.32,1380.12 2149.56,1380.13 2153.79,1380.14 2158.03,1380.14 2162.26,1380.14 \n",
       "  2166.5,1380.14 2170.74,1380.14 2174.97,1380.16 2179.21,1380.18 2183.44,1380.21 2187.68,1380.26 2191.92,1380.31 2196.15,1380.38 2200.39,1380.46 2204.62,1380.56 \n",
       "  2208.86,1380.66 2213.1,1380.77 2217.33,1380.89 2221.57,1381.02 2225.8,1381.15 2230.04,1381.29 2234.28,1381.43 2238.51,1381.57 2242.75,1381.72 2246.98,1381.87 \n",
       "  2251.22,1382.03 2255.46,1382.19 2259.69,1382.36 2263.93,1382.53 2268.16,1382.7 2272.4,1382.86 2276.64,1383.03 2280.87,1383.2 2285.11,1383.37 2289.34,1383.53 \n",
       "  \n",
       "  \"/>\n",
       "<path clip-path=\"url(#clip640)\" d=\"\n",
       "M1877.58 248.629 L2278.07 248.629 L2278.07 93.1086 L1877.58 93.1086  Z\n",
       "  \" fill=\"#ffffff\" fill-rule=\"evenodd\" fill-opacity=\"1\"/>\n",
       "<polyline clip-path=\"url(#clip640)\" style=\"stroke:#000000; stroke-linecap:round; stroke-linejoin:round; stroke-width:4; stroke-opacity:1; fill:none\" points=\"\n",
       "  1877.58,248.629 2278.07,248.629 2278.07,93.1086 1877.58,93.1086 1877.58,248.629 \n",
       "  \"/>\n",
       "<polyline clip-path=\"url(#clip640)\" style=\"stroke:#009af9; stroke-linecap:round; stroke-linejoin:round; stroke-width:8; stroke-opacity:1; fill:none\" points=\"\n",
       "  1902.47,144.949 2051.85,144.949 \n",
       "  \"/>\n",
       "<path clip-path=\"url(#clip640)\" d=\"M2076.74 127.669 L2083.71 127.669 L2092.53 151.187 L2101.39 127.669 L2108.36 127.669 L2108.36 162.229 L2103.8 162.229 L2103.8 131.882 L2094.89 155.585 L2090.19 155.585 L2081.28 131.882 L2081.28 162.229 L2076.74 162.229 L2076.74 127.669 Z\" fill=\"#000000\" fill-rule=\"evenodd\" fill-opacity=\"1\" /><path clip-path=\"url(#clip640)\" d=\"M2143.52 130.331 L2143.52 135.261 Q2141.16 133.062 2138.48 131.974 Q2135.81 130.886 2132.8 130.886 Q2126.88 130.886 2123.73 134.52 Q2120.58 138.132 2120.58 144.983 Q2120.58 151.812 2123.73 155.446 Q2126.88 159.057 2132.8 159.057 Q2135.81 159.057 2138.48 157.969 Q2141.16 156.881 2143.52 154.682 L2143.52 159.567 Q2141.07 161.233 2138.31 162.067 Q2135.58 162.9 2132.53 162.9 Q2124.68 162.9 2120.17 158.108 Q2115.65 153.293 2115.65 144.983 Q2115.65 136.65 2120.17 131.858 Q2124.68 127.044 2132.53 127.044 Q2135.63 127.044 2138.36 127.877 Q2141.12 128.687 2143.52 130.331 Z\" fill=\"#000000\" fill-rule=\"evenodd\" fill-opacity=\"1\" /><path clip-path=\"url(#clip640)\" d=\"M2150.74 127.669 L2155.42 127.669 L2155.42 141.835 L2172.41 141.835 L2172.41 127.669 L2177.09 127.669 L2177.09 162.229 L2172.41 162.229 L2172.41 145.77 L2155.42 145.77 L2155.42 162.229 L2150.74 162.229 L2150.74 127.669 Z\" fill=\"#000000\" fill-rule=\"evenodd\" fill-opacity=\"1\" /><path clip-path=\"url(#clip640)\" d=\"M2186.39 127.669 L2193.36 127.669 L2202.18 151.187 L2211.05 127.669 L2218.01 127.669 L2218.01 162.229 L2213.45 162.229 L2213.45 131.882 L2204.54 155.585 L2199.84 155.585 L2190.93 131.882 L2190.93 162.229 L2186.39 162.229 L2186.39 127.669 Z\" fill=\"#000000\" fill-rule=\"evenodd\" fill-opacity=\"1\" /><path clip-path=\"url(#clip640)\" d=\"M2253.17 130.331 L2253.17 135.261 Q2250.81 133.062 2248.13 131.974 Q2245.47 130.886 2242.46 130.886 Q2236.53 130.886 2233.38 134.52 Q2230.23 138.132 2230.23 144.983 Q2230.23 151.812 2233.38 155.446 Q2236.53 159.057 2242.46 159.057 Q2245.47 159.057 2248.13 157.969 Q2250.81 156.881 2253.17 154.682 L2253.17 159.567 Q2250.72 161.233 2247.97 162.067 Q2245.23 162.9 2242.18 162.9 Q2234.33 162.9 2229.82 158.108 Q2225.3 153.293 2225.3 144.983 Q2225.3 136.65 2229.82 131.858 Q2234.33 127.044 2242.18 127.044 Q2245.28 127.044 2248.01 127.877 Q2250.77 128.687 2253.17 130.331 Z\" fill=\"#000000\" fill-rule=\"evenodd\" fill-opacity=\"1\" /><polyline clip-path=\"url(#clip640)\" style=\"stroke:#e26f46; stroke-linecap:round; stroke-linejoin:round; stroke-width:8; stroke-opacity:1; fill:none\" points=\"\n",
       "  1902.47,196.789 2051.85,196.789 \n",
       "  \"/>\n",
       "<path clip-path=\"url(#clip640)\" d=\"M2076.74 179.509 L2081.42 179.509 L2081.42 193.675 L2098.41 193.675 L2098.41 179.509 L2103.08 179.509 L2103.08 214.069 L2098.41 214.069 L2098.41 197.61 L2081.42 197.61 L2081.42 214.069 L2076.74 214.069 L2076.74 179.509 Z\" fill=\"#000000\" fill-rule=\"evenodd\" fill-opacity=\"1\" /><path clip-path=\"url(#clip640)\" d=\"M2112.39 179.509 L2119.36 179.509 L2128.18 203.027 L2137.04 179.509 L2144.01 179.509 L2144.01 214.069 L2139.45 214.069 L2139.45 183.722 L2130.54 207.425 L2125.84 207.425 L2116.93 183.722 L2116.93 214.069 L2112.39 214.069 L2112.39 179.509 Z\" fill=\"#000000\" fill-rule=\"evenodd\" fill-opacity=\"1\" /><path clip-path=\"url(#clip640)\" d=\"M2179.17 182.171 L2179.17 187.101 Q2176.81 184.902 2174.12 183.814 Q2171.46 182.726 2168.45 182.726 Q2162.53 182.726 2159.38 186.36 Q2156.23 189.972 2156.23 196.823 Q2156.23 203.652 2159.38 207.286 Q2162.53 210.897 2168.45 210.897 Q2171.46 210.897 2174.12 209.809 Q2176.81 208.721 2179.17 206.522 L2179.17 211.407 Q2176.72 213.073 2173.96 213.907 Q2171.23 214.74 2168.18 214.74 Q2160.33 214.74 2155.81 209.948 Q2151.3 205.133 2151.3 196.823 Q2151.3 188.49 2155.81 183.698 Q2160.33 178.884 2168.18 178.884 Q2171.28 178.884 2174.01 179.717 Q2176.76 180.527 2179.17 182.171 Z\" fill=\"#000000\" fill-rule=\"evenodd\" fill-opacity=\"1\" /></svg>\n"
      ]
     },
     "execution_count": 95,
     "metadata": {},
     "output_type": "execute_result"
    }
   ],
   "source": [
    "Plots.plot(s8_mchmc_ker; hist=false, label=\"MCHMC\")\n",
    "Plots.plot!(s8_hmc_ker; hist=false, label=\"HMC\",  xlabel=\"s8\")"
   ]
  },
  {
   "cell_type": "code",
   "execution_count": 96,
   "id": "b944b4dc",
   "metadata": {},
   "outputs": [
    {
     "ename": "LoadError",
     "evalue": "UndefVarError: `plot` not defined",
     "output_type": "error",
     "traceback": [
      "UndefVarError: `plot` not defined",
      "",
      "Stacktrace:",
      " [1] top-level scope",
      "   @ In[96]:1"
     ]
    }
   ],
   "source": [
    "plot(o; hist=false)"
   ]
  },
  {
   "cell_type": "markdown",
   "id": "4e1d16c5",
   "metadata": {},
   "source": [
    "## Self-tuning"
   ]
  },
  {
   "cell_type": "code",
   "execution_count": 12,
   "id": "6a20faef",
   "metadata": {},
   "outputs": [
    {
     "name": "stdout",
     "output_type": "stream",
     "text": [
      "L = 0.0, eps = 0.0\n"
     ]
    }
   ],
   "source": [
    "mchmc = Sampler()\n",
    "println(string(\"L = \", mchmc.settings.L, \", eps = \", mchmc.settings.eps))\n",
    "# This should start self-tuning    "
   ]
  },
  {
   "cell_type": "code",
   "execution_count": 13,
   "id": "17d896dd",
   "metadata": {},
   "outputs": [
    {
     "data": {
      "text/plain": [
       "1000"
      ]
     },
     "execution_count": 13,
     "metadata": {},
     "output_type": "execute_result"
    }
   ],
   "source": [
    "mchmc.settings.tune_samples"
   ]
  },
  {
   "cell_type": "code",
   "execution_count": 14,
   "id": "c1d2ef02",
   "metadata": {},
   "outputs": [
    {
     "name": "stdout",
     "output_type": "stream",
     "text": [
      "Self-tuning hyperparameters\n",
      "Hyperparameter tuning (first stage)\n"
     ]
    },
    {
     "ename": "LoadError",
     "evalue": "UndefVarError: `samples` not defined",
     "output_type": "error",
     "traceback": [
      "UndefVarError: `samples` not defined",
      "",
      "Stacktrace:",
      " [1] _tuning(init::Tuple{Vector{Float64}, Vector{Float64}, Vector{Float64}, Float64, Float64}, sampler::Sampler, target::TuringTarget, props::Tuple{Float64, Float64, Bool})",
      "   @ MCHMC ~/.julia/packages/MCHMC/JOk9G/src/tuning.jl:95",
      " [2] tune_hyperparameters(init::Tuple{Vector{Float64}, Vector{Float64}, Vector{Float64}, Float64, Float64}, sampler::Sampler, target::TuringTarget; kwargs::Base.Pairs{Symbol, Integer, Tuple{Symbol, Symbol}, NamedTuple{(:num_steps, :dialog), Tuple{Int64, Bool}}})",
      "   @ MCHMC ~/.julia/packages/MCHMC/JOk9G/src/tuning.jl:185",
      " [3] kwcall(::NamedTuple{(:num_steps, :dialog), Tuple{Int64, Bool}}, ::typeof(MCHMC.tune_hyperparameters), init::Tuple{Vector{Float64}, Vector{Float64}, Vector{Float64}, Float64, Float64}, sampler::Sampler, target::TuringTarget)",
      "   @ MCHMC ~/.julia/packages/MCHMC/JOk9G/src/tuning.jl:157",
      " [4] _set_hyperparameters(init::Tuple{Vector{Float64}, Vector{Float64}, Vector{Float64}, Float64, Float64}, sampler::Sampler, target::TuringTarget; kwargs::Base.Pairs{Symbol, Integer, Tuple{Symbol, Symbol}, NamedTuple{(:num_steps, :dialog), Tuple{Int64, Bool}}})",
      "   @ MCHMC ~/.julia/packages/MCHMC/JOk9G/src/sampler.jl:127",
      " [5] kwcall(::NamedTuple{(:num_steps, :dialog), Tuple{Int64, Bool}}, ::typeof(MCHMC._set_hyperparameters), init::Tuple{Vector{Float64}, Vector{Float64}, Vector{Float64}, Float64, Float64}, sampler::Sampler, target::TuringTarget)",
      "   @ MCHMC ~/.julia/packages/MCHMC/JOk9G/src/sampler.jl:122",
      " [6] Sample(sampler::Sampler, target::TuringTarget; kwargs::Base.Pairs{Symbol, Integer, Tuple{Symbol, Symbol}, NamedTuple{(:num_steps, :dialog), Tuple{Int64, Bool}}})",
      "   @ MCHMC ~/.julia/packages/MCHMC/JOk9G/src/sampler.jl:163",
      " [7] kwcall(::NamedTuple{(:num_steps, :dialog), Tuple{Int64, Bool}}, ::typeof(Sample), sampler::Sampler, target::TuringTarget)",
      "   @ MCHMC ~/.julia/packages/MCHMC/JOk9G/src/sampler.jl:151",
      " [8] top-level scope",
      "   @ In[14]:1"
     ]
    }
   ],
   "source": [
    "samples = Sample(mchmc, target; num_steps=10000, dialog=true);"
   ]
  },
  {
   "cell_type": "code",
   "execution_count": null,
   "id": "f2e7d5c1",
   "metadata": {},
   "outputs": [],
   "source": []
  }
 ],
 "metadata": {
  "kernelspec": {
   "display_name": "Julia 1.9.0-beta3",
   "language": "julia",
   "name": "julia-1.9"
  },
  "language_info": {
   "file_extension": ".jl",
   "mimetype": "application/julia",
   "name": "julia",
   "version": "1.9.0"
  }
 },
 "nbformat": 4,
 "nbformat_minor": 5
}
