{
 "cells": [
  {
   "cell_type": "markdown",
   "id": "91129cb1",
   "metadata": {},
   "source": [
    "# LimberJack Target Practice"
   ]
  },
  {
   "cell_type": "markdown",
   "id": "97121235",
   "metadata": {},
   "source": [
    "## Model"
   ]
  },
  {
   "cell_type": "code",
   "execution_count": null,
   "id": "923a7019",
   "metadata": {},
   "outputs": [],
   "source": [
    "] activate \".\""
   ]
  },
  {
   "cell_type": "code",
   "execution_count": 1,
   "id": "baed58e3",
   "metadata": {},
   "outputs": [
    {
     "name": "stderr",
     "output_type": "stream",
     "text": [
      "\u001b[32m\u001b[1m    CondaPkg \u001b[22m\u001b[39m\u001b[0mFound dependencies: /home/jaimerz/.julia/environments/v1.9/CondaPkg.toml\n",
      "\u001b[32m\u001b[1m    CondaPkg \u001b[22m\u001b[39m\u001b[0mFound dependencies: /home/jaimerz/.julia/packages/PythonCall/3GRYN/CondaPkg.toml\n",
      "\u001b[32m\u001b[1m    CondaPkg \u001b[22m\u001b[39m\u001b[0mDependencies already up to date\n"
     ]
    }
   ],
   "source": [
    "using LinearAlgebra\n",
    "using Turing\n",
    "using LimberJack\n",
    "using DataFrames\n",
    "using CSV\n",
    "using YAML\n",
    "using NPZ\n",
    "using PythonCall\n",
    "sacc = pyimport(\"sacc\");\n",
    "\n",
    "using Revise\n",
    "using MicroCanonicalHMC"
   ]
  },
  {
   "cell_type": "code",
   "execution_count": 4,
   "id": "03da8107",
   "metadata": {},
   "outputs": [
    {
     "name": "stdout",
     "output_type": "stream",
     "text": [
      "DECALS__0 DECALS__0 3\n",
      "DECALS__1 DECALS__1 7\n",
      "DECALS__2 DECALS__2 9\n",
      "DECALS__3 DECALS__3 11\n"
     ]
    }
   ],
   "source": [
    "sacc_path = \"/home/jaimerz/PhD/LimberJack.jl/data/FD/cls_FD_covG.fits\"\n",
    "yaml_path = \"/home/jaimerz/PhD/LimberJack.jl/data/DECALS/DECALS.yml\"\n",
    "sacc_file = sacc.Sacc().load_fits(sacc_path)\n",
    "yaml_file = YAML.load_file(yaml_path)\n",
    "meta, files = make_data(sacc_file, yaml_file)\n",
    "\n",
    "data_vector = meta.data\n",
    "cov_tot = meta.cov\n",
    "errs = sqrt.(diag(cov_tot))\n",
    "fake_data = data_vector ./ errs\n",
    "fake_cov = Hermitian(cov_tot ./ (errs * errs'));"
   ]
  },
  {
   "cell_type": "code",
   "execution_count": 5,
   "id": "a7d6f81c",
   "metadata": {},
   "outputs": [
    {
     "data": {
      "text/plain": [
       "model (generic function with 2 methods)"
      ]
     },
     "execution_count": 5,
     "metadata": {},
     "output_type": "execute_result"
    }
   ],
   "source": [
    "@model function model(data;\n",
    "                      cov=fake_cov,\n",
    "                      meta=meta, \n",
    "                      files=files)\n",
    "    #KiDS priors\n",
    "    Ωm ~ Uniform(0.2, 0.6)\n",
    "    Ωb ~ Uniform(0.028, 0.065)\n",
    "    h ~ TruncatedNormal(72, 5, 0.64, 0.82)\n",
    "    s8 ~ Uniform(0.4, 1.2)\n",
    "    ns ~ Uniform(0.84, 1.1)\n",
    "\n",
    "    DECALS__0_b ~ Uniform(0.8, 3.0)\n",
    "    DECALS__1_b ~ Uniform(0.8, 3.0)\n",
    "    DECALS__2_b ~ Uniform(0.8, 3.0)\n",
    "    DECALS__3_b ~ Uniform(0.8, 3.0)\n",
    "    DECALS__0_dz ~ TruncatedNormal(0.0, 0.007, -0.2, 0.2)\n",
    "    DECALS__1_dz ~ TruncatedNormal(0.0, 0.007, -0.2, 0.2)\n",
    "    DECALS__2_dz ~ TruncatedNormal(0.0, 0.006, -0.2, 0.2)\n",
    "    DECALS__3_dz ~ TruncatedNormal(0.0, 0.01, -0.2, 0.2)\n",
    "\n",
    "    nuisances = Dict(\"DECALS__0_b\" => DECALS__0_b,\n",
    "                     \"DECALS__1_b\" => DECALS__1_b,\n",
    "                     \"DECALS__2_b\" => DECALS__2_b,\n",
    "                     \"DECALS__3_b\" => DECALS__3_b,\n",
    "                     \"DECALS__0_dz\" => DECALS__0_dz,\n",
    "                     \"DECALS__1_dz\" => DECALS__1_dz,\n",
    "                     \"DECALS__2_dz\" => DECALS__2_dz,\n",
    "                     \"DECALS__3_dz\" => DECALS__3_dz)\n",
    "\n",
    "    cosmology = Cosmology(Ωm, Ωb, h, ns, s8,\n",
    "                          tk_mode=\"EisHu\",\n",
    "                          Pk_mode=\"Halofit\")\n",
    "\n",
    "    theory = Theory(cosmology, meta, files; Nuisances=nuisances)\n",
    "    data ~ MvNormal(theory ./ errs, cov)\n",
    "end"
   ]
  },
  {
   "cell_type": "code",
   "execution_count": 7,
   "id": "1eebe796",
   "metadata": {},
   "outputs": [],
   "source": [
    "stat_model = model(fake_data);"
   ]
  },
  {
   "cell_type": "markdown",
   "id": "10dfa4cc",
   "metadata": {},
   "source": [
    "## Sampling"
   ]
  },
  {
   "cell_type": "code",
   "execution_count": 11,
   "id": "c8ed14a3",
   "metadata": {},
   "outputs": [
    {
     "data": {
      "text/plain": [
       "MicroCanonicalHMC.Sampler(MicroCanonicalHMC.Settings(Random.MersenneTwister(0), 1.0, 0, 1000, 100, \"LF\", nothing, nothing, nothing), Hyperparameters(0.01, 3.605551275463989, 0.0, 0.1931833275037836, [1.0, 1.0, 1.0, 1.0, 1.0, 1.0, 1.0, 1.0, 1.0, 1.0, 1.0, 1.0, 1.0]), MicroCanonicalHMC.Leapfrog)"
      ]
     },
     "execution_count": 11,
     "metadata": {},
     "output_type": "execute_result"
    }
   ],
   "source": [
    "target = TuringTarget(stat_model; compute_MAP=false);\n",
    "spl = MCHMC(0.01, sqrt(13); varE_wanted=1.0, sigma=ones(13))"
   ]
  },
  {
   "cell_type": "code",
   "execution_count": null,
   "id": "a79c2b35",
   "metadata": {},
   "outputs": [],
   "source": [
    "samples = sample(stat_model, spl, 100; dialog=true)"
   ]
  },
  {
   "cell_type": "markdown",
   "id": "4aadd3b5",
   "metadata": {},
   "source": [
    "## NUTS"
   ]
  },
  {
   "cell_type": "code",
   "execution_count": 13,
   "id": "c0e3f4f8",
   "metadata": {},
   "outputs": [
    {
     "name": "stderr",
     "output_type": "stream",
     "text": [
      "\u001b[32m\u001b[1m    Updating\u001b[22m\u001b[39m registry at `~/.julia/registries/General.toml`\n",
      "\u001b[32m\u001b[1m   Resolving\u001b[22m\u001b[39m package versions...\n",
      "\u001b[32m\u001b[1m  No Changes\u001b[22m\u001b[39m to `~/PhD/MCHMC.jl/Project.toml`\n",
      "\u001b[32m\u001b[1m  No Changes\u001b[22m\u001b[39m to `~/PhD/MCHMC.jl/Manifest.toml`\n"
     ]
    }
   ],
   "source": [
    "using Pkg\n",
    "Pkg.add(\"DataFrames\")"
   ]
  },
  {
   "cell_type": "code",
   "execution_count": 14,
   "id": "dcbe40a3",
   "metadata": {},
   "outputs": [],
   "source": [
    "#samples_hmc = sample(stat_model, NUTS(500, 0.65),\n",
    "#                  500, progress=true; save_state=true)\n",
    "\n",
    "summary_hmc = CSV.read(\"/home/jaimerz/PhD/LimberJack.jl/chains/DESY1_k1k_priors_EisHu_TAP_0.65/summary_1.csv\", DataFrame)\n",
    "samples_hmc = CSV.read(\"/home/jaimerz/PhD/LimberJack.jl/chains/DESY1_k1k_priors_EisHu_TAP_0.65/chain_1.csv\", DataFrame);"
   ]
  },
  {
   "cell_type": "code",
   "execution_count": 15,
   "id": "504032e4",
   "metadata": {},
   "outputs": [
    {
     "data": {
      "text/plain": [
       "25-element Vector{Float64}:\n",
       "  107.13649180104869\n",
       "  331.4835789816811\n",
       "  207.484061400768\n",
       "  111.64048654758332\n",
       "  600.4013034569028\n",
       "  114.39496059843647\n",
       "  117.33719647252566\n",
       "  114.56966849849671\n",
       "  111.15547545924896\n",
       "  105.06968640469209\n",
       "  961.3377488207435\n",
       "  700.0507524844818\n",
       "  837.2166448905194\n",
       "  682.3676139298411\n",
       "  566.0490257440192\n",
       "  837.5008331222044\n",
       "  733.9973963424983\n",
       "  549.1048795030388\n",
       "  792.5424251430129\n",
       " 1009.6818545217956\n",
       "  763.2299996132994\n",
       "  872.0250289709837\n",
       "  763.7811879280131\n",
       "  552.5319549420313\n",
       "  731.942598764305"
      ]
     },
     "execution_count": 15,
     "metadata": {},
     "output_type": "execute_result"
    }
   ],
   "source": [
    "summary_hmc.ess"
   ]
  },
  {
   "cell_type": "code",
   "execution_count": 16,
   "id": "fa9db828",
   "metadata": {},
   "outputs": [],
   "source": [
    "Wms_hmc = vec(samples_hmc[!, \"Ωm\"])\n",
    "s8s_hmc = vec(samples_hmc[!, \"s8\"]);"
   ]
  },
  {
   "cell_type": "code",
   "execution_count": 17,
   "id": "36f24ece",
   "metadata": {},
   "outputs": [
    {
     "ename": "LoadError",
     "evalue": "UndefVarError: `Wms_mchmc` not defined",
     "output_type": "error",
     "traceback": [
      "UndefVarError: `Wms_mchmc` not defined",
      "",
      "Stacktrace:",
      " [1] top-level scope",
      "   @ In[17]:3"
     ]
    }
   ],
   "source": [
    "Wm_hmc_ker = ash(Wms_hmc; m=30)\n",
    "s8_hmc_ker = ash(s8s_hmc; m=30)\n",
    "Wm_mchmc_ker = ash(Wms_mchmc; m=30)\n",
    "s8_mchmc_ker = ash(s8s_mchmc; m=30);"
   ]
  },
  {
   "cell_type": "code",
   "execution_count": 18,
   "id": "d9be1fbf",
   "metadata": {},
   "outputs": [
    {
     "ename": "LoadError",
     "evalue": "UndefVarError: `Wm_mchmc_ker` not defined",
     "output_type": "error",
     "traceback": [
      "UndefVarError: `Wm_mchmc_ker` not defined",
      "",
      "Stacktrace:",
      " [1] top-level scope",
      "   @ In[18]:1"
     ]
    }
   ],
   "source": [
    "Plots.plot(Wm_mchmc_ker; hist=false, label=\"MCHMC\")\n",
    "Plots.plot!(Wm_hmc_ker; hist=false, label=\"HMC\", xlabel=\"Wm\")"
   ]
  },
  {
   "cell_type": "code",
   "execution_count": 19,
   "id": "0059664f",
   "metadata": {},
   "outputs": [
    {
     "ename": "LoadError",
     "evalue": "UndefVarError: `s8_mchmc_ker` not defined",
     "output_type": "error",
     "traceback": [
      "UndefVarError: `s8_mchmc_ker` not defined",
      "",
      "Stacktrace:",
      " [1] top-level scope",
      "   @ In[19]:1"
     ]
    }
   ],
   "source": [
    "Plots.plot(s8_mchmc_ker; hist=false, label=\"MCHMC\")\n",
    "Plots.plot!(s8_hmc_ker; hist=false, label=\"HMC\",  xlabel=\"s8\")"
   ]
  },
  {
   "cell_type": "markdown",
   "id": "4e1d16c5",
   "metadata": {},
   "source": [
    "## Self-tuning"
   ]
  },
  {
   "cell_type": "code",
   "execution_count": 20,
   "id": "6a20faef",
   "metadata": {},
   "outputs": [
    {
     "ename": "LoadError",
     "evalue": "UndefVarError: `Sampler` not defined",
     "output_type": "error",
     "traceback": [
      "UndefVarError: `Sampler` not defined",
      "",
      "Stacktrace:",
      " [1] top-level scope",
      "   @ In[20]:1"
     ]
    }
   ],
   "source": [
    "mchmc = Sampler()\n",
    "println(string(\"L = \", mchmc.settings.L, \", eps = \", mchmc.settings.eps))\n",
    "# This should start self-tuning    "
   ]
  },
  {
   "cell_type": "code",
   "execution_count": 21,
   "id": "17d896dd",
   "metadata": {},
   "outputs": [
    {
     "ename": "LoadError",
     "evalue": "UndefVarError: `mchmc` not defined",
     "output_type": "error",
     "traceback": [
      "UndefVarError: `mchmc` not defined",
      "",
      "Stacktrace:",
      " [1] top-level scope",
      "   @ In[21]:1"
     ]
    }
   ],
   "source": [
    "mchmc.settings.tune_samples"
   ]
  },
  {
   "cell_type": "code",
   "execution_count": 22,
   "id": "c1d2ef02",
   "metadata": {},
   "outputs": [
    {
     "ename": "LoadError",
     "evalue": "UndefVarError: `Sample` not defined",
     "output_type": "error",
     "traceback": [
      "UndefVarError: `Sample` not defined",
      "",
      "Stacktrace:",
      " [1] top-level scope",
      "   @ In[22]:1"
     ]
    }
   ],
   "source": [
    "samples = Sample(mchmc, target; num_steps=10000, dialog=true);"
   ]
  },
  {
   "cell_type": "code",
   "execution_count": null,
   "id": "f2e7d5c1",
   "metadata": {},
   "outputs": [],
   "source": []
  }
 ],
 "metadata": {
  "kernelspec": {
   "display_name": "Julia 1.9.0-beta3",
   "language": "julia",
   "name": "julia-1.9"
  },
  "language_info": {
   "file_extension": ".jl",
   "mimetype": "application/julia",
   "name": "julia",
   "version": "1.9.0"
  }
 },
 "nbformat": 4,
 "nbformat_minor": 5
}
