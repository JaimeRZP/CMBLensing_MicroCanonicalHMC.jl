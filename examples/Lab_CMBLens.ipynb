{
 "cells": [
  {
   "cell_type": "markdown",
   "id": "91129cb1",
   "metadata": {},
   "source": [
    "# Lab CMBLenses"
   ]
  },
  {
   "cell_type": "code",
   "execution_count": 1,
   "id": "9f042ebb",
   "metadata": {},
   "outputs": [
    {
     "name": "stderr",
     "output_type": "stream",
     "text": [
      "\u001b[32m\u001b[1m  Activating\u001b[22m\u001b[39m project at `~/Glamdring/MicroCanonicalHMC.jl/examples`\n"
     ]
    }
   ],
   "source": [
    "using Pkg\n",
    "Pkg.activate(\".\")\n",
    "Pkg.instantiate()"
   ]
  },
  {
   "cell_type": "code",
   "execution_count": null,
   "id": "87802120-5beb-4414-95ca-c140a3cd2209",
   "metadata": {},
   "outputs": [
    {
     "name": "stderr",
     "output_type": "stream",
     "text": [
      "\u001b[36m\u001b[1m[ \u001b[22m\u001b[39m\u001b[36m\u001b[1mInfo: \u001b[22m\u001b[39mPrecompiling Plots [91a5bcdd-55d7-5caf-9e0b-520d859cae80]\n"
     ]
    }
   ],
   "source": [
    "using Revise, Adapt, CMBLensing, CMBLensingInferenceTestProblem, CUDA, JLD2, LaTeXStrings, LinearAlgebra, \n",
    "    MCMCChains, MCMCDiagnosticTools, MicroCanonicalHMC, MuseInference, MuseInference, Plots, \n",
    "    ProgressMeter, Random, Statistics, Zygote"
   ]
  },
  {
   "cell_type": "code",
   "execution_count": null,
   "id": "6efc8272",
   "metadata": {},
   "outputs": [],
   "source": [
    "Plots.default(fmt=:png, dpi=120, size=(500,300), legendfontsize=10)"
   ]
  },
  {
   "cell_type": "code",
   "execution_count": null,
   "id": "f7a92ecf-4dae-4553-a001-f5376ca7c35a",
   "metadata": {},
   "outputs": [],
   "source": [
    "Nside = 64\n",
    "T = Float64;"
   ]
  },
  {
   "cell_type": "code",
   "execution_count": null,
   "id": "a7d6f81c",
   "metadata": {},
   "outputs": [],
   "source": [
    "prob = load_cmb_lensing_problem(;storage=CuArray, T, Nside, masking=true);\n",
    "prob.Λmass.diag.θ.Aϕ *= 100.0\n",
    "prob.Λmass.diag.θ.r *= 10.0"
   ]
  },
  {
   "cell_type": "markdown",
   "id": "7ff4eb5a-a361-45d7-b344-300e7c3bc6fb",
   "metadata": {
    "tags": []
   },
   "source": [
    "# MCHMC"
   ]
  },
  {
   "cell_type": "markdown",
   "id": "21d25598-3f99-4d84-ac03-aa89605ab8a1",
   "metadata": {},
   "source": [
    "## Init"
   ]
  },
  {
   "cell_type": "code",
   "execution_count": null,
   "id": "cf9d88ae",
   "metadata": {},
   "outputs": [],
   "source": [
    "target = CMBLensingTarget(prob);"
   ]
  },
  {
   "cell_type": "code",
   "execution_count": null,
   "id": "ea5e0b94",
   "metadata": {},
   "outputs": [],
   "source": [
    "d = length(prob.Ωstart)\n",
    "to_vec, from_vec = CMBLensingInferenceTestProblem.to_from_vec(prob.Ωstart);"
   ]
  },
  {
   "cell_type": "markdown",
   "id": "d87fca8f",
   "metadata": {},
   "source": [
    "## Sample"
   ]
  },
  {
   "cell_type": "code",
   "execution_count": null,
   "id": "1359a630",
   "metadata": {
    "code_folding": []
   },
   "outputs": [],
   "source": [
    "spl = MCHMC(500, 0.001; adaptive=true, init_eps=10, init_L=10.0*sqrt(50), sigma=one(LenseBasis(diag(target.Λmass))));"
   ]
  },
  {
   "cell_type": "code",
   "execution_count": null,
   "id": "95e28701",
   "metadata": {},
   "outputs": [],
   "source": [
    "prob.ncalls[] = 0\n",
    "samples_mchmc = adapt(Array, Sample(spl, target, 10_000, dialog=false, progress=true));\n",
    "ncalls_mchmc = prob.ncalls[]"
   ]
  },
  {
   "cell_type": "code",
   "execution_count": null,
   "id": "7b9ab75f-5d3c-4eab-a05c-7140a7195ea4",
   "metadata": {},
   "outputs": [],
   "source": [
    "chain_mchmc = Chains(\n",
    "    permutedims(reduce(hcat, [[exp.(sample[end÷2-2:end÷2-1]); sample[end-3:end]] for sample in eachcol(samples_mchmc) if all(isfinite.(sample))])),\n",
    "    [:r, :Aϕ, :p_logr, :p_logAϕ, :dE, :logpdf],\n",
    ");"
   ]
  },
  {
   "cell_type": "code",
   "execution_count": null,
   "id": "ce31c592-d53b-4948-a8c1-c02e9c3c323b",
   "metadata": {},
   "outputs": [],
   "source": [
    "ess_mchmc = MCMCDiagnosticTools.ess(chain_mchmc)[[:r,:Aϕ],:ess]"
   ]
  },
  {
   "cell_type": "code",
   "execution_count": null,
   "id": "234e5da4",
   "metadata": {},
   "outputs": [],
   "source": [
    "ess_per_call_mchmc = ess_mchmc / ncalls_mchmc"
   ]
  },
  {
   "cell_type": "markdown",
   "id": "e1cb8e03",
   "metadata": {
    "tags": []
   },
   "source": [
    "## Plot"
   ]
  },
  {
   "cell_type": "code",
   "execution_count": null,
   "id": "c3967517",
   "metadata": {},
   "outputs": [],
   "source": [
    "plot(chain_mchmc[:r], label=L\"r\", xlabel=\"step\")\n",
    "plot!(chain_mchmc[:Aϕ], label=L\"A_\\phi\")"
   ]
  },
  {
   "cell_type": "code",
   "execution_count": null,
   "id": "5e12b68a",
   "metadata": {},
   "outputs": [],
   "source": [
    "plot(chain_mchmc[:p_logr], label=L\"\\Pi(\\log \\, r)\", xlabel=\"step\")\n",
    "plot!(chain_mchmc[:p_logAϕ], label=L\"\\Pi(\\log \\, A_\\phi)\")"
   ]
  },
  {
   "cell_type": "code",
   "execution_count": null,
   "id": "ea03057f-c26d-4313-bebe-baad85710618",
   "metadata": {},
   "outputs": [],
   "source": [
    "std(chain_mchmc[:dE])^2/d"
   ]
  },
  {
   "cell_type": "code",
   "execution_count": null,
   "id": "f48c433c",
   "metadata": {},
   "outputs": [],
   "source": [
    "plot(chain_mchmc[:dE]/d, label=L\"\\mathrm{Energy}/d\", xlabel=\"step\")"
   ]
  },
  {
   "cell_type": "code",
   "execution_count": null,
   "id": "9bb97911",
   "metadata": {},
   "outputs": [],
   "source": [
    "plot(var(samples_mchmc, dims=2)[1:end÷2-2])"
   ]
  },
  {
   "cell_type": "code",
   "execution_count": null,
   "id": "01a11feb",
   "metadata": {},
   "outputs": [],
   "source": [
    "plot(\n",
    "    histogram(chain_mchmc[:r], xlabel=L\"r\", label=nothing, lw=1),\n",
    "    histogram(chain_mchmc[:Aϕ], xlabel=L\"A_\\phi\", label=nothing, lw=1),\n",
    "    size = (700,300)\n",
    ")"
   ]
  },
  {
   "cell_type": "markdown",
   "id": "c8ae84fd-2284-4bab-a9bc-79767c3c6767",
   "metadata": {
    "jp-MarkdownHeadingCollapsed": true,
    "tags": []
   },
   "source": [
    "### Animation"
   ]
  },
  {
   "cell_type": "code",
   "execution_count": null,
   "id": "7d3f2c21",
   "metadata": {},
   "outputs": [],
   "source": [
    "to_vec, from_vec = CMBLensingInferenceTestProblem.to_from_vec(prob.Ωstart)\n",
    "last_sample = from_vec(samples_mchmc[end][1:end-2]);"
   ]
  },
  {
   "cell_type": "code",
   "execution_count": null,
   "id": "928e1938",
   "metadata": {},
   "outputs": [],
   "source": [
    "ps = map([(:ϕ°,:I,L\"L\",L\"\\phi^\\circ\"), (:f°,:E,\"L\\ell\",L\"E^\\circ\"), (:f°,:B,L\"\\ell\",L\"B^\\circ\")]) do (k1, k2, xlabel, title)\n",
    "    plot(get_Cℓ(prob.Ωtrue[k1][k2]); label=\"true\", xlabel, title)\n",
    "    plot!(get_Cℓ(prob.Ωstart[k1][k2]); label=\"start\", xlabel, title)\n",
    "    plot!(get_Cℓ(last_sample[k1][k2]); label=\"last sample\", xlabel, title)\n",
    "end\n",
    "plot(ps..., layout=(1,3), xscale=:log10, yscale=:log10, size=(1000,300), legend=:bottomleft)"
   ]
  },
  {
   "cell_type": "code",
   "execution_count": null,
   "id": "688d60ba",
   "metadata": {},
   "outputs": [],
   "source": [
    "ϕs = [∇²*from_vec(sample[1:end-2]).ϕ°/2 for sample in samples_mchmc[end-500:end]]\n",
    "anim = @animate for i in 1:length(ϕs)\n",
    "    motionblur = [0.5, 1, 0.5]\n",
    "    frame = sum(circshift(ϕs, i)[1:length(motionblur)] .* motionblur) / sum(motionblur)\n",
    "    plot(1 * frame, clims=(-0.5, 0.5), c=:thermal, title=\"κ samples\")\n",
    "end;"
   ]
  },
  {
   "cell_type": "code",
   "execution_count": null,
   "id": "180f62db",
   "metadata": {},
   "outputs": [],
   "source": [
    "mp4(anim, \"kappa_samples.mp4\", fps = 25)"
   ]
  },
  {
   "cell_type": "markdown",
   "id": "47bf987c-cf7a-45c4-af34-128247e75fe8",
   "metadata": {
    "tags": []
   },
   "source": [
    "# HMC"
   ]
  },
  {
   "cell_type": "code",
   "execution_count": null,
   "id": "9bc3972a-cbef-4aed-be62-0d8f1bc7dede",
   "metadata": {},
   "outputs": [],
   "source": [
    "Ω = prob.Ωstart\n",
    "samples_hmc = []\n",
    "rng = Xoshiro(1)\n",
    "prob.ncalls[] = 0\n",
    "@showprogress for i=1:500\n",
    "    Ω, = state = hmc_step(rng, prob, Ω, prob.Λmass; symp_kwargs=[(N=25, ϵ=0.05)], progress=false, always_accept=(i<10))\n",
    "    push!(samples_hmc, state)\n",
    "end\n",
    "ncalls_hmc = prob.ncalls[]"
   ]
  },
  {
   "cell_type": "code",
   "execution_count": null,
   "id": "ca8d1356-2707-4cbc-87c5-51dc2c1960bb",
   "metadata": {},
   "outputs": [],
   "source": [
    "chain_hmc = Chains(\n",
    "    permutedims(reduce(hcat, [exp.(sample[1].θ) for sample in samples_hmc])),\n",
    "    [:r, :Aϕ],\n",
    ");"
   ]
  },
  {
   "cell_type": "code",
   "execution_count": null,
   "id": "9b249925-7905-4f02-87dd-ab97a3b5194f",
   "metadata": {},
   "outputs": [],
   "source": [
    "plot(getindex.(samples_hmc, 2))"
   ]
  },
  {
   "cell_type": "markdown",
   "id": "547a93f5-b27f-4f69-a70d-203d6d1cb3ad",
   "metadata": {},
   "source": [
    "## Plot"
   ]
  },
  {
   "cell_type": "code",
   "execution_count": null,
   "id": "72d2f50a-e563-45ce-850a-825e055409ac",
   "metadata": {},
   "outputs": [],
   "source": [
    "plot(chain_hmc[:r], label=L\"r\", xlabel=\"step\")\n",
    "plot!(chain_hmc[:Aϕ], label=L\"A_\\phi\")"
   ]
  },
  {
   "cell_type": "code",
   "execution_count": null,
   "id": "124fd2aa-79ad-47d4-affc-328ffb13758d",
   "metadata": {},
   "outputs": [],
   "source": [
    "ess_hmc = MCMCDiagnosticTools.ess(chain_hmc)[[:r,:Aϕ],:ess]"
   ]
  },
  {
   "cell_type": "code",
   "execution_count": null,
   "id": "2e42557d-3523-4643-b1e1-a56252f3ae95",
   "metadata": {},
   "outputs": [],
   "source": [
    "ess_per_call_hmc = ess_hmc ./ ncalls_hmc"
   ]
  },
  {
   "cell_type": "markdown",
   "id": "6e23fba8-6f15-433e-a13e-38ef4599bb54",
   "metadata": {},
   "source": [
    "# MUSE"
   ]
  },
  {
   "cell_type": "code",
   "execution_count": null,
   "id": "c45bcb53-4095-4c8e-a272-2ae4c184d1e0",
   "metadata": {},
   "outputs": [],
   "source": [
    "using CMBLensing.ComponentArrays, MuseInference.FiniteDifferences"
   ]
  },
  {
   "cell_type": "code",
   "execution_count": null,
   "id": "9533da2a-058e-4e3e-a692-cc8b86651680",
   "metadata": {},
   "outputs": [],
   "source": [
    "muse_prob = CMBLensingMuseProblem(\n",
    "    prob.ds, \n",
    "    MAP_joint_kwargs = (minsteps=3, nsteps=15, αtol=1e-2, gradtol=3e-5, progress=false, history_keys=(:logpdf, :ΔΩ°_norm)),\n",
    ");"
   ]
  },
  {
   "cell_type": "code",
   "execution_count": null,
   "id": "72a84875-7cf8-4840-8ee6-ec8e99113e5f",
   "metadata": {},
   "outputs": [],
   "source": [
    "# small hack to allow getting MUSE covariance in terms of transformed θ\n",
    "CMBLensingMuseInferenceExt = Base.get_extension(CMBLensing,:CMBLensingMuseInferenceExt)\n",
    "CMBLensingMuseInferenceExt.mergeθ(prob::CMBLensingMuseProblem, θ) = exp.(θ)"
   ]
  },
  {
   "cell_type": "code",
   "execution_count": null,
   "id": "a6742160-dbb8-43db-8da4-f61b0dc3f89f",
   "metadata": {
    "jupyter": {
     "source_hidden": true
    },
    "tags": []
   },
   "outputs": [],
   "source": [
    "# z₀ = zero(FieldTuple(MuseInference.select(NamedTuple(prob.Ωstart), (:f°, :ϕ°))))\n",
    "# H_pre = Diagonal(FieldTuple(MuseInference.select(NamedTuple(prob.Λmass.diag), (:f°, :ϕ°))))\n",
    "# H_pre_map = let H_pre=H_pre, z₀=z₀\n",
    "#     MuseInference.LinearMap{eltype(z₀)}(length(z₀), issymmetric=true) do z\n",
    "#         f, = promote(z, z₀)\n",
    "#         LenseBasis(H_pre \\ f)[:]\n",
    "#     end\n",
    "# end\n",
    "# implicit_diff_cg_kwargs = (maxiter=1500,Pl=MuseInference.InverseMap(H_pre_map));"
   ]
  },
  {
   "cell_type": "code",
   "execution_count": null,
   "id": "52c93e18-4d3c-41d9-bc73-95772851c28e",
   "metadata": {},
   "outputs": [],
   "source": [
    "z₀ = zero(MuseInference.sample_x_z(muse_prob, Xoshiro(0), prob.Ωstart.θ).z);\n",
    "result = MuseResult()\n",
    "nsims = 200\n",
    "rng = Xoshiro(0)\n",
    "\n",
    "prob.ncalls[] = 0\n",
    "MuseInference.muse!(result,  muse_prob, prob.Ωstart.θ; nsims, rng, z₀, maxsteps=2, θ_rtol=0, progress=true, save_MAPs=false)\n",
    "MuseInference.get_J!(result, muse_prob; nsims,   rng, z₀, progress=true)\n",
    "MuseInference.get_H!(result, muse_prob; nsims=4, rng, z₀, progress=true, step=std(result.gs)/100, fdm=central_fdm(2,1,adapt=0))\n",
    "ncalls_muse = prob.ncalls[];"
   ]
  },
  {
   "cell_type": "code",
   "execution_count": null,
   "id": "9de40462-fdd7-4b48-b038-d2083a2d3349",
   "metadata": {},
   "outputs": [],
   "source": [
    "chain_muse = Chains(permutedims(rand(result.dist,1000000)), [:logr, :logAϕ]);"
   ]
  },
  {
   "cell_type": "code",
   "execution_count": null,
   "id": "da7745d5-19ec-4668-90cc-8991f21c62ad",
   "metadata": {},
   "outputs": [],
   "source": [
    "ess_per_call_muse = nsims / ncalls_muse"
   ]
  },
  {
   "cell_type": "markdown",
   "id": "01254a7b-ce65-4af3-8d57-cc785f946cd1",
   "metadata": {
    "jp-MarkdownHeadingCollapsed": true,
    "tags": []
   },
   "source": [
    "## Plot"
   ]
  },
  {
   "cell_type": "code",
   "execution_count": null,
   "id": "26449cac-0b94-4715-9840-810c5fd83965",
   "metadata": {
    "tags": []
   },
   "outputs": [],
   "source": [
    "plot(\n",
    "    map(result.history[1:1:end]) do h\n",
    "        p = plot()\n",
    "        for x in h.ẑ_history_sims\n",
    "            plot!(first.(x), yscale=:log10)\n",
    "        end\n",
    "        plot!(first.(h.ẑ_history_dat), yscale=:log10, c=:black)\n",
    "        p\n",
    "    end...,\n",
    "    size = (1000,500),\n",
    "    xticks = 0:2:15,\n",
    "    # ylim = (1e-7, 1e-3)\n",
    ")"
   ]
  },
  {
   "cell_type": "code",
   "execution_count": null,
   "id": "d6f3899e-0245-418e-bcf8-2493e5780018",
   "metadata": {
    "tags": []
   },
   "outputs": [],
   "source": [
    "plot(\n",
    "    map(result.history[1:1:end]) do h\n",
    "        p = plot()\n",
    "        for x in h.ẑ_history_sims\n",
    "            plot!(last.(x), yscale=:log10)\n",
    "        end\n",
    "        plot!(last.(h.ẑ_history_dat), yscale=:log10, c=:black)\n",
    "        p\n",
    "    end...,\n",
    "    size = (1000,500),\n",
    "    xticks = 0:2:15,\n",
    "    ylim = (1e-7, 1e-3)\n",
    ")"
   ]
  },
  {
   "cell_type": "code",
   "execution_count": null,
   "id": "947435f6-6a79-45e1-9efc-7a5bec0178f7",
   "metadata": {
    "tags": []
   },
   "outputs": [],
   "source": [
    "plot(\n",
    "    plot(getindex.([getindex.(result.history, :θ); [result.θ]], :r), m=\".\"),\n",
    "    plot(getindex.([getindex.(result.history, :θ); [result.θ]], :Aϕ), m=\".\")\n",
    ")"
   ]
  },
  {
   "cell_type": "markdown",
   "id": "a50354a8-6824-4449-a6aa-690dc5abdd94",
   "metadata": {},
   "source": [
    "# Compare"
   ]
  },
  {
   "cell_type": "code",
   "execution_count": null,
   "id": "bbb3104b-3c78-459a-af40-ea35cb7fa0da",
   "metadata": {},
   "outputs": [],
   "source": [
    "ess_per_call_muse ./ minimum(ess_per_call_hmc)"
   ]
  },
  {
   "cell_type": "code",
   "execution_count": null,
   "id": "02e30126-0721-4617-8aae-c6aaf8f939bd",
   "metadata": {},
   "outputs": [],
   "source": [
    "ess_per_call_muse ./ minimum(ess_per_call_mchmc)"
   ]
  },
  {
   "cell_type": "code",
   "execution_count": null,
   "id": "c28b7b8b",
   "metadata": {},
   "outputs": [],
   "source": [
    "ess_per_call_mchmc"
   ]
  },
  {
   "cell_type": "code",
   "execution_count": null,
   "id": "c302cb97",
   "metadata": {},
   "outputs": [],
   "source": [
    "ess_per_call_hmc"
   ]
  },
  {
   "cell_type": "code",
   "execution_count": null,
   "id": "b92cb3b9",
   "metadata": {},
   "outputs": [],
   "source": [
    "ess_per_call_muse"
   ]
  },
  {
   "cell_type": "code",
   "execution_count": null,
   "id": "1ef21a76-4714-4418-9bb4-7a9d2847c5bd",
   "metadata": {},
   "outputs": [],
   "source": [
    "which_ess = minimum # can be: first (r), last (Aphi), or minimum\n",
    "bar(\n",
    "    [\"HMC\" \"MCHMC\" \"MUSE\"],\n",
    "    which_ess.([[ess_per_call_hmc] [ess_per_call_mchmc] [ess_per_call_muse]]),\n",
    "    ylabel = \"eff. samples / ∇logP eval\", legend=false)"
   ]
  },
  {
   "cell_type": "code",
   "execution_count": null,
   "id": "370cbc31-54d0-4e80-acf6-528870804f11",
   "metadata": {},
   "outputs": [],
   "source": [
    "p = plot(label=L\"r\", xlabel=\"step (scaled consistently for both)\")\n",
    "for k in [:r, :Aϕ]\n",
    "    plot!(log.(chain_hmc[k][1:length(chain_mchmc)÷25]), c=1, label=(k==:r ? \"HMC\" : nothing))\n",
    "    plot!(log.(chain_mchmc[k][1:25:end]), c=2, label=(k==:r ? \"MCHMC\" : nothing))\n",
    "end\n",
    "p"
   ]
  },
  {
   "cell_type": "code",
   "execution_count": null,
   "id": "dbb7d62a-87d2-4393-bc43-a5addc698207",
   "metadata": {},
   "outputs": [],
   "source": [
    "plot(\n",
    "    begin\n",
    "        histogram(log.(chain_hmc[:r]), normalize=:pdf, alpha=0.5, bins=range(-4,0,length=40), label=\"HMC\")\n",
    "        histogram!(log.(chain_mchmc[:r]), normalize=:pdf, alpha=0.5, bins=range(-4,0,length=40), label=\"MCHMC\")\n",
    "        histogram!(chain_muse[:logr], normalize=:pdf, alpha=0.5, bins=range(-4,0,length=40), label=\"MUSE\")\n",
    "        vline!([prob.Ωtrue.θ.r], c=4, lw=3, label=\"Truth\")\n",
    "    end, \n",
    "    begin\n",
    "        histogram(log.(chain_hmc[:Aϕ]), normalize=:pdf, alpha=0.5, bins=range(-0.6,0.6,length=40), label=\"HMC\")\n",
    "        histogram!(log.(chain_mchmc[:Aϕ]), normalize=:pdf, alpha=0.5, bins=range(-0.6,0.6,length=40), label=\"MCHMC\")\n",
    "        histogram!(chain_muse[:logAϕ], normalize=:pdf, alpha=0.5, bins=range(-0.6,0.6,length=40), label=\"MUSE\")\n",
    "        vline!([prob.Ωtrue.θ.Aϕ], c=4, lw=3, label=\"Truth\")\n",
    "    end, \n",
    "    size = (700, 300)\n",
    ")"
   ]
  },
  {
   "cell_type": "code",
   "execution_count": null,
   "id": "41290466-e88b-436e-8bc1-2ea5297ccfdc",
   "metadata": {},
   "outputs": [],
   "source": []
  }
 ],
 "metadata": {
  "kernelspec": {
   "display_name": "Julia (10 threads) 1.9.0-rc2",
   "language": "julia",
   "name": "julia-_10-threads_-1.9"
  },
  "language_info": {
   "file_extension": ".jl",
   "mimetype": "application/julia",
   "name": "julia",
   "version": "1.9.0"
  },
  "widgets": {
   "application/vnd.jupyter.widget-state+json": {
    "state": {},
    "version_major": 2,
    "version_minor": 0
   }
  }
 },
 "nbformat": 4,
 "nbformat_minor": 5
}
