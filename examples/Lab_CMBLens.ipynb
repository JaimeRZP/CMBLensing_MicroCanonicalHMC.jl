{
 "cells": [
  {
   "cell_type": "markdown",
   "id": "91129cb1",
   "metadata": {},
   "source": [
    "# Lab CMBLenses"
   ]
  },
  {
   "cell_type": "code",
   "execution_count": 1,
   "id": "87802120-5beb-4414-95ca-c140a3cd2209",
   "metadata": {},
   "outputs": [
    {
     "ename": "LoadError",
     "evalue": "ArgumentError: Package CMBLensing [b60c06c0-7e54-11e8-3788-4bd722d65317] is required but does not seem to be installed:\n - Run `Pkg.instantiate()` to install all recorded dependencies.\n",
     "output_type": "error",
     "traceback": [
      "ArgumentError: Package CMBLensing [b60c06c0-7e54-11e8-3788-4bd722d65317] is required but does not seem to be installed:\n - Run `Pkg.instantiate()` to install all recorded dependencies.\n",
      "",
      "Stacktrace:",
      " [1] _require(pkg::Base.PkgId, env::String)",
      "   @ Base ./loading.jl:1733",
      " [2] _require_prelocked(uuidkey::Base.PkgId, env::String)",
      "   @ Base ./loading.jl:1619",
      " [3] macro expansion",
      "   @ ./loading.jl:1607 [inlined]",
      " [4] macro expansion",
      "   @ ./lock.jl:267 [inlined]",
      " [5] require(into::Module, mod::Symbol)",
      "   @ Base ./loading.jl:1570"
     ]
    }
   ],
   "source": [
    "using Revise, CMBLensing, CMBLensingInferenceTestProblem, CUDA, JLD2, LaTeXStrings, LinearAlgebra, \n",
    "    MCMCChains, MCMCDiagnosticTools, MicroCanonicalHMC, MuseInference, MuseInference, Plots, \n",
    "    ProgressMeter, Random, Statistics, Zygote"
   ]
  },
  {
   "cell_type": "code",
   "execution_count": 2,
   "id": "6efc8272",
   "metadata": {},
   "outputs": [
    {
     "ename": "LoadError",
     "evalue": "UndefVarError: `Plots` not defined",
     "output_type": "error",
     "traceback": [
      "UndefVarError: `Plots` not defined",
      "",
      "Stacktrace:",
      " [1] top-level scope",
      "   @ In[2]:1"
     ]
    }
   ],
   "source": [
    "Plots.default(fmt=:png, dpi=120, size=(500,300), legendfontsize=10)"
   ]
  },
  {
   "cell_type": "code",
   "execution_count": 3,
   "id": "f7a92ecf-4dae-4553-a001-f5376ca7c35a",
   "metadata": {},
   "outputs": [
    {
     "data": {
      "text/plain": [
       "Float64"
      ]
     },
     "execution_count": 3,
     "metadata": {},
     "output_type": "execute_result"
    }
   ],
   "source": [
    "Nside = 64\n",
    "T = Float64"
   ]
  },
  {
   "cell_type": "markdown",
   "id": "7ff4eb5a-a361-45d7-b344-300e7c3bc6fb",
   "metadata": {
    "tags": []
   },
   "source": [
    "# MCHMC"
   ]
  },
  {
   "cell_type": "markdown",
   "id": "21d25598-3f99-4d84-ac03-aa89605ab8a1",
   "metadata": {},
   "source": [
    "## Init"
   ]
  },
  {
   "cell_type": "code",
   "execution_count": 4,
   "id": "a7d6f81c",
   "metadata": {},
   "outputs": [
    {
     "ename": "LoadError",
     "evalue": "UndefVarError: `load_cmb_lensing_problem` not defined",
     "output_type": "error",
     "traceback": [
      "UndefVarError: `load_cmb_lensing_problem` not defined",
      "",
      "Stacktrace:",
      " [1] top-level scope",
      "   @ In[4]:1"
     ]
    }
   ],
   "source": [
    "prob = load_cmb_lensing_problem(;storage=Array, T, Nside);"
   ]
  },
  {
   "cell_type": "code",
   "execution_count": 5,
   "id": "cf9d88ae",
   "metadata": {},
   "outputs": [
    {
     "ename": "LoadError",
     "evalue": "UndefVarError: `CMBLensingTarget` not defined",
     "output_type": "error",
     "traceback": [
      "UndefVarError: `CMBLensingTarget` not defined",
      "",
      "Stacktrace:",
      " [1] top-level scope",
      "   @ In[5]:1"
     ]
    }
   ],
   "source": [
    "target = CMBLensingTarget(prob);"
   ]
  },
  {
   "cell_type": "code",
   "execution_count": 6,
   "id": "ea5e0b94",
   "metadata": {},
   "outputs": [
    {
     "ename": "LoadError",
     "evalue": "UndefVarError: `prob` not defined",
     "output_type": "error",
     "traceback": [
      "UndefVarError: `prob` not defined",
      "",
      "Stacktrace:",
      " [1] top-level scope",
      "   @ In[6]:1"
     ]
    }
   ],
   "source": [
    "d = length(prob.Ωstart)\n",
    "to_vec, from_vec = CMBLensingInferenceTestProblem.to_from_vec(prob.Ωstart);"
   ]
  },
  {
   "cell_type": "markdown",
   "id": "d87fca8f",
   "metadata": {},
   "source": [
    "## Sample"
   ]
  },
  {
   "cell_type": "code",
   "execution_count": 7,
   "id": "1359a630",
   "metadata": {
    "code_folding": []
   },
   "outputs": [
    {
     "ename": "LoadError",
     "evalue": "UndefVarError: `target` not defined",
     "output_type": "error",
     "traceback": [
      "UndefVarError: `target` not defined",
      "",
      "Stacktrace:",
      " [1] top-level scope",
      "   @ In[7]:1"
     ]
    }
   ],
   "source": [
    "spl = MCHMC(500, 0.0001; adaptive=true, init_eps=10.0, init_L=10.0*sqrt(50), sigma=one(LenseBasis(diag(target.Λmass))));"
   ]
  },
  {
   "cell_type": "code",
   "execution_count": 8,
   "id": "95e28701",
   "metadata": {},
   "outputs": [
    {
     "ename": "LoadError",
     "evalue": "UndefVarError: `prob` not defined",
     "output_type": "error",
     "traceback": [
      "UndefVarError: `prob` not defined",
      "",
      "Stacktrace:",
      " [1] top-level scope",
      "   @ In[8]:1"
     ]
    }
   ],
   "source": [
    "prob.ncalls[] = 0\n",
    "samples_mchmc = Sample(spl, target, 1000, dialog=false, progress=true);\n",
    "ncalls_mchmc = prob.ncalls[]"
   ]
  },
  {
   "cell_type": "code",
   "execution_count": 9,
   "id": "7b9ab75f-5d3c-4eab-a05c-7140a7195ea4",
   "metadata": {},
   "outputs": [
    {
     "ename": "LoadError",
     "evalue": "UndefVarError: `samples_mchmc` not defined",
     "output_type": "error",
     "traceback": [
      "UndefVarError: `samples_mchmc` not defined",
      "",
      "Stacktrace:",
      " [1] top-level scope",
      "   @ In[9]:1"
     ]
    }
   ],
   "source": [
    "chain_mchmc = Chains(\n",
    "    permutedims(reduce(hcat, [[exp.(sample[end÷2-2:end÷2-1]); sample[end-3:end]] for sample in samples_mchmc if all(isfinite.(sample))])),\n",
    "    [:r, :Aϕ, :p_logr, :p_logAϕ, :dE, :logpdf],\n",
    ");"
   ]
  },
  {
   "cell_type": "code",
   "execution_count": 10,
   "id": "ce31c592-d53b-4948-a8c1-c02e9c3c323b",
   "metadata": {},
   "outputs": [
    {
     "ename": "LoadError",
     "evalue": "UndefVarError: `MCMCDiagnosticTools` not defined",
     "output_type": "error",
     "traceback": [
      "UndefVarError: `MCMCDiagnosticTools` not defined",
      "",
      "Stacktrace:",
      " [1] top-level scope",
      "   @ In[10]:1"
     ]
    }
   ],
   "source": [
    "ess_mchmc = MCMCDiagnosticTools.ess(chain_mchmc)[[:r,:Aϕ],:ess]"
   ]
  },
  {
   "cell_type": "code",
   "execution_count": 11,
   "id": "234e5da4",
   "metadata": {},
   "outputs": [
    {
     "ename": "LoadError",
     "evalue": "UndefVarError: `ess_mchmc` not defined",
     "output_type": "error",
     "traceback": [
      "UndefVarError: `ess_mchmc` not defined",
      "",
      "Stacktrace:",
      " [1] top-level scope",
      "   @ In[11]:1"
     ]
    }
   ],
   "source": [
    "ess_per_call_mchmc = ess_mchmc / ncalls_mchmc"
   ]
  },
  {
   "cell_type": "markdown",
   "id": "e1cb8e03",
   "metadata": {
    "tags": []
   },
   "source": [
    "## Plot"
   ]
  },
  {
   "cell_type": "code",
   "execution_count": 12,
   "id": "c3967517",
   "metadata": {},
   "outputs": [
    {
     "ename": "LoadError",
     "evalue": "LoadError: UndefVarError: `@L_str` not defined\nin expression starting at In[12]:1",
     "output_type": "error",
     "traceback": [
      "LoadError: UndefVarError: `@L_str` not defined\nin expression starting at In[12]:1",
      ""
     ]
    }
   ],
   "source": [
    "plot(chain_mchmc[:r], label=L\"r\", xlabel=\"step\")\n",
    "plot!(chain_mchmc[:Aϕ], label=L\"A_\\phi\")"
   ]
  },
  {
   "cell_type": "code",
   "execution_count": 13,
   "id": "5e12b68a",
   "metadata": {},
   "outputs": [
    {
     "ename": "LoadError",
     "evalue": "LoadError: UndefVarError: `@L_str` not defined\nin expression starting at In[13]:1",
     "output_type": "error",
     "traceback": [
      "LoadError: UndefVarError: `@L_str` not defined\nin expression starting at In[13]:1",
      ""
     ]
    }
   ],
   "source": [
    "plot(chain_mchmc[:p_logAϕ], label=L\"\\Pi(\\log \\, A_\\phi)\")\n",
    "plot!(chain_mchmc[:p_logr], label=L\"\\Pi(\\log \\, r)\", xlabel=\"step\")"
   ]
  },
  {
   "cell_type": "code",
   "execution_count": 14,
   "id": "ea03057f-c26d-4313-bebe-baad85710618",
   "metadata": {},
   "outputs": [
    {
     "ename": "LoadError",
     "evalue": "UndefVarError: `chain_mchmc` not defined",
     "output_type": "error",
     "traceback": [
      "UndefVarError: `chain_mchmc` not defined",
      "",
      "Stacktrace:",
      " [1] top-level scope",
      "   @ In[14]:1"
     ]
    }
   ],
   "source": [
    "std(chain_mchmc[:dE])^2/d"
   ]
  },
  {
   "cell_type": "code",
   "execution_count": 15,
   "id": "f48c433c",
   "metadata": {},
   "outputs": [
    {
     "ename": "LoadError",
     "evalue": "LoadError: UndefVarError: `@L_str` not defined\nin expression starting at In[15]:1",
     "output_type": "error",
     "traceback": [
      "LoadError: UndefVarError: `@L_str` not defined\nin expression starting at In[15]:1",
      ""
     ]
    }
   ],
   "source": [
    "plot(chain_mchmc[:dE]/d, label=L\"\\mathrm{Energy}/d\", xlabel=\"step\")"
   ]
  },
  {
   "cell_type": "code",
   "execution_count": 16,
   "id": "01a11feb",
   "metadata": {},
   "outputs": [
    {
     "ename": "LoadError",
     "evalue": "LoadError: UndefVarError: `@L_str` not defined\nin expression starting at In[16]:2",
     "output_type": "error",
     "traceback": [
      "LoadError: UndefVarError: `@L_str` not defined\nin expression starting at In[16]:2",
      ""
     ]
    }
   ],
   "source": [
    "plot(\n",
    "    histogram(chain_mchmc[:r], xlabel=L\"r\", label=nothing, lw=1),\n",
    "    histogram(chain_mchmc[:Aϕ], xlabel=L\"A_\\phi\", label=nothing, lw=1),\n",
    "    size = (700,300)\n",
    ")"
   ]
  },
  {
   "cell_type": "markdown",
   "id": "c8ae84fd-2284-4bab-a9bc-79767c3c6767",
   "metadata": {
    "jp-MarkdownHeadingCollapsed": true,
    "tags": []
   },
   "source": [
    "### Animation"
   ]
  },
  {
   "cell_type": "code",
   "execution_count": 17,
   "id": "7d3f2c21",
   "metadata": {},
   "outputs": [
    {
     "ename": "LoadError",
     "evalue": "UndefVarError: `CMBLensingInferenceTestProblem` not defined",
     "output_type": "error",
     "traceback": [
      "UndefVarError: `CMBLensingInferenceTestProblem` not defined",
      "",
      "Stacktrace:",
      " [1] top-level scope",
      "   @ In[17]:1"
     ]
    }
   ],
   "source": [
    "to_vec, from_vec = CMBLensingInferenceTestProblem.to_from_vec(prob.Ωstart)\n",
    "last_sample = from_vec(samples_mchmc[end][1:end-2]);"
   ]
  },
  {
   "cell_type": "code",
   "execution_count": 18,
   "id": "928e1938",
   "metadata": {},
   "outputs": [
    {
     "ename": "LoadError",
     "evalue": "LoadError: UndefVarError: `@L_str` not defined\nin expression starting at In[18]:1",
     "output_type": "error",
     "traceback": [
      "LoadError: UndefVarError: `@L_str` not defined\nin expression starting at In[18]:1",
      ""
     ]
    }
   ],
   "source": [
    "ps = map([(:ϕ°,:I,L\"L\",L\"\\phi^\\circ\"), (:f°,:E,\"L\\ell\",L\"E^\\circ\"), (:f°,:B,L\"\\ell\",L\"B^\\circ\")]) do (k1, k2, xlabel, title)\n",
    "    plot(get_Cℓ(prob.Ωtrue[k1][k2]); label=\"true\", xlabel, title)\n",
    "    plot!(get_Cℓ(prob.Ωstart[k1][k2]); label=\"start\", xlabel, title)\n",
    "    plot!(get_Cℓ(last_sample[k1][k2]); label=\"last sample\", xlabel, title)\n",
    "end\n",
    "plot(ps..., layout=(1,3), xscale=:log10, yscale=:log10, size=(1000,300), legend=:bottomleft)"
   ]
  },
  {
   "cell_type": "code",
   "execution_count": 19,
   "id": "688d60ba",
   "metadata": {},
   "outputs": [
    {
     "ename": "LoadError",
     "evalue": "UndefVarError: `samples_mchmc` not defined",
     "output_type": "error",
     "traceback": [
      "UndefVarError: `samples_mchmc` not defined",
      "",
      "Stacktrace:",
      " [1] top-level scope",
      "   @ In[19]:1"
     ]
    }
   ],
   "source": [
    "ϕs = [∇²*from_vec(sample[1:end-2]).ϕ°/2 for sample in samples_mchmc[end-500:end]]\n",
    "anim = @animate for i in 1:length(ϕs)\n",
    "    motionblur = [0.5, 1, 0.5]\n",
    "    frame = sum(circshift(ϕs, i)[1:length(motionblur)] .* motionblur) / sum(motionblur)\n",
    "    plot(1 * frame, clims=(-0.5, 0.5), c=:thermal, title=\"κ samples\")\n",
    "end;"
   ]
  },
  {
   "cell_type": "code",
   "execution_count": 20,
   "id": "180f62db",
   "metadata": {},
   "outputs": [
    {
     "ename": "LoadError",
     "evalue": "UndefVarError: `mp4` not defined",
     "output_type": "error",
     "traceback": [
      "UndefVarError: `mp4` not defined",
      "",
      "Stacktrace:",
      " [1] top-level scope",
      "   @ In[20]:1"
     ]
    }
   ],
   "source": [
    "mp4(anim, \"kappa_samples.mp4\", fps = 25)"
   ]
  },
  {
   "cell_type": "markdown",
   "id": "47bf987c-cf7a-45c4-af34-128247e75fe8",
   "metadata": {
    "tags": []
   },
   "source": [
    "# HMC"
   ]
  },
  {
   "cell_type": "code",
   "execution_count": 21,
   "id": "fc9deff6-0c3b-4d63-8142-a1cb19d19fad",
   "metadata": {},
   "outputs": [
    {
     "ename": "LoadError",
     "evalue": "UndefVarError: `CuArray` not defined",
     "output_type": "error",
     "traceback": [
      "UndefVarError: `CuArray` not defined",
      "",
      "Stacktrace:",
      " [1] top-level scope",
      "   @ In[21]:1"
     ]
    }
   ],
   "source": [
    "prob = load_cmb_lensing_problem(;storage=CuArray, T, Nside);"
   ]
  },
  {
   "cell_type": "code",
   "execution_count": 22,
   "id": "9bc3972a-cbef-4aed-be62-0d8f1bc7dede",
   "metadata": {},
   "outputs": [
    {
     "ename": "LoadError",
     "evalue": "UndefVarError: `prob` not defined",
     "output_type": "error",
     "traceback": [
      "UndefVarError: `prob` not defined",
      "",
      "Stacktrace:",
      " [1] top-level scope",
      "   @ In[22]:1"
     ]
    }
   ],
   "source": [
    "Ω = prob.Ωstart\n",
    "samples_hmc = []\n",
    "rng = Xoshiro(1)\n",
    "prob.ncalls[] = 0\n",
    "@showprogress for i=1:1000\n",
    "    Ω, = state = hmc_step(rng, prob, Ω, prob.Λmass; symp_kwargs=[(N=25, ϵ=0.05)], progress=false, always_accept=(i<10))\n",
    "    push!(samples_hmc, state)\n",
    "end\n",
    "ncalls_hmc = prob.ncalls[]"
   ]
  },
  {
   "cell_type": "code",
   "execution_count": 23,
   "id": "ca8d1356-2707-4cbc-87c5-51dc2c1960bb",
   "metadata": {},
   "outputs": [
    {
     "ename": "LoadError",
     "evalue": "UndefVarError: `samples_hmc` not defined",
     "output_type": "error",
     "traceback": [
      "UndefVarError: `samples_hmc` not defined",
      "",
      "Stacktrace:",
      " [1] top-level scope",
      "   @ In[23]:1"
     ]
    }
   ],
   "source": [
    "chain_hmc = Chains(\n",
    "    permutedims(reduce(hcat, [exp.(sample[1].θ) for sample in samples_hmc])),\n",
    "    [:r, :Aϕ],\n",
    ");"
   ]
  },
  {
   "cell_type": "markdown",
   "id": "547a93f5-b27f-4f69-a70d-203d6d1cb3ad",
   "metadata": {},
   "source": [
    "## Plot"
   ]
  },
  {
   "cell_type": "code",
   "execution_count": 24,
   "id": "72d2f50a-e563-45ce-850a-825e055409ac",
   "metadata": {},
   "outputs": [
    {
     "ename": "LoadError",
     "evalue": "LoadError: UndefVarError: `@L_str` not defined\nin expression starting at In[24]:1",
     "output_type": "error",
     "traceback": [
      "LoadError: UndefVarError: `@L_str` not defined\nin expression starting at In[24]:1",
      ""
     ]
    }
   ],
   "source": [
    "plot(chain_hmc[:r], label=L\"r\", xlabel=\"step\")\n",
    "plot!(chain_hmc[:Aϕ], label=L\"A_\\phi\")"
   ]
  },
  {
   "cell_type": "code",
   "execution_count": 25,
   "id": "124fd2aa-79ad-47d4-affc-328ffb13758d",
   "metadata": {},
   "outputs": [
    {
     "ename": "LoadError",
     "evalue": "UndefVarError: `MCMCDiagnosticTools` not defined",
     "output_type": "error",
     "traceback": [
      "UndefVarError: `MCMCDiagnosticTools` not defined",
      "",
      "Stacktrace:",
      " [1] top-level scope",
      "   @ In[25]:1"
     ]
    }
   ],
   "source": [
    "ess_hmc = MCMCDiagnosticTools.ess(chain_hmc)[[:r,:Aϕ],:ess]"
   ]
  },
  {
   "cell_type": "code",
   "execution_count": 26,
   "id": "2e42557d-3523-4643-b1e1-a56252f3ae95",
   "metadata": {},
   "outputs": [
    {
     "ename": "LoadError",
     "evalue": "UndefVarError: `ess_hmc` not defined",
     "output_type": "error",
     "traceback": [
      "UndefVarError: `ess_hmc` not defined",
      "",
      "Stacktrace:",
      " [1] top-level scope",
      "   @ In[26]:1"
     ]
    }
   ],
   "source": [
    "ess_per_call_hmc = ess_hmc ./ ncalls_hmc"
   ]
  },
  {
   "cell_type": "markdown",
   "id": "6e23fba8-6f15-433e-a13e-38ef4599bb54",
   "metadata": {},
   "source": [
    "# MUSE"
   ]
  },
  {
   "cell_type": "code",
   "execution_count": 27,
   "id": "c45bcb53-4095-4c8e-a272-2ae4c184d1e0",
   "metadata": {},
   "outputs": [
    {
     "ename": "LoadError",
     "evalue": "ArgumentError: Package CMBLensing [b60c06c0-7e54-11e8-3788-4bd722d65317] is required but does not seem to be installed:\n - Run `Pkg.instantiate()` to install all recorded dependencies.\n",
     "output_type": "error",
     "traceback": [
      "ArgumentError: Package CMBLensing [b60c06c0-7e54-11e8-3788-4bd722d65317] is required but does not seem to be installed:\n - Run `Pkg.instantiate()` to install all recorded dependencies.\n",
      "",
      "Stacktrace:",
      " [1] _require(pkg::Base.PkgId, env::String)",
      "   @ Base ./loading.jl:1733",
      " [2] _require_prelocked(uuidkey::Base.PkgId, env::String)",
      "   @ Base ./loading.jl:1619",
      " [3] macro expansion",
      "   @ ./loading.jl:1607 [inlined]",
      " [4] macro expansion",
      "   @ ./lock.jl:267 [inlined]",
      " [5] require(into::Module, mod::Symbol)",
      "   @ Base ./loading.jl:1570"
     ]
    }
   ],
   "source": [
    "using CMBLensing.ComponentArrays, MuseInference.FiniteDifferences"
   ]
  },
  {
   "cell_type": "code",
   "execution_count": 28,
   "id": "b72d1791-b4b1-4168-b469-54cb2035ce02",
   "metadata": {},
   "outputs": [
    {
     "ename": "LoadError",
     "evalue": "UndefVarError: `CuArray` not defined",
     "output_type": "error",
     "traceback": [
      "UndefVarError: `CuArray` not defined",
      "",
      "Stacktrace:",
      " [1] top-level scope",
      "   @ In[28]:1"
     ]
    }
   ],
   "source": [
    "prob = load_cmb_lensing_problem(;storage=CuArray, T, Nside);"
   ]
  },
  {
   "cell_type": "code",
   "execution_count": 29,
   "id": "9533da2a-058e-4e3e-a692-cc8b86651680",
   "metadata": {},
   "outputs": [
    {
     "ename": "LoadError",
     "evalue": "UndefVarError: `CMBLensingMuseProblem` not defined",
     "output_type": "error",
     "traceback": [
      "UndefVarError: `CMBLensingMuseProblem` not defined",
      "",
      "Stacktrace:",
      " [1] top-level scope",
      "   @ In[29]:1"
     ]
    }
   ],
   "source": [
    "muse_prob = CMBLensingMuseProblem(\n",
    "    prob.ds, \n",
    "    MAP_joint_kwargs = (minsteps=3, nsteps=15, αtol=1e-2, gradtol=3e-5, progress=false, history_keys=(:logpdf, :ΔΩ°_norm)),\n",
    ");"
   ]
  },
  {
   "cell_type": "code",
   "execution_count": 30,
   "id": "72a84875-7cf8-4840-8ee6-ec8e99113e5f",
   "metadata": {},
   "outputs": [
    {
     "ename": "LoadError",
     "evalue": "UndefVarError: `CMBLensing` not defined",
     "output_type": "error",
     "traceback": [
      "UndefVarError: `CMBLensing` not defined",
      "",
      "Stacktrace:",
      " [1] top-level scope",
      "   @ In[30]:2"
     ]
    }
   ],
   "source": [
    "# small hack to allow getting MUSE covariance in terms of transformed θ\n",
    "CMBLensingMuseInferenceExt = Base.get_extension(CMBLensing,:CMBLensingMuseInferenceExt)\n",
    "CMBLensingMuseInferenceExt.mergeθ(prob::CMBLensingMuseProblem, θ) = exp.(θ)"
   ]
  },
  {
   "cell_type": "code",
   "execution_count": 31,
   "id": "a6742160-dbb8-43db-8da4-f61b0dc3f89f",
   "metadata": {
    "jupyter": {
     "source_hidden": true
    },
    "tags": []
   },
   "outputs": [],
   "source": [
    "# z₀ = zero(FieldTuple(MuseInference.select(NamedTuple(prob.Ωstart), (:f°, :ϕ°))))\n",
    "# H_pre = Diagonal(FieldTuple(MuseInference.select(NamedTuple(prob.Λmass.diag), (:f°, :ϕ°))))\n",
    "# H_pre_map = let H_pre=H_pre, z₀=z₀\n",
    "#     MuseInference.LinearMap{eltype(z₀)}(length(z₀), issymmetric=true) do z\n",
    "#         f, = promote(z, z₀)\n",
    "#         LenseBasis(H_pre \\ f)[:]\n",
    "#     end\n",
    "# end\n",
    "# implicit_diff_cg_kwargs = (maxiter=1500,Pl=MuseInference.InverseMap(H_pre_map));"
   ]
  },
  {
   "cell_type": "code",
   "execution_count": 32,
   "id": "52c93e18-4d3c-41d9-bc73-95772851c28e",
   "metadata": {},
   "outputs": [
    {
     "ename": "LoadError",
     "evalue": "UndefVarError: `MuseInference` not defined",
     "output_type": "error",
     "traceback": [
      "UndefVarError: `MuseInference` not defined",
      "",
      "Stacktrace:",
      " [1] top-level scope",
      "   @ In[32]:1"
     ]
    }
   ],
   "source": [
    "z₀ = zero(MuseInference.sample_x_z(muse_prob, Xoshiro(0), prob.Ωstart.θ).z);\n",
    "result = MuseResult()\n",
    "nsims = 200\n",
    "rng = Xoshiro(0)\n",
    "\n",
    "prob.ncalls[] = 0\n",
    "MuseInference.muse!(result,  muse_prob, prob.Ωstart.θ; nsims, rng, z₀, maxsteps=2, θ_rtol=0, progress=true, save_MAPs=false)\n",
    "MuseInference.get_J!(result, muse_prob; nsims,   rng, z₀, progress=true)\n",
    "MuseInference.get_H!(result, muse_prob; nsims=4, rng, z₀, progress=true, step=std(result.gs)/100, fdm=central_fdm(2,1,adapt=0))\n",
    "ncalls_muse = prob.ncalls[];"
   ]
  },
  {
   "cell_type": "code",
   "execution_count": 33,
   "id": "9de40462-fdd7-4b48-b038-d2083a2d3349",
   "metadata": {},
   "outputs": [
    {
     "ename": "LoadError",
     "evalue": "UndefVarError: `result` not defined",
     "output_type": "error",
     "traceback": [
      "UndefVarError: `result` not defined",
      "",
      "Stacktrace:",
      " [1] top-level scope",
      "   @ In[33]:1"
     ]
    }
   ],
   "source": [
    "chain_muse = Chains(permutedims(rand(result.dist,100000)), [:logr, :logAϕ]);"
   ]
  },
  {
   "cell_type": "markdown",
   "id": "01254a7b-ce65-4af3-8d57-cc785f946cd1",
   "metadata": {},
   "source": [
    "## Plot"
   ]
  },
  {
   "cell_type": "code",
   "execution_count": 34,
   "id": "26449cac-0b94-4715-9840-810c5fd83965",
   "metadata": {
    "jupyter": {
     "source_hidden": true
    }
   },
   "outputs": [
    {
     "ename": "LoadError",
     "evalue": "UndefVarError: `result` not defined",
     "output_type": "error",
     "traceback": [
      "UndefVarError: `result` not defined",
      "",
      "Stacktrace:",
      " [1] top-level scope",
      "   @ In[34]:1"
     ]
    }
   ],
   "source": [
    "plot(\n",
    "    map(result.history[1:1:end]) do h\n",
    "        p = plot()\n",
    "        for x in h.ẑ_history_sims\n",
    "            plot!(first.(x), yscale=:log10)\n",
    "        end\n",
    "        plot!(first.(h.ẑ_history_dat), yscale=:log10, c=:black)\n",
    "        p\n",
    "    end...,\n",
    "    size = (1000,500),\n",
    "    xticks = 0:2:15,\n",
    "    # ylim = (1e-7, 1e-3)\n",
    ")"
   ]
  },
  {
   "cell_type": "code",
   "execution_count": 35,
   "id": "d6f3899e-0245-418e-bcf8-2493e5780018",
   "metadata": {
    "jupyter": {
     "source_hidden": true
    },
    "tags": []
   },
   "outputs": [
    {
     "ename": "LoadError",
     "evalue": "UndefVarError: `result` not defined",
     "output_type": "error",
     "traceback": [
      "UndefVarError: `result` not defined",
      "",
      "Stacktrace:",
      " [1] top-level scope",
      "   @ In[35]:1"
     ]
    }
   ],
   "source": [
    "plot(\n",
    "    map(result.history[1:1:end]) do h\n",
    "        p = plot()\n",
    "        for x in h.ẑ_history_sims\n",
    "            plot!(last.(x), yscale=:log10)\n",
    "        end\n",
    "        plot!(last.(h.ẑ_history_dat), yscale=:log10, c=:black)\n",
    "        p\n",
    "    end...,\n",
    "    size = (1000,500),\n",
    "    xticks = 0:2:15,\n",
    "    ylim = (1e-7, 1e-3)\n",
    ")"
   ]
  },
  {
   "cell_type": "code",
   "execution_count": 36,
   "id": "947435f6-6a79-45e1-9efc-7a5bec0178f7",
   "metadata": {
    "tags": []
   },
   "outputs": [
    {
     "ename": "LoadError",
     "evalue": "UndefVarError: `plot` not defined",
     "output_type": "error",
     "traceback": [
      "UndefVarError: `plot` not defined",
      "",
      "Stacktrace:",
      " [1] top-level scope",
      "   @ In[36]:1"
     ]
    }
   ],
   "source": [
    "plot(\n",
    "    plot(getindex.([getindex.(result.history, :θ); [result.θ]], :r), m=\".\"),\n",
    "    plot(getindex.([getindex.(result.history, :θ); [result.θ]], :Aϕ), m=\".\")\n",
    ")"
   ]
  },
  {
   "cell_type": "code",
   "execution_count": 37,
   "id": "da7745d5-19ec-4668-90cc-8991f21c62ad",
   "metadata": {},
   "outputs": [
    {
     "ename": "LoadError",
     "evalue": "UndefVarError: `nsims` not defined",
     "output_type": "error",
     "traceback": [
      "UndefVarError: `nsims` not defined",
      "",
      "Stacktrace:",
      " [1] top-level scope",
      "   @ In[37]:1"
     ]
    }
   ],
   "source": [
    "ess_per_call_muse = nsims / ncalls_muse"
   ]
  },
  {
   "cell_type": "markdown",
   "id": "a50354a8-6824-4449-a6aa-690dc5abdd94",
   "metadata": {},
   "source": [
    "# Compare"
   ]
  },
  {
   "cell_type": "code",
   "execution_count": 38,
   "id": "1ef21a76-4714-4418-9bb4-7a9d2847c5bd",
   "metadata": {},
   "outputs": [
    {
     "ename": "LoadError",
     "evalue": "UndefVarError: `bar` not defined",
     "output_type": "error",
     "traceback": [
      "UndefVarError: `bar` not defined",
      "",
      "Stacktrace:",
      " [1] top-level scope",
      "   @ In[38]:2"
     ]
    }
   ],
   "source": [
    "which_ess = minimum # can be: first (r), last (Aphi), or minimum\n",
    "bar(\n",
    "    [\"HMC\" \"MCHMC\" \"MUSE\"],\n",
    "    which_ess.([[ess_per_call_hmc] [ess_per_call_mchmc] [ess_per_call_muse]]),\n",
    "    ylabel = \"eff. samples / ∇logP eval\"\n",
    ")"
   ]
  },
  {
   "cell_type": "code",
   "execution_count": 39,
   "id": "370cbc31-54d0-4e80-acf6-528870804f11",
   "metadata": {},
   "outputs": [
    {
     "ename": "LoadError",
     "evalue": "LoadError: UndefVarError: `@L_str` not defined\nin expression starting at In[39]:1",
     "output_type": "error",
     "traceback": [
      "LoadError: UndefVarError: `@L_str` not defined\nin expression starting at In[39]:1",
      ""
     ]
    }
   ],
   "source": [
    "p = plot(label=L\"r\", xlabel=\"step (scaled consistently for both)\")\n",
    "for k in [:r, :Aϕ]\n",
    "    plot!(chain_hmc[k][1:length(chain_mchmc)÷25], c=1, label=(k==:r ? \"HMC\" : nothing))\n",
    "    plot!(chain_mchmc[k][1:25:end], c=2, label=(k==:r ? \"MCHMC\" : nothing))\n",
    "end\n",
    "p"
   ]
  },
  {
   "cell_type": "code",
   "execution_count": 40,
   "id": "dbb7d62a-87d2-4393-bc43-a5addc698207",
   "metadata": {},
   "outputs": [
    {
     "ename": "LoadError",
     "evalue": "UndefVarError: `histogram` not defined",
     "output_type": "error",
     "traceback": [
      "UndefVarError: `histogram` not defined",
      "",
      "Stacktrace:",
      " [1] top-level scope",
      "   @ In[40]:3"
     ]
    }
   ],
   "source": [
    "plot(\n",
    "    begin\n",
    "        histogram(log.(chain_hmc[:r]), normalize=:pdf, alpha=0.5, bins=range(-4,0,length=40))\n",
    "        histogram!(log.(chain_mchmc[:r]), normalize=:pdf, alpha=0.5, bins=range(-4,0,length=40))\n",
    "        histogram!(chain_muse[:logr], normalize=:pdf, alpha=0.5, bins=range(-4,0,length=40))\n",
    "        vline!([prob.Ωtrue.θ.r], c=4, lw=3)\n",
    "    end, \n",
    "    begin\n",
    "        histogram(log.(chain_hmc[:Aϕ]), normalize=:pdf, alpha=0.5, bins=range(-0.6,0.6,length=40))\n",
    "        histogram!(log.(chain_mchmc[:Aϕ]), normalize=:pdf, alpha=0.5, bins=range(-0.6,0.6,length=40))\n",
    "        histogram!(chain_muse[:logAϕ], normalize=:pdf, alpha=0.5, bins=range(-0.6,0.6,length=40))\n",
    "        vline!([prob.Ωtrue.θ.Aϕ], c=4, lw=3)\n",
    "    end, \n",
    "    size = (700, 300)\n",
    ")"
   ]
  }
 ],
 "metadata": {
  "kernelspec": {
   "display_name": "Julia 1.9.0-rc1",
   "language": "julia",
   "name": "julia-1.9"
  },
  "language_info": {
   "file_extension": ".jl",
   "mimetype": "application/julia",
   "name": "julia",
   "version": "1.9.0"
  },
  "widgets": {
   "application/vnd.jupyter.widget-state+json": {
    "state": {},
    "version_major": 2,
    "version_minor": 0
   }
  }
 },
 "nbformat": 4,
 "nbformat_minor": 5
}
