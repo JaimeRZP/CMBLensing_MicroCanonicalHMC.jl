{
 "cells": [
  {
   "cell_type": "markdown",
   "id": "91129cb1",
   "metadata": {},
   "source": [
    "# Lab CMBLenses"
   ]
  },
  {
   "cell_type": "code",
   "execution_count": 1,
   "id": "9f042ebb",
   "metadata": {},
   "outputs": [
    {
     "name": "stderr",
     "output_type": "stream",
     "text": [
      "\u001b[32m\u001b[1m  Activating\u001b[22m\u001b[39m project at `~/Glamdring/MicroCanonicalHMC.jl/examples`\n"
     ]
    }
   ],
   "source": [
    "using Pkg\n",
    "Pkg.activate(\".\")\n",
    "Pkg.instantiate()"
   ]
  },
  {
   "cell_type": "code",
   "execution_count": 2,
   "id": "87802120-5beb-4414-95ca-c140a3cd2209",
   "metadata": {},
   "outputs": [],
   "source": [
    "using Revise, Adapt, CMBLensing, CMBLensingInferenceTestProblem, CUDA, JLD2, LaTeXStrings, LinearAlgebra, \n",
    "    MCMCChains, MCMCDiagnosticTools, MicroCanonicalHMC, MuseInference, MuseInference, Plots, \n",
    "    ProgressMeter, Random, Statistics, Zygote"
   ]
  },
  {
   "cell_type": "code",
   "execution_count": 3,
   "id": "6efc8272",
   "metadata": {},
   "outputs": [],
   "source": [
    "Plots.default(fmt=:png, dpi=120, size=(500,300), legendfontsize=10)"
   ]
  },
  {
   "cell_type": "code",
   "execution_count": 4,
   "id": "f7a92ecf-4dae-4553-a001-f5376ca7c35a",
   "metadata": {},
   "outputs": [],
   "source": [
    "Nside = 64\n",
    "T = Float64;"
   ]
  },
  {
   "cell_type": "code",
   "execution_count": null,
   "id": "048f06ff",
   "metadata": {},
   "outputs": [],
   "source": [
    "prob = load_cmb_lensing_problem(;storage=Array, T, Nside, masking=true);"
   ]
  },
  {
   "cell_type": "code",
   "execution_count": null,
   "id": "561335a1",
   "metadata": {},
   "outputs": [],
   "source": [
    "prob.Λmass.diag.θ.r *= 5.85\n",
    "prob.Λmass.diag.θ.Aϕ *= 112.09"
   ]
  },
  {
   "cell_type": "markdown",
   "id": "7ff4eb5a-a361-45d7-b344-300e7c3bc6fb",
   "metadata": {
    "heading_collapsed": true,
    "tags": []
   },
   "source": [
    "# MCHMC"
   ]
  },
  {
   "cell_type": "code",
   "execution_count": 13,
   "id": "cf9d88ae",
   "metadata": {
    "hidden": true
   },
   "outputs": [],
   "source": [
    "target = CMBLensingTarget(Cuprob);"
   ]
  },
  {
   "cell_type": "code",
   "execution_count": 14,
   "id": "ea5e0b94",
   "metadata": {
    "hidden": true
   },
   "outputs": [],
   "source": [
    "d = length(prob.Ωstart)\n",
    "println(d)\n",
    "to_vec, from_vec = CMBLensingInferenceTestProblem.to_from_vec(Cuprob.Ωstart);"
   ]
  },
  {
   "cell_type": "markdown",
   "id": "d87fca8f",
   "metadata": {
    "hidden": true
   },
   "source": [
    "## Sample"
   ]
  },
  {
   "cell_type": "code",
   "execution_count": 31,
   "id": "de4a1bbc",
   "metadata": {
    "hidden": true
   },
   "outputs": [],
   "source": [
    "precond = load(\"../chains/pixel_preconditioners/pp_nside_64\", \"dist_mat_precond\");"
   ]
  },
  {
   "cell_type": "code",
   "execution_count": 32,
   "id": "12a5f470",
   "metadata": {
    "hidden": true
   },
   "outputs": [],
   "source": [
    "precond = from_vec(adapt(CuArray, dist_mat_precond));"
   ]
  },
  {
   "cell_type": "code",
   "execution_count": 33,
   "id": "1359a630",
   "metadata": {
    "code_folding": [],
    "hidden": true
   },
   "outputs": [],
   "source": [
    "TEV = 0.0001\n",
    "spl = MCHMC(500, TEV; adaptive=true, init_eps=30, init_L=10.0*sqrt(50), sigma=from_vec(dist_mat_precond),\n",
    "            file_name=string(\"../chains/MCHMC/CMBLensing_masked_no_cosmo_TEV_\", TEV));"
   ]
  },
  {
   "cell_type": "code",
   "execution_count": 34,
   "id": "95e28701",
   "metadata": {
    "hidden": true
   },
   "outputs": [
    {
     "name": "stderr",
     "output_type": "stream",
     "text": [
      "\r",
      "\u001b[32mMCHMC:   7%|███▏                                        |  ETA: 0:10:57\u001b[39m\r\n",
      "\u001b[34m  ϵ:     6.107891481338328\u001b[39m\r\n",
      "\u001b[34m  dE/d:  0.0001045243187351501\u001b[39m"
     ]
    },
    {
     "ename": "LoadError",
     "evalue": "InterruptException:",
     "output_type": "error",
     "traceback": [
      "InterruptException:",
      "",
      "Stacktrace:",
      "  [1] cached_compilation(cache::Dict{UInt64, Any}, cfg::GPUCompiler.CompilerConfig{GPUCompiler.PTXCompilerTarget, CUDA.CUDACompilerParams}, ft::Type, tt::Type, compiler::Function, linker::Function)",
      "    @ GPUCompiler ~/.julia/packages/GPUCompiler/HQBY9/src/cache.jl:27",
      "  [2] macro expansion",
      "    @ ~/.julia/packages/CUDA/is36v/src/compiler/execution.jl:310 [inlined]",
      "  [3] macro expansion",
      "    @ ./lock.jl:267 [inlined]",
      "  [4] cufunction(f::GPUArrays.var\"#67#68\", tt::Type{Tuple{CUDA.CuKernelContext, CuDeviceArray{Float64, 3, 1}, Float64}}; kwargs::Base.Pairs{Symbol, Union{}, Tuple{}, NamedTuple{(), Tuple{}}})",
      "    @ CUDA ~/.julia/packages/CUDA/is36v/src/compiler/execution.jl:306",
      "  [5] cufunction",
      "    @ ~/.julia/packages/CUDA/is36v/src/compiler/execution.jl:303 [inlined]",
      "  [6] macro expansion",
      "    @ ~/.julia/packages/CUDA/is36v/src/compiler/execution.jl:104 [inlined]",
      "  [7] #launch_heuristic#244",
      "    @ ~/.julia/packages/CUDA/is36v/src/gpuarrays.jl:17 [inlined]",
      "  [8] launch_heuristic",
      "    @ ~/.julia/packages/CUDA/is36v/src/gpuarrays.jl:15 [inlined]",
      "  [9] gpu_call(::GPUArrays.var\"#67#68\", ::CuArray{Float64, 3, CUDA.Mem.DeviceBuffer}, ::Float64; target::CuArray{Float64, 3, CUDA.Mem.DeviceBuffer}, elements::Nothing, threads::Nothing, blocks::Nothing, name::String)",
      "    @ GPUArrays ~/.julia/packages/GPUArrays/TnEpb/src/device/execution.jl:61",
      " [10] gpu_call",
      "    @ ~/.julia/packages/GPUArrays/TnEpb/src/device/execution.jl:34 [inlined]",
      " [11] generic_lmul!",
      "    @ ~/.julia/packages/GPUArrays/TnEpb/src/host/linalg.jl:356 [inlined]",
      " [12] lmul!",
      "    @ ~/.julia/packages/GPUArrays/TnEpb/src/host/linalg.jl:364 [inlined]",
      " [13] mul!",
      "    @ ~/.julia/packages/AbstractFFTs/0uOAT/src/definitions.jl:286 [inlined]",
      " [14] ldiv!(y::CuArray{Float64, 3, CUDA.Mem.DeviceBuffer}, p::CUDA.CUFFT.rCuFFTPlan{Float64, -1, false, 3}, x::CuArray{ComplexF64, 3, CUDA.Mem.DeviceBuffer})",
      "    @ AbstractFFTs ~/.julia/packages/AbstractFFTs/0uOAT/src/definitions.jl:242",
      " [15] m_irfft!",
      "    @ ~/.julia/packages/CMBLensing/aN0Zc/src/util_fft.jl:27 [inlined]",
      " [16] Basis2Prod",
      "    @ ~/.julia/packages/CMBLensing/aN0Zc/src/proj_lambert.jl:278 [inlined]",
      " [17] Basis",
      "    @ ~/.julia/packages/CMBLensing/aN0Zc/src/generic.jl:116 [inlined]",
      " [18] macro expansion",
      "    @ ~/.julia/packages/StaticArrays/a4r2v/src/broadcast.jl:140 [inlined]",
      " [19] __broadcast",
      "    @ ~/.julia/packages/StaticArrays/a4r2v/src/broadcast.jl:128 [inlined]",
      " [20] _broadcast",
      "    @ ~/.julia/packages/StaticArrays/a4r2v/src/broadcast.jl:124 [inlined]",
      " [21] copy",
      "    @ ~/.julia/packages/StaticArrays/a4r2v/src/broadcast.jl:62 [inlined]",
      " [22] materialize",
      "    @ ./broadcast.jl:873 [inlined]",
      " [23] LenseBasis(dst::StaticArraysCore.SVector{2, BaseField{QUMap, ProjLambert{Float64, CuArray{Float64, 1, CUDA.Mem.DeviceBuffer}, CuArray{Float64, 2, CUDA.Mem.DeviceBuffer}}, Float64, CuArray{Float64, 3, CUDA.Mem.DeviceBuffer}}}, src::StaticArraysCore.SVector{2, BaseField{QUFourier, ProjLambert{Float64, CuArray{Float64, 1, CUDA.Mem.DeviceBuffer}, CuArray{Float64, 2, CUDA.Mem.DeviceBuffer}}, ComplexF64, CuArray{ComplexF64, 3, CUDA.Mem.DeviceBuffer}}})",
      "    @ CMBLensing ~/.julia/packages/CMBLensing/aN0Zc/src/generic.jl:125",
      " [24] (::CMBLensing.var\"#v!#461\"{CachedLenseFlow{RK4Solver, Float64, Diagonal{Float64, BaseField{Map, ProjLambert{Float64, CuArray{Float64, 1, CUDA.Mem.DeviceBuffer}, CuArray{Float64, 2, CUDA.Mem.DeviceBuffer}}, Float64, CuArray{Float64, 2, CUDA.Mem.DeviceBuffer}}}, BaseField{Map, ProjLambert{Float64, CuArray{Float64, 1, CUDA.Mem.DeviceBuffer}, CuArray{Float64, 2, CUDA.Mem.DeviceBuffer}}, Float64, CuArray{Float64, 2, CUDA.Mem.DeviceBuffer}}, BaseField{Fourier, ProjLambert{Float64, CuArray{Float64, 1, CUDA.Mem.DeviceBuffer}, CuArray{Float64, 2, CUDA.Mem.DeviceBuffer}}, ComplexF64, CuArray{ComplexF64, 2, CUDA.Mem.DeviceBuffer}}, BaseField{QUMap, ProjLambert{Float64, CuArray{Float64, 1, CUDA.Mem.DeviceBuffer}, CuArray{Float64, 2, CUDA.Mem.DeviceBuffer}}, Float64, CuArray{Float64, 3, CUDA.Mem.DeviceBuffer}}, BaseField{QUFourier, ProjLambert{Float64, CuArray{Float64, 1, CUDA.Mem.DeviceBuffer}, CuArray{Float64, 2, CUDA.Mem.DeviceBuffer}}, ComplexF64, CuArray{ComplexF64, 3, CUDA.Mem.DeviceBuffer}}}})(v::BaseField{QUMap, ProjLambert{Float64, CuArray{Float64, 1, CUDA.Mem.DeviceBuffer}, CuArray{Float64, 2, CUDA.Mem.DeviceBuffer}}, Float64, CuArray{Float64, 3, CUDA.Mem.DeviceBuffer}}, t::Float64, f::BaseField{QUMap, ProjLambert{Float64, CuArray{Float64, 1, CUDA.Mem.DeviceBuffer}, CuArray{Float64, 2, CUDA.Mem.DeviceBuffer}}, Float64, CuArray{Float64, 3, CUDA.Mem.DeviceBuffer}})",
      "    @ CMBLensing ~/.julia/packages/CMBLensing/aN0Zc/src/lenseflow.jl:157",
      " [25] (::RK4Solver)(F!::CMBLensing.var\"#v!#461\"{CachedLenseFlow{RK4Solver, Float64, Diagonal{Float64, BaseField{Map, ProjLambert{Float64, CuArray{Float64, 1, CUDA.Mem.DeviceBuffer}, CuArray{Float64, 2, CUDA.Mem.DeviceBuffer}}, Float64, CuArray{Float64, 2, CUDA.Mem.DeviceBuffer}}}, BaseField{Map, ProjLambert{Float64, CuArray{Float64, 1, CUDA.Mem.DeviceBuffer}, CuArray{Float64, 2, CUDA.Mem.DeviceBuffer}}, Float64, CuArray{Float64, 2, CUDA.Mem.DeviceBuffer}}, BaseField{Fourier, ProjLambert{Float64, CuArray{Float64, 1, CUDA.Mem.DeviceBuffer}, CuArray{Float64, 2, CUDA.Mem.DeviceBuffer}}, ComplexF64, CuArray{ComplexF64, 2, CUDA.Mem.DeviceBuffer}}, BaseField{QUMap, ProjLambert{Float64, CuArray{Float64, 1, CUDA.Mem.DeviceBuffer}, CuArray{Float64, 2, CUDA.Mem.DeviceBuffer}}, Float64, CuArray{Float64, 3, CUDA.Mem.DeviceBuffer}}, BaseField{QUFourier, ProjLambert{Float64, CuArray{Float64, 1, CUDA.Mem.DeviceBuffer}, CuArray{Float64, 2, CUDA.Mem.DeviceBuffer}}, ComplexF64, CuArray{ComplexF64, 3, CUDA.Mem.DeviceBuffer}}}}, y₀::BaseField{QUMap, ProjLambert{Float64, CuArray{Float64, 1, CUDA.Mem.DeviceBuffer}, CuArray{Float64, 2, CUDA.Mem.DeviceBuffer}}, Float64, CuArray{Float64, 3, CUDA.Mem.DeviceBuffer}}, ::Pair{Float64, Float64})",
      "    @ CMBLensing ~/.julia/packages/CMBLensing/aN0Zc/src/numerical_algorithms.jl:16",
      " [26] macro expansion",
      "    @ ~/.julia/packages/TimerOutputs/LHjFw/src/TimerOutput.jl:237 [inlined]",
      " [27] *(Lϕ::CachedLenseFlow{RK4Solver, Float64, Diagonal{Float64, BaseField{Map, ProjLambert{Float64, CuArray{Float64, 1, CUDA.Mem.DeviceBuffer}, CuArray{Float64, 2, CUDA.Mem.DeviceBuffer}}, Float64, CuArray{Float64, 2, CUDA.Mem.DeviceBuffer}}}, BaseField{Map, ProjLambert{Float64, CuArray{Float64, 1, CUDA.Mem.DeviceBuffer}, CuArray{Float64, 2, CUDA.Mem.DeviceBuffer}}, Float64, CuArray{Float64, 2, CUDA.Mem.DeviceBuffer}}, BaseField{Fourier, ProjLambert{Float64, CuArray{Float64, 1, CUDA.Mem.DeviceBuffer}, CuArray{Float64, 2, CUDA.Mem.DeviceBuffer}}, ComplexF64, CuArray{ComplexF64, 2, CUDA.Mem.DeviceBuffer}}, BaseField{QUMap, ProjLambert{Float64, CuArray{Float64, 1, CUDA.Mem.DeviceBuffer}, CuArray{Float64, 2, CUDA.Mem.DeviceBuffer}}, Float64, CuArray{Float64, 3, CUDA.Mem.DeviceBuffer}}, BaseField{QUFourier, ProjLambert{Float64, CuArray{Float64, 1, CUDA.Mem.DeviceBuffer}, CuArray{Float64, 2, CUDA.Mem.DeviceBuffer}}, ComplexF64, CuArray{ComplexF64, 3, CUDA.Mem.DeviceBuffer}}}, f::BaseField{EBFourier, ProjLambert{Float64, CuArray{Float64, 1, CUDA.Mem.DeviceBuffer}, CuArray{Float64, 2, CUDA.Mem.DeviceBuffer}}, ComplexF64, CuArray{ComplexF64, 3, CUDA.Mem.DeviceBuffer}})",
      "    @ CMBLensing ~/.julia/packages/CMBLensing/aN0Zc/src/flowops.jl:11",
      " [28] adjoint",
      "    @ ~/.julia/packages/CMBLensing/aN0Zc/src/flowops.jl:42 [inlined]",
      " [29] _pullback(__context__::Zygote.Context{false}, 443::typeof(*), Lϕ::CachedLenseFlow{RK4Solver, Float64, Diagonal{Float64, BaseField{Map, ProjLambert{Float64, CuArray{Float64, 1, CUDA.Mem.DeviceBuffer}, CuArray{Float64, 2, CUDA.Mem.DeviceBuffer}}, Float64, CuArray{Float64, 2, CUDA.Mem.DeviceBuffer}}}, BaseField{Map, ProjLambert{Float64, CuArray{Float64, 1, CUDA.Mem.DeviceBuffer}, CuArray{Float64, 2, CUDA.Mem.DeviceBuffer}}, Float64, CuArray{Float64, 2, CUDA.Mem.DeviceBuffer}}, BaseField{Fourier, ProjLambert{Float64, CuArray{Float64, 1, CUDA.Mem.DeviceBuffer}, CuArray{Float64, 2, CUDA.Mem.DeviceBuffer}}, ComplexF64, CuArray{ComplexF64, 2, CUDA.Mem.DeviceBuffer}}, BaseField{QUMap, ProjLambert{Float64, CuArray{Float64, 1, CUDA.Mem.DeviceBuffer}, CuArray{Float64, 2, CUDA.Mem.DeviceBuffer}}, Float64, CuArray{Float64, 3, CUDA.Mem.DeviceBuffer}}, BaseField{QUFourier, ProjLambert{Float64, CuArray{Float64, 1, CUDA.Mem.DeviceBuffer}, CuArray{Float64, 2, CUDA.Mem.DeviceBuffer}}, ComplexF64, CuArray{ComplexF64, 3, CUDA.Mem.DeviceBuffer}}}, f::BaseField{EBFourier, ProjLambert{Float64, CuArray{Float64, 1, CUDA.Mem.DeviceBuffer}, CuArray{Float64, 2, CUDA.Mem.DeviceBuffer}}, ComplexF64, CuArray{ComplexF64, 3, CUDA.Mem.DeviceBuffer}})",
      "    @ CMBLensing ~/.julia/packages/ZygoteRules/OgCVT/src/adjoint.jl:66",
      " [30] _pullback",
      "    @ ~/.julia/packages/CMBLensing/aN0Zc/src/dataset.jl:63 [inlined]",
      " [31] _pullback(::Zygote.Context{false}, ::CMBLensing.var\"##_#834\", ::BaseField{EBFourier, ProjLambert{Float64, CuArray{Float64, 1, CUDA.Mem.DeviceBuffer}, CuArray{Float64, 2, CUDA.Mem.DeviceBuffer}}, ComplexF64, CuArray{ComplexF64, 3, CUDA.Mem.DeviceBuffer}}, ::BaseField{Fourier, ProjLambert{Float64, CuArray{Float64, 1, CUDA.Mem.DeviceBuffer}, CuArray{Float64, 2, CUDA.Mem.DeviceBuffer}}, ComplexF64, CuArray{ComplexF64, 2, CUDA.Mem.DeviceBuffer}}, ::ComponentVector{Float64, Vector{Float64}, Tuple{Axis{(r = 1, Aϕ = 2)}}}, ::BaseField{EBFourier, ProjLambert{Float64, CuArray{Float64, 1, CUDA.Mem.DeviceBuffer}, CuArray{Float64, 2, CUDA.Mem.DeviceBuffer}}, ComplexF64, CuArray{ComplexF64, 3, CUDA.Mem.DeviceBuffer}}, ::BaseDataSet, ::CMBLensing.Logpdf, ::Base.RefValue{Real})",
      "    @ Zygote ~/.julia/packages/Zygote/TSj5C/src/compiler/interface2.jl:0",
      " [32] _pullback",
      "    @ ~/.julia/packages/CMBLensing/aN0Zc/src/dataset.jl:59 [inlined]",
      " [33] _pullback(::Zygote.Context{false}, ::typeof(Core.kwcall), ::NamedTuple{(:f, :ϕ, :θ), Tuple{BaseField{EBFourier, ProjLambert{Float64, CuArray{Float64, 1, CUDA.Mem.DeviceBuffer}, CuArray{Float64, 2, CUDA.Mem.DeviceBuffer}}, ComplexF64, CuArray{ComplexF64, 3, CUDA.Mem.DeviceBuffer}}, BaseField{Fourier, ProjLambert{Float64, CuArray{Float64, 1, CUDA.Mem.DeviceBuffer}, CuArray{Float64, 2, CUDA.Mem.DeviceBuffer}}, ComplexF64, CuArray{ComplexF64, 2, CUDA.Mem.DeviceBuffer}}, ComponentVector{Float64, Vector{Float64}, Tuple{Axis{(r = 1, Aϕ = 2)}}}}}, ::BaseDataSet, ::CMBLensing.Logpdf, ::Base.RefValue{Real})",
      "    @ Zygote ~/.julia/packages/Zygote/TSj5C/src/compiler/interface2.jl:0",
      " [34] _apply",
      "    @ ./boot.jl:838 [inlined]",
      " [35] adjoint",
      "    @ ~/.julia/packages/Zygote/TSj5C/src/lib/lib.jl:203 [inlined]",
      " [36] _pullback",
      "    @ ~/.julia/packages/ZygoteRules/OgCVT/src/adjoint.jl:66 [inlined]",
      " [37] _pullback",
      "    @ ~/.julia/packages/CMBLensing/aN0Zc/src/simpleppl.jl:92 [inlined]",
      " [38] _pullback(::Zygote.Context{false}, ::CMBLensing.var\"##loglikelihood#814\", ::Base.Pairs{Symbol, AbstractVector, Tuple{Symbol, Symbol, Symbol}, NamedTuple{(:f, :ϕ, :θ), Tuple{BaseField{EBFourier, ProjLambert{Float64, CuArray{Float64, 1, CUDA.Mem.DeviceBuffer}, CuArray{Float64, 2, CUDA.Mem.DeviceBuffer}}, ComplexF64, CuArray{ComplexF64, 3, CUDA.Mem.DeviceBuffer}}, BaseField{Fourier, ProjLambert{Float64, CuArray{Float64, 1, CUDA.Mem.DeviceBuffer}, CuArray{Float64, 2, CUDA.Mem.DeviceBuffer}}, ComplexF64, CuArray{ComplexF64, 2, CUDA.Mem.DeviceBuffer}}, ComponentVector{Float64, Vector{Float64}, Tuple{Axis{(r = 1, Aϕ = 2)}}}}}}, ::typeof(StatsAPI.loglikelihood), ::BaseDataSet)",
      "    @ Zygote ~/.julia/packages/Zygote/TSj5C/src/compiler/interface2.jl:0",
      " [39] _apply",
      "    @ ./boot.jl:838 [inlined]",
      " [40] adjoint",
      "    @ ~/.julia/packages/Zygote/TSj5C/src/lib/lib.jl:203 [inlined]",
      " [41] _pullback",
      "    @ ~/.julia/packages/ZygoteRules/OgCVT/src/adjoint.jl:66 [inlined]",
      " [42] _pullback",
      "    @ ~/.julia/packages/CMBLensing/aN0Zc/src/simpleppl.jl:90 [inlined]",
      " [43] _pullback(::Zygote.Context{false}, ::typeof(Core.kwcall), ::NamedTuple{(:f, :ϕ, :θ), Tuple{BaseField{EBFourier, ProjLambert{Float64, CuArray{Float64, 1, CUDA.Mem.DeviceBuffer}, CuArray{Float64, 2, CUDA.Mem.DeviceBuffer}}, ComplexF64, CuArray{ComplexF64, 3, CUDA.Mem.DeviceBuffer}}, BaseField{Fourier, ProjLambert{Float64, CuArray{Float64, 1, CUDA.Mem.DeviceBuffer}, CuArray{Float64, 2, CUDA.Mem.DeviceBuffer}}, ComplexF64, CuArray{ComplexF64, 2, CUDA.Mem.DeviceBuffer}}, ComponentVector{Float64, Vector{Float64}, Tuple{Axis{(r = 1, Aϕ = 2)}}}}}, ::typeof(StatsAPI.loglikelihood), ::BaseDataSet)",
      "    @ Zygote ~/.julia/packages/Zygote/TSj5C/src/compiler/interface2.jl:0",
      " [44] _apply(::Function, ::Vararg{Any})",
      "    @ Core ./boot.jl:838",
      " [45] adjoint",
      "    @ ~/.julia/packages/Zygote/TSj5C/src/lib/lib.jl:203 [inlined]",
      " [46] _pullback",
      "    @ ~/.julia/packages/ZygoteRules/OgCVT/src/adjoint.jl:66 [inlined]",
      " [47] _pullback",
      "    @ ~/.julia/packages/CMBLensing/aN0Zc/src/simpleppl.jl:96 [inlined]",
      " [48] _pullback(::Zygote.Context{false}, ::CMBLensing.var\"##logpdf#815\", ::Base.Pairs{Symbol, AbstractVector, Tuple{Symbol, Symbol, Symbol}, NamedTuple{(:f, :ϕ, :θ), Tuple{BaseField{EBFourier, ProjLambert{Float64, CuArray{Float64, 1, CUDA.Mem.DeviceBuffer}, CuArray{Float64, 2, CUDA.Mem.DeviceBuffer}}, ComplexF64, CuArray{ComplexF64, 3, CUDA.Mem.DeviceBuffer}}, BaseField{Fourier, ProjLambert{Float64, CuArray{Float64, 1, CUDA.Mem.DeviceBuffer}, CuArray{Float64, 2, CUDA.Mem.DeviceBuffer}}, ComplexF64, CuArray{ComplexF64, 2, CUDA.Mem.DeviceBuffer}}, ComponentVector{Float64, Vector{Float64}, Tuple{Axis{(r = 1, Aϕ = 2)}}}}}}, ::typeof(logpdf), ::BaseDataSet)",
      "    @ Zygote ~/.julia/packages/Zygote/TSj5C/src/compiler/interface2.jl:0",
      " [49] _apply(::Function, ::Vararg{Any})",
      "    @ Core ./boot.jl:838",
      " [50] adjoint",
      "    @ ~/.julia/packages/Zygote/TSj5C/src/lib/lib.jl:203 [inlined]",
      " [51] _pullback",
      "    @ ~/.julia/packages/ZygoteRules/OgCVT/src/adjoint.jl:66 [inlined]",
      " [52] _pullback",
      "    @ ~/.julia/packages/CMBLensing/aN0Zc/src/simpleppl.jl:95 [inlined]",
      " [53] _pullback(::Zygote.Context{false}, ::typeof(Core.kwcall), ::NamedTuple{(:f, :ϕ, :θ), Tuple{BaseField{EBFourier, ProjLambert{Float64, CuArray{Float64, 1, CUDA.Mem.DeviceBuffer}, CuArray{Float64, 2, CUDA.Mem.DeviceBuffer}}, ComplexF64, CuArray{ComplexF64, 3, CUDA.Mem.DeviceBuffer}}, BaseField{Fourier, ProjLambert{Float64, CuArray{Float64, 1, CUDA.Mem.DeviceBuffer}, CuArray{Float64, 2, CUDA.Mem.DeviceBuffer}}, ComplexF64, CuArray{ComplexF64, 2, CUDA.Mem.DeviceBuffer}}, ComponentVector{Float64, Vector{Float64}, Tuple{Axis{(r = 1, Aϕ = 2)}}}}}, ::typeof(logpdf), ::BaseDataSet)",
      "    @ Zygote ~/.julia/packages/Zygote/TSj5C/src/compiler/interface2.jl:0",
      " [54] _pullback",
      "    @ ~/.julia/packages/CMBLensing/aN0Zc/src/dataset.jl:88 [inlined]",
      " [55] _pullback(::Zygote.Context{false}, ::CMBLensing.var\"##logpdf#838\", ::ComponentVector{Float64, Vector{Float64}, Tuple{Axis{(r = 1, Aϕ = 2)}}}, ::Base.Pairs{Symbol, BaseField{B, ProjLambert{Float64, CuArray{Float64, 1, CUDA.Mem.DeviceBuffer}, CuArray{Float64, 2, CUDA.Mem.DeviceBuffer}}, Float64, A} where {B, A<:(AbstractArray{Float64})}, Tuple{Symbol, Symbol}, NamedTuple{(:f°, :ϕ°), Tuple{BaseField{QUMap, ProjLambert{Float64, CuArray{Float64, 1, CUDA.Mem.DeviceBuffer}, CuArray{Float64, 2, CUDA.Mem.DeviceBuffer}}, Float64, CuArray{Float64, 3, CUDA.Mem.DeviceBuffer}}, BaseField{Map, ProjLambert{Float64, CuArray{Float64, 1, CUDA.Mem.DeviceBuffer}, CuArray{Float64, 2, CUDA.Mem.DeviceBuffer}}, Float64, CuArray{Float64, 2, CUDA.Mem.DeviceBuffer}}}}}, ::typeof(logpdf), ::Mixed{BaseDataSet})",
      "    @ Zygote ~/.julia/packages/Zygote/TSj5C/src/compiler/interface2.jl:0",
      " [56] _pullback",
      "    @ ~/.julia/packages/CMBLensing/aN0Zc/src/dataset.jl:86 [inlined]",
      " [57] _pullback(::Zygote.Context{false}, ::typeof(Core.kwcall), ::NamedTuple{(:f°, :ϕ°, :θ), Tuple{BaseField{QUMap, ProjLambert{Float64, CuArray{Float64, 1, CUDA.Mem.DeviceBuffer}, CuArray{Float64, 2, CUDA.Mem.DeviceBuffer}}, Float64, CuArray{Float64, 3, CUDA.Mem.DeviceBuffer}}, BaseField{Map, ProjLambert{Float64, CuArray{Float64, 1, CUDA.Mem.DeviceBuffer}, CuArray{Float64, 2, CUDA.Mem.DeviceBuffer}}, Float64, CuArray{Float64, 2, CUDA.Mem.DeviceBuffer}}, ComponentVector{Float64, Vector{Float64}, Tuple{Axis{(r = 1, Aϕ = 2)}}}}}, ::typeof(logpdf), ::Mixed{BaseDataSet})",
      "    @ Zygote ~/.julia/packages/Zygote/TSj5C/src/compiler/interface2.jl:0",
      " [58] _pullback",
      "    @ ~/.julia/packages/CMBLensingInferenceTestProblem/xYW0Q/src/CMBLensingInferenceTestProblem.jl:56 [inlined]",
      " [59] _pullback(ctx::Zygote.Context{false}, f::CMBLensingInferenceTestProblem.CMBLensingLogDensityProblem, args::FieldTuple{NamedTuple{(:f°, :ϕ°, :θ), Tuple{BaseField{QUMap, ProjLambert{Float64, CuArray{Float64, 1, CUDA.Mem.DeviceBuffer}, CuArray{Float64, 2, CUDA.Mem.DeviceBuffer}}, Float64, CuArray{Float64, 3, CUDA.Mem.DeviceBuffer}}, BaseField{Map, ProjLambert{Float64, CuArray{Float64, 1, CUDA.Mem.DeviceBuffer}, CuArray{Float64, 2, CUDA.Mem.DeviceBuffer}}, Float64, CuArray{Float64, 2, CUDA.Mem.DeviceBuffer}}, ComponentVector{Float64, Vector{Float64}, Tuple{Axis{(r = 1, Aϕ = 2)}}}}}, CMBLensing.BasisProd{Tuple{QUMap, Map, CMBLensing.Basis}}, Float64})",
      "    @ Zygote ~/.julia/packages/Zygote/TSj5C/src/compiler/interface2.jl:0",
      " [60] _pullback",
      "    @ ~/Glamdring/MicroCanonicalHMC.jl/src/targets.jl:140 [inlined]",
      " [61] _pullback(ctx::Zygote.Context{false}, f::MicroCanonicalHMC.var\"#nlogp#33\"{CMBLensingInferenceTestProblem.CMBLensingLogDensityProblem, MicroCanonicalHMC.var\"#inv_transform#32\"{Diagonal{Float64, FieldTuple{NamedTuple{(:f°, :ϕ°, :θ), Tuple{BaseField{EBFourier, ProjLambert{Float64, CuArray{Float64, 1, CUDA.Mem.DeviceBuffer}, CuArray{Float64, 2, CUDA.Mem.DeviceBuffer}}, Float64, CuArray{Float64, 3, CUDA.Mem.DeviceBuffer}}, BaseField{Fourier, ProjLambert{Float64, CuArray{Float64, 1, CUDA.Mem.DeviceBuffer}, CuArray{Float64, 2, CUDA.Mem.DeviceBuffer}}, Float64, CuArray{Float64, 2, CUDA.Mem.DeviceBuffer}}, ComponentVector{Float64, Vector{Float64}, Tuple{Axis{(r = 1, Aϕ = 2)}}}}}, CMBLensing.BasisProd{Tuple{EBFourier, Fourier, CMBLensing.Basis}}, Float64}}}}, args::FieldTuple{NamedTuple{(:f°, :ϕ°, :θ), Tuple{BaseField{QUMap, ProjLambert{Float64, CuArray{Float64, 1, CUDA.Mem.DeviceBuffer}, CuArray{Float64, 2, CUDA.Mem.DeviceBuffer}}, Float64, CuArray{Float64, 3, CUDA.Mem.DeviceBuffer}}, BaseField{Map, ProjLambert{Float64, CuArray{Float64, 1, CUDA.Mem.DeviceBuffer}, CuArray{Float64, 2, CUDA.Mem.DeviceBuffer}}, Float64, CuArray{Float64, 2, CUDA.Mem.DeviceBuffer}}, ComponentVector{Float64, Vector{Float64}, Tuple{Axis{(r = 1, Aϕ = 2)}}}}}, CMBLensing.BasisProd{Tuple{QUMap, Map, CMBLensing.Basis}}, Float64})",
      "    @ Zygote ~/.julia/packages/Zygote/TSj5C/src/compiler/interface2.jl:0",
      " [62] pullback(f::Function, cx::Zygote.Context{false}, args::FieldTuple{NamedTuple{(:f°, :ϕ°, :θ), Tuple{BaseField{QUMap, ProjLambert{Float64, CuArray{Float64, 1, CUDA.Mem.DeviceBuffer}, CuArray{Float64, 2, CUDA.Mem.DeviceBuffer}}, Float64, CuArray{Float64, 3, CUDA.Mem.DeviceBuffer}}, BaseField{Map, ProjLambert{Float64, CuArray{Float64, 1, CUDA.Mem.DeviceBuffer}, CuArray{Float64, 2, CUDA.Mem.DeviceBuffer}}, Float64, CuArray{Float64, 2, CUDA.Mem.DeviceBuffer}}, ComponentVector{Float64, Vector{Float64}, Tuple{Axis{(r = 1, Aϕ = 2)}}}}}, CMBLensing.BasisProd{Tuple{QUMap, Map, CMBLensing.Basis}}, Float64})",
      "    @ Zygote ~/.julia/packages/Zygote/TSj5C/src/compiler/interface.jl:44",
      " [63] pullback",
      "    @ ~/.julia/packages/Zygote/TSj5C/src/compiler/interface.jl:42 [inlined]",
      " [64] gradient(f::Function, args::FieldTuple{NamedTuple{(:f°, :ϕ°, :θ), Tuple{BaseField{QUMap, ProjLambert{Float64, CuArray{Float64, 1, CUDA.Mem.DeviceBuffer}, CuArray{Float64, 2, CUDA.Mem.DeviceBuffer}}, Float64, CuArray{Float64, 3, CUDA.Mem.DeviceBuffer}}, BaseField{Map, ProjLambert{Float64, CuArray{Float64, 1, CUDA.Mem.DeviceBuffer}, CuArray{Float64, 2, CUDA.Mem.DeviceBuffer}}, Float64, CuArray{Float64, 2, CUDA.Mem.DeviceBuffer}}, ComponentVector{Float64, Vector{Float64}, Tuple{Axis{(r = 1, Aϕ = 2)}}}}}, CMBLensing.BasisProd{Tuple{QUMap, Map, CMBLensing.Basis}}, Float64})",
      "    @ Zygote ~/.julia/packages/Zygote/TSj5C/src/compiler/interface.jl:96",
      " [65] (::MicroCanonicalHMC.var\"#grad_nlogp#34\"{MicroCanonicalHMC.var\"#nlogp#33\"{CMBLensingInferenceTestProblem.CMBLensingLogDensityProblem, MicroCanonicalHMC.var\"#inv_transform#32\"{Diagonal{Float64, FieldTuple{NamedTuple{(:f°, :ϕ°, :θ), Tuple{BaseField{EBFourier, ProjLambert{Float64, CuArray{Float64, 1, CUDA.Mem.DeviceBuffer}, CuArray{Float64, 2, CUDA.Mem.DeviceBuffer}}, Float64, CuArray{Float64, 3, CUDA.Mem.DeviceBuffer}}, BaseField{Fourier, ProjLambert{Float64, CuArray{Float64, 1, CUDA.Mem.DeviceBuffer}, CuArray{Float64, 2, CUDA.Mem.DeviceBuffer}}, Float64, CuArray{Float64, 2, CUDA.Mem.DeviceBuffer}}, ComponentVector{Float64, Vector{Float64}, Tuple{Axis{(r = 1, Aϕ = 2)}}}}}, CMBLensing.BasisProd{Tuple{EBFourier, Fourier, CMBLensing.Basis}}, Float64}}}}})(xt::FieldTuple{NamedTuple{(:f°, :ϕ°, :θ), Tuple{BaseField{QUMap, ProjLambert{Float64, CuArray{Float64, 1, CUDA.Mem.DeviceBuffer}, CuArray{Float64, 2, CUDA.Mem.DeviceBuffer}}, Float64, CuArray{Float64, 3, CUDA.Mem.DeviceBuffer}}, BaseField{Map, ProjLambert{Float64, CuArray{Float64, 1, CUDA.Mem.DeviceBuffer}, CuArray{Float64, 2, CUDA.Mem.DeviceBuffer}}, Float64, CuArray{Float64, 2, CUDA.Mem.DeviceBuffer}}, ComponentVector{Float64, Vector{Float64}, Tuple{Axis{(r = 1, Aϕ = 2)}}}}}, CMBLensing.BasisProd{Tuple{QUMap, Map, CMBLensing.Basis}}, Float64})",
      "    @ MicroCanonicalHMC ~/Glamdring/MicroCanonicalHMC.jl/src/targets.jl:144",
      " [66] (::MicroCanonicalHMC.var\"#nlogp_grad_nlogp#35\"{MicroCanonicalHMC.var\"#grad_nlogp#34\"{MicroCanonicalHMC.var\"#nlogp#33\"{CMBLensingInferenceTestProblem.CMBLensingLogDensityProblem, MicroCanonicalHMC.var\"#inv_transform#32\"{Diagonal{Float64, FieldTuple{NamedTuple{(:f°, :ϕ°, :θ), Tuple{BaseField{EBFourier, ProjLambert{Float64, CuArray{Float64, 1, CUDA.Mem.DeviceBuffer}, CuArray{Float64, 2, CUDA.Mem.DeviceBuffer}}, Float64, CuArray{Float64, 3, CUDA.Mem.DeviceBuffer}}, BaseField{Fourier, ProjLambert{Float64, CuArray{Float64, 1, CUDA.Mem.DeviceBuffer}, CuArray{Float64, 2, CUDA.Mem.DeviceBuffer}}, Float64, CuArray{Float64, 2, CUDA.Mem.DeviceBuffer}}, ComponentVector{Float64, Vector{Float64}, Tuple{Axis{(r = 1, Aϕ = 2)}}}}}, CMBLensing.BasisProd{Tuple{EBFourier, Fourier, CMBLensing.Basis}}, Float64}}}}}, MicroCanonicalHMC.var\"#nlogp#33\"{CMBLensingInferenceTestProblem.CMBLensingLogDensityProblem, MicroCanonicalHMC.var\"#inv_transform#32\"{Diagonal{Float64, FieldTuple{NamedTuple{(:f°, :ϕ°, :θ), Tuple{BaseField{EBFourier, ProjLambert{Float64, CuArray{Float64, 1, CUDA.Mem.DeviceBuffer}, CuArray{Float64, 2, CUDA.Mem.DeviceBuffer}}, Float64, CuArray{Float64, 3, CUDA.Mem.DeviceBuffer}}, BaseField{Fourier, ProjLambert{Float64, CuArray{Float64, 1, CUDA.Mem.DeviceBuffer}, CuArray{Float64, 2, CUDA.Mem.DeviceBuffer}}, Float64, CuArray{Float64, 2, CUDA.Mem.DeviceBuffer}}, ComponentVector{Float64, Vector{Float64}, Tuple{Axis{(r = 1, Aϕ = 2)}}}}}, CMBLensing.BasisProd{Tuple{EBFourier, Fourier, CMBLensing.Basis}}, Float64}}}}})(xt::FieldTuple{NamedTuple{(:f°, :ϕ°, :θ), Tuple{BaseField{QUMap, ProjLambert{Float64, CuArray{Float64, 1, CUDA.Mem.DeviceBuffer}, CuArray{Float64, 2, CUDA.Mem.DeviceBuffer}}, Float64, CuArray{Float64, 3, CUDA.Mem.DeviceBuffer}}, BaseField{Map, ProjLambert{Float64, CuArray{Float64, 1, CUDA.Mem.DeviceBuffer}, CuArray{Float64, 2, CUDA.Mem.DeviceBuffer}}, Float64, CuArray{Float64, 2, CUDA.Mem.DeviceBuffer}}, ComponentVector{Float64, Vector{Float64}, Tuple{Axis{(r = 1, Aϕ = 2)}}}}}, CMBLensing.BasisProd{Tuple{QUMap, Map, CMBLensing.Basis}}, Float64})",
      "    @ MicroCanonicalHMC ~/Glamdring/MicroCanonicalHMC.jl/src/targets.jl:148",
      " [67] Leapfrog(target::CMBLensingTarget, eps::Float64, sigma::FieldTuple{NamedTuple{(:f°, :ϕ°, :θ), Tuple{BaseField{QUMap, ProjLambert{Float64, CuArray{Float64, 1, CUDA.Mem.DeviceBuffer}, CuArray{Float64, 2, CUDA.Mem.DeviceBuffer}}, Float64, CuArray{Float64, 3, CUDA.Mem.DeviceBuffer}}, BaseField{Map, ProjLambert{Float64, CuArray{Float64, 1, CUDA.Mem.DeviceBuffer}, CuArray{Float64, 2, CUDA.Mem.DeviceBuffer}}, Float64, CuArray{Float64, 2, CUDA.Mem.DeviceBuffer}}, ComponentVector{Float64, Vector{Float64}, Tuple{Axis{(r = 1, Aϕ = 2)}}}}}, CMBLensing.BasisProd{Tuple{QUMap, Map, CMBLensing.Basis}}, Float64}, x::FieldTuple{NamedTuple{(:f°, :ϕ°, :θ), Tuple{BaseField{QUMap, ProjLambert{Float64, CuArray{Float64, 1, CUDA.Mem.DeviceBuffer}, CuArray{Float64, 2, CUDA.Mem.DeviceBuffer}}, Float64, CuArray{Float64, 3, CUDA.Mem.DeviceBuffer}}, BaseField{Map, ProjLambert{Float64, CuArray{Float64, 1, CUDA.Mem.DeviceBuffer}, CuArray{Float64, 2, CUDA.Mem.DeviceBuffer}}, Float64, CuArray{Float64, 2, CUDA.Mem.DeviceBuffer}}, ComponentVector{Float64, Vector{Float64}, Tuple{Axis{(r = 1, Aϕ = 2)}}}}}, CMBLensing.BasisProd{Tuple{QUMap, Map, CMBLensing.Basis}}, Float64}, u::FieldTuple{NamedTuple{(:f°, :ϕ°, :θ), Tuple{BaseField{QUMap, ProjLambert{Float64, CuArray{Float64, 1, CUDA.Mem.DeviceBuffer}, CuArray{Float64, 2, CUDA.Mem.DeviceBuffer}}, Float64, CuArray{Float64, 3, CUDA.Mem.DeviceBuffer}}, BaseField{Map, ProjLambert{Float64, CuArray{Float64, 1, CUDA.Mem.DeviceBuffer}, CuArray{Float64, 2, CUDA.Mem.DeviceBuffer}}, Float64, CuArray{Float64, 2, CUDA.Mem.DeviceBuffer}}, ComponentVector{Float64, Vector{Float64}, Tuple{Axis{(r = 1, Aϕ = 2)}}}}}, CMBLensing.BasisProd{Tuple{QUMap, Map, CMBLensing.Basis}}, Float64}, l::Float64, g::FieldTuple{NamedTuple{(:f°, :ϕ°, :θ), Tuple{BaseField{QUMap, ProjLambert{Float64, CuArray{Float64, 1, CUDA.Mem.DeviceBuffer}, CuArray{Float64, 2, CUDA.Mem.DeviceBuffer}}, Float64, CuArray{Float64, 3, CUDA.Mem.DeviceBuffer}}, BaseField{Map, ProjLambert{Float64, CuArray{Float64, 1, CUDA.Mem.DeviceBuffer}, CuArray{Float64, 2, CUDA.Mem.DeviceBuffer}}, Float64, CuArray{Float64, 2, CUDA.Mem.DeviceBuffer}}, ComponentVector{Float64, Vector{Float64}, Tuple{Axis{(r = 1, Aϕ = 2)}}}}}, CMBLensing.BasisProd{Tuple{QUMap, Map, CMBLensing.Basis}}, Float64})",
      "    @ MicroCanonicalHMC ~/Glamdring/MicroCanonicalHMC.jl/src/integrators.jl:22",
      " [68] Leapfrog(sampler::MicroCanonicalHMC.Sampler, target::CMBLensingTarget, state::MicroCanonicalHMC.State)",
      "    @ MicroCanonicalHMC ~/Glamdring/MicroCanonicalHMC.jl/src/integrators.jl:4",
      " [69] Step(sampler::MicroCanonicalHMC.Sampler, target::CMBLensingTarget, state::MicroCanonicalHMC.State; kwargs::Base.Pairs{Symbol, Bool, Tuple{Symbol}, NamedTuple{(:dialog,), Tuple{Bool}}})",
      "    @ MicroCanonicalHMC ~/Glamdring/MicroCanonicalHMC.jl/src/sampler.jl:169",
      " [70] Step",
      "    @ ~/Glamdring/MicroCanonicalHMC.jl/src/sampler.jl:155 [inlined]",
      " [71] (::MicroCanonicalHMC.var\"#9#10\"{Base.Pairs{Symbol, Bool, Tuple{Symbol}, NamedTuple{(:dialog,), Tuple{Bool}}}, MicroCanonicalHMC.Sampler, CMBLensingTarget, Int64, Progress, CuArray{Float64, 2, CUDA.Mem.DeviceBuffer}})(chain_file::Nothing)",
      "    @ MicroCanonicalHMC ~/Glamdring/MicroCanonicalHMC.jl/src/sampler.jl:223",
      " [72] write_chain(::MicroCanonicalHMC.var\"#9#10\"{Base.Pairs{Symbol, Bool, Tuple{Symbol}, NamedTuple{(:dialog,), Tuple{Bool}}}, MicroCanonicalHMC.Sampler, CMBLensingTarget, Int64, Progress, CuArray{Float64, 2, CUDA.Mem.DeviceBuffer}}, ::Nothing, ::Int64, ::Vararg{Any}; kwargs::Base.Pairs{Symbol, Union{}, Tuple{}, NamedTuple{(), Tuple{}}})",
      "    @ MicroCanonicalHMC ~/Glamdring/MicroCanonicalHMC.jl/src/chains.jl:27",
      " [73] write_chain(::Function, ::Nothing, ::Int64, ::Vararg{Any})",
      "    @ MicroCanonicalHMC ~/Glamdring/MicroCanonicalHMC.jl/src/chains.jl:27",
      " [74] Sample(sampler::MicroCanonicalHMC.Sampler, target::CMBLensingTarget, num_steps::Int64; file_name::Nothing, file_chunk::Int64, progress::Bool, kwargs::Base.Pairs{Symbol, Bool, Tuple{Symbol}, NamedTuple{(:dialog,), Tuple{Bool}}})",
      "    @ MicroCanonicalHMC ~/Glamdring/MicroCanonicalHMC.jl/src/sampler.jl:221"
     ]
    }
   ],
   "source": [
    "prob.ncalls[] = 0\n",
    "samples_mchmc = adapt(Array, Sample(spl, target, 10_000, dialog=false, progress=true));\n",
    "ncalls_mchmc = prob.ncalls[]"
   ]
  },
  {
   "cell_type": "code",
   "execution_count": 19,
   "id": "7b9ab75f-5d3c-4eab-a05c-7140a7195ea4",
   "metadata": {
    "hidden": true
   },
   "outputs": [
    {
     "ename": "LoadError",
     "evalue": "UndefVarError: `samples_mchmc` not defined",
     "output_type": "error",
     "traceback": [
      "UndefVarError: `samples_mchmc` not defined",
      "",
      "Stacktrace:",
      " [1] top-level scope",
      "   @ In[19]:1"
     ]
    }
   ],
   "source": [
    "chain_mchmc = Chains(\n",
    "    permutedims(reduce(hcat, [[exp.(sample[end÷2-2:end÷2-1]); sample[end-3:end]] for sample in eachcol(samples_mchmc) if all(isfinite.(sample))])),\n",
    "    [:r, :Aϕ, :p_logr, :p_logAϕ, :dE, :logpdf],\n",
    ");"
   ]
  },
  {
   "cell_type": "code",
   "execution_count": 20,
   "id": "ce31c592-d53b-4948-a8c1-c02e9c3c323b",
   "metadata": {
    "hidden": true
   },
   "outputs": [
    {
     "ename": "LoadError",
     "evalue": "UndefVarError: `chain_mchmc` not defined",
     "output_type": "error",
     "traceback": [
      "UndefVarError: `chain_mchmc` not defined",
      "",
      "Stacktrace:",
      " [1] top-level scope",
      "   @ In[20]:1"
     ]
    }
   ],
   "source": [
    "ess_mchmc = MCMCDiagnosticTools.ess(chain_mchmc)[[:r,:Aϕ],:ess]"
   ]
  },
  {
   "cell_type": "code",
   "execution_count": 21,
   "id": "234e5da4",
   "metadata": {
    "hidden": true
   },
   "outputs": [
    {
     "ename": "LoadError",
     "evalue": "UndefVarError: `ess_mchmc` not defined",
     "output_type": "error",
     "traceback": [
      "UndefVarError: `ess_mchmc` not defined",
      "",
      "Stacktrace:",
      " [1] top-level scope",
      "   @ In[21]:1"
     ]
    }
   ],
   "source": [
    "ess_per_call_mchmc = ess_mchmc / ncalls_mchmc"
   ]
  },
  {
   "cell_type": "markdown",
   "id": "e1cb8e03",
   "metadata": {
    "heading_collapsed": true,
    "hidden": true,
    "tags": []
   },
   "source": [
    "## Plot"
   ]
  },
  {
   "cell_type": "code",
   "execution_count": 22,
   "id": "c3967517",
   "metadata": {
    "hidden": true
   },
   "outputs": [
    {
     "ename": "LoadError",
     "evalue": "UndefVarError: `chain_mchmc` not defined",
     "output_type": "error",
     "traceback": [
      "UndefVarError: `chain_mchmc` not defined",
      "",
      "Stacktrace:",
      " [1] top-level scope",
      "   @ In[22]:1"
     ]
    }
   ],
   "source": [
    "plot(chain_mchmc[:r], label=L\"r\", xlabel=\"step\")\n",
    "plot!(chain_mchmc[:Aϕ], label=L\"A_\\phi\")"
   ]
  },
  {
   "cell_type": "code",
   "execution_count": 23,
   "id": "5e12b68a",
   "metadata": {
    "hidden": true
   },
   "outputs": [
    {
     "ename": "LoadError",
     "evalue": "UndefVarError: `chain_mchmc` not defined",
     "output_type": "error",
     "traceback": [
      "UndefVarError: `chain_mchmc` not defined",
      "",
      "Stacktrace:",
      " [1] top-level scope",
      "   @ In[23]:1"
     ]
    }
   ],
   "source": [
    "plot(chain_mchmc[:p_logr], label=L\"\\Pi(\\log \\, r)\", xlabel=\"step\")\n",
    "plot!(chain_mchmc[:p_logAϕ], label=L\"\\Pi(\\log \\, A_\\phi)\")"
   ]
  },
  {
   "cell_type": "code",
   "execution_count": 24,
   "id": "ea03057f-c26d-4313-bebe-baad85710618",
   "metadata": {
    "hidden": true
   },
   "outputs": [
    {
     "ename": "LoadError",
     "evalue": "UndefVarError: `chain_mchmc` not defined",
     "output_type": "error",
     "traceback": [
      "UndefVarError: `chain_mchmc` not defined",
      "",
      "Stacktrace:",
      " [1] top-level scope",
      "   @ In[24]:1"
     ]
    }
   ],
   "source": [
    "std(chain_mchmc[:dE])^2/d"
   ]
  },
  {
   "cell_type": "code",
   "execution_count": 25,
   "id": "45d9ca4f",
   "metadata": {
    "hidden": true
   },
   "outputs": [
    {
     "data": {
      "text/plain": [
       "12290"
      ]
     },
     "execution_count": 25,
     "metadata": {},
     "output_type": "execute_result"
    }
   ],
   "source": [
    "d"
   ]
  },
  {
   "cell_type": "code",
   "execution_count": 26,
   "id": "f48c433c",
   "metadata": {
    "hidden": true
   },
   "outputs": [
    {
     "ename": "LoadError",
     "evalue": "UndefVarError: `chain_mchmc` not defined",
     "output_type": "error",
     "traceback": [
      "UndefVarError: `chain_mchmc` not defined",
      "",
      "Stacktrace:",
      " [1] top-level scope",
      "   @ In[26]:1"
     ]
    }
   ],
   "source": [
    "plot(chain_mchmc[:dE]/d, label=L\"\\mathrm{Energy}/d\", xlabel=\"step\")"
   ]
  },
  {
   "cell_type": "code",
   "execution_count": 27,
   "id": "acc2fe43",
   "metadata": {
    "hidden": true
   },
   "outputs": [
    {
     "ename": "LoadError",
     "evalue": "UndefVarError: `samples_mchmc` not defined",
     "output_type": "error",
     "traceback": [
      "UndefVarError: `samples_mchmc` not defined",
      "",
      "Stacktrace:",
      " [1] top-level scope",
      "   @ In[27]:1"
     ]
    }
   ],
   "source": [
    "vars = var(samples_mchmc, dims=2)[1:d]\n",
    "_vars = var(samples_mchmc, dims=2)[d+1:2*d]"
   ]
  },
  {
   "cell_type": "code",
   "execution_count": 28,
   "id": "118b8c8d",
   "metadata": {
    "hidden": true
   },
   "outputs": [
    {
     "ename": "LoadError",
     "evalue": "UndefVarError: `vars` not defined",
     "output_type": "error",
     "traceback": [
      "UndefVarError: `vars` not defined",
      "",
      "Stacktrace:",
      " [1] top-level scope",
      "   @ In[28]:1"
     ]
    }
   ],
   "source": [
    "k = round(maximum(vars)/minimum(vars), digits=2)\n",
    "_k = round(maximum(_vars)/minimum(_vars), digits=2)"
   ]
  },
  {
   "cell_type": "code",
   "execution_count": 29,
   "id": "772e4ba2",
   "metadata": {
    "hidden": true
   },
   "outputs": [
    {
     "ename": "LoadError",
     "evalue": "UndefVarError: `_k` not defined",
     "output_type": "error",
     "traceback": [
      "UndefVarError: `_k` not defined",
      "",
      "Stacktrace:",
      " [1] top-level scope",
      "   @ In[29]:1"
     ]
    }
   ],
   "source": [
    "plot(_vars, title=\"Diag(cov) - Masked\", label=string(\"Latent space --> K = \", _k))\n",
    "#plot!(vars, label=string(\"Parameter space --> K = \", k))"
   ]
  },
  {
   "cell_type": "code",
   "execution_count": 30,
   "id": "5ca19c27",
   "metadata": {
    "hidden": true
   },
   "outputs": [
    {
     "ename": "LoadError",
     "evalue": "UndefVarError: `_vars` not defined",
     "output_type": "error",
     "traceback": [
      "UndefVarError: `_vars` not defined",
      "",
      "Stacktrace:",
      " [1] top-level scope",
      "   @ In[30]:2"
     ]
    }
   ],
   "source": [
    "using CMBLensing: fit, Histogram, Weights\n",
    "_vars_q = _vars[1:Int((d-2)/3)]\n",
    "_vars_u = _vars[Int((d-2)/3)+1:Int(2*(d-2)/3)];"
   ]
  },
  {
   "cell_type": "code",
   "execution_count": 31,
   "id": "707b686d",
   "metadata": {
    "hidden": true
   },
   "outputs": [
    {
     "ename": "LoadError",
     "evalue": "UndefVarError: `_vars_q` not defined",
     "output_type": "error",
     "traceback": [
      "UndefVarError: `_vars_q` not defined",
      "",
      "Stacktrace:",
      " [1] top-level scope",
      "   @ In[31]:2"
     ]
    }
   ],
   "source": [
    "_edges = range(-0.3,15,length=20)\n",
    "hist_vars_q = fit(Histogram, vec(dist_mat), Weights(_vars_q), _edges).weights ./ fit(Histogram, vec(dist_mat), Weights(ones(length(_vars_q))), _edges).weights\n",
    "hist_vars_u = fit(Histogram, vec(dist_mat), Weights(_vars_u), _edges).weights ./ fit(Histogram, vec(dist_mat), Weights(ones(length(_vars_q))), _edges).weights\n",
    "plot(_edges, hist_vars_q, seriestype=:scatter,\n",
    "     xlabel=\"distance to edge\",\n",
    "     ylabel=\"variance of pixel\",\n",
    "     label=\"Q-field\", alpha=0.7)\n",
    "plot!(_edges, hist_vars_u, seriestype=:scatter,\n",
    "     xlabel=\"distance to edge\",\n",
    "     ylabel=\"variance of pixel\",\n",
    "     label=\"U-field\", alpha=0.7)\n",
    "     \n"
   ]
  },
  {
   "cell_type": "code",
   "execution_count": 32,
   "id": "b94d66c5",
   "metadata": {
    "hidden": true
   },
   "outputs": [
    {
     "ename": "LoadError",
     "evalue": "UndefVarError: `chain_mchmc` not defined",
     "output_type": "error",
     "traceback": [
      "UndefVarError: `chain_mchmc` not defined",
      "",
      "Stacktrace:",
      " [1] top-level scope",
      "   @ In[32]:1"
     ]
    }
   ],
   "source": [
    "histogram2d(chain_mchmc[:r], chain_mchmc[:Aϕ], bins=(40, 20), show_empty_bins=true,\n",
    "    normalize=:pdf, color=:plasma)\n",
    "title!(\"Masked - NSIDE=64\")\n",
    "ylabel!(\"Aϕ\")\n",
    "xlabel!(\"r\")"
   ]
  },
  {
   "cell_type": "code",
   "execution_count": 33,
   "id": "01a11feb",
   "metadata": {
    "hidden": true
   },
   "outputs": [
    {
     "ename": "LoadError",
     "evalue": "UndefVarError: `chain_mchmc` not defined",
     "output_type": "error",
     "traceback": [
      "UndefVarError: `chain_mchmc` not defined",
      "",
      "Stacktrace:",
      " [1] top-level scope",
      "   @ In[33]:1"
     ]
    }
   ],
   "source": [
    "plot(\n",
    "    histogram(chain_mchmc[:r], xlabel=L\"r\", label=nothing, lw=1),\n",
    "    histogram(chain_mchmc[:Aϕ], xlabel=L\"A_\\phi\", label=nothing, lw=1),\n",
    "    size = (700,300)\n",
    ")"
   ]
  },
  {
   "cell_type": "markdown",
   "id": "c8ae84fd-2284-4bab-a9bc-79767c3c6767",
   "metadata": {
    "hidden": true,
    "jp-MarkdownHeadingCollapsed": true,
    "tags": []
   },
   "source": [
    "### Animation"
   ]
  },
  {
   "cell_type": "code",
   "execution_count": 34,
   "id": "7d3f2c21",
   "metadata": {
    "hidden": true
   },
   "outputs": [
    {
     "ename": "LoadError",
     "evalue": "UndefVarError: `samples_mchmc` not defined",
     "output_type": "error",
     "traceback": [
      "UndefVarError: `samples_mchmc` not defined",
      "",
      "Stacktrace:",
      " [1] top-level scope",
      "   @ In[34]:2"
     ]
    }
   ],
   "source": [
    "to_vec, from_vec = CMBLensingInferenceTestProblem.to_from_vec(prob.Ωstart)\n",
    "last_sample = from_vec(samples_mchmc[end][1:end-2]);"
   ]
  },
  {
   "cell_type": "code",
   "execution_count": 35,
   "id": "928e1938",
   "metadata": {
    "hidden": true
   },
   "outputs": [
    {
     "ename": "LoadError",
     "evalue": "UndefVarError: `last_sample` not defined",
     "output_type": "error",
     "traceback": [
      "UndefVarError: `last_sample` not defined",
      "",
      "Stacktrace:",
      " [1] (::var\"#9#10\")(::Tuple{Symbol, Symbol, LaTeXString, LaTeXString})",
      "   @ Main ./In[35]:4",
      " [2] iterate",
      "   @ ./generator.jl:47 [inlined]",
      " [3] _collect(c::Vector{Tuple{Symbol, Symbol, AbstractString, LaTeXString}}, itr::Base.Generator{Vector{Tuple{Symbol, Symbol, AbstractString, LaTeXString}}, var\"#9#10\"}, #unused#::Base.EltypeUnknown, isz::Base.HasShape{1})",
      "   @ Base ./array.jl:802",
      " [4] collect_similar(cont::Vector{Tuple{Symbol, Symbol, AbstractString, LaTeXString}}, itr::Base.Generator{Vector{Tuple{Symbol, Symbol, AbstractString, LaTeXString}}, var\"#9#10\"})",
      "   @ Base ./array.jl:711",
      " [5] map(f::Function, A::Vector{Tuple{Symbol, Symbol, AbstractString, LaTeXString}})",
      "   @ Base ./abstractarray.jl:3261",
      " [6] top-level scope",
      "   @ In[35]:1"
     ]
    }
   ],
   "source": [
    "ps = map([(:ϕ°,:I,L\"L\",L\"\\phi^\\circ\"), (:f°,:E,\"L\\ell\",L\"E^\\circ\"), (:f°,:B,L\"\\ell\",L\"B^\\circ\")]) do (k1, k2, xlabel, title)\n",
    "    plot(get_Cℓ(prob.Ωtrue[k1][k2]); label=\"true\", xlabel, title)\n",
    "    plot!(get_Cℓ(prob.Ωstart[k1][k2]); label=\"start\", xlabel, title)\n",
    "    plot!(get_Cℓ(last_sample[k1][k2]); label=\"last sample\", xlabel, title)\n",
    "end\n",
    "plot(ps..., layout=(1,3), xscale=:log10, yscale=:log10, size=(1000,300), legend=:bottomleft)"
   ]
  },
  {
   "cell_type": "code",
   "execution_count": 36,
   "id": "688d60ba",
   "metadata": {
    "hidden": true
   },
   "outputs": [
    {
     "ename": "LoadError",
     "evalue": "UndefVarError: `samples_mchmc` not defined",
     "output_type": "error",
     "traceback": [
      "UndefVarError: `samples_mchmc` not defined",
      "",
      "Stacktrace:",
      " [1] top-level scope",
      "   @ In[36]:1"
     ]
    }
   ],
   "source": [
    "ϕs = [∇²*from_vec(sample[1:end-2]).ϕ°/2 for sample in samples_mchmc[end-500:end]]\n",
    "anim = @animate for i in 1:length(ϕs)\n",
    "    motionblur = [0.5, 1, 0.5]\n",
    "    frame = sum(circshift(ϕs, i)[1:length(motionblur)] .* motionblur) / sum(motionblur)\n",
    "    plot(1 * frame, clims=(-0.5, 0.5), c=:thermal, title=\"κ samples\")\n",
    "end;"
   ]
  },
  {
   "cell_type": "code",
   "execution_count": 37,
   "id": "180f62db",
   "metadata": {
    "hidden": true
   },
   "outputs": [
    {
     "ename": "LoadError",
     "evalue": "UndefVarError: `anim` not defined",
     "output_type": "error",
     "traceback": [
      "UndefVarError: `anim` not defined",
      "",
      "Stacktrace:",
      " [1] top-level scope",
      "   @ In[37]:1"
     ]
    }
   ],
   "source": [
    "mp4(anim, \"kappa_samples.mp4\", fps = 25)"
   ]
  },
  {
   "cell_type": "markdown",
   "id": "47bf987c-cf7a-45c4-af34-128247e75fe8",
   "metadata": {
    "heading_collapsed": true,
    "tags": []
   },
   "source": [
    "# HMC"
   ]
  },
  {
   "cell_type": "code",
   "execution_count": 38,
   "id": "9bc3972a-cbef-4aed-be62-0d8f1bc7dede",
   "metadata": {
    "hidden": true
   },
   "outputs": [
    {
     "name": "stderr",
     "output_type": "stream",
     "text": [
      "\u001b[32mProgress:  19%|███████▊                                 |  ETA: 0:25:58\u001b[39m"
     ]
    },
    {
     "ename": "LoadError",
     "evalue": "InterruptException:",
     "output_type": "error",
     "traceback": [
      "InterruptException:",
      "",
      "Stacktrace:",
      "  [1] get!",
      "    @ ./iddict.jl:176 [inlined]",
      "  [2] _get!",
      "    @ ~/.julia/packages/Memoization/xgAKx/src/Memoization.jl:214 [inlined]",
      "  [3] m_plan_rfft",
      "    @ ~/.julia/packages/Memoization/xgAKx/src/Memoization.jl:209 [inlined]",
      "  [4] m_rfft!(dst::Array{ComplexF64, 3}, arr::Array{Float64, 3}, dims::Tuple{Int64, Int64})",
      "    @ CMBLensing ~/.julia/packages/CMBLensing/aN0Zc/src/util_fft.jl:26",
      "  [5] Basis2Prod",
      "    @ ~/.julia/packages/CMBLensing/aN0Zc/src/proj_lambert.jl:279 [inlined]",
      "  [6] Basis",
      "    @ ~/.julia/packages/CMBLensing/aN0Zc/src/generic.jl:116 [inlined]",
      "  [7] (::CMBLensing.var\"#v!#461\"{CachedLenseFlow{RK4Solver, Float64, Diagonal{Float64, BaseField{Map, ProjLambert{Float64, Vector{Float64}, Matrix{Float64}}, Float64, Matrix{Float64}}}, BaseField{Map, ProjLambert{Float64, Vector{Float64}, Matrix{Float64}}, Float64, Matrix{Float64}}, BaseField{Fourier, ProjLambert{Float64, Vector{Float64}, Matrix{Float64}}, ComplexF64, Matrix{ComplexF64}}, BaseField{QUMap, ProjLambert{Float64, Vector{Float64}, Matrix{Float64}}, Float64, Array{Float64, 3}}, BaseField{QUFourier, ProjLambert{Float64, Vector{Float64}, Matrix{Float64}}, ComplexF64, Array{ComplexF64, 3}}}})(v::BaseField{QUMap, ProjLambert{Float64, Vector{Float64}, Matrix{Float64}}, Float64, Array{Float64, 3}}, t::Float64, f::BaseField{QUMap, ProjLambert{Float64, Vector{Float64}, Matrix{Float64}}, Float64, Array{Float64, 3}})",
      "    @ CMBLensing ~/.julia/packages/CMBLensing/aN0Zc/src/lenseflow.jl:155",
      "  [8] (::RK4Solver)(F!::CMBLensing.var\"#v!#461\"{CachedLenseFlow{RK4Solver, Float64, Diagonal{Float64, BaseField{Map, ProjLambert{Float64, Vector{Float64}, Matrix{Float64}}, Float64, Matrix{Float64}}}, BaseField{Map, ProjLambert{Float64, Vector{Float64}, Matrix{Float64}}, Float64, Matrix{Float64}}, BaseField{Fourier, ProjLambert{Float64, Vector{Float64}, Matrix{Float64}}, ComplexF64, Matrix{ComplexF64}}, BaseField{QUMap, ProjLambert{Float64, Vector{Float64}, Matrix{Float64}}, Float64, Array{Float64, 3}}, BaseField{QUFourier, ProjLambert{Float64, Vector{Float64}, Matrix{Float64}}, ComplexF64, Array{ComplexF64, 3}}}}, y₀::BaseField{QUMap, ProjLambert{Float64, Vector{Float64}, Matrix{Float64}}, Float64, Array{Float64, 3}}, ::Pair{Float64, Float64})",
      "    @ CMBLensing ~/.julia/packages/CMBLensing/aN0Zc/src/numerical_algorithms.jl:16",
      "  [9] macro expansion",
      "    @ ~/.julia/packages/TimerOutputs/LHjFw/src/TimerOutput.jl:237 [inlined]",
      " [10] *(Lϕ::CachedLenseFlow{RK4Solver, Float64, Diagonal{Float64, BaseField{Map, ProjLambert{Float64, Vector{Float64}, Matrix{Float64}}, Float64, Matrix{Float64}}}, BaseField{Map, ProjLambert{Float64, Vector{Float64}, Matrix{Float64}}, Float64, Matrix{Float64}}, BaseField{Fourier, ProjLambert{Float64, Vector{Float64}, Matrix{Float64}}, ComplexF64, Matrix{ComplexF64}}, BaseField{QUMap, ProjLambert{Float64, Vector{Float64}, Matrix{Float64}}, Float64, Array{Float64, 3}}, BaseField{QUFourier, ProjLambert{Float64, Vector{Float64}, Matrix{Float64}}, ComplexF64, Array{ComplexF64, 3}}}, f::BaseField{EBFourier, ProjLambert{Float64, Vector{Float64}, Matrix{Float64}}, ComplexF64, Array{ComplexF64, 3}})",
      "    @ CMBLensing ~/.julia/packages/CMBLensing/aN0Zc/src/flowops.jl:11",
      " [11] adjoint",
      "    @ ~/.julia/packages/CMBLensing/aN0Zc/src/flowops.jl:42 [inlined]",
      " [12] _pullback(__context__::Zygote.Context{false}, 443::typeof(*), Lϕ::CachedLenseFlow{RK4Solver, Float64, Diagonal{Float64, BaseField{Map, ProjLambert{Float64, Vector{Float64}, Matrix{Float64}}, Float64, Matrix{Float64}}}, BaseField{Map, ProjLambert{Float64, Vector{Float64}, Matrix{Float64}}, Float64, Matrix{Float64}}, BaseField{Fourier, ProjLambert{Float64, Vector{Float64}, Matrix{Float64}}, ComplexF64, Matrix{ComplexF64}}, BaseField{QUMap, ProjLambert{Float64, Vector{Float64}, Matrix{Float64}}, Float64, Array{Float64, 3}}, BaseField{QUFourier, ProjLambert{Float64, Vector{Float64}, Matrix{Float64}}, ComplexF64, Array{ComplexF64, 3}}}, f::BaseField{EBFourier, ProjLambert{Float64, Vector{Float64}, Matrix{Float64}}, ComplexF64, Array{ComplexF64, 3}})",
      "    @ CMBLensing ~/.julia/packages/ZygoteRules/OgCVT/src/adjoint.jl:66",
      " [13] _pullback",
      "    @ ~/.julia/packages/CMBLensing/aN0Zc/src/dataset.jl:63 [inlined]",
      " [14] _pullback(::Zygote.Context{false}, ::CMBLensing.var\"##_#834\", ::BaseField{EBFourier, ProjLambert{Float64, Vector{Float64}, Matrix{Float64}}, ComplexF64, Array{ComplexF64, 3}}, ::BaseField{Fourier, ProjLambert{Float64, Vector{Float64}, Matrix{Float64}}, ComplexF64, Matrix{ComplexF64}}, ::ComponentArrays.ComponentVector{Float64, Vector{Float64}, Tuple{ComponentArrays.Axis{(r = 1, Aϕ = 2)}}}, ::BaseField{EBFourier, ProjLambert{Float64, Vector{Float64}, Matrix{Float64}}, ComplexF64, Array{ComplexF64, 3}}, ::BaseDataSet, ::CMBLensing.Logpdf, ::Base.RefValue{Real})",
      "    @ Zygote ~/.julia/packages/Zygote/TSj5C/src/compiler/interface2.jl:0",
      " [15] _pullback",
      "    @ ~/.julia/packages/CMBLensing/aN0Zc/src/dataset.jl:59 [inlined]",
      " [16] _pullback(::Zygote.Context{false}, ::typeof(Core.kwcall), ::NamedTuple{(:f, :ϕ, :θ), Tuple{BaseField{EBFourier, ProjLambert{Float64, Vector{Float64}, Matrix{Float64}}, ComplexF64, Array{ComplexF64, 3}}, BaseField{Fourier, ProjLambert{Float64, Vector{Float64}, Matrix{Float64}}, ComplexF64, Matrix{ComplexF64}}, ComponentArrays.ComponentVector{Float64, Vector{Float64}, Tuple{ComponentArrays.Axis{(r = 1, Aϕ = 2)}}}}}, ::BaseDataSet, ::CMBLensing.Logpdf, ::Base.RefValue{Real})",
      "    @ Zygote ~/.julia/packages/Zygote/TSj5C/src/compiler/interface2.jl:0",
      " [17] _apply",
      "    @ ./boot.jl:838 [inlined]",
      " [18] adjoint",
      "    @ ~/.julia/packages/Zygote/TSj5C/src/lib/lib.jl:203 [inlined]",
      " [19] _pullback",
      "    @ ~/.julia/packages/ZygoteRules/OgCVT/src/adjoint.jl:66 [inlined]",
      " [20] _pullback",
      "    @ ~/.julia/packages/CMBLensing/aN0Zc/src/simpleppl.jl:92 [inlined]",
      " [21] _pullback(::Zygote.Context{false}, ::CMBLensing.var\"##loglikelihood#814\", ::Base.Pairs{Symbol, AbstractVector, Tuple{Symbol, Symbol, Symbol}, NamedTuple{(:f, :ϕ, :θ), Tuple{BaseField{EBFourier, ProjLambert{Float64, Vector{Float64}, Matrix{Float64}}, ComplexF64, Array{ComplexF64, 3}}, BaseField{Fourier, ProjLambert{Float64, Vector{Float64}, Matrix{Float64}}, ComplexF64, Matrix{ComplexF64}}, ComponentArrays.ComponentVector{Float64, Vector{Float64}, Tuple{ComponentArrays.Axis{(r = 1, Aϕ = 2)}}}}}}, ::typeof(StatsAPI.loglikelihood), ::BaseDataSet)",
      "    @ Zygote ~/.julia/packages/Zygote/TSj5C/src/compiler/interface2.jl:0",
      " [22] _apply",
      "    @ ./boot.jl:838 [inlined]",
      " [23] adjoint",
      "    @ ~/.julia/packages/Zygote/TSj5C/src/lib/lib.jl:203 [inlined]",
      " [24] _pullback",
      "    @ ~/.julia/packages/ZygoteRules/OgCVT/src/adjoint.jl:66 [inlined]",
      " [25] _pullback",
      "    @ ~/.julia/packages/CMBLensing/aN0Zc/src/simpleppl.jl:90 [inlined]",
      " [26] _pullback(::Zygote.Context{false}, ::typeof(Core.kwcall), ::NamedTuple{(:f, :ϕ, :θ), Tuple{BaseField{EBFourier, ProjLambert{Float64, Vector{Float64}, Matrix{Float64}}, ComplexF64, Array{ComplexF64, 3}}, BaseField{Fourier, ProjLambert{Float64, Vector{Float64}, Matrix{Float64}}, ComplexF64, Matrix{ComplexF64}}, ComponentArrays.ComponentVector{Float64, Vector{Float64}, Tuple{ComponentArrays.Axis{(r = 1, Aϕ = 2)}}}}}, ::typeof(StatsAPI.loglikelihood), ::BaseDataSet)",
      "    @ Zygote ~/.julia/packages/Zygote/TSj5C/src/compiler/interface2.jl:0",
      " [27] _apply(::Function, ::Vararg{Any})",
      "    @ Core ./boot.jl:838",
      " [28] adjoint",
      "    @ ~/.julia/packages/Zygote/TSj5C/src/lib/lib.jl:203 [inlined]",
      " [29] _pullback",
      "    @ ~/.julia/packages/ZygoteRules/OgCVT/src/adjoint.jl:66 [inlined]",
      " [30] _pullback",
      "    @ ~/.julia/packages/CMBLensing/aN0Zc/src/simpleppl.jl:96 [inlined]",
      " [31] _pullback(::Zygote.Context{false}, ::CMBLensing.var\"##logpdf#815\", ::Base.Pairs{Symbol, AbstractVector, Tuple{Symbol, Symbol, Symbol}, NamedTuple{(:f, :ϕ, :θ), Tuple{BaseField{EBFourier, ProjLambert{Float64, Vector{Float64}, Matrix{Float64}}, ComplexF64, Array{ComplexF64, 3}}, BaseField{Fourier, ProjLambert{Float64, Vector{Float64}, Matrix{Float64}}, ComplexF64, Matrix{ComplexF64}}, ComponentArrays.ComponentVector{Float64, Vector{Float64}, Tuple{ComponentArrays.Axis{(r = 1, Aϕ = 2)}}}}}}, ::typeof(logpdf), ::BaseDataSet)",
      "    @ Zygote ~/.julia/packages/Zygote/TSj5C/src/compiler/interface2.jl:0",
      " [32] _apply(::Function, ::Vararg{Any})",
      "    @ Core ./boot.jl:838",
      " [33] adjoint",
      "    @ ~/.julia/packages/Zygote/TSj5C/src/lib/lib.jl:203 [inlined]",
      " [34] _pullback",
      "    @ ~/.julia/packages/ZygoteRules/OgCVT/src/adjoint.jl:66 [inlined]",
      " [35] _pullback",
      "    @ ~/.julia/packages/CMBLensing/aN0Zc/src/simpleppl.jl:95 [inlined]",
      " [36] _pullback(::Zygote.Context{false}, ::typeof(Core.kwcall), ::NamedTuple{(:f, :ϕ, :θ), Tuple{BaseField{EBFourier, ProjLambert{Float64, Vector{Float64}, Matrix{Float64}}, ComplexF64, Array{ComplexF64, 3}}, BaseField{Fourier, ProjLambert{Float64, Vector{Float64}, Matrix{Float64}}, ComplexF64, Matrix{ComplexF64}}, ComponentArrays.ComponentVector{Float64, Vector{Float64}, Tuple{ComponentArrays.Axis{(r = 1, Aϕ = 2)}}}}}, ::typeof(logpdf), ::BaseDataSet)",
      "    @ Zygote ~/.julia/packages/Zygote/TSj5C/src/compiler/interface2.jl:0",
      " [37] _pullback",
      "    @ ~/.julia/packages/CMBLensing/aN0Zc/src/dataset.jl:88 [inlined]",
      " [38] _pullback(::Zygote.Context{false}, ::CMBLensing.var\"##logpdf#838\", ::ComponentArrays.ComponentVector{Float64, Vector{Float64}, Tuple{ComponentArrays.Axis{(r = 1, Aϕ = 2)}}}, ::Base.Pairs{Symbol, BaseField{B, ProjLambert{Float64, Vector{Float64}, Matrix{Float64}}, Float64, A} where {B, A<:(AbstractArray{Float64})}, Tuple{Symbol, Symbol}, NamedTuple{(:f°, :ϕ°), Tuple{BaseField{QUMap, ProjLambert{Float64, Vector{Float64}, Matrix{Float64}}, Float64, Array{Float64, 3}}, BaseField{Map, ProjLambert{Float64, Vector{Float64}, Matrix{Float64}}, Float64, Matrix{Float64}}}}}, ::typeof(logpdf), ::Mixed{BaseDataSet})",
      "    @ Zygote ~/.julia/packages/Zygote/TSj5C/src/compiler/interface2.jl:0",
      " [39] _pullback",
      "    @ ~/.julia/packages/CMBLensing/aN0Zc/src/dataset.jl:86 [inlined]",
      " [40] _pullback(::Zygote.Context{false}, ::typeof(Core.kwcall), ::NamedTuple{(:f°, :ϕ°, :θ), Tuple{BaseField{QUMap, ProjLambert{Float64, Vector{Float64}, Matrix{Float64}}, Float64, Array{Float64, 3}}, BaseField{Map, ProjLambert{Float64, Vector{Float64}, Matrix{Float64}}, Float64, Matrix{Float64}}, ComponentArrays.ComponentVector{Float64, Vector{Float64}, Tuple{ComponentArrays.Axis{(r = 1, Aϕ = 2)}}}}}, ::typeof(logpdf), ::Mixed{BaseDataSet})",
      "    @ Zygote ~/.julia/packages/Zygote/TSj5C/src/compiler/interface2.jl:0",
      " [41] _pullback",
      "    @ ~/.julia/packages/CMBLensingInferenceTestProblem/xYW0Q/src/CMBLensingInferenceTestProblem.jl:56 [inlined]",
      " [42] _pullback(ctx::Zygote.Context{false}, f::CMBLensingInferenceTestProblem.CMBLensingLogDensityProblem, args::FieldTuple{NamedTuple{(:f°, :ϕ°, :θ), Tuple{BaseField{QUMap, ProjLambert{Float64, Vector{Float64}, Matrix{Float64}}, Float64, Array{Float64, 3}}, BaseField{Map, ProjLambert{Float64, Vector{Float64}, Matrix{Float64}}, Float64, Matrix{Float64}}, ComponentArrays.ComponentVector{Float64, Vector{Float64}, Tuple{ComponentArrays.Axis{(r = 1, Aϕ = 2)}}}}}, CMBLensing.BasisProd{Tuple{QUMap, Map, CMBLensing.Basis}}, Float64})",
      "    @ Zygote ~/.julia/packages/Zygote/TSj5C/src/compiler/interface2.jl:0",
      " [43] pullback",
      "    @ ~/.julia/packages/Zygote/TSj5C/src/compiler/interface.jl:44 [inlined]",
      " [44] pullback",
      "    @ ~/.julia/packages/Zygote/TSj5C/src/compiler/interface.jl:42 [inlined]",
      " [45] gradient(f::CMBLensingInferenceTestProblem.CMBLensingLogDensityProblem, args::FieldTuple{NamedTuple{(:f°, :ϕ°, :θ), Tuple{BaseField{QUMap, ProjLambert{Float64, Vector{Float64}, Matrix{Float64}}, Float64, Array{Float64, 3}}, BaseField{Map, ProjLambert{Float64, Vector{Float64}, Matrix{Float64}}, Float64, Matrix{Float64}}, ComponentArrays.ComponentVector{Float64, Vector{Float64}, Tuple{ComponentArrays.Axis{(r = 1, Aϕ = 2)}}}}}, CMBLensing.BasisProd{Tuple{QUMap, Map, CMBLensing.Basis}}, Float64})",
      "    @ Zygote ~/.julia/packages/Zygote/TSj5C/src/compiler/interface.jl:96",
      " [46] (::CMBLensing.var\"#976#978\"{CMBLensingInferenceTestProblem.CMBLensingLogDensityProblem})(x::FieldTuple{NamedTuple{(:f°, :ϕ°, :θ), Tuple{BaseField{QUMap, ProjLambert{Float64, Vector{Float64}, Matrix{Float64}}, Float64, Array{Float64, 3}}, BaseField{Map, ProjLambert{Float64, Vector{Float64}, Matrix{Float64}}, Float64, Matrix{Float64}}, ComponentArrays.ComponentVector{Float64, Vector{Float64}, Tuple{ComponentArrays.Axis{(r = 1, Aϕ = 2)}}}}}, CMBLensing.BasisProd{Tuple{QUMap, Map, CMBLensing.Basis}}, Float64})",
      "    @ CMBLensing ~/.julia/packages/CMBLensing/aN0Zc/src/sampling.jl:408",
      " [47] macro expansion",
      "    @ ~/.julia/packages/CMBLensing/aN0Zc/src/sampling.jl:27 [inlined]",
      " [48] macro expansion",
      "    @ ~/.julia/packages/ProgressMeter/sN2xr/src/ProgressMeter.jl:938 [inlined]",
      " [49] symplectic_integrate(x₀::FieldTuple{NamedTuple{(:f°, :ϕ°, :θ), Tuple{BaseField{QUMap, ProjLambert{Float64, Vector{Float64}, Matrix{Float64}}, Float64, Array{Float64, 3}}, BaseField{Map, ProjLambert{Float64, Vector{Float64}, Matrix{Float64}}, Float64, Matrix{Float64}}, ComponentArrays.ComponentVector{Float64, Vector{Float64}, Tuple{ComponentArrays.Axis{(r = 1, Aϕ = 2)}}}}}, CMBLensing.BasisProd{Tuple{QUMap, Map, CMBLensing.Basis}}, Float64}, p₀::FieldTuple{NamedTuple{(:f°, :ϕ°, :θ), Tuple{BaseField{EBFourier, ProjLambert{Float64, Vector{Float64}, Matrix{Float64}}, ComplexF64, Array{ComplexF64, 3}}, BaseField{Fourier, ProjLambert{Float64, Vector{Float64}, Matrix{Float64}}, ComplexF64, Matrix{ComplexF64}}, ComponentArrays.ComponentVector{Float64, Vector{Float64}, Tuple{ComponentArrays.Axis{(r = 1, Aϕ = 2)}}}}}, CMBLensing.BasisProd{Tuple{EBFourier, Fourier, CMBLensing.Basis}}, ComplexF64}, Λ::Diagonal{Float64, FieldTuple{NamedTuple{(:f°, :ϕ°, :θ), Tuple{BaseField{EBFourier, ProjLambert{Float64, Vector{Float64}, Matrix{Float64}}, Float64, Array{Float64, 3}}, BaseField{Fourier, ProjLambert{Float64, Vector{Float64}, Matrix{Float64}}, Float64, Matrix{Float64}}, ComponentArrays.ComponentVector{Float64, Vector{Float64}, Tuple{ComponentArrays.Axis{(r = 1, Aϕ = 2)}}}}}, CMBLensing.BasisProd{Tuple{EBFourier, Fourier, CMBLensing.Basis}}, Float64}}, U::CMBLensingInferenceTestProblem.CMBLensingLogDensityProblem, δUδx::CMBLensing.var\"#976#978\"{CMBLensingInferenceTestProblem.CMBLensingLogDensityProblem}; N::Int64, ϵ::Float64, progress::Bool, history_keys::Nothing)",
      "    @ CMBLensing ~/.julia/packages/CMBLensing/aN0Zc/src/sampling.jl:25",
      " [50] hmc_step(rng::Xoshiro, U::CMBLensingInferenceTestProblem.CMBLensingLogDensityProblem, x::FieldTuple{NamedTuple{(:f°, :ϕ°, :θ), Tuple{BaseField{QUMap, ProjLambert{Float64, Vector{Float64}, Matrix{Float64}}, Float64, Array{Float64, 3}}, BaseField{Map, ProjLambert{Float64, Vector{Float64}, Matrix{Float64}}, Float64, Matrix{Float64}}, ComponentArrays.ComponentVector{Float64, Vector{Float64}, Tuple{ComponentArrays.Axis{(r = 1, Aϕ = 2)}}}}}, CMBLensing.BasisProd{Tuple{QUMap, Map, CMBLensing.Basis}}, Float64}, Λ::Diagonal{Float64, FieldTuple{NamedTuple{(:f°, :ϕ°, :θ), Tuple{BaseField{EBFourier, ProjLambert{Float64, Vector{Float64}, Matrix{Float64}}, Float64, Array{Float64, 3}}, BaseField{Fourier, ProjLambert{Float64, Vector{Float64}, Matrix{Float64}}, Float64, Matrix{Float64}}, ComponentArrays.ComponentVector{Float64, Vector{Float64}, Tuple{ComponentArrays.Axis{(r = 1, Aϕ = 2)}}}}}, CMBLensing.BasisProd{Tuple{EBFourier, Fourier, CMBLensing.Basis}}, Float64}}, δUδx::CMBLensing.var\"#976#978\"{CMBLensingInferenceTestProblem.CMBLensingLogDensityProblem}; symp_kwargs::Vector{NamedTuple{(:N, :ϵ), Tuple{Int64, Float64}}}, progress::Bool, always_accept::Bool)",
      "    @ CMBLensing ~/.julia/packages/CMBLensing/aN0Zc/src/sampling.jl:412",
      " [51] hmc_step",
      "    @ ~/.julia/packages/CMBLensing/aN0Zc/src/sampling.jl:408 [inlined]",
      " [52] macro expansion",
      "    @ ./In[38]:6 [inlined]"
     ]
    }
   ],
   "source": [
    "Ω = prob.Ωstart\n",
    "samples_hmc = []\n",
    "rng = Xoshiro(1)\n",
    "prob.ncalls[] = 0\n",
    "@showprogress for i=1:500\n",
    "    Ω, = state = hmc_step(rng, prob, Ω, prob.Λmass; symp_kwargs=[(N=25, ϵ=0.05)], progress=false, always_accept=(i<10))\n",
    "    push!(samples_hmc, state)\n",
    "end\n",
    "ncalls_hmc = prob.ncalls[]"
   ]
  },
  {
   "cell_type": "code",
   "execution_count": 39,
   "id": "1b0af100",
   "metadata": {
    "hidden": true
   },
   "outputs": [
    {
     "ename": "LoadError",
     "evalue": "BoundsError: attempt to access 95-element Vector{Any} at index [96]",
     "output_type": "error",
     "traceback": [
      "BoundsError: attempt to access 95-element Vector{Any} at index [96]",
      "",
      "Stacktrace:",
      " [1] getindex(A::Vector{Any}, i1::Int64)",
      "   @ Base ./essentials.jl:13",
      " [2] top-level scope",
      "   @ ./In[39]:3"
     ]
    }
   ],
   "source": [
    "_samples_hmc = zeros(500, 12290)\n",
    "for i in 1:100\n",
    "    _samples_hmc[i, :] = samples_hmc[i][1][:]\n",
    "end"
   ]
  },
  {
   "cell_type": "code",
   "execution_count": 40,
   "id": "4987b27d",
   "metadata": {
    "hidden": true
   },
   "outputs": [],
   "source": [
    "@save \"../chains/HMC/CMBLensing_masked.\" _samples_hmc"
   ]
  },
  {
   "cell_type": "code",
   "execution_count": 41,
   "id": "ca8d1356-2707-4cbc-87c5-51dc2c1960bb",
   "metadata": {
    "hidden": true
   },
   "outputs": [],
   "source": [
    "chain_hmc = Chains(\n",
    "    permutedims(reduce(hcat, [exp.(sample[1].θ) for sample in samples_hmc])),\n",
    "    [:r, :Aϕ],\n",
    ");"
   ]
  },
  {
   "cell_type": "code",
   "execution_count": 42,
   "id": "9b249925-7905-4f02-87dd-ab97a3b5194f",
   "metadata": {
    "hidden": true
   },
   "outputs": [
    {
     "data": {
      "image/png": "[encoded data removed]",
      "image/svg+xml": [
       "<?xml version=\"1.0\" encoding=\"utf-8\"?>\n",
       "<svg xmlns=\"http://www.w3.org/2000/svg\" xmlns:xlink=\"http://www.w3.org/1999/xlink\" width=\"500\" height=\"300\" viewBox=\"0 0 2000 1200\">\n",
       "<defs>\n",
       "  <clipPath id=\"clip080\">\n",
       "    <rect x=\"0\" y=\"0\" width=\"2000\" height=\"1200\"/>\n",
       "  </clipPath>\n",
       "</defs>\n",
       "<path clip-path=\"url(#clip080)\" d=\"M0 1200 L2000 1200 L2000 0 L0 0  Z\" fill=\"#ffffff\" fill-rule=\"evenodd\" fill-opacity=\"1\"/>\n",
       "<defs>\n",
       "  <clipPath id=\"clip081\">\n",
       "    <rect x=\"400\" y=\"0\" width=\"1401\" height=\"1200\"/>\n",
       "  </clipPath>\n",
       "</defs>\n",
       "<path clip-path=\"url(#clip080)\" d=\"M144.057 1093.9 L1952.76 1093.9 L1952.76 47.2441 L144.057 47.2441  Z\" fill=\"#ffffff\" fill-rule=\"evenodd\" fill-opacity=\"1\"/>\n",
       "<defs>\n",
       "  <clipPath id=\"clip082\">\n",
       "    <rect x=\"144\" y=\"47\" width=\"1810\" height=\"1048\"/>\n",
       "  </clipPath>\n",
       "</defs>\n",
       "<polyline clip-path=\"url(#clip082)\" style=\"stroke:#000000; stroke-linecap:round; stroke-linejoin:round; stroke-width:2; stroke-opacity:0.1; fill:none\" points=\"177.094,1093.9 177.094,47.2441 \"/>\n",
       "<polyline clip-path=\"url(#clip082)\" style=\"stroke:#000000; stroke-linecap:round; stroke-linejoin:round; stroke-width:2; stroke-opacity:0.1; fill:none\" points=\"540.141,1093.9 540.141,47.2441 \"/>\n",
       "<polyline clip-path=\"url(#clip082)\" style=\"stroke:#000000; stroke-linecap:round; stroke-linejoin:round; stroke-width:2; stroke-opacity:0.1; fill:none\" points=\"903.188,1093.9 903.188,47.2441 \"/>\n",
       "<polyline clip-path=\"url(#clip082)\" style=\"stroke:#000000; stroke-linecap:round; stroke-linejoin:round; stroke-width:2; stroke-opacity:0.1; fill:none\" points=\"1266.23,1093.9 1266.23,47.2441 \"/>\n",
       "<polyline clip-path=\"url(#clip082)\" style=\"stroke:#000000; stroke-linecap:round; stroke-linejoin:round; stroke-width:2; stroke-opacity:0.1; fill:none\" points=\"1629.28,1093.9 1629.28,47.2441 \"/>\n",
       "<polyline clip-path=\"url(#clip080)\" style=\"stroke:#000000; stroke-linecap:round; stroke-linejoin:round; stroke-width:4; stroke-opacity:1; fill:none\" points=\"144.057,1093.9 1952.76,1093.9 \"/>\n",
       "<polyline clip-path=\"url(#clip080)\" style=\"stroke:#000000; stroke-linecap:round; stroke-linejoin:round; stroke-width:4; stroke-opacity:1; fill:none\" points=\"177.094,1093.9 177.094,1075.01 \"/>\n",
       "<polyline clip-path=\"url(#clip080)\" style=\"stroke:#000000; stroke-linecap:round; stroke-linejoin:round; stroke-width:4; stroke-opacity:1; fill:none\" points=\"540.141,1093.9 540.141,1075.01 \"/>\n",
       "<polyline clip-path=\"url(#clip080)\" style=\"stroke:#000000; stroke-linecap:round; stroke-linejoin:round; stroke-width:4; stroke-opacity:1; fill:none\" points=\"903.188,1093.9 903.188,1075.01 \"/>\n",
       "<polyline clip-path=\"url(#clip080)\" style=\"stroke:#000000; stroke-linecap:round; stroke-linejoin:round; stroke-width:4; stroke-opacity:1; fill:none\" points=\"1266.23,1093.9 1266.23,1075.01 \"/>\n",
       "<polyline clip-path=\"url(#clip080)\" style=\"stroke:#000000; stroke-linecap:round; stroke-linejoin:round; stroke-width:4; stroke-opacity:1; fill:none\" points=\"1629.28,1093.9 1629.28,1075.01 \"/>\n",
       "<path clip-path=\"url(#clip080)\" d=\"M177.094 1121.62 Q173.483 1121.62 171.654 1125.19 Q169.849 1128.73 169.849 1135.86 Q169.849 1142.97 171.654 1146.53 Q173.483 1150.07 177.094 1150.07 Q180.728 1150.07 182.534 1146.53 Q184.362 1142.97 184.362 1135.86 Q184.362 1128.73 182.534 1125.19 Q180.728 1121.62 177.094 1121.62 M177.094 1117.92 Q182.904 1117.92 185.96 1122.53 Q189.038 1127.11 189.038 1135.86 Q189.038 1144.59 185.96 1149.19 Q182.904 1153.78 177.094 1153.78 Q171.284 1153.78 168.205 1149.19 Q165.149 1144.59 165.149 1135.86 Q165.149 1127.11 168.205 1122.53 Q171.284 1117.92 177.094 1117.92 Z\" fill=\"#000000\" fill-rule=\"nonzero\" fill-opacity=\"1\" /><path clip-path=\"url(#clip080)\" d=\"M518.914 1149.17 L535.233 1149.17 L535.233 1153.1 L513.289 1153.1 L513.289 1149.17 Q515.951 1146.41 520.534 1141.78 Q525.141 1137.13 526.321 1135.79 Q528.567 1133.27 529.446 1131.53 Q530.349 1129.77 530.349 1128.08 Q530.349 1125.33 528.405 1123.59 Q526.483 1121.85 523.382 1121.85 Q521.182 1121.85 518.729 1122.62 Q516.298 1123.38 513.52 1124.93 L513.52 1120.21 Q516.345 1119.08 518.798 1118.5 Q521.252 1117.92 523.289 1117.92 Q528.659 1117.92 531.854 1120.6 Q535.048 1123.29 535.048 1127.78 Q535.048 1129.91 534.238 1131.83 Q533.451 1133.73 531.344 1136.32 Q530.766 1136.99 527.664 1140.21 Q524.562 1143.4 518.914 1149.17 Z\" fill=\"#000000\" fill-rule=\"nonzero\" fill-opacity=\"1\" /><path clip-path=\"url(#clip080)\" d=\"M555.048 1121.62 Q551.437 1121.62 549.608 1125.19 Q547.803 1128.73 547.803 1135.86 Q547.803 1142.97 549.608 1146.53 Q551.437 1150.07 555.048 1150.07 Q558.682 1150.07 560.488 1146.53 Q562.317 1142.97 562.317 1135.86 Q562.317 1128.73 560.488 1125.19 Q558.682 1121.62 555.048 1121.62 M555.048 1117.92 Q560.858 1117.92 563.914 1122.53 Q566.992 1127.11 566.992 1135.86 Q566.992 1144.59 563.914 1149.19 Q560.858 1153.78 555.048 1153.78 Q549.238 1153.78 546.159 1149.19 Q543.104 1144.59 543.104 1135.86 Q543.104 1127.11 546.159 1122.53 Q549.238 1117.92 555.048 1117.92 Z\" fill=\"#000000\" fill-rule=\"nonzero\" fill-opacity=\"1\" /><path clip-path=\"url(#clip080)\" d=\"M891.359 1122.62 L879.553 1141.07 L891.359 1141.07 L891.359 1122.62 M890.132 1118.54 L896.012 1118.54 L896.012 1141.07 L900.942 1141.07 L900.942 1144.96 L896.012 1144.96 L896.012 1153.1 L891.359 1153.1 L891.359 1144.96 L875.757 1144.96 L875.757 1140.44 L890.132 1118.54 Z\" fill=\"#000000\" fill-rule=\"nonzero\" fill-opacity=\"1\" /><path clip-path=\"url(#clip080)\" d=\"M918.674 1121.62 Q915.062 1121.62 913.234 1125.19 Q911.428 1128.73 911.428 1135.86 Q911.428 1142.97 913.234 1146.53 Q915.062 1150.07 918.674 1150.07 Q922.308 1150.07 924.113 1146.53 Q925.942 1142.97 925.942 1135.86 Q925.942 1128.73 924.113 1125.19 Q922.308 1121.62 918.674 1121.62 M918.674 1117.92 Q924.484 1117.92 927.539 1122.53 Q930.618 1127.11 930.618 1135.86 Q930.618 1144.59 927.539 1149.19 Q924.484 1153.78 918.674 1153.78 Q912.863 1153.78 909.785 1149.19 Q906.729 1144.59 906.729 1135.86 Q906.729 1127.11 909.785 1122.53 Q912.863 1117.92 918.674 1117.92 Z\" fill=\"#000000\" fill-rule=\"nonzero\" fill-opacity=\"1\" /><path clip-path=\"url(#clip080)\" d=\"M1251.64 1133.96 Q1248.49 1133.96 1246.64 1136.11 Q1244.81 1138.27 1244.81 1142.02 Q1244.81 1145.74 1246.64 1147.92 Q1248.49 1150.07 1251.64 1150.07 Q1254.79 1150.07 1256.62 1147.92 Q1258.47 1145.74 1258.47 1142.02 Q1258.47 1138.27 1256.62 1136.11 Q1254.79 1133.96 1251.64 1133.96 M1260.92 1119.31 L1260.92 1123.57 Q1259.16 1122.73 1257.36 1122.29 Q1255.57 1121.85 1253.82 1121.85 Q1249.19 1121.85 1246.73 1124.98 Q1244.3 1128.1 1243.95 1134.42 Q1245.32 1132.41 1247.38 1131.34 Q1249.44 1130.26 1251.92 1130.26 Q1257.13 1130.26 1260.13 1133.43 Q1263.17 1136.58 1263.17 1142.02 Q1263.17 1147.34 1260.02 1150.56 Q1256.87 1153.78 1251.64 1153.78 Q1245.64 1153.78 1242.47 1149.19 Q1239.3 1144.59 1239.3 1135.86 Q1239.3 1127.66 1243.19 1122.8 Q1247.08 1117.92 1253.63 1117.92 Q1255.39 1117.92 1257.17 1118.27 Q1258.98 1118.61 1260.92 1119.31 Z\" fill=\"#000000\" fill-rule=\"nonzero\" fill-opacity=\"1\" /><path clip-path=\"url(#clip080)\" d=\"M1281.22 1121.62 Q1277.61 1121.62 1275.78 1125.19 Q1273.98 1128.73 1273.98 1135.86 Q1273.98 1142.97 1275.78 1146.53 Q1277.61 1150.07 1281.22 1150.07 Q1284.86 1150.07 1286.66 1146.53 Q1288.49 1142.97 1288.49 1135.86 Q1288.49 1128.73 1286.66 1125.19 Q1284.86 1121.62 1281.22 1121.62 M1281.22 1117.92 Q1287.03 1117.92 1290.09 1122.53 Q1293.17 1127.11 1293.17 1135.86 Q1293.17 1144.59 1290.09 1149.19 Q1287.03 1153.78 1281.22 1153.78 Q1275.41 1153.78 1272.33 1149.19 Q1269.28 1144.59 1269.28 1135.86 Q1269.28 1127.11 1272.33 1122.53 Q1275.41 1117.92 1281.22 1117.92 Z\" fill=\"#000000\" fill-rule=\"nonzero\" fill-opacity=\"1\" /><path clip-path=\"url(#clip080)\" d=\"M1614.15 1136.69 Q1610.82 1136.69 1608.9 1138.47 Q1607 1140.26 1607 1143.38 Q1607 1146.51 1608.9 1148.29 Q1610.82 1150.07 1614.15 1150.07 Q1617.49 1150.07 1619.41 1148.29 Q1621.33 1146.48 1621.33 1143.38 Q1621.33 1140.26 1619.41 1138.47 Q1617.51 1136.69 1614.15 1136.69 M1609.48 1134.7 Q1606.47 1133.96 1604.78 1131.9 Q1603.11 1129.84 1603.11 1126.88 Q1603.11 1122.73 1606.05 1120.33 Q1609.02 1117.92 1614.15 1117.92 Q1619.32 1117.92 1622.26 1120.33 Q1625.2 1122.73 1625.2 1126.88 Q1625.2 1129.84 1623.51 1131.9 Q1621.84 1133.96 1618.85 1134.7 Q1622.23 1135.49 1624.11 1137.78 Q1626.01 1140.07 1626.01 1143.38 Q1626.01 1148.4 1622.93 1151.09 Q1619.87 1153.78 1614.15 1153.78 Q1608.44 1153.78 1605.36 1151.09 Q1602.3 1148.4 1602.3 1143.38 Q1602.3 1140.07 1604.2 1137.78 Q1606.1 1135.49 1609.48 1134.7 M1607.77 1127.32 Q1607.77 1130 1609.43 1131.51 Q1611.12 1133.01 1614.15 1133.01 Q1617.16 1133.01 1618.85 1131.51 Q1620.57 1130 1620.57 1127.32 Q1620.57 1124.63 1618.85 1123.13 Q1617.16 1121.62 1614.15 1121.62 Q1611.12 1121.62 1609.43 1123.13 Q1607.77 1124.63 1607.77 1127.32 Z\" fill=\"#000000\" fill-rule=\"nonzero\" fill-opacity=\"1\" /><path clip-path=\"url(#clip080)\" d=\"M1644.32 1121.62 Q1640.7 1121.62 1638.88 1125.19 Q1637.07 1128.73 1637.07 1135.86 Q1637.07 1142.97 1638.88 1146.53 Q1640.7 1150.07 1644.32 1150.07 Q1647.95 1150.07 1649.76 1146.53 Q1651.58 1142.97 1651.58 1135.86 Q1651.58 1128.73 1649.76 1125.19 Q1647.95 1121.62 1644.32 1121.62 M1644.32 1117.92 Q1650.13 1117.92 1653.18 1122.53 Q1656.26 1127.11 1656.26 1135.86 Q1656.26 1144.59 1653.18 1149.19 Q1650.13 1153.78 1644.32 1153.78 Q1638.51 1153.78 1635.43 1149.19 Q1632.37 1144.59 1632.37 1135.86 Q1632.37 1127.11 1635.43 1122.53 Q1638.51 1117.92 1644.32 1117.92 Z\" fill=\"#000000\" fill-rule=\"nonzero\" fill-opacity=\"1\" /><polyline clip-path=\"url(#clip082)\" style=\"stroke:#000000; stroke-linecap:round; stroke-linejoin:round; stroke-width:2; stroke-opacity:0.1; fill:none\" points=\"144.057,1048.01 1952.76,1048.01 \"/>\n",
       "<polyline clip-path=\"url(#clip082)\" style=\"stroke:#000000; stroke-linecap:round; stroke-linejoin:round; stroke-width:2; stroke-opacity:0.1; fill:none\" points=\"144.057,743.164 1952.76,743.164 \"/>\n",
       "<polyline clip-path=\"url(#clip082)\" style=\"stroke:#000000; stroke-linecap:round; stroke-linejoin:round; stroke-width:2; stroke-opacity:0.1; fill:none\" points=\"144.057,438.314 1952.76,438.314 \"/>\n",
       "<polyline clip-path=\"url(#clip082)\" style=\"stroke:#000000; stroke-linecap:round; stroke-linejoin:round; stroke-width:2; stroke-opacity:0.1; fill:none\" points=\"144.057,133.463 1952.76,133.463 \"/>\n",
       "<polyline clip-path=\"url(#clip080)\" style=\"stroke:#000000; stroke-linecap:round; stroke-linejoin:round; stroke-width:4; stroke-opacity:1; fill:none\" points=\"144.057,1093.9 144.057,47.2441 \"/>\n",
       "<polyline clip-path=\"url(#clip080)\" style=\"stroke:#000000; stroke-linecap:round; stroke-linejoin:round; stroke-width:4; stroke-opacity:1; fill:none\" points=\"144.057,1048.01 162.954,1048.01 \"/>\n",
       "<polyline clip-path=\"url(#clip080)\" style=\"stroke:#000000; stroke-linecap:round; stroke-linejoin:round; stroke-width:4; stroke-opacity:1; fill:none\" points=\"144.057,743.164 162.954,743.164 \"/>\n",
       "<polyline clip-path=\"url(#clip080)\" style=\"stroke:#000000; stroke-linecap:round; stroke-linejoin:round; stroke-width:4; stroke-opacity:1; fill:none\" points=\"144.057,438.314 162.954,438.314 \"/>\n",
       "<polyline clip-path=\"url(#clip080)\" style=\"stroke:#000000; stroke-linecap:round; stroke-linejoin:round; stroke-width:4; stroke-opacity:1; fill:none\" points=\"144.057,133.463 162.954,133.463 \"/>\n",
       "<path clip-path=\"url(#clip080)\" d=\"M52.9921 1048.46 L82.6679 1048.46 L82.6679 1052.4 L52.9921 1052.4 L52.9921 1048.46 Z\" fill=\"#000000\" fill-rule=\"nonzero\" fill-opacity=\"1\" /><path clip-path=\"url(#clip080)\" d=\"M106.927 1046.66 Q110.283 1047.38 112.158 1049.65 Q114.057 1051.91 114.057 1055.25 Q114.057 1060.36 110.538 1063.16 Q107.02 1065.96 100.538 1065.96 Q98.3623 1065.96 96.0475 1065.53 Q93.7558 1065.11 91.3021 1064.25 L91.3021 1059.74 Q93.2465 1060.87 95.5613 1061.45 Q97.8761 1062.03 100.399 1062.03 Q104.797 1062.03 107.089 1060.29 Q109.404 1058.56 109.404 1055.25 Q109.404 1052.19 107.251 1050.48 Q105.121 1048.74 101.302 1048.74 L97.2743 1048.74 L97.2743 1044.9 L101.487 1044.9 Q104.936 1044.9 106.765 1043.53 Q108.594 1042.15 108.594 1039.55 Q108.594 1036.89 106.696 1035.48 Q104.821 1034.04 101.302 1034.04 Q99.3808 1034.04 97.1817 1034.46 Q94.9826 1034.88 92.3438 1035.76 L92.3438 1031.59 Q95.0058 1030.85 97.3206 1030.48 Q99.6585 1030.11 101.719 1030.11 Q107.043 1030.11 110.145 1032.54 Q113.246 1034.95 113.246 1039.07 Q113.246 1041.94 111.603 1043.93 Q109.959 1045.9 106.927 1046.66 Z\" fill=\"#000000\" fill-rule=\"nonzero\" fill-opacity=\"1\" /><path clip-path=\"url(#clip080)\" d=\"M53.9412 743.615 L83.617 743.615 L83.617 747.55 L53.9412 747.55 L53.9412 743.615 Z\" fill=\"#000000\" fill-rule=\"nonzero\" fill-opacity=\"1\" /><path clip-path=\"url(#clip080)\" d=\"M97.7373 756.508 L114.057 756.508 L114.057 760.444 L92.1123 760.444 L92.1123 756.508 Q94.7743 753.754 99.3576 749.124 Q103.964 744.471 105.145 743.129 Q107.39 740.606 108.27 738.87 Q109.172 737.11 109.172 735.421 Q109.172 732.666 107.228 730.93 Q105.307 729.194 102.205 729.194 Q100.006 729.194 97.5521 729.958 Q95.1215 730.722 92.3438 732.272 L92.3438 727.55 Q95.1678 726.416 97.6215 725.837 Q100.075 725.259 102.112 725.259 Q107.483 725.259 110.677 727.944 Q113.871 730.629 113.871 735.12 Q113.871 737.249 113.061 739.171 Q112.274 741.069 110.168 743.661 Q109.589 744.333 106.487 747.55 Q103.385 750.745 97.7373 756.508 Z\" fill=\"#000000\" fill-rule=\"nonzero\" fill-opacity=\"1\" /><path clip-path=\"url(#clip080)\" d=\"M53.5708 438.765 L83.2466 438.765 L83.2466 442.7 L53.5708 442.7 L53.5708 438.765 Z\" fill=\"#000000\" fill-rule=\"nonzero\" fill-opacity=\"1\" /><path clip-path=\"url(#clip080)\" d=\"M94.1493 451.658 L101.788 451.658 L101.788 425.293 L93.478 426.959 L93.478 422.7 L101.742 421.034 L106.418 421.034 L106.418 451.658 L114.057 451.658 L114.057 455.594 L94.1493 455.594 L94.1493 451.658 Z\" fill=\"#000000\" fill-rule=\"nonzero\" fill-opacity=\"1\" /><path clip-path=\"url(#clip080)\" d=\"M102.112 119.262 Q98.5011 119.262 96.6724 122.827 Q94.8669 126.369 94.8669 133.498 Q94.8669 140.605 96.6724 144.169 Q98.5011 147.711 102.112 147.711 Q105.746 147.711 107.552 144.169 Q109.381 140.605 109.381 133.498 Q109.381 126.369 107.552 122.827 Q105.746 119.262 102.112 119.262 M102.112 115.558 Q107.922 115.558 110.978 120.165 Q114.057 124.748 114.057 133.498 Q114.057 142.225 110.978 146.831 Q107.922 151.415 102.112 151.415 Q96.3021 151.415 93.2234 146.831 Q90.1679 142.225 90.1679 133.498 Q90.1679 124.748 93.2234 120.165 Q96.3021 115.558 102.112 115.558 Z\" fill=\"#000000\" fill-rule=\"nonzero\" fill-opacity=\"1\" /><polyline clip-path=\"url(#clip082)\" style=\"stroke:#009af9; stroke-linecap:round; stroke-linejoin:round; stroke-width:4; stroke-opacity:1; fill:none\" points=\"195.246,1064.28 213.399,232.734 231.551,148.459 249.703,154.959 267.856,105.38 286.008,139.793 304.16,173.381 322.313,103.541 340.465,116.346 358.617,155.942 376.77,85.006 394.922,142.209 413.074,124.222 431.227,94.2716 449.379,156.908 467.531,95.9366 485.684,140.684 503.836,135.016 521.988,161.217 540.141,170.433 558.293,87.5032 576.445,153.455 594.598,97.9532 612.75,179.644 630.902,140.981 649.055,151.701 667.207,93.4546 685.359,117.589 703.512,119.918 721.664,155.979 739.816,138.277 757.969,163.098 776.121,159.201 794.273,171.118 812.426,81.6534 830.578,164.206 848.731,102.982 866.883,165.547 885.035,125.668 903.188,169.507 921.34,90.1915 939.492,139.645 957.645,111.292 975.797,165.539 993.949,110.795 1012.1,146.387 1030.25,115.458 1048.41,147.125 1066.56,136.005 1084.71,148.913 1102.86,114.964 1121.02,168.533 1139.17,124.251 1157.32,80.2712 1175.47,211.389 1193.62,76.8665 1211.78,145.479 1229.93,167.921 1248.08,107.969 1266.23,160.438 1284.39,129.444 1302.54,143.503 1320.69,164.886 1338.84,134.198 1357,146.465 1375.15,90.6901 1393.3,102.395 1411.45,162.855 1429.61,145.854 1447.76,116.624 1465.91,128.21 1484.06,131.032 1502.21,156.436 1520.37,150.049 1538.52,119.17 1556.67,139.062 1574.82,119.893 1592.98,139.097 1611.13,124.792 1629.28,170.672 1647.43,132.045 1665.59,104.733 1683.74,123.132 1701.89,135.792 1720.04,157.575 1738.2,86.1504 1756.35,126.978 1774.5,107.256 1792.65,162.59 1810.8,124.714 1828.96,158.812 1847.11,151.748 1865.26,128.147 1883.41,109.392 1901.57,128.569 \"/>\n",
       "<path clip-path=\"url(#clip080)\" d=\"M1646.06 1059.02 L1892.47 1059.02 L1892.47 929.415 L1646.06 929.415  Z\" fill=\"#ffffff\" fill-rule=\"evenodd\" fill-opacity=\"1\"/>\n",
       "<polyline clip-path=\"url(#clip080)\" style=\"stroke:#000000; stroke-linecap:round; stroke-linejoin:round; stroke-width:4; stroke-opacity:1; fill:none\" points=\"1646.06,1059.02 1892.47,1059.02 1892.47,929.415 1646.06,929.415 1646.06,1059.02 \"/>\n",
       "<polyline clip-path=\"url(#clip080)\" style=\"stroke:#009af9; stroke-linecap:round; stroke-linejoin:round; stroke-width:5; stroke-opacity:1; fill:none\" points=\"1666.15,994.215 1786.73,994.215 \"/>\n",
       "<path clip-path=\"url(#clip080)\" d=\"M1824.13 1018.82 Q1821.88 1024.61 1819.74 1026.38 Q1817.6 1028.14 1814.01 1028.14 L1809.75 1028.14 L1809.75 1023.69 L1812.88 1023.69 Q1815.08 1023.69 1816.29 1022.64 Q1817.51 1021.6 1818.98 1017.72 L1819.94 1015.29 L1806.83 983.408 L1812.47 983.408 L1822.6 1008.76 L1832.73 983.408 L1838.37 983.408 L1824.13 1018.82 Z\" fill=\"#000000\" fill-rule=\"nonzero\" fill-opacity=\"1\" /><path clip-path=\"url(#clip080)\" d=\"M1847.49 1010.9 L1857.03 1010.9 L1857.03 977.939 L1846.65 980.023 L1846.65 974.699 L1856.98 972.615 L1862.82 972.615 L1862.82 1010.9 L1872.37 1010.9 L1872.37 1015.82 L1847.49 1015.82 L1847.49 1010.9 Z\" fill=\"#000000\" fill-rule=\"nonzero\" fill-opacity=\"1\" /></svg>\n"
      ],
      "text/html": [
       "<img src=\"data:image/png;base64,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\" />"
      ]
     },
     "execution_count": 42,
     "metadata": {},
     "output_type": "execute_result"
    }
   ],
   "source": [
    "plot(getindex.(samples_hmc, 2))"
   ]
  },
  {
   "cell_type": "markdown",
   "id": "547a93f5-b27f-4f69-a70d-203d6d1cb3ad",
   "metadata": {
    "hidden": true
   },
   "source": [
    "## Plot"
   ]
  },
  {
   "cell_type": "code",
   "execution_count": 43,
   "id": "72d2f50a-e563-45ce-850a-825e055409ac",
   "metadata": {
    "hidden": true
   },
   "outputs": [
    {
     "data": {
      "image/png": "[encoded data removed]",
      "image/svg+xml": [
       "<?xml version=\"1.0\" encoding=\"utf-8\"?>\n",
       "<svg xmlns=\"http://www.w3.org/2000/svg\" xmlns:xlink=\"http://www.w3.org/1999/xlink\" width=\"500\" height=\"300\" viewBox=\"0 0 2000 1200\">\n",
       "<defs>\n",
       "  <clipPath id=\"clip140\">\n",
       "    <rect x=\"0\" y=\"0\" width=\"2000\" height=\"1200\"/>\n",
       "  </clipPath>\n",
       "</defs>\n",
       "<path clip-path=\"url(#clip140)\" d=\"M0 1200 L2000 1200 L2000 0 L0 0  Z\" fill=\"#ffffff\" fill-rule=\"evenodd\" fill-opacity=\"1\"/>\n",
       "<defs>\n",
       "  <clipPath id=\"clip141\">\n",
       "    <rect x=\"400\" y=\"0\" width=\"1401\" height=\"1200\"/>\n",
       "  </clipPath>\n",
       "</defs>\n",
       "<defs>\n",
       "  <clipPath id=\"clip142\">\n",
       "    <rect x=\"144\" y=\"47\" width=\"1810\" height=\"1048\"/>\n",
       "  </clipPath>\n",
       "</defs>\n",
       "<path clip-path=\"url(#clip140)\" d=\"M152.274 1035.39 L1952.76 1035.39 L1952.76 47.2441 L152.274 47.2441  Z\" fill=\"#ffffff\" fill-rule=\"evenodd\" fill-opacity=\"1\"/>\n",
       "<defs>\n",
       "  <clipPath id=\"clip143\">\n",
       "    <rect x=\"152\" y=\"47\" width=\"1801\" height=\"989\"/>\n",
       "  </clipPath>\n",
       "</defs>\n",
       "<polyline clip-path=\"url(#clip143)\" style=\"stroke:#000000; stroke-linecap:round; stroke-linejoin:round; stroke-width:2; stroke-opacity:0.1; fill:none\" points=\"185.161,1035.39 185.161,47.2441 \"/>\n",
       "<polyline clip-path=\"url(#clip143)\" style=\"stroke:#000000; stroke-linecap:round; stroke-linejoin:round; stroke-width:2; stroke-opacity:0.1; fill:none\" points=\"546.559,1035.39 546.559,47.2441 \"/>\n",
       "<polyline clip-path=\"url(#clip143)\" style=\"stroke:#000000; stroke-linecap:round; stroke-linejoin:round; stroke-width:2; stroke-opacity:0.1; fill:none\" points=\"907.956,1035.39 907.956,47.2441 \"/>\n",
       "<polyline clip-path=\"url(#clip143)\" style=\"stroke:#000000; stroke-linecap:round; stroke-linejoin:round; stroke-width:2; stroke-opacity:0.1; fill:none\" points=\"1269.35,1035.39 1269.35,47.2441 \"/>\n",
       "<polyline clip-path=\"url(#clip143)\" style=\"stroke:#000000; stroke-linecap:round; stroke-linejoin:round; stroke-width:2; stroke-opacity:0.1; fill:none\" points=\"1630.75,1035.39 1630.75,47.2441 \"/>\n",
       "<polyline clip-path=\"url(#clip140)\" style=\"stroke:#000000; stroke-linecap:round; stroke-linejoin:round; stroke-width:4; stroke-opacity:1; fill:none\" points=\"152.274,1035.39 1952.76,1035.39 \"/>\n",
       "<polyline clip-path=\"url(#clip140)\" style=\"stroke:#000000; stroke-linecap:round; stroke-linejoin:round; stroke-width:4; stroke-opacity:1; fill:none\" points=\"185.161,1035.39 185.161,1016.49 \"/>\n",
       "<polyline clip-path=\"url(#clip140)\" style=\"stroke:#000000; stroke-linecap:round; stroke-linejoin:round; stroke-width:4; stroke-opacity:1; fill:none\" points=\"546.559,1035.39 546.559,1016.49 \"/>\n",
       "<polyline clip-path=\"url(#clip140)\" style=\"stroke:#000000; stroke-linecap:round; stroke-linejoin:round; stroke-width:4; stroke-opacity:1; fill:none\" points=\"907.956,1035.39 907.956,1016.49 \"/>\n",
       "<polyline clip-path=\"url(#clip140)\" style=\"stroke:#000000; stroke-linecap:round; stroke-linejoin:round; stroke-width:4; stroke-opacity:1; fill:none\" points=\"1269.35,1035.39 1269.35,1016.49 \"/>\n",
       "<polyline clip-path=\"url(#clip140)\" style=\"stroke:#000000; stroke-linecap:round; stroke-linejoin:round; stroke-width:4; stroke-opacity:1; fill:none\" points=\"1630.75,1035.39 1630.75,1016.49 \"/>\n",
       "<path clip-path=\"url(#clip140)\" d=\"M185.161 1063.11 Q181.55 1063.11 179.722 1066.67 Q177.916 1070.21 177.916 1077.34 Q177.916 1084.45 179.722 1088.01 Q181.55 1091.56 185.161 1091.56 Q188.796 1091.56 190.601 1088.01 Q192.43 1084.45 192.43 1077.34 Q192.43 1070.21 190.601 1066.67 Q188.796 1063.11 185.161 1063.11 M185.161 1059.4 Q190.971 1059.4 194.027 1064.01 Q197.106 1068.59 197.106 1077.34 Q197.106 1086.07 194.027 1090.68 Q190.971 1095.26 185.161 1095.26 Q179.351 1095.26 176.272 1090.68 Q173.217 1086.07 173.217 1077.34 Q173.217 1068.59 176.272 1064.01 Q179.351 1059.4 185.161 1059.4 Z\" fill=\"#000000\" fill-rule=\"nonzero\" fill-opacity=\"1\" /><path clip-path=\"url(#clip140)\" d=\"M525.332 1090.65 L541.651 1090.65 L541.651 1094.59 L519.707 1094.59 L519.707 1090.65 Q522.369 1087.9 526.952 1083.27 Q531.559 1078.62 532.739 1077.27 Q534.985 1074.75 535.864 1073.01 Q536.767 1071.25 536.767 1069.56 Q536.767 1066.81 534.823 1065.07 Q532.901 1063.34 529.8 1063.34 Q527.6 1063.34 525.147 1064.1 Q522.716 1064.87 519.938 1066.42 L519.938 1061.69 Q522.763 1060.56 525.216 1059.98 Q527.67 1059.4 529.707 1059.4 Q535.077 1059.4 538.272 1062.09 Q541.466 1064.77 541.466 1069.26 Q541.466 1071.39 540.656 1073.31 Q539.869 1075.21 537.762 1077.81 Q537.184 1078.48 534.082 1081.69 Q530.98 1084.89 525.332 1090.65 Z\" fill=\"#000000\" fill-rule=\"nonzero\" fill-opacity=\"1\" /><path clip-path=\"url(#clip140)\" d=\"M561.466 1063.11 Q557.855 1063.11 556.026 1066.67 Q554.221 1070.21 554.221 1077.34 Q554.221 1084.45 556.026 1088.01 Q557.855 1091.56 561.466 1091.56 Q565.1 1091.56 566.906 1088.01 Q568.735 1084.45 568.735 1077.34 Q568.735 1070.21 566.906 1066.67 Q565.1 1063.11 561.466 1063.11 M561.466 1059.4 Q567.276 1059.4 570.332 1064.01 Q573.41 1068.59 573.41 1077.34 Q573.41 1086.07 570.332 1090.68 Q567.276 1095.26 561.466 1095.26 Q555.656 1095.26 552.577 1090.68 Q549.522 1086.07 549.522 1077.34 Q549.522 1068.59 552.577 1064.01 Q555.656 1059.4 561.466 1059.4 Z\" fill=\"#000000\" fill-rule=\"nonzero\" fill-opacity=\"1\" /><path clip-path=\"url(#clip140)\" d=\"M896.127 1064.1 L884.322 1082.55 L896.127 1082.55 L896.127 1064.1 M894.901 1060.03 L900.78 1060.03 L900.78 1082.55 L905.711 1082.55 L905.711 1086.44 L900.78 1086.44 L900.78 1094.59 L896.127 1094.59 L896.127 1086.44 L880.526 1086.44 L880.526 1081.93 L894.901 1060.03 Z\" fill=\"#000000\" fill-rule=\"nonzero\" fill-opacity=\"1\" /><path clip-path=\"url(#clip140)\" d=\"M923.442 1063.11 Q919.831 1063.11 918.002 1066.67 Q916.197 1070.21 916.197 1077.34 Q916.197 1084.45 918.002 1088.01 Q919.831 1091.56 923.442 1091.56 Q927.076 1091.56 928.882 1088.01 Q930.711 1084.45 930.711 1077.34 Q930.711 1070.21 928.882 1066.67 Q927.076 1063.11 923.442 1063.11 M923.442 1059.4 Q929.252 1059.4 932.308 1064.01 Q935.386 1068.59 935.386 1077.34 Q935.386 1086.07 932.308 1090.68 Q929.252 1095.26 923.442 1095.26 Q917.632 1095.26 914.553 1090.68 Q911.498 1086.07 911.498 1077.34 Q911.498 1068.59 914.553 1064.01 Q917.632 1059.4 923.442 1059.4 Z\" fill=\"#000000\" fill-rule=\"nonzero\" fill-opacity=\"1\" /><path clip-path=\"url(#clip140)\" d=\"M1254.76 1075.44 Q1251.61 1075.44 1249.76 1077.6 Q1247.93 1079.75 1247.93 1083.5 Q1247.93 1087.23 1249.76 1089.4 Q1251.61 1091.56 1254.76 1091.56 Q1257.91 1091.56 1259.74 1089.4 Q1261.59 1087.23 1261.59 1083.5 Q1261.59 1079.75 1259.74 1077.6 Q1257.91 1075.44 1254.76 1075.44 M1264.04 1060.79 L1264.04 1065.05 Q1262.28 1064.22 1260.48 1063.78 Q1258.69 1063.34 1256.93 1063.34 Q1252.3 1063.34 1249.85 1066.46 Q1247.42 1069.59 1247.07 1075.91 Q1248.44 1073.89 1250.5 1072.83 Q1252.56 1071.74 1255.04 1071.74 Q1260.24 1071.74 1263.25 1074.91 Q1266.29 1078.06 1266.29 1083.5 Q1266.29 1088.82 1263.14 1092.04 Q1259.99 1095.26 1254.76 1095.26 Q1248.76 1095.26 1245.59 1090.68 Q1242.42 1086.07 1242.42 1077.34 Q1242.42 1069.15 1246.31 1064.29 Q1250.2 1059.4 1256.75 1059.4 Q1258.51 1059.4 1260.29 1059.75 Q1262.1 1060.1 1264.04 1060.79 Z\" fill=\"#000000\" fill-rule=\"nonzero\" fill-opacity=\"1\" /><path clip-path=\"url(#clip140)\" d=\"M1284.34 1063.11 Q1280.73 1063.11 1278.9 1066.67 Q1277.1 1070.21 1277.1 1077.34 Q1277.1 1084.45 1278.9 1088.01 Q1280.73 1091.56 1284.34 1091.56 Q1287.98 1091.56 1289.78 1088.01 Q1291.61 1084.45 1291.61 1077.34 Q1291.61 1070.21 1289.78 1066.67 Q1287.98 1063.11 1284.34 1063.11 M1284.34 1059.4 Q1290.15 1059.4 1293.21 1064.01 Q1296.29 1068.59 1296.29 1077.34 Q1296.29 1086.07 1293.21 1090.68 Q1290.15 1095.26 1284.34 1095.26 Q1278.53 1095.26 1275.45 1090.68 Q1272.4 1086.07 1272.4 1077.34 Q1272.4 1068.59 1275.45 1064.01 Q1278.53 1059.4 1284.34 1059.4 Z\" fill=\"#000000\" fill-rule=\"nonzero\" fill-opacity=\"1\" /><path clip-path=\"url(#clip140)\" d=\"M1615.62 1078.18 Q1612.29 1078.18 1610.37 1079.96 Q1608.47 1081.74 1608.47 1084.87 Q1608.47 1087.99 1610.37 1089.77 Q1612.29 1091.56 1615.62 1091.56 Q1618.96 1091.56 1620.88 1089.77 Q1622.8 1087.97 1622.8 1084.87 Q1622.8 1081.74 1620.88 1079.96 Q1618.98 1078.18 1615.62 1078.18 M1610.95 1076.19 Q1607.94 1075.44 1606.25 1073.38 Q1604.58 1071.32 1604.58 1068.36 Q1604.58 1064.22 1607.52 1061.81 Q1610.48 1059.4 1615.62 1059.4 Q1620.79 1059.4 1623.73 1061.81 Q1626.67 1064.22 1626.67 1068.36 Q1626.67 1071.32 1624.98 1073.38 Q1623.31 1075.44 1620.32 1076.19 Q1623.7 1076.97 1625.58 1079.26 Q1627.48 1081.56 1627.48 1084.87 Q1627.48 1089.89 1624.4 1092.57 Q1621.34 1095.26 1615.62 1095.26 Q1609.91 1095.26 1606.83 1092.57 Q1603.77 1089.89 1603.77 1084.87 Q1603.77 1081.56 1605.67 1079.26 Q1607.57 1076.97 1610.95 1076.19 M1609.23 1068.8 Q1609.23 1071.49 1610.9 1072.99 Q1612.59 1074.5 1615.62 1074.5 Q1618.63 1074.5 1620.32 1072.99 Q1622.04 1071.49 1622.04 1068.8 Q1622.04 1066.12 1620.32 1064.61 Q1618.63 1063.11 1615.62 1063.11 Q1612.59 1063.11 1610.9 1064.61 Q1609.23 1066.12 1609.23 1068.8 Z\" fill=\"#000000\" fill-rule=\"nonzero\" fill-opacity=\"1\" /><path clip-path=\"url(#clip140)\" d=\"M1645.79 1063.11 Q1642.17 1063.11 1640.35 1066.67 Q1638.54 1070.21 1638.54 1077.34 Q1638.54 1084.45 1640.35 1088.01 Q1642.17 1091.56 1645.79 1091.56 Q1649.42 1091.56 1651.23 1088.01 Q1653.05 1084.45 1653.05 1077.34 Q1653.05 1070.21 1651.23 1066.67 Q1649.42 1063.11 1645.79 1063.11 M1645.79 1059.4 Q1651.6 1059.4 1654.65 1064.01 Q1657.73 1068.59 1657.73 1077.34 Q1657.73 1086.07 1654.65 1090.68 Q1651.6 1095.26 1645.79 1095.26 Q1639.98 1095.26 1636.9 1090.68 Q1633.84 1086.07 1633.84 1077.34 Q1633.84 1068.59 1636.9 1064.01 Q1639.98 1059.4 1645.79 1059.4 Z\" fill=\"#000000\" fill-rule=\"nonzero\" fill-opacity=\"1\" /><path clip-path=\"url(#clip140)\" d=\"M1010.9 1139.65 L1010.9 1145.19 Q1008.42 1143.92 1005.74 1143.28 Q1003.07 1142.65 1000.2 1142.65 Q995.844 1142.65 993.648 1143.98 Q991.484 1145.32 991.484 1147.99 Q991.484 1150.03 993.043 1151.21 Q994.603 1152.35 999.314 1153.4 L1001.32 1153.85 Q1007.56 1155.19 1010.17 1157.64 Q1012.81 1160.06 1012.81 1164.42 Q1012.81 1169.38 1008.86 1172.28 Q1004.95 1175.17 998.072 1175.17 Q995.208 1175.17 992.089 1174.6 Q989.001 1174.06 985.564 1172.95 L985.564 1166.9 Q988.81 1168.59 991.961 1169.45 Q995.112 1170.27 998.2 1170.27 Q1002.34 1170.27 1004.57 1168.87 Q1006.79 1167.44 1006.79 1164.86 Q1006.79 1162.48 1005.17 1161.2 Q1003.58 1159.93 998.136 1158.75 L996.099 1158.27 Q990.656 1157.13 988.237 1154.77 Q985.818 1152.39 985.818 1148.25 Q985.818 1143.22 989.383 1140.48 Q992.948 1137.74 999.505 1137.74 Q1002.75 1137.74 1005.62 1138.22 Q1008.48 1138.7 1010.9 1139.65 Z\" fill=\"#000000\" fill-rule=\"nonzero\" fill-opacity=\"1\" /><path clip-path=\"url(#clip140)\" d=\"M1027.93 1128.48 L1027.93 1138.6 L1039.99 1138.6 L1039.99 1143.16 L1027.93 1143.16 L1027.93 1162.51 Q1027.93 1166.87 1029.11 1168.11 Q1030.31 1169.35 1033.97 1169.35 L1039.99 1169.35 L1039.99 1174.25 L1033.97 1174.25 Q1027.2 1174.25 1024.62 1171.74 Q1022.04 1169.19 1022.04 1162.51 L1022.04 1143.16 L1017.74 1143.16 L1017.74 1138.6 L1022.04 1138.6 L1022.04 1128.48 L1027.93 1128.48 Z\" fill=\"#000000\" fill-rule=\"nonzero\" fill-opacity=\"1\" /><path clip-path=\"url(#clip140)\" d=\"M1078.18 1154.96 L1078.18 1157.83 L1051.26 1157.83 Q1051.64 1163.88 1054.89 1167.06 Q1058.16 1170.21 1063.99 1170.21 Q1067.36 1170.21 1070.51 1169.38 Q1073.7 1168.55 1076.82 1166.9 L1076.82 1172.44 Q1073.67 1173.77 1070.35 1174.47 Q1067.04 1175.17 1063.64 1175.17 Q1055.11 1175.17 1050.11 1170.21 Q1045.15 1165.24 1045.15 1156.78 Q1045.15 1148.03 1049.86 1142.9 Q1054.6 1137.74 1062.62 1137.74 Q1069.81 1137.74 1073.98 1142.39 Q1078.18 1147.01 1078.18 1154.96 M1072.33 1153.25 Q1072.26 1148.44 1069.62 1145.57 Q1067.01 1142.71 1062.68 1142.71 Q1057.78 1142.71 1054.82 1145.48 Q1051.89 1148.25 1051.45 1153.28 L1072.33 1153.25 Z\" fill=\"#000000\" fill-rule=\"nonzero\" fill-opacity=\"1\" /><path clip-path=\"url(#clip140)\" d=\"M1093.46 1168.9 L1093.46 1187.81 L1087.57 1187.81 L1087.57 1138.6 L1093.46 1138.6 L1093.46 1144.01 Q1095.31 1140.83 1098.11 1139.3 Q1100.94 1137.74 1104.86 1137.74 Q1111.35 1137.74 1115.39 1142.9 Q1119.47 1148.06 1119.47 1156.46 Q1119.47 1164.86 1115.39 1170.02 Q1111.35 1175.17 1104.86 1175.17 Q1100.94 1175.17 1098.11 1173.65 Q1095.31 1172.09 1093.46 1168.9 M1113.39 1156.46 Q1113.39 1150 1110.71 1146.34 Q1108.07 1142.65 1103.42 1142.65 Q1098.78 1142.65 1096.1 1146.34 Q1093.46 1150 1093.46 1156.46 Q1093.46 1162.92 1096.1 1166.61 Q1098.78 1170.27 1103.42 1170.27 Q1108.07 1170.27 1110.71 1166.61 Q1113.39 1162.92 1113.39 1156.46 Z\" fill=\"#000000\" fill-rule=\"nonzero\" fill-opacity=\"1\" /><polyline clip-path=\"url(#clip143)\" style=\"stroke:#000000; stroke-linecap:round; stroke-linejoin:round; stroke-width:2; stroke-opacity:0.1; fill:none\" points=\"152.274,1023.76 1952.76,1023.76 \"/>\n",
       "<polyline clip-path=\"url(#clip143)\" style=\"stroke:#000000; stroke-linecap:round; stroke-linejoin:round; stroke-width:2; stroke-opacity:0.1; fill:none\" points=\"152.274,826.148 1952.76,826.148 \"/>\n",
       "<polyline clip-path=\"url(#clip143)\" style=\"stroke:#000000; stroke-linecap:round; stroke-linejoin:round; stroke-width:2; stroke-opacity:0.1; fill:none\" points=\"152.274,628.532 1952.76,628.532 \"/>\n",
       "<polyline clip-path=\"url(#clip143)\" style=\"stroke:#000000; stroke-linecap:round; stroke-linejoin:round; stroke-width:2; stroke-opacity:0.1; fill:none\" points=\"152.274,430.915 1952.76,430.915 \"/>\n",
       "<polyline clip-path=\"url(#clip143)\" style=\"stroke:#000000; stroke-linecap:round; stroke-linejoin:round; stroke-width:2; stroke-opacity:0.1; fill:none\" points=\"152.274,233.299 1952.76,233.299 \"/>\n",
       "<polyline clip-path=\"url(#clip140)\" style=\"stroke:#000000; stroke-linecap:round; stroke-linejoin:round; stroke-width:4; stroke-opacity:1; fill:none\" points=\"152.274,1035.39 152.274,47.2441 \"/>\n",
       "<polyline clip-path=\"url(#clip140)\" style=\"stroke:#000000; stroke-linecap:round; stroke-linejoin:round; stroke-width:4; stroke-opacity:1; fill:none\" points=\"152.274,1023.76 171.172,1023.76 \"/>\n",
       "<polyline clip-path=\"url(#clip140)\" style=\"stroke:#000000; stroke-linecap:round; stroke-linejoin:round; stroke-width:4; stroke-opacity:1; fill:none\" points=\"152.274,826.148 171.172,826.148 \"/>\n",
       "<polyline clip-path=\"url(#clip140)\" style=\"stroke:#000000; stroke-linecap:round; stroke-linejoin:round; stroke-width:4; stroke-opacity:1; fill:none\" points=\"152.274,628.532 171.172,628.532 \"/>\n",
       "<polyline clip-path=\"url(#clip140)\" style=\"stroke:#000000; stroke-linecap:round; stroke-linejoin:round; stroke-width:4; stroke-opacity:1; fill:none\" points=\"152.274,430.915 171.172,430.915 \"/>\n",
       "<polyline clip-path=\"url(#clip140)\" style=\"stroke:#000000; stroke-linecap:round; stroke-linejoin:round; stroke-width:4; stroke-opacity:1; fill:none\" points=\"152.274,233.299 171.172,233.299 \"/>\n",
       "<path clip-path=\"url(#clip140)\" d=\"M65.0985 1009.56 Q61.4875 1009.56 59.6588 1013.13 Q57.8532 1016.67 57.8532 1023.8 Q57.8532 1030.91 59.6588 1034.47 Q61.4875 1038.01 65.0985 1038.01 Q68.7328 1038.01 70.5383 1034.47 Q72.367 1030.91 72.367 1023.8 Q72.367 1016.67 70.5383 1013.13 Q68.7328 1009.56 65.0985 1009.56 M65.0985 1005.86 Q70.9087 1005.86 73.9642 1010.47 Q77.0429 1015.05 77.0429 1023.8 Q77.0429 1032.53 73.9642 1037.13 Q70.9087 1041.72 65.0985 1041.72 Q59.2884 1041.72 56.2097 1037.13 Q53.1542 1032.53 53.1542 1023.8 Q53.1542 1015.05 56.2097 1010.47 Q59.2884 1005.86 65.0985 1005.86 Z\" fill=\"#000000\" fill-rule=\"nonzero\" fill-opacity=\"1\" /><path clip-path=\"url(#clip140)\" d=\"M85.2605 1035.17 L90.1447 1035.17 L90.1447 1041.04 L85.2605 1041.04 L85.2605 1035.17 Z\" fill=\"#000000\" fill-rule=\"nonzero\" fill-opacity=\"1\" /><path clip-path=\"url(#clip140)\" d=\"M110.33 1009.56 Q106.719 1009.56 104.89 1013.13 Q103.084 1016.67 103.084 1023.8 Q103.084 1030.91 104.89 1034.47 Q106.719 1038.01 110.33 1038.01 Q113.964 1038.01 115.77 1034.47 Q117.598 1030.91 117.598 1023.8 Q117.598 1016.67 115.77 1013.13 Q113.964 1009.56 110.33 1009.56 M110.33 1005.86 Q116.14 1005.86 119.195 1010.47 Q122.274 1015.05 122.274 1023.8 Q122.274 1032.53 119.195 1037.13 Q116.14 1041.72 110.33 1041.72 Q104.52 1041.72 101.441 1037.13 Q98.3854 1032.53 98.3854 1023.8 Q98.3854 1015.05 101.441 1010.47 Q104.52 1005.86 110.33 1005.86 Z\" fill=\"#000000\" fill-rule=\"nonzero\" fill-opacity=\"1\" /><path clip-path=\"url(#clip140)\" d=\"M65.7467 811.947 Q62.1356 811.947 60.3069 815.512 Q58.5014 819.053 58.5014 826.183 Q58.5014 833.29 60.3069 836.854 Q62.1356 840.396 65.7467 840.396 Q69.3809 840.396 71.1865 836.854 Q73.0152 833.29 73.0152 826.183 Q73.0152 819.053 71.1865 815.512 Q69.3809 811.947 65.7467 811.947 M65.7467 808.243 Q71.5568 808.243 74.6124 812.85 Q77.6911 817.433 77.6911 826.183 Q77.6911 834.91 74.6124 839.516 Q71.5568 844.1 65.7467 844.1 Q59.9365 844.1 56.8578 839.516 Q53.8023 834.91 53.8023 826.183 Q53.8023 817.433 56.8578 812.85 Q59.9365 808.243 65.7467 808.243 Z\" fill=\"#000000\" fill-rule=\"nonzero\" fill-opacity=\"1\" /><path clip-path=\"url(#clip140)\" d=\"M85.9086 837.549 L90.7928 837.549 L90.7928 843.428 L85.9086 843.428 L85.9086 837.549 Z\" fill=\"#000000\" fill-rule=\"nonzero\" fill-opacity=\"1\" /><path clip-path=\"url(#clip140)\" d=\"M115.145 824.794 Q118.501 825.512 120.376 827.78 Q122.274 830.049 122.274 833.382 Q122.274 838.498 118.756 841.299 Q115.237 844.1 108.756 844.1 Q106.58 844.1 104.265 843.66 Q101.973 843.243 99.5197 842.387 L99.5197 837.873 Q101.464 839.007 103.779 839.586 Q106.094 840.164 108.617 840.164 Q113.015 840.164 115.307 838.428 Q117.621 836.692 117.621 833.382 Q117.621 830.327 115.469 828.614 Q113.339 826.878 109.52 826.878 L105.492 826.878 L105.492 823.035 L109.705 823.035 Q113.154 823.035 114.983 821.669 Q116.811 820.28 116.811 817.688 Q116.811 815.026 114.913 813.614 Q113.038 812.179 109.52 812.179 Q107.598 812.179 105.399 812.595 Q103.2 813.012 100.561 813.891 L100.561 809.725 Q103.223 808.984 105.538 808.614 Q107.876 808.243 109.936 808.243 Q115.26 808.243 118.362 810.674 Q121.464 813.081 121.464 817.202 Q121.464 820.072 119.82 822.063 Q118.177 824.03 115.145 824.794 Z\" fill=\"#000000\" fill-rule=\"nonzero\" fill-opacity=\"1\" /><path clip-path=\"url(#clip140)\" d=\"M64.9365 614.331 Q61.3254 614.331 59.4967 617.895 Q57.6912 621.437 57.6912 628.567 Q57.6912 635.673 59.4967 639.238 Q61.3254 642.779 64.9365 642.779 Q68.5707 642.779 70.3763 639.238 Q72.205 635.673 72.205 628.567 Q72.205 621.437 70.3763 617.895 Q68.5707 614.331 64.9365 614.331 M64.9365 610.627 Q70.7467 610.627 73.8022 615.233 Q76.8809 619.817 76.8809 628.567 Q76.8809 637.293 73.8022 641.9 Q70.7467 646.483 64.9365 646.483 Q59.1264 646.483 56.0477 641.9 Q52.9921 637.293 52.9921 628.567 Q52.9921 619.817 56.0477 615.233 Q59.1264 610.627 64.9365 610.627 Z\" fill=\"#000000\" fill-rule=\"nonzero\" fill-opacity=\"1\" /><path clip-path=\"url(#clip140)\" d=\"M85.0984 639.932 L89.9827 639.932 L89.9827 645.812 L85.0984 645.812 L85.0984 639.932 Z\" fill=\"#000000\" fill-rule=\"nonzero\" fill-opacity=\"1\" /><path clip-path=\"url(#clip140)\" d=\"M110.746 626.668 Q107.598 626.668 105.746 628.821 Q103.918 630.974 103.918 634.724 Q103.918 638.451 105.746 640.627 Q107.598 642.779 110.746 642.779 Q113.895 642.779 115.723 640.627 Q117.575 638.451 117.575 634.724 Q117.575 630.974 115.723 628.821 Q113.895 626.668 110.746 626.668 M120.029 612.016 L120.029 616.275 Q118.27 615.442 116.464 615.002 Q114.682 614.562 112.922 614.562 Q108.293 614.562 105.839 617.687 Q103.409 620.812 103.061 627.131 Q104.427 625.118 106.487 624.053 Q108.547 622.965 111.024 622.965 Q116.233 622.965 119.242 626.136 Q122.274 629.284 122.274 634.724 Q122.274 640.048 119.126 643.266 Q115.978 646.483 110.746 646.483 Q104.751 646.483 101.58 641.9 Q98.4085 637.293 98.4085 628.567 Q98.4085 620.372 102.297 615.511 Q106.186 610.627 112.737 610.627 Q114.496 610.627 116.279 610.974 Q118.084 611.321 120.029 612.016 Z\" fill=\"#000000\" fill-rule=\"nonzero\" fill-opacity=\"1\" /><path clip-path=\"url(#clip140)\" d=\"M65.2837 416.714 Q61.6726 416.714 59.8439 420.279 Q58.0384 423.821 58.0384 430.95 Q58.0384 438.057 59.8439 441.621 Q61.6726 445.163 65.2837 445.163 Q68.918 445.163 70.7235 441.621 Q72.5522 438.057 72.5522 430.95 Q72.5522 423.821 70.7235 420.279 Q68.918 416.714 65.2837 416.714 M65.2837 413.01 Q71.0939 413.01 74.1494 417.617 Q77.2281 422.2 77.2281 430.95 Q77.2281 439.677 74.1494 444.283 Q71.0939 448.867 65.2837 448.867 Q59.4736 448.867 56.3949 444.283 Q53.3393 439.677 53.3393 430.95 Q53.3393 422.2 56.3949 417.617 Q59.4736 413.01 65.2837 413.01 Z\" fill=\"#000000\" fill-rule=\"nonzero\" fill-opacity=\"1\" /><path clip-path=\"url(#clip140)\" d=\"M85.4457 442.316 L90.3299 442.316 L90.3299 448.195 L85.4457 448.195 L85.4457 442.316 Z\" fill=\"#000000\" fill-rule=\"nonzero\" fill-opacity=\"1\" /><path clip-path=\"url(#clip140)\" d=\"M100.654 447.478 L100.654 443.219 Q102.413 444.052 104.219 444.492 Q106.024 444.932 107.76 444.932 Q112.39 444.932 114.82 441.83 Q117.274 438.705 117.621 432.362 Q116.279 434.353 114.219 435.418 Q112.158 436.483 109.658 436.483 Q104.473 436.483 101.441 433.358 Q98.4317 430.209 98.4317 424.77 Q98.4317 419.446 101.58 416.228 Q104.728 413.01 109.959 413.01 Q115.955 413.01 119.103 417.617 Q122.274 422.2 122.274 430.95 Q122.274 439.121 118.385 444.006 Q114.52 448.867 107.969 448.867 Q106.209 448.867 104.404 448.519 Q102.598 448.172 100.654 447.478 M109.959 432.825 Q113.108 432.825 114.936 430.672 Q116.788 428.52 116.788 424.77 Q116.788 421.043 114.936 418.89 Q113.108 416.714 109.959 416.714 Q106.811 416.714 104.959 418.89 Q103.131 421.043 103.131 424.77 Q103.131 428.52 104.959 430.672 Q106.811 432.825 109.959 432.825 Z\" fill=\"#000000\" fill-rule=\"nonzero\" fill-opacity=\"1\" /><path clip-path=\"url(#clip140)\" d=\"M57.506 246.644 L65.1448 246.644 L65.1448 220.278 L56.8347 221.945 L56.8347 217.686 L65.0985 216.019 L69.7744 216.019 L69.7744 246.644 L77.4133 246.644 L77.4133 250.579 L57.506 250.579 L57.506 246.644 Z\" fill=\"#000000\" fill-rule=\"nonzero\" fill-opacity=\"1\" /><path clip-path=\"url(#clip140)\" d=\"M86.8577 244.699 L91.7419 244.699 L91.7419 250.579 L86.8577 250.579 L86.8577 244.699 Z\" fill=\"#000000\" fill-rule=\"nonzero\" fill-opacity=\"1\" /><path clip-path=\"url(#clip140)\" d=\"M105.955 246.644 L122.274 246.644 L122.274 250.579 L100.33 250.579 L100.33 246.644 Q102.992 243.889 107.575 239.26 Q112.182 234.607 113.362 233.264 Q115.608 230.741 116.487 229.005 Q117.39 227.246 117.39 225.556 Q117.39 222.801 115.445 221.065 Q113.524 219.329 110.422 219.329 Q108.223 219.329 105.77 220.093 Q103.339 220.857 100.561 222.408 L100.561 217.686 Q103.385 216.551 105.839 215.973 Q108.293 215.394 110.33 215.394 Q115.7 215.394 118.895 218.079 Q122.089 220.764 122.089 225.255 Q122.089 227.385 121.279 229.306 Q120.492 231.204 118.385 233.797 Q117.807 234.468 114.705 237.685 Q111.603 240.88 105.955 246.644 Z\" fill=\"#000000\" fill-rule=\"nonzero\" fill-opacity=\"1\" /><polyline clip-path=\"url(#clip143)\" style=\"stroke:#009af9; stroke-linecap:round; stroke-linejoin:round; stroke-width:4; stroke-opacity:1; fill:none\" points=\"203.231,951.385 221.301,971.153 239.371,1000.13 257.441,984.313 275.511,946.271 293.581,874.641 311.65,942.603 329.72,895.867 347.79,953.376 365.86,967.848 383.93,952.878 402,953.583 420.07,939.346 438.139,773.129 456.209,876.873 474.279,838.294 492.349,866.886 510.419,847.022 528.489,866.317 546.559,913.798 564.629,863.099 582.698,928.109 600.768,923.88 618.838,923.88 636.908,907.863 654.978,765.194 673.048,780.036 691.118,948.604 709.188,959.519 727.257,943.136 745.327,981.347 763.397,1000.25 781.467,1007.42 799.537,1005.81 817.607,980.327 835.677,975.615 853.746,920.345 871.816,979.28 889.886,952.356 907.956,793.365 926.026,882.512 944.096,933.481 962.166,851.12 980.236,761.249 998.305,815.743 1016.38,889.42 1034.45,691.919 1052.52,897.508 1070.58,932.098 1088.65,963.671 1106.72,911.96 1124.79,908.742 1142.86,897.379 1160.93,817.758 1179,875.978 1197.07,895.93 1215.14,895.93 1233.21,832.684 1251.28,898.342 1269.35,889.45 1287.42,902.149 1305.49,892.548 1323.56,921.179 1341.63,731.93 1359.7,740.441 1377.77,837.332 1395.84,886.447 1413.91,780.455 1431.98,954.5 1450.05,883.226 1468.12,954.138 1486.19,967.864 1504.26,965.826 1522.33,985.691 1540.4,984.748 1558.47,983.522 1576.54,968.74 1594.61,917.949 1612.68,928.988 1630.75,973.24 1648.82,992.344 1666.89,959.578 1684.96,930.664 1703.03,915.037 1721.1,798.31 1739.17,906.057 1757.24,851.22 1775.31,680.798 1793.38,708.313 1811.45,716.705 1829.52,867.726 1847.59,841.355 1865.66,761.612 1883.73,763.44 1901.8,789.29 \"/>\n",
       "<polyline clip-path=\"url(#clip143)\" style=\"stroke:#e26f46; stroke-linecap:round; stroke-linejoin:round; stroke-width:4; stroke-opacity:1; fill:none\" points=\"203.231,618.416 221.301,611.104 239.371,573.335 257.441,564.028 275.511,511.853 293.581,521.817 311.65,509.446 329.72,436.969 347.79,444.888 365.86,432.999 383.93,370.888 402,317.471 420.07,378.227 438.139,295.688 456.209,223.71 474.279,326.174 492.349,290.825 510.419,432.142 528.489,393.83 546.559,346.934 564.629,328.071 582.698,371.573 600.768,306.597 618.838,306.597 636.908,332.239 654.978,275.301 673.048,224.477 691.118,235.534 709.188,244.527 727.257,105.312 745.327,75.2104 763.397,178.436 781.467,323.286 799.537,330.752 817.607,256.586 835.677,234.446 853.746,184.075 871.816,197.637 889.886,320.865 907.956,287.591 926.026,191.677 944.096,115.916 962.166,104.897 980.236,184.035 998.305,149.687 1016.38,278.166 1034.45,349.123 1052.52,321.101 1070.58,240.904 1088.65,254.662 1106.72,280.008 1124.79,313.513 1142.86,184.866 1160.93,203.741 1179,205.739 1197.07,268.179 1215.14,268.179 1233.21,260.469 1251.28,153.421 1269.35,272.924 1287.42,365.024 1305.49,219.7 1323.56,366.599 1341.63,308.268 1359.7,292.999 1377.77,244.257 1395.84,233.16 1413.91,271.328 1431.98,192.229 1450.05,254.459 1468.12,332.069 1486.19,354.576 1504.26,315.499 1522.33,421.307 1540.4,439.764 1558.47,304.043 1576.54,199.881 1594.61,387.513 1612.68,337.052 1630.75,392.739 1648.82,380.99 1666.89,339.654 1684.96,359.081 1703.03,398.401 1721.1,534.388 1739.17,453.256 1757.24,477.64 1775.31,421.775 1793.38,429.328 1811.45,397.732 1829.52,415.782 1847.59,432.86 1865.66,379.568 1883.73,424.016 1901.8,230.048 \"/>\n",
       "<path clip-path=\"url(#clip140)\" d=\"M212.29 285.213 L467.674 285.213 L467.674 80.1822 L212.29 80.1822  Z\" fill=\"#ffffff\" fill-rule=\"evenodd\" fill-opacity=\"1\"/>\n",
       "<polyline clip-path=\"url(#clip140)\" style=\"stroke:#000000; stroke-linecap:round; stroke-linejoin:round; stroke-width:4; stroke-opacity:1; fill:none\" points=\"212.29,285.213 467.674,285.213 467.674,80.1822 212.29,80.1822 212.29,285.213 \"/>\n",
       "<polyline clip-path=\"url(#clip140)\" style=\"stroke:#009af9; stroke-linecap:round; stroke-linejoin:round; stroke-width:5; stroke-opacity:1; fill:none\" points=\"232.296,148.526 352.328,148.526 \"/>\n",
       "<path clip-path=\"url(#clip140)\" d=\"M396.751 138.71 Q396.751 140.262 395.726 141.257 Q394.731 142.252 393.443 142.252 Q392.33 142.252 391.744 141.608 Q391.159 140.964 391.159 140.144 Q391.159 138.973 392.066 138.007 Q392.974 137.041 394.292 136.836 Q393.325 136.133 391.774 136.133 Q389.226 136.133 386.972 138.095 Q385.977 139.003 384.893 140.671 Q383.81 142.311 383.605 143.014 L381.702 150.831 Q381.526 151.709 380.443 155.925 Q379.389 160.112 379.301 160.288 Q379.008 161.107 378.364 161.547 Q377.72 161.986 377.076 161.986 Q376.344 161.986 375.846 161.547 Q375.349 161.107 375.349 160.346 Q375.349 160.229 375.437 159.79 Q375.524 159.351 375.671 158.736 Q375.817 158.121 375.876 157.77 L379.36 143.921 Q380.004 141.403 380.15 140.613 Q380.326 139.793 380.326 138.885 Q380.326 137.304 379.828 136.719 Q379.33 136.133 378.452 136.133 Q376.93 136.133 375.934 137.949 Q374.939 139.764 374.09 143.277 Q373.826 144.243 373.651 144.448 Q373.504 144.653 373.065 144.653 Q372.333 144.624 372.333 144.038 Q372.333 143.892 372.567 142.955 Q372.801 141.989 373.241 140.584 Q373.709 139.149 374.207 138.241 Q374.5 137.626 374.763 137.217 Q375.027 136.807 375.554 136.163 Q376.081 135.518 376.871 135.167 Q377.662 134.816 378.628 134.816 Q380.736 134.816 382.229 136.104 Q383.751 137.392 384.103 139.412 Q384.835 138.358 385.742 137.451 Q386.65 136.514 388.319 135.665 Q389.988 134.816 391.774 134.816 Q393.999 134.816 395.375 135.958 Q396.751 137.07 396.751 138.71 Z\" fill=\"#000000\" fill-rule=\"nonzero\" fill-opacity=\"1\" /><polyline clip-path=\"url(#clip140)\" style=\"stroke:#e26f46; stroke-linecap:round; stroke-linejoin:round; stroke-width:5; stroke-opacity:1; fill:none\" points=\"232.296,216.87 352.328,216.87 \"/>\n",
       "<path clip-path=\"url(#clip140)\" d=\"M413.469 224.01 Q413.469 224.567 413.234 224.86 Q413.03 225.123 412.825 225.182 Q412.649 225.211 412.385 225.211 Q411.624 225.211 408.989 225.123 Q406.354 225.035 405.593 225.035 Q404.363 225.035 401.845 225.123 Q399.327 225.211 398.098 225.211 Q397.278 225.211 397.278 224.537 Q397.278 224.098 397.366 223.864 Q397.454 223.601 397.688 223.513 Q397.951 223.396 398.098 223.396 Q398.273 223.366 398.713 223.366 Q399.298 223.366 399.913 223.308 Q400.528 223.22 401.289 223.044 Q402.05 222.869 402.519 222.429 Q403.016 221.99 403.016 221.375 Q403.016 221.112 402.811 218.945 Q402.607 216.779 402.343 214.261 Q402.08 211.714 402.05 211.362 L387.001 211.362 Q385.625 213.734 384.659 215.373 Q383.693 217.013 383.342 217.569 Q382.99 218.126 382.785 218.477 Q382.58 218.828 382.463 219.033 Q381.614 220.585 381.614 221.258 Q381.614 223.132 384.425 223.366 Q385.391 223.366 385.391 224.069 Q385.391 224.596 385.157 224.889 Q384.923 225.152 384.718 225.182 Q384.542 225.211 384.249 225.211 Q383.283 225.211 381.263 225.123 Q379.243 225.035 378.247 225.035 Q377.398 225.035 375.641 225.123 Q373.885 225.211 373.094 225.211 Q372.743 225.211 372.538 225.006 Q372.333 224.801 372.333 224.537 Q372.333 224.128 372.392 223.893 Q372.479 223.659 372.714 223.542 Q372.948 223.425 373.065 223.425 Q373.182 223.396 373.592 223.366 Q375.817 223.22 377.545 222.166 Q379.301 221.083 380.97 218.301 L401.816 183.285 Q402.021 182.933 402.167 182.758 Q402.314 182.582 402.607 182.436 Q402.929 182.289 403.397 182.289 Q404.129 182.289 404.275 182.523 Q404.422 182.728 404.51 183.724 L408.169 221.2 Q408.257 221.99 408.316 222.312 Q408.404 222.605 408.784 222.927 Q409.194 223.22 409.926 223.308 Q410.687 223.366 412.093 223.366 Q412.62 223.366 412.825 223.396 Q413.03 223.396 413.234 223.542 Q413.469 223.688 413.469 224.01 M401.875 209.489 L399.972 189.726 L388.143 209.489 L401.875 209.489 Z\" fill=\"#000000\" fill-rule=\"nonzero\" fill-opacity=\"1\" /><path clip-path=\"url(#clip140)\" d=\"M441.486 231.514 Q441.486 233.584 440.421 235.654 Q439.355 237.724 437.613 239.322 Q435.871 240.9 433.494 241.925 Q431.116 242.95 428.636 243.032 L427.038 249.283 Q426.73 250.799 426.566 250.963 Q426.402 251.127 426.156 251.127 Q425.644 251.127 425.644 250.656 Q425.644 250.512 426.566 246.967 L427.55 243.032 Q423.82 242.827 421.648 240.675 Q419.475 238.523 419.475 235.428 Q419.475 233.338 420.541 231.268 Q421.627 229.177 423.369 227.599 Q425.132 226.021 427.509 225.017 Q429.887 224.013 432.325 223.931 L434.764 214.237 Q434.887 213.684 434.99 213.54 Q435.092 213.397 435.4 213.397 Q435.625 213.397 435.748 213.499 Q435.871 213.602 435.871 213.704 L435.891 213.806 L435.768 214.401 L433.412 223.931 Q435.502 224.074 437.121 224.812 Q438.74 225.55 439.662 226.657 Q440.585 227.743 441.036 228.973 Q441.486 230.202 441.486 231.514 M432.079 224.853 Q429.825 225.058 427.919 226.165 Q426.013 227.271 424.783 228.911 Q423.554 230.53 422.877 232.477 Q422.201 234.404 422.201 236.31 Q422.201 237.806 422.693 238.953 Q423.205 240.101 424.046 240.757 Q424.886 241.392 425.808 241.741 Q426.751 242.069 427.755 242.11 L432.079 224.853 M438.74 230.633 Q438.74 227.968 437.203 226.472 Q435.666 224.976 433.166 224.853 L428.841 242.11 Q430.665 241.966 432.264 241.208 Q433.883 240.429 435.051 239.281 Q436.219 238.113 437.06 236.678 Q437.9 235.223 438.31 233.686 Q438.74 232.129 438.74 230.633 Z\" fill=\"#000000\" fill-rule=\"nonzero\" fill-opacity=\"1\" /></svg>\n"
      ],
      "text/html": [
       "<img src=\"data:image/png;base64,iVBORw0KGgoAAAANSUhEUgAAAlgAAAFnCAIAAAD1wKBuAAAABmJLR0QA/wD/AP+gvaeTAAAgAElEQVR4nOzdeVxc1dk48HPXWRlgBgYGSICEbGQhIftqjImNUWO0Ji7pq22s2rRat/bta99fF2urfWu11rbWaNWaurYuUVOXGrNJFpOQBRIgC1tYB5gZmP3uvz9uMpnArDAb8Hw/+SPcudx7GIZ55pzznOdgkiQhAAAAYLTCk90AAAAAIJkgEAIAABjVIBACAAAY1SAQAgAAGNUgEAIAABjVIBACAAAY1SAQAgAAGNUgEAIAABjVIBACAAAY1SAQAgAAGNUgEAIAABjVIBACAAAY1VIlEL777rt9fX3JbgUAAIBRJ1UC4X333Xfw4MFgjzocjkQ2ZkRiGIZl2WS3YtiDl+LQuVwuURST3YrhTRRFl8uV7FaMHGSyG3CBJEkhNoSCP5uhg/22YgJeikMX+o8dRAheijGUKj1CAAAAICkgEAIAABjVIBACAAAY1SAQAgAAGNUgEAIAABjVIBCC1CVxsN4DABB3EAhBiuItHe3/u4Fra0h2QwAAI1yqrCMcnN/97nf19fXJbkXclZSU/PjHP052KxKt9/0XJNbLtp6j8scluy0AgJFsePcIn3nmmZaWlmS3Ir7Onz//7LPPJrsVieY5eZA5c4wumsJ3NCW7LQCAEW549wgRQvfff/8111yT7FbE0fbt2++9995ktyKhJI7t+2BL2spbEYax9dXJbg4AYIQb3j1CMCI5dryNMCxtxc2UqYjraEx2cwAAIxwEQpBa+J4Ox853M27ajFE0lVck2G2iE7YlAQDEEQRCkFp63/+rcspcZelchBCpz8UUKq6jKcltAgCMaBAIQQrxVO1nzh5PX3fPha8xjMothEAIAIgrCIQgVUgs07vtBd3Vt5P6HN9BKq+Yax/G04S81YxgyyEAUhsEQpAq3Ee+xDBce+U3/Q9SpqJh2iMUnX22t57pfPzb3rrKZLcFABAKBEKQKriuVrpwMkZS/gcpUxHX2TzMOlWS5Nr/SecT3+XMLXTBBLbhVLIbBAAIZdivIwQjhmDpoHKL+h2k8oolxsNbO0mDKRmNihrXVm/715/5rhbdN76lXXaDY8c73jPHkt0oAEAo0CMEqYK3dBKG3H4HcY2O0OmHyzSht67S/PQPqdyxuf/7ivaKdQjD6OJStvk0EoVkNw0AEBQEQpAqeEsnacgZeJzKK+bamxLenMHwnjyonrk089aHcI1OPkKPnYQEnm0b+RVxARi+IBCClCC67BLjIQKNf1K5hVxnU8JbNBhMfbVi/HT/IxitoPLHsY21yWoSACAsCIQgJfCWToQTZEbWwIfIYdIjFN1OrrOZHj+t33G6eCrTCPkyAKQuCIQgJfCWDjLTiHBi4EOUqYjvbkv9TXrZxpO4SkvljO13XFFcComjAKQyCIQgJQiWTiLQBCFCiMotREjiu1J9vy2m/qRi/DSEYf2O08WlQp9FsHUlpVUAgLBg+USM1dXVffLJJyaT6dZbb922bVt3d7fRaFy3bl2y25XqeKuZ1PdPGZVhFE0aTFx7E5U/PsGtigrTcFJVtnTgcSLdQOiNTGONOtOY+FYBAMKCHmGMvfXWWw8//PDmzZsfeuihuXPnCoKwceNGaXitB08GwdJJDlg74UOZilI8X0biWK7lnGLABKFMUTyVbaxJcJMAABGCQBhLp0+fnjRpks1mczgcN954Y0FBwdSpU19++WVswHAZ6Ie3dAxcROiT+iso2KYaRJDB+qx0cSnkywCQskba0Og+s9TuTlD3S4Gjlfm42u8pzMnJuemmm7744guj0XjFFVcghJYtW5aYxgxvoijYukP3CF0HP0tki6LF1J+ki6ZgROA/KEVxae/7f5UYD6ZQJbhhAICwRlQg5EW08hPem8AiHq9dge6YcKlXnZGRgRDatWsXxL+oCH09ksAT+sDJMgghKq9Y6O0R3U5crU1kwyLHNJxSjJsa7FHKVIxRCrb5tGLiTP/jorPP+vrvDJt+htHK+LcRABDYiAqEJI7q1pM93gTdTkmgKRkBxjx379591113JagRIwJvMWO0ktBmBDuBNJgwWsF1NPZbrp4iJIFnm2p1q24JegaO04WTmcZT/QKh/Yu3vXWVnLmFHjMh7q1MEtHZa//sjYybf5DshgAQ1IgKhAihQi1WmNQ+g9VqPXHixPLly5PZiOGGt3SQhtyBCw8uwXEqp5DraErNQMi11SOBpwunhDhHMa5/voxg63Lt245RNN/TPoIDIdNwylnxsW71t3BterLbAkBgkCwTY/v37zcajaWlpcluyHAiWDuJIGsnfChT6m5Vz5yrpsZMwGhFiHPooilsUy0SRd8R+2evK8ZPV4ybxve0x7+NSSP/1vju1iS3A4DgIBDGWFlZ2dtvvw1polHhLZ1kVphAmMqF1tiGk8EWTvjQRVNE1st1Nstf8t1t7iM7dWvuILPyhJ6O+LcxaeQfmeuCQAhSFwTCGBszZoycLwoix1vMZPBMGRllKuI7mlJxh15JYhprQmTKyHClmjIV+UZH+7b/XTltAV04mcjO47vb4t/KpOE7mhFO8BAIQQqDQAiST7B0BNx3wh9lKha9LqG3OzFNihzX2Sy6HXRxmECIEFJcXE3Itpz1VO/XXXMHQog0mPiR2yOUBJ7vblOUzOC7RnKwB8MdBEKQZBLHCg5biEWEMkKXiWvTU3CakGk4SZmKcHVa2DPp4lJ5Pyb79lc1c6+icscihMjsPMFulRhP3BuaDHx3myQKqhmLYGgUpDIIhCDJeGsnkqSwQ6NILrSWelvVs/UnFePCTBDK6OKpvKXDfWwPc64q7erb5YOkwYQwbKR2CrmOJjLTSI+ZIPS0IzGBK3wBiAYEQpBkgsWMa9MjKblCmYo48/kENCkqTMMpOtwEoYzU5xDpBtvbz2qWXOfrAWMUTWRkj9TEUb7zPJlbSGYXSALPW83Jbg4AgUEgTJCqqqr6+vpktyIV8dbOYPtO9EPqcwRLLN9MOfN599HdQ7kCbzULvd2Rr26ki0oRQrpVt/ofJLPykhgI+Z4O0e2M08W5jibKVIirtbg2A/JlQMqCQJgIPM9/61vf2rFjR7IbkopC7zvhj9DnxrZXYf/0H9atv7Vu/e2gp+jY+pOkwUSkGyI8X7vk2sybf4BfXkOHzM7ju5MWCK1v/L77Lz+JUyzkOpup3EKEEGUsgGlCkLIgECbC888/X11d3dExMueBhoi3dIbYd8Ifqc8R7BZJ4GNyX9Hr8p76OvOWBzjzefPv7+PaGgZxEabhJB1uBaE/xYSZ6rkr+x1Mco+wu03o6+nZ8v9inrAjcSzf00HmFiKESGN+KvcIJZ5LdhNAMkEgjLvOzk673Z6RkQGBMCA+ih5hjrxPRUzu6zlRgadlaBasNj74rGJCWdezD7r2fxLtRdjGGkXxUKsIJTEQil636OzNuvsxSeB7Xvy5xDIxvDjf1YokkcoZixAijWNSNhBKLNP+vxu4Vpi5GL0gEMbdU089df/995tMJgiEAUU+NIqrtbhSLcRodNR9ZKe6/EqEYRhFZ274YeZtD/d++JJ165OR9zgljuW6WqmCkiG2hMzOE/ossQ1CERJ62hGOU/njszc/Ibodlpcfi2HfiOtslqulI4RIY0HK1g1gz5+RGI+nen+yGwKSBgJhfFVUVMybNy89PT03NxcC4UCi2yF6XWELjfoQ+pyYTBMKvd3MuSr1nKt8R9Tly3N+9Gf38QquPdIxUq6jCcMweQ5sKEiDCSHEW5Lw8uC728mMbIykcI0ua/OTvNVsefU3sRp85jqbKdOFJ4fKzhf6LKLXHZMrxxbbVIMwzFtzOIltcO790H34yyQ2YJSDQBhHgiC88847GzZsQAhBjzAg3tKJcJzIzI7wfFKfI1g7h35fd+VuKn+cvKT90sWz80m9MfIaKFzrOdJYgFH0EBuD0QpCp0/K6Cjf005k5cn/J3SZ2T/4Ld/Z1PP8o/ZPt7r2f+KtOcS1N4puxyAv3tFEXvyUQGSZEE6kZultpuGUavoitvWsYLclqw3uY3u9Z48n6+4AAmEcvfDCC/fcc49cgNtkMpnNZtFv8wGA5H0nMrKCbew+UKx6hO4jX/p3B33I7ChG8Li2Bqpg/NAbg5KXOMr3tJPZeb4viYzsrB/8H5U/jmtrcB341Pb2H8y/29z+0/XeuspBXNyXMooQwgiSNOSmYqE1SWKbajULVpP6XG9tkjqFksR3NIl2a3LuDkbefoSpw2w2f/bZZ0ajsa6uDiHU0dHB83x3d3dOTvgSKqMHbzFHuIhQRupzPK3nhnhTrq2BM59Xly8PcP1oSmCzbfXqmUuH2JgL9zUkJ1+G725XTl94WUv0ORk3bfZ9KQm87fWnPFX7lJNnR3VliWV4S6f/uDFpLEjBfBmuq0X0OOmiKcrSud6aw5r5Vye+DUJvt+h1CX2WxN8ayKBHGC9//OMff/jDH2ZeVFRUhBAKNjrq8YzMUpNh8ZYOMly5bX+EPoe3dg3xpu7KncqJswidfuBDZHZ+pIFQkriOpqFnyly8b15SqqzxPe1kVl6IEzCCVE6b7605FO2+H5z5PMJwMmeM7whlLEjBoVG24RSVMxZXa5Wlc5nTlbGaH42KXEFXcCRtYBYMpkcoCEJdXd3x48d5nr/zzjuDneb1enfs2CGfNn369HXr1hEEMYSmRkAUu557RHT0xvcuPhiWueGHiokzBz6yb9++adOmrVq1yneEIIgnnniio6Nj5swA53/++efr1q2LY1NTlWDppCMr1Ckj9blCX48k8JGPpvYnSe7KXenXfSfw9Y0FEQ7f8d1tEuOh8ooH2Yx+983K4/f/OyaXipzEegWHzX9oNCDl5DnWN37PdTRF9cPync1kdh5GUr4jpLEgBafB2KZaurgUIaQoKZNEgW04pZhQluA2cB1NuEYnuuxDemGDIRjMk56fn282m2ma1mg0IQLhokWLWlpaZs+erdVqn3766SlTpuzevVutVg+hteFgmGJCmeiyx/EWlwtYUsTr9W7duvWFF17wP2gymVCQHqEkSaN2I1/e0qmeG2CuLhhCn4MkSbB1k1lR9CP9MWdPiB6XasbigI+S2fmi1yU6e/sVfxmIbasn9MZINp2IBJmVJ9i6JZ7zjxzxJvdBw/bIcY2OLpzsrTkUVSD0nyCUkdkFfFdbJD3L7ucfzbz5B6SxIPLbDRrTcCpt1a0IIYyiFRNmemsPJyUQKiaUeY5/JTp6iYysBN8doMEFwldeeaWsrOzNN9988sknQ5z2+OOPX3XVVUqlEiFUV1c3a9asF1988cEHHxxkSyOBYenXfjuO1w/H6/VWVFQ8+eSTCoWira2toODCX3J9ff3OnTsRQl999VV5eXm/TuHJkyenTo2oavPwwp4/jeFkqHQSSRJsXVHNEeJqLa7UCFbzoAOh+8iXqukLg9X4JjONGEVzXW2KcIGQa62n82OTKYMQIrPzkCTxlg55+Xli8D3tRHpWJFmvyilzvTWH01beEvnFuY4mesxE/yOksUBivUJfDyJDFViXGA9z5hjbei4BgVB09vE97b6SCMrSua6vPkpf+91437cfrqNZs+gaT9V+wW6FQJgUg5kjXLNmTX5+ftjTrr32WjkKIoQmT55cXFzc0DCYKlbDiM1m6+np+d73vved73yntfXSdMjp06ezs7P/+c9/rlmz5tSpU9LFD8UHDhx45ZVX3nnnnZqami1btiSp1fFifeP35mfu733vedETuI6l0GeReC7C+mo+hGHwiaMSx3qq9qnnrAh6BoaRBlMk04RcWz0Vu0CIKVREWqaQ2HwZvrs97LioTFU6l2mqjaoe6cAeIaHLxJWasCPP8i83VmUTQmMaa3BNum+WVDVlHtd5PtG7ZIgC39VC5xUTaRkCJI4mSYKSZZqbm8+cOTNnzpzE3C5ZTCbTrbfeun79+vXr1y9YsMB3fM2aNesv2rhxozwQ+uGHH+7YsWPTpk2zZs1au3ZtT0+P3GscGdiWs3x3u2HTz5mGU+Yn73ZX7hw4JsZbOzGKJtIyo7ryUJYSeqr3I5JWTioPdf3I8mW4toYYBkKEEJGV6BUUfE97hJlKVP54QpvuPR3pIgqJ8Qi2btLUv9QAacwPW3pb/uXytqGmREWCbapRFJeiixMThN5ImYq8NYcScGsfrrtN4jnSVEToDLCCIgRJ4C2vPB6nmgyJmJjlOG7jxo3l5eUbN24Mdo7dbr/vvvvS0i7NuBQXF7/22mvy/51OJ44HiNlSlJlsqYNhmJ/97GdHjhwRRVH+0ZRK5blz51asCNBZkSTJ4RjkomYfr9eLYRjLskO8ToQ8Bz4nx8/gC6eq7/kN+/Xntn/+yb7vE+V1dxHZl8a7uNZGPNPocEa374GgyeDNrdignhDXwc/JaQsdrlB/S2JGtrejGQ9yffmlKDpsgsPGZeTyQ/69+EgZ2Z6OZil2FwyLMbeQJWURvrSIkpmOE/uFklCfIXyE1rMYTniUOu/lF5cyc9yt9WLJHJ7ng6XOsR0tCCGmq23or/kLjWlv9H7xhmLpOnJAWpb7bDU1Za7/jfCSMmfVfqlseUxuHQmuoQ7TGVycKKrT3N0dYmQ/tSiKbncqlumJH7G321O1j7r2LoyLaIdnHMc1Gk2EF497IBQE4Y477jh//vxXX30VImtUqVSuWbPGf6osPz/f92PwPB/wRxq+OSZdXV1jxoyhafr48eMzZsxACO3YsaNffo0PhmGR/0aDIQgCwzCFQjHE60REFJ0n9+vW3qXSaBBCmpXrhbkr7B+95Pzzj1Szr0xbdas8GOVw9ZIGU9Q/Wk6Bt3r/IJ4Qz5EvhcZTmevupUJ+L5ZX5Dp3Itj15Zci01KLq9O0+UMtruZPzB3LNpwc+i86ck6rWZ1XpIzsjsSMhb3v/kWjVqMI/ujcfV2ksUCrS+93XDQVsU01arVapVIFezcQnDaMIJHdOvSnQvS6HZ9ude//hDDkcrvfTZ8+3/9RiefsHQ3aG75L+92InL7IevBTNU0NvWBQhBy2TjqvWKPRcJnZyOuM8KeWS3Mk8tWSdGx3i5MgtVk5kbwCUZTRIb6BUBCEO++8s6KiYvfu3YWFod41aJpes2bN6tWrAz6K43jAHuHwlZ+fr1AoWJatr6+/6aab/vjHP27atCnEUzT0Hx/HcQzDEvM0MudOiIxHPWMxdvF2eGa24c6fss119s/f6PrtverZy3VX3y5YzVSWKdomkQYTbzVH+11sU13vv/6UueEBRV5R6DMpYwHf045jWMC/N/mlyLc1UPnjYvtkUtl5nkNfRHtNvqedbaxVz1kR4buDj8SxQl8PlZ0f4R2Vk2dLHiffdo4eOyl8qzrPU7mFA69M54zxHP4Cvyjg9wq2LmrsRK6tPtivIELuo7v7tr2Ia9Oz7/s/Qp/b+fi3ucZT/lsos+0NSJIUhZMwv5aoSqZhJM3VVylL5w361lHhO5vovGIcx8l0PdfeGPkLYOS9K4YmuXrxtAw8Pmvw4hgIJUn6/ve/v2PHjl27do0fH8vZlBEAx/EtW7a8++67dXV1JEmuXbu2uDg2K9JSgfvITtW0hRit7HecLpycdc/j7Pkz9s/f6HzyHoyiddf8V7QXJ/U5Qp8lqhVXQp/F8sqvtEvXRrJUg8zOlzhW6O0mMo3BzmFjmilz8b55vK0r2pVkrgOfOb78p+fkgczbHsKVUfQP5BrfESbLIIRwpZoeN9VbcziyQNhMFwdIhCaNBbzVLHEsUgVNHBWsZsWkcraxRnT1hV3EEpDodlpfe4JpqtWt/lbaFesQTiCE1HNXOna84x8ImYZT1JgJ/der4IRicrm35nDCAiHX0ayasQQhhOv0Qu1gStmNEqLdFm0+QeQG84HizJkzlZWVbW1tgiBUVlZWVla6XC75oSuvvPL555+X/7958+bXXnvt6aefdrvd8mn19bDj1yXZ2dm33npreXn5DTfcMJKi4MXMzCuDnUCPnZh192M5D/9RNW2hMvo1WxeXEkaaTCFxrOXlx6j88enXbYro+jo9plCFzlvh2hpiuHZCRmblIVGINluSbazRLr5OsJq7fn9/VDvq8d3tRFrmwA8rISinzI0wkYTraKIGZMoghMjsfISQGDLXibeaFeOmYgQ56OxN14FPeFtX7qMvpV35TTkKIoTSrlrvPX2U86vPdyFTZgBVxD/m0Eksw/e0y88VodNDcZkQBIcNT6lA+Mgjj6xatWrr1q0EQaxatWrVqlU1NTXyQ7W1tWbzhZfvnj171Gr1/fffv+qiX/7yl7Fq98hQXV0dsNDMsOY5eQCRVOjMTIQQVVCi/6//HkS/6uJSwkgDYe+7fxa9bv0dP0ERjyOFThyVGA/f0x6rcts+uEqLa3RRJY5KAs+2nlXNvjL7gWeUpXO7/viQc8+2CL+X726Tw1LklKXz2JazYd+sRY9T6LNQpqKBD2G0gkjPEoNvOCUxHtFlJw0mIt0Q+a+4H/eRndrF1/ZbkEdm5anLltp3vOM7wjbVBuy2Kkvn8bYurvP84O4eFc7cjDCczBmLECLS9KLdGm0pu9FDsFsDlkWMicEMjX788cfBHursvPRZr7a2djAtGk2mTJlC0wmak08YT+Uudfly3yfxeJCXEkaS9uP48l+eqv3Gh57FVdrIr08Z87nggZBrb8BIKh7Lvcns6Epvc231SBDoMRMwksq4aTNdNMX2zh/ZljOZtz4UtkINb+mItigBlTuWzDQytUfU81aFOI3vbMYoOtjCDCpnjBj8Z+StZoRhhD5n0NuMsOfP8F2t6tkBBiTSVt5ifvo+vquVNBbwPe2Co1dRPGXgabg2nR4z0VtzqN8uXfHAdTST2fnyL4vQ6SWBF90OXKOL932HI9HRO/S9P4MZRXOtKWjkRUHRZffWHgn4NhRDES4lZM+ftn/ymv6O/4k2aJHZ+SH2SWDbGqjcwnjUhCSzoguEbGMNlT/el9+oLl+e8/BzbGNN3/ZXw34v3x2m3HZAytK5nnB7FXEdzaRxTLD+N5mdH6JugGA1E9oMjKIJfc7g1tS7D32hmDwn4OQilT9OOXmO48t/IYTYxhoyKy/YHKRycjmTkLKofEcTdTF7C9dlIgyDNfXBCA4rrkuloVEAgvEc/4rQ59CFk+N6lwi7C96TBxUTZyqnRF3GIfSuhFzrOSp/XLTXjOi+Ua6pZy4WjL50hZwx+v/6H9dXH4XdQVAIt+9EQMrSeUzdUSQGXcgl2Lo8VftCfHInjQVC8D0oeKuZ0OcghEh9ziDW1Es85z62RzNvZbATdKtucR/5UujtZhpr6EAThDJ63DS2sTYBo5RcRxOVWyT/HyMpXKWFQBiMaLcREAjBsOCu3Bnv7iC60CMMHwiZc9X+WYJRXD87T7Cag+3IE/OaMv73jbZHODDdgy6anPaNjbY3nxadfcG+URJ4vrc78pRRH0VJmcSzTGPNwIeYsycsrzze8fi3RcarveKGYFcgjQVi8A2nBKuZ1OcghIhM4yB6hN5TXyNJUk6dH+wEungqXTTFseu9gE/dpdOKpoish2tvjLYB0eI6mvwnUwmdHorLBBPXZBnY8gPEDG81M401mbc9HO8bRdIjlDiWPX86/fqIMkX7IbMLJIEXrOaB6SSSwHOdzXSsM2Uu3DcrT7CakShEMsMq9HYLvT10UYBZLt3KW5i6Sutbf8j67i8CLsUTLJ1IFInoe4QYrVCUlDn3fMCbW3wHRa/bfXgH39Muj82G3qORNBZIHqfo7CPSAyQ+8NYueeaSHNQcoevQDnX58tDzo2krb7G8+rjEsSF6hLhSTeUVM42n4tT1l4luh9Bn8U+vxXWZgh0SRwMQPU6JY1Nr+QQAAXkqd9FjJkabizgIZOaFpYQhzmGbTyMcp8ZODHFOMLhaTuAMMDoqWToknqPy4jU0Kgl8hDsPM401RKYx8GYFOK7/1n+zDSed+wLvccj3tOPaDFw5mD3RNAuuFmzdrgOf+v55TlSoZ19p+uXrmbc9HHanYnl/j2Ajz5d6hHqjnEEaecNEZy9Td0QdfFxUppw8mzQW4CpN6I0+FMVT2YZTkd99ELj2JoxW+A9QEzo9DI0GJO8ym1pZoyDRhklGtbtyp2bRtQm4kW8pYYhZLqa+ii6cMuiUFtIYeJpQaG8ks/KC7eI0RLhGh6u1fE97JPmcbGNNwKRHGaE3Zmy43/bm04qSGQOzHyPfd2IgVdlSVdnSwX0vQghhGG4w8V0tqCTAqDVv7ST0RoQQkZGNcFywdUWeQumu3EVk5YVf749h6dffxTacCl22hi4u7fvo5QhvPThcZxOVU+jfDEKnF3q743rTYUqw2zBaGae/OwQ9wuFBEpPdgvC49kauq1U1a1kC7uXblTDEOUx9tSLQW22EyOz8gBsGCZ1NcR0uizxxlG2qpYuCDu4hhNSzrlDNusL6j99KPNfvoQhjbZwQpiK+LcCObHIXUE6WwQiS0BmiGh11HdoRIk3Gn3JSediSRopx04Te7sjrNgwC55cyKsOhRxiE4LDGL1MGQSAcFiRxGARCT9U+RfHU+A3i9xN6V0JJ4Nmm2sFlysio7MBLCcXOppjXlLnsvrmFXKAg0Y/EMlxbAx28RyjL/Ob3JcZj//Qf/Y7zg0oZjRXCVMz6VXjxkRcRkpk58pcRpkTJuLYGrqNRPSd8Cb1IG5mRRepzmHiOjnLtTeTlZQcInV7og0AYgGi34WnxGhdFI2Bo9Pjx4xQVZu3wsHb8+PEQ2eqpw1O9XxNynXVskfocwRL0XZI7fwaJ4lBWcZDGfH7/JwOPi53N1NW3DvqyYdElMxz/eSvsaWzLGUQQYacqMYUqY/39lr/9Urv4OnnIUcZ3t8cwZkSLyBvn3fEWEsV+aw0FWxehzcDoC5USCL0x8h6h6/AO5cRZRLohhu2ki6eyjafilQUtSXxnM/WN2/2PETq9CFXWAhEcNiJtMIVnIzS8A+GkSZOeeuqpZLciNiSBR6KAUf3rpbYagEsAACAASURBVEgCP9UUKCEilfCWDq69UTV9ccLuSOhzeFvQd0mmvpoeO2koO+mQWflCb7fEsf4X4a1myeOM09oJmXJCme3Np4XebiIjO8RpbGMNPXZiJDOgyknlinHT+j59Tb/xxxcOiYJg6xr0HOHQEaZiiWM58/l+Zdh8iwhlpD6H62iK6Iqi4Knclb7unhg2EiFEjyt1Bck2Gjqhr0f0OPs9A0Rapuh1S6w3qhqwo4Foj+/Q6PAOhHv27El2E2LG8sqvSH3uwD9mb+0R6z9+O/B85+73VbOuiO1H4EHzVO2n8sf79znijdTneFrOBnuUqT85lHFRdHFbBr6n3f+tyvXVR7ipOH6pawghItNIZpmYsyfUc0NNdzGNYSYI/aVfv8n8zANpy78pz27yVrMk8EkcGsUUKjIrj2s91y8MCFaz/0uI0Od4Tn0dyQW9tUckjlXNiPHnMMW4ab3v/kX0uqLa1iNCXHsTrtH1+/vF0/UIIcFuTeJvJzUJjt6AK4ViBeYIU4MkMeeqFRNmDHyEyisW3U6ht8f/INtU27vtRebMsUS1LwxP1f6Yvw2FFmopoSiyjafo8f23I48KRiuJdIN/4qhg7XJWfKxYedtQLhsJRUkZc/ZEqDMkiW0KlTLaD1VQop61zFd3je9ux9VpuDptiO0cCqpg/MBpQt5yYe2EjNTnRFJ3W3TZ7Z+/oZq5NOZb6VK5hbhKwwaqHjB0ATfowJUajFbAUsKBIFlmVOA6mkSPkx4X4L2bSDfg6rR+RS76PtmKEOIt4ettJoBgt7JNNaoZixJ5U9+uhAMfYtvOSRwbom5IpLe4vOJo36evKcZNI0ui3jcqWooJZd5zoQIh39Muuh2R9wgRQro1dzBnjsnxNbmZMjIyv4Rr6R8IhcuHRolMo+hxil5XiOtw5vNdf3gAI+nBVU4IA8PoolK2IT6BsLOJMgXYfO3CHhTgcnGtr4YgEKYItrGGyi0MtkMClVfkP1nCNJxi66uVpXMHV5U45jzV+8msvPgVhg+IyAy6KyFzrpoqKBn6kiMyO9+3koFra3BX7o7Lu+0AigllgrUrxKccpuEUaSyIao8C0mDSLLmu76OXkSTxPe0JKHoQGj2mhG2r77dAlrd2kpcHQoRhITqFzJlj3c8+TI+dmLX5iTjt2KAoLmUaT8bjylx7U8CdqmAFRQCiKDh745o1CoEwJbDnT4dIcaRMxVzHpR6hffurmoWrFRNm8hHswJAA3uoDqrIlCb5piKWEbH21YmjjojL/HmHfxy+ry68IWzYlJgidnswZE2J0lG2uU0SfEKtbdRvf3eo5/hXfE/UGTDFH5o2XWK9/h9t/EaEMIylCpw82AO7ct71ny8/Srlqvv+PRmA+K+tDjprLNp0PXMBoMUeC7WgLuXUzoMiEQ9iO4+pAoQtboyMc01aVd+c1gj1KmIue+7fL/vaePsi1n9Hc+yjbV8sHXD8SgSWdP2N55Fvl/ZMdx/e0P99vLVPQ4mbMndGvuiF9Lggm8K6EkMQ2nNAuvGfr1KWO+s7sdIeQ9fZQ5V5Xz078N/ZoRUpaUMWdPaBZ8I+CjbGONdlnQqtbB4Np07Yr1ff/+O0KSemYi6h6EaoxaS+pz2dZzZM4Y+Qhv6/JfRCgLXHpbknq3bXEd+Ex/50/jPSBPj52EJIlrOUcXxXJDFd7WJXEsaRwz8CGouz2QaLchDItfxW0EPcJUILqdfFdLiL80Kq+Y7zwvfyy1f7pVs+haIt1AGnKFvp7Yf1a9yF25i8zKS79+k++fYvx06z9+12/OxnvqEJ6WQY8ZTEnPIQq4lJDraBK9LnpcgJ3Ho75+Vr7gsIluZ9/HL2uXrvUftYs3xYQyJsg0oehxcp3Ng8ugS1t+o8R6+Z6OJK6d8KEKSji/fBnBasY16b5FhLKAa+rZ5jrXvn8bf/j7BExLYxRNjZnANMR4dFSwdOJKTcDhXEKnF2Ap4eUEhw1XacPuNT0UEAiTjz1/GleoQ5QApkxFkijwXa3emkNce1Payg0IIUKfi0QxfiWgvHWV6rlXqWYu9f3LWH8frtH1vvsX/9M8VftU0xeFLtsYJwETR5lzVVRecVT70Qe9fpYJ4YT989cFqzltVRwX0Q+kKJkh2K0BNwdmm0/jSs3gZmQxWqlb/S2EUNKTZZA8TegXCHmreeBHjYC/Yk/1AcWEssQMUyOEFMWl4RNHRbFfXndofE8HkZUb8CEchkYHEB3xzZRBEAgTRJLsn70eLP+NbaqlCyeFiCWYQkXqc7n2xr5PtmqXrpXLmOFqLa7SxilfhutsFvp6lJPKL2sGQeq/9d+eqn3uo7vlIxLLeOsqE5wv6hNwp56hryD0wQiS1Oc4936YtvLWBC82wLXpVG5hwGlCtrGGLpo86E8emgWrs+55HNemD62BMUAVlHCtl/JlBKuZMPQPhKQ+Z+BHPc/JA6ppCxPRRIQQQnTxVKbxVOjC986Kj7v+8EDk1+QtnaQh8DQtVFkbSIhzfTUEgTAx2Jaz9s9e95yoCPxoc13YGQgqr8jx5T+Fnva0FTf7DhL6nDitoPDWVdIFJbi2/+w0mTMm44Z7ev/1Z/ntyXu6EqPoWAWeaBH6HKFfupAksQ0nFeMDLMccHDI7n8jI1i5dG6sLRk4xocx79vjA40zjqSGtLMZxZencwX977NBjJogep+8FHLhHmNm/yhrf1cp3tSqnLUhQKxFSjJsquuzB9o1CCEkC79j9ntBniXzTKN7SQRoC9wgJnV509Q2LqooJE+/6aggCYWJ4ju9F8vbZA0kS21xHF4Z5a6NMRVx7o/aKdf7zCqQhXoGQqatUTJ4d8CHNojX0uKnWN55CkuSp2q+aOj+SXWTjgTSYBLvV/tnrQp9FPsJ3tQrO3pikjMq0y9bqb38kfkmJISgmlDHnqvt1RJhz1Wz9yQTXLogTXKMjMo3cxfJAgtVMZAboEYouu8R4fEc81QfosZMSWVAJ1+hI45gQ1bc9x/ZKLIPRCq6jOcJrCsF7hHiaHkmS4OgdTFtHKNFuxeNZzglBIEwESXIf26uefaX39LEAG+J0tYoeF10YZhM1qqAEV2u1y2/yP0jqcwc9NCoxHs+xvYEf4limvloZJBAiDNPf9hBvbrV/8bb31EFl8t6UKVNR5q0PeU993fmrOy2v/oY5e5ypr6ZyxsZwSZlyylzFhLivoA9IMX6G6LZznZfeWyWOtb3zrHb5jQHXnw1HdMGlacJgPUKEYf6dQk/1ftX0xI2LyhTjprKNQQKhJDl2/ku7dC2VU8h1NkV4Qd7SQQTrEWrTEY7DNKE/wdEb721tIBDGHdtcJzpschFR5lxVv0eZ5joyKy/se7dq+qKcR1/qlwNC6HMGt5RQ4tiev/3S8toT/QrWXGjSuSqMIEOMv+HajMzbHrZ/ulUShH7ziAmFYZr5Vxsf+VP2A0/jCmXPiz/vfe/5oexBmFJwtZbOH+8/TWj/7B8IId3qMBvpDSO+xFGJ9YrOPmJAIMRoBaHN8E0TCnYb21ynTOAEoYwuLg3WI/TWHeF7OrRLridNhXxkPULR7RTdzqBLOXGc0GbACgp/YpzrqyEIhAngPrZHMWk2kZapnDx74Ogo21Qb0ZQPhg38TEQackNsRRSMJPCWVx4XHTbFhDJnxccDT/DWVSomzgy9s4GydK522Tp12ZKkDBv2Q4+dlHn7I6bH3ki/4W7NkiTM58WJYsKloqNsy1nn7g8yb3kgFZ7wWKHHTJB7hLy1C2EYGahou/80offUQTIrj8oNml8dJ8oJZYKty3P8q4EPOb78p2bBN3CNjsotjHCvDN7SgXCcyAxaoR6Ky/Qj2G1xXUSIIBDGnSR5jn+lnrUMIaScOj9AIIwgUyYYwpArOHsllonie0TB+toTfE971vd/m3bVBnflroG5rN66SuXkOWGvlHHjvZm3PxJVg+MKV6dpl92Q+HfJ+FGUlDH1VUiSJIG3vf2sev7VipKY5QGlAqqgRHTZBWvXxUWEAfYeIgyXlhJ6qg8kflwUIURkGjNu2mx98+l+Iyhscx3bWJu2/JtInsXvjKhHKFg6yYzsEB80CZ1+YN3tvn//Pejw7Igm8ZzoccZ1yxcEgTDemIaTotsh//WqSufyti7/j40S4+E6mhThMmWCkedUIt+8FImi9fWn2NZz2d9/ktDplZPKibRM96Ed/qcI1i7efD5YpgxIJMX4aaLXw7XVO3e+Kzp709felewWxRihyyTSDWzrWd5qDtgdRAiRF3uEEuNhzh5P/LioTLNojXruVZaXf+WfGur48l+qWcvkraMoU5HodvjytkLge9qJIJkyMkKX2W9oVHT2Or78l/OrAOM3wdg/f6Pnrz+VODbyb0lNosOGJAmHrNFhzXNsr3LKHLkANK7NoAsn+XcK2fNnMJKm8ooGd3GMVuKa9P5LCIKRJMd7f2Hqq7O//38XhmUwTLPkOue+7f6pid7TlaSxIJFVVEAwmEJFj53grNhu/8+bGevvj8eueElHFZRwLecEa+fACUIZcXEzJm9dJaZQD31TkUHLuGkzka63vPYkEkWEEN/d5jl5IG3F+gvtzMjCVdpIRkd5S2ewtRMXLjVgaNR9dA9GEN6aQxEGNon1Ovd8wLacsb72xHBfiSE4bAgniAFLuWILAmE8iaLnRIVq1hW+A8qp8z2nDvm+ZJvr6LEThrL8gDTkRriCwv3lO0zt4azvP+k/S6+Zd7Vg6/LPyPDWHgmaLwoSTlFS5jr4mWr6QlUCV84lkpw4GjBlVOZbU+85eUA1bX5SahjJMILUf/v/8V0tfR+/jBBy7HxXOWk2lXdpKyUytzCS0VHeEqboOa4zCI7LA+GRnWkr1iMMZ84cjaSprsM7MKXa+KO/sO0N1reeCV0NIMWJDhuhTY/37x0CYRwx56pExq2aOt93RFU6n22u9Y2usE21YVcQhkYaAhRjHEjiOc/+f2tvuLtfITdcrVXPWn4pZUYUmDPHI5kgBImhLJ1LpGVm3LQ52Q2JF2rMBK71nGDtIvRBlhNkGgVnr+h1e08dSsoE4WWN0WUaNv3cWfGxY9d77sM70q5a7/8oFVniqGDpDLZ2wncX/x4h393GtpxRz1ulnLbAfWJf+FZKknPPNu2StaQ+J3vzk0zd0d73/xr+u1KVYLfhcU4ZRRAI48p9fK9y6nz/FAAqr5jQGbw1h+UvmabBZ8rICH1EPULvyYMIIcXUAL0K7dLrPScPypUSmaY6SeBGWEbGsKYYN830qzcHlvgZMeiCEsFh4zoaQ/QIkSS5j+yUeE4xMXlrdS6ix07MXH9/34cvUfnj+/2lRJI4Kgk8b+sO3SMkdHrRbvN149xHdiqKS0lDrqpsiffkgbB19r21R4Q+i2bhaoQQmZ2f9b1fu4/stH+6NdxPlqIEu42Ic301BIEwjkTBc6JC7TcuihBCGKaaOt9T8zVCiLd0iM7eofYII1tK6Dr4mbJ8ecDy7VRBCT12gmv/vxFCTN0Runhqvx0AQJIlbzAwAYiMLFybIXEsESRZBlOocI3O+dWHysnlKbJ0RD1vVfoNd6ff8N1+xylTEWc+H3ocUrB1I1EIVlZGhqdlyqmSCCEkSe7Kneo5VyGElJPKJUEIsVGlzLnnA828Vb41x1T++Kx7HnPses+554NwP1kqEh3WeNdXQxAI48d75rjEc8op/es6KqfOZ2orJYFnm+pIfc4QF4oShvDFZQRbl/fMMcWclcFO0C6+3nXwM0ngvXWVMEEIEoweU4IupkAHROpzeHOLanpyarsHlHblNxXj+lfyo0xFEuMJncXNWzpwlTZ0DXd5qYA8Oso21wm2btXMpQghjKJVU+cFK1ks4zqbvWeP99uuki6eavjOz3o//BvX1hDyx0pFgt0W7/pqCAJh/HiO7lZNXzjwM6xiQpkkCmzDyUiX0odE6nNEt/PCh8cgXIe+oAsmkME37lHNWiaJkmv/J2zLWeUUmCAECUUVlODajICLCGVEphHhuLJ0XiJbNQi4Nh3XZvAhC60JPUGLq/lgFI2rtKLdhhByH/lSOXWeL3CqypZ4qvaFSAR17v5AVTqPzM7vd1w5ZY5q+kLHrncj+UFSiuCwxXsRIYJAGCeSwHtOHlAF2gcco2jlxJmeU4fY5jq6cKjbXhP6HIRhoerLSJL76/8E2+v8QpNISrPgG30fv0zo9IPb6A6AQVNNna8uvyLECWSWSTFuWgxLyMYPZSoKXXqbtwYtt+1PLi4jCbxcpth3XDllrsQxTH3gjYJFl91duVO7bF3AR9NW3Ow5tldeizKMiA5bvBcRIgiEccKcPookFGyYUTl1vrdqH9fWMMRMGYQQRpBEelaIaULm7HHB2asK+UaDENIsWiPxnHLynJE9IwVSEF00JXRabNrKW/Tf+u+EtWcoKFNhmEDY00kG2ZLXn7yUkKk7gkRRWXop7RyjlcrJc4KNjjr3/5vMzldMnBnwUbpwMl08xbHn/bB3TymQLDOMeU4eVJbOC5icghBSls7jbV0Iw6j88UO/F2nIDTEt4Tr4uapsadi12KQ+J23FevX8VUNvDwCxhavTiIysZLciIlRumD0oeEtHJD1CQqcX7VbXkZ2qAeV8VWWLPdX7B6bkSALvqtiuvSJwd1CWtmKD6+DnotsRtgEpQmI8EuuNd8VtBIEwLiTJW3MoxPanRLqBLiihCkqCRcqoEPocIcgKCtHt8FTvDz0u6pN+3XcGzv8DACJHmYp4c0uIObywiwhlhC6T62r1njyonrOi30PKqQtEl51tqul33HNsryQI6vIrUXDKKXNIfY6zYnvYBiTHgOguZwzB0OiwxLU3CnZr6PRL7RU3ahZeE5PbhSgu467cRWRkQ3gDIDFIU6Ek8Hx3e8BHRbdD9DgjnCP01h3BtRmK8f23FcOVasWkck/V/suu7LI7dv5Lu3hNmBUmGJa24mbn3g9TsQapKHb++jv9tiUQHDY5dSjeN4dAGHvemkN04ZTQc/vqOSs086+Oye1IfdDiMq6Dn2vmXw3TfgAkBq7UEOlZwUZHeUsHwgkiMzvsdQidHomiunx5wD9e1YzF3up9vv6T59jezifvwWhlsDSZy763fDlGUu5DX4Q9M8GY+mre0unc+6H/QdFhi/eWvDIIhLHnqTmsCj4uGnOEPpe3mgeOKrAtZ7mOJvXcoMsHAQAxFyJxVOjpJDNDbcDkI8+KDRwXlammLxT7rEJ7g9Bnsbz8mPWtZ3SrbjU+8EwkibUYQWqX3+jY9Z5cOjx1uI/vpcdM8J45xne3+Q4mpr4agkAYc6LLzjbXJnLNE2nIkViv4Oztd9z99efKKXOJdEPCWgIAoExBC63xlvCLCGX02EkZN99HmYoCPoqr0+jx072fbTX/9l6JZXL+Z4v2inWRD/xoF14juuye6gjKliaMKHhOVKSt3KAYP9114NNLhxOSMoogEMact66S0On9a9LHG5GehRFkv9FRifW6K3drFsRm9BUAEKEQO/TylogWESKEMIVKu+S6ECeoyq8QzM3p6+7J+t5vot00DVOoNIuvdXyZQovrvWeOSxyrLJ2vWXyt6+v/+KYwBYcVeoTDkrfmsLJ0XkKn5XCcyMzuly/jOvAZrtb6b3wBAEgAMreQ724PmI3CWzpC70QYOfW8q9N+/OKgMwC0y9ZxHY3MuaqYNCYg0euyf/oPifVGcrLn2F7VtAUYRatmLMZwwrdQUrDDHOFwJIreuiMD64vGG6G/rOKoJPCOXe9pV9w8lJ0OAQCDQOWMRZLId7UOfEiIuEcYiaGUICd0mcrSefKmNHHi+PxN++dv9Lz4s7CxUBJ4T/U+uQ4XRpDq+Vc79/1bfgiSZYYltrlWYjzKIJUd4ofU5/ivqXcf+RIJvGYejIsCkGgYrSANpoGJo5LA87YuIuQGTIlEGcdEuKf3IPA9Hc6vPjLc+VOJ8Xb/9X8lxhPiZKauEomib72ZdvG1bHOtPM8q2K0JqLiNIBDGlqfmsKJkBqZQJfi+pCH30pp6SXLuek+7/MYU2bMGgNEmYOKoYOtCohjDHuEQEYZc3tIRp4v3frBFWTpPNWtZ1uYnEc91v/D/QsRC97E9qhmLfe9XRKZROWm2a9+/kSSJzr4ElJVBEAhjy1tzKCk18gm/NfWeqgqh16JZtCbxzQAAoCAVR/keeQOmuK8Nj1CIQhxDxJw9ztQdSb9+E0IIV2uzNj8RIhZKHOs9+bXq8n1bNYuvdR3ewVs7JYFP3axRSZJ27tz517/+9aOPPuI4LsSZDQ0Nb7zxxssvv3z+/PnBtnDYEPosXHtjUrYxIvW58udNhJBjxz81S69PQC0GAEBApKlo4GZMgqUz9Mb0CUYaTBLjERy2GF9XFHrff0G7/EbfVlC4Wpv1vV9LrLdnS4BY6K07gnC8X6FwVek8XJ3m3LMNJaS+GhpEIBQEYcOGDWvXrn3vvffuuuuuJUuWOByBS7g+//zzpaWlW7ZsefXVVydOnPjOO+8MubUpzVtziMzKG7gTWAIQhhxJ4AW7xVtXyZnPp4UsvAsAiCsqt5C3mvu96Ue+iDAxiIwsjCCDlSkeNOf+T0VnX9qq2/wP4hpd9vefFFmm+6+Piu7LNk/1yOOi/YoM4LhmwWrXgU9xpSYxUzxRB8LXX3/9o48+2rt3744dO6qqqlpaWn7zm98MPK2+vv6hhx566qmn9u7dW1FR8fjjj999990WiyUWbU5R3prDyiQtVyC0GRit4C2djh3vaOZ/A9cm4jMUACAg0liA4QTbVu9/MPJFhAmC44Q+ZyjThJ7qA0LfZW/pottp/3Sr7to7caW6/900uuwf/BZhePdf/tvXDZVYxnPy64C7UWoWrkaimJhFhGgQgfCtt95asWJFeXk5QshkMm3cuPGtt94aeFpFRYUgCPfcc4/85fe+9z2n07lt27YhNjdlSTznPXMskZXVLoNhpD7HfXQ321iTduXNyWkDAAAhhBBGkKryK2xv/F6wXdoFN4aLCGOFNOTyPYPsEfI97ZaXH+t47A7Lq79hzp6QSzzaP3+DyMzWzA+83Q2u0mZvfoLQZnQ/9yP5mfHWHMJopaJkxsCTCZ1eOW1BAvamv9C2aL+hvr5+zpxL02Bz5sxpaWlhGKbfaV6vF8dxgriwjo2iKAzDzp49O5S2pjKmvhohRCdvnwdCn+va/4lq9pWE3pisNgAAZJm3PkTlj+v+y098fSahJ7XmCBFCpMEkBN/TOzTPiX30mInGh/6AK1U9L/7M/H/32r94y1Xxcca674VY44/RSsPdj1Gmwq7nfsR3t7mP7VGXLQm23Dn9+rt0a+4cXPOiFb78az8dHR0Gw6XylQaDQZKkjo6OoqIi/9PmzJnDcdz27dvXrVuHENq2bZsoim1tbSgIp9P561//+qWXXvIdKSgoePLJJ+X/ezweiorB1n3x4646QJXM8LAcYkNlD8VRehZCiFp8vdvtDvi41+vFMEwQgu6UBiKR+i/F1Od2uyVJ8n1KHqmU6x/k33iq608/Trv7cYwgRa+LVacLQf48oyWKosfjGeJzKOoM3Okjwd4xQnMd20tPnc8bChQ3fI9etZGp3Ok6+Dk9dYGQNz7sBVUbHhLe+3PXHx+RGLf2zp8FPV+djtTpg2seQgjHcaVSGeHJUQdCgiD830x5nkcIDXxrmD179r333nvbbbdt3LhRFMWPPvooPz9fGrBDgv9lTSZTcfGlEp2FhYW+y5IkmcrvPt5je9iju7TX35XERirHT8eQpAxe41QQBAzDUvlpHBZS/KU4LFAURVHUiA+EiKIy73y077UnHC//Iu3a7yCcUGbnxarYkyiKQ38pisZ87/5/D+IiYm8333YuY+OPCPl70/X0ipvTVtyMJCmykm9U5m2POLZt8dYcUk8si1NBSiyay0YdCPPy8np6enxfWiwWHMdzcgJUfX3hhRfWrVtXUVFB0/Thw4eXLFnSr9foT6VS3XXXXatXrw74qPyXE21TY6hv+6t8T7t22TrFuKn+x4U+S++//uQ9eyL9uu9oF65O4s5/1JwrtXNCbU4NgTAmkv5SHAFGSyBECFFU1l0/t7z8WN8bvyMzjZQi0g5KWKIoxuClaMwX7RYSQxgZ3XWcNV9TuYVKU+FQbq7fcL/EsSlS9yPqQDhlypSKigrflxUVFRMnTiTJwNdZvXq1HNsOHjzY3t4eLM6lPvfhHUSmsecvP6HyxmmvWKeatQzDCdeh//Rte4keOzHnJy9EWwAeADAaYBRtuOsXPS/9HCNS7vMTYTAhSRKsZtJYENU3ek7sU5UtGXoDUiQKokEky2zatGn//v0ff/wxQqiqqurNN9/ctGmT/NCePXu++c1v9vZe2Bjv8OHD8nL76upqube3ZEkMnrvE47vbBLvVsOnnub/4h7J0bu+2Fzsfu6PruR/1ffBi+g13D2IbFADA6IFRdNa9v9bf+WiyG9IfrlTjGl20KygEu41pPBWTQJg6og6E11133U9/+tN169YVFBTMmjXr2muvfeihh+SHmpub33//fY/nwjLSBx54QKPRpKenz5gxo6Sk5O23345lwxOIqa8mjQWELpPQZequ+S/TL/+hu/bbVF5RzqMvahZ8I4nDoQCAYQEjyIFL61IBaTBFW2jNU72PzMoLtmnwMBX10ChC6PHHH9+8eXNdXV1hYeH48eN9xzds2LB69eqsrCz5y71791ZXV9tstvHjxxcWDmk0ObmYs1XKkjLflxhJaeZfrZkPezsAAIY3Mis32uIynuMVqplL49SeZBlMIEQI5eXl5eXl9TuoVCr901VJkpw1a9bgm5YymHMn0tfdk+xWAABAjBEGE98ZuBB017MPqueu1C6+zv+g6LIz9dXpa+9KSOsSB3afCEOeIFSMD1D7AAAAhjXSYAo4Ryi6nWzz6b4PtnCtlxWK85w8QGZk0QUliWpggkAgDIM5V0UaxyRmTywAAEgk0pATcI6QbarFRFtioQAAIABJREFUVRrN/G9Y/v4b0XtpSbvneIWqbMnIS4yAQBgGc65aGagUHgAADHeEwSQxHtHZ2+8421RDF01Jv/FeTKm2vfOsfFD0upgzx0ZYvqgMAmEYzLkTdMn0ZLcCAABij8zIxghyYOltpqmWLirFSMrw7Z8ytUdcBz9DCHlPfo1r0+nCycloaXxBIAyF724T+iyK5JXSBgCAOMJxItPYf5pQkrjzZxRFUxBCZFZe5i0P9r73PNfW4DlRoZqxeOSNiyIIhKEx9dVkzhgi3RD+VAAAGIbIrP5LCbmOJpH1UmMnyl+qZi1Tz15h2fpb7+lK1YzFyWhj3EEgDIU5WxVwrywAABgZSINJuLxHyDbVUrmF/hUAMm7ajOE4RisV40fmPNEg1xGOErCCEAAwshGGXG/N1/5HmKZaumiK/xGMVhju+gXf1Yrwkdl3Gpk/VUzABCEAYMQjDbm8xex/hG2sURSX9j8ty6QsnZvAdiUUBMKgmHNVZM5YmCAEAIxgpMEk9HZL/IUdxUWXne9p79cjHPEgEAYFKwgBACMekWVCkiTYuuQv2aZaXJ1GZvWvoDmyQSAMClYQAgBGvAubMfVcyJeRVxCOyDUSIUAgDAwmCAEAowRpyPWtoGAbaxTFo2tcFEEgDAYmCAEAo8SlFRSiyLacHW0ThAgCYTAwQQgAGCUIQ65cXIZrb5Q4hh4zIdktSjQIhIHBBCEAYJTwFZdhmmupvGJMoUp2ixJtlAZCz7G9viypfkSP0/rGU6LHqZxQFvAEAAAYSUhDrpwswzbVKkbfuCganZVlBFuXZeuTGElpl92QtvIWXKX1PeStq7S9/QciTW98+E+4NiOJjQQAgMS4uBlTH9tYq1v9rWQ3JwlGYyB0H91D5Y/LWPvd3o/+5jrwWdpV67XL1iGE7J+97tz9vnb5Tbo1d2DEaHxmAACjkLwZE9tcy/e006MvZRSN0kB4bI961nLFxFk5j/zZdXiH/ZPXXPs/RRjCSDr7wT+MwoliAMCohuNEptFduQvXZpAGU7JbkwSjLhDyXa1cW716088RQgjDNPNWqWdd4dzzgcR601bdhlF0shsIAACJRmaZPCcPKieVJ7shyTHqAqG7cpeiuJTQG31HMIpOW3lLEpsEAADJRRhypbrKUbiCUDbqskbdR3eryq9MdisAACCFkPpchBA9YNOJUWJ0BUKu9Rxv6VTPXJLshgAAQAohs0wYQdIFozRDYnQFQvfR3cqJM2FdBAAA+FNMKtf/108wWpHshiTHaAqEkuQ+vldVvjzZ7QAAgNSCK9WqmUuT3YqkGUWBkGk8JdptqukLk90QAAAAKWQUBUJP5W5l6Vz/OjIAAADAqAmEouA+UaGGfFEAAACXGy2B0Hv6mMQxytJ5yW4IAACA1DJaAqH76G7V9IWjNicKAABAMKMiEEoc660+AOOiAAAABhr5JdZEZ2/f9r8jglBMmpXstgAAAEg5IzkQim6HY+e7zr0fUqYiw10/h52VAAAADDQyY4PEeJwVHzt2/JPIyNLf/oiqbAnCsGQ3CgAAQCoaiYFQkrqeewQJQuatD6pmLIYQCAAAIIQRGAg91QcES2fuL7bC2nkAAABhjcCsUccXb2uWXA9REAAAQCRGWiD01lVy5ua05TcmuyEAAACGh5EWCB3/eUuz8BrYaAkAAECERlQgZJtq2ea6tOU3JbshAAAAho0RFQjtn72unreKyDQmuyEAAACGjZETCLnWeu+Z42krbk52QwAAAAwnIycQ2v/zhnrWMjI7P9kNAQAAMJyMkEDImc97Th5MW3lLshsCAABgmBkhgdDxxduqqQsoU1GyGwIAAGCYGWRlmVOnTjU1NY0fP37y5Mmhz2xpaamqqtJoNDNnzszIiP2qBtHZ6/r6P+6je4wP/iHmFwcAADDiRR0IBUG444473nnnneLi4oaGhk2bNr344otYoHqePM/fd999L774YmZmpiRJDoeDYRgcj1EfVJKYc1Wu/Z94qvaRxoLMDT+kx06MzZUBAACMJlEHwhdeeGHbtm2HDh0qLy8/cODAlVdeuXTp0jvuuGPgmY8++ugHH3ywe/fuZcuWIYROnDgRMF4OgrfmUO+2FwVbl2rmsuz7fkcXl8bksgAAAEahqAPh3//+9xtuuKG8vBwhtHDhwmuuuebVV18dGAh7enqee+655557To6CCKGysrKhN9dHu+R69ZyrcDUUFAUAADAkUQ9Unj59etGiRb4vFy9eXFtbO/C0PXv2sCy7aNGiX/3qV/fdd9+WLVsYhhlSS/0oS+dpl90AURAAAMDQRdcjdDgcDocjKyvLd8RgMHR3d/M8T5KXXer8+fMkSV5//fWLFy8uKCh44okntmzZcuDAAYVCEfDKHo/nb3/725dffuk7kpube99998n/ZxgmhnF0dGIYJlZD06MZvBSHTs4VIAgi2Q0ZxkRRZBiGpulkNyR14ThOUVSEJ0cXCEVRRAj5v5/iOC5JknzcH0EQPM/ffvvtTzzxBELoBz/4waRJk1566SVfbBt4ZafTabPZfEcUCoUkSfL/JUny/R8MjvwEwtM4RPBSHDrpomQ3ZBiD5zCsgVEphOgCYXp6ukajsVqtviMWiyUrK2vgB5O8vDyE0HXXXSd/OXbs2JkzZx49ejTYlTUazYMPPrh69eqAjzIMo1Qqo2oqGAjDsGA9chAheCkOHc/zSqUSeoRDIYqiIAjwUoyVqOcIS0pKDh065Pvy0KFDEycGWLcgH/R6vb4jHo9HrVYPqpEAAABAvEQdCG+//fYPPvjg7NmzCKGTJ09u375948aN8kM7d+585JFH5P/PmDFj5syZzz//PM/zCKFdu3ZVVVVdffXVsWs5AAAAEANRB8IHHnhgwYIF5eXlixcvnj9//qpVq+6++275oUOHDj3zzDO+M7du3bp///5JkyYtWbJk9erV999//9q1a2PWcAAAACAWol5HqFAoPvnkk4qKivr6+okTJy5atMiXO/Ptb3975cqVvjOnT59+5syZHTt2uN3uWbNmTZkyJWatBgAAAGJkMLVGcRxftmyZb6W8T25ubm5urv8RrVa7bt26wbcOAAAAiLMRsvsEAAAAMDgQCAEAAIxqEAgBAACMahAIAQAAjGoQCAEAAIxqEAgBAACMahAIAQAAjGoQCAEAAIxqEAgBAABER5RQ2fv84e4Rsg8UBEIAAADRMXtQlVW6Y4/gFZLdlFiAQAgAACA67W6JwBAjoN8cHwmREAIhAKmry4N+Xx3FRtsAJEabS8pVYy8tJX53QjxmGfYDpBAIAUhd+8zi/x4Whv3bDBhxWl0oX42uysO+PRHftFfghvmnNQiEAKSuTg9iRdTLJLsdAFyu1SUVaDCE0FPzCSuDfntieEdCCIQApC6zR0IIdXmhTwhSS5sbFWgQQkhHoZeXEr85LlRbh/GrFAIhAKmr040QQmZPstsBwOXaXFK+5sKW7CvzsdvG43fuGcYDpBAIAUhdXV6EEOryDOPP2mBEanejPPWlL5+ZT5g9aPM+ocOdvDYNAQRCAFJXp1tC0CMEqce/R4gQylSg91YSJ21S8TvcPRXCmb5h9tENAiEAqcvsQTgGPUKQWhwcsnMoX33ZwQVG7OBa8rPVZKtLKn2X/+YO4UjPsHndQiAEIHWZPdJ4HQY9QpBS2lwSQsi/R+iz3IR98g3y6I0kTaCFH/EuPuGNGxQIhACkKDuHXDwq02PyTCEAKaLVhTIVSEMGPWGGHnt5KcGLqNk5PDqFEAgBSFFmt4QQmq7HzDA0ClJJq0vKVwfoDvpTkyhLic47E9OioYJACECK6vQgJYEm6lAXDI2CVNLmRvma8KcVajHoEQIAhqTLI+WosBw19Agvwwjox18LB7vgOUmadnf4HiGSA6FjePyaIBACkKLMHpSjQkYlcnDIM0ySDhKgwSH9vlpctp2/8t/8563D4312hGlzRdgjRM0wNAoAGIpOj5SrxnJUGLpYaw0ghNrdKINGZzeQM/TYTTv4svf5rWdFftjWNBmOfIVGQxurxc67hsfrFgIhAClK7hHqFYjEESSO+pg9Uo4KK9Rif1xINN1KrS3EHjggDPeiz8NLu1vKi2hoFDU7EtCcGAieAAsASCqzB03XIxxD2UrIl7mk041MF5dyZyvR47MJSUIHu0T4WJ8YnIjMnoiGRsdqsXa3xImISvnfTMo3EIDRqsMt5aowhJBRCfkyl7S7JdPl3ZGZBuyENVnNGXU63JIooUiGRgu1mCChdvcweOlCIAQgRZk9KFeFEEI5Kig3ekmn51KPUDbTgLW6pB4YPU6INjdSEChLGf7MLCXSkMMjXwYCIQApSp4MQwgZVRhsSejj6yj7jNdhOgodt8BTlAitLilPjYXvDyKEEBo7TJYSQiAEIBX1ssgroFw1QgjlqGCO8JJO94WnxQdDaLoeOz6cN4YdRiJcOyEbO0zyZSBZBoDEefWM2OSQHptNhD1T3nHCeLFHeMwCWZEXdHr69wiRPE0IPcKEiHA1vawomhUU398ndHlRvhqZ1FieGuWpsTIDlh3BGOzQQY8QxIb3/7d35vFNVWnjf869Sdsk3fcm3Vt2kH3fESiyKyIqgooIOOPg+Do6My+OozOj6KuO+HMZlE1wEEFAQPZFZBFaaJGlhbbQjbbpvqZp2uTec35/XAhptiZp0ybt+X74g3tz7+3JybnnOc9znoWHly/wd93BDNKJ7Csgn9/EthTyLtWARAS+YgCqERrQzENN872tU0MGBSFqGu0Y7NQIbU0uU9MMX2XiMAnUauFnJf6/6/iJn7lR+zmVzvGm2g4VhJT2IauOfHETj9jPnS+l85FF0ipJdTOcLG69i8oM9B7qNaqnTEMIQISJRjIwEGXWkSa+UxrVvSi2RyO0PbnMxXLi7wGfj2G3TmSPPyJKXyAqXSz29YBXLnbEj0oFoUtAAC5XuPdMl68icil6oRcz9Qi3MYva8cxQ0gjFajI+HO3Oa71/Shsh7L7eEyqBqmagyVMAoKQRxAwEmZjL+gcgAMioce+XyC2wVyO8qya2/CoXyvCo0BY+OB4M/HcSuyMH7813+tCngtAlSK8mI/Zzbm3+ylNBnA+8O4zdOpF95SK/+iJPJ24j0ipJsBe8NoDZV9C6ddRQIwyTACZQ2ez0Fro+pRoSJjHjsigRQS8/ah3tCOzVCDUcVNgws10sJ2PCjOVRvwD0/nB25Xne2cGIVBC6BIVqAIB0d17P5jeQOB8EAIvimXOzRfvyyYyjXDWduw1IqyTDglFSJMNhOKVs5bcW8qsJhEoQoulGAcBcEKGegYG2CkJMoJEmMXeI6mbQcHZohHIpEjGtl+flMFyqIGPCzMjX1f2ZwUFo2VneqaOfCkKXoEhNAOCGO/t/56kg1ufe/4cEo8vzRaUa+PgG3bR5QGolHhqMvFiYE8P8kNuKSliqIXpB6MGAvyf1lwEwF0SoZ1AQumbbG7T+Fp59jEpCRyhSEwRgS6JRAREDCilq1YfuejVp4mFEiJnHIoAtE9jLFeTzDCeamKggdAkEQejeGqHqnkYoECaBqQpU6A5JJTqMtEoyLAQBwMI49GMB1lp9r0sbW7iEhHqhcqoRApQ0gtyCRihEUNjSR79VkVx3CG5zQYrUECIBz9bDfx4Q7Q131a1cc76MDApEMgvRfAoZ2jiefeMS7zxVgQpCl6BIDZ4s3HBzQRjr3WJBFylDRW5ShKUDKFaTkkYYGowAICmS4TGctmodLW+CUIMgAZplTaDUwGJsxMBAVK+D3PrWh1x6DSlptElkUoywK4hQwJY69cnlZLQ5u6ieR2OZJ+KZ5846y/OACkKXQHAmzKhx15ezqhnqdQ9MowIKKRQ3dlKDnAMBuK2ybxbQk1ZJQiUQJUMAcM86atl3lBjkVxOgWdYEShtJuIWJOFQCcmnr1lECcLOGaLFNHhwUI+xyGRWwpRjThTIyJrSVN+uzMWz/AOSkCBkqCF2CIjU8Esk06CDPtuBTVyNfRVh0b5bXo+hyGmFyORlzXKJ2aHdJ8JTRHz4eh/blW/QdrW2GZr5F2DjVCAVKGi06ywDAoKDWM47ebSD1OkDgHlURXA27XEYFWk03WqwmBQ3mPWUM8RXD1omst9iuP24rVBC6BEVqMjgYhUvc1V8mX0UiZcio6likDBo5qOlCjqMFKqLDDiZ3Tq0kQw0E4YxIRovhZwvW0VINAQBjjbDb7xGSllElpgwKQlerWnlIRg0Ee0GYpKuZK9rInXrywtnWta1iNVHYUIDJkBjvVpxlLpSTSBmK9nbQ1tIuUEHY+dRpoV4HkVLoH4jSazq7NQ6R1wBxPsYnFVKEAIq70Lpb2PNPdSj1QWpLjdCLhTnRFq2jpRrwFoPh4pdqhABQ1QRabNFZBmyLoLhRTfoHILkMFXctc0UbOVtKtmTjVvOZFakh0k7TaLQ3VDWDlSf/WkbGtqYOOhsqCDsfwX6okKH+AchNHUfzVSTWx3goC0XLilpzGHMjChsIAKRV2v0b3W0g5RoY1tI7fGE82ptv3ne0zCRIIJQWqQcoaSSopaJsxKAgVNhaYcKMGtI/ACmkiJpGDcmqJQTgVm0rfVLkkEYIAIWWlx0Xysjo1jYInY2DgrCpqSk9Pb20tNT6ZfX19bdu3crNzdXpOiRzqnuibIRAT5CKYEAgcl/TaKw5y4aia627i9Qgl5DL9gvCK1UkXGIcfTUjkuEw/FJi5mllmhYuo3DfWabrdKVDlGnA39Oa736iL/IWw3WrL1FGLekXgBQyKO5CS7S2k1UH0FoEVxMPNc3WNHKzSEUQ4mXRX0bDwdWq1jcInY0jgnD37t1yuXzYsGFyufzxxx9vajK/AJs1a1ZAQEDfvn0TEhIiIiI2bNjQtqZ2WYrUJFKGAGBAAMquI81uGINuGE1vSKSsa2mEajJbwWfXEXsz4qdWkGEmwcJeLMyONh9Zb7oTFiaBZh7qtHa2uGtRoiERltVBAGAQDAiwZh3lCdyqJf0CkJxqhC3JrCVebCvJWovVhADY6ywDViMoLlcSMQODgtxNEObk5DzzzDMvv/yySqVKT08/d+7cm2++afbKF198MSsrS6vV1tbWrly5ctWqVVeuXGlzg7sgerN73wDEE8iqc7P3kxjkVzNCIUVdao+wgUwJ571YuGKnUpjW0lNGz8I4tK8Am4ZGlZlEywn2wG6eZc20JK8p1vPL5NYTDQdUIzRChyFXRaYpmFYEYSPIRBDgaffzoy37y1woI8NDjP3sOh67//7mzZt9fX3//ve/i8Xivn37rl69etOmTWYtn/Pnz09MTBSLxX5+fm+//TYAUEFoFr3ZXSaCeB/3s46Wa6CRg1hvMx91pQiKJh4qmyBGRgYHodR2EoRJkUy9FkxtraUtgwgBwEcMElFHbBOeKSHjD7po+rFSDTEtwGSE9cKE6TVELkWBnkA1QkNy6gmH4bFYlGHVWc8Bl1EBK8WYbIkg7ADsFoTp6enjx49n2Xt2+kmTJtXW1hYUFFi/6+jRowAwcuRIB5rY5SlSE30Enjv6y+SriJgBs29IZBdadxc2EAIQKSXDQuwThPkqUtEEw4LNvGtSEQwPQWdNtgnNppbumKqER4vw+VLimoNQ2QgRFtLK6BkYiG7WWixMmF4D/QMAABRSqGwCWr9QILOOyGVoVCgqVpNay+Z3B1xGBaIt1KknABfLsWnRiY7HQnI3yxQXFw8fPlx/GBYWBgBKpTIxMdH04qNHj7755psNDQ1VVVUHDhwYMGCApcc2Nzfv2rXrt99+05+JiYlZtGiR8H+e53m+y47ZogYSEYN5ngBA/wBypZI447vyPI8QckY35taTaG8E2MyjIyRQrCZd47crUIGvGKSIGxxI/nUVbP9SqRVELkWhnubvmBAOv5Twf+rfYpoo00Cw570hoSfUi5SqjU+2OxfKMADszeX7DHLWOt3h17lUjQcHtjKG+/oBIZBRzQ8KNPNpejXp6w88z4d5AQEoVnGm3s5uAca4HWfFW9Wkpy+Jk2EPFjKq+VEh5i8rVpMIiR0jX0+UlBSozNyYVUeqmmB4kLm5oz3QK2ytYrcg1Gq1ItGDu8RiMQA0N5uPmk5MTFyxYkV9ff22bdvWrFkzYsSIkBDzfazVatPS0vLz8/VnIiMj586dK/y/qanJw8PD3qa6C4Vqj1CRTqPBANBDymyrEWs07W8Ca2pqQghh3P6p+m7XiKKlSKMxYx4PZlFVs0eVSiO1e6C5HDk1bKSUbWpq6u/tmVPvoaxrDvCwSSYll7CDAxiz/QMAIwOYzzJEKrVGdH9ZTADKNZ6BzL0hoSfYQ6xswBqNE1cVOgyplZ4zFXh/AfqfXs7yzBHc62yfpPQUqz2CRcbdYgQCSPTxuFSq7SUx01E3qj0mhfIaDS8FkIg882q1YSK3LJuJMW5qajKcittCRrUo0Rt0zc2JPh5Xy7UDvc2PsYJ6cby3IyMwVISUjR716iajvcAzxWwPX1ZGnDHhAcMwUqmtHq5292N4eHh1dbX+sLKyEgDkcrnZixMTEwVNcdWqVT169Pj000//9a9/mb3Sx8fngw8+mDFjhtlPeZ739ja3B+X+aDio0eoSgyXe3ggAhstJ4QWO9/D2a2+5LxKJEEKenvbvdLeGsplP8ANvbzNP7uEBALp6RhbaqWkj2oUKDkf7YJlMNthX5i3WZTdJHw606UvdqOfGhjNm+wcAHo6B5rO6282y4ffdSquaQYd1MYH3hoQeuQ9fw4O3t93yw3YuVxAd5taO9Bi0l6tFskiHNoRSyolEBA9Z7RyJROKAIKxo1sUEGHeLKUNC+MwG1rSjtBjuqHRDw72EJ0RIuGrs5e3d+XY5B8AYI4Taa1bMVXNPJjDe3l4PBfF3Gs10nUC5lpviL3agx/qIgCe6OiQzCrK6UsuPDQdXmNvt/kpxcXHXrl3TH16/fl0kEkVFRVm/y9vbOz4+vrCw0O4GdnXuRdPfdwHo4Ys8WTerx5TfYCaaXsDPA3zEXSSColBNorwRADAIhgQjG/PLEJMso0Z4i2FIMDpb+uBppY3G+dUEQr2cnlzmQhkZHIQeCkR9/NH+AgcH4Wsp/N/S2l/N0nBQq7WWaFSPpfwy2XWEw9DX/17HKmSgpFnWAAAgq4709kcA0C8AWXEcdSDjtkCwF8hEZvxlLpR1fgShgN2CcMGCBRkZGWfOnAEArVb79ddfJyUl+fr6AkBJScmnn36qVCoBQK1Wl5SU6O9KTU29cuXK0KFD26/lXYSiRvARg17/EzHQ29+Mv8zlCvLUaWdvDzlInsq8y6hAl4mpLzTwaRoWbKu/TL6KVDWDWZdRPRPD0RkDf5kyDfiKwdSYHOb8dKMXyu9NTPNj0f4CR4RZTTMkl5PTylaqLTqAkH/VSqJRPcNC0G9VZvxlMmpIrA/SJ67rMiOzjZRroLoZevkBAPQLAEuOo5g4UoNJj2nq7ZpmyKxzW0E4ffr05557bs6cOU888cSwYcNyc3M//vhj4aO8vLw//vGPOTk5AKBUKmNiYkaPHr1gwYKxY8eOHDly8uTJy5cvb+fmuz/6aHo9AwJQukkExdtX+O9z8P9zZo1mx8AE7lrWCAFAIe0qGmEDRN1fDtsuCNMqSZQMWSqhJzAxgjlfhvH955VqSJi56SZMAuVWk4e1Hf0KfV4M80uJNQdCSxwvxiFewBG4WNbOMqZUA56sTUFsE8KRFwumgjy9hvQLeHAol1KNEAAgs45IRfdKx/TzR8pGYjZRfnkT6LCDGiEAxHjD3ZYa4eFCHOABffzdUxACwJYtW77//vu+ffuuWrUqPT29V69ewvnevXvv3r27b9++AJCYmHjp0qWlS5cOGDDgqaeeunDhwuHDh23fuuw+FJt4JPcPREYVeq9Vk2NF5B9D2bfSeEsJGoQot46nVEOaeDMZt/VEyrpITL3eNAoAQ4NRvqqVnJYCqRYiCA0ZG4bqtQ8Sg5VpWhRg0hMqQWXO7Mm7DaRIfS+oa3gICpWgw4V2L7yOFJKZUcyEcHS8uJ0XbSWNJFyCbJk1xQw8lcBsu20iCKuhf8CDB3SxbA8Ok1VLevohBgEAxPsiS/llitWERTZp5GYxSi5T0QSvpfB/Hsi6hBh0wFlGYObMmTNnzjQ6GRgYuGDBAuH/CKFBgwYNGjSoTa3rBpjVCD+41mIgfnANz49l/jaYSSnHv/uVP5Rk/Ks18zDzKJdZR87NFiX4dujQylOBF2vt9VDIILO2I1vkFOp1UKeF6PtLlkQ/5O8BqZVkRmQrvZ1WSSaGt7Lc9POAQUHoTAkREk2VmUTTC4RKoF4HGg4kznHBvVBGYryREA+KAOZGo/0F5OkEO55AAI4W4c/HsHcb0Hc5+N1h7dk8W9LK6Fnagxl1gCttuaTIqCUL4h78FlQjFMi8v0EIACyC3v4oo5aMCzcegcVqEi5FIkddi6K90ZmSB0uTlef5nn7otQGu4qnkKu3othSZ7D/3D4Tq5gdVQ3NV5Ic8/JeBDAB8OZY9W0p2tsxOyRNY/Atf3AhjwpipR/gO3vbIV5EY73vLSbMopF0huUxhA0EA+iULAhgajFotQ3HPU8Yky6gpEyPQmfv+MqWNxvnVBATp6Lw69foNQoF5McyRQmxX5tsrlaS6GaYpmKRI9FsVqWhXE0Vpa4lGDRkajHr5oe/uPHhTNBzk1pMWGiHdIwQAgKxaImwQCvQLQDfNaYR5qgdbAw5gmFxm2218shh/M5G1Mm90MFQQdjKGLhgCUTLk7wH6woQfXseTIpDgdhjtjf4xlH3lIm9oxH81mb9YRo7NYHdMZvsHwOTDfEcWrstTWbOLgpBcxv3X3XcbINirhSo2LKR1x9HMWlLbDMNtEIQTwtGZknvbhKUWas8GeYKIcWKWNaOycFPkiEUWSweb5XAhGROG/DygXwBSSNHJdrWOKq3WpjdlSSKzJftBA27WEgDo5WcoCKE5WqweAAAgAElEQVSRAwf2QbsYmXXQ26BbLDmOHriLH5Y7LriE5DIEoFhN/pjM/3sUG+9KqQyoIOxkik1MoyBsE1YTACjTwNbb+C8DH4T1vNKPifdBf758b6H+tzR+2218eAYb64PEDOyaIlJIIekI12F14a3ETggoZKi0kZjmlXYvCtXEqIL2UBv8ZS6Wk55+KMgG/47x4Uyt9t5kbckGyCAI9nRWBIWag+vVLTRCMQMzohi7fEePFOJHIu9NKVMV6Hhxe+pbpY0k3B6XxSU90K1aok/AnVFDevghw6WMXCgc3b2VwmYe8lUPTKMA0M/fzB5hZROcLSWPxzkuL2K8QcNBhQZeOMePCEEv9HIt0eNareluaDFUNJlxxBoQcE8Qrkvn+/kjw4UYg+DLsew32fhMCfn8Jv73DXwoSTTwfvCyRAT7p4vEDMw7wTVazZzMYTjRHvOUpUqEeiJliCf3fN/dF9Ot3OHBqEhNSq2KpZRyMtK2hMKBnjAg4F4QRXkTCfUyf5lQldDGNttFSjnxYmFAQIvWzotGB+4+cGe1TlUzXKogj0Tde0JSJDpWZOOtNlFqwYfIEnIpeliO9C4zGTWkX8tv58VCgGdXMFe0hdv1hAD0bKkRlmqgquVK+sd8HOuN2lIsSS5FIgb+lMKnVpAtE0QupAwCABWEnYtSTTABMxphAEqvIXVa+M+te7uDhgwKQq/2Z578mXstmd85RTS2ZSCOrxiOPiKqbobHT3FW9LBdeTjpCGd9HrcFS5UI9YR4gQfj9hEUhWrjDZJYHxTsBdato8nlZJTNmfUnRqAzJQQTqGgCS6pPmMRZGuGFMjIixNgVYmY0U9UEl2xLHXC8CIdL0YD7a7KpCqZMA+1YSsVeQQgAS3sw3925V+UqvYb08ze+QCFDyu6tEWbWkigZMgxajfNBUpGxUrg7Dz8e1ybhJWJAIUXf3sH/GcfaZeLuGKgg7EyK1CARQaCJ6WxAILpZSz6/icMl6NFYM7/R34ewkTK0YTw7O9r8ZtLxR9iLZeSgZff37XcwAThe1CaTJU+gUN2KRsggkLu/V8LdhgexE3qGBqPUSosdqNJBRo19gvBsKa5sAg6bd5YBQSN0jm59oRybhjb7imGyHO2zzTp6pJA8EvkgvCHIE4YFt5t1FBMot6EGkxGPxjKNHAhtSK+B/iZZ3+TS7q4RZtWBoacMADAI+vi32CasaobTJW2yiwok+MLiRGZhm5/jDFyxTd2HIjVRSM2ERvUPQBoO1l7lX3+IMetYJRXB5fmipT0s/nxyKXoqgdmSbX4aqmiCE8VkeAg6VtSmeapYTXQYzJbkNUTh/tONqUYIAMOsOo5erjBjbLTC+HCmXANnSjGYy68m4CSNEBNILidjQs0Mp/kxjC251jCBY8VYbxcVmB6J2rjS0lPZBDpsR/iEgFQEj8cx227jeh0UNhibRgFA0e2rEmbWttggFDDyl9mXj6NkqNVw2FbZOUW0abwTM+W2BSoIAQA+y8D/k9wJpYKKGs3X9wrwhEgZ8vdESyyLulZZ1os5XIjNGj935uJ4H/TXgcyJYlt3gMySpwKZCEJaM1i5e3le0rJmpB7rjqPJ5WSYibHRCiFe0DcA7col/h7gZWG6cFJJwlu1pE4Lo80lu5obg7JqWy9PmFZJapphqqLFt52uYM6VEut71TZSqiHI8vrACkt7MPsL8IUy4sFCD5MQW1qnPquOGHrSChgJwrbbRQWCvcDTReUgFYQAALAnH3+X054b+zZi1mVUYEYkemsw49GG32dYMOrjj741ya8BANvv4MWJzBQ5U6OFK5bLebeK4DLa6ivi7uV5K5tAw0GUST7VYcGoVAOWZHxyORltZ+ntiRHocCG2Mt2HSZwSPnGhjPTxR/7mCp7IpWhhPLPoFF9t1Q/5SBEZG4Z8xS1OjgpFHgwY5hN3mJJGCPICB16HCREoXIr+nsb39ENik9u7eZ16ApBlTiPsa2AarW6GU8p2sIu6OF3869mChoPkclKmeZDjqsOwUvF5w3h2Re+2/jrP92wRSiVwp56klJOnE5CfB4wObZN1NE9FrKTb1uPuuawKGwiLQG6yQRUpQ+ESsBREkVyObd8gFJgQjho5awZAJ3mNXignYy3nPv5mAhvoBbOPWfNDPlKIH4kyHq5iBqbImWPtYR21FFvZKghgSSK6VNEilF6PJY0wV0Xu1LvxiLWRkkZSrzPeIwSAfgFQ0QRCPoT9BVghQ7YkhXBrqCCEi+VEzMDgIHSyXcOebKFITRQOlXyzkWcSmZx6klze4nt9l0NGhSIhE1tSJHO0DfNUvgpsKfAdKXNvr9FCNQmXmtEnAGCKnDl418ywyaknFU0w0tyumxUmRjBg1QAYJoHKJmj3IiTWq+FIRHBgmkilgycs+CFXNsHlCvKIuWxzSZHoeNv2oQVK7YymN2RJIoMAzApCuRSVacwEuf75En61M/ZKOpjMWvAVg9xkChJqdAhK4e48vCDWphSvbg0VhPBLCR4Xhh6JaudEGLZgRSNsF0K8YHY0s7mlUijYRYX/J0Wi5HJS52hyjfwG0qqnDNzPZeW+C2yznjICTyUwe/KwacWf5HIS54PsdfcPl0AvP2t3hUoAk3bOrl7RBLfr7uXatkSAJxydwabXwPJzZqTw8WIsNwicMGR6JLpZSwoNrMdNPHybx2bYmX62xFGNEAB6+KEVvZnp5uS0QoZ4AkbbrgTgTAk+V+r2WSBaJauO9PI3I+QQ3HMcrdXCyWLimn6e7UvX/4atcrqETIpgpiqYc6Wk3YuoWUEIM3esCLjtPN+T2ZmD9UatyxUkT0WeiL/3uw8JQgEecErp4Ne2XolQT6QMmnio6oziGO1CYYMZTxmBpEgkYuDQXeMOtCuC0JA/D2Tmxlh8K0O9EALjibuNXCzDwV6QaOIxYYRCho49wh4qxH+5ZCz2jxSSGVHmb4/3QYm+95TCRg7WpeP4nbq/XWVHHsD/vmHeUatUA//8DRtthbZFIwSA9eNYs7WRQ71AzBi7NKdXk+pmaOTatH3uFmTWmvGUERD8ZQ4U4HApGuHQSHYvnJPH3n1Qc3CpnHw8Eg0MRATgQhmZFGHmV99XgOVSNKJdDeVC4jFnC8IZkUgmhj35eGEkAMD2HJwUiULuJy5hEExTMMeKyGOxdj9Zh6FY3Up+NYEIKWIQFDeSYC+3fKMK1RBtQd6LGVgYx3yXQxbEtTifXE4c8/h9vqe1uzxZ8PNoZ3+ZC+VkTJhN2Y97+aFDSaIph7gyTYuNzMOFeKNlt/ikSLS/gFQ3449v8FIRensI+7i88UyV18pf+UOFeOtEVv8K1Gnhw+v8unSMEGTUkO+nPHhmSSOx185sCwyCcIngL/OgA06XkEFBSCKC00rSvq+8q5FZSyZEmO/VfgHopwJcqCbdwS4KVCO8UEa8WBgShDxZGB9u3jrKYfj9r/hfv7WztlikBg8GLCXTai9EDCztwWzOwgDAYfg+By9OaPGjJ0U66C9TqCY8aT2IEAA8GAjxcuNtwkLLzr0AsDiROVSIDXM3azi4Vu2gRtgq0d7oajt5dRGATVn4q1t4is3JlEeEoJ+SRJ4s1DQ/+Pd0AjM90uJMMl2BfrqLv87Ea4ezWQtFK3ozHgzMjUbXF4i9WHhoL/d9DtZw8OF1nLBTt7+AfDeZTZ0v2l+ADxU++JoOpJWxEbmJv8xpJZkcgSZHoNMlXdw2ahpNr6efP7pWTU4Uk4Xx3UJGdHeN8LQSjw+/F+w1VcHszsP/MrnmSBEu05ATxaRBx3qLTT52lCI1EVQlZ/N8T+bD61xeA9xRoUYOjCxv0yOZ587wZuNqrZOnAl+xmbQ4Zom8l1zGLReXhQ0WNUIAGBOG5FK0Ow8vv59HOK2SsAjakpjRCr/vy7yVxr/Uh5G17d29VUtWnedv1JD/G8Eut8c/eXIEmhxhRzjYzCjmxCNoUoRxSGW4BA4midbfwi+c41/6lQ/wRJ+MZhcn3Msg8b+D2N//yk9cIBLeuNJGu9PK2IhRTD0mcLYUv9hbJBHBv29wWuxIzIZb0MhBodriW98vAOq0EClDTlrPuRpd9Ee2mV9KyCT5/Xz5cpRaQUzLsmzKIs/3ZHw9oC0OlqY421NGTy8/NDoUfZuDduTCo7GMtOUEGi6BgUGOKIX5Kps8ZQTct/YbT0DZaHGPEAAQwFMJLUrfJVeQIcHISRPo8z0ZHzH6NN3xodjEw9/T+ME/cgoZuvW4+MXezl2MiRiYqjCfWAABvNSHufKo6JNRbOZC0ZLEB3mU/jyQ8RbDW2k8AKg5qNc5SyM0iqC4Vk3qdTAuHI0ORTyBS+VuOWhtIbuOIIBEC3W8o7yRjxgWxHULuyh0c0HYoIPUSjL5/qbgwCAU6AmnW3qOlGrgcCFe0ZuZE83ssyHXlO2YFjRwHs/3ZLblMD8VIb2/qCFJkeiYnR6zGg525eJWPSz0uG8ERWkj0WEwTTRqyOJE5kwp0UfWO+wpYwtiBt4Zynx0g7er0pZKB8nl5OtM/IcL/IA93H/vkP3TRN9NZi0lNe1Ievmh53oa547wYOCrceznN3FqJSltJADgJI3QKKb+tJIMDUa+YvBiYUwYOl3SZQVhZi2J9UGWchghgDWD2FVtDmV2F7rL9zTL+TIiEz0wYSGAhxXMqZaVSLfdxn380fAQ9Ggsc+gu1rWfTlhsIb+aM3ginqnVgowlZktrzohkzpQQ0xgAS1Q1w9QjXKEaPh5p6/hx35j6u2rwZFvZyu3rjwYGoh05977gxTInCkIAeDKeiZKhD6/b9IN9k40TdnJ+W3UTD3Jf3sQ1WvhDP+bGAlGSuXACl2JsGFrei1lxji9Ug0QEfuYS37QdI43wdAnWr4wnRzCnHXWodn2sbBAK/HkgY+92ifvSrQXhaSWeEMGwBr/1VDkyrNIneBMINSQfliOeQDuuEDtSI/QRw5IE8kJPYM39wTFhiEFwzrZUWHkqMvYAxyI4P0cUY1VPMkThthphYQNR2LCV+3Qi810OBoBCNVE2OlcQMgj+OZT5fxnYlgTc713D82LQ9QWihufEVx8T/XcSu7qfsXncZVk7nC3TwJpU3uEgwlYx1Ag5DGdLyOT7eyWT5ehiuR0LRDeikYNjRbhPt5FzrdKtBeEvJcbBElMVKLuO3G2492KcLyUFDUQwJ3qxMCOS2ZffbivEIrWZkrzO45Ph+K2B5kWdh82psNIqyZgD3EOB6PgjIhvdZAQiXXKPsEEHha21qlBtJsuoKU/Fo+vVJKOGXCwjChmysqfYLsyNYQYEonevtjJJC2Gjfx3E9g8wnxnHxfHzgM/GMBfKiPMq2CmkUKsFNQcAcKWKNPGgzzYnFGi82BnbhNeqSfQO7uvMNuXEt0SZBiYf4up18Ep/NxwTzqH7dkS9Dq5UPdggFIjxRj380Mn71tFNWfjRWCbo/ow/PxbtL2ifDCkEQNnYcRphqyQp0NGW/jL1OkirJIb/duTgSYe4JxOY76ewlrYWLCFMNw269mxz23krjV9wshVZUmiu7oQpChmaFIG238EO5Np2jHeHsV9n4oIGa+NxRw6epngQNuqOPBbLzIthnLewEBKMCau000oyIhTp3XHFDIwNQ51iHd2Sjb3F8L+X+TE/cVcsl/pygJu1ZNQBztcDzs8ROXu55kZ0X0F4rpT4iuEhk7xQU+X3ko7W62B3Hl5mEOA8K4qpbCLt4khWroFmvuP2CFslKRJl1JCUcrIjB798gR+4lwvcphu2jzP89+wZ/h9D2U9GsQ54GQoi36W2CQnAnnySWkGsl4gqbLCYX82IpxOYHbnkojM9ZQyZIkfjw9E7VyxO05jAzlzypPvHge2YzK4f56z6Pb5i8BGDshGg5QahwBQ587OyowctT2BnDn5rMJO5UNw/AI08wK2+yDucB9GQn5Vk7AFuSgQ6nCQyW2yk2+L2L4nDnFbiiRFmyt5OVaCflZgA7MjBIRJk6F3i5wGT5ehH2wp2W6dYTVgEEU7b+bCXBF/Uww+NOsD95TKu1cLK3sxvj4r4F8Rk+YN/2mXiVx21pXiLwc/DtYoxXSonJY0k1gcdsOoMXKg2U5veLAvimNJGktJRghAA3h3GfnsHZ9aab/8vJaRGSx6Ndft3XCICp87aQmyPDsOvZWRSy0wrkyPQ5Qqibo+SirZzspioOZgbwwR7wcbx7JlZorMlpPcPOitVoG1hSzaeeYx7/SF20wTWHe3kTqX79ofpBqHA5AimsgmuV5NNWfj5nsaScn4Msy+/HVaIRWoSLrWjamsHcHQGW/iUqOBJ0X8nsb/rywwIbOdg/0gXK8+7Ow8/LEdPxqMDJplCDbGSaNQIfw+YFc2IGBjinFB6U0aEoNlRzN/SzLd/Rw6eE834tF8KiK6KXArKRrhcQTgMRmbtIcFIIoLz7VFS0Xa238GG8b5jwlDqfNHECKYtya1OFpNV5/lvJrD/O8iVJh2XoZt2Sq0WrppsEAoEeMLQYPTJDXylkjzf0/iCeTHM7Xpyy8Ia3HY6LJreduJ9kFP3LBVS4+zGncuefLIgjpkbw5xWknoLm5fNPJQ32eQsI7CqN/NkPCPpQJ/M94Yz+wuwqcevFsOefPxkvKuYHFwZIbbndAkZFYqMfjsWwYRwpiNzrTVy8GMBNor3FTHwxkPMwULs2FJSw8FLv/KvP8Q8mdBNJ/xW6ab9crYEB3pCf3OFYwBgqgJtvY2nKcz4/kVIYWQI+rHNSuGtWqJwToCwy6JwJY0wrZIUqsn8GGZECAr0hKOF5me64kaCCdjuUzBVgbZNctZulln6+KOX+jB/TOaN3AuPFGJCYKZJsVyKKXIZKNVwWon1gROGTJaj0x24Tbi/AHuLwDTed0gwGhqMNmQ6IpL/dZUHgDWDOnRkuhfd9D05XUImRli0/E1VMADwQi/znTM/ltnXhm1CDsPrKfyGLLw4sXsJwkgL1cD1FDSQXzoqkcfuPDwxHAV7AYNgTgxzwFxxXQAobACZyNZ8qp3F20PYAhX55naLMbkjhyyIYzzp1GcDCinKVZEL5eZNRJMjUFql4zU77WX7HfxkAmM23ndlb2ZjFrE3p0dGDfnoOv7PWLYjDRVuR3cVhErzG4QCY8PQ34dYLAs3Pwa16mpoiXINTD/CfZ9LzswSPeb+Xgx2YT3d6G9VZNR+bv4JrmNmnD355PH75UbnRjOHC83nDCpUk2ibkwZ0FgGe8M5Qds1lXnXfwNugg5/u4i7gL9oxyKVwpZIgALNFlx4KRP4ecLa0I6yjFU1wvJiYzYMIAE/GMxqe7LdnFY4JrDzPPxHPTFW4+jDuXLrjq5JaSTJqyexoiyPDg4G3h7CWkib39EN9A5ADeUcvVZBh+zgCkDZfNLJ75HQ3JFKGbteTFHPBJz8ryaSD3ONxjFyKvrzl9BnnWjXJrX/gTvmwHGl584l1rNSmdylW9maCvB7E1+8rwIKHc+e2yl1QyBABGBOGzCrQDIJJcqZjrKO7cnG8DzJbQxgAJCJ4rgez3p4XZGMWvlVLPh5JLQOt4JaC8O9p/JJfjDdFbGftVbwonrE9PZgp82PQ3jxrw/F6NXkzlf/gGv4kHX+dibffwR9cwxMPck/EoxOPiEJdINNxxzMlAi1OZMYd5Fac56sMEkbvysUzj3FvDGQ/G8P+eSCzLp3XONlbfU8eHheO9PmmJSKYHsmY9R29U2dr7ETnImLgk1HsunScU08AYEcOXhRv3rxGMUUuBQCYbKFELQBMjuig7Nvb7xi7yRixsg9zuoRk19nUmFIN/OUy/+FItntOOHbhloLw2Z7MyWL88gVHkgDerCX7C/BfBrbpiy9OZFIrybKzvNk8hHvy8JgDXEoFOanE+wvw15n43at4SzbeOpH9aCTrUiETHYlEBF+MYZPniq5Xk167dEL6qM8y8JJf+C/GsGsGMQDwdAIjYdGmbOcqhbvzHthFBeZGm4kmvFFNtudgoytdlmkKNF3BvH4JVzbBieKuEEffYURIkRcL0ywbD6crUEYNeeeKUxKe6cmpJ8nl5OkEa+uXXn5ocgT6yjaXmVeT+QEB6PmedCTYAHENQkNDjxw5YunT2tpaozNXq7D/Vu1bqZy9f2jpL9y843bfZUp6Ne6xSzd8n66wAetPYkLeucJ7bNL+5ybf9j/Rvmg0mqamps5uBSGE8JhsyOSDv9XGf6+TbNEeKGjRV59l8DE7dFqn9V96NWY2aovV2PBkuYawG7XXqh6c1PJk8F7d82eMh4rpUHQdsmuxxybtolNcwk4dbv3yTkOlUnFcO7yD7UhVa2/Gz0oc/l/t1MO6skZnteEfV/jR+3WtXvZDLh+4TdvQzNfX11u57Ggh9tysvVXjygPBhXDXxcLAQHRguujDG/jzm3ZoD/kqsiMH/7Vt6qBAvwB0aZ4o1AuG7uPOlhIAaORg0Sn+/6XzRx8Rrerjrh3bATAIlvdishaKF8ajk4+I5kS36KtlPRkNT4RKDs5gTz4ZHYrkLWNXQrxgTFgLpfC9q7iyCT4Z5U6bKz380B/6MTtz8dMJ3aWeanvRqmPw5Aj022NiHsPgH++97+1Oq3ZRgXkxjCcLu/KstYHD8Goy/9qAblRHqY248Xw9Phx9P5l9LZn/3uZJ88MbeEI4ai9HFX8PODBdtKI3M+0w995VPP4gd7OWpMwTmXXCphgR6AnvD2fHhBn3lVQEf+zPfnDNWWao3XnmrZ1zYxi9P95vVeS9q/zGCayTauA5j78NZkeGoiU2zKcUewmXwImZomW90LTD3PvXcEEDOV9KduTgD6/jVy7y/3uZ59swYlMrSa6KPGGDQVvMwPJezFdZ1v7Yxixc3Uz+MtCdlnGdi3u/MHNjmK/Gsc+d5Y8VtT4GSzWwOQv/tV2jShkE/xzK7nyYff8aL5fChbmiBF8qBdvK7/owykbSlmBNS2TVkfRq8lismd9oXjRKqyTFaqLF8NwZ/rmezHQ39Dj384DkuaIefu7XcreARfDPoeyB6aJ/3+Bjv+emHeHevoKPFOJaLWy9TRzzWgAAHYYPruHpNtcJebE3k1pBrtWYn71VOnj7Cv/2EJZm17Mdt4+xfK4nU9kMC09x6QtE1kO+PrnBDwxCZku0t5H5MczdpxhfMbRvcs5ui58HvNSHef8abvdQyz15ZEQoMjtOevih3v7op7ukSI3rdfAR9TinWCApEt1ZJG7mwVBu3agmEw9xoV7wzlD7Rk5lEyw8xeWq4HCSrTdGydCsKLThDjsu2syn/3edD/REyy3kA6GYpSt01p8GMOPD0csXrCkQNc3wn1vtsztoFn8PKgXbkz/2Z9NryIni9jGPEoD0GvJpOv4q05oX6NwY9GkG/r/reNN4upqmWMNXDEba24BAdGCa6MMb+At7vBauV5MR+zmewOV5on4BdswgfxqAdhaw35j4Vxeryb9v4A9GMN3WO90xukhvfTGGPaXEeyzH9n1+E8d4I0vJYiiuRpgElvVk1rZWgd06TTxszMJPneYjtusG7uW+vYMXxaNllr3J58UwmbVkRW9mCg1Fp9jPuHC0cwr7P8n8zlybZOHefDz2J26aAp2caXds8dgw9NUI7crz/A8tJ72/peERIcjIAY3SKm5vGhWI9UF/H8K+koynRTK+Jmt5NQefpvOfjqYRxu7E6w8xPXZx/72Dn3HU9ePlC/zhQvxYLPPlWHZSBNOqZ+DIEPT+cPblfnQSoTjInGjmq3Hw7Bk+yBMZZTXTYahuhppmUqOFmmY4U4LXpeNPRrG/6+vgeHssGmMxu+QXXiZCM6MQAFyvJt/ewclzu8is3pF0nS77n/7M9jt4zWX+szEtTO0aDpb+wgd5oUU0xNitiPFGmyawL5zlpSJwYLNwbz7efgenzBM9ZKHGiCkMgj87zXhO6SY815Mpb4JHT3LDgpFKBzXN0MCRBh003s+X5MFAgCeESdCxR0RWMh7bwvM9GZUOHj/FHU4STYpAr6fwi+KZoRYytFGs0HUEoYiBr8axEw5yS3ow+uS5lU0w9zhXq4VjM7pvShf3ZUkio+Hg6dP8j1PRI1F2vN7FarLiHL92OGu7FKRQ2os3HmIUUijTgLcYAjzBW4S8xeDnAQGeEOiJZO066a7ux6h0MPc495eB7NlSkrmQOnk5QtcRhAAwKhS92JtZeZ6/PE8kYuBOPXnkKK+Qwa9zRAGuXUmHYokVvZlGDhac4g4l2RqgiQk8e4YfFoJe6U/XPpTOwZbQ+PZizSBGpSNrUvk/D2xTCuXuTJcShADw3jC2z27dugw8NgzNPc5NVzCbJ7C0Kptb88f+jJqDuce5YzNEpgH4pvw7HV+vJtceE9MpgdJNeH842z8AzaPOgI7S1QShnwd8Opp97gxPAF7tz/xrGHWQ6QqsGcQ0cmTmMW7ftFa2VX6rIm+m8rumsBHSDmsdhdL5OOxTRoGuJwgBYGEcc1pJhgTTkNIuxbvDWExg+hGuXwBa3otZnMj4m+Q/a+Rg8Wn++Z4WiypTKBSKKY4LwtraWn9//1Yva25u5nleKu3Q9fmXY6kxtAuydjj7Sn/2m2y8Lh2/cYlfGMc8Ec9wmJRqoEwD5RqSVkkIAC1DSqFQ7MKRhfO2bdvCw8MDAgJCQkLWr19v6bK6urpFixbJZDKZTDZhwoScnJw2tJNCAQAIl8BfBjLZT4h+mi5qxvDUz9xLv+L1t3ByOVbpYEIE2jeNlXZBMweFQnEids8Z586de/7559euXbtkyZIff/zx97//fWxs7IwZM0yvXLFiRUpKSkpKip+f34svvjh37txr166JRHSWorQVBDBFjqbIWQCq/FEolLZit0b4ySefjBw58o033oiIiPjd7343ffr0Tz75xPSywsLCH3744f333x86dGhiYuLXX3998+bNo0ePOtbKrVu36nQ6x+6lCKSkpPz222+d3Qr3prGx8bvvvuvsVrg9R44cuXv3bme3wr1RKpUHD9B851cAAA/pSURBVB7s7FZ0HewWhFeuXJk+fbr+cPr06ZcvXzZ7GSFk2rRpwmGPHj1iY2NTU1MdaKJKpXrllVfy8/MduJeiZ+PGjdu3b+/sVrg3GRkZq1ev7uxWuD0ffPDBsWPHOrsV7s2pU6fefffdzm5F18E+QyUhpKSkJDw8XH8mPDy8pqZGo9FIJC2yxiqVSrFYHBQUpD8TERGhVCotPVmn0507d06lUunPyOXysWPH2tU8CsWpEOKcYsHdD9qTbYR2YPtinyDUarVardbL60EBEsEdtKGhwUgQqtVqozMSicRQzhnR2Ni4adMmw1vi4uJ+/PFH4eEAoFKp6urq7GotxRCdTqfVamkftgVhKNI+bCM8z2s0GtqNbUGj0fA8T/vQCizLent723ixfYLQ09PT39+/pqZGf6aqqspI8xMICwtTqVQcx+m9Y6qqqgYNGmTpyX5+ft98841ZpxuGYQDAx8fHz8/PrtZSDBGLxR4eHrQP24LwXtE+bCMsy0okEtqNbUEikbAsS/uwvbB7jzA6OjozM1N/mJmZGRkZKcgqo8sIIVlZWcKhVqvNy8uLiopqS1spFAqFQml3kL225jVr1mzatOnmzZuBgYENDQ0DBgyYN2/eunXrACAvL+/atWtz5sxhWba5uTkyMvLZZ5/96KOPAGDHjh3PPPNMZmZmjx49zD5WIpEEBAQYWVMFCCGCEBWLadVwx6moqGAYxlR3p9hOc3OzUqmMi4vr7Ia4N8XFxb6+vj4+Pp3dEDemoaGhtrY2MjKysxviujAM8+WXX+odNq1jtyCsrq4eOXKkp6fn7Nmzjx8/XllZeenSJcF95vPPP//DH/7Q0NAgk8kA4Ntvv33uueeefvppf3//LVu2rFq1ShCKZlm/fr2vr68lUZeRkdG3b1+EaN5QxyktLRWJRMHBwZ3dEDeG5/ns7Ow+ffp0dkPcm7y8vNDQUGGWoDiGRqNRKpUJCQmd3RCX5uGHHw4MDLTlSrsFIQDU1NSsX7/+9u3bcXFxK1euDA0NFc5fvXr1559/Xr16tX5f8Pz587t27WpqakpKSlqwYIG9f4hCoVAoFGfjiCCkUCgUCqXLQJP0UygUCqVbQwUhhUKhULo1VBBSKBQKpVvjHoKwsbGxs5vgfuh0OoyxpU9pl7YdjuNoLngb0el0lvqKDkUbaWpqsvSRRqPpyJZ0PVxdEO7cuTMqKkomk4WFhX311Ved3Rw3AGP8+uuv9+rVSyKRSKXSCRMmXLp0yfCCL774QnBej46O3rNnT2e1013AGM+ZMychIcEwZXxVVdVjjz3m5eXl5eU1a9askpKSTmyhi5OSkjJ27FhPT08PD4++ffveuXNHOE8IWbNmja+vr0wm69ev3/nz5zu3na7MunXroqOjJRKJt7f3k08+WVZWpv8oOTn5oYcekkqlPj4+b7zxhpW1L8UaxIVJTk5mWfbtt98uKCj47LPPEEKHDh3q7Ea5OlqtdsiQIRs2bLhy5UpKSsq0adMCAgKKi4uFT/ft28cwzBdffFFQUPDWW2+JRKK0tLTObbCLs27dOiFa69y5c/qTM2bM6NmzZ1pa2vXr1wcPHjx27FiMcSc20mX57bffpFLp0qVLf/311/T09C1btuTl5Qkfffzxx15eXnv27MnLy1u2bJmvr69SqezUxroou3btQgh99dVXZWVlKSkpiYmJs2fPFj4qLy8PDAxcvHhxbm7ugQMHZDLZe++917mtdVNcWhA++eSTQ4cO1R/Onj17ypQpndged6SiogIh9O233wqH48aNmzdvnv7TQYMGLV26tJOa5gbk5uaGhIT89NNPhoLwxo0bAHD48GHh8OLFiwBw4cKFzmum6zJlypSHH37Y9DzGWC6Xv/rqq8KhVqsNDAx85513OrZ17sHLL788YMAA/eHHH3/s4+Mj/H/t2rXe3t6NjY3C4Zo1a0JDQzmO64RWujkubRpNTU21pfYhxQrNzc2EEH0W9rS0NNqlNkIIWbFixRtvvGGUvyMtLU0kEk2ZMkU4HDFihL+/v5H9mQIA1dXVp0+fXr58eXp6+g8//CDYHoSPlEqlUqlMSkoSDsVi8eTJk+lQNEuPHj1KSkr0pXsyMzN79eol/D8tLW38+PH6zJRJSUnl5eW0dKsD2Fd9ooMxqn0YERGhUqlUKhXNUmg7//jHP6Kioh5++GEAECpHGnWplSKR3Zz//Oc/FRUVr7zyin5bS0CpVAYGBnp6egqHDMOEhYXRbUJTsrKyCCHffffdr7/+2qNHj/T09FGjRu3fv18mkwndZTQUL1y40HmNdV1WrVp18+bNMWPGTJgwITc3t6qq6ptvvhE+UiqVvXv31l8ZEREhnKSp1+zFdTVCnucbGxsN03ALtQ+tFDWkGLFhw4YtW7Zs3rxZWDoIXWfUpQ0NDYRmFzKhoKDgzTff3Lx5s2n+W9Pqm1KptL6+vgNb5x5otVoAyM7Ovn37dnJy8vXr19PS0tauXQv3KzsaDUXah2apr68vLCzkeZ7jOIZhKioqioqKhI8aGhpMq8PSGdIBXFcQsiwbHBxsVPuQYRh9alOKdb799tuXX355+/btU6dOFc6EhYUhhIy6VDjZSW10XVavXj1nzhx/f//c3Fxh3lEqlaWlpQAQFhZm2IcAUF1dbajcUASEPnn++eeFxMfx8fGPPvroyZMnASAsLAwADLuxurpaUGgoRrz++usFBQVXr1796quvDh06tHz58kWLFgmLhrCwsNraWv2VVVVV0FLPptiI6wpCAIiKitJXNASArKwsuVyuz+hNscLOnTuXL1++efPmhQsX6k96enqGhIQYdSktEmmW7Ozsbdu2JSQkJCQkCLuqixYtWrZsGQBERUWpVCq9Sbm+vr6kpCQ6Orozm+uSREZGsiwrqCkCMplMiBpUKBQMw9ChaAupqakTJ0708PAQDqdPn15XV3f79m0wN0MihGg3OoBLC8JZs2b99NNP1dXVAKDRaHbt2jV79uzObpQbsGfPnqVLl3722WeLFy82+mjWrFk7d+4Uwm+rqqoOHjw4Z86czmijq3Pr1i29R9nNmzcB4Ny5c4cPHwaASZMmSaXSrVu3Cld+9913AKD3+6DokclkU6ZMOXr0qHDIcdyJEyeGDx8OAL6+vuPGjdu2bZsQ95adnX3hwgU6FM0SGxubmpqqDxBMSUlBCMXGxgLArFmzrly5cv36dQAghGzdunXUqFEhISGd2Fo3xaWrT9TW1g4fPlwikcybN+/EiRN37969fPmyQqHo7Ha5NDU1NWFhYd7e3kOHDtWfXLp06ZIlSwDg7t27I0aMiIuLmzp16r59+ziOS0lJ8fX17bz2ugG3bt3q27fvuXPnxo0bJ5xZt27d66+//sILL4jF4o0bN/71r3996623OreRrsmNGzfGjRs3bty4kSNHHjlyJDc39/Lly4L2fPny5UmTJk2YMGHw4MHbt2+Pi4s7deoUy7Kd3WSXIzk5edKkSSNHjpw2bdrdu3e3bdu2atUqoRY6xnjGjBk3b95csmRJRkbGiRMnTp06NWbMmM5usvvh0oIQAKqrq7/88svs7OzY2NiXXnqJ7iK0ilqt/vzzz41Ojhs3buzYscL/i4uL169fX1BQ0KtXr9///vf+/v4d3kY3o6qqauPGjYsXLzYsCH7s2LE9e/YIeWfmzZvXic1zcfLy8jZs2FBcXNynT58XX3wxKChI/1FmZuamTZvKysqGDRu2cuVKvSMuxYi8vLxt27bl5uYGBQVNnTp15syZ+o+0Wu2GDRtSUlJCQkKWLVvWr1+/Tmyn++LqgpBCoVAoFKfi0nuEFAqFQqE4GyoIKRQKhdKtoYKQQqFQKN0aKggpFAqF0q2hgpBCoVAo3RoqCCkUCoXSraGCkEKhUCjdGioIKRQKhdKtoYKQQnE5srKyvv76a8N8yhQKxXlQQUihuBznz59fuXIlLVRLoXQMVBBSKBQKpVtDa/tRKJ3D7du39+7dW1RUhBAKDQ0dPXr0+PHjPTw8Tpw4cfbsWQA4c+aMTqcTLl6xYoX+xoyMjAMHDhQUFHh5eY0dO/bRRx81LNJ5+PDhoqKiZcuWZWdn79y5s7S0ND4+/plnnqFlWygUixAKhdLhrF27lmVZlmUjIyMVCoVQfuj48eOEkAULFhi9pAgh4S6e51977TWGYQAgLCxMKNcwbNiw8vJy/ZOFMsLr168Xi8Xh4eFyuRwAfH19T58+3SnflEJxfaggpFA6mtraWpZlBw8eXFRUJJxpbm7eu3dvVlaWcLhx40YA2Lx5s9GNa9euBYA5c+YUFhYSQnQ63UcffYQQmjNnjv4aQRD6+Pjs3r1bOHPw4EGpVBoaGlpdXe3070ahuCF0j5BC6Wiys7N5np87d67eXOnh4fHoo4/27NnTyl0qlWrt2rUJCQk7d+4UKiOKRKLXXntt4cKFP/30U3Z2tuHFzz77rF6znDVr1urVq8vLy7/55hunfB8Kxc2hgpBC6WhiY2M9PDw2bNjwww8/qNVqG+86d+5cfX393LlzJRKJ4fmkpCQASE5ONjz5zDPPmB6ePn26Te2mULooVBBSKB1NSEjIp59+WlVV9cQTTwQGBo4fP/7999+vqKiwfldeXh4AfPLJJ6glL7zwAgBUVlYaXhwXF2d6WFRU1M7fhELpElCvUQqlE1i1atWcOXMOHDhw8uTJX3755fz58x9++OGpU6cGDRpk6RaMMQAsXLhw6tSppp+OHDnS8JDnedN7EULt03oKpWtBBSGF0jkoFIqXXnrppZde4jju008//dOf/vTOO+/8+OOPYEFixcbGAoCfn59hKIUl8vLyIiIi9Ie5ubkAEB0d3V6Np1C6EtQ0SqF0MiKR6A9/+APDMPn5+cKZ4OBgAKirqzO8bNKkSX5+fj/88ENxcXGrz9y6davpoVlVkkKhUEFIoXQ0x44dW716dVpaWnNzMwBoNJr33nsPYzx69Gjhgl69egHA1q1bT58+nZaWlpaWBgA+Pj7//Oc/6+rqkpKSTp48KdxbWVl58ODB+fPnNzY2Gv6JHTt2bNmyhed5jPGOHTu++OILhUKxdOnSjv6qFIpb0NnxGxRKt2Pv3r3C24cQCgoKEvLCTJw4saqqSn+NoCPqL9Of/+ijjwSvUZZlpVKpcEFoaKhGoxEuEOIIt23b5uXlJZPJfHx8ACAkJCQlJaWjvyeF4iYgQkjHS18KpZtz9+7dc+fO5ebmqlSqiIiI4cOHjxs3zuia8vLynJwcIb7C0KpZXl5+6NCh27dvE0LkcvmgQYPGjBkj5KYBgKSkpOPHj6vV6tLS0r1795aXl8fGxi5atCgoKKjDvh2F4l5QQUihdCn0glCvL1IoFOvQPUIKhUKhdGuoIKRQKBRKt4aaRimULsXZs2fLysoee+wx/a4hhUKxDhWEFAqFQunWUNMohUKhULo1VBBSKBQKpVvz/wEKGQoETZtv2QAAAABJRU5ErkJggg==\" />"
      ]
     },
     "execution_count": 43,
     "metadata": {},
     "output_type": "execute_result"
    }
   ],
   "source": [
    "plot(chain_hmc[:r], label=L\"r\", xlabel=\"step\")\n",
    "plot!(chain_hmc[:Aϕ], label=L\"A_\\phi\")"
   ]
  },
  {
   "cell_type": "code",
   "execution_count": 44,
   "id": "124fd2aa-79ad-47d4-affc-328ffb13758d",
   "metadata": {
    "hidden": true
   },
   "outputs": [
    {
     "data": {
      "text/plain": [
       "2-element Vector{Float64}:\n",
       " 18.03428417982361\n",
       "  9.766194958409525"
      ]
     },
     "execution_count": 44,
     "metadata": {},
     "output_type": "execute_result"
    }
   ],
   "source": [
    "ess_hmc = MCMCDiagnosticTools.ess(chain_hmc)[[:r,:Aϕ],:ess]"
   ]
  },
  {
   "cell_type": "code",
   "execution_count": 45,
   "id": "2e42557d-3523-4643-b1e1-a56252f3ae95",
   "metadata": {
    "hidden": true
   },
   "outputs": [
    {
     "ename": "LoadError",
     "evalue": "UndefVarError: `ncalls_hmc` not defined",
     "output_type": "error",
     "traceback": [
      "UndefVarError: `ncalls_hmc` not defined",
      "",
      "Stacktrace:",
      " [1] top-level scope",
      "   @ In[45]:1"
     ]
    }
   ],
   "source": [
    "ess_per_call_hmc = ess_hmc ./ ncalls_hmc"
   ]
  },
  {
   "cell_type": "markdown",
   "id": "6e23fba8-6f15-433e-a13e-38ef4599bb54",
   "metadata": {},
   "source": [
    "# MUSE"
   ]
  },
  {
   "cell_type": "code",
   "execution_count": 7,
   "id": "c45bcb53-4095-4c8e-a272-2ae4c184d1e0",
   "metadata": {},
   "outputs": [],
   "source": [
    "using CMBLensing.ComponentArrays, MuseInference.FiniteDifferences"
   ]
  },
  {
   "cell_type": "code",
   "execution_count": 8,
   "id": "9533da2a-058e-4e3e-a692-cc8b86651680",
   "metadata": {},
   "outputs": [],
   "source": [
    "muse_prob = CMBLensingMuseProblem(\n",
    "    prob.ds, \n",
    "    MAP_joint_kwargs = (minsteps=3, nsteps=15, αtol=1e-2, gradtol=3e-5, progress=false, history_keys=(:logpdf, :ΔΩ°_norm)),\n",
    ");"
   ]
  },
  {
   "cell_type": "code",
   "execution_count": 9,
   "id": "72a84875-7cf8-4840-8ee6-ec8e99113e5f",
   "metadata": {},
   "outputs": [
    {
     "ename": "LoadError",
     "evalue": "ArgumentError: invalid type for argument prob in method definition for mergeθ at In[9]:3",
     "output_type": "error",
     "traceback": [
      "ArgumentError: invalid type for argument prob in method definition for mergeθ at In[9]:3",
      "",
      "Stacktrace:",
      " [1] top-level scope",
      "   @ In[9]:3"
     ]
    }
   ],
   "source": [
    "# small hack to allow getting MUSE covariance in terms of transformed θ\n",
    "CMBLensingMuseInferenceExt = Base.get_extension(CMBLensing,:CMBLensingMuseInferenceExt)\n",
    "CMBLensingMuseInferenceExt.mergeθ(prob::CMBLensingMuseProblem, θ) = exp.(θ)"
   ]
  },
  {
   "cell_type": "code",
   "execution_count": 10,
   "id": "a6742160-dbb8-43db-8da4-f61b0dc3f89f",
   "metadata": {
    "jupyter": {
     "source_hidden": true
    },
    "tags": []
   },
   "outputs": [],
   "source": [
    "# z₀ = zero(FieldTuple(MuseInference.select(NamedTuple(prob.Ωstart), (:f°, :ϕ°))))\n",
    "# H_pre = Diagonal(FieldTuple(MuseInference.select(NamedTuple(prob.Λmass.diag), (:f°, :ϕ°))))\n",
    "# H_pre_map = let H_pre=H_pre, z₀=z₀\n",
    "#     MuseInference.LinearMap{eltype(z₀)}(length(z₀), issymmetric=true) do z\n",
    "#         f, = promote(z, z₀)\n",
    "#         LenseBasis(H_pre \\ f)[:]\n",
    "#     end\n",
    "# end\n",
    "# implicit_diff_cg_kwargs = (maxiter=1500,Pl=MuseInference.InverseMap(H_pre_map));"
   ]
  },
  {
   "cell_type": "code",
   "execution_count": 11,
   "id": "52c93e18-4d3c-41d9-bc73-95772851c28e",
   "metadata": {},
   "outputs": [
    {
     "ename": "LoadError",
     "evalue": "AssertionError: !(isnan(res))",
     "output_type": "error",
     "traceback": [
      "AssertionError: !(isnan(res))",
      "",
      "Stacktrace:",
      "  [1] macro expansion",
      "    @ ~/.julia/packages/CMBLensing/aN0Zc/src/numerical_algorithms.jl:93 [inlined]",
      "  [2] macro expansion",
      "    @ ~/.julia/packages/TimerOutputs/LHjFw/src/TimerOutput.jl:237 [inlined]",
      "  [3] conjugate_gradient(M::Diagonal{Float64, BaseField{EBFourier, ProjLambert{Float64, CuArray{Float64, 1, CUDA.Mem.DeviceBuffer}, CuArray{Float64, 2, CUDA.Mem.DeviceBuffer}}, Float64, CuArray{Float64, 3, CUDA.Mem.DeviceBuffer}}}, A::FuncOp, b::BaseField{QUFourier, ProjLambert{Float64, CuArray{Float64, 1, CUDA.Mem.DeviceBuffer}, CuArray{Float64, 2, CUDA.Mem.DeviceBuffer}}, ComplexF64, CuArray{ComplexF64, 3, CUDA.Mem.DeviceBuffer}}, x::BaseField{QUMap, ProjLambert{Float64, CuArray{Float64, 1, CUDA.Mem.DeviceBuffer}, CuArray{Float64, 2, CUDA.Mem.DeviceBuffer}}, Float64, CuArray{Float64, 3, CUDA.Mem.DeviceBuffer}}; nsteps::Int64, tol::Float64, progress::Bool, callback::Nothing, history_keys::Tuple{Symbol, Symbol}, history_mod::Int64)",
      "    @ CMBLensing ~/.julia/packages/CMBLensing/aN0Zc/src/util.jl:364",
      "  [4] (::CMBLensing.var\"#875#877\"{BaseField{QUMap, ProjLambert{Float64, CuArray{Float64, 1, CUDA.Mem.DeviceBuffer}, CuArray{Float64, 2, CUDA.Mem.DeviceBuffer}}, Float64, CuArray{Float64, 3, CUDA.Mem.DeviceBuffer}}, NamedTuple{(:history_keys, :progress, :tol, :nsteps), Tuple{Tuple{Symbol, Symbol}, Bool, Float64, Int64}}, Bool, BaseDataSet, NamedTuple{(:ϕ, :θ), Tuple{BaseField{Map, ProjLambert{Float64, CuArray{Float64, 1, CUDA.Mem.DeviceBuffer}, CuArray{Float64, 2, CUDA.Mem.DeviceBuffer}}, Float64, CuArray{Float64, 2, CUDA.Mem.DeviceBuffer}}, ComponentVector{Float64, Vector{Float64}, Tuple{Axis{(r = 1, Aϕ = 2)}}}}}, BaseField{EBFourier, ProjLambert{Float64, CuArray{Float64, 1, CUDA.Mem.DeviceBuffer}, CuArray{Float64, 2, CUDA.Mem.DeviceBuffer}}, ComplexF64, CuArray{ComplexF64, 3, CUDA.Mem.DeviceBuffer}}, BaseField{EBFourier, ProjLambert{Float64, CuArray{Float64, 1, CUDA.Mem.DeviceBuffer}, CuArray{Float64, 2, CUDA.Mem.DeviceBuffer}}, Float64, CuArray{Float64, 3, CUDA.Mem.DeviceBuffer}}, Diagonal{Float64, BaseField{EBFourier, ProjLambert{Float64, CuArray{Float64, 1, CUDA.Mem.DeviceBuffer}, CuArray{Float64, 2, CUDA.Mem.DeviceBuffer}}, Float64, CuArray{Float64, 3, CUDA.Mem.DeviceBuffer}}}})()",
      "    @ CMBLensing ~/.julia/packages/CMBLensing/aN0Zc/src/maximization.jl:38",
      "  [5] task_local_storage(body::CMBLensing.var\"#875#877\"{BaseField{QUMap, ProjLambert{Float64, CuArray{Float64, 1, CUDA.Mem.DeviceBuffer}, CuArray{Float64, 2, CUDA.Mem.DeviceBuffer}}, Float64, CuArray{Float64, 3, CUDA.Mem.DeviceBuffer}}, NamedTuple{(:history_keys, :progress, :tol, :nsteps), Tuple{Tuple{Symbol, Symbol}, Bool, Float64, Int64}}, Bool, BaseDataSet, NamedTuple{(:ϕ, :θ), Tuple{BaseField{Map, ProjLambert{Float64, CuArray{Float64, 1, CUDA.Mem.DeviceBuffer}, CuArray{Float64, 2, CUDA.Mem.DeviceBuffer}}, Float64, CuArray{Float64, 2, CUDA.Mem.DeviceBuffer}}, ComponentVector{Float64, Vector{Float64}, Tuple{Axis{(r = 1, Aϕ = 2)}}}}}, BaseField{EBFourier, ProjLambert{Float64, CuArray{Float64, 1, CUDA.Mem.DeviceBuffer}, CuArray{Float64, 2, CUDA.Mem.DeviceBuffer}}, ComplexF64, CuArray{ComplexF64, 3, CUDA.Mem.DeviceBuffer}}, BaseField{EBFourier, ProjLambert{Float64, CuArray{Float64, 1, CUDA.Mem.DeviceBuffer}, CuArray{Float64, 2, CUDA.Mem.DeviceBuffer}}, Float64, CuArray{Float64, 3, CUDA.Mem.DeviceBuffer}}, Diagonal{Float64, BaseField{EBFourier, ProjLambert{Float64, CuArray{Float64, 1, CUDA.Mem.DeviceBuffer}, CuArray{Float64, 2, CUDA.Mem.DeviceBuffer}}, Float64, CuArray{Float64, 3, CUDA.Mem.DeviceBuffer}}}}, key::Symbol, val::Tuple{Symbol, Symbol})",
      "    @ Base ./task.jl:296",
      "  [6] argmaxf_logpdf(ds::BaseDataSet, Ω::NamedTuple{(:ϕ, :θ), Tuple{BaseField{Map, ProjLambert{Float64, CuArray{Float64, 1, CUDA.Mem.DeviceBuffer}, CuArray{Float64, 2, CUDA.Mem.DeviceBuffer}}, Float64, CuArray{Float64, 2, CUDA.Mem.DeviceBuffer}}, ComponentVector{Float64, Vector{Float64}, Tuple{Axis{(r = 1, Aϕ = 2)}}}}}, d::BaseField{EBFourier, ProjLambert{Float64, CuArray{Float64, 1, CUDA.Mem.DeviceBuffer}, CuArray{Float64, 2, CUDA.Mem.DeviceBuffer}}, ComplexF64, CuArray{ComplexF64, 3, CUDA.Mem.DeviceBuffer}}; fstart::BaseField{QUMap, ProjLambert{Float64, CuArray{Float64, 1, CUDA.Mem.DeviceBuffer}, CuArray{Float64, 2, CUDA.Mem.DeviceBuffer}}, Float64, CuArray{Float64, 3, CUDA.Mem.DeviceBuffer}}, preconditioner::Symbol, conjgrad_kwargs::NamedTuple{(:history_keys, :progress, :tol, :nsteps), Tuple{Tuple{Symbol, Symbol}, Bool, Float64, Int64}}, offset::Bool)",
      "    @ CMBLensing ~/.julia/packages/CMBLensing/aN0Zc/src/maximization.jl:31",
      "  [7] macro expansion",
      "    @ ~/.julia/packages/TimerOutputs/LHjFw/src/TimerOutput.jl:237 [inlined]",
      "  [8] macro expansion",
      "    @ ~/.julia/packages/CMBLensing/aN0Zc/src/maximization.jl:163 [inlined]",
      "  [9] macro expansion",
      "    @ ./timing.jl:393 [inlined]",
      " [10] MAP_joint(θ::ComponentVector{Float64, Vector{Float64}, Tuple{Axis{(r = 1, Aϕ = 2)}}}, ds::BaseDataSet, Ωstart::NamedTuple{(:ϕ,), Tuple{BaseField{Map, ProjLambert{Float64, CuArray{Float64, 1, CUDA.Mem.DeviceBuffer}, CuArray{Float64, 2, CUDA.Mem.DeviceBuffer}}, Float64, CuArray{Float64, 2, CUDA.Mem.DeviceBuffer}}}}; nsteps::Int64, minsteps::Int64, fstart::BaseField{QUMap, ProjLambert{Float64, CuArray{Float64, 1, CUDA.Mem.DeviceBuffer}, CuArray{Float64, 2, CUDA.Mem.DeviceBuffer}}, Float64, CuArray{Float64, 3, CUDA.Mem.DeviceBuffer}}, αtol::Float64, gradtol::Float64, αmax::Nothing, prior_deprojection_factor::Int64, nburnin_update_hessian::Float64, progress::Bool, conjgrad_kwargs::NamedTuple{(:tol, :nsteps), Tuple{Float64, Int64}}, quasi_sample::Bool, history_keys::Tuple{Symbol, Symbol}, aggressive_gc::Bool)",
      "    @ CMBLensing ~/.julia/packages/CMBLensing/aN0Zc/src/maximization.jl:162",
      " [11] ẑ_at_θ(prob::CMBLensingMuseInferenceExt.CMBLensingMuseProblem{BaseDataSet, BaseDataSet}, d::BaseField{EBFourier, ProjLambert{Float64, CuArray{Float64, 1, CUDA.Mem.DeviceBuffer}, CuArray{Float64, 2, CUDA.Mem.DeviceBuffer}}, ComplexF64, CuArray{ComplexF64, 3, CUDA.Mem.DeviceBuffer}}, zguess::FieldTuple{NamedTuple{(:f, :ϕ), Tuple{BaseField{QUMap, ProjLambert{Float64, CuArray{Float64, 1, CUDA.Mem.DeviceBuffer}, CuArray{Float64, 2, CUDA.Mem.DeviceBuffer}}, Float64, CuArray{Float64, 3, CUDA.Mem.DeviceBuffer}}, BaseField{Map, ProjLambert{Float64, CuArray{Float64, 1, CUDA.Mem.DeviceBuffer}, CuArray{Float64, 2, CUDA.Mem.DeviceBuffer}}, Float64, CuArray{Float64, 2, CUDA.Mem.DeviceBuffer}}}}, CMBLensing.BasisProd{Tuple{QUMap, Map}}, Float64}, θ::ComponentVector{Float64, Vector{Float64}, Tuple{Axis{(r = 1, Aϕ = 2)}}}; ∇z_logLike_atol::Float64)",
      "    @ CMBLensingMuseInferenceExt ~/.julia/packages/CMBLensing/aN0Zc/ext/CMBLensingMuseInferenceExt.jl:71",
      " [12] ẑ_at_θ",
      "    @ ~/.julia/packages/CMBLensing/aN0Zc/ext/CMBLensingMuseInferenceExt.jl:68 [inlined]",
      " [13] (::MuseInference.var\"#49#55\"{Float64, Bool, CMBLensingMuseInferenceExt.CMBLensingMuseProblem{BaseDataSet, BaseDataSet}, MuseInference.RemoteProgressWrapper})(x::BaseField{EBFourier, ProjLambert{Float64, CuArray{Float64, 1, CUDA.Mem.DeviceBuffer}, CuArray{Float64, 2, CUDA.Mem.DeviceBuffer}}, ComplexF64, CuArray{ComplexF64, 3, CUDA.Mem.DeviceBuffer}}, ẑ_prev::FieldTuple{NamedTuple{(:f, :ϕ), Tuple{BaseField{QUMap, ProjLambert{Float64, CuArray{Float64, 1, CUDA.Mem.DeviceBuffer}, CuArray{Float64, 2, CUDA.Mem.DeviceBuffer}}, Float64, CuArray{Float64, 3, CUDA.Mem.DeviceBuffer}}, BaseField{Map, ProjLambert{Float64, CuArray{Float64, 1, CUDA.Mem.DeviceBuffer}, CuArray{Float64, 2, CUDA.Mem.DeviceBuffer}}, Float64, CuArray{Float64, 2, CUDA.Mem.DeviceBuffer}}}}, CMBLensing.BasisProd{Tuple{QUMap, Map}}, Float64}, θ::ComponentVector{Float64, Vector{Float64}, Tuple{Axis{(r = 1, Aϕ = 2)}}})",
      "    @ MuseInference ~/.julia/packages/MuseInference/jpike/src/muse.jl:175",
      " [14] #4",
      "    @ ./generator.jl:36 [inlined]",
      " [15] iterate",
      "    @ ./generator.jl:47 [inlined]",
      " [16] collect(itr::Base.Generator{Base.Iterators.Zip{Tuple{Vector{BaseField{EBFourier, ProjLambert{Float64, CuArray{Float64, 1, CUDA.Mem.DeviceBuffer}, CuArray{Float64, 2, CUDA.Mem.DeviceBuffer}}, ComplexF64, CuArray{ComplexF64, 3, CUDA.Mem.DeviceBuffer}}}, Vector{FieldTuple{NamedTuple{(:f, :ϕ), Tuple{BaseField{QUMap, ProjLambert{Float64, CuArray{Float64, 1, CUDA.Mem.DeviceBuffer}, CuArray{Float64, 2, CUDA.Mem.DeviceBuffer}}, Float64, CuArray{Float64, 3, CUDA.Mem.DeviceBuffer}}, BaseField{Map, ProjLambert{Float64, CuArray{Float64, 1, CUDA.Mem.DeviceBuffer}, CuArray{Float64, 2, CUDA.Mem.DeviceBuffer}}, Float64, CuArray{Float64, 2, CUDA.Mem.DeviceBuffer}}}}, CMBLensing.BasisProd{Tuple{QUMap, Map}}, Float64}}, Vector{ComponentVector{Float64, Vector{Float64}, Tuple{Axis{(r = 1, Aϕ = 2)}}}}}}, Base.var\"#4#5\"{MuseInference.var\"#49#55\"{Float64, Bool, CMBLensingMuseInferenceExt.CMBLensingMuseProblem{BaseDataSet, BaseDataSet}, MuseInference.RemoteProgressWrapper}}})",
      "    @ Base ./array.jl:782",
      " [17] map(::Function, ::Vector{BaseField{EBFourier, ProjLambert{Float64, CuArray{Float64, 1, CUDA.Mem.DeviceBuffer}, CuArray{Float64, 2, CUDA.Mem.DeviceBuffer}}, ComplexF64, CuArray{ComplexF64, 3, CUDA.Mem.DeviceBuffer}}}, ::Vector{FieldTuple{NamedTuple{(:f, :ϕ), Tuple{BaseField{QUMap, ProjLambert{Float64, CuArray{Float64, 1, CUDA.Mem.DeviceBuffer}, CuArray{Float64, 2, CUDA.Mem.DeviceBuffer}}, Float64, CuArray{Float64, 3, CUDA.Mem.DeviceBuffer}}, BaseField{Map, ProjLambert{Float64, CuArray{Float64, 1, CUDA.Mem.DeviceBuffer}, CuArray{Float64, 2, CUDA.Mem.DeviceBuffer}}, Float64, CuArray{Float64, 2, CUDA.Mem.DeviceBuffer}}}}, CMBLensing.BasisProd{Tuple{QUMap, Map}}, Float64}}, ::Vector{ComponentVector{Float64, Vector{Float64}, Tuple{Axis{(r = 1, Aϕ = 2)}}}})",
      "    @ Base ./abstractarray.jl:3383",
      " [18] pmap(::Function, ::MuseInference.LocalWorkerPool, ::Vector{BaseField{EBFourier, ProjLambert{Float64, CuArray{Float64, 1, CUDA.Mem.DeviceBuffer}, CuArray{Float64, 2, CUDA.Mem.DeviceBuffer}}, ComplexF64, CuArray{ComplexF64, 3, CUDA.Mem.DeviceBuffer}}}, ::Vector{FieldTuple{NamedTuple{(:f, :ϕ), Tuple{BaseField{QUMap, ProjLambert{Float64, CuArray{Float64, 1, CUDA.Mem.DeviceBuffer}, CuArray{Float64, 2, CUDA.Mem.DeviceBuffer}}, Float64, CuArray{Float64, 3, CUDA.Mem.DeviceBuffer}}, BaseField{Map, ProjLambert{Float64, CuArray{Float64, 1, CUDA.Mem.DeviceBuffer}, CuArray{Float64, 2, CUDA.Mem.DeviceBuffer}}, Float64, CuArray{Float64, 2, CUDA.Mem.DeviceBuffer}}}}, CMBLensing.BasisProd{Tuple{QUMap, Map}}, Float64}}, ::Vararg{Any})",
      "    @ MuseInference ~/.julia/packages/MuseInference/jpike/src/util.jl:75",
      " [19] muse!(result::MuseResult, prob::CMBLensingMuseInferenceExt.CMBLensingMuseProblem{BaseDataSet, BaseDataSet}, θ₀::ComponentVector{Float64, Vector{Float64}, Tuple{Axis{(r = 1, Aϕ = 2)}}}; rng::Xoshiro, z₀::FieldTuple{NamedTuple{(:f, :ϕ), Tuple{BaseField{QUMap, ProjLambert{Float64, CuArray{Float64, 1, CUDA.Mem.DeviceBuffer}, CuArray{Float64, 2, CUDA.Mem.DeviceBuffer}}, Float64, CuArray{Float64, 3, CUDA.Mem.DeviceBuffer}}, BaseField{Map, ProjLambert{Float64, CuArray{Float64, 1, CUDA.Mem.DeviceBuffer}, CuArray{Float64, 2, CUDA.Mem.DeviceBuffer}}, Float64, CuArray{Float64, 2, CUDA.Mem.DeviceBuffer}}}}, CMBLensing.BasisProd{Tuple{QUMap, Map}}, Float64}, maxsteps::Int64, θ_rtol::Int64, ∇z_logLike_atol::Float64, nsims::Int64, α::Float64, progress::Bool, pool::MuseInference.LocalWorkerPool, regularize::typeof(identity), H⁻¹_like′::Nothing, H⁻¹_update::Symbol, broyden_memory::Float64, checkpoint_filename::Nothing, get_covariance::Bool, save_MAPs::Bool)",
      "    @ MuseInference ~/.julia/packages/MuseInference/jpike/src/muse.jl:174",
      " [20] top-level scope",
      "    @ In[11]:7"
     ]
    }
   ],
   "source": [
    "z₀ = zero(MuseInference.sample_x_z(muse_prob, Xoshiro(0), prob.Ωstart.θ).z);\n",
    "result = MuseResult()\n",
    "nsims = 200\n",
    "rng = Xoshiro(0)\n",
    "\n",
    "prob.ncalls[] = 0\n",
    "MuseInference.muse!(result,  muse_prob, prob.Ωstart.θ; nsims, rng, z₀, maxsteps=2, θ_rtol=0, progress=true, save_MAPs=false)\n",
    "MuseInference.get_J!(result, muse_prob; nsims,   rng, z₀, progress=true)\n",
    "MuseInference.get_H!(result, muse_prob; nsims=4, rng, z₀, progress=true, step=std(result.gs)/100, fdm=central_fdm(2,1,adapt=0))\n",
    "ncalls_muse = prob.ncalls[];"
   ]
  },
  {
   "cell_type": "code",
   "execution_count": 12,
   "id": "9de40462-fdd7-4b48-b038-d2083a2d3349",
   "metadata": {},
   "outputs": [
    {
     "ename": "LoadError",
     "evalue": "MethodError: no method matching Random.Sampler(::Type{TaskLocalRNG}, ::Random.SamplerTrivial{Nothing, Any}, ::Val{1})\n\n\u001b[0mClosest candidates are:\n\u001b[0m  Random.Sampler(::Type{<:AbstractRNG}, ::Random.Sampler, ::Union{Val{1}, Val{Inf}})\n\u001b[0m\u001b[90m   @\u001b[39m \u001b[33mRandom\u001b[39m \u001b[90m~/.julia/juliaup/julia-1.9.0-rc2+0.x64.linux.gnu/share/julia/stdlib/v1.9/Random/src/\u001b[39m\u001b[90m\u001b[4mRandom.jl:148\u001b[24m\u001b[39m\n\u001b[0m  Random.Sampler(::Type{<:AbstractRNG}, ::Any, ::Union{Val{1}, Val{Inf}})\n\u001b[0m\u001b[90m   @\u001b[39m \u001b[33mRandom\u001b[39m \u001b[90m~/.julia/juliaup/julia-1.9.0-rc2+0.x64.linux.gnu/share/julia/stdlib/v1.9/Random/src/\u001b[39m\u001b[90m\u001b[4mRandom.jl:184\u001b[24m\u001b[39m\n\u001b[0m  Random.Sampler(\u001b[91m::AbstractRNG\u001b[39m, ::Any, ::Union{Val{1}, Val{Inf}})\n\u001b[0m\u001b[90m   @\u001b[39m \u001b[33mRandom\u001b[39m \u001b[90m~/.julia/juliaup/julia-1.9.0-rc2+0.x64.linux.gnu/share/julia/stdlib/v1.9/Random/src/\u001b[39m\u001b[90m\u001b[4mRandom.jl:140\u001b[24m\u001b[39m\n\u001b[0m  ...\n",
     "output_type": "error",
     "traceback": [
      "MethodError: no method matching Random.Sampler(::Type{TaskLocalRNG}, ::Random.SamplerTrivial{Nothing, Any}, ::Val{1})\n\n\u001b[0mClosest candidates are:\n\u001b[0m  Random.Sampler(::Type{<:AbstractRNG}, ::Random.Sampler, ::Union{Val{1}, Val{Inf}})\n\u001b[0m\u001b[90m   @\u001b[39m \u001b[33mRandom\u001b[39m \u001b[90m~/.julia/juliaup/julia-1.9.0-rc2+0.x64.linux.gnu/share/julia/stdlib/v1.9/Random/src/\u001b[39m\u001b[90m\u001b[4mRandom.jl:148\u001b[24m\u001b[39m\n\u001b[0m  Random.Sampler(::Type{<:AbstractRNG}, ::Any, ::Union{Val{1}, Val{Inf}})\n\u001b[0m\u001b[90m   @\u001b[39m \u001b[33mRandom\u001b[39m \u001b[90m~/.julia/juliaup/julia-1.9.0-rc2+0.x64.linux.gnu/share/julia/stdlib/v1.9/Random/src/\u001b[39m\u001b[90m\u001b[4mRandom.jl:184\u001b[24m\u001b[39m\n\u001b[0m  Random.Sampler(\u001b[91m::AbstractRNG\u001b[39m, ::Any, ::Union{Val{1}, Val{Inf}})\n\u001b[0m\u001b[90m   @\u001b[39m \u001b[33mRandom\u001b[39m \u001b[90m~/.julia/juliaup/julia-1.9.0-rc2+0.x64.linux.gnu/share/julia/stdlib/v1.9/Random/src/\u001b[39m\u001b[90m\u001b[4mRandom.jl:140\u001b[24m\u001b[39m\n\u001b[0m  ...\n",
      "",
      "Stacktrace:",
      " [1] Random.Sampler(T::Type{TaskLocalRNG}, sp::Random.SamplerTrivial{Nothing, Any}, r::Val{1})",
      "   @ Random ~/.julia/juliaup/julia-1.9.0-rc2+0.x64.linux.gnu/share/julia/stdlib/v1.9/Random/src/Random.jl:148",
      " [2] Random.Sampler(rng::TaskLocalRNG, x::Random.SamplerTrivial{Nothing, Any}, r::Val{1})",
      "   @ Random ~/.julia/juliaup/julia-1.9.0-rc2+0.x64.linux.gnu/share/julia/stdlib/v1.9/Random/src/Random.jl:140",
      " [3] rand(rng::TaskLocalRNG, X::Random.SamplerTrivial{Nothing, Any})",
      "   @ Random ~/.julia/juliaup/julia-1.9.0-rc2+0.x64.linux.gnu/share/julia/stdlib/v1.9/Random/src/Random.jl:256",
      " [4] rand!",
      "   @ ~/.julia/juliaup/julia-1.9.0-rc2+0.x64.linux.gnu/share/julia/stdlib/v1.9/Random/src/Random.jl:274 [inlined]",
      " [5] rand!",
      "   @ ~/.julia/juliaup/julia-1.9.0-rc2+0.x64.linux.gnu/share/julia/stdlib/v1.9/Random/src/Random.jl:269 [inlined]",
      " [6] rand",
      "   @ ~/.julia/juliaup/julia-1.9.0-rc2+0.x64.linux.gnu/share/julia/stdlib/v1.9/Random/src/Random.jl:282 [inlined]",
      " [7] rand",
      "   @ ~/.julia/juliaup/julia-1.9.0-rc2+0.x64.linux.gnu/share/julia/stdlib/v1.9/Random/src/Random.jl:283 [inlined]",
      " [8] rand(::Nothing, ::Int64)",
      "   @ Random ~/.julia/juliaup/julia-1.9.0-rc2+0.x64.linux.gnu/share/julia/stdlib/v1.9/Random/src/Random.jl:286",
      " [9] top-level scope",
      "   @ In[12]:1"
     ]
    }
   ],
   "source": [
    "chain_muse = Chains(permutedims(rand(result.dist,1000000)), [:logr, :logAϕ]);"
   ]
  },
  {
   "cell_type": "code",
   "execution_count": 13,
   "id": "da7745d5-19ec-4668-90cc-8991f21c62ad",
   "metadata": {},
   "outputs": [
    {
     "ename": "LoadError",
     "evalue": "UndefVarError: `ncalls_muse` not defined",
     "output_type": "error",
     "traceback": [
      "UndefVarError: `ncalls_muse` not defined",
      "",
      "Stacktrace:",
      " [1] top-level scope",
      "   @ In[13]:1"
     ]
    }
   ],
   "source": [
    "ess_per_call_muse = nsims / ncalls_muse"
   ]
  },
  {
   "cell_type": "markdown",
   "id": "01254a7b-ce65-4af3-8d57-cc785f946cd1",
   "metadata": {
    "jp-MarkdownHeadingCollapsed": true,
    "tags": []
   },
   "source": [
    "## Plot"
   ]
  },
  {
   "cell_type": "code",
   "execution_count": 22,
   "id": "26449cac-0b94-4715-9840-810c5fd83965",
   "metadata": {
    "tags": []
   },
   "outputs": [
    {
     "ename": "LoadError",
     "evalue": "UndefVarError: `result` not defined",
     "output_type": "error",
     "traceback": [
      "UndefVarError: `result` not defined",
      "",
      "Stacktrace:",
      " [1] top-level scope",
      "   @ In[22]:1"
     ]
    }
   ],
   "source": [
    "plot(\n",
    "    map(result.history[1:1:end]) do h\n",
    "        p = plot()\n",
    "        for x in h.ẑ_history_sims\n",
    "            plot!(first.(x), yscale=:log10)\n",
    "        end\n",
    "        plot!(first.(h.ẑ_history_dat), yscale=:log10, c=:black)\n",
    "        p\n",
    "    end...,\n",
    "    size = (1000,500),\n",
    "    xticks = 0:2:15,\n",
    "    # ylim = (1e-7, 1e-3)\n",
    ")"
   ]
  },
  {
   "cell_type": "code",
   "execution_count": 23,
   "id": "d6f3899e-0245-418e-bcf8-2493e5780018",
   "metadata": {
    "tags": []
   },
   "outputs": [
    {
     "ename": "LoadError",
     "evalue": "UndefVarError: `result` not defined",
     "output_type": "error",
     "traceback": [
      "UndefVarError: `result` not defined",
      "",
      "Stacktrace:",
      " [1] top-level scope",
      "   @ In[23]:1"
     ]
    }
   ],
   "source": [
    "plot(\n",
    "    map(result.history[1:1:end]) do h\n",
    "        p = plot()\n",
    "        for x in h.ẑ_history_sims\n",
    "            plot!(last.(x), yscale=:log10)\n",
    "        end\n",
    "        plot!(last.(h.ẑ_history_dat), yscale=:log10, c=:black)\n",
    "        p\n",
    "    end...,\n",
    "    size = (1000,500),\n",
    "    xticks = 0:2:15,\n",
    "    ylim = (1e-7, 1e-3)\n",
    ")"
   ]
  },
  {
   "cell_type": "code",
   "execution_count": 24,
   "id": "947435f6-6a79-45e1-9efc-7a5bec0178f7",
   "metadata": {
    "tags": []
   },
   "outputs": [
    {
     "ename": "LoadError",
     "evalue": "UndefVarError: `result` not defined",
     "output_type": "error",
     "traceback": [
      "UndefVarError: `result` not defined",
      "",
      "Stacktrace:",
      " [1] top-level scope",
      "   @ In[24]:1"
     ]
    }
   ],
   "source": [
    "plot(\n",
    "    plot(getindex.([getindex.(result.history, :θ); [result.θ]], :r), m=\".\"),\n",
    "    plot(getindex.([getindex.(result.history, :θ); [result.θ]], :Aϕ), m=\".\")\n",
    ")"
   ]
  },
  {
   "cell_type": "markdown",
   "id": "a50354a8-6824-4449-a6aa-690dc5abdd94",
   "metadata": {},
   "source": [
    "# Compare"
   ]
  },
  {
   "cell_type": "code",
   "execution_count": 56,
   "id": "bbb3104b-3c78-459a-af40-ea35cb7fa0da",
   "metadata": {},
   "outputs": [
    {
     "ename": "LoadError",
     "evalue": "UndefVarError: `ess_per_call_muse` not defined",
     "output_type": "error",
     "traceback": [
      "UndefVarError: `ess_per_call_muse` not defined",
      "",
      "Stacktrace:",
      " [1] top-level scope",
      "   @ In[56]:1"
     ]
    }
   ],
   "source": [
    "ess_per_call_muse ./ minimum(ess_per_call_hmc)"
   ]
  },
  {
   "cell_type": "code",
   "execution_count": 57,
   "id": "02e30126-0721-4617-8aae-c6aaf8f939bd",
   "metadata": {},
   "outputs": [
    {
     "ename": "LoadError",
     "evalue": "UndefVarError: `ess_per_call_muse` not defined",
     "output_type": "error",
     "traceback": [
      "UndefVarError: `ess_per_call_muse` not defined",
      "",
      "Stacktrace:",
      " [1] top-level scope",
      "   @ In[57]:1"
     ]
    }
   ],
   "source": [
    "ess_per_call_muse ./ minimum(ess_per_call_mchmc)"
   ]
  },
  {
   "cell_type": "code",
   "execution_count": 58,
   "id": "9763093f",
   "metadata": {},
   "outputs": [
    {
     "ename": "LoadError",
     "evalue": "UndefVarError: `ess_per_call_mchmc` not defined",
     "output_type": "error",
     "traceback": [
      "UndefVarError: `ess_per_call_mchmc` not defined",
      ""
     ]
    }
   ],
   "source": [
    "ess_per_call_mchmc"
   ]
  },
  {
   "cell_type": "code",
   "execution_count": 59,
   "id": "26444fcc",
   "metadata": {},
   "outputs": [
    {
     "ename": "LoadError",
     "evalue": "UndefVarError: `ess_per_call_hmc` not defined",
     "output_type": "error",
     "traceback": [
      "UndefVarError: `ess_per_call_hmc` not defined",
      ""
     ]
    }
   ],
   "source": [
    "ess_per_call_hmc"
   ]
  },
  {
   "cell_type": "code",
   "execution_count": 60,
   "id": "b2836a7b",
   "metadata": {},
   "outputs": [
    {
     "ename": "LoadError",
     "evalue": "UndefVarError: `ess_per_call_muse` not defined",
     "output_type": "error",
     "traceback": [
      "UndefVarError: `ess_per_call_muse` not defined",
      ""
     ]
    }
   ],
   "source": [
    "ess_per_call_muse"
   ]
  },
  {
   "cell_type": "code",
   "execution_count": 61,
   "id": "1ef21a76-4714-4418-9bb4-7a9d2847c5bd",
   "metadata": {},
   "outputs": [
    {
     "ename": "LoadError",
     "evalue": "UndefVarError: `ess_per_call_hmc` not defined",
     "output_type": "error",
     "traceback": [
      "UndefVarError: `ess_per_call_hmc` not defined",
      "",
      "Stacktrace:",
      " [1] top-level scope",
      "   @ In[61]:2"
     ]
    }
   ],
   "source": [
    "which_ess = minimum # can be: first (r), last (Aphi), or minimum\n",
    "bar(\n",
    "    [\"HMC\" \"MCHMC\" \"MUSE\"],\n",
    "    which_ess.([[ess_per_call_hmc] [ess_per_call_mchmc] [ess_per_call_muse]]),\n",
    "    ylabel = \"eff. samples / ∇logP eval\", legend=false)"
   ]
  },
  {
   "cell_type": "code",
   "execution_count": 62,
   "id": "370cbc31-54d0-4e80-acf6-528870804f11",
   "metadata": {},
   "outputs": [
    {
     "ename": "LoadError",
     "evalue": "UndefVarError: `chain_mchmc` not defined",
     "output_type": "error",
     "traceback": [
      "UndefVarError: `chain_mchmc` not defined",
      "",
      "Stacktrace:",
      " [1] top-level scope",
      "   @ ./In[62]:3"
     ]
    }
   ],
   "source": [
    "p = plot(label=L\"r\", xlabel=\"step (scaled consistently for both)\")\n",
    "for k in [:r, :Aϕ]\n",
    "    plot!(log.(chain_hmc[k][1:length(chain_mchmc)÷25]), c=1, label=(k==:r ? \"HMC\" : nothing))\n",
    "    plot!(log.(chain_mchmc[k][1:25:end]), c=2, label=(k==:r ? \"MCHMC\" : nothing))\n",
    "end\n",
    "p"
   ]
  },
  {
   "cell_type": "code",
   "execution_count": 63,
   "id": "dbb7d62a-87d2-4393-bc43-a5addc698207",
   "metadata": {},
   "outputs": [
    {
     "ename": "LoadError",
     "evalue": "UndefVarError: `chain_mchmc` not defined",
     "output_type": "error",
     "traceback": [
      "UndefVarError: `chain_mchmc` not defined",
      "",
      "Stacktrace:",
      " [1] top-level scope",
      "   @ In[63]:4"
     ]
    }
   ],
   "source": [
    "plot(\n",
    "    begin\n",
    "        histogram(log.(chain_hmc[:r]), normalize=:pdf, alpha=0.5, bins=range(-4,0,length=40), label=\"HMC\")\n",
    "        histogram!(log.(chain_mchmc[:r]), normalize=:pdf, alpha=0.5, bins=range(-4,0,length=40), label=\"MCHMC\")\n",
    "        histogram!(chain_muse[:logr], normalize=:pdf, alpha=0.5, bins=range(-4,0,length=40), label=\"MUSE\")\n",
    "        vline!([prob.Ωtrue.θ.r], c=4, lw=3, label=\"Truth\")\n",
    "    end, \n",
    "    begin\n",
    "        histogram(log.(chain_hmc[:Aϕ]), normalize=:pdf, alpha=0.5, bins=range(-0.6,0.6,length=40), label=\"HMC\")\n",
    "        histogram!(log.(chain_mchmc[:Aϕ]), normalize=:pdf, alpha=0.5, bins=range(-0.6,0.6,length=40), label=\"MCHMC\")\n",
    "        histogram!(chain_muse[:logAϕ], normalize=:pdf, alpha=0.5, bins=range(-0.6,0.6,length=40), label=\"MUSE\")\n",
    "        vline!([prob.Ωtrue.θ.Aϕ], c=4, lw=3, label=\"Truth\")\n",
    "    end, \n",
    "    size = (700, 300)\n",
    ")"
   ]
  },
  {
   "cell_type": "code",
   "execution_count": null,
   "id": "41290466-e88b-436e-8bc1-2ea5297ccfdc",
   "metadata": {},
   "outputs": [],
   "source": []
  }
 ],
 "metadata": {
  "kernelspec": {
   "display_name": "Julia (1 thread) 1.9.0-rc2",
   "language": "julia",
   "name": "julia-_1-thread_-1.9"
  },
  "language_info": {
   "file_extension": ".jl",
   "mimetype": "application/julia",
   "name": "julia",
   "version": "1.9.0"
  },
  "widgets": {
   "application/vnd.jupyter.widget-state+json": {
    "state": {},
    "version_major": 2,
    "version_minor": 0
   }
  }
 },
 "nbformat": 4,
 "nbformat_minor": 5
}
