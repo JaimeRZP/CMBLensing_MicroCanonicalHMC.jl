{
 "cells": [
  {
   "cell_type": "markdown",
   "id": "91129cb1",
   "metadata": {},
   "source": [
    "# Lab CMBLenses"
   ]
  },
  {
   "cell_type": "markdown",
   "id": "97121235",
   "metadata": {},
   "source": [
    "## Model"
   ]
  },
  {
   "cell_type": "code",
   "execution_count": 1,
   "id": "baed58e3",
   "metadata": {},
   "outputs": [
    {
     "ename": "LoadError",
     "evalue": "ArgumentError: Package CMBLensing [b60c06c0-7e54-11e8-3788-4bd722d65317] is required but does not seem to be installed:\n - Run `Pkg.instantiate()` to install all recorded dependencies.\n",
     "output_type": "error",
     "traceback": [
      "ArgumentError: Package CMBLensing [b60c06c0-7e54-11e8-3788-4bd722d65317] is required but does not seem to be installed:\n - Run `Pkg.instantiate()` to install all recorded dependencies.\n",
      "",
      "Stacktrace:",
      " [1] _require(pkg::Base.PkgId, env::String)",
      "   @ Base ./loading.jl:1733",
      " [2] _require_prelocked(uuidkey::Base.PkgId, env::String)",
      "   @ Base ./loading.jl:1619",
      " [3] macro expansion",
      "   @ ./loading.jl:1607 [inlined]",
      " [4] macro expansion",
      "   @ ./lock.jl:267 [inlined]",
      " [5] require(into::Module, mod::Symbol)",
      "   @ Base ./loading.jl:1570"
     ]
    }
   ],
   "source": [
    "using CMBLensing, CMBLensingInferenceTestProblem\n",
    "using CUDA, LaTeXStrings, MCMCDiagnosticTools, Plots, ProgressMeter, Random, Zygote\n",
    "using LinearAlgebra, Statistics\n",
    "ENV[\"LINES\"] = 10;"
   ]
  },
  {
   "cell_type": "code",
   "execution_count": 2,
   "id": "1b324e86",
   "metadata": {},
   "outputs": [
    {
     "name": "stderr",
     "output_type": "stream",
     "text": [
      "\u001b[36m\u001b[1m[ \u001b[22m\u001b[39m\u001b[36m\u001b[1mInfo: \u001b[22m\u001b[39mPrecompiling Revise [295af30f-e4ad-537b-8983-00126c2a3abe]\n",
      "\u001b[36m\u001b[1m[ \u001b[22m\u001b[39m\u001b[36m\u001b[1mInfo: \u001b[22m\u001b[39mPrecompiling MicroCanonicalHMC [234d2aa0-2291-45f7-9047-6fa6f316b0a8]\n",
      "\u001b[91m\u001b[1mERROR: \u001b[22m\u001b[39mLoadError: ArgumentError: Package CMBLensing [b60c06c0-7e54-11e8-3788-4bd722d65317] is required but does not seem to be installed:\n",
      " - Run `Pkg.instantiate()` to install all recorded dependencies.\n",
      "\n",
      "Stacktrace:\n",
      " [1] \u001b[0m\u001b[1m_require\u001b[22m\u001b[0m\u001b[1m(\u001b[22m\u001b[90mpkg\u001b[39m::\u001b[0mBase.PkgId, \u001b[90menv\u001b[39m::\u001b[0mString\u001b[0m\u001b[1m)\u001b[22m\n",
      "\u001b[90m   @\u001b[39m \u001b[90mBase\u001b[39m \u001b[90m./\u001b[39m\u001b[90m\u001b[4mloading.jl:1733\u001b[24m\u001b[39m\n",
      " [2] \u001b[0m\u001b[1m_require_prelocked\u001b[22m\u001b[0m\u001b[1m(\u001b[22m\u001b[90muuidkey\u001b[39m::\u001b[0mBase.PkgId, \u001b[90menv\u001b[39m::\u001b[0mString\u001b[0m\u001b[1m)\u001b[22m\n",
      "\u001b[90m   @\u001b[39m \u001b[90mBase\u001b[39m \u001b[90m./\u001b[39m\u001b[90m\u001b[4mloading.jl:1619\u001b[24m\u001b[39m\n",
      " [3] \u001b[0m\u001b[1mmacro expansion\u001b[22m\n",
      "\u001b[90m   @\u001b[39m \u001b[90m./\u001b[39m\u001b[90m\u001b[4mloading.jl:1607\u001b[24m\u001b[39m\u001b[90m [inlined]\u001b[39m\n",
      " [4] \u001b[0m\u001b[1mmacro expansion\u001b[22m\n",
      "\u001b[90m   @\u001b[39m \u001b[90m./\u001b[39m\u001b[90m\u001b[4mlock.jl:267\u001b[24m\u001b[39m\u001b[90m [inlined]\u001b[39m\n",
      " [5] \u001b[0m\u001b[1mrequire\u001b[22m\u001b[0m\u001b[1m(\u001b[22m\u001b[90minto\u001b[39m::\u001b[0mModule, \u001b[90mmod\u001b[39m::\u001b[0mSymbol\u001b[0m\u001b[1m)\u001b[22m\n",
      "\u001b[90m   @\u001b[39m \u001b[90mBase\u001b[39m \u001b[90m./\u001b[39m\u001b[90m\u001b[4mloading.jl:1570\u001b[24m\u001b[39m\n",
      " [6] \u001b[0m\u001b[1minclude\u001b[22m\n",
      "\u001b[90m   @\u001b[39m \u001b[90m./\u001b[39m\u001b[90m\u001b[4mBase.jl:457\u001b[24m\u001b[39m\u001b[90m [inlined]\u001b[39m\n",
      " [7] \u001b[0m\u001b[1minclude_package_for_output\u001b[22m\u001b[0m\u001b[1m(\u001b[22m\u001b[90mpkg\u001b[39m::\u001b[0mBase.PkgId, \u001b[90minput\u001b[39m::\u001b[0mString, \u001b[90mdepot_path\u001b[39m::\u001b[0mVector\u001b[90m{String}\u001b[39m, \u001b[90mdl_load_path\u001b[39m::\u001b[0mVector\u001b[90m{String}\u001b[39m, \u001b[90mload_path\u001b[39m::\u001b[0mVector\u001b[90m{String}\u001b[39m, \u001b[90mconcrete_deps\u001b[39m::\u001b[0mVector\u001b[90m{Pair{Base.PkgId, UInt128}}\u001b[39m, \u001b[90msource\u001b[39m::\u001b[0mNothing\u001b[0m\u001b[1m)\u001b[22m\n",
      "\u001b[90m   @\u001b[39m \u001b[90mBase\u001b[39m \u001b[90m./\u001b[39m\u001b[90m\u001b[4mloading.jl:2004\u001b[24m\u001b[39m\n",
      " [8] top-level scope\n",
      "\u001b[90m   @\u001b[39m \u001b[90m\u001b[4mstdin:2\u001b[24m\u001b[39m\n",
      "in expression starting at /home/jaimerz/Glamdring/MicroCanonicalHMC.jl/src/MicroCanonicalHMC.jl:1\n",
      "in expression starting at stdin:2\n"
     ]
    },
    {
     "ename": "LoadError",
     "evalue": "Failed to precompile MicroCanonicalHMC [234d2aa0-2291-45f7-9047-6fa6f316b0a8] to \"/home/jaimerz/.julia/compiled/v1.9/MicroCanonicalHMC/jl_Dvnrmk\".",
     "output_type": "error",
     "traceback": [
      "Failed to precompile MicroCanonicalHMC [234d2aa0-2291-45f7-9047-6fa6f316b0a8] to \"/home/jaimerz/.julia/compiled/v1.9/MicroCanonicalHMC/jl_Dvnrmk\".",
      "",
      "Stacktrace:",
      " [1] error(s::String)",
      "   @ Base ./error.jl:35",
      " [2] compilecache(pkg::Base.PkgId, path::String, internal_stderr::IO, internal_stdout::IO, keep_loaded_modules::Bool)",
      "   @ Base ./loading.jl:2254",
      " [3] compilecache",
      "   @ ./loading.jl:2121 [inlined]",
      " [4] _require(pkg::Base.PkgId, env::String)",
      "   @ Base ./loading.jl:1764",
      " [5] _require_prelocked(uuidkey::Base.PkgId, env::String)",
      "   @ Base ./loading.jl:1619",
      " [6] macro expansion",
      "   @ ./loading.jl:1607 [inlined]",
      " [7] macro expansion",
      "   @ ./lock.jl:267 [inlined]",
      " [8] require(into::Module, mod::Symbol)",
      "   @ Base ./loading.jl:1570"
     ]
    }
   ],
   "source": [
    "using Revise\n",
    "using MicroCanonicalHMC"
   ]
  },
  {
   "cell_type": "code",
   "execution_count": 3,
   "id": "a7d6f81c",
   "metadata": {},
   "outputs": [
    {
     "ename": "LoadError",
     "evalue": "UndefVarError: `load_cmb_lensing_problem` not defined",
     "output_type": "error",
     "traceback": [
      "UndefVarError: `load_cmb_lensing_problem` not defined",
      "",
      "Stacktrace:",
      " [1] top-level scope",
      "   @ In[3]:1"
     ]
    }
   ],
   "source": [
    "prob = load_cmb_lensing_problem(storage = Array,\n",
    "                                T = Float32,\n",
    "                                Nside = 64);"
   ]
  },
  {
   "cell_type": "code",
   "execution_count": 4,
   "id": "cf9d88ae",
   "metadata": {},
   "outputs": [
    {
     "ename": "LoadError",
     "evalue": "UndefVarError: `CMBLensingTarget` not defined",
     "output_type": "error",
     "traceback": [
      "UndefVarError: `CMBLensingTarget` not defined",
      "",
      "Stacktrace:",
      " [1] top-level scope",
      "   @ In[4]:1"
     ]
    }
   ],
   "source": [
    "target = CMBLensingTarget(prob);"
   ]
  },
  {
   "cell_type": "code",
   "execution_count": 5,
   "id": "ea5e0b94",
   "metadata": {},
   "outputs": [
    {
     "ename": "LoadError",
     "evalue": "UndefVarError: `prob` not defined",
     "output_type": "error",
     "traceback": [
      "UndefVarError: `prob` not defined",
      "",
      "Stacktrace:",
      " [1] top-level scope",
      "   @ In[5]:1"
     ]
    }
   ],
   "source": [
    "d = length(prob.Ωstart[:])\n",
    "to_vec, from_vec = CMBLensingInferenceTestProblem.to_from_vec(prob.Ωstart);"
   ]
  },
  {
   "cell_type": "markdown",
   "id": "d87fca8f",
   "metadata": {},
   "source": [
    "## Sample"
   ]
  },
  {
   "cell_type": "code",
   "execution_count": 6,
   "id": "1359a630",
   "metadata": {
    "code_folding": []
   },
   "outputs": [
    {
     "ename": "LoadError",
     "evalue": "UndefVarError: `target` not defined",
     "output_type": "error",
     "traceback": [
      "UndefVarError: `target` not defined",
      "",
      "Stacktrace:",
      " [1] top-level scope",
      "   @ In[6]:2"
     ]
    }
   ],
   "source": [
    "#spl=MCHMC(10.0, 10.0*sqrt(50); sigma=one(LenseBasis(diag(target.Λmass))))\n",
    "spl = MCHMC(500, 0.0001;  adaptive=true, init_eps=10.0, init_L=10.0*sqrt(50), sigma=one(LenseBasis(diag(target.Λmass))))"
   ]
  },
  {
   "cell_type": "code",
   "execution_count": 7,
   "id": "95e28701",
   "metadata": {},
   "outputs": [
    {
     "ename": "LoadError",
     "evalue": "UndefVarError: `Sample` not defined",
     "output_type": "error",
     "traceback": [
      "UndefVarError: `Sample` not defined",
      "",
      "Stacktrace:",
      " [1] top-level scope",
      "   @ In[7]:1"
     ]
    }
   ],
   "source": [
    "samples = Sample(spl, target, 1000, dialog=false, progress=true)"
   ]
  },
  {
   "cell_type": "code",
   "execution_count": 8,
   "id": "d15a0612",
   "metadata": {},
   "outputs": [
    {
     "ename": "LoadError",
     "evalue": "UndefVarError: `samples` not defined",
     "output_type": "error",
     "traceback": [
      "UndefVarError: `samples` not defined",
      "",
      "Stacktrace:",
      " [1] top-level scope",
      "   @ ./In[8]:2"
     ]
    }
   ],
   "source": [
    "samples_redux = []\n",
    "for sample in samples\n",
    "    if all(isfinite.(sample))\n",
    "            append!(samples_redux, [sample])\n",
    "    end\n",
    "end"
   ]
  },
  {
   "cell_type": "code",
   "execution_count": 9,
   "id": "d8912d66-653e-4051-9546-e4556aae1ea8",
   "metadata": {},
   "outputs": [
    {
     "ename": "LoadError",
     "evalue": "UndefVarError: `samples` not defined",
     "output_type": "error",
     "traceback": [
      "UndefVarError: `samples` not defined",
      "",
      "Stacktrace:",
      " [1] top-level scope",
      "   @ In[9]:1"
     ]
    }
   ],
   "source": [
    "_samples = zeros(length(samples), length(samples[1]), 1)\n",
    "_samples[:, :, 1] = mapreduce(permutedims, vcat, samples)\n",
    "_samples = permutedims(_samples, (1,3,2));"
   ]
  },
  {
   "cell_type": "code",
   "execution_count": 10,
   "id": "d2eaf8f1-8567-462a-99c0-7fce078db1f0",
   "metadata": {},
   "outputs": [
    {
     "ename": "LoadError",
     "evalue": "UndefVarError: `MCMCDiagnosticTools` not defined",
     "output_type": "error",
     "traceback": [
      "UndefVarError: `MCMCDiagnosticTools` not defined",
      "",
      "Stacktrace:",
      " [1] top-level scope",
      "   @ In[10]:1"
     ]
    }
   ],
   "source": [
    "ess, rhat = MCMCDiagnosticTools.ess_rhat(_samples[:,:,end÷2-1:end÷2])"
   ]
  },
  {
   "cell_type": "code",
   "execution_count": 11,
   "id": "234e5da4",
   "metadata": {},
   "outputs": [
    {
     "ename": "LoadError",
     "evalue": "UndefVarError: `ess` not defined",
     "output_type": "error",
     "traceback": [
      "UndefVarError: `ess` not defined",
      "",
      "Stacktrace:",
      " [1] top-level scope",
      "   @ In[11]:1"
     ]
    }
   ],
   "source": [
    "_ess = minimum(ess)"
   ]
  },
  {
   "cell_type": "code",
   "execution_count": 12,
   "id": "b7e72719",
   "metadata": {},
   "outputs": [
    {
     "ename": "LoadError",
     "evalue": "UndefVarError: `rhat` not defined",
     "output_type": "error",
     "traceback": [
      "UndefVarError: `rhat` not defined",
      "",
      "Stacktrace:",
      " [1] top-level scope",
      "   @ In[12]:1"
     ]
    }
   ],
   "source": [
    "_rhat = maximum(rhat)"
   ]
  },
  {
   "cell_type": "markdown",
   "id": "e1cb8e03",
   "metadata": {},
   "source": [
    "## Plotting"
   ]
  },
  {
   "cell_type": "code",
   "execution_count": 13,
   "id": "6efc8272",
   "metadata": {},
   "outputs": [
    {
     "ename": "LoadError",
     "evalue": "UndefVarError: `Plots` not defined",
     "output_type": "error",
     "traceback": [
      "UndefVarError: `Plots` not defined",
      "",
      "Stacktrace:",
      " [1] top-level scope",
      "   @ In[13]:1"
     ]
    }
   ],
   "source": [
    "Plots.default(fmt=:png, dpi=120, size=(500,300), legendfontsize=10)"
   ]
  },
  {
   "cell_type": "code",
   "execution_count": 14,
   "id": "1eebe796",
   "metadata": {},
   "outputs": [],
   "source": [
    "rs = [sample[1:d][end-1] for sample in samples_redux]\n",
    "Aϕs = [sample[1:d][end] for sample in samples_redux];"
   ]
  },
  {
   "cell_type": "code",
   "execution_count": 15,
   "id": "cf7a48ba",
   "metadata": {},
   "outputs": [],
   "source": [
    "p_rs = [sample[d:2d][end-1] for sample in samples_redux]\n",
    "p_Aϕs = [sample[d:2d][end] for sample in samples_redux];"
   ]
  },
  {
   "cell_type": "code",
   "execution_count": 16,
   "id": "c3967517",
   "metadata": {},
   "outputs": [
    {
     "ename": "LoadError",
     "evalue": "LoadError: UndefVarError: `@L_str` not defined\nin expression starting at In[16]:1",
     "output_type": "error",
     "traceback": [
      "LoadError: UndefVarError: `@L_str` not defined\nin expression starting at In[16]:1",
      ""
     ]
    }
   ],
   "source": [
    "plot(exp.(rs), label=L\"r\", xlabel=\"step\")\n",
    "plot!(exp.(Aϕs), label=L\"A_\\phi\")\n"
   ]
  },
  {
   "cell_type": "code",
   "execution_count": 17,
   "id": "5e12b68a",
   "metadata": {},
   "outputs": [
    {
     "ename": "LoadError",
     "evalue": "LoadError: UndefVarError: `@L_str` not defined\nin expression starting at In[17]:1",
     "output_type": "error",
     "traceback": [
      "LoadError: UndefVarError: `@L_str` not defined\nin expression starting at In[17]:1",
      ""
     ]
    }
   ],
   "source": [
    "plot(exp.(p_rs), label=L\"\\Pi(r)\", xlabel=\"step\")\n",
    "plot!(exp.(p_Aϕs), label=L\"\\Pi(A_\\phi)\")\n"
   ]
  },
  {
   "cell_type": "code",
   "execution_count": 18,
   "id": "3871e61e",
   "metadata": {},
   "outputs": [
    {
     "ename": "LoadError",
     "evalue": "UndefVarError: `std` not defined",
     "output_type": "error",
     "traceback": [
      "UndefVarError: `std` not defined",
      "",
      "Stacktrace:",
      " [1] top-level scope",
      "   @ In[18]:2"
     ]
    }
   ],
   "source": [
    "Energy = [sample[end-1] for sample in samples_redux];\n",
    "std(Energy)^2/d"
   ]
  },
  {
   "cell_type": "code",
   "execution_count": 19,
   "id": "f48c433c",
   "metadata": {},
   "outputs": [
    {
     "ename": "LoadError",
     "evalue": "LoadError: UndefVarError: `@L_str` not defined\nin expression starting at In[19]:1",
     "output_type": "error",
     "traceback": [
      "LoadError: UndefVarError: `@L_str` not defined\nin expression starting at In[19]:1",
      ""
     ]
    }
   ],
   "source": [
    "plot(Energy/d, label=L\"Energy/d\", xlabel=\"step\")"
   ]
  },
  {
   "cell_type": "code",
   "execution_count": 20,
   "id": "01a11feb",
   "metadata": {},
   "outputs": [
    {
     "ename": "LoadError",
     "evalue": "LoadError: UndefVarError: `@L_str` not defined\nin expression starting at In[20]:1",
     "output_type": "error",
     "traceback": [
      "LoadError: UndefVarError: `@L_str` not defined\nin expression starting at In[20]:1",
      ""
     ]
    }
   ],
   "source": [
    "plot(histogram(exp.(rs), xlabel=L\"r\", label=nothing, lw=1),\n",
    "    histogram(exp.(Aϕs), xlabel=L\"A_\\phi\", label=nothing, lw=1))"
   ]
  },
  {
   "cell_type": "code",
   "execution_count": 21,
   "id": "7d3f2c21",
   "metadata": {},
   "outputs": [
    {
     "ename": "LoadError",
     "evalue": "UndefVarError: `CMBLensingInferenceTestProblem` not defined",
     "output_type": "error",
     "traceback": [
      "UndefVarError: `CMBLensingInferenceTestProblem` not defined",
      "",
      "Stacktrace:",
      " [1] top-level scope",
      "   @ In[21]:1"
     ]
    }
   ],
   "source": [
    "to_vec, from_vec = CMBLensingInferenceTestProblem.to_from_vec(prob.Ωstart)\n",
    "last_sample = from_vec(samples[end][1:end-2]);"
   ]
  },
  {
   "cell_type": "code",
   "execution_count": 22,
   "id": "928e1938",
   "metadata": {},
   "outputs": [
    {
     "ename": "LoadError",
     "evalue": "LoadError: UndefVarError: `@L_str` not defined\nin expression starting at In[22]:1",
     "output_type": "error",
     "traceback": [
      "LoadError: UndefVarError: `@L_str` not defined\nin expression starting at In[22]:1",
      ""
     ]
    }
   ],
   "source": [
    "ps = map([(:ϕ°,:I,L\"L\",L\"\\phi^\\circ\"), (:f°,:E,\"L\\ell\",L\"E^\\circ\"), (:f°,:B,L\"\\ell\",L\"B^\\circ\")]) do (k1, k2, xlabel, title)\n",
    "    plot(get_Cℓ(prob.Ωtrue[k1][k2]); label=\"true\", xlabel, title)\n",
    "    plot!(get_Cℓ(prob.Ωstart[k1][k2]); label=\"start\", xlabel, title)\n",
    "    plot!(get_Cℓ(last_sample[k1][k2]); label=\"last sample\", xlabel, title)\n",
    "end\n",
    "plot(ps..., layout=(1,3), xscale=:log10, yscale=:log10, size=(1000,300), legend=:bottomleft)"
   ]
  },
  {
   "cell_type": "code",
   "execution_count": 23,
   "id": "688d60ba",
   "metadata": {},
   "outputs": [
    {
     "ename": "LoadError",
     "evalue": "UndefVarError: `samples` not defined",
     "output_type": "error",
     "traceback": [
      "UndefVarError: `samples` not defined",
      "",
      "Stacktrace:",
      " [1] top-level scope",
      "   @ In[23]:1"
     ]
    }
   ],
   "source": [
    "samps = [∇²*from_vec(sample[1:end-2]).ϕ°/2 for sample in samples[100:end]]\n",
    "anim = @animate for i in 1:length(samps)\n",
    "    motionblur = [0.5, 1, 0.5]\n",
    "    frame = sum(circshift(samps, i)[1:length(motionblur)] .* motionblur) / sum(motionblur)\n",
    "    plot(1 * frame, clims=(-0.5, 0.5), c=:thermal, title=\"κ samples\")\n",
    "end;"
   ]
  },
  {
   "cell_type": "code",
   "execution_count": 24,
   "id": "180f62db",
   "metadata": {},
   "outputs": [
    {
     "ename": "LoadError",
     "evalue": "UndefVarError: `mp4` not defined",
     "output_type": "error",
     "traceback": [
      "UndefVarError: `mp4` not defined",
      "",
      "Stacktrace:",
      " [1] top-level scope",
      "   @ In[24]:1"
     ]
    }
   ],
   "source": [
    "mp4(anim, \"kappa_samples.mp4\", fps = 25)"
   ]
  }
 ],
 "metadata": {
  "kernelspec": {
   "display_name": "Julia 1.9.0-rc1",
   "language": "julia",
   "name": "julia-1.9"
  },
  "language_info": {
   "file_extension": ".jl",
   "mimetype": "application/julia",
   "name": "julia",
   "version": "1.9.0"
  },
  "widgets": {
   "application/vnd.jupyter.widget-state+json": {
    "state": {},
    "version_major": 2,
    "version_minor": 0
   }
  }
 },
 "nbformat": 4,
 "nbformat_minor": 5
}
