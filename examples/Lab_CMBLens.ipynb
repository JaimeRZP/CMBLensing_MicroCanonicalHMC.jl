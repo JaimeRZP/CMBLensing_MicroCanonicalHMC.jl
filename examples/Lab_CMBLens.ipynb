{
 "cells": [
  {
   "cell_type": "markdown",
   "id": "91129cb1",
   "metadata": {},
   "source": [
    "# Lab CMBLenses"
   ]
  },
  {
   "cell_type": "markdown",
   "id": "97121235",
   "metadata": {},
   "source": [
    "## Model"
   ]
  },
  {
   "cell_type": "code",
   "execution_count": 1,
   "id": "baed58e3",
   "metadata": {},
   "outputs": [],
   "source": [
    "using CMBLensing, CMBLensingInferenceTestProblem\n",
    "using CUDA, LaTeXStrings, MCMCDiagnosticTools, Plots, ProgressMeter, Random, Zygote\n",
    "using LinearAlgebra, Statistics\n",
    "ENV[\"LINES\"] = 10;"
   ]
  },
  {
   "cell_type": "code",
   "execution_count": 2,
   "id": "1b324e86",
   "metadata": {},
   "outputs": [],
   "source": [
    "using Revise\n",
    "using MicroCanonicalHMC"
   ]
  },
  {
   "cell_type": "code",
   "execution_count": null,
   "id": "a7d6f81c",
   "metadata": {
    "scrolled": false
   },
   "outputs": [],
   "source": [
    "prob = load_cmb_lensing_problem(storage = Array,\n",
    "                                T = Float32,\n",
    "                                Nside = 64);"
   ]
  },
  {
   "cell_type": "code",
   "execution_count": null,
   "id": "cf9d88ae",
   "metadata": {},
   "outputs": [],
   "source": [
    "target = CMBLensingTarget(prob);"
   ]
  },
  {
   "cell_type": "code",
   "execution_count": null,
   "id": "ea5e0b94",
   "metadata": {},
   "outputs": [],
   "source": [
    "d = length(prob.Ωstart[:])\n",
    "to_vec, from_vec = CMBLensingInferenceTestProblem.to_from_vec(prob.Ωstart)"
   ]
  },
  {
   "cell_type": "markdown",
   "id": "d87fca8f",
   "metadata": {},
   "source": [
    "## Sample"
   ]
  },
  {
   "cell_type": "code",
   "execution_count": null,
   "id": "1359a630",
   "metadata": {
    "code_folding": []
   },
   "outputs": [],
   "source": [
    "#spl=MCHMC(10.0, 10.0*sqrt(50); sigma=one(LenseBasis(diag(target.Λmass))))\n",
    "spl = MCHMC(500, 0.0001;  adaptive=true, init_eps=10.0, init_L=10.0*sqrt(50), sigma=one(LenseBasis(diag(target.Λmass))))"
   ]
  },
  {
   "cell_type": "code",
   "execution_count": null,
   "id": "95e28701",
   "metadata": {
    "scrolled": false
   },
   "outputs": [],
   "source": [
    "samples = Sample(spl, target, 1000; dialog=false)"
   ]
  },
  {
   "cell_type": "code",
   "execution_count": null,
   "id": "d15a0612",
   "metadata": {},
   "outputs": [],
   "source": [
    "samples_redux = []\n",
    "for sample in samples\n",
    "    if all(isfinite.(sample))\n",
    "            append!(samples_redux, [sample])\n",
    "    end\n",
    "end    "
   ]
  },
  {
   "cell_type": "code",
   "execution_count": null,
   "id": "1ba13fe8",
   "metadata": {},
   "outputs": [],
   "source": [
    "_samples = zeros(length(samples), length(samples[1]), 1)\n",
    "_samples[:, :, 1] = mapreduce(permutedims, vcat, samples)\n",
    "_samples = permutedims(_samples, (1,3,2))\n",
    "ess, rhat = MCMCDiagnosticTools.ess_rhat(_samples)"
   ]
  },
  {
   "cell_type": "code",
   "execution_count": null,
   "id": "234e5da4",
   "metadata": {},
   "outputs": [],
   "source": [
    "_ess = median(ess)"
   ]
  },
  {
   "cell_type": "code",
   "execution_count": null,
   "id": "b7e72719",
   "metadata": {},
   "outputs": [],
   "source": [
    "_rhat = median(rhat)"
   ]
  },
  {
   "cell_type": "markdown",
   "id": "e1cb8e03",
   "metadata": {},
   "source": [
    "## Plotting"
   ]
  },
  {
   "cell_type": "code",
   "execution_count": null,
   "id": "6efc8272",
   "metadata": {},
   "outputs": [],
   "source": [
    "Plots.default(fmt=:png, dpi=120, size=(500,300), legendfontsize=10)"
   ]
  },
  {
   "cell_type": "code",
   "execution_count": null,
   "id": "1eebe796",
   "metadata": {},
   "outputs": [],
   "source": [
    "rs = [sample[1:d][end-1] for sample in samples_redux]\n",
    "Aϕs = [sample[1:d][end] for sample in samples_redux];"
   ]
  },
  {
   "cell_type": "code",
   "execution_count": null,
   "id": "cf7a48ba",
   "metadata": {},
   "outputs": [],
   "source": [
    "p_rs = [sample[d:2d][end-1] for sample in samples_redux]\n",
    "p_Aϕs = [sample[d:2d][end] for sample in samples_redux];"
   ]
  },
  {
   "cell_type": "code",
   "execution_count": null,
   "id": "c3967517",
   "metadata": {},
   "outputs": [],
   "source": [
    "plot(exp.(rs), label=L\"r\", xlabel=\"step\")\n",
    "plot!(exp.(Aϕs), label=L\"A_\\phi\")\n"
   ]
  },
  {
   "cell_type": "code",
   "execution_count": null,
   "id": "5e12b68a",
   "metadata": {},
   "outputs": [],
   "source": [
    "plot(exp.(p_rs), label=L\"\\Pi(r)\", xlabel=\"step\")\n",
    "plot!(exp.(p_Aϕs), label=L\"\\Pi(A_\\phi)\")\n"
   ]
  },
  {
   "cell_type": "code",
   "execution_count": null,
   "id": "3871e61e",
   "metadata": {},
   "outputs": [],
   "source": [
    "Energy = [sample[end-1] for sample in samples_redux];\n",
    "std(Energy)^2/d"
   ]
  },
  {
   "cell_type": "code",
   "execution_count": null,
   "id": "f48c433c",
   "metadata": {},
   "outputs": [],
   "source": [
    "plot(Energy/d, label=L\"Energy/d\", xlabel=\"step\")"
   ]
  },
  {
   "cell_type": "code",
   "execution_count": null,
   "id": "01a11feb",
   "metadata": {},
   "outputs": [],
   "source": [
    "plot(histogram(exp.(rs), xlabel=L\"r\", label=nothing, lw=1),\n",
    "    histogram(exp.(Aϕs), xlabel=L\"A_\\phi\", label=nothing, lw=1))"
   ]
  },
  {
   "cell_type": "code",
   "execution_count": null,
   "id": "7d3f2c21",
   "metadata": {},
   "outputs": [],
   "source": [
    "to_vec, from_vec = CMBLensingInferenceTestProblem.to_from_vec(prob.Ωstart)\n",
    "last_sample = from_vec(samples[end][1:end-2])"
   ]
  },
  {
   "cell_type": "code",
   "execution_count": null,
   "id": "928e1938",
   "metadata": {},
   "outputs": [],
   "source": [
    "ps = map([(:ϕ°,:I,L\"L\",L\"\\phi^\\circ\"), (:f°,:E,\"L\\ell\",L\"E^\\circ\"), (:f°,:B,L\"\\ell\",L\"B^\\circ\")]) do (k1, k2, xlabel, title)\n",
    "    plot(get_Cℓ(prob.Ωtrue[k1][k2]); label=\"true\", xlabel, title)\n",
    "    plot!(get_Cℓ(prob.Ωstart[k1][k2]); label=\"start\", xlabel, title)\n",
    "    plot!(get_Cℓ(last_sample[k1][k2]); label=\"last sample\", xlabel, title)\n",
    "end\n",
    "plot(ps..., layout=(1,3), xscale=:log10, yscale=:log10, size=(1000,300), legend=:bottomleft)"
   ]
  },
  {
   "cell_type": "code",
   "execution_count": null,
   "id": "688d60ba",
   "metadata": {},
   "outputs": [],
   "source": [
    "samps = [∇²*from_vec(sample[1:end-2]).ϕ°/2 for sample in samples[100:end]]\n",
    "anim = @animate for i in 1:length(samps)\n",
    "    motionblur = [0.5, 1, 0.5]\n",
    "    frame = sum(circshift(samps, i)[1:length(motionblur)] .* motionblur) / sum(motionblur)\n",
    "    plot(1 * frame, clims=(-0.5, 0.5), c=:thermal, title=\"κ samples\")\n",
    "end;"
   ]
  },
  {
   "cell_type": "code",
   "execution_count": null,
   "id": "180f62db",
   "metadata": {},
   "outputs": [],
   "source": [
    "mp4(anim, \"kappa_samples.mp4\", fps = 25)"
   ]
  }
 ],
 "metadata": {
  "kernelspec": {
   "display_name": "Julia 1.9.0-rc1",
   "language": "julia",
   "name": "julia-1.9"
  },
  "language_info": {
   "file_extension": ".jl",
   "mimetype": "application/julia",
   "name": "julia",
   "version": "1.9.0"
  }
 },
 "nbformat": 4,
 "nbformat_minor": 5
}
