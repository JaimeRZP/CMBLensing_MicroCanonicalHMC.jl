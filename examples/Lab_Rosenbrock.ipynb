{
 "cells": [
  {
   "attachments": {},
   "cell_type": "markdown",
   "id": "91129cb1",
   "metadata": {},
   "source": [
    "# Rosembrock Target Practice"
   ]
  },
  {
   "attachments": {},
   "cell_type": "markdown",
   "id": "97121235",
   "metadata": {},
   "source": [
    "## MCHMC"
   ]
  },
  {
   "cell_type": "code",
   "execution_count": 1,
   "id": "86b96c9e",
   "metadata": {},
   "outputs": [
    {
     "name": "stderr",
     "output_type": "stream",
     "text": [
      "\u001b[32m\u001b[1m  Activating\u001b[22m\u001b[39m project at `~/Cambdrige/MicroCanonicalHMC.jl`\n"
     ]
    }
   ],
   "source": [
    "] activate \"../\""
   ]
  },
  {
   "cell_type": "code",
   "execution_count": 2,
   "id": "baed58e3",
   "metadata": {},
   "outputs": [],
   "source": [
    "using Distributions\n",
    "using ForwardDiff\n",
    "using LinearAlgebra\n",
    "using Random\n",
    "#using StatsPlots\n",
    "using PyPlot\n",
    "using Distributed\n",
    "\n",
    "using Revise\n",
    "using MicroCanonicalHMC"
   ]
  },
  {
   "cell_type": "code",
   "execution_count": 3,
   "id": "09dcdce0",
   "metadata": {},
   "outputs": [],
   "source": [
    "target = RosenbrockTarget(1.0, 10.0; d=2);"
   ]
  },
  {
   "cell_type": "code",
   "execution_count": 4,
   "id": "a737261d",
   "metadata": {},
   "outputs": [],
   "source": [
    "X = LinRange(-3, 5, 100)\n",
    "Y = LinRange(-2, 18, 100)\n",
    "Z = zeros(length(X), length(Y))\n",
    "for i in 1:length(X)\n",
    "    for j in 1:length(Y)\n",
    "        x = X[i]\n",
    "        y = Y[j]\n",
    "        Z[i, j] = exp(-target.nlogp([x; y]))\n",
    "    end\n",
    "end"
   ]
  },
  {
   "cell_type": "code",
   "execution_count": 5,
   "id": "6896b4ca",
   "metadata": {},
   "outputs": [
    {
     "data": {
      "text/plain": [
       "100-element Vector{Float64}:\n",
       " 7.162829369412773e-5\n",
       " 9.863809139860455e-5\n",
       " 0.00013494872801976375\n",
       " 0.0001834243594214731\n",
       " 0.0002476904756917828\n",
       " 0.000332296436430068\n",
       " 0.000442900469948504\n",
       " 0.0005864765865858889\n",
       " 0.0007715415106920719\n",
       " 0.0010083980468276281\n",
       " 0.001309389262123287\n",
       " 0.001689155512694095\n",
       " 0.0021648837232836893\n",
       " ⋮\n",
       " 0.0016890587797713194\n",
       " 0.001251217459171278\n",
       " 0.00031134149060358854\n",
       " 2.3604574783005898e-6\n",
       " 1.5088638240128408e-10\n",
       " 4.865587974811031e-17\n",
       " 5.648489440875084e-26\n",
       " 1.7465706115620848e-37\n",
       " 1.0692541153538504e-51\n",
       " 9.6070764266984e-69\n",
       " 9.347706927905418e-89\n",
       " 7.231720986524703e-112"
      ]
     },
     "execution_count": 5,
     "metadata": {},
     "output_type": "execute_result"
    }
   ],
   "source": [
    "d2_truth = vec(normalize(sum(Z, dims=1)))\n",
    "d1_truth = vec(normalize(sum(Z, dims=2)))"
   ]
  },
  {
   "cell_type": "code",
   "execution_count": 6,
   "id": "b5f95935",
   "metadata": {},
   "outputs": [
    {
     "data": {
      "image/png": "[encoded data removed]",
      "text/plain": [
       "Figure(PyObject <Figure size 640x480 with 1 Axes>)"
      ]
     },
     "metadata": {},
     "output_type": "display_data"
    },
    {
     "data": {
      "text/plain": [
       "PyObject <matplotlib.image.AxesImage object at 0x7f8bb566e610>"
      ]
     },
     "execution_count": 6,
     "metadata": {},
     "output_type": "execute_result"
    }
   ],
   "source": [
    "plt.imshow(Z)"
   ]
  },
  {
   "cell_type": "code",
   "execution_count": 55,
   "id": "6aedc238",
   "metadata": {},
   "outputs": [
    {
     "data": {
      "text/plain": [
       "MicroCanonicalHMC.Sampler(Settings{Float64}(10000, 0.005, 1, true, \"LF\", nothing, nothing, nothing), MicroCanonicalHMC.Hyperparameters{Float64}(0.0, 1.4142135623730951, 0.0, 0.1931833275037836, [1.0, 1.0], 0.9607843137254902, 1.5), MicroCanonicalHMC.Leapfrog)"
      ]
     },
     "execution_count": 55,
     "metadata": {},
     "output_type": "execute_result"
    }
   ],
   "source": [
    "d = 2\n",
    "spl = MCHMC(10_000, 0.01; L=sqrt(2), sigma=ones(target.d), adaptive=true)"
   ]
  },
  {
   "cell_type": "code",
   "execution_count": 56,
   "id": "9f047933",
   "metadata": {},
   "outputs": [
    {
     "name": "stdout",
     "output_type": "stream",
     "text": [
      "Burn in step: 2000\n",
      "eps --->0.08967931977514769\n"
     ]
    },
    {
     "name": "stderr",
     "output_type": "stream",
     "text": [
      "\u001b[36m\u001b[1m[ \u001b[22m\u001b[39m\u001b[36m\u001b[1mInfo: \u001b[22m\u001b[39mTuning eps ⏳\n",
      "\u001b[32mMCHMC (tuning):  81%|████████████████████████████▎      |  ETA: 0:00:00\u001b[39m"
     ]
    },
    {
     "name": "stdout",
     "output_type": "stream",
     "text": [
      "Burn in step: 4000\n",
      "eps --->0.10841063300231321\n",
      "Burn in step: 6000\n",
      "eps --->0.08984198026027686\n",
      "Burn in step: 8000\n",
      "eps --->0.07013105371792662\n"
     ]
    },
    {
     "name": "stderr",
     "output_type": "stream",
     "text": [
      "\u001b[A2mMCHMC (tuning): 100%|███████████████████████████████████| Time: 0:00:00\u001b[39m"
     ]
    },
    {
     "name": "stdout",
     "output_type": "stream",
     "text": [
      "Burn in step: 10000\n",
      "eps --->0.05862504616306496\n"
     ]
    },
    {
     "name": "stderr",
     "output_type": "stream",
     "text": [
      "\u001b[36m\u001b[1m[ \u001b[22m\u001b[39m\u001b[36m\u001b[1mInfo: \u001b[22m\u001b[39meps: 0.05862504616306496\n",
      "\u001b[36m\u001b[1m[ \u001b[22m\u001b[39m\u001b[36m\u001b[1mInfo: \u001b[22m\u001b[39mL: 1.4142135623730951\n",
      "\u001b[36m\u001b[1m[ \u001b[22m\u001b[39m\u001b[36m\u001b[1mInfo: \u001b[22m\u001b[39mnu: 0.20789686826563186\n",
      "\u001b[36m\u001b[1m[ \u001b[22m\u001b[39m\u001b[36m\u001b[1mInfo: \u001b[22m\u001b[39msigma: [1.0, 1.0]\n",
      "\u001b[36m\u001b[1m[ \u001b[22m\u001b[39m\u001b[36m\u001b[1mInfo: \u001b[22m\u001b[39madaptive: true\n",
      "\u001b[A2mMCHMC: 100%|████████████████████████████████████████████| Time: 0:00:06\u001b[39m"
     ]
    }
   ],
   "source": [
    "samples_mchmc = Sample(spl, target, 500_000; dialog=true);"
   ]
  },
  {
   "cell_type": "code",
   "execution_count": 57,
   "id": "ad509f8c",
   "metadata": {},
   "outputs": [],
   "source": [
    "d1_mchmc = [sample[1] for sample in samples_mchmc]\n",
    "d2_mchmc = [sample[2] for sample in samples_mchmc];"
   ]
  },
  {
   "attachments": {},
   "cell_type": "markdown",
   "id": "0e05b7ed",
   "metadata": {},
   "source": [
    "## NUTS"
   ]
  },
  {
   "cell_type": "code",
   "execution_count": 10,
   "id": "afc1ddfb",
   "metadata": {},
   "outputs": [],
   "source": [
    "using AdvancedHMC\n",
    "using LogDensityProblems"
   ]
  },
  {
   "cell_type": "code",
   "execution_count": 11,
   "id": "c38610c3",
   "metadata": {},
   "outputs": [],
   "source": [
    "# Define the target distribution using the `LogDensityProblem` interface\n",
    "struct LogTargetDensity\n",
    "    dim::Int\n",
    "end\n",
    "LogDensityProblems.logdensity(p::LogTargetDensity, θ) = -target.nlogp(θ) #-sum(abs2, θ) / 2  # standard multivariate normal\n",
    "LogDensityProblems.dimension(p::LogTargetDensity) = p.dim\n",
    "LogDensityProblems.capabilities(::Type{LogTargetDensity}) = LogDensityProblems.LogDensityOrder{0}()"
   ]
  },
  {
   "cell_type": "code",
   "execution_count": 12,
   "id": "d2091ef2",
   "metadata": {},
   "outputs": [
    {
     "name": "stderr",
     "output_type": "stream",
     "text": [
      "\u001b[33m\u001b[1m┌ \u001b[22m\u001b[39m\u001b[33m\u001b[1mWarning: \u001b[22m\u001b[39mProgressMeter by default refresh meters with additional information in IJulia via `IJulia.clear_output`, which clears all outputs in the cell. \n",
      "\u001b[33m\u001b[1m│ \u001b[22m\u001b[39m - To prevent this behaviour, do `ProgressMeter.ijulia_behavior(:append)`. \n",
      "\u001b[33m\u001b[1m│ \u001b[22m\u001b[39m - To disable this warning message, do `ProgressMeter.ijulia_behavior(:clear)`.\n",
      "\u001b[33m\u001b[1m└ \u001b[22m\u001b[39m\u001b[90m@ ProgressMeter ~/.julia/packages/ProgressMeter/sN2xr/src/ProgressMeter.jl:618\u001b[39m\n",
      "\u001b[32mSampling 100%|███████████████████████████████| Time: 0:00:04\u001b[39m\n",
      "\u001b[34m  iterations:                    100000\u001b[39m\n",
      "\u001b[34m  n_steps:                       21\u001b[39m\n",
      "\u001b[34m  is_accept:                     true\u001b[39m\n",
      "\u001b[34m  acceptance_rate:               0.9744525114043705\u001b[39m\n",
      "\u001b[34m  log_density:                   -0.5135113402248764\u001b[39m\n",
      "\u001b[34m  hamiltonian_energy:            0.7264485786630527\u001b[39m\n",
      "\u001b[34m  hamiltonian_energy_error:      0.0531640081998106\u001b[39m\n",
      "\u001b[34m  max_hamiltonian_energy_error:  0.06768541030987041\u001b[39m\n",
      "\u001b[34m  tree_depth:                    4\u001b[39m\n",
      "\u001b[34m  numerical_error:               false\u001b[39m\n",
      "\u001b[34m  step_size:                     0.09679417029496332\u001b[39m\n",
      "\u001b[34m  nom_step_size:                 0.09679417029496332\u001b[39m\n",
      "\u001b[34m  is_adapt:                      false\u001b[39m\n",
      "\u001b[34m  mass_matrix:                   DiagEuclideanMetric([0.9934506913520429, 6.2164 ...])\u001b[39m\n",
      "\u001b[36m\u001b[1m┌ \u001b[22m\u001b[39m\u001b[36m\u001b[1mInfo: \u001b[22m\u001b[39mFinished 100000 sampling steps for 1 chains in 4.097948325 (s)\n",
      "\u001b[36m\u001b[1m│ \u001b[22m\u001b[39m  h = Hamiltonian(metric=DiagEuclideanMetric([0.9934506913520429, 6.2164 ...]), kinetic=GaussianKinetic())\n",
      "\u001b[36m\u001b[1m│ \u001b[22m\u001b[39m  κ = HMCKernel{AdvancedHMC.FullMomentumRefreshment, Trajectory{MultinomialTS, Leapfrog{Float64}, GeneralisedNoUTurn{Float64}}}(AdvancedHMC.FullMomentumRefreshment(), Trajectory{MultinomialTS}(integrator=Leapfrog(ϵ=0.0968), tc=GeneralisedNoUTurn{Float64}(10, 1000.0)))\n",
      "\u001b[36m\u001b[1m│ \u001b[22m\u001b[39m  EBFMI_est = 0.9709146925632719\n",
      "\u001b[36m\u001b[1m└ \u001b[22m\u001b[39m  average_acceptance_rate = 0.8757939752984026\n"
     ]
    }
   ],
   "source": [
    "# Choose parameter dimensionality and initial parameter value\n",
    "initial_θ = target.prior_draw()\n",
    "ℓπ = LogTargetDensity(target.d)\n",
    "\n",
    "# Set the number of samples to draw and warmup iterations\n",
    "n_samples, n_adapts = 100_000, 10_000\n",
    "\n",
    "# Define a Hamiltonian system\n",
    "metric = DiagEuclideanMetric(target.d)\n",
    "hamiltonian = Hamiltonian(metric, ℓπ, ForwardDiff)\n",
    "\n",
    "# Define a leapfrog solver, with initial step size chosen heuristically\n",
    "initial_ϵ = find_good_stepsize(hamiltonian, initial_θ)\n",
    "integrator = AdvancedHMC.Leapfrog(initial_ϵ)\n",
    "\n",
    "# Define an HMC sampler, with the following components\n",
    "#   - multinomial sampling scheme,\n",
    "#   - generalised No-U-Turn criteria, and\n",
    "#   - windowed adaption for step-size and diagonal mass matrix\n",
    "proposal = NUTS{MultinomialTS, GeneralisedNoUTurn}(integrator)\n",
    "adaptor = StanHMCAdaptor(MassMatrixAdaptor(metric), StepSizeAdaptor(0.9, integrator))\n",
    "\n",
    "# Run the sampler to draw samples from the specified Gaussian, where\n",
    "#   - `samples` will store the samples\n",
    "#   - `stats` will store diagnostic statistics for each sample\n",
    "samples_hmc, stats = sample(hamiltonian, proposal, initial_θ, n_samples, adaptor, n_adapts; progress=true);"
   ]
  },
  {
   "cell_type": "code",
   "execution_count": 13,
   "id": "0bae18fb",
   "metadata": {},
   "outputs": [],
   "source": [
    "d1_hmc = [sample[1] for sample in samples_hmc]\n",
    "d2_hmc = [sample[2] for sample in samples_hmc];"
   ]
  },
  {
   "cell_type": "code",
   "execution_count": 58,
   "id": "01881939",
   "metadata": {},
   "outputs": [
    {
     "data": {
      "image/png": "[encoded data removed]",
      "text/plain": [
       "Figure(PyObject <Figure size 800x800 with 4 Axes>)"
      ]
     },
     "metadata": {},
     "output_type": "display_data"
    }
   ],
   "source": [
    "fig, axis = plt.subplots(2, 2, figsize=(8,8))\n",
    "fig.suptitle(\"Neal's Funnel Comp.\", fontsize=16)\n",
    "\n",
    "fig.subplots_adjust(hspace=0)\n",
    "fig.subplots_adjust(wspace=0)\n",
    "\n",
    "axis[1,1].hist(d1_mchmc, bins=100, density=true, range=[-3,5], alpha = 0.3, label=\"MCHMC\")\n",
    "axis[1,1].hist(d1_hmc, bins=100, density=true, range=[-3,5], alpha = 0.3, label=\"NUTS\")\n",
    "axis[1,1].plot(X, d1_truth, \"g--\", label=\"Truth\")\n",
    "axis[1,1].legend()\n",
    "axis[1,1].set_yticks([])\n",
    "\n",
    "axis[2,2].hist(d2_mchmc, bins=100, density=true, orientation=\"horizontal\", range=[-2, 18], alpha = 0.3)\n",
    "axis[2,2].hist(d2_hmc, bins=100, density=true, orientation=\"horizontal\", range=[-2, 18], alpha = 0.3)\n",
    "axis[2,2].plot(d2_truth, Y, \"g--\", label=\"Truth\")\n",
    "axis[2,2].set_xticks([])\n",
    "axis[2,2].set_yticks([])\n",
    "\n",
    "axis[1,2].hist2d(d1_hmc, d2_hmc, bins=100, range=[[-3,5],[-2, 18]])\n",
    "axis[1,2].set_title(\"NUTS\")\n",
    "\n",
    "axis[2,1].hist2d(d1_mchmc, d2_mchmc, bins=100, range=[[-3,5],[-2, 18]])\n",
    "axis[2,1].set_title(\"MCHMC\")\n",
    ";"
   ]
  },
  {
   "cell_type": "code",
   "execution_count": null,
   "id": "3a811ff2",
   "metadata": {},
   "outputs": [],
   "source": []
  },
  {
   "cell_type": "code",
   "execution_count": null,
   "id": "10aa2332",
   "metadata": {},
   "outputs": [],
   "source": []
  }
 ],
 "metadata": {
  "kernelspec": {
   "display_name": "Julia 1.9.0",
   "language": "julia",
   "name": "julia-1.9"
  },
  "language_info": {
   "file_extension": ".jl",
   "mimetype": "application/julia",
   "name": "julia",
   "version": "1.9.0"
  }
 },
 "nbformat": 4,
 "nbformat_minor": 5
}
