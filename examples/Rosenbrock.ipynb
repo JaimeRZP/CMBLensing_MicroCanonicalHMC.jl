{
 "cells": [
  {
   "attachments": {},
   "cell_type": "markdown",
   "id": "91129cb1",
   "metadata": {},
   "source": [
    "# Rosembrock Target Practice"
   ]
  },
  {
   "attachments": {},
   "cell_type": "markdown",
   "id": "97121235",
   "metadata": {},
   "source": [
    "## MCHMC"
   ]
  },
  {
   "cell_type": "code",
   "execution_count": 44,
   "id": "86b96c9e",
   "metadata": {},
   "outputs": [
    {
     "name": "stderr",
     "output_type": "stream",
     "text": [
      "\u001b[32m\u001b[1m  Activating\u001b[22m\u001b[39m project at `~/Cambdrige/MicroCanonicalHMC.jl`\n"
     ]
    }
   ],
   "source": [
    "] activate \"../\""
   ]
  },
  {
   "cell_type": "code",
   "execution_count": 45,
   "id": "baed58e3",
   "metadata": {},
   "outputs": [],
   "source": [
    "using Distributions\n",
    "using ForwardDiff\n",
    "using LinearAlgebra\n",
    "using Random\n",
    "#using StatsPlots\n",
    "using PyPlot\n",
    "using Distributed\n",
    "\n",
    "using Revise\n",
    "using MicroCanonicalHMC"
   ]
  },
  {
   "cell_type": "code",
   "execution_count": 46,
   "id": "09dcdce0",
   "metadata": {},
   "outputs": [],
   "source": [
    "target = RosenbrockTarget(1.0, 10.0; d=2);"
   ]
  },
  {
   "cell_type": "code",
   "execution_count": 47,
   "id": "a737261d",
   "metadata": {},
   "outputs": [],
   "source": [
    "X = LinRange(-3, 5, 100)\n",
    "Y = LinRange(-2, 18, 100)\n",
    "Z = zeros(length(X), length(Y))\n",
    "for i in 1:length(X)\n",
    "    for j in 1:length(Y)\n",
    "        x = X[i]\n",
    "        y = Y[j]\n",
    "        Z[i, j] = exp(target.h.ℓπ([x; y]))\n",
    "    end\n",
    "end"
   ]
  },
  {
   "cell_type": "code",
   "execution_count": 48,
   "id": "6896b4ca",
   "metadata": {},
   "outputs": [
    {
     "data": {
      "text/plain": [
       "100-element Vector{Float64}:\n",
       " 7.162829369412773e-5\n",
       " 9.863809139860455e-5\n",
       " 0.00013494872801976375\n",
       " 0.0001834243594214731\n",
       " 0.0002476904756917828\n",
       " 0.000332296436430068\n",
       " 0.000442900469948504\n",
       " 0.0005864765865858889\n",
       " 0.0007715415106920719\n",
       " 0.0010083980468276281\n",
       " 0.001309389262123287\n",
       " 0.001689155512694095\n",
       " 0.0021648837232836893\n",
       " ⋮\n",
       " 0.0016890587797713194\n",
       " 0.001251217459171278\n",
       " 0.00031134149060358854\n",
       " 2.3604574783005898e-6\n",
       " 1.5088638240128408e-10\n",
       " 4.865587974811031e-17\n",
       " 5.648489440875084e-26\n",
       " 1.7465706115620848e-37\n",
       " 1.0692541153538504e-51\n",
       " 9.6070764266984e-69\n",
       " 9.347706927905418e-89\n",
       " 7.231720986524703e-112"
      ]
     },
     "execution_count": 48,
     "metadata": {},
     "output_type": "execute_result"
    }
   ],
   "source": [
    "d2_truth = vec(normalize(sum(Z, dims=1)))\n",
    "d1_truth = vec(normalize(sum(Z, dims=2)))"
   ]
  },
  {
   "cell_type": "code",
   "execution_count": 49,
   "id": "b5f95935",
   "metadata": {},
   "outputs": [
    {
     "data": {
      "image/png": "[encoded data removed]",
      "text/plain": [
       "Figure(PyObject <Figure size 640x480 with 1 Axes>)"
      ]
     },
     "metadata": {},
     "output_type": "display_data"
    },
    {
     "data": {
      "text/plain": [
       "PyObject <matplotlib.image.AxesImage object at 0x7fe41ba605e0>"
      ]
     },
     "execution_count": 49,
     "metadata": {},
     "output_type": "execute_result"
    }
   ],
   "source": [
    "plt.imshow(Z)"
   ]
  },
  {
   "cell_type": "code",
   "execution_count": 50,
   "id": "6aedc238",
   "metadata": {},
   "outputs": [
    {
     "data": {
      "text/plain": [
       "MicroCanonicalHMC.MCHMCSampler(Settings{Float64}(10000, 0.01, 1, true, \"LF\", nothing, nothing, nothing), MicroCanonicalHMC.Hyperparameters{Float64}(0.0, 1.4142135623730951, 0.0, 0.1931833275037836, [1.0, 1.0], 0.9607843137254902, 1.5), MicroCanonicalHMC.Leapfrog)"
      ]
     },
     "execution_count": 50,
     "metadata": {},
     "output_type": "execute_result"
    }
   ],
   "source": [
    "d = 2\n",
    "spl = MCHMC(10_000, 0.01; L=sqrt(2), sigma=ones(target.d), adaptive=true)"
   ]
  },
  {
   "cell_type": "code",
   "execution_count": 51,
   "id": "9f047933",
   "metadata": {},
   "outputs": [
    {
     "name": "stdout",
     "output_type": "stream",
     "text": [
      "Burn in step: 2000\n",
      "eps --->0.12378350132688111\n",
      "Burn in step: 4000\n",
      "eps --->0.09080886763563867\n",
      "Burn in step: 6000\n",
      "eps --->0.14791345096786276\n"
     ]
    },
    {
     "name": "stderr",
     "output_type": "stream",
     "text": [
      "\u001b[36m\u001b[1m[ \u001b[22m\u001b[39m\u001b[36m\u001b[1mInfo: \u001b[22m\u001b[39mTuning eps ⏳\n"
     ]
    },
    {
     "name": "stdout",
     "output_type": "stream",
     "text": [
      "Burn in step: 8000\n",
      "eps --->0.1656796201052943\n",
      "Burn in step: 10000\n",
      "eps --->0.07201876626526608\n"
     ]
    },
    {
     "name": "stderr",
     "output_type": "stream",
     "text": [
      "\u001b[36m\u001b[1m[ \u001b[22m\u001b[39m\u001b[36m\u001b[1mInfo: \u001b[22m\u001b[39meps: 0.07201876626526608\n",
      "\u001b[36m\u001b[1m[ \u001b[22m\u001b[39m\u001b[36m\u001b[1mInfo: \u001b[22m\u001b[39mL: 1.4142135623730951\n",
      "\u001b[36m\u001b[1m[ \u001b[22m\u001b[39m\u001b[36m\u001b[1mInfo: \u001b[22m\u001b[39mnu: 0.2315354008092845\n",
      "\u001b[36m\u001b[1m[ \u001b[22m\u001b[39m\u001b[36m\u001b[1mInfo: \u001b[22m\u001b[39msigma: [1.0, 1.0]\n",
      "\u001b[36m\u001b[1m[ \u001b[22m\u001b[39m\u001b[36m\u001b[1mInfo: \u001b[22m\u001b[39madaptive: true\n",
      "\u001b[A2mMCHMC: 100%|████████████████████████████████████████████| Time: 0:00:03\u001b[39m"
     ]
    }
   ],
   "source": [
    "samples_mchmc = Sample(spl, target, 500_000; dialog=true);"
   ]
  },
  {
   "cell_type": "code",
   "execution_count": 52,
   "id": "d4409f29",
   "metadata": {},
   "outputs": [
    {
     "data": {
      "text/plain": [
       "500000-element Vector{Any}:\n",
       " [1.8568883879037374, 3.386812542767391, 0.07201876626526608, -0.0016695062604197841, -0.3858694857964519]\n",
       " [1.880321464440068, 3.3187126630434625, 0.07248862733247033, 0.03921122884615791, -0.6227026324061646]\n",
       " [1.8683209612605518, 3.247224279259912, 0.07295135255905699, 0.013783154404708786, -0.6732058537403031]\n",
       " [1.8048287961402478, 3.211298733912181, 0.07343279816433838, -0.03351622310029756, -0.33450454889185616]\n",
       " [1.73456051970287, 3.1899739789835846, 0.07389927958235011, 0.01315517189215648, -0.4340904996110506]\n",
       " [1.6703985272680397, 3.1533087059096916, 0.07434545863701562, 0.05648370586730217, -0.8838433243044461]\n",
       " [1.6371351324907033, 3.0868196557748364, 0.0748361899949893, 0.03073248189364497, -1.0296217859290415]\n",
       " [1.6828556678556155, 3.027573660307531, 0.0753081299260653, -0.047230911373029816, -0.4243849585665693]\n",
       " [1.7446833658083407, 2.9845777279554158, 0.07574430865211923, -0.006490853027957322, -0.2948842117612292]\n",
       " [1.7819961411703005, 2.9186614394678543, 0.0762331602339447, 0.04184190652026948, -0.635615532430639]\n",
       " [1.7505194631748398, 2.8492300815549894, 0.0767365248959439, -0.026550781495216058, -0.5129546365025954]\n",
       " [1.6834841245763088, 2.811883627478516, 0.07724239247483058, -0.025080664582933343, -0.2360472882479159]\n",
       " [1.6098651372527164, 2.788503467070929, 0.07774108458841258, 0.01663110302253759, -0.3796931571639083]\n",
       " ⋮\n",
       " [-0.342657349375234, 0.2817714654121659, 0.1696406666942304, 0.0066215493586281315, -1.0364311639954327]\n",
       " [-0.4760947171688765, 0.3865208075235469, 0.1704675696178407, 0.0013468972790946498, -1.2171953171841996]\n",
       " [-0.5964584686751727, 0.26580726389755616, 0.17171897049413753, -0.0161316891292429, -1.3147997278909784]\n",
       " [-0.7333259075995118, 0.16210235085165076, 0.1729821015625456, -0.017600116165559454, -2.207828568661419]\n",
       " [-0.7726322407254071, -0.006354823638458074, 0.16612379836664007, 0.36948595896676917, -3.391059908197333]\n",
       " [-0.6271682313447153, -0.08658784899992676, 0.16147741247469652, -0.31431601554256616, -2.4754918817428284]\n",
       " [-0.47516167319698255, -0.03209967579139266, 0.16255073055896346, 0.00809533462398937, -1.4205570470837074]\n",
       " [-0.3251191235477111, 0.030430103514140307, 0.16372050341775254, 0.017295063725777382, -0.9062999723806988]\n",
       " [-0.20219343076866064, 0.13856741111032944, 0.16489275908849782, 0.016953744796759596, -0.7703465410108193]\n",
       " [-0.0554061967577715, 0.21368818008436113, 0.1660906649514904, 0.02420709290862333, -0.7787415319935198]\n",
       " [0.09872779070341745, 0.27556566301104696, 0.16727999616039518, 0.01918610706143342, -0.7594431360624821]\n",
       " [0.2656662718302438, 0.28624932504660683, 0.16847154489418067, -0.018647743876908596, -0.5021923894146193]"
      ]
     },
     "execution_count": 52,
     "metadata": {},
     "output_type": "execute_result"
    }
   ],
   "source": [
    "samples_mchmc"
   ]
  },
  {
   "cell_type": "code",
   "execution_count": 53,
   "id": "ad509f8c",
   "metadata": {},
   "outputs": [],
   "source": [
    "d1_mchmc = [sample[1] for sample in samples_mchmc]\n",
    "d2_mchmc = [sample[2] for sample in samples_mchmc];"
   ]
  },
  {
   "attachments": {},
   "cell_type": "markdown",
   "id": "0e05b7ed",
   "metadata": {},
   "source": [
    "## NUTS"
   ]
  },
  {
   "cell_type": "code",
   "execution_count": 54,
   "id": "afc1ddfb",
   "metadata": {},
   "outputs": [],
   "source": [
    "using AdvancedHMC\n",
    "using LogDensityProblems"
   ]
  },
  {
   "cell_type": "code",
   "execution_count": 55,
   "id": "c38610c3",
   "metadata": {},
   "outputs": [],
   "source": [
    "# Define the target distribution using the `LogDensityProblem` interface\n",
    "struct LogTargetDensity\n",
    "    dim::Int\n",
    "end\n",
    "LogDensityProblems.logdensity(p::LogTargetDensity, θ) = target.h.ℓπ(θ) #-sum(abs2, θ) / 2  # standard multivariate normal\n",
    "LogDensityProblems.dimension(p::LogTargetDensity) = p.dim\n",
    "LogDensityProblems.capabilities(::Type{LogTargetDensity}) = LogDensityProblems.LogDensityOrder{0}()"
   ]
  },
  {
   "cell_type": "code",
   "execution_count": 56,
   "id": "d2091ef2",
   "metadata": {},
   "outputs": [
    {
     "name": "stderr",
     "output_type": "stream",
     "text": [
      "\u001b[33m\u001b[1m┌ \u001b[22m\u001b[39m\u001b[33m\u001b[1mWarning: \u001b[22m\u001b[39mProgressMeter by default refresh meters with additional information in IJulia via `IJulia.clear_output`, which clears all outputs in the cell. \n",
      "\u001b[33m\u001b[1m│ \u001b[22m\u001b[39m - To prevent this behaviour, do `ProgressMeter.ijulia_behavior(:append)`. \n",
      "\u001b[33m\u001b[1m│ \u001b[22m\u001b[39m - To disable this warning message, do `ProgressMeter.ijulia_behavior(:clear)`.\n",
      "\u001b[33m\u001b[1m└ \u001b[22m\u001b[39m\u001b[90m@ ProgressMeter ~/.julia/packages/ProgressMeter/sN2xr/src/ProgressMeter.jl:618\u001b[39m\n",
      "\u001b[32mSampling 100%|███████████████████████████████| Time: 0:00:03\u001b[39m\n",
      "\u001b[34m  iterations:                    100000\u001b[39m\n",
      "\u001b[34m  n_steps:                       3\u001b[39m\n",
      "\u001b[34m  is_accept:                     true\u001b[39m\n",
      "\u001b[34m  acceptance_rate:               0.9823051616378203\u001b[39m\n",
      "\u001b[34m  log_density:                   -0.10854755859464157\u001b[39m\n",
      "\u001b[34m  hamiltonian_energy:            0.6617267960124188\u001b[39m\n",
      "\u001b[34m  hamiltonian_energy_error:      -0.022952620485744757\u001b[39m\n",
      "\u001b[34m  max_hamiltonian_energy_error:  0.029773776726941037\u001b[39m\n",
      "\u001b[34m  tree_depth:                    1\u001b[39m\n",
      "\u001b[34m  numerical_error:               false\u001b[39m\n",
      "\u001b[34m  step_size:                     0.08057487096000823\u001b[39m\n",
      "\u001b[34m  nom_step_size:                 0.08057487096000823\u001b[39m\n",
      "\u001b[34m  is_adapt:                      false\u001b[39m\n",
      "\u001b[34m  mass_matrix:                   DiagEuclideanMetric([0.8943318331370749, 4.4080 ...])\u001b[39m\n",
      "\u001b[36m\u001b[1m┌ \u001b[22m\u001b[39m\u001b[36m\u001b[1mInfo: \u001b[22m\u001b[39mFinished 100000 sampling steps for 1 chains in 3.936281793 (s)\n",
      "\u001b[36m\u001b[1m│ \u001b[22m\u001b[39m  h = Hamiltonian(metric=DiagEuclideanMetric([0.8943318331370749, 4.4080 ...]), kinetic=GaussianKinetic())\n",
      "\u001b[36m\u001b[1m│ \u001b[22m\u001b[39m  κ = HMCKernel{AdvancedHMC.FullMomentumRefreshment, Trajectory{MultinomialTS, Leapfrog{Float64}, GeneralisedNoUTurn{Float64}}}(AdvancedHMC.FullMomentumRefreshment(), Trajectory{MultinomialTS}(integrator=Leapfrog(ϵ=0.0806), tc=GeneralisedNoUTurn{Float64}(10, 1000.0)))\n",
      "\u001b[36m\u001b[1m│ \u001b[22m\u001b[39m  EBFMI_est = 1.0883219002561737\n",
      "\u001b[36m\u001b[1m└ \u001b[22m\u001b[39m  average_acceptance_rate = 0.9398370590180513\n"
     ]
    }
   ],
   "source": [
    "# Choose parameter dimensionality and initial parameter value\n",
    "initial_θ = target.prior_draw()\n",
    "ℓπ = LogTargetDensity(target.d)\n",
    "\n",
    "# Set the number of samples to draw and warmup iterations\n",
    "n_samples, n_adapts = 100_000, 10_000\n",
    "\n",
    "# Define a Hamiltonian system\n",
    "metric = DiagEuclideanMetric(target.d)\n",
    "hamiltonian = Hamiltonian(metric, ℓπ, ForwardDiff)\n",
    "\n",
    "# Define a leapfrog solver, with initial step size chosen heuristically\n",
    "initial_ϵ = find_good_stepsize(hamiltonian, initial_θ)\n",
    "integrator = AdvancedHMC.Leapfrog(initial_ϵ)\n",
    "\n",
    "# Define an HMC sampler, with the following components\n",
    "#   - multinomial sampling scheme,\n",
    "#   - generalised No-U-Turn criteria, and\n",
    "#   - windowed adaption for step-size and diagonal mass matrix\n",
    "proposal = NUTS{MultinomialTS, GeneralisedNoUTurn}(integrator)\n",
    "adaptor = StanHMCAdaptor(MassMatrixAdaptor(metric), StepSizeAdaptor(0.9, integrator))\n",
    "\n",
    "# Run the sampler to draw samples from the specified Gaussian, where\n",
    "#   - `samples` will store the samples\n",
    "#   - `stats` will store diagnostic statistics for each sample\n",
    "samples_hmc, stats = sample(hamiltonian, proposal, initial_θ, n_samples, adaptor, n_adapts; progress=true);"
   ]
  },
  {
   "cell_type": "code",
   "execution_count": 57,
   "id": "0bae18fb",
   "metadata": {},
   "outputs": [],
   "source": [
    "d1_hmc = [sample[1] for sample in samples_hmc]\n",
    "d2_hmc = [sample[2] for sample in samples_hmc];"
   ]
  },
  {
   "cell_type": "code",
   "execution_count": 58,
   "id": "01881939",
   "metadata": {},
   "outputs": [
    {
     "data": {
      "image/png": "[encoded data removed]",
      "text/plain": [
       "Figure(PyObject <Figure size 800x800 with 4 Axes>)"
      ]
     },
     "metadata": {},
     "output_type": "display_data"
    }
   ],
   "source": [
    "fig, axis = plt.subplots(2, 2, figsize=(8,8))\n",
    "fig.suptitle(\"Neal's Funnel Comp.\", fontsize=16)\n",
    "\n",
    "fig.subplots_adjust(hspace=0)\n",
    "fig.subplots_adjust(wspace=0)\n",
    "\n",
    "axis[1,1].hist(d1_mchmc, bins=100, density=true, range=[-3,5], alpha = 0.3, label=\"MCHMC\")\n",
    "axis[1,1].hist(d1_hmc, bins=100, density=true, range=[-3,5], alpha = 0.3, label=\"NUTS\")\n",
    "axis[1,1].plot(X, d1_truth, \"g--\", label=\"Truth\")\n",
    "axis[1,1].legend()\n",
    "axis[1,1].set_yticks([])\n",
    "\n",
    "axis[2,2].hist(d2_mchmc, bins=100, density=true, orientation=\"horizontal\", range=[-2, 18], alpha = 0.3)\n",
    "axis[2,2].hist(d2_hmc, bins=100, density=true, orientation=\"horizontal\", range=[-2, 18], alpha = 0.3)\n",
    "axis[2,2].plot(d2_truth, Y, \"g--\", label=\"Truth\")\n",
    "axis[2,2].set_xticks([])\n",
    "axis[2,2].set_yticks([])\n",
    "\n",
    "axis[1,2].hist2d(d1_hmc, d2_hmc, bins=100, range=[[-3,5],[-2, 18]])\n",
    "axis[1,2].set_title(\"NUTS\")\n",
    "\n",
    "axis[2,1].hist2d(d1_mchmc, d2_mchmc, bins=100, range=[[-3,5],[-2, 18]])\n",
    "axis[2,1].set_title(\"MCHMC\")\n",
    ";"
   ]
  },
  {
   "cell_type": "code",
   "execution_count": null,
   "id": "3a811ff2",
   "metadata": {},
   "outputs": [],
   "source": []
  },
  {
   "cell_type": "code",
   "execution_count": null,
   "id": "10aa2332",
   "metadata": {},
   "outputs": [],
   "source": []
  }
 ],
 "metadata": {
  "kernelspec": {
   "display_name": "Julia 1.9.0",
   "language": "julia",
   "name": "julia-1.9"
  },
  "language_info": {
   "file_extension": ".jl",
   "mimetype": "application/julia",
   "name": "julia",
   "version": "1.9.0"
  }
 },
 "nbformat": 4,
 "nbformat_minor": 5
}
