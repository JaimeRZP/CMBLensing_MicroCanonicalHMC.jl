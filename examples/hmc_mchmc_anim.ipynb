{
 "cells": [
  {
   "cell_type": "code",
   "execution_count": 17,
   "id": "aa1633d3-c983-4376-a64e-808fc5150730",
   "metadata": {},
   "outputs": [
    {
     "name": "stderr",
     "output_type": "stream",
     "text": [
      "\u001b[32m\u001b[1m  Activating\u001b[22m\u001b[39m project at `/global/u2/j/jaimerz/PhD/MicroCanonicalHMC.jl/examples`\n",
      "\u001b[32m\u001b[1m  No Changes\u001b[22m\u001b[39m to `/global/u2/j/jaimerz/PhD/MicroCanonicalHMC.jl/examples/Project.toml`\n",
      "\u001b[32m\u001b[1m  No Changes\u001b[22m\u001b[39m to `/global/u2/j/jaimerz/PhD/MicroCanonicalHMC.jl/examples/Manifest.toml`\n"
     ]
    }
   ],
   "source": [
    "using Pkg\n",
    "Pkg.activate(\".\")\n",
    "Pkg.resolve()\n",
    "Pkg.instantiate()"
   ]
  },
  {
   "cell_type": "code",
   "execution_count": 18,
   "id": "192f7b2c",
   "metadata": {},
   "outputs": [],
   "source": [
    "using Plots, ForwardDiff, LinearAlgebra, StaticArrays"
   ]
  },
  {
   "cell_type": "code",
   "execution_count": 19,
   "id": "097b930a",
   "metadata": {},
   "outputs": [
    {
     "data": {
      "text/plain": [
       "symplectic_integrate (generic function with 1 method)"
      ]
     },
     "execution_count": 19,
     "metadata": {},
     "output_type": "execute_result"
    }
   ],
   "source": [
    "function symplectic_integrate(x₀, p₀, U; N=50, ϵ=0.1, micro=false)\n",
    "    \n",
    "    V(p) = (micro ? d*log(dot(p,p)/d)/2 : (dot(p,p))/2)\n",
    "    H(x,p) = U(x) - V(p)\n",
    "\n",
    "    δUδx = x -> ForwardDiff.gradient(U, x)\n",
    "    δVδp = p -> ForwardDiff.gradient(V, p)\n",
    "\n",
    "    xᵢ, pᵢ = x₀, p₀\n",
    "    d = length(x₀)\n",
    "    δUδxᵢ = δUδx(xᵢ)\n",
    "    \n",
    "    history = []\n",
    "\n",
    "    for i=1:N\n",
    "        xᵢ₊₁    = xᵢ - ϵ * (δVδp(pᵢ) - ϵ/2 * δUδxᵢ)\n",
    "        δUδxᵢ₊₁ = δUδx(xᵢ₊₁)\n",
    "        pᵢ₊₁    = pᵢ - ϵ/2 * (δUδxᵢ₊₁ + δUδxᵢ)\n",
    "        xᵢ, pᵢ, δUδxᵢ = xᵢ₊₁, pᵢ₊₁, δUδxᵢ₊₁\n",
    "        Hᵢ = H(xᵢ,pᵢ)\n",
    "        push!(history, (xᵢ, Hᵢ))\n",
    "    end\n",
    "\n",
    "    return history\n",
    "end"
   ]
  },
  {
   "cell_type": "code",
   "execution_count": 20,
   "id": "6551cf16",
   "metadata": {},
   "outputs": [
    {
     "data": {
      "text/plain": [
       "U (generic function with 1 method)"
      ]
     },
     "execution_count": 20,
     "metadata": {},
     "output_type": "execute_result"
    }
   ],
   "source": [
    "U((x,y),) = -max(0,(((1.0 - x)^2 + 100.0 * (y - x^2)^2) + 10(x^2 + y^2)))^(1/2)"
   ]
  },
  {
   "cell_type": "code",
   "execution_count": 21,
   "id": "23ad62fa",
   "metadata": {},
   "outputs": [],
   "source": [
    "x = range(-4, 4, length=300)\n",
    "y = range(-2, 4, length=300);"
   ]
  },
  {
   "cell_type": "code",
   "execution_count": 22,
   "id": "8f75a9af",
   "metadata": {},
   "outputs": [
    {
     "ename": "LoadError",
     "evalue": "MethodError: no method matching symplectic_integrate(::SVector{2, Float64}, ::SVector{2, Float64}, ::UniformScaling{Bool}, ::typeof(U); N::Int64, ϵ::Float64, micro::Bool)\n\n\u001b[0mClosest candidates are:\n\u001b[0m  symplectic_integrate(::Any, ::Any, ::Any; N, ϵ, micro)\n\u001b[0m\u001b[90m   @\u001b[39m \u001b[35mMain\u001b[39m \u001b[90m\u001b[4mIn[19]:1\u001b[24m\u001b[39m\n",
     "output_type": "error",
     "traceback": [
      "MethodError: no method matching symplectic_integrate(::SVector{2, Float64}, ::SVector{2, Float64}, ::UniformScaling{Bool}, ::typeof(U); N::Int64, ϵ::Float64, micro::Bool)\n\n\u001b[0mClosest candidates are:\n\u001b[0m  symplectic_integrate(::Any, ::Any, ::Any; N, ϵ, micro)\n\u001b[0m\u001b[90m   @\u001b[39m \u001b[35mMain\u001b[39m \u001b[90m\u001b[4mIn[19]:1\u001b[24m\u001b[39m\n",
      "",
      "Stacktrace:",
      " [1] top-level scope",
      "   @ In[22]:1"
     ]
    }
   ],
   "source": [
    "history1 = symplectic_integrate(@SVector[1.3,2], @SVector[0.1, 0.1], I, U, N=200000, ϵ=0.0001, micro=false);"
   ]
  },
  {
   "cell_type": "code",
   "execution_count": 23,
   "id": "14bb0702",
   "metadata": {},
   "outputs": [
    {
     "ename": "LoadError",
     "evalue": "MethodError: no method matching symplectic_integrate(::SVector{2, Float64}, ::SVector{2, Float64}, ::UniformScaling{Bool}, ::typeof(U); N::Int64, ϵ::Float64, micro::Bool)\n\n\u001b[0mClosest candidates are:\n\u001b[0m  symplectic_integrate(::Any, ::Any, ::Any; N, ϵ, micro)\n\u001b[0m\u001b[90m   @\u001b[39m \u001b[35mMain\u001b[39m \u001b[90m\u001b[4mIn[19]:1\u001b[24m\u001b[39m\n",
     "output_type": "error",
     "traceback": [
      "MethodError: no method matching symplectic_integrate(::SVector{2, Float64}, ::SVector{2, Float64}, ::UniformScaling{Bool}, ::typeof(U); N::Int64, ϵ::Float64, micro::Bool)\n\n\u001b[0mClosest candidates are:\n\u001b[0m  symplectic_integrate(::Any, ::Any, ::Any; N, ϵ, micro)\n\u001b[0m\u001b[90m   @\u001b[39m \u001b[35mMain\u001b[39m \u001b[90m\u001b[4mIn[19]:1\u001b[24m\u001b[39m\n",
      "",
      "Stacktrace:",
      " [1] top-level scope",
      "   @ In[23]:1"
     ]
    }
   ],
   "source": [
    "history2 = symplectic_integrate(@SVector[1.3,2], @SVector[0.1, 0.1], I, U, N=50000000, ϵ=0.000001, micro=true);"
   ]
  },
  {
   "cell_type": "code",
   "execution_count": 24,
   "id": "454c1a53",
   "metadata": {},
   "outputs": [
    {
     "ename": "LoadError",
     "evalue": "UndefVarError: `history1` not defined",
     "output_type": "error",
     "traceback": [
      "UndefVarError: `history1` not defined",
      "",
      "Stacktrace:",
      " [1] top-level scope",
      "   @ ~/.julia/packages/Plots/B5j7d/src/animation.jl:251"
     ]
    }
   ],
   "source": [
    "anim = Plots.@animate for h in first.(history1)[1:300:end]\n",
    "    contourf(x, y, U.(tuple.(x',y)), clims=(-14,0), cmap=:acton)\n",
    "    scatter!([h[1]], [h[2]], ylim=(-2,4), xlim=(-3,3), c=:black, ms=8, label=false)\n",
    "end fps=5\n",
    "mp4(anim, \"hmc.mp4\")"
   ]
  },
  {
   "cell_type": "code",
   "execution_count": 25,
   "id": "ca13d0bc",
   "metadata": {},
   "outputs": [
    {
     "ename": "LoadError",
     "evalue": "UndefVarError: `history2` not defined",
     "output_type": "error",
     "traceback": [
      "UndefVarError: `history2` not defined",
      "",
      "Stacktrace:",
      " [1] top-level scope",
      "   @ ~/.julia/packages/Plots/B5j7d/src/animation.jl:251"
     ]
    }
   ],
   "source": [
    "anim = Plots.@animate for h in first.(history2)[1:100000:end]\n",
    "    contourf(x, y, U.(tuple.(x',y)), clims=(-14,0), cmap=:acton)\n",
    "    scatter!([h[1]], [h[2]], ylim=(-2,4), xlim=(-3,3), c=:black, ms=8, label=false)\n",
    "end fps=5\n",
    "mp4(anim, \"mchmc.mp4\")"
   ]
  },
  {
   "cell_type": "code",
   "execution_count": null,
   "id": "fb17c2f2-ad02-481c-ba88-96570034ca2e",
   "metadata": {},
   "outputs": [],
   "source": []
  }
 ],
 "metadata": {
  "kernelspec": {
   "display_name": "Julia 1.9.0-rc2",
   "language": "julia",
   "name": "julia-1.9"
  },
  "language_info": {
   "file_extension": ".jl",
   "mimetype": "application/julia",
   "name": "julia",
   "version": "1.9.0"
  }
 },
 "nbformat": 4,
 "nbformat_minor": 5
}
