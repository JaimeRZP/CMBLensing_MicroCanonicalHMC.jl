{
 "cells": [
  {
   "cell_type": "code",
   "execution_count": null,
   "metadata": {},
   "outputs": [],
   "source": [
    "using Plots, ForwardDiff, LinearAlgebra, StaticArrays"
   ]
  },
  {
   "cell_type": "code",
   "execution_count": null,
   "id": "097b930a",
   "metadata": {},
   "outputs": [],
   "source": [
    "function symplectic_integrate(x₀, p₀, U; N=50, ϵ=0.1, micro=false)\n",
    "    \n",
    "    V(p) = (micro ? d*log(dot(p,p)/d)/2 : (dot(p,p))/2)\n",
    "    H(x,p) = U(x) - V(p)\n",
    "\n",
    "    δUδx = x -> ForwardDiff.gradient(U, x)\n",
    "    δVδp = p -> ForwardDiff.gradient(V, p)\n",
    "\n",
    "    xᵢ, pᵢ = x₀, p₀\n",
    "    d = length(x₀)\n",
    "    δUδxᵢ = δUδx(xᵢ)\n",
    "    \n",
    "    history = []\n",
    "\n",
    "    for i=1:N\n",
    "        xᵢ₊₁    = xᵢ - ϵ * (δVδp(pᵢ) - ϵ/2 * δUδxᵢ)\n",
    "        δUδxᵢ₊₁ = δUδx(xᵢ₊₁)\n",
    "        pᵢ₊₁    = pᵢ - ϵ/2 * (δUδxᵢ₊₁ + δUδxᵢ)\n",
    "        xᵢ, pᵢ, δUδxᵢ = xᵢ₊₁, pᵢ₊₁, δUδxᵢ₊₁\n",
    "        Hᵢ = H(xᵢ,pᵢ)\n",
    "        push!(history, (xᵢ, Hᵢ))\n",
    "    end\n",
    "\n",
    "    return history\n",
    "end"
   ]
  },
  {
   "cell_type": "code",
   "execution_count": null,
   "id": "6551cf16",
   "metadata": {},
   "outputs": [],
   "source": [
    "U((x,y),) = -max(0,(((1.0 - x)^2 + 100.0 * (y - x^2)^2) + 10(x^2 + y^2)))^(1/2)"
   ]
  },
  {
   "cell_type": "code",
   "execution_count": null,
   "id": "23ad62fa",
   "metadata": {},
   "outputs": [],
   "source": [
    "x = range(-4, 4, length=300)\n",
    "y = range(-2, 4, length=300);"
   ]
  },
  {
   "cell_type": "code",
   "execution_count": null,
   "id": "8f75a9af",
   "metadata": {},
   "outputs": [],
   "source": [
    "history1 = symplectic_integrate(@SVector[1.3,2], @SVector[0.1, 0.1], I, U, N=200000, ϵ=0.0001, micro=false);"
   ]
  },
  {
   "cell_type": "code",
   "execution_count": null,
   "id": "14bb0702",
   "metadata": {},
   "outputs": [],
   "source": [
    "history2 = symplectic_integrate(@SVector[1.3,2], @SVector[0.1, 0.1], I, U, N=50000000, ϵ=0.000001, micro=true);"
   ]
  },
  {
   "cell_type": "code",
   "execution_count": null,
   "id": "454c1a53",
   "metadata": {},
   "outputs": [],
   "source": [
    "anim = Plots.@animate for h in first.(history1)[1:300:end]\n",
    "    contourf(x, y, U.(tuple.(x',y)), clims=(-14,0), cmap=:acton)\n",
    "    scatter!([h[1]], [h[2]], ylim=(-2,4), xlim=(-3,3), c=:black, ms=8, label=false)\n",
    "end fps=5\n",
    "mp4(anim, \"hmc.mp4\")"
   ]
  },
  {
   "cell_type": "code",
   "execution_count": null,
   "id": "ca13d0bc",
   "metadata": {},
   "outputs": [],
   "source": [
    "anim = Plots.@animate for h in first.(history2)[1:100000:end]\n",
    "    contourf(x, y, U.(tuple.(x',y)), clims=(-14,0), cmap=:acton)\n",
    "    scatter!([h[1]], [h[2]], ylim=(-2,4), xlim=(-3,3), c=:black, ms=8, label=false)\n",
    "end fps=5\n",
    "mp4(anim, \"mchmc.mp4\")"
   ]
  }
 ],
 "metadata": {
  "kernelspec": {
   "display_name": "Julia 1.9.0-rc2",
   "language": "julia",
   "name": "julia-1.9"
  },
  "language_info": {
   "file_extension": ".jl",
   "mimetype": "application/julia",
   "name": "julia",
   "version": "1.9.0"
  }
 },
 "nbformat": 4,
 "nbformat_minor": 5
}
