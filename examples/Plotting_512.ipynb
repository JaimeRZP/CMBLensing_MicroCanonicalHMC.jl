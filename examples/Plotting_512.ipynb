{
 "cells": [
  {
   "cell_type": "markdown",
   "id": "75f7db3f",
   "metadata": {},
   "source": [
    "# Plotting"
   ]
  },
  {
   "cell_type": "code",
   "execution_count": 1,
   "id": "dca5397c",
   "metadata": {},
   "outputs": [
    {
     "name": "stderr",
     "output_type": "stream",
     "text": [
      "\u001b[32m\u001b[1m  Activating\u001b[22m\u001b[39m project at `/global/u2/j/jaimerz/PhD/MicroCanonicalHMC.jl/examples`\n"
     ]
    }
   ],
   "source": [
    "using Pkg\n",
    "Pkg.activate(\".\")\n",
    "Pkg.instantiate()"
   ]
  },
  {
   "cell_type": "code",
   "execution_count": 2,
   "id": "2406d024",
   "metadata": {},
   "outputs": [],
   "source": [
    "using Revise, Adapt, CMBLensing, CMBLensingInferenceTestProblem, JLD2, LaTeXStrings, LinearAlgebra, \n",
    "    MCMCChains, MCMCDiagnosticTools, MicroCanonicalHMC, MuseInference, MuseInference, Plots, \n",
    "    ProgressMeter, Random, Statistics, Zygote"
   ]
  },
  {
   "cell_type": "code",
   "execution_count": 3,
   "id": "e4f5e1dd-75b0-404b-9276-41569eb1795c",
   "metadata": {},
   "outputs": [],
   "source": [
    "Plots.default(fmt=:png, dpi=120, size=(500,300), legendfontsize=10)"
   ]
  },
  {
   "cell_type": "code",
   "execution_count": null,
   "id": "4b233b5b-2d05-4472-abfb-7fc910e7c771",
   "metadata": {},
   "outputs": [],
   "source": [
    "Nside = 512\n",
    "d = 3 * Nside^2 + 2\n",
    "T = Float64;\n",
    "prob = load_cmb_lensing_problem(;storage=Array, T, Nside, masking=true, global_parameters=false);"
   ]
  },
  {
   "cell_type": "code",
   "execution_count": null,
   "id": "7098da92-3cf3-46a3-b7e2-62c31f465cb4",
   "metadata": {},
   "outputs": [],
   "source": [
    "function get_mask_distance(prob)\n",
    "    prob.ds.M isa LazyBinaryOp || error(\"masking must be enabled\")\n",
    "    mx = diag(prob.ds.M[2])[:Qx] .== 1;\n",
    "    nearest = getfield.(@eval(CMBLensing,@ondemand(ImageMorphology.feature_transform))(mx), :I)\n",
    "    Ny, Nx = size(mx)\n",
    "    return [norm(nearest[i,j] .- [i,j]) for i=1:Ny,j=1:Nx]\n",
    "end"
   ]
  },
  {
   "cell_type": "code",
   "execution_count": null,
   "id": "cd95521c-86fc-4399-bdb2-357edea3c469",
   "metadata": {},
   "outputs": [],
   "source": [
    "dist_mat = get_mask_distance(prob);"
   ]
  },
  {
   "cell_type": "markdown",
   "id": "32d8fb33",
   "metadata": {},
   "source": [
    "## Samples"
   ]
  },
  {
   "cell_type": "code",
   "execution_count": null,
   "id": "75b11eb1",
   "metadata": {},
   "outputs": [],
   "source": [
    "function make_chain(samples::AbstractMatrix)\n",
    "    return Chains(permutedims(reduce(hcat, [[exp.(sample[end÷2-2:end÷2-1]); sample[end-3:end]] for sample in eachcol(samples) if all(isfinite.(sample))])),\n",
    "    [:r, :Aϕ, :p_logr, :p_logAϕ, :dE, :logpdf])\n",
    "end    "
   ]
  },
  {
   "cell_type": "code",
   "execution_count": null,
   "id": "e7c358f2-52e1-4f98-882b-a295c30c892e",
   "metadata": {},
   "outputs": [],
   "source": [
    "unmasked_mchmc_path = \"/pscratch/sd/j/jaimerz/chains/MCHMC/CMBLensing_masking_false_Nside_512_TEV_0.0001\"\n",
    "unmasked_hmc_path = \"/pscratch/sd/j/jaimerz/chains/HMC/CMBLensing_masking_false_Nnside_512_ϵ_0.05\"\n",
    "unmasked_muse_path = \"/pscratch/sd/j/jaimerz/chains/MUSE/CMBLensing_masking_false_Nnside_512\"\n",
    "\n",
    "unmasked_no_cosmo_mchmc_path = \"/pscratch/sd/j/jaimerz/chains/MCHMC/CMBLensing_masking_false_no_cosmo_Nnside_512_TEV_0.0001\"\n",
    "unmasked_no_cosmo_hmc_path = \"/pscratch/sd/j/jaimerz/chains/HMC/CMBLensing_masking_false_no_cosmo_Nnside_512_ϵ_0.05\"\n",
    "\n",
    "masked_mchmc_path = \"/pscratch/sd/j/jaimerz/chains/MCHMC/CMBLensing_masking_true_Nside_512_TEV_0.0001\"\n",
    "masked_pp_mchmc_path = \"/pscratch/sd/j/jaimerz/chains/MCHMC/CMBLensing_pp_masking_true_Nside_512_TEV_0.0001\"\n",
    "masked_hmc_path = \"/pscratch/sd/j/jaimerz/chains/HMC/CMBLensing_masking_true_Nnside_512_ϵ_0.05\"\n",
    "masked_muse_path = \"/pscratch/sd/j/jaimerz/chains/MUSE/CMBLensing_masking_true_Nnside_512\"\n",
    "\n",
    "masked_no_cosmo_hmc_path = \"/pscratch/sd/j/jaimerz/chains/HMC/CMBLensing_masking_true_no_cosmo_Nnside_512_ϵ_0.05\"\n",
    "masked_no_cosmo_mchmc_path = \"/pscratch/sd/j/jaimerz/chains/MCHMC/CMBLensing_masking_true_no_cosmo_Nnside_512_TEV_0.0001\"\n",
    "#masked_pp_no_cosmo_mchmc_chain = load(\"../chains/MCHMC/CMBLensing_masked_pp_no_cosmo_Nside_64_TEV_0.0001\", \"samples\")\n",
    ";"
   ]
  },
  {
   "cell_type": "code",
   "execution_count": null,
   "id": "3a402069",
   "metadata": {},
   "outputs": [],
   "source": [
    "unmasked_mchmc_samples = load(unmasked_mchmc_path, \"samples\")\n",
    "unmasked_hmc_samples = load(unmasked_hmc_path, \"_samples_hmc\")\n",
    "unmasked_muse_chain = load(unmasked_muse_path, \"chain_muse\");\n",
    "\n",
    "unmasked_no_cosmo_mchmc_chain = load(unmasked_no_cosmo_mchmc_path, \"samples\");\n",
    "unmasked_no_cosmo_hmc_chain = load(unmasked_no_cosmo_hmc_path, \"_samples_hmc\");"
   ]
  },
  {
   "cell_type": "code",
   "execution_count": null,
   "id": "73576902",
   "metadata": {},
   "outputs": [],
   "source": [
    "masked_mchmc_samples = load(masked_mchmc_path, \"samples\")\n",
    "masked_pp_mchmc_samples = load(masked_pp_mchmc_path, \"samples\")\n",
    "masked_hmc_samples = load(masked_hmc_path, \"_samples_hmc\")\n",
    "masked_muse_chain = load(masked_muse_path, \"chain_muse\");\n",
    "\n",
    "masked_no_cosmo_mchmc_chain = load(masked_no_cosmo_mchmc_path, \"samples\");\n",
    "masked_no_cosmo_hmc_chain = load(masked_no_cosmo_hmc_path, \"_samples_hmc\");"
   ]
  },
  {
   "cell_type": "code",
   "execution_count": null,
   "id": "36c5ff22",
   "metadata": {
    "code_folding": []
   },
   "outputs": [],
   "source": [
    "unmasked_mchmc_chain = make_chain(unmasked_mchmc_samples);\n",
    "masked_mchmc_chain = make_chain(masked_mchmc_samples);\n",
    "masked_pp_mchmc_chain = make_chain(masked_pp_mchmc_samples);"
   ]
  },
  {
   "cell_type": "markdown",
   "id": "14bea90e-04d2-45c4-84f4-881081cf1871",
   "metadata": {},
   "source": [
    "## Unmasked"
   ]
  },
  {
   "cell_type": "code",
   "execution_count": null,
   "id": "ceb8fa72-91bb-41eb-9bcf-30d10f3b543b",
   "metadata": {},
   "outputs": [],
   "source": [
    "plot(\n",
    "    begin\n",
    "        plot(unmasked_mchmc_chain[:r], label=L\"r\", xlabel=\"step\", title=\"MCHMC\")\n",
    "        plot!(unmasked_mchmc_chain[:Aϕ], label=L\"A_\\phi\")\n",
    "    end, \n",
    "    begin\n",
    "        plot(exp.(unmasked_hmc_samples[:, end-1]), label=L\"r\", xlabel=\"step\", title=\"HMC\")\n",
    "        plot!(exp.(unmasked_hmc_samples[:, end]), label=L\"A_\\phi\")\n",
    "    end, \n",
    "    size = (700, 300)\n",
    ")"
   ]
  },
  {
   "cell_type": "code",
   "execution_count": null,
   "id": "d8693fd9-32cf-4f92-b769-86b388a5595c",
   "metadata": {},
   "outputs": [],
   "source": [
    "histogram2d(unmasked_mchmc_chain[:r], unmasked_mchmc_chain[:Aϕ], bins=(20, 20), show_empty_bins=true,\n",
    "    normalize=:pdf, color=:plasma)\n",
    "title!(\"Unmasked - NSIDE=512\")\n",
    "ylabel!(\"Aϕ\")\n",
    "xlabel!(\"r\")"
   ]
  },
  {
   "cell_type": "code",
   "execution_count": null,
   "id": "b6eebef0-e626-4c85-9bfe-f9782eab428f",
   "metadata": {},
   "outputs": [],
   "source": [
    "unmasked_vars = var(unmasked_mchmc_samples, dims=2)[1:d]\n",
    "_unmasked_vars = var(unmasked_mchmc_samples, dims=2)[d+1:2*d];"
   ]
  },
  {
   "cell_type": "code",
   "execution_count": null,
   "id": "8939ae08-c824-488a-b4f7-d006cb5f18bc",
   "metadata": {},
   "outputs": [],
   "source": [
    "unmasked_k = round(maximum(unmasked_vars)/minimum(unmasked_vars), digits=2)\n",
    "_unmasked_k = round(maximum(_unmasked_vars)/minimum(_unmasked_vars), digits=2);"
   ]
  },
  {
   "cell_type": "code",
   "execution_count": null,
   "id": "a3ec7671-1495-413b-9216-38c5fc097075",
   "metadata": {},
   "outputs": [],
   "source": [
    "plot(_unmasked_vars, title=\"Diag(cov) - Unmasked\", label=string(\"Latent space --> K = \", _unmasked_k))\n",
    "plot!(unmasked_vars, label=string(\"Parameter space --> K = \", unmasked_k))"
   ]
  },
  {
   "cell_type": "code",
   "execution_count": null,
   "id": "1cca5580-7128-440d-9732-45dcfab032e9",
   "metadata": {},
   "outputs": [],
   "source": [
    "using CMBLensing: fit, Histogram, Weights\n",
    "_unmasked_vars_q = _unmasked_vars[1:Int((d-2)/3)]\n",
    "_unmasked_vars_u = _unmasked_vars[Int((d-2)/3)+1:Int(2*(d-2)/3)];"
   ]
  },
  {
   "cell_type": "code",
   "execution_count": null,
   "id": "2fd11472-98c7-4b8e-95a2-4b919291779f",
   "metadata": {},
   "outputs": [],
   "source": [
    "hist_vars_q = fit(Histogram, vec(dist_mat), Weights(_unmasked_vars_q), range(0,13,length=20)).weights\n",
    "hist_vars_q ./= fit(Histogram, vec(dist_mat), Weights(ones(length(_unmasked_vars_q))), range(0,13,length=20)).weights\n",
    "hist_vars_u = fit(Histogram, vec(dist_mat), Weights(_unmasked_vars_u), range(0,13,length=20)).weights\n",
    "hist_vars_u ./= fit(Histogram, vec(dist_mat), Weights(ones(length(_unmasked_vars_q))), range(0,13,length=20)).weights\n",
    "plot(0.0:0.6842105263157895:13.0, hist_vars_q, seriestype=:scatter,\n",
    "     xlabel=\"distance to edge\",\n",
    "     ylabel=\"variance of pixel\",\n",
    "     label=\"Q-field\",\n",
    "     title=\"Unmasked\")\n",
    "plot!(0.0:0.6842105263157895:13.0, hist_vars_u, seriestype=:scatter,\n",
    "     xlabel=\"distance to edge\",\n",
    "     ylabel=\"variance of pixel\",\n",
    "     label=\"U-field\")"
   ]
  },
  {
   "cell_type": "markdown",
   "id": "4a228bd4-c29b-4b5f-909d-222e9f8a2540",
   "metadata": {
    "tags": []
   },
   "source": [
    "## Masked"
   ]
  },
  {
   "cell_type": "code",
   "execution_count": null,
   "id": "558982a3-e2a0-420a-b792-3d167e42ea4d",
   "metadata": {},
   "outputs": [],
   "source": [
    "plot(\n",
    "    begin\n",
    "        plot(masked_mchmc_chain[:r], label=L\"r\", xlabel=\"step\", title=\"MCHMC\")\n",
    "        plot!(masked_mchmc_chain[:Aϕ], label=L\"A_\\phi\")\n",
    "    end, \n",
    "    begin\n",
    "        plot(exp.(masked_hmc_samples[:, end-1]), label=L\"r\", xlabel=\"step\", title=\"HMC\")\n",
    "        plot!(exp.(masked_hmc_samples[:, end]), label=L\"A_\\phi\")\n",
    "    end, \n",
    "    size = (700, 300))\n"
   ]
  },
  {
   "cell_type": "code",
   "execution_count": null,
   "id": "6deaf532-7f15-4f71-b14e-e068a5084933",
   "metadata": {},
   "outputs": [],
   "source": [
    "plot(\n",
    "    begin\n",
    "        plot(masked_pp_mchmc_chain[:r], label=L\"r\", xlabel=\"step\", title=\"MCHMC w pp\")\n",
    "        plot!(masked_pp_mchmc_chain[:Aϕ], label=L\"A_\\phi\")\n",
    "    end, \n",
    "    begin\n",
    "        plot(exp.(masked_hmc_samples[:, end-1]), label=L\"r\", xlabel=\"step\", title=\"HMC\")\n",
    "        plot!(exp.(masked_hmc_samples[:, end]), label=L\"A_\\phi\")\n",
    "    end, \n",
    "    size = (700, 300)\n",
    ")"
   ]
  },
  {
   "cell_type": "code",
   "execution_count": null,
   "id": "01f6ee0a-73de-4832-bc3c-987e8fd93606",
   "metadata": {},
   "outputs": [],
   "source": [
    "histogram2d(masked_pp_mchmc_chain[:r], masked_pp_mchmc_chain[:Aϕ], bins=(20, 20), show_empty_bins=true,\n",
    "    normalize=:pdf, color=:plasma)\n",
    "title!(\"Masked - NSIDE=64\")\n",
    "ylabel!(\"Aϕ\")\n",
    "xlabel!(\"r\")"
   ]
  },
  {
   "cell_type": "code",
   "execution_count": null,
   "id": "6ec14fac-9609-451c-8f05-32f26df80ae1",
   "metadata": {},
   "outputs": [],
   "source": [
    "masked_vars = var(masked_mchmc_samples, dims=2)[1:d]\n",
    "_masked_vars = var(masked_mchmc_samples, dims=2)[d+1:2*d];\n",
    "\n",
    "masked_pp_vars = var(masked_pp_mchmc_samples, dims=2)[1:d]\n",
    "_masked_pp_vars = var(masked_pp_mchmc_samples, dims=2)[d+1:2*d];"
   ]
  },
  {
   "cell_type": "code",
   "execution_count": null,
   "id": "70da27ba-8e75-41a8-bb6d-ff95e0e5647c",
   "metadata": {},
   "outputs": [],
   "source": [
    "masked_k = round(maximum(masked_vars)/minimum(masked_vars), digits=2)\n",
    "_masked_k = round(maximum(_masked_vars)/minimum(_masked_vars), digits=2)\n",
    "\n",
    "masked_pp_k = round(maximum(masked_pp_vars)/minimum(masked_pp_vars), digits=2)\n",
    "_masked_pp_k = round(maximum(_masked_pp_vars)/minimum(_masked_pp_vars), digits=2)"
   ]
  },
  {
   "cell_type": "code",
   "execution_count": null,
   "id": "9fe023f4-7264-4850-98ee-821dcf1d1cca",
   "metadata": {},
   "outputs": [],
   "source": [
    "plot(_masked_vars, title=\"Diag(cov) - Masked\", label=string(\"Latent space --> K = \", _masked_k))\n",
    "plot!(masked_vars, label=string(\"Parameter space --> K = \", masked_k))"
   ]
  },
  {
   "cell_type": "code",
   "execution_count": null,
   "id": "1097052f-9077-497d-8757-fcd42fcc6693",
   "metadata": {},
   "outputs": [],
   "source": [
    "plot(_masked_pp_vars, title=\"Diag(cov) - Masked w pp\", label=string(\"Latent space --> K = \", _masked_pp_k))\n",
    "plot!(masked_pp_vars, label=string(\"Parameter space --> K = \", masked_pp_k))"
   ]
  },
  {
   "cell_type": "code",
   "execution_count": null,
   "id": "a25654a1-fe4f-4056-ac6d-ff69940d452a",
   "metadata": {},
   "outputs": [],
   "source": [
    "using CMBLensing: fit, Histogram, Weights\n",
    "_masked_vars_q = _masked_vars[1:Int((d-2)/3)]\n",
    "_masked_vars_u = _masked_vars[Int((d-2)/3)+1:Int(2*(d-2)/3)];\n",
    "\n",
    "_masked_pp_vars_q = _masked_pp_vars[1:Int((d-2)/3)]\n",
    "_masked_pp_vars_u = _masked_pp_vars[Int((d-2)/3)+1:Int(2*(d-2)/3)];"
   ]
  },
  {
   "cell_type": "code",
   "execution_count": null,
   "id": "48e58ae7-32f9-45c1-a96a-c4a961adb569",
   "metadata": {},
   "outputs": [],
   "source": [
    "hist_vars_q = fit(Histogram, vec(dist_mat), Weights(_masked_vars_q), range(0,13,length=20)).weights\n",
    "hist_vars_q ./= fit(Histogram, vec(dist_mat), Weights(ones(length(_masked_vars_q))), range(0,13,length=20)).weights\n",
    "hist_vars_u = fit(Histogram, vec(dist_mat), Weights(_masked_vars_u), range(0,13,length=20)).weights\n",
    "hist_vars_u ./= fit(Histogram, vec(dist_mat), Weights(ones(length(_masked_vars_q))), range(0,13,length=20)).weights\n",
    "plot(0.0:0.6842105263157895:13.0, hist_vars_q, seriestype=:scatter,\n",
    "     xlabel=\"distance to edge\",\n",
    "     ylabel=\"variance of pixel\",\n",
    "     label=\"Q-field\",\n",
    "     title=\"Masked\")\n",
    "plot!(0.0:0.6842105263157895:13.0, hist_vars_u, seriestype=:scatter,\n",
    "     xlabel=\"distance to edge\",\n",
    "     ylabel=\"variance of pixel\",\n",
    "     label=\"U-field\")"
   ]
  },
  {
   "cell_type": "code",
   "execution_count": null,
   "id": "af9336ba-e378-4b52-a827-9f69b36041db",
   "metadata": {},
   "outputs": [],
   "source": [
    "hist_vars_q = fit(Histogram, vec(dist_mat), Weights(_masked_pp_vars_q), range(0,13,length=20)).weights\n",
    "hist_vars_q ./= fit(Histogram, vec(dist_mat), Weights(ones(length(_masked_pp_vars_q))), range(0,13,length=20)).weights\n",
    "hist_vars_u = fit(Histogram, vec(dist_mat), Weights(_masked_pp_vars_u), range(0,13,length=20)).weights\n",
    "hist_vars_u ./= fit(Histogram, vec(dist_mat), Weights(ones(length(_masked_pp_vars_q))), range(0,13,length=20)).weights\n",
    "plot(0.0:0.6842105263157895:13.0, hist_vars_q, seriestype=:scatter,\n",
    "     xlabel=\"distance to edge\",\n",
    "     ylabel=\"variance of pixel\",\n",
    "     label=\"Q-field\",\n",
    "     title=\"Masked w pp\")\n",
    "plot!(0.0:0.6842105263157895:13.0, hist_vars_u, seriestype=:scatter,\n",
    "     xlabel=\"distance to edge\",\n",
    "     ylabel=\"variance of pixel\",\n",
    "     label=\"U-field\")"
   ]
  },
  {
   "cell_type": "markdown",
   "id": "4572e345",
   "metadata": {},
   "source": [
    "## Comp"
   ]
  },
  {
   "cell_type": "code",
   "execution_count": null,
   "id": "c7bf42b5",
   "metadata": {},
   "outputs": [],
   "source": [
    "# Unmasked\n",
    "esspc_unmasked_mchmc = MCMCDiagnosticTools.ess(unmasked_mchmc_chain)[[:r,:Aϕ],:ess]/10_000\n",
    "\n",
    "esss_unmasked_hmc, _ = MicroCanonicalHMC.Summarize(unmasked_hmc_samples[:, end-1:end])\n",
    "esspc_unmasked_hmc = esss_unmasked_hmc ./ (56_000/2)\n",
    "\n",
    "esspc_unmasked_muse = 0.00388\n",
    "\n",
    "# Masked\n",
    "esspc_masked_mchmc = MCMCDiagnosticTools.ess(masked_mchmc_chain)[[:r,:Aϕ],:ess]/10_000\n",
    "esspc_masked_pp_mchmc = MCMCDiagnosticTools.ess(masked_pp_mchmc_chain)[[:r,:Aϕ],:ess]/10_000\n",
    "\n",
    "esss_masked_hmc, _ = MicroCanonicalHMC.Summarize(masked_hmc_samples[:, end-1:end])\n",
    "esspc_masked_hmc = esss_masked_hmc ./ (56_000/2)\n",
    "\n",
    "esspc_masked_muse = 2*0.0016;"
   ]
  },
  {
   "cell_type": "code",
   "execution_count": null,
   "id": "77fe4f8c-0bc7-4668-937e-424172994465",
   "metadata": {},
   "outputs": [],
   "source": [
    "# Unmasked\n",
    "esss_unmasked_no_cosmo_mchmc, _  = MicroCanonicalHMC.Summarize(unmasked_no_cosmo_mchmc_chain)\n",
    "esspc_unmasked_no_cosmo_mchmc = mean(esss_unmasked_no_cosmo_mchmc) ./ 10_000\n",
    "\n",
    "esss_unmasked_no_cosmo_hmc, _  = MicroCanonicalHMC.Summarize(unmasked_no_cosmo_hmc_chain)\n",
    "esspc_unmasked_no_cosmo_hmc = mean(esss_unmasked_no_cosmo_hmc) ./ 28_000\n",
    "\n",
    "# Masked\n",
    "esss_masked_no_cosmo_mchmc, _  = MicroCanonicalHMC.Summarize(masked_no_cosmo_mchmc_chain)\n",
    "esspc_masked_no_cosmo_mchmc = mean(esss_masked_no_cosmo_mchmc) ./ 10_000\n",
    "\n",
    "#esss_masked_pp_no_cosmo_mchmc, _  = MicroCanonicalHMC.Summarize(masked_pp_no_cosmo_mchmc_chain)\n",
    "#esspc_masked_pp_no_cosmo_mchmc = mean(esss_masked_pp_no_cosmo_mchmc) ./ 10_000\n",
    "\n",
    "esss_masked_no_cosmo_hmc, _ = MicroCanonicalHMC.Summarize(masked_no_cosmo_hmc_chain)\n",
    "esspc_masked_no_cosmo_hmc = mean(esss_masked_no_cosmo_hmc) ./ 28_000;"
   ]
  },
  {
   "cell_type": "code",
   "execution_count": null,
   "id": "f4f3f068-d2ce-4b51-84cc-dd24b0d04807",
   "metadata": {},
   "outputs": [],
   "source": [
    "which_ess = minimum # can be: first (r), last (Aphi), or minimum\n",
    "bar([\"HMC\" \"MCHMC\" \"MUSE\"], which_ess.([[esspc_unmasked_hmc./2] [esspc_unmasked_mchmc] [esspc_unmasked_muse]]),\n",
    "     ylabel = \"eff. samples / ∇logP eval\", legend=false, title=\"Unmasked - Nside=512\")"
   ]
  },
  {
   "cell_type": "code",
   "execution_count": null,
   "id": "564e7b44-006f-4acd-89fd-102978f06e4d",
   "metadata": {},
   "outputs": [],
   "source": [
    "which_ess = minimum # can be: first (r), last (Aphi), or minimum\n",
    "bar([\"HMC\" \"MCHMC\" \"MCHMC w pp\" \"MUSE\"], which_ess.([[esspc_masked_hmc] [esspc_masked_mchmc] [esspc_masked_pp_mchmc] [esspc_masked_muse]]),\n",
    "     ylabel = \"eff. samples / ∇logP eval\", legend=false, title=\"Masked - Nside=512\")"
   ]
  },
  {
   "cell_type": "code",
   "execution_count": null,
   "id": "fe2422e3-6467-473e-b83f-22a1326cd3e4",
   "metadata": {},
   "outputs": [],
   "source": [
    "which_ess = minimum # can be: first (r),last (Aphi), or minimum\n",
    "bar([\"HMC\" \"MCHMC\" \"MUSE\"], which_ess.([[esspc_masked_hmc] [esspc_masked_pp_mchmc] [esspc_masked_muse]]),\n",
    "     ylabel = \"eff. samples / ∇logP eval\", legend=false, title=\"Masked - Nside=512\")"
   ]
  },
  {
   "cell_type": "code",
   "execution_count": null,
   "id": "0a26cc51-06be-4713-888e-6984c0beae70",
   "metadata": {},
   "outputs": [],
   "source": [
    "which_ess.([[esspc_masked_hmc] [esspc_masked_pp_mchmc] [esspc_masked_muse]])"
   ]
  },
  {
   "cell_type": "code",
   "execution_count": null,
   "id": "612509dd-4b45-4ac5-9e14-456171653755",
   "metadata": {},
   "outputs": [],
   "source": [
    "which_ess = minimum # can be: first (r), last (Aphi), or minimum\n",
    "bar([\"HMC\" \"MCHMC\"], which_ess.([[esspc_unmasked_no_cosmo_hmc] [[esspc_unmasked_no_cosmo_mchmc]]]),\n",
    "     ylabel = \"eff. samples / ∇logP eval\", legend=false, title=\"Unmasked no cosmo- Nside=64\")"
   ]
  },
  {
   "cell_type": "code",
   "execution_count": null,
   "id": "56d6ccab-9f9e-4458-a5da-bbb0f5bdf276",
   "metadata": {},
   "outputs": [],
   "source": [
    "which_ess = minimum # can be: first (r), last (Aphi), or minimum\n",
    "bar([\"HMC\" \"MCHMC\"], which_ess.([[esspc_unmasked_no_cosmo_hmc] [[esspc_unmasked_no_cosmo_mchmc]]]),\n",
    "     ylabel = \"eff. samples / ∇logP eval\", legend=false, title=\"Unmasked no cosmo- Nside=64\")"
   ]
  },
  {
   "cell_type": "code",
   "execution_count": null,
   "id": "150f40d8-2f77-4b65-8522-76e652dad256",
   "metadata": {},
   "outputs": [],
   "source": [
    "which_ess = minimum # can be: first (r), last (Aphi), or minimum\n",
    "bar([\"HMC\" \"MCHMC\" \"MCHMC w pp\"], which_ess.([[esspc_masked_no_cosmo_hmc] [esspc_masked_no_cosmo_mchmc] [esspc_masked_no_cosmo_mchmc]]),\n",
    "     ylabel = \"eff. samples / ∇logP eval\", legend=false, title=\"Masked no cosmo- Nside=64\")"
   ]
  },
  {
   "cell_type": "code",
   "execution_count": null,
   "id": "f2e81af8-b946-4ddd-b5cf-39c94643cfdc",
   "metadata": {},
   "outputs": [],
   "source": [
    "plot(\n",
    "    begin\n",
    "        histogram(unmasked_hmc_samples[:, end-1], normalize=:pdf, alpha=0.5, bins=range(-4,0,length=40), label=\"HMC\", xlabel=\"r\")\n",
    "        histogram!(log.(unmasked_mchmc_chain[:r]), normalize=:pdf, alpha=0.5, bins=range(-4,0,length=40), label=\"MCHMC\")\n",
    "        histogram!(unmasked_muse_chain[:logr], normalize=:pdf, alpha=0.5, bins=range(-4,0,length=40), label=\"MUSE\")\n",
    "        #vline!([prob.Ωtrue.θ.r], c=4, lw=3, label=\"Truth\")\n",
    "    end, \n",
    "    begin\n",
    "        histogram(unmasked_hmc_samples[:, end], normalize=:pdf, alpha=0.5, bins=range(-0.6,0.6,length=40), label=\"HMC\", xlabel=\"Aϕ\")\n",
    "        histogram!(log.(unmasked_mchmc_chain[:Aϕ]), normalize=:pdf, alpha=0.5, bins=range(-0.6,0.6,length=40), label=\"MCHMC\")\n",
    "        histogram!(unmasked_muse_chain[:logAϕ], normalize=:pdf, alpha=0.5, bins=range(-0.6,0.6,length=40), label=\"MUSE\")\n",
    "        #vline!([prob.Ωtrue.θ.Aϕ], c=4, lw=3, label=\"Truth\")\n",
    "    end, \n",
    "    size = (700, 300),\n",
    "    title=\"Unmasked - Nside=512\")"
   ]
  },
  {
   "cell_type": "code",
   "execution_count": null,
   "id": "aa16b911-e7ba-4360-a2da-b095144e0a69",
   "metadata": {},
   "outputs": [],
   "source": [
    "plot(\n",
    "    begin\n",
    "        histogram(masked_hmc_samples[:, end-1], normalize=:pdf, alpha=0.5, bins=range(-4,0,length=40), label=\"HMC\", xlabel=\"r\")\n",
    "        #histogram!(log.(masked_mchmc_chain[:r]), normalize=:pdf, alpha=0.5, bins=range(-4,0,length=40), label=\"MCHMC\")\n",
    "        histogram!(log.(masked_pp_mchmc_chain[:r]), normalize=:pdf, alpha=0.5, bins=range(-4,0,length=40), label=\"MCHMC\")\n",
    "        histogram!(masked_muse_chain[:logr], normalize=:pdf, alpha=0.5, bins=range(-4,0,length=40), label=\"MUSE\")\n",
    "        #vline!([prob.Ωtrue.θ.r], c=4, lw=3, label=\"Truth\")\n",
    "    end, \n",
    "    begin\n",
    "        histogram(masked_hmc_samples[:, end], normalize=:pdf, alpha=0.5, bins=range(-0.6,0.6,length=40), label=\"HMC\", xlabel=\"Aϕ\")\n",
    "        #histogram!(log.(masked_mchmc_chain[:Aϕ]), normalize=:pdf, alpha=0.5, bins=range(-0.6,0.6,length=40), label=\"MCHMC\")\n",
    "        histogram!(log.(masked_pp_mchmc_chain[:Aϕ]), normalize=:pdf, alpha=0.5, bins=range(-0.6,0.6,length=40), label=\"MCHMC\")\n",
    "        histogram!(masked_muse_chain[:logAϕ], normalize=:pdf, alpha=0.5, bins=range(-0.6,0.6,length=40), label=\"MUSE\")\n",
    "        #vline!([prob.Ωtrue.θ.Aϕ], c=4, lw=3, label=\"Truth\")\n",
    "    end, \n",
    "    size = (700, 300),\n",
    "    title=\"Nside=512\")"
   ]
  },
  {
   "cell_type": "code",
   "execution_count": null,
   "id": "dcb816be-85c3-49fe-ad09-b05ba03d3d61",
   "metadata": {},
   "outputs": [],
   "source": []
  }
 ],
 "metadata": {
  "kernelspec": {
   "display_name": "Julia 1.9.0-rc2",
   "language": "julia",
   "name": "julia-1.9"
  },
  "language_info": {
   "file_extension": ".jl",
   "mimetype": "application/julia",
   "name": "julia",
   "version": "1.9.0"
  }
 },
 "nbformat": 4,
 "nbformat_minor": 5
}
