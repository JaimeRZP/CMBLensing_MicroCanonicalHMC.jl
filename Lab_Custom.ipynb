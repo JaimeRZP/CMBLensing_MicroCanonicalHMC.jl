{
 "cells": [
  {
   "cell_type": "markdown",
   "id": "91129cb1",
   "metadata": {},
   "source": [
    "# Custom Target Practice"
   ]
  },
  {
   "cell_type": "markdown",
   "id": "97121235",
   "metadata": {},
   "source": [
    "## Model"
   ]
  },
  {
   "cell_type": "code",
   "execution_count": 1,
   "id": "657318d7",
   "metadata": {},
   "outputs": [
    {
     "name": "stderr",
     "output_type": "stream",
     "text": [
      "\u001b[32m\u001b[1m  Activating\u001b[22m\u001b[39m project at `~/julia_repos/CMBLensingInferenceTestProblem`\n"
     ]
    }
   ],
   "source": [
    "] activate \"/home/jaimerz/julia_repos/CMBLensingInferenceTestProblem\""
   ]
  },
  {
   "cell_type": "code",
   "execution_count": 2,
   "id": "baed58e3",
   "metadata": {},
   "outputs": [],
   "source": [
    "# The statistical inference frame-work we will use\n",
    "using MCHMC\n",
    "using Interpolations\n",
    "using ForwardDiff\n",
    "using LinearAlgebra\n",
    "using Distributions\n",
    "using ForwardDiff\n",
    "using PyPlot"
   ]
  },
  {
   "cell_type": "code",
   "execution_count": 3,
   "id": "a7d6f81c",
   "metadata": {},
   "outputs": [],
   "source": [
    "fs8_zs = [0.38, 0.51, 0.61, 1.48, 0.44, 0.6, 0.73, 0.6, 0.86, 0.067, 1.4]\n",
    "fs8_data = [0.49749, 0.457523, 0.436148, 0.462, 0.413, 0.39, 0.437, 0.55, 0.4, 0.423, 0.482]\n",
    "fs8_cov = [0.00203355 0.000811829 0.000264615 0.0 0.0 0.0 0.0 0.0 0.0 0.0 0.0;\n",
    "           0.000811829 0.00142289 0.000662824 0.0 0.0 0.0 0.0 0.0 0.0 0.0 0.0; \n",
    "           0.000264615 0.000662824 0.00118576 0.0 0.0 0.0 0.0 0.0 0.0 0.0 0.0;\n",
    "           0.0 0.0 0.0 0.002025 0.0 0.0 0.0 0.0 0.0 0.0 0.0;\n",
    "           0.0 0.0 0.0 0.0 0.0064 0.00257 0.0 0.0 0.0 0.0 0.0;\n",
    "           0.0 0.0 0.0 0.0 0.00257 0.003969 0.00254 0.0 0.0 0.0 0.0;\n",
    "           0.0 0.0 0.0 0.0 0.0 0.00254 0.005184 0.0 0.0 0.0 0.0;\n",
    "           0.0 0.0 0.0 0.0 0.0 0.0 0.0 0.0144 0.0 0.0 0.0;\n",
    "           0.0 0.0 0.0 0.0 0.0 0.0 0.0 0.0 0.0121 0.0 0.0; \n",
    "           0.0 0.0 0.0 0.0 0.0 0.0 0.0 0.0 0.0 0.003025 0.0;\n",
    "           0.0 0.0 0.0 0.0 0.0 0.0 0.0 0.0 0.0 0.0 0.013456000000000001];"
   ]
  },
  {
   "cell_type": "code",
   "execution_count": 4,
   "id": "1359a630",
   "metadata": {
    "code_folding": []
   },
   "outputs": [
    {
     "data": {
      "text/plain": [
       "make_fs8 (generic function with 1 method)"
      ]
     },
     "execution_count": 4,
     "metadata": {},
     "output_type": "execute_result"
    }
   ],
   "source": [
    "function make_fs8(Ωm, σ8; Ωr=8.24*10^-5)\n",
    "    # ODE solution for growth factor\n",
    "    x_Dz = LinRange(0, log(1+1100), 300)\n",
    "    dx_Dz = x_Dz[2]-x_Dz[1]\n",
    "    z_Dz = @.(exp(x_Dz) - 1)\n",
    "    a_Dz = @.(1/(1+z_Dz))\n",
    "    aa = reverse(a_Dz)\n",
    "    e =  @.(sqrt.(abs(Ωm)*(1+z_Dz)^3+Ωr*(1+z_Dz)^4+(1-Ωm-Ωr)))\n",
    "    ee = reverse(e)\n",
    "\n",
    "    dd = zeros(typeof(Ωm), 300)\n",
    "    yy = zeros(typeof(Ωm), 300)\n",
    "    dd[1] = aa[1]\n",
    "    yy[1] = aa[1]^3*ee[end]\n",
    "\n",
    "    for i in 1:(300-1)\n",
    "        A0 = -1.5 * Ωm / (aa[i]*ee[i])\n",
    "        B0 = -1. / (aa[i]^2*ee[i])\n",
    "        A1 = -1.5 * Ωm / (aa[i+1]*ee[i+1])\n",
    "        B1 = -1. / (aa[i+1]^2*ee[i+1])\n",
    "        yy[i+1] = (1+0.5*dx_Dz^2*A0*B0)*yy[i] + 0.5*(A0+A1)*dx_Dz*dd[i]\n",
    "        dd[i+1] = 0.5*(B0+B1)*dx_Dz*yy[i] + (1+0.5*dx_Dz^2*A0*B0)*dd[i]\n",
    "    end\n",
    "\n",
    "    y = reverse(yy)\n",
    "    d = reverse(dd)\n",
    "\n",
    "    Dzi = linear_interpolation(z_Dz, d./d[1], extrapolation_bc=Line())\n",
    "    fs8zi = linear_interpolation(z_Dz, -σ8 .* y./ (a_Dz.^2 .*e.*d[1]),\n",
    "                                 extrapolation_bc=Line())\n",
    "    return fs8zi\n",
    "end"
   ]
  },
  {
   "cell_type": "code",
   "execution_count": 5,
   "id": "40753152",
   "metadata": {},
   "outputs": [],
   "source": [
    "using Turing\n",
    "@model function model(data; cov = fs8_cov) \n",
    "    # Define priors\n",
    "    #KiDS priors\n",
    "    Ωm ~ Normal(0.3, 0.1) # ~ Uniform(0.1, 0.9) \n",
    "    σ8 ~ Normal(0.8, 0.3)\n",
    "    fs8_itp = make_fs8(Ωm, σ8)\n",
    "    theory = fs8_itp(fs8_zs)\n",
    "    data ~ MvNormal(theory, cov)\n",
    "end;"
   ]
  },
  {
   "cell_type": "code",
   "execution_count": 6,
   "id": "1743ba00",
   "metadata": {},
   "outputs": [
    {
     "data": {
      "text/plain": [
       "2-element Vector{Distribution{Univariate, Continuous}}:\n",
       " Uniform{Float64}(a=0.1, b=0.4)\n",
       " Normal{Float64}(μ=0.8, σ=0.3)"
      ]
     },
     "execution_count": 6,
     "metadata": {},
     "output_type": "execute_result"
    }
   ],
   "source": [
    "priors = [Uniform(0.1, 0.4), Normal(0.8, 0.3)]"
   ]
  },
  {
   "cell_type": "code",
   "execution_count": 7,
   "id": "8005e277",
   "metadata": {},
   "outputs": [
    {
     "data": {
      "text/plain": [
       "grad_nlogp (generic function with 1 method)"
      ]
     },
     "execution_count": 7,
     "metadata": {},
     "output_type": "execute_result"
    }
   ],
   "source": [
    "function nlogp(pars; priors=priors, data=fs8_data, inv_cov = inv(fs8_cov)) \n",
    "    # Define priors\n",
    "    #KiDS priors\n",
    "    Ωm, σ8 = pars\n",
    "    fs8_itp = make_fs8(Ωm, σ8)\n",
    "    theory = fs8_itp(fs8_zs)\n",
    "    diff = abs.(theory.-data)\n",
    "    Xi2 = dot(diff, inv_cov * diff)\n",
    "    logprior = 0\n",
    "    for (par, prior) in zip(pars, priors)\n",
    "        logprior += logpdf(prior, par)\n",
    "    end\n",
    "    return -(-0.5 * Xi2 + logprior)\n",
    "end;\n",
    "\n",
    "function grad_nlogp(pars)\n",
    "    return ForwardDiff.gradient(nlogp, pars)\n",
    "end\n",
    "    "
   ]
  },
  {
   "cell_type": "markdown",
   "id": "10dfa4cc",
   "metadata": {},
   "source": [
    "## Sampling"
   ]
  },
  {
   "cell_type": "code",
   "execution_count": 14,
   "id": "c8ed14a3",
   "metadata": {},
   "outputs": [],
   "source": [
    "target = CustomTarget(nlogp, grad_nlogp, priors);"
   ]
  },
  {
   "cell_type": "code",
   "execution_count": 15,
   "id": "a79c2b35",
   "metadata": {},
   "outputs": [],
   "source": [
    "eps=0.005\n",
    "L=sqrt(2)\n",
    "spl = Sampler(eps=eps, L=L);"
   ]
  },
  {
   "cell_type": "code",
   "execution_count": 16,
   "id": "82938e27",
   "metadata": {},
   "outputs": [
    {
     "ename": "LoadError",
     "evalue": "UndefVarError: `linear_interpolation` not defined",
     "output_type": "error",
     "traceback": [
      "UndefVarError: `linear_interpolation` not defined",
      "",
      "Stacktrace:",
      "  [1] make_fs8(Ωm::ForwardDiff.Dual{ForwardDiff.Tag{typeof(nlogp), Float64}, Float64, 2}, σ8::ForwardDiff.Dual{ForwardDiff.Tag{typeof(nlogp), Float64}, Float64, 2}; Ωr::Float64)",
      "    @ Main ./In[4]:28",
      "  [2] make_fs8",
      "    @ ./In[4]:1 [inlined]",
      "  [3] nlogp(pars::Vector{ForwardDiff.Dual{ForwardDiff.Tag{typeof(nlogp), Float64}, Float64, 2}}; priors::Vector{Distribution{Univariate, Continuous}}, data::Vector{Float64}, inv_cov::Matrix{Float64})",
      "    @ Main ./In[7]:5",
      "  [4] nlogp(pars::Vector{ForwardDiff.Dual{ForwardDiff.Tag{typeof(nlogp), Float64}, Float64, 2}})",
      "    @ Main ./In[7]:1",
      "  [5] vector_mode_dual_eval!",
      "    @ ~/.julia/packages/ForwardDiff/QdStj/src/apiutils.jl:37 [inlined]",
      "  [6] vector_mode_gradient(f::typeof(nlogp), x::Vector{Float64}, cfg::ForwardDiff.GradientConfig{ForwardDiff.Tag{typeof(nlogp), Float64}, Float64, 2, Vector{ForwardDiff.Dual{ForwardDiff.Tag{typeof(nlogp), Float64}, Float64, 2}}})",
      "    @ ForwardDiff ~/.julia/packages/ForwardDiff/QdStj/src/gradient.jl:106",
      "  [7] gradient(f::Function, x::Vector{Float64}, cfg::ForwardDiff.GradientConfig{ForwardDiff.Tag{typeof(nlogp), Float64}, Float64, 2, Vector{ForwardDiff.Dual{ForwardDiff.Tag{typeof(nlogp), Float64}, Float64, 2}}}, ::Val{true})",
      "    @ ForwardDiff ~/.julia/packages/ForwardDiff/QdStj/src/gradient.jl:19",
      "  [8] gradient(f::Function, x::Vector{Float64}, cfg::ForwardDiff.GradientConfig{ForwardDiff.Tag{typeof(nlogp), Float64}, Float64, 2, Vector{ForwardDiff.Dual{ForwardDiff.Tag{typeof(nlogp), Float64}, Float64, 2}}})",
      "    @ ForwardDiff ~/.julia/packages/ForwardDiff/QdStj/src/gradient.jl:17",
      "  [9] gradient(f::Function, x::Vector{Float64})",
      "    @ ForwardDiff ~/.julia/packages/ForwardDiff/QdStj/src/gradient.jl:17",
      " [10] grad_nlogp(pars::Vector{Float64})",
      "    @ Main ./In[7]:17",
      " [11] Get_initial_conditions(sampler::Sampler, target::CustomTarget; kwargs::Base.Pairs{Symbol, Union{}, Tuple{}, NamedTuple{(), Tuple{}}})",
      "    @ MCHMC ~/.julia/packages/MCHMC/hUw1y/src/sampler.jl:115",
      " [12] Get_initial_conditions",
      "    @ ~/.julia/packages/MCHMC/hUw1y/src/sampler.jl:110 [inlined]",
      " [13] Sample(sampler::Sampler, target::CustomTarget; kwargs::Base.Pairs{Symbol, Int64, Tuple{Symbol}, NamedTuple{(:num_steps,), Tuple{Int64}}})",
      "    @ MCHMC ~/.julia/packages/MCHMC/hUw1y/src/sampler.jl:160",
      " [14] kwcall(::NamedTuple{(:num_steps,), Tuple{Int64}}, ::typeof(Sample), sampler::Sampler, target::CustomTarget)",
      "    @ MCHMC ~/.julia/packages/MCHMC/hUw1y/src/sampler.jl:151",
      " [15] top-level scope",
      "    @ In[16]:1"
     ]
    }
   ],
   "source": [
    "samples = Sample(spl, target; num_steps=10000);"
   ]
  },
  {
   "cell_type": "markdown",
   "id": "ee35a9d5",
   "metadata": {},
   "source": [
    "## Plotting"
   ]
  },
  {
   "cell_type": "code",
   "execution_count": 12,
   "id": "385a8b1a",
   "metadata": {},
   "outputs": [
    {
     "ename": "LoadError",
     "evalue": "UndefVarError: `samples` not defined",
     "output_type": "error",
     "traceback": [
      "UndefVarError: `samples` not defined",
      "",
      "Stacktrace:",
      " [1] top-level scope",
      "   @ In[12]:1"
     ]
    }
   ],
   "source": [
    "Wms = [sample[1] for sample in samples]\n",
    "s8s = [sample[2] for sample in samples];"
   ]
  },
  {
   "cell_type": "code",
   "execution_count": 13,
   "id": "2a803eb8",
   "metadata": {},
   "outputs": [
    {
     "ename": "LoadError",
     "evalue": "UndefVarError: `Wms` not defined",
     "output_type": "error",
     "traceback": [
      "UndefVarError: `Wms` not defined",
      "",
      "Stacktrace:",
      " [1] top-level scope",
      "   @ In[13]:1"
     ]
    }
   ],
   "source": [
    "plt.hist2d(Wms, s8s, bins=100, range=[[0.1, 0.4],[0.6, 1.2]])\n",
    "plt.xlabel(\"Wm\")\n",
    "plt.ylabel(\"s8\")\n",
    "plt.title(\"Custom Target\");"
   ]
  },
  {
   "cell_type": "code",
   "execution_count": null,
   "id": "74f90e7f",
   "metadata": {},
   "outputs": [],
   "source": []
  },
  {
   "cell_type": "code",
   "execution_count": null,
   "id": "be6645e6",
   "metadata": {},
   "outputs": [],
   "source": []
  }
 ],
 "metadata": {
  "kernelspec": {
   "display_name": "Julia 1.9.0-beta3",
   "language": "julia",
   "name": "julia-1.9"
  },
  "language_info": {
   "file_extension": ".jl",
   "mimetype": "application/julia",
   "name": "julia",
   "version": "1.9.0"
  }
 },
 "nbformat": 4,
 "nbformat_minor": 5
}
