{
 "cells": [
  {
   "cell_type": "markdown",
   "id": "91129cb1",
   "metadata": {},
   "source": [
    "# Lab CMBLenses"
   ]
  },
  {
   "cell_type": "markdown",
   "id": "97121235",
   "metadata": {},
   "source": [
    "## Model"
   ]
  },
  {
   "cell_type": "code",
   "execution_count": 1,
   "id": "71684d25",
   "metadata": {},
   "outputs": [
    {
     "name": "stderr",
     "output_type": "stream",
     "text": [
      "\u001b[32m\u001b[1m  Activating\u001b[22m\u001b[39m project at `~/julia_repos/CMBLensingInferenceTestProblem`\n"
     ]
    }
   ],
   "source": [
    "] activate \"/home/jaimerz/julia_repos/CMBLensingInferenceTestProblem\""
   ]
  },
  {
   "cell_type": "code",
   "execution_count": 2,
   "id": "baed58e3",
   "metadata": {},
   "outputs": [],
   "source": [
    "using CMBLensing, CMBLensingInferenceTestProblem\n",
    "using CUDA, LaTeXStrings, MCMCDiagnosticTools, Plots, ProgressMeter, Random, Zygote\n",
    "using LinearAlgebra, Statistics\n",
    "ENV[\"LINES\"] = 10;"
   ]
  },
  {
   "cell_type": "code",
   "execution_count": 3,
   "id": "b80d1a9e",
   "metadata": {},
   "outputs": [],
   "source": [
    "using Revise\n",
    "using MCHMC"
   ]
  },
  {
   "cell_type": "code",
   "execution_count": null,
   "id": "a7d6f81c",
   "metadata": {},
   "outputs": [
    {
     "name": "stderr",
     "output_type": "stream",
     "text": [
      "\r",
      "\u001b[32mMAP_joint:   0%|                                        |  ETA: N/A\u001b[39m"
     ]
    }
   ],
   "source": [
    "prob = load_cmb_lensing_problem(storage = Array,\n",
    "                                T = Float32,\n",
    "                                Nside = 4);"
   ]
  },
  {
   "cell_type": "code",
   "execution_count": null,
   "id": "cf9d88ae",
   "metadata": {},
   "outputs": [],
   "source": [
    "target = CMBLensingTarget(prob)"
   ]
  },
  {
   "cell_type": "markdown",
   "id": "d87fca8f",
   "metadata": {},
   "source": [
    "## Sample"
   ]
  },
  {
   "cell_type": "code",
   "execution_count": null,
   "id": "1359a630",
   "metadata": {
    "code_folding": []
   },
   "outputs": [],
   "source": [
    "eps=0.00000001\n",
    "L=sqrt(target.d)\n",
    "spl=Sampler(;eps=eps, L=L)"
   ]
  },
  {
   "cell_type": "code",
   "execution_count": null,
   "id": "7e02e56f",
   "metadata": {},
   "outputs": [],
   "source": [
    "init = MCHMC.Get_initial_conditions(spl, target)\n",
    "x, u, g, r, time = init"
   ]
  },
  {
   "cell_type": "code",
   "execution_count": null,
   "id": "a1a244e8",
   "metadata": {},
   "outputs": [],
   "source": [
    "x = target.prior_draw(0.0)\n",
    "g = target.grad_nlogp(x) #.* target.d ./ (target.d - 1)"
   ]
  },
  {
   "cell_type": "code",
   "execution_count": 64,
   "id": "87a17717",
   "metadata": {},
   "outputs": [
    {
     "data": {
      "text/plain": [
       "50-element Field-(f°,ϕ°,θ)-Tuple{LambertQUMap{Array{Float32, 3}}, LambertMap{Array{Float32, 2}}, ComponentArrays.ComponentVector{Float64, Vector{Float64}, Tuple{ComponentArrays.Axis{(r = 1, Aϕ = 2)}}}}:\n",
       "   0.0\n",
       "   0.0\n",
       "   0.0\n",
       "   ⋮\n",
       " -Inf\n",
       " -Inf"
      ]
     },
     "execution_count": 64,
     "metadata": {},
     "output_type": "execute_result"
    }
   ],
   "source": [
    "g"
   ]
  },
  {
   "cell_type": "code",
   "execution_count": 63,
   "id": "eb130f06",
   "metadata": {},
   "outputs": [
    {
     "ename": "LoadError",
     "evalue": "MethodError: no method matching ForwardDiff.Dual{ForwardDiff.Tag{MCHMC.var\"#nlogp#68\"{CMBLensingInferenceTestProblem.CMBLensingLogDensityProblem}, Float64}, Float64, 10}(::Float32, ::ForwardDiff.Partials{10, Float64})\n\n\u001b[0mClosest candidates are:\n\u001b[0m  ForwardDiff.Dual{T, V, N}(::Number) where {T, V, N}\n\u001b[0m\u001b[90m   @\u001b[39m \u001b[35mForwardDiff\u001b[39m \u001b[90m~/.julia/packages/ForwardDiff/QdStj/src/\u001b[39m\u001b[90m\u001b[4mdual.jl:78\u001b[24m\u001b[39m\n\u001b[0m  ForwardDiff.Dual{T, V, N}(::V, \u001b[91m::ForwardDiff.Partials{N, V}\u001b[39m) where {T, V, N}\n\u001b[0m\u001b[90m   @\u001b[39m \u001b[35mForwardDiff\u001b[39m \u001b[90m~/.julia/packages/ForwardDiff/QdStj/src/\u001b[39m\u001b[90m\u001b[4mdual.jl:17\u001b[24m\u001b[39m\n\u001b[0m  ForwardDiff.Dual{T, V, N}(::Any) where {T, V, N}\n\u001b[0m\u001b[90m   @\u001b[39m \u001b[35mForwardDiff\u001b[39m \u001b[90m~/.julia/packages/ForwardDiff/QdStj/src/\u001b[39m\u001b[90m\u001b[4mdual.jl:77\u001b[24m\u001b[39m\n",
     "output_type": "error",
     "traceback": [
      "MethodError: no method matching ForwardDiff.Dual{ForwardDiff.Tag{MCHMC.var\"#nlogp#68\"{CMBLensingInferenceTestProblem.CMBLensingLogDensityProblem}, Float64}, Float64, 10}(::Float32, ::ForwardDiff.Partials{10, Float64})\n\n\u001b[0mClosest candidates are:\n\u001b[0m  ForwardDiff.Dual{T, V, N}(::Number) where {T, V, N}\n\u001b[0m\u001b[90m   @\u001b[39m \u001b[35mForwardDiff\u001b[39m \u001b[90m~/.julia/packages/ForwardDiff/QdStj/src/\u001b[39m\u001b[90m\u001b[4mdual.jl:78\u001b[24m\u001b[39m\n\u001b[0m  ForwardDiff.Dual{T, V, N}(::V, \u001b[91m::ForwardDiff.Partials{N, V}\u001b[39m) where {T, V, N}\n\u001b[0m\u001b[90m   @\u001b[39m \u001b[35mForwardDiff\u001b[39m \u001b[90m~/.julia/packages/ForwardDiff/QdStj/src/\u001b[39m\u001b[90m\u001b[4mdual.jl:17\u001b[24m\u001b[39m\n\u001b[0m  ForwardDiff.Dual{T, V, N}(::Any) where {T, V, N}\n\u001b[0m\u001b[90m   @\u001b[39m \u001b[35mForwardDiff\u001b[39m \u001b[90m~/.julia/packages/ForwardDiff/QdStj/src/\u001b[39m\u001b[90m\u001b[4mdual.jl:77\u001b[24m\u001b[39m\n",
      "",
      "Stacktrace:",
      "  [1] _broadcast_getindex_evalf",
      "    @ ./broadcast.jl:683 [inlined]",
      "  [2] _broadcast_getindex",
      "    @ ./broadcast.jl:656 [inlined]",
      "  [3] getindex",
      "    @ ./broadcast.jl:610 [inlined]",
      "  [4] macro expansion",
      "    @ ./broadcast.jl:974 [inlined]",
      "  [5] macro expansion",
      "    @ ./simdloop.jl:77 [inlined]",
      "  [6] copyto!",
      "    @ ./broadcast.jl:973 [inlined]",
      "  [7] copyto!",
      "    @ ./broadcast.jl:926 [inlined]",
      "  [8] materialize!",
      "    @ ./broadcast.jl:884 [inlined]",
      "  [9] materialize!",
      "    @ ./broadcast.jl:881 [inlined]",
      " [10] materialize!(dst::LambertQUMap{Array{ForwardDiff.Dual{ForwardDiff.Tag{MCHMC.var\"#nlogp#68\"{CMBLensingInferenceTestProblem.CMBLensingLogDensityProblem}, Float64}, Float64, 10}, 3}}, bc::Base.Broadcast.Broadcasted{CMBLensing.BaseFieldStyle{Base.Broadcast.DefaultArrayStyle{3}, QUMap}, Nothing, Type{ForwardDiff.Dual{ForwardDiff.Tag{MCHMC.var\"#nlogp#68\"{CMBLensingInferenceTestProblem.CMBLensingLogDensityProblem}, Float64}, Float64, 10}}, Tuple{LambertQUMap{Array{Float32, 3}}, Base.RefValue{ForwardDiff.Partials{10, Float64}}}})",
      "    @ CMBLensing ~/.julia/packages/CMBLensing/Nv3G8/src/base_fields.jl:104",
      " [11] macro expansion",
      "    @ ~/.julia/packages/CMBLensing/Nv3G8/src/field_tuples.jl:73 [inlined]",
      " [12] materialize!(dst::Field-(f°,ϕ°,θ)-Tuple{LambertQUMap{Array{ForwardDiff.Dual{ForwardDiff.Tag{MCHMC.var\"#nlogp#68\"{CMBLensingInferenceTestProblem.CMBLensingLogDensityProblem}, Float64}, Float64, 10}, 3}}, LambertMap{Array{ForwardDiff.Dual{ForwardDiff.Tag{MCHMC.var\"#nlogp#68\"{CMBLensingInferenceTestProblem.CMBLensingLogDensityProblem}, Float64}, Float64, 10}, 2}}, ComponentArrays.ComponentVector{ForwardDiff.Dual{ForwardDiff.Tag{MCHMC.var\"#nlogp#68\"{CMBLensingInferenceTestProblem.CMBLensingLogDensityProblem}, Float64}, Float64, 10}, Vector{ForwardDiff.Dual{ForwardDiff.Tag{MCHMC.var\"#nlogp#68\"{CMBLensingInferenceTestProblem.CMBLensingLogDensityProblem}, Float64}, Float64, 10}}, Tuple{ComponentArrays.Axis{(r = 1, Aϕ = 2)}}}}, bc::Base.Broadcast.Broadcasted{CMBLensing.FieldTupleStyle{Tuple{CMBLensing.BaseFieldStyle{Base.Broadcast.DefaultArrayStyle{3}, QUMap}, CMBLensing.BaseFieldStyle{Base.Broadcast.DefaultArrayStyle{2}, Map}, Base.Broadcast.DefaultArrayStyle{1}}, (:f°, :ϕ°, :θ)}, Nothing, Type{ForwardDiff.Dual{ForwardDiff.Tag{MCHMC.var\"#nlogp#68\"{CMBLensingInferenceTestProblem.CMBLensingLogDensityProblem}, Float64}, Float64, 10}}, Tuple{Field-(f°,ϕ°,θ)-Tuple{LambertQUMap{Array{Float32, 3}}, LambertMap{Array{Float32, 2}}, ComponentArrays.ComponentVector{Float64, Vector{Float64}, Tuple{ComponentArrays.Axis{(r = 1, Aϕ = 2)}}}}, Base.RefValue{ForwardDiff.Partials{10, Float64}}}})",
      "    @ CMBLensing ~/.julia/packages/CMBLensing/Nv3G8/src/field_tuples.jl:69",
      " [13] seed! (repeats 2 times)",
      "    @ ~/.julia/packages/ForwardDiff/QdStj/src/apiutils.jl:58 [inlined]",
      " [14] chunk_mode_gradient(f::MCHMC.var\"#nlogp#68\"{CMBLensingInferenceTestProblem.CMBLensingLogDensityProblem}, x::Field-(f°,ϕ°,θ)-Tuple{LambertQUMap{Array{Float32, 3}}, LambertMap{Array{Float32, 2}}, ComponentArrays.ComponentVector{Float64, Vector{Float64}, Tuple{ComponentArrays.Axis{(r = 1, Aϕ = 2)}}}}, cfg::ForwardDiff.GradientConfig{ForwardDiff.Tag{MCHMC.var\"#nlogp#68\"{CMBLensingInferenceTestProblem.CMBLensingLogDensityProblem}, Float64}, Float64, 10, Field-(f°,ϕ°,θ)-Tuple{LambertQUMap{Array{ForwardDiff.Dual{ForwardDiff.Tag{MCHMC.var\"#nlogp#68\"{CMBLensingInferenceTestProblem.CMBLensingLogDensityProblem}, Float64}, Float64, 10}, 3}}, LambertMap{Array{ForwardDiff.Dual{ForwardDiff.Tag{MCHMC.var\"#nlogp#68\"{CMBLensingInferenceTestProblem.CMBLensingLogDensityProblem}, Float64}, Float64, 10}, 2}}, ComponentArrays.ComponentVector{ForwardDiff.Dual{ForwardDiff.Tag{MCHMC.var\"#nlogp#68\"{CMBLensingInferenceTestProblem.CMBLensingLogDensityProblem}, Float64}, Float64, 10}, Vector{ForwardDiff.Dual{ForwardDiff.Tag{MCHMC.var\"#nlogp#68\"{CMBLensingInferenceTestProblem.CMBLensingLogDensityProblem}, Float64}, Float64, 10}}, Tuple{ComponentArrays.Axis{(r = 1, Aϕ = 2)}}}}})",
      "    @ ForwardDiff ~/.julia/packages/ForwardDiff/QdStj/src/gradient.jl:146",
      " [15] gradient(f::Function, x::Field-(f°,ϕ°,θ)-Tuple{LambertQUMap{Array{Float32, 3}}, LambertMap{Array{Float32, 2}}, ComponentArrays.ComponentVector{Float64, Vector{Float64}, Tuple{ComponentArrays.Axis{(r = 1, Aϕ = 2)}}}}, cfg::ForwardDiff.GradientConfig{ForwardDiff.Tag{MCHMC.var\"#nlogp#68\"{CMBLensingInferenceTestProblem.CMBLensingLogDensityProblem}, Float64}, Float64, 10, Field-(f°,ϕ°,θ)-Tuple{LambertQUMap{Array{ForwardDiff.Dual{ForwardDiff.Tag{MCHMC.var\"#nlogp#68\"{CMBLensingInferenceTestProblem.CMBLensingLogDensityProblem}, Float64}, Float64, 10}, 3}}, LambertMap{Array{ForwardDiff.Dual{ForwardDiff.Tag{MCHMC.var\"#nlogp#68\"{CMBLensingInferenceTestProblem.CMBLensingLogDensityProblem}, Float64}, Float64, 10}, 2}}, ComponentArrays.ComponentVector{ForwardDiff.Dual{ForwardDiff.Tag{MCHMC.var\"#nlogp#68\"{CMBLensingInferenceTestProblem.CMBLensingLogDensityProblem}, Float64}, Float64, 10}, Vector{ForwardDiff.Dual{ForwardDiff.Tag{MCHMC.var\"#nlogp#68\"{CMBLensingInferenceTestProblem.CMBLensingLogDensityProblem}, Float64}, Float64, 10}}, Tuple{ComponentArrays.Axis{(r = 1, Aϕ = 2)}}}}}, ::Val{true})",
      "    @ ForwardDiff ~/.julia/packages/ForwardDiff/QdStj/src/gradient.jl:21",
      " [16] gradient(f::Function, x::Field-(f°,ϕ°,θ)-Tuple{LambertQUMap{Array{Float32, 3}}, LambertMap{Array{Float32, 2}}, ComponentArrays.ComponentVector{Float64, Vector{Float64}, Tuple{ComponentArrays.Axis{(r = 1, Aϕ = 2)}}}}, cfg::ForwardDiff.GradientConfig{ForwardDiff.Tag{MCHMC.var\"#nlogp#68\"{CMBLensingInferenceTestProblem.CMBLensingLogDensityProblem}, Float64}, Float64, 10, Field-(f°,ϕ°,θ)-Tuple{LambertQUMap{Array{ForwardDiff.Dual{ForwardDiff.Tag{MCHMC.var\"#nlogp#68\"{CMBLensingInferenceTestProblem.CMBLensingLogDensityProblem}, Float64}, Float64, 10}, 3}}, LambertMap{Array{ForwardDiff.Dual{ForwardDiff.Tag{MCHMC.var\"#nlogp#68\"{CMBLensingInferenceTestProblem.CMBLensingLogDensityProblem}, Float64}, Float64, 10}, 2}}, ComponentArrays.ComponentVector{ForwardDiff.Dual{ForwardDiff.Tag{MCHMC.var\"#nlogp#68\"{CMBLensingInferenceTestProblem.CMBLensingLogDensityProblem}, Float64}, Float64, 10}, Vector{ForwardDiff.Dual{ForwardDiff.Tag{MCHMC.var\"#nlogp#68\"{CMBLensingInferenceTestProblem.CMBLensingLogDensityProblem}, Float64}, Float64, 10}}, Tuple{ComponentArrays.Axis{(r = 1, Aϕ = 2)}}}}})",
      "    @ ForwardDiff ~/.julia/packages/ForwardDiff/QdStj/src/gradient.jl:17",
      " [17] gradient(f::Function, x::Field-(f°,ϕ°,θ)-Tuple{LambertQUMap{Array{Float32, 3}}, LambertMap{Array{Float32, 2}}, ComponentArrays.ComponentVector{Float64, Vector{Float64}, Tuple{ComponentArrays.Axis{(r = 1, Aϕ = 2)}}}})",
      "    @ ForwardDiff ~/.julia/packages/ForwardDiff/QdStj/src/gradient.jl:17",
      " [18] top-level scope",
      "    @ In[63]:2"
     ]
    }
   ],
   "source": [
    "using ForwardDiff\n",
    "ForwardDiff.gradient(target.nlogp, x)"
   ]
  },
  {
   "cell_type": "code",
   "execution_count": 57,
   "id": "e2fb2aa6",
   "metadata": {},
   "outputs": [
    {
     "data": {
      "text/plain": [
       "50-element Field-(f°,ϕ°,θ)-Tuple{LambertQUMap{Array{Float32, 3}}, LambertMap{Array{Float32, 2}}, ComponentArrays.ComponentVector{Float64, Vector{Float64}, Tuple{ComponentArrays.Axis{(r = 1, Aϕ = 2)}}}}:\n",
       "  0.23362982273101807\n",
       "  1.6145217418670654\n",
       " -1.8872356414794922\n",
       "  ⋮\n",
       " -1.6094379124341003\n",
       "  0.0"
      ]
     },
     "execution_count": 57,
     "metadata": {},
     "output_type": "execute_result"
    }
   ],
   "source": [
    "prob.Ωstart"
   ]
  },
  {
   "cell_type": "code",
   "execution_count": 56,
   "id": "f1c45eea",
   "metadata": {},
   "outputs": [
    {
     "data": {
      "text/plain": [
       "50-element Field-(f°,ϕ°,θ)-Tuple{LambertQUMap{Array{Float32, 3}}, LambertMap{Array{Float32, 2}}, ComponentArrays.ComponentVector{Float64, Vector{Float64}, Tuple{ComponentArrays.Axis{(r = 1, Aϕ = 2)}}}}:\n",
       " -0.07227730751037598\n",
       " -1.3216322660446167\n",
       "  1.1293165683746338\n",
       "  ⋮\n",
       " -1.6094379124341003\n",
       "  0.0"
      ]
     },
     "execution_count": 56,
     "metadata": {},
     "output_type": "execute_result"
    }
   ],
   "source": [
    "x"
   ]
  },
  {
   "cell_type": "code",
   "execution_count": 50,
   "id": "1eebe796",
   "metadata": {},
   "outputs": [
    {
     "data": {
      "text/plain": [
       "100-element Vector{Vector{Float64}}:\n",
       " [NaN, NaN, NaN, NaN, NaN, NaN, NaN, NaN, NaN, NaN  …  NaN, NaN, NaN, NaN, NaN, NaN, NaN, NaN, NaN, NaN]\n",
       " [NaN, NaN, NaN, NaN, NaN, NaN, NaN, NaN, NaN, NaN  …  NaN, NaN, NaN, NaN, NaN, NaN, NaN, NaN, NaN, NaN]\n",
       " [NaN, NaN, NaN, NaN, NaN, NaN, NaN, NaN, NaN, NaN  …  NaN, NaN, NaN, NaN, NaN, NaN, NaN, NaN, NaN, NaN]\n",
       " ⋮\n",
       " [NaN, NaN, NaN, NaN, NaN, NaN, NaN, NaN, NaN, NaN  …  NaN, NaN, NaN, NaN, NaN, NaN, NaN, NaN, NaN, NaN]\n",
       " [NaN, NaN, NaN, NaN, NaN, NaN, NaN, NaN, NaN, NaN  …  NaN, NaN, NaN, NaN, NaN, NaN, NaN, NaN, NaN, NaN]"
      ]
     },
     "execution_count": 50,
     "metadata": {},
     "output_type": "execute_result"
    }
   ],
   "source": [
    "samples = Sample(spl, target; num_steps=100)"
   ]
  },
  {
   "cell_type": "code",
   "execution_count": 11,
   "id": "7e82d22a",
   "metadata": {},
   "outputs": [
    {
     "data": {
      "text/plain": [
       "50×50 Diagonal{Float64, Vector{Float64}}:\n",
       " -3.23241    ⋅         ⋅        ⋅    ⋅   …   ⋅    ⋅    ⋅    ⋅    ⋅    ⋅    ⋅ \n",
       "   ⋅       -1.22161    ⋅        ⋅    ⋅       ⋅    ⋅    ⋅    ⋅    ⋅    ⋅    ⋅ \n",
       "   ⋅         ⋅       -1.67113   ⋅    ⋅       ⋅    ⋅    ⋅    ⋅    ⋅    ⋅    ⋅ \n",
       "  ⋮                                      ⋱            ⋮                   \n",
       "   ⋅         ⋅         ⋅        ⋅    ⋅       ⋅    ⋅    ⋅    ⋅    ⋅   1.0   ⋅ \n",
       "   ⋅         ⋅         ⋅        ⋅    ⋅       ⋅    ⋅    ⋅    ⋅    ⋅    ⋅   1.0"
      ]
     },
     "execution_count": 11,
     "metadata": {},
     "output_type": "execute_result"
    }
   ],
   "source": [
    "inv_Λmass = Diagonal(Vector(diag(pinv(target.Λmass))))"
   ]
  },
  {
   "cell_type": "code",
   "execution_count": 12,
   "id": "3a2c8d2f",
   "metadata": {},
   "outputs": [
    {
     "data": {
      "text/plain": [
       "100-element Vector{Vector{Float64}}:\n",
       " [-0.7551871395916634, -1.9723189052802728, 3.1538173403317966, 4.002882680622447, 0.8755425007242731, -5.3238740898662025, 1.4903320802348785, -3.753601808445803, 2.1242988657927775, 31.00419569585445  …  -1.1830538127260596e-25, -4.4406816847113836e-26, 3.862019960882333e-25, -4.537775331387858e-26, 1.550768321553277e-25, -2.273744709414322e-25, -5.56730132800159e-25, -1.134813527994128e-25, -1.6094379146765943, -2.0460997232745378e-9]\n",
       " [-0.7551871373309493, -1.9723189067027713, 3.1538173429447585, 4.0028826769567685, 0.8755425028947658, -5.323874091566734, 1.4903320807755973, -3.7536018096197683, 2.1242988663961895, 31.004195697877847  …  -5.507973518078783e-26, -5.883380470025228e-26, 3.0272229951612234e-25, 2.6639789664455496e-26, 5.862822515342514e-26, -2.317325177458785e-25, -8.006453590960349e-25, -1.2930225711762295e-25, -1.609437917018198, -4.18262891030926e-9]\n",
       " [-0.7551871349910971, -1.9723189081750527, 3.153817345649161, 4.0028826731627145, 0.875542505141203, -5.323874093326828, 1.490332081335277, -3.753601810834767, 2.124298867020797, 31.00419569997171  …  3.1538646267398274e-26, -3.168413355789619e-26, 2.651912187169631e-25, 1.1806244341059402e-25, -7.432787057513414e-27, -1.7301518172355377e-25, -9.737830857578025e-25, -1.066765134505887e-25, -1.6094379194417932, -6.39399342171597e-9]\n",
       " ⋮\n",
       " [-0.7551869019055416, -1.9723190547774268, 3.15381761482677, 4.002882295551315, 0.8755427287095569, -5.323874268580348, 1.4903321370421068, -3.753601931792114, 2.1242989292475585, 31.004195907795893  …  2.910486518714268e-25, -1.0623818502960762e-25, -1.3262252071222439e-24, -1.9280036132965163e-25, 1.6798446422213306e-25, 1.4450044879774755e-24, -2.0720128301830073e-25, -3.1964261453471545e-25, -1.609438160741386, -2.2645458919101698e-7]\n",
       " [-0.755186899483115, -1.9723190562999295, 3.1538176176211947, 4.002882291629879, 0.8755427310307135, -5.323874270400623, 1.4903321376211802, -3.7536019330479014, 2.124298929894035, 31.004195909947335  …  2.813205830470149e-25, -1.4279232231363802e-25, -1.4584127926189018e-24, -2.3098584018244582e-25, 1.9498839207263653e-25, 1.2383796562833667e-24, -2.0506824197800735e-25, -4.49248292762194e-25, -1.6094381632476087, -2.2873975792305245e-7]"
      ]
     },
     "execution_count": 12,
     "metadata": {},
     "output_type": "execute_result"
    }
   ],
   "source": [
    "t_samples = [inv_Λmass * sample for sample in samples]"
   ]
  },
  {
   "cell_type": "markdown",
   "id": "e1cb8e03",
   "metadata": {},
   "source": [
    "## Plotting"
   ]
  },
  {
   "cell_type": "code",
   "execution_count": 13,
   "id": "56874cd3",
   "metadata": {},
   "outputs": [],
   "source": [
    "Plots.default(fmt=:png, dpi=120, size=(500,300), legendfontsize=10)"
   ]
  },
  {
   "cell_type": "code",
   "execution_count": 14,
   "id": "c21a2e6c",
   "metadata": {},
   "outputs": [],
   "source": [
    "rs = [sample[end] for sample in samples]\n",
    "Aϕs = [sample[end-1] for sample in samples];"
   ]
  },
  {
   "cell_type": "code",
   "execution_count": 15,
   "id": "2f987733",
   "metadata": {},
   "outputs": [
    {
     "name": "stdout",
     "output_type": "stream",
     "text": [
      "0.99999988498352 6.675822001534503e-8\n"
     ]
    }
   ],
   "source": [
    "println(mean(exp.(rs)), \" \", std(exp.(rs)))"
   ]
  },
  {
   "cell_type": "code",
   "execution_count": 16,
   "id": "0d52e048",
   "metadata": {},
   "outputs": [
    {
     "name": "stdout",
     "output_type": "stream",
     "text": [
      "0.1999999747807435 1.4640768055761184e-8\n"
     ]
    }
   ],
   "source": [
    "println(mean(exp.(Aϕs)), \" \", std(exp.(Aϕs)))"
   ]
  },
  {
   "cell_type": "code",
   "execution_count": 17,
   "id": "f48c433c",
   "metadata": {},
   "outputs": [
    {
     "data": {
      "image/png": "[encoded data removed]"
     },
     "execution_count": 17,
     "metadata": {},
     "output_type": "execute_result"
    }
   ],
   "source": [
    "plot(exp.(rs), label=L\"r\", xlabel=\"step\")\n",
    "plot!(exp.(Aϕs), label=L\"A_\\phi\")"
   ]
  },
  {
   "cell_type": "code",
   "execution_count": 18,
   "id": "01a11feb",
   "metadata": {},
   "outputs": [
    {
     "data": {
      "image/png": "[encoded data removed]"
     },
     "execution_count": 18,
     "metadata": {},
     "output_type": "execute_result"
    }
   ],
   "source": [
    "plot(histogram(exp.(rs), xlabel=L\"r\", label=nothing, lw=1),\n",
    "    histogram(exp.(Aϕs), xlabel=L\"A_\\phi\", label=nothing, lw=1))"
   ]
  },
  {
   "cell_type": "code",
   "execution_count": null,
   "id": "94bccb3c",
   "metadata": {},
   "outputs": [],
   "source": []
  }
 ],
 "metadata": {
  "kernelspec": {
   "display_name": "Julia 1.9.0-beta3",
   "language": "julia",
   "name": "julia-1.9"
  },
  "language_info": {
   "file_extension": ".jl",
   "mimetype": "application/julia",
   "name": "julia",
   "version": "1.9.0"
  }
 },
 "nbformat": 4,
 "nbformat_minor": 5
}
