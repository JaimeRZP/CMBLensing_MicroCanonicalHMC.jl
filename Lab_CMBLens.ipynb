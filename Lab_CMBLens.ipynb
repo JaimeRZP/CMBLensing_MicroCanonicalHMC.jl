{
 "cells": [
  {
   "cell_type": "markdown",
   "id": "91129cb1",
   "metadata": {},
   "source": [
    "# Lab CMBLenses"
   ]
  },
  {
   "cell_type": "markdown",
   "id": "97121235",
   "metadata": {},
   "source": [
    "## Model"
   ]
  },
  {
   "cell_type": "code",
   "execution_count": 1,
   "id": "71684d25",
   "metadata": {},
   "outputs": [
    {
     "name": "stderr",
     "output_type": "stream",
     "text": [
      "\u001b[32m\u001b[1m  Activating\u001b[22m\u001b[39m project at `~/julia_repos/CMBLensingInferenceTestProblem`\n"
     ]
    }
   ],
   "source": [
    "] activate \"/home/jaimerz/julia_repos/CMBLensingInferenceTestProblem\""
   ]
  },
  {
   "cell_type": "code",
   "execution_count": 2,
   "id": "baed58e3",
   "metadata": {},
   "outputs": [],
   "source": [
    "using CMBLensing, CMBLensingInferenceTestProblem, CUDA, LaTeXStrings, MCMCDiagnosticTools, Plots, ProgressMeter, Random, Zygote\n",
    "ENV[\"LINES\"] = 10;"
   ]
  },
  {
   "cell_type": "code",
   "execution_count": 3,
   "id": "cb689116",
   "metadata": {},
   "outputs": [
    {
     "name": "stderr",
     "output_type": "stream",
     "text": [
      "\u001b[36m\u001b[1m[ \u001b[22m\u001b[39m\u001b[36m\u001b[1mInfo: \u001b[22m\u001b[39mPrecompiling MCHMC [92da4d09-9da0-4f8a-8b31-da41ef0ab6ee]\n"
     ]
    }
   ],
   "source": [
    "using Revise\n",
    "using MCHMC"
   ]
  },
  {
   "cell_type": "code",
   "execution_count": 4,
   "id": "a7d6f81c",
   "metadata": {},
   "outputs": [
    {
     "name": "stderr",
     "output_type": "stream",
     "text": [
      "\r",
      "\u001b[32mMAP_joint: 100%|████████████████████████████████████████| Time: 0:00:55\u001b[39m\r\n",
      "\u001b[34m  step:        20\u001b[39m\r\n",
      "\u001b[34m  logpdf:      6120.72\u001b[39m\r\n",
      "\u001b[34m  α:           0.53812873\u001b[39m\r\n",
      "\u001b[34m  CG:          2 iterations\u001b[39m\r\n",
      "\u001b[34m  Linesearch:  12 bisections\u001b[39m\n"
     ]
    }
   ],
   "source": [
    "prob = load_cmb_lensing_problem(storage = Array,\n",
    "                                T = Float32,\n",
    "                                Nside = 16);"
   ]
  },
  {
   "cell_type": "code",
   "execution_count": 5,
   "id": "cf9d88ae",
   "metadata": {},
   "outputs": [
    {
     "data": {
      "text/plain": [
       "CMBLensingTarget(770, ComplexF64[0.0 + 0.0im 0.0 + 0.0im … 0.0 + 0.0im 0.0 + 0.0im; 0.0 + 0.0im 4.435770034790039 + 0.0im … 0.0 + 0.0im 0.0 + 0.0im; … ; 0.0 + 0.0im 0.0 + 0.0im … 1.0 + 0.0im 0.0 + 0.0im; 0.0 + 0.0im 0.0 + 0.0im … 0.0 + 0.0im 1.0 + 0.0im], MCHMC.var\"#nlogp#25\"{CMBLensingInferenceTestProblem.CMBLensingLogDensityProblem}(CMBLensingInferenceTestProblem.CMBLensingLogDensityProblem(BaseDataSet(d, Cf, Cn, Cn̂, M, M̂, B, B̂, logprior, Cϕ, Cf̃, D, G, L, Nϕ), [-9.376073837280273, -6.5940842628479, -5.405848979949951, -7.392019748687744, -8.028088569641113, -5.530062198638916, -1.2073196172714233, 1.3572702407836914, 3.625626564025879, 5.442736625671387  …  3.239753709749493e-8, -1.2966495432920055e-8, -8.702781428837625e-8, -1.6196999297335424e-7, -2.175492284095526e-7, -2.6352793724981893e-7, -3.134788357783691e-7, -3.52711253981397e-7, -1.6094379124341003, 0.0], [-9.446122169494629, -8.039124488830566, -5.012213706970215, -7.389093399047852, -7.862917423248291, -5.0858025550842285, -0.8858788013458252, 0.6133164763450623, 3.5648891925811768, 4.927055835723877  …  7.88092791026429e-9, -9.357064101322976e-8, -1.9338500578669482e-7, -2.2331580851187027e-7, -2.4733523673603486e-7, -3.1029253477754537e-7, -3.8068083085818216e-7, -4.249672542755434e-7, -1.6094379124341003, 0.0], ComplexF64[0.0 + 0.0im 0.0 + 0.0im … 0.0 + 0.0im 0.0 + 0.0im; 0.0 + 0.0im 4.435770034790039 + 0.0im … 0.0 + 0.0im 0.0 + 0.0im; … ; 0.0 + 0.0im 0.0 + 0.0im … 1.0 + 0.0im 0.0 + 0.0im; 0.0 + 0.0im 0.0 + 0.0im … 0.0 + 0.0im 1.0 + 0.0im])), MCHMC.var\"#grad_nlogp#26\"{MCHMC.var\"#nlogp#25\"{CMBLensingInferenceTestProblem.CMBLensingLogDensityProblem}}(MCHMC.var\"#nlogp#25\"{CMBLensingInferenceTestProblem.CMBLensingLogDensityProblem}(CMBLensingInferenceTestProblem.CMBLensingLogDensityProblem(BaseDataSet(d, Cf, Cn, Cn̂, M, M̂, B, B̂, logprior, Cϕ, Cf̃, D, G, L, Nϕ), [-9.376073837280273, -6.5940842628479, -5.405848979949951, -7.392019748687744, -8.028088569641113, -5.530062198638916, -1.2073196172714233, 1.3572702407836914, 3.625626564025879, 5.442736625671387  …  3.239753709749493e-8, -1.2966495432920055e-8, -8.702781428837625e-8, -1.6196999297335424e-7, -2.175492284095526e-7, -2.6352793724981893e-7, -3.134788357783691e-7, -3.52711253981397e-7, -1.6094379124341003, 0.0], [-9.446122169494629, -8.039124488830566, -5.012213706970215, -7.389093399047852, -7.862917423248291, -5.0858025550842285, -0.8858788013458252, 0.6133164763450623, 3.5648891925811768, 4.927055835723877  …  7.88092791026429e-9, -9.357064101322976e-8, -1.9338500578669482e-7, -2.2331580851187027e-7, -2.4733523673603486e-7, -3.1029253477754537e-7, -3.8068083085818216e-7, -4.249672542755434e-7, -1.6094379124341003, 0.0], ComplexF64[0.0 + 0.0im 0.0 + 0.0im … 0.0 + 0.0im 0.0 + 0.0im; 0.0 + 0.0im 4.435770034790039 + 0.0im … 0.0 + 0.0im 0.0 + 0.0im; … ; 0.0 + 0.0im 0.0 + 0.0im … 1.0 + 0.0im 0.0 + 0.0im; 0.0 + 0.0im 0.0 + 0.0im … 0.0 + 0.0im 1.0 + 0.0im]))), MCHMC.var\"#transform#27\"{Diagonal{ComplexF64, Field-(f°,ϕ°,θ)-Tuple{LambertEBFourier{Array{Float32, 3}}, LambertFourier{Array{ComplexF32, 2}}, ComponentArrays.ComponentVector{Float64, Vector{Float64}, Tuple{ComponentArrays.Axis{(r = 1, Aϕ = 2)}}}}}}(ComplexF64[0.0 + 0.0im 0.0 + 0.0im … 0.0 + 0.0im 0.0 + 0.0im; 0.0 + 0.0im 0.22543999552726746 + 0.0im … 0.0 + 0.0im 0.0 + 0.0im; … ; 0.0 + 0.0im 0.0 + 0.0im … 1.0 + 0.0im 0.0 + 0.0im; 0.0 + 0.0im 0.0 + 0.0im … 0.0 + 0.0im 1.0 + 0.0im]), MCHMC.var\"#prior_draw#28\"{CMBLensingInferenceTestProblem.CMBLensingLogDensityProblem}(CMBLensingInferenceTestProblem.CMBLensingLogDensityProblem(BaseDataSet(d, Cf, Cn, Cn̂, M, M̂, B, B̂, logprior, Cϕ, Cf̃, D, G, L, Nϕ), [-9.376073837280273, -6.5940842628479, -5.405848979949951, -7.392019748687744, -8.028088569641113, -5.530062198638916, -1.2073196172714233, 1.3572702407836914, 3.625626564025879, 5.442736625671387  …  3.239753709749493e-8, -1.2966495432920055e-8, -8.702781428837625e-8, -1.6196999297335424e-7, -2.175492284095526e-7, -2.6352793724981893e-7, -3.134788357783691e-7, -3.52711253981397e-7, -1.6094379124341003, 0.0], [-9.446122169494629, -8.039124488830566, -5.012213706970215, -7.389093399047852, -7.862917423248291, -5.0858025550842285, -0.8858788013458252, 0.6133164763450623, 3.5648891925811768, 4.927055835723877  …  7.88092791026429e-9, -9.357064101322976e-8, -1.9338500578669482e-7, -2.2331580851187027e-7, -2.4733523673603486e-7, -3.1029253477754537e-7, -3.8068083085818216e-7, -4.249672542755434e-7, -1.6094379124341003, 0.0], ComplexF64[0.0 + 0.0im 0.0 + 0.0im … 0.0 + 0.0im 0.0 + 0.0im; 0.0 + 0.0im 4.435770034790039 + 0.0im … 0.0 + 0.0im 0.0 + 0.0im; … ; 0.0 + 0.0im 0.0 + 0.0im … 1.0 + 0.0im 0.0 + 0.0im; 0.0 + 0.0im 0.0 + 0.0im … 0.0 + 0.0im 1.0 + 0.0im])))"
      ]
     },
     "execution_count": 5,
     "metadata": {},
     "output_type": "execute_result"
    }
   ],
   "source": [
    "target = CMBLensingTarget(prob)"
   ]
  },
  {
   "cell_type": "markdown",
   "id": "d87fca8f",
   "metadata": {},
   "source": [
    "## Sample"
   ]
  },
  {
   "cell_type": "code",
   "execution_count": 6,
   "id": "1359a630",
   "metadata": {
    "code_folding": []
   },
   "outputs": [
    {
     "data": {
      "text/plain": [
       "Sampler(Settings(MersenneTwister(0), 0.005, 1.4142135623730951, 0.0, 0.1931833275037836, 0.0005, 2000, 1000, 10, \"LF\"), MCHMC.Leapfrog)"
      ]
     },
     "execution_count": 6,
     "metadata": {},
     "output_type": "execute_result"
    }
   ],
   "source": [
    "eps=0.005\n",
    "L=sqrt(2)\n",
    "spl=Sampler(;eps=eps, L=L)"
   ]
  },
  {
   "cell_type": "code",
   "execution_count": 9,
   "id": "1eebe796",
   "metadata": {},
   "outputs": [
    {
     "ename": "LoadError",
     "evalue": "DimensionMismatch: arrays could not be broadcast to a common size; got a dimension with lengths 16 and 770",
     "output_type": "error",
     "traceback": [
      "DimensionMismatch: arrays could not be broadcast to a common size; got a dimension with lengths 16 and 770",
      "",
      "Stacktrace:",
      "  [1] _bcs1",
      "    @ ./broadcast.jl:529 [inlined]",
      "  [2] _bcs",
      "    @ ./broadcast.jl:523 [inlined]",
      "  [3] broadcast_shape",
      "    @ ./broadcast.jl:517 [inlined]",
      "  [4] combine_axes",
      "    @ ./broadcast.jl:512 [inlined]",
      "  [5] instantiate",
      "    @ ./broadcast.jl:294 [inlined]",
      "  [6] materialize",
      "    @ ./broadcast.jl:873 [inlined]",
      "  [7] materialize(bc::Base.Broadcast.Broadcasted{CMBLensing.BaseFieldStyle{Base.Broadcast.DefaultArrayStyle{3}, QUMap}, Nothing, typeof(+), Tuple{LambertQUMap{Array{Float64, 3}}, Base.Broadcast.Extruded{Vector{Float64}, Tuple{Bool}, Tuple{Int64}}}})",
      "    @ CMBLensing ~/.julia/packages/CMBLensing/Nv3G8/src/base_fields.jl:91",
      "  [8] macro expansion",
      "    @ ~/.julia/packages/CMBLensing/Nv3G8/src/field_tuples.jl:62 [inlined]",
      "  [9] materialize(bc::Base.Broadcast.Broadcasted{CMBLensing.FieldTupleStyle{Tuple{CMBLensing.BaseFieldStyle{Base.Broadcast.DefaultArrayStyle{3}, QUMap}, CMBLensing.BaseFieldStyle{Base.Broadcast.DefaultArrayStyle{2}, Map}, Base.Broadcast.DefaultArrayStyle{1}}, (:f°, :ϕ°, :θ)}, Nothing, typeof(+), Tuple{Field-(f°,ϕ°,θ)-Tuple{LambertQUMap{Array{Float64, 3}}, LambertMap{Array{Float64, 2}}, ComponentArrays.ComponentVector{Float64, Vector{Float64}, Tuple{ComponentArrays.Axis{(r = 1, Aϕ = 2)}}}}, Vector{Float64}}})",
      "    @ CMBLensing ~/.julia/packages/CMBLensing/Nv3G8/src/field_tuples.jl:62",
      " [10] Partially_refresh_momentum(sampler::Sampler, target::CMBLensingTarget, u::Field-(f°,ϕ°,θ)-Tuple{LambertQUMap{Array{Float64, 3}}, LambertMap{Array{Float64, 2}}, ComponentArrays.ComponentVector{Float64, Vector{Float64}, Tuple{ComponentArrays.Axis{(r = 1, Aϕ = 2)}}}})",
      "    @ MCHMC ~/PhD/MCHMC.jl/src/sampler.jl:71",
      " [11] Dynamics(sampler::Sampler, target::CMBLensingTarget, state::Tuple{Field-(f°,ϕ°,θ)-Tuple{LambertQUMap{Array{Float32, 3}}, LambertMap{Array{Float32, 2}}, ComponentArrays.ComponentVector{Float64, Vector{Float64}, Tuple{ComponentArrays.Axis{(r = 1, Aϕ = 2)}}}}, Field-(f°,ϕ°,θ)-Tuple{LambertQUMap{Array{Float32, 3}}, LambertMap{Array{Float32, 2}}, ComponentArrays.ComponentVector{Float64, Vector{Float64}, Tuple{ComponentArrays.Axis{(r = 1, Aϕ = 2)}}}}, Field-(f°,ϕ°,θ)-Tuple{LambertQUMap{Array{Float32, 3}}, LambertMap{Array{Float32, 2}}, ComponentArrays.ComponentVector{Float64, Vector{Float64}, Tuple{ComponentArrays.Axis{(r = 1, Aϕ = 2)}}}}, Float64, Float64})",
      "    @ MCHMC ~/PhD/MCHMC.jl/src/sampler.jl:102",
      " [12] Step(sampler::Sampler, target::CMBLensingTarget, state::Tuple{Field-(f°,ϕ°,θ)-Tuple{LambertQUMap{Array{Float32, 3}}, LambertMap{Array{Float32, 2}}, ComponentArrays.ComponentVector{Float64, Vector{Float64}, Tuple{ComponentArrays.Axis{(r = 1, Aϕ = 2)}}}}, Field-(f°,ϕ°,θ)-Tuple{LambertQUMap{Array{Float32, 3}}, LambertMap{Array{Float32, 2}}, ComponentArrays.ComponentVector{Float64, Vector{Float64}, Tuple{ComponentArrays.Axis{(r = 1, Aϕ = 2)}}}}, Field-(f°,ϕ°,θ)-Tuple{LambertQUMap{Array{Float32, 3}}, LambertMap{Array{Float32, 2}}, ComponentArrays.ComponentVector{Float64, Vector{Float64}, Tuple{ComponentArrays.Axis{(r = 1, Aϕ = 2)}}}}, Float64, Float64}; kwargs::Base.Pairs{Symbol, Any, Tuple{Symbol, Symbol}, NamedTuple{(:num_steps, :initial_x), Tuple{Int64, Field-(f°,ϕ°,θ)-Tuple{LambertQUMap{Array{Float32, 3}}, LambertMap{Array{Float32, 2}}, ComponentArrays.ComponentVector{Float64, Vector{Float64}, Tuple{ComponentArrays.Axis{(r = 1, Aϕ = 2)}}}}}}})",
      "    @ MCHMC ~/PhD/MCHMC.jl/src/sampler.jl:140",
      " [13] kwcall(::NamedTuple{(:num_steps, :initial_x), Tuple{Int64, Field-(f°,ϕ°,θ)-Tuple{LambertQUMap{Array{Float32, 3}}, LambertMap{Array{Float32, 2}}, ComponentArrays.ComponentVector{Float64, Vector{Float64}, Tuple{ComponentArrays.Axis{(r = 1, Aϕ = 2)}}}}}}, ::typeof(MCHMC.Step), sampler::Sampler, target::CMBLensingTarget, state::Tuple{Field-(f°,ϕ°,θ)-Tuple{LambertQUMap{Array{Float32, 3}}, LambertMap{Array{Float32, 2}}, ComponentArrays.ComponentVector{Float64, Vector{Float64}, Tuple{ComponentArrays.Axis{(r = 1, Aϕ = 2)}}}}, Field-(f°,ϕ°,θ)-Tuple{LambertQUMap{Array{Float32, 3}}, LambertMap{Array{Float32, 2}}, ComponentArrays.ComponentVector{Float64, Vector{Float64}, Tuple{ComponentArrays.Axis{(r = 1, Aϕ = 2)}}}}, Field-(f°,ϕ°,θ)-Tuple{LambertQUMap{Array{Float32, 3}}, LambertMap{Array{Float32, 2}}, ComponentArrays.ComponentVector{Float64, Vector{Float64}, Tuple{ComponentArrays.Axis{(r = 1, Aϕ = 2)}}}}, Float64, Float64})",
      "    @ MCHMC ~/PhD/MCHMC.jl/src/sampler.jl:137",
      " [14] Sample(sampler::Sampler, target::CMBLensingTarget; kwargs::Base.Pairs{Symbol, Any, Tuple{Symbol, Symbol}, NamedTuple{(:num_steps, :initial_x), Tuple{Int64, Field-(f°,ϕ°,θ)-Tuple{LambertQUMap{Array{Float32, 3}}, LambertMap{Array{Float32, 2}}, ComponentArrays.ComponentVector{Float64, Vector{Float64}, Tuple{ComponentArrays.Axis{(r = 1, Aϕ = 2)}}}}}}})",
      "    @ MCHMC ~/PhD/MCHMC.jl/src/sampler.jl:165",
      " [15] kwcall(::NamedTuple{(:num_steps, :initial_x), Tuple{Int64, Field-(f°,ϕ°,θ)-Tuple{LambertQUMap{Array{Float32, 3}}, LambertMap{Array{Float32, 2}}, ComponentArrays.ComponentVector{Float64, Vector{Float64}, Tuple{ComponentArrays.Axis{(r = 1, Aϕ = 2)}}}}}}, ::typeof(Sample), sampler::Sampler, target::CMBLensingTarget)",
      "    @ MCHMC ~/PhD/MCHMC.jl/src/sampler.jl:148",
      " [16] top-level scope",
      "    @ In[9]:1"
     ]
    }
   ],
   "source": [
    "samples = Sample(spl, target; num_steps=10000, initial_x=prob.Ωstart);"
   ]
  },
  {
   "cell_type": "markdown",
   "id": "e1cb8e03",
   "metadata": {},
   "source": [
    "## Plotting"
   ]
  },
  {
   "cell_type": "code",
   "execution_count": 8,
   "id": "56874cd3",
   "metadata": {},
   "outputs": [],
   "source": [
    "Plots.default(fmt=:png, dpi=120, size=(500,300), legendfontsize=10)"
   ]
  },
  {
   "cell_type": "code",
   "execution_count": 16,
   "id": "f48c433c",
   "metadata": {},
   "outputs": [
    {
     "ename": "LoadError",
     "evalue": "UndefVarError: `chain` not defined",
     "output_type": "error",
     "traceback": [
      "UndefVarError: `chain` not defined",
      "",
      "Stacktrace:",
      " [1] top-level scope",
      "   @ In[16]:1"
     ]
    }
   ],
   "source": [
    "plot([exp(Ω.θ.r) for (Ω,) in chain], label=L\"r\", xlabel=\"step\")\n",
    "plot!([exp(Ω.θ.Aϕ) for (Ω,) in chain], label=L\"A_\\phi\")"
   ]
  },
  {
   "cell_type": "code",
   "execution_count": 17,
   "id": "01a11feb",
   "metadata": {},
   "outputs": [
    {
     "ename": "LoadError",
     "evalue": "UndefVarError: `chain` not defined",
     "output_type": "error",
     "traceback": [
      "UndefVarError: `chain` not defined",
      "",
      "Stacktrace:",
      " [1] top-level scope",
      "   @ In[17]:1"
     ]
    }
   ],
   "source": [
    "plot(\n",
    "    histogram([exp(Ω.θ.r) for (Ω,) in chain], xlabel=L\"r\", label=nothing, lw=1),\n",
    "    histogram([exp(Ω.θ.Aϕ) for (Ω,) in chain], xlabel=L\"A_\\phi\", label=nothing, lw=1)\n",
    ")"
   ]
  },
  {
   "cell_type": "code",
   "execution_count": 18,
   "id": "9c6ca1e4",
   "metadata": {},
   "outputs": [
    {
     "ename": "LoadError",
     "evalue": "UndefVarError: `chain` not defined",
     "output_type": "error",
     "traceback": [
      "UndefVarError: `chain` not defined",
      "",
      "Stacktrace:",
      " [1] top-level scope",
      "   @ In[18]:1"
     ]
    }
   ],
   "source": [
    "plot(\n",
    "    histogram([exp(Ω.θ.r) for (Ω,) in chain], xlabel=L\"r\", label=nothing, lw=1),\n",
    "    histogram([exp(Ω.θ.Aϕ) for (Ω,) in chain], xlabel=L\"A_\\phi\", label=nothing, lw=1)\n",
    ")"
   ]
  },
  {
   "cell_type": "code",
   "execution_count": 19,
   "id": "3bf4a9be",
   "metadata": {},
   "outputs": [
    {
     "ename": "LoadError",
     "evalue": "UndefVarError: `chain` not defined",
     "output_type": "error",
     "traceback": [
      "UndefVarError: `chain` not defined",
      "",
      "Stacktrace:",
      " [1] top-level scope",
      "   @ In[19]:1"
     ]
    }
   ],
   "source": [
    "plot(\n",
    "    histogram([exp(Ω.θ.r) for (Ω,) in chain], xlabel=L\"r\", label=nothing, lw=1),\n",
    "    histogram([exp(Ω.θ.Aϕ) for (Ω,) in chain], xlabel=L\"A_\\phi\", label=nothing, lw=1)\n",
    ")"
   ]
  },
  {
   "cell_type": "code",
   "execution_count": 20,
   "id": "a79c2b35",
   "metadata": {},
   "outputs": [
    {
     "ename": "LoadError",
     "evalue": "UndefVarError: `prob` not defined",
     "output_type": "error",
     "traceback": [
      "UndefVarError: `prob` not defined",
      "",
      "Stacktrace:",
      " [1] (::var\"#17#18\")(::Tuple{Symbol, Symbol, LaTeXString, LaTeXString})",
      "   @ Main ./In[20]:3",
      " [2] iterate",
      "   @ ./generator.jl:47 [inlined]",
      " [3] _collect(c::Vector{Tuple{Symbol, Symbol, AbstractString, LaTeXString}}, itr::Base.Generator{Vector{Tuple{Symbol, Symbol, AbstractString, LaTeXString}}, var\"#17#18\"}, #unused#::Base.EltypeUnknown, isz::Base.HasShape{1})",
      "   @ Base ./array.jl:802",
      " [4] collect_similar(cont::Vector{Tuple{Symbol, Symbol, AbstractString, LaTeXString}}, itr::Base.Generator{Vector{Tuple{Symbol, Symbol, AbstractString, LaTeXString}}, var\"#17#18\"})",
      "   @ Base ./array.jl:711",
      " [5] map(f::Function, A::Vector{Tuple{Symbol, Symbol, AbstractString, LaTeXString}})",
      "   @ Base ./abstractarray.jl:3255",
      " [6] top-level scope",
      "   @ In[20]:2"
     ]
    }
   ],
   "source": [
    "\n",
    "ps = map([(:ϕ°,:I,L\"L\",L\"\\phi^\\circ\"), (:f°,:E,\"L\\ell\",L\"E^\\circ\"), (:f°,:B,L\"\\ell\",L\"B^\\circ\")]) do (k1, k2, xlabel, title)\n",
    "    plot(get_Cℓ(prob.Ωtrue[k1][k2]); label=\"true\", xlabel, title)\n",
    "    plot!(get_Cℓ(prob.Ωstart[k1][k2]); label=\"start\", xlabel, title)\n",
    "    plot!(get_Cℓ(chain[end][1][k1][k2]); label=\"last sample\", xlabel, title)\n",
    "end\n",
    "plot(ps..., layout=(1,3), xscale=:log10, yscale=:log10, size=(1000,300), legend=:bottomleft)"
   ]
  },
  {
   "cell_type": "code",
   "execution_count": null,
   "id": "eb8f90f5",
   "metadata": {},
   "outputs": [],
   "source": []
  },
  {
   "cell_type": "code",
   "execution_count": null,
   "id": "ea798d8d",
   "metadata": {},
   "outputs": [],
   "source": []
  },
  {
   "cell_type": "code",
   "execution_count": null,
   "id": "fe497b96",
   "metadata": {},
   "outputs": [],
   "source": []
  }
 ],
 "metadata": {
  "kernelspec": {
   "display_name": "Julia 1.9.0-beta3",
   "language": "julia",
   "name": "julia-1.9"
  },
  "language_info": {
   "file_extension": ".jl",
   "mimetype": "application/julia",
   "name": "julia",
   "version": "1.9.0"
  }
 },
 "nbformat": 4,
 "nbformat_minor": 5
}
