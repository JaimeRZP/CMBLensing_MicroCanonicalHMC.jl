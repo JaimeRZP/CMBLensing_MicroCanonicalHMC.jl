{
 "cells": [
  {
   "cell_type": "markdown",
   "id": "91129cb1",
   "metadata": {},
   "source": [
    "# Lab CMBLenses"
   ]
  },
  {
   "cell_type": "markdown",
   "id": "97121235",
   "metadata": {},
   "source": [
    "## Model"
   ]
  },
  {
   "cell_type": "code",
   "execution_count": 6,
   "id": "71684d25",
   "metadata": {},
   "outputs": [
    {
     "name": "stderr",
     "output_type": "stream",
     "text": [
      "\u001b[32m\u001b[1m  Activating\u001b[22m\u001b[39m project at `~/julia_repos/CMBLensingInferenceTestProblem`\n"
     ]
    }
   ],
   "source": [
    "] activate \"/home/jaimerz/julia_repos/CMBLensingInferenceTestProblem\""
   ]
  },
  {
   "cell_type": "code",
   "execution_count": 7,
   "id": "baed58e3",
   "metadata": {},
   "outputs": [
    {
     "name": "stderr",
     "output_type": "stream",
     "text": [
      "\u001b[36m\u001b[1m[ \u001b[22m\u001b[39m\u001b[36m\u001b[1mInfo: \u001b[22m\u001b[39mPrecompiling CMBLensing [b60c06c0-7e54-11e8-3788-4bd722d65317]\n",
      "\u001b[36m\u001b[1m[ \u001b[22m\u001b[39m\u001b[36m\u001b[1mInfo: \u001b[22m\u001b[39mPrecompiling CMBLensingInferenceTestProblem [77eb751d-b138-43db-8fbb-26307a053bc2]\n",
      "\u001b[36m\u001b[1m[ \u001b[22m\u001b[39m\u001b[36m\u001b[1mInfo: \u001b[22m\u001b[39mPrecompiling CUDA [052768ef-5323-5732-b1bb-66c8b64840ba]\n"
     ]
    }
   ],
   "source": [
    "using CMBLensing, CMBLensingInferenceTestProblem, CUDA, LaTeXStrings, MCMCDiagnosticTools, Plots, ProgressMeter, Random, Zygote\n",
    "ENV[\"LINES\"] = 10;"
   ]
  },
  {
   "cell_type": "code",
   "execution_count": 8,
   "id": "a7d6f81c",
   "metadata": {},
   "outputs": [
    {
     "ename": "LoadError",
     "evalue": "MethodError: objects of type DistributionsAD.TuringDiagMvNormal{LambertEBFourier{CuArray{Float32, 3, CUDA.Mem.DeviceBuffer}}, LambertEBFourier{CuArray{Float32, 3, CUDA.Mem.DeviceBuffer}}} are not callable",
     "output_type": "error",
     "traceback": [
      "MethodError: objects of type DistributionsAD.TuringDiagMvNormal{LambertEBFourier{CuArray{Float32, 3, CUDA.Mem.DeviceBuffer}}, LambertEBFourier{CuArray{Float32, 3, CUDA.Mem.DeviceBuffer}}} are not callable",
      "",
      "Stacktrace:",
      "  [1] macro expansion",
      "    @ ~/.julia/packages/Zygote/g2w9o/src/compiler/interface2.jl:0 [inlined]",
      "  [2] _pullback(::Zygote.Context{false}, ::DistributionsAD.TuringDiagMvNormal{LambertEBFourier{CuArray{Float32, 3, CUDA.Mem.DeviceBuffer}}, LambertEBFourier{CuArray{Float32, 3, CUDA.Mem.DeviceBuffer}}}, ::CMBLensing.Logpdf, ::Base.RefValue{Real}, ::LambertEBFourier{CuArray{ComplexF32, 3, CUDA.Mem.DeviceBuffer}})",
      "    @ Zygote ~/.julia/packages/Zygote/g2w9o/src/compiler/interface2.jl:9",
      "  [3] _apply(::Function, ::Vararg{Any})",
      "    @ Core ./boot.jl:838",
      "  [4] adjoint",
      "    @ ~/.julia/packages/Zygote/g2w9o/src/lib/lib.jl:203 [inlined]",
      "  [5] _pullback",
      "    @ ~/.julia/packages/ZygoteRules/AIbCs/src/adjoint.jl:65 [inlined]",
      "  [6] _pullback",
      "    @ ~/.julia/packages/CMBLensing/Nv3G8/src/simpleppl.jl:84 [inlined]",
      "  [7] _pullback(::Zygote.Context{false}, ::CMBLensing.var\"##logpdf#677\", ::Base.Pairs{Symbol, Union{}, Tuple{}, NamedTuple{(), Tuple{}}}, ::typeof(logpdf), ::DistributionsAD.TuringDiagMvNormal{LambertEBFourier{CuArray{Float32, 3, CUDA.Mem.DeviceBuffer}}, LambertEBFourier{CuArray{Float32, 3, CUDA.Mem.DeviceBuffer}}}, ::LambertEBFourier{CuArray{ComplexF32, 3, CUDA.Mem.DeviceBuffer}})",
      "    @ Zygote ~/.julia/packages/Zygote/g2w9o/src/compiler/interface2.jl:0",
      "  [8] _apply",
      "    @ ./boot.jl:838 [inlined]",
      "  [9] adjoint",
      "    @ ~/.julia/packages/Zygote/g2w9o/src/lib/lib.jl:203 [inlined]",
      " [10] _pullback",
      "    @ ~/.julia/packages/ZygoteRules/AIbCs/src/adjoint.jl:65 [inlined]",
      " [11] _pullback",
      "    @ ~/.julia/packages/CMBLensing/Nv3G8/src/simpleppl.jl:82 [inlined]",
      " [12] _pullback(::Zygote.Context{false}, ::typeof(logpdf), ::DistributionsAD.TuringDiagMvNormal{LambertEBFourier{CuArray{Float32, 3, CUDA.Mem.DeviceBuffer}}, LambertEBFourier{CuArray{Float32, 3, CUDA.Mem.DeviceBuffer}}}, ::LambertEBFourier{CuArray{ComplexF32, 3, CUDA.Mem.DeviceBuffer}})",
      "    @ Zygote ~/.julia/packages/Zygote/g2w9o/src/compiler/interface2.jl:0",
      " [13] _pullback",
      "    @ ~/.julia/packages/CMBLensing/Nv3G8/src/dataset.jl:61 [inlined]",
      " [14] _pullback(::Zygote.Context{false}, ::CMBLensing.var\"##_#695\", ::LambertEBFourier{CuArray{ComplexF32, 3, CUDA.Mem.DeviceBuffer}}, ::LambertMap{CuArray{Float32, 2, CUDA.Mem.DeviceBuffer}}, ::NamedTuple{(), Tuple{}}, ::LambertEBFourier{CuArray{ComplexF32, 3, CUDA.Mem.DeviceBuffer}}, ::BaseDataSet, ::CMBLensing.Logpdf, ::Base.RefValue{Real})",
      "    @ Zygote ~/.julia/packages/Zygote/g2w9o/src/compiler/interface2.jl:0",
      " [15] _pullback",
      "    @ ~/.julia/packages/CMBLensing/Nv3G8/src/dataset.jl:59 [inlined]",
      " [16] _pullback(::Zygote.Context{false}, ::typeof(Core.kwcall), ::NamedTuple{(:f, :ϕ, :θ), Tuple{LambertEBFourier{CuArray{ComplexF32, 3, CUDA.Mem.DeviceBuffer}}, LambertMap{CuArray{Float32, 2, CUDA.Mem.DeviceBuffer}}, NamedTuple{(), Tuple{}}}}, ::BaseDataSet, ::CMBLensing.Logpdf, ::Base.RefValue{Real})",
      "    @ Zygote ~/.julia/packages/Zygote/g2w9o/src/compiler/interface2.jl:0",
      " [17] _apply",
      "    @ ./boot.jl:838 [inlined]",
      " [18] adjoint",
      "    @ ~/.julia/packages/Zygote/g2w9o/src/lib/lib.jl:203 [inlined]",
      " [19] _pullback",
      "    @ ~/.julia/packages/ZygoteRules/AIbCs/src/adjoint.jl:65 [inlined]",
      " [20] _pullback",
      "    @ ~/.julia/packages/CMBLensing/Nv3G8/src/simpleppl.jl:84 [inlined]",
      " [21] _pullback(::Zygote.Context{false}, ::CMBLensing.var\"##logpdf#677\", ::Base.Pairs{Symbol, Any, Tuple{Symbol, Symbol, Symbol}, NamedTuple{(:f, :ϕ, :θ), Tuple{LambertEBFourier{CuArray{ComplexF32, 3, CUDA.Mem.DeviceBuffer}}, LambertMap{CuArray{Float32, 2, CUDA.Mem.DeviceBuffer}}, NamedTuple{(), Tuple{}}}}}, ::typeof(logpdf), ::BaseDataSet)",
      "    @ Zygote ~/.julia/packages/Zygote/g2w9o/src/compiler/interface2.jl:0",
      " [22] _apply",
      "    @ ./boot.jl:838 [inlined]",
      " [23] adjoint",
      "    @ ~/.julia/packages/Zygote/g2w9o/src/lib/lib.jl:203 [inlined]",
      " [24] _pullback",
      "    @ ~/.julia/packages/ZygoteRules/AIbCs/src/adjoint.jl:65 [inlined]",
      " [25] _pullback",
      "    @ ~/.julia/packages/CMBLensing/Nv3G8/src/simpleppl.jl:82 [inlined]",
      " [26] _pullback(::Zygote.Context{false}, ::typeof(Core.kwcall), ::NamedTuple{(:f, :ϕ, :θ), Tuple{LambertEBFourier{CuArray{ComplexF32, 3, CUDA.Mem.DeviceBuffer}}, LambertMap{CuArray{Float32, 2, CUDA.Mem.DeviceBuffer}}, NamedTuple{(), Tuple{}}}}, ::typeof(logpdf), ::BaseDataSet)",
      "    @ Zygote ~/.julia/packages/Zygote/g2w9o/src/compiler/interface2.jl:0",
      " [27] _pullback",
      "    @ ~/.julia/packages/CMBLensing/Nv3G8/src/dataset.jl:88 [inlined]",
      " [28] _pullback(::Zygote.Context{false}, ::CMBLensing.var\"##logpdf#699\", ::NamedTuple{(), Tuple{}}, ::Base.Pairs{Symbol, BaseField{B, ProjLambert{Float32, CuArray{Float32, 1, CUDA.Mem.DeviceBuffer}, CuArray{Float32, 2, CUDA.Mem.DeviceBuffer}}, Float32, A} where {B, A<:(AbstractArray{Float32})}, Tuple{Symbol, Symbol}, NamedTuple{(:f°, :ϕ°), Tuple{LambertQUMap{CuArray{Float32, 3, CUDA.Mem.DeviceBuffer}}, LambertMap{CuArray{Float32, 2, CUDA.Mem.DeviceBuffer}}}}}, ::typeof(logpdf), ::Mixed{BaseDataSet})",
      "    @ Zygote ~/.julia/packages/Zygote/g2w9o/src/compiler/interface2.jl:0",
      " [29] _pullback",
      "    @ ~/.julia/packages/CMBLensing/Nv3G8/src/dataset.jl:86 [inlined]",
      " [30] _pullback",
      "    @ ~/.julia/packages/CMBLensing/Nv3G8/src/maximization.jl:170 [inlined]",
      " [31] _pullback(ctx::Zygote.Context{false}, f::CMBLensing.var\"#749#754\"{NamedTuple{(), Tuple{}}, BaseDataSet, LambertQUMap{CuArray{Float32, 3, CUDA.Mem.DeviceBuffer}}}, args::Field-(ϕ°)-Tuple{LambertMap{CuArray{Float32, 2, CUDA.Mem.DeviceBuffer}}})",
      "    @ Zygote ~/.julia/packages/Zygote/g2w9o/src/compiler/interface2.jl:0",
      " [32] pullback(f::Function, cx::Zygote.Context{false}, args::Field-(ϕ°)-Tuple{LambertMap{CuArray{Float32, 2, CUDA.Mem.DeviceBuffer}}})",
      "    @ Zygote ~/.julia/packages/Zygote/g2w9o/src/compiler/interface.jl:44",
      " [33] pullback",
      "    @ ~/.julia/packages/Zygote/g2w9o/src/compiler/interface.jl:42 [inlined]",
      " [34] gradient(f::Function, args::Field-(ϕ°)-Tuple{LambertMap{CuArray{Float32, 2, CUDA.Mem.DeviceBuffer}}})",
      "    @ Zygote ~/.julia/packages/Zygote/g2w9o/src/compiler/interface.jl:96",
      " [35] macro expansion",
      "    @ ~/.julia/packages/TimerOutputs/LHjFw/src/TimerOutput.jl:237 [inlined]",
      " [36] MAP_joint(θ::NamedTuple{(), Tuple{}}, ds::BaseDataSet, Ωstart::Field-(ϕ)-Tuple{LambertMap{CuArray{Float32, 2, CUDA.Mem.DeviceBuffer}}}; nsteps::Int64, fstart::Nothing, ϕtol::Nothing, αtol::Float64, nburnin_update_hessian::Float64, progress::Bool, conjgrad_kwargs::NamedTuple{(:tol, :nsteps), Tuple{Float64, Int64}}, quasi_sample::Bool, history_keys::Tuple{Symbol}, aggressive_gc::Bool)",
      "    @ CMBLensing ~/.julia/packages/CMBLensing/Nv3G8/src/maximization.jl:170",
      " [37] kwcall(::NamedTuple{(:progress,), Tuple{Bool}}, ::typeof(MAP_joint), θ::NamedTuple{(), Tuple{}}, ds::BaseDataSet, Ωstart::Field-(ϕ)-Tuple{LambertMap{CuArray{Float32, 2, CUDA.Mem.DeviceBuffer}}})",
      "    @ CMBLensing ~/.julia/packages/CMBLensing/Nv3G8/src/maximization.jl:116",
      " [38] kwcall(::NamedTuple{(:progress,), Tuple{Bool}}, ::typeof(MAP_joint), θ::NamedTuple{(), Tuple{}}, ds::BaseDataSet)",
      "    @ CMBLensing ~/.julia/packages/CMBLensing/Nv3G8/src/maximization.jl:116",
      " [39] #MAP_joint#745",
      "    @ ~/.julia/packages/CMBLensing/Nv3G8/src/maximization.jl:115 [inlined]",
      " [40] load_cmb_lensing_problem(; storage::Type, T::Type, Nside::Int64)",
      "    @ CMBLensingInferenceTestProblem ~/julia_repos/CMBLensingInferenceTestProblem/src/CMBLensingInferenceTestProblem.jl:26",
      " [41] kwcall(::NamedTuple{(:storage, :T, :Nside), Tuple{UnionAll, DataType, Int64}}, ::typeof(load_cmb_lensing_problem))",
      "    @ CMBLensingInferenceTestProblem ~/julia_repos/CMBLensingInferenceTestProblem/src/CMBLensingInferenceTestProblem.jl:18",
      " [42] top-level scope",
      "    @ In[8]:1"
     ]
    }
   ],
   "source": [
    "prob = load_cmb_lensing_problem(storage = CuArray,\n",
    "                                T = Float32,\n",
    "                                Nside = 64);"
   ]
  },
  {
   "cell_type": "code",
   "execution_count": 9,
   "id": "4c6eda03",
   "metadata": {},
   "outputs": [],
   "source": [
    "using MCHMC"
   ]
  },
  {
   "cell_type": "code",
   "execution_count": 10,
   "id": "cf9d88ae",
   "metadata": {},
   "outputs": [
    {
     "ename": "LoadError",
     "evalue": "UndefVarError: `CMBLensingTarget` not defined",
     "output_type": "error",
     "traceback": [
      "UndefVarError: `CMBLensingTarget` not defined",
      "",
      "Stacktrace:",
      " [1] top-level scope",
      "   @ In[10]:1"
     ]
    }
   ],
   "source": [
    "target = CMBLensingTarget(prob)"
   ]
  },
  {
   "cell_type": "markdown",
   "id": "d87fca8f",
   "metadata": {},
   "source": [
    "## Sample"
   ]
  },
  {
   "cell_type": "code",
   "execution_count": 11,
   "id": "ee48573d",
   "metadata": {},
   "outputs": [
    {
     "ename": "LoadError",
     "evalue": "UndefVarError: `prob` not defined",
     "output_type": "error",
     "traceback": [
      "UndefVarError: `prob` not defined",
      "",
      "Stacktrace:",
      " [1] top-level scope",
      "   @ In[11]:1"
     ]
    }
   ],
   "source": [
    "Ω = prob.Ωstart"
   ]
  },
  {
   "cell_type": "code",
   "execution_count": 12,
   "id": "1359a630",
   "metadata": {
    "code_folding": []
   },
   "outputs": [
    {
     "data": {
      "text/plain": [
       "Settings(MersenneTwister(0), 0.1931833275037836, 0.005, 1.4142135623730951, \"MN\")"
      ]
     },
     "execution_count": 12,
     "metadata": {},
     "output_type": "execute_result"
    }
   ],
   "source": [
    "eps=0.005\n",
    "L=sqrt(2)\n",
    "settings = Settings(eps, L; integrator=\"MN\")"
   ]
  },
  {
   "cell_type": "code",
   "execution_count": 13,
   "id": "8005e277",
   "metadata": {},
   "outputs": [
    {
     "ename": "LoadError",
     "evalue": "UndefVarError: `target` not defined",
     "output_type": "error",
     "traceback": [
      "UndefVarError: `target` not defined",
      "",
      "Stacktrace:",
      " [1] top-level scope",
      "   @ In[13]:1"
     ]
    }
   ],
   "source": [
    "sampler = Sampler(settings, target);"
   ]
  },
  {
   "cell_type": "code",
   "execution_count": 14,
   "id": "1eebe796",
   "metadata": {},
   "outputs": [
    {
     "ename": "LoadError",
     "evalue": "UndefVarError: `Ω` not defined",
     "output_type": "error",
     "traceback": [
      "UndefVarError: `Ω` not defined",
      "",
      "Stacktrace:",
      " [1] top-level scope",
      "   @ In[14]:1"
     ]
    }
   ],
   "source": [
    "samples = Sample(spl; num_steps=10000, initial_x=Ω);"
   ]
  },
  {
   "cell_type": "markdown",
   "id": "e1cb8e03",
   "metadata": {},
   "source": [
    "## Plotting"
   ]
  },
  {
   "cell_type": "code",
   "execution_count": 15,
   "id": "56874cd3",
   "metadata": {},
   "outputs": [],
   "source": [
    "Plots.default(fmt=:png, dpi=120, size=(500,300), legendfontsize=10)"
   ]
  },
  {
   "cell_type": "code",
   "execution_count": 16,
   "id": "f48c433c",
   "metadata": {},
   "outputs": [
    {
     "ename": "LoadError",
     "evalue": "UndefVarError: `chain` not defined",
     "output_type": "error",
     "traceback": [
      "UndefVarError: `chain` not defined",
      "",
      "Stacktrace:",
      " [1] top-level scope",
      "   @ In[16]:1"
     ]
    }
   ],
   "source": [
    "plot([exp(Ω.θ.r) for (Ω,) in chain], label=L\"r\", xlabel=\"step\")\n",
    "plot!([exp(Ω.θ.Aϕ) for (Ω,) in chain], label=L\"A_\\phi\")"
   ]
  },
  {
   "cell_type": "code",
   "execution_count": 17,
   "id": "01a11feb",
   "metadata": {},
   "outputs": [
    {
     "ename": "LoadError",
     "evalue": "UndefVarError: `chain` not defined",
     "output_type": "error",
     "traceback": [
      "UndefVarError: `chain` not defined",
      "",
      "Stacktrace:",
      " [1] top-level scope",
      "   @ In[17]:1"
     ]
    }
   ],
   "source": [
    "plot(\n",
    "    histogram([exp(Ω.θ.r) for (Ω,) in chain], xlabel=L\"r\", label=nothing, lw=1),\n",
    "    histogram([exp(Ω.θ.Aϕ) for (Ω,) in chain], xlabel=L\"A_\\phi\", label=nothing, lw=1)\n",
    ")"
   ]
  },
  {
   "cell_type": "code",
   "execution_count": 18,
   "id": "9c6ca1e4",
   "metadata": {},
   "outputs": [
    {
     "ename": "LoadError",
     "evalue": "UndefVarError: `chain` not defined",
     "output_type": "error",
     "traceback": [
      "UndefVarError: `chain` not defined",
      "",
      "Stacktrace:",
      " [1] top-level scope",
      "   @ In[18]:1"
     ]
    }
   ],
   "source": [
    "plot(\n",
    "    histogram([exp(Ω.θ.r) for (Ω,) in chain], xlabel=L\"r\", label=nothing, lw=1),\n",
    "    histogram([exp(Ω.θ.Aϕ) for (Ω,) in chain], xlabel=L\"A_\\phi\", label=nothing, lw=1)\n",
    ")"
   ]
  },
  {
   "cell_type": "code",
   "execution_count": 19,
   "id": "3bf4a9be",
   "metadata": {},
   "outputs": [
    {
     "ename": "LoadError",
     "evalue": "UndefVarError: `chain` not defined",
     "output_type": "error",
     "traceback": [
      "UndefVarError: `chain` not defined",
      "",
      "Stacktrace:",
      " [1] top-level scope",
      "   @ In[19]:1"
     ]
    }
   ],
   "source": [
    "plot(\n",
    "    histogram([exp(Ω.θ.r) for (Ω,) in chain], xlabel=L\"r\", label=nothing, lw=1),\n",
    "    histogram([exp(Ω.θ.Aϕ) for (Ω,) in chain], xlabel=L\"A_\\phi\", label=nothing, lw=1)\n",
    ")"
   ]
  },
  {
   "cell_type": "code",
   "execution_count": 20,
   "id": "a79c2b35",
   "metadata": {},
   "outputs": [
    {
     "ename": "LoadError",
     "evalue": "UndefVarError: `prob` not defined",
     "output_type": "error",
     "traceback": [
      "UndefVarError: `prob` not defined",
      "",
      "Stacktrace:",
      " [1] (::var\"#17#18\")(::Tuple{Symbol, Symbol, LaTeXString, LaTeXString})",
      "   @ Main ./In[20]:3",
      " [2] iterate",
      "   @ ./generator.jl:47 [inlined]",
      " [3] _collect(c::Vector{Tuple{Symbol, Symbol, AbstractString, LaTeXString}}, itr::Base.Generator{Vector{Tuple{Symbol, Symbol, AbstractString, LaTeXString}}, var\"#17#18\"}, #unused#::Base.EltypeUnknown, isz::Base.HasShape{1})",
      "   @ Base ./array.jl:802",
      " [4] collect_similar(cont::Vector{Tuple{Symbol, Symbol, AbstractString, LaTeXString}}, itr::Base.Generator{Vector{Tuple{Symbol, Symbol, AbstractString, LaTeXString}}, var\"#17#18\"})",
      "   @ Base ./array.jl:711",
      " [5] map(f::Function, A::Vector{Tuple{Symbol, Symbol, AbstractString, LaTeXString}})",
      "   @ Base ./abstractarray.jl:3255",
      " [6] top-level scope",
      "   @ In[20]:2"
     ]
    }
   ],
   "source": [
    "\n",
    "ps = map([(:ϕ°,:I,L\"L\",L\"\\phi^\\circ\"), (:f°,:E,\"L\\ell\",L\"E^\\circ\"), (:f°,:B,L\"\\ell\",L\"B^\\circ\")]) do (k1, k2, xlabel, title)\n",
    "    plot(get_Cℓ(prob.Ωtrue[k1][k2]); label=\"true\", xlabel, title)\n",
    "    plot!(get_Cℓ(prob.Ωstart[k1][k2]); label=\"start\", xlabel, title)\n",
    "    plot!(get_Cℓ(chain[end][1][k1][k2]); label=\"last sample\", xlabel, title)\n",
    "end\n",
    "plot(ps..., layout=(1,3), xscale=:log10, yscale=:log10, size=(1000,300), legend=:bottomleft)"
   ]
  },
  {
   "cell_type": "code",
   "execution_count": null,
   "id": "eb8f90f5",
   "metadata": {},
   "outputs": [],
   "source": []
  },
  {
   "cell_type": "code",
   "execution_count": null,
   "id": "ea798d8d",
   "metadata": {},
   "outputs": [],
   "source": []
  },
  {
   "cell_type": "code",
   "execution_count": null,
   "id": "fe497b96",
   "metadata": {},
   "outputs": [],
   "source": []
  }
 ],
 "metadata": {
  "kernelspec": {
   "display_name": "Julia 1.9.0-beta3",
   "language": "julia",
   "name": "julia-1.9"
  },
  "language_info": {
   "file_extension": ".jl",
   "mimetype": "application/julia",
   "name": "julia",
   "version": "1.9.0"
  }
 },
 "nbformat": 4,
 "nbformat_minor": 5
}
