{
 "cells": [
  {
   "cell_type": "markdown",
   "id": "91129cb1",
   "metadata": {},
   "source": [
    "# Lab CMBLenses"
   ]
  },
  {
   "cell_type": "markdown",
   "id": "97121235",
   "metadata": {},
   "source": [
    "## Model"
   ]
  },
  {
   "cell_type": "code",
   "execution_count": 1,
   "id": "71684d25",
   "metadata": {},
   "outputs": [
    {
     "name": "stderr",
     "output_type": "stream",
     "text": [
      "\u001b[32m\u001b[1m  Activating\u001b[22m\u001b[39m project at `~/julia_repos/CMBLensingInferenceTestProblem`\n"
     ]
    }
   ],
   "source": [
    "] activate \"/home/jaimerz/julia_repos/CMBLensingInferenceTestProblem\""
   ]
  },
  {
   "cell_type": "code",
   "execution_count": 2,
   "id": "baed58e3",
   "metadata": {},
   "outputs": [],
   "source": [
    "using CMBLensing, CMBLensingInferenceTestProblem\n",
    "using CUDA, LaTeXStrings, MCMCDiagnosticTools, Plots, ProgressMeter, Random, Zygote\n",
    "using LinearAlgebra, Statistics\n",
    "ENV[\"LINES\"] = 10;"
   ]
  },
  {
   "cell_type": "code",
   "execution_count": 3,
   "id": "1b324e86",
   "metadata": {},
   "outputs": [],
   "source": [
    "using Revise\n",
    "using MCHMC"
   ]
  },
  {
   "cell_type": "code",
   "execution_count": 4,
   "id": "a7d6f81c",
   "metadata": {},
   "outputs": [
    {
     "name": "stderr",
     "output_type": "stream",
     "text": [
      "\r",
      "\u001b[32mMAP_joint: 100%|████████████████████████████████████████| Time: 0:00:53\u001b[39m\r\n",
      "\u001b[34m  step:        20\u001b[39m\r\n",
      "\u001b[34m  logpdf:      377.00\u001b[39m\r\n",
      "\u001b[34m  α:           0.008522608\u001b[39m\r\n",
      "\u001b[34m  CG:          2 iterations\u001b[39m\r\n",
      "\u001b[34m  Linesearch:  9 bisections\u001b[39m\n"
     ]
    }
   ],
   "source": [
    "prob = load_cmb_lensing_problem(storage = Array,\n",
    "                                T = Float32,\n",
    "                                Nside = 4);"
   ]
  },
  {
   "cell_type": "code",
   "execution_count": 130,
   "id": "85dc7f05",
   "metadata": {},
   "outputs": [
    {
     "data": {
      "text/plain": [
       "CMBLensingTarget2 (generic function with 1 method)"
      ]
     },
     "execution_count": 130,
     "metadata": {},
     "output_type": "execute_result"
    }
   ],
   "source": [
    "CMBLensingTarget2(prob; kwargs...) = begin\n",
    "    d = length(prob.Ωstart)\n",
    "    Λmass = real(prob.Λmass)\n",
    "    sqrtΛmass = sqrt(Λmass)\n",
    "    inv_sqrtΛmass = pinv(sqrtΛmass)\n",
    "\n",
    "    function transform(x)\n",
    "        xt = x\n",
    "        xt = CMBLensing.LenseBasis(inv_sqrtΛmass * x)\n",
    "        #xt = CMBLensing.LenseBasis(sqrtΛmass * x)\n",
    "        return xt\n",
    "    end\n",
    "\n",
    "    function inv_transform(xt)\n",
    "        x = xt\n",
    "        x = CMBLensing.LenseBasis(sqrtΛmass * xt)\n",
    "        #x = CMBLensing.LenseBasis(inv_sqrtΛmass * xt)\n",
    "        return x\n",
    "    end\n",
    "\n",
    "    function nlogp(xt)\n",
    "        x = inv_transform(xt)\n",
    "        return  -1.0 .* prob(x)\n",
    "    end\n",
    "\n",
    "    function grad_nlogp(xt)\n",
    "        return CMBLensing.LenseBasis(Zygote.gradient(nlogp, xt)[1])\n",
    "        #return ForwardDiff.gradient(nlogp, x)\n",
    "    end\n",
    "\n",
    "    function prior_draw(key)\n",
    "        x = prob.Ωstart\n",
    "        xt = transform(x)\n",
    "        return CMBLensing.LenseBasis(xt)\n",
    "        #return prob.Ωstart\n",
    "    end\n",
    "\n",
    "    CMBLensingTarget(d,\n",
    "                     Λmass,\n",
    "                     nlogp,\n",
    "                     grad_nlogp,\n",
    "                     transform,\n",
    "                     inv_transform,\n",
    "                     prior_draw)\n",
    "end"
   ]
  },
  {
   "cell_type": "code",
   "execution_count": 131,
   "id": "0de44eb9",
   "metadata": {},
   "outputs": [
    {
     "data": {
      "text/plain": [
       "CMBLensingTarget3 (generic function with 1 method)"
      ]
     },
     "execution_count": 131,
     "metadata": {},
     "output_type": "execute_result"
    }
   ],
   "source": [
    "CMBLensingTarget3(prob; kwargs...) = begin\n",
    "    d = length(prob.Ωstart)\n",
    "    Λmass = real(prob.Λmass)\n",
    "    sqrtΛmass = sqrt(Λmass)\n",
    "    inv_sqrtΛmass = pinv(sqrtΛmass)\n",
    "\n",
    "    function transform(x)\n",
    "        xt = x\n",
    "        #xt = CMBLensing.LenseBasis(inv_sqrtΛmass * x)\n",
    "        xt = CMBLensing.LenseBasis(sqrtΛmass * x)\n",
    "        return xt\n",
    "    end\n",
    "\n",
    "    function inv_transform(xt)\n",
    "        x = xt\n",
    "        #x = CMBLensing.LenseBasis(sqrtΛmass * xt)\n",
    "        x = CMBLensing.LenseBasis(inv_sqrtΛmass * xt)\n",
    "        return x\n",
    "    end\n",
    "\n",
    "    function nlogp(xt)\n",
    "        x = inv_transform(xt)\n",
    "        return -1.0 .* prob(x)\n",
    "    end\n",
    "\n",
    "    function grad_nlogp(xt)\n",
    "        return CMBLensing.LenseBasis(Zygote.gradient(nlogp, xt)[1])\n",
    "        #return ForwardDiff.gradient(nlogp, x)\n",
    "    end\n",
    "\n",
    "    function prior_draw(key)\n",
    "        x = prob.Ωstart\n",
    "        xt = transform(x)\n",
    "        return CMBLensing.LenseBasis(xt)\n",
    "        #return prob.Ωstart\n",
    "    end\n",
    "\n",
    "    CMBLensingTarget(d,\n",
    "                     Λmass,\n",
    "                     nlogp,\n",
    "                     grad_nlogp,\n",
    "                     transform,\n",
    "                     inv_transform,\n",
    "                     prior_draw)\n",
    "end"
   ]
  },
  {
   "cell_type": "code",
   "execution_count": 132,
   "id": "cf9d88ae",
   "metadata": {},
   "outputs": [],
   "source": [
    "target = CMBLensingTarget2(prob);\n",
    "target2 = CMBLensingTarget3(prob);"
   ]
  },
  {
   "cell_type": "markdown",
   "id": "d87fca8f",
   "metadata": {},
   "source": [
    "## Sample"
   ]
  },
  {
   "cell_type": "code",
   "execution_count": 133,
   "id": "1359a630",
   "metadata": {
    "code_folding": []
   },
   "outputs": [
    {
     "data": {
      "text/plain": [
       "Sampler(Settings(MersenneTwister(0), 0.1, 7.0710678118654755, 0.0, 0.1931833275037836, 0.0005, 2000, 1000, 10, \"LF\"), MCHMC.Leapfrog)"
      ]
     },
     "execution_count": 133,
     "metadata": {},
     "output_type": "execute_result"
    }
   ],
   "source": [
    "eps=0.1\n",
    "L=sqrt(target.d)\n",
    "spl=Sampler(;eps=eps, L=L)"
   ]
  },
  {
   "cell_type": "code",
   "execution_count": 134,
   "id": "95e28701",
   "metadata": {},
   "outputs": [
    {
     "data": {
      "text/plain": [
       "([0.11817961931228638, 0.7882625460624695, -0.915061891078949, -1.5918281078338623, 0.4248858690261841, 1.0952790975570679, -0.601466178894043, -1.2807449102401733, 0.9124752283096313, 1.5836602449417114  …  -1.9049437464526233e-16, -4.2375006943213514e-18, 2.5941760438202236e-16, 7.301237393385877e-17, -3.152020031481085e-16, -1.306839356366479e-16, 1.3832532425629436e-16, -4.6198483888617374e-17, -1.6094379124341003, 0.0], [-0.11833284795284271, 0.1652650386095047, -0.050393424928188324, 0.003822234459221363, -0.10895784944295883, 0.17649756371974945, -0.2594493329524994, -0.05051456019282341, 0.0059846434742212296, -0.2722530961036682  …  0.02744857221841812, 0.3533375561237335, 0.2658825218677521, -0.2326851338148117, -0.22705858945846558, -0.018141543492674828, -0.02003740705549717, -0.2018553614616394, 0.07425926417218671, -0.04337666806911163], [-1.9688955035235267e-6, 2.230841801065253e-6, 1.609240030120418e-6, -1.378087176817644e-6, -2.503246605556342e-6, 5.11863618157804e-7, 1.9355034055479337e-6, -2.2935967081139097e-6, -1.9205456283089006e-6, 1.0923621402980643e-6  …  4.04009517056e11, -3.39065667584e11, -7.1084269568e10, -1.3639513088e10, -1.49468151808e11, 1.15237093376e11, 2.55611764736e11, -1.95555377152e11, -0.0013904160622284592, 0.5304746991748047], 32.693817138671875, 0.0)"
      ]
     },
     "execution_count": 134,
     "metadata": {},
     "output_type": "execute_result"
    }
   ],
   "source": [
    "init = MCHMC.Get_initial_conditions(spl, target)\n",
    "x, g, u, r, t = init"
   ]
  },
  {
   "cell_type": "code",
   "execution_count": 137,
   "id": "8fab908a",
   "metadata": {},
   "outputs": [
    {
     "data": {
      "text/plain": [
       "50-element Field-(f°,ϕ°,θ)-Tuple{LambertQUMap{Array{Float32, 3}}, LambertMap{Array{Float32, 2}}, ComponentArrays.ComponentVector{Float64, Vector{Float64}, Tuple{ComponentArrays.Axis{(r = 1, Aϕ = 2)}}}}:\n",
       " -0.11833284795284271\n",
       "  0.1652650386095047\n",
       " -0.050393424928188324\n",
       "  ⋮\n",
       "  0.07425926417218671\n",
       " -0.04337666806911163"
      ]
     },
     "execution_count": 137,
     "metadata": {},
     "output_type": "execute_result"
    }
   ],
   "source": [
    "g"
   ]
  },
  {
   "cell_type": "code",
   "execution_count": 135,
   "id": "6efc8272",
   "metadata": {},
   "outputs": [
    {
     "name": "stdout",
     "output_type": "stream",
     "text": [
      "[1.906825344714995e71, -6.579411329263291e71, -4.173179180454567e71, 2.364237791543158e71, -8.91255696996726e71, 6.348672757076419e71, 9.17645254378672e71, -4.036858181423023e71, 5.968352490272168e71, 1.740450851278511e71, -3.7019986545325963e71, 2.4747226864416227e71, -2.539026719115814e72, 1.0647695880212158e72, 2.5126371617338682e72, -1.2959510455865556e72, 1.5634535253804413e70, -8.679463154725332e69, -1.7230793376150234e70, 9.233819446026834e69, -1.9921308923024763e70, 1.064131145869438e70, 2.290329995068357e70, -4.838878951687967e69, 2.336364687182778e70, -1.1706958464383454e70, -2.1767388749481965e70, 1.1152602173081953e70, -2.5330288001046785e70, 1.331456812476804e70, 2.234829697338798e70, -1.911700063177445e70, -5.083367144196709e103, -9.936356954361547e103, 4.3417135529419056e103, 9.315265320390747e103, 7.533824554343515e102, 1.1724882434006381e104, -5.8636482617537165e103, -5.322325473744325e103, -3.5810073239225637e103, -1.0229865096694027e104, 2.3080200731017208e103, 1.0093119620611254e104, -1.6584061947399434e104, 3.494989303021146e104, -2.6400790333948972e104, 9.515146049323474e103, -Inf, -2.2234377913544582e107]\n"
     ]
    }
   ],
   "source": [
    "uu, rr = MCHMC.Update_momentum(spl, target, eps * 0.5, g, u, r)\n",
    "\n",
    "#full step in x\n",
    "xx = x .- eps .* uu\n",
    "gg = target.grad_nlogp(xx)\n",
    "println(gg)"
   ]
  },
  {
   "cell_type": "code",
   "execution_count": 136,
   "id": "1eebe796",
   "metadata": {},
   "outputs": [
    {
     "data": {
      "text/plain": [
       "501-element Vector{Vector{Float64}}:\n",
       " [0.11817961931228638, 0.7882625460624695, -0.915061891078949, -1.5918281078338623, 0.4248858690261841, 1.0952790975570679, -0.601466178894043, -1.2807449102401733, 0.9124752283096313, 1.5836602449417114  …  -1.9049437464526233e-16, -4.2375006943213514e-18, 2.5941760438202236e-16, 7.301237393385877e-17, -3.152020031481085e-16, -1.306839356366479e-16, 1.3832532425629436e-16, -4.6198483888617374e-17, -1.6094379124341003, 0.0]\n",
       " [NaN, NaN, NaN, NaN, NaN, NaN, NaN, NaN, NaN, NaN  …  NaN, NaN, NaN, NaN, NaN, NaN, NaN, NaN, NaN, NaN]\n",
       " [NaN, NaN, NaN, NaN, NaN, NaN, NaN, NaN, NaN, NaN  …  NaN, NaN, NaN, NaN, NaN, NaN, NaN, NaN, NaN, NaN]\n",
       " ⋮\n",
       " [NaN, NaN, NaN, NaN, NaN, NaN, NaN, NaN, NaN, NaN  …  NaN, NaN, NaN, NaN, NaN, NaN, NaN, NaN, NaN, NaN]\n",
       " [NaN, NaN, NaN, NaN, NaN, NaN, NaN, NaN, NaN, NaN  …  NaN, NaN, NaN, NaN, NaN, NaN, NaN, NaN, NaN, NaN]"
      ]
     },
     "execution_count": 136,
     "metadata": {},
     "output_type": "execute_result"
    }
   ],
   "source": [
    "samples = Sample(spl, target; num_steps=500)"
   ]
  },
  {
   "cell_type": "code",
   "execution_count": 123,
   "id": "15be1f78",
   "metadata": {},
   "outputs": [
    {
     "data": {
      "text/plain": [
       "501-element Vector{Vector{Float64}}:\n",
       " [0.49172186851501465, 3.3348827362060547, -3.8632519245147705, -6.717447280883789, 1.7892075777053833, 4.633310794830322, -2.5502521991729736, -5.4095892906188965, 3.8559768199920654, 6.702130317687988  …  -0.04988100752234459, -0.000928846187889576, 0.0768577978014946, 0.020462296903133392, -0.1136246994137764, -0.03365310654044151, 0.054052047431468964, -0.02620689570903778, -1.6094379124341003, 0.0]\n",
       " [0.2379595589485688, 1.6345873725150575, -1.8849869759510058, -3.273532626804273, 0.8550562770657804, 2.249687268381514, -1.2239483763018937, -2.6292612333432412, 1.881113520331609, 3.268518553836625  …  -3.986214877878885e-9, -6.345170560415898e-10, 4.626322151788062e-9, 1.3829634259181773e-9, -6.150422216308497e-9, -2.646392434188878e-9, 2.8133753161588415e-9, -4.3273227514983417e-10, -1.6213546983196543, -0.0033778378831974265]\n",
       " [0.23375566332717346, 1.6466895455811597, -1.8911470196509406, -3.2776428842760095, 0.8387393716650529, 2.2480602447423093, -1.2110613130229675, -2.625423622794186, 1.8851339767106468, 3.278380436164458  …  -4.568332984669664e-9, -1.2220634131887789e-9, 4.611846603499669e-9, 1.5077503391094346e-9, -6.349061195131877e-9, -2.8372949442001344e-9, 3.1044632859674852e-9, 7.838471281071876e-11, -1.6341979705372272, -0.007920440495260535]\n",
       " ⋮\n",
       " [0.42635698138877975, 1.8344625961937755, -2.4884496044690763, -4.208221088960657, 1.3140712910023893, 3.0817208821592534, -1.6963388387658418, -1.933817176643386, 0.15095709427327975, 2.859735891951418  …  -4.101136565808995e-8, 2.998607533105653e-8, 5.596655521360395e-8, -1.525641565277351e-8, -3.588881140130641e-8, 2.124146364583455e-8, 4.0381544181269495e-8, -2.357127423994299e-8, -2.4936854258652943, -3.8741597532917935]\n",
       " [0.4302336479995499, 1.8270902513979452, -2.4909551253318427, -4.199114135616528, 1.3030875356824871, 3.0669486769371357, -1.687866995614417, -1.9500654371859447, 0.154421115652153, 2.8747025526566086  …  -4.121109264174031e-8, 3.0040952093118026e-8, 5.616766415030466e-8, -1.528418527032008e-8, -3.619421339817735e-8, 2.128114177577873e-8, 4.061039384651673e-8, -2.3871071586368072e-8, -2.497004155631047, -3.864243827735504]"
      ]
     },
     "execution_count": 123,
     "metadata": {},
     "output_type": "execute_result"
    }
   ],
   "source": [
    "samples2 = Sample(spl, target2; num_steps=500)"
   ]
  },
  {
   "cell_type": "markdown",
   "id": "e1cb8e03",
   "metadata": {},
   "source": [
    "## Plotting"
   ]
  },
  {
   "cell_type": "code",
   "execution_count": 106,
   "id": "56874cd3",
   "metadata": {},
   "outputs": [],
   "source": [
    "Plots.default(fmt=:png, dpi=120, size=(500,300), legendfontsize=10)"
   ]
  },
  {
   "cell_type": "code",
   "execution_count": 107,
   "id": "dc3b07b2",
   "metadata": {},
   "outputs": [],
   "source": [
    "rs = [sample[end] for sample in samples]\n",
    "Aϕs = [sample[end-1] for sample in samples];"
   ]
  },
  {
   "cell_type": "code",
   "execution_count": 108,
   "id": "c3967517",
   "metadata": {},
   "outputs": [
    {
     "name": "stdout",
     "output_type": "stream",
     "text": [
      "NaN NaN\n"
     ]
    }
   ],
   "source": [
    "println(mean(exp.(rs)), \" \", std(exp.(rs)))"
   ]
  },
  {
   "cell_type": "code",
   "execution_count": 109,
   "id": "4f2bebbd",
   "metadata": {},
   "outputs": [
    {
     "name": "stdout",
     "output_type": "stream",
     "text": [
      "NaN NaN\n"
     ]
    }
   ],
   "source": [
    "println(mean(exp.(Aϕs)), \" \", std(exp.(Aϕs)))"
   ]
  },
  {
   "cell_type": "code",
   "execution_count": 110,
   "id": "f48c433c",
   "metadata": {},
   "outputs": [
    {
     "data": {
      "image/png": "[encoded data removed]"
     },
     "execution_count": 110,
     "metadata": {},
     "output_type": "execute_result"
    }
   ],
   "source": [
    "plot(exp.(rs), label=L\"r\", xlabel=\"step\")\n",
    "plot!(exp.(Aϕs), label=L\"A_\\phi\")"
   ]
  },
  {
   "cell_type": "code",
   "execution_count": 111,
   "id": "5c5ef431",
   "metadata": {},
   "outputs": [],
   "source": [
    "rs = [sample[end] for sample in samples2]\n",
    "Aϕs = [sample[end-1] for sample in samples2];"
   ]
  },
  {
   "cell_type": "code",
   "execution_count": 112,
   "id": "14ab67d9",
   "metadata": {},
   "outputs": [
    {
     "name": "stdout",
     "output_type": "stream",
     "text": [
      "1.84241425934376 1.1800459416406908\n"
     ]
    }
   ],
   "source": [
    "println(mean(exp.(rs)), \" \", std(exp.(rs)))"
   ]
  },
  {
   "cell_type": "code",
   "execution_count": 113,
   "id": "01fee631",
   "metadata": {},
   "outputs": [
    {
     "name": "stdout",
     "output_type": "stream",
     "text": [
      "0.12370709656582053 0.06857087395249864\n"
     ]
    }
   ],
   "source": [
    "println(mean(exp.(Aϕs)), \" \", std(exp.(Aϕs)))"
   ]
  },
  {
   "cell_type": "code",
   "execution_count": 114,
   "id": "067c4c9a",
   "metadata": {},
   "outputs": [
    {
     "data": {
      "image/png": "[encoded data removed]"
     },
     "execution_count": 114,
     "metadata": {},
     "output_type": "execute_result"
    }
   ],
   "source": [
    "plot(exp.(rs), label=L\"r\", xlabel=\"step\")\n",
    "plot!(exp.(Aϕs), label=L\"A_\\phi\")"
   ]
  },
  {
   "cell_type": "code",
   "execution_count": 115,
   "id": "01a11feb",
   "metadata": {},
   "outputs": [
    {
     "data": {
      "image/png": "[encoded data removed]"
     },
     "execution_count": 115,
     "metadata": {},
     "output_type": "execute_result"
    }
   ],
   "source": [
    "plot(histogram(exp.(rs), xlabel=L\"r\", label=nothing, lw=1),\n",
    "    histogram(exp.(Aϕs), xlabel=L\"A_\\phi\", label=nothing, lw=1))"
   ]
  },
  {
   "cell_type": "code",
   "execution_count": null,
   "id": "9f163326",
   "metadata": {},
   "outputs": [],
   "source": []
  },
  {
   "cell_type": "code",
   "execution_count": null,
   "id": "8c7f8f8b",
   "metadata": {},
   "outputs": [],
   "source": []
  }
 ],
 "metadata": {
  "kernelspec": {
   "display_name": "Julia 1.9.0-beta3",
   "language": "julia",
   "name": "julia-1.9"
  },
  "language_info": {
   "file_extension": ".jl",
   "mimetype": "application/julia",
   "name": "julia",
   "version": "1.9.0"
  }
 },
 "nbformat": 4,
 "nbformat_minor": 5
}
