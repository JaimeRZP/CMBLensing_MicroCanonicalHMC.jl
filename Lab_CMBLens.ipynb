{
 "cells": [
  {
   "cell_type": "markdown",
   "id": "91129cb1",
   "metadata": {},
   "source": [
    "# Lab CMBLenses"
   ]
  },
  {
   "cell_type": "markdown",
   "id": "97121235",
   "metadata": {},
   "source": [
    "## Model"
   ]
  },
  {
   "cell_type": "code",
   "execution_count": 1,
   "id": "71684d25",
   "metadata": {},
   "outputs": [
    {
     "name": "stderr",
     "output_type": "stream",
     "text": [
      "\u001b[32m\u001b[1m  Activating\u001b[22m\u001b[39m project at `~/julia_repos/CMBLensingInferenceTestProblem`\n"
     ]
    }
   ],
   "source": [
    "] activate \"/home/jaimerz/julia_repos/CMBLensingInferenceTestProblem\""
   ]
  },
  {
   "cell_type": "code",
   "execution_count": 2,
   "id": "baed58e3",
   "metadata": {},
   "outputs": [],
   "source": [
    "using CMBLensing, CMBLensingInferenceTestProblem\n",
    "using CUDA, LaTeXStrings, MCMCDiagnosticTools, Plots, ProgressMeter, Random, Zygote\n",
    "using LinearAlgebra, Statistics\n",
    "ENV[\"LINES\"] = 10;"
   ]
  },
  {
   "cell_type": "code",
   "execution_count": 3,
   "id": "1b324e86",
   "metadata": {},
   "outputs": [],
   "source": [
    "using Revise\n",
    "using MCHMC"
   ]
  },
  {
   "cell_type": "code",
   "execution_count": 4,
   "id": "a7d6f81c",
   "metadata": {},
   "outputs": [
    {
     "name": "stderr",
     "output_type": "stream",
     "text": [
      "\r",
      "\u001b[32mMAP_joint: 100%|████████████████████████████████████████| Time: 0:00:52\u001b[39m\r\n",
      "\u001b[34m  step:        20\u001b[39m\r\n",
      "\u001b[34m  logpdf:      377.00\u001b[39m\r\n",
      "\u001b[34m  α:           0.008522608\u001b[39m\r\n",
      "\u001b[34m  CG:          2 iterations\u001b[39m\r\n",
      "\u001b[34m  Linesearch:  9 bisections\u001b[39m\n"
     ]
    }
   ],
   "source": [
    "prob = load_cmb_lensing_problem(storage = Array,\n",
    "                                T = Float32,\n",
    "                                Nside = 4);"
   ]
  },
  {
   "cell_type": "code",
   "execution_count": 5,
   "id": "cf9d88ae",
   "metadata": {},
   "outputs": [],
   "source": [
    "target = CMBLensingTarget(prob);"
   ]
  },
  {
   "cell_type": "markdown",
   "id": "d87fca8f",
   "metadata": {},
   "source": [
    "## Sample"
   ]
  },
  {
   "cell_type": "code",
   "execution_count": 6,
   "id": "1359a630",
   "metadata": {
    "code_folding": []
   },
   "outputs": [
    {
     "data": {
      "text/plain": [
       "Sampler(Settings(MersenneTwister(0), 1.0e-10, 7.0710678118654755, 0.0, 0.1931833275037836, 0.0005, 2000, 1000, 10, \"LF\"), MCHMC.Leapfrog)"
      ]
     },
     "execution_count": 6,
     "metadata": {},
     "output_type": "execute_result"
    }
   ],
   "source": [
    "eps=0.0000000001\n",
    "L=sqrt(target.d)\n",
    "spl=Sampler(;eps=eps, L=L)"
   ]
  },
  {
   "cell_type": "code",
   "execution_count": 12,
   "id": "cbf657f0",
   "metadata": {},
   "outputs": [
    {
     "data": {
      "text/plain": [
       "([0.7551871538162231, 1.9723188877105713, -3.1538174152374268, -4.002882480621338, 0.8755425214767456, 5.323873996734619, -1.4903321266174316, -3.7536017894744873, 2.1242988109588623, 31.004196166992188  …  -1.6442998219499304e-25, 2.999113576182202e-27, 4.989698067323286e-25, 9.930124375544534e-26, -2.6790665439582155e-25, -1.8535128830664963e-25, 2.7516318864772333e-25, -7.254404943755268e-26, -1.6094379124341003, 0.0], [-0.00685547012835741, -0.07400193065404892, 0.07223288714885712, 0.10806597769260406, -0.030852453783154488, -0.07574119418859482, -0.06605406105518341, 0.16427332162857056, -0.33986127376556396, -0.062390703707933426  …  -0.09528117626905441, 0.22921422123908997, -0.003997979685664177, 0.1335257589817047, 0.09592843800783157, 0.07913114130496979, -0.010629531927406788, -0.07857097685337067, -0.22111806858919342, -0.1076651102901874], [-0.3666161000728607, 2.0841095447540283, -2.2693936824798584, -5.356661319732666, 0.5079057812690735, 4.104981899261475, -0.3153401017189026, -4.073028087615967, 1.1464855670928955, 6.308129787445068  …  1.74290225856512e14, -9.4725134614528e14, -3.34256802889728e14, -5.471056043180032e15, 7.02156822806528e14, -1.150165532540928e15, -3.75207067910144e14, 8.61771631951872e14, 0.01999290622010523, 0.5593032248802213], 30.67109773596939, 0.0)"
      ]
     },
     "execution_count": 12,
     "metadata": {},
     "output_type": "execute_result"
    }
   ],
   "source": [
    "init = MCHMC.Get_initial_conditions(spl, target)\n",
    "x, g, u, r, t = init"
   ]
  },
  {
   "cell_type": "code",
   "execution_count": 11,
   "id": "cd099338",
   "metadata": {},
   "outputs": [
    {
     "data": {
      "text/plain": [
       "(([NaN, NaN, NaN, NaN, NaN, NaN, NaN, NaN, NaN, NaN  …  NaN, NaN, NaN, NaN, NaN, NaN, NaN, NaN, NaN, NaN], [NaN, NaN, NaN, NaN, NaN, NaN, NaN, NaN, NaN, NaN  …  NaN, NaN, NaN, NaN, NaN, NaN, NaN, NaN, NaN, NaN], [0.0, 0.0, 0.0, 0.0, 0.0, 0.0, 0.0, 0.0, 0.0, 0.0  …  0.0, 0.0, 0.0, 0.0, 0.0, 0.0, 0.0, 0.0, NaN, NaN], NaN, 0.0), [NaN, NaN, NaN, NaN, NaN, NaN, NaN, NaN, NaN, NaN  …  NaN, NaN, NaN, NaN, NaN, NaN, NaN, NaN, NaN, NaN])"
      ]
     },
     "execution_count": 11,
     "metadata": {},
     "output_type": "execute_result"
    }
   ],
   "source": [
    "next_step, sample = MCHMC.Step(spl, target, init)"
   ]
  },
  {
   "cell_type": "code",
   "execution_count": 14,
   "id": "fdb41e35",
   "metadata": {},
   "outputs": [
    {
     "data": {
      "text/plain": [
       "([NaN, NaN, NaN, NaN, NaN, NaN, NaN, NaN, NaN, NaN  …  NaN, NaN, NaN, NaN, NaN, NaN, NaN, NaN, NaN, NaN], [NaN, NaN, NaN, NaN, NaN, NaN, NaN, NaN, NaN, NaN  …  NaN, NaN, NaN, NaN, NaN, NaN, NaN, NaN, NaN, NaN], [0.0, 0.0, 0.0, 0.0, 0.0, 0.0, 0.0, 0.0, 0.0, 0.0  …  0.0, 0.0, 0.0, 0.0, 0.0, 0.0, 0.0, 0.0, NaN, NaN], NaN, 0.0)"
      ]
     },
     "execution_count": 14,
     "metadata": {},
     "output_type": "execute_result"
    }
   ],
   "source": [
    "next_step"
   ]
  },
  {
   "cell_type": "code",
   "execution_count": 9,
   "id": "c875288b",
   "metadata": {},
   "outputs": [
    {
     "data": {
      "text/plain": [
       "50-element Field-(f°,ϕ°,θ)-Tuple{LambertQUMap{Array{Float64, 3}}, LambertMap{Array{Float64, 2}}, ComponentArrays.ComponentVector{Float64, Vector{Float64}, Tuple{ComponentArrays.Axis{(r = 1, Aϕ = 2)}}}}:\n",
       " NaN\n",
       " NaN\n",
       " NaN\n",
       "   ⋮\n",
       " NaN\n",
       " NaN"
      ]
     },
     "execution_count": 9,
     "metadata": {},
     "output_type": "execute_result"
    }
   ],
   "source": [
    "sample"
   ]
  },
  {
   "cell_type": "code",
   "execution_count": 55,
   "id": "1eebe796",
   "metadata": {},
   "outputs": [
    {
     "data": {
      "text/plain": [
       "101-element Vector{Vector{Float64}}:\n",
       " [0.23362982273101807, 1.6145217418670654, -1.8872356414794922, -3.2767221927642822, 0.8644531965255737, 2.2458934783935547, -1.246073603630066, -2.639155864715576, 1.868626356124878, 3.251345157623291  …  -3.395840053599386e-9, 3.6597669339499816e-11, 4.677404241704153e-9, 1.211756028851596e-9, -5.810230518932258e-9, -2.3360031686792126e-9, 2.561251877253312e-9, -9.142808177209361e-10, -1.6094379124341003, 0.0]\n",
       " [NaN, NaN, NaN, NaN, NaN, NaN, NaN, NaN, NaN, NaN  …  NaN, NaN, NaN, NaN, NaN, NaN, NaN, NaN, NaN, NaN]\n",
       " [NaN, NaN, NaN, NaN, NaN, NaN, NaN, NaN, NaN, NaN  …  NaN, NaN, NaN, NaN, NaN, NaN, NaN, NaN, NaN, NaN]\n",
       " ⋮\n",
       " [NaN, NaN, NaN, NaN, NaN, NaN, NaN, NaN, NaN, NaN  …  NaN, NaN, NaN, NaN, NaN, NaN, NaN, NaN, NaN, NaN]\n",
       " [NaN, NaN, NaN, NaN, NaN, NaN, NaN, NaN, NaN, NaN  …  NaN, NaN, NaN, NaN, NaN, NaN, NaN, NaN, NaN, NaN]"
      ]
     },
     "execution_count": 55,
     "metadata": {},
     "output_type": "execute_result"
    }
   ],
   "source": [
    "samples = Sample(spl, target; num_steps=100)"
   ]
  },
  {
   "cell_type": "markdown",
   "id": "e1cb8e03",
   "metadata": {},
   "source": [
    "## Plotting"
   ]
  },
  {
   "cell_type": "code",
   "execution_count": 16,
   "id": "56874cd3",
   "metadata": {},
   "outputs": [],
   "source": [
    "Plots.default(fmt=:png, dpi=120, size=(500,300), legendfontsize=10)"
   ]
  },
  {
   "cell_type": "code",
   "execution_count": 17,
   "id": "dc3b07b2",
   "metadata": {},
   "outputs": [],
   "source": [
    "rs = [sample[end] for sample in samples]\n",
    "Aϕs = [sample[end-1] for sample in samples];"
   ]
  },
  {
   "cell_type": "code",
   "execution_count": 18,
   "id": "c3967517",
   "metadata": {},
   "outputs": [
    {
     "name": "stdout",
     "output_type": "stream",
     "text": [
      "NaN NaN\n"
     ]
    }
   ],
   "source": [
    "println(mean(exp.(rs)), \" \", std(exp.(rs)))"
   ]
  },
  {
   "cell_type": "code",
   "execution_count": 19,
   "id": "4f2bebbd",
   "metadata": {},
   "outputs": [
    {
     "name": "stdout",
     "output_type": "stream",
     "text": [
      "NaN NaN\n"
     ]
    }
   ],
   "source": [
    "println(mean(exp.(Aϕs)), \" \", std(exp.(Aϕs)))"
   ]
  },
  {
   "cell_type": "code",
   "execution_count": 20,
   "id": "f48c433c",
   "metadata": {},
   "outputs": [
    {
     "data": {
      "image/png": "[encoded data removed]"
     },
     "execution_count": 20,
     "metadata": {},
     "output_type": "execute_result"
    }
   ],
   "source": [
    "plot(exp.(rs), label=L\"r\", xlabel=\"step\")\n",
    "plot!(exp.(Aϕs), label=L\"A_\\phi\")"
   ]
  },
  {
   "cell_type": "code",
   "execution_count": 21,
   "id": "01a11feb",
   "metadata": {},
   "outputs": [
    {
     "ename": "LoadError",
     "evalue": "MethodError: reducing over an empty collection is not allowed; consider supplying `init` to the reducer",
     "output_type": "error",
     "traceback": [
      "MethodError: reducing over an empty collection is not allowed; consider supplying `init` to the reducer",
      "",
      "Stacktrace:",
      "  [1] mapreduce_empty",
      "    @ ./reduce.jl:367",
      "  [2] reduce_empty(op::Base.MappingRF{typeof(identity), typeof(max)}, #unused#::Type{Float64})",
      "    @ Base ./reduce.jl:356",
      "  [3] reduce_empty_iter",
      "    @ ./reduce.jl:379 [inlined]",
      "  [4] mapreduce_empty_iter(f::Function, op::Function, itr::Vector{Float64}, ItrEltype::Base.HasEltype)",
      "    @ Base ./reduce.jl:375",
      "  [5] _mapreduce(f::typeof(identity), op::typeof(max), #unused#::IndexLinear, A::Vector{Float64})",
      "    @ Base ./reduce.jl:427",
      "  [6] _mapreduce_dim",
      "    @ ./reducedim.jl:365 [inlined]",
      "  [7] #mapreduce#800",
      "    @ ./reducedim.jl:357 [inlined]",
      "  [8] mapreduce",
      "    @ ./reducedim.jl:357 [inlined]",
      "  [9] #_maximum#818",
      "    @ ./reducedim.jl:999 [inlined]",
      " [10] _maximum",
      "    @ ./reducedim.jl:999 [inlined]",
      " [11] #_maximum#817",
      "    @ ./reducedim.jl:998 [inlined]",
      " [12] _maximum",
      "    @ ./reducedim.jl:998 [inlined]",
      " [13] #maximum#815",
      "    @ ./reducedim.jl:994 [inlined]",
      " [14] maximum",
      "    @ ./reducedim.jl:994 [inlined]",
      " [15] _span",
      "    @ ~/.julia/packages/Plots/nuwp4/src/recipes.jl:718 [inlined]",
      " [16] _auto_binning_nbins(vs::Tuple{Vector{Float64}}, dim::Int64; mode::Symbol)",
      "    @ Plots ~/.julia/packages/Plots/nuwp4/src/recipes.jl:742",
      " [17] _hist_edge",
      "    @ ~/.julia/packages/Plots/nuwp4/src/recipes.jl:752 [inlined]",
      " [18] #255",
      "    @ ~/.julia/packages/Plots/nuwp4/src/recipes.jl:763 [inlined]",
      " [19] map(f::Plots.var\"#255#256\"{Tuple{Vector{Float64}}, Symbol}, t::Tuple{Int64})",
      "    @ Base ./tuple.jl:273",
      " [20] _hist_edges(vs::Tuple{Vector{Float64}}, binning::Symbol)",
      "    @ Plots ~/.julia/packages/Plots/nuwp4/src/recipes.jl:763",
      " [21] _make_hist(vs::Tuple{Vector{Float64}}, binning::Symbol; normed::Bool, weights::Nothing)",
      "    @ Plots ~/.julia/packages/Plots/nuwp4/src/recipes.jl:782",
      " [22] kwcall(::NamedTuple{(:normed, :weights), Tuple{Bool, Nothing}}, ::typeof(Plots._make_hist), vs::Tuple{Vector{Float64}}, binning::Symbol)",
      "    @ Plots ~/.julia/packages/Plots/nuwp4/src/recipes.jl:775",
      " [23] macro expansion",
      "    @ ~/.julia/packages/Plots/nuwp4/src/recipes.jl:806 [inlined]",
      " [24] apply_recipe(plotattributes::AbstractDict{Symbol, Any}, #unused#::Type{Val{:barhist}}, x::Any, y::Any, z::Any)",
      "    @ Plots ~/.julia/packages/RecipesBase/z10lo/src/RecipesBase.jl:300",
      " [25] _process_seriesrecipe(plt::Any, plotattributes::Any)",
      "    @ RecipesPipeline ~/.julia/packages/RecipesPipeline/XxUHt/src/series_recipe.jl:50",
      " [26] _process_seriesrecipe(plt::Any, plotattributes::Any)",
      "    @ RecipesPipeline ~/.julia/packages/RecipesPipeline/XxUHt/src/series_recipe.jl:62",
      " [27] _process_seriesrecipes!(plt::Any, kw_list::Any)",
      "    @ RecipesPipeline ~/.julia/packages/RecipesPipeline/XxUHt/src/series_recipe.jl:27",
      " [28] recipe_pipeline!(plt::Any, plotattributes::Any, args::Any)",
      "    @ RecipesPipeline ~/.julia/packages/RecipesPipeline/XxUHt/src/RecipesPipeline.jl:99",
      " [29] _plot!(plt::Plots.Plot, plotattributes::Any, args::Any)",
      "    @ Plots ~/.julia/packages/Plots/nuwp4/src/plot.jl:223",
      " [30] plot(args::Any; kw::Base.Pairs{Symbol, V, Tuple{Vararg{Symbol, N}}, NamedTuple{names, T}} where {V, N, names, T<:Tuple{Vararg{Any, N}}})",
      "    @ Plots ~/.julia/packages/Plots/nuwp4/src/plot.jl:102",
      " [31] kwcall(::Any, ::typeof(plot), args::Any)",
      "    @ Plots ~/.julia/packages/Plots/nuwp4/src/plot.jl:93",
      " [32] histogram(args::Any; kw::Base.Pairs{Symbol, V, Tuple{Vararg{Symbol, N}}, NamedTuple{names, T}} where {V, N, names, T<:Tuple{Vararg{Any, N}}})",
      "    @ Plots ~/.julia/packages/RecipesBase/z10lo/src/RecipesBase.jl:427",
      " [33] kwcall(::Any, ::typeof(histogram), args::Any)",
      "    @ Plots ~/.julia/packages/RecipesBase/z10lo/src/RecipesBase.jl:427",
      " [34] top-level scope",
      "    @ In[21]:1"
     ]
    }
   ],
   "source": [
    "plot(histogram(exp.(rs), xlabel=L\"r\", label=nothing, lw=1),\n",
    "    histogram(exp.(Aϕs), xlabel=L\"A_\\phi\", label=nothing, lw=1))"
   ]
  },
  {
   "cell_type": "code",
   "execution_count": null,
   "id": "9f163326",
   "metadata": {},
   "outputs": [],
   "source": []
  }
 ],
 "metadata": {
  "kernelspec": {
   "display_name": "Julia 1.9.0-beta3",
   "language": "julia",
   "name": "julia-1.9"
  },
  "language_info": {
   "file_extension": ".jl",
   "mimetype": "application/julia",
   "name": "julia",
   "version": "1.9.0"
  }
 },
 "nbformat": 4,
 "nbformat_minor": 5
}
