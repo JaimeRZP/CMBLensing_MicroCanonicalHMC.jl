{
 "cells": [
  {
   "cell_type": "markdown",
   "id": "91129cb1",
   "metadata": {},
   "source": [
    "# Lab CMBLenses"
   ]
  },
  {
   "cell_type": "markdown",
   "id": "97121235",
   "metadata": {},
   "source": [
    "## Model"
   ]
  },
  {
   "cell_type": "code",
   "execution_count": 1,
   "id": "71684d25",
   "metadata": {},
   "outputs": [
    {
     "name": "stderr",
     "output_type": "stream",
     "text": [
      "\u001b[32m\u001b[1m  Activating\u001b[22m\u001b[39m project at `~/julia_repos/CMBLensingInferenceTestProblem`\n"
     ]
    }
   ],
   "source": [
    "] activate \"/home/jaimerz/julia_repos/CMBLensingInferenceTestProblem\""
   ]
  },
  {
   "cell_type": "code",
   "execution_count": 2,
   "id": "baed58e3",
   "metadata": {},
   "outputs": [],
   "source": [
    "using CMBLensing, CMBLensingInferenceTestProblem, CUDA, LaTeXStrings, MCMCDiagnosticTools, Plots, ProgressMeter, Random, Zygote\n",
    "ENV[\"LINES\"] = 10;"
   ]
  },
  {
   "cell_type": "code",
   "execution_count": 3,
   "id": "5d5c73ff",
   "metadata": {},
   "outputs": [],
   "source": [
    "using Revise\n",
    "using MCHMC"
   ]
  },
  {
   "cell_type": "code",
   "execution_count": 4,
   "id": "a7d6f81c",
   "metadata": {},
   "outputs": [
    {
     "name": "stderr",
     "output_type": "stream",
     "text": [
      "\r",
      "\u001b[32mMAP_joint: 100%|████████████████████████████████████████| Time: 0:00:47\u001b[39m\r\n",
      "\u001b[34m  step:        20\u001b[39m\r\n",
      "\u001b[34m  logpdf:      377.00\u001b[39m\r\n",
      "\u001b[34m  α:           0.008522608\u001b[39m\r\n",
      "\u001b[34m  CG:          2 iterations\u001b[39m\r\n",
      "\u001b[34m  Linesearch:  9 bisections\u001b[39m\n"
     ]
    }
   ],
   "source": [
    "prob = load_cmb_lensing_problem(storage = Array,\n",
    "                                T = Float32,\n",
    "                                Nside = 4);"
   ]
  },
  {
   "cell_type": "code",
   "execution_count": 5,
   "id": "cf9d88ae",
   "metadata": {},
   "outputs": [
    {
     "data": {
      "text/plain": [
       "CMBLensingTarget(50, [-0.30936679244041443 0.0 … 0.0 0.0; 0.0 -0.8185905814170837 … 0.0 0.0; … ; 0.0 0.0 … 1.0 0.0; 0.0 0.0 … 0.0 1.0], MCHMC.var\"#nlogp#26\"{CMBLensingInferenceTestProblem.CMBLensingLogDensityProblem}(CMBLensingInferenceTestProblem.CMBLensingLogDensityProblem(BaseDataSet(d, Cf, Cn, Cn̂, M, M̂, B, B̂, logprior, Cϕ, Cf̃, D, G, L, Nϕ), [0.23362982273101807, 1.6145217418670654, -1.8872356414794922, -3.2767221927642822, 0.8644531965255737, 2.2458934783935547, -1.246073603630066, -2.639155864715576, 1.868626356124878, 3.251345157623291  …  -3.395840053599386e-9, 3.6597669339499816e-11, 4.677404241704153e-9, 1.211756028851596e-9, -5.810230518932258e-9, -2.3360031686792126e-9, 2.561251877253312e-9, -9.142808177209361e-10, -1.6094379124341003, 0.0], [0.0064222607761621475, 1.912354826927185, -2.338594675064087, -2.761254072189331, 0.3457961082458496, 2.8930203914642334, -1.2424980401992798, -3.303896427154541, 1.9643025398254395, 3.0344090461730957  …  -3.2332728494566254e-8, -3.391006586639378e-8, 1.845877939388174e-8, 1.4510003865098042e-8, -4.9752614472708956e-8, -2.7021416215688987e-8, 2.5473982034895926e-8, 1.7868178048274785e-9, -1.6094379124341003, 0.0], ComplexF64[0.0 + 0.0im 0.0 + 0.0im … 0.0 + 0.0im 0.0 + 0.0im; 0.0 + 0.0im 4.224938869476318 + 0.0im … 0.0 + 0.0im 0.0 + 0.0im; … ; 0.0 + 0.0im 0.0 + 0.0im … 1.0 + 0.0im 0.0 + 0.0im; 0.0 + 0.0im 0.0 + 0.0im … 0.0 + 0.0im 1.0 + 0.0im])), MCHMC.var\"#grad_nlogp#27\"{MCHMC.var\"#nlogp#26\"{CMBLensingInferenceTestProblem.CMBLensingLogDensityProblem}}(MCHMC.var\"#nlogp#26\"{CMBLensingInferenceTestProblem.CMBLensingLogDensityProblem}(CMBLensingInferenceTestProblem.CMBLensingLogDensityProblem(BaseDataSet(d, Cf, Cn, Cn̂, M, M̂, B, B̂, logprior, Cϕ, Cf̃, D, G, L, Nϕ), [0.23362982273101807, 1.6145217418670654, -1.8872356414794922, -3.2767221927642822, 0.8644531965255737, 2.2458934783935547, -1.246073603630066, -2.639155864715576, 1.868626356124878, 3.251345157623291  …  -3.395840053599386e-9, 3.6597669339499816e-11, 4.677404241704153e-9, 1.211756028851596e-9, -5.810230518932258e-9, -2.3360031686792126e-9, 2.561251877253312e-9, -9.142808177209361e-10, -1.6094379124341003, 0.0], [0.0064222607761621475, 1.912354826927185, -2.338594675064087, -2.761254072189331, 0.3457961082458496, 2.8930203914642334, -1.2424980401992798, -3.303896427154541, 1.9643025398254395, 3.0344090461730957  …  -3.2332728494566254e-8, -3.391006586639378e-8, 1.845877939388174e-8, 1.4510003865098042e-8, -4.9752614472708956e-8, -2.7021416215688987e-8, 2.5473982034895926e-8, 1.7868178048274785e-9, -1.6094379124341003, 0.0], ComplexF64[0.0 + 0.0im 0.0 + 0.0im … 0.0 + 0.0im 0.0 + 0.0im; 0.0 + 0.0im 4.224938869476318 + 0.0im … 0.0 + 0.0im 0.0 + 0.0im; … ; 0.0 + 0.0im 0.0 + 0.0im … 1.0 + 0.0im 0.0 + 0.0im; 0.0 + 0.0im 0.0 + 0.0im … 0.0 + 0.0im 1.0 + 0.0im]))), MCHMC.var\"#transform#28\"{Diagonal{Float64, Field-(f°,ϕ°,θ)-Tuple{LambertQUMap{Array{Float32, 3}}, LambertMap{Array{Float32, 2}}, ComponentArrays.ComponentVector{Float64, Vector{Float64}, Tuple{ComponentArrays.Axis{(r = 1, Aϕ = 2)}}}}}}([-3.2324090003967285 0.0 … 0.0 0.0; 0.0 -1.2216118574142456 … 0.0 0.0; … ; 0.0 0.0 … 1.0 0.0; 0.0 0.0 … 0.0 1.0]), MCHMC.var\"#prior_draw#29\"{CMBLensingInferenceTestProblem.CMBLensingLogDensityProblem, Diagonal{Float64, Field-(f°,ϕ°,θ)-Tuple{LambertQUMap{Array{Float32, 3}}, LambertMap{Array{Float32, 2}}, ComponentArrays.ComponentVector{Float64, Vector{Float64}, Tuple{ComponentArrays.Axis{(r = 1, Aϕ = 2)}}}}}}(CMBLensingInferenceTestProblem.CMBLensingLogDensityProblem(BaseDataSet(d, Cf, Cn, Cn̂, M, M̂, B, B̂, logprior, Cϕ, Cf̃, D, G, L, Nϕ), [0.23362982273101807, 1.6145217418670654, -1.8872356414794922, -3.2767221927642822, 0.8644531965255737, 2.2458934783935547, -1.246073603630066, -2.639155864715576, 1.868626356124878, 3.251345157623291  …  -3.395840053599386e-9, 3.6597669339499816e-11, 4.677404241704153e-9, 1.211756028851596e-9, -5.810230518932258e-9, -2.3360031686792126e-9, 2.561251877253312e-9, -9.142808177209361e-10, -1.6094379124341003, 0.0], [0.0064222607761621475, 1.912354826927185, -2.338594675064087, -2.761254072189331, 0.3457961082458496, 2.8930203914642334, -1.2424980401992798, -3.303896427154541, 1.9643025398254395, 3.0344090461730957  …  -3.2332728494566254e-8, -3.391006586639378e-8, 1.845877939388174e-8, 1.4510003865098042e-8, -4.9752614472708956e-8, -2.7021416215688987e-8, 2.5473982034895926e-8, 1.7868178048274785e-9, -1.6094379124341003, 0.0], ComplexF64[0.0 + 0.0im 0.0 + 0.0im … 0.0 + 0.0im 0.0 + 0.0im; 0.0 + 0.0im 4.224938869476318 + 0.0im … 0.0 + 0.0im 0.0 + 0.0im; … ; 0.0 + 0.0im 0.0 + 0.0im … 1.0 + 0.0im 0.0 + 0.0im; 0.0 + 0.0im 0.0 + 0.0im … 0.0 + 0.0im 1.0 + 0.0im]), [-0.30936679244041443 0.0 … 0.0 0.0; 0.0 -0.8185905814170837 … 0.0 0.0; … ; 0.0 0.0 … 1.0 0.0; 0.0 0.0 … 0.0 1.0]))"
      ]
     },
     "execution_count": 5,
     "metadata": {},
     "output_type": "execute_result"
    }
   ],
   "source": [
    "target = CMBLensingTarget(prob)"
   ]
  },
  {
   "cell_type": "markdown",
   "id": "d87fca8f",
   "metadata": {},
   "source": [
    "## Sample"
   ]
  },
  {
   "cell_type": "code",
   "execution_count": 6,
   "id": "1359a630",
   "metadata": {
    "code_folding": []
   },
   "outputs": [
    {
     "data": {
      "text/plain": [
       "Sampler(Settings(MersenneTwister(0), 5.0e-8, 27.748873851023216, 0.0, 0.1931833275037836, 0.0005, 2000, 1000, 10, \"LF\"), MCHMC.Leapfrog)"
      ]
     },
     "execution_count": 6,
     "metadata": {},
     "output_type": "execute_result"
    }
   ],
   "source": [
    "eps=0.00000005\n",
    "L=sqrt(770)\n",
    "spl=Sampler(;eps=eps, L=L)"
   ]
  },
  {
   "cell_type": "code",
   "execution_count": 16,
   "id": "f2b05b6e",
   "metadata": {},
   "outputs": [
    {
     "data": {
      "text/plain": [
       "50-element Field-(f°,ϕ°,θ)-Tuple{LambertQUMap{Array{Float32, 3}}, LambertMap{Array{Float32, 2}}, ComponentArrays.ComponentVector{Float64, Vector{Float64}, Tuple{ComponentArrays.Axis{(r = 1, Aϕ = 2)}}}}:\n",
       "  0.23362982273101807\n",
       "  1.6145217418670654\n",
       " -1.8872356414794922\n",
       "  ⋮\n",
       " -1.6094379124341003\n",
       "  0.0"
      ]
     },
     "execution_count": 16,
     "metadata": {},
     "output_type": "execute_result"
    }
   ],
   "source": [
    "x_i = prob.Ωstart"
   ]
  },
  {
   "cell_type": "code",
   "execution_count": 18,
   "id": "79d86c0d",
   "metadata": {},
   "outputs": [],
   "source": [
    "using LinearAlgebra"
   ]
  },
  {
   "cell_type": "code",
   "execution_count": 19,
   "id": "ee5c296e",
   "metadata": {},
   "outputs": [
    {
     "data": {
      "text/plain": [
       "50-element Field-(f°,ϕ°,θ)-Tuple{LambertQUMap{Array{Float32, 3}}, LambertMap{Array{Float32, 2}}, ComponentArrays.ComponentVector{Float64, Vector{Float64}, Tuple{ComponentArrays.Axis{(r = 1, Aϕ = 2)}}}}:\n",
       " -0.07227730751037598\n",
       " -1.3216322660446167\n",
       "  1.1293165683746338\n",
       "  ⋮\n",
       " -1.6094379124341003\n",
       "  0.0"
      ]
     },
     "execution_count": 19,
     "metadata": {},
     "output_type": "execute_result"
    }
   ],
   "source": [
    "x_t = CMBLensing.LenseBasis(target.Λmass * prob.Ωstart)"
   ]
  },
  {
   "cell_type": "code",
   "execution_count": 23,
   "id": "29bbdb5e",
   "metadata": {},
   "outputs": [
    {
     "data": {
      "text/plain": [
       "50-element Field-(f°,ϕ°,θ)-Tuple{LambertQUMap{Array{Float32, 3}}, LambertMap{Array{Float32, 2}}, ComponentArrays.ComponentVector{Float64, Vector{Float64}, Tuple{ComponentArrays.Axis{(r = 1, Aϕ = 2)}}}}:\n",
       "  0.0\n",
       " -1.1920928955078125e-7\n",
       "  1.1920928955078125e-7\n",
       "  ⋮\n",
       "  0.0\n",
       "  0.0"
      ]
     },
     "execution_count": 23,
     "metadata": {},
     "output_type": "execute_result"
    }
   ],
   "source": [
    "x_t_t = CMBLensing.LenseBasis(pinv(target.Λmass) * x_t) .- x_i"
   ]
  },
  {
   "cell_type": "code",
   "execution_count": 14,
   "id": "adfaab0c",
   "metadata": {},
   "outputs": [
    {
     "name": "stdout",
     "output_type": "stream",
     "text": [
      "[-0.07227730751037598, -1.3216322660446167, 1.1293165683746338, 2.6822938919067383, 0.8535043597221375, -0.9474374055862427, 1.0418479442596436, -1.855589509010315, 1.6437256336212158, 0.340961754322052, -0.13981123268604279, -0.171187624335289, 1.226458191871643, 1.8459159135818481, 0.7298175692558289, 0.956998884677887, -0.13334371149539948, -0.14095385372638702, -0.17934653162956238, 0.11742118000984192, 0.24468906223773956, 0.31244736909866333, -0.07096916437149048, 0.4438897669315338, 0.04077986627817154, -0.08517462015151978, 0.2822841703891754, 0.0698869526386261, -0.23842734098434448, 0.41041478514671326, 0.06926567852497101, 0.3254426419734955, -1.67952032e8, 4.191448e7, 7.4133144e7, -1.1268081e7, 5.6563352e7, 1.0333089e7, -5.450194e7, 3.0646898e7, -7.0131552e7, -446595.09375, 4.384656e7, -1.4786851e7, 1.26009488e8, -2.944091e7, -2.384044e7, -1.1522784e7, -1.6094379124341003, 0.0]\n"
     ]
    }
   ],
   "source": [
    "println(CMBLensing.LenseBasis(target.Λmass * prob.Ωstart))"
   ]
  },
  {
   "cell_type": "code",
   "execution_count": 10,
   "id": "7edf93fd",
   "metadata": {},
   "outputs": [
    {
     "data": {
      "text/plain": [
       "([0.23362982273101807, 1.6145217418670654, -1.8872356414794922, -3.2767221927642822, 0.8644531965255737, 2.2458934783935547, -1.246073603630066, -2.639155864715576, 1.868626356124878, 3.251345157623291  …  -3.395840053599386e-9, 3.6597669339499816e-11, 4.677404241704153e-9, 1.211756028851596e-9, -5.810230518932258e-9, -2.3360031686792126e-9, 2.561251877253312e-9, -9.142808177209361e-10, -1.6094379124341003, 0.0], [0.08089274913072586, 0.2523616850376129, -0.13022014498710632, 0.11755821108818054, -0.018841397017240524, 0.08517371863126755, -0.10992377996444702, 0.26595795154571533, -0.011915401555597782, -0.079404316842556  …  0.17141442000865936, 0.05941588431596756, -0.17806540429592133, -0.15244604647159576, -0.07666977494955063, 0.12776918709278107, 0.21059317886829376, -0.05345888435840607, -0.19368093684198565, -0.26190804120568417], [3.002088817538606e-7, -3.2172076203096367e-7, 5.61635943086003e-7, 5.00593102970015e-7, -1.5009730702786328e-7, -1.0105396768267383e-6, 7.816060332288544e-8, 9.269866723116138e-7, -5.241498683972168e-7, -6.261871021706611e-7  …  -2023.9400634765625, 1669.95361328125, 1344.0316162109375, -385.736572265625, -503.5356750488281, -948.72265625, -908.3474731445312, 1428.0181884765625, 0.0013904187959227277, -0.5304746831602736], 17.306182861328125, 0.0)"
      ]
     },
     "execution_count": 10,
     "metadata": {},
     "output_type": "execute_result"
    }
   ],
   "source": [
    "init = MCHMC.Get_initial_conditions(spl, target, initial_x=prob.Ωstart)"
   ]
  },
  {
   "cell_type": "code",
   "execution_count": 11,
   "id": "9a7e307a",
   "metadata": {},
   "outputs": [
    {
     "data": {
      "text/plain": [
       "50-element Field-(f°,ϕ°,θ)-Tuple{LambertQUMap{Array{Float64, 3}}, LambertMap{Array{Float64, 2}}, ComponentArrays.ComponentVector{Float64, Vector{Float64}, Tuple{ComponentArrays.Axis{(r = 1, Aϕ = 2)}}}}:\n",
       " -0.7551871548307489\n",
       " -1.9723189193323\n",
       "  3.1538173487101595\n",
       "  ⋮\n",
       " -1.6094379221181407\n",
       " -1.3095393417301704e-8"
      ]
     },
     "execution_count": 11,
     "metadata": {},
     "output_type": "execute_result"
    }
   ],
   "source": [
    "init, sample = MCHMC.Step(spl, target, init)\n",
    "sample"
   ]
  },
  {
   "cell_type": "code",
   "execution_count": 12,
   "id": "1eebe796",
   "metadata": {},
   "outputs": [
    {
     "data": {
      "text/plain": [
       "10-element Vector{Vector{Float64}}:\n",
       " [NaN, NaN, NaN, NaN, NaN, NaN, NaN, NaN, NaN, NaN  …  NaN, NaN, NaN, NaN, NaN, NaN, NaN, NaN, NaN, NaN]\n",
       " [NaN, NaN, NaN, NaN, NaN, NaN, NaN, NaN, NaN, NaN  …  NaN, NaN, NaN, NaN, NaN, NaN, NaN, NaN, NaN, NaN]\n",
       " [NaN, NaN, NaN, NaN, NaN, NaN, NaN, NaN, NaN, NaN  …  NaN, NaN, NaN, NaN, NaN, NaN, NaN, NaN, NaN, NaN]\n",
       " ⋮\n",
       " [NaN, NaN, NaN, NaN, NaN, NaN, NaN, NaN, NaN, NaN  …  NaN, NaN, NaN, NaN, NaN, NaN, NaN, NaN, NaN, NaN]\n",
       " [NaN, NaN, NaN, NaN, NaN, NaN, NaN, NaN, NaN, NaN  …  NaN, NaN, NaN, NaN, NaN, NaN, NaN, NaN, NaN, NaN]"
      ]
     },
     "execution_count": 12,
     "metadata": {},
     "output_type": "execute_result"
    }
   ],
   "source": [
    "samples = Sample(spl, target; num_steps=10, initial_x=prob.Ωstart)"
   ]
  },
  {
   "cell_type": "markdown",
   "id": "e1cb8e03",
   "metadata": {},
   "source": [
    "## Plotting"
   ]
  },
  {
   "cell_type": "code",
   "execution_count": 8,
   "id": "56874cd3",
   "metadata": {},
   "outputs": [],
   "source": [
    "Plots.default(fmt=:png, dpi=120, size=(500,300), legendfontsize=10)"
   ]
  },
  {
   "cell_type": "code",
   "execution_count": 16,
   "id": "f48c433c",
   "metadata": {},
   "outputs": [
    {
     "ename": "LoadError",
     "evalue": "UndefVarError: `chain` not defined",
     "output_type": "error",
     "traceback": [
      "UndefVarError: `chain` not defined",
      "",
      "Stacktrace:",
      " [1] top-level scope",
      "   @ In[16]:1"
     ]
    }
   ],
   "source": [
    "plot([exp(Ω.θ.r) for (Ω,) in chain], label=L\"r\", xlabel=\"step\")\n",
    "plot!([exp(Ω.θ.Aϕ) for (Ω,) in chain], label=L\"A_\\phi\")"
   ]
  },
  {
   "cell_type": "code",
   "execution_count": 17,
   "id": "01a11feb",
   "metadata": {},
   "outputs": [
    {
     "ename": "LoadError",
     "evalue": "UndefVarError: `chain` not defined",
     "output_type": "error",
     "traceback": [
      "UndefVarError: `chain` not defined",
      "",
      "Stacktrace:",
      " [1] top-level scope",
      "   @ In[17]:1"
     ]
    }
   ],
   "source": [
    "plot(\n",
    "    histogram([exp(Ω.θ.r) for (Ω,) in chain], xlabel=L\"r\", label=nothing, lw=1),\n",
    "    histogram([exp(Ω.θ.Aϕ) for (Ω,) in chain], xlabel=L\"A_\\phi\", label=nothing, lw=1)\n",
    ")"
   ]
  },
  {
   "cell_type": "code",
   "execution_count": 18,
   "id": "9c6ca1e4",
   "metadata": {},
   "outputs": [
    {
     "ename": "LoadError",
     "evalue": "UndefVarError: `chain` not defined",
     "output_type": "error",
     "traceback": [
      "UndefVarError: `chain` not defined",
      "",
      "Stacktrace:",
      " [1] top-level scope",
      "   @ In[18]:1"
     ]
    }
   ],
   "source": [
    "plot(\n",
    "    histogram([exp(Ω.θ.r) for (Ω,) in chain], xlabel=L\"r\", label=nothing, lw=1),\n",
    "    histogram([exp(Ω.θ.Aϕ) for (Ω,) in chain], xlabel=L\"A_\\phi\", label=nothing, lw=1)\n",
    ")"
   ]
  },
  {
   "cell_type": "code",
   "execution_count": 19,
   "id": "3bf4a9be",
   "metadata": {},
   "outputs": [
    {
     "ename": "LoadError",
     "evalue": "UndefVarError: `chain` not defined",
     "output_type": "error",
     "traceback": [
      "UndefVarError: `chain` not defined",
      "",
      "Stacktrace:",
      " [1] top-level scope",
      "   @ In[19]:1"
     ]
    }
   ],
   "source": [
    "plot(\n",
    "    histogram([exp(Ω.θ.r) for (Ω,) in chain], xlabel=L\"r\", label=nothing, lw=1),\n",
    "    histogram([exp(Ω.θ.Aϕ) for (Ω,) in chain], xlabel=L\"A_\\phi\", label=nothing, lw=1)\n",
    ")"
   ]
  },
  {
   "cell_type": "code",
   "execution_count": 20,
   "id": "a79c2b35",
   "metadata": {},
   "outputs": [
    {
     "ename": "LoadError",
     "evalue": "UndefVarError: `prob` not defined",
     "output_type": "error",
     "traceback": [
      "UndefVarError: `prob` not defined",
      "",
      "Stacktrace:",
      " [1] (::var\"#17#18\")(::Tuple{Symbol, Symbol, LaTeXString, LaTeXString})",
      "   @ Main ./In[20]:3",
      " [2] iterate",
      "   @ ./generator.jl:47 [inlined]",
      " [3] _collect(c::Vector{Tuple{Symbol, Symbol, AbstractString, LaTeXString}}, itr::Base.Generator{Vector{Tuple{Symbol, Symbol, AbstractString, LaTeXString}}, var\"#17#18\"}, #unused#::Base.EltypeUnknown, isz::Base.HasShape{1})",
      "   @ Base ./array.jl:802",
      " [4] collect_similar(cont::Vector{Tuple{Symbol, Symbol, AbstractString, LaTeXString}}, itr::Base.Generator{Vector{Tuple{Symbol, Symbol, AbstractString, LaTeXString}}, var\"#17#18\"})",
      "   @ Base ./array.jl:711",
      " [5] map(f::Function, A::Vector{Tuple{Symbol, Symbol, AbstractString, LaTeXString}})",
      "   @ Base ./abstractarray.jl:3255",
      " [6] top-level scope",
      "   @ In[20]:2"
     ]
    }
   ],
   "source": [
    "\n",
    "ps = map([(:ϕ°,:I,L\"L\",L\"\\phi^\\circ\"), (:f°,:E,\"L\\ell\",L\"E^\\circ\"), (:f°,:B,L\"\\ell\",L\"B^\\circ\")]) do (k1, k2, xlabel, title)\n",
    "    plot(get_Cℓ(prob.Ωtrue[k1][k2]); label=\"true\", xlabel, title)\n",
    "    plot!(get_Cℓ(prob.Ωstart[k1][k2]); label=\"start\", xlabel, title)\n",
    "    plot!(get_Cℓ(chain[end][1][k1][k2]); label=\"last sample\", xlabel, title)\n",
    "end\n",
    "plot(ps..., layout=(1,3), xscale=:log10, yscale=:log10, size=(1000,300), legend=:bottomleft)"
   ]
  },
  {
   "cell_type": "code",
   "execution_count": null,
   "id": "eb8f90f5",
   "metadata": {},
   "outputs": [],
   "source": []
  },
  {
   "cell_type": "code",
   "execution_count": null,
   "id": "ea798d8d",
   "metadata": {},
   "outputs": [],
   "source": []
  },
  {
   "cell_type": "code",
   "execution_count": null,
   "id": "fe497b96",
   "metadata": {},
   "outputs": [],
   "source": []
  }
 ],
 "metadata": {
  "kernelspec": {
   "display_name": "Julia 1.9.0-beta3",
   "language": "julia",
   "name": "julia-1.9"
  },
  "language_info": {
   "file_extension": ".jl",
   "mimetype": "application/julia",
   "name": "julia",
   "version": "1.9.0"
  }
 },
 "nbformat": 4,
 "nbformat_minor": 5
}
