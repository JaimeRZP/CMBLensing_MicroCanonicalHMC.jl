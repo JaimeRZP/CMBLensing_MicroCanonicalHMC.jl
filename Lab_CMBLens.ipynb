{
 "cells": [
  {
   "cell_type": "markdown",
   "id": "91129cb1",
   "metadata": {},
   "source": [
    "# Lab CMBLenses"
   ]
  },
  {
   "cell_type": "markdown",
   "id": "97121235",
   "metadata": {},
   "source": [
    "## Model"
   ]
  },
  {
   "cell_type": "code",
   "execution_count": 1,
   "id": "71684d25",
   "metadata": {},
   "outputs": [
    {
     "name": "stderr",
     "output_type": "stream",
     "text": [
      "\u001b[32m\u001b[1m  Activating\u001b[22m\u001b[39m project at `~/julia_repos/CMBLensingInferenceTestProblem`\n"
     ]
    }
   ],
   "source": [
    "] activate \"/home/jaimerz/julia_repos/CMBLensingInferenceTestProblem\""
   ]
  },
  {
   "cell_type": "code",
   "execution_count": 2,
   "id": "baed58e3",
   "metadata": {},
   "outputs": [
    {
     "name": "stderr",
     "output_type": "stream",
     "text": [
      "\u001b[36m\u001b[1m[ \u001b[22m\u001b[39m\u001b[36m\u001b[1mInfo: \u001b[22m\u001b[39mPrecompiling CMBLensing [b60c06c0-7e54-11e8-3788-4bd722d65317]\n",
      "\u001b[36m\u001b[1m[ \u001b[22m\u001b[39m\u001b[36m\u001b[1mInfo: \u001b[22m\u001b[39mPrecompiling CMBLensingInferenceTestProblem [77eb751d-b138-43db-8fbb-26307a053bc2]\n",
      "\u001b[36m\u001b[1m[ \u001b[22m\u001b[39m\u001b[36m\u001b[1mInfo: \u001b[22m\u001b[39mPrecompiling CUDA [052768ef-5323-5732-b1bb-66c8b64840ba]\n",
      "\u001b[36m\u001b[1m[ \u001b[22m\u001b[39m\u001b[36m\u001b[1mInfo: \u001b[22m\u001b[39mPrecompiling MCMCDiagnosticTools [be115224-59cd-429b-ad48-344e309966f0]\n",
      "\u001b[36m\u001b[1m[ \u001b[22m\u001b[39m\u001b[36m\u001b[1mInfo: \u001b[22m\u001b[39mPrecompiling Plots [91a5bcdd-55d7-5caf-9e0b-520d859cae80]\n",
      "\u001b[36m\u001b[1m[ \u001b[22m\u001b[39m\u001b[36m\u001b[1mInfo: \u001b[22m\u001b[39mGR\n"
     ]
    }
   ],
   "source": [
    "using CMBLensing, CMBLensingInferenceTestProblem\n",
    "using CUDA, LaTeXStrings, MCMCDiagnosticTools, Plots, ProgressMeter, Random, Zygote\n",
    "using LinearAlgebra, Statistics\n",
    "ENV[\"LINES\"] = 10;"
   ]
  },
  {
   "cell_type": "code",
   "execution_count": 3,
   "id": "1b324e86",
   "metadata": {},
   "outputs": [
    {
     "name": "stderr",
     "output_type": "stream",
     "text": [
      "\u001b[36m\u001b[1m[ \u001b[22m\u001b[39m\u001b[36m\u001b[1mInfo: \u001b[22m\u001b[39mPrecompiling MCHMC [92da4d09-9da0-4f8a-8b31-da41ef0ab6ee]\n",
      "WARNING: method definition for checkbounds at /home/jaimerz/.julia/packages/Interpolations/y4lLj/src/Interpolations.jl:454 declares type variable N but does not use it.\n",
      "WARNING: method definition for checkbounds at /home/jaimerz/.julia/packages/Interpolations/y4lLj/src/Interpolations.jl:457 declares type variable N but does not use it.\n",
      "WARNING: method definition for GriddedInterpolation at /home/jaimerz/.julia/packages/Interpolations/y4lLj/src/gridded/gridded.jl:37 declares type variable pad but does not use it.\n",
      "WARNING: method definition for GriddedInterpolation at /home/jaimerz/.julia/packages/Interpolations/y4lLj/src/gridded/gridded.jl:60 declares type variable pad but does not use it.\n",
      "WARNING: method definition for interpolate! at /home/jaimerz/.julia/packages/Interpolations/y4lLj/src/deprecations.jl:30 declares type variable TWeights but does not use it.\n"
     ]
    }
   ],
   "source": [
    "using Revise\n",
    "using MCHMC"
   ]
  },
  {
   "cell_type": "code",
   "execution_count": 4,
   "id": "a7d6f81c",
   "metadata": {},
   "outputs": [
    {
     "name": "stderr",
     "output_type": "stream",
     "text": [
      "\r",
      "\u001b[32mMAP_joint: 100%|████████████████████████████████████████| Time: 0:00:48\u001b[39m\r\n",
      "\u001b[34m  step:        20\u001b[39m\r\n",
      "\u001b[34m  logpdf:      377.00\u001b[39m\r\n",
      "\u001b[34m  α:           0.008522608\u001b[39m\r\n",
      "\u001b[34m  CG:          2 iterations\u001b[39m\r\n",
      "\u001b[34m  Linesearch:  9 bisections\u001b[39m\n"
     ]
    }
   ],
   "source": [
    "prob = load_cmb_lensing_problem(storage = Array,\n",
    "                                T = Float32,\n",
    "                                Nside = 4);"
   ]
  },
  {
   "cell_type": "code",
   "execution_count": 5,
   "id": "85dc7f05",
   "metadata": {},
   "outputs": [
    {
     "data": {
      "text/plain": [
       "CMBLensingTarget2 (generic function with 1 method)"
      ]
     },
     "execution_count": 5,
     "metadata": {},
     "output_type": "execute_result"
    }
   ],
   "source": [
    "CMBLensingTarget2(prob; kwargs...) = begin\n",
    "    d = length(prob.Ωstart)\n",
    "    Λmass = real(prob.Λmass)\n",
    "    sqrtΛmass = sqrt(Λmass)\n",
    "    inv_sqrtΛmass = pinv(sqrtΛmass)\n",
    "\n",
    "    function transform(x)\n",
    "        xt = x\n",
    "        xt = CMBLensing.LenseBasis(inv_sqrtΛmass * x)\n",
    "        #xt = CMBLensing.LenseBasis(sqrtΛmass * x)\n",
    "        return xt\n",
    "    end\n",
    "\n",
    "    function inv_transform(xt)\n",
    "        x = xt\n",
    "        x = CMBLensing.LenseBasis(sqrtΛmass * xt)\n",
    "        #x = CMBLensing.LenseBasis(inv_sqrtΛmass * xt)\n",
    "        return x\n",
    "    end\n",
    "\n",
    "    function nlogp(xt)\n",
    "        x = inv_transform(xt)\n",
    "        return  -1.0 .* prob(x)\n",
    "    end\n",
    "\n",
    "    function grad_nlogp(xt)\n",
    "        return CMBLensing.LenseBasis(Zygote.gradient(nlogp, xt)[1])\n",
    "        #return ForwardDiff.gradient(nlogp, x)\n",
    "    end\n",
    "\n",
    "    function prior_draw(key)\n",
    "        x = prob.Ωstart\n",
    "        xt = transform(x)\n",
    "        return CMBLensing.LenseBasis(xt)\n",
    "        #return prob.Ωstart\n",
    "    end\n",
    "\n",
    "    CMBLensingTarget(d,\n",
    "                     Λmass,\n",
    "                     nlogp,\n",
    "                     grad_nlogp,\n",
    "                     transform,\n",
    "                     inv_transform,\n",
    "                     prior_draw)\n",
    "end"
   ]
  },
  {
   "cell_type": "code",
   "execution_count": 6,
   "id": "0de44eb9",
   "metadata": {},
   "outputs": [
    {
     "data": {
      "text/plain": [
       "CMBLensingTarget(50, [0.0 0.0 … 0.0 0.0; 0.0 4.224938869476318 … 0.0 0.0; … ; 0.0 0.0 … 1.0 0.0; 0.0 0.0 … 0.0 1.0], MCHMC.var\"#nlogp#84\"{CMBLensingInferenceTestProblem.CMBLensingLogDensityProblem, MCHMC.var\"#inv_transform#83\"{Diagonal{Float64, Field-(f°,ϕ°,θ)-Tuple{LambertEBFourier{Array{Float32, 3}}, LambertFourier{Array{Float32, 2}}, ComponentArrays.ComponentVector{Float64, Vector{Float64}, Tuple{ComponentArrays.Axis{(r = 1, Aϕ = 2)}}}}}}}(CMBLensingInferenceTestProblem.CMBLensingLogDensityProblem(BaseDataSet(d, Cf, Cn, Cn̂, M, M̂, B, B̂, logprior, Cϕ, Cf̃, D, G, L, Nϕ), [0.23362982273101807, 1.6145217418670654, -1.8872356414794922, -3.2767221927642822, 0.8644531965255737, 2.2458934783935547, -1.246073603630066, -2.639155864715576, 1.868626356124878, 3.251345157623291  …  -3.395840053599386e-9, 3.6597669339499816e-11, 4.677404241704153e-9, 1.211756028851596e-9, -5.810230518932258e-9, -2.3360031686792126e-9, 2.561251877253312e-9, -9.142808177209361e-10, -1.6094379124341003, 0.0], [0.0064222607761621475, 1.912354826927185, -2.338594675064087, -2.761254072189331, 0.3457961082458496, 2.8930203914642334, -1.2424980401992798, -3.303896427154541, 1.9643025398254395, 3.0344090461730957  …  -3.2332728494566254e-8, -3.391006586639378e-8, 1.845877939388174e-8, 1.4510003865098042e-8, -4.9752614472708956e-8, -2.7021416215688987e-8, 2.5473982034895926e-8, 1.7868178048274785e-9, -1.6094379124341003, 0.0], ComplexF64[0.0 + 0.0im 0.0 + 0.0im … 0.0 + 0.0im 0.0 + 0.0im; 0.0 + 0.0im 4.224938869476318 + 0.0im … 0.0 + 0.0im 0.0 + 0.0im; … ; 0.0 + 0.0im 0.0 + 0.0im … 1.0 + 0.0im 0.0 + 0.0im; 0.0 + 0.0im 0.0 + 0.0im … 0.0 + 0.0im 1.0 + 0.0im]), MCHMC.var\"#inv_transform#83\"{Diagonal{Float64, Field-(f°,ϕ°,θ)-Tuple{LambertEBFourier{Array{Float32, 3}}, LambertFourier{Array{Float32, 2}}, ComponentArrays.ComponentVector{Float64, Vector{Float64}, Tuple{ComponentArrays.Axis{(r = 1, Aϕ = 2)}}}}}}([0.0 0.0 … 0.0 0.0; 0.0 0.48650774359703064 … 0.0 0.0; … ; 0.0 0.0 … 1.0 0.0; 0.0 0.0 … 0.0 1.0])), MCHMC.var\"#grad_nlogp#85\"{MCHMC.var\"#nlogp#84\"{CMBLensingInferenceTestProblem.CMBLensingLogDensityProblem, MCHMC.var\"#inv_transform#83\"{Diagonal{Float64, Field-(f°,ϕ°,θ)-Tuple{LambertEBFourier{Array{Float32, 3}}, LambertFourier{Array{Float32, 2}}, ComponentArrays.ComponentVector{Float64, Vector{Float64}, Tuple{ComponentArrays.Axis{(r = 1, Aϕ = 2)}}}}}}}}(MCHMC.var\"#nlogp#84\"{CMBLensingInferenceTestProblem.CMBLensingLogDensityProblem, MCHMC.var\"#inv_transform#83\"{Diagonal{Float64, Field-(f°,ϕ°,θ)-Tuple{LambertEBFourier{Array{Float32, 3}}, LambertFourier{Array{Float32, 2}}, ComponentArrays.ComponentVector{Float64, Vector{Float64}, Tuple{ComponentArrays.Axis{(r = 1, Aϕ = 2)}}}}}}}(CMBLensingInferenceTestProblem.CMBLensingLogDensityProblem(BaseDataSet(d, Cf, Cn, Cn̂, M, M̂, B, B̂, logprior, Cϕ, Cf̃, D, G, L, Nϕ), [0.23362982273101807, 1.6145217418670654, -1.8872356414794922, -3.2767221927642822, 0.8644531965255737, 2.2458934783935547, -1.246073603630066, -2.639155864715576, 1.868626356124878, 3.251345157623291  …  -3.395840053599386e-9, 3.6597669339499816e-11, 4.677404241704153e-9, 1.211756028851596e-9, -5.810230518932258e-9, -2.3360031686792126e-9, 2.561251877253312e-9, -9.142808177209361e-10, -1.6094379124341003, 0.0], [0.0064222607761621475, 1.912354826927185, -2.338594675064087, -2.761254072189331, 0.3457961082458496, 2.8930203914642334, -1.2424980401992798, -3.303896427154541, 1.9643025398254395, 3.0344090461730957  …  -3.2332728494566254e-8, -3.391006586639378e-8, 1.845877939388174e-8, 1.4510003865098042e-8, -4.9752614472708956e-8, -2.7021416215688987e-8, 2.5473982034895926e-8, 1.7868178048274785e-9, -1.6094379124341003, 0.0], ComplexF64[0.0 + 0.0im 0.0 + 0.0im … 0.0 + 0.0im 0.0 + 0.0im; 0.0 + 0.0im 4.224938869476318 + 0.0im … 0.0 + 0.0im 0.0 + 0.0im; … ; 0.0 + 0.0im 0.0 + 0.0im … 1.0 + 0.0im 0.0 + 0.0im; 0.0 + 0.0im 0.0 + 0.0im … 0.0 + 0.0im 1.0 + 0.0im]), MCHMC.var\"#inv_transform#83\"{Diagonal{Float64, Field-(f°,ϕ°,θ)-Tuple{LambertEBFourier{Array{Float32, 3}}, LambertFourier{Array{Float32, 2}}, ComponentArrays.ComponentVector{Float64, Vector{Float64}, Tuple{ComponentArrays.Axis{(r = 1, Aϕ = 2)}}}}}}([0.0 0.0 … 0.0 0.0; 0.0 0.48650774359703064 … 0.0 0.0; … ; 0.0 0.0 … 1.0 0.0; 0.0 0.0 … 0.0 1.0]))), MCHMC.var\"#transform#82\"{Diagonal{Float64, Field-(f°,ϕ°,θ)-Tuple{LambertEBFourier{Array{Float32, 3}}, LambertFourier{Array{Float32, 2}}, ComponentArrays.ComponentVector{Float64, Vector{Float64}, Tuple{ComponentArrays.Axis{(r = 1, Aϕ = 2)}}}}}}([0.0 0.0 … 0.0 0.0; 0.0 2.0554656982421875 … 0.0 0.0; … ; 0.0 0.0 … 1.0 0.0; 0.0 0.0 … 0.0 1.0]), MCHMC.var\"#inv_transform#83\"{Diagonal{Float64, Field-(f°,ϕ°,θ)-Tuple{LambertEBFourier{Array{Float32, 3}}, LambertFourier{Array{Float32, 2}}, ComponentArrays.ComponentVector{Float64, Vector{Float64}, Tuple{ComponentArrays.Axis{(r = 1, Aϕ = 2)}}}}}}([0.0 0.0 … 0.0 0.0; 0.0 0.48650774359703064 … 0.0 0.0; … ; 0.0 0.0 … 1.0 0.0; 0.0 0.0 … 0.0 1.0]), MCHMC.var\"#prior_draw#86\"{CMBLensingInferenceTestProblem.CMBLensingLogDensityProblem, MCHMC.var\"#transform#82\"{Diagonal{Float64, Field-(f°,ϕ°,θ)-Tuple{LambertEBFourier{Array{Float32, 3}}, LambertFourier{Array{Float32, 2}}, ComponentArrays.ComponentVector{Float64, Vector{Float64}, Tuple{ComponentArrays.Axis{(r = 1, Aϕ = 2)}}}}}}}(CMBLensingInferenceTestProblem.CMBLensingLogDensityProblem(BaseDataSet(d, Cf, Cn, Cn̂, M, M̂, B, B̂, logprior, Cϕ, Cf̃, D, G, L, Nϕ), [0.23362982273101807, 1.6145217418670654, -1.8872356414794922, -3.2767221927642822, 0.8644531965255737, 2.2458934783935547, -1.246073603630066, -2.639155864715576, 1.868626356124878, 3.251345157623291  …  -3.395840053599386e-9, 3.6597669339499816e-11, 4.677404241704153e-9, 1.211756028851596e-9, -5.810230518932258e-9, -2.3360031686792126e-9, 2.561251877253312e-9, -9.142808177209361e-10, -1.6094379124341003, 0.0], [0.0064222607761621475, 1.912354826927185, -2.338594675064087, -2.761254072189331, 0.3457961082458496, 2.8930203914642334, -1.2424980401992798, -3.303896427154541, 1.9643025398254395, 3.0344090461730957  …  -3.2332728494566254e-8, -3.391006586639378e-8, 1.845877939388174e-8, 1.4510003865098042e-8, -4.9752614472708956e-8, -2.7021416215688987e-8, 2.5473982034895926e-8, 1.7868178048274785e-9, -1.6094379124341003, 0.0], ComplexF64[0.0 + 0.0im 0.0 + 0.0im … 0.0 + 0.0im 0.0 + 0.0im; 0.0 + 0.0im 4.224938869476318 + 0.0im … 0.0 + 0.0im 0.0 + 0.0im; … ; 0.0 + 0.0im 0.0 + 0.0im … 1.0 + 0.0im 0.0 + 0.0im; 0.0 + 0.0im 0.0 + 0.0im … 0.0 + 0.0im 1.0 + 0.0im]), MCHMC.var\"#transform#82\"{Diagonal{Float64, Field-(f°,ϕ°,θ)-Tuple{LambertEBFourier{Array{Float32, 3}}, LambertFourier{Array{Float32, 2}}, ComponentArrays.ComponentVector{Float64, Vector{Float64}, Tuple{ComponentArrays.Axis{(r = 1, Aϕ = 2)}}}}}}([0.0 0.0 … 0.0 0.0; 0.0 2.0554656982421875 … 0.0 0.0; … ; 0.0 0.0 … 1.0 0.0; 0.0 0.0 … 0.0 1.0])))"
      ]
     },
     "execution_count": 6,
     "metadata": {},
     "output_type": "execute_result"
    }
   ],
   "source": [
    "CMBLensingTarget3(prob; kwargs...) = begin\n",
    "    d = length(prob.Ωstart)\n",
    "    Λmass = real(prob.Λmass)\n",
    "    sqrtΛmass = sqrt(Λmass)\n",
    "    inv_sqrtΛmass = pinv(sqrtΛmass)\n",
    "\n",
    "    function transform(x)\n",
    "        xt = x\n",
    "        #xt = CMBLensing.LenseBasis(inv_sqrtΛmass * x)\n",
    "        xt = CMBLensing.LenseBasis(sqrtΛmass * x)\n",
    "        return xt\n",
    "    end\n",
    "\n",
    "    function inv_transform(xt)\n",
    "        x = xt\n",
    "        #x = CMBLensing.LenseBasis(sqrtΛmass * xt)\n",
    "        x = CMBLensing.LenseBasis(inv_sqrtΛmass * xt)\n",
    "        return x\n",
    "    end\n",
    "\n",
    "    function nlogp(xt)\n",
    "        x = inv_transform(xt)\n",
    "        return -1.0 .* prob(x)\n",
    "    end\n",
    "\n",
    "    function grad_nlogp(xt)\n",
    "        return CMBLensing.LenseBasis(Zygote.gradient(nlogp, xt)[1])\n",
    "        #return ForwardDiff.gradient(nlogp, x)\n",
    "    end\n",
    "\n",
    "    function prior_draw(key)\n",
    "        x = prob.Ωstart\n",
    "        xt = transform(x)\n",
    "        return CMBLensing.LenseBasis(xt)\n",
    "        #return prob.Ωstart\n",
    "    end\n",
    "\n",
    "    CMBLensingTarget(d,\n",
    "                     Λmass,\n",
    "                     nlogp,\n",
    "                     grad_nlogp,\n",
    "                     transform,\n",
    "                     inv_transform,\n",
    "                     prior_draw)\n",
    "end"
   ]
  },
  {
   "cell_type": "code",
   "execution_count": 7,
   "id": "cf9d88ae",
   "metadata": {},
   "outputs": [],
   "source": [
    "target = CMBLensingTarget2(prob);\n",
    "target2 = CMBLensingTarget3(prob);"
   ]
  },
  {
   "cell_type": "markdown",
   "id": "d87fca8f",
   "metadata": {},
   "source": [
    "## Sample"
   ]
  },
  {
   "cell_type": "code",
   "execution_count": 8,
   "id": "1359a630",
   "metadata": {
    "code_folding": []
   },
   "outputs": [
    {
     "data": {
      "text/plain": [
       "Sampler(Settings(MersenneTwister(0), 0.05, 0.035355339059327376, 0.0, 0.1931833275037836, 0.0005, 2000, 1000, 10, \"LF\"), MCHMC.Leapfrog)"
      ]
     },
     "execution_count": 8,
     "metadata": {},
     "output_type": "execute_result"
    }
   ],
   "source": [
    "eps=0.05\n",
    "L=sqrt(target.d)*0.005\n",
    "spl=Sampler(;eps=eps, L=L)"
   ]
  },
  {
   "cell_type": "code",
   "execution_count": 9,
   "id": "95e28701",
   "metadata": {},
   "outputs": [
    {
     "name": "stdout",
     "output_type": "stream",
     "text": [
      "[0.031977344304323196, -0.0697084292769432, 0.06363599747419357, 0.027968456968665123, 0.15098969638347626, 0.08012367784976959, -0.34497344493865967, -0.08839288353919983, 0.0066175078973174095, 0.034835077822208405, -0.026745084673166275, 0.16648943722248077, -0.04674700275063515, -0.053186021745204926, -0.2676003575325012, 0.31748637557029724, 0.12181506305932999, 0.05305158346891403, -0.11302567273378372, -0.008793397806584835, 0.22366869449615479, -0.12506374716758728, -0.0627596527338028, 0.19879184663295746, 0.030698848888278008, -0.03823211416602135, 0.13085632026195526, 0.16451844573020935, -0.20756034553050995, -0.03834928944706917, -0.22425837814807892, -0.16429609060287476, -0.048626530915498734, -0.03706875443458557, 0.12417296320199966, 0.03699865564703941, -0.13681799173355103, -0.152242973446846, -0.04779578745365143, -0.09236222505569458, 0.236475870013237, 0.005181766115128994, 0.21782320737838745, 0.15159112215042114, 0.024807875975966454, -0.041524164378643036, 0.05258020758628845, -0.09336666762828827, 0.18162939611851023, -0.2676748230935989]\n"
     ]
    },
    {
     "data": {
      "text/html": [
       "<div><div style = \"float: left;\"><span>501×2 DataFrame</span></div><div style = \"float: right;\"><span style = \"font-style: italic;\">476 rows omitted</span></div><div style = \"clear: both;\"></div></div><div class = \"data-frame\" style = \"overflow-x: scroll;\"><table class = \"data-frame\" style = \"margin-bottom: 6px;\"><thead><tr class = \"header\"><th class = \"rowNumber\" style = \"font-weight: bold; text-align: right;\">Row</th><th style = \"text-align: left;\">Ω</th><th style = \"text-align: left;\">Energy</th></tr><tr class = \"subheader headerLastRow\"><th class = \"rowNumber\" style = \"font-weight: bold; text-align: right;\"></th><th title = \"Any\" style = \"text-align: left;\">Any</th><th title = \"Any\" style = \"text-align: left;\">Any</th></tr></thead><tbody><tr><td class = \"rowNumber\" style = \"font-weight: bold; text-align: right;\">1</td><td style = \"text-align: left;\">[0.240736, 1.62163, -1.88013, -3.26962, 0.87156, 2.253, -1.23897, -2.63205, 1.87573, 3.25845  …  -3.39584e-9, 3.65977e-11, 4.6774e-9, 1.21176e-9, -5.81023e-9, -2.336e-9, 2.56125e-9, -9.14281e-10, -1.60944, 0.0]</td><td style = \"text-align: left;\">376.858</td></tr><tr><td class = \"rowNumber\" style = \"font-weight: bold; text-align: right;\">2</td><td style = \"text-align: left;\">[0.241056, 1.62034, -1.87709, -3.26861, 0.875661, 2.25644, -1.24983, -2.63521, 1.8749, 3.26039  …  -3.2191e-9, 1.25077e-10, 4.94562e-9, 1.50348e-9, -5.77078e-9, -2.29076e-9, 2.75257e-9, -7.80868e-10, -1.60036, -0.0133961]</td><td style = \"text-align: left;\">376.863</td></tr><tr><td class = \"rowNumber\" style = \"font-weight: bold; text-align: right;\">3</td><td style = \"text-align: left;\">[0.239934, 1.61988, -1.86915, -3.27022, 0.880572, 2.25889, -1.25414, -2.63449, 1.8739, 3.26234  …  -3.1344e-9, -5.62922e-12, 4.94273e-9, 1.67388e-9, -5.74703e-9, -2.27752e-9, 3.04959e-9, -4.42194e-10, -1.58561, -0.02886]</td><td style = \"text-align: left;\">376.959</td></tr><tr><td class = \"rowNumber\" style = \"font-weight: bold; text-align: right;\">4</td><td style = \"text-align: left;\">[0.238028, 1.61568, -1.86942, -3.2748, 0.879717, 2.26542, -1.24783, -2.63344, 1.87157, 3.26111  …  -3.19316e-9, -3.02892e-10, 4.77301e-9, 1.58527e-9, -5.66036e-9, -2.30164e-9, 3.02351e-9, -3.82437e-10, -1.57515, -0.0336646]</td><td style = \"text-align: left;\">377.037</td></tr><tr><td class = \"rowNumber\" style = \"font-weight: bold; text-align: right;\">5</td><td style = \"text-align: left;\">[0.237655, 1.62165, -1.87035, -3.27764, 0.884469, 2.2701, -1.25223, -2.64376, 1.86943, 3.26215  …  -2.99822e-9, 1.27206e-10, 4.8473e-9, 1.30797e-9, -5.61243e-9, -2.15773e-9, 2.71212e-9, -7.66664e-10, -1.56489, -0.0320086]</td><td style = \"text-align: left;\">377.108</td></tr><tr><td class = \"rowNumber\" style = \"font-weight: bold; text-align: right;\">6</td><td style = \"text-align: left;\">[0.23586, 1.62048, -1.86711, -3.28205, 0.880608, 2.27902, -1.25585, -2.64293, 1.87539, 3.26226  …  -2.57373e-9, 5.28434e-10, 4.78483e-9, 1.27382e-9, -5.27944e-9, -1.96808e-9, 2.39496e-9, -1.02778e-9, -1.55469, -0.0251964]</td><td style = \"text-align: left;\">377.078</td></tr><tr><td class = \"rowNumber\" style = \"font-weight: bold; text-align: right;\">7</td><td style = \"text-align: left;\">[0.233338, 1.62169, -1.86949, -3.28656, 0.882213, 2.28768, -1.25151, -2.64568, 1.87292, 3.26326  …  -2.43934e-9, 7.29837e-10, 4.71836e-9, 1.02713e-9, -5.32957e-9, -1.81995e-9, 2.40355e-9, -1.25706e-9, -1.55286, -0.023234]</td><td style = \"text-align: left;\">376.973</td></tr><tr><td class = \"rowNumber\" style = \"font-weight: bold; text-align: right;\">8</td><td style = \"text-align: left;\">[0.228175, 1.61886, -1.86918, -3.28729, 0.884558, 2.28599, -1.25295, -2.6419, 1.87467, 3.26817  …  -2.47119e-9, 8.68522e-10, 4.67418e-9, 8.49435e-10, -5.42884e-9, -1.6656e-9, 2.60764e-9, -1.31728e-9, -1.56272, -0.0293215]</td><td style = \"text-align: left;\">376.91</td></tr><tr><td class = \"rowNumber\" style = \"font-weight: bold; text-align: right;\">9</td><td style = \"text-align: left;\">[0.226799, 1.61709, -1.87, -3.27953, 0.883204, 2.28286, -1.2563, -2.63663, 1.88031, 3.27035  …  -2.4383e-9, 9.74557e-10, 4.81942e-9, 9.17789e-10, -5.43092e-9, -1.48537e-9, 2.702e-9, -1.35233e-9, -1.56432, -0.0418668]</td><td style = \"text-align: left;\">376.981</td></tr><tr><td class = \"rowNumber\" style = \"font-weight: bold; text-align: right;\">10</td><td style = \"text-align: left;\">[0.229518, 1.61546, -1.8702, -3.28466, 0.883189, 2.28186, -1.25793, -2.63039, 1.87801, 3.27181  …  -2.37663e-9, 7.18294e-10, 4.91991e-9, 1.29009e-9, -5.43715e-9, -1.5739e-9, 2.7992e-9, -1.19768e-9, -1.55938, -0.0447091]</td><td style = \"text-align: left;\">376.841</td></tr><tr><td class = \"rowNumber\" style = \"font-weight: bold; text-align: right;\">11</td><td style = \"text-align: left;\">[0.234179, 1.61979, -1.87599, -3.28237, 0.879654, 2.28243, -1.26364, -2.62151, 1.87934, 3.26902  …  -2.55306e-9, 5.5515e-10, 5.24816e-9, 1.65189e-9, -5.51857e-9, -1.64599e-9, 2.96783e-9, -9.86824e-10, -1.55799, -0.0597743]</td><td style = \"text-align: left;\">376.935</td></tr><tr><td class = \"rowNumber\" style = \"font-weight: bold; text-align: right;\">12</td><td style = \"text-align: left;\">[0.23654, 1.62604, -1.88074, -3.2818, 0.882276, 2.28125, -1.26291, -2.61531, 1.87458, 3.27053  …  -2.94888e-9, 6.57092e-10, 5.6461e-9, 1.54476e-9, -5.7513e-9, -1.44025e-9, 3.38273e-9, -9.85316e-10, -1.55362, -0.0682374]</td><td style = \"text-align: left;\">377.098</td></tr><tr><td class = \"rowNumber\" style = \"font-weight: bold; text-align: right;\">13</td><td style = \"text-align: left;\">[0.240694, 1.63866, -1.88217, -3.27931, 0.879621, 2.27399, -1.26151, -2.61622, 1.8716, 3.2667  …  -3.00811e-9, 5.91202e-10, 5.62261e-9, 1.40315e-9, -5.78641e-9, -1.28734e-9, 3.5692e-9, -1.01299e-9, -1.54424, -0.0635023]</td><td style = \"text-align: left;\">377.134</td></tr><tr><td style = \"text-align: right;\">&vellip;</td><td style = \"text-align: right;\">&vellip;</td><td style = \"text-align: right;\">&vellip;</td></tr><tr><td class = \"rowNumber\" style = \"font-weight: bold; text-align: right;\">490</td><td style = \"text-align: left;\">[0.407925, 1.63594, -1.94278, -3.57932, 1.05136, 2.31308, -1.04154, -2.57666, 1.70652, 3.20618  …  -1.70019e-8, -7.07274e-9, 6.81634e-9, -3.27608e-9, -1.09913e-8, -2.20751e-9, 1.3594e-8, 6.43974e-9, -1.60564, 0.0080144]</td><td style = \"text-align: left;\">375.883</td></tr><tr><td class = \"rowNumber\" style = \"font-weight: bold; text-align: right;\">491</td><td style = \"text-align: left;\">[0.407756, 1.63881, -1.94204, -3.57556, 1.05527, 2.31279, -1.0496, -2.57087, 1.70344, 3.20798  …  -1.72078e-8, -6.75707e-9, 6.70028e-9, -3.91359e-9, -1.11053e-8, -1.76955e-9, 1.37468e-8, 5.99082e-9, -1.59306, -0.00186966]</td><td style = \"text-align: left;\">375.728</td></tr><tr><td class = \"rowNumber\" style = \"font-weight: bold; text-align: right;\">492</td><td style = \"text-align: left;\">[0.410756, 1.63046, -1.9447, -3.5778, 1.05137, 2.31389, -1.04606, -2.56201, 1.71144, 3.20295  …  -1.71508e-8, -6.69865e-9, 6.51713e-9, -4.10968e-9, -1.09118e-8, -1.47652e-9, 1.36188e-8, 5.79388e-9, -1.59527, -0.0117007]</td><td style = \"text-align: left;\">375.995</td></tr><tr><td class = \"rowNumber\" style = \"font-weight: bold; text-align: right;\">493</td><td style = \"text-align: left;\">[0.409503, 1.62519, -1.94998, -3.57592, 1.05316, 2.31252, -1.0447, -2.56339, 1.71963, 3.20336  …  -1.72678e-8, -6.79843e-9, 6.66883e-9, -4.04248e-9, -1.10554e-8, -1.70234e-9, 1.35794e-8, 5.81099e-9, -1.57901, -0.0125657]</td><td style = \"text-align: left;\">376.149</td></tr><tr><td class = \"rowNumber\" style = \"font-weight: bold; text-align: right;\">494</td><td style = \"text-align: left;\">[0.412239, 1.61792, -1.94491, -3.57715, 1.05031, 2.3098, -1.04348, -2.56897, 1.72678, 3.20394  …  -1.76391e-8, -6.99025e-9, 7.04279e-9, -3.97905e-9, -1.12551e-8, -1.85463e-9, 1.40677e-8, 6.20376e-9, -1.58483, -0.00955419]</td><td style = \"text-align: left;\">375.938</td></tr><tr><td class = \"rowNumber\" style = \"font-weight: bold; text-align: right;\">495</td><td style = \"text-align: left;\">[0.406092, 1.61923, -1.95187, -3.57202, 1.04633, 2.31539, -1.03697, -2.57007, 1.73136, 3.21099  …  -1.7682e-8, -7.38507e-9, 6.66964e-9, -4.03981e-9, -1.11389e-8, -2.01006e-9, 1.37654e-8, 6.25113e-9, -1.59107, -0.0119037]</td><td style = \"text-align: left;\">375.674</td></tr><tr><td class = \"rowNumber\" style = \"font-weight: bold; text-align: right;\">496</td><td style = \"text-align: left;\">[0.402453, 1.61968, -1.95375, -3.56858, 1.04606, 2.3117, -1.03634, -2.57235, 1.73759, 3.2112  …  -1.77844e-8, -7.51525e-9, 6.49395e-9, -4.25423e-9, -1.13413e-8, -2.2532e-9, 1.368e-8, 6.1147e-9, -1.59935, -0.0300968]</td><td style = \"text-align: left;\">375.583</td></tr><tr><td class = \"rowNumber\" style = \"font-weight: bold; text-align: right;\">497</td><td style = \"text-align: left;\">[0.403264, 1.62568, -1.95123, -3.57281, 1.04706, 2.31113, -1.03693, -2.57489, 1.74242, 3.21135  …  -1.77293e-8, -7.67754e-9, 6.15741e-9, -4.38835e-9, -1.14346e-8, -2.58774e-9, 1.33045e-8, 5.9446e-9, -1.60203, -0.0440172]</td><td style = \"text-align: left;\">375.86</td></tr><tr><td class = \"rowNumber\" style = \"font-weight: bold; text-align: right;\">498</td><td style = \"text-align: left;\">[0.408289, 1.62894, -1.94645, -3.58143, 1.04935, 2.30783, -1.03566, -2.57692, 1.74921, 3.20796  …  -1.73949e-8, -7.72548e-9, 5.71848e-9, -4.44688e-9, -1.13638e-8, -2.90484e-9, 1.27852e-8, 5.80094e-9, -1.61008, -0.051237]</td><td style = \"text-align: left;\">375.929</td></tr><tr><td class = \"rowNumber\" style = \"font-weight: bold; text-align: right;\">499</td><td style = \"text-align: left;\">[0.411041, 1.63065, -1.94795, -3.58577, 1.04816, 2.30719, -1.03911, -2.56891, 1.74757, 3.20772  …  -1.70068e-8, -7.95991e-9, 5.04433e-9, -4.55378e-9, -1.11165e-8, -2.86712e-9, 1.2496e-8, 5.72961e-9, -1.62518, -0.0446134]</td><td style = \"text-align: left;\">376.178</td></tr><tr><td class = \"rowNumber\" style = \"font-weight: bold; text-align: right;\">500</td><td style = \"text-align: left;\">[0.41408, 1.63407, -1.95053, -3.58541, 1.05078, 2.30586, -1.03467, -2.5722, 1.74098, 3.20729  …  -1.68762e-8, -8.23076e-9, 4.38205e-9, -4.90669e-9, -1.10133e-8, -2.98358e-9, 1.21942e-8, 5.58112e-9, -1.63687, -0.0414476]</td><td style = \"text-align: left;\">376.154</td></tr><tr><td class = \"rowNumber\" style = \"font-weight: bold; text-align: right;\">501</td><td style = \"text-align: left;\">[0.410936, 1.64237, -1.95513, -3.58199, 1.05002, 2.30244, -1.03403, -2.57271, 1.73922, 3.20935  …  -1.66503e-8, -8.22844e-9, 4.41939e-9, -4.75244e-9, -1.10552e-8, -3.03731e-9, 1.22135e-8, 5.57319e-9, -1.64118, -0.0375313]</td><td style = \"text-align: left;\">375.783</td></tr></tbody></table></div>"
      ],
      "text/latex": [
       "\\begin{tabular}{r|cc}\n",
       "\t& Ω & \\\\\n",
       "\t\\hline\n",
       "\t& Any & \\\\\n",
       "\t\\hline\n",
       "\t1 & [0.240736, 1.62163, -1.88013, -3.26962, 0.87156, 2.253, -1.23897, -2.63205, 1.87573, 3.25845  …  -3.39584e-9, 3.65977e-11, 4.6774e-9, 1.21176e-9, -5.81023e-9, -2.336e-9, 2.56125e-9, -9.14281e-10, -1.60944, 0.0] & $\\dots$ \\\\\n",
       "\t2 & [0.241056, 1.62034, -1.87709, -3.26861, 0.875661, 2.25644, -1.24983, -2.63521, 1.8749, 3.26039  …  -3.2191e-9, 1.25077e-10, 4.94562e-9, 1.50348e-9, -5.77078e-9, -2.29076e-9, 2.75257e-9, -7.80868e-10, -1.60036, -0.0133961] & $\\dots$ \\\\\n",
       "\t3 & [0.239934, 1.61988, -1.86915, -3.27022, 0.880572, 2.25889, -1.25414, -2.63449, 1.8739, 3.26234  …  -3.1344e-9, -5.62922e-12, 4.94273e-9, 1.67388e-9, -5.74703e-9, -2.27752e-9, 3.04959e-9, -4.42194e-10, -1.58561, -0.02886] & $\\dots$ \\\\\n",
       "\t4 & [0.238028, 1.61568, -1.86942, -3.2748, 0.879717, 2.26542, -1.24783, -2.63344, 1.87157, 3.26111  …  -3.19316e-9, -3.02892e-10, 4.77301e-9, 1.58527e-9, -5.66036e-9, -2.30164e-9, 3.02351e-9, -3.82437e-10, -1.57515, -0.0336646] & $\\dots$ \\\\\n",
       "\t5 & [0.237655, 1.62165, -1.87035, -3.27764, 0.884469, 2.2701, -1.25223, -2.64376, 1.86943, 3.26215  …  -2.99822e-9, 1.27206e-10, 4.8473e-9, 1.30797e-9, -5.61243e-9, -2.15773e-9, 2.71212e-9, -7.66664e-10, -1.56489, -0.0320086] & $\\dots$ \\\\\n",
       "\t6 & [0.23586, 1.62048, -1.86711, -3.28205, 0.880608, 2.27902, -1.25585, -2.64293, 1.87539, 3.26226  …  -2.57373e-9, 5.28434e-10, 4.78483e-9, 1.27382e-9, -5.27944e-9, -1.96808e-9, 2.39496e-9, -1.02778e-9, -1.55469, -0.0251964] & $\\dots$ \\\\\n",
       "\t7 & [0.233338, 1.62169, -1.86949, -3.28656, 0.882213, 2.28768, -1.25151, -2.64568, 1.87292, 3.26326  …  -2.43934e-9, 7.29837e-10, 4.71836e-9, 1.02713e-9, -5.32957e-9, -1.81995e-9, 2.40355e-9, -1.25706e-9, -1.55286, -0.023234] & $\\dots$ \\\\\n",
       "\t8 & [0.228175, 1.61886, -1.86918, -3.28729, 0.884558, 2.28599, -1.25295, -2.6419, 1.87467, 3.26817  …  -2.47119e-9, 8.68522e-10, 4.67418e-9, 8.49435e-10, -5.42884e-9, -1.6656e-9, 2.60764e-9, -1.31728e-9, -1.56272, -0.0293215] & $\\dots$ \\\\\n",
       "\t9 & [0.226799, 1.61709, -1.87, -3.27953, 0.883204, 2.28286, -1.2563, -2.63663, 1.88031, 3.27035  …  -2.4383e-9, 9.74557e-10, 4.81942e-9, 9.17789e-10, -5.43092e-9, -1.48537e-9, 2.702e-9, -1.35233e-9, -1.56432, -0.0418668] & $\\dots$ \\\\\n",
       "\t10 & [0.229518, 1.61546, -1.8702, -3.28466, 0.883189, 2.28186, -1.25793, -2.63039, 1.87801, 3.27181  …  -2.37663e-9, 7.18294e-10, 4.91991e-9, 1.29009e-9, -5.43715e-9, -1.5739e-9, 2.7992e-9, -1.19768e-9, -1.55938, -0.0447091] & $\\dots$ \\\\\n",
       "\t$\\dots$ & $\\dots$ &  \\\\\n",
       "\\end{tabular}\n"
      ],
      "text/plain": [
       "([0.11817961931228638, 0.7882625460624695, -0.915061891078949, -1.5918281078338623, 0.4248858690261841, 1.0952790975570679, -0.601466178894043, -1.2807449102401733, 0.9124752283096313, 1.5836602449417114  …  -1.9049437464526233e-16, -4.2375006943213514e-18, 2.5941760438202236e-16, 7.301237393385877e-17, -3.152020031481085e-16, -1.306839356366479e-16, 1.3832532425629436e-16, -4.6198483888617374e-17, -1.6094379124341003, 0.0], [-0.13743168115615845, 0.08669047057628632, -0.10110758990049362, -0.03991129994392395, 0.002536488464102149, -0.14605560898780823, -0.08598639070987701, 0.17951026558876038, 0.024151859804987907, 0.17658306658267975  …  -0.11834527552127838, -0.22799544036388397, 0.10647007077932358, -0.09394612163305283, -0.14056065678596497, -0.16463549435138702, -0.09446733444929123, -0.06879419088363647, 0.02899473371219355, 0.020083847590149497], [-1.9688955035235267e-6, 2.230841801065253e-6, 1.609240030120418e-6, -1.378087176817644e-6, -2.503246605556342e-6, 5.11863618157804e-7, 1.9355034055479337e-6, -2.2935967081139097e-6, -1.9205456283089006e-6, 1.0923621402980643e-6  …  4.04009517056e11, -3.39065667584e11, -7.1084269568e10, -1.3639513088e10, -1.49468151808e11, 1.15237093376e11, 2.55611764736e11, -1.95555377152e11, -0.0013904160622284592, 0.5304746991748047], 32.693817138671875, 0.0)"
      ]
     },
     "execution_count": 9,
     "metadata": {},
     "output_type": "execute_result"
    }
   ],
   "source": [
    "samples = Sample(spl, target, 500, monitor_energy=true)"
   ]
  },
  {
   "cell_type": "code",
   "execution_count": 10,
   "id": "8fab908a",
   "metadata": {},
   "outputs": [
    {
     "data": {
      "text/plain": [
       "50-element Field-(f°,ϕ°,θ)-Tuple{LambertQUMap{Array{Float32, 3}}, LambertMap{Array{Float32, 2}}, ComponentArrays.ComponentVector{Float64, Vector{Float64}, Tuple{ComponentArrays.Axis{(r = 1, Aϕ = 2)}}}}:\n",
       " -0.13743168115615845\n",
       "  0.08669047057628632\n",
       " -0.10110758990049362\n",
       "  ⋮\n",
       "  0.02899473371219355\n",
       "  0.020083847590149497"
      ]
     },
     "execution_count": 10,
     "metadata": {},
     "output_type": "execute_result"
    }
   ],
   "source": [
    "using DataFrames\n",
    "thin_samples = DataFrame(Ω=Any[], Energy=Any[])\n",
    "for i in 1:20\n",
    "    k = (i-1)*25+1\n",
    "    sample = samples[k, :]\n",
    "    push!(thin_samples, (sample.Ω, sample.Energy))\n",
    "end        "
   ]
  },
  {
   "cell_type": "markdown",
   "id": "e1cb8e03",
   "metadata": {},
   "source": [
    "## Plotting"
   ]
  },
  {
   "cell_type": "code",
   "execution_count": 11,
   "id": "6efc8272",
   "metadata": {},
   "outputs": [
    {
     "ename": "LoadError",
     "evalue": "DomainError with -3.622709200842247e7:\nlog1p will only return a complex result if called with a complex argument. Try log1p(Complex(x)).",
     "output_type": "error",
     "traceback": [
      "DomainError with -3.622709200842247e7:\nlog1p will only return a complex result if called with a complex argument. Try log1p(Complex(x)).",
      "",
      "Stacktrace:",
      "  [1] throw_complex_domainerror(f::Symbol, x::Float64)",
      "    @ Base.Math ./math.jl:33",
      "  [2] log1p(x::Float64)",
      "    @ Base.Math ./special/log.jl:370",
      "  [3] _broadcast_getindex_evalf",
      "    @ ./broadcast.jl:683 [inlined]",
      "  [4] _broadcast_getindex",
      "    @ ./broadcast.jl:656 [inlined]",
      "  [5] _getindex",
      "    @ ./broadcast.jl:680 [inlined]",
      "  [6] _getindex",
      "    @ ./broadcast.jl:679 [inlined]",
      "  [7] _broadcast_getindex",
      "    @ ./broadcast.jl:655 [inlined]",
      "  [8] getindex",
      "    @ ./broadcast.jl:610 [inlined]",
      "  [9] copy",
      "    @ ./broadcast.jl:888 [inlined]",
      " [10] materialize(bc::Base.Broadcast.Broadcasted{Base.Broadcast.DefaultArrayStyle{0}, Nothing, typeof(+), Tuple{Base.Broadcast.Broadcasted{Base.Broadcast.DefaultArrayStyle{0}, Nothing, typeof(log), Tuple{Float64}}, Base.Broadcast.Broadcasted{Base.Broadcast.DefaultArrayStyle{0}, Nothing, typeof(log1p), Tuple{Base.Broadcast.Broadcasted{Base.Broadcast.DefaultArrayStyle{0}, Nothing, typeof(*), Tuple{Float64, Float64}}}}}})",
      "    @ Base.Broadcast ./broadcast.jl:873",
      " [11] Update_momentum(sampler::Sampler, target::CMBLensingTarget, eff_eps::Float64, g::Field-(f°,ϕ°,θ)-Tuple{LambertQUMap{Array{Float32, 3}}, LambertMap{Array{Float32, 2}}, ComponentArrays.ComponentVector{Float64, Vector{Float64}, Tuple{ComponentArrays.Axis{(r = 1, Aϕ = 2)}}}}, u::Field-(f°,ϕ°,θ)-Tuple{LambertQUMap{Array{Float32, 3}}, LambertMap{Array{Float32, 2}}, ComponentArrays.ComponentVector{Float64, Vector{Float64}, Tuple{ComponentArrays.Axis{(r = 1, Aϕ = 2)}}}}, r::Float64)",
      "    @ MCHMC ~/.julia/packages/MCHMC/zMvR3/src/sampler.jl:89",
      " [12] top-level scope",
      "    @ In[11]:1"
     ]
    }
   ],
   "source": [
    "Plots.default(fmt=:png, dpi=120, size=(500,300), legendfontsize=10)"
   ]
  },
  {
   "cell_type": "code",
   "execution_count": 12,
   "id": "1eebe796",
   "metadata": {},
   "outputs": [
    {
     "data": {
      "text/plain": [
       "501-element Vector{Vector{Float64}}:\n",
       " [0.11817961931228638, 0.7882625460624695, -0.915061891078949, -1.5918281078338623, 0.4248858690261841, 1.0952790975570679, -0.601466178894043, -1.2807449102401733, 0.9124752283096313, 1.5836602449417114  …  -1.9049437464526233e-16, -4.2375006943213514e-18, 2.5941760438202236e-16, 7.301237393385877e-17, -3.152020031481085e-16, -1.306839356366479e-16, 1.3832532425629436e-16, -4.6198483888617374e-17, -1.6094379124341003, 0.0]\n",
       " [NaN, NaN, NaN, NaN, NaN, NaN, NaN, NaN, NaN, NaN  …  NaN, NaN, NaN, NaN, NaN, NaN, NaN, NaN, NaN, NaN]\n",
       " [NaN, NaN, NaN, NaN, NaN, NaN, NaN, NaN, NaN, NaN  …  NaN, NaN, NaN, NaN, NaN, NaN, NaN, NaN, NaN, NaN]\n",
       " ⋮\n",
       " [NaN, NaN, NaN, NaN, NaN, NaN, NaN, NaN, NaN, NaN  …  NaN, NaN, NaN, NaN, NaN, NaN, NaN, NaN, NaN, NaN]\n",
       " [NaN, NaN, NaN, NaN, NaN, NaN, NaN, NaN, NaN, NaN  …  NaN, NaN, NaN, NaN, NaN, NaN, NaN, NaN, NaN, NaN]"
      ]
     },
     "execution_count": 12,
     "metadata": {},
     "output_type": "execute_result"
    }
   ],
   "source": [
    "rs = [Vector(sample)[end-1] for sample in samples.Ω]\n",
    "Aϕs = [Vector(sample)[end] for sample in samples.Ω];"
   ]
  },
  {
   "cell_type": "code",
   "execution_count": 13,
   "id": "15be1f78",
   "metadata": {},
   "outputs": [
    {
     "data": {
      "text/plain": [
       "501-element Vector{Vector{Float64}}:\n",
       " [0.49172186851501465, 3.3348827362060547, -3.8632519245147705, -6.717447280883789, 1.7892075777053833, 4.633310794830322, -2.5502521991729736, -5.4095892906188965, 3.8559768199920654, 6.702130317687988  …  -0.04988100752234459, -0.000928846187889576, 0.0768577978014946, 0.020462296903133392, -0.1136246994137764, -0.03365310654044151, 0.054052047431468964, -0.02620689570903778, -1.6094379124341003, 0.0]\n",
       " [0.24357629153937188, 1.6273464975872098, -1.8868315749592104, -3.269368220379051, 0.8847847985389296, 2.2335327231419524, -1.2456864989745826, -2.629396940112421, 1.8802043382011964, 3.258813319618712  …  -3.4294460867307743e-9, -3.754452269902428e-10, 4.8514808869394296e-9, 1.7185425479312378e-9, -6.188917734956234e-9, -2.6721773852648587e-9, 2.6502120825009234e-9, -8.716046416656191e-10, -1.6148136397212078, 0.01258354614833649]\n",
       " [0.24627933991664197, 1.6357034562409511, -1.8957320954100885, -3.269669162745375, 0.8978965566809376, 2.2153200827108073, -1.2521528630126362, -2.6244665784719263, 1.8847732057584847, 3.2576607430152382  …  -3.449191362252369e-9, -7.817452202192553e-10, 5.006043574083079e-9, 2.2286030407135606e-9, -6.48833171924839e-9, -2.9804080030376825e-9, 2.6332179287615305e-9, -8.655363712902095e-10, -1.6226792224182727, 0.02167022676722647]\n",
       " ⋮\n",
       " [0.37559192097773025, 0.7480570771350128, -1.0326469803401694, -3.153260523149478, 1.424806689704548, 2.7673320625707567, -0.8758558939792297, -3.3904164113526245, 1.0115432656426304, 3.5888239074289867  …  -2.1168212190924137e-8, 1.2806996500489625e-8, 2.728163711583279e-8, 2.571193172601206e-8, -4.719092846387912e-8, -2.3225750165365794e-8, 2.3673224991375906e-8, 6.770534041282303e-9, 0.6619566041619199, 4.696375527698868]\n",
       " [0.37479724362214484, 0.739982853044223, -1.0416899969535773, -3.1537644278594517, 1.4391237336384808, 2.765776184730953, -0.8653365919245839, -3.393954179918299, 0.9984148580794597, 3.5821238237027573  …  -2.0901992902478382e-8, 1.2857649725604187e-8, 2.7111901374272e-8, 2.5733285591698198e-8, -4.6706353231782994e-8, -2.3070102038054137e-8, 2.3608229476153032e-8, 6.8887862996654445e-9, 0.6544576322067794, 4.695497441065016]"
      ]
     },
     "execution_count": 13,
     "metadata": {},
     "output_type": "execute_result"
    }
   ],
   "source": [
    "samples2 = Sample(spl, target2; num_steps=500)"
   ]
  },
  {
   "cell_type": "markdown",
   "id": "e1cb8e03",
   "metadata": {},
   "source": [
    "## Plotting"
   ]
  },
  {
   "cell_type": "code",
   "execution_count": 14,
   "id": "56874cd3",
   "metadata": {},
   "outputs": [],
   "source": [
    "Plots.default(fmt=:png, dpi=120, size=(500,300), legendfontsize=10)"
   ]
  },
  {
   "cell_type": "code",
   "execution_count": 15,
   "id": "dc3b07b2",
   "metadata": {},
   "outputs": [],
   "source": [
    "rs = [Vector(sample)[end-1] for sample in thin_samples.Ω]\n",
    "Aϕs = [Vector(sample)[end] for sample in thin_samples.Ω];"
   ]
  },
  {
   "cell_type": "code",
   "execution_count": 16,
   "id": "c3967517",
   "metadata": {},
   "outputs": [
    {
     "data": {
      "image/png": "[encoded data removed]"
     },
     "execution_count": 154,
     "metadata": {},
     "output_type": "execute_result"
    }
   ],
   "source": [
    "plot(exp.(rs), label=L\"r\", xlabel=\"step\")\n",
    "plot!(exp.(Aϕs), label=L\"A_\\phi\")\n"
   ]
  },
  {
   "cell_type": "code",
   "execution_count": 17,
   "id": "4f2bebbd",
   "metadata": {},
   "outputs": [
    {
     "name": "stdout",
     "output_type": "stream",
     "text": [
      "Energy: 376.51156662158803 -/+ 0.3376624656380899\n"
     ]
    }
   ],
   "source": [
    "println(\"Energy: \", mean(thin_samples.Energy), \" -/+ \", std(thin_samples.Energy))"
   ]
  },
  {
   "cell_type": "code",
   "execution_count": 18,
   "id": "f48c433c",
   "metadata": {},
   "outputs": [
    {
     "data": {
      "image/png": "[encoded data removed]"
     },
     "execution_count": 18,
     "metadata": {},
     "output_type": "execute_result"
    }
   ],
   "source": [
    "plot(exp.(rs), label=L\"r\", xlabel=\"step\")\n",
    "plot!(exp.(Aϕs), label=L\"A_\\phi\")"
   ]
  },
  {
   "cell_type": "code",
   "execution_count": 19,
   "id": "5c5ef431",
   "metadata": {},
   "outputs": [],
   "source": [
    "rs = [sample[end-1] for sample in samples2]\n",
    "Aϕs = [sample[end] for sample in samples2];"
   ]
  },
  {
   "cell_type": "code",
   "execution_count": 20,
   "id": "14ab67d9",
   "metadata": {},
   "outputs": [
    {
     "name": "stdout",
     "output_type": "stream",
     "text": [
      "1.3016734028474406 0.7914358036835447\n"
     ]
    }
   ],
   "source": [
    "println(mean(exp.(rs)), \" \", std(exp.(rs)))"
   ]
  },
  {
   "cell_type": "code",
   "execution_count": 21,
   "id": "01fee631",
   "metadata": {},
   "outputs": [
    {
     "name": "stdout",
     "output_type": "stream",
     "text": [
      "26.214009302860717 28.775959821312064\n"
     ]
    }
   ],
   "source": [
    "println(mean(exp.(Aϕs)), \" \", std(exp.(Aϕs)))"
   ]
  },
  {
   "cell_type": "code",
   "execution_count": 22,
   "id": "067c4c9a",
   "metadata": {},
   "outputs": [
    {
     "data": {
      "image/png": "[encoded data removed]"
     },
     "execution_count": 22,
     "metadata": {},
     "output_type": "execute_result"
    }
   ],
   "source": [
    "plot(exp.(rs), label=L\"r\", xlabel=\"step\")\n",
    "plot!(exp.(Aϕs), label=L\"A_\\phi\")"
   ]
  },
  {
   "cell_type": "code",
   "execution_count": 23,
   "id": "01a11feb",
   "metadata": {},
   "outputs": [
    {
     "data": {
      "image/png": "[encoded data removed]"
     },
     "execution_count": 23,
     "metadata": {},
     "output_type": "execute_result"
    }
   ],
   "source": [
    "plot(histogram(exp.(rs), xlabel=L\"r\", label=nothing, lw=1),\n",
    "    histogram(exp.(Aϕs), xlabel=L\"A_\\phi\", label=nothing, lw=1))"
   ]
  },
  {
   "cell_type": "code",
   "execution_count": null,
   "id": "9f163326",
   "metadata": {},
   "outputs": [],
   "source": []
  },
  {
   "cell_type": "code",
   "execution_count": null,
   "id": "8c7f8f8b",
   "metadata": {},
   "outputs": [],
   "source": []
  }
 ],
 "metadata": {
  "kernelspec": {
   "display_name": "Julia 1.9.0-beta3",
   "language": "julia",
   "name": "julia-1.9"
  },
  "language_info": {
   "file_extension": ".jl",
   "mimetype": "application/julia",
   "name": "julia",
   "version": "1.9.0"
  }
 },
 "nbformat": 4,
 "nbformat_minor": 5
}
