{
 "cells": [
  {
   "cell_type": "markdown",
   "id": "91129cb1",
   "metadata": {},
   "source": [
    "# Lab CMBLenses"
   ]
  },
  {
   "cell_type": "markdown",
   "id": "97121235",
   "metadata": {},
   "source": [
    "## Model"
   ]
  },
  {
   "cell_type": "code",
   "execution_count": 56,
   "id": "71684d25",
   "metadata": {},
   "outputs": [
    {
     "name": "stderr",
     "output_type": "stream",
     "text": [
      "\u001b[32m\u001b[1m  Activating\u001b[22m\u001b[39m project at `~/julia_repos/CMBLensingInferenceTestProblem`\n"
     ]
    }
   ],
   "source": [
    "] activate \"/home/jaimerz/julia_repos/CMBLensingInferenceTestProblem\""
   ]
  },
  {
   "cell_type": "code",
   "execution_count": 57,
   "id": "baed58e3",
   "metadata": {},
   "outputs": [],
   "source": [
    "using CMBLensing, CMBLensingInferenceTestProblem\n",
    "using CUDA, LaTeXStrings, MCMCDiagnosticTools, Plots, ProgressMeter, Random, Zygote\n",
    "using LinearAlgebra, Statistics\n",
    "ENV[\"LINES\"] = 10;"
   ]
  },
  {
   "cell_type": "code",
   "execution_count": 58,
   "id": "1b324e86",
   "metadata": {},
   "outputs": [],
   "source": [
    "using Revise\n",
    "using MCHMC"
   ]
  },
  {
   "cell_type": "code",
   "execution_count": 121,
   "id": "a7d6f81c",
   "metadata": {},
   "outputs": [
    {
     "name": "stderr",
     "output_type": "stream",
     "text": [
      "\r",
      "\u001b[32mMAP_joint: 100%|████████████████████████████████████████| Time: 0:00:11\u001b[39m\r\n",
      "\u001b[34m  step:        20\u001b[39m\r\n",
      "\u001b[34m  logpdf:      377.00\u001b[39m\r\n",
      "\u001b[34m  α:           0.008522608\u001b[39m\r\n",
      "\u001b[34m  CG:          2 iterations\u001b[39m\r\n",
      "\u001b[34m  Linesearch:  9 bisections\u001b[39m\n"
     ]
    }
   ],
   "source": [
    "prob = load_cmb_lensing_problem(storage = Array,\n",
    "                                T = Float32,\n",
    "                                Nside = 4);"
   ]
  },
  {
   "cell_type": "code",
   "execution_count": 163,
   "id": "cf9d88ae",
   "metadata": {},
   "outputs": [],
   "source": [
    "target = CMBLensingTarget(prob);"
   ]
  },
  {
   "cell_type": "code",
   "execution_count": 164,
   "id": "e5a56736",
   "metadata": {},
   "outputs": [
    {
     "data": {
      "text/plain": [
       "38×38 Diagonal{Float64, Field-(f°,ϕ°,θ)-Tuple{LambertEBFourier{Array{Float32, 3}}, LambertFourier{Array{Float32, 2}}, ComponentArrays.ComponentVector{Float64, Vector{Float64}, Tuple{ComponentArrays.Axis{(r = 1, Aϕ = 2)}}}}}:\n",
       " 0.0   ⋅         ⋅         ⋅    ⋅    ⋅   …   ⋅    ⋅    ⋅    ⋅    ⋅    ⋅    ⋅ \n",
       "  ⋅   0.486508   ⋅         ⋅    ⋅    ⋅       ⋅    ⋅    ⋅    ⋅    ⋅    ⋅    ⋅ \n",
       "  ⋅    ⋅        0.760307   ⋅    ⋅    ⋅       ⋅    ⋅    ⋅    ⋅    ⋅    ⋅    ⋅ \n",
       " ⋮                                  ⋮    ⋱                      ⋮         \n",
       "  ⋅    ⋅         ⋅         ⋅    ⋅    ⋅       ⋅    ⋅    ⋅    ⋅    ⋅   1.0   ⋅ \n",
       "  ⋅    ⋅         ⋅         ⋅    ⋅    ⋅       ⋅    ⋅    ⋅    ⋅    ⋅    ⋅   1.0"
      ]
     },
     "execution_count": 164,
     "metadata": {},
     "output_type": "execute_result"
    }
   ],
   "source": [
    "sqrt_MM = sqrt(real(prob.Λmass))\n",
    "inv_sqrt_MM = pinv(sqrt_MM)"
   ]
  },
  {
   "cell_type": "code",
   "execution_count": 161,
   "id": "7382a390",
   "metadata": {},
   "outputs": [
    {
     "data": {
      "text/plain": [
       "50-element Field-(f°,ϕ°,θ)-Tuple{LambertQUMap{Array{Float32, 3}}, LambertMap{Array{Float32, 2}}, ComponentArrays.ComponentVector{Float64, Vector{Float64}, Tuple{ComponentArrays.Axis{(r = 1, Aϕ = 2)}}}}:\n",
       "  0.49172186851501465\n",
       "  3.3348827362060547\n",
       " -3.8632519245147705\n",
       "  ⋮\n",
       " -1.6094379124341003\n",
       "  0.0"
      ]
     },
     "execution_count": 161,
     "metadata": {},
     "output_type": "execute_result"
    }
   ],
   "source": [
    "LenseBasis(sqrt_MM * prob.Ωstart)"
   ]
  },
  {
   "cell_type": "code",
   "execution_count": 125,
   "id": "d219f4cb",
   "metadata": {
    "code_folding": []
   },
   "outputs": [
    {
     "data": {
      "text/plain": [
       "grad_nlogp (generic function with 1 method)"
      ]
     },
     "execution_count": 125,
     "metadata": {},
     "output_type": "execute_result"
    }
   ],
   "source": [
    "function ff(x)\n",
    "    return x\n",
    "end\n",
    "function prior(x)\n",
    "    return prob.Ωstart\n",
    "end\n",
    "\n",
    "function nlogp(x)\n",
    "        #x = inv_transform(xt)\n",
    "        return -1.0 .* prob(x)\n",
    "    end\n",
    "\n",
    "function grad_nlogp(x)\n",
    "    return CMBLensing.LenseBasis(Zygote.gradient(nlogp, x)[1])\n",
    "end\n",
    "\n",
    "target_no_t = CMBLensingTarget(prob)\n",
    "target_no_t.transform = ff\n",
    "target_no_t.inv_transform = ff\n",
    "target_no_t.prior_draw = fff\n",
    "target_no_t.nlogp = nlogp\n",
    "target_no_t.grad_nlogp = grad_nlogp"
   ]
  },
  {
   "cell_type": "code",
   "execution_count": 154,
   "id": "cb732cff",
   "metadata": {
    "scrolled": true
   },
   "outputs": [
    {
     "name": "stdout",
     "output_type": "stream",
     "text": [
      "[-0.30936679244041443, -0.8185905814170837, -0.5983972549438477, -0.8185905814170837, 0.9873343706130981, -0.4218532145023346, -0.8361046314239502, 0.7030996084213257, 0.8796437978744507, 0.10486790537834167, 0.5906134843826294, 0.10486790537834167, 0.9873343706130981, 0.7030996084213257, -0.8361046314239502, -0.4218532145023346, 0.2826554477214813, -0.8024191856384277, -0.3653070628643036, -0.8024191856384277, 0.6600601673126221, 0.8299111723899841, 0.18301627039909363, -1.110504150390625, 0.08471392095088959, 0.5205287933349609, -0.5632485747337341, 0.5205287933349609, 0.6600601673126221, -1.110504150390625, 0.18301627039909363, 0.8299111723899841, 3.447042826515251e16, -2.4582228138786816e16, 2.0652195623993344e16, -2.4582228138786816e16, -2.1687518965530624e16, 1.2603112304934912e16, -9.308119695884288e15, 1.2603112304934912e16, 2.0652195623993344e16, -1.220282886914048e16, 9.374122605805568e15, -1.220282886914048e16, -2.1687518965530624e16, 1.2603112304934912e16, -9.308119695884288e15, 1.2603112304934912e16, 1.0, 1.0]\n"
     ]
    }
   ],
   "source": []
  },
  {
   "cell_type": "code",
   "execution_count": 155,
   "id": "3e2d17a1",
   "metadata": {},
   "outputs": [
    {
     "data": {
      "text/plain": [
       "38×38 Diagonal{ComplexF64, Field-(f°,ϕ°,θ)-Tuple{LambertEBFourier{Array{Float32, 3}}, LambertFourier{Array{ComplexF32, 2}}, ComponentArrays.ComponentVector{Float64, Vector{Float64}, Tuple{ComponentArrays.Axis{(r = 1, Aϕ = 2)}}}}}:\n",
       " 0.0+0.0im          ⋅              ⋅      …      ⋅          ⋅          ⋅    \n",
       "     ⋅      4.22494+0.0im          ⋅             ⋅          ⋅          ⋅    \n",
       "     ⋅              ⋅      1.72991+0.0im         ⋅          ⋅          ⋅    \n",
       "    ⋮                                     ⋱     ⋮                  \n",
       "     ⋅              ⋅              ⋅             ⋅      1.0+0.0im      ⋅    \n",
       "     ⋅              ⋅              ⋅             ⋅          ⋅      1.0+0.0im"
      ]
     },
     "execution_count": 155,
     "metadata": {},
     "output_type": "execute_result"
    }
   ],
   "source": [
    "CMBLensing.LenseBasis(prob.Λmass)"
   ]
  },
  {
   "cell_type": "markdown",
   "id": "d87fca8f",
   "metadata": {},
   "source": [
    "## Sample"
   ]
  },
  {
   "cell_type": "code",
   "execution_count": 126,
   "id": "1359a630",
   "metadata": {
    "code_folding": []
   },
   "outputs": [
    {
     "data": {
      "text/plain": [
       "Sampler(Settings(MersenneTwister(0), 1.0e-7, 7.0710678118654755, 0.0, 0.1931833275037836, 0.0005, 2000, 1000, 10, \"LF\"), MCHMC.Leapfrog)"
      ]
     },
     "execution_count": 126,
     "metadata": {},
     "output_type": "execute_result"
    }
   ],
   "source": [
    "eps=0.0000001\n",
    "L=sqrt(target.d)\n",
    "spl=Sampler(;eps=eps, L=L)"
   ]
  },
  {
   "cell_type": "code",
   "execution_count": 127,
   "id": "a7599ee6",
   "metadata": {},
   "outputs": [
    {
     "data": {
      "text/plain": [
       "([0.42004072666168213, 1.7844752073287964, -2.439671516418457, -3.621648073196411, 0.8699802160263062, 3.4578683376312256, -1.362741231918335, -3.1474339962005615, 1.9923657178878784, 10.040186882019043  …  -2.3630020582326814e-17, 3.313013191145788e-19, 4.8310282609910154e-17, 1.0969451379760676e-17, -3.9453762361700844e-17, -2.0808199801720566e-17, 2.654735590826456e-17, -8.144055524546975e-18, -1.6094379124341003, 0.0], [0.17260724306106567, -0.01843095012009144, -0.01767706125974655, 0.0033818338997662067, 0.134495347738266, -0.015604629181325436, -0.16652120649814606, 0.055239398032426834, 0.03427109867334366, -0.33826956152915955  …  0.02685372158885002, 0.23181548714637756, 0.06816983968019485, 0.14649169147014618, 0.1131039634346962, -0.3359872102737427, -0.22112472355365753, 0.15401597321033478, 0.05994229142272867, -0.1139912315094927], [-9.9634085870548e-8, 2.877720532978856e-7, -5.532990030587825e-7, -4.571329270675051e-7, 8.024439068776701e-8, 6.157576990517555e-7, -1.3532977050090267e-7, -8.282987096208672e-7, 3.4904874723906687e-7, 2.0131010103341396e-7  …  2.92492050432e11, -1.85373786112e11, -1.29082130432e11, 4.16309248e10, 7.2109187072e10, 1.07643936768e11, 8.642871296e10, -1.59047467008e11, -0.0013904166092535601, 0.530474681007184], 32.693817138671875, 0.0)"
      ]
     },
     "execution_count": 127,
     "metadata": {},
     "output_type": "execute_result"
    }
   ],
   "source": [
    "init = MCHMC.Get_initial_conditions(spl, target)\n",
    "x, g, u, r, t = init"
   ]
  },
  {
   "cell_type": "code",
   "execution_count": 128,
   "id": "3e8fa703",
   "metadata": {},
   "outputs": [
    {
     "ename": "LoadError",
     "evalue": "DomainError with -6.91059205942105:\nlog1p will only return a complex result if called with a complex argument. Try log1p(Complex(x)).",
     "output_type": "error",
     "traceback": [
      "DomainError with -6.91059205942105:\nlog1p will only return a complex result if called with a complex argument. Try log1p(Complex(x)).",
      "",
      "Stacktrace:",
      "  [1] throw_complex_domainerror(f::Symbol, x::Float64)",
      "    @ Base.Math ./math.jl:33",
      "  [2] log1p(x::Float64)",
      "    @ Base.Math ./special/log.jl:370",
      "  [3] _broadcast_getindex_evalf",
      "    @ ./broadcast.jl:683 [inlined]",
      "  [4] _broadcast_getindex",
      "    @ ./broadcast.jl:656 [inlined]",
      "  [5] _getindex",
      "    @ ./broadcast.jl:680 [inlined]",
      "  [6] _getindex",
      "    @ ./broadcast.jl:679 [inlined]",
      "  [7] _broadcast_getindex",
      "    @ ./broadcast.jl:655 [inlined]",
      "  [8] getindex",
      "    @ ./broadcast.jl:610 [inlined]",
      "  [9] copy",
      "    @ ./broadcast.jl:888 [inlined]",
      " [10] materialize(bc::Base.Broadcast.Broadcasted{Base.Broadcast.DefaultArrayStyle{0}, Nothing, typeof(+), Tuple{Base.Broadcast.Broadcasted{Base.Broadcast.DefaultArrayStyle{0}, Nothing, typeof(log), Tuple{Float64}}, Base.Broadcast.Broadcasted{Base.Broadcast.DefaultArrayStyle{0}, Nothing, typeof(log1p), Tuple{Base.Broadcast.Broadcasted{Base.Broadcast.DefaultArrayStyle{0}, Nothing, typeof(*), Tuple{Float64, Float64}}}}}})",
      "    @ Base.Broadcast ./broadcast.jl:873",
      " [11] Update_momentum(sampler::Sampler, target::CMBLensingTarget, eff_eps::Float64, g::Field-(f°,ϕ°,θ)-Tuple{LambertQUMap{Array{Float32, 3}}, LambertMap{Array{Float32, 2}}, ComponentArrays.ComponentVector{Float64, Vector{Float64}, Tuple{ComponentArrays.Axis{(r = 1, Aϕ = 2)}}}}, u::Field-(f°,ϕ°,θ)-Tuple{LambertQUMap{Array{Float32, 3}}, LambertMap{Array{Float32, 2}}, ComponentArrays.ComponentVector{Float64, Vector{Float64}, Tuple{ComponentArrays.Axis{(r = 1, Aϕ = 2)}}}}, r::Float64)",
      "    @ MCHMC ~/.julia/packages/MCHMC/XPTN3/src/sampler.jl:89",
      " [12] top-level scope",
      "    @ In[128]:1"
     ]
    }
   ],
   "source": [
    "uu, rr = MCHMC.Update_momentum(spl, target, eps * 0.5, g, u, r)\n",
    "\n",
    "#full step in x\n",
    "xx = x .- eps .* uu\n",
    "gg = target.grad_nlogp(xx)\n",
    "println(gg)"
   ]
  },
  {
   "cell_type": "code",
   "execution_count": 131,
   "id": "bed89a65",
   "metadata": {},
   "outputs": [
    {
     "data": {
      "text/plain": [
       "([0.23362982273101807, 1.6145217418670654, -1.8872356414794922, -3.2767221927642822, 0.8644531965255737, 2.2458934783935547, -1.246073603630066, -2.639155864715576, 1.868626356124878, 3.251345157623291  …  -3.395840053599386e-9, 3.6597669339499816e-11, 4.677404241704153e-9, 1.211756028851596e-9, -5.810230518932258e-9, -2.3360031686792126e-9, 2.561251877253312e-9, -9.142808177209361e-10, -1.6094379124341003, 0.0], [-0.17509743571281433, -0.2546156644821167, -0.12893405556678772, -0.016462236642837524, -0.0793110728263855, 0.1729809045791626, 0.06115751340985298, 0.197920024394989, 0.021481221541762352, 0.2348160296678543  …  -0.13934938609600067, 0.20598673820495605, 0.06823858618736267, 0.08237851411104202, -0.1119808480143547, 0.13035975396633148, 0.09473720192909241, -0.022775618359446526, -0.1394116566676119, 0.11836720497329495], [-3.002088817538606e-7, 3.2172076203096367e-7, -5.61635943086003e-7, -5.00593102970015e-7, 1.5009730702786328e-7, 1.0105396768267383e-6, -7.816060332288544e-8, -9.269866723116138e-7, 5.241498683972168e-7, 6.261871021706611e-7  …  2023.9400634765625, -1669.95361328125, -1344.0316162109375, 385.736572265625, 503.5356750488281, 948.72265625, 908.3474731445312, -1428.0181884765625, -0.0013904187959227277, 0.5304746831602736], 32.693817138671875, 0.0)"
      ]
     },
     "execution_count": 131,
     "metadata": {},
     "output_type": "execute_result"
    }
   ],
   "source": [
    "init = MCHMC.Get_initial_conditions(spl, target_no_t)\n",
    "x, g, u, r, t = init"
   ]
  },
  {
   "cell_type": "code",
   "execution_count": 132,
   "id": "d10904ac",
   "metadata": {},
   "outputs": [
    {
     "name": "stdout",
     "output_type": "stream",
     "text": [
      "[-1.0743605522911055e6, 3.163609095641993e6, 2.222271800294089e6, -3.4443900169423334e6, 1.851674971898655e6, -1.4045471833820012e6, -2.766368079221209e6, 1.2273253092835764e6, -2.45436114039471e6, 1.5819733234633708e6, 1.307215880976499e6, -1.3024066042274183e6, 2.609630453654102e6, 210530.62755659, -1.6949213305980067e6, -32876.55571209139, -842233.3949850469, 1.2335134714533975e6, 1.1174714515323213e6, -1.54592449257026e6, 1.453886419586073e6, -886902.9906057053, -1.6818738460583019e6, 825701.2040700411, -1.145919963558008e6, 848513.8266021815, 870700.2364908839, -536125.3496143495, 1.0348230188037808e6, -132274.97801914113, -806854.3961515721, 193499.78302370594, 7.507326566503225e13, 1.3954718901321728e14, 2.3138090526443588e14, -1.5547973029903728e14, -3.446255453699985e13, -1.2259666817994931e14, 1.5544714856540148e13, -5.128172478451406e11, 1.0697393285645431e14, 9.302362583346688e13, -8.207684066487194e13, 2.6919470102040742e13, -1.7639918479369122e14, -3.086673364964731e14, 1.788538639057959e14, 1.2878164721884406e13, 22015.03788529368, 1.17651232042655e10]\n"
     ]
    }
   ],
   "source": [
    "uu, rr = MCHMC.Update_momentum(spl, target_no_t, eps * 0.5, g, u, r)\n",
    "\n",
    "#full step in x\n",
    "xx = x .- eps .* uu\n",
    "gg = target_no_t.grad_nlogp(xx)\n",
    "println(gg)"
   ]
  },
  {
   "cell_type": "code",
   "execution_count": 94,
   "id": "52adf9e1",
   "metadata": {},
   "outputs": [
    {
     "name": "stdout",
     "output_type": "stream",
     "text": [
      "[-7.431067394222076e6, 2.5075948711289823e7, 1.853318311717564e7, -2.7721164615957446e7, 1.6498115325588075e7, -1.3763776855217919e7, -2.3515220324859187e7, 7.025962959674831e6, -2.0074683194581583e7, 1.6348418833426636e7, 8.971595389173135e6, -1.3701448173427954e7, 2.309637005424827e7, 7.587933639338203e6, -1.6079514856925195e7, -850652.6147232477, -9.503934712591337e6, 1.5880077452571202e7, 1.351449774864374e7, -1.815338594007718e7, 1.658805510499602e7, -1.0032722717190558e7, -2.048525105277442e7, 9.679905296452567e6, -1.4560602562178358e7, 1.0106172279119803e7, 1.0550016161904799e7, -7.832833206096002e6, 1.31860347831213e7, -1.9311141223244788e6, -9.288824186157268e6, 2.28390967258018e6, -4.80184922585567e15, 1.0057781085409606e15, -1.0616407573257074e16, 7.827660585174753e15, 1.5715569983752212e15, 2.8510915284964315e15, -8.47367838253293e14, -7.559092845466508e14, -4.342848455329508e15, -1.2034670873109402e15, 1.601314402361804e15, 1.2542888401393035e15, 5.386855532941893e15, 7.040347480997581e15, -4.608022659037511e15, -1.3630213534373025e15, 391729.36258046457, 5.887092025317043e11]\n"
     ]
    }
   ],
   "source": [
    "xx, gg, uu, rr = MCHMC.Leapfrog(spl, target, x, g, u, r)\n",
    "println(gg)"
   ]
  },
  {
   "cell_type": "code",
   "execution_count": 95,
   "id": "1eebe796",
   "metadata": {},
   "outputs": [
    {
     "data": {
      "text/plain": [
       "101-element Vector{Vector{Float64}}:\n",
       " [0.23362982273101807, 1.6145217418670654, -1.8872356414794922, -3.2767221927642822, 0.8644531965255737, 2.2458934783935547, -1.246073603630066, -2.639155864715576, 1.868626356124878, 3.251345157623291  …  -3.395840053599386e-9, 3.6597669339499816e-11, 4.677404241704153e-9, 1.211756028851596e-9, -5.810230518932258e-9, -2.3360031686792126e-9, 2.561251877253312e-9, -9.142808177209361e-10, -1.6094379124341003, 0.0]\n",
       " [0.23362981750823134, 1.614521733092397, -1.8872356272556534, -3.2767221706684673, 0.8644531720845814, 2.2458934760044453, -1.2460735758054418, -2.6391558489995846, 1.8686263515620916, 3.251345180685893  …  2.4380552278769023e-8, 1.203290744744396e-8, 2.2817007469256005e-8, -1.0992845624813364e-8, 3.39366241447672e-10, -9.416496974024596e-9, -1.6457358534420342e-8, 6.768970788910391e-10, -1.609437904021631, -5.4310037314121e-9]\n",
       " [0.23362981750502457, 1.6145217330871195, -1.8872356272469883, -3.27672217065503, 0.8644531720697727, 2.2458934760029985, -1.246073575788659, -2.639155848990037, 1.8686263515593735, 3.2513451806998663  …  -1.0761682241864225e-8, 3.655098628637368e-8, -1.3916202699455424e-8, 2.4256271201822434e-8, 2.3470479516715712e-8, -2.2411606829927867e-8, 8.660842046636069e-9, -2.252479771473312e-8, -1.6094379040165638, -5.434276501247961e-9]\n",
       " ⋮\n",
       " [0.23362981750483217, 1.6145217330864778, -1.8872356272476023, -3.2767221706551535, 0.8644531720697024, 2.245893476002631, -1.2460735757889878, -2.6391558489900686, 1.8686263515589712, 3.2513451806998552  …  5.244633869182065e-9, -3.1210317562626552e-9, 1.2686037034827881e-8, -1.7768669252661645e-9, -8.201945307998202e-9, 5.4697619654467225e-9, -1.147193040884208e-9, 6.246894004655391e-9, -1.6094379040164195, -5.4345667806402724e-9]\n",
       " [0.23362981750483108, 1.6145217330864743, -1.8872356272476163, -3.276722170655155, 0.864453172069699, 2.245893476002629, -1.2460735757889916, -2.6391558489900566, 1.868626351558965, 3.251345180699862  …  -1.980368399533787e-8, 2.228766615236047e-8, -1.268796003011196e-8, 2.323243672644595e-8, 1.6414656846071255e-8, -1.9516235111512248e-8, 2.3804833745055584e-8, -1.8340925119716832e-8, -1.6094379040164246, -5.434568145233008e-9]"
      ]
     },
     "execution_count": 95,
     "metadata": {},
     "output_type": "execute_result"
    }
   ],
   "source": [
    "samples = Sample(spl, target; num_steps=100)"
   ]
  },
  {
   "cell_type": "markdown",
   "id": "e1cb8e03",
   "metadata": {},
   "source": [
    "## Plotting"
   ]
  },
  {
   "cell_type": "code",
   "execution_count": 96,
   "id": "56874cd3",
   "metadata": {},
   "outputs": [],
   "source": [
    "Plots.default(fmt=:png, dpi=120, size=(500,300), legendfontsize=10)"
   ]
  },
  {
   "cell_type": "code",
   "execution_count": 97,
   "id": "dc3b07b2",
   "metadata": {},
   "outputs": [],
   "source": [
    "rs = [sample[end] for sample in samples]\n",
    "Aϕs = [sample[end-1] for sample in samples];"
   ]
  },
  {
   "cell_type": "code",
   "execution_count": 98,
   "id": "c3967517",
   "metadata": {},
   "outputs": [
    {
     "name": "stdout",
     "output_type": "stream",
     "text": [
      "0.999999994619362 5.407475371258813e-10\n"
     ]
    }
   ],
   "source": [
    "println(mean(exp.(rs)), \" \", std(exp.(rs)))"
   ]
  },
  {
   "cell_type": "code",
   "execution_count": 99,
   "id": "4f2bebbd",
   "metadata": {},
   "outputs": [
    {
     "name": "stdout",
     "output_type": "stream",
     "text": [
      "0.2000000016668379 1.6751516490540135e-10\n"
     ]
    }
   ],
   "source": [
    "println(mean(exp.(Aϕs)), \" \", std(exp.(Aϕs)))"
   ]
  },
  {
   "cell_type": "code",
   "execution_count": 100,
   "id": "f48c433c",
   "metadata": {},
   "outputs": [
    {
     "data": {
      "image/png": "[encoded data removed]"
     },
     "execution_count": 100,
     "metadata": {},
     "output_type": "execute_result"
    }
   ],
   "source": [
    "plot(exp.(rs), label=L\"r\", xlabel=\"step\")\n",
    "plot!(exp.(Aϕs), label=L\"A_\\phi\")"
   ]
  },
  {
   "cell_type": "code",
   "execution_count": 102,
   "id": "01a11feb",
   "metadata": {},
   "outputs": [
    {
     "data": {
      "image/png": "[encoded data removed]"
     },
     "execution_count": 102,
     "metadata": {},
     "output_type": "execute_result"
    }
   ],
   "source": [
    "plot(histogram(exp.(rs), xlabel=L\"r\", label=nothing, lw=1),\n",
    "    histogram(exp.(Aϕs), xlabel=L\"A_\\phi\", label=nothing, lw=1))"
   ]
  },
  {
   "cell_type": "code",
   "execution_count": null,
   "id": "9f163326",
   "metadata": {},
   "outputs": [],
   "source": []
  }
 ],
 "metadata": {
  "kernelspec": {
   "display_name": "Julia 1.9.0-beta3",
   "language": "julia",
   "name": "julia-1.9"
  },
  "language_info": {
   "file_extension": ".jl",
   "mimetype": "application/julia",
   "name": "julia",
   "version": "1.9.0"
  }
 },
 "nbformat": 4,
 "nbformat_minor": 5
}
