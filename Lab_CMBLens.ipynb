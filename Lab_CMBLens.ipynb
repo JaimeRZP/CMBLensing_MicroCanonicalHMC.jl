{
 "cells": [
  {
   "cell_type": "markdown",
   "id": "91129cb1",
   "metadata": {},
   "source": [
    "# Lab CMBLenses"
   ]
  },
  {
   "cell_type": "markdown",
   "id": "97121235",
   "metadata": {},
   "source": [
    "## Model"
   ]
  },
  {
   "cell_type": "code",
   "execution_count": 1,
   "id": "71684d25",
   "metadata": {},
   "outputs": [
    {
     "name": "stderr",
     "output_type": "stream",
     "text": [
      "\u001b[32m\u001b[1m  Activating\u001b[22m\u001b[39m project at `~/julia_repos/CMBLensingInferenceTestProblem`\n"
     ]
    }
   ],
   "source": [
    "] activate \"/home/jaimerz/julia_repos/CMBLensingInferenceTestProblem\""
   ]
  },
  {
   "cell_type": "code",
   "execution_count": 2,
   "id": "baed58e3",
   "metadata": {},
   "outputs": [],
   "source": [
    "using CMBLensing, CMBLensingInferenceTestProblem\n",
    "using CUDA, LaTeXStrings, MCMCDiagnosticTools, Plots, ProgressMeter, Random, Zygote\n",
    "using LinearAlgebra, Statistics\n",
    "ENV[\"LINES\"] = 10;"
   ]
  },
  {
   "cell_type": "code",
   "execution_count": 3,
   "id": "1b324e86",
   "metadata": {},
   "outputs": [],
   "source": [
    "using Revise\n",
    "using MCHMC"
   ]
  },
  {
   "cell_type": "code",
   "execution_count": 4,
   "id": "a7d6f81c",
   "metadata": {},
   "outputs": [
    {
     "name": "stderr",
     "output_type": "stream",
     "text": [
      "\r",
      "\u001b[32mMAP_joint: 100%|████████████████████████████████████████| Time: 0:00:48\u001b[39m\r\n",
      "\u001b[34m  step:        20\u001b[39m\r\n",
      "\u001b[34m  logpdf:      377.00\u001b[39m\r\n",
      "\u001b[34m  α:           0.008522608\u001b[39m\r\n",
      "\u001b[34m  CG:          2 iterations\u001b[39m\r\n",
      "\u001b[34m  Linesearch:  9 bisections\u001b[39m\n"
     ]
    }
   ],
   "source": [
    "prob = load_cmb_lensing_problem(storage = Array,\n",
    "                                T = Float32,\n",
    "                                Nside = 4);"
   ]
  },
  {
   "cell_type": "code",
   "execution_count": 5,
   "id": "85dc7f05",
   "metadata": {},
   "outputs": [
    {
     "data": {
      "text/plain": [
       "CMBLensingTarget2 (generic function with 1 method)"
      ]
     },
     "execution_count": 5,
     "metadata": {},
     "output_type": "execute_result"
    }
   ],
   "source": [
    "CMBLensingTarget2(prob; kwargs...) = begin\n",
    "    d = length(prob.Ωstart)\n",
    "    Λmass = real(prob.Λmass)\n",
    "    sqrtΛmass = sqrt(Λmass)\n",
    "    inv_sqrtΛmass = pinv(sqrtΛmass)\n",
    "\n",
    "    function transform(x)\n",
    "        xt = x\n",
    "        xt = CMBLensing.LenseBasis(inv_sqrtΛmass * x)\n",
    "        #xt = CMBLensing.LenseBasis(sqrtΛmass * x)\n",
    "        return xt\n",
    "    end\n",
    "\n",
    "    function inv_transform(xt)\n",
    "        x = xt\n",
    "        x = CMBLensing.LenseBasis(sqrtΛmass * xt)\n",
    "        #x = CMBLensing.LenseBasis(inv_sqrtΛmass * xt)\n",
    "        return x\n",
    "    end\n",
    "\n",
    "    function nlogp(xt)\n",
    "        x = inv_transform(xt)\n",
    "        return  -1.0 .* prob(x)\n",
    "    end\n",
    "\n",
    "    function grad_nlogp(xt)\n",
    "        return CMBLensing.LenseBasis(Zygote.gradient(nlogp, xt)[1])\n",
    "        #return ForwardDiff.gradient(nlogp, x)\n",
    "    end\n",
    "\n",
    "    function prior_draw(key)\n",
    "        x = prob.Ωstart\n",
    "        xt = transform(x)\n",
    "        return CMBLensing.LenseBasis(xt)\n",
    "        #return prob.Ωstart\n",
    "    end\n",
    "\n",
    "    CMBLensingTarget(d,\n",
    "                     Λmass,\n",
    "                     nlogp,\n",
    "                     grad_nlogp,\n",
    "                     transform,\n",
    "                     inv_transform,\n",
    "                     prior_draw)\n",
    "end"
   ]
  },
  {
   "cell_type": "code",
   "execution_count": 6,
   "id": "0de44eb9",
   "metadata": {},
   "outputs": [
    {
     "data": {
      "text/plain": [
       "CMBLensingTarget3 (generic function with 1 method)"
      ]
     },
     "execution_count": 6,
     "metadata": {},
     "output_type": "execute_result"
    }
   ],
   "source": [
    "CMBLensingTarget3(prob; kwargs...) = begin\n",
    "    d = length(prob.Ωstart)\n",
    "    Λmass = real(prob.Λmass)\n",
    "    sqrtΛmass = sqrt(Λmass)\n",
    "    inv_sqrtΛmass = pinv(sqrtΛmass)\n",
    "\n",
    "    function transform(x)\n",
    "        xt = x\n",
    "        #xt = CMBLensing.LenseBasis(inv_sqrtΛmass * x)\n",
    "        xt = CMBLensing.LenseBasis(sqrtΛmass * x)\n",
    "        return xt\n",
    "    end\n",
    "\n",
    "    function inv_transform(xt)\n",
    "        x = xt\n",
    "        #x = CMBLensing.LenseBasis(sqrtΛmass * xt)\n",
    "        x = CMBLensing.LenseBasis(inv_sqrtΛmass * xt)\n",
    "        return x\n",
    "    end\n",
    "\n",
    "    function nlogp(xt)\n",
    "        x = inv_transform(xt)\n",
    "        return -1.0 .* prob(x)\n",
    "    end\n",
    "\n",
    "    function grad_nlogp(xt)\n",
    "        return CMBLensing.LenseBasis(Zygote.gradient(nlogp, xt)[1])\n",
    "        #return ForwardDiff.gradient(nlogp, x)\n",
    "    end\n",
    "\n",
    "    function prior_draw(key)\n",
    "        x = prob.Ωstart\n",
    "        xt = transform(x)\n",
    "        return CMBLensing.LenseBasis(xt)\n",
    "        #return prob.Ωstart\n",
    "    end\n",
    "\n",
    "    CMBLensingTarget(d,\n",
    "                     Λmass,\n",
    "                     nlogp,\n",
    "                     grad_nlogp,\n",
    "                     transform,\n",
    "                     inv_transform,\n",
    "                     prior_draw)\n",
    "end"
   ]
  },
  {
   "cell_type": "code",
   "execution_count": 7,
   "id": "cf9d88ae",
   "metadata": {},
   "outputs": [],
   "source": [
    "target = CMBLensingTarget2(prob);\n",
    "target2 = CMBLensingTarget3(prob);"
   ]
  },
  {
   "cell_type": "markdown",
   "id": "d87fca8f",
   "metadata": {},
   "source": [
    "## Sample"
   ]
  },
  {
   "cell_type": "code",
   "execution_count": 8,
   "id": "1359a630",
   "metadata": {
    "code_folding": []
   },
   "outputs": [
    {
     "data": {
      "text/plain": [
       "Sampler(Settings(MersenneTwister(0), 0.1, 7.0710678118654755, 0.0, 0.1931833275037836, 0.0005, 2000, 1000, 10, \"LF\"), MCHMC.Leapfrog)"
      ]
     },
     "execution_count": 8,
     "metadata": {},
     "output_type": "execute_result"
    }
   ],
   "source": [
    "eps=0.1\n",
    "L=sqrt(target.d)\n",
    "spl=Sampler(;eps=eps, L=L)"
   ]
  },
  {
   "cell_type": "code",
   "execution_count": 9,
   "id": "95e28701",
   "metadata": {},
   "outputs": [
    {
     "data": {
      "text/plain": [
       "([0.11817961931228638, 0.7882625460624695, -0.915061891078949, -1.5918281078338623, 0.4248858690261841, 1.0952790975570679, -0.601466178894043, -1.2807449102401733, 0.9124752283096313, 1.5836602449417114  …  -1.9049437464526233e-16, -4.2375006943213514e-18, 2.5941760438202236e-16, 7.301237393385877e-17, -3.152020031481085e-16, -1.306839356366479e-16, 1.3832532425629436e-16, -4.6198483888617374e-17, -1.6094379124341003, 0.0], [-0.13743168115615845, 0.08669047057628632, -0.10110758990049362, -0.03991129994392395, 0.002536488464102149, -0.14605560898780823, -0.08598639070987701, 0.17951026558876038, 0.024151859804987907, 0.17658306658267975  …  -0.11834527552127838, -0.22799544036388397, 0.10647007077932358, -0.09394612163305283, -0.14056065678596497, -0.16463549435138702, -0.09446733444929123, -0.06879419088363647, 0.02899473371219355, 0.020083847590149497], [-1.9688955035235267e-6, 2.230841801065253e-6, 1.609240030120418e-6, -1.378087176817644e-6, -2.503246605556342e-6, 5.11863618157804e-7, 1.9355034055479337e-6, -2.2935967081139097e-6, -1.9205456283089006e-6, 1.0923621402980643e-6  …  4.04009517056e11, -3.39065667584e11, -7.1084269568e10, -1.3639513088e10, -1.49468151808e11, 1.15237093376e11, 2.55611764736e11, -1.95555377152e11, -0.0013904160622284592, 0.5304746991748047], 32.693817138671875, 0.0)"
      ]
     },
     "execution_count": 9,
     "metadata": {},
     "output_type": "execute_result"
    }
   ],
   "source": [
    "init = MCHMC.Get_initial_conditions(spl, target)\n",
    "x, g, u, r, t = init"
   ]
  },
  {
   "cell_type": "code",
   "execution_count": 10,
   "id": "8fab908a",
   "metadata": {},
   "outputs": [
    {
     "data": {
      "text/plain": [
       "50-element Field-(f°,ϕ°,θ)-Tuple{LambertQUMap{Array{Float32, 3}}, LambertMap{Array{Float32, 2}}, ComponentArrays.ComponentVector{Float64, Vector{Float64}, Tuple{ComponentArrays.Axis{(r = 1, Aϕ = 2)}}}}:\n",
       " -0.13743168115615845\n",
       "  0.08669047057628632\n",
       " -0.10110758990049362\n",
       "  ⋮\n",
       "  0.02899473371219355\n",
       "  0.020083847590149497"
      ]
     },
     "execution_count": 10,
     "metadata": {},
     "output_type": "execute_result"
    }
   ],
   "source": [
    "g"
   ]
  },
  {
   "cell_type": "code",
   "execution_count": 11,
   "id": "6efc8272",
   "metadata": {},
   "outputs": [
    {
     "ename": "LoadError",
     "evalue": "DomainError with -3.622709200842247e7:\nlog1p will only return a complex result if called with a complex argument. Try log1p(Complex(x)).",
     "output_type": "error",
     "traceback": [
      "DomainError with -3.622709200842247e7:\nlog1p will only return a complex result if called with a complex argument. Try log1p(Complex(x)).",
      "",
      "Stacktrace:",
      "  [1] throw_complex_domainerror(f::Symbol, x::Float64)",
      "    @ Base.Math ./math.jl:33",
      "  [2] log1p(x::Float64)",
      "    @ Base.Math ./special/log.jl:370",
      "  [3] _broadcast_getindex_evalf",
      "    @ ./broadcast.jl:683 [inlined]",
      "  [4] _broadcast_getindex",
      "    @ ./broadcast.jl:656 [inlined]",
      "  [5] _getindex",
      "    @ ./broadcast.jl:680 [inlined]",
      "  [6] _getindex",
      "    @ ./broadcast.jl:679 [inlined]",
      "  [7] _broadcast_getindex",
      "    @ ./broadcast.jl:655 [inlined]",
      "  [8] getindex",
      "    @ ./broadcast.jl:610 [inlined]",
      "  [9] copy",
      "    @ ./broadcast.jl:888 [inlined]",
      " [10] materialize(bc::Base.Broadcast.Broadcasted{Base.Broadcast.DefaultArrayStyle{0}, Nothing, typeof(+), Tuple{Base.Broadcast.Broadcasted{Base.Broadcast.DefaultArrayStyle{0}, Nothing, typeof(log), Tuple{Float64}}, Base.Broadcast.Broadcasted{Base.Broadcast.DefaultArrayStyle{0}, Nothing, typeof(log1p), Tuple{Base.Broadcast.Broadcasted{Base.Broadcast.DefaultArrayStyle{0}, Nothing, typeof(*), Tuple{Float64, Float64}}}}}})",
      "    @ Base.Broadcast ./broadcast.jl:873",
      " [11] Update_momentum(sampler::Sampler, target::CMBLensingTarget, eff_eps::Float64, g::Field-(f°,ϕ°,θ)-Tuple{LambertQUMap{Array{Float32, 3}}, LambertMap{Array{Float32, 2}}, ComponentArrays.ComponentVector{Float64, Vector{Float64}, Tuple{ComponentArrays.Axis{(r = 1, Aϕ = 2)}}}}, u::Field-(f°,ϕ°,θ)-Tuple{LambertQUMap{Array{Float32, 3}}, LambertMap{Array{Float32, 2}}, ComponentArrays.ComponentVector{Float64, Vector{Float64}, Tuple{ComponentArrays.Axis{(r = 1, Aϕ = 2)}}}}, r::Float64)",
      "    @ MCHMC ~/.julia/packages/MCHMC/zMvR3/src/sampler.jl:89",
      " [12] top-level scope",
      "    @ In[11]:1"
     ]
    }
   ],
   "source": [
    "uu, rr = MCHMC.Update_momentum(spl, target, eps * 0.5, g, u, r)\n",
    "\n",
    "#full step in x\n",
    "xx = x .- eps .* uu\n",
    "gg = target.grad_nlogp(xx)\n",
    "println(gg)"
   ]
  },
  {
   "cell_type": "code",
   "execution_count": 12,
   "id": "1eebe796",
   "metadata": {},
   "outputs": [
    {
     "data": {
      "text/plain": [
       "501-element Vector{Vector{Float64}}:\n",
       " [0.11817961931228638, 0.7882625460624695, -0.915061891078949, -1.5918281078338623, 0.4248858690261841, 1.0952790975570679, -0.601466178894043, -1.2807449102401733, 0.9124752283096313, 1.5836602449417114  …  -1.9049437464526233e-16, -4.2375006943213514e-18, 2.5941760438202236e-16, 7.301237393385877e-17, -3.152020031481085e-16, -1.306839356366479e-16, 1.3832532425629436e-16, -4.6198483888617374e-17, -1.6094379124341003, 0.0]\n",
       " [NaN, NaN, NaN, NaN, NaN, NaN, NaN, NaN, NaN, NaN  …  NaN, NaN, NaN, NaN, NaN, NaN, NaN, NaN, NaN, NaN]\n",
       " [NaN, NaN, NaN, NaN, NaN, NaN, NaN, NaN, NaN, NaN  …  NaN, NaN, NaN, NaN, NaN, NaN, NaN, NaN, NaN, NaN]\n",
       " ⋮\n",
       " [NaN, NaN, NaN, NaN, NaN, NaN, NaN, NaN, NaN, NaN  …  NaN, NaN, NaN, NaN, NaN, NaN, NaN, NaN, NaN, NaN]\n",
       " [NaN, NaN, NaN, NaN, NaN, NaN, NaN, NaN, NaN, NaN  …  NaN, NaN, NaN, NaN, NaN, NaN, NaN, NaN, NaN, NaN]"
      ]
     },
     "execution_count": 12,
     "metadata": {},
     "output_type": "execute_result"
    }
   ],
   "source": [
    "samples = Sample(spl, target; num_steps=500)"
   ]
  },
  {
   "cell_type": "code",
   "execution_count": 13,
   "id": "15be1f78",
   "metadata": {},
   "outputs": [
    {
     "data": {
      "text/plain": [
       "501-element Vector{Vector{Float64}}:\n",
       " [0.49172186851501465, 3.3348827362060547, -3.8632519245147705, -6.717447280883789, 1.7892075777053833, 4.633310794830322, -2.5502521991729736, -5.4095892906188965, 3.8559768199920654, 6.702130317687988  …  -0.04988100752234459, -0.000928846187889576, 0.0768577978014946, 0.020462296903133392, -0.1136246994137764, -0.03365310654044151, 0.054052047431468964, -0.02620689570903778, -1.6094379124341003, 0.0]\n",
       " [0.24357629153937188, 1.6273464975872098, -1.8868315749592104, -3.269368220379051, 0.8847847985389296, 2.2335327231419524, -1.2456864989745826, -2.629396940112421, 1.8802043382011964, 3.258813319618712  …  -3.4294460867307743e-9, -3.754452269902428e-10, 4.8514808869394296e-9, 1.7185425479312378e-9, -6.188917734956234e-9, -2.6721773852648587e-9, 2.6502120825009234e-9, -8.716046416656191e-10, -1.6148136397212078, 0.01258354614833649]\n",
       " [0.24627933991664197, 1.6357034562409511, -1.8957320954100885, -3.269669162745375, 0.8978965566809376, 2.2153200827108073, -1.2521528630126362, -2.6244665784719263, 1.8847732057584847, 3.2576607430152382  …  -3.449191362252369e-9, -7.817452202192553e-10, 5.006043574083079e-9, 2.2286030407135606e-9, -6.48833171924839e-9, -2.9804080030376825e-9, 2.6332179287615305e-9, -8.655363712902095e-10, -1.6226792224182727, 0.02167022676722647]\n",
       " ⋮\n",
       " [0.37559192097773025, 0.7480570771350128, -1.0326469803401694, -3.153260523149478, 1.424806689704548, 2.7673320625707567, -0.8758558939792297, -3.3904164113526245, 1.0115432656426304, 3.5888239074289867  …  -2.1168212190924137e-8, 1.2806996500489625e-8, 2.728163711583279e-8, 2.571193172601206e-8, -4.719092846387912e-8, -2.3225750165365794e-8, 2.3673224991375906e-8, 6.770534041282303e-9, 0.6619566041619199, 4.696375527698868]\n",
       " [0.37479724362214484, 0.739982853044223, -1.0416899969535773, -3.1537644278594517, 1.4391237336384808, 2.765776184730953, -0.8653365919245839, -3.393954179918299, 0.9984148580794597, 3.5821238237027573  …  -2.0901992902478382e-8, 1.2857649725604187e-8, 2.7111901374272e-8, 2.5733285591698198e-8, -4.6706353231782994e-8, -2.3070102038054137e-8, 2.3608229476153032e-8, 6.8887862996654445e-9, 0.6544576322067794, 4.695497441065016]"
      ]
     },
     "execution_count": 13,
     "metadata": {},
     "output_type": "execute_result"
    }
   ],
   "source": [
    "samples2 = Sample(spl, target2; num_steps=500)"
   ]
  },
  {
   "cell_type": "markdown",
   "id": "e1cb8e03",
   "metadata": {},
   "source": [
    "## Plotting"
   ]
  },
  {
   "cell_type": "code",
   "execution_count": 14,
   "id": "56874cd3",
   "metadata": {},
   "outputs": [],
   "source": [
    "Plots.default(fmt=:png, dpi=120, size=(500,300), legendfontsize=10)"
   ]
  },
  {
   "cell_type": "code",
   "execution_count": 15,
   "id": "dc3b07b2",
   "metadata": {},
   "outputs": [],
   "source": [
    "rs = [sample[end] for sample in samples]\n",
    "Aϕs = [sample[end-1] for sample in samples];"
   ]
  },
  {
   "cell_type": "code",
   "execution_count": 16,
   "id": "c3967517",
   "metadata": {},
   "outputs": [
    {
     "name": "stdout",
     "output_type": "stream",
     "text": [
      "NaN NaN\n"
     ]
    }
   ],
   "source": [
    "println(mean(exp.(rs)), \" \", std(exp.(rs)))"
   ]
  },
  {
   "cell_type": "code",
   "execution_count": 17,
   "id": "4f2bebbd",
   "metadata": {},
   "outputs": [
    {
     "name": "stdout",
     "output_type": "stream",
     "text": [
      "NaN NaN\n"
     ]
    }
   ],
   "source": [
    "println(mean(exp.(Aϕs)), \" \", std(exp.(Aϕs)))"
   ]
  },
  {
   "cell_type": "code",
   "execution_count": 18,
   "id": "f48c433c",
   "metadata": {},
   "outputs": [
    {
     "data": {
      "image/png": "[encoded data removed]"
     },
     "execution_count": 18,
     "metadata": {},
     "output_type": "execute_result"
    }
   ],
   "source": [
    "plot(exp.(rs), label=L\"r\", xlabel=\"step\")\n",
    "plot!(exp.(Aϕs), label=L\"A_\\phi\")"
   ]
  },
  {
   "cell_type": "code",
   "execution_count": 19,
   "id": "5c5ef431",
   "metadata": {},
   "outputs": [],
   "source": [
    "rs = [sample[end-1] for sample in samples2]\n",
    "Aϕs = [sample[end] for sample in samples2];"
   ]
  },
  {
   "cell_type": "code",
   "execution_count": 20,
   "id": "14ab67d9",
   "metadata": {},
   "outputs": [
    {
     "name": "stdout",
     "output_type": "stream",
     "text": [
      "1.3016734028474406 0.7914358036835447\n"
     ]
    }
   ],
   "source": [
    "println(mean(exp.(rs)), \" \", std(exp.(rs)))"
   ]
  },
  {
   "cell_type": "code",
   "execution_count": 21,
   "id": "01fee631",
   "metadata": {},
   "outputs": [
    {
     "name": "stdout",
     "output_type": "stream",
     "text": [
      "26.214009302860717 28.775959821312064\n"
     ]
    }
   ],
   "source": [
    "println(mean(exp.(Aϕs)), \" \", std(exp.(Aϕs)))"
   ]
  },
  {
   "cell_type": "code",
   "execution_count": 22,
   "id": "067c4c9a",
   "metadata": {},
   "outputs": [
    {
     "data": {
      "image/png": "[encoded data removed]"
     },
     "execution_count": 22,
     "metadata": {},
     "output_type": "execute_result"
    }
   ],
   "source": [
    "plot(exp.(rs), label=L\"r\", xlabel=\"step\")\n",
    "plot!(exp.(Aϕs), label=L\"A_\\phi\")"
   ]
  },
  {
   "cell_type": "code",
   "execution_count": 23,
   "id": "01a11feb",
   "metadata": {},
   "outputs": [
    {
     "data": {
      "image/png": "[encoded data removed]"
     },
     "execution_count": 23,
     "metadata": {},
     "output_type": "execute_result"
    }
   ],
   "source": [
    "plot(histogram(exp.(rs), xlabel=L\"r\", label=nothing, lw=1),\n",
    "    histogram(exp.(Aϕs), xlabel=L\"A_\\phi\", label=nothing, lw=1))"
   ]
  },
  {
   "cell_type": "code",
   "execution_count": null,
   "id": "9f163326",
   "metadata": {},
   "outputs": [],
   "source": []
  },
  {
   "cell_type": "code",
   "execution_count": null,
   "id": "8c7f8f8b",
   "metadata": {},
   "outputs": [],
   "source": []
  }
 ],
 "metadata": {
  "kernelspec": {
   "display_name": "Julia 1.9.0-beta3",
   "language": "julia",
   "name": "julia-1.9"
  },
  "language_info": {
   "file_extension": ".jl",
   "mimetype": "application/julia",
   "name": "julia",
   "version": "1.9.0"
  }
 },
 "nbformat": 4,
 "nbformat_minor": 5
}
