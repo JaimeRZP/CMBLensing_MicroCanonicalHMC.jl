{
 "cells": [
  {
   "cell_type": "markdown",
   "id": "91129cb1",
   "metadata": {},
   "source": [
    "# Rosembrock Target Practice"
   ]
  },
  {
   "cell_type": "markdown",
   "id": "97121235",
   "metadata": {},
   "source": [
    "## MCHMC"
   ]
  },
  {
   "cell_type": "code",
   "execution_count": 1,
   "id": "86b96c9e",
   "metadata": {},
   "outputs": [
    {
     "name": "stderr",
     "output_type": "stream",
     "text": [
      "\u001b[32m\u001b[1m  Activating\u001b[22m\u001b[39m project at `~/PhD/MicroCanonicalHMC.jl`\n"
     ]
    }
   ],
   "source": [
    "] activate \"../\""
   ]
  },
  {
   "cell_type": "code",
   "execution_count": 2,
   "id": "baed58e3",
   "metadata": {},
   "outputs": [],
   "source": [
    "using Distributions\n",
    "using ForwardDiff\n",
    "using LinearAlgebra\n",
    "using Random\n",
    "#using StatsPlots\n",
    "using PyPlot\n",
    "using Distributed\n",
    "\n",
    "using Revise\n",
    "using MicroCanonicalHMC"
   ]
  },
  {
   "cell_type": "code",
   "execution_count": 3,
   "id": "a7d6f81c",
   "metadata": {},
   "outputs": [],
   "source": [
    "target = RosenbrockTarget(0.5, 1.0, 100.0; d=4);"
   ]
  },
  {
   "cell_type": "code",
   "execution_count": 30,
   "id": "6aedc238",
   "metadata": {},
   "outputs": [
    {
     "data": {
      "text/plain": [
       "MicroCanonicalHMC.Sampler(Settings(MersenneTwister(0), 5.0, 0, 1000, 100, \"LF\", 0.0005, nothing, nothing), Hyperparameters(0.0, 0.00025, 0.0, 0.1931833275037836, [1.0, 1.0, 1.0, 1.0]), MicroCanonicalHMC.Leapfrog)"
      ]
     },
     "execution_count": 30,
     "metadata": {},
     "output_type": "execute_result"
    }
   ],
   "source": [
    "spl = MCHMC(0.0, 0.0005*0.5; init_eps=0.0005, varE_wanted=5.0, sigma=ones(target.d))"
   ]
  },
  {
   "cell_type": "code",
   "execution_count": 31,
   "id": "9f047933",
   "metadata": {},
   "outputs": [
    {
     "name": "stderr",
     "output_type": "stream",
     "text": [
      "\u001b[36m\u001b[1m[ \u001b[22m\u001b[39m\u001b[36m\u001b[1mInfo: \u001b[22m\u001b[39mTuning eps ⏳\n"
     ]
    },
    {
     "name": "stdout",
     "output_type": "stream",
     "text": [
      "eps: 0.0005 --> VarE: 4.627407238892542\n",
      "eps: 0.0007257465575036934 --> VarE: 18.259264436254586\n",
      "eps: 2.416580826528753e-9 --> VarE: 3.357409674376954e-12\n",
      "eps: 2.2285932653334246e-7 --> VarE: 3.575338423353491e-8\n",
      "eps: 1.6482930364549262e-5 --> VarE: 0.006964005972877794\n",
      "eps: 0.0009826740140450642 --> VarE: 67.89287631694846\n",
      "eps: 5.250760289819004e-25 --> VarE: 0.0\n",
      "eps: 2.1324974415639322e-23 --> VarE: 0.0\n",
      "eps: 7.229350197354e-22 --> VarE: 0.0\n",
      "eps: 2.0638624447996965e-20 --> VarE: 0.0\n",
      "eps: 5.003485980230158e-19 --> VarE: 0.0\n",
      "eps: 1.0383344906142563e-17 --> VarE: 0.0\n",
      "eps: 1.8585227226805992e-16 --> VarE: 2.2163551853521739e-23\n",
      "eps: 2.8899957297018315e-15 --> VarE: 3.901369952020992e-23\n",
      "eps: 3.9310195327265606e-14 --> VarE: 9.213384541666122e-22\n",
      "eps: 4.707891961525664e-13 --> VarE: 1.274663295072935e-19\n",
      "eps: 4.995252253349708e-12 --> VarE: 1.4335729480106663e-17\n",
      "eps: 4.723488613362769e-11 --> VarE: 1.2819843818136176e-15\n",
      "eps: 4.002972484784356e-10 --> VarE: 9.207861596970241e-14\n",
      "eps: 3.0565915177494742e-9 --> VarE: 5.37212077822512e-12\n",
      "eps: 2.1136587198733414e-8 --> VarE: 2.5840761720933775e-10\n",
      "eps: 1.3300712990320143e-7 --> VarE: 1.1215115415802583e-8\n",
      "eps: 7.651649845947089e-7 --> VarE: 1.1198039736092333e-6\n",
      "eps: 4.0418044709070345e-6 --> VarE: 0.00025550394803419176\n",
      "eps: 1.968376508104199e-5 --> VarE: 0.014799356176464233\n",
      "eps: 8.83501386030791e-5 --> VarE: 0.38913821764696277\n",
      "eps: 0.0003310739571320723 --> VarE: 1.7494602748694426\n",
      "eps: 0.0008028895882938622 --> VarE: 27.932306055316268\n",
      "eps: 2.1027377927927653e-6 --> VarE: 3.431494216733384e-5\n",
      "eps: 7.215392304728968e-6 --> VarE: 0.000823737347869216\n",
      "eps: 2.330982115125604e-5 --> VarE: 0.027713115655162525\n",
      "eps: 7.0692674184314e-5 --> VarE: 0.2928930662805286\n",
      "eps: 0.00019198473400480347 --> VarE: 0.8939605885136055\n",
      "eps: 0.00043983995337080697 --> VarE: 3.1997537222857804\n",
      "eps: 0.0006215075454175428 --> VarE: 9.860438301467584\n",
      "eps: 0.0002557565599049018 --> VarE: 1.2191016974437114\n",
      "eps: 0.0004933642090284534 --> VarE: 4.440098299737331\n",
      "eps: 0.0005412053548055696 --> VarE: 5.988913818094241\n",
      "eps: 0.0004632675662708453 --> VarE: 3.687416850519028\n",
      "eps: 0.0005637585366756559 --> VarE: 6.897127181453337\n",
      "eps: 0.00043039957652696667 --> VarE: 3.024709562908117\n",
      "eps: 0.0005623028117440903 --> VarE: 6.834659650545138\n",
      "eps: 0.00044401386192220634 --> VarE: 3.2809248469105254\n",
      "eps: 0.0005480505820153987 --> VarE: 6.251408163233614\n",
      "eps: 0.00047371143988954404 --> VarE: 3.931477748578002\n",
      "eps: 0.0005332519424186818 --> VarE: 5.697638630815854\n",
      "eps: 0.0004954485080693724 --> VarE: 4.498051587386156\n",
      "eps: 0.0005210198791031957 --> VarE: 5.277191427112745\n",
      "eps: 0.0005074269108509697 --> VarE: 4.846948303926567\n"
     ]
    },
    {
     "name": "stderr",
     "output_type": "stream",
     "text": [
      "\u001b[36m\u001b[1m[ \u001b[22m\u001b[39m\u001b[36m\u001b[1mInfo: \u001b[22m\u001b[39mFound eps: 0.0005074269108509697 ✅\n"
     ]
    }
   ],
   "source": [
    "samples_mchmc = Sample(spl, target, 10_000;\n",
    "                       monitor_energy=true, \n",
    "                       dialog=true);"
   ]
  },
  {
   "cell_type": "code",
   "execution_count": 32,
   "id": "468a8f94",
   "metadata": {},
   "outputs": [
    {
     "data": {
      "text/plain": [
       "9002-element Vector{Any}:\n",
       " [0.07801206169905092, 1.1502523222260876, 0.39176103342967433, 0.8082436779578114, -18.624152252741624, -54203.1484881119]\n",
       " [0.0781986817639276, 1.149965656038888, 0.3913945525021825, 0.8081651333963045, -50.069017930967675, -54179.92849739815]\n",
       " [0.07821989024817846, 1.1503632045602696, 0.39115250551529773, 0.8083661326483896, 12.399838854653353, -54215.4144313117]\n",
       " [0.07853169934671111, 1.1501973858360208, 0.39122627704803986, 0.8087229506237964, 36.43431199565384, -54216.32105948615]\n",
       " [0.07827779352236572, 1.1502192639137954, 0.3909970899823201, 0.8090971277754758, 15.917739576769236, -54231.23261497685]\n",
       " [0.07794226352219824, 1.150389631067441, 0.3913291474499001, 0.8090221974076242, 24.67453358302737, -54240.69878559703]\n",
       " [0.07830303764038804, 1.1506380546418786, 0.39155773305260144, 0.8089066186232323, 22.934786278376123, -54254.28426590354]\n",
       " [0.07790329807370844, 1.150488987328064, 0.39129448258811655, 0.8089851582793759, 5.801612915514852, -54246.4590172078]\n",
       " [0.07782481921417247, 1.1507862201679688, 0.39143096222321944, 0.8093650912820829, 27.268669436765776, -54281.22012918802]\n",
       " [0.0782247064184817, 1.1508651744374983, 0.39144773436804875, 0.8096668481580053, 51.17605187445588, -54297.634974196466]\n",
       " [0.07835105746225328, 1.1511018246596232, 0.39180252170405455, 0.8094226349270539, 24.320536146857194, -54305.79370400531]\n",
       " [0.07866603969917989, 1.151061534598176, 0.39200657281281864, 0.809761763392738, 17.111405073512287, -54315.03861327355]\n",
       " [0.07847260732268761, 1.150705195849219, 0.3923108218002628, 0.8097845939689725, -15.588646482858167, -54290.43353641776]\n",
       " ⋮\n",
       " [-0.040164571105978195, 1.1878649712191685, 0.2899575730254367, 0.8306654097774651, 10.383218676965043, -57797.72007046002]\n",
       " [-0.039768397312741184, 1.1881313058474274, 0.28978974250600775, 0.8307031877862306, 50.37278091307962, -57819.47996516708]\n",
       " [-0.03950379011309987, 1.1881731041223196, 0.28942954267712645, 0.8309397762205288, 33.79628092482744, -57831.533694758036]\n",
       " [-0.03967910862970906, 1.18811109912511, 0.28935495933985517, 0.8314059716663584, 24.981044396263314, -57844.26742221583]\n",
       " [-0.0397139119640855, 1.1884546901273723, 0.2890089059130724, 0.831270092872029, 34.226981579180574, -57865.434214100715]\n",
       " [-0.039385707421050686, 1.1888134914931068, 0.28895844829733786, 0.8314060320376456, 53.84826401175087, -57897.97174526008]\n",
       " [-0.03902602101744924, 1.1885027629413871, 0.28905649661771426, 0.8312579035294592, 2.9177784514031373, -57868.65286483989]\n",
       " [-0.0390617498744142, 1.1888689000396853, 0.28895509780810075, 0.8309234376488457, -14.045243932334415, -57884.125123817765]\n",
       " [-0.03917749000365115, 1.1889964809799107, 0.2893916170731906, 0.8307304083059038, 17.997206260668463, -57886.659136985225]\n",
       " [-0.03873747816610716, 1.1889532095839, 0.2893485823377734, 0.8304851589419663, -10.262361105204036, -57874.16782475199]\n",
       " [-0.038825215435719304, 1.1885657331479293, 0.2891695072356703, 0.8307451173246952, -32.57628655040753, -57854.25745540259]\n",
       " [-0.03838292436065492, 1.1887893920587935, 0.2892771610298035, 0.8307608661968435, -2.338250445005542, -57871.953907883144]"
      ]
     },
     "execution_count": 32,
     "metadata": {},
     "output_type": "execute_result"
    }
   ],
   "source": [
    "rosenbrock_samples_mchmc = samples_mchmc[1000:end]"
   ]
  },
  {
   "cell_type": "code",
   "execution_count": 33,
   "id": "ad509f8c",
   "metadata": {},
   "outputs": [],
   "source": [
    "d1_mchmc = [sample[1] for sample in samples_mchmc]\n",
    "d2_mchmc = [sample[2] for sample in samples_mchmc];"
   ]
  },
  {
   "cell_type": "code",
   "execution_count": 34,
   "id": "118db34a",
   "metadata": {},
   "outputs": [
    {
     "data": {
      "image/png": "[encoded data removed]",
      "text/plain": [
       "Figure(PyObject <Figure size 640x480 with 1 Axes>)"
      ]
     },
     "metadata": {},
     "output_type": "display_data"
    }
   ],
   "source": [
    "plt.hist2d(d1_mchmc, d2_mchmc, bins=100);\n",
    "plt.xlabel(\"d1\")\n",
    "plt.ylabel(\"d2\")\n",
    "plt.title(\"MCHMC - Rosenbrock\");"
   ]
  },
  {
   "cell_type": "markdown",
   "id": "0e05b7ed",
   "metadata": {},
   "source": [
    "## NUTS"
   ]
  },
  {
   "cell_type": "code",
   "execution_count": 11,
   "id": "afc1ddfb",
   "metadata": {},
   "outputs": [],
   "source": [
    "using AdvancedHMC\n",
    "using LogDensityProblems"
   ]
  },
  {
   "cell_type": "code",
   "execution_count": 12,
   "id": "c38610c3",
   "metadata": {},
   "outputs": [
    {
     "data": {
      "text/plain": [
       "MvNormal{Int64, PDMats.ScalMat{Int64}, FillArrays.Zeros{Int64, 1, Tuple{Base.OneTo{Int64}}}}(\n",
       "dim: 2\n",
       "μ: Zeros(2)\n",
       "Σ: [1 0; 0 1]\n",
       ")\n"
      ]
     },
     "execution_count": 12,
     "metadata": {},
     "output_type": "execute_result"
    }
   ],
   "source": [
    "# Define the target distribution using the `LogDensityProblem` interface\n",
    "struct LogTargetDensity\n",
    "    dim::Int\n",
    "end\n",
    "LogDensityProblems.logdensity(p::LogTargetDensity, θ) = -rosenbrock_target.nlogp(θ) #-sum(abs2, θ) / 2  # standard multivariate normal\n",
    "LogDensityProblems.dimension(p::LogTargetDensity) = p.dim\n",
    "LogDensityProblems.capabilities(::Type{LogTargetDensity}) = LogDensityProblems.LogDensityOrder{0}()"
   ]
  },
  {
   "cell_type": "code",
   "execution_count": 13,
   "id": "d2091ef2",
   "metadata": {},
   "outputs": [],
   "source": [
    "# Choose parameter dimensionality and initial parameter value\n",
    "initial_θ = ill_gaussian_target.prior_draw(0.0)\n",
    "ℓπ = LogTargetDensity(d)\n",
    "\n",
    "# Set the number of samples to draw and warmup iterations\n",
    "n_samples, n_adapts = 100_000, 1_000\n",
    "\n",
    "# Define a Hamiltonian system\n",
    "metric = DiagEuclideanMetric(d)\n",
    "hamiltonian = Hamiltonian(metric, ℓπ, ForwardDiff)\n",
    "\n",
    "# Define a leapfrog solver, with initial step size chosen heuristically\n",
    "initial_ϵ = find_good_stepsize(hamiltonian, initial_θ)\n",
    "integrator = AdvancedHMC.Leapfrog(initial_ϵ)\n",
    "\n",
    "# Define an HMC sampler, with the following components\n",
    "#   - multinomial sampling scheme,\n",
    "#   - generalised No-U-Turn criteria, and\n",
    "#   - windowed adaption for step-size and diagonal mass matrix\n",
    "proposal = NUTS{MultinomialTS, GeneralisedNoUTurn}(integrator)\n",
    "adaptor = StanHMCAdaptor(MassMatrixAdaptor(metric), StepSizeAdaptor(0.8, integrator))\n",
    "\n",
    "# Run the sampler to draw samples from the specified Gaussian, where\n",
    "#   - `samples` will store the samples\n",
    "#   - `stats` will store diagnostic statistics for each sample\n",
    "rosenbrock_samples_hmc, stats = sample(hamiltonian, proposal, initial_θ, n_samples, adaptor, n_adapts; progress=true)"
   ]
  },
  {
   "cell_type": "code",
   "execution_count": 14,
   "id": "e64f56fc",
   "metadata": {},
   "outputs": [
    {
     "ename": "LoadError",
     "evalue": "UndefVarError: `LogDensityProblems` not defined",
     "output_type": "error",
     "traceback": [
      "UndefVarError: `LogDensityProblems` not defined",
      "",
      "Stacktrace:",
      " [1] top-level scope",
      "   @ In[14]:8"
     ]
    }
   ],
   "source": [
    "struct HybridRosenbrock{Tμ,Ta,Tb,Td}\n",
    "    μ::Tμ\n",
    "    a::Ta\n",
    "    b::Tb\n",
    "    dim::Td\n",
    "end\n",
    "\n",
    "function LogDensityProblems.logdensity(D::HybridRosenbrock, x)\n",
    "    n2, n1 = size(D.b)\n",
    "    n = length(x)\n",
    "    X = reshape(@view(x[2:end]), n1, n2)\n",
    "    y = -D.a*(x[1] - D.μ)^2 \n",
    "    for j in 1:n2 \n",
    "        y -= D.b[j,1]*(X[j,1] - x[1]^2)^2\n",
    "        for i in 2:n1\n",
    "            y -= D.b[j,i]*(X[j,i] - X[j,i-1]^2)^2\n",
    "        end\n",
    "    end\n",
    "    C = 0.5log(D.a) + 0.5sum(log.(D.b)) - n/2*log(pi)\n",
    "    return y + C\n",
    "end\n",
    "LogDensityProblems.dimension(p::HybridRosenbrock) = p.dim\n",
    "LogDensityProblems.capabilities(::Type{HybridRosenbrock}) = LogDensityProblems.LogDensityOrder{0}()"
   ]
  },
  {
   "cell_type": "code",
   "execution_count": 15,
   "id": "4cd26c96",
   "metadata": {},
   "outputs": [
    {
     "data": {
      "text/plain": [
       "HybridRosenbrock{Int64, Float64, Matrix{Float64}, Int64}(1, 0.05, [5.0 5.0; 5.0 5.0], 5)"
      ]
     },
     "execution_count": 15,
     "metadata": {},
     "output_type": "execute_result"
    }
   ],
   "source": [
    "d = 5\n",
    "Random.seed!(3)\n",
    "σ0 = [10.136599898636616\n",
    "    144.60096611643337\n",
    "    144.60377635508613\n",
    "    81881.51706273475\n",
    "    81889.36757394506]\n",
    "\n",
    "ℓπ = HybridRosenbrock(1, 1/20, 100/20*ones(2,2), d)"
   ]
  },
  {
   "cell_type": "code",
   "execution_count": 16,
   "id": "8005e277",
   "metadata": {},
   "outputs": [
    {
     "ename": "LoadError",
     "evalue": "UndefVarError: `DiagEuclideanMetric` not defined",
     "output_type": "error",
     "traceback": [
      "UndefVarError: `DiagEuclideanMetric` not defined",
      "",
      "Stacktrace:",
      " [1] top-level scope",
      "   @ In[16]:2"
     ]
    }
   ],
   "source": [
    "# Define a Hamiltonian system\n",
    "metric = DiagEuclideanMetric(d)\n",
    "hamiltonian = Hamiltonian(metric, ℓπ, ForwardDiff)\n",
    "\n",
    "# Define a leapfrog solver, with initial step size chosen heuristically\n",
    "#initial_ϵ = find_good_stepsize(hamiltonian, initial_θ)\n",
    "#initial_ϵ = 1e-2\n",
    "#integrator = Leapfrog(initial_ϵ)"
   ]
  },
  {
   "cell_type": "code",
   "execution_count": 17,
   "id": "1eebe796",
   "metadata": {},
   "outputs": [
    {
     "ename": "LoadError",
     "evalue": "UndefVarError: `AdvancedHMC` not defined",
     "output_type": "error",
     "traceback": [
      "UndefVarError: `AdvancedHMC` not defined",
      "",
      "Stacktrace:",
      " [1] top-level scope",
      "   @ In[17]:5"
     ]
    }
   ],
   "source": [
    "# Define an HMC sampler, with the following components\n",
    "#   - multinomial sampling scheme,\n",
    "#   - generalised No-U-Turn criteria, and\n",
    "#   - windowed adaption for step-size and diagonal mass matrix\n",
    "proposal = AdvancedHMC.NUTS{MultinomialTS, GeneralisedNoUTurn}(integrator)\n",
    "adaptor = StanHMCAdaptor(MassMatrixAdaptor(metric), StepSizeAdaptor(0.8, integrator))\n",
    "#adaptor = MassMatrixAdaptor(metric)\n",
    "\n",
    "\n",
    "# Run the sampler to draw samples from the specified Gaussian, where\n",
    "#   - `samples` will store the samples\n",
    "#   - `stats` will store diagnostic statistics for each sample\n",
    "#samples, stats = @time sample(hamiltonian, proposal, initial_θ, n_samples, adaptor, n_adapts; progress=true)"
   ]
  },
  {
   "cell_type": "markdown",
   "id": "10dfa4cc",
   "metadata": {},
   "source": [
    "## Sampling"
   ]
  },
  {
   "cell_type": "code",
   "execution_count": 18,
   "id": "c8ed14a3",
   "metadata": {},
   "outputs": [
    {
     "ename": "LoadError",
     "evalue": "UndefVarError: `TuringTarget` not defined",
     "output_type": "error",
     "traceback": [
      "UndefVarError: `TuringTarget` not defined",
      "",
      "Stacktrace:",
      " [1] top-level scope",
      "   @ In[18]:1"
     ]
    }
   ],
   "source": [
    "target = TuringTarget(stat_model; compute_MAP=true);"
   ]
  },
  {
   "cell_type": "code",
   "execution_count": 19,
   "id": "82938e27",
   "metadata": {
    "scrolled": false
   },
   "outputs": [
    {
     "ename": "LoadError",
     "evalue": "UndefVarError: `MCHMC` not defined",
     "output_type": "error",
     "traceback": [
      "UndefVarError: `MCHMC` not defined",
      "",
      "Stacktrace:",
      " [1] top-level scope",
      "   @ In[19]:1"
     ]
    }
   ],
   "source": [
    "samples_mchmc = Sample(MCHMC(varE_wanted=1.0), target, 100000;\n",
    "                       monitor_energy=true, \n",
    "                       dialog=true);"
   ]
  },
  {
   "cell_type": "code",
   "execution_count": 20,
   "id": "385a8b1a",
   "metadata": {},
   "outputs": [
    {
     "ename": "LoadError",
     "evalue": "UndefVarError: `samples_mchmc` not defined",
     "output_type": "error",
     "traceback": [
      "UndefVarError: `samples_mchmc` not defined",
      "",
      "Stacktrace:",
      " [1] top-level scope",
      "   @ In[20]:1"
     ]
    }
   ],
   "source": [
    "Wms_mchmc = [sample[1] for sample in samples_mchmc]\n",
    "s8s_mchmc = [sample[2] for sample in samples_mchmc];"
   ]
  },
  {
   "cell_type": "code",
   "execution_count": 21,
   "id": "2a803eb8",
   "metadata": {},
   "outputs": [
    {
     "ename": "LoadError",
     "evalue": "UndefVarError: `Wms_mchmc` not defined",
     "output_type": "error",
     "traceback": [
      "UndefVarError: `Wms_mchmc` not defined",
      "",
      "Stacktrace:",
      " [1] top-level scope",
      "   @ In[21]:1"
     ]
    }
   ],
   "source": [
    "plt.hist2d(Wms_mchmc, s8s_mchmc, bins=100, range=[[0.1, 0.6],[0.6, 1.2]]);\n",
    "plt.xlabel(\"Wm\")\n",
    "plt.ylabel(\"s8\")\n",
    "plt.title(\"MCHMC - RSD model\");"
   ]
  },
  {
   "cell_type": "code",
   "execution_count": 22,
   "id": "ae097bf4",
   "metadata": {
    "scrolled": false
   },
   "outputs": [
    {
     "ename": "LoadError",
     "evalue": "UndefVarError: `MCHMC` not defined",
     "output_type": "error",
     "traceback": [
      "UndefVarError: `MCHMC` not defined",
      "",
      "Stacktrace:",
      " [1] top-level scope",
      "   @ In[22]:1"
     ]
    }
   ],
   "source": [
    "samples_ensemble_mchmc = Sample(MCHMC(100; varE_wanted=0.05), target, 1000, 100;\n",
    "   monitor_energy=true, \n",
    "   dialog=true);"
   ]
  },
  {
   "cell_type": "code",
   "execution_count": 23,
   "id": "197541d7",
   "metadata": {},
   "outputs": [
    {
     "ename": "LoadError",
     "evalue": "UndefVarError: `samples_ensemble_mchmc` not defined",
     "output_type": "error",
     "traceback": [
      "UndefVarError: `samples_ensemble_mchmc` not defined",
      "",
      "Stacktrace:",
      " [1] top-level scope",
      "   @ In[23]:1"
     ]
    }
   ],
   "source": [
    "Wms_ensemble_mchmc = [sample[1] for sample in samples_ensemble_mchmc]\n",
    "s8s_ensemble_mchmc = [sample[2] for sample in samples_ensemble_mchmc];"
   ]
  },
  {
   "cell_type": "code",
   "execution_count": 24,
   "id": "654b0195",
   "metadata": {},
   "outputs": [
    {
     "ename": "LoadError",
     "evalue": "UndefVarError: `Wms_ensemble_mchmc` not defined",
     "output_type": "error",
     "traceback": [
      "UndefVarError: `Wms_ensemble_mchmc` not defined",
      "",
      "Stacktrace:",
      " [1] top-level scope",
      "   @ In[24]:1"
     ]
    }
   ],
   "source": [
    "plt.hist2d(Wms_ensemble_mchmc, s8s_ensemble_mchmc, bins=100, range=[[0.1, 0.6],[0.6, 1.2]]);\n",
    "plt.xlabel(\"Wm\")\n",
    "plt.ylabel(\"s8\")\n",
    "plt.title(\"Ensemble MCHMC - RSD model\");"
   ]
  },
  {
   "cell_type": "markdown",
   "id": "b9b6311f",
   "metadata": {},
   "source": [
    "##  AbstractMCMC"
   ]
  },
  {
   "cell_type": "code",
   "execution_count": 25,
   "id": "d569b9dc",
   "metadata": {},
   "outputs": [
    {
     "ename": "LoadError",
     "evalue": "UndefVarError: `MCHMC` not defined",
     "output_type": "error",
     "traceback": [
      "UndefVarError: `MCHMC` not defined",
      "",
      "Stacktrace:",
      " [1] top-level scope",
      "   @ In[25]:1"
     ]
    }
   ],
   "source": [
    "samples = sample(\n",
    "    stat_model, MCHMC(varE_wanted=2.0), 10000;\n",
    "    monitor_energy=true, \n",
    "    dialog=true)"
   ]
  },
  {
   "cell_type": "code",
   "execution_count": 26,
   "id": "eea6e813",
   "metadata": {},
   "outputs": [
    {
     "ename": "LoadError",
     "evalue": "UndefVarError: `MCHMC` not defined",
     "output_type": "error",
     "traceback": [
      "UndefVarError: `MCHMC` not defined",
      "",
      "Stacktrace:",
      " [1] top-level scope",
      "   @ In[26]:1"
     ]
    }
   ],
   "source": [
    "new_samples = sample(stat_model, MCHMC(varE_wanted=2.0), 10000; \n",
    "                     monitor_energy=true, \n",
    "                     progress=true, resume_from=samples)"
   ]
  },
  {
   "cell_type": "markdown",
   "id": "f7fdb382",
   "metadata": {},
   "source": [
    "## Ensemble AbstractMCMC"
   ]
  },
  {
   "cell_type": "code",
   "execution_count": 27,
   "id": "16856966",
   "metadata": {
    "scrolled": false
   },
   "outputs": [
    {
     "ename": "LoadError",
     "evalue": "UndefVarError: `stat_model` not defined",
     "output_type": "error",
     "traceback": [
      "UndefVarError: `stat_model` not defined",
      "",
      "Stacktrace:",
      " [1] top-level scope",
      "   @ In[27]:1"
     ]
    }
   ],
   "source": [
    "samples = sample(stat_model, MCHMC(100), 1000, 100)"
   ]
  },
  {
   "cell_type": "code",
   "execution_count": 28,
   "id": "603dfac8",
   "metadata": {},
   "outputs": [
    {
     "ename": "LoadError",
     "evalue": "UndefVarError: `MCHMC` not defined",
     "output_type": "error",
     "traceback": [
      "UndefVarError: `MCHMC` not defined",
      "",
      "Stacktrace:",
      " [1] top-level scope",
      "   @ In[28]:1"
     ]
    }
   ],
   "source": [
    "new_samples = sample(stat_model, MCHMC(100), 1000, 100; \n",
    "                     resume_from=samples)"
   ]
  },
  {
   "cell_type": "markdown",
   "id": "767048c5",
   "metadata": {},
   "source": [
    "## Parallelization"
   ]
  },
  {
   "cell_type": "code",
   "execution_count": 29,
   "id": "42cf1f7f",
   "metadata": {
    "scrolled": true
   },
   "outputs": [
    {
     "ename": "LoadError",
     "evalue": "UndefVarError: `MCHMC` not defined",
     "output_type": "error",
     "traceback": [
      "UndefVarError: `MCHMC` not defined",
      "",
      "Stacktrace:",
      " [1] top-level scope",
      "   @ In[29]:1"
     ]
    }
   ],
   "source": [
    "samples = sample(\n",
    "    stat_model, MCHMC(varE_wanted=2.0), MCMCThreads(), 30000, 4;\n",
    "    monitor_energy=true, \n",
    "    dialog=true)"
   ]
  },
  {
   "cell_type": "code",
   "execution_count": 30,
   "id": "2e8cd8ab",
   "metadata": {
    "scrolled": false
   },
   "outputs": [
    {
     "ename": "LoadError",
     "evalue": "UndefVarError: `MCHMC` not defined",
     "output_type": "error",
     "traceback": [
      "UndefVarError: `MCHMC` not defined",
      "",
      "Stacktrace:",
      " [1] top-level scope",
      "   @ In[30]:1"
     ]
    }
   ],
   "source": [
    "new_samples = sample(\n",
    "    stat_model, MCHMC(varE_wanted=2.0), MCMCThreads(), 30000, 4;\n",
    "    monitor_energy=true, \n",
    "    dialog=true, \n",
    "    resume_from=samples)"
   ]
  },
  {
   "cell_type": "markdown",
   "id": "4aadd3b5",
   "metadata": {},
   "source": [
    "## NUTS"
   ]
  },
  {
   "cell_type": "code",
   "execution_count": 31,
   "id": "dcbe40a3",
   "metadata": {},
   "outputs": [
    {
     "ename": "LoadError",
     "evalue": "UndefVarError: `stat_model` not defined",
     "output_type": "error",
     "traceback": [
      "UndefVarError: `stat_model` not defined",
      "",
      "Stacktrace:",
      " [1] top-level scope",
      "   @ In[31]:1"
     ]
    }
   ],
   "source": [
    "samples_hmc = sample(stat_model, NUTS(10, 0.65),\n",
    "                     10000, progress=true; save_state=true)"
   ]
  },
  {
   "cell_type": "code",
   "execution_count": 32,
   "id": "623ba990",
   "metadata": {},
   "outputs": [
    {
     "ename": "LoadError",
     "evalue": "UndefVarError: `samples_hmc` not defined",
     "output_type": "error",
     "traceback": [
      "UndefVarError: `samples_hmc` not defined",
      "",
      "Stacktrace:",
      " [1] top-level scope",
      "   @ In[32]:1"
     ]
    }
   ],
   "source": [
    "samples_hmc.value"
   ]
  },
  {
   "cell_type": "code",
   "execution_count": 33,
   "id": "fa9db828",
   "metadata": {},
   "outputs": [
    {
     "ename": "LoadError",
     "evalue": "UndefVarError: `samples_hmc` not defined",
     "output_type": "error",
     "traceback": [
      "UndefVarError: `samples_hmc` not defined",
      "",
      "Stacktrace:",
      " [1] top-level scope",
      "   @ In[33]:1"
     ]
    }
   ],
   "source": [
    "Wms_hmc = vec(samples_hmc[\"Ωm\"])\n",
    "s8s_hmc = vec(samples_hmc[\"σ8\"]);"
   ]
  },
  {
   "cell_type": "code",
   "execution_count": 34,
   "id": "3d063a52",
   "metadata": {},
   "outputs": [
    {
     "ename": "LoadError",
     "evalue": "UndefVarError: `Wms_hmc` not defined",
     "output_type": "error",
     "traceback": [
      "UndefVarError: `Wms_hmc` not defined",
      "",
      "Stacktrace:",
      " [1] top-level scope",
      "   @ In[34]:1"
     ]
    }
   ],
   "source": [
    "plt.hist2d(Wms_hmc, s8s_hmc, bins=100, range=[[0.1, 0.4],[0.6, 1.2]]);\n",
    "plt.xlabel(\"Wm\")\n",
    "plt.ylabel(\"s8\")\n",
    "plt.title(\"NUTS - RSD model\");"
   ]
  }
 ],
 "metadata": {
  "kernelspec": {
   "display_name": "Julia_1.9 (5 threads) 1.9.0-beta3",
   "language": "julia",
   "name": "julia_1.9-_5-threads_-1.9"
  },
  "language_info": {
   "file_extension": ".jl",
   "mimetype": "application/julia",
   "name": "julia",
   "version": "1.9.0"
  }
 },
 "nbformat": 4,
 "nbformat_minor": 5
}
