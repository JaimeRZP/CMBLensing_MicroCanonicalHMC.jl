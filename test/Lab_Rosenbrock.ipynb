{
 "cells": [
  {
   "cell_type": "markdown",
   "id": "91129cb1",
   "metadata": {},
   "source": [
    "# Rosembrock Target Practice"
   ]
  },
  {
   "cell_type": "markdown",
   "id": "97121235",
   "metadata": {},
   "source": [
    "## MCHMC"
   ]
  },
  {
   "cell_type": "code",
   "execution_count": 1,
   "id": "86b96c9e",
   "metadata": {},
   "outputs": [
    {
     "name": "stderr",
     "output_type": "stream",
     "text": [
      "\u001b[32m\u001b[1m  Activating\u001b[22m\u001b[39m project at `~/PhD/MicroCanonicalHMC.jl`\n"
     ]
    }
   ],
   "source": [
    "] activate \"../\""
   ]
  },
  {
   "cell_type": "code",
   "execution_count": 2,
   "id": "baed58e3",
   "metadata": {},
   "outputs": [
    {
     "name": "stderr",
     "output_type": "stream",
     "text": [
      "\u001b[36m\u001b[1m[ \u001b[22m\u001b[39m\u001b[36m\u001b[1mInfo: \u001b[22m\u001b[39mPrecompiling MicroCanonicalHMC [234d2aa0-2291-45f7-9047-6fa6f316b0a8]\n"
     ]
    }
   ],
   "source": [
    "using Distributions\n",
    "using ForwardDiff\n",
    "using LinearAlgebra\n",
    "using Random\n",
    "#using StatsPlots\n",
    "using PyPlot\n",
    "using Distributed\n",
    "\n",
    "using Revise\n",
    "using MicroCanonicalHMC"
   ]
  },
  {
   "cell_type": "code",
   "execution_count": 3,
   "id": "09dcdce0",
   "metadata": {},
   "outputs": [],
   "source": [
    "target = RosenbrockTarget(0.1, 1.0, 10.0; d=4);"
   ]
  },
  {
   "cell_type": "code",
   "execution_count": 4,
   "id": "6aedc238",
   "metadata": {},
   "outputs": [
    {
     "data": {
      "text/plain": [
       "MicroCanonicalHMC.Sampler(Settings{Float64}(10000, 0.0001, 1, true, \"LF\", nothing, nothing, nothing), MicroCanonicalHMC.Hyperparameters{Float64}(0.0, 0.0, 0.0, 0.1931833275037836, [1.0, 1.0, 1.0, 1.0], 0.9607843137254902, 1.5), MicroCanonicalHMC.Leapfrog)"
      ]
     },
     "execution_count": 4,
     "metadata": {},
     "output_type": "execute_result"
    }
   ],
   "source": [
    "spl = MCHMC(10_000, 0.0001; sigma=ones(target.d), adaptive=true)"
   ]
  },
  {
   "cell_type": "code",
   "execution_count": 5,
   "id": "9f047933",
   "metadata": {},
   "outputs": [
    {
     "name": "stderr",
     "output_type": "stream",
     "text": [
      "\u001b[36m\u001b[1m[ \u001b[22m\u001b[39m\u001b[36m\u001b[1mInfo: \u001b[22m\u001b[39mTuning eps ⏳\n",
      "\u001b[36m\u001b[1m[ \u001b[22m\u001b[39m\u001b[36m\u001b[1mInfo: \u001b[22m\u001b[39mTuning L ⏳\n",
      "\u001b[32mMCHMC (tuning):   0%|                                   |  ETA: 0:37:01\u001b[39m"
     ]
    },
    {
     "name": "stdout",
     "output_type": "stream",
     "text": [
      "Burn in step: 2000\n",
      "eps --->0.00013961517650570786\n"
     ]
    },
    {
     "name": "stderr",
     "output_type": "stream",
     "text": [
      "\r",
      "\u001b[32mMCHMC (tuning):  20%|███████                            |  ETA: 0:00:04\u001b[39m"
     ]
    },
    {
     "name": "stdout",
     "output_type": "stream",
     "text": [
      "L   --->1.0758496865308653e-5\n",
      " \n",
      "Burn in step: 4000\n",
      "eps --->5.021723803522455e-5\n",
      "L   --->4.260124630673186e-6\n",
      " \n"
     ]
    },
    {
     "name": "stderr",
     "output_type": "stream",
     "text": [
      "\r",
      "\u001b[32mMCHMC (tuning):  56%|███████████████████▌               |  ETA: 0:00:01\u001b[39m"
     ]
    },
    {
     "name": "stdout",
     "output_type": "stream",
     "text": [
      "Burn in step: 6000\n",
      "eps --->5.725202264016631e-5\n",
      "L   --->4.341547872612337e-6\n",
      " \n",
      "Burn in step: 8000\n",
      "eps --->4.823715643131342e-5\n",
      "L   --->3.296240483587078e-6\n",
      " \n"
     ]
    },
    {
     "name": "stderr",
     "output_type": "stream",
     "text": [
      "\u001b[A2mMCHMC (tuning): 100%|███████████████████████████████████| Time: 0:00:01\u001b[39m"
     ]
    },
    {
     "name": "stdout",
     "output_type": "stream",
     "text": [
      "Burn in step: 10000\n",
      "eps --->5.020691541339222e-5\n",
      "L   --->3.136235866400529e-6\n",
      " \n"
     ]
    },
    {
     "name": "stderr",
     "output_type": "stream",
     "text": [
      "\u001b[36m\u001b[1m[ \u001b[22m\u001b[39m\u001b[36m\u001b[1mInfo: \u001b[22m\u001b[39meps: 5.020691541339222e-5\n",
      "\u001b[36m\u001b[1m[ \u001b[22m\u001b[39m\u001b[36m\u001b[1mInfo: \u001b[22m\u001b[39mL: 3.136235866400529e-6\n",
      "\u001b[36m\u001b[1m[ \u001b[22m\u001b[39m\u001b[36m\u001b[1mInfo: \u001b[22m\u001b[39mnu: 2.060423571963583e6\n",
      "\u001b[36m\u001b[1m[ \u001b[22m\u001b[39m\u001b[36m\u001b[1mInfo: \u001b[22m\u001b[39msigma: [1.0, 1.0, 1.0, 1.0]\n",
      "\u001b[36m\u001b[1m[ \u001b[22m\u001b[39m\u001b[36m\u001b[1mInfo: \u001b[22m\u001b[39madaptive: true\n",
      "\u001b[A2mMCHMC: 100%|████████████████████████████████████████████| Time: 0:00:04\u001b[39m"
     ]
    }
   ],
   "source": [
    "samples_mchmc = Sample(spl, target, 500_000; dialog=true);"
   ]
  },
  {
   "cell_type": "code",
   "execution_count": 6,
   "id": "ad509f8c",
   "metadata": {},
   "outputs": [],
   "source": [
    "d1_mchmc = [sample[1] for sample in samples_mchmc]\n",
    "d2_mchmc = [sample[2] for sample in samples_mchmc];"
   ]
  },
  {
   "cell_type": "code",
   "execution_count": 7,
   "id": "118db34a",
   "metadata": {},
   "outputs": [
    {
     "data": {
      "image/png": "[encoded data removed]",
      "text/plain": [
       "Figure(PyObject <Figure size 640x480 with 1 Axes>)"
      ]
     },
     "metadata": {},
     "output_type": "display_data"
    }
   ],
   "source": [
    "plt.hist2d(d1_mchmc, d2_mchmc, bins=100);\n",
    "plt.xlabel(\"d1\")\n",
    "plt.ylabel(\"d2\")\n",
    "plt.title(\"MCHMC - Rosenbrock\");"
   ]
  },
  {
   "cell_type": "markdown",
   "id": "0e05b7ed",
   "metadata": {},
   "source": [
    "## NUTS"
   ]
  },
  {
   "cell_type": "code",
   "execution_count": 8,
   "id": "afc1ddfb",
   "metadata": {},
   "outputs": [],
   "source": [
    "using AdvancedHMC\n",
    "using LogDensityProblems"
   ]
  },
  {
   "cell_type": "code",
   "execution_count": 9,
   "id": "c38610c3",
   "metadata": {},
   "outputs": [],
   "source": [
    "# Define the target distribution using the `LogDensityProblem` interface\n",
    "struct LogTargetDensity\n",
    "    dim::Int\n",
    "end\n",
    "LogDensityProblems.logdensity(p::LogTargetDensity, θ) = -target.nlogp(θ) #-sum(abs2, θ) / 2  # standard multivariate normal\n",
    "LogDensityProblems.dimension(p::LogTargetDensity) = p.dim\n",
    "LogDensityProblems.capabilities(::Type{LogTargetDensity}) = LogDensityProblems.LogDensityOrder{0}()"
   ]
  },
  {
   "cell_type": "code",
   "execution_count": 15,
   "id": "d2091ef2",
   "metadata": {},
   "outputs": [
    {
     "ename": "LoadError",
     "evalue": "MethodError: no method matching Float64(::ForwardDiff.Dual{ForwardDiff.Tag{Base.Fix1{typeof(LogDensityProblems.logdensity), LogTargetDensity}, Float64}, Float64, 4})\n\n\u001b[0mClosest candidates are:\n\u001b[0m  (::Type{T})(::Real, \u001b[91m::RoundingMode\u001b[39m) where T<:AbstractFloat\n\u001b[0m\u001b[90m   @\u001b[39m \u001b[90mBase\u001b[39m \u001b[90m\u001b[4mrounding.jl:207\u001b[24m\u001b[39m\n\u001b[0m  (::Type{T})(::T) where T<:Number\n\u001b[0m\u001b[90m   @\u001b[39m \u001b[90mCore\u001b[39m \u001b[90m\u001b[4mboot.jl:792\u001b[24m\u001b[39m\n\u001b[0m  (::Type{T})(\u001b[91m::AbstractChar\u001b[39m) where T<:Union{AbstractChar, Number}\n\u001b[0m\u001b[90m   @\u001b[39m \u001b[90mBase\u001b[39m \u001b[90m\u001b[4mchar.jl:50\u001b[24m\u001b[39m\n\u001b[0m  ...\n",
     "output_type": "error",
     "traceback": [
      "MethodError: no method matching Float64(::ForwardDiff.Dual{ForwardDiff.Tag{Base.Fix1{typeof(LogDensityProblems.logdensity), LogTargetDensity}, Float64}, Float64, 4})\n\n\u001b[0mClosest candidates are:\n\u001b[0m  (::Type{T})(::Real, \u001b[91m::RoundingMode\u001b[39m) where T<:AbstractFloat\n\u001b[0m\u001b[90m   @\u001b[39m \u001b[90mBase\u001b[39m \u001b[90m\u001b[4mrounding.jl:207\u001b[24m\u001b[39m\n\u001b[0m  (::Type{T})(::T) where T<:Number\n\u001b[0m\u001b[90m   @\u001b[39m \u001b[90mCore\u001b[39m \u001b[90m\u001b[4mboot.jl:792\u001b[24m\u001b[39m\n\u001b[0m  (::Type{T})(\u001b[91m::AbstractChar\u001b[39m) where T<:Union{AbstractChar, Number}\n\u001b[0m\u001b[90m   @\u001b[39m \u001b[90mBase\u001b[39m \u001b[90m\u001b[4mchar.jl:50\u001b[24m\u001b[39m\n\u001b[0m  ...\n",
      "",
      "Stacktrace:",
      "  [1] convert(#unused#::Type{Float64}, x::ForwardDiff.Dual{ForwardDiff.Tag{Base.Fix1{typeof(LogDensityProblems.logdensity), LogTargetDensity}, Float64}, Float64, 4})",
      "    @ Base ./number.jl:7",
      "  [2] setindex!(A::Vector{Float64}, x::ForwardDiff.Dual{ForwardDiff.Tag{Base.Fix1{typeof(LogDensityProblems.logdensity), LogTargetDensity}, Float64}, Float64, 4}, i1::Int64)",
      "    @ Base ./array.jl:969",
      "  [3] setindex!",
      "    @ ./subarray.jl:327 [inlined]",
      "  [4] macro expansion",
      "    @ ./broadcast.jl:974 [inlined]",
      "  [5] macro expansion",
      "    @ ./simdloop.jl:77 [inlined]",
      "  [6] copyto!",
      "    @ ./broadcast.jl:973 [inlined]",
      "  [7] copyto!",
      "    @ ./broadcast.jl:926 [inlined]",
      "  [8] materialize!",
      "    @ ./broadcast.jl:884 [inlined]",
      "  [9] materialize!",
      "    @ ./broadcast.jl:881 [inlined]",
      " [10] (::MicroCanonicalHMC.var\"#_mean#57\"{Int64, MicroCanonicalHMC.Rosenbrock{Float64, Float64, Float64}})(θ::Vector{ForwardDiff.Dual{ForwardDiff.Tag{Base.Fix1{typeof(LogDensityProblems.logdensity), LogTargetDensity}, Float64}, Float64, 4}})",
      "    @ MicroCanonicalHMC ~/PhD/MicroCanonicalHMC.jl/src/targets.jl:247",
      " [11] rosenbrock",
      "    @ ~/PhD/MicroCanonicalHMC.jl/src/targets.jl:252 [inlined]",
      " [12] ℓπ",
      "    @ ~/PhD/MicroCanonicalHMC.jl/src/targets.jl:253 [inlined]",
      " [13] (::MicroCanonicalHMC.var\"#nlogp#63\"{MicroCanonicalHMC.var\"#transform#61\", MicroCanonicalHMC.var\"#ℓπ#59\"{MicroCanonicalHMC.var\"#rosenbrock#58\"{MicroCanonicalHMC.var\"#_mean#57\"{Int64, MicroCanonicalHMC.Rosenbrock{Float64, Float64, Float64}}, BlockDiagonals.BlockDiagonal{Float64, Matrix{Float64}}}}})(x::Vector{ForwardDiff.Dual{ForwardDiff.Tag{Base.Fix1{typeof(LogDensityProblems.logdensity), LogTargetDensity}, Float64}, Float64, 4}})",
      "    @ MicroCanonicalHMC ~/PhD/MicroCanonicalHMC.jl/src/targets.jl:268",
      " [14] logdensity(p::LogTargetDensity, θ::Vector{ForwardDiff.Dual{ForwardDiff.Tag{Base.Fix1{typeof(LogDensityProblems.logdensity), LogTargetDensity}, Float64}, Float64, 4}})",
      "    @ Main ./In[9]:5",
      " [15] Fix1",
      "    @ ./operators.jl:1108 [inlined]",
      " [16] vector_mode_dual_eval!",
      "    @ ~/.julia/packages/ForwardDiff/QdStj/src/apiutils.jl:37 [inlined]",
      " [17] vector_mode_gradient!(result::DiffResults.MutableDiffResult{1, Float64, Tuple{Vector{Float64}}}, f::Base.Fix1{typeof(LogDensityProblems.logdensity), LogTargetDensity}, x::Vector{Float64}, cfg::ForwardDiff.GradientConfig{ForwardDiff.Tag{Base.Fix1{typeof(LogDensityProblems.logdensity), LogTargetDensity}, Float64}, Float64, 4, Vector{ForwardDiff.Dual{ForwardDiff.Tag{Base.Fix1{typeof(LogDensityProblems.logdensity), LogTargetDensity}, Float64}, Float64, 4}}})",
      "    @ ForwardDiff ~/.julia/packages/ForwardDiff/QdStj/src/gradient.jl:113",
      " [18] gradient!",
      "    @ ~/.julia/packages/ForwardDiff/QdStj/src/gradient.jl:37 [inlined]",
      " [19] gradient!",
      "    @ ~/.julia/packages/ForwardDiff/QdStj/src/gradient.jl:35 [inlined]",
      " [20] logdensity_and_gradient",
      "    @ ~/.julia/packages/LogDensityProblemsAD/vM7so/ext/ForwardDiffExt.jl:63 [inlined]",
      " [21] Fix1",
      "    @ ./operators.jl:1108 [inlined]",
      " [22] ∂H∂θ",
      "    @ ~/.julia/packages/AdvancedHMC/4fByY/src/hamiltonian.jl:33 [inlined]",
      " [23] phasepoint(h::Hamiltonian{DiagEuclideanMetric{Float64, Vector{Float64}}, GaussianKinetic, Base.Fix1{typeof(LogDensityProblems.logdensity), ForwardDiffExt.ForwardDiffLogDensity{LogTargetDensity, ForwardDiff.GradientConfig{ForwardDiff.Tag{Base.Fix1{typeof(LogDensityProblems.logdensity), LogTargetDensity}, Float64}, Float64, 4, Vector{ForwardDiff.Dual{ForwardDiff.Tag{Base.Fix1{typeof(LogDensityProblems.logdensity), LogTargetDensity}, Float64}, Float64, 4}}}}}, Base.Fix1{typeof(LogDensityProblems.logdensity_and_gradient), ForwardDiffExt.ForwardDiffLogDensity{LogTargetDensity, ForwardDiff.GradientConfig{ForwardDiff.Tag{Base.Fix1{typeof(LogDensityProblems.logdensity), LogTargetDensity}, Float64}, Float64, 4, Vector{ForwardDiff.Dual{ForwardDiff.Tag{Base.Fix1{typeof(LogDensityProblems.logdensity), LogTargetDensity}, Float64}, Float64, 4}}}}}}, θ::Vector{Float64}, r::Vector{Float64})",
      "    @ AdvancedHMC ~/.julia/packages/AdvancedHMC/4fByY/src/hamiltonian.jl:78",
      " [24] find_good_stepsize(rng::Random._GLOBAL_RNG, h::Hamiltonian{DiagEuclideanMetric{Float64, Vector{Float64}}, GaussianKinetic, Base.Fix1{typeof(LogDensityProblems.logdensity), ForwardDiffExt.ForwardDiffLogDensity{LogTargetDensity, ForwardDiff.GradientConfig{ForwardDiff.Tag{Base.Fix1{typeof(LogDensityProblems.logdensity), LogTargetDensity}, Float64}, Float64, 4, Vector{ForwardDiff.Dual{ForwardDiff.Tag{Base.Fix1{typeof(LogDensityProblems.logdensity), LogTargetDensity}, Float64}, Float64, 4}}}}}, Base.Fix1{typeof(LogDensityProblems.logdensity_and_gradient), ForwardDiffExt.ForwardDiffLogDensity{LogTargetDensity, ForwardDiff.GradientConfig{ForwardDiff.Tag{Base.Fix1{typeof(LogDensityProblems.logdensity), LogTargetDensity}, Float64}, Float64, 4, Vector{ForwardDiff.Dual{ForwardDiff.Tag{Base.Fix1{typeof(LogDensityProblems.logdensity), LogTargetDensity}, Float64}, Float64, 4}}}}}}, θ::Vector{Float64}; max_n_iters::Int64)",
      "    @ AdvancedHMC ~/.julia/packages/AdvancedHMC/4fByY/src/trajectory.jl:710",
      " [25] find_good_stepsize",
      "    @ ~/.julia/packages/AdvancedHMC/4fByY/src/trajectory.jl:698 [inlined]",
      " [26] #find_good_stepsize#19",
      "    @ ~/.julia/packages/AdvancedHMC/4fByY/src/trajectory.jl:770 [inlined]",
      " [27] find_good_stepsize(h::Hamiltonian{DiagEuclideanMetric{Float64, Vector{Float64}}, GaussianKinetic, Base.Fix1{typeof(LogDensityProblems.logdensity), ForwardDiffExt.ForwardDiffLogDensity{LogTargetDensity, ForwardDiff.GradientConfig{ForwardDiff.Tag{Base.Fix1{typeof(LogDensityProblems.logdensity), LogTargetDensity}, Float64}, Float64, 4, Vector{ForwardDiff.Dual{ForwardDiff.Tag{Base.Fix1{typeof(LogDensityProblems.logdensity), LogTargetDensity}, Float64}, Float64, 4}}}}}, Base.Fix1{typeof(LogDensityProblems.logdensity_and_gradient), ForwardDiffExt.ForwardDiffLogDensity{LogTargetDensity, ForwardDiff.GradientConfig{ForwardDiff.Tag{Base.Fix1{typeof(LogDensityProblems.logdensity), LogTargetDensity}, Float64}, Float64, 4, Vector{ForwardDiff.Dual{ForwardDiff.Tag{Base.Fix1{typeof(LogDensityProblems.logdensity), LogTargetDensity}, Float64}, Float64, 4}}}}}}, θ::Vector{Float64})",
      "    @ AdvancedHMC ~/.julia/packages/AdvancedHMC/4fByY/src/trajectory.jl:765",
      " [28] top-level scope",
      "    @ In[15]:13"
     ]
    }
   ],
   "source": [
    "# Choose parameter dimensionality and initial parameter value\n",
    "initial_θ = target.prior_draw()\n",
    "ℓπ = LogTargetDensity(target.d)\n",
    "\n",
    "# Set the number of samples to draw and warmup iterations\n",
    "n_samples, n_adapts = 100_000, 10_000\n",
    "\n",
    "# Define a Hamiltonian system\n",
    "metric = DiagEuclideanMetric(target.d)\n",
    "hamiltonian = Hamiltonian(metric, ℓπ, ForwardDiff)\n",
    "\n",
    "# Define a leapfrog solver, with initial step size chosen heuristically\n",
    "initial_ϵ = find_good_stepsize(hamiltonian, initial_θ)\n",
    "integrator = AdvancedHMC.Leapfrog(initial_ϵ)\n",
    "\n",
    "# Define an HMC sampler, with the following components\n",
    "#   - multinomial sampling scheme,\n",
    "#   - generalised No-U-Turn criteria, and\n",
    "#   - windowed adaption for step-size and diagonal mass matrix\n",
    "proposal = NUTS{MultinomialTS, GeneralisedNoUTurn}(integrator)\n",
    "adaptor = StanHMCAdaptor(MassMatrixAdaptor(metric), StepSizeAdaptor(0.8, integrator))\n",
    "\n",
    "# Run the sampler to draw samples from the specified Gaussian, where\n",
    "#   - `samples` will store the samples\n",
    "#   - `stats` will store diagnostic statistics for each sample\n",
    "samples_hmc, stats = sample(hamiltonian, proposal, initial_θ, n_samples, adaptor, n_adapts; progress=true)"
   ]
  },
  {
   "cell_type": "code",
   "execution_count": 13,
   "id": "0bae18fb",
   "metadata": {},
   "outputs": [],
   "source": [
    "d1_hmc = [sample[1] for sample in samples_hmc]\n",
    "d2_hmc = [sample[2] for sample in samples_hmc];"
   ]
  },
  {
   "cell_type": "code",
   "execution_count": 14,
   "id": "01881939",
   "metadata": {},
   "outputs": [
    {
     "data": {
      "image/png": "[encoded data removed]",
      "text/plain": [
       "Figure(PyObject <Figure size 640x480 with 1 Axes>)"
      ]
     },
     "metadata": {},
     "output_type": "display_data"
    }
   ],
   "source": [
    "plt.hist2d(d1_hmc, d2_hmc, bins=100);\n",
    "plt.xlabel(\"d1\")\n",
    "plt.ylabel(\"d2\")\n",
    "plt.title(\"HMC - Rosenbrock\");"
   ]
  },
  {
   "cell_type": "code",
   "execution_count": null,
   "id": "3a811ff2",
   "metadata": {},
   "outputs": [],
   "source": []
  }
 ],
 "metadata": {
  "kernelspec": {
   "display_name": "Julia (1 thread) 1.9.0-rc2",
   "language": "julia",
   "name": "julia-_1-thread_-1.9"
  },
  "language_info": {
   "file_extension": ".jl",
   "mimetype": "application/julia",
   "name": "julia",
   "version": "1.9.0"
  }
 },
 "nbformat": 4,
 "nbformat_minor": 5
}
