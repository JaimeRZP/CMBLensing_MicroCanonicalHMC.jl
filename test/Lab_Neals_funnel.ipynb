{
 "cells": [
  {
   "cell_type": "markdown",
   "id": "91129cb1",
   "metadata": {},
   "source": [
    "# Neal's Funnel Target Practice"
   ]
  },
  {
   "cell_type": "code",
   "execution_count": 1,
   "id": "86b96c9e",
   "metadata": {},
   "outputs": [
    {
     "name": "stderr",
     "output_type": "stream",
     "text": [
      "\u001b[32m\u001b[1m  Activating\u001b[22m\u001b[39m project at `~/PhD/MicroCanonicalHMC.jl`\n"
     ]
    }
   ],
   "source": [
    "] activate \"../\""
   ]
  },
  {
   "cell_type": "code",
   "execution_count": 2,
   "id": "baed58e3",
   "metadata": {},
   "outputs": [],
   "source": [
    "# The statistical inference frame-work we will use\n",
    "using Turing\n",
    "using Interpolations\n",
    "using ForwardDiff\n",
    "using LinearAlgebra\n",
    "using Random\n",
    "#using StatsPlots\n",
    "using PyPlot\n",
    "using Distributed\n",
    "\n",
    "using Revise\n",
    "using MicroCanonicalHMC"
   ]
  },
  {
   "cell_type": "code",
   "execution_count": 3,
   "id": "90fdb90c",
   "metadata": {},
   "outputs": [
    {
     "data": {
      "text/plain": [
       "true_funnel (generic function with 2 methods)"
      ]
     },
     "execution_count": 3,
     "metadata": {},
     "output_type": "execute_result"
    }
   ],
   "source": [
    "d = 21\n",
    "@model function funnel()\n",
    "    θ ~ Normal(0, 3)\n",
    "    z ~ MvNormal(zeros(d-1), exp(θ)*I)\n",
    "    x ~ MvNormal(z, I)\n",
    "end\n",
    "\n",
    "@model function true_funnel()\n",
    "    θ ~ Normal(0, 3)\n",
    "    z ~ MvNormal(zeros(d-1), I)\n",
    "    zz = z .* exp(θ/2)\n",
    "    x ~ MvNormal(zz, I)\n",
    "    \n",
    "end"
   ]
  },
  {
   "cell_type": "code",
   "execution_count": 4,
   "id": "1eebe796",
   "metadata": {},
   "outputs": [
    {
     "data": {
      "text/plain": [
       "DynamicPPL.Model{typeof(true_funnel), (), (), (), Tuple{}, Tuple{}, DynamicPPL.ConditionContext{NamedTuple{(:x,), Tuple{Vector{Float64}}}, DynamicPPL.DefaultContext}}(true_funnel, NamedTuple(), NamedTuple(), ConditionContext((x = [0.7273459156073062, -0.7137895625029701, -1.3112158987551843, 3.195064335503728, 0.6578668590997088, 1.8201670957594605, 2.5774094189910475, 1.2959606640141557, -2.615684720848553, -1.7192495259048919, 0.38510954102334116, 0.7049475219687015, 1.4527158089056038, 1.5438517444010695, 0.8504145036053463, 0.9997932200168839, -0.14767140951984356, 0.6046583528834097, -0.38477500804604936, -1.506202996455002],), DynamicPPL.DefaultContext()))"
      ]
     },
     "execution_count": 4,
     "metadata": {},
     "output_type": "execute_result"
    }
   ],
   "source": [
    "Random.seed!(1)\n",
    "(;x) = rand(funnel() | (θ=0,))\n",
    "funnel_model = funnel() | (;x)\n",
    "\n",
    "Random.seed!(1)\n",
    "(;x) = rand(true_funnel() | (θ=0,))\n",
    "true_model = true_funnel() | (;x)"
   ]
  },
  {
   "cell_type": "markdown",
   "id": "503e3204",
   "metadata": {},
   "source": [
    "## MCHMC"
   ]
  },
  {
   "cell_type": "code",
   "execution_count": 21,
   "id": "c8ed14a3",
   "metadata": {},
   "outputs": [
    {
     "data": {
      "text/plain": [
       "MicroCanonicalHMC.Sampler(Settings(MersenneTwister(0), 0.5, 0, 1000, 100, \"LF\", 0.3, nothing, nothing), Hyperparameters(0.0, 0.5, 0.0, 0.1931833275037836, [1.0, 1.0, 1.0, 1.0, 1.0, 1.0, 1.0, 1.0, 1.0, 1.0  …  1.0, 1.0, 1.0, 1.0, 1.0, 1.0, 1.0, 1.0, 1.0, 1.0]), MicroCanonicalHMC.Leapfrog)"
      ]
     },
     "execution_count": 21,
     "metadata": {},
     "output_type": "execute_result"
    }
   ],
   "source": [
    "target = NealFunnelTarget(funnel_model; d=d, compute_MAP=false)\n",
    "\n",
    "true_target = NealFunnelTarget(true_model; d=d, compute_MAP=false)\n",
    "\n",
    "spl = MCHMC(0.0, 0.5; init_eps=0.3, varE_wanted=0.5, sigma=ones(d))\n",
    "\n",
    "true_spl = MCHMC(0.0, 0.5; init_eps=0.3, varE_wanted=0.5, sigma=ones(d))"
   ]
  },
  {
   "cell_type": "code",
   "execution_count": 22,
   "id": "82938e27",
   "metadata": {
    "scrolled": false
   },
   "outputs": [
    {
     "name": "stderr",
     "output_type": "stream",
     "text": [
      "\u001b[36m\u001b[1m[ \u001b[22m\u001b[39m\u001b[36m\u001b[1mInfo: \u001b[22m\u001b[39mUsing given sigma ✅\n",
      "\u001b[36m\u001b[1m[ \u001b[22m\u001b[39m\u001b[36m\u001b[1mInfo: \u001b[22m\u001b[39mTuning eps ⏳\n",
      "\u001b[36m\u001b[1m[ \u001b[22m\u001b[39m\u001b[36m\u001b[1mInfo: \u001b[22m\u001b[39mUsing given L ✅\n",
      "\u001b[36m\u001b[1m[ \u001b[22m\u001b[39m\u001b[36m\u001b[1mInfo: \u001b[22m\u001b[39mStarting burn in\n"
     ]
    },
    {
     "name": "stdout",
     "output_type": "stream",
     "text": [
      "eps: 0.3 --> VarE/d: 0.0005103796235786936\n",
      "eps: 0.49436400349728 --> VarE/d: 0.0017969025809268767\n",
      "eps: 0.7940747025796892 --> VarE/d: 0.0022633480433643417\n",
      "eps: "
     ]
    },
    {
     "name": "stderr",
     "output_type": "stream",
     "text": [
      "\u001b[36m\u001b[1m[ \u001b[22m\u001b[39m\u001b[36m\u001b[1mInfo: \u001b[22m\u001b[39mBurn in finished\n"
     ]
    },
    {
     "name": "stdout",
     "output_type": "stream",
     "text": [
      "1.2458188302514657 --> VarE/d: 0.0050086224090206116\n",
      "eps: 1.9075811686920214 --> VarE/d: 34.147353987078155\n",
      "eps: 5.000000000000004e-5 --> VarE/d: 2.7469470820658175e-9\n",
      "eps: 7.380477229979013e-5 --> VarE/d: 2.7510196663137216e-9\n",
      "eps: 0.00010689344563774503 --> VarE/d: 2.7640901360242882e-9\n",
      "eps: 0.00015204500248988776 --> VarE/d: 2.7998686272929035e-9\n",
      "eps: 0.00021258386454278187 --> VarE/d: 2.847710641546284e-9\n",
      "eps: 0.00029240816196266027 --> VarE/d: 2.898656437806012e-9\n",
      "eps: 0.0003960006961760347 --> VarE/d: 3.119102933079491e-9\n",
      "eps: 0.0005284197096958967 --> VarE/d: 3.412569925930668e-9\n",
      "eps: 0.0006952675175477827 --> VarE/d: 3.861883264157925e-9\n",
      "eps: 0.0009026361839821951 --> VarE/d: 4.887432132416571e-9\n",
      "eps: 0.001157030657987631 --> VarE/d: 5.9837543717062254e-9\n",
      "eps: 0.0014652710160242889 --> VarE/d: 8.246735792066848e-9\n",
      "eps: 0.0018343766024222791 --> VarE/d: 1.1267385818514578e-8\n",
      "eps: 0.002271435836772026 --> VarE/d: 1.579011007337074e-8\n",
      "eps: 0.0027834661905721436 --> VarE/d: 1.968855462647183e-8\n",
      "eps: 0.003377269309280731 --> VarE/d: 2.435904680439819e-8\n",
      "eps: 0.004059286413452247 --> VarE/d: 3.88142848360859e-8\n",
      "eps: 0.004835459008337942 --> VarE/d: 5.774885061089416e-8\n",
      "eps: 0.005711099611268054 --> VarE/d: 7.221964771148053e-8\n",
      "eps: 0.006690776548105244 --> VarE/d: 1.549077433559378e-7\n",
      "eps: 0.007778215974094725 --> VarE/d: 1.312927519677755e-7\n",
      "eps: 0.008976224534632945 --> VarE/d: 1.766337268556588e-7\n",
      "eps: 0.010286632243201553 --> VarE/d: 3.3162001060835016e-7\n",
      "eps: 0.011710258543136537 --> VarE/d: 7.067480006855769e-7\n",
      "eps: 0.013246900014483157 --> VarE/d: 5.08943870805624e-7\n",
      "eps: 0.014895342624487596 --> VarE/d: 4.956285114068406e-7\n",
      "eps: 0.016653385982047776 --> VarE/d: 5.23480126780454e-7\n",
      "eps: 0.018517892629544 --> VarE/d: 1.2952347275731167e-6\n",
      "eps: 0.020484846779680255 --> VarE/d: 1.5590679645370228e-6\n",
      "eps: 0.022549436714323436 --> VarE/d: 2.78229115382897e-6\n",
      "eps: 0.024706128739855646 --> VarE/d: 3.253406379841259e-6\n",
      "eps: 0.02694877242818837 --> VarE/d: 2.910881677630458e-6\n",
      "eps: 0.02927069103142866 --> VarE/d: 2.767497686527132e-6\n",
      "eps: 0.031664774777894256 --> VarE/d: 3.3927285816257917e-6\n",
      "eps: 0.03412358063263729 --> VarE/d: 6.126734717446597e-6\n",
      "eps: 0.036639424161826556 --> VarE/d: 3.6742927394647637e-6\n",
      "eps: 0.03920451692873011 --> VarE/d: 6.653355913567245e-6\n",
      "eps: 0.04181096238689241 --> VarE/d: 6.25137327790828e-6\n",
      "eps: 0.044450935675788755 --> VarE/d: 1.2530231266767625e-5\n",
      "eps: 0.04711665892323983 --> VarE/d: 5.808538691130822e-6\n",
      "eps: 0.04980062662099749 --> VarE/d: 8.615491096557585e-6\n",
      "eps: 0.05249543801750078 --> VarE/d: 1.4735653731031114e-5\n",
      "eps: 0.055193997995131645 --> VarE/d: 1.5512322166902635e-5\n",
      "eps: 0.0578895750321547 --> VarE/d: 2.10499654070194e-5\n",
      "eps: 0.06057573401849586 --> VarE/d: 1.2704566032127295e-5\n",
      "eps: 0.06324651840242818 --> VarE/d: 1.8957864472529925e-5\n",
      "eps: 0.06589621630980162 --> VarE/d: 2.3076311925274178e-5\n",
      "eps: 0.06851961505127753 --> VarE/d: 2.1062271499263564e-5\n",
      "eps: 0.07111194177270674 --> VarE/d: 2.1449202301975523e-5\n",
      "eps: 0.07366879996608772 --> VarE/d: 2.854872280798203e-5\n",
      "eps: 0.07618618971905032 --> VarE/d: 2.3481025985095387e-5\n",
      "eps: 0.07866061917401773 --> VarE/d: 5.533957806379458e-5\n",
      "eps: 0.08108875573611185 --> VarE/d: 2.1732099836479197e-5\n",
      "eps: 0.0834681571781583 --> VarE/d: 4.207202613892557e-5\n",
      "eps: 0.08579618168982271 --> VarE/d: 3.158180352020352e-5\n",
      "eps: 0.08807094677771947 --> VarE/d: 2.6889498478362872e-5\n",
      "eps: 0.09029073913151883 --> VarE/d: 3.6892080910426395e-5\n",
      "eps: 0.09245412850921729 --> VarE/d: 2.992142109259363e-5\n",
      "eps: 0.09456012416773572 --> VarE/d: 3.3587925234848774e-5\n",
      "eps: 0.09660789734077645 --> VarE/d: 4.3060416475119146e-5\n",
      "eps: 0.09859690164524933 --> VarE/d: 3.897761961032701e-5\n",
      "eps: 0.10052690772574925 --> VarE/d: 4.324734136517213e-5\n",
      "eps: 0.10239781954060478 --> VarE/d: 3.7684520333450365e-5\n",
      "eps: 0.10420981031076823 --> VarE/d: 3.8970593098660036e-5\n",
      "eps: 0.10596317288656003 --> VarE/d: 3.118236331483645e-5\n",
      "eps: 0.10765841991802769 --> VarE/d: 3.202376913659668e-5\n",
      "eps: 0.10929614898366712 --> VarE/d: 5.098128644648255e-5\n",
      "eps: 0.11087705962069005 --> VarE/d: 4.9051205470947794e-5\n",
      "eps: 0.1124020906617002 --> VarE/d: 6.21921522098857e-5\n",
      "eps: 0.11387216794628098 --> VarE/d: 7.707047201474602e-5\n",
      "eps: 0.1152883455959046 --> VarE/d: 6.800421499797231e-5\n",
      "eps: 0.11665182189602026 --> VarE/d: 4.781985484334979e-5\n",
      "eps: 0.11796381595474241 --> VarE/d: 6.461401100368807e-5\n",
      "eps: 0.11922547237695294 --> VarE/d: 5.981053610582273e-5\n",
      "eps: 0.1204381293006023 --> VarE/d: 9.692176412279732e-5\n",
      "eps: 0.12160300190799415 --> VarE/d: 7.025367925351505e-5\n",
      "eps: 0.12272157709161893 --> VarE/d: 6.11559185531853e-5\n",
      "eps: 0.12379516573682464 --> VarE/d: 6.23835571119125e-5\n",
      "eps: 0.1248251070954349 --> VarE/d: 5.819050909093541e-5\n",
      "eps: 0.12581277702105265 --> VarE/d: 6.777070202341552e-5\n",
      "eps: 0.1267595110344715 --> VarE/d: 7.123529054773364e-5\n",
      "eps: 0.12766667659000908 --> VarE/d: 0.00013178542465273608\n",
      "eps: 0.12853551784537828 --> VarE/d: 0.00011539796833162129\n",
      "eps: 0.12936749937313516 --> VarE/d: 7.077764570616485e-5\n",
      "eps: 0.13016397313719677 --> VarE/d: 7.606199587726145e-5\n",
      "eps: 0.13092614461602997 --> VarE/d: 5.4316065360913066e-5\n",
      "eps: 0.13165531766013408 --> VarE/d: 6.748935105339147e-5\n",
      "eps: 0.13235267851008978 --> VarE/d: 0.00010927760815753577\n",
      "eps: 0.13301940049688118 --> VarE/d: 0.00021888381743311023\n",
      "eps: 0.13365658262267113 --> VarE/d: 0.00010606690059333699\n",
      "eps: 0.13426565909761662 --> VarE/d: 6.583592165342819e-5\n",
      "eps: 0.13484765313598462 --> VarE/d: 0.00017404325367228403\n",
      "eps: 0.1354034834309906 --> VarE/d: 0.00015572895804583892\n",
      "eps: 0.13593435111201507 --> VarE/d: 9.036106727156722e-5\n",
      "eps: 0.13644132591468275 --> VarE/d: 7.997978264885614e-5\n"
     ]
    }
   ],
   "source": [
    "samples = Sample(spl, target, 100_000;\n",
    "                 burn_in=20_000, dialog=true);"
   ]
  },
  {
   "cell_type": "code",
   "execution_count": 7,
   "id": "7c54733b",
   "metadata": {
    "scrolled": false
   },
   "outputs": [
    {
     "name": "stderr",
     "output_type": "stream",
     "text": [
      "\u001b[36m\u001b[1m[ \u001b[22m\u001b[39m\u001b[36m\u001b[1mInfo: \u001b[22m\u001b[39mUsing given sigma ✅\n",
      "\u001b[36m\u001b[1m[ \u001b[22m\u001b[39m\u001b[36m\u001b[1mInfo: \u001b[22m\u001b[39mTuning eps ⏳\n",
      "\u001b[36m\u001b[1m[ \u001b[22m\u001b[39m\u001b[36m\u001b[1mInfo: \u001b[22m\u001b[39mUsing given L ✅\n",
      "\u001b[36m\u001b[1m[ \u001b[22m\u001b[39m\u001b[36m\u001b[1mInfo: \u001b[22m\u001b[39mStarting burn in\n"
     ]
    },
    {
     "name": "stdout",
     "output_type": "stream",
     "text": [
      "eps: 0.3 --> VarE/d: 0.0004299675482943293\n",
      "eps: 0.8151339920150719 --> VarE/d: 0.0019895152357919687\n",
      "eps: 2.106302766594283 --> VarE/d: 7.533495267869946\n",
      "eps: "
     ]
    },
    {
     "name": "stderr",
     "output_type": "stream",
     "text": [
      "\u001b[36m\u001b[1m[ \u001b[22m\u001b[39m\u001b[36m\u001b[1mInfo: \u001b[22m\u001b[39mBurn in finished\n"
     ]
    },
    {
     "name": "stdout",
     "output_type": "stream",
     "text": [
      "0.005702692645507198 --> VarE/d: 1.771085474786424e-7\n",
      "eps: 0.01348592138925851 --> VarE/d: 7.863834911517605e-7\n",
      "eps: 0.030580923223318773 --> VarE/d: 5.55146726435045e-6\n",
      "eps: 0.06663119425244808 --> VarE/d: 2.2569608347461924e-5\n",
      "eps: 0.13976666460574544 --> VarE/d: 6.582585314232735e-5\n",
      "eps: 0.28276496883935215 --> VarE/d: 0.00038666192394315777\n",
      "eps: 0.5526234860514845 --> VarE/d: 0.0009739895432344374\n",
      "eps: 1.0449078942636485 --> VarE/d: 0.003416710902851336\n",
      "eps: 1.9124536705312674 --> VarE/d: 1.3369266858140039\n",
      "eps: 1.5745937057153185 --> VarE/d: 0.03199093763719759\n",
      "eps: 2.6784865413858467 --> VarE/d: 51.0187092047082\n",
      "eps: 5.000000000000004e-5 --> VarE/d: 1.1039533432023388e-8\n",
      "eps: 8.21550490328866e-5 --> VarE/d: 1.1071723791615014e-8\n",
      "eps: 0.00013175904676981202 --> VarE/d: 1.1178700996023062e-8\n",
      "eps: 0.00020650070167617564 --> VarE/d: 1.1304516851577723e-8\n",
      "eps: 0.00031662519920090237 --> VarE/d: 1.1523372915600754e-8\n",
      "eps: 0.00047546267972166053 --> VarE/d: 1.2133735994520866e-8\n",
      "eps: 0.0006999643542713676 --> VarE/d: 1.3237452498948632e-8\n",
      "eps: 0.0010112160015438925 --> VarE/d: 1.6267355238288116e-8\n",
      "eps: 0.0014348944780034896 --> VarE/d: 2.225768159352906e-8\n",
      "eps: 0.00200163108023358 --> VarE/d: 3.070512431654252e-8\n",
      "eps: 0.0027472465291715326 --> VarE/d: 6.991649824564263e-8\n",
      "eps: 0.003712826100593825 --> VarE/d: 7.449642433810348e-8\n",
      "eps: 0.004944610098447893 --> VarE/d: 1.4494712405419937e-7\n",
      "eps: 0.006493683062754084 --> VarE/d: 3.1899309995356655e-7\n",
      "eps: 0.008415456258271017 --> VarE/d: 8.915065650040531e-7\n",
      "eps: 0.010768947808868364 --> VarE/d: 3.918950064484031e-7\n",
      "eps: 0.013615883096897664 --> VarE/d: 9.65297145636682e-7\n",
      "eps: 0.017019622291159175 --> VarE/d: 9.784667482828602e-7\n",
      "eps: 0.02104398344092011 --> VarE/d: 3.6241266919458394e-6\n",
      "eps: 0.02575195337061061 --> VarE/d: 4.977390695838896e-6\n",
      "eps: 0.03120441015658065 --> VarE/d: 3.908519555886709e-6\n",
      "eps: 0.0374588218645697 --> VarE/d: 5.762684947407366e-6\n",
      "eps: 0.044567958790521285 --> VarE/d: 1.579065739554557e-5\n",
      "eps: 0.052578719525233006 --> VarE/d: 1.406751282504955e-5\n",
      "eps: 0.06153132658535929 --> VarE/d: 2.8468259496431087e-5\n",
      "eps: 0.07145806554436315 --> VarE/d: 2.158885376256279e-5\n",
      "eps: 0.08238322052825779 --> VarE/d: 6.299322252682528e-5\n",
      "eps: 0.09432144156160316 --> VarE/d: 4.626038076098031e-5\n",
      "eps: 0.10727949032820475 --> VarE/d: 5.00288576311122e-5\n",
      "eps: 0.12125403286469806 --> VarE/d: 5.1792179706930545e-5\n",
      "eps: 0.13623289914574765 --> VarE/d: 9.05917863967531e-5\n",
      "eps: 0.1521944584818383 --> VarE/d: 7.431180936567486e-5\n",
      "eps: 0.16911017531791206 --> VarE/d: 0.00011284769572444416\n",
      "eps: 0.1869419156698468 --> VarE/d: 0.00017591972644725106\n",
      "eps: 0.20564478631127742 --> VarE/d: 0.00022855528577857308\n",
      "eps: 0.22516817362255565 --> VarE/d: 0.0001806702982281368\n",
      "eps: 0.24545792733861435 --> VarE/d: 0.00027219983668909007\n",
      "eps: 0.26645042725377754 --> VarE/d: 0.0002820014999899822\n",
      "eps: 0.28808277703533575 --> VarE/d: 0.0004235017949415561\n",
      "eps: 0.3102846128734098 --> VarE/d: 0.0003683730224724852\n",
      "eps: 0.3329909023644672 --> VarE/d: 0.0004682880339898999\n",
      "eps: 0.35612764166123634 --> VarE/d: 0.0005491581053743397\n",
      "eps: 0.3796242566647535 --> VarE/d: 0.0005522470439440317\n",
      "eps: 0.403412029653721 --> VarE/d: 0.0005905679888903734\n",
      "eps: 0.42742062798419056 --> VarE/d: 0.0008266183222825692\n",
      "eps: 0.45157719937462193 --> VarE/d: 0.0007529817864420807\n",
      "eps: 0.47582333365835966 --> VarE/d: 0.0010645892824030325\n",
      "eps: 0.5000863098129104 --> VarE/d: 0.0008038111070356338\n",
      "eps: 0.5243196722802583 --> VarE/d: 0.0010757654822947452\n",
      "eps: 0.5484533905678314 --> VarE/d: 0.0011456870713273323\n",
      "eps: 0.5724385146494468 --> VarE/d: 0.0011435602608781878\n",
      "eps: 0.5962266748031423 --> VarE/d: 0.0014898256784719366\n",
      "eps: 0.6197631337053192 --> VarE/d: 0.0015572210343124916\n",
      "eps: 0.6430118123728561 --> VarE/d: 0.0017908167795816215\n",
      "eps: 0.6659300395084182 --> VarE/d: 0.0017476268622072073\n",
      "eps: 0.6884891541504994 --> VarE/d: 0.002092348017942385\n",
      "eps: 0.7106491006378137 --> VarE/d: 0.001896663566451831\n",
      "eps: 0.7323941957387469 --> VarE/d: 0.0017474417551126761\n",
      "eps: 0.7536991874748904 --> VarE/d: 0.0020595779845326706\n",
      "eps: 0.7745333972015246 --> VarE/d: 0.002295144857837984\n",
      "eps: 0.7948808707268709 --> VarE/d: 0.002391474402498133\n",
      "eps: 0.8147299071730293 --> VarE/d: 0.002515344810492537\n",
      "eps: 0.8340682609650617 --> VarE/d: 0.0024651918202248566\n",
      "eps: 0.852890245418565 --> VarE/d: 0.0024407728159910095\n",
      "eps: 0.8711887582114984 --> VarE/d: 0.0025844234154573337\n",
      "eps: 0.8889564667357823 --> VarE/d: 0.0032295725577349455\n",
      "eps: 0.9061825563612813 --> VarE/d: 0.0033702256681330165\n",
      "eps: 0.9228758273631317 --> VarE/d: 0.0033322899492419294\n",
      "eps: 0.9390408782945365 --> VarE/d: 0.0028911083102434\n",
      "eps: 0.9546872253582677 --> VarE/d: 0.0024391036251193163\n",
      "eps: 0.9698192748609106 --> VarE/d: 0.002673060136528165\n",
      "eps: 0.9844324008654177 --> VarE/d: 0.00268911168230905\n",
      "eps: 0.9985369004882411 --> VarE/d: 0.0031872606399881167\n",
      "eps: 1.0121341704679019 --> VarE/d: 0.0028258084000057386\n",
      "eps: 1.0252448703817272 --> VarE/d: 0.0038810827303522523\n",
      "eps: 1.0378602819194156 --> VarE/d: 0.003078620614025786\n",
      "eps: 1.0500143026171165 --> VarE/d: 0.0029996283227607277\n",
      "eps: 1.0617085597327294 --> VarE/d: 0.0035034821273247766\n",
      "eps: 1.0729476152920399 --> VarE/d: 0.0028227036541115325\n",
      "eps: 1.0837563453152732 --> VarE/d: 0.005082592967081555\n",
      "eps: 1.09411531833533 --> VarE/d: 0.0044525387367627366\n",
      "eps: 1.1040672802854692 --> VarE/d: 0.0038190175425446525\n",
      "eps: 1.1136239781985906 --> VarE/d: 0.0033581692541717035\n",
      "eps: 1.1227956066862685 --> VarE/d: 0.003602293530158213\n",
      "eps: 1.131587857622124 --> VarE/d: 0.004943432822038802\n",
      "eps: 1.1400038065749083 --> VarE/d: 0.004403701340124668\n"
     ]
    }
   ],
   "source": [
    "truth = Sample(true_spl, true_target, 100_000;\n",
    "               burn_in=20_000, dialog=true);"
   ]
  },
  {
   "cell_type": "code",
   "execution_count": 23,
   "id": "385a8b1a",
   "metadata": {},
   "outputs": [],
   "source": [
    "theta_mchmc = [sample[1] for sample in samples]\n",
    "x10_mchmc = [sample[10+1] for sample in samples]\n",
    "E = [sample[end-1] for sample in samples];"
   ]
  },
  {
   "cell_type": "code",
   "execution_count": 24,
   "id": "f76f9719",
   "metadata": {},
   "outputs": [],
   "source": [
    "true_theta_mchmc = [sample[1] for sample in truth]\n",
    "true_x10_mchmc = [sample[10+1] * exp(sample[1]/2) for sample in truth];"
   ]
  },
  {
   "cell_type": "code",
   "execution_count": 25,
   "id": "e729e93a",
   "metadata": {},
   "outputs": [
    {
     "data": {
      "text/plain": [
       "0.00025221461943096936"
      ]
     },
     "execution_count": 25,
     "metadata": {},
     "output_type": "execute_result"
    }
   ],
   "source": [
    "VarE = std(E)^2/d"
   ]
  },
  {
   "cell_type": "code",
   "execution_count": 26,
   "id": "a6fe69c5",
   "metadata": {},
   "outputs": [
    {
     "data": {
      "image/png": "[encoded data removed]",
      "text/plain": [
       "Figure(PyObject <Figure size 640x480 with 1 Axes>)"
      ]
     },
     "metadata": {},
     "output_type": "display_data"
    },
    {
     "data": {
      "text/plain": [
       "PyObject Text(0.5, 1.0, 'd = 21 --> VarE/d = 0.00025')"
      ]
     },
     "execution_count": 26,
     "metadata": {},
     "output_type": "execute_result"
    }
   ],
   "source": [
    "plt.plot(E, label=\"E/d\")\n",
    "plt.title(string(\"d = \", d, \" --> VarE/d = \", round(VarE, digits=5)))"
   ]
  },
  {
   "cell_type": "code",
   "execution_count": 27,
   "id": "0472f3ca",
   "metadata": {},
   "outputs": [
    {
     "data": {
      "image/png": "[encoded data removed]",
      "text/plain": [
       "Figure(PyObject <Figure size 800x800 with 3 Axes>)"
      ]
     },
     "metadata": {},
     "output_type": "display_data"
    }
   ],
   "source": [
    "fig, axis = plt.subplots(2, 2, figsize=(8,8))\n",
    "fig.suptitle(string(\"MCHMC - Neal's Funnel - d = \", d), fontsize=16)\n",
    "\n",
    "fig.delaxes(axis[1,2])\n",
    "fig.subplots_adjust(hspace=0)\n",
    "fig.subplots_adjust(wspace=0)\n",
    "\n",
    "axis[1,1].hist(x10_mchmc, bins=100, range=[-6,2], alpha = 0.5, label=\"MCHMC\")\n",
    "axis[1,1].hist(true_x10_mchmc, bins=100, range=[-6,2], alpha = 0.5, label=\"Truth - MCHMC\")\n",
    "axis[1,1].legend()\n",
    "axis[1,1].set_yticks([])\n",
    "\n",
    "axis[2,2].hist(theta_mchmc, bins=100, orientation=\"horizontal\", range=[-6, 2], alpha = 0.5)\n",
    "axis[2,2].hist(true_theta_mchmc, bins=100, orientation=\"horizontal\", range=[-6, 2], alpha = 0.5)\n",
    "axis[2,2].set_xticks([])\n",
    "axis[2,2].set_yticks([])\n",
    "\n",
    "axis[2,1].hist2d(x10_mchmc, theta_mchmc, bins=100, range=[[-6,2],[-6, 2]])\n",
    "axis[2,1].set_xlabel(\"x10\")\n",
    "axis[2,1].set_ylabel(\"theta\");"
   ]
  },
  {
   "cell_type": "markdown",
   "id": "4aadd3b5",
   "metadata": {},
   "source": [
    "## NUTS"
   ]
  },
  {
   "cell_type": "code",
   "execution_count": 28,
   "id": "dcbe40a3",
   "metadata": {},
   "outputs": [
    {
     "name": "stderr",
     "output_type": "stream",
     "text": [
      "\u001b[36m\u001b[1m┌ \u001b[22m\u001b[39m\u001b[36m\u001b[1mInfo: \u001b[22m\u001b[39mFound initial step size\n",
      "\u001b[36m\u001b[1m└ \u001b[22m\u001b[39m  ϵ = 0.8\n",
      "\u001b[32mSampling: 100%|█████████████████████████████████████████| Time: 0:01:39\u001b[39m\n"
     ]
    },
    {
     "data": {
      "text/plain": [
       "Chains MCMC chain (100000×33×1 Array{Float64, 3}):\n",
       "\n",
       "Iterations        = 11:1:100010\n",
       "Number of chains  = 1\n",
       "Samples per chain = 100000\n",
       "Wall duration     = 99.85 seconds\n",
       "Compute duration  = 99.85 seconds\n",
       "parameters        = θ, z[1], z[2], z[3], z[4], z[5], z[6], z[7], z[8], z[9], z[10], z[11], z[12], z[13], z[14], z[15], z[16], z[17], z[18], z[19], z[20]\n",
       "internals         = lp, n_steps, is_accept, acceptance_rate, log_density, hamiltonian_energy, hamiltonian_energy_error, max_hamiltonian_energy_error, tree_depth, numerical_error, step_size, nom_step_size\n",
       "\n",
       "Summary Statistics\n",
       " \u001b[1m parameters \u001b[0m \u001b[1m    mean \u001b[0m \u001b[1m     std \u001b[0m \u001b[1m naive_se \u001b[0m \u001b[1m    mcse \u001b[0m \u001b[1m         ess \u001b[0m \u001b[1m    rhat \u001b[0m ⋯\n",
       " \u001b[90m     Symbol \u001b[0m \u001b[90m Float64 \u001b[0m \u001b[90m Float64 \u001b[0m \u001b[90m  Float64 \u001b[0m \u001b[90m Float64 \u001b[0m \u001b[90m     Float64 \u001b[0m \u001b[90m Float64 \u001b[0m ⋯\n",
       "\n",
       "           θ   -0.0763    0.9058     0.0029    0.0064    19506.9271    1.0001  ⋯\n",
       "        z[1]    0.3399    0.7065     0.0022    0.0018   147101.4172    1.0000  ⋯\n",
       "        z[2]   -0.3352    0.7088     0.0022    0.0019   146092.4305    1.0000  ⋯\n",
       "        z[3]   -0.6143    0.7149     0.0023    0.0020   136606.7004    1.0000  ⋯\n",
       "        z[4]    1.4927    0.7357     0.0023    0.0023    97687.9991    1.0000  ⋯\n",
       "        z[5]    0.3060    0.7128     0.0023    0.0019   150463.1905    1.0000  ⋯\n",
       "        z[6]    0.8512    0.7200     0.0023    0.0019   131900.1959    1.0000  ⋯\n",
       "        z[7]    1.2049    0.7288     0.0023    0.0022   114624.8165    1.0000  ⋯\n",
       "        z[8]    0.6069    0.7179     0.0023    0.0018   140298.0425    1.0000  ⋯\n",
       "        z[9]   -1.2240    0.7310     0.0023    0.0023   111219.3001    1.0000  ⋯\n",
       "       z[10]   -0.8050    0.7213     0.0023    0.0021   133515.5099    1.0000  ⋯\n",
       "       z[11]    0.1790    0.7133     0.0023    0.0017   151891.6501    1.0000  ⋯\n",
       "       z[12]    0.3275    0.7137     0.0023    0.0017   152942.2850    1.0000  ⋯\n",
       "       z[13]    0.6779    0.7152     0.0023    0.0020   139032.5833    1.0000  ⋯\n",
       "       z[14]    0.7203    0.7137     0.0023    0.0020   132336.4799    1.0000  ⋯\n",
       "       z[15]    0.3966    0.7108     0.0022    0.0018   150467.4566    1.0000  ⋯\n",
       "       z[16]    0.4677    0.7150     0.0023    0.0018   144968.3486    1.0000  ⋯\n",
       "       z[17]   -0.0695    0.7110     0.0022    0.0018   154537.7249    1.0000  ⋯\n",
       "       z[18]    0.2819    0.7106     0.0022    0.0018   149600.9827    1.0000  ⋯\n",
       "       z[19]   -0.1804    0.7134     0.0023    0.0017   154808.5128    1.0000  ⋯\n",
       "       z[20]   -0.7055    0.7149     0.0023    0.0019   137597.4987    1.0000  ⋯\n",
       "\u001b[36m                                                                1 column omitted\u001b[0m\n",
       "\n",
       "Quantiles\n",
       " \u001b[1m parameters \u001b[0m \u001b[1m    2.5% \u001b[0m \u001b[1m   25.0% \u001b[0m \u001b[1m   50.0% \u001b[0m \u001b[1m   75.0% \u001b[0m \u001b[1m   97.5% \u001b[0m\n",
       " \u001b[90m     Symbol \u001b[0m \u001b[90m Float64 \u001b[0m \u001b[90m Float64 \u001b[0m \u001b[90m Float64 \u001b[0m \u001b[90m Float64 \u001b[0m \u001b[90m Float64 \u001b[0m\n",
       "\n",
       "           θ   -2.2868   -0.4255    0.0630    0.4721    1.1647\n",
       "        z[1]   -1.0639   -0.1185    0.3415    0.8015    1.7277\n",
       "        z[2]   -1.7383   -0.7948   -0.3368    0.1213    1.0834\n",
       "        z[3]   -2.0217   -1.0765   -0.6162   -0.1571    0.8168\n",
       "        z[4]   -0.0064    1.0265    1.5025    1.9732    2.9150\n",
       "        z[5]   -1.1185   -0.1587    0.3080    0.7736    1.7115\n",
       "        z[6]   -0.5835    0.3871    0.8511    1.3224    2.2732\n",
       "        z[7]   -0.2716    0.7397    1.2137    1.6847    2.6186\n",
       "        z[8]   -0.8239    0.1410    0.6074    1.0743    2.0193\n",
       "        z[9]   -2.6391   -1.7047   -1.2304   -0.7632    0.2589\n",
       "       z[10]   -2.2197   -1.2766   -0.8092   -0.3413    0.6409\n",
       "       z[11]   -1.2320   -0.2864    0.1790    0.6423    1.5890\n",
       "       z[12]   -1.0958   -0.1346    0.3289    0.7945    1.7336\n",
       "       z[13]   -0.7612    0.2180    0.6809    1.1430    2.0787\n",
       "       z[14]   -0.7079    0.2612    0.7227    1.1867    2.1207\n",
       "       z[15]   -1.0231   -0.0614    0.3972    0.8595    1.7987\n",
       "       z[16]   -0.9607    0.0054    0.4693    0.9364    1.8719\n",
       "       z[17]   -1.4731   -0.5325   -0.0704    0.3901    1.3532\n",
       "       z[18]   -1.1355   -0.1797    0.2818    0.7460    1.6894\n",
       "       z[19]   -1.5918   -0.6467   -0.1812    0.2848    1.2365\n",
       "       z[20]   -2.1204   -1.1714   -0.7056   -0.2435    0.7288\n"
      ]
     },
     "execution_count": 28,
     "metadata": {},
     "output_type": "execute_result"
    }
   ],
   "source": [
    "funnel_samples_hmc = sample(true_model, NUTS(10, 0.95), 100_000, progress=true; save_state=true)"
   ]
  },
  {
   "cell_type": "code",
   "execution_count": 29,
   "id": "fd2ddefb",
   "metadata": {},
   "outputs": [],
   "source": [
    "theta_hmc = [funnel_samples_hmc.value.data[i, 1, :][1] for i in axes(funnel_samples_hmc.value.data)[1]]\n",
    "x10_hmc = [funnel_samples_hmc.value.data[i, 10+1, :][1] * exp(funnel_samples_hmc.value.data[i, 1, :][1]/2) for i in axes(funnel_samples_hmc.value.data)[1]];"
   ]
  },
  {
   "cell_type": "code",
   "execution_count": 30,
   "id": "e535d15d",
   "metadata": {},
   "outputs": [
    {
     "data": {
      "image/png": "[encoded data removed]",
      "text/plain": [
       "Figure(PyObject <Figure size 800x800 with 3 Axes>)"
      ]
     },
     "metadata": {},
     "output_type": "display_data"
    }
   ],
   "source": [
    "fig, axis = plt.subplots(2, 2, figsize=(8,8))\n",
    "fig.suptitle(\"Neal's Funnel\", fontsize=16)\n",
    "\n",
    "fig.delaxes(axis[1,2])\n",
    "fig.subplots_adjust(hspace=0)\n",
    "fig.subplots_adjust(wspace=0)\n",
    "\n",
    "axis[1,1].hist(x10_mchmc, bins=100, range=[-6,2], alpha = 0.3, label=\"MCHMC\")\n",
    "axis[1,1].hist(true_x10_mchmc, bins=100, range=[-6,2], alpha = 0.3, label=\"Truth - MCHMC\")\n",
    "axis[1,1].hist(x10_hmc, bins=100, range=[-6,2], alpha = 0.3, label=\"Truth - NUTS\")\n",
    "axis[1,1].legend()\n",
    "axis[1,1].set_yticks([])\n",
    "\n",
    "axis[2,2].hist(theta_mchmc, bins=100, orientation=\"horizontal\", range=[-6, 2], alpha = 0.3)\n",
    "axis[2,2].hist(true_theta_mchmc, bins=100, orientation=\"horizontal\", range=[-6, 2], alpha = 0.3)\n",
    "axis[2,2].hist(theta_hmc, bins=100, orientation=\"horizontal\", range=[-4, 2], alpha = 0.3)\n",
    "axis[2,2].set_xticks([])\n",
    "axis[2,2].set_yticks([])\n",
    "\n",
    "axis[2,1].hist2d(x10_hmc, theta_hmc, bins=100, range=[[-6,2],[-4, 2]])\n",
    "axis[2,1].set_xlabel(\"x10\")\n",
    "axis[2,1].set_ylabel(\"theta\");"
   ]
  },
  {
   "cell_type": "code",
   "execution_count": null,
   "id": "e3a49e5b",
   "metadata": {},
   "outputs": [],
   "source": []
  }
 ],
 "metadata": {
  "kernelspec": {
   "display_name": "Julia 1.9.0-rc1",
   "language": "julia",
   "name": "julia-1.9"
  },
  "language_info": {
   "file_extension": ".jl",
   "mimetype": "application/julia",
   "name": "julia",
   "version": "1.9.0"
  }
 },
 "nbformat": 4,
 "nbformat_minor": 5
}
