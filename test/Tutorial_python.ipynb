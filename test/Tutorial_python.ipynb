{
 "cells": [
  {
   "cell_type": "code",
   "execution_count": 1,
   "id": "b882ff9f",
   "metadata": {},
   "outputs": [],
   "source": [
    "import numpy as np\n",
    "import matplotlib.pyplot as plt\n",
    "from scipy.stats import norm\n"
   ]
  },
  {
   "cell_type": "code",
   "execution_count": 2,
   "id": "91409486",
   "metadata": {},
   "outputs": [],
   "source": [
    "\n",
    "class StandardGaussian():\n",
    "  \n",
    "  def __init__(self, d):\n",
    "    self.d = d\n",
    "  \n",
    "  def nlogp(self, x):\n",
    "     return 0.5 * np.sum(x**2)\n",
    "\n",
    "  def grad_nlogp(self, x):\n",
    "     return x\n",
    "\n",
    "  def transform(self, x):\n",
    "    return x[:2] \n",
    "\n",
    "  def prior_draw(self):\n",
    "    \"\"\"Args: jax random key\n",
    "       Returns: one random sample from the prior\"\"\"\n",
    "\n",
    "    return np.random.normal(size=self.d) * 4"
   ]
  },
  {
   "cell_type": "code",
   "execution_count": 3,
   "id": "0517478f",
   "metadata": {},
   "outputs": [],
   "source": [
    "target = StandardGaussian(d=1000)"
   ]
  },
  {
   "cell_type": "code",
   "execution_count": 18,
   "id": "f4e41884",
   "metadata": {},
   "outputs": [],
   "source": [
    "lambda_c = 0.1931833275037836 #critical value of the lambda parameter for the minimal norm integrator\n",
    "\n",
    "\n",
    "class Sampler:\n",
    "    \"\"\"essentials of the MCHMC (q = 0 Hamiltonian) sampler\"\"\"\n",
    "\n",
    "    def __init__(self, Target, L = None, eps = None, integrator = 'LF'):\n",
    "        \"\"\"Args:\n",
    "                Target: the target distribution class\n",
    "                L: momentum decoherence scale\n",
    "                eps: integration step-size\n",
    "                integrator: 'LF' (leapfrog) or 'MN' (minimal norm). Typically MN performs better.\n",
    "        \"\"\"\n",
    "\n",
    "        self.Target = Target\n",
    "\n",
    "        ### integrator ###\n",
    "        if integrator == \"LF\":  # leapfrog\n",
    "            self.hamiltonian_dynamics = self.leapfrog\n",
    "            self.grad_evals_per_step = 1.0\n",
    "        elif integrator == 'MN':  # minimal norm integrator\n",
    "            self.hamiltonian_dynamics = self.minimal_norm\n",
    "            self.grad_evals_per_step = 2.0\n",
    "        else:\n",
    "            print('integrator = ' + integrator + 'is not a valid option.')\n",
    "\n",
    "\n",
    "        if (not (L is None)) and (not (eps is None)):\n",
    "            self.set_hyperparameters(L, eps)\n",
    "\n",
    "\n",
    "\n",
    "    def set_hyperparameters(self, L, eps):\n",
    "        self.L = L\n",
    "        self.eps= eps\n",
    "        self.nu = np.sqrt((np.exp(2 * self.eps / L) - 1.0) / self.Target.d)\n",
    "\n",
    "\n",
    "\n",
    "    def random_unit_vector(self):\n",
    "        \"\"\"Generates a random (isotropic) unit vector.\"\"\"\n",
    "        u = np.random.normal(size=self.Target.d)\n",
    "        u /= np.sqrt(np.sum(np.square(u)))\n",
    "        return u\n",
    "\n",
    "\n",
    "    def partially_refresh_momentum(self, u):\n",
    "        \"\"\"Adds a small noise to u and normalizes.\"\"\"\n",
    "        z = self.nu * np.random.normal(size=self.Target.d)\n",
    "\n",
    "        return (u + z) / np.sqrt(np.sum(np.square(u + z)))\n",
    "\n",
    "\n",
    "    def update_momentum(self, eps, g, u):\n",
    "        \"\"\"The momentum updating map of the ESH dynamics (see https://arxiv.org/pdf/2111.02434.pdf)\"\"\"\n",
    "        g_norm = np.sqrt(np.sum(np.square(g)))\n",
    "        e = - g / g_norm\n",
    "        ue = np.dot(u, e)\n",
    "        sh = np.sinh(eps * g_norm / self.Target.d)\n",
    "        ch = np.cosh(eps * g_norm / self.Target.d)\n",
    "\n",
    "        return (u + e * (sh + ue * (ch - 1))) / (ch + ue * sh)\n",
    "\n",
    "\n",
    "    def leapfrog(self, x, g, u):\n",
    "        \"\"\"leapfrog\"\"\"\n",
    "\n",
    "        #half step in momentum\n",
    "        uu = self.update_momentum(self.eps * 0.5, g, u)\n",
    "        print(uu)\n",
    "\n",
    "        #full step in x\n",
    "        xx = x + self.eps * uu\n",
    "        print(xx)\n",
    "        gg = self.Target.grad_nlogp(xx) * self.Target.d / (self.Target.d - 1)\n",
    "\n",
    "        #half step in momentum\n",
    "        uu = self.update_momentum(self.eps * 0.5, gg, uu)\n",
    "\n",
    "        return xx, gg, uu\n",
    "\n",
    "\n",
    "\n",
    "    def minimal_norm(self, x, g, u):\n",
    "        \"\"\"Integrator from https://arxiv.org/pdf/hep-lat/0505020.pdf, see Equation 20.\"\"\"\n",
    "\n",
    "        # V T V T V\n",
    "\n",
    "        uu = self.update_momentum(self.eps * lambda_c, g, u)\n",
    "\n",
    "        xx = x + self.eps * 0.5 * uu\n",
    "        gg = self.Target.grad_nlogp(xx) * self.Target.d / (self.Target.d - 1)\n",
    "\n",
    "        uu = self.update_momentum(self.eps * (1 - 2 * lambda_c), gg, uu)\n",
    "\n",
    "        xx = xx + self.eps * 0.5 * uu\n",
    "        gg = self.Target.grad_nlogp(xx) * self.Target.d / (self.Target.d - 1)\n",
    "\n",
    "        uu = self.update_momentum(self.eps * lambda_c, gg, uu)\n",
    "\n",
    "        return xx, gg, uu\n",
    "\n",
    "\n",
    "\n",
    "    def dynamics(self, state):\n",
    "        \"\"\"One step of the Langevin-like dynamics.\"\"\"\n",
    "\n",
    "        x, u, g, time = state\n",
    "\n",
    "        # Hamiltonian step\n",
    "        xx, gg, uu = self.hamiltonian_dynamics(x, g, u)\n",
    "\n",
    "        # add noise to the momentum direction\n",
    "        uu = self.partially_refresh_momentum(uu)\n",
    "\n",
    "        return xx, uu, gg, 0.0\n",
    "\n",
    "\n",
    "\n",
    "    def get_initial_conditions(self, x_initial):\n",
    "\n",
    "        ### initial conditions ###\n",
    "        if isinstance(x_initial, str):\n",
    "            if x_initial == 'prior':  # draw the initial x from the prior\n",
    "                x = self.Target.prior_draw()\n",
    "            else:  # if not 'prior' the x_initial should specify the initial condition\n",
    "                raise KeyError(\n",
    "                    'x_initial = \"' + x_initial + '\" is not a valid argument. \\nIf you want to draw initial condition from a prior use x_initial = \"prior\", otherwise specify the initial condition with an array')\n",
    "        else: #initial x is given\n",
    "            x = x_initial\n",
    "\n",
    "        g = self.Target.grad_nlogp(x) * self.Target.d / (self.Target.d - 1)\n",
    "\n",
    "        u = self.random_unit_vector() #random initial direction\n",
    "        #u = - g / jnp.sqrt(jnp.sum(jnp.square(g))) #initialize momentum in the direction of the gradient of log p\n",
    "        time = 0.0 \n",
    "        \n",
    "        return [x, u, g, time]\n",
    "\n",
    "\n",
    "\n",
    "    def sample(self, num_steps, x_initial = 'prior'):\n",
    "        \"\"\"Args:\n",
    "               num_steps: number of integration steps to take.\n",
    "               x_initial: initial condition for x (an array of shape (target dimension, )). It can also be 'prior' in which case it is drawn from the prior distribution (self.Target.prior_draw).\n",
    "               random_key: jax radnom seed, e.g. jax.random.PRNGKey(42).\n",
    "            Returns:\n",
    "                samples (shape = (num_steps, self.Target.d))\n",
    "        \"\"\"\n",
    "\n",
    "        def step(state):\n",
    "            \"\"\"Tracks transform(x) as a function of number of iterations\"\"\"\n",
    "\n",
    "            x, u, g, time = self.dynamics(state)\n",
    "\n",
    "            return (x, u, g, time), self.Target.transform(x)\n",
    "\n",
    "\n",
    "        state = self.get_initial_conditions(x_initial)\n",
    "        \n",
    "        samples = []\n",
    "        for i in np.arange(num_steps):\n",
    "            state, sample = step(state)\n",
    "            samples.append(sample)\n",
    "\n",
    "        return samples"
   ]
  },
  {
   "cell_type": "code",
   "execution_count": 19,
   "id": "3b705d99",
   "metadata": {},
   "outputs": [],
   "source": [
    "ssampler = Sampler(target, eps=46.29590735246731, L=21.807931325769687)"
   ]
  },
  {
   "cell_type": "code",
   "execution_count": 20,
   "id": "fa6f686a",
   "metadata": {},
   "outputs": [
    {
     "name": "stdout",
     "output_type": "stream",
     "text": [
      "0.09770782608873095\n",
      "4.623472464214876\n"
     ]
    },
    {
     "data": {
      "text/plain": [
       "(4.623472464214876, 4.628100564779656, -0.009110253066119494)"
      ]
     },
     "execution_count": 20,
     "metadata": {},
     "output_type": "execute_result"
    }
   ],
   "source": [
    "ssampler.leapfrog(0.1, 0.1, 0.1)"
   ]
  },
  {
   "cell_type": "code",
   "execution_count": 6,
   "id": "1fc8b08d",
   "metadata": {},
   "outputs": [],
   "source": [
    "samples = ssampler.sample(5000)"
   ]
  },
  {
   "cell_type": "code",
   "execution_count": 7,
   "id": "93ed010e",
   "metadata": {},
   "outputs": [
    {
     "data": {
      "image/png": "[encoded data removed]",
      "text/plain": [
       "<Figure size 640x480 with 1 Axes>"
      ]
     },
     "metadata": {},
     "output_type": "display_data"
    }
   ],
   "source": [
    "plt.hist(np.transpose(samples)[0], bins = 50, density = True, label = 'MCHMC')\n",
    "t = np.linspace(-4, 4, 100)\n",
    "plt.plot(t, norm.pdf(t), color = 'black', label = 'ground truth')\n",
    "\n",
    "plt.xlabel(r'', fontsize = 15)\n",
    "plt.ylabel('density', fontsize = 15)\n",
    "plt.legend(fontsize = 13)\n",
    "plt.show()\n",
    "     "
   ]
  },
  {
   "cell_type": "code",
   "execution_count": null,
   "id": "2a701809",
   "metadata": {},
   "outputs": [],
   "source": []
  }
 ],
 "metadata": {
  "kernelspec": {
   "display_name": "Python 3 (ipykernel)",
   "language": "python",
   "name": "python3"
  },
  "language_info": {
   "codemirror_mode": {
    "name": "ipython",
    "version": 3
   },
   "file_extension": ".py",
   "mimetype": "text/x-python",
   "name": "python",
   "nbconvert_exporter": "python",
   "pygments_lexer": "ipython3",
   "version": "3.8.10"
  }
 },
 "nbformat": 4,
 "nbformat_minor": 5
}
