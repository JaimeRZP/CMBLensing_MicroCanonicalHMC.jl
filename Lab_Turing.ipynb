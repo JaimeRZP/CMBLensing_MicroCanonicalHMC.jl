{
 "cells": [
  {
   "cell_type": "markdown",
   "id": "91129cb1",
   "metadata": {},
   "source": [
    "# Turing Target Practice"
   ]
  },
  {
   "cell_type": "markdown",
   "id": "97121235",
   "metadata": {},
   "source": [
    "## Model"
   ]
  },
  {
   "cell_type": "code",
   "execution_count": 1,
   "id": "86b96c9e",
   "metadata": {},
   "outputs": [
    {
     "name": "stderr",
     "output_type": "stream",
     "text": [
      "\u001b[32m\u001b[1m  Activating\u001b[22m\u001b[39m project at `~/PhD/MicroCanonicalHMC.jl`\n"
     ]
    }
   ],
   "source": [
    "] activate \".\""
   ]
  },
  {
   "cell_type": "code",
   "execution_count": 2,
   "id": "baed58e3",
   "metadata": {},
   "outputs": [],
   "source": [
    "# The statistical inference frame-work we will use\n",
    "using Turing\n",
    "using Interpolations\n",
    "using ForwardDiff\n",
    "using LinearAlgebra\n",
    "#using StatsPlots\n",
    "using PyPlot\n",
    "using Distributed\n",
    "\n",
    "using Revise\n",
    "using MicroCanonicalHMC"
   ]
  },
  {
   "cell_type": "code",
   "execution_count": 3,
   "id": "a7d6f81c",
   "metadata": {},
   "outputs": [],
   "source": [
    "fs8_zs = [0.38, 0.51, 0.61, 1.48, 0.44, 0.6, 0.73, 0.6, 0.86, 0.067, 1.4]\n",
    "fs8_data = [0.49749, 0.457523, 0.436148, 0.462, 0.413, 0.39, 0.437, 0.55, 0.4, 0.423, 0.482]\n",
    "fs8_cov = [0.00203355 0.000811829 0.000264615 0.0 0.0 0.0 0.0 0.0 0.0 0.0 0.0;\n",
    "           0.000811829 0.00142289 0.000662824 0.0 0.0 0.0 0.0 0.0 0.0 0.0 0.0; \n",
    "           0.000264615 0.000662824 0.00118576 0.0 0.0 0.0 0.0 0.0 0.0 0.0 0.0;\n",
    "           0.0 0.0 0.0 0.002025 0.0 0.0 0.0 0.0 0.0 0.0 0.0;\n",
    "           0.0 0.0 0.0 0.0 0.0064 0.00257 0.0 0.0 0.0 0.0 0.0;\n",
    "           0.0 0.0 0.0 0.0 0.00257 0.003969 0.00254 0.0 0.0 0.0 0.0;\n",
    "           0.0 0.0 0.0 0.0 0.0 0.00254 0.005184 0.0 0.0 0.0 0.0;\n",
    "           0.0 0.0 0.0 0.0 0.0 0.0 0.0 0.0144 0.0 0.0 0.0;\n",
    "           0.0 0.0 0.0 0.0 0.0 0.0 0.0 0.0 0.0121 0.0 0.0; \n",
    "           0.0 0.0 0.0 0.0 0.0 0.0 0.0 0.0 0.0 0.003025 0.0;\n",
    "           0.0 0.0 0.0 0.0 0.0 0.0 0.0 0.0 0.0 0.0 0.013456000000000001];"
   ]
  },
  {
   "cell_type": "code",
   "execution_count": 4,
   "id": "1359a630",
   "metadata": {
    "code_folding": []
   },
   "outputs": [
    {
     "data": {
      "text/plain": [
       "make_fs8 (generic function with 1 method)"
      ]
     },
     "execution_count": 4,
     "metadata": {},
     "output_type": "execute_result"
    }
   ],
   "source": [
    "function make_fs8(Ωm, σ8; Ωr=8.24*10^-5)\n",
    "    # ODE solution for growth factor\n",
    "    x_Dz = LinRange(0, log(1+1100), 300)\n",
    "    dx_Dz = x_Dz[2]-x_Dz[1]\n",
    "    z_Dz = @.(exp(x_Dz) - 1)\n",
    "    a_Dz = @.(1/(1+z_Dz))\n",
    "    aa = reverse(a_Dz)\n",
    "    e =  @.(sqrt.(abs(Ωm)*(1+z_Dz)^3+Ωr*(1+z_Dz)^4+(1-Ωm-Ωr)))\n",
    "    ee = reverse(e)\n",
    "\n",
    "    dd = zeros(typeof(Ωm), 300)\n",
    "    yy = zeros(typeof(Ωm), 300)\n",
    "    dd[1] = aa[1]\n",
    "    yy[1] = aa[1]^3*ee[end]\n",
    "\n",
    "    for i in 1:(300-1)\n",
    "        A0 = -1.5 * Ωm / (aa[i]*ee[i])\n",
    "        B0 = -1. / (aa[i]^2*ee[i])\n",
    "        A1 = -1.5 * Ωm / (aa[i+1]*ee[i+1])\n",
    "        B1 = -1. / (aa[i+1]^2*ee[i+1])\n",
    "        yy[i+1] = (1+0.5*dx_Dz^2*A0*B0)*yy[i] + 0.5*(A0+A1)*dx_Dz*dd[i]\n",
    "        dd[i+1] = 0.5*(B0+B1)*dx_Dz*yy[i] + (1+0.5*dx_Dz^2*A0*B0)*dd[i]\n",
    "    end\n",
    "\n",
    "    y = reverse(yy)\n",
    "    d = reverse(dd)\n",
    "\n",
    "    Dzi = LinearInterpolation(z_Dz, d./d[1], extrapolation_bc=Line())\n",
    "    fs8zi = LinearInterpolation(z_Dz, -σ8 .* y./ (a_Dz.^2 .*e.*d[1]),\n",
    "                                 extrapolation_bc=Line())\n",
    "    return fs8zi\n",
    "end"
   ]
  },
  {
   "cell_type": "code",
   "execution_count": 5,
   "id": "8005e277",
   "metadata": {},
   "outputs": [],
   "source": [
    "@model function model(data; cov = fs8_cov) \n",
    "    # Define priors\n",
    "    #KiDS priors\n",
    "    Ωm  ~ Uniform(0.01, 0.6)\n",
    "    σ8 ~ Normal(0.8, 0.3)\n",
    "    fs8_itp = make_fs8(Ωm, σ8)\n",
    "    theory = fs8_itp(fs8_zs)\n",
    "    data ~ MvNormal(theory, cov)\n",
    "end;"
   ]
  },
  {
   "cell_type": "code",
   "execution_count": 6,
   "id": "1eebe796",
   "metadata": {},
   "outputs": [
    {
     "data": {
      "text/plain": [
       "DynamicPPL.Model{typeof(model), (:data, :cov), (:cov,), (), Tuple{Vector{Float64}, Matrix{Float64}}, Tuple{Matrix{Float64}}, DynamicPPL.DefaultContext}(model, (data = [0.49749, 0.457523, 0.436148, 0.462, 0.413, 0.39, 0.437, 0.55, 0.4, 0.423, 0.482], cov = [0.00203355 0.000811829 … 0.0 0.0; 0.000811829 0.00142289 … 0.0 0.0; … ; 0.0 0.0 … 0.003025 0.0; 0.0 0.0 … 0.0 0.013456000000000001]), (cov = [0.00203355 0.000811829 … 0.0 0.0; 0.000811829 0.00142289 … 0.0 0.0; … ; 0.0 0.0 … 0.003025 0.0; 0.0 0.0 … 0.0 0.013456000000000001],), DynamicPPL.DefaultContext())"
      ]
     },
     "execution_count": 6,
     "metadata": {},
     "output_type": "execute_result"
    }
   ],
   "source": [
    "stat_model = model(fs8_data)"
   ]
  },
  {
   "cell_type": "markdown",
   "id": "10dfa4cc",
   "metadata": {},
   "source": [
    "## Sampling"
   ]
  },
  {
   "cell_type": "code",
   "execution_count": 7,
   "id": "c8ed14a3",
   "metadata": {},
   "outputs": [],
   "source": [
    "target = TuringTarget(stat_model; compute_MAP=true);"
   ]
  },
  {
   "cell_type": "code",
   "execution_count": 28,
   "id": "82938e27",
   "metadata": {
    "scrolled": false
   },
   "outputs": [
    {
     "name": "stderr",
     "output_type": "stream",
     "text": [
      "\u001b[36m\u001b[1m[ \u001b[22m\u001b[39m\u001b[36m\u001b[1mInfo: \u001b[22m\u001b[39mTuning sigma ⏳\n",
      "\u001b[36m\u001b[1m[ \u001b[22m\u001b[39m\u001b[36m\u001b[1mInfo: \u001b[22m\u001b[39mTuning eps ⏳\n",
      "\u001b[36m\u001b[1m[ \u001b[22m\u001b[39m\u001b[36m\u001b[1mInfo: \u001b[22m\u001b[39mTuning L ⏳\n",
      "\u001b[36m\u001b[1m[ \u001b[22m\u001b[39m\u001b[36m\u001b[1mInfo: \u001b[22m\u001b[39mFound sigma: [0.45043479852953844, 0.06088870443747075] ✅\n"
     ]
    },
    {
     "name": "stdout",
     "output_type": "stream",
     "text": [
      "eps: 0.5 --> VarE: 2.411619175727793\n",
      "eps: 0.12187414607073878 --> VarE: 0.48096404923506353\n",
      "eps: 0.19967902281931896 --> VarE: 0.8257353265618687\n",
      "eps: 0.23378277882488713 --> VarE: 0.9812257542328465\n",
      "samples: 100--> ESS: 0.019950421684378085\n",
      "samples: 203--> ESS: 0.01394530477389466\n",
      "samples: 310--> ESS: 0.013773159560638779\n",
      "samples: 420--> ESS: 0.013627481259244154\n",
      "samples: 534--> ESS: 0.012467681290836993\n"
     ]
    },
    {
     "name": "stderr",
     "output_type": "stream",
     "text": [
      "\u001b[36m\u001b[1m[ \u001b[22m\u001b[39m\u001b[36m\u001b[1mInfo: \u001b[22m\u001b[39mFound eps: 0.23378277882488713 ✅\n"
     ]
    },
    {
     "name": "stdout",
     "output_type": "stream",
     "text": [
      "samples: 652--> ESS: 0.011971920081437572\n",
      "samples: 774--> ESS: 0.009185211434796104\n",
      "samples: 900--> ESS: 0.010761631431874051\n",
      "samples: 1030--> ESS: 0.01085802289037258\n"
     ]
    },
    {
     "name": "stderr",
     "output_type": "stream",
     "text": [
      "\u001b[36m\u001b[1m[ \u001b[22m\u001b[39m\u001b[36m\u001b[1mInfo: \u001b[22m\u001b[39mFound L: 8.612351666054193 ✅\n"
     ]
    }
   ],
   "source": [
    "samples_mchmc = Sample(MCHMC(varE_wanted=1.0), target, 100000;\n",
    "                       file_name=\"Turing_sequential_samples.txt\",\n",
    "                       dialog=true);"
   ]
  },
  {
   "cell_type": "code",
   "execution_count": 29,
   "id": "385a8b1a",
   "metadata": {},
   "outputs": [],
   "source": [
    "Wms_mchmc = [sample[1] for sample in samples_mchmc]\n",
    "s8s_mchmc = [sample[2] for sample in samples_mchmc];"
   ]
  },
  {
   "cell_type": "code",
   "execution_count": 30,
   "id": "2a803eb8",
   "metadata": {},
   "outputs": [
    {
     "data": {
      "image/png": "[encoded data removed]",
      "text/plain": [
       "Figure(PyObject <Figure size 640x480 with 1 Axes>)"
      ]
     },
     "metadata": {},
     "output_type": "display_data"
    }
   ],
   "source": [
    "plt.hist2d(Wms_mchmc, s8s_mchmc, bins=100, range=[[0.1, 0.6],[0.6, 1.2]]);\n",
    "plt.xlabel(\"Wm\")\n",
    "plt.ylabel(\"s8\")\n",
    "plt.title(\"MCHMC - RSD model\");"
   ]
  },
  {
   "cell_type": "code",
   "execution_count": 11,
   "id": "ae097bf4",
   "metadata": {
    "scrolled": false
   },
   "outputs": [
    {
     "name": "stderr",
     "output_type": "stream",
     "text": [
      "\u001b[36m\u001b[1m[ \u001b[22m\u001b[39m\u001b[36m\u001b[1mInfo: \u001b[22m\u001b[39mBurn-in started ⏳\n",
      "\u001b[36m\u001b[1m[ \u001b[22m\u001b[39m\u001b[36m\u001b[1mInfo: \u001b[22m\u001b[39mTuning sigma ⏳\n",
      "\u001b[36m\u001b[1m[ \u001b[22m\u001b[39m\u001b[36m\u001b[1mInfo: \u001b[22m\u001b[39mTuning eps ⏳\n",
      "\u001b[36m\u001b[1m[ \u001b[22m\u001b[39m\u001b[36m\u001b[1mInfo: \u001b[22m\u001b[39mTuning L ⏳\n",
      "\u001b[33m\u001b[1m┌ \u001b[22m\u001b[39m\u001b[33m\u001b[1mWarning: \u001b[22m\u001b[39mL-tuning not Implemented\n",
      "\u001b[33m\u001b[1m└ \u001b[22m\u001b[39m\u001b[90m@ MicroCanonicalHMC ~/PhD/MicroCanonicalHMC.jl/src/ensemble/tuning.jl:41\u001b[39m\n",
      "\u001b[36m\u001b[1m[ \u001b[22m\u001b[39m\u001b[36m\u001b[1mInfo: \u001b[22m\u001b[39mFound L: 1.4142135623730951 ✅\n"
     ]
    },
    {
     "name": "stdout",
     "output_type": "stream",
     "text": [
      "eps: 0.5 --> VarE: 0.628310004342981\n",
      "eps: 0.43979033152484676 --> VarE: 0.5455503867318677\n"
     ]
    },
    {
     "name": "stderr",
     "output_type": "stream",
     "text": [
      "\u001b[36m\u001b[1m[ \u001b[22m\u001b[39m\u001b[36m\u001b[1mInfo: \u001b[22m\u001b[39mVarE condition met during eps tuning at step: 2\n",
      "\u001b[36m\u001b[1m[ \u001b[22m\u001b[39m\u001b[36m\u001b[1mInfo: \u001b[22m\u001b[39mFound eps: 0.43979033152484676 ✅\n"
     ]
    },
    {
     "name": "stdout",
     "output_type": "stream",
     "text": [
      "Initial Virial loss: 1160.7102865139523\n",
      "Initial sigma: [2.1061266701625323, 0.28924024588701985]\n",
      "Virial loss: 16.893237429578598 --> Relative improvement: 0.504149255845125\n",
      "Sigma --> [1.9852141272859383, 0.2578973320868994]\n",
      "Virial loss: 13.189572126539028 --> Relative improvement: 0.21923952223359933\n",
      "Sigma --> [1.8787958254251818, 0.2343133746552252]\n",
      "Virial loss: 15.008488587921795 --> Relative improvement: 0.13790564575805186\n",
      "Sigma --> [1.7940050735682846, 0.21453868301538365]\n",
      "Virial loss: 7.109069430587113 --> Relative improvement: 0.5263300905390169\n",
      "Sigma --> [1.7032808496836291, 0.19982400688603505]\n",
      "Virial loss: 3.983761027044451 --> Relative improvement: 0.43962271490778704\n",
      "Sigma --> [1.6296766704851182, 0.18679562378159673]\n",
      "Virial loss: 2.680055306568119 --> Relative improvement: 0.32725500139840213\n",
      "Sigma --> [1.5599731887265431, 0.17649057728182685]\n",
      "Virial loss: 5.3437141860210335 --> Relative improvement: 0.993882056435544\n",
      "Sigma --> [1.4979541095739874, 0.16738204652533054]\n",
      "Virial loss: 1.9382819944111063 --> Relative improvement: 0.6372781314761213\n",
      "Sigma --> [1.4385974553212644, 0.15994384725200286]\n",
      "Virial loss: 3.887508872680436 --> Relative improvement: 1.0056466932519532\n",
      "Sigma --> [1.3853918140969643, 0.1535540014018103]\n",
      "Virial loss: 3.6748626969958327 --> Relative improvement: 0.05469985603865224\n",
      "Sigma --> [1.3380455399070184, 0.14813833600110876]\n",
      "Virial loss: 4.019973068022571 --> Relative improvement: 0.0939110925991502\n",
      "Sigma --> [1.2963837663236095, 0.1434374104709325]\n",
      "Virial loss: 4.4008437143513115 --> Relative improvement: 0.09474457661381575\n",
      "Sigma --> [1.2590802869092803, 0.13955226291134462]\n",
      "Virial loss: 2.802193727404318 --> Relative improvement: 0.36325988621993954\n",
      "Sigma --> [1.2276946167622358, 0.13609531891291696]\n",
      "Virial loss: 11.358252029433402 --> Relative improvement: 3.053342892875073\n",
      "Sigma --> [1.1964900514707026, 0.13315043349305483]\n",
      "Virial loss: 1.8436901397669694 --> Relative improvement: 0.8376783562304049\n",
      "Sigma --> [1.168260611215441, 0.12998421706297045]\n",
      "Virial loss: 3.313733528391514 --> Relative improvement: 0.7973375552197446\n",
      "Sigma --> [1.1399303254671929, 0.1269056045170712]\n",
      "Virial loss: 0.9055114795702872 --> Relative improvement: 0.7267398021560827\n",
      "Sigma --> [1.113279435119296, 0.12405173345167869]\n"
     ]
    },
    {
     "name": "stderr",
     "output_type": "stream",
     "text": [
      "\u001b[36m\u001b[1m[ \u001b[22m\u001b[39m\u001b[36m\u001b[1mInfo: \u001b[22m\u001b[39mVirial loss condition met during burn-in at step: 18\n",
      "\u001b[36m\u001b[1m[ \u001b[22m\u001b[39m\u001b[36m\u001b[1mInfo: \u001b[22m\u001b[39mFound sigma: [1.113279435119296, 0.12405173345167869] ✅\n"
     ]
    },
    {
     "name": "stdout",
     "output_type": "stream",
     "text": [
      "eps: 0.43979033152484676 --> VarE: 0.040317181864885775\n",
      "eps: 0.4440694247303818 --> VarE: 0.054238853147519535\n"
     ]
    },
    {
     "name": "stderr",
     "output_type": "stream",
     "text": [
      "\u001b[36m\u001b[1m[ \u001b[22m\u001b[39m\u001b[36m\u001b[1mInfo: \u001b[22m\u001b[39mVarE condition met during eps tuning at step: 2\n",
      "\u001b[36m\u001b[1m[ \u001b[22m\u001b[39m\u001b[36m\u001b[1mInfo: \u001b[22m\u001b[39mFound eps: 0.4440694247303818 ✅\n"
     ]
    }
   ],
   "source": [
    "samples_ensemble_mchmc = Sample(MCHMC(100; varE_wanted=0.05), target, 1000, 100;\n",
    "   monitor_energy=true, \n",
    "   dialog=true);"
   ]
  },
  {
   "cell_type": "code",
   "execution_count": 12,
   "id": "197541d7",
   "metadata": {},
   "outputs": [],
   "source": [
    "Wms_ensemble_mchmc = [sample[1] for sample in samples_ensemble_mchmc]\n",
    "s8s_ensemble_mchmc = [sample[2] for sample in samples_ensemble_mchmc];"
   ]
  },
  {
   "cell_type": "code",
   "execution_count": 13,
   "id": "654b0195",
   "metadata": {},
   "outputs": [
    {
     "data": {
      "image/png": "[encoded data removed]",
      "text/plain": [
       "Figure(PyObject <Figure size 640x480 with 1 Axes>)"
      ]
     },
     "metadata": {},
     "output_type": "display_data"
    }
   ],
   "source": [
    "plt.hist2d(Wms_ensemble_mchmc, s8s_ensemble_mchmc, bins=100, range=[[0.1, 0.6],[0.6, 1.2]]);\n",
    "plt.xlabel(\"Wm\")\n",
    "plt.ylabel(\"s8\")\n",
    "plt.title(\"Ensemble MCHMC - RSD model\");"
   ]
  },
  {
   "cell_type": "markdown",
   "id": "b9b6311f",
   "metadata": {},
   "source": [
    "##  AbstractMCMC"
   ]
  },
  {
   "cell_type": "code",
   "execution_count": 14,
   "id": "d569b9dc",
   "metadata": {},
   "outputs": [
    {
     "name": "stderr",
     "output_type": "stream",
     "text": [
      "\u001b[36m\u001b[1m[ \u001b[22m\u001b[39m\u001b[36m\u001b[1mInfo: \u001b[22m\u001b[39mTuning sigma ⏳\n",
      "\u001b[36m\u001b[1m[ \u001b[22m\u001b[39m\u001b[36m\u001b[1mInfo: \u001b[22m\u001b[39mTuning eps ⏳\n",
      "\u001b[36m\u001b[1m[ \u001b[22m\u001b[39m\u001b[36m\u001b[1mInfo: \u001b[22m\u001b[39mTuning L ⏳\n"
     ]
    },
    {
     "ename": "LoadError",
     "evalue": "DomainError with -0.33934227649544785:\nsqrt will only return a complex result if called with a complex argument. Try sqrt(Complex(x)).",
     "output_type": "error",
     "traceback": [
      "DomainError with -0.33934227649544785:\nsqrt will only return a complex result if called with a complex argument. Try sqrt(Complex(x)).",
      "",
      "Stacktrace:",
      "  [1] throw_complex_domainerror(f::Symbol, x::Float64)",
      "    @ Base.Math ./math.jl:33",
      "  [2] sqrt",
      "    @ ./math.jl:677 [inlined]",
      "  [3] _broadcast_getindex_evalf",
      "    @ ./broadcast.jl:683 [inlined]",
      "  [4] _broadcast_getindex",
      "    @ ./broadcast.jl:656 [inlined]",
      "  [5] getindex",
      "    @ ./broadcast.jl:610 [inlined]",
      "  [6] macro expansion",
      "    @ ./broadcast.jl:974 [inlined]",
      "  [7] macro expansion",
      "    @ ./simdloop.jl:77 [inlined]",
      "  [8] copyto!",
      "    @ ./broadcast.jl:973 [inlined]",
      "  [9] copyto!",
      "    @ ./broadcast.jl:926 [inlined]",
      " [10] copy",
      "    @ ./broadcast.jl:898 [inlined]",
      " [11] materialize(bc::Base.Broadcast.Broadcasted{Base.Broadcast.DefaultArrayStyle{1}, Nothing, typeof(sqrt), Tuple{Vector{Float64}}})",
      "    @ Base.Broadcast ./broadcast.jl:873",
      " [12] tune_sigma!(sampler::MicroCanonicalHMC.Sampler, target::TuringTarget; kwargs::Base.Pairs{Symbol, Bool, Tuple{Symbol}, NamedTuple{(:dialog,), Tuple{Bool}}})",
      "    @ MicroCanonicalHMC ~/PhD/MicroCanonicalHMC.jl/src/tuning.jl:89",
      " [13] tune_sigma!",
      "    @ ~/PhD/MicroCanonicalHMC.jl/src/tuning.jl:83 [inlined]",
      " [14] tune_hyperparameters(sampler::MicroCanonicalHMC.Sampler, target::TuringTarget, init::Tuple{Vector{Float64}, Vector{Float64}, Float64, Vector{Float64}, Float64}; kwargs::Base.Pairs{Symbol, Bool, Tuple{Symbol}, NamedTuple{(:dialog,), Tuple{Bool}}})",
      "    @ MicroCanonicalHMC ~/PhD/MicroCanonicalHMC.jl/src/tuning.jl:155",
      " [15] sample(model::DynamicPPL.Model{typeof(model), (:data, :cov), (:cov,), (), Tuple{Vector{Float64}, Matrix{Float64}}, Tuple{Matrix{Float64}}, DynamicPPL.DefaultContext}, sampler::MicroCanonicalHMC.Sampler, N::Int64; resume_from::Nothing, kwargs::Base.Pairs{Symbol, Bool, Tuple{Symbol}, NamedTuple{(:dialog,), Tuple{Bool}}})",
      "    @ MicroCanonicalHMC ~/PhD/MicroCanonicalHMC.jl/src/abstractmcmc.jl:18",
      " [16] top-level scope",
      "    @ In[14]:1"
     ]
    }
   ],
   "source": [
    "samples = sample(\n",
    "    stat_model, MCHMC(varE_wanted=2.0), 10000;\n",
    "    dialog=true)"
   ]
  },
  {
   "cell_type": "code",
   "execution_count": 15,
   "id": "eea6e813",
   "metadata": {},
   "outputs": [
    {
     "ename": "LoadError",
     "evalue": "UndefVarError: `samples` not defined",
     "output_type": "error",
     "traceback": [
      "UndefVarError: `samples` not defined",
      "",
      "Stacktrace:",
      " [1] top-level scope",
      "   @ In[15]:1"
     ]
    }
   ],
   "source": [
    "new_samples = sample(stat_model, MCHMC(varE_wanted=2.0), 10000; \n",
    "                     monitor_energy=true, \n",
    "                     progress=true, resume_from=samples)"
   ]
  },
  {
   "cell_type": "markdown",
   "id": "f7fdb382",
   "metadata": {},
   "source": [
    "## Ensemble AbstractMCMC"
   ]
  },
  {
   "cell_type": "code",
   "execution_count": 16,
   "id": "16856966",
   "metadata": {
    "scrolled": false
   },
   "outputs": [
    {
     "name": "stderr",
     "output_type": "stream",
     "text": [
      "\u001b[36m\u001b[1m[ \u001b[22m\u001b[39m\u001b[36m\u001b[1mInfo: \u001b[22m\u001b[39mBurn-in started ⏳\n",
      "\u001b[36m\u001b[1m[ \u001b[22m\u001b[39m\u001b[36m\u001b[1mInfo: \u001b[22m\u001b[39mTuning sigma ⏳\n",
      "\u001b[36m\u001b[1m[ \u001b[22m\u001b[39m\u001b[36m\u001b[1mInfo: \u001b[22m\u001b[39mTuning eps ⏳\n",
      "\u001b[36m\u001b[1m[ \u001b[22m\u001b[39m\u001b[36m\u001b[1mInfo: \u001b[22m\u001b[39mTuning L ⏳\n",
      "\u001b[33m\u001b[1m┌ \u001b[22m\u001b[39m\u001b[33m\u001b[1mWarning: \u001b[22m\u001b[39mL-tuning not Implemented\n",
      "\u001b[33m\u001b[1m└ \u001b[22m\u001b[39m\u001b[90m@ MicroCanonicalHMC ~/PhD/MicroCanonicalHMC.jl/src/ensemble/tuning.jl:41\u001b[39m\n",
      "\u001b[36m\u001b[1m[ \u001b[22m\u001b[39m\u001b[36m\u001b[1mInfo: \u001b[22m\u001b[39mFound L: 1.4142135623730951 ✅\n",
      "\u001b[36m\u001b[1m[ \u001b[22m\u001b[39m\u001b[36m\u001b[1mInfo: \u001b[22m\u001b[39mVarE condition met during eps tuning at step: 8\n",
      "\u001b[36m\u001b[1m[ \u001b[22m\u001b[39m\u001b[36m\u001b[1mInfo: \u001b[22m\u001b[39mFound eps: 0.00962548494465816 ✅\n",
      "\u001b[36m\u001b[1m[ \u001b[22m\u001b[39m\u001b[36m\u001b[1mInfo: \u001b[22m\u001b[39mVirial loss condition met during burn-in at step: 59\n",
      "\u001b[36m\u001b[1m[ \u001b[22m\u001b[39m\u001b[36m\u001b[1mInfo: \u001b[22m\u001b[39mFound sigma: [1.5820812735425096, 0.26262702950046973] ✅\n",
      "\u001b[33m\u001b[1m┌ \u001b[22m\u001b[39m\u001b[33m\u001b[1mWarning: \u001b[22m\u001b[39mMaximum number of steps reached during eps tuning\n",
      "\u001b[33m\u001b[1m└ \u001b[22m\u001b[39m\u001b[90m@ MicroCanonicalHMC ~/PhD/MicroCanonicalHMC.jl/src/ensemble/tuning.jl:214\u001b[39m\n",
      "\u001b[36m\u001b[1m[ \u001b[22m\u001b[39m\u001b[36m\u001b[1mInfo: \u001b[22m\u001b[39mFound eps: 0.019254117327168124 ✅\n",
      "\u001b[32mChain 1: 100%|██████████████████████████████████████████| Time: 0:00:03\u001b[39m\n"
     ]
    },
    {
     "data": {
      "text/plain": [
       "Chains MCMC chain (100000×4×1 Array{Float64, 3}):\n",
       "\n",
       "Iterations        = 1:1:100000\n",
       "Number of chains  = 1\n",
       "Samples per chain = 100000\n",
       "Wall duration     = 5.13 seconds\n",
       "Compute duration  = 5.13 seconds\n",
       "parameters        = Ωm, σ8\n",
       "internals         = E, logp\n",
       "\n",
       "Summary Statistics\n",
       " \u001b[1m parameters \u001b[0m \u001b[1m    mean \u001b[0m \u001b[1m     std \u001b[0m \u001b[1m naive_se \u001b[0m \u001b[1m    mcse \u001b[0m \u001b[1m      ess \u001b[0m \u001b[1m    rhat \u001b[0m \u001b[1m e\u001b[0m ⋯\n",
       " \u001b[90m     Symbol \u001b[0m \u001b[90m Float64 \u001b[0m \u001b[90m Float64 \u001b[0m \u001b[90m  Float64 \u001b[0m \u001b[90m Float64 \u001b[0m \u001b[90m  Float64 \u001b[0m \u001b[90m Float64 \u001b[0m \u001b[90m  \u001b[0m ⋯\n",
       "\n",
       "          Ωm    0.2678    0.1449     0.0005    0.0076   235.5380    1.0185     ⋯\n",
       "          σ8    0.8163    0.2213     0.0007    0.0117   230.5036    1.0057     ⋯\n",
       "\u001b[36m                                                                1 column omitted\u001b[0m\n",
       "\n",
       "Quantiles\n",
       " \u001b[1m parameters \u001b[0m \u001b[1m    2.5% \u001b[0m \u001b[1m   25.0% \u001b[0m \u001b[1m   50.0% \u001b[0m \u001b[1m   75.0% \u001b[0m \u001b[1m   97.5% \u001b[0m\n",
       " \u001b[90m     Symbol \u001b[0m \u001b[90m Float64 \u001b[0m \u001b[90m Float64 \u001b[0m \u001b[90m Float64 \u001b[0m \u001b[90m Float64 \u001b[0m \u001b[90m Float64 \u001b[0m\n",
       "\n",
       "          Ωm    0.0688    0.1535    0.2291    0.3808    0.5843\n",
       "          σ8    0.3580    0.6877    0.8144    0.9236    1.4486\n"
      ]
     },
     "execution_count": 16,
     "metadata": {},
     "output_type": "execute_result"
    }
   ],
   "source": [
    "samples = sample(stat_model, MCHMC(100), 1000, 100)"
   ]
  },
  {
   "cell_type": "code",
   "execution_count": 17,
   "id": "603dfac8",
   "metadata": {},
   "outputs": [
    {
     "name": "stderr",
     "output_type": "stream",
     "text": [
      "\u001b[36m\u001b[1m[ \u001b[22m\u001b[39m\u001b[36m\u001b[1mInfo: \u001b[22m\u001b[39mStarting from previous run\n",
      "\u001b[32mChain 1: 100%|██████████████████████████████████████████| Time: 0:00:02\u001b[39m\n"
     ]
    },
    {
     "data": {
      "text/plain": [
       "Chains MCMC chain (100000×4×1 Array{Float64, 3}):\n",
       "\n",
       "Iterations        = 1:1:100000\n",
       "Number of chains  = 1\n",
       "Samples per chain = 100000\n",
       "Wall duration     = 2.94 seconds\n",
       "Compute duration  = 2.94 seconds\n",
       "parameters        = Ωm, σ8\n",
       "internals         = E, logp\n",
       "\n",
       "Summary Statistics\n",
       " \u001b[1m parameters \u001b[0m \u001b[1m    mean \u001b[0m \u001b[1m     std \u001b[0m \u001b[1m naive_se \u001b[0m \u001b[1m    mcse \u001b[0m \u001b[1m      ess \u001b[0m \u001b[1m    rhat \u001b[0m \u001b[1m e\u001b[0m ⋯\n",
       " \u001b[90m     Symbol \u001b[0m \u001b[90m Float64 \u001b[0m \u001b[90m Float64 \u001b[0m \u001b[90m  Float64 \u001b[0m \u001b[90m Float64 \u001b[0m \u001b[90m  Float64 \u001b[0m \u001b[90m Float64 \u001b[0m \u001b[90m  \u001b[0m ⋯\n",
       "\n",
       "          Ωm    0.2574    0.0716     0.0002    0.0038   224.7342    1.0304     ⋯\n",
       "          σ8    0.8398    0.0539     0.0002    0.0029   222.3429    1.0020     ⋯\n",
       "\u001b[36m                                                                1 column omitted\u001b[0m\n",
       "\n",
       "Quantiles\n",
       " \u001b[1m parameters \u001b[0m \u001b[1m    2.5% \u001b[0m \u001b[1m   25.0% \u001b[0m \u001b[1m   50.0% \u001b[0m \u001b[1m   75.0% \u001b[0m \u001b[1m   97.5% \u001b[0m\n",
       " \u001b[90m     Symbol \u001b[0m \u001b[90m Float64 \u001b[0m \u001b[90m Float64 \u001b[0m \u001b[90m Float64 \u001b[0m \u001b[90m Float64 \u001b[0m \u001b[90m Float64 \u001b[0m\n",
       "\n",
       "          Ωm    0.1474    0.2054    0.2532    0.2971    0.4495\n",
       "          σ8    0.7303    0.8047    0.8395    0.8755    0.9290\n"
      ]
     },
     "execution_count": 17,
     "metadata": {},
     "output_type": "execute_result"
    }
   ],
   "source": [
    "new_samples = sample(stat_model, MCHMC(100), 1000, 100; \n",
    "                     resume_from=samples)"
   ]
  },
  {
   "cell_type": "markdown",
   "id": "767048c5",
   "metadata": {},
   "source": [
    "## Parallelization"
   ]
  },
  {
   "cell_type": "code",
   "execution_count": 18,
   "id": "42cf1f7f",
   "metadata": {
    "scrolled": false
   },
   "outputs": [
    {
     "name": "stderr",
     "output_type": "stream",
     "text": [
      "\u001b[36m\u001b[1m[ \u001b[22m\u001b[39m\u001b[36m\u001b[1mInfo: \u001b[22m\u001b[39mnumber of chains: 4 smaller than number of threads: 10. Increase the number of chains to make full use of your threads.\n",
      "\u001b[36m\u001b[1m[ \u001b[22m\u001b[39m\u001b[36m\u001b[1mInfo: \u001b[22m\u001b[39mTuning sigma ⏳\n",
      "\u001b[36m\u001b[1m[ \u001b[22m\u001b[39m\u001b[36m\u001b[1mInfo: \u001b[22m\u001b[39mTuning sigma ⏳\n",
      "\u001b[36m\u001b[1m[ \u001b[22m\u001b[39m\u001b[36m\u001b[1mInfo: \u001b[22m\u001b[39mTuning sigma ⏳\n",
      "\u001b[36m\u001b[1m[ \u001b[22m\u001b[39m\u001b[36m\u001b[1mInfo: \u001b[22m\u001b[39mTuning sigma ⏳\n",
      "\u001b[36m\u001b[1m[ \u001b[22m\u001b[39m\u001b[36m\u001b[1mInfo: \u001b[22m\u001b[39mTuning eps ⏳\n",
      "\u001b[36m\u001b[1m[ \u001b[22m\u001b[39m\u001b[36m\u001b[1mInfo: \u001b[22m\u001b[39mTuning eps ⏳\n",
      "\u001b[36m\u001b[1m[ \u001b[22m\u001b[39m\u001b[36m\u001b[1mInfo: \u001b[22m\u001b[39mTuning eps ⏳\n",
      "\u001b[36m\u001b[1m[ \u001b[22m\u001b[39m\u001b[36m\u001b[1mInfo: \u001b[22m\u001b[39mTuning eps ⏳\n",
      "\u001b[36m\u001b[1m[ \u001b[22m\u001b[39m\u001b[36m\u001b[1mInfo: \u001b[22m\u001b[39mTuning L ⏳\n",
      "\u001b[36m\u001b[1m[ \u001b[22m\u001b[39m\u001b[36m\u001b[1mInfo: \u001b[22m\u001b[39mTuning L ⏳\n",
      "\u001b[36m\u001b[1m[ \u001b[22m\u001b[39m\u001b[36m\u001b[1mInfo: \u001b[22m\u001b[39mTuning L ⏳\n",
      "\u001b[36m\u001b[1m[ \u001b[22m\u001b[39m\u001b[36m\u001b[1mInfo: \u001b[22m\u001b[39mTuning L ⏳\n"
     ]
    },
    {
     "ename": "LoadError",
     "evalue": "TaskFailedException\n\n\u001b[91m    nested task error: \u001b[39mDomainError with -0.33934227649544785:\n    sqrt will only return a complex result if called with a complex argument. Try sqrt(Complex(x)).\n    Stacktrace:\n      [1] \u001b[0m\u001b[1mthrow_complex_domainerror\u001b[22m\u001b[0m\u001b[1m(\u001b[22m\u001b[90mf\u001b[39m::\u001b[0mSymbol, \u001b[90mx\u001b[39m::\u001b[0mFloat64\u001b[0m\u001b[1m)\u001b[22m\n    \u001b[90m    @\u001b[39m \u001b[90mBase.Math\u001b[39m \u001b[90m./\u001b[39m\u001b[90m\u001b[4mmath.jl:33\u001b[24m\u001b[39m\n      [2] \u001b[0m\u001b[1msqrt\u001b[22m\n    \u001b[90m    @\u001b[39m \u001b[90m./\u001b[39m\u001b[90m\u001b[4mmath.jl:677\u001b[24m\u001b[39m\u001b[90m [inlined]\u001b[39m\n      [3] \u001b[0m\u001b[1m_broadcast_getindex_evalf\u001b[22m\n    \u001b[90m    @\u001b[39m \u001b[90m./\u001b[39m\u001b[90m\u001b[4mbroadcast.jl:683\u001b[24m\u001b[39m\u001b[90m [inlined]\u001b[39m\n      [4] \u001b[0m\u001b[1m_broadcast_getindex\u001b[22m\n    \u001b[90m    @\u001b[39m \u001b[90m./\u001b[39m\u001b[90m\u001b[4mbroadcast.jl:656\u001b[24m\u001b[39m\u001b[90m [inlined]\u001b[39m\n      [5] \u001b[0m\u001b[1mgetindex\u001b[22m\n    \u001b[90m    @\u001b[39m \u001b[90m./\u001b[39m\u001b[90m\u001b[4mbroadcast.jl:610\u001b[24m\u001b[39m\u001b[90m [inlined]\u001b[39m\n      [6] \u001b[0m\u001b[1mmacro expansion\u001b[22m\n    \u001b[90m    @\u001b[39m \u001b[90m./\u001b[39m\u001b[90m\u001b[4mbroadcast.jl:974\u001b[24m\u001b[39m\u001b[90m [inlined]\u001b[39m\n      [7] \u001b[0m\u001b[1mmacro expansion\u001b[22m\n    \u001b[90m    @\u001b[39m \u001b[90m./\u001b[39m\u001b[90m\u001b[4msimdloop.jl:77\u001b[24m\u001b[39m\u001b[90m [inlined]\u001b[39m\n      [8] \u001b[0m\u001b[1mcopyto!\u001b[22m\n    \u001b[90m    @\u001b[39m \u001b[90m./\u001b[39m\u001b[90m\u001b[4mbroadcast.jl:973\u001b[24m\u001b[39m\u001b[90m [inlined]\u001b[39m\n      [9] \u001b[0m\u001b[1mcopyto!\u001b[22m\n    \u001b[90m    @\u001b[39m \u001b[90m./\u001b[39m\u001b[90m\u001b[4mbroadcast.jl:926\u001b[24m\u001b[39m\u001b[90m [inlined]\u001b[39m\n     [10] \u001b[0m\u001b[1mcopy\u001b[22m\n    \u001b[90m    @\u001b[39m \u001b[90m./\u001b[39m\u001b[90m\u001b[4mbroadcast.jl:898\u001b[24m\u001b[39m\u001b[90m [inlined]\u001b[39m\n     [11] \u001b[0m\u001b[1mmaterialize\u001b[22m\u001b[0m\u001b[1m(\u001b[22m\u001b[90mbc\u001b[39m::\u001b[0mBase.Broadcast.Broadcasted\u001b[90m{Base.Broadcast.DefaultArrayStyle{1}, Nothing, typeof(sqrt), Tuple{Vector{Float64}}}\u001b[39m\u001b[0m\u001b[1m)\u001b[22m\n    \u001b[90m    @\u001b[39m \u001b[90mBase.Broadcast\u001b[39m \u001b[90m./\u001b[39m\u001b[90m\u001b[4mbroadcast.jl:873\u001b[24m\u001b[39m\n     [12] \u001b[0m\u001b[1mtune_sigma!\u001b[22m\u001b[0m\u001b[1m(\u001b[22m\u001b[90msampler\u001b[39m::\u001b[0mMicroCanonicalHMC.Sampler, \u001b[90mtarget\u001b[39m::\u001b[0mTuringTarget; \u001b[90mkwargs\u001b[39m::\u001b[0mBase.Pairs\u001b[90m{Symbol, Bool, Tuple{Symbol, Symbol}, NamedTuple{(:monitor_energy, :dialog), Tuple{Bool, Bool}}}\u001b[39m\u001b[0m\u001b[1m)\u001b[22m\n    \u001b[90m    @\u001b[39m \u001b[35mMicroCanonicalHMC\u001b[39m \u001b[90m~/PhD/MicroCanonicalHMC.jl/src/\u001b[39m\u001b[90m\u001b[4mtuning.jl:89\u001b[24m\u001b[39m\n     [13] \u001b[0m\u001b[1mtune_sigma!\u001b[22m\n    \u001b[90m    @\u001b[39m \u001b[90m~/PhD/MicroCanonicalHMC.jl/src/\u001b[39m\u001b[90m\u001b[4mtuning.jl:83\u001b[24m\u001b[39m\u001b[90m [inlined]\u001b[39m\n     [14] \u001b[0m\u001b[1mtune_hyperparameters\u001b[22m\u001b[0m\u001b[1m(\u001b[22m\u001b[90msampler\u001b[39m::\u001b[0mMicroCanonicalHMC.Sampler, \u001b[90mtarget\u001b[39m::\u001b[0mTuringTarget, \u001b[90minit\u001b[39m::\u001b[0mTuple\u001b[90m{Vector{Float64}, Vector{Float64}, Float64, Vector{Float64}, Float64}\u001b[39m; \u001b[90mkwargs\u001b[39m::\u001b[0mBase.Pairs\u001b[90m{Symbol, Bool, Tuple{Symbol, Symbol}, NamedTuple{(:monitor_energy, :dialog), Tuple{Bool, Bool}}}\u001b[39m\u001b[0m\u001b[1m)\u001b[22m\n    \u001b[90m    @\u001b[39m \u001b[35mMicroCanonicalHMC\u001b[39m \u001b[90m~/PhD/MicroCanonicalHMC.jl/src/\u001b[39m\u001b[90m\u001b[4mtuning.jl:155\u001b[24m\u001b[39m\n     [15] \u001b[0m\u001b[1mmacro expansion\u001b[22m\n    \u001b[90m    @\u001b[39m \u001b[90m~/PhD/MicroCanonicalHMC.jl/src/\u001b[39m\u001b[90m\u001b[4mabstractmcmc.jl:220\u001b[24m\u001b[39m\u001b[90m [inlined]\u001b[39m\n     [16] \u001b[0m\u001b[1m(::MicroCanonicalHMC.var\"#902#threadsfor_fun#95\"{MicroCanonicalHMC.var\"#902#threadsfor_fun#84#96\"{Base.Pairs{Symbol, Bool, Tuple{Symbol, Symbol}, NamedTuple{(:monitor_energy, :dialog), Tuple{Bool, Bool}}}, UnitRange{Int64}}})\u001b[22m\u001b[0m\u001b[1m(\u001b[22m\u001b[90mtid\u001b[39m::\u001b[0mInt64; \u001b[90monethread\u001b[39m::\u001b[0mBool\u001b[0m\u001b[1m)\u001b[22m\n    \u001b[90m    @\u001b[39m \u001b[35mMicroCanonicalHMC\u001b[39m \u001b[90m./\u001b[39m\u001b[90m\u001b[4mthreadingconstructs.jl:139\u001b[24m\u001b[39m\n     [17] \u001b[0m\u001b[1m#902#threadsfor_fun\u001b[22m\n    \u001b[90m    @\u001b[39m \u001b[90m./\u001b[39m\u001b[90m\u001b[4mthreadingconstructs.jl:106\u001b[24m\u001b[39m\u001b[90m [inlined]\u001b[39m\n     [18] \u001b[0m\u001b[1m(::Base.Threads.var\"#1#2\"{MicroCanonicalHMC.var\"#902#threadsfor_fun#95\"{MicroCanonicalHMC.var\"#902#threadsfor_fun#84#96\"{Base.Pairs{Symbol, Bool, Tuple{Symbol, Symbol}, NamedTuple{(:monitor_energy, :dialog), Tuple{Bool, Bool}}}, UnitRange{Int64}}}, Int64})\u001b[22m\u001b[0m\u001b[1m(\u001b[22m\u001b[0m\u001b[1m)\u001b[22m\n    \u001b[90m    @\u001b[39m \u001b[90mBase.Threads\u001b[39m \u001b[90m./\u001b[39m\u001b[90m\u001b[4mthreadingconstructs.jl:84\u001b[24m\u001b[39m\n\n...and 3 more exceptions.\n",
     "output_type": "error",
     "traceback": [
      "TaskFailedException\n\n\u001b[91m    nested task error: \u001b[39mDomainError with -0.33934227649544785:\n    sqrt will only return a complex result if called with a complex argument. Try sqrt(Complex(x)).\n    Stacktrace:\n      [1] \u001b[0m\u001b[1mthrow_complex_domainerror\u001b[22m\u001b[0m\u001b[1m(\u001b[22m\u001b[90mf\u001b[39m::\u001b[0mSymbol, \u001b[90mx\u001b[39m::\u001b[0mFloat64\u001b[0m\u001b[1m)\u001b[22m\n    \u001b[90m    @\u001b[39m \u001b[90mBase.Math\u001b[39m \u001b[90m./\u001b[39m\u001b[90m\u001b[4mmath.jl:33\u001b[24m\u001b[39m\n      [2] \u001b[0m\u001b[1msqrt\u001b[22m\n    \u001b[90m    @\u001b[39m \u001b[90m./\u001b[39m\u001b[90m\u001b[4mmath.jl:677\u001b[24m\u001b[39m\u001b[90m [inlined]\u001b[39m\n      [3] \u001b[0m\u001b[1m_broadcast_getindex_evalf\u001b[22m\n    \u001b[90m    @\u001b[39m \u001b[90m./\u001b[39m\u001b[90m\u001b[4mbroadcast.jl:683\u001b[24m\u001b[39m\u001b[90m [inlined]\u001b[39m\n      [4] \u001b[0m\u001b[1m_broadcast_getindex\u001b[22m\n    \u001b[90m    @\u001b[39m \u001b[90m./\u001b[39m\u001b[90m\u001b[4mbroadcast.jl:656\u001b[24m\u001b[39m\u001b[90m [inlined]\u001b[39m\n      [5] \u001b[0m\u001b[1mgetindex\u001b[22m\n    \u001b[90m    @\u001b[39m \u001b[90m./\u001b[39m\u001b[90m\u001b[4mbroadcast.jl:610\u001b[24m\u001b[39m\u001b[90m [inlined]\u001b[39m\n      [6] \u001b[0m\u001b[1mmacro expansion\u001b[22m\n    \u001b[90m    @\u001b[39m \u001b[90m./\u001b[39m\u001b[90m\u001b[4mbroadcast.jl:974\u001b[24m\u001b[39m\u001b[90m [inlined]\u001b[39m\n      [7] \u001b[0m\u001b[1mmacro expansion\u001b[22m\n    \u001b[90m    @\u001b[39m \u001b[90m./\u001b[39m\u001b[90m\u001b[4msimdloop.jl:77\u001b[24m\u001b[39m\u001b[90m [inlined]\u001b[39m\n      [8] \u001b[0m\u001b[1mcopyto!\u001b[22m\n    \u001b[90m    @\u001b[39m \u001b[90m./\u001b[39m\u001b[90m\u001b[4mbroadcast.jl:973\u001b[24m\u001b[39m\u001b[90m [inlined]\u001b[39m\n      [9] \u001b[0m\u001b[1mcopyto!\u001b[22m\n    \u001b[90m    @\u001b[39m \u001b[90m./\u001b[39m\u001b[90m\u001b[4mbroadcast.jl:926\u001b[24m\u001b[39m\u001b[90m [inlined]\u001b[39m\n     [10] \u001b[0m\u001b[1mcopy\u001b[22m\n    \u001b[90m    @\u001b[39m \u001b[90m./\u001b[39m\u001b[90m\u001b[4mbroadcast.jl:898\u001b[24m\u001b[39m\u001b[90m [inlined]\u001b[39m\n     [11] \u001b[0m\u001b[1mmaterialize\u001b[22m\u001b[0m\u001b[1m(\u001b[22m\u001b[90mbc\u001b[39m::\u001b[0mBase.Broadcast.Broadcasted\u001b[90m{Base.Broadcast.DefaultArrayStyle{1}, Nothing, typeof(sqrt), Tuple{Vector{Float64}}}\u001b[39m\u001b[0m\u001b[1m)\u001b[22m\n    \u001b[90m    @\u001b[39m \u001b[90mBase.Broadcast\u001b[39m \u001b[90m./\u001b[39m\u001b[90m\u001b[4mbroadcast.jl:873\u001b[24m\u001b[39m\n     [12] \u001b[0m\u001b[1mtune_sigma!\u001b[22m\u001b[0m\u001b[1m(\u001b[22m\u001b[90msampler\u001b[39m::\u001b[0mMicroCanonicalHMC.Sampler, \u001b[90mtarget\u001b[39m::\u001b[0mTuringTarget; \u001b[90mkwargs\u001b[39m::\u001b[0mBase.Pairs\u001b[90m{Symbol, Bool, Tuple{Symbol, Symbol}, NamedTuple{(:monitor_energy, :dialog), Tuple{Bool, Bool}}}\u001b[39m\u001b[0m\u001b[1m)\u001b[22m\n    \u001b[90m    @\u001b[39m \u001b[35mMicroCanonicalHMC\u001b[39m \u001b[90m~/PhD/MicroCanonicalHMC.jl/src/\u001b[39m\u001b[90m\u001b[4mtuning.jl:89\u001b[24m\u001b[39m\n     [13] \u001b[0m\u001b[1mtune_sigma!\u001b[22m\n    \u001b[90m    @\u001b[39m \u001b[90m~/PhD/MicroCanonicalHMC.jl/src/\u001b[39m\u001b[90m\u001b[4mtuning.jl:83\u001b[24m\u001b[39m\u001b[90m [inlined]\u001b[39m\n     [14] \u001b[0m\u001b[1mtune_hyperparameters\u001b[22m\u001b[0m\u001b[1m(\u001b[22m\u001b[90msampler\u001b[39m::\u001b[0mMicroCanonicalHMC.Sampler, \u001b[90mtarget\u001b[39m::\u001b[0mTuringTarget, \u001b[90minit\u001b[39m::\u001b[0mTuple\u001b[90m{Vector{Float64}, Vector{Float64}, Float64, Vector{Float64}, Float64}\u001b[39m; \u001b[90mkwargs\u001b[39m::\u001b[0mBase.Pairs\u001b[90m{Symbol, Bool, Tuple{Symbol, Symbol}, NamedTuple{(:monitor_energy, :dialog), Tuple{Bool, Bool}}}\u001b[39m\u001b[0m\u001b[1m)\u001b[22m\n    \u001b[90m    @\u001b[39m \u001b[35mMicroCanonicalHMC\u001b[39m \u001b[90m~/PhD/MicroCanonicalHMC.jl/src/\u001b[39m\u001b[90m\u001b[4mtuning.jl:155\u001b[24m\u001b[39m\n     [15] \u001b[0m\u001b[1mmacro expansion\u001b[22m\n    \u001b[90m    @\u001b[39m \u001b[90m~/PhD/MicroCanonicalHMC.jl/src/\u001b[39m\u001b[90m\u001b[4mabstractmcmc.jl:220\u001b[24m\u001b[39m\u001b[90m [inlined]\u001b[39m\n     [16] \u001b[0m\u001b[1m(::MicroCanonicalHMC.var\"#902#threadsfor_fun#95\"{MicroCanonicalHMC.var\"#902#threadsfor_fun#84#96\"{Base.Pairs{Symbol, Bool, Tuple{Symbol, Symbol}, NamedTuple{(:monitor_energy, :dialog), Tuple{Bool, Bool}}}, UnitRange{Int64}}})\u001b[22m\u001b[0m\u001b[1m(\u001b[22m\u001b[90mtid\u001b[39m::\u001b[0mInt64; \u001b[90monethread\u001b[39m::\u001b[0mBool\u001b[0m\u001b[1m)\u001b[22m\n    \u001b[90m    @\u001b[39m \u001b[35mMicroCanonicalHMC\u001b[39m \u001b[90m./\u001b[39m\u001b[90m\u001b[4mthreadingconstructs.jl:139\u001b[24m\u001b[39m\n     [17] \u001b[0m\u001b[1m#902#threadsfor_fun\u001b[22m\n    \u001b[90m    @\u001b[39m \u001b[90m./\u001b[39m\u001b[90m\u001b[4mthreadingconstructs.jl:106\u001b[24m\u001b[39m\u001b[90m [inlined]\u001b[39m\n     [18] \u001b[0m\u001b[1m(::Base.Threads.var\"#1#2\"{MicroCanonicalHMC.var\"#902#threadsfor_fun#95\"{MicroCanonicalHMC.var\"#902#threadsfor_fun#84#96\"{Base.Pairs{Symbol, Bool, Tuple{Symbol, Symbol}, NamedTuple{(:monitor_energy, :dialog), Tuple{Bool, Bool}}}, UnitRange{Int64}}}, Int64})\u001b[22m\u001b[0m\u001b[1m(\u001b[22m\u001b[0m\u001b[1m)\u001b[22m\n    \u001b[90m    @\u001b[39m \u001b[90mBase.Threads\u001b[39m \u001b[90m./\u001b[39m\u001b[90m\u001b[4mthreadingconstructs.jl:84\u001b[24m\u001b[39m\n\n...and 3 more exceptions.\n",
      "",
      "Stacktrace:",
      " [1] threading_run(fun::MicroCanonicalHMC.var\"#902#threadsfor_fun#95\"{MicroCanonicalHMC.var\"#902#threadsfor_fun#84#96\"{Base.Pairs{Symbol, Bool, Tuple{Symbol, Symbol}, NamedTuple{(:monitor_energy, :dialog), Tuple{Bool, Bool}}}, UnitRange{Int64}}}, static::Bool)",
      "   @ Base.Threads ./threadingconstructs.jl:96",
      " [2] macro expansion",
      "   @ ./threadingconstructs.jl:144 [inlined]",
      " [3] sample(model::DynamicPPL.Model{typeof(model), (:data, :cov), (:cov,), (), Tuple{Vector{Float64}, Matrix{Float64}}, Tuple{Matrix{Float64}}, DynamicPPL.DefaultContext}, sampler::MicroCanonicalHMC.Sampler, ::MCMCThreads, N::Int64, nchains::Int64; progress::Bool, progressname::String, resume_from::Nothing, kwargs::Base.Pairs{Symbol, Bool, Tuple{Symbol, Symbol}, NamedTuple{(:monitor_energy, :dialog), Tuple{Bool, Bool}}})",
      "   @ MicroCanonicalHMC ~/PhD/MicroCanonicalHMC.jl/src/abstractmcmc.jl:215",
      " [4] top-level scope",
      "   @ In[18]:1"
     ]
    }
   ],
   "source": [
    "samples = sample(\n",
    "    stat_model, MCHMC(varE_wanted=2.0), MCMCThreads(), 30000, 4;\n",
    "    monitor_energy=true, \n",
    "    dialog=true)"
   ]
  },
  {
   "cell_type": "code",
   "execution_count": 19,
   "id": "2e8cd8ab",
   "metadata": {
    "scrolled": false
   },
   "outputs": [
    {
     "name": "stderr",
     "output_type": "stream",
     "text": [
      "\u001b[36m\u001b[1m[ \u001b[22m\u001b[39m\u001b[36m\u001b[1mInfo: \u001b[22m\u001b[39mStarting from previous run\n"
     ]
    },
    {
     "ename": "LoadError",
     "evalue": "MethodError: no method matching iterate(::Chains{Float64, AxisArrays.AxisArray{Float64, 3, Array{Float64, 3}, Tuple{AxisArrays.Axis{:iter, StepRange{Int64, Int64}}, AxisArrays.Axis{:var, Vector{Symbol}}, AxisArrays.Axis{:chain, UnitRange{Int64}}}}, Missing, NamedTuple{(:parameters, :internals), Tuple{Vector{Symbol}, Vector{Symbol}}}, NamedTuple{(:target, :sampler, :init, :start_time, :stop_time), Tuple{ParallelTarget, MicroCanonicalHMC.EnsembleSampler, Tuple{Tuple{Matrix{Float64}, Matrix{Float64}, Vector{Real}, Matrix{Real}, Vector{Float64}}, Tuple{Matrix{Real}, Vector{Float64}, Vector{Float64}}}, Float64, Float64}}})\n\n\u001b[0mClosest candidates are:\n\u001b[0m  iterate(\u001b[91m::Union{LinRange, StepRangeLen}\u001b[39m)\n\u001b[0m\u001b[90m   @\u001b[39m \u001b[90mBase\u001b[39m \u001b[90m\u001b[4mrange.jl:880\u001b[24m\u001b[39m\n\u001b[0m  iterate(\u001b[91m::Union{LinRange, StepRangeLen}\u001b[39m, \u001b[91m::Integer\u001b[39m)\n\u001b[0m\u001b[90m   @\u001b[39m \u001b[90mBase\u001b[39m \u001b[90m\u001b[4mrange.jl:880\u001b[24m\u001b[39m\n\u001b[0m  iterate(\u001b[91m::T\u001b[39m) where T<:Union{Base.KeySet{<:Any, <:Dict}, Base.ValueIterator{<:Dict}}\n\u001b[0m\u001b[90m   @\u001b[39m \u001b[90mBase\u001b[39m \u001b[90m\u001b[4mdict.jl:698\u001b[24m\u001b[39m\n\u001b[0m  ...\n",
     "output_type": "error",
     "traceback": [
      "MethodError: no method matching iterate(::Chains{Float64, AxisArrays.AxisArray{Float64, 3, Array{Float64, 3}, Tuple{AxisArrays.Axis{:iter, StepRange{Int64, Int64}}, AxisArrays.Axis{:var, Vector{Symbol}}, AxisArrays.Axis{:chain, UnitRange{Int64}}}}, Missing, NamedTuple{(:parameters, :internals), Tuple{Vector{Symbol}, Vector{Symbol}}}, NamedTuple{(:target, :sampler, :init, :start_time, :stop_time), Tuple{ParallelTarget, MicroCanonicalHMC.EnsembleSampler, Tuple{Tuple{Matrix{Float64}, Matrix{Float64}, Vector{Real}, Matrix{Real}, Vector{Float64}}, Tuple{Matrix{Real}, Vector{Float64}, Vector{Float64}}}, Float64, Float64}}})\n\n\u001b[0mClosest candidates are:\n\u001b[0m  iterate(\u001b[91m::Union{LinRange, StepRangeLen}\u001b[39m)\n\u001b[0m\u001b[90m   @\u001b[39m \u001b[90mBase\u001b[39m \u001b[90m\u001b[4mrange.jl:880\u001b[24m\u001b[39m\n\u001b[0m  iterate(\u001b[91m::Union{LinRange, StepRangeLen}\u001b[39m, \u001b[91m::Integer\u001b[39m)\n\u001b[0m\u001b[90m   @\u001b[39m \u001b[90mBase\u001b[39m \u001b[90m\u001b[4mrange.jl:880\u001b[24m\u001b[39m\n\u001b[0m  iterate(\u001b[91m::T\u001b[39m) where T<:Union{Base.KeySet{<:Any, <:Dict}, Base.ValueIterator{<:Dict}}\n\u001b[0m\u001b[90m   @\u001b[39m \u001b[90mBase\u001b[39m \u001b[90m\u001b[4mdict.jl:698\u001b[24m\u001b[39m\n\u001b[0m  ...\n",
      "",
      "Stacktrace:",
      " [1] iterate",
      "   @ ./generator.jl:44 [inlined]",
      " [2] collect(itr::Base.Generator{Chains{Float64, AxisArrays.AxisArray{Float64, 3, Array{Float64, 3}, Tuple{AxisArrays.Axis{:iter, StepRange{Int64, Int64}}, AxisArrays.Axis{:var, Vector{Symbol}}, AxisArrays.Axis{:chain, UnitRange{Int64}}}}, Missing, NamedTuple{(:parameters, :internals), Tuple{Vector{Symbol}, Vector{Symbol}}}, NamedTuple{(:target, :sampler, :init, :start_time, :stop_time), Tuple{ParallelTarget, MicroCanonicalHMC.EnsembleSampler, Tuple{Tuple{Matrix{Float64}, Matrix{Float64}, Vector{Real}, Matrix{Real}, Vector{Float64}}, Tuple{Matrix{Real}, Vector{Float64}, Vector{Float64}}}, Float64, Float64}}}, MicroCanonicalHMC.var\"#85#97\"})",
      "   @ Base ./array.jl:782",
      " [3] sample(model::DynamicPPL.Model{typeof(model), (:data, :cov), (:cov,), (), Tuple{Vector{Float64}, Matrix{Float64}}, Tuple{Matrix{Float64}}, DynamicPPL.DefaultContext}, sampler::MicroCanonicalHMC.Sampler, ::MCMCThreads, N::Int64, nchains::Int64; progress::Bool, progressname::String, resume_from::Chains{Float64, AxisArrays.AxisArray{Float64, 3, Array{Float64, 3}, Tuple{AxisArrays.Axis{:iter, StepRange{Int64, Int64}}, AxisArrays.Axis{:var, Vector{Symbol}}, AxisArrays.Axis{:chain, UnitRange{Int64}}}}, Missing, NamedTuple{(:parameters, :internals), Tuple{Vector{Symbol}, Vector{Symbol}}}, NamedTuple{(:target, :sampler, :init, :start_time, :stop_time), Tuple{ParallelTarget, MicroCanonicalHMC.EnsembleSampler, Tuple{Tuple{Matrix{Float64}, Matrix{Float64}, Vector{Real}, Matrix{Real}, Vector{Float64}}, Tuple{Matrix{Real}, Vector{Float64}, Vector{Float64}}}, Float64, Float64}}}, kwargs::Base.Pairs{Symbol, Bool, Tuple{Symbol, Symbol}, NamedTuple{(:monitor_energy, :dialog), Tuple{Bool, Bool}}})",
      "   @ MicroCanonicalHMC ~/PhD/MicroCanonicalHMC.jl/src/abstractmcmc.jl:228",
      " [4] top-level scope",
      "   @ In[19]:1"
     ]
    }
   ],
   "source": [
    "new_samples = sample(\n",
    "    stat_model, MCHMC(varE_wanted=2.0), MCMCThreads(), 30000, 4;\n",
    "    monitor_energy=true, \n",
    "    dialog=true, \n",
    "    resume_from=samples)"
   ]
  },
  {
   "cell_type": "markdown",
   "id": "4aadd3b5",
   "metadata": {},
   "source": [
    "## NUTS"
   ]
  },
  {
   "cell_type": "code",
   "execution_count": 20,
   "id": "dcbe40a3",
   "metadata": {},
   "outputs": [
    {
     "name": "stderr",
     "output_type": "stream",
     "text": [
      "\u001b[36m\u001b[1m┌ \u001b[22m\u001b[39m\u001b[36m\u001b[1mInfo: \u001b[22m\u001b[39mFound initial step size\n",
      "\u001b[36m\u001b[1m└ \u001b[22m\u001b[39m  ϵ = 0.05\n",
      "\u001b[32mSampling: 100%|█████████████████████████████████████████| Time: 0:00:07\u001b[39m\n"
     ]
    },
    {
     "data": {
      "text/plain": [
       "Chains MCMC chain (10000×14×1 Array{Float64, 3}):\n",
       "\n",
       "Iterations        = 11:1:10010\n",
       "Number of chains  = 1\n",
       "Samples per chain = 10000\n",
       "Wall duration     = 11.13 seconds\n",
       "Compute duration  = 11.13 seconds\n",
       "parameters        = Ωm, σ8\n",
       "internals         = lp, n_steps, is_accept, acceptance_rate, log_density, hamiltonian_energy, hamiltonian_energy_error, max_hamiltonian_energy_error, tree_depth, numerical_error, step_size, nom_step_size\n",
       "\n",
       "Summary Statistics\n",
       " \u001b[1m parameters \u001b[0m \u001b[1m    mean \u001b[0m \u001b[1m     std \u001b[0m \u001b[1m naive_se \u001b[0m \u001b[1m    mcse \u001b[0m \u001b[1m       ess \u001b[0m \u001b[1m    rhat \u001b[0m \u001b[1m \u001b[0m ⋯\n",
       " \u001b[90m     Symbol \u001b[0m \u001b[90m Float64 \u001b[0m \u001b[90m Float64 \u001b[0m \u001b[90m  Float64 \u001b[0m \u001b[90m Float64 \u001b[0m \u001b[90m   Float64 \u001b[0m \u001b[90m Float64 \u001b[0m \u001b[90m \u001b[0m ⋯\n",
       "\n",
       "          Ωm    0.2374    0.0664     0.0007    0.0016   1810.5273    0.9999    ⋯\n",
       "          σ8    0.8655    0.0614     0.0006    0.0013   2392.8995    0.9999    ⋯\n",
       "\u001b[36m                                                                1 column omitted\u001b[0m\n",
       "\n",
       "Quantiles\n",
       " \u001b[1m parameters \u001b[0m \u001b[1m    2.5% \u001b[0m \u001b[1m   25.0% \u001b[0m \u001b[1m   50.0% \u001b[0m \u001b[1m   75.0% \u001b[0m \u001b[1m   97.5% \u001b[0m\n",
       " \u001b[90m     Symbol \u001b[0m \u001b[90m Float64 \u001b[0m \u001b[90m Float64 \u001b[0m \u001b[90m Float64 \u001b[0m \u001b[90m Float64 \u001b[0m \u001b[90m Float64 \u001b[0m\n",
       "\n",
       "          Ωm    0.1305    0.1902    0.2293    0.2763    0.3882\n",
       "          σ8    0.7561    0.8221    0.8627    0.9053    0.9955\n"
      ]
     },
     "execution_count": 20,
     "metadata": {},
     "output_type": "execute_result"
    }
   ],
   "source": [
    "samples_hmc = sample(stat_model, NUTS(10, 0.65),\n",
    "                     10000, progress=true; save_state=true)"
   ]
  },
  {
   "cell_type": "code",
   "execution_count": 21,
   "id": "623ba990",
   "metadata": {},
   "outputs": [
    {
     "data": {
      "text/plain": [
       "3-dimensional AxisArray{Float64,3,...} with axes:\n",
       "    :iter, 11:1:10010\n",
       "    :var, [:Ωm, :σ8, :lp, :n_steps, :is_accept, :acceptance_rate, :log_density, :hamiltonian_energy, :hamiltonian_energy_error, :max_hamiltonian_energy_error, :tree_depth, :numerical_error, :step_size, :nom_step_size]\n",
       "    :chain, 1:1\n",
       "And data, a 10000×14×1 Array{Float64, 3}:\n",
       "[:, :, 1] =\n",
       " 0.259469  0.82085   16.0093  23.0  1.0  …  4.0  0.0  0.0446787  0.0446787\n",
       " 0.214963  0.875119  16.3043  23.0  1.0     4.0  0.0  0.0446787  0.0446787\n",
       " 0.181946  0.910825  16.0255  67.0  1.0     6.0  0.0  0.0446787  0.0446787\n",
       " 0.181946  0.910825  16.0255   3.0  1.0     1.0  0.0  0.0446787  0.0446787\n",
       " 0.214977  0.90154   16.0254  15.0  1.0     3.0  0.0  0.0446787  0.0446787\n",
       " 0.208405  0.823561  15.2425   7.0  1.0  …  2.0  0.0  0.0446787  0.0446787\n",
       " 0.220612  0.94571   14.2262  23.0  1.0     4.0  0.0  0.0446787  0.0446787\n",
       " 0.281368  0.814124  15.8762  27.0  1.0     4.0  0.0  0.0446787  0.0446787\n",
       " 0.283106  0.866751  15.3376   3.0  1.0     2.0  0.0  0.0446787  0.0446787\n",
       " 0.252137  0.890614  15.4781  19.0  1.0     4.0  0.0  0.0446787  0.0446787\n",
       " 0.232578  0.86094   16.3037  11.0  1.0  …  3.0  0.0  0.0446787  0.0446787\n",
       " 0.227661  0.835441  16.0414  11.0  1.0     3.0  0.0  0.0446787  0.0446787\n",
       " 0.215166  0.863753  16.2767  27.0  1.0     4.0  0.0  0.0446787  0.0446787\n",
       " ⋮                                       ⋱  ⋮                    \n",
       " 0.298033  0.833064  15.6763   3.0  1.0     1.0  0.0  0.0446787  0.0446787\n",
       " 0.395708  0.749041  13.5831  27.0  1.0     4.0  0.0  0.0446787  0.0446787\n",
       " 0.398954  0.72425   12.6467   3.0  1.0  …  1.0  0.0  0.0446787  0.0446787\n",
       " 0.400572  0.756599  13.6779   1.0  1.0     1.0  0.0  0.0446787  0.0446787\n",
       " 0.315376  0.833285  15.3004  23.0  1.0     4.0  0.0  0.0446787  0.0446787\n",
       " 0.309757  0.847862  15.1191  15.0  1.0     4.0  0.0  0.0446787  0.0446787\n",
       " 0.328786  0.848754  14.5042  11.0  1.0     3.0  0.0  0.0446787  0.0446787\n",
       " 0.37988   0.811254  14.0174  19.0  1.0  …  4.0  0.0  0.0446787  0.0446787\n",
       " 0.344689  0.80516   14.9853  15.0  1.0     3.0  0.0  0.0446787  0.0446787\n",
       " 0.341711  0.776286  14.8372   3.0  1.0     2.0  0.0  0.0446787  0.0446787\n",
       " 0.340541  0.722961  12.6398   1.0  1.0     1.0  0.0  0.0446787  0.0446787\n",
       " 0.335315  0.862916  13.6608   3.0  1.0     2.0  0.0  0.0446787  0.0446787"
      ]
     },
     "execution_count": 21,
     "metadata": {},
     "output_type": "execute_result"
    }
   ],
   "source": [
    "samples_hmc.value"
   ]
  },
  {
   "cell_type": "code",
   "execution_count": 22,
   "id": "fa9db828",
   "metadata": {},
   "outputs": [],
   "source": [
    "Wms_hmc = vec(samples_hmc[\"Ωm\"])\n",
    "s8s_hmc = vec(samples_hmc[\"σ8\"]);"
   ]
  },
  {
   "cell_type": "code",
   "execution_count": 23,
   "id": "3d063a52",
   "metadata": {},
   "outputs": [
    {
     "data": {
      "image/png": "[encoded data removed]",
      "text/plain": [
       "Figure(PyObject <Figure size 640x480 with 1 Axes>)"
      ]
     },
     "metadata": {},
     "output_type": "display_data"
    }
   ],
   "source": [
    "plt.hist2d(Wms_hmc, s8s_hmc, bins=100, range=[[0.1, 0.4],[0.6, 1.2]]);\n",
    "plt.xlabel(\"Wm\")\n",
    "plt.ylabel(\"s8\")\n",
    "plt.title(\"NUTS - RSD model\");"
   ]
  }
 ],
 "metadata": {
  "kernelspec": {
   "display_name": "Julia-1.9.0 10 Threads 1.9.0-rc1",
   "language": "julia",
   "name": "julia-1.9.0-10-threads-1.9"
  },
  "language_info": {
   "file_extension": ".jl",
   "mimetype": "application/julia",
   "name": "julia",
   "version": "1.9.0"
  }
 },
 "nbformat": 4,
 "nbformat_minor": 5
}
