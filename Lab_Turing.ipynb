{
 "cells": [
  {
   "cell_type": "markdown",
   "id": "91129cb1",
   "metadata": {},
   "source": [
    "# Turing Target Practice"
   ]
  },
  {
   "cell_type": "markdown",
   "id": "97121235",
   "metadata": {},
   "source": [
    "## Model"
   ]
  },
  {
   "cell_type": "code",
   "execution_count": 1,
   "id": "86b96c9e",
   "metadata": {},
   "outputs": [
    {
     "name": "stderr",
     "output_type": "stream",
     "text": [
      "\u001b[32m\u001b[1m  Activating\u001b[22m\u001b[39m project at `~/PhD/MCHMC.jl`\n"
     ]
    }
   ],
   "source": [
    "] activate \".\""
   ]
  },
  {
   "cell_type": "code",
   "execution_count": 2,
   "id": "baed58e3",
   "metadata": {},
   "outputs": [
    {
     "name": "stderr",
     "output_type": "stream",
     "text": [
      "\u001b[36m\u001b[1m[ \u001b[22m\u001b[39m\u001b[36m\u001b[1mInfo: \u001b[22m\u001b[39mPrecompiling MCHMC [92da4d09-9da0-4f8a-8b31-da41ef0ab6ee]\n"
     ]
    }
   ],
   "source": [
    "# The statistical inference frame-work we will use\n",
    "using Turing\n",
    "using Interpolations\n",
    "using ForwardDiff\n",
    "using LinearAlgebra\n",
    "using PyPlot\n",
    "\n",
    "using Revise\n",
    "using MCHMC"
   ]
  },
  {
   "cell_type": "code",
   "execution_count": 3,
   "id": "a7d6f81c",
   "metadata": {},
   "outputs": [],
   "source": [
    "fs8_zs = [0.38, 0.51, 0.61, 1.48, 0.44, 0.6, 0.73, 0.6, 0.86, 0.067, 1.4]\n",
    "fs8_data = [0.49749, 0.457523, 0.436148, 0.462, 0.413, 0.39, 0.437, 0.55, 0.4, 0.423, 0.482]\n",
    "fs8_cov = [0.00203355 0.000811829 0.000264615 0.0 0.0 0.0 0.0 0.0 0.0 0.0 0.0;\n",
    "           0.000811829 0.00142289 0.000662824 0.0 0.0 0.0 0.0 0.0 0.0 0.0 0.0; \n",
    "           0.000264615 0.000662824 0.00118576 0.0 0.0 0.0 0.0 0.0 0.0 0.0 0.0;\n",
    "           0.0 0.0 0.0 0.002025 0.0 0.0 0.0 0.0 0.0 0.0 0.0;\n",
    "           0.0 0.0 0.0 0.0 0.0064 0.00257 0.0 0.0 0.0 0.0 0.0;\n",
    "           0.0 0.0 0.0 0.0 0.00257 0.003969 0.00254 0.0 0.0 0.0 0.0;\n",
    "           0.0 0.0 0.0 0.0 0.0 0.00254 0.005184 0.0 0.0 0.0 0.0;\n",
    "           0.0 0.0 0.0 0.0 0.0 0.0 0.0 0.0144 0.0 0.0 0.0;\n",
    "           0.0 0.0 0.0 0.0 0.0 0.0 0.0 0.0 0.0121 0.0 0.0; \n",
    "           0.0 0.0 0.0 0.0 0.0 0.0 0.0 0.0 0.0 0.003025 0.0;\n",
    "           0.0 0.0 0.0 0.0 0.0 0.0 0.0 0.0 0.0 0.0 0.013456000000000001];"
   ]
  },
  {
   "cell_type": "code",
   "execution_count": 4,
   "id": "1359a630",
   "metadata": {
    "code_folding": []
   },
   "outputs": [
    {
     "data": {
      "text/plain": [
       "make_fs8 (generic function with 1 method)"
      ]
     },
     "execution_count": 4,
     "metadata": {},
     "output_type": "execute_result"
    }
   ],
   "source": [
    "function make_fs8(Ωm, σ8; Ωr=8.24*10^-5)\n",
    "    # ODE solution for growth factor\n",
    "    x_Dz = LinRange(0, log(1+1100), 300)\n",
    "    dx_Dz = x_Dz[2]-x_Dz[1]\n",
    "    z_Dz = @.(exp(x_Dz) - 1)\n",
    "    a_Dz = @.(1/(1+z_Dz))\n",
    "    aa = reverse(a_Dz)\n",
    "    e =  @.(sqrt.(abs(Ωm)*(1+z_Dz)^3+Ωr*(1+z_Dz)^4+(1-Ωm-Ωr)))\n",
    "    ee = reverse(e)\n",
    "\n",
    "    dd = zeros(typeof(Ωm), 300)\n",
    "    yy = zeros(typeof(Ωm), 300)\n",
    "    dd[1] = aa[1]\n",
    "    yy[1] = aa[1]^3*ee[end]\n",
    "\n",
    "    for i in 1:(300-1)\n",
    "        A0 = -1.5 * Ωm / (aa[i]*ee[i])\n",
    "        B0 = -1. / (aa[i]^2*ee[i])\n",
    "        A1 = -1.5 * Ωm / (aa[i+1]*ee[i+1])\n",
    "        B1 = -1. / (aa[i+1]^2*ee[i+1])\n",
    "        yy[i+1] = (1+0.5*dx_Dz^2*A0*B0)*yy[i] + 0.5*(A0+A1)*dx_Dz*dd[i]\n",
    "        dd[i+1] = 0.5*(B0+B1)*dx_Dz*yy[i] + (1+0.5*dx_Dz^2*A0*B0)*dd[i]\n",
    "    end\n",
    "\n",
    "    y = reverse(yy)\n",
    "    d = reverse(dd)\n",
    "\n",
    "    Dzi = LinearInterpolation(z_Dz, d./d[1], extrapolation_bc=Line())\n",
    "    fs8zi = LinearInterpolation(z_Dz, -σ8 .* y./ (a_Dz.^2 .*e.*d[1]),\n",
    "                                 extrapolation_bc=Line())\n",
    "    return fs8zi\n",
    "end"
   ]
  },
  {
   "cell_type": "code",
   "execution_count": 5,
   "id": "8005e277",
   "metadata": {},
   "outputs": [],
   "source": [
    "@model function model(data; cov = fs8_cov) \n",
    "    # Define priors\n",
    "    #KiDS priors\n",
    "    Ωm ~ Normal(0.3, 0.1)\n",
    "    σ8 ~ Normal(0.8, 0.3)\n",
    "    fs8_itp = make_fs8(Ωm, σ8)\n",
    "    theory = fs8_itp(fs8_zs)\n",
    "    data ~ MvNormal(theory, cov)\n",
    "end;"
   ]
  },
  {
   "cell_type": "code",
   "execution_count": 6,
   "id": "1eebe796",
   "metadata": {},
   "outputs": [
    {
     "data": {
      "text/plain": [
       "DynamicPPL.Model{typeof(model), (:data, :cov), (:cov,), (), Tuple{Vector{Float64}, Matrix{Float64}}, Tuple{Matrix{Float64}}, DynamicPPL.DefaultContext}(model, (data = [0.49749, 0.457523, 0.436148, 0.462, 0.413, 0.39, 0.437, 0.55, 0.4, 0.423, 0.482], cov = [0.00203355 0.000811829 … 0.0 0.0; 0.000811829 0.00142289 … 0.0 0.0; … ; 0.0 0.0 … 0.003025 0.0; 0.0 0.0 … 0.0 0.013456000000000001]), (cov = [0.00203355 0.000811829 … 0.0 0.0; 0.000811829 0.00142289 … 0.0 0.0; … ; 0.0 0.0 … 0.003025 0.0; 0.0 0.0 … 0.0 0.013456000000000001],), DynamicPPL.DefaultContext())"
      ]
     },
     "execution_count": 6,
     "metadata": {},
     "output_type": "execute_result"
    }
   ],
   "source": [
    "stat_model = model(fs8_data)"
   ]
  },
  {
   "cell_type": "markdown",
   "id": "10dfa4cc",
   "metadata": {},
   "source": [
    "## Sampling"
   ]
  },
  {
   "cell_type": "code",
   "execution_count": 17,
   "id": "c8ed14a3",
   "metadata": {},
   "outputs": [],
   "source": [
    "target = TuringTarget(stat_model);"
   ]
  },
  {
   "cell_type": "code",
   "execution_count": 18,
   "id": "a79c2b35",
   "metadata": {},
   "outputs": [
    {
     "data": {
      "text/plain": [
       "Sampler(Settings(Random.MersenneTwister(0), 2.0, 0, 1000, 10, \"LF\"), Hyperparameters{Float64}(0.0, 0.014142135623730952, 0.0, 0.1931833275037836), MCHMC.Leapfrog)"
      ]
     },
     "execution_count": 18,
     "metadata": {},
     "output_type": "execute_result"
    }
   ],
   "source": [
    "mchmc = Sampler(0.0, sqrt(target.d)*0.01, varE_wanted=2.0)"
   ]
  },
  {
   "cell_type": "code",
   "execution_count": 19,
   "id": "82938e27",
   "metadata": {
    "scrolled": true
   },
   "outputs": [
    {
     "name": "stderr",
     "output_type": "stream",
     "text": [
      "\u001b[36m\u001b[1m[ \u001b[22m\u001b[39m\u001b[36m\u001b[1mInfo: \u001b[22m\u001b[39mTuning eps ⏳\n"
     ]
    },
    {
     "name": "stdout",
     "output_type": "stream",
     "text": [
      "eps: 0.5 --> VarE: NaN\n",
      "eps: 0.25 --> VarE: 16.647539991198034\n",
      "eps: 0.125 --> VarE: 42.34552440018154\n",
      "eps: 0.0625 --> VarE: 5.852245887510531\n",
      "eps: 0.03125 --> VarE: 1.9456354760022454\n"
     ]
    },
    {
     "name": "stderr",
     "output_type": "stream",
     "text": [
      "\u001b[36m\u001b[1m[ \u001b[22m\u001b[39m\u001b[36m\u001b[1mInfo: \u001b[22m\u001b[39mFound eps ✅\n"
     ]
    },
    {
     "data": {
      "text/html": [
       "<div><div style = \"float: left;\"><span>10001×3 DataFrame</span></div><div style = \"float: right;\"><span style = \"font-style: italic;\">9976 rows omitted</span></div><div style = \"clear: both;\"></div></div><div class = \"data-frame\" style = \"overflow-x: scroll;\"><table class = \"data-frame\" style = \"margin-bottom: 6px;\"><thead><tr class = \"header\"><th class = \"rowNumber\" style = \"font-weight: bold; text-align: right;\">Row</th><th style = \"text-align: left;\">Ω</th><th style = \"text-align: left;\">E</th><th style = \"text-align: left;\">logp</th></tr><tr class = \"subheader headerLastRow\"><th class = \"rowNumber\" style = \"font-weight: bold; text-align: right;\"></th><th title = \"Any\" style = \"text-align: left;\">Any</th><th title = \"Any\" style = \"text-align: left;\">Any</th><th title = \"Any\" style = \"text-align: left;\">Any</th></tr></thead><tbody><tr><td class = \"rowNumber\" style = \"font-weight: bold; text-align: right;\">1</td><td style = \"text-align: left;\">[0.288636, 0.673529]</td><td style = \"text-align: left;\">0.0</td><td style = \"text-align: left;\">9.78684</td></tr><tr><td class = \"rowNumber\" style = \"font-weight: bold; text-align: right;\">2</td><td style = \"text-align: left;\">[0.288636, 0.673529]</td><td style = \"text-align: left;\">3.36032</td><td style = \"text-align: left;\">13.1964</td></tr><tr><td class = \"rowNumber\" style = \"font-weight: bold; text-align: right;\">3</td><td style = \"text-align: left;\">[0.300247, 0.702542]</td><td style = \"text-align: left;\">9.13803</td><td style = \"text-align: left;\">15.6687</td></tr><tr><td class = \"rowNumber\" style = \"font-weight: bold; text-align: right;\">4</td><td style = \"text-align: left;\">[0.312733, 0.731189]</td><td style = \"text-align: left;\">5.19397</td><td style = \"text-align: left;\">16.5708</td></tr><tr><td class = \"rowNumber\" style = \"font-weight: bold; text-align: right;\">5</td><td style = \"text-align: left;\">[0.34041, 0.745699]</td><td style = \"text-align: left;\">2.24568</td><td style = \"text-align: left;\">17.6419</td></tr><tr><td class = \"rowNumber\" style = \"font-weight: bold; text-align: right;\">6</td><td style = \"text-align: left;\">[0.327734, 0.774262]</td><td style = \"text-align: left;\">1.04023</td><td style = \"text-align: left;\">16.5495</td></tr><tr><td class = \"rowNumber\" style = \"font-weight: bold; text-align: right;\">7</td><td style = \"text-align: left;\">[0.339045, 0.745131]</td><td style = \"text-align: left;\">-2.55767</td><td style = \"text-align: left;\">16.0829</td></tr><tr><td class = \"rowNumber\" style = \"font-weight: bold; text-align: right;\">8</td><td style = \"text-align: left;\">[0.369762, 0.739385]</td><td style = \"text-align: left;\">0.122085</td><td style = \"text-align: left;\">17.0759</td></tr><tr><td class = \"rowNumber\" style = \"font-weight: bold; text-align: right;\">9</td><td style = \"text-align: left;\">[0.363488, 0.769999]</td><td style = \"text-align: left;\">0.994774</td><td style = \"text-align: left;\">16.0797</td></tr><tr><td class = \"rowNumber\" style = \"font-weight: bold; text-align: right;\">10</td><td style = \"text-align: left;\">[0.371908, 0.739904]</td><td style = \"text-align: left;\">-0.983823</td><td style = \"text-align: left;\">17.1136</td></tr><tr><td class = \"rowNumber\" style = \"font-weight: bold; text-align: right;\">11</td><td style = \"text-align: left;\">[0.360091, 0.768834]</td><td style = \"text-align: left;\">2.18166</td><td style = \"text-align: left;\">17.0221</td></tr><tr><td class = \"rowNumber\" style = \"font-weight: bold; text-align: right;\">12</td><td style = \"text-align: left;\">[0.331714, 0.755747]</td><td style = \"text-align: left;\">0.767443</td><td style = \"text-align: left;\">17.8972</td></tr><tr><td class = \"rowNumber\" style = \"font-weight: bold; text-align: right;\">13</td><td style = \"text-align: left;\">[0.312712, 0.780556]</td><td style = \"text-align: left;\">1.38391</td><td style = \"text-align: left;\">17.3876</td></tr><tr><td style = \"text-align: right;\">&vellip;</td><td style = \"text-align: right;\">&vellip;</td><td style = \"text-align: right;\">&vellip;</td><td style = \"text-align: right;\">&vellip;</td></tr><tr><td class = \"rowNumber\" style = \"font-weight: bold; text-align: right;\">9990</td><td style = \"text-align: left;\">[0.248839, 0.891762]</td><td style = \"text-align: left;\">1.39093</td><td style = \"text-align: left;\">18.8882</td></tr><tr><td class = \"rowNumber\" style = \"font-weight: bold; text-align: right;\">9991</td><td style = \"text-align: left;\">[0.229333, 0.867347]</td><td style = \"text-align: left;\">1.36169</td><td style = \"text-align: left;\">18.9068</td></tr><tr><td class = \"rowNumber\" style = \"font-weight: bold; text-align: right;\">9992</td><td style = \"text-align: left;\">[0.251279, 0.8451]</td><td style = \"text-align: left;\">-0.119216</td><td style = \"text-align: left;\">18.7526</td></tr><tr><td class = \"rowNumber\" style = \"font-weight: bold; text-align: right;\">9993</td><td style = \"text-align: left;\">[0.275854, 0.825796]</td><td style = \"text-align: left;\">-0.676807</td><td style = \"text-align: left;\">18.3482</td></tr><tr><td class = \"rowNumber\" style = \"font-weight: bold; text-align: right;\">9994</td><td style = \"text-align: left;\">[0.307097, 0.825178]</td><td style = \"text-align: left;\">-0.734357</td><td style = \"text-align: left;\">18.3849</td></tr><tr><td class = \"rowNumber\" style = \"font-weight: bold; text-align: right;\">9995</td><td style = \"text-align: left;\">[0.289826, 0.799134]</td><td style = \"text-align: left;\">0.225793</td><td style = \"text-align: left;\">18.4604</td></tr><tr><td class = \"rowNumber\" style = \"font-weight: bold; text-align: right;\">9996</td><td style = \"text-align: left;\">[0.259784, 0.807738]</td><td style = \"text-align: left;\">0.237702</td><td style = \"text-align: left;\">18.5704</td></tr><tr><td class = \"rowNumber\" style = \"font-weight: bold; text-align: right;\">9997</td><td style = \"text-align: left;\">[0.290592, 0.812977]</td><td style = \"text-align: left;\">-0.192261</td><td style = \"text-align: left;\">18.1733</td></tr><tr><td class = \"rowNumber\" style = \"font-weight: bold; text-align: right;\">9998</td><td style = \"text-align: left;\">[0.26451, 0.795764]</td><td style = \"text-align: left;\">-0.340025</td><td style = \"text-align: left;\">18.6805</td></tr><tr><td class = \"rowNumber\" style = \"font-weight: bold; text-align: right;\">9999</td><td style = \"text-align: left;\">[0.248941, 0.82286]</td><td style = \"text-align: left;\">0.730136</td><td style = \"text-align: left;\">18.3464</td></tr><tr><td class = \"rowNumber\" style = \"font-weight: bold; text-align: right;\">10000</td><td style = \"text-align: left;\">[0.219077, 0.832064]</td><td style = \"text-align: left;\">-0.456255</td><td style = \"text-align: left;\">18.51</td></tr><tr><td class = \"rowNumber\" style = \"font-weight: bold; text-align: right;\">10001</td><td style = \"text-align: left;\">[0.246169, 0.816488]</td><td style = \"text-align: left;\">0.534112</td><td style = \"text-align: left;\">18.9157</td></tr></tbody></table></div>"
      ],
      "text/latex": [
       "\\begin{tabular}{r|ccc}\n",
       "\t& Ω & E & logp\\\\\n",
       "\t\\hline\n",
       "\t& Any & Any & Any\\\\\n",
       "\t\\hline\n",
       "\t1 & [0.288636, 0.673529] & 0.0 & 9.78684 \\\\\n",
       "\t2 & [0.288636, 0.673529] & 3.36032 & 13.1964 \\\\\n",
       "\t3 & [0.300247, 0.702542] & 9.13803 & 15.6687 \\\\\n",
       "\t4 & [0.312733, 0.731189] & 5.19397 & 16.5708 \\\\\n",
       "\t5 & [0.34041, 0.745699] & 2.24568 & 17.6419 \\\\\n",
       "\t6 & [0.327734, 0.774262] & 1.04023 & 16.5495 \\\\\n",
       "\t7 & [0.339045, 0.745131] & -2.55767 & 16.0829 \\\\\n",
       "\t8 & [0.369762, 0.739385] & 0.122085 & 17.0759 \\\\\n",
       "\t9 & [0.363488, 0.769999] & 0.994774 & 16.0797 \\\\\n",
       "\t10 & [0.371908, 0.739904] & -0.983823 & 17.1136 \\\\\n",
       "\t11 & [0.360091, 0.768834] & 2.18166 & 17.0221 \\\\\n",
       "\t12 & [0.331714, 0.755747] & 0.767443 & 17.8972 \\\\\n",
       "\t13 & [0.312712, 0.780556] & 1.38391 & 17.3876 \\\\\n",
       "\t14 & [0.283663, 0.769038] & -2.67126 & 15.4645 \\\\\n",
       "\t15 & [0.273262, 0.73957] & -1.92543 & 17.3883 \\\\\n",
       "\t16 & [0.283432, 0.769118] & 3.95883 & 17.3634 \\\\\n",
       "\t17 & [0.254219, 0.780217] & 1.19216 & 18.5422 \\\\\n",
       "\t18 & [0.261214, 0.810674] & 2.24592 & 18.3672 \\\\\n",
       "\t19 & [0.231778, 0.821164] & 0.346265 & 18.9064 \\\\\n",
       "\t20 & [0.251556, 0.845359] & 0.51843 & 18.3245 \\\\\n",
       "\t21 & [0.273853, 0.867254] & -0.791244 & 18.875 \\\\\n",
       "\t22 & [0.242852, 0.863317] & 0.697416 & 18.6992 \\\\\n",
       "\t23 & [0.21175, 0.860287] & -0.32082 & 18.7301 \\\\\n",
       "\t24 & [0.236505, 0.879359] & 0.150104 & 18.7673 \\\\\n",
       "\t25 & [0.221033, 0.852207] & -0.225211 & 18.2097 \\\\\n",
       "\t26 & [0.225357, 0.821258] & -0.394065 & 18.8652 \\\\\n",
       "\t27 & [0.229181, 0.852273] & 0.537707 & 18.1422 \\\\\n",
       "\t28 & [0.19797, 0.850706] & -2.02215 & 16.5446 \\\\\n",
       "\t29 & [0.18877, 0.820841] & -1.82882 & 18.0246 \\\\\n",
       "\t30 & [0.194425, 0.851575] & 2.09307 & 18.5584 \\\\\n",
       "\t$\\dots$ & $\\dots$ & $\\dots$ & $\\dots$ \\\\\n",
       "\\end{tabular}\n"
      ],
      "text/plain": [
       "\u001b[1m10001×3 DataFrame\u001b[0m\n",
       "\u001b[1m   Row \u001b[0m│\u001b[1m Ω                    \u001b[0m\u001b[1m E         \u001b[0m\u001b[1m logp    \u001b[0m\n",
       "       │\u001b[90m Any                  \u001b[0m\u001b[90m Any       \u001b[0m\u001b[90m Any     \u001b[0m\n",
       "───────┼──────────────────────────────────────────\n",
       "     1 │ [0.288636, 0.673529]  0.0        9.78684\n",
       "     2 │ [0.288636, 0.673529]  3.36032    13.1964\n",
       "     3 │ [0.300247, 0.702542]  9.13803    15.6687\n",
       "     4 │ [0.312733, 0.731189]  5.19397    16.5708\n",
       "     5 │ [0.34041, 0.745699]   2.24568    17.6419\n",
       "     6 │ [0.327734, 0.774262]  1.04023    16.5495\n",
       "     7 │ [0.339045, 0.745131]  -2.55767   16.0829\n",
       "     8 │ [0.369762, 0.739385]  0.122085   17.0759\n",
       "     9 │ [0.363488, 0.769999]  0.994774   16.0797\n",
       "    10 │ [0.371908, 0.739904]  -0.983823  17.1136\n",
       "    11 │ [0.360091, 0.768834]  2.18166    17.0221\n",
       "   ⋮   │          ⋮                ⋮         ⋮\n",
       "  9992 │ [0.251279, 0.8451]    -0.119216  18.7526\n",
       "  9993 │ [0.275854, 0.825796]  -0.676807  18.3482\n",
       "  9994 │ [0.307097, 0.825178]  -0.734357  18.3849\n",
       "  9995 │ [0.289826, 0.799134]  0.225793   18.4604\n",
       "  9996 │ [0.259784, 0.807738]  0.237702   18.5704\n",
       "  9997 │ [0.290592, 0.812977]  -0.192261  18.1733\n",
       "  9998 │ [0.26451, 0.795764]   -0.340025  18.6805\n",
       "  9999 │ [0.248941, 0.82286]   0.730136   18.3464\n",
       " 10000 │ [0.219077, 0.832064]  -0.456255  18.51\n",
       " 10001 │ [0.246169, 0.816488]  0.534112   18.9157\n",
       "\u001b[36m                                 9980 rows omitted\u001b[0m"
      ]
     },
     "execution_count": 19,
     "metadata": {},
     "output_type": "execute_result"
    }
   ],
   "source": [
    "samples_mchmc = Sample(mchmc, target, 10000;\n",
    "                       monitor_energy=true, \n",
    "                       dialog=true)"
   ]
  },
  {
   "cell_type": "code",
   "execution_count": 20,
   "id": "9982a5de",
   "metadata": {},
   "outputs": [
    {
     "data": {
      "image/png": "[encoded data removed]",
      "text/plain": [
       "Figure(PyObject <Figure size 640x480 with 1 Axes>)"
      ]
     },
     "metadata": {},
     "output_type": "display_data"
    },
    {
     "data": {
      "text/plain": [
       "1-element Vector{PyCall.PyObject}:\n",
       " PyObject <matplotlib.lines.Line2D object at 0x7fda0568e7c0>"
      ]
     },
     "execution_count": 20,
     "metadata": {},
     "output_type": "execute_result"
    }
   ],
   "source": [
    "plt.plot(samples_mchmc.E[8000:end])"
   ]
  },
  {
   "cell_type": "code",
   "execution_count": 21,
   "id": "f966c9fb",
   "metadata": {},
   "outputs": [
    {
     "data": {
      "text/plain": [
       "0.05012845433540521"
      ]
     },
     "execution_count": 21,
     "metadata": {},
     "output_type": "execute_result"
    }
   ],
   "source": [
    "mean(samples_mchmc.E[8000:end])"
   ]
  },
  {
   "cell_type": "code",
   "execution_count": 22,
   "id": "999faaf8",
   "metadata": {},
   "outputs": [
    {
     "data": {
      "text/plain": [
       "1.41758965966019"
      ]
     },
     "execution_count": 22,
     "metadata": {},
     "output_type": "execute_result"
    }
   ],
   "source": [
    "std(samples_mchmc.E[8000:end])^2/target.d"
   ]
  },
  {
   "cell_type": "code",
   "execution_count": 23,
   "id": "385a8b1a",
   "metadata": {},
   "outputs": [],
   "source": [
    "Wms_mchmc = [sample[1] for sample in samples_mchmc.Ω]\n",
    "s8s_mchmc = [sample[2] for sample in samples_mchmc.Ω];"
   ]
  },
  {
   "cell_type": "code",
   "execution_count": 24,
   "id": "2a803eb8",
   "metadata": {},
   "outputs": [
    {
     "data": {
      "image/png": "[encoded data removed]",
      "text/plain": [
       "Figure(PyObject <Figure size 640x480 with 1 Axes>)"
      ]
     },
     "metadata": {},
     "output_type": "display_data"
    }
   ],
   "source": [
    "plt.hist2d(Wms_mchmc, s8s_mchmc, bins=100, range=[[0.1, 0.4],[0.6, 1.2]]);\n",
    "plt.xlabel(\"Wm\")\n",
    "plt.ylabel(\"s8\")\n",
    "plt.title(\"MCHMC - RSD model - eps = 0.001 --> var[E]~0.00003\");"
   ]
  },
  {
   "cell_type": "markdown",
   "id": "22a0e69a",
   "metadata": {},
   "source": [
    "## AbstractMCMC"
   ]
  },
  {
   "cell_type": "code",
   "execution_count": 25,
   "id": "bd4b44c8",
   "metadata": {},
   "outputs": [
    {
     "data": {
      "text/plain": [
       "DynamicPPL.Model{typeof(model), (:data, :cov), (:cov,), (), Tuple{Vector{Float64}, Matrix{Float64}}, Tuple{Matrix{Float64}}, DynamicPPL.DefaultContext}(model, (data = [0.49749, 0.457523, 0.436148, 0.462, 0.413, 0.39, 0.437, 0.55, 0.4, 0.423, 0.482], cov = [0.00203355 0.000811829 … 0.0 0.0; 0.000811829 0.00142289 … 0.0 0.0; … ; 0.0 0.0 … 0.003025 0.0; 0.0 0.0 … 0.0 0.013456000000000001]), (cov = [0.00203355 0.000811829 … 0.0 0.0; 0.000811829 0.00142289 … 0.0 0.0; … ; 0.0 0.0 … 0.003025 0.0; 0.0 0.0 … 0.0 0.013456000000000001],), DynamicPPL.DefaultContext())"
      ]
     },
     "execution_count": 25,
     "metadata": {},
     "output_type": "execute_result"
    }
   ],
   "source": [
    "ctxt = stat_model"
   ]
  },
  {
   "cell_type": "code",
   "execution_count": 26,
   "id": "cd62b8bc",
   "metadata": {},
   "outputs": [
    {
     "name": "stdout",
     "output_type": "stream",
     "text": [
      "Using given hyperparameters\n"
     ]
    },
    {
     "name": "stderr",
     "output_type": "stream",
     "text": [
      "\u001b[32mSampling: 100%|█████████████████████████████████████████| Time: 0:00:00\u001b[39m\n"
     ]
    },
    {
     "data": {
      "text/plain": [
       "10000-element Vector{Tuple{Vector{Float64}, Float64, Float64}}:\n",
       " ([0.2079064447828568, 1.2768919807832897], 0.0, -35.44165769529895)\n",
       " ([0.2079064447828568, 1.2768919807832897], 10.675158453613086, -22.607076301724746)\n",
       " ([0.18379331055836384, 1.257014373837996], 31.266440859834276, -11.1021517779392)\n",
       " ([0.15876260023036626, 1.2383053909560786], 28.97227814344827, -1.2684160797891033)\n",
       " ([0.13252273452139787, 1.2213338869692392], 26.399695431009288, 6.104379209737994)\n",
       " ([0.10530434205604935, 1.20598065891771], 16.572537282886614, 9.10418135722772)\n",
       " ([0.07731188273869616, 1.192088764829202], 6.67063366555915, 10.307890151398857)\n",
       " ([0.08998302118218501, 1.1635229679639658], 3.6255589724351402, 11.551630490065646)\n",
       " ([0.09413616066781451, 1.1325501745411422], 7.153495447182104, 10.06670261756177)\n",
       " ([0.07502894962712854, 1.107822113835808], 4.527975113550346, 12.297590836790341)\n",
       " ([0.10585603998879918, 1.112945881964187], 4.665576082353478, 13.382911187334575)\n",
       " ([0.10405065339005659, 1.081748076284475], 3.2939940809400436, 14.49274280999934)\n",
       " ([0.1164747010125019, 1.053073949607709], 3.5452731822607007, 12.05785685842726)\n",
       " ⋮\n",
       " ([0.23072795520749048, 0.8969922863007713], -1.4789211426865734, 17.030978109024954)\n",
       " ([0.2576025968769113, 0.9129395787085824], -4.767875872053882, 14.46348939675787)\n",
       " ([0.27104913842987916, 0.9411486733460271], -4.723797297031572, 16.165010513402986)\n",
       " ([0.2398002786142048, 0.9414156194460763], 3.1623266710910904, 17.928998212565507)\n",
       " ([0.21356677871592045, 0.9244342772409763], 3.1632915569237543, 17.542091214958695)\n",
       " ([0.24288120871133748, 0.9136071495496726], -1.8849534917239303, 15.404167204680503)\n",
       " ([0.2516389321682472, 0.9436048957958874], -3.7099928125586015, 16.483600588504082)\n",
       " ([0.22113113455125658, 0.9503751826849891], 0.9876138947190896, 14.99717628583092)\n",
       " ([0.2523293892082373, 0.9485775713926954], 0.22785606069392017, 17.320678360938935)\n",
       " ([0.24184412743732092, 0.9191391307818995], 4.591549145747113, 18.33922886258304)\n",
       " ([0.21147039380470495, 0.9117907428488292], 1.3678262635434564, 18.321575380523914)\n",
       " ([0.18289597728806894, 0.8991390543949587], -0.580443271392074, 17.799571956223105)"
      ]
     },
     "execution_count": 26,
     "metadata": {},
     "output_type": "execute_result"
    }
   ],
   "source": [
    "sample(stat_model, mchmc, 10000;\n",
    "       monitor_energy=true, \n",
    "       dialog=true)"
   ]
  },
  {
   "cell_type": "markdown",
   "id": "4aadd3b5",
   "metadata": {},
   "source": [
    "## NUTS"
   ]
  },
  {
   "cell_type": "code",
   "execution_count": 18,
   "id": "dcbe40a3",
   "metadata": {},
   "outputs": [
    {
     "name": "stderr",
     "output_type": "stream",
     "text": [
      "\u001b[36m\u001b[1m┌ \u001b[22m\u001b[39m\u001b[36m\u001b[1mInfo: \u001b[22m\u001b[39mFound initial step size\n",
      "\u001b[36m\u001b[1m└ \u001b[22m\u001b[39m  ϵ = 0.0015625\n",
      "\u001b[32mSampling: 100%|█████████████████████████████████████████| Time: 0:00:04\u001b[39m\n"
     ]
    },
    {
     "data": {
      "text/plain": [
       "Chains MCMC chain (10000×14×1 Array{Float64, 3}):\n",
       "\n",
       "Iterations        = 501:1:10500\n",
       "Number of chains  = 1\n",
       "Samples per chain = 10000\n",
       "Wall duration     = 11.54 seconds\n",
       "Compute duration  = 11.54 seconds\n",
       "parameters        = Ωm, σ8\n",
       "internals         = lp, n_steps, is_accept, acceptance_rate, log_density, hamiltonian_energy, hamiltonian_energy_error, max_hamiltonian_energy_error, tree_depth, numerical_error, step_size, nom_step_size\n",
       "\n",
       "Summary Statistics\n",
       " \u001b[1m parameters \u001b[0m \u001b[1m    mean \u001b[0m \u001b[1m     std \u001b[0m \u001b[1m naive_se \u001b[0m \u001b[1m    mcse \u001b[0m \u001b[1m     ess \u001b[0m \u001b[1m    rhat \u001b[0m \u001b[1m es\u001b[0m ⋯\n",
       " \u001b[90m     Symbol \u001b[0m \u001b[90m Float64 \u001b[0m \u001b[90m Float64 \u001b[0m \u001b[90m  Float64 \u001b[0m \u001b[90m Float64 \u001b[0m \u001b[90m Float64 \u001b[0m \u001b[90m Float64 \u001b[0m \u001b[90m   \u001b[0m ⋯\n",
       "\n",
       "          Ωm   -0.9946    0.0096     0.0001    0.0008   31.1564    1.1032      ⋯\n",
       "          σ8    0.0014    0.0006     0.0000    0.0001   31.0577    1.1044      ⋯\n",
       "\u001b[36m                                                                1 column omitted\u001b[0m\n",
       "\n",
       "Quantiles\n",
       " \u001b[1m parameters \u001b[0m \u001b[1m    2.5% \u001b[0m \u001b[1m   25.0% \u001b[0m \u001b[1m   50.0% \u001b[0m \u001b[1m   75.0% \u001b[0m \u001b[1m   97.5% \u001b[0m\n",
       " \u001b[90m     Symbol \u001b[0m \u001b[90m Float64 \u001b[0m \u001b[90m Float64 \u001b[0m \u001b[90m Float64 \u001b[0m \u001b[90m Float64 \u001b[0m \u001b[90m Float64 \u001b[0m\n",
       "\n",
       "          Ωm   -1.0206   -0.9984   -0.9923   -0.9876   -0.9842\n",
       "          σ8    0.0006    0.0009    0.0012    0.0016    0.0030\n"
      ]
     },
     "execution_count": 18,
     "metadata": {},
     "output_type": "execute_result"
    }
   ],
   "source": [
    "samples_hmc = sample(stat_model, NUTS(500, 0.65),\n",
    "                     10000, progress=true; save_state=true)"
   ]
  },
  {
   "cell_type": "code",
   "execution_count": 19,
   "id": "fa9db828",
   "metadata": {},
   "outputs": [],
   "source": [
    "Wms_hmc = vec(samples_hmc[\"Ωm\"])\n",
    "s8s_hmc = vec(samples_hmc[\"σ8\"]);"
   ]
  },
  {
   "cell_type": "code",
   "execution_count": 20,
   "id": "3d063a52",
   "metadata": {},
   "outputs": [
    {
     "data": {
      "image/png": "[encoded data removed]",
      "text/plain": [
       "Figure(PyObject <Figure size 640x480 with 1 Axes>)"
      ]
     },
     "metadata": {},
     "output_type": "display_data"
    }
   ],
   "source": [
    "plt.hist2d(Wms_hmc, s8s_hmc, bins=100, range=[[0.1, 0.4],[0.6, 1.2]]);\n",
    "plt.xlabel(\"Wm\")\n",
    "plt.ylabel(\"s8\")\n",
    "plt.title(\"HMC - RSD model\");"
   ]
  }
 ],
 "metadata": {
  "kernelspec": {
   "display_name": "Julia 1.9.0-beta3",
   "language": "julia",
   "name": "julia-1.9"
  },
  "language_info": {
   "file_extension": ".jl",
   "mimetype": "application/julia",
   "name": "julia",
   "version": "1.9.0"
  }
 },
 "nbformat": 4,
 "nbformat_minor": 5
}
