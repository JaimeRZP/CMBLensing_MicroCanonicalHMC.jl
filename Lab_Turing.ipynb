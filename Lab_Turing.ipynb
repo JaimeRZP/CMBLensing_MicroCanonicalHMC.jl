{
 "cells": [
  {
   "cell_type": "markdown",
   "id": "91129cb1",
   "metadata": {},
   "source": [
    "# Turing Target Practice"
   ]
  },
  {
   "cell_type": "markdown",
   "id": "97121235",
   "metadata": {},
   "source": [
    "## Model"
   ]
  },
  {
   "cell_type": "code",
   "execution_count": 5,
   "id": "baed58e3",
   "metadata": {},
   "outputs": [
    {
     "name": "stderr",
     "output_type": "stream",
     "text": [
      "\u001b[36m\u001b[1m[ \u001b[22m\u001b[39m\u001b[36m\u001b[1mInfo: \u001b[22m\u001b[39mPrecompiling MicroCanonicalHMC [234d2aa0-2291-45f7-9047-6fa6f316b0a8]\n"
     ]
    }
   ],
   "source": [
    "# The statistical inference frame-work we will use\n",
    "using Turing\n",
    "using Interpolations\n",
    "using ForwardDiff\n",
    "using LinearAlgebra\n",
    "#using StatsPlots\n",
    "using PyPlot\n",
    "using Distributed\n",
    "\n",
    "using Revise\n",
    "using MicroCanonicalHMC"
   ]
  },
  {
   "cell_type": "code",
   "execution_count": 6,
   "id": "a7d6f81c",
   "metadata": {},
   "outputs": [],
   "source": [
    "fs8_zs = [0.38, 0.51, 0.61, 1.48, 0.44, 0.6, 0.73, 0.6, 0.86, 0.067, 1.4]\n",
    "fs8_data = [0.49749, 0.457523, 0.436148, 0.462, 0.413, 0.39, 0.437, 0.55, 0.4, 0.423, 0.482]\n",
    "fs8_cov = [0.00203355 0.000811829 0.000264615 0.0 0.0 0.0 0.0 0.0 0.0 0.0 0.0;\n",
    "           0.000811829 0.00142289 0.000662824 0.0 0.0 0.0 0.0 0.0 0.0 0.0 0.0; \n",
    "           0.000264615 0.000662824 0.00118576 0.0 0.0 0.0 0.0 0.0 0.0 0.0 0.0;\n",
    "           0.0 0.0 0.0 0.002025 0.0 0.0 0.0 0.0 0.0 0.0 0.0;\n",
    "           0.0 0.0 0.0 0.0 0.0064 0.00257 0.0 0.0 0.0 0.0 0.0;\n",
    "           0.0 0.0 0.0 0.0 0.00257 0.003969 0.00254 0.0 0.0 0.0 0.0;\n",
    "           0.0 0.0 0.0 0.0 0.0 0.00254 0.005184 0.0 0.0 0.0 0.0;\n",
    "           0.0 0.0 0.0 0.0 0.0 0.0 0.0 0.0144 0.0 0.0 0.0;\n",
    "           0.0 0.0 0.0 0.0 0.0 0.0 0.0 0.0 0.0121 0.0 0.0; \n",
    "           0.0 0.0 0.0 0.0 0.0 0.0 0.0 0.0 0.0 0.003025 0.0;\n",
    "           0.0 0.0 0.0 0.0 0.0 0.0 0.0 0.0 0.0 0.0 0.013456000000000001];"
   ]
  },
  {
   "cell_type": "code",
   "execution_count": 7,
   "id": "1359a630",
   "metadata": {
    "code_folding": []
   },
   "outputs": [
    {
     "data": {
      "text/plain": [
       "make_fs8 (generic function with 1 method)"
      ]
     },
     "execution_count": 7,
     "metadata": {},
     "output_type": "execute_result"
    }
   ],
   "source": [
    "function make_fs8(Ωm, σ8; Ωr=8.24*10^-5)\n",
    "    # ODE solution for growth factor\n",
    "    x_Dz = LinRange(0, log(1+1100), 300)\n",
    "    dx_Dz = x_Dz[2]-x_Dz[1]\n",
    "    z_Dz = @.(exp(x_Dz) - 1)\n",
    "    a_Dz = @.(1/(1+z_Dz))\n",
    "    aa = reverse(a_Dz)\n",
    "    e =  @.(sqrt.(abs(Ωm)*(1+z_Dz)^3+Ωr*(1+z_Dz)^4+(1-Ωm-Ωr)))\n",
    "    ee = reverse(e)\n",
    "\n",
    "    dd = zeros(typeof(Ωm), 300)\n",
    "    yy = zeros(typeof(Ωm), 300)\n",
    "    dd[1] = aa[1]\n",
    "    yy[1] = aa[1]^3*ee[end]\n",
    "\n",
    "    for i in 1:(300-1)\n",
    "        A0 = -1.5 * Ωm / (aa[i]*ee[i])\n",
    "        B0 = -1. / (aa[i]^2*ee[i])\n",
    "        A1 = -1.5 * Ωm / (aa[i+1]*ee[i+1])\n",
    "        B1 = -1. / (aa[i+1]^2*ee[i+1])\n",
    "        yy[i+1] = (1+0.5*dx_Dz^2*A0*B0)*yy[i] + 0.5*(A0+A1)*dx_Dz*dd[i]\n",
    "        dd[i+1] = 0.5*(B0+B1)*dx_Dz*yy[i] + (1+0.5*dx_Dz^2*A0*B0)*dd[i]\n",
    "    end\n",
    "\n",
    "    y = reverse(yy)\n",
    "    d = reverse(dd)\n",
    "\n",
    "    Dzi = LinearInterpolation(z_Dz, d./d[1], extrapolation_bc=Line())\n",
    "    fs8zi = LinearInterpolation(z_Dz, -σ8 .* y./ (a_Dz.^2 .*e.*d[1]),\n",
    "                                 extrapolation_bc=Line())\n",
    "    return fs8zi\n",
    "end"
   ]
  },
  {
   "cell_type": "code",
   "execution_count": 8,
   "id": "8005e277",
   "metadata": {},
   "outputs": [],
   "source": [
    "@model function model(data; cov = fs8_cov) \n",
    "    # Define priors\n",
    "    #KiDS priors\n",
    "    Ωm  ~ Uniform(0.01, 0.6)\n",
    "    σ8 ~ Normal(0.8, 0.3)\n",
    "    fs8_itp = make_fs8(Ωm, σ8)\n",
    "    theory = fs8_itp(fs8_zs)\n",
    "    data ~ MvNormal(theory, cov)\n",
    "end;"
   ]
  },
  {
   "cell_type": "code",
   "execution_count": 9,
   "id": "1eebe796",
   "metadata": {},
   "outputs": [
    {
     "data": {
      "text/plain": [
       "DynamicPPL.Model{typeof(model), (:data, :cov), (:cov,), (), Tuple{Vector{Float64}, Matrix{Float64}}, Tuple{Matrix{Float64}}, DynamicPPL.DefaultContext}(model, (data = [0.49749, 0.457523, 0.436148, 0.462, 0.413, 0.39, 0.437, 0.55, 0.4, 0.423, 0.482], cov = [0.00203355 0.000811829 … 0.0 0.0; 0.000811829 0.00142289 … 0.0 0.0; … ; 0.0 0.0 … 0.003025 0.0; 0.0 0.0 … 0.0 0.013456000000000001]), (cov = [0.00203355 0.000811829 … 0.0 0.0; 0.000811829 0.00142289 … 0.0 0.0; … ; 0.0 0.0 … 0.003025 0.0; 0.0 0.0 … 0.0 0.013456000000000001],), DynamicPPL.DefaultContext())"
      ]
     },
     "execution_count": 9,
     "metadata": {},
     "output_type": "execute_result"
    }
   ],
   "source": [
    "stat_model = model(fs8_data)"
   ]
  },
  {
   "cell_type": "markdown",
   "id": "10dfa4cc",
   "metadata": {},
   "source": [
    "## Sampling"
   ]
  },
  {
   "cell_type": "code",
   "execution_count": 10,
   "id": "c8ed14a3",
   "metadata": {},
   "outputs": [],
   "source": [
    "target = TuringTarget(stat_model);"
   ]
  },
  {
   "cell_type": "code",
   "execution_count": 11,
   "id": "82938e27",
   "metadata": {
    "scrolled": false
   },
   "outputs": [
    {
     "name": "stdout",
     "output_type": "stream",
     "text": [
      "Initial Virial loss: 1435.5857357359166\n",
      "Virial loss: "
     ]
    },
    {
     "name": "stderr",
     "output_type": "stream",
     "text": [
      "\u001b[36m\u001b[1m[ \u001b[22m\u001b[39m\u001b[36m\u001b[1mInfo: \u001b[22m\u001b[39mUsing given sigma ✅\n",
      "\u001b[36m\u001b[1m[ \u001b[22m\u001b[39m\u001b[36m\u001b[1mInfo: \u001b[22m\u001b[39mTuning eps ⏳\n",
      "\u001b[36m\u001b[1m[ \u001b[22m\u001b[39m\u001b[36m\u001b[1mInfo: \u001b[22m\u001b[39mTuning L ⏳\n",
      "\u001b[36m\u001b[1m[ \u001b[22m\u001b[39m\u001b[36m\u001b[1mInfo: \u001b[22m\u001b[39mInitial nu 0.2281016476686452\n",
      "\u001b[36m\u001b[1m[ \u001b[22m\u001b[39m\u001b[36m\u001b[1mInfo: \u001b[22m\u001b[39mStarting burn in ⏳\n"
     ]
    },
    {
     "name": "stdout",
     "output_type": "stream",
     "text": [
      "69.2934437573563 --> Relative improvement: 0.9517315879975398\n",
      "Using eps tuning method AdaptiveStep\n"
     ]
    },
    {
     "name": "stderr",
     "output_type": "stream",
     "text": [
      "\u001b[33m\u001b[1m┌ \u001b[22m\u001b[39m\u001b[33m\u001b[1mWarning: \u001b[22m\u001b[39mMaximum number of steps reached during burn-in\n",
      "\u001b[33m\u001b[1m└ \u001b[22m\u001b[39m\u001b[90m@ MicroCanonicalHMC ~/Glamdring/MicroCanonicalHMC.jl/src/tuning.jl:259\u001b[39m\n"
     ]
    },
    {
     "name": "stdout",
     "output_type": "stream",
     "text": [
      "eps: 0.07 --> VarE/d: 5378.053254004172\n",
      "eps: 0.02429994322745527 --> VarE/d: 563.3543686758622\n",
      "eps: 0.00948262617418499 --> VarE/d: 81.0436237647363\n",
      "eps: 0.004623205798855663 --> VarE/d: 18.746592217577817\n",
      "eps: 0.0027591256555537617 --> VarE/d: 6.6361219009919985\n",
      "eps: 0.0019016142545855994 --> VarE/d: 3.1340875737903504\n",
      "eps: 0.001441801787217334 --> VarE/d: 1.7703048037983562\n",
      "eps: 0.0011651106743466467 --> VarE/d: 1.1484858234407982\n",
      "eps: 0.0009834766396060258 --> VarE/d: 0.8267489722804439\n",
      "eps: 0.0008559568105896975 --> VarE/d: 0.6100556690023137\n",
      "eps: 0.0007622705444837171 --> VarE/d: 0.47675578090044335\n",
      "eps: 0.0006906323562258169 --> VarE/d: 0.3974823541532196\n",
      "eps: 0.0006338336288517612 --> VarE/d: 0.3323743146615382\n",
      "eps: 0.0005878280820617108 --> VarE/d: 0.2740512475517455\n",
      "eps: 0.0005500677850479607 --> VarE/d: 0.22968936665258657\n",
      "eps: 0.0005185743308321751 --> VarE/d: 0.22035596491982917\n",
      "eps: 0.0004911366731544566 --> VarE/d: 0.20138637470623763\n",
      "eps: 0.00046725826609176924 --> VarE/d: 0.1829387418126627\n",
      "eps: 0.0004463295215879173 --> VarE/d: 0.16363302068805013\n",
      "eps: 0.0004279329795663368 --> VarE/d: 0.14962310253879083\n",
      "eps: 0.00041156328953431795 --> VarE/d: 0.14063851946667583\n",
      "eps: 0.0003967944955375228 --> VarE/d: 0.1302847311051355\n",
      "eps: 0.00038346348171305336 --> VarE/d: 0.12209037885708872\n",
      "eps: 0.00037133364950235896 --> VarE/d: 0.11257338299348595\n",
      "eps: 0.0003603156244354096 --> VarE/d: 0.10787685310020247\n",
      "eps: 0.0003501379141762623 --> VarE/d: 0.1016566376225393\n",
      "eps: 0.0003407625801586512 --> VarE/d: 0.09164725666607915\n",
      "eps: 0.0003322488859975373 --> VarE/d: 0.08287356691060332\n",
      "eps: 0.00032450042918768076 --> VarE/d: 0.074152494693629\n",
      "eps: 0.00031747649469796084 --> VarE/d: 0.08233703315201488\n",
      "eps: 0.0003104717456160148 --> VarE/d: 0.07325876197603338\n",
      "eps: 0.0003041098996173406 --> VarE/d: 0.07142204040051568\n",
      "eps: 0.0002980871567876065 --> VarE/d: 0.06788223942289995\n",
      "eps: 0.0002924421873040917 --> VarE/d: 0.06551927660275747\n",
      "eps: 0.00028710547122795836 --> VarE/d: 0.056817493937072576\n",
      "eps: 0.0002823202912284412 --> VarE/d: 0.06451328545347786\n",
      "eps: 0.00027739569868092333 --> VarE/d: 0.06283191892354976\n",
      "eps: 0.0002726999737457836 --> VarE/d: 0.06031137087791392\n",
      "eps: 0.00026824987045113026 --> VarE/d: 0.05460912058105188\n",
      "eps: 0.000264157542335927 --> VarE/d: 0.05699447157616463\n",
      "eps: 0.00026009579160377755 --> VarE/d: 0.05307549713948588\n",
      "eps: 0.0002563003160957586 --> VarE/d: 0.053659644958494776\n",
      "eps: 0.00025258789832302667 --> VarE/d: 0.05102088285920108\n",
      "eps: 0.0002490754906630721 --> VarE/d: 0.04673333930998733\n",
      "eps: 0.00024582512535061 --> VarE/d: 0.048994124326229106\n",
      "eps: 0.00024256448765711325 --> VarE/d: 0.047617415170106044\n",
      "eps: 0.00023943552227957023 --> VarE/d: 0.0433362394284672\n",
      "eps: 0.00023655201715466496 --> VarE/d: 0.03794883804871489\n",
      "eps: 0.00023397358921457633 --> VarE/d: 0.03251362585151407\n",
      "eps: 0.00023172843505028288 --> VarE/d: 0.04014422365089266\n",
      "eps: 0.00022915329358544708 --> VarE/d: 0.04244378373275438\n",
      "eps: 0.00022653429929695367 --> VarE/d: 0.039232627497464756\n",
      "eps: 0.0002240988079322001 --> VarE/d: 0.04067930337382579\n",
      "eps: 0.00022164934236465025 --> VarE/d: 0.03972988596957358\n",
      "eps: 0.00021928345328955993 --> VarE/d: 0.03833304226856397\n",
      "eps: 0.0002170171141248062 --> VarE/d: 0.03508964641789625\n",
      "eps: 0.00021492959040480815 --> VarE/d: 0.030647842455731763\n",
      "eps: 0.00021308904395160775 --> VarE/d: 0.03130453670328277\n",
      "eps: 0.00021124364484923362 --> VarE/d: 0.0354774686520344\n",
      "eps: 0.00020923566126765286 --> VarE/d: 0.032750398155372965\n",
      "eps: 0.0002073781582253197 --> VarE/d: 0.028707008985483472\n",
      "eps: 0.00020574400650081497 --> VarE/d: 0.02522360808776261\n",
      "eps: 0.00020432429596504973 --> VarE/d: 0.02105519355386262\n",
      "eps: 0.00020319077495767083 --> VarE/d: 0.024820572127745178\n",
      "eps: 0.00020182786928187588 --> VarE/d: 0.02041118913485415\n",
      "eps: 0.00020076563364731937 --> VarE/d: 0.02654874412645025\n",
      "eps: 0.000199336866964117 --> VarE/d: 0.024983001052288723\n",
      "eps: 0.00019801043899280875 --> VarE/d: 0.021217327354624706\n",
      "eps: 0.00019692827749126805 --> VarE/d: 0.018057100720513003\n",
      "eps: 0.00019608363790374366 --> VarE/d: 0.024121416922607688\n",
      "eps: 0.00019484436048777397 --> VarE/d: 0.020285932236789005\n",
      "eps: 0.00019385481076219648 --> VarE/d: 0.016428162100184204\n",
      "eps: 0.0001931637567662067 --> VarE/d: 0.01696341918908481\n",
      "eps: 0.00019243397145931012 --> VarE/d: 0.01871882500293359\n",
      "eps: 0.00019157629772760694 --> VarE/d: 0.022929845696692156\n",
      "eps: 0.00019045528275582802 --> VarE/d: 0.023751033377909923\n",
      "eps: 0.00018929834568101275 --> VarE/d: 0.023971878583352584\n",
      "eps: 0.00018813993762528835 --> VarE/d: 0.02711725957613037\n",
      "eps: 0.00018683462926854039 --> VarE/d: 0.024026243656123925\n",
      "eps: 0.00018569474022464964 --> VarE/d: 0.020294963941127814\n",
      "eps: 0.00018477859171311413 --> VarE/d: 0.019280605587506206\n",
      "eps: 0.00018393434876112726 --> VarE/d: 0.01554882927864562\n",
      "eps: 0.0001833686129350963 --> VarE/d: 0.015347420919996461\n",
      "eps: 0.00018282261780635823 --> VarE/d: 0.021669729045264256\n",
      "eps: 0.00018184890191669413 --> VarE/d: 0.018404204315838495\n",
      "eps: 0.00018108390162017193 --> VarE/d: 0.017207208950693758\n",
      "eps: 0.0001804067692461201 --> VarE/d: 0.018143379843225987\n",
      "eps: 0.00017966866972473405 --> VarE/d: 0.023540462323588595\n",
      "eps: 0.00017862065548524892 --> VarE/d: 0.022256100376694805\n",
      "eps: 0.00017764737432517398 --> VarE/d: 0.02416772744671586\n",
      "eps: 0.00017658382708108847 --> VarE/d: 0.022029558587141063\n",
      "eps: 0.0001756368999167693 --> VarE/d: 0.02134477844888081\n",
      "eps: 0.0001747334936910519 --> VarE/d: 0.01804966088131565\n",
      "eps: 0.0001740321003931245 --> VarE/d: 0.022353131554767387\n",
      "eps: 0.00017308657149801778 --> VarE/d: 0.022350514795463138\n",
      "eps: 0.0001721476443570308 --> VarE/d: 0.021134962983825594\n",
      "eps: 0.00017127875408347258 --> VarE/d: 0.022775052861474986\n",
      "eps: 0.00017033091461501627 --> VarE/d: 0.022675001629189548\n",
      "eps: 0.00016939441341325 --> VarE/d: 0.022579441312679957\n",
      "eps: 0.00016846886659809928 --> VarE/d: 0.02234376702326935\n",
      "samples: 100--> 1/<1/ess>: 0.023363826238055545\n",
      "samples: 203--> 1/<1/ess>: 0.011295709781927133\n",
      "samples: 310--> 1/<1/ess>: 0.005751758262797329\n",
      "samples: 420--> 1/<1/ess>: 0.00441877232430317\n",
      "samples: 534--> 1/<1/ess>: 0.0030179902887022573\n",
      "samples: 652--> 1/<1/ess>: 0.0026184019925098528\n",
      "samples: 774--> 1/<1/ess>: 0.0025132914480199787\n",
      "samples: 900--> 1/<1/ess>: 0.0024127270325465843\n",
      "samples: 1030--> 1/<1/ess>: 0.0023635630575632592\n",
      "samples: 1164--> 1/<1/ess>: 0.00231397487187864\n",
      "samples: 1302--> 1/<1/ess>: 0.0022835733692387577\n",
      "samples: 1445--> 1/<1/ess>: 0.002260812088155939\n",
      "samples: 1593--> 1/<1/ess>: 0.002230998361661669\n",
      "samples: 1746--> 1/<1/ess>: 0.0022047672780821123\n",
      "samples: 1904--> 1/<1/ess>: 0.0022064352067134247\n",
      "samples: 2067--> 1/<1/ess>: 0.002196240192632688\n",
      "samples: 2235--> 1/<1/ess>: 0.0021627445113346177\n",
      "samples: 2409--> 1/<1/ess>: 0.002150869134145186\n",
      "samples: 2589--> 1/<1/ess>: 0.002137375100313314\n",
      "samples: 2774--> 1/<1/ess>: 0.0021199390155301435\n",
      "samples: 2966--> 1/<1/ess>: 0.002109440497014959\n",
      "samples: 3164--> 1/<1/ess>: 0.0021002072737493173\n",
      "samples: 3368--> 1/<1/ess>: 0.002090887313590529\n",
      "samples: 3579--> 1/<1/ess>: 0.002080125392003078\n",
      "samples: 3797--> 1/<1/ess>: 0.002082826804301014\n",
      "samples: 4022--> 1/<1/ess>: 0.002104874697405892\n",
      "samples: 4255--> 1/<1/ess>: 0.002107187071918118\n",
      "samples: 4496--> 1/<1/ess>: 0.0021419890397474783\n",
      "samples: 4745--> 1/<1/ess>: 0.0021309477097594546\n"
     ]
    },
    {
     "name": "stderr",
     "output_type": "stream",
     "text": [
      "\u001b[36m\u001b[1m[ \u001b[22m\u001b[39m\u001b[36m\u001b[1mInfo: \u001b[22m\u001b[39mFound L: 0.031452866757971314 ✅\n",
      "\u001b[36m\u001b[1m[ \u001b[22m\u001b[39m\u001b[36m\u001b[1mInfo: \u001b[22m\u001b[39mFinal nu 0.07318368126667191\n"
     ]
    }
   ],
   "source": [
    "spl = MCHMC(0.0, 0.0; init_eps=0.07, varE_wanted=0.01, sigma=ones(2))\n",
    "samples_mchmc = Sample(spl, target, 100_000;\n",
    "                       burn_in=1_000,  \n",
    "                       file_name=\"Turing_sequential_samples\",\n",
    "                       dialog=true);"
   ]
  },
  {
   "cell_type": "code",
   "execution_count": 12,
   "id": "54c70b0f",
   "metadata": {},
   "outputs": [
    {
     "data": {
      "text/plain": [
       "2-element Vector{Float64}:\n",
       " 0.029536833652693665\n",
       " 0.0913733594915083"
      ]
     },
     "execution_count": 12,
     "metadata": {},
     "output_type": "execute_result"
    }
   ],
   "source": [
    "std(samples_mchmc)[1:end-2]"
   ]
  },
  {
   "cell_type": "code",
   "execution_count": 13,
   "id": "385a8b1a",
   "metadata": {},
   "outputs": [],
   "source": [
    "Wms_mchmc = [sample[1] for sample in samples_mchmc]\n",
    "s8s_mchmc = [sample[2] for sample in samples_mchmc];"
   ]
  },
  {
   "cell_type": "code",
   "execution_count": 14,
   "id": "2a803eb8",
   "metadata": {},
   "outputs": [
    {
     "data": {
      "image/png": "[encoded data removed]",
      "text/plain": [
       "Figure(PyObject <Figure size 640x480 with 1 Axes>)"
      ]
     },
     "metadata": {},
     "output_type": "display_data"
    }
   ],
   "source": [
    "plt.hist2d(Wms_mchmc, s8s_mchmc, bins=100, range=[[0.1, 0.6],[0.6, 1.2]]);\n",
    "plt.xlabel(\"Wm\")\n",
    "plt.ylabel(\"s8\")\n",
    "plt.title(\"MCHMC - RSD model\");"
   ]
  },
  {
   "cell_type": "code",
   "execution_count": 15,
   "id": "ae097bf4",
   "metadata": {
    "scrolled": false
   },
   "outputs": [
    {
     "name": "stderr",
     "output_type": "stream",
     "text": [
      "\u001b[36m\u001b[1m[ \u001b[22m\u001b[39m\u001b[36m\u001b[1mInfo: \u001b[22m\u001b[39mTuning sigma ⏳\n",
      "\u001b[36m\u001b[1m[ \u001b[22m\u001b[39m\u001b[36m\u001b[1mInfo: \u001b[22m\u001b[39mTuning eps ⏳\n",
      "\u001b[36m\u001b[1m[ \u001b[22m\u001b[39m\u001b[36m\u001b[1mInfo: \u001b[22m\u001b[39mUsing given L ✅\n",
      "\u001b[36m\u001b[1m[ \u001b[22m\u001b[39m\u001b[36m\u001b[1mInfo: \u001b[22m\u001b[39mInitial nu 0.4019513728906998\n",
      "\u001b[36m\u001b[1m[ \u001b[22m\u001b[39m\u001b[36m\u001b[1mInfo: \u001b[22m\u001b[39mStarting burn in ⏳\n"
     ]
    },
    {
     "name": "stdout",
     "output_type": "stream",
     "text": [
      "Initial Virial loss: 43476.543102433374\n",
      "Virial loss: 167.3134287200322 --> Relative improvement: 0.9961516390959182\n",
      "Virial loss: 131.88171589054505 --> Relative improvement: 0.21176849402073694\n",
      "Virial loss: 99.27701417381904 --> Relative improvement: 0.24722685397713673\n",
      "Virial loss: 87.8891322933008 --> Relative improvement: 0.11470814241632787\n",
      "Virial loss: 60.86018990660033 --> Relative improvement: 0.30753452311373775\n",
      "Virial loss: 42.38491308341306 --> Relative improvement: 0.30356916157410174\n",
      "Virial loss: 28.563737197921213 --> Relative improvement: 0.3260871588504126\n",
      "Virial loss: 28.075013699598102 --> Relative improvement: 0.017109928401059515\n",
      "Virial loss: 28.007738290746268 --> Relative improvement: 0.002396273411357175\n"
     ]
    },
    {
     "name": "stderr",
     "output_type": "stream",
     "text": [
      "\u001b[36m\u001b[1m[ \u001b[22m\u001b[39m\u001b[36m\u001b[1mInfo: \u001b[22m\u001b[39mVirial loss condition met during burn-in at step: 452\n",
      "\u001b[36m\u001b[1m[ \u001b[22m\u001b[39m\u001b[36m\u001b[1mInfo: \u001b[22m\u001b[39mFound sigma: [0.9973211503956849, 0.07314726907703215] ✅\n"
     ]
    },
    {
     "name": "stdout",
     "output_type": "stream",
     "text": [
      "Using eps tuning method AdaptiveStep\n",
      "eps: 0.07 --> VarE/d: 2.70643656725597\n",
      "eps: 0.04269348051965533 --> VarE/d: 1.2993666826157468\n",
      "eps: 0.03450145854089849 --> VarE/d: 0.9199403875439145\n",
      "eps: 0.03034855026106582 --> VarE/d: 0.6918106098476551\n",
      "eps: 0.027833002694889135 --> VarE/d: 0.6115047879338714\n",
      "eps: 0.026049269795401647 --> VarE/d: 0.5253209342354013\n",
      "eps: 0.024736331590483735 --> VarE/d: 0.47453436470918825\n",
      "eps: 0.023708132250548755 --> VarE/d: 0.43904026264890506\n",
      "eps: 0.022870406036840416 --> VarE/d: 0.4108310366933172\n",
      "eps: 0.02216965562769517 --> VarE/d: 0.3908964745351507\n",
      "eps: 0.02156792014273807 --> VarE/d: 0.3563624185186501\n",
      "eps: 0.021061080761079855 --> VarE/d: 0.34147815459714304\n",
      "eps: 0.020614225203073527 --> VarE/d: 0.3242946056551398\n",
      "eps: 0.020219984875061135 --> VarE/d: 0.3309144365257297\n",
      "eps: 0.019848729299711893 --> VarE/d: 0.30722538123859156\n",
      "eps: 0.0195232977913818 --> VarE/d: 0.3143472524445886\n",
      "eps: 0.019212103723680683 --> VarE/d: 0.29719313207692055\n",
      "eps: 0.01893275972803509 --> VarE/d: 0.29332989790763586\n",
      "eps: 0.018671421012996264 --> VarE/d: 0.2798706286777345\n",
      "eps: 0.018433597063246543 --> VarE/d: 0.2737960686702193\n",
      "eps: 0.018211485803276157 --> VarE/d: 0.2664036697568795\n",
      "eps: 0.018004615776354385 --> VarE/d: 0.26775110497288457\n",
      "eps: 0.017805170750832884 --> VarE/d: 0.2714950279627866\n",
      "eps: 0.017610778025692015 --> VarE/d: 0.26653341024423066\n",
      "eps: 0.017426840654539033 --> VarE/d: 0.24972704061761228\n",
      "eps: 0.017260726021007165 --> VarE/d: 0.24739447100584244\n",
      "eps: 0.017101572281631786 --> VarE/d: 0.24057739450223642\n",
      "eps: 0.01695192823912314 --> VarE/d: 0.2456711624262517\n",
      "eps: 0.016803229732338085 --> VarE/d: 0.2472474145950289\n",
      "eps: 0.01665765405597031 --> VarE/d: 0.24863107752007702\n",
      "eps: 0.016515092935032626 --> VarE/d: 0.23660423801205047\n",
      "eps: 0.016383541801822107 --> VarE/d: 0.23188829914573966\n",
      "eps: 0.016258082486704108 --> VarE/d: 0.22756939615755128\n",
      "eps: 0.016138172622328938 --> VarE/d: 0.20915916122349043\n",
      "eps: 0.016032689168772925 --> VarE/d: 0.21495784930642442\n",
      "eps: 0.015925588894157707 --> VarE/d: 0.22682513157977846\n",
      "eps: 0.015813378481849463 --> VarE/d: 0.21566349847057786\n",
      "eps: 0.01570998739844846 --> VarE/d: 0.20666837775594557\n",
      "eps: 0.015614014989615909 --> VarE/d: 0.21548024669002727\n",
      "eps: 0.015514378275931245 --> VarE/d: 0.20585464650531365\n",
      "eps: 0.0154221638932046 --> VarE/d: 0.19278751227141738\n",
      "eps: 0.015339552848640671 --> VarE/d: 0.2022215327839158\n",
      "eps: 0.015252355519821776 --> VarE/d: 0.20658257116031034\n",
      "eps: 0.01516389574085529 --> VarE/d: 0.19574675217813645\n",
      "eps: 0.015083097632614022 --> VarE/d: 0.20097278958054293\n",
      "eps: 0.01500032831530879 --> VarE/d: 0.20245544471375476\n",
      "eps: 0.014917825311069409 --> VarE/d: 0.19236214662049694\n",
      "eps: 0.014842220397725678 --> VarE/d: 0.20089780140791308\n",
      "eps: 0.014762668060636523 --> VarE/d: 0.20065337337571224\n",
      "eps: 0.014684226171814477 --> VarE/d: 0.1909669575602985\n",
      "eps: 0.014612147876927595 --> VarE/d: 0.19018999171144496\n",
      "eps: 0.014541322985614826 --> VarE/d: 0.1923927191092039\n",
      "eps: 0.014470032323852156 --> VarE/d: 0.18382377333832503\n",
      "eps: 0.0144043521451185 --> VarE/d: 0.17631490762128674\n",
      "eps: 0.014343739906860354 --> VarE/d: 0.16252376119941822\n",
      "eps: 0.014292254281219212 --> VarE/d: 0.17436308070549106\n",
      "eps: 0.014233901430795852 --> VarE/d: 0.1730750147981733\n",
      "eps: 0.014176835207484296 --> VarE/d: 0.16949413622241352\n",
      "eps: 0.014122400157369071 --> VarE/d: 0.16710219089520711\n",
      "eps: 0.014069859271481019 --> VarE/d: 0.16981049437438028\n",
      "eps: 0.014016122752244104 --> VarE/d: 0.1666112124728471\n",
      "eps: 0.013964709873443393 --> VarE/d: 0.17032152513052906\n",
      "eps: 0.013911507197619676 --> VarE/d: 0.1716909298296945\n",
      "eps: 0.013857920691976661 --> VarE/d: 0.16620479572487293\n",
      "eps: 0.013807900202601612 --> VarE/d: 0.1663511545505575\n",
      "eps: 0.013758147953485657 --> VarE/d: 0.16136531371640156\n",
      "eps: 0.013711670411613487 --> VarE/d: 0.1547899939809799\n",
      "eps: 0.013669484876289701 --> VarE/d: 0.16425132965358838\n",
      "eps: 0.013621910554161561 --> VarE/d: 0.16014322094796357\n",
      "eps: 0.013577034752387834 --> VarE/d: 0.15111699110123236\n",
      "eps: 0.013537893116126323 --> VarE/d: 0.15731349811096013\n",
      "eps: 0.01349520817425992 --> VarE/d: 0.1589947335005642\n",
      "eps: 0.013451779667296672 --> VarE/d: 0.15401692940515466\n",
      "eps: 0.013411540769429364 --> VarE/d: 0.15961184596762945\n",
      "eps: 0.013368235503633996 --> VarE/d: 0.15388869839044433\n",
      "eps: 0.013328509363103333 --> VarE/d: 0.14462081573911495\n",
      "eps: 0.013294653703283907 --> VarE/d: 0.1534766258664903\n",
      "eps: 0.013255560579877501 --> VarE/d: 0.14426977857872572\n",
      "eps: 0.013222250004853687 --> VarE/d: 0.13831569003303362\n",
      "eps: 0.013192886222962342 --> VarE/d: 0.13572363304125873\n",
      "eps: 0.013165342777939227 --> VarE/d: 0.13250827343291005\n",
      "eps: 0.013140053874034947 --> VarE/d: 0.14039668377407288\n",
      "eps: 0.013109702298925035 --> VarE/d: 0.15017679987598936\n",
      "eps: 0.013073504054873078 --> VarE/d: 0.14109151514460677\n",
      "eps: 0.013042968198906595 --> VarE/d: 0.14728082021164543\n",
      "eps: 0.013008776207924483 --> VarE/d: 0.1418169772032871\n",
      "eps: 0.01297803321345697 --> VarE/d: 0.14342112135011892\n",
      "eps: 0.01294642479538177 --> VarE/d: 0.13810165794063625\n",
      "eps: 0.012918222995608844 --> VarE/d: 0.14370370565800522\n",
      "eps: 0.012886673587980636 --> VarE/d: 0.14056917141844907\n",
      "eps: 0.012857144019274158 --> VarE/d: 0.1358119939987865\n",
      "eps: 0.01283068171894667 --> VarE/d: 0.13718602798885032\n",
      "eps: 0.012803440452782908 --> VarE/d: 0.1335515859470392\n",
      "eps: 0.012778585676054012 --> VarE/d: 0.12354549818163556\n",
      "eps: 0.012760461987766928 --> VarE/d: 0.1232584315843213\n",
      "eps: 0.012742581677379159 --> VarE/d: 0.13663272831081338\n",
      "eps: 0.01271598583720427 --> VarE/d: 0.1282663717741949\n",
      "eps: 0.012694823938999249 --> VarE/d: 0.12078208755271971\n",
      "eps: 0.012678805576781884 --> VarE/d: 0.12297095017155713\n",
      "eps: 0.012661304245572574 --> VarE/d: 0.12157830230549863\n"
     ]
    },
    {
     "name": "stderr",
     "output_type": "stream",
     "text": [
      "\u001b[36m\u001b[1m[ \u001b[22m\u001b[39m\u001b[36m\u001b[1mInfo: \u001b[22m\u001b[39mFinal nu 0.16105927319343674\n"
     ]
    }
   ],
   "source": [
    "spl = MCHMC(0.0, 0.5, 10; init_eps=0.07, varE_wanted=0.1)\n",
    "samples_ensemble_mchmc = Sample(spl, target, 10000;\n",
    "                                burn_in=1000,\n",
    "                                monitor_energy=true, \n",
    "                                dialog=true);"
   ]
  },
  {
   "cell_type": "code",
   "execution_count": 16,
   "id": "197541d7",
   "metadata": {},
   "outputs": [],
   "source": [
    "Wms_ensemble_mchmc = [sample[1] for sample in samples_ensemble_mchmc]\n",
    "s8s_ensemble_mchmc = [sample[2] for sample in samples_ensemble_mchmc];"
   ]
  },
  {
   "cell_type": "code",
   "execution_count": 17,
   "id": "654b0195",
   "metadata": {},
   "outputs": [
    {
     "data": {
      "image/png": "[encoded data removed]",
      "text/plain": [
       "Figure(PyObject <Figure size 640x480 with 1 Axes>)"
      ]
     },
     "metadata": {},
     "output_type": "display_data"
    }
   ],
   "source": [
    "plt.hist2d(Wms_ensemble_mchmc, s8s_ensemble_mchmc, bins=100, range=[[0.1, 0.6],[0.6, 1.2]]);\n",
    "plt.xlabel(\"Wm\")\n",
    "plt.ylabel(\"s8\")\n",
    "plt.title(\"Ensemble MCHMC - RSD model\");"
   ]
  },
  {
   "cell_type": "markdown",
   "id": "b9b6311f",
   "metadata": {
    "heading_collapsed": true
   },
   "source": [
    "##  AbstractMCMC"
   ]
  },
  {
   "cell_type": "code",
   "execution_count": 22,
   "id": "d569b9dc",
   "metadata": {
    "hidden": true,
    "scrolled": false
   },
   "outputs": [
    {
     "name": "stdout",
     "output_type": "stream",
     "text": [
      "Initial Virial loss: 119764.79901923773\n",
      "Virial loss: 270.7876278871393 --> Relative improvement: 0.9977390048653307\n",
      "Virial loss: 202.43905699621448 --> Relative improvement: 0.2524065498273489\n",
      "Virial loss: 140.9162018694338 --> Relative improvement: 0.3039080305927879\n",
      "Virial loss: 86.11495288865214 --> Relative improvement: 0.38889246412955314\n",
      "Virial loss: 37.93581402509588 --> Relative improvement: 0.5594747166134153\n",
      "Virial loss: 3.7163049199027176 --> Relative improvement: 0.9020370324083661\n",
      "Virial loss: 2.7395281645286707 --> Relative improvement: 0.26283547136912977\n",
      "Virial loss: 1.4269944178038194 --> Relative improvement: 0.47910941881142133\n",
      "Virial loss: 1.0209039553948127 --> Relative improvement: 0.28457747090138596\n",
      "Virial loss: 0.17851095230892877 --> Relative improvement: 0.825144225011947\n",
      "Using eps tuning method AdaptiveStep\n",
      "eps: 0.07 --> VarE/d: 0.07470979901362391\n",
      "eps: 0.05163733902098179 --> VarE/d: 0.057242233812625214\n",
      "eps: 0.04478935433714323 --> VarE/d: 0.07615870881485845\n",
      "eps: 0.040001901747531744 --> VarE/d: 0.04779416171336046\n",
      "eps: 0.03735597188030382 --> VarE/d: 0.026688204538881186\n",
      "eps: 0.03604671081862256 --> VarE/d: 0.258061223016785\n",
      "eps: 0.03295152039227186 --> VarE/d: 0.014529213605355185\n",
      "eps: 0.03261225798031421 --> VarE/d: 0.0019363067034637949\n",
      "eps: 0.03391439075568169 --> VarE/d: 0.6948402374631877\n",
      "eps: 0.0314332609757708 --> VarE/d: 2.2083998232135644\n",
      "eps: 0.02905536499725836 --> VarE/d: 0.6731223713857221\n",
      "eps: 0.027155871274648143 --> VarE/d: 0.6698870832837579\n",
      "eps: 0.025474533391542403 --> VarE/d: 0.0011833424658790205\n",
      "eps: 0.026418229815415542 --> VarE/d: 0.7529654183414252\n",
      "eps: 0.024931081723316012 --> VarE/d: 2.336394791158082\n",
      "eps: 0.023458353149805166 --> VarE/d: 0.32236293652540843\n",
      "eps: 0.02237304370922674 --> VarE/d: 2.025269005474019\n",
      "eps: 0.021145921874379504 --> VarE/d: 1.6575395975490017\n",
      "eps: 0.020025468824027365 --> VarE/d: 0.4850420585141351\n",
      "eps: 0.019114334475434206 --> VarE/d: 0.05592885687104878\n",
      "eps: 0.018673008863907357 --> VarE/d: 0.004383671653422375\n",
      "eps: 0.018880595516225382 --> VarE/d: 0.000914273860701704\n",
      "eps: 0.019433567473905403 --> VarE/d: 0.046718023176329435\n",
      "eps: 0.019071659861454985 --> VarE/d: 0.09635537930213861\n",
      "eps: 0.018586198922790325 --> VarE/d: 0.02228962910341085\n",
      "eps: 0.018412395808384264 --> VarE/d: 2.5818350828700464e-5\n",
      "eps: 0.01921871747530269 --> VarE/d: 0.0028967261144543376\n",
      "eps: 0.019487131529299793 --> VarE/d: 0.04904133207439218\n",
      "eps: 0.01915685402010465 --> VarE/d: 0.02609613691988873\n",
      "eps: 0.018961120803460872 --> VarE/d: 0.0003825078984141961\n",
      "eps: 0.01953891999559243 --> VarE/d: 3.4895349929185424e-5\n",
      "eps: 0.0203080902697935 --> VarE/d: 0.01804571851792601\n",
      "eps: 0.02018448663299941 --> VarE/d: 0.0637065548453261\n",
      "eps: 0.01982473250304832 --> VarE/d: 0.008250889029619207\n",
      "eps: 0.019862742869785597 --> VarE/d: 0.0004063839712590037\n",
      "eps: 0.02041331372200668 --> VarE/d: 0.005187195924828034\n",
      "eps: 0.020542318895299217 --> VarE/d: 0.010697832482716971\n",
      "eps: 0.02052919044416896 --> VarE/d: 0.01952619902039937\n",
      "eps: 0.02040238887373612 --> VarE/d: 0.003192745954185803\n",
      "eps: 0.020613305318363872 --> VarE/d: 0.0016728739757704458\n",
      "eps: 0.020934905306637785 --> VarE/d: 0.0006820146958053837\n",
      "eps: 0.02139572155675748 --> VarE/d: 0.010402458121641707\n",
      "samples: 100--> 1/<1/ess>: 0.022257616890535827\n",
      "samples: 203--> 1/<1/ess>: 0.020887048090496203\n",
      "samples: 310--> 1/<1/ess>: 0.06982861950952059\n"
     ]
    },
    {
     "name": "stderr",
     "output_type": "stream",
     "text": [
      "\u001b[36m\u001b[1m[ \u001b[22m\u001b[39m\u001b[36m\u001b[1mInfo: \u001b[22m\u001b[39mUsing given sigma ✅\n",
      "\u001b[36m\u001b[1m[ \u001b[22m\u001b[39m\u001b[36m\u001b[1mInfo: \u001b[22m\u001b[39mTuning eps ⏳\n",
      "\u001b[36m\u001b[1m[ \u001b[22m\u001b[39m\u001b[36m\u001b[1mInfo: \u001b[22m\u001b[39mTuning L ⏳\n",
      "\u001b[36m\u001b[1m[ \u001b[22m\u001b[39m\u001b[36m\u001b[1mInfo: \u001b[22m\u001b[39mInitial nu 0.2281016476686452\n",
      "\u001b[36m\u001b[1m[ \u001b[22m\u001b[39m\u001b[36m\u001b[1mInfo: \u001b[22m\u001b[39mStarting burn in ⏳\n",
      "\u001b[36m\u001b[1m[ \u001b[22m\u001b[39m\u001b[36m\u001b[1mInfo: \u001b[22m\u001b[39mVirial loss condition met during burn-in at step: 72\n",
      "\u001b[36m\u001b[1m[ \u001b[22m\u001b[39m\u001b[36m\u001b[1mInfo: \u001b[22m\u001b[39mFound eps: 0.02139572155675748 ✅\n",
      "\u001b[36m\u001b[1m[ \u001b[22m\u001b[39m\u001b[36m\u001b[1mInfo: \u001b[22m\u001b[39mFound L: 0.12256133205577889 ✅\n",
      "\u001b[36m\u001b[1m[ \u001b[22m\u001b[39m\u001b[36m\u001b[1mInfo: \u001b[22m\u001b[39mFinal nu 0.4570842739472197\n",
      "\u001b[32mChain 1: 100%|██████████████████████████████████████████| Time: 0:00:00\u001b[39m\n"
     ]
    },
    {
     "data": {
      "text/plain": [
       "Chains MCMC chain (10000×4×1 Array{Float64, 3}):\n",
       "\n",
       "Iterations        = 1001:1:11000\n",
       "Number of chains  = 1\n",
       "Samples per chain = 10000\n",
       "Wall duration     = 0.49 seconds\n",
       "Compute duration  = 0.49 seconds\n",
       "parameters        = Ωm, σ8\n",
       "internals         = E, logp\n",
       "\n",
       "Summary Statistics\n",
       " \u001b[1m parameters \u001b[0m \u001b[1m    mean \u001b[0m \u001b[1m     std \u001b[0m \u001b[1m naive_se \u001b[0m \u001b[1m    mcse \u001b[0m \u001b[1m      ess \u001b[0m \u001b[1m    rhat \u001b[0m \u001b[1m e\u001b[0m ⋯\n",
       " \u001b[90m     Symbol \u001b[0m \u001b[90m Float64 \u001b[0m \u001b[90m Float64 \u001b[0m \u001b[90m  Float64 \u001b[0m \u001b[90m Float64 \u001b[0m \u001b[90m  Float64 \u001b[0m \u001b[90m Float64 \u001b[0m \u001b[90m  \u001b[0m ⋯\n",
       "\n",
       "          Ωm    0.2264    0.0447     0.0004    0.0033   142.1119    1.0485     ⋯\n",
       "          σ8    0.8691    0.0434     0.0004    0.0025   260.5401    1.0299     ⋯\n",
       "\u001b[36m                                                                1 column omitted\u001b[0m\n",
       "\n",
       "Quantiles\n",
       " \u001b[1m parameters \u001b[0m \u001b[1m    2.5% \u001b[0m \u001b[1m   25.0% \u001b[0m \u001b[1m   50.0% \u001b[0m \u001b[1m   75.0% \u001b[0m \u001b[1m   97.5% \u001b[0m\n",
       " \u001b[90m     Symbol \u001b[0m \u001b[90m Float64 \u001b[0m \u001b[90m Float64 \u001b[0m \u001b[90m Float64 \u001b[0m \u001b[90m Float64 \u001b[0m \u001b[90m Float64 \u001b[0m\n",
       "\n",
       "          Ωm    0.1527    0.1955    0.2200    0.2516    0.3353\n",
       "          σ8    0.7870    0.8397    0.8679    0.8972    0.9575\n"
      ]
     },
     "execution_count": 22,
     "metadata": {},
     "output_type": "execute_result"
    }
   ],
   "source": [
    "spl = MCHMC(0.0, 0.0; init_eps=0.07, varE_wanted=0.01, sigma=ones(2))\n",
    "samples = sample(\n",
    "    stat_model, spl, 10_000; burn_in=1_000,\n",
    "    dialog=true)"
   ]
  },
  {
   "cell_type": "code",
   "execution_count": 23,
   "id": "eea6e813",
   "metadata": {
    "hidden": true
   },
   "outputs": [
    {
     "name": "stderr",
     "output_type": "stream",
     "text": [
      "\u001b[36m\u001b[1m[ \u001b[22m\u001b[39m\u001b[36m\u001b[1mInfo: \u001b[22m\u001b[39mStarting from previous run\n",
      "\u001b[32mChain 1: 100%|██████████████████████████████████████████| Time: 0:00:00\u001b[39m\n"
     ]
    },
    {
     "data": {
      "text/plain": [
       "Chains MCMC chain (10000×4×1 Array{Float64, 3}):\n",
       "\n",
       "Iterations        = 1001:1:11000\n",
       "Number of chains  = 1\n",
       "Samples per chain = 10000\n",
       "Wall duration     = 0.47 seconds\n",
       "Compute duration  = 0.47 seconds\n",
       "parameters        = Ωm, σ8\n",
       "internals         = E, logp\n",
       "\n",
       "Summary Statistics\n",
       " \u001b[1m parameters \u001b[0m \u001b[1m    mean \u001b[0m \u001b[1m     std \u001b[0m \u001b[1m naive_se \u001b[0m \u001b[1m    mcse \u001b[0m \u001b[1m      ess \u001b[0m \u001b[1m    rhat \u001b[0m \u001b[1m e\u001b[0m ⋯\n",
       " \u001b[90m     Symbol \u001b[0m \u001b[90m Float64 \u001b[0m \u001b[90m Float64 \u001b[0m \u001b[90m  Float64 \u001b[0m \u001b[90m Float64 \u001b[0m \u001b[90m  Float64 \u001b[0m \u001b[90m Float64 \u001b[0m \u001b[90m  \u001b[0m ⋯\n",
       "\n",
       "          Ωm    0.2333    0.0452     0.0005    0.0034   140.0317    1.0074     ⋯\n",
       "          σ8    0.8633    0.0425     0.0004    0.0024   281.3658    1.0021     ⋯\n",
       "\u001b[36m                                                                1 column omitted\u001b[0m\n",
       "\n",
       "Quantiles\n",
       " \u001b[1m parameters \u001b[0m \u001b[1m    2.5% \u001b[0m \u001b[1m   25.0% \u001b[0m \u001b[1m   50.0% \u001b[0m \u001b[1m   75.0% \u001b[0m \u001b[1m   97.5% \u001b[0m\n",
       " \u001b[90m     Symbol \u001b[0m \u001b[90m Float64 \u001b[0m \u001b[90m Float64 \u001b[0m \u001b[90m Float64 \u001b[0m \u001b[90m Float64 \u001b[0m \u001b[90m Float64 \u001b[0m\n",
       "\n",
       "          Ωm    0.1595    0.2014    0.2280    0.2590    0.3403\n",
       "          σ8    0.7840    0.8332    0.8625    0.8912    0.9490\n"
      ]
     },
     "execution_count": 23,
     "metadata": {},
     "output_type": "execute_result"
    }
   ],
   "source": [
    "new_samples = sample(stat_model, spl, 10000; burn_in=1_000,\n",
    "                     monitor_energy=true, \n",
    "                     progress=true, resume_from=samples)"
   ]
  },
  {
   "cell_type": "markdown",
   "id": "f7fdb382",
   "metadata": {},
   "source": [
    "## Ensemble AbstractMCMC"
   ]
  },
  {
   "cell_type": "code",
   "execution_count": 26,
   "id": "16856966",
   "metadata": {
    "scrolled": false
   },
   "outputs": [
    {
     "ename": "LoadError",
     "evalue": "MethodError: no method matching step(::Random.TaskLocalRNG, ::DynamicPPL.Model{typeof(model), (:data, :cov), (:cov,), (), Tuple{Vector{Float64}, Matrix{Float64}}, Tuple{Matrix{Float64}}, DynamicPPL.DefaultContext}, ::MicroCanonicalHMC.EnsembleSampler; burn_in::Int64)\n\n\u001b[0mClosest candidates are:\n\u001b[0m  step(::Random.AbstractRNG, ::AbstractMCMC.AbstractModel, \u001b[91m::AdvancedPS.PG\u001b[39m)\u001b[91m got unsupported keyword argument \"burn_in\"\u001b[39m\n\u001b[0m\u001b[90m   @\u001b[39m \u001b[36mAdvancedPS\u001b[39m \u001b[90m~/.julia/packages/AdvancedPS/Vox9w/src/\u001b[39m\u001b[90m\u001b[4msmc.jl:88\u001b[24m\u001b[39m\n\u001b[0m  step(::Random.AbstractRNG, ::AbstractMCMC.AbstractModel, \u001b[91m::AdvancedPS.PG\u001b[39m, \u001b[91m::Union{Nothing, AdvancedPS.PGState}\u001b[39m; kwargs...)\n\u001b[0m\u001b[90m   @\u001b[39m \u001b[36mAdvancedPS\u001b[39m \u001b[90m~/.julia/packages/AdvancedPS/Vox9w/src/\u001b[39m\u001b[90m\u001b[4msmc.jl:88\u001b[24m\u001b[39m\n\u001b[0m  step(::Random.AbstractRNG, ::AbstractMCMC.AbstractModel, \u001b[91m::EllipticalSliceSampling.ESS\u001b[39m; init_params, kwargs...)\n\u001b[0m\u001b[90m   @\u001b[39m \u001b[32mEllipticalSliceSampling\u001b[39m \u001b[90m~/.julia/packages/EllipticalSliceSampling/1R0Nc/src/\u001b[39m\u001b[90m\u001b[4mabstractmcmc.jl:21\u001b[24m\u001b[39m\n\u001b[0m  ...\n",
     "output_type": "error",
     "traceback": [
      "MethodError: no method matching step(::Random.TaskLocalRNG, ::DynamicPPL.Model{typeof(model), (:data, :cov), (:cov,), (), Tuple{Vector{Float64}, Matrix{Float64}}, Tuple{Matrix{Float64}}, DynamicPPL.DefaultContext}, ::MicroCanonicalHMC.EnsembleSampler; burn_in::Int64)\n\n\u001b[0mClosest candidates are:\n\u001b[0m  step(::Random.AbstractRNG, ::AbstractMCMC.AbstractModel, \u001b[91m::AdvancedPS.PG\u001b[39m)\u001b[91m got unsupported keyword argument \"burn_in\"\u001b[39m\n\u001b[0m\u001b[90m   @\u001b[39m \u001b[36mAdvancedPS\u001b[39m \u001b[90m~/.julia/packages/AdvancedPS/Vox9w/src/\u001b[39m\u001b[90m\u001b[4msmc.jl:88\u001b[24m\u001b[39m\n\u001b[0m  step(::Random.AbstractRNG, ::AbstractMCMC.AbstractModel, \u001b[91m::AdvancedPS.PG\u001b[39m, \u001b[91m::Union{Nothing, AdvancedPS.PGState}\u001b[39m; kwargs...)\n\u001b[0m\u001b[90m   @\u001b[39m \u001b[36mAdvancedPS\u001b[39m \u001b[90m~/.julia/packages/AdvancedPS/Vox9w/src/\u001b[39m\u001b[90m\u001b[4msmc.jl:88\u001b[24m\u001b[39m\n\u001b[0m  step(::Random.AbstractRNG, ::AbstractMCMC.AbstractModel, \u001b[91m::EllipticalSliceSampling.ESS\u001b[39m; init_params, kwargs...)\n\u001b[0m\u001b[90m   @\u001b[39m \u001b[32mEllipticalSliceSampling\u001b[39m \u001b[90m~/.julia/packages/EllipticalSliceSampling/1R0Nc/src/\u001b[39m\u001b[90m\u001b[4mabstractmcmc.jl:21\u001b[24m\u001b[39m\n\u001b[0m  ...\n",
      "",
      "Stacktrace:",
      "  [1] macro expansion",
      "    @ ~/.julia/packages/AbstractMCMC/F9Hbk/src/sample.jl:125 [inlined]",
      "  [2] macro expansion",
      "    @ ~/.julia/packages/ProgressLogging/6KXlp/src/ProgressLogging.jl:328 [inlined]",
      "  [3] (::AbstractMCMC.var\"#20#21\"{Bool, String, Nothing, Int64, Int64, Base.Pairs{Symbol, Int64, Tuple{Symbol}, NamedTuple{(:burn_in,), Tuple{Int64}}}, Random.TaskLocalRNG, DynamicPPL.Model{typeof(model), (:data, :cov), (:cov,), (), Tuple{Vector{Float64}, Matrix{Float64}}, Tuple{Matrix{Float64}}, DynamicPPL.DefaultContext}, MicroCanonicalHMC.EnsembleSampler, Int64, Int64})()",
      "    @ AbstractMCMC ~/.julia/packages/AbstractMCMC/F9Hbk/src/logging.jl:12",
      "  [4] with_logstate(f::Function, logstate::Any)",
      "    @ Base.CoreLogging ./logging.jl:514",
      "  [5] with_logger",
      "    @ ./logging.jl:626 [inlined]",
      "  [6] with_progresslogger(f::Function, _module::Module, logger::Logging.ConsoleLogger)",
      "    @ AbstractMCMC ~/.julia/packages/AbstractMCMC/F9Hbk/src/logging.jl:36",
      "  [7] macro expansion",
      "    @ ~/.julia/packages/AbstractMCMC/F9Hbk/src/logging.jl:11 [inlined]",
      "  [8] mcmcsample(rng::Random.TaskLocalRNG, model::DynamicPPL.Model{typeof(model), (:data, :cov), (:cov,), (), Tuple{Vector{Float64}, Matrix{Float64}}, Tuple{Matrix{Float64}}, DynamicPPL.DefaultContext}, sampler::MicroCanonicalHMC.EnsembleSampler, N::Int64; progress::Bool, progressname::String, callback::Nothing, discard_initial::Int64, thinning::Int64, chain_type::Type, kwargs::Base.Pairs{Symbol, Int64, Tuple{Symbol}, NamedTuple{(:burn_in,), Tuple{Int64}}})",
      "    @ AbstractMCMC ~/.julia/packages/AbstractMCMC/F9Hbk/src/sample.jl:116",
      "  [9] sample(rng::Random.TaskLocalRNG, model::DynamicPPL.Model{typeof(model), (:data, :cov), (:cov,), (), Tuple{Vector{Float64}, Matrix{Float64}}, Tuple{Matrix{Float64}}, DynamicPPL.DefaultContext}, sampler::MicroCanonicalHMC.EnsembleSampler, N_or_isdone::Int64; kwargs::Base.Pairs{Symbol, Int64, Tuple{Symbol}, NamedTuple{(:burn_in,), Tuple{Int64}}})",
      "    @ AbstractMCMC ~/.julia/packages/AbstractMCMC/F9Hbk/src/sample.jl:51",
      " [10] sample(model_or_logdensity::DynamicPPL.Model{typeof(model), (:data, :cov), (:cov,), (), Tuple{Vector{Float64}, Matrix{Float64}}, Tuple{Matrix{Float64}}, DynamicPPL.DefaultContext}, sampler::MicroCanonicalHMC.EnsembleSampler, N_or_isdone::Int64; kwargs::Base.Pairs{Symbol, Int64, Tuple{Symbol}, NamedTuple{(:burn_in,), Tuple{Int64}}})",
      "    @ AbstractMCMC ~/.julia/packages/AbstractMCMC/F9Hbk/src/sample.jl:18",
      " [11] top-level scope",
      "    @ In[26]:2"
     ]
    }
   ],
   "source": [
    "spl = MCHMC(0.0, 0.0, 10; init_eps=0.07, varE_wanted=0.1)\n",
    "samples = sample(stat_model, spl, 1000; burn_in=1_000)"
   ]
  },
  {
   "cell_type": "code",
   "execution_count": 4,
   "id": "603dfac8",
   "metadata": {
    "scrolled": true
   },
   "outputs": [
    {
     "ename": "LoadError",
     "evalue": "UndefVarError: `MCHMC` not defined",
     "output_type": "error",
     "traceback": [
      "UndefVarError: `MCHMC` not defined",
      "",
      "Stacktrace:",
      " [1] top-level scope",
      "   @ In[4]:1"
     ]
    }
   ],
   "source": [
    "new_samples = sample(stat_model, 10, 1000, 100; \n",
    "                     resume_from=samples)"
   ]
  },
  {
   "cell_type": "markdown",
   "id": "767048c5",
   "metadata": {
    "heading_collapsed": true
   },
   "source": [
    "## Parallelization"
   ]
  },
  {
   "cell_type": "code",
   "execution_count": 18,
   "id": "42cf1f7f",
   "metadata": {
    "hidden": true,
    "scrolled": false
   },
   "outputs": [
    {
     "name": "stderr",
     "output_type": "stream",
     "text": [
      "\u001b[36m\u001b[1m[ \u001b[22m\u001b[39m\u001b[36m\u001b[1mInfo: \u001b[22m\u001b[39mnumber of chains: 4 smaller than number of threads: 10. Increase the number of chains to make full use of your threads.\n",
      "\u001b[36m\u001b[1m[ \u001b[22m\u001b[39m\u001b[36m\u001b[1mInfo: \u001b[22m\u001b[39mTuning sigma ⏳\n",
      "\u001b[36m\u001b[1m[ \u001b[22m\u001b[39m\u001b[36m\u001b[1mInfo: \u001b[22m\u001b[39mTuning sigma ⏳\n",
      "\u001b[36m\u001b[1m[ \u001b[22m\u001b[39m\u001b[36m\u001b[1mInfo: \u001b[22m\u001b[39mTuning sigma ⏳\n",
      "\u001b[36m\u001b[1m[ \u001b[22m\u001b[39m\u001b[36m\u001b[1mInfo: \u001b[22m\u001b[39mTuning sigma ⏳\n",
      "\u001b[36m\u001b[1m[ \u001b[22m\u001b[39m\u001b[36m\u001b[1mInfo: \u001b[22m\u001b[39mTuning eps ⏳\n",
      "\u001b[36m\u001b[1m[ \u001b[22m\u001b[39m\u001b[36m\u001b[1mInfo: \u001b[22m\u001b[39mTuning eps ⏳\n",
      "\u001b[36m\u001b[1m[ \u001b[22m\u001b[39m\u001b[36m\u001b[1mInfo: \u001b[22m\u001b[39mTuning eps ⏳\n",
      "\u001b[36m\u001b[1m[ \u001b[22m\u001b[39m\u001b[36m\u001b[1mInfo: \u001b[22m\u001b[39mTuning L ⏳\n",
      "\u001b[36m\u001b[1m[ \u001b[22m\u001b[39m\u001b[36m\u001b[1mInfo: \u001b[22m\u001b[39mTuning L ⏳\n",
      "\u001b[36m\u001b[1m[ \u001b[22m\u001b[39m\u001b[36m\u001b[1mInfo: \u001b[22m\u001b[39mTuning L ⏳\n",
      "\u001b[36m\u001b[1m[ \u001b[22m\u001b[39m\u001b[36m\u001b[1mInfo: \u001b[22m\u001b[39mTuning eps ⏳\n",
      "\u001b[36m\u001b[1m[ \u001b[22m\u001b[39m\u001b[36m\u001b[1mInfo: \u001b[22m\u001b[39mTuning L ⏳\n"
     ]
    },
    {
     "ename": "LoadError",
     "evalue": "TaskFailedException\n\n\u001b[91m    nested task error: \u001b[39mDomainError with -0.33934227649544785:\n    sqrt will only return a complex result if called with a complex argument. Try sqrt(Complex(x)).\n    Stacktrace:\n      [1] \u001b[0m\u001b[1mthrow_complex_domainerror\u001b[22m\u001b[0m\u001b[1m(\u001b[22m\u001b[90mf\u001b[39m::\u001b[0mSymbol, \u001b[90mx\u001b[39m::\u001b[0mFloat64\u001b[0m\u001b[1m)\u001b[22m\n    \u001b[90m    @\u001b[39m \u001b[90mBase.Math\u001b[39m \u001b[90m./\u001b[39m\u001b[90m\u001b[4mmath.jl:33\u001b[24m\u001b[39m\n      [2] \u001b[0m\u001b[1msqrt\u001b[22m\n    \u001b[90m    @\u001b[39m \u001b[90m./\u001b[39m\u001b[90m\u001b[4mmath.jl:677\u001b[24m\u001b[39m\u001b[90m [inlined]\u001b[39m\n      [3] \u001b[0m\u001b[1m_broadcast_getindex_evalf\u001b[22m\n    \u001b[90m    @\u001b[39m \u001b[90m./\u001b[39m\u001b[90m\u001b[4mbroadcast.jl:683\u001b[24m\u001b[39m\u001b[90m [inlined]\u001b[39m\n      [4] \u001b[0m\u001b[1m_broadcast_getindex\u001b[22m\n    \u001b[90m    @\u001b[39m \u001b[90m./\u001b[39m\u001b[90m\u001b[4mbroadcast.jl:656\u001b[24m\u001b[39m\u001b[90m [inlined]\u001b[39m\n      [5] \u001b[0m\u001b[1mgetindex\u001b[22m\n    \u001b[90m    @\u001b[39m \u001b[90m./\u001b[39m\u001b[90m\u001b[4mbroadcast.jl:610\u001b[24m\u001b[39m\u001b[90m [inlined]\u001b[39m\n      [6] \u001b[0m\u001b[1mmacro expansion\u001b[22m\n    \u001b[90m    @\u001b[39m \u001b[90m./\u001b[39m\u001b[90m\u001b[4mbroadcast.jl:974\u001b[24m\u001b[39m\u001b[90m [inlined]\u001b[39m\n      [7] \u001b[0m\u001b[1mmacro expansion\u001b[22m\n    \u001b[90m    @\u001b[39m \u001b[90m./\u001b[39m\u001b[90m\u001b[4msimdloop.jl:77\u001b[24m\u001b[39m\u001b[90m [inlined]\u001b[39m\n      [8] \u001b[0m\u001b[1mcopyto!\u001b[22m\n    \u001b[90m    @\u001b[39m \u001b[90m./\u001b[39m\u001b[90m\u001b[4mbroadcast.jl:973\u001b[24m\u001b[39m\u001b[90m [inlined]\u001b[39m\n      [9] \u001b[0m\u001b[1mcopyto!\u001b[22m\n    \u001b[90m    @\u001b[39m \u001b[90m./\u001b[39m\u001b[90m\u001b[4mbroadcast.jl:926\u001b[24m\u001b[39m\u001b[90m [inlined]\u001b[39m\n     [10] \u001b[0m\u001b[1mcopy\u001b[22m\n    \u001b[90m    @\u001b[39m \u001b[90m./\u001b[39m\u001b[90m\u001b[4mbroadcast.jl:898\u001b[24m\u001b[39m\u001b[90m [inlined]\u001b[39m\n     [11] \u001b[0m\u001b[1mmaterialize\u001b[22m\u001b[0m\u001b[1m(\u001b[22m\u001b[90mbc\u001b[39m::\u001b[0mBase.Broadcast.Broadcasted\u001b[90m{Base.Broadcast.DefaultArrayStyle{1}, Nothing, typeof(sqrt), Tuple{Vector{Float64}}}\u001b[39m\u001b[0m\u001b[1m)\u001b[22m\n    \u001b[90m    @\u001b[39m \u001b[90mBase.Broadcast\u001b[39m \u001b[90m./\u001b[39m\u001b[90m\u001b[4mbroadcast.jl:873\u001b[24m\u001b[39m\n     [12] \u001b[0m\u001b[1mtune_sigma!\u001b[22m\u001b[0m\u001b[1m(\u001b[22m\u001b[90msampler\u001b[39m::\u001b[0mMicroCanonicalHMC.Sampler, \u001b[90mtarget\u001b[39m::\u001b[0mTuringTarget; \u001b[90mkwargs\u001b[39m::\u001b[0mBase.Pairs\u001b[90m{Symbol, Bool, Tuple{Symbol, Symbol}, NamedTuple{(:monitor_energy, :dialog), Tuple{Bool, Bool}}}\u001b[39m\u001b[0m\u001b[1m)\u001b[22m\n    \u001b[90m    @\u001b[39m \u001b[35mMicroCanonicalHMC\u001b[39m \u001b[90m~/PhD/MicroCanonicalHMC.jl/src/\u001b[39m\u001b[90m\u001b[4mtuning.jl:89\u001b[24m\u001b[39m\n     [13] \u001b[0m\u001b[1mtune_sigma!\u001b[22m\n    \u001b[90m    @\u001b[39m \u001b[90m~/PhD/MicroCanonicalHMC.jl/src/\u001b[39m\u001b[90m\u001b[4mtuning.jl:83\u001b[24m\u001b[39m\u001b[90m [inlined]\u001b[39m\n     [14] \u001b[0m\u001b[1mtune_hyperparameters\u001b[22m\u001b[0m\u001b[1m(\u001b[22m\u001b[90msampler\u001b[39m::\u001b[0mMicroCanonicalHMC.Sampler, \u001b[90mtarget\u001b[39m::\u001b[0mTuringTarget, \u001b[90minit\u001b[39m::\u001b[0mTuple\u001b[90m{Vector{Float64}, Vector{Float64}, Float64, Vector{Float64}, Float64}\u001b[39m; \u001b[90mkwargs\u001b[39m::\u001b[0mBase.Pairs\u001b[90m{Symbol, Bool, Tuple{Symbol, Symbol}, NamedTuple{(:monitor_energy, :dialog), Tuple{Bool, Bool}}}\u001b[39m\u001b[0m\u001b[1m)\u001b[22m\n    \u001b[90m    @\u001b[39m \u001b[35mMicroCanonicalHMC\u001b[39m \u001b[90m~/PhD/MicroCanonicalHMC.jl/src/\u001b[39m\u001b[90m\u001b[4mtuning.jl:155\u001b[24m\u001b[39m\n     [15] \u001b[0m\u001b[1mmacro expansion\u001b[22m\n    \u001b[90m    @\u001b[39m \u001b[90m~/PhD/MicroCanonicalHMC.jl/src/\u001b[39m\u001b[90m\u001b[4mabstractmcmc.jl:220\u001b[24m\u001b[39m\u001b[90m [inlined]\u001b[39m\n     [16] \u001b[0m\u001b[1m(::MicroCanonicalHMC.var\"#902#threadsfor_fun#95\"{MicroCanonicalHMC.var\"#902#threadsfor_fun#84#96\"{Base.Pairs{Symbol, Bool, Tuple{Symbol, Symbol}, NamedTuple{(:monitor_energy, :dialog), Tuple{Bool, Bool}}}, UnitRange{Int64}}})\u001b[22m\u001b[0m\u001b[1m(\u001b[22m\u001b[90mtid\u001b[39m::\u001b[0mInt64; \u001b[90monethread\u001b[39m::\u001b[0mBool\u001b[0m\u001b[1m)\u001b[22m\n    \u001b[90m    @\u001b[39m \u001b[35mMicroCanonicalHMC\u001b[39m \u001b[90m./\u001b[39m\u001b[90m\u001b[4mthreadingconstructs.jl:139\u001b[24m\u001b[39m\n     [17] \u001b[0m\u001b[1m#902#threadsfor_fun\u001b[22m\n    \u001b[90m    @\u001b[39m \u001b[90m./\u001b[39m\u001b[90m\u001b[4mthreadingconstructs.jl:106\u001b[24m\u001b[39m\u001b[90m [inlined]\u001b[39m\n     [18] \u001b[0m\u001b[1m(::Base.Threads.var\"#1#2\"{MicroCanonicalHMC.var\"#902#threadsfor_fun#95\"{MicroCanonicalHMC.var\"#902#threadsfor_fun#84#96\"{Base.Pairs{Symbol, Bool, Tuple{Symbol, Symbol}, NamedTuple{(:monitor_energy, :dialog), Tuple{Bool, Bool}}}, UnitRange{Int64}}}, Int64})\u001b[22m\u001b[0m\u001b[1m(\u001b[22m\u001b[0m\u001b[1m)\u001b[22m\n    \u001b[90m    @\u001b[39m \u001b[90mBase.Threads\u001b[39m \u001b[90m./\u001b[39m\u001b[90m\u001b[4mthreadingconstructs.jl:84\u001b[24m\u001b[39m\n\n...and 3 more exceptions.\n",
     "output_type": "error",
     "traceback": [
      "TaskFailedException\n\n\u001b[91m    nested task error: \u001b[39mDomainError with -0.33934227649544785:\n    sqrt will only return a complex result if called with a complex argument. Try sqrt(Complex(x)).\n    Stacktrace:\n      [1] \u001b[0m\u001b[1mthrow_complex_domainerror\u001b[22m\u001b[0m\u001b[1m(\u001b[22m\u001b[90mf\u001b[39m::\u001b[0mSymbol, \u001b[90mx\u001b[39m::\u001b[0mFloat64\u001b[0m\u001b[1m)\u001b[22m\n    \u001b[90m    @\u001b[39m \u001b[90mBase.Math\u001b[39m \u001b[90m./\u001b[39m\u001b[90m\u001b[4mmath.jl:33\u001b[24m\u001b[39m\n      [2] \u001b[0m\u001b[1msqrt\u001b[22m\n    \u001b[90m    @\u001b[39m \u001b[90m./\u001b[39m\u001b[90m\u001b[4mmath.jl:677\u001b[24m\u001b[39m\u001b[90m [inlined]\u001b[39m\n      [3] \u001b[0m\u001b[1m_broadcast_getindex_evalf\u001b[22m\n    \u001b[90m    @\u001b[39m \u001b[90m./\u001b[39m\u001b[90m\u001b[4mbroadcast.jl:683\u001b[24m\u001b[39m\u001b[90m [inlined]\u001b[39m\n      [4] \u001b[0m\u001b[1m_broadcast_getindex\u001b[22m\n    \u001b[90m    @\u001b[39m \u001b[90m./\u001b[39m\u001b[90m\u001b[4mbroadcast.jl:656\u001b[24m\u001b[39m\u001b[90m [inlined]\u001b[39m\n      [5] \u001b[0m\u001b[1mgetindex\u001b[22m\n    \u001b[90m    @\u001b[39m \u001b[90m./\u001b[39m\u001b[90m\u001b[4mbroadcast.jl:610\u001b[24m\u001b[39m\u001b[90m [inlined]\u001b[39m\n      [6] \u001b[0m\u001b[1mmacro expansion\u001b[22m\n    \u001b[90m    @\u001b[39m \u001b[90m./\u001b[39m\u001b[90m\u001b[4mbroadcast.jl:974\u001b[24m\u001b[39m\u001b[90m [inlined]\u001b[39m\n      [7] \u001b[0m\u001b[1mmacro expansion\u001b[22m\n    \u001b[90m    @\u001b[39m \u001b[90m./\u001b[39m\u001b[90m\u001b[4msimdloop.jl:77\u001b[24m\u001b[39m\u001b[90m [inlined]\u001b[39m\n      [8] \u001b[0m\u001b[1mcopyto!\u001b[22m\n    \u001b[90m    @\u001b[39m \u001b[90m./\u001b[39m\u001b[90m\u001b[4mbroadcast.jl:973\u001b[24m\u001b[39m\u001b[90m [inlined]\u001b[39m\n      [9] \u001b[0m\u001b[1mcopyto!\u001b[22m\n    \u001b[90m    @\u001b[39m \u001b[90m./\u001b[39m\u001b[90m\u001b[4mbroadcast.jl:926\u001b[24m\u001b[39m\u001b[90m [inlined]\u001b[39m\n     [10] \u001b[0m\u001b[1mcopy\u001b[22m\n    \u001b[90m    @\u001b[39m \u001b[90m./\u001b[39m\u001b[90m\u001b[4mbroadcast.jl:898\u001b[24m\u001b[39m\u001b[90m [inlined]\u001b[39m\n     [11] \u001b[0m\u001b[1mmaterialize\u001b[22m\u001b[0m\u001b[1m(\u001b[22m\u001b[90mbc\u001b[39m::\u001b[0mBase.Broadcast.Broadcasted\u001b[90m{Base.Broadcast.DefaultArrayStyle{1}, Nothing, typeof(sqrt), Tuple{Vector{Float64}}}\u001b[39m\u001b[0m\u001b[1m)\u001b[22m\n    \u001b[90m    @\u001b[39m \u001b[90mBase.Broadcast\u001b[39m \u001b[90m./\u001b[39m\u001b[90m\u001b[4mbroadcast.jl:873\u001b[24m\u001b[39m\n     [12] \u001b[0m\u001b[1mtune_sigma!\u001b[22m\u001b[0m\u001b[1m(\u001b[22m\u001b[90msampler\u001b[39m::\u001b[0mMicroCanonicalHMC.Sampler, \u001b[90mtarget\u001b[39m::\u001b[0mTuringTarget; \u001b[90mkwargs\u001b[39m::\u001b[0mBase.Pairs\u001b[90m{Symbol, Bool, Tuple{Symbol, Symbol}, NamedTuple{(:monitor_energy, :dialog), Tuple{Bool, Bool}}}\u001b[39m\u001b[0m\u001b[1m)\u001b[22m\n    \u001b[90m    @\u001b[39m \u001b[35mMicroCanonicalHMC\u001b[39m \u001b[90m~/PhD/MicroCanonicalHMC.jl/src/\u001b[39m\u001b[90m\u001b[4mtuning.jl:89\u001b[24m\u001b[39m\n     [13] \u001b[0m\u001b[1mtune_sigma!\u001b[22m\n    \u001b[90m    @\u001b[39m \u001b[90m~/PhD/MicroCanonicalHMC.jl/src/\u001b[39m\u001b[90m\u001b[4mtuning.jl:83\u001b[24m\u001b[39m\u001b[90m [inlined]\u001b[39m\n     [14] \u001b[0m\u001b[1mtune_hyperparameters\u001b[22m\u001b[0m\u001b[1m(\u001b[22m\u001b[90msampler\u001b[39m::\u001b[0mMicroCanonicalHMC.Sampler, \u001b[90mtarget\u001b[39m::\u001b[0mTuringTarget, \u001b[90minit\u001b[39m::\u001b[0mTuple\u001b[90m{Vector{Float64}, Vector{Float64}, Float64, Vector{Float64}, Float64}\u001b[39m; \u001b[90mkwargs\u001b[39m::\u001b[0mBase.Pairs\u001b[90m{Symbol, Bool, Tuple{Symbol, Symbol}, NamedTuple{(:monitor_energy, :dialog), Tuple{Bool, Bool}}}\u001b[39m\u001b[0m\u001b[1m)\u001b[22m\n    \u001b[90m    @\u001b[39m \u001b[35mMicroCanonicalHMC\u001b[39m \u001b[90m~/PhD/MicroCanonicalHMC.jl/src/\u001b[39m\u001b[90m\u001b[4mtuning.jl:155\u001b[24m\u001b[39m\n     [15] \u001b[0m\u001b[1mmacro expansion\u001b[22m\n    \u001b[90m    @\u001b[39m \u001b[90m~/PhD/MicroCanonicalHMC.jl/src/\u001b[39m\u001b[90m\u001b[4mabstractmcmc.jl:220\u001b[24m\u001b[39m\u001b[90m [inlined]\u001b[39m\n     [16] \u001b[0m\u001b[1m(::MicroCanonicalHMC.var\"#902#threadsfor_fun#95\"{MicroCanonicalHMC.var\"#902#threadsfor_fun#84#96\"{Base.Pairs{Symbol, Bool, Tuple{Symbol, Symbol}, NamedTuple{(:monitor_energy, :dialog), Tuple{Bool, Bool}}}, UnitRange{Int64}}})\u001b[22m\u001b[0m\u001b[1m(\u001b[22m\u001b[90mtid\u001b[39m::\u001b[0mInt64; \u001b[90monethread\u001b[39m::\u001b[0mBool\u001b[0m\u001b[1m)\u001b[22m\n    \u001b[90m    @\u001b[39m \u001b[35mMicroCanonicalHMC\u001b[39m \u001b[90m./\u001b[39m\u001b[90m\u001b[4mthreadingconstructs.jl:139\u001b[24m\u001b[39m\n     [17] \u001b[0m\u001b[1m#902#threadsfor_fun\u001b[22m\n    \u001b[90m    @\u001b[39m \u001b[90m./\u001b[39m\u001b[90m\u001b[4mthreadingconstructs.jl:106\u001b[24m\u001b[39m\u001b[90m [inlined]\u001b[39m\n     [18] \u001b[0m\u001b[1m(::Base.Threads.var\"#1#2\"{MicroCanonicalHMC.var\"#902#threadsfor_fun#95\"{MicroCanonicalHMC.var\"#902#threadsfor_fun#84#96\"{Base.Pairs{Symbol, Bool, Tuple{Symbol, Symbol}, NamedTuple{(:monitor_energy, :dialog), Tuple{Bool, Bool}}}, UnitRange{Int64}}}, Int64})\u001b[22m\u001b[0m\u001b[1m(\u001b[22m\u001b[0m\u001b[1m)\u001b[22m\n    \u001b[90m    @\u001b[39m \u001b[90mBase.Threads\u001b[39m \u001b[90m./\u001b[39m\u001b[90m\u001b[4mthreadingconstructs.jl:84\u001b[24m\u001b[39m\n\n...and 3 more exceptions.\n",
      "",
      "Stacktrace:",
      " [1] threading_run(fun::MicroCanonicalHMC.var\"#902#threadsfor_fun#95\"{MicroCanonicalHMC.var\"#902#threadsfor_fun#84#96\"{Base.Pairs{Symbol, Bool, Tuple{Symbol, Symbol}, NamedTuple{(:monitor_energy, :dialog), Tuple{Bool, Bool}}}, UnitRange{Int64}}}, static::Bool)",
      "   @ Base.Threads ./threadingconstructs.jl:96",
      " [2] macro expansion",
      "   @ ./threadingconstructs.jl:144 [inlined]",
      " [3] sample(model::DynamicPPL.Model{typeof(model), (:data, :cov), (:cov,), (), Tuple{Vector{Float64}, Matrix{Float64}}, Tuple{Matrix{Float64}}, DynamicPPL.DefaultContext}, sampler::MicroCanonicalHMC.Sampler, ::MCMCThreads, N::Int64, nchains::Int64; progress::Bool, progressname::String, resume_from::Nothing, kwargs::Base.Pairs{Symbol, Bool, Tuple{Symbol, Symbol}, NamedTuple{(:monitor_energy, :dialog), Tuple{Bool, Bool}}})",
      "   @ MicroCanonicalHMC ~/PhD/MicroCanonicalHMC.jl/src/abstractmcmc.jl:215",
      " [4] top-level scope",
      "   @ In[18]:1"
     ]
    }
   ],
   "source": [
    "samples = sample(\n",
    "    stat_model, MCHMC(varE_wanted=2.0), MCMCThreads(), 30000, 4;\n",
    "    monitor_energy=true, \n",
    "    dialog=true)"
   ]
  },
  {
   "cell_type": "code",
   "execution_count": 19,
   "id": "2e8cd8ab",
   "metadata": {
    "hidden": true,
    "scrolled": false
   },
   "outputs": [
    {
     "name": "stderr",
     "output_type": "stream",
     "text": [
      "\u001b[36m\u001b[1m[ \u001b[22m\u001b[39m\u001b[36m\u001b[1mInfo: \u001b[22m\u001b[39mStarting from previous run\n"
     ]
    },
    {
     "ename": "LoadError",
     "evalue": "MethodError: no method matching iterate(::Chains{Float64, AxisArrays.AxisArray{Float64, 3, Array{Float64, 3}, Tuple{AxisArrays.Axis{:iter, StepRange{Int64, Int64}}, AxisArrays.Axis{:var, Vector{Symbol}}, AxisArrays.Axis{:chain, UnitRange{Int64}}}}, Missing, NamedTuple{(:parameters, :internals), Tuple{Vector{Symbol}, Vector{Symbol}}}, NamedTuple{(:target, :sampler, :init, :start_time, :stop_time), Tuple{ParallelTarget, MicroCanonicalHMC.EnsembleSampler, Tuple{Tuple{Matrix{Float64}, Matrix{Float64}, Vector{Real}, Matrix{Real}, Vector{Float64}}, Tuple{Matrix{Real}, Vector{Float64}, Vector{Float64}}}, Float64, Float64}}})\n\n\u001b[0mClosest candidates are:\n\u001b[0m  iterate(\u001b[91m::Union{LinRange, StepRangeLen}\u001b[39m)\n\u001b[0m\u001b[90m   @\u001b[39m \u001b[90mBase\u001b[39m \u001b[90m\u001b[4mrange.jl:880\u001b[24m\u001b[39m\n\u001b[0m  iterate(\u001b[91m::Union{LinRange, StepRangeLen}\u001b[39m, \u001b[91m::Integer\u001b[39m)\n\u001b[0m\u001b[90m   @\u001b[39m \u001b[90mBase\u001b[39m \u001b[90m\u001b[4mrange.jl:880\u001b[24m\u001b[39m\n\u001b[0m  iterate(\u001b[91m::T\u001b[39m) where T<:Union{Base.KeySet{<:Any, <:Dict}, Base.ValueIterator{<:Dict}}\n\u001b[0m\u001b[90m   @\u001b[39m \u001b[90mBase\u001b[39m \u001b[90m\u001b[4mdict.jl:698\u001b[24m\u001b[39m\n\u001b[0m  ...\n",
     "output_type": "error",
     "traceback": [
      "MethodError: no method matching iterate(::Chains{Float64, AxisArrays.AxisArray{Float64, 3, Array{Float64, 3}, Tuple{AxisArrays.Axis{:iter, StepRange{Int64, Int64}}, AxisArrays.Axis{:var, Vector{Symbol}}, AxisArrays.Axis{:chain, UnitRange{Int64}}}}, Missing, NamedTuple{(:parameters, :internals), Tuple{Vector{Symbol}, Vector{Symbol}}}, NamedTuple{(:target, :sampler, :init, :start_time, :stop_time), Tuple{ParallelTarget, MicroCanonicalHMC.EnsembleSampler, Tuple{Tuple{Matrix{Float64}, Matrix{Float64}, Vector{Real}, Matrix{Real}, Vector{Float64}}, Tuple{Matrix{Real}, Vector{Float64}, Vector{Float64}}}, Float64, Float64}}})\n\n\u001b[0mClosest candidates are:\n\u001b[0m  iterate(\u001b[91m::Union{LinRange, StepRangeLen}\u001b[39m)\n\u001b[0m\u001b[90m   @\u001b[39m \u001b[90mBase\u001b[39m \u001b[90m\u001b[4mrange.jl:880\u001b[24m\u001b[39m\n\u001b[0m  iterate(\u001b[91m::Union{LinRange, StepRangeLen}\u001b[39m, \u001b[91m::Integer\u001b[39m)\n\u001b[0m\u001b[90m   @\u001b[39m \u001b[90mBase\u001b[39m \u001b[90m\u001b[4mrange.jl:880\u001b[24m\u001b[39m\n\u001b[0m  iterate(\u001b[91m::T\u001b[39m) where T<:Union{Base.KeySet{<:Any, <:Dict}, Base.ValueIterator{<:Dict}}\n\u001b[0m\u001b[90m   @\u001b[39m \u001b[90mBase\u001b[39m \u001b[90m\u001b[4mdict.jl:698\u001b[24m\u001b[39m\n\u001b[0m  ...\n",
      "",
      "Stacktrace:",
      " [1] iterate",
      "   @ ./generator.jl:44 [inlined]",
      " [2] collect(itr::Base.Generator{Chains{Float64, AxisArrays.AxisArray{Float64, 3, Array{Float64, 3}, Tuple{AxisArrays.Axis{:iter, StepRange{Int64, Int64}}, AxisArrays.Axis{:var, Vector{Symbol}}, AxisArrays.Axis{:chain, UnitRange{Int64}}}}, Missing, NamedTuple{(:parameters, :internals), Tuple{Vector{Symbol}, Vector{Symbol}}}, NamedTuple{(:target, :sampler, :init, :start_time, :stop_time), Tuple{ParallelTarget, MicroCanonicalHMC.EnsembleSampler, Tuple{Tuple{Matrix{Float64}, Matrix{Float64}, Vector{Real}, Matrix{Real}, Vector{Float64}}, Tuple{Matrix{Real}, Vector{Float64}, Vector{Float64}}}, Float64, Float64}}}, MicroCanonicalHMC.var\"#85#97\"})",
      "   @ Base ./array.jl:782",
      " [3] sample(model::DynamicPPL.Model{typeof(model), (:data, :cov), (:cov,), (), Tuple{Vector{Float64}, Matrix{Float64}}, Tuple{Matrix{Float64}}, DynamicPPL.DefaultContext}, sampler::MicroCanonicalHMC.Sampler, ::MCMCThreads, N::Int64, nchains::Int64; progress::Bool, progressname::String, resume_from::Chains{Float64, AxisArrays.AxisArray{Float64, 3, Array{Float64, 3}, Tuple{AxisArrays.Axis{:iter, StepRange{Int64, Int64}}, AxisArrays.Axis{:var, Vector{Symbol}}, AxisArrays.Axis{:chain, UnitRange{Int64}}}}, Missing, NamedTuple{(:parameters, :internals), Tuple{Vector{Symbol}, Vector{Symbol}}}, NamedTuple{(:target, :sampler, :init, :start_time, :stop_time), Tuple{ParallelTarget, MicroCanonicalHMC.EnsembleSampler, Tuple{Tuple{Matrix{Float64}, Matrix{Float64}, Vector{Real}, Matrix{Real}, Vector{Float64}}, Tuple{Matrix{Real}, Vector{Float64}, Vector{Float64}}}, Float64, Float64}}}, kwargs::Base.Pairs{Symbol, Bool, Tuple{Symbol, Symbol}, NamedTuple{(:monitor_energy, :dialog), Tuple{Bool, Bool}}})",
      "   @ MicroCanonicalHMC ~/PhD/MicroCanonicalHMC.jl/src/abstractmcmc.jl:228",
      " [4] top-level scope",
      "   @ In[19]:1"
     ]
    }
   ],
   "source": [
    "new_samples = sample(\n",
    "    stat_model, MCHMC(varE_wanted=2.0), MCMCThreads(), 30000, 4;\n",
    "    monitor_energy=true, \n",
    "    dialog=true, \n",
    "    resume_from=samples)"
   ]
  },
  {
   "cell_type": "markdown",
   "id": "4aadd3b5",
   "metadata": {},
   "source": [
    "## NUTS"
   ]
  },
  {
   "cell_type": "code",
   "execution_count": 20,
   "id": "dcbe40a3",
   "metadata": {},
   "outputs": [
    {
     "name": "stderr",
     "output_type": "stream",
     "text": [
      "\u001b[36m\u001b[1m┌ \u001b[22m\u001b[39m\u001b[36m\u001b[1mInfo: \u001b[22m\u001b[39mFound initial step size\n",
      "\u001b[36m\u001b[1m└ \u001b[22m\u001b[39m  ϵ = 0.05\n",
      "\u001b[32mSampling: 100%|█████████████████████████████████████████| Time: 0:00:07\u001b[39m\n"
     ]
    },
    {
     "data": {
      "text/plain": [
       "Chains MCMC chain (10000×14×1 Array{Float64, 3}):\n",
       "\n",
       "Iterations        = 11:1:10010\n",
       "Number of chains  = 1\n",
       "Samples per chain = 10000\n",
       "Wall duration     = 11.66 seconds\n",
       "Compute duration  = 11.66 seconds\n",
       "parameters        = Ωm, σ8\n",
       "internals         = lp, n_steps, is_accept, acceptance_rate, log_density, hamiltonian_energy, hamiltonian_energy_error, max_hamiltonian_energy_error, tree_depth, numerical_error, step_size, nom_step_size\n",
       "\n",
       "Summary Statistics\n",
       " \u001b[1m parameters \u001b[0m \u001b[1m    mean \u001b[0m \u001b[1m     std \u001b[0m \u001b[1m naive_se \u001b[0m \u001b[1m    mcse \u001b[0m \u001b[1m       ess \u001b[0m \u001b[1m    rhat \u001b[0m \u001b[1m \u001b[0m ⋯\n",
       " \u001b[90m     Symbol \u001b[0m \u001b[90m Float64 \u001b[0m \u001b[90m Float64 \u001b[0m \u001b[90m  Float64 \u001b[0m \u001b[90m Float64 \u001b[0m \u001b[90m   Float64 \u001b[0m \u001b[90m Float64 \u001b[0m \u001b[90m \u001b[0m ⋯\n",
       "\n",
       "          Ωm    0.2403    0.0683     0.0007    0.0017   1405.0343    1.0006    ⋯\n",
       "          σ8    0.8637    0.0619     0.0006    0.0012   2356.8676    1.0002    ⋯\n",
       "\u001b[36m                                                                1 column omitted\u001b[0m\n",
       "\n",
       "Quantiles\n",
       " \u001b[1m parameters \u001b[0m \u001b[1m    2.5% \u001b[0m \u001b[1m   25.0% \u001b[0m \u001b[1m   50.0% \u001b[0m \u001b[1m   75.0% \u001b[0m \u001b[1m   97.5% \u001b[0m\n",
       " \u001b[90m     Symbol \u001b[0m \u001b[90m Float64 \u001b[0m \u001b[90m Float64 \u001b[0m \u001b[90m Float64 \u001b[0m \u001b[90m Float64 \u001b[0m \u001b[90m Float64 \u001b[0m\n",
       "\n",
       "          Ωm    0.1333    0.1894    0.2317    0.2809    0.3915\n",
       "          σ8    0.7530    0.8194    0.8603    0.9035    0.9947\n"
      ]
     },
     "execution_count": 20,
     "metadata": {},
     "output_type": "execute_result"
    }
   ],
   "source": [
    "samples_hmc = sample(stat_model, NUTS(10, 0.65),\n",
    "                     10000, progress=true; save_state=true)"
   ]
  },
  {
   "cell_type": "code",
   "execution_count": 21,
   "id": "623ba990",
   "metadata": {},
   "outputs": [
    {
     "data": {
      "text/plain": [
       "3-dimensional AxisArray{Float64,3,...} with axes:\n",
       "    :iter, 11:1:10010\n",
       "    :var, [:Ωm, :σ8, :lp, :n_steps, :is_accept, :acceptance_rate, :log_density, :hamiltonian_energy, :hamiltonian_energy_error, :max_hamiltonian_energy_error, :tree_depth, :numerical_error, :step_size, :nom_step_size]\n",
       "    :chain, 1:1\n",
       "And data, a 10000×14×1 Array{Float64, 3}:\n",
       "[:, :, 1] =\n",
       " 0.195289  0.931189  15.6471   7.0  1.0  …  2.0  0.0  0.0471045  0.0471045\n",
       " 0.194965  0.891184  16.194    3.0  1.0     1.0  0.0  0.0471045  0.0471045\n",
       " 0.20792   0.883536  16.2748  15.0  1.0     3.0  0.0  0.0471045  0.0471045\n",
       " 0.252361  0.838644  16.1968  31.0  1.0     4.0  0.0  0.0471045  0.0471045\n",
       " 0.251986  0.825046  16.0557   1.0  1.0     1.0  0.0  0.0471045  0.0471045\n",
       " 0.24801   0.831916  16.1395   3.0  1.0  …  2.0  0.0  0.0471045  0.0471045\n",
       " 0.195668  0.864144  15.9732  21.0  1.0     4.0  0.0  0.0471045  0.0471045\n",
       " 0.264617  0.863147  15.8853  19.0  1.0     4.0  0.0  0.0471045  0.0471045\n",
       " 0.272399  0.787847  15.258    7.0  1.0     2.0  0.0  0.0471045  0.0471045\n",
       " 0.177485  0.831818  14.0719  23.0  1.0     4.0  0.0  0.0471045  0.0471045\n",
       " 0.180171  0.853985  15.1452   3.0  1.0  …  2.0  0.0  0.0471045  0.0471045\n",
       " 0.171713  0.970758  14.8959   7.0  1.0     2.0  0.0  0.0471045  0.0471045\n",
       " 0.309617  0.861916  14.6632  21.0  1.0     4.0  0.0  0.0471045  0.0471045\n",
       " ⋮                                       ⋱  ⋮                    \n",
       " 0.322923  0.793806  15.3018  15.0  1.0     3.0  0.0  0.0471045  0.0471045\n",
       " 0.31189   0.76655   14.6991   7.0  1.0     2.0  0.0  0.0471045  0.0471045\n",
       " 0.379489  0.75144   13.8479  31.0  1.0  …  4.0  0.0  0.0471045  0.0471045\n",
       " 0.38042   0.765048  14.1431   3.0  1.0     2.0  0.0  0.0471045  0.0471045\n",
       " 0.382154  0.757197  13.9635   3.0  1.0     1.0  0.0  0.0471045  0.0471045\n",
       " 0.376954  0.767477  14.2347  31.0  1.0     5.0  0.0  0.0471045  0.0471045\n",
       " 0.364653  0.814261  14.3859   7.0  1.0     2.0  0.0  0.0471045  0.0471045\n",
       " 0.1349    0.971494  14.6712  23.0  1.0  …  4.0  0.0  0.0471045  0.0471045\n",
       " 0.15293   0.990051  14.6072   7.0  1.0     2.0  0.0  0.0471045  0.0471045\n",
       " 0.16133   0.890763  15.2044  15.0  1.0     4.0  0.0  0.0471045  0.0471045\n",
       " 0.150458  0.9728    15.0322   7.0  1.0     2.0  0.0  0.0471045  0.0471045\n",
       " 0.152418  0.995637  14.4361   3.0  1.0     1.0  0.0  0.0471045  0.0471045"
      ]
     },
     "execution_count": 21,
     "metadata": {},
     "output_type": "execute_result"
    }
   ],
   "source": [
    "samples_hmc.value"
   ]
  },
  {
   "cell_type": "code",
   "execution_count": 22,
   "id": "fa9db828",
   "metadata": {},
   "outputs": [],
   "source": [
    "Wms_hmc = vec(samples_hmc[\"Ωm\"])\n",
    "s8s_hmc = vec(samples_hmc[\"σ8\"]);"
   ]
  },
  {
   "cell_type": "code",
   "execution_count": 23,
   "id": "3d063a52",
   "metadata": {},
   "outputs": [
    {
     "data": {
      "image/png": "[encoded data removed]",
      "text/plain": [
       "Figure(PyObject <Figure size 640x480 with 1 Axes>)"
      ]
     },
     "metadata": {},
     "output_type": "display_data"
    }
   ],
   "source": [
    "plt.hist2d(Wms_hmc, s8s_hmc, bins=100, range=[[0.1, 0.6],[0.6, 1.2]]);\n",
    "plt.xlabel(\"Wm\")\n",
    "plt.ylabel(\"s8\")\n",
    "plt.title(\"NUTS - RSD model\");"
   ]
  },
  {
   "cell_type": "code",
   "execution_count": null,
   "id": "e2f1bc9f",
   "metadata": {},
   "outputs": [],
   "source": []
  }
 ],
 "metadata": {
  "kernelspec": {
   "display_name": "Julia-1.9.0 10 Threads 1.9.0-rc1",
   "language": "julia",
   "name": "julia-1.9.0-10-threads-1.9"
  },
  "language_info": {
   "file_extension": ".jl",
   "mimetype": "application/julia",
   "name": "julia",
   "version": "1.9.0"
  }
 },
 "nbformat": 4,
 "nbformat_minor": 5
}
