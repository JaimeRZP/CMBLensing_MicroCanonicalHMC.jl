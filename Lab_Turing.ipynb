{
 "cells": [
  {
   "cell_type": "markdown",
   "id": "91129cb1",
   "metadata": {},
   "source": [
    "# Turing Target Practice"
   ]
  },
  {
   "cell_type": "markdown",
   "id": "97121235",
   "metadata": {},
   "source": [
    "## Model"
   ]
  },
  {
   "cell_type": "code",
   "execution_count": 47,
   "id": "86b96c9e",
   "metadata": {},
   "outputs": [
    {
     "name": "stderr",
     "output_type": "stream",
     "text": [
      "\u001b[32m\u001b[1m  Activating\u001b[22m\u001b[39m project at `~/PhD/MicroCanonicalHMC.jl`\n"
     ]
    }
   ],
   "source": [
    "] activate \".\""
   ]
  },
  {
   "cell_type": "code",
   "execution_count": 48,
   "id": "baed58e3",
   "metadata": {},
   "outputs": [],
   "source": [
    "# The statistical inference frame-work we will use\n",
    "using Turing\n",
    "using Interpolations\n",
    "using ForwardDiff\n",
    "using LinearAlgebra\n",
    "#using StatsPlots\n",
    "using PyPlot\n",
    "using Distributed\n",
    "\n",
    "using Revise\n",
    "using MicroCanonicalHMC"
   ]
  },
  {
   "cell_type": "code",
   "execution_count": 49,
   "id": "a7d6f81c",
   "metadata": {},
   "outputs": [],
   "source": [
    "fs8_zs = [0.38, 0.51, 0.61, 1.48, 0.44, 0.6, 0.73, 0.6, 0.86, 0.067, 1.4]\n",
    "fs8_data = [0.49749, 0.457523, 0.436148, 0.462, 0.413, 0.39, 0.437, 0.55, 0.4, 0.423, 0.482]\n",
    "fs8_cov = [0.00203355 0.000811829 0.000264615 0.0 0.0 0.0 0.0 0.0 0.0 0.0 0.0;\n",
    "           0.000811829 0.00142289 0.000662824 0.0 0.0 0.0 0.0 0.0 0.0 0.0 0.0; \n",
    "           0.000264615 0.000662824 0.00118576 0.0 0.0 0.0 0.0 0.0 0.0 0.0 0.0;\n",
    "           0.0 0.0 0.0 0.002025 0.0 0.0 0.0 0.0 0.0 0.0 0.0;\n",
    "           0.0 0.0 0.0 0.0 0.0064 0.00257 0.0 0.0 0.0 0.0 0.0;\n",
    "           0.0 0.0 0.0 0.0 0.00257 0.003969 0.00254 0.0 0.0 0.0 0.0;\n",
    "           0.0 0.0 0.0 0.0 0.0 0.00254 0.005184 0.0 0.0 0.0 0.0;\n",
    "           0.0 0.0 0.0 0.0 0.0 0.0 0.0 0.0144 0.0 0.0 0.0;\n",
    "           0.0 0.0 0.0 0.0 0.0 0.0 0.0 0.0 0.0121 0.0 0.0; \n",
    "           0.0 0.0 0.0 0.0 0.0 0.0 0.0 0.0 0.0 0.003025 0.0;\n",
    "           0.0 0.0 0.0 0.0 0.0 0.0 0.0 0.0 0.0 0.0 0.013456000000000001];"
   ]
  },
  {
   "cell_type": "code",
   "execution_count": 50,
   "id": "1359a630",
   "metadata": {
    "code_folding": []
   },
   "outputs": [
    {
     "data": {
      "text/plain": [
       "make_fs8 (generic function with 1 method)"
      ]
     },
     "execution_count": 50,
     "metadata": {},
     "output_type": "execute_result"
    }
   ],
   "source": [
    "function make_fs8(Ωm, σ8; Ωr=8.24*10^-5)\n",
    "    # ODE solution for growth factor\n",
    "    x_Dz = LinRange(0, log(1+1100), 300)\n",
    "    dx_Dz = x_Dz[2]-x_Dz[1]\n",
    "    z_Dz = @.(exp(x_Dz) - 1)\n",
    "    a_Dz = @.(1/(1+z_Dz))\n",
    "    aa = reverse(a_Dz)\n",
    "    e =  @.(sqrt.(abs(Ωm)*(1+z_Dz)^3+Ωr*(1+z_Dz)^4+(1-Ωm-Ωr)))\n",
    "    ee = reverse(e)\n",
    "\n",
    "    dd = zeros(typeof(Ωm), 300)\n",
    "    yy = zeros(typeof(Ωm), 300)\n",
    "    dd[1] = aa[1]\n",
    "    yy[1] = aa[1]^3*ee[end]\n",
    "\n",
    "    for i in 1:(300-1)\n",
    "        A0 = -1.5 * Ωm / (aa[i]*ee[i])\n",
    "        B0 = -1. / (aa[i]^2*ee[i])\n",
    "        A1 = -1.5 * Ωm / (aa[i+1]*ee[i+1])\n",
    "        B1 = -1. / (aa[i+1]^2*ee[i+1])\n",
    "        yy[i+1] = (1+0.5*dx_Dz^2*A0*B0)*yy[i] + 0.5*(A0+A1)*dx_Dz*dd[i]\n",
    "        dd[i+1] = 0.5*(B0+B1)*dx_Dz*yy[i] + (1+0.5*dx_Dz^2*A0*B0)*dd[i]\n",
    "    end\n",
    "\n",
    "    y = reverse(yy)\n",
    "    d = reverse(dd)\n",
    "\n",
    "    Dzi = LinearInterpolation(z_Dz, d./d[1], extrapolation_bc=Line())\n",
    "    fs8zi = LinearInterpolation(z_Dz, -σ8 .* y./ (a_Dz.^2 .*e.*d[1]),\n",
    "                                 extrapolation_bc=Line())\n",
    "    return fs8zi\n",
    "end"
   ]
  },
  {
   "cell_type": "code",
   "execution_count": 51,
   "id": "8005e277",
   "metadata": {},
   "outputs": [],
   "source": [
    "@model function model(data; cov = fs8_cov) \n",
    "    # Define priors\n",
    "    #KiDS priors\n",
    "    Ωm  ~ Uniform(0.01, 0.6)\n",
    "    σ8 ~ Normal(0.8, 0.3)\n",
    "    fs8_itp = make_fs8(Ωm, σ8)\n",
    "    theory = fs8_itp(fs8_zs)\n",
    "    data ~ MvNormal(theory, cov)\n",
    "end;"
   ]
  },
  {
   "cell_type": "code",
   "execution_count": 52,
   "id": "1eebe796",
   "metadata": {},
   "outputs": [
    {
     "data": {
      "text/plain": [
       "DynamicPPL.Model{typeof(model), (:data, :cov), (:cov,), (), Tuple{Vector{Float64}, Matrix{Float64}}, Tuple{Matrix{Float64}}, DynamicPPL.DefaultContext}(model, (data = [0.49749, 0.457523, 0.436148, 0.462, 0.413, 0.39, 0.437, 0.55, 0.4, 0.423, 0.482], cov = [0.00203355 0.000811829 … 0.0 0.0; 0.000811829 0.00142289 … 0.0 0.0; … ; 0.0 0.0 … 0.003025 0.0; 0.0 0.0 … 0.0 0.013456000000000001]), (cov = [0.00203355 0.000811829 … 0.0 0.0; 0.000811829 0.00142289 … 0.0 0.0; … ; 0.0 0.0 … 0.003025 0.0; 0.0 0.0 … 0.0 0.013456000000000001],), DynamicPPL.DefaultContext())"
      ]
     },
     "execution_count": 52,
     "metadata": {},
     "output_type": "execute_result"
    }
   ],
   "source": [
    "stat_model = model(fs8_data)"
   ]
  },
  {
   "cell_type": "markdown",
   "id": "10dfa4cc",
   "metadata": {},
   "source": [
    "## Sampling"
   ]
  },
  {
   "cell_type": "code",
   "execution_count": 55,
   "id": "c8ed14a3",
   "metadata": {},
   "outputs": [],
   "source": [
    "target = TuringTarget(stat_model; compute_MAP=true);"
   ]
  },
  {
   "cell_type": "code",
   "execution_count": 56,
   "id": "82938e27",
   "metadata": {
    "scrolled": false
   },
   "outputs": [
    {
     "name": "stderr",
     "output_type": "stream",
     "text": [
      "\u001b[36m\u001b[1m[ \u001b[22m\u001b[39m\u001b[36m\u001b[1mInfo: \u001b[22m\u001b[39mTuning sigma ⏳\n",
      "\u001b[36m\u001b[1m[ \u001b[22m\u001b[39m\u001b[36m\u001b[1mInfo: \u001b[22m\u001b[39mTuning eps ⏳\n",
      "\u001b[36m\u001b[1m[ \u001b[22m\u001b[39m\u001b[36m\u001b[1mInfo: \u001b[22m\u001b[39mTuning L ⏳\n",
      "\u001b[36m\u001b[1m[ \u001b[22m\u001b[39m\u001b[36m\u001b[1mInfo: \u001b[22m\u001b[39mFound sigma: [0.45043479852955454, 0.06088870443746964] ✅\n"
     ]
    },
    {
     "name": "stdout",
     "output_type": "stream",
     "text": [
      "eps: 0.5 --> VarE: 0.6147345809026872\n",
      "eps: 0.7350022184587489 --> VarE: 1.1421327080463384\n",
      "eps: 0.6420541869273673 --> VarE: 0.695922375938289\n",
      "eps: 0.8454030667343679 --> VarE: 1.5670055648927272\n",
      "eps: 0.5189394985761924 --> VarE: 0.7750807909147663\n",
      "eps: 0.6238659844138806 --> VarE: 0.8327667364537381\n",
      "eps: 0.7106478177082411 --> VarE: 1.0274462619801814\n",
      "samples: 100--> ESS: 0.10268228752513142\n"
     ]
    },
    {
     "name": "stderr",
     "output_type": "stream",
     "text": [
      "\u001b[36m\u001b[1m[ \u001b[22m\u001b[39m\u001b[36m\u001b[1mInfo: \u001b[22m\u001b[39mFound eps: 0.7106478177082411 ✅\n",
      "\u001b[36m\u001b[1m[ \u001b[22m\u001b[39m\u001b[36m\u001b[1mInfo: \u001b[22m\u001b[39mFound L: 2.7683365255543633 ✅\n"
     ]
    }
   ],
   "source": [
    "samples_mchmc = Sample(MCHMC(varE_wanted=1.0), target, 100000;\n",
    "                       file_name=\"Turing_sequential_samples.txt\",\n",
    "                       dialog=true);"
   ]
  },
  {
   "cell_type": "code",
   "execution_count": 57,
   "id": "385a8b1a",
   "metadata": {},
   "outputs": [],
   "source": [
    "Wms_mchmc = [sample[1] for sample in samples_mchmc]\n",
    "s8s_mchmc = [sample[2] for sample in samples_mchmc];"
   ]
  },
  {
   "cell_type": "code",
   "execution_count": 58,
   "id": "2a803eb8",
   "metadata": {},
   "outputs": [
    {
     "data": {
      "image/png": "[encoded data removed]",
      "text/plain": [
       "Figure(PyObject <Figure size 640x480 with 1 Axes>)"
      ]
     },
     "metadata": {},
     "output_type": "display_data"
    }
   ],
   "source": [
    "plt.hist2d(Wms_mchmc, s8s_mchmc, bins=100, range=[[0.1, 0.6],[0.6, 1.2]]);\n",
    "plt.xlabel(\"Wm\")\n",
    "plt.ylabel(\"s8\")\n",
    "plt.title(\"MCHMC - RSD model\");"
   ]
  },
  {
   "cell_type": "code",
   "execution_count": 11,
   "id": "ae097bf4",
   "metadata": {
    "scrolled": false
   },
   "outputs": [
    {
     "name": "stderr",
     "output_type": "stream",
     "text": [
      "\u001b[36m\u001b[1m[ \u001b[22m\u001b[39m\u001b[36m\u001b[1mInfo: \u001b[22m\u001b[39mBurn-in started ⏳\n",
      "\u001b[36m\u001b[1m[ \u001b[22m\u001b[39m\u001b[36m\u001b[1mInfo: \u001b[22m\u001b[39mTuning sigma ⏳\n",
      "\u001b[36m\u001b[1m[ \u001b[22m\u001b[39m\u001b[36m\u001b[1mInfo: \u001b[22m\u001b[39mTuning eps ⏳\n",
      "\u001b[36m\u001b[1m[ \u001b[22m\u001b[39m\u001b[36m\u001b[1mInfo: \u001b[22m\u001b[39mTuning L ⏳\n",
      "\u001b[33m\u001b[1m┌ \u001b[22m\u001b[39m\u001b[33m\u001b[1mWarning: \u001b[22m\u001b[39mL-tuning not Implemented\n",
      "\u001b[33m\u001b[1m└ \u001b[22m\u001b[39m\u001b[90m@ MicroCanonicalHMC ~/PhD/MicroCanonicalHMC.jl/src/ensemble/tuning.jl:41\u001b[39m\n",
      "\u001b[36m\u001b[1m[ \u001b[22m\u001b[39m\u001b[36m\u001b[1mInfo: \u001b[22m\u001b[39mFound L: 1.4142135623730951 ✅\n"
     ]
    },
    {
     "name": "stdout",
     "output_type": "stream",
     "text": [
      "eps: 0.5 --> VarE: 2.73616720377689\n",
      "eps: 0.053433660543926544 --> VarE: 5.654316749942273\n",
      "eps: 0.0003967309796574555 --> VarE: 0.000833704655444937\n",
      "eps: 0.0006232344422113107 --> VarE: 0.0025048858995881424\n",
      "eps: 0.0009563469567440001 --> VarE: 0.002832205121179224\n",
      "eps: 0.0014367908594431706 --> VarE: 0.003648822864477135\n",
      "eps: 0.0021148221988587794 --> VarE: 0.0035336459814549605\n",
      "eps: 0.0030549464482128477 --> VarE: 0.002559112000703923\n",
      "eps: 0.004337519896516337 --> VarE: 0.014649493822849748\n",
      "eps: 0.00600530296270079 --> VarE: 0.026708870553358383\n",
      "eps: 0.00812078361678659 --> VarE: 0.07650085222992399\n",
      "eps: 0.010499124487376927 --> VarE: 0.2058113562978318\n",
      "eps: 0.012441329489320318 --> VarE: 0.43071802931469466\n",
      "eps: 0.012923491546935431 --> VarE: 0.47389005943254603\n"
     ]
    },
    {
     "name": "stderr",
     "output_type": "stream",
     "text": [
      "\u001b[36m\u001b[1m[ \u001b[22m\u001b[39m\u001b[36m\u001b[1mInfo: \u001b[22m\u001b[39mVarE condition met during eps tuning at step: 14\n",
      "\u001b[36m\u001b[1m[ \u001b[22m\u001b[39m\u001b[36m\u001b[1mInfo: \u001b[22m\u001b[39mFound eps: 0.012923491546935431 ✅\n"
     ]
    },
    {
     "name": "stdout",
     "output_type": "stream",
     "text": [
      "Initial Virial loss: 7506.356197554059\n",
      "Initial sigma: [1.6840954437362896, 0.3011816025230459]\n",
      "Virial loss: 84.36128020271319 --> Relative improvement: 0.026292361140158427\n",
      "Sigma --> [1.6788073792826976, 0.2990127172625004]\n",
      "Virial loss: 82.09133466395129 --> Relative improvement: 0.02690743352053704\n",
      "Sigma --> [1.676027847214436, 0.29739633434266327]\n",
      "Virial loss: 79.85924933514633 --> Relative improvement: 0.02719026725466467\n",
      "Sigma --> [1.6737705121431585, 0.2959346169108133]\n",
      "Virial loss: 77.66945239141641 --> Relative improvement: 0.027420705327944717\n",
      "Sigma --> [1.6716843544448903, 0.29454412229007]\n",
      "Virial loss: 75.52293325554957 --> Relative improvement: 0.02763659417925879\n",
      "Sigma --> [1.6696680634016527, 0.2931957346520613]\n",
      "Virial loss: 73.41982661502757 --> Relative improvement: 0.027847258440103828\n",
      "Sigma --> [1.6676843521720939, 0.29187649621696793]\n",
      "Virial loss: 71.35995046401135 --> Relative improvement: 0.028056129331618607\n",
      "Sigma --> [1.6657172120962644, 0.2905797131098479]\n",
      "Virial loss: 69.3429896833555 --> Relative improvement: 0.028264604551162864\n",
      "Sigma --> [1.6637589626730176, 0.28930154287614157]\n",
      "Virial loss: 67.36858632737923 --> Relative improvement: 0.028473005923051242\n",
      "Sigma --> [1.6618055814018633, 0.2880395905910055]\n",
      "Virial loss: 65.43639672757122 --> Relative improvement: 0.02868086900945932\n",
      "Sigma --> [1.659854799933198, 0.28679225688255056]\n",
      "Virial loss: 63.54613359996665 --> Relative improvement: 0.02888702957582201\n",
      "Sigma --> [1.65790525451897, 0.2855584070423902]\n",
      "Virial loss: 61.69759841409221 --> Relative improvement: 0.02908965630405258\n",
      "Sigma --> [1.655956080631251, 0.28433719145706365]\n",
      "Virial loss: 59.890704215895944 --> Relative improvement: 0.029286297111097315\n",
      "Sigma --> [1.6540067099128979, 0.2831279431100249]\n",
      "Virial loss: 58.12548719049603 --> Relative improvement: 0.02947397344062952\n",
      "Sigma --> [1.6520567647956583, 0.28193011687779773]\n",
      "Virial loss: 56.40210456523547 --> Relative improvement: 0.02964934503882055\n",
      "Sigma --> [1.6501060017259455, 0.2807432526752058]\n",
      "Virial loss: 54.72081535123927 --> Relative improvement: 0.029808980125051843\n",
      "Sigma --> [1.6481542781055019, 0.2795669528041271]\n",
      "Virial loss: 53.081937761195945 --> Relative improvement: 0.029949802091284172\n",
      "Sigma --> [1.6462015294163468, 0.2784008681219705]\n",
      "Virial loss: 51.485773571083705 --> Relative improvement: 0.030069817671182886\n",
      "Sigma --> [1.644247749318772, 0.2772446899592802]\n",
      "Virial loss: 49.93248910517044 --> Relative improvement: 0.030169197395251812\n",
      "Sigma --> [1.6422929704628169, 0.276098145947598]\n",
      "Virial loss: 48.421952395326755 --> Relative improvement: 0.030251580422159807\n",
      "Sigma --> [1.640337248844737, 0.27496099840295973]\n",
      "Virial loss: 46.953553227483745 --> Relative improvement: 0.030325071485236665\n",
      "Sigma --> [1.638380658859666, 0.27383304383605744]\n",
      "Virial loss: 45.526070331453845 --> Relative improvement: 0.03040202067592057\n",
      "Sigma --> [1.636423306171263, 0.27271411187907346]\n",
      "Virial loss: 44.13766606789236 --> Relative improvement: 0.030496905475328018\n",
      "Sigma --> [1.6344653578601038, 0.27160406202230214]\n",
      "Virial loss: 42.7860501496147 --> Relative improvement: 0.030622731981310714\n",
      "Sigma --> [1.6325070769545962, 0.2705027774435066]\n",
      "Virial loss: 41.46877749692916 --> Relative improvement: 0.030787433008639287\n",
      "Sigma --> [1.6305488410305824, 0.26941015657217404]\n",
      "Virial loss: 40.18359603334563 --> Relative improvement: 0.03099154451029329\n",
      "Sigma --> [1.6285911288869983, 0.2683261040880524]\n",
      "Virial loss: 38.928767712293165 --> Relative improvement: 0.031227377460473327\n",
      "Sigma --> [1.6266344719677028, 0.26725052339249017]\n",
      "Virial loss: 37.70330828302356 --> Relative improvement: 0.03147953303650608\n",
      "Sigma --> [1.6246793800371462, 0.26618331228652875]\n",
      "Virial loss: 36.50708661201685 --> Relative improvement: 0.031727233642924846\n",
      "Sigma --> [1.6227262592574254, 0.2651243627248778]\n",
      "Virial loss: 35.34072178135558 --> Relative improvement: 0.03194899782217464\n",
      "Sigma --> [1.6207753450912792, 0.2640735641601215]\n",
      "Virial loss: 34.205278536650205 --> Relative improvement: 0.032128467882746925\n",
      "Sigma --> [1.618826671742008, 0.2630308086356503]\n",
      "Virial loss: 33.10187858806209 --> Relative improvement: 0.032258177561859114\n",
      "Sigma --> [1.6168800910904342, 0.2619959952594175]\n",
      "Virial loss: 32.031405274249906 --> Relative improvement: 0.03233874811559012\n",
      "Sigma --> [1.6149353365009738, 0.26096903242770353]\n",
      "Virial loss: 30.994400766020767 --> Relative improvement: 0.032374617952300344\n",
      "Sigma --> [1.6129921089106478, 0.2599498376630994]\n",
      "Virial loss: 29.99111386713035 --> Relative improvement: 0.03236994018578754\n",
      "Sigma --> [1.6110501572665534, 0.2589383360913985]\n",
      "Virial loss: 29.02159218093565 --> Relative improvement: 0.032326964930011304\n",
      "Sigma --> [1.6091093347183947, 0.2579344587567377]\n",
      "Virial loss: 28.085749242840137 --> Relative improvement: 0.03224643679991712\n",
      "Sigma --> [1.6071696254372803, 0.2569381414445957]\n",
      "Virial loss: 27.183396611867504 --> Relative improvement: 0.03212848705478877\n",
      "Sigma --> [1.6052311452161727, 0.25594932408067284]\n",
      "Virial loss: 26.314257236235225 --> Relative improvement: 0.03197317053648985\n",
      "Sigma --> [1.6032941211959884, 0.2549679504342526]\n",
      "Virial loss: 25.477971793284016 --> Relative improvement: 0.03178069726397703\n",
      "Sigma --> [1.6013588554594775, 0.2539939677773076]\n",
      "Virial loss: 24.67409514657204 --> Relative improvement: 0.031551830468855346\n",
      "Sigma --> [1.5994256766746957, 0.2530273262284858]\n",
      "Virial loss: 23.902070080159298 --> Relative improvement: 0.03128889071014218\n",
      "Sigma --> [1.5974948847906343, 0.2520679776537341]\n",
      "Virial loss: 23.161168729863572 --> Relative improvement: 0.03099737168416783\n",
      "Sigma --> [1.5955666961647268, 0.25111587414548653]\n",
      "Virial loss: 22.45041461901902 --> Relative improvement: 0.03068731630663002\n",
      "Sigma --> [1.5936411991341486, 0.2501709662398574]\n",
      "Virial loss: 21.76853290530138 --> Relative improvement: 0.030372789335479822\n",
      "Sigma --> [1.5917183297260975, 0.24923320118448267]\n",
      "Virial loss: 21.1139886775714 --> Relative improvement: 0.030068366599504626\n",
      "Sigma --> [1.5897978709759233, 0.2483025217666792]\n",
      "Virial loss: 20.48512358295183 --> Relative improvement: 0.02978428681680545\n",
      "Sigma --> [1.587879469587274, 0.24737886633899]\n",
      "Virial loss: 19.88031342026267 --> Relative improvement: 0.029524359969812175\n",
      "Sigma --> [1.585962658806142, 0.24646217046880817]\n",
      "Virial loss: 19.29803634530612 --> Relative improvement: 0.029289129534702085\n",
      "Sigma --> [1.5840468814935003, 0.24555236999802432]\n",
      "Virial loss: 18.736811796404176 --> Relative improvement: 0.029081951078325674\n",
      "Sigma --> [1.5821315168025134, 0.24464940458678772]\n",
      "Virial loss: 18.195075479938616 --> Relative improvement: 0.028912940064303005\n",
      "Sigma --> [1.5802159173974082, 0.2437532205603014]\n",
      "Virial loss: 17.671092779571865 --> Relative improvement: 0.028798050381515616\n",
      "Sigma --> [1.5782994584989356, 0.24286377225320907]\n",
      "Virial loss: 17.16296229520239 --> Relative improvement: 0.028754898789105088\n",
      "Sigma --> [1.5763815912884116, 0.24198102174526095]\n",
      "Virial loss: 16.668690743801 --> Relative improvement: 0.0287987319962566\n",
      "Sigma --> [1.5744618890717397, 0.24110493744791656]\n",
      "Virial loss: 16.18629322135341 --> Relative improvement: 0.028940336698429214\n",
      "Sigma --> [1.5725400769125717, 0.24023549220231225]\n",
      "Virial loss: 15.713889097834548 --> Relative improvement: 0.029185442093416003\n",
      "Sigma --> [1.570616040771932, 0.23937266144874794]\n",
      "Virial loss: 15.249789510872132 --> Relative improvement: 0.029534355503779808\n",
      "Sigma --> [1.5686898169357784, 0.23851642181643343]\n",
      "Virial loss: 14.792584324612852 --> Relative improvement: 0.02998108176728087\n",
      "Sigma --> [1.5667615654123324, 0.23766675030652282]\n",
      "Virial loss: 14.341232144784106 --> Relative improvement: 0.030512057252751745\n",
      "Sigma --> [1.5648315324568174, 0.23682362414482047]\n",
      "Virial loss: 13.895144019996133 --> Relative improvement: 0.031105285813967876\n",
      "Sigma --> [1.5629000082099345, 0.23598702132349791]\n",
      "Virial loss: 13.454238268361456 --> Relative improvement: 0.03173092347946749\n",
      "Sigma --> [1.5609672860893606, 0.23515692176538824]\n",
      "Virial loss: 13.018937228521366 --> Relative improvement: 0.03235419435552356\n",
      "Sigma --> [1.5590336310596427, 0.23433330889140652]\n",
      "Virial loss: 12.590080855731339 --> Relative improvement: 0.032940966321775234\n",
      "Sigma --> [1.5570992636470191, 0.2335161711835725]\n",
      "Virial loss: 12.168748379401837 --> Relative improvement: 0.033465430536746665\n",
      "Sigma --> [1.555164364260083, 0.23270550321509226]\n",
      "Virial loss: 11.756008432313736 --> Relative improvement: 0.03391802790390097\n",
      "Sigma --> [1.5532290966695115, 0.23190130568599854]\n",
      "Virial loss: 11.35265643984796 --> Relative improvement: 0.0343102843782489\n",
      "Sigma --> [1.5512936414313596, 0.2311035843001268]\n",
      "Virial loss: 10.959022466375286 --> Relative improvement: 0.034673292154866475\n",
      "Sigma --> [1.5493582249980635, 0.23031234770589756]\n",
      "Virial loss: 10.574909606052247 --> Relative improvement: 0.03504991996335283\n",
      "Sigma --> [1.5474231337422755, 0.2295276049307281]\n",
      "Virial loss: 10.199660831990286 --> Relative improvement: 0.03548482096217609\n",
      "Sigma --> [1.5454887118340135, 0.22874936265763054]\n",
      "Virial loss: 9.832307805610817 --> Relative improvement: 0.03601620018847096\n",
      "Sigma --> [1.5435553493566767, 0.22797762251909298]\n",
      "Virial loss: 9.471755378399399 --> Relative improvement: 0.03667017289732011\n",
      "Sigma --> [1.541623467809989, 0.22721237854692686]\n",
      "Virial loss: 9.116968048412858 --> Relative improvement: 0.03745740000799047\n",
      "Sigma --> [1.5396935070798545, 0.22645361499353384]\n"
     ]
    },
    {
     "name": "stdout",
     "output_type": "stream",
     "text": [
      "Virial loss: 8.767123393169507 --> Relative improvement: 0.038372916674228486\n",
      "Sigma --> [1.5377659152909027, 0.22570130474747743]\n",
      "Virial loss: 8.421700485550078 --> Relative improvement: 0.039399799926227774\n",
      "Sigma --> [1.5358411420595315, 0.2249554084568896]\n",
      "Virial loss: 8.08049588635125 --> Relative improvement: 0.040514929233622876\n",
      "Sigma --> [1.5339196358336453, 0.22421587441619573]\n",
      "Virial loss: 7.743585662086307 --> Relative improvement: 0.04169425107115232\n",
      "Sigma --> [1.5320018463890195, 0.22348263938096183]\n",
      "Virial loss: 7.4112663179594245 --> Relative improvement: 0.04291543460983005\n",
      "Sigma --> [1.5300882332400518, 0.22275563062686968]\n",
      "Virial loss: 7.084034639323317 --> Relative improvement: 0.04415327483822029\n",
      "Sigma --> [1.5281792784273154, 0.22203476958538615]\n",
      "Virial loss: 6.762687295829115 --> Relative improvement: 0.045362192571788196\n",
      "Sigma --> [1.5262754979465845, 0.2213199771214613]\n",
      "Virial loss: 6.448549357920331 --> Relative improvement: 0.04645164328425011\n",
      "Sigma --> [1.524377443492247, 0.22061117975474248]\n",
      "Virial loss: 6.143688339441379 --> Relative improvement: 0.04727590680600291\n",
      "Sigma --> [1.5224856897383994, 0.21990831516321785]\n",
      "Virial loss: 5.850929941097062 --> Relative improvement: 0.047651896087381296\n",
      "Sigma --> [1.5206008107935245, 0.21921133532597203]\n",
      "Virial loss: 5.573650626451962 --> Relative improvement: 0.04739064002415827\n",
      "Sigma --> [1.5187233547445809, 0.218520207061992]\n",
      "Virial loss: 5.315459531098878 --> Relative improvement: 0.0463235162476342\n",
      "Sigma --> [1.5168538231018123, 0.21783491099119304]\n",
      "Virial loss: 5.079840219238029 --> Relative improvement: 0.044327176320753336\n",
      "Sigma --> [1.514992657083041, 0.21715543987024424]\n",
      "Virial loss: 4.869752276492225 --> Relative improvement: 0.04135719504526414\n",
      "Sigma --> [1.5131402300536803, 0.21648179654448]\n",
      "Virial loss: 4.687226905751207 --> Relative improvement: 0.03748144882484539\n",
      "Sigma --> [1.511296844960891, 0.21581399147276467]\n",
      "Virial loss: 4.5330523770869044 --> Relative improvement: 0.032892482434577985\n",
      "Sigma --> [1.5094627353881704, 0.21515203996640195]\n",
      "Virial loss: 4.4066363232539345 --> Relative improvement: 0.02788762258119093\n",
      "Sigma --> [1.5076380682466812, 0.21449595946329975]\n",
      "Virial loss: 4.306066565859073 --> Relative improvement: 0.022822341127665235\n",
      "Sigma --> [1.5058229452724572, 0.21384576713252818]\n",
      "Virial loss: 4.228328905964588 --> Relative improvement: 0.018053055777361382\n",
      "Sigma --> [1.5040173997604247, 0.2132014779656036]\n",
      "Virial loss: 4.169608700310115 --> Relative improvement: 0.013887331605552444\n",
      "Sigma --> [1.5022213850433797, 0.21256310337605125]\n",
      "Virial loss: 4.125604344114419 --> Relative improvement: 0.010553593720298848\n",
      "Sigma --> [1.5004347532144173, 0.21193065024340815]\n",
      "Virial loss: 4.091806172257997 --> Relative improvement: 0.008192295973470598\n",
      "Sigma --> [1.4986572274993262, 0.211304120303579]\n"
     ]
    },
    {
     "name": "stderr",
     "output_type": "stream",
     "text": [
      "\u001b[36m\u001b[1m[ \u001b[22m\u001b[39m\u001b[36m\u001b[1mInfo: \u001b[22m\u001b[39mVirial loss condition met during burn-in at step: 95\n",
      "\u001b[36m\u001b[1m[ \u001b[22m\u001b[39m\u001b[36m\u001b[1mInfo: \u001b[22m\u001b[39mFound sigma: [1.4986572274993262, 0.211304120303579] ✅\n"
     ]
    },
    {
     "name": "stdout",
     "output_type": "stream",
     "text": [
      "eps: 0.012923491546935431 --> VarE: 0.0001866373652387482\n",
      "eps: 0.01358355769153879 --> VarE: 0.00022925843958718426\n",
      "eps: 0.014276728151435512 --> VarE: 0.0002854042860053739\n",
      "eps: 0.015004428717001599 --> VarE: 0.0003575498507506829\n",
      "eps: 0.015768083343940944 --> VarE: 0.00044867729197286177\n",
      "eps: 0.016569094420295857 --> VarE: 0.0005625071123629268\n",
      "eps: 0.01740881472036923 --> VarE: 0.0007037054399452037\n",
      "eps: 0.018288509484767075 --> VarE: 0.0008780554201109373\n",
      "eps: 0.01920930717367765 --> VarE: 0.0010926612235448146\n",
      "eps: 0.020172136056001534 --> VarE: 0.0013562109569271233\n",
      "eps: 0.021177642751784086 --> VarE: 0.0016789285719003538\n",
      "eps: 0.02222609634312413 --> VarE: 0.0020710682641514053\n",
      "eps: 0.02331731088592528 --> VarE: 0.002538590863261646\n",
      "eps: 0.024450665890378632 --> VarE: 0.0030780192800219566\n",
      "eps: 0.025625281712336825 --> VarE: 0.0036794829681815484\n",
      "eps: 0.026840178110257896 --> VarE: 0.0043412567784558735\n",
      "eps: 0.028094074755282347 --> VarE: 0.00508095600320102\n",
      "eps: 0.029384805919646644 --> VarE: 0.005933868988251091\n",
      "eps: 0.030708634413767723 --> VarE: 0.006945039637858757\n",
      "eps: 0.03205966912625156 --> VarE: 0.008158796591460606\n",
      "eps: 0.03342954300335308 --> VarE: 0.009605781063114428\n",
      "eps: 0.034807547624297476 --> VarE: 0.011293184364166596\n",
      "eps: 0.036181251295666635 --> VarE: 0.01319772493211422\n",
      "eps: 0.03753760909967625 --> VarE: 0.015256350548755666\n",
      "eps: 0.03886472353451699 --> VarE: 0.017369992177076205\n",
      "eps: 0.04015379662718217 --> VarE: 0.019435391317261286\n",
      "eps: 0.0414000300087655 --> VarE: 0.021379303183316396\n",
      "eps: 0.042602046946024215 --> VarE: 0.023170204611920965\n",
      "eps: 0.04376052248751788 --> VarE: 0.024812188337876795\n",
      "eps: 0.04487675297464398 --> VarE: 0.02632803297838299\n",
      "eps: 0.045951747409128635 --> VarE: 0.027752774777717083\n",
      "eps: 0.046985502740130365 --> VarE: 0.029111010157033018\n",
      "eps: 0.047977305241678536 --> VarE: 0.030422527054866557\n",
      "eps: 0.04892583424182599 --> VarE: 0.03169915981087078\n",
      "eps: 0.04982946146394517 --> VarE: 0.032938726578802195\n",
      "eps: 0.050686909307232526 --> VarE: 0.03414320000102858\n",
      "eps: 0.05149704761635389 --> VarE: 0.03531152184817134\n",
      "eps: 0.05225904345467265 --> VarE: 0.03643421324300804\n",
      "eps: 0.05297280894332094 --> VarE: 0.03750582737336142\n",
      "eps: 0.053638812279289225 --> VarE: 0.03852847488649341\n",
      "eps: 0.054257674119355226 --> VarE: 0.03950457698695689\n",
      "eps: 0.05483013019040644 --> VarE: 0.0404330944982872\n",
      "eps: 0.05535720206796235 --> VarE: 0.04131127908111705\n",
      "eps: 0.055840280977373 --> VarE: 0.04213700010169201\n",
      "eps: 0.05628108384636089 --> VarE: 0.04290948284366957\n",
      "eps: 0.0566815639646673 --> VarE: 0.04362899501588885\n",
      "eps: 0.0570438352820046 --> VarE: 0.044296281076484596\n",
      "eps: 0.05737012693813195 --> VarE: 0.04491218906316861\n",
      "eps: 0.05766275909470686 --> VarE: 0.04547761430441886\n"
     ]
    },
    {
     "name": "stderr",
     "output_type": "stream",
     "text": [
      "\u001b[36m\u001b[1m[ \u001b[22m\u001b[39m\u001b[36m\u001b[1mInfo: \u001b[22m\u001b[39mVarE condition met during eps tuning at step: 49\n",
      "\u001b[36m\u001b[1m[ \u001b[22m\u001b[39m\u001b[36m\u001b[1mInfo: \u001b[22m\u001b[39mFound eps: 0.05766275909470686 ✅\n"
     ]
    }
   ],
   "source": [
    "samples_ensemble_mchmc = Sample(MCHMC(100; varE_wanted=0.05), target, 1000, 100;\n",
    "   monitor_energy=true, \n",
    "   dialog=true);"
   ]
  },
  {
   "cell_type": "code",
   "execution_count": 12,
   "id": "197541d7",
   "metadata": {},
   "outputs": [],
   "source": [
    "Wms_ensemble_mchmc = [sample[1] for sample in samples_ensemble_mchmc]\n",
    "s8s_ensemble_mchmc = [sample[2] for sample in samples_ensemble_mchmc];"
   ]
  },
  {
   "cell_type": "code",
   "execution_count": 13,
   "id": "654b0195",
   "metadata": {},
   "outputs": [
    {
     "data": {
      "image/png": "[encoded data removed]",
      "text/plain": [
       "Figure(PyObject <Figure size 640x480 with 1 Axes>)"
      ]
     },
     "metadata": {},
     "output_type": "display_data"
    }
   ],
   "source": [
    "plt.hist2d(Wms_ensemble_mchmc, s8s_ensemble_mchmc, bins=100, range=[[0.1, 0.6],[0.6, 1.2]]);\n",
    "plt.xlabel(\"Wm\")\n",
    "plt.ylabel(\"s8\")\n",
    "plt.title(\"Ensemble MCHMC - RSD model\");"
   ]
  },
  {
   "cell_type": "markdown",
   "id": "b9b6311f",
   "metadata": {},
   "source": [
    "##  AbstractMCMC"
   ]
  },
  {
   "cell_type": "code",
   "execution_count": 14,
   "id": "d569b9dc",
   "metadata": {},
   "outputs": [
    {
     "name": "stdout",
     "output_type": "stream",
     "text": [
      "eps: 0.5 --> VarE: 0.5235979235300555\n",
      "eps: "
     ]
    },
    {
     "name": "stderr",
     "output_type": "stream",
     "text": [
      "\u001b[36m\u001b[1m[ \u001b[22m\u001b[39m\u001b[36m\u001b[1mInfo: \u001b[22m\u001b[39mTuning sigma ⏳\n",
      "\u001b[36m\u001b[1m[ \u001b[22m\u001b[39m\u001b[36m\u001b[1mInfo: \u001b[22m\u001b[39mTuning eps ⏳\n",
      "\u001b[36m\u001b[1m[ \u001b[22m\u001b[39m\u001b[36m\u001b[1mInfo: \u001b[22m\u001b[39mTuning L ⏳\n",
      "\u001b[36m\u001b[1m[ \u001b[22m\u001b[39m\u001b[36m\u001b[1mInfo: \u001b[22m\u001b[39mFound sigma: [0.45043479851558293, 0.06088870443655183] ✅\n"
     ]
    },
    {
     "name": "stdout",
     "output_type": "stream",
     "text": [
      "2.188584298838118 --> VarE: 23.271161012292428\n",
      "eps: 3.570717245342175e-9 --> VarE: 1.4902825469151832e-20\n",
      "eps: 2.18115865286576e-8 --> VarE: 5.560241387938062e-19\n",
      "eps: 1.2198002155693984e-7 --> VarE: 1.7381669225034457e-17\n",
      "eps: 6.272334373706335e-7 --> VarE: 4.587905385585107e-16\n",
      "eps: 2.977741320262249e-6 --> VarE: 1.0403694148289157e-14\n",
      "eps: 1.310247977734684e-5 --> VarE: 2.6060302722399306e-13\n",
      "eps: 5.3633704604963107e-5 --> VarE: 2.314030382026661e-11\n",
      "eps: 0.0002049606029149417 --> VarE: 4.460634968280011e-9\n",
      "eps: 0.0007336808172577593 --> VarE: 6.569613216028629e-7\n",
      "eps: 0.0024679299495257347 --> VarE: 1.3048347668228207e-5\n",
      "eps: 0.007824593722735338 --> VarE: 0.00024844788310660244\n",
      "eps: 0.02344737939478738 --> VarE: 0.002708071495964275\n",
      "eps: 0.06651560301830928 --> VarE: 0.029757135347813383\n",
      "eps: 0.17694345238526546 --> VarE: 0.20205491743849258\n",
      "eps: 0.4136910024043152 --> VarE: 0.41337917056586326\n",
      "eps: 0.8439000115785296 --> VarE: 1.576555340123951\n",
      "eps: 1.0113290019321903 --> VarE: 3.03525008074204\n",
      "eps: 0.6638918869063108 --> VarE: 0.6867223941565066\n",
      "eps: 1.1032521982383738 --> VarE: 3.2818125342432056\n",
      "eps: 0.6884654682579775 --> VarE: 0.7143624646853932\n",
      "eps: 1.0796133720216312 --> VarE: 3.668866598888169\n",
      "eps: 0.6194554798492325 --> VarE: 0.6497342197612854\n",
      "eps: 0.949926514357275 --> VarE: 2.267400619061832\n",
      "eps: 0.8764197208432684 --> VarE: 1.539598228556188\n",
      "eps: 0.9999971465948851 --> VarE: 2.700460857216888\n",
      "eps: 0.8262146215914042 --> VarE: 1.14838332532351\n",
      "eps: 1.030323285010139 --> VarE: 2.9409258450673383\n",
      "eps: 0.8169667891113074 --> VarE: 1.0038464797853055\n",
      "eps: 1.0320129170181445 --> VarE: 3.3969473968566657\n",
      "eps: 0.7556402219960443 --> VarE: 1.1367321840088733\n",
      "eps: 0.9075895245252216 --> VarE: 2.0553298284498878\n",
      "samples: 100--> ESS: 0.49367191023544726\n"
     ]
    },
    {
     "name": "stderr",
     "output_type": "stream",
     "text": [
      "\u001b[36m\u001b[1m[ \u001b[22m\u001b[39m\u001b[36m\u001b[1mInfo: \u001b[22m\u001b[39mFound eps: 0.9075895245252216 ✅\n",
      "\u001b[36m\u001b[1m[ \u001b[22m\u001b[39m\u001b[36m\u001b[1mInfo: \u001b[22m\u001b[39mFound L: 0.7353787045265463 ✅\n",
      "\u001b[32mChain 1: 100%|██████████████████████████████████████████| Time: 0:00:00\u001b[39m\n"
     ]
    },
    {
     "data": {
      "text/plain": [
       "Chains MCMC chain (10000×4×1 Array{Float64, 3}):\n",
       "\n",
       "Iterations        = 1:1:10000\n",
       "Number of chains  = 1\n",
       "Samples per chain = 10000\n",
       "Wall duration     = 2.32 seconds\n",
       "Compute duration  = 2.32 seconds\n",
       "parameters        = Ωm, σ8\n",
       "internals         = E, logp\n",
       "\n",
       "Summary Statistics\n",
       " \u001b[1m parameters \u001b[0m \u001b[1m    mean \u001b[0m \u001b[1m     std \u001b[0m \u001b[1m naive_se \u001b[0m \u001b[1m    mcse \u001b[0m \u001b[1m       ess \u001b[0m \u001b[1m    rhat \u001b[0m \u001b[1m \u001b[0m ⋯\n",
       " \u001b[90m     Symbol \u001b[0m \u001b[90m Float64 \u001b[0m \u001b[90m Float64 \u001b[0m \u001b[90m  Float64 \u001b[0m \u001b[90m Float64 \u001b[0m \u001b[90m   Float64 \u001b[0m \u001b[90m Float64 \u001b[0m \u001b[90m \u001b[0m ⋯\n",
       "\n",
       "          Ωm    0.2339    0.0629     0.0006    0.0018    987.9946    1.0002    ⋯\n",
       "          σ8    0.8679    0.0603     0.0006    0.0017   1029.4417    1.0002    ⋯\n",
       "\u001b[36m                                                                1 column omitted\u001b[0m\n",
       "\n",
       "Quantiles\n",
       " \u001b[1m parameters \u001b[0m \u001b[1m    2.5% \u001b[0m \u001b[1m   25.0% \u001b[0m \u001b[1m   50.0% \u001b[0m \u001b[1m   75.0% \u001b[0m \u001b[1m   97.5% \u001b[0m\n",
       " \u001b[90m     Symbol \u001b[0m \u001b[90m Float64 \u001b[0m \u001b[90m Float64 \u001b[0m \u001b[90m Float64 \u001b[0m \u001b[90m Float64 \u001b[0m \u001b[90m Float64 \u001b[0m\n",
       "\n",
       "          Ωm    0.1286    0.1886    0.2279    0.2721    0.3754\n",
       "          σ8    0.7587    0.8259    0.8654    0.9062    0.9928\n"
      ]
     },
     "execution_count": 14,
     "metadata": {},
     "output_type": "execute_result"
    }
   ],
   "source": [
    "samples = sample(\n",
    "    stat_model, MCHMC(varE_wanted=2.0), 10000;\n",
    "    monitor_energy=true, \n",
    "    dialog=true)"
   ]
  },
  {
   "cell_type": "code",
   "execution_count": 15,
   "id": "eea6e813",
   "metadata": {},
   "outputs": [
    {
     "name": "stderr",
     "output_type": "stream",
     "text": [
      "\u001b[36m\u001b[1m[ \u001b[22m\u001b[39m\u001b[36m\u001b[1mInfo: \u001b[22m\u001b[39mStarting from previous run\n",
      "\u001b[32mChain 1: 100%|██████████████████████████████████████████| Time: 0:00:00\u001b[39m\n"
     ]
    },
    {
     "data": {
      "text/plain": [
       "Chains MCMC chain (10000×4×1 Array{Float64, 3}):\n",
       "\n",
       "Iterations        = 1:1:10000\n",
       "Number of chains  = 1\n",
       "Samples per chain = 10000\n",
       "Wall duration     = 0.71 seconds\n",
       "Compute duration  = 0.71 seconds\n",
       "parameters        = Ωm, σ8\n",
       "internals         = E, logp\n",
       "\n",
       "Summary Statistics\n",
       " \u001b[1m parameters \u001b[0m \u001b[1m    mean \u001b[0m \u001b[1m     std \u001b[0m \u001b[1m naive_se \u001b[0m \u001b[1m    mcse \u001b[0m \u001b[1m       ess \u001b[0m \u001b[1m    rhat \u001b[0m \u001b[1m \u001b[0m ⋯\n",
       " \u001b[90m     Symbol \u001b[0m \u001b[90m Float64 \u001b[0m \u001b[90m Float64 \u001b[0m \u001b[90m  Float64 \u001b[0m \u001b[90m Float64 \u001b[0m \u001b[90m   Float64 \u001b[0m \u001b[90m Float64 \u001b[0m \u001b[90m \u001b[0m ⋯\n",
       "\n",
       "          Ωm    0.2372    0.0640     0.0006    0.0020    936.3047    1.0002    ⋯\n",
       "          σ8    0.8649    0.0597     0.0006    0.0017   1027.6432    1.0001    ⋯\n",
       "\u001b[36m                                                                1 column omitted\u001b[0m\n",
       "\n",
       "Quantiles\n",
       " \u001b[1m parameters \u001b[0m \u001b[1m    2.5% \u001b[0m \u001b[1m   25.0% \u001b[0m \u001b[1m   50.0% \u001b[0m \u001b[1m   75.0% \u001b[0m \u001b[1m   97.5% \u001b[0m\n",
       " \u001b[90m     Symbol \u001b[0m \u001b[90m Float64 \u001b[0m \u001b[90m Float64 \u001b[0m \u001b[90m Float64 \u001b[0m \u001b[90m Float64 \u001b[0m \u001b[90m Float64 \u001b[0m\n",
       "\n",
       "          Ωm    0.1321    0.1911    0.2304    0.2761    0.3788\n",
       "          σ8    0.7532    0.8241    0.8626    0.9032    0.9900\n"
      ]
     },
     "execution_count": 15,
     "metadata": {},
     "output_type": "execute_result"
    }
   ],
   "source": [
    "new_samples = sample(stat_model, MCHMC(varE_wanted=2.0), 10000; \n",
    "                     monitor_energy=true, \n",
    "                     progress=true, resume_from=samples)"
   ]
  },
  {
   "cell_type": "markdown",
   "id": "f7fdb382",
   "metadata": {},
   "source": [
    "## Ensemble AbstractMCMC"
   ]
  },
  {
   "cell_type": "code",
   "execution_count": 16,
   "id": "16856966",
   "metadata": {
    "scrolled": false
   },
   "outputs": [
    {
     "name": "stderr",
     "output_type": "stream",
     "text": [
      "\u001b[36m\u001b[1m[ \u001b[22m\u001b[39m\u001b[36m\u001b[1mInfo: \u001b[22m\u001b[39mBurn-in started ⏳\n",
      "\u001b[36m\u001b[1m[ \u001b[22m\u001b[39m\u001b[36m\u001b[1mInfo: \u001b[22m\u001b[39mTuning sigma ⏳\n",
      "\u001b[36m\u001b[1m[ \u001b[22m\u001b[39m\u001b[36m\u001b[1mInfo: \u001b[22m\u001b[39mTuning eps ⏳\n",
      "\u001b[36m\u001b[1m[ \u001b[22m\u001b[39m\u001b[36m\u001b[1mInfo: \u001b[22m\u001b[39mTuning L ⏳\n",
      "\u001b[33m\u001b[1m┌ \u001b[22m\u001b[39m\u001b[33m\u001b[1mWarning: \u001b[22m\u001b[39mL-tuning not Implemented\n",
      "\u001b[33m\u001b[1m└ \u001b[22m\u001b[39m\u001b[90m@ MicroCanonicalHMC ~/PhD/MicroCanonicalHMC.jl/src/ensemble/tuning.jl:41\u001b[39m\n",
      "\u001b[36m\u001b[1m[ \u001b[22m\u001b[39m\u001b[36m\u001b[1mInfo: \u001b[22m\u001b[39mFound L: 1.4142135623730951 ✅\n",
      "\u001b[36m\u001b[1m[ \u001b[22m\u001b[39m\u001b[36m\u001b[1mInfo: \u001b[22m\u001b[39mVarE condition met during eps tuning at step: 7\n",
      "\u001b[36m\u001b[1m[ \u001b[22m\u001b[39m\u001b[36m\u001b[1mInfo: \u001b[22m\u001b[39mFound eps: 0.008771615483189136 ✅\n",
      "\u001b[36m\u001b[1m[ \u001b[22m\u001b[39m\u001b[36m\u001b[1mInfo: \u001b[22m\u001b[39mVirial loss condition met during burn-in at step: 29\n",
      "\u001b[36m\u001b[1m[ \u001b[22m\u001b[39m\u001b[36m\u001b[1mInfo: \u001b[22m\u001b[39mFound sigma: [1.6210966264327005, 0.27798429384397405] ✅\n",
      "\u001b[33m\u001b[1m┌ \u001b[22m\u001b[39m\u001b[33m\u001b[1mWarning: \u001b[22m\u001b[39mMaximum number of steps reached during eps tuning\n",
      "\u001b[33m\u001b[1m└ \u001b[22m\u001b[39m\u001b[90m@ MicroCanonicalHMC ~/PhD/MicroCanonicalHMC.jl/src/ensemble/tuning.jl:214\u001b[39m\n",
      "\u001b[36m\u001b[1m[ \u001b[22m\u001b[39m\u001b[36m\u001b[1mInfo: \u001b[22m\u001b[39mFound eps: 0.015346849535888529 ✅\n",
      "\u001b[32mChain 1: 100%|██████████████████████████████████████████| Time: 0:00:03\u001b[39m\n"
     ]
    },
    {
     "data": {
      "text/plain": [
       "Chains MCMC chain (100000×4×1 Array{Float64, 3}):\n",
       "\n",
       "Iterations        = 1:1:100000\n",
       "Number of chains  = 1\n",
       "Samples per chain = 100000\n",
       "Wall duration     = 3.38 seconds\n",
       "Compute duration  = 3.38 seconds\n",
       "parameters        = Ωm, σ8\n",
       "internals         = E, logp\n",
       "\n",
       "Summary Statistics\n",
       " \u001b[1m parameters \u001b[0m \u001b[1m    mean \u001b[0m \u001b[1m     std \u001b[0m \u001b[1m naive_se \u001b[0m \u001b[1m    mcse \u001b[0m \u001b[1m      ess \u001b[0m \u001b[1m    rhat \u001b[0m \u001b[1m e\u001b[0m ⋯\n",
       " \u001b[90m     Symbol \u001b[0m \u001b[90m Float64 \u001b[0m \u001b[90m Float64 \u001b[0m \u001b[90m  Float64 \u001b[0m \u001b[90m Float64 \u001b[0m \u001b[90m  Float64 \u001b[0m \u001b[90m Float64 \u001b[0m \u001b[90m  \u001b[0m ⋯\n",
       "\n",
       "          Ωm    0.2936    0.1603     0.0005    0.0086   226.5623    1.0010     ⋯\n",
       "          σ8    0.7719    0.2556     0.0008    0.0136   229.4126    1.0376     ⋯\n",
       "\u001b[36m                                                                1 column omitted\u001b[0m\n",
       "\n",
       "Quantiles\n",
       " \u001b[1m parameters \u001b[0m \u001b[1m    2.5% \u001b[0m \u001b[1m   25.0% \u001b[0m \u001b[1m   50.0% \u001b[0m \u001b[1m   75.0% \u001b[0m \u001b[1m   97.5% \u001b[0m\n",
       " \u001b[90m     Symbol \u001b[0m \u001b[90m Float64 \u001b[0m \u001b[90m Float64 \u001b[0m \u001b[90m Float64 \u001b[0m \u001b[90m Float64 \u001b[0m \u001b[90m Float64 \u001b[0m\n",
       "\n",
       "          Ωm    0.0467    0.1696    0.2974    0.4244    0.5792\n",
       "          σ8    0.2450    0.6034    0.7746    0.9356    1.2669\n"
      ]
     },
     "execution_count": 16,
     "metadata": {},
     "output_type": "execute_result"
    }
   ],
   "source": [
    "samples = sample(stat_model, MCHMC(100), 1000, 100)"
   ]
  },
  {
   "cell_type": "code",
   "execution_count": 17,
   "id": "603dfac8",
   "metadata": {},
   "outputs": [
    {
     "name": "stderr",
     "output_type": "stream",
     "text": [
      "\u001b[36m\u001b[1m[ \u001b[22m\u001b[39m\u001b[36m\u001b[1mInfo: \u001b[22m\u001b[39mStarting from previous run\n",
      "\u001b[32mChain 1: 100%|██████████████████████████████████████████| Time: 0:00:03\u001b[39m\n"
     ]
    },
    {
     "data": {
      "text/plain": [
       "Chains MCMC chain (100000×4×1 Array{Float64, 3}):\n",
       "\n",
       "Iterations        = 1:1:100000\n",
       "Number of chains  = 1\n",
       "Samples per chain = 100000\n",
       "Wall duration     = 3.52 seconds\n",
       "Compute duration  = 3.52 seconds\n",
       "parameters        = Ωm, σ8\n",
       "internals         = E, logp\n",
       "\n",
       "Summary Statistics\n",
       " \u001b[1m parameters \u001b[0m \u001b[1m    mean \u001b[0m \u001b[1m     std \u001b[0m \u001b[1m naive_se \u001b[0m \u001b[1m    mcse \u001b[0m \u001b[1m      ess \u001b[0m \u001b[1m    rhat \u001b[0m \u001b[1m e\u001b[0m ⋯\n",
       " \u001b[90m     Symbol \u001b[0m \u001b[90m Float64 \u001b[0m \u001b[90m Float64 \u001b[0m \u001b[90m  Float64 \u001b[0m \u001b[90m Float64 \u001b[0m \u001b[90m  Float64 \u001b[0m \u001b[90m Float64 \u001b[0m \u001b[90m  \u001b[0m ⋯\n",
       "\n",
       "          Ωm    0.2422    0.0770     0.0002    0.0041   231.8493    1.0041     ⋯\n",
       "          σ8    0.8615    0.0666     0.0002    0.0036   226.0563    1.0295     ⋯\n",
       "\u001b[36m                                                                1 column omitted\u001b[0m\n",
       "\n",
       "Quantiles\n",
       " \u001b[1m parameters \u001b[0m \u001b[1m    2.5% \u001b[0m \u001b[1m   25.0% \u001b[0m \u001b[1m   50.0% \u001b[0m \u001b[1m   75.0% \u001b[0m \u001b[1m   97.5% \u001b[0m\n",
       " \u001b[90m     Symbol \u001b[0m \u001b[90m Float64 \u001b[0m \u001b[90m Float64 \u001b[0m \u001b[90m Float64 \u001b[0m \u001b[90m Float64 \u001b[0m \u001b[90m Float64 \u001b[0m\n",
       "\n",
       "          Ωm    0.1470    0.1999    0.2258    0.2690    0.4739\n",
       "          σ8    0.7134    0.8121    0.8676    0.9066    0.9891\n"
      ]
     },
     "execution_count": 17,
     "metadata": {},
     "output_type": "execute_result"
    }
   ],
   "source": [
    "new_samples = sample(stat_model, MCHMC(100), 1000, 100; \n",
    "                     resume_from=samples)"
   ]
  },
  {
   "cell_type": "markdown",
   "id": "767048c5",
   "metadata": {},
   "source": [
    "## Parallelization"
   ]
  },
  {
   "cell_type": "code",
   "execution_count": 18,
   "id": "42cf1f7f",
   "metadata": {
    "scrolled": true
   },
   "outputs": [
    {
     "name": "stdout",
     "output_type": "stream",
     "text": [
      "eps: 0.5 --> VarE: 0.5545175289591648\n",
      "eps: 0.5 --> VarE: 1.1285793383815554\n",
      "eps: 0.5 --> VarE: 0.514238555105526\n",
      "eps: 0.5 --> VarE: 0.7740801161641031\n",
      "eps: "
     ]
    },
    {
     "name": "stderr",
     "output_type": "stream",
     "text": [
      "\u001b[36m\u001b[1m[ \u001b[22m\u001b[39m\u001b[36m\u001b[1mInfo: \u001b[22m\u001b[39mTuning sigma ⏳\n",
      "\u001b[36m\u001b[1m[ \u001b[22m\u001b[39m\u001b[36m\u001b[1mInfo: \u001b[22m\u001b[39mTuning sigma ⏳\n",
      "\u001b[36m\u001b[1m[ \u001b[22m\u001b[39m\u001b[36m\u001b[1mInfo: \u001b[22m\u001b[39mTuning sigma ⏳\n",
      "\u001b[36m\u001b[1m[ \u001b[22m\u001b[39m\u001b[36m\u001b[1mInfo: \u001b[22m\u001b[39mTuning eps ⏳\n",
      "\u001b[36m\u001b[1m[ \u001b[22m\u001b[39m\u001b[36m\u001b[1mInfo: \u001b[22m\u001b[39mTuning eps ⏳\n",
      "\u001b[36m\u001b[1m[ \u001b[22m\u001b[39m\u001b[36m\u001b[1mInfo: \u001b[22m\u001b[39mTuning eps ⏳\n",
      "\u001b[36m\u001b[1m[ \u001b[22m\u001b[39m\u001b[36m\u001b[1mInfo: \u001b[22m\u001b[39mTuning L ⏳\n",
      "\u001b[36m\u001b[1m[ \u001b[22m\u001b[39m\u001b[36m\u001b[1mInfo: \u001b[22m\u001b[39mTuning L ⏳\n",
      "\u001b[36m\u001b[1m[ \u001b[22m\u001b[39m\u001b[36m\u001b[1mInfo: \u001b[22m\u001b[39mTuning L ⏳\n",
      "\u001b[36m\u001b[1m[ \u001b[22m\u001b[39m\u001b[36m\u001b[1mInfo: \u001b[22m\u001b[39mTuning sigma ⏳\n",
      "\u001b[36m\u001b[1m[ \u001b[22m\u001b[39m\u001b[36m\u001b[1mInfo: \u001b[22m\u001b[39mTuning eps ⏳\n",
      "\u001b[36m\u001b[1m[ \u001b[22m\u001b[39m\u001b[36m\u001b[1mInfo: \u001b[22m\u001b[39mTuning L ⏳\n",
      "\u001b[36m\u001b[1m[ \u001b[22m\u001b[39m\u001b[36m\u001b[1mInfo: \u001b[22m\u001b[39mFound sigma: [0.4504347985295135, 0.060888704437467106] ✅\n",
      "\u001b[36m\u001b[1m[ \u001b[22m\u001b[39m\u001b[36m\u001b[1mInfo: \u001b[22m\u001b[39mFound sigma: [0.4504347985295135, 0.060888704437467106] ✅\n",
      "\u001b[36m\u001b[1m[ \u001b[22m\u001b[39m\u001b[36m\u001b[1mInfo: \u001b[22m\u001b[39mFound sigma: [0.4504347985295135, 0.060888704437467106] ✅\n",
      "\u001b[36m\u001b[1m[ \u001b[22m\u001b[39m\u001b[36m\u001b[1mInfo: \u001b[22m\u001b[39mFound sigma: [0.4504347985295135, 0.060888704437467106] ✅\n"
     ]
    },
    {
     "name": "stdout",
     "output_type": "stream",
     "text": [
      "2.121949603711918 --> VarE: 21.65821378771636\n",
      "eps: 1.195152128014069 --> VarE: 5.8348743183167215\n",
      "eps: 2.2091642229355584 --> VarE: 32.35056924297993\n",
      "eps: 1.7036494804330604 --> VarE: 17.175183205250097\n",
      "eps: 0.031130357522075727 --> VarE: 0.05207600655854001\n",
      "eps: 1.6056756703904256e-8 --> VarE: 8.1060895702143e-19\n",
      "eps: 9.168627179018129e-7 --> VarE: 1.9364456019278547e-14\n",
      "eps: 6.397235596382366e-13 --> VarE: 4.2993737017695646e-27\n",
      "eps: 0.18140606761774072 --> VarE: 0.4201800084474737\n",
      "eps: 9.808206983447365e-8 --> VarE: 3.026348177302898e-17\n",
      "eps: 5.600620024590827e-6 --> VarE: 2.8451008072245483e-12\n",
      "eps: 3.9077263240800575e-12 --> VarE: 1.3506338659229691e-25\n",
      "eps: 0.706626087497483 --> VarE: 1.970675636304126\n",
      "eps: 5.485182371781695e-7 --> VarE: 9.502107266585936e-16\n",
      "samples: 100--> ESS: 0.09306316597448244\n",
      "samples: 203--> ESS: 0.10733175964287077\n",
      "eps: 3.1321139818626024e-5 --> VarE: 2.9869267176879417e-9\n",
      "eps: 2.1853730842716608e-11 --> VarE: 4.17621973839868e-24\n",
      "eps: "
     ]
    },
    {
     "name": "stderr",
     "output_type": "stream",
     "text": [
      "\u001b[36m\u001b[1m[ \u001b[22m\u001b[39m\u001b[36m\u001b[1mInfo: \u001b[22m\u001b[39mFound eps: 0.706626087497483 ✅\n",
      "\u001b[36m\u001b[1m[ \u001b[22m\u001b[39m\u001b[36m\u001b[1mInfo: \u001b[22m\u001b[39mFound L: 2.6334277565137034 ✅\n"
     ]
    },
    {
     "name": "stdout",
     "output_type": "stream",
     "text": [
      "2.820535485847105e-6 --> VarE: 2.6142871636754894e-14\n",
      "eps: 0.000161056424584982 --> VarE: 1.6125361770626805e-6\n",
      "eps: 1.1237406372691312e-10 --> VarE: 1.1029724604922426e-22\n",
      "eps: 1.3390269971385209e-5 --> VarE: 9.293419120346891e-13\n",
      "eps: 0.0007646017248503756 --> VarE: 1.8180709280293145e-5\n",
      "eps: 5.334870128865353e-10 --> VarE: 2.4852964446501553e-21\n",
      "eps: 5.8919067388203656e-5 --> VarE: 9.678421727298899e-11\n",
      "eps: 2.3474177391632675e-9 --> VarE: 4.811457239698922e-20\n",
      "eps: 0.003364309599181438 --> VarE: 0.00026796462253885124\n",
      "eps: 0.00024117937286553676 --> VarE: 4.324454467357423e-9\n",
      "eps: 9.608922260992801e-9 --> VarE: 8.061002038075344e-19\n",
      "eps: 0.013768868237131781 --> VarE: 0.003487572295009331\n",
      "eps: 0.0009216642761251222 --> VarE: 4.881841867282291e-7\n",
      "eps: 0.052494710982684566 --> VarE: 0.025465874097646644\n",
      "eps: 3.672038906341351e-8 --> VarE: 1.176668395846691e-17\n",
      "eps: 0.0032992057066639218 --> VarE: 1.2122464110215545e-5\n",
      "eps: 0.18488443724401737 --> VarE: 0.18434444235964023\n",
      "eps: 1.3144499358188863e-7 --> VarE: 1.5058022774479747e-16\n",
      "eps: 0.011097675936759333 --> VarE: 0.00034283845222194645\n",
      "eps: 0.5561186826834608 --> VarE: 0.9546526111440387\n",
      "eps: 4.421502620854152e-7 --> VarE: 1.7026082388300769e-15\n",
      "eps: 0.0351785855180716 --> VarE: 0.0051838339287140515\n",
      "eps: 1.0164736468159385 --> VarE: 3.037405266200368\n",
      "eps: 1.4018518682164296e-6 --> VarE: 1.7669824379389528e-14\n",
      "eps: 0.10513191083198341 --> VarE: 0.04044367777444923\n",
      "eps: 0.5752211789517977 --> VarE: 1.0007776396170074\n",
      "eps: 4.201398297010212e-6 --> VarE: 2.2084728657854512e-13\n",
      "eps: 0.29242082833135824 --> VarE: 0.3096526808203846\n",
      "eps: 1.1935402114490258e-5 --> VarE: 6.448634159079357e-12\n",
      "eps: 0.9691258107951456 --> VarE: 2.498415247271867\n",
      "eps: 0.6769487677685277 --> VarE: 1.0528210078286206\n",
      "eps: 0.7566408877574629 --> VarE: 1.6849021887791311\n",
      "eps: 3.222297021172653e-5 --> VarE: 3.4625292920554895e-10\n",
      "eps: 1.058926851496949 --> VarE: 3.3190268516711807\n",
      "eps: 8.288156525741475e-5 --> VarE: 1.9975666197158055e-8\n",
      "eps: 0.8780736017961036 --> VarE: 1.7880817804908447\n",
      "eps: 0.5854227882324237 --> VarE: 0.9038118121314337\n",
      "eps: 0.9657948229944021 --> VarE: 2.490715607671737\n",
      "eps: 0.00020358234838932442 --> VarE: 6.979558092418471e-7\n",
      "eps: 0.9352945447914329 --> VarE: 2.0321471137367175\n",
      "samples: 100--> ESS: 0.24242282283370467\n",
      "eps: 0.7830622815500758 --> VarE: 1.7838585927297201\n",
      "eps: 0.0004786167386222278 --> VarE: 5.059439188350711e-6\n"
     ]
    },
    {
     "name": "stderr",
     "output_type": "stream",
     "text": [
      "\u001b[36m\u001b[1m[ \u001b[22m\u001b[39m\u001b[36m\u001b[1mInfo: \u001b[22m\u001b[39mFound eps: 0.9352945447914329 ✅\n",
      "\u001b[36m\u001b[1m[ \u001b[22m\u001b[39m\u001b[36m\u001b[1mInfo: \u001b[22m\u001b[39mFound L: 1.543245035857072 ✅\n"
     ]
    },
    {
     "name": "stdout",
     "output_type": "stream",
     "text": [
      "eps: 0.8549891454249596 --> VarE: 1.6809137531241245\n",
      "eps: 0.001079267027495434 --> VarE: 1.2962892709431487e-5\n",
      "eps: 0.0023390834535222094 --> VarE: 5.420195463500389e-5\n",
      "eps: 0.9672843588325476 --> VarE: 2.440854898265587\n",
      "eps: 0.0048817224012560586 --> VarE: 0.00023930994152961506\n",
      "eps: 0.8224692217068511 --> VarE: 1.4824944864864977\n",
      "eps: 0.009828534742765644 --> VarE: 0.0007353762033289508\n",
      "eps: 0.9857529605231478 --> VarE: 2.4675695427786333\n",
      "eps: 0.019121000721266667 --> VarE: 0.00379781413386268\n",
      "eps: 0.8436733517287399 --> VarE: 1.52342494635326\n",
      "eps: 0.03597622330097833 --> VarE: 0.011395469661377892\n",
      "eps: 0.9810923374905405 --> VarE: 2.9278359187421725\n",
      "eps: 0.06548456268811624 --> VarE: 0.024415273221354308\n",
      "eps: 0.7418950363296406 --> VarE: 1.7101622442083189\n",
      "eps: 0.11533361534082016 --> VarE: 0.05335207393088496\n",
      "eps: 0.8061321444786711 --> VarE: 1.3884946980000958\n",
      "eps: 0.9523211462829919 --> VarE: 2.2778809351328557\n",
      "eps: 0.19604659905162658 --> VarE: 0.189916643208753\n",
      "eps: 0.31343715029324387 --> VarE: 0.3788023171733488\n",
      "eps: 0.8861306412762562 --> VarE: 1.9213665871229564\n",
      "samples: 100--> ESS: 0.1352913182839145\n",
      "eps: 0.4674915571415396 --> VarE: 0.5356966560315273\n"
     ]
    },
    {
     "name": "stderr",
     "output_type": "stream",
     "text": [
      "\u001b[36m\u001b[1m[ \u001b[22m\u001b[39m\u001b[36m\u001b[1mInfo: \u001b[22m\u001b[39mFound eps: 0.8861306412762562 ✅\n",
      "\u001b[36m\u001b[1m[ \u001b[22m\u001b[39m\u001b[36m\u001b[1mInfo: \u001b[22m\u001b[39mFound L: 2.6199187132367916 ✅\n"
     ]
    },
    {
     "name": "stdout",
     "output_type": "stream",
     "text": [
      "eps: 0.6590921423674317 --> VarE: 0.8121257482238666\n",
      "eps: 0.8591245608326009 --> VarE: 1.316648760357345\n",
      "eps: 0.9932216327810521 --> VarE: 2.545335842360297\n",
      "eps: 0.8896716184239079 --> VarE: 1.5885475759651266\n"
     ]
    },
    {
     "name": "stderr",
     "output_type": "stream",
     "text": [
      "\u001b[36m\u001b[1m[ \u001b[22m\u001b[39m\u001b[36m\u001b[1mInfo: \u001b[22m\u001b[39mFound eps: 0.9628251497297725 ✅\n",
      "\u001b[36m\u001b[1m[ \u001b[22m\u001b[39m\u001b[36m\u001b[1mInfo: \u001b[22m\u001b[39mFound L: 1.2058867913849656 ✅\n"
     ]
    },
    {
     "name": "stdout",
     "output_type": "stream",
     "text": [
      "eps: 0.9628251497297725 --> VarE: 2.0245047020546183\n",
      "samples: 100--> ESS: 0.3193749717165288\n"
     ]
    },
    {
     "name": "stderr",
     "output_type": "stream",
     "text": [
      "\u001b[32mchain 3:   4%|█▋                                        |  ETA: 0:00:02\u001b[39m\n",
      "\u001b[34mchain 4:   4%|█▋                                        |  ETA: 0:00:02\u001b[39m\n",
      "\u001b[35mchain 1:   4%|█▋                                        |  ETA: 0:00:02\u001b[39m\n",
      "\n",
      "\n",
      "\n",
      "\n",
      "\n",
      "\n",
      "\n",
      "\n",
      "\n",
      "\u001b[34mchain 4:   9%|███▊                                      |  ETA: 0:00:02\u001b[39m\n",
      "\u001b[35mchain 1:  10%|████                                      |  ETA: 0:00:02\u001b[39m\n",
      "\u001b[32mchain 3:  10%|████▎                                     |  ETA: 0:00:02\u001b[39m\n",
      "\u001b[36mchain 2:  10%|████                                      |  ETA: 0:00:02\u001b[39m\n",
      "\u001b[34mchain 4:  14%|██████▏                                   |  ETA: 0:00:02\u001b[39m\n",
      "\u001b[35mchain 1:  14%|██████▏                                   |  ETA: 0:00:02\u001b[39m\n",
      "\u001b[36mchain 2:  14%|██████▏                                   |  ETA: 0:00:02\u001b[39m\n",
      "\u001b[32mchain 3:  16%|██████▊                                   |  ETA: 0:00:02\u001b[39m\n",
      "\u001b[34mchain 4:  20%|████████▎                                 |  ETA: 0:00:02\u001b[39m\n",
      "\u001b[35mchain 1:  20%|████████▎                                 |  ETA: 0:00:02\u001b[39m\n",
      "\u001b[32mchain 3:  21%|████████▉                                 |  ETA: 0:00:02\u001b[39m\n",
      "\u001b[36mchain 2:  20%|████████▍                                 |  ETA: 0:00:02\u001b[39m\n",
      "\u001b[34mchain 4:  25%|██████████▌                               |  ETA: 0:00:02\u001b[39m\n",
      "\u001b[35mchain 1:  24%|██████████▎                               |  ETA: 0:00:02\u001b[39m\n",
      "\n",
      "\n",
      "\u001b[32mchain 3:  26%|███████████▏                              |  ETA: 0:00:02\u001b[39m\n",
      "\u001b[36mchain 2:  26%|██████████▊                               |  ETA: 0:00:02\u001b[39m\n",
      "\u001b[34mchain 4:  30%|████████████▋                             |  ETA: 0:00:01\u001b[39m\n",
      "\u001b[35mchain 1:  30%|████████████▍                             |  ETA: 0:00:02\u001b[39m\n",
      "\u001b[36mchain 2:  31%|█████████████                             |  ETA: 0:00:01\u001b[39m\n",
      "\u001b[32mchain 3:  32%|█████████████▎                            |  ETA: 0:00:01\u001b[39m\n",
      "\u001b[34mchain 4:  35%|██████████████▊                           |  ETA: 0:00:01\u001b[39m\n",
      "\n",
      "\u001b[35mchain 1:  35%|██████████████▊                           |  ETA: 0:00:01\u001b[39m\n",
      "\u001b[36mchain 2:  36%|███████████████▍                          |  ETA: 0:00:01\u001b[39m\n",
      "\u001b[32mchain 3:  37%|███████████████▌                          |  ETA: 0:00:01\u001b[39m\n",
      "\u001b[34mchain 4:  40%|█████████████████                         |  ETA: 0:00:01\u001b[39m\n",
      "\u001b[35mchain 1:  40%|█████████████████                         |  ETA: 0:00:01\u001b[39m\n",
      "\u001b[36mchain 2:  42%|█████████████████▋                        |  ETA: 0:00:01\u001b[39m\n",
      "\u001b[32mchain 3:  42%|█████████████████▉                        |  ETA: 0:00:01\u001b[39m\n",
      "\n",
      "\u001b[34mchain 4:  46%|███████████████████▏                      |  ETA: 0:00:01\u001b[39m\n",
      "\n",
      "\u001b[36mchain 2:  48%|████████████████████                      |  ETA: 0:00:01\u001b[39m\n",
      "\u001b[35mchain 1:  46%|███████████████████▍                      |  ETA: 0:00:01\u001b[39m\n",
      "\u001b[32mchain 3:  48%|████████████████████                      |  ETA: 0:00:01\u001b[39m\n",
      "\u001b[34mchain 4:  52%|█████████████████████▋                    |  ETA: 0:00:01\u001b[39m\n",
      "\u001b[36mchain 2:  52%|██████████████████████                    |  ETA: 0:00:01\u001b[39m\n",
      "\u001b[35mchain 1:  52%|█████████████████████▋                    |  ETA: 0:00:01\u001b[39m\n",
      "\u001b[32mchain 3:  52%|██████████████████████                    |  ETA: 0:00:01\u001b[39m\n",
      "\u001b[34mchain 4:  57%|████████████████████████                  |  ETA: 0:00:01\u001b[39m\n",
      "\u001b[36mchain 2:  58%|████████████████████████▍                 |  ETA: 0:00:01\u001b[39m\n",
      "\n",
      "\u001b[35mchain 1:  57%|████████████████████████                  |  ETA: 0:00:01\u001b[39m\n",
      "\u001b[32mchain 3:  58%|████████████████████████▍                 |  ETA: 0:00:01\u001b[39m\n",
      "\n",
      "\n",
      "\u001b[34mchain 4:  62%|██████████████████████████                |  ETA: 0:00:01\u001b[39m\n",
      "\n",
      "\u001b[36mchain 2:  64%|██████████████████████████▋               |  ETA: 0:00:01\u001b[39m\n",
      "\u001b[32mchain 3:  64%|██████████████████████████▋               |  ETA: 0:00:01\u001b[39m\n",
      "\u001b[35mchain 1:  62%|██████████████████████████▎               |  ETA: 0:00:01\u001b[39m\n",
      "\u001b[34mchain 4:  67%|████████████████████████████▏             |  ETA: 0:00:01\u001b[39m\n",
      "\n",
      "\u001b[36mchain 2:  69%|█████████████████████████████             |  ETA: 0:00:01\u001b[39m\n",
      "\n",
      "\n",
      "\u001b[32mchain 3:  69%|█████████████████████████████             |  ETA: 0:00:01\u001b[39m\n",
      "\u001b[35mchain 1:  68%|████████████████████████████▌             |  ETA: 0:00:01\u001b[39m\n",
      "\u001b[34mchain 4:  72%|██████████████████████████████▌           |  ETA: 0:00:01\u001b[39m\n",
      "\u001b[36mchain 2:  74%|███████████████████████████████▎          |  ETA: 0:00:01\u001b[39m\n",
      "\u001b[35mchain 1:  74%|██████████████████████████████▉           |  ETA: 0:00:01\u001b[39m\n",
      "\u001b[32mchain 3:  75%|███████████████████████████████▌          |  ETA: 0:00:01\u001b[39m\n",
      "\u001b[34mchain 4:  78%|████████████████████████████████▌         |  ETA: 0:00:00\u001b[39m\n",
      "\n",
      "\u001b[36mchain 2:  80%|█████████████████████████████████▋        |  ETA: 0:00:00\u001b[39m\n",
      "\u001b[35mchain 1:  78%|█████████████████████████████████         |  ETA: 0:00:00\u001b[39m\n",
      "\u001b[32mchain 3:  80%|█████████████████████████████████▋        |  ETA: 0:00:00\u001b[39m\n",
      "\u001b[34mchain 4:  82%|██████████████████████████████████▋       |  ETA: 0:00:00\u001b[39m\n",
      "\u001b[36mchain 2:  85%|███████████████████████████████████▊      |  ETA: 0:00:00\u001b[39m\n",
      "\u001b[32mchain 3:  85%|███████████████████████████████████▊      |  ETA: 0:00:00\u001b[39m\n",
      "\u001b[35mchain 1:  84%|███████████████████████████████████▎      |  ETA: 0:00:00\u001b[39m\n",
      "\u001b[34mchain 4:  88%|█████████████████████████████████████     |  ETA: 0:00:00\u001b[39m\n",
      "\u001b[36mchain 2:  90%|█████████████████████████████████████▊    |  ETA: 0:00:00\u001b[39m\n",
      "\u001b[32mchain 3:  90%|█████████████████████████████████████▊    |  ETA: 0:00:00\u001b[39m\n",
      "\u001b[35mchain 1:  90%|█████████████████████████████████████▋    |  ETA: 0:00:00\u001b[39m\n",
      "\u001b[34mchain 4:  94%|███████████████████████████████████████▎  |  ETA: 0:00:00\u001b[39m\n",
      "\u001b[36mchain 2:  96%|████████████████████████████████████████▏ |  ETA: 0:00:00\u001b[39m\n",
      "\u001b[32mchain 3:  95%|███████████████████████████████████████▉  |  ETA: 0:00:00\u001b[39m\n",
      "\u001b[35mchain 1:  95%|███████████████████████████████████████▉  |  ETA: 0:00:00\u001b[39m\n",
      "\u001b[34mchain 4: 100%|██████████████████████████████████████████| Time: 0:00:02\u001b[39m\n",
      "\u001b[36mchain 2: 100%|██████████████████████████████████████████| Time: 0:00:02\u001b[39m\n",
      "\n",
      "\u001b[32mchain 3: 100%|██████████████████████████████████████████| Time: 0:00:02\u001b[39m\n",
      "\u001b[35mchain 1: 100%|██████████████████████████████████████████| Time: 0:00:02\u001b[39m\n"
     ]
    },
    {
     "data": {
      "text/plain": [
       "4-element Vector{Chains}:\n",
       " MCMC chain (30000×4×1 Array{Float64, 3})\n",
       " MCMC chain (30000×4×1 Array{Float64, 3})\n",
       " MCMC chain (30000×4×1 Array{Float64, 3})\n",
       " MCMC chain (30000×4×1 Array{Float64, 3})"
      ]
     },
     "execution_count": 18,
     "metadata": {},
     "output_type": "execute_result"
    }
   ],
   "source": [
    "samples = sample(\n",
    "    stat_model, MCHMC(varE_wanted=2.0), MCMCThreads(), 30000, 4;\n",
    "    monitor_energy=true, \n",
    "    dialog=true)"
   ]
  },
  {
   "cell_type": "code",
   "execution_count": 19,
   "id": "2e8cd8ab",
   "metadata": {
    "scrolled": false
   },
   "outputs": [
    {
     "name": "stderr",
     "output_type": "stream",
     "text": [
      "\u001b[36m\u001b[1m[ \u001b[22m\u001b[39m\u001b[36m\u001b[1mInfo: \u001b[22m\u001b[39mStarting from previous run\n",
      "\u001b[32mchain 1:   4%|█▉                                        |  ETA: 0:00:02\u001b[39m\n",
      "\u001b[36mchain 3:   4%|█▋                                        |  ETA: 0:00:03\u001b[39m\n",
      "\u001b[33mchain 4:   5%|██▏                                       |  ETA: 0:00:02\u001b[39m\n",
      "\n",
      "\n",
      "\n",
      "\n",
      "\n",
      "\n",
      "\n",
      "\n",
      "\n",
      "\u001b[32mchain 1:  10%|████▎                                     |  ETA: 0:00:02\u001b[39m\n",
      "\n",
      "\n",
      "\u001b[36mchain 3:  10%|████                                      |  ETA: 0:00:02\u001b[39m\n",
      "\u001b[31mchain 2:  10%|████▍                                     |  ETA: 0:00:02\u001b[39m\n",
      "\u001b[33mchain 4:  11%|████▋                                     |  ETA: 0:00:02\u001b[39m\n",
      "\n",
      "\u001b[32mchain 1:  16%|██████▊                                   |  ETA: 0:00:02\u001b[39m\n",
      "\u001b[36mchain 3:  15%|██████▎                                   |  ETA: 0:00:02\u001b[39m\n",
      "\u001b[31mchain 2:  16%|██████▊                                   |  ETA: 0:00:02\u001b[39m\n",
      "\u001b[33mchain 4:  17%|███████▏                                  |  ETA: 0:00:02\u001b[39m\n",
      "\u001b[32mchain 1:  22%|█████████                                 |  ETA: 0:00:02\u001b[39m\n",
      "\u001b[36mchain 3:  20%|████████▍                                 |  ETA: 0:00:02\u001b[39m\n",
      "\u001b[33mchain 4:  23%|█████████▋                                |  ETA: 0:00:02\u001b[39m\n",
      "\u001b[31mchain 2:  22%|█████████▎                                |  ETA: 0:00:02\u001b[39m\n",
      "\u001b[32mchain 1:  27%|███████████▍                              |  ETA: 0:00:01\u001b[39m\n",
      "\u001b[36mchain 3:  26%|██████████▊                               |  ETA: 0:00:02\u001b[39m\n",
      "\u001b[33mchain 4:  29%|████████████▏                             |  ETA: 0:00:01\u001b[39m\n",
      "\u001b[31mchain 2:  28%|███████████▊                              |  ETA: 0:00:01\u001b[39m\n",
      "\u001b[36mchain 3:  31%|█████████████                             |  ETA: 0:00:01\u001b[39m\n",
      "\u001b[32mchain 1:  33%|█████████████▉                            |  ETA: 0:00:01\u001b[39m\n",
      "\n",
      "\u001b[33mchain 4:  35%|██████████████▊                           |  ETA: 0:00:01\u001b[39m\n",
      "\u001b[31mchain 2:  34%|██████████████▌                           |  ETA: 0:00:01\u001b[39m\n",
      "\u001b[36mchain 3:  36%|███████████████▍                          |  ETA: 0:00:01\u001b[39m\n",
      "\u001b[32mchain 1:  39%|████████████████▍                         |  ETA: 0:00:01\u001b[39m\n",
      "\u001b[33mchain 4:  41%|█████████████████▎                        |  ETA: 0:00:01\u001b[39m\n",
      "\u001b[31mchain 2:  40%|████████████████▊                         |  ETA: 0:00:01\u001b[39m\n",
      "\u001b[36mchain 3:  42%|█████████████████▋                        |  ETA: 0:00:01\u001b[39m\n",
      "\u001b[32mchain 1:  44%|██████████████████▊                       |  ETA: 0:00:01\u001b[39m\n",
      "\u001b[31mchain 2:  46%|███████████████████▏                      |  ETA: 0:00:01\u001b[39m\n",
      "\u001b[33mchain 4:  47%|███████████████████▊                      |  ETA: 0:00:01\u001b[39m\n",
      "\n",
      "\n",
      "\u001b[36mchain 3:  48%|████████████████████                      |  ETA: 0:00:01\u001b[39m\n",
      "\u001b[32mchain 1:  50%|█████████████████████▎                    |  ETA: 0:00:01\u001b[39m\n",
      "\n",
      "\u001b[33mchain 4:  52%|██████████████████████                    |  ETA: 0:00:01\u001b[39m\n",
      "\u001b[36mchain 3:  53%|██████████████████████▎                   |  ETA: 0:00:01\u001b[39m\n",
      "\u001b[32mchain 1:  56%|███████████████████████▌                  |  ETA: 0:00:01\u001b[39m\n",
      "\u001b[31mchain 2:  58%|████████████████████████▏                 |  ETA: 0:00:01\u001b[39m\n",
      "\u001b[33mchain 4:  58%|████████████████████████▍                 |  ETA: 0:00:01\u001b[39m\n",
      "\u001b[36mchain 3:  58%|████████████████████████▋                 |  ETA: 0:00:01\u001b[39m\n",
      "\u001b[32mchain 1:  62%|██████████████████████████                |  ETA: 0:00:01\u001b[39m\n",
      "\u001b[31mchain 2:  64%|██████████████████████████▋               |  ETA: 0:00:01\u001b[39m\n",
      "\u001b[33mchain 4:  64%|██████████████████████████▋               |  ETA: 0:00:01\u001b[39m\n",
      "\u001b[32mchain 1:  68%|████████████████████████████▌             |  ETA: 0:00:01\u001b[39m\n",
      "\u001b[36mchain 3:  64%|███████████████████████████▏              |  ETA: 0:00:01\u001b[39m\n",
      "\u001b[31mchain 2:  69%|█████████████████████████████             |  ETA: 0:00:01\u001b[39m\n",
      "\u001b[33mchain 4:  69%|█████████████████████████████             |  ETA: 0:00:01\u001b[39m\n",
      "\n",
      "\u001b[32mchain 1:  74%|███████████████████████████████▏          |  ETA: 0:00:01\u001b[39m\n",
      "\u001b[36mchain 3:  70%|█████████████████████████████▍            |  ETA: 0:00:01\u001b[39m\n",
      "\n",
      "\u001b[33mchain 4:  74%|███████████████████████████████▎          |  ETA: 0:00:00\u001b[39m\n",
      "\u001b[31mchain 2:  76%|███████████████████████████████▊          |  ETA: 0:00:00\u001b[39m\n",
      "\u001b[36mchain 3:  76%|███████████████████████████████▊          |  ETA: 0:00:01\u001b[39m\n",
      "\u001b[32mchain 1:  80%|█████████████████████████████████▍        |  ETA: 0:00:00\u001b[39m\n",
      "\n",
      "\u001b[33mchain 4:  80%|█████████████████████████████████▋        |  ETA: 0:00:00\u001b[39m\n",
      "\u001b[31mchain 2:  81%|██████████████████████████████████        |  ETA: 0:00:00\u001b[39m\n",
      "\u001b[36mchain 3:  81%|██████████████████████████████████        |  ETA: 0:00:00\u001b[39m\n",
      "\u001b[32mchain 1:  86%|███████████████████████████████████▉      |  ETA: 0:00:00\u001b[39m\n",
      "\u001b[31mchain 2:  86%|████████████████████████████████████▍     |  ETA: 0:00:00\u001b[39m\n",
      "\u001b[33mchain 4:  86%|████████████████████████████████████▏     |  ETA: 0:00:00\u001b[39m\n",
      "\u001b[36mchain 3:  86%|████████████████████████████████████▍     |  ETA: 0:00:00\u001b[39m\n",
      "\u001b[32mchain 1:  91%|██████████████████████████████████████▎   |  ETA: 0:00:00\u001b[39m\n",
      "\n",
      "\u001b[33mchain 4:  92%|██████████████████████████████████████▍   |  ETA: 0:00:00\u001b[39m\n",
      "\u001b[31mchain 2:  92%|██████████████████████████████████████▉   |  ETA: 0:00:00\u001b[39m\n",
      "\u001b[36mchain 3:  92%|██████████████████████████████████████▍   |  ETA: 0:00:00\u001b[39m\n",
      "\u001b[32mchain 1:  97%|████████████████████████████████████████▊ |  ETA: 0:00:00\u001b[39m\n",
      "\n",
      "\u001b[31mchain 2:  98%|█████████████████████████████████████████▏|  ETA: 0:00:00\u001b[39m\n",
      "\u001b[31mchain 2: 100%|██████████████████████████████████████████| Time: 0:00:01\u001b[39m\n",
      "\u001b[33mchain 4: 100%|██████████████████████████████████████████| Time: 0:00:01\u001b[39m\n",
      "\u001b[32mchain 1: 100%|██████████████████████████████████████████| Time: 0:00:01\u001b[39m\n",
      "\u001b[36mchain 3: 100%|██████████████████████████████████████████| Time: 0:00:02\u001b[39m\n"
     ]
    },
    {
     "data": {
      "text/plain": [
       "4-element Vector{Chains}:\n",
       " MCMC chain (30000×4×1 Array{Float64, 3})\n",
       " MCMC chain (30000×4×1 Array{Float64, 3})\n",
       " MCMC chain (30000×4×1 Array{Float64, 3})\n",
       " MCMC chain (30000×4×1 Array{Float64, 3})"
      ]
     },
     "execution_count": 19,
     "metadata": {},
     "output_type": "execute_result"
    }
   ],
   "source": [
    "new_samples = sample(\n",
    "    stat_model, MCHMC(varE_wanted=2.0), MCMCThreads(), 30000, 4;\n",
    "    monitor_energy=true, \n",
    "    dialog=true, \n",
    "    resume_from=samples)"
   ]
  },
  {
   "cell_type": "markdown",
   "id": "4aadd3b5",
   "metadata": {},
   "source": [
    "## NUTS"
   ]
  },
  {
   "cell_type": "code",
   "execution_count": 20,
   "id": "dcbe40a3",
   "metadata": {},
   "outputs": [
    {
     "name": "stderr",
     "output_type": "stream",
     "text": [
      "\u001b[36m\u001b[1m┌ \u001b[22m\u001b[39m\u001b[36m\u001b[1mInfo: \u001b[22m\u001b[39mFound initial step size\n",
      "\u001b[36m\u001b[1m└ \u001b[22m\u001b[39m  ϵ = 0.05\n",
      "\u001b[32mSampling: 100%|█████████████████████████████████████████| Time: 0:00:06\u001b[39m\n"
     ]
    },
    {
     "data": {
      "text/plain": [
       "Chains MCMC chain (10000×14×1 Array{Float64, 3}):\n",
       "\n",
       "Iterations        = 11:1:10010\n",
       "Number of chains  = 1\n",
       "Samples per chain = 10000\n",
       "Wall duration     = 10.62 seconds\n",
       "Compute duration  = 10.62 seconds\n",
       "parameters        = Ωm, σ8\n",
       "internals         = lp, n_steps, is_accept, acceptance_rate, log_density, hamiltonian_energy, hamiltonian_energy_error, max_hamiltonian_energy_error, tree_depth, numerical_error, step_size, nom_step_size\n",
       "\n",
       "Summary Statistics\n",
       " \u001b[1m parameters \u001b[0m \u001b[1m    mean \u001b[0m \u001b[1m     std \u001b[0m \u001b[1m naive_se \u001b[0m \u001b[1m    mcse \u001b[0m \u001b[1m       ess \u001b[0m \u001b[1m    rhat \u001b[0m \u001b[1m \u001b[0m ⋯\n",
       " \u001b[90m     Symbol \u001b[0m \u001b[90m Float64 \u001b[0m \u001b[90m Float64 \u001b[0m \u001b[90m  Float64 \u001b[0m \u001b[90m Float64 \u001b[0m \u001b[90m   Float64 \u001b[0m \u001b[90m Float64 \u001b[0m \u001b[90m \u001b[0m ⋯\n",
       "\n",
       "          Ωm    0.2370    0.0698     0.0007    0.0018   1521.2918    1.0000    ⋯\n",
       "          σ8    0.8672    0.0634     0.0006    0.0014   2094.1362    1.0002    ⋯\n",
       "\u001b[36m                                                                1 column omitted\u001b[0m\n",
       "\n",
       "Quantiles\n",
       " \u001b[1m parameters \u001b[0m \u001b[1m    2.5% \u001b[0m \u001b[1m   25.0% \u001b[0m \u001b[1m   50.0% \u001b[0m \u001b[1m   75.0% \u001b[0m \u001b[1m   97.5% \u001b[0m\n",
       " \u001b[90m     Symbol \u001b[0m \u001b[90m Float64 \u001b[0m \u001b[90m Float64 \u001b[0m \u001b[90m Float64 \u001b[0m \u001b[90m Float64 \u001b[0m \u001b[90m Float64 \u001b[0m\n",
       "\n",
       "          Ωm    0.1271    0.1869    0.2295    0.2768    0.4005\n",
       "          σ8    0.7523    0.8238    0.8636    0.9075    1.0028\n"
      ]
     },
     "execution_count": 20,
     "metadata": {},
     "output_type": "execute_result"
    }
   ],
   "source": [
    "samples_hmc = sample(stat_model, NUTS(10, 0.65),\n",
    "                     10000, progress=true; save_state=true)"
   ]
  },
  {
   "cell_type": "code",
   "execution_count": 21,
   "id": "623ba990",
   "metadata": {},
   "outputs": [
    {
     "data": {
      "text/plain": [
       "3-dimensional AxisArray{Float64,3,...} with axes:\n",
       "    :iter, 11:1:10010\n",
       "    :var, [:Ωm, :σ8, :lp, :n_steps, :is_accept, :acceptance_rate, :log_density, :hamiltonian_energy, :hamiltonian_energy_error, :max_hamiltonian_energy_error, :tree_depth, :numerical_error, :step_size, :nom_step_size]\n",
       "    :chain, 1:1\n",
       "And data, a 10000×14×1 Array{Float64, 3}:\n",
       "[:, :, 1] =\n",
       " 0.142682  0.975125  14.8886  37.0  1.0  …  5.0  0.0  0.0408394  0.0408394\n",
       " 0.213649  0.918899  15.6112  31.0  1.0     4.0  0.0  0.0408394  0.0408394\n",
       " 0.243588  0.784014  14.5983  23.0  1.0     4.0  0.0  0.0408394  0.0408394\n",
       " 0.242184  0.805322  15.4589   3.0  1.0     2.0  0.0  0.0408394  0.0408394\n",
       " 0.221099  0.815317  15.3338  15.0  1.0     3.0  0.0  0.0408394  0.0408394\n",
       " 0.224389  0.899871  15.9003   3.0  1.0  …  2.0  0.0  0.0408394  0.0408394\n",
       " 0.219803  0.875915  16.2979   3.0  1.0     2.0  0.0  0.0408394  0.0408394\n",
       " 0.200948  0.90639   16.0918  15.0  1.0     3.0  0.0  0.0408394  0.0408394\n",
       " 0.202655  0.930752  15.5048   3.0  1.0     1.0  0.0  0.0408394  0.0408394\n",
       " 0.202071  0.91803   15.864    1.0  1.0     1.0  0.0  0.0408394  0.0408394\n",
       " 0.201899  0.917123  15.8869   1.0  1.0  …  1.0  0.0  0.0408394  0.0408394\n",
       " 0.197457  0.894013  16.2056   3.0  1.0     2.0  0.0  0.0408394  0.0408394\n",
       " 0.232389  0.877632  16.1879  19.0  1.0     4.0  0.0  0.0408394  0.0408394\n",
       " ⋮                                       ⋱  ⋮                    \n",
       " 0.269527  0.868158  15.6641  11.0  1.0     3.0  0.0  0.0408394  0.0408394\n",
       " 0.237799  0.880863  16.0595  15.0  1.0     3.0  0.0  0.0408394  0.0408394\n",
       " 0.237799  0.880863  16.0595   3.0  1.0  …  1.0  0.0  0.0408394  0.0408394\n",
       " 0.246828  0.887337  15.7214   3.0  1.0     2.0  0.0  0.0408394  0.0408394\n",
       " 0.264535  0.883364  15.3523  11.0  1.0     3.0  0.0  0.0408394  0.0408394\n",
       " 0.233488  0.86989   16.2578  17.0  1.0     4.0  0.0  0.0408394  0.0408394\n",
       " 0.269548  0.845564  16.0359  23.0  1.0     4.0  0.0  0.0408394  0.0408394\n",
       " 0.270659  0.794034  15.4459   5.0  1.0  …  2.0  0.0  0.0408394  0.0408394\n",
       " 0.158429  0.932573  15.5497  31.0  1.0     4.0  0.0  0.0408394  0.0408394\n",
       " 0.158164  0.912473  15.4265   3.0  1.0     2.0  0.0  0.0408394  0.0408394\n",
       " 0.157677  0.948838  15.4492   3.0  1.0     2.0  0.0  0.0408394  0.0408394\n",
       " 0.235886  0.832036  16.0707  27.0  1.0     4.0  0.0  0.0408394  0.0408394"
      ]
     },
     "execution_count": 21,
     "metadata": {},
     "output_type": "execute_result"
    }
   ],
   "source": [
    "samples_hmc.value"
   ]
  },
  {
   "cell_type": "code",
   "execution_count": 22,
   "id": "fa9db828",
   "metadata": {},
   "outputs": [],
   "source": [
    "Wms_hmc = vec(samples_hmc[\"Ωm\"])\n",
    "s8s_hmc = vec(samples_hmc[\"σ8\"]);"
   ]
  },
  {
   "cell_type": "code",
   "execution_count": 23,
   "id": "3d063a52",
   "metadata": {},
   "outputs": [
    {
     "data": {
      "image/png": "[encoded data removed]",
      "text/plain": [
       "Figure(PyObject <Figure size 640x480 with 1 Axes>)"
      ]
     },
     "metadata": {},
     "output_type": "display_data"
    }
   ],
   "source": [
    "plt.hist2d(Wms_hmc, s8s_hmc, bins=100, range=[[0.1, 0.4],[0.6, 1.2]]);\n",
    "plt.xlabel(\"Wm\")\n",
    "plt.ylabel(\"s8\")\n",
    "plt.title(\"NUTS - RSD model\");"
   ]
  }
 ],
 "metadata": {
  "kernelspec": {
   "display_name": "Julia_1.9 (5 threads) 1.9.0-beta3",
   "language": "julia",
   "name": "julia_1.9-_5-threads_-1.9"
  },
  "language_info": {
   "file_extension": ".jl",
   "mimetype": "application/julia",
   "name": "julia",
   "version": "1.9.0"
  }
 },
 "nbformat": 4,
 "nbformat_minor": 5
}
