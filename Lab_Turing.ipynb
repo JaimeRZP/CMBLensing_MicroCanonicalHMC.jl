{
 "cells": [
  {
   "cell_type": "markdown",
   "id": "91129cb1",
   "metadata": {},
   "source": [
    "# Turing Target Practice"
   ]
  },
  {
   "cell_type": "markdown",
   "id": "97121235",
   "metadata": {},
   "source": [
    "## Model"
   ]
  },
  {
   "cell_type": "code",
   "execution_count": 1,
   "id": "86b96c9e",
   "metadata": {},
   "outputs": [
    {
     "name": "stderr",
     "output_type": "stream",
     "text": [
      "\u001b[32m\u001b[1m  Activating\u001b[22m\u001b[39m project at `~/Glamdring/MicroCanonicalHMC.jl`\n"
     ]
    }
   ],
   "source": [
    "] activate \".\""
   ]
  },
  {
   "cell_type": "code",
   "execution_count": 2,
   "id": "baed58e3",
   "metadata": {},
   "outputs": [
    {
     "name": "stderr",
     "output_type": "stream",
     "text": [
      "\u001b[36m\u001b[1m[ \u001b[22m\u001b[39m\u001b[36m\u001b[1mInfo: \u001b[22m\u001b[39mPrecompiling MicroCanonicalHMC [234d2aa0-2291-45f7-9047-6fa6f316b0a8]\n"
     ]
    }
   ],
   "source": [
    "# The statistical inference frame-work we will use\n",
    "using Turing\n",
    "using Interpolations\n",
    "using ForwardDiff\n",
    "using LinearAlgebra\n",
    "#using StatsPlots\n",
    "using PyPlot\n",
    "using Distributed\n",
    "\n",
    "using Revise\n",
    "using MicroCanonicalHMC"
   ]
  },
  {
   "cell_type": "code",
   "execution_count": 3,
   "id": "a7d6f81c",
   "metadata": {},
   "outputs": [],
   "source": [
    "fs8_zs = [0.38, 0.51, 0.61, 1.48, 0.44, 0.6, 0.73, 0.6, 0.86, 0.067, 1.4]\n",
    "fs8_data = [0.49749, 0.457523, 0.436148, 0.462, 0.413, 0.39, 0.437, 0.55, 0.4, 0.423, 0.482]\n",
    "fs8_cov = [0.00203355 0.000811829 0.000264615 0.0 0.0 0.0 0.0 0.0 0.0 0.0 0.0;\n",
    "           0.000811829 0.00142289 0.000662824 0.0 0.0 0.0 0.0 0.0 0.0 0.0 0.0; \n",
    "           0.000264615 0.000662824 0.00118576 0.0 0.0 0.0 0.0 0.0 0.0 0.0 0.0;\n",
    "           0.0 0.0 0.0 0.002025 0.0 0.0 0.0 0.0 0.0 0.0 0.0;\n",
    "           0.0 0.0 0.0 0.0 0.0064 0.00257 0.0 0.0 0.0 0.0 0.0;\n",
    "           0.0 0.0 0.0 0.0 0.00257 0.003969 0.00254 0.0 0.0 0.0 0.0;\n",
    "           0.0 0.0 0.0 0.0 0.0 0.00254 0.005184 0.0 0.0 0.0 0.0;\n",
    "           0.0 0.0 0.0 0.0 0.0 0.0 0.0 0.0144 0.0 0.0 0.0;\n",
    "           0.0 0.0 0.0 0.0 0.0 0.0 0.0 0.0 0.0121 0.0 0.0; \n",
    "           0.0 0.0 0.0 0.0 0.0 0.0 0.0 0.0 0.0 0.003025 0.0;\n",
    "           0.0 0.0 0.0 0.0 0.0 0.0 0.0 0.0 0.0 0.0 0.013456000000000001];"
   ]
  },
  {
   "cell_type": "code",
   "execution_count": 4,
   "id": "1359a630",
   "metadata": {
    "code_folding": []
   },
   "outputs": [
    {
     "data": {
      "text/plain": [
       "make_fs8 (generic function with 1 method)"
      ]
     },
     "execution_count": 4,
     "metadata": {},
     "output_type": "execute_result"
    }
   ],
   "source": [
    "function make_fs8(Ωm, σ8; Ωr=8.24*10^-5)\n",
    "    # ODE solution for growth factor\n",
    "    x_Dz = LinRange(0, log(1+1100), 300)\n",
    "    dx_Dz = x_Dz[2]-x_Dz[1]\n",
    "    z_Dz = @.(exp(x_Dz) - 1)\n",
    "    a_Dz = @.(1/(1+z_Dz))\n",
    "    aa = reverse(a_Dz)\n",
    "    e =  @.(sqrt.(abs(Ωm)*(1+z_Dz)^3+Ωr*(1+z_Dz)^4+(1-Ωm-Ωr)))\n",
    "    ee = reverse(e)\n",
    "\n",
    "    dd = zeros(typeof(Ωm), 300)\n",
    "    yy = zeros(typeof(Ωm), 300)\n",
    "    dd[1] = aa[1]\n",
    "    yy[1] = aa[1]^3*ee[end]\n",
    "\n",
    "    for i in 1:(300-1)\n",
    "        A0 = -1.5 * Ωm / (aa[i]*ee[i])\n",
    "        B0 = -1. / (aa[i]^2*ee[i])\n",
    "        A1 = -1.5 * Ωm / (aa[i+1]*ee[i+1])\n",
    "        B1 = -1. / (aa[i+1]^2*ee[i+1])\n",
    "        yy[i+1] = (1+0.5*dx_Dz^2*A0*B0)*yy[i] + 0.5*(A0+A1)*dx_Dz*dd[i]\n",
    "        dd[i+1] = 0.5*(B0+B1)*dx_Dz*yy[i] + (1+0.5*dx_Dz^2*A0*B0)*dd[i]\n",
    "    end\n",
    "\n",
    "    y = reverse(yy)\n",
    "    d = reverse(dd)\n",
    "\n",
    "    Dzi = LinearInterpolation(z_Dz, d./d[1], extrapolation_bc=Line())\n",
    "    fs8zi = LinearInterpolation(z_Dz, -σ8 .* y./ (a_Dz.^2 .*e.*d[1]),\n",
    "                                 extrapolation_bc=Line())\n",
    "    return fs8zi\n",
    "end"
   ]
  },
  {
   "cell_type": "code",
   "execution_count": 5,
   "id": "8005e277",
   "metadata": {},
   "outputs": [],
   "source": [
    "@model function model(data; cov = fs8_cov) \n",
    "    # Define priors\n",
    "    #KiDS priors\n",
    "    Ωm  ~ Uniform(0.01, 0.6)\n",
    "    σ8 ~ Normal(0.8, 0.3)\n",
    "    fs8_itp = make_fs8(Ωm, σ8)\n",
    "    theory = fs8_itp(fs8_zs)\n",
    "    data ~ MvNormal(theory, cov)\n",
    "end;"
   ]
  },
  {
   "cell_type": "code",
   "execution_count": 6,
   "id": "1eebe796",
   "metadata": {},
   "outputs": [
    {
     "data": {
      "text/plain": [
       "DynamicPPL.Model{typeof(model), (:data, :cov), (:cov,), (), Tuple{Vector{Float64}, Matrix{Float64}}, Tuple{Matrix{Float64}}, DynamicPPL.DefaultContext}(model, (data = [0.49749, 0.457523, 0.436148, 0.462, 0.413, 0.39, 0.437, 0.55, 0.4, 0.423, 0.482], cov = [0.00203355 0.000811829 … 0.0 0.0; 0.000811829 0.00142289 … 0.0 0.0; … ; 0.0 0.0 … 0.003025 0.0; 0.0 0.0 … 0.0 0.013456000000000001]), (cov = [0.00203355 0.000811829 … 0.0 0.0; 0.000811829 0.00142289 … 0.0 0.0; … ; 0.0 0.0 … 0.003025 0.0; 0.0 0.0 … 0.0 0.013456000000000001],), DynamicPPL.DefaultContext())"
      ]
     },
     "execution_count": 6,
     "metadata": {},
     "output_type": "execute_result"
    }
   ],
   "source": [
    "stat_model = model(fs8_data)"
   ]
  },
  {
   "cell_type": "markdown",
   "id": "10dfa4cc",
   "metadata": {},
   "source": [
    "## Sampling"
   ]
  },
  {
   "cell_type": "code",
   "execution_count": 7,
   "id": "c8ed14a3",
   "metadata": {},
   "outputs": [],
   "source": [
    "target = TuringTarget(stat_model);"
   ]
  },
  {
   "cell_type": "code",
   "execution_count": 8,
   "id": "82938e27",
   "metadata": {
    "scrolled": false
   },
   "outputs": [
    {
     "name": "stdout",
     "output_type": "stream",
     "text": [
      "Initial Virial loss: 1.3533465053689755\n",
      "Virial loss: "
     ]
    },
    {
     "name": "stderr",
     "output_type": "stream",
     "text": [
      "\u001b[36m\u001b[1m[ \u001b[22m\u001b[39m\u001b[36m\u001b[1mInfo: \u001b[22m\u001b[39mUsing given sigma ✅\n",
      "\u001b[36m\u001b[1m[ \u001b[22m\u001b[39m\u001b[36m\u001b[1mInfo: \u001b[22m\u001b[39mTuning eps ⏳\n",
      "\u001b[36m\u001b[1m[ \u001b[22m\u001b[39m\u001b[36m\u001b[1mInfo: \u001b[22m\u001b[39mTuning L ⏳\n",
      "\u001b[36m\u001b[1m[ \u001b[22m\u001b[39m\u001b[36m\u001b[1mInfo: \u001b[22m\u001b[39mInitial nu 0.2281016476686452\n",
      "\u001b[36m\u001b[1m[ \u001b[22m\u001b[39m\u001b[36m\u001b[1mInfo: \u001b[22m\u001b[39mStarting burn in ⏳\n"
     ]
    },
    {
     "name": "stdout",
     "output_type": "stream",
     "text": [
      "1.3333880694493256 --> Relative improvement: 0.014747469210930841\n",
      "Using eps tuning method AdaptiveStep\n"
     ]
    },
    {
     "name": "stderr",
     "output_type": "stream",
     "text": [
      "\u001b[33m\u001b[1m┌ \u001b[22m\u001b[39m\u001b[33m\u001b[1mWarning: \u001b[22m\u001b[39mMaximum number of steps reached during burn-in\n",
      "\u001b[33m\u001b[1m└ \u001b[22m\u001b[39m\u001b[90m@ MicroCanonicalHMC ~/Glamdring/MicroCanonicalHMC.jl/src/tuning.jl:259\u001b[39m\n"
     ]
    },
    {
     "name": "stdout",
     "output_type": "stream",
     "text": [
      "eps: 0.07 --> VarE/d: 1.4442734918191915\n",
      "eps: 0.03373611787470866 --> VarE/d: 0.7593134779086433\n",
      "eps: 0.02353440403887744 --> VarE/d: 0.07948655035451259\n",
      "eps: 0.020579643208475874 --> VarE/d: 0.01684835809883753\n",
      "eps: 0.020050800485710292 --> VarE/d: 0.029356918186186277\n",
      "eps: 0.01922135522456899 --> VarE/d: 0.08602102355904602\n",
      "eps: 0.017959848613309633 --> VarE/d: 0.057788174134656735\n",
      "eps: 0.01710121793942463 --> VarE/d: 0.017871634795351917\n",
      "eps: 0.016849265749381285 --> VarE/d: 0.0022529203494895266\n",
      "eps: 0.017422056674064792 --> VarE/d: 0.018926040577228114\n",
      "eps: 0.0171909248336714 --> VarE/d: 0.043908727703105235\n",
      "eps: 0.016718055349479184 --> VarE/d: 0.060669786153590005\n",
      "eps: 0.016203952354702053 --> VarE/d: 0.017620558631574978\n",
      "eps: 0.01604975713893327 --> VarE/d: 0.0003653975411217132\n",
      "eps: 0.016804888842167295 --> VarE/d: 0.0006150522649214905\n",
      "eps: 0.01746690253325263 --> VarE/d: 0.039872576114512975\n",
      "eps: 0.017124779552777306 --> VarE/d: 0.05004320067608898\n",
      "eps: 0.016755243459126806 --> VarE/d: 0.043824549490573385\n",
      "eps: 0.016434794358399382 --> VarE/d: 0.027794516238361433\n",
      "eps: 0.016221796587662284 --> VarE/d: 0.003176518471752666\n",
      "eps: 0.016451458895154612 --> VarE/d: 0.00021269141113064994\n",
      "eps: 0.01709365383287445 --> VarE/d: 0.0012051302215442432\n",
      "eps: 0.017501794183855175 --> VarE/d: 0.06644108674030216\n",
      "eps: 0.01714172916869508 --> VarE/d: 0.04549243404484474\n",
      "eps: 0.016861680598495528 --> VarE/d: 0.01646521827548448\n",
      "eps: 0.01677042219779682 --> VarE/d: 0.01029998690232133\n"
     ]
    },
    {
     "name": "stderr",
     "output_type": "stream",
     "text": [
      "\u001b[36m\u001b[1m[ \u001b[22m\u001b[39m\u001b[36m\u001b[1mInfo: \u001b[22m\u001b[39mFound eps: 0.01677042219779682 ✅\n"
     ]
    },
    {
     "name": "stdout",
     "output_type": "stream",
     "text": [
      "samples: 100--> 1/<1/ess>: 0.02736809959376019\n",
      "samples: 218--> 1/<1/ess>: 0.03123084104132608\n",
      "samples: 358--> 1/<1/ess>: 0.03328752324213303\n"
     ]
    },
    {
     "name": "stderr",
     "output_type": "stream",
     "text": [
      "\u001b[36m\u001b[1m[ \u001b[22m\u001b[39m\u001b[36m\u001b[1mInfo: \u001b[22m\u001b[39mFound L: 0.20152201863513822 ✅\n",
      "\u001b[36m\u001b[1m[ \u001b[22m\u001b[39m\u001b[36m\u001b[1mInfo: \u001b[22m\u001b[39mFinal nu 0.3009068399949752\n"
     ]
    }
   ],
   "source": [
    "spl = MCHMC(0.0, 0.0; init_eps=0.07, varE_wanted=0.01, sigma=ones(2))\n",
    "samples_mchmc = Sample(spl, target, 100_000;\n",
    "                       burn_in=100,  \n",
    "                       file_name=\"Turing_sequential_samples\",\n",
    "                       dialog=true);"
   ]
  },
  {
   "cell_type": "code",
   "execution_count": 9,
   "id": "54c70b0f",
   "metadata": {},
   "outputs": [
    {
     "data": {
      "text/plain": [
       "2-element Vector{Float64}:\n",
       " 0.045449772392354974\n",
       " 0.043714686276498195"
      ]
     },
     "execution_count": 9,
     "metadata": {},
     "output_type": "execute_result"
    }
   ],
   "source": [
    "std(samples_mchmc)[1:end-2]"
   ]
  },
  {
   "cell_type": "code",
   "execution_count": 10,
   "id": "385a8b1a",
   "metadata": {},
   "outputs": [],
   "source": [
    "Wms_mchmc = [sample[1] for sample in samples_mchmc]\n",
    "s8s_mchmc = [sample[2] for sample in samples_mchmc];"
   ]
  },
  {
   "cell_type": "code",
   "execution_count": 11,
   "id": "2a803eb8",
   "metadata": {},
   "outputs": [
    {
     "data": {
      "image/png": "[encoded data removed]",
      "text/plain": [
       "Figure(PyObject <Figure size 640x480 with 1 Axes>)"
      ]
     },
     "metadata": {},
     "output_type": "display_data"
    }
   ],
   "source": [
    "plt.hist2d(Wms_mchmc, s8s_mchmc, bins=100, range=[[0.1, 0.6],[0.6, 1.2]]);\n",
    "plt.xlabel(\"Wm\")\n",
    "plt.ylabel(\"s8\")\n",
    "plt.title(\"MCHMC - RSD model\");"
   ]
  },
  {
   "cell_type": "code",
   "execution_count": 12,
   "id": "ae097bf4",
   "metadata": {
    "scrolled": false
   },
   "outputs": [
    {
     "name": "stderr",
     "output_type": "stream",
     "text": [
      "\u001b[36m\u001b[1m[ \u001b[22m\u001b[39m\u001b[36m\u001b[1mInfo: \u001b[22m\u001b[39mTuning sigma ⏳\n",
      "\u001b[36m\u001b[1m[ \u001b[22m\u001b[39m\u001b[36m\u001b[1mInfo: \u001b[22m\u001b[39mTuning eps ⏳\n",
      "\u001b[36m\u001b[1m[ \u001b[22m\u001b[39m\u001b[36m\u001b[1mInfo: \u001b[22m\u001b[39mUsing given L ✅\n",
      "\u001b[36m\u001b[1m[ \u001b[22m\u001b[39m\u001b[36m\u001b[1mInfo: \u001b[22m\u001b[39mInitial nu 0.4019513728906998\n",
      "\u001b[36m\u001b[1m[ \u001b[22m\u001b[39m\u001b[36m\u001b[1mInfo: \u001b[22m\u001b[39mStarting burn in ⏳\n"
     ]
    },
    {
     "name": "stdout",
     "output_type": "stream",
     "text": [
      "Initial Virial loss: 18237.82927346615\n",
      "Virial loss: 98.43479073115729 --> Relative improvement: 0.9946027134449401\n",
      "Virial loss: 66.556742366215 --> Relative improvement: 0.32384940454647626\n",
      "Virial loss: 41.435212244639075 --> Relative improvement: 0.377445307995241\n",
      "Virial loss: 25.40844101168886 --> Relative improvement: 0.38679109783065657\n",
      "Virial loss: 18.297073907583368 --> Relative improvement: 0.27988207150663\n",
      "Virial loss: 12.173980271521067 --> Relative improvement: 0.3346487895818432\n",
      "Virial loss: 9.322300662181137 --> Relative improvement: 0.23424381720175314\n",
      "Virial loss: 8.829546274152193 --> Relative improvement: 0.0528575944807228\n",
      "Virial loss: 3.798620519562009 --> Relative improvement: 0.5697830441545819\n",
      "Virial loss: 3.0331073554045243 --> Relative improvement: 0.20152399014728395\n",
      "Virial loss: 3.0145614214231955 --> Relative improvement: 0.0061144996890013514\n"
     ]
    },
    {
     "name": "stderr",
     "output_type": "stream",
     "text": [
      "\u001b[36m\u001b[1m[ \u001b[22m\u001b[39m\u001b[36m\u001b[1mInfo: \u001b[22m\u001b[39mVirial loss condition met during burn-in at step: 420\n",
      "\u001b[36m\u001b[1m[ \u001b[22m\u001b[39m\u001b[36m\u001b[1mInfo: \u001b[22m\u001b[39mFound sigma: [0.994984031318044, 0.10003388137073245] ✅\n"
     ]
    },
    {
     "name": "stdout",
     "output_type": "stream",
     "text": [
      "Using eps tuning method AdaptiveStep\n",
      "eps: 0.07 --> VarE/d: 0.19105489370214396\n",
      "eps: 0.06344067136142742 --> VarE/d: 0.2493546642787338\n",
      "eps: 0.05891944811473657 --> VarE/d: 0.19627986146696944\n",
      "eps: 0.05673033814710194 --> VarE/d: 0.11403973251001906\n",
      "eps: 0.056407343777918915 --> VarE/d: 0.09785184182817455\n"
     ]
    },
    {
     "name": "stderr",
     "output_type": "stream",
     "text": [
      "\u001b[36m\u001b[1m[ \u001b[22m\u001b[39m\u001b[36m\u001b[1mInfo: \u001b[22m\u001b[39mFound eps: 0.056407343777918915 ✅\n",
      "\u001b[36m\u001b[1m[ \u001b[22m\u001b[39m\u001b[36m\u001b[1mInfo: \u001b[22m\u001b[39mFinal nu 0.3557465003509789\n"
     ]
    }
   ],
   "source": [
    "spl = MCHMC(0.0, 0.5, 10; init_eps=0.07, varE_wanted=0.1)\n",
    "samples_ensemble_mchmc = Sample(spl, target, 10000;\n",
    "                                burn_in=1000,\n",
    "                                monitor_energy=true, \n",
    "                                dialog=true);"
   ]
  },
  {
   "cell_type": "code",
   "execution_count": 13,
   "id": "197541d7",
   "metadata": {},
   "outputs": [],
   "source": [
    "Wms_ensemble_mchmc = [sample[1] for sample in samples_ensemble_mchmc]\n",
    "s8s_ensemble_mchmc = [sample[2] for sample in samples_ensemble_mchmc];"
   ]
  },
  {
   "cell_type": "code",
   "execution_count": 14,
   "id": "654b0195",
   "metadata": {},
   "outputs": [
    {
     "data": {
      "image/png": "[encoded data removed]",
      "text/plain": [
       "Figure(PyObject <Figure size 640x480 with 1 Axes>)"
      ]
     },
     "metadata": {},
     "output_type": "display_data"
    }
   ],
   "source": [
    "plt.hist2d(Wms_ensemble_mchmc, s8s_ensemble_mchmc, bins=100, range=[[0.1, 0.6],[0.6, 1.2]]);\n",
    "plt.xlabel(\"Wm\")\n",
    "plt.ylabel(\"s8\")\n",
    "plt.title(\"Ensemble MCHMC - RSD model\");"
   ]
  },
  {
   "cell_type": "markdown",
   "id": "b9b6311f",
   "metadata": {},
   "source": [
    "##  AbstractMCMC"
   ]
  },
  {
   "cell_type": "code",
   "execution_count": 28,
   "id": "d569b9dc",
   "metadata": {},
   "outputs": [
    {
     "name": "stdout",
     "output_type": "stream",
     "text": [
      "Initial Virial loss: 26.733647484372398\n",
      "Virial loss: 24.627533530231105 --> Relative improvement: 0.07878139170393628\n",
      "Virial loss: 9.506346123034099 --> Relative improvement: 0.6139952012910774\n",
      "Virial loss: 9.28132443472154 --> Relative improvement: 0.0236706811849956\n",
      "Virial loss: 8.385138890575732 --> Relative improvement: 0.09655793744189867\n",
      "Using eps tuning method AdaptiveStep\n",
      "eps: 0.07 --> VarE/d: 1.7109650775615097\n",
      "eps: 0.03297861194539882 --> VarE/d: 0.770899593533225\n",
      "eps: 0.022897649442043894 --> VarE/d: 0.07846544731343949\n",
      "eps: 0.02001981068481862 --> VarE/d: 0.031123025214222593\n",
      "eps: 0.018922654223531413 --> VarE/d: 0.06059300724300522\n",
      "eps: 0.017650528743601228 --> VarE/d: 0.053892581030131545\n",
      "eps: 0.016709123137556573 --> VarE/d: 0.04626333054903974\n",
      "eps: 0.016000074950990196 --> VarE/d: 0.028029558143484467\n",
      "eps: 0.01558633289604892 --> VarE/d: 0.012114094750840068\n",
      "eps: 0.015517391672362385 --> VarE/d: 0.022522735046635108\n",
      "eps: 0.015256724518440281 --> VarE/d: 0.04257779662867641\n",
      "eps: 0.014845162071777985 --> VarE/d: 0.030326637340964996\n",
      "eps: 0.014555438894512017 --> VarE/d: 0.02433024265241346\n",
      "eps: 0.014340455177859476 --> VarE/d: 0.021193853994781162\n",
      "eps: 0.01417110785727205 --> VarE/d: 0.01971820291886119\n",
      "eps: 0.014027508799780425 --> VarE/d: 0.017581927615505748\n",
      "eps: 0.01391475928609162 --> VarE/d: 0.014203961551498584\n",
      "eps: 0.013848025085587976 --> VarE/d: 0.011717773861184324\n",
      "eps: 0.01381918596383384 --> VarE/d: 0.010275882902813524\n",
      "samples: 100--> 1/<1/ess>: 0.014082479260335191\n",
      "samples: 203--> 1/<1/ess>: 0.011976094002439925\n",
      "samples: 310--> 1/<1/ess>: 0.028344869368606373\n",
      "samples: 420--> 1/<1/ess>: 0.023018316699236614\n",
      "samples: 534--> 1/<1/ess>: 0.024179701361520298\n"
     ]
    },
    {
     "name": "stderr",
     "output_type": "stream",
     "text": [
      "\u001b[36m\u001b[1m[ \u001b[22m\u001b[39m\u001b[36m\u001b[1mInfo: \u001b[22m\u001b[39mUsing given sigma ✅\n",
      "\u001b[36m\u001b[1m[ \u001b[22m\u001b[39m\u001b[36m\u001b[1mInfo: \u001b[22m\u001b[39mTuning eps ⏳\n",
      "\u001b[36m\u001b[1m[ \u001b[22m\u001b[39m\u001b[36m\u001b[1mInfo: \u001b[22m\u001b[39mTuning L ⏳\n",
      "\u001b[36m\u001b[1m[ \u001b[22m\u001b[39m\u001b[36m\u001b[1mInfo: \u001b[22m\u001b[39mInitial nu 0.2281016476686452\n",
      "\u001b[36m\u001b[1m[ \u001b[22m\u001b[39m\u001b[36m\u001b[1mInfo: \u001b[22m\u001b[39mStarting burn in ⏳\n",
      "\u001b[33m\u001b[1m┌ \u001b[22m\u001b[39m\u001b[33m\u001b[1mWarning: \u001b[22m\u001b[39mMaximum number of steps reached during burn-in\n",
      "\u001b[33m\u001b[1m└ \u001b[22m\u001b[39m\u001b[90m@ MicroCanonicalHMC ~/Glamdring/MicroCanonicalHMC.jl/src/tuning.jl:259\u001b[39m\n",
      "\u001b[36m\u001b[1m[ \u001b[22m\u001b[39m\u001b[36m\u001b[1mInfo: \u001b[22m\u001b[39mFound eps: 0.01381918596383384 ✅\n",
      "\u001b[36m\u001b[1m[ \u001b[22m\u001b[39m\u001b[36m\u001b[1mInfo: \u001b[22m\u001b[39mFound L: 0.22860805031820228 ✅\n",
      "\u001b[36m\u001b[1m[ \u001b[22m\u001b[39m\u001b[36m\u001b[1mInfo: \u001b[22m\u001b[39mFinal nu 0.2534860651344358\n"
     ]
    },
    {
     "data": {
      "text/plain": [
       "Chains MCMC chain (1000×4×1 Array{Float64, 3}):\n",
       "\n",
       "Iterations        = 101:1:1100\n",
       "Number of chains  = 1\n",
       "Samples per chain = 1000\n",
       "Wall duration     = 0.06 seconds\n",
       "Compute duration  = 0.06 seconds\n",
       "parameters        = Ωm, σ8\n",
       "internals         = E, logp\n",
       "\n",
       "Summary Statistics\n",
       " \u001b[1m parameters \u001b[0m \u001b[1m    mean \u001b[0m \u001b[1m     std \u001b[0m \u001b[1m naive_se \u001b[0m \u001b[1m    mcse \u001b[0m \u001b[1m     ess \u001b[0m \u001b[1m    rhat \u001b[0m \u001b[1m es\u001b[0m ⋯\n",
       " \u001b[90m     Symbol \u001b[0m \u001b[90m Float64 \u001b[0m \u001b[90m Float64 \u001b[0m \u001b[90m  Float64 \u001b[0m \u001b[90m Float64 \u001b[0m \u001b[90m Float64 \u001b[0m \u001b[90m Float64 \u001b[0m \u001b[90m   \u001b[0m ⋯\n",
       "\n",
       "          Ωm    0.2422    0.0501     0.0016    0.0087   12.1570    1.0993      ⋯\n",
       "          σ8    0.8574    0.0446     0.0014    0.0065   17.3561    1.0690      ⋯\n",
       "\u001b[36m                                                                1 column omitted\u001b[0m\n",
       "\n",
       "Quantiles\n",
       " \u001b[1m parameters \u001b[0m \u001b[1m    2.5% \u001b[0m \u001b[1m   25.0% \u001b[0m \u001b[1m   50.0% \u001b[0m \u001b[1m   75.0% \u001b[0m \u001b[1m   97.5% \u001b[0m\n",
       " \u001b[90m     Symbol \u001b[0m \u001b[90m Float64 \u001b[0m \u001b[90m Float64 \u001b[0m \u001b[90m Float64 \u001b[0m \u001b[90m Float64 \u001b[0m \u001b[90m Float64 \u001b[0m\n",
       "\n",
       "          Ωm    0.1502    0.2020    0.2440    0.2780    0.3324\n",
       "          σ8    0.7767    0.8278    0.8524    0.8862    0.9561\n"
      ]
     },
     "execution_count": 28,
     "metadata": {},
     "output_type": "execute_result"
    }
   ],
   "source": [
    "spl = MCHMC(0.0, 0.0; init_eps=0.07, varE_wanted=0.01, sigma=ones(2))\n",
    "samples = sample(stat_model, spl, 1_000; burn_in=100, dialog=true)"
   ]
  },
  {
   "cell_type": "code",
   "execution_count": 26,
   "id": "eea6e813",
   "metadata": {},
   "outputs": [
    {
     "name": "stderr",
     "output_type": "stream",
     "text": [
      "\u001b[36m\u001b[1m[ \u001b[22m\u001b[39m\u001b[36m\u001b[1mInfo: \u001b[22m\u001b[39mStarting from previous run\n"
     ]
    },
    {
     "data": {
      "text/plain": [
       "Chains MCMC chain (1000×4×1 Array{Float64, 3}):\n",
       "\n",
       "Iterations        = 1:1:1000\n",
       "Number of chains  = 1\n",
       "Samples per chain = 1000\n",
       "Wall duration     = 0.23 seconds\n",
       "Compute duration  = 0.23 seconds\n",
       "parameters        = Ωm, σ8\n",
       "internals         = E, logp\n",
       "\n",
       "Summary Statistics\n",
       " \u001b[1m parameters \u001b[0m \u001b[1m    mean \u001b[0m \u001b[1m     std \u001b[0m \u001b[1m naive_se \u001b[0m \u001b[1m    mcse \u001b[0m \u001b[1m     ess \u001b[0m \u001b[1m    rhat \u001b[0m \u001b[1m es\u001b[0m ⋯\n",
       " \u001b[90m     Symbol \u001b[0m \u001b[90m Float64 \u001b[0m \u001b[90m Float64 \u001b[0m \u001b[90m  Float64 \u001b[0m \u001b[90m Float64 \u001b[0m \u001b[90m Float64 \u001b[0m \u001b[90m Float64 \u001b[0m \u001b[90m   \u001b[0m ⋯\n",
       "\n",
       "          Ωm    0.2410    0.0373     0.0012    0.0065   15.3820    1.0111      ⋯\n",
       "          σ8    0.8564    0.0375     0.0012    0.0045   71.2276    1.0007      ⋯\n",
       "\u001b[36m                                                                1 column omitted\u001b[0m\n",
       "\n",
       "Quantiles\n",
       " \u001b[1m parameters \u001b[0m \u001b[1m    2.5% \u001b[0m \u001b[1m   25.0% \u001b[0m \u001b[1m   50.0% \u001b[0m \u001b[1m   75.0% \u001b[0m \u001b[1m   97.5% \u001b[0m\n",
       " \u001b[90m     Symbol \u001b[0m \u001b[90m Float64 \u001b[0m \u001b[90m Float64 \u001b[0m \u001b[90m Float64 \u001b[0m \u001b[90m Float64 \u001b[0m \u001b[90m Float64 \u001b[0m\n",
       "\n",
       "          Ωm    0.1907    0.2099    0.2351    0.2690    0.3209\n",
       "          σ8    0.7871    0.8311    0.8535    0.8799    0.9392\n"
      ]
     },
     "execution_count": 26,
     "metadata": {},
     "output_type": "execute_result"
    }
   ],
   "source": [
    "new_samples = sample(stat_model, spl, 1_000; \n",
    "                     monitor_energy=true, \n",
    "                     progress=true, resume_from=samples)"
   ]
  },
  {
   "cell_type": "markdown",
   "id": "f7fdb382",
   "metadata": {},
   "source": [
    "## Ensemble AbstractMCMC"
   ]
  },
  {
   "cell_type": "code",
   "execution_count": 30,
   "id": "16856966",
   "metadata": {
    "scrolled": false
   },
   "outputs": [
    {
     "name": "stdout",
     "output_type": "stream",
     "text": [
      "Initial Virial loss: 42816.39325998224\n",
      "Virial loss: 158.11882016222364 --> Relative improvement: 0.9963070495171762\n",
      "Virial loss: 119.77926753516712 --> Relative improvement: 0.24247305025247257\n",
      "Virial loss: 98.88191675260381 --> Relative improvement: 0.1744655082018084\n",
      "Virial loss: 74.25306757715363 --> Relative improvement: 0.2490733390319484\n",
      "Virial loss: 59.34951317655382 --> Relative improvement: 0.20071297909832575\n",
      "Virial loss: 58.84813260382773 --> Relative improvement: 0.008447930671892423\n",
      "Using eps tuning method AdaptiveStep\n",
      "eps: 0.07 --> VarE/d: 24.89021685146009\n",
      "eps: 0.03139257921978017 --> VarE/d: 4.948072162114154\n",
      "eps: 0.022261198694975032 --> VarE/d: 2.3850432737855733\n",
      "eps: 0.01829199146052613 --> VarE/d: 1.5771326562296877\n",
      "eps: 0.01604037401678111 --> VarE/d: 1.193841639339198\n",
      "eps: 0.014568805546982744 --> VarE/d: 0.9465580528348905\n",
      "eps: 0.013530007778955097 --> VarE/d: 0.8053381125279706\n",
      "eps: 0.012745208001348285 --> VarE/d: 0.6832488620293122\n",
      "eps: 0.012136022414603802 --> VarE/d: 0.630111562292041\n",
      "eps: 0.011633629078344445 --> VarE/d: 0.5579637164174303\n",
      "eps: 0.011220797965824373 --> VarE/d: 0.5209225551662613\n",
      "eps: 0.010867361207888431 --> VarE/d: 0.4647130756899867\n",
      "eps: 0.010569594958892802 --> VarE/d: 0.43517889113622077\n",
      "eps: 0.010309322458092416 --> VarE/d: 0.423655305827454\n",
      "eps: 0.010074305284705928 --> VarE/d: 0.38549147851147403\n",
      "eps: 0.009870222950372681 --> VarE/d: 0.3689092612551919\n",
      "eps: 0.009685893484342583 --> VarE/d: 0.34788990244286644\n",
      "eps: 0.009520509998471243 --> VarE/d: 0.33530615859672486\n",
      "eps: 0.009369090105280425 --> VarE/d: 0.3292682682812308\n",
      "eps: 0.009227862868045575 --> VarE/d: 0.3195790569230331\n",
      "eps: 0.009096944563949888 --> VarE/d: 0.29221092081953476\n",
      "eps: 0.008981425377501772 --> VarE/d: 0.2906722971321369\n",
      "eps: 0.00887144380618266 --> VarE/d: 0.27823708292567145\n",
      "eps: 0.008770139421378616 --> VarE/d: 0.2740675972028846\n",
      "eps: 0.008674107661985456 --> VarE/d: 0.2571696197550788\n"
     ]
    },
    {
     "name": "stderr",
     "output_type": "stream",
     "text": [
      "\u001b[36m\u001b[1m[ \u001b[22m\u001b[39m\u001b[36m\u001b[1mInfo: \u001b[22m\u001b[39mTuning sigma ⏳\n",
      "\u001b[36m\u001b[1m[ \u001b[22m\u001b[39m\u001b[36m\u001b[1mInfo: \u001b[22m\u001b[39mTuning eps ⏳\n",
      "\u001b[36m\u001b[1m[ \u001b[22m\u001b[39m\u001b[36m\u001b[1mInfo: \u001b[22m\u001b[39mUsing given L ✅\n",
      "\u001b[36m\u001b[1m[ \u001b[22m\u001b[39m\u001b[36m\u001b[1mInfo: \u001b[22m\u001b[39mInitial nu 0.4019513728906998\n",
      "\u001b[36m\u001b[1m[ \u001b[22m\u001b[39m\u001b[36m\u001b[1mInfo: \u001b[22m\u001b[39mStarting burn in ⏳\n",
      "\u001b[36m\u001b[1m[ \u001b[22m\u001b[39m\u001b[36m\u001b[1mInfo: \u001b[22m\u001b[39mVirial loss condition met during burn-in at step: 8\n",
      "\u001b[36m\u001b[1m[ \u001b[22m\u001b[39m\u001b[36m\u001b[1mInfo: \u001b[22m\u001b[39mFound sigma: [0.9745540340956919, 0.22415270381553148] ✅\n"
     ]
    },
    {
     "name": "stdout",
     "output_type": "stream",
     "text": [
      "eps: 0.008587222617388356 --> VarE/d: 0.2392643451696585\n",
      "eps: 0.008509526522125332 --> VarE/d: 0.22990455848165325\n",
      "eps: 0.008437642281916666 --> VarE/d: 0.2445586741185497\n",
      "eps: 0.008362837715331129 --> VarE/d: 0.22495679418121903\n",
      "eps: 0.008296820017605145 --> VarE/d: 0.22771833746640083\n",
      "eps: 0.00823162128257678 --> VarE/d: 0.22930917072448861\n",
      "eps: 0.008167567489260697 --> VarE/d: 0.21878449924866755\n",
      "eps: 0.008108552565945037 --> VarE/d: 0.21243266514184053\n",
      "eps: 0.008053032814605898 --> VarE/d: 0.20938013042975956\n",
      "eps: 0.007999756413199046 --> VarE/d: 0.2103127148169115\n",
      "eps: 0.007947287398846464 --> VarE/d: 0.20320313726885622\n",
      "eps: 0.007898213224696575 --> VarE/d: 0.1843754347529582\n",
      "eps: 0.007856589234258651 --> VarE/d: 0.19063425971011616\n",
      "eps: 0.007813497396481985 --> VarE/d: 0.18472311358791296\n",
      "eps: 0.007773187123613175 --> VarE/d: 0.18528641775505647\n",
      "eps: 0.00773333963311576 --> VarE/d: 0.1808199196638038\n",
      "eps: 0.007695651685786139 --> VarE/d: 0.17976769293323205\n",
      "eps: 0.007658889323495886 --> VarE/d: 0.16868826021962952\n",
      "eps: 0.007626547402754516 --> VarE/d: 0.15844036341463733\n",
      "eps: 0.0075984342019757975 --> VarE/d: 0.164025715720428\n",
      "eps: 0.007568599351153597 --> VarE/d: 0.16422062301422494\n",
      "eps: 0.0075390610828696605 --> VarE/d: 0.15758832778768286\n",
      "eps: 0.007512281088624874 --> VarE/d: 0.1591178793190163\n",
      "eps: 0.007485242314585959 --> VarE/d: 0.15653872649165795\n",
      "eps: 0.007459431692664137 --> VarE/d: 0.1579955420914479\n",
      "eps: 0.007433365194550873 --> VarE/d: 0.15424588424301477\n",
      "eps: 0.00740890825334555 --> VarE/d: 0.13993434941759636\n",
      "eps: 0.007390103507630732 --> VarE/d: 0.15044114650406307\n",
      "eps: 0.00736746676151654 --> VarE/d: 0.14313382794861929\n",
      "eps: 0.007347752283609019 --> VarE/d: 0.13185596058208354\n",
      "eps: 0.007332659787472478 --> VarE/d: 0.14079063432514125\n",
      "eps: 0.007314141762989422 --> VarE/d: 0.12868014113671494\n",
      "eps: 0.007300582216275829 --> VarE/d: 0.13699986131606842\n",
      "eps: 0.007283779839842111 --> VarE/d: 0.1365210591449812\n",
      "eps: 0.007267279329629609 --> VarE/d: 0.12781346188058185\n",
      "eps: 0.007254350233706656 --> VarE/d: 0.1281534142344855\n",
      "eps: 0.007241360875228669 --> VarE/d: 0.12271209952647896\n",
      "eps: 0.007230702192928918 --> VarE/d: 0.12922117642477748\n",
      "eps: 0.007217430854730266 --> VarE/d: 0.1270071018658996\n",
      "eps: 0.007205121276046189 --> VarE/d: 0.11820599893420017\n",
      "eps: 0.0071965495229010705 --> VarE/d: 0.12330003905435752\n",
      "eps: 0.007185869351410122 --> VarE/d: 0.11217147183205642\n",
      "eps: 0.007180036312509255 --> VarE/d: 0.12166597253125673\n",
      "eps: 0.0071701230295230746 --> VarE/d: 0.11290474606461964\n",
      "eps: 0.007164011170275694 --> VarE/d: 0.11742112850518586\n",
      "eps: 0.007155957111864711 --> VarE/d: 0.11274446646062167\n",
      "eps: 0.007149963165894748 --> VarE/d: 0.1159621092193622\n",
      "eps: 0.007142590671218019 --> VarE/d: 0.11491792385898839\n",
      "eps: 0.007135692958770643 --> VarE/d: 0.10484152102574429\n"
     ]
    },
    {
     "name": "stderr",
     "output_type": "stream",
     "text": [
      "\u001b[36m\u001b[1m[ \u001b[22m\u001b[39m\u001b[36m\u001b[1mInfo: \u001b[22m\u001b[39mFound eps: 0.007135692958770643 ✅\n",
      "\u001b[36m\u001b[1m[ \u001b[22m\u001b[39m\u001b[36m\u001b[1mInfo: \u001b[22m\u001b[39mFinal nu 0.12032044744139486\n",
      "\u001b[32mChain 1: 100%|██████████████████████████████████████████| Time: 0:00:00\u001b[39m\n"
     ]
    },
    {
     "data": {
      "text/plain": [
       "Chains MCMC chain (10000×4×1 Array{Float64, 3}):\n",
       "\n",
       "Iterations        = 101:1:10100\n",
       "Number of chains  = 1\n",
       "Samples per chain = 10000\n",
       "Wall duration     = 0.92 seconds\n",
       "Compute duration  = 0.92 seconds\n",
       "parameters        = Ωm, σ8\n",
       "internals         = E, logp\n",
       "\n",
       "Summary Statistics\n",
       " \u001b[1m parameters \u001b[0m \u001b[1m    mean \u001b[0m \u001b[1m     std \u001b[0m \u001b[1m naive_se \u001b[0m \u001b[1m    mcse \u001b[0m \u001b[1m     ess \u001b[0m \u001b[1m    rhat \u001b[0m \u001b[1m es\u001b[0m ⋯\n",
       " \u001b[90m     Symbol \u001b[0m \u001b[90m Float64 \u001b[0m \u001b[90m Float64 \u001b[0m \u001b[90m  Float64 \u001b[0m \u001b[90m Float64 \u001b[0m \u001b[90m Float64 \u001b[0m \u001b[90m Float64 \u001b[0m \u001b[90m   \u001b[0m ⋯\n",
       "\n",
       "          Ωm    0.2944    0.1392     0.0014    0.0140   23.2804    1.0009      ⋯\n",
       "          σ8    0.8784    0.1103     0.0011    0.0111   23.0822    1.1013      ⋯\n",
       "\u001b[36m                                                                1 column omitted\u001b[0m\n",
       "\n",
       "Quantiles\n",
       " \u001b[1m parameters \u001b[0m \u001b[1m    2.5% \u001b[0m \u001b[1m   25.0% \u001b[0m \u001b[1m   50.0% \u001b[0m \u001b[1m   75.0% \u001b[0m \u001b[1m   97.5% \u001b[0m\n",
       " \u001b[90m     Symbol \u001b[0m \u001b[90m Float64 \u001b[0m \u001b[90m Float64 \u001b[0m \u001b[90m Float64 \u001b[0m \u001b[90m Float64 \u001b[0m \u001b[90m Float64 \u001b[0m\n",
       "\n",
       "          Ωm    0.1206    0.1725    0.2738    0.3709    0.5384\n",
       "          σ8    0.7764    0.7928    0.8453    0.9260    1.1625\n"
      ]
     },
     "execution_count": 30,
     "metadata": {},
     "output_type": "execute_result"
    }
   ],
   "source": [
    "spl = MCHMC(0.0, 0.5, 10; init_eps=0.07, varE_wanted=0.1)\n",
    "samples = sample(stat_model, spl, 1000; burn_in=100, dialog=true)"
   ]
  },
  {
   "cell_type": "code",
   "execution_count": 31,
   "id": "603dfac8",
   "metadata": {},
   "outputs": [
    {
     "name": "stderr",
     "output_type": "stream",
     "text": [
      "\u001b[36m\u001b[1m[ \u001b[22m\u001b[39m\u001b[36m\u001b[1mInfo: \u001b[22m\u001b[39mStarting from previous run\n",
      "\u001b[32mChain 1: 100%|██████████████████████████████████████████| Time: 0:00:00\u001b[39m\n"
     ]
    },
    {
     "data": {
      "text/plain": [
       "Chains MCMC chain (10000×4×1 Array{Float64, 3}):\n",
       "\n",
       "Iterations        = 101:1:10100\n",
       "Number of chains  = 1\n",
       "Samples per chain = 10000\n",
       "Wall duration     = 0.71 seconds\n",
       "Compute duration  = 0.71 seconds\n",
       "parameters        = Ωm, σ8\n",
       "internals         = E, logp\n",
       "\n",
       "Summary Statistics\n",
       " \u001b[1m parameters \u001b[0m \u001b[1m    mean \u001b[0m \u001b[1m     std \u001b[0m \u001b[1m naive_se \u001b[0m \u001b[1m    mcse \u001b[0m \u001b[1m     ess \u001b[0m \u001b[1m    rhat \u001b[0m \u001b[1m es\u001b[0m ⋯\n",
       " \u001b[90m     Symbol \u001b[0m \u001b[90m Float64 \u001b[0m \u001b[90m Float64 \u001b[0m \u001b[90m  Float64 \u001b[0m \u001b[90m Float64 \u001b[0m \u001b[90m Float64 \u001b[0m \u001b[90m Float64 \u001b[0m \u001b[90m   \u001b[0m ⋯\n",
       "\n",
       "          Ωm    0.2425    0.0586     0.0006    0.0059   21.6879    1.2264      ⋯\n",
       "          σ8    0.8682    0.0641     0.0006    0.0064   21.8506    1.2295      ⋯\n",
       "\u001b[36m                                                                1 column omitted\u001b[0m\n",
       "\n",
       "Quantiles\n",
       " \u001b[1m parameters \u001b[0m \u001b[1m    2.5% \u001b[0m \u001b[1m   25.0% \u001b[0m \u001b[1m   50.0% \u001b[0m \u001b[1m   75.0% \u001b[0m \u001b[1m   97.5% \u001b[0m\n",
       " \u001b[90m     Symbol \u001b[0m \u001b[90m Float64 \u001b[0m \u001b[90m Float64 \u001b[0m \u001b[90m Float64 \u001b[0m \u001b[90m Float64 \u001b[0m \u001b[90m Float64 \u001b[0m\n",
       "\n",
       "          Ωm    0.1421    0.1910    0.2378    0.3052    0.3148\n",
       "          σ8    0.7856    0.8103    0.8604    0.9053    1.0142\n"
      ]
     },
     "execution_count": 31,
     "metadata": {},
     "output_type": "execute_result"
    }
   ],
   "source": [
    "new_samples = sample(stat_model, spl, 1000; burn_in=100, \n",
    "                     resume_from=samples)"
   ]
  },
  {
   "cell_type": "markdown",
   "id": "767048c5",
   "metadata": {
    "heading_collapsed": true
   },
   "source": [
    "## Parallelization"
   ]
  },
  {
   "cell_type": "code",
   "execution_count": 18,
   "id": "42cf1f7f",
   "metadata": {
    "hidden": true,
    "scrolled": false
   },
   "outputs": [
    {
     "name": "stderr",
     "output_type": "stream",
     "text": [
      "\u001b[36m\u001b[1m[ \u001b[22m\u001b[39m\u001b[36m\u001b[1mInfo: \u001b[22m\u001b[39mnumber of chains: 4 smaller than number of threads: 10. Increase the number of chains to make full use of your threads.\n",
      "\u001b[36m\u001b[1m[ \u001b[22m\u001b[39m\u001b[36m\u001b[1mInfo: \u001b[22m\u001b[39mTuning sigma ⏳\n",
      "\u001b[36m\u001b[1m[ \u001b[22m\u001b[39m\u001b[36m\u001b[1mInfo: \u001b[22m\u001b[39mTuning sigma ⏳\n",
      "\u001b[36m\u001b[1m[ \u001b[22m\u001b[39m\u001b[36m\u001b[1mInfo: \u001b[22m\u001b[39mTuning sigma ⏳\n",
      "\u001b[36m\u001b[1m[ \u001b[22m\u001b[39m\u001b[36m\u001b[1mInfo: \u001b[22m\u001b[39mTuning sigma ⏳\n",
      "\u001b[36m\u001b[1m[ \u001b[22m\u001b[39m\u001b[36m\u001b[1mInfo: \u001b[22m\u001b[39mTuning eps ⏳\n",
      "\u001b[36m\u001b[1m[ \u001b[22m\u001b[39m\u001b[36m\u001b[1mInfo: \u001b[22m\u001b[39mTuning eps ⏳\n",
      "\u001b[36m\u001b[1m[ \u001b[22m\u001b[39m\u001b[36m\u001b[1mInfo: \u001b[22m\u001b[39mTuning eps ⏳\n",
      "\u001b[36m\u001b[1m[ \u001b[22m\u001b[39m\u001b[36m\u001b[1mInfo: \u001b[22m\u001b[39mTuning L ⏳\n",
      "\u001b[36m\u001b[1m[ \u001b[22m\u001b[39m\u001b[36m\u001b[1mInfo: \u001b[22m\u001b[39mTuning L ⏳\n",
      "\u001b[36m\u001b[1m[ \u001b[22m\u001b[39m\u001b[36m\u001b[1mInfo: \u001b[22m\u001b[39mTuning L ⏳\n",
      "\u001b[36m\u001b[1m[ \u001b[22m\u001b[39m\u001b[36m\u001b[1mInfo: \u001b[22m\u001b[39mTuning eps ⏳\n",
      "\u001b[36m\u001b[1m[ \u001b[22m\u001b[39m\u001b[36m\u001b[1mInfo: \u001b[22m\u001b[39mTuning L ⏳\n"
     ]
    },
    {
     "ename": "LoadError",
     "evalue": "TaskFailedException\n\n\u001b[91m    nested task error: \u001b[39mDomainError with -0.33934227649544785:\n    sqrt will only return a complex result if called with a complex argument. Try sqrt(Complex(x)).\n    Stacktrace:\n      [1] \u001b[0m\u001b[1mthrow_complex_domainerror\u001b[22m\u001b[0m\u001b[1m(\u001b[22m\u001b[90mf\u001b[39m::\u001b[0mSymbol, \u001b[90mx\u001b[39m::\u001b[0mFloat64\u001b[0m\u001b[1m)\u001b[22m\n    \u001b[90m    @\u001b[39m \u001b[90mBase.Math\u001b[39m \u001b[90m./\u001b[39m\u001b[90m\u001b[4mmath.jl:33\u001b[24m\u001b[39m\n      [2] \u001b[0m\u001b[1msqrt\u001b[22m\n    \u001b[90m    @\u001b[39m \u001b[90m./\u001b[39m\u001b[90m\u001b[4mmath.jl:677\u001b[24m\u001b[39m\u001b[90m [inlined]\u001b[39m\n      [3] \u001b[0m\u001b[1m_broadcast_getindex_evalf\u001b[22m\n    \u001b[90m    @\u001b[39m \u001b[90m./\u001b[39m\u001b[90m\u001b[4mbroadcast.jl:683\u001b[24m\u001b[39m\u001b[90m [inlined]\u001b[39m\n      [4] \u001b[0m\u001b[1m_broadcast_getindex\u001b[22m\n    \u001b[90m    @\u001b[39m \u001b[90m./\u001b[39m\u001b[90m\u001b[4mbroadcast.jl:656\u001b[24m\u001b[39m\u001b[90m [inlined]\u001b[39m\n      [5] \u001b[0m\u001b[1mgetindex\u001b[22m\n    \u001b[90m    @\u001b[39m \u001b[90m./\u001b[39m\u001b[90m\u001b[4mbroadcast.jl:610\u001b[24m\u001b[39m\u001b[90m [inlined]\u001b[39m\n      [6] \u001b[0m\u001b[1mmacro expansion\u001b[22m\n    \u001b[90m    @\u001b[39m \u001b[90m./\u001b[39m\u001b[90m\u001b[4mbroadcast.jl:974\u001b[24m\u001b[39m\u001b[90m [inlined]\u001b[39m\n      [7] \u001b[0m\u001b[1mmacro expansion\u001b[22m\n    \u001b[90m    @\u001b[39m \u001b[90m./\u001b[39m\u001b[90m\u001b[4msimdloop.jl:77\u001b[24m\u001b[39m\u001b[90m [inlined]\u001b[39m\n      [8] \u001b[0m\u001b[1mcopyto!\u001b[22m\n    \u001b[90m    @\u001b[39m \u001b[90m./\u001b[39m\u001b[90m\u001b[4mbroadcast.jl:973\u001b[24m\u001b[39m\u001b[90m [inlined]\u001b[39m\n      [9] \u001b[0m\u001b[1mcopyto!\u001b[22m\n    \u001b[90m    @\u001b[39m \u001b[90m./\u001b[39m\u001b[90m\u001b[4mbroadcast.jl:926\u001b[24m\u001b[39m\u001b[90m [inlined]\u001b[39m\n     [10] \u001b[0m\u001b[1mcopy\u001b[22m\n    \u001b[90m    @\u001b[39m \u001b[90m./\u001b[39m\u001b[90m\u001b[4mbroadcast.jl:898\u001b[24m\u001b[39m\u001b[90m [inlined]\u001b[39m\n     [11] \u001b[0m\u001b[1mmaterialize\u001b[22m\u001b[0m\u001b[1m(\u001b[22m\u001b[90mbc\u001b[39m::\u001b[0mBase.Broadcast.Broadcasted\u001b[90m{Base.Broadcast.DefaultArrayStyle{1}, Nothing, typeof(sqrt), Tuple{Vector{Float64}}}\u001b[39m\u001b[0m\u001b[1m)\u001b[22m\n    \u001b[90m    @\u001b[39m \u001b[90mBase.Broadcast\u001b[39m \u001b[90m./\u001b[39m\u001b[90m\u001b[4mbroadcast.jl:873\u001b[24m\u001b[39m\n     [12] \u001b[0m\u001b[1mtune_sigma!\u001b[22m\u001b[0m\u001b[1m(\u001b[22m\u001b[90msampler\u001b[39m::\u001b[0mMicroCanonicalHMC.Sampler, \u001b[90mtarget\u001b[39m::\u001b[0mTuringTarget; \u001b[90mkwargs\u001b[39m::\u001b[0mBase.Pairs\u001b[90m{Symbol, Bool, Tuple{Symbol, Symbol}, NamedTuple{(:monitor_energy, :dialog), Tuple{Bool, Bool}}}\u001b[39m\u001b[0m\u001b[1m)\u001b[22m\n    \u001b[90m    @\u001b[39m \u001b[35mMicroCanonicalHMC\u001b[39m \u001b[90m~/PhD/MicroCanonicalHMC.jl/src/\u001b[39m\u001b[90m\u001b[4mtuning.jl:89\u001b[24m\u001b[39m\n     [13] \u001b[0m\u001b[1mtune_sigma!\u001b[22m\n    \u001b[90m    @\u001b[39m \u001b[90m~/PhD/MicroCanonicalHMC.jl/src/\u001b[39m\u001b[90m\u001b[4mtuning.jl:83\u001b[24m\u001b[39m\u001b[90m [inlined]\u001b[39m\n     [14] \u001b[0m\u001b[1mtune_hyperparameters\u001b[22m\u001b[0m\u001b[1m(\u001b[22m\u001b[90msampler\u001b[39m::\u001b[0mMicroCanonicalHMC.Sampler, \u001b[90mtarget\u001b[39m::\u001b[0mTuringTarget, \u001b[90minit\u001b[39m::\u001b[0mTuple\u001b[90m{Vector{Float64}, Vector{Float64}, Float64, Vector{Float64}, Float64}\u001b[39m; \u001b[90mkwargs\u001b[39m::\u001b[0mBase.Pairs\u001b[90m{Symbol, Bool, Tuple{Symbol, Symbol}, NamedTuple{(:monitor_energy, :dialog), Tuple{Bool, Bool}}}\u001b[39m\u001b[0m\u001b[1m)\u001b[22m\n    \u001b[90m    @\u001b[39m \u001b[35mMicroCanonicalHMC\u001b[39m \u001b[90m~/PhD/MicroCanonicalHMC.jl/src/\u001b[39m\u001b[90m\u001b[4mtuning.jl:155\u001b[24m\u001b[39m\n     [15] \u001b[0m\u001b[1mmacro expansion\u001b[22m\n    \u001b[90m    @\u001b[39m \u001b[90m~/PhD/MicroCanonicalHMC.jl/src/\u001b[39m\u001b[90m\u001b[4mabstractmcmc.jl:220\u001b[24m\u001b[39m\u001b[90m [inlined]\u001b[39m\n     [16] \u001b[0m\u001b[1m(::MicroCanonicalHMC.var\"#902#threadsfor_fun#95\"{MicroCanonicalHMC.var\"#902#threadsfor_fun#84#96\"{Base.Pairs{Symbol, Bool, Tuple{Symbol, Symbol}, NamedTuple{(:monitor_energy, :dialog), Tuple{Bool, Bool}}}, UnitRange{Int64}}})\u001b[22m\u001b[0m\u001b[1m(\u001b[22m\u001b[90mtid\u001b[39m::\u001b[0mInt64; \u001b[90monethread\u001b[39m::\u001b[0mBool\u001b[0m\u001b[1m)\u001b[22m\n    \u001b[90m    @\u001b[39m \u001b[35mMicroCanonicalHMC\u001b[39m \u001b[90m./\u001b[39m\u001b[90m\u001b[4mthreadingconstructs.jl:139\u001b[24m\u001b[39m\n     [17] \u001b[0m\u001b[1m#902#threadsfor_fun\u001b[22m\n    \u001b[90m    @\u001b[39m \u001b[90m./\u001b[39m\u001b[90m\u001b[4mthreadingconstructs.jl:106\u001b[24m\u001b[39m\u001b[90m [inlined]\u001b[39m\n     [18] \u001b[0m\u001b[1m(::Base.Threads.var\"#1#2\"{MicroCanonicalHMC.var\"#902#threadsfor_fun#95\"{MicroCanonicalHMC.var\"#902#threadsfor_fun#84#96\"{Base.Pairs{Symbol, Bool, Tuple{Symbol, Symbol}, NamedTuple{(:monitor_energy, :dialog), Tuple{Bool, Bool}}}, UnitRange{Int64}}}, Int64})\u001b[22m\u001b[0m\u001b[1m(\u001b[22m\u001b[0m\u001b[1m)\u001b[22m\n    \u001b[90m    @\u001b[39m \u001b[90mBase.Threads\u001b[39m \u001b[90m./\u001b[39m\u001b[90m\u001b[4mthreadingconstructs.jl:84\u001b[24m\u001b[39m\n\n...and 3 more exceptions.\n",
     "output_type": "error",
     "traceback": [
      "TaskFailedException\n\n\u001b[91m    nested task error: \u001b[39mDomainError with -0.33934227649544785:\n    sqrt will only return a complex result if called with a complex argument. Try sqrt(Complex(x)).\n    Stacktrace:\n      [1] \u001b[0m\u001b[1mthrow_complex_domainerror\u001b[22m\u001b[0m\u001b[1m(\u001b[22m\u001b[90mf\u001b[39m::\u001b[0mSymbol, \u001b[90mx\u001b[39m::\u001b[0mFloat64\u001b[0m\u001b[1m)\u001b[22m\n    \u001b[90m    @\u001b[39m \u001b[90mBase.Math\u001b[39m \u001b[90m./\u001b[39m\u001b[90m\u001b[4mmath.jl:33\u001b[24m\u001b[39m\n      [2] \u001b[0m\u001b[1msqrt\u001b[22m\n    \u001b[90m    @\u001b[39m \u001b[90m./\u001b[39m\u001b[90m\u001b[4mmath.jl:677\u001b[24m\u001b[39m\u001b[90m [inlined]\u001b[39m\n      [3] \u001b[0m\u001b[1m_broadcast_getindex_evalf\u001b[22m\n    \u001b[90m    @\u001b[39m \u001b[90m./\u001b[39m\u001b[90m\u001b[4mbroadcast.jl:683\u001b[24m\u001b[39m\u001b[90m [inlined]\u001b[39m\n      [4] \u001b[0m\u001b[1m_broadcast_getindex\u001b[22m\n    \u001b[90m    @\u001b[39m \u001b[90m./\u001b[39m\u001b[90m\u001b[4mbroadcast.jl:656\u001b[24m\u001b[39m\u001b[90m [inlined]\u001b[39m\n      [5] \u001b[0m\u001b[1mgetindex\u001b[22m\n    \u001b[90m    @\u001b[39m \u001b[90m./\u001b[39m\u001b[90m\u001b[4mbroadcast.jl:610\u001b[24m\u001b[39m\u001b[90m [inlined]\u001b[39m\n      [6] \u001b[0m\u001b[1mmacro expansion\u001b[22m\n    \u001b[90m    @\u001b[39m \u001b[90m./\u001b[39m\u001b[90m\u001b[4mbroadcast.jl:974\u001b[24m\u001b[39m\u001b[90m [inlined]\u001b[39m\n      [7] \u001b[0m\u001b[1mmacro expansion\u001b[22m\n    \u001b[90m    @\u001b[39m \u001b[90m./\u001b[39m\u001b[90m\u001b[4msimdloop.jl:77\u001b[24m\u001b[39m\u001b[90m [inlined]\u001b[39m\n      [8] \u001b[0m\u001b[1mcopyto!\u001b[22m\n    \u001b[90m    @\u001b[39m \u001b[90m./\u001b[39m\u001b[90m\u001b[4mbroadcast.jl:973\u001b[24m\u001b[39m\u001b[90m [inlined]\u001b[39m\n      [9] \u001b[0m\u001b[1mcopyto!\u001b[22m\n    \u001b[90m    @\u001b[39m \u001b[90m./\u001b[39m\u001b[90m\u001b[4mbroadcast.jl:926\u001b[24m\u001b[39m\u001b[90m [inlined]\u001b[39m\n     [10] \u001b[0m\u001b[1mcopy\u001b[22m\n    \u001b[90m    @\u001b[39m \u001b[90m./\u001b[39m\u001b[90m\u001b[4mbroadcast.jl:898\u001b[24m\u001b[39m\u001b[90m [inlined]\u001b[39m\n     [11] \u001b[0m\u001b[1mmaterialize\u001b[22m\u001b[0m\u001b[1m(\u001b[22m\u001b[90mbc\u001b[39m::\u001b[0mBase.Broadcast.Broadcasted\u001b[90m{Base.Broadcast.DefaultArrayStyle{1}, Nothing, typeof(sqrt), Tuple{Vector{Float64}}}\u001b[39m\u001b[0m\u001b[1m)\u001b[22m\n    \u001b[90m    @\u001b[39m \u001b[90mBase.Broadcast\u001b[39m \u001b[90m./\u001b[39m\u001b[90m\u001b[4mbroadcast.jl:873\u001b[24m\u001b[39m\n     [12] \u001b[0m\u001b[1mtune_sigma!\u001b[22m\u001b[0m\u001b[1m(\u001b[22m\u001b[90msampler\u001b[39m::\u001b[0mMicroCanonicalHMC.Sampler, \u001b[90mtarget\u001b[39m::\u001b[0mTuringTarget; \u001b[90mkwargs\u001b[39m::\u001b[0mBase.Pairs\u001b[90m{Symbol, Bool, Tuple{Symbol, Symbol}, NamedTuple{(:monitor_energy, :dialog), Tuple{Bool, Bool}}}\u001b[39m\u001b[0m\u001b[1m)\u001b[22m\n    \u001b[90m    @\u001b[39m \u001b[35mMicroCanonicalHMC\u001b[39m \u001b[90m~/PhD/MicroCanonicalHMC.jl/src/\u001b[39m\u001b[90m\u001b[4mtuning.jl:89\u001b[24m\u001b[39m\n     [13] \u001b[0m\u001b[1mtune_sigma!\u001b[22m\n    \u001b[90m    @\u001b[39m \u001b[90m~/PhD/MicroCanonicalHMC.jl/src/\u001b[39m\u001b[90m\u001b[4mtuning.jl:83\u001b[24m\u001b[39m\u001b[90m [inlined]\u001b[39m\n     [14] \u001b[0m\u001b[1mtune_hyperparameters\u001b[22m\u001b[0m\u001b[1m(\u001b[22m\u001b[90msampler\u001b[39m::\u001b[0mMicroCanonicalHMC.Sampler, \u001b[90mtarget\u001b[39m::\u001b[0mTuringTarget, \u001b[90minit\u001b[39m::\u001b[0mTuple\u001b[90m{Vector{Float64}, Vector{Float64}, Float64, Vector{Float64}, Float64}\u001b[39m; \u001b[90mkwargs\u001b[39m::\u001b[0mBase.Pairs\u001b[90m{Symbol, Bool, Tuple{Symbol, Symbol}, NamedTuple{(:monitor_energy, :dialog), Tuple{Bool, Bool}}}\u001b[39m\u001b[0m\u001b[1m)\u001b[22m\n    \u001b[90m    @\u001b[39m \u001b[35mMicroCanonicalHMC\u001b[39m \u001b[90m~/PhD/MicroCanonicalHMC.jl/src/\u001b[39m\u001b[90m\u001b[4mtuning.jl:155\u001b[24m\u001b[39m\n     [15] \u001b[0m\u001b[1mmacro expansion\u001b[22m\n    \u001b[90m    @\u001b[39m \u001b[90m~/PhD/MicroCanonicalHMC.jl/src/\u001b[39m\u001b[90m\u001b[4mabstractmcmc.jl:220\u001b[24m\u001b[39m\u001b[90m [inlined]\u001b[39m\n     [16] \u001b[0m\u001b[1m(::MicroCanonicalHMC.var\"#902#threadsfor_fun#95\"{MicroCanonicalHMC.var\"#902#threadsfor_fun#84#96\"{Base.Pairs{Symbol, Bool, Tuple{Symbol, Symbol}, NamedTuple{(:monitor_energy, :dialog), Tuple{Bool, Bool}}}, UnitRange{Int64}}})\u001b[22m\u001b[0m\u001b[1m(\u001b[22m\u001b[90mtid\u001b[39m::\u001b[0mInt64; \u001b[90monethread\u001b[39m::\u001b[0mBool\u001b[0m\u001b[1m)\u001b[22m\n    \u001b[90m    @\u001b[39m \u001b[35mMicroCanonicalHMC\u001b[39m \u001b[90m./\u001b[39m\u001b[90m\u001b[4mthreadingconstructs.jl:139\u001b[24m\u001b[39m\n     [17] \u001b[0m\u001b[1m#902#threadsfor_fun\u001b[22m\n    \u001b[90m    @\u001b[39m \u001b[90m./\u001b[39m\u001b[90m\u001b[4mthreadingconstructs.jl:106\u001b[24m\u001b[39m\u001b[90m [inlined]\u001b[39m\n     [18] \u001b[0m\u001b[1m(::Base.Threads.var\"#1#2\"{MicroCanonicalHMC.var\"#902#threadsfor_fun#95\"{MicroCanonicalHMC.var\"#902#threadsfor_fun#84#96\"{Base.Pairs{Symbol, Bool, Tuple{Symbol, Symbol}, NamedTuple{(:monitor_energy, :dialog), Tuple{Bool, Bool}}}, UnitRange{Int64}}}, Int64})\u001b[22m\u001b[0m\u001b[1m(\u001b[22m\u001b[0m\u001b[1m)\u001b[22m\n    \u001b[90m    @\u001b[39m \u001b[90mBase.Threads\u001b[39m \u001b[90m./\u001b[39m\u001b[90m\u001b[4mthreadingconstructs.jl:84\u001b[24m\u001b[39m\n\n...and 3 more exceptions.\n",
      "",
      "Stacktrace:",
      " [1] threading_run(fun::MicroCanonicalHMC.var\"#902#threadsfor_fun#95\"{MicroCanonicalHMC.var\"#902#threadsfor_fun#84#96\"{Base.Pairs{Symbol, Bool, Tuple{Symbol, Symbol}, NamedTuple{(:monitor_energy, :dialog), Tuple{Bool, Bool}}}, UnitRange{Int64}}}, static::Bool)",
      "   @ Base.Threads ./threadingconstructs.jl:96",
      " [2] macro expansion",
      "   @ ./threadingconstructs.jl:144 [inlined]",
      " [3] sample(model::DynamicPPL.Model{typeof(model), (:data, :cov), (:cov,), (), Tuple{Vector{Float64}, Matrix{Float64}}, Tuple{Matrix{Float64}}, DynamicPPL.DefaultContext}, sampler::MicroCanonicalHMC.Sampler, ::MCMCThreads, N::Int64, nchains::Int64; progress::Bool, progressname::String, resume_from::Nothing, kwargs::Base.Pairs{Symbol, Bool, Tuple{Symbol, Symbol}, NamedTuple{(:monitor_energy, :dialog), Tuple{Bool, Bool}}})",
      "   @ MicroCanonicalHMC ~/PhD/MicroCanonicalHMC.jl/src/abstractmcmc.jl:215",
      " [4] top-level scope",
      "   @ In[18]:1"
     ]
    }
   ],
   "source": [
    "samples = sample(\n",
    "    stat_model, MCHMC(varE_wanted=2.0), MCMCThreads(), 30000, 4;\n",
    "    monitor_energy=true, \n",
    "    dialog=true)"
   ]
  },
  {
   "cell_type": "code",
   "execution_count": 19,
   "id": "2e8cd8ab",
   "metadata": {
    "hidden": true,
    "scrolled": false
   },
   "outputs": [
    {
     "name": "stderr",
     "output_type": "stream",
     "text": [
      "\u001b[36m\u001b[1m[ \u001b[22m\u001b[39m\u001b[36m\u001b[1mInfo: \u001b[22m\u001b[39mStarting from previous run\n"
     ]
    },
    {
     "ename": "LoadError",
     "evalue": "MethodError: no method matching iterate(::Chains{Float64, AxisArrays.AxisArray{Float64, 3, Array{Float64, 3}, Tuple{AxisArrays.Axis{:iter, StepRange{Int64, Int64}}, AxisArrays.Axis{:var, Vector{Symbol}}, AxisArrays.Axis{:chain, UnitRange{Int64}}}}, Missing, NamedTuple{(:parameters, :internals), Tuple{Vector{Symbol}, Vector{Symbol}}}, NamedTuple{(:target, :sampler, :init, :start_time, :stop_time), Tuple{ParallelTarget, MicroCanonicalHMC.EnsembleSampler, Tuple{Tuple{Matrix{Float64}, Matrix{Float64}, Vector{Real}, Matrix{Real}, Vector{Float64}}, Tuple{Matrix{Real}, Vector{Float64}, Vector{Float64}}}, Float64, Float64}}})\n\n\u001b[0mClosest candidates are:\n\u001b[0m  iterate(\u001b[91m::Union{LinRange, StepRangeLen}\u001b[39m)\n\u001b[0m\u001b[90m   @\u001b[39m \u001b[90mBase\u001b[39m \u001b[90m\u001b[4mrange.jl:880\u001b[24m\u001b[39m\n\u001b[0m  iterate(\u001b[91m::Union{LinRange, StepRangeLen}\u001b[39m, \u001b[91m::Integer\u001b[39m)\n\u001b[0m\u001b[90m   @\u001b[39m \u001b[90mBase\u001b[39m \u001b[90m\u001b[4mrange.jl:880\u001b[24m\u001b[39m\n\u001b[0m  iterate(\u001b[91m::T\u001b[39m) where T<:Union{Base.KeySet{<:Any, <:Dict}, Base.ValueIterator{<:Dict}}\n\u001b[0m\u001b[90m   @\u001b[39m \u001b[90mBase\u001b[39m \u001b[90m\u001b[4mdict.jl:698\u001b[24m\u001b[39m\n\u001b[0m  ...\n",
     "output_type": "error",
     "traceback": [
      "MethodError: no method matching iterate(::Chains{Float64, AxisArrays.AxisArray{Float64, 3, Array{Float64, 3}, Tuple{AxisArrays.Axis{:iter, StepRange{Int64, Int64}}, AxisArrays.Axis{:var, Vector{Symbol}}, AxisArrays.Axis{:chain, UnitRange{Int64}}}}, Missing, NamedTuple{(:parameters, :internals), Tuple{Vector{Symbol}, Vector{Symbol}}}, NamedTuple{(:target, :sampler, :init, :start_time, :stop_time), Tuple{ParallelTarget, MicroCanonicalHMC.EnsembleSampler, Tuple{Tuple{Matrix{Float64}, Matrix{Float64}, Vector{Real}, Matrix{Real}, Vector{Float64}}, Tuple{Matrix{Real}, Vector{Float64}, Vector{Float64}}}, Float64, Float64}}})\n\n\u001b[0mClosest candidates are:\n\u001b[0m  iterate(\u001b[91m::Union{LinRange, StepRangeLen}\u001b[39m)\n\u001b[0m\u001b[90m   @\u001b[39m \u001b[90mBase\u001b[39m \u001b[90m\u001b[4mrange.jl:880\u001b[24m\u001b[39m\n\u001b[0m  iterate(\u001b[91m::Union{LinRange, StepRangeLen}\u001b[39m, \u001b[91m::Integer\u001b[39m)\n\u001b[0m\u001b[90m   @\u001b[39m \u001b[90mBase\u001b[39m \u001b[90m\u001b[4mrange.jl:880\u001b[24m\u001b[39m\n\u001b[0m  iterate(\u001b[91m::T\u001b[39m) where T<:Union{Base.KeySet{<:Any, <:Dict}, Base.ValueIterator{<:Dict}}\n\u001b[0m\u001b[90m   @\u001b[39m \u001b[90mBase\u001b[39m \u001b[90m\u001b[4mdict.jl:698\u001b[24m\u001b[39m\n\u001b[0m  ...\n",
      "",
      "Stacktrace:",
      " [1] iterate",
      "   @ ./generator.jl:44 [inlined]",
      " [2] collect(itr::Base.Generator{Chains{Float64, AxisArrays.AxisArray{Float64, 3, Array{Float64, 3}, Tuple{AxisArrays.Axis{:iter, StepRange{Int64, Int64}}, AxisArrays.Axis{:var, Vector{Symbol}}, AxisArrays.Axis{:chain, UnitRange{Int64}}}}, Missing, NamedTuple{(:parameters, :internals), Tuple{Vector{Symbol}, Vector{Symbol}}}, NamedTuple{(:target, :sampler, :init, :start_time, :stop_time), Tuple{ParallelTarget, MicroCanonicalHMC.EnsembleSampler, Tuple{Tuple{Matrix{Float64}, Matrix{Float64}, Vector{Real}, Matrix{Real}, Vector{Float64}}, Tuple{Matrix{Real}, Vector{Float64}, Vector{Float64}}}, Float64, Float64}}}, MicroCanonicalHMC.var\"#85#97\"})",
      "   @ Base ./array.jl:782",
      " [3] sample(model::DynamicPPL.Model{typeof(model), (:data, :cov), (:cov,), (), Tuple{Vector{Float64}, Matrix{Float64}}, Tuple{Matrix{Float64}}, DynamicPPL.DefaultContext}, sampler::MicroCanonicalHMC.Sampler, ::MCMCThreads, N::Int64, nchains::Int64; progress::Bool, progressname::String, resume_from::Chains{Float64, AxisArrays.AxisArray{Float64, 3, Array{Float64, 3}, Tuple{AxisArrays.Axis{:iter, StepRange{Int64, Int64}}, AxisArrays.Axis{:var, Vector{Symbol}}, AxisArrays.Axis{:chain, UnitRange{Int64}}}}, Missing, NamedTuple{(:parameters, :internals), Tuple{Vector{Symbol}, Vector{Symbol}}}, NamedTuple{(:target, :sampler, :init, :start_time, :stop_time), Tuple{ParallelTarget, MicroCanonicalHMC.EnsembleSampler, Tuple{Tuple{Matrix{Float64}, Matrix{Float64}, Vector{Real}, Matrix{Real}, Vector{Float64}}, Tuple{Matrix{Real}, Vector{Float64}, Vector{Float64}}}, Float64, Float64}}}, kwargs::Base.Pairs{Symbol, Bool, Tuple{Symbol, Symbol}, NamedTuple{(:monitor_energy, :dialog), Tuple{Bool, Bool}}})",
      "   @ MicroCanonicalHMC ~/PhD/MicroCanonicalHMC.jl/src/abstractmcmc.jl:228",
      " [4] top-level scope",
      "   @ In[19]:1"
     ]
    }
   ],
   "source": [
    "new_samples = sample(\n",
    "    stat_model, MCHMC(varE_wanted=2.0), MCMCThreads(), 30000, 4;\n",
    "    monitor_energy=true, \n",
    "    dialog=true, \n",
    "    resume_from=samples)"
   ]
  },
  {
   "cell_type": "markdown",
   "id": "4aadd3b5",
   "metadata": {},
   "source": [
    "## NUTS"
   ]
  },
  {
   "cell_type": "code",
   "execution_count": 28,
   "id": "ad75a7ff",
   "metadata": {},
   "outputs": [
    {
     "data": {
      "text/plain": [
       "Array{Float64, 3}"
      ]
     },
     "execution_count": 28,
     "metadata": {},
     "output_type": "execute_result"
    }
   ],
   "source": [
    "typeof(zeros(2,2,2))"
   ]
  },
  {
   "cell_type": "code",
   "execution_count": 20,
   "id": "dcbe40a3",
   "metadata": {},
   "outputs": [
    {
     "name": "stderr",
     "output_type": "stream",
     "text": [
      "\u001b[36m\u001b[1m┌ \u001b[22m\u001b[39m\u001b[36m\u001b[1mInfo: \u001b[22m\u001b[39mFound initial step size\n",
      "\u001b[36m\u001b[1m└ \u001b[22m\u001b[39m  ϵ = 0.05\n",
      "\u001b[32mSampling: 100%|█████████████████████████████████████████| Time: 0:00:07\u001b[39m\n"
     ]
    },
    {
     "data": {
      "text/plain": [
       "Chains MCMC chain (10000×14×1 Array{Float64, 3}):\n",
       "\n",
       "Iterations        = 11:1:10010\n",
       "Number of chains  = 1\n",
       "Samples per chain = 10000\n",
       "Wall duration     = 11.66 seconds\n",
       "Compute duration  = 11.66 seconds\n",
       "parameters        = Ωm, σ8\n",
       "internals         = lp, n_steps, is_accept, acceptance_rate, log_density, hamiltonian_energy, hamiltonian_energy_error, max_hamiltonian_energy_error, tree_depth, numerical_error, step_size, nom_step_size\n",
       "\n",
       "Summary Statistics\n",
       " \u001b[1m parameters \u001b[0m \u001b[1m    mean \u001b[0m \u001b[1m     std \u001b[0m \u001b[1m naive_se \u001b[0m \u001b[1m    mcse \u001b[0m \u001b[1m       ess \u001b[0m \u001b[1m    rhat \u001b[0m \u001b[1m \u001b[0m ⋯\n",
       " \u001b[90m     Symbol \u001b[0m \u001b[90m Float64 \u001b[0m \u001b[90m Float64 \u001b[0m \u001b[90m  Float64 \u001b[0m \u001b[90m Float64 \u001b[0m \u001b[90m   Float64 \u001b[0m \u001b[90m Float64 \u001b[0m \u001b[90m \u001b[0m ⋯\n",
       "\n",
       "          Ωm    0.2403    0.0683     0.0007    0.0017   1405.0343    1.0006    ⋯\n",
       "          σ8    0.8637    0.0619     0.0006    0.0012   2356.8676    1.0002    ⋯\n",
       "\u001b[36m                                                                1 column omitted\u001b[0m\n",
       "\n",
       "Quantiles\n",
       " \u001b[1m parameters \u001b[0m \u001b[1m    2.5% \u001b[0m \u001b[1m   25.0% \u001b[0m \u001b[1m   50.0% \u001b[0m \u001b[1m   75.0% \u001b[0m \u001b[1m   97.5% \u001b[0m\n",
       " \u001b[90m     Symbol \u001b[0m \u001b[90m Float64 \u001b[0m \u001b[90m Float64 \u001b[0m \u001b[90m Float64 \u001b[0m \u001b[90m Float64 \u001b[0m \u001b[90m Float64 \u001b[0m\n",
       "\n",
       "          Ωm    0.1333    0.1894    0.2317    0.2809    0.3915\n",
       "          σ8    0.7530    0.8194    0.8603    0.9035    0.9947\n"
      ]
     },
     "execution_count": 20,
     "metadata": {},
     "output_type": "execute_result"
    }
   ],
   "source": [
    "samples_hmc = sample(stat_model, NUTS(10, 0.65),\n",
    "                     10000, progress=true; save_state=true)"
   ]
  },
  {
   "cell_type": "code",
   "execution_count": 21,
   "id": "623ba990",
   "metadata": {},
   "outputs": [
    {
     "data": {
      "text/plain": [
       "3-dimensional AxisArray{Float64,3,...} with axes:\n",
       "    :iter, 11:1:10010\n",
       "    :var, [:Ωm, :σ8, :lp, :n_steps, :is_accept, :acceptance_rate, :log_density, :hamiltonian_energy, :hamiltonian_energy_error, :max_hamiltonian_energy_error, :tree_depth, :numerical_error, :step_size, :nom_step_size]\n",
       "    :chain, 1:1\n",
       "And data, a 10000×14×1 Array{Float64, 3}:\n",
       "[:, :, 1] =\n",
       " 0.195289  0.931189  15.6471   7.0  1.0  …  2.0  0.0  0.0471045  0.0471045\n",
       " 0.194965  0.891184  16.194    3.0  1.0     1.0  0.0  0.0471045  0.0471045\n",
       " 0.20792   0.883536  16.2748  15.0  1.0     3.0  0.0  0.0471045  0.0471045\n",
       " 0.252361  0.838644  16.1968  31.0  1.0     4.0  0.0  0.0471045  0.0471045\n",
       " 0.251986  0.825046  16.0557   1.0  1.0     1.0  0.0  0.0471045  0.0471045\n",
       " 0.24801   0.831916  16.1395   3.0  1.0  …  2.0  0.0  0.0471045  0.0471045\n",
       " 0.195668  0.864144  15.9732  21.0  1.0     4.0  0.0  0.0471045  0.0471045\n",
       " 0.264617  0.863147  15.8853  19.0  1.0     4.0  0.0  0.0471045  0.0471045\n",
       " 0.272399  0.787847  15.258    7.0  1.0     2.0  0.0  0.0471045  0.0471045\n",
       " 0.177485  0.831818  14.0719  23.0  1.0     4.0  0.0  0.0471045  0.0471045\n",
       " 0.180171  0.853985  15.1452   3.0  1.0  …  2.0  0.0  0.0471045  0.0471045\n",
       " 0.171713  0.970758  14.8959   7.0  1.0     2.0  0.0  0.0471045  0.0471045\n",
       " 0.309617  0.861916  14.6632  21.0  1.0     4.0  0.0  0.0471045  0.0471045\n",
       " ⋮                                       ⋱  ⋮                    \n",
       " 0.322923  0.793806  15.3018  15.0  1.0     3.0  0.0  0.0471045  0.0471045\n",
       " 0.31189   0.76655   14.6991   7.0  1.0     2.0  0.0  0.0471045  0.0471045\n",
       " 0.379489  0.75144   13.8479  31.0  1.0  …  4.0  0.0  0.0471045  0.0471045\n",
       " 0.38042   0.765048  14.1431   3.0  1.0     2.0  0.0  0.0471045  0.0471045\n",
       " 0.382154  0.757197  13.9635   3.0  1.0     1.0  0.0  0.0471045  0.0471045\n",
       " 0.376954  0.767477  14.2347  31.0  1.0     5.0  0.0  0.0471045  0.0471045\n",
       " 0.364653  0.814261  14.3859   7.0  1.0     2.0  0.0  0.0471045  0.0471045\n",
       " 0.1349    0.971494  14.6712  23.0  1.0  …  4.0  0.0  0.0471045  0.0471045\n",
       " 0.15293   0.990051  14.6072   7.0  1.0     2.0  0.0  0.0471045  0.0471045\n",
       " 0.16133   0.890763  15.2044  15.0  1.0     4.0  0.0  0.0471045  0.0471045\n",
       " 0.150458  0.9728    15.0322   7.0  1.0     2.0  0.0  0.0471045  0.0471045\n",
       " 0.152418  0.995637  14.4361   3.0  1.0     1.0  0.0  0.0471045  0.0471045"
      ]
     },
     "execution_count": 21,
     "metadata": {},
     "output_type": "execute_result"
    }
   ],
   "source": [
    "samples_hmc.value"
   ]
  },
  {
   "cell_type": "code",
   "execution_count": 22,
   "id": "fa9db828",
   "metadata": {},
   "outputs": [],
   "source": [
    "Wms_hmc = vec(samples_hmc[\"Ωm\"])\n",
    "s8s_hmc = vec(samples_hmc[\"σ8\"]);"
   ]
  },
  {
   "cell_type": "code",
   "execution_count": 23,
   "id": "3d063a52",
   "metadata": {},
   "outputs": [
    {
     "data": {
      "image/png": "[encoded data removed]",
      "text/plain": [
       "Figure(PyObject <Figure size 640x480 with 1 Axes>)"
      ]
     },
     "metadata": {},
     "output_type": "display_data"
    }
   ],
   "source": [
    "plt.hist2d(Wms_hmc, s8s_hmc, bins=100, range=[[0.1, 0.6],[0.6, 1.2]]);\n",
    "plt.xlabel(\"Wm\")\n",
    "plt.ylabel(\"s8\")\n",
    "plt.title(\"NUTS - RSD model\");"
   ]
  },
  {
   "cell_type": "code",
   "execution_count": null,
   "id": "e2f1bc9f",
   "metadata": {},
   "outputs": [],
   "source": []
  }
 ],
 "metadata": {
  "kernelspec": {
   "display_name": "Julia-1.9.0 10 Threads 1.9.0-rc1",
   "language": "julia",
   "name": "julia-1.9.0-10-threads-1.9"
  },
  "language_info": {
   "file_extension": ".jl",
   "mimetype": "application/julia",
   "name": "julia",
   "version": "1.9.0"
  }
 },
 "nbformat": 4,
 "nbformat_minor": 5
}
