{
 "cells": [
  {
   "cell_type": "markdown",
   "id": "91129cb1",
   "metadata": {},
   "source": [
    "# Turing Target Practice"
   ]
  },
  {
   "cell_type": "markdown",
   "id": "97121235",
   "metadata": {},
   "source": [
    "## Model"
   ]
  },
  {
   "cell_type": "code",
   "execution_count": 1,
   "id": "86b96c9e",
   "metadata": {},
   "outputs": [
    {
     "name": "stderr",
     "output_type": "stream",
     "text": [
      "\u001b[32m\u001b[1m  Activating\u001b[22m\u001b[39m project at `~/PhD/MicroCanonicalHMC.jl`\n"
     ]
    }
   ],
   "source": [
    "] activate \".\""
   ]
  },
  {
   "cell_type": "code",
   "execution_count": 2,
   "id": "baed58e3",
   "metadata": {},
   "outputs": [
    {
     "name": "stderr",
     "output_type": "stream",
     "text": [
      "\u001b[36m\u001b[1m[ \u001b[22m\u001b[39m\u001b[36m\u001b[1mInfo: \u001b[22m\u001b[39mPrecompiling MicroCanonicalHMC [234d2aa0-2291-45f7-9047-6fa6f316b0a8]\n"
     ]
    }
   ],
   "source": [
    "# The statistical inference frame-work we will use\n",
    "using Turing\n",
    "using Interpolations\n",
    "using ForwardDiff\n",
    "using LinearAlgebra\n",
    "#using StatsPlots\n",
    "using PyPlot\n",
    "using Distributed\n",
    "\n",
    "using Revise\n",
    "using MicroCanonicalHMC"
   ]
  },
  {
   "cell_type": "code",
   "execution_count": 3,
   "id": "a7d6f81c",
   "metadata": {},
   "outputs": [],
   "source": [
    "fs8_zs = [0.38, 0.51, 0.61, 1.48, 0.44, 0.6, 0.73, 0.6, 0.86, 0.067, 1.4]\n",
    "fs8_data = [0.49749, 0.457523, 0.436148, 0.462, 0.413, 0.39, 0.437, 0.55, 0.4, 0.423, 0.482]\n",
    "fs8_cov = [0.00203355 0.000811829 0.000264615 0.0 0.0 0.0 0.0 0.0 0.0 0.0 0.0;\n",
    "           0.000811829 0.00142289 0.000662824 0.0 0.0 0.0 0.0 0.0 0.0 0.0 0.0; \n",
    "           0.000264615 0.000662824 0.00118576 0.0 0.0 0.0 0.0 0.0 0.0 0.0 0.0;\n",
    "           0.0 0.0 0.0 0.002025 0.0 0.0 0.0 0.0 0.0 0.0 0.0;\n",
    "           0.0 0.0 0.0 0.0 0.0064 0.00257 0.0 0.0 0.0 0.0 0.0;\n",
    "           0.0 0.0 0.0 0.0 0.00257 0.003969 0.00254 0.0 0.0 0.0 0.0;\n",
    "           0.0 0.0 0.0 0.0 0.0 0.00254 0.005184 0.0 0.0 0.0 0.0;\n",
    "           0.0 0.0 0.0 0.0 0.0 0.0 0.0 0.0144 0.0 0.0 0.0;\n",
    "           0.0 0.0 0.0 0.0 0.0 0.0 0.0 0.0 0.0121 0.0 0.0; \n",
    "           0.0 0.0 0.0 0.0 0.0 0.0 0.0 0.0 0.0 0.003025 0.0;\n",
    "           0.0 0.0 0.0 0.0 0.0 0.0 0.0 0.0 0.0 0.0 0.013456000000000001];"
   ]
  },
  {
   "cell_type": "code",
   "execution_count": 4,
   "id": "1359a630",
   "metadata": {
    "code_folding": []
   },
   "outputs": [
    {
     "data": {
      "text/plain": [
       "make_fs8 (generic function with 1 method)"
      ]
     },
     "execution_count": 4,
     "metadata": {},
     "output_type": "execute_result"
    }
   ],
   "source": [
    "function make_fs8(Ωm, σ8; Ωr=8.24*10^-5)\n",
    "    # ODE solution for growth factor\n",
    "    x_Dz = LinRange(0, log(1+1100), 300)\n",
    "    dx_Dz = x_Dz[2]-x_Dz[1]\n",
    "    z_Dz = @.(exp(x_Dz) - 1)\n",
    "    a_Dz = @.(1/(1+z_Dz))\n",
    "    aa = reverse(a_Dz)\n",
    "    e =  @.(sqrt.(abs(Ωm)*(1+z_Dz)^3+Ωr*(1+z_Dz)^4+(1-Ωm-Ωr)))\n",
    "    ee = reverse(e)\n",
    "\n",
    "    dd = zeros(typeof(Ωm), 300)\n",
    "    yy = zeros(typeof(Ωm), 300)\n",
    "    dd[1] = aa[1]\n",
    "    yy[1] = aa[1]^3*ee[end]\n",
    "\n",
    "    for i in 1:(300-1)\n",
    "        A0 = -1.5 * Ωm / (aa[i]*ee[i])\n",
    "        B0 = -1. / (aa[i]^2*ee[i])\n",
    "        A1 = -1.5 * Ωm / (aa[i+1]*ee[i+1])\n",
    "        B1 = -1. / (aa[i+1]^2*ee[i+1])\n",
    "        yy[i+1] = (1+0.5*dx_Dz^2*A0*B0)*yy[i] + 0.5*(A0+A1)*dx_Dz*dd[i]\n",
    "        dd[i+1] = 0.5*(B0+B1)*dx_Dz*yy[i] + (1+0.5*dx_Dz^2*A0*B0)*dd[i]\n",
    "    end\n",
    "\n",
    "    y = reverse(yy)\n",
    "    d = reverse(dd)\n",
    "\n",
    "    Dzi = LinearInterpolation(z_Dz, d./d[1], extrapolation_bc=Line())\n",
    "    fs8zi = LinearInterpolation(z_Dz, -σ8 .* y./ (a_Dz.^2 .*e.*d[1]),\n",
    "                                 extrapolation_bc=Line())\n",
    "    return fs8zi\n",
    "end"
   ]
  },
  {
   "cell_type": "code",
   "execution_count": 5,
   "id": "8005e277",
   "metadata": {},
   "outputs": [],
   "source": [
    "@model function model(data; cov = fs8_cov) \n",
    "    # Define priors\n",
    "    #KiDS priors\n",
    "    Ωm  ~ Uniform(0.01, 0.6)\n",
    "    σ8 ~ Normal(0.8, 0.3)\n",
    "    fs8_itp = make_fs8(Ωm, σ8)\n",
    "    theory = fs8_itp(fs8_zs)\n",
    "    data ~ MvNormal(theory, cov)\n",
    "end;"
   ]
  },
  {
   "cell_type": "code",
   "execution_count": 6,
   "id": "1eebe796",
   "metadata": {},
   "outputs": [
    {
     "data": {
      "text/plain": [
       "DynamicPPL.Model{typeof(model), (:data, :cov), (:cov,), (), Tuple{Vector{Float64}, Matrix{Float64}}, Tuple{Matrix{Float64}}, DynamicPPL.DefaultContext}(model, (data = [0.49749, 0.457523, 0.436148, 0.462, 0.413, 0.39, 0.437, 0.55, 0.4, 0.423, 0.482], cov = [0.00203355 0.000811829 … 0.0 0.0; 0.000811829 0.00142289 … 0.0 0.0; … ; 0.0 0.0 … 0.003025 0.0; 0.0 0.0 … 0.0 0.013456000000000001]), (cov = [0.00203355 0.000811829 … 0.0 0.0; 0.000811829 0.00142289 … 0.0 0.0; … ; 0.0 0.0 … 0.003025 0.0; 0.0 0.0 … 0.0 0.013456000000000001],), DynamicPPL.DefaultContext())"
      ]
     },
     "execution_count": 6,
     "metadata": {},
     "output_type": "execute_result"
    }
   ],
   "source": [
    "stat_model = model(fs8_data)"
   ]
  },
  {
   "cell_type": "markdown",
   "id": "10dfa4cc",
   "metadata": {},
   "source": [
    "## Sampling"
   ]
  },
  {
   "cell_type": "code",
   "execution_count": 7,
   "id": "c8ed14a3",
   "metadata": {},
   "outputs": [],
   "source": [
    "target = TuringTarget(stat_model; compute_MAP=true);"
   ]
  },
  {
   "cell_type": "code",
   "execution_count": 9,
   "id": "2982b122",
   "metadata": {},
   "outputs": [
    {
     "data": {
      "text/plain": [
       "Ωm"
      ]
     },
     "execution_count": 9,
     "metadata": {},
     "output_type": "execute_result"
    }
   ],
   "source": [
    "target.vsyms[1]"
   ]
  },
  {
   "cell_type": "code",
   "execution_count": 40,
   "id": "82938e27",
   "metadata": {
    "scrolled": false
   },
   "outputs": [
    {
     "name": "stderr",
     "output_type": "stream",
     "text": [
      "\u001b[36m\u001b[1m[ \u001b[22m\u001b[39m\u001b[36m\u001b[1mInfo: \u001b[22m\u001b[39mTuning sigma ⏳\n",
      "\u001b[36m\u001b[1m[ \u001b[22m\u001b[39m\u001b[36m\u001b[1mInfo: \u001b[22m\u001b[39mTuning eps ⏳\n",
      "\u001b[36m\u001b[1m[ \u001b[22m\u001b[39m\u001b[36m\u001b[1mInfo: \u001b[22m\u001b[39mTuning L ⏳\n",
      "\u001b[36m\u001b[1m[ \u001b[22m\u001b[39m\u001b[36m\u001b[1mInfo: \u001b[22m\u001b[39mFound sigma: [0.45043479852954027, 0.06088870443747089] ✅\n"
     ]
    },
    {
     "name": "stdout",
     "output_type": "stream",
     "text": [
      "eps: 0.5 --> VarE: 3.6496830025466123\n",
      "eps: 0.035336806432600724 --> VarE: 0.18211318446075753\n",
      "eps: 0.08006284681211553 --> VarE: 0.49606225999810766\n",
      "eps: 0.1325221301416146 --> VarE: 0.8928422205101082\n",
      "eps: 0.1475116905944565 --> VarE: 1.0150994628626042\n",
      "samples: 100--> ESS: 0.0143251199875072\n",
      "samples: 203--> ESS: 0.014963260926006484\n",
      "samples: 310--> ESS: 0.01697838654750044\n",
      "samples: 420--> ESS: 0.02051008546218396\n",
      "samples: 534--> ESS: 0.018876410733492593\n"
     ]
    },
    {
     "name": "stderr",
     "output_type": "stream",
     "text": [
      "\u001b[36m\u001b[1m[ \u001b[22m\u001b[39m\u001b[36m\u001b[1mInfo: \u001b[22m\u001b[39mFound eps: 0.1475116905944565 ✅\n",
      "\u001b[36m\u001b[1m[ \u001b[22m\u001b[39m\u001b[36m\u001b[1mInfo: \u001b[22m\u001b[39mFound L: 3.125841934191973 ✅\n"
     ]
    }
   ],
   "source": [
    "samples_mchmc = Sample(MCHMC(varE_wanted=1.0), target, 100000;\n",
    "                       monitor_energy=true, \n",
    "                       dialog=true);"
   ]
  },
  {
   "cell_type": "code",
   "execution_count": 41,
   "id": "385a8b1a",
   "metadata": {},
   "outputs": [],
   "source": [
    "Wms_mchmc = [sample[1] for sample in samples_mchmc]\n",
    "s8s_mchmc = [sample[2] for sample in samples_mchmc];"
   ]
  },
  {
   "cell_type": "code",
   "execution_count": 42,
   "id": "2a803eb8",
   "metadata": {},
   "outputs": [
    {
     "data": {
      "image/png": "[encoded data removed]",
      "text/plain": [
       "Figure(PyObject <Figure size 640x480 with 1 Axes>)"
      ]
     },
     "metadata": {},
     "output_type": "display_data"
    }
   ],
   "source": [
    "plt.hist2d(Wms_mchmc, s8s_mchmc, bins=100, range=[[0.1, 0.6],[0.6, 1.2]]);\n",
    "plt.xlabel(\"Wm\")\n",
    "plt.ylabel(\"s8\")\n",
    "plt.title(\"MCHMC - RSD model\");"
   ]
  },
  {
   "cell_type": "code",
   "execution_count": 43,
   "id": "ae097bf4",
   "metadata": {
    "scrolled": false
   },
   "outputs": [
    {
     "name": "stdout",
     "output_type": "stream",
     "text": [
      "eps: 0.5 --> VarE: 2.1108950769016004\n"
     ]
    },
    {
     "name": "stderr",
     "output_type": "stream",
     "text": [
      "\u001b[36m\u001b[1m[ \u001b[22m\u001b[39m\u001b[36m\u001b[1mInfo: \u001b[22m\u001b[39mBurn-in started ⏳\n",
      "\u001b[36m\u001b[1m[ \u001b[22m\u001b[39m\u001b[36m\u001b[1mInfo: \u001b[22m\u001b[39mTuning sigma ⏳\n",
      "\u001b[36m\u001b[1m[ \u001b[22m\u001b[39m\u001b[36m\u001b[1mInfo: \u001b[22m\u001b[39mTuning eps ⏳\n",
      "\u001b[36m\u001b[1m[ \u001b[22m\u001b[39m\u001b[36m\u001b[1mInfo: \u001b[22m\u001b[39mTuning L ⏳\n",
      "\u001b[33m\u001b[1m┌ \u001b[22m\u001b[39m\u001b[33m\u001b[1mWarning: \u001b[22m\u001b[39mL-tuning not Implemented\n",
      "\u001b[33m\u001b[1m└ \u001b[22m\u001b[39m\u001b[90m@ MicroCanonicalHMC ~/PhD/MicroCanonicalHMC.jl/src/ensemble/tuning.jl:41\u001b[39m\n",
      "\u001b[36m\u001b[1m[ \u001b[22m\u001b[39m\u001b[36m\u001b[1mInfo: \u001b[22m\u001b[39mFound L: 1.4142135623730951 ✅\n"
     ]
    },
    {
     "name": "stdout",
     "output_type": "stream",
     "text": [
      "eps: 0.09985438966811573 --> VarE: 8.629870274668258\n",
      "eps: 2.9417743886162907e-5 --> VarE: 2.9796808980849456e-8\n",
      "eps: 4.850165863593077e-5 --> VarE: 2.0812635654468095e-7\n",
      "eps: 7.996569961432414e-5 --> VarE: 1.4020525753702452e-6\n",
      "eps: 0.0001318409650324591 --> VarE: 1.073063951321125e-5\n",
      "eps: 0.00021736667090274499 --> VarE: 6.500237254119803e-5\n",
      "eps: 0.00035835375925697544 --> VarE: 0.000356532554205003\n",
      "eps: 0.0005906148543571512 --> VarE: 0.0011451724266607912\n",
      "eps: 0.0009726447891602293 --> VarE: 0.0031913936245588433\n",
      "eps: 0.0015985105273422183 --> VarE: 0.003502993957499286\n",
      "eps: 0.0026262823244109982 --> VarE: 0.0032113234551151247\n",
      "eps: 0.004316124779308534 --> VarE: 0.012621288935031122\n",
      "eps: 0.0070268369523124085 --> VarE: 0.042072558907061526\n",
      "eps: 0.01110798378855067 --> VarE: 0.2293755645530392\n",
      "eps: 0.014560152919864986 --> VarE: 0.5938362161470937\n",
      "eps: 0.013256027163958057 --> VarE: 0.457921388986308\n",
      "Initial Virial loss: 12593.075595046264\n",
      "Initial sigma: [1.6553728403561843, 0.30980555720636965]\n",
      "Virial loss: 109.61624246495762 --> Relative improvement: 0.023192454750060598\n",
      "Sigma --> [1.649801755598892, 0.3076945254095431]\n",
      "Virial loss: 107.03052507279097 --> Relative improvement: 0.023588816164659798\n",
      "Sigma --> [1.646631909170261, 0.30615082707551505]\n",
      "Virial loss: 104.48756959877802 --> Relative improvement: 0.023759160970979964\n",
      "Sigma --> [1.6439385499567427, 0.30476354915248605]\n",
      "Virial loss: 101.99132840329223 --> Relative improvement: 0.02389031733699154\n",
      "Sigma --> [1.6413872313153772, 0.3034477121297074]\n",
      "Virial loss: 99.54315208373656 --> Relative improvement: 0.024003769319241863\n",
      "Sigma --> [1.638882119868788, 0.30217425254441743]\n",
      "Virial loss: 97.14351343308036 --> Relative improvement: 0.024106516625449048\n",
      "Sigma --> [1.6363874674058254, 0.30093050124190684]\n",
      "Virial loss: 94.7924385144431 --> Relative improvement: 0.024202078301984065\n",
      "Sigma --> [1.6338872142214491, 0.29971004643837884]\n",
      "Virial loss: 92.48968678225377 --> Relative improvement: 0.024292567722461023\n",
      "Sigma --> [1.6313729840527353, 0.2985092831001881]\n",
      "Virial loss: 90.23486405378429 --> Relative improvement: 0.024379180067697237\n",
      "Sigma --> [1.6288398601077752, 0.2973260117405715]\n",
      "Virial loss: 88.02752446527882 --> Relative improvement: 0.024462158963189595\n",
      "Sigma --> [1.6262847267657707, 0.2961587948838279]\n",
      "Virial loss: 85.86728009209209 --> Relative improvement: 0.024540555767177175\n",
      "Sigma --> [1.6237055709980854, 0.2950066328205803]\n",
      "Virial loss: 83.75391553864733 --> Relative improvement: 0.024611989004172274\n",
      "Sigma --> [1.621101168498867, 0.29386878795825033]\n",
      "Virial loss: 81.68748686109558 --> Relative improvement: 0.02467262174266016\n",
      "Sigma --> [1.618470920211326, 0.29274468428055683]\n",
      "Virial loss: 79.66837174904701 --> Relative improvement: 0.02471755699232059\n",
      "Sigma --> [1.6158147348071852, 0.29163384777745704]\n",
      "Virial loss: 77.69723873923716 --> Relative improvement: 0.024741725813336002\n"
     ]
    },
    {
     "name": "stderr",
     "output_type": "stream",
     "text": [
      "\u001b[36m\u001b[1m[ \u001b[22m\u001b[39m\u001b[36m\u001b[1mInfo: \u001b[22m\u001b[39mVarE condition met during eps tuning at step: 17\n",
      "\u001b[36m\u001b[1m[ \u001b[22m\u001b[39m\u001b[36m\u001b[1mInfo: \u001b[22m\u001b[39mFound eps: 0.013256027163958057 ✅\n"
     ]
    },
    {
     "name": "stdout",
     "output_type": "stream",
     "text": [
      "Sigma --> [1.6131329130487924, 0.29053587087517074]\n",
      "Virial loss: 75.77492249221542 --> Relative improvement: 0.024741114075794934\n",
      "Sigma --> [1.6104260245533788, 0.2894503916290041]\n",
      "Virial loss: 73.90222372998228 --> Relative improvement: 0.024713964734513927\n",
      "Sigma --> [1.607694787631631, 0.2883770818802255]\n",
      "Virial loss: 72.07967934778888 --> Relative improvement: 0.02466156348491566\n",
      "Sigma --> [1.6049399709788714, 0.2873156401683196]\n",
      "Virial loss: 70.30735511222842 --> Relative improvement: 0.024588403439045337\n",
      "Sigma --> [1.6021623350211087, 0.28626578625807186]\n",
      "Virial loss: 68.58469873800948 --> Relative improvement: 0.024501794605545135\n",
      "Sigma --> [1.5993626251876518, 0.28522725531498455]\n",
      "Virial loss: 66.91046642266728 --> Relative improvement: 0.02441116380400954\n",
      "Sigma --> [1.5965416223246136, 0.2841997911321554]\n",
      "Virial loss: 65.28271485775097 --> Relative improvement: 0.024327308595249564\n",
      "Sigma --> [1.5937002462449117, 0.2831831391491661]\n",
      "Virial loss: 63.69884192385521 --> Relative improvement: 0.024261750408924865\n",
      "Sigma --> [1.5908396940441933, 0.28217704097272384]\n",
      "Virial loss: 62.15566520706917 --> Relative improvement: 0.02422613457605305\n",
      "Sigma --> [1.5879615753534644, 0.28118123233537107]\n",
      "Virial loss: 60.64954243999568 --> Relative improvement: 0.024231464051682194\n",
      "Sigma --> [1.5850679918944448, 0.2801954455999936]\n",
      "Virial loss: 59.17654518487628 --> Relative improvement: 0.024287029973502627\n",
      "Sigma --> [1.582161515996735, 0.27921941618432455]\n",
      "Virial loss: 57.732681107517465 --> Relative improvement: 0.024399262796568677\n",
      "Sigma --> [1.5792450591994682, 0.27825289060131925]\n",
      "Virial loss: 56.31413105407759 --> Relative improvement: 0.024571005992222283\n",
      "Sigma --> [1.5763216679177643, 0.27729563338535845]\n",
      "Virial loss: 54.917453193195094 --> Relative improvement: 0.02480155219906155\n",
      "Sigma --> [1.5733943065585645, 0.27634743120920435]\n",
      "Virial loss: 53.53971679858125 --> Relative improvement: 0.025087405087178327\n",
      "Sigma --> [1.5704656785376943, 0.2754080939810416]\n",
      "Virial loss: 52.178552343741224 --> Relative improvement: 0.025423452648447697\n",
      "Sigma --> [1.5675381085498383, 0.2744774535920659]\n",
      "Virial loss: 50.832137523897714 --> Relative improvement: 0.025803989558269347\n",
      "Sigma --> [1.564613485454248, 0.27355536113542095]\n",
      "Virial loss: 49.499166547225606 --> Relative improvement: 0.026222996741882776\n",
      "Sigma --> [1.5616932525566065, 0.27264168332402905]\n",
      "Virial loss: 48.17884275513036 --> Relative improvement: 0.026673657036943577\n",
      "Sigma --> [1.5587784295237428, 0.27173629879536637]\n",
      "Virial loss: 46.87089055584445 --> Relative improvement: 0.027147854213385725\n",
      "Sigma --> [1.555869653421378, 0.2708390949079778]\n",
      "Virial loss: 45.575543692436646 --> Relative improvement: 0.027636489259030728\n",
      "Sigma --> [1.5529672314280198, 0.2699499653792911]\n",
      "Virial loss: 44.293470648747274 --> Relative improvement: 0.028130724064233892\n",
      "Sigma --> [1.550071201871473, 0.26906880877965383]\n",
      "Virial loss: 43.02563712997965 --> Relative improvement: 0.02862348558824168\n",
      "Sigma --> [1.5471814022202206, 0.26819552767725213]\n",
      "Virial loss: 41.773142865454155 --> Relative improvement: 0.02911041760385169\n",
      "Sigma --> [1.5442975427951984, 0.2673300282016928]\n",
      "Virial loss: 40.537078712956365 --> Relative improvement: 0.029589924715001437\n",
      "Sigma --> [1.5414192840449699, 0.2664722198853028]\n",
      "Virial loss: 39.31843099059622 --> Relative improvement: 0.030062544244724876\n",
      "Sigma --> [1.5385463138439295, 0.265622015734798]\n",
      "Virial loss: 38.11803076269336 --> Relative improvement: 0.030530216940496957\n",
      "Sigma --> [1.5356784196665405, 0.26477933252107577]\n",
      "Virial loss: 36.93652522753238 --> Relative improvement: 0.0309959751729183\n",
      "Sigma --> [1.5328155489166098, 0.2639440912447147]\n",
      "Virial loss: 35.77434654275422 --> Relative improvement: 0.03146421266264299\n",
      "Sigma --> [1.52995784996549, 0.26311621764351745]\n",
      "Virial loss: 34.63166713389049 --> Relative improvement: 0.03194130764899117\n",
      "Sigma --> [1.5271056879613352, 0.26229564247526094]\n",
      "Virial loss: 33.508346724507156 --> Relative improvement: 0.0324362210181921\n",
      "Sigma --> [1.5242596339390477, 0.26148230122397564]\n",
      "Virial loss: 32.403886200416196 --> Relative improvement: 0.032960758499111065\n",
      "Sigma --> [1.521420431551226, 0.26067613299751363]\n",
      "Virial loss: 31.317412374292942 --> Relative improvement: 0.033529121149342256\n",
      "Sigma --> [1.5185889492537943, 0.25987707877998895]\n",
      "Virial loss: 30.2477310598887 --> Relative improvement: 0.03415612061494244\n",
      "Sigma --> [1.5157661249607681, 0.25908507970349126]\n",
      "Virial loss: 29.19348234603133 --> Relative improvement: 0.03485381140721\n",
      "Sigma --> [1.5129529073646983, 0.2583000762564721]\n",
      "Virial loss: 28.153378464092683 --> Relative improvement: 0.03562794837595129\n",
      "Sigma --> [1.5101501976052931, 0.25752200909276307]\n",
      "Virial loss: 27.126425382586596 --> Relative improvement: 0.03647708152738682\n",
      "Sigma --> [1.507358797537257, 0.25675082140192385]\n",
      "Virial loss: 26.112019506587483 --> Relative improvement: 0.03739548656677394\n",
      "Sigma --> [1.504579372641999, 0.25598646202007724]\n",
      "Virial loss: 25.10991215729898 --> Relative improvement: 0.038377244204941485\n",
      "Sigma --> [1.5018124350918418, 0.2552288880773962]\n",
      "Virial loss: 24.120144877367874 --> Relative improvement: 0.039417393168514\n",
      "Sigma --> [1.4990583465001692, 0.2544780662113057]\n",
      "Virial loss: 23.143058571707034 --> Relative improvement: 0.04050913917095289\n",
      "Sigma --> [1.4963173343634892, 0.2537339719799442]\n",
      "Virial loss: 22.179386200482366 --> Relative improvement: 0.041639801767722306\n",
      "Sigma --> [1.4935895140214417, 0.25299658764559413]\n",
      "Virial loss: 21.230360208915545 --> Relative improvement: 0.042788649919725086\n",
      "Sigma --> [1.4908749092629696, 0.252265898719659]\n",
      "Virial loss: 20.29776471158664 --> Relative improvement: 0.043927445797046216\n",
      "Sigma --> [1.4881734680606855, 0.25154188961171864]\n",
      "Virial loss: 19.383909173853272 --> Relative improvement: 0.04502247172131768\n",
      "Sigma --> [1.4854850741913135, 0.25082453857077697]\n",
      "Virial loss: 18.491525751859417 --> Relative improvement: 0.0460373299312391\n",
      "Sigma --> [1.4828095600503524, 0.2501138120480704]\n",
      "Virial loss: 17.623565024973733 --> Relative improvement: 0.04693829695466889\n",
      "Sigma --> [1.4801467287804722, 0.24940965893176303]\n",
      "Virial loss: 16.78283943673756 --> Relative improvement: 0.04770462656362706\n",
      "Sigma --> [1.4774963899317108, 0.24871200599433418]\n",
      "Virial loss: 15.971560130372515 --> Relative improvement: 0.04833981218870265\n",
      "Sigma --> [1.4748583986965575, 0.2480207567087599]\n",
      "Virial loss: 15.19103044714023 --> Relative improvement: 0.04886997117757963\n",
      "Sigma --> [1.4722326743839658, 0.24733579467534642]\n",
      "Virial loss: 14.441796393208572 --> Relative improvement: 0.04932081839600977\n",
      "Sigma --> [1.4696191799826976, 0.24665699006607722]\n",
      "Virial loss: 13.724223011347505 --> Relative improvement: 0.04968726620453634\n",
      "Sigma --> [1.467017870501125, 0.2459842056789784]\n",
      "Virial loss: 13.039140256376369 --> Relative improvement: 0.04991778073007802\n",
      "Sigma --> [1.4644286381801357, 0.2453173002173125]\n",
      "Virial loss: 12.388167683622086 --> Relative improvement: 0.04992450115228608\n",
      "Sigma --> [1.4618512883745103, 0.24465612846601142]\n",
      "Virial loss: 11.773406301649059 --> Relative improvement: 0.04962488381439811\n",
      "Sigma --> [1.459285572262809, 0.24400053978125788]\n",
      "Virial loss: 11.196448066710667 --> Relative improvement: 0.04900520887124904\n",
      "Sigma --> [1.4567312641257726, 0.24335037795469444]\n",
      "Virial loss: 10.657285930585507 --> Relative improvement: 0.048154748087315236\n",
      "Sigma --> [1.4541882194559659, 0.2427054851884331]\n",
      "Virial loss: 10.15388319657736 --> Relative improvement: 0.04723554733231139\n",
      "Sigma --> [1.4516563776159055, 0.24206570894786578]\n",
      "Virial loss: 9.682457736596213 --> Relative improvement: 0.04642809562158967\n",
      "Sigma --> [1.4491357597465173, 0.2414309075538578]\n",
      "Virial loss: 9.238253057572667 --> Relative improvement: 0.04587726495769884\n",
      "Sigma --> [1.4466265076789582, 0.2408009523574398]\n",
      "Virial loss: 8.816612159902501 --> Relative improvement: 0.04564076076315571\n",
      "Sigma --> [1.4441289313454169, 0.24017572769851453]\n",
      "Virial loss: 8.413899366235789 --> Relative improvement: 0.04567659168430127\n",
      "Sigma --> [1.4416435162669803, 0.23955513071377862]\n",
      "Virial loss: 8.027900382993671 --> Relative improvement: 0.04587634893651049\n",
      "Sigma --> [1.4391708864484813, 0.23893907181284452]\n",
      "Virial loss: 7.657732136408293 --> Relative improvement: 0.0461102192261309\n",
      "Sigma --> [1.436711745896242, 0.23832747549436428]\n",
      "Virial loss: 7.3034861408337575 --> Relative improvement: 0.04625990949595782\n",
      "Sigma --> [1.434266819985744, 0.2377202809150807]\n",
      "Virial loss: 6.965808188143178 --> Relative improvement: 0.04623517402225541\n",
      "Sigma --> [1.431836807164641, 0.23711744183865247]\n",
      "Virial loss: 6.645538343911001 --> Relative improvement: 0.045977413615454266\n",
      "Sigma --> [1.4294223437329772, 0.23651892586763623]\n",
      "Virial loss: 6.34345946579747 --> Relative improvement: 0.04545589273295092\n",
      "Sigma --> [1.427023980797298, 0.23592471305037596]\n",
      "Virial loss: 6.060149808335993 --> Relative improvement: 0.044661695875731544\n",
      "Sigma --> [1.4246421712520487, 0.235334794036876]\n",
      "Virial loss: 5.795911565044212 --> Relative improvement: 0.04360259261715116\n",
      "Sigma --> [1.4222772644179602, 0.23474916796489428]\n",
      "Virial loss: 5.550744563232484 --> Relative improvement: 0.04229999009825436\n",
      "Sigma --> [1.4199295060885226, 0.23416784022647244]\n",
      "Virial loss: 5.32434119153095 --> Relative improvement: 0.04078792838013201\n",
      "Sigma --> [1.4175990419782116, 0.2335908202189209]\n",
      "Virial loss: 5.116087943181166 --> Relative improvement: 0.039113430349098754\n",
      "Sigma --> [1.4152859228985006, 0.2330181191317252]\n",
      "Virial loss: 4.92506824958145 --> Relative improvement: 0.03733706216960386\n",
      "Sigma --> [1.412990110451725, 0.23244974776524316]\n",
      "Virial loss: 4.750069269798863 --> Relative improvement: 0.03553229537427405\n",
      "Sigma --> [1.410711482728821, 0.23188571432556174]\n",
      "Virial loss: 4.589599370299898 --> Relative improvement: 0.033782644080421975\n",
      "Sigma --> [1.4084498405578578, 0.23132602211449166]\n",
      "Virial loss: 4.441919958481904 --> Relative improvement: 0.03217697230256167\n",
      "Sigma --> [1.406204916225368, 0.23077066708546562]\n",
      "Virial loss: 4.305087760823553 --> Relative improvement: 0.03080474185426696\n",
      "Sigma --> [1.4039763875260813, 0.23021963543921578]\n",
      "Virial loss: 4.177010227291287 --> Relative improvement: 0.029750272386494858\n",
      "Sigma --> [1.401763898742321, 0.22967290179191252]\n",
      "Virial loss: 4.0555593725788865 --> Relative improvement: 0.029076025219875845\n",
      "Sigma --> [1.399567085664096, 0.2291304287025691]\n",
      "Virial loss: 3.9388233712049274 --> Relative improvement: 0.02878419242565\n",
      "Sigma --> [1.3973855972909657, 0.22859216799258597]\n"
     ]
    },
    {
     "name": "stdout",
     "output_type": "stream",
     "text": [
      "Virial loss: 3.8254805955554647 --> Relative improvement: 0.02877579545152087\n",
      "Sigma --> [1.3952191083118899, 0.22805806328192424]\n",
      "Virial loss: 3.7151083369996996 --> Relative improvement: 0.02885186731413525\n",
      "Sigma --> [1.39306732257439, 0.22752805252598304]\n",
      "Virial loss: 3.6082720024426425 --> Relative improvement: 0.02875725951059005\n",
      "Sigma --> [1.3909299702474727, 0.22700206998800326]\n"
     ]
    },
    {
     "name": "stderr",
     "output_type": "stream",
     "text": [
      "\u001b[33m\u001b[1m┌ \u001b[22m\u001b[39m\u001b[33m\u001b[1mWarning: \u001b[22m\u001b[39mMaximum number of steps reached during burn-in\n",
      "\u001b[33m\u001b[1m└ \u001b[22m\u001b[39m\u001b[90m@ MicroCanonicalHMC ~/PhD/MicroCanonicalHMC.jl/src/ensemble/tuning.jl:196\u001b[39m\n",
      "\u001b[36m\u001b[1m[ \u001b[22m\u001b[39m\u001b[36m\u001b[1mInfo: \u001b[22m\u001b[39mFound sigma: [1.3909299702474727, 0.22700206998800326] ✅\n"
     ]
    },
    {
     "name": "stdout",
     "output_type": "stream",
     "text": [
      "eps: 0.013256027163958057 --> VarE: 9.143526132622622e-5\n",
      "eps: 0.013934404056117828 --> VarE: 0.00012452323654657172\n",
      "eps: 0.014647012222490562 --> VarE: 0.0001416615958399722\n",
      "eps: 0.015395799449762588 --> VarE: 0.00016480050942331334\n",
      "eps: 0.0161824918644704 --> VarE: 0.00019534229464809676\n",
      "eps: 0.01700886308957417 --> VarE: 0.00023479569105886648\n",
      "eps: 0.01787672827671493 --> VarE: 0.00028523381246097385\n",
      "eps: 0.018787928018391572 --> VarE: 0.00035061381049186156\n",
      "eps: 0.01974428185490719 --> VarE: 0.0004387012504712779\n",
      "eps: 0.02074748888663655 --> VarE: 0.0005626378757187285\n",
      "eps: 0.021798967013407774 --> VarE: 0.0006087702591728255\n",
      "eps: 0.022902677238550235 --> VarE: 0.0008018367455470839\n",
      "eps: 0.024057624587214176 --> VarE: 0.0010784262654853932\n",
      "eps: 0.025263825506772752 --> VarE: 0.0014644258053742333\n",
      "eps: 0.026520264129192492 --> VarE: 0.0019823690508309075\n",
      "eps: 0.027824773468644957 --> VarE: 0.002647868154293485\n",
      "eps: 0.02917402876620723 --> VarE: 0.004131013711354869\n",
      "eps: 0.03054337712227931 --> VarE: 0.0051293687380941375\n",
      "eps: 0.03194509044223152 --> VarE: 0.006183358421516055\n",
      "eps: 0.03337593551750533 --> VarE: 0.007227078919210072\n",
      "eps: 0.03483449278565589 --> VarE: 0.008205293287239741\n",
      "eps: 0.0363212429234496 --> VarE: 0.009104937384391741\n",
      "eps: 0.03783739265047064 --> VarE: 0.009953528054571737\n",
      "eps: 0.03938339611846658 --> VarE: 0.010794513483414632\n",
      "eps: 0.04095810830422223 --> VarE: 0.011672274102753668\n",
      "eps: 0.042558411543596526 --> VarE: 0.01263321770991307\n",
      "eps: 0.04417876765501698 --> VarE: 0.01373932382506624\n",
      "eps: 0.045810117830315855 --> VarE: 0.01507494204683268\n",
      "eps: 0.04743830563056846 --> VarE: 0.016720694751547558\n",
      "eps: 0.04904358258238435 --> VarE: 0.01870074570111207\n",
      "eps: 0.050602885357772937 --> VarE: 0.020968892136162137\n",
      "eps: 0.05209347523022609 --> VarE: 0.02342873696664952\n",
      "eps: 0.05349621846174434 --> VarE: 0.02595145937589503\n",
      "eps: 0.05479831849414923 --> VarE: 0.028383873744626042\n",
      "eps: 0.05599574105900446 --> VarE: 0.03061165057941903\n",
      "eps: 0.05709199902819662 --> VarE: 0.0325660195530431\n",
      "eps: 0.058096066840694294 --> VarE: 0.034242031399065696\n",
      "eps: 0.0590187938960652 --> VarE: 0.03567492557009028\n",
      "eps: 0.059870327087847494 --> VarE: 0.03689727282901562\n",
      "eps: 0.06065995348193621 --> VarE: 0.03794045329209071\n",
      "eps: 0.06139591377867062 --> VarE: 0.0388382831514522\n",
      "eps: 0.06208503632484214 --> VarE: 0.03962191700879708\n",
      "eps: 0.06273271500271417 --> VarE: 0.040315198991277834\n",
      "eps: 0.0633432204040414 --> VarE: 0.04093354020407434\n",
      "eps: 0.06392013047931884 --> VarE: 0.041486860069910744\n",
      "eps: 0.06446661434076498 --> VarE: 0.04198398005732627\n",
      "eps: 0.06498545675427402 --> VarE: 0.04243464149071481\n",
      "eps: 0.0654789594410998 --> VarE: 0.04284830417427458\n",
      "eps: 0.06594892355912493 --> VarE: 0.04323218545369086\n",
      "eps: 0.06639676739592537 --> VarE: 0.043590634055936515\n",
      "eps: 0.06682369528268325 --> VarE: 0.04392588549507768\n",
      "eps: 0.06723082528484824 --> VarE: 0.04423929858042034\n",
      "eps: 0.06761923969106771 --> VarE: 0.04453234482918893\n",
      "eps: 0.06798997096841203 --> VarE: 0.04480704058657331\n",
      "eps: 0.06834395845400087 --> VarE: 0.0450658477101171\n"
     ]
    },
    {
     "name": "stderr",
     "output_type": "stream",
     "text": [
      "\u001b[36m\u001b[1m[ \u001b[22m\u001b[39m\u001b[36m\u001b[1mInfo: \u001b[22m\u001b[39mVarE condition met during eps tuning at step: 55\n",
      "\u001b[36m\u001b[1m[ \u001b[22m\u001b[39m\u001b[36m\u001b[1mInfo: \u001b[22m\u001b[39mFound eps: 0.06834395845400087 ✅\n"
     ]
    }
   ],
   "source": [
    "samples_ensemble_mchmc = Sample(MCHMC(100; varE_wanted=0.05), target, 1000, 100;\n",
    "   monitor_energy=true, \n",
    "   dialog=true);"
   ]
  },
  {
   "cell_type": "code",
   "execution_count": 44,
   "id": "197541d7",
   "metadata": {},
   "outputs": [],
   "source": [
    "Wms_ensemble_mchmc = [sample[1] for sample in samples_ensemble_mchmc]\n",
    "s8s_ensemble_mchmc = [sample[2] for sample in samples_ensemble_mchmc];"
   ]
  },
  {
   "cell_type": "code",
   "execution_count": 45,
   "id": "654b0195",
   "metadata": {},
   "outputs": [
    {
     "data": {
      "image/png": "[encoded data removed]",
      "text/plain": [
       "Figure(PyObject <Figure size 640x480 with 1 Axes>)"
      ]
     },
     "metadata": {},
     "output_type": "display_data"
    }
   ],
   "source": [
    "plt.hist2d(Wms_ensemble_mchmc, s8s_ensemble_mchmc, bins=100, range=[[0.1, 0.6],[0.6, 1.2]]);\n",
    "plt.xlabel(\"Wm\")\n",
    "plt.ylabel(\"s8\")\n",
    "plt.title(\"Ensemble MCHMC - RSD model\");"
   ]
  },
  {
   "cell_type": "markdown",
   "id": "b9b6311f",
   "metadata": {},
   "source": [
    "##  AbstractMCMC"
   ]
  },
  {
   "cell_type": "code",
   "execution_count": 14,
   "id": "d569b9dc",
   "metadata": {},
   "outputs": [
    {
     "ename": "LoadError",
     "evalue": "UndefVarError: `MCHMC` not defined",
     "output_type": "error",
     "traceback": [
      "UndefVarError: `MCHMC` not defined",
      "",
      "Stacktrace:",
      " [1] top-level scope",
      "   @ In[14]:1"
     ]
    }
   ],
   "source": [
    "samples = sample(\n",
    "    stat_model, MCHMC(varE_wanted=2.0), 10000;\n",
    "    monitor_energy=true, \n",
    "    dialog=true)"
   ]
  },
  {
   "cell_type": "code",
   "execution_count": 15,
   "id": "eea6e813",
   "metadata": {},
   "outputs": [
    {
     "ename": "LoadError",
     "evalue": "UndefVarError: `MCHMC` not defined",
     "output_type": "error",
     "traceback": [
      "UndefVarError: `MCHMC` not defined",
      "",
      "Stacktrace:",
      " [1] top-level scope",
      "   @ In[15]:1"
     ]
    }
   ],
   "source": [
    "new_samples = sample(stat_model, MCHMC(varE_wanted=2.0), 10000; \n",
    "                     monitor_energy=true, \n",
    "                     progress=true, resume_from=samples)"
   ]
  },
  {
   "cell_type": "markdown",
   "id": "f7fdb382",
   "metadata": {},
   "source": [
    "## Ensemble AbstractMCMC"
   ]
  },
  {
   "cell_type": "code",
   "execution_count": 16,
   "id": "16856966",
   "metadata": {
    "scrolled": false
   },
   "outputs": [
    {
     "ename": "LoadError",
     "evalue": "UndefVarError: `MCHMC` not defined",
     "output_type": "error",
     "traceback": [
      "UndefVarError: `MCHMC` not defined",
      "",
      "Stacktrace:",
      " [1] top-level scope",
      "   @ In[16]:1"
     ]
    }
   ],
   "source": [
    "samples = sample(stat_model, MCHMC(100), 1000, 100)"
   ]
  },
  {
   "cell_type": "code",
   "execution_count": 17,
   "id": "603dfac8",
   "metadata": {},
   "outputs": [
    {
     "ename": "LoadError",
     "evalue": "UndefVarError: `MCHMC` not defined",
     "output_type": "error",
     "traceback": [
      "UndefVarError: `MCHMC` not defined",
      "",
      "Stacktrace:",
      " [1] top-level scope",
      "   @ In[17]:1"
     ]
    }
   ],
   "source": [
    "new_samples = sample(stat_model, MCHMC(100), 1000, 100; \n",
    "                     resume_from=samples)"
   ]
  },
  {
   "cell_type": "markdown",
   "id": "767048c5",
   "metadata": {},
   "source": [
    "## Parallelization"
   ]
  },
  {
   "cell_type": "code",
   "execution_count": 18,
   "id": "42cf1f7f",
   "metadata": {
    "scrolled": true
   },
   "outputs": [
    {
     "ename": "LoadError",
     "evalue": "UndefVarError: `MCHMC` not defined",
     "output_type": "error",
     "traceback": [
      "UndefVarError: `MCHMC` not defined",
      "",
      "Stacktrace:",
      " [1] top-level scope",
      "   @ In[18]:1"
     ]
    }
   ],
   "source": [
    "samples = sample(\n",
    "    stat_model, MCHMC(varE_wanted=2.0), MCMCThreads(), 30000, 4;\n",
    "    monitor_energy=true, \n",
    "    dialog=true)"
   ]
  },
  {
   "cell_type": "code",
   "execution_count": 19,
   "id": "2e8cd8ab",
   "metadata": {
    "scrolled": false
   },
   "outputs": [
    {
     "ename": "LoadError",
     "evalue": "UndefVarError: `MCHMC` not defined",
     "output_type": "error",
     "traceback": [
      "UndefVarError: `MCHMC` not defined",
      "",
      "Stacktrace:",
      " [1] top-level scope",
      "   @ In[19]:1"
     ]
    }
   ],
   "source": [
    "new_samples = sample(\n",
    "    stat_model, MCHMC(varE_wanted=2.0), MCMCThreads(), 30000, 4;\n",
    "    monitor_energy=true, \n",
    "    dialog=true, \n",
    "    resume_from=samples)"
   ]
  },
  {
   "cell_type": "markdown",
   "id": "4aadd3b5",
   "metadata": {},
   "source": [
    "## NUTS"
   ]
  },
  {
   "cell_type": "code",
   "execution_count": 20,
   "id": "dcbe40a3",
   "metadata": {},
   "outputs": [
    {
     "name": "stderr",
     "output_type": "stream",
     "text": [
      "\u001b[36m\u001b[1m┌ \u001b[22m\u001b[39m\u001b[36m\u001b[1mInfo: \u001b[22m\u001b[39mFound initial step size\n",
      "\u001b[36m\u001b[1m└ \u001b[22m\u001b[39m  ϵ = 0.05\n",
      "\u001b[32mSampling: 100%|█████████████████████████████████████████| Time: 0:00:05\u001b[39m\n"
     ]
    },
    {
     "data": {
      "text/plain": [
       "Chains MCMC chain (10000×14×1 Array{Float64, 3}):\n",
       "\n",
       "Iterations        = 11:1:10010\n",
       "Number of chains  = 1\n",
       "Samples per chain = 10000\n",
       "Wall duration     = 13.33 seconds\n",
       "Compute duration  = 13.33 seconds\n",
       "parameters        = Ωm, σ8\n",
       "internals         = lp, n_steps, is_accept, acceptance_rate, log_density, hamiltonian_energy, hamiltonian_energy_error, max_hamiltonian_energy_error, tree_depth, numerical_error, step_size, nom_step_size\n",
       "\n",
       "Summary Statistics\n",
       " \u001b[1m parameters \u001b[0m \u001b[1m    mean \u001b[0m \u001b[1m     std \u001b[0m \u001b[1m naive_se \u001b[0m \u001b[1m    mcse \u001b[0m \u001b[1m       ess \u001b[0m \u001b[1m    rhat \u001b[0m \u001b[1m \u001b[0m ⋯\n",
       " \u001b[90m     Symbol \u001b[0m \u001b[90m Float64 \u001b[0m \u001b[90m Float64 \u001b[0m \u001b[90m  Float64 \u001b[0m \u001b[90m Float64 \u001b[0m \u001b[90m   Float64 \u001b[0m \u001b[90m Float64 \u001b[0m \u001b[90m \u001b[0m ⋯\n",
       "\n",
       "          Ωm    0.2393    0.0677     0.0007    0.0016   1752.3964    1.0000    ⋯\n",
       "          σ8    0.8648    0.0619     0.0006    0.0012   2508.4763    0.9999    ⋯\n",
       "\u001b[36m                                                                1 column omitted\u001b[0m\n",
       "\n",
       "Quantiles\n",
       " \u001b[1m parameters \u001b[0m \u001b[1m    2.5% \u001b[0m \u001b[1m   25.0% \u001b[0m \u001b[1m   50.0% \u001b[0m \u001b[1m   75.0% \u001b[0m \u001b[1m   97.5% \u001b[0m\n",
       " \u001b[90m     Symbol \u001b[0m \u001b[90m Float64 \u001b[0m \u001b[90m Float64 \u001b[0m \u001b[90m Float64 \u001b[0m \u001b[90m Float64 \u001b[0m \u001b[90m Float64 \u001b[0m\n",
       "\n",
       "          Ωm    0.1338    0.1900    0.2300    0.2805    0.3921\n",
       "          σ8    0.7545    0.8215    0.8615    0.9036    0.9952\n"
      ]
     },
     "execution_count": 20,
     "metadata": {},
     "output_type": "execute_result"
    }
   ],
   "source": [
    "samples_hmc = sample(stat_model, NUTS(10, 0.65),\n",
    "                     10000, progress=true; save_state=true)"
   ]
  },
  {
   "cell_type": "code",
   "execution_count": 21,
   "id": "623ba990",
   "metadata": {},
   "outputs": [
    {
     "data": {
      "text/plain": [
       "3-dimensional AxisArray{Float64,3,...} with axes:\n",
       "    :iter, 11:1:10010\n",
       "    :var, [:Ωm, :σ8, :lp, :n_steps, :is_accept, :acceptance_rate, :log_density, :hamiltonian_energy, :hamiltonian_energy_error, :max_hamiltonian_energy_error, :tree_depth, :numerical_error, :step_size, :nom_step_size]\n",
       "    :chain, 1:1\n",
       "And data, a 10000×14×1 Array{Float64, 3}:\n",
       "[:, :, 1] =\n",
       " 0.346924  0.790773  14.9465  19.0  1.0  …  4.0  0.0  0.0453996  0.0453996\n",
       " 0.336729  0.762303  14.5147   7.0  1.0     2.0  0.0  0.0453996  0.0453996\n",
       " 0.31416   0.819226  15.4936  11.0  1.0     3.0  0.0  0.0453996  0.0453996\n",
       " 0.31416   0.819226  15.4936   3.0  1.0     1.0  0.0  0.0453996  0.0453996\n",
       " 0.190353  0.919131  15.9618  19.0  1.0     4.0  0.0  0.0453996  0.0453996\n",
       " 0.222322  0.876565  16.2844  23.0  1.0  …  4.0  0.0  0.0453996  0.0453996\n",
       " 0.195883  0.895707  16.1915  27.0  1.0     4.0  0.0  0.0453996  0.0453996\n",
       " 0.186104  0.842996  15.0478   7.0  1.0     2.0  0.0  0.0453996  0.0453996\n",
       " 0.23137   0.79984   14.9998  15.0  1.0     3.0  0.0  0.0453996  0.0453996\n",
       " 0.230097  0.82431   15.8225   3.0  1.0     2.0  0.0  0.0453996  0.0453996\n",
       " 0.250477  0.857956  16.1831  11.0  1.0  …  3.0  0.0  0.0453996  0.0453996\n",
       " 0.220337  0.842581  16.0736  23.0  1.0     4.0  0.0  0.0453996  0.0453996\n",
       " 0.227323  0.870092  16.2971  11.0  1.0     3.0  0.0  0.0453996  0.0453996\n",
       " ⋮                                       ⋱  ⋮                    \n",
       " 0.250767  0.801003  15.452   11.0  1.0     3.0  0.0  0.0453996  0.0453996\n",
       " 0.161894  0.915895  15.6032  27.0  1.0     4.0  0.0  0.0453996  0.0453996\n",
       " 0.160671  0.916484  15.5646   3.0  1.0  …  2.0  0.0  0.0453996  0.0453996\n",
       " 0.239076  0.817812  15.7905  27.0  1.0     4.0  0.0  0.0453996  0.0453996\n",
       " 0.240504  0.883169  15.9646   3.0  1.0     2.0  0.0  0.0453996  0.0453996\n",
       " 0.15937   0.908672  15.4313  19.0  1.0     4.0  0.0  0.0453996  0.0453996\n",
       " 0.162254  0.916854  15.6216   3.0  1.0     2.0  0.0  0.0453996  0.0453996\n",
       " 0.198969  0.869497  16.123   11.0  1.0  …  3.0  0.0  0.0453996  0.0453996\n",
       " 0.148247  0.882645  14.0583  15.0  1.0     3.0  0.0  0.0453996  0.0453996\n",
       " 0.12824   1.01417   13.9748  11.0  1.0     3.0  0.0  0.0453996  0.0453996\n",
       " 0.39254   0.803263  13.8202  35.0  1.0     5.0  0.0  0.0453996  0.0453996\n",
       " 0.364734  0.765972  14.375   11.0  1.0     3.0  0.0  0.0453996  0.0453996"
      ]
     },
     "execution_count": 21,
     "metadata": {},
     "output_type": "execute_result"
    }
   ],
   "source": [
    "samples_hmc.value"
   ]
  },
  {
   "cell_type": "code",
   "execution_count": 22,
   "id": "fa9db828",
   "metadata": {},
   "outputs": [],
   "source": [
    "Wms_hmc = vec(samples_hmc[\"Ωm\"])\n",
    "s8s_hmc = vec(samples_hmc[\"σ8\"]);"
   ]
  },
  {
   "cell_type": "code",
   "execution_count": 23,
   "id": "3d063a52",
   "metadata": {},
   "outputs": [
    {
     "data": {
      "image/png": "[encoded data removed]",
      "text/plain": [
       "Figure(PyObject <Figure size 640x480 with 1 Axes>)"
      ]
     },
     "metadata": {},
     "output_type": "display_data"
    }
   ],
   "source": [
    "plt.hist2d(Wms_hmc, s8s_hmc, bins=100, range=[[0.1, 0.4],[0.6, 1.2]]);\n",
    "plt.xlabel(\"Wm\")\n",
    "plt.ylabel(\"s8\")\n",
    "plt.title(\"NUTS - RSD model\");"
   ]
  }
 ],
 "metadata": {
  "kernelspec": {
   "display_name": "Julia_1.9 (5 threads) 1.9.0-beta3",
   "language": "julia",
   "name": "julia_1.9-_5-threads_-1.9"
  },
  "language_info": {
   "file_extension": ".jl",
   "mimetype": "application/julia",
   "name": "julia",
   "version": "1.9.0"
  }
 },
 "nbformat": 4,
 "nbformat_minor": 5
}
