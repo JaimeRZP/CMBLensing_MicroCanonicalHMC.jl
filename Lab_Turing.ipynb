{
 "cells": [
  {
   "cell_type": "markdown",
   "id": "91129cb1",
   "metadata": {},
   "source": [
    "# Turing Target Practice"
   ]
  },
  {
   "cell_type": "markdown",
   "id": "97121235",
   "metadata": {},
   "source": [
    "## Model"
   ]
  },
  {
   "cell_type": "code",
   "execution_count": 9,
   "id": "86b96c9e",
   "metadata": {},
   "outputs": [
    {
     "name": "stderr",
     "output_type": "stream",
     "text": [
      "\u001b[32m\u001b[1m  Activating\u001b[22m\u001b[39m project at `~/PhD/MCHMC.jl`\n"
     ]
    }
   ],
   "source": [
    "] activate \".\""
   ]
  },
  {
   "cell_type": "code",
   "execution_count": 10,
   "id": "baed58e3",
   "metadata": {},
   "outputs": [],
   "source": [
    "# The statistical inference frame-work we will use\n",
    "using Turing\n",
    "using Interpolations\n",
    "using ForwardDiff\n",
    "using LinearAlgebra\n",
    "using FFTW\n",
    "using PyPlot\n",
    "\n",
    "using Revise\n",
    "using MCHMC"
   ]
  },
  {
   "cell_type": "code",
   "execution_count": 11,
   "id": "a7d6f81c",
   "metadata": {},
   "outputs": [],
   "source": [
    "fs8_zs = [0.38, 0.51, 0.61, 1.48, 0.44, 0.6, 0.73, 0.6, 0.86, 0.067, 1.4]\n",
    "fs8_data = [0.49749, 0.457523, 0.436148, 0.462, 0.413, 0.39, 0.437, 0.55, 0.4, 0.423, 0.482]\n",
    "fs8_cov = [0.00203355 0.000811829 0.000264615 0.0 0.0 0.0 0.0 0.0 0.0 0.0 0.0;\n",
    "           0.000811829 0.00142289 0.000662824 0.0 0.0 0.0 0.0 0.0 0.0 0.0 0.0; \n",
    "           0.000264615 0.000662824 0.00118576 0.0 0.0 0.0 0.0 0.0 0.0 0.0 0.0;\n",
    "           0.0 0.0 0.0 0.002025 0.0 0.0 0.0 0.0 0.0 0.0 0.0;\n",
    "           0.0 0.0 0.0 0.0 0.0064 0.00257 0.0 0.0 0.0 0.0 0.0;\n",
    "           0.0 0.0 0.0 0.0 0.00257 0.003969 0.00254 0.0 0.0 0.0 0.0;\n",
    "           0.0 0.0 0.0 0.0 0.0 0.00254 0.005184 0.0 0.0 0.0 0.0;\n",
    "           0.0 0.0 0.0 0.0 0.0 0.0 0.0 0.0144 0.0 0.0 0.0;\n",
    "           0.0 0.0 0.0 0.0 0.0 0.0 0.0 0.0 0.0121 0.0 0.0; \n",
    "           0.0 0.0 0.0 0.0 0.0 0.0 0.0 0.0 0.0 0.003025 0.0;\n",
    "           0.0 0.0 0.0 0.0 0.0 0.0 0.0 0.0 0.0 0.0 0.013456000000000001];"
   ]
  },
  {
   "cell_type": "code",
   "execution_count": 12,
   "id": "1359a630",
   "metadata": {
    "code_folding": []
   },
   "outputs": [
    {
     "data": {
      "text/plain": [
       "make_fs8 (generic function with 1 method)"
      ]
     },
     "execution_count": 12,
     "metadata": {},
     "output_type": "execute_result"
    }
   ],
   "source": [
    "function make_fs8(Ωm, σ8; Ωr=8.24*10^-5)\n",
    "    # ODE solution for growth factor\n",
    "    x_Dz = LinRange(0, log(1+1100), 300)\n",
    "    dx_Dz = x_Dz[2]-x_Dz[1]\n",
    "    z_Dz = @.(exp(x_Dz) - 1)\n",
    "    a_Dz = @.(1/(1+z_Dz))\n",
    "    aa = reverse(a_Dz)\n",
    "    e =  @.(sqrt.(abs(Ωm)*(1+z_Dz)^3+Ωr*(1+z_Dz)^4+(1-Ωm-Ωr)))\n",
    "    ee = reverse(e)\n",
    "\n",
    "    dd = zeros(typeof(Ωm), 300)\n",
    "    yy = zeros(typeof(Ωm), 300)\n",
    "    dd[1] = aa[1]\n",
    "    yy[1] = aa[1]^3*ee[end]\n",
    "\n",
    "    for i in 1:(300-1)\n",
    "        A0 = -1.5 * Ωm / (aa[i]*ee[i])\n",
    "        B0 = -1. / (aa[i]^2*ee[i])\n",
    "        A1 = -1.5 * Ωm / (aa[i+1]*ee[i+1])\n",
    "        B1 = -1. / (aa[i+1]^2*ee[i+1])\n",
    "        yy[i+1] = (1+0.5*dx_Dz^2*A0*B0)*yy[i] + 0.5*(A0+A1)*dx_Dz*dd[i]\n",
    "        dd[i+1] = 0.5*(B0+B1)*dx_Dz*yy[i] + (1+0.5*dx_Dz^2*A0*B0)*dd[i]\n",
    "    end\n",
    "\n",
    "    y = reverse(yy)\n",
    "    d = reverse(dd)\n",
    "\n",
    "    Dzi = LinearInterpolation(z_Dz, d./d[1], extrapolation_bc=Line())\n",
    "    fs8zi = LinearInterpolation(z_Dz, -σ8 .* y./ (a_Dz.^2 .*e.*d[1]),\n",
    "                                 extrapolation_bc=Line())\n",
    "    return fs8zi\n",
    "end"
   ]
  },
  {
   "cell_type": "code",
   "execution_count": 13,
   "id": "8005e277",
   "metadata": {},
   "outputs": [],
   "source": [
    "@model function model(data; cov = fs8_cov) \n",
    "    # Define priors\n",
    "    #KiDS priors\n",
    "    Ωm ~ Normal(0.3, 0.1)\n",
    "    σ8 ~ Normal(0.8, 0.3)\n",
    "    fs8_itp = make_fs8(Ωm, σ8)\n",
    "    theory = fs8_itp(fs8_zs)\n",
    "    data ~ MvNormal(theory, cov)\n",
    "end;"
   ]
  },
  {
   "cell_type": "code",
   "execution_count": 14,
   "id": "1eebe796",
   "metadata": {},
   "outputs": [
    {
     "data": {
      "text/plain": [
       "DynamicPPL.Model{typeof(model), (:data, :cov), (:cov,), (), Tuple{Vector{Float64}, Matrix{Float64}}, Tuple{Matrix{Float64}}, DynamicPPL.DefaultContext}(model, (data = [0.49749, 0.457523, 0.436148, 0.462, 0.413, 0.39, 0.437, 0.55, 0.4, 0.423, 0.482], cov = [0.00203355 0.000811829 … 0.0 0.0; 0.000811829 0.00142289 … 0.0 0.0; … ; 0.0 0.0 … 0.003025 0.0; 0.0 0.0 … 0.0 0.013456000000000001]), (cov = [0.00203355 0.000811829 … 0.0 0.0; 0.000811829 0.00142289 … 0.0 0.0; … ; 0.0 0.0 … 0.003025 0.0; 0.0 0.0 … 0.0 0.013456000000000001],), DynamicPPL.DefaultContext())"
      ]
     },
     "execution_count": 14,
     "metadata": {},
     "output_type": "execute_result"
    }
   ],
   "source": [
    "stat_model = model(fs8_data)"
   ]
  },
  {
   "cell_type": "markdown",
   "id": "10dfa4cc",
   "metadata": {},
   "source": [
    "## Sampling"
   ]
  },
  {
   "cell_type": "code",
   "execution_count": 19,
   "id": "c8ed14a3",
   "metadata": {},
   "outputs": [],
   "source": [
    "target = TuringTarget(stat_model);"
   ]
  },
  {
   "cell_type": "code",
   "execution_count": 20,
   "id": "a79c2b35",
   "metadata": {},
   "outputs": [
    {
     "name": "stdout",
     "output_type": "stream",
     "text": [
      "L = 1.4142135623730951, eps = 0.0\n"
     ]
    },
    {
     "data": {
      "text/plain": [
       "Sampler(Settings(Random.MersenneTwister(0), 1.0, 0, 1000, 10, \"LF\"), Hyperparameters{Float64}(0.0, 1.4142135623730951, 0.0, 0.1931833275037836), MCHMC.Leapfrog)"
      ]
     },
     "execution_count": 20,
     "metadata": {},
     "output_type": "execute_result"
    }
   ],
   "source": [
    "mchmc = Sampler(0.0, sqrt(target.d), varE_wanted=1.0)"
   ]
  },
  {
   "cell_type": "code",
   "execution_count": 40,
   "id": "82938e27",
   "metadata": {},
   "outputs": [
    {
     "name": "stderr",
     "output_type": "stream",
     "text": [
      "\u001b[91m\u001b[1m┌ \u001b[22m\u001b[39m\u001b[91m\u001b[1mError: \u001b[22m\u001b[39mFailed to revise /home/jaimerz/PhD/MCHMC.jl/src/tuning.jl\n",
      "\u001b[91m\u001b[1m│ \u001b[22m\u001b[39m  exception =\n",
      "\u001b[91m\u001b[1m│ \u001b[22m\u001b[39m   LoadError: \"\\\"function\\\" at /home/jaimerz/PhD/MCHMC.jl/src/tuning.jl:2 expected \\\"end\\\", got \\\"positive_sequence_body_fn\\\"\"\n",
      "\u001b[91m\u001b[1m│ \u001b[22m\u001b[39m   Stacktrace:\n",
      "\u001b[91m\u001b[1m│ \u001b[22m\u001b[39m    [1] \u001b[0m\u001b[1mparse_source!\u001b[22m\u001b[0m\u001b[1m(\u001b[22m\u001b[90mmod_exprs_sigs\u001b[39m::\u001b[0mOrderedCollections.OrderedDict\u001b[90m{Module, OrderedCollections.OrderedDict{Revise.RelocatableExpr, Union{Nothing, Vector{Any}}}}\u001b[39m, \u001b[90msrc\u001b[39m::\u001b[0mString, \u001b[90mfilename\u001b[39m::\u001b[0mString, \u001b[90mmod\u001b[39m::\u001b[0mModule; \u001b[90mkwargs\u001b[39m::\u001b[0mBase.Pairs\u001b[90m{Symbol, Union{}, Tuple{}, NamedTuple{(), Tuple{}}}\u001b[39m\u001b[0m\u001b[1m)\u001b[22m\n",
      "\u001b[91m\u001b[1m│ \u001b[22m\u001b[39m   \u001b[90m   @\u001b[39m \u001b[33mRevise\u001b[39m \u001b[90m~/.julia/packages/Revise/VRgaS/src/\u001b[39m\u001b[90m\u001b[4mparsing.jl:45\u001b[24m\u001b[39m\n",
      "\u001b[91m\u001b[1m│ \u001b[22m\u001b[39m   in expression starting at /home/jaimerz/PhD/MCHMC.jl/src/tuning.jl:34\n",
      "\u001b[91m\u001b[1m└ \u001b[22m\u001b[39m\u001b[90m@ Revise ~/.julia/packages/Revise/VRgaS/src/packagedef.jl:716\u001b[39m\n"
     ]
    },
    {
     "data": {
      "text/html": [
       "<div><div style = \"float: left;\"><span>10000×3 DataFrame</span></div><div style = \"float: right;\"><span style = \"font-style: italic;\">9975 rows omitted</span></div><div style = \"clear: both;\"></div></div><div class = \"data-frame\" style = \"overflow-x: scroll;\"><table class = \"data-frame\" style = \"margin-bottom: 6px;\"><thead><tr class = \"header\"><th class = \"rowNumber\" style = \"font-weight: bold; text-align: right;\">Row</th><th style = \"text-align: left;\">Ω</th><th style = \"text-align: left;\">E</th><th style = \"text-align: left;\">logp</th></tr><tr class = \"subheader headerLastRow\"><th class = \"rowNumber\" style = \"font-weight: bold; text-align: right;\"></th><th title = \"Any\" style = \"text-align: left;\">Any</th><th title = \"Any\" style = \"text-align: left;\">Any</th><th title = \"Any\" style = \"text-align: left;\">Any</th></tr></thead><tbody><tr><td class = \"rowNumber\" style = \"font-weight: bold; text-align: right;\">1</td><td style = \"text-align: left;\">[0.372388, 0.934392]</td><td style = \"font-style: italic; text-align: left;\"></td><td style = \"text-align: left;\">8.93185</td></tr><tr><td class = \"rowNumber\" style = \"font-weight: bold; text-align: right;\">2</td><td style = \"text-align: left;\">[0.356833, 0.935873]</td><td style = \"font-style: italic; text-align: left;\"></td><td style = \"text-align: left;\">11.0212</td></tr><tr><td class = \"rowNumber\" style = \"font-weight: bold; text-align: right;\">3</td><td style = \"text-align: left;\">[0.346852, 0.923851]</td><td style = \"font-style: italic; text-align: left;\"></td><td style = \"text-align: left;\">12.8721</td></tr><tr><td class = \"rowNumber\" style = \"font-weight: bold; text-align: right;\">4</td><td style = \"text-align: left;\">[0.337405, 0.911406]</td><td style = \"font-style: italic; text-align: left;\"></td><td style = \"text-align: left;\">14.4742</td></tr><tr><td class = \"rowNumber\" style = \"font-weight: bold; text-align: right;\">5</td><td style = \"text-align: left;\">[0.327887, 0.899014]</td><td style = \"font-style: italic; text-align: left;\"></td><td style = \"text-align: left;\">15.8266</td></tr><tr><td class = \"rowNumber\" style = \"font-weight: bold; text-align: right;\">6</td><td style = \"text-align: left;\">[0.31829, 0.886683]</td><td style = \"font-style: italic; text-align: left;\"></td><td style = \"text-align: left;\">16.9279</td></tr><tr><td class = \"rowNumber\" style = \"font-weight: bold; text-align: right;\">7</td><td style = \"text-align: left;\">[0.308659, 0.874379]</td><td style = \"font-style: italic; text-align: left;\"></td><td style = \"text-align: left;\">17.7785</td></tr><tr><td class = \"rowNumber\" style = \"font-weight: bold; text-align: right;\">8</td><td style = \"text-align: left;\">[0.298365, 0.862625]</td><td style = \"font-style: italic; text-align: left;\"></td><td style = \"text-align: left;\">18.3779</td></tr><tr><td class = \"rowNumber\" style = \"font-weight: bold; text-align: right;\">9</td><td style = \"text-align: left;\">[0.287785, 0.851127]</td><td style = \"font-style: italic; text-align: left;\"></td><td style = \"text-align: left;\">18.7264</td></tr><tr><td class = \"rowNumber\" style = \"font-weight: bold; text-align: right;\">10</td><td style = \"text-align: left;\">[0.276559, 0.840259]</td><td style = \"font-style: italic; text-align: left;\"></td><td style = \"text-align: left;\">18.8208</td></tr><tr><td class = \"rowNumber\" style = \"font-weight: bold; text-align: right;\">11</td><td style = \"text-align: left;\">[0.265057, 0.829683]</td><td style = \"font-style: italic; text-align: left;\"></td><td style = \"text-align: left;\">18.6765</td></tr><tr><td class = \"rowNumber\" style = \"font-weight: bold; text-align: right;\">12</td><td style = \"text-align: left;\">[0.251998, 0.821104]</td><td style = \"font-style: italic; text-align: left;\"></td><td style = \"text-align: left;\">18.2739</td></tr><tr><td class = \"rowNumber\" style = \"font-weight: bold; text-align: right;\">13</td><td style = \"text-align: left;\">[0.238852, 0.812658]</td><td style = \"font-style: italic; text-align: left;\"></td><td style = \"text-align: left;\">17.7326</td></tr><tr><td style = \"text-align: right;\">&vellip;</td><td style = \"text-align: right;\">&vellip;</td><td style = \"text-align: right;\">&vellip;</td><td style = \"text-align: right;\">&vellip;</td></tr><tr><td class = \"rowNumber\" style = \"font-weight: bold; text-align: right;\">9989</td><td style = \"text-align: left;\">[0.328327, 0.803159]</td><td style = \"font-style: italic; text-align: left;\"></td><td style = \"text-align: left;\">18.2541</td></tr><tr><td class = \"rowNumber\" style = \"font-weight: bold; text-align: right;\">9990</td><td style = \"text-align: left;\">[0.312781, 0.801594]</td><td style = \"font-style: italic; text-align: left;\"></td><td style = \"text-align: left;\">18.3735</td></tr><tr><td class = \"rowNumber\" style = \"font-weight: bold; text-align: right;\">9991</td><td style = \"text-align: left;\">[0.297234, 0.800037]</td><td style = \"font-style: italic; text-align: left;\"></td><td style = \"text-align: left;\">18.4001</td></tr><tr><td class = \"rowNumber\" style = \"font-weight: bold; text-align: right;\">9992</td><td style = \"text-align: left;\">[0.28161, 0.799828]</td><td style = \"font-style: italic; text-align: left;\"></td><td style = \"text-align: left;\">18.4096</td></tr><tr><td class = \"rowNumber\" style = \"font-weight: bold; text-align: right;\">9993</td><td style = \"text-align: left;\">[0.266385, 0.803343]</td><td style = \"font-style: italic; text-align: left;\"></td><td style = \"text-align: left;\">18.5035</td></tr><tr><td class = \"rowNumber\" style = \"font-weight: bold; text-align: right;\">9994</td><td style = \"text-align: left;\">[0.253546, 0.812247]</td><td style = \"font-style: italic; text-align: left;\"></td><td style = \"text-align: left;\">18.674</td></tr><tr><td class = \"rowNumber\" style = \"font-weight: bold; text-align: right;\">9995</td><td style = \"text-align: left;\">[0.244555, 0.825026]</td><td style = \"font-style: italic; text-align: left;\"></td><td style = \"text-align: left;\">18.8628</td></tr><tr><td class = \"rowNumber\" style = \"font-weight: bold; text-align: right;\">9996</td><td style = \"text-align: left;\">[0.241567, 0.840363]</td><td style = \"font-style: italic; text-align: left;\"></td><td style = \"text-align: left;\">18.9197</td></tr><tr><td class = \"rowNumber\" style = \"font-weight: bold; text-align: right;\">9997</td><td style = \"text-align: left;\">[0.238861, 0.855752]</td><td style = \"font-style: italic; text-align: left;\"></td><td style = \"text-align: left;\">18.8469</td></tr><tr><td class = \"rowNumber\" style = \"font-weight: bold; text-align: right;\">9998</td><td style = \"text-align: left;\">[0.235647, 0.871043]</td><td style = \"font-style: italic; text-align: left;\"></td><td style = \"text-align: left;\">18.7221</td></tr><tr><td class = \"rowNumber\" style = \"font-weight: bold; text-align: right;\">9999</td><td style = \"text-align: left;\">[0.228135, 0.884743]</td><td style = \"font-style: italic; text-align: left;\"></td><td style = \"text-align: left;\">18.5629</td></tr><tr><td class = \"rowNumber\" style = \"font-weight: bold; text-align: right;\">10000</td><td style = \"text-align: left;\">[0.219645, 0.897861]</td><td style = \"font-style: italic; text-align: left;\"></td><td style = \"text-align: left;\">18.5013</td></tr></tbody></table></div>"
      ],
      "text/latex": [
       "\\begin{tabular}{r|ccc}\n",
       "\t& Ω & E & logp\\\\\n",
       "\t\\hline\n",
       "\t& Any & Any & Any\\\\\n",
       "\t\\hline\n",
       "\t1 & [0.372388, 0.934392] &  & 8.93185 \\\\\n",
       "\t2 & [0.356833, 0.935873] &  & 11.0212 \\\\\n",
       "\t3 & [0.346852, 0.923851] &  & 12.8721 \\\\\n",
       "\t4 & [0.337405, 0.911406] &  & 14.4742 \\\\\n",
       "\t5 & [0.327887, 0.899014] &  & 15.8266 \\\\\n",
       "\t6 & [0.31829, 0.886683] &  & 16.9279 \\\\\n",
       "\t7 & [0.308659, 0.874379] &  & 17.7785 \\\\\n",
       "\t8 & [0.298365, 0.862625] &  & 18.3779 \\\\\n",
       "\t9 & [0.287785, 0.851127] &  & 18.7264 \\\\\n",
       "\t10 & [0.276559, 0.840259] &  & 18.8208 \\\\\n",
       "\t11 & [0.265057, 0.829683] &  & 18.6765 \\\\\n",
       "\t12 & [0.251998, 0.821104] &  & 18.2739 \\\\\n",
       "\t13 & [0.238852, 0.812658] &  & 17.7326 \\\\\n",
       "\t14 & [0.223577, 0.809373] &  & 17.1989 \\\\\n",
       "\t15 & [0.208132, 0.811741] &  & 17.4863 \\\\\n",
       "\t16 & [0.201464, 0.825871] &  & 18.183 \\\\\n",
       "\t17 & [0.206289, 0.840733] &  & 18.6807 \\\\\n",
       "\t18 & [0.214916, 0.853761] &  & 18.8859 \\\\\n",
       "\t19 & [0.226191, 0.864578] &  & 18.7832 \\\\\n",
       "\t20 & [0.237802, 0.875033] &  & 18.4181 \\\\\n",
       "\t21 & [0.251349, 0.882819] &  & 17.9507 \\\\\n",
       "\t22 & [0.266802, 0.885132] &  & 17.7911 \\\\\n",
       "\t23 & [0.280662, 0.877918] &  & 18.1854 \\\\\n",
       "\t24 & [0.284249, 0.86271] &  & 18.5642 \\\\\n",
       "\t25 & [0.28203, 0.847243] &  & 18.7779 \\\\\n",
       "\t26 & [0.274252, 0.833692] &  & 18.745 \\\\\n",
       "\t27 & [0.26445, 0.821523] &  & 18.4563 \\\\\n",
       "\t28 & [0.253498, 0.81038] &  & 17.9329 \\\\\n",
       "\t29 & [0.24066, 0.801473] &  & 17.2637 \\\\\n",
       "\t30 & [0.225709, 0.796933] &  & 16.8812 \\\\\n",
       "\t$\\dots$ & $\\dots$ & $\\dots$ & $\\dots$ \\\\\n",
       "\\end{tabular}\n"
      ],
      "text/plain": [
       "\u001b[1m10000×3 DataFrame\u001b[0m\n",
       "\u001b[1m   Row \u001b[0m│\u001b[1m Ω                    \u001b[0m\u001b[1m E   \u001b[0m\u001b[1m logp    \u001b[0m\n",
       "       │\u001b[90m Any                  \u001b[0m\u001b[90m Any \u001b[0m\u001b[90m Any     \u001b[0m\n",
       "───────┼────────────────────────────────────\n",
       "     1 │ [0.372388, 0.934392] \u001b[90m     \u001b[0m 8.93185\n",
       "     2 │ [0.356833, 0.935873] \u001b[90m     \u001b[0m 11.0212\n",
       "     3 │ [0.346852, 0.923851] \u001b[90m     \u001b[0m 12.8721\n",
       "     4 │ [0.337405, 0.911406] \u001b[90m     \u001b[0m 14.4742\n",
       "     5 │ [0.327887, 0.899014] \u001b[90m     \u001b[0m 15.8266\n",
       "     6 │ [0.31829, 0.886683]  \u001b[90m     \u001b[0m 16.9279\n",
       "     7 │ [0.308659, 0.874379] \u001b[90m     \u001b[0m 17.7785\n",
       "     8 │ [0.298365, 0.862625] \u001b[90m     \u001b[0m 18.3779\n",
       "     9 │ [0.287785, 0.851127] \u001b[90m     \u001b[0m 18.7264\n",
       "    10 │ [0.276559, 0.840259] \u001b[90m     \u001b[0m 18.8208\n",
       "    11 │ [0.265057, 0.829683] \u001b[90m     \u001b[0m 18.6765\n",
       "   ⋮   │          ⋮             ⋮      ⋮\n",
       "  9991 │ [0.297234, 0.800037] \u001b[90m     \u001b[0m 18.4001\n",
       "  9992 │ [0.28161, 0.799828]  \u001b[90m     \u001b[0m 18.4096\n",
       "  9993 │ [0.266385, 0.803343] \u001b[90m     \u001b[0m 18.5035\n",
       "  9994 │ [0.253546, 0.812247] \u001b[90m     \u001b[0m 18.674\n",
       "  9995 │ [0.244555, 0.825026] \u001b[90m     \u001b[0m 18.8628\n",
       "  9996 │ [0.241567, 0.840363] \u001b[90m     \u001b[0m 18.9197\n",
       "  9997 │ [0.238861, 0.855752] \u001b[90m     \u001b[0m 18.8469\n",
       "  9998 │ [0.235647, 0.871043] \u001b[90m     \u001b[0m 18.7221\n",
       "  9999 │ [0.228135, 0.884743] \u001b[90m     \u001b[0m 18.5629\n",
       " 10000 │ [0.219645, 0.897861] \u001b[90m     \u001b[0m 18.5013\n",
       "\u001b[36m                           9979 rows omitted\u001b[0m"
      ]
     },
     "execution_count": 40,
     "metadata": {},
     "output_type": "execute_result"
    }
   ],
   "source": [
    "samples_mchmc = Sample(mchmc, target, 10000;\n",
    "                       #monitor_energy=true, \n",
    "                       dialog=true)"
   ]
  },
  {
   "cell_type": "code",
   "execution_count": 41,
   "id": "c0b0e593",
   "metadata": {},
   "outputs": [
    {
     "data": {
      "text/plain": [
       "10000×2 Matrix{ComplexF64}:\n",
       " 0.372388-2.0664e-18im   0.934392+4.9738e-18im\n",
       " 0.219645+3.93401e-18im  0.897861-3.2613e-19im\n",
       " 0.228135+1.19336e-17im  0.884743+6.47018e-18im\n",
       " 0.235647-3.98182e-18im  0.871043-6.40971e-18im\n",
       " 0.238861+1.70004e-17im  0.855752-2.22227e-17im\n",
       " 0.241567+1.78946e-17im  0.840363-4.37666e-18im\n",
       " 0.244555+6.21927e-18im  0.825026-1.24502e-17im\n",
       " 0.253546-9.52487e-18im  0.812247-6.51992e-18im\n",
       " 0.266385+7.11505e-18im  0.803343-1.54857e-17im\n",
       "  0.28161+5.88343e-18im  0.799828-1.41633e-17im\n",
       " 0.297234-9.66564e-18im  0.800037+4.9588e-18im\n",
       " 0.312781-5.39687e-18im  0.801594+1.3736e-17im\n",
       " 0.328327+2.5756e-18im   0.803159-3.542e-18im\n",
       "         ⋮               \n",
       " 0.238852-9.07421e-18im  0.812658+1.16523e-17im\n",
       " 0.251998+1.50594e-17im  0.821104-1.01543e-18im\n",
       " 0.265057+1.73505e-18im  0.829683+9.3883e-18im\n",
       " 0.276559-7.30787e-18im  0.840259+4.50323e-19im\n",
       " 0.287785+1.21657e-18im  0.851127+6.18674e-18im\n",
       " 0.298365+7.73454e-18im  0.862625-2.15447e-18im\n",
       " 0.308659+2.22937e-17im  0.874379-4.14786e-18im\n",
       "  0.31829+2.00558e-17im  0.886683-4.71404e-18im\n",
       " 0.327887+2.21755e-17im  0.899014-1.63034e-17im\n",
       " 0.337405+1.92465e-17im  0.911406-1.487e-17im\n",
       " 0.346852-8.3996e-18im   0.923851-3.42221e-18im\n",
       " 0.356833+2.04253e-18im  0.935873-2.91008e-18im"
      ]
     },
     "execution_count": 41,
     "metadata": {},
     "output_type": "execute_result"
    }
   ],
   "source": [
    "ifft(conj(fft(mapreduce(permutedims, vcat, samples_mchmc.Ω))))"
   ]
  },
  {
   "cell_type": "code",
   "execution_count": 42,
   "id": "34cb799e",
   "metadata": {},
   "outputs": [
    {
     "ename": "LoadError",
     "evalue": "MethodError: no method matching plan_fft(::Vector{Any}, ::UnitRange{Int64})\n\n\u001b[0mClosest candidates are:\n\u001b[0m  plan_fft(\u001b[91m::StridedArray{T, N}\u001b[39m, ::Any; flags, timelimit, num_threads) where {T<:Union{ComplexF32, ComplexF64}, N}\n\u001b[0m\u001b[90m   @\u001b[39m \u001b[32mFFTW\u001b[39m \u001b[90m~/.julia/packages/FFTW/sfy1o/src/\u001b[39m\u001b[90m\u001b[4mfft.jl:709\u001b[24m\u001b[39m\n\u001b[0m  plan_fft(\u001b[91m::AbstractArray{<:Real}\u001b[39m, ::Any; kws...)\n\u001b[0m\u001b[90m   @\u001b[39m \u001b[36mAbstractFFTs\u001b[39m \u001b[90m~/.julia/packages/AbstractFFTs/Wg2Yf/src/\u001b[39m\u001b[90m\u001b[4mdefinitions.jl:211\u001b[24m\u001b[39m\n\u001b[0m  plan_fft(\u001b[91m::AbstractArray{<:Complex{<:Union{Integer, Rational}}}\u001b[39m, ::Any; kws...)\n\u001b[0m\u001b[90m   @\u001b[39m \u001b[36mAbstractFFTs\u001b[39m \u001b[90m~/.julia/packages/AbstractFFTs/Wg2Yf/src/\u001b[39m\u001b[90m\u001b[4mdefinitions.jl:213\u001b[24m\u001b[39m\n\u001b[0m  ...\n",
     "output_type": "error",
     "traceback": [
      "MethodError: no method matching plan_fft(::Vector{Any}, ::UnitRange{Int64})\n\n\u001b[0mClosest candidates are:\n\u001b[0m  plan_fft(\u001b[91m::StridedArray{T, N}\u001b[39m, ::Any; flags, timelimit, num_threads) where {T<:Union{ComplexF32, ComplexF64}, N}\n\u001b[0m\u001b[90m   @\u001b[39m \u001b[32mFFTW\u001b[39m \u001b[90m~/.julia/packages/FFTW/sfy1o/src/\u001b[39m\u001b[90m\u001b[4mfft.jl:709\u001b[24m\u001b[39m\n\u001b[0m  plan_fft(\u001b[91m::AbstractArray{<:Real}\u001b[39m, ::Any; kws...)\n\u001b[0m\u001b[90m   @\u001b[39m \u001b[36mAbstractFFTs\u001b[39m \u001b[90m~/.julia/packages/AbstractFFTs/Wg2Yf/src/\u001b[39m\u001b[90m\u001b[4mdefinitions.jl:211\u001b[24m\u001b[39m\n\u001b[0m  plan_fft(\u001b[91m::AbstractArray{<:Complex{<:Union{Integer, Rational}}}\u001b[39m, ::Any; kws...)\n\u001b[0m\u001b[90m   @\u001b[39m \u001b[36mAbstractFFTs\u001b[39m \u001b[90m~/.julia/packages/AbstractFFTs/Wg2Yf/src/\u001b[39m\u001b[90m\u001b[4mdefinitions.jl:213\u001b[24m\u001b[39m\n\u001b[0m  ...\n",
      "",
      "Stacktrace:",
      " [1] plan_fft(x::Vector{Any}; kws::Base.Pairs{Symbol, Union{}, Tuple{}, NamedTuple{(), Tuple{}}})",
      "   @ AbstractFFTs ~/.julia/packages/AbstractFFTs/Wg2Yf/src/definitions.jl:64",
      " [2] plan_fft(x::Vector{Any})",
      "   @ AbstractFFTs ~/.julia/packages/AbstractFFTs/Wg2Yf/src/definitions.jl:64",
      " [3] fft(x::Vector{Any})",
      "   @ AbstractFFTs ~/.julia/packages/AbstractFFTs/Wg2Yf/src/definitions.jl:62",
      " [4] top-level scope",
      "   @ In[42]:1"
     ]
    }
   ],
   "source": [
    "fft(samples_mchmc.Ω)"
   ]
  },
  {
   "cell_type": "code",
   "execution_count": 43,
   "id": "9982a5de",
   "metadata": {},
   "outputs": [
    {
     "data": {
      "image/png": "[encoded data removed]",
      "text/plain": [
       "Figure(PyObject <Figure size 640x480 with 1 Axes>)"
      ]
     },
     "metadata": {},
     "output_type": "display_data"
    },
    {
     "data": {
      "text/plain": [
       "1-element Vector{PyCall.PyObject}:\n",
       " PyObject <matplotlib.lines.Line2D object at 0x7f39ae246790>"
      ]
     },
     "execution_count": 43,
     "metadata": {},
     "output_type": "execute_result"
    }
   ],
   "source": [
    "plt.plot(samples_mchmc.E[8000:end])"
   ]
  },
  {
   "cell_type": "code",
   "execution_count": 340,
   "id": "f966c9fb",
   "metadata": {},
   "outputs": [
    {
     "name": "stderr",
     "output_type": "stream",
     "text": [
      "\u001b[91m\u001b[1m┌ \u001b[22m\u001b[39m\u001b[91m\u001b[1mError: \u001b[22m\u001b[39mFailed to revise /home/jaimerz/PhD/MCHMC.jl/src/tuning.jl\n",
      "\u001b[91m\u001b[1m│ \u001b[22m\u001b[39m  exception =\n",
      "\u001b[91m\u001b[1m│ \u001b[22m\u001b[39m   LoadError: \"missing comma or ) in argument list\"\n",
      "\u001b[91m\u001b[1m│ \u001b[22m\u001b[39m   Stacktrace:\n",
      "\u001b[91m\u001b[1m│ \u001b[22m\u001b[39m    [1] \u001b[0m\u001b[1mparse_source!\u001b[22m\u001b[0m\u001b[1m(\u001b[22m\u001b[90mmod_exprs_sigs\u001b[39m::\u001b[0mOrderedCollections.OrderedDict\u001b[90m{Module, OrderedCollections.OrderedDict{Revise.RelocatableExpr, Union{Nothing, Vector{Any}}}}\u001b[39m, \u001b[90msrc\u001b[39m::\u001b[0mString, \u001b[90mfilename\u001b[39m::\u001b[0mString, \u001b[90mmod\u001b[39m::\u001b[0mModule; \u001b[90mkwargs\u001b[39m::\u001b[0mBase.Pairs\u001b[90m{Symbol, Union{}, Tuple{}, NamedTuple{(), Tuple{}}}\u001b[39m\u001b[0m\u001b[1m)\u001b[22m\n",
      "\u001b[91m\u001b[1m│ \u001b[22m\u001b[39m   \u001b[90m   @\u001b[39m \u001b[35mRevise\u001b[39m \u001b[90m~/.julia/packages/Revise/VRgaS/src/\u001b[39m\u001b[90m\u001b[4mparsing.jl:45\u001b[24m\u001b[39m\n",
      "\u001b[91m\u001b[1m│ \u001b[22m\u001b[39m   in expression starting at /home/jaimerz/PhD/MCHMC.jl/src/tuning.jl:21\n",
      "\u001b[91m\u001b[1m└ \u001b[22m\u001b[39m\u001b[90m@ Revise ~/.julia/packages/Revise/VRgaS/src/packagedef.jl:716\u001b[39m\n",
      "\u001b[33m\u001b[1m┌ \u001b[22m\u001b[39m\u001b[33m\u001b[1mWarning: \u001b[22m\u001b[39mThe running code does not match the saved version for the following files:\n",
      "\u001b[33m\u001b[1m│ \u001b[22m\u001b[39m\n",
      "\u001b[33m\u001b[1m│ \u001b[22m\u001b[39m  /home/jaimerz/PhD/MCHMC.jl/src/tuning.jl\n",
      "\u001b[33m\u001b[1m│ \u001b[22m\u001b[39m\n",
      "\u001b[33m\u001b[1m│ \u001b[22m\u001b[39mIf the error was due to evaluation order, it can sometimes be resolved by calling `Revise.retry()`.\n",
      "\u001b[33m\u001b[1m│ \u001b[22m\u001b[39mUse Revise.errors() to report errors again. Only the first error in each file is shown.\n",
      "\u001b[33m\u001b[1m│ \u001b[22m\u001b[39mYour prompt color may be yellow until the errors are resolved.\n",
      "\u001b[33m\u001b[1m└ \u001b[22m\u001b[39m\u001b[90m@ Revise ~/.julia/packages/Revise/VRgaS/src/packagedef.jl:824\u001b[39m\n"
     ]
    },
    {
     "data": {
      "text/plain": [
       "-0.0017679275567858018"
      ]
     },
     "execution_count": 340,
     "metadata": {},
     "output_type": "execute_result"
    }
   ],
   "source": [
    "mean(samples_mchmc.E[8000:end])"
   ]
  },
  {
   "cell_type": "code",
   "execution_count": 341,
   "id": "999faaf8",
   "metadata": {},
   "outputs": [
    {
     "data": {
      "text/plain": [
       "0.1629104933574212"
      ]
     },
     "execution_count": 341,
     "metadata": {},
     "output_type": "execute_result"
    }
   ],
   "source": [
    "std(samples_mchmc.E[8000:end])^2/target.d"
   ]
  },
  {
   "cell_type": "code",
   "execution_count": 46,
   "id": "385a8b1a",
   "metadata": {},
   "outputs": [],
   "source": [
    "Wms_mchmc = [sample[1] for sample in samples_mchmc.Ω]\n",
    "s8s_mchmc = [sample[2] for sample in samples_mchmc.Ω];"
   ]
  },
  {
   "cell_type": "code",
   "execution_count": 47,
   "id": "2a803eb8",
   "metadata": {},
   "outputs": [
    {
     "data": {
      "image/png": "[encoded data removed]",
      "text/plain": [
       "Figure(PyObject <Figure size 640x480 with 1 Axes>)"
      ]
     },
     "metadata": {},
     "output_type": "display_data"
    }
   ],
   "source": [
    "plt.hist2d(Wms_mchmc, s8s_mchmc, bins=100, range=[[0.1, 0.4],[0.6, 1.2]]);\n",
    "plt.xlabel(\"Wm\")\n",
    "plt.ylabel(\"s8\")\n",
    "plt.title(\"MCHMC - RSD model - eps = 0.001 --> var[E]~0.00003\");"
   ]
  },
  {
   "cell_type": "markdown",
   "id": "4aadd3b5",
   "metadata": {},
   "source": [
    "## NUTS"
   ]
  },
  {
   "cell_type": "code",
   "execution_count": 102,
   "id": "dcbe40a3",
   "metadata": {},
   "outputs": [
    {
     "name": "stderr",
     "output_type": "stream",
     "text": [
      "\u001b[36m\u001b[1m┌ \u001b[22m\u001b[39m\u001b[36m\u001b[1mInfo: \u001b[22m\u001b[39mFound initial step size\n",
      "\u001b[36m\u001b[1m└ \u001b[22m\u001b[39m  ϵ = 0.05\n",
      "\u001b[32mSampling: 100%|█████████████████████████████████████████| Time: 0:00:02\u001b[39m\n"
     ]
    },
    {
     "data": {
      "text/plain": [
       "Chains MCMC chain (10000×14×1 Array{Float64, 3}):\n",
       "\n",
       "Iterations        = 501:1:10500\n",
       "Number of chains  = 1\n",
       "Samples per chain = 10000\n",
       "Wall duration     = 2.43 seconds\n",
       "Compute duration  = 2.43 seconds\n",
       "parameters        = Ωm, σ8\n",
       "internals         = lp, n_steps, is_accept, acceptance_rate, log_density, hamiltonian_energy, hamiltonian_energy_error, max_hamiltonian_energy_error, tree_depth, numerical_error, step_size, nom_step_size\n",
       "\n",
       "Summary Statistics\n",
       " \u001b[1m parameters \u001b[0m \u001b[1m    mean \u001b[0m \u001b[1m     std \u001b[0m \u001b[1m naive_se \u001b[0m \u001b[1m    mcse \u001b[0m \u001b[1m       ess \u001b[0m \u001b[1m    rhat \u001b[0m \u001b[1m \u001b[0m ⋯\n",
       " \u001b[90m     Symbol \u001b[0m \u001b[90m Float64 \u001b[0m \u001b[90m Float64 \u001b[0m \u001b[90m  Float64 \u001b[0m \u001b[90m Float64 \u001b[0m \u001b[90m   Float64 \u001b[0m \u001b[90m Float64 \u001b[0m \u001b[90m \u001b[0m ⋯\n",
       "\n",
       "          Ωm    0.2516    0.0598     0.0006    0.0012   2773.9550    0.9999    ⋯\n",
       "          σ8    0.8527    0.0543     0.0005    0.0011   2590.8094    0.9999    ⋯\n",
       "\u001b[36m                                                                1 column omitted\u001b[0m\n",
       "\n",
       "Quantiles\n",
       " \u001b[1m parameters \u001b[0m \u001b[1m    2.5% \u001b[0m \u001b[1m   25.0% \u001b[0m \u001b[1m   50.0% \u001b[0m \u001b[1m   75.0% \u001b[0m \u001b[1m   97.5% \u001b[0m\n",
       " \u001b[90m     Symbol \u001b[0m \u001b[90m Float64 \u001b[0m \u001b[90m Float64 \u001b[0m \u001b[90m Float64 \u001b[0m \u001b[90m Float64 \u001b[0m \u001b[90m Float64 \u001b[0m\n",
       "\n",
       "          Ωm    0.1503    0.2079    0.2468    0.2895    0.3825\n",
       "          σ8    0.7525    0.8143    0.8507    0.8884    0.9655\n"
      ]
     },
     "execution_count": 102,
     "metadata": {},
     "output_type": "execute_result"
    }
   ],
   "source": [
    "samples_hmc = sample(stat_model, NUTS(500, 0.65),\n",
    "                     10000, progress=true; save_state=true)"
   ]
  },
  {
   "cell_type": "code",
   "execution_count": 103,
   "id": "fa9db828",
   "metadata": {},
   "outputs": [],
   "source": [
    "Wms_hmc = vec(samples_hmc[\"Ωm\"])\n",
    "s8s_hmc = vec(samples_hmc[\"σ8\"]);"
   ]
  },
  {
   "cell_type": "code",
   "execution_count": 104,
   "id": "3d063a52",
   "metadata": {},
   "outputs": [
    {
     "data": {
      "image/png": "[encoded data removed]",
      "text/plain": [
       "Figure(PyObject <Figure size 640x480 with 1 Axes>)"
      ]
     },
     "metadata": {},
     "output_type": "display_data"
    }
   ],
   "source": [
    "plt.hist2d(Wms_hmc, s8s_hmc, bins=100, range=[[0.1, 0.4],[0.6, 1.2]]);\n",
    "plt.xlabel(\"Wm\")\n",
    "plt.ylabel(\"s8\")\n",
    "plt.title(\"HMC - RSD model\");"
   ]
  }
 ],
 "metadata": {
  "kernelspec": {
   "display_name": "Julia 1.9.0-beta3",
   "language": "julia",
   "name": "julia-1.9"
  },
  "language_info": {
   "file_extension": ".jl",
   "mimetype": "application/julia",
   "name": "julia",
   "version": "1.9.0"
  }
 },
 "nbformat": 4,
 "nbformat_minor": 5
}
