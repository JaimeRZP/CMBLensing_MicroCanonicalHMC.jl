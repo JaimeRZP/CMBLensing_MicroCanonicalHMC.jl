{
 "cells": [
  {
   "cell_type": "markdown",
   "id": "91129cb1",
   "metadata": {},
   "source": [
    "# Turing Target Practice"
   ]
  },
  {
   "cell_type": "markdown",
   "id": "97121235",
   "metadata": {},
   "source": [
    "## Model"
   ]
  },
  {
   "cell_type": "code",
   "execution_count": 1,
   "id": "baed58e3",
   "metadata": {},
   "outputs": [],
   "source": [
    "# The statistical inference frame-work we will use\n",
    "using Turing\n",
    "using Interpolations\n",
    "using ForwardDiff\n",
    "using LinearAlgebra\n",
    "using PyPlot\n",
    "\n",
    "using Revise\n",
    "using MCHMC"
   ]
  },
  {
   "cell_type": "code",
   "execution_count": 2,
   "id": "a7d6f81c",
   "metadata": {},
   "outputs": [],
   "source": [
    "fs8_zs = [0.38, 0.51, 0.61, 1.48, 0.44, 0.6, 0.73, 0.6, 0.86, 0.067, 1.4]\n",
    "fs8_data = [0.49749, 0.457523, 0.436148, 0.462, 0.413, 0.39, 0.437, 0.55, 0.4, 0.423, 0.482]\n",
    "fs8_cov = [0.00203355 0.000811829 0.000264615 0.0 0.0 0.0 0.0 0.0 0.0 0.0 0.0;\n",
    "           0.000811829 0.00142289 0.000662824 0.0 0.0 0.0 0.0 0.0 0.0 0.0 0.0; \n",
    "           0.000264615 0.000662824 0.00118576 0.0 0.0 0.0 0.0 0.0 0.0 0.0 0.0;\n",
    "           0.0 0.0 0.0 0.002025 0.0 0.0 0.0 0.0 0.0 0.0 0.0;\n",
    "           0.0 0.0 0.0 0.0 0.0064 0.00257 0.0 0.0 0.0 0.0 0.0;\n",
    "           0.0 0.0 0.0 0.0 0.00257 0.003969 0.00254 0.0 0.0 0.0 0.0;\n",
    "           0.0 0.0 0.0 0.0 0.0 0.00254 0.005184 0.0 0.0 0.0 0.0;\n",
    "           0.0 0.0 0.0 0.0 0.0 0.0 0.0 0.0144 0.0 0.0 0.0;\n",
    "           0.0 0.0 0.0 0.0 0.0 0.0 0.0 0.0 0.0121 0.0 0.0; \n",
    "           0.0 0.0 0.0 0.0 0.0 0.0 0.0 0.0 0.0 0.003025 0.0;\n",
    "           0.0 0.0 0.0 0.0 0.0 0.0 0.0 0.0 0.0 0.0 0.013456000000000001];"
   ]
  },
  {
   "cell_type": "code",
   "execution_count": 3,
   "id": "1359a630",
   "metadata": {
    "code_folding": []
   },
   "outputs": [
    {
     "data": {
      "text/plain": [
       "make_fs8 (generic function with 1 method)"
      ]
     },
     "execution_count": 3,
     "metadata": {},
     "output_type": "execute_result"
    }
   ],
   "source": [
    "function make_fs8(Ωm, σ8; Ωr=8.24*10^-5)\n",
    "    # ODE solution for growth factor\n",
    "    x_Dz = LinRange(0, log(1+1100), 300)\n",
    "    dx_Dz = x_Dz[2]-x_Dz[1]\n",
    "    z_Dz = @.(exp(x_Dz) - 1)\n",
    "    a_Dz = @.(1/(1+z_Dz))\n",
    "    aa = reverse(a_Dz)\n",
    "    e =  @.(sqrt.(abs(Ωm)*(1+z_Dz)^3+Ωr*(1+z_Dz)^4+(1-Ωm-Ωr)))\n",
    "    ee = reverse(e)\n",
    "\n",
    "    dd = zeros(typeof(Ωm), 300)\n",
    "    yy = zeros(typeof(Ωm), 300)\n",
    "    dd[1] = aa[1]\n",
    "    yy[1] = aa[1]^3*ee[end]\n",
    "\n",
    "    for i in 1:(300-1)\n",
    "        A0 = -1.5 * Ωm / (aa[i]*ee[i])\n",
    "        B0 = -1. / (aa[i]^2*ee[i])\n",
    "        A1 = -1.5 * Ωm / (aa[i+1]*ee[i+1])\n",
    "        B1 = -1. / (aa[i+1]^2*ee[i+1])\n",
    "        yy[i+1] = (1+0.5*dx_Dz^2*A0*B0)*yy[i] + 0.5*(A0+A1)*dx_Dz*dd[i]\n",
    "        dd[i+1] = 0.5*(B0+B1)*dx_Dz*yy[i] + (1+0.5*dx_Dz^2*A0*B0)*dd[i]\n",
    "    end\n",
    "\n",
    "    y = reverse(yy)\n",
    "    d = reverse(dd)\n",
    "\n",
    "    Dzi = LinearInterpolation(z_Dz, d./d[1], extrapolation_bc=Line())\n",
    "    fs8zi = LinearInterpolation(z_Dz, -σ8 .* y./ (a_Dz.^2 .*e.*d[1]),\n",
    "                                 extrapolation_bc=Line())\n",
    "    return fs8zi\n",
    "end"
   ]
  },
  {
   "cell_type": "code",
   "execution_count": 4,
   "id": "8005e277",
   "metadata": {},
   "outputs": [],
   "source": [
    "@model function model(data; cov = fs8_cov) \n",
    "    # Define priors\n",
    "    #KiDS priors\n",
    "    Ωm ~ Uniform(0.2, 0.25)\n",
    "    σ8 ~ Normal(0.8, 0.3)\n",
    "    fs8_itp = make_fs8(Ωm, σ8)\n",
    "    theory = fs8_itp(fs8_zs)\n",
    "    data ~ MvNormal(theory, cov)\n",
    "end;"
   ]
  },
  {
   "cell_type": "code",
   "execution_count": 5,
   "id": "1eebe796",
   "metadata": {},
   "outputs": [
    {
     "data": {
      "text/plain": [
       "DynamicPPL.Model{typeof(model), (:data, :cov), (:cov,), (), Tuple{Vector{Float64}, Matrix{Float64}}, Tuple{Matrix{Float64}}, DynamicPPL.DefaultContext}(model, (data = [0.49749, 0.457523, 0.436148, 0.462, 0.413, 0.39, 0.437, 0.55, 0.4, 0.423, 0.482], cov = [0.00203355 0.000811829 … 0.0 0.0; 0.000811829 0.00142289 … 0.0 0.0; … ; 0.0 0.0 … 0.003025 0.0; 0.0 0.0 … 0.0 0.013456000000000001]), (cov = [0.00203355 0.000811829 … 0.0 0.0; 0.000811829 0.00142289 … 0.0 0.0; … ; 0.0 0.0 … 0.003025 0.0; 0.0 0.0 … 0.0 0.013456000000000001],), DynamicPPL.DefaultContext())"
      ]
     },
     "execution_count": 5,
     "metadata": {},
     "output_type": "execute_result"
    }
   ],
   "source": [
    "stat_model = model(fs8_data)"
   ]
  },
  {
   "cell_type": "markdown",
   "id": "10dfa4cc",
   "metadata": {},
   "source": [
    "## Sampling"
   ]
  },
  {
   "cell_type": "code",
   "execution_count": 6,
   "id": "c8ed14a3",
   "metadata": {},
   "outputs": [],
   "source": [
    "target = TuringTarget(stat_model);"
   ]
  },
  {
   "cell_type": "code",
   "execution_count": 7,
   "id": "a79c2b35",
   "metadata": {},
   "outputs": [
    {
     "data": {
      "text/plain": [
       "Sampler(Settings(Random.MersenneTwister(0), 0.005, 1.4142135623730951, 0.0, 0.1931833275037836, 0.0005, 2000, 1000, 10, \"MN\"), MCHMC.Minimal_norm)"
      ]
     },
     "execution_count": 7,
     "metadata": {},
     "output_type": "execute_result"
    }
   ],
   "source": [
    "eps=0.005\n",
    "L=sqrt(2)\n",
    "mchmc = Sampler(eps=eps, L=L, integrator=\"MN\")"
   ]
  },
  {
   "cell_type": "code",
   "execution_count": 8,
   "id": "82938e27",
   "metadata": {},
   "outputs": [
    {
     "name": "stdout",
     "output_type": "stream",
     "text": [
      "  4.324501 seconds (13.96 M allocations: 2.987 GiB, 13.89% gc time)\n"
     ]
    }
   ],
   "source": [
    "samples_mchmc = Sample(mchmc, target; num_steps=10000);"
   ]
  },
  {
   "cell_type": "code",
   "execution_count": 11,
   "id": "4494e2dd",
   "metadata": {},
   "outputs": [
    {
     "data": {
      "text/plain": [
       "6003-element Vector{Vector{Float64}}:\n",
       " [0.22627618031756208, 0.9132955433486317]\n",
       " [0.22633829322747068, 0.9129819303176877]\n",
       " [0.2263989658236545, 0.9118731758099744]\n",
       " [0.22645647766688484, 0.9099668817345107]\n",
       " [0.22651028182047966, 0.9074579096272724]\n",
       " [0.22655522317098897, 0.9040013746661021]\n",
       " [0.22659123778496648, 0.8999249091504959]\n",
       " [0.2266200161493358, 0.8954923163728451]\n",
       " [0.226648274868048, 0.8910381432938191]\n",
       " [0.22667330341678804, 0.8864608038959783]\n",
       " [0.22669617403552844, 0.8818110764099365]\n",
       " [0.22671519745584826, 0.8770506739897911]\n",
       " [0.22673337636599813, 0.8722690049413441]\n",
       " ⋮\n",
       " [0.24999991453363835, 0.8269403385734754]\n",
       " [0.2499999146343379, 0.8317991733134643]\n",
       " [0.24999991470096683, 0.8367377697673831]\n",
       " [0.2499999147522065, 0.8417015079006902]\n",
       " [0.2499999147633193, 0.8466998073508715]\n",
       " [0.24999991477415698, 0.8516981898569822]\n",
       " [0.24999991477009859, 0.8566979630802402]\n",
       " [0.24999991479667716, 0.861688225594605]\n",
       " [0.24999991481627495, 0.8666829309898205]\n",
       " [0.24999991484755266, 0.8716694250248022]\n",
       " [0.24999991488377002, 0.8766512915449141]\n",
       " [0.2499999149226052, 0.8816304143367528]"
      ]
     },
     "execution_count": 11,
     "metadata": {},
     "output_type": "execute_result"
    }
   ],
   "source": [
    "samples_mchmc = samples_mchmc[2000:end]"
   ]
  },
  {
   "cell_type": "markdown",
   "id": "ee35a9d5",
   "metadata": {},
   "source": [
    "## Plotting"
   ]
  },
  {
   "cell_type": "code",
   "execution_count": 12,
   "id": "385a8b1a",
   "metadata": {},
   "outputs": [],
   "source": [
    "Wms_mchmc = [sample[1] for sample in samples_mchmc]\n",
    "s8s_mchmc = [sample[2] for sample in samples_mchmc];"
   ]
  },
  {
   "cell_type": "code",
   "execution_count": 13,
   "id": "2a803eb8",
   "metadata": {},
   "outputs": [
    {
     "data": {
      "image/png": "[encoded data removed]",
      "text/plain": [
       "Figure(PyObject <Figure size 640x480 with 1 Axes>)"
      ]
     },
     "metadata": {},
     "output_type": "display_data"
    }
   ],
   "source": [
    "plt.hist2d(Wms_mchmc, s8s_mchmc, bins=100, range=[[0.1, 0.4],[0.6, 1.2]]);\n",
    "plt.xlabel(\"Wm\")\n",
    "plt.ylabel(\"s8\")\n",
    "plt.title(\"MCHMC - RSD model\");"
   ]
  },
  {
   "cell_type": "markdown",
   "id": "4aadd3b5",
   "metadata": {},
   "source": [
    "## NUTS"
   ]
  },
  {
   "cell_type": "code",
   "execution_count": 13,
   "id": "dcbe40a3",
   "metadata": {},
   "outputs": [
    {
     "name": "stderr",
     "output_type": "stream",
     "text": [
      "\u001b[36m\u001b[1m┌ \u001b[22m\u001b[39m\u001b[36m\u001b[1mInfo: \u001b[22m\u001b[39mFound initial step size\n",
      "\u001b[36m\u001b[1m└ \u001b[22m\u001b[39m  ϵ = 0.05\n",
      "\u001b[32mSampling:   1%|▋                                        |  ETA: 0:00:08\u001b[39m\u001b[33m\u001b[1m┌ \u001b[22m\u001b[39m\u001b[33m\u001b[1mWarning: \u001b[22m\u001b[39mThe current proposal will be rejected due to numerical error(s).\n",
      "\u001b[33m\u001b[1m│ \u001b[22m\u001b[39m  isfinite.((θ, r, ℓπ, ℓκ)) = (true, false, false, false)\n",
      "\u001b[33m\u001b[1m└ \u001b[22m\u001b[39m\u001b[90m@ AdvancedHMC ~/.julia/packages/AdvancedHMC/4fByY/src/hamiltonian.jl:49\u001b[39m\n",
      "\u001b[33m\u001b[1m┌ \u001b[22m\u001b[39m\u001b[33m\u001b[1mWarning: \u001b[22m\u001b[39mThe current proposal will be rejected due to numerical error(s).\n",
      "\u001b[33m\u001b[1m│ \u001b[22m\u001b[39m  isfinite.((θ, r, ℓπ, ℓκ)) = (true, false, false, false)\n",
      "\u001b[33m\u001b[1m└ \u001b[22m\u001b[39m\u001b[90m@ AdvancedHMC ~/.julia/packages/AdvancedHMC/4fByY/src/hamiltonian.jl:49\u001b[39m\n",
      "\u001b[33m\u001b[1m┌ \u001b[22m\u001b[39m\u001b[33m\u001b[1mWarning: \u001b[22m\u001b[39mThe current proposal will be rejected due to numerical error(s).\n",
      "\u001b[33m\u001b[1m│ \u001b[22m\u001b[39m  isfinite.((θ, r, ℓπ, ℓκ)) = (true, false, false, false)\n",
      "\u001b[33m\u001b[1m└ \u001b[22m\u001b[39m\u001b[90m@ AdvancedHMC ~/.julia/packages/AdvancedHMC/4fByY/src/hamiltonian.jl:49\u001b[39m\n",
      "\u001b[32mSampling: 100%|█████████████████████████████████████████| Time: 0:00:02\u001b[39m\n"
     ]
    },
    {
     "name": "stdout",
     "output_type": "stream",
     "text": [
      " 19.462187 seconds (57.49 M allocations: 7.829 GiB, 11.46% gc time)\n"
     ]
    },
    {
     "data": {
      "text/plain": [
       "Chains MCMC chain (10000×14×1 Array{Float64, 3}):\n",
       "\n",
       "Iterations        = 501:1:10500\n",
       "Number of chains  = 1\n",
       "Samples per chain = 10000\n",
       "Wall duration     = 8.01 seconds\n",
       "Compute duration  = 8.01 seconds\n",
       "parameters        = Ωm, σ8\n",
       "internals         = lp, n_steps, is_accept, acceptance_rate, log_density, hamiltonian_energy, hamiltonian_energy_error, max_hamiltonian_energy_error, tree_depth, numerical_error, step_size, nom_step_size\n",
       "\n",
       "Summary Statistics\n",
       " \u001b[1m parameters \u001b[0m \u001b[1m    mean \u001b[0m \u001b[1m     std \u001b[0m \u001b[1m naive_se \u001b[0m \u001b[1m    mcse \u001b[0m \u001b[1m       ess \u001b[0m \u001b[1m    rhat \u001b[0m \u001b[1m \u001b[0m ⋯\n",
       " \u001b[90m     Symbol \u001b[0m \u001b[90m Float64 \u001b[0m \u001b[90m Float64 \u001b[0m \u001b[90m  Float64 \u001b[0m \u001b[90m Float64 \u001b[0m \u001b[90m   Float64 \u001b[0m \u001b[90m Float64 \u001b[0m \u001b[90m \u001b[0m ⋯\n",
       "\n",
       "          Ωm    0.2242    0.0143     0.0001    0.0002   7730.7450    1.0000    ⋯\n",
       "          σ8    0.8664    0.0394     0.0004    0.0005   7326.6762    0.9999    ⋯\n",
       "\u001b[36m                                                                1 column omitted\u001b[0m\n",
       "\n",
       "Quantiles\n",
       " \u001b[1m parameters \u001b[0m \u001b[1m    2.5% \u001b[0m \u001b[1m   25.0% \u001b[0m \u001b[1m   50.0% \u001b[0m \u001b[1m   75.0% \u001b[0m \u001b[1m   97.5% \u001b[0m\n",
       " \u001b[90m     Symbol \u001b[0m \u001b[90m Float64 \u001b[0m \u001b[90m Float64 \u001b[0m \u001b[90m Float64 \u001b[0m \u001b[90m Float64 \u001b[0m \u001b[90m Float64 \u001b[0m\n",
       "\n",
       "          Ωm    0.2012    0.2117    0.2239    0.2364    0.2483\n",
       "          σ8    0.7905    0.8394    0.8658    0.8928    0.9443\n"
      ]
     },
     "execution_count": 13,
     "metadata": {},
     "output_type": "execute_result"
    }
   ],
   "source": [
    "samples_hmc = sample(stat_model, NUTS(500, 0.65),\n",
    "                     10000, progress=true; save_state=true)"
   ]
  },
  {
   "cell_type": "code",
   "execution_count": 14,
   "id": "fa9db828",
   "metadata": {},
   "outputs": [],
   "source": [
    "Wms_hmc = vec(samples_hmc[\"Ωm\"])\n",
    "s8s_hmc = vec(samples_hmc[\"σ8\"]);"
   ]
  },
  {
   "cell_type": "code",
   "execution_count": 15,
   "id": "3d063a52",
   "metadata": {},
   "outputs": [
    {
     "data": {
      "image/png": "[encoded data removed]",
      "text/plain": [
       "Figure(PyObject <Figure size 640x480 with 1 Axes>)"
      ]
     },
     "metadata": {},
     "output_type": "display_data"
    }
   ],
   "source": [
    "plt.hist2d(Wms_hmc, s8s_hmc, bins=100, range=[[0.1, 0.4],[0.6, 1.2]]);\n",
    "plt.xlabel(\"Wm\")\n",
    "plt.ylabel(\"s8\")\n",
    "plt.title(\"HMC - RSD model\");"
   ]
  },
  {
   "cell_type": "code",
   "execution_count": 16,
   "id": "936eb78c",
   "metadata": {},
   "outputs": [
    {
     "data": {
      "image/png": "[encoded data removed]",
      "text/plain": [
       "Figure(PyObject <Figure size 640x480 with 1 Axes>)"
      ]
     },
     "metadata": {},
     "output_type": "display_data"
    },
    {
     "data": {
      "text/plain": [
       "PyObject <matplotlib.legend.Legend object at 0x7f2306a0e7c0>"
      ]
     },
     "execution_count": 16,
     "metadata": {},
     "output_type": "execute_result"
    }
   ],
   "source": [
    "plt.hist(Wms_mchmc, label=\"MCHMC\")\n",
    "plt.hist(Wms_hmc, label=\"HMC\")\n",
    "plt.xlabel(\"Wm\")\n",
    "plt.legend()"
   ]
  },
  {
   "cell_type": "code",
   "execution_count": 17,
   "id": "0b8ce1ad",
   "metadata": {},
   "outputs": [
    {
     "data": {
      "image/png": "[encoded data removed]",
      "text/plain": [
       "Figure(PyObject <Figure size 640x480 with 1 Axes>)"
      ]
     },
     "metadata": {},
     "output_type": "display_data"
    },
    {
     "data": {
      "text/plain": [
       "PyObject <matplotlib.legend.Legend object at 0x7f2306569370>"
      ]
     },
     "execution_count": 17,
     "metadata": {},
     "output_type": "execute_result"
    }
   ],
   "source": [
    "plt.hist(s8s_mchmc, label=\"MCHMC\")\n",
    "plt.hist(s8s_hmc, label=\"HMC\")\n",
    "plt.xlabel(\"s8\")\n",
    "plt.legend()"
   ]
  },
  {
   "cell_type": "code",
   "execution_count": 18,
   "id": "d0aae2ec",
   "metadata": {},
   "outputs": [
    {
     "ename": "LoadError",
     "evalue": "InitError: could not load library \"/home/jaimerz/.julia/artifacts/1cfe0ebb804cb8b0d7d1e8f98e5cda94b2b31b3d/lib/libgobject-2.0.so\"\n/home/jaimerz/.julia/artifacts/1cfe0ebb804cb8b0d7d1e8f98e5cda94b2b31b3d/lib/libgobject-2.0.so: undefined symbol: g_uri_ref\nduring initialization of module Glib_jll",
     "output_type": "error",
     "traceback": [
      "InitError: could not load library \"/home/jaimerz/.julia/artifacts/1cfe0ebb804cb8b0d7d1e8f98e5cda94b2b31b3d/lib/libgobject-2.0.so\"\n/home/jaimerz/.julia/artifacts/1cfe0ebb804cb8b0d7d1e8f98e5cda94b2b31b3d/lib/libgobject-2.0.so: undefined symbol: g_uri_ref\nduring initialization of module Glib_jll",
      "",
      "Stacktrace:",
      "  [1] dlopen(s::String, flags::UInt32; throw_error::Bool)",
      "    @ Base.Libc.Libdl ./libdl.jl:117",
      "  [2] dlopen(s::String, flags::UInt32)",
      "    @ Base.Libc.Libdl ./libdl.jl:116",
      "  [3] macro expansion",
      "    @ ~/.julia/packages/JLLWrappers/QpMQW/src/products/library_generators.jl:54 [inlined]",
      "  [4] __init__()",
      "    @ Glib_jll ~/.julia/packages/Glib_jll/EIruA/src/wrappers/x86_64-linux-gnu.jl:36",
      "  [5] register_restored_modules(sv::Core.SimpleVector, pkg::Base.PkgId, path::String)",
      "    @ Base ./loading.jl:1066",
      "  [6] _include_from_serialized(pkg::Base.PkgId, path::String, ocachepath::String, depmods::Vector{Any})",
      "    @ Base ./loading.jl:1010",
      "  [7] _tryrequire_from_serialized(modkey::Base.PkgId, path::String, ocachepath::String, sourcepath::String, depmods::Vector{Any})",
      "    @ Base ./loading.jl:1298",
      "  [8] _require_search_from_serialized(pkg::Base.PkgId, sourcepath::String, build_id::UInt128)",
      "    @ Base ./loading.jl:1401",
      "  [9] _require(pkg::Base.PkgId, env::String)",
      "    @ Base ./loading.jl:1690",
      " [10] _require_prelocked(uuidkey::Base.PkgId, env::String)",
      "    @ Base ./loading.jl:1567",
      " [11] macro expansion",
      "    @ ./loading.jl:1555 [inlined]",
      " [12] macro expansion",
      "    @ ./lock.jl:267 [inlined]",
      " [13] require(into::Module, mod::Symbol)",
      "    @ Base ./loading.jl:1518"
     ]
    }
   ],
   "source": [
    "using AverageShiftedHistograms, Plots"
   ]
  },
  {
   "cell_type": "code",
   "execution_count": 19,
   "id": "36f24ece",
   "metadata": {},
   "outputs": [],
   "source": [
    "Wm_hmc_ker = ash(Wms_hmc; m=30)\n",
    "s8_hmc_ker = ash(s8s_hmc; m=30)\n",
    "Wm_mchmc_ker = ash(Wms_mchmc; m=30)\n",
    "s8_mchmc_ker = ash(s8s_mchmc; m=30);"
   ]
  },
  {
   "cell_type": "code",
   "execution_count": 20,
   "id": "d9be1fbf",
   "metadata": {},
   "outputs": [
    {
     "ename": "LoadError",
     "evalue": "UndefVarError: `Plots` not defined",
     "output_type": "error",
     "traceback": [
      "UndefVarError: `Plots` not defined",
      "",
      "Stacktrace:",
      " [1] top-level scope",
      "   @ In[20]:1"
     ]
    }
   ],
   "source": [
    "Plots.plot(Wm_mchmc_ker; hist=false, label=\"MCHMC\")\n",
    "Plots.plot!(Wm_hmc_ker; hist=false, label=\"HMC\", xlabel=\"Wm\")"
   ]
  },
  {
   "cell_type": "code",
   "execution_count": 21,
   "id": "0059664f",
   "metadata": {},
   "outputs": [
    {
     "ename": "LoadError",
     "evalue": "UndefVarError: `Plots` not defined",
     "output_type": "error",
     "traceback": [
      "UndefVarError: `Plots` not defined",
      "",
      "Stacktrace:",
      " [1] top-level scope",
      "   @ In[21]:1"
     ]
    }
   ],
   "source": [
    "Plots.plot(s8_mchmc_ker; hist=false, label=\"MCHMC\")\n",
    "Plots.plot!(s8_hmc_ker; hist=false, label=\"HMC\",  xlabel=\"s8\")"
   ]
  },
  {
   "cell_type": "markdown",
   "id": "4e1d16c5",
   "metadata": {},
   "source": [
    "## Self-tuning"
   ]
  },
  {
   "cell_type": "code",
   "execution_count": 22,
   "id": "6a20faef",
   "metadata": {},
   "outputs": [
    {
     "name": "stdout",
     "output_type": "stream",
     "text": [
      "L = 0.0, eps = 0.0\n"
     ]
    }
   ],
   "source": [
    "mchmc = Sampler()\n",
    "println(string(\"L = \", mchmc.settings.L, \", eps = \", mchmc.settings.eps))\n",
    "# This should start self-tuning    "
   ]
  },
  {
   "cell_type": "code",
   "execution_count": 23,
   "id": "17d896dd",
   "metadata": {},
   "outputs": [
    {
     "data": {
      "text/plain": [
       "1000"
      ]
     },
     "execution_count": 23,
     "metadata": {},
     "output_type": "execute_result"
    }
   ],
   "source": [
    "mchmc.settings.tune_samples"
   ]
  },
  {
   "cell_type": "code",
   "execution_count": 24,
   "id": "c1d2ef02",
   "metadata": {},
   "outputs": [
    {
     "name": "stdout",
     "output_type": "stream",
     "text": [
      "Self-tuning hyperparameters\n",
      "Hyperparameter tuning (first stage)\n"
     ]
    },
    {
     "ename": "LoadError",
     "evalue": "UndefVarError: `samples` not defined",
     "output_type": "error",
     "traceback": [
      "UndefVarError: `samples` not defined",
      "",
      "Stacktrace:",
      " [1] _tuning(init::Tuple{Vector{Float64}, Vector{Float64}, Vector{Float64}, Float64, Float64}, sampler::Sampler, target::TuringTarget, props::Tuple{Float64, Float64, Bool})",
      "   @ MCHMC ~/.julia/packages/MCHMC/zMvR3/src/tuning.jl:95",
      " [2] tune_hyperparameters(init::Tuple{Vector{Float64}, Vector{Float64}, Vector{Float64}, Float64, Float64}, sampler::Sampler, target::TuringTarget; kwargs::Base.Pairs{Symbol, Integer, Tuple{Symbol, Symbol}, NamedTuple{(:num_steps, :dialog), Tuple{Int64, Bool}}})",
      "   @ MCHMC ~/.julia/packages/MCHMC/zMvR3/src/tuning.jl:185",
      " [3] kwcall(::NamedTuple{(:num_steps, :dialog), Tuple{Int64, Bool}}, ::typeof(MCHMC.tune_hyperparameters), init::Tuple{Vector{Float64}, Vector{Float64}, Vector{Float64}, Float64, Float64}, sampler::Sampler, target::TuringTarget)",
      "   @ MCHMC ~/.julia/packages/MCHMC/zMvR3/src/tuning.jl:157",
      " [4] _set_hyperparameters(init::Tuple{Vector{Float64}, Vector{Float64}, Vector{Float64}, Float64, Float64}, sampler::Sampler, target::TuringTarget; kwargs::Base.Pairs{Symbol, Integer, Tuple{Symbol, Symbol}, NamedTuple{(:num_steps, :dialog), Tuple{Int64, Bool}}})",
      "   @ MCHMC ~/.julia/packages/MCHMC/zMvR3/src/sampler.jl:130",
      " [5] kwcall(::NamedTuple{(:num_steps, :dialog), Tuple{Int64, Bool}}, ::typeof(MCHMC._set_hyperparameters), init::Tuple{Vector{Float64}, Vector{Float64}, Vector{Float64}, Float64, Float64}, sampler::Sampler, target::TuringTarget)",
      "   @ MCHMC ~/.julia/packages/MCHMC/zMvR3/src/sampler.jl:125",
      " [6] Sample(sampler::Sampler, target::TuringTarget; kwargs::Base.Pairs{Symbol, Integer, Tuple{Symbol, Symbol}, NamedTuple{(:num_steps, :dialog), Tuple{Int64, Bool}}})",
      "   @ MCHMC ~/.julia/packages/MCHMC/zMvR3/src/sampler.jl:166",
      " [7] kwcall(::NamedTuple{(:num_steps, :dialog), Tuple{Int64, Bool}}, ::typeof(Sample), sampler::Sampler, target::TuringTarget)",
      "   @ MCHMC ~/.julia/packages/MCHMC/zMvR3/src/sampler.jl:154",
      " [8] top-level scope",
      "   @ In[24]:1"
     ]
    }
   ],
   "source": [
    "samples = Sample(mchmc, target; num_steps=10000, dialog=true);"
   ]
  },
  {
   "cell_type": "code",
   "execution_count": null,
   "id": "f2e7d5c1",
   "metadata": {},
   "outputs": [],
   "source": []
  }
 ],
 "metadata": {
  "kernelspec": {
   "display_name": "Julia 1.9.0-beta3",
   "language": "julia",
   "name": "julia-1.9"
  },
  "language_info": {
   "file_extension": ".jl",
   "mimetype": "application/julia",
   "name": "julia",
   "version": "1.9.0"
  }
 },
 "nbformat": 4,
 "nbformat_minor": 5
}
