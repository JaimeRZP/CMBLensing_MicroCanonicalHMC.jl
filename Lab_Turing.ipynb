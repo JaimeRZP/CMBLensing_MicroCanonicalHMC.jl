{
 "cells": [
  {
   "cell_type": "markdown",
   "id": "91129cb1",
   "metadata": {},
   "source": [
    "# Turing Target Practice"
   ]
  },
  {
   "cell_type": "markdown",
   "id": "97121235",
   "metadata": {},
   "source": [
    "## Model"
   ]
  },
  {
   "cell_type": "code",
   "execution_count": 1,
   "id": "86b96c9e",
   "metadata": {},
   "outputs": [
    {
     "name": "stderr",
     "output_type": "stream",
     "text": [
      "\u001b[32m\u001b[1m  Activating\u001b[22m\u001b[39m project at `~/PhD/MicroCanonicalHMC.jl`\n"
     ]
    }
   ],
   "source": [
    "] activate \".\""
   ]
  },
  {
   "cell_type": "code",
   "execution_count": 2,
   "id": "baed58e3",
   "metadata": {},
   "outputs": [
    {
     "name": "stderr",
     "output_type": "stream",
     "text": [
      "\u001b[36m\u001b[1m[ \u001b[22m\u001b[39m\u001b[36m\u001b[1mInfo: \u001b[22m\u001b[39mPrecompiling MicroCanonicalHMC [234d2aa0-2291-45f7-9047-6fa6f316b0a8]\n"
     ]
    }
   ],
   "source": [
    "# The statistical inference frame-work we will use\n",
    "using Turing\n",
    "using Interpolations\n",
    "using ForwardDiff\n",
    "using LinearAlgebra\n",
    "#using StatsPlots\n",
    "using PyPlot\n",
    "using Distributed\n",
    "\n",
    "using Revise\n",
    "using MicroCanonicalHMC"
   ]
  },
  {
   "cell_type": "code",
   "execution_count": 3,
   "id": "a7d6f81c",
   "metadata": {},
   "outputs": [],
   "source": [
    "fs8_zs = [0.38, 0.51, 0.61, 1.48, 0.44, 0.6, 0.73, 0.6, 0.86, 0.067, 1.4]\n",
    "fs8_data = [0.49749, 0.457523, 0.436148, 0.462, 0.413, 0.39, 0.437, 0.55, 0.4, 0.423, 0.482]\n",
    "fs8_cov = [0.00203355 0.000811829 0.000264615 0.0 0.0 0.0 0.0 0.0 0.0 0.0 0.0;\n",
    "           0.000811829 0.00142289 0.000662824 0.0 0.0 0.0 0.0 0.0 0.0 0.0 0.0; \n",
    "           0.000264615 0.000662824 0.00118576 0.0 0.0 0.0 0.0 0.0 0.0 0.0 0.0;\n",
    "           0.0 0.0 0.0 0.002025 0.0 0.0 0.0 0.0 0.0 0.0 0.0;\n",
    "           0.0 0.0 0.0 0.0 0.0064 0.00257 0.0 0.0 0.0 0.0 0.0;\n",
    "           0.0 0.0 0.0 0.0 0.00257 0.003969 0.00254 0.0 0.0 0.0 0.0;\n",
    "           0.0 0.0 0.0 0.0 0.0 0.00254 0.005184 0.0 0.0 0.0 0.0;\n",
    "           0.0 0.0 0.0 0.0 0.0 0.0 0.0 0.0144 0.0 0.0 0.0;\n",
    "           0.0 0.0 0.0 0.0 0.0 0.0 0.0 0.0 0.0121 0.0 0.0; \n",
    "           0.0 0.0 0.0 0.0 0.0 0.0 0.0 0.0 0.0 0.003025 0.0;\n",
    "           0.0 0.0 0.0 0.0 0.0 0.0 0.0 0.0 0.0 0.0 0.013456000000000001];"
   ]
  },
  {
   "cell_type": "code",
   "execution_count": 4,
   "id": "1359a630",
   "metadata": {
    "code_folding": []
   },
   "outputs": [
    {
     "data": {
      "text/plain": [
       "make_fs8 (generic function with 1 method)"
      ]
     },
     "execution_count": 4,
     "metadata": {},
     "output_type": "execute_result"
    }
   ],
   "source": [
    "function make_fs8(Ωm, σ8; Ωr=8.24*10^-5)\n",
    "    # ODE solution for growth factor\n",
    "    x_Dz = LinRange(0, log(1+1100), 300)\n",
    "    dx_Dz = x_Dz[2]-x_Dz[1]\n",
    "    z_Dz = @.(exp(x_Dz) - 1)\n",
    "    a_Dz = @.(1/(1+z_Dz))\n",
    "    aa = reverse(a_Dz)\n",
    "    e =  @.(sqrt.(abs(Ωm)*(1+z_Dz)^3+Ωr*(1+z_Dz)^4+(1-Ωm-Ωr)))\n",
    "    ee = reverse(e)\n",
    "\n",
    "    dd = zeros(typeof(Ωm), 300)\n",
    "    yy = zeros(typeof(Ωm), 300)\n",
    "    dd[1] = aa[1]\n",
    "    yy[1] = aa[1]^3*ee[end]\n",
    "\n",
    "    for i in 1:(300-1)\n",
    "        A0 = -1.5 * Ωm / (aa[i]*ee[i])\n",
    "        B0 = -1. / (aa[i]^2*ee[i])\n",
    "        A1 = -1.5 * Ωm / (aa[i+1]*ee[i+1])\n",
    "        B1 = -1. / (aa[i+1]^2*ee[i+1])\n",
    "        yy[i+1] = (1+0.5*dx_Dz^2*A0*B0)*yy[i] + 0.5*(A0+A1)*dx_Dz*dd[i]\n",
    "        dd[i+1] = 0.5*(B0+B1)*dx_Dz*yy[i] + (1+0.5*dx_Dz^2*A0*B0)*dd[i]\n",
    "    end\n",
    "\n",
    "    y = reverse(yy)\n",
    "    d = reverse(dd)\n",
    "\n",
    "    Dzi = LinearInterpolation(z_Dz, d./d[1], extrapolation_bc=Line())\n",
    "    fs8zi = LinearInterpolation(z_Dz, -σ8 .* y./ (a_Dz.^2 .*e.*d[1]),\n",
    "                                 extrapolation_bc=Line())\n",
    "    return fs8zi\n",
    "end"
   ]
  },
  {
   "cell_type": "code",
   "execution_count": 5,
   "id": "8005e277",
   "metadata": {},
   "outputs": [],
   "source": [
    "@model function model(data; cov = fs8_cov) \n",
    "    # Define priors\n",
    "    #KiDS priors\n",
    "    Ωm ~ Uniform(0.2, 0.25)#~ Normal(0.3, 0.1)\n",
    "    σ8 ~ Normal(0.8, 0.3)\n",
    "    fs8_itp = make_fs8(Ωm, σ8)\n",
    "    theory = fs8_itp(fs8_zs)\n",
    "    data ~ MvNormal(theory, cov)\n",
    "end;"
   ]
  },
  {
   "cell_type": "code",
   "execution_count": 6,
   "id": "1eebe796",
   "metadata": {},
   "outputs": [
    {
     "data": {
      "text/plain": [
       "DynamicPPL.Model{typeof(model), (:data, :cov), (:cov,), (), Tuple{Vector{Float64}, Matrix{Float64}}, Tuple{Matrix{Float64}}, DynamicPPL.DefaultContext}(model, (data = [0.49749, 0.457523, 0.436148, 0.462, 0.413, 0.39, 0.437, 0.55, 0.4, 0.423, 0.482], cov = [0.00203355 0.000811829 … 0.0 0.0; 0.000811829 0.00142289 … 0.0 0.0; … ; 0.0 0.0 … 0.003025 0.0; 0.0 0.0 … 0.0 0.013456000000000001]), (cov = [0.00203355 0.000811829 … 0.0 0.0; 0.000811829 0.00142289 … 0.0 0.0; … ; 0.0 0.0 … 0.003025 0.0; 0.0 0.0 … 0.0 0.013456000000000001],), DynamicPPL.DefaultContext())"
      ]
     },
     "execution_count": 6,
     "metadata": {},
     "output_type": "execute_result"
    }
   ],
   "source": [
    "stat_model = model(fs8_data)"
   ]
  },
  {
   "cell_type": "markdown",
   "id": "10dfa4cc",
   "metadata": {},
   "source": [
    "## Sampling"
   ]
  },
  {
   "cell_type": "code",
   "execution_count": 7,
   "id": "c8ed14a3",
   "metadata": {},
   "outputs": [],
   "source": [
    "target = TuringTarget(stat_model);"
   ]
  },
  {
   "cell_type": "code",
   "execution_count": 8,
   "id": "a79c2b35",
   "metadata": {},
   "outputs": [
    {
     "data": {
      "text/plain": [
       "MicroCanonicalHMC.Sampler(Settings(Random.MersenneTwister(0), 2.0, 0, 1000, 10, \"LF\"), Hyperparameters{Float64}(0.0, 0.0, 0.0, 0.1931833275037836), MicroCanonicalHMC.Leapfrog)"
      ]
     },
     "execution_count": 8,
     "metadata": {},
     "output_type": "execute_result"
    }
   ],
   "source": [
    "spl = MCHMC(0.0, 0.0, varE_wanted=2.0) #sqrt(target.d)*0.01"
   ]
  },
  {
   "cell_type": "code",
   "execution_count": 9,
   "id": "bea9c39a",
   "metadata": {},
   "outputs": [
    {
     "data": {
      "text/plain": [
       "Hyperparameters{Float64}(0.0, 0.0, 0.0, 0.1931833275037836)"
      ]
     },
     "execution_count": 9,
     "metadata": {},
     "output_type": "execute_result"
    }
   ],
   "source": [
    "spl.hyperparameters"
   ]
  },
  {
   "cell_type": "code",
   "execution_count": 10,
   "id": "82938e27",
   "metadata": {
    "scrolled": false
   },
   "outputs": [
    {
     "name": "stderr",
     "output_type": "stream",
     "text": [
      "\u001b[36m\u001b[1m[ \u001b[22m\u001b[39m\u001b[36m\u001b[1mInfo: \u001b[22m\u001b[39mTuning eps ⏳\n"
     ]
    },
    {
     "name": "stdout",
     "output_type": "stream",
     "text": [
      "eps: 0.5 --> VarE: 144.21859932876725\n",
      "eps: 0.25 --> VarE: 126.42378115656223\n",
      "eps: 0.125 --> VarE: 23.81434272299488\n",
      "eps: 0.0625 --> VarE: 4.169655771251212\n",
      "eps: 0.03125 --> VarE: 1.1165045354177012\n"
     ]
    },
    {
     "name": "stderr",
     "output_type": "stream",
     "text": [
      "\u001b[36m\u001b[1m[ \u001b[22m\u001b[39m\u001b[36m\u001b[1mInfo: \u001b[22m\u001b[39mFound eps: 0.03125 ✅\n",
      "\u001b[36m\u001b[1m[ \u001b[22m\u001b[39m\u001b[36m\u001b[1mInfo: \u001b[22m\u001b[39mTuning L ⏳\n"
     ]
    },
    {
     "name": "stdout",
     "output_type": "stream",
     "text": [
      "samples: 100--> ESS: 0.024545924742340214\n",
      "samples: 243--> ESS: 0.010014289301261654\n",
      "samples: 447--> ESS: 0.017693271326143168\n",
      "samples: 739--> ESS: 0.020772523516066232\n"
     ]
    },
    {
     "name": "stderr",
     "output_type": "stream",
     "text": [
      "\u001b[36m\u001b[1m[ \u001b[22m\u001b[39m\u001b[36m\u001b[1mInfo: \u001b[22m\u001b[39mFound L: 1.4142135623730951 ✅\n"
     ]
    },
    {
     "data": {
      "text/plain": [
       "10001-element Vector{Any}:\n",
       " [0.23963295154980524, 1.0619361375541467, 0.0, 0.2943474445210097]\n",
       " [0.23963295154980524, 1.0619361375541467, 0.5829972486413573, 4.088321038252194]\n",
       " [0.2397596041471353, 1.0347911413013045, 8.016406296600401, 7.818852247359863]\n",
       " [0.23977185557086056, 1.0035774118089784, 10.385843343290372, 10.847045381078411]\n",
       " [0.2397769617914019, 0.9723337172959587, 8.363912360516569, 13.168654699555221]\n",
       " [0.239768642619062, 0.9411004532660118, 6.255454196356756, 14.782645632008904]\n",
       " [0.23976459173474352, 0.9098544170637721, 4.128328362364211, 15.686140330236016]\n",
       " [0.2397786628335694, 0.8786523119617247, 2.0052855459515566, 15.887578698057116]\n",
       " [0.23975365753853825, 0.847553693510705, -0.09303938134690348, 15.388003736600984]\n",
       " [0.2397261053877554, 0.8164868778317521, -2.1915930552013396, 14.184047292371616]\n",
       " [0.2397044514397285, 0.7853494983190105, -3.373766222388717, 12.684518486514415]\n",
       " [0.2395549647767082, 0.7599371587220601, -1.4607350811150717, 14.20749077112545]\n",
       " [0.2394063518273781, 0.7855582028989755, 3.6873773839866324, 15.398844070045296]\n",
       " ⋮\n",
       " [0.226266409955114, 0.8740910944158475, -0.33580033200140136, 15.79769829495545]\n",
       " [0.22633829895046437, 0.9048043948409211, -2.0798861542705307, 14.68335042029936]\n",
       " [0.22650008359645377, 0.9332290507830077, -2.003024508302195, 14.910067551766911]\n",
       " [0.2268835638150702, 0.9280638658316976, 1.3243813853931439, 15.964655170168935]\n",
       " [0.2269809128798611, 0.8978119338483684, 2.4168564331848756, 16.3641833910289]\n",
       " [0.2267864837795462, 0.8707591675405081, 0.6487915089295964, 16.24229981629151]\n",
       " [0.22658632954498428, 0.8439670925343173, -0.4907546209685485, 15.875528629472331]\n",
       " [0.22626593690248095, 0.8262110200318538, -0.5331798911834049, 16.033131517192718]\n",
       " [0.22588477928071543, 0.8327895074616675, 0.5011372295021008, 16.352017400601063]\n",
       " [0.22560276485002057, 0.8543914446925518, 0.562101591197699, 16.34326224538347]\n",
       " [0.22532577051249258, 0.8764179749471607, -0.33808016346920766, 15.948837076132905]\n",
       " [0.22507582355590847, 0.9004320117753939, -0.8353830470975705, 15.744110567450452]"
      ]
     },
     "execution_count": 10,
     "metadata": {},
     "output_type": "execute_result"
    }
   ],
   "source": [
    "samples_mchmc = Sample(spl, target, 10000;\n",
    "                       monitor_energy=true, \n",
    "                       dialog=true)"
   ]
  },
  {
   "cell_type": "code",
   "execution_count": 11,
   "id": "9982a5de",
   "metadata": {},
   "outputs": [],
   "source": [
    "#plt.plot(samples_mchmc.E[8000:end])"
   ]
  },
  {
   "cell_type": "code",
   "execution_count": 12,
   "id": "f966c9fb",
   "metadata": {},
   "outputs": [],
   "source": [
    "#mean(samples_mchmc.E[8000:end])"
   ]
  },
  {
   "cell_type": "code",
   "execution_count": 13,
   "id": "999faaf8",
   "metadata": {},
   "outputs": [],
   "source": [
    "#std(samples_mchmc.E[8000:end])^2/target.d"
   ]
  },
  {
   "cell_type": "code",
   "execution_count": 14,
   "id": "385a8b1a",
   "metadata": {},
   "outputs": [],
   "source": [
    "Wms_mchmc = [sample[1] for sample in samples_mchmc]\n",
    "s8s_mchmc = [sample[2] for sample in samples_mchmc];"
   ]
  },
  {
   "cell_type": "code",
   "execution_count": 15,
   "id": "2a803eb8",
   "metadata": {},
   "outputs": [
    {
     "data": {
      "image/png": "[encoded data removed]",
      "text/plain": [
       "Figure(PyObject <Figure size 640x480 with 1 Axes>)"
      ]
     },
     "metadata": {},
     "output_type": "display_data"
    }
   ],
   "source": [
    "plt.hist2d(Wms_mchmc, s8s_mchmc, bins=100, range=[[0.1, 0.4],[0.6, 1.2]]);\n",
    "plt.xlabel(\"Wm\")\n",
    "plt.ylabel(\"s8\")\n",
    "plt.title(\"MCHMC - RSD model - eps = 0.001 --> var[E]~0.00003\");"
   ]
  },
  {
   "cell_type": "markdown",
   "id": "0a03dd58",
   "metadata": {},
   "source": [
    "## AbstractMCMC"
   ]
  },
  {
   "cell_type": "code",
   "execution_count": 16,
   "id": "d569b9dc",
   "metadata": {},
   "outputs": [
    {
     "name": "stderr",
     "output_type": "stream",
     "text": [
      "\u001b[36m\u001b[1m[ \u001b[22m\u001b[39m\u001b[36m\u001b[1mInfo: \u001b[22m\u001b[39mTuning eps ⏳\n"
     ]
    },
    {
     "name": "stdout",
     "output_type": "stream",
     "text": [
      "eps: 0.5 --> VarE: 2121.248410781853\n",
      "eps: 0.25 --> VarE: 64.8674276815265\n",
      "eps: 0.125 --> VarE: 25.45832776951564\n",
      "eps: 0.0625 --> VarE: 4.399514528340661\n",
      "eps: 0.03125 --> VarE: 1.201978607294413\n",
      "samples: 100--> ESS: 0.02505023612849312\n",
      "samples: 243--> ESS: 0.009826823948880854\n",
      "samples: 447--> ESS: 0.020337408313307978\n",
      "samples: 739--> ESS: 0.02037780213726685\n"
     ]
    },
    {
     "name": "stderr",
     "output_type": "stream",
     "text": [
      "\u001b[36m\u001b[1m[ \u001b[22m\u001b[39m\u001b[36m\u001b[1mInfo: \u001b[22m\u001b[39mFound eps: 0.03125 ✅\n",
      "\u001b[36m\u001b[1m[ \u001b[22m\u001b[39m\u001b[36m\u001b[1mInfo: \u001b[22m\u001b[39mTuning L ⏳\n",
      "\u001b[36m\u001b[1m[ \u001b[22m\u001b[39m\u001b[36m\u001b[1mInfo: \u001b[22m\u001b[39mFound L: 1.4142135623730951 ✅\n",
      "\u001b[32mSampling: 100%|█████████████████████████████████████████| Time: 0:00:01\u001b[39m\n"
     ]
    },
    {
     "data": {
      "text/plain": [
       "Chains MCMC chain (10000×4×1 Array{Float64, 3}):\n",
       "\n",
       "Iterations        = 1:1:10000\n",
       "Number of chains  = 1\n",
       "Samples per chain = 10000\n",
       "Wall duration     = 2.32 seconds\n",
       "Compute duration  = 2.32 seconds\n",
       "parameters        = Ωm, σ8\n",
       "internals         = E, logp\n",
       "\n",
       "Summary Statistics\n",
       " \u001b[1m parameters \u001b[0m \u001b[1m    mean \u001b[0m \u001b[1m     std \u001b[0m \u001b[1m naive_se \u001b[0m \u001b[1m    mcse \u001b[0m \u001b[1m       ess \u001b[0m \u001b[1m    rhat \u001b[0m \u001b[1m \u001b[0m ⋯\n",
       " \u001b[90m     Symbol \u001b[0m \u001b[90m Float64 \u001b[0m \u001b[90m Float64 \u001b[0m \u001b[90m  Float64 \u001b[0m \u001b[90m Float64 \u001b[0m \u001b[90m   Float64 \u001b[0m \u001b[90m Float64 \u001b[0m \u001b[90m \u001b[0m ⋯\n",
       "\n",
       "          Ωm    0.2240    0.0147     0.0001    0.0014     32.3882    1.0116    ⋯\n",
       "          σ8    0.8668    0.0414     0.0004    0.0012   2781.5801    1.0008    ⋯\n",
       "\u001b[36m                                                                1 column omitted\u001b[0m\n",
       "\n",
       "Quantiles\n",
       " \u001b[1m parameters \u001b[0m \u001b[1m    2.5% \u001b[0m \u001b[1m   25.0% \u001b[0m \u001b[1m   50.0% \u001b[0m \u001b[1m   75.0% \u001b[0m \u001b[1m   97.5% \u001b[0m\n",
       " \u001b[90m     Symbol \u001b[0m \u001b[90m Float64 \u001b[0m \u001b[90m Float64 \u001b[0m \u001b[90m Float64 \u001b[0m \u001b[90m Float64 \u001b[0m \u001b[90m Float64 \u001b[0m\n",
       "\n",
       "          Ωm    0.2027    0.2104    0.2233    0.2365    0.2495\n",
       "          σ8    0.7880    0.8380    0.8658    0.8950    0.9489\n"
      ]
     },
     "execution_count": 16,
     "metadata": {},
     "output_type": "execute_result"
    }
   ],
   "source": [
    "samples = sample(\n",
    "    stat_model, MCHMC(varE_wanted=2.0), 10000;\n",
    "    monitor_energy=true, \n",
    "    dialog=true)"
   ]
  },
  {
   "cell_type": "code",
   "execution_count": 17,
   "id": "eea6e813",
   "metadata": {},
   "outputs": [
    {
     "name": "stderr",
     "output_type": "stream",
     "text": [
      "\u001b[36m\u001b[1m[ \u001b[22m\u001b[39m\u001b[36m\u001b[1mInfo: \u001b[22m\u001b[39mStarting from previous run\n",
      "\u001b[32mSampling: 100%|█████████████████████████████████████████| Time: 0:00:00\u001b[39m\n"
     ]
    },
    {
     "data": {
      "text/plain": [
       "Chains MCMC chain (10000×4×1 Array{Float64, 3}):\n",
       "\n",
       "Iterations        = 1:1:10000\n",
       "Number of chains  = 1\n",
       "Samples per chain = 10000\n",
       "Wall duration     = 1.15 seconds\n",
       "Compute duration  = 1.15 seconds\n",
       "parameters        = Ωm, σ8\n",
       "internals         = E, logp\n",
       "\n",
       "Summary Statistics\n",
       " \u001b[1m parameters \u001b[0m \u001b[1m    mean \u001b[0m \u001b[1m     std \u001b[0m \u001b[1m naive_se \u001b[0m \u001b[1m    mcse \u001b[0m \u001b[1m       ess \u001b[0m \u001b[1m    rhat \u001b[0m \u001b[1m \u001b[0m ⋯\n",
       " \u001b[90m     Symbol \u001b[0m \u001b[90m Float64 \u001b[0m \u001b[90m Float64 \u001b[0m \u001b[90m  Float64 \u001b[0m \u001b[90m Float64 \u001b[0m \u001b[90m   Float64 \u001b[0m \u001b[90m Float64 \u001b[0m \u001b[90m \u001b[0m ⋯\n",
       "\n",
       "          Ωm    0.2244    0.0140     0.0001    0.0013     36.8197    1.0363    ⋯\n",
       "          σ8    0.8667    0.0403     0.0004    0.0011   2822.0987    1.0013    ⋯\n",
       "\u001b[36m                                                                1 column omitted\u001b[0m\n",
       "\n",
       "Quantiles\n",
       " \u001b[1m parameters \u001b[0m \u001b[1m    2.5% \u001b[0m \u001b[1m   25.0% \u001b[0m \u001b[1m   50.0% \u001b[0m \u001b[1m   75.0% \u001b[0m \u001b[1m   97.5% \u001b[0m\n",
       " \u001b[90m     Symbol \u001b[0m \u001b[90m Float64 \u001b[0m \u001b[90m Float64 \u001b[0m \u001b[90m Float64 \u001b[0m \u001b[90m Float64 \u001b[0m \u001b[90m Float64 \u001b[0m\n",
       "\n",
       "          Ωm    0.2031    0.2122    0.2227    0.2367    0.2489\n",
       "          σ8    0.7899    0.8392    0.8658    0.8939    0.9480\n"
      ]
     },
     "execution_count": 17,
     "metadata": {},
     "output_type": "execute_result"
    }
   ],
   "source": [
    "new_samples = sample(stat_model, MCHMC(varE_wanted=2.0), 10000; \n",
    "                     monitor_energy=true, \n",
    "                     progress=true, resume_from=samples)"
   ]
  },
  {
   "cell_type": "markdown",
   "id": "767048c5",
   "metadata": {},
   "source": [
    "## Parallelization"
   ]
  },
  {
   "cell_type": "code",
   "execution_count": 25,
   "id": "d9093211",
   "metadata": {},
   "outputs": [],
   "source": [
    "using Distributed"
   ]
  },
  {
   "cell_type": "code",
   "execution_count": 26,
   "id": "42cf1f7f",
   "metadata": {
    "scrolled": false
   },
   "outputs": [
    {
     "name": "stderr",
     "output_type": "stream",
     "text": [
      "\u001b[36m\u001b[1m[ \u001b[22m\u001b[39m\u001b[36m\u001b[1mInfo: \u001b[22m\u001b[39mTuning eps ⏳\n"
     ]
    },
    {
     "name": "stdout",
     "output_type": "stream",
     "text": [
      "eps: 0.5 --> VarE: 2060.426620064039\n",
      "eps: 0.25 --> VarE: 52.59502298458721\n",
      "eps: 0.125 --> VarE: 26.153034598985414\n",
      "eps: 0.0625 --> VarE: 3.389799499886054\n",
      "eps: 0.03125 --> VarE: 0.6372720925127279\n",
      "samples: 100--> ESS: 0.026308459964888762\n",
      "samples: 243--> ESS: 0.009265536461304043\n",
      "samples: 447--> ESS: 0.02127528215477795\n",
      "samples: 739--> ESS: 0.014671012485412544\n"
     ]
    },
    {
     "name": "stderr",
     "output_type": "stream",
     "text": [
      "\u001b[36m\u001b[1m[ \u001b[22m\u001b[39m\u001b[36m\u001b[1mInfo: \u001b[22m\u001b[39mFound eps: 0.03125 ✅\n",
      "\u001b[36m\u001b[1m[ \u001b[22m\u001b[39m\u001b[36m\u001b[1mInfo: \u001b[22m\u001b[39mTuning L ⏳\n",
      "\u001b[36m\u001b[1m[ \u001b[22m\u001b[39m\u001b[36m\u001b[1mInfo: \u001b[22m\u001b[39mFound L: 1.4142135623730951 ✅\n",
      "\u001b[36m\u001b[1m[ \u001b[22m\u001b[39m\u001b[36m\u001b[1mInfo: \u001b[22m\u001b[39mnumber of chains: 2 smaller than number of threads: 4. Increase the number of chains to make full use of your threads.\n",
      "\u001b[34mchain 1:   2%|▋                                         |  ETA: 0:00:07\u001b[39m\n",
      "\u001b[32mchain 2:   2%|█                                         |  ETA: 0:00:08\u001b[39m\n",
      "\u001b[34mchain 1:   3%|█▎                                        |  ETA: 0:00:08\u001b[39m\n",
      "\u001b[32mchain 2:   4%|█▌                                        |  ETA: 0:00:09\u001b[39m\n",
      "\u001b[34mchain 1:   4%|█▋                                        |  ETA: 0:00:08\u001b[39m\n",
      "\u001b[32mchain 2:   5%|██▏                                       |  ETA: 0:00:09\u001b[39m\n",
      "\u001b[34mchain 1:   6%|██▎                                       |  ETA: 0:00:09\u001b[39m\n",
      "\u001b[32mchain 2:   6%|██▌                                       |  ETA: 0:00:09\u001b[39m\n",
      "\u001b[34mchain 1:   6%|██▊                                       |  ETA: 0:00:09\u001b[39m\n",
      "\u001b[32mchain 2:   8%|███▏                                      |  ETA: 0:00:09\u001b[39m\n",
      "\u001b[34mchain 1:   8%|███▍                                      |  ETA: 0:00:09\u001b[39m\n",
      "\u001b[32mchain 2:   9%|███▊                                      |  ETA: 0:00:09\u001b[39m\n",
      "\u001b[34mchain 1:  10%|████                                      |  ETA: 0:00:09\u001b[39m\n",
      "\u001b[32mchain 2:  10%|████▍                                     |  ETA: 0:00:08\u001b[39m\n",
      "\u001b[34mchain 1:  11%|████▋                                     |  ETA: 0:00:08\u001b[39m\n",
      "\u001b[32mchain 2:  12%|█████                                     |  ETA: 0:00:08\u001b[39m\n",
      "\n",
      "\u001b[34mchain 1:  12%|█████▎                                    |  ETA: 0:00:08\u001b[39m\n",
      "\u001b[32mchain 2:  14%|█████▋                                    |  ETA: 0:00:08\u001b[39m\n",
      "\n",
      "\u001b[34mchain 1:  14%|█████▉                                    |  ETA: 0:00:08\u001b[39m\n",
      "\u001b[32mchain 2:  15%|██████▎                                   |  ETA: 0:00:08\u001b[39m\n",
      "\u001b[34mchain 1:  16%|██████▌                                   |  ETA: 0:00:08\u001b[39m\n",
      "\u001b[32mchain 2:  16%|██████▊                                   |  ETA: 0:00:08\u001b[39m\n",
      "\u001b[34mchain 1:  17%|███████▏                                  |  ETA: 0:00:08\u001b[39m\n",
      "\u001b[32mchain 2:  18%|███████▍                                  |  ETA: 0:00:08\u001b[39m\n",
      "\u001b[32mchain 2:  19%|████████                                  |  ETA: 0:00:08\u001b[39m\n",
      "\u001b[34mchain 1:  20%|████████▎                                 |  ETA: 0:00:08\u001b[39m\n",
      "\n",
      "\u001b[32mchain 2:  20%|████████▋                                 |  ETA: 0:00:08\u001b[39m\n",
      "\u001b[34mchain 1:  21%|████████▉                                 |  ETA: 0:00:08\u001b[39m\n",
      "\u001b[32mchain 2:  22%|█████████                                 |  ETA: 0:00:07\u001b[39m\n",
      "\u001b[34mchain 1:  22%|█████████▎                                |  ETA: 0:00:07\u001b[39m\n",
      "\u001b[32mchain 2:  23%|█████████▋                                |  ETA: 0:00:07\u001b[39m\n",
      "\u001b[34mchain 1:  24%|█████████▉                                |  ETA: 0:00:07\u001b[39m\n",
      "\u001b[32mchain 2:  24%|██████████▎                               |  ETA: 0:00:07\u001b[39m\n",
      "\u001b[34mchain 1:  25%|██████████▌                               |  ETA: 0:00:07\u001b[39m\n",
      "\u001b[32mchain 2:  26%|██████████▉                               |  ETA: 0:00:07\u001b[39m\n",
      "\u001b[34mchain 1:  26%|███████████▏                              |  ETA: 0:00:07\u001b[39m\n",
      "\u001b[32mchain 2:  27%|███████████▍                              |  ETA: 0:00:07\u001b[39m\n",
      "\n",
      "\u001b[34mchain 1:  28%|███████████▊                              |  ETA: 0:00:07\u001b[39m\n",
      "\u001b[32mchain 2:  28%|████████████                              |  ETA: 0:00:07\u001b[39m\n",
      "\u001b[34mchain 1:  29%|████████████▏                             |  ETA: 0:00:07\u001b[39m\n",
      "\u001b[32mchain 2:  30%|████████████▋                             |  ETA: 0:00:07\u001b[39m\n",
      "\u001b[34mchain 1:  30%|████████████▊                             |  ETA: 0:00:07\u001b[39m\n",
      "\u001b[32mchain 2:  32%|█████████████▎                            |  ETA: 0:00:07\u001b[39m\n",
      "\u001b[34mchain 1:  32%|█████████████▎                            |  ETA: 0:00:07\u001b[39m\n",
      "\u001b[32mchain 2:  33%|█████████████▉                            |  ETA: 0:00:06\u001b[39m\n",
      "\u001b[34mchain 1:  33%|█████████████▉                            |  ETA: 0:00:06\u001b[39m\n",
      "\u001b[32mchain 2:  34%|██████████████▎                           |  ETA: 0:00:06\u001b[39m\n",
      "\u001b[34mchain 1:  34%|██████████████▌                           |  ETA: 0:00:06\u001b[39m\n",
      "\n",
      "\u001b[32mchain 2:  36%|██████████████▉                           |  ETA: 0:00:06\u001b[39m\n",
      "\n",
      "\u001b[34mchain 1:  36%|███████████████▏                          |  ETA: 0:00:06\u001b[39m\n",
      "\u001b[32mchain 2:  36%|███████████████▍                          |  ETA: 0:00:06\u001b[39m\n",
      "\u001b[34mchain 1:  38%|███████████████▊                          |  ETA: 0:00:06\u001b[39m\n",
      "\u001b[32mchain 2:  38%|████████████████                          |  ETA: 0:00:06\u001b[39m\n",
      "\u001b[34mchain 1:  38%|████████████████▏                         |  ETA: 0:00:06\u001b[39m\n",
      "\u001b[32mchain 2:  39%|████████████████▍                         |  ETA: 0:00:06\u001b[39m\n",
      "\u001b[34mchain 1:  40%|████████████████▊                         |  ETA: 0:00:06\u001b[39m\n",
      "\u001b[32mchain 2:  40%|█████████████████                         |  ETA: 0:00:06\u001b[39m\n",
      "\u001b[34mchain 1:  41%|█████████████████▎                        |  ETA: 0:00:06\u001b[39m\n",
      "\u001b[32mchain 2:  42%|█████████████████▍                        |  ETA: 0:00:06\u001b[39m\n",
      "\u001b[34mchain 1:  42%|█████████████████▋                        |  ETA: 0:00:06\u001b[39m\n",
      "\u001b[32mchain 2:  43%|██████████████████                        |  ETA: 0:00:06\u001b[39m\n",
      "\u001b[34mchain 1:  44%|██████████████████▎                       |  ETA: 0:00:06\u001b[39m\n",
      "\u001b[32mchain 2:  44%|██████████████████▊                       |  ETA: 0:00:05\u001b[39m\n",
      "\u001b[34mchain 1:  44%|██████████████████▊                       |  ETA: 0:00:05\u001b[39m\n",
      "\u001b[32mchain 2:  46%|███████████████████▏                      |  ETA: 0:00:05\u001b[39m\n",
      "\u001b[34mchain 1:  46%|███████████████████▏                      |  ETA: 0:00:05\u001b[39m\n",
      "\u001b[32mchain 2:  47%|███████████████████▊                      |  ETA: 0:00:05\u001b[39m\n",
      "\u001b[34mchain 1:  47%|███████████████████▊                      |  ETA: 0:00:05\u001b[39m\n",
      "\u001b[32mchain 2:  48%|████████████████████▍                     |  ETA: 0:00:05\u001b[39m\n",
      "\u001b[34mchain 1:  48%|████████████████████▏                     |  ETA: 0:00:05\u001b[39m\n",
      "\n",
      "\u001b[32mchain 2:  50%|█████████████████████                     |  ETA: 0:00:05\u001b[39m\n",
      "\u001b[34mchain 1:  50%|████████████████████▊                     |  ETA: 0:00:05\u001b[39m\n",
      "\u001b[34mchain 1:  50%|█████████████████████▎                    |  ETA: 0:00:05\u001b[39m\n",
      "\u001b[32mchain 2:  52%|█████████████████████▋                    |  ETA: 0:00:05\u001b[39m\n",
      "\u001b[34mchain 1:  52%|█████████████████████▋                    |  ETA: 0:00:05\u001b[39m\n",
      "\u001b[32mchain 2:  53%|██████████████████████▎                   |  ETA: 0:00:05\u001b[39m\n",
      "\u001b[34mchain 1:  53%|██████████████████████▎                   |  ETA: 0:00:05\u001b[39m\n",
      "\u001b[32mchain 2:  54%|██████████████████████▋                   |  ETA: 0:00:04\u001b[39m\n",
      "\u001b[34mchain 1:  54%|██████████████████████▋                   |  ETA: 0:00:05\u001b[39m\n",
      "\u001b[32mchain 2:  56%|███████████████████████▎                  |  ETA: 0:00:04\u001b[39m\n",
      "\u001b[34mchain 1:  56%|███████████████████████▎                  |  ETA: 0:00:04\u001b[39m\n",
      "\u001b[32mchain 2:  56%|███████████████████████▊                  |  ETA: 0:00:04\u001b[39m\n",
      "\u001b[34mchain 1:  56%|███████████████████████▊                  |  ETA: 0:00:04\u001b[39m\n",
      "\u001b[32mchain 2:  58%|████████████████████████▍                 |  ETA: 0:00:04\u001b[39m\n",
      "\u001b[34mchain 1:  58%|████████████████████████▍                 |  ETA: 0:00:04\u001b[39m\n",
      "\u001b[32mchain 2:  60%|█████████████████████████                 |  ETA: 0:00:04\u001b[39m\n",
      "\u001b[34mchain 1:  60%|█████████████████████████                 |  ETA: 0:00:04\u001b[39m\n",
      "\u001b[32mchain 2:  61%|█████████████████████████▋                |  ETA: 0:00:04\u001b[39m\n",
      "\u001b[34mchain 1:  60%|█████████████████████████▍                |  ETA: 0:00:04\u001b[39m\n",
      "\u001b[34mchain 1:  62%|█████████████████████████▉                |  ETA: 0:00:04\u001b[39m\n",
      "\u001b[32mchain 2:  62%|██████████████████████████▎               |  ETA: 0:00:04\u001b[39m\n",
      "\u001b[34mchain 1:  62%|██████████████████████████▎               |  ETA: 0:00:04\u001b[39m\n",
      "\u001b[32mchain 2:  64%|██████████████████████████▉               |  ETA: 0:00:03\u001b[39m\n",
      "\u001b[34mchain 1:  64%|██████████████████████████▉               |  ETA: 0:00:04\u001b[39m\n",
      "\u001b[32mchain 2:  65%|███████████████████████████▎              |  ETA: 0:00:03\u001b[39m\n"
     ]
    },
    {
     "name": "stderr",
     "output_type": "stream",
     "text": [
      "\u001b[34mchain 1:  65%|███████████████████████████▎              |  ETA: 0:00:03\u001b[39m\n",
      "\u001b[32mchain 2:  66%|███████████████████████████▊              |  ETA: 0:00:03\u001b[39m\n",
      "\u001b[32mchain 2:  67%|████████████████████████████▏             |  ETA: 0:00:03\u001b[39m\n",
      "\u001b[34mchain 1:  66%|███████████████████████████▉              |  ETA: 0:00:03\u001b[39m\n",
      "\u001b[32mchain 2:  68%|████████████████████████████▌             |  ETA: 0:00:03\u001b[39m\n",
      "\u001b[34mchain 1:  68%|████████████████████████████▍             |  ETA: 0:00:03\u001b[39m\n",
      "\u001b[32mchain 2:  69%|█████████████████████████████             |  ETA: 0:00:03\u001b[39m\n",
      "\u001b[34mchain 1:  68%|████████████████████████████▊             |  ETA: 0:00:03\u001b[39m\n",
      "\u001b[32mchain 2:  70%|█████████████████████████████▍            |  ETA: 0:00:03\u001b[39m\n",
      "\u001b[34mchain 1:  70%|█████████████████████████████▎            |  ETA: 0:00:03\u001b[39m\n",
      "\u001b[32mchain 2:  71%|█████████████████████████████▉            |  ETA: 0:00:03\u001b[39m\n",
      "\u001b[34mchain 1:  72%|██████████████████████████████            |  ETA: 0:00:03\u001b[39m\n",
      "\u001b[32mchain 2:  72%|██████████████████████████████▌           |  ETA: 0:00:03\u001b[39m\n",
      "\u001b[32mchain 2:  74%|██████████████████████████████▉           |  ETA: 0:00:03\u001b[39m\u001b[34mchain 1:  72%|██████████████████████████████▌           |  ETA: 0:00:03\u001b[39m\n",
      "\u001b[32mchain 2:  75%|███████████████████████████████▌          |  ETA: 0:00:02\u001b[39m\n",
      "\u001b[34mchain 1:  74%|███████████████████████████████▏          |  ETA: 0:00:03\u001b[39m\u001b[34mchain 1:  75%|███████████████████████████████▌          |  ETA: 0:00:02\u001b[39m\n",
      "\u001b[32mchain 2:  76%|███████████████████████████████▉          |  ETA: 0:00:02\u001b[39m\n",
      "\u001b[34mchain 1:  76%|███████████████████████████████▉          |  ETA: 0:00:02\u001b[39m\n",
      "\u001b[32mchain 2:  77%|████████████████████████████████▍         |  ETA: 0:00:02\u001b[39m\n",
      "\u001b[34mchain 1:  77%|████████████████████████████████▍         |  ETA: 0:00:02\u001b[39m\n",
      "\u001b[32mchain 2:  78%|████████████████████████████████▊         |  ETA: 0:00:02\u001b[39m\n",
      "\u001b[34mchain 1:  78%|█████████████████████████████████         |  ETA: 0:00:02\u001b[39m\n",
      "\u001b[32mchain 2:  80%|█████████████████████████████████▍        |  ETA: 0:00:02\u001b[39m\n",
      "\u001b[32mchain 2:  82%|██████████████████████████████████▌       |  ETA: 0:00:02\u001b[39m\n",
      "\u001b[34mchain 1:  81%|██████████████████████████████████        |  ETA: 0:00:02\u001b[39m\n",
      "\u001b[32mchain 2:  83%|██████████████████████████████████▉       |  ETA: 0:00:02\u001b[39m\n",
      "\u001b[34mchain 1:  82%|██████████████████████████████████▌       |  ETA: 0:00:02\u001b[39m\n",
      "\u001b[32mchain 2:  84%|███████████████████████████████████▌      |  ETA: 0:00:02\u001b[39m\n",
      "\u001b[34mchain 1:  84%|███████████████████████████████████▏      |  ETA: 0:00:02\u001b[39m\n",
      "\u001b[32mchain 2:  86%|███████████████████████████████████▉      |  ETA: 0:00:01\u001b[39m\n",
      "\u001b[34mchain 1:  84%|███████████████████████████████████▌      |  ETA: 0:00:02\u001b[39m\n",
      "\n",
      "\u001b[32mchain 2:  87%|████████████████████████████████████▌     |  ETA: 0:00:01\u001b[39m\n",
      "\u001b[32mchain 2:  88%|█████████████████████████████████████     |  ETA: 0:00:01\u001b[39m\n",
      "\u001b[34mchain 1:  87%|████████████████████████████████████▌     |  ETA: 0:00:01\u001b[39m\n",
      "\u001b[32mchain 2:  89%|█████████████████████████████████████▍    |  ETA: 0:00:01\u001b[39m\n",
      "\u001b[34mchain 1:  88%|█████████████████████████████████████     |  ETA: 0:00:01\u001b[39m\n",
      "\u001b[32mchain 2:  90%|█████████████████████████████████████▊    |  ETA: 0:00:01\u001b[39m\n",
      "\u001b[34mchain 1:  89%|█████████████████████████████████████▍    |  ETA: 0:00:01\u001b[39m\n",
      "\u001b[34mchain 1:  90%|█████████████████████████████████████▊    |  ETA: 0:00:01\u001b[39m\n",
      "\u001b[32mchain 2:  92%|██████████████████████████████████████▍   |  ETA: 0:00:01\u001b[39m\n",
      "\u001b[32mchain 2:  92%|██████████████████████████████████████▉   |  ETA: 0:00:01\u001b[39m\n",
      "\u001b[34mchain 1:  92%|██████████████████████████████████████▍   |  ETA: 0:00:01\u001b[39m\n",
      "\u001b[34mchain 1:  92%|██████████████████████████████████████▉   |  ETA: 0:00:01\u001b[39m\n",
      "\u001b[32mchain 2:  94%|███████████████████████████████████████▌  |  ETA: 0:00:01\u001b[39m\n",
      "\u001b[34mchain 1:  94%|███████████████████████████████████████▌  |  ETA: 0:00:01\u001b[39m\n",
      "\u001b[32mchain 2:  96%|████████████████████████████████████████▏ |  ETA: 0:00:00\u001b[39m\n",
      "\u001b[34mchain 1:  95%|███████████████████████████████████████▉  |  ETA: 0:00:00\u001b[39m\n",
      "\u001b[32mchain 2:  97%|████████████████████████████████████████▊ |  ETA: 0:00:00\u001b[39m\n",
      "\u001b[34mchain 1:  96%|████████████████████████████████████████▌ |  ETA: 0:00:00\u001b[39m\n",
      "\u001b[32mchain 2:  98%|█████████████████████████████████████████▏|  ETA: 0:00:00\u001b[39m\n",
      "\u001b[34mchain 1:  98%|█████████████████████████████████████████ |  ETA: 0:00:00\u001b[39m\n",
      "\u001b[32mchain 2: 100%|██████████████████████████████████████████| Time: 0:00:09\u001b[39m\n",
      "\u001b[34mchain 1: 100%|██████████████████████████████████████████| Time: 0:00:09\u001b[39m\n"
     ]
    },
    {
     "data": {
      "text/plain": [
       "Chains MCMC chain (100000×4×2 Array{Float64, 3}):\n",
       "\n",
       "Iterations        = 1:1:100000\n",
       "Number of chains  = 2\n",
       "Samples per chain = 100000\n",
       "Wall duration     = 10.0 seconds\n",
       "Compute duration  = 19.88 seconds\n",
       "parameters        = Ωm, σ8\n",
       "internals         = E, logp\n",
       "\n",
       "Summary Statistics\n",
       " \u001b[1m parameters \u001b[0m \u001b[1m    mean \u001b[0m \u001b[1m     std \u001b[0m \u001b[1m naive_se \u001b[0m \u001b[1m    mcse \u001b[0m \u001b[1m        ess \u001b[0m \u001b[1m    rhat \u001b[0m \u001b[1m\u001b[0m ⋯\n",
       " \u001b[90m     Symbol \u001b[0m \u001b[90m Float64 \u001b[0m \u001b[90m Float64 \u001b[0m \u001b[90m  Float64 \u001b[0m \u001b[90m Float64 \u001b[0m \u001b[90m    Float64 \u001b[0m \u001b[90m Float64 \u001b[0m \u001b[90m\u001b[0m ⋯\n",
       "\n",
       "          Ωm    0.2247    0.0142     0.0000    0.0005     805.5719    1.0003   ⋯\n",
       "          σ8    0.8659    0.0401     0.0001    0.0004   56574.6861    1.0000   ⋯\n",
       "\u001b[36m                                                                1 column omitted\u001b[0m\n",
       "\n",
       "Quantiles\n",
       " \u001b[1m parameters \u001b[0m \u001b[1m    2.5% \u001b[0m \u001b[1m   25.0% \u001b[0m \u001b[1m   50.0% \u001b[0m \u001b[1m   75.0% \u001b[0m \u001b[1m   97.5% \u001b[0m\n",
       " \u001b[90m     Symbol \u001b[0m \u001b[90m Float64 \u001b[0m \u001b[90m Float64 \u001b[0m \u001b[90m Float64 \u001b[0m \u001b[90m Float64 \u001b[0m \u001b[90m Float64 \u001b[0m\n",
       "\n",
       "          Ωm    0.2015    0.2122    0.2247    0.2369    0.2487\n",
       "          σ8    0.7879    0.8387    0.8657    0.8929    0.9447\n"
      ]
     },
     "execution_count": 26,
     "metadata": {},
     "output_type": "execute_result"
    }
   ],
   "source": [
    "samples = sample(\n",
    "    stat_model, MCHMC(varE_wanted=2.0), MCMCThreads(), 100000, 2;\n",
    "    monitor_energy=true, \n",
    "    dialog=true)"
   ]
  },
  {
   "cell_type": "code",
   "execution_count": 27,
   "id": "5b841b0b",
   "metadata": {},
   "outputs": [
    {
     "data": {
      "text/plain": [
       "Chains MCMC chain (100000×4×2 Array{Float64, 3}):\n",
       "\n",
       "Iterations        = 1:1:100000\n",
       "Number of chains  = 2\n",
       "Samples per chain = 100000\n",
       "Wall duration     = 10.0 seconds\n",
       "Compute duration  = 19.88 seconds\n",
       "parameters        = Ωm, σ8\n",
       "internals         = E, logp\n",
       "\n",
       "Summary Statistics\n",
       " \u001b[1m parameters \u001b[0m \u001b[1m    mean \u001b[0m \u001b[1m     std \u001b[0m \u001b[1m naive_se \u001b[0m \u001b[1m    mcse \u001b[0m \u001b[1m        ess \u001b[0m \u001b[1m    rhat \u001b[0m \u001b[1m\u001b[0m ⋯\n",
       " \u001b[90m     Symbol \u001b[0m \u001b[90m Float64 \u001b[0m \u001b[90m Float64 \u001b[0m \u001b[90m  Float64 \u001b[0m \u001b[90m Float64 \u001b[0m \u001b[90m    Float64 \u001b[0m \u001b[90m Float64 \u001b[0m \u001b[90m\u001b[0m ⋯\n",
       "\n",
       "          Ωm    0.2247    0.0142     0.0000    0.0005     805.5719    1.0003   ⋯\n",
       "          σ8    0.8659    0.0401     0.0001    0.0004   56574.6861    1.0000   ⋯\n",
       "\u001b[36m                                                                1 column omitted\u001b[0m\n",
       "\n",
       "Quantiles\n",
       " \u001b[1m parameters \u001b[0m \u001b[1m    2.5% \u001b[0m \u001b[1m   25.0% \u001b[0m \u001b[1m   50.0% \u001b[0m \u001b[1m   75.0% \u001b[0m \u001b[1m   97.5% \u001b[0m\n",
       " \u001b[90m     Symbol \u001b[0m \u001b[90m Float64 \u001b[0m \u001b[90m Float64 \u001b[0m \u001b[90m Float64 \u001b[0m \u001b[90m Float64 \u001b[0m \u001b[90m Float64 \u001b[0m\n",
       "\n",
       "          Ωm    0.2015    0.2122    0.2247    0.2369    0.2487\n",
       "          σ8    0.7879    0.8387    0.8657    0.8929    0.9447\n"
      ]
     },
     "execution_count": 27,
     "metadata": {},
     "output_type": "execute_result"
    }
   ],
   "source": [
    "samples"
   ]
  },
  {
   "cell_type": "markdown",
   "id": "4aadd3b5",
   "metadata": {},
   "source": [
    "## NUTS"
   ]
  },
  {
   "cell_type": "code",
   "execution_count": 21,
   "id": "dcbe40a3",
   "metadata": {},
   "outputs": [
    {
     "name": "stderr",
     "output_type": "stream",
     "text": [
      "\u001b[36m\u001b[1m┌ \u001b[22m\u001b[39m\u001b[36m\u001b[1mInfo: \u001b[22m\u001b[39mFound initial step size\n",
      "\u001b[36m\u001b[1m└ \u001b[22m\u001b[39m  ϵ = 0.05\n",
      "\u001b[33m\u001b[1m┌ \u001b[22m\u001b[39m\u001b[33m\u001b[1mWarning: \u001b[22m\u001b[39mThe current proposal will be rejected due to numerical error(s).\n",
      "\u001b[33m\u001b[1m│ \u001b[22m\u001b[39m  isfinite.((θ, r, ℓπ, ℓκ)) = (true, false, false, false)\n",
      "\u001b[33m\u001b[1m└ \u001b[22m\u001b[39m\u001b[90m@ AdvancedHMC ~/.julia/packages/AdvancedHMC/4fByY/src/hamiltonian.jl:49\u001b[39m\n",
      "\u001b[33m\u001b[1m┌ \u001b[22m\u001b[39m\u001b[33m\u001b[1mWarning: \u001b[22m\u001b[39mThe current proposal will be rejected due to numerical error(s).\n",
      "\u001b[33m\u001b[1m│ \u001b[22m\u001b[39m  isfinite.((θ, r, ℓπ, ℓκ)) = (true, false, false, false)\n",
      "\u001b[33m\u001b[1m└ \u001b[22m\u001b[39m\u001b[90m@ AdvancedHMC ~/.julia/packages/AdvancedHMC/4fByY/src/hamiltonian.jl:49\u001b[39m\n",
      "\u001b[32mSampling:   1%|▋                                        |  ETA: 0:00:13\u001b[39m\u001b[33m\u001b[1m┌ \u001b[22m\u001b[39m\u001b[33m\u001b[1mWarning: \u001b[22m\u001b[39mThe current proposal will be rejected due to numerical error(s).\n",
      "\u001b[33m\u001b[1m│ \u001b[22m\u001b[39m  isfinite.((θ, r, ℓπ, ℓκ)) = (true, false, false, false)\n",
      "\u001b[33m\u001b[1m└ \u001b[22m\u001b[39m\u001b[90m@ AdvancedHMC ~/.julia/packages/AdvancedHMC/4fByY/src/hamiltonian.jl:49\u001b[39m\n",
      "\u001b[33m\u001b[1m┌ \u001b[22m\u001b[39m\u001b[33m\u001b[1mWarning: \u001b[22m\u001b[39mThe current proposal will be rejected due to numerical error(s).\n",
      "\u001b[33m\u001b[1m│ \u001b[22m\u001b[39m  isfinite.((θ, r, ℓπ, ℓκ)) = (true, false, false, false)\n",
      "\u001b[33m\u001b[1m└ \u001b[22m\u001b[39m\u001b[90m@ AdvancedHMC ~/.julia/packages/AdvancedHMC/4fByY/src/hamiltonian.jl:49\u001b[39m\n",
      "\u001b[33m\u001b[1m┌ \u001b[22m\u001b[39m\u001b[33m\u001b[1mWarning: \u001b[22m\u001b[39mThe current proposal will be rejected due to numerical error(s).\n",
      "\u001b[33m\u001b[1m│ \u001b[22m\u001b[39m  isfinite.((θ, r, ℓπ, ℓκ)) = (true, false, false, false)\n",
      "\u001b[33m\u001b[1m└ \u001b[22m\u001b[39m\u001b[90m@ AdvancedHMC ~/.julia/packages/AdvancedHMC/4fByY/src/hamiltonian.jl:49\u001b[39m\n",
      "\u001b[33m\u001b[1m┌ \u001b[22m\u001b[39m\u001b[33m\u001b[1mWarning: \u001b[22m\u001b[39mThe current proposal will be rejected due to numerical error(s).\n",
      "\u001b[33m\u001b[1m│ \u001b[22m\u001b[39m  isfinite.((θ, r, ℓπ, ℓκ)) = (true, false, false, false)\n",
      "\u001b[33m\u001b[1m└ \u001b[22m\u001b[39m\u001b[90m@ AdvancedHMC ~/.julia/packages/AdvancedHMC/4fByY/src/hamiltonian.jl:49\u001b[39m\n",
      "\u001b[33m\u001b[1m┌ \u001b[22m\u001b[39m\u001b[33m\u001b[1mWarning: \u001b[22m\u001b[39mThe current proposal will be rejected due to numerical error(s).\n",
      "\u001b[33m\u001b[1m│ \u001b[22m\u001b[39m  isfinite.((θ, r, ℓπ, ℓκ)) = (true, false, false, false)\n",
      "\u001b[33m\u001b[1m└ \u001b[22m\u001b[39m\u001b[90m@ AdvancedHMC ~/.julia/packages/AdvancedHMC/4fByY/src/hamiltonian.jl:49\u001b[39m\n",
      "\u001b[33m\u001b[1m┌ \u001b[22m\u001b[39m\u001b[33m\u001b[1mWarning: \u001b[22m\u001b[39mThe current proposal will be rejected due to numerical error(s).\n",
      "\u001b[33m\u001b[1m│ \u001b[22m\u001b[39m  isfinite.((θ, r, ℓπ, ℓκ)) = (true, false, false, false)\n",
      "\u001b[33m\u001b[1m└ \u001b[22m\u001b[39m\u001b[90m@ AdvancedHMC ~/.julia/packages/AdvancedHMC/4fByY/src/hamiltonian.jl:49\u001b[39m\n",
      "\u001b[33m\u001b[1m┌ \u001b[22m\u001b[39m\u001b[33m\u001b[1mWarning: \u001b[22m\u001b[39mThe current proposal will be rejected due to numerical error(s).\n",
      "\u001b[33m\u001b[1m│ \u001b[22m\u001b[39m  isfinite.((θ, r, ℓπ, ℓκ)) = (true, false, false, false)\n",
      "\u001b[33m\u001b[1m└ \u001b[22m\u001b[39m\u001b[90m@ AdvancedHMC ~/.julia/packages/AdvancedHMC/4fByY/src/hamiltonian.jl:49\u001b[39m\n",
      "\u001b[33m\u001b[1m┌ \u001b[22m\u001b[39m\u001b[33m\u001b[1mWarning: \u001b[22m\u001b[39mThe current proposal will be rejected due to numerical error(s).\n",
      "\u001b[33m\u001b[1m│ \u001b[22m\u001b[39m  isfinite.((θ, r, ℓπ, ℓκ)) = (true, false, false, false)\n",
      "\u001b[33m\u001b[1m└ \u001b[22m\u001b[39m\u001b[90m@ AdvancedHMC ~/.julia/packages/AdvancedHMC/4fByY/src/hamiltonian.jl:49\u001b[39m\n",
      "\u001b[32mSampling: 100%|█████████████████████████████████████████| Time: 0:00:02\u001b[39m\n"
     ]
    },
    {
     "data": {
      "text/plain": [
       "Chains MCMC chain (10000×14×1 Array{Float64, 3}):\n",
       "\n",
       "Iterations        = 501:1:10500\n",
       "Number of chains  = 1\n",
       "Samples per chain = 10000\n",
       "Wall duration     = 6.39 seconds\n",
       "Compute duration  = 6.39 seconds\n",
       "parameters        = Ωm, σ8\n",
       "internals         = lp, n_steps, is_accept, acceptance_rate, log_density, hamiltonian_energy, hamiltonian_energy_error, max_hamiltonian_energy_error, tree_depth, numerical_error, step_size, nom_step_size\n",
       "\n",
       "Summary Statistics\n",
       " \u001b[1m parameters \u001b[0m \u001b[1m    mean \u001b[0m \u001b[1m     std \u001b[0m \u001b[1m naive_se \u001b[0m \u001b[1m    mcse \u001b[0m \u001b[1m       ess \u001b[0m \u001b[1m    rhat \u001b[0m \u001b[1m \u001b[0m ⋯\n",
       " \u001b[90m     Symbol \u001b[0m \u001b[90m Float64 \u001b[0m \u001b[90m Float64 \u001b[0m \u001b[90m  Float64 \u001b[0m \u001b[90m Float64 \u001b[0m \u001b[90m   Float64 \u001b[0m \u001b[90m Float64 \u001b[0m \u001b[90m \u001b[0m ⋯\n",
       "\n",
       "          Ωm    0.2245    0.0144     0.0001    0.0002   6328.4092    0.9999    ⋯\n",
       "          σ8    0.8665    0.0390     0.0004    0.0005   5886.6100    1.0001    ⋯\n",
       "\u001b[36m                                                                1 column omitted\u001b[0m\n",
       "\n",
       "Quantiles\n",
       " \u001b[1m parameters \u001b[0m \u001b[1m    2.5% \u001b[0m \u001b[1m   25.0% \u001b[0m \u001b[1m   50.0% \u001b[0m \u001b[1m   75.0% \u001b[0m \u001b[1m   97.5% \u001b[0m\n",
       " \u001b[90m     Symbol \u001b[0m \u001b[90m Float64 \u001b[0m \u001b[90m Float64 \u001b[0m \u001b[90m Float64 \u001b[0m \u001b[90m Float64 \u001b[0m \u001b[90m Float64 \u001b[0m\n",
       "\n",
       "          Ωm    0.2012    0.2120    0.2240    0.2370    0.2486\n",
       "          σ8    0.7898    0.8403    0.8661    0.8930    0.9427\n"
      ]
     },
     "execution_count": 21,
     "metadata": {},
     "output_type": "execute_result"
    }
   ],
   "source": [
    "samples_hmc = sample(stat_model, NUTS(500, 0.65),\n",
    "                     10000, progress=true; save_state=true)"
   ]
  },
  {
   "cell_type": "code",
   "execution_count": 22,
   "id": "623ba990",
   "metadata": {},
   "outputs": [
    {
     "data": {
      "text/plain": [
       "3-dimensional AxisArray{Float64,3,...} with axes:\n",
       "    :iter, 501:1:10500\n",
       "    :var, [:Ωm, :σ8, :lp, :n_steps, :is_accept, :acceptance_rate, :log_density, :hamiltonian_energy, :hamiltonian_energy_error, :max_hamiltonian_energy_error, :tree_depth, :numerical_error, :step_size, :nom_step_size]\n",
       "    :chain, 1:1\n",
       "And data, a 10000×14×1 Array{Float64, 3}:\n",
       "[:, :, 1] =\n",
       " 0.239965  0.783786  14.093   3.0  1.0  …  1.0  0.0  0.996586  0.996586\n",
       " 0.226233  0.884808  16.235   3.0  1.0     2.0  0.0  0.996586  0.996586\n",
       " 0.236925  0.86737   16.0443  3.0  1.0     2.0  0.0  0.996586  0.996586\n",
       " 0.237066  0.840793  15.9956  3.0  1.0     2.0  0.0  0.996586  0.996586\n",
       " 0.233026  0.877303  16.1371  3.0  1.0     2.0  0.0  0.996586  0.996586\n",
       " 0.245478  0.853844  15.1813  3.0  1.0  …  2.0  0.0  0.996586  0.996586\n",
       " 0.214547  0.892774  16.0821  3.0  1.0     2.0  0.0  0.996586  0.996586\n",
       " 0.222997  0.876046  16.3584  3.0  1.0     2.0  0.0  0.996586  0.996586\n",
       " 0.225565  0.863147  16.3887  3.0  1.0     2.0  0.0  0.996586  0.996586\n",
       " 0.222063  0.839286  16.1054  3.0  1.0     2.0  0.0  0.996586  0.996586\n",
       " 0.225222  0.831664  15.9988  1.0  1.0  …  1.0  0.0  0.996586  0.996586\n",
       " 0.24041   0.861985  15.8262  3.0  1.0     2.0  0.0  0.996586  0.996586\n",
       " 0.238716  0.890152  15.5324  3.0  1.0     2.0  0.0  0.996586  0.996586\n",
       " ⋮                                      ⋱  ⋮                   \n",
       " 0.208223  0.863658  15.7195  3.0  1.0     2.0  0.0  0.996586  0.996586\n",
       " 0.2103    0.833989  15.3381  3.0  1.0     2.0  0.0  0.996586  0.996586\n",
       " 0.243363  0.903302  14.5669  3.0  1.0  …  2.0  0.0  0.996586  0.996586\n",
       " 0.24952   0.936296  10.105   1.0  1.0     1.0  0.0  0.996586  0.996586\n",
       " 0.233937  0.921647  14.789   7.0  1.0     2.0  0.0  0.996586  0.996586\n",
       " 0.214835  0.90359   15.903   1.0  1.0     1.0  0.0  0.996586  0.996586\n",
       " 0.236166  0.855477  16.1275  3.0  1.0     1.0  0.0  0.996586  0.996586\n",
       " 0.206672  0.883171  15.6194  3.0  1.0  …  2.0  0.0  0.996586  0.996586\n",
       " 0.21236   0.859166  16.0172  3.0  1.0     2.0  0.0  0.996586  0.996586\n",
       " 0.224399  0.939223  14.477   3.0  1.0     2.0  0.0  0.996586  0.996586\n",
       " 0.220945  0.83934   16.0784  7.0  1.0     2.0  0.0  0.996586  0.996586\n",
       " 0.220945  0.83934   16.0784  3.0  1.0     1.0  0.0  0.996586  0.996586"
      ]
     },
     "execution_count": 22,
     "metadata": {},
     "output_type": "execute_result"
    }
   ],
   "source": [
    "samples_hmc.value"
   ]
  },
  {
   "cell_type": "code",
   "execution_count": 23,
   "id": "fa9db828",
   "metadata": {},
   "outputs": [],
   "source": [
    "Wms_hmc = vec(samples_hmc[\"Ωm\"])\n",
    "s8s_hmc = vec(samples_hmc[\"σ8\"]);"
   ]
  },
  {
   "cell_type": "code",
   "execution_count": 24,
   "id": "3d063a52",
   "metadata": {},
   "outputs": [
    {
     "data": {
      "image/png": "[encoded data removed]",
      "text/plain": [
       "Figure(PyObject <Figure size 640x480 with 1 Axes>)"
      ]
     },
     "metadata": {},
     "output_type": "display_data"
    }
   ],
   "source": [
    "plt.hist2d(Wms_hmc, s8s_hmc, bins=100, range=[[0.1, 0.4],[0.6, 1.2]]);\n",
    "plt.xlabel(\"Wm\")\n",
    "plt.ylabel(\"s8\")\n",
    "plt.title(\"HMC - RSD model\");"
   ]
  },
  {
   "cell_type": "code",
   "execution_count": null,
   "id": "0bdd32b7",
   "metadata": {},
   "outputs": [],
   "source": []
  }
 ],
 "metadata": {
  "kernelspec": {
   "display_name": "Julia_1.9 (5 threads) 1.9.0-beta3",
   "language": "julia",
   "name": "julia_1.9-_5-threads_-1.9"
  },
  "language_info": {
   "file_extension": ".jl",
   "mimetype": "application/julia",
   "name": "julia",
   "version": "1.9.0"
  }
 },
 "nbformat": 4,
 "nbformat_minor": 5
}
