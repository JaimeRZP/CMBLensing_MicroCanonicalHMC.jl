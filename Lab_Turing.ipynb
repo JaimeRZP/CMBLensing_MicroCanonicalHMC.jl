{
 "cells": [
  {
   "cell_type": "markdown",
   "id": "91129cb1",
   "metadata": {},
   "source": [
    "# Turing Target Practice"
   ]
  },
  {
   "cell_type": "markdown",
   "id": "97121235",
   "metadata": {},
   "source": [
    "## Model"
   ]
  },
  {
   "cell_type": "code",
   "execution_count": 1,
   "id": "86b96c9e",
   "metadata": {},
   "outputs": [
    {
     "name": "stderr",
     "output_type": "stream",
     "text": [
      "\u001b[32m\u001b[1m  Activating\u001b[22m\u001b[39m project at `~/PhD/MicroCanonicalHMC.jl`\n"
     ]
    }
   ],
   "source": [
    "] activate \".\""
   ]
  },
  {
   "cell_type": "code",
   "execution_count": 2,
   "id": "baed58e3",
   "metadata": {},
   "outputs": [],
   "source": [
    "# The statistical inference frame-work we will use\n",
    "using Turing\n",
    "using Interpolations\n",
    "using ForwardDiff\n",
    "using LinearAlgebra\n",
    "#using StatsPlots\n",
    "using PyPlot\n",
    "using Distributed\n",
    "\n",
    "using Revise\n",
    "using MicroCanonicalHMC"
   ]
  },
  {
   "cell_type": "code",
   "execution_count": 3,
   "id": "a7d6f81c",
   "metadata": {},
   "outputs": [],
   "source": [
    "fs8_zs = [0.38, 0.51, 0.61, 1.48, 0.44, 0.6, 0.73, 0.6, 0.86, 0.067, 1.4]\n",
    "fs8_data = [0.49749, 0.457523, 0.436148, 0.462, 0.413, 0.39, 0.437, 0.55, 0.4, 0.423, 0.482]\n",
    "fs8_cov = [0.00203355 0.000811829 0.000264615 0.0 0.0 0.0 0.0 0.0 0.0 0.0 0.0;\n",
    "           0.000811829 0.00142289 0.000662824 0.0 0.0 0.0 0.0 0.0 0.0 0.0 0.0; \n",
    "           0.000264615 0.000662824 0.00118576 0.0 0.0 0.0 0.0 0.0 0.0 0.0 0.0;\n",
    "           0.0 0.0 0.0 0.002025 0.0 0.0 0.0 0.0 0.0 0.0 0.0;\n",
    "           0.0 0.0 0.0 0.0 0.0064 0.00257 0.0 0.0 0.0 0.0 0.0;\n",
    "           0.0 0.0 0.0 0.0 0.00257 0.003969 0.00254 0.0 0.0 0.0 0.0;\n",
    "           0.0 0.0 0.0 0.0 0.0 0.00254 0.005184 0.0 0.0 0.0 0.0;\n",
    "           0.0 0.0 0.0 0.0 0.0 0.0 0.0 0.0144 0.0 0.0 0.0;\n",
    "           0.0 0.0 0.0 0.0 0.0 0.0 0.0 0.0 0.0121 0.0 0.0; \n",
    "           0.0 0.0 0.0 0.0 0.0 0.0 0.0 0.0 0.0 0.003025 0.0;\n",
    "           0.0 0.0 0.0 0.0 0.0 0.0 0.0 0.0 0.0 0.0 0.013456000000000001];"
   ]
  },
  {
   "cell_type": "code",
   "execution_count": 4,
   "id": "1359a630",
   "metadata": {
    "code_folding": []
   },
   "outputs": [
    {
     "data": {
      "text/plain": [
       "make_fs8 (generic function with 1 method)"
      ]
     },
     "execution_count": 4,
     "metadata": {},
     "output_type": "execute_result"
    }
   ],
   "source": [
    "function make_fs8(Ωm, σ8; Ωr=8.24*10^-5)\n",
    "    # ODE solution for growth factor\n",
    "    x_Dz = LinRange(0, log(1+1100), 300)\n",
    "    dx_Dz = x_Dz[2]-x_Dz[1]\n",
    "    z_Dz = @.(exp(x_Dz) - 1)\n",
    "    a_Dz = @.(1/(1+z_Dz))\n",
    "    aa = reverse(a_Dz)\n",
    "    e =  @.(sqrt.(abs(Ωm)*(1+z_Dz)^3+Ωr*(1+z_Dz)^4+(1-Ωm-Ωr)))\n",
    "    ee = reverse(e)\n",
    "\n",
    "    dd = zeros(typeof(Ωm), 300)\n",
    "    yy = zeros(typeof(Ωm), 300)\n",
    "    dd[1] = aa[1]\n",
    "    yy[1] = aa[1]^3*ee[end]\n",
    "\n",
    "    for i in 1:(300-1)\n",
    "        A0 = -1.5 * Ωm / (aa[i]*ee[i])\n",
    "        B0 = -1. / (aa[i]^2*ee[i])\n",
    "        A1 = -1.5 * Ωm / (aa[i+1]*ee[i+1])\n",
    "        B1 = -1. / (aa[i+1]^2*ee[i+1])\n",
    "        yy[i+1] = (1+0.5*dx_Dz^2*A0*B0)*yy[i] + 0.5*(A0+A1)*dx_Dz*dd[i]\n",
    "        dd[i+1] = 0.5*(B0+B1)*dx_Dz*yy[i] + (1+0.5*dx_Dz^2*A0*B0)*dd[i]\n",
    "    end\n",
    "\n",
    "    y = reverse(yy)\n",
    "    d = reverse(dd)\n",
    "\n",
    "    Dzi = LinearInterpolation(z_Dz, d./d[1], extrapolation_bc=Line())\n",
    "    fs8zi = LinearInterpolation(z_Dz, -σ8 .* y./ (a_Dz.^2 .*e.*d[1]),\n",
    "                                 extrapolation_bc=Line())\n",
    "    return fs8zi\n",
    "end"
   ]
  },
  {
   "cell_type": "code",
   "execution_count": 5,
   "id": "8005e277",
   "metadata": {},
   "outputs": [],
   "source": [
    "@model function model(data; cov = fs8_cov) \n",
    "    # Define priors\n",
    "    #KiDS priors\n",
    "    Ωm ~ Uniform(0.2, 0.25)#~ Normal(0.3, 0.1)\n",
    "    σ8 ~ Normal(0.8, 0.3)\n",
    "    fs8_itp = make_fs8(Ωm, σ8)\n",
    "    theory = fs8_itp(fs8_zs)\n",
    "    data ~ MvNormal(theory, cov)\n",
    "end;"
   ]
  },
  {
   "cell_type": "code",
   "execution_count": 6,
   "id": "1eebe796",
   "metadata": {},
   "outputs": [
    {
     "data": {
      "text/plain": [
       "DynamicPPL.Model{typeof(model), (:data, :cov), (:cov,), (), Tuple{Vector{Float64}, Matrix{Float64}}, Tuple{Matrix{Float64}}, DynamicPPL.DefaultContext}(model, (data = [0.49749, 0.457523, 0.436148, 0.462, 0.413, 0.39, 0.437, 0.55, 0.4, 0.423, 0.482], cov = [0.00203355 0.000811829 … 0.0 0.0; 0.000811829 0.00142289 … 0.0 0.0; … ; 0.0 0.0 … 0.003025 0.0; 0.0 0.0 … 0.0 0.013456000000000001]), (cov = [0.00203355 0.000811829 … 0.0 0.0; 0.000811829 0.00142289 … 0.0 0.0; … ; 0.0 0.0 … 0.003025 0.0; 0.0 0.0 … 0.0 0.013456000000000001],), DynamicPPL.DefaultContext())"
      ]
     },
     "execution_count": 6,
     "metadata": {},
     "output_type": "execute_result"
    }
   ],
   "source": [
    "stat_model = model(fs8_data)"
   ]
  },
  {
   "cell_type": "markdown",
   "id": "10dfa4cc",
   "metadata": {
    "heading_collapsed": true
   },
   "source": [
    "## Sampling"
   ]
  },
  {
   "cell_type": "code",
   "execution_count": null,
   "id": "c8ed14a3",
   "metadata": {
    "hidden": true
   },
   "outputs": [],
   "source": [
    "target = TuringTarget(stat_model);"
   ]
  },
  {
   "cell_type": "code",
   "execution_count": null,
   "id": "a79c2b35",
   "metadata": {
    "hidden": true
   },
   "outputs": [],
   "source": [
    "spl = MCHMC(0.0, 0.0, varE_wanted=2.0) #sqrt(target.d)*0.01"
   ]
  },
  {
   "cell_type": "code",
   "execution_count": null,
   "id": "bea9c39a",
   "metadata": {
    "hidden": true
   },
   "outputs": [],
   "source": [
    "spl.hyperparameters"
   ]
  },
  {
   "cell_type": "code",
   "execution_count": null,
   "id": "82938e27",
   "metadata": {
    "hidden": true,
    "scrolled": false
   },
   "outputs": [],
   "source": [
    "samples_mchmc = Sample(spl, target, 10000;\n",
    "                       monitor_energy=true, \n",
    "                       dialog=true)"
   ]
  },
  {
   "cell_type": "code",
   "execution_count": null,
   "id": "9982a5de",
   "metadata": {
    "hidden": true
   },
   "outputs": [],
   "source": [
    "#plt.plot(samples_mchmc.E[8000:end])"
   ]
  },
  {
   "cell_type": "code",
   "execution_count": null,
   "id": "f966c9fb",
   "metadata": {
    "hidden": true
   },
   "outputs": [],
   "source": [
    "#mean(samples_mchmc.E[8000:end])"
   ]
  },
  {
   "cell_type": "code",
   "execution_count": null,
   "id": "999faaf8",
   "metadata": {
    "hidden": true
   },
   "outputs": [],
   "source": [
    "#std(samples_mchmc.E[8000:end])^2/target.d"
   ]
  },
  {
   "cell_type": "code",
   "execution_count": null,
   "id": "385a8b1a",
   "metadata": {
    "hidden": true
   },
   "outputs": [],
   "source": [
    "Wms_mchmc = [sample[1] for sample in samples_mchmc]\n",
    "s8s_mchmc = [sample[2] for sample in samples_mchmc];"
   ]
  },
  {
   "cell_type": "code",
   "execution_count": null,
   "id": "2a803eb8",
   "metadata": {
    "hidden": true
   },
   "outputs": [],
   "source": [
    "plt.hist2d(Wms_mchmc, s8s_mchmc, bins=100, range=[[0.1, 0.4],[0.6, 1.2]]);\n",
    "plt.xlabel(\"Wm\")\n",
    "plt.ylabel(\"s8\")\n",
    "plt.title(\"MCHMC - RSD model - eps = 0.001 --> var[E]~0.00003\");"
   ]
  },
  {
   "cell_type": "markdown",
   "id": "0a03dd58",
   "metadata": {
    "heading_collapsed": true
   },
   "source": [
    "## AbstractMCMC"
   ]
  },
  {
   "cell_type": "code",
   "execution_count": null,
   "id": "d569b9dc",
   "metadata": {
    "hidden": true
   },
   "outputs": [],
   "source": [
    "samples = sample(\n",
    "    stat_model, MCHMC(varE_wanted=2.0), 10000;\n",
    "    monitor_energy=true, \n",
    "    dialog=true)"
   ]
  },
  {
   "cell_type": "code",
   "execution_count": null,
   "id": "eea6e813",
   "metadata": {
    "hidden": true
   },
   "outputs": [],
   "source": [
    "new_samples = sample(stat_model, MCHMC(varE_wanted=2.0), 10000; \n",
    "                     monitor_energy=true, \n",
    "                     progress=true, resume_from=samples)"
   ]
  },
  {
   "cell_type": "markdown",
   "id": "767048c5",
   "metadata": {},
   "source": [
    "## Parallelization"
   ]
  },
  {
   "cell_type": "code",
   "execution_count": 153,
   "id": "d9093211",
   "metadata": {},
   "outputs": [],
   "source": [
    "using Distributed"
   ]
  },
  {
   "cell_type": "code",
   "execution_count": 154,
   "id": "86bbe832",
   "metadata": {},
   "outputs": [],
   "source": [
    "spl = MCHMC(; nchains=100)\n",
    "target = TuringTarget(stat_model);"
   ]
  },
  {
   "cell_type": "code",
   "execution_count": 155,
   "id": "e7640f02",
   "metadata": {},
   "outputs": [
    {
     "data": {
      "text/plain": [
       "(1132.6716096004593, [-1.491351473618569 1.5372672176687452; 0.17197523066762627 0.6958364506682089; … ; -0.646921856499523 0.6108276211896924; -2.2243512416742592 1.1342337124013249], [-0.002014568281471904 -0.20380080702327352; 0.00035317249577067306 0.05357924754428543; … ; 0.0006641722974846554 0.08176696210844785; -2.126911297950547e-5 -0.07737882187981746], [133.32015010185867 133.32015010185867; -6.403448910335451 -6.403448910335451; … ; 7.352765530683344 7.352765530683344; 6.349495796475535 6.349495796475535], [4.474420595815421 452.6481116452825; -0.7844074105034862 -119.0012227062789; … ; -1.4751479184731893 -181.6070384310777; 0.047239380290794886 171.86083861403077])"
      ]
     },
     "execution_count": 155,
     "metadata": {},
     "output_type": "execute_result"
    }
   ],
   "source": [
    "loss, xs, us, ls, gs = MicroCanonicalHMC.Init_burnin(spl, target)"
   ]
  },
  {
   "cell_type": "code",
   "execution_count": null,
   "id": "74a5190a",
   "metadata": {},
   "outputs": [],
   "source": []
  },
  {
   "cell_type": "code",
   "execution_count": 72,
   "id": "42cf1f7f",
   "metadata": {
    "scrolled": false
   },
   "outputs": [
    {
     "name": "stdout",
     "output_type": "stream",
     "text": [
      "eps: 0.5 --> VarE: 1046.941837907961\n",
      "eps: 0.25 --> VarE: 5.62000092062071\n",
      "eps: 0.125 --> VarE: 23.662652912868822\n",
      "eps: 0.0625 --> VarE: 4.362158101099759\n",
      "eps: 0.03125 --> VarE: 1.5964085748779815\n",
      "samples: 100--> ESS: 0.024351540287992274\n",
      "samples: 243--> ESS: 0.020186428268599264\n",
      "samples: 447--> ESS: 0.02418849942982405\n"
     ]
    },
    {
     "name": "stderr",
     "output_type": "stream",
     "text": [
      "\u001b[36m\u001b[1m[ \u001b[22m\u001b[39m\u001b[36m\u001b[1mInfo: \u001b[22m\u001b[39mTuning eps ⏳\n",
      "\u001b[36m\u001b[1m[ \u001b[22m\u001b[39m\u001b[36m\u001b[1mInfo: \u001b[22m\u001b[39mFound eps: 0.03125 ✅\n",
      "\u001b[36m\u001b[1m[ \u001b[22m\u001b[39m\u001b[36m\u001b[1mInfo: \u001b[22m\u001b[39mTuning L ⏳\n",
      "\u001b[36m\u001b[1m[ \u001b[22m\u001b[39m\u001b[36m\u001b[1mInfo: \u001b[22m\u001b[39mFound L: 1.4142135623730951 ✅\n",
      "\u001b[32mchain 1:   4%|█▌                                        |  ETA: 0:00:03\u001b[39m\n",
      "\u001b[36mchain 4:   4%|█▌                                        |  ETA: 0:00:03\u001b[39m\n",
      "\u001b[34mchain 2:   4%|█▌                                        |  ETA: 0:00:03\u001b[39m\n",
      "\u001b[35mchain 3:   4%|█▋                                        |  ETA: 0:00:03\u001b[39m\n",
      "\n",
      "\u001b[36mchain 4:   7%|███                                       |  ETA: 0:00:03\u001b[39m\n",
      "\u001b[32mchain 1:   7%|███                                       |  ETA: 0:00:03\u001b[39m\n",
      "\u001b[34mchain 2:   7%|███                                       |  ETA: 0:00:03\u001b[39m\n",
      "\u001b[35mchain 3:   8%|███▏                                      |  ETA: 0:00:03\u001b[39m\n",
      "\u001b[36mchain 4:  10%|████▎                                     |  ETA: 0:00:03\u001b[39m\n",
      "\u001b[32mchain 1:  10%|████▎                                     |  ETA: 0:00:03\u001b[39m\n",
      "\u001b[34mchain 2:  10%|████▎                                     |  ETA: 0:00:03\u001b[39m\n",
      "\u001b[35mchain 3:  10%|████▍                                     |  ETA: 0:00:03\u001b[39m\n",
      "\u001b[32mchain 1:  13%|█████▌                                    |  ETA: 0:00:03\u001b[39m\n",
      "\u001b[36mchain 4:  14%|█████▋                                    |  ETA: 0:00:03\u001b[39m\n",
      "\u001b[34mchain 2:  13%|█████▌                                    |  ETA: 0:00:03\u001b[39m\n",
      "\u001b[35mchain 3:  14%|█████▉                                    |  ETA: 0:00:03\u001b[39m\n",
      "\u001b[36mchain 4:  16%|██████▉                                   |  ETA: 0:00:03\u001b[39m\n",
      "\u001b[32mchain 1:  16%|██████▊                                   |  ETA: 0:00:03\u001b[39m\n",
      "\u001b[34mchain 2:  16%|██████▊                                   |  ETA: 0:00:03\u001b[39m\n",
      "\u001b[35mchain 3:  17%|███████▏                                  |  ETA: 0:00:03\u001b[39m\n",
      "\u001b[36mchain 4:  20%|████████▎                                 |  ETA: 0:00:03\u001b[39m\n",
      "\u001b[32mchain 1:  19%|████████                                  |  ETA: 0:00:03\u001b[39m\n",
      "\u001b[34mchain 2:  19%|████████                                  |  ETA: 0:00:03\u001b[39m\n",
      "\u001b[35mchain 3:  20%|████████▍                                 |  ETA: 0:00:03\u001b[39m\n",
      "\u001b[32mchain 1:  22%|█████████▎                                |  ETA: 0:00:03\u001b[39m\n",
      "\u001b[36mchain 4:  23%|█████████▋                                |  ETA: 0:00:03\u001b[39m\n",
      "\u001b[35mchain 3:  23%|█████████▋                                |  ETA: 0:00:03\u001b[39m\n",
      "\u001b[34mchain 2:  22%|█████████▌                                |  ETA: 0:00:03\u001b[39m\n",
      "\u001b[32mchain 1:  25%|██████████▌                               |  ETA: 0:00:03\u001b[39m\n",
      "\u001b[36mchain 4:  26%|██████████▉                               |  ETA: 0:00:02\u001b[39m\n",
      "\n",
      "\u001b[34mchain 2:  26%|██████████▊                               |  ETA: 0:00:03\u001b[39m\n",
      "\u001b[35mchain 3:  26%|███████████▏                              |  ETA: 0:00:02\u001b[39m\n",
      "\u001b[32mchain 1:  28%|███████████▊                              |  ETA: 0:00:02\u001b[39m\n",
      "\u001b[36mchain 4:  29%|████████████▏                             |  ETA: 0:00:02\u001b[39m\n",
      "\n",
      "\u001b[34mchain 2:  28%|████████████                              |  ETA: 0:00:02\u001b[39m\n",
      "\u001b[35mchain 3:  30%|████████████▋                             |  ETA: 0:00:02\u001b[39m\n",
      "\u001b[32mchain 1:  31%|█████████████                             |  ETA: 0:00:02\u001b[39m\n",
      "\u001b[36mchain 4:  32%|█████████████▌                            |  ETA: 0:00:02\u001b[39m\n",
      "\u001b[34mchain 2:  32%|█████████████▎                            |  ETA: 0:00:02\u001b[39m\n",
      "\n",
      "\u001b[35mchain 3:  34%|██████████████▏                           |  ETA: 0:00:02\u001b[39m\n",
      "\n",
      "\u001b[32mchain 1:  34%|██████████████▌                           |  ETA: 0:00:02\u001b[39m\u001b[32mchain 1:  38%|███████████████▊                          |  ETA: 0:00:02\u001b[39m\u001b[36mchain 4:  38%|████████████████                          |  ETA: 0:00:02\u001b[39m\n",
      "\u001b[36mchain 4:  35%|██████████████▊                           |  ETA: 0:00:02\u001b[39m\n",
      "\n",
      "\u001b[34mchain 2:  35%|██████████████▊                           |  ETA: 0:00:02\u001b[39m\n",
      "\u001b[35mchain 3:  37%|███████████████▌                          |  ETA: 0:00:02\u001b[39m\n",
      "\n",
      "\n",
      "\u001b[34mchain 2:  38%|████████████████                          |  ETA: 0:00:02\u001b[39m\n",
      "\u001b[35mchain 3:  40%|████████████████▊                         |  ETA: 0:00:02\u001b[39m\n",
      "\u001b[36mchain 4:  41%|█████████████████▎                        |  ETA: 0:00:02\u001b[39m\n",
      "\u001b[32mchain 1:  40%|█████████████████                         |  ETA: 0:00:02\u001b[39m\n",
      "\u001b[34mchain 2:  41%|█████████████████▎                        |  ETA: 0:00:02\u001b[39m\n",
      "\u001b[35mchain 3:  43%|██████████████████                        |  ETA: 0:00:02\u001b[39m\n",
      "\u001b[36mchain 4:  44%|██████████████████▌                       |  ETA: 0:00:02\u001b[39m\n",
      "\u001b[32mchain 1:  44%|██████████████████▎                       |  ETA: 0:00:02\u001b[39m\n",
      "\u001b[34mchain 2:  44%|██████████████████▌                       |  ETA: 0:00:02\u001b[39m\n",
      "\u001b[35mchain 3:  46%|███████████████████▌                      |  ETA: 0:00:02\u001b[39m\n",
      "\u001b[36mchain 4:  47%|███████████████████▊                      |  ETA: 0:00:02\u001b[39m\n",
      "\u001b[32mchain 1:  46%|███████████████████▌                      |  ETA: 0:00:02\u001b[39m\n",
      "\u001b[34mchain 2:  47%|███████████████████▊                      |  ETA: 0:00:02\u001b[39m\n",
      "\u001b[35mchain 3:  50%|████████████████████▊                     |  ETA: 0:00:02\u001b[39m\n",
      "\u001b[36mchain 4:  50%|█████████████████████                     |  ETA: 0:00:02\u001b[39m\n",
      "\u001b[32mchain 1:  50%|████████████████████▊                     |  ETA: 0:00:02\u001b[39m\n",
      "\u001b[34mchain 2:  50%|█████████████████████                     |  ETA: 0:00:02\u001b[39m\n",
      "\u001b[35mchain 3:  52%|██████████████████████                    |  ETA: 0:00:02\u001b[39m\n",
      "\u001b[36mchain 4:  53%|██████████████████████▎                   |  ETA: 0:00:02\u001b[39m\n",
      "\u001b[32mchain 1:  53%|██████████████████████▎                   |  ETA: 0:00:02\u001b[39m\n",
      "\u001b[34mchain 2:  53%|██████████████████████▎                   |  ETA: 0:00:02\u001b[39m\n",
      "\u001b[35mchain 3:  56%|███████████████████████▎                  |  ETA: 0:00:01\u001b[39m\n",
      "\u001b[36mchain 4:  56%|███████████████████████▌                  |  ETA: 0:00:01\u001b[39m\n",
      "\u001b[32mchain 1:  56%|███████████████████████▌                  |  ETA: 0:00:01\u001b[39m\n",
      "\u001b[34mchain 2:  56%|███████████████████████▌                  |  ETA: 0:00:02\u001b[39m\n",
      "\u001b[35mchain 3:  58%|████████████████████████▋                 |  ETA: 0:00:01\u001b[39m\n",
      "\u001b[36mchain 4:  59%|████████████████████████▊                 |  ETA: 0:00:01\u001b[39m\n",
      "\n",
      "\u001b[32mchain 1:  60%|█████████████████████████                 |  ETA: 0:00:01\u001b[39m\n",
      "\u001b[34mchain 2:  60%|█████████████████████████                 |  ETA: 0:00:01\u001b[39m\n",
      "\u001b[35mchain 3:  62%|██████████████████████████                |  ETA: 0:00:01\u001b[39m\n",
      "\u001b[36mchain 4:  62%|██████████████████████████                |  ETA: 0:00:01\u001b[39m\n",
      "\u001b[32mchain 1:  62%|██████████████████████████▎               |  ETA: 0:00:01\u001b[39m\n",
      "\u001b[34mchain 2:  62%|██████████████████████████▎               |  ETA: 0:00:01\u001b[39m\n",
      "\u001b[35mchain 3:  65%|███████████████████████████▎              |  ETA: 0:00:01\u001b[39m\n",
      "\u001b[36mchain 4:  65%|███████████████████████████▎              |  ETA: 0:00:01\u001b[39m\n",
      "\u001b[32mchain 1:  66%|███████████████████████████▌              |  ETA: 0:00:01\u001b[39m\n",
      "\u001b[34mchain 2:  66%|███████████████████████████▌              |  ETA: 0:00:01\u001b[39m\n",
      "\u001b[35mchain 3:  68%|████████████████████████████▌             |  ETA: 0:00:01\u001b[39m\n",
      "\u001b[36mchain 4:  68%|████████████████████████████▌             |  ETA: 0:00:01\u001b[39m\n",
      "\u001b[32mchain 1:  68%|████████████████████████████▊             |  ETA: 0:00:01\u001b[39m\n",
      "\u001b[34mchain 2:  68%|████████████████████████████▊             |  ETA: 0:00:01\u001b[39m\n",
      "\u001b[35mchain 3:  71%|█████████████████████████████▉            |  ETA: 0:00:01\u001b[39m\n",
      "\u001b[36mchain 4:  71%|█████████████████████████████▉            |  ETA: 0:00:01\u001b[39m\n",
      "\u001b[32mchain 1:  72%|██████████████████████████████            |  ETA: 0:00:01\u001b[39m\n",
      "\u001b[34mchain 2:  72%|██████████████████████████████▎           |  ETA: 0:00:01\u001b[39m\n",
      "\u001b[35mchain 3:  74%|███████████████████████████████▎          |  ETA: 0:00:01\u001b[39m\n",
      "\u001b[36mchain 4:  74%|███████████████████████████████▏          |  ETA: 0:00:01\u001b[39m\n",
      "\u001b[32mchain 1:  75%|███████████████████████████████▌          |  ETA: 0:00:01\u001b[39m\n",
      "\u001b[34mchain 2:  75%|███████████████████████████████▌          |  ETA: 0:00:01\u001b[39m\n",
      "\n",
      "\u001b[35mchain 3:  78%|████████████████████████████████▊         |  ETA: 0:00:01\u001b[39m\n"
     ]
    },
    {
     "name": "stderr",
     "output_type": "stream",
     "text": [
      "\u001b[36mchain 4:  77%|████████████████████████████████▍         |  ETA: 0:00:01\u001b[39m\n",
      "\u001b[32mchain 1:  78%|████████████████████████████████▊         |  ETA: 0:00:01\u001b[39m\n",
      "\u001b[34mchain 2:  78%|████████████████████████████████▊         |  ETA: 0:00:01\u001b[39m\n",
      "\u001b[35mchain 3:  81%|██████████████████████████████████        |  ETA: 0:00:01\u001b[39m\n",
      "\u001b[36mchain 4:  80%|█████████████████████████████████▋        |  ETA: 0:00:01\u001b[39m\n",
      "\u001b[32mchain 1:  81%|██████████████████████████████████        |  ETA: 0:00:01\u001b[39m\n",
      "\u001b[34mchain 2:  81%|██████████████████████████████████        |  ETA: 0:00:01\u001b[39m\n",
      "\u001b[35mchain 3:  84%|███████████████████████████████████▎      |  ETA: 0:00:01\u001b[39m\n",
      "\u001b[36mchain 4:  83%|██████████████████████████████████▉       |  ETA: 0:00:01\u001b[39m\n",
      "\n",
      "\u001b[32mchain 1:  84%|███████████████████████████████████▌      |  ETA: 0:00:01\u001b[39m\n",
      "\u001b[34mchain 2:  84%|███████████████████████████████████▎      |  ETA: 0:00:01\u001b[39m\n",
      "\u001b[35mchain 3:  87%|████████████████████████████████████▌     |  ETA: 0:00:00\u001b[39m\n",
      "\u001b[36mchain 4:  86%|████████████████████████████████████▏     |  ETA: 0:00:00\u001b[39m\n",
      "\u001b[32mchain 1:  88%|████████████████████████████████████▊     |  ETA: 0:00:00\u001b[39m\n",
      "\u001b[34mchain 2:  87%|████████████████████████████████████▌     |  ETA: 0:00:00\u001b[39m\n",
      "\u001b[35mchain 3:  90%|█████████████████████████████████████▊    |  ETA: 0:00:00\u001b[39m\n",
      "\u001b[36mchain 4:  89%|█████████████████████████████████████▍    |  ETA: 0:00:00\u001b[39m\n",
      "\u001b[32mchain 1:  90%|██████████████████████████████████████    |  ETA: 0:00:00\u001b[39m\n",
      "\u001b[34mchain 2:  90%|█████████████████████████████████████▊    |  ETA: 0:00:00\u001b[39m\n",
      "\u001b[35mchain 3:  93%|███████████████████████████████████████   |  ETA: 0:00:00\u001b[39m\n",
      "\u001b[36mchain 4:  92%|██████████████████████████████████████▋   |  ETA: 0:00:00\u001b[39m\n",
      "\u001b[32mchain 1:  94%|███████████████████████████████████████▎  |  ETA: 0:00:00\u001b[39m\n",
      "\u001b[34mchain 2:  93%|███████████████████████████████████████   |  ETA: 0:00:00\u001b[39m\n",
      "\n",
      "\u001b[35mchain 3:  96%|████████████████████████████████████████▍ |  ETA: 0:00:00\u001b[39m\n",
      "\u001b[36mchain 4:  95%|███████████████████████████████████████▉  |  ETA: 0:00:00\u001b[39m\n",
      "\u001b[32mchain 1:  96%|████████████████████████████████████████▌ |  ETA: 0:00:00\u001b[39m\n",
      "\u001b[34mchain 2:  96%|████████████████████████████████████████▍ |  ETA: 0:00:00\u001b[39m\n",
      "\u001b[35mchain 3:  99%|█████████████████████████████████████████▋|  ETA: 0:00:00\u001b[39m\n",
      "\u001b[35mchain 3: 100%|██████████████████████████████████████████| Time: 0:00:03\u001b[39m\n",
      "\n",
      "\u001b[32mchain 1: 100%|██████████████████████████████████████████| Time: 0:00:03\u001b[39m\n",
      "\u001b[36mchain 4: 100%|██████████████████████████████████████████| Time: 0:00:03\u001b[39m\n",
      "\u001b[34mchain 2: 100%|██████████████████████████████████████████| Time: 0:00:03\u001b[39m\n"
     ]
    },
    {
     "data": {
      "text/plain": [
       "4-element Vector{Chains}:\n",
       " MCMC chain (30000×4×1 Array{Float64, 3})\n",
       " MCMC chain (30000×4×1 Array{Float64, 3})\n",
       " MCMC chain (30000×4×1 Array{Float64, 3})\n",
       " MCMC chain (30000×4×1 Array{Float64, 3})"
      ]
     },
     "execution_count": 72,
     "metadata": {},
     "output_type": "execute_result"
    }
   ],
   "source": [
    "samples = sample(\n",
    "    stat_model, MCHMC(varE_wanted=2.0), MCMCThreads(), 30000, 4;\n",
    "    monitor_energy=true, \n",
    "    dialog=true)"
   ]
  },
  {
   "cell_type": "code",
   "execution_count": null,
   "id": "2e8cd8ab",
   "metadata": {
    "scrolled": false
   },
   "outputs": [],
   "source": [
    "new_samples = sample(\n",
    "    stat_model, MCHMC(varE_wanted=2.0), MCMCThreads(), 30000, 4;\n",
    "    monitor_energy=true, \n",
    "    dialog=true, \n",
    "    resume_from=samples)"
   ]
  },
  {
   "cell_type": "markdown",
   "id": "4aadd3b5",
   "metadata": {},
   "source": [
    "## NUTS"
   ]
  },
  {
   "cell_type": "code",
   "execution_count": null,
   "id": "dcbe40a3",
   "metadata": {},
   "outputs": [],
   "source": [
    "samples_hmc = sample(stat_model, NUTS(500, 0.65),\n",
    "                     10000, progress=true; save_state=true)"
   ]
  },
  {
   "cell_type": "code",
   "execution_count": null,
   "id": "623ba990",
   "metadata": {},
   "outputs": [],
   "source": [
    "samples_hmc.value"
   ]
  },
  {
   "cell_type": "code",
   "execution_count": null,
   "id": "fa9db828",
   "metadata": {},
   "outputs": [],
   "source": [
    "Wms_hmc = vec(samples_hmc[\"Ωm\"])\n",
    "s8s_hmc = vec(samples_hmc[\"σ8\"]);"
   ]
  },
  {
   "cell_type": "code",
   "execution_count": null,
   "id": "3d063a52",
   "metadata": {},
   "outputs": [],
   "source": [
    "plt.hist2d(Wms_hmc, s8s_hmc, bins=100, range=[[0.1, 0.4],[0.6, 1.2]]);\n",
    "plt.xlabel(\"Wm\")\n",
    "plt.ylabel(\"s8\")\n",
    "plt.title(\"HMC - RSD model\");"
   ]
  },
  {
   "cell_type": "code",
   "execution_count": null,
   "id": "0bdd32b7",
   "metadata": {},
   "outputs": [],
   "source": []
  },
  {
   "cell_type": "code",
   "execution_count": null,
   "id": "67497114",
   "metadata": {},
   "outputs": [],
   "source": []
  }
 ],
 "metadata": {
  "kernelspec": {
   "display_name": "Julia_1.9 (5 threads) 1.9.0-beta3",
   "language": "julia",
   "name": "julia_1.9-_5-threads_-1.9"
  },
  "language_info": {
   "file_extension": ".jl",
   "mimetype": "application/julia",
   "name": "julia",
   "version": "1.9.0"
  }
 },
 "nbformat": 4,
 "nbformat_minor": 5
}
