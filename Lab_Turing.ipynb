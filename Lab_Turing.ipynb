{
 "cells": [
  {
   "cell_type": "markdown",
   "id": "91129cb1",
   "metadata": {},
   "source": [
    "# Turing Target Practice"
   ]
  },
  {
   "cell_type": "markdown",
   "id": "97121235",
   "metadata": {},
   "source": [
    "## Model"
   ]
  },
  {
   "cell_type": "code",
   "execution_count": 1,
   "id": "86b96c9e",
   "metadata": {},
   "outputs": [
    {
     "name": "stderr",
     "output_type": "stream",
     "text": [
      "\u001b[32m\u001b[1m  Activating\u001b[22m\u001b[39m project at `~/PhD/MCHMC.jl`\n"
     ]
    }
   ],
   "source": [
    "] activate \".\""
   ]
  },
  {
   "cell_type": "code",
   "execution_count": 2,
   "id": "baed58e3",
   "metadata": {},
   "outputs": [
    {
     "name": "stderr",
     "output_type": "stream",
     "text": [
      "\u001b[36m\u001b[1m[ \u001b[22m\u001b[39m\u001b[36m\u001b[1mInfo: \u001b[22m\u001b[39mPrecompiling MCHMC [92da4d09-9da0-4f8a-8b31-da41ef0ab6ee]\n"
     ]
    }
   ],
   "source": [
    "# The statistical inference frame-work we will use\n",
    "using Turing\n",
    "using Interpolations\n",
    "using ForwardDiff\n",
    "using LinearAlgebra\n",
    "#using StatsPlots\n",
    "using PyPlot\n",
    "\n",
    "using Revise\n",
    "using MCHMC"
   ]
  },
  {
   "cell_type": "code",
   "execution_count": 3,
   "id": "a7d6f81c",
   "metadata": {},
   "outputs": [],
   "source": [
    "fs8_zs = [0.38, 0.51, 0.61, 1.48, 0.44, 0.6, 0.73, 0.6, 0.86, 0.067, 1.4]\n",
    "fs8_data = [0.49749, 0.457523, 0.436148, 0.462, 0.413, 0.39, 0.437, 0.55, 0.4, 0.423, 0.482]\n",
    "fs8_cov = [0.00203355 0.000811829 0.000264615 0.0 0.0 0.0 0.0 0.0 0.0 0.0 0.0;\n",
    "           0.000811829 0.00142289 0.000662824 0.0 0.0 0.0 0.0 0.0 0.0 0.0 0.0; \n",
    "           0.000264615 0.000662824 0.00118576 0.0 0.0 0.0 0.0 0.0 0.0 0.0 0.0;\n",
    "           0.0 0.0 0.0 0.002025 0.0 0.0 0.0 0.0 0.0 0.0 0.0;\n",
    "           0.0 0.0 0.0 0.0 0.0064 0.00257 0.0 0.0 0.0 0.0 0.0;\n",
    "           0.0 0.0 0.0 0.0 0.00257 0.003969 0.00254 0.0 0.0 0.0 0.0;\n",
    "           0.0 0.0 0.0 0.0 0.0 0.00254 0.005184 0.0 0.0 0.0 0.0;\n",
    "           0.0 0.0 0.0 0.0 0.0 0.0 0.0 0.0144 0.0 0.0 0.0;\n",
    "           0.0 0.0 0.0 0.0 0.0 0.0 0.0 0.0 0.0121 0.0 0.0; \n",
    "           0.0 0.0 0.0 0.0 0.0 0.0 0.0 0.0 0.0 0.003025 0.0;\n",
    "           0.0 0.0 0.0 0.0 0.0 0.0 0.0 0.0 0.0 0.0 0.013456000000000001];"
   ]
  },
  {
   "cell_type": "code",
   "execution_count": 4,
   "id": "1359a630",
   "metadata": {
    "code_folding": []
   },
   "outputs": [
    {
     "data": {
      "text/plain": [
       "make_fs8 (generic function with 1 method)"
      ]
     },
     "execution_count": 4,
     "metadata": {},
     "output_type": "execute_result"
    }
   ],
   "source": [
    "function make_fs8(Ωm, σ8; Ωr=8.24*10^-5)\n",
    "    # ODE solution for growth factor\n",
    "    x_Dz = LinRange(0, log(1+1100), 300)\n",
    "    dx_Dz = x_Dz[2]-x_Dz[1]\n",
    "    z_Dz = @.(exp(x_Dz) - 1)\n",
    "    a_Dz = @.(1/(1+z_Dz))\n",
    "    aa = reverse(a_Dz)\n",
    "    e =  @.(sqrt.(abs(Ωm)*(1+z_Dz)^3+Ωr*(1+z_Dz)^4+(1-Ωm-Ωr)))\n",
    "    ee = reverse(e)\n",
    "\n",
    "    dd = zeros(typeof(Ωm), 300)\n",
    "    yy = zeros(typeof(Ωm), 300)\n",
    "    dd[1] = aa[1]\n",
    "    yy[1] = aa[1]^3*ee[end]\n",
    "\n",
    "    for i in 1:(300-1)\n",
    "        A0 = -1.5 * Ωm / (aa[i]*ee[i])\n",
    "        B0 = -1. / (aa[i]^2*ee[i])\n",
    "        A1 = -1.5 * Ωm / (aa[i+1]*ee[i+1])\n",
    "        B1 = -1. / (aa[i+1]^2*ee[i+1])\n",
    "        yy[i+1] = (1+0.5*dx_Dz^2*A0*B0)*yy[i] + 0.5*(A0+A1)*dx_Dz*dd[i]\n",
    "        dd[i+1] = 0.5*(B0+B1)*dx_Dz*yy[i] + (1+0.5*dx_Dz^2*A0*B0)*dd[i]\n",
    "    end\n",
    "\n",
    "    y = reverse(yy)\n",
    "    d = reverse(dd)\n",
    "\n",
    "    Dzi = LinearInterpolation(z_Dz, d./d[1], extrapolation_bc=Line())\n",
    "    fs8zi = LinearInterpolation(z_Dz, -σ8 .* y./ (a_Dz.^2 .*e.*d[1]),\n",
    "                                 extrapolation_bc=Line())\n",
    "    return fs8zi\n",
    "end"
   ]
  },
  {
   "cell_type": "code",
   "execution_count": 5,
   "id": "8005e277",
   "metadata": {},
   "outputs": [],
   "source": [
    "@model function model(data; cov = fs8_cov) \n",
    "    # Define priors\n",
    "    #KiDS priors\n",
    "    Ωm ~ Normal(0.3, 0.1)\n",
    "    σ8 ~ Normal(0.8, 0.3)\n",
    "    fs8_itp = make_fs8(Ωm, σ8)\n",
    "    theory = fs8_itp(fs8_zs)\n",
    "    data ~ MvNormal(theory, cov)\n",
    "end;"
   ]
  },
  {
   "cell_type": "code",
   "execution_count": 6,
   "id": "1eebe796",
   "metadata": {},
   "outputs": [
    {
     "data": {
      "text/plain": [
       "DynamicPPL.Model{typeof(model), (:data, :cov), (:cov,), (), Tuple{Vector{Float64}, Matrix{Float64}}, Tuple{Matrix{Float64}}, DynamicPPL.DefaultContext}(model, (data = [0.49749, 0.457523, 0.436148, 0.462, 0.413, 0.39, 0.437, 0.55, 0.4, 0.423, 0.482], cov = [0.00203355 0.000811829 … 0.0 0.0; 0.000811829 0.00142289 … 0.0 0.0; … ; 0.0 0.0 … 0.003025 0.0; 0.0 0.0 … 0.0 0.013456000000000001]), (cov = [0.00203355 0.000811829 … 0.0 0.0; 0.000811829 0.00142289 … 0.0 0.0; … ; 0.0 0.0 … 0.003025 0.0; 0.0 0.0 … 0.0 0.013456000000000001],), DynamicPPL.DefaultContext())"
      ]
     },
     "execution_count": 6,
     "metadata": {},
     "output_type": "execute_result"
    }
   ],
   "source": [
    "stat_model = model(fs8_data)"
   ]
  },
  {
   "cell_type": "markdown",
   "id": "10dfa4cc",
   "metadata": {},
   "source": [
    "## Sampling"
   ]
  },
  {
   "cell_type": "code",
   "execution_count": 7,
   "id": "c8ed14a3",
   "metadata": {},
   "outputs": [],
   "source": [
    "target = TuringTarget(stat_model);"
   ]
  },
  {
   "cell_type": "code",
   "execution_count": 8,
   "id": "a79c2b35",
   "metadata": {},
   "outputs": [
    {
     "data": {
      "text/plain": [
       "MCHMC.Sampler(Settings(Random.MersenneTwister(0), 2.0, 0, 1000, 10, \"LF\"), Hyperparameters{Float64}(0.0, 0.0, 0.0, 0.1931833275037836), MCHMC.Leapfrog)"
      ]
     },
     "execution_count": 8,
     "metadata": {},
     "output_type": "execute_result"
    }
   ],
   "source": [
    "spl = mchmc(0.0, 0.0, varE_wanted=2.0) #sqrt(target.d)*0.01"
   ]
  },
  {
   "cell_type": "code",
   "execution_count": 9,
   "id": "82938e27",
   "metadata": {
    "scrolled": false
   },
   "outputs": [
    {
     "name": "stderr",
     "output_type": "stream",
     "text": [
      "\u001b[36m\u001b[1m[ \u001b[22m\u001b[39m\u001b[36m\u001b[1mInfo: \u001b[22m\u001b[39mTuning eps ⏳\n"
     ]
    },
    {
     "name": "stdout",
     "output_type": "stream",
     "text": [
      "eps: 0.5 --> VarE: NaN\n",
      "eps: 0.25 --> VarE: 8.709047172010376\n",
      "eps: 0.125 --> VarE: 23.994589748919807\n",
      "eps: 0.0625 --> VarE: 5.039094985619223\n",
      "eps: 0.03125 --> VarE: 2.0415798595158874\n",
      "eps: 0.015625 --> VarE: 0.7855387835278662\n"
     ]
    },
    {
     "name": "stderr",
     "output_type": "stream",
     "text": [
      "\u001b[36m\u001b[1m[ \u001b[22m\u001b[39m\u001b[36m\u001b[1mInfo: \u001b[22m\u001b[39mFound eps: 0.015625 ✅\n",
      "\u001b[36m\u001b[1m[ \u001b[22m\u001b[39m\u001b[36m\u001b[1mInfo: \u001b[22m\u001b[39mTuning L ⏳\n"
     ]
    },
    {
     "name": "stdout",
     "output_type": "stream",
     "text": [
      "samples: 100--> ESS: 0.1498329997666189\n"
     ]
    },
    {
     "name": "stderr",
     "output_type": "stream",
     "text": [
      "\u001b[36m\u001b[1m[ \u001b[22m\u001b[39m\u001b[36m\u001b[1mInfo: \u001b[22m\u001b[39mFound L: 1.4142135623730951 ✅\n"
     ]
    },
    {
     "data": {
      "text/plain": [
       "10001-element Vector{Any}:\n",
       " [0.24349558819290018, 0.7015082892534154, 0.0, 10.695690774771087]\n",
       " [0.24349558819290018, 0.7015082892534154, 1.826300322963755, 12.526574425201536]\n",
       " [0.25202191298758625, 0.7146018911450082, 1.863597797990007, 10.707064284302785]\n",
       " [0.2462957687206517, 0.7000639443561988, -4.32567714698253, 9.469626681344495]\n",
       " [0.23077978110006236, 0.6982214587639299, -0.00045643297698028107, 11.469655227996551]\n",
       " [0.23703812036538197, 0.7125383653655726, 5.068688745254608, 12.91933100489529]\n",
       " [0.2357073457519575, 0.7281065914664572, 4.055751252107218, 14.451878276129944]\n",
       " [0.24687845348487727, 0.7390311956707064, 4.321508929196034, 15.769733262881797]\n",
       " [0.25250624908311187, 0.7536074963572487, 3.6343082213392854, 16.81718917706702]\n",
       " [0.255600442211901, 0.7689230634013301, 2.005316519987197, 16.718199502900788]\n",
       " [0.2413422370320465, 0.7753140109092643, -0.24240751470432542, 16.57426855494074]\n",
       " [0.2274504197640403, 0.7824664956518083, 0.4748072625031803, 17.356787103150477]\n",
       " [0.24244538671943083, 0.786858715023236, 2.037198760091986, 17.94720018758006]\n",
       " ⋮\n",
       " [0.339452045944862, 0.796460418592517, -0.35222400069980964, 17.70058900508103]\n",
       " [0.3414148063929485, 0.8119616506862387, -0.10328014529201468, 17.7599631079433]\n",
       " [0.33246320608804, 0.8247682691697089, 0.537341850855487, 18.156865753557913]\n",
       " [0.32036219582170883, 0.8148836257500327, 0.9588003653694095, 18.315755365199095]\n",
       " [0.30923483842094157, 0.8039144625059383, 0.48279489408582776, 18.473536901100278]\n",
       " [0.2937110342973936, 0.8056898865492912, 0.2615181575528709, 18.404150317600344]\n",
       " [0.2790565790377878, 0.800268856569277, -0.5700573141350951, 17.95593924042222]\n",
       " [0.2788388022604219, 0.7846453742981814, -1.5175752253871515, 17.32231568969419]\n",
       " [0.2688345246855735, 0.7726430805505102, -1.6138693780817661, 16.920072949588807]\n",
       " [0.2791070207448316, 0.7608695318198799, -0.19543913616706377, 17.517046049307567]\n",
       " [0.29168528151309603, 0.7701392665003085, 1.6005726208088085, 17.970351553498247]\n",
       " [0.3016361020279887, 0.7821859173245165, 1.160396780410263, 18.24348864829709]"
      ]
     },
     "execution_count": 9,
     "metadata": {},
     "output_type": "execute_result"
    }
   ],
   "source": [
    "samples_mchmc = Sample(spl, target, 10000;\n",
    "                       monitor_energy=true, \n",
    "                       dialog=true)"
   ]
  },
  {
   "cell_type": "code",
   "execution_count": 10,
   "id": "9982a5de",
   "metadata": {},
   "outputs": [],
   "source": [
    "#plt.plot(samples_mchmc.E[8000:end])"
   ]
  },
  {
   "cell_type": "code",
   "execution_count": 11,
   "id": "f966c9fb",
   "metadata": {},
   "outputs": [],
   "source": [
    "#mean(samples_mchmc.E[8000:end])"
   ]
  },
  {
   "cell_type": "code",
   "execution_count": 12,
   "id": "999faaf8",
   "metadata": {},
   "outputs": [],
   "source": [
    "#std(samples_mchmc.E[8000:end])^2/target.d"
   ]
  },
  {
   "cell_type": "code",
   "execution_count": 13,
   "id": "385a8b1a",
   "metadata": {},
   "outputs": [],
   "source": [
    "Wms_mchmc = [sample[1] for sample in samples_mchmc]\n",
    "s8s_mchmc = [sample[2] for sample in samples_mchmc];"
   ]
  },
  {
   "cell_type": "code",
   "execution_count": 14,
   "id": "2a803eb8",
   "metadata": {},
   "outputs": [
    {
     "data": {
      "image/png": "[encoded data removed]",
      "text/plain": [
       "Figure(PyObject <Figure size 640x480 with 1 Axes>)"
      ]
     },
     "metadata": {},
     "output_type": "display_data"
    }
   ],
   "source": [
    "plt.hist2d(Wms_mchmc, s8s_mchmc, bins=100, range=[[0.1, 0.4],[0.6, 1.2]]);\n",
    "plt.xlabel(\"Wm\")\n",
    "plt.ylabel(\"s8\")\n",
    "plt.title(\"MCHMC - RSD model - eps = 0.001 --> var[E]~0.00003\");"
   ]
  },
  {
   "cell_type": "markdown",
   "id": "0a03dd58",
   "metadata": {},
   "source": [
    "## AbstractMCMC"
   ]
  },
  {
   "cell_type": "code",
   "execution_count": 22,
   "id": "d569b9dc",
   "metadata": {},
   "outputs": [
    {
     "name": "stderr",
     "output_type": "stream",
     "text": [
      "\u001b[36m\u001b[1m[ \u001b[22m\u001b[39m\u001b[36m\u001b[1mInfo: \u001b[22m\u001b[39mTuning eps ⏳\n"
     ]
    },
    {
     "name": "stdout",
     "output_type": "stream",
     "text": [
      "eps: 0.5 --> VarE: NaN\n",
      "eps: 0.25 --> VarE: 349.3764339594904\n",
      "eps: 0.125 --> VarE: 216.66519753390503\n",
      "eps: 0.0625 --> VarE: 9.071224821247336\n",
      "eps: 0.03125 --> VarE: 3.3749008567608505\n",
      "eps: 0.015625 --> VarE: 1.5243742599387968\n",
      "samples: 100--> ESS: 0.04483486519138105\n"
     ]
    },
    {
     "name": "stderr",
     "output_type": "stream",
     "text": [
      "\u001b[36m\u001b[1m[ \u001b[22m\u001b[39m\u001b[36m\u001b[1mInfo: \u001b[22m\u001b[39mFound eps: 0.015625 ✅\n",
      "\u001b[36m\u001b[1m[ \u001b[22m\u001b[39m\u001b[36m\u001b[1mInfo: \u001b[22m\u001b[39mTuning L ⏳\n"
     ]
    },
    {
     "name": "stdout",
     "output_type": "stream",
     "text": [
      "samples: 243--> ESS: 0.041882227488730654\n"
     ]
    },
    {
     "name": "stderr",
     "output_type": "stream",
     "text": [
      "\u001b[36m\u001b[1m[ \u001b[22m\u001b[39m\u001b[36m\u001b[1mInfo: \u001b[22m\u001b[39mFound L: 1.4142135623730951 ✅\n",
      "\u001b[32mSampling: 100%|█████████████████████████████████████████| Time: 0:00:00\u001b[39m\n"
     ]
    },
    {
     "data": {
      "text/plain": [
       "Chains MCMC chain (10000×4×1 Array{Float64, 3}):\n",
       "\n",
       "Iterations        = 1:1:10000\n",
       "Number of chains  = 1\n",
       "Samples per chain = 10000\n",
       "Wall duration     = 1.76 seconds\n",
       "Compute duration  = 1.76 seconds\n",
       "parameters        = Ωm, σ8\n",
       "internals         = E, logp\n",
       "\n",
       "Summary Statistics\n",
       " \u001b[1m parameters \u001b[0m \u001b[1m    mean \u001b[0m \u001b[1m     std \u001b[0m \u001b[1m naive_se \u001b[0m \u001b[1m    mcse \u001b[0m \u001b[1m      ess \u001b[0m \u001b[1m    rhat \u001b[0m \u001b[1m e\u001b[0m ⋯\n",
       " \u001b[90m     Symbol \u001b[0m \u001b[90m Float64 \u001b[0m \u001b[90m Float64 \u001b[0m \u001b[90m  Float64 \u001b[0m \u001b[90m Float64 \u001b[0m \u001b[90m  Float64 \u001b[0m \u001b[90m Float64 \u001b[0m \u001b[90m  \u001b[0m ⋯\n",
       "\n",
       "          Ωm    0.2527    0.0586     0.0006    0.0018   683.1986    0.9999     ⋯\n",
       "          σ8    0.8519    0.0565     0.0006    0.0017   701.5853    0.9999     ⋯\n",
       "\u001b[36m                                                                1 column omitted\u001b[0m\n",
       "\n",
       "Quantiles\n",
       " \u001b[1m parameters \u001b[0m \u001b[1m    2.5% \u001b[0m \u001b[1m   25.0% \u001b[0m \u001b[1m   50.0% \u001b[0m \u001b[1m   75.0% \u001b[0m \u001b[1m   97.5% \u001b[0m\n",
       " \u001b[90m     Symbol \u001b[0m \u001b[90m Float64 \u001b[0m \u001b[90m Float64 \u001b[0m \u001b[90m Float64 \u001b[0m \u001b[90m Float64 \u001b[0m \u001b[90m Float64 \u001b[0m\n",
       "\n",
       "          Ωm    0.1513    0.2108    0.2486    0.2898    0.3805\n",
       "          σ8    0.7527    0.8132    0.8476    0.8869    0.9697\n"
      ]
     },
     "execution_count": 22,
     "metadata": {},
     "output_type": "execute_result"
    }
   ],
   "source": [
    "samples = sample(\n",
    "    stat_model, mchmc(varE_wanted=2.0), 10000;\n",
    "    monitor_energy=true, \n",
    "    dialog=true)"
   ]
  },
  {
   "cell_type": "code",
   "execution_count": 23,
   "id": "eea6e813",
   "metadata": {},
   "outputs": [
    {
     "name": "stderr",
     "output_type": "stream",
     "text": [
      "\u001b[32mSampling: 100%|█████████████████████████████████████████| Time: 0:00:01\u001b[39m\n"
     ]
    },
    {
     "data": {
      "text/plain": [
       "Chains MCMC chain (10000×4×1 Array{Float64, 3}):\n",
       "\n",
       "Iterations        = 1:1:10000\n",
       "Number of chains  = 1\n",
       "Samples per chain = 10000\n",
       "Wall duration     = 1.26 seconds\n",
       "Compute duration  = 1.26 seconds\n",
       "parameters        = Ωm, σ8\n",
       "internals         = E, logp\n",
       "\n",
       "Summary Statistics\n",
       " \u001b[1m parameters \u001b[0m \u001b[1m    mean \u001b[0m \u001b[1m     std \u001b[0m \u001b[1m naive_se \u001b[0m \u001b[1m    mcse \u001b[0m \u001b[1m      ess \u001b[0m \u001b[1m    rhat \u001b[0m \u001b[1m e\u001b[0m ⋯\n",
       " \u001b[90m     Symbol \u001b[0m \u001b[90m Float64 \u001b[0m \u001b[90m Float64 \u001b[0m \u001b[90m  Float64 \u001b[0m \u001b[90m Float64 \u001b[0m \u001b[90m  Float64 \u001b[0m \u001b[90m Float64 \u001b[0m \u001b[90m  \u001b[0m ⋯\n",
       "\n",
       "          Ωm    0.2495    0.0602     0.0006    0.0018   653.7546    1.0015     ⋯\n",
       "          σ8    0.8570    0.0596     0.0006    0.0018   656.2351    1.0019     ⋯\n",
       "\u001b[36m                                                                1 column omitted\u001b[0m\n",
       "\n",
       "Quantiles\n",
       " \u001b[1m parameters \u001b[0m \u001b[1m    2.5% \u001b[0m \u001b[1m   25.0% \u001b[0m \u001b[1m   50.0% \u001b[0m \u001b[1m   75.0% \u001b[0m \u001b[1m   97.5% \u001b[0m\n",
       " \u001b[90m     Symbol \u001b[0m \u001b[90m Float64 \u001b[0m \u001b[90m Float64 \u001b[0m \u001b[90m Float64 \u001b[0m \u001b[90m Float64 \u001b[0m \u001b[90m Float64 \u001b[0m\n",
       "\n",
       "          Ωm    0.1430    0.2066    0.2455    0.2885    0.3781\n",
       "          σ8    0.7575    0.8157    0.8519    0.8930    0.9853\n"
      ]
     },
     "execution_count": 23,
     "metadata": {},
     "output_type": "execute_result"
    }
   ],
   "source": [
    "new_samples = sample(stat_model, mchmc(varE_wanted=2.0), 10000; \n",
    "                     monitor_energy=true, \n",
    "                     progress=true, resume_from=samples)"
   ]
  },
  {
   "cell_type": "code",
   "execution_count": 17,
   "id": "8b47bac3",
   "metadata": {},
   "outputs": [],
   "source": [
    "#StatsPlots.plot(new_samples)"
   ]
  },
  {
   "cell_type": "markdown",
   "id": "4aadd3b5",
   "metadata": {},
   "source": [
    "## NUTS"
   ]
  },
  {
   "cell_type": "code",
   "execution_count": 28,
   "id": "dcbe40a3",
   "metadata": {},
   "outputs": [
    {
     "name": "stderr",
     "output_type": "stream",
     "text": [
      "\u001b[36m\u001b[1m┌ \u001b[22m\u001b[39m\u001b[36m\u001b[1mInfo: \u001b[22m\u001b[39mFound initial step size\n",
      "\u001b[36m\u001b[1m└ \u001b[22m\u001b[39m  ϵ = 0.05\n",
      "\u001b[32mSampling: 100%|█████████████████████████████████████████| Time: 0:00:02\u001b[39m\n"
     ]
    },
    {
     "data": {
      "text/plain": [
       "Chains MCMC chain (10000×14×1 Array{Float64, 3}):\n",
       "\n",
       "Iterations        = 501:1:10500\n",
       "Number of chains  = 1\n",
       "Samples per chain = 10000\n",
       "Wall duration     = 2.46 seconds\n",
       "Compute duration  = 2.46 seconds\n",
       "parameters        = Ωm, σ8\n",
       "internals         = lp, n_steps, is_accept, acceptance_rate, log_density, hamiltonian_energy, hamiltonian_energy_error, max_hamiltonian_energy_error, tree_depth, numerical_error, step_size, nom_step_size\n",
       "\n",
       "Summary Statistics\n",
       " \u001b[1m parameters \u001b[0m \u001b[1m    mean \u001b[0m \u001b[1m     std \u001b[0m \u001b[1m naive_se \u001b[0m \u001b[1m    mcse \u001b[0m \u001b[1m       ess \u001b[0m \u001b[1m    rhat \u001b[0m \u001b[1m \u001b[0m ⋯\n",
       " \u001b[90m     Symbol \u001b[0m \u001b[90m Float64 \u001b[0m \u001b[90m Float64 \u001b[0m \u001b[90m  Float64 \u001b[0m \u001b[90m Float64 \u001b[0m \u001b[90m   Float64 \u001b[0m \u001b[90m Float64 \u001b[0m \u001b[90m \u001b[0m ⋯\n",
       "\n",
       "          Ωm    0.2529    0.0591     0.0006    0.0011   2782.7588    0.9999    ⋯\n",
       "          σ8    0.8529    0.0553     0.0006    0.0012   2291.9041    1.0001    ⋯\n",
       "\u001b[36m                                                                1 column omitted\u001b[0m\n",
       "\n",
       "Quantiles\n",
       " \u001b[1m parameters \u001b[0m \u001b[1m    2.5% \u001b[0m \u001b[1m   25.0% \u001b[0m \u001b[1m   50.0% \u001b[0m \u001b[1m   75.0% \u001b[0m \u001b[1m   97.5% \u001b[0m\n",
       " \u001b[90m     Symbol \u001b[0m \u001b[90m Float64 \u001b[0m \u001b[90m Float64 \u001b[0m \u001b[90m Float64 \u001b[0m \u001b[90m Float64 \u001b[0m \u001b[90m Float64 \u001b[0m\n",
       "\n",
       "          Ωm    0.1487    0.2107    0.2487    0.2905    0.3806\n",
       "          σ8    0.7531    0.8153    0.8500    0.8877    0.9702\n"
      ]
     },
     "execution_count": 28,
     "metadata": {},
     "output_type": "execute_result"
    }
   ],
   "source": [
    "samples_hmc = sample(stat_model, NUTS(500, 0.65),\n",
    "                     10000, progress=true; save_state=true)"
   ]
  },
  {
   "cell_type": "code",
   "execution_count": 29,
   "id": "623ba990",
   "metadata": {},
   "outputs": [
    {
     "data": {
      "text/plain": [
       "3-dimensional AxisArray{Float64,3,...} with axes:\n",
       "    :iter, 501:1:10500\n",
       "    :var, [:Ωm, :σ8, :lp, :n_steps, :is_accept, :acceptance_rate, :log_density, :hamiltonian_energy, :hamiltonian_energy_error, :max_hamiltonian_energy_error, :tree_depth, :numerical_error, :step_size, :nom_step_size]\n",
       "    :chain, 1:1\n",
       "And data, a 10000×14×1 Array{Float64, 3}:\n",
       "[:, :, 1] =\n",
       " 0.287093  0.867587  17.958   3.0  1.0  …  1.0  0.0  0.660208  0.660208\n",
       " 0.172582  0.864061  17.2658  7.0  1.0     2.0  0.0  0.660208  0.660208\n",
       " 0.20796   0.964825  16.2237  7.0  1.0     2.0  0.0  0.660208  0.660208\n",
       " 0.204067  0.96482   16.3926  1.0  1.0     1.0  0.0  0.660208  0.660208\n",
       " 0.197694  0.970248  16.355   3.0  1.0     2.0  0.0  0.660208  0.660208\n",
       " 0.14873   0.910243  16.8453  3.0  1.0  …  2.0  0.0  0.660208  0.660208\n",
       " 0.160976  0.993368  16.4003  3.0  1.0     1.0  0.0  0.660208  0.660208\n",
       " 0.184545  0.884184  18.2677  7.0  1.0     2.0  0.0  0.660208  0.660208\n",
       " 0.167109  0.879238  17.3634  3.0  1.0     2.0  0.0  0.660208  0.660208\n",
       " 0.167109  0.879238  17.3634  7.0  1.0     2.0  0.0  0.660208  0.660208\n",
       " 0.174167  0.909464  18.1062  3.0  1.0  …  2.0  0.0  0.660208  0.660208\n",
       " 0.178752  0.870144  17.7818  3.0  1.0     1.0  0.0  0.660208  0.660208\n",
       " 0.240989  0.90762   17.8533  3.0  1.0     2.0  0.0  0.660208  0.660208\n",
       " ⋮                                      ⋱  ⋮                   \n",
       " 0.280779  0.844096  18.628   7.0  1.0     2.0  0.0  0.660208  0.660208\n",
       " 0.219605  0.873294  18.8423  7.0  1.0     3.0  0.0  0.660208  0.660208\n",
       " 0.300749  0.826621  18.4532  7.0  1.0  …  3.0  0.0  0.660208  0.660208\n",
       " 0.243326  0.84152   18.882   3.0  1.0     2.0  0.0  0.660208  0.660208\n",
       " 0.203786  0.820033  17.357   7.0  1.0     3.0  0.0  0.660208  0.660208\n",
       " 0.203786  0.820033  17.357   1.0  1.0     1.0  0.0  0.660208  0.660208\n",
       " 0.203786  0.820033  17.357   1.0  1.0     1.0  0.0  0.660208  0.660208\n",
       " 0.220885  0.850131  18.74    1.0  1.0  …  1.0  0.0  0.660208  0.660208\n",
       " 0.257839  0.849358  18.8652  7.0  1.0     3.0  0.0  0.660208  0.660208\n",
       " 0.389878  0.730857  15.4653  7.0  1.0     2.0  0.0  0.660208  0.660208\n",
       " 0.236037  0.823381  18.5116  5.0  1.0     2.0  0.0  0.660208  0.660208\n",
       " 0.325275  0.792431  18.0025  7.0  1.0     2.0  0.0  0.660208  0.660208"
      ]
     },
     "execution_count": 29,
     "metadata": {},
     "output_type": "execute_result"
    }
   ],
   "source": [
    "samples_hmc.value"
   ]
  },
  {
   "cell_type": "code",
   "execution_count": 26,
   "id": "fa9db828",
   "metadata": {},
   "outputs": [],
   "source": [
    "Wms_hmc = vec(samples_hmc[\"Ωm\"])\n",
    "s8s_hmc = vec(samples_hmc[\"σ8\"]);"
   ]
  },
  {
   "cell_type": "code",
   "execution_count": 27,
   "id": "3d063a52",
   "metadata": {},
   "outputs": [
    {
     "data": {
      "image/png": "[encoded data removed]",
      "text/plain": [
       "Figure(PyObject <Figure size 640x480 with 1 Axes>)"
      ]
     },
     "metadata": {},
     "output_type": "display_data"
    }
   ],
   "source": [
    "plt.hist2d(Wms_hmc, s8s_hmc, bins=100, range=[[0.1, 0.4],[0.6, 1.2]]);\n",
    "plt.xlabel(\"Wm\")\n",
    "plt.ylabel(\"s8\")\n",
    "plt.title(\"HMC - RSD model\");"
   ]
  },
  {
   "cell_type": "code",
   "execution_count": null,
   "id": "6579c09d",
   "metadata": {},
   "outputs": [],
   "source": []
  },
  {
   "cell_type": "code",
   "execution_count": null,
   "id": "1766ba2f",
   "metadata": {},
   "outputs": [],
   "source": []
  }
 ],
 "metadata": {
  "kernelspec": {
   "display_name": "Julia 1.9.0-beta3",
   "language": "julia",
   "name": "julia-1.9"
  },
  "language_info": {
   "file_extension": ".jl",
   "mimetype": "application/julia",
   "name": "julia",
   "version": "1.9.0"
  }
 },
 "nbformat": 4,
 "nbformat_minor": 5
}
