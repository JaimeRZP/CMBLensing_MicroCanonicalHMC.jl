{
 "cells": [
  {
   "cell_type": "markdown",
   "id": "91129cb1",
   "metadata": {},
   "source": [
    "# Turing Target Practice"
   ]
  },
  {
   "cell_type": "markdown",
   "id": "97121235",
   "metadata": {},
   "source": [
    "## Model"
   ]
  },
  {
   "cell_type": "code",
   "execution_count": 1,
   "id": "86b96c9e",
   "metadata": {},
   "outputs": [
    {
     "name": "stderr",
     "output_type": "stream",
     "text": [
      "\u001b[32m\u001b[1m  Activating\u001b[22m\u001b[39m project at `~/PhD/MCHMC.jl`\n"
     ]
    }
   ],
   "source": [
    "] activate \".\""
   ]
  },
  {
   "cell_type": "code",
   "execution_count": 24,
   "id": "baed58e3",
   "metadata": {},
   "outputs": [
    {
     "name": "stderr",
     "output_type": "stream",
     "text": [
      "\u001b[36m\u001b[1m[ \u001b[22m\u001b[39m\u001b[36m\u001b[1mInfo: \u001b[22m\u001b[39mPrecompiling MCHMC [92da4d09-9da0-4f8a-8b31-da41ef0ab6ee]\n"
     ]
    }
   ],
   "source": [
    "# The statistical inference frame-work we will use\n",
    "using Turing\n",
    "using Interpolations\n",
    "using ForwardDiff\n",
    "using LinearAlgebra\n",
    "using PyPlot\n",
    "\n",
    "using Revise\n",
    "using MCHMC"
   ]
  },
  {
   "cell_type": "code",
   "execution_count": 25,
   "id": "a7d6f81c",
   "metadata": {},
   "outputs": [],
   "source": [
    "fs8_zs = [0.38, 0.51, 0.61, 1.48, 0.44, 0.6, 0.73, 0.6, 0.86, 0.067, 1.4]\n",
    "fs8_data = [0.49749, 0.457523, 0.436148, 0.462, 0.413, 0.39, 0.437, 0.55, 0.4, 0.423, 0.482]\n",
    "fs8_cov = [0.00203355 0.000811829 0.000264615 0.0 0.0 0.0 0.0 0.0 0.0 0.0 0.0;\n",
    "           0.000811829 0.00142289 0.000662824 0.0 0.0 0.0 0.0 0.0 0.0 0.0 0.0; \n",
    "           0.000264615 0.000662824 0.00118576 0.0 0.0 0.0 0.0 0.0 0.0 0.0 0.0;\n",
    "           0.0 0.0 0.0 0.002025 0.0 0.0 0.0 0.0 0.0 0.0 0.0;\n",
    "           0.0 0.0 0.0 0.0 0.0064 0.00257 0.0 0.0 0.0 0.0 0.0;\n",
    "           0.0 0.0 0.0 0.0 0.00257 0.003969 0.00254 0.0 0.0 0.0 0.0;\n",
    "           0.0 0.0 0.0 0.0 0.0 0.00254 0.005184 0.0 0.0 0.0 0.0;\n",
    "           0.0 0.0 0.0 0.0 0.0 0.0 0.0 0.0144 0.0 0.0 0.0;\n",
    "           0.0 0.0 0.0 0.0 0.0 0.0 0.0 0.0 0.0121 0.0 0.0; \n",
    "           0.0 0.0 0.0 0.0 0.0 0.0 0.0 0.0 0.0 0.003025 0.0;\n",
    "           0.0 0.0 0.0 0.0 0.0 0.0 0.0 0.0 0.0 0.0 0.013456000000000001];"
   ]
  },
  {
   "cell_type": "code",
   "execution_count": 26,
   "id": "1359a630",
   "metadata": {
    "code_folding": []
   },
   "outputs": [
    {
     "data": {
      "text/plain": [
       "make_fs8 (generic function with 1 method)"
      ]
     },
     "execution_count": 26,
     "metadata": {},
     "output_type": "execute_result"
    }
   ],
   "source": [
    "function make_fs8(Ωm, σ8; Ωr=8.24*10^-5)\n",
    "    # ODE solution for growth factor\n",
    "    x_Dz = LinRange(0, log(1+1100), 300)\n",
    "    dx_Dz = x_Dz[2]-x_Dz[1]\n",
    "    z_Dz = @.(exp(x_Dz) - 1)\n",
    "    a_Dz = @.(1/(1+z_Dz))\n",
    "    aa = reverse(a_Dz)\n",
    "    e =  @.(sqrt.(abs(Ωm)*(1+z_Dz)^3+Ωr*(1+z_Dz)^4+(1-Ωm-Ωr)))\n",
    "    ee = reverse(e)\n",
    "\n",
    "    dd = zeros(typeof(Ωm), 300)\n",
    "    yy = zeros(typeof(Ωm), 300)\n",
    "    dd[1] = aa[1]\n",
    "    yy[1] = aa[1]^3*ee[end]\n",
    "\n",
    "    for i in 1:(300-1)\n",
    "        A0 = -1.5 * Ωm / (aa[i]*ee[i])\n",
    "        B0 = -1. / (aa[i]^2*ee[i])\n",
    "        A1 = -1.5 * Ωm / (aa[i+1]*ee[i+1])\n",
    "        B1 = -1. / (aa[i+1]^2*ee[i+1])\n",
    "        yy[i+1] = (1+0.5*dx_Dz^2*A0*B0)*yy[i] + 0.5*(A0+A1)*dx_Dz*dd[i]\n",
    "        dd[i+1] = 0.5*(B0+B1)*dx_Dz*yy[i] + (1+0.5*dx_Dz^2*A0*B0)*dd[i]\n",
    "    end\n",
    "\n",
    "    y = reverse(yy)\n",
    "    d = reverse(dd)\n",
    "\n",
    "    Dzi = LinearInterpolation(z_Dz, d./d[1], extrapolation_bc=Line())\n",
    "    fs8zi = LinearInterpolation(z_Dz, -σ8 .* y./ (a_Dz.^2 .*e.*d[1]),\n",
    "                                 extrapolation_bc=Line())\n",
    "    return fs8zi\n",
    "end"
   ]
  },
  {
   "cell_type": "code",
   "execution_count": 27,
   "id": "8005e277",
   "metadata": {},
   "outputs": [],
   "source": [
    "@model function model(data; cov = fs8_cov) \n",
    "    # Define priors\n",
    "    #KiDS priors\n",
    "    Ωm ~ Normal(0.3, 0.1)\n",
    "    σ8 ~ Normal(0.8, 0.3)\n",
    "    fs8_itp = make_fs8(Ωm, σ8)\n",
    "    theory = fs8_itp(fs8_zs)\n",
    "    data ~ MvNormal(theory, cov)\n",
    "end;"
   ]
  },
  {
   "cell_type": "code",
   "execution_count": 28,
   "id": "1eebe796",
   "metadata": {},
   "outputs": [
    {
     "data": {
      "text/plain": [
       "DynamicPPL.Model{typeof(model), (:data, :cov), (:cov,), (), Tuple{Vector{Float64}, Matrix{Float64}}, Tuple{Matrix{Float64}}, DynamicPPL.DefaultContext}(model, (data = [0.49749, 0.457523, 0.436148, 0.462, 0.413, 0.39, 0.437, 0.55, 0.4, 0.423, 0.482], cov = [0.00203355 0.000811829 … 0.0 0.0; 0.000811829 0.00142289 … 0.0 0.0; … ; 0.0 0.0 … 0.003025 0.0; 0.0 0.0 … 0.0 0.013456000000000001]), (cov = [0.00203355 0.000811829 … 0.0 0.0; 0.000811829 0.00142289 … 0.0 0.0; … ; 0.0 0.0 … 0.003025 0.0; 0.0 0.0 … 0.0 0.013456000000000001],), DynamicPPL.DefaultContext())"
      ]
     },
     "execution_count": 28,
     "metadata": {},
     "output_type": "execute_result"
    }
   ],
   "source": [
    "stat_model = model(fs8_data)"
   ]
  },
  {
   "cell_type": "markdown",
   "id": "10dfa4cc",
   "metadata": {},
   "source": [
    "## Sampling"
   ]
  },
  {
   "cell_type": "code",
   "execution_count": 29,
   "id": "c8ed14a3",
   "metadata": {},
   "outputs": [],
   "source": [
    "target = TuringTarget(stat_model);"
   ]
  },
  {
   "cell_type": "code",
   "execution_count": 30,
   "id": "a79c2b35",
   "metadata": {},
   "outputs": [
    {
     "data": {
      "text/plain": [
       "Sampler(Settings(Random.MersenneTwister(0), 2.0, 0, 1000, 10, \"LF\"), Hyperparameters{Float64}(0.0, 0.014142135623730952, 0.0, 0.1931833275037836), MCHMC.Leapfrog)"
      ]
     },
     "execution_count": 30,
     "metadata": {},
     "output_type": "execute_result"
    }
   ],
   "source": [
    "mchmc = Sampler(0.0, sqrt(target.d)*0.01, varE_wanted=2.0)"
   ]
  },
  {
   "cell_type": "code",
   "execution_count": 31,
   "id": "82938e27",
   "metadata": {
    "scrolled": true
   },
   "outputs": [
    {
     "name": "stderr",
     "output_type": "stream",
     "text": [
      "\u001b[36m\u001b[1m[ \u001b[22m\u001b[39m\u001b[36m\u001b[1mInfo: \u001b[22m\u001b[39mTuning eps ⏳\n"
     ]
    },
    {
     "name": "stdout",
     "output_type": "stream",
     "text": [
      "eps: 0.5 --> VarE: NaN\n",
      "eps: 0.25 --> VarE: 79.98929828180427\n",
      "eps: 0.125 --> VarE: 20.820009343045076\n",
      "eps: 0.0625 --> VarE: 6.246323623398952\n",
      "eps: 0.03125 --> VarE: 1.608354803451178\n"
     ]
    },
    {
     "name": "stderr",
     "output_type": "stream",
     "text": [
      "\u001b[36m\u001b[1m[ \u001b[22m\u001b[39m\u001b[36m\u001b[1mInfo: \u001b[22m\u001b[39mFound eps ✅\n"
     ]
    },
    {
     "data": {
      "text/plain": [
       "10001-element Vector{Any}:\n",
       " [0.3979192039644589, 0.7368538605414748, 0.0, 15.57266860206643]\n",
       " [0.3979192039644589, 0.7368538605414748, 0.5120342621593927, 16.101765234876723]\n",
       " [0.4041506737310676, 0.7674762589542028, 0.5324903039441402, 15.518062200205899]\n",
       " [0.41604776098403407, 0.7963730029731282, -1.4644809222318198, 15.353160159437762]\n",
       " [0.42859762889350633, 0.7677537207414789, 0.37331988445997943, 16.28226276340776]\n",
       " [0.3993091808710238, 0.7786509365526088, 1.6950772261318576, 16.128144163124382]\n",
       " [0.38909534913413313, 0.7491172246076045, -1.4335174313332253, 14.915549231725738]\n",
       " [0.4096549912054117, 0.7255829173541307, -1.158880687220826, 16.062591540746563]\n",
       " [0.39875235026608197, 0.7548693463025029, 1.1873761657216981, 14.954275783686288]\n",
       " [0.403089671761612, 0.7239218077534614, -1.009366468452125, 16.189741099416874]\n",
       " [0.3904875148993139, 0.7525181037097217, 2.7636809341613606, 16.28506088063984]\n",
       " [0.3610170208067326, 0.7421232743249203, 1.2974754712546694, 17.31475080340211]\n",
       " [0.34171502354765704, 0.7666995922307955, 1.9677828441658871, 17.0885167194543]\n",
       " ⋮\n",
       " [0.24883943939995365, 0.8917619910755387, 1.3909274392353979, 18.88818699098282]\n",
       " [0.22933315900706547, 0.8673474969125619, 1.361692303101922, 18.90677161160427]\n",
       " [0.2512791129791753, 0.845100303735578, -0.11921642982049008, 18.75256059745194]\n",
       " [0.27585361050774027, 0.8257959889013613, -0.676807017188171, 18.34823819428463]\n",
       " [0.3070974925440437, 0.8251776562226579, -0.734356693108623, 18.38493182650424]\n",
       " [0.289826392454201, 0.7991340082123151, 0.22579343281255504, 18.460412359699205]\n",
       " [0.25978412921273847, 0.807737781764116, 0.23770182992485545, 18.570358245668817]\n",
       " [0.29059188872685515, 0.8129765271979345, -0.1922609027240263, 18.173286646246343]\n",
       " [0.2645095944252247, 0.7957638451302514, -0.34002473129912403, 18.680512522550078]\n",
       " [0.2489410165673395, 0.8228596360115482, 0.7301357714701417, 18.34640336835961]\n",
       " [0.2190773790150134, 0.8320642898422633, -0.4562546671434795, 18.509954362021563]\n",
       " [0.24616878142296517, 0.8164880767090776, 0.5341123057592689, 18.915719109687892]"
      ]
     },
     "execution_count": 31,
     "metadata": {},
     "output_type": "execute_result"
    }
   ],
   "source": [
    "samples_mchmc = Sample(mchmc, target, 10000;\n",
    "                       monitor_energy=true, \n",
    "                       dialog=true)"
   ]
  },
  {
   "cell_type": "code",
   "execution_count": 79,
   "id": "8c464a4b",
   "metadata": {},
   "outputs": [
    {
     "data": {
      "text/plain": [
       "361.3585651648925"
      ]
     },
     "execution_count": 79,
     "metadata": {},
     "output_type": "execute_result"
    }
   ],
   "source": [
    "param_names = target.vsyms\n",
    "internal_names = [:E, :logp]\n",
    "names = [param_names; internal_names]\n",
    "samples = MCMCChains.concretize(samples_mchmc)\n",
    "chain = MCMCChains.Chains(samples, names, (internals = internal_names,))\n",
    "stats = summarize(chain)\n",
    "ess = mean(stats[:, :ess])"
   ]
  },
  {
   "cell_type": "code",
   "execution_count": 76,
   "id": "f5816163",
   "metadata": {},
   "outputs": [
    {
     "data": {
      "text/plain": [
       "2-element Vector{Float64}:\n",
       " 358.9769720813822\n",
       " 363.7401582484028"
      ]
     },
     "execution_count": 76,
     "metadata": {},
     "output_type": "execute_result"
    }
   ],
   "source": []
  },
  {
   "cell_type": "code",
   "execution_count": 13,
   "id": "9982a5de",
   "metadata": {},
   "outputs": [],
   "source": [
    "#plt.plot(samples_mchmc.E[8000:end])"
   ]
  },
  {
   "cell_type": "code",
   "execution_count": 14,
   "id": "f966c9fb",
   "metadata": {},
   "outputs": [],
   "source": [
    "#mean(samples_mchmc.E[8000:end])"
   ]
  },
  {
   "cell_type": "code",
   "execution_count": 15,
   "id": "999faaf8",
   "metadata": {},
   "outputs": [],
   "source": [
    "#std(samples_mchmc.E[8000:end])^2/target.d"
   ]
  },
  {
   "cell_type": "code",
   "execution_count": 16,
   "id": "385a8b1a",
   "metadata": {},
   "outputs": [
    {
     "ename": "LoadError",
     "evalue": "UndefVarError: `samples_mchmc` not defined",
     "output_type": "error",
     "traceback": [
      "UndefVarError: `samples_mchmc` not defined",
      "",
      "Stacktrace:",
      " [1] top-level scope",
      "   @ In[16]:1"
     ]
    }
   ],
   "source": [
    "Wms_mchmc = [sample[1] for sample in samples_mchmc.Ω]\n",
    "s8s_mchmc = [sample[2] for sample in samples_mchmc.Ω];"
   ]
  },
  {
   "cell_type": "code",
   "execution_count": 17,
   "id": "2a803eb8",
   "metadata": {},
   "outputs": [
    {
     "ename": "LoadError",
     "evalue": "UndefVarError: `Wms_mchmc` not defined",
     "output_type": "error",
     "traceback": [
      "UndefVarError: `Wms_mchmc` not defined",
      "",
      "Stacktrace:",
      " [1] top-level scope",
      "   @ In[17]:1"
     ]
    }
   ],
   "source": [
    "plt.hist2d(Wms_mchmc, s8s_mchmc, bins=100, range=[[0.1, 0.4],[0.6, 1.2]]);\n",
    "plt.xlabel(\"Wm\")\n",
    "plt.ylabel(\"s8\")\n",
    "plt.title(\"MCHMC - RSD model - eps = 0.001 --> var[E]~0.00003\");"
   ]
  },
  {
   "cell_type": "markdown",
   "id": "0a03dd58",
   "metadata": {},
   "source": [
    "## AbstractMCMC"
   ]
  },
  {
   "cell_type": "code",
   "execution_count": 35,
   "id": "03697374",
   "metadata": {},
   "outputs": [
    {
     "data": {
      "text/plain": [
       "Sampler(Settings(Random.MersenneTwister(0), 2.0, 0, 1000, 10, \"LF\"), Hyperparameters{Float64}(0.0, 0.014142135623730952, 0.0, 0.1931833275037836), MCHMC.Leapfrog)"
      ]
     },
     "execution_count": 35,
     "metadata": {},
     "output_type": "execute_result"
    }
   ],
   "source": [
    "mchmc = Sampler(0.0, sqrt(target.d)*0.01, varE_wanted=2.0)"
   ]
  },
  {
   "cell_type": "code",
   "execution_count": 36,
   "id": "d569b9dc",
   "metadata": {},
   "outputs": [
    {
     "name": "stderr",
     "output_type": "stream",
     "text": [
      "\u001b[36m\u001b[1m[ \u001b[22m\u001b[39m\u001b[36m\u001b[1mInfo: \u001b[22m\u001b[39mTuning eps ⏳\n"
     ]
    },
    {
     "name": "stdout",
     "output_type": "stream",
     "text": [
      "eps: 0.5 --> VarE: NaN\n",
      "eps: 0.25 --> VarE: 85.40106814110241\n",
      "eps: 0.125 --> VarE: 33.65693471318534\n",
      "eps: 0.0625 --> VarE: 7.33779426917308\n",
      "eps: 0.03125 --> VarE: 2.870429298634538\n",
      "eps: 0.015625 --> VarE: 1.0230078796080608\n"
     ]
    },
    {
     "name": "stderr",
     "output_type": "stream",
     "text": [
      "\u001b[36m\u001b[1m[ \u001b[22m\u001b[39m\u001b[36m\u001b[1mInfo: \u001b[22m\u001b[39mFound eps ✅\n",
      "\u001b[32mSampling: 100%|█████████████████████████████████████████| Time: 0:00:00\u001b[39m\n"
     ]
    },
    {
     "data": {
      "text/plain": [
       "Chains MCMC chain (10000×4×1 Array{Float64, 3}):\n",
       "\n",
       "Iterations        = 1:1:10000\n",
       "Number of chains  = 1\n",
       "Samples per chain = 10000\n",
       "Wall duration     = 1.54 seconds\n",
       "Compute duration  = 1.54 seconds\n",
       "parameters        = Ωm, σ8\n",
       "internals         = E, logp\n",
       "\n",
       "Summary Statistics\n",
       " \u001b[1m parameters \u001b[0m \u001b[1m    mean \u001b[0m \u001b[1m     std \u001b[0m \u001b[1m naive_se \u001b[0m \u001b[1m    mcse \u001b[0m \u001b[1m      ess \u001b[0m \u001b[1m    rhat \u001b[0m \u001b[1m e\u001b[0m ⋯\n",
       " \u001b[90m     Symbol \u001b[0m \u001b[90m Float64 \u001b[0m \u001b[90m Float64 \u001b[0m \u001b[90m  Float64 \u001b[0m \u001b[90m Float64 \u001b[0m \u001b[90m  Float64 \u001b[0m \u001b[90m Float64 \u001b[0m \u001b[90m  \u001b[0m ⋯\n",
       "\n",
       "          Ωm    0.2482    0.0551     0.0006    0.0039    98.2359    1.0171     ⋯\n",
       "          σ8    0.8559    0.0540     0.0005    0.0038   127.4114    1.0072     ⋯\n",
       "\u001b[36m                                                                1 column omitted\u001b[0m\n",
       "\n",
       "Quantiles\n",
       " \u001b[1m parameters \u001b[0m \u001b[1m    2.5% \u001b[0m \u001b[1m   25.0% \u001b[0m \u001b[1m   50.0% \u001b[0m \u001b[1m   75.0% \u001b[0m \u001b[1m   97.5% \u001b[0m\n",
       " \u001b[90m     Symbol \u001b[0m \u001b[90m Float64 \u001b[0m \u001b[90m Float64 \u001b[0m \u001b[90m Float64 \u001b[0m \u001b[90m Float64 \u001b[0m \u001b[90m Float64 \u001b[0m\n",
       "\n",
       "          Ωm    0.1540    0.2086    0.2438    0.2832    0.3665\n",
       "          σ8    0.7579    0.8171    0.8542    0.8915    0.9668\n"
      ]
     },
     "execution_count": 36,
     "metadata": {},
     "output_type": "execute_result"
    }
   ],
   "source": [
    "samples = sample(\n",
    "    stat_model, mchmc, 10000;\n",
    "    monitor_energy=true, \n",
    "    dialog=true)"
   ]
  },
  {
   "cell_type": "markdown",
   "id": "4aadd3b5",
   "metadata": {},
   "source": [
    "## NUTS"
   ]
  },
  {
   "cell_type": "code",
   "execution_count": 20,
   "id": "dcbe40a3",
   "metadata": {},
   "outputs": [
    {
     "name": "stderr",
     "output_type": "stream",
     "text": [
      "\u001b[36m\u001b[1m┌ \u001b[22m\u001b[39m\u001b[36m\u001b[1mInfo: \u001b[22m\u001b[39mFound initial step size\n",
      "\u001b[36m\u001b[1m└ \u001b[22m\u001b[39m  ϵ = 0.05\n",
      "\u001b[32mSampling: 100%|█████████████████████████████████████████| Time: 0:00:02\u001b[39m\n"
     ]
    },
    {
     "data": {
      "text/plain": [
       "Chains MCMC chain (10000×14×1 Array{Float64, 3}):\n",
       "\n",
       "Iterations        = 501:1:10500\n",
       "Number of chains  = 1\n",
       "Samples per chain = 10000\n",
       "Wall duration     = 9.68 seconds\n",
       "Compute duration  = 9.68 seconds\n",
       "parameters        = Ωm, σ8\n",
       "internals         = lp, n_steps, is_accept, acceptance_rate, log_density, hamiltonian_energy, hamiltonian_energy_error, max_hamiltonian_energy_error, tree_depth, numerical_error, step_size, nom_step_size\n",
       "\n",
       "Summary Statistics\n",
       " \u001b[1m parameters \u001b[0m \u001b[1m    mean \u001b[0m \u001b[1m     std \u001b[0m \u001b[1m naive_se \u001b[0m \u001b[1m    mcse \u001b[0m \u001b[1m       ess \u001b[0m \u001b[1m    rhat \u001b[0m \u001b[1m \u001b[0m ⋯\n",
       " \u001b[90m     Symbol \u001b[0m \u001b[90m Float64 \u001b[0m \u001b[90m Float64 \u001b[0m \u001b[90m  Float64 \u001b[0m \u001b[90m Float64 \u001b[0m \u001b[90m   Float64 \u001b[0m \u001b[90m Float64 \u001b[0m \u001b[90m \u001b[0m ⋯\n",
       "\n",
       "          Ωm    0.2536    0.0593     0.0006    0.0012   2454.2226    1.0000    ⋯\n",
       "          σ8    0.8517    0.0545     0.0005    0.0010   2676.2786    1.0000    ⋯\n",
       "\u001b[36m                                                                1 column omitted\u001b[0m\n",
       "\n",
       "Quantiles\n",
       " \u001b[1m parameters \u001b[0m \u001b[1m    2.5% \u001b[0m \u001b[1m   25.0% \u001b[0m \u001b[1m   50.0% \u001b[0m \u001b[1m   75.0% \u001b[0m \u001b[1m   97.5% \u001b[0m\n",
       " \u001b[90m     Symbol \u001b[0m \u001b[90m Float64 \u001b[0m \u001b[90m Float64 \u001b[0m \u001b[90m Float64 \u001b[0m \u001b[90m Float64 \u001b[0m \u001b[90m Float64 \u001b[0m\n",
       "\n",
       "          Ωm    0.1526    0.2112    0.2489    0.2907    0.3841\n",
       "          σ8    0.7528    0.8135    0.8493    0.8871    0.9635\n"
      ]
     },
     "execution_count": 20,
     "metadata": {},
     "output_type": "execute_result"
    }
   ],
   "source": [
    "samples_hmc = sample(stat_model, NUTS(500, 0.65),\n",
    "                     10000, progress=true; save_state=true)"
   ]
  },
  {
   "cell_type": "code",
   "execution_count": 21,
   "id": "623ba990",
   "metadata": {},
   "outputs": [
    {
     "data": {
      "text/plain": [
       "3-dimensional AxisArray{Float64,3,...} with axes:\n",
       "    :iter, 501:1:10500\n",
       "    :var, [:Ωm, :σ8, :lp, :n_steps, :is_accept, :acceptance_rate, :log_density, :hamiltonian_energy, :hamiltonian_energy_error, :max_hamiltonian_energy_error, :tree_depth, :numerical_error, :step_size, :nom_step_size]\n",
       "    :chain, 1:1\n",
       "And data, a 10000×14×1 Array{Float64, 3}:\n",
       "[:, :, 1] =\n",
       " 0.356897  0.754874  16.7982  3.0  1.0  …  2.0  0.0  0.731089  0.731089\n",
       " 0.386638  0.763995  16.5036  3.0  1.0     2.0  0.0  0.731089  0.731089\n",
       " 0.398764  0.788632  16.2518  3.0  1.0     2.0  0.0  0.731089  0.731089\n",
       " 0.181248  0.851034  17.3564  7.0  1.0     2.0  0.0  0.731089  0.731089\n",
       " 0.202002  0.847555  18.2107  1.0  1.0     1.0  0.0  0.731089  0.731089\n",
       " 0.27528   0.837888  18.7557  3.0  1.0  …  2.0  0.0  0.731089  0.731089\n",
       " 0.276317  0.839473  18.7347  3.0  1.0     2.0  0.0  0.731089  0.731089\n",
       " 0.312922  0.816106  18.2917  3.0  1.0     2.0  0.0  0.731089  0.731089\n",
       " 0.323827  0.818671  18.0568  1.0  1.0     1.0  0.0  0.731089  0.731089\n",
       " 0.21732   0.817887  17.8399  7.0  1.0     3.0  0.0  0.731089  0.731089\n",
       " 0.30776   0.781945  17.9521  7.0  1.0  …  3.0  0.0  0.731089  0.731089\n",
       " 0.155496  0.856038  15.581   5.0  1.0     2.0  0.0  0.731089  0.731089\n",
       " 0.160086  0.904157  17.466   3.0  1.0     1.0  0.0  0.731089  0.731089\n",
       " ⋮                                      ⋱  ⋮                   \n",
       " 0.186605  0.815266  16.1038  3.0  1.0     1.0  0.0  0.731089  0.731089\n",
       " 0.334994  0.809236  17.8764  7.0  1.0     2.0  0.0  0.731089  0.731089\n",
       " 0.349438  0.811143  17.4973  1.0  1.0  …  1.0  0.0  0.731089  0.731089\n",
       " 0.30031   0.717099  14.4438  3.0  1.0     2.0  0.0  0.731089  0.731089\n",
       " 0.306947  0.729076  15.4517  1.0  1.0     1.0  0.0  0.731089  0.731089\n",
       " 0.385937  0.867114  13.6075  3.0  1.0     2.0  0.0  0.731089  0.731089\n",
       " 0.303042  0.77461   17.7376  3.0  1.0     2.0  0.0  0.731089  0.731089\n",
       " 0.352134  0.784726  17.4816  3.0  1.0  …  1.0  0.0  0.731089  0.731089\n",
       " 0.334657  0.769517  17.459   3.0  1.0     2.0  0.0  0.731089  0.731089\n",
       " 0.355672  0.772909  17.2629  7.0  1.0     3.0  0.0  0.731089  0.731089\n",
       " 0.314509  0.824236  18.2067  3.0  1.0     2.0  0.0  0.731089  0.731089\n",
       " 0.287051  0.821656  18.6484  7.0  1.0     3.0  0.0  0.731089  0.731089"
      ]
     },
     "execution_count": 21,
     "metadata": {},
     "output_type": "execute_result"
    }
   ],
   "source": [
    "samples_hmc.value"
   ]
  },
  {
   "cell_type": "code",
   "execution_count": 22,
   "id": "fa9db828",
   "metadata": {},
   "outputs": [],
   "source": [
    "Wms_hmc = vec(samples_hmc[\"Ωm\"])\n",
    "s8s_hmc = vec(samples_hmc[\"σ8\"]);"
   ]
  },
  {
   "cell_type": "code",
   "execution_count": 23,
   "id": "3d063a52",
   "metadata": {},
   "outputs": [
    {
     "data": {
      "image/png": "[encoded data removed]",
      "text/plain": [
       "Figure(PyObject <Figure size 640x480 with 1 Axes>)"
      ]
     },
     "metadata": {},
     "output_type": "display_data"
    }
   ],
   "source": [
    "plt.hist2d(Wms_hmc, s8s_hmc, bins=100, range=[[0.1, 0.4],[0.6, 1.2]]);\n",
    "plt.xlabel(\"Wm\")\n",
    "plt.ylabel(\"s8\")\n",
    "plt.title(\"HMC - RSD model\");"
   ]
  },
  {
   "cell_type": "code",
   "execution_count": null,
   "id": "6579c09d",
   "metadata": {},
   "outputs": [],
   "source": []
  }
 ],
 "metadata": {
  "kernelspec": {
   "display_name": "Julia 1.9.0-beta3",
   "language": "julia",
   "name": "julia-1.9"
  },
  "language_info": {
   "file_extension": ".jl",
   "mimetype": "application/julia",
   "name": "julia",
   "version": "1.9.0"
  }
 },
 "nbformat": 4,
 "nbformat_minor": 5
}
