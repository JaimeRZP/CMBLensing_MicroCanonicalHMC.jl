{
 "cells": [
  {
   "cell_type": "markdown",
   "id": "91129cb1",
   "metadata": {},
   "source": [
    "# Turing Target Practice"
   ]
  },
  {
   "cell_type": "markdown",
   "id": "97121235",
   "metadata": {},
   "source": [
    "## Model"
   ]
  },
  {
   "cell_type": "code",
   "execution_count": 1,
   "id": "baed58e3",
   "metadata": {},
   "outputs": [
    {
     "name": "stderr",
     "output_type": "stream",
     "text": [
      "\u001b[36m\u001b[1m[ \u001b[22m\u001b[39m\u001b[36m\u001b[1mInfo: \u001b[22m\u001b[39mPrecompiling MCHMC [92da4d09-9da0-4f8a-8b31-da41ef0ab6ee]\n"
     ]
    }
   ],
   "source": [
    "# The statistical inference frame-work we will use\n",
    "using Turing\n",
    "using MCHMC\n",
    "using Interpolations\n",
    "using ForwardDiff\n",
    "using LinearAlgebra"
   ]
  },
  {
   "cell_type": "code",
   "execution_count": 2,
   "id": "a7d6f81c",
   "metadata": {},
   "outputs": [],
   "source": [
    "fs8_zs = [0.38, 0.51, 0.61, 1.48, 0.44, 0.6, 0.73, 0.6, 0.86, 0.067, 1.4]\n",
    "fs8_data = [0.49749, 0.457523, 0.436148, 0.462, 0.413, 0.39, 0.437, 0.55, 0.4, 0.423, 0.482]\n",
    "fs8_cov = [0.00203355 0.000811829 0.000264615 0.0 0.0 0.0 0.0 0.0 0.0 0.0 0.0;\n",
    "           0.000811829 0.00142289 0.000662824 0.0 0.0 0.0 0.0 0.0 0.0 0.0 0.0; \n",
    "           0.000264615 0.000662824 0.00118576 0.0 0.0 0.0 0.0 0.0 0.0 0.0 0.0;\n",
    "           0.0 0.0 0.0 0.002025 0.0 0.0 0.0 0.0 0.0 0.0 0.0;\n",
    "           0.0 0.0 0.0 0.0 0.0064 0.00257 0.0 0.0 0.0 0.0 0.0;\n",
    "           0.0 0.0 0.0 0.0 0.00257 0.003969 0.00254 0.0 0.0 0.0 0.0;\n",
    "           0.0 0.0 0.0 0.0 0.0 0.00254 0.005184 0.0 0.0 0.0 0.0;\n",
    "           0.0 0.0 0.0 0.0 0.0 0.0 0.0 0.0144 0.0 0.0 0.0;\n",
    "           0.0 0.0 0.0 0.0 0.0 0.0 0.0 0.0 0.0121 0.0 0.0; \n",
    "           0.0 0.0 0.0 0.0 0.0 0.0 0.0 0.0 0.0 0.003025 0.0;\n",
    "           0.0 0.0 0.0 0.0 0.0 0.0 0.0 0.0 0.0 0.0 0.013456000000000001];"
   ]
  },
  {
   "cell_type": "code",
   "execution_count": 3,
   "id": "1359a630",
   "metadata": {
    "code_folding": []
   },
   "outputs": [
    {
     "data": {
      "text/plain": [
       "make_fs8 (generic function with 1 method)"
      ]
     },
     "execution_count": 3,
     "metadata": {},
     "output_type": "execute_result"
    }
   ],
   "source": [
    "function make_fs8(Ωm, σ8; Ωr=8.24*10^-5)\n",
    "    # ODE solution for growth factor\n",
    "    x_Dz = LinRange(0, log(1+1100), 300)\n",
    "    dx_Dz = x_Dz[2]-x_Dz[1]\n",
    "    z_Dz = @.(exp(x_Dz) - 1)\n",
    "    a_Dz = @.(1/(1+z_Dz))\n",
    "    aa = reverse(a_Dz)\n",
    "    e =  @.(sqrt.(abs(Ωm)*(1+z_Dz)^3+Ωr*(1+z_Dz)^4+(1-Ωm-Ωr)))\n",
    "    ee = reverse(e)\n",
    "\n",
    "    dd = zeros(typeof(Ωm), 300)\n",
    "    yy = zeros(typeof(Ωm), 300)\n",
    "    dd[1] = aa[1]\n",
    "    yy[1] = aa[1]^3*ee[end]\n",
    "\n",
    "    for i in 1:(300-1)\n",
    "        A0 = -1.5 * Ωm / (aa[i]*ee[i])\n",
    "        B0 = -1. / (aa[i]^2*ee[i])\n",
    "        A1 = -1.5 * Ωm / (aa[i+1]*ee[i+1])\n",
    "        B1 = -1. / (aa[i+1]^2*ee[i+1])\n",
    "        yy[i+1] = (1+0.5*dx_Dz^2*A0*B0)*yy[i] + 0.5*(A0+A1)*dx_Dz*dd[i]\n",
    "        dd[i+1] = 0.5*(B0+B1)*dx_Dz*yy[i] + (1+0.5*dx_Dz^2*A0*B0)*dd[i]\n",
    "    end\n",
    "\n",
    "    y = reverse(yy)\n",
    "    d = reverse(dd)\n",
    "\n",
    "    Dzi = linear_interpolation(z_Dz, d./d[1], extrapolation_bc=Line())\n",
    "    fs8zi = linear_interpolation(z_Dz, -σ8 .* y./ (a_Dz.^2 .*e.*d[1]),\n",
    "                                 extrapolation_bc=Line())\n",
    "    return fs8zi\n",
    "end"
   ]
  },
  {
   "cell_type": "code",
   "execution_count": 4,
   "id": "8005e277",
   "metadata": {},
   "outputs": [],
   "source": [
    "@model function model(data; cov = fs8_cov) \n",
    "    # Define priors\n",
    "    #KiDS priors\n",
    "    Ωm ~ Normal(0.3, 0.1) # ~ Uniform(0.1, 0.9) \n",
    "    σ8 ~ Normal(0.8, 0.3)\n",
    "    fs8_itp = make_fs8(Ωm, σ8)\n",
    "    theory = fs8_itp(fs8_zs)\n",
    "    data ~ MvNormal(theory, cov)\n",
    "end;"
   ]
  },
  {
   "cell_type": "code",
   "execution_count": 5,
   "id": "1eebe796",
   "metadata": {},
   "outputs": [
    {
     "data": {
      "text/plain": [
       "DynamicPPL.Model{typeof(model), (:data, :cov), (:cov,), (), Tuple{Vector{Float64}, Matrix{Float64}}, Tuple{Matrix{Float64}}, DynamicPPL.DefaultContext}(model, (data = [0.49749, 0.457523, 0.436148, 0.462, 0.413, 0.39, 0.437, 0.55, 0.4, 0.423, 0.482], cov = [0.00203355 0.000811829 … 0.0 0.0; 0.000811829 0.00142289 … 0.0 0.0; … ; 0.0 0.0 … 0.003025 0.0; 0.0 0.0 … 0.0 0.013456000000000001]), (cov = [0.00203355 0.000811829 … 0.0 0.0; 0.000811829 0.00142289 … 0.0 0.0; … ; 0.0 0.0 … 0.003025 0.0; 0.0 0.0 … 0.0 0.013456000000000001],), DynamicPPL.DefaultContext())"
      ]
     },
     "execution_count": 5,
     "metadata": {},
     "output_type": "execute_result"
    }
   ],
   "source": [
    "stat_model = model(fs8_data)"
   ]
  },
  {
   "cell_type": "markdown",
   "id": "10dfa4cc",
   "metadata": {},
   "source": [
    "## Sampling"
   ]
  },
  {
   "cell_type": "code",
   "execution_count": 6,
   "id": "c8ed14a3",
   "metadata": {},
   "outputs": [],
   "source": [
    "target = TuringTarget(stat_model);"
   ]
  },
  {
   "cell_type": "code",
   "execution_count": 7,
   "id": "a79c2b35",
   "metadata": {},
   "outputs": [
    {
     "data": {
      "text/plain": [
       "Settings(Random.MersenneTwister(0), 0.1931833275037836, 0.5, 1.4142135623730951, \"MN\")"
      ]
     },
     "execution_count": 7,
     "metadata": {},
     "output_type": "execute_result"
    }
   ],
   "source": [
    "eps=0.5\n",
    "L=sqrt(2)\n",
    "settings = Settings(eps, L; integrator=\"MN\")"
   ]
  },
  {
   "cell_type": "code",
   "execution_count": 8,
   "id": "087b18a8",
   "metadata": {},
   "outputs": [],
   "source": [
    "sampler = Sampler(settings, target);"
   ]
  },
  {
   "cell_type": "code",
   "execution_count": 9,
   "id": "ed5b70b3",
   "metadata": {},
   "outputs": [
    {
     "data": {
      "text/plain": [
       "4-element Vector{Any}:\n",
       "  [0.15856055895754276, 0.8600199625847514]\n",
       "  [0.633972613807108, 0.7733554971309015]\n",
       "  [-179.44544019535138, -87.01224597974786]\n",
       " 0.0"
      ]
     },
     "execution_count": 9,
     "metadata": {},
     "output_type": "execute_result"
    }
   ],
   "source": [
    "init = MCHMC.Get_initial_conditions(sampler)\n",
    "x, u, g, time = init"
   ]
  },
  {
   "cell_type": "code",
   "execution_count": 10,
   "id": "8d844ef4",
   "metadata": {},
   "outputs": [
    {
     "data": {
      "text/plain": [
       "([0.25438513899210635, 0.7550295423872049], [0.20235886792717483, 0.9793114359442722], [-69.29533304341304, -132.65970696655413], 0.0)"
      ]
     },
     "execution_count": 10,
     "metadata": {},
     "output_type": "execute_result"
    }
   ],
   "source": [
    "MCHMC.Dynamics(sampler, init)"
   ]
  },
  {
   "cell_type": "code",
   "execution_count": 11,
   "id": "a119ddce",
   "metadata": {},
   "outputs": [
    {
     "data": {
      "text/plain": [
       "(Any[[0.25438513899210635, 0.7550295423872049], [0.6003900401769028, 0.7997073212472029], [-69.29533304341304, -132.65970696655413], 0.0], [0.25438513899210635, 0.7550295423872049])"
      ]
     },
     "execution_count": 11,
     "metadata": {},
     "output_type": "execute_result"
    }
   ],
   "source": [
    "MCHMC.Step(sampler, init)"
   ]
  },
  {
   "cell_type": "code",
   "execution_count": 16,
   "id": "82938e27",
   "metadata": {},
   "outputs": [
    {
     "data": {
      "text/plain": [
       "5000-element Vector{Vector{Float64}}:\n",
       " [0.25440386928026615, 0.7549906831343212]\n",
       " [0.23947460109188243, 0.7634630484925947]\n",
       " [0.24355253503352667, 0.7609179997636519]\n",
       " [0.24240653953937724, 0.7616147390782393]\n",
       " [0.24267053222512408, 0.76145309229208]\n",
       " [0.23658019115999224, 0.7650871769018128]\n",
       " [0.24424333261173278, 0.7602160918893462]\n",
       " [0.24194307074477842, 0.7616071609883359]\n",
       " [0.24326155164466115, 0.760795749664906]\n",
       " [0.24237798749414471, 0.7613338007620858]\n",
       " [0.24305509629483504, 0.7609184025238875]\n",
       " [0.2423964364775799, 0.7613199639690406]\n",
       " [0.24320681014258863, 0.760822548293958]\n",
       " ⋮\n",
       " [NaN, NaN]\n",
       " [NaN, NaN]\n",
       " [NaN, NaN]\n",
       " [NaN, NaN]\n",
       " [NaN, NaN]\n",
       " [NaN, NaN]\n",
       " [NaN, NaN]\n",
       " [NaN, NaN]\n",
       " [NaN, NaN]\n",
       " [NaN, NaN]\n",
       " [NaN, NaN]\n",
       " [NaN, NaN]"
      ]
     },
     "execution_count": 16,
     "metadata": {},
     "output_type": "execute_result"
    }
   ],
   "source": [
    "samples = Sample(sampler; num_steps=5000)"
   ]
  },
  {
   "cell_type": "markdown",
   "id": "ee35a9d5",
   "metadata": {},
   "source": [
    "## Plotting"
   ]
  },
  {
   "cell_type": "code",
   "execution_count": 13,
   "id": "385a8b1a",
   "metadata": {},
   "outputs": [
    {
     "data": {
      "text/plain": [
       "5000-element Vector{Float64}:\n",
       " 0.7549960404818021\n",
       " 0.763589817606253\n",
       " 0.760856355089871\n",
       " 0.7616273531124683\n",
       " 0.7612454048814915\n",
       " 0.7621150338744489\n",
       " 0.7611729265224284\n",
       " 0.7616223613245467\n",
       " 0.7612641606187616\n",
       " 0.7615737018936404\n",
       " 0.7612828865764141\n",
       " 0.7617348828186961\n",
       " 0.7612653497012187\n",
       " ⋮\n",
       " 0.73022097016886\n",
       " 0.7302079742888498\n",
       " 0.7302197082388363\n",
       " 0.7302010987199633\n",
       " 0.7302106266106803\n",
       " 0.7302386172415252\n",
       " 0.7302053989323223\n",
       " 0.7302251486701475\n",
       " 0.7302021343508187\n",
       " 0.7302219602813079\n",
       " 0.7302085106630579\n",
       " 0.7301908417958558"
      ]
     },
     "execution_count": 13,
     "metadata": {},
     "output_type": "execute_result"
    }
   ],
   "source": [
    "Wms = [sample[1] for sample in samples]\n",
    "s8s = [sample[2] for sample in samples]"
   ]
  },
  {
   "cell_type": "code",
   "execution_count": 14,
   "id": "cc078ce4",
   "metadata": {},
   "outputs": [],
   "source": [
    "using PyPlot"
   ]
  },
  {
   "cell_type": "code",
   "execution_count": 15,
   "id": "2a803eb8",
   "metadata": {},
   "outputs": [
    {
     "data": {
      "image/png": "[encoded data removed]",
      "text/plain": [
       "Figure(PyObject <Figure size 640x480 with 1 Axes>)"
      ]
     },
     "metadata": {},
     "output_type": "display_data"
    },
    {
     "data": {
      "text/plain": [
       "([0.0 0.0 … 0.0 0.0; 0.0 0.0 … 0.0 0.0; … ; 1.0 0.0 … 0.0 0.0; 0.0 0.0 … 0.0 0.0], [0.21404317827804112, 0.22013815922629051, 0.22623314017453994, 0.23232812112278933, 0.23842310207103873, 0.24451808301928812, 0.2506130639675376, 0.25670804491578697, 0.26280302586403637, 0.26889800681228576, 0.27499298776053516], [0.7227231905667169, 0.7268098532706705, 0.7308965159746241, 0.7349831786785777, 0.7390698413825313, 0.7431565040864849, 0.7472431667904386, 0.7513298294943922, 0.7554164921983457, 0.7595031549022994, 0.763589817606253], PyObject <matplotlib.collections.QuadMesh object at 0x7efc8133d640>)"
      ]
     },
     "execution_count": 15,
     "metadata": {},
     "output_type": "execute_result"
    }
   ],
   "source": [
    "plt.hist2d(Wms, s8s)"
   ]
  },
  {
   "cell_type": "code",
   "execution_count": null,
   "id": "74f90e7f",
   "metadata": {},
   "outputs": [],
   "source": []
  }
 ],
 "metadata": {
  "kernelspec": {
   "display_name": "Julia 1.9.0-beta3",
   "language": "julia",
   "name": "julia-1.9"
  },
  "language_info": {
   "file_extension": ".jl",
   "mimetype": "application/julia",
   "name": "julia",
   "version": "1.9.0"
  }
 },
 "nbformat": 4,
 "nbformat_minor": 5
}
