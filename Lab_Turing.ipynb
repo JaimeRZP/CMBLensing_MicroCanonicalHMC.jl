{
 "cells": [
  {
   "cell_type": "markdown",
   "id": "91129cb1",
   "metadata": {},
   "source": [
    "# Turing Target Practice"
   ]
  },
  {
   "cell_type": "markdown",
   "id": "97121235",
   "metadata": {},
   "source": [
    "## Model"
   ]
  },
  {
   "cell_type": "code",
   "execution_count": 1,
   "id": "86b96c9e",
   "metadata": {},
   "outputs": [
    {
     "name": "stderr",
     "output_type": "stream",
     "text": [
      "\u001b[32m\u001b[1m  Activating\u001b[22m\u001b[39m project at `~/PhD/MicroCanonicalHMC.jl`\n"
     ]
    }
   ],
   "source": [
    "] activate \".\""
   ]
  },
  {
   "cell_type": "code",
   "execution_count": 2,
   "id": "baed58e3",
   "metadata": {},
   "outputs": [
    {
     "name": "stderr",
     "output_type": "stream",
     "text": [
      "\u001b[36m\u001b[1m[ \u001b[22m\u001b[39m\u001b[36m\u001b[1mInfo: \u001b[22m\u001b[39mPrecompiling MicroCanonicalHMC [234d2aa0-2291-45f7-9047-6fa6f316b0a8]\n"
     ]
    }
   ],
   "source": [
    "# The statistical inference frame-work we will use\n",
    "using Turing\n",
    "using Interpolations\n",
    "using ForwardDiff\n",
    "using LinearAlgebra\n",
    "#using StatsPlots\n",
    "using PyPlot\n",
    "using Distributed\n",
    "\n",
    "using Revise\n",
    "using MicroCanonicalHMC"
   ]
  },
  {
   "cell_type": "code",
   "execution_count": 3,
   "id": "a7d6f81c",
   "metadata": {},
   "outputs": [],
   "source": [
    "fs8_zs = [0.38, 0.51, 0.61, 1.48, 0.44, 0.6, 0.73, 0.6, 0.86, 0.067, 1.4]\n",
    "fs8_data = [0.49749, 0.457523, 0.436148, 0.462, 0.413, 0.39, 0.437, 0.55, 0.4, 0.423, 0.482]\n",
    "fs8_cov = [0.00203355 0.000811829 0.000264615 0.0 0.0 0.0 0.0 0.0 0.0 0.0 0.0;\n",
    "           0.000811829 0.00142289 0.000662824 0.0 0.0 0.0 0.0 0.0 0.0 0.0 0.0; \n",
    "           0.000264615 0.000662824 0.00118576 0.0 0.0 0.0 0.0 0.0 0.0 0.0 0.0;\n",
    "           0.0 0.0 0.0 0.002025 0.0 0.0 0.0 0.0 0.0 0.0 0.0;\n",
    "           0.0 0.0 0.0 0.0 0.0064 0.00257 0.0 0.0 0.0 0.0 0.0;\n",
    "           0.0 0.0 0.0 0.0 0.00257 0.003969 0.00254 0.0 0.0 0.0 0.0;\n",
    "           0.0 0.0 0.0 0.0 0.0 0.00254 0.005184 0.0 0.0 0.0 0.0;\n",
    "           0.0 0.0 0.0 0.0 0.0 0.0 0.0 0.0144 0.0 0.0 0.0;\n",
    "           0.0 0.0 0.0 0.0 0.0 0.0 0.0 0.0 0.0121 0.0 0.0; \n",
    "           0.0 0.0 0.0 0.0 0.0 0.0 0.0 0.0 0.0 0.003025 0.0;\n",
    "           0.0 0.0 0.0 0.0 0.0 0.0 0.0 0.0 0.0 0.0 0.013456000000000001];"
   ]
  },
  {
   "cell_type": "code",
   "execution_count": 4,
   "id": "1359a630",
   "metadata": {
    "code_folding": []
   },
   "outputs": [
    {
     "data": {
      "text/plain": [
       "make_fs8 (generic function with 1 method)"
      ]
     },
     "execution_count": 4,
     "metadata": {},
     "output_type": "execute_result"
    }
   ],
   "source": [
    "function make_fs8(Ωm, σ8; Ωr=8.24*10^-5)\n",
    "    # ODE solution for growth factor\n",
    "    x_Dz = LinRange(0, log(1+1100), 300)\n",
    "    dx_Dz = x_Dz[2]-x_Dz[1]\n",
    "    z_Dz = @.(exp(x_Dz) - 1)\n",
    "    a_Dz = @.(1/(1+z_Dz))\n",
    "    aa = reverse(a_Dz)\n",
    "    e =  @.(sqrt.(abs(Ωm)*(1+z_Dz)^3+Ωr*(1+z_Dz)^4+(1-Ωm-Ωr)))\n",
    "    ee = reverse(e)\n",
    "\n",
    "    dd = zeros(typeof(Ωm), 300)\n",
    "    yy = zeros(typeof(Ωm), 300)\n",
    "    dd[1] = aa[1]\n",
    "    yy[1] = aa[1]^3*ee[end]\n",
    "\n",
    "    for i in 1:(300-1)\n",
    "        A0 = -1.5 * Ωm / (aa[i]*ee[i])\n",
    "        B0 = -1. / (aa[i]^2*ee[i])\n",
    "        A1 = -1.5 * Ωm / (aa[i+1]*ee[i+1])\n",
    "        B1 = -1. / (aa[i+1]^2*ee[i+1])\n",
    "        yy[i+1] = (1+0.5*dx_Dz^2*A0*B0)*yy[i] + 0.5*(A0+A1)*dx_Dz*dd[i]\n",
    "        dd[i+1] = 0.5*(B0+B1)*dx_Dz*yy[i] + (1+0.5*dx_Dz^2*A0*B0)*dd[i]\n",
    "    end\n",
    "\n",
    "    y = reverse(yy)\n",
    "    d = reverse(dd)\n",
    "\n",
    "    Dzi = LinearInterpolation(z_Dz, d./d[1], extrapolation_bc=Line())\n",
    "    fs8zi = LinearInterpolation(z_Dz, -σ8 .* y./ (a_Dz.^2 .*e.*d[1]),\n",
    "                                 extrapolation_bc=Line())\n",
    "    return fs8zi\n",
    "end"
   ]
  },
  {
   "cell_type": "code",
   "execution_count": 5,
   "id": "8005e277",
   "metadata": {},
   "outputs": [],
   "source": [
    "@model function model(data; cov = fs8_cov) \n",
    "    # Define priors\n",
    "    #KiDS priors\n",
    "    Ωm  ~ Uniform(0.01, 0.6)\n",
    "    σ8 ~ Normal(0.8, 0.3)\n",
    "    fs8_itp = make_fs8(Ωm, σ8)\n",
    "    theory = fs8_itp(fs8_zs)\n",
    "    data ~ MvNormal(theory, cov)\n",
    "end;"
   ]
  },
  {
   "cell_type": "code",
   "execution_count": 6,
   "id": "1eebe796",
   "metadata": {},
   "outputs": [
    {
     "data": {
      "text/plain": [
       "DynamicPPL.Model{typeof(model), (:data, :cov), (:cov,), (), Tuple{Vector{Float64}, Matrix{Float64}}, Tuple{Matrix{Float64}}, DynamicPPL.DefaultContext}(model, (data = [0.49749, 0.457523, 0.436148, 0.462, 0.413, 0.39, 0.437, 0.55, 0.4, 0.423, 0.482], cov = [0.00203355 0.000811829 … 0.0 0.0; 0.000811829 0.00142289 … 0.0 0.0; … ; 0.0 0.0 … 0.003025 0.0; 0.0 0.0 … 0.0 0.013456000000000001]), (cov = [0.00203355 0.000811829 … 0.0 0.0; 0.000811829 0.00142289 … 0.0 0.0; … ; 0.0 0.0 … 0.003025 0.0; 0.0 0.0 … 0.0 0.013456000000000001],), DynamicPPL.DefaultContext())"
      ]
     },
     "execution_count": 6,
     "metadata": {},
     "output_type": "execute_result"
    }
   ],
   "source": [
    "stat_model = model(fs8_data)"
   ]
  },
  {
   "cell_type": "markdown",
   "id": "10dfa4cc",
   "metadata": {},
   "source": [
    "## Sampling"
   ]
  },
  {
   "cell_type": "code",
   "execution_count": 7,
   "id": "c8ed14a3",
   "metadata": {},
   "outputs": [],
   "source": [
    "target = TuringTarget(stat_model; compute_MAP=true);"
   ]
  },
  {
   "cell_type": "code",
   "execution_count": 8,
   "id": "82938e27",
   "metadata": {
    "scrolled": false
   },
   "outputs": [
    {
     "name": "stderr",
     "output_type": "stream",
     "text": [
      "\u001b[36m\u001b[1m[ \u001b[22m\u001b[39m\u001b[36m\u001b[1mInfo: \u001b[22m\u001b[39mTuning sigma ⏳\n",
      "\u001b[36m\u001b[1m[ \u001b[22m\u001b[39m\u001b[36m\u001b[1mInfo: \u001b[22m\u001b[39mTuning eps ⏳\n",
      "\u001b[36m\u001b[1m[ \u001b[22m\u001b[39m\u001b[36m\u001b[1mInfo: \u001b[22m\u001b[39mTuning L ⏳\n",
      "\u001b[36m\u001b[1m[ \u001b[22m\u001b[39m\u001b[36m\u001b[1mInfo: \u001b[22m\u001b[39mFound sigma: [0.45043479853151597, 0.060888704439630306] ✅\n"
     ]
    },
    {
     "name": "stdout",
     "output_type": "stream",
     "text": [
      "eps: 0.5 --> VarE: 0.4953140941735926\n",
      "eps: 0.8282325763448337 --> VarE: 1.2975470777650566\n",
      "eps: 0.6240674582550091 --> VarE: 0.886793420711372\n",
      "eps: 0.6913816713153413 --> VarE: 0.768022042182822\n",
      "eps: 0.8441728703063509 --> VarE: 1.5535133001486732\n",
      "eps: 0.5365602915665885 --> VarE: 0.6265775231746527\n",
      "eps: 0.7176633968863969 --> VarE: 0.8375973764678073\n",
      "eps: 0.809414765789467 --> VarE: 1.139813402187691\n",
      "eps: 0.7334699551868114 --> VarE: 1.0292460185051922\n"
     ]
    },
    {
     "name": "stderr",
     "output_type": "stream",
     "text": [
      "\u001b[36m\u001b[1m[ \u001b[22m\u001b[39m\u001b[36m\u001b[1mInfo: \u001b[22m\u001b[39mFound eps: 0.7334699551868114 ✅\n"
     ]
    },
    {
     "name": "stdout",
     "output_type": "stream",
     "text": [
      "samples: 100--> ESS: 0.2460838173912336\n"
     ]
    },
    {
     "name": "stderr",
     "output_type": "stream",
     "text": [
      "\u001b[36m\u001b[1m[ \u001b[22m\u001b[39m\u001b[36m\u001b[1mInfo: \u001b[22m\u001b[39mFound L: 1.1922278562847752 ✅\n"
     ]
    }
   ],
   "source": [
    "samples_mchmc = Sample(MCHMC(varE_wanted=1.0), target, 100000;\n",
    "                       monitor_energy=true, \n",
    "                       dialog=true);"
   ]
  },
  {
   "cell_type": "code",
   "execution_count": 9,
   "id": "385a8b1a",
   "metadata": {},
   "outputs": [],
   "source": [
    "Wms_mchmc = [sample[1] for sample in samples_mchmc]\n",
    "s8s_mchmc = [sample[2] for sample in samples_mchmc];"
   ]
  },
  {
   "cell_type": "code",
   "execution_count": 10,
   "id": "2a803eb8",
   "metadata": {},
   "outputs": [
    {
     "data": {
      "image/png": "[encoded data removed]",
      "text/plain": [
       "Figure(PyObject <Figure size 640x480 with 1 Axes>)"
      ]
     },
     "metadata": {},
     "output_type": "display_data"
    }
   ],
   "source": [
    "plt.hist2d(Wms_mchmc, s8s_mchmc, bins=100, range=[[0.1, 0.6],[0.6, 1.2]]);\n",
    "plt.xlabel(\"Wm\")\n",
    "plt.ylabel(\"s8\")\n",
    "plt.title(\"MCHMC - RSD model\");"
   ]
  },
  {
   "cell_type": "code",
   "execution_count": 11,
   "id": "ae097bf4",
   "metadata": {
    "scrolled": false
   },
   "outputs": [
    {
     "name": "stderr",
     "output_type": "stream",
     "text": [
      "\u001b[36m\u001b[1m[ \u001b[22m\u001b[39m\u001b[36m\u001b[1mInfo: \u001b[22m\u001b[39mBurn-in started ⏳\n",
      "\u001b[36m\u001b[1m[ \u001b[22m\u001b[39m\u001b[36m\u001b[1mInfo: \u001b[22m\u001b[39mTuning sigma ⏳\n",
      "\u001b[36m\u001b[1m[ \u001b[22m\u001b[39m\u001b[36m\u001b[1mInfo: \u001b[22m\u001b[39mTuning eps ⏳\n",
      "\u001b[36m\u001b[1m[ \u001b[22m\u001b[39m\u001b[36m\u001b[1mInfo: \u001b[22m\u001b[39mTuning L ⏳\n",
      "\u001b[33m\u001b[1m┌ \u001b[22m\u001b[39m\u001b[33m\u001b[1mWarning: \u001b[22m\u001b[39mL-tuning not Implemented\n",
      "\u001b[33m\u001b[1m└ \u001b[22m\u001b[39m\u001b[90m@ MicroCanonicalHMC ~/PhD/MicroCanonicalHMC.jl/src/ensemble/tuning.jl:41\u001b[39m\n",
      "\u001b[36m\u001b[1m[ \u001b[22m\u001b[39m\u001b[36m\u001b[1mInfo: \u001b[22m\u001b[39mFound L: 1.4142135623730951 ✅\n"
     ]
    },
    {
     "name": "stdout",
     "output_type": "stream",
     "text": [
      "eps: 0.5 --> VarE: 0.516539160462091\n"
     ]
    },
    {
     "name": "stderr",
     "output_type": "stream",
     "text": [
      "\u001b[36m\u001b[1m[ \u001b[22m\u001b[39m\u001b[36m\u001b[1mInfo: \u001b[22m\u001b[39mVarE condition met during eps tuning at step: 1\n",
      "\u001b[36m\u001b[1m[ \u001b[22m\u001b[39m\u001b[36m\u001b[1mInfo: \u001b[22m\u001b[39mFound eps: 0.5 ✅\n"
     ]
    },
    {
     "name": "stdout",
     "output_type": "stream",
     "text": [
      "Initial Virial loss: 2655.8560052382186\n",
      "Initial sigma: [1.7024329836451206, 0.31663009869015385]\n",
      "Virial loss: 14.743866632801373 --> Relative improvement: 0.7139057486601292\n",
      "Sigma --> [1.5940753668122218, 0.2780293300889023]\n",
      "Virial loss: 12.709740041966409 --> Relative improvement: 0.13796425601880757\n",
      "Sigma --> [1.4935707301461922, 0.2499030144979288]\n",
      "Virial loss: 4.567216776598778 --> Relative improvement: 0.6406522272274457\n",
      "Sigma --> [1.4146665236697684, 0.227752617657114]\n",
      "Virial loss: 10.086496510476302 --> Relative improvement: 1.2084558285380425\n",
      "Sigma --> [1.3431650443948149, 0.21026989462311843]\n",
      "Virial loss: 1.6644993192900661 --> Relative improvement: 0.8349774554959455\n",
      "Sigma --> [1.280096343219395, 0.196663389836852]\n",
      "Virial loss: 9.385333088683634 --> Relative improvement: 4.638532248055601\n",
      "Sigma --> [1.2252527789824708, 0.1850743696566195]\n",
      "Virial loss: 1.4666547711480897 --> Relative improvement: 0.8437290656293799\n",
      "Sigma --> [1.173994489455776, 0.1755416226518309]\n",
      "Virial loss: 3.7777650395918325 --> Relative improvement: 1.5757697816198544\n",
      "Sigma --> [1.1286269281005028, 0.16754757136315657]\n",
      "Virial loss: 2.341056965932708 --> Relative improvement: 0.38030636066618717\n",
      "Sigma --> [1.0880136759429504, 0.16047566314951225]\n",
      "Virial loss: 4.965742449762563 --> Relative improvement: 1.1211540436753729\n",
      "Sigma --> [1.05133761220469, 0.15426781815567556]\n",
      "Virial loss: 4.913740502150208 --> Relative improvement: 0.010472139491415011\n",
      "Sigma --> [1.0179796902970382, 0.1490300188426797]\n",
      "Virial loss: 3.804314163539975 --> Relative improvement: 0.2257804086570624\n",
      "Sigma --> [0.9898089973718456, 0.14450915925233948]\n",
      "Virial loss: 5.908007374569418 --> Relative improvement: 0.5529756798718017\n",
      "Sigma --> [0.965927085601091, 0.14040902315049958]\n",
      "Virial loss: 5.497366742287399 --> Relative improvement: 0.06950577517042222\n",
      "Sigma --> [0.9450653206917135, 0.137097274974631]\n",
      "Virial loss: 4.025691707704155 --> Relative improvement: 0.26770544945867936\n",
      "Sigma --> [0.9290300183133208, 0.1341846252891724]\n",
      "Virial loss: 3.185078492233823 --> Relative improvement: 0.20881211888670237\n",
      "Sigma --> [0.9158396687268995, 0.13189437472637955]\n",
      "Virial loss: 4.483283061950731 --> Relative improvement: 0.4075895061557573\n",
      "Sigma --> [0.9026949362782294, 0.12991849653014018]\n",
      "Virial loss: 5.595230630767972 --> Relative improvement: 0.2480208261339223\n",
      "Sigma --> [0.8913201453053798, 0.12781524930026217]\n",
      "Virial loss: 6.4199689430258084 --> Relative improvement: 0.14740023542955139\n",
      "Sigma --> [0.8792006075612753, 0.12558591383275286]\n",
      "Virial loss: 7.881520152057746 --> Relative improvement: 0.22765705286155025\n",
      "Sigma --> [0.8658913938438548, 0.12339273128154045]\n",
      "Virial loss: 2.436266903189762 --> Relative improvement: 0.6908887046931309\n",
      "Sigma --> [0.8529826465952868, 0.1211530609199416]\n",
      "Virial loss: 2.5524357509449622 --> Relative improvement: 0.04768313668880131\n",
      "Sigma --> [0.8390048597391351, 0.11923129584970694]\n",
      "Virial loss: 2.15682816886368 --> Relative improvement: 0.15499218028693595\n",
      "Sigma --> [0.825969169521856, 0.1174683396123062]\n",
      "Virial loss: 3.562820903409816 --> Relative improvement: 0.6518798088986757\n",
      "Sigma --> [0.8155796409982342, 0.11577075327226832]\n",
      "Virial loss: 5.1318142167871255 --> Relative improvement: 0.4403795071135055\n",
      "Sigma --> [0.806002119284914, 0.11428431934365245]\n",
      "Virial loss: 6.078679342084239 --> Relative improvement: 0.18450884722204886\n",
      "Sigma --> [0.7982338592964505, 0.11299862990834333]\n",
      "Virial loss: 1.5148938809745247 --> Relative improvement: 0.7507856895022361\n",
      "Sigma --> [0.7910235647177097, 0.11187957645135917]\n",
      "Virial loss: 3.678343152945065 --> Relative improvement: 1.4281193548546138\n",
      "Sigma --> [0.7843283684590977, 0.1106611271075016]\n",
      "Virial loss: 2.8155878561725998 --> Relative improvement: 0.23454997560021018\n",
      "Sigma --> [0.7777879095657484, 0.10934054787963028]\n",
      "Virial loss: 2.063606885506221 --> Relative improvement: 0.2670777859116755\n",
      "Sigma --> [0.7714049351449633, 0.10810403967684654]\n",
      "Virial loss: 0.9136718366547993 --> Relative improvement: 0.5572452083427374\n",
      "Sigma --> [0.764357040959842, 0.10692326674603475]\n"
     ]
    },
    {
     "name": "stderr",
     "output_type": "stream",
     "text": [
      "\u001b[36m\u001b[1m[ \u001b[22m\u001b[39m\u001b[36m\u001b[1mInfo: \u001b[22m\u001b[39mVirial loss condition met during burn-in at step: 32\n",
      "\u001b[36m\u001b[1m[ \u001b[22m\u001b[39m\u001b[36m\u001b[1mInfo: \u001b[22m\u001b[39mFound sigma: [0.764357040959842, 0.10692326674603475] ✅\n"
     ]
    },
    {
     "name": "stdout",
     "output_type": "stream",
     "text": [
      "eps: 0.5 --> VarE: 0.0023058915813183468\n",
      "eps: 0.5244248859669532 --> VarE: 0.00994750008972359\n",
      "eps: 0.5458557281935318 --> VarE: 0.01622917753842169\n",
      "eps: 0.5646045243800071 --> VarE: 0.020152278237094267\n",
      "eps: 0.581710703412744 --> VarE: 0.021747505609960985\n",
      "eps: 0.598379845452732 --> VarE: 0.02561867700481124\n",
      "eps: 0.613148445147277 --> VarE: 0.025947006130969494\n",
      "eps: 0.6280752990522718 --> VarE: 0.057754220383981675\n",
      "eps: 0.6232238984889547 --> VarE: 0.04337256193509288\n",
      "eps: 0.6273679934747968 --> VarE: 0.09368089695920262\n",
      "eps: 0.6005538921478047 --> VarE: 0.03416469609209607\n",
      "eps: 0.6101395410702033 --> VarE: 0.0379895511762558\n",
      "eps: 0.6175117740965972 --> VarE: 0.03088760873127782\n",
      "eps: 0.6294274061339235 --> VarE: 0.07585559457305228\n",
      "eps: 0.6133617745317372 --> VarE: 0.038348046054141\n",
      "eps: 0.6205504373323083 --> VarE: 0.04600713100887879\n"
     ]
    },
    {
     "name": "stderr",
     "output_type": "stream",
     "text": [
      "\u001b[36m\u001b[1m[ \u001b[22m\u001b[39m\u001b[36m\u001b[1mInfo: \u001b[22m\u001b[39mVarE condition met during eps tuning at step: 16\n",
      "\u001b[36m\u001b[1m[ \u001b[22m\u001b[39m\u001b[36m\u001b[1mInfo: \u001b[22m\u001b[39mFound eps: 0.6205504373323083 ✅\n"
     ]
    }
   ],
   "source": [
    "samples_ensemble_mchmc = Sample(MCHMC(100; varE_wanted=0.05), target, 1000, 100;\n",
    "   monitor_energy=true, \n",
    "   dialog=true);"
   ]
  },
  {
   "cell_type": "code",
   "execution_count": 12,
   "id": "197541d7",
   "metadata": {},
   "outputs": [],
   "source": [
    "Wms_ensemble_mchmc = [sample[1] for sample in samples_ensemble_mchmc]\n",
    "s8s_ensemble_mchmc = [sample[2] for sample in samples_ensemble_mchmc];"
   ]
  },
  {
   "cell_type": "code",
   "execution_count": 13,
   "id": "654b0195",
   "metadata": {},
   "outputs": [
    {
     "data": {
      "image/png": "[encoded data removed]",
      "text/plain": [
       "Figure(PyObject <Figure size 640x480 with 1 Axes>)"
      ]
     },
     "metadata": {},
     "output_type": "display_data"
    }
   ],
   "source": [
    "plt.hist2d(Wms_ensemble_mchmc, s8s_ensemble_mchmc, bins=100, range=[[0.1, 0.6],[0.6, 1.2]]);\n",
    "plt.xlabel(\"Wm\")\n",
    "plt.ylabel(\"s8\")\n",
    "plt.title(\"Ensemble MCHMC - RSD model\");"
   ]
  },
  {
   "cell_type": "markdown",
   "id": "b9b6311f",
   "metadata": {},
   "source": [
    "##  AbstractMCMC"
   ]
  },
  {
   "cell_type": "code",
   "execution_count": 14,
   "id": "d569b9dc",
   "metadata": {},
   "outputs": [
    {
     "name": "stderr",
     "output_type": "stream",
     "text": [
      "\u001b[36m\u001b[1m[ \u001b[22m\u001b[39m\u001b[36m\u001b[1mInfo: \u001b[22m\u001b[39mTuning sigma ⏳\n",
      "\u001b[36m\u001b[1m[ \u001b[22m\u001b[39m\u001b[36m\u001b[1mInfo: \u001b[22m\u001b[39mTuning eps ⏳\n",
      "\u001b[36m\u001b[1m[ \u001b[22m\u001b[39m\u001b[36m\u001b[1mInfo: \u001b[22m\u001b[39mTuning L ⏳\n",
      "\u001b[36m\u001b[1m[ \u001b[22m\u001b[39m\u001b[36m\u001b[1mInfo: \u001b[22m\u001b[39mFound sigma: [0.45043479852953616, 0.06088870443747055] ✅\n"
     ]
    },
    {
     "name": "stdout",
     "output_type": "stream",
     "text": [
      "eps: 0.5 --> VarE: 0.5762429034230809\n",
      "eps: 2.076346618614184 --> VarE: 25.055894774390982\n",
      "eps: 6.20289009853641e-10 --> VarE: 3.865651995357446e-21\n",
      "eps: 3.789011137425285e-9 --> VarE: 1.4423708158451433e-19\n",
      "eps: 2.118982310687817e-8 --> VarE: 4.5112257615613425e-18\n",
      "eps: 1.0896018392978165e-7 --> VarE: 1.1930564017819597e-16\n",
      "eps: 5.172798875506445e-7 --> VarE: 2.6915884393956934e-15\n",
      "eps: 2.2761041127856254e-6 --> VarE: 5.241508969601153e-14\n",
      "eps: 9.317006987208886e-6 --> VarE: 9.201475222643324e-13\n",
      "eps: 3.560483810608881e-5 --> VarE: 2.016257977375223e-11\n",
      "eps: 0.0001274517464451888 --> VarE: 1.2520440323907692e-9\n",
      "eps: 0.000428717910934223 --> VarE: 1.1267483940720306e-7\n",
      "eps: 0.0013592640711706876 --> VarE: 0.00010331268163694111\n",
      "eps: 0.004073530231046214 --> VarE: 0.00035596532856638175\n",
      "eps: 0.011570002131824358 --> VarE: 0.0012584852668583318\n",
      "eps: 0.03121695534513542 --> VarE: 0.0075310398512413255\n",
      "eps: 0.08000883626631126 --> VarE: 0.06712387586552004\n",
      "eps: 0.19068718461278844 --> VarE: 0.2334606795770902\n",
      "eps: 0.4057266236128092 --> VarE: 0.5361633808294252\n",
      "eps: 0.735706416203494 --> VarE: 1.0276844278935873\n",
      "eps: 1.0715542757280474 --> VarE: 3.308697054579426\n",
      "eps: 0.6621040550887693 --> VarE: 0.7511063938400243\n",
      "eps: 1.0250100987034183 --> VarE: 3.0136827844628704\n",
      "eps: 0.731452334428752 --> VarE: 0.9714727016203178\n",
      "eps: 1.013030505592575 --> VarE: 2.8348270634421486\n",
      "eps: 0.7878096804759017 --> VarE: 1.3146113611796668\n",
      "eps: 0.9587435941352107 --> VarE: 2.291920901204987\n",
      "eps: 0.885423396345327 --> VarE: 1.7195528511255387\n",
      "eps: 0.9521943246813164 --> VarE: 2.524976006509782\n",
      "eps: 0.8365712115583545 --> VarE: 1.3846792932717458\n",
      "eps: 0.9664674333424917 --> VarE: 2.247291174296969\n",
      "eps: 0.9145841520191968 --> VarE: 1.7303993267220061\n",
      "eps: 0.9684449879535688 --> VarE: 2.4848116801873092\n",
      "eps: 0.8781433857693618 --> VarE: 1.6836237414351258\n",
      "eps: 0.9331536969161003 --> VarE: 2.2573909263149985\n",
      "eps: 0.8902914133854588 --> VarE: 1.773379052258875\n",
      "eps: 0.9260513212809793 --> VarE: 2.0837240633371326\n",
      "samples: 100--> ESS: 0.5094540280031368\n"
     ]
    },
    {
     "name": "stderr",
     "output_type": "stream",
     "text": [
      "\u001b[36m\u001b[1m[ \u001b[22m\u001b[39m\u001b[36m\u001b[1mInfo: \u001b[22m\u001b[39mFound eps: 0.9260513212809793 ✅\n",
      "\u001b[36m\u001b[1m[ \u001b[22m\u001b[39m\u001b[36m\u001b[1mInfo: \u001b[22m\u001b[39mFound L: 0.7270931392265114 ✅\n",
      "\u001b[32mChain 1: 100%|██████████████████████████████████████████| Time: 0:00:00\u001b[39m\n"
     ]
    },
    {
     "data": {
      "text/plain": [
       "Chains MCMC chain (10000×4×1 Array{Float64, 3}):\n",
       "\n",
       "Iterations        = 1:1:10000\n",
       "Number of chains  = 1\n",
       "Samples per chain = 10000\n",
       "Wall duration     = 2.11 seconds\n",
       "Compute duration  = 2.11 seconds\n",
       "parameters        = Ωm, σ8\n",
       "internals         = E, logp\n",
       "\n",
       "Summary Statistics\n",
       " \u001b[1m parameters \u001b[0m \u001b[1m    mean \u001b[0m \u001b[1m     std \u001b[0m \u001b[1m naive_se \u001b[0m \u001b[1m    mcse \u001b[0m \u001b[1m       ess \u001b[0m \u001b[1m    rhat \u001b[0m \u001b[1m \u001b[0m ⋯\n",
       " \u001b[90m     Symbol \u001b[0m \u001b[90m Float64 \u001b[0m \u001b[90m Float64 \u001b[0m \u001b[90m  Float64 \u001b[0m \u001b[90m Float64 \u001b[0m \u001b[90m   Float64 \u001b[0m \u001b[90m Float64 \u001b[0m \u001b[90m \u001b[0m ⋯\n",
       "\n",
       "          Ωm    0.2364    0.0636     0.0006    0.0020    925.5775    1.0000    ⋯\n",
       "          σ8    0.8656    0.0590     0.0006    0.0018   1045.5690    0.9999    ⋯\n",
       "\u001b[36m                                                                1 column omitted\u001b[0m\n",
       "\n",
       "Quantiles\n",
       " \u001b[1m parameters \u001b[0m \u001b[1m    2.5% \u001b[0m \u001b[1m   25.0% \u001b[0m \u001b[1m   50.0% \u001b[0m \u001b[1m   75.0% \u001b[0m \u001b[1m   97.5% \u001b[0m\n",
       " \u001b[90m     Symbol \u001b[0m \u001b[90m Float64 \u001b[0m \u001b[90m Float64 \u001b[0m \u001b[90m Float64 \u001b[0m \u001b[90m Float64 \u001b[0m \u001b[90m Float64 \u001b[0m\n",
       "\n",
       "          Ωm    0.1312    0.1910    0.2301    0.2731    0.3786\n",
       "          σ8    0.7576    0.8260    0.8630    0.9026    0.9889\n"
      ]
     },
     "execution_count": 14,
     "metadata": {},
     "output_type": "execute_result"
    }
   ],
   "source": [
    "samples = sample(\n",
    "    stat_model, MCHMC(varE_wanted=2.0), 10000;\n",
    "    monitor_energy=true, \n",
    "    dialog=true)"
   ]
  },
  {
   "cell_type": "code",
   "execution_count": 15,
   "id": "eea6e813",
   "metadata": {},
   "outputs": [
    {
     "name": "stderr",
     "output_type": "stream",
     "text": [
      "\u001b[36m\u001b[1m[ \u001b[22m\u001b[39m\u001b[36m\u001b[1mInfo: \u001b[22m\u001b[39mStarting from previous run\n",
      "\u001b[32mChain 1: 100%|██████████████████████████████████████████| Time: 0:00:00\u001b[39m\n"
     ]
    },
    {
     "data": {
      "text/plain": [
       "Chains MCMC chain (10000×4×1 Array{Float64, 3}):\n",
       "\n",
       "Iterations        = 1:1:10000\n",
       "Number of chains  = 1\n",
       "Samples per chain = 10000\n",
       "Wall duration     = 0.73 seconds\n",
       "Compute duration  = 0.73 seconds\n",
       "parameters        = Ωm, σ8\n",
       "internals         = E, logp\n",
       "\n",
       "Summary Statistics\n",
       " \u001b[1m parameters \u001b[0m \u001b[1m    mean \u001b[0m \u001b[1m     std \u001b[0m \u001b[1m naive_se \u001b[0m \u001b[1m    mcse \u001b[0m \u001b[1m      ess \u001b[0m \u001b[1m    rhat \u001b[0m \u001b[1m e\u001b[0m ⋯\n",
       " \u001b[90m     Symbol \u001b[0m \u001b[90m Float64 \u001b[0m \u001b[90m Float64 \u001b[0m \u001b[90m  Float64 \u001b[0m \u001b[90m Float64 \u001b[0m \u001b[90m  Float64 \u001b[0m \u001b[90m Float64 \u001b[0m \u001b[90m  \u001b[0m ⋯\n",
       "\n",
       "          Ωm    0.2371    0.0631     0.0006    0.0020   878.4538    1.0002     ⋯\n",
       "          σ8    0.8638    0.0589     0.0006    0.0019   899.1869    0.9999     ⋯\n",
       "\u001b[36m                                                                1 column omitted\u001b[0m\n",
       "\n",
       "Quantiles\n",
       " \u001b[1m parameters \u001b[0m \u001b[1m    2.5% \u001b[0m \u001b[1m   25.0% \u001b[0m \u001b[1m   50.0% \u001b[0m \u001b[1m   75.0% \u001b[0m \u001b[1m   97.5% \u001b[0m\n",
       " \u001b[90m     Symbol \u001b[0m \u001b[90m Float64 \u001b[0m \u001b[90m Float64 \u001b[0m \u001b[90m Float64 \u001b[0m \u001b[90m Float64 \u001b[0m \u001b[90m Float64 \u001b[0m\n",
       "\n",
       "          Ωm    0.1326    0.1914    0.2302    0.2765    0.3775\n",
       "          σ8    0.7526    0.8232    0.8623    0.9032    0.9835\n"
      ]
     },
     "execution_count": 15,
     "metadata": {},
     "output_type": "execute_result"
    }
   ],
   "source": [
    "new_samples = sample(stat_model, MCHMC(varE_wanted=2.0), 10000; \n",
    "                     monitor_energy=true, \n",
    "                     progress=true, resume_from=samples)"
   ]
  },
  {
   "cell_type": "markdown",
   "id": "f7fdb382",
   "metadata": {},
   "source": [
    "## Ensemble AbstractMCMC"
   ]
  },
  {
   "cell_type": "code",
   "execution_count": 16,
   "id": "16856966",
   "metadata": {
    "scrolled": false
   },
   "outputs": [
    {
     "name": "stderr",
     "output_type": "stream",
     "text": [
      "\u001b[36m\u001b[1m[ \u001b[22m\u001b[39m\u001b[36m\u001b[1mInfo: \u001b[22m\u001b[39mBurn-in started ⏳\n",
      "\u001b[36m\u001b[1m[ \u001b[22m\u001b[39m\u001b[36m\u001b[1mInfo: \u001b[22m\u001b[39mTuning sigma ⏳\n",
      "\u001b[36m\u001b[1m[ \u001b[22m\u001b[39m\u001b[36m\u001b[1mInfo: \u001b[22m\u001b[39mTuning eps ⏳\n",
      "\u001b[36m\u001b[1m[ \u001b[22m\u001b[39m\u001b[36m\u001b[1mInfo: \u001b[22m\u001b[39mTuning L ⏳\n",
      "\u001b[33m\u001b[1m┌ \u001b[22m\u001b[39m\u001b[33m\u001b[1mWarning: \u001b[22m\u001b[39mL-tuning not Implemented\n",
      "\u001b[33m\u001b[1m└ \u001b[22m\u001b[39m\u001b[90m@ MicroCanonicalHMC ~/PhD/MicroCanonicalHMC.jl/src/ensemble/tuning.jl:41\u001b[39m\n",
      "\u001b[36m\u001b[1m[ \u001b[22m\u001b[39m\u001b[36m\u001b[1mInfo: \u001b[22m\u001b[39mFound L: 1.4142135623730951 ✅\n",
      "\u001b[36m\u001b[1m[ \u001b[22m\u001b[39m\u001b[36m\u001b[1mInfo: \u001b[22m\u001b[39mVarE condition met during eps tuning at step: 7\n",
      "\u001b[36m\u001b[1m[ \u001b[22m\u001b[39m\u001b[36m\u001b[1mInfo: \u001b[22m\u001b[39mFound eps: 0.009335477501157657 ✅\n",
      "\u001b[33m\u001b[1m┌ \u001b[22m\u001b[39m\u001b[33m\u001b[1mWarning: \u001b[22m\u001b[39mMaximum number of steps reached during burn-in\n",
      "\u001b[33m\u001b[1m└ \u001b[22m\u001b[39m\u001b[90m@ MicroCanonicalHMC ~/PhD/MicroCanonicalHMC.jl/src/ensemble/tuning.jl:197\u001b[39m\n",
      "\u001b[36m\u001b[1m[ \u001b[22m\u001b[39m\u001b[36m\u001b[1mInfo: \u001b[22m\u001b[39mFound sigma: [1.6328259946191415, 0.235443065129492] ✅\n",
      "\u001b[33m\u001b[1m┌ \u001b[22m\u001b[39m\u001b[33m\u001b[1mWarning: \u001b[22m\u001b[39mMaximum number of steps reached during eps tuning\n",
      "\u001b[33m\u001b[1m└ \u001b[22m\u001b[39m\u001b[90m@ MicroCanonicalHMC ~/PhD/MicroCanonicalHMC.jl/src/ensemble/tuning.jl:214\u001b[39m\n",
      "\u001b[36m\u001b[1m[ \u001b[22m\u001b[39m\u001b[36m\u001b[1mInfo: \u001b[22m\u001b[39mFound eps: 0.020543875719697603 ✅\n",
      "\u001b[32mChain 1: 100%|██████████████████████████████████████████| Time: 0:00:03\u001b[39m\n"
     ]
    },
    {
     "data": {
      "text/plain": [
       "Chains MCMC chain (100000×4×1 Array{Float64, 3}):\n",
       "\n",
       "Iterations        = 1:1:100000\n",
       "Number of chains  = 1\n",
       "Samples per chain = 100000\n",
       "Wall duration     = 3.46 seconds\n",
       "Compute duration  = 3.46 seconds\n",
       "parameters        = Ωm, σ8\n",
       "internals         = E, logp\n",
       "\n",
       "Summary Statistics\n",
       " \u001b[1m parameters \u001b[0m \u001b[1m    mean \u001b[0m \u001b[1m     std \u001b[0m \u001b[1m naive_se \u001b[0m \u001b[1m    mcse \u001b[0m \u001b[1m      ess \u001b[0m \u001b[1m    rhat \u001b[0m \u001b[1m e\u001b[0m ⋯\n",
       " \u001b[90m     Symbol \u001b[0m \u001b[90m Float64 \u001b[0m \u001b[90m Float64 \u001b[0m \u001b[90m  Float64 \u001b[0m \u001b[90m Float64 \u001b[0m \u001b[90m  Float64 \u001b[0m \u001b[90m Float64 \u001b[0m \u001b[90m  \u001b[0m ⋯\n",
       "\n",
       "          Ωm    0.2860    0.1348     0.0004    0.0073   220.7480    1.0000     ⋯\n",
       "          σ8    0.8328    0.1790     0.0006    0.0096   227.8723    1.0105     ⋯\n",
       "\u001b[36m                                                                1 column omitted\u001b[0m\n",
       "\n",
       "Quantiles\n",
       " \u001b[1m parameters \u001b[0m \u001b[1m    2.5% \u001b[0m \u001b[1m   25.0% \u001b[0m \u001b[1m   50.0% \u001b[0m \u001b[1m   75.0% \u001b[0m \u001b[1m   97.5% \u001b[0m\n",
       " \u001b[90m     Symbol \u001b[0m \u001b[90m Float64 \u001b[0m \u001b[90m Float64 \u001b[0m \u001b[90m Float64 \u001b[0m \u001b[90m Float64 \u001b[0m \u001b[90m Float64 \u001b[0m\n",
       "\n",
       "          Ωm    0.0541    0.1923    0.2593    0.3770    0.5664\n",
       "          σ8    0.4247    0.7522    0.8365    0.9091    1.1003\n"
      ]
     },
     "execution_count": 16,
     "metadata": {},
     "output_type": "execute_result"
    }
   ],
   "source": [
    "samples = sample(stat_model, MCHMC(100), 1000, 100)"
   ]
  },
  {
   "cell_type": "code",
   "execution_count": 17,
   "id": "603dfac8",
   "metadata": {},
   "outputs": [
    {
     "name": "stderr",
     "output_type": "stream",
     "text": [
      "\u001b[36m\u001b[1m[ \u001b[22m\u001b[39m\u001b[36m\u001b[1mInfo: \u001b[22m\u001b[39mStarting from previous run\n",
      "\u001b[32mChain 1: 100%|██████████████████████████████████████████| Time: 0:00:03\u001b[39m\n"
     ]
    },
    {
     "data": {
      "text/plain": [
       "Chains MCMC chain (100000×4×1 Array{Float64, 3}):\n",
       "\n",
       "Iterations        = 1:1:100000\n",
       "Number of chains  = 1\n",
       "Samples per chain = 100000\n",
       "Wall duration     = 3.17 seconds\n",
       "Compute duration  = 3.17 seconds\n",
       "parameters        = Ωm, σ8\n",
       "internals         = E, logp\n",
       "\n",
       "Summary Statistics\n",
       " \u001b[1m parameters \u001b[0m \u001b[1m    mean \u001b[0m \u001b[1m     std \u001b[0m \u001b[1m naive_se \u001b[0m \u001b[1m    mcse \u001b[0m \u001b[1m      ess \u001b[0m \u001b[1m    rhat \u001b[0m \u001b[1m e\u001b[0m ⋯\n",
       " \u001b[90m     Symbol \u001b[0m \u001b[90m Float64 \u001b[0m \u001b[90m Float64 \u001b[0m \u001b[90m  Float64 \u001b[0m \u001b[90m Float64 \u001b[0m \u001b[90m  Float64 \u001b[0m \u001b[90m Float64 \u001b[0m \u001b[90m  \u001b[0m ⋯\n",
       "\n",
       "          Ωm    0.2527    0.0740     0.0002    0.0039   228.5743    1.0051     ⋯\n",
       "          σ8    0.8592    0.0618     0.0002    0.0033   224.4774    1.0160     ⋯\n",
       "\u001b[36m                                                                1 column omitted\u001b[0m\n",
       "\n",
       "Quantiles\n",
       " \u001b[1m parameters \u001b[0m \u001b[1m    2.5% \u001b[0m \u001b[1m   25.0% \u001b[0m \u001b[1m   50.0% \u001b[0m \u001b[1m   75.0% \u001b[0m \u001b[1m   97.5% \u001b[0m\n",
       " \u001b[90m     Symbol \u001b[0m \u001b[90m Float64 \u001b[0m \u001b[90m Float64 \u001b[0m \u001b[90m Float64 \u001b[0m \u001b[90m Float64 \u001b[0m \u001b[90m Float64 \u001b[0m\n",
       "\n",
       "          Ωm    0.1525    0.2000    0.2388    0.2915    0.4280\n",
       "          σ8    0.7498    0.8214    0.8593    0.8920    1.0106\n"
      ]
     },
     "execution_count": 17,
     "metadata": {},
     "output_type": "execute_result"
    }
   ],
   "source": [
    "new_samples = sample(stat_model, MCHMC(100), 1000, 100; \n",
    "                     resume_from=samples)"
   ]
  },
  {
   "cell_type": "markdown",
   "id": "767048c5",
   "metadata": {},
   "source": [
    "## Parallelization"
   ]
  },
  {
   "cell_type": "code",
   "execution_count": 18,
   "id": "42cf1f7f",
   "metadata": {
    "scrolled": true
   },
   "outputs": [
    {
     "name": "stdout",
     "output_type": "stream",
     "text": [
      "eps: 0.5 --> VarE: 0.6965167477733917\n",
      "eps: 0.5 --> VarE: 2.302937164684367\n",
      "eps: 0.5 --> VarE: 0.6783607554526879\n"
     ]
    },
    {
     "name": "stderr",
     "output_type": "stream",
     "text": [
      "\u001b[36m\u001b[1m[ \u001b[22m\u001b[39m\u001b[36m\u001b[1mInfo: \u001b[22m\u001b[39mTuning sigma ⏳\n",
      "\u001b[36m\u001b[1m[ \u001b[22m\u001b[39m\u001b[36m\u001b[1mInfo: \u001b[22m\u001b[39mTuning sigma ⏳\n",
      "\u001b[36m\u001b[1m[ \u001b[22m\u001b[39m\u001b[36m\u001b[1mInfo: \u001b[22m\u001b[39mTuning sigma ⏳\n",
      "\u001b[36m\u001b[1m[ \u001b[22m\u001b[39m\u001b[36m\u001b[1mInfo: \u001b[22m\u001b[39mTuning eps ⏳\n",
      "\u001b[36m\u001b[1m[ \u001b[22m\u001b[39m\u001b[36m\u001b[1mInfo: \u001b[22m\u001b[39mTuning sigma ⏳\n",
      "\u001b[36m\u001b[1m[ \u001b[22m\u001b[39m\u001b[36m\u001b[1mInfo: \u001b[22m\u001b[39mTuning eps ⏳\n",
      "\u001b[36m\u001b[1m[ \u001b[22m\u001b[39m\u001b[36m\u001b[1mInfo: \u001b[22m\u001b[39mTuning L ⏳\n",
      "\u001b[36m\u001b[1m[ \u001b[22m\u001b[39m\u001b[36m\u001b[1mInfo: \u001b[22m\u001b[39mTuning eps ⏳\n",
      "\u001b[36m\u001b[1m[ \u001b[22m\u001b[39m\u001b[36m\u001b[1mInfo: \u001b[22m\u001b[39mTuning L ⏳\n",
      "\u001b[36m\u001b[1m[ \u001b[22m\u001b[39m\u001b[36m\u001b[1mInfo: \u001b[22m\u001b[39mTuning L ⏳\n",
      "\u001b[36m\u001b[1m[ \u001b[22m\u001b[39m\u001b[36m\u001b[1mInfo: \u001b[22m\u001b[39mTuning eps ⏳\n",
      "\u001b[36m\u001b[1m[ \u001b[22m\u001b[39m\u001b[36m\u001b[1mInfo: \u001b[22m\u001b[39mTuning L ⏳\n",
      "\u001b[36m\u001b[1m[ \u001b[22m\u001b[39m\u001b[36m\u001b[1mInfo: \u001b[22m\u001b[39mFound sigma: [0.4504347985295365, 0.06088870443747063] ✅\n",
      "\u001b[36m\u001b[1m[ \u001b[22m\u001b[39m\u001b[36m\u001b[1mInfo: \u001b[22m\u001b[39mFound sigma: [0.4504347985295365, 0.06088870443747063] ✅\n",
      "\u001b[36m\u001b[1m[ \u001b[22m\u001b[39m\u001b[36m\u001b[1mInfo: \u001b[22m\u001b[39mFound sigma: [0.4504347985295365, 0.06088870443747063] ✅\n",
      "\u001b[36m\u001b[1m[ \u001b[22m\u001b[39m\u001b[36m\u001b[1mInfo: \u001b[22m\u001b[39mFound sigma: [0.4504347985295365, 0.06088870443747063] ✅\n"
     ]
    },
    {
     "name": "stdout",
     "output_type": "stream",
     "text": [
      "eps: 0.5 --> VarE: 0.9252330903914279\n",
      "eps: 1.841050019573843 --> VarE: 20.60974465395169\n",
      "eps: 1.8747813963037052 --> VarE: 20.635695292324826\n",
      "eps: 0.3693227539679783 --> VarE: 1.8323872389860314\n",
      "eps: 1.4646550134651826 --> VarE: 4.594695734249147\n",
      "eps: 3.776811436490186e-8 --> VarE: 4.4333277217137044e-18\n",
      "eps: 3.752232889015937e-8 --> VarE: 6.170826875608277e-17\n",
      "eps: 0.43316084430587265 --> VarE: 2.1107289939447145\n",
      "eps: 0.1241169266290423 --> VarE: 0.17725191847470367\n",
      "eps: 0.3918649977401867 --> VarE: 1.897304930469329\n",
      "eps: 2.292036773317879e-7 --> VarE: 2.2977477703379893e-15\n",
      "eps: 2.307050482837517e-7 --> VarE: 1.6553781349322003e-16\n",
      "eps: 0.6458160725343685 --> VarE: 1.042173109261273\n",
      "eps: 0.42807904043192524 --> VarE: 2.0101757563466647\n",
      "samples: 100--> ESS: 0.07602818545292837\n",
      "eps: 1.2902044849407318e-6 --> VarE: 5.20364697834378e-15\n",
      "eps: 1.2818081557307984e-6 --> VarE: 7.37564849665409e-14\n",
      "samples: 203--> ESS: 0.06820633186007416\n",
      "eps: 1.4728049497624582 --> VarE: 5.7439136072471975\n",
      "eps: 6.5911853868085385e-6 --> VarE: 4.305450898166092e-12\n",
      "eps: 6.634360149072614e-6 --> VarE: 1.4550975425768603e-13\n"
     ]
    },
    {
     "name": "stderr",
     "output_type": "stream",
     "text": [
      "\u001b[36m\u001b[1m[ \u001b[22m\u001b[39m\u001b[36m\u001b[1mInfo: \u001b[22m\u001b[39mFound eps: 0.42807904043192524 ✅\n",
      "\u001b[36m\u001b[1m[ \u001b[22m\u001b[39m\u001b[36m\u001b[1mInfo: \u001b[22m\u001b[39mFound L: 2.5104944292276725 ✅\n"
     ]
    },
    {
     "name": "stdout",
     "output_type": "stream",
     "text": [
      "eps: 0.06869433827804335 --> VarE: 0.07146546301655161\n",
      "eps: 3.129113326295002e-5 --> VarE: 2.1051187915600064e-9\n",
      "eps: 3.149610204488989e-5 --> VarE: 6.2015097533534445e-12\n",
      "eps: 0.3084658039960629 --> VarE: 0.5677448362472819\n",
      "eps: 0.00013768537829625076 --> VarE: 1.3847751312008078e-6\n",
      "eps: 0.0001385872699211445 --> VarE: 9.406244345311935e-10\n",
      "eps: 0.8912738335955345 --> VarE: 1.8878581249751536\n",
      "eps: 0.0005636009234382254 --> VarE: 2.1957992141229876e-5\n",
      "eps: 0.0005672932771767672 --> VarE: 4.701526177881928e-7\n",
      "eps: 0.9645645508171617 --> VarE: 2.804073999235429\n",
      "eps: 0.002153762930796012 --> VarE: 0.00010151679808809632\n",
      "eps: 0.0021679042373498885 --> VarE: 3.926638977852384e-5\n",
      "eps: 0.5626680452863755 --> VarE: 0.8786434203377158\n",
      "eps: 0.007709151163346628 --> VarE: 0.0019103401265582168\n",
      "eps: 0.007760076384621743 --> VarE: 0.00030333164415649073\n",
      "eps: 1.1502083281195294 --> VarE: 4.193563834222343\n",
      "eps: 0.02590175496139391 --> VarE: 0.011363076755115355\n",
      "eps: 0.026098282746447852 --> VarE: 0.00390198985363613\n",
      "eps: 0.3040629159469302 --> VarE: 0.5023630235376418\n",
      "eps: 0.08158573425001767 --> VarE: 0.053006858598535024\n",
      "eps: 0.08255938771504859 --> VarE: 0.04953587789814185\n",
      "eps: 0.7214737607627341 --> VarE: 1.2001761717403896\n",
      "eps: 0.23750458123882315 --> VarE: 0.24573995980051463\n",
      "eps: 0.24079724960349227 --> VarE: 0.2919984962805377\n",
      "eps: 1.1190648203950415 --> VarE: 4.186189178893233\n",
      "eps: 0.593472547694358 --> VarE: 0.9956517438903171\n",
      "eps: 0.5873437558597443 --> VarE: 0.8106185075329246\n",
      "eps: 0.35743652919754865 --> VarE: 0.5012124838881348\n",
      "eps: 0.9772431956680109 --> VarE: 2.5857007289697838\n",
      "eps: 1.0602283971822808 --> VarE: 3.1429895287180063\n",
      "eps: 0.7523740894800396 --> VarE: 1.2376132456283024\n",
      "eps: 0.7410514882005967 --> VarE: 1.3027161525038993\n",
      "eps: 0.6179018397192573 --> VarE: 0.8500406526484494\n",
      "eps: 1.0785358034095442 --> VarE: 3.099009621317636\n",
      "eps: 1.035914252729797 --> VarE: 3.2335926754017916\n",
      "eps: 1.0137178961556492 --> VarE: 2.922527429106409\n",
      "eps: 0.6582223604079994 --> VarE: 1.0254078208413777\n",
      "eps: 0.6114197564217453 --> VarE: 0.8660337112204949\n",
      "eps: 0.6833983588242708 --> VarE: 0.9823101807853207\n",
      "eps: 0.9983441513726083 --> VarE: 2.78321160463653\n",
      "eps: 0.9695383307672469 --> VarE: 2.2964279980912816\n",
      "eps: 1.0336378394276458 --> VarE: 3.5639382053605746\n",
      "eps: 0.7260856494534955 --> VarE: 1.0824385236841694\n",
      "eps: 0.8645240663292209 --> VarE: 1.4033412087591708\n",
      "eps: 0.5645340380962345 --> VarE: 0.8585897244542529\n",
      "eps: 1.0353829598223327 --> VarE: 3.3512579713979957\n",
      "eps: 1.0767232128722501 --> VarE: 3.397461092817788\n",
      "eps: 0.8591143678992313 --> VarE: 1.8595039028798486\n",
      "eps: 0.6298153110585085 --> VarE: 0.8322757614640346\n",
      "eps: 0.6602729146358368 --> VarE: 0.7096347062144318\n",
      "eps: 0.9024081767802767 --> VarE: 2.0617193036105363\n",
      "samples: 100--> ESS: 0.20621310213387614\n",
      "eps: 0.9477183992967764 --> VarE: 2.2733045947660857\n",
      "eps: 1.0145277885672435 --> VarE: 2.8005923441171263\n",
      "eps: 0.8653051457124042 --> VarE: 1.7448781610258006\n"
     ]
    },
    {
     "name": "stderr",
     "output_type": "stream",
     "text": [
      "\u001b[36m\u001b[1m[ \u001b[22m\u001b[39m\u001b[36m\u001b[1mInfo: \u001b[22m\u001b[39mFound eps: 0.9024081767802767 ✅\n",
      "\u001b[36m\u001b[1m[ \u001b[22m\u001b[39m\u001b[36m\u001b[1mInfo: \u001b[22m\u001b[39mFound L: 1.7504381000862341 ✅\n"
     ]
    },
    {
     "name": "stdout",
     "output_type": "stream",
     "text": [
      "eps: 0.7873568503570765 --> VarE: 1.1492620483800742\n",
      "eps: 0.9381062065763941 --> VarE: 2.3312897820755385\n",
      "eps: 1.0173117864391426 --> VarE: 2.9468131089335134\n",
      "eps: 0.849018184149498 --> VarE: 1.6730630912811537\n",
      "eps: 0.7756120241624915 --> VarE: 1.002854027256458\n",
      "eps: 0.9323885220905564 --> VarE: 2.218734468636814\n",
      "eps: 1.0178078289559072 --> VarE: 3.074506224078558\n",
      "eps: 0.8784311216698993 --> VarE: 1.9883605750819597\n",
      "samples: 100--> ESS: 0.5135677275575914\n",
      "eps: 0.7703547573413461 --> VarE: 1.2048326449887383\n",
      "eps: 0.9372377525865109 --> VarE: 1.9699821349801925\n"
     ]
    },
    {
     "name": "stderr",
     "output_type": "stream",
     "text": [
      "\u001b[36m\u001b[1m[ \u001b[22m\u001b[39m\u001b[36m\u001b[1mInfo: \u001b[22m\u001b[39mFound eps: 0.8784311216698993 ✅\n",
      "\u001b[36m\u001b[1m[ \u001b[22m\u001b[39m\u001b[36m\u001b[1mInfo: \u001b[22m\u001b[39mFound L: 0.6841793785193734 ✅\n",
      "\u001b[36m\u001b[1m[ \u001b[22m\u001b[39m\u001b[36m\u001b[1mInfo: \u001b[22m\u001b[39mFound eps: 0.9372377525865109 ✅\n",
      "\u001b[36m\u001b[1m[ \u001b[22m\u001b[39m\u001b[36m\u001b[1mInfo: \u001b[22m\u001b[39mFound L: 1.130089223370722 ✅\n"
     ]
    },
    {
     "name": "stdout",
     "output_type": "stream",
     "text": [
      "samples: 100--> ESS: 0.33173938241478235\n"
     ]
    },
    {
     "name": "stderr",
     "output_type": "stream",
     "text": [
      "\u001b[35mchain 3:   4%|█▉                                        |  ETA: 0:00:02\u001b[39m\n",
      "\u001b[34mchain 1:   4%|█▉                                        |  ETA: 0:00:02\u001b[39m\n",
      "\u001b[36mchain 2:   4%|█▉                                        |  ETA: 0:00:02\u001b[39m\n",
      "\u001b[32mchain 4:   5%|██▏                                       |  ETA: 0:00:02\u001b[39m\n",
      "\u001b[34mchain 1:  10%|████▎                                     |  ETA: 0:00:02\u001b[39m\n",
      "\u001b[35mchain 3:  11%|████▋                                     |  ETA: 0:00:02\u001b[39m\n",
      "\n",
      "\u001b[36mchain 2:  10%|████▎                                     |  ETA: 0:00:02\u001b[39m\n",
      "\u001b[35mchain 3:  17%|███████▏                                  |  ETA: 0:00:02\u001b[39m\n",
      "\u001b[34mchain 1:  16%|██████▌                                   |  ETA: 0:00:02\u001b[39m\n",
      "\u001b[36mchain 2:  16%|██████▊                                   |  ETA: 0:00:02\u001b[39m\n",
      "\u001b[32mchain 4:  17%|███████▏                                  |  ETA: 0:00:02\u001b[39m\n",
      "\u001b[35mchain 3:  22%|█████████▌                                |  ETA: 0:00:01\u001b[39m\n",
      "\u001b[34mchain 1:  21%|████████▉                                 |  ETA: 0:00:02\u001b[39m\n",
      "\u001b[32mchain 4:  23%|█████████▋                                |  ETA: 0:00:01\u001b[39m\n",
      "\u001b[36mchain 2:  22%|█████████▎                                |  ETA: 0:00:02\u001b[39m\n",
      "\n",
      "\u001b[34mchain 1:  26%|██████████▉                               |  ETA: 0:00:02\u001b[39m\n",
      "\u001b[32mchain 4:  29%|████████████▏                             |  ETA: 0:00:01\u001b[39m\n",
      "\u001b[35mchain 3:  28%|████████████                              |  ETA: 0:00:01\u001b[39m\n",
      "\u001b[36mchain 2:  28%|███████████▊                              |  ETA: 0:00:01\u001b[39m\n",
      "\u001b[36mchain 2:  34%|██████████████▏                           |  ETA: 0:00:01\u001b[39m\n",
      "\u001b[32mchain 4:  34%|██████████████▌                           |  ETA: 0:00:01\u001b[39m\n",
      "\u001b[34mchain 1:  32%|█████████████▎                            |  ETA: 0:00:01\u001b[39m\n",
      "\u001b[35mchain 3:  34%|██████████████▌                           |  ETA: 0:00:01\u001b[39m\n",
      "\n",
      "\n",
      "\u001b[35mchain 3:  40%|█████████████████                         |  ETA: 0:00:01\u001b[39m\n",
      "\u001b[36mchain 2:  40%|████████████████▋                         |  ETA: 0:00:01\u001b[39m\n",
      "\u001b[32mchain 4:  41%|█████████████████▎                        |  ETA: 0:00:01\u001b[39m\n",
      "\u001b[32mchain 4:  46%|███████████████████▌                      |  ETA: 0:00:01\u001b[39m\n",
      "\u001b[34mchain 1:  42%|█████████████████▋                        |  ETA: 0:00:01\u001b[39m\n",
      "\u001b[36mchain 2:  46%|███████████████████▏                      |  ETA: 0:00:01\u001b[39m\n",
      "\u001b[35mchain 3:  47%|███████████████████▊                      |  ETA: 0:00:01\u001b[39m\n",
      "\u001b[32mchain 4:  52%|█████████████████████▉                    |  ETA: 0:00:01\u001b[39m\n",
      "\u001b[35mchain 3:  53%|██████████████████████▎                   |  ETA: 0:00:01\u001b[39m\n",
      "\n",
      "\u001b[34mchain 1:  48%|████████████████████                      |  ETA: 0:00:01\u001b[39m\u001b[36mchain 2:  52%|█████████████████████▋                    |  ETA: 0:00:01\u001b[39m\n",
      "\u001b[32mchain 4:  58%|████████████████████████▏                 |  ETA: 0:00:01\u001b[39m\n",
      "\u001b[35mchain 3:  59%|████████████████████████▊                 |  ETA: 0:00:01\u001b[39m\n",
      "\u001b[34mchain 1:  54%|██████████████████████▌                   |  ETA: 0:00:01\u001b[39m\n",
      "\u001b[36mchain 2:  57%|████████████████████████                  |  ETA: 0:00:01\u001b[39m\n",
      "\u001b[32mchain 4:  63%|██████████████████████████▌               |  ETA: 0:00:01\u001b[39m\n",
      "\u001b[35mchain 3:  65%|███████████████████████████▎              |  ETA: 0:00:01\u001b[39m\n",
      "\u001b[34mchain 1:  60%|█████████████████████████                 |  ETA: 0:00:01\u001b[39m\n",
      "\u001b[36mchain 2:  62%|██████████████████████████▎               |  ETA: 0:00:01\u001b[39m\n",
      "\u001b[32mchain 4:  68%|████████████████████████████▌             |  ETA: 0:00:01\u001b[39m\n",
      "\u001b[35mchain 3:  71%|█████████████████████████████▉            |  ETA: 0:00:01\u001b[39m\n",
      "\u001b[36mchain 2:  68%|████████████████████████████▌             |  ETA: 0:00:01\u001b[39m\n",
      "\u001b[34mchain 1:  65%|███████████████████████████▎              |  ETA: 0:00:01\u001b[39m\n",
      "\u001b[32mchain 4:  74%|███████████████████████████████▏          |  ETA: 0:00:00\u001b[39m\n",
      "\n",
      "\u001b[35mchain 3:  76%|████████████████████████████████▏         |  ETA: 0:00:00\u001b[39m\n",
      "\u001b[36mchain 2:  74%|██████████████████████████████▉           |  ETA: 0:00:01\u001b[39m\n",
      "\u001b[34mchain 1:  71%|█████████████████████████████▉            |  ETA: 0:00:01\u001b[39m\n",
      "\n",
      "\u001b[32mchain 4:  80%|█████████████████████████████████▍        |  ETA: 0:00:00\u001b[39m\n",
      "\n",
      "\u001b[35mchain 3:  82%|██████████████████████████████████▋       |  ETA: 0:00:00\u001b[39m\n",
      "\n",
      "\u001b[36mchain 2:  79%|█████████████████████████████████▏        |  ETA: 0:00:00\u001b[39m\n",
      "\n",
      "\u001b[34mchain 1:  77%|████████████████████████████████▍         |  ETA: 0:00:00\u001b[39m\n",
      "\u001b[32mchain 4:  85%|███████████████████████████████████▊      |  ETA: 0:00:00\u001b[39m\n",
      "\u001b[35mchain 3:  88%|█████████████████████████████████████▏    |  ETA: 0:00:00\u001b[39m\n",
      "\u001b[36mchain 2:  84%|███████████████████████████████████▎      |  ETA: 0:00:00\u001b[39m\n",
      "\u001b[34mchain 1:  82%|██████████████████████████████████▋       |  ETA: 0:00:00\u001b[39m\n",
      "\n",
      "\u001b[32mchain 4:  91%|██████████████████████████████████████▎   |  ETA: 0:00:00\u001b[39m\n",
      "\u001b[35mchain 3:  94%|███████████████████████████████████████▊  |  ETA: 0:00:00\u001b[39m\n",
      "\u001b[36mchain 2:  90%|█████████████████████████████████████▋    |  ETA: 0:00:00\u001b[39m\n",
      "\u001b[34mchain 1:  88%|█████████████████████████████████████▏    |  ETA: 0:00:00\u001b[39m\n",
      "\n",
      "\u001b[32mchain 4:  96%|████████████████████████████████████████▌ |  ETA: 0:00:00\u001b[39m\n",
      "\u001b[35mchain 3: 100%|██████████████████████████████████████████| Time: 0:00:01\u001b[39m\n",
      "\n",
      "\u001b[36mchain 2:  95%|███████████████████████████████████████▉  |  ETA: 0:00:00\u001b[39m\n",
      "\u001b[32mchain 4: 100%|██████████████████████████████████████████| Time: 0:00:01\u001b[39m\n",
      "\n",
      "\n",
      "\n",
      "\n",
      "\n",
      "\n",
      "\n",
      "\n",
      "\u001b[36mchain 2: 100%|██████████████████████████████████████████| Time: 0:00:01\u001b[39m\n",
      "\u001b[34mchain 1: 100%|██████████████████████████████████████████| Time: 0:00:02\u001b[39m\n"
     ]
    },
    {
     "data": {
      "text/plain": [
       "4-element Vector{Chains}:\n",
       " MCMC chain (30000×4×1 Array{Float64, 3})\n",
       " MCMC chain (30000×4×1 Array{Float64, 3})\n",
       " MCMC chain (30000×4×1 Array{Float64, 3})\n",
       " MCMC chain (30000×4×1 Array{Float64, 3})"
      ]
     },
     "execution_count": 18,
     "metadata": {},
     "output_type": "execute_result"
    }
   ],
   "source": [
    "samples = sample(\n",
    "    stat_model, MCHMC(varE_wanted=2.0), MCMCThreads(), 30000, 4;\n",
    "    monitor_energy=true, \n",
    "    dialog=true)"
   ]
  },
  {
   "cell_type": "code",
   "execution_count": 19,
   "id": "2e8cd8ab",
   "metadata": {
    "scrolled": false
   },
   "outputs": [
    {
     "name": "stderr",
     "output_type": "stream",
     "text": [
      "\u001b[36m\u001b[1m[ \u001b[22m\u001b[39m\u001b[36m\u001b[1mInfo: \u001b[22m\u001b[39mStarting from previous run\n",
      "\u001b[32mchain 3:   4%|█▉                                        |  ETA: 0:00:02\u001b[39m\n",
      "\u001b[35mchain 2:   4%|█▉                                        |  ETA: 0:00:02\u001b[39m\n",
      "\u001b[34mchain 4:   4%|█▉                                        |  ETA: 0:00:02\u001b[39m\n",
      "\u001b[36mchain 1:   5%|██▏                                       |  ETA: 0:00:02\u001b[39m\n",
      "\n",
      "\u001b[34mchain 4:  10%|████▎                                     |  ETA: 0:00:02\u001b[39m\n",
      "\u001b[35mchain 2:  10%|████▍                                     |  ETA: 0:00:02\u001b[39m\n",
      "\u001b[36mchain 1:  10%|████▍                                     |  ETA: 0:00:02\u001b[39m\n",
      "\u001b[32mchain 3:  16%|██████▉                                   |  ETA: 0:00:02\u001b[39m\n",
      "\u001b[35mchain 2:  16%|██████▉                                   |  ETA: 0:00:02\u001b[39m\n",
      "\u001b[34mchain 4:  16%|██████▊                                   |  ETA: 0:00:02\u001b[39m\n",
      "\u001b[36mchain 1:  16%|██████▊                                   |  ETA: 0:00:02\u001b[39m\n",
      "\u001b[35mchain 2:  22%|█████████▌                                |  ETA: 0:00:02\u001b[39m\n",
      "\u001b[32mchain 3:  22%|█████████▌                                |  ETA: 0:00:02\u001b[39m\n",
      "\u001b[34mchain 4:  22%|█████████▎                                |  ETA: 0:00:02\u001b[39m\n",
      "\u001b[36mchain 1:  22%|█████████                                 |  ETA: 0:00:02\u001b[39m\n",
      "\u001b[32mchain 3:  28%|████████████                              |  ETA: 0:00:01\u001b[39m\n",
      "\u001b[35mchain 2:  28%|████████████                              |  ETA: 0:00:01\u001b[39m\n",
      "\u001b[34mchain 4:  28%|███████████▊                              |  ETA: 0:00:01\u001b[39m\n",
      "\u001b[36mchain 1:  27%|███████████▍                              |  ETA: 0:00:01\u001b[39m\n",
      "\u001b[35mchain 2:  34%|██████████████▎                           |  ETA: 0:00:01\u001b[39m\n",
      "\u001b[32mchain 3:  34%|██████████████▌                           |  ETA: 0:00:01\u001b[39m\n",
      "\u001b[34mchain 4:  34%|██████████████▎                           |  ETA: 0:00:01\u001b[39m\n",
      "\u001b[36mchain 1:  32%|█████████████▋                            |  ETA: 0:00:01\u001b[39m\n",
      "\u001b[35mchain 2:  40%|████████████████▊                         |  ETA: 0:00:01\u001b[39m\n",
      "\n",
      "\u001b[34mchain 4:  40%|████████████████▊                         |  ETA: 0:00:01\u001b[39m\u001b[32mchain 3:  40%|█████████████████                         |  ETA: 0:00:01\u001b[39m\n",
      "\u001b[36mchain 1:  38%|████████████████                          |  ETA: 0:00:01\u001b[39m\n",
      "\u001b[34mchain 4:  46%|███████████████████▏                      |  ETA: 0:00:01\u001b[39m\n",
      "\u001b[35mchain 2:  46%|███████████████████▍                      |  ETA: 0:00:01\u001b[39m\n",
      "\u001b[32mchain 3:  46%|███████████████████▌                      |  ETA: 0:00:01\u001b[39m\n",
      "\u001b[36mchain 1:  44%|██████████████████▎                       |  ETA: 0:00:01\u001b[39m\n",
      "\u001b[35mchain 2:  52%|█████████████████████▉                    |  ETA: 0:00:01\u001b[39m\n",
      "\u001b[32mchain 3:  52%|██████████████████████                    |  ETA: 0:00:01\u001b[39m\n",
      "\u001b[34mchain 4:  52%|█████████████████████▋                    |  ETA: 0:00:01\u001b[39m\n",
      "\u001b[36mchain 1:  49%|████████████████████▋                     |  ETA: 0:00:01\u001b[39m\n",
      "\n",
      "\u001b[35mchain 2:  58%|████████████████████████▍                 |  ETA: 0:00:01\u001b[39m\n",
      "\u001b[34mchain 4:  58%|████████████████████████▏                 |  ETA: 0:00:01\u001b[39m\n",
      "\u001b[32mchain 3:  58%|████████████████████████▋                 |  ETA: 0:00:01\u001b[39m\n",
      "\u001b[36mchain 1:  54%|██████████████████████▉                   |  ETA: 0:00:01\u001b[39m\n",
      "\u001b[35mchain 2:  64%|██████████████████████████▉               |  ETA: 0:00:01\u001b[39m\n",
      "\u001b[34mchain 4:  64%|██████████████████████████▋               |  ETA: 0:00:01\u001b[39m\n",
      "\u001b[32mchain 3:  64%|███████████████████████████▏              |  ETA: 0:00:01\u001b[39m\n",
      "\u001b[36mchain 1:  60%|█████████████████████████▎                |  ETA: 0:00:01\u001b[39m\n",
      "\u001b[35mchain 2:  70%|█████████████████████████████▍            |  ETA: 0:00:01\u001b[39m\n",
      "\u001b[32mchain 3:  70%|█████████████████████████████▋            |  ETA: 0:00:01\u001b[39m\n",
      "\u001b[34mchain 4:  69%|█████████████████████████████             |  ETA: 0:00:01\u001b[39m\n",
      "\u001b[36mchain 1:  66%|███████████████████████████▌              |  ETA: 0:00:01\u001b[39m\n",
      "\u001b[32mchain 3:  76%|████████████████████████████████▏         |  ETA: 0:00:00\u001b[39m\n",
      "\u001b[35mchain 2:  76%|███████████████████████████████▉          |  ETA: 0:00:00\u001b[39m\n",
      "\u001b[34mchain 4:  75%|███████████████████████████████▌          |  ETA: 0:00:00\u001b[39m\n",
      "\u001b[36mchain 1:  71%|█████████████████████████████▉            |  ETA: 0:00:01\u001b[39m\n",
      "\u001b[32mchain 3:  82%|██████████████████████████████████▋       |  ETA: 0:00:00\u001b[39m\n",
      "\u001b[34mchain 4:  81%|██████████████████████████████████        |  ETA: 0:00:00\u001b[39m\n",
      "\u001b[35mchain 2:  82%|██████████████████████████████████▌       |  ETA: 0:00:00\u001b[39m\n",
      "\u001b[36mchain 1:  76%|████████████████████████████████▏         |  ETA: 0:00:00\u001b[39m\n",
      "\n",
      "\u001b[34mchain 4:  86%|████████████████████████████████████▍     |  ETA: 0:00:00\u001b[39m\n",
      "\u001b[32mchain 3:  88%|█████████████████████████████████████     |  ETA: 0:00:00\u001b[39m\n",
      "\u001b[35mchain 2:  88%|█████████████████████████████████████     |  ETA: 0:00:00\u001b[39m\n",
      "\u001b[36mchain 1:  82%|██████████████████████████████████▌       |  ETA: 0:00:00\u001b[39m\n",
      "\u001b[32mchain 3:  94%|███████████████████████████████████████▌  |  ETA: 0:00:00\u001b[39m\n",
      "\u001b[34mchain 4:  92%|██████████████████████████████████████▉   |  ETA: 0:00:00\u001b[39m\n",
      "\u001b[35mchain 2:  94%|███████████████████████████████████████▌  |  ETA: 0:00:00\u001b[39m\n",
      "\u001b[36mchain 1:  88%|████████████████████████████████████▊     |  ETA: 0:00:00\u001b[39m\n",
      "\u001b[32mchain 3: 100%|██████████████████████████████████████████| Time: 0:00:01\u001b[39m\n",
      "\u001b[34mchain 4:  98%|█████████████████████████████████████████▍|  ETA: 0:00:00\u001b[39m\n",
      "\u001b[35mchain 2: 100%|██████████████████████████████████████████| Time: 0:00:01\u001b[39m\n",
      "\n",
      "\u001b[34mchain 4: 100%|██████████████████████████████████████████| Time: 0:00:01\u001b[39m\n",
      "\u001b[36mchain 1: 100%|██████████████████████████████████████████| Time: 0:00:01\u001b[39m\n"
     ]
    },
    {
     "data": {
      "text/plain": [
       "4-element Vector{Chains}:\n",
       " MCMC chain (30000×4×1 Array{Float64, 3})\n",
       " MCMC chain (30000×4×1 Array{Float64, 3})\n",
       " MCMC chain (30000×4×1 Array{Float64, 3})\n",
       " MCMC chain (30000×4×1 Array{Float64, 3})"
      ]
     },
     "execution_count": 19,
     "metadata": {},
     "output_type": "execute_result"
    }
   ],
   "source": [
    "new_samples = sample(\n",
    "    stat_model, MCHMC(varE_wanted=2.0), MCMCThreads(), 30000, 4;\n",
    "    monitor_energy=true, \n",
    "    dialog=true, \n",
    "    resume_from=samples)"
   ]
  },
  {
   "cell_type": "markdown",
   "id": "4aadd3b5",
   "metadata": {},
   "source": [
    "## NUTS"
   ]
  },
  {
   "cell_type": "code",
   "execution_count": 20,
   "id": "dcbe40a3",
   "metadata": {},
   "outputs": [
    {
     "name": "stderr",
     "output_type": "stream",
     "text": [
      "\u001b[36m\u001b[1m┌ \u001b[22m\u001b[39m\u001b[36m\u001b[1mInfo: \u001b[22m\u001b[39mFound initial step size\n",
      "\u001b[36m\u001b[1m└ \u001b[22m\u001b[39m  ϵ = 0.05\n",
      "\u001b[32mSampling: 100%|█████████████████████████████████████████| Time: 0:00:06\u001b[39m\n"
     ]
    },
    {
     "data": {
      "text/plain": [
       "Chains MCMC chain (10000×14×1 Array{Float64, 3}):\n",
       "\n",
       "Iterations        = 11:1:10010\n",
       "Number of chains  = 1\n",
       "Samples per chain = 10000\n",
       "Wall duration     = 9.41 seconds\n",
       "Compute duration  = 9.41 seconds\n",
       "parameters        = Ωm, σ8\n",
       "internals         = lp, n_steps, is_accept, acceptance_rate, log_density, hamiltonian_energy, hamiltonian_energy_error, max_hamiltonian_energy_error, tree_depth, numerical_error, step_size, nom_step_size\n",
       "\n",
       "Summary Statistics\n",
       " \u001b[1m parameters \u001b[0m \u001b[1m    mean \u001b[0m \u001b[1m     std \u001b[0m \u001b[1m naive_se \u001b[0m \u001b[1m    mcse \u001b[0m \u001b[1m       ess \u001b[0m \u001b[1m    rhat \u001b[0m \u001b[1m \u001b[0m ⋯\n",
       " \u001b[90m     Symbol \u001b[0m \u001b[90m Float64 \u001b[0m \u001b[90m Float64 \u001b[0m \u001b[90m  Float64 \u001b[0m \u001b[90m Float64 \u001b[0m \u001b[90m   Float64 \u001b[0m \u001b[90m Float64 \u001b[0m \u001b[90m \u001b[0m ⋯\n",
       "\n",
       "          Ωm    0.2367    0.0656     0.0007    0.0015   1680.4345    1.0014    ⋯\n",
       "          σ8    0.8661    0.0611     0.0006    0.0011   2579.4440    1.0004    ⋯\n",
       "\u001b[36m                                                                1 column omitted\u001b[0m\n",
       "\n",
       "Quantiles\n",
       " \u001b[1m parameters \u001b[0m \u001b[1m    2.5% \u001b[0m \u001b[1m   25.0% \u001b[0m \u001b[1m   50.0% \u001b[0m \u001b[1m   75.0% \u001b[0m \u001b[1m   97.5% \u001b[0m\n",
       " \u001b[90m     Symbol \u001b[0m \u001b[90m Float64 \u001b[0m \u001b[90m Float64 \u001b[0m \u001b[90m Float64 \u001b[0m \u001b[90m Float64 \u001b[0m \u001b[90m Float64 \u001b[0m\n",
       "\n",
       "          Ωm    0.1324    0.1899    0.2292    0.2749    0.3860\n",
       "          σ8    0.7560    0.8236    0.8631    0.9046    0.9966\n"
      ]
     },
     "execution_count": 20,
     "metadata": {},
     "output_type": "execute_result"
    }
   ],
   "source": [
    "samples_hmc = sample(stat_model, NUTS(10, 0.65),\n",
    "                     10000, progress=true; save_state=true)"
   ]
  },
  {
   "cell_type": "code",
   "execution_count": 21,
   "id": "623ba990",
   "metadata": {},
   "outputs": [
    {
     "data": {
      "text/plain": [
       "3-dimensional AxisArray{Float64,3,...} with axes:\n",
       "    :iter, 11:1:10010\n",
       "    :var, [:Ωm, :σ8, :lp, :n_steps, :is_accept, :acceptance_rate, :log_density, :hamiltonian_energy, :hamiltonian_energy_error, :max_hamiltonian_energy_error, :tree_depth, :numerical_error, :step_size, :nom_step_size]\n",
       "    :chain, 1:1\n",
       "And data, a 10000×14×1 Array{Float64, 3}:\n",
       "[:, :, 1] =\n",
       " 0.505744  0.755005  11.0963   1.0  1.0  …  1.0  0.0  0.0565015  0.0565015\n",
       " 0.505744  0.755005  11.0963   1.0  1.0     1.0  0.0  0.0565015  0.0565015\n",
       " 0.479442  0.704872  10.7634   9.0  1.0     3.0  0.0  0.0565015  0.0565015\n",
       " 0.477996  0.741131  11.8464   1.0  1.0     1.0  0.0  0.0565015  0.0565015\n",
       " 0.277406  0.816538  15.9222  31.0  1.0     4.0  0.0  0.0565015  0.0565015\n",
       " 0.277406  0.816538  15.9222   1.0  1.0  …  1.0  0.0  0.0565015  0.0565015\n",
       " 0.277554  0.79716   15.5702   1.0  1.0     1.0  0.0  0.0565015  0.0565015\n",
       " 0.279103  0.768495  14.5444   1.0  1.0     1.0  0.0  0.0565015  0.0565015\n",
       " 0.241389  0.8899    15.7837  11.0  1.0     3.0  0.0  0.0565015  0.0565015\n",
       " 0.23713   0.843351  16.2326   5.0  1.0     2.0  0.0  0.0565015  0.0565015\n",
       " 0.278372  0.864263  15.5384  17.0  1.0  …  4.0  0.0  0.0565015  0.0565015\n",
       " 0.35246   0.768246  14.5614  21.0  1.0     4.0  0.0  0.0565015  0.0565015\n",
       " 0.385908  0.806862  13.9378   9.0  1.0     3.0  0.0  0.0565015  0.0565015\n",
       " ⋮                                       ⋱  ⋮                    \n",
       " 0.170841  0.953766  15.4068   5.0  1.0     2.0  0.0  0.0565015  0.0565015\n",
       " 0.172308  0.952278  15.4293  15.0  1.0     4.0  0.0  0.0565015  0.0565015\n",
       " 0.144528  0.991359  14.6193   9.0  1.0  …  3.0  0.0  0.0565015  0.0565015\n",
       " 0.14361   0.914347  14.6331   3.0  1.0     2.0  0.0  0.0565015  0.0565015\n",
       " 0.28843   0.815958  15.8428  27.0  1.0     4.0  0.0  0.0565015  0.0565015\n",
       " 0.303131  0.800816  15.5748   7.0  1.0     2.0  0.0  0.0565015  0.0565015\n",
       " 0.304832  0.80743   15.6241   3.0  1.0     1.0  0.0  0.0565015  0.0565015\n",
       " 0.310715  0.821661  15.5406   7.0  1.0  …  3.0  0.0  0.0565015  0.0565015\n",
       " 0.239211  0.820275  15.856   17.0  1.0     4.0  0.0  0.0565015  0.0565015\n",
       " 0.240547  0.928749  14.2349   3.0  1.0     1.0  0.0  0.0565015  0.0565015\n",
       " 0.24308   0.884737  15.876    1.0  1.0     1.0  0.0  0.0565015  0.0565015\n",
       " 0.227674  0.809029  15.2752  13.0  1.0     3.0  0.0  0.0565015  0.0565015"
      ]
     },
     "execution_count": 21,
     "metadata": {},
     "output_type": "execute_result"
    }
   ],
   "source": [
    "samples_hmc.value"
   ]
  },
  {
   "cell_type": "code",
   "execution_count": 22,
   "id": "fa9db828",
   "metadata": {},
   "outputs": [],
   "source": [
    "Wms_hmc = vec(samples_hmc[\"Ωm\"])\n",
    "s8s_hmc = vec(samples_hmc[\"σ8\"]);"
   ]
  },
  {
   "cell_type": "code",
   "execution_count": 23,
   "id": "3d063a52",
   "metadata": {},
   "outputs": [
    {
     "data": {
      "image/png": "[encoded data removed]",
      "text/plain": [
       "Figure(PyObject <Figure size 640x480 with 1 Axes>)"
      ]
     },
     "metadata": {},
     "output_type": "display_data"
    }
   ],
   "source": [
    "plt.hist2d(Wms_hmc, s8s_hmc, bins=100, range=[[0.1, 0.4],[0.6, 1.2]]);\n",
    "plt.xlabel(\"Wm\")\n",
    "plt.ylabel(\"s8\")\n",
    "plt.title(\"NUTS - RSD model\");"
   ]
  }
 ],
 "metadata": {
  "kernelspec": {
   "display_name": "Julia_1.9 (5 threads) 1.9.0-beta3",
   "language": "julia",
   "name": "julia_1.9-_5-threads_-1.9"
  },
  "language_info": {
   "file_extension": ".jl",
   "mimetype": "application/julia",
   "name": "julia",
   "version": "1.9.0"
  }
 },
 "nbformat": 4,
 "nbformat_minor": 5
}
