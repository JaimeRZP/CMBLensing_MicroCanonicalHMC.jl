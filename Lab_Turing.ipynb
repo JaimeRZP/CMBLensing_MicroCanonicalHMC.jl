{
 "cells": [
  {
   "cell_type": "markdown",
   "id": "91129cb1",
   "metadata": {},
   "source": [
    "# Turing Target Practice"
   ]
  },
  {
   "cell_type": "markdown",
   "id": "97121235",
   "metadata": {},
   "source": [
    "## Model"
   ]
  },
  {
   "cell_type": "code",
   "execution_count": 14,
   "id": "86b96c9e",
   "metadata": {},
   "outputs": [
    {
     "name": "stderr",
     "output_type": "stream",
     "text": [
      "\u001b[32m\u001b[1m  Activating\u001b[22m\u001b[39m project at `~/Glamdring/MicroCanonicalHMC.jl`\n"
     ]
    }
   ],
   "source": [
    "] activate \".\""
   ]
  },
  {
   "cell_type": "code",
   "execution_count": 15,
   "id": "baed58e3",
   "metadata": {},
   "outputs": [
    {
     "name": "stderr",
     "output_type": "stream",
     "text": [
      "\u001b[36m\u001b[1m[ \u001b[22m\u001b[39m\u001b[36m\u001b[1mInfo: \u001b[22m\u001b[39mPrecompiling MicroCanonicalHMC [234d2aa0-2291-45f7-9047-6fa6f316b0a8]\n"
     ]
    }
   ],
   "source": [
    "# The statistical inference frame-work we will use\n",
    "using Turing\n",
    "using Interpolations\n",
    "using ForwardDiff\n",
    "using LinearAlgebra\n",
    "#using StatsPlots\n",
    "using PyPlot\n",
    "using Distributed\n",
    "\n",
    "using Revise\n",
    "using MicroCanonicalHMC"
   ]
  },
  {
   "cell_type": "code",
   "execution_count": 16,
   "id": "a7d6f81c",
   "metadata": {},
   "outputs": [],
   "source": [
    "fs8_zs = [0.38, 0.51, 0.61, 1.48, 0.44, 0.6, 0.73, 0.6, 0.86, 0.067, 1.4]\n",
    "fs8_data = [0.49749, 0.457523, 0.436148, 0.462, 0.413, 0.39, 0.437, 0.55, 0.4, 0.423, 0.482]\n",
    "fs8_cov = [0.00203355 0.000811829 0.000264615 0.0 0.0 0.0 0.0 0.0 0.0 0.0 0.0;\n",
    "           0.000811829 0.00142289 0.000662824 0.0 0.0 0.0 0.0 0.0 0.0 0.0 0.0; \n",
    "           0.000264615 0.000662824 0.00118576 0.0 0.0 0.0 0.0 0.0 0.0 0.0 0.0;\n",
    "           0.0 0.0 0.0 0.002025 0.0 0.0 0.0 0.0 0.0 0.0 0.0;\n",
    "           0.0 0.0 0.0 0.0 0.0064 0.00257 0.0 0.0 0.0 0.0 0.0;\n",
    "           0.0 0.0 0.0 0.0 0.00257 0.003969 0.00254 0.0 0.0 0.0 0.0;\n",
    "           0.0 0.0 0.0 0.0 0.0 0.00254 0.005184 0.0 0.0 0.0 0.0;\n",
    "           0.0 0.0 0.0 0.0 0.0 0.0 0.0 0.0144 0.0 0.0 0.0;\n",
    "           0.0 0.0 0.0 0.0 0.0 0.0 0.0 0.0 0.0121 0.0 0.0; \n",
    "           0.0 0.0 0.0 0.0 0.0 0.0 0.0 0.0 0.0 0.003025 0.0;\n",
    "           0.0 0.0 0.0 0.0 0.0 0.0 0.0 0.0 0.0 0.0 0.013456000000000001];"
   ]
  },
  {
   "cell_type": "code",
   "execution_count": 17,
   "id": "1359a630",
   "metadata": {
    "code_folding": []
   },
   "outputs": [
    {
     "data": {
      "text/plain": [
       "make_fs8 (generic function with 1 method)"
      ]
     },
     "execution_count": 17,
     "metadata": {},
     "output_type": "execute_result"
    }
   ],
   "source": [
    "function make_fs8(Ωm, σ8; Ωr=8.24*10^-5)\n",
    "    # ODE solution for growth factor\n",
    "    x_Dz = LinRange(0, log(1+1100), 300)\n",
    "    dx_Dz = x_Dz[2]-x_Dz[1]\n",
    "    z_Dz = @.(exp(x_Dz) - 1)\n",
    "    a_Dz = @.(1/(1+z_Dz))\n",
    "    aa = reverse(a_Dz)\n",
    "    e =  @.(sqrt.(abs(Ωm)*(1+z_Dz)^3+Ωr*(1+z_Dz)^4+(1-Ωm-Ωr)))\n",
    "    ee = reverse(e)\n",
    "\n",
    "    dd = zeros(typeof(Ωm), 300)\n",
    "    yy = zeros(typeof(Ωm), 300)\n",
    "    dd[1] = aa[1]\n",
    "    yy[1] = aa[1]^3*ee[end]\n",
    "\n",
    "    for i in 1:(300-1)\n",
    "        A0 = -1.5 * Ωm / (aa[i]*ee[i])\n",
    "        B0 = -1. / (aa[i]^2*ee[i])\n",
    "        A1 = -1.5 * Ωm / (aa[i+1]*ee[i+1])\n",
    "        B1 = -1. / (aa[i+1]^2*ee[i+1])\n",
    "        yy[i+1] = (1+0.5*dx_Dz^2*A0*B0)*yy[i] + 0.5*(A0+A1)*dx_Dz*dd[i]\n",
    "        dd[i+1] = 0.5*(B0+B1)*dx_Dz*yy[i] + (1+0.5*dx_Dz^2*A0*B0)*dd[i]\n",
    "    end\n",
    "\n",
    "    y = reverse(yy)\n",
    "    d = reverse(dd)\n",
    "\n",
    "    Dzi = LinearInterpolation(z_Dz, d./d[1], extrapolation_bc=Line())\n",
    "    fs8zi = LinearInterpolation(z_Dz, -σ8 .* y./ (a_Dz.^2 .*e.*d[1]),\n",
    "                                 extrapolation_bc=Line())\n",
    "    return fs8zi\n",
    "end"
   ]
  },
  {
   "cell_type": "code",
   "execution_count": 18,
   "id": "8005e277",
   "metadata": {},
   "outputs": [],
   "source": [
    "@model function model(data; cov = fs8_cov) \n",
    "    # Define priors\n",
    "    #KiDS priors\n",
    "    Ωm  ~ Uniform(0.01, 0.6)\n",
    "    σ8 ~ Normal(0.8, 0.3)\n",
    "    fs8_itp = make_fs8(Ωm, σ8)\n",
    "    theory = fs8_itp(fs8_zs)\n",
    "    data ~ MvNormal(theory, cov)\n",
    "end;"
   ]
  },
  {
   "cell_type": "code",
   "execution_count": 19,
   "id": "1eebe796",
   "metadata": {},
   "outputs": [
    {
     "data": {
      "text/plain": [
       "DynamicPPL.Model{typeof(model), (:data, :cov), (:cov,), (), Tuple{Vector{Float64}, Matrix{Float64}}, Tuple{Matrix{Float64}}, DynamicPPL.DefaultContext}(model, (data = [0.49749, 0.457523, 0.436148, 0.462, 0.413, 0.39, 0.437, 0.55, 0.4, 0.423, 0.482], cov = [0.00203355 0.000811829 … 0.0 0.0; 0.000811829 0.00142289 … 0.0 0.0; … ; 0.0 0.0 … 0.003025 0.0; 0.0 0.0 … 0.0 0.013456000000000001]), (cov = [0.00203355 0.000811829 … 0.0 0.0; 0.000811829 0.00142289 … 0.0 0.0; … ; 0.0 0.0 … 0.003025 0.0; 0.0 0.0 … 0.0 0.013456000000000001],), DynamicPPL.DefaultContext())"
      ]
     },
     "execution_count": 19,
     "metadata": {},
     "output_type": "execute_result"
    }
   ],
   "source": [
    "stat_model = model(fs8_data)"
   ]
  },
  {
   "cell_type": "markdown",
   "id": "10dfa4cc",
   "metadata": {},
   "source": [
    "## Sampling"
   ]
  },
  {
   "cell_type": "code",
   "execution_count": 28,
   "id": "c8ed14a3",
   "metadata": {},
   "outputs": [],
   "source": [
    "target = TuringTarget(stat_model);"
   ]
  },
  {
   "cell_type": "code",
   "execution_count": 29,
   "id": "82938e27",
   "metadata": {
    "scrolled": false
   },
   "outputs": [
    {
     "name": "stdout",
     "output_type": "stream",
     "text": [
      "Initial Virial loss: 39.63306067192312\n",
      "Virial loss: "
     ]
    },
    {
     "name": "stderr",
     "output_type": "stream",
     "text": [
      "\u001b[36m\u001b[1m[ \u001b[22m\u001b[39m\u001b[36m\u001b[1mInfo: \u001b[22m\u001b[39mUsing given sigma ✅\n",
      "\u001b[36m\u001b[1m[ \u001b[22m\u001b[39m\u001b[36m\u001b[1mInfo: \u001b[22m\u001b[39mTuning eps ⏳\n",
      "\u001b[36m\u001b[1m[ \u001b[22m\u001b[39m\u001b[36m\u001b[1mInfo: \u001b[22m\u001b[39mTuning L ⏳\n",
      "\u001b[36m\u001b[1m[ \u001b[22m\u001b[39m\u001b[36m\u001b[1mInfo: \u001b[22m\u001b[39mStarting burn in ⏳\n"
     ]
    },
    {
     "name": "stdout",
     "output_type": "stream",
     "text": [
      "11.207938132976949 --> Relative improvement: 0.7803152785803469\n",
      "Virial loss: 16.890917206638314 --> Relative improvement: 0.5070494685316311\n",
      "Virial loss: 23.377794486939422 --> Relative improvement: 0.38404529493233763\n",
      "Virial loss: 30.516413897651972 --> Relative improvement: 0.3053589770711995\n",
      "Virial loss: 37.15386195818659 --> Relative improvement: 0.21750419570254031\n",
      "Virial loss: 36.78417675646762 --> Relative improvement: 0.009950115068388166\n",
      "Using eps tuning method AdaptiveStep\n"
     ]
    },
    {
     "name": "stderr",
     "output_type": "stream",
     "text": [
      "\u001b[36m\u001b[1m[ \u001b[22m\u001b[39m\u001b[36m\u001b[1mInfo: \u001b[22m\u001b[39mVirial loss condition met during burn-in at step: 6\n"
     ]
    },
    {
     "name": "stdout",
     "output_type": "stream",
     "text": [
      "eps: 0.07 --> VarE/d: 3.205441141209311\n",
      "eps: 0.030390168030949644 --> VarE/d: 0.6030309060800092\n",
      "eps: 0.02113302219595307 --> VarE/d: 0.28923199763345886\n",
      "eps: 0.01713559345464571 --> VarE/d: 0.18747297128618595\n",
      "eps: 0.014887737299651729 --> VarE/d: 0.13946695775517323\n",
      "eps: 0.013430018688250864 --> VarE/d: 0.10284663956843702\n",
      "eps: 0.012428084409683638 --> VarE/d: 0.09036214117315033\n",
      "eps: 0.01166304206147998 --> VarE/d: 0.06984925886656594\n",
      "eps: 0.011093130908659389 --> VarE/d: 0.07622945202139125\n",
      "eps: 0.010586574029273474 --> VarE/d: 0.07272079496005845\n",
      "eps: 0.01015476395309992 --> VarE/d: 0.06367247335498419\n",
      "eps: 0.00979590568040169 --> VarE/d: 0.058584677414904425\n",
      "eps: 0.009487296848196578 --> VarE/d: 0.055196551091765474\n",
      "eps: 0.009216126668042527 --> VarE/d: 0.05044242482045851\n",
      "eps: 0.008980060520268387 --> VarE/d: 0.04651860896710041\n",
      "eps: 0.008772402036617798 --> VarE/d: 0.0471024073372897\n",
      "eps: 0.008578025785090074 --> VarE/d: 0.04344989717671878\n",
      "eps: 0.008405319239221878 --> VarE/d: 0.04136014887209007\n",
      "eps: 0.008248238681001933 --> VarE/d: 0.0378990066908224\n",
      "eps: 0.008108659741184068 --> VarE/d: 0.039975857059486225\n",
      "eps: 0.007971382272401507 --> VarE/d: 0.0380320739203451\n",
      "eps: 0.00784535683946746 --> VarE/d: 0.032879689730393166\n",
      "eps: 0.007737681243027877 --> VarE/d: 0.03396547496092672\n",
      "eps: 0.007631912818346884 --> VarE/d: 0.03155501548094935\n",
      "eps: 0.0075362993627085244 --> VarE/d: 0.032893977752024184\n",
      "eps: 0.0074411303433486575 --> VarE/d: 0.028678071493087685\n",
      "eps: 0.007359606445686956 --> VarE/d: 0.029812967212557478\n",
      "eps: 0.007278020740705999 --> VarE/d: 0.02583388297997488\n",
      "eps: 0.007209111747047061 --> VarE/d: 0.028767011380300352\n",
      "eps: 0.007134918933500989 --> VarE/d: 0.02478413579745198\n",
      "eps: 0.007072766928104124 --> VarE/d: 0.02900636610759735\n",
      "eps: 0.00700213270465879 --> VarE/d: 0.026962145753516097\n",
      "eps: 0.006937959626484542 --> VarE/d: 0.026821466257010828\n",
      "eps: 0.006875720997773631 --> VarE/d: 0.028464618256853747\n",
      "eps: 0.006811441491169689 --> VarE/d: 0.027985841346883523\n",
      "eps: 0.00674966327813924 --> VarE/d: 0.025069884213396183\n",
      "eps: 0.00669555945000355 --> VarE/d: 0.022195685011725023\n",
      "eps: 0.0066494594419764215 --> VarE/d: 0.022680310217659684\n",
      "eps: 0.0066030533230899855 --> VarE/d: 0.0222241929773086\n",
      "eps: 0.006558626561575671 --> VarE/d: 0.017876415186014374\n",
      "eps: 0.006526737328813019 --> VarE/d: 0.013360711323518017\n",
      "eps: 0.006511011716102196 --> VarE/d: 0.019455793253987455\n",
      "eps: 0.006475580218936801 --> VarE/d: 0.01569585664228903\n",
      "eps: 0.006451851198700756 --> VarE/d: 0.0150245131864957\n",
      "eps: 0.0064306909943317595 --> VarE/d: 0.015393060843227531\n",
      "eps: 0.0064085561937359935 --> VarE/d: 0.01128168779491555\n",
      "eps: 0.006402420802578829 --> VarE/d: 0.01848707052728849\n",
      "eps: 0.006371657526255876 --> VarE/d: 0.022904246968155486\n",
      "eps: 0.006330887692700784 --> VarE/d: 0.027551562115519006\n",
      "eps: 0.006281959731865401 --> VarE/d: 0.02667905084938278\n",
      "eps: 0.006235218592233726 --> VarE/d: 0.023817602097996177\n",
      "eps: 0.006194320292000537 --> VarE/d: 0.022070060639185683\n",
      "eps: 0.006157416299520971 --> VarE/d: 0.018904734189856515\n",
      "eps: 0.006127980601173793 --> VarE/d: 0.019473589849644382\n",
      "eps: 0.00609752117600796 --> VarE/d: 0.0177777494845771\n",
      "eps: 0.00607145511154193 --> VarE/d: 0.013716527418962817\n",
      "eps: 0.006057219659771175 --> VarE/d: 0.009144116647222946\n",
      "eps: 0.006061230222049674 --> VarE/d: 0.007342556817415043\n",
      "eps: 0.006075009136198532 --> VarE/d: 0.011306316350390085\n",
      "eps: 0.0060695495778922024 --> VarE/d: 0.015195717442762853\n",
      "eps: 0.006051106274816536 --> VarE/d: 0.020227770221583695\n",
      "eps: 0.006020448045791754 --> VarE/d: 0.019487941368513187\n",
      "eps: 0.005991651258148599 --> VarE/d: 0.020985678791761667\n",
      "eps: 0.005959987375384014 --> VarE/d: 0.01902163344398761\n",
      "eps: 0.005932707163744992 --> VarE/d: 0.016994311570071127\n",
      "eps: 0.0059103432612583355 --> VarE/d: 0.01387611840177942\n",
      "eps: 0.005896586765784385 --> VarE/d: 0.01568899748965756\n",
      "eps: 0.005877814936086193 --> VarE/d: 0.015445507749952531\n",
      "eps: 0.005859807091169772 --> VarE/d: 0.012305250161914732\n",
      "eps: 0.00585124392921772 --> VarE/d: 0.01536731505679496\n",
      "eps: 0.005833634888861515 --> VarE/d: 0.012941682732626511\n",
      "eps: 0.005823105568360263 --> VarE/d: 0.010581810235181349\n",
      "eps: 0.005820803537460039 --> VarE/d: 0.012990200711655896\n",
      "eps: 0.005810204242937317 --> VarE/d: 0.015433692398228466\n",
      "eps: 0.005792737334040991 --> VarE/d: 0.017688773921526995\n",
      "eps: 0.005769957569223524 --> VarE/d: 0.017563264866825717\n",
      "eps: 0.005747597598090664 --> VarE/d: 0.01583537465362689\n",
      "eps: 0.005729426637132894 --> VarE/d: 0.015403828968633466\n",
      "eps: 0.005712430653171008 --> VarE/d: 0.016462715327820423\n",
      "eps: 0.005692937755464118 --> VarE/d: 0.015848807435373664\n",
      "eps: 0.005675015744036124 --> VarE/d: 0.014868468465548101\n",
      "eps: 0.005659641368274053 --> VarE/d: 0.012123693460112996\n",
      "eps: 0.005652193770697842 --> VarE/d: 0.009395627511772852\n",
      "eps: 0.0056546003327006145 --> VarE/d: 0.01073863583971043\n",
      "eps: 0.005651854282797111 --> VarE/d: 0.009660544545371982\n"
     ]
    },
    {
     "name": "stderr",
     "output_type": "stream",
     "text": [
      "\u001b[36m\u001b[1m[ \u001b[22m\u001b[39m\u001b[36m\u001b[1mInfo: \u001b[22m\u001b[39mFound eps: 0.005651854282797111 ✅\n"
     ]
    },
    {
     "name": "stdout",
     "output_type": "stream",
     "text": [
      "samples: 100--> 1/<1/ess>: 0.016570786890202003\n",
      "samples: 203--> 1/<1/ess>: 0.00799870556382242\n",
      "samples: 310--> 1/<1/ess>: 0.004550600914339857\n",
      "samples: 420--> 1/<1/ess>: 0.00337100933019014\n",
      "samples: 534--> 1/<1/ess>: 0.0030093537194203048\n",
      "samples: 652--> 1/<1/ess>: 0.003250696220440207\n",
      "samples: 774--> 1/<1/ess>: 0.003492760890797783\n",
      "samples: 900--> 1/<1/ess>: 0.0038375975147395217\n",
      "samples: 1030--> 1/<1/ess>: 0.004167634639016512\n",
      "samples: 1164--> 1/<1/ess>: 0.0045688202797288646\n",
      "samples: 1302--> 1/<1/ess>: 0.004587397702791656\n",
      "samples: 1445--> 1/<1/ess>: 0.004555370353220112\n",
      "samples: 1593--> 1/<1/ess>: 0.00433617541527515\n",
      "samples: 1746--> 1/<1/ess>: 0.004222459048041107\n",
      "samples: 1904--> 1/<1/ess>: 0.004267652681598328\n",
      "samples: 2067--> 1/<1/ess>: 0.004244340932396429\n",
      "samples: 2235--> 1/<1/ess>: 0.004097707679511957\n",
      "samples: 2409--> 1/<1/ess>: 0.004071523202487775\n",
      "samples: 2589--> 1/<1/ess>: 0.004290253249509835\n"
     ]
    },
    {
     "name": "stderr",
     "output_type": "stream",
     "text": [
      "\u001b[36m\u001b[1m[ \u001b[22m\u001b[39m\u001b[36m\u001b[1mInfo: \u001b[22m\u001b[39mFound L: 0.5269483132207023 ✅\n"
     ]
    }
   ],
   "source": [
    "spl = MCHMC(0.0, 0.0; init_eps=0.07, varE_wanted=0.01, sigma=ones(2))\n",
    "samples_mchmc = Sample(spl, target, 100_000;\n",
    "                       burn_in=10_000,  \n",
    "                       file_name=\"Turing_sequential_samples\",\n",
    "                       dialog=true);"
   ]
  },
  {
   "cell_type": "code",
   "execution_count": 30,
   "id": "385a8b1a",
   "metadata": {},
   "outputs": [],
   "source": [
    "Wms_mchmc = [sample[1] for sample in samples_mchmc]\n",
    "s8s_mchmc = [sample[2] for sample in samples_mchmc];"
   ]
  },
  {
   "cell_type": "code",
   "execution_count": 31,
   "id": "2a803eb8",
   "metadata": {},
   "outputs": [
    {
     "data": {
      "image/png": "[encoded data removed]",
      "text/plain": [
       "Figure(PyObject <Figure size 640x480 with 1 Axes>)"
      ]
     },
     "metadata": {},
     "output_type": "display_data"
    }
   ],
   "source": [
    "plt.hist2d(Wms_mchmc, s8s_mchmc, bins=100, range=[[0.1, 0.6],[0.6, 1.2]]);\n",
    "plt.xlabel(\"Wm\")\n",
    "plt.ylabel(\"s8\")\n",
    "plt.title(\"MCHMC - RSD model\");"
   ]
  },
  {
   "cell_type": "code",
   "execution_count": 38,
   "id": "ae097bf4",
   "metadata": {
    "scrolled": false
   },
   "outputs": [
    {
     "name": "stdout",
     "output_type": "stream",
     "text": [
      "Initial Virial loss: 4744.227858152637\n",
      "Virial loss: 42.7586477383604 --> Relative improvement: 0.3792150317759553\n",
      "Sigma --> [1.2722974784738743, 0.2372932134857158]\n",
      "Virial loss: 39.2515324516098 --> Relative improvement: 0.08202119272364727\n",
      "Sigma --> [1.2557892797224894, 0.22102714969293222]\n",
      "Virial loss: 37.052471325484106 --> Relative improvement: 0.05602484766261662\n",
      "Sigma --> [1.2436445392012587, 0.21045321691862828]\n",
      "Virial loss: 34.9991698805144 --> Relative improvement: 0.055416045718858054\n",
      "Sigma --> [1.2333547802262945, 0.20226861085372114]\n",
      "Virial loss: 32.3640649218634 --> Relative improvement: 0.07529049882174721\n",
      "Sigma --> [1.2242264998960666, 0.19533491336946482]\n",
      "Virial loss: 29.757548523084758 --> Relative improvement: 0.08053736157900937\n",
      "Sigma --> [1.2157514113682168, 0.1891920861719633]\n",
      "Virial loss: 27.09748787014015 --> Relative improvement: 0.08939112208389866\n",
      "Sigma --> [1.2072361450877536, 0.18362740419556725]\n",
      "Virial loss: 24.642467214605006 --> Relative improvement: 0.09059956654655188\n",
      "Sigma --> [1.1986402004356955, 0.1785085211967763]\n",
      "Virial loss: 23.097510840105976 --> Relative improvement: 0.06269487389571815\n",
      "Sigma --> [1.1898000800653403, 0.17379123427411033]\n",
      "Virial loss: 21.878108154707054 --> Relative improvement: 0.05279368386664329\n",
      "Sigma --> [1.1807746255528264, 0.16940769045919624]\n",
      "Virial loss: 21.86675567646142 --> Relative improvement: 0.0005188967055723692\n",
      "Sigma --> [1.1711941149565837, 0.16533407002968975]\n",
      "Using eps tuning method AdaptiveStep\n",
      "eps: 0.07 --> VarE/d: 2.0420897569338394\n",
      "eps: 0.044485309604476796 --> VarE/d: 0.719511539029652\n",
      "eps: 0.037712189021867765 --> VarE/d: 0.47330029749985114\n",
      "eps: 0.034461436939877625 --> VarE/d: 0.36308315334055685\n",
      "eps: 0.032533397866803246 --> VarE/d: 0.3062105866049544\n",
      "eps: 0.031231219657315 --> VarE/d: 0.2656127900407865\n",
      "eps: 0.030298339393090814 --> VarE/d: 0.22937084417331466\n",
      "eps: 0.029623145161432628 --> VarE/d: 0.20811368587844997\n",
      "eps: 0.029102296698626302 --> VarE/d: 0.18122441762720903\n",
      "eps: 0.02872526519280005 --> VarE/d: 0.161854792622895\n"
     ]
    },
    {
     "name": "stderr",
     "output_type": "stream",
     "text": [
      "\u001b[36m\u001b[1m[ \u001b[22m\u001b[39m\u001b[36m\u001b[1mInfo: \u001b[22m\u001b[39mTuning sigma ⏳\n",
      "\u001b[36m\u001b[1m[ \u001b[22m\u001b[39m\u001b[36m\u001b[1mInfo: \u001b[22m\u001b[39mTuning eps ⏳\n",
      "\u001b[36m\u001b[1m[ \u001b[22m\u001b[39m\u001b[36m\u001b[1mInfo: \u001b[22m\u001b[39mTuning L ⏳\n",
      "\u001b[36m\u001b[1m[ \u001b[22m\u001b[39m\u001b[36m\u001b[1mInfo: \u001b[22m\u001b[39mStarting burn in ⏳\n",
      "\u001b[36m\u001b[1m[ \u001b[22m\u001b[39m\u001b[36m\u001b[1mInfo: \u001b[22m\u001b[39mVirial loss condition met during burn-in at step: 11\n",
      "\u001b[36m\u001b[1m[ \u001b[22m\u001b[39m\u001b[36m\u001b[1mInfo: \u001b[22m\u001b[39mFound sigma: [1.1711941149565837, 0.16533407002968975] ✅\n"
     ]
    },
    {
     "name": "stdout",
     "output_type": "stream",
     "text": [
      "eps: 0.028448483176316323 --> VarE/d: 0.15047438873037625\n",
      "eps: 0.02823298993510771 --> VarE/d: 0.1427111352485883\n",
      "eps: 0.028059212529818363 --> VarE/d: 0.13082632738310213\n",
      "eps: 0.027936493561429195 --> VarE/d: 0.11759380574326754\n",
      "eps: 0.02786677693803468 --> VarE/d: 0.10871031297669238\n",
      "eps: 0.02783272307463728 --> VarE/d: 0.0969983439067346\n",
      "samples: 100--> 1/<1/ess>: 70.9598128093146\n"
     ]
    },
    {
     "name": "stderr",
     "output_type": "stream",
     "text": [
      "\u001b[36m\u001b[1m[ \u001b[22m\u001b[39m\u001b[36m\u001b[1mInfo: \u001b[22m\u001b[39mFound eps: 0.02783272307463728 ✅\n",
      "\u001b[36m\u001b[1m[ \u001b[22m\u001b[39m\u001b[36m\u001b[1mInfo: \u001b[22m\u001b[39mFound L: 0.00015689287765981136 ✅\n"
     ]
    }
   ],
   "source": [
    "spl = MCHMC(0.0, 0.0, 10; init_eps=0.07, varE_wanted=0.1)\n",
    "samples_ensemble_mchmc = Sample(spl, target, 10000;\n",
    "                                burn_in=1000,\n",
    "                                monitor_energy=true, \n",
    "                                dialog=true);"
   ]
  },
  {
   "cell_type": "code",
   "execution_count": 39,
   "id": "197541d7",
   "metadata": {},
   "outputs": [],
   "source": [
    "Wms_ensemble_mchmc = [sample[1] for sample in samples_ensemble_mchmc]\n",
    "s8s_ensemble_mchmc = [sample[2] for sample in samples_ensemble_mchmc];"
   ]
  },
  {
   "cell_type": "code",
   "execution_count": 40,
   "id": "654b0195",
   "metadata": {},
   "outputs": [
    {
     "data": {
      "image/png": "[encoded data removed]",
      "text/plain": [
       "Figure(PyObject <Figure size 640x480 with 1 Axes>)"
      ]
     },
     "metadata": {},
     "output_type": "display_data"
    }
   ],
   "source": [
    "plt.hist2d(Wms_ensemble_mchmc, s8s_ensemble_mchmc, bins=100, range=[[0.1, 0.6],[0.6, 1.2]]);\n",
    "plt.xlabel(\"Wm\")\n",
    "plt.ylabel(\"s8\")\n",
    "plt.title(\"Ensemble MCHMC - RSD model\");"
   ]
  },
  {
   "cell_type": "markdown",
   "id": "b9b6311f",
   "metadata": {},
   "source": [
    "##  AbstractMCMC"
   ]
  },
  {
   "cell_type": "code",
   "execution_count": 27,
   "id": "d569b9dc",
   "metadata": {},
   "outputs": [
    {
     "name": "stderr",
     "output_type": "stream",
     "text": [
      "\u001b[36m\u001b[1m[ \u001b[22m\u001b[39m\u001b[36m\u001b[1mInfo: \u001b[22m\u001b[39mTuning sigma ⏳\n",
      "\u001b[36m\u001b[1m[ \u001b[22m\u001b[39m\u001b[36m\u001b[1mInfo: \u001b[22m\u001b[39mTuning eps ⏳\n",
      "\u001b[36m\u001b[1m[ \u001b[22m\u001b[39m\u001b[36m\u001b[1mInfo: \u001b[22m\u001b[39mTuning L ⏳\n"
     ]
    },
    {
     "ename": "LoadError",
     "evalue": "UndefVarError: `tune_sigma!` not defined",
     "output_type": "error",
     "traceback": [
      "UndefVarError: `tune_sigma!` not defined",
      "",
      "Stacktrace:",
      " [1] tune_hyperparameters(sampler::MicroCanonicalHMC.Sampler, target::TuringTarget, init::Tuple{Vector{Float64}, Vector{Float64}, Float64, Vector{Float64}, Float64}; burn_in::Int64, kwargs::Base.Pairs{Symbol, Bool, Tuple{Symbol}, NamedTuple{(:dialog,), Tuple{Bool}}})",
      "   @ MicroCanonicalHMC ~/Glamdring/MicroCanonicalHMC.jl/src/tuning.jl:276",
      " [2] sample(model::DynamicPPL.Model{typeof(model), (:data, :cov), (:cov,), (), Tuple{Vector{Float64}, Matrix{Float64}}, Tuple{Matrix{Float64}}, DynamicPPL.DefaultContext}, sampler::MicroCanonicalHMC.Sampler, N::Int64; resume_from::Nothing, kwargs::Base.Pairs{Symbol, Bool, Tuple{Symbol}, NamedTuple{(:dialog,), Tuple{Bool}}})",
      "   @ MicroCanonicalHMC ~/Glamdring/MicroCanonicalHMC.jl/src/abstractmcmc.jl:18",
      " [3] top-level scope",
      "   @ In[27]:1"
     ]
    }
   ],
   "source": [
    "samples = sample(\n",
    "    stat_model, MCHMC(varE_wanted=2.0), 10000;\n",
    "    dialog=true)"
   ]
  },
  {
   "cell_type": "code",
   "execution_count": 16,
   "id": "eea6e813",
   "metadata": {},
   "outputs": [
    {
     "name": "stderr",
     "output_type": "stream",
     "text": [
      "\u001b[36m\u001b[1m[ \u001b[22m\u001b[39m\u001b[36m\u001b[1mInfo: \u001b[22m\u001b[39mStarting from previous run\n"
     ]
    },
    {
     "ename": "LoadError",
     "evalue": "type Array has no field info",
     "output_type": "error",
     "traceback": [
      "type Array has no field info",
      "",
      "Stacktrace:",
      " [1] getproperty",
      "   @ ./Base.jl:37 [inlined]",
      " [2] sample(model::DynamicPPL.Model{typeof(model), (:data, :cov), (:cov,), (), Tuple{Vector{Float64}, Matrix{Float64}}, Tuple{Matrix{Float64}}, DynamicPPL.DefaultContext}, sampler::MicroCanonicalHMC.Sampler, N::Int64; resume_from::Vector{Any}, kwargs::Base.Pairs{Symbol, Bool, Tuple{Symbol, Symbol}, NamedTuple{(:monitor_energy, :progress), Tuple{Bool, Bool}}})",
      "   @ MicroCanonicalHMC ~/Glamdring/MicroCanonicalHMC.jl/src/abstractmcmc.jl:21",
      " [3] top-level scope",
      "   @ In[16]:1"
     ]
    }
   ],
   "source": [
    "new_samples = sample(stat_model, MCHMC(varE_wanted=2.0), 10000; \n",
    "                     monitor_energy=true, \n",
    "                     progress=true, resume_from=samples)"
   ]
  },
  {
   "cell_type": "markdown",
   "id": "f7fdb382",
   "metadata": {},
   "source": [
    "## Ensemble AbstractMCMC"
   ]
  },
  {
   "cell_type": "code",
   "execution_count": 16,
   "id": "16856966",
   "metadata": {
    "scrolled": false
   },
   "outputs": [
    {
     "name": "stderr",
     "output_type": "stream",
     "text": [
      "\u001b[36m\u001b[1m[ \u001b[22m\u001b[39m\u001b[36m\u001b[1mInfo: \u001b[22m\u001b[39mBurn-in started ⏳\n",
      "\u001b[36m\u001b[1m[ \u001b[22m\u001b[39m\u001b[36m\u001b[1mInfo: \u001b[22m\u001b[39mTuning sigma ⏳\n",
      "\u001b[36m\u001b[1m[ \u001b[22m\u001b[39m\u001b[36m\u001b[1mInfo: \u001b[22m\u001b[39mTuning eps ⏳\n",
      "\u001b[36m\u001b[1m[ \u001b[22m\u001b[39m\u001b[36m\u001b[1mInfo: \u001b[22m\u001b[39mTuning L ⏳\n",
      "\u001b[33m\u001b[1m┌ \u001b[22m\u001b[39m\u001b[33m\u001b[1mWarning: \u001b[22m\u001b[39mL-tuning not Implemented\n",
      "\u001b[33m\u001b[1m└ \u001b[22m\u001b[39m\u001b[90m@ MicroCanonicalHMC ~/PhD/MicroCanonicalHMC.jl/src/ensemble/tuning.jl:41\u001b[39m\n",
      "\u001b[36m\u001b[1m[ \u001b[22m\u001b[39m\u001b[36m\u001b[1mInfo: \u001b[22m\u001b[39mFound L: 1.4142135623730951 ✅\n",
      "\u001b[36m\u001b[1m[ \u001b[22m\u001b[39m\u001b[36m\u001b[1mInfo: \u001b[22m\u001b[39mVarE condition met during eps tuning at step: 13\n",
      "\u001b[36m\u001b[1m[ \u001b[22m\u001b[39m\u001b[36m\u001b[1mInfo: \u001b[22m\u001b[39mFound eps: 0.008664620420202015 ✅\n",
      "\u001b[36m\u001b[1m[ \u001b[22m\u001b[39m\u001b[36m\u001b[1mInfo: \u001b[22m\u001b[39mVirial loss condition met during burn-in at step: 2\n",
      "\u001b[36m\u001b[1m[ \u001b[22m\u001b[39m\u001b[36m\u001b[1mInfo: \u001b[22m\u001b[39mFound sigma: [1.620616898256196, 0.2532292543539198] ✅\n",
      "\u001b[33m\u001b[1m┌ \u001b[22m\u001b[39m\u001b[33m\u001b[1mWarning: \u001b[22m\u001b[39mMaximum number of steps reached during eps tuning\n",
      "\u001b[33m\u001b[1m└ \u001b[22m\u001b[39m\u001b[90m@ MicroCanonicalHMC ~/PhD/MicroCanonicalHMC.jl/src/ensemble/tuning.jl:214\u001b[39m\n",
      "\u001b[36m\u001b[1m[ \u001b[22m\u001b[39m\u001b[36m\u001b[1mInfo: \u001b[22m\u001b[39mFound eps: 0.0043824511407622386 ✅\n",
      "\u001b[32mChain 1: 100%|██████████████████████████████████████████| Time: 0:00:04\u001b[39m\n"
     ]
    },
    {
     "data": {
      "text/plain": [
       "Chains MCMC chain (100000×4×1 Array{Float64, 3}):\n",
       "\n",
       "Iterations        = 1:1:100000\n",
       "Number of chains  = 1\n",
       "Samples per chain = 100000\n",
       "Wall duration     = 6.0 seconds\n",
       "Compute duration  = 6.0 seconds\n",
       "parameters        = Ωm, σ8\n",
       "internals         = E, logp\n",
       "\n",
       "Summary Statistics\n",
       " \u001b[1m parameters \u001b[0m \u001b[1m    mean \u001b[0m \u001b[1m     std \u001b[0m \u001b[1m naive_se \u001b[0m \u001b[1m    mcse \u001b[0m \u001b[1m      ess \u001b[0m \u001b[1m    rhat \u001b[0m \u001b[1m e\u001b[0m ⋯\n",
       " \u001b[90m     Symbol \u001b[0m \u001b[90m Float64 \u001b[0m \u001b[90m Float64 \u001b[0m \u001b[90m  Float64 \u001b[0m \u001b[90m Float64 \u001b[0m \u001b[90m  Float64 \u001b[0m \u001b[90m Float64 \u001b[0m \u001b[90m  \u001b[0m ⋯\n",
       "\n",
       "          Ωm    0.2901    0.1673     0.0005    0.0088   233.6325    1.0001     ⋯\n",
       "          σ8    0.7617    0.2533     0.0008    0.0133   232.2530    1.0074     ⋯\n",
       "\u001b[36m                                                                1 column omitted\u001b[0m\n",
       "\n",
       "Quantiles\n",
       " \u001b[1m parameters \u001b[0m \u001b[1m    2.5% \u001b[0m \u001b[1m   25.0% \u001b[0m \u001b[1m   50.0% \u001b[0m \u001b[1m   75.0% \u001b[0m \u001b[1m   97.5% \u001b[0m\n",
       " \u001b[90m     Symbol \u001b[0m \u001b[90m Float64 \u001b[0m \u001b[90m Float64 \u001b[0m \u001b[90m Float64 \u001b[0m \u001b[90m Float64 \u001b[0m \u001b[90m Float64 \u001b[0m\n",
       "\n",
       "          Ωm    0.0259    0.1396    0.2759    0.4387    0.5603\n",
       "          σ8    0.3356    0.5914    0.7780    0.9295    1.2868\n"
      ]
     },
     "execution_count": 16,
     "metadata": {},
     "output_type": "execute_result"
    }
   ],
   "source": [
    "samples = sample(stat_model, MCHMC(100), 1000, 100)"
   ]
  },
  {
   "cell_type": "code",
   "execution_count": 17,
   "id": "603dfac8",
   "metadata": {},
   "outputs": [
    {
     "name": "stderr",
     "output_type": "stream",
     "text": [
      "\u001b[36m\u001b[1m[ \u001b[22m\u001b[39m\u001b[36m\u001b[1mInfo: \u001b[22m\u001b[39mStarting from previous run\n",
      "\u001b[32mChain 1: 100%|██████████████████████████████████████████| Time: 0:00:03\u001b[39m\n"
     ]
    },
    {
     "data": {
      "text/plain": [
       "Chains MCMC chain (100000×4×1 Array{Float64, 3}):\n",
       "\n",
       "Iterations        = 1:1:100000\n",
       "Number of chains  = 1\n",
       "Samples per chain = 100000\n",
       "Wall duration     = 3.38 seconds\n",
       "Compute duration  = 3.38 seconds\n",
       "parameters        = Ωm, σ8\n",
       "internals         = E, logp\n",
       "\n",
       "Summary Statistics\n",
       " \u001b[1m parameters \u001b[0m \u001b[1m    mean \u001b[0m \u001b[1m     std \u001b[0m \u001b[1m naive_se \u001b[0m \u001b[1m    mcse \u001b[0m \u001b[1m      ess \u001b[0m \u001b[1m    rhat \u001b[0m \u001b[1m e\u001b[0m ⋯\n",
       " \u001b[90m     Symbol \u001b[0m \u001b[90m Float64 \u001b[0m \u001b[90m Float64 \u001b[0m \u001b[90m  Float64 \u001b[0m \u001b[90m Float64 \u001b[0m \u001b[90m  Float64 \u001b[0m \u001b[90m Float64 \u001b[0m \u001b[90m  \u001b[0m ⋯\n",
       "\n",
       "          Ωm    0.2404    0.0736     0.0002    0.0040   224.4534    1.0585     ⋯\n",
       "          σ8    0.8627    0.0653     0.0002    0.0035   226.0813    1.0283     ⋯\n",
       "\u001b[36m                                                                1 column omitted\u001b[0m\n",
       "\n",
       "Quantiles\n",
       " \u001b[1m parameters \u001b[0m \u001b[1m    2.5% \u001b[0m \u001b[1m   25.0% \u001b[0m \u001b[1m   50.0% \u001b[0m \u001b[1m   75.0% \u001b[0m \u001b[1m   97.5% \u001b[0m\n",
       " \u001b[90m     Symbol \u001b[0m \u001b[90m Float64 \u001b[0m \u001b[90m Float64 \u001b[0m \u001b[90m Float64 \u001b[0m \u001b[90m Float64 \u001b[0m \u001b[90m Float64 \u001b[0m\n",
       "\n",
       "          Ωm    0.1345    0.1857    0.2350    0.2774    0.4314\n",
       "          σ8    0.7524    0.8142    0.8569    0.9029    0.9855\n"
      ]
     },
     "execution_count": 17,
     "metadata": {},
     "output_type": "execute_result"
    }
   ],
   "source": [
    "new_samples = sample(stat_model, MCHMC(100), 1000, 100; \n",
    "                     resume_from=samples)"
   ]
  },
  {
   "cell_type": "markdown",
   "id": "767048c5",
   "metadata": {
    "heading_collapsed": true
   },
   "source": [
    "## Parallelization"
   ]
  },
  {
   "cell_type": "code",
   "execution_count": 18,
   "id": "42cf1f7f",
   "metadata": {
    "hidden": true,
    "scrolled": false
   },
   "outputs": [
    {
     "name": "stderr",
     "output_type": "stream",
     "text": [
      "\u001b[36m\u001b[1m[ \u001b[22m\u001b[39m\u001b[36m\u001b[1mInfo: \u001b[22m\u001b[39mnumber of chains: 4 smaller than number of threads: 10. Increase the number of chains to make full use of your threads.\n",
      "\u001b[36m\u001b[1m[ \u001b[22m\u001b[39m\u001b[36m\u001b[1mInfo: \u001b[22m\u001b[39mTuning sigma ⏳\n",
      "\u001b[36m\u001b[1m[ \u001b[22m\u001b[39m\u001b[36m\u001b[1mInfo: \u001b[22m\u001b[39mTuning sigma ⏳\n",
      "\u001b[36m\u001b[1m[ \u001b[22m\u001b[39m\u001b[36m\u001b[1mInfo: \u001b[22m\u001b[39mTuning sigma ⏳\n",
      "\u001b[36m\u001b[1m[ \u001b[22m\u001b[39m\u001b[36m\u001b[1mInfo: \u001b[22m\u001b[39mTuning sigma ⏳\n",
      "\u001b[36m\u001b[1m[ \u001b[22m\u001b[39m\u001b[36m\u001b[1mInfo: \u001b[22m\u001b[39mTuning eps ⏳\n",
      "\u001b[36m\u001b[1m[ \u001b[22m\u001b[39m\u001b[36m\u001b[1mInfo: \u001b[22m\u001b[39mTuning eps ⏳\n",
      "\u001b[36m\u001b[1m[ \u001b[22m\u001b[39m\u001b[36m\u001b[1mInfo: \u001b[22m\u001b[39mTuning eps ⏳\n",
      "\u001b[36m\u001b[1m[ \u001b[22m\u001b[39m\u001b[36m\u001b[1mInfo: \u001b[22m\u001b[39mTuning L ⏳\n",
      "\u001b[36m\u001b[1m[ \u001b[22m\u001b[39m\u001b[36m\u001b[1mInfo: \u001b[22m\u001b[39mTuning L ⏳\n",
      "\u001b[36m\u001b[1m[ \u001b[22m\u001b[39m\u001b[36m\u001b[1mInfo: \u001b[22m\u001b[39mTuning L ⏳\n",
      "\u001b[36m\u001b[1m[ \u001b[22m\u001b[39m\u001b[36m\u001b[1mInfo: \u001b[22m\u001b[39mTuning eps ⏳\n",
      "\u001b[36m\u001b[1m[ \u001b[22m\u001b[39m\u001b[36m\u001b[1mInfo: \u001b[22m\u001b[39mTuning L ⏳\n"
     ]
    },
    {
     "ename": "LoadError",
     "evalue": "TaskFailedException\n\n\u001b[91m    nested task error: \u001b[39mDomainError with -0.33934227649544785:\n    sqrt will only return a complex result if called with a complex argument. Try sqrt(Complex(x)).\n    Stacktrace:\n      [1] \u001b[0m\u001b[1mthrow_complex_domainerror\u001b[22m\u001b[0m\u001b[1m(\u001b[22m\u001b[90mf\u001b[39m::\u001b[0mSymbol, \u001b[90mx\u001b[39m::\u001b[0mFloat64\u001b[0m\u001b[1m)\u001b[22m\n    \u001b[90m    @\u001b[39m \u001b[90mBase.Math\u001b[39m \u001b[90m./\u001b[39m\u001b[90m\u001b[4mmath.jl:33\u001b[24m\u001b[39m\n      [2] \u001b[0m\u001b[1msqrt\u001b[22m\n    \u001b[90m    @\u001b[39m \u001b[90m./\u001b[39m\u001b[90m\u001b[4mmath.jl:677\u001b[24m\u001b[39m\u001b[90m [inlined]\u001b[39m\n      [3] \u001b[0m\u001b[1m_broadcast_getindex_evalf\u001b[22m\n    \u001b[90m    @\u001b[39m \u001b[90m./\u001b[39m\u001b[90m\u001b[4mbroadcast.jl:683\u001b[24m\u001b[39m\u001b[90m [inlined]\u001b[39m\n      [4] \u001b[0m\u001b[1m_broadcast_getindex\u001b[22m\n    \u001b[90m    @\u001b[39m \u001b[90m./\u001b[39m\u001b[90m\u001b[4mbroadcast.jl:656\u001b[24m\u001b[39m\u001b[90m [inlined]\u001b[39m\n      [5] \u001b[0m\u001b[1mgetindex\u001b[22m\n    \u001b[90m    @\u001b[39m \u001b[90m./\u001b[39m\u001b[90m\u001b[4mbroadcast.jl:610\u001b[24m\u001b[39m\u001b[90m [inlined]\u001b[39m\n      [6] \u001b[0m\u001b[1mmacro expansion\u001b[22m\n    \u001b[90m    @\u001b[39m \u001b[90m./\u001b[39m\u001b[90m\u001b[4mbroadcast.jl:974\u001b[24m\u001b[39m\u001b[90m [inlined]\u001b[39m\n      [7] \u001b[0m\u001b[1mmacro expansion\u001b[22m\n    \u001b[90m    @\u001b[39m \u001b[90m./\u001b[39m\u001b[90m\u001b[4msimdloop.jl:77\u001b[24m\u001b[39m\u001b[90m [inlined]\u001b[39m\n      [8] \u001b[0m\u001b[1mcopyto!\u001b[22m\n    \u001b[90m    @\u001b[39m \u001b[90m./\u001b[39m\u001b[90m\u001b[4mbroadcast.jl:973\u001b[24m\u001b[39m\u001b[90m [inlined]\u001b[39m\n      [9] \u001b[0m\u001b[1mcopyto!\u001b[22m\n    \u001b[90m    @\u001b[39m \u001b[90m./\u001b[39m\u001b[90m\u001b[4mbroadcast.jl:926\u001b[24m\u001b[39m\u001b[90m [inlined]\u001b[39m\n     [10] \u001b[0m\u001b[1mcopy\u001b[22m\n    \u001b[90m    @\u001b[39m \u001b[90m./\u001b[39m\u001b[90m\u001b[4mbroadcast.jl:898\u001b[24m\u001b[39m\u001b[90m [inlined]\u001b[39m\n     [11] \u001b[0m\u001b[1mmaterialize\u001b[22m\u001b[0m\u001b[1m(\u001b[22m\u001b[90mbc\u001b[39m::\u001b[0mBase.Broadcast.Broadcasted\u001b[90m{Base.Broadcast.DefaultArrayStyle{1}, Nothing, typeof(sqrt), Tuple{Vector{Float64}}}\u001b[39m\u001b[0m\u001b[1m)\u001b[22m\n    \u001b[90m    @\u001b[39m \u001b[90mBase.Broadcast\u001b[39m \u001b[90m./\u001b[39m\u001b[90m\u001b[4mbroadcast.jl:873\u001b[24m\u001b[39m\n     [12] \u001b[0m\u001b[1mtune_sigma!\u001b[22m\u001b[0m\u001b[1m(\u001b[22m\u001b[90msampler\u001b[39m::\u001b[0mMicroCanonicalHMC.Sampler, \u001b[90mtarget\u001b[39m::\u001b[0mTuringTarget; \u001b[90mkwargs\u001b[39m::\u001b[0mBase.Pairs\u001b[90m{Symbol, Bool, Tuple{Symbol, Symbol}, NamedTuple{(:monitor_energy, :dialog), Tuple{Bool, Bool}}}\u001b[39m\u001b[0m\u001b[1m)\u001b[22m\n    \u001b[90m    @\u001b[39m \u001b[35mMicroCanonicalHMC\u001b[39m \u001b[90m~/PhD/MicroCanonicalHMC.jl/src/\u001b[39m\u001b[90m\u001b[4mtuning.jl:89\u001b[24m\u001b[39m\n     [13] \u001b[0m\u001b[1mtune_sigma!\u001b[22m\n    \u001b[90m    @\u001b[39m \u001b[90m~/PhD/MicroCanonicalHMC.jl/src/\u001b[39m\u001b[90m\u001b[4mtuning.jl:83\u001b[24m\u001b[39m\u001b[90m [inlined]\u001b[39m\n     [14] \u001b[0m\u001b[1mtune_hyperparameters\u001b[22m\u001b[0m\u001b[1m(\u001b[22m\u001b[90msampler\u001b[39m::\u001b[0mMicroCanonicalHMC.Sampler, \u001b[90mtarget\u001b[39m::\u001b[0mTuringTarget, \u001b[90minit\u001b[39m::\u001b[0mTuple\u001b[90m{Vector{Float64}, Vector{Float64}, Float64, Vector{Float64}, Float64}\u001b[39m; \u001b[90mkwargs\u001b[39m::\u001b[0mBase.Pairs\u001b[90m{Symbol, Bool, Tuple{Symbol, Symbol}, NamedTuple{(:monitor_energy, :dialog), Tuple{Bool, Bool}}}\u001b[39m\u001b[0m\u001b[1m)\u001b[22m\n    \u001b[90m    @\u001b[39m \u001b[35mMicroCanonicalHMC\u001b[39m \u001b[90m~/PhD/MicroCanonicalHMC.jl/src/\u001b[39m\u001b[90m\u001b[4mtuning.jl:155\u001b[24m\u001b[39m\n     [15] \u001b[0m\u001b[1mmacro expansion\u001b[22m\n    \u001b[90m    @\u001b[39m \u001b[90m~/PhD/MicroCanonicalHMC.jl/src/\u001b[39m\u001b[90m\u001b[4mabstractmcmc.jl:220\u001b[24m\u001b[39m\u001b[90m [inlined]\u001b[39m\n     [16] \u001b[0m\u001b[1m(::MicroCanonicalHMC.var\"#902#threadsfor_fun#95\"{MicroCanonicalHMC.var\"#902#threadsfor_fun#84#96\"{Base.Pairs{Symbol, Bool, Tuple{Symbol, Symbol}, NamedTuple{(:monitor_energy, :dialog), Tuple{Bool, Bool}}}, UnitRange{Int64}}})\u001b[22m\u001b[0m\u001b[1m(\u001b[22m\u001b[90mtid\u001b[39m::\u001b[0mInt64; \u001b[90monethread\u001b[39m::\u001b[0mBool\u001b[0m\u001b[1m)\u001b[22m\n    \u001b[90m    @\u001b[39m \u001b[35mMicroCanonicalHMC\u001b[39m \u001b[90m./\u001b[39m\u001b[90m\u001b[4mthreadingconstructs.jl:139\u001b[24m\u001b[39m\n     [17] \u001b[0m\u001b[1m#902#threadsfor_fun\u001b[22m\n    \u001b[90m    @\u001b[39m \u001b[90m./\u001b[39m\u001b[90m\u001b[4mthreadingconstructs.jl:106\u001b[24m\u001b[39m\u001b[90m [inlined]\u001b[39m\n     [18] \u001b[0m\u001b[1m(::Base.Threads.var\"#1#2\"{MicroCanonicalHMC.var\"#902#threadsfor_fun#95\"{MicroCanonicalHMC.var\"#902#threadsfor_fun#84#96\"{Base.Pairs{Symbol, Bool, Tuple{Symbol, Symbol}, NamedTuple{(:monitor_energy, :dialog), Tuple{Bool, Bool}}}, UnitRange{Int64}}}, Int64})\u001b[22m\u001b[0m\u001b[1m(\u001b[22m\u001b[0m\u001b[1m)\u001b[22m\n    \u001b[90m    @\u001b[39m \u001b[90mBase.Threads\u001b[39m \u001b[90m./\u001b[39m\u001b[90m\u001b[4mthreadingconstructs.jl:84\u001b[24m\u001b[39m\n\n...and 3 more exceptions.\n",
     "output_type": "error",
     "traceback": [
      "TaskFailedException\n\n\u001b[91m    nested task error: \u001b[39mDomainError with -0.33934227649544785:\n    sqrt will only return a complex result if called with a complex argument. Try sqrt(Complex(x)).\n    Stacktrace:\n      [1] \u001b[0m\u001b[1mthrow_complex_domainerror\u001b[22m\u001b[0m\u001b[1m(\u001b[22m\u001b[90mf\u001b[39m::\u001b[0mSymbol, \u001b[90mx\u001b[39m::\u001b[0mFloat64\u001b[0m\u001b[1m)\u001b[22m\n    \u001b[90m    @\u001b[39m \u001b[90mBase.Math\u001b[39m \u001b[90m./\u001b[39m\u001b[90m\u001b[4mmath.jl:33\u001b[24m\u001b[39m\n      [2] \u001b[0m\u001b[1msqrt\u001b[22m\n    \u001b[90m    @\u001b[39m \u001b[90m./\u001b[39m\u001b[90m\u001b[4mmath.jl:677\u001b[24m\u001b[39m\u001b[90m [inlined]\u001b[39m\n      [3] \u001b[0m\u001b[1m_broadcast_getindex_evalf\u001b[22m\n    \u001b[90m    @\u001b[39m \u001b[90m./\u001b[39m\u001b[90m\u001b[4mbroadcast.jl:683\u001b[24m\u001b[39m\u001b[90m [inlined]\u001b[39m\n      [4] \u001b[0m\u001b[1m_broadcast_getindex\u001b[22m\n    \u001b[90m    @\u001b[39m \u001b[90m./\u001b[39m\u001b[90m\u001b[4mbroadcast.jl:656\u001b[24m\u001b[39m\u001b[90m [inlined]\u001b[39m\n      [5] \u001b[0m\u001b[1mgetindex\u001b[22m\n    \u001b[90m    @\u001b[39m \u001b[90m./\u001b[39m\u001b[90m\u001b[4mbroadcast.jl:610\u001b[24m\u001b[39m\u001b[90m [inlined]\u001b[39m\n      [6] \u001b[0m\u001b[1mmacro expansion\u001b[22m\n    \u001b[90m    @\u001b[39m \u001b[90m./\u001b[39m\u001b[90m\u001b[4mbroadcast.jl:974\u001b[24m\u001b[39m\u001b[90m [inlined]\u001b[39m\n      [7] \u001b[0m\u001b[1mmacro expansion\u001b[22m\n    \u001b[90m    @\u001b[39m \u001b[90m./\u001b[39m\u001b[90m\u001b[4msimdloop.jl:77\u001b[24m\u001b[39m\u001b[90m [inlined]\u001b[39m\n      [8] \u001b[0m\u001b[1mcopyto!\u001b[22m\n    \u001b[90m    @\u001b[39m \u001b[90m./\u001b[39m\u001b[90m\u001b[4mbroadcast.jl:973\u001b[24m\u001b[39m\u001b[90m [inlined]\u001b[39m\n      [9] \u001b[0m\u001b[1mcopyto!\u001b[22m\n    \u001b[90m    @\u001b[39m \u001b[90m./\u001b[39m\u001b[90m\u001b[4mbroadcast.jl:926\u001b[24m\u001b[39m\u001b[90m [inlined]\u001b[39m\n     [10] \u001b[0m\u001b[1mcopy\u001b[22m\n    \u001b[90m    @\u001b[39m \u001b[90m./\u001b[39m\u001b[90m\u001b[4mbroadcast.jl:898\u001b[24m\u001b[39m\u001b[90m [inlined]\u001b[39m\n     [11] \u001b[0m\u001b[1mmaterialize\u001b[22m\u001b[0m\u001b[1m(\u001b[22m\u001b[90mbc\u001b[39m::\u001b[0mBase.Broadcast.Broadcasted\u001b[90m{Base.Broadcast.DefaultArrayStyle{1}, Nothing, typeof(sqrt), Tuple{Vector{Float64}}}\u001b[39m\u001b[0m\u001b[1m)\u001b[22m\n    \u001b[90m    @\u001b[39m \u001b[90mBase.Broadcast\u001b[39m \u001b[90m./\u001b[39m\u001b[90m\u001b[4mbroadcast.jl:873\u001b[24m\u001b[39m\n     [12] \u001b[0m\u001b[1mtune_sigma!\u001b[22m\u001b[0m\u001b[1m(\u001b[22m\u001b[90msampler\u001b[39m::\u001b[0mMicroCanonicalHMC.Sampler, \u001b[90mtarget\u001b[39m::\u001b[0mTuringTarget; \u001b[90mkwargs\u001b[39m::\u001b[0mBase.Pairs\u001b[90m{Symbol, Bool, Tuple{Symbol, Symbol}, NamedTuple{(:monitor_energy, :dialog), Tuple{Bool, Bool}}}\u001b[39m\u001b[0m\u001b[1m)\u001b[22m\n    \u001b[90m    @\u001b[39m \u001b[35mMicroCanonicalHMC\u001b[39m \u001b[90m~/PhD/MicroCanonicalHMC.jl/src/\u001b[39m\u001b[90m\u001b[4mtuning.jl:89\u001b[24m\u001b[39m\n     [13] \u001b[0m\u001b[1mtune_sigma!\u001b[22m\n    \u001b[90m    @\u001b[39m \u001b[90m~/PhD/MicroCanonicalHMC.jl/src/\u001b[39m\u001b[90m\u001b[4mtuning.jl:83\u001b[24m\u001b[39m\u001b[90m [inlined]\u001b[39m\n     [14] \u001b[0m\u001b[1mtune_hyperparameters\u001b[22m\u001b[0m\u001b[1m(\u001b[22m\u001b[90msampler\u001b[39m::\u001b[0mMicroCanonicalHMC.Sampler, \u001b[90mtarget\u001b[39m::\u001b[0mTuringTarget, \u001b[90minit\u001b[39m::\u001b[0mTuple\u001b[90m{Vector{Float64}, Vector{Float64}, Float64, Vector{Float64}, Float64}\u001b[39m; \u001b[90mkwargs\u001b[39m::\u001b[0mBase.Pairs\u001b[90m{Symbol, Bool, Tuple{Symbol, Symbol}, NamedTuple{(:monitor_energy, :dialog), Tuple{Bool, Bool}}}\u001b[39m\u001b[0m\u001b[1m)\u001b[22m\n    \u001b[90m    @\u001b[39m \u001b[35mMicroCanonicalHMC\u001b[39m \u001b[90m~/PhD/MicroCanonicalHMC.jl/src/\u001b[39m\u001b[90m\u001b[4mtuning.jl:155\u001b[24m\u001b[39m\n     [15] \u001b[0m\u001b[1mmacro expansion\u001b[22m\n    \u001b[90m    @\u001b[39m \u001b[90m~/PhD/MicroCanonicalHMC.jl/src/\u001b[39m\u001b[90m\u001b[4mabstractmcmc.jl:220\u001b[24m\u001b[39m\u001b[90m [inlined]\u001b[39m\n     [16] \u001b[0m\u001b[1m(::MicroCanonicalHMC.var\"#902#threadsfor_fun#95\"{MicroCanonicalHMC.var\"#902#threadsfor_fun#84#96\"{Base.Pairs{Symbol, Bool, Tuple{Symbol, Symbol}, NamedTuple{(:monitor_energy, :dialog), Tuple{Bool, Bool}}}, UnitRange{Int64}}})\u001b[22m\u001b[0m\u001b[1m(\u001b[22m\u001b[90mtid\u001b[39m::\u001b[0mInt64; \u001b[90monethread\u001b[39m::\u001b[0mBool\u001b[0m\u001b[1m)\u001b[22m\n    \u001b[90m    @\u001b[39m \u001b[35mMicroCanonicalHMC\u001b[39m \u001b[90m./\u001b[39m\u001b[90m\u001b[4mthreadingconstructs.jl:139\u001b[24m\u001b[39m\n     [17] \u001b[0m\u001b[1m#902#threadsfor_fun\u001b[22m\n    \u001b[90m    @\u001b[39m \u001b[90m./\u001b[39m\u001b[90m\u001b[4mthreadingconstructs.jl:106\u001b[24m\u001b[39m\u001b[90m [inlined]\u001b[39m\n     [18] \u001b[0m\u001b[1m(::Base.Threads.var\"#1#2\"{MicroCanonicalHMC.var\"#902#threadsfor_fun#95\"{MicroCanonicalHMC.var\"#902#threadsfor_fun#84#96\"{Base.Pairs{Symbol, Bool, Tuple{Symbol, Symbol}, NamedTuple{(:monitor_energy, :dialog), Tuple{Bool, Bool}}}, UnitRange{Int64}}}, Int64})\u001b[22m\u001b[0m\u001b[1m(\u001b[22m\u001b[0m\u001b[1m)\u001b[22m\n    \u001b[90m    @\u001b[39m \u001b[90mBase.Threads\u001b[39m \u001b[90m./\u001b[39m\u001b[90m\u001b[4mthreadingconstructs.jl:84\u001b[24m\u001b[39m\n\n...and 3 more exceptions.\n",
      "",
      "Stacktrace:",
      " [1] threading_run(fun::MicroCanonicalHMC.var\"#902#threadsfor_fun#95\"{MicroCanonicalHMC.var\"#902#threadsfor_fun#84#96\"{Base.Pairs{Symbol, Bool, Tuple{Symbol, Symbol}, NamedTuple{(:monitor_energy, :dialog), Tuple{Bool, Bool}}}, UnitRange{Int64}}}, static::Bool)",
      "   @ Base.Threads ./threadingconstructs.jl:96",
      " [2] macro expansion",
      "   @ ./threadingconstructs.jl:144 [inlined]",
      " [3] sample(model::DynamicPPL.Model{typeof(model), (:data, :cov), (:cov,), (), Tuple{Vector{Float64}, Matrix{Float64}}, Tuple{Matrix{Float64}}, DynamicPPL.DefaultContext}, sampler::MicroCanonicalHMC.Sampler, ::MCMCThreads, N::Int64, nchains::Int64; progress::Bool, progressname::String, resume_from::Nothing, kwargs::Base.Pairs{Symbol, Bool, Tuple{Symbol, Symbol}, NamedTuple{(:monitor_energy, :dialog), Tuple{Bool, Bool}}})",
      "   @ MicroCanonicalHMC ~/PhD/MicroCanonicalHMC.jl/src/abstractmcmc.jl:215",
      " [4] top-level scope",
      "   @ In[18]:1"
     ]
    }
   ],
   "source": [
    "samples = sample(\n",
    "    stat_model, MCHMC(varE_wanted=2.0), MCMCThreads(), 30000, 4;\n",
    "    monitor_energy=true, \n",
    "    dialog=true)"
   ]
  },
  {
   "cell_type": "code",
   "execution_count": 19,
   "id": "2e8cd8ab",
   "metadata": {
    "hidden": true,
    "scrolled": false
   },
   "outputs": [
    {
     "name": "stderr",
     "output_type": "stream",
     "text": [
      "\u001b[36m\u001b[1m[ \u001b[22m\u001b[39m\u001b[36m\u001b[1mInfo: \u001b[22m\u001b[39mStarting from previous run\n"
     ]
    },
    {
     "ename": "LoadError",
     "evalue": "MethodError: no method matching iterate(::Chains{Float64, AxisArrays.AxisArray{Float64, 3, Array{Float64, 3}, Tuple{AxisArrays.Axis{:iter, StepRange{Int64, Int64}}, AxisArrays.Axis{:var, Vector{Symbol}}, AxisArrays.Axis{:chain, UnitRange{Int64}}}}, Missing, NamedTuple{(:parameters, :internals), Tuple{Vector{Symbol}, Vector{Symbol}}}, NamedTuple{(:target, :sampler, :init, :start_time, :stop_time), Tuple{ParallelTarget, MicroCanonicalHMC.EnsembleSampler, Tuple{Tuple{Matrix{Float64}, Matrix{Float64}, Vector{Real}, Matrix{Real}, Vector{Float64}}, Tuple{Matrix{Real}, Vector{Float64}, Vector{Float64}}}, Float64, Float64}}})\n\n\u001b[0mClosest candidates are:\n\u001b[0m  iterate(\u001b[91m::Union{LinRange, StepRangeLen}\u001b[39m)\n\u001b[0m\u001b[90m   @\u001b[39m \u001b[90mBase\u001b[39m \u001b[90m\u001b[4mrange.jl:880\u001b[24m\u001b[39m\n\u001b[0m  iterate(\u001b[91m::Union{LinRange, StepRangeLen}\u001b[39m, \u001b[91m::Integer\u001b[39m)\n\u001b[0m\u001b[90m   @\u001b[39m \u001b[90mBase\u001b[39m \u001b[90m\u001b[4mrange.jl:880\u001b[24m\u001b[39m\n\u001b[0m  iterate(\u001b[91m::T\u001b[39m) where T<:Union{Base.KeySet{<:Any, <:Dict}, Base.ValueIterator{<:Dict}}\n\u001b[0m\u001b[90m   @\u001b[39m \u001b[90mBase\u001b[39m \u001b[90m\u001b[4mdict.jl:698\u001b[24m\u001b[39m\n\u001b[0m  ...\n",
     "output_type": "error",
     "traceback": [
      "MethodError: no method matching iterate(::Chains{Float64, AxisArrays.AxisArray{Float64, 3, Array{Float64, 3}, Tuple{AxisArrays.Axis{:iter, StepRange{Int64, Int64}}, AxisArrays.Axis{:var, Vector{Symbol}}, AxisArrays.Axis{:chain, UnitRange{Int64}}}}, Missing, NamedTuple{(:parameters, :internals), Tuple{Vector{Symbol}, Vector{Symbol}}}, NamedTuple{(:target, :sampler, :init, :start_time, :stop_time), Tuple{ParallelTarget, MicroCanonicalHMC.EnsembleSampler, Tuple{Tuple{Matrix{Float64}, Matrix{Float64}, Vector{Real}, Matrix{Real}, Vector{Float64}}, Tuple{Matrix{Real}, Vector{Float64}, Vector{Float64}}}, Float64, Float64}}})\n\n\u001b[0mClosest candidates are:\n\u001b[0m  iterate(\u001b[91m::Union{LinRange, StepRangeLen}\u001b[39m)\n\u001b[0m\u001b[90m   @\u001b[39m \u001b[90mBase\u001b[39m \u001b[90m\u001b[4mrange.jl:880\u001b[24m\u001b[39m\n\u001b[0m  iterate(\u001b[91m::Union{LinRange, StepRangeLen}\u001b[39m, \u001b[91m::Integer\u001b[39m)\n\u001b[0m\u001b[90m   @\u001b[39m \u001b[90mBase\u001b[39m \u001b[90m\u001b[4mrange.jl:880\u001b[24m\u001b[39m\n\u001b[0m  iterate(\u001b[91m::T\u001b[39m) where T<:Union{Base.KeySet{<:Any, <:Dict}, Base.ValueIterator{<:Dict}}\n\u001b[0m\u001b[90m   @\u001b[39m \u001b[90mBase\u001b[39m \u001b[90m\u001b[4mdict.jl:698\u001b[24m\u001b[39m\n\u001b[0m  ...\n",
      "",
      "Stacktrace:",
      " [1] iterate",
      "   @ ./generator.jl:44 [inlined]",
      " [2] collect(itr::Base.Generator{Chains{Float64, AxisArrays.AxisArray{Float64, 3, Array{Float64, 3}, Tuple{AxisArrays.Axis{:iter, StepRange{Int64, Int64}}, AxisArrays.Axis{:var, Vector{Symbol}}, AxisArrays.Axis{:chain, UnitRange{Int64}}}}, Missing, NamedTuple{(:parameters, :internals), Tuple{Vector{Symbol}, Vector{Symbol}}}, NamedTuple{(:target, :sampler, :init, :start_time, :stop_time), Tuple{ParallelTarget, MicroCanonicalHMC.EnsembleSampler, Tuple{Tuple{Matrix{Float64}, Matrix{Float64}, Vector{Real}, Matrix{Real}, Vector{Float64}}, Tuple{Matrix{Real}, Vector{Float64}, Vector{Float64}}}, Float64, Float64}}}, MicroCanonicalHMC.var\"#85#97\"})",
      "   @ Base ./array.jl:782",
      " [3] sample(model::DynamicPPL.Model{typeof(model), (:data, :cov), (:cov,), (), Tuple{Vector{Float64}, Matrix{Float64}}, Tuple{Matrix{Float64}}, DynamicPPL.DefaultContext}, sampler::MicroCanonicalHMC.Sampler, ::MCMCThreads, N::Int64, nchains::Int64; progress::Bool, progressname::String, resume_from::Chains{Float64, AxisArrays.AxisArray{Float64, 3, Array{Float64, 3}, Tuple{AxisArrays.Axis{:iter, StepRange{Int64, Int64}}, AxisArrays.Axis{:var, Vector{Symbol}}, AxisArrays.Axis{:chain, UnitRange{Int64}}}}, Missing, NamedTuple{(:parameters, :internals), Tuple{Vector{Symbol}, Vector{Symbol}}}, NamedTuple{(:target, :sampler, :init, :start_time, :stop_time), Tuple{ParallelTarget, MicroCanonicalHMC.EnsembleSampler, Tuple{Tuple{Matrix{Float64}, Matrix{Float64}, Vector{Real}, Matrix{Real}, Vector{Float64}}, Tuple{Matrix{Real}, Vector{Float64}, Vector{Float64}}}, Float64, Float64}}}, kwargs::Base.Pairs{Symbol, Bool, Tuple{Symbol, Symbol}, NamedTuple{(:monitor_energy, :dialog), Tuple{Bool, Bool}}})",
      "   @ MicroCanonicalHMC ~/PhD/MicroCanonicalHMC.jl/src/abstractmcmc.jl:228",
      " [4] top-level scope",
      "   @ In[19]:1"
     ]
    }
   ],
   "source": [
    "new_samples = sample(\n",
    "    stat_model, MCHMC(varE_wanted=2.0), MCMCThreads(), 30000, 4;\n",
    "    monitor_energy=true, \n",
    "    dialog=true, \n",
    "    resume_from=samples)"
   ]
  },
  {
   "cell_type": "markdown",
   "id": "4aadd3b5",
   "metadata": {},
   "source": [
    "## NUTS"
   ]
  },
  {
   "cell_type": "code",
   "execution_count": 28,
   "id": "ad75a7ff",
   "metadata": {},
   "outputs": [
    {
     "data": {
      "text/plain": [
       "Array{Float64, 3}"
      ]
     },
     "execution_count": 28,
     "metadata": {},
     "output_type": "execute_result"
    }
   ],
   "source": [
    "typeof(zeros(2,2,2))"
   ]
  },
  {
   "cell_type": "code",
   "execution_count": 20,
   "id": "dcbe40a3",
   "metadata": {},
   "outputs": [
    {
     "name": "stderr",
     "output_type": "stream",
     "text": [
      "\u001b[36m\u001b[1m┌ \u001b[22m\u001b[39m\u001b[36m\u001b[1mInfo: \u001b[22m\u001b[39mFound initial step size\n",
      "\u001b[36m\u001b[1m└ \u001b[22m\u001b[39m  ϵ = 0.05\n",
      "\u001b[32mSampling: 100%|█████████████████████████████████████████| Time: 0:00:07\u001b[39m\n"
     ]
    },
    {
     "data": {
      "text/plain": [
       "Chains MCMC chain (10000×14×1 Array{Float64, 3}):\n",
       "\n",
       "Iterations        = 11:1:10010\n",
       "Number of chains  = 1\n",
       "Samples per chain = 10000\n",
       "Wall duration     = 11.66 seconds\n",
       "Compute duration  = 11.66 seconds\n",
       "parameters        = Ωm, σ8\n",
       "internals         = lp, n_steps, is_accept, acceptance_rate, log_density, hamiltonian_energy, hamiltonian_energy_error, max_hamiltonian_energy_error, tree_depth, numerical_error, step_size, nom_step_size\n",
       "\n",
       "Summary Statistics\n",
       " \u001b[1m parameters \u001b[0m \u001b[1m    mean \u001b[0m \u001b[1m     std \u001b[0m \u001b[1m naive_se \u001b[0m \u001b[1m    mcse \u001b[0m \u001b[1m       ess \u001b[0m \u001b[1m    rhat \u001b[0m \u001b[1m \u001b[0m ⋯\n",
       " \u001b[90m     Symbol \u001b[0m \u001b[90m Float64 \u001b[0m \u001b[90m Float64 \u001b[0m \u001b[90m  Float64 \u001b[0m \u001b[90m Float64 \u001b[0m \u001b[90m   Float64 \u001b[0m \u001b[90m Float64 \u001b[0m \u001b[90m \u001b[0m ⋯\n",
       "\n",
       "          Ωm    0.2403    0.0683     0.0007    0.0017   1405.0343    1.0006    ⋯\n",
       "          σ8    0.8637    0.0619     0.0006    0.0012   2356.8676    1.0002    ⋯\n",
       "\u001b[36m                                                                1 column omitted\u001b[0m\n",
       "\n",
       "Quantiles\n",
       " \u001b[1m parameters \u001b[0m \u001b[1m    2.5% \u001b[0m \u001b[1m   25.0% \u001b[0m \u001b[1m   50.0% \u001b[0m \u001b[1m   75.0% \u001b[0m \u001b[1m   97.5% \u001b[0m\n",
       " \u001b[90m     Symbol \u001b[0m \u001b[90m Float64 \u001b[0m \u001b[90m Float64 \u001b[0m \u001b[90m Float64 \u001b[0m \u001b[90m Float64 \u001b[0m \u001b[90m Float64 \u001b[0m\n",
       "\n",
       "          Ωm    0.1333    0.1894    0.2317    0.2809    0.3915\n",
       "          σ8    0.7530    0.8194    0.8603    0.9035    0.9947\n"
      ]
     },
     "execution_count": 20,
     "metadata": {},
     "output_type": "execute_result"
    }
   ],
   "source": [
    "samples_hmc = sample(stat_model, NUTS(10, 0.65),\n",
    "                     10000, progress=true; save_state=true)"
   ]
  },
  {
   "cell_type": "code",
   "execution_count": 21,
   "id": "623ba990",
   "metadata": {},
   "outputs": [
    {
     "data": {
      "text/plain": [
       "3-dimensional AxisArray{Float64,3,...} with axes:\n",
       "    :iter, 11:1:10010\n",
       "    :var, [:Ωm, :σ8, :lp, :n_steps, :is_accept, :acceptance_rate, :log_density, :hamiltonian_energy, :hamiltonian_energy_error, :max_hamiltonian_energy_error, :tree_depth, :numerical_error, :step_size, :nom_step_size]\n",
       "    :chain, 1:1\n",
       "And data, a 10000×14×1 Array{Float64, 3}:\n",
       "[:, :, 1] =\n",
       " 0.195289  0.931189  15.6471   7.0  1.0  …  2.0  0.0  0.0471045  0.0471045\n",
       " 0.194965  0.891184  16.194    3.0  1.0     1.0  0.0  0.0471045  0.0471045\n",
       " 0.20792   0.883536  16.2748  15.0  1.0     3.0  0.0  0.0471045  0.0471045\n",
       " 0.252361  0.838644  16.1968  31.0  1.0     4.0  0.0  0.0471045  0.0471045\n",
       " 0.251986  0.825046  16.0557   1.0  1.0     1.0  0.0  0.0471045  0.0471045\n",
       " 0.24801   0.831916  16.1395   3.0  1.0  …  2.0  0.0  0.0471045  0.0471045\n",
       " 0.195668  0.864144  15.9732  21.0  1.0     4.0  0.0  0.0471045  0.0471045\n",
       " 0.264617  0.863147  15.8853  19.0  1.0     4.0  0.0  0.0471045  0.0471045\n",
       " 0.272399  0.787847  15.258    7.0  1.0     2.0  0.0  0.0471045  0.0471045\n",
       " 0.177485  0.831818  14.0719  23.0  1.0     4.0  0.0  0.0471045  0.0471045\n",
       " 0.180171  0.853985  15.1452   3.0  1.0  …  2.0  0.0  0.0471045  0.0471045\n",
       " 0.171713  0.970758  14.8959   7.0  1.0     2.0  0.0  0.0471045  0.0471045\n",
       " 0.309617  0.861916  14.6632  21.0  1.0     4.0  0.0  0.0471045  0.0471045\n",
       " ⋮                                       ⋱  ⋮                    \n",
       " 0.322923  0.793806  15.3018  15.0  1.0     3.0  0.0  0.0471045  0.0471045\n",
       " 0.31189   0.76655   14.6991   7.0  1.0     2.0  0.0  0.0471045  0.0471045\n",
       " 0.379489  0.75144   13.8479  31.0  1.0  …  4.0  0.0  0.0471045  0.0471045\n",
       " 0.38042   0.765048  14.1431   3.0  1.0     2.0  0.0  0.0471045  0.0471045\n",
       " 0.382154  0.757197  13.9635   3.0  1.0     1.0  0.0  0.0471045  0.0471045\n",
       " 0.376954  0.767477  14.2347  31.0  1.0     5.0  0.0  0.0471045  0.0471045\n",
       " 0.364653  0.814261  14.3859   7.0  1.0     2.0  0.0  0.0471045  0.0471045\n",
       " 0.1349    0.971494  14.6712  23.0  1.0  …  4.0  0.0  0.0471045  0.0471045\n",
       " 0.15293   0.990051  14.6072   7.0  1.0     2.0  0.0  0.0471045  0.0471045\n",
       " 0.16133   0.890763  15.2044  15.0  1.0     4.0  0.0  0.0471045  0.0471045\n",
       " 0.150458  0.9728    15.0322   7.0  1.0     2.0  0.0  0.0471045  0.0471045\n",
       " 0.152418  0.995637  14.4361   3.0  1.0     1.0  0.0  0.0471045  0.0471045"
      ]
     },
     "execution_count": 21,
     "metadata": {},
     "output_type": "execute_result"
    }
   ],
   "source": [
    "samples_hmc.value"
   ]
  },
  {
   "cell_type": "code",
   "execution_count": 22,
   "id": "fa9db828",
   "metadata": {},
   "outputs": [],
   "source": [
    "Wms_hmc = vec(samples_hmc[\"Ωm\"])\n",
    "s8s_hmc = vec(samples_hmc[\"σ8\"]);"
   ]
  },
  {
   "cell_type": "code",
   "execution_count": 23,
   "id": "3d063a52",
   "metadata": {},
   "outputs": [
    {
     "data": {
      "image/png": "[encoded data removed]",
      "text/plain": [
       "Figure(PyObject <Figure size 640x480 with 1 Axes>)"
      ]
     },
     "metadata": {},
     "output_type": "display_data"
    }
   ],
   "source": [
    "plt.hist2d(Wms_hmc, s8s_hmc, bins=100, range=[[0.1, 0.6],[0.6, 1.2]]);\n",
    "plt.xlabel(\"Wm\")\n",
    "plt.ylabel(\"s8\")\n",
    "plt.title(\"NUTS - RSD model\");"
   ]
  },
  {
   "cell_type": "code",
   "execution_count": null,
   "id": "e2f1bc9f",
   "metadata": {},
   "outputs": [],
   "source": []
  }
 ],
 "metadata": {
  "kernelspec": {
   "display_name": "Julia-1.9.0 10 Threads 1.9.0-rc1",
   "language": "julia",
   "name": "julia-1.9.0-10-threads-1.9"
  },
  "language_info": {
   "file_extension": ".jl",
   "mimetype": "application/julia",
   "name": "julia",
   "version": "1.9.0"
  }
 },
 "nbformat": 4,
 "nbformat_minor": 5
}
