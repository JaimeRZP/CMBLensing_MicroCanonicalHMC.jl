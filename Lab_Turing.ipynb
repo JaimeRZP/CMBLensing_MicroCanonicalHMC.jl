{
 "cells": [
  {
   "cell_type": "markdown",
   "id": "91129cb1",
   "metadata": {},
   "source": [
    "# Turing Target Practice"
   ]
  },
  {
   "cell_type": "markdown",
   "id": "97121235",
   "metadata": {},
   "source": [
    "## Model"
   ]
  },
  {
   "cell_type": "code",
   "execution_count": 1,
   "id": "86b96c9e",
   "metadata": {},
   "outputs": [
    {
     "name": "stderr",
     "output_type": "stream",
     "text": [
      "\u001b[32m\u001b[1m  Activating\u001b[22m\u001b[39m project at `~/PhD/MCHMC.jl`\n"
     ]
    }
   ],
   "source": [
    "] activate \".\""
   ]
  },
  {
   "cell_type": "code",
   "execution_count": 17,
   "id": "baed58e3",
   "metadata": {},
   "outputs": [
    {
     "name": "stderr",
     "output_type": "stream",
     "text": [
      "\u001b[36m\u001b[1m[ \u001b[22m\u001b[39m\u001b[36m\u001b[1mInfo: \u001b[22m\u001b[39mPrecompiling MCHMC [92da4d09-9da0-4f8a-8b31-da41ef0ab6ee]\n"
     ]
    }
   ],
   "source": [
    "# The statistical inference frame-work we will use\n",
    "using Turing\n",
    "using ForwardDiff\n",
    "using LinearAlgebra\n",
    "using PyPlot\n",
    "\n",
    "using Revise\n",
    "using MCHMC"
   ]
  },
  {
   "cell_type": "code",
   "execution_count": 18,
   "id": "a7d6f81c",
   "metadata": {},
   "outputs": [],
   "source": [
    "fs8_zs = [0.38, 0.51, 0.61, 1.48, 0.44, 0.6, 0.73, 0.6, 0.86, 0.067, 1.4]\n",
    "fs8_data = [0.49749, 0.457523, 0.436148, 0.462, 0.413, 0.39, 0.437, 0.55, 0.4, 0.423, 0.482]\n",
    "fs8_cov = [0.00203355 0.000811829 0.000264615 0.0 0.0 0.0 0.0 0.0 0.0 0.0 0.0;\n",
    "           0.000811829 0.00142289 0.000662824 0.0 0.0 0.0 0.0 0.0 0.0 0.0 0.0; \n",
    "           0.000264615 0.000662824 0.00118576 0.0 0.0 0.0 0.0 0.0 0.0 0.0 0.0;\n",
    "           0.0 0.0 0.0 0.002025 0.0 0.0 0.0 0.0 0.0 0.0 0.0;\n",
    "           0.0 0.0 0.0 0.0 0.0064 0.00257 0.0 0.0 0.0 0.0 0.0;\n",
    "           0.0 0.0 0.0 0.0 0.00257 0.003969 0.00254 0.0 0.0 0.0 0.0;\n",
    "           0.0 0.0 0.0 0.0 0.0 0.00254 0.005184 0.0 0.0 0.0 0.0;\n",
    "           0.0 0.0 0.0 0.0 0.0 0.0 0.0 0.0144 0.0 0.0 0.0;\n",
    "           0.0 0.0 0.0 0.0 0.0 0.0 0.0 0.0 0.0121 0.0 0.0; \n",
    "           0.0 0.0 0.0 0.0 0.0 0.0 0.0 0.0 0.0 0.003025 0.0;\n",
    "           0.0 0.0 0.0 0.0 0.0 0.0 0.0 0.0 0.0 0.0 0.013456000000000001];"
   ]
  },
  {
   "cell_type": "code",
   "execution_count": 19,
   "id": "1359a630",
   "metadata": {
    "code_folding": []
   },
   "outputs": [
    {
     "data": {
      "text/plain": [
       "make_fs8 (generic function with 1 method)"
      ]
     },
     "execution_count": 19,
     "metadata": {},
     "output_type": "execute_result"
    }
   ],
   "source": [
    "function make_fs8(Ωm, σ8; Ωr=8.24*10^-5)\n",
    "    # ODE solution for growth factor\n",
    "    x_Dz = LinRange(0, log(1+1100), 300)\n",
    "    dx_Dz = x_Dz[2]-x_Dz[1]\n",
    "    z_Dz = @.(exp(x_Dz) - 1)\n",
    "    a_Dz = @.(1/(1+z_Dz))\n",
    "    aa = reverse(a_Dz)\n",
    "    e =  @.(sqrt.(abs(Ωm)*(1+z_Dz)^3+Ωr*(1+z_Dz)^4+(1-Ωm-Ωr)))\n",
    "    ee = reverse(e)\n",
    "\n",
    "    dd = zeros(typeof(Ωm), 300)\n",
    "    yy = zeros(typeof(Ωm), 300)\n",
    "    dd[1] = aa[1]\n",
    "    yy[1] = aa[1]^3*ee[end]\n",
    "\n",
    "    for i in 1:(300-1)\n",
    "        A0 = -1.5 * Ωm / (aa[i]*ee[i])\n",
    "        B0 = -1. / (aa[i]^2*ee[i])\n",
    "        A1 = -1.5 * Ωm / (aa[i+1]*ee[i+1])\n",
    "        B1 = -1. / (aa[i+1]^2*ee[i+1])\n",
    "        yy[i+1] = (1+0.5*dx_Dz^2*A0*B0)*yy[i] + 0.5*(A0+A1)*dx_Dz*dd[i]\n",
    "        dd[i+1] = 0.5*(B0+B1)*dx_Dz*yy[i] + (1+0.5*dx_Dz^2*A0*B0)*dd[i]\n",
    "    end\n",
    "\n",
    "    y = reverse(yy)\n",
    "    d = reverse(dd)\n",
    "\n",
    "    Dzi = LinearInterpolation(z_Dz, d./d[1], extrapolation_bc=Line())\n",
    "    fs8zi = LinearInterpolation(z_Dz, -σ8 .* y./ (a_Dz.^2 .*e.*d[1]),\n",
    "                                 extrapolation_bc=Line())\n",
    "    return fs8zi\n",
    "end"
   ]
  },
  {
   "cell_type": "code",
   "execution_count": 20,
   "id": "8005e277",
   "metadata": {},
   "outputs": [],
   "source": [
    "@model function model(data; cov = fs8_cov) \n",
    "    # Define priors\n",
    "    #KiDS priors\n",
    "    Ωm ~ Normal(0.3, 0.1)\n",
    "    σ8 ~ Normal(0.8, 0.3)\n",
    "    fs8_itp = make_fs8(Ωm, σ8)\n",
    "    theory = fs8_itp(fs8_zs)\n",
    "    data ~ MvNormal(theory, cov)\n",
    "end;"
   ]
  },
  {
   "cell_type": "code",
   "execution_count": 21,
   "id": "1eebe796",
   "metadata": {},
   "outputs": [
    {
     "data": {
      "text/plain": [
       "DynamicPPL.Model{typeof(model), (:data, :cov), (:cov,), (), Tuple{Vector{Float64}, Matrix{Float64}}, Tuple{Matrix{Float64}}, DynamicPPL.DefaultContext}(model, (data = [0.49749, 0.457523, 0.436148, 0.462, 0.413, 0.39, 0.437, 0.55, 0.4, 0.423, 0.482], cov = [0.00203355 0.000811829 … 0.0 0.0; 0.000811829 0.00142289 … 0.0 0.0; … ; 0.0 0.0 … 0.003025 0.0; 0.0 0.0 … 0.0 0.013456000000000001]), (cov = [0.00203355 0.000811829 … 0.0 0.0; 0.000811829 0.00142289 … 0.0 0.0; … ; 0.0 0.0 … 0.003025 0.0; 0.0 0.0 … 0.0 0.013456000000000001],), DynamicPPL.DefaultContext())"
      ]
     },
     "execution_count": 21,
     "metadata": {},
     "output_type": "execute_result"
    }
   ],
   "source": [
    "stat_model = model(fs8_data)"
   ]
  },
  {
   "cell_type": "markdown",
   "id": "10dfa4cc",
   "metadata": {},
   "source": [
    "## Sampling"
   ]
  },
  {
   "cell_type": "code",
   "execution_count": 34,
   "id": "c8ed14a3",
   "metadata": {},
   "outputs": [
    {
     "ename": "LoadError",
     "evalue": "UndefVarError: `Line` not defined",
     "output_type": "error",
     "traceback": [
      "UndefVarError: `Line` not defined",
      "",
      "Stacktrace:",
      "  [1] make_fs8(Ωm::Float64, σ8::Float64; Ωr::Float64)",
      "    @ Main ./In[29]:28",
      "  [2] make_fs8(Ωm::Float64, σ8::Float64)",
      "    @ Main ./In[29]:1",
      "  [3] model(__model__::DynamicPPL.Model{typeof(model), (:data, :cov), (:cov,), (), Tuple{Vector{Float64}, Matrix{Float64}}, Tuple{Matrix{Float64}}, DynamicPPL.DefaultContext}, __varinfo__::DynamicPPL.UntypedVarInfo{DynamicPPL.Metadata{Dict{AbstractPPL.VarName, Int64}, Vector{Distribution}, Vector{AbstractPPL.VarName}, Vector{Real}, Vector{Set{DynamicPPL.Selector}}}, Float64}, __context__::DynamicPPL.SamplingContext{DynamicPPL.SampleFromPrior, DynamicPPL.DefaultContext, Random._GLOBAL_RNG}, data::Vector{Float64}, cov::Matrix{Float64})",
      "    @ Main ./In[30]:6",
      "  [4] macro expansion",
      "    @ ~/.julia/packages/DynamicPPL/UFajj/src/model.jl:593 [inlined]",
      "  [5] _evaluate!!",
      "    @ ~/.julia/packages/DynamicPPL/UFajj/src/model.jl:576 [inlined]",
      "  [6] evaluate_threadunsafe!!",
      "    @ ~/.julia/packages/DynamicPPL/UFajj/src/model.jl:551 [inlined]",
      "  [7] evaluate!!",
      "    @ ~/.julia/packages/DynamicPPL/UFajj/src/model.jl:504 [inlined]",
      "  [8] evaluate!!(model::DynamicPPL.Model{typeof(model), (:data, :cov), (:cov,), (), Tuple{Vector{Float64}, Matrix{Float64}}, Tuple{Matrix{Float64}}, DynamicPPL.DefaultContext}, rng::Random._GLOBAL_RNG, varinfo::DynamicPPL.UntypedVarInfo{DynamicPPL.Metadata{Dict{AbstractPPL.VarName, Int64}, Vector{Distribution}, Vector{AbstractPPL.VarName}, Vector{Real}, Vector{Set{DynamicPPL.Selector}}}, Float64}, sampler::DynamicPPL.SampleFromPrior, context::DynamicPPL.DefaultContext)",
      "    @ DynamicPPL ~/.julia/packages/DynamicPPL/UFajj/src/model.jl:515",
      "  [9] (::DynamicPPL.Model{typeof(model), (:data, :cov), (:cov,), (), Tuple{Vector{Float64}, Matrix{Float64}}, Tuple{Matrix{Float64}}, DynamicPPL.DefaultContext})(::Random._GLOBAL_RNG, ::Vararg{Any})",
      "    @ DynamicPPL ~/.julia/packages/DynamicPPL/UFajj/src/model.jl:475",
      " [10] VarInfo",
      "    @ ~/.julia/packages/DynamicPPL/UFajj/src/varinfo.jl:135 [inlined]",
      " [11] VarInfo",
      "    @ ~/.julia/packages/DynamicPPL/UFajj/src/varinfo.jl:147 [inlined]",
      " [12] VarInfo",
      "    @ ~/.julia/packages/DynamicPPL/UFajj/src/varinfo.jl:138 [inlined]",
      " [13] TuringTarget(model::DynamicPPL.Model{typeof(model), (:data, :cov), (:cov,), (), Tuple{Vector{Float64}, Matrix{Float64}}, Tuple{Matrix{Float64}}, DynamicPPL.DefaultContext}; kwargs::Base.Pairs{Symbol, Union{}, Tuple{}, NamedTuple{(), Tuple{}}})",
      "    @ MCHMC ~/PhD/MCHMC.jl/src/targets.jl:17",
      " [14] TuringTarget(model::DynamicPPL.Model{typeof(model), (:data, :cov), (:cov,), (), Tuple{Vector{Float64}, Matrix{Float64}}, Tuple{Matrix{Float64}}, DynamicPPL.DefaultContext})",
      "    @ MCHMC ~/PhD/MCHMC.jl/src/targets.jl:15",
      " [15] top-level scope",
      "    @ In[32]:1"
     ]
    }
   ],
   "source": [
    "target = TuringTarget(stat_model);"
   ]
  },
  {
   "cell_type": "code",
   "execution_count": 52,
   "id": "a79c2b35",
   "metadata": {},
   "outputs": [
    {
     "data": {
      "text/plain": [
       "Sampler(Settings(Random.MersenneTwister(0), 2.0, 0, 1000, 10, \"LF\"), Hyperparameters{Float64}(0.0, 0.0, 0.0, 0.1931833275037836), MCHMC.Leapfrog)"
      ]
     },
     "execution_count": 52,
     "metadata": {},
     "output_type": "execute_result"
    }
   ],
   "source": [
    "mchmc = Sampler(0.0, 0.0, varE_wanted=2.0) #sqrt(target.d)*0.01"
   ]
  },
  {
   "cell_type": "code",
   "execution_count": 53,
   "id": "82938e27",
   "metadata": {
    "scrolled": false
   },
   "outputs": [
    {
     "name": "stdout",
     "output_type": "stream",
     "text": [
      "eps: 0.5 --> VarE: NaN\n",
      "eps: "
     ]
    },
    {
     "name": "stderr",
     "output_type": "stream",
     "text": [
      "\u001b[36m\u001b[1m[ \u001b[22m\u001b[39m\u001b[36m\u001b[1mInfo: \u001b[22m\u001b[39mTuning eps ⏳\n"
     ]
    },
    {
     "name": "stdout",
     "output_type": "stream",
     "text": [
      "0.25 --> VarE: 116.71193516283375\n",
      "eps: 0.125 --> VarE: 40.456116755700535\n",
      "eps: 0.0625 --> VarE: 6.2444831632640465\n",
      "eps: 0.03125 --> VarE: 2.4978322300705327\n",
      "eps: 0.015625 --> VarE: 1.000949097377487\n",
      "samples: 100--> ESS: 0.05805600599553295\n",
      "samples: 243--> ESS: 0.051153791095190464\n",
      "eps: 0.015625\n",
      "L: 0.12218058263501085\n"
     ]
    },
    {
     "name": "stderr",
     "output_type": "stream",
     "text": [
      "\u001b[36m\u001b[1m[ \u001b[22m\u001b[39m\u001b[36m\u001b[1mInfo: \u001b[22m\u001b[39mFound eps ✅\n",
      "\u001b[36m\u001b[1m[ \u001b[22m\u001b[39m\u001b[36m\u001b[1mInfo: \u001b[22m\u001b[39mTuning L ⏳\n",
      "\u001b[36m\u001b[1m[ \u001b[22m\u001b[39m\u001b[36m\u001b[1mInfo: \u001b[22m\u001b[39mFound L ✅\n"
     ]
    },
    {
     "data": {
      "text/plain": [
       "10001-element Vector{Any}:\n",
       " [0.25609100737163576, 1.146044280747749, 0.0, -15.17426987483946]\n",
       " [0.25609100737163576, 1.146044280747749, -1.8137335311969949, -19.726487130236027]\n",
       " [0.2618600281052668, 1.1605652664159098, -1.7264922240022358, -14.898805880717912]\n",
       " [0.2510060245298377, 1.1493255497208783, 13.972420203142448, -10.361827354545415]\n",
       " [0.2408725980983687, 1.1374320937993219, 13.260001351645304, -6.127445784772087]\n",
       " [0.2305118213084826, 1.125736157354977, 12.299888188552925, -2.2052660346275186]\n",
       " [0.21914950959149496, 1.1150105572577327, 11.361793953255683, 1.3984679497473205]\n",
       " [0.207938549726939, 1.104126853664042, 10.449907019838886, 4.6605726579162345]\n",
       " [0.19701302341700896, 1.0929566477639243, 9.374925297406989, 7.554330978865117]\n",
       " [0.18644304453458985, 1.0814494251874198, 8.258458847867846, 10.066242305565115]\n",
       " [0.17511376941244547, 1.0706889349473443, 7.081053198081804, 12.149488288395453]\n",
       " [0.16304678861150043, 1.0607627776168551, 5.7570510616624, 13.774412070304471]\n",
       " [0.15256524912913835, 1.0491749411026612, 4.308736265137792, 14.863096960131127]\n",
       " ⋮\n",
       " [0.3895083213335522, 0.7962020428426467, -0.006077524274676449, 16.446533913245887]\n",
       " [0.3936999138105756, 0.7811497613708378, -0.38625895543691513, 16.14903364179625]\n",
       " [0.4026989980471276, 0.768376464697565, -0.9808134902131478, 15.784612491416183]\n",
       " [0.40984616155785947, 0.754481908974158, -1.2544796643899296, 15.271555981642297]\n",
       " [0.4207876215991899, 0.7433273100497695, -1.6237479738267986, 14.680465082075305]\n",
       " [0.4288737928380916, 0.7299574013105462, -1.8273510179009556, 14.036540384981175]\n",
       " [0.4288744581761789, 0.7143324013247118, -1.4990506401875479, 13.753235040528942]\n",
       " [0.4163557414242063, 0.7049824090314593, -0.20646437024386977, 14.0693086032703]\n",
       " [0.400842634616282, 0.7068489947289116, 1.4353551280121586, 14.924072239613196]\n",
       " [0.3929260405053174, 0.7203200066687119, 2.3926191586870296, 15.651330791969857]\n",
       " [0.3843724705118242, 0.7333958265422958, 2.0604050671552248, 16.273231989093144]\n",
       " [0.37928225414681127, 0.7481684472426778, 1.7392116648767484, 16.770454222070935]"
      ]
     },
     "execution_count": 53,
     "metadata": {},
     "output_type": "execute_result"
    }
   ],
   "source": [
    "samples_mchmc = Sample(mchmc, target, 10000;\n",
    "                       monitor_energy=true, \n",
    "                       dialog=true)"
   ]
  },
  {
   "cell_type": "code",
   "execution_count": 25,
   "id": "9982a5de",
   "metadata": {},
   "outputs": [],
   "source": [
    "#plt.plot(samples_mchmc.E[8000:end])"
   ]
  },
  {
   "cell_type": "code",
   "execution_count": 26,
   "id": "f966c9fb",
   "metadata": {},
   "outputs": [],
   "source": [
    "#mean(samples_mchmc.E[8000:end])"
   ]
  },
  {
   "cell_type": "code",
   "execution_count": 27,
   "id": "999faaf8",
   "metadata": {},
   "outputs": [],
   "source": [
    "#std(samples_mchmc.E[8000:end])^2/target.d"
   ]
  },
  {
   "cell_type": "code",
   "execution_count": 56,
   "id": "385a8b1a",
   "metadata": {},
   "outputs": [
    {
     "ename": "LoadError",
     "evalue": "UndefVarError: `samples_mchmc` not defined",
     "output_type": "error",
     "traceback": [
      "UndefVarError: `samples_mchmc` not defined",
      "",
      "Stacktrace:",
      " [1] top-level scope",
      "   @ In[11]:1"
     ]
    }
   ],
   "source": [
    "Wms_mchmc = [sample[1] for sample in samples_mchmc]\n",
    "s8s_mchmc = [sample[2] for sample in samples_mchmc];"
   ]
  },
  {
   "cell_type": "code",
   "execution_count": 57,
   "id": "2a803eb8",
   "metadata": {},
   "outputs": [
    {
     "data": {
      "image/png": "[encoded data removed]",
      "text/plain": [
       "Figure(PyObject <Figure size 640x480 with 1 Axes>)"
      ]
     },
     "metadata": {},
     "output_type": "display_data"
    }
   ],
   "source": [
    "plt.hist2d(Wms_mchmc, s8s_mchmc, bins=100, range=[[0.1, 0.4],[0.6, 1.2]]);\n",
    "plt.xlabel(\"Wm\")\n",
    "plt.ylabel(\"s8\")\n",
    "plt.title(\"MCHMC - RSD model - eps = 0.001 --> var[E]~0.00003\");"
   ]
  },
  {
   "cell_type": "markdown",
   "id": "0a03dd58",
   "metadata": {},
   "source": [
    "## AbstractMCMC"
   ]
  },
  {
   "cell_type": "code",
   "execution_count": 59,
   "id": "03697374",
   "metadata": {},
   "outputs": [
    {
     "data": {
      "text/plain": [
       "Sampler(Settings(Random.MersenneTwister(0), 2.0, 0, 1000, 10, \"LF\"), Hyperparameters{Float64}(0.0, 0.0, 0.0, 0.1931833275037836), MCHMC.Leapfrog)"
      ]
     },
     "execution_count": 59,
     "metadata": {},
     "output_type": "execute_result"
    }
   ],
   "source": [
    "mchmc = Sampler(0.0, 0.0, varE_wanted=2.0)"
   ]
  },
  {
   "cell_type": "code",
   "execution_count": 60,
   "id": "d569b9dc",
   "metadata": {},
   "outputs": [
    {
     "name": "stderr",
     "output_type": "stream",
     "text": [
      "\u001b[36m\u001b[1m[ \u001b[22m\u001b[39m\u001b[36m\u001b[1mInfo: \u001b[22m\u001b[39mTuning eps ⏳\n"
     ]
    },
    {
     "name": "stdout",
     "output_type": "stream",
     "text": [
      "eps: 0.5 --> VarE: NaN\n",
      "eps: 0.25 --> VarE: NaN\n",
      "eps: 0.125 --> VarE: 42.096995054763134\n",
      "eps: 0.0625 --> VarE: 10.427896634639383\n",
      "eps: 0.03125 --> VarE: 3.700668748000713\n",
      "eps: 0.015625 --> VarE: 1.6832313579623042\n",
      "samples: 100--> ESS: 0.04306936034043441\n",
      "samples: 243--> ESS: 0.05462510715665329\n",
      "eps: 0.015625\n",
      "L: 0.11441625152471223\n"
     ]
    },
    {
     "name": "stderr",
     "output_type": "stream",
     "text": [
      "\u001b[36m\u001b[1m[ \u001b[22m\u001b[39m\u001b[36m\u001b[1mInfo: \u001b[22m\u001b[39mFound eps ✅\n",
      "\u001b[36m\u001b[1m[ \u001b[22m\u001b[39m\u001b[36m\u001b[1mInfo: \u001b[22m\u001b[39mTuning L ⏳\n",
      "\u001b[36m\u001b[1m[ \u001b[22m\u001b[39m\u001b[36m\u001b[1mInfo: \u001b[22m\u001b[39mFound L ✅\n",
      "\u001b[32mSampling: 100%|█████████████████████████████████████████| Time: 0:00:01\u001b[39m\n"
     ]
    },
    {
     "data": {
      "text/plain": [
       "Chains MCMC chain (10000×4×1 Array{Float64, 3}):\n",
       "\n",
       "Iterations        = 1:1:10000\n",
       "Number of chains  = 1\n",
       "Samples per chain = 10000\n",
       "Wall duration     = 3.06 seconds\n",
       "Compute duration  = 3.06 seconds\n",
       "parameters        = Ωm, σ8\n",
       "internals         = E, logp\n",
       "\n",
       "Summary Statistics\n",
       " \u001b[1m parameters \u001b[0m \u001b[1m    mean \u001b[0m \u001b[1m     std \u001b[0m \u001b[1m naive_se \u001b[0m \u001b[1m    mcse \u001b[0m \u001b[1m      ess \u001b[0m \u001b[1m    rhat \u001b[0m \u001b[1m e\u001b[0m ⋯\n",
       " \u001b[90m     Symbol \u001b[0m \u001b[90m Float64 \u001b[0m \u001b[90m Float64 \u001b[0m \u001b[90m  Float64 \u001b[0m \u001b[90m Float64 \u001b[0m \u001b[90m  Float64 \u001b[0m \u001b[90m Float64 \u001b[0m \u001b[90m  \u001b[0m ⋯\n",
       "\n",
       "          Ωm    0.2511    0.0581     0.0006    0.0021   635.1874    1.0016     ⋯\n",
       "          σ8    0.8518    0.0559     0.0006    0.0020   647.8999    1.0022     ⋯\n",
       "\u001b[36m                                                                1 column omitted\u001b[0m\n",
       "\n",
       "Quantiles\n",
       " \u001b[1m parameters \u001b[0m \u001b[1m    2.5% \u001b[0m \u001b[1m   25.0% \u001b[0m \u001b[1m   50.0% \u001b[0m \u001b[1m   75.0% \u001b[0m \u001b[1m   97.5% \u001b[0m\n",
       " \u001b[90m     Symbol \u001b[0m \u001b[90m Float64 \u001b[0m \u001b[90m Float64 \u001b[0m \u001b[90m Float64 \u001b[0m \u001b[90m Float64 \u001b[0m \u001b[90m Float64 \u001b[0m\n",
       "\n",
       "          Ωm    0.1517    0.2095    0.2467    0.2872    0.3761\n",
       "          σ8    0.7528    0.8149    0.8498    0.8867    0.9633\n"
      ]
     },
     "execution_count": 60,
     "metadata": {},
     "output_type": "execute_result"
    }
   ],
   "source": [
    "samples = sample(\n",
    "    stat_model, mchmc, 10000;\n",
    "    monitor_energy=true, \n",
    "    dialog=true)"
   ]
  },
  {
   "cell_type": "markdown",
   "id": "4aadd3b5",
   "metadata": {},
   "source": [
    "## NUTS"
   ]
  },
  {
   "cell_type": "code",
   "execution_count": 20,
   "id": "dcbe40a3",
   "metadata": {},
   "outputs": [
    {
     "name": "stderr",
     "output_type": "stream",
     "text": [
      "\u001b[36m\u001b[1m┌ \u001b[22m\u001b[39m\u001b[36m\u001b[1mInfo: \u001b[22m\u001b[39mFound initial step size\n",
      "\u001b[36m\u001b[1m└ \u001b[22m\u001b[39m  ϵ = 0.05\n",
      "\u001b[32mSampling: 100%|█████████████████████████████████████████| Time: 0:00:02\u001b[39m\n"
     ]
    },
    {
     "data": {
      "text/plain": [
       "Chains MCMC chain (10000×14×1 Array{Float64, 3}):\n",
       "\n",
       "Iterations        = 501:1:10500\n",
       "Number of chains  = 1\n",
       "Samples per chain = 10000\n",
       "Wall duration     = 9.68 seconds\n",
       "Compute duration  = 9.68 seconds\n",
       "parameters        = Ωm, σ8\n",
       "internals         = lp, n_steps, is_accept, acceptance_rate, log_density, hamiltonian_energy, hamiltonian_energy_error, max_hamiltonian_energy_error, tree_depth, numerical_error, step_size, nom_step_size\n",
       "\n",
       "Summary Statistics\n",
       " \u001b[1m parameters \u001b[0m \u001b[1m    mean \u001b[0m \u001b[1m     std \u001b[0m \u001b[1m naive_se \u001b[0m \u001b[1m    mcse \u001b[0m \u001b[1m       ess \u001b[0m \u001b[1m    rhat \u001b[0m \u001b[1m \u001b[0m ⋯\n",
       " \u001b[90m     Symbol \u001b[0m \u001b[90m Float64 \u001b[0m \u001b[90m Float64 \u001b[0m \u001b[90m  Float64 \u001b[0m \u001b[90m Float64 \u001b[0m \u001b[90m   Float64 \u001b[0m \u001b[90m Float64 \u001b[0m \u001b[90m \u001b[0m ⋯\n",
       "\n",
       "          Ωm    0.2536    0.0593     0.0006    0.0012   2454.2226    1.0000    ⋯\n",
       "          σ8    0.8517    0.0545     0.0005    0.0010   2676.2786    1.0000    ⋯\n",
       "\u001b[36m                                                                1 column omitted\u001b[0m\n",
       "\n",
       "Quantiles\n",
       " \u001b[1m parameters \u001b[0m \u001b[1m    2.5% \u001b[0m \u001b[1m   25.0% \u001b[0m \u001b[1m   50.0% \u001b[0m \u001b[1m   75.0% \u001b[0m \u001b[1m   97.5% \u001b[0m\n",
       " \u001b[90m     Symbol \u001b[0m \u001b[90m Float64 \u001b[0m \u001b[90m Float64 \u001b[0m \u001b[90m Float64 \u001b[0m \u001b[90m Float64 \u001b[0m \u001b[90m Float64 \u001b[0m\n",
       "\n",
       "          Ωm    0.1526    0.2112    0.2489    0.2907    0.3841\n",
       "          σ8    0.7528    0.8135    0.8493    0.8871    0.9635\n"
      ]
     },
     "execution_count": 20,
     "metadata": {},
     "output_type": "execute_result"
    }
   ],
   "source": [
    "samples_hmc = sample(stat_model, NUTS(500, 0.65),\n",
    "                     10000, progress=true; save_state=true)"
   ]
  },
  {
   "cell_type": "code",
   "execution_count": 21,
   "id": "623ba990",
   "metadata": {},
   "outputs": [
    {
     "data": {
      "text/plain": [
       "3-dimensional AxisArray{Float64,3,...} with axes:\n",
       "    :iter, 501:1:10500\n",
       "    :var, [:Ωm, :σ8, :lp, :n_steps, :is_accept, :acceptance_rate, :log_density, :hamiltonian_energy, :hamiltonian_energy_error, :max_hamiltonian_energy_error, :tree_depth, :numerical_error, :step_size, :nom_step_size]\n",
       "    :chain, 1:1\n",
       "And data, a 10000×14×1 Array{Float64, 3}:\n",
       "[:, :, 1] =\n",
       " 0.356897  0.754874  16.7982  3.0  1.0  …  2.0  0.0  0.731089  0.731089\n",
       " 0.386638  0.763995  16.5036  3.0  1.0     2.0  0.0  0.731089  0.731089\n",
       " 0.398764  0.788632  16.2518  3.0  1.0     2.0  0.0  0.731089  0.731089\n",
       " 0.181248  0.851034  17.3564  7.0  1.0     2.0  0.0  0.731089  0.731089\n",
       " 0.202002  0.847555  18.2107  1.0  1.0     1.0  0.0  0.731089  0.731089\n",
       " 0.27528   0.837888  18.7557  3.0  1.0  …  2.0  0.0  0.731089  0.731089\n",
       " 0.276317  0.839473  18.7347  3.0  1.0     2.0  0.0  0.731089  0.731089\n",
       " 0.312922  0.816106  18.2917  3.0  1.0     2.0  0.0  0.731089  0.731089\n",
       " 0.323827  0.818671  18.0568  1.0  1.0     1.0  0.0  0.731089  0.731089\n",
       " 0.21732   0.817887  17.8399  7.0  1.0     3.0  0.0  0.731089  0.731089\n",
       " 0.30776   0.781945  17.9521  7.0  1.0  …  3.0  0.0  0.731089  0.731089\n",
       " 0.155496  0.856038  15.581   5.0  1.0     2.0  0.0  0.731089  0.731089\n",
       " 0.160086  0.904157  17.466   3.0  1.0     1.0  0.0  0.731089  0.731089\n",
       " ⋮                                      ⋱  ⋮                   \n",
       " 0.186605  0.815266  16.1038  3.0  1.0     1.0  0.0  0.731089  0.731089\n",
       " 0.334994  0.809236  17.8764  7.0  1.0     2.0  0.0  0.731089  0.731089\n",
       " 0.349438  0.811143  17.4973  1.0  1.0  …  1.0  0.0  0.731089  0.731089\n",
       " 0.30031   0.717099  14.4438  3.0  1.0     2.0  0.0  0.731089  0.731089\n",
       " 0.306947  0.729076  15.4517  1.0  1.0     1.0  0.0  0.731089  0.731089\n",
       " 0.385937  0.867114  13.6075  3.0  1.0     2.0  0.0  0.731089  0.731089\n",
       " 0.303042  0.77461   17.7376  3.0  1.0     2.0  0.0  0.731089  0.731089\n",
       " 0.352134  0.784726  17.4816  3.0  1.0  …  1.0  0.0  0.731089  0.731089\n",
       " 0.334657  0.769517  17.459   3.0  1.0     2.0  0.0  0.731089  0.731089\n",
       " 0.355672  0.772909  17.2629  7.0  1.0     3.0  0.0  0.731089  0.731089\n",
       " 0.314509  0.824236  18.2067  3.0  1.0     2.0  0.0  0.731089  0.731089\n",
       " 0.287051  0.821656  18.6484  7.0  1.0     3.0  0.0  0.731089  0.731089"
      ]
     },
     "execution_count": 21,
     "metadata": {},
     "output_type": "execute_result"
    }
   ],
   "source": [
    "samples_hmc.value"
   ]
  },
  {
   "cell_type": "code",
   "execution_count": 22,
   "id": "fa9db828",
   "metadata": {},
   "outputs": [
    {
     "ename": "LoadError",
     "evalue": "UndefVarError: `Wms_hmc` not defined",
     "output_type": "error",
     "traceback": [
      "UndefVarError: `Wms_hmc` not defined",
      "",
      "Stacktrace:",
      " [1] top-level scope",
      "   @ In[19]:1"
     ]
    }
   ],
   "source": [
    "Wms_hmc = vec(samples_hmc[\"Ωm\"])\n",
    "s8s_hmc = vec(samples_hmc[\"σ8\"]);"
   ]
  },
  {
   "cell_type": "code",
   "execution_count": 23,
   "id": "3d063a52",
   "metadata": {},
   "outputs": [
    {
     "data": {
      "image/png": "[encoded data removed]",
      "text/plain": [
       "Figure(PyObject <Figure size 640x480 with 1 Axes>)"
      ]
     },
     "metadata": {},
     "output_type": "display_data"
    }
   ],
   "source": [
    "plt.hist2d(Wms_hmc, s8s_hmc, bins=100, range=[[0.1, 0.4],[0.6, 1.2]]);\n",
    "plt.xlabel(\"Wm\")\n",
    "plt.ylabel(\"s8\")\n",
    "plt.title(\"HMC - RSD model\");"
   ]
  },
  {
   "cell_type": "code",
   "execution_count": null,
   "id": "6579c09d",
   "metadata": {},
   "outputs": [],
   "source": []
  }
 ],
 "metadata": {
  "kernelspec": {
   "display_name": "Julia 1.9.0-beta3",
   "language": "julia",
   "name": "julia-1.9"
  },
  "language_info": {
   "file_extension": ".jl",
   "mimetype": "application/julia",
   "name": "julia",
   "version": "1.9.0"
  }
 },
 "nbformat": 4,
 "nbformat_minor": 5
}
