{
 "cells": [
  {
   "cell_type": "markdown",
   "id": "91129cb1",
   "metadata": {},
   "source": [
    "# Turing Target Practice"
   ]
  },
  {
   "cell_type": "markdown",
   "id": "97121235",
   "metadata": {},
   "source": [
    "## Model"
   ]
  },
  {
   "cell_type": "code",
   "execution_count": 1,
   "id": "86b96c9e",
   "metadata": {},
   "outputs": [
    {
     "name": "stderr",
     "output_type": "stream",
     "text": [
      "\u001b[32m\u001b[1m  Activating\u001b[22m\u001b[39m project at `~/PhD/MicroCanonicalHMC.jl`\n"
     ]
    }
   ],
   "source": [
    "] activate \".\""
   ]
  },
  {
   "cell_type": "code",
   "execution_count": 2,
   "id": "baed58e3",
   "metadata": {},
   "outputs": [],
   "source": [
    "# The statistical inference frame-work we will use\n",
    "using Turing\n",
    "using Interpolations\n",
    "using ForwardDiff\n",
    "using LinearAlgebra\n",
    "#using StatsPlots\n",
    "using PyPlot\n",
    "using Distributed\n",
    "\n",
    "using Revise\n",
    "using MicroCanonicalHMC"
   ]
  },
  {
   "cell_type": "code",
   "execution_count": 3,
   "id": "a7d6f81c",
   "metadata": {},
   "outputs": [],
   "source": [
    "fs8_zs = [0.38, 0.51, 0.61, 1.48, 0.44, 0.6, 0.73, 0.6, 0.86, 0.067, 1.4]\n",
    "fs8_data = [0.49749, 0.457523, 0.436148, 0.462, 0.413, 0.39, 0.437, 0.55, 0.4, 0.423, 0.482]\n",
    "fs8_cov = [0.00203355 0.000811829 0.000264615 0.0 0.0 0.0 0.0 0.0 0.0 0.0 0.0;\n",
    "           0.000811829 0.00142289 0.000662824 0.0 0.0 0.0 0.0 0.0 0.0 0.0 0.0; \n",
    "           0.000264615 0.000662824 0.00118576 0.0 0.0 0.0 0.0 0.0 0.0 0.0 0.0;\n",
    "           0.0 0.0 0.0 0.002025 0.0 0.0 0.0 0.0 0.0 0.0 0.0;\n",
    "           0.0 0.0 0.0 0.0 0.0064 0.00257 0.0 0.0 0.0 0.0 0.0;\n",
    "           0.0 0.0 0.0 0.0 0.00257 0.003969 0.00254 0.0 0.0 0.0 0.0;\n",
    "           0.0 0.0 0.0 0.0 0.0 0.00254 0.005184 0.0 0.0 0.0 0.0;\n",
    "           0.0 0.0 0.0 0.0 0.0 0.0 0.0 0.0144 0.0 0.0 0.0;\n",
    "           0.0 0.0 0.0 0.0 0.0 0.0 0.0 0.0 0.0121 0.0 0.0; \n",
    "           0.0 0.0 0.0 0.0 0.0 0.0 0.0 0.0 0.0 0.003025 0.0;\n",
    "           0.0 0.0 0.0 0.0 0.0 0.0 0.0 0.0 0.0 0.0 0.013456000000000001];"
   ]
  },
  {
   "cell_type": "code",
   "execution_count": 4,
   "id": "1359a630",
   "metadata": {
    "code_folding": []
   },
   "outputs": [
    {
     "data": {
      "text/plain": [
       "make_fs8 (generic function with 1 method)"
      ]
     },
     "execution_count": 4,
     "metadata": {},
     "output_type": "execute_result"
    }
   ],
   "source": [
    "function make_fs8(Ωm, σ8; Ωr=8.24*10^-5)\n",
    "    # ODE solution for growth factor\n",
    "    x_Dz = LinRange(0, log(1+1100), 300)\n",
    "    dx_Dz = x_Dz[2]-x_Dz[1]\n",
    "    z_Dz = @.(exp(x_Dz) - 1)\n",
    "    a_Dz = @.(1/(1+z_Dz))\n",
    "    aa = reverse(a_Dz)\n",
    "    e =  @.(sqrt.(abs(Ωm)*(1+z_Dz)^3+Ωr*(1+z_Dz)^4+(1-Ωm-Ωr)))\n",
    "    ee = reverse(e)\n",
    "\n",
    "    dd = zeros(typeof(Ωm), 300)\n",
    "    yy = zeros(typeof(Ωm), 300)\n",
    "    dd[1] = aa[1]\n",
    "    yy[1] = aa[1]^3*ee[end]\n",
    "\n",
    "    for i in 1:(300-1)\n",
    "        A0 = -1.5 * Ωm / (aa[i]*ee[i])\n",
    "        B0 = -1. / (aa[i]^2*ee[i])\n",
    "        A1 = -1.5 * Ωm / (aa[i+1]*ee[i+1])\n",
    "        B1 = -1. / (aa[i+1]^2*ee[i+1])\n",
    "        yy[i+1] = (1+0.5*dx_Dz^2*A0*B0)*yy[i] + 0.5*(A0+A1)*dx_Dz*dd[i]\n",
    "        dd[i+1] = 0.5*(B0+B1)*dx_Dz*yy[i] + (1+0.5*dx_Dz^2*A0*B0)*dd[i]\n",
    "    end\n",
    "\n",
    "    y = reverse(yy)\n",
    "    d = reverse(dd)\n",
    "\n",
    "    Dzi = LinearInterpolation(z_Dz, d./d[1], extrapolation_bc=Line())\n",
    "    fs8zi = LinearInterpolation(z_Dz, -σ8 .* y./ (a_Dz.^2 .*e.*d[1]),\n",
    "                                 extrapolation_bc=Line())\n",
    "    return fs8zi\n",
    "end"
   ]
  },
  {
   "cell_type": "code",
   "execution_count": 5,
   "id": "8005e277",
   "metadata": {},
   "outputs": [],
   "source": [
    "@model function model(data; cov = fs8_cov) \n",
    "    # Define priors\n",
    "    #KiDS priors\n",
    "    Ωm  ~ Uniform(0.01, 0.6)\n",
    "    σ8 ~ Normal(0.8, 0.3)\n",
    "    fs8_itp = make_fs8(Ωm, σ8)\n",
    "    theory = fs8_itp(fs8_zs)\n",
    "    data ~ MvNormal(theory, cov)\n",
    "end;"
   ]
  },
  {
   "cell_type": "code",
   "execution_count": 6,
   "id": "1eebe796",
   "metadata": {},
   "outputs": [
    {
     "data": {
      "text/plain": [
       "DynamicPPL.Model{typeof(model), (:data, :cov), (:cov,), (), Tuple{Vector{Float64}, Matrix{Float64}}, Tuple{Matrix{Float64}}, DynamicPPL.DefaultContext}(model, (data = [0.49749, 0.457523, 0.436148, 0.462, 0.413, 0.39, 0.437, 0.55, 0.4, 0.423, 0.482], cov = [0.00203355 0.000811829 … 0.0 0.0; 0.000811829 0.00142289 … 0.0 0.0; … ; 0.0 0.0 … 0.003025 0.0; 0.0 0.0 … 0.0 0.013456000000000001]), (cov = [0.00203355 0.000811829 … 0.0 0.0; 0.000811829 0.00142289 … 0.0 0.0; … ; 0.0 0.0 … 0.003025 0.0; 0.0 0.0 … 0.0 0.013456000000000001],), DynamicPPL.DefaultContext())"
      ]
     },
     "execution_count": 6,
     "metadata": {},
     "output_type": "execute_result"
    }
   ],
   "source": [
    "stat_model = model(fs8_data)"
   ]
  },
  {
   "cell_type": "markdown",
   "id": "10dfa4cc",
   "metadata": {},
   "source": [
    "## Sampling"
   ]
  },
  {
   "cell_type": "code",
   "execution_count": 7,
   "id": "c8ed14a3",
   "metadata": {},
   "outputs": [],
   "source": [
    "target = TuringTarget(stat_model; compute_MAP=true);"
   ]
  },
  {
   "cell_type": "code",
   "execution_count": 8,
   "id": "2982b122",
   "metadata": {},
   "outputs": [
    {
     "data": {
      "text/plain": [
       "Ωm"
      ]
     },
     "execution_count": 8,
     "metadata": {},
     "output_type": "execute_result"
    }
   ],
   "source": [
    "target.vsyms[1]"
   ]
  },
  {
   "cell_type": "code",
   "execution_count": 9,
   "id": "82938e27",
   "metadata": {
    "scrolled": false
   },
   "outputs": [
    {
     "name": "stderr",
     "output_type": "stream",
     "text": [
      "\u001b[36m\u001b[1m[ \u001b[22m\u001b[39m\u001b[36m\u001b[1mInfo: \u001b[22m\u001b[39mTuning sigma ⏳\n",
      "\u001b[36m\u001b[1m[ \u001b[22m\u001b[39m\u001b[36m\u001b[1mInfo: \u001b[22m\u001b[39mTuning eps ⏳\n",
      "\u001b[36m\u001b[1m[ \u001b[22m\u001b[39m\u001b[36m\u001b[1mInfo: \u001b[22m\u001b[39mTuning L ⏳\n",
      "\u001b[36m\u001b[1m[ \u001b[22m\u001b[39m\u001b[36m\u001b[1mInfo: \u001b[22m\u001b[39mFound sigma: [0.450434798529253, 0.06088870443741783] ✅\n"
     ]
    },
    {
     "name": "stdout",
     "output_type": "stream",
     "text": [
      "eps: 0.5 --> VarE: 0.6753670948697426\n",
      "eps: 0.6917613343373408 --> VarE: 1.060109817101526\n",
      "eps: 0.6533172048672904 --> VarE: 1.0003376811975426\n"
     ]
    },
    {
     "name": "stderr",
     "output_type": "stream",
     "text": [
      "\u001b[36m\u001b[1m[ \u001b[22m\u001b[39m\u001b[36m\u001b[1mInfo: \u001b[22m\u001b[39mFound eps: 0.6533172048672904 ✅\n"
     ]
    },
    {
     "name": "stdout",
     "output_type": "stream",
     "text": [
      "samples: 100--> ESS: 0.10145530382808787\n"
     ]
    },
    {
     "name": "stderr",
     "output_type": "stream",
     "text": [
      "\u001b[36m\u001b[1m[ \u001b[22m\u001b[39m\u001b[36m\u001b[1mInfo: \u001b[22m\u001b[39mFound L: 2.57578334583399 ✅\n"
     ]
    }
   ],
   "source": [
    "samples_mchmc = Sample(MCHMC(varE_wanted=1.0), target, 100000;\n",
    "                       monitor_energy=true, \n",
    "                       dialog=true);"
   ]
  },
  {
   "cell_type": "code",
   "execution_count": 10,
   "id": "385a8b1a",
   "metadata": {},
   "outputs": [],
   "source": [
    "Wms_mchmc = [sample[1] for sample in samples_mchmc]\n",
    "s8s_mchmc = [sample[2] for sample in samples_mchmc];"
   ]
  },
  {
   "cell_type": "code",
   "execution_count": 11,
   "id": "2a803eb8",
   "metadata": {},
   "outputs": [
    {
     "data": {
      "image/png": "[encoded data removed]",
      "text/plain": [
       "Figure(PyObject <Figure size 640x480 with 1 Axes>)"
      ]
     },
     "metadata": {},
     "output_type": "display_data"
    }
   ],
   "source": [
    "plt.hist2d(Wms_mchmc, s8s_mchmc, bins=100, range=[[0.1, 0.6],[0.6, 1.2]]);\n",
    "plt.xlabel(\"Wm\")\n",
    "plt.ylabel(\"s8\")\n",
    "plt.title(\"MCHMC - RSD model\");"
   ]
  },
  {
   "cell_type": "code",
   "execution_count": 12,
   "id": "ae097bf4",
   "metadata": {
    "scrolled": false
   },
   "outputs": [
    {
     "name": "stderr",
     "output_type": "stream",
     "text": [
      "\u001b[36m\u001b[1m[ \u001b[22m\u001b[39m\u001b[36m\u001b[1mInfo: \u001b[22m\u001b[39mBurn-in started ⏳\n",
      "\u001b[36m\u001b[1m[ \u001b[22m\u001b[39m\u001b[36m\u001b[1mInfo: \u001b[22m\u001b[39mTuning sigma ⏳\n",
      "\u001b[36m\u001b[1m[ \u001b[22m\u001b[39m\u001b[36m\u001b[1mInfo: \u001b[22m\u001b[39mTuning eps ⏳\n",
      "\u001b[36m\u001b[1m[ \u001b[22m\u001b[39m\u001b[36m\u001b[1mInfo: \u001b[22m\u001b[39mTuning L ⏳\n",
      "\u001b[33m\u001b[1m┌ \u001b[22m\u001b[39m\u001b[33m\u001b[1mWarning: \u001b[22m\u001b[39mL-tuning not Implemented\n",
      "\u001b[33m\u001b[1m└ \u001b[22m\u001b[39m\u001b[90m@ MicroCanonicalHMC ~/PhD/MicroCanonicalHMC.jl/src/ensemble/tuning.jl:41\u001b[39m\n",
      "\u001b[36m\u001b[1m[ \u001b[22m\u001b[39m\u001b[36m\u001b[1mInfo: \u001b[22m\u001b[39mFound L: 1.4142135623730951 ✅\n"
     ]
    },
    {
     "name": "stdout",
     "output_type": "stream",
     "text": [
      "eps: 0.5 --> VarE: 2.209658835134417\n",
      "eps: 0.09046375409897209 --> VarE: 6.64270049315915\n",
      "eps: 0.00026232575923205775 --> VarE: 6.991866798679044e-5\n",
      "eps: 0.00041237887705420246 --> VarE: 0.00042431999984143793\n",
      "eps: 0.0006339254139324219 --> VarE: 0.0012473171152621876\n",
      "eps: 0.0009536297215277413 --> VarE: 0.002873580546067794\n",
      "eps: 0.001404501772124429 --> VarE: 0.004969249519227011\n",
      "eps: 0.002026703191081553 --> VarE: 0.0033885327502072705\n",
      "eps: 0.002875902722074542 --> VarE: 0.0027465563103809\n",
      "eps: 0.004013587848157976 --> VarE: 0.010613167989378232\n",
      "eps: 0.005483438609390178 --> VarE: 0.01827445814356153\n",
      "eps: 0.007344220653973022 --> VarE: 0.04867078339961565\n",
      "eps: 0.00952869721047942 --> VarE: 0.12876620889567875\n",
      "eps: 0.011681955993176531 --> VarE: 0.2901126265794904\n",
      "eps: 0.013034715814715539 --> VarE: 0.39195170030908183\n",
      "eps: 0.01375319888400847 --> VarE: 0.4550075758800084\n"
     ]
    },
    {
     "name": "stderr",
     "output_type": "stream",
     "text": [
      "\u001b[36m\u001b[1m[ \u001b[22m\u001b[39m\u001b[36m\u001b[1mInfo: \u001b[22m\u001b[39mVarE condition met during eps tuning at step: 16\n",
      "\u001b[36m\u001b[1m[ \u001b[22m\u001b[39m\u001b[36m\u001b[1mInfo: \u001b[22m\u001b[39mFound eps: 0.01375319888400847 ✅\n"
     ]
    },
    {
     "name": "stdout",
     "output_type": "stream",
     "text": [
      "Initial Virial loss: 3830.132998251572\n",
      "Initial sigma: [1.6589932078901006, 0.2702455490681111]\n",
      "Virial loss: 60.37876276882627 --> Relative improvement: 0.024387665916238865\n",
      "Sigma --> [1.6532189293825035, 0.2682606639439856]\n",
      "Virial loss: 58.86936748815531 --> Relative improvement: 0.02499877790556948\n",
      "Sigma --> [1.6497844441509948, 0.2667735914957312]\n",
      "Virial loss: 57.38924454944389 --> Relative improvement: 0.02514249773465338\n",
      "Sigma --> [1.646802931303942, 0.2654278049343582]\n",
      "Virial loss: 55.944329268214986 --> Relative improvement: 0.025177457772318834\n",
      "Sigma --> [1.643955590996391, 0.264148477909593]\n",
      "Virial loss: 54.53601406180784 --> Relative improvement: 0.02517351132507517\n",
      "Sigma --> [1.6411538984642366, 0.2629093627764316]\n",
      "Virial loss: 53.16424707161651 --> Relative improvement: 0.025153414927549633\n",
      "Sigma --> [1.6383660923742933, 0.26169865445898255]\n",
      "Virial loss: 51.828360540137034 --> Relative improvement: 0.02512753598635431\n",
      "Sigma --> [1.6355786189297759, 0.2605101664338617]\n",
      "Virial loss: 50.52733535170245 --> Relative improvement: 0.02510257270104166\n",
      "Sigma --> [1.6327848421037037, 0.2593402885398022]\n",
      "Virial loss: 49.25989063260975 --> Relative improvement: 0.02508433722598813\n",
      "Sigma --> [1.6299810980016483, 0.2581867313038212]\n",
      "Virial loss: 48.02451445352236 --> Relative improvement: 0.025078743846613127\n",
      "Sigma --> [1.6271651344072542, 0.2570479383359222]\n",
      "Virial loss: 46.81947696880332 --> Relative improvement: 0.025092132600013195\n",
      "Sigma --> [1.6243354384479514, 0.25592278435127847]\n",
      "Virial loss: 45.64284274729934 --> Relative improvement: 0.025131297863237423\n",
      "Sigma --> [1.6214909322923887, 0.2548104083893277]\n",
      "Virial loss: 44.49248963240925 --> Relative improvement: 0.025203362578860244\n",
      "Sigma --> [1.6186308353717132, 0.25371011661618864]\n",
      "Virial loss: 43.3661377168479 --> Relative improvement: 0.025315551565379124\n",
      "Sigma --> [1.615754607591435, 0.25262132377323676]\n",
      "Virial loss: 42.26139157170753 --> Relative improvement: 0.025474856727007444\n",
      "Sigma --> [1.6128619335362446, 0.25154351781157974]\n",
      "Virial loss: 41.175801162715246 --> Relative improvement: 0.02568752160350174\n",
      "Sigma --> [1.609952725917366, 0.2504762396251559]\n",
      "Virial loss: 40.10695035472254 --> Relative improvement: 0.02595822735224762\n",
      "Sigma --> [1.6070271333675696, 0.24941907337863212]\n",
      "Virial loss: 39.05258224486815 --> Relative improvement: 0.02628891253334209\n",
      "Sigma --> [1.6040855402761287, 0.24837164447878657]\n",
      "Virial loss: 38.01076192892978 --> Relative improvement: 0.02667737332722142\n",
      "Sigma --> [1.6011285488780471, 0.24733362257232192]\n",
      "Virial loss: 36.980058238351404 --> Relative improvement: 0.027116101816257343\n",
      "Sigma --> [1.5981569387498702, 0.24630472668445394]\n",
      "Virial loss: 35.95970523565751 --> Relative improvement: 0.027591979334302463\n",
      "Sigma --> [1.595171606314898, 0.245284729414288]\n",
      "Virial loss: 34.94969615428313 --> Relative improvement: 0.028087245842406294\n",
      "Sigma --> [1.592173494525772, 0.24427345751415264]\n",
      "Virial loss: 33.95077445218877 --> Relative improvement: 0.028581699185157183\n",
      "Sigma --> [1.5891635274950815, 0.24327078731931243]\n",
      "Virial loss: 32.964315705088886 --> Relative improvement: 0.0290555594980334\n",
      "Sigma --> [1.58614256479983, 0.24227663507820313]\n",
      "Virial loss: 31.99212954012082 --> Relative improvement: 0.029492077847621867\n",
      "Sigma --> [1.5831113857062495, 0.2412909437466533]\n",
      "Virial loss: 31.036232229599346 --> Relative improvement: 0.029879139784136588\n",
      "Sigma --> [1.580070706641409, 0.24031366866913764]\n",
      "Virial loss: 30.098628669639417 --> Relative improvement: 0.030209967273853944\n",
      "Sigma --> [1.57702122878803, 0.2393447645046194]\n",
      "Virial loss: 29.181105214725562 --> Relative improvement: 0.03048389562808762\n",
      "Sigma --> [1.5739637076921635, 0.2383841751131496]\n",
      "Virial loss: 28.28501133556616 --> Relative improvement: 0.03070801714210636\n",
      "Sigma --> [1.5708990308498458, 0.23743182750397812]\n",
      "Virial loss: 27.41103702218606 --> Relative improvement: 0.030898849677360563\n",
      "Sigma --> [1.5678282813456559, 0.23648763045240284]\n",
      "Virial loss: 26.559061010458695 --> Relative improvement: 0.03108149505754887\n",
      "Sigma --> [1.5647527630277518, 0.23555147750610467]\n",
      "Virial loss: 25.728168349166666 --> Relative improvement: 0.03128471526025833\n",
      "Sigma --> [1.5616739754988922, 0.2346232527337972]\n",
      "Virial loss: 24.916857153138356 --> Relative improvement: 0.0315339663911437\n",
      "Sigma --> [1.558593550397861, 0.2337028367559014]\n",
      "Virial loss: 24.123349224760947 --> Relative improvement: 0.03184622857933206\n",
      "Sigma --> [1.5555131746367599, 0.2327901111795333]\n",
      "Virial loss: 23.345893804922127 --> Relative improvement: 0.032228336645759637\n",
      "Sigma --> [1.5524345225006295, 0.23188496086380803]\n",
      "Virial loss: 22.582997935649637 --> Relative improvement: 0.03267794652229783\n",
      "Sigma --> [1.54935920644627, 0.23098727431467278]\n",
      "Virial loss: 21.83356301690219 --> Relative improvement: 0.03318580291611262\n",
      "Sigma --> [1.5462887475070173, 0.23009694271835582]\n",
      "Virial loss: 21.09693293231729 --> Relative improvement: 0.033738427576600616\n",
      "Sigma --> [1.5432245628217698, 0.22921385812884956]\n",
      "Virial loss: 20.372875553902816 --> Relative improvement: 0.034320504347119085\n",
      "Sigma --> [1.5401679668713186, 0.2283379114433241]\n",
      "Virial loss: 19.661527986477395 --> Relative improvement: 0.03491640468442114\n",
      "Sigma --> [1.5371201819194966, 0.2274689909415279]\n",
      "Virial loss: 18.963330303380175 --> Relative improvement: 0.03551085569633339\n",
      "Sigma --> [1.5340823517420732, 0.2266069821048888]\n",
      "Virial loss: 18.278956898000647 --> Relative improvement: 0.036089304696524716\n",
      "Sigma --> [1.5310555521797302, 0.22575176909231856]\n",
      "Virial loss: 17.60924248564537 --> Relative improvement: 0.03663854650417875\n",
      "Sigma --> [1.5280407933759108, 0.2249032377574912]\n",
      "Virial loss: 16.955099936561528 --> Relative improvement: 0.03714768250917577\n",
      "Sigma --> [1.5250390117248422, 0.2240612796550673]\n",
      "Virial loss: 16.317436177321373 --> Relative improvement: 0.03760896495013366\n",
      "Sigma --> [1.5220510534814755, 0.22322579625718147]\n",
      "Virial loss: 15.697080191012637 --> Relative improvement: 0.038017981474990026\n",
      "Sigma --> [1.519077655145975, 0.22239670261477112]\n",
      "Virial loss: 15.094736130771661 --> Relative improvement: 0.03837300013195111\n",
      "Sigma --> [1.5161194269962386, 0.22157392986780405]\n",
      "Virial loss: 14.510965358828948 --> Relative improvement: 0.03867379773222113\n",
      "Sigma --> [1.5131768452476415, 0.22075742623134706]\n",
      "Virial loss: 13.94619161674802 --> Relative improvement: 0.03892048034814588\n",
      "Sigma --> [1.5102502556844555, 0.21994715632131864]\n",
      "Virial loss: 13.400721825839415 --> Relative improvement: 0.03911245491948845\n",
      "Sigma --> [1.5073398877829598, 0.21914309894893869]\n",
      "Virial loss: 12.874781378300556 --> Relative improvement: 0.03924717297875224\n",
      "Sigma --> [1.5044458737452515, 0.2183452437953863]\n",
      "Virial loss: 12.3685659518711 --> Relative improvement: 0.0393183706624054\n",
      "Sigma --> [1.501568261890929, 0.2175535876135703]\n",
      "Virial loss: 11.882295209223974 --> Relative improvement: 0.03931504626642368\n",
      "Sigma --> [1.4987070097710633, 0.21676813074298737]\n",
      "Virial loss: 11.416207709884217 --> Relative improvement: 0.039225376169575665\n",
      "Sigma --> [1.4958619444443269, 0.2159888747603555]\n",
      "Virial loss: 10.970391012810936 --> Relative improvement: 0.03905120758159397\n",
      "Sigma --> [1.4930326988405702, 0.21521582187169105]\n",
      "Virial loss: 10.544423023279501 --> Relative improvement: 0.038828879393086324\n",
      "Sigma --> [1.4902186799316781, 0.2144489757492078]\n",
      "Virial loss: 10.137099572394376 --> Relative improvement: 0.03862927824366058\n",
      "Sigma --> [1.4874191432034283, 0.2136883422007544]\n",
      "Virial loss: 9.746627497690193 --> Relative improvement: 0.03851911209075298\n",
      "Sigma --> [1.48463336131678, 0.21293392831711286]\n",
      "Virial loss: 9.371149936571566 --> Relative improvement: 0.038523844397214346\n",
      "Sigma --> [1.481860774474364, 0.21218574083473027]\n",
      "Virial loss: 9.00911817701969 --> Relative improvement: 0.03863258639572309\n",
      "Sigma --> [1.4791010468966312, 0.211443785184063]\n",
      "Virial loss: 8.65935857826659 --> Relative improvement: 0.0388228450199779\n",
      "Sigma --> [1.4763540466147858, 0.21070806554068003]\n",
      "Virial loss: 8.320995873865256 --> Relative improvement: 0.03907479998005425\n",
      "Sigma --> [1.473619794426298, 0.2099785853764247]\n",
      "Virial loss: 7.9933746382622415 --> Relative improvement: 0.039372839569842055\n",
      "Sigma --> [1.4708984104617286, 0.20925534804979226]\n",
      "Virial loss: 7.676019022846242 --> Relative improvement: 0.039702332216095426\n",
      "Sigma --> [1.4681900683576665, 0.20853835724739486]\n",
      "Virial loss: 7.3686209132220375 --> Relative improvement: 0.04004655391151213\n",
      "Sigma --> [1.4654949586529127, 0.20782761726042934]\n",
      "Virial loss: 7.071037392635642 --> Relative improvement: 0.040385239530021266\n",
      "Sigma --> [1.462813260773287, 0.20712313313307898]\n",
      "Virial loss: 6.783283975997909 --> Relative improvement: 0.04069465350832713\n",
      "Sigma --> [1.4601451228402083, 0.20642491070533323]\n",
      "Virial loss: 6.50551864449434 --> Relative improvement: 0.04094850407065642\n",
      "Sigma --> [1.4574906487587818, 0.2057329565375903]\n",
      "Virial loss: 6.238018202525121 --> Relative improvement: 0.041119003201321336\n",
      "Sigma --> [1.454849892118392, 0.20504727767993136]\n",
      "Virial loss: 5.981150449045362 --> Relative improvement: 0.04117778197180966\n",
      "Sigma --> [1.4522228563420938, 0.20436788124531088]\n",
      "Virial loss: 5.735343468804809 --> Relative improvement: 0.041096939850390535\n"
     ]
    },
    {
     "name": "stdout",
     "output_type": "stream",
     "text": [
      "Sigma --> [1.4496095002940537, 0.20369477375524073]\n",
      "Virial loss: 5.501049881385796 --> Relative improvement: 0.040850838087267416\n",
      "Sigma --> [1.4470097482019508, 0.2030279602373822]\n",
      "Virial loss: 5.278702179260052 --> Relative improvement: 0.04041913942247899\n",
      "Sigma --> [1.4444235022906544, 0.20236744306425136]\n",
      "Virial loss: 5.068656189012137 --> Relative improvement: 0.03979121820381959\n",
      "Sigma --> [1.4418506560745021, 0.2017132205363795]\n",
      "Virial loss: 4.87112182186251 --> Relative improvement: 0.038971743157060756\n",
      "Sigma --> [1.4392911060601474, 0.20106528523527104]\n",
      "Virial loss: 4.686082299868864 --> Relative improvement: 0.0379870446194045\n",
      "Sigma --> [1.4367447599671528, 0.20042362219981547]\n",
      "Virial loss: 4.5132060825205 --> Relative improvement: 0.036891417240623725\n",
      "Sigma --> [1.4342115407203322, 0.19978820702070105]\n",
      "Virial loss: 4.351763962448282 --> Relative improvement: 0.03577104991892088\n",
      "Sigma --> [1.4316913873927746, 0.19915900403386186]\n",
      "Virial loss: 4.200581861949822 --> Relative improvement: 0.03474041832301156\n",
      "Sigma --> [1.4291842563631845, 0.1985359649729949]\n",
      "Virial loss: 4.058083511611337 --> Relative improvement: 0.033923478942115004\n",
      "Sigma --> [1.4266901268105672, 0.19791902867870786]\n",
      "Virial loss: 3.9224775160620813 --> Relative improvement: 0.033416265377794296\n",
      "Sigma --> [1.4242090129716891, 0.19730812250577198]\n",
      "Virial loss: 3.7920751604401772 --> Relative improvement: 0.033244895627297266\n",
      "Sigma --> [1.4217409817855395, 0.19670316556586231]\n",
      "Virial loss: 3.6656092225254455 --> Relative improvement: 0.03335006099933202\n",
      "Sigma --> [1.4192861711340257, 0.19610407304824579]\n",
      "Virial loss: 3.5424017820947804 --> Relative improvement: 0.03361172262268064\n",
      "Sigma --> [1.4168448025877312, 0.19551076047903498]\n",
      "Virial loss: 3.4223676379654524 --> Relative improvement: 0.03388496040625477\n",
      "Sigma --> [1.414417182942184, 0.19492314728984902]\n",
      "Virial loss: 3.305952557482992 --> Relative improvement: 0.034015948254953465\n",
      "Sigma --> [1.412003691066288, 0.19434115952215042]\n",
      "Virial loss: 3.194052520674674 --> Relative improvement: 0.03384804677702746\n",
      "Sigma --> [1.409604751511791, 0.19376473131267638]\n",
      "Virial loss: 3.0878843500651985 --> Relative improvement: 0.0332393315145143\n",
      "Sigma --> [1.407220801643174, 0.19319380473672854]\n",
      "Virial loss: 2.988806817501647 --> Relative improvement: 0.03208589484948143\n",
      "Sigma --> [1.4048522606290337, 0.19262832812358868]\n",
      "Virial loss: 2.8981469835909595 --> Relative improvement: 0.030333119350440474\n",
      "Sigma --> [1.4024995059450622, 0.19206825353526366]\n",
      "Virial loss: 2.8170821911176542 --> Relative improvement: 0.027971249537130705\n",
      "Sigma --> [1.4001628592665654, 0.19151353417359393]\n",
      "Virial loss: 2.7465887411372782 --> Relative improvement: 0.025023568784270478\n",
      "Sigma --> [1.397842581347086, 0.1909641221850668]\n",
      "Virial loss: 2.6874430232165913 --> Relative improvement: 0.021534246112214217\n",
      "Sigma --> [1.3955388747956343, 0.19041996702309055]\n",
      "Virial loss: 2.640256506001398 --> Relative improvement: 0.01755814609186246\n",
      "Sigma --> [1.3932518935832263, 0.18988101435747706]\n",
      "Virial loss: 2.6055279001195837 --> Relative improvement: 0.013153496943526077\n",
      "Sigma --> [1.3909817578811352, 0.1893472054672845]\n",
      "Virial loss: 2.5836966735824505 --> Relative improvement: 0.008378811271271047\n",
      "Sigma --> [1.388728572246419, 0.18881847705849053]\n"
     ]
    },
    {
     "name": "stderr",
     "output_type": "stream",
     "text": [
      "\u001b[36m\u001b[1m[ \u001b[22m\u001b[39m\u001b[36m\u001b[1mInfo: \u001b[22m\u001b[39mVirial loss condition met during burn-in at step: 97\n",
      "\u001b[36m\u001b[1m[ \u001b[22m\u001b[39m\u001b[36m\u001b[1mInfo: \u001b[22m\u001b[39mFound sigma: [1.388728572246419, 0.18881847705849053] ✅\n"
     ]
    },
    {
     "name": "stdout",
     "output_type": "stream",
     "text": [
      "eps: 0.01375319888400847 --> VarE: 0.0002745093282230704\n",
      "eps: 0.014454372064846559 --> VarE: 0.0003091552714296765\n",
      "eps: 0.01519076653646779 --> VarE: 0.0003491421986265442\n",
      "eps: 0.01596403909875119 --> VarE: 0.00039541827951899814\n",
      "eps: 0.01677589807750287 --> VarE: 0.00044927037422169984\n",
      "eps: 0.017628095204371665 --> VarE: 0.0005125109236919824\n",
      "eps: 0.018522411601209078 --> VarE: 0.0005878193019190054\n",
      "eps: 0.019460633252887362 --> VarE: 0.0006791541384968005\n",
      "eps: 0.02044451156520897 --> VarE: 0.0007919879625532945\n",
      "eps: 0.021475708848091336 --> VarE: 0.0009329811702254257\n",
      "eps: 0.022555738087350844 --> VarE: 0.001108632499661213\n",
      "eps: 0.02368592196462394 --> VarE: 0.0013226793392861528\n",
      "eps: 0.024867411778524806 --> VarE: 0.0015731225032656262\n",
      "eps: 0.026101298391008675 --> VarE: 0.0018512690847370533\n",
      "eps: 0.02738878959454134 --> VarE: 0.002144511057726315\n",
      "eps: 0.02873136202791303 --> VarE: 0.0024416352800142854\n",
      "eps: 0.030130792167540773 --> VarE: 0.0027384036331656275\n",
      "eps: 0.031589008911001706 --> VarE: 0.0030409543162649676\n",
      "eps: 0.033107779550394234 --> VarE: 0.0033641916670267553\n",
      "eps: 0.03468835690726277 --> VarE: 0.00304566552126057\n",
      "eps: 0.03635597008107986 --> VarE: 0.0033582833980066117\n",
      "eps: 0.038091842283571944 --> VarE: 0.0037246802054299983\n",
      "eps: 0.03989597596130302 --> VarE: 0.00417138998580565\n",
      "eps: 0.0417668964879608 --> VarE: 0.004729734156687161\n",
      "eps: 0.04370114667969033 --> VarE: 0.00541702796996845\n",
      "eps: 0.04569355747151157 --> VarE: 0.006220390036873941\n",
      "eps: 0.0477384390540118 --> VarE: 0.007101732239777065\n",
      "eps: 0.04983089590297916 --> VarE: 0.008049204737619999\n",
      "eps: 0.051965809181506596 --> VarE: 0.009110591885424785\n",
      "eps: 0.05413470052246839 --> VarE: 0.010372463771997565\n",
      "eps: 0.05632299737810073 --> VarE: 0.011896615295888232\n",
      "eps: 0.05851050528456226 --> VarE: 0.013615525908213612\n",
      "eps: 0.06067858224298907 --> VarE: 0.015290714347173712\n",
      "eps: 0.06282166985717873 --> VarE: 0.016570437462625463\n",
      "eps: 0.06495726797354942 --> VarE: 0.017479853459981175\n",
      "eps: 0.06710441133080217 --> VarE: 0.018323144688236367\n",
      "eps: 0.0692640934416131 --> VarE: 0.01936377517041623\n",
      "eps: 0.07141892316782826 --> VarE: 0.020679748308439962\n",
      "eps: 0.07354394482165218 --> VarE: 0.022442829420088115\n",
      "eps: 0.07559879068779873 --> VarE: 0.02449838639780749\n",
      "eps: 0.07755147430497016 --> VarE: 0.026859864038875858\n",
      "eps: 0.07936695013339905 --> VarE: 0.029206400155270956\n",
      "eps: 0.08103455237705404 --> VarE: 0.03156450871074735\n",
      "eps: 0.08254231967379935 --> VarE: 0.03366422169086544\n",
      "eps: 0.08390178645118426 --> VarE: 0.035469524930142916\n",
      "eps: 0.0851298196135292 --> VarE: 0.03707368315508889\n",
      "eps: 0.08623737753536724 --> VarE: 0.03839200919659238\n",
      "eps: 0.08724425281423319 --> VarE: 0.03941475084094874\n",
      "eps: 0.08817266000991825 --> VarE: 0.04026933700167238\n",
      "eps: 0.08903482637240305 --> VarE: 0.04106861711556967\n",
      "eps: 0.08983359222887097 --> VarE: 0.041845062812816164\n",
      "eps: 0.09056917476896907 --> VarE: 0.042566884976847186\n",
      "eps: 0.09124489410114953 --> VarE: 0.04319014188118697\n",
      "eps: 0.0918683793977833 --> VarE: 0.043697151058245044\n",
      "eps: 0.09244924053271125 --> VarE: 0.044100511246663185\n",
      "eps: 0.09299625575604341 --> VarE: 0.044430103897796135\n",
      "eps: 0.09351568046645933 --> VarE: 0.04472007163131065\n",
      "eps: 0.09401074235623347 --> VarE: 0.04500002564932931\n"
     ]
    },
    {
     "name": "stderr",
     "output_type": "stream",
     "text": [
      "\u001b[36m\u001b[1m[ \u001b[22m\u001b[39m\u001b[36m\u001b[1mInfo: \u001b[22m\u001b[39mVarE condition met during eps tuning at step: 58\n",
      "\u001b[36m\u001b[1m[ \u001b[22m\u001b[39m\u001b[36m\u001b[1mInfo: \u001b[22m\u001b[39mFound eps: 0.09401074235623347 ✅\n"
     ]
    }
   ],
   "source": [
    "samples_ensemble_mchmc = Sample(MCHMC(100; varE_wanted=0.05), target, 1000, 100;\n",
    "   monitor_energy=true, \n",
    "   dialog=true);"
   ]
  },
  {
   "cell_type": "code",
   "execution_count": 13,
   "id": "197541d7",
   "metadata": {},
   "outputs": [],
   "source": [
    "Wms_ensemble_mchmc = [sample[1] for sample in samples_ensemble_mchmc]\n",
    "s8s_ensemble_mchmc = [sample[2] for sample in samples_ensemble_mchmc];"
   ]
  },
  {
   "cell_type": "code",
   "execution_count": 14,
   "id": "654b0195",
   "metadata": {},
   "outputs": [
    {
     "data": {
      "image/png": "[encoded data removed]",
      "text/plain": [
       "Figure(PyObject <Figure size 640x480 with 1 Axes>)"
      ]
     },
     "metadata": {},
     "output_type": "display_data"
    }
   ],
   "source": [
    "plt.hist2d(Wms_ensemble_mchmc, s8s_ensemble_mchmc, bins=100, range=[[0.1, 0.6],[0.6, 1.2]]);\n",
    "plt.xlabel(\"Wm\")\n",
    "plt.ylabel(\"s8\")\n",
    "plt.title(\"Ensemble MCHMC - RSD model\");"
   ]
  },
  {
   "cell_type": "markdown",
   "id": "b9b6311f",
   "metadata": {},
   "source": [
    "##  AbstractMCMC"
   ]
  },
  {
   "cell_type": "code",
   "execution_count": 15,
   "id": "d569b9dc",
   "metadata": {},
   "outputs": [
    {
     "name": "stdout",
     "output_type": "stream",
     "text": [
      "eps: 0.5 --> VarE: 0.46667312403316247\n",
      "eps: "
     ]
    },
    {
     "name": "stderr",
     "output_type": "stream",
     "text": [
      "\u001b[36m\u001b[1m[ \u001b[22m\u001b[39m\u001b[36m\u001b[1mInfo: \u001b[22m\u001b[39mTuning sigma ⏳\n",
      "\u001b[36m\u001b[1m[ \u001b[22m\u001b[39m\u001b[36m\u001b[1mInfo: \u001b[22m\u001b[39mTuning eps ⏳\n",
      "\u001b[36m\u001b[1m[ \u001b[22m\u001b[39m\u001b[36m\u001b[1mInfo: \u001b[22m\u001b[39mTuning L ⏳\n",
      "\u001b[36m\u001b[1m[ \u001b[22m\u001b[39m\u001b[36m\u001b[1mInfo: \u001b[22m\u001b[39mFound sigma: [0.4504347985296616, 0.06088870443747282] ✅\n"
     ]
    },
    {
     "name": "stdout",
     "output_type": "stream",
     "text": [
      "2.31678325468799 --> VarE: 35.575500110259505\n",
      "eps: 3.121667612187747e-14 --> VarE: 4.493865778650692e-29\n",
      "eps: 1.9068584421171717e-13 --> VarE: 8.964324380184302e-29\n",
      "eps: 1.0663994275239028e-12 --> VarE: 6.671636745016064e-28\n",
      "eps: 5.48353222108313e-12 --> VarE: 1.579500897526749e-26\n",
      "eps: 2.60326371377107e-11 --> VarE: 3.534522693368416e-25\n",
      "eps: 1.1454725745546806e-10 --> VarE: 6.837947066115523e-24\n",
      "eps: 4.688878650511751e-10 --> VarE: 1.1458840034823966e-22\n",
      "eps: 1.7918497375806148e-9 --> VarE: 1.673575432681288e-21\n",
      "eps: 6.4141389365251575e-9 --> VarE: 2.1445273067526975e-20\n",
      "eps: 2.157566548983905e-8 --> VarE: 2.4265383288276957e-19\n",
      "eps: 6.840635315308426e-8 --> VarE: 2.4393108535080625e-18\n",
      "eps: 2.0501619476222603e-7 --> VarE: 2.19126985079018e-17\n",
      "eps: 5.82413413698814e-7 --> VarE: 1.7689280442263205e-16\n",
      "eps: 1.5723885882154431e-6 --> VarE: 1.290390877197454e-15\n",
      "eps: 4.044382828435874e-6 --> VarE: 8.556180017280733e-15\n",
      "eps: 9.93423518042213e-6 --> VarE: 5.1922098894305086e-14\n",
      "eps: 2.335513220464077e-5 --> VarE: 2.8966947178655495e-13\n",
      "eps: 5.2665262050499455e-5 --> VarE: 1.4763941161228393e-12\n",
      "eps: 0.00011414141030838264 --> VarE: 1.3632907178470772e-11\n",
      "eps: 0.00023822056860073784 --> VarE: 7.966125656991719e-10\n",
      "eps: 0.0004796575929204962 --> VarE: 3.76275235872705e-8\n",
      "eps: 0.000933382100006228 --> VarE: 9.383840750496863e-7\n",
      "eps: 0.001758273952064344 --> VarE: 6.534064648324139e-6\n",
      "eps: 0.003211438843577325 --> VarE: 3.1024416168594045e-5\n",
      "eps: 0.005695747134851649 --> VarE: 6.221410922204086e-5\n",
      "eps: 0.009823391314039979 --> VarE: 0.00012034929357475607\n",
      "eps: 0.016497613470914805 --> VarE: 0.0007977296247352903\n",
      "eps: 0.027010155974941767 --> VarE: 0.002081704318276778\n",
      "eps: 0.043157888332765 --> VarE: 0.00625302320933372\n",
      "eps: 0.06733837585949427 --> VarE: 0.01529290050124791\n",
      "eps: 0.10261461360995154 --> VarE: 0.045057489274041594\n",
      "eps: 0.1522732251709626 --> VarE: 0.11742514331492901\n",
      "eps: 0.21859588919801018 --> VarE: 0.22038729043403954\n",
      "eps: 0.30257545720354023 --> VarE: 0.37014504529845194\n",
      "eps: 0.40164034114715563 --> VarE: 0.5400651620904242\n",
      "eps: 0.5112622254740086 --> VarE: 0.7772796419374507\n",
      "eps: 0.619640644448413 --> VarE: 0.7439294481136419\n",
      "eps: 0.7477049455736449 --> VarE: 1.2583904085133328\n",
      "eps: 0.8309089802526869 --> VarE: 1.3683658202203977\n",
      "eps: 0.9050612754587686 --> VarE: 1.9747887888010405\n",
      "samples: 100--> ESS: 0.17016913666624897\n"
     ]
    },
    {
     "name": "stderr",
     "output_type": "stream",
     "text": [
      "\u001b[36m\u001b[1m[ \u001b[22m\u001b[39m\u001b[36m\u001b[1mInfo: \u001b[22m\u001b[39mFound eps: 0.9050612754587686 ✅\n",
      "\u001b[36m\u001b[1m[ \u001b[22m\u001b[39m\u001b[36m\u001b[1mInfo: \u001b[22m\u001b[39mFound L: 2.1274393070086646 ✅\n",
      "\u001b[32mChain 1: 100%|██████████████████████████████████████████| Time: 0:00:00\u001b[39m\n"
     ]
    },
    {
     "data": {
      "text/plain": [
       "Chains MCMC chain (10000×4×1 Array{Float64, 3}):\n",
       "\n",
       "Iterations        = 1:1:10000\n",
       "Number of chains  = 1\n",
       "Samples per chain = 10000\n",
       "Wall duration     = 1.92 seconds\n",
       "Compute duration  = 1.92 seconds\n",
       "parameters        = Ωm, σ8\n",
       "internals         = E, logp\n",
       "\n",
       "Summary Statistics\n",
       " \u001b[1m parameters \u001b[0m \u001b[1m    mean \u001b[0m \u001b[1m     std \u001b[0m \u001b[1m naive_se \u001b[0m \u001b[1m    mcse \u001b[0m \u001b[1m       ess \u001b[0m \u001b[1m    rhat \u001b[0m \u001b[1m \u001b[0m ⋯\n",
       " \u001b[90m     Symbol \u001b[0m \u001b[90m Float64 \u001b[0m \u001b[90m Float64 \u001b[0m \u001b[90m  Float64 \u001b[0m \u001b[90m Float64 \u001b[0m \u001b[90m   Float64 \u001b[0m \u001b[90m Float64 \u001b[0m \u001b[90m \u001b[0m ⋯\n",
       "\n",
       "          Ωm    0.2390    0.0635     0.0006    0.0016   1660.4259    1.0006    ⋯\n",
       "          σ8    0.8619    0.0578     0.0006    0.0013   1960.9048    1.0004    ⋯\n",
       "\u001b[36m                                                                1 column omitted\u001b[0m\n",
       "\n",
       "Quantiles\n",
       " \u001b[1m parameters \u001b[0m \u001b[1m    2.5% \u001b[0m \u001b[1m   25.0% \u001b[0m \u001b[1m   50.0% \u001b[0m \u001b[1m   75.0% \u001b[0m \u001b[1m   97.5% \u001b[0m\n",
       " \u001b[90m     Symbol \u001b[0m \u001b[90m Float64 \u001b[0m \u001b[90m Float64 \u001b[0m \u001b[90m Float64 \u001b[0m \u001b[90m Float64 \u001b[0m \u001b[90m Float64 \u001b[0m\n",
       "\n",
       "          Ωm    0.1360    0.1950    0.2316    0.2753    0.3842\n",
       "          σ8    0.7523    0.8229    0.8607    0.8987    0.9818\n"
      ]
     },
     "execution_count": 15,
     "metadata": {},
     "output_type": "execute_result"
    }
   ],
   "source": [
    "samples = sample(\n",
    "    stat_model, MCHMC(varE_wanted=2.0), 10000;\n",
    "    monitor_energy=true, \n",
    "    dialog=true)"
   ]
  },
  {
   "cell_type": "code",
   "execution_count": 16,
   "id": "eea6e813",
   "metadata": {},
   "outputs": [
    {
     "name": "stderr",
     "output_type": "stream",
     "text": [
      "\u001b[36m\u001b[1m[ \u001b[22m\u001b[39m\u001b[36m\u001b[1mInfo: \u001b[22m\u001b[39mStarting from previous run\n",
      "\u001b[32mChain 1: 100%|██████████████████████████████████████████| Time: 0:00:00\u001b[39m\n"
     ]
    },
    {
     "data": {
      "text/plain": [
       "Chains MCMC chain (10000×4×1 Array{Float64, 3}):\n",
       "\n",
       "Iterations        = 1:1:10000\n",
       "Number of chains  = 1\n",
       "Samples per chain = 10000\n",
       "Wall duration     = 0.62 seconds\n",
       "Compute duration  = 0.62 seconds\n",
       "parameters        = Ωm, σ8\n",
       "internals         = E, logp\n",
       "\n",
       "Summary Statistics\n",
       " \u001b[1m parameters \u001b[0m \u001b[1m    mean \u001b[0m \u001b[1m     std \u001b[0m \u001b[1m naive_se \u001b[0m \u001b[1m    mcse \u001b[0m \u001b[1m       ess \u001b[0m \u001b[1m    rhat \u001b[0m \u001b[1m \u001b[0m ⋯\n",
       " \u001b[90m     Symbol \u001b[0m \u001b[90m Float64 \u001b[0m \u001b[90m Float64 \u001b[0m \u001b[90m  Float64 \u001b[0m \u001b[90m Float64 \u001b[0m \u001b[90m   Float64 \u001b[0m \u001b[90m Float64 \u001b[0m \u001b[90m \u001b[0m ⋯\n",
       "\n",
       "          Ωm    0.2388    0.0635     0.0006    0.0014   1705.7557    0.9999    ⋯\n",
       "          σ8    0.8625    0.0579     0.0006    0.0013   1873.0626    0.9999    ⋯\n",
       "\u001b[36m                                                                1 column omitted\u001b[0m\n",
       "\n",
       "Quantiles\n",
       " \u001b[1m parameters \u001b[0m \u001b[1m    2.5% \u001b[0m \u001b[1m   25.0% \u001b[0m \u001b[1m   50.0% \u001b[0m \u001b[1m   75.0% \u001b[0m \u001b[1m   97.5% \u001b[0m\n",
       " \u001b[90m     Symbol \u001b[0m \u001b[90m Float64 \u001b[0m \u001b[90m Float64 \u001b[0m \u001b[90m Float64 \u001b[0m \u001b[90m Float64 \u001b[0m \u001b[90m Float64 \u001b[0m\n",
       "\n",
       "          Ωm    0.1360    0.1931    0.2318    0.2765    0.3870\n",
       "          σ8    0.7534    0.8230    0.8606    0.8997    0.9831\n"
      ]
     },
     "execution_count": 16,
     "metadata": {},
     "output_type": "execute_result"
    }
   ],
   "source": [
    "new_samples = sample(stat_model, MCHMC(varE_wanted=2.0), 10000; \n",
    "                     monitor_energy=true, \n",
    "                     progress=true, resume_from=samples)"
   ]
  },
  {
   "cell_type": "markdown",
   "id": "f7fdb382",
   "metadata": {},
   "source": [
    "## Ensemble AbstractMCMC"
   ]
  },
  {
   "cell_type": "code",
   "execution_count": 17,
   "id": "16856966",
   "metadata": {
    "scrolled": false
   },
   "outputs": [
    {
     "name": "stderr",
     "output_type": "stream",
     "text": [
      "\u001b[36m\u001b[1m[ \u001b[22m\u001b[39m\u001b[36m\u001b[1mInfo: \u001b[22m\u001b[39mBurn-in started ⏳\n",
      "\u001b[36m\u001b[1m[ \u001b[22m\u001b[39m\u001b[36m\u001b[1mInfo: \u001b[22m\u001b[39mTuning sigma ⏳\n",
      "\u001b[36m\u001b[1m[ \u001b[22m\u001b[39m\u001b[36m\u001b[1mInfo: \u001b[22m\u001b[39mTuning eps ⏳\n",
      "\u001b[36m\u001b[1m[ \u001b[22m\u001b[39m\u001b[36m\u001b[1mInfo: \u001b[22m\u001b[39mTuning L ⏳\n",
      "\u001b[33m\u001b[1m┌ \u001b[22m\u001b[39m\u001b[33m\u001b[1mWarning: \u001b[22m\u001b[39mL-tuning not Implemented\n",
      "\u001b[33m\u001b[1m└ \u001b[22m\u001b[39m\u001b[90m@ MicroCanonicalHMC ~/PhD/MicroCanonicalHMC.jl/src/ensemble/tuning.jl:41\u001b[39m\n",
      "\u001b[36m\u001b[1m[ \u001b[22m\u001b[39m\u001b[36m\u001b[1mInfo: \u001b[22m\u001b[39mFound L: 1.4142135623730951 ✅\n",
      "\u001b[33m\u001b[1m┌ \u001b[22m\u001b[39m\u001b[33m\u001b[1mWarning: \u001b[22m\u001b[39mMaximum number of steps reached during eps tuning\n",
      "\u001b[33m\u001b[1m└ \u001b[22m\u001b[39m\u001b[90m@ MicroCanonicalHMC ~/PhD/MicroCanonicalHMC.jl/src/ensemble/tuning.jl:163\u001b[39m\n",
      "\u001b[36m\u001b[1m[ \u001b[22m\u001b[39m\u001b[36m\u001b[1mInfo: \u001b[22m\u001b[39mFound eps: 0.007776690125097311 ✅\n",
      "\u001b[36m\u001b[1m[ \u001b[22m\u001b[39m\u001b[36m\u001b[1mInfo: \u001b[22m\u001b[39mVirial loss condition met during burn-in at step: 17\n",
      "\u001b[36m\u001b[1m[ \u001b[22m\u001b[39m\u001b[36m\u001b[1mInfo: \u001b[22m\u001b[39mFound sigma: [1.6986608833848544, 0.301664966493382] ✅\n",
      "\u001b[33m\u001b[1m┌ \u001b[22m\u001b[39m\u001b[33m\u001b[1mWarning: \u001b[22m\u001b[39mMaximum number of steps reached during eps tuning\n",
      "\u001b[33m\u001b[1m└ \u001b[22m\u001b[39m\u001b[90m@ MicroCanonicalHMC ~/PhD/MicroCanonicalHMC.jl/src/ensemble/tuning.jl:214\u001b[39m\n",
      "\u001b[36m\u001b[1m[ \u001b[22m\u001b[39m\u001b[36m\u001b[1mInfo: \u001b[22m\u001b[39mFound eps: 0.01376805377716968 ✅\n",
      "\u001b[32mChain 1: 100%|██████████████████████████████████████████| Time: 0:00:02\u001b[39m\n"
     ]
    },
    {
     "data": {
      "text/plain": [
       "Chains MCMC chain (100000×4×1 Array{Float64, 3}):\n",
       "\n",
       "Iterations        = 1:1:100000\n",
       "Number of chains  = 1\n",
       "Samples per chain = 100000\n",
       "Wall duration     = 2.9 seconds\n",
       "Compute duration  = 2.9 seconds\n",
       "parameters        = Ωm, σ8\n",
       "internals         = E, logp\n",
       "\n",
       "Summary Statistics\n",
       " \u001b[1m parameters \u001b[0m \u001b[1m    mean \u001b[0m \u001b[1m     std \u001b[0m \u001b[1m naive_se \u001b[0m \u001b[1m    mcse \u001b[0m \u001b[1m      ess \u001b[0m \u001b[1m    rhat \u001b[0m \u001b[1m e\u001b[0m ⋯\n",
       " \u001b[90m     Symbol \u001b[0m \u001b[90m Float64 \u001b[0m \u001b[90m Float64 \u001b[0m \u001b[90m  Float64 \u001b[0m \u001b[90m Float64 \u001b[0m \u001b[90m  Float64 \u001b[0m \u001b[90m Float64 \u001b[0m \u001b[90m  \u001b[0m ⋯\n",
       "\n",
       "          Ωm    0.2633    0.1706     0.0005    0.0091   226.9953    1.0011     ⋯\n",
       "          σ8    0.7874    0.2910     0.0009    0.0155   227.4782    1.0000     ⋯\n",
       "\u001b[36m                                                                1 column omitted\u001b[0m\n",
       "\n",
       "Quantiles\n",
       " \u001b[1m parameters \u001b[0m \u001b[1m    2.5% \u001b[0m \u001b[1m   25.0% \u001b[0m \u001b[1m   50.0% \u001b[0m \u001b[1m   75.0% \u001b[0m \u001b[1m   97.5% \u001b[0m\n",
       " \u001b[90m     Symbol \u001b[0m \u001b[90m Float64 \u001b[0m \u001b[90m Float64 \u001b[0m \u001b[90m Float64 \u001b[0m \u001b[90m Float64 \u001b[0m \u001b[90m Float64 \u001b[0m\n",
       "\n",
       "          Ωm    0.0214    0.1208    0.2273    0.4383    0.5558\n",
       "          σ8    0.0889    0.6062    0.8141    0.9921    1.2733\n"
      ]
     },
     "execution_count": 17,
     "metadata": {},
     "output_type": "execute_result"
    }
   ],
   "source": [
    "samples = sample(stat_model, MCHMC(100), 1000, 100)"
   ]
  },
  {
   "cell_type": "code",
   "execution_count": 18,
   "id": "603dfac8",
   "metadata": {},
   "outputs": [
    {
     "name": "stderr",
     "output_type": "stream",
     "text": [
      "\u001b[36m\u001b[1m[ \u001b[22m\u001b[39m\u001b[36m\u001b[1mInfo: \u001b[22m\u001b[39mStarting from previous run\n",
      "\u001b[32mChain 1: 100%|██████████████████████████████████████████| Time: 0:00:02\u001b[39m\n"
     ]
    },
    {
     "data": {
      "text/plain": [
       "Chains MCMC chain (100000×4×1 Array{Float64, 3}):\n",
       "\n",
       "Iterations        = 1:1:100000\n",
       "Number of chains  = 1\n",
       "Samples per chain = 100000\n",
       "Wall duration     = 2.77 seconds\n",
       "Compute duration  = 2.77 seconds\n",
       "parameters        = Ωm, σ8\n",
       "internals         = E, logp\n",
       "\n",
       "Summary Statistics\n",
       " \u001b[1m parameters \u001b[0m \u001b[1m    mean \u001b[0m \u001b[1m     std \u001b[0m \u001b[1m naive_se \u001b[0m \u001b[1m    mcse \u001b[0m \u001b[1m      ess \u001b[0m \u001b[1m    rhat \u001b[0m \u001b[1m e\u001b[0m ⋯\n",
       " \u001b[90m     Symbol \u001b[0m \u001b[90m Float64 \u001b[0m \u001b[90m Float64 \u001b[0m \u001b[90m  Float64 \u001b[0m \u001b[90m Float64 \u001b[0m \u001b[90m  Float64 \u001b[0m \u001b[90m Float64 \u001b[0m \u001b[90m  \u001b[0m ⋯\n",
       "\n",
       "          Ωm    0.2424    0.0622     0.0002    0.0033   227.0401    1.0212     ⋯\n",
       "          σ8    0.8603    0.0612     0.0002    0.0032   229.9280    1.0193     ⋯\n",
       "\u001b[36m                                                                1 column omitted\u001b[0m\n",
       "\n",
       "Quantiles\n",
       " \u001b[1m parameters \u001b[0m \u001b[1m    2.5% \u001b[0m \u001b[1m   25.0% \u001b[0m \u001b[1m   50.0% \u001b[0m \u001b[1m   75.0% \u001b[0m \u001b[1m   97.5% \u001b[0m\n",
       " \u001b[90m     Symbol \u001b[0m \u001b[90m Float64 \u001b[0m \u001b[90m Float64 \u001b[0m \u001b[90m Float64 \u001b[0m \u001b[90m Float64 \u001b[0m \u001b[90m Float64 \u001b[0m\n",
       "\n",
       "          Ωm    0.1304    0.2055    0.2343    0.2751    0.3799\n",
       "          σ8    0.7595    0.8201    0.8521    0.8941    0.9780\n"
      ]
     },
     "execution_count": 18,
     "metadata": {},
     "output_type": "execute_result"
    }
   ],
   "source": [
    "new_samples = sample(stat_model, MCHMC(100), 1000, 100; \n",
    "                     resume_from=samples)"
   ]
  },
  {
   "cell_type": "markdown",
   "id": "767048c5",
   "metadata": {},
   "source": [
    "## Parallelization"
   ]
  },
  {
   "cell_type": "code",
   "execution_count": 19,
   "id": "42cf1f7f",
   "metadata": {
    "scrolled": true
   },
   "outputs": [
    {
     "name": "stdout",
     "output_type": "stream",
     "text": [
      "eps: 0.5 --> VarE: 0.7555170009334423\n",
      "eps: 0.5 --> VarE: 1.3757134143456438\n",
      "eps: 0.5 --> VarE: 0.7349312261174668\n",
      "eps: 0.5 --> VarE: 2.188517293452103\n",
      "eps: 1.735569876432059 --> VarE: 16.27183553686854\n",
      "eps: 1.7716682083659774 --> VarE: 17.914275957929746\n",
      "eps: "
     ]
    },
    {
     "name": "stderr",
     "output_type": "stream",
     "text": [
      "\u001b[36m\u001b[1m[ \u001b[22m\u001b[39m\u001b[36m\u001b[1mInfo: \u001b[22m\u001b[39mTuning sigma ⏳\n",
      "\u001b[36m\u001b[1m[ \u001b[22m\u001b[39m\u001b[36m\u001b[1mInfo: \u001b[22m\u001b[39mTuning sigma ⏳\n",
      "\u001b[36m\u001b[1m[ \u001b[22m\u001b[39m\u001b[36m\u001b[1mInfo: \u001b[22m\u001b[39mTuning sigma ⏳\n",
      "\u001b[36m\u001b[1m[ \u001b[22m\u001b[39m\u001b[36m\u001b[1mInfo: \u001b[22m\u001b[39mTuning sigma ⏳\n",
      "\u001b[36m\u001b[1m[ \u001b[22m\u001b[39m\u001b[36m\u001b[1mInfo: \u001b[22m\u001b[39mTuning eps ⏳\n",
      "\u001b[36m\u001b[1m[ \u001b[22m\u001b[39m\u001b[36m\u001b[1mInfo: \u001b[22m\u001b[39mTuning eps ⏳\n",
      "\u001b[36m\u001b[1m[ \u001b[22m\u001b[39m\u001b[36m\u001b[1mInfo: \u001b[22m\u001b[39mTuning eps ⏳\n",
      "\u001b[36m\u001b[1m[ \u001b[22m\u001b[39m\u001b[36m\u001b[1mInfo: \u001b[22m\u001b[39mTuning L ⏳\n",
      "\u001b[36m\u001b[1m[ \u001b[22m\u001b[39m\u001b[36m\u001b[1mInfo: \u001b[22m\u001b[39mTuning L ⏳\n",
      "\u001b[36m\u001b[1m[ \u001b[22m\u001b[39m\u001b[36m\u001b[1mInfo: \u001b[22m\u001b[39mTuning eps ⏳\n",
      "\u001b[36m\u001b[1m[ \u001b[22m\u001b[39m\u001b[36m\u001b[1mInfo: \u001b[22m\u001b[39mTuning L ⏳\n",
      "\u001b[36m\u001b[1m[ \u001b[22m\u001b[39m\u001b[36m\u001b[1mInfo: \u001b[22m\u001b[39mTuning L ⏳\n",
      "\u001b[36m\u001b[1m[ \u001b[22m\u001b[39m\u001b[36m\u001b[1mInfo: \u001b[22m\u001b[39mFound sigma: [0.45043479852953816, 0.06088870443747054] ✅\n",
      "\u001b[36m\u001b[1m[ \u001b[22m\u001b[39m\u001b[36m\u001b[1mInfo: \u001b[22m\u001b[39mFound sigma: [0.45043479852953816, 0.06088870443747054] ✅\n",
      "\u001b[36m\u001b[1m[ \u001b[22m\u001b[39m\u001b[36m\u001b[1mInfo: \u001b[22m\u001b[39mFound sigma: [0.45043479852953816, 0.06088870443747054] ✅\n",
      "\u001b[36m\u001b[1m[ \u001b[22m\u001b[39m\u001b[36m\u001b[1mInfo: \u001b[22m\u001b[39mFound sigma: [0.45043479852953816, 0.06088870443747054] ✅\n"
     ]
    },
    {
     "name": "stdout",
     "output_type": "stream",
     "text": [
      "0.9334567996416088 --> VarE: 2.954229489774732\n",
      "eps: 0.41409309055837284 --> VarE: 1.6270514504602227\n",
      "eps: 2.2057254833275855e-6 --> VarE: 8.579000215417691e-14\n",
      "eps: 4.7203817873365297e-7 --> VarE: 2.9328096630406526e-15\n",
      "eps: 0.37660749420874096 --> VarE: 0.9299245231040707\n",
      "eps: 0.5904296186494937 --> VarE: 2.5239243136966176\n",
      "eps: 1.3473587778707089e-5 --> VarE: 8.630513192728364e-12\n",
      "eps: 2.883426738342128e-6 --> VarE: 1.0944388400287767e-13\n",
      "eps: 0.3675223436549081 --> VarE: 1.554616937329452\n",
      "eps: 0.9917269796671905 --> VarE: 3.8055965659312014\n",
      "eps: 7.5350251368668e-5 --> VarE: 1.165280626621905e-8\n",
      "eps: 1.612539533695457e-5 --> VarE: 3.421803226527089e-12\n",
      "eps: 0.5392228145052301 --> VarE: 2.210339301711377\n",
      "eps: 0.20963260127627126 --> VarE: 0.5215298375713595\n",
      "eps: 0.0003874585044219196 --> VarE: 5.96436436129975e-6\n",
      "eps: 8.291839120071567e-5 --> VarE: 9.760758726525349e-11\n",
      "eps: 0.4539184768822776 --> VarE: 1.9813472596331594\n",
      "samples: 100--> ESS: 0.0943444183748312\n",
      "samples: 203--> ESS: 0.09559734171199595\n",
      "eps: 0.7033294878537081 --> VarE: 1.9225846320888693\n",
      "eps: 0.0018394201752368784 --> VarE: 4.38169821340099e-5\n",
      "samples: 100--> ESS: 0.0686068307787708\n",
      "samples: 203--> ESS: 0.0805868773346448\n",
      "eps: 0.0003936485285355927 --> VarE: 2.897842381038677e-8\n"
     ]
    },
    {
     "name": "stderr",
     "output_type": "stream",
     "text": [
      "\u001b[36m\u001b[1m[ \u001b[22m\u001b[39m\u001b[36m\u001b[1mInfo: \u001b[22m\u001b[39mFound eps: 0.4539184768822776 ✅\n",
      "\u001b[36m\u001b[1m[ \u001b[22m\u001b[39m\u001b[36m\u001b[1mInfo: \u001b[22m\u001b[39mFound L: 1.899293301480236 ✅\n",
      "\u001b[36m\u001b[1m[ \u001b[22m\u001b[39m\u001b[36m\u001b[1mInfo: \u001b[22m\u001b[39mFound eps: 0.7033294878537081 ✅\n",
      "\u001b[36m\u001b[1m[ \u001b[22m\u001b[39m\u001b[36m\u001b[1mInfo: \u001b[22m\u001b[39mFound L: 3.491037305903116 ✅\n"
     ]
    },
    {
     "name": "stdout",
     "output_type": "stream",
     "text": [
      "eps: 0.00809344423887798 --> VarE: 0.0007682267808514564\n",
      "eps: 0.0017321087425216694 --> VarE: 1.097276328829455e-5\n",
      "eps: 0.033111782967399576 --> VarE: 0.007543428709153946\n",
      "eps: 0.007090160938112603 --> VarE: 0.0002048676641007537\n",
      "eps: 0.12589809130329438 --> VarE: 0.08473319864669385\n",
      "eps: 0.02709125019629904 --> VarE: 0.0032128827099631497\n",
      "eps: 0.4269644740948059 --> VarE: 0.5699782610024481\n",
      "eps: 0.09677788268783487 --> VarE: 0.031137962299980865\n",
      "eps: 1.0164310903603855 --> VarE: 3.014609780669306\n",
      "eps: 0.3194477341834104 --> VarE: 0.46372195689572376\n",
      "eps: 0.5660451917609632 --> VarE: 0.76167072019268\n",
      "eps: 0.7750666299727796 --> VarE: 1.1152169002443169\n",
      "eps: 1.1168677976056718 --> VarE: 4.083209131543652\n",
      "eps: 1.2595732604301568 --> VarE: 5.564832268998878\n",
      "eps: 0.3764378301939392 --> VarE: 0.5358400941976881\n",
      "eps: 0.1958839965128497 --> VarE: 0.18469231573661962\n",
      "eps: 0.7788614700586571 --> VarE: 1.367144792044684\n",
      "eps: 0.4824984688248586 --> VarE: 0.6603963202158726\n",
      "eps: 1.0502387860122397 --> VarE: 3.149585670213934\n",
      "eps: 0.9084698671687734 --> VarE: 1.8981866449712455\n",
      "eps: 0.6265513248876591 --> VarE: 0.9708260452679542\n",
      "eps: 0.9509955744517311 --> VarE: 1.9387053724405874\n",
      "samples: 100--> ESS: 0.20430311435313858\n",
      "eps: 0.9727382279924618 --> VarE: 2.229674554781915\n",
      "eps: 0.8860171476473775 --> VarE: 1.7337899912749595\n"
     ]
    },
    {
     "name": "stderr",
     "output_type": "stream",
     "text": [
      "\u001b[36m\u001b[1m[ \u001b[22m\u001b[39m\u001b[36m\u001b[1mInfo: \u001b[22m\u001b[39mFound eps: 0.9509955744517311 ✅\n",
      "\u001b[36m\u001b[1m[ \u001b[22m\u001b[39m\u001b[36m\u001b[1mInfo: \u001b[22m\u001b[39mFound L: 1.8619306464568766 ✅\n"
     ]
    },
    {
     "name": "stdout",
     "output_type": "stream",
     "text": [
      "eps: 0.9820975442483023 --> VarE: 2.4946781681664483\n",
      "eps: 0.818692624530768 --> VarE: 1.2000651112887657\n",
      "eps: 1.0831579941214213 --> VarE: 3.791646035183065\n",
      "eps: 0.5966012484229983 --> VarE: 0.7189931410323159\n",
      "eps: 0.895035012854284 --> VarE: 1.8719630234663296\n",
      "eps: 0.9302253180350751 --> VarE: 1.9306296671834293\n",
      "samples: 100--> ESS: 0.20521564849138368\n"
     ]
    },
    {
     "name": "stderr",
     "output_type": "stream",
     "text": [
      "\u001b[36m\u001b[1m[ \u001b[22m\u001b[39m\u001b[36m\u001b[1mInfo: \u001b[22m\u001b[39mFound eps: 0.9302253180350751 ✅\n",
      "\u001b[36m\u001b[1m[ \u001b[22m\u001b[39m\u001b[36m\u001b[1mInfo: \u001b[22m\u001b[39mFound L: 1.813166441981411 ✅\n",
      "\u001b[36mchain 1:   5%|██▏                                       |  ETA: 0:00:02\u001b[39m\n",
      "\u001b[35mchain 3:   6%|██▎                                       |  ETA: 0:00:02\u001b[39m\n",
      "\u001b[32mchain 2:   6%|██▎                                       |  ETA: 0:00:02\u001b[39m\n",
      "\u001b[34mchain 4:   6%|██▌                                       |  ETA: 0:00:02\u001b[39m\n",
      "\n",
      "\n",
      "\u001b[36mchain 1:  11%|████▋                                     |  ETA: 0:00:02\u001b[39m\n",
      "\n",
      "\u001b[35mchain 3:  12%|█████                                     |  ETA: 0:00:02\u001b[39m\n",
      "\u001b[32mchain 2:  12%|█████                                     |  ETA: 0:00:02\u001b[39m\n",
      "\u001b[34mchain 4:  13%|█████▌                                    |  ETA: 0:00:01\u001b[39m\n",
      "\n",
      "\u001b[36mchain 1:  16%|██████▉                                   |  ETA: 0:00:02\u001b[39m\n",
      "\u001b[35mchain 3:  18%|███████▊                                  |  ETA: 0:00:01\u001b[39m\n",
      "\u001b[32mchain 2:  18%|███████▊                                  |  ETA: 0:00:01\u001b[39m\n",
      "\u001b[34mchain 4:  20%|████████▎                                 |  ETA: 0:00:01\u001b[39m\n",
      "\n",
      "\u001b[36mchain 1:  22%|█████████▎                                |  ETA: 0:00:02\u001b[39m\n",
      "\u001b[35mchain 3:  25%|██████████▌                               |  ETA: 0:00:01\u001b[39m\n",
      "\u001b[34mchain 4:  26%|██████████▉                               |  ETA: 0:00:01\u001b[39m\n",
      "\u001b[32mchain 2:  25%|██████████▌                               |  ETA: 0:00:01\u001b[39m\n",
      "\u001b[36mchain 1:  28%|███████████▌                              |  ETA: 0:00:01\u001b[39m\n",
      "\u001b[35mchain 3:  32%|█████████████▎                            |  ETA: 0:00:01\u001b[39m\n",
      "\u001b[34mchain 4:  32%|█████████████▋                            |  ETA: 0:00:01\u001b[39m\n",
      "\u001b[32mchain 2:  32%|█████████████▎                            |  ETA: 0:00:01\u001b[39m\n",
      "\u001b[36mchain 1:  33%|█████████████▉                            |  ETA: 0:00:01\u001b[39m\n",
      "\n",
      "\u001b[34mchain 4:  39%|████████████████▍                         |  ETA: 0:00:01\u001b[39m\n",
      "\u001b[32mchain 2:  38%|████████████████                          |  ETA: 0:00:01\u001b[39m\n",
      "\u001b[35mchain 3:  38%|████████████████                          |  ETA: 0:00:01\u001b[39m\n",
      "\u001b[36mchain 1:  38%|████████████████▏                         |  ETA: 0:00:01\u001b[39m\n",
      "\n",
      "\n",
      "\u001b[32mchain 2:  44%|██████████████████▊                       |  ETA: 0:00:01\u001b[39m\n",
      "\u001b[34mchain 4:  46%|███████████████████▍                      |  ETA: 0:00:01\u001b[39m\n",
      "\u001b[35mchain 3:  44%|██████████████████▊                       |  ETA: 0:00:01\u001b[39m\n",
      "\u001b[36mchain 1:  44%|██████████████████▌                       |  ETA: 0:00:01\u001b[39m\n",
      "\n",
      "\n",
      "\n",
      "\u001b[32mchain 2:  51%|█████████████████████▍                    |  ETA: 0:00:01\u001b[39m\n",
      "\u001b[34mchain 4:  52%|██████████████████████                    |  ETA: 0:00:01\u001b[39m\n",
      "\u001b[35mchain 3:  51%|█████████████████████▍                    |  ETA: 0:00:01\u001b[39m\n",
      "\u001b[36mchain 1:  50%|████████████████████▊                     |  ETA: 0:00:01\u001b[39m\n",
      "\u001b[32mchain 2:  58%|████████████████████████▏                 |  ETA: 0:00:01\u001b[39m\n",
      "\u001b[34mchain 4:  59%|████████████████████████▊                 |  ETA: 0:00:01\u001b[39m\n",
      "\u001b[35mchain 3:  58%|████████████████████████▏                 |  ETA: 0:00:01\u001b[39m\n",
      "\n",
      "\u001b[36mchain 1:  56%|███████████████████████▎                  |  ETA: 0:00:01\u001b[39m\n",
      "\u001b[32mchain 2:  64%|██████████████████████████▋               |  ETA: 0:00:01\u001b[39m\n",
      "\u001b[34mchain 4:  66%|███████████████████████████▌              |  ETA: 0:00:01\u001b[39m\n",
      "\n",
      "\u001b[35mchain 3:  64%|██████████████████████████▉               |  ETA: 0:00:01\u001b[39m\n",
      "\n",
      "\u001b[36mchain 1:  61%|█████████████████████████▋                |  ETA: 0:00:01\u001b[39m\n",
      "\n",
      "\u001b[32mchain 2:  69%|█████████████████████████████             |  ETA: 0:00:01\u001b[39m\n",
      "\u001b[34mchain 4:  72%|██████████████████████████████            |  ETA: 0:00:00\u001b[39m\n",
      "\u001b[35mchain 3:  70%|█████████████████████████████▍            |  ETA: 0:00:01\u001b[39m\n",
      "\u001b[36mchain 1:  66%|███████████████████████████▊              |  ETA: 0:00:01\u001b[39m\n",
      "\n",
      "\u001b[32mchain 2:  75%|███████████████████████████████▌          |  ETA: 0:00:00\u001b[39m\n",
      "\u001b[34mchain 4:  78%|████████████████████████████████▌         |  ETA: 0:00:00\u001b[39m\n",
      "\u001b[35mchain 3:  76%|███████████████████████████████▉          |  ETA: 0:00:00\u001b[39m\n",
      "\u001b[36mchain 1:  71%|█████████████████████████████▉            |  ETA: 0:00:01\u001b[39m\n",
      "\n",
      "\u001b[34mchain 4:  84%|███████████████████████████████████▏      |  ETA: 0:00:00\u001b[39m\n",
      "\u001b[32mchain 2:  81%|██████████████████████████████████        |  ETA: 0:00:00\u001b[39m\n",
      "\u001b[35mchain 3:  82%|██████████████████████████████████▌       |  ETA: 0:00:00\u001b[39m\n",
      "\n",
      "\u001b[36mchain 1:  76%|████████████████████████████████▏         |  ETA: 0:00:00\u001b[39m\n",
      "\u001b[34mchain 4:  90%|█████████████████████████████████████▊    |  ETA: 0:00:00\u001b[39m\n",
      "\u001b[32mchain 2:  87%|████████████████████████████████████▌     |  ETA: 0:00:00\u001b[39m\n",
      "\u001b[35mchain 3:  88%|█████████████████████████████████████     |  ETA: 0:00:00\u001b[39m\n",
      "\n",
      "\u001b[34mchain 4:  96%|████████████████████████████████████████▍ |  ETA: 0:00:00\u001b[39m\n",
      "\u001b[36mchain 1:  82%|██████████████████████████████████▋       |  ETA: 0:00:00\u001b[39m\n",
      "\u001b[32mchain 2:  93%|███████████████████████████████████████   |  ETA: 0:00:00\u001b[39m\n",
      "\u001b[34mchain 4: 100%|██████████████████████████████████████████| Time: 0:00:01\u001b[39m\n",
      "\n",
      "\n",
      "\u001b[32mchain 2:  98%|█████████████████████████████████████████▍|  ETA: 0:00:00\u001b[39m\n",
      "\u001b[36mchain 1:  88%|█████████████████████████████████████     |  ETA: 0:00:00\u001b[39m\n",
      "\u001b[35mchain 3: 100%|██████████████████████████████████████████| Time: 0:00:01\u001b[39m\n",
      "\u001b[32mchain 2: 100%|██████████████████████████████████████████| Time: 0:00:01\u001b[39m\n",
      "\u001b[36mchain 1: 100%|██████████████████████████████████████████| Time: 0:00:01\u001b[39m\n"
     ]
    },
    {
     "data": {
      "text/plain": [
       "4-element Vector{Chains}:\n",
       " MCMC chain (30000×4×1 Array{Float64, 3})\n",
       " MCMC chain (30000×4×1 Array{Float64, 3})\n",
       " MCMC chain (30000×4×1 Array{Float64, 3})\n",
       " MCMC chain (30000×4×1 Array{Float64, 3})"
      ]
     },
     "execution_count": 19,
     "metadata": {},
     "output_type": "execute_result"
    }
   ],
   "source": [
    "samples = sample(\n",
    "    stat_model, MCHMC(varE_wanted=2.0), MCMCThreads(), 30000, 4;\n",
    "    monitor_energy=true, \n",
    "    dialog=true)"
   ]
  },
  {
   "cell_type": "code",
   "execution_count": 20,
   "id": "2e8cd8ab",
   "metadata": {
    "scrolled": false
   },
   "outputs": [
    {
     "name": "stderr",
     "output_type": "stream",
     "text": [
      "\u001b[36m\u001b[1m[ \u001b[22m\u001b[39m\u001b[36m\u001b[1mInfo: \u001b[22m\u001b[39mStarting from previous run\n",
      "\u001b[32mchain 1:  10%|████▍                                     |  ETA: 0:00:02\u001b[39m\n",
      "\u001b[34mchain 4:  10%|████▍                                     |  ETA: 0:00:02\u001b[39m\n",
      "\u001b[35mchain 3:  10%|████▍                                     |  ETA: 0:00:02\u001b[39m\n",
      "\n",
      "\n",
      "\u001b[36mchain 2:  10%|████▍                                     |  ETA: 0:00:02\u001b[39m\n",
      "\n",
      "\n",
      "\u001b[32mchain 1:  16%|██████▉                                   |  ETA: 0:00:01\u001b[39m\n",
      "\u001b[34mchain 4:  17%|███████▏                                  |  ETA: 0:00:01\u001b[39m\n",
      "\u001b[35mchain 3:  17%|███████▏                                  |  ETA: 0:00:01\u001b[39m\n",
      "\n",
      "\u001b[36mchain 2:  16%|██████▊                                   |  ETA: 0:00:02\u001b[39m\n",
      "\n",
      "\u001b[35mchain 3:  23%|█████████▋                                |  ETA: 0:00:01\u001b[39m\n",
      "\n",
      "\u001b[34mchain 4:  24%|█████████▉                                |  ETA: 0:00:01\u001b[39m\u001b[32mchain 1:  23%|█████████▋                                |  ETA: 0:00:01\u001b[39m\n",
      "\u001b[36mchain 2:  22%|█████████                                 |  ETA: 0:00:01\u001b[39m\n",
      "\n",
      "\u001b[35mchain 3:  30%|████████████▍                             |  ETA: 0:00:01\u001b[39m\n",
      "\u001b[34mchain 4:  30%|████████████▋                             |  ETA: 0:00:01\u001b[39m\n",
      "\u001b[32mchain 1:  30%|████████████▍                             |  ETA: 0:00:01\u001b[39m\n",
      "\u001b[36mchain 2:  27%|███████████▍                              |  ETA: 0:00:01\u001b[39m\n",
      "\u001b[35mchain 3:  36%|███████████████▏                          |  ETA: 0:00:01\u001b[39m\n",
      "\n",
      "\u001b[34mchain 4:  36%|███████████████▍                          |  ETA: 0:00:01\u001b[39m\n",
      "\u001b[32mchain 1:  36%|███████████████▏                          |  ETA: 0:00:01\u001b[39m\n",
      "\n",
      "\u001b[36mchain 2:  33%|█████████████▉                            |  ETA: 0:00:01\u001b[39m\n",
      "\u001b[35mchain 3:  42%|█████████████████▉                        |  ETA: 0:00:01\u001b[39m\n",
      "\u001b[34mchain 4:  43%|██████████████████                        |  ETA: 0:00:01\u001b[39m\n",
      "\u001b[32mchain 1:  42%|█████████████████▉                        |  ETA: 0:00:01\u001b[39m\n",
      "\u001b[36mchain 2:  38%|████████████████▏                         |  ETA: 0:00:01\u001b[39m\n",
      "\n",
      "\u001b[35mchain 3:  48%|████████████████████▍                     |  ETA: 0:00:01\u001b[39m\n",
      "\u001b[32mchain 1:  49%|████████████████████▋                     |  ETA: 0:00:01\u001b[39m\n",
      "\u001b[34mchain 4:  50%|████████████████████▊                     |  ETA: 0:00:01\u001b[39m\n",
      "\u001b[36mchain 2:  44%|██████████████████▌                       |  ETA: 0:00:01\u001b[39m\n",
      "\u001b[35mchain 3:  55%|███████████████████████▏                  |  ETA: 0:00:01\u001b[39m\n",
      "\u001b[34mchain 4:  56%|███████████████████████▎                  |  ETA: 0:00:01\u001b[39m\n",
      "\n",
      "\u001b[32mchain 1:  56%|███████████████████████▎                  |  ETA: 0:00:01\u001b[39m\n",
      "\u001b[36mchain 2:  50%|████████████████████▊                     |  ETA: 0:00:01\u001b[39m\n",
      "\u001b[35mchain 3:  61%|█████████████████████████▋                |  ETA: 0:00:01\u001b[39m\n",
      "\u001b[34mchain 4:  62%|█████████████████████████▉                |  ETA: 0:00:01\u001b[39m\n",
      "\n",
      "\u001b[32mchain 1:  62%|█████████████████████████▉                |  ETA: 0:00:01\u001b[39m\n",
      "\u001b[36mchain 2:  56%|███████████████████████▎                  |  ETA: 0:00:01\u001b[39m\n",
      "\u001b[34mchain 4:  68%|████████████████████████████▍             |  ETA: 0:00:01\u001b[39m\n",
      "\u001b[35mchain 3:  68%|████████████████████████████▍             |  ETA: 0:00:01\u001b[39m\n",
      "\u001b[32mchain 1:  68%|████████████████████████████▍             |  ETA: 0:00:01\u001b[39m\n",
      "\u001b[36mchain 2:  61%|█████████████████████████▋                |  ETA: 0:00:01\u001b[39m\n",
      "\u001b[34mchain 4:  74%|██████████████████████████████▉           |  ETA: 0:00:00\u001b[39m\n",
      "\n",
      "\u001b[35mchain 3:  74%|███████████████████████████████▏          |  ETA: 0:00:00\u001b[39m\n",
      "\u001b[32mchain 1:  74%|██████████████████████████████▉           |  ETA: 0:00:00\u001b[39m\n",
      "\u001b[36mchain 2:  66%|███████████████████████████▉              |  ETA: 0:00:01\u001b[39m\n",
      "\u001b[34mchain 4:  80%|█████████████████████████████████▍        |  ETA: 0:00:00\u001b[39m\n",
      "\u001b[35mchain 3:  80%|█████████████████████████████████▋        |  ETA: 0:00:00\u001b[39m\n",
      "\n",
      "\u001b[36mchain 2:  72%|██████████████████████████████▎           |  ETA: 0:00:01\u001b[39m\n",
      "\u001b[32mchain 1:  81%|██████████████████████████████████        |  ETA: 0:00:00\u001b[39m\n",
      "\u001b[34mchain 4:  86%|████████████████████████████████████▏     |  ETA: 0:00:00\u001b[39m\n",
      "\n",
      "\u001b[35mchain 3:  86%|████████████████████████████████████▍     |  ETA: 0:00:00\u001b[39m\n",
      "\u001b[36mchain 2:  78%|████████████████████████████████▌         |  ETA: 0:00:00\u001b[39m\n",
      "\n",
      "\u001b[32mchain 1:  88%|████████████████████████████████████▊     |  ETA: 0:00:00\u001b[39m\n",
      "\u001b[34mchain 4:  92%|██████████████████████████████████████▉   |  ETA: 0:00:00\u001b[39m\n",
      "\n",
      "\u001b[35mchain 3:  93%|███████████████████████████████████████   |  ETA: 0:00:00\u001b[39m\n",
      "\u001b[36mchain 2:  83%|██████████████████████████████████▉       |  ETA: 0:00:00\u001b[39m\n",
      "\u001b[32mchain 1:  94%|███████████████████████████████████████▌  |  ETA: 0:00:00\u001b[39m\n",
      "\u001b[34mchain 4: 100%|██████████████████████████████████████████| Time: 0:00:01\u001b[39m\n",
      "\u001b[35mchain 3: 100%|██████████████████████████████████████████| Time: 0:00:01\u001b[39m\n",
      "\u001b[32mchain 1: 100%|██████████████████████████████████████████| Time: 0:00:01\u001b[39m\n",
      "\u001b[36mchain 2: 100%|██████████████████████████████████████████| Time: 0:00:01\u001b[39m\n"
     ]
    },
    {
     "data": {
      "text/plain": [
       "4-element Vector{Chains}:\n",
       " MCMC chain (30000×4×1 Array{Float64, 3})\n",
       " MCMC chain (30000×4×1 Array{Float64, 3})\n",
       " MCMC chain (30000×4×1 Array{Float64, 3})\n",
       " MCMC chain (30000×4×1 Array{Float64, 3})"
      ]
     },
     "execution_count": 20,
     "metadata": {},
     "output_type": "execute_result"
    }
   ],
   "source": [
    "new_samples = sample(\n",
    "    stat_model, MCHMC(varE_wanted=2.0), MCMCThreads(), 30000, 4;\n",
    "    monitor_energy=true, \n",
    "    dialog=true, \n",
    "    resume_from=samples)"
   ]
  },
  {
   "cell_type": "markdown",
   "id": "4aadd3b5",
   "metadata": {},
   "source": [
    "## NUTS"
   ]
  },
  {
   "cell_type": "code",
   "execution_count": 21,
   "id": "dcbe40a3",
   "metadata": {},
   "outputs": [
    {
     "name": "stderr",
     "output_type": "stream",
     "text": [
      "\u001b[36m\u001b[1m┌ \u001b[22m\u001b[39m\u001b[36m\u001b[1mInfo: \u001b[22m\u001b[39mFound initial step size\n",
      "\u001b[36m\u001b[1m└ \u001b[22m\u001b[39m  ϵ = 0.05\n",
      "\u001b[32mSampling: 100%|█████████████████████████████████████████| Time: 0:00:05\u001b[39m\n"
     ]
    },
    {
     "data": {
      "text/plain": [
       "Chains MCMC chain (10000×14×1 Array{Float64, 3}):\n",
       "\n",
       "Iterations        = 11:1:10010\n",
       "Number of chains  = 1\n",
       "Samples per chain = 10000\n",
       "Wall duration     = 8.62 seconds\n",
       "Compute duration  = 8.62 seconds\n",
       "parameters        = Ωm, σ8\n",
       "internals         = lp, n_steps, is_accept, acceptance_rate, log_density, hamiltonian_energy, hamiltonian_energy_error, max_hamiltonian_energy_error, tree_depth, numerical_error, step_size, nom_step_size\n",
       "\n",
       "Summary Statistics\n",
       " \u001b[1m parameters \u001b[0m \u001b[1m    mean \u001b[0m \u001b[1m     std \u001b[0m \u001b[1m naive_se \u001b[0m \u001b[1m    mcse \u001b[0m \u001b[1m       ess \u001b[0m \u001b[1m    rhat \u001b[0m \u001b[1m \u001b[0m ⋯\n",
       " \u001b[90m     Symbol \u001b[0m \u001b[90m Float64 \u001b[0m \u001b[90m Float64 \u001b[0m \u001b[90m  Float64 \u001b[0m \u001b[90m Float64 \u001b[0m \u001b[90m   Float64 \u001b[0m \u001b[90m Float64 \u001b[0m \u001b[90m \u001b[0m ⋯\n",
       "\n",
       "          Ωm    0.2336    0.0629     0.0006    0.0016   1628.8842    1.0003    ⋯\n",
       "          σ8    0.8678    0.0606     0.0006    0.0013   2523.3907    0.9999    ⋯\n",
       "\u001b[36m                                                                1 column omitted\u001b[0m\n",
       "\n",
       "Quantiles\n",
       " \u001b[1m parameters \u001b[0m \u001b[1m    2.5% \u001b[0m \u001b[1m   25.0% \u001b[0m \u001b[1m   50.0% \u001b[0m \u001b[1m   75.0% \u001b[0m \u001b[1m   97.5% \u001b[0m\n",
       " \u001b[90m     Symbol \u001b[0m \u001b[90m Float64 \u001b[0m \u001b[90m Float64 \u001b[0m \u001b[90m Float64 \u001b[0m \u001b[90m Float64 \u001b[0m \u001b[90m Float64 \u001b[0m\n",
       "\n",
       "          Ωm    0.1314    0.1879    0.2263    0.2713    0.3794\n",
       "          σ8    0.7569    0.8263    0.8650    0.9068    0.9953\n"
      ]
     },
     "execution_count": 21,
     "metadata": {},
     "output_type": "execute_result"
    }
   ],
   "source": [
    "samples_hmc = sample(stat_model, NUTS(10, 0.65),\n",
    "                     10000, progress=true; save_state=true)"
   ]
  },
  {
   "cell_type": "code",
   "execution_count": 22,
   "id": "623ba990",
   "metadata": {},
   "outputs": [
    {
     "data": {
      "text/plain": [
       "3-dimensional AxisArray{Float64,3,...} with axes:\n",
       "    :iter, 11:1:10010\n",
       "    :var, [:Ωm, :σ8, :lp, :n_steps, :is_accept, :acceptance_rate, :log_density, :hamiltonian_energy, :hamiltonian_energy_error, :max_hamiltonian_energy_error, :tree_depth, :numerical_error, :step_size, :nom_step_size]\n",
       "    :chain, 1:1\n",
       "And data, a 10000×14×1 Array{Float64, 3}:\n",
       "[:, :, 1] =\n",
       " 0.22113   0.899928  15.96    17.0  1.0  …  4.0  0.0  0.0672787  0.0672787\n",
       " 0.271346  0.791448  15.3697  13.0  1.0     3.0  0.0  0.0672787  0.0672787\n",
       " 0.209816  0.877654  16.2896  15.0  1.0     3.0  0.0  0.0672787  0.0672787\n",
       " 0.242236  0.842272  16.233   15.0  1.0     3.0  0.0  0.0672787  0.0672787\n",
       " 0.172794  0.897499  15.7988  23.0  1.0     4.0  0.0  0.0672787  0.0672787\n",
       " 0.161705  0.87688   14.8523  15.0  1.0  …  4.0  0.0  0.0672787  0.0672787\n",
       " 0.143067  0.902205  14.2767   5.0  1.0     2.0  0.0  0.0672787  0.0672787\n",
       " 0.143067  0.902205  14.2767   1.0  1.0     1.0  0.0  0.0672787  0.0672787\n",
       " 0.152664  0.940675  15.3771   7.0  1.0     2.0  0.0  0.0672787  0.0672787\n",
       " 0.220367  0.873166  16.3073  23.0  1.0     4.0  0.0  0.0672787  0.0672787\n",
       " 0.325304  0.825954  15.1876  15.0  1.0  …  3.0  0.0  0.0672787  0.0672787\n",
       " 0.325304  0.825954  15.1876   7.0  1.0     2.0  0.0  0.0672787  0.0672787\n",
       " 0.277719  0.83393   15.9898  11.0  1.0     3.0  0.0  0.0672787  0.0672787\n",
       " ⋮                                       ⋱  ⋮                    \n",
       " 0.223569  0.847918  16.1971  23.0  1.0     4.0  0.0  0.0672787  0.0672787\n",
       " 0.158591  0.928754  15.5523  13.0  1.0     3.0  0.0  0.0672787  0.0672787\n",
       " 0.156649  0.966995  15.1699   3.0  1.0  …  1.0  0.0  0.0672787  0.0672787\n",
       " 0.159457  0.882506  14.8804   7.0  1.0     3.0  0.0  0.0672787  0.0672787\n",
       " 0.162111  0.899128  15.4104   3.0  1.0     1.0  0.0  0.0672787  0.0672787\n",
       " 0.179247  0.869825  15.5573   7.0  1.0     2.0  0.0  0.0672787  0.0672787\n",
       " 0.160092  0.893774  15.205    7.0  1.0     2.0  0.0  0.0672787  0.0672787\n",
       " 0.160092  0.893774  15.205    1.0  1.0  …  1.0  0.0  0.0672787  0.0672787\n",
       " 0.171959  0.880152  15.4851   5.0  1.0     2.0  0.0  0.0672787  0.0672787\n",
       " 0.178265  0.87421   15.6178   7.0  1.0     3.0  0.0  0.0672787  0.0672787\n",
       " 0.216727  0.833012  15.7885  11.0  1.0     3.0  0.0  0.0672787  0.0672787\n",
       " 0.216727  0.833012  15.7885   1.0  1.0     1.0  0.0  0.0672787  0.0672787"
      ]
     },
     "execution_count": 22,
     "metadata": {},
     "output_type": "execute_result"
    }
   ],
   "source": [
    "samples_hmc.value"
   ]
  },
  {
   "cell_type": "code",
   "execution_count": 23,
   "id": "fa9db828",
   "metadata": {},
   "outputs": [],
   "source": [
    "Wms_hmc = vec(samples_hmc[\"Ωm\"])\n",
    "s8s_hmc = vec(samples_hmc[\"σ8\"]);"
   ]
  },
  {
   "cell_type": "code",
   "execution_count": 24,
   "id": "3d063a52",
   "metadata": {},
   "outputs": [
    {
     "data": {
      "image/png": "[encoded data removed]",
      "text/plain": [
       "Figure(PyObject <Figure size 640x480 with 1 Axes>)"
      ]
     },
     "metadata": {},
     "output_type": "display_data"
    }
   ],
   "source": [
    "plt.hist2d(Wms_hmc, s8s_hmc, bins=100, range=[[0.1, 0.4],[0.6, 1.2]]);\n",
    "plt.xlabel(\"Wm\")\n",
    "plt.ylabel(\"s8\")\n",
    "plt.title(\"NUTS - RSD model\");"
   ]
  }
 ],
 "metadata": {
  "kernelspec": {
   "display_name": "Julia_1.9 (5 threads) 1.9.0-beta3",
   "language": "julia",
   "name": "julia_1.9-_5-threads_-1.9"
  },
  "language_info": {
   "file_extension": ".jl",
   "mimetype": "application/julia",
   "name": "julia",
   "version": "1.9.0"
  }
 },
 "nbformat": 4,
 "nbformat_minor": 5
}
