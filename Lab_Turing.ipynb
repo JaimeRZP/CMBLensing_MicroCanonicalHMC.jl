{
 "cells": [
  {
   "cell_type": "markdown",
   "id": "91129cb1",
   "metadata": {},
   "source": [
    "# Turing Target Practice"
   ]
  },
  {
   "cell_type": "markdown",
   "id": "97121235",
   "metadata": {},
   "source": [
    "## Model"
   ]
  },
  {
   "cell_type": "code",
   "execution_count": 1,
   "id": "86b96c9e",
   "metadata": {},
   "outputs": [
    {
     "name": "stderr",
     "output_type": "stream",
     "text": [
      "\u001b[32m\u001b[1m  Activating\u001b[22m\u001b[39m project at `~/PhD/MCHMC.jl`\n"
     ]
    }
   ],
   "source": [
    "] activate \".\""
   ]
  },
  {
   "cell_type": "code",
   "execution_count": 2,
   "id": "baed58e3",
   "metadata": {},
   "outputs": [
    {
     "name": "stderr",
     "output_type": "stream",
     "text": [
      "\u001b[36m\u001b[1m[ \u001b[22m\u001b[39m\u001b[36m\u001b[1mInfo: \u001b[22m\u001b[39mPrecompiling MCHMC [92da4d09-9da0-4f8a-8b31-da41ef0ab6ee]\n"
     ]
    }
   ],
   "source": [
    "# The statistical inference frame-work we will use\n",
    "using Turing\n",
    "using Interpolations\n",
    "using ForwardDiff\n",
    "using LinearAlgebra\n",
    "using PyPlot\n",
    "\n",
    "using Revise\n",
    "using MCHMC"
   ]
  },
  {
   "cell_type": "code",
   "execution_count": 3,
   "id": "a7d6f81c",
   "metadata": {},
   "outputs": [],
   "source": [
    "fs8_zs = [0.38, 0.51, 0.61, 1.48, 0.44, 0.6, 0.73, 0.6, 0.86, 0.067, 1.4]\n",
    "fs8_data = [0.49749, 0.457523, 0.436148, 0.462, 0.413, 0.39, 0.437, 0.55, 0.4, 0.423, 0.482]\n",
    "fs8_cov = [0.00203355 0.000811829 0.000264615 0.0 0.0 0.0 0.0 0.0 0.0 0.0 0.0;\n",
    "           0.000811829 0.00142289 0.000662824 0.0 0.0 0.0 0.0 0.0 0.0 0.0 0.0; \n",
    "           0.000264615 0.000662824 0.00118576 0.0 0.0 0.0 0.0 0.0 0.0 0.0 0.0;\n",
    "           0.0 0.0 0.0 0.002025 0.0 0.0 0.0 0.0 0.0 0.0 0.0;\n",
    "           0.0 0.0 0.0 0.0 0.0064 0.00257 0.0 0.0 0.0 0.0 0.0;\n",
    "           0.0 0.0 0.0 0.0 0.00257 0.003969 0.00254 0.0 0.0 0.0 0.0;\n",
    "           0.0 0.0 0.0 0.0 0.0 0.00254 0.005184 0.0 0.0 0.0 0.0;\n",
    "           0.0 0.0 0.0 0.0 0.0 0.0 0.0 0.0144 0.0 0.0 0.0;\n",
    "           0.0 0.0 0.0 0.0 0.0 0.0 0.0 0.0 0.0121 0.0 0.0; \n",
    "           0.0 0.0 0.0 0.0 0.0 0.0 0.0 0.0 0.0 0.003025 0.0;\n",
    "           0.0 0.0 0.0 0.0 0.0 0.0 0.0 0.0 0.0 0.0 0.013456000000000001];"
   ]
  },
  {
   "cell_type": "code",
   "execution_count": 4,
   "id": "1359a630",
   "metadata": {
    "code_folding": []
   },
   "outputs": [
    {
     "data": {
      "text/plain": [
       "make_fs8 (generic function with 1 method)"
      ]
     },
     "execution_count": 4,
     "metadata": {},
     "output_type": "execute_result"
    }
   ],
   "source": [
    "function make_fs8(Ωm, σ8; Ωr=8.24*10^-5)\n",
    "    # ODE solution for growth factor\n",
    "    x_Dz = LinRange(0, log(1+1100), 300)\n",
    "    dx_Dz = x_Dz[2]-x_Dz[1]\n",
    "    z_Dz = @.(exp(x_Dz) - 1)\n",
    "    a_Dz = @.(1/(1+z_Dz))\n",
    "    aa = reverse(a_Dz)\n",
    "    e =  @.(sqrt.(abs(Ωm)*(1+z_Dz)^3+Ωr*(1+z_Dz)^4+(1-Ωm-Ωr)))\n",
    "    ee = reverse(e)\n",
    "\n",
    "    dd = zeros(typeof(Ωm), 300)\n",
    "    yy = zeros(typeof(Ωm), 300)\n",
    "    dd[1] = aa[1]\n",
    "    yy[1] = aa[1]^3*ee[end]\n",
    "\n",
    "    for i in 1:(300-1)\n",
    "        A0 = -1.5 * Ωm / (aa[i]*ee[i])\n",
    "        B0 = -1. / (aa[i]^2*ee[i])\n",
    "        A1 = -1.5 * Ωm / (aa[i+1]*ee[i+1])\n",
    "        B1 = -1. / (aa[i+1]^2*ee[i+1])\n",
    "        yy[i+1] = (1+0.5*dx_Dz^2*A0*B0)*yy[i] + 0.5*(A0+A1)*dx_Dz*dd[i]\n",
    "        dd[i+1] = 0.5*(B0+B1)*dx_Dz*yy[i] + (1+0.5*dx_Dz^2*A0*B0)*dd[i]\n",
    "    end\n",
    "\n",
    "    y = reverse(yy)\n",
    "    d = reverse(dd)\n",
    "\n",
    "    Dzi = LinearInterpolation(z_Dz, d./d[1], extrapolation_bc=Line())\n",
    "    fs8zi = LinearInterpolation(z_Dz, -σ8 .* y./ (a_Dz.^2 .*e.*d[1]),\n",
    "                                 extrapolation_bc=Line())\n",
    "    return fs8zi\n",
    "end"
   ]
  },
  {
   "cell_type": "code",
   "execution_count": 5,
   "id": "8005e277",
   "metadata": {},
   "outputs": [],
   "source": [
    "@model function model(data; cov = fs8_cov) \n",
    "    # Define priors\n",
    "    #KiDS priors\n",
    "    Ωm ~ Normal(0.3, 0.1)\n",
    "    σ8 ~ Normal(0.8, 0.3)\n",
    "    fs8_itp = make_fs8(Ωm, σ8)\n",
    "    theory = fs8_itp(fs8_zs)\n",
    "    data ~ MvNormal(theory, cov)\n",
    "end;"
   ]
  },
  {
   "cell_type": "code",
   "execution_count": 6,
   "id": "1eebe796",
   "metadata": {},
   "outputs": [
    {
     "data": {
      "text/plain": [
       "DynamicPPL.Model{typeof(model), (:data, :cov), (:cov,), (), Tuple{Vector{Float64}, Matrix{Float64}}, Tuple{Matrix{Float64}}, DynamicPPL.DefaultContext}(model, (data = [0.49749, 0.457523, 0.436148, 0.462, 0.413, 0.39, 0.437, 0.55, 0.4, 0.423, 0.482], cov = [0.00203355 0.000811829 … 0.0 0.0; 0.000811829 0.00142289 … 0.0 0.0; … ; 0.0 0.0 … 0.003025 0.0; 0.0 0.0 … 0.0 0.013456000000000001]), (cov = [0.00203355 0.000811829 … 0.0 0.0; 0.000811829 0.00142289 … 0.0 0.0; … ; 0.0 0.0 … 0.003025 0.0; 0.0 0.0 … 0.0 0.013456000000000001],), DynamicPPL.DefaultContext())"
      ]
     },
     "execution_count": 6,
     "metadata": {},
     "output_type": "execute_result"
    }
   ],
   "source": [
    "stat_model = model(fs8_data)"
   ]
  },
  {
   "cell_type": "markdown",
   "id": "10dfa4cc",
   "metadata": {},
   "source": [
    "## Sampling"
   ]
  },
  {
   "cell_type": "code",
   "execution_count": 7,
   "id": "c8ed14a3",
   "metadata": {},
   "outputs": [],
   "source": [
    "target = TuringTarget(stat_model);"
   ]
  },
  {
   "cell_type": "code",
   "execution_count": 8,
   "id": "a79c2b35",
   "metadata": {},
   "outputs": [
    {
     "data": {
      "text/plain": [
       "Sampler(Settings(Random.MersenneTwister(0), 2.0, 0, 1000, 10, \"LF\"), Hyperparameters{Float64}(0.0, 0.014142135623730952, 0.0, 0.1931833275037836), MCHMC.Leapfrog)"
      ]
     },
     "execution_count": 8,
     "metadata": {},
     "output_type": "execute_result"
    }
   ],
   "source": [
    "mchmc = Sampler(0.0, sqrt(target.d)*0.01, varE_wanted=2.0)"
   ]
  },
  {
   "cell_type": "code",
   "execution_count": 22,
   "id": "82938e27",
   "metadata": {
    "scrolled": true
   },
   "outputs": [
    {
     "name": "stdout",
     "output_type": "stream",
     "text": [
      "Using given hyperparameters\n"
     ]
    },
    {
     "data": {
      "text/html": [
       "<div><div style = \"float: left;\"><span>10001×2 DataFrame</span></div><div style = \"float: right;\"><span style = \"font-style: italic;\">9976 rows omitted</span></div><div style = \"clear: both;\"></div></div><div class = \"data-frame\" style = \"overflow-x: scroll;\"><table class = \"data-frame\" style = \"margin-bottom: 6px;\"><thead><tr class = \"header\"><th class = \"rowNumber\" style = \"font-weight: bold; text-align: right;\">Row</th><th style = \"text-align: left;\">Ω</th><th style = \"text-align: left;\">stats</th></tr><tr class = \"subheader headerLastRow\"><th class = \"rowNumber\" style = \"font-weight: bold; text-align: right;\"></th><th title = \"Any\" style = \"text-align: left;\">Any</th><th title = \"Any\" style = \"text-align: left;\">Any</th></tr></thead><tbody><tr><td class = \"rowNumber\" style = \"font-weight: bold; text-align: right;\">1</td><td style = \"text-align: left;\">[0.158378, 0.803295]</td><td style = \"text-align: left;\">[0.0, 12.5815]</td></tr><tr><td class = \"rowNumber\" style = \"font-weight: bold; text-align: right;\">2</td><td style = \"text-align: left;\">[0.158378, 0.803295]</td><td style = \"text-align: left;\">[0.979359, 16.0875]</td></tr><tr><td class = \"rowNumber\" style = \"font-weight: bold; text-align: right;\">3</td><td style = \"text-align: left;\">[0.176989, 0.828399]</td><td style = \"text-align: left;\">[6.20798, 18.1264]</td></tr><tr><td class = \"rowNumber\" style = \"font-weight: bold; text-align: right;\">4</td><td style = \"text-align: left;\">[0.206644, 0.838256]</td><td style = \"text-align: left;\">[4.51171, 18.8974]</td></tr><tr><td class = \"rowNumber\" style = \"font-weight: bold; text-align: right;\">5</td><td style = \"text-align: left;\">[0.235571, 0.850079]</td><td style = \"text-align: left;\">[0.729761, 18.1015]</td></tr><tr><td class = \"rowNumber\" style = \"font-weight: bold; text-align: right;\">6</td><td style = \"text-align: left;\">[0.207496, 0.836355]</td><td style = \"text-align: left;\">[-1.62318, 17.8952]</td></tr><tr><td class = \"rowNumber\" style = \"font-weight: bold; text-align: right;\">7</td><td style = \"text-align: left;\">[0.186617, 0.859607]</td><td style = \"text-align: left;\">[-0.323204, 18.1073]</td></tr><tr><td class = \"rowNumber\" style = \"font-weight: bold; text-align: right;\">8</td><td style = \"text-align: left;\">[0.178209, 0.889704]</td><td style = \"text-align: left;\">[0.377821, 18.5289]</td></tr><tr><td class = \"rowNumber\" style = \"font-weight: bold; text-align: right;\">9</td><td style = \"text-align: left;\">[0.200218, 0.867519]</td><td style = \"text-align: left;\">[0.914149, 18.8698]</td></tr><tr><td class = \"rowNumber\" style = \"font-weight: bold; text-align: right;\">10</td><td style = \"text-align: left;\">[0.228402, 0.85402]</td><td style = \"text-align: left;\">[-0.0421085, 18.131]</td></tr><tr><td class = \"rowNumber\" style = \"font-weight: bold; text-align: right;\">11</td><td style = \"text-align: left;\">[0.197269, 0.851322]</td><td style = \"text-align: left;\">[-1.23072, 18.6123]</td></tr><tr><td class = \"rowNumber\" style = \"font-weight: bold; text-align: right;\">12</td><td style = \"text-align: left;\">[0.198633, 0.882542]</td><td style = \"text-align: left;\">[0.670719, 18.5216]</td></tr><tr><td class = \"rowNumber\" style = \"font-weight: bold; text-align: right;\">13</td><td style = \"text-align: left;\">[0.208481, 0.852884]</td><td style = \"text-align: left;\">[-0.0899358, 18.4049]</td></tr><tr><td style = \"text-align: right;\">&vellip;</td><td style = \"text-align: right;\">&vellip;</td><td style = \"text-align: right;\">&vellip;</td></tr><tr><td class = \"rowNumber\" style = \"font-weight: bold; text-align: right;\">9990</td><td style = \"text-align: left;\">[0.230728, 0.896992]</td><td style = \"text-align: left;\">[-1.47892, 17.031]</td></tr><tr><td class = \"rowNumber\" style = \"font-weight: bold; text-align: right;\">9991</td><td style = \"text-align: left;\">[0.257603, 0.91294]</td><td style = \"text-align: left;\">[-4.76788, 14.4635]</td></tr><tr><td class = \"rowNumber\" style = \"font-weight: bold; text-align: right;\">9992</td><td style = \"text-align: left;\">[0.271049, 0.941149]</td><td style = \"text-align: left;\">[-4.7238, 16.165]</td></tr><tr><td class = \"rowNumber\" style = \"font-weight: bold; text-align: right;\">9993</td><td style = \"text-align: left;\">[0.2398, 0.941416]</td><td style = \"text-align: left;\">[3.16233, 17.929]</td></tr><tr><td class = \"rowNumber\" style = \"font-weight: bold; text-align: right;\">9994</td><td style = \"text-align: left;\">[0.213567, 0.924434]</td><td style = \"text-align: left;\">[3.16329, 17.5421]</td></tr><tr><td class = \"rowNumber\" style = \"font-weight: bold; text-align: right;\">9995</td><td style = \"text-align: left;\">[0.242881, 0.913607]</td><td style = \"text-align: left;\">[-1.88495, 15.4042]</td></tr><tr><td class = \"rowNumber\" style = \"font-weight: bold; text-align: right;\">9996</td><td style = \"text-align: left;\">[0.251639, 0.943605]</td><td style = \"text-align: left;\">[-3.70999, 16.4836]</td></tr><tr><td class = \"rowNumber\" style = \"font-weight: bold; text-align: right;\">9997</td><td style = \"text-align: left;\">[0.221131, 0.950375]</td><td style = \"text-align: left;\">[0.987614, 14.9972]</td></tr><tr><td class = \"rowNumber\" style = \"font-weight: bold; text-align: right;\">9998</td><td style = \"text-align: left;\">[0.252329, 0.948578]</td><td style = \"text-align: left;\">[0.227856, 17.3207]</td></tr><tr><td class = \"rowNumber\" style = \"font-weight: bold; text-align: right;\">9999</td><td style = \"text-align: left;\">[0.241844, 0.919139]</td><td style = \"text-align: left;\">[4.59155, 18.3392]</td></tr><tr><td class = \"rowNumber\" style = \"font-weight: bold; text-align: right;\">10000</td><td style = \"text-align: left;\">[0.21147, 0.911791]</td><td style = \"text-align: left;\">[1.36783, 18.3216]</td></tr><tr><td class = \"rowNumber\" style = \"font-weight: bold; text-align: right;\">10001</td><td style = \"text-align: left;\">[0.182896, 0.899139]</td><td style = \"text-align: left;\">[-0.580443, 17.7996]</td></tr></tbody></table></div>"
      ],
      "text/latex": [
       "\\begin{tabular}{r|cc}\n",
       "\t& Ω & stats\\\\\n",
       "\t\\hline\n",
       "\t& Any & Any\\\\\n",
       "\t\\hline\n",
       "\t1 & [0.158378, 0.803295] & [0.0, 12.5815] \\\\\n",
       "\t2 & [0.158378, 0.803295] & [0.979359, 16.0875] \\\\\n",
       "\t3 & [0.176989, 0.828399] & [6.20798, 18.1264] \\\\\n",
       "\t4 & [0.206644, 0.838256] & [4.51171, 18.8974] \\\\\n",
       "\t5 & [0.235571, 0.850079] & [0.729761, 18.1015] \\\\\n",
       "\t6 & [0.207496, 0.836355] & [-1.62318, 17.8952] \\\\\n",
       "\t7 & [0.186617, 0.859607] & [-0.323204, 18.1073] \\\\\n",
       "\t8 & [0.178209, 0.889704] & [0.377821, 18.5289] \\\\\n",
       "\t9 & [0.200218, 0.867519] & [0.914149, 18.8698] \\\\\n",
       "\t10 & [0.228402, 0.85402] & [-0.0421085, 18.131] \\\\\n",
       "\t11 & [0.197269, 0.851322] & [-1.23072, 18.6123] \\\\\n",
       "\t12 & [0.198633, 0.882542] & [0.670719, 18.5216] \\\\\n",
       "\t13 & [0.208481, 0.852884] & [-0.0899358, 18.4049] \\\\\n",
       "\t14 & [0.226331, 0.827234] & [-0.25491, 18.0885] \\\\\n",
       "\t15 & [0.200561, 0.844911] & [0.242939, 18.8599] \\\\\n",
       "\t16 & [0.231575, 0.848747] & [1.21269, 18.6518] \\\\\n",
       "\t17 & [0.248403, 0.875079] & [-0.586225, 18.3155] \\\\\n",
       "\t18 & [0.231119, 0.901114] & [-0.720846, 18.091] \\\\\n",
       "\t19 & [0.208321, 0.922488] & [-0.471757, 17.5337] \\\\\n",
       "\t20 & [0.239023, 0.916661] & [0.349719, 18.6025] \\\\\n",
       "\t21 & [0.213934, 0.89803] & [0.870123, 17.456] \\\\\n",
       "\t22 & [0.232285, 0.923324] & [-1.39716, 18.5076] \\\\\n",
       "\t23 & [0.206541, 0.905609] & [1.4496, 17.8267] \\\\\n",
       "\t24 & [0.198891, 0.935908] & [-0.952464, 17.9314] \\\\\n",
       "\t25 & [0.224143, 0.917499] & [0.987143, 18.6235] \\\\\n",
       "\t26 & [0.201758, 0.895694] & [0.852084, 18.0991] \\\\\n",
       "\t27 & [0.173903, 0.909861] & [-0.970361, 18.0774] \\\\\n",
       "\t28 & [0.199995, 0.92706] & [-0.278183, 17.9888] \\\\\n",
       "\t29 & [0.169968, 0.918402] & [-0.555654, 17.822] \\\\\n",
       "\t30 & [0.193874, 0.938529] & [-0.360688, 17.0992] \\\\\n",
       "\t$\\dots$ & $\\dots$ & $\\dots$ \\\\\n",
       "\\end{tabular}\n"
      ],
      "text/plain": [
       "\u001b[1m10001×2 DataFrame\u001b[0m\n",
       "\u001b[1m   Row \u001b[0m│\u001b[1m Ω                    \u001b[0m\u001b[1m stats                 \u001b[0m\n",
       "       │\u001b[90m Any                  \u001b[0m\u001b[90m Any                   \u001b[0m\n",
       "───────┼─────────────────────────────────────────────\n",
       "     1 │ [0.158378, 0.803295]  [0.0, 12.5815]\n",
       "     2 │ [0.158378, 0.803295]  [0.979359, 16.0875]\n",
       "     3 │ [0.176989, 0.828399]  [6.20798, 18.1264]\n",
       "     4 │ [0.206644, 0.838256]  [4.51171, 18.8974]\n",
       "     5 │ [0.235571, 0.850079]  [0.729761, 18.1015]\n",
       "     6 │ [0.207496, 0.836355]  [-1.62318, 17.8952]\n",
       "     7 │ [0.186617, 0.859607]  [-0.323204, 18.1073]\n",
       "     8 │ [0.178209, 0.889704]  [0.377821, 18.5289]\n",
       "     9 │ [0.200218, 0.867519]  [0.914149, 18.8698]\n",
       "    10 │ [0.228402, 0.85402]   [-0.0421085, 18.131]\n",
       "    11 │ [0.197269, 0.851322]  [-1.23072, 18.6123]\n",
       "   ⋮   │          ⋮                      ⋮\n",
       "  9992 │ [0.271049, 0.941149]  [-4.7238, 16.165]\n",
       "  9993 │ [0.2398, 0.941416]    [3.16233, 17.929]\n",
       "  9994 │ [0.213567, 0.924434]  [3.16329, 17.5421]\n",
       "  9995 │ [0.242881, 0.913607]  [-1.88495, 15.4042]\n",
       "  9996 │ [0.251639, 0.943605]  [-3.70999, 16.4836]\n",
       "  9997 │ [0.221131, 0.950375]  [0.987614, 14.9972]\n",
       "  9998 │ [0.252329, 0.948578]  [0.227856, 17.3207]\n",
       "  9999 │ [0.241844, 0.919139]  [4.59155, 18.3392]\n",
       " 10000 │ [0.21147, 0.911791]   [1.36783, 18.3216]\n",
       " 10001 │ [0.182896, 0.899139]  [-0.580443, 17.7996]\n",
       "\u001b[36m                                    9980 rows omitted\u001b[0m"
      ]
     },
     "execution_count": 22,
     "metadata": {},
     "output_type": "execute_result"
    }
   ],
   "source": [
    "samples_mchmc = Sample(mchmc, target, 10000;\n",
    "                       monitor_energy=true, \n",
    "                       dialog=true)"
   ]
  },
  {
   "cell_type": "code",
   "execution_count": 10,
   "id": "9982a5de",
   "metadata": {},
   "outputs": [],
   "source": [
    "#plt.plot(samples_mchmc.E[8000:end])"
   ]
  },
  {
   "cell_type": "code",
   "execution_count": 11,
   "id": "f966c9fb",
   "metadata": {},
   "outputs": [],
   "source": [
    "#mean(samples_mchmc.E[8000:end])"
   ]
  },
  {
   "cell_type": "code",
   "execution_count": 12,
   "id": "999faaf8",
   "metadata": {},
   "outputs": [],
   "source": [
    "#std(samples_mchmc.E[8000:end])^2/target.d"
   ]
  },
  {
   "cell_type": "code",
   "execution_count": 13,
   "id": "385a8b1a",
   "metadata": {},
   "outputs": [],
   "source": [
    "Wms_mchmc = [sample[1] for sample in samples_mchmc.Ω]\n",
    "s8s_mchmc = [sample[2] for sample in samples_mchmc.Ω];"
   ]
  },
  {
   "cell_type": "code",
   "execution_count": 14,
   "id": "2a803eb8",
   "metadata": {},
   "outputs": [
    {
     "data": {
      "image/png": "[encoded data removed]",
      "text/plain": [
       "Figure(PyObject <Figure size 640x480 with 1 Axes>)"
      ]
     },
     "metadata": {},
     "output_type": "display_data"
    }
   ],
   "source": [
    "plt.hist2d(Wms_mchmc, s8s_mchmc, bins=100, range=[[0.1, 0.4],[0.6, 1.2]]);\n",
    "plt.xlabel(\"Wm\")\n",
    "plt.ylabel(\"s8\")\n",
    "plt.title(\"MCHMC - RSD model - eps = 0.001 --> var[E]~0.00003\");"
   ]
  },
  {
   "cell_type": "markdown",
   "id": "7198c128",
   "metadata": {},
   "source": [
    "## AbstractMCMC"
   ]
  },
  {
   "cell_type": "code",
   "execution_count": 41,
   "id": "15b924f1",
   "metadata": {},
   "outputs": [
    {
     "data": {
      "text/plain": [
       "Sampler(Settings(Random.MersenneTwister(0), 2.0, 0, 1000, 10, \"LF\"), Hyperparameters{Float64}(0.0, 0.014142135623730952, 0.0, 0.1931833275037836), MCHMC.Leapfrog)"
      ]
     },
     "execution_count": 41,
     "metadata": {},
     "output_type": "execute_result"
    }
   ],
   "source": [
    "mchmc = Sampler(0.0, sqrt(target.d)*0.01, varE_wanted=2.0)"
   ]
  },
  {
   "cell_type": "code",
   "execution_count": 42,
   "id": "b7570feb",
   "metadata": {},
   "outputs": [
    {
     "name": "stdout",
     "output_type": "stream",
     "text": [
      "hello\n",
      "world\n"
     ]
    },
    {
     "name": "stderr",
     "output_type": "stream",
     "text": [
      "\u001b[36m\u001b[1m[ \u001b[22m\u001b[39m\u001b[36m\u001b[1mInfo: \u001b[22m\u001b[39mTuning eps ⏳\n"
     ]
    },
    {
     "name": "stdout",
     "output_type": "stream",
     "text": [
      "eps: 0.5 --> VarE: NaN\n",
      "eps: 0.25 --> VarE: 25.351749410455724\n",
      "eps: 0.125 --> VarE: 33.48164702637927\n",
      "eps: 0.0625 --> VarE: 6.6514272447338465\n",
      "eps: 0.03125 --> VarE: 1.9651971293291368\n"
     ]
    },
    {
     "name": "stderr",
     "output_type": "stream",
     "text": [
      "\u001b[36m\u001b[1m[ \u001b[22m\u001b[39m\u001b[36m\u001b[1mInfo: \u001b[22m\u001b[39mFound eps ✅\n",
      "\u001b[32mSampling: 100%|█████████████████████████████████████████| Time: 0:00:00\u001b[39m\n"
     ]
    },
    {
     "name": "stdout",
     "output_type": "stream",
     "text": [
      "out there\n"
     ]
    },
    {
     "ename": "LoadError",
     "evalue": "MethodError: no method matching iterate(::Chains{Float64, AxisArrays.AxisArray{Float64, 3, Array{Float64, 3}, Tuple{AxisArrays.Axis{:iter, StepRange{Int64, Int64}}, AxisArrays.Axis{:var, Vector{Symbol}}, AxisArrays.Axis{:chain, UnitRange{Int64}}}}, Missing, NamedTuple{(:parameters, :internals), Tuple{Vector{Symbol}, Vector{Symbol}}}, NamedTuple{(:target, :sampler, :state, :start_time, :stop_time), Tuple{TuringTarget, Sampler, Tuple{Vector{Float64}, Vector{Float64}, Vector{Float64}, Float64, Float64}, Float64, Float64}}})\n\n\u001b[0mClosest candidates are:\n\u001b[0m  iterate(\u001b[91m::Union{LinRange, StepRangeLen}\u001b[39m)\n\u001b[0m\u001b[90m   @\u001b[39m \u001b[90mBase\u001b[39m \u001b[90m\u001b[4mrange.jl:880\u001b[24m\u001b[39m\n\u001b[0m  iterate(\u001b[91m::Union{LinRange, StepRangeLen}\u001b[39m, \u001b[91m::Integer\u001b[39m)\n\u001b[0m\u001b[90m   @\u001b[39m \u001b[90mBase\u001b[39m \u001b[90m\u001b[4mrange.jl:880\u001b[24m\u001b[39m\n\u001b[0m  iterate(\u001b[91m::T\u001b[39m) where T<:Union{Base.KeySet{<:Any, <:Dict}, Base.ValueIterator{<:Dict}}\n\u001b[0m\u001b[90m   @\u001b[39m \u001b[90mBase\u001b[39m \u001b[90m\u001b[4mdict.jl:698\u001b[24m\u001b[39m\n\u001b[0m  ...\n",
     "output_type": "error",
     "traceback": [
      "MethodError: no method matching iterate(::Chains{Float64, AxisArrays.AxisArray{Float64, 3, Array{Float64, 3}, Tuple{AxisArrays.Axis{:iter, StepRange{Int64, Int64}}, AxisArrays.Axis{:var, Vector{Symbol}}, AxisArrays.Axis{:chain, UnitRange{Int64}}}}, Missing, NamedTuple{(:parameters, :internals), Tuple{Vector{Symbol}, Vector{Symbol}}}, NamedTuple{(:target, :sampler, :state, :start_time, :stop_time), Tuple{TuringTarget, Sampler, Tuple{Vector{Float64}, Vector{Float64}, Vector{Float64}, Float64, Float64}, Float64, Float64}}})\n\n\u001b[0mClosest candidates are:\n\u001b[0m  iterate(\u001b[91m::Union{LinRange, StepRangeLen}\u001b[39m)\n\u001b[0m\u001b[90m   @\u001b[39m \u001b[90mBase\u001b[39m \u001b[90m\u001b[4mrange.jl:880\u001b[24m\u001b[39m\n\u001b[0m  iterate(\u001b[91m::Union{LinRange, StepRangeLen}\u001b[39m, \u001b[91m::Integer\u001b[39m)\n\u001b[0m\u001b[90m   @\u001b[39m \u001b[90mBase\u001b[39m \u001b[90m\u001b[4mrange.jl:880\u001b[24m\u001b[39m\n\u001b[0m  iterate(\u001b[91m::T\u001b[39m) where T<:Union{Base.KeySet{<:Any, <:Dict}, Base.ValueIterator{<:Dict}}\n\u001b[0m\u001b[90m   @\u001b[39m \u001b[90mBase\u001b[39m \u001b[90m\u001b[4mdict.jl:698\u001b[24m\u001b[39m\n\u001b[0m  ...\n",
      "",
      "Stacktrace:",
      " [1] indexed_iterate(I::Chains{Float64, AxisArrays.AxisArray{Float64, 3, Array{Float64, 3}, Tuple{AxisArrays.Axis{:iter, StepRange{Int64, Int64}}, AxisArrays.Axis{:var, Vector{Symbol}}, AxisArrays.Axis{:chain, UnitRange{Int64}}}}, Missing, NamedTuple{(:parameters, :internals), Tuple{Vector{Symbol}, Vector{Symbol}}}, NamedTuple{(:target, :sampler, :state, :start_time, :stop_time), Tuple{TuringTarget, Sampler, Tuple{Vector{Float64}, Vector{Float64}, Vector{Float64}, Float64, Float64}, Float64, Float64}}}, i::Int64)",
      "   @ Base ./tuple.jl:91",
      " [2] top-level scope",
      "   @ In[42]:1"
     ]
    }
   ],
   "source": [
    "params, param_names, internal_names = sample(\n",
    "    stat_model, mchmc, 10000;\n",
    "    monitor_energy=true, \n",
    "    dialog=true)"
   ]
  },
  {
   "cell_type": "code",
   "execution_count": 43,
   "id": "e4d6bcac",
   "metadata": {},
   "outputs": [
    {
     "data": {
      "text/plain": [
       "2-element Vector{Symbol}:\n",
       " :E\n",
       " :logp"
      ]
     },
     "execution_count": 43,
     "metadata": {},
     "output_type": "execute_result"
    }
   ],
   "source": [
    "internal_names"
   ]
  },
  {
   "cell_type": "markdown",
   "id": "4aadd3b5",
   "metadata": {},
   "source": [
    "## NUTS"
   ]
  },
  {
   "cell_type": "code",
   "execution_count": 17,
   "id": "dcbe40a3",
   "metadata": {},
   "outputs": [
    {
     "name": "stderr",
     "output_type": "stream",
     "text": [
      "\u001b[36m\u001b[1m┌ \u001b[22m\u001b[39m\u001b[36m\u001b[1mInfo: \u001b[22m\u001b[39mFound initial step size\n",
      "\u001b[36m\u001b[1m└ \u001b[22m\u001b[39m  ϵ = 0.00078125\n",
      "\u001b[32mSampling: 100%|█████████████████████████████████████████| Time: 0:00:09\u001b[39m\n"
     ]
    },
    {
     "data": {
      "text/plain": [
       "Chains MCMC chain (10000×14×1 Array{Float64, 3}):\n",
       "\n",
       "Iterations        = 501:1:10500\n",
       "Number of chains  = 1\n",
       "Samples per chain = 10000\n",
       "Wall duration     = 13.4 seconds\n",
       "Compute duration  = 13.4 seconds\n",
       "parameters        = Ωm, σ8\n",
       "internals         = lp, n_steps, is_accept, acceptance_rate, log_density, hamiltonian_energy, hamiltonian_energy_error, max_hamiltonian_energy_error, tree_depth, numerical_error, step_size, nom_step_size\n",
       "\n",
       "Summary Statistics\n",
       " \u001b[1m parameters \u001b[0m \u001b[1m    mean \u001b[0m \u001b[1m     std \u001b[0m \u001b[1m naive_se \u001b[0m \u001b[1m    mcse \u001b[0m \u001b[1m     ess \u001b[0m \u001b[1m    rhat \u001b[0m \u001b[1m es\u001b[0m ⋯\n",
       " \u001b[90m     Symbol \u001b[0m \u001b[90m Float64 \u001b[0m \u001b[90m Float64 \u001b[0m \u001b[90m  Float64 \u001b[0m \u001b[90m Float64 \u001b[0m \u001b[90m Float64 \u001b[0m \u001b[90m Float64 \u001b[0m \u001b[90m   \u001b[0m ⋯\n",
       "\n",
       "          Ωm   -0.9904    0.0100     0.0001    0.0008   44.3147    1.0057      ⋯\n",
       "          σ8    0.0011    0.0007     0.0000    0.0001   43.5766    1.0060      ⋯\n",
       "\u001b[36m                                                                1 column omitted\u001b[0m\n",
       "\n",
       "Quantiles\n",
       " \u001b[1m parameters \u001b[0m \u001b[1m    2.5% \u001b[0m \u001b[1m   25.0% \u001b[0m \u001b[1m   50.0% \u001b[0m \u001b[1m   75.0% \u001b[0m \u001b[1m   97.5% \u001b[0m\n",
       " \u001b[90m     Symbol \u001b[0m \u001b[90m Float64 \u001b[0m \u001b[90m Float64 \u001b[0m \u001b[90m Float64 \u001b[0m \u001b[90m Float64 \u001b[0m \u001b[90m Float64 \u001b[0m\n",
       "\n",
       "          Ωm   -1.0143   -0.9957   -0.9885   -0.9813   -0.9795\n",
       "          σ8    0.0004    0.0005    0.0010    0.0014    0.0027\n"
      ]
     },
     "execution_count": 17,
     "metadata": {},
     "output_type": "execute_result"
    }
   ],
   "source": [
    "samples_hmc = sample(stat_model, NUTS(500, 0.65),\n",
    "                     10000, progress=true; save_state=true)"
   ]
  },
  {
   "cell_type": "code",
   "execution_count": 18,
   "id": "a5b401b4",
   "metadata": {},
   "outputs": [
    {
     "data": {
      "text/plain": [
       "3-dimensional AxisArray{Float64,3,...} with axes:\n",
       "    :iter, 501:1:10500\n",
       "    :var, [:Ωm, :σ8, :lp, :n_steps, :is_accept, :acceptance_rate, :log_density, :hamiltonian_energy, :hamiltonian_energy_error, :max_hamiltonian_energy_error, :tree_depth, :numerical_error, :step_size, :nom_step_size]\n",
       "    :chain, 1:1\n",
       "And data, a 10000×14×1 Array{Float64, 3}:\n",
       "[:, :, 1] =\n",
       " -0.985152  0.000763544  -70.5609   1.0  …  1.0  0.0  0.0139822  0.0139822\n",
       " -0.985152  0.000763544  -70.5609   3.0     1.0  0.0  0.0139822  0.0139822\n",
       " -0.985237  0.000759478  -70.3053   3.0     1.0  0.0  0.0139822  0.0139822\n",
       " -0.985237  0.000759478  -70.3053   3.0     1.0  0.0  0.0139822  0.0139822\n",
       " -0.985348  0.000742     -70.0672   3.0     1.0  0.0  0.0139822  0.0139822\n",
       " -0.985348  0.000742     -70.0672   5.0  …  2.0  0.0  0.0139822  0.0139822\n",
       " -0.985348  0.000742     -70.0672   3.0     1.0  0.0  0.0139822  0.0139822\n",
       " -0.985348  0.000742     -70.0672   3.0     1.0  0.0  0.0139822  0.0139822\n",
       " -0.985348  0.000742     -70.0672   9.0     3.0  0.0  0.0139822  0.0139822\n",
       " -0.985348  0.000742     -70.0672   3.0     1.0  0.0  0.0139822  0.0139822\n",
       " -0.985348  0.000742     -70.0672   1.0  …  1.0  0.0  0.0139822  0.0139822\n",
       " -0.985348  0.000742     -70.0672   1.0     1.0  0.0  0.0139822  0.0139822\n",
       " -0.985348  0.000742     -70.0672   1.0     1.0  0.0  0.0139822  0.0139822\n",
       "  ⋮                                      ⋱  ⋮                    \n",
       " -0.984579  0.000645339  -71.1545  16.0     4.0  1.0  0.0139822  0.0139822\n",
       " -0.984579  0.000645339  -71.1545   3.0     1.0  0.0  0.0139822  0.0139822\n",
       " -0.984579  0.000645339  -71.1545   3.0  …  1.0  0.0  0.0139822  0.0139822\n",
       " -0.984579  0.000645339  -71.1545   9.0     3.0  0.0  0.0139822  0.0139822\n",
       " -0.984397  0.000738609  -71.8541   3.0     1.0  0.0  0.0139822  0.0139822\n",
       " -0.984432  0.000714319  -70.5132   1.0     1.0  0.0  0.0139822  0.0139822\n",
       " -0.984432  0.000714319  -70.5132   3.0     1.0  0.0  0.0139822  0.0139822\n",
       " -0.985249  0.000770559  -70.5815   9.0  …  3.0  1.0  0.0139822  0.0139822\n",
       " -0.985249  0.000770559  -70.5815   3.0     1.0  0.0  0.0139822  0.0139822\n",
       " -0.985249  0.000770559  -70.5815   7.0     2.0  1.0  0.0139822  0.0139822\n",
       " -0.985249  0.000770559  -70.5815  19.0     4.0  0.0  0.0139822  0.0139822\n",
       " -0.985735  0.00073875   -70.5334   5.0     2.0  0.0  0.0139822  0.0139822"
      ]
     },
     "execution_count": 18,
     "metadata": {},
     "output_type": "execute_result"
    }
   ],
   "source": [
    "samples_hmc.value"
   ]
  },
  {
   "cell_type": "code",
   "execution_count": 19,
   "id": "fa9db828",
   "metadata": {},
   "outputs": [],
   "source": [
    "Wms_hmc = vec(samples_hmc[\"Ωm\"])\n",
    "s8s_hmc = vec(samples_hmc[\"σ8\"]);"
   ]
  },
  {
   "cell_type": "code",
   "execution_count": 20,
   "id": "3d063a52",
   "metadata": {},
   "outputs": [
    {
     "data": {
      "image/png": "[encoded data removed]",
      "text/plain": [
       "Figure(PyObject <Figure size 640x480 with 1 Axes>)"
      ]
     },
     "metadata": {},
     "output_type": "display_data"
    }
   ],
   "source": [
    "plt.hist2d(Wms_hmc, s8s_hmc, bins=100, range=[[0.1, 0.4],[0.6, 1.2]]);\n",
    "plt.xlabel(\"Wm\")\n",
    "plt.ylabel(\"s8\")\n",
    "plt.title(\"HMC - RSD model\");"
   ]
  },
  {
   "cell_type": "code",
   "execution_count": null,
   "id": "fce29591",
   "metadata": {},
   "outputs": [],
   "source": []
  }
 ],
 "metadata": {
  "kernelspec": {
   "display_name": "Julia 1.9.0-beta3",
   "language": "julia",
   "name": "julia-1.9"
  },
  "language_info": {
   "file_extension": ".jl",
   "mimetype": "application/julia",
   "name": "julia",
   "version": "1.9.0"
  }
 },
 "nbformat": 4,
 "nbformat_minor": 5
}
