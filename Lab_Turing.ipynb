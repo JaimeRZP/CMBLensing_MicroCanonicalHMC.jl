{
 "cells": [
  {
   "cell_type": "markdown",
   "id": "91129cb1",
   "metadata": {},
   "source": [
    "# Turing Target Practice"
   ]
  },
  {
   "cell_type": "markdown",
   "id": "97121235",
   "metadata": {},
   "source": [
    "## Model"
   ]
  },
  {
   "cell_type": "code",
   "execution_count": 1,
   "id": "86b96c9e",
   "metadata": {},
   "outputs": [
    {
     "name": "stderr",
     "output_type": "stream",
     "text": [
      "\u001b[32m\u001b[1m  Activating\u001b[22m\u001b[39m project at `~/PhD/MicroCanonicalHMC.jl`\n"
     ]
    }
   ],
   "source": [
    "] activate \".\""
   ]
  },
  {
   "cell_type": "code",
   "execution_count": 2,
   "id": "baed58e3",
   "metadata": {},
   "outputs": [
    {
     "name": "stderr",
     "output_type": "stream",
     "text": [
      "\u001b[36m\u001b[1m[ \u001b[22m\u001b[39m\u001b[36m\u001b[1mInfo: \u001b[22m\u001b[39mPrecompiling MicroCanonicalHMC [234d2aa0-2291-45f7-9047-6fa6f316b0a8]\n"
     ]
    }
   ],
   "source": [
    "# The statistical inference frame-work we will use\n",
    "using Turing\n",
    "using Interpolations\n",
    "using ForwardDiff\n",
    "using LinearAlgebra\n",
    "#using StatsPlots\n",
    "using PyPlot\n",
    "using Distributed\n",
    "\n",
    "using Revise\n",
    "using MicroCanonicalHMC"
   ]
  },
  {
   "cell_type": "code",
   "execution_count": 3,
   "id": "a7d6f81c",
   "metadata": {},
   "outputs": [],
   "source": [
    "fs8_zs = [0.38, 0.51, 0.61, 1.48, 0.44, 0.6, 0.73, 0.6, 0.86, 0.067, 1.4]\n",
    "fs8_data = [0.49749, 0.457523, 0.436148, 0.462, 0.413, 0.39, 0.437, 0.55, 0.4, 0.423, 0.482]\n",
    "fs8_cov = [0.00203355 0.000811829 0.000264615 0.0 0.0 0.0 0.0 0.0 0.0 0.0 0.0;\n",
    "           0.000811829 0.00142289 0.000662824 0.0 0.0 0.0 0.0 0.0 0.0 0.0 0.0; \n",
    "           0.000264615 0.000662824 0.00118576 0.0 0.0 0.0 0.0 0.0 0.0 0.0 0.0;\n",
    "           0.0 0.0 0.0 0.002025 0.0 0.0 0.0 0.0 0.0 0.0 0.0;\n",
    "           0.0 0.0 0.0 0.0 0.0064 0.00257 0.0 0.0 0.0 0.0 0.0;\n",
    "           0.0 0.0 0.0 0.0 0.00257 0.003969 0.00254 0.0 0.0 0.0 0.0;\n",
    "           0.0 0.0 0.0 0.0 0.0 0.00254 0.005184 0.0 0.0 0.0 0.0;\n",
    "           0.0 0.0 0.0 0.0 0.0 0.0 0.0 0.0144 0.0 0.0 0.0;\n",
    "           0.0 0.0 0.0 0.0 0.0 0.0 0.0 0.0 0.0121 0.0 0.0; \n",
    "           0.0 0.0 0.0 0.0 0.0 0.0 0.0 0.0 0.0 0.003025 0.0;\n",
    "           0.0 0.0 0.0 0.0 0.0 0.0 0.0 0.0 0.0 0.0 0.013456000000000001];"
   ]
  },
  {
   "cell_type": "code",
   "execution_count": 4,
   "id": "1359a630",
   "metadata": {
    "code_folding": []
   },
   "outputs": [
    {
     "data": {
      "text/plain": [
       "make_fs8 (generic function with 1 method)"
      ]
     },
     "execution_count": 4,
     "metadata": {},
     "output_type": "execute_result"
    }
   ],
   "source": [
    "function make_fs8(Ωm, σ8; Ωr=8.24*10^-5)\n",
    "    # ODE solution for growth factor\n",
    "    x_Dz = LinRange(0, log(1+1100), 300)\n",
    "    dx_Dz = x_Dz[2]-x_Dz[1]\n",
    "    z_Dz = @.(exp(x_Dz) - 1)\n",
    "    a_Dz = @.(1/(1+z_Dz))\n",
    "    aa = reverse(a_Dz)\n",
    "    e =  @.(sqrt.(abs(Ωm)*(1+z_Dz)^3+Ωr*(1+z_Dz)^4+(1-Ωm-Ωr)))\n",
    "    ee = reverse(e)\n",
    "\n",
    "    dd = zeros(typeof(Ωm), 300)\n",
    "    yy = zeros(typeof(Ωm), 300)\n",
    "    dd[1] = aa[1]\n",
    "    yy[1] = aa[1]^3*ee[end]\n",
    "\n",
    "    for i in 1:(300-1)\n",
    "        A0 = -1.5 * Ωm / (aa[i]*ee[i])\n",
    "        B0 = -1. / (aa[i]^2*ee[i])\n",
    "        A1 = -1.5 * Ωm / (aa[i+1]*ee[i+1])\n",
    "        B1 = -1. / (aa[i+1]^2*ee[i+1])\n",
    "        yy[i+1] = (1+0.5*dx_Dz^2*A0*B0)*yy[i] + 0.5*(A0+A1)*dx_Dz*dd[i]\n",
    "        dd[i+1] = 0.5*(B0+B1)*dx_Dz*yy[i] + (1+0.5*dx_Dz^2*A0*B0)*dd[i]\n",
    "    end\n",
    "\n",
    "    y = reverse(yy)\n",
    "    d = reverse(dd)\n",
    "\n",
    "    Dzi = LinearInterpolation(z_Dz, d./d[1], extrapolation_bc=Line())\n",
    "    fs8zi = LinearInterpolation(z_Dz, -σ8 .* y./ (a_Dz.^2 .*e.*d[1]),\n",
    "                                 extrapolation_bc=Line())\n",
    "    return fs8zi\n",
    "end"
   ]
  },
  {
   "cell_type": "code",
   "execution_count": 5,
   "id": "8005e277",
   "metadata": {},
   "outputs": [],
   "source": [
    "@model function model(data; cov = fs8_cov) \n",
    "    # Define priors\n",
    "    #KiDS priors\n",
    "    Ωm  ~ Uniform(0.01, 0.6)\n",
    "    σ8 ~ Normal(0.8, 0.3)\n",
    "    fs8_itp = make_fs8(Ωm, σ8)\n",
    "    theory = fs8_itp(fs8_zs)\n",
    "    data ~ MvNormal(theory, cov)\n",
    "end;"
   ]
  },
  {
   "cell_type": "code",
   "execution_count": 6,
   "id": "1eebe796",
   "metadata": {},
   "outputs": [
    {
     "data": {
      "text/plain": [
       "DynamicPPL.Model{typeof(model), (:data, :cov), (:cov,), (), Tuple{Vector{Float64}, Matrix{Float64}}, Tuple{Matrix{Float64}}, DynamicPPL.DefaultContext}(model, (data = [0.49749, 0.457523, 0.436148, 0.462, 0.413, 0.39, 0.437, 0.55, 0.4, 0.423, 0.482], cov = [0.00203355 0.000811829 … 0.0 0.0; 0.000811829 0.00142289 … 0.0 0.0; … ; 0.0 0.0 … 0.003025 0.0; 0.0 0.0 … 0.0 0.013456000000000001]), (cov = [0.00203355 0.000811829 … 0.0 0.0; 0.000811829 0.00142289 … 0.0 0.0; … ; 0.0 0.0 … 0.003025 0.0; 0.0 0.0 … 0.0 0.013456000000000001],), DynamicPPL.DefaultContext())"
      ]
     },
     "execution_count": 6,
     "metadata": {},
     "output_type": "execute_result"
    }
   ],
   "source": [
    "stat_model = model(fs8_data)"
   ]
  },
  {
   "cell_type": "markdown",
   "id": "10dfa4cc",
   "metadata": {},
   "source": [
    "## Sampling"
   ]
  },
  {
   "cell_type": "code",
   "execution_count": 7,
   "id": "c8ed14a3",
   "metadata": {},
   "outputs": [],
   "source": [
    "target = TuringTarget(stat_model; compute_MAP=true);"
   ]
  },
  {
   "cell_type": "code",
   "execution_count": 8,
   "id": "82938e27",
   "metadata": {
    "scrolled": false
   },
   "outputs": [
    {
     "name": "stderr",
     "output_type": "stream",
     "text": [
      "\u001b[36m\u001b[1m[ \u001b[22m\u001b[39m\u001b[36m\u001b[1mInfo: \u001b[22m\u001b[39mTuning sigma ⏳\n",
      "\u001b[36m\u001b[1m[ \u001b[22m\u001b[39m\u001b[36m\u001b[1mInfo: \u001b[22m\u001b[39mTuning eps ⏳\n",
      "\u001b[36m\u001b[1m[ \u001b[22m\u001b[39m\u001b[36m\u001b[1mInfo: \u001b[22m\u001b[39mTuning L ⏳\n",
      "\u001b[36m\u001b[1m[ \u001b[22m\u001b[39m\u001b[36m\u001b[1mInfo: \u001b[22m\u001b[39mFound sigma: [0.45043479852953805, 0.06088870443747066] ✅\n"
     ]
    },
    {
     "name": "stdout",
     "output_type": "stream",
     "text": [
      "eps: 0.5 --> VarE: 6.033181305056869\n",
      "eps: 0.0032590208365153688 --> VarE: 0.01656271309481849\n",
      "eps: 0.008305361564014043 --> VarE: 0.05049327119706957\n",
      "eps: 0.01961021285810106 --> VarE: 0.12190559158264604\n",
      "eps: 0.04175559089974464 --> VarE: 0.327893693263643\n",
      "eps: 0.07239284429193005 --> VarE: 0.6636282709176013\n",
      "eps: 0.0940732773419578 --> VarE: 0.8910668465001548\n",
      "eps: 0.10197969141864667 --> VarE: 1.0191692901315408\n"
     ]
    },
    {
     "name": "stderr",
     "output_type": "stream",
     "text": [
      "\u001b[36m\u001b[1m[ \u001b[22m\u001b[39m\u001b[36m\u001b[1mInfo: \u001b[22m\u001b[39mFound eps: 0.10197969141864667 ✅\n"
     ]
    },
    {
     "name": "stdout",
     "output_type": "stream",
     "text": [
      "samples: 100--> ESS: 0.015079107889772044\n",
      "samples: 203--> ESS: 0.009476552905827237\n",
      "samples: 310--> ESS: 0.01055780683740542\n",
      "samples: 420--> ESS: 0.014238750764270423\n",
      "samples: 534--> ESS: 0.0167395941553406\n",
      "samples: 652--> ESS: 0.01699632045243629\n"
     ]
    },
    {
     "name": "stderr",
     "output_type": "stream",
     "text": [
      "\u001b[36m\u001b[1m[ \u001b[22m\u001b[39m\u001b[36m\u001b[1mInfo: \u001b[22m\u001b[39mFound L: 2.4000416255749917 ✅\n"
     ]
    }
   ],
   "source": [
    "samples_mchmc = Sample(MCHMC(varE_wanted=1.0), target, 100000;\n",
    "                       file_name=\"Turing_sequential_samples.txt\",\n",
    "                       dialog=true);"
   ]
  },
  {
   "cell_type": "code",
   "execution_count": 9,
   "id": "385a8b1a",
   "metadata": {},
   "outputs": [],
   "source": [
    "Wms_mchmc = [sample[1] for sample in samples_mchmc]\n",
    "s8s_mchmc = [sample[2] for sample in samples_mchmc];"
   ]
  },
  {
   "cell_type": "code",
   "execution_count": 10,
   "id": "2a803eb8",
   "metadata": {},
   "outputs": [
    {
     "data": {
      "image/png": "[encoded data removed]",
      "text/plain": [
       "Figure(PyObject <Figure size 640x480 with 1 Axes>)"
      ]
     },
     "metadata": {},
     "output_type": "display_data"
    }
   ],
   "source": [
    "plt.hist2d(Wms_mchmc, s8s_mchmc, bins=100, range=[[0.1, 0.6],[0.6, 1.2]]);\n",
    "plt.xlabel(\"Wm\")\n",
    "plt.ylabel(\"s8\")\n",
    "plt.title(\"MCHMC - RSD model\");"
   ]
  },
  {
   "cell_type": "code",
   "execution_count": 11,
   "id": "ae097bf4",
   "metadata": {
    "scrolled": false
   },
   "outputs": [
    {
     "name": "stderr",
     "output_type": "stream",
     "text": [
      "\u001b[36m\u001b[1m[ \u001b[22m\u001b[39m\u001b[36m\u001b[1mInfo: \u001b[22m\u001b[39mBurn-in started ⏳\n",
      "\u001b[36m\u001b[1m[ \u001b[22m\u001b[39m\u001b[36m\u001b[1mInfo: \u001b[22m\u001b[39mTuning sigma ⏳\n",
      "\u001b[36m\u001b[1m[ \u001b[22m\u001b[39m\u001b[36m\u001b[1mInfo: \u001b[22m\u001b[39mTuning eps ⏳\n",
      "\u001b[36m\u001b[1m[ \u001b[22m\u001b[39m\u001b[36m\u001b[1mInfo: \u001b[22m\u001b[39mTuning L ⏳\n",
      "\u001b[33m\u001b[1m┌ \u001b[22m\u001b[39m\u001b[33m\u001b[1mWarning: \u001b[22m\u001b[39mL-tuning not Implemented\n",
      "\u001b[33m\u001b[1m└ \u001b[22m\u001b[39m\u001b[90m@ MicroCanonicalHMC ~/PhD/MicroCanonicalHMC.jl/src/ensemble/tuning.jl:41\u001b[39m\n",
      "\u001b[36m\u001b[1m[ \u001b[22m\u001b[39m\u001b[36m\u001b[1mInfo: \u001b[22m\u001b[39mFound L: 1.4142135623730951 ✅\n"
     ]
    },
    {
     "name": "stdout",
     "output_type": "stream",
     "text": [
      "eps: 0.5 --> VarE: 1.2642885260084056\n",
      "eps: 0.23283256088322746 --> VarE: 0.9610337387525963\n",
      "eps: 0.15017040977432647 --> VarE: 7.5130611145890045\n",
      "eps: 0.000263445333103221 --> VarE: 6.80142642979657e-5\n",
      "eps: 0.00040510298946182043 --> VarE: 0.00020632116003485435\n",
      "eps: 0.000609926089338098 --> VarE: 0.0005375487772307147\n",
      "eps: 0.0008999322951953261 --> VarE: 0.0012214130790458855\n",
      "eps: 0.0013022174201772008 --> VarE: 0.00238637129295989\n",
      "eps: 0.0018491589547399551 --> VarE: 0.0037508629952188034\n",
      "eps: 0.002578935355913807 --> VarE: 0.00494321082862945\n",
      "eps: 0.003536150854897524 --> VarE: 0.006041278151295948\n",
      "eps: 0.004771400730013563 --> VarE: 0.009009717493616488\n",
      "eps: 0.00633390320554915 --> VarE: 0.022060723252310524\n",
      "eps: 0.008233533798780505 --> VarE: 0.06469181914221303\n",
      "eps: 0.010334275613943442 --> VarE: 0.15440770405896112\n",
      "eps: 0.012269078516508925 --> VarE: 0.3158438214729835\n",
      "eps: 0.01338415272443535 --> VarE: 0.3990948403451654\n",
      "eps: 0.01400495205732713 --> VarE: 0.44988036072861876\n",
      "eps: 0.014308200975354927 --> VarE: 0.4759428015549934\n"
     ]
    },
    {
     "name": "stderr",
     "output_type": "stream",
     "text": [
      "\u001b[36m\u001b[1m[ \u001b[22m\u001b[39m\u001b[36m\u001b[1mInfo: \u001b[22m\u001b[39mVarE condition met during eps tuning at step: 19\n",
      "\u001b[36m\u001b[1m[ \u001b[22m\u001b[39m\u001b[36m\u001b[1mInfo: \u001b[22m\u001b[39mFound eps: 0.014308200975354927 ✅\n"
     ]
    },
    {
     "name": "stdout",
     "output_type": "stream",
     "text": [
      "Initial Virial loss: 15057.698046057289\n",
      "Initial sigma: [2.016664037899652, 0.30266817367941684]\n",
      "Virial loss: 120.30256523964805 --> Relative improvement: 0.019617397016556404\n",
      "Sigma --> [2.009979981613586, 0.30047670187338044]\n",
      "Virial loss: 117.91291476236249 --> Relative improvement: 0.019863670176319737\n",
      "Sigma --> [2.0062349625645557, 0.2988439320804068]\n",
      "Virial loss: 115.57783786716318 --> Relative improvement: 0.019803402366105005\n",
      "Sigma --> [2.003086106937867, 0.2973680106006425]\n",
      "Virial loss: 113.30434209457884 --> Relative improvement: 0.019670689593599522\n",
      "Sigma --> [2.000121540023343, 0.2959655008388592]\n",
      "Virial loss: 111.09488312710569 --> Relative improvement: 0.019500214436873442\n",
      "Sigma --> [1.9972216607707713, 0.29460748265550163]\n",
      "Virial loss: 108.95030752702088 --> Relative improvement: 0.01930399978576114\n",
      "Sigma --> [1.9943417404173645, 0.2932810480279677]\n",
      "Virial loss: 106.87070013816701 --> Relative improvement: 0.01908766882863644\n",
      "Sigma --> [1.991462121223972, 0.29197943938870363]\n",
      "Virial loss: 104.85574578185685 --> Relative improvement: 0.018854132645384936\n",
      "Sigma --> [1.9885731446197699, 0.29069868406769384]\n",
      "Virial loss: 102.90492249314815 --> Relative improvement: 0.018604829655851418\n",
      "Sigma --> [1.9856697179511187, 0.2894362188370711]\n",
      "Virial loss: 101.01761338985688 --> Relative improvement: 0.0183403189815039\n",
      "Sigma --> [1.9827491121865082, 0.2881902533862567]\n",
      "Virial loss: 99.19315211834314 --> Relative improvement: 0.018060823358324707\n",
      "Sigma --> [1.9798099975666343, 0.2869594488953739]\n",
      "Virial loss: 97.43078941121465 --> Relative improvement: 0.017766979569576402\n",
      "Sigma --> [1.9768519987798991, 0.28574274665059407]\n",
      "Virial loss: 95.72956607757956 --> Relative improvement: 0.017460839062433675\n",
      "Sigma --> [1.9738754763676059, 0.284539275113606]\n",
      "Virial loss: 94.08809717209144 --> Relative improvement: 0.01714693769903719\n",
      "Sigma --> [1.970881401160603, 0.2833483009377532]\n",
      "Virial loss: 92.50430674715388 --> Relative improvement: 0.0168330582989763\n",
      "Sigma --> [1.967871258249758, 0.28216920486130453]\n",
      "Virial loss: 90.97518765934079 --> Relative improvement: 0.016530247526665875\n",
      "Sigma --> [1.9648469537507915, 0.28100147024106675]\n",
      "Virial loss: 89.49667855580516 --> Relative improvement: 0.016251784047667472\n",
      "Sigma --> [1.9618107189406815, 0.2798446759382114]\n",
      "Virial loss: 88.06374058449151 --> Relative improvement: 0.01601107431512272\n",
      "Sigma --> [1.9587650152582816, 0.27869848871017183]\n",
      "Virial loss: 86.67067905200156 --> Relative improvement: 0.015818786747462732\n",
      "Sigma --> [1.955712441432478, 0.27756265340328434]\n",
      "Virial loss: 85.3116853582761 --> Relative improvement: 0.01567997053432668\n",
      "Sigma --> [1.9526556364225995, 0.27643698119598553]\n",
      "Virial loss: 83.98146518494013 --> Relative improvement: 0.015592473267285079\n",
      "Sigma --> [1.9495971681670754, 0.27532133645683693]\n",
      "Virial loss: 82.67570975857922 --> Relative improvement: 0.015548138193176797\n",
      "Sigma --> [1.9465394039042228, 0.2742156224756836]\n",
      "Virial loss: 81.39116055212305 --> Relative improvement: 0.015537202041653653\n",
      "Sigma --> [1.9434843694658663, 0.2731197671002265]\n",
      "Virial loss: 80.12515785245881 --> Relative improvement: 0.015554547828980692\n",
      "Sigma --> [1.9404336161041178, 0.2720337111239827]\n",
      "Virial loss: 78.87477603102457 --> Relative improvement: 0.015605358603307584\n",
      "Sigma --> [1.9373881258630585, 0.2709574022729127]\n",
      "Virial loss: 77.63593335753505 --> Relative improvement: 0.01570644933435028\n",
      "Sigma --> [1.9343482975027029, 0.26989079331312926]\n",
      "Virial loss: 76.40318204836215 --> Relative improvement: 0.0158786177464465\n",
      "Sigma --> [1.931314035751516, 0.2688338382154389]\n",
      "Virial loss: 75.17063377002992 --> Relative improvement: 0.016132158966259302\n",
      "Sigma --> [1.928284909649679, 0.2677864842707281]\n",
      "Virial loss: 73.9333052180375 --> Relative improvement: 0.016460264998932828\n",
      "Sigma --> [1.9252603194870286, 0.2667486667816809]\n",
      "Virial loss: 72.68754714849118 --> Relative improvement: 0.016849754868559552\n",
      "Sigma --> [1.922239649110309, 0.2657203114862166]\n",
      "Virial loss: 71.43035320318013 --> Relative improvement: 0.017295864211001155\n",
      "Sigma --> [1.9192224093407992, 0.2647013401680258]\n",
      "Virial loss: 70.158475624927 --> Relative improvement: 0.01780584193158541\n",
      "Sigma --> [1.916208364730498, 0.2636916704486711]\n",
      "Virial loss: 68.86837839158352 --> Relative improvement: 0.018388330445496592\n",
      "Sigma --> [1.9131976122508754, 0.2626912059027412]\n",
      "Virial loss: 67.55820947934691 --> Relative improvement: 0.01902424513013834\n",
      "Sigma --> [1.9101905713213008, 0.26169982823869703]\n",
      "Virial loss: 66.23067078853092 --> Relative improvement: 0.01965029418403752\n",
      "Sigma --> [1.9071878895505132, 0.26071741156653033]\n",
      "Virial loss: 64.89222270770799 --> Relative improvement: 0.020208886077818566\n",
      "Sigma --> [1.9041903404969436, 0.25974385022901264]\n",
      "Virial loss: 63.54900076150541 --> Relative improvement: 0.020699274738250395\n",
      "Sigma --> [1.9011987570830815, 0.25877907114185794]\n",
      "Virial loss: 62.20431792424671 --> Relative improvement: 0.021159779400862555\n",
      "Sigma --> [1.8982139721301248, 0.25782302668547447]\n",
      "Virial loss: 60.85915623753254 --> Relative improvement: 0.021624892476955204\n",
      "Sigma --> [1.895236739585631, 0.25687568329043226]\n",
      "Virial loss: 59.51471141600219 --> Relative improvement: 0.02209108546104377\n",
      "Sigma --> [1.892267641640045, 0.2559370157342737]\n",
      "Virial loss: 58.17506581066704 --> Relative improvement: 0.022509486704407444\n",
      "Sigma --> [1.8893070111735917, 0.25500700440734175]\n",
      "Virial loss: 56.84743615144324 --> Relative improvement: 0.022821283323419372\n",
      "Sigma --> [1.8863548890333597, 0.25408562765651704]\n",
      "Virial loss: 55.540336154786196 --> Relative improvement: 0.02299312132872433\n",
      "Sigma --> [1.8834109896409092, 0.25317284990699335]\n",
      "Virial loss: 54.26215797606296 --> Relative improvement: 0.023013511750470173\n",
      "Sigma --> [1.880474628795433, 0.25226861322777827]\n",
      "Virial loss: 53.02071538038813 --> Relative improvement: 0.02287860715422474\n",
      "Sigma --> [1.8775445933291162, 0.2513728384527858]\n",
      "Virial loss: 51.8224854932136 --> Relative improvement: 0.02259927801007655\n",
      "Sigma --> [1.8746190064952022, 0.25048543907774534]\n",
      "Virial loss: 50.67076846455122 --> Relative improvement: 0.02222427229610968\n",
      "Sigma --> [1.8716953735608137, 0.2496063426410061]\n",
      "Virial loss: 49.564354724811025 --> Relative improvement: 0.021835345570380138\n",
      "Sigma --> [1.868770956716434, 0.2487354999389887]\n",
      "Virial loss: 48.498701858727145 --> Relative improvement: 0.02150038817211586\n",
      "Sigma --> [1.865843271295348, 0.24787287330241303]\n",
      "Virial loss: 47.46818452688228 --> Relative improvement: 0.021248348767079928\n",
      "Sigma --> [1.8629103736644965, 0.24701842246626585]\n",
      "Virial loss: 46.46760861038327 --> Relative improvement: 0.02107887475520287\n",
      "Sigma --> [1.8599708847016343, 0.24617210063770828]\n",
      "Virial loss: 45.4929571057477 --> Relative improvement: 0.020974858267567176\n",
      "Sigma --> [1.8570238749996546, 0.24533385522128354]\n",
      "Virial loss: 44.54155276797071 --> Relative improvement: 0.02091322258004613\n",
      "Sigma --> [1.854068727037798, 0.24450362704713896]\n",
      "Virial loss: 43.61193995487912 --> Relative improvement: 0.020870687152156564\n",
      "Sigma --> [1.8511050231435038, 0.24368134811212763]\n",
      "Virial loss: 42.70385357327573 --> Relative improvement: 0.020821967161811505\n",
      "Sigma --> [1.8481324693307069, 0.24286694033347142]\n",
      "Virial loss: 41.81813019697133 --> Relative improvement: 0.020741064381568752\n",
      "Sigma --> [1.845150860066776, 0.24206031703543035]\n",
      "Virial loss: 40.956060814821285 --> Relative improvement: 0.020614728063869325\n",
      "Sigma --> [1.8421600923171821, 0.24126138651355286]\n",
      "Virial loss: 40.118271212912134 --> Relative improvement: 0.02045581496953852\n",
      "Sigma --> [1.83916022573424, 0.24047005534139004]\n",
      "Virial loss: 39.30391739795142 --> Relative improvement: 0.02029882620412138\n",
      "Sigma --> [1.8361515608074273, 0.23968622993706287]\n",
      "Virial loss: 38.510737863709515 --> Relative improvement: 0.02018067375348309\n",
      "Sigma --> [1.833134693585452, 0.2389098167138995]\n",
      "Virial loss: 37.73583351262046 --> Relative improvement: 0.02012177366820289\n",
      "Sigma --> [1.8301105187705735, 0.2381407218438683]\n",
      "Virial loss: 36.97674842119964 --> Relative improvement: 0.020115763208647608\n",
      "Sigma --> [1.8270801776848586, 0.2373788515393991]\n",
      "Virial loss: 36.232423554518626 --> Relative improvement: 0.020129538114126655\n",
      "Sigma --> [1.8240449636151552, 0.23662411357286225]\n",
      "Virial loss: 35.50360942681565 --> Relative improvement: 0.020114970410586408\n",
      "Sigma --> [1.82100620251389, 0.23587642025437378]\n",
      "Virial loss: 34.79246030997661 --> Relative improvement: 0.020030332924457883\n",
      "Sigma --> [1.8179651336655651, 0.23513569206595916]\n",
      "Virial loss: 34.10143730937381 --> Relative improvement: 0.01986128587763758\n",
      "Sigma --> [1.8149228294584212, 0.23440186021648496]\n",
      "Virial loss: 33.43220479277251 --> Relative improvement: 0.019624759816717186\n"
     ]
    },
    {
     "name": "stdout",
     "output_type": "stream",
     "text": [
      "Sigma --> [1.811880193786594, 0.23367486633561918]\n",
      "Virial loss: 32.78545108628609 --> Relative improvement: 0.01934523045953107\n",
      "Sigma --> [1.808838029099761, 0.23295465899721932]\n",
      "Virial loss: 32.16177836318766 --> Relative improvement: 0.019022850149507553\n",
      "Sigma --> [1.8057971040403022, 0.2322411890073997]\n",
      "Virial loss: 31.562627005570732 --> Relative improvement: 0.01862929813305081\n",
      "Sigma --> [1.8027581704298052, 0.23153440619467908]\n",
      "Virial loss: 30.990217526102047 --> Relative improvement: 0.018135672907317102\n",
      "Sigma --> [1.7997219400332714, 0.23083425940844193]\n",
      "Virial loss: 30.446535024637576 --> Relative improvement: 0.017543681357078067\n",
      "Sigma --> [1.7966890636826138, 0.23014069930445566]\n",
      "Virial loss: 29.93224643013161 --> Relative improvement: 0.01689153114105757\n",
      "Sigma --> [1.7936601435013315, 0.22945368104682573]\n",
      "Virial loss: 29.446354952855707 --> Relative improvement: 0.016233044132189622\n",
      "Sigma --> [1.790635769535375, 0.22877316427046573]\n",
      "Virial loss: 28.986474271123992 --> Relative improvement: 0.015617575841491926\n",
      "Sigma --> [1.7876165501078978, 0.22809911096543162]\n",
      "Virial loss: 28.54910998242066 --> Relative improvement: 0.015088564570235774\n",
      "Sigma --> [1.78460312611213, 0.2274314833776174]\n",
      "Virial loss: 28.129782349095095 --> Relative improvement: 0.014687940660278676\n",
      "Sigma --> [1.781596181584701, 0.22677024223635583]\n",
      "Virial loss: 27.723233209903483 --> Relative improvement: 0.014452622993888498\n",
      "Sigma --> [1.7785964553217866, 0.22611534440682685]\n",
      "Virial loss: 27.32381294789012 --> Relative improvement: 0.014407419906227958\n",
      "Sigma --> [1.7756047430529425, 0.22546673984207835]\n",
      "Virial loss: 26.925903505681877 --> Relative improvement: 0.014562734819152268\n",
      "Sigma --> [1.7726218802425762, 0.22482436872429523]\n",
      "Virial loss: 26.524229987486127 --> Relative improvement: 0.014917735930792042\n",
      "Sigma --> [1.7696487065178759, 0.22418815987861476]\n",
      "Virial loss: 26.113964709375722 --> Relative improvement: 0.015467566006778122\n",
      "Sigma --> [1.7666860217224314, 0.22355803122978402]\n",
      "Virial loss: 25.690534133085084 --> Relative improvement: 0.01621471810209707\n",
      "Sigma --> [1.7637345474012005, 0.2229338924457835]\n",
      "Virial loss: 25.2492215451421 --> Relative improvement: 0.01717802306705052\n",
      "Sigma --> [1.7607949043770494, 0.22231564913347338]\n",
      "Virial loss: 24.785067852964584 --> Relative improvement: 0.018382891185285577\n",
      "Sigma --> [1.757867604981799, 0.22170320774983987]\n",
      "Virial loss: 24.29373507419978 --> Relative improvement: 0.019823741523710803\n",
      "Sigma --> [1.7549530456722986, 0.22109648081713965]\n",
      "Virial loss: 23.773347624335077 --> Relative improvement: 0.021420643975712084\n",
      "Sigma --> [1.7520514890678336, 0.22049539150071737]\n",
      "Virial loss: 23.22606836197049 --> Relative improvement: 0.023020706675923708\n",
      "Sigma --> [1.7491630473659214, 0.2198998748070411]\n",
      "Virial loss: 22.657825096487958 --> Relative improvement: 0.024465753593189032\n",
      "Sigma --> [1.7462876979475301, 0.21930987305713392]\n",
      "Virial loss: 22.076232940573423 --> Relative improvement: 0.025668489956023333\n",
      "Sigma --> [1.7434253433901483, 0.21872532780080145]\n",
      "Virial loss: 21.488560019257488 --> Relative improvement: 0.02662016309113424\n",
      "Sigma --> [1.7405758702071132, 0.2181461737757411]\n",
      "Virial loss: 20.901368606773786 --> Relative improvement: 0.02732576831381328\n",
      "Sigma --> [1.7377391349973665, 0.21757233746173635]\n",
      "Virial loss: 20.32140076298141 --> Relative improvement: 0.027747840569847693\n",
      "Sigma --> [1.7349148818262208, 0.2170037374041005]\n",
      "Virial loss: 19.755489557169113 --> Relative improvement: 0.02784804120605655\n",
      "Sigma --> [1.7321027061977323, 0.21644028435049165]\n",
      "Virial loss: 19.207858238496573 --> Relative improvement: 0.027720463068646617\n",
      "Sigma --> [1.7293021726865878, 0.2158818862587361]\n",
      "Virial loss: 18.67721476226823 --> Relative improvement: 0.027626374041267332\n",
      "Sigma --> [1.7265129860351054, 0.21532846137741402]\n",
      "Virial loss: 18.157551210765764 --> Relative improvement: 0.02782339648159371\n",
      "Sigma --> [1.7237350497157566, 0.214779947180756]\n",
      "Virial loss: 17.640947772818595 --> Relative improvement: 0.028451162381459727\n",
      "Sigma --> [1.720968428811156, 0.21423629618945098]\n",
      "Virial loss: 17.119195651521995 --> Relative improvement: 0.029576195565893748\n",
      "Sigma --> [1.7182132882673327, 0.2136974651963508]\n"
     ]
    },
    {
     "name": "stderr",
     "output_type": "stream",
     "text": [
      "\u001b[33m\u001b[1m┌ \u001b[22m\u001b[39m\u001b[33m\u001b[1mWarning: \u001b[22m\u001b[39mMaximum number of steps reached during burn-in\n",
      "\u001b[33m\u001b[1m└ \u001b[22m\u001b[39m\u001b[90m@ MicroCanonicalHMC ~/PhD/MicroCanonicalHMC.jl/src/ensemble/tuning.jl:197\u001b[39m\n",
      "\u001b[36m\u001b[1m[ \u001b[22m\u001b[39m\u001b[36m\u001b[1mInfo: \u001b[22m\u001b[39mFound sigma: [1.7182132882673327, 0.2136974651963508] ✅\n"
     ]
    },
    {
     "name": "stdout",
     "output_type": "stream",
     "text": [
      "eps: 0.014308200975354927 --> VarE: 0.0007219954936799703\n",
      "eps: 0.015030941935597727 --> VarE: 0.0008140795639055681\n",
      "eps: 0.01578873628742933 --> VarE: 0.0009162308172811219\n",
      "eps: 0.01658304125115618 --> VarE: 0.0010289144319960601\n",
      "eps: 0.017415343837070465 --> VarE: 0.0011516796634962866\n",
      "eps: 0.018287174509975766 --> VarE: 0.001281836815040825\n",
      "eps: 0.019200150755948758 --> VarE: 0.0014125763713974423\n",
      "eps: 0.020156071426651333 --> VarE: 0.0015324946772023358\n",
      "eps: 0.02115704738804035 --> VarE: 0.00163092966343338\n",
      "eps: 0.022205547169453544 --> VarE: 0.0017073920162342688\n",
      "eps: 0.023304226480787754 --> VarE: 0.001771711022477757\n",
      "eps: 0.024455692896587722 --> VarE: 0.0018337800826202012\n",
      "eps: 0.02566246060031249 --> VarE: 0.0015375949514979848\n",
      "eps: 0.026936753416695068 --> VarE: 0.0015655991847418217\n",
      "eps: 0.028273530611976818 --> VarE: 0.001589909254701836\n",
      "eps: 0.029675925968077117 --> VarE: 0.0016113467959866744\n",
      "eps: 0.031147213807621314 --> VarE: 0.0016396949531619362\n",
      "eps: 0.03269051915942805 --> VarE: 0.001692046193053345\n",
      "eps: 0.03430849721505671 --> VarE: 0.0011811096533495356\n",
      "eps: 0.036024956920242684 --> VarE: 0.0012843765106487605\n",
      "eps: 0.03782338528031118 --> VarE: 0.002266720534559974\n",
      "eps: 0.03967260301197442 --> VarE: 0.0027559230619589054\n",
      "eps: 0.04159187875395668 --> VarE: 0.0034822537068007055\n",
      "eps: 0.04357234552825441 --> VarE: 0.00443242712177477\n",
      "eps: 0.04560376345942243 --> VarE: 0.0055440552779872886\n",
      "eps: 0.04767686118991137 --> VarE: 0.006758932354675463\n",
      "eps: 0.0497836818922118 --> VarE: 0.008067339293156513\n",
      "eps: 0.05191563089767317 --> VarE: 0.009491404844707995\n",
      "eps: 0.05406183658459036 --> VarE: 0.011017679237446173\n",
      "eps: 0.05621090819779765 --> VarE: 0.012497342453794757\n",
      "eps: 0.058358994349336536 --> VarE: 0.013814799316513133\n",
      "eps: 0.06050939803179263 --> VarE: 0.01506614203725581\n",
      "eps: 0.06266058053380763 --> VarE: 0.016368649431439935\n",
      "eps: 0.0648037777890521 --> VarE: 0.01791541577593053\n",
      "eps: 0.06691669483443848 --> VarE: 0.019768854938058536\n",
      "eps: 0.06897055194949475 --> VarE: 0.02196763145105662\n",
      "eps: 0.07093131388357139 --> VarE: 0.024460048241830856\n",
      "eps: 0.07276622829087945 --> VarE: 0.02687021179955637\n",
      "eps: 0.0744689111778954 --> VarE: 0.02941608181114681\n",
      "eps: 0.07601765811028152 --> VarE: 0.03181553554728837\n",
      "eps: 0.07741264360369707 --> VarE: 0.03407222645289601\n",
      "eps: 0.07865552656398633 --> VarE: 0.0440577660096499\n",
      "eps: 0.07912430753116953 --> VarE: 0.04505082776543487\n"
     ]
    },
    {
     "name": "stderr",
     "output_type": "stream",
     "text": [
      "\u001b[36m\u001b[1m[ \u001b[22m\u001b[39m\u001b[36m\u001b[1mInfo: \u001b[22m\u001b[39mVarE condition met during eps tuning at step: 43\n",
      "\u001b[36m\u001b[1m[ \u001b[22m\u001b[39m\u001b[36m\u001b[1mInfo: \u001b[22m\u001b[39mFound eps: 0.07912430753116953 ✅\n"
     ]
    }
   ],
   "source": [
    "samples_ensemble_mchmc = Sample(MCHMC(100; varE_wanted=0.05), target, 1000, 100;\n",
    "   monitor_energy=true, \n",
    "   dialog=true);"
   ]
  },
  {
   "cell_type": "code",
   "execution_count": 12,
   "id": "197541d7",
   "metadata": {},
   "outputs": [],
   "source": [
    "Wms_ensemble_mchmc = [sample[1] for sample in samples_ensemble_mchmc]\n",
    "s8s_ensemble_mchmc = [sample[2] for sample in samples_ensemble_mchmc];"
   ]
  },
  {
   "cell_type": "code",
   "execution_count": 13,
   "id": "654b0195",
   "metadata": {},
   "outputs": [
    {
     "data": {
      "image/png": "[encoded data removed]",
      "text/plain": [
       "Figure(PyObject <Figure size 640x480 with 1 Axes>)"
      ]
     },
     "metadata": {},
     "output_type": "display_data"
    }
   ],
   "source": [
    "plt.hist2d(Wms_ensemble_mchmc, s8s_ensemble_mchmc, bins=100, range=[[0.1, 0.6],[0.6, 1.2]]);\n",
    "plt.xlabel(\"Wm\")\n",
    "plt.ylabel(\"s8\")\n",
    "plt.title(\"Ensemble MCHMC - RSD model\");"
   ]
  },
  {
   "cell_type": "markdown",
   "id": "b9b6311f",
   "metadata": {
    "heading_collapsed": true
   },
   "source": [
    "##  AbstractMCMC"
   ]
  },
  {
   "cell_type": "code",
   "execution_count": 14,
   "id": "d569b9dc",
   "metadata": {
    "hidden": true
   },
   "outputs": [
    {
     "name": "stderr",
     "output_type": "stream",
     "text": [
      "\u001b[36m\u001b[1m[ \u001b[22m\u001b[39m\u001b[36m\u001b[1mInfo: \u001b[22m\u001b[39mTuning sigma ⏳\n",
      "\u001b[36m\u001b[1m[ \u001b[22m\u001b[39m\u001b[36m\u001b[1mInfo: \u001b[22m\u001b[39mTuning eps ⏳\n",
      "\u001b[36m\u001b[1m[ \u001b[22m\u001b[39m\u001b[36m\u001b[1mInfo: \u001b[22m\u001b[39mTuning L ⏳\n"
     ]
    },
    {
     "ename": "LoadError",
     "evalue": "DomainError with -0.33934227649544785:\nsqrt will only return a complex result if called with a complex argument. Try sqrt(Complex(x)).",
     "output_type": "error",
     "traceback": [
      "DomainError with -0.33934227649544785:\nsqrt will only return a complex result if called with a complex argument. Try sqrt(Complex(x)).",
      "",
      "Stacktrace:",
      "  [1] throw_complex_domainerror(f::Symbol, x::Float64)",
      "    @ Base.Math ./math.jl:33",
      "  [2] sqrt",
      "    @ ./math.jl:677 [inlined]",
      "  [3] _broadcast_getindex_evalf",
      "    @ ./broadcast.jl:683 [inlined]",
      "  [4] _broadcast_getindex",
      "    @ ./broadcast.jl:656 [inlined]",
      "  [5] getindex",
      "    @ ./broadcast.jl:610 [inlined]",
      "  [6] macro expansion",
      "    @ ./broadcast.jl:974 [inlined]",
      "  [7] macro expansion",
      "    @ ./simdloop.jl:77 [inlined]",
      "  [8] copyto!",
      "    @ ./broadcast.jl:973 [inlined]",
      "  [9] copyto!",
      "    @ ./broadcast.jl:926 [inlined]",
      " [10] copy",
      "    @ ./broadcast.jl:898 [inlined]",
      " [11] materialize(bc::Base.Broadcast.Broadcasted{Base.Broadcast.DefaultArrayStyle{1}, Nothing, typeof(sqrt), Tuple{Vector{Float64}}})",
      "    @ Base.Broadcast ./broadcast.jl:873",
      " [12] tune_sigma!(sampler::MicroCanonicalHMC.Sampler, target::TuringTarget; kwargs::Base.Pairs{Symbol, Bool, Tuple{Symbol}, NamedTuple{(:dialog,), Tuple{Bool}}})",
      "    @ MicroCanonicalHMC ~/PhD/MicroCanonicalHMC.jl/src/tuning.jl:89",
      " [13] tune_sigma!",
      "    @ ~/PhD/MicroCanonicalHMC.jl/src/tuning.jl:83 [inlined]",
      " [14] tune_hyperparameters(sampler::MicroCanonicalHMC.Sampler, target::TuringTarget, init::Tuple{Vector{Float64}, Vector{Float64}, Float64, Vector{Float64}, Float64}; kwargs::Base.Pairs{Symbol, Bool, Tuple{Symbol}, NamedTuple{(:dialog,), Tuple{Bool}}})",
      "    @ MicroCanonicalHMC ~/PhD/MicroCanonicalHMC.jl/src/tuning.jl:155",
      " [15] sample(model::DynamicPPL.Model{typeof(model), (:data, :cov), (:cov,), (), Tuple{Vector{Float64}, Matrix{Float64}}, Tuple{Matrix{Float64}}, DynamicPPL.DefaultContext}, sampler::MicroCanonicalHMC.Sampler, N::Int64; resume_from::Nothing, kwargs::Base.Pairs{Symbol, Bool, Tuple{Symbol}, NamedTuple{(:dialog,), Tuple{Bool}}})",
      "    @ MicroCanonicalHMC ~/PhD/MicroCanonicalHMC.jl/src/abstractmcmc.jl:18",
      " [16] top-level scope",
      "    @ In[14]:1"
     ]
    }
   ],
   "source": [
    "samples = sample(\n",
    "    stat_model, MCHMC(varE_wanted=2.0), 10000;\n",
    "    dialog=true)"
   ]
  },
  {
   "cell_type": "code",
   "execution_count": 15,
   "id": "eea6e813",
   "metadata": {
    "hidden": true
   },
   "outputs": [
    {
     "ename": "LoadError",
     "evalue": "UndefVarError: `samples` not defined",
     "output_type": "error",
     "traceback": [
      "UndefVarError: `samples` not defined",
      "",
      "Stacktrace:",
      " [1] top-level scope",
      "   @ In[15]:1"
     ]
    }
   ],
   "source": [
    "new_samples = sample(stat_model, MCHMC(varE_wanted=2.0), 10000; \n",
    "                     monitor_energy=true, \n",
    "                     progress=true, resume_from=samples)"
   ]
  },
  {
   "cell_type": "markdown",
   "id": "f7fdb382",
   "metadata": {
    "heading_collapsed": true
   },
   "source": [
    "## Ensemble AbstractMCMC"
   ]
  },
  {
   "cell_type": "code",
   "execution_count": 16,
   "id": "16856966",
   "metadata": {
    "hidden": true,
    "scrolled": false
   },
   "outputs": [
    {
     "name": "stderr",
     "output_type": "stream",
     "text": [
      "\u001b[36m\u001b[1m[ \u001b[22m\u001b[39m\u001b[36m\u001b[1mInfo: \u001b[22m\u001b[39mBurn-in started ⏳\n",
      "\u001b[36m\u001b[1m[ \u001b[22m\u001b[39m\u001b[36m\u001b[1mInfo: \u001b[22m\u001b[39mTuning sigma ⏳\n",
      "\u001b[36m\u001b[1m[ \u001b[22m\u001b[39m\u001b[36m\u001b[1mInfo: \u001b[22m\u001b[39mTuning eps ⏳\n",
      "\u001b[36m\u001b[1m[ \u001b[22m\u001b[39m\u001b[36m\u001b[1mInfo: \u001b[22m\u001b[39mTuning L ⏳\n",
      "\u001b[33m\u001b[1m┌ \u001b[22m\u001b[39m\u001b[33m\u001b[1mWarning: \u001b[22m\u001b[39mL-tuning not Implemented\n",
      "\u001b[33m\u001b[1m└ \u001b[22m\u001b[39m\u001b[90m@ MicroCanonicalHMC ~/PhD/MicroCanonicalHMC.jl/src/ensemble/tuning.jl:41\u001b[39m\n",
      "\u001b[36m\u001b[1m[ \u001b[22m\u001b[39m\u001b[36m\u001b[1mInfo: \u001b[22m\u001b[39mFound L: 1.4142135623730951 ✅\n",
      "\u001b[36m\u001b[1m[ \u001b[22m\u001b[39m\u001b[36m\u001b[1mInfo: \u001b[22m\u001b[39mVarE condition met during eps tuning at step: 13\n",
      "\u001b[36m\u001b[1m[ \u001b[22m\u001b[39m\u001b[36m\u001b[1mInfo: \u001b[22m\u001b[39mFound eps: 0.008664620420202015 ✅\n",
      "\u001b[36m\u001b[1m[ \u001b[22m\u001b[39m\u001b[36m\u001b[1mInfo: \u001b[22m\u001b[39mVirial loss condition met during burn-in at step: 2\n",
      "\u001b[36m\u001b[1m[ \u001b[22m\u001b[39m\u001b[36m\u001b[1mInfo: \u001b[22m\u001b[39mFound sigma: [1.620616898256196, 0.2532292543539198] ✅\n",
      "\u001b[33m\u001b[1m┌ \u001b[22m\u001b[39m\u001b[33m\u001b[1mWarning: \u001b[22m\u001b[39mMaximum number of steps reached during eps tuning\n",
      "\u001b[33m\u001b[1m└ \u001b[22m\u001b[39m\u001b[90m@ MicroCanonicalHMC ~/PhD/MicroCanonicalHMC.jl/src/ensemble/tuning.jl:214\u001b[39m\n",
      "\u001b[36m\u001b[1m[ \u001b[22m\u001b[39m\u001b[36m\u001b[1mInfo: \u001b[22m\u001b[39mFound eps: 0.0043824511407622386 ✅\n",
      "\u001b[32mChain 1: 100%|██████████████████████████████████████████| Time: 0:00:04\u001b[39m\n"
     ]
    },
    {
     "data": {
      "text/plain": [
       "Chains MCMC chain (100000×4×1 Array{Float64, 3}):\n",
       "\n",
       "Iterations        = 1:1:100000\n",
       "Number of chains  = 1\n",
       "Samples per chain = 100000\n",
       "Wall duration     = 6.0 seconds\n",
       "Compute duration  = 6.0 seconds\n",
       "parameters        = Ωm, σ8\n",
       "internals         = E, logp\n",
       "\n",
       "Summary Statistics\n",
       " \u001b[1m parameters \u001b[0m \u001b[1m    mean \u001b[0m \u001b[1m     std \u001b[0m \u001b[1m naive_se \u001b[0m \u001b[1m    mcse \u001b[0m \u001b[1m      ess \u001b[0m \u001b[1m    rhat \u001b[0m \u001b[1m e\u001b[0m ⋯\n",
       " \u001b[90m     Symbol \u001b[0m \u001b[90m Float64 \u001b[0m \u001b[90m Float64 \u001b[0m \u001b[90m  Float64 \u001b[0m \u001b[90m Float64 \u001b[0m \u001b[90m  Float64 \u001b[0m \u001b[90m Float64 \u001b[0m \u001b[90m  \u001b[0m ⋯\n",
       "\n",
       "          Ωm    0.2901    0.1673     0.0005    0.0088   233.6325    1.0001     ⋯\n",
       "          σ8    0.7617    0.2533     0.0008    0.0133   232.2530    1.0074     ⋯\n",
       "\u001b[36m                                                                1 column omitted\u001b[0m\n",
       "\n",
       "Quantiles\n",
       " \u001b[1m parameters \u001b[0m \u001b[1m    2.5% \u001b[0m \u001b[1m   25.0% \u001b[0m \u001b[1m   50.0% \u001b[0m \u001b[1m   75.0% \u001b[0m \u001b[1m   97.5% \u001b[0m\n",
       " \u001b[90m     Symbol \u001b[0m \u001b[90m Float64 \u001b[0m \u001b[90m Float64 \u001b[0m \u001b[90m Float64 \u001b[0m \u001b[90m Float64 \u001b[0m \u001b[90m Float64 \u001b[0m\n",
       "\n",
       "          Ωm    0.0259    0.1396    0.2759    0.4387    0.5603\n",
       "          σ8    0.3356    0.5914    0.7780    0.9295    1.2868\n"
      ]
     },
     "execution_count": 16,
     "metadata": {},
     "output_type": "execute_result"
    }
   ],
   "source": [
    "samples = sample(stat_model, MCHMC(100), 1000, 100)"
   ]
  },
  {
   "cell_type": "code",
   "execution_count": 17,
   "id": "603dfac8",
   "metadata": {
    "hidden": true
   },
   "outputs": [
    {
     "name": "stderr",
     "output_type": "stream",
     "text": [
      "\u001b[36m\u001b[1m[ \u001b[22m\u001b[39m\u001b[36m\u001b[1mInfo: \u001b[22m\u001b[39mStarting from previous run\n",
      "\u001b[32mChain 1: 100%|██████████████████████████████████████████| Time: 0:00:03\u001b[39m\n"
     ]
    },
    {
     "data": {
      "text/plain": [
       "Chains MCMC chain (100000×4×1 Array{Float64, 3}):\n",
       "\n",
       "Iterations        = 1:1:100000\n",
       "Number of chains  = 1\n",
       "Samples per chain = 100000\n",
       "Wall duration     = 3.38 seconds\n",
       "Compute duration  = 3.38 seconds\n",
       "parameters        = Ωm, σ8\n",
       "internals         = E, logp\n",
       "\n",
       "Summary Statistics\n",
       " \u001b[1m parameters \u001b[0m \u001b[1m    mean \u001b[0m \u001b[1m     std \u001b[0m \u001b[1m naive_se \u001b[0m \u001b[1m    mcse \u001b[0m \u001b[1m      ess \u001b[0m \u001b[1m    rhat \u001b[0m \u001b[1m e\u001b[0m ⋯\n",
       " \u001b[90m     Symbol \u001b[0m \u001b[90m Float64 \u001b[0m \u001b[90m Float64 \u001b[0m \u001b[90m  Float64 \u001b[0m \u001b[90m Float64 \u001b[0m \u001b[90m  Float64 \u001b[0m \u001b[90m Float64 \u001b[0m \u001b[90m  \u001b[0m ⋯\n",
       "\n",
       "          Ωm    0.2404    0.0736     0.0002    0.0040   224.4534    1.0585     ⋯\n",
       "          σ8    0.8627    0.0653     0.0002    0.0035   226.0813    1.0283     ⋯\n",
       "\u001b[36m                                                                1 column omitted\u001b[0m\n",
       "\n",
       "Quantiles\n",
       " \u001b[1m parameters \u001b[0m \u001b[1m    2.5% \u001b[0m \u001b[1m   25.0% \u001b[0m \u001b[1m   50.0% \u001b[0m \u001b[1m   75.0% \u001b[0m \u001b[1m   97.5% \u001b[0m\n",
       " \u001b[90m     Symbol \u001b[0m \u001b[90m Float64 \u001b[0m \u001b[90m Float64 \u001b[0m \u001b[90m Float64 \u001b[0m \u001b[90m Float64 \u001b[0m \u001b[90m Float64 \u001b[0m\n",
       "\n",
       "          Ωm    0.1345    0.1857    0.2350    0.2774    0.4314\n",
       "          σ8    0.7524    0.8142    0.8569    0.9029    0.9855\n"
      ]
     },
     "execution_count": 17,
     "metadata": {},
     "output_type": "execute_result"
    }
   ],
   "source": [
    "new_samples = sample(stat_model, MCHMC(100), 1000, 100; \n",
    "                     resume_from=samples)"
   ]
  },
  {
   "cell_type": "markdown",
   "id": "767048c5",
   "metadata": {
    "heading_collapsed": true
   },
   "source": [
    "## Parallelization"
   ]
  },
  {
   "cell_type": "code",
   "execution_count": 18,
   "id": "42cf1f7f",
   "metadata": {
    "hidden": true,
    "scrolled": false
   },
   "outputs": [
    {
     "name": "stderr",
     "output_type": "stream",
     "text": [
      "\u001b[36m\u001b[1m[ \u001b[22m\u001b[39m\u001b[36m\u001b[1mInfo: \u001b[22m\u001b[39mnumber of chains: 4 smaller than number of threads: 10. Increase the number of chains to make full use of your threads.\n",
      "\u001b[36m\u001b[1m[ \u001b[22m\u001b[39m\u001b[36m\u001b[1mInfo: \u001b[22m\u001b[39mTuning sigma ⏳\n",
      "\u001b[36m\u001b[1m[ \u001b[22m\u001b[39m\u001b[36m\u001b[1mInfo: \u001b[22m\u001b[39mTuning sigma ⏳\n",
      "\u001b[36m\u001b[1m[ \u001b[22m\u001b[39m\u001b[36m\u001b[1mInfo: \u001b[22m\u001b[39mTuning sigma ⏳\n",
      "\u001b[36m\u001b[1m[ \u001b[22m\u001b[39m\u001b[36m\u001b[1mInfo: \u001b[22m\u001b[39mTuning sigma ⏳\n",
      "\u001b[36m\u001b[1m[ \u001b[22m\u001b[39m\u001b[36m\u001b[1mInfo: \u001b[22m\u001b[39mTuning eps ⏳\n",
      "\u001b[36m\u001b[1m[ \u001b[22m\u001b[39m\u001b[36m\u001b[1mInfo: \u001b[22m\u001b[39mTuning eps ⏳\n",
      "\u001b[36m\u001b[1m[ \u001b[22m\u001b[39m\u001b[36m\u001b[1mInfo: \u001b[22m\u001b[39mTuning eps ⏳\n",
      "\u001b[36m\u001b[1m[ \u001b[22m\u001b[39m\u001b[36m\u001b[1mInfo: \u001b[22m\u001b[39mTuning L ⏳\n",
      "\u001b[36m\u001b[1m[ \u001b[22m\u001b[39m\u001b[36m\u001b[1mInfo: \u001b[22m\u001b[39mTuning L ⏳\n",
      "\u001b[36m\u001b[1m[ \u001b[22m\u001b[39m\u001b[36m\u001b[1mInfo: \u001b[22m\u001b[39mTuning L ⏳\n",
      "\u001b[36m\u001b[1m[ \u001b[22m\u001b[39m\u001b[36m\u001b[1mInfo: \u001b[22m\u001b[39mTuning eps ⏳\n",
      "\u001b[36m\u001b[1m[ \u001b[22m\u001b[39m\u001b[36m\u001b[1mInfo: \u001b[22m\u001b[39mTuning L ⏳\n"
     ]
    },
    {
     "ename": "LoadError",
     "evalue": "TaskFailedException\n\n\u001b[91m    nested task error: \u001b[39mDomainError with -0.33934227649544785:\n    sqrt will only return a complex result if called with a complex argument. Try sqrt(Complex(x)).\n    Stacktrace:\n      [1] \u001b[0m\u001b[1mthrow_complex_domainerror\u001b[22m\u001b[0m\u001b[1m(\u001b[22m\u001b[90mf\u001b[39m::\u001b[0mSymbol, \u001b[90mx\u001b[39m::\u001b[0mFloat64\u001b[0m\u001b[1m)\u001b[22m\n    \u001b[90m    @\u001b[39m \u001b[90mBase.Math\u001b[39m \u001b[90m./\u001b[39m\u001b[90m\u001b[4mmath.jl:33\u001b[24m\u001b[39m\n      [2] \u001b[0m\u001b[1msqrt\u001b[22m\n    \u001b[90m    @\u001b[39m \u001b[90m./\u001b[39m\u001b[90m\u001b[4mmath.jl:677\u001b[24m\u001b[39m\u001b[90m [inlined]\u001b[39m\n      [3] \u001b[0m\u001b[1m_broadcast_getindex_evalf\u001b[22m\n    \u001b[90m    @\u001b[39m \u001b[90m./\u001b[39m\u001b[90m\u001b[4mbroadcast.jl:683\u001b[24m\u001b[39m\u001b[90m [inlined]\u001b[39m\n      [4] \u001b[0m\u001b[1m_broadcast_getindex\u001b[22m\n    \u001b[90m    @\u001b[39m \u001b[90m./\u001b[39m\u001b[90m\u001b[4mbroadcast.jl:656\u001b[24m\u001b[39m\u001b[90m [inlined]\u001b[39m\n      [5] \u001b[0m\u001b[1mgetindex\u001b[22m\n    \u001b[90m    @\u001b[39m \u001b[90m./\u001b[39m\u001b[90m\u001b[4mbroadcast.jl:610\u001b[24m\u001b[39m\u001b[90m [inlined]\u001b[39m\n      [6] \u001b[0m\u001b[1mmacro expansion\u001b[22m\n    \u001b[90m    @\u001b[39m \u001b[90m./\u001b[39m\u001b[90m\u001b[4mbroadcast.jl:974\u001b[24m\u001b[39m\u001b[90m [inlined]\u001b[39m\n      [7] \u001b[0m\u001b[1mmacro expansion\u001b[22m\n    \u001b[90m    @\u001b[39m \u001b[90m./\u001b[39m\u001b[90m\u001b[4msimdloop.jl:77\u001b[24m\u001b[39m\u001b[90m [inlined]\u001b[39m\n      [8] \u001b[0m\u001b[1mcopyto!\u001b[22m\n    \u001b[90m    @\u001b[39m \u001b[90m./\u001b[39m\u001b[90m\u001b[4mbroadcast.jl:973\u001b[24m\u001b[39m\u001b[90m [inlined]\u001b[39m\n      [9] \u001b[0m\u001b[1mcopyto!\u001b[22m\n    \u001b[90m    @\u001b[39m \u001b[90m./\u001b[39m\u001b[90m\u001b[4mbroadcast.jl:926\u001b[24m\u001b[39m\u001b[90m [inlined]\u001b[39m\n     [10] \u001b[0m\u001b[1mcopy\u001b[22m\n    \u001b[90m    @\u001b[39m \u001b[90m./\u001b[39m\u001b[90m\u001b[4mbroadcast.jl:898\u001b[24m\u001b[39m\u001b[90m [inlined]\u001b[39m\n     [11] \u001b[0m\u001b[1mmaterialize\u001b[22m\u001b[0m\u001b[1m(\u001b[22m\u001b[90mbc\u001b[39m::\u001b[0mBase.Broadcast.Broadcasted\u001b[90m{Base.Broadcast.DefaultArrayStyle{1}, Nothing, typeof(sqrt), Tuple{Vector{Float64}}}\u001b[39m\u001b[0m\u001b[1m)\u001b[22m\n    \u001b[90m    @\u001b[39m \u001b[90mBase.Broadcast\u001b[39m \u001b[90m./\u001b[39m\u001b[90m\u001b[4mbroadcast.jl:873\u001b[24m\u001b[39m\n     [12] \u001b[0m\u001b[1mtune_sigma!\u001b[22m\u001b[0m\u001b[1m(\u001b[22m\u001b[90msampler\u001b[39m::\u001b[0mMicroCanonicalHMC.Sampler, \u001b[90mtarget\u001b[39m::\u001b[0mTuringTarget; \u001b[90mkwargs\u001b[39m::\u001b[0mBase.Pairs\u001b[90m{Symbol, Bool, Tuple{Symbol, Symbol}, NamedTuple{(:monitor_energy, :dialog), Tuple{Bool, Bool}}}\u001b[39m\u001b[0m\u001b[1m)\u001b[22m\n    \u001b[90m    @\u001b[39m \u001b[35mMicroCanonicalHMC\u001b[39m \u001b[90m~/PhD/MicroCanonicalHMC.jl/src/\u001b[39m\u001b[90m\u001b[4mtuning.jl:89\u001b[24m\u001b[39m\n     [13] \u001b[0m\u001b[1mtune_sigma!\u001b[22m\n    \u001b[90m    @\u001b[39m \u001b[90m~/PhD/MicroCanonicalHMC.jl/src/\u001b[39m\u001b[90m\u001b[4mtuning.jl:83\u001b[24m\u001b[39m\u001b[90m [inlined]\u001b[39m\n     [14] \u001b[0m\u001b[1mtune_hyperparameters\u001b[22m\u001b[0m\u001b[1m(\u001b[22m\u001b[90msampler\u001b[39m::\u001b[0mMicroCanonicalHMC.Sampler, \u001b[90mtarget\u001b[39m::\u001b[0mTuringTarget, \u001b[90minit\u001b[39m::\u001b[0mTuple\u001b[90m{Vector{Float64}, Vector{Float64}, Float64, Vector{Float64}, Float64}\u001b[39m; \u001b[90mkwargs\u001b[39m::\u001b[0mBase.Pairs\u001b[90m{Symbol, Bool, Tuple{Symbol, Symbol}, NamedTuple{(:monitor_energy, :dialog), Tuple{Bool, Bool}}}\u001b[39m\u001b[0m\u001b[1m)\u001b[22m\n    \u001b[90m    @\u001b[39m \u001b[35mMicroCanonicalHMC\u001b[39m \u001b[90m~/PhD/MicroCanonicalHMC.jl/src/\u001b[39m\u001b[90m\u001b[4mtuning.jl:155\u001b[24m\u001b[39m\n     [15] \u001b[0m\u001b[1mmacro expansion\u001b[22m\n    \u001b[90m    @\u001b[39m \u001b[90m~/PhD/MicroCanonicalHMC.jl/src/\u001b[39m\u001b[90m\u001b[4mabstractmcmc.jl:220\u001b[24m\u001b[39m\u001b[90m [inlined]\u001b[39m\n     [16] \u001b[0m\u001b[1m(::MicroCanonicalHMC.var\"#902#threadsfor_fun#95\"{MicroCanonicalHMC.var\"#902#threadsfor_fun#84#96\"{Base.Pairs{Symbol, Bool, Tuple{Symbol, Symbol}, NamedTuple{(:monitor_energy, :dialog), Tuple{Bool, Bool}}}, UnitRange{Int64}}})\u001b[22m\u001b[0m\u001b[1m(\u001b[22m\u001b[90mtid\u001b[39m::\u001b[0mInt64; \u001b[90monethread\u001b[39m::\u001b[0mBool\u001b[0m\u001b[1m)\u001b[22m\n    \u001b[90m    @\u001b[39m \u001b[35mMicroCanonicalHMC\u001b[39m \u001b[90m./\u001b[39m\u001b[90m\u001b[4mthreadingconstructs.jl:139\u001b[24m\u001b[39m\n     [17] \u001b[0m\u001b[1m#902#threadsfor_fun\u001b[22m\n    \u001b[90m    @\u001b[39m \u001b[90m./\u001b[39m\u001b[90m\u001b[4mthreadingconstructs.jl:106\u001b[24m\u001b[39m\u001b[90m [inlined]\u001b[39m\n     [18] \u001b[0m\u001b[1m(::Base.Threads.var\"#1#2\"{MicroCanonicalHMC.var\"#902#threadsfor_fun#95\"{MicroCanonicalHMC.var\"#902#threadsfor_fun#84#96\"{Base.Pairs{Symbol, Bool, Tuple{Symbol, Symbol}, NamedTuple{(:monitor_energy, :dialog), Tuple{Bool, Bool}}}, UnitRange{Int64}}}, Int64})\u001b[22m\u001b[0m\u001b[1m(\u001b[22m\u001b[0m\u001b[1m)\u001b[22m\n    \u001b[90m    @\u001b[39m \u001b[90mBase.Threads\u001b[39m \u001b[90m./\u001b[39m\u001b[90m\u001b[4mthreadingconstructs.jl:84\u001b[24m\u001b[39m\n\n...and 3 more exceptions.\n",
     "output_type": "error",
     "traceback": [
      "TaskFailedException\n\n\u001b[91m    nested task error: \u001b[39mDomainError with -0.33934227649544785:\n    sqrt will only return a complex result if called with a complex argument. Try sqrt(Complex(x)).\n    Stacktrace:\n      [1] \u001b[0m\u001b[1mthrow_complex_domainerror\u001b[22m\u001b[0m\u001b[1m(\u001b[22m\u001b[90mf\u001b[39m::\u001b[0mSymbol, \u001b[90mx\u001b[39m::\u001b[0mFloat64\u001b[0m\u001b[1m)\u001b[22m\n    \u001b[90m    @\u001b[39m \u001b[90mBase.Math\u001b[39m \u001b[90m./\u001b[39m\u001b[90m\u001b[4mmath.jl:33\u001b[24m\u001b[39m\n      [2] \u001b[0m\u001b[1msqrt\u001b[22m\n    \u001b[90m    @\u001b[39m \u001b[90m./\u001b[39m\u001b[90m\u001b[4mmath.jl:677\u001b[24m\u001b[39m\u001b[90m [inlined]\u001b[39m\n      [3] \u001b[0m\u001b[1m_broadcast_getindex_evalf\u001b[22m\n    \u001b[90m    @\u001b[39m \u001b[90m./\u001b[39m\u001b[90m\u001b[4mbroadcast.jl:683\u001b[24m\u001b[39m\u001b[90m [inlined]\u001b[39m\n      [4] \u001b[0m\u001b[1m_broadcast_getindex\u001b[22m\n    \u001b[90m    @\u001b[39m \u001b[90m./\u001b[39m\u001b[90m\u001b[4mbroadcast.jl:656\u001b[24m\u001b[39m\u001b[90m [inlined]\u001b[39m\n      [5] \u001b[0m\u001b[1mgetindex\u001b[22m\n    \u001b[90m    @\u001b[39m \u001b[90m./\u001b[39m\u001b[90m\u001b[4mbroadcast.jl:610\u001b[24m\u001b[39m\u001b[90m [inlined]\u001b[39m\n      [6] \u001b[0m\u001b[1mmacro expansion\u001b[22m\n    \u001b[90m    @\u001b[39m \u001b[90m./\u001b[39m\u001b[90m\u001b[4mbroadcast.jl:974\u001b[24m\u001b[39m\u001b[90m [inlined]\u001b[39m\n      [7] \u001b[0m\u001b[1mmacro expansion\u001b[22m\n    \u001b[90m    @\u001b[39m \u001b[90m./\u001b[39m\u001b[90m\u001b[4msimdloop.jl:77\u001b[24m\u001b[39m\u001b[90m [inlined]\u001b[39m\n      [8] \u001b[0m\u001b[1mcopyto!\u001b[22m\n    \u001b[90m    @\u001b[39m \u001b[90m./\u001b[39m\u001b[90m\u001b[4mbroadcast.jl:973\u001b[24m\u001b[39m\u001b[90m [inlined]\u001b[39m\n      [9] \u001b[0m\u001b[1mcopyto!\u001b[22m\n    \u001b[90m    @\u001b[39m \u001b[90m./\u001b[39m\u001b[90m\u001b[4mbroadcast.jl:926\u001b[24m\u001b[39m\u001b[90m [inlined]\u001b[39m\n     [10] \u001b[0m\u001b[1mcopy\u001b[22m\n    \u001b[90m    @\u001b[39m \u001b[90m./\u001b[39m\u001b[90m\u001b[4mbroadcast.jl:898\u001b[24m\u001b[39m\u001b[90m [inlined]\u001b[39m\n     [11] \u001b[0m\u001b[1mmaterialize\u001b[22m\u001b[0m\u001b[1m(\u001b[22m\u001b[90mbc\u001b[39m::\u001b[0mBase.Broadcast.Broadcasted\u001b[90m{Base.Broadcast.DefaultArrayStyle{1}, Nothing, typeof(sqrt), Tuple{Vector{Float64}}}\u001b[39m\u001b[0m\u001b[1m)\u001b[22m\n    \u001b[90m    @\u001b[39m \u001b[90mBase.Broadcast\u001b[39m \u001b[90m./\u001b[39m\u001b[90m\u001b[4mbroadcast.jl:873\u001b[24m\u001b[39m\n     [12] \u001b[0m\u001b[1mtune_sigma!\u001b[22m\u001b[0m\u001b[1m(\u001b[22m\u001b[90msampler\u001b[39m::\u001b[0mMicroCanonicalHMC.Sampler, \u001b[90mtarget\u001b[39m::\u001b[0mTuringTarget; \u001b[90mkwargs\u001b[39m::\u001b[0mBase.Pairs\u001b[90m{Symbol, Bool, Tuple{Symbol, Symbol}, NamedTuple{(:monitor_energy, :dialog), Tuple{Bool, Bool}}}\u001b[39m\u001b[0m\u001b[1m)\u001b[22m\n    \u001b[90m    @\u001b[39m \u001b[35mMicroCanonicalHMC\u001b[39m \u001b[90m~/PhD/MicroCanonicalHMC.jl/src/\u001b[39m\u001b[90m\u001b[4mtuning.jl:89\u001b[24m\u001b[39m\n     [13] \u001b[0m\u001b[1mtune_sigma!\u001b[22m\n    \u001b[90m    @\u001b[39m \u001b[90m~/PhD/MicroCanonicalHMC.jl/src/\u001b[39m\u001b[90m\u001b[4mtuning.jl:83\u001b[24m\u001b[39m\u001b[90m [inlined]\u001b[39m\n     [14] \u001b[0m\u001b[1mtune_hyperparameters\u001b[22m\u001b[0m\u001b[1m(\u001b[22m\u001b[90msampler\u001b[39m::\u001b[0mMicroCanonicalHMC.Sampler, \u001b[90mtarget\u001b[39m::\u001b[0mTuringTarget, \u001b[90minit\u001b[39m::\u001b[0mTuple\u001b[90m{Vector{Float64}, Vector{Float64}, Float64, Vector{Float64}, Float64}\u001b[39m; \u001b[90mkwargs\u001b[39m::\u001b[0mBase.Pairs\u001b[90m{Symbol, Bool, Tuple{Symbol, Symbol}, NamedTuple{(:monitor_energy, :dialog), Tuple{Bool, Bool}}}\u001b[39m\u001b[0m\u001b[1m)\u001b[22m\n    \u001b[90m    @\u001b[39m \u001b[35mMicroCanonicalHMC\u001b[39m \u001b[90m~/PhD/MicroCanonicalHMC.jl/src/\u001b[39m\u001b[90m\u001b[4mtuning.jl:155\u001b[24m\u001b[39m\n     [15] \u001b[0m\u001b[1mmacro expansion\u001b[22m\n    \u001b[90m    @\u001b[39m \u001b[90m~/PhD/MicroCanonicalHMC.jl/src/\u001b[39m\u001b[90m\u001b[4mabstractmcmc.jl:220\u001b[24m\u001b[39m\u001b[90m [inlined]\u001b[39m\n     [16] \u001b[0m\u001b[1m(::MicroCanonicalHMC.var\"#902#threadsfor_fun#95\"{MicroCanonicalHMC.var\"#902#threadsfor_fun#84#96\"{Base.Pairs{Symbol, Bool, Tuple{Symbol, Symbol}, NamedTuple{(:monitor_energy, :dialog), Tuple{Bool, Bool}}}, UnitRange{Int64}}})\u001b[22m\u001b[0m\u001b[1m(\u001b[22m\u001b[90mtid\u001b[39m::\u001b[0mInt64; \u001b[90monethread\u001b[39m::\u001b[0mBool\u001b[0m\u001b[1m)\u001b[22m\n    \u001b[90m    @\u001b[39m \u001b[35mMicroCanonicalHMC\u001b[39m \u001b[90m./\u001b[39m\u001b[90m\u001b[4mthreadingconstructs.jl:139\u001b[24m\u001b[39m\n     [17] \u001b[0m\u001b[1m#902#threadsfor_fun\u001b[22m\n    \u001b[90m    @\u001b[39m \u001b[90m./\u001b[39m\u001b[90m\u001b[4mthreadingconstructs.jl:106\u001b[24m\u001b[39m\u001b[90m [inlined]\u001b[39m\n     [18] \u001b[0m\u001b[1m(::Base.Threads.var\"#1#2\"{MicroCanonicalHMC.var\"#902#threadsfor_fun#95\"{MicroCanonicalHMC.var\"#902#threadsfor_fun#84#96\"{Base.Pairs{Symbol, Bool, Tuple{Symbol, Symbol}, NamedTuple{(:monitor_energy, :dialog), Tuple{Bool, Bool}}}, UnitRange{Int64}}}, Int64})\u001b[22m\u001b[0m\u001b[1m(\u001b[22m\u001b[0m\u001b[1m)\u001b[22m\n    \u001b[90m    @\u001b[39m \u001b[90mBase.Threads\u001b[39m \u001b[90m./\u001b[39m\u001b[90m\u001b[4mthreadingconstructs.jl:84\u001b[24m\u001b[39m\n\n...and 3 more exceptions.\n",
      "",
      "Stacktrace:",
      " [1] threading_run(fun::MicroCanonicalHMC.var\"#902#threadsfor_fun#95\"{MicroCanonicalHMC.var\"#902#threadsfor_fun#84#96\"{Base.Pairs{Symbol, Bool, Tuple{Symbol, Symbol}, NamedTuple{(:monitor_energy, :dialog), Tuple{Bool, Bool}}}, UnitRange{Int64}}}, static::Bool)",
      "   @ Base.Threads ./threadingconstructs.jl:96",
      " [2] macro expansion",
      "   @ ./threadingconstructs.jl:144 [inlined]",
      " [3] sample(model::DynamicPPL.Model{typeof(model), (:data, :cov), (:cov,), (), Tuple{Vector{Float64}, Matrix{Float64}}, Tuple{Matrix{Float64}}, DynamicPPL.DefaultContext}, sampler::MicroCanonicalHMC.Sampler, ::MCMCThreads, N::Int64, nchains::Int64; progress::Bool, progressname::String, resume_from::Nothing, kwargs::Base.Pairs{Symbol, Bool, Tuple{Symbol, Symbol}, NamedTuple{(:monitor_energy, :dialog), Tuple{Bool, Bool}}})",
      "   @ MicroCanonicalHMC ~/PhD/MicroCanonicalHMC.jl/src/abstractmcmc.jl:215",
      " [4] top-level scope",
      "   @ In[18]:1"
     ]
    }
   ],
   "source": [
    "samples = sample(\n",
    "    stat_model, MCHMC(varE_wanted=2.0), MCMCThreads(), 30000, 4;\n",
    "    monitor_energy=true, \n",
    "    dialog=true)"
   ]
  },
  {
   "cell_type": "code",
   "execution_count": 19,
   "id": "2e8cd8ab",
   "metadata": {
    "hidden": true,
    "scrolled": false
   },
   "outputs": [
    {
     "name": "stderr",
     "output_type": "stream",
     "text": [
      "\u001b[36m\u001b[1m[ \u001b[22m\u001b[39m\u001b[36m\u001b[1mInfo: \u001b[22m\u001b[39mStarting from previous run\n"
     ]
    },
    {
     "ename": "LoadError",
     "evalue": "MethodError: no method matching iterate(::Chains{Float64, AxisArrays.AxisArray{Float64, 3, Array{Float64, 3}, Tuple{AxisArrays.Axis{:iter, StepRange{Int64, Int64}}, AxisArrays.Axis{:var, Vector{Symbol}}, AxisArrays.Axis{:chain, UnitRange{Int64}}}}, Missing, NamedTuple{(:parameters, :internals), Tuple{Vector{Symbol}, Vector{Symbol}}}, NamedTuple{(:target, :sampler, :init, :start_time, :stop_time), Tuple{ParallelTarget, MicroCanonicalHMC.EnsembleSampler, Tuple{Tuple{Matrix{Float64}, Matrix{Float64}, Vector{Real}, Matrix{Real}, Vector{Float64}}, Tuple{Matrix{Real}, Vector{Float64}, Vector{Float64}}}, Float64, Float64}}})\n\n\u001b[0mClosest candidates are:\n\u001b[0m  iterate(\u001b[91m::Union{LinRange, StepRangeLen}\u001b[39m)\n\u001b[0m\u001b[90m   @\u001b[39m \u001b[90mBase\u001b[39m \u001b[90m\u001b[4mrange.jl:880\u001b[24m\u001b[39m\n\u001b[0m  iterate(\u001b[91m::Union{LinRange, StepRangeLen}\u001b[39m, \u001b[91m::Integer\u001b[39m)\n\u001b[0m\u001b[90m   @\u001b[39m \u001b[90mBase\u001b[39m \u001b[90m\u001b[4mrange.jl:880\u001b[24m\u001b[39m\n\u001b[0m  iterate(\u001b[91m::T\u001b[39m) where T<:Union{Base.KeySet{<:Any, <:Dict}, Base.ValueIterator{<:Dict}}\n\u001b[0m\u001b[90m   @\u001b[39m \u001b[90mBase\u001b[39m \u001b[90m\u001b[4mdict.jl:698\u001b[24m\u001b[39m\n\u001b[0m  ...\n",
     "output_type": "error",
     "traceback": [
      "MethodError: no method matching iterate(::Chains{Float64, AxisArrays.AxisArray{Float64, 3, Array{Float64, 3}, Tuple{AxisArrays.Axis{:iter, StepRange{Int64, Int64}}, AxisArrays.Axis{:var, Vector{Symbol}}, AxisArrays.Axis{:chain, UnitRange{Int64}}}}, Missing, NamedTuple{(:parameters, :internals), Tuple{Vector{Symbol}, Vector{Symbol}}}, NamedTuple{(:target, :sampler, :init, :start_time, :stop_time), Tuple{ParallelTarget, MicroCanonicalHMC.EnsembleSampler, Tuple{Tuple{Matrix{Float64}, Matrix{Float64}, Vector{Real}, Matrix{Real}, Vector{Float64}}, Tuple{Matrix{Real}, Vector{Float64}, Vector{Float64}}}, Float64, Float64}}})\n\n\u001b[0mClosest candidates are:\n\u001b[0m  iterate(\u001b[91m::Union{LinRange, StepRangeLen}\u001b[39m)\n\u001b[0m\u001b[90m   @\u001b[39m \u001b[90mBase\u001b[39m \u001b[90m\u001b[4mrange.jl:880\u001b[24m\u001b[39m\n\u001b[0m  iterate(\u001b[91m::Union{LinRange, StepRangeLen}\u001b[39m, \u001b[91m::Integer\u001b[39m)\n\u001b[0m\u001b[90m   @\u001b[39m \u001b[90mBase\u001b[39m \u001b[90m\u001b[4mrange.jl:880\u001b[24m\u001b[39m\n\u001b[0m  iterate(\u001b[91m::T\u001b[39m) where T<:Union{Base.KeySet{<:Any, <:Dict}, Base.ValueIterator{<:Dict}}\n\u001b[0m\u001b[90m   @\u001b[39m \u001b[90mBase\u001b[39m \u001b[90m\u001b[4mdict.jl:698\u001b[24m\u001b[39m\n\u001b[0m  ...\n",
      "",
      "Stacktrace:",
      " [1] iterate",
      "   @ ./generator.jl:44 [inlined]",
      " [2] collect(itr::Base.Generator{Chains{Float64, AxisArrays.AxisArray{Float64, 3, Array{Float64, 3}, Tuple{AxisArrays.Axis{:iter, StepRange{Int64, Int64}}, AxisArrays.Axis{:var, Vector{Symbol}}, AxisArrays.Axis{:chain, UnitRange{Int64}}}}, Missing, NamedTuple{(:parameters, :internals), Tuple{Vector{Symbol}, Vector{Symbol}}}, NamedTuple{(:target, :sampler, :init, :start_time, :stop_time), Tuple{ParallelTarget, MicroCanonicalHMC.EnsembleSampler, Tuple{Tuple{Matrix{Float64}, Matrix{Float64}, Vector{Real}, Matrix{Real}, Vector{Float64}}, Tuple{Matrix{Real}, Vector{Float64}, Vector{Float64}}}, Float64, Float64}}}, MicroCanonicalHMC.var\"#85#97\"})",
      "   @ Base ./array.jl:782",
      " [3] sample(model::DynamicPPL.Model{typeof(model), (:data, :cov), (:cov,), (), Tuple{Vector{Float64}, Matrix{Float64}}, Tuple{Matrix{Float64}}, DynamicPPL.DefaultContext}, sampler::MicroCanonicalHMC.Sampler, ::MCMCThreads, N::Int64, nchains::Int64; progress::Bool, progressname::String, resume_from::Chains{Float64, AxisArrays.AxisArray{Float64, 3, Array{Float64, 3}, Tuple{AxisArrays.Axis{:iter, StepRange{Int64, Int64}}, AxisArrays.Axis{:var, Vector{Symbol}}, AxisArrays.Axis{:chain, UnitRange{Int64}}}}, Missing, NamedTuple{(:parameters, :internals), Tuple{Vector{Symbol}, Vector{Symbol}}}, NamedTuple{(:target, :sampler, :init, :start_time, :stop_time), Tuple{ParallelTarget, MicroCanonicalHMC.EnsembleSampler, Tuple{Tuple{Matrix{Float64}, Matrix{Float64}, Vector{Real}, Matrix{Real}, Vector{Float64}}, Tuple{Matrix{Real}, Vector{Float64}, Vector{Float64}}}, Float64, Float64}}}, kwargs::Base.Pairs{Symbol, Bool, Tuple{Symbol, Symbol}, NamedTuple{(:monitor_energy, :dialog), Tuple{Bool, Bool}}})",
      "   @ MicroCanonicalHMC ~/PhD/MicroCanonicalHMC.jl/src/abstractmcmc.jl:228",
      " [4] top-level scope",
      "   @ In[19]:1"
     ]
    }
   ],
   "source": [
    "new_samples = sample(\n",
    "    stat_model, MCHMC(varE_wanted=2.0), MCMCThreads(), 30000, 4;\n",
    "    monitor_energy=true, \n",
    "    dialog=true, \n",
    "    resume_from=samples)"
   ]
  },
  {
   "cell_type": "markdown",
   "id": "4aadd3b5",
   "metadata": {},
   "source": [
    "## NUTS"
   ]
  },
  {
   "cell_type": "code",
   "execution_count": 20,
   "id": "dcbe40a3",
   "metadata": {},
   "outputs": [
    {
     "name": "stderr",
     "output_type": "stream",
     "text": [
      "\u001b[36m\u001b[1m┌ \u001b[22m\u001b[39m\u001b[36m\u001b[1mInfo: \u001b[22m\u001b[39mFound initial step size\n",
      "\u001b[36m\u001b[1m└ \u001b[22m\u001b[39m  ϵ = 0.05\n",
      "\u001b[32mSampling: 100%|█████████████████████████████████████████| Time: 0:00:07\u001b[39m\n"
     ]
    },
    {
     "data": {
      "text/plain": [
       "Chains MCMC chain (10000×14×1 Array{Float64, 3}):\n",
       "\n",
       "Iterations        = 11:1:10010\n",
       "Number of chains  = 1\n",
       "Samples per chain = 10000\n",
       "Wall duration     = 11.66 seconds\n",
       "Compute duration  = 11.66 seconds\n",
       "parameters        = Ωm, σ8\n",
       "internals         = lp, n_steps, is_accept, acceptance_rate, log_density, hamiltonian_energy, hamiltonian_energy_error, max_hamiltonian_energy_error, tree_depth, numerical_error, step_size, nom_step_size\n",
       "\n",
       "Summary Statistics\n",
       " \u001b[1m parameters \u001b[0m \u001b[1m    mean \u001b[0m \u001b[1m     std \u001b[0m \u001b[1m naive_se \u001b[0m \u001b[1m    mcse \u001b[0m \u001b[1m       ess \u001b[0m \u001b[1m    rhat \u001b[0m \u001b[1m \u001b[0m ⋯\n",
       " \u001b[90m     Symbol \u001b[0m \u001b[90m Float64 \u001b[0m \u001b[90m Float64 \u001b[0m \u001b[90m  Float64 \u001b[0m \u001b[90m Float64 \u001b[0m \u001b[90m   Float64 \u001b[0m \u001b[90m Float64 \u001b[0m \u001b[90m \u001b[0m ⋯\n",
       "\n",
       "          Ωm    0.2403    0.0683     0.0007    0.0017   1405.0343    1.0006    ⋯\n",
       "          σ8    0.8637    0.0619     0.0006    0.0012   2356.8676    1.0002    ⋯\n",
       "\u001b[36m                                                                1 column omitted\u001b[0m\n",
       "\n",
       "Quantiles\n",
       " \u001b[1m parameters \u001b[0m \u001b[1m    2.5% \u001b[0m \u001b[1m   25.0% \u001b[0m \u001b[1m   50.0% \u001b[0m \u001b[1m   75.0% \u001b[0m \u001b[1m   97.5% \u001b[0m\n",
       " \u001b[90m     Symbol \u001b[0m \u001b[90m Float64 \u001b[0m \u001b[90m Float64 \u001b[0m \u001b[90m Float64 \u001b[0m \u001b[90m Float64 \u001b[0m \u001b[90m Float64 \u001b[0m\n",
       "\n",
       "          Ωm    0.1333    0.1894    0.2317    0.2809    0.3915\n",
       "          σ8    0.7530    0.8194    0.8603    0.9035    0.9947\n"
      ]
     },
     "execution_count": 20,
     "metadata": {},
     "output_type": "execute_result"
    }
   ],
   "source": [
    "samples_hmc = sample(stat_model, NUTS(10, 0.65),\n",
    "                     10000, progress=true; save_state=true)"
   ]
  },
  {
   "cell_type": "code",
   "execution_count": 21,
   "id": "623ba990",
   "metadata": {},
   "outputs": [
    {
     "data": {
      "text/plain": [
       "3-dimensional AxisArray{Float64,3,...} with axes:\n",
       "    :iter, 11:1:10010\n",
       "    :var, [:Ωm, :σ8, :lp, :n_steps, :is_accept, :acceptance_rate, :log_density, :hamiltonian_energy, :hamiltonian_energy_error, :max_hamiltonian_energy_error, :tree_depth, :numerical_error, :step_size, :nom_step_size]\n",
       "    :chain, 1:1\n",
       "And data, a 10000×14×1 Array{Float64, 3}:\n",
       "[:, :, 1] =\n",
       " 0.195289  0.931189  15.6471   7.0  1.0  …  2.0  0.0  0.0471045  0.0471045\n",
       " 0.194965  0.891184  16.194    3.0  1.0     1.0  0.0  0.0471045  0.0471045\n",
       " 0.20792   0.883536  16.2748  15.0  1.0     3.0  0.0  0.0471045  0.0471045\n",
       " 0.252361  0.838644  16.1968  31.0  1.0     4.0  0.0  0.0471045  0.0471045\n",
       " 0.251986  0.825046  16.0557   1.0  1.0     1.0  0.0  0.0471045  0.0471045\n",
       " 0.24801   0.831916  16.1395   3.0  1.0  …  2.0  0.0  0.0471045  0.0471045\n",
       " 0.195668  0.864144  15.9732  21.0  1.0     4.0  0.0  0.0471045  0.0471045\n",
       " 0.264617  0.863147  15.8853  19.0  1.0     4.0  0.0  0.0471045  0.0471045\n",
       " 0.272399  0.787847  15.258    7.0  1.0     2.0  0.0  0.0471045  0.0471045\n",
       " 0.177485  0.831818  14.0719  23.0  1.0     4.0  0.0  0.0471045  0.0471045\n",
       " 0.180171  0.853985  15.1452   3.0  1.0  …  2.0  0.0  0.0471045  0.0471045\n",
       " 0.171713  0.970758  14.8959   7.0  1.0     2.0  0.0  0.0471045  0.0471045\n",
       " 0.309617  0.861916  14.6632  21.0  1.0     4.0  0.0  0.0471045  0.0471045\n",
       " ⋮                                       ⋱  ⋮                    \n",
       " 0.322923  0.793806  15.3018  15.0  1.0     3.0  0.0  0.0471045  0.0471045\n",
       " 0.31189   0.76655   14.6991   7.0  1.0     2.0  0.0  0.0471045  0.0471045\n",
       " 0.379489  0.75144   13.8479  31.0  1.0  …  4.0  0.0  0.0471045  0.0471045\n",
       " 0.38042   0.765048  14.1431   3.0  1.0     2.0  0.0  0.0471045  0.0471045\n",
       " 0.382154  0.757197  13.9635   3.0  1.0     1.0  0.0  0.0471045  0.0471045\n",
       " 0.376954  0.767477  14.2347  31.0  1.0     5.0  0.0  0.0471045  0.0471045\n",
       " 0.364653  0.814261  14.3859   7.0  1.0     2.0  0.0  0.0471045  0.0471045\n",
       " 0.1349    0.971494  14.6712  23.0  1.0  …  4.0  0.0  0.0471045  0.0471045\n",
       " 0.15293   0.990051  14.6072   7.0  1.0     2.0  0.0  0.0471045  0.0471045\n",
       " 0.16133   0.890763  15.2044  15.0  1.0     4.0  0.0  0.0471045  0.0471045\n",
       " 0.150458  0.9728    15.0322   7.0  1.0     2.0  0.0  0.0471045  0.0471045\n",
       " 0.152418  0.995637  14.4361   3.0  1.0     1.0  0.0  0.0471045  0.0471045"
      ]
     },
     "execution_count": 21,
     "metadata": {},
     "output_type": "execute_result"
    }
   ],
   "source": [
    "samples_hmc.value"
   ]
  },
  {
   "cell_type": "code",
   "execution_count": 22,
   "id": "fa9db828",
   "metadata": {},
   "outputs": [],
   "source": [
    "Wms_hmc = vec(samples_hmc[\"Ωm\"])\n",
    "s8s_hmc = vec(samples_hmc[\"σ8\"]);"
   ]
  },
  {
   "cell_type": "code",
   "execution_count": 23,
   "id": "3d063a52",
   "metadata": {},
   "outputs": [
    {
     "data": {
      "image/png": "[encoded data removed]",
      "text/plain": [
       "Figure(PyObject <Figure size 640x480 with 1 Axes>)"
      ]
     },
     "metadata": {},
     "output_type": "display_data"
    }
   ],
   "source": [
    "plt.hist2d(Wms_hmc, s8s_hmc, bins=100, range=[[0.1, 0.6],[0.6, 1.2]]);\n",
    "plt.xlabel(\"Wm\")\n",
    "plt.ylabel(\"s8\")\n",
    "plt.title(\"NUTS - RSD model\");"
   ]
  },
  {
   "cell_type": "code",
   "execution_count": null,
   "id": "e2f1bc9f",
   "metadata": {},
   "outputs": [],
   "source": []
  }
 ],
 "metadata": {
  "kernelspec": {
   "display_name": "Julia-1.9.0 10 Threads 1.9.0-rc1",
   "language": "julia",
   "name": "julia-1.9.0-10-threads-1.9"
  },
  "language_info": {
   "file_extension": ".jl",
   "mimetype": "application/julia",
   "name": "julia",
   "version": "1.9.0"
  }
 },
 "nbformat": 4,
 "nbformat_minor": 5
}
