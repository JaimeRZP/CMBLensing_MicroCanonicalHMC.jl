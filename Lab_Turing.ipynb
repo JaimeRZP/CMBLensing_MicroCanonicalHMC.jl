{
 "cells": [
  {
   "cell_type": "markdown",
   "id": "91129cb1",
   "metadata": {},
   "source": [
    "# Turing Target Practice"
   ]
  },
  {
   "cell_type": "markdown",
   "id": "97121235",
   "metadata": {},
   "source": [
    "## Model"
   ]
  },
  {
   "cell_type": "code",
   "execution_count": 1,
   "id": "86b96c9e",
   "metadata": {},
   "outputs": [
    {
     "name": "stderr",
     "output_type": "stream",
     "text": [
      "\u001b[32m\u001b[1m  Activating\u001b[22m\u001b[39m project at `~/PhD/MicroCanonicalHMC.jl`\n"
     ]
    }
   ],
   "source": [
    "] activate \".\""
   ]
  },
  {
   "cell_type": "code",
   "execution_count": 2,
   "id": "baed58e3",
   "metadata": {},
   "outputs": [],
   "source": [
    "# The statistical inference frame-work we will use\n",
    "using Turing\n",
    "using Interpolations\n",
    "using ForwardDiff\n",
    "using LinearAlgebra\n",
    "#using StatsPlots\n",
    "using PyPlot\n",
    "using Distributed\n",
    "\n",
    "using Revise\n",
    "using MicroCanonicalHMC"
   ]
  },
  {
   "cell_type": "code",
   "execution_count": 3,
   "id": "a7d6f81c",
   "metadata": {},
   "outputs": [],
   "source": [
    "fs8_zs = [0.38, 0.51, 0.61, 1.48, 0.44, 0.6, 0.73, 0.6, 0.86, 0.067, 1.4]\n",
    "fs8_data = [0.49749, 0.457523, 0.436148, 0.462, 0.413, 0.39, 0.437, 0.55, 0.4, 0.423, 0.482]\n",
    "fs8_cov = [0.00203355 0.000811829 0.000264615 0.0 0.0 0.0 0.0 0.0 0.0 0.0 0.0;\n",
    "           0.000811829 0.00142289 0.000662824 0.0 0.0 0.0 0.0 0.0 0.0 0.0 0.0; \n",
    "           0.000264615 0.000662824 0.00118576 0.0 0.0 0.0 0.0 0.0 0.0 0.0 0.0;\n",
    "           0.0 0.0 0.0 0.002025 0.0 0.0 0.0 0.0 0.0 0.0 0.0;\n",
    "           0.0 0.0 0.0 0.0 0.0064 0.00257 0.0 0.0 0.0 0.0 0.0;\n",
    "           0.0 0.0 0.0 0.0 0.00257 0.003969 0.00254 0.0 0.0 0.0 0.0;\n",
    "           0.0 0.0 0.0 0.0 0.0 0.00254 0.005184 0.0 0.0 0.0 0.0;\n",
    "           0.0 0.0 0.0 0.0 0.0 0.0 0.0 0.0144 0.0 0.0 0.0;\n",
    "           0.0 0.0 0.0 0.0 0.0 0.0 0.0 0.0 0.0121 0.0 0.0; \n",
    "           0.0 0.0 0.0 0.0 0.0 0.0 0.0 0.0 0.0 0.003025 0.0;\n",
    "           0.0 0.0 0.0 0.0 0.0 0.0 0.0 0.0 0.0 0.0 0.013456000000000001];"
   ]
  },
  {
   "cell_type": "code",
   "execution_count": 4,
   "id": "1359a630",
   "metadata": {
    "code_folding": []
   },
   "outputs": [
    {
     "data": {
      "text/plain": [
       "make_fs8 (generic function with 1 method)"
      ]
     },
     "execution_count": 4,
     "metadata": {},
     "output_type": "execute_result"
    }
   ],
   "source": [
    "function make_fs8(Ωm, σ8; Ωr=8.24*10^-5)\n",
    "    # ODE solution for growth factor\n",
    "    x_Dz = LinRange(0, log(1+1100), 300)\n",
    "    dx_Dz = x_Dz[2]-x_Dz[1]\n",
    "    z_Dz = @.(exp(x_Dz) - 1)\n",
    "    a_Dz = @.(1/(1+z_Dz))\n",
    "    aa = reverse(a_Dz)\n",
    "    e =  @.(sqrt.(abs(Ωm)*(1+z_Dz)^3+Ωr*(1+z_Dz)^4+(1-Ωm-Ωr)))\n",
    "    ee = reverse(e)\n",
    "\n",
    "    dd = zeros(typeof(Ωm), 300)\n",
    "    yy = zeros(typeof(Ωm), 300)\n",
    "    dd[1] = aa[1]\n",
    "    yy[1] = aa[1]^3*ee[end]\n",
    "\n",
    "    for i in 1:(300-1)\n",
    "        A0 = -1.5 * Ωm / (aa[i]*ee[i])\n",
    "        B0 = -1. / (aa[i]^2*ee[i])\n",
    "        A1 = -1.5 * Ωm / (aa[i+1]*ee[i+1])\n",
    "        B1 = -1. / (aa[i+1]^2*ee[i+1])\n",
    "        yy[i+1] = (1+0.5*dx_Dz^2*A0*B0)*yy[i] + 0.5*(A0+A1)*dx_Dz*dd[i]\n",
    "        dd[i+1] = 0.5*(B0+B1)*dx_Dz*yy[i] + (1+0.5*dx_Dz^2*A0*B0)*dd[i]\n",
    "    end\n",
    "\n",
    "    y = reverse(yy)\n",
    "    d = reverse(dd)\n",
    "\n",
    "    Dzi = LinearInterpolation(z_Dz, d./d[1], extrapolation_bc=Line())\n",
    "    fs8zi = LinearInterpolation(z_Dz, -σ8 .* y./ (a_Dz.^2 .*e.*d[1]),\n",
    "                                 extrapolation_bc=Line())\n",
    "    return fs8zi\n",
    "end"
   ]
  },
  {
   "cell_type": "code",
   "execution_count": 5,
   "id": "8005e277",
   "metadata": {},
   "outputs": [],
   "source": [
    "@model function model(data; cov = fs8_cov) \n",
    "    # Define priors\n",
    "    #KiDS priors\n",
    "    Ωm ~ Uniform(0.2, 0.25)#~ Normal(0.3, 0.1)\n",
    "    σ8 ~ Normal(0.8, 0.3)\n",
    "    fs8_itp = make_fs8(Ωm, σ8)\n",
    "    theory = fs8_itp(fs8_zs)\n",
    "    data ~ MvNormal(theory, cov)\n",
    "end;"
   ]
  },
  {
   "cell_type": "code",
   "execution_count": 6,
   "id": "1eebe796",
   "metadata": {},
   "outputs": [
    {
     "data": {
      "text/plain": [
       "DynamicPPL.Model{typeof(model), (:data, :cov), (:cov,), (), Tuple{Vector{Float64}, Matrix{Float64}}, Tuple{Matrix{Float64}}, DynamicPPL.DefaultContext}(model, (data = [0.49749, 0.457523, 0.436148, 0.462, 0.413, 0.39, 0.437, 0.55, 0.4, 0.423, 0.482], cov = [0.00203355 0.000811829 … 0.0 0.0; 0.000811829 0.00142289 … 0.0 0.0; … ; 0.0 0.0 … 0.003025 0.0; 0.0 0.0 … 0.0 0.013456000000000001]), (cov = [0.00203355 0.000811829 … 0.0 0.0; 0.000811829 0.00142289 … 0.0 0.0; … ; 0.0 0.0 … 0.003025 0.0; 0.0 0.0 … 0.0 0.013456000000000001],), DynamicPPL.DefaultContext())"
      ]
     },
     "execution_count": 6,
     "metadata": {},
     "output_type": "execute_result"
    }
   ],
   "source": [
    "stat_model = model(fs8_data)"
   ]
  },
  {
   "cell_type": "markdown",
   "id": "10dfa4cc",
   "metadata": {},
   "source": [
    "## Sampling"
   ]
  },
  {
   "cell_type": "code",
   "execution_count": 7,
   "id": "c8ed14a3",
   "metadata": {},
   "outputs": [],
   "source": [
    "target = TuringTarget(stat_model);"
   ]
  },
  {
   "cell_type": "code",
   "execution_count": 8,
   "id": "a79c2b35",
   "metadata": {},
   "outputs": [
    {
     "data": {
      "text/plain": [
       "MicroCanonicalHMC.Sampler(Settings(1, Random.MersenneTwister(0), 2.0, 0, 1000, 10, \"LF\"), Hyperparameters{Float64}(0.0, 0.0, 0.0, 0.1931833275037836), MicroCanonicalHMC.Leapfrog)"
      ]
     },
     "execution_count": 8,
     "metadata": {},
     "output_type": "execute_result"
    }
   ],
   "source": [
    "spl = MCHMC(0.0, 0.0, varE_wanted=2.0) #sqrt(target.d)*0.01"
   ]
  },
  {
   "cell_type": "code",
   "execution_count": 9,
   "id": "82938e27",
   "metadata": {
    "scrolled": false
   },
   "outputs": [
    {
     "name": "stderr",
     "output_type": "stream",
     "text": [
      "\u001b[36m\u001b[1m[ \u001b[22m\u001b[39m\u001b[36m\u001b[1mInfo: \u001b[22m\u001b[39mTuning eps ⏳\n"
     ]
    },
    {
     "name": "stdout",
     "output_type": "stream",
     "text": [
      "eps: 0.5 --> VarE: 667.899805082941\n",
      "eps: 0.25 --> VarE: 10.71105556477284\n",
      "eps: 0.125 --> VarE: 25.477371601651072\n",
      "eps: 0.0625 --> VarE: 2.741682282388976\n",
      "eps: 0.03125 --> VarE: 1.5428650112902709\n"
     ]
    },
    {
     "name": "stderr",
     "output_type": "stream",
     "text": [
      "\u001b[36m\u001b[1m[ \u001b[22m\u001b[39m\u001b[36m\u001b[1mInfo: \u001b[22m\u001b[39mFound eps: 0.03125 ✅\n",
      "\u001b[36m\u001b[1m[ \u001b[22m\u001b[39m\u001b[36m\u001b[1mInfo: \u001b[22m\u001b[39mTuning L ⏳\n"
     ]
    },
    {
     "name": "stdout",
     "output_type": "stream",
     "text": [
      "samples: 100--> ESS: 0.02447108120693197\n",
      "samples: 243--> ESS: 0.012619559317701218\n",
      "samples: 447--> ESS: 0.02138440580122325\n",
      "samples: 739--> ESS: 0.020657365385385887\n"
     ]
    },
    {
     "name": "stderr",
     "output_type": "stream",
     "text": [
      "\u001b[36m\u001b[1m[ \u001b[22m\u001b[39m\u001b[36m\u001b[1mInfo: \u001b[22m\u001b[39mFound L: 1.4142135623730951 ✅\n"
     ]
    },
    {
     "data": {
      "text/plain": [
       "10001-element Vector{Any}:\n",
       " [0.21148237750974663, 0.7310896255867678, 0.0, 8.8102837326117]\n",
       " [0.21148237750974663, 0.7310896255867678, 2.5901411914848644, 11.572025819488804]\n",
       " [0.21152610118351575, 0.7619472630913778, 7.43416645111949, 13.686432331743294]\n",
       " [0.21155597829241596, 0.7930154950791823, 5.624526725770995, 15.131853311947895]\n",
       " [0.21159183479606813, 0.8240043979504966, 3.656499405893655, 15.915078247109445]\n",
       " [0.21159633149847495, 0.8552503184447823, 1.6765710760150085, 16.025051343465137]\n",
       " [0.21160598847848006, 0.8864815151336765, -0.27301142483997864, 15.507673457082166]\n",
       " [0.2116926066488921, 0.9161898794736457, -1.8604918918590094, 14.495783259649487]\n",
       " [0.21183022170930144, 0.9434384837768207, -1.735154828638814, 14.766844999076229]\n",
       " [0.21210952299316285, 0.9374918936871632, 1.1022924274841177, 15.64096118162128]\n",
       " [0.21227522799082, 0.9119282429874118, 1.9968101166705718, 16.087316591613707]\n",
       " [0.21238841598507868, 0.883151070849664, 0.7546794518141535, 15.967259809264604]\n",
       " [0.21250497508090427, 0.8544962732580585, -0.8095407689821528, 15.313562412383623]\n",
       " ⋮\n",
       " [0.24021441099434956, 0.8900829202414121, -0.6719150213557405, 15.446324087024054]\n",
       " [0.2404568335055413, 0.8869802971741667, 0.24711798653818384, 15.708289356108038]\n",
       " [0.24066601165417667, 0.8718086670441431, 0.5060347699526204, 15.801907939732004]\n",
       " [0.2408143741487273, 0.8475212038022915, -0.20412655426985893, 15.394889145493398]\n",
       " [0.24092267554780133, 0.8198442861530495, -0.9102103499840268, 15.17690436198689]\n",
       " [0.24114599920423221, 0.81240841463843, 0.01686959618290551, 15.653081073798592]\n",
       " [0.24130010918895245, 0.8352772462982968, 0.900503745285242, 15.71805043621935]\n",
       " [0.24138783430561503, 0.8640233920240056, -0.38360036997885416, 15.17774551193698]\n",
       " [0.24147368632018762, 0.892839582496803, -1.4294797875737721, 14.564097328118951]\n",
       " [0.24165831105013427, 0.9096660083903492, -0.4996457781742869, 15.276638336697964]\n",
       " [0.24181155787769543, 0.8876864129411113, 1.5601938432966111, 15.682502001881522]\n",
       " [0.24192166349855987, 0.8609437315595391, 0.591665713979113, 15.517211256512882]"
      ]
     },
     "execution_count": 9,
     "metadata": {},
     "output_type": "execute_result"
    }
   ],
   "source": [
    "samples_mchmc = Sample(spl, target, 10000;\n",
    "                       monitor_energy=true, \n",
    "                       dialog=true)"
   ]
  },
  {
   "cell_type": "code",
   "execution_count": 10,
   "id": "9982a5de",
   "metadata": {},
   "outputs": [],
   "source": [
    "#plt.plot(samples_mchmc.E[8000:end])"
   ]
  },
  {
   "cell_type": "code",
   "execution_count": 11,
   "id": "f966c9fb",
   "metadata": {},
   "outputs": [],
   "source": [
    "#mean(samples_mchmc.E[8000:end])"
   ]
  },
  {
   "cell_type": "code",
   "execution_count": 12,
   "id": "999faaf8",
   "metadata": {},
   "outputs": [],
   "source": [
    "#std(samples_mchmc.E[8000:end])^2/target.d"
   ]
  },
  {
   "cell_type": "code",
   "execution_count": 13,
   "id": "385a8b1a",
   "metadata": {},
   "outputs": [],
   "source": [
    "Wms_mchmc = [sample[1] for sample in samples_mchmc]\n",
    "s8s_mchmc = [sample[2] for sample in samples_mchmc];"
   ]
  },
  {
   "cell_type": "code",
   "execution_count": 14,
   "id": "2a803eb8",
   "metadata": {},
   "outputs": [
    {
     "data": {
      "image/png": "[encoded data removed]",
      "text/plain": [
       "Figure(PyObject <Figure size 640x480 with 1 Axes>)"
      ]
     },
     "metadata": {},
     "output_type": "display_data"
    }
   ],
   "source": [
    "plt.hist2d(Wms_mchmc, s8s_mchmc, bins=100, range=[[0.1, 0.4],[0.6, 1.2]]);\n",
    "plt.xlabel(\"Wm\")\n",
    "plt.ylabel(\"s8\")\n",
    "plt.title(\"MCHMC - RSD model - eps = 0.001 --> var[E]~0.00003\");"
   ]
  },
  {
   "cell_type": "markdown",
   "id": "0a03dd58",
   "metadata": {},
   "source": [
    "## AbstractMCMC"
   ]
  },
  {
   "cell_type": "code",
   "execution_count": 15,
   "id": "d569b9dc",
   "metadata": {},
   "outputs": [
    {
     "name": "stderr",
     "output_type": "stream",
     "text": [
      "\u001b[36m\u001b[1m[ \u001b[22m\u001b[39m\u001b[36m\u001b[1mInfo: \u001b[22m\u001b[39mTuning eps ⏳\n"
     ]
    },
    {
     "name": "stdout",
     "output_type": "stream",
     "text": [
      "eps: 0.5 --> VarE: 2833.5682572610444\n",
      "eps: 0.25 --> VarE: 33.36189207412811\n",
      "eps: 0.125 --> VarE: 26.194722740329247\n",
      "eps: 0.0625 --> VarE: 4.3258796541766475\n",
      "eps: 0.03125 --> VarE: 0.4726454683410933\n",
      "samples: 100--> ESS: 0.05585388108555683\n",
      "samples: 243--> ESS: 0.010236274734864716\n",
      "samples: 447--> ESS: 0.005779376590289338\n",
      "samples: 739--> ESS: 0.014503171040425943\n"
     ]
    },
    {
     "name": "stderr",
     "output_type": "stream",
     "text": [
      "\u001b[36m\u001b[1m[ \u001b[22m\u001b[39m\u001b[36m\u001b[1mInfo: \u001b[22m\u001b[39mFound eps: 0.03125 ✅\n",
      "\u001b[36m\u001b[1m[ \u001b[22m\u001b[39m\u001b[36m\u001b[1mInfo: \u001b[22m\u001b[39mTuning L ⏳\n",
      "\u001b[36m\u001b[1m[ \u001b[22m\u001b[39m\u001b[36m\u001b[1mInfo: \u001b[22m\u001b[39mFound L: 1.4142135623730951 ✅\n",
      "\u001b[32mChain 1: 100%|██████████████████████████████████████████| Time: 0:00:01\u001b[39m\n"
     ]
    },
    {
     "data": {
      "text/plain": [
       "Chains MCMC chain (10000×4×1 Array{Float64, 3}):\n",
       "\n",
       "Iterations        = 1:1:10000\n",
       "Number of chains  = 1\n",
       "Samples per chain = 10000\n",
       "Wall duration     = 2.33 seconds\n",
       "Compute duration  = 2.33 seconds\n",
       "parameters        = Ωm, σ8\n",
       "internals         = E, logp\n",
       "\n",
       "Summary Statistics\n",
       " \u001b[1m parameters \u001b[0m \u001b[1m    mean \u001b[0m \u001b[1m     std \u001b[0m \u001b[1m naive_se \u001b[0m \u001b[1m    mcse \u001b[0m \u001b[1m       ess \u001b[0m \u001b[1m    rhat \u001b[0m \u001b[1m \u001b[0m ⋯\n",
       " \u001b[90m     Symbol \u001b[0m \u001b[90m Float64 \u001b[0m \u001b[90m Float64 \u001b[0m \u001b[90m  Float64 \u001b[0m \u001b[90m Float64 \u001b[0m \u001b[90m   Float64 \u001b[0m \u001b[90m Float64 \u001b[0m \u001b[90m \u001b[0m ⋯\n",
       "\n",
       "          Ωm    0.2248    0.0141     0.0001    0.0013     41.4234    1.0399    ⋯\n",
       "          σ8    0.8657    0.0401     0.0004    0.0011   2828.2060    1.0019    ⋯\n",
       "\u001b[36m                                                                1 column omitted\u001b[0m\n",
       "\n",
       "Quantiles\n",
       " \u001b[1m parameters \u001b[0m \u001b[1m    2.5% \u001b[0m \u001b[1m   25.0% \u001b[0m \u001b[1m   50.0% \u001b[0m \u001b[1m   75.0% \u001b[0m \u001b[1m   97.5% \u001b[0m\n",
       " \u001b[90m     Symbol \u001b[0m \u001b[90m Float64 \u001b[0m \u001b[90m Float64 \u001b[0m \u001b[90m Float64 \u001b[0m \u001b[90m Float64 \u001b[0m \u001b[90m Float64 \u001b[0m\n",
       "\n",
       "          Ωm    0.2011    0.2130    0.2259    0.2361    0.2481\n",
       "          σ8    0.7881    0.8388    0.8659    0.8929    0.9449\n"
      ]
     },
     "execution_count": 15,
     "metadata": {},
     "output_type": "execute_result"
    }
   ],
   "source": [
    "samples = sample(\n",
    "    stat_model, MCHMC(varE_wanted=2.0), 10000;\n",
    "    monitor_energy=true, \n",
    "    dialog=true)"
   ]
  },
  {
   "cell_type": "code",
   "execution_count": 16,
   "id": "eea6e813",
   "metadata": {},
   "outputs": [
    {
     "name": "stderr",
     "output_type": "stream",
     "text": [
      "\u001b[36m\u001b[1m[ \u001b[22m\u001b[39m\u001b[36m\u001b[1mInfo: \u001b[22m\u001b[39mStarting from previous run\n",
      "\u001b[32mChain 1: 100%|██████████████████████████████████████████| Time: 0:00:00\u001b[39m\n"
     ]
    },
    {
     "data": {
      "text/plain": [
       "Chains MCMC chain (10000×4×1 Array{Float64, 3}):\n",
       "\n",
       "Iterations        = 1:1:10000\n",
       "Number of chains  = 1\n",
       "Samples per chain = 10000\n",
       "Wall duration     = 1.09 seconds\n",
       "Compute duration  = 1.09 seconds\n",
       "parameters        = Ωm, σ8\n",
       "internals         = E, logp\n",
       "\n",
       "Summary Statistics\n",
       " \u001b[1m parameters \u001b[0m \u001b[1m    mean \u001b[0m \u001b[1m     std \u001b[0m \u001b[1m naive_se \u001b[0m \u001b[1m    mcse \u001b[0m \u001b[1m       ess \u001b[0m \u001b[1m    rhat \u001b[0m \u001b[1m \u001b[0m ⋯\n",
       " \u001b[90m     Symbol \u001b[0m \u001b[90m Float64 \u001b[0m \u001b[90m Float64 \u001b[0m \u001b[90m  Float64 \u001b[0m \u001b[90m Float64 \u001b[0m \u001b[90m   Float64 \u001b[0m \u001b[90m Float64 \u001b[0m \u001b[90m \u001b[0m ⋯\n",
       "\n",
       "          Ωm    0.2242    0.0146     0.0001    0.0014     43.4083    1.0052    ⋯\n",
       "          σ8    0.8663    0.0396     0.0004    0.0011   2819.4365    1.0002    ⋯\n",
       "\u001b[36m                                                                1 column omitted\u001b[0m\n",
       "\n",
       "Quantiles\n",
       " \u001b[1m parameters \u001b[0m \u001b[1m    2.5% \u001b[0m \u001b[1m   25.0% \u001b[0m \u001b[1m   50.0% \u001b[0m \u001b[1m   75.0% \u001b[0m \u001b[1m   97.5% \u001b[0m\n",
       " \u001b[90m     Symbol \u001b[0m \u001b[90m Float64 \u001b[0m \u001b[90m Float64 \u001b[0m \u001b[90m Float64 \u001b[0m \u001b[90m Float64 \u001b[0m \u001b[90m Float64 \u001b[0m\n",
       "\n",
       "          Ωm    0.2000    0.2110    0.2257    0.2373    0.2470\n",
       "          σ8    0.7891    0.8404    0.8663    0.8923    0.9448\n"
      ]
     },
     "execution_count": 16,
     "metadata": {},
     "output_type": "execute_result"
    }
   ],
   "source": [
    "new_samples = sample(stat_model, MCHMC(varE_wanted=2.0), 10000; \n",
    "                     monitor_energy=true, \n",
    "                     progress=true, resume_from=samples)"
   ]
  },
  {
   "cell_type": "markdown",
   "id": "767048c5",
   "metadata": {},
   "source": [
    "## Parallelization"
   ]
  },
  {
   "cell_type": "code",
   "execution_count": 162,
   "id": "d9093211",
   "metadata": {},
   "outputs": [],
   "source": [
    "using Distributed"
   ]
  },
  {
   "cell_type": "code",
   "execution_count": 163,
   "id": "7e6f5af6",
   "metadata": {},
   "outputs": [],
   "source": [
    "spl = MCHMC(; nchains=100)"
   ]
  },
  {
   "cell_type": "code",
   "execution_count": 164,
   "id": "809acc8f",
   "metadata": {},
   "outputs": [],
   "source": [
    "parallel_target  = ParallelTarget(target, 100);"
   ]
  },
  {
   "cell_type": "code",
   "execution_count": 178,
   "id": "31f21feb",
   "metadata": {},
   "outputs": [
    {
     "data": {
      "text/plain": [
       "(195.49244987877537, Real[-2.649151249825413 0.601558125741589; 1.1880791197958045 0.7437412961837004; … ; 3.076534864152871 0.8376571914951008; 1.1508032026959525 1.2123867466801683], [-0.0006836933314331329 0.10554549898932568; 7.424693270558839e-5 0.044567176810284055; … ; 0.0005055242851635299 0.004506136959704425; 0.0016161966677632402 -0.14251258846299314], Real[11.922277169393189, -11.50597679490941, 1.3579337677832812, -0.19706111896571255, -9.7200283640102, 28.022918922421663, -12.16628488730915, -15.91909379440494, -15.662017340281388, -11.074740250875028  …  36.46049651275178, -1.649185897248207, 21.485601179260414, -16.041206447511662, -11.604260975765332, -12.454227362232029, -7.139431224783162, 40.88505085382221, -14.455879549639226, 30.011188989515492], Real[-1.2378052450084338 -191.08680197621192; 0.1344217334051238 -80.6874700611047; … ; 0.9152357978143534 -8.158219053792266; 2.926073168110387 258.0145532638913])"
      ]
     },
     "execution_count": 178,
     "metadata": {},
     "output_type": "execute_result"
    }
   ],
   "source": [
    "MicroCanonicalHMC.Init_parallel(spl, parallel_target)"
   ]
  },
  {
   "cell_type": "code",
   "execution_count": null,
   "id": "d88c3e6a",
   "metadata": {},
   "outputs": [],
   "source": []
  },
  {
   "cell_type": "code",
   "execution_count": 26,
   "id": "42cf1f7f",
   "metadata": {
    "scrolled": false
   },
   "outputs": [
    {
     "name": "stderr",
     "output_type": "stream",
     "text": [
      "\u001b[36m\u001b[1m[ \u001b[22m\u001b[39m\u001b[36m\u001b[1mInfo: \u001b[22m\u001b[39mTuning eps ⏳\n"
     ]
    },
    {
     "name": "stdout",
     "output_type": "stream",
     "text": [
      "eps: 0.5 --> VarE: 1996.2515854233613\n",
      "eps: 0.25 --> VarE: 67.57173174691381\n",
      "eps: 0.125 --> VarE: 21.004653315651524\n",
      "eps: 0.0625 --> VarE: 3.501769028929191\n",
      "eps: 0.03125 --> VarE: 0.5508056954151862\n",
      "samples: 100--> ESS: 0.024259392448212576\n",
      "samples: 243--> ESS: 0.012116394754875663\n",
      "samples: 447--> ESS: 0.007815896751676854\n",
      "samples: 739--> ESS: 0.019491097336357226\n"
     ]
    },
    {
     "name": "stderr",
     "output_type": "stream",
     "text": [
      "\u001b[36m\u001b[1m[ \u001b[22m\u001b[39m\u001b[36m\u001b[1mInfo: \u001b[22m\u001b[39mFound eps: 0.03125 ✅\n",
      "\u001b[36m\u001b[1m[ \u001b[22m\u001b[39m\u001b[36m\u001b[1mInfo: \u001b[22m\u001b[39mTuning L ⏳\n",
      "\u001b[36m\u001b[1m[ \u001b[22m\u001b[39m\u001b[36m\u001b[1mInfo: \u001b[22m\u001b[39mFound L: 1.4142135623730951 ✅\n",
      "\u001b[32mchain 1:   3%|█▎                                        |  ETA: 0:00:04\u001b[39m\n",
      "\u001b[36mchain 3:   2%|█                                         |  ETA: 0:00:04\u001b[39m\n",
      "\u001b[34mchain 2:   2%|█                                         |  ETA: 0:00:04\u001b[39m\n",
      "\u001b[35mchain 4:   2%|█                                         |  ETA: 0:00:04\u001b[39m\n",
      "\u001b[32mchain 1:   6%|██▌                                       |  ETA: 0:00:03\u001b[39m\n",
      "\u001b[36mchain 3:   6%|██▎                                       |  ETA: 0:00:04\u001b[39m\n",
      "\u001b[35mchain 4:   6%|██▎                                       |  ETA: 0:00:04\u001b[39m\n",
      "\u001b[34mchain 2:   6%|██▎                                       |  ETA: 0:00:04\u001b[39m\n",
      "\u001b[32mchain 1:   9%|███▊                                      |  ETA: 0:00:03\u001b[39m\n",
      "\u001b[36mchain 3:   8%|███▍                                      |  ETA: 0:00:04\u001b[39m\n",
      "\u001b[35mchain 4:   8%|███▋                                      |  ETA: 0:00:04\u001b[39m\n",
      "\u001b[34mchain 2:   8%|███▋                                      |  ETA: 0:00:04\u001b[39m\n",
      "\u001b[32mchain 1:  12%|█████                                     |  ETA: 0:00:03\u001b[39m\n",
      "\n",
      "\u001b[36mchain 3:  11%|████▋                                     |  ETA: 0:00:04\u001b[39m\n",
      "\u001b[34mchain 2:  12%|████▉                                     |  ETA: 0:00:03\u001b[39m\n",
      "\u001b[35mchain 4:  12%|████▉                                     |  ETA: 0:00:03\u001b[39m\n",
      "\u001b[32mchain 1:  15%|██████▎                                   |  ETA: 0:00:03\u001b[39m\n",
      "\u001b[34mchain 2:  14%|█████▉                                    |  ETA: 0:00:03\u001b[39m\n",
      "\u001b[36mchain 3:  14%|█████▉                                    |  ETA: 0:00:03\u001b[39m\n",
      "\u001b[35mchain 4:  14%|██████▏                                   |  ETA: 0:00:03\u001b[39m\n",
      "\u001b[32mchain 1:  18%|███████▍                                  |  ETA: 0:00:03\u001b[39m\n",
      "\u001b[34mchain 2:  16%|██████▉                                   |  ETA: 0:00:03\u001b[39m\n",
      "\u001b[36mchain 3:  17%|███████▏                                  |  ETA: 0:00:03\u001b[39m\n",
      "\u001b[35mchain 4:  18%|███████▍                                  |  ETA: 0:00:03\u001b[39m\n",
      "\u001b[32mchain 1:  20%|████████▋                                 |  ETA: 0:00:03\u001b[39m\n",
      "\u001b[34mchain 2:  20%|████████▎                                 |  ETA: 0:00:03\u001b[39m\n",
      "\u001b[36mchain 3:  20%|████████▍                                 |  ETA: 0:00:03\u001b[39m\n",
      "\u001b[35mchain 4:  20%|████████▋                                 |  ETA: 0:00:03\u001b[39m\n",
      "\u001b[32mchain 1:  24%|█████████▉                                |  ETA: 0:00:03\u001b[39m\n",
      "\u001b[34mchain 2:  22%|█████████▌                                |  ETA: 0:00:03\u001b[39m\n",
      "\u001b[36mchain 3:  23%|█████████▋                                |  ETA: 0:00:03\u001b[39m\n",
      "\u001b[35mchain 4:  23%|█████████▋                                |  ETA: 0:00:03\u001b[39m\n",
      "\u001b[32mchain 1:  26%|███████████▏                              |  ETA: 0:00:03\u001b[39m\n",
      "\u001b[34mchain 2:  26%|██████████▊                               |  ETA: 0:00:03\u001b[39m\n",
      "\u001b[35mchain 4:  26%|██████████▉                               |  ETA: 0:00:03\u001b[39m\n",
      "\u001b[36mchain 3:  26%|██████████▉                               |  ETA: 0:00:03\u001b[39m\n",
      "\u001b[32mchain 1:  29%|████████████▏                             |  ETA: 0:00:03\u001b[39m\n",
      "\u001b[34mchain 2:  28%|████████████                              |  ETA: 0:00:03\u001b[39m\n",
      "\n",
      "\u001b[35mchain 4:  29%|████████████▏                             |  ETA: 0:00:03\u001b[39m\u001b[36mchain 3:  29%|████████████▏                             |  ETA: 0:00:03\u001b[39m\n",
      "\u001b[32mchain 1:  32%|█████████████▌                            |  ETA: 0:00:03\u001b[39m\n",
      "\u001b[34mchain 2:  32%|█████████████▎                            |  ETA: 0:00:03\u001b[39m\n",
      "\u001b[35mchain 4:  32%|█████████████▌                            |  ETA: 0:00:03\u001b[39m\n",
      "\u001b[36mchain 3:  32%|█████████████▌                            |  ETA: 0:00:03\u001b[39m\n",
      "\u001b[32mchain 1:  35%|██████████████▊                           |  ETA: 0:00:02\u001b[39m\n",
      "\u001b[34mchain 2:  34%|██████████████▌                           |  ETA: 0:00:03\u001b[39m\n",
      "\n",
      "\u001b[35mchain 4:  35%|██████████████▊                           |  ETA: 0:00:02\u001b[39m\n",
      "\u001b[36mchain 3:  35%|██████████████▊                           |  ETA: 0:00:02\u001b[39m\n",
      "\u001b[32mchain 1:  38%|████████████████                          |  ETA: 0:00:02\u001b[39m\n",
      "\u001b[34mchain 2:  38%|███████████████▊                          |  ETA: 0:00:02\u001b[39m\n",
      "\u001b[35mchain 4:  38%|████████████████                          |  ETA: 0:00:02\u001b[39m\n",
      "\u001b[36mchain 3:  38%|████████████████                          |  ETA: 0:00:02\u001b[39m\n",
      "\u001b[32mchain 1:  41%|█████████████████▎                        |  ETA: 0:00:02\u001b[39m\n",
      "\n",
      "\u001b[34mchain 2:  40%|█████████████████                         |  ETA: 0:00:02\u001b[39m\n",
      "\u001b[35mchain 4:  41%|█████████████████▎                        |  ETA: 0:00:02\u001b[39m\n",
      "\u001b[36mchain 3:  41%|█████████████████▎                        |  ETA: 0:00:02\u001b[39m\n",
      "\u001b[32mchain 1:  44%|██████████████████▌                       |  ETA: 0:00:02\u001b[39m\n",
      "\u001b[34mchain 2:  44%|██████████████████▎                       |  ETA: 0:00:02\u001b[39m\n",
      "\n",
      "\u001b[35mchain 4:  44%|██████████████████▌                       |  ETA: 0:00:02\u001b[39m\u001b[36mchain 3:  44%|██████████████████▌                       |  ETA: 0:00:02\u001b[39m\n",
      "\u001b[32mchain 1:  47%|███████████████████▊                      |  ETA: 0:00:02\u001b[39m\n",
      "\u001b[34mchain 2:  46%|███████████████████▌                      |  ETA: 0:00:02\u001b[39m\n",
      "\u001b[35mchain 4:  47%|███████████████████▊                      |  ETA: 0:00:02\u001b[39m\n",
      "\u001b[36mchain 3:  47%|███████████████████▊                      |  ETA: 0:00:02\u001b[39m\n",
      "\u001b[32mchain 1:  50%|█████████████████████                     |  ETA: 0:00:02\u001b[39m\n",
      "\n",
      "\n",
      "\u001b[36mchain 3:  50%|████████████████████▊                     |  ETA: 0:00:02\u001b[39m\u001b[32mchain 1:  52%|██████████████████████                    |  ETA: 0:00:02\u001b[39m\u001b[35mchain 4:  50%|████████████████████▊                     |  ETA: 0:00:02\u001b[39m\n",
      "\u001b[34mchain 2:  50%|████████████████████▊                     |  ETA: 0:00:02\u001b[39m\n",
      "\u001b[34mchain 2:  52%|██████████████████████                    |  ETA: 0:00:02\u001b[39m\n",
      "\u001b[32mchain 1:  56%|███████████████████████▎                  |  ETA: 0:00:02\u001b[39m\n",
      "\u001b[35mchain 4:  52%|██████████████████████                    |  ETA: 0:00:02\u001b[39m\n",
      "\u001b[36mchain 3:  52%|██████████████████████                    |  ETA: 0:00:02\u001b[39m\n",
      "\n",
      "\u001b[34mchain 2:  56%|███████████████████████▎                  |  ETA: 0:00:02\u001b[39m\u001b[35mchain 4:  56%|███████████████████████▎                  |  ETA: 0:00:02\u001b[39m\n",
      "\u001b[32mchain 1:  58%|████████████████████████▋                 |  ETA: 0:00:02\u001b[39m\n",
      "\u001b[36mchain 3:  56%|███████████████████████▎                  |  ETA: 0:00:02\u001b[39m\n",
      "\u001b[36mchain 3:  58%|████████████████████████▍                 |  ETA: 0:00:02\u001b[39m\n",
      "\n",
      "\u001b[34mchain 2:  58%|████████████████████████▋                 |  ETA: 0:00:02\u001b[39m\u001b[35mchain 4:  58%|████████████████████████▋                 |  ETA: 0:00:02\u001b[39m\n",
      "\u001b[32mchain 1:  62%|█████████████████████████▉                |  ETA: 0:00:01\u001b[39m\n",
      "\u001b[34mchain 2:  61%|█████████████████████████▋                |  ETA: 0:00:01\u001b[39m\n",
      "\u001b[36mchain 3:  61%|█████████████████████████▋                |  ETA: 0:00:01\u001b[39m\n",
      "\u001b[35mchain 4:  62%|█████████████████████████▉                |  ETA: 0:00:01\u001b[39m\n",
      "\u001b[32mchain 1:  64%|███████████████████████████▏              |  ETA: 0:00:01\u001b[39m\n",
      "\u001b[34mchain 2:  64%|██████████████████████████▉               |  ETA: 0:00:01\u001b[39m\n",
      "\u001b[35mchain 4:  64%|██████████████████████████▉               |  ETA: 0:00:01\u001b[39m\n",
      "\u001b[36mchain 3:  64%|██████████████████████████▉               |  ETA: 0:00:01\u001b[39m\n",
      "\u001b[32mchain 1:  68%|████████████████████████████▍             |  ETA: 0:00:01\u001b[39m\n",
      "\u001b[34mchain 2:  67%|████████████████████████████▏             |  ETA: 0:00:01\u001b[39m\n",
      "\u001b[35mchain 4:  67%|████████████████████████████▏             |  ETA: 0:00:01\u001b[39m\n",
      "\u001b[36mchain 3:  67%|████████████████████████████▏             |  ETA: 0:00:01\u001b[39m\n",
      "\u001b[32mchain 1:  70%|█████████████████████████████▋            |  ETA: 0:00:01\u001b[39m\n",
      "\u001b[32mchain 1:  73%|██████████████████████████████▋           |  ETA: 0:00:01\u001b[39m\n",
      "\u001b[34mchain 2:  70%|█████████████████████████████▍            |  ETA: 0:00:01\u001b[39m\n",
      "\u001b[35mchain 4:  70%|█████████████████████████████▍            |  ETA: 0:00:01\u001b[39m\n",
      "\u001b[36mchain 3:  70%|█████████████████████████████▍            |  ETA: 0:00:01\u001b[39m\n",
      "\u001b[35mchain 4:  72%|██████████████████████████████▌           |  ETA: 0:00:01\u001b[39m\n",
      "\u001b[36mchain 3:  72%|██████████████████████████████▌           |  ETA: 0:00:01\u001b[39m\n"
     ]
    },
    {
     "name": "stderr",
     "output_type": "stream",
     "text": [
      "\u001b[32mchain 1:  76%|███████████████████████████████▉          |  ETA: 0:00:01\u001b[39m\n",
      "\u001b[34mchain 2:  73%|██████████████████████████████▋           |  ETA: 0:00:01\u001b[39m\n",
      "\u001b[35mchain 4:  76%|███████████████████████████████▊          |  ETA: 0:00:01\u001b[39m\n",
      "\u001b[34mchain 2:  76%|███████████████████████████████▊          |  ETA: 0:00:01\u001b[39m\n",
      "\u001b[36mchain 3:  76%|███████████████████████████████▊          |  ETA: 0:00:01\u001b[39m\n",
      "\u001b[32mchain 1:  79%|█████████████████████████████████▏        |  ETA: 0:00:01\u001b[39m\n",
      "\u001b[35mchain 4:  78%|█████████████████████████████████         |  ETA: 0:00:01\u001b[39m\n",
      "\u001b[34mchain 2:  78%|█████████████████████████████████         |  ETA: 0:00:01\u001b[39m\n",
      "\u001b[36mchain 3:  78%|█████████████████████████████████         |  ETA: 0:00:01\u001b[39m\n",
      "\u001b[32mchain 1:  82%|██████████████████████████████████▌       |  ETA: 0:00:01\u001b[39m\n",
      "\u001b[35mchain 4:  82%|██████████████████████████████████▎       |  ETA: 0:00:01\u001b[39m\n",
      "\u001b[34mchain 2:  82%|██████████████████████████████████▎       |  ETA: 0:00:01\u001b[39m\n",
      "\u001b[36mchain 3:  82%|██████████████████████████████████▎       |  ETA: 0:00:01\u001b[39m\n",
      "\u001b[32mchain 1:  85%|███████████████████████████████████▊      |  ETA: 0:00:01\u001b[39m\n",
      "\u001b[35mchain 4:  84%|███████████████████████████████████▌      |  ETA: 0:00:01\u001b[39m\n",
      "\u001b[34mchain 2:  84%|███████████████████████████████████▌      |  ETA: 0:00:01\u001b[39m\n",
      "\u001b[32mchain 1:  88%|█████████████████████████████████████     |  ETA: 0:00:00\u001b[39m\n",
      "\u001b[36mchain 3:  84%|███████████████████████████████████▌      |  ETA: 0:00:01\u001b[39m\n",
      "\u001b[32mchain 1:  90%|██████████████████████████████████████    |  ETA: 0:00:00\u001b[39m\n",
      "\u001b[35mchain 4:  88%|████████████████████████████████████▊     |  ETA: 0:00:00\u001b[39m\n",
      "\u001b[34mchain 2:  87%|████████████████████████████████████▌     |  ETA: 0:00:00\u001b[39m\n",
      "\u001b[36mchain 3:  88%|████████████████████████████████████▊     |  ETA: 0:00:00\u001b[39m\n",
      "\u001b[35mchain 4:  90%|██████████████████████████████████████    |  ETA: 0:00:00\u001b[39m\n",
      "\u001b[32mchain 1:  94%|███████████████████████████████████████▎  |  ETA: 0:00:00\u001b[39m\n",
      "\u001b[34mchain 2:  90%|█████████████████████████████████████▊    |  ETA: 0:00:00\u001b[39m\n",
      "\u001b[36mchain 3:  90%|██████████████████████████████████████    |  ETA: 0:00:00\u001b[39m\n",
      "\u001b[35mchain 4:  94%|███████████████████████████████████████▎  |  ETA: 0:00:00\u001b[39m\n",
      "\u001b[32mchain 1:  96%|████████████████████████████████████████▌ |  ETA: 0:00:00\u001b[39m\n",
      "\u001b[34mchain 2:  93%|███████████████████████████████████████   |  ETA: 0:00:00\u001b[39m\n",
      "\n",
      "\u001b[36mchain 3:  94%|███████████████████████████████████████▌  |  ETA: 0:00:00\u001b[39m\n",
      "\n",
      "\u001b[32mchain 1: 100%|█████████████████████████████████████████▊|  ETA: 0:00:00\u001b[39m\n",
      "\u001b[35mchain 4:  96%|████████████████████████████████████████▌ |  ETA: 0:00:00\u001b[39m\n",
      "\u001b[32mchain 1: 100%|██████████████████████████████████████████| Time: 0:00:03\u001b[39m\n",
      "\n",
      "\u001b[36mchain 3:  97%|████████████████████████████████████████▊ |  ETA: 0:00:00\u001b[39m\n",
      "\n",
      "\u001b[35mchain 4:  99%|█████████████████████████████████████████▋|  ETA: 0:00:00\u001b[39m\n",
      "\u001b[34mchain 2:  98%|█████████████████████████████████████████▍|  ETA: 0:00:00\u001b[39m\n",
      "\u001b[35mchain 4: 100%|██████████████████████████████████████████| Time: 0:00:03\u001b[39m\n",
      "\u001b[36mchain 3: 100%|██████████████████████████████████████████| Time: 0:00:03\u001b[39m\n",
      "\u001b[34mchain 2: 100%|██████████████████████████████████████████| Time: 0:00:03\u001b[39m\n"
     ]
    },
    {
     "data": {
      "text/plain": [
       "4-element Vector{Chains}:\n",
       " MCMC chain (30000×4×1 Array{Float64, 3})\n",
       " MCMC chain (30000×4×1 Array{Float64, 3})\n",
       " MCMC chain (30000×4×1 Array{Float64, 3})\n",
       " MCMC chain (30000×4×1 Array{Float64, 3})"
      ]
     },
     "execution_count": 26,
     "metadata": {},
     "output_type": "execute_result"
    }
   ],
   "source": [
    "samples = sample(\n",
    "    stat_model, MCHMC(varE_wanted=2.0), MCMCThreads(), 30000, 4;\n",
    "    monitor_energy=true, \n",
    "    dialog=true)"
   ]
  },
  {
   "cell_type": "code",
   "execution_count": 27,
   "id": "2e8cd8ab",
   "metadata": {
    "scrolled": false
   },
   "outputs": [
    {
     "name": "stderr",
     "output_type": "stream",
     "text": [
      "\u001b[36m\u001b[1m[ \u001b[22m\u001b[39m\u001b[36m\u001b[1mInfo: \u001b[22m\u001b[39mStarting from previous run\n",
      "\u001b[34mchain 1:   4%|█▌                                        |  ETA: 0:00:03\u001b[39m\n",
      "\u001b[32mchain 2:   4%|█▌                                        |  ETA: 0:00:03\u001b[39m\n",
      "\u001b[35mchain 4:   4%|█▌                                        |  ETA: 0:00:03\u001b[39m\n",
      "\u001b[36mchain 3:   4%|█▌                                        |  ETA: 0:00:03\u001b[39m\n",
      "\u001b[36mchain 3:   6%|██▌                                       |  ETA: 0:00:03\u001b[39m\n",
      "\u001b[34mchain 1:   6%|██▊                                       |  ETA: 0:00:03\u001b[39m\n",
      "\u001b[32mchain 2:   6%|██▊                                       |  ETA: 0:00:03\u001b[39m\n",
      "\u001b[35mchain 4:   6%|██▊                                       |  ETA: 0:00:03\u001b[39m\n",
      "\u001b[36mchain 3:   9%|███▊                                      |  ETA: 0:00:03\u001b[39m\n",
      "\u001b[34mchain 1:  10%|████                                      |  ETA: 0:00:03\u001b[39m\n",
      "\u001b[32mchain 2:  10%|████                                      |  ETA: 0:00:03\u001b[39m\n",
      "\u001b[35mchain 4:  10%|████                                      |  ETA: 0:00:03\u001b[39m\n",
      "\u001b[36mchain 3:  12%|█████                                     |  ETA: 0:00:03\u001b[39m\n",
      "\u001b[32mchain 2:  12%|█████▎                                    |  ETA: 0:00:03\u001b[39m\n",
      "\u001b[34mchain 1:  12%|█████▎                                    |  ETA: 0:00:03\u001b[39m\n",
      "\u001b[35mchain 4:  12%|█████▎                                    |  ETA: 0:00:03\u001b[39m\n",
      "\n",
      "\n",
      "\u001b[32mchain 2:  16%|██████▌                                   |  ETA: 0:00:03\u001b[39m\n",
      "\u001b[35mchain 4:  16%|██████▌                                   |  ETA: 0:00:03\u001b[39m\n",
      "\u001b[36mchain 3:  15%|██████▎                                   |  ETA: 0:00:03\u001b[39m\n",
      "\u001b[34mchain 1:  16%|██████▌                                   |  ETA: 0:00:03\u001b[39m\n",
      "\u001b[32mchain 2:  18%|███████▊                                  |  ETA: 0:00:03\u001b[39m\n",
      "\u001b[35mchain 4:  18%|███████▊                                  |  ETA: 0:00:03\u001b[39m\n",
      "\u001b[36mchain 3:  18%|███████▌                                  |  ETA: 0:00:03\u001b[39m\n",
      "\u001b[34mchain 1:  18%|███████▊                                  |  ETA: 0:00:03\u001b[39m\n",
      "\u001b[32mchain 2:  21%|████████▉                                 |  ETA: 0:00:03\u001b[39m\n",
      "\u001b[35mchain 4:  22%|█████████                                 |  ETA: 0:00:03\u001b[39m\n",
      "\u001b[36mchain 3:  21%|████████▉                                 |  ETA: 0:00:03\u001b[39m\n",
      "\u001b[34mchain 1:  22%|█████████                                 |  ETA: 0:00:03\u001b[39m\n",
      "\u001b[32mchain 2:  24%|██████████▏                               |  ETA: 0:00:03\u001b[39m\n",
      "\u001b[35mchain 4:  24%|██████████▎                               |  ETA: 0:00:03\u001b[39m\n",
      "\u001b[34mchain 1:  24%|██████████▎                               |  ETA: 0:00:03\u001b[39m\n",
      "\u001b[36mchain 3:  24%|██████████▏                               |  ETA: 0:00:03\u001b[39m\n",
      "\u001b[32mchain 2:  27%|███████████▍                              |  ETA: 0:00:03\u001b[39m\n",
      "\u001b[35mchain 4:  28%|███████████▌                              |  ETA: 0:00:03\u001b[39m\n",
      "\u001b[34mchain 1:  28%|███████████▌                              |  ETA: 0:00:03\u001b[39m\n",
      "\u001b[36mchain 3:  27%|███████████▍                              |  ETA: 0:00:03\u001b[39m\n",
      "\u001b[32mchain 2:  30%|████████████▋                             |  ETA: 0:00:03\u001b[39m\n",
      "\u001b[35mchain 4:  30%|████████████▊                             |  ETA: 0:00:03\u001b[39m\n",
      "\u001b[34mchain 1:  30%|████████████▊                             |  ETA: 0:00:03\u001b[39m\n",
      "\u001b[36mchain 3:  30%|████████████▋                             |  ETA: 0:00:03\u001b[39m\n",
      "\u001b[32mchain 2:  33%|█████████████▉                            |  ETA: 0:00:02\u001b[39m\n",
      "\u001b[35mchain 4:  34%|██████████████▏                           |  ETA: 0:00:02\u001b[39m\n",
      "\u001b[34mchain 1:  34%|██████████████▏                           |  ETA: 0:00:02\u001b[39m\n",
      "\u001b[36mchain 3:  33%|█████████████▉                            |  ETA: 0:00:02\u001b[39m\n",
      "\u001b[32mchain 2:  36%|███████████████▏                          |  ETA: 0:00:02\u001b[39m\n",
      "\u001b[35mchain 4:  36%|███████████████▍                          |  ETA: 0:00:02\u001b[39m\n",
      "\u001b[34mchain 1:  36%|███████████████▍                          |  ETA: 0:00:02\u001b[39m\n",
      "\u001b[36mchain 3:  36%|███████████████▏                          |  ETA: 0:00:02\u001b[39m\n",
      "\u001b[32mchain 2:  39%|████████████████▍                         |  ETA: 0:00:02\u001b[39m\n",
      "\u001b[35mchain 4:  40%|████████████████▋                         |  ETA: 0:00:02\u001b[39m\n",
      "\u001b[34mchain 1:  40%|████████████████▋                         |  ETA: 0:00:02\u001b[39m\n",
      "\u001b[36mchain 3:  39%|████████████████▍                         |  ETA: 0:00:02\u001b[39m\n",
      "\u001b[32mchain 2:  42%|█████████████████▋                        |  ETA: 0:00:02\u001b[39m\n",
      "\u001b[35mchain 4:  42%|█████████████████▉                        |  ETA: 0:00:02\u001b[39m\n",
      "\u001b[34mchain 1:  42%|█████████████████▉                        |  ETA: 0:00:02\u001b[39m\n",
      "\u001b[36mchain 3:  42%|█████████████████▋                        |  ETA: 0:00:02\u001b[39m\n",
      "\u001b[32mchain 2:  45%|██████████████████▉                       |  ETA: 0:00:02\u001b[39m\n",
      "\u001b[35mchain 4:  46%|███████████████████▏                      |  ETA: 0:00:02\u001b[39m\n",
      "\u001b[34mchain 1:  46%|███████████████████▏                      |  ETA: 0:00:02\u001b[39m\n",
      "\u001b[36mchain 3:  45%|██████████████████▉                       |  ETA: 0:00:02\u001b[39m\n",
      "\u001b[32mchain 2:  48%|████████████████████▏                     |  ETA: 0:00:02\u001b[39m\n",
      "\u001b[35mchain 4:  48%|████████████████████▍                     |  ETA: 0:00:02\u001b[39m\n",
      "\u001b[34mchain 1:  48%|████████████████████▍                     |  ETA: 0:00:02\u001b[39m\n",
      "\u001b[36mchain 3:  48%|████████████████████▏                     |  ETA: 0:00:02\u001b[39m\n",
      "\u001b[35mchain 4:  52%|█████████████████████▋                    |  ETA: 0:00:02\u001b[39m\n",
      "\u001b[32mchain 2:  51%|█████████████████████▍                    |  ETA: 0:00:02\u001b[39m\n",
      "\u001b[34mchain 1:  52%|█████████████████████▋                    |  ETA: 0:00:02\u001b[39m\n",
      "\u001b[36mchain 3:  51%|█████████████████████▍                    |  ETA: 0:00:02\u001b[39m\n",
      "\u001b[35mchain 4:  54%|██████████████████████▉                   |  ETA: 0:00:02\u001b[39m\n",
      "\u001b[32mchain 2:  54%|██████████████████████▋                   |  ETA: 0:00:02\u001b[39m\n",
      "\u001b[34mchain 1:  54%|██████████████████████▉                   |  ETA: 0:00:02\u001b[39m\n",
      "\n",
      "\u001b[36mchain 3:  54%|██████████████████████▋                   |  ETA: 0:00:02\u001b[39m\n",
      "\u001b[35mchain 4:  58%|████████████████████████▏                 |  ETA: 0:00:02\u001b[39m\n",
      "\u001b[34mchain 1:  58%|████████████████████████▏                 |  ETA: 0:00:02\u001b[39m\n",
      "\u001b[32mchain 2:  57%|████████████████████████                  |  ETA: 0:00:02\u001b[39m\n",
      "\u001b[36mchain 3:  57%|████████████████████████                  |  ETA: 0:00:02\u001b[39m\n",
      "\u001b[35mchain 4:  60%|█████████████████████████▍                |  ETA: 0:00:01\u001b[39m\n",
      "\u001b[34mchain 1:  60%|█████████████████████████▍                |  ETA: 0:00:01\u001b[39m\n",
      "\u001b[32mchain 2:  60%|█████████████████████████▎                |  ETA: 0:00:01\u001b[39m\n",
      "\u001b[36mchain 3:  60%|█████████████████████████▎                |  ETA: 0:00:01\u001b[39m\n",
      "\u001b[34mchain 1:  64%|██████████████████████████▋               |  ETA: 0:00:01\u001b[39m\n",
      "\u001b[35mchain 4:  64%|██████████████████████████▋               |  ETA: 0:00:01\u001b[39m\n",
      "\u001b[32mchain 2:  63%|██████████████████████████▌               |  ETA: 0:00:01\u001b[39m\n",
      "\u001b[36mchain 3:  63%|██████████████████████████▌               |  ETA: 0:00:01\u001b[39m\n",
      "\u001b[34mchain 1:  66%|███████████████████████████▉              |  ETA: 0:00:01\u001b[39m\n",
      "\u001b[35mchain 4:  66%|███████████████████████████▉              |  ETA: 0:00:01\u001b[39m\n",
      "\u001b[32mchain 2:  66%|███████████████████████████▊              |  ETA: 0:00:01\u001b[39m\n",
      "\u001b[36mchain 3:  66%|███████████████████████████▊              |  ETA: 0:00:01\u001b[39m\n",
      "\u001b[34mchain 1:  70%|█████████████████████████████▎            |  ETA: 0:00:01\u001b[39m\n",
      "\u001b[35mchain 4:  70%|█████████████████████████████▎            |  ETA: 0:00:01\u001b[39m\n",
      "\u001b[32mchain 2:  69%|█████████████████████████████             |  ETA: 0:00:01\u001b[39m\n",
      "\u001b[36mchain 3:  69%|█████████████████████████████             |  ETA: 0:00:01\u001b[39m\n",
      "\u001b[34mchain 1:  72%|██████████████████████████████▌           |  ETA: 0:00:01\u001b[39m\n",
      "\n",
      "\u001b[32mchain 2:  72%|██████████████████████████████▎           |  ETA: 0:00:01\u001b[39m\n",
      "\u001b[35mchain 4:  73%|██████████████████████████████▋           |  ETA: 0:00:01\u001b[39m\n",
      "\u001b[36mchain 3:  72%|██████████████████████████████▎           |  ETA: 0:00:01\u001b[39m\n",
      "\u001b[34mchain 1:  76%|███████████████████████████████▊          |  ETA: 0:00:01\u001b[39m\n",
      "\n",
      "\n",
      "\u001b[32mchain 2:  75%|███████████████████████████████▌          |  ETA: 0:00:01\u001b[39m\n",
      "\u001b[36mchain 3:  75%|███████████████████████████████▌          |  ETA: 0:00:01\u001b[39m\n",
      "\u001b[35mchain 4:  76%|███████████████████████████████▉          |  ETA: 0:00:01\u001b[39m\n",
      "\u001b[34mchain 1:  78%|█████████████████████████████████         |  ETA: 0:00:01\u001b[39m\n"
     ]
    },
    {
     "name": "stderr",
     "output_type": "stream",
     "text": [
      "\u001b[32mchain 2:  78%|████████████████████████████████▊         |  ETA: 0:00:01\u001b[39m\n",
      "\u001b[35mchain 4:  79%|█████████████████████████████████▏        |  ETA: 0:00:01\u001b[39m\n",
      "\u001b[36mchain 3:  78%|████████████████████████████████▊         |  ETA: 0:00:01\u001b[39m\n",
      "\u001b[34mchain 1:  82%|██████████████████████████████████▎       |  ETA: 0:00:01\u001b[39m\n",
      "\u001b[35mchain 4:  82%|██████████████████████████████████▌       |  ETA: 0:00:01\u001b[39m\n",
      "\u001b[36mchain 3:  81%|██████████████████████████████████        |  ETA: 0:00:01\u001b[39m\n",
      "\u001b[32mchain 2:  81%|██████████████████████████████████        |  ETA: 0:00:01\u001b[39m\n",
      "\u001b[34mchain 1:  84%|███████████████████████████████████▌      |  ETA: 0:00:01\u001b[39m\n",
      "\u001b[35mchain 4:  85%|███████████████████████████████████▊      |  ETA: 0:00:01\u001b[39m\n",
      "\u001b[36mchain 3:  84%|███████████████████████████████████▎      |  ETA: 0:00:01\u001b[39m\n",
      "\u001b[32mchain 2:  84%|███████████████████████████████████▎      |  ETA: 0:00:01\u001b[39m\n",
      "\u001b[34mchain 1:  88%|████████████████████████████████████▊     |  ETA: 0:00:00\u001b[39m\n",
      "\u001b[36mchain 3:  87%|████████████████████████████████████▌     |  ETA: 0:00:00\u001b[39m\n",
      "\u001b[35mchain 4:  88%|█████████████████████████████████████     |  ETA: 0:00:00\u001b[39m\n",
      "\u001b[32mchain 2:  87%|████████████████████████████████████▌     |  ETA: 0:00:00\u001b[39m\n",
      "\u001b[34mchain 1:  90%|██████████████████████████████████████    |  ETA: 0:00:00\u001b[39m\n",
      "\u001b[36mchain 3:  90%|█████████████████████████████████████▊    |  ETA: 0:00:00\u001b[39m\n",
      "\u001b[35mchain 4:  91%|██████████████████████████████████████▎   |  ETA: 0:00:00\u001b[39m\n",
      "\u001b[32mchain 2:  90%|█████████████████████████████████████▊    |  ETA: 0:00:00\u001b[39m\n",
      "\u001b[34mchain 1:  94%|███████████████████████████████████████▎  |  ETA: 0:00:00\u001b[39m\n",
      "\u001b[36mchain 3:  93%|███████████████████████████████████████   |  ETA: 0:00:00\u001b[39m\n",
      "\u001b[35mchain 4:  94%|███████████████████████████████████████▌  |  ETA: 0:00:00\u001b[39m\n",
      "\n",
      "\u001b[32mchain 2:  93%|███████████████████████████████████████   |  ETA: 0:00:00\u001b[39m\n",
      "\u001b[34mchain 1:  96%|████████████████████████████████████████▌ |  ETA: 0:00:00\u001b[39m\n",
      "\u001b[35mchain 4:  97%|████████████████████████████████████████▊ |  ETA: 0:00:00\u001b[39m\n",
      "\u001b[36mchain 3:  96%|████████████████████████████████████████▍ |  ETA: 0:00:00\u001b[39m\n",
      "\u001b[32mchain 2:  96%|████████████████████████████████████████▍ |  ETA: 0:00:00\u001b[39m\n",
      "\u001b[34mchain 1: 100%|██████████████████████████████████████████| Time: 0:00:03\u001b[39m\n",
      "\u001b[35mchain 4: 100%|██████████████████████████████████████████| Time: 0:00:03\u001b[39m\n",
      "\u001b[36mchain 3: 100%|██████████████████████████████████████████| Time: 0:00:03\u001b[39m\u001b[32mchain 2:  99%|█████████████████████████████████████████▋|  ETA: 0:00:00\u001b[39m\n",
      "\u001b[32mchain 2: 100%|██████████████████████████████████████████| Time: 0:00:03\u001b[39m\n"
     ]
    },
    {
     "data": {
      "text/plain": [
       "4-element Vector{Chains}:\n",
       " MCMC chain (30000×4×1 Array{Float64, 3})\n",
       " MCMC chain (30000×4×1 Array{Float64, 3})\n",
       " MCMC chain (30000×4×1 Array{Float64, 3})\n",
       " MCMC chain (30000×4×1 Array{Float64, 3})"
      ]
     },
     "execution_count": 27,
     "metadata": {},
     "output_type": "execute_result"
    }
   ],
   "source": [
    "new_samples = sample(\n",
    "    stat_model, MCHMC(varE_wanted=2.0), MCMCThreads(), 30000, 4;\n",
    "    monitor_energy=true, \n",
    "    dialog=true, \n",
    "    resume_from=samples)"
   ]
  },
  {
   "cell_type": "markdown",
   "id": "4aadd3b5",
   "metadata": {},
   "source": [
    "## NUTS"
   ]
  },
  {
   "cell_type": "code",
   "execution_count": 28,
   "id": "dcbe40a3",
   "metadata": {},
   "outputs": [
    {
     "name": "stderr",
     "output_type": "stream",
     "text": [
      "\u001b[36m\u001b[1m┌ \u001b[22m\u001b[39m\u001b[36m\u001b[1mInfo: \u001b[22m\u001b[39mFound initial step size\n",
      "\u001b[36m\u001b[1m└ \u001b[22m\u001b[39m  ϵ = 0.05\n",
      "\u001b[33m\u001b[1m┌ \u001b[22m\u001b[39m\u001b[33m\u001b[1mWarning: \u001b[22m\u001b[39mThe current proposal will be rejected due to numerical error(s).\n",
      "\u001b[33m\u001b[1m│ \u001b[22m\u001b[39m  isfinite.((θ, r, ℓπ, ℓκ)) = (true, false, false, false)\n",
      "\u001b[33m\u001b[1m└ \u001b[22m\u001b[39m\u001b[90m@ AdvancedHMC ~/.julia/packages/AdvancedHMC/4fByY/src/hamiltonian.jl:49\u001b[39m\n",
      "\u001b[32mSampling:   1%|▋                                        |  ETA: 0:00:16\u001b[39m\u001b[33m\u001b[1m┌ \u001b[22m\u001b[39m\u001b[33m\u001b[1mWarning: \u001b[22m\u001b[39mThe current proposal will be rejected due to numerical error(s).\n",
      "\u001b[33m\u001b[1m│ \u001b[22m\u001b[39m  isfinite.((θ, r, ℓπ, ℓκ)) = (true, false, false, false)\n",
      "\u001b[33m\u001b[1m└ \u001b[22m\u001b[39m\u001b[90m@ AdvancedHMC ~/.julia/packages/AdvancedHMC/4fByY/src/hamiltonian.jl:49\u001b[39m\n",
      "\u001b[33m\u001b[1m┌ \u001b[22m\u001b[39m\u001b[33m\u001b[1mWarning: \u001b[22m\u001b[39mThe current proposal will be rejected due to numerical error(s).\n",
      "\u001b[33m\u001b[1m│ \u001b[22m\u001b[39m  isfinite.((θ, r, ℓπ, ℓκ)) = (true, false, false, false)\n",
      "\u001b[33m\u001b[1m└ \u001b[22m\u001b[39m\u001b[90m@ AdvancedHMC ~/.julia/packages/AdvancedHMC/4fByY/src/hamiltonian.jl:49\u001b[39m\n",
      "\u001b[33m\u001b[1m┌ \u001b[22m\u001b[39m\u001b[33m\u001b[1mWarning: \u001b[22m\u001b[39mThe current proposal will be rejected due to numerical error(s).\n",
      "\u001b[33m\u001b[1m│ \u001b[22m\u001b[39m  isfinite.((θ, r, ℓπ, ℓκ)) = (true, false, false, false)\n",
      "\u001b[33m\u001b[1m└ \u001b[22m\u001b[39m\u001b[90m@ AdvancedHMC ~/.julia/packages/AdvancedHMC/4fByY/src/hamiltonian.jl:49\u001b[39m\n",
      "\u001b[32mSampling: 100%|█████████████████████████████████████████| Time: 0:00:02\u001b[39m\n"
     ]
    },
    {
     "data": {
      "text/plain": [
       "Chains MCMC chain (10000×14×1 Array{Float64, 3}):\n",
       "\n",
       "Iterations        = 501:1:10500\n",
       "Number of chains  = 1\n",
       "Samples per chain = 10000\n",
       "Wall duration     = 6.97 seconds\n",
       "Compute duration  = 6.97 seconds\n",
       "parameters        = Ωm, σ8\n",
       "internals         = lp, n_steps, is_accept, acceptance_rate, log_density, hamiltonian_energy, hamiltonian_energy_error, max_hamiltonian_energy_error, tree_depth, numerical_error, step_size, nom_step_size\n",
       "\n",
       "Summary Statistics\n",
       " \u001b[1m parameters \u001b[0m \u001b[1m    mean \u001b[0m \u001b[1m     std \u001b[0m \u001b[1m naive_se \u001b[0m \u001b[1m    mcse \u001b[0m \u001b[1m       ess \u001b[0m \u001b[1m    rhat \u001b[0m \u001b[1m \u001b[0m ⋯\n",
       " \u001b[90m     Symbol \u001b[0m \u001b[90m Float64 \u001b[0m \u001b[90m Float64 \u001b[0m \u001b[90m  Float64 \u001b[0m \u001b[90m Float64 \u001b[0m \u001b[90m   Float64 \u001b[0m \u001b[90m Float64 \u001b[0m \u001b[90m \u001b[0m ⋯\n",
       "\n",
       "          Ωm    0.2243    0.0144     0.0001    0.0002   7236.7865    0.9999    ⋯\n",
       "          σ8    0.8665    0.0395     0.0004    0.0004   8282.6227    1.0001    ⋯\n",
       "\u001b[36m                                                                1 column omitted\u001b[0m\n",
       "\n",
       "Quantiles\n",
       " \u001b[1m parameters \u001b[0m \u001b[1m    2.5% \u001b[0m \u001b[1m   25.0% \u001b[0m \u001b[1m   50.0% \u001b[0m \u001b[1m   75.0% \u001b[0m \u001b[1m   97.5% \u001b[0m\n",
       " \u001b[90m     Symbol \u001b[0m \u001b[90m Float64 \u001b[0m \u001b[90m Float64 \u001b[0m \u001b[90m Float64 \u001b[0m \u001b[90m Float64 \u001b[0m \u001b[90m Float64 \u001b[0m\n",
       "\n",
       "          Ωm    0.2011    0.2118    0.2239    0.2367    0.2489\n",
       "          σ8    0.7895    0.8407    0.8661    0.8927    0.9446\n"
      ]
     },
     "execution_count": 28,
     "metadata": {},
     "output_type": "execute_result"
    }
   ],
   "source": [
    "samples_hmc = sample(stat_model, NUTS(500, 0.65),\n",
    "                     10000, progress=true; save_state=true)"
   ]
  },
  {
   "cell_type": "code",
   "execution_count": 29,
   "id": "623ba990",
   "metadata": {},
   "outputs": [
    {
     "data": {
      "text/plain": [
       "3-dimensional AxisArray{Float64,3,...} with axes:\n",
       "    :iter, 501:1:10500\n",
       "    :var, [:Ωm, :σ8, :lp, :n_steps, :is_accept, :acceptance_rate, :log_density, :hamiltonian_energy, :hamiltonian_energy_error, :max_hamiltonian_energy_error, :tree_depth, :numerical_error, :step_size, :nom_step_size]\n",
       "    :chain, 1:1\n",
       "And data, a 10000×14×1 Array{Float64, 3}:\n",
       "[:, :, 1] =\n",
       " 0.22751   0.88549   16.1981   3.0  1.0  …  2.0  0.0  1.14554  1.14554\n",
       " 0.224822  0.798493  14.8161   3.0  1.0     2.0  0.0  1.14554  1.14554\n",
       " 0.20258   0.987486  11.1097   3.0  1.0     2.0  0.0  1.14554  1.14554\n",
       " 0.20258   0.987486  11.1097   1.0  1.0     1.0  0.0  1.14554  1.14554\n",
       " 0.200729  0.999194   9.15528  1.0  1.0     1.0  0.0  1.14554  1.14554\n",
       " 0.200641  0.883885  13.3884   3.0  1.0  …  2.0  0.0  1.14554  1.14554\n",
       " 0.200905  0.869517  13.6461   1.0  1.0     1.0  0.0  1.14554  1.14554\n",
       " 0.200262  0.882866  12.498    1.0  1.0     1.0  0.0  1.14554  1.14554\n",
       " 0.208243  0.916471  15.3144   3.0  1.0     2.0  0.0  1.14554  1.14554\n",
       " 0.232048  0.802565  15.113    3.0  1.0     2.0  0.0  1.14554  1.14554\n",
       " 0.239362  0.826021  15.6389   1.0  1.0  …  1.0  0.0  1.14554  1.14554\n",
       " 0.244992  0.797817  14.2596   1.0  1.0     1.0  0.0  1.14554  1.14554\n",
       " 0.247686  0.804425  13.8241   1.0  1.0     1.0  0.0  1.14554  1.14554\n",
       " ⋮                                       ⋱  ⋮                  \n",
       " 0.225733  0.875701  16.3447   3.0  1.0     2.0  0.0  1.14554  1.14554\n",
       " 0.227016  0.794505  14.6866   3.0  1.0     2.0  0.0  1.14554  1.14554\n",
       " 0.236637  0.820574  15.6392   3.0  1.0  …  2.0  0.0  1.14554  1.14554\n",
       " 0.225044  0.79564   14.6858   1.0  1.0     1.0  0.0  1.14554  1.14554\n",
       " 0.2326    0.899108  15.7048   3.0  1.0     2.0  0.0  1.14554  1.14554\n",
       " 0.24026   0.80656   15.0494   3.0  1.0     2.0  0.0  1.14554  1.14554\n",
       " 0.218099  0.904439  15.9226   7.0  1.0     2.0  0.0  1.14554  1.14554\n",
       " 0.242364  0.828924  15.4569   7.0  1.0  …  2.0  0.0  1.14554  1.14554\n",
       " 0.224864  0.953804  13.6182   3.0  1.0     2.0  0.0  1.14554  1.14554\n",
       " 0.211204  0.931058  15.0039   1.0  1.0     1.0  0.0  1.14554  1.14554\n",
       " 0.207111  0.839242  15.1145   3.0  1.0     2.0  0.0  1.14554  1.14554\n",
       " 0.245015  0.867947  15.1666   3.0  1.0     2.0  0.0  1.14554  1.14554"
      ]
     },
     "execution_count": 29,
     "metadata": {},
     "output_type": "execute_result"
    }
   ],
   "source": [
    "samples_hmc.value"
   ]
  },
  {
   "cell_type": "code",
   "execution_count": 30,
   "id": "fa9db828",
   "metadata": {},
   "outputs": [],
   "source": [
    "Wms_hmc = vec(samples_hmc[\"Ωm\"])\n",
    "s8s_hmc = vec(samples_hmc[\"σ8\"]);"
   ]
  },
  {
   "cell_type": "code",
   "execution_count": 31,
   "id": "3d063a52",
   "metadata": {},
   "outputs": [
    {
     "data": {
      "image/png": "[encoded data removed]",
      "text/plain": [
       "Figure(PyObject <Figure size 640x480 with 1 Axes>)"
      ]
     },
     "metadata": {},
     "output_type": "display_data"
    }
   ],
   "source": [
    "plt.hist2d(Wms_hmc, s8s_hmc, bins=100, range=[[0.1, 0.4],[0.6, 1.2]]);\n",
    "plt.xlabel(\"Wm\")\n",
    "plt.ylabel(\"s8\")\n",
    "plt.title(\"HMC - RSD model\");"
   ]
  },
  {
   "cell_type": "code",
   "execution_count": null,
   "id": "0bdd32b7",
   "metadata": {},
   "outputs": [],
   "source": []
  },
  {
   "cell_type": "code",
   "execution_count": null,
   "id": "78c56af5",
   "metadata": {},
   "outputs": [],
   "source": []
  }
 ],
 "metadata": {
  "kernelspec": {
   "display_name": "Julia_1.9 (5 threads) 1.9.0-beta3",
   "language": "julia",
   "name": "julia_1.9-_5-threads_-1.9"
  },
  "language_info": {
   "file_extension": ".jl",
   "mimetype": "application/julia",
   "name": "julia",
   "version": "1.9.0"
  }
 },
 "nbformat": 4,
 "nbformat_minor": 5
}
