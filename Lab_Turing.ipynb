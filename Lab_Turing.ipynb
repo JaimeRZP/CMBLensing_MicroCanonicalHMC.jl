{
 "cells": [
  {
   "cell_type": "markdown",
   "id": "91129cb1",
   "metadata": {},
   "source": [
    "# Turing Target Practice"
   ]
  },
  {
   "cell_type": "markdown",
   "id": "97121235",
   "metadata": {},
   "source": [
    "## Model"
   ]
  },
  {
   "cell_type": "code",
   "execution_count": 14,
   "id": "baed58e3",
   "metadata": {},
   "outputs": [],
   "source": [
    "# The statistical inference frame-work we will use\n",
    "using Turing\n",
    "using Interpolations\n",
    "using ForwardDiff\n",
    "using LinearAlgebra\n",
    "using PyPlot\n",
    "\n",
    "using Revise\n",
    "using MCHMC"
   ]
  },
  {
   "cell_type": "code",
   "execution_count": 15,
   "id": "a7d6f81c",
   "metadata": {},
   "outputs": [],
   "source": [
    "fs8_zs = [0.38, 0.51, 0.61, 1.48, 0.44, 0.6, 0.73, 0.6, 0.86, 0.067, 1.4]\n",
    "fs8_data = [0.49749, 0.457523, 0.436148, 0.462, 0.413, 0.39, 0.437, 0.55, 0.4, 0.423, 0.482]\n",
    "fs8_cov = [0.00203355 0.000811829 0.000264615 0.0 0.0 0.0 0.0 0.0 0.0 0.0 0.0;\n",
    "           0.000811829 0.00142289 0.000662824 0.0 0.0 0.0 0.0 0.0 0.0 0.0 0.0; \n",
    "           0.000264615 0.000662824 0.00118576 0.0 0.0 0.0 0.0 0.0 0.0 0.0 0.0;\n",
    "           0.0 0.0 0.0 0.002025 0.0 0.0 0.0 0.0 0.0 0.0 0.0;\n",
    "           0.0 0.0 0.0 0.0 0.0064 0.00257 0.0 0.0 0.0 0.0 0.0;\n",
    "           0.0 0.0 0.0 0.0 0.00257 0.003969 0.00254 0.0 0.0 0.0 0.0;\n",
    "           0.0 0.0 0.0 0.0 0.0 0.00254 0.005184 0.0 0.0 0.0 0.0;\n",
    "           0.0 0.0 0.0 0.0 0.0 0.0 0.0 0.0144 0.0 0.0 0.0;\n",
    "           0.0 0.0 0.0 0.0 0.0 0.0 0.0 0.0 0.0121 0.0 0.0; \n",
    "           0.0 0.0 0.0 0.0 0.0 0.0 0.0 0.0 0.0 0.003025 0.0;\n",
    "           0.0 0.0 0.0 0.0 0.0 0.0 0.0 0.0 0.0 0.0 0.013456000000000001];"
   ]
  },
  {
   "cell_type": "code",
   "execution_count": 16,
   "id": "1359a630",
   "metadata": {
    "code_folding": []
   },
   "outputs": [
    {
     "data": {
      "text/plain": [
       "make_fs8 (generic function with 1 method)"
      ]
     },
     "execution_count": 16,
     "metadata": {},
     "output_type": "execute_result"
    }
   ],
   "source": [
    "function make_fs8(Ωm, σ8; Ωr=8.24*10^-5)\n",
    "    # ODE solution for growth factor\n",
    "    x_Dz = LinRange(0, log(1+1100), 300)\n",
    "    dx_Dz = x_Dz[2]-x_Dz[1]\n",
    "    z_Dz = @.(exp(x_Dz) - 1)\n",
    "    a_Dz = @.(1/(1+z_Dz))\n",
    "    aa = reverse(a_Dz)\n",
    "    e =  @.(sqrt.(abs(Ωm)*(1+z_Dz)^3+Ωr*(1+z_Dz)^4+(1-Ωm-Ωr)))\n",
    "    ee = reverse(e)\n",
    "\n",
    "    dd = zeros(typeof(Ωm), 300)\n",
    "    yy = zeros(typeof(Ωm), 300)\n",
    "    dd[1] = aa[1]\n",
    "    yy[1] = aa[1]^3*ee[end]\n",
    "\n",
    "    for i in 1:(300-1)\n",
    "        A0 = -1.5 * Ωm / (aa[i]*ee[i])\n",
    "        B0 = -1. / (aa[i]^2*ee[i])\n",
    "        A1 = -1.5 * Ωm / (aa[i+1]*ee[i+1])\n",
    "        B1 = -1. / (aa[i+1]^2*ee[i+1])\n",
    "        yy[i+1] = (1+0.5*dx_Dz^2*A0*B0)*yy[i] + 0.5*(A0+A1)*dx_Dz*dd[i]\n",
    "        dd[i+1] = 0.5*(B0+B1)*dx_Dz*yy[i] + (1+0.5*dx_Dz^2*A0*B0)*dd[i]\n",
    "    end\n",
    "\n",
    "    y = reverse(yy)\n",
    "    d = reverse(dd)\n",
    "\n",
    "    Dzi = LinearInterpolation(z_Dz, d./d[1], extrapolation_bc=Line())\n",
    "    fs8zi = LinearInterpolation(z_Dz, -σ8 .* y./ (a_Dz.^2 .*e.*d[1]),\n",
    "                                 extrapolation_bc=Line())\n",
    "    return fs8zi\n",
    "end"
   ]
  },
  {
   "cell_type": "code",
   "execution_count": 17,
   "id": "8005e277",
   "metadata": {},
   "outputs": [],
   "source": [
    "@model function model(data; cov = fs8_cov) \n",
    "    # Define priors\n",
    "    #KiDS priors\n",
    "    Ωm ~ Uniform(0.2, 0.25)\n",
    "    σ8 ~ Normal(0.8, 0.3)\n",
    "    fs8_itp = make_fs8(Ωm, σ8)\n",
    "    theory = fs8_itp(fs8_zs)\n",
    "    data ~ MvNormal(theory, cov)\n",
    "end;"
   ]
  },
  {
   "cell_type": "code",
   "execution_count": 18,
   "id": "1eebe796",
   "metadata": {},
   "outputs": [
    {
     "data": {
      "text/plain": [
       "DynamicPPL.Model{typeof(model), (:data, :cov), (:cov,), (), Tuple{Vector{Float64}, Matrix{Float64}}, Tuple{Matrix{Float64}}, DynamicPPL.DefaultContext}(model, (data = [0.49749, 0.457523, 0.436148, 0.462, 0.413, 0.39, 0.437, 0.55, 0.4, 0.423, 0.482], cov = [0.00203355 0.000811829 … 0.0 0.0; 0.000811829 0.00142289 … 0.0 0.0; … ; 0.0 0.0 … 0.003025 0.0; 0.0 0.0 … 0.0 0.013456000000000001]), (cov = [0.00203355 0.000811829 … 0.0 0.0; 0.000811829 0.00142289 … 0.0 0.0; … ; 0.0 0.0 … 0.003025 0.0; 0.0 0.0 … 0.0 0.013456000000000001],), DynamicPPL.DefaultContext())"
      ]
     },
     "execution_count": 18,
     "metadata": {},
     "output_type": "execute_result"
    }
   ],
   "source": [
    "stat_model = model(fs8_data)"
   ]
  },
  {
   "cell_type": "markdown",
   "id": "10dfa4cc",
   "metadata": {},
   "source": [
    "## Sampling"
   ]
  },
  {
   "cell_type": "code",
   "execution_count": 19,
   "id": "c8ed14a3",
   "metadata": {},
   "outputs": [],
   "source": [
    "target = TuringTarget(stat_model);"
   ]
  },
  {
   "cell_type": "code",
   "execution_count": 20,
   "id": "a79c2b35",
   "metadata": {},
   "outputs": [
    {
     "data": {
      "text/plain": [
       "Sampler(Settings(Random.MersenneTwister(0), 0.005, 1.4142135623730951, 0.0, 0.1931833275037836, 0.0005, 2000, 1000, 10, \"MN\"), MCHMC.Minimal_norm)"
      ]
     },
     "execution_count": 20,
     "metadata": {},
     "output_type": "execute_result"
    }
   ],
   "source": [
    "eps=0.005\n",
    "L=sqrt(2)\n",
    "mchmc = Sampler(eps=eps, L=L, integrator=\"MN\")"
   ]
  },
  {
   "cell_type": "code",
   "execution_count": 33,
   "id": "82938e27",
   "metadata": {},
   "outputs": [
    {
     "ename": "LoadError",
     "evalue": "MethodError: no method matching (::MCHMC.var\"#prior_draw#74\"{DynamicPPL.TypedVarInfo{NamedTuple{(:Ωm, :σ8), Tuple{DynamicPPL.Metadata{Dict{AbstractPPL.VarName{:Ωm, Setfield.IdentityLens}, Int64}, Vector{Uniform{Float64}}, Vector{AbstractPPL.VarName{:Ωm, Setfield.IdentityLens}}, Vector{Float64}, Vector{Set{DynamicPPL.Selector}}}, DynamicPPL.Metadata{Dict{AbstractPPL.VarName{:σ8, Setfield.IdentityLens}, Int64}, Vector{Normal{Float64}}, Vector{AbstractPPL.VarName{:σ8, Setfield.IdentityLens}}, Vector{Float64}, Vector{Set{DynamicPPL.Selector}}}}}, Float64}})(::Random.MersenneTwister)",
     "output_type": "error",
     "traceback": [
      "MethodError: no method matching (::MCHMC.var\"#prior_draw#74\"{DynamicPPL.TypedVarInfo{NamedTuple{(:Ωm, :σ8), Tuple{DynamicPPL.Metadata{Dict{AbstractPPL.VarName{:Ωm, Setfield.IdentityLens}, Int64}, Vector{Uniform{Float64}}, Vector{AbstractPPL.VarName{:Ωm, Setfield.IdentityLens}}, Vector{Float64}, Vector{Set{DynamicPPL.Selector}}}, DynamicPPL.Metadata{Dict{AbstractPPL.VarName{:σ8, Setfield.IdentityLens}, Int64}, Vector{Normal{Float64}}, Vector{AbstractPPL.VarName{:σ8, Setfield.IdentityLens}}, Vector{Float64}, Vector{Set{DynamicPPL.Selector}}}}}, Float64}})(::Random.MersenneTwister)",
      "",
      "Stacktrace:",
      " [1] Get_initial_conditions(sampler::Sampler, target::TuringTarget; kwargs::Base.Pairs{Symbol, Int64, Tuple{Symbol}, NamedTuple{(:num_steps,), Tuple{Int64}}})",
      "   @ MCHMC ~/PhD/MCHMC.jl/src/sampler.jl:117",
      " [2] Sample(sampler::Sampler, target::TuringTarget; kwargs::Base.Pairs{Symbol, Int64, Tuple{Symbol}, NamedTuple{(:num_steps,), Tuple{Int64}}})",
      "   @ MCHMC ~/PhD/MCHMC.jl/src/sampler.jl:163",
      " [3] kwcall(::NamedTuple{(:num_steps,), Tuple{Int64}}, ::typeof(Sample), sampler::Sampler, target::TuringTarget)",
      "   @ MCHMC ~/PhD/MCHMC.jl/src/sampler.jl:154",
      " [4] top-level scope",
      "   @ In[33]:1"
     ]
    }
   ],
   "source": [
    "samples_mchmc = Sample(mchmc, target; num_steps=30000);"
   ]
  },
  {
   "cell_type": "code",
   "execution_count": 34,
   "id": "4494e2dd",
   "metadata": {},
   "outputs": [
    {
     "data": {
      "text/plain": [
       "16003-element Vector{Vector{Float64}}:\n",
       " [0.22320351063967764, 0.8851882659537313]\n",
       " [0.22314207704781516, 0.8844292391678037]\n",
       " [0.22308152031433845, 0.8833102939206646]\n",
       " [0.2230225509113325, 0.8817401660216548]\n",
       " [0.2229640139532716, 0.880073047559934]\n",
       " [0.22290857212756007, 0.8778250852953694]\n",
       " [0.22285589944481898, 0.8751823311042338]\n",
       " [0.22280557358946915, 0.8722594954500302]\n",
       " [0.2227541511754833, 0.8694655299351163]\n",
       " [0.22270655195447148, 0.8662627861994521]\n",
       " [0.2226595212938092, 0.8630074047544318]\n",
       " [0.22261311729633676, 0.8596955395828079]\n",
       " [0.22256681526205047, 0.8563760087518778]\n",
       " ⋮\n",
       " [0.21430106346202168, 0.9226432794684299]\n",
       " [0.2142603881271266, 0.9256529251974868]\n",
       " [0.21421736891726417, 0.9283172730495619]\n",
       " [0.21416957604292097, 0.9299948274338025]\n",
       " [0.2141189809341566, 0.9301641906468059]\n",
       " [0.2140688808873744, 0.9295241404173724]\n",
       " [0.21402120395432933, 0.9278994206310666]\n",
       " [0.2139764623280995, 0.9256116952386485]\n",
       " [0.21393524041360673, 0.9227545781653511]\n",
       " [0.213898297272599, 0.9193730046345322]\n",
       " [0.21386531445506313, 0.9156103027458176]\n",
       " [0.21383912016405188, 0.9113504708328369]"
      ]
     },
     "execution_count": 34,
     "metadata": {},
     "output_type": "execute_result"
    }
   ],
   "source": [
    "samples_mchmc = samples_mchmc[2000:end]"
   ]
  },
  {
   "cell_type": "markdown",
   "id": "ee35a9d5",
   "metadata": {},
   "source": [
    "## Plotting"
   ]
  },
  {
   "cell_type": "code",
   "execution_count": 35,
   "id": "385a8b1a",
   "metadata": {},
   "outputs": [],
   "source": [
    "Wms_mchmc = [sample[1] for sample in samples_mchmc]\n",
    "s8s_mchmc = [sample[2] for sample in samples_mchmc];"
   ]
  },
  {
   "cell_type": "code",
   "execution_count": 36,
   "id": "2a803eb8",
   "metadata": {},
   "outputs": [
    {
     "data": {
      "image/png": "[encoded data removed]",
      "text/plain": [
       "Figure(PyObject <Figure size 640x480 with 1 Axes>)"
      ]
     },
     "metadata": {},
     "output_type": "display_data"
    }
   ],
   "source": [
    "plt.hist2d(Wms_mchmc, s8s_mchmc, bins=100, range=[[0.1, 0.4],[0.6, 1.2]]);\n",
    "plt.xlabel(\"Wm\")\n",
    "plt.ylabel(\"s8\")\n",
    "plt.title(\"MCHMC - RSD model\");"
   ]
  },
  {
   "cell_type": "markdown",
   "id": "4aadd3b5",
   "metadata": {},
   "source": [
    "## NUTS"
   ]
  },
  {
   "cell_type": "code",
   "execution_count": 37,
   "id": "dcbe40a3",
   "metadata": {},
   "outputs": [
    {
     "name": "stderr",
     "output_type": "stream",
     "text": [
      "\u001b[36m\u001b[1m┌ \u001b[22m\u001b[39m\u001b[36m\u001b[1mInfo: \u001b[22m\u001b[39mFound initial step size\n",
      "\u001b[36m\u001b[1m└ \u001b[22m\u001b[39m  ϵ = 0.05\n",
      "\u001b[33m\u001b[1m┌ \u001b[22m\u001b[39m\u001b[33m\u001b[1mWarning: \u001b[22m\u001b[39mThe current proposal will be rejected due to numerical error(s).\n",
      "\u001b[33m\u001b[1m│ \u001b[22m\u001b[39m  isfinite.((θ, r, ℓπ, ℓκ)) = (true, false, false, false)\n",
      "\u001b[33m\u001b[1m└ \u001b[22m\u001b[39m\u001b[90m@ AdvancedHMC ~/.julia/packages/AdvancedHMC/4fByY/src/hamiltonian.jl:49\u001b[39m\n",
      "\u001b[33m\u001b[1m┌ \u001b[22m\u001b[39m\u001b[33m\u001b[1mWarning: \u001b[22m\u001b[39mThe current proposal will be rejected due to numerical error(s).\n",
      "\u001b[33m\u001b[1m│ \u001b[22m\u001b[39m  isfinite.((θ, r, ℓπ, ℓκ)) = (true, false, false, false)\n",
      "\u001b[33m\u001b[1m└ \u001b[22m\u001b[39m\u001b[90m@ AdvancedHMC ~/.julia/packages/AdvancedHMC/4fByY/src/hamiltonian.jl:49\u001b[39m\n",
      "\u001b[33m\u001b[1m┌ \u001b[22m\u001b[39m\u001b[33m\u001b[1mWarning: \u001b[22m\u001b[39mThe current proposal will be rejected due to numerical error(s).\n",
      "\u001b[33m\u001b[1m│ \u001b[22m\u001b[39m  isfinite.((θ, r, ℓπ, ℓκ)) = (true, false, false, false)\n",
      "\u001b[33m\u001b[1m└ \u001b[22m\u001b[39m\u001b[90m@ AdvancedHMC ~/.julia/packages/AdvancedHMC/4fByY/src/hamiltonian.jl:49\u001b[39m\n",
      "\u001b[32mSampling:   1%|▋                                        |  ETA: 0:00:16\u001b[39m\u001b[33m\u001b[1m┌ \u001b[22m\u001b[39m\u001b[33m\u001b[1mWarning: \u001b[22m\u001b[39mThe current proposal will be rejected due to numerical error(s).\n",
      "\u001b[33m\u001b[1m│ \u001b[22m\u001b[39m  isfinite.((θ, r, ℓπ, ℓκ)) = (true, false, false, false)\n",
      "\u001b[33m\u001b[1m└ \u001b[22m\u001b[39m\u001b[90m@ AdvancedHMC ~/.julia/packages/AdvancedHMC/4fByY/src/hamiltonian.jl:49\u001b[39m\n",
      "\u001b[33m\u001b[1m┌ \u001b[22m\u001b[39m\u001b[33m\u001b[1mWarning: \u001b[22m\u001b[39mThe current proposal will be rejected due to numerical error(s).\n",
      "\u001b[33m\u001b[1m│ \u001b[22m\u001b[39m  isfinite.((θ, r, ℓπ, ℓκ)) = (true, false, false, false)\n",
      "\u001b[33m\u001b[1m└ \u001b[22m\u001b[39m\u001b[90m@ AdvancedHMC ~/.julia/packages/AdvancedHMC/4fByY/src/hamiltonian.jl:49\u001b[39m\n",
      "\u001b[32mSampling: 100%|█████████████████████████████████████████| Time: 0:00:02\u001b[39m\n"
     ]
    },
    {
     "data": {
      "text/plain": [
       "Chains MCMC chain (10000×14×1 Array{Float64, 3}):\n",
       "\n",
       "Iterations        = 501:1:10500\n",
       "Number of chains  = 1\n",
       "Samples per chain = 10000\n",
       "Wall duration     = 7.78 seconds\n",
       "Compute duration  = 7.78 seconds\n",
       "parameters        = Ωm, σ8\n",
       "internals         = lp, n_steps, is_accept, acceptance_rate, log_density, hamiltonian_energy, hamiltonian_energy_error, max_hamiltonian_energy_error, tree_depth, numerical_error, step_size, nom_step_size\n",
       "\n",
       "Summary Statistics\n",
       " \u001b[1m parameters \u001b[0m \u001b[1m    mean \u001b[0m \u001b[1m     std \u001b[0m \u001b[1m naive_se \u001b[0m \u001b[1m    mcse \u001b[0m \u001b[1m       ess \u001b[0m \u001b[1m    rhat \u001b[0m \u001b[1m \u001b[0m ⋯\n",
       " \u001b[90m     Symbol \u001b[0m \u001b[90m Float64 \u001b[0m \u001b[90m Float64 \u001b[0m \u001b[90m  Float64 \u001b[0m \u001b[90m Float64 \u001b[0m \u001b[90m   Float64 \u001b[0m \u001b[90m Float64 \u001b[0m \u001b[90m \u001b[0m ⋯\n",
       "\n",
       "          Ωm    0.2243    0.0143     0.0001    0.0002   7466.9002    0.9999    ⋯\n",
       "          σ8    0.8662    0.0390     0.0004    0.0004   7926.0640    1.0000    ⋯\n",
       "\u001b[36m                                                                1 column omitted\u001b[0m\n",
       "\n",
       "Quantiles\n",
       " \u001b[1m parameters \u001b[0m \u001b[1m    2.5% \u001b[0m \u001b[1m   25.0% \u001b[0m \u001b[1m   50.0% \u001b[0m \u001b[1m   75.0% \u001b[0m \u001b[1m   97.5% \u001b[0m\n",
       " \u001b[90m     Symbol \u001b[0m \u001b[90m Float64 \u001b[0m \u001b[90m Float64 \u001b[0m \u001b[90m Float64 \u001b[0m \u001b[90m Float64 \u001b[0m \u001b[90m Float64 \u001b[0m\n",
       "\n",
       "          Ωm    0.2012    0.2119    0.2240    0.2364    0.2485\n",
       "          σ8    0.7905    0.8396    0.8656    0.8925    0.9425\n"
      ]
     },
     "execution_count": 37,
     "metadata": {},
     "output_type": "execute_result"
    }
   ],
   "source": [
    "samples_hmc = sample(stat_model, NUTS(500, 0.65),\n",
    "                     10000, progress=true; save_state=true)"
   ]
  },
  {
   "cell_type": "code",
   "execution_count": 38,
   "id": "fa9db828",
   "metadata": {},
   "outputs": [],
   "source": [
    "Wms_hmc = vec(samples_hmc[\"Ωm\"])\n",
    "s8s_hmc = vec(samples_hmc[\"σ8\"]);"
   ]
  },
  {
   "cell_type": "code",
   "execution_count": 39,
   "id": "3d063a52",
   "metadata": {},
   "outputs": [
    {
     "data": {
      "image/png": "[encoded data removed]",
      "text/plain": [
       "Figure(PyObject <Figure size 640x480 with 1 Axes>)"
      ]
     },
     "metadata": {},
     "output_type": "display_data"
    }
   ],
   "source": [
    "plt.hist2d(Wms_hmc, s8s_hmc, bins=100, range=[[0.1, 0.4],[0.6, 1.2]]);\n",
    "plt.xlabel(\"Wm\")\n",
    "plt.ylabel(\"s8\")\n",
    "plt.title(\"HMC - RSD model\");"
   ]
  },
  {
   "cell_type": "code",
   "execution_count": 40,
   "id": "936eb78c",
   "metadata": {},
   "outputs": [
    {
     "data": {
      "image/png": "[encoded data removed]",
      "text/plain": [
       "Figure(PyObject <Figure size 640x480 with 1 Axes>)"
      ]
     },
     "metadata": {},
     "output_type": "display_data"
    },
    {
     "data": {
      "text/plain": [
       "PyObject <matplotlib.legend.Legend object at 0x7fdb7774f7f0>"
      ]
     },
     "execution_count": 40,
     "metadata": {},
     "output_type": "execute_result"
    }
   ],
   "source": [
    "plt.hist(Wms_mchmc, label=\"MCHMC\")\n",
    "plt.hist(Wms_hmc, label=\"HMC\")\n",
    "plt.xlabel(\"Wm\")\n",
    "plt.legend()"
   ]
  },
  {
   "cell_type": "code",
   "execution_count": 41,
   "id": "0b8ce1ad",
   "metadata": {},
   "outputs": [
    {
     "data": {
      "image/png": "[encoded data removed]",
      "text/plain": [
       "Figure(PyObject <Figure size 640x480 with 1 Axes>)"
      ]
     },
     "metadata": {},
     "output_type": "display_data"
    },
    {
     "data": {
      "text/plain": [
       "PyObject <matplotlib.legend.Legend object at 0x7fdb779b1a30>"
      ]
     },
     "execution_count": 41,
     "metadata": {},
     "output_type": "execute_result"
    }
   ],
   "source": [
    "plt.hist(s8s_mchmc, label=\"MCHMC\")\n",
    "plt.hist(s8s_hmc, label=\"HMC\")\n",
    "plt.xlabel(\"s8\")\n",
    "plt.legend()"
   ]
  },
  {
   "cell_type": "code",
   "execution_count": 1,
   "id": "d0aae2ec",
   "metadata": {},
   "outputs": [
    {
     "name": "stderr",
     "output_type": "stream",
     "text": [
      "\u001b[36m\u001b[1m[ \u001b[22m\u001b[39m\u001b[36m\u001b[1mInfo: \u001b[22m\u001b[39mPrecompiling AverageShiftedHistograms [77b51b56-6f8f-5c3a-9cb4-d71f9594ea6e]\n",
      "\u001b[36m\u001b[1m[ \u001b[22m\u001b[39m\u001b[36m\u001b[1mInfo: \u001b[22m\u001b[39mPrecompiling Plots [91a5bcdd-55d7-5caf-9e0b-520d859cae80]\n",
      "\u001b[33m\u001b[1m┌ \u001b[22m\u001b[39m\u001b[33m\u001b[1mWarning: \u001b[22m\u001b[39mModule JSON with build ID fafbfcfd-32c8-0809-0000-01243cfb64fa is missing from the cache.\n",
      "\u001b[33m\u001b[1m│ \u001b[22m\u001b[39mThis may mean JSON [682c06a0-de6a-54ab-a142-c8b1cf79cde6] does not support precompilation but is imported by a module that does.\n",
      "\u001b[33m\u001b[1m└ \u001b[22m\u001b[39m\u001b[90m@ Base loading.jl:1700\u001b[39m\n",
      "\u001b[36m\u001b[1m[ \u001b[22m\u001b[39m\u001b[36m\u001b[1mInfo: \u001b[22m\u001b[39mSkipping precompilation since __precompile__(false). Importing Plots [91a5bcdd-55d7-5caf-9e0b-520d859cae80].\n",
      "\u001b[33m\u001b[1m┌ \u001b[22m\u001b[39m\u001b[33m\u001b[1mWarning: \u001b[22m\u001b[39mbackend `GR` is not installed.\n",
      "\u001b[33m\u001b[1m└ \u001b[22m\u001b[39m\u001b[90m@ Plots ~/.julia/packages/Plots/QZRtR/src/backends.jl:43\u001b[39m\n"
     ]
    }
   ],
   "source": [
    "using AverageShiftedHistograms, Plots"
   ]
  },
  {
   "cell_type": "code",
   "execution_count": 43,
   "id": "36f24ece",
   "metadata": {},
   "outputs": [],
   "source": [
    "Wm_hmc_ker = ash(Wms_hmc; m=30)\n",
    "s8_hmc_ker = ash(s8s_hmc; m=30)\n",
    "Wm_mchmc_ker = ash(Wms_mchmc; m=30)\n",
    "s8_mchmc_ker = ash(s8s_mchmc; m=30);"
   ]
  },
  {
   "cell_type": "code",
   "execution_count": 44,
   "id": "d9be1fbf",
   "metadata": {},
   "outputs": [
    {
     "ename": "LoadError",
     "evalue": "UndefVarError: `Plots` not defined",
     "output_type": "error",
     "traceback": [
      "UndefVarError: `Plots` not defined",
      "",
      "Stacktrace:",
      " [1] top-level scope",
      "   @ In[44]:1"
     ]
    }
   ],
   "source": [
    "Plots.plot(Wm_mchmc_ker; hist=false, label=\"MCHMC\")\n",
    "Plots.plot!(Wm_hmc_ker; hist=false, label=\"HMC\", xlabel=\"Wm\")"
   ]
  },
  {
   "cell_type": "code",
   "execution_count": 45,
   "id": "0059664f",
   "metadata": {},
   "outputs": [
    {
     "ename": "LoadError",
     "evalue": "UndefVarError: `Plots` not defined",
     "output_type": "error",
     "traceback": [
      "UndefVarError: `Plots` not defined",
      "",
      "Stacktrace:",
      " [1] top-level scope",
      "   @ In[45]:1"
     ]
    }
   ],
   "source": [
    "Plots.plot(s8_mchmc_ker; hist=false, label=\"MCHMC\")\n",
    "Plots.plot!(s8_hmc_ker; hist=false, label=\"HMC\",  xlabel=\"s8\")"
   ]
  },
  {
   "cell_type": "markdown",
   "id": "4e1d16c5",
   "metadata": {},
   "source": [
    "## Self-tuning"
   ]
  },
  {
   "cell_type": "code",
   "execution_count": 22,
   "id": "6a20faef",
   "metadata": {},
   "outputs": [
    {
     "name": "stdout",
     "output_type": "stream",
     "text": [
      "L = 0.0, eps = 0.0\n"
     ]
    }
   ],
   "source": [
    "mchmc = Sampler()\n",
    "println(string(\"L = \", mchmc.settings.L, \", eps = \", mchmc.settings.eps))\n",
    "# This should start self-tuning    "
   ]
  },
  {
   "cell_type": "code",
   "execution_count": 23,
   "id": "17d896dd",
   "metadata": {},
   "outputs": [
    {
     "data": {
      "text/plain": [
       "1000"
      ]
     },
     "execution_count": 23,
     "metadata": {},
     "output_type": "execute_result"
    }
   ],
   "source": [
    "mchmc.settings.tune_samples"
   ]
  },
  {
   "cell_type": "code",
   "execution_count": 24,
   "id": "c1d2ef02",
   "metadata": {},
   "outputs": [
    {
     "name": "stdout",
     "output_type": "stream",
     "text": [
      "Self-tuning hyperparameters\n",
      "Hyperparameter tuning (first stage)\n"
     ]
    },
    {
     "ename": "LoadError",
     "evalue": "UndefVarError: `samples` not defined",
     "output_type": "error",
     "traceback": [
      "UndefVarError: `samples` not defined",
      "",
      "Stacktrace:",
      " [1] _tuning(init::Tuple{Vector{Float64}, Vector{Float64}, Vector{Float64}, Float64, Float64}, sampler::Sampler, target::TuringTarget, props::Tuple{Float64, Float64, Bool})",
      "   @ MCHMC ~/.julia/packages/MCHMC/zMvR3/src/tuning.jl:95",
      " [2] tune_hyperparameters(init::Tuple{Vector{Float64}, Vector{Float64}, Vector{Float64}, Float64, Float64}, sampler::Sampler, target::TuringTarget; kwargs::Base.Pairs{Symbol, Integer, Tuple{Symbol, Symbol}, NamedTuple{(:num_steps, :dialog), Tuple{Int64, Bool}}})",
      "   @ MCHMC ~/.julia/packages/MCHMC/zMvR3/src/tuning.jl:185",
      " [3] kwcall(::NamedTuple{(:num_steps, :dialog), Tuple{Int64, Bool}}, ::typeof(MCHMC.tune_hyperparameters), init::Tuple{Vector{Float64}, Vector{Float64}, Vector{Float64}, Float64, Float64}, sampler::Sampler, target::TuringTarget)",
      "   @ MCHMC ~/.julia/packages/MCHMC/zMvR3/src/tuning.jl:157",
      " [4] _set_hyperparameters(init::Tuple{Vector{Float64}, Vector{Float64}, Vector{Float64}, Float64, Float64}, sampler::Sampler, target::TuringTarget; kwargs::Base.Pairs{Symbol, Integer, Tuple{Symbol, Symbol}, NamedTuple{(:num_steps, :dialog), Tuple{Int64, Bool}}})",
      "   @ MCHMC ~/.julia/packages/MCHMC/zMvR3/src/sampler.jl:130",
      " [5] kwcall(::NamedTuple{(:num_steps, :dialog), Tuple{Int64, Bool}}, ::typeof(MCHMC._set_hyperparameters), init::Tuple{Vector{Float64}, Vector{Float64}, Vector{Float64}, Float64, Float64}, sampler::Sampler, target::TuringTarget)",
      "   @ MCHMC ~/.julia/packages/MCHMC/zMvR3/src/sampler.jl:125",
      " [6] Sample(sampler::Sampler, target::TuringTarget; kwargs::Base.Pairs{Symbol, Integer, Tuple{Symbol, Symbol}, NamedTuple{(:num_steps, :dialog), Tuple{Int64, Bool}}})",
      "   @ MCHMC ~/.julia/packages/MCHMC/zMvR3/src/sampler.jl:166",
      " [7] kwcall(::NamedTuple{(:num_steps, :dialog), Tuple{Int64, Bool}}, ::typeof(Sample), sampler::Sampler, target::TuringTarget)",
      "   @ MCHMC ~/.julia/packages/MCHMC/zMvR3/src/sampler.jl:154",
      " [8] top-level scope",
      "   @ In[24]:1"
     ]
    }
   ],
   "source": [
    "samples = Sample(mchmc, target; num_steps=10000, dialog=true);"
   ]
  },
  {
   "cell_type": "code",
   "execution_count": null,
   "id": "f2e7d5c1",
   "metadata": {},
   "outputs": [],
   "source": []
  }
 ],
 "metadata": {
  "kernelspec": {
   "display_name": "Julia 1.9.0-beta3",
   "language": "julia",
   "name": "julia-1.9"
  },
  "language_info": {
   "file_extension": ".jl",
   "mimetype": "application/julia",
   "name": "julia",
   "version": "1.9.0"
  }
 },
 "nbformat": 4,
 "nbformat_minor": 5
}
