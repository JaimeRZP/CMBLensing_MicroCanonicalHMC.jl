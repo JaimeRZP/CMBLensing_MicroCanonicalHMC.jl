{
 "cells": [
  {
   "cell_type": "markdown",
   "id": "91129cb1",
   "metadata": {},
   "source": [
    "# Turing Target Practice"
   ]
  },
  {
   "cell_type": "markdown",
   "id": "97121235",
   "metadata": {},
   "source": [
    "## Model"
   ]
  },
  {
   "cell_type": "code",
   "execution_count": 1,
   "id": "86b96c9e",
   "metadata": {},
   "outputs": [
    {
     "name": "stderr",
     "output_type": "stream",
     "text": [
      "\u001b[32m\u001b[1m  Activating\u001b[22m\u001b[39m project at `~/PhD/MicroCanonicalHMC.jl`\n"
     ]
    }
   ],
   "source": [
    "] activate \".\""
   ]
  },
  {
   "cell_type": "code",
   "execution_count": 2,
   "id": "baed58e3",
   "metadata": {},
   "outputs": [
    {
     "name": "stderr",
     "output_type": "stream",
     "text": [
      "\u001b[36m\u001b[1m[ \u001b[22m\u001b[39m\u001b[36m\u001b[1mInfo: \u001b[22m\u001b[39mPrecompiling MicroCanonicalHMC [234d2aa0-2291-45f7-9047-6fa6f316b0a8]\n"
     ]
    }
   ],
   "source": [
    "# The statistical inference frame-work we will use\n",
    "using Turing\n",
    "using Interpolations\n",
    "using ForwardDiff\n",
    "using LinearAlgebra\n",
    "#using StatsPlots\n",
    "using PyPlot\n",
    "using Distributed\n",
    "\n",
    "using Revise\n",
    "using MicroCanonicalHMC"
   ]
  },
  {
   "cell_type": "code",
   "execution_count": 3,
   "id": "a7d6f81c",
   "metadata": {},
   "outputs": [],
   "source": [
    "fs8_zs = [0.38, 0.51, 0.61, 1.48, 0.44, 0.6, 0.73, 0.6, 0.86, 0.067, 1.4]\n",
    "fs8_data = [0.49749, 0.457523, 0.436148, 0.462, 0.413, 0.39, 0.437, 0.55, 0.4, 0.423, 0.482]\n",
    "fs8_cov = [0.00203355 0.000811829 0.000264615 0.0 0.0 0.0 0.0 0.0 0.0 0.0 0.0;\n",
    "           0.000811829 0.00142289 0.000662824 0.0 0.0 0.0 0.0 0.0 0.0 0.0 0.0; \n",
    "           0.000264615 0.000662824 0.00118576 0.0 0.0 0.0 0.0 0.0 0.0 0.0 0.0;\n",
    "           0.0 0.0 0.0 0.002025 0.0 0.0 0.0 0.0 0.0 0.0 0.0;\n",
    "           0.0 0.0 0.0 0.0 0.0064 0.00257 0.0 0.0 0.0 0.0 0.0;\n",
    "           0.0 0.0 0.0 0.0 0.00257 0.003969 0.00254 0.0 0.0 0.0 0.0;\n",
    "           0.0 0.0 0.0 0.0 0.0 0.00254 0.005184 0.0 0.0 0.0 0.0;\n",
    "           0.0 0.0 0.0 0.0 0.0 0.0 0.0 0.0144 0.0 0.0 0.0;\n",
    "           0.0 0.0 0.0 0.0 0.0 0.0 0.0 0.0 0.0121 0.0 0.0; \n",
    "           0.0 0.0 0.0 0.0 0.0 0.0 0.0 0.0 0.0 0.003025 0.0;\n",
    "           0.0 0.0 0.0 0.0 0.0 0.0 0.0 0.0 0.0 0.0 0.013456000000000001];"
   ]
  },
  {
   "cell_type": "code",
   "execution_count": 4,
   "id": "1359a630",
   "metadata": {
    "code_folding": []
   },
   "outputs": [
    {
     "data": {
      "text/plain": [
       "make_fs8 (generic function with 1 method)"
      ]
     },
     "execution_count": 4,
     "metadata": {},
     "output_type": "execute_result"
    }
   ],
   "source": [
    "function make_fs8(Ωm, σ8; Ωr=8.24*10^-5)\n",
    "    # ODE solution for growth factor\n",
    "    x_Dz = LinRange(0, log(1+1100), 300)\n",
    "    dx_Dz = x_Dz[2]-x_Dz[1]\n",
    "    z_Dz = @.(exp(x_Dz) - 1)\n",
    "    a_Dz = @.(1/(1+z_Dz))\n",
    "    aa = reverse(a_Dz)\n",
    "    e =  @.(sqrt.(abs(Ωm)*(1+z_Dz)^3+Ωr*(1+z_Dz)^4+(1-Ωm-Ωr)))\n",
    "    ee = reverse(e)\n",
    "\n",
    "    dd = zeros(typeof(Ωm), 300)\n",
    "    yy = zeros(typeof(Ωm), 300)\n",
    "    dd[1] = aa[1]\n",
    "    yy[1] = aa[1]^3*ee[end]\n",
    "\n",
    "    for i in 1:(300-1)\n",
    "        A0 = -1.5 * Ωm / (aa[i]*ee[i])\n",
    "        B0 = -1. / (aa[i]^2*ee[i])\n",
    "        A1 = -1.5 * Ωm / (aa[i+1]*ee[i+1])\n",
    "        B1 = -1. / (aa[i+1]^2*ee[i+1])\n",
    "        yy[i+1] = (1+0.5*dx_Dz^2*A0*B0)*yy[i] + 0.5*(A0+A1)*dx_Dz*dd[i]\n",
    "        dd[i+1] = 0.5*(B0+B1)*dx_Dz*yy[i] + (1+0.5*dx_Dz^2*A0*B0)*dd[i]\n",
    "    end\n",
    "\n",
    "    y = reverse(yy)\n",
    "    d = reverse(dd)\n",
    "\n",
    "    Dzi = LinearInterpolation(z_Dz, d./d[1], extrapolation_bc=Line())\n",
    "    fs8zi = LinearInterpolation(z_Dz, -σ8 .* y./ (a_Dz.^2 .*e.*d[1]),\n",
    "                                 extrapolation_bc=Line())\n",
    "    return fs8zi\n",
    "end"
   ]
  },
  {
   "cell_type": "code",
   "execution_count": 5,
   "id": "8005e277",
   "metadata": {},
   "outputs": [],
   "source": [
    "@model function model(data; cov = fs8_cov) \n",
    "    # Define priors\n",
    "    #KiDS priors\n",
    "    Ωm ~ Uniform(0.2, 0.25)#~ Normal(0.3, 0.1)\n",
    "    σ8 ~ Normal(0.8, 0.3)\n",
    "    fs8_itp = make_fs8(Ωm, σ8)\n",
    "    theory = fs8_itp(fs8_zs)\n",
    "    data ~ MvNormal(theory, cov)\n",
    "end;"
   ]
  },
  {
   "cell_type": "code",
   "execution_count": 6,
   "id": "1eebe796",
   "metadata": {},
   "outputs": [
    {
     "data": {
      "text/plain": [
       "DynamicPPL.Model{typeof(model), (:data, :cov), (:cov,), (), Tuple{Vector{Float64}, Matrix{Float64}}, Tuple{Matrix{Float64}}, DynamicPPL.DefaultContext}(model, (data = [0.49749, 0.457523, 0.436148, 0.462, 0.413, 0.39, 0.437, 0.55, 0.4, 0.423, 0.482], cov = [0.00203355 0.000811829 … 0.0 0.0; 0.000811829 0.00142289 … 0.0 0.0; … ; 0.0 0.0 … 0.003025 0.0; 0.0 0.0 … 0.0 0.013456000000000001]), (cov = [0.00203355 0.000811829 … 0.0 0.0; 0.000811829 0.00142289 … 0.0 0.0; … ; 0.0 0.0 … 0.003025 0.0; 0.0 0.0 … 0.0 0.013456000000000001],), DynamicPPL.DefaultContext())"
      ]
     },
     "execution_count": 6,
     "metadata": {},
     "output_type": "execute_result"
    }
   ],
   "source": [
    "stat_model = model(fs8_data)"
   ]
  },
  {
   "cell_type": "markdown",
   "id": "10dfa4cc",
   "metadata": {},
   "source": [
    "## Sampling"
   ]
  },
  {
   "cell_type": "code",
   "execution_count": 27,
   "id": "c8ed14a3",
   "metadata": {},
   "outputs": [],
   "source": [
    "target = TuringTarget(stat_model);"
   ]
  },
  {
   "cell_type": "code",
   "execution_count": 28,
   "id": "a79c2b35",
   "metadata": {},
   "outputs": [
    {
     "data": {
      "text/plain": [
       "MicroCanonicalHMC.Sampler(Settings(1, Random.MersenneTwister(0), 2.0, 0, 1000, 10, \"LF\"), Hyperparameters{Float64}(0.0, 0.0, 0.0, 0.1931833275037836), MicroCanonicalHMC.Leapfrog)"
      ]
     },
     "execution_count": 28,
     "metadata": {},
     "output_type": "execute_result"
    }
   ],
   "source": [
    "spl = MCHMC(0.0, 0.0, varE_wanted=2.0) #sqrt(target.d)*0.01"
   ]
  },
  {
   "cell_type": "code",
   "execution_count": 29,
   "id": "82938e27",
   "metadata": {
    "scrolled": false
   },
   "outputs": [
    {
     "name": "stdout",
     "output_type": "stream",
     "text": [
      "eps: 0.5 --> VarE: 974.5882090469048\n",
      "eps: "
     ]
    },
    {
     "name": "stderr",
     "output_type": "stream",
     "text": [
      "\u001b[36m\u001b[1m[ \u001b[22m\u001b[39m\u001b[36m\u001b[1mInfo: \u001b[22m\u001b[39mTuning eps ⏳\n"
     ]
    },
    {
     "name": "stdout",
     "output_type": "stream",
     "text": [
      "0.25 --> VarE: 9.085648374059966\n",
      "eps: 0.125 --> VarE: 23.567416744565747\n",
      "eps: 0.0625 --> VarE: 3.5430143507134573\n",
      "eps: 0.03125 --> VarE: 0.776184479229095\n",
      "samples: 100--> ESS: 0.024237766308085877\n",
      "samples: 243--> ESS: 0.01945688970043973\n",
      "samples: 447--> ESS: 0.006280659647220325\n",
      "samples: 739--> ESS: 0.020341756238449624\n"
     ]
    },
    {
     "name": "stderr",
     "output_type": "stream",
     "text": [
      "\u001b[36m\u001b[1m[ \u001b[22m\u001b[39m\u001b[36m\u001b[1mInfo: \u001b[22m\u001b[39mFound eps: 0.03125 ✅\n",
      "\u001b[36m\u001b[1m[ \u001b[22m\u001b[39m\u001b[36m\u001b[1mInfo: \u001b[22m\u001b[39mTuning L ⏳\n",
      "\u001b[36m\u001b[1m[ \u001b[22m\u001b[39m\u001b[36m\u001b[1mInfo: \u001b[22m\u001b[39mFound L: 0.6144995473091318 ✅\n"
     ]
    }
   ],
   "source": [
    "samples_mchmc = Sample(spl, target, 10000;\n",
    "                       monitor_energy=true, \n",
    "                       dialog=true);"
   ]
  },
  {
   "cell_type": "code",
   "execution_count": 30,
   "id": "385a8b1a",
   "metadata": {},
   "outputs": [],
   "source": [
    "Wms_mchmc = [sample[1] for sample in samples_mchmc]\n",
    "s8s_mchmc = [sample[2] for sample in samples_mchmc];"
   ]
  },
  {
   "cell_type": "code",
   "execution_count": 31,
   "id": "2a803eb8",
   "metadata": {},
   "outputs": [
    {
     "data": {
      "image/png": "[encoded data removed]",
      "text/plain": [
       "Figure(PyObject <Figure size 640x480 with 1 Axes>)"
      ]
     },
     "metadata": {},
     "output_type": "display_data"
    }
   ],
   "source": [
    "plt.hist2d(Wms_mchmc, s8s_mchmc, bins=100, range=[[0.1, 0.4],[0.6, 1.2]]);\n",
    "plt.xlabel(\"Wm\")\n",
    "plt.ylabel(\"s8\")\n",
    "plt.title(\"MCHMC - RSD model\");"
   ]
  },
  {
   "cell_type": "code",
   "execution_count": 40,
   "id": "b291ee7c",
   "metadata": {},
   "outputs": [
    {
     "data": {
      "text/plain": [
       "MicroCanonicalHMC.EnsembleSampler(Settings(100, Random.MersenneTwister(0), 0.2, 0, 1000, 10, \"LF\"), Hyperparameters{Float64}(0.03125, 0.6144995473091318, 0.0, 0.1931833275037836), MicroCanonicalHMC.Leapfrog)"
      ]
     },
     "execution_count": 40,
     "metadata": {},
     "output_type": "execute_result"
    }
   ],
   "source": [
    "nchains = 100\n",
    "e_spl = MCHMC(spl.hyperparameters.eps, spl.hyperparameters.L, nchains)"
   ]
  },
  {
   "cell_type": "code",
   "execution_count": 41,
   "id": "11058295",
   "metadata": {},
   "outputs": [
    {
     "name": "stderr",
     "output_type": "stream",
     "text": [
      "\u001b[36m\u001b[1m[ \u001b[22m\u001b[39m\u001b[36m\u001b[1mInfo: \u001b[22m\u001b[39mUsing given hyperparameters\n",
      "\u001b[36m\u001b[1m[ \u001b[22m\u001b[39m\u001b[36m\u001b[1mInfo: \u001b[22m\u001b[39mFound eps: 0.03125 ✅\n",
      "\u001b[36m\u001b[1m[ \u001b[22m\u001b[39m\u001b[36m\u001b[1mInfo: \u001b[22m\u001b[39mFound L: 0.6144995473091318 ✅\n"
     ]
    }
   ],
   "source": [
    "samples_ensemble_mchmc = Sample(e_spl, target, 10000, 1000;\n",
    "   monitor_energy=true, \n",
    "   dialog=true);"
   ]
  },
  {
   "cell_type": "code",
   "execution_count": 42,
   "id": "4bc24699",
   "metadata": {},
   "outputs": [],
   "source": [
    "Wms_ensemble_mchmc = [sample[1] for sample in samples_ensemble_mchmc]\n",
    "s8s_ensemble_mchmc = [sample[2] for sample in samples_ensemble_mchmc];"
   ]
  },
  {
   "cell_type": "code",
   "execution_count": 43,
   "id": "7b067286",
   "metadata": {},
   "outputs": [
    {
     "data": {
      "image/png": "[encoded data removed]",
      "text/plain": [
       "Figure(PyObject <Figure size 640x480 with 1 Axes>)"
      ]
     },
     "metadata": {},
     "output_type": "display_data"
    }
   ],
   "source": [
    "plt.hist2d(Wms_ensemble_mchmc, s8s_ensemble_mchmc, bins=100, range=[[0.1, 0.4],[0.6, 1.2]]);\n",
    "plt.xlabel(\"Wm\")\n",
    "plt.ylabel(\"s8\")\n",
    "plt.title(\"Ensemble MCHMC - RSD model\");"
   ]
  },
  {
   "cell_type": "markdown",
   "id": "0a03dd58",
   "metadata": {
    "heading_collapsed": true
   },
   "source": [
    "## AbstractMCMC"
   ]
  },
  {
   "cell_type": "code",
   "execution_count": 16,
   "id": "d569b9dc",
   "metadata": {
    "hidden": true
   },
   "outputs": [
    {
     "name": "stdout",
     "output_type": "stream",
     "text": [
      "eps: 0.5 --> VarE: 23.599877489451632\n",
      "eps: "
     ]
    },
    {
     "name": "stderr",
     "output_type": "stream",
     "text": [
      "\u001b[36m\u001b[1m[ \u001b[22m\u001b[39m\u001b[36m\u001b[1mInfo: \u001b[22m\u001b[39mTuning eps ⏳\n"
     ]
    },
    {
     "name": "stdout",
     "output_type": "stream",
     "text": [
      "0.25 --> VarE: NaN\n",
      "eps: 0.125 --> VarE: 25.138998473569668\n",
      "eps: 0.0625 --> VarE: 4.296453354560666\n",
      "eps: 0.03125 --> VarE: 1.7761088299253593\n",
      "samples: 100--> ESS: 0.024283494706402838\n",
      "samples: 243--> ESS: 0.011844504100199889\n",
      "samples: 447--> ESS: 0.020375368715122053\n",
      "samples: 739--> ESS: 0.01990847221033934\n"
     ]
    },
    {
     "name": "stderr",
     "output_type": "stream",
     "text": [
      "\u001b[36m\u001b[1m[ \u001b[22m\u001b[39m\u001b[36m\u001b[1mInfo: \u001b[22m\u001b[39mFound eps: 0.03125 ✅\n",
      "\u001b[36m\u001b[1m[ \u001b[22m\u001b[39m\u001b[36m\u001b[1mInfo: \u001b[22m\u001b[39mTuning L ⏳\n",
      "\u001b[36m\u001b[1m[ \u001b[22m\u001b[39m\u001b[36m\u001b[1mInfo: \u001b[22m\u001b[39mFound L: 1.4142135623730951 ✅\n",
      "\u001b[32mChain 1: 100%|██████████████████████████████████████████| Time: 0:00:00\u001b[39m\n"
     ]
    },
    {
     "data": {
      "text/plain": [
       "Chains MCMC chain (10000×4×1 Array{Float64, 3}):\n",
       "\n",
       "Iterations        = 1:1:10000\n",
       "Number of chains  = 1\n",
       "Samples per chain = 10000\n",
       "Wall duration     = 2.01 seconds\n",
       "Compute duration  = 2.01 seconds\n",
       "parameters        = Ωm, σ8\n",
       "internals         = E, logp\n",
       "\n",
       "Summary Statistics\n",
       " \u001b[1m parameters \u001b[0m \u001b[1m    mean \u001b[0m \u001b[1m     std \u001b[0m \u001b[1m naive_se \u001b[0m \u001b[1m    mcse \u001b[0m \u001b[1m       ess \u001b[0m \u001b[1m    rhat \u001b[0m \u001b[1m \u001b[0m ⋯\n",
       " \u001b[90m     Symbol \u001b[0m \u001b[90m Float64 \u001b[0m \u001b[90m Float64 \u001b[0m \u001b[90m  Float64 \u001b[0m \u001b[90m Float64 \u001b[0m \u001b[90m   Float64 \u001b[0m \u001b[90m Float64 \u001b[0m \u001b[90m \u001b[0m ⋯\n",
       "\n",
       "          Ωm    0.2248    0.0119     0.0001    0.0011     44.0343    1.0484    ⋯\n",
       "          σ8    0.8655    0.0409     0.0004    0.0009   2806.1779    1.0030    ⋯\n",
       "\u001b[36m                                                                1 column omitted\u001b[0m\n",
       "\n",
       "Quantiles\n",
       " \u001b[1m parameters \u001b[0m \u001b[1m    2.5% \u001b[0m \u001b[1m   25.0% \u001b[0m \u001b[1m   50.0% \u001b[0m \u001b[1m   75.0% \u001b[0m \u001b[1m   97.5% \u001b[0m\n",
       " \u001b[90m     Symbol \u001b[0m \u001b[90m Float64 \u001b[0m \u001b[90m Float64 \u001b[0m \u001b[90m Float64 \u001b[0m \u001b[90m Float64 \u001b[0m \u001b[90m Float64 \u001b[0m\n",
       "\n",
       "          Ωm    0.2024    0.2149    0.2256    0.2338    0.2459\n",
       "          σ8    0.7861    0.8384    0.8658    0.8930    0.9452\n"
      ]
     },
     "execution_count": 16,
     "metadata": {},
     "output_type": "execute_result"
    }
   ],
   "source": [
    "samples = sample(\n",
    "    stat_model, MCHMC(varE_wanted=2.0), 10000;\n",
    "    monitor_energy=true, \n",
    "    dialog=true)"
   ]
  },
  {
   "cell_type": "code",
   "execution_count": 17,
   "id": "eea6e813",
   "metadata": {
    "hidden": true
   },
   "outputs": [
    {
     "name": "stderr",
     "output_type": "stream",
     "text": [
      "\u001b[36m\u001b[1m[ \u001b[22m\u001b[39m\u001b[36m\u001b[1mInfo: \u001b[22m\u001b[39mStarting from previous run\n",
      "\u001b[32mChain 1: 100%|██████████████████████████████████████████| Time: 0:00:00\u001b[39m\n"
     ]
    },
    {
     "data": {
      "text/plain": [
       "Chains MCMC chain (10000×4×1 Array{Float64, 3}):\n",
       "\n",
       "Iterations        = 1:1:10000\n",
       "Number of chains  = 1\n",
       "Samples per chain = 10000\n",
       "Wall duration     = 0.61 seconds\n",
       "Compute duration  = 0.61 seconds\n",
       "parameters        = Ωm, σ8\n",
       "internals         = E, logp\n",
       "\n",
       "Summary Statistics\n",
       " \u001b[1m parameters \u001b[0m \u001b[1m    mean \u001b[0m \u001b[1m     std \u001b[0m \u001b[1m naive_se \u001b[0m \u001b[1m    mcse \u001b[0m \u001b[1m       ess \u001b[0m \u001b[1m    rhat \u001b[0m \u001b[1m \u001b[0m ⋯\n",
       " \u001b[90m     Symbol \u001b[0m \u001b[90m Float64 \u001b[0m \u001b[90m Float64 \u001b[0m \u001b[90m  Float64 \u001b[0m \u001b[90m Float64 \u001b[0m \u001b[90m   Float64 \u001b[0m \u001b[90m Float64 \u001b[0m \u001b[90m \u001b[0m ⋯\n",
       "\n",
       "          Ωm    0.2272    0.0130     0.0001    0.0012     34.0217    1.0258    ⋯\n",
       "          σ8    0.8638    0.0408     0.0004    0.0009   2800.4010    1.0021    ⋯\n",
       "\u001b[36m                                                                1 column omitted\u001b[0m\n",
       "\n",
       "Quantiles\n",
       " \u001b[1m parameters \u001b[0m \u001b[1m    2.5% \u001b[0m \u001b[1m   25.0% \u001b[0m \u001b[1m   50.0% \u001b[0m \u001b[1m   75.0% \u001b[0m \u001b[1m   97.5% \u001b[0m\n",
       " \u001b[90m     Symbol \u001b[0m \u001b[90m Float64 \u001b[0m \u001b[90m Float64 \u001b[0m \u001b[90m Float64 \u001b[0m \u001b[90m Float64 \u001b[0m \u001b[90m Float64 \u001b[0m\n",
       "\n",
       "          Ωm    0.2065    0.2162    0.2263    0.2376    0.2496\n",
       "          σ8    0.7839    0.8364    0.8633    0.8910    0.9435\n"
      ]
     },
     "execution_count": 17,
     "metadata": {},
     "output_type": "execute_result"
    }
   ],
   "source": [
    "new_samples = sample(stat_model, MCHMC(varE_wanted=2.0), 10000; \n",
    "                     monitor_energy=true, \n",
    "                     progress=true, resume_from=samples)"
   ]
  },
  {
   "cell_type": "markdown",
   "id": "767048c5",
   "metadata": {},
   "source": [
    "## Parallelization"
   ]
  },
  {
   "cell_type": "code",
   "execution_count": 18,
   "id": "42cf1f7f",
   "metadata": {
    "scrolled": true
   },
   "outputs": [
    {
     "name": "stdout",
     "output_type": "stream",
     "text": [
      "eps: 0.5 --> VarE: 74.44133648574237\n",
      "eps: 0.25 --> VarE: NaN\n"
     ]
    },
    {
     "name": "stderr",
     "output_type": "stream",
     "text": [
      "\u001b[36m\u001b[1m[ \u001b[22m\u001b[39m\u001b[36m\u001b[1mInfo: \u001b[22m\u001b[39mTuning eps ⏳\n"
     ]
    },
    {
     "name": "stdout",
     "output_type": "stream",
     "text": [
      "eps: 0.125 --> VarE: 25.452147234442833\n",
      "eps: 0.0625 --> VarE: 15.78062406455372\n",
      "eps: 0.03125 --> VarE: 8.051699618329222\n",
      "eps: 0.015625 --> VarE: 2.8072505531852263\n",
      "eps: 0.0078125 --> VarE: 0.7793015279163957\n",
      "samples: 100--> ESS: 0.02137942628876728\n",
      "samples: 243--> ESS: 0.009814057940209144\n",
      "samples: 447--> ESS: 0.02091901370899682\n",
      "samples: 739--> ESS: 0.019620101430319184\n"
     ]
    },
    {
     "name": "stderr",
     "output_type": "stream",
     "text": [
      "\u001b[36m\u001b[1m[ \u001b[22m\u001b[39m\u001b[36m\u001b[1mInfo: \u001b[22m\u001b[39mFound eps: 0.0078125 ✅\n",
      "\u001b[36m\u001b[1m[ \u001b[22m\u001b[39m\u001b[36m\u001b[1mInfo: \u001b[22m\u001b[39mTuning L ⏳\n",
      "\u001b[36m\u001b[1m[ \u001b[22m\u001b[39m\u001b[36m\u001b[1mInfo: \u001b[22m\u001b[39mFound L: 1.4142135623730951 ✅\n",
      "\u001b[32mchain 4:   5%|██▏                                       |  ETA: 0:00:02\u001b[39m\n",
      "\n",
      "\n",
      "\u001b[34mchain 2:   4%|█▉                                        |  ETA: 0:00:02\u001b[39m\n",
      "\u001b[34mchain 3:   5%|██▏                                       |  ETA: 0:00:02\u001b[39m\n",
      "\u001b[36mchain 1:   4%|█▌                                        |  ETA: 0:00:03\u001b[39m\n",
      "\n",
      "\u001b[34mchain 3:  10%|████                                      |  ETA: 0:00:02\u001b[39m\u001b[34mchain 2:  10%|████                                      |  ETA: 0:00:02\u001b[39m\n",
      "\u001b[32mchain 4:  11%|████▋                                     |  ETA: 0:00:02\u001b[39m\n",
      "\n",
      "\n",
      "\u001b[36mchain 1:   8%|███▍                                      |  ETA: 0:00:03\u001b[39m\n",
      "\u001b[34mchain 2:  14%|██████▏                                   |  ETA: 0:00:02\u001b[39m\n",
      "\u001b[34mchain 3:  14%|██████▏                                   |  ETA: 0:00:02\u001b[39m\n",
      "\n",
      "\n",
      "\u001b[32mchain 4:  16%|██████▉                                   |  ETA: 0:00:02\u001b[39m\n",
      "\u001b[36mchain 1:  12%|█████▎                                    |  ETA: 0:00:02\u001b[39m\n",
      "\n",
      "\u001b[34mchain 2:  20%|████████▋                                 |  ETA: 0:00:02\u001b[39m\n",
      "\u001b[34mchain 3:  21%|████████▉                                 |  ETA: 0:00:02\u001b[39m\n",
      "\n",
      "\u001b[32mchain 4:  23%|█████████▋                                |  ETA: 0:00:01\u001b[39m\n",
      "\n",
      "\u001b[36mchain 1:  19%|████████                                  |  ETA: 0:00:02\u001b[39m\n",
      "\u001b[34mchain 2:  26%|███████████▏                              |  ETA: 0:00:01\u001b[39m\n",
      "\n",
      "\u001b[34mchain 3:  27%|███████████▍                              |  ETA: 0:00:01\u001b[39m\n",
      "\u001b[32mchain 4:  29%|████████████▏                             |  ETA: 0:00:01\u001b[39m\n",
      "\u001b[36mchain 1:  25%|██████████▌                               |  ETA: 0:00:02\u001b[39m\n",
      "\u001b[34mchain 2:  32%|█████████████▋                            |  ETA: 0:00:01\u001b[39m\n",
      "\u001b[34mchain 3:  33%|█████████████▉                            |  ETA: 0:00:01\u001b[39m\n",
      "\n",
      "\u001b[32mchain 4:  36%|██████████████▉                           |  ETA: 0:00:01\u001b[39m\n",
      "\n",
      "\n",
      "\u001b[36mchain 1:  32%|█████████████▌                            |  ETA: 0:00:01\u001b[39m\n",
      "\u001b[34mchain 2:  38%|████████████████▏                         |  ETA: 0:00:01\u001b[39m\n",
      "\n",
      "\u001b[34mchain 3:  39%|████████████████▍                         |  ETA: 0:00:01\u001b[39m\n",
      "\u001b[32mchain 4:  42%|█████████████████▍                        |  ETA: 0:00:01\u001b[39m\n",
      "\u001b[36mchain 1:  38%|████████████████                          |  ETA: 0:00:01\u001b[39m\n",
      "\u001b[34mchain 2:  44%|██████████████████▌                       |  ETA: 0:00:01\u001b[39m\n",
      "\u001b[34mchain 3:  44%|██████████████████▊                       |  ETA: 0:00:01\u001b[39m\n",
      "\n",
      "\u001b[32mchain 4:  48%|████████████████████▏                     |  ETA: 0:00:01\u001b[39m\n",
      "\n",
      "\n",
      "\n",
      "\u001b[36mchain 1:  44%|██████████████████▌                       |  ETA: 0:00:01\u001b[39m\n",
      "\n",
      "\u001b[34mchain 2:  50%|████████████████████▊                     |  ETA: 0:00:01\u001b[39m\n",
      "\n",
      "\u001b[34mchain 3:  50%|█████████████████████                     |  ETA: 0:00:01\u001b[39m\n",
      "\n",
      "\n",
      "\u001b[32mchain 4:  54%|██████████████████████▋                   |  ETA: 0:00:01\u001b[39m\n",
      "\u001b[36mchain 1:  49%|████████████████████▋                     |  ETA: 0:00:01\u001b[39m\n",
      "\u001b[34mchain 2:  56%|███████████████████████▌                  |  ETA: 0:00:01\u001b[39m\n",
      "\u001b[34mchain 3:  56%|███████████████████████▊                  |  ETA: 0:00:01\u001b[39m\n",
      "\u001b[32mchain 4:  60%|█████████████████████████▎                |  ETA: 0:00:01\u001b[39m\n",
      "\n",
      "\u001b[36mchain 1:  56%|███████████████████████▎                  |  ETA: 0:00:01\u001b[39m\n",
      "\u001b[34mchain 2:  62%|██████████████████████████                |  ETA: 0:00:01\u001b[39m\n",
      "\n",
      "\n",
      "\u001b[34mchain 3:  64%|██████████████████████████▋               |  ETA: 0:00:01\u001b[39m\n",
      "\u001b[32mchain 4:  66%|███████████████████████████▊              |  ETA: 0:00:01\u001b[39m\n",
      "\n",
      "\u001b[36mchain 1:  62%|█████████████████████████▉                |  ETA: 0:00:01\u001b[39m\n",
      "\u001b[34mchain 2:  67%|████████████████████████████▏             |  ETA: 0:00:01\u001b[39m\n",
      "\n",
      "\u001b[34mchain 3:  70%|█████████████████████████████▍            |  ETA: 0:00:01\u001b[39m\n",
      "\u001b[32mchain 4:  72%|██████████████████████████████▎           |  ETA: 0:00:01\u001b[39m\n",
      "\u001b[36mchain 1:  67%|████████████████████████████▏             |  ETA: 0:00:01\u001b[39m\n",
      "\n",
      "\n",
      "\u001b[34mchain 2:  74%|██████████████████████████████▉           |  ETA: 0:00:01\u001b[39m\n",
      "\u001b[34mchain 3:  76%|████████████████████████████████▏         |  ETA: 0:00:00\u001b[39m\n",
      "\n",
      "\u001b[32mchain 4:  79%|█████████████████████████████████▏        |  ETA: 0:00:00\u001b[39m\n",
      "\n",
      "\u001b[36mchain 1:  74%|██████████████████████████████▉           |  ETA: 0:00:01\u001b[39m\n",
      "\n",
      "\u001b[34mchain 2:  80%|█████████████████████████████████▍        |  ETA: 0:00:00\u001b[39m\n",
      "\u001b[34mchain 3:  83%|██████████████████████████████████▉       |  ETA: 0:00:00\u001b[39m\n",
      "\u001b[32mchain 4:  86%|███████████████████████████████████▉      |  ETA: 0:00:00\u001b[39m\n",
      "\n",
      "\u001b[36mchain 1:  80%|█████████████████████████████████▋        |  ETA: 0:00:00\u001b[39m\n",
      "\u001b[34mchain 2:  86%|████████████████████████████████████▏     |  ETA: 0:00:00\u001b[39m\n",
      "\u001b[34mchain 3:  90%|█████████████████████████████████████▋    |  ETA: 0:00:00\u001b[39m\n",
      "\u001b[32mchain 4:  92%|██████████████████████████████████████▍   |  ETA: 0:00:00\u001b[39m\n",
      "\n",
      "\n",
      "\u001b[36mchain 1:  86%|████████████████████████████████████▏     |  ETA: 0:00:00\u001b[39m\n",
      "\u001b[34mchain 2:  92%|██████████████████████████████████████▉   |  ETA: 0:00:00\u001b[39m\n",
      "\u001b[34mchain 3:  96%|████████████████████████████████████████▏ |  ETA: 0:00:00\u001b[39m\n",
      "\n",
      "\n",
      "\u001b[32mchain 4: 100%|██████████████████████████████████████████| Time: 0:00:01\u001b[39m\n",
      "\u001b[34mchain 3: 100%|██████████████████████████████████████████| Time: 0:00:01\u001b[39m\n",
      "\n",
      "\n",
      "\u001b[36mchain 1:  92%|██████████████████████████████████████▋   |  ETA: 0:00:00\u001b[39m\n",
      "\u001b[34mchain 2: 100%|██████████████████████████████████████████| Time: 0:00:01\u001b[39m\n",
      "\u001b[36mchain 1: 100%|██████████████████████████████████████████| Time: 0:00:01\u001b[39m\n"
     ]
    },
    {
     "data": {
      "text/plain": [
       "4-element Vector{Chains}:\n",
       " MCMC chain (30000×4×1 Array{Float64, 3})\n",
       " MCMC chain (30000×4×1 Array{Float64, 3})\n",
       " MCMC chain (30000×4×1 Array{Float64, 3})\n",
       " MCMC chain (30000×4×1 Array{Float64, 3})"
      ]
     },
     "execution_count": 18,
     "metadata": {},
     "output_type": "execute_result"
    }
   ],
   "source": [
    "samples = sample(\n",
    "    stat_model, MCHMC(varE_wanted=2.0), MCMCThreads(), 30000, 4;\n",
    "    monitor_energy=true, \n",
    "    dialog=true)"
   ]
  },
  {
   "cell_type": "code",
   "execution_count": 19,
   "id": "2e8cd8ab",
   "metadata": {
    "scrolled": false
   },
   "outputs": [
    {
     "name": "stderr",
     "output_type": "stream",
     "text": [
      "\u001b[36m\u001b[1m[ \u001b[22m\u001b[39m\u001b[36m\u001b[1mInfo: \u001b[22m\u001b[39mStarting from previous run\n",
      "\u001b[35mchain 2:   8%|███▏                                      |  ETA: 0:00:02\u001b[39m\n",
      "\n",
      "\n",
      "\n",
      "\u001b[36mchain 4:  10%|████                                      |  ETA: 0:00:02\u001b[39m\n",
      "\u001b[32mchain 3:  10%|████▎                                     |  ETA: 0:00:02\u001b[39m\n",
      "\n",
      "\n",
      "\u001b[34mchain 1:  10%|████                                      |  ETA: 0:00:02\u001b[39m\n",
      "\n",
      "\u001b[35mchain 2:  14%|█████▉                                    |  ETA: 0:00:02\u001b[39m\n",
      "\u001b[36mchain 4:  16%|██████▊                                   |  ETA: 0:00:01\u001b[39m\n",
      "\n",
      "\u001b[32mchain 3:  17%|███████▏                                  |  ETA: 0:00:01\u001b[39m\n",
      "\u001b[34mchain 1:  15%|██████▎                                   |  ETA: 0:00:02\u001b[39m\n",
      "\n",
      "\n",
      "\n",
      "\n",
      "\n",
      "\u001b[35mchain 2:  20%|████████▋                                 |  ETA: 0:00:01\u001b[39m\n",
      "\u001b[36mchain 4:  22%|█████████▌                                |  ETA: 0:00:01\u001b[39m\n",
      "\n",
      "\u001b[32mchain 3:  23%|█████████▋                                |  ETA: 0:00:01\u001b[39m\n",
      "\n",
      "\u001b[34mchain 1:  21%|████████▉                                 |  ETA: 0:00:02\u001b[39m\n",
      "\n",
      "\u001b[32mchain 3:  28%|████████████                              |  ETA: 0:00:01\u001b[39m\n",
      "\u001b[35mchain 2:  27%|███████████▍                              |  ETA: 0:00:01\u001b[39m\n",
      "\u001b[36mchain 4:  28%|███████████▊                              |  ETA: 0:00:01\u001b[39m\n",
      "\u001b[34mchain 1:  29%|████████████▏                             |  ETA: 0:00:01\u001b[39m\n",
      "\n",
      "\u001b[35mchain 2:  34%|██████████████▌                           |  ETA: 0:00:01\u001b[39m\n",
      "\n",
      "\u001b[32mchain 3:  36%|███████████████▍                          |  ETA: 0:00:01\u001b[39m\n",
      "\u001b[36mchain 4:  36%|███████████████▏                          |  ETA: 0:00:01\u001b[39m\n",
      "\n",
      "\n",
      "\n",
      "\u001b[34mchain 1:  36%|███████████████▍                          |  ETA: 0:00:01\u001b[39m\n",
      "\n",
      "\n",
      "\n",
      "\n",
      "\u001b[32mchain 3:  44%|██████████████████▌                       |  ETA: 0:00:01\u001b[39m\n",
      "\u001b[35mchain 2:  42%|█████████████████▍                        |  ETA: 0:00:01\u001b[39m\n",
      "\u001b[36mchain 4:  44%|██████████████████▎                       |  ETA: 0:00:01\u001b[39m\n",
      "\u001b[34mchain 1:  44%|██████████████████▌                       |  ETA: 0:00:01\u001b[39m\n",
      "\n",
      "\u001b[35mchain 2:  48%|████████████████████▏                     |  ETA: 0:00:01\u001b[39m\n",
      "\u001b[32mchain 3:  50%|█████████████████████▎                    |  ETA: 0:00:01\u001b[39m\n",
      "\n",
      "\n",
      "\u001b[36mchain 4:  50%|█████████████████████▎                    |  ETA: 0:00:01\u001b[39m\n",
      "\u001b[34mchain 1:  52%|█████████████████████▉                    |  ETA: 0:00:01\u001b[39m\n",
      "\u001b[35mchain 2:  55%|███████████████████████▏                  |  ETA: 0:00:01\u001b[39m\n",
      "\n",
      "\u001b[32mchain 3:  58%|████████████████████████▍                 |  ETA: 0:00:01\u001b[39m\n",
      "\u001b[36mchain 4:  58%|████████████████████████▍                 |  ETA: 0:00:01\u001b[39m\n",
      "\n",
      "\n",
      "\n",
      "\u001b[34mchain 1:  60%|█████████████████████████▎                |  ETA: 0:00:01\u001b[39m\n",
      "\u001b[32mchain 3:  64%|███████████████████████████▏              |  ETA: 0:00:01\u001b[39m\n",
      "\n",
      "\u001b[35mchain 2:  62%|██████████████████████████                |  ETA: 0:00:01\u001b[39m\n",
      "\u001b[36mchain 4:  65%|███████████████████████████▎              |  ETA: 0:00:01\u001b[39m\n",
      "\n",
      "\u001b[34mchain 1:  68%|████████████████████████████▍             |  ETA: 0:00:01\u001b[39m\n",
      "\u001b[32mchain 3:  72%|██████████████████████████████▎           |  ETA: 0:00:00\u001b[39m\n",
      "\n",
      "\u001b[35mchain 2:  69%|█████████████████████████████             |  ETA: 0:00:01\u001b[39m\n",
      "\u001b[36mchain 4:  72%|██████████████████████████████            |  ETA: 0:00:00\u001b[39m\n",
      "\u001b[34mchain 1:  76%|███████████████████████████████▊          |  ETA: 0:00:00\u001b[39m\n",
      "\n",
      "\u001b[32mchain 3:  79%|█████████████████████████████████▏        |  ETA: 0:00:00\u001b[39m\n",
      "\u001b[35mchain 2:  76%|███████████████████████████████▉          |  ETA: 0:00:00\u001b[39m\n",
      "\u001b[36mchain 4:  78%|█████████████████████████████████         |  ETA: 0:00:00\u001b[39m\n",
      "\n",
      "\u001b[34mchain 1:  84%|███████████████████████████████████▏      |  ETA: 0:00:00\u001b[39m\n",
      "\u001b[32mchain 3:  86%|████████████████████████████████████▍     |  ETA: 0:00:00\u001b[39m\n",
      "\u001b[36mchain 4:  84%|███████████████████████████████████▌      |  ETA: 0:00:00\u001b[39m\n",
      "\u001b[35mchain 2:  82%|██████████████████████████████████▌       |  ETA: 0:00:00\u001b[39m\n",
      "\n",
      "\u001b[34mchain 1:  90%|██████████████████████████████████████    |  ETA: 0:00:00\u001b[39m\n",
      "\n",
      "\n",
      "\n",
      "\n",
      "\u001b[32mchain 3:  94%|███████████████████████████████████████▎  |  ETA: 0:00:00\u001b[39m\n",
      "\u001b[36mchain 4:  92%|██████████████████████████████████████▉   |  ETA: 0:00:00\u001b[39m\n",
      "\u001b[35mchain 2:  90%|█████████████████████████████████████▋    |  ETA: 0:00:00\u001b[39m\n",
      "\u001b[34mchain 1: 100%|██████████████████████████████████████████| Time: 0:00:01\u001b[39m\n",
      "\u001b[32mchain 3: 100%|██████████████████████████████████████████| Time: 0:00:01\u001b[39m\n",
      "\n",
      "\n",
      "\u001b[35mchain 2:  96%|████████████████████████████████████████▍ |  ETA: 0:00:00\u001b[39m\n",
      "\n",
      "\u001b[36mchain 4: 100%|██████████████████████████████████████████| Time: 0:00:01\u001b[39m\n",
      "\u001b[35mchain 2: 100%|██████████████████████████████████████████| Time: 0:00:01\u001b[39m\n"
     ]
    },
    {
     "data": {
      "text/plain": [
       "4-element Vector{Chains}:\n",
       " MCMC chain (30000×4×1 Array{Float64, 3})\n",
       " MCMC chain (30000×4×1 Array{Float64, 3})\n",
       " MCMC chain (30000×4×1 Array{Float64, 3})\n",
       " MCMC chain (30000×4×1 Array{Float64, 3})"
      ]
     },
     "execution_count": 19,
     "metadata": {},
     "output_type": "execute_result"
    }
   ],
   "source": [
    "new_samples = sample(\n",
    "    stat_model, MCHMC(varE_wanted=2.0), MCMCThreads(), 30000, 4;\n",
    "    monitor_energy=true, \n",
    "    dialog=true, \n",
    "    resume_from=samples)"
   ]
  },
  {
   "cell_type": "markdown",
   "id": "4aadd3b5",
   "metadata": {},
   "source": [
    "## NUTS"
   ]
  },
  {
   "cell_type": "code",
   "execution_count": 20,
   "id": "dcbe40a3",
   "metadata": {},
   "outputs": [
    {
     "name": "stderr",
     "output_type": "stream",
     "text": [
      "\u001b[36m\u001b[1m┌ \u001b[22m\u001b[39m\u001b[36m\u001b[1mInfo: \u001b[22m\u001b[39mFound initial step size\n",
      "\u001b[36m\u001b[1m└ \u001b[22m\u001b[39m  ϵ = 0.05\n",
      "\u001b[33m\u001b[1m┌ \u001b[22m\u001b[39m\u001b[33m\u001b[1mWarning: \u001b[22m\u001b[39mThe current proposal will be rejected due to numerical error(s).\n",
      "\u001b[33m\u001b[1m│ \u001b[22m\u001b[39m  isfinite.((θ, r, ℓπ, ℓκ)) = (true, false, false, false)\n",
      "\u001b[33m\u001b[1m└ \u001b[22m\u001b[39m\u001b[90m@ AdvancedHMC ~/.julia/packages/AdvancedHMC/4fByY/src/hamiltonian.jl:49\u001b[39m\n",
      "\u001b[32mSampling:   1%|▋                                        |  ETA: 0:00:11\u001b[39m\u001b[33m\u001b[1m┌ \u001b[22m\u001b[39m\u001b[33m\u001b[1mWarning: \u001b[22m\u001b[39mThe current proposal will be rejected due to numerical error(s).\n",
      "\u001b[33m\u001b[1m│ \u001b[22m\u001b[39m  isfinite.((θ, r, ℓπ, ℓκ)) = (true, false, false, false)\n",
      "\u001b[33m\u001b[1m└ \u001b[22m\u001b[39m\u001b[90m@ AdvancedHMC ~/.julia/packages/AdvancedHMC/4fByY/src/hamiltonian.jl:49\u001b[39m\n",
      "\u001b[33m\u001b[1m┌ \u001b[22m\u001b[39m\u001b[33m\u001b[1mWarning: \u001b[22m\u001b[39mThe current proposal will be rejected due to numerical error(s).\n",
      "\u001b[33m\u001b[1m│ \u001b[22m\u001b[39m  isfinite.((θ, r, ℓπ, ℓκ)) = (true, false, false, false)\n",
      "\u001b[33m\u001b[1m└ \u001b[22m\u001b[39m\u001b[90m@ AdvancedHMC ~/.julia/packages/AdvancedHMC/4fByY/src/hamiltonian.jl:49\u001b[39m\n",
      "\u001b[33m\u001b[1m┌ \u001b[22m\u001b[39m\u001b[33m\u001b[1mWarning: \u001b[22m\u001b[39mThe current proposal will be rejected due to numerical error(s).\n",
      "\u001b[33m\u001b[1m│ \u001b[22m\u001b[39m  isfinite.((θ, r, ℓπ, ℓκ)) = (true, false, false, false)\n",
      "\u001b[33m\u001b[1m└ \u001b[22m\u001b[39m\u001b[90m@ AdvancedHMC ~/.julia/packages/AdvancedHMC/4fByY/src/hamiltonian.jl:49\u001b[39m\n",
      "\u001b[33m\u001b[1m┌ \u001b[22m\u001b[39m\u001b[33m\u001b[1mWarning: \u001b[22m\u001b[39mThe current proposal will be rejected due to numerical error(s).\n",
      "\u001b[33m\u001b[1m│ \u001b[22m\u001b[39m  isfinite.((θ, r, ℓπ, ℓκ)) = (true, false, false, false)\n",
      "\u001b[33m\u001b[1m└ \u001b[22m\u001b[39m\u001b[90m@ AdvancedHMC ~/.julia/packages/AdvancedHMC/4fByY/src/hamiltonian.jl:49\u001b[39m\n",
      "\u001b[32mSampling: 100%|█████████████████████████████████████████| Time: 0:00:01\u001b[39m\n"
     ]
    },
    {
     "data": {
      "text/plain": [
       "Chains MCMC chain (10000×14×1 Array{Float64, 3}):\n",
       "\n",
       "Iterations        = 501:1:10500\n",
       "Number of chains  = 1\n",
       "Samples per chain = 10000\n",
       "Wall duration     = 4.94 seconds\n",
       "Compute duration  = 4.94 seconds\n",
       "parameters        = Ωm, σ8\n",
       "internals         = lp, n_steps, is_accept, acceptance_rate, log_density, hamiltonian_energy, hamiltonian_energy_error, max_hamiltonian_energy_error, tree_depth, numerical_error, step_size, nom_step_size\n",
       "\n",
       "Summary Statistics\n",
       " \u001b[1m parameters \u001b[0m \u001b[1m    mean \u001b[0m \u001b[1m     std \u001b[0m \u001b[1m naive_se \u001b[0m \u001b[1m    mcse \u001b[0m \u001b[1m       ess \u001b[0m \u001b[1m    rhat \u001b[0m \u001b[1m \u001b[0m ⋯\n",
       " \u001b[90m     Symbol \u001b[0m \u001b[90m Float64 \u001b[0m \u001b[90m Float64 \u001b[0m \u001b[90m  Float64 \u001b[0m \u001b[90m Float64 \u001b[0m \u001b[90m   Float64 \u001b[0m \u001b[90m Float64 \u001b[0m \u001b[90m \u001b[0m ⋯\n",
       "\n",
       "          Ωm    0.2241    0.0143     0.0001    0.0002   7329.7688    0.9999    ⋯\n",
       "          σ8    0.8662    0.0388     0.0004    0.0005   6732.1913    0.9999    ⋯\n",
       "\u001b[36m                                                                1 column omitted\u001b[0m\n",
       "\n",
       "Quantiles\n",
       " \u001b[1m parameters \u001b[0m \u001b[1m    2.5% \u001b[0m \u001b[1m   25.0% \u001b[0m \u001b[1m   50.0% \u001b[0m \u001b[1m   75.0% \u001b[0m \u001b[1m   97.5% \u001b[0m\n",
       " \u001b[90m     Symbol \u001b[0m \u001b[90m Float64 \u001b[0m \u001b[90m Float64 \u001b[0m \u001b[90m Float64 \u001b[0m \u001b[90m Float64 \u001b[0m \u001b[90m Float64 \u001b[0m\n",
       "\n",
       "          Ωm    0.2012    0.2119    0.2234    0.2362    0.2486\n",
       "          σ8    0.7905    0.8400    0.8662    0.8919    0.9428\n"
      ]
     },
     "execution_count": 20,
     "metadata": {},
     "output_type": "execute_result"
    }
   ],
   "source": [
    "samples_hmc = sample(stat_model, NUTS(500, 0.65),\n",
    "                     10000, progress=true; save_state=true)"
   ]
  },
  {
   "cell_type": "code",
   "execution_count": 21,
   "id": "623ba990",
   "metadata": {},
   "outputs": [
    {
     "data": {
      "text/plain": [
       "3-dimensional AxisArray{Float64,3,...} with axes:\n",
       "    :iter, 501:1:10500\n",
       "    :var, [:Ωm, :σ8, :lp, :n_steps, :is_accept, :acceptance_rate, :log_density, :hamiltonian_energy, :hamiltonian_energy_error, :max_hamiltonian_energy_error, :tree_depth, :numerical_error, :step_size, :nom_step_size]\n",
       "    :chain, 1:1\n",
       "And data, a 10000×14×1 Array{Float64, 3}:\n",
       "[:, :, 1] =\n",
       " 0.236694  0.873417  15.9971  3.0  1.0  …  2.0  0.0  0.905401  0.905401\n",
       " 0.24319   0.876524  15.3369  3.0  1.0     2.0  0.0  0.905401  0.905401\n",
       " 0.246478  0.860467  14.9081  3.0  1.0     2.0  0.0  0.905401  0.905401\n",
       " 0.224697  0.897129  16.0352  7.0  1.0     2.0  0.0  0.905401  0.905401\n",
       " 0.217176  0.89782   16.0551  3.0  1.0     2.0  0.0  0.905401  0.905401\n",
       " 0.215763  0.870906  16.2558  3.0  1.0  …  1.0  0.0  0.905401  0.905401\n",
       " 0.237183  0.896065  15.4975  3.0  1.0     2.0  0.0  0.905401  0.905401\n",
       " 0.241317  0.853554  15.768   7.0  1.0     2.0  0.0  0.905401  0.905401\n",
       " 0.220634  0.875642  16.351   7.0  1.0     2.0  0.0  0.905401  0.905401\n",
       " 0.216328  0.884785  16.2183  3.0  1.0     2.0  0.0  0.905401  0.905401\n",
       " 0.211148  0.824648  15.1142  3.0  1.0  …  2.0  0.0  0.905401  0.905401\n",
       " 0.203022  0.803804  12.7509  1.0  1.0     1.0  0.0  0.905401  0.905401\n",
       " 0.208889  0.845264  15.4879  3.0  1.0     2.0  0.0  0.905401  0.905401\n",
       " ⋮                                      ⋱  ⋮                   \n",
       " 0.207694  0.855882  15.5558  3.0  1.0     1.0  0.0  0.905401  0.905401\n",
       " 0.215882  0.901819  15.9592  3.0  1.0     2.0  0.0  0.905401  0.905401\n",
       " 0.215882  0.901819  15.9592  1.0  1.0  …  1.0  0.0  0.905401  0.905401\n",
       " 0.21133   0.899102  15.865   7.0  1.0     2.0  0.0  0.905401  0.905401\n",
       " 0.203189  0.861157  14.7854  7.0  1.0     3.0  0.0  0.905401  0.905401\n",
       " 0.215265  0.920419  15.4542  3.0  1.0     2.0  0.0  0.905401  0.905401\n",
       " 0.215265  0.920419  15.4542  3.0  1.0     2.0  0.0  0.905401  0.905401\n",
       " 0.246134  0.912151  13.619   3.0  1.0  …  2.0  0.0  0.905401  0.905401\n",
       " 0.246134  0.912151  13.619   1.0  1.0     1.0  0.0  0.905401  0.905401\n",
       " 0.215245  0.928833  15.1517  3.0  1.0     2.0  0.0  0.905401  0.905401\n",
       " 0.20086   0.949591  12.289   7.0  1.0     2.0  0.0  0.905401  0.905401\n",
       " 0.249483  0.778203  11.299   7.0  1.0     2.0  0.0  0.905401  0.905401"
      ]
     },
     "execution_count": 21,
     "metadata": {},
     "output_type": "execute_result"
    }
   ],
   "source": [
    "samples_hmc.value"
   ]
  },
  {
   "cell_type": "code",
   "execution_count": 22,
   "id": "fa9db828",
   "metadata": {},
   "outputs": [],
   "source": [
    "Wms_hmc = vec(samples_hmc[\"Ωm\"])\n",
    "s8s_hmc = vec(samples_hmc[\"σ8\"]);"
   ]
  },
  {
   "cell_type": "code",
   "execution_count": 23,
   "id": "3d063a52",
   "metadata": {},
   "outputs": [
    {
     "data": {
      "image/png": "[encoded data removed]",
      "text/plain": [
       "Figure(PyObject <Figure size 640x480 with 1 Axes>)"
      ]
     },
     "metadata": {},
     "output_type": "display_data"
    }
   ],
   "source": [
    "plt.hist2d(Wms_hmc, s8s_hmc, bins=100, range=[[0.1, 0.4],[0.6, 1.2]]);\n",
    "plt.xlabel(\"Wm\")\n",
    "plt.ylabel(\"s8\")\n",
    "plt.title(\"NUTS - RSD model\");"
   ]
  },
  {
   "cell_type": "code",
   "execution_count": null,
   "id": "0bdd32b7",
   "metadata": {},
   "outputs": [],
   "source": []
  },
  {
   "cell_type": "code",
   "execution_count": null,
   "id": "78c56af5",
   "metadata": {},
   "outputs": [],
   "source": []
  }
 ],
 "metadata": {
  "kernelspec": {
   "display_name": "Julia_1.9 (5 threads) 1.9.0-beta3",
   "language": "julia",
   "name": "julia_1.9-_5-threads_-1.9"
  },
  "language_info": {
   "file_extension": ".jl",
   "mimetype": "application/julia",
   "name": "julia",
   "version": "1.9.0"
  }
 },
 "nbformat": 4,
 "nbformat_minor": 5
}
