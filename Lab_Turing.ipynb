{
 "cells": [
  {
   "cell_type": "markdown",
   "id": "91129cb1",
   "metadata": {},
   "source": [
    "# Turing Target Practice"
   ]
  },
  {
   "cell_type": "markdown",
   "id": "97121235",
   "metadata": {},
   "source": [
    "## Model"
   ]
  },
  {
   "cell_type": "code",
   "execution_count": 1,
   "id": "86b96c9e",
   "metadata": {},
   "outputs": [
    {
     "name": "stderr",
     "output_type": "stream",
     "text": [
      "\u001b[32m\u001b[1m  Activating\u001b[22m\u001b[39m project at `~/PhD/MicroCanonicalHMC.jl`\n"
     ]
    }
   ],
   "source": [
    "] activate \".\""
   ]
  },
  {
   "cell_type": "code",
   "execution_count": 2,
   "id": "baed58e3",
   "metadata": {},
   "outputs": [
    {
     "name": "stderr",
     "output_type": "stream",
     "text": [
      "\u001b[36m\u001b[1m[ \u001b[22m\u001b[39m\u001b[36m\u001b[1mInfo: \u001b[22m\u001b[39mPrecompiling MicroCanonicalHMC [234d2aa0-2291-45f7-9047-6fa6f316b0a8]\n"
     ]
    }
   ],
   "source": [
    "# The statistical inference frame-work we will use\n",
    "using Turing\n",
    "using Interpolations\n",
    "using ForwardDiff\n",
    "using LinearAlgebra\n",
    "#using StatsPlots\n",
    "using PyPlot\n",
    "using Distributed\n",
    "\n",
    "using Revise\n",
    "using MicroCanonicalHMC"
   ]
  },
  {
   "cell_type": "code",
   "execution_count": 3,
   "id": "a7d6f81c",
   "metadata": {},
   "outputs": [],
   "source": [
    "fs8_zs = [0.38, 0.51, 0.61, 1.48, 0.44, 0.6, 0.73, 0.6, 0.86, 0.067, 1.4]\n",
    "fs8_data = [0.49749, 0.457523, 0.436148, 0.462, 0.413, 0.39, 0.437, 0.55, 0.4, 0.423, 0.482]\n",
    "fs8_cov = [0.00203355 0.000811829 0.000264615 0.0 0.0 0.0 0.0 0.0 0.0 0.0 0.0;\n",
    "           0.000811829 0.00142289 0.000662824 0.0 0.0 0.0 0.0 0.0 0.0 0.0 0.0; \n",
    "           0.000264615 0.000662824 0.00118576 0.0 0.0 0.0 0.0 0.0 0.0 0.0 0.0;\n",
    "           0.0 0.0 0.0 0.002025 0.0 0.0 0.0 0.0 0.0 0.0 0.0;\n",
    "           0.0 0.0 0.0 0.0 0.0064 0.00257 0.0 0.0 0.0 0.0 0.0;\n",
    "           0.0 0.0 0.0 0.0 0.00257 0.003969 0.00254 0.0 0.0 0.0 0.0;\n",
    "           0.0 0.0 0.0 0.0 0.0 0.00254 0.005184 0.0 0.0 0.0 0.0;\n",
    "           0.0 0.0 0.0 0.0 0.0 0.0 0.0 0.0144 0.0 0.0 0.0;\n",
    "           0.0 0.0 0.0 0.0 0.0 0.0 0.0 0.0 0.0121 0.0 0.0; \n",
    "           0.0 0.0 0.0 0.0 0.0 0.0 0.0 0.0 0.0 0.003025 0.0;\n",
    "           0.0 0.0 0.0 0.0 0.0 0.0 0.0 0.0 0.0 0.0 0.013456000000000001];"
   ]
  },
  {
   "cell_type": "code",
   "execution_count": 4,
   "id": "1359a630",
   "metadata": {
    "code_folding": []
   },
   "outputs": [
    {
     "data": {
      "text/plain": [
       "make_fs8 (generic function with 1 method)"
      ]
     },
     "execution_count": 4,
     "metadata": {},
     "output_type": "execute_result"
    }
   ],
   "source": [
    "function make_fs8(Ωm, σ8; Ωr=8.24*10^-5)\n",
    "    # ODE solution for growth factor\n",
    "    x_Dz = LinRange(0, log(1+1100), 300)\n",
    "    dx_Dz = x_Dz[2]-x_Dz[1]\n",
    "    z_Dz = @.(exp(x_Dz) - 1)\n",
    "    a_Dz = @.(1/(1+z_Dz))\n",
    "    aa = reverse(a_Dz)\n",
    "    e =  @.(sqrt.(abs(Ωm)*(1+z_Dz)^3+Ωr*(1+z_Dz)^4+(1-Ωm-Ωr)))\n",
    "    ee = reverse(e)\n",
    "\n",
    "    dd = zeros(typeof(Ωm), 300)\n",
    "    yy = zeros(typeof(Ωm), 300)\n",
    "    dd[1] = aa[1]\n",
    "    yy[1] = aa[1]^3*ee[end]\n",
    "\n",
    "    for i in 1:(300-1)\n",
    "        A0 = -1.5 * Ωm / (aa[i]*ee[i])\n",
    "        B0 = -1. / (aa[i]^2*ee[i])\n",
    "        A1 = -1.5 * Ωm / (aa[i+1]*ee[i+1])\n",
    "        B1 = -1. / (aa[i+1]^2*ee[i+1])\n",
    "        yy[i+1] = (1+0.5*dx_Dz^2*A0*B0)*yy[i] + 0.5*(A0+A1)*dx_Dz*dd[i]\n",
    "        dd[i+1] = 0.5*(B0+B1)*dx_Dz*yy[i] + (1+0.5*dx_Dz^2*A0*B0)*dd[i]\n",
    "    end\n",
    "\n",
    "    y = reverse(yy)\n",
    "    d = reverse(dd)\n",
    "\n",
    "    Dzi = LinearInterpolation(z_Dz, d./d[1], extrapolation_bc=Line())\n",
    "    fs8zi = LinearInterpolation(z_Dz, -σ8 .* y./ (a_Dz.^2 .*e.*d[1]),\n",
    "                                 extrapolation_bc=Line())\n",
    "    return fs8zi\n",
    "end"
   ]
  },
  {
   "cell_type": "code",
   "execution_count": 5,
   "id": "8005e277",
   "metadata": {},
   "outputs": [],
   "source": [
    "@model function model(data; cov = fs8_cov) \n",
    "    # Define priors\n",
    "    #KiDS priors\n",
    "    Ωm  ~ Uniform(0.01, 0.6)\n",
    "    σ8 ~ Normal(0.8, 0.3)\n",
    "    fs8_itp = make_fs8(Ωm, σ8)\n",
    "    theory = fs8_itp(fs8_zs)\n",
    "    data ~ MvNormal(theory, cov)\n",
    "end;"
   ]
  },
  {
   "cell_type": "code",
   "execution_count": 6,
   "id": "1eebe796",
   "metadata": {},
   "outputs": [
    {
     "data": {
      "text/plain": [
       "DynamicPPL.Model{typeof(model), (:data, :cov), (:cov,), (), Tuple{Vector{Float64}, Matrix{Float64}}, Tuple{Matrix{Float64}}, DynamicPPL.DefaultContext}(model, (data = [0.49749, 0.457523, 0.436148, 0.462, 0.413, 0.39, 0.437, 0.55, 0.4, 0.423, 0.482], cov = [0.00203355 0.000811829 … 0.0 0.0; 0.000811829 0.00142289 … 0.0 0.0; … ; 0.0 0.0 … 0.003025 0.0; 0.0 0.0 … 0.0 0.013456000000000001]), (cov = [0.00203355 0.000811829 … 0.0 0.0; 0.000811829 0.00142289 … 0.0 0.0; … ; 0.0 0.0 … 0.003025 0.0; 0.0 0.0 … 0.0 0.013456000000000001],), DynamicPPL.DefaultContext())"
      ]
     },
     "execution_count": 6,
     "metadata": {},
     "output_type": "execute_result"
    }
   ],
   "source": [
    "stat_model = model(fs8_data)"
   ]
  },
  {
   "cell_type": "markdown",
   "id": "10dfa4cc",
   "metadata": {},
   "source": [
    "## Sampling"
   ]
  },
  {
   "cell_type": "code",
   "execution_count": 7,
   "id": "c8ed14a3",
   "metadata": {},
   "outputs": [],
   "source": [
    "target = TuringTarget(stat_model; compute_MAP=true);"
   ]
  },
  {
   "cell_type": "code",
   "execution_count": 8,
   "id": "a79c2b35",
   "metadata": {},
   "outputs": [
    {
     "data": {
      "text/plain": [
       "MicroCanonicalHMC.Sampler(Settings(Random.MersenneTwister(0), 1.0, 0, 1000, 10, \"LF\"), Hyperparameters(0.0, 0.0, 0.0, 0.1931833275037836, [0.0]), MicroCanonicalHMC.Leapfrog)"
      ]
     },
     "execution_count": 8,
     "metadata": {},
     "output_type": "execute_result"
    }
   ],
   "source": [
    "spl = MCHMC(varE_wanted=1.0) #MCHMC(0.03125, 0.6145; varE_wanted=2.0)"
   ]
  },
  {
   "cell_type": "code",
   "execution_count": 9,
   "id": "82938e27",
   "metadata": {
    "scrolled": false
   },
   "outputs": [
    {
     "name": "stderr",
     "output_type": "stream",
     "text": [
      "\u001b[36m\u001b[1m[ \u001b[22m\u001b[39m\u001b[36m\u001b[1mInfo: \u001b[22m\u001b[39mTuning sigma ⏳\n",
      "\u001b[36m\u001b[1m[ \u001b[22m\u001b[39m\u001b[36m\u001b[1mInfo: \u001b[22m\u001b[39mFound sigma: [0.45043479852950286, 0.060888704437465316] ✅\n",
      "\u001b[36m\u001b[1m[ \u001b[22m\u001b[39m\u001b[36m\u001b[1mInfo: \u001b[22m\u001b[39mTuning eps ⏳\n"
     ]
    },
    {
     "name": "stdout",
     "output_type": "stream",
     "text": [
      "eps: 0.5 --> VarE: 0.6909124353954109\n"
     ]
    },
    {
     "name": "stderr",
     "output_type": "stream",
     "text": [
      "\u001b[36m\u001b[1m[ \u001b[22m\u001b[39m\u001b[36m\u001b[1mInfo: \u001b[22m\u001b[39mFound eps: 0.5 ✅\n",
      "\u001b[36m\u001b[1m[ \u001b[22m\u001b[39m\u001b[36m\u001b[1mInfo: \u001b[22m\u001b[39mTuning L ⏳\n"
     ]
    },
    {
     "name": "stdout",
     "output_type": "stream",
     "text": [
      "samples: 100--> ESS: 0.08769789762289978\n",
      "samples: 243--> ESS: 0.09214756525947825\n"
     ]
    },
    {
     "name": "stderr",
     "output_type": "stream",
     "text": [
      "\u001b[36m\u001b[1m[ \u001b[22m\u001b[39m\u001b[36m\u001b[1mInfo: \u001b[22m\u001b[39mFound L: 2.170431735627742 ✅\n"
     ]
    }
   ],
   "source": [
    "samples_mchmc = Sample(spl, target, 100000;\n",
    "                       monitor_energy=true, \n",
    "                       dialog=true);"
   ]
  },
  {
   "cell_type": "code",
   "execution_count": 10,
   "id": "385a8b1a",
   "metadata": {},
   "outputs": [],
   "source": [
    "Wms_mchmc = [sample[1] for sample in samples_mchmc]\n",
    "s8s_mchmc = [sample[2] for sample in samples_mchmc];"
   ]
  },
  {
   "cell_type": "code",
   "execution_count": 11,
   "id": "2a803eb8",
   "metadata": {},
   "outputs": [
    {
     "data": {
      "image/png": "[encoded data removed]",
      "text/plain": [
       "Figure(PyObject <Figure size 640x480 with 1 Axes>)"
      ]
     },
     "metadata": {},
     "output_type": "display_data"
    }
   ],
   "source": [
    "plt.hist2d(Wms_mchmc, s8s_mchmc, bins=100, range=[[0.1, 0.6],[0.6, 1.2]]);\n",
    "plt.xlabel(\"Wm\")\n",
    "plt.ylabel(\"s8\")\n",
    "plt.title(\"MCHMC - RSD model\");"
   ]
  },
  {
   "cell_type": "code",
   "execution_count": 57,
   "id": "3476f139",
   "metadata": {},
   "outputs": [
    {
     "data": {
      "text/plain": [
       "MicroCanonicalHMC.EnsembleSampler(MicroCanonicalHMC.EnsembleSettings(100, Random.MersenneTwister(0), 2, 2.0, 10, 10, \"LF\"), Hyperparameters(0.2, 0.0, 0.0, 0.1931833275037836, [0.0]), MicroCanonicalHMC.Leapfrog)"
      ]
     },
     "execution_count": 57,
     "metadata": {},
     "output_type": "execute_result"
    }
   ],
   "source": [
    "nchains = 100\n",
    "e_spl = MCHMC(0.2, 0.0, nchains; varE_wanted = 2.0)# sigma=[1.0, 1.0]) #sigma=[0.45043479852961416, 0.060888704437565826])\n",
    "#e_spl = MCHMC(0.0, 0.0, nchains; sigma=[1.0, 1.0])"
   ]
  },
  {
   "cell_type": "code",
   "execution_count": 58,
   "id": "ae097bf4",
   "metadata": {
    "scrolled": false
   },
   "outputs": [
    {
     "name": "stderr",
     "output_type": "stream",
     "text": [
      "\u001b[36m\u001b[1m[ \u001b[22m\u001b[39m\u001b[36m\u001b[1mInfo: \u001b[22m\u001b[39mBurn-in started ⏳\n",
      "\u001b[36m\u001b[1m[ \u001b[22m\u001b[39m\u001b[36m\u001b[1mInfo: \u001b[22m\u001b[39mTuning sigma ⏳\n",
      "\u001b[36m\u001b[1m[ \u001b[22m\u001b[39m\u001b[36m\u001b[1mInfo: \u001b[22m\u001b[39mTuning L ⏳\n",
      "\u001b[33m\u001b[1m┌ \u001b[22m\u001b[39m\u001b[33m\u001b[1mWarning: \u001b[22m\u001b[39mL-tuning not Implemented using L = sqrt(target.d)\n",
      "\u001b[33m\u001b[1m└ \u001b[22m\u001b[39m\u001b[90m@ MicroCanonicalHMC ~/PhD/MicroCanonicalHMC.jl/src/ensemble/tuning.jl:25\u001b[39m\n",
      "\u001b[36m\u001b[1m[ \u001b[22m\u001b[39m\u001b[36m\u001b[1mInfo: \u001b[22m\u001b[39mVirial loss condition met during burn-in at step: 16\n"
     ]
    }
   ],
   "source": [
    "samples_ensemble_mchmc = Sample(e_spl, target, 1000, 100;\n",
    "   monitor_energy=true, \n",
    "   dialog=false);"
   ]
  },
  {
   "cell_type": "code",
   "execution_count": 59,
   "id": "197541d7",
   "metadata": {},
   "outputs": [],
   "source": [
    "Wms_ensemble_mchmc = [sample[1] for sample in samples_ensemble_mchmc]\n",
    "s8s_ensemble_mchmc = [sample[2] for sample in samples_ensemble_mchmc];"
   ]
  },
  {
   "cell_type": "code",
   "execution_count": 60,
   "id": "654b0195",
   "metadata": {},
   "outputs": [
    {
     "data": {
      "image/png": "[encoded data removed]",
      "text/plain": [
       "Figure(PyObject <Figure size 640x480 with 1 Axes>)"
      ]
     },
     "metadata": {},
     "output_type": "display_data"
    }
   ],
   "source": [
    "plt.hist2d(Wms_ensemble_mchmc, s8s_ensemble_mchmc, bins=100, range=[[0.1, 0.6],[0.6, 1.2]]);\n",
    "plt.xlabel(\"Wm\")\n",
    "plt.ylabel(\"s8\")\n",
    "plt.title(\"Ensemble MCHMC - RSD model\");"
   ]
  },
  {
   "cell_type": "markdown",
   "id": "0a03dd58",
   "metadata": {},
   "source": [
    "## AbstractMCMC"
   ]
  },
  {
   "cell_type": "code",
   "execution_count": 16,
   "id": "d569b9dc",
   "metadata": {},
   "outputs": [
    {
     "name": "stdout",
     "output_type": "stream",
     "text": [
      "eps: 0.5 --> VarE: 0.5345866305843806\n",
      "samples: 100--> ESS: 0.22647457709943417\n"
     ]
    },
    {
     "name": "stderr",
     "output_type": "stream",
     "text": [
      "\u001b[36m\u001b[1m[ \u001b[22m\u001b[39m\u001b[36m\u001b[1mInfo: \u001b[22m\u001b[39mTuning sigma ⏳\n",
      "\u001b[36m\u001b[1m[ \u001b[22m\u001b[39m\u001b[36m\u001b[1mInfo: \u001b[22m\u001b[39mFound sigma: [0.4504347985295386, 0.06088870443747062] ✅\n",
      "\u001b[36m\u001b[1m[ \u001b[22m\u001b[39m\u001b[36m\u001b[1mInfo: \u001b[22m\u001b[39mTuning eps ⏳\n",
      "\u001b[36m\u001b[1m[ \u001b[22m\u001b[39m\u001b[36m\u001b[1mInfo: \u001b[22m\u001b[39mFound eps: 0.5 ✅\n",
      "\u001b[36m\u001b[1m[ \u001b[22m\u001b[39m\u001b[36m\u001b[1mInfo: \u001b[22m\u001b[39mTuning L ⏳\n",
      "\u001b[36m\u001b[1m[ \u001b[22m\u001b[39m\u001b[36m\u001b[1mInfo: \u001b[22m\u001b[39mFound L: 0.8831013289062886 ✅\n",
      "\u001b[32mChain 1: 100%|██████████████████████████████████████████| Time: 0:00:00\u001b[39m\n"
     ]
    },
    {
     "data": {
      "text/plain": [
       "Chains MCMC chain (10000×4×1 Array{Float64, 3}):\n",
       "\n",
       "Iterations        = 1:1:10000\n",
       "Number of chains  = 1\n",
       "Samples per chain = 10000\n",
       "Wall duration     = 1.94 seconds\n",
       "Compute duration  = 1.94 seconds\n",
       "parameters        = Ωm, σ8\n",
       "internals         = E, logp\n",
       "\n",
       "Summary Statistics\n",
       " \u001b[1m parameters \u001b[0m \u001b[1m    mean \u001b[0m \u001b[1m     std \u001b[0m \u001b[1m naive_se \u001b[0m \u001b[1m    mcse \u001b[0m \u001b[1m      ess \u001b[0m \u001b[1m    rhat \u001b[0m \u001b[1m e\u001b[0m ⋯\n",
       " \u001b[90m     Symbol \u001b[0m \u001b[90m Float64 \u001b[0m \u001b[90m Float64 \u001b[0m \u001b[90m  Float64 \u001b[0m \u001b[90m Float64 \u001b[0m \u001b[90m  Float64 \u001b[0m \u001b[90m Float64 \u001b[0m \u001b[90m  \u001b[0m ⋯\n",
       "\n",
       "          Ωm    0.2404    0.0672     0.0007    0.0029   448.9601    0.9999     ⋯\n",
       "          σ8    0.8627    0.0614     0.0006    0.0026   474.5861    0.9999     ⋯\n",
       "\u001b[36m                                                                1 column omitted\u001b[0m\n",
       "\n",
       "Quantiles\n",
       " \u001b[1m parameters \u001b[0m \u001b[1m    2.5% \u001b[0m \u001b[1m   25.0% \u001b[0m \u001b[1m   50.0% \u001b[0m \u001b[1m   75.0% \u001b[0m \u001b[1m   97.5% \u001b[0m\n",
       " \u001b[90m     Symbol \u001b[0m \u001b[90m Float64 \u001b[0m \u001b[90m Float64 \u001b[0m \u001b[90m Float64 \u001b[0m \u001b[90m Float64 \u001b[0m \u001b[90m Float64 \u001b[0m\n",
       "\n",
       "          Ωm    0.1330    0.1920    0.2320    0.2804    0.3945\n",
       "          σ8    0.7522    0.8203    0.8586    0.9014    0.9942\n"
      ]
     },
     "execution_count": 16,
     "metadata": {},
     "output_type": "execute_result"
    }
   ],
   "source": [
    "samples = sample(\n",
    "    stat_model, MCHMC(varE_wanted=2.0), 10000;\n",
    "    monitor_energy=true, \n",
    "    dialog=true)"
   ]
  },
  {
   "cell_type": "code",
   "execution_count": 17,
   "id": "eea6e813",
   "metadata": {},
   "outputs": [
    {
     "name": "stderr",
     "output_type": "stream",
     "text": [
      "\u001b[36m\u001b[1m[ \u001b[22m\u001b[39m\u001b[36m\u001b[1mInfo: \u001b[22m\u001b[39mStarting from previous run\n",
      "\u001b[32mChain 1: 100%|██████████████████████████████████████████| Time: 0:00:00\u001b[39m\n"
     ]
    },
    {
     "data": {
      "text/plain": [
       "Chains MCMC chain (10000×4×1 Array{Float64, 3}):\n",
       "\n",
       "Iterations        = 1:1:10000\n",
       "Number of chains  = 1\n",
       "Samples per chain = 10000\n",
       "Wall duration     = 0.62 seconds\n",
       "Compute duration  = 0.62 seconds\n",
       "parameters        = Ωm, σ8\n",
       "internals         = E, logp\n",
       "\n",
       "Summary Statistics\n",
       " \u001b[1m parameters \u001b[0m \u001b[1m    mean \u001b[0m \u001b[1m     std \u001b[0m \u001b[1m naive_se \u001b[0m \u001b[1m    mcse \u001b[0m \u001b[1m      ess \u001b[0m \u001b[1m    rhat \u001b[0m \u001b[1m e\u001b[0m ⋯\n",
       " \u001b[90m     Symbol \u001b[0m \u001b[90m Float64 \u001b[0m \u001b[90m Float64 \u001b[0m \u001b[90m  Float64 \u001b[0m \u001b[90m Float64 \u001b[0m \u001b[90m  Float64 \u001b[0m \u001b[90m Float64 \u001b[0m \u001b[90m  \u001b[0m ⋯\n",
       "\n",
       "          Ωm    0.2331    0.0634     0.0006    0.0027   532.7785    1.0007     ⋯\n",
       "          σ8    0.8681    0.0607     0.0006    0.0024   603.7450    1.0001     ⋯\n",
       "\u001b[36m                                                                1 column omitted\u001b[0m\n",
       "\n",
       "Quantiles\n",
       " \u001b[1m parameters \u001b[0m \u001b[1m    2.5% \u001b[0m \u001b[1m   25.0% \u001b[0m \u001b[1m   50.0% \u001b[0m \u001b[1m   75.0% \u001b[0m \u001b[1m   97.5% \u001b[0m\n",
       " \u001b[90m     Symbol \u001b[0m \u001b[90m Float64 \u001b[0m \u001b[90m Float64 \u001b[0m \u001b[90m Float64 \u001b[0m \u001b[90m Float64 \u001b[0m \u001b[90m Float64 \u001b[0m\n",
       "\n",
       "          Ωm    0.1304    0.1866    0.2260    0.2708    0.3746\n",
       "          σ8    0.7613    0.8246    0.8644    0.9072    0.9962\n"
      ]
     },
     "execution_count": 17,
     "metadata": {},
     "output_type": "execute_result"
    }
   ],
   "source": [
    "new_samples = sample(stat_model, MCHMC(varE_wanted=2.0), 10000; \n",
    "                     monitor_energy=true, \n",
    "                     progress=true, resume_from=samples)"
   ]
  },
  {
   "cell_type": "markdown",
   "id": "767048c5",
   "metadata": {},
   "source": [
    "## Parallelization"
   ]
  },
  {
   "cell_type": "code",
   "execution_count": 18,
   "id": "42cf1f7f",
   "metadata": {
    "scrolled": true
   },
   "outputs": [
    {
     "name": "stdout",
     "output_type": "stream",
     "text": [
      "eps: 0.5 --> VarE: 1.1574477684874251\n",
      "samples: 100--> ESS: 0.24132371077780798\n"
     ]
    },
    {
     "name": "stderr",
     "output_type": "stream",
     "text": [
      "\u001b[36m\u001b[1m[ \u001b[22m\u001b[39m\u001b[36m\u001b[1mInfo: \u001b[22m\u001b[39mTuning sigma ⏳\n",
      "\u001b[36m\u001b[1m[ \u001b[22m\u001b[39m\u001b[36m\u001b[1mInfo: \u001b[22m\u001b[39mFound sigma: [0.4504347985299103, 0.06088870443745691] ✅\n",
      "\u001b[36m\u001b[1m[ \u001b[22m\u001b[39m\u001b[36m\u001b[1mInfo: \u001b[22m\u001b[39mTuning eps ⏳\n",
      "\u001b[36m\u001b[1m[ \u001b[22m\u001b[39m\u001b[36m\u001b[1mInfo: \u001b[22m\u001b[39mFound eps: 0.5 ✅\n",
      "\u001b[36m\u001b[1m[ \u001b[22m\u001b[39m\u001b[36m\u001b[1mInfo: \u001b[22m\u001b[39mTuning L ⏳\n",
      "\u001b[36m\u001b[1m[ \u001b[22m\u001b[39m\u001b[36m\u001b[1mInfo: \u001b[22m\u001b[39mFound L: 0.8287623265670085 ✅\n",
      "\u001b[34mchain 3:   2%|█                                         |  ETA: 0:00:04\u001b[39m\u001b[35mchain 2:   2%|█                                         |  ETA: 0:00:04\u001b[39m\n",
      "\u001b[32mchain 4:   4%|█▋                                        |  ETA: 0:00:03\u001b[39m\n",
      "\u001b[36mchain 1:   4%|█▋                                        |  ETA: 0:00:03\u001b[39m\n",
      "\n",
      "\u001b[35mchain 2:   8%|███▏                                      |  ETA: 0:00:02\u001b[39m\n",
      "\u001b[32mchain 4:  10%|████                                      |  ETA: 0:00:02\u001b[39m\n",
      "\u001b[34mchain 3:   8%|███▏                                      |  ETA: 0:00:03\u001b[39m\n",
      "\u001b[36mchain 1:  10%|████▎                                     |  ETA: 0:00:02\u001b[39m\n",
      "\u001b[35mchain 2:  12%|█████▎                                    |  ETA: 0:00:02\u001b[39m\n",
      "\u001b[32mchain 4:  15%|██████▎                                   |  ETA: 0:00:02\u001b[39m\n",
      "\u001b[34mchain 3:  14%|█████▋                                    |  ETA: 0:00:02\u001b[39m\n",
      "\u001b[36mchain 1:  16%|██████▉                                   |  ETA: 0:00:02\u001b[39m\n",
      "\u001b[35mchain 2:  18%|███████▌                                  |  ETA: 0:00:02\u001b[39m\n",
      "\u001b[32mchain 4:  20%|████████▋                                 |  ETA: 0:00:02\u001b[39m\n",
      "\u001b[34mchain 3:  20%|████████▎                                 |  ETA: 0:00:02\u001b[39m\n",
      "\n",
      "\u001b[36mchain 1:  22%|█████████▌                                |  ETA: 0:00:02\u001b[39m\n",
      "\u001b[35mchain 2:  24%|██████████▏                               |  ETA: 0:00:02\u001b[39m\n",
      "\u001b[34mchain 3:  24%|██████████▎                               |  ETA: 0:00:02\u001b[39m\n",
      "\u001b[32mchain 4:  26%|██████████▉                               |  ETA: 0:00:02\u001b[39m\n",
      "\n",
      "\u001b[36mchain 1:  28%|████████████                              |  ETA: 0:00:01\u001b[39m\n",
      "\u001b[35mchain 2:  30%|████████████▋                             |  ETA: 0:00:01\u001b[39m\n",
      "\u001b[32mchain 4:  32%|█████████████▎                            |  ETA: 0:00:01\u001b[39m\n",
      "\u001b[34mchain 3:  30%|████████████▊                             |  ETA: 0:00:01\u001b[39m\n",
      "\u001b[36mchain 1:  34%|██████████████▌                           |  ETA: 0:00:01\u001b[39m\n",
      "\u001b[35mchain 2:  36%|███████████████▏                          |  ETA: 0:00:01\u001b[39m\n",
      "\n",
      "\u001b[34mchain 3:  36%|███████████████▏                          |  ETA: 0:00:01\u001b[39m\u001b[32mchain 4:  38%|███████████████▊                          |  ETA: 0:00:01\u001b[39m\n",
      "\u001b[36mchain 1:  40%|████████████████▊                         |  ETA: 0:00:01\u001b[39m\n",
      "\u001b[35mchain 2:  42%|█████████████████▋                        |  ETA: 0:00:01\u001b[39m\n",
      "\u001b[32mchain 4:  44%|██████████████████▎                       |  ETA: 0:00:01\u001b[39m\n",
      "\u001b[34mchain 3:  42%|█████████████████▉                        |  ETA: 0:00:01\u001b[39m\n",
      "\u001b[36mchain 1:  46%|███████████████████▍                      |  ETA: 0:00:01\u001b[39m\n",
      "\n",
      "\u001b[35mchain 2:  48%|████████████████████▏                     |  ETA: 0:00:01\u001b[39m\n",
      "\u001b[32mchain 4:  49%|████████████████████▋                     |  ETA: 0:00:01\u001b[39m\n",
      "\n",
      "\u001b[34mchain 3:  48%|████████████████████▏                     |  ETA: 0:00:01\u001b[39m\n",
      "\u001b[36mchain 1:  52%|█████████████████████▋                    |  ETA: 0:00:01\u001b[39m\n",
      "\n",
      "\u001b[35mchain 2:  54%|██████████████████████▌                   |  ETA: 0:00:01\u001b[39m\n",
      "\n",
      "\u001b[32mchain 4:  54%|██████████████████████▉                   |  ETA: 0:00:01\u001b[39m\u001b[34mchain 3:  53%|██████████████████████▎                   |  ETA: 0:00:01\u001b[39m\n",
      "\u001b[36mchain 1:  58%|████████████████████████▏                 |  ETA: 0:00:01\u001b[39m\n",
      "\u001b[35mchain 2:  59%|████████████████████████▊                 |  ETA: 0:00:01\u001b[39m\n",
      "\u001b[32mchain 4:  60%|█████████████████████████▍                |  ETA: 0:00:01\u001b[39m\n",
      "\u001b[34mchain 3:  59%|████████████████████████▊                 |  ETA: 0:00:01\u001b[39m\n",
      "\u001b[36mchain 1:  64%|██████████████████████████▉               |  ETA: 0:00:01\u001b[39m\n",
      "\u001b[35mchain 2:  65%|███████████████████████████▎              |  ETA: 0:00:01\u001b[39m\n",
      "\u001b[34mchain 3:  64%|███████████████████████████▏              |  ETA: 0:00:01\u001b[39m\n",
      "\u001b[32mchain 4:  66%|███████████████████████████▊              |  ETA: 0:00:01\u001b[39m\n",
      "\n",
      "\u001b[36mchain 1:  70%|█████████████████████████████▍            |  ETA: 0:00:01\u001b[39m\n",
      "\u001b[35mchain 2:  71%|█████████████████████████████▉            |  ETA: 0:00:01\u001b[39m\n",
      "\u001b[32mchain 4:  72%|██████████████████████████████▎           |  ETA: 0:00:01\u001b[39m\n",
      "\u001b[34mchain 3:  70%|█████████████████████████████▍            |  ETA: 0:00:01\u001b[39m\n",
      "\n",
      "\u001b[36mchain 1:  76%|███████████████████████████████▉          |  ETA: 0:00:00\u001b[39m\n",
      "\u001b[35mchain 2:  77%|████████████████████████████████▍         |  ETA: 0:00:00\u001b[39m\n",
      "\u001b[32mchain 4:  78%|████████████████████████████████▊         |  ETA: 0:00:00\u001b[39m\n",
      "\u001b[34mchain 3:  76%|███████████████████████████████▉          |  ETA: 0:00:00\u001b[39m\n",
      "\u001b[36mchain 1:  82%|██████████████████████████████████▎       |  ETA: 0:00:00\u001b[39m\n",
      "\u001b[35mchain 2:  83%|██████████████████████████████████▉       |  ETA: 0:00:00\u001b[39m\n",
      "\u001b[32mchain 4:  84%|███████████████████████████████████▏      |  ETA: 0:00:00\u001b[39m\n",
      "\u001b[34mchain 3:  82%|██████████████████████████████████▎       |  ETA: 0:00:00\u001b[39m\n",
      "\u001b[36mchain 1:  88%|█████████████████████████████████████     |  ETA: 0:00:00\u001b[39m\n",
      "\u001b[35mchain 2:  89%|█████████████████████████████████████▍    |  ETA: 0:00:00\u001b[39m\n",
      "\u001b[32mchain 4:  90%|█████████████████████████████████████▋    |  ETA: 0:00:00\u001b[39m\n",
      "\u001b[34mchain 3:  87%|████████████████████████████████████▌     |  ETA: 0:00:00\u001b[39m\n",
      "\n",
      "\n",
      "\u001b[36mchain 1:  94%|███████████████████████████████████████▌  |  ETA: 0:00:00\u001b[39m\n",
      "\n",
      "\u001b[35mchain 2:  96%|████████████████████████████████████████▏ |  ETA: 0:00:00\u001b[39m\n",
      "\u001b[34mchain 3:  92%|██████████████████████████████████████▉   |  ETA: 0:00:00\u001b[39m\n",
      "\u001b[36mchain 1: 100%|██████████████████████████████████████████| Time: 0:00:01\u001b[39m\n",
      "\u001b[35mchain 2: 100%|██████████████████████████████████████████| Time: 0:00:01\u001b[39m\n",
      "\n",
      "\n",
      "\n",
      "\n",
      "\n",
      "\n",
      "\n",
      "\u001b[32mchain 4: 100%|██████████████████████████████████████████| Time: 0:00:01\u001b[39m\n",
      "\u001b[34mchain 3: 100%|██████████████████████████████████████████| Time: 0:00:02\u001b[39m\n"
     ]
    },
    {
     "data": {
      "text/plain": [
       "4-element Vector{Chains}:\n",
       " MCMC chain (30000×4×1 Array{Float64, 3})\n",
       " MCMC chain (30000×4×1 Array{Float64, 3})\n",
       " MCMC chain (30000×4×1 Array{Float64, 3})\n",
       " MCMC chain (30000×4×1 Array{Float64, 3})"
      ]
     },
     "execution_count": 18,
     "metadata": {},
     "output_type": "execute_result"
    }
   ],
   "source": [
    "samples = sample(\n",
    "    stat_model, MCHMC(varE_wanted=2.0), MCMCThreads(), 30000, 4;\n",
    "    monitor_energy=true, \n",
    "    dialog=true)"
   ]
  },
  {
   "cell_type": "code",
   "execution_count": 19,
   "id": "2e8cd8ab",
   "metadata": {
    "scrolled": false
   },
   "outputs": [
    {
     "name": "stderr",
     "output_type": "stream",
     "text": [
      "\u001b[36m\u001b[1m[ \u001b[22m\u001b[39m\u001b[36m\u001b[1mInfo: \u001b[22m\u001b[39mStarting from previous run\n",
      "\u001b[35mchain 2:   5%|██▏                                       |  ETA: 0:00:02\u001b[39m\n",
      "\n",
      "\n",
      "\n",
      "\n",
      "\n",
      "\n",
      "\n",
      "\n",
      "\n",
      "\n",
      "\n",
      "\n",
      "\n",
      "\n",
      "\n",
      "\n",
      "\n",
      "\n",
      "\n",
      "\n",
      "\n",
      "\n",
      "\n",
      "\n",
      "\n",
      "\n",
      "\n",
      "\u001b[32mchain 3:  10%|████▍                                     |  ETA: 0:00:02\u001b[39m\n",
      "\u001b[34mchain 4:  10%|████▍                                     |  ETA: 0:00:02\u001b[39m\n",
      "\n",
      "\u001b[36mchain 1:  10%|████▍                                     |  ETA: 0:00:02\u001b[39m\n",
      "\u001b[35mchain 2:  10%|████▍                                     |  ETA: 0:00:02\u001b[39m\n",
      "\u001b[34mchain 4:  16%|██████▉                                   |  ETA: 0:00:02\u001b[39m\n",
      "\u001b[32mchain 3:  17%|███████▏                                  |  ETA: 0:00:01\u001b[39m\n",
      "\n",
      "\u001b[36mchain 1:  16%|██████▊                                   |  ETA: 0:00:02\u001b[39m\n",
      "\u001b[35mchain 2:  16%|██████▊                                   |  ETA: 0:00:02\u001b[39m\n",
      "\u001b[34mchain 4:  22%|█████████▌                                |  ETA: 0:00:01\u001b[39m\n",
      "\u001b[32mchain 3:  23%|█████████▋                                |  ETA: 0:00:01\u001b[39m\n",
      "\u001b[36mchain 1:  21%|████████▉                                 |  ETA: 0:00:02\u001b[39m\n",
      "\u001b[35mchain 2:  21%|████████▉                                 |  ETA: 0:00:02\u001b[39m\n",
      "\u001b[36mchain 1:  26%|██████████▉                               |  ETA: 0:00:01\u001b[39m\n",
      "\u001b[32mchain 3:  29%|████████████▏                             |  ETA: 0:00:01\u001b[39m\n",
      "\u001b[34mchain 4:  28%|████████████                              |  ETA: 0:00:01\u001b[39m\n",
      "\u001b[35mchain 2:  28%|███████████▌                              |  ETA: 0:00:01\u001b[39m\n",
      "\u001b[34mchain 4:  34%|██████████████▌                           |  ETA: 0:00:01\u001b[39m\n",
      "\n",
      "\u001b[36mchain 1:  32%|█████████████▎                            |  ETA: 0:00:01\u001b[39m\u001b[32mchain 3:  36%|██████████████▉                           |  ETA: 0:00:01\u001b[39m\n",
      "\u001b[35mchain 2:  33%|█████████████▉                            |  ETA: 0:00:01\u001b[39m\n",
      "\u001b[36mchain 1:  38%|███████████████▊                          |  ETA: 0:00:01\u001b[39m\n",
      "\u001b[34mchain 4:  40%|█████████████████                         |  ETA: 0:00:01\u001b[39m\n",
      "\n",
      "\u001b[32mchain 3:  42%|█████████████████▍                        |  ETA: 0:00:01\u001b[39m\n",
      "\u001b[35mchain 2:  40%|████████████████▋                         |  ETA: 0:00:01\u001b[39m\n",
      "\u001b[36mchain 1:  44%|██████████████████▎                       |  ETA: 0:00:01\u001b[39m\n",
      "\n",
      "\u001b[34mchain 4:  46%|███████████████████▌                      |  ETA: 0:00:01\u001b[39m\n",
      "\u001b[32mchain 3:  47%|███████████████████▊                      |  ETA: 0:00:01\u001b[39m\n",
      "\n",
      "\u001b[35mchain 2:  46%|███████████████████▏                      |  ETA: 0:00:01\u001b[39m\n",
      "\n",
      "\u001b[36mchain 1:  50%|████████████████████▊                     |  ETA: 0:00:01\u001b[39m\n",
      "\u001b[32mchain 3:  52%|█████████████████████▉                    |  ETA: 0:00:01\u001b[39m\n",
      "\u001b[34mchain 4:  53%|██████████████████████▎                   |  ETA: 0:00:01\u001b[39m\n",
      "\u001b[35mchain 2:  51%|█████████████████████▍                    |  ETA: 0:00:01\u001b[39m\n",
      "\u001b[36mchain 1:  56%|███████████████████████▎                  |  ETA: 0:00:01\u001b[39m\n",
      "\u001b[32mchain 3:  58%|████████████████████████▏                 |  ETA: 0:00:01\u001b[39m\n",
      "\u001b[34mchain 4:  59%|████████████████████████▊                 |  ETA: 0:00:01\u001b[39m\n",
      "\u001b[35mchain 2:  56%|███████████████████████▊                  |  ETA: 0:00:01\u001b[39m\n",
      "\u001b[34mchain 4:  65%|███████████████████████████▎              |  ETA: 0:00:01\u001b[39m\u001b[36mchain 1:  62%|██████████████████████████                |  ETA: 0:00:01\u001b[39m\n",
      "\u001b[32mchain 3:  63%|██████████████████████████▌               |  ETA: 0:00:01\u001b[39m\n",
      "\u001b[35mchain 2:  62%|██████████████████████████                |  ETA: 0:00:01\u001b[39m\n",
      "\n",
      "\n",
      "\u001b[36mchain 1:  68%|████████████████████████████▊             |  ETA: 0:00:01\u001b[39m\n",
      "\u001b[32mchain 3:  68%|████████████████████████████▊             |  ETA: 0:00:01\u001b[39m\n",
      "\u001b[34mchain 4:  72%|██████████████████████████████            |  ETA: 0:00:01\u001b[39m\n",
      "\n",
      "\u001b[35mchain 2:  68%|████████████████████████████▌             |  ETA: 0:00:01\u001b[39m\n",
      "\n",
      "\u001b[32mchain 3:  74%|███████████████████████████████▏          |  ETA: 0:00:00\u001b[39m\n",
      "\u001b[36mchain 1:  75%|███████████████████████████████▌          |  ETA: 0:00:00\u001b[39m\n",
      "\u001b[34mchain 4:  78%|████████████████████████████████▌         |  ETA: 0:00:00\u001b[39m\n",
      "\u001b[35mchain 2:  74%|███████████████████████████████▏          |  ETA: 0:00:00\u001b[39m\n",
      "\n",
      "\n",
      "\n",
      "\u001b[32mchain 3:  80%|█████████████████████████████████▍        |  ETA: 0:00:00\u001b[39m\n",
      "\u001b[36mchain 1:  82%|██████████████████████████████████▎       |  ETA: 0:00:00\u001b[39m\n",
      "\u001b[34mchain 4:  84%|███████████████████████████████████▏      |  ETA: 0:00:00\u001b[39m\n",
      "\n",
      "\n",
      "\u001b[35mchain 2:  80%|█████████████████████████████████▋        |  ETA: 0:00:00\u001b[39m\n",
      "\u001b[32mchain 3:  85%|███████████████████████████████████▊      |  ETA: 0:00:00\u001b[39m\n",
      "\u001b[34mchain 4:  90%|█████████████████████████████████████▋    |  ETA: 0:00:00\u001b[39m\n",
      "\u001b[36mchain 1:  88%|█████████████████████████████████████     |  ETA: 0:00:00\u001b[39m\n",
      "\u001b[35mchain 2:  86%|███████████████████████████████████▉      |  ETA: 0:00:00\u001b[39m\n",
      "\u001b[32mchain 3:  90%|██████████████████████████████████████    |  ETA: 0:00:00\u001b[39m\n",
      "\n",
      "\u001b[36mchain 1:  94%|███████████████████████████████████████▌  |  ETA: 0:00:00\u001b[39m\n",
      "\u001b[34mchain 4:  96%|████████████████████████████████████████▍ |  ETA: 0:00:00\u001b[39m\n",
      "\u001b[34mchain 4: 100%|██████████████████████████████████████████| Time: 0:00:01\u001b[39m\n",
      "\n",
      "\u001b[36mchain 1: 100%|██████████████████████████████████████████| Time: 0:00:01\u001b[39m\n",
      "\n",
      "\n",
      "\u001b[32mchain 3: 100%|██████████████████████████████████████████| Time: 0:00:01\u001b[39m\n",
      "\u001b[35mchain 2: 100%|██████████████████████████████████████████| Time: 0:00:01\u001b[39m\n"
     ]
    },
    {
     "data": {
      "text/plain": [
       "4-element Vector{Chains}:\n",
       " MCMC chain (30000×4×1 Array{Float64, 3})\n",
       " MCMC chain (30000×4×1 Array{Float64, 3})\n",
       " MCMC chain (30000×4×1 Array{Float64, 3})\n",
       " MCMC chain (30000×4×1 Array{Float64, 3})"
      ]
     },
     "execution_count": 19,
     "metadata": {},
     "output_type": "execute_result"
    }
   ],
   "source": [
    "new_samples = sample(\n",
    "    stat_model, MCHMC(varE_wanted=2.0), MCMCThreads(), 30000, 4;\n",
    "    monitor_energy=true, \n",
    "    dialog=true, \n",
    "    resume_from=samples)"
   ]
  },
  {
   "cell_type": "markdown",
   "id": "4aadd3b5",
   "metadata": {},
   "source": [
    "## NUTS"
   ]
  },
  {
   "cell_type": "code",
   "execution_count": 20,
   "id": "dcbe40a3",
   "metadata": {},
   "outputs": [
    {
     "name": "stderr",
     "output_type": "stream",
     "text": [
      "\u001b[36m\u001b[1m┌ \u001b[22m\u001b[39m\u001b[36m\u001b[1mInfo: \u001b[22m\u001b[39mFound initial step size\n",
      "\u001b[36m\u001b[1m└ \u001b[22m\u001b[39m  ϵ = 0.05\n",
      "\u001b[32mSampling: 100%|█████████████████████████████████████████| Time: 0:00:06\u001b[39m\n"
     ]
    },
    {
     "data": {
      "text/plain": [
       "Chains MCMC chain (10000×14×1 Array{Float64, 3}):\n",
       "\n",
       "Iterations        = 11:1:10010\n",
       "Number of chains  = 1\n",
       "Samples per chain = 10000\n",
       "Wall duration     = 9.21 seconds\n",
       "Compute duration  = 9.21 seconds\n",
       "parameters        = Ωm, σ8\n",
       "internals         = lp, n_steps, is_accept, acceptance_rate, log_density, hamiltonian_energy, hamiltonian_energy_error, max_hamiltonian_energy_error, tree_depth, numerical_error, step_size, nom_step_size\n",
       "\n",
       "Summary Statistics\n",
       " \u001b[1m parameters \u001b[0m \u001b[1m    mean \u001b[0m \u001b[1m     std \u001b[0m \u001b[1m naive_se \u001b[0m \u001b[1m    mcse \u001b[0m \u001b[1m       ess \u001b[0m \u001b[1m    rhat \u001b[0m \u001b[1m \u001b[0m ⋯\n",
       " \u001b[90m     Symbol \u001b[0m \u001b[90m Float64 \u001b[0m \u001b[90m Float64 \u001b[0m \u001b[90m  Float64 \u001b[0m \u001b[90m Float64 \u001b[0m \u001b[90m   Float64 \u001b[0m \u001b[90m Float64 \u001b[0m \u001b[90m \u001b[0m ⋯\n",
       "\n",
       "          Ωm    0.2400    0.0673     0.0007    0.0017   1519.4229    0.9999    ⋯\n",
       "          σ8    0.8644    0.0616     0.0006    0.0013   2277.7359    1.0000    ⋯\n",
       "\u001b[36m                                                                1 column omitted\u001b[0m\n",
       "\n",
       "Quantiles\n",
       " \u001b[1m parameters \u001b[0m \u001b[1m    2.5% \u001b[0m \u001b[1m   25.0% \u001b[0m \u001b[1m   50.0% \u001b[0m \u001b[1m   75.0% \u001b[0m \u001b[1m   97.5% \u001b[0m\n",
       " \u001b[90m     Symbol \u001b[0m \u001b[90m Float64 \u001b[0m \u001b[90m Float64 \u001b[0m \u001b[90m Float64 \u001b[0m \u001b[90m Float64 \u001b[0m \u001b[90m Float64 \u001b[0m\n",
       "\n",
       "          Ωm    0.1307    0.1919    0.2328    0.2798    0.3973\n",
       "          σ8    0.7542    0.8220    0.8608    0.9037    0.9952\n"
      ]
     },
     "execution_count": 20,
     "metadata": {},
     "output_type": "execute_result"
    }
   ],
   "source": [
    "samples_hmc = sample(stat_model, NUTS(10, 0.65),\n",
    "                     10000, progress=true; save_state=true)"
   ]
  },
  {
   "cell_type": "code",
   "execution_count": 21,
   "id": "623ba990",
   "metadata": {},
   "outputs": [
    {
     "data": {
      "text/plain": [
       "3-dimensional AxisArray{Float64,3,...} with axes:\n",
       "    :iter, 11:1:10010\n",
       "    :var, [:Ωm, :σ8, :lp, :n_steps, :is_accept, :acceptance_rate, :log_density, :hamiltonian_energy, :hamiltonian_energy_error, :max_hamiltonian_energy_error, :tree_depth, :numerical_error, :step_size, :nom_step_size]\n",
       "    :chain, 1:1\n",
       "And data, a 10000×14×1 Array{Float64, 3}:\n",
       "[:, :, 1] =\n",
       " 0.216442  0.88862   16.2117  23.0  1.0  …  4.0  0.0  0.0568589  0.0568589\n",
       " 0.174146  0.860634  15.0557  11.0  1.0     3.0  0.0  0.0568589  0.0568589\n",
       " 0.159435  0.878645  14.7617   9.0  1.0     3.0  0.0  0.0568589  0.0568589\n",
       " 0.283127  0.819435  15.9098  15.0  1.0     3.0  0.0  0.0568589  0.0568589\n",
       " 0.293693  0.804948  15.6947   7.0  1.0     2.0  0.0  0.0568589  0.0568589\n",
       " 0.257482  0.820709  16.0031  17.0  1.0  …  4.0  0.0  0.0568589  0.0568589\n",
       " 0.187975  0.954872  15.0502  19.0  1.0     4.0  0.0  0.0568589  0.0568589\n",
       " 0.180751  0.852851  15.1357   5.0  1.0     2.0  0.0  0.0568589  0.0568589\n",
       " 0.176183  0.985551  14.1396  15.0  1.0     4.0  0.0  0.0568589  0.0568589\n",
       " 0.239274  0.901154  15.4989  21.0  1.0     4.0  0.0  0.0568589  0.0568589\n",
       " 0.232544  0.815816  15.6227   5.0  1.0  …  2.0  0.0  0.0568589  0.0568589\n",
       " 0.232544  0.815816  15.6227  13.0  1.0     3.0  0.0  0.0568589  0.0568589\n",
       " 0.264027  0.786717  15.1214  15.0  1.0     3.0  0.0  0.0568589  0.0568589\n",
       " ⋮                                       ⋱  ⋮                    \n",
       " 0.21026   0.95098   14.4126  31.0  1.0     5.0  0.0  0.0568589  0.0568589\n",
       " 0.241716  0.831887  16.1131  13.0  1.0     3.0  0.0  0.0568589  0.0568589\n",
       " 0.225677  0.91017   15.5795  11.0  1.0  …  3.0  0.0  0.0568589  0.0568589\n",
       " 0.224808  0.900304  15.8813   1.0  1.0     1.0  0.0  0.0568589  0.0568589\n",
       " 0.185444  0.881563  15.9738  15.0  1.0     3.0  0.0  0.0568589  0.0568589\n",
       " 0.182902  0.97277   14.4752  11.0  1.0     3.0  0.0  0.0568589  0.0568589\n",
       " 0.246607  0.880344  15.9026  23.0  1.0     4.0  0.0  0.0568589  0.0568589\n",
       " 0.214689  0.816522  15.1842  15.0  1.0  …  3.0  0.0  0.0568589  0.0568589\n",
       " 0.226027  0.893496  16.0132   7.0  1.0     2.0  0.0  0.0568589  0.0568589\n",
       " 0.265348  0.837254  16.1156  15.0  1.0     3.0  0.0  0.0568589  0.0568589\n",
       " 0.240954  0.889275  15.8103   9.0  1.0     3.0  0.0  0.0568589  0.0568589\n",
       " 0.213299  0.918329  15.6371  15.0  1.0     3.0  0.0  0.0568589  0.0568589"
      ]
     },
     "execution_count": 21,
     "metadata": {},
     "output_type": "execute_result"
    }
   ],
   "source": [
    "samples_hmc.value"
   ]
  },
  {
   "cell_type": "code",
   "execution_count": 22,
   "id": "fa9db828",
   "metadata": {},
   "outputs": [],
   "source": [
    "Wms_hmc = vec(samples_hmc[\"Ωm\"])\n",
    "s8s_hmc = vec(samples_hmc[\"σ8\"]);"
   ]
  },
  {
   "cell_type": "code",
   "execution_count": 23,
   "id": "3d063a52",
   "metadata": {},
   "outputs": [
    {
     "data": {
      "image/png": "[encoded data removed]",
      "text/plain": [
       "Figure(PyObject <Figure size 640x480 with 1 Axes>)"
      ]
     },
     "metadata": {},
     "output_type": "display_data"
    }
   ],
   "source": [
    "plt.hist2d(Wms_hmc, s8s_hmc, bins=100, range=[[0.1, 0.4],[0.6, 1.2]]);\n",
    "plt.xlabel(\"Wm\")\n",
    "plt.ylabel(\"s8\")\n",
    "plt.title(\"NUTS - RSD model\");"
   ]
  }
 ],
 "metadata": {
  "kernelspec": {
   "display_name": "Julia_1.9 (5 threads) 1.9.0-beta3",
   "language": "julia",
   "name": "julia_1.9-_5-threads_-1.9"
  },
  "language_info": {
   "file_extension": ".jl",
   "mimetype": "application/julia",
   "name": "julia",
   "version": "1.9.0"
  }
 },
 "nbformat": 4,
 "nbformat_minor": 5
}
