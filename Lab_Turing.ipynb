{
 "cells": [
  {
   "cell_type": "markdown",
   "id": "91129cb1",
   "metadata": {},
   "source": [
    "# Turing Target Practice"
   ]
  },
  {
   "cell_type": "markdown",
   "id": "97121235",
   "metadata": {},
   "source": [
    "## Model"
   ]
  },
  {
   "cell_type": "code",
   "execution_count": 22,
   "id": "86b96c9e",
   "metadata": {},
   "outputs": [
    {
     "name": "stderr",
     "output_type": "stream",
     "text": [
      "\u001b[32m\u001b[1m  Activating\u001b[22m\u001b[39m project at `~/PhD/MicroCanonicalHMC.jl`\n"
     ]
    }
   ],
   "source": [
    "] activate \".\""
   ]
  },
  {
   "cell_type": "code",
   "execution_count": 23,
   "id": "baed58e3",
   "metadata": {},
   "outputs": [],
   "source": [
    "# The statistical inference frame-work we will use\n",
    "using Turing\n",
    "using Interpolations\n",
    "using ForwardDiff\n",
    "using LinearAlgebra\n",
    "#using StatsPlots\n",
    "using PyPlot\n",
    "\n",
    "using Revise\n",
    "using MicroCanonicalHMC"
   ]
  },
  {
   "cell_type": "code",
   "execution_count": 24,
   "id": "a7d6f81c",
   "metadata": {},
   "outputs": [],
   "source": [
    "fs8_zs = [0.38, 0.51, 0.61, 1.48, 0.44, 0.6, 0.73, 0.6, 0.86, 0.067, 1.4]\n",
    "fs8_data = [0.49749, 0.457523, 0.436148, 0.462, 0.413, 0.39, 0.437, 0.55, 0.4, 0.423, 0.482]\n",
    "fs8_cov = [0.00203355 0.000811829 0.000264615 0.0 0.0 0.0 0.0 0.0 0.0 0.0 0.0;\n",
    "           0.000811829 0.00142289 0.000662824 0.0 0.0 0.0 0.0 0.0 0.0 0.0 0.0; \n",
    "           0.000264615 0.000662824 0.00118576 0.0 0.0 0.0 0.0 0.0 0.0 0.0 0.0;\n",
    "           0.0 0.0 0.0 0.002025 0.0 0.0 0.0 0.0 0.0 0.0 0.0;\n",
    "           0.0 0.0 0.0 0.0 0.0064 0.00257 0.0 0.0 0.0 0.0 0.0;\n",
    "           0.0 0.0 0.0 0.0 0.00257 0.003969 0.00254 0.0 0.0 0.0 0.0;\n",
    "           0.0 0.0 0.0 0.0 0.0 0.00254 0.005184 0.0 0.0 0.0 0.0;\n",
    "           0.0 0.0 0.0 0.0 0.0 0.0 0.0 0.0144 0.0 0.0 0.0;\n",
    "           0.0 0.0 0.0 0.0 0.0 0.0 0.0 0.0 0.0121 0.0 0.0; \n",
    "           0.0 0.0 0.0 0.0 0.0 0.0 0.0 0.0 0.0 0.003025 0.0;\n",
    "           0.0 0.0 0.0 0.0 0.0 0.0 0.0 0.0 0.0 0.0 0.013456000000000001];"
   ]
  },
  {
   "cell_type": "code",
   "execution_count": 25,
   "id": "1359a630",
   "metadata": {
    "code_folding": []
   },
   "outputs": [
    {
     "data": {
      "text/plain": [
       "make_fs8 (generic function with 1 method)"
      ]
     },
     "execution_count": 25,
     "metadata": {},
     "output_type": "execute_result"
    }
   ],
   "source": [
    "function make_fs8(Ωm, σ8; Ωr=8.24*10^-5)\n",
    "    # ODE solution for growth factor\n",
    "    x_Dz = LinRange(0, log(1+1100), 300)\n",
    "    dx_Dz = x_Dz[2]-x_Dz[1]\n",
    "    z_Dz = @.(exp(x_Dz) - 1)\n",
    "    a_Dz = @.(1/(1+z_Dz))\n",
    "    aa = reverse(a_Dz)\n",
    "    e =  @.(sqrt.(abs(Ωm)*(1+z_Dz)^3+Ωr*(1+z_Dz)^4+(1-Ωm-Ωr)))\n",
    "    ee = reverse(e)\n",
    "\n",
    "    dd = zeros(typeof(Ωm), 300)\n",
    "    yy = zeros(typeof(Ωm), 300)\n",
    "    dd[1] = aa[1]\n",
    "    yy[1] = aa[1]^3*ee[end]\n",
    "\n",
    "    for i in 1:(300-1)\n",
    "        A0 = -1.5 * Ωm / (aa[i]*ee[i])\n",
    "        B0 = -1. / (aa[i]^2*ee[i])\n",
    "        A1 = -1.5 * Ωm / (aa[i+1]*ee[i+1])\n",
    "        B1 = -1. / (aa[i+1]^2*ee[i+1])\n",
    "        yy[i+1] = (1+0.5*dx_Dz^2*A0*B0)*yy[i] + 0.5*(A0+A1)*dx_Dz*dd[i]\n",
    "        dd[i+1] = 0.5*(B0+B1)*dx_Dz*yy[i] + (1+0.5*dx_Dz^2*A0*B0)*dd[i]\n",
    "    end\n",
    "\n",
    "    y = reverse(yy)\n",
    "    d = reverse(dd)\n",
    "\n",
    "    Dzi = LinearInterpolation(z_Dz, d./d[1], extrapolation_bc=Line())\n",
    "    fs8zi = LinearInterpolation(z_Dz, -σ8 .* y./ (a_Dz.^2 .*e.*d[1]),\n",
    "                                 extrapolation_bc=Line())\n",
    "    return fs8zi\n",
    "end"
   ]
  },
  {
   "cell_type": "code",
   "execution_count": 72,
   "id": "8005e277",
   "metadata": {},
   "outputs": [],
   "source": [
    "@model function model(data; cov = fs8_cov) \n",
    "    # Define priors\n",
    "    #KiDS priors\n",
    "    Ωm ~ Uniform(0.2, 0.25)#~ Normal(0.3, 0.1)\n",
    "    σ8 ~ Normal(0.8, 0.3)\n",
    "    fs8_itp = make_fs8(Ωm, σ8)\n",
    "    theory = fs8_itp(fs8_zs)\n",
    "    data ~ MvNormal(theory, cov)\n",
    "end;"
   ]
  },
  {
   "cell_type": "code",
   "execution_count": 73,
   "id": "1eebe796",
   "metadata": {},
   "outputs": [
    {
     "data": {
      "text/plain": [
       "DynamicPPL.Model{typeof(model), (:data, :cov), (:cov,), (), Tuple{Vector{Float64}, Matrix{Float64}}, Tuple{Matrix{Float64}}, DynamicPPL.DefaultContext}(model, (data = [0.49749, 0.457523, 0.436148, 0.462, 0.413, 0.39, 0.437, 0.55, 0.4, 0.423, 0.482], cov = [0.00203355 0.000811829 … 0.0 0.0; 0.000811829 0.00142289 … 0.0 0.0; … ; 0.0 0.0 … 0.003025 0.0; 0.0 0.0 … 0.0 0.013456000000000001]), (cov = [0.00203355 0.000811829 … 0.0 0.0; 0.000811829 0.00142289 … 0.0 0.0; … ; 0.0 0.0 … 0.003025 0.0; 0.0 0.0 … 0.0 0.013456000000000001],), DynamicPPL.DefaultContext())"
      ]
     },
     "execution_count": 73,
     "metadata": {},
     "output_type": "execute_result"
    }
   ],
   "source": [
    "stat_model = model(fs8_data)"
   ]
  },
  {
   "cell_type": "markdown",
   "id": "10dfa4cc",
   "metadata": {},
   "source": [
    "## Sampling"
   ]
  },
  {
   "cell_type": "code",
   "execution_count": 74,
   "id": "c8ed14a3",
   "metadata": {},
   "outputs": [],
   "source": [
    "target = TuringTarget(stat_model);"
   ]
  },
  {
   "cell_type": "code",
   "execution_count": 39,
   "id": "a79c2b35",
   "metadata": {},
   "outputs": [
    {
     "data": {
      "text/plain": [
       "MicroCanonicalHMC.Sampler(Settings(Random.MersenneTwister(0), 2.0, 0, 1000, 10, \"LF\"), Hyperparameters{Float64}(0.0, 0.0, 0.0, 0.1931833275037836), MicroCanonicalHMC.Leapfrog)"
      ]
     },
     "execution_count": 39,
     "metadata": {},
     "output_type": "execute_result"
    }
   ],
   "source": [
    "spl = MCHMC(0.0, 0.0, varE_wanted=2.0) #sqrt(target.d)*0.01"
   ]
  },
  {
   "cell_type": "code",
   "execution_count": 40,
   "id": "82938e27",
   "metadata": {
    "scrolled": false
   },
   "outputs": [
    {
     "name": "stderr",
     "output_type": "stream",
     "text": [
      "\u001b[36m\u001b[1m[ \u001b[22m\u001b[39m\u001b[36m\u001b[1mInfo: \u001b[22m\u001b[39mTuning eps ⏳\n"
     ]
    },
    {
     "name": "stdout",
     "output_type": "stream",
     "text": [
      "eps: 0.5 --> VarE: 3417.8197174178663\n",
      "eps: 0.25 --> VarE: 260.81240658340005\n",
      "eps: 0.125 --> VarE: 16.947170906618748\n",
      "eps: 0.0625 --> VarE: 4.967865175508085\n",
      "eps: 0.03125 --> VarE: 0.25663024891428193\n",
      "samples: 100--> ESS: 0.026443112250548052\n",
      "samples: 243--> ESS: 0.00482707529914586\n",
      "samples: 447--> ESS: 0.00435678210568962\n",
      "samples: 739--> ESS: 0.008077680568855519\n"
     ]
    },
    {
     "name": "stderr",
     "output_type": "stream",
     "text": [
      "\u001b[36m\u001b[1m[ \u001b[22m\u001b[39m\u001b[36m\u001b[1mInfo: \u001b[22m\u001b[39mFound eps: 0.03125 ✅\n",
      "\u001b[36m\u001b[1m[ \u001b[22m\u001b[39m\u001b[36m\u001b[1mInfo: \u001b[22m\u001b[39mTuning L ⏳\n"
     ]
    },
    {
     "name": "stdout",
     "output_type": "stream",
     "text": [
      "samples: 1157--> ESS: 0.007125842741817308\n",
      "samples: 1755--> ESS: 0.007087462944446244\n"
     ]
    },
    {
     "name": "stderr",
     "output_type": "stream",
     "text": [
      "\u001b[36m\u001b[1m[ \u001b[22m\u001b[39m\u001b[36m\u001b[1mInfo: \u001b[22m\u001b[39mFound L: 1.4142135623730951 ✅\n"
     ]
    },
    {
     "data": {
      "text/plain": [
       "10001-element Vector{Any}:\n",
       " [0.5257980801790757, 0.7604401235641819, 0.0, 10.46990186147694]\n",
       " [0.5257980801790757, 0.7604401235641819, -0.43378359976687086, 9.861420985946795]\n",
       " [0.5272472375218131, 0.7814637538179748, -0.9874497911719651, 10.04757265863434]\n",
       " [0.5291037586473628, 0.7733762997539357, 0.605858851098489, 10.468845270304804]\n",
       " [0.5298268387095586, 0.7444952659000731, 0.42604699496645715, 10.09726915919679]\n",
       " [0.5304155685033936, 0.7148196251295138, -0.9030765021891494, 9.789555968776623]\n",
       " [0.5321947750156858, 0.706161951965979, -0.18251698098729108, 10.254208889765104]\n",
       " [0.5335033583068803, 0.7278372235884437, 0.6997636150839686, 10.200311689998864]\n",
       " [0.5340755491001088, 0.7574571340405996, -0.7138403073294679, 9.462034837227407]\n",
       " [0.5351055877608927, 0.7829188685768409, -1.2852437586559304, 9.65028461101158]\n",
       " [0.5368024619674957, 0.7756318090465782, 0.6775326611048218, 10.17426922453847]\n",
       " [0.5375546319133508, 0.7475419074028808, 0.7427495082594326, 9.948552069775264]\n",
       " [0.5382045185301193, 0.7186653435852127, -1.033600918445016, 9.148650281431518]\n",
       " ⋮\n",
       " [0.3300033628430239, 0.7768093608746278, -0.986241123228103, 14.43127901912925]\n",
       " [0.3332256722521182, 0.7593517906172997, -0.6931402323759936, 14.768182616193588]\n",
       " [0.33684456459082934, 0.7708550521047626, 0.806806111388676, 15.121198520824635]\n",
       " [0.33868923788339816, 0.7983820094953515, 0.3440931988785696, 14.79838278065834]\n",
       " [0.340235113635383, 0.8270712713660267, -1.4588804479861182, 13.844721828356278]\n",
       " [0.34229667342992376, 0.8536022409121449, -1.6718300926117777, 14.136211022365964]\n",
       " [0.3459876880144511, 0.8434207460728916, 1.002336054456876, 14.847939471512884]\n",
       " [0.34749349096491966, 0.8145868085425707, 1.3574154083273626, 14.892736015843433]\n",
       " [0.3479950640314268, 0.7835955350510636, -0.6629114202434749, 14.145406827372419]\n",
       " [0.3482636784302039, 0.7524195162948817, -2.5277290689180916, 12.823778243710638]\n",
       " [0.35010037887405276, 0.7248395607174408, -2.377685602245574, 12.816899089902883]\n",
       " [0.35400601580056423, 0.7244720413223721, 1.2225855377833312, 14.181389680791106]"
      ]
     },
     "execution_count": 40,
     "metadata": {},
     "output_type": "execute_result"
    }
   ],
   "source": [
    "samples_mchmc = Sample(spl, target, 10000;\n",
    "                       monitor_energy=true, \n",
    "                       dialog=true)"
   ]
  },
  {
   "cell_type": "code",
   "execution_count": 41,
   "id": "9982a5de",
   "metadata": {},
   "outputs": [],
   "source": [
    "#plt.plot(samples_mchmc.E[8000:end])"
   ]
  },
  {
   "cell_type": "code",
   "execution_count": 42,
   "id": "f966c9fb",
   "metadata": {},
   "outputs": [],
   "source": [
    "#mean(samples_mchmc.E[8000:end])"
   ]
  },
  {
   "cell_type": "code",
   "execution_count": 43,
   "id": "999faaf8",
   "metadata": {},
   "outputs": [],
   "source": [
    "#std(samples_mchmc.E[8000:end])^2/target.d"
   ]
  },
  {
   "cell_type": "code",
   "execution_count": 44,
   "id": "385a8b1a",
   "metadata": {},
   "outputs": [],
   "source": [
    "Wms_mchmc = [sample[1] for sample in samples_mchmc]\n",
    "s8s_mchmc = [sample[2] for sample in samples_mchmc];"
   ]
  },
  {
   "cell_type": "code",
   "execution_count": 45,
   "id": "2a803eb8",
   "metadata": {},
   "outputs": [
    {
     "data": {
      "image/png": "[encoded data removed]",
      "text/plain": [
       "Figure(PyObject <Figure size 640x480 with 1 Axes>)"
      ]
     },
     "metadata": {},
     "output_type": "display_data"
    }
   ],
   "source": [
    "plt.hist2d(Wms_mchmc, s8s_mchmc, bins=100, range=[[0.1, 0.4],[0.6, 1.2]]);\n",
    "plt.xlabel(\"Wm\")\n",
    "plt.ylabel(\"s8\")\n",
    "plt.title(\"MCHMC - RSD model - eps = 0.001 --> var[E]~0.00003\");"
   ]
  },
  {
   "cell_type": "markdown",
   "id": "0a03dd58",
   "metadata": {},
   "source": [
    "## AbstractMCMC"
   ]
  },
  {
   "cell_type": "code",
   "execution_count": 46,
   "id": "d569b9dc",
   "metadata": {},
   "outputs": [
    {
     "name": "stderr",
     "output_type": "stream",
     "text": [
      "\u001b[36m\u001b[1m[ \u001b[22m\u001b[39m\u001b[36m\u001b[1mInfo: \u001b[22m\u001b[39mTuning eps ⏳\n"
     ]
    },
    {
     "name": "stdout",
     "output_type": "stream",
     "text": [
      "eps: 0.5 --> VarE: 2148.6598493321535\n",
      "eps: 0.25 --> VarE: 102.86620545452067\n",
      "eps: 0.125 --> VarE: 26.237719793950948\n",
      "eps: 0.0625 --> VarE: 2.767032500479355\n",
      "eps: 0.03125 --> VarE: 0.8362951119968115\n",
      "samples: 100--> ESS: 0.017376712082733642\n",
      "samples: 243--> ESS: 0.03304631498367915\n",
      "samples: 447--> ESS: 0.02999783596075388\n"
     ]
    },
    {
     "name": "stderr",
     "output_type": "stream",
     "text": [
      "\u001b[36m\u001b[1m[ \u001b[22m\u001b[39m\u001b[36m\u001b[1mInfo: \u001b[22m\u001b[39mFound eps: 0.03125 ✅\n",
      "\u001b[36m\u001b[1m[ \u001b[22m\u001b[39m\u001b[36m\u001b[1mInfo: \u001b[22m\u001b[39mTuning L ⏳\n",
      "\u001b[36m\u001b[1m[ \u001b[22m\u001b[39m\u001b[36m\u001b[1mInfo: \u001b[22m\u001b[39mFound L: 1.4142135623730951 ✅\n",
      "\u001b[32mSampling: 100%|█████████████████████████████████████████| Time: 0:00:00\u001b[39m\n"
     ]
    },
    {
     "data": {
      "text/plain": [
       "Chains MCMC chain (10000×4×1 Array{Float64, 3}):\n",
       "\n",
       "Iterations        = 1:1:10000\n",
       "Number of chains  = 1\n",
       "Samples per chain = 10000\n",
       "Wall duration     = 1.66 seconds\n",
       "Compute duration  = 1.66 seconds\n",
       "parameters        = Ωm, σ8\n",
       "internals         = E, logp\n",
       "\n",
       "Summary Statistics\n",
       " \u001b[1m parameters \u001b[0m \u001b[1m    mean \u001b[0m \u001b[1m     std \u001b[0m \u001b[1m naive_se \u001b[0m \u001b[1m    mcse \u001b[0m \u001b[1m      ess \u001b[0m \u001b[1m    rhat \u001b[0m \u001b[1m e\u001b[0m ⋯\n",
       " \u001b[90m     Symbol \u001b[0m \u001b[90m Float64 \u001b[0m \u001b[90m Float64 \u001b[0m \u001b[90m  Float64 \u001b[0m \u001b[90m Float64 \u001b[0m \u001b[90m  Float64 \u001b[0m \u001b[90m Float64 \u001b[0m \u001b[90m  \u001b[0m ⋯\n",
       "\n",
       "          Ωm    0.2271    0.0621     0.0006    0.0054    74.6769    1.0535     ⋯\n",
       "          σ8    0.8725    0.0610     0.0006    0.0041   135.6515    1.0369     ⋯\n",
       "\u001b[36m                                                                1 column omitted\u001b[0m\n",
       "\n",
       "Quantiles\n",
       " \u001b[1m parameters \u001b[0m \u001b[1m    2.5% \u001b[0m \u001b[1m   25.0% \u001b[0m \u001b[1m   50.0% \u001b[0m \u001b[1m   75.0% \u001b[0m \u001b[1m   97.5% \u001b[0m\n",
       " \u001b[90m     Symbol \u001b[0m \u001b[90m Float64 \u001b[0m \u001b[90m Float64 \u001b[0m \u001b[90m Float64 \u001b[0m \u001b[90m Float64 \u001b[0m \u001b[90m Float64 \u001b[0m\n",
       "\n",
       "          Ωm    0.1317    0.1814    0.2174    0.2648    0.3590\n",
       "          σ8    0.7594    0.8301    0.8702    0.9130    0.9959\n"
      ]
     },
     "execution_count": 46,
     "metadata": {},
     "output_type": "execute_result"
    }
   ],
   "source": [
    "samples = sample(\n",
    "    stat_model, MCHMC(varE_wanted=2.0), 10000;\n",
    "    monitor_energy=true, \n",
    "    dialog=true)"
   ]
  },
  {
   "cell_type": "code",
   "execution_count": 47,
   "id": "eea6e813",
   "metadata": {},
   "outputs": [
    {
     "name": "stderr",
     "output_type": "stream",
     "text": [
      "\u001b[32mSampling: 100%|█████████████████████████████████████████| Time: 0:00:00\u001b[39m\n"
     ]
    },
    {
     "data": {
      "text/plain": [
       "Chains MCMC chain (10000×4×1 Array{Float64, 3}):\n",
       "\n",
       "Iterations        = 1:1:10000\n",
       "Number of chains  = 1\n",
       "Samples per chain = 10000\n",
       "Wall duration     = 1.15 seconds\n",
       "Compute duration  = 1.15 seconds\n",
       "parameters        = Ωm, σ8\n",
       "internals         = E, logp\n",
       "\n",
       "Summary Statistics\n",
       " \u001b[1m parameters \u001b[0m \u001b[1m    mean \u001b[0m \u001b[1m     std \u001b[0m \u001b[1m naive_se \u001b[0m \u001b[1m    mcse \u001b[0m \u001b[1m      ess \u001b[0m \u001b[1m    rhat \u001b[0m \u001b[1m e\u001b[0m ⋯\n",
       " \u001b[90m     Symbol \u001b[0m \u001b[90m Float64 \u001b[0m \u001b[90m Float64 \u001b[0m \u001b[90m  Float64 \u001b[0m \u001b[90m Float64 \u001b[0m \u001b[90m  Float64 \u001b[0m \u001b[90m Float64 \u001b[0m \u001b[90m  \u001b[0m ⋯\n",
       "\n",
       "          Ωm    0.2381    0.0653     0.0007    0.0057    86.6784    1.0015     ⋯\n",
       "          σ8    0.8648    0.0606     0.0006    0.0040   175.7068    0.9999     ⋯\n",
       "\u001b[36m                                                                1 column omitted\u001b[0m\n",
       "\n",
       "Quantiles\n",
       " \u001b[1m parameters \u001b[0m \u001b[1m    2.5% \u001b[0m \u001b[1m   25.0% \u001b[0m \u001b[1m   50.0% \u001b[0m \u001b[1m   75.0% \u001b[0m \u001b[1m   97.5% \u001b[0m\n",
       " \u001b[90m     Symbol \u001b[0m \u001b[90m Float64 \u001b[0m \u001b[90m Float64 \u001b[0m \u001b[90m Float64 \u001b[0m \u001b[90m Float64 \u001b[0m \u001b[90m Float64 \u001b[0m\n",
       "\n",
       "          Ωm    0.1396    0.1897    0.2304    0.2771    0.3896\n",
       "          σ8    0.7548    0.8217    0.8621    0.9047    0.9899\n"
      ]
     },
     "execution_count": 47,
     "metadata": {},
     "output_type": "execute_result"
    }
   ],
   "source": [
    "new_samples = sample(stat_model, MCHMC(varE_wanted=2.0), 10000; \n",
    "                     monitor_energy=true, \n",
    "                     progress=true, resume_from=samples)"
   ]
  },
  {
   "cell_type": "code",
   "execution_count": 48,
   "id": "8b47bac3",
   "metadata": {},
   "outputs": [],
   "source": [
    "#StatsPlots.plot(new_samples)"
   ]
  },
  {
   "cell_type": "markdown",
   "id": "4aadd3b5",
   "metadata": {},
   "source": [
    "## NUTS"
   ]
  },
  {
   "cell_type": "code",
   "execution_count": 18,
   "id": "dcbe40a3",
   "metadata": {},
   "outputs": [
    {
     "name": "stderr",
     "output_type": "stream",
     "text": [
      "\u001b[36m\u001b[1m┌ \u001b[22m\u001b[39m\u001b[36m\u001b[1mInfo: \u001b[22m\u001b[39mFound initial step size\n",
      "\u001b[36m\u001b[1m└ \u001b[22m\u001b[39m  ϵ = 0.05\n",
      "\u001b[32mSampling: 100%|█████████████████████████████████████████| Time: 0:00:02\u001b[39m\n"
     ]
    },
    {
     "data": {
      "text/plain": [
       "Chains MCMC chain (10000×14×1 Array{Float64, 3}):\n",
       "\n",
       "Iterations        = 501:1:10500\n",
       "Number of chains  = 1\n",
       "Samples per chain = 10000\n",
       "Wall duration     = 9.63 seconds\n",
       "Compute duration  = 9.63 seconds\n",
       "parameters        = Ωm, σ8\n",
       "internals         = lp, n_steps, is_accept, acceptance_rate, log_density, hamiltonian_energy, hamiltonian_energy_error, max_hamiltonian_energy_error, tree_depth, numerical_error, step_size, nom_step_size\n",
       "\n",
       "Summary Statistics\n",
       " \u001b[1m parameters \u001b[0m \u001b[1m    mean \u001b[0m \u001b[1m     std \u001b[0m \u001b[1m naive_se \u001b[0m \u001b[1m    mcse \u001b[0m \u001b[1m       ess \u001b[0m \u001b[1m    rhat \u001b[0m \u001b[1m \u001b[0m ⋯\n",
       " \u001b[90m     Symbol \u001b[0m \u001b[90m Float64 \u001b[0m \u001b[90m Float64 \u001b[0m \u001b[90m  Float64 \u001b[0m \u001b[90m Float64 \u001b[0m \u001b[90m   Float64 \u001b[0m \u001b[90m Float64 \u001b[0m \u001b[90m \u001b[0m ⋯\n",
       "\n",
       "          Ωm    0.2527    0.0603     0.0006    0.0013   2562.7177    1.0006    ⋯\n",
       "          σ8    0.8532    0.0572     0.0006    0.0013   2006.9796    1.0005    ⋯\n",
       "\u001b[36m                                                                1 column omitted\u001b[0m\n",
       "\n",
       "Quantiles\n",
       " \u001b[1m parameters \u001b[0m \u001b[1m    2.5% \u001b[0m \u001b[1m   25.0% \u001b[0m \u001b[1m   50.0% \u001b[0m \u001b[1m   75.0% \u001b[0m \u001b[1m   97.5% \u001b[0m\n",
       " \u001b[90m     Symbol \u001b[0m \u001b[90m Float64 \u001b[0m \u001b[90m Float64 \u001b[0m \u001b[90m Float64 \u001b[0m \u001b[90m Float64 \u001b[0m \u001b[90m Float64 \u001b[0m\n",
       "\n",
       "          Ωm    0.1457    0.2107    0.2482    0.2908    0.3815\n",
       "          σ8    0.7527    0.8143    0.8493    0.8867    0.9821\n"
      ]
     },
     "execution_count": 18,
     "metadata": {},
     "output_type": "execute_result"
    }
   ],
   "source": [
    "samples_hmc = sample(stat_model, NUTS(500, 0.65),\n",
    "                     10000, progress=true; save_state=true)"
   ]
  },
  {
   "cell_type": "code",
   "execution_count": 19,
   "id": "623ba990",
   "metadata": {},
   "outputs": [
    {
     "data": {
      "text/plain": [
       "3-dimensional AxisArray{Float64,3,...} with axes:\n",
       "    :iter, 501:1:10500\n",
       "    :var, [:Ωm, :σ8, :lp, :n_steps, :is_accept, :acceptance_rate, :log_density, :hamiltonian_energy, :hamiltonian_energy_error, :max_hamiltonian_energy_error, :tree_depth, :numerical_error, :step_size, :nom_step_size]\n",
       "    :chain, 1:1\n",
       "And data, a 10000×14×1 Array{Float64, 3}:\n",
       "[:, :, 1] =\n",
       " 0.285347  0.760141  16.9836  7.0  1.0  …  3.0  0.0  0.623579  0.623579\n",
       " 0.282042  0.87874   17.7146  3.0  1.0     2.0  0.0  0.623579  0.623579\n",
       " 0.260376  0.852164  18.8225  3.0  1.0     1.0  0.0  0.623579  0.623579\n",
       " 0.258577  0.810677  18.5194  7.0  1.0     2.0  0.0  0.623579  0.623579\n",
       " 0.187008  0.884169  18.3451  7.0  1.0     3.0  0.0  0.623579  0.623579\n",
       " 0.280042  0.833248  18.7198  7.0  1.0  …  2.0  0.0  0.623579  0.623579\n",
       " 0.24345   0.895155  18.2319  7.0  1.0     3.0  0.0  0.623579  0.623579\n",
       " 0.218612  0.834573  18.3982  7.0  1.0     3.0  0.0  0.623579  0.623579\n",
       " 0.374874  0.790116  16.9625  7.0  1.0     2.0  0.0  0.623579  0.623579\n",
       " 0.333316  0.797305  17.9161  3.0  1.0     2.0  0.0  0.623579  0.623579\n",
       " 0.301683  0.779869  17.9032  3.0  1.0  …  2.0  0.0  0.623579  0.623579\n",
       " 0.229265  0.878951  18.795   7.0  1.0     2.0  0.0  0.623579  0.623579\n",
       " 0.229265  0.878951  18.795   1.0  1.0     1.0  0.0  0.623579  0.623579\n",
       " ⋮                                      ⋱  ⋮                   \n",
       " 0.280513  0.815429  18.6525  7.0  1.0     2.0  0.0  0.623579  0.623579\n",
       " 0.304727  0.851191  17.9393  3.0  1.0     2.0  0.0  0.623579  0.623579\n",
       " 0.295185  0.756782  16.9404  3.0  1.0  …  2.0  0.0  0.623579  0.623579\n",
       " 0.182636  0.920132  18.2284  7.0  1.0     3.0  0.0  0.623579  0.623579\n",
       " 0.233409  0.903629  18.1908  3.0  1.0     2.0  0.0  0.623579  0.623579\n",
       " 0.235502  0.902882  18.1675  3.0  1.0     2.0  0.0  0.623579  0.623579\n",
       " 0.216338  0.867026  18.8147  3.0  1.0     2.0  0.0  0.623579  0.623579\n",
       " 0.20645   0.896454  18.637   7.0  1.0  …  2.0  0.0  0.623579  0.623579\n",
       " 0.228452  0.864207  18.8946  7.0  1.0     2.0  0.0  0.623579  0.623579\n",
       " 0.246731  0.834743  18.8374  7.0  1.0     3.0  0.0  0.623579  0.623579\n",
       " 0.277741  0.844467  18.6722  7.0  1.0     3.0  0.0  0.623579  0.623579\n",
       " 0.256714  0.871218  18.5917  7.0  1.0     2.0  0.0  0.623579  0.623579"
      ]
     },
     "execution_count": 19,
     "metadata": {},
     "output_type": "execute_result"
    }
   ],
   "source": [
    "samples_hmc.value"
   ]
  },
  {
   "cell_type": "code",
   "execution_count": 20,
   "id": "fa9db828",
   "metadata": {},
   "outputs": [],
   "source": [
    "Wms_hmc = vec(samples_hmc[\"Ωm\"])\n",
    "s8s_hmc = vec(samples_hmc[\"σ8\"]);"
   ]
  },
  {
   "cell_type": "code",
   "execution_count": 21,
   "id": "3d063a52",
   "metadata": {},
   "outputs": [
    {
     "data": {
      "image/png": "[encoded data removed]",
      "text/plain": [
       "Figure(PyObject <Figure size 640x480 with 1 Axes>)"
      ]
     },
     "metadata": {},
     "output_type": "display_data"
    }
   ],
   "source": [
    "plt.hist2d(Wms_hmc, s8s_hmc, bins=100, range=[[0.1, 0.4],[0.6, 1.2]]);\n",
    "plt.xlabel(\"Wm\")\n",
    "plt.ylabel(\"s8\")\n",
    "plt.title(\"HMC - RSD model\");"
   ]
  },
  {
   "cell_type": "code",
   "execution_count": null,
   "id": "0bdd32b7",
   "metadata": {},
   "outputs": [],
   "source": []
  }
 ],
 "metadata": {
  "kernelspec": {
   "display_name": "Julia 1.9.0-beta3",
   "language": "julia",
   "name": "julia-1.9"
  },
  "language_info": {
   "file_extension": ".jl",
   "mimetype": "application/julia",
   "name": "julia",
   "version": "1.9.0"
  }
 },
 "nbformat": 4,
 "nbformat_minor": 5
}
