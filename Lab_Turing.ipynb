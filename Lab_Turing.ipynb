{
 "cells": [
  {
   "cell_type": "markdown",
   "id": "91129cb1",
   "metadata": {},
   "source": [
    "# Turing Target Practice"
   ]
  },
  {
   "cell_type": "markdown",
   "id": "97121235",
   "metadata": {},
   "source": [
    "## Model"
   ]
  },
  {
   "cell_type": "code",
   "execution_count": 1,
   "id": "86b96c9e",
   "metadata": {},
   "outputs": [
    {
     "name": "stderr",
     "output_type": "stream",
     "text": [
      "\u001b[32m\u001b[1m  Activating\u001b[22m\u001b[39m project at `~/PhD/MicroCanonicalHMC.jl`\n"
     ]
    }
   ],
   "source": [
    "] activate \".\""
   ]
  },
  {
   "cell_type": "code",
   "execution_count": 2,
   "id": "baed58e3",
   "metadata": {},
   "outputs": [
    {
     "name": "stderr",
     "output_type": "stream",
     "text": [
      "\u001b[36m\u001b[1m[ \u001b[22m\u001b[39m\u001b[36m\u001b[1mInfo: \u001b[22m\u001b[39mPrecompiling MicroCanonicalHMC [234d2aa0-2291-45f7-9047-6fa6f316b0a8]\n"
     ]
    }
   ],
   "source": [
    "# The statistical inference frame-work we will use\n",
    "using Turing\n",
    "using Interpolations\n",
    "using ForwardDiff\n",
    "using LinearAlgebra\n",
    "#using StatsPlots\n",
    "using PyPlot\n",
    "using Distributed\n",
    "\n",
    "using Revise\n",
    "using MicroCanonicalHMC"
   ]
  },
  {
   "cell_type": "code",
   "execution_count": 3,
   "id": "a7d6f81c",
   "metadata": {},
   "outputs": [],
   "source": [
    "fs8_zs = [0.38, 0.51, 0.61, 1.48, 0.44, 0.6, 0.73, 0.6, 0.86, 0.067, 1.4]\n",
    "fs8_data = [0.49749, 0.457523, 0.436148, 0.462, 0.413, 0.39, 0.437, 0.55, 0.4, 0.423, 0.482]\n",
    "fs8_cov = [0.00203355 0.000811829 0.000264615 0.0 0.0 0.0 0.0 0.0 0.0 0.0 0.0;\n",
    "           0.000811829 0.00142289 0.000662824 0.0 0.0 0.0 0.0 0.0 0.0 0.0 0.0; \n",
    "           0.000264615 0.000662824 0.00118576 0.0 0.0 0.0 0.0 0.0 0.0 0.0 0.0;\n",
    "           0.0 0.0 0.0 0.002025 0.0 0.0 0.0 0.0 0.0 0.0 0.0;\n",
    "           0.0 0.0 0.0 0.0 0.0064 0.00257 0.0 0.0 0.0 0.0 0.0;\n",
    "           0.0 0.0 0.0 0.0 0.00257 0.003969 0.00254 0.0 0.0 0.0 0.0;\n",
    "           0.0 0.0 0.0 0.0 0.0 0.00254 0.005184 0.0 0.0 0.0 0.0;\n",
    "           0.0 0.0 0.0 0.0 0.0 0.0 0.0 0.0144 0.0 0.0 0.0;\n",
    "           0.0 0.0 0.0 0.0 0.0 0.0 0.0 0.0 0.0121 0.0 0.0; \n",
    "           0.0 0.0 0.0 0.0 0.0 0.0 0.0 0.0 0.0 0.003025 0.0;\n",
    "           0.0 0.0 0.0 0.0 0.0 0.0 0.0 0.0 0.0 0.0 0.013456000000000001];"
   ]
  },
  {
   "cell_type": "code",
   "execution_count": 4,
   "id": "1359a630",
   "metadata": {
    "code_folding": []
   },
   "outputs": [
    {
     "data": {
      "text/plain": [
       "make_fs8 (generic function with 1 method)"
      ]
     },
     "execution_count": 4,
     "metadata": {},
     "output_type": "execute_result"
    }
   ],
   "source": [
    "function make_fs8(Ωm, σ8; Ωr=8.24*10^-5)\n",
    "    # ODE solution for growth factor\n",
    "    x_Dz = LinRange(0, log(1+1100), 300)\n",
    "    dx_Dz = x_Dz[2]-x_Dz[1]\n",
    "    z_Dz = @.(exp(x_Dz) - 1)\n",
    "    a_Dz = @.(1/(1+z_Dz))\n",
    "    aa = reverse(a_Dz)\n",
    "    e =  @.(sqrt.(abs(Ωm)*(1+z_Dz)^3+Ωr*(1+z_Dz)^4+(1-Ωm-Ωr)))\n",
    "    ee = reverse(e)\n",
    "\n",
    "    dd = zeros(typeof(Ωm), 300)\n",
    "    yy = zeros(typeof(Ωm), 300)\n",
    "    dd[1] = aa[1]\n",
    "    yy[1] = aa[1]^3*ee[end]\n",
    "\n",
    "    for i in 1:(300-1)\n",
    "        A0 = -1.5 * Ωm / (aa[i]*ee[i])\n",
    "        B0 = -1. / (aa[i]^2*ee[i])\n",
    "        A1 = -1.5 * Ωm / (aa[i+1]*ee[i+1])\n",
    "        B1 = -1. / (aa[i+1]^2*ee[i+1])\n",
    "        yy[i+1] = (1+0.5*dx_Dz^2*A0*B0)*yy[i] + 0.5*(A0+A1)*dx_Dz*dd[i]\n",
    "        dd[i+1] = 0.5*(B0+B1)*dx_Dz*yy[i] + (1+0.5*dx_Dz^2*A0*B0)*dd[i]\n",
    "    end\n",
    "\n",
    "    y = reverse(yy)\n",
    "    d = reverse(dd)\n",
    "\n",
    "    Dzi = LinearInterpolation(z_Dz, d./d[1], extrapolation_bc=Line())\n",
    "    fs8zi = LinearInterpolation(z_Dz, -σ8 .* y./ (a_Dz.^2 .*e.*d[1]),\n",
    "                                 extrapolation_bc=Line())\n",
    "    return fs8zi\n",
    "end"
   ]
  },
  {
   "cell_type": "code",
   "execution_count": 5,
   "id": "8005e277",
   "metadata": {},
   "outputs": [],
   "source": [
    "@model function model(data; cov = fs8_cov) \n",
    "    # Define priors\n",
    "    #KiDS priors\n",
    "    Ωm ~ Uniform(0.2, 0.25)#~ Normal(0.3, 0.1)\n",
    "    σ8 ~ Normal(0.8, 0.3)\n",
    "    fs8_itp = make_fs8(Ωm, σ8)\n",
    "    theory = fs8_itp(fs8_zs)\n",
    "    data ~ MvNormal(theory, cov)\n",
    "end;"
   ]
  },
  {
   "cell_type": "code",
   "execution_count": 6,
   "id": "1eebe796",
   "metadata": {},
   "outputs": [
    {
     "data": {
      "text/plain": [
       "DynamicPPL.Model{typeof(model), (:data, :cov), (:cov,), (), Tuple{Vector{Float64}, Matrix{Float64}}, Tuple{Matrix{Float64}}, DynamicPPL.DefaultContext}(model, (data = [0.49749, 0.457523, 0.436148, 0.462, 0.413, 0.39, 0.437, 0.55, 0.4, 0.423, 0.482], cov = [0.00203355 0.000811829 … 0.0 0.0; 0.000811829 0.00142289 … 0.0 0.0; … ; 0.0 0.0 … 0.003025 0.0; 0.0 0.0 … 0.0 0.013456000000000001]), (cov = [0.00203355 0.000811829 … 0.0 0.0; 0.000811829 0.00142289 … 0.0 0.0; … ; 0.0 0.0 … 0.003025 0.0; 0.0 0.0 … 0.0 0.013456000000000001],), DynamicPPL.DefaultContext())"
      ]
     },
     "execution_count": 6,
     "metadata": {},
     "output_type": "execute_result"
    }
   ],
   "source": [
    "stat_model = model(fs8_data)"
   ]
  },
  {
   "cell_type": "markdown",
   "id": "10dfa4cc",
   "metadata": {
    "heading_collapsed": true
   },
   "source": [
    "## Sampling"
   ]
  },
  {
   "cell_type": "code",
   "execution_count": 7,
   "id": "c8ed14a3",
   "metadata": {
    "hidden": true
   },
   "outputs": [],
   "source": [
    "target = TuringTarget(stat_model);"
   ]
  },
  {
   "cell_type": "code",
   "execution_count": 8,
   "id": "a79c2b35",
   "metadata": {
    "hidden": true
   },
   "outputs": [
    {
     "data": {
      "text/plain": [
       "MicroCanonicalHMC.Sampler(Settings(Random.MersenneTwister(0), 2.0, 0, 1000, 10, \"LF\"), Hyperparameters{Float64}(0.0, 0.0, 0.0, 0.1931833275037836), MicroCanonicalHMC.Leapfrog)"
      ]
     },
     "execution_count": 8,
     "metadata": {},
     "output_type": "execute_result"
    }
   ],
   "source": [
    "spl = MCHMC(0.0, 0.0, varE_wanted=2.0) #sqrt(target.d)*0.01"
   ]
  },
  {
   "cell_type": "code",
   "execution_count": 9,
   "id": "bea9c39a",
   "metadata": {
    "hidden": true
   },
   "outputs": [
    {
     "data": {
      "text/plain": [
       "Hyperparameters{Float64}(0.0, 0.0, 0.0, 0.1931833275037836)"
      ]
     },
     "execution_count": 9,
     "metadata": {},
     "output_type": "execute_result"
    }
   ],
   "source": [
    "spl.hyperparameters"
   ]
  },
  {
   "cell_type": "code",
   "execution_count": 10,
   "id": "82938e27",
   "metadata": {
    "hidden": true,
    "scrolled": false
   },
   "outputs": [
    {
     "name": "stderr",
     "output_type": "stream",
     "text": [
      "\u001b[36m\u001b[1m[ \u001b[22m\u001b[39m\u001b[36m\u001b[1mInfo: \u001b[22m\u001b[39mTuning eps ⏳\n"
     ]
    },
    {
     "name": "stdout",
     "output_type": "stream",
     "text": [
      "eps: 0.5 --> VarE: 718.9169918975681\n",
      "eps: 0.25 --> VarE: 13.652700992121188\n",
      "eps: 0.125 --> VarE: 26.07439057604714\n",
      "eps: 0.0625 --> VarE: 9.692175753169487\n",
      "eps: 0.03125 --> VarE: 1.788077245258914\n"
     ]
    },
    {
     "name": "stderr",
     "output_type": "stream",
     "text": [
      "\u001b[36m\u001b[1m[ \u001b[22m\u001b[39m\u001b[36m\u001b[1mInfo: \u001b[22m\u001b[39mFound eps: 0.03125 ✅\n",
      "\u001b[36m\u001b[1m[ \u001b[22m\u001b[39m\u001b[36m\u001b[1mInfo: \u001b[22m\u001b[39mTuning L ⏳\n"
     ]
    },
    {
     "name": "stdout",
     "output_type": "stream",
     "text": [
      "samples: 100--> ESS: 0.02420174494400248\n",
      "samples: 243--> ESS: 0.028707048281663587\n",
      "samples: 447--> ESS: 0.024904588724533033\n"
     ]
    },
    {
     "name": "stderr",
     "output_type": "stream",
     "text": [
      "\u001b[36m\u001b[1m[ \u001b[22m\u001b[39m\u001b[36m\u001b[1mInfo: \u001b[22m\u001b[39mFound L: 1.4142135623730951 ✅\n"
     ]
    },
    {
     "data": {
      "text/plain": [
       "10001-element Vector{Any}:\n",
       " [0.23396705785591054, 1.0037842782005415, 0.0, 8.633381135133723]\n",
       " [0.23396705785591054, 1.0037842782005415, 0.14828385792420384, 10.246532408674677]\n",
       " [0.23425318413579527, 0.9870561277647479, 4.285348575475202, 12.786498343500812]\n",
       " [0.23426556375394633, 0.9558272149313087, 6.902911409097607, 14.627803438743678]\n",
       " [0.23425059744262436, 0.9246080370433409, 4.813141868490295, 15.766258245217923]\n",
       " [0.23421761473189573, 0.8935077707036856, 2.713039812556646, 16.208001543306064]\n",
       " [0.23420945594023898, 0.8622668994147273, 0.6318939820561784, 15.954037317174741]\n",
       " [0.2341657797059819, 0.831279106442439, -1.4548103993522687, 15.001214079140379]\n",
       " [0.23419220098936072, 0.8001247479042133, -3.487184855832357, 13.370500097006332]\n",
       " [0.2341388094647186, 0.7692668092627719, -3.7464950244834334, 11.977765777252229]\n",
       " [0.23387385045683817, 0.7496904913551496, -0.19205536812694568, 13.987783230639337]\n",
       " [0.2337715871289948, 0.7795105251880113, 5.159417568941523, 15.408998352379548]\n",
       " [0.2337883804105167, 0.8107229266390373, 3.5604158329393893, 16.131142137584362]\n",
       " ⋮\n",
       " [0.2051066146289335, 0.8460833497494391, -0.9270997905927221, 14.788588078399782]\n",
       " [0.20496721884465904, 0.8406658021879169, 0.00601097921702376, 15.182703481970236]\n",
       " [0.2048590946708113, 0.8601825985476621, 0.7854499570946718, 15.323329304788606]\n",
       " [0.20476314998488301, 0.8823106078183044, -0.05000782052607278, 15.013061645141557]\n",
       " [0.2047173190038509, 0.9116785229597311, -1.4977415128617668, 14.088758836400373]\n",
       " [0.20468184092401137, 0.9417971786183992, -3.3964943854139378, 12.491642364372586]\n",
       " [0.2046926954361714, 0.9729425311706102, -4.010097935051165, 10.858388534053393]\n",
       " [0.20478102054504813, 0.9964430460758346, -1.045394238913687, 12.781980476963096]\n",
       " [0.2048415450599803, 0.9684641757701098, 4.829428993020076, 14.2875151661306]\n",
       " [0.20485741424695442, 0.9374250005622211, 3.8363564323508896, 15.137049831475137]\n",
       " [0.204876097320321, 0.9064657443142016, 1.8899538991727667, 15.335433646626502]\n",
       " [0.20489657269450626, 0.8755627688873593, -0.015441025768238248, 14.906952751769625]"
      ]
     },
     "execution_count": 10,
     "metadata": {},
     "output_type": "execute_result"
    }
   ],
   "source": [
    "samples_mchmc = Sample(spl, target, 10000;\n",
    "                       monitor_energy=true, \n",
    "                       dialog=true)"
   ]
  },
  {
   "cell_type": "code",
   "execution_count": 11,
   "id": "9982a5de",
   "metadata": {
    "hidden": true
   },
   "outputs": [],
   "source": [
    "#plt.plot(samples_mchmc.E[8000:end])"
   ]
  },
  {
   "cell_type": "code",
   "execution_count": 12,
   "id": "f966c9fb",
   "metadata": {
    "hidden": true
   },
   "outputs": [],
   "source": [
    "#mean(samples_mchmc.E[8000:end])"
   ]
  },
  {
   "cell_type": "code",
   "execution_count": 13,
   "id": "999faaf8",
   "metadata": {
    "hidden": true
   },
   "outputs": [],
   "source": [
    "#std(samples_mchmc.E[8000:end])^2/target.d"
   ]
  },
  {
   "cell_type": "code",
   "execution_count": 14,
   "id": "385a8b1a",
   "metadata": {
    "hidden": true
   },
   "outputs": [],
   "source": [
    "Wms_mchmc = [sample[1] for sample in samples_mchmc]\n",
    "s8s_mchmc = [sample[2] for sample in samples_mchmc];"
   ]
  },
  {
   "cell_type": "code",
   "execution_count": 15,
   "id": "2a803eb8",
   "metadata": {
    "hidden": true
   },
   "outputs": [
    {
     "data": {
      "image/png": "[encoded data removed]",
      "text/plain": [
       "Figure(PyObject <Figure size 640x480 with 1 Axes>)"
      ]
     },
     "metadata": {},
     "output_type": "display_data"
    }
   ],
   "source": [
    "plt.hist2d(Wms_mchmc, s8s_mchmc, bins=100, range=[[0.1, 0.4],[0.6, 1.2]]);\n",
    "plt.xlabel(\"Wm\")\n",
    "plt.ylabel(\"s8\")\n",
    "plt.title(\"MCHMC - RSD model - eps = 0.001 --> var[E]~0.00003\");"
   ]
  },
  {
   "cell_type": "markdown",
   "id": "0a03dd58",
   "metadata": {},
   "source": [
    "## AbstractMCMC"
   ]
  },
  {
   "cell_type": "code",
   "execution_count": 16,
   "id": "d569b9dc",
   "metadata": {},
   "outputs": [
    {
     "name": "stderr",
     "output_type": "stream",
     "text": [
      "\u001b[36m\u001b[1m[ \u001b[22m\u001b[39m\u001b[36m\u001b[1mInfo: \u001b[22m\u001b[39mTuning eps ⏳\n"
     ]
    },
    {
     "name": "stdout",
     "output_type": "stream",
     "text": [
      "eps: 0.5 --> VarE: 607.2082449627586\n",
      "eps: 0.25 --> VarE: 4.15153311166842\n",
      "eps: 0.125 --> VarE: 21.90433188616749\n",
      "eps: 0.0625 --> VarE: 2.7779522536302115\n",
      "eps: 0.03125 --> VarE: 0.2919618018054116\n",
      "samples: 100--> ESS: 0.027667328169389854\n",
      "samples: 243--> ESS: 0.01056060257517546\n",
      "samples: 447--> ESS: 0.005090537143409467\n",
      "samples: 739--> ESS: 0.013771485578164279\n"
     ]
    },
    {
     "name": "stderr",
     "output_type": "stream",
     "text": [
      "\u001b[36m\u001b[1m[ \u001b[22m\u001b[39m\u001b[36m\u001b[1mInfo: \u001b[22m\u001b[39mFound eps: 0.03125 ✅\n",
      "\u001b[36m\u001b[1m[ \u001b[22m\u001b[39m\u001b[36m\u001b[1mInfo: \u001b[22m\u001b[39mTuning L ⏳\n",
      "\u001b[36m\u001b[1m[ \u001b[22m\u001b[39m\u001b[36m\u001b[1mInfo: \u001b[22m\u001b[39mFound L: 1.4142135623730951 ✅\n",
      "\u001b[32mChain 1: 100%|██████████████████████████████████████████| Time: 0:00:01\u001b[39m\n"
     ]
    },
    {
     "data": {
      "text/plain": [
       "Chains MCMC chain (10000×4×1 Array{Float64, 3}):\n",
       "\n",
       "Iterations        = 1:1:10000\n",
       "Number of chains  = 1\n",
       "Samples per chain = 10000\n",
       "Wall duration     = 2.21 seconds\n",
       "Compute duration  = 2.21 seconds\n",
       "parameters        = Ωm, σ8\n",
       "internals         = E, logp\n",
       "\n",
       "Summary Statistics\n",
       " \u001b[1m parameters \u001b[0m \u001b[1m    mean \u001b[0m \u001b[1m     std \u001b[0m \u001b[1m naive_se \u001b[0m \u001b[1m    mcse \u001b[0m \u001b[1m       ess \u001b[0m \u001b[1m    rhat \u001b[0m \u001b[1m \u001b[0m ⋯\n",
       " \u001b[90m     Symbol \u001b[0m \u001b[90m Float64 \u001b[0m \u001b[90m Float64 \u001b[0m \u001b[90m  Float64 \u001b[0m \u001b[90m Float64 \u001b[0m \u001b[90m   Float64 \u001b[0m \u001b[90m Float64 \u001b[0m \u001b[90m \u001b[0m ⋯\n",
       "\n",
       "          Ωm    0.2232    0.0141     0.0001    0.0013     49.0966    1.0264    ⋯\n",
       "          σ8    0.8672    0.0397     0.0004    0.0011   2792.3231    1.0022    ⋯\n",
       "\u001b[36m                                                                1 column omitted\u001b[0m\n",
       "\n",
       "Quantiles\n",
       " \u001b[1m parameters \u001b[0m \u001b[1m    2.5% \u001b[0m \u001b[1m   25.0% \u001b[0m \u001b[1m   50.0% \u001b[0m \u001b[1m   75.0% \u001b[0m \u001b[1m   97.5% \u001b[0m\n",
       " \u001b[90m     Symbol \u001b[0m \u001b[90m Float64 \u001b[0m \u001b[90m Float64 \u001b[0m \u001b[90m Float64 \u001b[0m \u001b[90m Float64 \u001b[0m \u001b[90m Float64 \u001b[0m\n",
       "\n",
       "          Ωm    0.2024    0.2113    0.2212    0.2344    0.2486\n",
       "          σ8    0.7904    0.8406    0.8669    0.8930    0.9457\n"
      ]
     },
     "execution_count": 16,
     "metadata": {},
     "output_type": "execute_result"
    }
   ],
   "source": [
    "samples = sample(\n",
    "    stat_model, MCHMC(varE_wanted=2.0), 10000;\n",
    "    monitor_energy=true, \n",
    "    dialog=true)"
   ]
  },
  {
   "cell_type": "code",
   "execution_count": 17,
   "id": "eea6e813",
   "metadata": {},
   "outputs": [
    {
     "name": "stderr",
     "output_type": "stream",
     "text": [
      "\u001b[36m\u001b[1m[ \u001b[22m\u001b[39m\u001b[36m\u001b[1mInfo: \u001b[22m\u001b[39mStarting from previous run\n",
      "\u001b[32mChain 1: 100%|██████████████████████████████████████████| Time: 0:00:00\u001b[39m\n"
     ]
    },
    {
     "data": {
      "text/plain": [
       "Chains MCMC chain (10000×4×1 Array{Float64, 3}):\n",
       "\n",
       "Iterations        = 1:1:10000\n",
       "Number of chains  = 1\n",
       "Samples per chain = 10000\n",
       "Wall duration     = 1.11 seconds\n",
       "Compute duration  = 1.11 seconds\n",
       "parameters        = Ωm, σ8\n",
       "internals         = E, logp\n",
       "\n",
       "Summary Statistics\n",
       " \u001b[1m parameters \u001b[0m \u001b[1m    mean \u001b[0m \u001b[1m     std \u001b[0m \u001b[1m naive_se \u001b[0m \u001b[1m    mcse \u001b[0m \u001b[1m       ess \u001b[0m \u001b[1m    rhat \u001b[0m \u001b[1m \u001b[0m ⋯\n",
       " \u001b[90m     Symbol \u001b[0m \u001b[90m Float64 \u001b[0m \u001b[90m Float64 \u001b[0m \u001b[90m  Float64 \u001b[0m \u001b[90m Float64 \u001b[0m \u001b[90m   Float64 \u001b[0m \u001b[90m Float64 \u001b[0m \u001b[90m \u001b[0m ⋯\n",
       "\n",
       "          Ωm    0.2231    0.0145     0.0001    0.0014     36.2803    1.0001    ⋯\n",
       "          σ8    0.8676    0.0409     0.0004    0.0012   2723.0893    1.0000    ⋯\n",
       "\u001b[36m                                                                1 column omitted\u001b[0m\n",
       "\n",
       "Quantiles\n",
       " \u001b[1m parameters \u001b[0m \u001b[1m    2.5% \u001b[0m \u001b[1m   25.0% \u001b[0m \u001b[1m   50.0% \u001b[0m \u001b[1m   75.0% \u001b[0m \u001b[1m   97.5% \u001b[0m\n",
       " \u001b[90m     Symbol \u001b[0m \u001b[90m Float64 \u001b[0m \u001b[90m Float64 \u001b[0m \u001b[90m Float64 \u001b[0m \u001b[90m Float64 \u001b[0m \u001b[90m Float64 \u001b[0m\n",
       "\n",
       "          Ωm    0.2005    0.2103    0.2233    0.2354    0.2467\n",
       "          σ8    0.7855    0.8410    0.8675    0.8946    0.9481\n"
      ]
     },
     "execution_count": 17,
     "metadata": {},
     "output_type": "execute_result"
    }
   ],
   "source": [
    "new_samples = sample(stat_model, MCHMC(varE_wanted=2.0), 10000; \n",
    "                     monitor_energy=true, \n",
    "                     progress=true, resume_from=samples)"
   ]
  },
  {
   "cell_type": "markdown",
   "id": "767048c5",
   "metadata": {},
   "source": [
    "## Parallelization"
   ]
  },
  {
   "cell_type": "code",
   "execution_count": 18,
   "id": "d9093211",
   "metadata": {},
   "outputs": [],
   "source": [
    "using Distributed"
   ]
  },
  {
   "cell_type": "code",
   "execution_count": 19,
   "id": "42cf1f7f",
   "metadata": {
    "scrolled": false
   },
   "outputs": [
    {
     "name": "stderr",
     "output_type": "stream",
     "text": [
      "\u001b[36m\u001b[1m[ \u001b[22m\u001b[39m\u001b[36m\u001b[1mInfo: \u001b[22m\u001b[39mTuning eps ⏳\n"
     ]
    },
    {
     "name": "stdout",
     "output_type": "stream",
     "text": [
      "eps: 0.5 --> VarE: 170.11990456568182\n",
      "eps: 0.25 --> VarE: NaN\n",
      "eps: 0.125 --> VarE: 28.196059548354164\n",
      "eps: 0.0625 --> VarE: 14.40088521203764\n",
      "eps: 0.03125 --> VarE: 2.711982044849889\n",
      "eps: 0.015625 --> VarE: 1.1531623646951863\n"
     ]
    },
    {
     "name": "stderr",
     "output_type": "stream",
     "text": [
      "\u001b[36m\u001b[1m[ \u001b[22m\u001b[39m\u001b[36m\u001b[1mInfo: \u001b[22m\u001b[39mFound eps: 0.015625 ✅\n",
      "\u001b[36m\u001b[1m[ \u001b[22m\u001b[39m\u001b[36m\u001b[1mInfo: \u001b[22m\u001b[39mTuning L ⏳\n"
     ]
    },
    {
     "name": "stdout",
     "output_type": "stream",
     "text": [
      "samples: 100--> ESS: 0.021400626525358787\n",
      "samples: 243--> ESS: 0.009343679320590615\n",
      "samples: 447--> ESS: 0.01776307870281416\n",
      "samples: 739--> ESS: 0.014219214785413287\n"
     ]
    },
    {
     "name": "stderr",
     "output_type": "stream",
     "text": [
      "\u001b[36m\u001b[1m[ \u001b[22m\u001b[39m\u001b[36m\u001b[1mInfo: \u001b[22m\u001b[39mFound L: 1.4142135623730951 ✅\n",
      "\u001b[32mchain 3:   2%|█                                         |  ETA: 0:00:04\u001b[39m\n",
      "\u001b[35mchain 1:   3%|█▎                                        |  ETA: 0:00:04\u001b[39m\n",
      "\u001b[34mchain 2:   3%|█▎                                        |  ETA: 0:00:04\u001b[39m\n",
      "\u001b[36mchain 4:   3%|█▎                                        |  ETA: 0:00:04\u001b[39m\n",
      "\u001b[32mchain 3:   6%|██▎                                       |  ETA: 0:00:04\u001b[39m\n",
      "\n",
      "\u001b[35mchain 1:   6%|██▊                                       |  ETA: 0:00:03\u001b[39m\n",
      "\u001b[36mchain 4:   6%|██▊                                       |  ETA: 0:00:03\u001b[39m\n",
      "\u001b[34mchain 2:   6%|██▊                                       |  ETA: 0:00:03\u001b[39m\n",
      "\u001b[32mchain 3:   8%|███▋                                      |  ETA: 0:00:03\u001b[39m\n",
      "\u001b[35mchain 1:  10%|████▎                                     |  ETA: 0:00:03\u001b[39m\n",
      "\u001b[36mchain 4:  10%|████▎                                     |  ETA: 0:00:03\u001b[39m\n",
      "\u001b[34mchain 2:  10%|████▎                                     |  ETA: 0:00:03\u001b[39m\n",
      "\u001b[32mchain 3:  12%|████▉                                     |  ETA: 0:00:03\u001b[39m\n",
      "\u001b[35mchain 1:  13%|█████▌                                    |  ETA: 0:00:03\u001b[39m\n",
      "\u001b[34mchain 2:  14%|█████▋                                    |  ETA: 0:00:03\u001b[39m\n",
      "\u001b[36mchain 4:  14%|█████▋                                    |  ETA: 0:00:03\u001b[39m\n",
      "\u001b[32mchain 3:  14%|██████▏                                   |  ETA: 0:00:03\u001b[39m\n",
      "\u001b[35mchain 1:  16%|██████▉                                   |  ETA: 0:00:03\u001b[39m\n",
      "\u001b[34mchain 2:  17%|███████▏                                  |  ETA: 0:00:03\u001b[39m\n",
      "\u001b[36mchain 4:  17%|███████▏                                  |  ETA: 0:00:03\u001b[39m\n",
      "\u001b[32mchain 3:  18%|███████▍                                  |  ETA: 0:00:03\u001b[39m\n",
      "\u001b[35mchain 1:  20%|████████▍                                 |  ETA: 0:00:03\u001b[39m\n",
      "\u001b[34mchain 2:  20%|████████▋                                 |  ETA: 0:00:03\u001b[39m\n",
      "\u001b[36mchain 4:  20%|████████▋                                 |  ETA: 0:00:03\u001b[39m\n",
      "\u001b[32mchain 3:  20%|████████▋                                 |  ETA: 0:00:03\u001b[39m\n",
      "\u001b[35mchain 1:  24%|█████████▉                                |  ETA: 0:00:02\u001b[39m\n",
      "\u001b[34mchain 2:  24%|█████████▉                                |  ETA: 0:00:03\u001b[39m\n",
      "\u001b[36mchain 4:  24%|██████████▏                               |  ETA: 0:00:03\u001b[39m\n",
      "\u001b[32mchain 3:  24%|█████████▉                                |  ETA: 0:00:03\u001b[39m\n",
      "\u001b[35mchain 1:  26%|███████████▏                              |  ETA: 0:00:02\u001b[39m\n",
      "\u001b[34mchain 2:  26%|███████████▏                              |  ETA: 0:00:02\u001b[39m\n",
      "\u001b[36mchain 4:  28%|███████████▌                              |  ETA: 0:00:02\u001b[39m\n",
      "\u001b[32mchain 3:  26%|███████████▏                              |  ETA: 0:00:03\u001b[39m\n",
      "\n",
      "\u001b[35mchain 1:  30%|████████████▋                             |  ETA: 0:00:02\u001b[39m\u001b[34mchain 2:  30%|████████████▋                             |  ETA: 0:00:02\u001b[39m\n",
      "\u001b[36mchain 4:  31%|█████████████                             |  ETA: 0:00:02\u001b[39m\n",
      "\u001b[32mchain 3:  30%|████████████▍                             |  ETA: 0:00:03\u001b[39m\n",
      "\u001b[35mchain 1:  34%|██████████████▏                           |  ETA: 0:00:02\u001b[39m\n",
      "\u001b[34mchain 2:  34%|██████████████▏                           |  ETA: 0:00:02\u001b[39m\n",
      "\u001b[36mchain 4:  34%|██████████████▌                           |  ETA: 0:00:02\u001b[39m\n",
      "\u001b[32mchain 3:  32%|█████████████▋                            |  ETA: 0:00:02\u001b[39m\n",
      "\u001b[35mchain 1:  37%|███████████████▌                          |  ETA: 0:00:02\u001b[39m\n",
      "\u001b[34mchain 2:  37%|███████████████▌                          |  ETA: 0:00:02\u001b[39m\n",
      "\u001b[36mchain 4:  38%|████████████████                          |  ETA: 0:00:02\u001b[39m\n",
      "\u001b[32mchain 3:  36%|██████████████▉                           |  ETA: 0:00:02\u001b[39m\n",
      "\u001b[35mchain 1:  40%|█████████████████                         |  ETA: 0:00:02\u001b[39m\n",
      "\u001b[34mchain 2:  40%|█████████████████                         |  ETA: 0:00:02\u001b[39m\n",
      "\u001b[36mchain 4:  42%|█████████████████▍                        |  ETA: 0:00:02\u001b[39m\n",
      "\u001b[32mchain 3:  38%|████████████████▏                         |  ETA: 0:00:02\u001b[39m\n",
      "\u001b[35mchain 1:  44%|██████████████████▎                       |  ETA: 0:00:02\u001b[39m\n",
      "\u001b[34mchain 2:  44%|██████████████████▌                       |  ETA: 0:00:02\u001b[39m\n",
      "\u001b[36mchain 4:  45%|██████████████████▉                       |  ETA: 0:00:02\u001b[39m\n",
      "\u001b[32mchain 3:  42%|█████████████████▍                        |  ETA: 0:00:02\u001b[39m\n",
      "\n",
      "\u001b[35mchain 1:  47%|███████████████████▊                      |  ETA: 0:00:02\u001b[39m\n",
      "\u001b[34mchain 2:  47%|███████████████████▊                      |  ETA: 0:00:02\u001b[39m\n",
      "\u001b[32mchain 3:  44%|██████████████████▊                       |  ETA: 0:00:02\u001b[39m\n",
      "\u001b[36mchain 4:  48%|████████████████████▍                     |  ETA: 0:00:02\u001b[39m\n",
      "\u001b[35mchain 1:  50%|█████████████████████▎                    |  ETA: 0:00:02\u001b[39m\n",
      "\u001b[34mchain 2:  50%|█████████████████████                     |  ETA: 0:00:02\u001b[39m\n",
      "\u001b[32mchain 3:  48%|████████████████████                      |  ETA: 0:00:02\u001b[39m\n",
      "\u001b[36mchain 4:  52%|█████████████████████▉                    |  ETA: 0:00:02\u001b[39m\n",
      "\u001b[35mchain 1:  54%|██████████████████████▌                   |  ETA: 0:00:02\u001b[39m\n",
      "\u001b[34mchain 2:  54%|██████████████████████▌                   |  ETA: 0:00:02\u001b[39m\n",
      "\n",
      "\u001b[32mchain 3:  50%|█████████████████████▎                    |  ETA: 0:00:02\u001b[39m\n",
      "\u001b[36mchain 4:  56%|███████████████████████▎                  |  ETA: 0:00:01\u001b[39m\n",
      "\u001b[35mchain 1:  57%|████████████████████████                  |  ETA: 0:00:01\u001b[39m\n",
      "\u001b[34mchain 2:  57%|████████████████████████                  |  ETA: 0:00:01\u001b[39m\n",
      "\u001b[32mchain 3:  54%|██████████████████████▌                   |  ETA: 0:00:02\u001b[39m\n",
      "\u001b[36mchain 4:  59%|████████████████████████▊                 |  ETA: 0:00:01\u001b[39m\n",
      "\u001b[35mchain 1:  60%|█████████████████████████▍                |  ETA: 0:00:01\u001b[39m\n",
      "\u001b[34mchain 2:  60%|█████████████████████████▍                |  ETA: 0:00:01\u001b[39m\n",
      "\u001b[32mchain 3:  56%|███████████████████████▊                  |  ETA: 0:00:02\u001b[39m\n",
      "\u001b[36mchain 4:  62%|██████████████████████████▎               |  ETA: 0:00:01\u001b[39m\n",
      "\u001b[35mchain 1:  64%|██████████████████████████▉               |  ETA: 0:00:01\u001b[39m\n",
      "\u001b[34mchain 2:  64%|██████████████████████████▉               |  ETA: 0:00:01\u001b[39m\n",
      "\u001b[32mchain 3:  60%|█████████████████████████                 |  ETA: 0:00:01\u001b[39m\n",
      "\u001b[36mchain 4:  66%|███████████████████████████▊              |  ETA: 0:00:01\u001b[39m\n",
      "\u001b[35mchain 1:  67%|████████████████████████████▏             |  ETA: 0:00:01\u001b[39m\n",
      "\u001b[34mchain 2:  68%|████████████████████████████▍             |  ETA: 0:00:01\u001b[39m\n",
      "\u001b[32mchain 3:  62%|██████████████████████████▎               |  ETA: 0:00:01\u001b[39m\n",
      "\u001b[36mchain 4:  70%|█████████████████████████████▎            |  ETA: 0:00:01\u001b[39m\n",
      "\u001b[35mchain 1:  70%|█████████████████████████████▋            |  ETA: 0:00:01\u001b[39m\n",
      "\u001b[34mchain 2:  70%|█████████████████████████████▋            |  ETA: 0:00:01\u001b[39m\n",
      "\u001b[32mchain 3:  66%|███████████████████████████▌              |  ETA: 0:00:01\u001b[39m\n",
      "\u001b[36mchain 4:  73%|██████████████████████████████▋           |  ETA: 0:00:01\u001b[39m\n",
      "\u001b[35mchain 1:  74%|██████████████████████████████▉           |  ETA: 0:00:01\u001b[39m\n",
      "\u001b[34mchain 2:  74%|██████████████████████████████▉           |  ETA: 0:00:01\u001b[39m\n",
      "\u001b[32mchain 3:  68%|████████████████████████████▊             |  ETA: 0:00:01\u001b[39m\n",
      "\u001b[36mchain 4:  76%|████████████████████████████████▏         |  ETA: 0:00:01\u001b[39m\n",
      "\u001b[35mchain 1:  77%|████████████████████████████████▍         |  ETA: 0:00:01\u001b[39m\n",
      "\u001b[34mchain 2:  76%|████████████████████████████████▏         |  ETA: 0:00:01\u001b[39m\n",
      "\u001b[32mchain 3:  72%|██████████████████████████████            |  ETA: 0:00:01\u001b[39m\n",
      "\u001b[36mchain 4:  80%|█████████████████████████████████▍        |  ETA: 0:00:01\u001b[39m\n",
      "\n",
      "\u001b[35mchain 1:  80%|█████████████████████████████████▊        |  ETA: 0:00:01\u001b[39m\n",
      "\u001b[34mchain 2:  80%|█████████████████████████████████▍        |  ETA: 0:00:01\u001b[39m\n",
      "\u001b[32mchain 3:  74%|███████████████████████████████▎          |  ETA: 0:00:01\u001b[39m\n",
      "\u001b[36mchain 4:  83%|██████████████████████████████████▉       |  ETA: 0:00:01\u001b[39m\n",
      "\u001b[35mchain 1:  84%|███████████████████████████████████▏      |  ETA: 0:00:01\u001b[39m\n",
      "\u001b[34mchain 2:  82%|██████████████████████████████████▋       |  ETA: 0:00:01\u001b[39m\n"
     ]
    },
    {
     "name": "stderr",
     "output_type": "stream",
     "text": [
      "\u001b[32mchain 3:  78%|████████████████████████████████▌         |  ETA: 0:00:01\u001b[39m\n",
      "\u001b[36mchain 4:  86%|████████████████████████████████████▍     |  ETA: 0:00:00\u001b[39m\n",
      "\u001b[35mchain 1:  86%|████████████████████████████████████▍     |  ETA: 0:00:00\u001b[39m\n",
      "\u001b[34mchain 2:  86%|████████████████████████████████████▏     |  ETA: 0:00:00\u001b[39m\n",
      "\u001b[32mchain 3:  80%|█████████████████████████████████▊        |  ETA: 0:00:01\u001b[39m\n",
      "\u001b[36mchain 4:  90%|█████████████████████████████████████▋    |  ETA: 0:00:00\u001b[39m\n",
      "\u001b[35mchain 1:  90%|█████████████████████████████████████▋    |  ETA: 0:00:00\u001b[39m\n",
      "\u001b[34mchain 2:  89%|█████████████████████████████████████▍    |  ETA: 0:00:00\u001b[39m\n",
      "\u001b[32mchain 3:  84%|███████████████████████████████████▏      |  ETA: 0:00:01\u001b[39m\n",
      "\u001b[36mchain 4:  92%|██████████████████████████████████████▉   |  ETA: 0:00:00\u001b[39m\n",
      "\u001b[35mchain 1:  93%|███████████████████████████████████████   |  ETA: 0:00:00\u001b[39m\n",
      "\n",
      "\u001b[34mchain 2:  92%|██████████████████████████████████████▉   |  ETA: 0:00:00\u001b[39m\n",
      "\u001b[32mchain 3:  86%|████████████████████████████████████▍     |  ETA: 0:00:00\u001b[39m\n",
      "\n",
      "\u001b[36mchain 4:  96%|████████████████████████████████████████▍ |  ETA: 0:00:00\u001b[39m\n",
      "\u001b[35mchain 1:  96%|████████████████████████████████████████▍ |  ETA: 0:00:00\u001b[39m\n",
      "\u001b[34mchain 2:  96%|████████████████████████████████████████▏ |  ETA: 0:00:00\u001b[39m\n",
      "\u001b[32mchain 3:  90%|█████████████████████████████████████▋    |  ETA: 0:00:00\u001b[39m\n",
      "\u001b[36mchain 4: 100%|██████████████████████████████████████████| Time: 0:00:03\u001b[39m\n",
      "\n",
      "\u001b[35mchain 1: 100%|█████████████████████████████████████████▊|  ETA: 0:00:00\u001b[39m\n",
      "\u001b[35mchain 1: 100%|██████████████████████████████████████████| Time: 0:00:03\u001b[39m\n",
      "\n",
      "\u001b[34mchain 2: 100%|██████████████████████████████████████████| Time: 0:00:03\u001b[39m\n",
      "\u001b[32mchain 3: 100%|██████████████████████████████████████████| Time: 0:00:03\u001b[39m\n"
     ]
    },
    {
     "data": {
      "text/plain": [
       "4-element Vector{Chains}:\n",
       " MCMC chain (30000×4×1 Array{Float64, 3})\n",
       " MCMC chain (30000×4×1 Array{Float64, 3})\n",
       " MCMC chain (30000×4×1 Array{Float64, 3})\n",
       " MCMC chain (30000×4×1 Array{Float64, 3})"
      ]
     },
     "execution_count": 19,
     "metadata": {},
     "output_type": "execute_result"
    }
   ],
   "source": [
    "samples = sample(\n",
    "    stat_model, MCHMC(varE_wanted=2.0), MCMCThreads(), 30000, 4;\n",
    "    monitor_energy=true, \n",
    "    dialog=true)"
   ]
  },
  {
   "cell_type": "code",
   "execution_count": null,
   "id": "e1b473be",
   "metadata": {},
   "outputs": [],
   "source": [
    "new_samples = sample(\n",
    "    stat_model, MCHMC(varE_wanted=2.0), MCMCThreads(), 30000, 4;\n",
    "    monitor_energy=true, \n",
    "    dialog=true)"
   ]
  },
  {
   "cell_type": "markdown",
   "id": "4aadd3b5",
   "metadata": {},
   "source": [
    "## NUTS"
   ]
  },
  {
   "cell_type": "code",
   "execution_count": 22,
   "id": "dcbe40a3",
   "metadata": {},
   "outputs": [
    {
     "name": "stderr",
     "output_type": "stream",
     "text": [
      "\u001b[36m\u001b[1m┌ \u001b[22m\u001b[39m\u001b[36m\u001b[1mInfo: \u001b[22m\u001b[39mFound initial step size\n",
      "\u001b[36m\u001b[1m└ \u001b[22m\u001b[39m  ϵ = 0.05\n",
      "\u001b[32mSampling:   2%|▊                                        |  ETA: 0:00:06\u001b[39m\u001b[33m\u001b[1m┌ \u001b[22m\u001b[39m\u001b[33m\u001b[1mWarning: \u001b[22m\u001b[39mThe current proposal will be rejected due to numerical error(s).\n",
      "\u001b[33m\u001b[1m│ \u001b[22m\u001b[39m  isfinite.((θ, r, ℓπ, ℓκ)) = (true, false, false, false)\n",
      "\u001b[33m\u001b[1m└ \u001b[22m\u001b[39m\u001b[90m@ AdvancedHMC ~/.julia/packages/AdvancedHMC/4fByY/src/hamiltonian.jl:49\u001b[39m\n",
      "\u001b[32mSampling:   3%|█▎                                       |  ETA: 0:00:08\u001b[39m\u001b[33m\u001b[1m┌ \u001b[22m\u001b[39m\u001b[33m\u001b[1mWarning: \u001b[22m\u001b[39mThe current proposal will be rejected due to numerical error(s).\n",
      "\u001b[33m\u001b[1m│ \u001b[22m\u001b[39m  isfinite.((θ, r, ℓπ, ℓκ)) = (true, false, false, false)\n",
      "\u001b[33m\u001b[1m└ \u001b[22m\u001b[39m\u001b[90m@ AdvancedHMC ~/.julia/packages/AdvancedHMC/4fByY/src/hamiltonian.jl:49\u001b[39m\n",
      "\u001b[33m\u001b[1m┌ \u001b[22m\u001b[39m\u001b[33m\u001b[1mWarning: \u001b[22m\u001b[39mThe current proposal will be rejected due to numerical error(s).\n",
      "\u001b[33m\u001b[1m│ \u001b[22m\u001b[39m  isfinite.((θ, r, ℓπ, ℓκ)) = (true, false, false, false)\n",
      "\u001b[33m\u001b[1m└ \u001b[22m\u001b[39m\u001b[90m@ AdvancedHMC ~/.julia/packages/AdvancedHMC/4fByY/src/hamiltonian.jl:49\u001b[39m\n",
      "\u001b[32mSampling: 100%|█████████████████████████████████████████| Time: 0:00:02\u001b[39m\n"
     ]
    },
    {
     "data": {
      "text/plain": [
       "Chains MCMC chain (10000×14×1 Array{Float64, 3}):\n",
       "\n",
       "Iterations        = 501:1:10500\n",
       "Number of chains  = 1\n",
       "Samples per chain = 10000\n",
       "Wall duration     = 6.29 seconds\n",
       "Compute duration  = 6.29 seconds\n",
       "parameters        = Ωm, σ8\n",
       "internals         = lp, n_steps, is_accept, acceptance_rate, log_density, hamiltonian_energy, hamiltonian_energy_error, max_hamiltonian_energy_error, tree_depth, numerical_error, step_size, nom_step_size\n",
       "\n",
       "Summary Statistics\n",
       " \u001b[1m parameters \u001b[0m \u001b[1m    mean \u001b[0m \u001b[1m     std \u001b[0m \u001b[1m naive_se \u001b[0m \u001b[1m    mcse \u001b[0m \u001b[1m       ess \u001b[0m \u001b[1m    rhat \u001b[0m \u001b[1m \u001b[0m ⋯\n",
       " \u001b[90m     Symbol \u001b[0m \u001b[90m Float64 \u001b[0m \u001b[90m Float64 \u001b[0m \u001b[90m  Float64 \u001b[0m \u001b[90m Float64 \u001b[0m \u001b[90m   Float64 \u001b[0m \u001b[90m Float64 \u001b[0m \u001b[90m \u001b[0m ⋯\n",
       "\n",
       "          Ωm    0.2243    0.0143     0.0001    0.0002   7024.7357    1.0000    ⋯\n",
       "          σ8    0.8661    0.0385     0.0004    0.0005   7141.8802    1.0000    ⋯\n",
       "\u001b[36m                                                                1 column omitted\u001b[0m\n",
       "\n",
       "Quantiles\n",
       " \u001b[1m parameters \u001b[0m \u001b[1m    2.5% \u001b[0m \u001b[1m   25.0% \u001b[0m \u001b[1m   50.0% \u001b[0m \u001b[1m   75.0% \u001b[0m \u001b[1m   97.5% \u001b[0m\n",
       " \u001b[90m     Symbol \u001b[0m \u001b[90m Float64 \u001b[0m \u001b[90m Float64 \u001b[0m \u001b[90m Float64 \u001b[0m \u001b[90m Float64 \u001b[0m \u001b[90m Float64 \u001b[0m\n",
       "\n",
       "          Ωm    0.2011    0.2121    0.2241    0.2365    0.2486\n",
       "          σ8    0.7903    0.8397    0.8658    0.8924    0.9418\n"
      ]
     },
     "execution_count": 22,
     "metadata": {},
     "output_type": "execute_result"
    }
   ],
   "source": [
    "samples_hmc = sample(stat_model, NUTS(500, 0.65),\n",
    "                     10000, progress=true; save_state=true)"
   ]
  },
  {
   "cell_type": "code",
   "execution_count": 23,
   "id": "623ba990",
   "metadata": {},
   "outputs": [
    {
     "data": {
      "text/plain": [
       "3-dimensional AxisArray{Float64,3,...} with axes:\n",
       "    :iter, 501:1:10500\n",
       "    :var, [:Ωm, :σ8, :lp, :n_steps, :is_accept, :acceptance_rate, :log_density, :hamiltonian_energy, :hamiltonian_energy_error, :max_hamiltonian_energy_error, :tree_depth, :numerical_error, :step_size, :nom_step_size]\n",
       "    :chain, 1:1\n",
       "And data, a 10000×14×1 Array{Float64, 3}:\n",
       "[:, :, 1] =\n",
       " 0.230875  0.797464  14.8891   3.0  1.0  …  2.0  0.0  1.14262  1.14262\n",
       " 0.202456  0.897768  14.6385  15.0  1.0     3.0  0.0  1.14262  1.14262\n",
       " 0.201766  0.905779  14.2329   1.0  1.0     1.0  0.0  1.14262  1.14262\n",
       " 0.201766  0.905779  14.2329   7.0  1.0     2.0  0.0  1.14262  1.14262\n",
       " 0.203508  0.85799   14.8287   3.0  1.0     1.0  0.0  1.14262  1.14262\n",
       " 0.227266  0.956604  13.2923   3.0  1.0  …  2.0  0.0  1.14262  1.14262\n",
       " 0.228948  0.841929  16.2097   3.0  1.0     2.0  0.0  1.14262  1.14262\n",
       " 0.228948  0.841929  16.2097   3.0  1.0     1.0  0.0  1.14262  1.14262\n",
       " 0.237973  0.825316  15.698    1.0  1.0     1.0  0.0  1.14262  1.14262\n",
       " 0.214305  0.8434    15.8834   3.0  1.0     1.0  0.0  1.14262  1.14262\n",
       " 0.219992  0.872895  16.3544   7.0  1.0  …  2.0  0.0  1.14262  1.14262\n",
       " 0.219992  0.872895  16.3544   3.0  1.0     2.0  0.0  1.14262  1.14262\n",
       " 0.230098  0.886883  16.0994   1.0  1.0     1.0  0.0  1.14262  1.14262\n",
       " ⋮                                       ⋱  ⋮                  \n",
       " 0.212282  0.883528  16.0798   3.0  1.0     2.0  0.0  1.14262  1.14262\n",
       " 0.206977  0.906822  15.4134   3.0  1.0     2.0  0.0  1.14262  1.14262\n",
       " 0.205594  0.925125  14.8084   1.0  1.0  …  1.0  0.0  1.14262  1.14262\n",
       " 0.242844  0.823604  15.3055   3.0  1.0     2.0  0.0  1.14262  1.14262\n",
       " 0.218073  0.882673  16.2716   3.0  1.0     1.0  0.0  1.14262  1.14262\n",
       " 0.229706  0.899025  15.8407   1.0  1.0     1.0  0.0  1.14262  1.14262\n",
       " 0.204876  0.873216  15.3197   3.0  1.0     2.0  0.0  1.14262  1.14262\n",
       " 0.20251   0.883909  14.7238   1.0  1.0  …  1.0  0.0  1.14262  1.14262\n",
       " 0.210081  0.893505  15.8686   1.0  1.0     1.0  0.0  1.14262  1.14262\n",
       " 0.216142  0.891522  16.1388   3.0  1.0     2.0  0.0  1.14262  1.14262\n",
       " 0.208412  0.788486  13.0291   3.0  1.0     1.0  0.0  1.14262  1.14262\n",
       " 0.245601  0.921625  13.2954   3.0  1.0     2.0  0.0  1.14262  1.14262"
      ]
     },
     "execution_count": 23,
     "metadata": {},
     "output_type": "execute_result"
    }
   ],
   "source": [
    "samples_hmc.value"
   ]
  },
  {
   "cell_type": "code",
   "execution_count": 24,
   "id": "fa9db828",
   "metadata": {},
   "outputs": [],
   "source": [
    "Wms_hmc = vec(samples_hmc[\"Ωm\"])\n",
    "s8s_hmc = vec(samples_hmc[\"σ8\"]);"
   ]
  },
  {
   "cell_type": "code",
   "execution_count": 25,
   "id": "3d063a52",
   "metadata": {},
   "outputs": [
    {
     "data": {
      "image/png": "[encoded data removed]",
      "text/plain": [
       "Figure(PyObject <Figure size 640x480 with 1 Axes>)"
      ]
     },
     "metadata": {},
     "output_type": "display_data"
    }
   ],
   "source": [
    "plt.hist2d(Wms_hmc, s8s_hmc, bins=100, range=[[0.1, 0.4],[0.6, 1.2]]);\n",
    "plt.xlabel(\"Wm\")\n",
    "plt.ylabel(\"s8\")\n",
    "plt.title(\"HMC - RSD model\");"
   ]
  },
  {
   "cell_type": "code",
   "execution_count": null,
   "id": "0bdd32b7",
   "metadata": {},
   "outputs": [],
   "source": []
  }
 ],
 "metadata": {
  "kernelspec": {
   "display_name": "Julia_1.9 (5 threads) 1.9.0-beta3",
   "language": "julia",
   "name": "julia_1.9-_5-threads_-1.9"
  },
  "language_info": {
   "file_extension": ".jl",
   "mimetype": "application/julia",
   "name": "julia",
   "version": "1.9.0"
  }
 },
 "nbformat": 4,
 "nbformat_minor": 5
}
