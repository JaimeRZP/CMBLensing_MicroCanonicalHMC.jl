{
 "cells": [
  {
   "cell_type": "markdown",
   "id": "91129cb1",
   "metadata": {},
   "source": [
    "# Turing Target Practice"
   ]
  },
  {
   "cell_type": "markdown",
   "id": "97121235",
   "metadata": {},
   "source": [
    "## Model"
   ]
  },
  {
   "cell_type": "code",
   "execution_count": 1,
   "id": "86b96c9e",
   "metadata": {},
   "outputs": [
    {
     "name": "stderr",
     "output_type": "stream",
     "text": [
      "\u001b[32m\u001b[1m  Activating\u001b[22m\u001b[39m project at `~/PhD/MicroCanonicalHMC.jl`\n"
     ]
    }
   ],
   "source": [
    "] activate \".\""
   ]
  },
  {
   "cell_type": "code",
   "execution_count": 2,
   "id": "baed58e3",
   "metadata": {},
   "outputs": [
    {
     "name": "stderr",
     "output_type": "stream",
     "text": [
      "\u001b[36m\u001b[1m[ \u001b[22m\u001b[39m\u001b[36m\u001b[1mInfo: \u001b[22m\u001b[39mPrecompiling MicroCanonicalHMC [234d2aa0-2291-45f7-9047-6fa6f316b0a8]\n"
     ]
    }
   ],
   "source": [
    "# The statistical inference frame-work we will use\n",
    "using Turing\n",
    "using Interpolations\n",
    "using ForwardDiff\n",
    "using LinearAlgebra\n",
    "#using StatsPlots\n",
    "using PyPlot\n",
    "using Distributed\n",
    "\n",
    "using Revise\n",
    "using MicroCanonicalHMC"
   ]
  },
  {
   "cell_type": "code",
   "execution_count": 3,
   "id": "a7d6f81c",
   "metadata": {},
   "outputs": [],
   "source": [
    "fs8_zs = [0.38, 0.51, 0.61, 1.48, 0.44, 0.6, 0.73, 0.6, 0.86, 0.067, 1.4]\n",
    "fs8_data = [0.49749, 0.457523, 0.436148, 0.462, 0.413, 0.39, 0.437, 0.55, 0.4, 0.423, 0.482]\n",
    "fs8_cov = [0.00203355 0.000811829 0.000264615 0.0 0.0 0.0 0.0 0.0 0.0 0.0 0.0;\n",
    "           0.000811829 0.00142289 0.000662824 0.0 0.0 0.0 0.0 0.0 0.0 0.0 0.0; \n",
    "           0.000264615 0.000662824 0.00118576 0.0 0.0 0.0 0.0 0.0 0.0 0.0 0.0;\n",
    "           0.0 0.0 0.0 0.002025 0.0 0.0 0.0 0.0 0.0 0.0 0.0;\n",
    "           0.0 0.0 0.0 0.0 0.0064 0.00257 0.0 0.0 0.0 0.0 0.0;\n",
    "           0.0 0.0 0.0 0.0 0.00257 0.003969 0.00254 0.0 0.0 0.0 0.0;\n",
    "           0.0 0.0 0.0 0.0 0.0 0.00254 0.005184 0.0 0.0 0.0 0.0;\n",
    "           0.0 0.0 0.0 0.0 0.0 0.0 0.0 0.0144 0.0 0.0 0.0;\n",
    "           0.0 0.0 0.0 0.0 0.0 0.0 0.0 0.0 0.0121 0.0 0.0; \n",
    "           0.0 0.0 0.0 0.0 0.0 0.0 0.0 0.0 0.0 0.003025 0.0;\n",
    "           0.0 0.0 0.0 0.0 0.0 0.0 0.0 0.0 0.0 0.0 0.013456000000000001];"
   ]
  },
  {
   "cell_type": "code",
   "execution_count": 4,
   "id": "1359a630",
   "metadata": {
    "code_folding": []
   },
   "outputs": [
    {
     "data": {
      "text/plain": [
       "make_fs8 (generic function with 1 method)"
      ]
     },
     "execution_count": 4,
     "metadata": {},
     "output_type": "execute_result"
    }
   ],
   "source": [
    "function make_fs8(Ωm, σ8; Ωr=8.24*10^-5)\n",
    "    # ODE solution for growth factor\n",
    "    x_Dz = LinRange(0, log(1+1100), 300)\n",
    "    dx_Dz = x_Dz[2]-x_Dz[1]\n",
    "    z_Dz = @.(exp(x_Dz) - 1)\n",
    "    a_Dz = @.(1/(1+z_Dz))\n",
    "    aa = reverse(a_Dz)\n",
    "    e =  @.(sqrt.(abs(Ωm)*(1+z_Dz)^3+Ωr*(1+z_Dz)^4+(1-Ωm-Ωr)))\n",
    "    ee = reverse(e)\n",
    "\n",
    "    dd = zeros(typeof(Ωm), 300)\n",
    "    yy = zeros(typeof(Ωm), 300)\n",
    "    dd[1] = aa[1]\n",
    "    yy[1] = aa[1]^3*ee[end]\n",
    "\n",
    "    for i in 1:(300-1)\n",
    "        A0 = -1.5 * Ωm / (aa[i]*ee[i])\n",
    "        B0 = -1. / (aa[i]^2*ee[i])\n",
    "        A1 = -1.5 * Ωm / (aa[i+1]*ee[i+1])\n",
    "        B1 = -1. / (aa[i+1]^2*ee[i+1])\n",
    "        yy[i+1] = (1+0.5*dx_Dz^2*A0*B0)*yy[i] + 0.5*(A0+A1)*dx_Dz*dd[i]\n",
    "        dd[i+1] = 0.5*(B0+B1)*dx_Dz*yy[i] + (1+0.5*dx_Dz^2*A0*B0)*dd[i]\n",
    "    end\n",
    "\n",
    "    y = reverse(yy)\n",
    "    d = reverse(dd)\n",
    "\n",
    "    Dzi = LinearInterpolation(z_Dz, d./d[1], extrapolation_bc=Line())\n",
    "    fs8zi = LinearInterpolation(z_Dz, -σ8 .* y./ (a_Dz.^2 .*e.*d[1]),\n",
    "                                 extrapolation_bc=Line())\n",
    "    return fs8zi\n",
    "end"
   ]
  },
  {
   "cell_type": "code",
   "execution_count": 5,
   "id": "8005e277",
   "metadata": {},
   "outputs": [],
   "source": [
    "@model function model(data; cov = fs8_cov) \n",
    "    # Define priors\n",
    "    #KiDS priors\n",
    "    Ωm  ~ Uniform(0.01, 0.6)\n",
    "    σ8 ~ Normal(0.8, 0.3)\n",
    "    fs8_itp = make_fs8(Ωm, σ8)\n",
    "    theory = fs8_itp(fs8_zs)\n",
    "    data ~ MvNormal(theory, cov)\n",
    "end;"
   ]
  },
  {
   "cell_type": "code",
   "execution_count": 6,
   "id": "1eebe796",
   "metadata": {},
   "outputs": [
    {
     "data": {
      "text/plain": [
       "DynamicPPL.Model{typeof(model), (:data, :cov), (:cov,), (), Tuple{Vector{Float64}, Matrix{Float64}}, Tuple{Matrix{Float64}}, DynamicPPL.DefaultContext}(model, (data = [0.49749, 0.457523, 0.436148, 0.462, 0.413, 0.39, 0.437, 0.55, 0.4, 0.423, 0.482], cov = [0.00203355 0.000811829 … 0.0 0.0; 0.000811829 0.00142289 … 0.0 0.0; … ; 0.0 0.0 … 0.003025 0.0; 0.0 0.0 … 0.0 0.013456000000000001]), (cov = [0.00203355 0.000811829 … 0.0 0.0; 0.000811829 0.00142289 … 0.0 0.0; … ; 0.0 0.0 … 0.003025 0.0; 0.0 0.0 … 0.0 0.013456000000000001],), DynamicPPL.DefaultContext())"
      ]
     },
     "execution_count": 6,
     "metadata": {},
     "output_type": "execute_result"
    }
   ],
   "source": [
    "stat_model = model(fs8_data)"
   ]
  },
  {
   "cell_type": "markdown",
   "id": "10dfa4cc",
   "metadata": {},
   "source": [
    "## Sampling"
   ]
  },
  {
   "cell_type": "code",
   "execution_count": 7,
   "id": "c8ed14a3",
   "metadata": {},
   "outputs": [],
   "source": [
    "target = TuringTarget(stat_model; compute_MAP=true);"
   ]
  },
  {
   "cell_type": "code",
   "execution_count": 9,
   "id": "82938e27",
   "metadata": {
    "scrolled": false
   },
   "outputs": [
    {
     "name": "stderr",
     "output_type": "stream",
     "text": [
      "\u001b[36m\u001b[1m[ \u001b[22m\u001b[39m\u001b[36m\u001b[1mInfo: \u001b[22m\u001b[39mTuning sigma ⏳\n",
      "\u001b[36m\u001b[1m[ \u001b[22m\u001b[39m\u001b[36m\u001b[1mInfo: \u001b[22m\u001b[39mFound sigma: [0.4504347985295385, 0.06088870443747074] ✅\n",
      "\u001b[36m\u001b[1m[ \u001b[22m\u001b[39m\u001b[36m\u001b[1mInfo: \u001b[22m\u001b[39mTuning eps ⏳\n"
     ]
    },
    {
     "name": "stdout",
     "output_type": "stream",
     "text": [
      "eps: 0.5 --> VarE: 0.6138987538079882\n"
     ]
    },
    {
     "name": "stderr",
     "output_type": "stream",
     "text": [
      "\u001b[36m\u001b[1m[ \u001b[22m\u001b[39m\u001b[36m\u001b[1mInfo: \u001b[22m\u001b[39mFound eps: 0.5 ✅\n",
      "\u001b[36m\u001b[1m[ \u001b[22m\u001b[39m\u001b[36m\u001b[1mInfo: \u001b[22m\u001b[39mTuning L ⏳\n"
     ]
    },
    {
     "name": "stdout",
     "output_type": "stream",
     "text": [
      "samples: 100--> ESS: 0.3159442380333939\n"
     ]
    },
    {
     "name": "stderr",
     "output_type": "stream",
     "text": [
      "\u001b[36m\u001b[1m[ \u001b[22m\u001b[39m\u001b[36m\u001b[1mInfo: \u001b[22m\u001b[39mFound L: 0.6330230968759143 ✅\n"
     ]
    }
   ],
   "source": [
    "samples_mchmc = Sample(MCHMC(varE_wanted=1.0), target, 100000;\n",
    "                       monitor_energy=true, \n",
    "                       dialog=true);"
   ]
  },
  {
   "cell_type": "code",
   "execution_count": 10,
   "id": "385a8b1a",
   "metadata": {},
   "outputs": [],
   "source": [
    "Wms_mchmc = [sample[1] for sample in samples_mchmc]\n",
    "s8s_mchmc = [sample[2] for sample in samples_mchmc];"
   ]
  },
  {
   "cell_type": "code",
   "execution_count": 11,
   "id": "2a803eb8",
   "metadata": {},
   "outputs": [
    {
     "data": {
      "image/png": "[encoded data removed]",
      "text/plain": [
       "Figure(PyObject <Figure size 640x480 with 1 Axes>)"
      ]
     },
     "metadata": {},
     "output_type": "display_data"
    }
   ],
   "source": [
    "plt.hist2d(Wms_mchmc, s8s_mchmc, bins=100, range=[[0.1, 0.6],[0.6, 1.2]]);\n",
    "plt.xlabel(\"Wm\")\n",
    "plt.ylabel(\"s8\")\n",
    "plt.title(\"MCHMC - RSD model\");"
   ]
  },
  {
   "cell_type": "code",
   "execution_count": 34,
   "id": "ae097bf4",
   "metadata": {
    "scrolled": false
   },
   "outputs": [
    {
     "name": "stderr",
     "output_type": "stream",
     "text": [
      "\u001b[36m\u001b[1m[ \u001b[22m\u001b[39m\u001b[36m\u001b[1mInfo: \u001b[22m\u001b[39mBurn-in started ⏳\n",
      "\u001b[36m\u001b[1m[ \u001b[22m\u001b[39m\u001b[36m\u001b[1mInfo: \u001b[22m\u001b[39mTuning sigma ⏳\n",
      "\u001b[36m\u001b[1m[ \u001b[22m\u001b[39m\u001b[36m\u001b[1mInfo: \u001b[22m\u001b[39mTuning eps ⏳\n",
      "\u001b[36m\u001b[1m[ \u001b[22m\u001b[39m\u001b[36m\u001b[1mInfo: \u001b[22m\u001b[39mTuning L ⏳\n",
      "\u001b[33m\u001b[1m┌ \u001b[22m\u001b[39m\u001b[33m\u001b[1mWarning: \u001b[22m\u001b[39mL-tuning not Implemented using L = sqrt(target.d)\n",
      "\u001b[33m\u001b[1m└ \u001b[22m\u001b[39m\u001b[90m@ MicroCanonicalHMC ~/PhD/MicroCanonicalHMC.jl/src/ensemble/tuning.jl:25\u001b[39m\n",
      "\u001b[36m\u001b[1m[ \u001b[22m\u001b[39m\u001b[36m\u001b[1mInfo: \u001b[22m\u001b[39mFound L: 1.4142135623730951 ✅\n",
      "\u001b[36m\u001b[1m[ \u001b[22m\u001b[39m\u001b[36m\u001b[1mInfo: \u001b[22m\u001b[39mVirial loss condition met during burn-in at step: 53\n",
      "\u001b[36m\u001b[1m[ \u001b[22m\u001b[39m\u001b[36m\u001b[1mInfo: \u001b[22m\u001b[39mFound sigma: [0.8286663314378323, 0.10489894043725363] ✅\n",
      "\u001b[36m\u001b[1m[ \u001b[22m\u001b[39m\u001b[36m\u001b[1mInfo: \u001b[22m\u001b[39mVarE condition met during eps tuning at step: 2\n",
      "\u001b[36m\u001b[1m[ \u001b[22m\u001b[39m\u001b[36m\u001b[1mInfo: \u001b[22m\u001b[39mFound eps: 0.25 ✅\n"
     ]
    }
   ],
   "source": [
    "samples_ensemble_mchmc = Sample(MCHMC(100), target, 1000, 100;\n",
    "   monitor_energy=true, \n",
    "   dialog=false);"
   ]
  },
  {
   "cell_type": "code",
   "execution_count": 35,
   "id": "197541d7",
   "metadata": {},
   "outputs": [],
   "source": [
    "Wms_ensemble_mchmc = [sample[1] for sample in samples_ensemble_mchmc]\n",
    "s8s_ensemble_mchmc = [sample[2] for sample in samples_ensemble_mchmc];"
   ]
  },
  {
   "cell_type": "code",
   "execution_count": 36,
   "id": "654b0195",
   "metadata": {},
   "outputs": [
    {
     "data": {
      "image/png": "[encoded data removed]",
      "text/plain": [
       "Figure(PyObject <Figure size 640x480 with 1 Axes>)"
      ]
     },
     "metadata": {},
     "output_type": "display_data"
    }
   ],
   "source": [
    "plt.hist2d(Wms_ensemble_mchmc, s8s_ensemble_mchmc, bins=100, range=[[0.1, 0.6],[0.6, 1.2]]);\n",
    "plt.xlabel(\"Wm\")\n",
    "plt.ylabel(\"s8\")\n",
    "plt.title(\"Ensemble MCHMC - RSD model\");"
   ]
  },
  {
   "cell_type": "markdown",
   "id": "b9b6311f",
   "metadata": {},
   "source": [
    "##  AbstractMCMC"
   ]
  },
  {
   "cell_type": "code",
   "execution_count": 51,
   "id": "d569b9dc",
   "metadata": {},
   "outputs": [
    {
     "name": "stdout",
     "output_type": "stream",
     "text": [
      "eps: 0.5 --> VarE: 0.6850750430566057\n",
      "samples: 100--> ESS: 0.06163782537062699\n"
     ]
    },
    {
     "name": "stderr",
     "output_type": "stream",
     "text": [
      "\u001b[36m\u001b[1m[ \u001b[22m\u001b[39m\u001b[36m\u001b[1mInfo: \u001b[22m\u001b[39mTuning sigma ⏳\n",
      "\u001b[36m\u001b[1m[ \u001b[22m\u001b[39m\u001b[36m\u001b[1mInfo: \u001b[22m\u001b[39mFound sigma: [0.4504347985333328, 0.06088870443750957] ✅\n",
      "\u001b[36m\u001b[1m[ \u001b[22m\u001b[39m\u001b[36m\u001b[1mInfo: \u001b[22m\u001b[39mTuning eps ⏳\n",
      "\u001b[36m\u001b[1m[ \u001b[22m\u001b[39m\u001b[36m\u001b[1mInfo: \u001b[22m\u001b[39mFound eps: 0.5 ✅\n",
      "\u001b[36m\u001b[1m[ \u001b[22m\u001b[39m\u001b[36m\u001b[1mInfo: \u001b[22m\u001b[39mTuning L ⏳\n"
     ]
    },
    {
     "name": "stdout",
     "output_type": "stream",
     "text": [
      "samples: 243--> ESS: 0.06416265192300356\n"
     ]
    },
    {
     "name": "stderr",
     "output_type": "stream",
     "text": [
      "\u001b[36m\u001b[1m[ \u001b[22m\u001b[39m\u001b[36m\u001b[1mInfo: \u001b[22m\u001b[39mFound L: 3.117078144463292 ✅\n",
      "\u001b[32mChain 1: 100%|██████████████████████████████████████████| Time: 0:00:00\u001b[39m\n"
     ]
    },
    {
     "data": {
      "text/plain": [
       "Chains MCMC chain (10000×4×1 Array{Float64, 3}):\n",
       "\n",
       "Iterations        = 1:1:10000\n",
       "Number of chains  = 1\n",
       "Samples per chain = 10000\n",
       "Wall duration     = 0.51 seconds\n",
       "Compute duration  = 0.51 seconds\n",
       "parameters        = Ωm, σ8\n",
       "internals         = E, logp\n",
       "\n",
       "Summary Statistics\n",
       " \u001b[1m parameters \u001b[0m \u001b[1m    mean \u001b[0m \u001b[1m     std \u001b[0m \u001b[1m naive_se \u001b[0m \u001b[1m    mcse \u001b[0m \u001b[1m       ess \u001b[0m \u001b[1m    rhat \u001b[0m \u001b[1m \u001b[0m ⋯\n",
       " \u001b[90m     Symbol \u001b[0m \u001b[90m Float64 \u001b[0m \u001b[90m Float64 \u001b[0m \u001b[90m  Float64 \u001b[0m \u001b[90m Float64 \u001b[0m \u001b[90m   Float64 \u001b[0m \u001b[90m Float64 \u001b[0m \u001b[90m \u001b[0m ⋯\n",
       "\n",
       "          Ωm    0.2391    0.0673     0.0007    0.0017   1070.5368    0.9999    ⋯\n",
       "          σ8    0.8646    0.0620     0.0006    0.0014   1139.4333    1.0001    ⋯\n",
       "\u001b[36m                                                                1 column omitted\u001b[0m\n",
       "\n",
       "Quantiles\n",
       " \u001b[1m parameters \u001b[0m \u001b[1m    2.5% \u001b[0m \u001b[1m   25.0% \u001b[0m \u001b[1m   50.0% \u001b[0m \u001b[1m   75.0% \u001b[0m \u001b[1m   97.5% \u001b[0m\n",
       " \u001b[90m     Symbol \u001b[0m \u001b[90m Float64 \u001b[0m \u001b[90m Float64 \u001b[0m \u001b[90m Float64 \u001b[0m \u001b[90m Float64 \u001b[0m \u001b[90m Float64 \u001b[0m\n",
       "\n",
       "          Ωm    0.1303    0.1911    0.2314    0.2781    0.3928\n",
       "          σ8    0.7557    0.8220    0.8607    0.9027    0.9998\n"
      ]
     },
     "execution_count": 51,
     "metadata": {},
     "output_type": "execute_result"
    }
   ],
   "source": [
    "samples = sample(\n",
    "    stat_model, MCHMC(varE_wanted=2.0), 10000;\n",
    "    monitor_energy=true, \n",
    "    dialog=true)"
   ]
  },
  {
   "cell_type": "code",
   "execution_count": 52,
   "id": "eea6e813",
   "metadata": {},
   "outputs": [
    {
     "name": "stderr",
     "output_type": "stream",
     "text": [
      "\u001b[36m\u001b[1m[ \u001b[22m\u001b[39m\u001b[36m\u001b[1mInfo: \u001b[22m\u001b[39mStarting from previous run\n",
      "\u001b[32mChain 1: 100%|██████████████████████████████████████████| Time: 0:00:00\u001b[39m\n"
     ]
    },
    {
     "data": {
      "text/plain": [
       "Chains MCMC chain (10000×4×1 Array{Float64, 3}):\n",
       "\n",
       "Iterations        = 1:1:10000\n",
       "Number of chains  = 1\n",
       "Samples per chain = 10000\n",
       "Wall duration     = 0.55 seconds\n",
       "Compute duration  = 0.55 seconds\n",
       "parameters        = Ωm, σ8\n",
       "internals         = E, logp\n",
       "\n",
       "Summary Statistics\n",
       " \u001b[1m parameters \u001b[0m \u001b[1m    mean \u001b[0m \u001b[1m     std \u001b[0m \u001b[1m naive_se \u001b[0m \u001b[1m    mcse \u001b[0m \u001b[1m       ess \u001b[0m \u001b[1m    rhat \u001b[0m \u001b[1m \u001b[0m ⋯\n",
       " \u001b[90m     Symbol \u001b[0m \u001b[90m Float64 \u001b[0m \u001b[90m Float64 \u001b[0m \u001b[90m  Float64 \u001b[0m \u001b[90m Float64 \u001b[0m \u001b[90m   Float64 \u001b[0m \u001b[90m Float64 \u001b[0m \u001b[90m \u001b[0m ⋯\n",
       "\n",
       "          Ωm    0.2350    0.0651     0.0007    0.0014   1108.5217    1.0000    ⋯\n",
       "          σ8    0.8676    0.0610     0.0006    0.0012   1192.9598    1.0000    ⋯\n",
       "\u001b[36m                                                                1 column omitted\u001b[0m\n",
       "\n",
       "Quantiles\n",
       " \u001b[1m parameters \u001b[0m \u001b[1m    2.5% \u001b[0m \u001b[1m   25.0% \u001b[0m \u001b[1m   50.0% \u001b[0m \u001b[1m   75.0% \u001b[0m \u001b[1m   97.5% \u001b[0m\n",
       " \u001b[90m     Symbol \u001b[0m \u001b[90m Float64 \u001b[0m \u001b[90m Float64 \u001b[0m \u001b[90m Float64 \u001b[0m \u001b[90m Float64 \u001b[0m \u001b[90m Float64 \u001b[0m\n",
       "\n",
       "          Ωm    0.1310    0.1872    0.2276    0.2750    0.3828\n",
       "          σ8    0.7560    0.8247    0.8648    0.9074    0.9960\n"
      ]
     },
     "execution_count": 52,
     "metadata": {},
     "output_type": "execute_result"
    }
   ],
   "source": [
    "new_samples = sample(stat_model, MCHMC(varE_wanted=2.0), 10000; \n",
    "                     monitor_energy=true, \n",
    "                     progress=true, resume_from=samples)"
   ]
  },
  {
   "cell_type": "markdown",
   "id": "f7fdb382",
   "metadata": {},
   "source": [
    "## Ensemble AbstractMCMC"
   ]
  },
  {
   "cell_type": "code",
   "execution_count": 63,
   "id": "16856966",
   "metadata": {
    "scrolled": false
   },
   "outputs": [
    {
     "name": "stderr",
     "output_type": "stream",
     "text": [
      "\u001b[36m\u001b[1m[ \u001b[22m\u001b[39m\u001b[36m\u001b[1mInfo: \u001b[22m\u001b[39mBurn-in started ⏳\n",
      "\u001b[36m\u001b[1m[ \u001b[22m\u001b[39m\u001b[36m\u001b[1mInfo: \u001b[22m\u001b[39mTuning sigma ⏳\n",
      "\u001b[36m\u001b[1m[ \u001b[22m\u001b[39m\u001b[36m\u001b[1mInfo: \u001b[22m\u001b[39mTuning eps ⏳\n",
      "\u001b[36m\u001b[1m[ \u001b[22m\u001b[39m\u001b[36m\u001b[1mInfo: \u001b[22m\u001b[39mTuning L ⏳\n",
      "\u001b[33m\u001b[1m┌ \u001b[22m\u001b[39m\u001b[33m\u001b[1mWarning: \u001b[22m\u001b[39mL-tuning not Implemented using L = sqrt(target.d)\n",
      "\u001b[33m\u001b[1m└ \u001b[22m\u001b[39m\u001b[90m@ MicroCanonicalHMC ~/PhD/MicroCanonicalHMC.jl/src/ensemble/tuning.jl:25\u001b[39m\n",
      "\u001b[36m\u001b[1m[ \u001b[22m\u001b[39m\u001b[36m\u001b[1mInfo: \u001b[22m\u001b[39mFound L: 1.4142135623730951 ✅\n",
      "\u001b[36m\u001b[1m[ \u001b[22m\u001b[39m\u001b[36m\u001b[1mInfo: \u001b[22m\u001b[39mVirial loss condition met during burn-in at step: 16\n",
      "\u001b[36m\u001b[1m[ \u001b[22m\u001b[39m\u001b[36m\u001b[1mInfo: \u001b[22m\u001b[39mFound sigma: [0.9423368793750067, 0.12029707296580826] ✅\n",
      "\u001b[36m\u001b[1m[ \u001b[22m\u001b[39m\u001b[36m\u001b[1mInfo: \u001b[22m\u001b[39mVarE condition met during eps tuning at step: 2\n",
      "\u001b[36m\u001b[1m[ \u001b[22m\u001b[39m\u001b[36m\u001b[1mInfo: \u001b[22m\u001b[39mFound eps: 0.25 ✅\n",
      "\u001b[32mChain 1: 100%|██████████████████████████████████████████| Time: 0:00:02\u001b[39m\n"
     ]
    },
    {
     "data": {
      "text/plain": [
       "Chains MCMC chain (100000×4×1 Array{Float64, 3}):\n",
       "\n",
       "Iterations        = 1:1:100000\n",
       "Number of chains  = 1\n",
       "Samples per chain = 100000\n",
       "Wall duration     = 2.89 seconds\n",
       "Compute duration  = 2.89 seconds\n",
       "parameters        = Ωm, σ8\n",
       "internals         = E, logp\n",
       "\n",
       "Summary Statistics\n",
       " \u001b[1m parameters \u001b[0m \u001b[1m    mean \u001b[0m \u001b[1m     std \u001b[0m \u001b[1m naive_se \u001b[0m \u001b[1m    mcse \u001b[0m \u001b[1m      ess \u001b[0m \u001b[1m    rhat \u001b[0m \u001b[1m e\u001b[0m ⋯\n",
       " \u001b[90m     Symbol \u001b[0m \u001b[90m Float64 \u001b[0m \u001b[90m Float64 \u001b[0m \u001b[90m  Float64 \u001b[0m \u001b[90m Float64 \u001b[0m \u001b[90m  Float64 \u001b[0m \u001b[90m Float64 \u001b[0m \u001b[90m  \u001b[0m ⋯\n",
       "\n",
       "          Ωm    0.2364    0.0681     0.0002    0.0036   230.6565    1.0089     ⋯\n",
       "          σ8    0.8671    0.0727     0.0002    0.0039   229.6471    1.0035     ⋯\n",
       "\u001b[36m                                                                1 column omitted\u001b[0m\n",
       "\n",
       "Quantiles\n",
       " \u001b[1m parameters \u001b[0m \u001b[1m    2.5% \u001b[0m \u001b[1m   25.0% \u001b[0m \u001b[1m   50.0% \u001b[0m \u001b[1m   75.0% \u001b[0m \u001b[1m   97.5% \u001b[0m\n",
       " \u001b[90m     Symbol \u001b[0m \u001b[90m Float64 \u001b[0m \u001b[90m Float64 \u001b[0m \u001b[90m Float64 \u001b[0m \u001b[90m Float64 \u001b[0m \u001b[90m Float64 \u001b[0m\n",
       "\n",
       "          Ωm    0.1219    0.1821    0.2321    0.2700    0.3805\n",
       "          σ8    0.7466    0.8157    0.8566    0.9170    1.0246\n"
      ]
     },
     "execution_count": 63,
     "metadata": {},
     "output_type": "execute_result"
    }
   ],
   "source": [
    "samples = sample(stat_model, MCHMC(100), 1000, 100)"
   ]
  },
  {
   "cell_type": "code",
   "execution_count": 64,
   "id": "603dfac8",
   "metadata": {},
   "outputs": [
    {
     "name": "stderr",
     "output_type": "stream",
     "text": [
      "\u001b[36m\u001b[1m[ \u001b[22m\u001b[39m\u001b[36m\u001b[1mInfo: \u001b[22m\u001b[39mStarting from previous run\n",
      "\u001b[32mChain 1: 100%|██████████████████████████████████████████| Time: 0:00:02\u001b[39m\n"
     ]
    },
    {
     "data": {
      "text/plain": [
       "Chains MCMC chain (100000×4×1 Array{Float64, 3}):\n",
       "\n",
       "Iterations        = 1:1:100000\n",
       "Number of chains  = 1\n",
       "Samples per chain = 100000\n",
       "Wall duration     = 2.73 seconds\n",
       "Compute duration  = 2.73 seconds\n",
       "parameters        = Ωm, σ8\n",
       "internals         = E, logp\n",
       "\n",
       "Summary Statistics\n",
       " \u001b[1m parameters \u001b[0m \u001b[1m    mean \u001b[0m \u001b[1m     std \u001b[0m \u001b[1m naive_se \u001b[0m \u001b[1m    mcse \u001b[0m \u001b[1m      ess \u001b[0m \u001b[1m    rhat \u001b[0m \u001b[1m e\u001b[0m ⋯\n",
       " \u001b[90m     Symbol \u001b[0m \u001b[90m Float64 \u001b[0m \u001b[90m Float64 \u001b[0m \u001b[90m  Float64 \u001b[0m \u001b[90m Float64 \u001b[0m \u001b[90m  Float64 \u001b[0m \u001b[90m Float64 \u001b[0m \u001b[90m  \u001b[0m ⋯\n",
       "\n",
       "          Ωm    0.2344    0.0695     0.0002    0.0037   222.3111    1.0069     ⋯\n",
       "          σ8    0.8650    0.0601     0.0002    0.0032   229.1633    1.0012     ⋯\n",
       "\u001b[36m                                                                1 column omitted\u001b[0m\n",
       "\n",
       "Quantiles\n",
       " \u001b[1m parameters \u001b[0m \u001b[1m    2.5% \u001b[0m \u001b[1m   25.0% \u001b[0m \u001b[1m   50.0% \u001b[0m \u001b[1m   75.0% \u001b[0m \u001b[1m   97.5% \u001b[0m\n",
       " \u001b[90m     Symbol \u001b[0m \u001b[90m Float64 \u001b[0m \u001b[90m Float64 \u001b[0m \u001b[90m Float64 \u001b[0m \u001b[90m Float64 \u001b[0m \u001b[90m Float64 \u001b[0m\n",
       "\n",
       "          Ωm    0.1462    0.1792    0.2214    0.2666    0.4265\n",
       "          σ8    0.7594    0.8261    0.8612    0.8991    0.9836\n"
      ]
     },
     "execution_count": 64,
     "metadata": {},
     "output_type": "execute_result"
    }
   ],
   "source": [
    "new_samples = sample(stat_model, MCHMC(100), 1000, 100; \n",
    "                     resume_from=samples)"
   ]
  },
  {
   "cell_type": "markdown",
   "id": "767048c5",
   "metadata": {},
   "source": [
    "## Parallelization"
   ]
  },
  {
   "cell_type": "code",
   "execution_count": 26,
   "id": "42cf1f7f",
   "metadata": {
    "scrolled": true
   },
   "outputs": [
    {
     "name": "stderr",
     "output_type": "stream",
     "text": [
      "\u001b[36m\u001b[1m[ \u001b[22m\u001b[39m\u001b[36m\u001b[1mInfo: \u001b[22m\u001b[39mTuning sigma ⏳\n",
      "\u001b[36m\u001b[1m[ \u001b[22m\u001b[39m\u001b[36m\u001b[1mInfo: \u001b[22m\u001b[39mFound sigma: [0.45043479852953877, 0.060888704437470666] ✅\n",
      "\u001b[36m\u001b[1m[ \u001b[22m\u001b[39m\u001b[36m\u001b[1mInfo: \u001b[22m\u001b[39mTuning eps ⏳\n",
      "\u001b[36m\u001b[1m[ \u001b[22m\u001b[39m\u001b[36m\u001b[1mInfo: \u001b[22m\u001b[39mFound eps: 0.5 ✅\n",
      "\u001b[36m\u001b[1m[ \u001b[22m\u001b[39m\u001b[36m\u001b[1mInfo: \u001b[22m\u001b[39mTuning L ⏳\n",
      "\u001b[36m\u001b[1m[ \u001b[22m\u001b[39m\u001b[36m\u001b[1mInfo: \u001b[22m\u001b[39mFound L: 3.7055051070627916 ✅\n"
     ]
    },
    {
     "name": "stdout",
     "output_type": "stream",
     "text": [
      "eps: 0.5 --> VarE: 0.7436893047051621\n",
      "samples: 100--> ESS: 0.08329897166540713\n",
      "samples: 243--> ESS: 0.05397374830729411\n"
     ]
    },
    {
     "name": "stderr",
     "output_type": "stream",
     "text": [
      "\u001b[32mchain 3:   4%|█▉                                        |  ETA: 0:00:02\u001b[39m\n",
      "\u001b[34mchain 2:   5%|██▏                                       |  ETA: 0:00:02\u001b[39m\n",
      "\u001b[35mchain 4:   6%|██▎                                       |  ETA: 0:00:02\u001b[39m\n",
      "\u001b[36mchain 1:   6%|██▎                                       |  ETA: 0:00:02\u001b[39m\n",
      "\n",
      "\u001b[32mchain 3:  10%|████▎                                     |  ETA: 0:00:02\u001b[39m\n",
      "\u001b[34mchain 2:  10%|████▍                                     |  ETA: 0:00:02\u001b[39m\n",
      "\u001b[35mchain 4:  11%|████▋                                     |  ETA: 0:00:02\u001b[39m\n",
      "\u001b[36mchain 1:  10%|████▍                                     |  ETA: 0:00:02\u001b[39m\n",
      "\u001b[34mchain 2:  16%|██████▌                                   |  ETA: 0:00:02\u001b[39m\n",
      "\u001b[32mchain 3:  16%|██████▌                                   |  ETA: 0:00:02\u001b[39m\n",
      "\u001b[35mchain 4:  16%|██████▉                                   |  ETA: 0:00:02\u001b[39m\n",
      "\u001b[36mchain 1:  16%|██████▊                                   |  ETA: 0:00:02\u001b[39m\n",
      "\n",
      "\u001b[34mchain 2:  21%|████████▉                                 |  ETA: 0:00:02\u001b[39m\n",
      "\n",
      "\u001b[35mchain 4:  22%|█████████▎                                |  ETA: 0:00:01\u001b[39m\n",
      "\u001b[36mchain 1:  22%|█████████                                 |  ETA: 0:00:02\u001b[39m\n",
      "\u001b[32mchain 3:  26%|██████████▉                               |  ETA: 0:00:01\u001b[39m\n",
      "\u001b[34mchain 2:  26%|██████████▉                               |  ETA: 0:00:01\u001b[39m\n",
      "\u001b[35mchain 4:  28%|███████████▌                              |  ETA: 0:00:01\u001b[39m\n",
      "\u001b[36mchain 1:  26%|███████████▏                              |  ETA: 0:00:02\u001b[39m\n",
      "\n",
      "\u001b[34mchain 2:  32%|█████████████▎                            |  ETA: 0:00:01\u001b[39m\n",
      "\u001b[32mchain 3:  32%|█████████████▌                            |  ETA: 0:00:01\u001b[39m\n",
      "\u001b[35mchain 4:  33%|█████████████▉                            |  ETA: 0:00:01\u001b[39m\n",
      "\n",
      "\u001b[36mchain 1:  32%|█████████████▋                            |  ETA: 0:00:01\u001b[39m\n",
      "\u001b[34mchain 2:  37%|███████████████▌                          |  ETA: 0:00:01\u001b[39m\n",
      "\n",
      "\u001b[35mchain 4:  38%|████████████████▏                         |  ETA: 0:00:01\u001b[39m\n",
      "\u001b[32mchain 3:  38%|███████████████▊                          |  ETA: 0:00:01\u001b[39m\n",
      "\n",
      "\u001b[36mchain 1:  38%|████████████████                          |  ETA: 0:00:01\u001b[39m\n",
      "\n",
      "\u001b[34mchain 2:  43%|██████████████████                        |  ETA: 0:00:01\u001b[39m\n",
      "\u001b[35mchain 4:  44%|██████████████████▌                       |  ETA: 0:00:01\u001b[39m\n",
      "\u001b[32mchain 3:  43%|██████████████████                        |  ETA: 0:00:01\u001b[39m\n",
      "\n",
      "\u001b[36mchain 1:  44%|██████████████████▊                       |  ETA: 0:00:01\u001b[39m\n",
      "\u001b[34mchain 2:  48%|████████████████████▏                     |  ETA: 0:00:01\u001b[39m\n",
      "\n",
      "\u001b[32mchain 3:  48%|████████████████████▍                     |  ETA: 0:00:01\u001b[39m\n",
      "\u001b[35mchain 4:  50%|█████████████████████                     |  ETA: 0:00:01\u001b[39m\n",
      "\n",
      "\n",
      "\u001b[36mchain 1:  50%|█████████████████████▎                    |  ETA: 0:00:01\u001b[39m\n",
      "\n",
      "\u001b[34mchain 2:  54%|██████████████████████▌                   |  ETA: 0:00:01\u001b[39m\n",
      "\n",
      "\n",
      "\u001b[32mchain 3:  54%|██████████████████████▋                   |  ETA: 0:00:01\u001b[39m\n",
      "\u001b[35mchain 4:  56%|███████████████████████▎                  |  ETA: 0:00:01\u001b[39m\n",
      "\u001b[36mchain 1:  56%|███████████████████████▎                  |  ETA: 0:00:01\u001b[39m\n",
      "\u001b[34mchain 2:  58%|████████████████████████▋                 |  ETA: 0:00:01\u001b[39m\n",
      "\u001b[35mchain 4:  60%|█████████████████████████▍                |  ETA: 0:00:01\u001b[39m\n",
      "\u001b[32mchain 3:  59%|████████████████████████▊                 |  ETA: 0:00:01\u001b[39m\n",
      "\n",
      "\n",
      "\n",
      "\u001b[36mchain 1:  60%|█████████████████████████▍                |  ETA: 0:00:01\u001b[39m\n",
      "\u001b[34mchain 2:  64%|██████████████████████████▉               |  ETA: 0:00:01\u001b[39m\n",
      "\u001b[35mchain 4:  66%|███████████████████████████▌              |  ETA: 0:00:01\u001b[39m\n",
      "\u001b[32mchain 3:  64%|███████████████████████████▏              |  ETA: 0:00:01\u001b[39m\n",
      "\u001b[36mchain 1:  66%|███████████████████████████▌              |  ETA: 0:00:01\u001b[39m\n",
      "\u001b[34mchain 2:  70%|█████████████████████████████▎            |  ETA: 0:00:01\u001b[39m\n",
      "\u001b[35mchain 4:  70%|█████████████████████████████▋            |  ETA: 0:00:01\u001b[39m\n",
      "\u001b[32mchain 3:  70%|█████████████████████████████▍            |  ETA: 0:00:01\u001b[39m\n",
      "\u001b[36mchain 1:  71%|█████████████████████████████▉            |  ETA: 0:00:01\u001b[39m\n",
      "\u001b[34mchain 2:  74%|███████████████████████████████▏          |  ETA: 0:00:01\u001b[39m\n",
      "\u001b[35mchain 4:  76%|███████████████████████████████▉          |  ETA: 0:00:00\u001b[39m\n",
      "\n",
      "\u001b[32mchain 3:  76%|███████████████████████████████▊          |  ETA: 0:00:00\u001b[39m\n",
      "\n",
      "\u001b[36mchain 1:  76%|████████████████████████████████▏         |  ETA: 0:00:00\u001b[39m\n",
      "\u001b[34mchain 2:  80%|█████████████████████████████████▍        |  ETA: 0:00:00\u001b[39m\n",
      "\u001b[35mchain 4:  82%|██████████████████████████████████▎       |  ETA: 0:00:00\u001b[39m\n",
      "\u001b[32mchain 3:  81%|██████████████████████████████████        |  ETA: 0:00:00\u001b[39m\n",
      "\u001b[36mchain 1:  82%|██████████████████████████████████▎       |  ETA: 0:00:00\u001b[39m\n",
      "\n",
      "\u001b[34mchain 2:  85%|███████████████████████████████████▊      |  ETA: 0:00:00\u001b[39m\n",
      "\n",
      "\u001b[35mchain 4:  88%|████████████████████████████████████▊     |  ETA: 0:00:00\u001b[39m\n",
      "\u001b[32mchain 3:  86%|████████████████████████████████████▏     |  ETA: 0:00:00\u001b[39m\n",
      "\u001b[36mchain 1:  86%|████████████████████████████████████▍     |  ETA: 0:00:00\u001b[39m\n",
      "\u001b[34mchain 2:  91%|██████████████████████████████████████▎   |  ETA: 0:00:00\u001b[39m\n",
      "\u001b[35mchain 4:  93%|███████████████████████████████████████   |  ETA: 0:00:00\u001b[39m\n",
      "\u001b[32mchain 3:  91%|██████████████████████████████████████▎   |  ETA: 0:00:00\u001b[39m\n",
      "\n",
      "\u001b[36mchain 1:  92%|██████████████████████████████████████▋   |  ETA: 0:00:00\u001b[39m\n",
      "\u001b[34mchain 2:  96%|████████████████████████████████████████▌ |  ETA: 0:00:00\u001b[39m\n",
      "\u001b[35mchain 4:  98%|█████████████████████████████████████████▍|  ETA: 0:00:00\u001b[39m\n",
      "\u001b[35mchain 4: 100%|██████████████████████████████████████████| Time: 0:00:01\u001b[39m\n",
      "\u001b[34mchain 2: 100%|██████████████████████████████████████████| Time: 0:00:02\u001b[39m\n",
      "\u001b[32mchain 3: 100%|██████████████████████████████████████████| Time: 0:00:02\u001b[39m\u001b[36mchain 1:  98%|█████████████████████████████████████████ |  ETA: 0:00:00\u001b[39m\n",
      "\u001b[36mchain 1: 100%|██████████████████████████████████████████| Time: 0:00:02\u001b[39m\n"
     ]
    },
    {
     "data": {
      "text/plain": [
       "4-element Vector{Chains}:\n",
       " MCMC chain (30000×4×1 Array{Float64, 3})\n",
       " MCMC chain (30000×4×1 Array{Float64, 3})\n",
       " MCMC chain (30000×4×1 Array{Float64, 3})\n",
       " MCMC chain (30000×4×1 Array{Float64, 3})"
      ]
     },
     "execution_count": 26,
     "metadata": {},
     "output_type": "execute_result"
    }
   ],
   "source": [
    "samples = sample(\n",
    "    stat_model, MCHMC(varE_wanted=2.0), MCMCThreads(), 30000, 4;\n",
    "    monitor_energy=true, \n",
    "    dialog=true)"
   ]
  },
  {
   "cell_type": "code",
   "execution_count": 27,
   "id": "2e8cd8ab",
   "metadata": {
    "scrolled": false
   },
   "outputs": [
    {
     "name": "stderr",
     "output_type": "stream",
     "text": [
      "\u001b[36m\u001b[1m[ \u001b[22m\u001b[39m\u001b[36m\u001b[1mInfo: \u001b[22m\u001b[39mStarting from previous run\n",
      "\u001b[32mchain 3:   6%|██▎                                       |  ETA: 0:00:02\u001b[39m\n",
      "\u001b[36mchain 1:   4%|█▉                                        |  ETA: 0:00:02\u001b[39m\n",
      "\u001b[34mchain 2:   6%|██▎                                       |  ETA: 0:00:02\u001b[39m\n",
      "\u001b[35mchain 4:   4%|█▉                                        |  ETA: 0:00:02\u001b[39m\n",
      "\u001b[32mchain 3:  11%|████▋                                     |  ETA: 0:00:02\u001b[39m\n",
      "\n",
      "\n",
      "\n",
      "\u001b[34mchain 2:  12%|████▉                                     |  ETA: 0:00:02\u001b[39m\n",
      "\u001b[36mchain 1:  10%|████▍                                     |  ETA: 0:00:02\u001b[39m\n",
      "\u001b[35mchain 4:  10%|████▍                                     |  ETA: 0:00:02\u001b[39m\n",
      "\u001b[32mchain 3:  16%|██████▉                                   |  ETA: 0:00:02\u001b[39m\n",
      "\n",
      "\u001b[36mchain 1:  16%|██████▊                                   |  ETA: 0:00:02\u001b[39m\n",
      "\u001b[35mchain 4:  16%|██████▊                                   |  ETA: 0:00:02\u001b[39m\n",
      "\u001b[34mchain 2:  18%|███████▍                                  |  ETA: 0:00:02\u001b[39m\n",
      "\u001b[32mchain 3:  22%|█████████                                 |  ETA: 0:00:02\u001b[39m\n",
      "\u001b[36mchain 1:  22%|█████████                                 |  ETA: 0:00:02\u001b[39m\n",
      "\u001b[34mchain 2:  23%|█████████▋                                |  ETA: 0:00:01\u001b[39m\n",
      "\n",
      "\u001b[35mchain 4:  22%|█████████                                 |  ETA: 0:00:02\u001b[39m\n",
      "\u001b[32mchain 3:  27%|███████████▍                              |  ETA: 0:00:01\u001b[39m\n",
      "\n",
      "\u001b[35mchain 4:  26%|███████████▏                              |  ETA: 0:00:02\u001b[39m\n",
      "\u001b[36mchain 1:  27%|███████████▍                              |  ETA: 0:00:02\u001b[39m\n",
      "\u001b[34mchain 2:  29%|████████████▏                             |  ETA: 0:00:01\u001b[39m\n",
      "\n",
      "\u001b[32mchain 3:  32%|█████████████▋                            |  ETA: 0:00:01\u001b[39m\n",
      "\u001b[35mchain 4:  32%|█████████████▌                            |  ETA: 0:00:01\u001b[39m\n",
      "\u001b[36mchain 1:  32%|█████████████▋                            |  ETA: 0:00:01\u001b[39m\n",
      "\u001b[34mchain 2:  34%|██████████████▌                           |  ETA: 0:00:01\u001b[39m\n",
      "\u001b[32mchain 3:  38%|███████████████▊                          |  ETA: 0:00:01\u001b[39m\n",
      "\u001b[35mchain 4:  38%|███████████████▊                          |  ETA: 0:00:01\u001b[39m\n",
      "\u001b[34mchain 2:  40%|████████████████▋                         |  ETA: 0:00:01\u001b[39m\n",
      "\n",
      "\u001b[36mchain 1:  38%|████████████████                          |  ETA: 0:00:01\u001b[39m\n",
      "\u001b[32mchain 3:  42%|█████████████████▉                        |  ETA: 0:00:01\u001b[39m\n",
      "\n",
      "\n",
      "\u001b[34mchain 2:  45%|██████████████████▉                       |  ETA: 0:00:01\u001b[39m\n",
      "\u001b[35mchain 4:  43%|██████████████████                        |  ETA: 0:00:01\u001b[39m\n",
      "\n",
      "\u001b[36mchain 1:  44%|██████████████████▎                       |  ETA: 0:00:01\u001b[39m\n",
      "\u001b[32mchain 3:  48%|████████████████████▏                     |  ETA: 0:00:01\u001b[39m\n",
      "\n",
      "\u001b[35mchain 4:  48%|████████████████████▏                     |  ETA: 0:00:01\u001b[39m\n",
      "\u001b[34mchain 2:  50%|█████████████████████▎                    |  ETA: 0:00:01\u001b[39m\n",
      "\u001b[36mchain 1:  48%|████████████████████▍                     |  ETA: 0:00:01\u001b[39m\n",
      "\u001b[32mchain 3:  52%|██████████████████████                    |  ETA: 0:00:01\u001b[39m\n",
      "\n",
      "\u001b[35mchain 4:  53%|██████████████████████▎                   |  ETA: 0:00:01\u001b[39m\n",
      "\u001b[36mchain 1:  54%|██████████████████████▌                   |  ETA: 0:00:01\u001b[39m\n",
      "\n",
      "\u001b[34mchain 2:  56%|███████████████████████▌                  |  ETA: 0:00:01\u001b[39m\n",
      "\u001b[32mchain 3:  58%|████████████████████████▏                 |  ETA: 0:00:01\u001b[39m\n",
      "\u001b[35mchain 4:  58%|████████████████████████▍                 |  ETA: 0:00:01\u001b[39m\n",
      "\u001b[36mchain 1:  58%|████████████████████████▋                 |  ETA: 0:00:01\u001b[39m\n",
      "\u001b[34mchain 2:  61%|█████████████████████████▋                |  ETA: 0:00:01\u001b[39m\n",
      "\n",
      "\u001b[32mchain 3:  63%|██████████████████████████▌               |  ETA: 0:00:01\u001b[39m\n",
      "\n",
      "\u001b[35mchain 4:  64%|██████████████████████████▋               |  ETA: 0:00:01\u001b[39m\n",
      "\u001b[36mchain 1:  64%|██████████████████████████▉               |  ETA: 0:00:01\u001b[39m\n",
      "\u001b[34mchain 2:  66%|███████████████████████████▊              |  ETA: 0:00:01\u001b[39m\n",
      "\u001b[32mchain 3:  68%|████████████████████████████▌             |  ETA: 0:00:01\u001b[39m\n",
      "\u001b[35mchain 4:  69%|█████████████████████████████             |  ETA: 0:00:01\u001b[39m\n",
      "\u001b[36mchain 1:  69%|█████████████████████████████             |  ETA: 0:00:01\u001b[39m\n",
      "\u001b[34mchain 2:  72%|██████████████████████████████            |  ETA: 0:00:01\u001b[39m\n",
      "\u001b[32mchain 3:  74%|██████████████████████████████▉           |  ETA: 0:00:01\u001b[39m\n",
      "\u001b[35mchain 4:  74%|███████████████████████████████▏          |  ETA: 0:00:01\u001b[39m\n",
      "\n",
      "\u001b[36mchain 1:  75%|███████████████████████████████▌          |  ETA: 0:00:01\u001b[39m\n",
      "\u001b[34mchain 2:  77%|████████████████████████████████▍         |  ETA: 0:00:00\u001b[39m\n",
      "\n",
      "\n",
      "\u001b[32mchain 3:  78%|█████████████████████████████████         |  ETA: 0:00:00\u001b[39m\n",
      "\u001b[35mchain 4:  80%|█████████████████████████████████▍        |  ETA: 0:00:00\u001b[39m\n",
      "\u001b[36mchain 1:  80%|█████████████████████████████████▊        |  ETA: 0:00:00\u001b[39m\n",
      "\u001b[34mchain 2:  82%|██████████████████████████████████▋       |  ETA: 0:00:00\u001b[39m\n",
      "\u001b[32mchain 3:  84%|███████████████████████████████████▏      |  ETA: 0:00:00\u001b[39m\n",
      "\n",
      "\u001b[35mchain 4:  85%|███████████████████████████████████▊      |  ETA: 0:00:00\u001b[39m\n",
      "\u001b[36mchain 1:  86%|███████████████████████████████████▉      |  ETA: 0:00:00\u001b[39m\n",
      "\n",
      "\u001b[34mchain 2:  88%|█████████████████████████████████████     |  ETA: 0:00:00\u001b[39m\n",
      "\u001b[32mchain 3:  88%|█████████████████████████████████████▏    |  ETA: 0:00:00\u001b[39m\n",
      "\u001b[35mchain 4:  90%|█████████████████████████████████████▊    |  ETA: 0:00:00\u001b[39m\n",
      "\u001b[36mchain 1:  90%|██████████████████████████████████████    |  ETA: 0:00:00\u001b[39m\n",
      "\n",
      "\u001b[34mchain 2:  94%|███████████████████████████████████████▎  |  ETA: 0:00:00\u001b[39m\n",
      "\u001b[35mchain 4:  96%|████████████████████████████████████████▏ |  ETA: 0:00:00\u001b[39m\n",
      "\u001b[36mchain 1:  96%|████████████████████████████████████████▍ |  ETA: 0:00:00\u001b[39m\n",
      "\u001b[32mchain 3:  94%|███████████████████████████████████████▊  |  ETA: 0:00:00\u001b[39m\n",
      "\u001b[34mchain 2: 100%|██████████████████████████████████████████| Time: 0:00:01\u001b[39m\n",
      "\u001b[36mchain 1: 100%|██████████████████████████████████████████| Time: 0:00:02\u001b[39m\n",
      "\u001b[35mchain 4: 100%|██████████████████████████████████████████| Time: 0:00:02\u001b[39m\n",
      "\u001b[32mchain 3: 100%|██████████████████████████████████████████| Time: 0:00:02\u001b[39m\n"
     ]
    },
    {
     "data": {
      "text/plain": [
       "4-element Vector{Chains}:\n",
       " MCMC chain (30000×4×1 Array{Float64, 3})\n",
       " MCMC chain (30000×4×1 Array{Float64, 3})\n",
       " MCMC chain (30000×4×1 Array{Float64, 3})\n",
       " MCMC chain (30000×4×1 Array{Float64, 3})"
      ]
     },
     "execution_count": 27,
     "metadata": {},
     "output_type": "execute_result"
    }
   ],
   "source": [
    "new_samples = sample(\n",
    "    stat_model, MCHMC(varE_wanted=2.0), MCMCThreads(), 30000, 4;\n",
    "    monitor_energy=true, \n",
    "    dialog=true, \n",
    "    resume_from=samples)"
   ]
  },
  {
   "cell_type": "markdown",
   "id": "4aadd3b5",
   "metadata": {},
   "source": [
    "## NUTS"
   ]
  },
  {
   "cell_type": "code",
   "execution_count": 20,
   "id": "dcbe40a3",
   "metadata": {},
   "outputs": [
    {
     "name": "stderr",
     "output_type": "stream",
     "text": [
      "\u001b[36m\u001b[1m┌ \u001b[22m\u001b[39m\u001b[36m\u001b[1mInfo: \u001b[22m\u001b[39mFound initial step size\n",
      "\u001b[36m\u001b[1m└ \u001b[22m\u001b[39m  ϵ = 0.05\n",
      "\u001b[32mSampling: 100%|█████████████████████████████████████████| Time: 0:00:06\u001b[39m\n"
     ]
    },
    {
     "data": {
      "text/plain": [
       "Chains MCMC chain (10000×14×1 Array{Float64, 3}):\n",
       "\n",
       "Iterations        = 11:1:10010\n",
       "Number of chains  = 1\n",
       "Samples per chain = 10000\n",
       "Wall duration     = 9.55 seconds\n",
       "Compute duration  = 9.55 seconds\n",
       "parameters        = Ωm, σ8\n",
       "internals         = lp, n_steps, is_accept, acceptance_rate, log_density, hamiltonian_energy, hamiltonian_energy_error, max_hamiltonian_energy_error, tree_depth, numerical_error, step_size, nom_step_size\n",
       "\n",
       "Summary Statistics\n",
       " \u001b[1m parameters \u001b[0m \u001b[1m    mean \u001b[0m \u001b[1m     std \u001b[0m \u001b[1m naive_se \u001b[0m \u001b[1m    mcse \u001b[0m \u001b[1m       ess \u001b[0m \u001b[1m    rhat \u001b[0m \u001b[1m \u001b[0m ⋯\n",
       " \u001b[90m     Symbol \u001b[0m \u001b[90m Float64 \u001b[0m \u001b[90m Float64 \u001b[0m \u001b[90m  Float64 \u001b[0m \u001b[90m Float64 \u001b[0m \u001b[90m   Float64 \u001b[0m \u001b[90m Float64 \u001b[0m \u001b[90m \u001b[0m ⋯\n",
       "\n",
       "          Ωm    0.2335    0.0667     0.0007    0.0017   1455.0926    1.0003    ⋯\n",
       "          σ8    0.8696    0.0640     0.0006    0.0014   2013.0454    1.0003    ⋯\n",
       "\u001b[36m                                                                1 column omitted\u001b[0m\n",
       "\n",
       "Quantiles\n",
       " \u001b[1m parameters \u001b[0m \u001b[1m    2.5% \u001b[0m \u001b[1m   25.0% \u001b[0m \u001b[1m   50.0% \u001b[0m \u001b[1m   75.0% \u001b[0m \u001b[1m   97.5% \u001b[0m\n",
       " \u001b[90m     Symbol \u001b[0m \u001b[90m Float64 \u001b[0m \u001b[90m Float64 \u001b[0m \u001b[90m Float64 \u001b[0m \u001b[90m Float64 \u001b[0m \u001b[90m Float64 \u001b[0m\n",
       "\n",
       "          Ωm    0.1259    0.1851    0.2251    0.2738    0.3828\n",
       "          σ8    0.7565    0.8251    0.8653    0.9109    1.0072\n"
      ]
     },
     "execution_count": 20,
     "metadata": {},
     "output_type": "execute_result"
    }
   ],
   "source": [
    "samples_hmc = sample(stat_model, NUTS(10, 0.65),\n",
    "                     10000, progress=true; save_state=true)"
   ]
  },
  {
   "cell_type": "code",
   "execution_count": 21,
   "id": "623ba990",
   "metadata": {},
   "outputs": [
    {
     "data": {
      "text/plain": [
       "3-dimensional AxisArray{Float64,3,...} with axes:\n",
       "    :iter, 11:1:10010\n",
       "    :var, [:Ωm, :σ8, :lp, :n_steps, :is_accept, :acceptance_rate, :log_density, :hamiltonian_energy, :hamiltonian_energy_error, :max_hamiltonian_energy_error, :tree_depth, :numerical_error, :step_size, :nom_step_size]\n",
       "    :chain, 1:1\n",
       "And data, a 10000×14×1 Array{Float64, 3}:\n",
       "[:, :, 1] =\n",
       " 0.227798  0.84025   16.1292  31.0  1.0  …  4.0  0.0  0.0487068  0.0487068\n",
       " 0.258169  0.834177  16.1515  19.0  1.0     4.0  0.0  0.0487068  0.0487068\n",
       " 0.205094  0.868628  16.2104  23.0  1.0     4.0  0.0  0.0487068  0.0487068\n",
       " 0.207729  0.853398  16.0517  11.0  1.0     3.0  0.0  0.0487068  0.0487068\n",
       " 0.212726  0.910959  15.8526   3.0  1.0     2.0  0.0  0.0487068  0.0487068\n",
       " 0.21327   0.924055  15.4529   3.0  1.0  …  2.0  0.0  0.0487068  0.0487068\n",
       " 0.19658   0.877859  16.164   13.0  1.0     3.0  0.0  0.0487068  0.0487068\n",
       " 0.19658   0.877859  16.164    1.0  1.0     1.0  0.0  0.0487068  0.0487068\n",
       " 0.20096   0.905464  16.1046   9.0  1.0     3.0  0.0  0.0487068  0.0487068\n",
       " 0.167887  0.899319  15.6534  17.0  1.0     4.0  0.0  0.0487068  0.0487068\n",
       " 0.210043  0.918554  15.7043  27.0  1.0  …  4.0  0.0  0.0487068  0.0487068\n",
       " 0.194745  0.870558  16.0513  11.0  1.0     3.0  0.0  0.0487068  0.0487068\n",
       " 0.188028  0.905556  16.101    7.0  1.0     2.0  0.0  0.0487068  0.0487068\n",
       " ⋮                                       ⋱  ⋮                    \n",
       " 0.276484  0.815373  15.9129  31.0  1.0     5.0  0.0  0.0487068  0.0487068\n",
       " 0.173254  0.919668  15.883   23.0  1.0     4.0  0.0  0.0487068  0.0487068\n",
       " 0.254935  0.874833  15.8475  21.0  1.0  …  4.0  0.0  0.0487068  0.0487068\n",
       " 0.16549   0.847117  13.9559  23.0  1.0     4.0  0.0  0.0487068  0.0487068\n",
       " 0.352351  0.851981  13.5189  25.0  1.0     4.0  0.0  0.0487068  0.0487068\n",
       " 0.328872  0.742756  13.7071  29.0  1.0     4.0  0.0  0.0487068  0.0487068\n",
       " 0.343754  0.86029   13.4524  15.0  1.0     3.0  0.0  0.0487068  0.0487068\n",
       " 0.358344  0.731755  13.1908  11.0  1.0  …  3.0  0.0  0.0487068  0.0487068\n",
       " 0.270464  0.825002  16.0336  31.0  1.0     4.0  0.0  0.0487068  0.0487068\n",
       " 0.165361  0.907012  15.6493  31.0  1.0     4.0  0.0  0.0487068  0.0487068\n",
       " 0.186365  0.891815  16.082   11.0  1.0     3.0  0.0  0.0487068  0.0487068\n",
       " 0.185243  0.92322   15.9188   3.0  1.0     2.0  0.0  0.0487068  0.0487068"
      ]
     },
     "execution_count": 21,
     "metadata": {},
     "output_type": "execute_result"
    }
   ],
   "source": [
    "samples_hmc.value"
   ]
  },
  {
   "cell_type": "code",
   "execution_count": 22,
   "id": "fa9db828",
   "metadata": {},
   "outputs": [],
   "source": [
    "Wms_hmc = vec(samples_hmc[\"Ωm\"])\n",
    "s8s_hmc = vec(samples_hmc[\"σ8\"]);"
   ]
  },
  {
   "cell_type": "code",
   "execution_count": 23,
   "id": "3d063a52",
   "metadata": {},
   "outputs": [
    {
     "data": {
      "image/png": "[encoded data removed]",
      "text/plain": [
       "Figure(PyObject <Figure size 640x480 with 1 Axes>)"
      ]
     },
     "metadata": {},
     "output_type": "display_data"
    }
   ],
   "source": [
    "plt.hist2d(Wms_hmc, s8s_hmc, bins=100, range=[[0.1, 0.4],[0.6, 1.2]]);\n",
    "plt.xlabel(\"Wm\")\n",
    "plt.ylabel(\"s8\")\n",
    "plt.title(\"NUTS - RSD model\");"
   ]
  }
 ],
 "metadata": {
  "kernelspec": {
   "display_name": "Julia_1.9 (5 threads) 1.9.0-beta3",
   "language": "julia",
   "name": "julia_1.9-_5-threads_-1.9"
  },
  "language_info": {
   "file_extension": ".jl",
   "mimetype": "application/julia",
   "name": "julia",
   "version": "1.9.0"
  }
 },
 "nbformat": 4,
 "nbformat_minor": 5
}
