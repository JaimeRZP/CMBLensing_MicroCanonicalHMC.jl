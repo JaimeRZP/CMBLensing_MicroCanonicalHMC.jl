{
 "cells": [
  {
   "cell_type": "markdown",
   "id": "91129cb1",
   "metadata": {},
   "source": [
    "# Turing Target Practice"
   ]
  },
  {
   "cell_type": "markdown",
   "id": "97121235",
   "metadata": {},
   "source": [
    "## Model"
   ]
  },
  {
   "cell_type": "code",
   "execution_count": 1,
   "id": "86b96c9e",
   "metadata": {},
   "outputs": [
    {
     "name": "stderr",
     "output_type": "stream",
     "text": [
      "\u001b[32m\u001b[1m  Activating\u001b[22m\u001b[39m project at `~/PhD/MCHMC.jl`\n"
     ]
    }
   ],
   "source": [
    "] activate \".\""
   ]
  },
  {
   "cell_type": "code",
   "execution_count": 2,
   "id": "baed58e3",
   "metadata": {},
   "outputs": [
    {
     "name": "stderr",
     "output_type": "stream",
     "text": [
      "\u001b[36m\u001b[1m[ \u001b[22m\u001b[39m\u001b[36m\u001b[1mInfo: \u001b[22m\u001b[39mPrecompiling MCHMC [92da4d09-9da0-4f8a-8b31-da41ef0ab6ee]\n"
     ]
    }
   ],
   "source": [
    "# The statistical inference frame-work we will use\n",
    "using Turing\n",
    "using Interpolations\n",
    "using ForwardDiff\n",
    "using LinearAlgebra\n",
    "using PyPlot\n",
    "\n",
    "using Revise\n",
    "using MCHMC"
   ]
  },
  {
   "cell_type": "code",
   "execution_count": 3,
   "id": "a7d6f81c",
   "metadata": {},
   "outputs": [],
   "source": [
    "fs8_zs = [0.38, 0.51, 0.61, 1.48, 0.44, 0.6, 0.73, 0.6, 0.86, 0.067, 1.4]\n",
    "fs8_data = [0.49749, 0.457523, 0.436148, 0.462, 0.413, 0.39, 0.437, 0.55, 0.4, 0.423, 0.482]\n",
    "fs8_cov = [0.00203355 0.000811829 0.000264615 0.0 0.0 0.0 0.0 0.0 0.0 0.0 0.0;\n",
    "           0.000811829 0.00142289 0.000662824 0.0 0.0 0.0 0.0 0.0 0.0 0.0 0.0; \n",
    "           0.000264615 0.000662824 0.00118576 0.0 0.0 0.0 0.0 0.0 0.0 0.0 0.0;\n",
    "           0.0 0.0 0.0 0.002025 0.0 0.0 0.0 0.0 0.0 0.0 0.0;\n",
    "           0.0 0.0 0.0 0.0 0.0064 0.00257 0.0 0.0 0.0 0.0 0.0;\n",
    "           0.0 0.0 0.0 0.0 0.00257 0.003969 0.00254 0.0 0.0 0.0 0.0;\n",
    "           0.0 0.0 0.0 0.0 0.0 0.00254 0.005184 0.0 0.0 0.0 0.0;\n",
    "           0.0 0.0 0.0 0.0 0.0 0.0 0.0 0.0144 0.0 0.0 0.0;\n",
    "           0.0 0.0 0.0 0.0 0.0 0.0 0.0 0.0 0.0121 0.0 0.0; \n",
    "           0.0 0.0 0.0 0.0 0.0 0.0 0.0 0.0 0.0 0.003025 0.0;\n",
    "           0.0 0.0 0.0 0.0 0.0 0.0 0.0 0.0 0.0 0.0 0.013456000000000001];"
   ]
  },
  {
   "cell_type": "code",
   "execution_count": 4,
   "id": "1359a630",
   "metadata": {
    "code_folding": []
   },
   "outputs": [
    {
     "data": {
      "text/plain": [
       "make_fs8 (generic function with 1 method)"
      ]
     },
     "execution_count": 4,
     "metadata": {},
     "output_type": "execute_result"
    }
   ],
   "source": [
    "function make_fs8(Ωm, σ8; Ωr=8.24*10^-5)\n",
    "    # ODE solution for growth factor\n",
    "    x_Dz = LinRange(0, log(1+1100), 300)\n",
    "    dx_Dz = x_Dz[2]-x_Dz[1]\n",
    "    z_Dz = @.(exp(x_Dz) - 1)\n",
    "    a_Dz = @.(1/(1+z_Dz))\n",
    "    aa = reverse(a_Dz)\n",
    "    e =  @.(sqrt.(abs(Ωm)*(1+z_Dz)^3+Ωr*(1+z_Dz)^4+(1-Ωm-Ωr)))\n",
    "    ee = reverse(e)\n",
    "\n",
    "    dd = zeros(typeof(Ωm), 300)\n",
    "    yy = zeros(typeof(Ωm), 300)\n",
    "    dd[1] = aa[1]\n",
    "    yy[1] = aa[1]^3*ee[end]\n",
    "\n",
    "    for i in 1:(300-1)\n",
    "        A0 = -1.5 * Ωm / (aa[i]*ee[i])\n",
    "        B0 = -1. / (aa[i]^2*ee[i])\n",
    "        A1 = -1.5 * Ωm / (aa[i+1]*ee[i+1])\n",
    "        B1 = -1. / (aa[i+1]^2*ee[i+1])\n",
    "        yy[i+1] = (1+0.5*dx_Dz^2*A0*B0)*yy[i] + 0.5*(A0+A1)*dx_Dz*dd[i]\n",
    "        dd[i+1] = 0.5*(B0+B1)*dx_Dz*yy[i] + (1+0.5*dx_Dz^2*A0*B0)*dd[i]\n",
    "    end\n",
    "\n",
    "    y = reverse(yy)\n",
    "    d = reverse(dd)\n",
    "\n",
    "    Dzi = LinearInterpolation(z_Dz, d./d[1], extrapolation_bc=Line())\n",
    "    fs8zi = LinearInterpolation(z_Dz, -σ8 .* y./ (a_Dz.^2 .*e.*d[1]),\n",
    "                                 extrapolation_bc=Line())\n",
    "    return fs8zi\n",
    "end"
   ]
  },
  {
   "cell_type": "code",
   "execution_count": 5,
   "id": "8005e277",
   "metadata": {},
   "outputs": [],
   "source": [
    "@model function model(data; cov = fs8_cov) \n",
    "    # Define priors\n",
    "    #KiDS priors\n",
    "    Ωm ~ Normal(0.3, 0.1)\n",
    "    σ8 ~ Normal(0.8, 0.3)\n",
    "    fs8_itp = make_fs8(Ωm, σ8)\n",
    "    theory = fs8_itp(fs8_zs)\n",
    "    data ~ MvNormal(theory, cov)\n",
    "end;"
   ]
  },
  {
   "cell_type": "code",
   "execution_count": 6,
   "id": "1eebe796",
   "metadata": {},
   "outputs": [
    {
     "data": {
      "text/plain": [
       "DynamicPPL.Model{typeof(model), (:data, :cov), (:cov,), (), Tuple{Vector{Float64}, Matrix{Float64}}, Tuple{Matrix{Float64}}, DynamicPPL.DefaultContext}(model, (data = [0.49749, 0.457523, 0.436148, 0.462, 0.413, 0.39, 0.437, 0.55, 0.4, 0.423, 0.482], cov = [0.00203355 0.000811829 … 0.0 0.0; 0.000811829 0.00142289 … 0.0 0.0; … ; 0.0 0.0 … 0.003025 0.0; 0.0 0.0 … 0.0 0.013456000000000001]), (cov = [0.00203355 0.000811829 … 0.0 0.0; 0.000811829 0.00142289 … 0.0 0.0; … ; 0.0 0.0 … 0.003025 0.0; 0.0 0.0 … 0.0 0.013456000000000001],), DynamicPPL.DefaultContext())"
      ]
     },
     "execution_count": 6,
     "metadata": {},
     "output_type": "execute_result"
    }
   ],
   "source": [
    "stat_model = model(fs8_data)"
   ]
  },
  {
   "cell_type": "markdown",
   "id": "10dfa4cc",
   "metadata": {},
   "source": [
    "## Sampling"
   ]
  },
  {
   "cell_type": "code",
   "execution_count": 7,
   "id": "c8ed14a3",
   "metadata": {},
   "outputs": [],
   "source": [
    "target = TuringTarget(stat_model);"
   ]
  },
  {
   "cell_type": "code",
   "execution_count": 8,
   "id": "a79c2b35",
   "metadata": {},
   "outputs": [
    {
     "data": {
      "text/plain": [
       "Sampler(Settings(Random.MersenneTwister(0), 2.0, 0, 1000, 10, \"LF\"), Hyperparameters{Float64}(0.0, 0.014142135623730952, 0.0, 0.1931833275037836), MCHMC.Leapfrog)"
      ]
     },
     "execution_count": 8,
     "metadata": {},
     "output_type": "execute_result"
    }
   ],
   "source": [
    "mchmc = Sampler(0.0, sqrt(target.d)*0.01, varE_wanted=2.0)"
   ]
  },
  {
   "cell_type": "code",
   "execution_count": 9,
   "id": "82938e27",
   "metadata": {
    "scrolled": true
   },
   "outputs": [
    {
     "name": "stderr",
     "output_type": "stream",
     "text": [
      "\u001b[36m\u001b[1m[ \u001b[22m\u001b[39m\u001b[36m\u001b[1mInfo: \u001b[22m\u001b[39mTuning eps ⏳\n"
     ]
    },
    {
     "name": "stdout",
     "output_type": "stream",
     "text": [
      "eps: 0.5 --> VarE: NaN\n",
      "eps: 0.25 --> VarE: 34.83562307649745\n",
      "eps: 0.125 --> VarE: 42.51340333088257\n",
      "eps: 0.0625 --> VarE: 10.611844953344532\n",
      "eps: 0.03125 --> VarE: 3.5875473832850746\n",
      "eps: 0.015625 --> VarE: 1.542419024646851\n"
     ]
    },
    {
     "name": "stderr",
     "output_type": "stream",
     "text": [
      "\u001b[36m\u001b[1m[ \u001b[22m\u001b[39m\u001b[36m\u001b[1mInfo: \u001b[22m\u001b[39mFound eps ✅\n"
     ]
    },
    {
     "data": {
      "text/html": [
       "<div><div style = \"float: left;\"><span>10001×2 DataFrame</span></div><div style = \"float: right;\"><span style = \"font-style: italic;\">9976 rows omitted</span></div><div style = \"clear: both;\"></div></div><div class = \"data-frame\" style = \"overflow-x: scroll;\"><table class = \"data-frame\" style = \"margin-bottom: 6px;\"><thead><tr class = \"header\"><th class = \"rowNumber\" style = \"font-weight: bold; text-align: right;\">Row</th><th style = \"text-align: left;\">Ω</th><th style = \"text-align: left;\">stats</th></tr><tr class = \"subheader headerLastRow\"><th class = \"rowNumber\" style = \"font-weight: bold; text-align: right;\"></th><th title = \"Any\" style = \"text-align: left;\">Any</th><th title = \"Any\" style = \"text-align: left;\">Any</th></tr></thead><tbody><tr><td class = \"rowNumber\" style = \"font-weight: bold; text-align: right;\">1</td><td style = \"text-align: left;\">[0.216364, 0.425911]</td><td style = \"text-align: left;\">[0.0, -50.433]</td></tr><tr><td class = \"rowNumber\" style = \"font-weight: bold; text-align: right;\">2</td><td style = \"text-align: left;\">[0.216364, 0.425911]</td><td style = \"text-align: left;\">[5.14237, -45.2523]</td></tr><tr><td class = \"rowNumber\" style = \"font-weight: bold; text-align: right;\">3</td><td style = \"text-align: left;\">[0.222778, 0.440159]</td><td style = \"text-align: left;\">[12.5688, -40.458]</td></tr><tr><td class = \"rowNumber\" style = \"font-weight: bold; text-align: right;\">4</td><td style = \"text-align: left;\">[0.224469, 0.455692]</td><td style = \"text-align: left;\">[9.88917, -35.772]</td></tr><tr><td class = \"rowNumber\" style = \"font-weight: bold; text-align: right;\">5</td><td style = \"text-align: left;\">[0.23376, 0.468255]</td><td style = \"text-align: left;\">[7.70979, -32.3097]</td></tr><tr><td class = \"rowNumber\" style = \"font-weight: bold; text-align: right;\">6</td><td style = \"text-align: left;\">[0.247709, 0.475295]</td><td style = \"text-align: left;\">[7.52658, -27.8689]</td></tr><tr><td class = \"rowNumber\" style = \"font-weight: bold; text-align: right;\">7</td><td style = \"text-align: left;\">[0.254914, 0.48916]</td><td style = \"text-align: left;\">[12.5671, -23.5906]</td></tr><tr><td class = \"rowNumber\" style = \"font-weight: bold; text-align: right;\">8</td><td style = \"text-align: left;\">[0.260743, 0.503657]</td><td style = \"text-align: left;\">[8.44804, -22.3984]</td></tr><tr><td class = \"rowNumber\" style = \"font-weight: bold; text-align: right;\">9</td><td style = \"text-align: left;\">[0.248317, 0.513129]</td><td style = \"text-align: left;\">[2.17077, -18.9701]</td></tr><tr><td class = \"rowNumber\" style = \"font-weight: bold; text-align: right;\">10</td><td style = \"text-align: left;\">[0.245521, 0.528502]</td><td style = \"text-align: left;\">[3.55166, -22.3223]</td></tr><tr><td class = \"rowNumber\" style = \"font-weight: bold; text-align: right;\">11</td><td style = \"text-align: left;\">[0.248833, 0.513232]</td><td style = \"text-align: left;\">[-0.386987, -18.2906]</td></tr><tr><td class = \"rowNumber\" style = \"font-weight: bold; text-align: right;\">12</td><td style = \"text-align: left;\">[0.25352, 0.528137]</td><td style = \"text-align: left;\">[10.277, -14.6521]</td></tr><tr><td class = \"rowNumber\" style = \"font-weight: bold; text-align: right;\">13</td><td style = \"text-align: left;\">[0.263499, 0.54016]</td><td style = \"text-align: left;\">[7.6065, -11.401]</td></tr><tr><td style = \"text-align: right;\">&vellip;</td><td style = \"text-align: right;\">&vellip;</td><td style = \"text-align: right;\">&vellip;</td></tr><tr><td class = \"rowNumber\" style = \"font-weight: bold; text-align: right;\">9990</td><td style = \"text-align: left;\">[0.242311, 0.860277]</td><td style = \"text-align: left;\">[-0.0488162, 18.8552]</td></tr><tr><td class = \"rowNumber\" style = \"font-weight: bold; text-align: right;\">9991</td><td style = \"text-align: left;\">[0.231951, 0.871974]</td><td style = \"text-align: left;\">[-0.124938, 18.8236]</td></tr><tr><td class = \"rowNumber\" style = \"font-weight: bold; text-align: right;\">9992</td><td style = \"text-align: left;\">[0.217462, 0.866124]</td><td style = \"text-align: left;\">[-0.344314, 18.5488]</td></tr><tr><td class = \"rowNumber\" style = \"font-weight: bold; text-align: right;\">9993</td><td style = \"text-align: left;\">[0.201839, 0.865839]</td><td style = \"text-align: left;\">[-1.17207, 17.9316]</td></tr><tr><td class = \"rowNumber\" style = \"font-weight: bold; text-align: right;\">9994</td><td style = \"text-align: left;\">[0.187989, 0.858607]</td><td style = \"text-align: left;\">[-0.62007, 18.5465]</td></tr><tr><td class = \"rowNumber\" style = \"font-weight: bold; text-align: right;\">9995</td><td style = \"text-align: left;\">[0.20117, 0.866996]</td><td style = \"text-align: left;\">[1.32542, 18.6423]</td></tr><tr><td class = \"rowNumber\" style = \"font-weight: bold; text-align: right;\">9996</td><td style = \"text-align: left;\">[0.211818, 0.855561]</td><td style = \"text-align: left;\">[0.426122, 18.8826]</td></tr><tr><td class = \"rowNumber\" style = \"font-weight: bold; text-align: right;\">9997</td><td style = \"text-align: left;\">[0.227058, 0.859009]</td><td style = \"text-align: left;\">[0.416044, 18.8078]</td></tr><tr><td class = \"rowNumber\" style = \"font-weight: bold; text-align: right;\">9998</td><td style = \"text-align: left;\">[0.231178, 0.843937]</td><td style = \"text-align: left;\">[-0.299601, 18.6329]</td></tr><tr><td class = \"rowNumber\" style = \"font-weight: bold; text-align: right;\">9999</td><td style = \"text-align: left;\">[0.235819, 0.829017]</td><td style = \"text-align: left;\">[-0.549509, 18.3962]</td></tr><tr><td class = \"rowNumber\" style = \"font-weight: bold; text-align: right;\">10000</td><td style = \"text-align: left;\">[0.242061, 0.814693]</td><td style = \"text-align: left;\">[-0.7862, 18.0233]</td></tr><tr><td class = \"rowNumber\" style = \"font-weight: bold; text-align: right;\">10001</td><td style = \"text-align: left;\">[0.226436, 0.814657]</td><td style = \"text-align: left;\">[-0.174083, 18.5709]</td></tr></tbody></table></div>"
      ],
      "text/latex": [
       "\\begin{tabular}{r|cc}\n",
       "\t& Ω & stats\\\\\n",
       "\t\\hline\n",
       "\t& Any & Any\\\\\n",
       "\t\\hline\n",
       "\t1 & [0.216364, 0.425911] & [0.0, -50.433] \\\\\n",
       "\t2 & [0.216364, 0.425911] & [5.14237, -45.2523] \\\\\n",
       "\t3 & [0.222778, 0.440159] & [12.5688, -40.458] \\\\\n",
       "\t4 & [0.224469, 0.455692] & [9.88917, -35.772] \\\\\n",
       "\t5 & [0.23376, 0.468255] & [7.70979, -32.3097] \\\\\n",
       "\t6 & [0.247709, 0.475295] & [7.52658, -27.8689] \\\\\n",
       "\t7 & [0.254914, 0.48916] & [12.5671, -23.5906] \\\\\n",
       "\t8 & [0.260743, 0.503657] & [8.44804, -22.3984] \\\\\n",
       "\t9 & [0.248317, 0.513129] & [2.17077, -18.9701] \\\\\n",
       "\t10 & [0.245521, 0.528502] & [3.55166, -22.3223] \\\\\n",
       "\t11 & [0.248833, 0.513232] & [-0.386987, -18.2906] \\\\\n",
       "\t12 & [0.25352, 0.528137] & [10.277, -14.6521] \\\\\n",
       "\t13 & [0.263499, 0.54016] & [7.6065, -11.401] \\\\\n",
       "\t14 & [0.26175, 0.555687] & [5.69214, -8.7653] \\\\\n",
       "\t15 & [0.256576, 0.570431] & [6.56067, -5.46805] \\\\\n",
       "\t16 & [0.260554, 0.585541] & [9.24416, -2.39862] \\\\\n",
       "\t17 & [0.268722, 0.598861] & [6.79428, -0.319272] \\\\\n",
       "\t18 & [0.282856, 0.605522] & [4.78599, 2.15873] \\\\\n",
       "\t19 & [0.293544, 0.616919] & [6.82887, 4.67628] \\\\\n",
       "\t20 & [0.298507, 0.631735] & [7.32829, 6.97623] \\\\\n",
       "\t21 & [0.302472, 0.646849] & [3.84885, 5.59829] \\\\\n",
       "\t22 & [0.311804, 0.634316] & [-0.523477, 7.56873] \\\\\n",
       "\t23 & [0.32191, 0.646233] & [5.12068, 9.37364] \\\\\n",
       "\t24 & [0.331325, 0.658703] & [1.83718, 7.58507] \\\\\n",
       "\t25 & [0.321678, 0.646412] & [-2.73767, 8.61634] \\\\\n",
       "\t26 & [0.310451, 0.657279] & [3.50279, 10.5191] \\\\\n",
       "\t27 & [0.314393, 0.672398] & [5.24678, 12.1005] \\\\\n",
       "\t28 & [0.312337, 0.687887] & [4.28207, 13.4621] \\\\\n",
       "\t29 & [0.321642, 0.700439] & [1.57306, 12.2426] \\\\\n",
       "\t30 & [0.327704, 0.686038] & [-3.9079, 10.5955] \\\\\n",
       "\t$\\dots$ & $\\dots$ & $\\dots$ \\\\\n",
       "\\end{tabular}\n"
      ],
      "text/plain": [
       "\u001b[1m10001×2 DataFrame\u001b[0m\n",
       "\u001b[1m   Row \u001b[0m│\u001b[1m Ω                    \u001b[0m\u001b[1m stats                 \u001b[0m\n",
       "       │\u001b[90m Any                  \u001b[0m\u001b[90m Any                   \u001b[0m\n",
       "───────┼─────────────────────────────────────────────\n",
       "     1 │ [0.216364, 0.425911]  [0.0, -50.433]\n",
       "     2 │ [0.216364, 0.425911]  [5.14237, -45.2523]\n",
       "     3 │ [0.222778, 0.440159]  [12.5688, -40.458]\n",
       "     4 │ [0.224469, 0.455692]  [9.88917, -35.772]\n",
       "     5 │ [0.23376, 0.468255]   [7.70979, -32.3097]\n",
       "     6 │ [0.247709, 0.475295]  [7.52658, -27.8689]\n",
       "     7 │ [0.254914, 0.48916]   [12.5671, -23.5906]\n",
       "     8 │ [0.260743, 0.503657]  [8.44804, -22.3984]\n",
       "     9 │ [0.248317, 0.513129]  [2.17077, -18.9701]\n",
       "    10 │ [0.245521, 0.528502]  [3.55166, -22.3223]\n",
       "    11 │ [0.248833, 0.513232]  [-0.386987, -18.2906]\n",
       "   ⋮   │          ⋮                      ⋮\n",
       "  9992 │ [0.217462, 0.866124]  [-0.344314, 18.5488]\n",
       "  9993 │ [0.201839, 0.865839]  [-1.17207, 17.9316]\n",
       "  9994 │ [0.187989, 0.858607]  [-0.62007, 18.5465]\n",
       "  9995 │ [0.20117, 0.866996]   [1.32542, 18.6423]\n",
       "  9996 │ [0.211818, 0.855561]  [0.426122, 18.8826]\n",
       "  9997 │ [0.227058, 0.859009]  [0.416044, 18.8078]\n",
       "  9998 │ [0.231178, 0.843937]  [-0.299601, 18.6329]\n",
       "  9999 │ [0.235819, 0.829017]  [-0.549509, 18.3962]\n",
       " 10000 │ [0.242061, 0.814693]  [-0.7862, 18.0233]\n",
       " 10001 │ [0.226436, 0.814657]  [-0.174083, 18.5709]\n",
       "\u001b[36m                                    9980 rows omitted\u001b[0m"
      ]
     },
     "execution_count": 9,
     "metadata": {},
     "output_type": "execute_result"
    }
   ],
   "source": [
    "samples_mchmc = Sample(mchmc, target, 10000;\n",
    "                       monitor_energy=true, \n",
    "                       dialog=true)"
   ]
  },
  {
   "cell_type": "code",
   "execution_count": 10,
   "id": "9982a5de",
   "metadata": {},
   "outputs": [
    {
     "ename": "LoadError",
     "evalue": "ArgumentError: column name \"E\" not found in the data frame; existing most similar names are: \"Ω\"",
     "output_type": "error",
     "traceback": [
      "ArgumentError: column name \"E\" not found in the data frame; existing most similar names are: \"Ω\"",
      "",
      "Stacktrace:",
      " [1] lookupname",
      "   @ ~/.julia/packages/DataFrames/dgZn3/src/other/index.jl:399 [inlined]",
      " [2] getindex",
      "   @ ~/.julia/packages/DataFrames/dgZn3/src/other/index.jl:405 [inlined]",
      " [3] getindex(df::DataFrames.DataFrame, #unused#::typeof(!), col_ind::Symbol)",
      "   @ DataFrames ~/.julia/packages/DataFrames/dgZn3/src/dataframe/dataframe.jl:551",
      " [4] getproperty(df::DataFrames.DataFrame, col_ind::Symbol)",
      "   @ DataFrames ~/.julia/packages/DataFrames/dgZn3/src/abstractdataframe/abstractdataframe.jl:424",
      " [5] top-level scope",
      "   @ In[10]:1"
     ]
    }
   ],
   "source": [
    "plt.plot(samples_mchmc.E[8000:end])"
   ]
  },
  {
   "cell_type": "code",
   "execution_count": 11,
   "id": "f966c9fb",
   "metadata": {},
   "outputs": [
    {
     "ename": "LoadError",
     "evalue": "ArgumentError: column name \"E\" not found in the data frame; existing most similar names are: \"Ω\"",
     "output_type": "error",
     "traceback": [
      "ArgumentError: column name \"E\" not found in the data frame; existing most similar names are: \"Ω\"",
      "",
      "Stacktrace:",
      " [1] lookupname",
      "   @ ~/.julia/packages/DataFrames/dgZn3/src/other/index.jl:399 [inlined]",
      " [2] getindex",
      "   @ ~/.julia/packages/DataFrames/dgZn3/src/other/index.jl:405 [inlined]",
      " [3] getindex(df::DataFrames.DataFrame, #unused#::typeof(!), col_ind::Symbol)",
      "   @ DataFrames ~/.julia/packages/DataFrames/dgZn3/src/dataframe/dataframe.jl:551",
      " [4] getproperty(df::DataFrames.DataFrame, col_ind::Symbol)",
      "   @ DataFrames ~/.julia/packages/DataFrames/dgZn3/src/abstractdataframe/abstractdataframe.jl:424",
      " [5] top-level scope",
      "   @ In[11]:1"
     ]
    }
   ],
   "source": [
    "mean(samples_mchmc.E[8000:end])"
   ]
  },
  {
   "cell_type": "code",
   "execution_count": 12,
   "id": "999faaf8",
   "metadata": {},
   "outputs": [
    {
     "ename": "LoadError",
     "evalue": "ArgumentError: column name \"E\" not found in the data frame; existing most similar names are: \"Ω\"",
     "output_type": "error",
     "traceback": [
      "ArgumentError: column name \"E\" not found in the data frame; existing most similar names are: \"Ω\"",
      "",
      "Stacktrace:",
      " [1] lookupname",
      "   @ ~/.julia/packages/DataFrames/dgZn3/src/other/index.jl:399 [inlined]",
      " [2] getindex",
      "   @ ~/.julia/packages/DataFrames/dgZn3/src/other/index.jl:405 [inlined]",
      " [3] getindex(df::DataFrames.DataFrame, #unused#::typeof(!), col_ind::Symbol)",
      "   @ DataFrames ~/.julia/packages/DataFrames/dgZn3/src/dataframe/dataframe.jl:551",
      " [4] getproperty(df::DataFrames.DataFrame, col_ind::Symbol)",
      "   @ DataFrames ~/.julia/packages/DataFrames/dgZn3/src/abstractdataframe/abstractdataframe.jl:424",
      " [5] top-level scope",
      "   @ In[12]:1"
     ]
    }
   ],
   "source": [
    "std(samples_mchmc.E[8000:end])^2/target.d"
   ]
  },
  {
   "cell_type": "code",
   "execution_count": 13,
   "id": "385a8b1a",
   "metadata": {},
   "outputs": [],
   "source": [
    "Wms_mchmc = [sample[1] for sample in samples_mchmc.Ω]\n",
    "s8s_mchmc = [sample[2] for sample in samples_mchmc.Ω];"
   ]
  },
  {
   "cell_type": "code",
   "execution_count": 14,
   "id": "2a803eb8",
   "metadata": {},
   "outputs": [
    {
     "data": {
      "image/png": "[encoded data removed]",
      "text/plain": [
       "Figure(PyObject <Figure size 640x480 with 1 Axes>)"
      ]
     },
     "metadata": {},
     "output_type": "display_data"
    }
   ],
   "source": [
    "plt.hist2d(Wms_mchmc, s8s_mchmc, bins=100, range=[[0.1, 0.4],[0.6, 1.2]]);\n",
    "plt.xlabel(\"Wm\")\n",
    "plt.ylabel(\"s8\")\n",
    "plt.title(\"MCHMC - RSD model - eps = 0.001 --> var[E]~0.00003\");"
   ]
  },
  {
   "cell_type": "markdown",
   "id": "021c3128",
   "metadata": {},
   "source": [
    "## AbstractMCMC"
   ]
  },
  {
   "cell_type": "code",
   "execution_count": 15,
   "id": "18ba8e39",
   "metadata": {},
   "outputs": [
    {
     "data": {
      "text/plain": [
       "Sampler(Settings(Random.MersenneTwister(0), 2.0, 0, 1000, 10, \"LF\"), Hyperparameters{Float64}(0.0, 0.014142135623730952, 0.0, 0.1931833275037836), MCHMC.Leapfrog)"
      ]
     },
     "execution_count": 15,
     "metadata": {},
     "output_type": "execute_result"
    }
   ],
   "source": [
    "mchmc = Sampler(0.0, sqrt(target.d)*0.01, varE_wanted=2.0)"
   ]
  },
  {
   "cell_type": "code",
   "execution_count": 20,
   "id": "7f1081e2",
   "metadata": {},
   "outputs": [
    {
     "name": "stdout",
     "output_type": "stream",
     "text": [
      "Using given hyperparameters\n"
     ]
    },
    {
     "name": "stderr",
     "output_type": "stream",
     "text": [
      "\u001b[32mSampling: 100%|█████████████████████████████████████████| Time: 0:00:00\u001b[39m\n"
     ]
    },
    {
     "data": {
      "text/plain": [
       "10000-element Vector{Tuple{Vector{Float64}, Vector{Float64}}}:\n",
       " ([0.13754466541487348, 0.7963465741380666], [0.0, 8.831153012414545])\n",
       " ([0.13754466541487348, 0.7963465741380666], [1.9634465283271467, 13.93250893740241])\n",
       " ([0.16232041057623137, 0.8153919135075672], [9.786332715104866, 17.011538628971675])\n",
       " ([0.1909990622659477, 0.8278055123918526], [7.32573075995742, 18.568925116602635])\n",
       " ([0.218828427222422, 0.8420213115645816], [1.7449234772654414, 17.080936386468185])\n",
       " ([0.1893592686582426, 0.8316226965837655], [-2.7891256775086894, 17.6460280759011])\n",
       " ([0.18047189455590795, 0.8615822873948089], [0.5238668337430887, 18.03616297282658])\n",
       " ([0.17553017977262064, 0.8924390849441438], [0.5873286458243605, 18.51993547232737])\n",
       " ([0.19825620428726845, 0.8709893691008133], [1.01903760397661, 18.86908597265919])\n",
       " ([0.22628056682177966, 0.857161946906699], [-0.06526624972726935, 18.106103110393857])\n",
       " ([0.19525136479272392, 0.8534536964512895], [-1.3152472660301768, 18.586885725860146])\n",
       " ([0.19688497335214966, 0.8846609684095138], [0.6835131550659739, 18.541124546523516])\n",
       " ([0.2076249485593887, 0.8553144961760768], [-0.00599849749444914, 18.43683531609062])\n",
       " ⋮\n",
       " ([0.20258446700877547, 0.8834089666767329], [0.5031172854065744, 18.43569354383661])\n",
       " ([0.23072795520749048, 0.8969922863007713], [-1.4789211426865734, 17.030978109024954])\n",
       " ([0.2576025968769113, 0.9129395787085824], [-4.767875872053882, 14.46348939675787])\n",
       " ([0.27104913842987916, 0.9411486733460271], [-4.723797297031572, 16.165010513402986])\n",
       " ([0.2398002786142048, 0.9414156194460763], [3.1623266710910904, 17.928998212565507])\n",
       " ([0.21356677871592045, 0.9244342772409763], [3.1632915569237543, 17.542091214958695])\n",
       " ([0.24288120871133748, 0.9136071495496726], [-1.8849534917239303, 15.404167204680503])\n",
       " ([0.2516389321682472, 0.9436048957958874], [-3.7099928125586015, 16.483600588504082])\n",
       " ([0.22113113455125658, 0.9503751826849891], [0.9876138947190896, 14.99717628583092])\n",
       " ([0.2523293892082373, 0.9485775713926954], [0.22785606069392017, 17.320678360938935])\n",
       " ([0.24184412743732092, 0.9191391307818995], [4.591549145747113, 18.33922886258304])\n",
       " ([0.21147039380470495, 0.9117907428488292], [1.3678262635434564, 18.321575380523914])"
      ]
     },
     "execution_count": 20,
     "metadata": {},
     "output_type": "execute_result"
    }
   ],
   "source": [
    "samples = sample(stat_model, mchmc, 10000;\n",
    "                 monitor_energy=true, \n",
    "                 dialog=true)"
   ]
  },
  {
   "cell_type": "code",
   "execution_count": 17,
   "id": "019abbf1",
   "metadata": {},
   "outputs": [],
   "source": [
    "params = []\n",
    "internals = []\n",
    "for sample in samples\n",
    "    param, internal = sample\n",
    "    push!(params, param)\n",
    "    push!(internals, internal)\n",
    "end"
   ]
  },
  {
   "cell_type": "code",
   "execution_count": 18,
   "id": "d936f17c",
   "metadata": {},
   "outputs": [
    {
     "data": {
      "text/plain": [
       "10000-element Vector{Any}:\n",
       " [0.0, 17.407881123062033]\n",
       " [-0.024783437653617568, 17.2223761407182]\n",
       " [-0.5267654001366573, 15.870830359978166]\n",
       " [-0.7797609523330618, 17.581524861301986]\n",
       " [2.614957994163257, 18.037742726428274]\n",
       " [0.8962904882106422, 18.37015187436895]\n",
       " [1.1256936428571471, 18.755210366124818]\n",
       " [0.4126256851368595, 18.38090285436362]\n",
       " [-0.37149557247564857, 18.746431085328737]\n",
       " [0.3874697277182477, 18.414746406154368]\n",
       " [-0.779796059632325, 18.127299973417355]\n",
       " [-0.6606251236797753, 17.54328563895838]\n",
       " [-0.549944418757832, 16.463464904288333]\n",
       " ⋮\n",
       " [-2.020149730642114, 18.211229145282893]\n",
       " [1.3909274392353979, 18.88818699098282]\n",
       " [1.361692303101922, 18.90677161160427]\n",
       " [-0.11921642982049008, 18.75256059745194]\n",
       " [-0.676807017188171, 18.34823819428463]\n",
       " [-0.734356693108623, 18.38493182650424]\n",
       " [0.22579343281255504, 18.460412359699205]\n",
       " [0.23770182992485545, 18.570358245668817]\n",
       " [-0.1922609027240263, 18.173286646246343]\n",
       " [-0.34002473129912403, 18.680512522550078]\n",
       " [0.7301357714701417, 18.34640336835961]\n",
       " [-0.4562546671434795, 18.509954362021563]"
      ]
     },
     "execution_count": 18,
     "metadata": {},
     "output_type": "execute_result"
    }
   ],
   "source": [
    "internals"
   ]
  },
  {
   "cell_type": "code",
   "execution_count": 19,
   "id": "05dab6e3",
   "metadata": {},
   "outputs": [
    {
     "ename": "LoadError",
     "evalue": "UndefVarError: `vals` not defined",
     "output_type": "error",
     "traceback": [
      "UndefVarError: `vals` not defined",
      "",
      "Stacktrace:",
      " [1] top-level scope",
      "   @ In[19]:1"
     ]
    }
   ],
   "source": [
    "smps = MCMCChains.concretize(vals)"
   ]
  },
  {
   "cell_type": "markdown",
   "id": "4aadd3b5",
   "metadata": {},
   "source": [
    "## NUTS"
   ]
  },
  {
   "cell_type": "code",
   "execution_count": 19,
   "id": "dcbe40a3",
   "metadata": {},
   "outputs": [
    {
     "name": "stderr",
     "output_type": "stream",
     "text": [
      "\u001b[36m\u001b[1m┌ \u001b[22m\u001b[39m\u001b[36m\u001b[1mInfo: \u001b[22m\u001b[39mFound initial step size\n",
      "\u001b[36m\u001b[1m└ \u001b[22m\u001b[39m  ϵ = 0.025\n",
      "\u001b[32mSampling: 100%|█████████████████████████████████████████| Time: 0:00:02\u001b[39m\n"
     ]
    },
    {
     "data": {
      "text/plain": [
       "Chains MCMC chain (10000×14×1 Array{Float64, 3}):\n",
       "\n",
       "Iterations        = 501:1:10500\n",
       "Number of chains  = 1\n",
       "Samples per chain = 10000\n",
       "Wall duration     = 7.96 seconds\n",
       "Compute duration  = 7.96 seconds\n",
       "parameters        = Ωm, σ8\n",
       "internals         = lp, n_steps, is_accept, acceptance_rate, log_density, hamiltonian_energy, hamiltonian_energy_error, max_hamiltonian_energy_error, tree_depth, numerical_error, step_size, nom_step_size\n",
       "\n",
       "Summary Statistics\n",
       " \u001b[1m parameters \u001b[0m \u001b[1m    mean \u001b[0m \u001b[1m     std \u001b[0m \u001b[1m naive_se \u001b[0m \u001b[1m    mcse \u001b[0m \u001b[1m       ess \u001b[0m \u001b[1m    rhat \u001b[0m \u001b[1m \u001b[0m ⋯\n",
       " \u001b[90m     Symbol \u001b[0m \u001b[90m Float64 \u001b[0m \u001b[90m Float64 \u001b[0m \u001b[90m  Float64 \u001b[0m \u001b[90m Float64 \u001b[0m \u001b[90m   Float64 \u001b[0m \u001b[90m Float64 \u001b[0m \u001b[90m \u001b[0m ⋯\n",
       "\n",
       "          Ωm    0.2546    0.0579     0.0006    0.0011   2906.8709    0.9999    ⋯\n",
       "          σ8    0.8501    0.0534     0.0005    0.0010   2935.7125    0.9999    ⋯\n",
       "\u001b[36m                                                                1 column omitted\u001b[0m\n",
       "\n",
       "Quantiles\n",
       " \u001b[1m parameters \u001b[0m \u001b[1m    2.5% \u001b[0m \u001b[1m   25.0% \u001b[0m \u001b[1m   50.0% \u001b[0m \u001b[1m   75.0% \u001b[0m \u001b[1m   97.5% \u001b[0m\n",
       " \u001b[90m     Symbol \u001b[0m \u001b[90m Float64 \u001b[0m \u001b[90m Float64 \u001b[0m \u001b[90m Float64 \u001b[0m \u001b[90m Float64 \u001b[0m \u001b[90m Float64 \u001b[0m\n",
       "\n",
       "          Ωm    0.1518    0.2123    0.2508    0.2928    0.3749\n",
       "          σ8    0.7532    0.8137    0.8471    0.8844    0.9644\n"
      ]
     },
     "execution_count": 19,
     "metadata": {},
     "output_type": "execute_result"
    }
   ],
   "source": [
    "samples_hmc = sample(stat_model, NUTS(500, 0.65),\n",
    "                     10000, progress=true; save_state=true)"
   ]
  },
  {
   "cell_type": "code",
   "execution_count": 90,
   "id": "cb328df2",
   "metadata": {},
   "outputs": [
    {
     "data": {
      "text/plain": [
       "3-dimensional AxisArray{Float64,3,...} with axes:\n",
       "    :iter, 501:1:10500\n",
       "    :var, [:Ωm, :σ8, :lp, :n_steps, :is_accept, :acceptance_rate, :log_density, :hamiltonian_energy, :hamiltonian_energy_error, :max_hamiltonian_energy_error, :tree_depth, :numerical_error, :step_size, :nom_step_size]\n",
       "    :chain, 1:1\n",
       "And data, a 10000×14×1 Array{Float64, 3}:\n",
       "[:, :, 1] =\n",
       " 0.226487  0.986209  13.5908  3.0  1.0  …  2.0  0.0  0.672144  0.672144\n",
       " 0.20474   0.758337  13.5104  7.0  1.0     2.0  0.0  0.672144  0.672144\n",
       " 0.461568  0.83525   11.5659  7.0  1.0     2.0  0.0  0.672144  0.672144\n",
       " 0.232626  0.797017  17.5158  7.0  1.0     3.0  0.0  0.672144  0.672144\n",
       " 0.230155  0.897164  18.4408  7.0  1.0     2.0  0.0  0.672144  0.672144\n",
       " 0.182186  0.896348  18.2925  3.0  1.0  …  2.0  0.0  0.672144  0.672144\n",
       " 0.260894  0.850705  18.8292  7.0  1.0     2.0  0.0  0.672144  0.672144\n",
       " 0.271235  0.791219  18.1031  7.0  1.0     2.0  0.0  0.672144  0.672144\n",
       " 0.24796   0.754759  15.6767  3.0  1.0     2.0  0.0  0.672144  0.672144\n",
       " 0.312987  0.843053  17.9163  3.0  1.0     2.0  0.0  0.672144  0.672144\n",
       " 0.315464  0.828506  18.1336  3.0  1.0  …  2.0  0.0  0.672144  0.672144\n",
       " 0.315464  0.828506  18.1336  3.0  1.0     2.0  0.0  0.672144  0.672144\n",
       " 0.33332   0.796866  17.9139  3.0  1.0     2.0  0.0  0.672144  0.672144\n",
       " ⋮                                      ⋱  ⋮                   \n",
       " 0.279761  0.861458  18.331   7.0  1.0     3.0  0.0  0.672144  0.672144\n",
       " 0.282472  0.867618  18.0899  3.0  1.0     2.0  0.0  0.672144  0.672144\n",
       " 0.342192  0.820115  17.568   7.0  1.0  …  2.0  0.0  0.672144  0.672144\n",
       " 0.260535  0.817259  18.6678  3.0  1.0     2.0  0.0  0.672144  0.672144\n",
       " 0.301182  0.813193  18.4664  7.0  1.0     3.0  0.0  0.672144  0.672144\n",
       " 0.285211  0.807808  18.5417  3.0  1.0     2.0  0.0  0.672144  0.672144\n",
       " 0.279555  0.83579   18.7153  3.0  1.0     2.0  0.0  0.672144  0.672144\n",
       " 0.221642  0.909026  18.2621  7.0  1.0  …  2.0  0.0  0.672144  0.672144\n",
       " 0.153972  0.931241  17.4143  3.0  1.0     2.0  0.0  0.672144  0.672144\n",
       " 0.186067  0.898811  18.395   3.0  1.0     1.0  0.0  0.672144  0.672144\n",
       " 0.186067  0.898811  18.395   3.0  1.0     2.0  0.0  0.672144  0.672144\n",
       " 0.186067  0.898811  18.395   3.0  1.0     2.0  0.0  0.672144  0.672144"
      ]
     },
     "execution_count": 90,
     "metadata": {},
     "output_type": "execute_result"
    }
   ],
   "source": [
    "samples_hmc.value"
   ]
  },
  {
   "cell_type": "code",
   "execution_count": 20,
   "id": "fa9db828",
   "metadata": {},
   "outputs": [],
   "source": [
    "Wms_hmc = vec(samples_hmc[\"Ωm\"])\n",
    "s8s_hmc = vec(samples_hmc[\"σ8\"]);"
   ]
  },
  {
   "cell_type": "code",
   "execution_count": 21,
   "id": "3d063a52",
   "metadata": {},
   "outputs": [
    {
     "data": {
      "image/png": "[encoded data removed]",
      "text/plain": [
       "Figure(PyObject <Figure size 640x480 with 1 Axes>)"
      ]
     },
     "metadata": {},
     "output_type": "display_data"
    }
   ],
   "source": [
    "plt.hist2d(Wms_hmc, s8s_hmc, bins=100, range=[[0.1, 0.4],[0.6, 1.2]]);\n",
    "plt.xlabel(\"Wm\")\n",
    "plt.ylabel(\"s8\")\n",
    "plt.title(\"HMC - RSD model\");"
   ]
  },
  {
   "cell_type": "code",
   "execution_count": null,
   "id": "30229b68",
   "metadata": {},
   "outputs": [],
   "source": []
  }
 ],
 "metadata": {
  "kernelspec": {
   "display_name": "Julia 1.9.0-beta3",
   "language": "julia",
   "name": "julia-1.9"
  },
  "language_info": {
   "file_extension": ".jl",
   "mimetype": "application/julia",
   "name": "julia",
   "version": "1.9.0"
  }
 },
 "nbformat": 4,
 "nbformat_minor": 5
}
