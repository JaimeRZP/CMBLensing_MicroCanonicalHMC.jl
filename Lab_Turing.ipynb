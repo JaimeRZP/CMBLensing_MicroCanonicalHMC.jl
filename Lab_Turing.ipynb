{
 "cells": [
  {
   "cell_type": "markdown",
   "id": "91129cb1",
   "metadata": {},
   "source": [
    "# Turing Target Practice"
   ]
  },
  {
   "cell_type": "markdown",
   "id": "97121235",
   "metadata": {},
   "source": [
    "## Model"
   ]
  },
  {
   "cell_type": "code",
   "execution_count": 1,
   "id": "86b96c9e",
   "metadata": {},
   "outputs": [
    {
     "name": "stderr",
     "output_type": "stream",
     "text": [
      "\u001b[32m\u001b[1m  Activating\u001b[22m\u001b[39m project at `~/PhD/MicroCanonicalHMC.jl`\n"
     ]
    }
   ],
   "source": [
    "] activate \".\""
   ]
  },
  {
   "cell_type": "code",
   "execution_count": 2,
   "id": "baed58e3",
   "metadata": {},
   "outputs": [
    {
     "name": "stderr",
     "output_type": "stream",
     "text": [
      "\u001b[36m\u001b[1m[ \u001b[22m\u001b[39m\u001b[36m\u001b[1mInfo: \u001b[22m\u001b[39mPrecompiling MicroCanonicalHMC [234d2aa0-2291-45f7-9047-6fa6f316b0a8]\n"
     ]
    }
   ],
   "source": [
    "# The statistical inference frame-work we will use\n",
    "using Turing\n",
    "using Interpolations\n",
    "using ForwardDiff\n",
    "using LinearAlgebra\n",
    "#using StatsPlots\n",
    "using PyPlot\n",
    "using Distributed\n",
    "\n",
    "using Revise\n",
    "using MicroCanonicalHMC"
   ]
  },
  {
   "cell_type": "code",
   "execution_count": 3,
   "id": "a7d6f81c",
   "metadata": {},
   "outputs": [],
   "source": [
    "fs8_zs = [0.38, 0.51, 0.61, 1.48, 0.44, 0.6, 0.73, 0.6, 0.86, 0.067, 1.4]\n",
    "fs8_data = [0.49749, 0.457523, 0.436148, 0.462, 0.413, 0.39, 0.437, 0.55, 0.4, 0.423, 0.482]\n",
    "fs8_cov = [0.00203355 0.000811829 0.000264615 0.0 0.0 0.0 0.0 0.0 0.0 0.0 0.0;\n",
    "           0.000811829 0.00142289 0.000662824 0.0 0.0 0.0 0.0 0.0 0.0 0.0 0.0; \n",
    "           0.000264615 0.000662824 0.00118576 0.0 0.0 0.0 0.0 0.0 0.0 0.0 0.0;\n",
    "           0.0 0.0 0.0 0.002025 0.0 0.0 0.0 0.0 0.0 0.0 0.0;\n",
    "           0.0 0.0 0.0 0.0 0.0064 0.00257 0.0 0.0 0.0 0.0 0.0;\n",
    "           0.0 0.0 0.0 0.0 0.00257 0.003969 0.00254 0.0 0.0 0.0 0.0;\n",
    "           0.0 0.0 0.0 0.0 0.0 0.00254 0.005184 0.0 0.0 0.0 0.0;\n",
    "           0.0 0.0 0.0 0.0 0.0 0.0 0.0 0.0144 0.0 0.0 0.0;\n",
    "           0.0 0.0 0.0 0.0 0.0 0.0 0.0 0.0 0.0121 0.0 0.0; \n",
    "           0.0 0.0 0.0 0.0 0.0 0.0 0.0 0.0 0.0 0.003025 0.0;\n",
    "           0.0 0.0 0.0 0.0 0.0 0.0 0.0 0.0 0.0 0.0 0.013456000000000001];"
   ]
  },
  {
   "cell_type": "code",
   "execution_count": 4,
   "id": "1359a630",
   "metadata": {
    "code_folding": []
   },
   "outputs": [
    {
     "data": {
      "text/plain": [
       "make_fs8 (generic function with 1 method)"
      ]
     },
     "execution_count": 4,
     "metadata": {},
     "output_type": "execute_result"
    }
   ],
   "source": [
    "function make_fs8(Ωm, σ8; Ωr=8.24*10^-5)\n",
    "    # ODE solution for growth factor\n",
    "    x_Dz = LinRange(0, log(1+1100), 300)\n",
    "    dx_Dz = x_Dz[2]-x_Dz[1]\n",
    "    z_Dz = @.(exp(x_Dz) - 1)\n",
    "    a_Dz = @.(1/(1+z_Dz))\n",
    "    aa = reverse(a_Dz)\n",
    "    e =  @.(sqrt.(abs(Ωm)*(1+z_Dz)^3+Ωr*(1+z_Dz)^4+(1-Ωm-Ωr)))\n",
    "    ee = reverse(e)\n",
    "\n",
    "    dd = zeros(typeof(Ωm), 300)\n",
    "    yy = zeros(typeof(Ωm), 300)\n",
    "    dd[1] = aa[1]\n",
    "    yy[1] = aa[1]^3*ee[end]\n",
    "\n",
    "    for i in 1:(300-1)\n",
    "        A0 = -1.5 * Ωm / (aa[i]*ee[i])\n",
    "        B0 = -1. / (aa[i]^2*ee[i])\n",
    "        A1 = -1.5 * Ωm / (aa[i+1]*ee[i+1])\n",
    "        B1 = -1. / (aa[i+1]^2*ee[i+1])\n",
    "        yy[i+1] = (1+0.5*dx_Dz^2*A0*B0)*yy[i] + 0.5*(A0+A1)*dx_Dz*dd[i]\n",
    "        dd[i+1] = 0.5*(B0+B1)*dx_Dz*yy[i] + (1+0.5*dx_Dz^2*A0*B0)*dd[i]\n",
    "    end\n",
    "\n",
    "    y = reverse(yy)\n",
    "    d = reverse(dd)\n",
    "\n",
    "    Dzi = LinearInterpolation(z_Dz, d./d[1], extrapolation_bc=Line())\n",
    "    fs8zi = LinearInterpolation(z_Dz, -σ8 .* y./ (a_Dz.^2 .*e.*d[1]),\n",
    "                                 extrapolation_bc=Line())\n",
    "    return fs8zi\n",
    "end"
   ]
  },
  {
   "cell_type": "code",
   "execution_count": 5,
   "id": "8005e277",
   "metadata": {},
   "outputs": [],
   "source": [
    "@model function model(data; cov = fs8_cov) \n",
    "    # Define priors\n",
    "    #KiDS priors\n",
    "    Ωm ~ Uniform(0.2, 0.25)#~ Normal(0.3, 0.1)\n",
    "    σ8 ~ Normal(0.8, 0.3)\n",
    "    fs8_itp = make_fs8(Ωm, σ8)\n",
    "    theory = fs8_itp(fs8_zs)\n",
    "    data ~ MvNormal(theory, cov)\n",
    "end;"
   ]
  },
  {
   "cell_type": "code",
   "execution_count": 6,
   "id": "1eebe796",
   "metadata": {},
   "outputs": [
    {
     "data": {
      "text/plain": [
       "DynamicPPL.Model{typeof(model), (:data, :cov), (:cov,), (), Tuple{Vector{Float64}, Matrix{Float64}}, Tuple{Matrix{Float64}}, DynamicPPL.DefaultContext}(model, (data = [0.49749, 0.457523, 0.436148, 0.462, 0.413, 0.39, 0.437, 0.55, 0.4, 0.423, 0.482], cov = [0.00203355 0.000811829 … 0.0 0.0; 0.000811829 0.00142289 … 0.0 0.0; … ; 0.0 0.0 … 0.003025 0.0; 0.0 0.0 … 0.0 0.013456000000000001]), (cov = [0.00203355 0.000811829 … 0.0 0.0; 0.000811829 0.00142289 … 0.0 0.0; … ; 0.0 0.0 … 0.003025 0.0; 0.0 0.0 … 0.0 0.013456000000000001],), DynamicPPL.DefaultContext())"
      ]
     },
     "execution_count": 6,
     "metadata": {},
     "output_type": "execute_result"
    }
   ],
   "source": [
    "stat_model = model(fs8_data)"
   ]
  },
  {
   "cell_type": "markdown",
   "id": "10dfa4cc",
   "metadata": {},
   "source": [
    "## Sampling"
   ]
  },
  {
   "cell_type": "code",
   "execution_count": 7,
   "id": "c8ed14a3",
   "metadata": {},
   "outputs": [],
   "source": [
    "target = TuringTarget(stat_model);"
   ]
  },
  {
   "cell_type": "code",
   "execution_count": 8,
   "id": "a79c2b35",
   "metadata": {},
   "outputs": [
    {
     "data": {
      "text/plain": [
       "MicroCanonicalHMC.Sampler(Settings(1, Random.MersenneTwister(0), 2.0, 0, 1000, 10, \"LF\"), Hyperparameters{Float64}(0.0, 0.0, 0.0, 0.1931833275037836), MicroCanonicalHMC.Leapfrog)"
      ]
     },
     "execution_count": 8,
     "metadata": {},
     "output_type": "execute_result"
    }
   ],
   "source": [
    "spl = MCHMC(0.0, 0.0, varE_wanted=2.0) #sqrt(target.d)*0.01"
   ]
  },
  {
   "cell_type": "code",
   "execution_count": 9,
   "id": "82938e27",
   "metadata": {
    "scrolled": false
   },
   "outputs": [
    {
     "name": "stderr",
     "output_type": "stream",
     "text": [
      "\u001b[36m\u001b[1m[ \u001b[22m\u001b[39m\u001b[36m\u001b[1mInfo: \u001b[22m\u001b[39mTuning eps ⏳\n"
     ]
    },
    {
     "name": "stdout",
     "output_type": "stream",
     "text": [
      "eps: 0.5 --> VarE: 2717.18920499165\n",
      "eps: 0.25 --> VarE: 113.32927076008384\n",
      "eps: 0.125 --> VarE: 25.884314167267867\n",
      "eps: 0.0625 --> VarE: 4.291780355648575\n",
      "eps: 0.03125 --> VarE: 0.8051026857358639\n"
     ]
    },
    {
     "name": "stderr",
     "output_type": "stream",
     "text": [
      "\u001b[36m\u001b[1m[ \u001b[22m\u001b[39m\u001b[36m\u001b[1mInfo: \u001b[22m\u001b[39mFound eps: 0.03125 ✅\n",
      "\u001b[36m\u001b[1m[ \u001b[22m\u001b[39m\u001b[36m\u001b[1mInfo: \u001b[22m\u001b[39mTuning L ⏳\n"
     ]
    },
    {
     "name": "stdout",
     "output_type": "stream",
     "text": [
      "samples: 100--> ESS: 0.03922841792669993\n",
      "samples: 243--> ESS: 0.00940008718407585\n",
      "samples: 447--> ESS: 0.021134335853238605\n",
      "samples: 739--> ESS: 0.015160745659330972\n"
     ]
    },
    {
     "name": "stderr",
     "output_type": "stream",
     "text": [
      "\u001b[36m\u001b[1m[ \u001b[22m\u001b[39m\u001b[36m\u001b[1mInfo: \u001b[22m\u001b[39mFound L: 1.4142135623730951 ✅\n"
     ]
    },
    {
     "data": {
      "text/plain": [
       "10001-element Vector{Any}:\n",
       " [0.24038307661598846, 0.8226214479815764, 0.0, 15.499265782587187]\n",
       " [0.24049586094706726, 0.8502585944265497, 0.3032928913944115, -15.83865645179969]\n",
       " [0.24062904800761536, 0.876218839675769, 0.4701472192484992, -15.646705186795296]\n",
       " [0.24084621046365604, 0.8884015047779531, -0.5490672158376295, -15.369907508261292]\n",
       " [0.24106938841386974, 0.8801176901982735, -0.3711408611984659, -15.53132659326803]\n",
       " [0.2412142651289255, 0.8560039825393524, 0.44854625811910864, -15.775192984416305]\n",
       " [0.24134665938276398, 0.8307388018124371, 0.27052163757554837, -15.58250202347045]\n",
       " [0.2415228235011, 0.8117506763979405, -0.6911411188673569, -15.128134367924496]\n",
       " [0.2417369791933115, 0.8174197406480084, -0.7112510465882167, -15.268619513413453]\n",
       " [0.24186215296809055, 0.8427804179982192, 0.5520091758771226, -15.676613758751028]\n",
       " [0.241941190601848, 0.8717792300777147, 0.6471336862588704, -15.573001908186345]\n",
       " [0.24203986591085505, 0.8993719059462216, -0.8060768130645037, -14.900861995882654]\n",
       " [0.24224382911843367, 0.904673501519901, -1.3904466430382207, -14.682473417043491]\n",
       " ⋮\n",
       " [0.23878298992792432, 0.7887055341111674, -1.5148640477592608, -14.386378106155789]\n",
       " [0.23882904822008272, 0.8195025652725998, 2.9945962025447344, -15.51771091703125]\n",
       " [0.23885910984364658, 0.8505594713573205, 2.6786561053452793, -15.962925660761092]\n",
       " [0.2388377597539345, 0.8817121703027796, 0.6369611155725625, -15.711270389148007]\n",
       " [0.23872202569986056, 0.9099909543182991, -1.2320203153386213, -14.884537457368072]\n",
       " [0.23848112218112613, 0.9250606660747694, -1.885222755984973, -14.2279239312483]\n",
       " [0.2382915808060579, 0.9021558329580577, -0.3009844255664298, -15.21369454900581]\n",
       " [0.23820212976391414, 0.8725320718772532, 2.330100657066792, -15.906882916180836]\n",
       " [0.23814621326472263, 0.8419018943003821, 1.3985527153667672, -15.95110378298809]\n",
       " [0.2380749681655687, 0.8116569748941863, -0.5120493412601075, -15.327982071321653]\n",
       " [0.23795758491376331, 0.7831861050662076, -2.25337272389417, -14.136559632464104]\n",
       " [0.2376986829157625, 0.796827220129942, -1.9037809794546252, -14.791311396902163]"
      ]
     },
     "execution_count": 9,
     "metadata": {},
     "output_type": "execute_result"
    }
   ],
   "source": [
    "samples_mchmc = Sample(spl, target, 10000;\n",
    "                       monitor_energy=true, \n",
    "                       dialog=true)"
   ]
  },
  {
   "cell_type": "code",
   "execution_count": 10,
   "id": "9982a5de",
   "metadata": {},
   "outputs": [],
   "source": [
    "#plt.plot(samples_mchmc.E[8000:end])"
   ]
  },
  {
   "cell_type": "code",
   "execution_count": 11,
   "id": "f966c9fb",
   "metadata": {},
   "outputs": [],
   "source": [
    "#mean(samples_mchmc.E[8000:end])"
   ]
  },
  {
   "cell_type": "code",
   "execution_count": 12,
   "id": "999faaf8",
   "metadata": {},
   "outputs": [],
   "source": [
    "#std(samples_mchmc.E[8000:end])^2/target.d"
   ]
  },
  {
   "cell_type": "code",
   "execution_count": 13,
   "id": "385a8b1a",
   "metadata": {},
   "outputs": [],
   "source": [
    "Wms_mchmc = [sample[1] for sample in samples_mchmc]\n",
    "s8s_mchmc = [sample[2] for sample in samples_mchmc];"
   ]
  },
  {
   "cell_type": "code",
   "execution_count": 14,
   "id": "2a803eb8",
   "metadata": {},
   "outputs": [
    {
     "data": {
      "image/png": "[encoded data removed]",
      "text/plain": [
       "Figure(PyObject <Figure size 640x480 with 1 Axes>)"
      ]
     },
     "metadata": {},
     "output_type": "display_data"
    }
   ],
   "source": [
    "plt.hist2d(Wms_mchmc, s8s_mchmc, bins=100, range=[[0.1, 0.4],[0.6, 1.2]]);\n",
    "plt.xlabel(\"Wm\")\n",
    "plt.ylabel(\"s8\")\n",
    "plt.title(\"MCHMC - RSD model - eps = 0.001 --> var[E]~0.00003\");"
   ]
  },
  {
   "cell_type": "markdown",
   "id": "0a03dd58",
   "metadata": {},
   "source": [
    "## AbstractMCMC"
   ]
  },
  {
   "cell_type": "code",
   "execution_count": 15,
   "id": "d569b9dc",
   "metadata": {},
   "outputs": [
    {
     "name": "stdout",
     "output_type": "stream",
     "text": [
      "eps: 0.5 --> VarE: 684.1080903902277\n",
      "eps: "
     ]
    },
    {
     "name": "stderr",
     "output_type": "stream",
     "text": [
      "\u001b[36m\u001b[1m[ \u001b[22m\u001b[39m\u001b[36m\u001b[1mInfo: \u001b[22m\u001b[39mTuning eps ⏳\n"
     ]
    },
    {
     "name": "stdout",
     "output_type": "stream",
     "text": [
      "0.25 --> VarE: 12.543953963723036\n",
      "eps: 0.125 --> VarE: 65.44766881236933\n",
      "eps: 0.0625 --> VarE: 9.7410076686465\n",
      "eps: 0.03125 --> VarE: 2.995186956755218\n",
      "eps: 0.015625 --> VarE: 1.0402106855148732\n",
      "samples: 100--> ESS: 0.023381051377908635\n",
      "samples: 243--> ESS: 0.009389862893749734\n",
      "samples: 447--> ESS: 0.022876472645042514\n"
     ]
    },
    {
     "name": "stderr",
     "output_type": "stream",
     "text": [
      "\u001b[36m\u001b[1m[ \u001b[22m\u001b[39m\u001b[36m\u001b[1mInfo: \u001b[22m\u001b[39mFound eps: 0.015625 ✅\n",
      "\u001b[36m\u001b[1m[ \u001b[22m\u001b[39m\u001b[36m\u001b[1mInfo: \u001b[22m\u001b[39mTuning L ⏳\n",
      "\u001b[36m\u001b[1m[ \u001b[22m\u001b[39m\u001b[36m\u001b[1mInfo: \u001b[22m\u001b[39mFound L: 1.4142135623730951 ✅\n",
      "\u001b[32mChain 1: 100%|██████████████████████████████████████████| Time: 0:00:00\u001b[39m\n"
     ]
    },
    {
     "data": {
      "text/plain": [
       "Chains MCMC chain (10000×4×1 Array{Float64, 3}):\n",
       "\n",
       "Iterations        = 1:1:10000\n",
       "Number of chains  = 1\n",
       "Samples per chain = 10000\n",
       "Wall duration     = 2.02 seconds\n",
       "Compute duration  = 2.02 seconds\n",
       "parameters        = Ωm, σ8\n",
       "internals         = E, logp\n",
       "\n",
       "Summary Statistics\n",
       " \u001b[1m parameters \u001b[0m \u001b[1m    mean \u001b[0m \u001b[1m     std \u001b[0m \u001b[1m naive_se \u001b[0m \u001b[1m    mcse \u001b[0m \u001b[1m       ess \u001b[0m \u001b[1m    rhat \u001b[0m \u001b[1m \u001b[0m ⋯\n",
       " \u001b[90m     Symbol \u001b[0m \u001b[90m Float64 \u001b[0m \u001b[90m Float64 \u001b[0m \u001b[90m  Float64 \u001b[0m \u001b[90m Float64 \u001b[0m \u001b[90m   Float64 \u001b[0m \u001b[90m Float64 \u001b[0m \u001b[90m \u001b[0m ⋯\n",
       "\n",
       "          Ωm    0.2237    0.0131     0.0001    0.0013     22.8963    1.3542    ⋯\n",
       "          σ8    0.8664    0.0398     0.0004    0.0012   1343.3642    1.0177    ⋯\n",
       "\u001b[36m                                                                1 column omitted\u001b[0m\n",
       "\n",
       "Quantiles\n",
       " \u001b[1m parameters \u001b[0m \u001b[1m    2.5% \u001b[0m \u001b[1m   25.0% \u001b[0m \u001b[1m   50.0% \u001b[0m \u001b[1m   75.0% \u001b[0m \u001b[1m   97.5% \u001b[0m\n",
       " \u001b[90m     Symbol \u001b[0m \u001b[90m Float64 \u001b[0m \u001b[90m Float64 \u001b[0m \u001b[90m Float64 \u001b[0m \u001b[90m Float64 \u001b[0m \u001b[90m Float64 \u001b[0m\n",
       "\n",
       "          Ωm    0.2016    0.2142    0.2231    0.2344    0.2471\n",
       "          σ8    0.7909    0.8386    0.8665    0.8934    0.9438\n"
      ]
     },
     "execution_count": 15,
     "metadata": {},
     "output_type": "execute_result"
    }
   ],
   "source": [
    "samples = sample(\n",
    "    stat_model, MCHMC(varE_wanted=2.0), 10000;\n",
    "    monitor_energy=true, \n",
    "    dialog=true)"
   ]
  },
  {
   "cell_type": "code",
   "execution_count": 16,
   "id": "eea6e813",
   "metadata": {},
   "outputs": [
    {
     "name": "stderr",
     "output_type": "stream",
     "text": [
      "\u001b[36m\u001b[1m[ \u001b[22m\u001b[39m\u001b[36m\u001b[1mInfo: \u001b[22m\u001b[39mStarting from previous run\n",
      "\u001b[32mChain 1: 100%|██████████████████████████████████████████| Time: 0:00:00\u001b[39m\n"
     ]
    },
    {
     "data": {
      "text/plain": [
       "Chains MCMC chain (10000×4×1 Array{Float64, 3}):\n",
       "\n",
       "Iterations        = 1:1:10000\n",
       "Number of chains  = 1\n",
       "Samples per chain = 10000\n",
       "Wall duration     = 0.62 seconds\n",
       "Compute duration  = 0.62 seconds\n",
       "parameters        = Ωm, σ8\n",
       "internals         = E, logp\n",
       "\n",
       "Summary Statistics\n",
       " \u001b[1m parameters \u001b[0m \u001b[1m    mean \u001b[0m \u001b[1m     std \u001b[0m \u001b[1m naive_se \u001b[0m \u001b[1m    mcse \u001b[0m \u001b[1m       ess \u001b[0m \u001b[1m    rhat \u001b[0m \u001b[1m \u001b[0m ⋯\n",
       " \u001b[90m     Symbol \u001b[0m \u001b[90m Float64 \u001b[0m \u001b[90m Float64 \u001b[0m \u001b[90m  Float64 \u001b[0m \u001b[90m Float64 \u001b[0m \u001b[90m   Float64 \u001b[0m \u001b[90m Float64 \u001b[0m \u001b[90m \u001b[0m ⋯\n",
       "\n",
       "          Ωm    0.2271    0.0143     0.0001    0.0014     22.5439    1.2146    ⋯\n",
       "          σ8    0.8655    0.0379     0.0004    0.0011   1369.5791    1.0156    ⋯\n",
       "\u001b[36m                                                                1 column omitted\u001b[0m\n",
       "\n",
       "Quantiles\n",
       " \u001b[1m parameters \u001b[0m \u001b[1m    2.5% \u001b[0m \u001b[1m   25.0% \u001b[0m \u001b[1m   50.0% \u001b[0m \u001b[1m   75.0% \u001b[0m \u001b[1m   97.5% \u001b[0m\n",
       " \u001b[90m     Symbol \u001b[0m \u001b[90m Float64 \u001b[0m \u001b[90m Float64 \u001b[0m \u001b[90m Float64 \u001b[0m \u001b[90m Float64 \u001b[0m \u001b[90m Float64 \u001b[0m\n",
       "\n",
       "          Ωm    0.2039    0.2151    0.2266    0.2396    0.2497\n",
       "          σ8    0.7934    0.8391    0.8651    0.8914    0.9411\n"
      ]
     },
     "execution_count": 16,
     "metadata": {},
     "output_type": "execute_result"
    }
   ],
   "source": [
    "new_samples = sample(stat_model, MCHMC(varE_wanted=2.0), 10000; \n",
    "                     monitor_energy=true, \n",
    "                     progress=true, resume_from=samples)"
   ]
  },
  {
   "cell_type": "markdown",
   "id": "767048c5",
   "metadata": {},
   "source": [
    "## Parallelization"
   ]
  },
  {
   "cell_type": "code",
   "execution_count": 17,
   "id": "d9093211",
   "metadata": {},
   "outputs": [],
   "source": [
    "using Distributed"
   ]
  },
  {
   "cell_type": "code",
   "execution_count": 48,
   "id": "7e6f5af6",
   "metadata": {},
   "outputs": [
    {
     "data": {
      "text/plain": [
       "MicroCanonicalHMC.EnsembleSampler(Settings(100, Random.MersenneTwister(0), 0.2, 0, 1000, 10, \"LF\"), Hyperparameters{Float64}(0.03125, 1.4, 0.1, 0.1931833275037836), MicroCanonicalHMC.Leapfrog)"
      ]
     },
     "execution_count": 48,
     "metadata": {},
     "output_type": "execute_result"
    }
   ],
   "source": [
    "spl = MCHMC()\n",
    "e_spl = MCHMC(0.03125, 1.4, 100; nu=0.1)"
   ]
  },
  {
   "cell_type": "code",
   "execution_count": 49,
   "id": "809acc8f",
   "metadata": {},
   "outputs": [],
   "source": [
    "parallel_target  = ParallelTarget(target, 100);"
   ]
  },
  {
   "cell_type": "code",
   "execution_count": 50,
   "id": "06385317",
   "metadata": {},
   "outputs": [
    {
     "data": {
      "text/plain": [
       "100×2 Matrix{Real}:\n",
       "  0.582397   0.588917\n",
       "  1.97419    0.74064\n",
       "  2.60329    1.14597\n",
       "  1.41854    0.725931\n",
       "  0.590866   0.648898\n",
       "  1.78601    1.30541\n",
       " -0.0409122  0.126196\n",
       " -0.817945   0.95775\n",
       "  1.04523    1.31711\n",
       "  0.0984713  1.22932\n",
       "  2.77839    0.0458763\n",
       "  3.62266    0.633449\n",
       " -3.49161    0.903963\n",
       "  ⋮          \n",
       "  3.54218    0.77984\n",
       " -1.2704     0.061806\n",
       "  0.0309633  0.0604747\n",
       "  1.11552    0.627756\n",
       "  0.95667    0.667124\n",
       "  2.22097    1.05182\n",
       "  0.0612894  0.837561\n",
       "  0.351876   1.33416\n",
       "  1.63071    0.686355\n",
       "  1.85738    0.696521\n",
       "  1.28927    0.996699\n",
       " -2.5552     0.366165"
      ]
     },
     "execution_count": 50,
     "metadata": {},
     "output_type": "execute_result"
    }
   ],
   "source": [
    "X0 = parallel_target.prior_draw(0)"
   ]
  },
  {
   "cell_type": "code",
   "execution_count": 51,
   "id": "d88c3e6a",
   "metadata": {},
   "outputs": [
    {
     "data": {
      "text/plain": [
       "100×2 Matrix{Float64}:\n",
       "  0.485802   -0.874069\n",
       "  0.955123    0.296211\n",
       " -0.403826    0.914836\n",
       " -0.19375    -0.981051\n",
       "  0.966214    0.257742\n",
       "  0.90389     0.427764\n",
       "  0.456419   -0.889765\n",
       " -0.0928559  -0.99568\n",
       " -0.629877    0.776695\n",
       "  0.844423   -0.535677\n",
       " -0.556279    0.830995\n",
       " -0.550262   -0.834992\n",
       "  0.59738     0.801959\n",
       "  ⋮          \n",
       "  0.42861     0.90349\n",
       " -0.483646    0.875264\n",
       " -0.687512   -0.726173\n",
       "  0.177167   -0.984181\n",
       " -0.62693     0.779076\n",
       "  0.218983    0.975729\n",
       "  0.98112    -0.193401\n",
       "  0.146014    0.989283\n",
       "  0.98327    -0.182153\n",
       " -0.0512177  -0.998688\n",
       "  0.802147   -0.597127\n",
       "  0.894715   -0.446638"
      ]
     },
     "execution_count": 51,
     "metadata": {},
     "output_type": "execute_result"
    }
   ],
   "source": [
    "U = MicroCanonicalHMC.Random_unit_vector(e_spl, parallel_target)"
   ]
  },
  {
   "cell_type": "code",
   "execution_count": 52,
   "id": "a70de407",
   "metadata": {},
   "outputs": [
    {
     "data": {
      "text/plain": [
       "100×2 Matrix{Float64}:\n",
       "  0.46188   -0.886943\n",
       "  0.958686   0.284467\n",
       " -0.300391   0.953816\n",
       " -0.247566  -0.968871\n",
       "  0.979855   0.199711\n",
       "  0.904832   0.425769\n",
       "  0.282602  -0.959237\n",
       " -0.206307  -0.978487\n",
       " -0.572129   0.820164\n",
       "  0.86992   -0.493193\n",
       " -0.609665   0.792659\n",
       " -0.599578  -0.800316\n",
       "  0.778083   0.628162\n",
       "  ⋮         \n",
       "  0.395091   0.918642\n",
       " -0.41657    0.909104\n",
       " -0.727696  -0.6859\n",
       "  0.112951  -0.993601\n",
       " -0.645527   0.763737\n",
       "  0.242786   0.97008\n",
       "  0.989228  -0.14638\n",
       "  0.262958   0.964807\n",
       "  0.916097  -0.400956\n",
       " -0.120443  -0.99272\n",
       "  0.867438  -0.497546\n",
       "  0.878417  -0.477895"
      ]
     },
     "execution_count": 52,
     "metadata": {},
     "output_type": "execute_result"
    }
   ],
   "source": [
    "U = MicroCanonicalHMC.Partially_refresh_momentum(e_spl, parallel_target, U)"
   ]
  },
  {
   "cell_type": "code",
   "execution_count": 53,
   "id": "6747e5b4",
   "metadata": {},
   "outputs": [
    {
     "data": {
      "text/plain": [
       "([0.004126083500737369 0.9999914876812427; -0.006578562435080336 0.9999783610240212; … ; -0.01290359416438899 -0.9999167451631364; 0.0037027450525808207 0.999993144816041], [45.623901853481364, 19.76366188604837, 50.58467252379191, 19.075565188897095, 37.23038619090402, 81.3138416106339, 126.70488121675763, 14.73608164069753, 80.80467083512659, 64.40081710518521  …  140.44813391874726, 35.469685944047605, 34.06106919150049, 32.514461933913424, 3.9305576368859168, 80.00221442933622, 29.069776466619743, 22.75521259634752, 25.430114598250622, 86.37449819795334])"
      ]
     },
     "execution_count": 53,
     "metadata": {},
     "output_type": "execute_result"
    }
   ],
   "source": [
    "G = parallel_target.grad_nlogp(X0)\n",
    "UU, delta_r = MicroCanonicalHMC.Update_momentum(parallel_target, 0.5, G, U)"
   ]
  },
  {
   "cell_type": "code",
   "execution_count": 54,
   "id": "9db0c345",
   "metadata": {},
   "outputs": [
    {
     "data": {
      "text/plain": [
       "(Real[-0.9185052501298342 0.9298096381619478; -1.3112886932708734 0.7896326832877971; … ; 2.6001451477536484 0.3365653444852996; 0.9581810808955099 0.6923962980586824], [0.5393968255922259 -0.8420516994466727; 0.9817174830881923 0.1903438556901297; … ; 0.192874529656159 0.9812234280783941; -0.4480780049304106 0.8939944639076814], Real[-15.10846523685447, -13.38391409160457, -12.132995873787069, 8.034423170403532, 102.94582500671532, -5.793872519822564, 26.52320786955495, 80.10877703235855, -11.729833287801778, 42.26645358450364  …  3.429928414042708, 23.556480174018738, -8.052507982129049, -5.2880318860277535, -13.997195363620428, 0.9071010347848301, -13.679529838460258, 34.432906325182906, 81.52782741936295, -6.3841126613584995], Real[-0.1636944126985579 77.79279740989514; -1.9411725287720138 -120.00423216302559; … ; 1.1061487536625423 -752.0731428410523; -0.39324561909682565 -237.05763565254887], [0.0, 0.0, 0.0, 0.0, 0.0, 0.0, 0.0, 0.0, 0.0, 0.0  …  0.0, 0.0, 0.0, 0.0, 0.0, 0.0, 0.0, 0.0, 0.0, 0.0], 0.0)"
      ]
     },
     "execution_count": 54,
     "metadata": {},
     "output_type": "execute_result"
    }
   ],
   "source": [
    "init_step, init_sample = MicroCanonicalHMC.Init(e_spl, parallel_target)\n",
    "init_step"
   ]
  },
  {
   "cell_type": "code",
   "execution_count": 55,
   "id": "66fd3d06",
   "metadata": {},
   "outputs": [
    {
     "data": {
      "text/plain": [
       "(([-0.9087594760636494 0.9001181850508103; -1.2928454366050546 0.8148598270729888; … ; 2.6001163956656463 0.3678153312583758; 0.9559071663146574 0.7235634572567708], [0.2771220757280789 -0.9608347179115464; 0.32378874364095356 0.9461294041997705; … ; 0.02400724251461366 0.9997117846193694; 0.044025613918388204 0.9990304025999954], Real[-15.960355611288689, -14.694477232203623, -13.124897318188202, 2.883526114966106, 90.71261014429075, -9.150527904371662, 19.150791060089638, 68.94124933141259, -13.645799184164494, 33.738557029350254  …  -1.378023014471318, 16.82737589442535, -11.031590979651966, -2.935315173235532, -12.891558727972349, -3.567004394367922, -14.809247719996211, 26.41189427474017, 70.13456286818509, -9.72801958532829], Real[-0.5342756391664694 36.74018486953382; -1.7274899547626532 -85.10969069723905; … ; 1.0910499508135751 -706.2633186999287; -0.18447029356032374 -192.14311336413977], [1.6562247795097569, 2.2486054179004045, 1.4602497596333677, 9.359274266617447, 15.54676604097224, 5.671850369990814, 13.807545026309512, 19.64327172009314, 3.7978975447842136, 15.435814626918713  …  8.849810092891886, 11.799672279050974, 5.468097698009707, -2.335576976819241, -1.5391063952056625, 7.935065934660599, 1.7876471936568654, 13.135367124042281, 22.767380318798807, 6.5967508027140855], [0.0, 0.0, 0.0, 0.0, 0.0, 0.0, 0.0, 0.0, 0.0, 0.0  …  0.0, 0.0, 0.0, 0.0, 0.0, 0.0, 0.0, 0.0, 0.0, 0.0]), (Real[0.21436268769378072 0.9001181850508103; 0.21076857902831847 0.8148598270729888; … ; 0.2465434535154029 0.3678153312583758; 0.2361150801885185 0.7235634572567708], [0.8043344050755366, 0.9380422773013528, 0.46834831523223386, 4.2083772111800215, 3.3135511785476695, 2.3151949854417158, 6.435128216844202, 8.475744019147186, 1.8819316484214976, 6.90791807176533  …  4.04185866437786, 5.070567999457587, 2.4890147004867895, 0.017139735972980574, -0.4334697595575836, 3.460960505507847, 0.6579293121209133, 5.1143550735995476, 11.374115767620935, 3.2528438787442946], [15.960355611288689, 14.694477232203623, 13.124897318188202, -2.883526114966106, -90.71261014429075, 9.150527904371662, -19.150791060089638, -68.94124933141259, 13.645799184164494, -33.738557029350254  …  1.378023014471318, -16.82737589442535, 11.031590979651966, 2.935315173235532, 12.891558727972349, 3.567004394367922, 14.809247719996211, -26.41189427474017, -70.13456286818509, 9.72801958532829]))"
      ]
     },
     "execution_count": 55,
     "metadata": {},
     "output_type": "execute_result"
    }
   ],
   "source": [
    "step, ssample = MicroCanonicalHMC.Step(e_spl, parallel_target, init_step; monitor_energy=true)"
   ]
  },
  {
   "cell_type": "code",
   "execution_count": 66,
   "id": "9fdf52ab",
   "metadata": {
    "scrolled": false
   },
   "outputs": [
    {
     "name": "stderr",
     "output_type": "stream",
     "text": [
      "\u001b[36m\u001b[1m[ \u001b[22m\u001b[39m\u001b[36m\u001b[1mInfo: \u001b[22m\u001b[39mUsing given hyperparameters\n"
     ]
    },
    {
     "data": {
      "text/plain": [
       "10000×100×4 Array{Float64, 3}:\n",
       "[:, :, 1] =\n",
       " 0.222219  0.210397  0.224646  0.234403  …  0.204979  0.209056  0.238349\n",
       " 0.222414  0.210421  0.22462   0.234725     0.205118  0.209054  0.238154\n",
       " 0.222498  0.210419  0.22462   0.234904     0.205163  0.209016  0.238056\n",
       " 0.222486  0.210421  0.224622  0.235038     0.20518   0.208963  0.23798\n",
       " 0.222505  0.21042   0.224627  0.235235     0.205193  0.2088    0.237933\n",
       " 0.222538  0.210407  0.224627  0.235534  …  0.205213  0.208586  0.237803\n",
       " 0.222569  0.210402  0.224632  0.23584      0.205226  0.208498  0.237521\n",
       " 0.222613  0.210418  0.224637  0.236076     0.205251  0.208438  0.237436\n",
       " 0.222705  0.210375  0.224622  0.236293     0.205384  0.208309  0.237469\n",
       " 0.222916  0.210291  0.224634  0.236572     0.205429  0.208103  0.237514\n",
       " 0.223188  0.210186  0.224614  0.236869  …  0.205448  0.207925  0.237542\n",
       " 0.223267  0.209954  0.224626  0.237104     0.205448  0.207806  0.237655\n",
       " 0.223339  0.209817  0.22452   0.237351     0.205471  0.207706  0.237928\n",
       " ⋮                                       ⋱                      \n",
       " 0.218316  0.219826  0.248545  0.207982     0.212641  0.210551  0.222868\n",
       " 0.2181    0.220052  0.248511  0.208023     0.21291   0.210812  0.223245\n",
       " 0.217825  0.220232  0.248468  0.208021  …  0.213198  0.211078  0.223584\n",
       " 0.217539  0.220412  0.248422  0.207926     0.213491  0.21134   0.223732\n",
       " 0.217191  0.220726  0.248374  0.207722     0.213792  0.211605  0.223961\n",
       " 0.216856  0.221074  0.248327  0.207633     0.214089  0.211878  0.22434\n",
       " 0.21657   0.221248  0.248277  0.207638     0.214407  0.212164  0.224667\n",
       " 0.216313  0.221391  0.248225  0.20766   …  0.214715  0.212419  0.224892\n",
       " 0.216045  0.221543  0.248173  0.207669     0.215025  0.21268   0.225136\n",
       " 0.215714  0.221871  0.248118  0.207651     0.215356  0.212976  0.225517\n",
       " 0.215507  0.222162  0.248061  0.207642     0.215687  0.213247  0.22587\n",
       " 0.215316  0.22225   0.248002  0.207776     0.215997  0.213522  0.226077\n",
       "\n",
       "[:, :, 2] =\n",
       " 0.994731  1.12668   0.50095   0.809437  …  0.795174  0.933819  0.798732\n",
       " 1.02171   1.09557   0.532129  0.801434     0.789719  0.90257   0.821259\n",
       " 0.991206  1.06432   0.563379  0.827744     0.819435  0.871739  0.850584\n",
       " 0.959972  1.03307   0.594629  0.85624      0.850457  0.84135   0.880694\n",
       " 0.928758  1.00182   0.625877  0.881159     0.881586  0.81942   0.911513\n",
       " 0.897627  0.970606  0.657127  0.893001  …  0.912529  0.828779  0.939401\n",
       " 0.866476  0.939363  0.688374  0.883953     0.943665  0.857439  0.932243\n",
       " 0.835426  0.908169  0.719622  0.863158     0.974441  0.887506  0.902326\n",
       " 0.805072  0.877353  0.750851  0.840697     0.988481  0.912715  0.871277\n",
       " 0.778884  0.847816  0.782086  0.827283     0.958666  0.921456  0.84039\n",
       " 0.801192  0.819374  0.813296  0.834318  …  0.927648  0.904781  0.809291\n",
       " 0.831791  0.807396  0.844531  0.853849     0.896398  0.879274  0.780467\n",
       " 0.862495  0.833443  0.87461   0.871101     0.865533  0.851986  0.790396\n",
       " ⋮                                       ⋱                      \n",
       " 0.911687  0.91385   0.81618   0.857396     0.884464  0.87297   0.897458\n",
       " 0.886648  0.888937  0.835764  0.888037     0.897683  0.869927  0.905044\n",
       " 0.866418  0.861515  0.847425  0.919285  …  0.888477  0.872662  0.889708\n",
       " 0.847702  0.834037  0.8543    0.947112     0.879485  0.881048  0.860807\n",
       " 0.841979  0.816612  0.859413  0.951912     0.871914  0.872291  0.835531\n",
       " 0.851188  0.829095  0.850498  0.923844     0.861771  0.865025  0.828031\n",
       " 0.868949  0.856907  0.842424  0.892606     0.862183  0.865494  0.845149\n",
       " 0.889787  0.88591   0.837338  0.861544  …  0.871703  0.880168  0.870659\n",
       " 0.909246  0.914585  0.846186  0.830325     0.881271  0.894668  0.895082\n",
       " 0.902656  0.930746  0.851098  0.7992       0.881947  0.891489  0.901945\n",
       " 0.878052  0.91024   0.853954  0.767981     0.87786   0.877661  0.888664\n",
       " 0.852454  0.879808  0.858186  0.744334     0.865207  0.863975  0.862146\n",
       "\n",
       "[:, :, 3] =\n",
       "  0.0         0.0         0.0         0.0       …   0.0           0.0\n",
       " -1.25047     4.21607     4.44199    -0.158864      0.859526      0.547404\n",
       " -1.46705    13.5934     19.1272      0.207673      1.90385       1.69265\n",
       "  7.84741    12.4209     20.3394      1.77933      -0.0755262     0.610644\n",
       "  6.46248    10.405      18.2782      0.426208     -1.44952      -1.30322\n",
       "  4.39317     8.38055    16.2072     -0.570477  …  -1.12008      -2.89437\n",
       "  2.34354     6.36121    14.1407     -0.342052      1.11161      -2.35728\n",
       "  0.310229    4.35825    12.0727      0.46958       1.4262        1.8426\n",
       " -1.65331     2.33687     9.98193     0.335974     -0.0943012     3.2661\n",
       " -2.94111     0.370006    7.90747    -0.325151     -0.865255      1.37022\n",
       " -1.63458    -1.37382     5.85493    -0.321761  …  -0.146097     -0.702637\n",
       "  2.99572    -1.92886     3.78654     0.303354      0.809596     -2.50867\n",
       "  2.54642    -0.0453318   1.73253     0.201789      0.14971      -2.18871\n",
       "  ⋮                                             ⋱                \n",
       " -0.767585   -0.788001   -0.261508    0.820857      0.0857608    -0.179018\n",
       "  0.82784     0.844172    0.175116    1.48048       0.042883     -0.634642\n",
       "  0.977805    1.14043     0.675607   -0.254828  …   0.0440979    -0.0826506\n",
       " -0.0116568  -0.122966    0.173817   -1.95602       0.0681918     0.72658\n",
       " -0.415439   -1.09539     0.0460839  -2.04704       0.0477396     0.0893431\n",
       " -0.106402   -0.609509    0.0639533   0.607985      0.032661     -0.688692\n",
       "  0.333305    1.10609     0.150444    2.69683      -0.00565178   -0.0269612\n",
       "  0.136788    0.881024    0.0464658   1.1918    …   0.0753344     0.720655\n",
       " -0.489131   -0.735435    0.062834   -0.800454     -0.000632204  -0.0113751\n",
       " -0.568821   -1.62714     0.158506   -2.7946       -0.147269     -0.674801\n",
       "  0.487124   -0.500792    0.081441   -4.79418       0.171398     -0.0931983\n",
       "  0.42342     1.83749     0.0590825  -4.86519       0.177072      0.643663\n",
       "\n",
       "[:, :, 4] =\n",
       " 10.6703   -5.4755    -30.5418   …   8.33455  12.8162  14.8112  14.8482\n",
       "  7.97652  -0.463387  -22.8577      10.7986   12.5166  15.6708  15.5951\n",
       " 10.9621    3.90271   -15.8423      12.9333   14.0838  15.8586  16.0141\n",
       " 13.3491    7.59644    -9.51705     14.3603   15.0711  15.4022  15.7984\n",
       " 15.0468   10.6183     -3.88196     15.071    15.4015  14.6627  14.8985\n",
       " 16.0575   12.9657      1.06299  …  15.0746   15.0764  14.9852  13.5032\n",
       " 16.387    14.6434      5.31782     14.4128   14.0891  15.6717  13.947\n",
       " 16.0369   15.649       8.88251     13.6666   12.4652  15.7925  15.2819\n",
       " 15.0415   15.9814     11.7545      14.3206   11.5212  15.4117  15.9726\n",
       " 13.6699   15.6812     13.9391      15.0731   13.4007  15.167   15.9692\n",
       " 14.8856   14.8195     15.4321   …  15.2011   14.7112  15.542   15.2714\n",
       " 15.9666   14.2678     16.238       14.7878   15.3663  15.7554  13.9994\n",
       " 16.3853   15.2734     16.3628      14.202    15.3642  15.4896  14.4958\n",
       "  ⋮                              ⋱                              \n",
       " 15.7325   15.6581     13.7173      14.5719   16.0918  15.9889  16.0572\n",
       " 16.2329   16.2212     14.0612      15.1555   15.9559  15.9968  15.8662\n",
       " 16.31     16.3443     14.1462   …  15.4392   16.0842  16.0252  16.1968\n",
       " 16.1198   15.944      14.1624      15.1751   16.1558  16.0386  16.3818\n",
       " 16.0005   15.4265     14.1598      14.7223   16.1772  16.0588  16.066\n",
       " 16.1461   15.8375     14.2313      15.0504   16.1414  16.0403  15.8929\n",
       " 16.2797   16.3324     14.2481      15.472    16.1604  16.0619  16.2474\n",
       " 16.1648   16.2641     14.2448   …  15.4298   16.2171  16.1021  16.3811\n",
       " 15.7898   15.6105     14.3166      15.1256   16.2068  15.9911  16.0714\n",
       " 15.9391   14.9783     14.3452      15.0867   16.2133  16.0432  15.8994\n",
       " 16.2378   15.7366     14.3661      15.5102   16.2442  16.1499  16.1804\n",
       " 16.0965   16.3296     14.3721      15.5264   16.2471  16.1293  16.3852"
      ]
     },
     "execution_count": 66,
     "metadata": {},
     "output_type": "execute_result"
    }
   ],
   "source": [
    "chains  = Sample(e_spl, parallel_target, 10000;\n",
    "                 monitor_energy=true, dialog=true)"
   ]
  },
  {
   "cell_type": "code",
   "execution_count": 82,
   "id": "1a6e2e82",
   "metadata": {},
   "outputs": [
    {
     "data": {
      "text/plain": [
       "10000-element Vector{Any}:\n",
       " [0.21039743573622002, 1.1266819814457478, 0.0, -5.475498931720689]\n",
       " [0.21042141818905855, 1.0955677360677136, 4.2160651278562336, -0.463387138521143]\n",
       " [0.21041907293212536, 1.0643190295120433, 13.593366820754543, 3.9027053797808375]\n",
       " [0.21042141165524933, 1.0330703157598708, 12.420854595432285, 7.5964396705395885]\n",
       " [0.21041962670495318, 1.0018210649612234, 10.40500033767267, 10.61831395969026]\n",
       " [0.21040739012656845, 0.9706063294023118, 8.380546089617384, 12.96567037604934]\n",
       " [0.21040222981226941, 0.9393626056887984, 6.361210962606403, 14.643367505131371]\n",
       " [0.2104176715271689, 0.9081688103683943, 4.358246660904307, 15.649040825008516]\n",
       " [0.21037491407840886, 0.8773532054348089, 2.3368656127596488, 15.98136435948632]\n",
       " [0.2102912698397978, 0.8478159235477009, 0.37000603235731866, 15.681192892716211]\n",
       " [0.21018585626269826, 0.8193740858601403, -1.3738191921791056, 14.81954726308625]\n",
       " [0.20995375165298508, 0.8073962379697915, -1.928857819491622, 14.267830096905834]\n",
       " [0.20981681830944127, 0.8334432613711807, -0.04533178512759051, 15.273361464056922]\n",
       " ⋮\n",
       " [0.21982593487252775, 0.9138502917080985, -0.7880008125391385, 15.658050211152597]\n",
       " [0.22005208308304203, 0.8889370585062403, 0.8441718627556298, 16.221247324691177]\n",
       " [0.2202323439489867, 0.8615152000546696, 1.140432656521643, 16.34429306623164]\n",
       " [0.2204118795830405, 0.8340374339747925, -0.1229658671528675, 15.944028406254464]\n",
       " [0.22072594756694544, 0.8166121792790239, -1.0953887563619311, 15.426462725463022]\n",
       " [0.2210744178655526, 0.829094968874487, -0.6095093916211951, 15.83748680058562]\n",
       " [0.22124833227911134, 0.8569072697193003, 1.1060851058515535, 16.332417219589484]\n",
       " [0.22139063889071067, 0.8859098197841988, 0.881023800850091, 16.264091404407775]\n",
       " [0.2215428142550554, 0.9145847482438437, -0.7354347694899452, 15.610544757841375]\n",
       " [0.22187133932260614, 0.930746117572121, -1.6271448920023808, 14.97826286785497]\n",
       " [0.22216190395525737, 0.9102403564770789, -0.5007915421201083, 15.73664986688195]\n",
       " [0.2222495904730743, 0.8798084596821146, 1.837492600904616, 16.329613736450252]"
      ]
     },
     "execution_count": 82,
     "metadata": {},
     "output_type": "execute_result"
    }
   ],
   "source": [
    "A = chains[:, 1, :]\n",
    "B = chains[:, 2, :]\n",
    "chain0 = []\n",
    "chain1 = Vector{eltype(A)}[eachrow(A)...]\n",
    "chain2 = Vector{eltype(B)}[eachrow(B)...]\n",
    "cat(chain0, chain2; dims=1)"
   ]
  },
  {
   "cell_type": "code",
   "execution_count": 80,
   "id": "a094db9e",
   "metadata": {},
   "outputs": [
    {
     "data": {
      "text/plain": [
       "10000"
      ]
     },
     "execution_count": 80,
     "metadata": {},
     "output_type": "execute_result"
    }
   ],
   "source": [
    "length(chain1[1])"
   ]
  },
  {
   "cell_type": "code",
   "execution_count": 94,
   "id": "ed38aeeb",
   "metadata": {},
   "outputs": [
    {
     "data": {
      "text/plain": [
       "unroll_chains (generic function with 1 method)"
      ]
     },
     "execution_count": 94,
     "metadata": {},
     "output_type": "execute_result"
    }
   ],
   "source": [
    "function unroll_chains(chains; burnin=1000)\n",
    "    chains = chains[burnin:end, :, :]\n",
    "    nsteps, nchains, nparams = axes(chains)\n",
    "    chain = [] \n",
    "    for i in nchains\n",
    "        A = chains[:, i, :]\n",
    "        chain_i = Vector{eltype(A)}[eachrow(A)...]\n",
    "        chain = cat(chain, chain_i; dims=1)\n",
    "    end    \n",
    "    return chain\n",
    "end    "
   ]
  },
  {
   "cell_type": "code",
   "execution_count": 95,
   "id": "faecac31",
   "metadata": {},
   "outputs": [
    {
     "data": {
      "text/plain": [
       "900100-element Vector{Any}:\n",
       " [0.2211592212218657, 0.8668313899935313, 0.8746208189603628, 16.37448318605033]\n",
       " [0.22100015817870977, 0.8384347845824849, 0.18132074923536834, 16.06121711859383]\n",
       " [0.22076023687285884, 0.8142004491404073, -1.1782412994303044, 15.33806607378571]\n",
       " [0.22039469862985195, 0.8222765847821808, -1.1546187869228977, 15.608817456226458]\n",
       " [0.22021447780805084, 0.8497212890487814, 0.9632362265682808, 16.23436011887959]\n",
       " [0.22005428098303909, 0.8779901863811541, 1.2660797788057891, 16.3322250631643]\n",
       " [0.21976869051074935, 0.898200467300231, -0.02115095449385862, 16.06203434251919]\n",
       " [0.2194028532821954, 0.9039959192829728, -0.5585919253778968, 15.933783155573797]\n",
       " [0.21911009478701673, 0.8848861601993842, 0.03654935334579967, 16.264330797533113]\n",
       " [0.2189145385874016, 0.858407606661207, 0.6005879884659784, 16.294339490226033]\n",
       " [0.21861868393924205, 0.8399788375788612, -0.15374390584202047, 16.016416680298335]\n",
       " [0.21825670940449188, 0.8369373309550995, -0.5388572504830833, 15.934625111970218]\n",
       " [0.21793337425450288, 0.850806752852655, 0.030102398263093022, 16.18104776923009]\n",
       " ⋮\n",
       " [0.22286829695025584, 0.8974582357980601, -0.17901815547146427, 16.057170575925756]\n",
       " [0.22324494207701495, 0.9050437388821466, -0.6346415282425433, 15.866249260802093]\n",
       " [0.22358392278662367, 0.8897082752262031, -0.08265062020618963, 16.196788682211746]\n",
       " [0.22373206112512115, 0.8608067019802096, 0.726580182409883, 16.38180853505008]\n",
       " [0.22396128633827592, 0.8355314399303798, 0.08934306817975823, 16.06601792435005]\n",
       " [0.22434004782230607, 0.8280308855279538, -0.6886917901007443, 15.89292443232484]\n",
       " [0.2246667162658962, 0.8451494470970674, -0.026961183855789272, 16.247403881214233]\n",
       " [0.22489233456826557, 0.870658744158727, 0.7206552353276798, 16.381130548560247]\n",
       " [0.22513601746394032, 0.895082412478722, -0.011375065125722728, 16.07135000299825]\n",
       " [0.22551703440821952, 0.9019450922549213, -0.6748013125814971, 15.899378190654234]\n",
       " [0.2258703482802865, 0.8886639896873523, -0.09319834294101881, 16.180409182001863]\n",
       " [0.22607670796436932, 0.8621462356195568, 0.6436631378592441, 16.385177261884184]"
      ]
     },
     "execution_count": 95,
     "metadata": {},
     "output_type": "execute_result"
    }
   ],
   "source": [
    "chain = unroll_chains(chains)"
   ]
  },
  {
   "cell_type": "code",
   "execution_count": 96,
   "id": "ab323c73",
   "metadata": {},
   "outputs": [],
   "source": [
    "Wms_mchmc = [sample[1] for sample in chain]\n",
    "s8s_mchmc = [sample[2] for sample in chain];"
   ]
  },
  {
   "cell_type": "code",
   "execution_count": 97,
   "id": "3469f252",
   "metadata": {},
   "outputs": [
    {
     "data": {
      "image/png": "[encoded data removed]",
      "text/plain": [
       "Figure(PyObject <Figure size 640x480 with 1 Axes>)"
      ]
     },
     "metadata": {},
     "output_type": "display_data"
    }
   ],
   "source": [
    "plt.hist2d(Wms_mchmc, s8s_mchmc, bins=100, range=[[0.1, 0.4],[0.6, 1.2]]);\n",
    "plt.xlabel(\"Wm\")\n",
    "plt.ylabel(\"s8\")\n",
    "plt.title(\"MCHMC - RSD model - eps = 0.001 --> var[E]~0.00003\");"
   ]
  },
  {
   "cell_type": "code",
   "execution_count": 27,
   "id": "42cf1f7f",
   "metadata": {
    "scrolled": true
   },
   "outputs": [
    {
     "name": "stdout",
     "output_type": "stream",
     "text": [
      "eps: 0.5 --> VarE: 290.46399781676433\n",
      "eps: "
     ]
    },
    {
     "name": "stderr",
     "output_type": "stream",
     "text": [
      "\u001b[36m\u001b[1m[ \u001b[22m\u001b[39m\u001b[36m\u001b[1mInfo: \u001b[22m\u001b[39mTuning eps ⏳\n"
     ]
    },
    {
     "name": "stdout",
     "output_type": "stream",
     "text": [
      "0.25 --> VarE: 214.2127261226403\n",
      "eps: 0.125 --> VarE: 28.50486609863067\n",
      "eps: 0.0625 --> VarE: 6.192539578538844\n",
      "eps: 0.03125 --> VarE: 3.9635803650587897\n",
      "eps: 0.015625 --> VarE: 1.2185184572292733\n",
      "samples: 100--> ESS: 0.02311534519904613\n",
      "samples: 243--> ESS: 0.009373449315926718\n",
      "samples: 447--> ESS: 0.01938016721182164\n",
      "samples: 739--> ESS: 0.018393218039261847\n"
     ]
    },
    {
     "name": "stderr",
     "output_type": "stream",
     "text": [
      "\u001b[36m\u001b[1m[ \u001b[22m\u001b[39m\u001b[36m\u001b[1mInfo: \u001b[22m\u001b[39mFound eps: 0.015625 ✅\n",
      "\u001b[36m\u001b[1m[ \u001b[22m\u001b[39m\u001b[36m\u001b[1mInfo: \u001b[22m\u001b[39mTuning L ⏳\n",
      "\u001b[36m\u001b[1m[ \u001b[22m\u001b[39m\u001b[36m\u001b[1mInfo: \u001b[22m\u001b[39mFound L: 1.4142135623730951 ✅\n",
      "\u001b[34mchain 3:   4%|█▉                                        |  ETA: 0:00:02\u001b[39m\n",
      "\u001b[32mchain 4:   5%|██▏                                       |  ETA: 0:00:02\u001b[39m\n",
      "\u001b[35mchain 1:   4%|█▉                                        |  ETA: 0:00:02\u001b[39m\n",
      "\u001b[36mchain 2:   4%|█▉                                        |  ETA: 0:00:02\u001b[39m\n",
      "\n",
      "\n",
      "\u001b[32mchain 4:  10%|████▍                                     |  ETA: 0:00:02\u001b[39m\n",
      "\n",
      "\u001b[34mchain 3:  11%|████▋                                     |  ETA: 0:00:02\u001b[39m\n",
      "\u001b[35mchain 1:  11%|████▋                                     |  ETA: 0:00:02\u001b[39m\n",
      "\u001b[36mchain 2:  10%|████▍                                     |  ETA: 0:00:02\u001b[39m\n",
      "\u001b[32mchain 4:  16%|██████▊                                   |  ETA: 0:00:02\u001b[39m\n",
      "\n",
      "\u001b[35mchain 1:  17%|███████▏                                  |  ETA: 0:00:02\u001b[39m\n",
      "\u001b[36mchain 2:  16%|██████▉                                   |  ETA: 0:00:02\u001b[39m\n",
      "\u001b[32mchain 4:  22%|█████████▎                                |  ETA: 0:00:01\u001b[39m\n",
      "\u001b[35mchain 1:  23%|█████████▋                                |  ETA: 0:00:01\u001b[39m\n",
      "\u001b[34mchain 3:  23%|█████████▋                                |  ETA: 0:00:01\u001b[39m\n",
      "\u001b[36mchain 2:  22%|█████████▎                                |  ETA: 0:00:01\u001b[39m\n",
      "\n",
      "\u001b[32mchain 4:  28%|███████████▊                              |  ETA: 0:00:01\u001b[39m\n",
      "\u001b[35mchain 1:  29%|████████████▏                             |  ETA: 0:00:01\u001b[39m\n",
      "\u001b[34mchain 3:  29%|████████████▏                             |  ETA: 0:00:01\u001b[39m\n",
      "\u001b[36mchain 2:  28%|███████████▌                              |  ETA: 0:00:01\u001b[39m\n",
      "\u001b[32mchain 4:  34%|██████████████▏                           |  ETA: 0:00:01\u001b[39m\n",
      "\u001b[35mchain 1:  34%|██████████████▌                           |  ETA: 0:00:01\u001b[39m\n",
      "\u001b[34mchain 3:  34%|██████████████▌                           |  ETA: 0:00:01\u001b[39m\n",
      "\u001b[36mchain 2:  34%|██████████████▏                           |  ETA: 0:00:01\u001b[39m\n",
      "\u001b[35mchain 1:  40%|████████████████▊                         |  ETA: 0:00:01\u001b[39m\n",
      "\n",
      "\u001b[32mchain 4:  40%|████████████████▋                         |  ETA: 0:00:01\u001b[39m\n",
      "\u001b[36mchain 2:  39%|████████████████▍                         |  ETA: 0:00:01\u001b[39m\n",
      "\u001b[34mchain 3:  40%|████████████████▊                         |  ETA: 0:00:01\u001b[39m\n",
      "\u001b[32mchain 4:  45%|██████████████████▉                       |  ETA: 0:00:01\u001b[39m\n",
      "\u001b[35mchain 1:  46%|███████████████████▍                      |  ETA: 0:00:01\u001b[39m\n",
      "\n",
      "\u001b[36mchain 2:  45%|██████████████████▉                       |  ETA: 0:00:01\u001b[39m\n",
      "\u001b[34mchain 3:  46%|███████████████████▍                      |  ETA: 0:00:01\u001b[39m\n",
      "\n",
      "\u001b[36mchain 2:  50%|█████████████████████▎                    |  ETA: 0:00:01\u001b[39m\n",
      "\u001b[32mchain 4:  50%|█████████████████████▎                    |  ETA: 0:00:01\u001b[39m\n",
      "\n",
      "\u001b[34mchain 3:  52%|█████████████████████▋                    |  ETA: 0:00:01\u001b[39m\u001b[35mchain 1:  52%|█████████████████████▉                    |  ETA: 0:00:01\u001b[39m\n",
      "\u001b[36mchain 2:  57%|████████████████████████                  |  ETA: 0:00:01\u001b[39m\n",
      "\u001b[32mchain 4:  56%|███████████████████████▊                  |  ETA: 0:00:01\u001b[39m\n",
      "\u001b[34mchain 3:  58%|████████████████████████▏                 |  ETA: 0:00:01\u001b[39m\n",
      "\u001b[35mchain 1:  58%|████████████████████████▍                 |  ETA: 0:00:01\u001b[39m\n",
      "\u001b[36mchain 2:  64%|██████████████████████████▋               |  ETA: 0:00:01\u001b[39m\n",
      "\u001b[34mchain 3:  64%|██████████████████████████▋               |  ETA: 0:00:01\u001b[39m\n",
      "\u001b[32mchain 4:  63%|██████████████████████████▌               |  ETA: 0:00:01\u001b[39m\n",
      "\u001b[35mchain 1:  64%|██████████████████████████▉               |  ETA: 0:00:01\u001b[39m\n",
      "\n",
      "\n",
      "\u001b[34mchain 3:  70%|█████████████████████████████▎            |  ETA: 0:00:01\u001b[39m\n",
      "\u001b[32mchain 4:  68%|████████████████████████████▊             |  ETA: 0:00:01\u001b[39m\n",
      "\u001b[36mchain 2:  70%|█████████████████████████████▍            |  ETA: 0:00:01\u001b[39m\n",
      "\u001b[35mchain 1:  70%|█████████████████████████████▍            |  ETA: 0:00:01\u001b[39m\n",
      "\n",
      "\u001b[34mchain 3:  76%|███████████████████████████████▊          |  ETA: 0:00:00\u001b[39m\n",
      "\u001b[36mchain 2:  76%|███████████████████████████████▊          |  ETA: 0:00:00\u001b[39m\n",
      "\u001b[32mchain 4:  75%|███████████████████████████████▌          |  ETA: 0:00:00\u001b[39m\n",
      "\u001b[35mchain 1:  76%|███████████████████████████████▉          |  ETA: 0:00:00\u001b[39m\n",
      "\n",
      "\u001b[34mchain 3:  82%|██████████████████████████████████▎       |  ETA: 0:00:00\u001b[39m\n",
      "\u001b[35mchain 1:  82%|██████████████████████████████████▎       |  ETA: 0:00:00\u001b[39m\n",
      "\n",
      "\u001b[36mchain 2:  81%|██████████████████████████████████        |  ETA: 0:00:00\u001b[39m\n",
      "\u001b[32mchain 4:  82%|██████████████████████████████████▎       |  ETA: 0:00:00\u001b[39m\n",
      "\u001b[34mchain 3:  88%|████████████████████████████████████▊     |  ETA: 0:00:00\u001b[39m\n",
      "\u001b[36mchain 2:  87%|████████████████████████████████████▌     |  ETA: 0:00:00\u001b[39m\n",
      "\u001b[35mchain 1:  87%|████████████████████████████████████▌     |  ETA: 0:00:00\u001b[39m\n",
      "\u001b[32mchain 4:  88%|████████████████████████████████████▊     |  ETA: 0:00:00\u001b[39m\n",
      "\n",
      "\n",
      "\u001b[34mchain 3:  94%|███████████████████████████████████████▎  |  ETA: 0:00:00\u001b[39m\n",
      "\u001b[35mchain 1:  93%|███████████████████████████████████████   |  ETA: 0:00:00\u001b[39m\n",
      "\u001b[36mchain 2:  93%|███████████████████████████████████████   |  ETA: 0:00:00\u001b[39m\n",
      "\u001b[32mchain 4:  94%|███████████████████████████████████████▎  |  ETA: 0:00:00\u001b[39m\n",
      "\u001b[35mchain 1:  98%|█████████████████████████████████████████▍|  ETA: 0:00:00\u001b[39m\n",
      "\u001b[34mchain 3:  99%|█████████████████████████████████████████▋|  ETA: 0:00:00\u001b[39m\n",
      "\n",
      "\u001b[32mchain 4: 100%|█████████████████████████████████████████▊|  ETA: 0:00:00\u001b[39m\n",
      "\u001b[34mchain 3: 100%|██████████████████████████████████████████| Time: 0:00:01\u001b[39m\n",
      "\u001b[32mchain 4: 100%|██████████████████████████████████████████| Time: 0:00:01\u001b[39m\n",
      "\u001b[36mchain 2: 100%|██████████████████████████████████████████| Time: 0:00:01\u001b[39m\n",
      "\u001b[35mchain 1: 100%|██████████████████████████████████████████| Time: 0:00:01\u001b[39m\n"
     ]
    },
    {
     "data": {
      "text/plain": [
       "4-element Vector{Chains}:\n",
       " MCMC chain (30000×4×1 Array{Float64, 3})\n",
       " MCMC chain (30000×4×1 Array{Float64, 3})\n",
       " MCMC chain (30000×4×1 Array{Float64, 3})\n",
       " MCMC chain (30000×4×1 Array{Float64, 3})"
      ]
     },
     "execution_count": 27,
     "metadata": {},
     "output_type": "execute_result"
    }
   ],
   "source": [
    "samples = sample(\n",
    "    stat_model, MCHMC(varE_wanted=2.0), MCMCThreads(), 30000, 4;\n",
    "    monitor_energy=true, \n",
    "    dialog=true)"
   ]
  },
  {
   "cell_type": "code",
   "execution_count": 28,
   "id": "2e8cd8ab",
   "metadata": {
    "scrolled": false
   },
   "outputs": [
    {
     "name": "stderr",
     "output_type": "stream",
     "text": [
      "\u001b[36m\u001b[1m[ \u001b[22m\u001b[39m\u001b[36m\u001b[1mInfo: \u001b[22m\u001b[39mStarting from previous run\n",
      "\u001b[35mchain 1:   4%|█▌                                        |  ETA: 0:00:03\u001b[39m\n",
      "\u001b[34mchain 4:   4%|█▉                                        |  ETA: 0:00:02\u001b[39m\n",
      "\u001b[36mchain 2:   4%|█▉                                        |  ETA: 0:00:02\u001b[39m\n",
      "\u001b[32mchain 3:   5%|██▏                                       |  ETA: 0:00:02\u001b[39m\n",
      "\n",
      "\n",
      "\u001b[35mchain 1:  10%|████                                      |  ETA: 0:00:02\u001b[39m\n",
      "\u001b[36mchain 2:  10%|████▎                                     |  ETA: 0:00:02\u001b[39m\n",
      "\u001b[34mchain 4:  10%|████▍                                     |  ETA: 0:00:02\u001b[39m\n",
      "\n",
      "\u001b[32mchain 3:  12%|█████                                     |  ETA: 0:00:02\u001b[39m\n",
      "\u001b[35mchain 1:  16%|██████▌                                   |  ETA: 0:00:02\u001b[39m\n",
      "\u001b[36mchain 2:  16%|██████▌                                   |  ETA: 0:00:02\u001b[39m\n",
      "\u001b[34mchain 4:  16%|██████▉                                   |  ETA: 0:00:02\u001b[39m\n",
      "\n",
      "\u001b[32mchain 3:  18%|███████▊                                  |  ETA: 0:00:01\u001b[39m\n",
      "\n",
      "\n",
      "\n",
      "\u001b[35mchain 1:  22%|█████████▎                                |  ETA: 0:00:01\u001b[39m\n",
      "\n",
      "\u001b[34mchain 4:  22%|█████████▌                                |  ETA: 0:00:01\u001b[39m\u001b[36mchain 2:  22%|█████████                                 |  ETA: 0:00:02\u001b[39m\n",
      "\n",
      "\u001b[32mchain 3:  24%|██████████▎                               |  ETA: 0:00:01\u001b[39m\n",
      "\n",
      "\n",
      "\u001b[34mchain 4:  28%|███████████▊                              |  ETA: 0:00:01\u001b[39m\n",
      "\u001b[35mchain 1:  28%|████████████                              |  ETA: 0:00:01\u001b[39m\n",
      "\u001b[36mchain 2:  28%|███████████▌                              |  ETA: 0:00:01\u001b[39m\n",
      "\u001b[32mchain 3:  31%|█████████████                             |  ETA: 0:00:01\u001b[39m\n",
      "\n",
      "\u001b[34mchain 4:  34%|██████████████▎                           |  ETA: 0:00:01\u001b[39m\n",
      "\u001b[35mchain 1:  35%|██████████████▊                           |  ETA: 0:00:01\u001b[39m\n",
      "\u001b[36mchain 2:  34%|██████████████▎                           |  ETA: 0:00:01\u001b[39m\n",
      "\u001b[32mchain 3:  37%|███████████████▌                          |  ETA: 0:00:01\u001b[39m\n",
      "\u001b[34mchain 4:  40%|████████████████▊                         |  ETA: 0:00:01\u001b[39m\n",
      "\n",
      "\u001b[35mchain 1:  41%|█████████████████▎                        |  ETA: 0:00:01\u001b[39m\n",
      "\n",
      "\u001b[32mchain 3:  43%|██████████████████                        |  ETA: 0:00:01\u001b[39m\n",
      "\n",
      "\u001b[36mchain 2:  40%|█████████████████                         |  ETA: 0:00:01\u001b[39m\n",
      "\u001b[34mchain 4:  46%|███████████████████▍                      |  ETA: 0:00:01\u001b[39m\n",
      "\u001b[35mchain 1:  47%|███████████████████▊                      |  ETA: 0:00:01\u001b[39m\n",
      "\u001b[32mchain 3:  49%|████████████████████▋                     |  ETA: 0:00:01\u001b[39m\n",
      "\u001b[36mchain 2:  46%|███████████████████▌                      |  ETA: 0:00:01\u001b[39m\n",
      "\u001b[34mchain 4:  52%|█████████████████████▉                    |  ETA: 0:00:01\u001b[39m\n",
      "\u001b[32mchain 3:  55%|███████████████████████▏                  |  ETA: 0:00:01\u001b[39m\n",
      "\u001b[35mchain 1:  53%|██████████████████████▎                   |  ETA: 0:00:01\u001b[39m\n",
      "\u001b[36mchain 2:  52%|█████████████████████▉                    |  ETA: 0:00:01\u001b[39m\n",
      "\u001b[34mchain 4:  58%|████████████████████████▍                 |  ETA: 0:00:01\u001b[39m\n",
      "\u001b[32mchain 3:  61%|█████████████████████████▋                |  ETA: 0:00:01\u001b[39m\n",
      "\u001b[35mchain 1:  59%|████████████████████████▊                 |  ETA: 0:00:01\u001b[39m\n",
      "\u001b[36mchain 2:  58%|████████████████████████▏                 |  ETA: 0:00:01\u001b[39m\n",
      "\u001b[34mchain 4:  64%|██████████████████████████▉               |  ETA: 0:00:01\u001b[39m\n",
      "\n",
      "\u001b[32mchain 3:  66%|███████████████████████████▉              |  ETA: 0:00:01\u001b[39m\n",
      "\u001b[35mchain 1:  65%|███████████████████████████▎              |  ETA: 0:00:01\u001b[39m\n",
      "\n",
      "\u001b[36mchain 2:  64%|██████████████████████████▋               |  ETA: 0:00:01\u001b[39m\n",
      "\u001b[34mchain 4:  70%|█████████████████████████████▍            |  ETA: 0:00:01\u001b[39m\n",
      "\u001b[32mchain 3:  73%|██████████████████████████████▋           |  ETA: 0:00:00\u001b[39m\n",
      "\u001b[35mchain 1:  71%|█████████████████████████████▉            |  ETA: 0:00:01\u001b[39m\n",
      "\u001b[36mchain 2:  69%|█████████████████████████████             |  ETA: 0:00:01\u001b[39m\n",
      "\u001b[34mchain 4:  76%|███████████████████████████████▊          |  ETA: 0:00:00\u001b[39m\n",
      "\n",
      "\n",
      "\u001b[32mchain 3:  79%|█████████████████████████████████▏        |  ETA: 0:00:00\u001b[39m\n",
      "\u001b[35mchain 1:  77%|████████████████████████████████▍         |  ETA: 0:00:00\u001b[39m\n",
      "\u001b[36mchain 2:  74%|███████████████████████████████▎          |  ETA: 0:00:00\u001b[39m\n",
      "\u001b[34mchain 4:  82%|██████████████████████████████████▎       |  ETA: 0:00:00\u001b[39m\n",
      "\u001b[32mchain 3:  85%|███████████████████████████████████▊      |  ETA: 0:00:00\u001b[39m\n",
      "\u001b[35mchain 1:  84%|███████████████████████████████████▏      |  ETA: 0:00:00\u001b[39m\n",
      "\n",
      "\u001b[36mchain 2:  80%|█████████████████████████████████▋        |  ETA: 0:00:00\u001b[39m\n",
      "\u001b[34mchain 4:  88%|████████████████████████████████████▊     |  ETA: 0:00:00\u001b[39m\n",
      "\n",
      "\u001b[35mchain 1:  89%|█████████████████████████████████████▍    |  ETA: 0:00:00\u001b[39m\n",
      "\u001b[32mchain 3:  91%|██████████████████████████████████████▎   |  ETA: 0:00:00\u001b[39m\n",
      "\n",
      "\u001b[36mchain 2:  86%|████████████████████████████████████▍     |  ETA: 0:00:00\u001b[39m\n",
      "\u001b[34mchain 4:  94%|███████████████████████████████████████▎  |  ETA: 0:00:00\u001b[39m\n",
      "\n",
      "\n",
      "\u001b[32mchain 3:  96%|████████████████████████████████████████▌ |  ETA: 0:00:00\u001b[39m\n",
      "\u001b[35mchain 1:  96%|████████████████████████████████████████▏ |  ETA: 0:00:00\u001b[39m\n",
      "\u001b[32mchain 3: 100%|██████████████████████████████████████████| Time: 0:00:01\u001b[39m\n",
      "\n",
      "\u001b[34mchain 4: 100%|██████████████████████████████████████████| Time: 0:00:01\u001b[39m\n",
      "\u001b[35mchain 1: 100%|██████████████████████████████████████████| Time: 0:00:01\u001b[39m\n",
      "\u001b[36mchain 2: 100%|██████████████████████████████████████████| Time: 0:00:01\u001b[39m\n"
     ]
    },
    {
     "data": {
      "text/plain": [
       "4-element Vector{Chains}:\n",
       " MCMC chain (30000×4×1 Array{Float64, 3})\n",
       " MCMC chain (30000×4×1 Array{Float64, 3})\n",
       " MCMC chain (30000×4×1 Array{Float64, 3})\n",
       " MCMC chain (30000×4×1 Array{Float64, 3})"
      ]
     },
     "execution_count": 28,
     "metadata": {},
     "output_type": "execute_result"
    }
   ],
   "source": [
    "new_samples = sample(\n",
    "    stat_model, MCHMC(varE_wanted=2.0), MCMCThreads(), 30000, 4;\n",
    "    monitor_energy=true, \n",
    "    dialog=true, \n",
    "    resume_from=samples)"
   ]
  },
  {
   "cell_type": "markdown",
   "id": "4aadd3b5",
   "metadata": {},
   "source": [
    "## NUTS"
   ]
  },
  {
   "cell_type": "code",
   "execution_count": 29,
   "id": "dcbe40a3",
   "metadata": {},
   "outputs": [
    {
     "name": "stderr",
     "output_type": "stream",
     "text": [
      "\u001b[36m\u001b[1m┌ \u001b[22m\u001b[39m\u001b[36m\u001b[1mInfo: \u001b[22m\u001b[39mFound initial step size\n",
      "\u001b[36m\u001b[1m└ \u001b[22m\u001b[39m  ϵ = 0.05\n",
      "\u001b[33m\u001b[1m┌ \u001b[22m\u001b[39m\u001b[33m\u001b[1mWarning: \u001b[22m\u001b[39mThe current proposal will be rejected due to numerical error(s).\n",
      "\u001b[33m\u001b[1m│ \u001b[22m\u001b[39m  isfinite.((θ, r, ℓπ, ℓκ)) = (true, false, false, false)\n",
      "\u001b[33m\u001b[1m└ \u001b[22m\u001b[39m\u001b[90m@ AdvancedHMC ~/.julia/packages/AdvancedHMC/4fByY/src/hamiltonian.jl:49\u001b[39m\n",
      "\u001b[33m\u001b[1m┌ \u001b[22m\u001b[39m\u001b[33m\u001b[1mWarning: \u001b[22m\u001b[39mThe current proposal will be rejected due to numerical error(s).\n",
      "\u001b[33m\u001b[1m│ \u001b[22m\u001b[39m  isfinite.((θ, r, ℓπ, ℓκ)) = (true, false, false, false)\n",
      "\u001b[33m\u001b[1m└ \u001b[22m\u001b[39m\u001b[90m@ AdvancedHMC ~/.julia/packages/AdvancedHMC/4fByY/src/hamiltonian.jl:49\u001b[39m\n",
      "\u001b[32mSampling:   1%|▋                                        |  ETA: 0:00:15\u001b[39m\u001b[33m\u001b[1m┌ \u001b[22m\u001b[39m\u001b[33m\u001b[1mWarning: \u001b[22m\u001b[39mThe current proposal will be rejected due to numerical error(s).\n",
      "\u001b[33m\u001b[1m│ \u001b[22m\u001b[39m  isfinite.((θ, r, ℓπ, ℓκ)) = (true, false, false, false)\n",
      "\u001b[33m\u001b[1m└ \u001b[22m\u001b[39m\u001b[90m@ AdvancedHMC ~/.julia/packages/AdvancedHMC/4fByY/src/hamiltonian.jl:49\u001b[39m\n",
      "\u001b[33m\u001b[1m┌ \u001b[22m\u001b[39m\u001b[33m\u001b[1mWarning: \u001b[22m\u001b[39mThe current proposal will be rejected due to numerical error(s).\n",
      "\u001b[33m\u001b[1m│ \u001b[22m\u001b[39m  isfinite.((θ, r, ℓπ, ℓκ)) = (true, false, false, false)\n",
      "\u001b[33m\u001b[1m└ \u001b[22m\u001b[39m\u001b[90m@ AdvancedHMC ~/.julia/packages/AdvancedHMC/4fByY/src/hamiltonian.jl:49\u001b[39m\n",
      "\u001b[32mSampling: 100%|█████████████████████████████████████████| Time: 0:00:02\u001b[39m\n"
     ]
    },
    {
     "data": {
      "text/plain": [
       "Chains MCMC chain (10000×14×1 Array{Float64, 3}):\n",
       "\n",
       "Iterations        = 501:1:10500\n",
       "Number of chains  = 1\n",
       "Samples per chain = 10000\n",
       "Wall duration     = 5.58 seconds\n",
       "Compute duration  = 5.58 seconds\n",
       "parameters        = Ωm, σ8\n",
       "internals         = lp, n_steps, is_accept, acceptance_rate, log_density, hamiltonian_energy, hamiltonian_energy_error, max_hamiltonian_energy_error, tree_depth, numerical_error, step_size, nom_step_size\n",
       "\n",
       "Summary Statistics\n",
       " \u001b[1m parameters \u001b[0m \u001b[1m    mean \u001b[0m \u001b[1m     std \u001b[0m \u001b[1m naive_se \u001b[0m \u001b[1m    mcse \u001b[0m \u001b[1m       ess \u001b[0m \u001b[1m    rhat \u001b[0m \u001b[1m \u001b[0m ⋯\n",
       " \u001b[90m     Symbol \u001b[0m \u001b[90m Float64 \u001b[0m \u001b[90m Float64 \u001b[0m \u001b[90m  Float64 \u001b[0m \u001b[90m Float64 \u001b[0m \u001b[90m   Float64 \u001b[0m \u001b[90m Float64 \u001b[0m \u001b[90m \u001b[0m ⋯\n",
       "\n",
       "          Ωm    0.2241    0.0142     0.0001    0.0002   7254.0646    1.0000    ⋯\n",
       "          σ8    0.8658    0.0396     0.0004    0.0005   7467.4613    1.0000    ⋯\n",
       "\u001b[36m                                                                1 column omitted\u001b[0m\n",
       "\n",
       "Quantiles\n",
       " \u001b[1m parameters \u001b[0m \u001b[1m    2.5% \u001b[0m \u001b[1m   25.0% \u001b[0m \u001b[1m   50.0% \u001b[0m \u001b[1m   75.0% \u001b[0m \u001b[1m   97.5% \u001b[0m\n",
       " \u001b[90m     Symbol \u001b[0m \u001b[90m Float64 \u001b[0m \u001b[90m Float64 \u001b[0m \u001b[90m Float64 \u001b[0m \u001b[90m Float64 \u001b[0m \u001b[90m Float64 \u001b[0m\n",
       "\n",
       "          Ωm    0.2014    0.2120    0.2238    0.2361    0.2485\n",
       "          σ8    0.7879    0.8390    0.8657    0.8930    0.9428\n"
      ]
     },
     "execution_count": 29,
     "metadata": {},
     "output_type": "execute_result"
    }
   ],
   "source": [
    "samples_hmc = sample(stat_model, NUTS(500, 0.65),\n",
    "                     10000, progress=true; save_state=true)"
   ]
  },
  {
   "cell_type": "code",
   "execution_count": 30,
   "id": "623ba990",
   "metadata": {},
   "outputs": [
    {
     "data": {
      "text/plain": [
       "3-dimensional AxisArray{Float64,3,...} with axes:\n",
       "    :iter, 501:1:10500\n",
       "    :var, [:Ωm, :σ8, :lp, :n_steps, :is_accept, :acceptance_rate, :log_density, :hamiltonian_energy, :hamiltonian_energy_error, :max_hamiltonian_energy_error, :tree_depth, :numerical_error, :step_size, :nom_step_size]\n",
       "    :chain, 1:1\n",
       "And data, a 10000×14×1 Array{Float64, 3}:\n",
       "[:, :, 1] =\n",
       " 0.22049   0.847179  16.2051  3.0  1.0  …  2.0  0.0  1.17787  1.17787\n",
       " 0.20023   0.85054   11.9486  3.0  1.0     2.0  0.0  1.17787  1.17787\n",
       " 0.242825  0.855463  15.6002  3.0  1.0     2.0  0.0  1.17787  1.17787\n",
       " 0.219619  0.849313  16.213   3.0  1.0     2.0  0.0  1.17787  1.17787\n",
       " 0.219918  0.901822  15.9835  3.0  1.0     2.0  0.0  1.17787  1.17787\n",
       " 0.233441  0.900341  15.6225  3.0  1.0  …  1.0  0.0  1.17787  1.17787\n",
       " 0.202187  0.902132  14.4825  3.0  1.0     2.0  0.0  1.17787  1.17787\n",
       " 0.234892  0.924902  14.5637  3.0  1.0     2.0  0.0  1.17787  1.17787\n",
       " 0.227785  0.859104  16.3659  3.0  1.0     1.0  0.0  1.17787  1.17787\n",
       " 0.228076  0.888434  16.1335  3.0  1.0     2.0  0.0  1.17787  1.17787\n",
       " 0.227278  0.88153   16.26    1.0  1.0  …  1.0  0.0  1.17787  1.17787\n",
       " 0.227242  0.835778  16.1064  3.0  1.0     2.0  0.0  1.17787  1.17787\n",
       " 0.223271  0.879291  16.3324  3.0  1.0     2.0  0.0  1.17787  1.17787\n",
       " ⋮                                      ⋱  ⋮                  \n",
       " 0.221859  0.819202  15.5594  3.0  1.0     2.0  0.0  1.17787  1.17787\n",
       " 0.216873  0.933188  14.9685  7.0  1.0     2.0  0.0  1.17787  1.17787\n",
       " 0.216873  0.933188  14.9685  1.0  1.0  …  1.0  0.0  1.17787  1.17787\n",
       " 0.236322  0.85687   16.1204  3.0  1.0     1.0  0.0  1.17787  1.17787\n",
       " 0.232546  0.884979  16.0377  3.0  1.0     1.0  0.0  1.17787  1.17787\n",
       " 0.206611  0.888351  15.592   3.0  1.0     2.0  0.0  1.17787  1.17787\n",
       " 0.203443  0.883337  15.0235  1.0  1.0     1.0  0.0  1.17787  1.17787\n",
       " 0.216424  0.922097  15.4021  3.0  1.0  …  2.0  0.0  1.17787  1.17787\n",
       " 0.228298  0.868041  16.3541  3.0  1.0     2.0  0.0  1.17787  1.17787\n",
       " 0.216205  0.860639  16.2254  5.0  1.0     2.0  0.0  1.17787  1.17787\n",
       " 0.221036  0.858886  16.3431  1.0  1.0     1.0  0.0  1.17787  1.17787\n",
       " 0.248391  0.812858  13.7309  3.0  1.0     2.0  0.0  1.17787  1.17787"
      ]
     },
     "execution_count": 30,
     "metadata": {},
     "output_type": "execute_result"
    }
   ],
   "source": [
    "samples_hmc.value"
   ]
  },
  {
   "cell_type": "code",
   "execution_count": 31,
   "id": "fa9db828",
   "metadata": {},
   "outputs": [],
   "source": [
    "Wms_hmc = vec(samples_hmc[\"Ωm\"])\n",
    "s8s_hmc = vec(samples_hmc[\"σ8\"]);"
   ]
  },
  {
   "cell_type": "code",
   "execution_count": 32,
   "id": "3d063a52",
   "metadata": {},
   "outputs": [
    {
     "data": {
      "image/png": "[encoded data removed]",
      "text/plain": [
       "Figure(PyObject <Figure size 640x480 with 1 Axes>)"
      ]
     },
     "metadata": {},
     "output_type": "display_data"
    }
   ],
   "source": [
    "plt.hist2d(Wms_hmc, s8s_hmc, bins=100, range=[[0.1, 0.4],[0.6, 1.2]]);\n",
    "plt.xlabel(\"Wm\")\n",
    "plt.ylabel(\"s8\")\n",
    "plt.title(\"HMC - RSD model\");"
   ]
  },
  {
   "cell_type": "code",
   "execution_count": null,
   "id": "0bdd32b7",
   "metadata": {},
   "outputs": [],
   "source": []
  },
  {
   "cell_type": "code",
   "execution_count": null,
   "id": "78c56af5",
   "metadata": {},
   "outputs": [],
   "source": []
  }
 ],
 "metadata": {
  "kernelspec": {
   "display_name": "Julia_1.9 (5 threads) 1.9.0-beta3",
   "language": "julia",
   "name": "julia_1.9-_5-threads_-1.9"
  },
  "language_info": {
   "file_extension": ".jl",
   "mimetype": "application/julia",
   "name": "julia",
   "version": "1.9.0"
  }
 },
 "nbformat": 4,
 "nbformat_minor": 5
}
