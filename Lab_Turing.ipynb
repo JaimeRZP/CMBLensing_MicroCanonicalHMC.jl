{
 "cells": [
  {
   "cell_type": "markdown",
   "id": "91129cb1",
   "metadata": {},
   "source": [
    "# Turing Target Practice"
   ]
  },
  {
   "cell_type": "markdown",
   "id": "97121235",
   "metadata": {},
   "source": [
    "## Model"
   ]
  },
  {
   "cell_type": "code",
   "execution_count": 1,
   "id": "baed58e3",
   "metadata": {},
   "outputs": [
    {
     "name": "stderr",
     "output_type": "stream",
     "text": [
      "\u001b[36m\u001b[1m[ \u001b[22m\u001b[39m\u001b[36m\u001b[1mInfo: \u001b[22m\u001b[39mPrecompiling MicroCanonicalHMC [234d2aa0-2291-45f7-9047-6fa6f316b0a8]\n"
     ]
    }
   ],
   "source": [
    "# The statistical inference frame-work we will use\n",
    "using Turing\n",
    "using Interpolations\n",
    "using ForwardDiff\n",
    "using LinearAlgebra\n",
    "#using StatsPlots\n",
    "using PyPlot\n",
    "using Distributed\n",
    "\n",
    "using Revise\n",
    "using MicroCanonicalHMC"
   ]
  },
  {
   "cell_type": "code",
   "execution_count": 2,
   "id": "a7d6f81c",
   "metadata": {},
   "outputs": [],
   "source": [
    "fs8_zs = [0.38, 0.51, 0.61, 1.48, 0.44, 0.6, 0.73, 0.6, 0.86, 0.067, 1.4]\n",
    "fs8_data = [0.49749, 0.457523, 0.436148, 0.462, 0.413, 0.39, 0.437, 0.55, 0.4, 0.423, 0.482]\n",
    "fs8_cov = [0.00203355 0.000811829 0.000264615 0.0 0.0 0.0 0.0 0.0 0.0 0.0 0.0;\n",
    "           0.000811829 0.00142289 0.000662824 0.0 0.0 0.0 0.0 0.0 0.0 0.0 0.0; \n",
    "           0.000264615 0.000662824 0.00118576 0.0 0.0 0.0 0.0 0.0 0.0 0.0 0.0;\n",
    "           0.0 0.0 0.0 0.002025 0.0 0.0 0.0 0.0 0.0 0.0 0.0;\n",
    "           0.0 0.0 0.0 0.0 0.0064 0.00257 0.0 0.0 0.0 0.0 0.0;\n",
    "           0.0 0.0 0.0 0.0 0.00257 0.003969 0.00254 0.0 0.0 0.0 0.0;\n",
    "           0.0 0.0 0.0 0.0 0.0 0.00254 0.005184 0.0 0.0 0.0 0.0;\n",
    "           0.0 0.0 0.0 0.0 0.0 0.0 0.0 0.0144 0.0 0.0 0.0;\n",
    "           0.0 0.0 0.0 0.0 0.0 0.0 0.0 0.0 0.0121 0.0 0.0; \n",
    "           0.0 0.0 0.0 0.0 0.0 0.0 0.0 0.0 0.0 0.003025 0.0;\n",
    "           0.0 0.0 0.0 0.0 0.0 0.0 0.0 0.0 0.0 0.0 0.013456000000000001];"
   ]
  },
  {
   "cell_type": "code",
   "execution_count": 3,
   "id": "1359a630",
   "metadata": {
    "code_folding": []
   },
   "outputs": [
    {
     "data": {
      "text/plain": [
       "make_fs8 (generic function with 1 method)"
      ]
     },
     "execution_count": 3,
     "metadata": {},
     "output_type": "execute_result"
    }
   ],
   "source": [
    "function make_fs8(Ωm, σ8; Ωr=8.24*10^-5)\n",
    "    # ODE solution for growth factor\n",
    "    x_Dz = LinRange(0, log(1+1100), 300)\n",
    "    dx_Dz = x_Dz[2]-x_Dz[1]\n",
    "    z_Dz = @.(exp(x_Dz) - 1)\n",
    "    a_Dz = @.(1/(1+z_Dz))\n",
    "    aa = reverse(a_Dz)\n",
    "    e =  @.(sqrt.(abs(Ωm)*(1+z_Dz)^3+Ωr*(1+z_Dz)^4+(1-Ωm-Ωr)))\n",
    "    ee = reverse(e)\n",
    "\n",
    "    dd = zeros(typeof(Ωm), 300)\n",
    "    yy = zeros(typeof(Ωm), 300)\n",
    "    dd[1] = aa[1]\n",
    "    yy[1] = aa[1]^3*ee[end]\n",
    "\n",
    "    for i in 1:(300-1)\n",
    "        A0 = -1.5 * Ωm / (aa[i]*ee[i])\n",
    "        B0 = -1. / (aa[i]^2*ee[i])\n",
    "        A1 = -1.5 * Ωm / (aa[i+1]*ee[i+1])\n",
    "        B1 = -1. / (aa[i+1]^2*ee[i+1])\n",
    "        yy[i+1] = (1+0.5*dx_Dz^2*A0*B0)*yy[i] + 0.5*(A0+A1)*dx_Dz*dd[i]\n",
    "        dd[i+1] = 0.5*(B0+B1)*dx_Dz*yy[i] + (1+0.5*dx_Dz^2*A0*B0)*dd[i]\n",
    "    end\n",
    "\n",
    "    y = reverse(yy)\n",
    "    d = reverse(dd)\n",
    "\n",
    "    Dzi = LinearInterpolation(z_Dz, d./d[1], extrapolation_bc=Line())\n",
    "    fs8zi = LinearInterpolation(z_Dz, -σ8 .* y./ (a_Dz.^2 .*e.*d[1]),\n",
    "                                 extrapolation_bc=Line())\n",
    "    return fs8zi\n",
    "end"
   ]
  },
  {
   "cell_type": "code",
   "execution_count": 4,
   "id": "8005e277",
   "metadata": {},
   "outputs": [],
   "source": [
    "@model function model(data; cov = fs8_cov) \n",
    "    # Define priors\n",
    "    #KiDS priors\n",
    "    Ωm  ~ Uniform(0.01, 0.6)\n",
    "    σ8 ~ Normal(0.8, 0.3)\n",
    "    fs8_itp = make_fs8(Ωm, σ8)\n",
    "    theory = fs8_itp(fs8_zs)\n",
    "    data ~ MvNormal(theory, cov)\n",
    "end;"
   ]
  },
  {
   "cell_type": "code",
   "execution_count": 5,
   "id": "1eebe796",
   "metadata": {},
   "outputs": [
    {
     "data": {
      "text/plain": [
       "DynamicPPL.Model{typeof(model), (:data, :cov), (:cov,), (), Tuple{Vector{Float64}, Matrix{Float64}}, Tuple{Matrix{Float64}}, DynamicPPL.DefaultContext}(model, (data = [0.49749, 0.457523, 0.436148, 0.462, 0.413, 0.39, 0.437, 0.55, 0.4, 0.423, 0.482], cov = [0.00203355 0.000811829 … 0.0 0.0; 0.000811829 0.00142289 … 0.0 0.0; … ; 0.0 0.0 … 0.003025 0.0; 0.0 0.0 … 0.0 0.013456000000000001]), (cov = [0.00203355 0.000811829 … 0.0 0.0; 0.000811829 0.00142289 … 0.0 0.0; … ; 0.0 0.0 … 0.003025 0.0; 0.0 0.0 … 0.0 0.013456000000000001],), DynamicPPL.DefaultContext())"
      ]
     },
     "execution_count": 5,
     "metadata": {},
     "output_type": "execute_result"
    }
   ],
   "source": [
    "stat_model = model(fs8_data)"
   ]
  },
  {
   "cell_type": "markdown",
   "id": "10dfa4cc",
   "metadata": {},
   "source": [
    "## Sampling"
   ]
  },
  {
   "cell_type": "code",
   "execution_count": 6,
   "id": "c8ed14a3",
   "metadata": {},
   "outputs": [],
   "source": [
    "target = TuringTarget(stat_model);"
   ]
  },
  {
   "cell_type": "code",
   "execution_count": 7,
   "id": "82938e27",
   "metadata": {
    "scrolled": false
   },
   "outputs": [
    {
     "name": "stdout",
     "output_type": "stream",
     "text": [
      "Initial Virial loss: 6621.985315873456"
     ]
    },
    {
     "name": "stderr",
     "output_type": "stream",
     "text": [
      "\u001b[36m\u001b[1m[ \u001b[22m\u001b[39m\u001b[36m\u001b[1mInfo: \u001b[22m\u001b[39mUsing given sigma ✅\n",
      "\u001b[36m\u001b[1m[ \u001b[22m\u001b[39m\u001b[36m\u001b[1mInfo: \u001b[22m\u001b[39mTuning eps ⏳\n",
      "\u001b[36m\u001b[1m[ \u001b[22m\u001b[39m\u001b[36m\u001b[1mInfo: \u001b[22m\u001b[39mTuning L ⏳\n",
      "\u001b[36m\u001b[1m[ \u001b[22m\u001b[39m\u001b[36m\u001b[1mInfo: \u001b[22m\u001b[39mInitial nu 0.2281016476686452\n",
      "\u001b[36m\u001b[1m[ \u001b[22m\u001b[39m\u001b[36m\u001b[1mInfo: \u001b[22m\u001b[39mStarting burn in ⏳\n"
     ]
    },
    {
     "name": "stdout",
     "output_type": "stream",
     "text": [
      "\n",
      "Virial loss: 108.03489756084893 --> Relative improvement: 0.9836854217568438\n",
      "Virial loss: 81.37233051749892 --> Relative improvement: 0.2467958747156931\n",
      "Virial loss: 45.33357104464385 --> Relative improvement: 0.44288714903040693\n",
      "Virial loss: 0.051713063884589516 --> Relative improvement: 0.998859276631138\n",
      "Using eps tuning method AdaptiveStep\n"
     ]
    },
    {
     "name": "stderr",
     "output_type": "stream",
     "text": [
      "\u001b[36m\u001b[1m[ \u001b[22m\u001b[39m\u001b[36m\u001b[1mInfo: \u001b[22m\u001b[39mVirial loss condition met during burn-in at step: 4\n"
     ]
    },
    {
     "name": "stdout",
     "output_type": "stream",
     "text": [
      "eps: 0.07 --> VarE/d: 28.365892700125816\n",
      "eps: 0.02386028017129336 --> VarE/d: 0.10297145683803592\n",
      "eps: 0.018508661493211766 --> VarE/d: 0.18391766379589072\n",
      "eps: 0.015282243249720578 --> VarE/d: 0.12003631797487241\n",
      "eps: 0.01350867578062537 --> VarE/d: 0.1915345840077371\n",
      "eps: 0.01206126092648709 --> VarE/d: 0.06192143259548775\n",
      "eps: 0.011331740854353917 --> VarE/d: 0.004235530906192603\n",
      "eps: 0.011629815159638221 --> VarE/d: 0.0053234910944022626\n",
      "eps: 0.011826254703550315 --> VarE/d: 0.0015105253753072252\n",
      "eps: 0.012347849446252451 --> VarE/d: 0.00031339101819443\n",
      "eps: 0.013176793974214493 --> VarE/d: 0.013407576032168134\n",
      "eps: 0.013098811216566683 --> VarE/d: 0.03335556160382299\n",
      "eps: 0.012811794435846697 --> VarE/d: 0.03843388444039838\n",
      "eps: 0.012520319147870064 --> VarE/d: 0.00024622510279146694\n",
      "eps: 0.013178311565969417 --> VarE/d: 0.011125673804332813\n",
      "eps: 0.013156170180091128 --> VarE/d: 0.028019219660818013\n",
      "eps: 0.012957883251821595 --> VarE/d: 0.003475502843017931\n",
      "eps: 0.013151565410714623 --> VarE/d: 0.059025458159664215\n",
      "eps: 0.012849479352940183 --> VarE/d: 0.11503675990141651\n",
      "eps: 0.012473853955552637 --> VarE/d: 0.026874294905270508\n",
      "eps: 0.012320291475165472 --> VarE/d: 0.00016052109367408593\n",
      "eps: 0.012830203270583677 --> VarE/d: 0.01721966904897084\n",
      "eps: 0.012747010221472822 --> VarE/d: 1.4552481527279953e-7\n",
      "eps: 0.013063841839351715 --> VarE/d: 0.04765853100278158\n",
      "eps: 0.012830168128476998 --> VarE/d: 0.02898077167716936\n",
      "eps: 0.012675313718824221 --> VarE/d: 0.012371711143121735\n",
      "eps: 0.01264501500517736 --> VarE/d: 0.005731321664693456\n",
      "eps: 0.012721959358499112 --> VarE/d: 6.45784149652791e-5\n",
      "eps: 0.01322136850523133 --> VarE/d: 0.0031361194260939042\n",
      "eps: 0.01338195145435355 --> VarE/d: 0.008965875243066005\n",
      "eps: 0.01339708285187901 --> VarE/d: 0.015161964855454011\n",
      "eps: 0.013340886148902477 --> VarE/d: 0.009163280713667548\n",
      "eps: 0.013352443169920535 --> VarE/d: 0.0030068973907061885\n",
      "eps: 0.0135062685187321 --> VarE/d: 0.0007114099395026685\n",
      "eps: 0.013820673475069576 --> VarE/d: 0.0023107944362451118\n",
      "eps: 0.014007370109816864 --> VarE/d: 0.009191449007793376\n",
      "eps: 0.014018326823593049 --> VarE/d: 0.02508662073579348\n",
      "eps: 0.01390245685792169 --> VarE/d: 0.0025729535473434815\n",
      "eps: 0.014069068870017482 --> VarE/d: 0.0015290757390925803\n",
      "eps: 0.01429462029748519 --> VarE/d: 0.003205177632217295\n",
      "eps: 0.014435545832789132 --> VarE/d: 0.02460961724266093\n",
      "eps: 0.014324565719403043 --> VarE/d: 0.01951958974878435\n",
      "eps: 0.014243290877482469 --> VarE/d: 0.013608534717938714\n",
      "eps: 0.014206269114302214 --> VarE/d: 0.0014251016313901938\n",
      "eps: 0.01442810560612897 --> VarE/d: 0.006402117031448357\n",
      "eps: 0.014481413483513176 --> VarE/d: 0.016944922659311665\n",
      "eps: 0.014419105897730402 --> VarE/d: 0.008716301509275236\n",
      "eps: 0.014435209047509147 --> VarE/d: 0.006777834845954875\n",
      "eps: 0.014480380723445322 --> VarE/d: 0.003751212318474671\n",
      "eps: 0.014592651207916451 --> VarE/d: 0.006690488792893276\n",
      "eps: 0.014639040072935124 --> VarE/d: 0.015839075991656012\n",
      "eps: 0.014586433036053809 --> VarE/d: 0.005028849741743204\n",
      "eps: 0.014664256351301946 --> VarE/d: 0.0008435406473692219\n",
      "eps: 0.014925125493678689 --> VarE/d: 0.012863236218662952\n",
      "eps: 0.014896217746623426 --> VarE/d: 0.01812651984281269\n",
      "eps: 0.014828882098847744 --> VarE/d: 0.005759448949046689\n",
      "eps: 0.014890971476287096 --> VarE/d: 0.002529189193618861\n",
      "eps: 0.015042593927811529 --> VarE/d: 0.0007018028734912598\n",
      "eps: 0.015318676243386354 --> VarE/d: 0.0028319533814046916\n",
      "eps: 0.015461351087088546 --> VarE/d: 0.02130657899462755\n",
      "eps: 0.01537490416874166 --> VarE/d: 0.023848986520859573\n",
      "eps: 0.015276923851103347 --> VarE/d: 0.01624065683539567\n",
      "eps: 0.015222420046111528 --> VarE/d: 0.010596034501996442\n",
      "eps: 0.01521593842579312 --> VarE/d: 0.007532635356773981\n",
      "eps: 0.015247498226259327 --> VarE/d: 0.0044002021065940155\n",
      "eps: 0.015338160829984406 --> VarE/d: 0.013256202789368624\n",
      "eps: 0.015306851395945415 --> VarE/d: 0.010612772220739653\n",
      "eps: 0.015300275155002473 --> VarE/d: 0.009171901498109349\n",
      "eps: 0.015309794348141687 --> VarE/d: 0.008130908279947524\n",
      "eps: 0.015332503866337211 --> VarE/d: 0.008933357419833697\n",
      "eps: 0.015344855962900758 --> VarE/d: 0.010163576789616888\n"
     ]
    },
    {
     "name": "stderr",
     "output_type": "stream",
     "text": [
      "\u001b[36m\u001b[1m[ \u001b[22m\u001b[39m\u001b[36m\u001b[1mInfo: \u001b[22m\u001b[39mFound eps: 0.015344855962900758 ✅\n"
     ]
    },
    {
     "name": "stdout",
     "output_type": "stream",
     "text": [
      "samples: 100--> 1/<1/ess>: 0.018718503551508284\n",
      "samples: 203--> 1/<1/ess>: 0.00839558254913463\n",
      "samples: 310--> 1/<1/ess>: 0.006950886177528786\n",
      "samples: 420--> 1/<1/ess>: 0.00902093939904976\n",
      "samples: 534--> 1/<1/ess>: 0.01102355525949104\n",
      "samples: 652--> 1/<1/ess>: 0.009912729284855891\n",
      "samples: 774--> 1/<1/ess>: 0.013309612622609454\n"
     ]
    },
    {
     "name": "stderr",
     "output_type": "stream",
     "text": [
      "\u001b[36m\u001b[1m[ \u001b[22m\u001b[39m\u001b[36m\u001b[1mInfo: \u001b[22m\u001b[39mFound L: 0.46116611799306534 ✅\n",
      "\u001b[36m\u001b[1m[ \u001b[22m\u001b[39m\u001b[36m\u001b[1mInfo: \u001b[22m\u001b[39mFinal nu 0.18548899332397398\n"
     ]
    }
   ],
   "source": [
    "spl = MCHMC(0.0, 0.0; init_eps=0.07, varE_wanted=0.01, sigma=ones(2))\n",
    "samples_mchmc = Sample(spl, target, 100_000;\n",
    "                       burn_in=1_000,  \n",
    "                       file_name=\"Turing_sequential_samples\",\n",
    "                       dialog=true);"
   ]
  },
  {
   "cell_type": "code",
   "execution_count": 8,
   "id": "54c70b0f",
   "metadata": {},
   "outputs": [
    {
     "data": {
      "text/plain": [
       "2-element Vector{Float64}:\n",
       " 0.04406496403679811\n",
       " 0.04317242010578533"
      ]
     },
     "execution_count": 8,
     "metadata": {},
     "output_type": "execute_result"
    }
   ],
   "source": [
    "std(samples_mchmc)[1:end-2]"
   ]
  },
  {
   "cell_type": "code",
   "execution_count": 9,
   "id": "385a8b1a",
   "metadata": {},
   "outputs": [],
   "source": [
    "Wms_mchmc = [sample[1] for sample in samples_mchmc]\n",
    "s8s_mchmc = [sample[2] for sample in samples_mchmc];"
   ]
  },
  {
   "cell_type": "code",
   "execution_count": 10,
   "id": "2a803eb8",
   "metadata": {},
   "outputs": [
    {
     "data": {
      "image/png": "[encoded data removed]",
      "text/plain": [
       "Figure(PyObject <Figure size 640x480 with 1 Axes>)"
      ]
     },
     "metadata": {},
     "output_type": "display_data"
    }
   ],
   "source": [
    "plt.hist2d(Wms_mchmc, s8s_mchmc, bins=100, range=[[0.1, 0.6],[0.6, 1.2]]);\n",
    "plt.xlabel(\"Wm\")\n",
    "plt.ylabel(\"s8\")\n",
    "plt.title(\"MCHMC - RSD model\");"
   ]
  },
  {
   "cell_type": "code",
   "execution_count": 11,
   "id": "ae097bf4",
   "metadata": {
    "scrolled": false
   },
   "outputs": [
    {
     "name": "stderr",
     "output_type": "stream",
     "text": [
      "\u001b[36m\u001b[1m[ \u001b[22m\u001b[39m\u001b[36m\u001b[1mInfo: \u001b[22m\u001b[39mTuning sigma ⏳\n",
      "\u001b[36m\u001b[1m[ \u001b[22m\u001b[39m\u001b[36m\u001b[1mInfo: \u001b[22m\u001b[39mTuning eps ⏳\n",
      "\u001b[36m\u001b[1m[ \u001b[22m\u001b[39m\u001b[36m\u001b[1mInfo: \u001b[22m\u001b[39mUsing given L ✅\n",
      "\u001b[36m\u001b[1m[ \u001b[22m\u001b[39m\u001b[36m\u001b[1mInfo: \u001b[22m\u001b[39mInitial nu 0.4019513728906998\n",
      "\u001b[36m\u001b[1m[ \u001b[22m\u001b[39m\u001b[36m\u001b[1mInfo: \u001b[22m\u001b[39mStarting burn in ⏳\n"
     ]
    },
    {
     "name": "stdout",
     "output_type": "stream",
     "text": [
      "Initial Virial loss: 20649.493142581163\n",
      "Virial loss: 100.568341959288 --> Relative improvement: 0.9951297428336434\n",
      "Virial loss: 97.58450448308523 --> Relative improvement: 0.029669749128514944\n",
      "Virial loss: 48.60220003773575 --> Relative improvement: 0.5019475653928211\n",
      "Virial loss: 31.980282476897578 --> Relative improvement: 0.34199928291173176\n",
      "Virial loss: 21.46049422612018 --> Relative improvement: 0.32894607039124346\n",
      "Virial loss: 19.6161713755127 --> Relative improvement: 0.08594037169762392\n",
      "Virial loss: 18.491094773200622 --> Relative improvement: 0.05735454593940459\n",
      "Virial loss: 16.051509826400228 --> Relative improvement: 0.13193296431188684\n"
     ]
    },
    {
     "name": "stderr",
     "output_type": "stream",
     "text": [
      "\u001b[33m\u001b[1m┌ \u001b[22m\u001b[39m\u001b[33m\u001b[1mWarning: \u001b[22m\u001b[39mMaximum number of steps reached during burn-in\n",
      "\u001b[33m\u001b[1m└ \u001b[22m\u001b[39m\u001b[90m@ MicroCanonicalHMC ~/Glamdring/MicroCanonicalHMC.jl/src/ensemble/tuning.jl:247\u001b[39m\n",
      "\u001b[36m\u001b[1m[ \u001b[22m\u001b[39m\u001b[36m\u001b[1mInfo: \u001b[22m\u001b[39mFound sigma: [0.9971489379931034, 0.07545856783179773] ✅\n"
     ]
    },
    {
     "name": "stdout",
     "output_type": "stream",
     "text": [
      "Using eps tuning method AdaptiveStep\n",
      "eps: 0.07 --> VarE/d: 0.3828114661854275\n",
      "eps: 0.057101490962959946 --> VarE/d: 0.6353371431183084\n",
      "eps: 0.0492363301012363 --> VarE/d: 0.4697581990114338\n",
      "eps: 0.045141635652877966 --> VarE/d: 0.3935170823187012\n",
      "eps: 0.04253098086021463 --> VarE/d: 0.34645554622770863\n",
      "eps: 0.040684345155577555 --> VarE/d: 0.2965205697476566\n",
      "eps: 0.03935662323264939 --> VarE/d: 0.2698980149253696\n",
      "eps: 0.03832527644403841 --> VarE/d: 0.27071511849095964\n",
      "eps: 0.037425649532999344 --> VarE/d: 0.24455102787384414\n",
      "eps: 0.0367078154466591 --> VarE/d: 0.23186105639403537\n",
      "eps: 0.03609928565437652 --> VarE/d: 0.22889293594317334\n",
      "eps: 0.03555314222544423 --> VarE/d: 0.21649074652386768\n",
      "eps: 0.035083831672634874 --> VarE/d: 0.21731548130765485\n",
      "eps: 0.03464630498354503 --> VarE/d: 0.2146524833299123\n",
      "eps: 0.034244058209233486 --> VarE/d: 0.21902341919697724\n",
      "eps: 0.033856446075960736 --> VarE/d: 0.2187772929365385\n",
      "eps: 0.03349115848447148 --> VarE/d: 0.2233591704190187\n",
      "eps: 0.03313596783911451 --> VarE/d: 0.2126025606849505\n",
      "eps: 0.03281845683303357 --> VarE/d: 0.22701876763675916\n",
      "eps: 0.03248946099225523 --> VarE/d: 0.21595307261395172\n",
      "eps: 0.032193380855531854 --> VarE/d: 0.2197093030568517\n",
      "eps: 0.03190285341288109 --> VarE/d: 0.22266016577332226\n",
      "eps: 0.03161862583860445 --> VarE/d: 0.23400424327329547\n",
      "eps: 0.031327904827964784 --> VarE/d: 0.22705262533680926\n",
      "eps: 0.031056856919233412 --> VarE/d: 0.22054977002200568\n",
      "eps: 0.030803623151704117 --> VarE/d: 0.2210700729041411\n",
      "eps: 0.030557335991166897 --> VarE/d: 0.2228944115824268\n",
      "eps: 0.030315712789454316 --> VarE/d: 0.2201450834845145\n",
      "eps: 0.03008429563085522 --> VarE/d: 0.23330557816936678\n",
      "eps: 0.02984270521962269 --> VarE/d: 0.22721528668010743\n",
      "eps: 0.029614441683590315 --> VarE/d: 0.2293941592907014\n",
      "eps: 0.02938914407814908 --> VarE/d: 0.2241614849775572\n",
      "eps: 0.02917505058047177 --> VarE/d: 0.22798876181099964\n",
      "eps: 0.028961375365211817 --> VarE/d: 0.2190763554310659\n",
      "eps: 0.02876216168568987 --> VarE/d: 0.22587342304822117\n",
      "eps: 0.028559514080776942 --> VarE/d: 0.21393805109950628\n",
      "eps: 0.028373823984627927 --> VarE/d: 0.2263710473872153\n",
      "eps: 0.028178304391599043 --> VarE/d: 0.2284766478093303\n",
      "eps: 0.027984215449312348 --> VarE/d: 0.2224414747486625\n",
      "eps: 0.027799599911154934 --> VarE/d: 0.22605592811725822\n",
      "eps: 0.02761451059684025 --> VarE/d: 0.22519644849134696\n",
      "eps: 0.027433287566027028 --> VarE/d: 0.2240680185185568\n",
      "eps: 0.027256014488469378 --> VarE/d: 0.22213513087771647\n",
      "eps: 0.02708328948749603 --> VarE/d: 0.21938713378006525\n",
      "eps: 0.02691571634992265 --> VarE/d: 0.2249223638346891\n",
      "eps: 0.026745394595914497 --> VarE/d: 0.21931107235716643\n",
      "eps: 0.02658258374768971 --> VarE/d: 0.22053445467172322\n",
      "eps: 0.026420839117705035 --> VarE/d: 0.2181960420536365\n",
      "eps: 0.026263316687038053 --> VarE/d: 0.20875151388803811\n",
      "eps: 0.02611644927811093 --> VarE/d: 0.20582002132742586\n",
      "eps: 0.025974085894240526 --> VarE/d: 0.19141991700731498\n",
      "eps: 0.025847309606833662 --> VarE/d: 0.20072552751102585\n",
      "eps: 0.025712871747502974 --> VarE/d: 0.2072882047835493\n",
      "eps: 0.02557384865219516 --> VarE/d: 0.20709698767614232\n",
      "eps: 0.0254364902767148 --> VarE/d: 0.19700253239979498\n",
      "eps: 0.025309758739890886 --> VarE/d: 0.1979924015283137\n",
      "eps: 0.025183368455861034 --> VarE/d: 0.19610681610148323\n",
      "eps: 0.025059931480098985 --> VarE/d: 0.20225960836971585\n",
      "eps: 0.024932133270785965 --> VarE/d: 0.19516900225143535\n",
      "eps: 0.024811854561282817 --> VarE/d: 0.1780859535136688\n",
      "eps: 0.024708791448064003 --> VarE/d: 0.16910963143522087\n",
      "eps: 0.024615643938167057 --> VarE/d: 0.1733848000272905\n",
      "eps: 0.02451885966844175 --> VarE/d: 0.17492132348098713\n",
      "eps: 0.024421289899650454 --> VarE/d: 0.19125371527434892\n",
      "eps: 0.024309190479884907 --> VarE/d: 0.1942256815695942\n",
      "eps: 0.02419537009438692 --> VarE/d: 0.18356390201316125\n",
      "eps: 0.024091928352020654 --> VarE/d: 0.1914227185424659\n",
      "eps: 0.023982253205560206 --> VarE/d: 0.1833969479405768\n",
      "eps: 0.023880490017777787 --> VarE/d: 0.1891946692853216\n",
      "eps: 0.02377432704405747 --> VarE/d: 0.18471484622613205\n",
      "eps: 0.02367283380767662 --> VarE/d: 0.18353658065325149\n",
      "eps: 0.023573075423892528 --> VarE/d: 0.18939306500155553\n",
      "eps: 0.023468925550403093 --> VarE/d: 0.17724811325619655\n",
      "eps: 0.02337609620429041 --> VarE/d: 0.18226263808155352\n",
      "eps: 0.02327940362438916 --> VarE/d: 0.18150705697057218\n",
      "eps: 0.023183980603838004 --> VarE/d: 0.1853782949629728\n",
      "eps: 0.023085833229677742 --> VarE/d: 0.17500119018125865\n",
      "eps: 0.022997304073068433 --> VarE/d: 0.1733594040318357\n",
      "eps: 0.022910755814941793 --> VarE/d: 0.1765947381773912\n",
      "eps: 0.022821834558825235 --> VarE/d: 0.16972703889681903\n",
      "eps: 0.022739526685299962 --> VarE/d: 0.17236620275017075\n",
      "eps: 0.022655294883577155 --> VarE/d: 0.17230197148814502\n",
      "eps: 0.022571572495356646 --> VarE/d: 0.17414862940776765\n",
      "eps: 0.022486678133172518 --> VarE/d: 0.1784478177272224\n",
      "eps: 0.022398560309012282 --> VarE/d: 0.1777495900163337\n",
      "eps: 0.022311502703979264 --> VarE/d: 0.1788292801674645\n",
      "eps: 0.022224003234676923 --> VarE/d: 0.17502023564025884\n",
      "eps: 0.022140154258164603 --> VarE/d: 0.17221684630401396\n",
      "eps: 0.022059113238487395 --> VarE/d: 0.1675736271251848\n",
      "eps: 0.02198248853973719 --> VarE/d: 0.1625746852703876\n",
      "eps: 0.02191066100121001 --> VarE/d: 0.1643626980918351\n",
      "eps: 0.021837556952587947 --> VarE/d: 0.15896752933989114\n",
      "eps: 0.02176963119016726 --> VarE/d: 0.1537203370336088\n",
      "eps: 0.021706857443601364 --> VarE/d: 0.15452842943688871\n",
      "eps: 0.02164357469783897 --> VarE/d: 0.14588885696229617\n",
      "eps: 0.021588829750288776 --> VarE/d: 0.13608322852288748\n",
      "eps: 0.021544289950617274 --> VarE/d: 0.13815117159601528\n",
      "eps: 0.021497721180417106 --> VarE/d: 0.13537067574870126\n",
      "eps: 0.02145420776499183 --> VarE/d: 0.13640959069728595\n",
      "eps: 0.021409731237647608 --> VarE/d: 0.13386815637889288\n"
     ]
    },
    {
     "name": "stderr",
     "output_type": "stream",
     "text": [
      "\u001b[36m\u001b[1m[ \u001b[22m\u001b[39m\u001b[36m\u001b[1mInfo: \u001b[22m\u001b[39mFinal nu 0.21122421525168825\n"
     ]
    }
   ],
   "source": [
    "spl = MCHMC(0.0, 0.5, 10; init_eps=0.07, varE_wanted=0.1)\n",
    "samples_ensemble_mchmc = Sample(spl, target, 10000;\n",
    "                                burn_in=1000,\n",
    "                                monitor_energy=true, \n",
    "                                dialog=true);"
   ]
  },
  {
   "cell_type": "code",
   "execution_count": 12,
   "id": "197541d7",
   "metadata": {},
   "outputs": [],
   "source": [
    "Wms_ensemble_mchmc = [sample[1] for sample in samples_ensemble_mchmc]\n",
    "s8s_ensemble_mchmc = [sample[2] for sample in samples_ensemble_mchmc];"
   ]
  },
  {
   "cell_type": "code",
   "execution_count": 13,
   "id": "654b0195",
   "metadata": {},
   "outputs": [
    {
     "data": {
      "image/png": "[encoded data removed]",
      "text/plain": [
       "Figure(PyObject <Figure size 640x480 with 1 Axes>)"
      ]
     },
     "metadata": {},
     "output_type": "display_data"
    }
   ],
   "source": [
    "plt.hist2d(Wms_ensemble_mchmc, s8s_ensemble_mchmc, bins=100, range=[[0.1, 0.6],[0.6, 1.2]]);\n",
    "plt.xlabel(\"Wm\")\n",
    "plt.ylabel(\"s8\")\n",
    "plt.title(\"Ensemble MCHMC - RSD model\");"
   ]
  },
  {
   "cell_type": "markdown",
   "id": "b9b6311f",
   "metadata": {},
   "source": [
    "##  AbstractMCMC"
   ]
  },
  {
   "cell_type": "code",
   "execution_count": 14,
   "id": "d569b9dc",
   "metadata": {
    "scrolled": false
   },
   "outputs": [
    {
     "name": "stdout",
     "output_type": "stream",
     "text": [
      "Initial Virial loss: 924342.1487563013\n",
      "Virial loss: 821.594310992149 --> Relative improvement: 0.9991111577979024\n",
      "Virial loss: 691.360324009966 --> Relative improvement: 0.15851373998064044\n",
      "Virial loss: 570.7252657084764 --> Relative improvement: 0.17448941472630797\n",
      "Virial loss: 459.68921941857724 --> Relative improvement: 0.19455253334905942\n",
      "Virial loss: 358.25227078510943 --> Relative improvement: 0.22066418864851123\n",
      "Virial loss: 266.414517809381 --> Relative improvement: 0.256349395286361\n",
      "Virial loss: 184.1761001664849 --> Relative improvement: 0.3086859466935563\n",
      "Virial loss: 111.53730555330577 --> Relative improvement: 0.39439859214913187\n",
      "Virial loss: 48.499123630257216 --> Relative improvement: 0.5651757643806576\n",
      "Virial loss: 4.934561837918662 --> Relative improvement: 0.898254618464072\n",
      "Virial loss: 0.9447374832735016 --> Relative improvement: 0.8085468346928285\n",
      "Using eps tuning method AdaptiveStep\n",
      "eps: 0.07 --> VarE/d: 0.0072203800302516104\n",
      "eps: 0.07355331119137712 --> VarE/d: 8.97891999398889\n",
      "eps: 0.05040535502127126 --> VarE/d: 3.748606420564035\n",
      "eps: 0.03791579492980558 --> VarE/d: 1.088693889746603\n",
      "eps: 0.030828470498071137 --> VarE/d: 0.5553240842366884\n",
      "eps: 0.026426802540158605 --> VarE/d: 0.14422702395038964\n",
      "eps: 0.02403272047090252 --> VarE/d: 0.0904611629508163\n",
      "eps: 0.02244216793363811 --> VarE/d: 0.05583572243350101\n",
      "eps: 0.02139807273835773 --> VarE/d: 0.056947727523973826\n",
      "eps: 0.020503139961194888 --> VarE/d: 0.13791211267311856\n",
      "eps: 0.019396097045818673 --> VarE/d: 0.3618233141276191\n",
      "eps: 0.018178734934353333 --> VarE/d: 0.21510109679802858\n",
      "eps: 0.017220983641589138 --> VarE/d: 0.36063722114948493\n",
      "eps: 0.016270302370808738 --> VarE/d: 0.009503154782223374\n",
      "samples: 100--> 1/<1/ess>: 0.026212934616513788\n",
      "samples: 203--> 1/<1/ess>: 0.009594047832841658\n",
      "samples: 310--> 1/<1/ess>: 0.00541461778917036\n",
      "samples: 420--> 1/<1/ess>: 0.0038479347936814985\n",
      "samples: 534--> 1/<1/ess>: 0.0037187047561648354\n",
      "samples: 652--> 1/<1/ess>: 0.004565375613500249\n",
      "samples: 774--> 1/<1/ess>: 0.004708885886118515\n",
      "samples: 900--> 1/<1/ess>: 0.004507374978564607\n",
      "samples: 1030--> 1/<1/ess>: 0.005032984698555186\n",
      "samples: 1164--> 1/<1/ess>: 0.005342131819702846\n",
      "samples: 1302--> 1/<1/ess>: 0.005428248085719206\n"
     ]
    },
    {
     "name": "stderr",
     "output_type": "stream",
     "text": [
      "\u001b[36m\u001b[1m[ \u001b[22m\u001b[39m\u001b[36m\u001b[1mInfo: \u001b[22m\u001b[39mUsing given sigma ✅\n",
      "\u001b[36m\u001b[1m[ \u001b[22m\u001b[39m\u001b[36m\u001b[1mInfo: \u001b[22m\u001b[39mTuning eps ⏳\n",
      "\u001b[36m\u001b[1m[ \u001b[22m\u001b[39m\u001b[36m\u001b[1mInfo: \u001b[22m\u001b[39mTuning L ⏳\n",
      "\u001b[36m\u001b[1m[ \u001b[22m\u001b[39m\u001b[36m\u001b[1mInfo: \u001b[22m\u001b[39mInitial nu 0.2281016476686452\n",
      "\u001b[36m\u001b[1m[ \u001b[22m\u001b[39m\u001b[36m\u001b[1mInfo: \u001b[22m\u001b[39mStarting burn in ⏳\n",
      "\u001b[36m\u001b[1m[ \u001b[22m\u001b[39m\u001b[36m\u001b[1mInfo: \u001b[22m\u001b[39mVirial loss condition met during burn-in at step: 30\n",
      "\u001b[36m\u001b[1m[ \u001b[22m\u001b[39m\u001b[36m\u001b[1mInfo: \u001b[22m\u001b[39mFound eps: 0.016270302370808738 ✅\n"
     ]
    },
    {
     "name": "stdout",
     "output_type": "stream",
     "text": [
      "samples: 1445--> 1/<1/ess>: 0.005744436603283922\n",
      "samples: 1593--> 1/<1/ess>: 0.0056481565923256075\n",
      "samples: 1746--> 1/<1/ess>: 0.005901385442137528\n"
     ]
    },
    {
     "name": "stderr",
     "output_type": "stream",
     "text": [
      "\u001b[36m\u001b[1m[ \u001b[22m\u001b[39m\u001b[36m\u001b[1mInfo: \u001b[22m\u001b[39mFound L: 1.102812383996088 ✅\n",
      "\u001b[36m\u001b[1m[ \u001b[22m\u001b[39m\u001b[36m\u001b[1mInfo: \u001b[22m\u001b[39mFinal nu 0.1223653752171508\n",
      "\u001b[32mChain 1: 100%|██████████████████████████████████████████| Time: 0:00:00\u001b[39m\n"
     ]
    },
    {
     "data": {
      "text/plain": [
       "Chains MCMC chain (10000×4×1 Array{Float64, 3}):\n",
       "\n",
       "Iterations        = 1001:1:11000\n",
       "Number of chains  = 1\n",
       "Samples per chain = 10000\n",
       "Wall duration     = 2.3 seconds\n",
       "Compute duration  = 2.3 seconds\n",
       "parameters        = Ωm, σ8\n",
       "internals         = E, logp\n",
       "\n",
       "Summary Statistics\n",
       " \u001b[1m parameters \u001b[0m \u001b[1m    mean \u001b[0m \u001b[1m     std \u001b[0m \u001b[1m naive_se \u001b[0m \u001b[1m    mcse \u001b[0m \u001b[1m      ess \u001b[0m \u001b[1m    rhat \u001b[0m \u001b[1m e\u001b[0m ⋯\n",
       " \u001b[90m     Symbol \u001b[0m \u001b[90m Float64 \u001b[0m \u001b[90m Float64 \u001b[0m \u001b[90m  Float64 \u001b[0m \u001b[90m Float64 \u001b[0m \u001b[90m  Float64 \u001b[0m \u001b[90m Float64 \u001b[0m \u001b[90m  \u001b[0m ⋯\n",
       "\n",
       "          Ωm    0.2278    0.0429     0.0004    0.0030   160.8598    1.0014     ⋯\n",
       "          σ8    0.8677    0.0424     0.0004    0.0022   348.4467    1.0000     ⋯\n",
       "\u001b[36m                                                                1 column omitted\u001b[0m\n",
       "\n",
       "Quantiles\n",
       " \u001b[1m parameters \u001b[0m \u001b[1m    2.5% \u001b[0m \u001b[1m   25.0% \u001b[0m \u001b[1m   50.0% \u001b[0m \u001b[1m   75.0% \u001b[0m \u001b[1m   97.5% \u001b[0m\n",
       " \u001b[90m     Symbol \u001b[0m \u001b[90m Float64 \u001b[0m \u001b[90m Float64 \u001b[0m \u001b[90m Float64 \u001b[0m \u001b[90m Float64 \u001b[0m \u001b[90m Float64 \u001b[0m\n",
       "\n",
       "          Ωm    0.1542    0.1965    0.2242    0.2544    0.3232\n",
       "          σ8    0.7889    0.8385    0.8661    0.8949    0.9544\n"
      ]
     },
     "execution_count": 14,
     "metadata": {},
     "output_type": "execute_result"
    }
   ],
   "source": [
    "spl = MCHMC(0.0, 0.0; init_eps=0.07, varE_wanted=0.01, sigma=ones(2))\n",
    "samples = sample(\n",
    "    stat_model, spl, 10_000; burn_in=1_000,\n",
    "    dialog=true)"
   ]
  },
  {
   "cell_type": "code",
   "execution_count": 15,
   "id": "eea6e813",
   "metadata": {},
   "outputs": [
    {
     "name": "stderr",
     "output_type": "stream",
     "text": [
      "\u001b[36m\u001b[1m[ \u001b[22m\u001b[39m\u001b[36m\u001b[1mInfo: \u001b[22m\u001b[39mStarting from previous run\n",
      "\u001b[32mChain 1: 100%|██████████████████████████████████████████| Time: 0:00:00\u001b[39m\n"
     ]
    },
    {
     "data": {
      "text/plain": [
       "Chains MCMC chain (10000×4×1 Array{Float64, 3}):\n",
       "\n",
       "Iterations        = 1001:1:11000\n",
       "Number of chains  = 1\n",
       "Samples per chain = 10000\n",
       "Wall duration     = 0.92 seconds\n",
       "Compute duration  = 0.92 seconds\n",
       "parameters        = Ωm, σ8\n",
       "internals         = E, logp\n",
       "\n",
       "Summary Statistics\n",
       " \u001b[1m parameters \u001b[0m \u001b[1m    mean \u001b[0m \u001b[1m     std \u001b[0m \u001b[1m naive_se \u001b[0m \u001b[1m    mcse \u001b[0m \u001b[1m      ess \u001b[0m \u001b[1m    rhat \u001b[0m \u001b[1m e\u001b[0m ⋯\n",
       " \u001b[90m     Symbol \u001b[0m \u001b[90m Float64 \u001b[0m \u001b[90m Float64 \u001b[0m \u001b[90m  Float64 \u001b[0m \u001b[90m Float64 \u001b[0m \u001b[90m  Float64 \u001b[0m \u001b[90m Float64 \u001b[0m \u001b[90m  \u001b[0m ⋯\n",
       "\n",
       "          Ωm    0.2311    0.0456     0.0005    0.0033   150.7059    1.0008     ⋯\n",
       "          σ8    0.8654    0.0437     0.0004    0.0024   308.6740    1.0014     ⋯\n",
       "\u001b[36m                                                                1 column omitted\u001b[0m\n",
       "\n",
       "Quantiles\n",
       " \u001b[1m parameters \u001b[0m \u001b[1m    2.5% \u001b[0m \u001b[1m   25.0% \u001b[0m \u001b[1m   50.0% \u001b[0m \u001b[1m   75.0% \u001b[0m \u001b[1m   97.5% \u001b[0m\n",
       " \u001b[90m     Symbol \u001b[0m \u001b[90m Float64 \u001b[0m \u001b[90m Float64 \u001b[0m \u001b[90m Float64 \u001b[0m \u001b[90m Float64 \u001b[0m \u001b[90m Float64 \u001b[0m\n",
       "\n",
       "          Ωm    0.1546    0.1978    0.2272    0.2580    0.3357\n",
       "          σ8    0.7832    0.8348    0.8640    0.8942    0.9548\n"
      ]
     },
     "execution_count": 15,
     "metadata": {},
     "output_type": "execute_result"
    }
   ],
   "source": [
    "new_samples = sample(stat_model, spl, 10000; burn_in=1_000,\n",
    "                     monitor_energy=true, \n",
    "                     progress=true, resume_from=samples)"
   ]
  },
  {
   "cell_type": "markdown",
   "id": "f7fdb382",
   "metadata": {},
   "source": [
    "## Ensemble AbstractMCMC"
   ]
  },
  {
   "cell_type": "code",
   "execution_count": 16,
   "id": "16856966",
   "metadata": {
    "scrolled": false
   },
   "outputs": [
    {
     "name": "stderr",
     "output_type": "stream",
     "text": [
      "\u001b[36m\u001b[1m[ \u001b[22m\u001b[39m\u001b[36m\u001b[1mInfo: \u001b[22m\u001b[39mTuning sigma ⏳\n",
      "\u001b[36m\u001b[1m[ \u001b[22m\u001b[39m\u001b[36m\u001b[1mInfo: \u001b[22m\u001b[39mTuning eps ⏳\n",
      "\u001b[36m\u001b[1m[ \u001b[22m\u001b[39m\u001b[36m\u001b[1mInfo: \u001b[22m\u001b[39mTuning L ⏳\n",
      "\u001b[36m\u001b[1m[ \u001b[22m\u001b[39m\u001b[36m\u001b[1mInfo: \u001b[22m\u001b[39mInitial nu 0.2281016476686452\n",
      "\u001b[36m\u001b[1m[ \u001b[22m\u001b[39m\u001b[36m\u001b[1mInfo: \u001b[22m\u001b[39mStarting burn in ⏳\n",
      "\u001b[36m\u001b[1m[ \u001b[22m\u001b[39m\u001b[36m\u001b[1mInfo: \u001b[22m\u001b[39mVirial loss condition met during burn-in at step: 309\n",
      "\u001b[36m\u001b[1m[ \u001b[22m\u001b[39m\u001b[36m\u001b[1mInfo: \u001b[22m\u001b[39mFound sigma: [0.9950812761520736, 0.09906186880712892] ✅\n",
      "\u001b[36m\u001b[1m[ \u001b[22m\u001b[39m\u001b[36m\u001b[1mInfo: \u001b[22m\u001b[39mFound eps: 0.02801917699433691 ✅\n"
     ]
    },
    {
     "name": "stdout",
     "output_type": "stream",
     "text": [
      "Hello\n"
     ]
    },
    {
     "name": "stderr",
     "output_type": "stream",
     "text": [
      "\u001b[36m\u001b[1m[ \u001b[22m\u001b[39m\u001b[36m\u001b[1mInfo: \u001b[22m\u001b[39mFound L: 0.00015905687530696946 ✅\n",
      "\u001b[36m\u001b[1m[ \u001b[22m\u001b[39m\u001b[36m\u001b[1mInfo: \u001b[22m\u001b[39mFinal nu 2.2595945333701965e76\n"
     ]
    },
    {
     "name": "stdout",
     "output_type": "stream",
     "text": [
      "World\n"
     ]
    },
    {
     "name": "stderr",
     "output_type": "stream",
     "text": [
      "\u001b[32mChain 1: 100%|██████████████████████████████████████████| Time: 0:00:05\u001b[39m\n"
     ]
    },
    {
     "data": {
      "text/plain": [
       "Chains MCMC chain (100000×4×1 Array{Float64, 3}):\n",
       "\n",
       "Iterations        = 1001:1:101000\n",
       "Number of chains  = 1\n",
       "Samples per chain = 100000\n",
       "Wall duration     = 5.44 seconds\n",
       "Compute duration  = 5.44 seconds\n",
       "parameters        = Ωm, σ8\n",
       "internals         = E, logp\n",
       "\n",
       "Summary Statistics\n",
       " \u001b[1m parameters \u001b[0m \u001b[1m    mean \u001b[0m \u001b[1m     std \u001b[0m \u001b[1m naive_se \u001b[0m \u001b[1m    mcse \u001b[0m \u001b[1m      ess \u001b[0m \u001b[1m    rhat \u001b[0m \u001b[1m e\u001b[0m ⋯\n",
       " \u001b[90m     Symbol \u001b[0m \u001b[90m Float64 \u001b[0m \u001b[90m Float64 \u001b[0m \u001b[90m  Float64 \u001b[0m \u001b[90m Float64 \u001b[0m \u001b[90m  Float64 \u001b[0m \u001b[90m Float64 \u001b[0m \u001b[90m  \u001b[0m ⋯\n",
       "\n",
       "          Ωm    0.2832    0.1504     0.0005    0.0084   202.9195    1.1225     ⋯\n",
       "          σ8    0.8754    0.1613     0.0005    0.0090   202.7818    1.1470     ⋯\n",
       "\u001b[36m                                                                1 column omitted\u001b[0m\n",
       "\n",
       "Quantiles\n",
       " \u001b[1m parameters \u001b[0m \u001b[1m    2.5% \u001b[0m \u001b[1m   25.0% \u001b[0m \u001b[1m   50.0% \u001b[0m \u001b[1m   75.0% \u001b[0m \u001b[1m   97.5% \u001b[0m\n",
       " \u001b[90m     Symbol \u001b[0m \u001b[90m Float64 \u001b[0m \u001b[90m Float64 \u001b[0m \u001b[90m Float64 \u001b[0m \u001b[90m Float64 \u001b[0m \u001b[90m Float64 \u001b[0m\n",
       "\n",
       "          Ωm    0.0340    0.1705    0.2774    0.4121    0.5093\n",
       "          σ8    0.6855    0.7531    0.8399    0.9280    1.2572\n"
      ]
     },
     "execution_count": 16,
     "metadata": {},
     "output_type": "execute_result"
    }
   ],
   "source": [
    "spl = MCHMC(0.0, 0.0, 10; init_eps=0.07, varE_wanted=0.1)\n",
    "samples = sample(stat_model, spl, 10_000; burn_in=1_000)"
   ]
  },
  {
   "cell_type": "code",
   "execution_count": 17,
   "id": "603dfac8",
   "metadata": {
    "scrolled": true
   },
   "outputs": [
    {
     "ename": "LoadError",
     "evalue": "MethodError: no method matching sample(::DynamicPPL.Model{typeof(model), (:data, :cov), (:cov,), (), Tuple{Vector{Float64}, Matrix{Float64}}, Tuple{Matrix{Float64}}, DynamicPPL.DefaultContext}, ::Int64, ::Int64, ::Int64; resume_from::Chains{Float64, AxisArrays.AxisArray{Float64, 3, Array{Float64, 3}, Tuple{AxisArrays.Axis{:iter, StepRange{Int64, Int64}}, AxisArrays.Axis{:var, Vector{Symbol}}, AxisArrays.Axis{:chain, UnitRange{Int64}}}}, Missing, NamedTuple{(:parameters, :internals), Tuple{Vector{Symbol}, Vector{Symbol}}}, NamedTuple{(:target, :sampler, :init, :start_time, :stop_time), Tuple{ParallelTarget, MicroCanonicalHMC.EnsembleSampler, Tuple{Tuple{Matrix{Float64}, Matrix{Float64}, Vector{Real}, Matrix{Real}, Vector{Float64}}, Tuple{Matrix{Real}, Vector{Float64}, Vector{Float64}}}, Float64, Float64}}})\n\n\u001b[0mClosest candidates are:\n\u001b[0m  sample(::AbstractMCMC.AbstractModel, \u001b[91m::Turing.Inference.InferenceAlgorithm\u001b[39m, \u001b[91m::AbstractMCMC.AbstractMCMCEnsemble\u001b[39m, ::Integer, \u001b[91m::Integer\u001b[39m; kwargs...)\n\u001b[0m\u001b[90m   @\u001b[39m \u001b[32mTuring\u001b[39m \u001b[90m~/.julia/packages/Turing/b6CoW/src/inference/\u001b[39m\u001b[90m\u001b[4mInference.jl:185\u001b[24m\u001b[39m\n\u001b[0m  sample(::AbstractMCMC.AbstractModel, \u001b[91m::Turing.Inference.InferenceAlgorithm\u001b[39m, ::Integer; kwargs...)\n\u001b[0m\u001b[90m   @\u001b[39m \u001b[32mTuring\u001b[39m \u001b[90m~/.julia/packages/Turing/b6CoW/src/inference/\u001b[39m\u001b[90m\u001b[4mInference.jl:130\u001b[24m\u001b[39m\n\u001b[0m  sample(\u001b[91m::Random.AbstractRNG\u001b[39m, ::Any, \u001b[91m::AbstractMCMC.AbstractSampler\u001b[39m, ::Any; kwargs...)\n\u001b[0m\u001b[90m   @\u001b[39m \u001b[36mAbstractMCMC\u001b[39m \u001b[90m~/.julia/packages/AbstractMCMC/F9Hbk/src/\u001b[39m\u001b[90m\u001b[4mlogdensityproblems.jl:43\u001b[24m\u001b[39m\n\u001b[0m  ...\n",
     "output_type": "error",
     "traceback": [
      "MethodError: no method matching sample(::DynamicPPL.Model{typeof(model), (:data, :cov), (:cov,), (), Tuple{Vector{Float64}, Matrix{Float64}}, Tuple{Matrix{Float64}}, DynamicPPL.DefaultContext}, ::Int64, ::Int64, ::Int64; resume_from::Chains{Float64, AxisArrays.AxisArray{Float64, 3, Array{Float64, 3}, Tuple{AxisArrays.Axis{:iter, StepRange{Int64, Int64}}, AxisArrays.Axis{:var, Vector{Symbol}}, AxisArrays.Axis{:chain, UnitRange{Int64}}}}, Missing, NamedTuple{(:parameters, :internals), Tuple{Vector{Symbol}, Vector{Symbol}}}, NamedTuple{(:target, :sampler, :init, :start_time, :stop_time), Tuple{ParallelTarget, MicroCanonicalHMC.EnsembleSampler, Tuple{Tuple{Matrix{Float64}, Matrix{Float64}, Vector{Real}, Matrix{Real}, Vector{Float64}}, Tuple{Matrix{Real}, Vector{Float64}, Vector{Float64}}}, Float64, Float64}}})\n\n\u001b[0mClosest candidates are:\n\u001b[0m  sample(::AbstractMCMC.AbstractModel, \u001b[91m::Turing.Inference.InferenceAlgorithm\u001b[39m, \u001b[91m::AbstractMCMC.AbstractMCMCEnsemble\u001b[39m, ::Integer, \u001b[91m::Integer\u001b[39m; kwargs...)\n\u001b[0m\u001b[90m   @\u001b[39m \u001b[32mTuring\u001b[39m \u001b[90m~/.julia/packages/Turing/b6CoW/src/inference/\u001b[39m\u001b[90m\u001b[4mInference.jl:185\u001b[24m\u001b[39m\n\u001b[0m  sample(::AbstractMCMC.AbstractModel, \u001b[91m::Turing.Inference.InferenceAlgorithm\u001b[39m, ::Integer; kwargs...)\n\u001b[0m\u001b[90m   @\u001b[39m \u001b[32mTuring\u001b[39m \u001b[90m~/.julia/packages/Turing/b6CoW/src/inference/\u001b[39m\u001b[90m\u001b[4mInference.jl:130\u001b[24m\u001b[39m\n\u001b[0m  sample(\u001b[91m::Random.AbstractRNG\u001b[39m, ::Any, \u001b[91m::AbstractMCMC.AbstractSampler\u001b[39m, ::Any; kwargs...)\n\u001b[0m\u001b[90m   @\u001b[39m \u001b[36mAbstractMCMC\u001b[39m \u001b[90m~/.julia/packages/AbstractMCMC/F9Hbk/src/\u001b[39m\u001b[90m\u001b[4mlogdensityproblems.jl:43\u001b[24m\u001b[39m\n\u001b[0m  ...\n",
      "",
      "Stacktrace:",
      " [1] top-level scope",
      "   @ In[17]:1"
     ]
    }
   ],
   "source": [
    "samples = sample(stat_model, spl, 10_000; burn_in=1_000)"
   ]
  },
  {
   "cell_type": "markdown",
   "id": "767048c5",
   "metadata": {},
   "source": [
    "## Parallelization"
   ]
  },
  {
   "cell_type": "code",
   "execution_count": 18,
   "id": "42cf1f7f",
   "metadata": {
    "scrolled": false
   },
   "outputs": [
    {
     "name": "stderr",
     "output_type": "stream",
     "text": [
      "\u001b[36m\u001b[1m[ \u001b[22m\u001b[39m\u001b[36m\u001b[1mInfo: \u001b[22m\u001b[39mnumber of chains: 4 smaller than number of threads: 10. Increase the number of chains to make full use of your threads.\n"
     ]
    },
    {
     "name": "stdout",
     "output_type": "stream",
     "text": [
      "Using eps tuning method AdaptiveStep\n",
      "Using eps tuning method AdaptiveStep\n",
      "Using eps tuning method AdaptiveStep\n",
      "Using eps tuning method AdaptiveStep\n"
     ]
    },
    {
     "name": "stderr",
     "output_type": "stream",
     "text": [
      "\u001b[36m\u001b[1m[ \u001b[22m\u001b[39m\u001b[36m\u001b[1mInfo: \u001b[22m\u001b[39mTuning sigma ⏳\n",
      "\u001b[36m\u001b[1m[ \u001b[22m\u001b[39m\u001b[36m\u001b[1mInfo: \u001b[22m\u001b[39mTuning sigma ⏳\n",
      "\u001b[36m\u001b[1m[ \u001b[22m\u001b[39m\u001b[36m\u001b[1mInfo: \u001b[22m\u001b[39mTuning sigma ⏳\n",
      "\u001b[36m\u001b[1m[ \u001b[22m\u001b[39m\u001b[36m\u001b[1mInfo: \u001b[22m\u001b[39mTuning sigma ⏳\n",
      "\u001b[36m\u001b[1m[ \u001b[22m\u001b[39m\u001b[36m\u001b[1mInfo: \u001b[22m\u001b[39mTuning eps ⏳\n",
      "\u001b[36m\u001b[1m[ \u001b[22m\u001b[39m\u001b[36m\u001b[1mInfo: \u001b[22m\u001b[39mTuning eps ⏳\n",
      "\u001b[36m\u001b[1m[ \u001b[22m\u001b[39m\u001b[36m\u001b[1mInfo: \u001b[22m\u001b[39mTuning eps ⏳\n",
      "\u001b[36m\u001b[1m[ \u001b[22m\u001b[39m\u001b[36m\u001b[1mInfo: \u001b[22m\u001b[39mTuning L ⏳\n",
      "\u001b[36m\u001b[1m[ \u001b[22m\u001b[39m\u001b[36m\u001b[1mInfo: \u001b[22m\u001b[39mTuning L ⏳\n",
      "\u001b[36m\u001b[1m[ \u001b[22m\u001b[39m\u001b[36m\u001b[1mInfo: \u001b[22m\u001b[39mTuning eps ⏳\n",
      "\u001b[36m\u001b[1m[ \u001b[22m\u001b[39m\u001b[36m\u001b[1mInfo: \u001b[22m\u001b[39mInitial nu 0.7169780267370375\n",
      "\u001b[36m\u001b[1m[ \u001b[22m\u001b[39m\u001b[36m\u001b[1mInfo: \u001b[22m\u001b[39mInitial nu 0.7169780267370375\n",
      "\u001b[36m\u001b[1m[ \u001b[22m\u001b[39m\u001b[36m\u001b[1mInfo: \u001b[22m\u001b[39mTuning L ⏳\n",
      "\u001b[36m\u001b[1m[ \u001b[22m\u001b[39m\u001b[36m\u001b[1mInfo: \u001b[22m\u001b[39mInitial nu 0.7169780267370375\n",
      "\u001b[36m\u001b[1m[ \u001b[22m\u001b[39m\u001b[36m\u001b[1mInfo: \u001b[22m\u001b[39mTuning L ⏳\n",
      "\u001b[36m\u001b[1m[ \u001b[22m\u001b[39m\u001b[36m\u001b[1mInfo: \u001b[22m\u001b[39mInitial nu 0.7169780267370375\n"
     ]
    },
    {
     "name": "stdout",
     "output_type": "stream",
     "text": [
      "eps: 0.5 --> VarE/d: 73324.60159259173\n",
      "eps: 0.5 --> VarE/d: 32784.143678330496\n",
      "eps: 0.5 --> VarE/d: 79066.92925701289\n",
      "eps: 0.14883750126249298 --> VarE/d: 1433.9492975733203\n",
      "eps: 0.15160430658252794 --> VarE/d: 121.29387275214957\n",
      "eps: 0.07326115392741621 --> VarE/d: 17.27880850437378\n",
      "eps: 0.5 --> VarE/d: 114494.18762713153\n",
      "eps: 0.14878547798291655 --> VarE/d: 3788.0590364257932\n",
      "eps: 0.0944208298019469 --> VarE/d: 5.572357031904864\n",
      "eps: 0.06044664008259043 --> VarE/d: 0.4664106540361505\n",
      "eps: 0.06944380551916152 --> VarE/d: 272.37846031740355\n",
      "eps: 0.08709532314611322 --> VarE/d: 0.3709675559799347\n",
      "eps: 0.0660567292980414 --> VarE/d: 12.03223490593252\n",
      "eps: 0.14907716056831255 --> VarE/d: 5009.634114616097\n",
      "eps: 0.04616185289018221 --> VarE/d: 43.88486085716352\n",
      "eps: 0.0954007957016898 --> VarE/d: 4.209671550037627\n",
      "eps: 0.06088327405993844 --> VarE/d: 0.7697523504380986\n",
      "eps: 0.037792275498860564 --> VarE/d: 7.091923598848533\n",
      "eps: 0.06311931662137858 --> VarE/d: 0.0036656226512053846\n",
      "eps: 0.09239111218208407 --> VarE/d: 1.816780753329625\n",
      "eps: 0.03539134271208721 --> VarE/d: 0.2484237899762362\n",
      "eps: 0.07167081921624952 --> VarE/d: 0.002917052454368872\n",
      "eps: 0.03843903903517888 --> VarE/d: 2.124078237646522\n",
      "eps: 0.09270713202946337 --> VarE/d: 2.7093928924280593\n",
      "eps: 0.06732703743617009 --> VarE/d: 308.1442275166227\n",
      "eps: 0.03835889272498832 --> VarE/d: 0.031554799514874665\n",
      "eps: 0.09185988307664485 --> VarE/d: 1.493025138407203\n",
      "eps: 0.04242425964820766 --> VarE/d: 0.3251917030457779\n",
      "eps: 0.09257371711536311 --> VarE/d: 2.3493054209297566\n",
      "eps: 0.08059717615437638 --> VarE/d: 4.008333353954413\n",
      "eps: 0.04446739997190034 --> VarE/d: 0.00018818962867973762\n",
      "eps: 0.04384924229215003 --> VarE/d: 41.412591008381526\n",
      "eps: 0.09222172504928233 --> VarE/d: 1.2145185083870935\n",
      "eps: 0.04795026956666064 --> VarE/d: 0.3427479365233668\n",
      "eps: 0.07904543648411785 --> VarE/d: 1.82225045379472\n",
      "eps: 0.0499401611586575 --> VarE/d: 0.015915102394077372\n",
      "eps: 0.0932115075362089 --> VarE/d: 2.006342742032308\n",
      "eps: 0.03583458736623093 --> VarE/d: 6.171544031704855\n",
      "eps: 0.0540431443223743 --> VarE/d: 0.0024293111729537346\n",
      "eps: 0.079228967654125 --> VarE/d: 1.1694579509579117\n",
      "eps: 0.05845697237831306 --> VarE/d: 0.5317020555147249\n",
      "eps: 0.03376309883340285 --> VarE/d: 0.027692294377321645\n",
      "eps: 0.08018561623552012 --> VarE/d: 1.2745399228349492\n",
      "eps: 0.059994843056046146 --> VarE/d: 1.2158748835613824\n",
      "eps: 0.0391245998062619 --> VarE/d: 0.0458954350908141\n",
      "eps: 0.060550314556294275 --> VarE/d: 0.13112129236639689\n",
      "eps: 0.043963953108486435 --> VarE/d: 0.00462573869218632\n",
      "eps: 0.06321268869751877 --> VarE/d: 8.834714235650242\n",
      "eps: 0.08092777669433035 --> VarE/d: 2.066707502684838\n",
      "eps: 0.04981727118791488 --> VarE/d: 0.009814704581662455\n",
      "eps: 0.06172994263074413 --> VarE/d: 0.32452993647693756\n",
      "eps: 0.05572820762330065 --> VarE/d: 5.077605470409586\n",
      "eps: 0.06342689040938426 --> VarE/d: 1.839741441453936\n",
      "eps: 0.05434756202799504 --> VarE/d: 0.8371768075958471\n",
      "eps: 0.06350537274659537 --> VarE/d: 1.2088506418557337\n",
      "eps: 0.06395656761182149 --> VarE/d: 2.9954750267442485\n",
      "eps: 0.06360951610962641 --> VarE/d: 0.729213706796538\n",
      "eps: 0.05549649565946881 --> VarE/d: 0.3650923502601877\n",
      "eps: 0.06443571964129195 --> VarE/d: 0.2663022239127908\n",
      "eps: 0.06599427950113793 --> VarE/d: 0.006551146245691335\n",
      "eps: 0.057532703134609335 --> VarE/d: 0.4092194723628093\n",
      "eps: 0.06904269602104982 --> VarE/d: 0.24110016258638386\n",
      "eps: 0.07071858427499375 --> VarE/d: 0.2631011503775419\n",
      "eps: 0.059346664318959255 --> VarE/d: 0.27717135793113523\n",
      "eps: 0.07232452242956129 --> VarE/d: 0.014582770114703254\n",
      "eps: 0.07533316610175574 --> VarE/d: 1.1198746984923627\n",
      "eps: 0.0614759539547073 --> VarE/d: 0.07149826430087261\n",
      "eps: 0.07582420675523795 --> VarE/d: 0.038597034716531094\n",
      "eps: 0.07854477729687614 --> VarE/d: 0.25202347323975155\n",
      "eps: 0.08022302602471044 --> VarE/d: 0.5539335623185533\n",
      "eps: 0.06468222193617164 --> VarE/d: 1.4960213081075169\n",
      "eps: 0.08129475901007815 --> VarE/d: 3.054074178682044\n",
      "eps: 0.08094100129013289 --> VarE/d: 2.1243752356673467\n",
      "eps: 0.06499584463140337 --> VarE/d: 0.5918937093354516\n",
      "eps: 0.08089170925245193 --> VarE/d: 0.017864962154922955\n",
      "eps: 0.0837553663069592 --> VarE/d: 0.023138163295719123\n",
      "eps: 0.06622860803165816 --> VarE/d: 1.4608913829293184\n",
      "eps: 0.08663157800169753 --> VarE/d: 0.08589947834934424\n",
      "eps: 0.06653946994242717 --> VarE/d: 0.6061681956167405\n",
      "eps: 0.08900472594140102 --> VarE/d: 0.06514158530601787\n",
      "eps: 0.09156454516926028 --> VarE/d: 0.005303062363325652\n",
      "eps: 0.06765746190175728 --> VarE/d: 0.14695206762836188\n",
      "eps: 0.09488090842622442 --> VarE/d: 2.8219149298458754\n",
      "eps: 0.09456861878319518 --> VarE/d: 3.0643659183524057\n",
      "eps: 0.06989659952343759 --> VarE/d: 5.139045654485082\n",
      "eps: 0.09419019615478924 --> VarE/d: 6.79541992692867\n",
      "eps: 0.09314988867602399 --> VarE/d: 0.24957556059869723\n",
      "eps: 0.06904466804998544 --> VarE/d: 3.67033730239563\n",
      "eps: 0.09483529939480208 --> VarE/d: 15.472527723102992\n",
      "eps: 0.09319530330617336 --> VarE/d: 7.610782965312264\n",
      "eps: 0.06851874511090587 --> VarE/d: 1.7661271483291903\n",
      "eps: 0.09211844674875069 --> VarE/d: 5.706503898280825\n",
      "eps: 0.09128552485811398 --> VarE/d: 0.36320959266412184\n",
      "eps: 0.06862284415343321 --> VarE/d: 0.34193901937563215\n",
      "eps: 0.09259548651507986 --> VarE/d: 0.004508379731126817\n",
      "eps: 0.0955967365241857 --> VarE/d: 1.1891775071905872\n",
      "eps: 0.07001138634282338 --> VarE/d: 1.0357868427629628\n",
      "eps: 0.09602614812004105 --> VarE/d: 2.751124978642208\n",
      "eps: 0.0957652216529024 --> VarE/d: 3.627025282338425\n",
      "eps: 0.07053917873616349 --> VarE/d: 1.1369061107480136\n",
      "eps: 0.09528733198988881 --> VarE/d: 1.106610820499264\n",
      "eps: 0.09575721410792858 --> VarE/d: 0.04795468474497288\n",
      "eps: 0.07098306763635705 --> VarE/d: 1.0505629866579882\n",
      "eps: 0.09824301643484298 --> VarE/d: 0.1318515057568554\n",
      "eps: 0.10026088539932258 --> VarE/d: 3.5175406887249987\n",
      "eps: 0.07147817755821105 --> VarE/d: 1.3482754163227704\n",
      "eps: 0.099799733938447 --> VarE/d: 61.044232081431524\n",
      "eps: 0.09745514670288373 --> VarE/d: 83.50902490839869\n",
      "eps: 0.07177651052510091 --> VarE/d: 1.1111407901782837\n",
      "eps: 0.09503696290468504 --> VarE/d: 9.089794419214845\n",
      "eps: 0.07221184827051448 --> VarE/d: 1.2566692498889083\n",
      "eps: 0.09391429275620422 --> VarE/d: 25.541135083024777\n",
      "eps: 0.07255083128092686 --> VarE/d: 1.2420475616168591\n",
      "eps: 0.09216862512805923 --> VarE/d: 30.149594416939195\n",
      "eps: 0.07289267017329329 --> VarE/d: 1.463473950045419\n",
      "eps: 0.09037459929113388 --> VarE/d: 24.2289842504479\n",
      "eps: 0.07311362309113506 --> VarE/d: 1.5265515450635394\n",
      "eps: 0.08873843067363253 --> VarE/d: 27.78790748369089\n",
      "eps: 0.0733017603290069 --> VarE/d: 1.6008884254225277\n",
      "eps: 0.08706787578019208 --> VarE/d: 27.481925371291506\n",
      "eps: 0.07345446358809934 --> VarE/d: 0.6969795056368933\n",
      "eps: 0.08544098813302452 --> VarE/d: 0.7820104739254724\n",
      "eps: 0.07415989163791904 --> VarE/d: 1.676848457262973\n",
      "eps: 0.08606603969387834 --> VarE/d: 0.41862394108079826\n",
      "eps: 0.0742783793061294 --> VarE/d: 1.4880595688800031\n",
      "eps: 0.08708794980227696 --> VarE/d: 5.921108768828773\n",
      "eps: 0.07447447889603193 --> VarE/d: 1.7710744696742557\n",
      "eps: 0.08636980444937314 --> VarE/d: 6.866584630207904\n",
      "eps: 0.07455418936907099 --> VarE/d: 1.9263922530075654\n",
      "eps: 0.08556970837982614 --> VarE/d: 3.0335919217218095\n",
      "eps: 0.0852979748344124 --> VarE/d: 1.2658766362389096\n",
      "eps: 0.08559425763651052 --> VarE/d: 0.09046223585202948\n",
      "eps: 0.08737495524139009 --> VarE/d: 0.35791083775038474\n",
      "eps: 0.0884730750628062 --> VarE/d: 1.1817936829020435\n",
      "eps: 0.08882237929870763 --> VarE/d: 0.6446448623344404\n",
      "eps: 0.08956444149663703 --> VarE/d: 0.6952441971773794\n",
      "eps: 0.09026070402221277 --> VarE/d: 0.6780588810464139\n",
      "eps: 0.09097514176830486 --> VarE/d: 0.8784329585670597\n",
      "eps: 0.09152347953531803 --> VarE/d: 0.5842431798820982\n",
      "eps: 0.09233684173101278 --> VarE/d: 0.5205937681365368\n",
      "eps: 0.09322765301412268 --> VarE/d: 0.39762908703456884\n",
      "eps: 0.09429284379892097 --> VarE/d: 1.0356790777266731\n",
      "eps: 0.09474180390252185 --> VarE/d: 0.6762163752277653\n",
      "eps: 0.0954759023039691 --> VarE/d: 0.9541592864361599\n",
      "eps: 0.09598263785934143 --> VarE/d: 0.3821526815869388\n",
      "eps: 0.09708849684462634 --> VarE/d: 0.9450540553337742\n",
      "eps: 0.09760725541083613 --> VarE/d: 0.623265988925658\n",
      "eps: 0.09840821323039187 --> VarE/d: 0.35824754630518374\n",
      "eps: 0.09957299733572553 --> VarE/d: 0.6571412380146435\n",
      "eps: 0.10035045310494657 --> VarE/d: 0.4871699452872721\n",
      "eps: 0.10133302185893257 --> VarE/d: 0.5243576788567904\n",
      "eps: 0.10227378118491227 --> VarE/d: 0.45396376622737966\n",
      "eps: 0.10331801820851921 --> VarE/d: 0.700558904440459\n",
      "eps: 0.10407275561247992 --> VarE/d: 0.5913633763675217\n",
      "eps: 0.10494967568647863 --> VarE/d: 0.27218206340504725\n",
      "eps: 0.10635031519276646 --> VarE/d: 0.08507149623370179\n",
      "eps: 0.10842943465406352 --> VarE/d: 0.8855315829747629\n",
      "eps: 0.10904597598664953 --> VarE/d: 0.7490134273451957\n",
      "eps: 0.10978899036021784 --> VarE/d: 1.0105108409774322\n",
      "eps: 0.1103107220902552 --> VarE/d: 0.402172546511611\n",
      "eps: 0.1115090071893591 --> VarE/d: 1.2738408773450607\n",
      "eps: 0.11185882570138232 --> VarE/d: 0.793901879660726\n",
      "eps: 0.1125707657414268 --> VarE/d: 1.2952150011531376\n"
     ]
    },
    {
     "name": "stderr",
     "output_type": "stream",
     "text": [
      "\u001b[36m\u001b[1m[ \u001b[22m\u001b[39m\u001b[36m\u001b[1mInfo: \u001b[22m\u001b[39mFound eps: 0.0932115075362089 ✅\n",
      "\u001b[36m\u001b[1m[ \u001b[22m\u001b[39m\u001b[36m\u001b[1mInfo: \u001b[22m\u001b[39mFound eps: 0.08092777669433035 ✅\n",
      "\u001b[36m\u001b[1m[ \u001b[22m\u001b[39m\u001b[36m\u001b[1mInfo: \u001b[22m\u001b[39mFound eps: 0.07455418936907099 ✅\n"
     ]
    },
    {
     "name": "stdout",
     "output_type": "stream",
     "text": [
      "samples: 100--> 1/<1/ess>: 0.08355472002026507\n",
      "samples: 100--> 1/<1/ess>: 0.029067288735138468\n",
      "samples: 100--> 1/<1/ess>: 0.02416389319956664\n",
      "samples: 100--> 1/<1/ess>: 0.020738666875957486\n",
      "samples: 203--> 1/<1/ess>: 0.008988571090007813\n",
      "samples: 203--> 1/<1/ess>: 0.07055009782765168\n",
      "samples: 203--> 1/<1/ess>: 0.011121175069401329\n",
      "samples: 203--> 1/<1/ess>: 0.04267327024594129\n",
      "samples: 310--> 1/<1/ess>: 0.008528341771858077\n",
      "samples: 310--> 1/<1/ess>: 0.017414548623533845\n",
      "samples: 310--> 1/<1/ess>: 0.07259302076227203\n",
      "samples: 420--> 1/<1/ess>: 0.010815763494413756\n",
      "samples: 420--> 1/<1/ess>: 0.019246641789046597\n",
      "samples: 534--> 1/<1/ess>: 0.012206551853221594\n",
      "samples: 534--> 1/<1/ess>: 0.038778922711604935\n",
      "samples: 652--> 1/<1/ess>: 0.011032483142250396\n"
     ]
    },
    {
     "name": "stderr",
     "output_type": "stream",
     "text": [
      "\u001b[36m\u001b[1m[ \u001b[22m\u001b[39m\u001b[36m\u001b[1mInfo: \u001b[22m\u001b[39mFound L: 0.528484072489409 ✅\n",
      "\u001b[36m\u001b[1m[ \u001b[22m\u001b[39m\u001b[36m\u001b[1mInfo: \u001b[22m\u001b[39mFinal nu 0.45987827256513897\n",
      "\u001b[36m\u001b[1m[ \u001b[22m\u001b[39m\u001b[36m\u001b[1mInfo: \u001b[22m\u001b[39mFound L: 0.4459259352733262 ✅\n",
      "\u001b[36m\u001b[1m[ \u001b[22m\u001b[39m\u001b[36m\u001b[1mInfo: \u001b[22m\u001b[39mFinal nu 0.46775297546055017\n",
      "\u001b[36m\u001b[1m[ \u001b[22m\u001b[39m\u001b[36m\u001b[1mInfo: \u001b[22m\u001b[39mFound L: 1.1646474339365367 ✅\n",
      "\u001b[36m\u001b[1m[ \u001b[22m\u001b[39m\u001b[36m\u001b[1mInfo: \u001b[22m\u001b[39mFinal nu 0.32708434723369145\n"
     ]
    },
    {
     "name": "stdout",
     "output_type": "stream",
     "text": [
      "samples: 774--> 1/<1/ess>: 0.01070862652716927\n",
      "samples: 900--> 1/<1/ess>: 0.0117331435387923\n"
     ]
    },
    {
     "name": "stderr",
     "output_type": "stream",
     "text": [
      "\u001b[36m\u001b[1m[ \u001b[22m\u001b[39m\u001b[36m\u001b[1mInfo: \u001b[22m\u001b[39mFound L: 2.5416612052031504 ✅\n",
      "\u001b[36m\u001b[1m[ \u001b[22m\u001b[39m\u001b[36m\u001b[1mInfo: \u001b[22m\u001b[39mFinal nu 0.1738112505102541\n"
     ]
    },
    {
     "ename": "LoadError",
     "evalue": "TaskFailedException\n\n\u001b[91m    nested task error: \u001b[39mUndefVarError: `sample` not defined\n    Stacktrace:\n     [1] \u001b[0m\u001b[1mtune_hyperparameters\u001b[22m\u001b[0m\u001b[1m(\u001b[22m\u001b[90msampler\u001b[39m::\u001b[0mMicroCanonicalHMC.Sampler, \u001b[90mtarget\u001b[39m::\u001b[0mTuringTarget, \u001b[90minit\u001b[39m::\u001b[0mTuple\u001b[90m{Vector{Float64}, Vector{Float64}, Float64, Vector{Float64}, Float64}\u001b[39m; \u001b[90mburn_in\u001b[39m::\u001b[0mInt64, \u001b[90mkwargs\u001b[39m::\u001b[0mBase.Pairs\u001b[90m{Symbol, Bool, Tuple{Symbol, Symbol}, NamedTuple{(:monitor_energy, :dialog), Tuple{Bool, Bool}}}\u001b[39m\u001b[0m\u001b[1m)\u001b[22m\n    \u001b[90m   @\u001b[39m \u001b[32mMicroCanonicalHMC\u001b[39m \u001b[90m~/Glamdring/MicroCanonicalHMC.jl/src/\u001b[39m\u001b[90m\u001b[4mtuning.jl:304\u001b[24m\u001b[39m\n     [2] \u001b[0m\u001b[1mmacro expansion\u001b[22m\n    \u001b[90m   @\u001b[39m \u001b[90m~/Glamdring/MicroCanonicalHMC.jl/src/\u001b[39m\u001b[90m\u001b[4mabstractmcmc.jl:220\u001b[24m\u001b[39m\u001b[90m [inlined]\u001b[39m\n     [3] \u001b[0m\u001b[1m(::MicroCanonicalHMC.var\"#1050#threadsfor_fun#94\"{MicroCanonicalHMC.var\"#1050#threadsfor_fun#83#95\"{Base.Pairs{Symbol, Bool, Tuple{Symbol, Symbol}, NamedTuple{(:monitor_energy, :dialog), Tuple{Bool, Bool}}}, UnitRange{Int64}}})\u001b[22m\u001b[0m\u001b[1m(\u001b[22m\u001b[90mtid\u001b[39m::\u001b[0mInt64; \u001b[90monethread\u001b[39m::\u001b[0mBool\u001b[0m\u001b[1m)\u001b[22m\n    \u001b[90m   @\u001b[39m \u001b[32mMicroCanonicalHMC\u001b[39m \u001b[90m./\u001b[39m\u001b[90m\u001b[4mthreadingconstructs.jl:139\u001b[24m\u001b[39m\n     [4] \u001b[0m\u001b[1m#1050#threadsfor_fun\u001b[22m\n    \u001b[90m   @\u001b[39m \u001b[90m./\u001b[39m\u001b[90m\u001b[4mthreadingconstructs.jl:106\u001b[24m\u001b[39m\u001b[90m [inlined]\u001b[39m\n     [5] \u001b[0m\u001b[1m(::Base.Threads.var\"#1#2\"{MicroCanonicalHMC.var\"#1050#threadsfor_fun#94\"{MicroCanonicalHMC.var\"#1050#threadsfor_fun#83#95\"{Base.Pairs{Symbol, Bool, Tuple{Symbol, Symbol}, NamedTuple{(:monitor_energy, :dialog), Tuple{Bool, Bool}}}, UnitRange{Int64}}}, Int64})\u001b[22m\u001b[0m\u001b[1m(\u001b[22m\u001b[0m\u001b[1m)\u001b[22m\n    \u001b[90m   @\u001b[39m \u001b[90mBase.Threads\u001b[39m \u001b[90m./\u001b[39m\u001b[90m\u001b[4mthreadingconstructs.jl:84\u001b[24m\u001b[39m\n\n...and 3 more exceptions.\n",
     "output_type": "error",
     "traceback": [
      "TaskFailedException\n\n\u001b[91m    nested task error: \u001b[39mUndefVarError: `sample` not defined\n    Stacktrace:\n     [1] \u001b[0m\u001b[1mtune_hyperparameters\u001b[22m\u001b[0m\u001b[1m(\u001b[22m\u001b[90msampler\u001b[39m::\u001b[0mMicroCanonicalHMC.Sampler, \u001b[90mtarget\u001b[39m::\u001b[0mTuringTarget, \u001b[90minit\u001b[39m::\u001b[0mTuple\u001b[90m{Vector{Float64}, Vector{Float64}, Float64, Vector{Float64}, Float64}\u001b[39m; \u001b[90mburn_in\u001b[39m::\u001b[0mInt64, \u001b[90mkwargs\u001b[39m::\u001b[0mBase.Pairs\u001b[90m{Symbol, Bool, Tuple{Symbol, Symbol}, NamedTuple{(:monitor_energy, :dialog), Tuple{Bool, Bool}}}\u001b[39m\u001b[0m\u001b[1m)\u001b[22m\n    \u001b[90m   @\u001b[39m \u001b[32mMicroCanonicalHMC\u001b[39m \u001b[90m~/Glamdring/MicroCanonicalHMC.jl/src/\u001b[39m\u001b[90m\u001b[4mtuning.jl:304\u001b[24m\u001b[39m\n     [2] \u001b[0m\u001b[1mmacro expansion\u001b[22m\n    \u001b[90m   @\u001b[39m \u001b[90m~/Glamdring/MicroCanonicalHMC.jl/src/\u001b[39m\u001b[90m\u001b[4mabstractmcmc.jl:220\u001b[24m\u001b[39m\u001b[90m [inlined]\u001b[39m\n     [3] \u001b[0m\u001b[1m(::MicroCanonicalHMC.var\"#1050#threadsfor_fun#94\"{MicroCanonicalHMC.var\"#1050#threadsfor_fun#83#95\"{Base.Pairs{Symbol, Bool, Tuple{Symbol, Symbol}, NamedTuple{(:monitor_energy, :dialog), Tuple{Bool, Bool}}}, UnitRange{Int64}}})\u001b[22m\u001b[0m\u001b[1m(\u001b[22m\u001b[90mtid\u001b[39m::\u001b[0mInt64; \u001b[90monethread\u001b[39m::\u001b[0mBool\u001b[0m\u001b[1m)\u001b[22m\n    \u001b[90m   @\u001b[39m \u001b[32mMicroCanonicalHMC\u001b[39m \u001b[90m./\u001b[39m\u001b[90m\u001b[4mthreadingconstructs.jl:139\u001b[24m\u001b[39m\n     [4] \u001b[0m\u001b[1m#1050#threadsfor_fun\u001b[22m\n    \u001b[90m   @\u001b[39m \u001b[90m./\u001b[39m\u001b[90m\u001b[4mthreadingconstructs.jl:106\u001b[24m\u001b[39m\u001b[90m [inlined]\u001b[39m\n     [5] \u001b[0m\u001b[1m(::Base.Threads.var\"#1#2\"{MicroCanonicalHMC.var\"#1050#threadsfor_fun#94\"{MicroCanonicalHMC.var\"#1050#threadsfor_fun#83#95\"{Base.Pairs{Symbol, Bool, Tuple{Symbol, Symbol}, NamedTuple{(:monitor_energy, :dialog), Tuple{Bool, Bool}}}, UnitRange{Int64}}}, Int64})\u001b[22m\u001b[0m\u001b[1m(\u001b[22m\u001b[0m\u001b[1m)\u001b[22m\n    \u001b[90m   @\u001b[39m \u001b[90mBase.Threads\u001b[39m \u001b[90m./\u001b[39m\u001b[90m\u001b[4mthreadingconstructs.jl:84\u001b[24m\u001b[39m\n\n...and 3 more exceptions.\n",
      "",
      "Stacktrace:",
      " [1] threading_run(fun::MicroCanonicalHMC.var\"#1050#threadsfor_fun#94\"{MicroCanonicalHMC.var\"#1050#threadsfor_fun#83#95\"{Base.Pairs{Symbol, Bool, Tuple{Symbol, Symbol}, NamedTuple{(:monitor_energy, :dialog), Tuple{Bool, Bool}}}, UnitRange{Int64}}}, static::Bool)",
      "   @ Base.Threads ./threadingconstructs.jl:96",
      " [2] macro expansion",
      "   @ ./threadingconstructs.jl:144 [inlined]",
      " [3] sample(model::DynamicPPL.Model{typeof(model), (:data, :cov), (:cov,), (), Tuple{Vector{Float64}, Matrix{Float64}}, Tuple{Matrix{Float64}}, DynamicPPL.DefaultContext}, sampler::MicroCanonicalHMC.Sampler, ::MCMCThreads, N::Int64, nchains::Int64; progress::Bool, progressname::String, resume_from::Nothing, kwargs::Base.Pairs{Symbol, Bool, Tuple{Symbol, Symbol}, NamedTuple{(:monitor_energy, :dialog), Tuple{Bool, Bool}}})",
      "   @ MicroCanonicalHMC ~/Glamdring/MicroCanonicalHMC.jl/src/abstractmcmc.jl:215",
      " [4] top-level scope",
      "   @ In[18]:1"
     ]
    }
   ],
   "source": [
    "samples = sample(\n",
    "    stat_model, MCHMC(varE_wanted=2.0), MCMCThreads(), 30000, 4;\n",
    "    monitor_energy=true, \n",
    "    dialog=true)"
   ]
  },
  {
   "cell_type": "code",
   "execution_count": 19,
   "id": "2e8cd8ab",
   "metadata": {
    "scrolled": false
   },
   "outputs": [
    {
     "name": "stderr",
     "output_type": "stream",
     "text": [
      "\u001b[36m\u001b[1m[ \u001b[22m\u001b[39m\u001b[36m\u001b[1mInfo: \u001b[22m\u001b[39mStarting from previous run\n"
     ]
    },
    {
     "ename": "LoadError",
     "evalue": "MethodError: no method matching iterate(::Chains{Float64, AxisArrays.AxisArray{Float64, 3, Array{Float64, 3}, Tuple{AxisArrays.Axis{:iter, StepRange{Int64, Int64}}, AxisArrays.Axis{:var, Vector{Symbol}}, AxisArrays.Axis{:chain, UnitRange{Int64}}}}, Missing, NamedTuple{(:parameters, :internals), Tuple{Vector{Symbol}, Vector{Symbol}}}, NamedTuple{(:target, :sampler, :init, :start_time, :stop_time), Tuple{ParallelTarget, MicroCanonicalHMC.EnsembleSampler, Tuple{Tuple{Matrix{Float64}, Matrix{Float64}, Vector{Real}, Matrix{Real}, Vector{Float64}}, Tuple{Matrix{Real}, Vector{Float64}, Vector{Float64}}}, Float64, Float64}}})\n\n\u001b[0mClosest candidates are:\n\u001b[0m  iterate(\u001b[91m::Union{LinRange, StepRangeLen}\u001b[39m)\n\u001b[0m\u001b[90m   @\u001b[39m \u001b[90mBase\u001b[39m \u001b[90m\u001b[4mrange.jl:880\u001b[24m\u001b[39m\n\u001b[0m  iterate(\u001b[91m::Union{LinRange, StepRangeLen}\u001b[39m, \u001b[91m::Integer\u001b[39m)\n\u001b[0m\u001b[90m   @\u001b[39m \u001b[90mBase\u001b[39m \u001b[90m\u001b[4mrange.jl:880\u001b[24m\u001b[39m\n\u001b[0m  iterate(\u001b[91m::T\u001b[39m) where T<:Union{Base.KeySet{<:Any, <:Dict}, Base.ValueIterator{<:Dict}}\n\u001b[0m\u001b[90m   @\u001b[39m \u001b[90mBase\u001b[39m \u001b[90m\u001b[4mdict.jl:698\u001b[24m\u001b[39m\n\u001b[0m  ...\n",
     "output_type": "error",
     "traceback": [
      "MethodError: no method matching iterate(::Chains{Float64, AxisArrays.AxisArray{Float64, 3, Array{Float64, 3}, Tuple{AxisArrays.Axis{:iter, StepRange{Int64, Int64}}, AxisArrays.Axis{:var, Vector{Symbol}}, AxisArrays.Axis{:chain, UnitRange{Int64}}}}, Missing, NamedTuple{(:parameters, :internals), Tuple{Vector{Symbol}, Vector{Symbol}}}, NamedTuple{(:target, :sampler, :init, :start_time, :stop_time), Tuple{ParallelTarget, MicroCanonicalHMC.EnsembleSampler, Tuple{Tuple{Matrix{Float64}, Matrix{Float64}, Vector{Real}, Matrix{Real}, Vector{Float64}}, Tuple{Matrix{Real}, Vector{Float64}, Vector{Float64}}}, Float64, Float64}}})\n\n\u001b[0mClosest candidates are:\n\u001b[0m  iterate(\u001b[91m::Union{LinRange, StepRangeLen}\u001b[39m)\n\u001b[0m\u001b[90m   @\u001b[39m \u001b[90mBase\u001b[39m \u001b[90m\u001b[4mrange.jl:880\u001b[24m\u001b[39m\n\u001b[0m  iterate(\u001b[91m::Union{LinRange, StepRangeLen}\u001b[39m, \u001b[91m::Integer\u001b[39m)\n\u001b[0m\u001b[90m   @\u001b[39m \u001b[90mBase\u001b[39m \u001b[90m\u001b[4mrange.jl:880\u001b[24m\u001b[39m\n\u001b[0m  iterate(\u001b[91m::T\u001b[39m) where T<:Union{Base.KeySet{<:Any, <:Dict}, Base.ValueIterator{<:Dict}}\n\u001b[0m\u001b[90m   @\u001b[39m \u001b[90mBase\u001b[39m \u001b[90m\u001b[4mdict.jl:698\u001b[24m\u001b[39m\n\u001b[0m  ...\n",
      "",
      "Stacktrace:",
      " [1] iterate",
      "   @ ./generator.jl:44 [inlined]",
      " [2] collect(itr::Base.Generator{Chains{Float64, AxisArrays.AxisArray{Float64, 3, Array{Float64, 3}, Tuple{AxisArrays.Axis{:iter, StepRange{Int64, Int64}}, AxisArrays.Axis{:var, Vector{Symbol}}, AxisArrays.Axis{:chain, UnitRange{Int64}}}}, Missing, NamedTuple{(:parameters, :internals), Tuple{Vector{Symbol}, Vector{Symbol}}}, NamedTuple{(:target, :sampler, :init, :start_time, :stop_time), Tuple{ParallelTarget, MicroCanonicalHMC.EnsembleSampler, Tuple{Tuple{Matrix{Float64}, Matrix{Float64}, Vector{Real}, Matrix{Real}, Vector{Float64}}, Tuple{Matrix{Real}, Vector{Float64}, Vector{Float64}}}, Float64, Float64}}}, MicroCanonicalHMC.var\"#84#96\"})",
      "   @ Base ./array.jl:782",
      " [3] sample(model::DynamicPPL.Model{typeof(model), (:data, :cov), (:cov,), (), Tuple{Vector{Float64}, Matrix{Float64}}, Tuple{Matrix{Float64}}, DynamicPPL.DefaultContext}, sampler::MicroCanonicalHMC.Sampler, ::MCMCThreads, N::Int64, nchains::Int64; progress::Bool, progressname::String, resume_from::Chains{Float64, AxisArrays.AxisArray{Float64, 3, Array{Float64, 3}, Tuple{AxisArrays.Axis{:iter, StepRange{Int64, Int64}}, AxisArrays.Axis{:var, Vector{Symbol}}, AxisArrays.Axis{:chain, UnitRange{Int64}}}}, Missing, NamedTuple{(:parameters, :internals), Tuple{Vector{Symbol}, Vector{Symbol}}}, NamedTuple{(:target, :sampler, :init, :start_time, :stop_time), Tuple{ParallelTarget, MicroCanonicalHMC.EnsembleSampler, Tuple{Tuple{Matrix{Float64}, Matrix{Float64}, Vector{Real}, Matrix{Real}, Vector{Float64}}, Tuple{Matrix{Real}, Vector{Float64}, Vector{Float64}}}, Float64, Float64}}}, kwargs::Base.Pairs{Symbol, Bool, Tuple{Symbol, Symbol}, NamedTuple{(:monitor_energy, :dialog), Tuple{Bool, Bool}}})",
      "   @ MicroCanonicalHMC ~/Glamdring/MicroCanonicalHMC.jl/src/abstractmcmc.jl:228",
      " [4] top-level scope",
      "   @ In[19]:1"
     ]
    }
   ],
   "source": [
    "new_samples = sample(\n",
    "    stat_model, MCHMC(varE_wanted=2.0), MCMCThreads(), 30000, 4;\n",
    "    monitor_energy=true, \n",
    "    dialog=true, \n",
    "    resume_from=samples)"
   ]
  },
  {
   "cell_type": "markdown",
   "id": "4aadd3b5",
   "metadata": {},
   "source": [
    "## NUTS"
   ]
  },
  {
   "cell_type": "code",
   "execution_count": 20,
   "id": "dcbe40a3",
   "metadata": {},
   "outputs": [
    {
     "name": "stderr",
     "output_type": "stream",
     "text": [
      "\u001b[36m\u001b[1m┌ \u001b[22m\u001b[39m\u001b[36m\u001b[1mInfo: \u001b[22m\u001b[39mFound initial step size\n",
      "\u001b[36m\u001b[1m└ \u001b[22m\u001b[39m  ϵ = 0.05\n",
      "\u001b[32mSampling: 100%|█████████████████████████████████████████| Time: 0:00:07\u001b[39m\n"
     ]
    },
    {
     "data": {
      "text/plain": [
       "Chains MCMC chain (10000×14×1 Array{Float64, 3}):\n",
       "\n",
       "Iterations        = 11:1:10010\n",
       "Number of chains  = 1\n",
       "Samples per chain = 10000\n",
       "Wall duration     = 11.66 seconds\n",
       "Compute duration  = 11.66 seconds\n",
       "parameters        = Ωm, σ8\n",
       "internals         = lp, n_steps, is_accept, acceptance_rate, log_density, hamiltonian_energy, hamiltonian_energy_error, max_hamiltonian_energy_error, tree_depth, numerical_error, step_size, nom_step_size\n",
       "\n",
       "Summary Statistics\n",
       " \u001b[1m parameters \u001b[0m \u001b[1m    mean \u001b[0m \u001b[1m     std \u001b[0m \u001b[1m naive_se \u001b[0m \u001b[1m    mcse \u001b[0m \u001b[1m       ess \u001b[0m \u001b[1m    rhat \u001b[0m \u001b[1m \u001b[0m ⋯\n",
       " \u001b[90m     Symbol \u001b[0m \u001b[90m Float64 \u001b[0m \u001b[90m Float64 \u001b[0m \u001b[90m  Float64 \u001b[0m \u001b[90m Float64 \u001b[0m \u001b[90m   Float64 \u001b[0m \u001b[90m Float64 \u001b[0m \u001b[90m \u001b[0m ⋯\n",
       "\n",
       "          Ωm    0.2403    0.0683     0.0007    0.0017   1405.0343    1.0006    ⋯\n",
       "          σ8    0.8637    0.0619     0.0006    0.0012   2356.8676    1.0002    ⋯\n",
       "\u001b[36m                                                                1 column omitted\u001b[0m\n",
       "\n",
       "Quantiles\n",
       " \u001b[1m parameters \u001b[0m \u001b[1m    2.5% \u001b[0m \u001b[1m   25.0% \u001b[0m \u001b[1m   50.0% \u001b[0m \u001b[1m   75.0% \u001b[0m \u001b[1m   97.5% \u001b[0m\n",
       " \u001b[90m     Symbol \u001b[0m \u001b[90m Float64 \u001b[0m \u001b[90m Float64 \u001b[0m \u001b[90m Float64 \u001b[0m \u001b[90m Float64 \u001b[0m \u001b[90m Float64 \u001b[0m\n",
       "\n",
       "          Ωm    0.1333    0.1894    0.2317    0.2809    0.3915\n",
       "          σ8    0.7530    0.8194    0.8603    0.9035    0.9947\n"
      ]
     },
     "execution_count": 20,
     "metadata": {},
     "output_type": "execute_result"
    }
   ],
   "source": [
    "samples_hmc = sample(stat_model, NUTS(10, 0.65),\n",
    "                     10000, progress=true; save_state=true)"
   ]
  },
  {
   "cell_type": "code",
   "execution_count": 21,
   "id": "623ba990",
   "metadata": {},
   "outputs": [
    {
     "data": {
      "text/plain": [
       "3-dimensional AxisArray{Float64,3,...} with axes:\n",
       "    :iter, 11:1:10010\n",
       "    :var, [:Ωm, :σ8, :lp, :n_steps, :is_accept, :acceptance_rate, :log_density, :hamiltonian_energy, :hamiltonian_energy_error, :max_hamiltonian_energy_error, :tree_depth, :numerical_error, :step_size, :nom_step_size]\n",
       "    :chain, 1:1\n",
       "And data, a 10000×14×1 Array{Float64, 3}:\n",
       "[:, :, 1] =\n",
       " 0.195289  0.931189  15.6471   7.0  1.0  …  2.0  0.0  0.0471045  0.0471045\n",
       " 0.194965  0.891184  16.194    3.0  1.0     1.0  0.0  0.0471045  0.0471045\n",
       " 0.20792   0.883536  16.2748  15.0  1.0     3.0  0.0  0.0471045  0.0471045\n",
       " 0.252361  0.838644  16.1968  31.0  1.0     4.0  0.0  0.0471045  0.0471045\n",
       " 0.251986  0.825046  16.0557   1.0  1.0     1.0  0.0  0.0471045  0.0471045\n",
       " 0.24801   0.831916  16.1395   3.0  1.0  …  2.0  0.0  0.0471045  0.0471045\n",
       " 0.195668  0.864144  15.9732  21.0  1.0     4.0  0.0  0.0471045  0.0471045\n",
       " 0.264617  0.863147  15.8853  19.0  1.0     4.0  0.0  0.0471045  0.0471045\n",
       " 0.272399  0.787847  15.258    7.0  1.0     2.0  0.0  0.0471045  0.0471045\n",
       " 0.177485  0.831818  14.0719  23.0  1.0     4.0  0.0  0.0471045  0.0471045\n",
       " 0.180171  0.853985  15.1452   3.0  1.0  …  2.0  0.0  0.0471045  0.0471045\n",
       " 0.171713  0.970758  14.8959   7.0  1.0     2.0  0.0  0.0471045  0.0471045\n",
       " 0.309617  0.861916  14.6632  21.0  1.0     4.0  0.0  0.0471045  0.0471045\n",
       " ⋮                                       ⋱  ⋮                    \n",
       " 0.322923  0.793806  15.3018  15.0  1.0     3.0  0.0  0.0471045  0.0471045\n",
       " 0.31189   0.76655   14.6991   7.0  1.0     2.0  0.0  0.0471045  0.0471045\n",
       " 0.379489  0.75144   13.8479  31.0  1.0  …  4.0  0.0  0.0471045  0.0471045\n",
       " 0.38042   0.765048  14.1431   3.0  1.0     2.0  0.0  0.0471045  0.0471045\n",
       " 0.382154  0.757197  13.9635   3.0  1.0     1.0  0.0  0.0471045  0.0471045\n",
       " 0.376954  0.767477  14.2347  31.0  1.0     5.0  0.0  0.0471045  0.0471045\n",
       " 0.364653  0.814261  14.3859   7.0  1.0     2.0  0.0  0.0471045  0.0471045\n",
       " 0.1349    0.971494  14.6712  23.0  1.0  …  4.0  0.0  0.0471045  0.0471045\n",
       " 0.15293   0.990051  14.6072   7.0  1.0     2.0  0.0  0.0471045  0.0471045\n",
       " 0.16133   0.890763  15.2044  15.0  1.0     4.0  0.0  0.0471045  0.0471045\n",
       " 0.150458  0.9728    15.0322   7.0  1.0     2.0  0.0  0.0471045  0.0471045\n",
       " 0.152418  0.995637  14.4361   3.0  1.0     1.0  0.0  0.0471045  0.0471045"
      ]
     },
     "execution_count": 21,
     "metadata": {},
     "output_type": "execute_result"
    }
   ],
   "source": [
    "samples_hmc.value"
   ]
  },
  {
   "cell_type": "code",
   "execution_count": 22,
   "id": "fa9db828",
   "metadata": {},
   "outputs": [],
   "source": [
    "Wms_hmc = vec(samples_hmc[\"Ωm\"])\n",
    "s8s_hmc = vec(samples_hmc[\"σ8\"]);"
   ]
  },
  {
   "cell_type": "code",
   "execution_count": 23,
   "id": "3d063a52",
   "metadata": {},
   "outputs": [
    {
     "data": {
      "image/png": "[encoded data removed]",
      "text/plain": [
       "Figure(PyObject <Figure size 640x480 with 1 Axes>)"
      ]
     },
     "metadata": {},
     "output_type": "display_data"
    }
   ],
   "source": [
    "plt.hist2d(Wms_hmc, s8s_hmc, bins=100, range=[[0.1, 0.6],[0.6, 1.2]]);\n",
    "plt.xlabel(\"Wm\")\n",
    "plt.ylabel(\"s8\")\n",
    "plt.title(\"NUTS - RSD model\");"
   ]
  },
  {
   "cell_type": "code",
   "execution_count": null,
   "id": "e2f1bc9f",
   "metadata": {},
   "outputs": [],
   "source": []
  }
 ],
 "metadata": {
  "kernelspec": {
   "display_name": "Julia-1.9.0 10 Threads 1.9.0-rc1",
   "language": "julia",
   "name": "julia-1.9.0-10-threads-1.9"
  },
  "language_info": {
   "file_extension": ".jl",
   "mimetype": "application/julia",
   "name": "julia",
   "version": "1.9.0"
  }
 },
 "nbformat": 4,
 "nbformat_minor": 5
}
