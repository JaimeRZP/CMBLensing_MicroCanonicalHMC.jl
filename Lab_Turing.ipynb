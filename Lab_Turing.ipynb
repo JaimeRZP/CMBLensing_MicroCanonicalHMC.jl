{
 "cells": [
  {
   "cell_type": "markdown",
   "id": "91129cb1",
   "metadata": {},
   "source": [
    "# Turing Target Practice"
   ]
  },
  {
   "cell_type": "markdown",
   "id": "97121235",
   "metadata": {},
   "source": [
    "## Model"
   ]
  },
  {
   "cell_type": "code",
   "execution_count": 1,
   "id": "86b96c9e",
   "metadata": {},
   "outputs": [
    {
     "name": "stderr",
     "output_type": "stream",
     "text": [
      "\u001b[32m\u001b[1m  Activating\u001b[22m\u001b[39m project at `~/PhD/MicroCanonicalHMC.jl`\n"
     ]
    }
   ],
   "source": [
    "] activate \".\""
   ]
  },
  {
   "cell_type": "code",
   "execution_count": 2,
   "id": "baed58e3",
   "metadata": {},
   "outputs": [
    {
     "name": "stderr",
     "output_type": "stream",
     "text": [
      "\u001b[36m\u001b[1m[ \u001b[22m\u001b[39m\u001b[36m\u001b[1mInfo: \u001b[22m\u001b[39mPrecompiling MicroCanonicalHMC [234d2aa0-2291-45f7-9047-6fa6f316b0a8]\n"
     ]
    }
   ],
   "source": [
    "# The statistical inference frame-work we will use\n",
    "using Turing\n",
    "using Interpolations\n",
    "using ForwardDiff\n",
    "using LinearAlgebra\n",
    "#using StatsPlots\n",
    "using PyPlot\n",
    "using Distributed\n",
    "\n",
    "using Revise\n",
    "using MicroCanonicalHMC"
   ]
  },
  {
   "cell_type": "code",
   "execution_count": 3,
   "id": "a7d6f81c",
   "metadata": {},
   "outputs": [],
   "source": [
    "fs8_zs = [0.38, 0.51, 0.61, 1.48, 0.44, 0.6, 0.73, 0.6, 0.86, 0.067, 1.4]\n",
    "fs8_data = [0.49749, 0.457523, 0.436148, 0.462, 0.413, 0.39, 0.437, 0.55, 0.4, 0.423, 0.482]\n",
    "fs8_cov = [0.00203355 0.000811829 0.000264615 0.0 0.0 0.0 0.0 0.0 0.0 0.0 0.0;\n",
    "           0.000811829 0.00142289 0.000662824 0.0 0.0 0.0 0.0 0.0 0.0 0.0 0.0; \n",
    "           0.000264615 0.000662824 0.00118576 0.0 0.0 0.0 0.0 0.0 0.0 0.0 0.0;\n",
    "           0.0 0.0 0.0 0.002025 0.0 0.0 0.0 0.0 0.0 0.0 0.0;\n",
    "           0.0 0.0 0.0 0.0 0.0064 0.00257 0.0 0.0 0.0 0.0 0.0;\n",
    "           0.0 0.0 0.0 0.0 0.00257 0.003969 0.00254 0.0 0.0 0.0 0.0;\n",
    "           0.0 0.0 0.0 0.0 0.0 0.00254 0.005184 0.0 0.0 0.0 0.0;\n",
    "           0.0 0.0 0.0 0.0 0.0 0.0 0.0 0.0144 0.0 0.0 0.0;\n",
    "           0.0 0.0 0.0 0.0 0.0 0.0 0.0 0.0 0.0121 0.0 0.0; \n",
    "           0.0 0.0 0.0 0.0 0.0 0.0 0.0 0.0 0.0 0.003025 0.0;\n",
    "           0.0 0.0 0.0 0.0 0.0 0.0 0.0 0.0 0.0 0.0 0.013456000000000001];"
   ]
  },
  {
   "cell_type": "code",
   "execution_count": 4,
   "id": "1359a630",
   "metadata": {
    "code_folding": []
   },
   "outputs": [
    {
     "data": {
      "text/plain": [
       "make_fs8 (generic function with 1 method)"
      ]
     },
     "execution_count": 4,
     "metadata": {},
     "output_type": "execute_result"
    }
   ],
   "source": [
    "function make_fs8(Ωm, σ8; Ωr=8.24*10^-5)\n",
    "    # ODE solution for growth factor\n",
    "    x_Dz = LinRange(0, log(1+1100), 300)\n",
    "    dx_Dz = x_Dz[2]-x_Dz[1]\n",
    "    z_Dz = @.(exp(x_Dz) - 1)\n",
    "    a_Dz = @.(1/(1+z_Dz))\n",
    "    aa = reverse(a_Dz)\n",
    "    e =  @.(sqrt.(abs(Ωm)*(1+z_Dz)^3+Ωr*(1+z_Dz)^4+(1-Ωm-Ωr)))\n",
    "    ee = reverse(e)\n",
    "\n",
    "    dd = zeros(typeof(Ωm), 300)\n",
    "    yy = zeros(typeof(Ωm), 300)\n",
    "    dd[1] = aa[1]\n",
    "    yy[1] = aa[1]^3*ee[end]\n",
    "\n",
    "    for i in 1:(300-1)\n",
    "        A0 = -1.5 * Ωm / (aa[i]*ee[i])\n",
    "        B0 = -1. / (aa[i]^2*ee[i])\n",
    "        A1 = -1.5 * Ωm / (aa[i+1]*ee[i+1])\n",
    "        B1 = -1. / (aa[i+1]^2*ee[i+1])\n",
    "        yy[i+1] = (1+0.5*dx_Dz^2*A0*B0)*yy[i] + 0.5*(A0+A1)*dx_Dz*dd[i]\n",
    "        dd[i+1] = 0.5*(B0+B1)*dx_Dz*yy[i] + (1+0.5*dx_Dz^2*A0*B0)*dd[i]\n",
    "    end\n",
    "\n",
    "    y = reverse(yy)\n",
    "    d = reverse(dd)\n",
    "\n",
    "    Dzi = LinearInterpolation(z_Dz, d./d[1], extrapolation_bc=Line())\n",
    "    fs8zi = LinearInterpolation(z_Dz, -σ8 .* y./ (a_Dz.^2 .*e.*d[1]),\n",
    "                                 extrapolation_bc=Line())\n",
    "    return fs8zi\n",
    "end"
   ]
  },
  {
   "cell_type": "code",
   "execution_count": 5,
   "id": "8005e277",
   "metadata": {},
   "outputs": [],
   "source": [
    "@model function model(data; cov = fs8_cov) \n",
    "    # Define priors\n",
    "    #KiDS priors\n",
    "    Ωm  ~ Uniform(0.01, 0.6)\n",
    "    σ8 ~ Normal(0.8, 0.3)\n",
    "    fs8_itp = make_fs8(Ωm, σ8)\n",
    "    theory = fs8_itp(fs8_zs)\n",
    "    data ~ MvNormal(theory, cov)\n",
    "end;"
   ]
  },
  {
   "cell_type": "code",
   "execution_count": 6,
   "id": "1eebe796",
   "metadata": {},
   "outputs": [
    {
     "data": {
      "text/plain": [
       "DynamicPPL.Model{typeof(model), (:data, :cov), (:cov,), (), Tuple{Vector{Float64}, Matrix{Float64}}, Tuple{Matrix{Float64}}, DynamicPPL.DefaultContext}(model, (data = [0.49749, 0.457523, 0.436148, 0.462, 0.413, 0.39, 0.437, 0.55, 0.4, 0.423, 0.482], cov = [0.00203355 0.000811829 … 0.0 0.0; 0.000811829 0.00142289 … 0.0 0.0; … ; 0.0 0.0 … 0.003025 0.0; 0.0 0.0 … 0.0 0.013456000000000001]), (cov = [0.00203355 0.000811829 … 0.0 0.0; 0.000811829 0.00142289 … 0.0 0.0; … ; 0.0 0.0 … 0.003025 0.0; 0.0 0.0 … 0.0 0.013456000000000001],), DynamicPPL.DefaultContext())"
      ]
     },
     "execution_count": 6,
     "metadata": {},
     "output_type": "execute_result"
    }
   ],
   "source": [
    "stat_model = model(fs8_data)"
   ]
  },
  {
   "cell_type": "markdown",
   "id": "10dfa4cc",
   "metadata": {},
   "source": [
    "## Sampling"
   ]
  },
  {
   "cell_type": "code",
   "execution_count": 7,
   "id": "c8ed14a3",
   "metadata": {},
   "outputs": [],
   "source": [
    "target = TuringTarget(stat_model);"
   ]
  },
  {
   "cell_type": "code",
   "execution_count": 8,
   "id": "82938e27",
   "metadata": {
    "scrolled": false
   },
   "outputs": [
    {
     "name": "stderr",
     "output_type": "stream",
     "text": [
      "\u001b[36m\u001b[1m[ \u001b[22m\u001b[39m\u001b[36m\u001b[1mInfo: \u001b[22m\u001b[39mTuning eps ⏳\n",
      "\u001b[36m\u001b[1m[ \u001b[22m\u001b[39m\u001b[36m\u001b[1mInfo: \u001b[22m\u001b[39mTuning L ⏳\n",
      "\u001b[32mMCHMC (tuning):  14%|████▉                              |  ETA: 0:00:01\u001b[39m"
     ]
    },
    {
     "name": "stdout",
     "output_type": "stream",
     "text": [
      "Burn in step: 2000\n",
      "eps --->0.025241315587859966\n",
      "L   --->0.007643689801034896\n",
      " \n",
      "Burn in step: 4000\n",
      "eps --->0.029348926212972703\n",
      "L   --->0.010929676015201053\n",
      " \n",
      "Burn in step: 6000\n",
      "eps --->0.02736433274842907\n",
      "L   --->0.010036645205171852\n",
      " \n",
      "Burn in step: 8000\n",
      "eps --->0.021876452008982073\n",
      "L   --->0.007390628306329498\n",
      " \n"
     ]
    },
    {
     "name": "stderr",
     "output_type": "stream",
     "text": [
      "\r",
      "\u001b[32mMCHMC (tuning): 100%|███████████████████████████████████| Time: 0:00:00\u001b[39m\r",
      "\u001b[A"
     ]
    },
    {
     "name": "stdout",
     "output_type": "stream",
     "text": [
      "Burn in step: 10000\n",
      "eps --->0.031215868840670027\n",
      "L   --->0.005566251986830928\n",
      " \n"
     ]
    },
    {
     "name": "stderr",
     "output_type": "stream",
     "text": [
      "\u001b[36m\u001b[1m[ \u001b[22m\u001b[39m\u001b[36m\u001b[1mInfo: \u001b[22m\u001b[39meps: 0.031215868840670027\n",
      "\u001b[36m\u001b[1m[ \u001b[22m\u001b[39m\u001b[36m\u001b[1mInfo: \u001b[22m\u001b[39mL: 0.005566251986830928\n",
      "\u001b[36m\u001b[1m[ \u001b[22m\u001b[39m\u001b[36m\u001b[1mInfo: \u001b[22m\u001b[39mnu: 48.28055648162478\n",
      "\u001b[36m\u001b[1m[ \u001b[22m\u001b[39m\u001b[36m\u001b[1mInfo: \u001b[22m\u001b[39msigma: [1.0, 1.0]\n",
      "\u001b[36m\u001b[1m[ \u001b[22m\u001b[39m\u001b[36m\u001b[1mInfo: \u001b[22m\u001b[39madaptive: true\n",
      "\u001b[A2mMCHMC: 100%|████████████████████████████████████████████| Time: 0:00:05\u001b[39m"
     ]
    },
    {
     "data": {
      "text/plain": [
       "100000-element Vector{Any}:\n",
       " [0.19106268089104103, 0.9344356021191289, 0.031215868840670027, -0.4055626751249637, 15.63326039696207]\n",
       " [0.1871710725743617, 0.9354648942541001, 0.03135459063967758, -0.013107422267422564, 15.665130802131273]\n",
       " [0.1886298520455496, 0.9063911058479055, 0.03129562824105063, 1.1281720854188269, 16.099990081556186]\n",
       " [0.19160746457310576, 0.9267171704854505, 0.031439721552554464, -0.5841595785699596, 15.810265187890947]\n",
       " [0.19144726164129292, 0.9581310394064076, 0.030102347254880892, -2.895008998713534, 14.812063739476693]\n",
       " [0.19506817927287512, 0.948929583278575, 0.03029073427849342, 0.2795547622453398, 15.068252734524386]\n",
       " [0.19676665797742096, 0.9217340152424923, 0.029910543885317917, 1.7073336484285484, 15.855351191652343]\n",
       " [0.1934217004245692, 0.9075495261157006, 0.030076563606809627, 0.44369726239998464, 16.103100961412576]\n",
       " [0.1902776124556603, 0.9242808942778721, 0.030239948372500526, -0.46230045340224635, 15.87297004760606]\n",
       " [0.1903207893727708, 0.9545188761721538, 0.029199115362763116, -2.6080959767546688, 14.994960035706445]\n",
       " [0.19282329881411953, 0.9331603806424421, 0.02915604872663518, 1.1028265669025323, 15.637482502932407]\n",
       " [0.19125407479932574, 0.9068041074997423, 0.02902390216155244, 1.2937693486811845, 16.107450303767745]\n",
       " [0.18764822939067066, 0.9097159790799489, 0.02920217387408648, -0.10986414079965101, 16.072377851474144]\n",
       " ⋮\n",
       " [0.3812331112438846, 0.7800650290200002, 0.021636008078535086, 0.33130796809397367, 14.280953419780515]\n",
       " [0.3785520458372531, 0.7895847996981172, 0.0217715465537817, 0.17468280844337514, 14.336429608200438]\n",
       " [0.37575244036390876, 0.7814340528683906, 0.021908141711115447, 0.17658401941548085, 14.392600846260622]\n",
       " [0.3763916179674274, 0.7600143733308666, 0.021945150503409307, -0.8679740242692198, 14.101906052579313]\n",
       " [0.3745151518990969, 0.777322535598902, 0.02200492726806349, 0.7763348028911761, 14.390568660743826]\n",
       " [0.3726359169158571, 0.7599208635216684, 0.022101029742640447, -0.6022847810137009, 14.146632927297189]\n",
       " [0.37140263353745556, 0.7801873023464958, 0.022124457604978963, 0.9188351885932846, 14.46651609578762]\n",
       " [0.36881220537007603, 0.7923799145050945, 0.022262547128839176, 0.21492077019538947, 14.538108620030096]\n",
       " [0.3669079452614285, 0.774696238538952, 0.022396844804288697, -0.09831692899170541, 14.489077730881563]\n",
       " [0.36854763017337344, 0.7938289291105186, 0.02253356018092777, 0.1080058668532331, 14.538561725016336]\n",
       " [0.36829375414687887, 0.7713677458405981, 0.022668198661671163, -0.34443168805799296, 14.422799288553197]\n",
       " [0.36911687051708536, 0.7932671666962329, 0.022807167569022367, 0.2973126575493499, 14.528534079109651]"
      ]
     },
     "execution_count": 8,
     "metadata": {},
     "output_type": "execute_result"
    }
   ],
   "source": [
    "spl = MCHMC(10_000, 0.5; adaptive=true, init_eps=0.07, sigma=ones(2))\n",
    "samples_mchmc = Sample(spl, target, 100_000;\n",
    "                       burn_in=100,\n",
    "                       initial_x = [0.2, 0.8], \n",
    "                       file_name=\"Turing_sequential_samples\",  \n",
    "                       dialog=true)"
   ]
  },
  {
   "cell_type": "code",
   "execution_count": 9,
   "id": "54c70b0f",
   "metadata": {},
   "outputs": [
    {
     "data": {
      "text/plain": [
       "3-element Vector{Float64}:\n",
       " 0.04430801669120408\n",
       " 0.04503865152435727\n",
       " 0.004288716119883281"
      ]
     },
     "execution_count": 9,
     "metadata": {},
     "output_type": "execute_result"
    }
   ],
   "source": [
    "std(samples_mchmc)[1:end-2]"
   ]
  },
  {
   "cell_type": "code",
   "execution_count": 10,
   "id": "385a8b1a",
   "metadata": {},
   "outputs": [],
   "source": [
    "Wms_mchmc = [sample[1] for sample in samples_mchmc]\n",
    "s8s_mchmc = [sample[2] for sample in samples_mchmc];"
   ]
  },
  {
   "cell_type": "code",
   "execution_count": 11,
   "id": "2a803eb8",
   "metadata": {},
   "outputs": [
    {
     "data": {
      "image/png": "[encoded data removed]",
      "text/plain": [
       "Figure(PyObject <Figure size 640x480 with 1 Axes>)"
      ]
     },
     "metadata": {},
     "output_type": "display_data"
    }
   ],
   "source": [
    "plt.hist2d(Wms_mchmc, s8s_mchmc, bins=100, range=[[0.1, 0.6],[0.6, 1.2]]);\n",
    "plt.xlabel(\"Wm\")\n",
    "plt.ylabel(\"s8\")\n",
    "plt.title(\"MCHMC - RSD model\");"
   ]
  },
  {
   "cell_type": "markdown",
   "id": "b9b6311f",
   "metadata": {},
   "source": [
    "##  AbstractMCMC"
   ]
  },
  {
   "cell_type": "code",
   "execution_count": 12,
   "id": "d569b9dc",
   "metadata": {},
   "outputs": [
    {
     "name": "stderr",
     "output_type": "stream",
     "text": [
      "\u001b[36m\u001b[1m[ \u001b[22m\u001b[39m\u001b[36m\u001b[1mInfo: \u001b[22m\u001b[39mTuning eps ⏳\n",
      "\u001b[36m\u001b[1m[ \u001b[22m\u001b[39m\u001b[36m\u001b[1mInfo: \u001b[22m\u001b[39mTuning L ⏳\n",
      "\u001b[32mMCHMC (tuning):  18%|██████▎                            |  ETA: 0:00:00\u001b[39m"
     ]
    },
    {
     "name": "stdout",
     "output_type": "stream",
     "text": [
      "Burn in step: 2000\n",
      "eps --->0.03918429411199987\n",
      "L   --->0.01192126948469395\n",
      " \n"
     ]
    },
    {
     "name": "stderr",
     "output_type": "stream",
     "text": [
      "\r",
      "\u001b[32mMCHMC (tuning):  36%|████████████▋                      |  ETA: 0:00:00\u001b[39m"
     ]
    },
    {
     "name": "stdout",
     "output_type": "stream",
     "text": [
      "Burn in step: 4000\n",
      "eps --->0.019046763199683615\n",
      "L   --->0.006797124622512787\n",
      " \n"
     ]
    },
    {
     "name": "stderr",
     "output_type": "stream",
     "text": [
      "\r",
      "\u001b[32mMCHMC (tuning):  55%|███████████████████▏               |  ETA: 0:00:00\u001b[39m"
     ]
    },
    {
     "name": "stdout",
     "output_type": "stream",
     "text": [
      "Burn in step: 6000\n",
      "eps --->0.029104096445450298\n",
      "L   --->0.010513465820943306\n",
      " \n"
     ]
    },
    {
     "name": "stderr",
     "output_type": "stream",
     "text": [
      "\r",
      "\u001b[32mMCHMC (tuning):  72%|█████████████████████████▍         |  ETA: 0:00:00\u001b[39m"
     ]
    },
    {
     "name": "stdout",
     "output_type": "stream",
     "text": [
      "Burn in step: 8000\n",
      "eps --->0.027254598291429507\n",
      "L   --->0.009133913894798614\n",
      " \n"
     ]
    },
    {
     "name": "stderr",
     "output_type": "stream",
     "text": [
      "\u001b[A2mMCHMC (tuning): 100%|███████████████████████████████████| Time: 0:00:00\u001b[39m"
     ]
    },
    {
     "name": "stdout",
     "output_type": "stream",
     "text": [
      "Burn in step: 10000\n",
      "eps --->0.03365964974001195\n",
      "L   --->0.005355361977089541\n",
      " \n"
     ]
    },
    {
     "name": "stderr",
     "output_type": "stream",
     "text": [
      "\u001b[36m\u001b[1m[ \u001b[22m\u001b[39m\u001b[36m\u001b[1mInfo: \u001b[22m\u001b[39meps: 0.03365964974001195\n",
      "\u001b[36m\u001b[1m[ \u001b[22m\u001b[39m\u001b[36m\u001b[1mInfo: \u001b[22m\u001b[39mL: 0.005355361977089541\n",
      "\u001b[36m\u001b[1m[ \u001b[22m\u001b[39m\u001b[36m\u001b[1mInfo: \u001b[22m\u001b[39mnu: 28.169513797677922\n",
      "\u001b[36m\u001b[1m[ \u001b[22m\u001b[39m\u001b[36m\u001b[1mInfo: \u001b[22m\u001b[39msigma: [1.0, 1.0]\n",
      "\u001b[36m\u001b[1m[ \u001b[22m\u001b[39m\u001b[36m\u001b[1mInfo: \u001b[22m\u001b[39madaptive: true\n",
      "\u001b[32mChain 1: 100%|██████████████████████████████████████████| Time: 0:00:00\u001b[39m\n"
     ]
    },
    {
     "data": {
      "text/plain": [
       "Chains MCMC chain (10000×5×1 Array{Float64, 3}):\n",
       "\n",
       "Iterations        = 1:1:10000\n",
       "Number of chains  = 1\n",
       "Samples per chain = 10000\n",
       "Wall duration     = 1.69 seconds\n",
       "Compute duration  = 1.69 seconds\n",
       "parameters        = Ωm, σ8\n",
       "internals         = eps, E, logp\n",
       "\n",
       "Summary Statistics\n",
       " \u001b[1m parameters \u001b[0m \u001b[1m    mean \u001b[0m \u001b[1m     std \u001b[0m \u001b[1m naive_se \u001b[0m \u001b[1m    mcse \u001b[0m \u001b[1m     ess \u001b[0m \u001b[1m    rhat \u001b[0m \u001b[1m es\u001b[0m ⋯\n",
       " \u001b[90m     Symbol \u001b[0m \u001b[90m Float64 \u001b[0m \u001b[90m Float64 \u001b[0m \u001b[90m  Float64 \u001b[0m \u001b[90m Float64 \u001b[0m \u001b[90m Float64 \u001b[0m \u001b[90m Float64 \u001b[0m \u001b[90m   \u001b[0m ⋯\n",
       "\n",
       "          Ωm    0.2215    0.0359     0.0004    0.0035   25.1571    1.3138      ⋯\n",
       "          σ8    0.8704    0.0391     0.0004    0.0026   51.1305    1.1256      ⋯\n",
       "\u001b[36m                                                                1 column omitted\u001b[0m\n",
       "\n",
       "Quantiles\n",
       " \u001b[1m parameters \u001b[0m \u001b[1m    2.5% \u001b[0m \u001b[1m   25.0% \u001b[0m \u001b[1m   50.0% \u001b[0m \u001b[1m   75.0% \u001b[0m \u001b[1m   97.5% \u001b[0m\n",
       " \u001b[90m     Symbol \u001b[0m \u001b[90m Float64 \u001b[0m \u001b[90m Float64 \u001b[0m \u001b[90m Float64 \u001b[0m \u001b[90m Float64 \u001b[0m \u001b[90m Float64 \u001b[0m\n",
       "\n",
       "          Ωm    0.1669    0.1926    0.2189    0.2441    0.2994\n",
       "          σ8    0.7936    0.8438    0.8700    0.8974    0.9457\n"
      ]
     },
     "execution_count": 12,
     "metadata": {},
     "output_type": "execute_result"
    }
   ],
   "source": [
    "spl = MCHMC(10_000, 0.5; adaptive=true, init_eps=0.07, sigma=ones(2))\n",
    "samples = sample(stat_model, spl, 10_000; dialog=true, progress=true)"
   ]
  },
  {
   "cell_type": "code",
   "execution_count": 13,
   "id": "eea6e813",
   "metadata": {},
   "outputs": [
    {
     "name": "stderr",
     "output_type": "stream",
     "text": [
      "\u001b[36m\u001b[1m[ \u001b[22m\u001b[39m\u001b[36m\u001b[1mInfo: \u001b[22m\u001b[39mStarting from previous run\n",
      "\u001b[32mChain 1: 100%|██████████████████████████████████████████| Time: 0:00:00\u001b[39m\n"
     ]
    },
    {
     "data": {
      "text/plain": [
       "Chains MCMC chain (1000×5×1 Array{Float64, 3}):\n",
       "\n",
       "Iterations        = 1:1:1000\n",
       "Number of chains  = 1\n",
       "Samples per chain = 1000\n",
       "Wall duration     = 0.36 seconds\n",
       "Compute duration  = 0.36 seconds\n",
       "parameters        = Ωm, σ8\n",
       "internals         = eps, E, logp\n",
       "\n",
       "Summary Statistics\n",
       " \u001b[1m parameters \u001b[0m \u001b[1m    mean \u001b[0m \u001b[1m     std \u001b[0m \u001b[1m naive_se \u001b[0m \u001b[1m    mcse \u001b[0m \u001b[1m     ess \u001b[0m \u001b[1m    rhat \u001b[0m \u001b[1m es\u001b[0m ⋯\n",
       " \u001b[90m     Symbol \u001b[0m \u001b[90m Float64 \u001b[0m \u001b[90m Float64 \u001b[0m \u001b[90m  Float64 \u001b[0m \u001b[90m Float64 \u001b[0m \u001b[90m Float64 \u001b[0m \u001b[90m Float64 \u001b[0m \u001b[90m   \u001b[0m ⋯\n",
       "\n",
       "          Ωm    0.2189    0.0399     0.0013    0.0070    5.2782    1.0551      ⋯\n",
       "          σ8    0.8763    0.0416     0.0013    0.0057   10.4542    1.0217      ⋯\n",
       "\u001b[36m                                                                1 column omitted\u001b[0m\n",
       "\n",
       "Quantiles\n",
       " \u001b[1m parameters \u001b[0m \u001b[1m    2.5% \u001b[0m \u001b[1m   25.0% \u001b[0m \u001b[1m   50.0% \u001b[0m \u001b[1m   75.0% \u001b[0m \u001b[1m   97.5% \u001b[0m\n",
       " \u001b[90m     Symbol \u001b[0m \u001b[90m Float64 \u001b[0m \u001b[90m Float64 \u001b[0m \u001b[90m Float64 \u001b[0m \u001b[90m Float64 \u001b[0m \u001b[90m Float64 \u001b[0m\n",
       "\n",
       "          Ωm    0.1630    0.1851    0.2111    0.2433    0.3080\n",
       "          σ8    0.7995    0.8468    0.8756    0.9027    0.9604\n"
      ]
     },
     "execution_count": 13,
     "metadata": {},
     "output_type": "execute_result"
    }
   ],
   "source": [
    "new_samples = sample(stat_model, spl, 1_000; \n",
    "                     monitor_energy=true, \n",
    "                     progress=true, resume_from=samples)"
   ]
  },
  {
   "cell_type": "markdown",
   "id": "f7fdb382",
   "metadata": {},
   "source": [
    "## Ensemble AbstractMCMC"
   ]
  },
  {
   "cell_type": "code",
   "execution_count": 14,
   "id": "16856966",
   "metadata": {
    "scrolled": false
   },
   "outputs": [
    {
     "ename": "LoadError",
     "evalue": "MethodError: no method matching iterate(::MicroCanonicalHMC.EnsembleState{Float64})\n\n\u001b[0mClosest candidates are:\n\u001b[0m  iterate(\u001b[91m::Union{LinRange, StepRangeLen}\u001b[39m)\n\u001b[0m\u001b[90m   @\u001b[39m \u001b[90mBase\u001b[39m \u001b[90m\u001b[4mrange.jl:880\u001b[24m\u001b[39m\n\u001b[0m  iterate(\u001b[91m::Union{LinRange, StepRangeLen}\u001b[39m, \u001b[91m::Integer\u001b[39m)\n\u001b[0m\u001b[90m   @\u001b[39m \u001b[90mBase\u001b[39m \u001b[90m\u001b[4mrange.jl:880\u001b[24m\u001b[39m\n\u001b[0m  iterate(\u001b[91m::T\u001b[39m) where T<:Union{Base.KeySet{<:Any, <:Dict}, Base.ValueIterator{<:Dict}}\n\u001b[0m\u001b[90m   @\u001b[39m \u001b[90mBase\u001b[39m \u001b[90m\u001b[4mdict.jl:698\u001b[24m\u001b[39m\n\u001b[0m  ...\n",
     "output_type": "error",
     "traceback": [
      "MethodError: no method matching iterate(::MicroCanonicalHMC.EnsembleState{Float64})\n\n\u001b[0mClosest candidates are:\n\u001b[0m  iterate(\u001b[91m::Union{LinRange, StepRangeLen}\u001b[39m)\n\u001b[0m\u001b[90m   @\u001b[39m \u001b[90mBase\u001b[39m \u001b[90m\u001b[4mrange.jl:880\u001b[24m\u001b[39m\n\u001b[0m  iterate(\u001b[91m::Union{LinRange, StepRangeLen}\u001b[39m, \u001b[91m::Integer\u001b[39m)\n\u001b[0m\u001b[90m   @\u001b[39m \u001b[90mBase\u001b[39m \u001b[90m\u001b[4mrange.jl:880\u001b[24m\u001b[39m\n\u001b[0m  iterate(\u001b[91m::T\u001b[39m) where T<:Union{Base.KeySet{<:Any, <:Dict}, Base.ValueIterator{<:Dict}}\n\u001b[0m\u001b[90m   @\u001b[39m \u001b[90mBase\u001b[39m \u001b[90m\u001b[4mdict.jl:698\u001b[24m\u001b[39m\n\u001b[0m  ...\n",
      "",
      "Stacktrace:",
      " [1] indexed_iterate(I::MicroCanonicalHMC.EnsembleState{Float64}, i::Int64)",
      "   @ Base ./tuple.jl:91",
      " [2] sample(model::DynamicPPL.Model{typeof(model), (:data, :cov), (:cov,), (), Tuple{Vector{Float64}, Matrix{Float64}}, Tuple{Matrix{Float64}}, DynamicPPL.DefaultContext}, sampler::MicroCanonicalHMC.EnsembleSampler, N::Int64; resume_from::Nothing, kwargs::Base.Pairs{Symbol, Integer, Tuple{Symbol, Symbol}, NamedTuple{(:burn_in, :dialog), Tuple{Int64, Bool}}})",
      "   @ MicroCanonicalHMC ~/PhD/MicroCanonicalHMC.jl/src/ensemble/abstractmcmc.jl:14",
      " [3] top-level scope",
      "   @ In[14]:2"
     ]
    }
   ],
   "source": [
    "spl = MCHMC(0.0, 0.5, 10; init_eps=0.07, varE_wanted=0.1)\n",
    "samples = sample(stat_model, spl, 1000; burn_in=100, dialog=true)"
   ]
  },
  {
   "cell_type": "code",
   "execution_count": 15,
   "id": "603dfac8",
   "metadata": {},
   "outputs": [
    {
     "name": "stderr",
     "output_type": "stream",
     "text": [
      "\u001b[36m\u001b[1m[ \u001b[22m\u001b[39m\u001b[36m\u001b[1mInfo: \u001b[22m\u001b[39mStarting from previous run\n"
     ]
    },
    {
     "data": {
      "text/plain": [
       "Chains MCMC chain (1000×5×1 Array{Float64, 3}):\n",
       "\n",
       "Iterations        = 101:1:1100\n",
       "Number of chains  = 1\n",
       "Samples per chain = 1000\n",
       "Wall duration     = 0.3 seconds\n",
       "Compute duration  = 0.3 seconds\n",
       "parameters        = Ωm, σ8\n",
       "internals         = eps, E, logp\n",
       "\n",
       "Summary Statistics\n",
       " \u001b[1m parameters \u001b[0m \u001b[1m    mean \u001b[0m \u001b[1m     std \u001b[0m \u001b[1m naive_se \u001b[0m \u001b[1m    mcse \u001b[0m \u001b[1m     ess \u001b[0m \u001b[1m    rhat \u001b[0m \u001b[1m es\u001b[0m ⋯\n",
       " \u001b[90m     Symbol \u001b[0m \u001b[90m Float64 \u001b[0m \u001b[90m Float64 \u001b[0m \u001b[90m  Float64 \u001b[0m \u001b[90m Float64 \u001b[0m \u001b[90m Float64 \u001b[0m \u001b[90m Float64 \u001b[0m \u001b[90m   \u001b[0m ⋯\n",
       "\n",
       "          Ωm    0.2186    0.0297     0.0009    0.0052    5.2286    1.1507      ⋯\n",
       "          σ8    0.8742    0.0346     0.0011    0.0040   16.0303    1.0534      ⋯\n",
       "\u001b[36m                                                                1 column omitted\u001b[0m\n",
       "\n",
       "Quantiles\n",
       " \u001b[1m parameters \u001b[0m \u001b[1m    2.5% \u001b[0m \u001b[1m   25.0% \u001b[0m \u001b[1m   50.0% \u001b[0m \u001b[1m   75.0% \u001b[0m \u001b[1m   97.5% \u001b[0m\n",
       " \u001b[90m     Symbol \u001b[0m \u001b[90m Float64 \u001b[0m \u001b[90m Float64 \u001b[0m \u001b[90m Float64 \u001b[0m \u001b[90m Float64 \u001b[0m \u001b[90m Float64 \u001b[0m\n",
       "\n",
       "          Ωm    0.1838    0.1945    0.2122    0.2312    0.2842\n",
       "          σ8    0.8037    0.8503    0.8762    0.8984    0.9396\n"
      ]
     },
     "execution_count": 15,
     "metadata": {},
     "output_type": "execute_result"
    }
   ],
   "source": [
    "new_samples = sample(stat_model, spl, 1000; burn_in=100, \n",
    "                     resume_from=samples)"
   ]
  },
  {
   "cell_type": "markdown",
   "id": "767048c5",
   "metadata": {},
   "source": [
    "## Parallelization"
   ]
  },
  {
   "cell_type": "code",
   "execution_count": 25,
   "id": "42cf1f7f",
   "metadata": {
    "scrolled": false
   },
   "outputs": [
    {
     "name": "stderr",
     "output_type": "stream",
     "text": [
      "\u001b[36m\u001b[1m[ \u001b[22m\u001b[39m\u001b[36m\u001b[1mInfo: \u001b[22m\u001b[39mnumber of chains: 4 smaller than number of threads: 10. Increase the number of chains to make full use of your threads.\n",
      "\u001b[36m\u001b[1m[ \u001b[22m\u001b[39m\u001b[36m\u001b[1mInfo: \u001b[22m\u001b[39mTuning eps ⏳\n",
      "\u001b[36m\u001b[1m[ \u001b[22m\u001b[39m\u001b[36m\u001b[1mInfo: \u001b[22m\u001b[39mTuning eps ⏳\n",
      "\u001b[36m\u001b[1m[ \u001b[22m\u001b[39m\u001b[36m\u001b[1mInfo: \u001b[22m\u001b[39mTuning L ⏳\n",
      "\u001b[36m\u001b[1m[ \u001b[22m\u001b[39m\u001b[36m\u001b[1mInfo: \u001b[22m\u001b[39mTuning eps ⏳\n",
      "\u001b[36m\u001b[1m[ \u001b[22m\u001b[39m\u001b[36m\u001b[1mInfo: \u001b[22m\u001b[39mTuning L ⏳\n",
      "\u001b[36m\u001b[1m[ \u001b[22m\u001b[39m\u001b[36m\u001b[1mInfo: \u001b[22m\u001b[39mTuning eps ⏳\n",
      "\u001b[36m\u001b[1m[ \u001b[22m\u001b[39m\u001b[36m\u001b[1mInfo: \u001b[22m\u001b[39mTuning L ⏳\n",
      "\u001b[36m\u001b[1m[ \u001b[22m\u001b[39m\u001b[36m\u001b[1mInfo: \u001b[22m\u001b[39mTuning L ⏳\n",
      "\u001b[32mMCHMC (tuning):  26%|█████████                          |  ETA: 0:00:01\u001b[39m"
     ]
    },
    {
     "name": "stdout",
     "output_type": "stream",
     "text": [
      "Burn in step: 2000\n",
      "eps --->0.04420745850398823\n",
      "L   --->0.013255360089911763\n",
      " \n",
      "Burn in step: 2000\n",
      "eps --->0.02295122944826312\n",
      "L   --->0.006815394775887814\n",
      " \n",
      "Burn in step: 2000\n",
      "eps --->0.04362189066950644\n",
      "L   --->0.013034038124029649\n",
      " \n",
      "Burn in step: 2000\n",
      "eps --->0.018865926552672097\n",
      "L   --->0.005652351484686067\n",
      " \n"
     ]
    },
    {
     "name": "stderr",
     "output_type": "stream",
     "text": [
      "\u001b[32mMCHMC (tuning):  38%|█████████████▍                     |  ETA: 0:00:01\u001b[39m"
     ]
    },
    {
     "name": "stdout",
     "output_type": "stream",
     "text": [
      "Burn in step: 4000\n",
      "eps --->0.03082043801942826\n",
      "L   --->0.01325878450632089\n",
      " \n",
      "Burn in step: 4000\n",
      "eps --->0.023606254181844283\n",
      "L   --->0.00825840861919016\n",
      " \n"
     ]
    },
    {
     "name": "stderr",
     "output_type": "stream",
     "text": [
      "\u001b[32mMCHMC (tuning):  53%|██████████████████▌                |  ETA: 0:00:00\u001b[39m\u001b[32mMCHMC (tuning):  58%|████████████████████▏              |  ETA: 0:00:00\u001b[39m"
     ]
    },
    {
     "name": "stdout",
     "output_type": "stream",
     "text": [
      "Burn in step: 4000\n",
      "eps --->0.02097039559274118\n",
      "L   --->0.007576434351987491\n",
      " \n",
      "Burn in step: 4000\n",
      "eps --->0.025140296649325874\n",
      "L   --->0.00846428736865028\n",
      " \n"
     ]
    },
    {
     "name": "stderr",
     "output_type": "stream",
     "text": [
      "\u001b[32mMCHMC (tuning):  72%|█████████████████████████▎         |  ETA: 0:00:00\u001b[39m"
     ]
    },
    {
     "name": "stdout",
     "output_type": "stream",
     "text": [
      "Burn in step: 6000\n",
      "eps --->0.027193363684367346\n",
      "L   --->0.01165371879124601\n",
      " \n",
      "Burn in step: 6000\n",
      "eps --->0.03220710488531101\n",
      "L   --->0.011748404011713398\n",
      " \n",
      "Burn in step: 6000\n",
      "eps --->0.028705632336136603\n",
      "L   --->0.01141604853330838\n",
      " \n",
      "Burn in step: 6000\n",
      "eps --->0.0284368845490774\n",
      "L   --->0.010965763931839442\n",
      " \n"
     ]
    },
    {
     "name": "stderr",
     "output_type": "stream",
     "text": [
      "\u001b[32mMCHMC (tuning):  86%|██████████████████████████████▎    |  ETA: 0:00:00\u001b[39m"
     ]
    },
    {
     "name": "stdout",
     "output_type": "stream",
     "text": [
      "Burn in step: 8000\n",
      "eps --->0.02662441209096795\n",
      "L   --->0.009821613564462997\n",
      " \n",
      "Burn in step: 8000\n",
      "Burn in step: 8000\n",
      "eps --->0.026451083854142323\n",
      "eps --->0.028256169544901993\n",
      "L   --->0.009735518125426704\n",
      " \n",
      "L   --->0.010036463511579923\n",
      " \n"
     ]
    },
    {
     "name": "stderr",
     "output_type": "stream",
     "text": [
      "\u001b[A2mMCHMC (tuning): 100%|███████████████████████████████████| Time: 0:00:00\u001b[39m"
     ]
    },
    {
     "name": "stdout",
     "output_type": "stream",
     "text": [
      "Burn in step: 8000\n",
      "eps --->0.03157264972388545\n",
      "L   --->0.01101343998980627\n",
      " \n",
      "Burn in step: 10000\n",
      "eps --->0.030139355629458145\n",
      "L   --->0.006293847510892125\n",
      " \n"
     ]
    },
    {
     "name": "stderr",
     "output_type": "stream",
     "text": [
      "\u001b[36m\u001b[1m[ \u001b[22m\u001b[39m\u001b[36m\u001b[1mInfo: \u001b[22m\u001b[39meps: 0.030139355629458145\n",
      "\u001b[36m\u001b[1m[ \u001b[22m\u001b[39m\u001b[36m\u001b[1mInfo: \u001b[22m\u001b[39mL: 0.006293847510892125\n",
      "\u001b[36m\u001b[1m[ \u001b[22m\u001b[39m\u001b[36m\u001b[1mInfo: \u001b[22m\u001b[39mnu: 15.195837084921866\n",
      "\u001b[36m\u001b[1m[ \u001b[22m\u001b[39m\u001b[36m\u001b[1mInfo: \u001b[22m\u001b[39msigma: [1.0, 1.0]\n",
      "\u001b[36m\u001b[1m[ \u001b[22m\u001b[39m\u001b[36m\u001b[1mInfo: \u001b[22m\u001b[39madaptive: true\n",
      "\u001b[A2mMCHMC (tuning): 100%|███████████████████████████████████| Time: 0:00:00\u001b[39m\u001b[36m\u001b[1m[ \u001b[22m\u001b[39m\u001b[36m\u001b[1mInfo: \u001b[22m\u001b[39meps: 0.02539460592538991\n",
      "\u001b[36m\u001b[1m[ \u001b[22m\u001b[39m\u001b[36m\u001b[1mInfo: \u001b[22m\u001b[39mL: 0.004705678025137751\n",
      "\u001b[36m\u001b[1m[ \u001b[22m\u001b[39m\u001b[36m\u001b[1mInfo: \u001b[22m\u001b[39mnu: 9.575007469739369\n",
      "\u001b[36m\u001b[1m[ \u001b[22m\u001b[39m\u001b[36m\u001b[1mInfo: \u001b[22m\u001b[39msigma: [1.0, 1.0]\n",
      "\u001b[36m\u001b[1m[ \u001b[22m\u001b[39m\u001b[36m\u001b[1mInfo: \u001b[22m\u001b[39madaptive: true\n",
      "\u001b[A2mMCHMC (tuning): 100%|███████████████████████████████████| Time: 0:00:00\u001b[39m\u001b[36m\u001b[1m[ \u001b[22m\u001b[39m\u001b[36m\u001b[1mInfo: \u001b[22m\u001b[39meps: 0.02049511404921799\n",
      "\u001b[32mMCHMC (tuning): 100%|███████████████████████████████████| Time: 0:00:00\u001b[39m\u001b[36m\u001b[1m[ \u001b[22m\u001b[39m\u001b[36m\u001b[1mInfo: \u001b[22m\u001b[39mL: 0.003077467465808778\n",
      "\u001b[A"
     ]
    },
    {
     "name": "stdout",
     "output_type": "stream",
     "text": [
      "Burn in step: 10000\n",
      "eps --->0.02539460592538991\n",
      "L   --->0.004705678025137751\n",
      " \n",
      "Burn in step: 10000\n",
      "eps --->0.02049511404921799\n",
      "L   --->0.003077467465808778\n",
      " \n",
      "Burn in step: 10000\n",
      "eps --->0.028222870910106498\n",
      "L   --->0.004634236078912416\n",
      " \n"
     ]
    },
    {
     "name": "stderr",
     "output_type": "stream",
     "text": [
      "\u001b[36m\u001b[1m[ \u001b[22m\u001b[39m\u001b[36m\u001b[1mInfo: \u001b[22m\u001b[39mnu: 5.403252885511912\n",
      "\u001b[36m\u001b[1m[ \u001b[22m\u001b[39m\u001b[36m\u001b[1mInfo: \u001b[22m\u001b[39msigma: [1.0, 1.0]\n",
      "\u001b[36m\u001b[1m[ \u001b[22m\u001b[39m\u001b[36m\u001b[1mInfo: \u001b[22m\u001b[39madaptive: true\n",
      "\u001b[36m\u001b[1m[ \u001b[22m\u001b[39m\u001b[36m\u001b[1mInfo: \u001b[22m\u001b[39meps: 0.028222870910106498\n",
      "\u001b[36m\u001b[1m[ \u001b[22m\u001b[39m\u001b[36m\u001b[1mInfo: \u001b[22m\u001b[39mL: 0.004634236078912416\n",
      "\u001b[36m\u001b[1m[ \u001b[22m\u001b[39m\u001b[36m\u001b[1mInfo: \u001b[22m\u001b[39mnu: 9.143373957784489\n",
      "\u001b[36m\u001b[1m[ \u001b[22m\u001b[39m\u001b[36m\u001b[1mInfo: \u001b[22m\u001b[39msigma: [1.0, 1.0]\n",
      "\u001b[36m\u001b[1m[ \u001b[22m\u001b[39m\u001b[36m\u001b[1mInfo: \u001b[22m\u001b[39madaptive: true\n",
      "\u001b[32mchain 4:   3%|█▎                                        |  ETA: 0:00:03\u001b[39m\n",
      "\n",
      "\u001b[34mchain 3:   4%|█▌                                        |  ETA: 0:00:03\u001b[39m\n",
      "\n",
      "\u001b[36mchain 2:   3%|█▎                                        |  ETA: 0:00:05\u001b[39m\n",
      "\n",
      "\n",
      "\n",
      "\n",
      "\n",
      "\n",
      "\n",
      "\n",
      "\u001b[34mchain 3:   6%|██▊                                       |  ETA: 0:00:03\u001b[39m\n",
      "\n",
      "\u001b[32mchain 4:   6%|██▌                                       |  ETA: 0:00:04\u001b[39m\n",
      "\n",
      "\u001b[36mchain 2:   6%|██▌                                       |  ETA: 0:00:04\u001b[39m\n",
      "\n",
      "\u001b[35mchain 1:   8%|███▋                                      |  ETA: 0:00:03\u001b[39m\n",
      "\u001b[34mchain 3:  11%|████▋                                     |  ETA: 0:00:03\u001b[39m\n",
      "\u001b[32mchain 4:  10%|████▍                                     |  ETA: 0:00:03\u001b[39m\n",
      "\u001b[36mchain 2:  10%|████▍                                     |  ETA: 0:00:03\u001b[39m\n",
      "\u001b[35mchain 1:  12%|█████▎                                    |  ETA: 0:00:03\u001b[39m\n",
      "\n",
      "\u001b[34mchain 3:  16%|██████▌                                   |  ETA: 0:00:03\u001b[39m\n",
      "\n",
      "\u001b[32mchain 4:  16%|██████▌                                   |  ETA: 0:00:03\u001b[39m\n",
      "\n",
      "\u001b[35mchain 1:  17%|███████▏                                  |  ETA: 0:00:02\u001b[39m\n",
      "\u001b[34mchain 3:  20%|████████▎                                 |  ETA: 0:00:02\u001b[39m\n",
      "\u001b[32mchain 4:  20%|████████▎                                 |  ETA: 0:00:02\u001b[39m\n",
      "\u001b[35mchain 1:  22%|█████████                                 |  ETA: 0:00:02\u001b[39m\n",
      "\u001b[36mchain 2:  20%|████████▎                                 |  ETA: 0:00:03\u001b[39m\n",
      "\u001b[34mchain 3:  24%|██████████▏                               |  ETA: 0:00:02\u001b[39m\n",
      "\u001b[32mchain 4:  24%|██████████▎                               |  ETA: 0:00:02\u001b[39m\n",
      "\u001b[36mchain 2:  24%|██████████▏                               |  ETA: 0:00:02\u001b[39m\n",
      "\u001b[35mchain 1:  26%|███████████▏                              |  ETA: 0:00:02\u001b[39m\n",
      "\u001b[34mchain 3:  29%|████████████▏                             |  ETA: 0:00:02\u001b[39m\n",
      "\u001b[32mchain 4:  30%|████████████▍                             |  ETA: 0:00:02\u001b[39m\n",
      "\u001b[36mchain 2:  28%|███████████▊                              |  ETA: 0:00:02\u001b[39m\n",
      "\u001b[35mchain 1:  31%|█████████████                             |  ETA: 0:00:02\u001b[39m\n",
      "\u001b[34mchain 3:  34%|██████████████▏                           |  ETA: 0:00:02\u001b[39m\n",
      "\u001b[32mchain 4:  34%|██████████████▎                           |  ETA: 0:00:02\u001b[39m\n",
      "\n",
      "\u001b[36mchain 2:  33%|█████████████▉                            |  ETA: 0:00:02\u001b[39m\u001b[35mchain 1:  36%|██████████████▉                           |  ETA: 0:00:02\u001b[39m\n",
      "\n",
      "\u001b[36mchain 2:  33%|█████████████▉                            |  ETA: 0:00:02\u001b[39m\u001b[35mchain 1:  36%|██████████████▉                           |  ETA: 0:00:02\u001b[39m\n",
      "\u001b[34mchain 3:  38%|████████████████                          |  ETA: 0:00:02\u001b[39m\n",
      "\u001b[32mchain 4:  39%|████████████████▍                         |  ETA: 0:00:02\u001b[39m\n",
      "\u001b[35mchain 1:  40%|████████████████▊                         |  ETA: 0:00:02\u001b[39m\n",
      "\u001b[36mchain 2:  38%|███████████████▊                          |  ETA: 0:00:02\u001b[39m\n",
      "\u001b[34mchain 3:  42%|█████████████████▉                        |  ETA: 0:00:02\u001b[39m\n",
      "\u001b[32mchain 4:  44%|██████████████████▌                       |  ETA: 0:00:01\u001b[39m\n",
      "\u001b[36mchain 2:  42%|█████████████████▋                        |  ETA: 0:00:02\u001b[39m\n",
      "\u001b[35mchain 1:  45%|██████████████████▉                       |  ETA: 0:00:01\u001b[39m\n",
      "\u001b[34mchain 3:  48%|████████████████████                      |  ETA: 0:00:01\u001b[39m\n",
      "\u001b[32mchain 4:  48%|████████████████████▍                     |  ETA: 0:00:01\u001b[39m\n",
      "\n",
      "\u001b[35mchain 1:  50%|████████████████████▊                     |  ETA: 0:00:01\u001b[39m\n",
      "\u001b[36mchain 2:  46%|███████████████████▌                      |  ETA: 0:00:01\u001b[39m\n",
      "\u001b[34mchain 3:  52%|█████████████████████▉                    |  ETA: 0:00:01\u001b[39m\n",
      "\u001b[32mchain 4:  53%|██████████████████████▎                   |  ETA: 0:00:01\u001b[39m\n",
      "\u001b[36mchain 2:  50%|█████████████████████▎                    |  ETA: 0:00:01\u001b[39m\n",
      "\u001b[35mchain 1:  54%|██████████████████████▉                   |  ETA: 0:00:01\u001b[39m\n",
      "\u001b[34mchain 3:  57%|████████████████████████                  |  ETA: 0:00:01\u001b[39m\n",
      "\u001b[32mchain 4:  58%|████████████████████████▏                 |  ETA: 0:00:01\u001b[39m\n",
      "\n",
      "\u001b[36mchain 2:  55%|███████████████████████▏                  |  ETA: 0:00:01\u001b[39m\n",
      "\u001b[35mchain 1:  60%|█████████████████████████                 |  ETA: 0:00:01\u001b[39m\n",
      "\u001b[34mchain 3:  62%|█████████████████████████▉                |  ETA: 0:00:01\u001b[39m\n",
      "\n",
      "\u001b[32mchain 4:  62%|██████████████████████████                |  ETA: 0:00:01\u001b[39m\n",
      "\u001b[36mchain 2:  60%|█████████████████████████                 |  ETA: 0:00:01\u001b[39m\n",
      "\u001b[35mchain 1:  64%|██████████████████████████▉               |  ETA: 0:00:01\u001b[39m\n",
      "\u001b[34mchain 3:  66%|███████████████████████████▊              |  ETA: 0:00:01\u001b[39m\n",
      "\u001b[32mchain 4:  66%|███████████████████████████▉              |  ETA: 0:00:01\u001b[39m\n",
      "\n",
      "\u001b[36mchain 2:  64%|██████████████████████████▉               |  ETA: 0:00:01\u001b[39m\n",
      "\u001b[35mchain 1:  69%|█████████████████████████████             |  ETA: 0:00:01\u001b[39m\n",
      "\u001b[34mchain 3:  71%|█████████████████████████████▉            |  ETA: 0:00:01\u001b[39m\n",
      "\u001b[32mchain 4:  71%|█████████████████████████████▉            |  ETA: 0:00:01\u001b[39m\n",
      "\n",
      "\u001b[36mchain 2:  69%|█████████████████████████████             |  ETA: 0:00:01\u001b[39m\n",
      "\u001b[35mchain 1:  74%|██████████████████████████████▉           |  ETA: 0:00:01\u001b[39m\n",
      "\u001b[34mchain 3:  76%|███████████████████████████████▊          |  ETA: 0:00:01\u001b[39m\n",
      "\u001b[32mchain 4:  76%|███████████████████████████████▉          |  ETA: 0:00:01\u001b[39m\n",
      "\u001b[35mchain 1:  78%|████████████████████████████████▊         |  ETA: 0:00:01\u001b[39m\n",
      "\u001b[36mchain 2:  74%|██████████████████████████████▉           |  ETA: 0:00:01\u001b[39m\n",
      "\u001b[34mchain 3:  80%|█████████████████████████████████▋        |  ETA: 0:00:01\u001b[39m\n",
      "\u001b[32mchain 4:  81%|██████████████████████████████████        |  ETA: 0:00:00\u001b[39m\n",
      "\u001b[36mchain 2:  78%|████████████████████████████████▌         |  ETA: 0:00:01\u001b[39m\n",
      "\u001b[35mchain 1:  82%|██████████████████████████████████▋       |  ETA: 0:00:00\u001b[39m\n",
      "\u001b[34mchain 3:  85%|███████████████████████████████████▊      |  ETA: 0:00:00\u001b[39m\n",
      "\u001b[32mchain 4:  86%|████████████████████████████████████▏     |  ETA: 0:00:00\u001b[39m\n",
      "\u001b[35mchain 1:  88%|████████████████████████████████████▊     |  ETA: 0:00:00\u001b[39m\n",
      "\u001b[36mchain 2:  82%|██████████████████████████████████▋       |  ETA: 0:00:00\u001b[39m\n",
      "\u001b[34mchain 3:  90%|█████████████████████████████████████▋    |  ETA: 0:00:00\u001b[39m\n",
      "\u001b[32mchain 4:  90%|██████████████████████████████████████    |  ETA: 0:00:00\u001b[39m\n",
      "\u001b[36mchain 2:  86%|████████████████████████████████████▍     |  ETA: 0:00:00\u001b[39m\n",
      "\u001b[35mchain 1:  92%|██████████████████████████████████████▉   |  ETA: 0:00:00\u001b[39m\n",
      "\u001b[34mchain 3:  94%|███████████████████████████████████████▌  |  ETA: 0:00:00\u001b[39m\n",
      "\u001b[32mchain 4:  95%|███████████████████████████████████████▉  |  ETA: 0:00:00\u001b[39m\n",
      "\u001b[36mchain 2:  91%|██████████████████████████████████████▎   |  ETA: 0:00:00\u001b[39m\n",
      "\u001b[35mchain 1:  97%|████████████████████████████████████████▊ |  ETA: 0:00:00\u001b[39m\n",
      "\u001b[35mchain 1: 100%|██████████████████████████████████████████| Time: 0:00:02\u001b[39m\n",
      "\u001b[34mchain 3: 100%|██████████████████████████████████████████| Time: 0:00:02\u001b[39m\n",
      "\u001b[32mchain 4: 100%|██████████████████████████████████████████| Time: 0:00:02\u001b[39m\n",
      "\u001b[36mchain 2: 100%|██████████████████████████████████████████| Time: 0:00:02\u001b[39m\n"
     ]
    },
    {
     "data": {
      "text/plain": [
       "4-element Vector{Chains}:\n",
       " MCMC chain (30000×5×1 Array{Float64, 3})\n",
       " MCMC chain (30000×5×1 Array{Float64, 3})\n",
       " MCMC chain (30000×5×1 Array{Float64, 3})\n",
       " MCMC chain (30000×5×1 Array{Float64, 3})"
      ]
     },
     "execution_count": 25,
     "metadata": {},
     "output_type": "execute_result"
    }
   ],
   "source": [
    "samples = sample(\n",
    "    stat_model, MCHMC(10_000, 0.5; adaptive=true, init_eps=0.07, sigma=ones(2)), MCMCThreads(), 30000, 4;\n",
    "    monitor_energy=true, \n",
    "    dialog=true)"
   ]
  },
  {
   "cell_type": "code",
   "execution_count": 26,
   "id": "2e8cd8ab",
   "metadata": {
    "scrolled": false
   },
   "outputs": [
    {
     "ename": "LoadError",
     "evalue": "MethodError: no method matching MCHMC(; varE_wanted::Float64)\n\n\u001b[0mClosest candidates are:\n\u001b[0m  MCHMC(\u001b[91m::Any\u001b[39m; kwargs...)\n\u001b[0m\u001b[90m   @\u001b[39m \u001b[35mMicroCanonicalHMC\u001b[39m \u001b[90m~/PhD/MicroCanonicalHMC.jl/src/ensemble/\u001b[39m\u001b[90m\u001b[4msampler.jl:26\u001b[24m\u001b[39m\n\u001b[0m  MCHMC(\u001b[91m::Any\u001b[39m, \u001b[91m::Any\u001b[39m; kwargs...)\n\u001b[0m\u001b[90m   @\u001b[39m \u001b[35mMicroCanonicalHMC\u001b[39m \u001b[90m~/PhD/MicroCanonicalHMC.jl/src/\u001b[39m\u001b[90m\u001b[4msampler.jl:53\u001b[24m\u001b[39m\n\u001b[0m  MCHMC(\u001b[91m::Any\u001b[39m, \u001b[91m::Any\u001b[39m, \u001b[91m::Any\u001b[39m; kwargs...)\n\u001b[0m\u001b[90m   @\u001b[39m \u001b[35mMicroCanonicalHMC\u001b[39m \u001b[90m~/PhD/MicroCanonicalHMC.jl/src/ensemble/\u001b[39m\u001b[90m\u001b[4msampler.jl:8\u001b[24m\u001b[39m\n",
     "output_type": "error",
     "traceback": [
      "MethodError: no method matching MCHMC(; varE_wanted::Float64)\n\n\u001b[0mClosest candidates are:\n\u001b[0m  MCHMC(\u001b[91m::Any\u001b[39m; kwargs...)\n\u001b[0m\u001b[90m   @\u001b[39m \u001b[35mMicroCanonicalHMC\u001b[39m \u001b[90m~/PhD/MicroCanonicalHMC.jl/src/ensemble/\u001b[39m\u001b[90m\u001b[4msampler.jl:26\u001b[24m\u001b[39m\n\u001b[0m  MCHMC(\u001b[91m::Any\u001b[39m, \u001b[91m::Any\u001b[39m; kwargs...)\n\u001b[0m\u001b[90m   @\u001b[39m \u001b[35mMicroCanonicalHMC\u001b[39m \u001b[90m~/PhD/MicroCanonicalHMC.jl/src/\u001b[39m\u001b[90m\u001b[4msampler.jl:53\u001b[24m\u001b[39m\n\u001b[0m  MCHMC(\u001b[91m::Any\u001b[39m, \u001b[91m::Any\u001b[39m, \u001b[91m::Any\u001b[39m; kwargs...)\n\u001b[0m\u001b[90m   @\u001b[39m \u001b[35mMicroCanonicalHMC\u001b[39m \u001b[90m~/PhD/MicroCanonicalHMC.jl/src/ensemble/\u001b[39m\u001b[90m\u001b[4msampler.jl:8\u001b[24m\u001b[39m\n",
      "",
      "Stacktrace:",
      " [1] top-level scope",
      "   @ In[26]:1"
     ]
    }
   ],
   "source": [
    "new_samples = sample(\n",
    "    stat_model, MCHMC(varE_wanted=2.0), MCMCThreads(), 30000, 4;\n",
    "    monitor_energy=true, \n",
    "    dialog=true, \n",
    "    resume_from=samples)"
   ]
  },
  {
   "cell_type": "markdown",
   "id": "4aadd3b5",
   "metadata": {},
   "source": [
    "## NUTS"
   ]
  },
  {
   "cell_type": "code",
   "execution_count": 18,
   "id": "ad75a7ff",
   "metadata": {},
   "outputs": [
    {
     "data": {
      "text/plain": [
       "Array{Float64, 3}"
      ]
     },
     "execution_count": 18,
     "metadata": {},
     "output_type": "execute_result"
    }
   ],
   "source": [
    "typeof(zeros(2,2,2))"
   ]
  },
  {
   "cell_type": "code",
   "execution_count": 19,
   "id": "dcbe40a3",
   "metadata": {},
   "outputs": [
    {
     "name": "stderr",
     "output_type": "stream",
     "text": [
      "\u001b[36m\u001b[1m┌ \u001b[22m\u001b[39m\u001b[36m\u001b[1mInfo: \u001b[22m\u001b[39mFound initial step size\n",
      "\u001b[36m\u001b[1m└ \u001b[22m\u001b[39m  ϵ = 0.05\n",
      "\u001b[32mSampling: 100%|█████████████████████████████████████████| Time: 0:00:07\u001b[39m\n"
     ]
    },
    {
     "data": {
      "text/plain": [
       "Chains MCMC chain (10000×14×1 Array{Float64, 3}):\n",
       "\n",
       "Iterations        = 11:1:10010\n",
       "Number of chains  = 1\n",
       "Samples per chain = 10000\n",
       "Wall duration     = 11.0 seconds\n",
       "Compute duration  = 11.0 seconds\n",
       "parameters        = Ωm, σ8\n",
       "internals         = lp, n_steps, is_accept, acceptance_rate, log_density, hamiltonian_energy, hamiltonian_energy_error, max_hamiltonian_energy_error, tree_depth, numerical_error, step_size, nom_step_size\n",
       "\n",
       "Summary Statistics\n",
       " \u001b[1m parameters \u001b[0m \u001b[1m    mean \u001b[0m \u001b[1m     std \u001b[0m \u001b[1m naive_se \u001b[0m \u001b[1m    mcse \u001b[0m \u001b[1m       ess \u001b[0m \u001b[1m    rhat \u001b[0m \u001b[1m \u001b[0m ⋯\n",
       " \u001b[90m     Symbol \u001b[0m \u001b[90m Float64 \u001b[0m \u001b[90m Float64 \u001b[0m \u001b[90m  Float64 \u001b[0m \u001b[90m Float64 \u001b[0m \u001b[90m   Float64 \u001b[0m \u001b[90m Float64 \u001b[0m \u001b[90m \u001b[0m ⋯\n",
       "\n",
       "          Ωm    0.2376    0.0693     0.0007    0.0015   1479.6564    1.0001    ⋯\n",
       "          σ8    0.8661    0.0629     0.0006    0.0013   2155.7837    1.0003    ⋯\n",
       "\u001b[36m                                                                1 column omitted\u001b[0m\n",
       "\n",
       "Quantiles\n",
       " \u001b[1m parameters \u001b[0m \u001b[1m    2.5% \u001b[0m \u001b[1m   25.0% \u001b[0m \u001b[1m   50.0% \u001b[0m \u001b[1m   75.0% \u001b[0m \u001b[1m   97.5% \u001b[0m\n",
       " \u001b[90m     Symbol \u001b[0m \u001b[90m Float64 \u001b[0m \u001b[90m Float64 \u001b[0m \u001b[90m Float64 \u001b[0m \u001b[90m Float64 \u001b[0m \u001b[90m Float64 \u001b[0m\n",
       "\n",
       "          Ωm    0.1281    0.1891    0.2289    0.2758    0.3994\n",
       "          σ8    0.7509    0.8225    0.8633    0.9056    0.9995\n"
      ]
     },
     "execution_count": 19,
     "metadata": {},
     "output_type": "execute_result"
    }
   ],
   "source": [
    "samples_hmc = sample(stat_model, NUTS(10, 0.65),\n",
    "                     10000, progress=true; save_state=true)"
   ]
  },
  {
   "cell_type": "code",
   "execution_count": 20,
   "id": "623ba990",
   "metadata": {},
   "outputs": [
    {
     "data": {
      "text/plain": [
       "3-dimensional AxisArray{Float64,3,...} with axes:\n",
       "    :iter, 11:1:10010\n",
       "    :var, [:Ωm, :σ8, :lp, :n_steps, :is_accept, :acceptance_rate, :log_density, :hamiltonian_energy, :hamiltonian_energy_error, :max_hamiltonian_energy_error, :tree_depth, :numerical_error, :step_size, :nom_step_size]\n",
       "    :chain, 1:1\n",
       "And data, a 10000×14×1 Array{Float64, 3}:\n",
       "[:, :, 1] =\n",
       " 0.14131   0.951565  14.9575   7.0  1.0  …  3.0  0.0  0.0509846  0.0509846\n",
       " 0.131044  0.946093  14.2886   7.0  1.0     2.0  0.0  0.0509846  0.0509846\n",
       " 0.131732  0.934174  14.1311   3.0  1.0     2.0  0.0  0.0509846  0.0509846\n",
       " 0.146072  0.940361  15.1291  15.0  1.0     4.0  0.0  0.0509846  0.0509846\n",
       " 0.211862  0.861762  16.2297  27.0  1.0     4.0  0.0  0.0509846  0.0509846\n",
       " 0.247328  0.849626  16.2458  23.0  1.0  …  4.0  0.0  0.0509846  0.0509846\n",
       " 0.257021  0.842653  16.1831  15.0  1.0     3.0  0.0  0.0509846  0.0509846\n",
       " 0.180773  0.901615  16.0187  23.0  1.0     4.0  0.0  0.0509846  0.0509846\n",
       " 0.246707  0.82305   15.9929  19.0  1.0     4.0  0.0  0.0509846  0.0509846\n",
       " 0.268613  0.918401  13.4955   7.0  1.0     2.0  0.0  0.0509846  0.0509846\n",
       " 0.188012  0.907664  16.0886  19.0  1.0  …  4.0  0.0  0.0509846  0.0509846\n",
       " 0.246824  0.839878  16.2153  31.0  1.0     4.0  0.0  0.0509846  0.0509846\n",
       " 0.266971  0.839086  16.0989  11.0  1.0     3.0  0.0  0.0509846  0.0509846\n",
       " ⋮                                       ⋱  ⋮                    \n",
       " 0.267413  0.831316  16.0874  17.0  1.0     4.0  0.0  0.0509846  0.0509846\n",
       " 0.254083  0.922602  13.951   15.0  1.0     3.0  0.0  0.0509846  0.0509846\n",
       " 0.204072  0.881909  16.2616  19.0  1.0  …  4.0  0.0  0.0509846  0.0509846\n",
       " 0.252272  0.850441  16.2082  27.0  1.0     4.0  0.0  0.0509846  0.0509846\n",
       " 0.196097  0.879826  16.1708  23.0  1.0     4.0  0.0  0.0509846  0.0509846\n",
       " 0.283953  0.833924  15.9061  25.0  1.0     4.0  0.0  0.0509846  0.0509846\n",
       " 0.384078  0.745793  13.6276  17.0  1.0     4.0  0.0  0.0509846  0.0509846\n",
       " 0.375248  0.835439  13.3923   5.0  1.0  …  2.0  0.0  0.0509846  0.0509846\n",
       " 0.267579  0.778664  14.8404  31.0  1.0     4.0  0.0  0.0509846  0.0509846\n",
       " 0.292671  0.868809  14.9739  15.0  1.0     3.0  0.0  0.0509846  0.0509846\n",
       " 0.255029  0.88585   15.5485  11.0  1.0     3.0  0.0  0.0509846  0.0509846\n",
       " 0.210823  0.921003  15.6144  31.0  1.0     4.0  0.0  0.0509846  0.0509846"
      ]
     },
     "execution_count": 20,
     "metadata": {},
     "output_type": "execute_result"
    }
   ],
   "source": [
    "samples_hmc.value"
   ]
  },
  {
   "cell_type": "code",
   "execution_count": 21,
   "id": "fa9db828",
   "metadata": {},
   "outputs": [],
   "source": [
    "Wms_hmc = vec(samples_hmc[\"Ωm\"])\n",
    "s8s_hmc = vec(samples_hmc[\"σ8\"]);"
   ]
  },
  {
   "cell_type": "code",
   "execution_count": 22,
   "id": "3d063a52",
   "metadata": {},
   "outputs": [
    {
     "data": {
      "image/png": "[encoded data removed]",
      "text/plain": [
       "Figure(PyObject <Figure size 640x480 with 1 Axes>)"
      ]
     },
     "metadata": {},
     "output_type": "display_data"
    }
   ],
   "source": [
    "plt.hist2d(Wms_hmc, s8s_hmc, bins=100, range=[[0.1, 0.6],[0.6, 1.2]]);\n",
    "plt.xlabel(\"Wm\")\n",
    "plt.ylabel(\"s8\")\n",
    "plt.title(\"NUTS - RSD model\");"
   ]
  },
  {
   "cell_type": "code",
   "execution_count": null,
   "id": "e2f1bc9f",
   "metadata": {},
   "outputs": [],
   "source": []
  }
 ],
 "metadata": {
  "kernelspec": {
   "display_name": "Julia-1.9.0 10 Threads 1.9.0-rc1",
   "language": "julia",
   "name": "julia-1.9.0-10-threads-1.9"
  },
  "language_info": {
   "file_extension": ".jl",
   "mimetype": "application/julia",
   "name": "julia",
   "version": "1.9.0"
  }
 },
 "nbformat": 4,
 "nbformat_minor": 5
}
