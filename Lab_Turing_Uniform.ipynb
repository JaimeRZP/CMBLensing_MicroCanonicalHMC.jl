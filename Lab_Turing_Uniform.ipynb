{
 "cells": [
  {
   "cell_type": "markdown",
   "id": "91129cb1",
   "metadata": {},
   "source": [
    "# Turing Target Practice"
   ]
  },
  {
   "cell_type": "markdown",
   "id": "97121235",
   "metadata": {},
   "source": [
    "## Model"
   ]
  },
  {
   "cell_type": "code",
   "execution_count": 1,
   "id": "86b96c9e",
   "metadata": {},
   "outputs": [],
   "source": [
    "] activate \".\""
   ]
  },
  {
   "cell_type": "code",
   "execution_count": 2,
   "id": "baed58e3",
   "metadata": {},
   "outputs": [
    {
     "name": "stderr",
     "output_type": "stream",
     "text": [
      "\u001b[36m\u001b[1m[ \u001b[22m\u001b[39m\u001b[36m\u001b[1mInfo: \u001b[22m\u001b[39mPrecompiling MicroCanonicalHMC [234d2aa0-2291-45f7-9047-6fa6f316b0a8]\n"
     ]
    }
   ],
   "source": [
    "# The statistical inference frame-work we will use\n",
    "using Turing\n",
    "using Interpolations\n",
    "using ForwardDiff\n",
    "using LinearAlgebra\n",
    "#using StatsPlots\n",
    "using PyPlot\n",
    "\n",
    "using Revise\n",
    "using MicroCanonicalHMC"
   ]
  },
  {
   "cell_type": "code",
   "execution_count": 3,
   "id": "a7d6f81c",
   "metadata": {},
   "outputs": [],
   "source": [
    "fs8_zs = [0.38, 0.51, 0.61, 1.48, 0.44, 0.6, 0.73, 0.6, 0.86, 0.067, 1.4]\n",
    "fs8_data = [0.49749, 0.457523, 0.436148, 0.462, 0.413, 0.39, 0.437, 0.55, 0.4, 0.423, 0.482]\n",
    "fs8_cov = [0.00203355 0.000811829 0.000264615 0.0 0.0 0.0 0.0 0.0 0.0 0.0 0.0;\n",
    "           0.000811829 0.00142289 0.000662824 0.0 0.0 0.0 0.0 0.0 0.0 0.0 0.0; \n",
    "           0.000264615 0.000662824 0.00118576 0.0 0.0 0.0 0.0 0.0 0.0 0.0 0.0;\n",
    "           0.0 0.0 0.0 0.002025 0.0 0.0 0.0 0.0 0.0 0.0 0.0;\n",
    "           0.0 0.0 0.0 0.0 0.0064 0.00257 0.0 0.0 0.0 0.0 0.0;\n",
    "           0.0 0.0 0.0 0.0 0.00257 0.003969 0.00254 0.0 0.0 0.0 0.0;\n",
    "           0.0 0.0 0.0 0.0 0.0 0.00254 0.005184 0.0 0.0 0.0 0.0;\n",
    "           0.0 0.0 0.0 0.0 0.0 0.0 0.0 0.0144 0.0 0.0 0.0;\n",
    "           0.0 0.0 0.0 0.0 0.0 0.0 0.0 0.0 0.0121 0.0 0.0; \n",
    "           0.0 0.0 0.0 0.0 0.0 0.0 0.0 0.0 0.0 0.003025 0.0;\n",
    "           0.0 0.0 0.0 0.0 0.0 0.0 0.0 0.0 0.0 0.0 0.013456000000000001];"
   ]
  },
  {
   "cell_type": "code",
   "execution_count": 4,
   "id": "1359a630",
   "metadata": {
    "code_folding": []
   },
   "outputs": [
    {
     "data": {
      "text/plain": [
       "make_fs8 (generic function with 1 method)"
      ]
     },
     "execution_count": 4,
     "metadata": {},
     "output_type": "execute_result"
    }
   ],
   "source": [
    "function make_fs8(Ωm, σ8; Ωr=8.24*10^-5)\n",
    "    # ODE solution for growth factor\n",
    "    x_Dz = LinRange(0, log(1+1100), 300)\n",
    "    dx_Dz = x_Dz[2]-x_Dz[1]\n",
    "    z_Dz = @.(exp(x_Dz) - 1)\n",
    "    a_Dz = @.(1/(1+z_Dz))\n",
    "    aa = reverse(a_Dz)\n",
    "    e =  @.(sqrt.(abs(Ωm)*(1+z_Dz)^3+Ωr*(1+z_Dz)^4+(1-Ωm-Ωr)))\n",
    "    ee = reverse(e)\n",
    "\n",
    "    dd = zeros(typeof(Ωm), 300)\n",
    "    yy = zeros(typeof(Ωm), 300)\n",
    "    dd[1] = aa[1]\n",
    "    yy[1] = aa[1]^3*ee[end]\n",
    "\n",
    "    for i in 1:(300-1)\n",
    "        A0 = -1.5 * Ωm / (aa[i]*ee[i])\n",
    "        B0 = -1. / (aa[i]^2*ee[i])\n",
    "        A1 = -1.5 * Ωm / (aa[i+1]*ee[i+1])\n",
    "        B1 = -1. / (aa[i+1]^2*ee[i+1])\n",
    "        yy[i+1] = (1+0.5*dx_Dz^2*A0*B0)*yy[i] + 0.5*(A0+A1)*dx_Dz*dd[i]\n",
    "        dd[i+1] = 0.5*(B0+B1)*dx_Dz*yy[i] + (1+0.5*dx_Dz^2*A0*B0)*dd[i]\n",
    "    end\n",
    "\n",
    "    y = reverse(yy)\n",
    "    d = reverse(dd)\n",
    "\n",
    "    Dzi = LinearInterpolation(z_Dz, d./d[1], extrapolation_bc=Line())\n",
    "    fs8zi = LinearInterpolation(z_Dz, -σ8 .* y./ (a_Dz.^2 .*e.*d[1]),\n",
    "                                 extrapolation_bc=Line())\n",
    "    return fs8zi\n",
    "end"
   ]
  },
  {
   "cell_type": "code",
   "execution_count": 5,
   "id": "8005e277",
   "metadata": {},
   "outputs": [],
   "source": [
    "@model function model(data; cov = fs8_cov) \n",
    "    # Define priors\n",
    "    #KiDS priors\n",
    "    Ωm ~ Uniform(0.1, 0.5)\n",
    "    σ8 ~ Uniform(0.5, 10.1)\n",
    "    fs8_itp = make_fs8(Ωm, σ8)\n",
    "    theory = fs8_itp(fs8_zs)\n",
    "    data ~ MvNormal(theory, cov)\n",
    "end;"
   ]
  },
  {
   "cell_type": "code",
   "execution_count": 6,
   "id": "1eebe796",
   "metadata": {},
   "outputs": [
    {
     "data": {
      "text/plain": [
       "DynamicPPL.Model{typeof(model), (:data, :cov), (:cov,), (), Tuple{Vector{Float64}, Matrix{Float64}}, Tuple{Matrix{Float64}}, DynamicPPL.DefaultContext}(model, (data = [0.49749, 0.457523, 0.436148, 0.462, 0.413, 0.39, 0.437, 0.55, 0.4, 0.423, 0.482], cov = [0.00203355 0.000811829 … 0.0 0.0; 0.000811829 0.00142289 … 0.0 0.0; … ; 0.0 0.0 … 0.003025 0.0; 0.0 0.0 … 0.0 0.013456000000000001]), (cov = [0.00203355 0.000811829 … 0.0 0.0; 0.000811829 0.00142289 … 0.0 0.0; … ; 0.0 0.0 … 0.003025 0.0; 0.0 0.0 … 0.0 0.013456000000000001],), DynamicPPL.DefaultContext())"
      ]
     },
     "execution_count": 6,
     "metadata": {},
     "output_type": "execute_result"
    }
   ],
   "source": [
    "stat_model = model(fs8_data)"
   ]
  },
  {
   "cell_type": "markdown",
   "id": "10dfa4cc",
   "metadata": {},
   "source": [
    "## Sampling"
   ]
  },
  {
   "cell_type": "code",
   "execution_count": 7,
   "id": "c8ed14a3",
   "metadata": {},
   "outputs": [],
   "source": [
    "target = TuringTarget(stat_model);"
   ]
  },
  {
   "cell_type": "code",
   "execution_count": 8,
   "id": "a79c2b35",
   "metadata": {},
   "outputs": [
    {
     "data": {
      "text/plain": [
       "MicroCanonicalHMC.Sampler(Settings(Random.MersenneTwister(0), 2.0, 0, 1000, 10, \"LF\"), Hyperparameters{Float64}(0.0, 0.0, 0.0, 0.1931833275037836), MicroCanonicalHMC.Leapfrog)"
      ]
     },
     "execution_count": 8,
     "metadata": {},
     "output_type": "execute_result"
    }
   ],
   "source": [
    "spl = MCHMC(0.0, 0.0, varE_wanted=2.0) #sqrt(target.d)*0.01"
   ]
  },
  {
   "cell_type": "code",
   "execution_count": 9,
   "id": "82938e27",
   "metadata": {
    "scrolled": false
   },
   "outputs": [
    {
     "name": "stderr",
     "output_type": "stream",
     "text": [
      "\u001b[36m\u001b[1m[ \u001b[22m\u001b[39m\u001b[36m\u001b[1mInfo: \u001b[22m\u001b[39mTuning eps ⏳\n"
     ]
    },
    {
     "name": "stdout",
     "output_type": "stream",
     "text": [
      "eps: 0.5 --> VarE: NaN\n",
      "eps: 0.25 --> VarE: NaN\n",
      "eps: 0.125 --> VarE: 68611.86158040773\n",
      "eps: 0.0625 --> VarE: 34194.21402321975\n",
      "eps: 0.03125 --> VarE: 16593.51665854257\n",
      "eps: 0.015625 --> VarE: 7703.244580494638\n",
      "eps: 0.0078125 --> VarE: 3236.9198792133648\n",
      "eps: 0.00390625 --> VarE: 999.2279353330802\n",
      "eps: 0.001953125 --> VarE: 102.69961539122927\n",
      "eps: 0.0009765625 --> VarE: 2.6891860832084484\n"
     ]
    },
    {
     "name": "stderr",
     "output_type": "stream",
     "text": [
      "\u001b[36m\u001b[1m[ \u001b[22m\u001b[39m\u001b[36m\u001b[1mInfo: \u001b[22m\u001b[39mTuning L ⏳\n"
     ]
    },
    {
     "name": "stdout",
     "output_type": "stream",
     "text": [
      "samples: 100--> ESS: 0.012728200479996331\n",
      "samples: 243--> ESS: 0.005020878297933589\n",
      "samples: 447--> ESS: 0.002681867321618315\n",
      "samples: 739--> ESS: 0.002277313601289956\n",
      "samples: 1157--> ESS: 0.0021890814088794544\n",
      "samples: 1755--> ESS: 0.0021260002159309947\n",
      "samples: 2610--> ESS: 0.002085432580130356\n",
      "samples: 3833--> ESS: 0.002057284642741013\n",
      "samples: 5581--> ESS: 0.0020396196821974044\n"
     ]
    },
    {
     "name": "stderr",
     "output_type": "stream",
     "text": [
      "\u001b[36m\u001b[1m[ \u001b[22m\u001b[39m\u001b[36m\u001b[1mInfo: \u001b[22m\u001b[39mFound L: 1.4142135623730951 ✅\n"
     ]
    },
    {
     "data": {
      "text/plain": [
       "20001-element Vector{Any}:\n",
       " [0.3234910711830705, 7.262361557602668, 0.0, -16605.662065187425]\n",
       " [0.3234910711830705, 7.262361557602668, 0.37429956531559583, -16601.417375992103]\n",
       " [0.3235099232167945, 7.261463370009162, 9.731215316580347, -16596.298242963367]\n",
       " [0.32350123221135063, 7.260503117758479, 15.349497303810494, -16591.178788567275]\n",
       " [0.32349229297436455, 7.259543614188519, 15.357133384415647, -16586.059157552936]\n",
       " [0.32348311182266276, 7.258584862317573, 15.357811019803194, -16580.939422150386]\n",
       " [0.32347416029417875, 7.257625029476922, 15.357269108288165, -16575.81954652792]\n",
       " [0.32346520147729146, 7.2566650364326675, 15.355913020943262, -16570.699594195285]\n",
       " [0.3234563609282669, 7.255704403898322, 15.35617994335189, -16565.579451611313]\n",
       " [0.32344706619787833, 7.254745350711365, 15.358185452791076, -16560.45918490686]\n",
       " [0.3234377542524465, 7.253786178793675, 15.359378276007192, -16555.338752399126]\n",
       " [0.32342854856979414, 7.252826396664132, 15.360952566694323, -16550.218185772657]\n",
       " [0.3234193587246815, 7.251866364385809, 15.361409643559455, -16545.097488065836]\n",
       " ⋮\n",
       " [0.212331419575036, 0.8693628866593373, -0.003485938013708889, 12.62023245849331]\n",
       " [0.21230368375518313, 0.8692396080733725, -0.003644850240938524, 12.618984180404334]\n",
       " [0.21227757439594272, 0.8691097044779947, -0.003807733928351098, 12.617672992358932]\n",
       " [0.2122541226476035, 0.8689704107454832, -0.0038904527577781067, 12.616404905251018]\n",
       " [0.21222744353468073, 0.8688428810128037, -0.003744105746591231, 12.615196962472165]\n",
       " [0.2121978443228737, 0.8687285188827745, -0.003598429965450123, 12.614014406227774]\n",
       " [0.21216704807340958, 0.8686204861433712, -0.003511309893987402, 12.612868196621829]\n",
       " [0.21213495192232845, 0.8685200777095246, -0.0035166890865898637, 12.611643914511212]\n",
       " [0.21210468194376497, 0.8684093279860373, -0.003729997430655274, 12.610362469349171]\n",
       " [0.21207583880676356, 0.8682915216985732, -0.0038808414287103687, 12.609044506502437]\n",
       " [0.21204780552697755, 0.8681700626777211, -0.0039501616164390185, 12.607730258771204]\n",
       " [0.2120191394062626, 0.8680515418920314, -0.003990311778897748, 12.606368430649576]"
      ]
     },
     "execution_count": 9,
     "metadata": {},
     "output_type": "execute_result"
    }
   ],
   "source": [
    "samples_mchmc = Sample(spl, target, 20000;\n",
    "                       monitor_energy=true, \n",
    "                       dialog=true,\n",
    "                       initial_x = [0.2360, 0.8684])"
   ]
  },
  {
   "cell_type": "code",
   "execution_count": 10,
   "id": "385a8b1a",
   "metadata": {},
   "outputs": [],
   "source": [
    "Wms_mchmc = [sample[1] for sample in samples_mchmc]\n",
    "s8s_mchmc = [sample[2] for sample in samples_mchmc];"
   ]
  },
  {
   "cell_type": "code",
   "execution_count": 11,
   "id": "2a803eb8",
   "metadata": {},
   "outputs": [
    {
     "data": {
      "image/png": "[encoded data removed]",
      "text/plain": [
       "Figure(PyObject <Figure size 640x480 with 1 Axes>)"
      ]
     },
     "metadata": {},
     "output_type": "display_data"
    }
   ],
   "source": [
    "plt.hist2d(Wms_mchmc, s8s_mchmc, bins=100, range=[[0.1, 0.4],[0.6, 1.2]]);\n",
    "plt.xlabel(\"Wm\")\n",
    "plt.ylabel(\"s8\")\n",
    "plt.title(\"MCHMC - RSD model - eps = 0.001 --> var[E]~0.00003\");"
   ]
  },
  {
   "cell_type": "markdown",
   "id": "0a03dd58",
   "metadata": {},
   "source": [
    "## AbstractMCMC"
   ]
  },
  {
   "cell_type": "code",
   "execution_count": 12,
   "id": "d569b9dc",
   "metadata": {},
   "outputs": [
    {
     "name": "stderr",
     "output_type": "stream",
     "text": [
      "\u001b[36m\u001b[1m[ \u001b[22m\u001b[39m\u001b[36m\u001b[1mInfo: \u001b[22m\u001b[39mTuning eps ⏳\n"
     ]
    },
    {
     "name": "stdout",
     "output_type": "stream",
     "text": [
      "eps: 0.5 --> VarE: NaN\n",
      "eps: 0.25 --> VarE: NaN\n",
      "eps: 0.125 --> VarE: 119933.92318887921\n",
      "eps: 0.0625 --> VarE: 58766.619063702405\n",
      "eps: 0.03125 --> VarE: 27878.24787153446\n",
      "eps: 0.015625 --> VarE: 12372.444959427163\n",
      "eps: 0.0078125 --> VarE: 4605.866142124574\n",
      "eps: 0.00390625 --> VarE: 785.3154256782931\n",
      "eps: 0.001953125 --> VarE: 12.394882266917906\n",
      "eps: 0.0009765625 --> VarE: 3.325926054572447\n",
      "samples: 100--> ESS: 0.012726936710868279\n",
      "samples: 243--> ESS: 0.005020935083480868\n",
      "samples: 447--> ESS: 0.002682146465327753\n",
      "samples: 739--> ESS: 0.002277905884410017\n"
     ]
    },
    {
     "name": "stderr",
     "output_type": "stream",
     "text": [
      "\u001b[36m\u001b[1m[ \u001b[22m\u001b[39m\u001b[36m\u001b[1mInfo: \u001b[22m\u001b[39mTuning L ⏳\n"
     ]
    },
    {
     "name": "stdout",
     "output_type": "stream",
     "text": [
      "samples: 1157--> ESS: 0.0021901162276408994\n",
      "samples: 1755--> ESS: 0.0021276300292069877\n",
      "samples: 2610--> ESS: 0.0020877416501127585\n",
      "samples: 3833--> ESS: 0.0020598897714137034\n",
      "samples: 5581--> ESS: 0.0020412187003093106\n"
     ]
    },
    {
     "name": "stderr",
     "output_type": "stream",
     "text": [
      "\u001b[36m\u001b[1m[ \u001b[22m\u001b[39m\u001b[36m\u001b[1mInfo: \u001b[22m\u001b[39mFound L: 1.4142135623730951 ✅\n",
      "\u001b[32mSampling: 100%|█████████████████████████████████████████| Time: 0:00:01\u001b[39m\n"
     ]
    },
    {
     "data": {
      "text/plain": [
       "Chains MCMC chain (10000×4×1 Array{Float64, 3}):\n",
       "\n",
       "Iterations        = 1:1:10000\n",
       "Number of chains  = 1\n",
       "Samples per chain = 10000\n",
       "Wall duration     = 4.05 seconds\n",
       "Compute duration  = 4.05 seconds\n",
       "parameters        = Ωm, σ8\n",
       "internals         = E, logp\n",
       "\n",
       "Summary Statistics\n",
       " \u001b[1m parameters \u001b[0m \u001b[1m    mean \u001b[0m \u001b[1m     std \u001b[0m \u001b[1m naive_se \u001b[0m \u001b[1m    mcse \u001b[0m \u001b[1m     ess \u001b[0m \u001b[1m    rhat \u001b[0m \u001b[1m es\u001b[0m ⋯\n",
       " \u001b[90m     Symbol \u001b[0m \u001b[90m Float64 \u001b[0m \u001b[90m Float64 \u001b[0m \u001b[90m  Float64 \u001b[0m \u001b[90m Float64 \u001b[0m \u001b[90m Float64 \u001b[0m \u001b[90m Float64 \u001b[0m \u001b[90m   \u001b[0m ⋯\n",
       "\n",
       "          Ωm    0.3083    0.0189     0.0002    0.0019   20.3166    2.2922      ⋯\n",
       "          σ8    4.4713    2.5896     0.0259    0.2602   20.1746    2.9169      ⋯\n",
       "\u001b[36m                                                                1 column omitted\u001b[0m\n",
       "\n",
       "Quantiles\n",
       " \u001b[1m parameters \u001b[0m \u001b[1m    2.5% \u001b[0m \u001b[1m   25.0% \u001b[0m \u001b[1m   50.0% \u001b[0m \u001b[1m   75.0% \u001b[0m \u001b[1m   97.5% \u001b[0m\n",
       " \u001b[90m     Symbol \u001b[0m \u001b[90m Float64 \u001b[0m \u001b[90m Float64 \u001b[0m \u001b[90m Float64 \u001b[0m \u001b[90m Float64 \u001b[0m \u001b[90m Float64 \u001b[0m\n",
       "\n",
       "          Ωm    0.2794    0.2934    0.3055    0.3217    0.3471\n",
       "          σ8    1.0543    1.9662    4.1248    6.9349    8.7090\n"
      ]
     },
     "execution_count": 12,
     "metadata": {},
     "output_type": "execute_result"
    }
   ],
   "source": [
    "samples = sample(\n",
    "    stat_model, MCHMC(varE_wanted=2.0), 10000;\n",
    "    monitor_energy=true, \n",
    "    dialog=true)"
   ]
  },
  {
   "cell_type": "code",
   "execution_count": 13,
   "id": "eea6e813",
   "metadata": {},
   "outputs": [
    {
     "name": "stderr",
     "output_type": "stream",
     "text": [
      "\u001b[32mSampling: 100%|█████████████████████████████████████████| Time: 0:00:00\u001b[39m\n"
     ]
    },
    {
     "data": {
      "text/plain": [
       "Chains MCMC chain (10000×4×1 Array{Float64, 3}):\n",
       "\n",
       "Iterations        = 1:1:10000\n",
       "Number of chains  = 1\n",
       "Samples per chain = 10000\n",
       "Wall duration     = 1.26 seconds\n",
       "Compute duration  = 1.26 seconds\n",
       "parameters        = Ωm, σ8\n",
       "internals         = E, logp\n",
       "\n",
       "Summary Statistics\n",
       " \u001b[1m parameters \u001b[0m \u001b[1m    mean \u001b[0m \u001b[1m     std \u001b[0m \u001b[1m naive_se \u001b[0m \u001b[1m    mcse \u001b[0m \u001b[1m     ess \u001b[0m \u001b[1m    rhat \u001b[0m \u001b[1m es\u001b[0m ⋯\n",
       " \u001b[90m     Symbol \u001b[0m \u001b[90m Float64 \u001b[0m \u001b[90m Float64 \u001b[0m \u001b[90m  Float64 \u001b[0m \u001b[90m Float64 \u001b[0m \u001b[90m Float64 \u001b[0m \u001b[90m Float64 \u001b[0m \u001b[90m   \u001b[0m ⋯\n",
       "\n",
       "          Ωm    0.3082    0.0188     0.0002    0.0019   20.3011    2.3053      ⋯\n",
       "          σ8    4.4715    2.5896     0.0259    0.2602   20.1747    2.9168      ⋯\n",
       "\u001b[36m                                                                1 column omitted\u001b[0m\n",
       "\n",
       "Quantiles\n",
       " \u001b[1m parameters \u001b[0m \u001b[1m    2.5% \u001b[0m \u001b[1m   25.0% \u001b[0m \u001b[1m   50.0% \u001b[0m \u001b[1m   75.0% \u001b[0m \u001b[1m   97.5% \u001b[0m\n",
       " \u001b[90m     Symbol \u001b[0m \u001b[90m Float64 \u001b[0m \u001b[90m Float64 \u001b[0m \u001b[90m Float64 \u001b[0m \u001b[90m Float64 \u001b[0m \u001b[90m Float64 \u001b[0m\n",
       "\n",
       "          Ωm    0.2804    0.2933    0.3054    0.3216    0.3470\n",
       "          σ8    1.0536    1.9662    4.1249    6.9350    8.7091\n"
      ]
     },
     "execution_count": 13,
     "metadata": {},
     "output_type": "execute_result"
    }
   ],
   "source": [
    "new_samples = sample(stat_model, MCHMC(varE_wanted=2.0), 10000; \n",
    "                     monitor_energy=true, \n",
    "                     progress=true, resume_from=samples)"
   ]
  },
  {
   "cell_type": "code",
   "execution_count": 14,
   "id": "8b47bac3",
   "metadata": {},
   "outputs": [],
   "source": [
    "#StatsPlots.plot(new_samples)"
   ]
  },
  {
   "cell_type": "markdown",
   "id": "4aadd3b5",
   "metadata": {},
   "source": [
    "## NUTS"
   ]
  },
  {
   "cell_type": "code",
   "execution_count": 15,
   "id": "dcbe40a3",
   "metadata": {},
   "outputs": [
    {
     "name": "stderr",
     "output_type": "stream",
     "text": [
      "\u001b[36m\u001b[1m┌ \u001b[22m\u001b[39m\u001b[36m\u001b[1mInfo: \u001b[22m\u001b[39mFound initial step size\n",
      "\u001b[36m\u001b[1m└ \u001b[22m\u001b[39m  ϵ = 0.025\n",
      "\u001b[33m\u001b[1m┌ \u001b[22m\u001b[39m\u001b[33m\u001b[1mWarning: \u001b[22m\u001b[39mThe current proposal will be rejected due to numerical error(s).\n",
      "\u001b[33m\u001b[1m│ \u001b[22m\u001b[39m  isfinite.((θ, r, ℓπ, ℓκ)) = (true, false, false, false)\n",
      "\u001b[33m\u001b[1m└ \u001b[22m\u001b[39m\u001b[90m@ AdvancedHMC ~/.julia/packages/AdvancedHMC/4fByY/src/hamiltonian.jl:49\u001b[39m\n",
      "\u001b[33m\u001b[1m┌ \u001b[22m\u001b[39m\u001b[33m\u001b[1mWarning: \u001b[22m\u001b[39mThe current proposal will be rejected due to numerical error(s).\n",
      "\u001b[33m\u001b[1m│ \u001b[22m\u001b[39m  isfinite.((θ, r, ℓπ, ℓκ)) = (true, false, false, false)\n",
      "\u001b[33m\u001b[1m└ \u001b[22m\u001b[39m\u001b[90m@ AdvancedHMC ~/.julia/packages/AdvancedHMC/4fByY/src/hamiltonian.jl:49\u001b[39m\n",
      "\u001b[33m\u001b[1m┌ \u001b[22m\u001b[39m\u001b[33m\u001b[1mWarning: \u001b[22m\u001b[39mThe current proposal will be rejected due to numerical error(s).\n",
      "\u001b[33m\u001b[1m│ \u001b[22m\u001b[39m  isfinite.((θ, r, ℓπ, ℓκ)) = (true, false, false, false)\n",
      "\u001b[33m\u001b[1m└ \u001b[22m\u001b[39m\u001b[90m@ AdvancedHMC ~/.julia/packages/AdvancedHMC/4fByY/src/hamiltonian.jl:49\u001b[39m\n",
      "\u001b[33m\u001b[1m┌ \u001b[22m\u001b[39m\u001b[33m\u001b[1mWarning: \u001b[22m\u001b[39mThe current proposal will be rejected due to numerical error(s).\n",
      "\u001b[33m\u001b[1m│ \u001b[22m\u001b[39m  isfinite.((θ, r, ℓπ, ℓκ)) = (true, false, false, false)\n",
      "\u001b[33m\u001b[1m└ \u001b[22m\u001b[39m\u001b[90m@ AdvancedHMC ~/.julia/packages/AdvancedHMC/4fByY/src/hamiltonian.jl:49\u001b[39m\n",
      "\u001b[32mSampling:   4%|█▋                                       |  ETA: 0:00:03\u001b[39m\u001b[33m\u001b[1m┌ \u001b[22m\u001b[39m\u001b[33m\u001b[1mWarning: \u001b[22m\u001b[39mThe current proposal will be rejected due to numerical error(s).\n",
      "\u001b[33m\u001b[1m│ \u001b[22m\u001b[39m  isfinite.((θ, r, ℓπ, ℓκ)) = (true, false, false, false)\n",
      "\u001b[33m\u001b[1m└ \u001b[22m\u001b[39m\u001b[90m@ AdvancedHMC ~/.julia/packages/AdvancedHMC/4fByY/src/hamiltonian.jl:49\u001b[39m\n",
      "\u001b[33m\u001b[1m┌ \u001b[22m\u001b[39m\u001b[33m\u001b[1mWarning: \u001b[22m\u001b[39mThe current proposal will be rejected due to numerical error(s).\n",
      "\u001b[33m\u001b[1m│ \u001b[22m\u001b[39m  isfinite.((θ, r, ℓπ, ℓκ)) = (true, false, false, false)\n",
      "\u001b[33m\u001b[1m└ \u001b[22m\u001b[39m\u001b[90m@ AdvancedHMC ~/.julia/packages/AdvancedHMC/4fByY/src/hamiltonian.jl:49\u001b[39m\n",
      "\u001b[32mSampling: 100%|█████████████████████████████████████████| Time: 0:00:02\u001b[39m\n"
     ]
    },
    {
     "data": {
      "text/plain": [
       "Chains MCMC chain (10000×14×1 Array{Float64, 3}):\n",
       "\n",
       "Iterations        = 501:1:10500\n",
       "Number of chains  = 1\n",
       "Samples per chain = 10000\n",
       "Wall duration     = 6.98 seconds\n",
       "Compute duration  = 6.98 seconds\n",
       "parameters        = Ωm, σ8\n",
       "internals         = lp, n_steps, is_accept, acceptance_rate, log_density, hamiltonian_energy, hamiltonian_energy_error, max_hamiltonian_energy_error, tree_depth, numerical_error, step_size, nom_step_size\n",
       "\n",
       "Summary Statistics\n",
       " \u001b[1m parameters \u001b[0m \u001b[1m    mean \u001b[0m \u001b[1m     std \u001b[0m \u001b[1m naive_se \u001b[0m \u001b[1m    mcse \u001b[0m \u001b[1m       ess \u001b[0m \u001b[1m    rhat \u001b[0m \u001b[1m \u001b[0m ⋯\n",
       " \u001b[90m     Symbol \u001b[0m \u001b[90m Float64 \u001b[0m \u001b[90m Float64 \u001b[0m \u001b[90m  Float64 \u001b[0m \u001b[90m Float64 \u001b[0m \u001b[90m   Float64 \u001b[0m \u001b[90m Float64 \u001b[0m \u001b[90m \u001b[0m ⋯\n",
       "\n",
       "          Ωm    0.2356    0.0675     0.0007    0.0012   2688.1702    1.0002    ⋯\n",
       "          σ8    0.8688    0.0645     0.0006    0.0012   2464.4062    1.0011    ⋯\n",
       "\u001b[36m                                                                1 column omitted\u001b[0m\n",
       "\n",
       "Quantiles\n",
       " \u001b[1m parameters \u001b[0m \u001b[1m    2.5% \u001b[0m \u001b[1m   25.0% \u001b[0m \u001b[1m   50.0% \u001b[0m \u001b[1m   75.0% \u001b[0m \u001b[1m   97.5% \u001b[0m\n",
       " \u001b[90m     Symbol \u001b[0m \u001b[90m Float64 \u001b[0m \u001b[90m Float64 \u001b[0m \u001b[90m Float64 \u001b[0m \u001b[90m Float64 \u001b[0m \u001b[90m Float64 \u001b[0m\n",
       "\n",
       "          Ωm    0.1262    0.1862    0.2281    0.2750    0.3903\n",
       "          σ8    0.7553    0.8238    0.8640    0.9092    1.0100\n"
      ]
     },
     "execution_count": 15,
     "metadata": {},
     "output_type": "execute_result"
    }
   ],
   "source": [
    "samples_hmc = sample(stat_model, NUTS(500, 0.65),\n",
    "                     10000, progress=true; save_state=true)"
   ]
  },
  {
   "cell_type": "code",
   "execution_count": 16,
   "id": "623ba990",
   "metadata": {},
   "outputs": [
    {
     "data": {
      "text/plain": [
       "3-dimensional AxisArray{Float64,3,...} with axes:\n",
       "    :iter, 501:1:10500\n",
       "    :var, [:Ωm, :σ8, :lp, :n_steps, :is_accept, :acceptance_rate, :log_density, :hamiltonian_energy, :hamiltonian_energy_error, :max_hamiltonian_energy_error, :tree_depth, :numerical_error, :step_size, :nom_step_size]\n",
       "    :chain, 1:1\n",
       "And data, a 10000×14×1 Array{Float64, 3}:\n",
       "[:, :, 1] =\n",
       " 0.164146  0.866072  10.7205  3.0  1.0  …  2.0  0.0  0.518996  0.518996\n",
       " 0.171257  0.886016  11.7714  7.0  1.0     3.0  0.0  0.518996  0.518996\n",
       " 0.201927  0.892377  12.6055  7.0  1.0     3.0  0.0  0.518996  0.518996\n",
       " 0.20791   0.884927  12.6439  3.0  1.0     2.0  0.0  0.518996  0.518996\n",
       " 0.181269  0.84689   11.0785  3.0  1.0     2.0  0.0  0.518996  0.518996\n",
       " 0.208546  0.880929  12.6449  5.0  1.0  …  2.0  0.0  0.518996  0.518996\n",
       " 0.237731  0.864187  12.6422  7.0  1.0     2.0  0.0  0.518996  0.518996\n",
       " 0.315184  0.847738  11.3332  7.0  1.0     2.0  0.0  0.518996  0.518996\n",
       " 0.315184  0.847738  11.3332  3.0  1.0     1.0  0.0  0.518996  0.518996\n",
       " 0.15953   0.899129  11.4306  5.0  1.0     2.0  0.0  0.518996  0.518996\n",
       " 0.152413  1.0232     9.8396  3.0  1.0  …  2.0  0.0  0.518996  0.518996\n",
       " 0.148671  0.899913  10.672   7.0  1.0     2.0  0.0  0.518996  0.518996\n",
       " 0.233822  0.84346   12.5227  7.0  1.0     2.0  0.0  0.518996  0.518996\n",
       " ⋮                                      ⋱  ⋮                   \n",
       " 0.273274  0.852359  12.2788  5.0  1.0     2.0  0.0  0.518996  0.518996\n",
       " 0.316493  0.871516  10.4363  1.0  1.0     1.0  0.0  0.518996  0.518996\n",
       " 0.328037  0.850311  10.8405  3.0  1.0  …  1.0  0.0  0.518996  0.518996\n",
       " 0.162594  0.879576  11.0934  5.0  1.0     2.0  0.0  0.518996  0.518996\n",
       " 0.310009  0.854739  11.2991  7.0  1.0     2.0  0.0  0.518996  0.518996\n",
       " 0.273539  0.768514  10.5726  3.0  1.0     2.0  0.0  0.518996  0.518996\n",
       " 0.275136  0.785251  11.356   3.0  1.0     2.0  0.0  0.518996  0.518996\n",
       " 0.299918  0.798431  11.7753  7.0  1.0  …  3.0  0.0  0.518996  0.518996\n",
       " 0.268318  0.882029  11.7598  7.0  1.0     2.0  0.0  0.518996  0.518996\n",
       " 0.227381  0.908062  12.1105  7.0  1.0     2.0  0.0  0.518996  0.518996\n",
       " 0.227381  0.908062  12.1105  7.0  1.0     2.0  0.0  0.518996  0.518996\n",
       " 0.222241  0.835303  12.2056  5.0  1.0     2.0  0.0  0.518996  0.518996"
      ]
     },
     "execution_count": 16,
     "metadata": {},
     "output_type": "execute_result"
    }
   ],
   "source": [
    "samples_hmc.value"
   ]
  },
  {
   "cell_type": "code",
   "execution_count": 17,
   "id": "fa9db828",
   "metadata": {},
   "outputs": [],
   "source": [
    "Wms_hmc = vec(samples_hmc[\"Ωm\"])\n",
    "s8s_hmc = vec(samples_hmc[\"σ8\"]);"
   ]
  },
  {
   "cell_type": "code",
   "execution_count": 18,
   "id": "3d063a52",
   "metadata": {},
   "outputs": [
    {
     "data": {
      "image/png": "[encoded data removed]",
      "text/plain": [
       "Figure(PyObject <Figure size 640x480 with 1 Axes>)"
      ]
     },
     "metadata": {},
     "output_type": "display_data"
    }
   ],
   "source": [
    "plt.hist2d(Wms_hmc, s8s_hmc, bins=100, range=[[0.1, 0.4],[0.6, 1.2]]);\n",
    "plt.xlabel(\"Wm\")\n",
    "plt.ylabel(\"s8\")\n",
    "plt.title(\"HMC - RSD model\");"
   ]
  }
 ],
 "metadata": {
  "kernelspec": {
   "display_name": "MicroCanonicalHMC 8 threads 1.8.1",
   "language": "julia",
   "name": "microcanonicalhmc-8-threads-1.8"
  },
  "language_info": {
   "file_extension": ".jl",
   "mimetype": "application/julia",
   "name": "julia",
   "version": "1.8.1"
  }
 },
 "nbformat": 4,
 "nbformat_minor": 5
}
